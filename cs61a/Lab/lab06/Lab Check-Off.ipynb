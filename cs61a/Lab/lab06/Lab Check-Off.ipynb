{
 "cells": [
  {
   "cell_type": "markdown",
   "metadata": {},
   "source": [
    "# Q1: To Tree or Not to Tree"
   ]
  },
  {
   "cell_type": "markdown",
   "metadata": {},
   "source": [
    "Say we have the following function,"
   ]
  },
  {
   "cell_type": "code",
   "execution_count": null,
   "metadata": {},
   "outputs": [],
   "source": [
    "def sum_tree(t):\n",
    "    \"\"\" Computes the sum of all the nodes in a tree\"\"\"\n",
    "    if is_leaf(t):\n",
    "        return t\n",
    "    else:\n",
    "        return t + sum([sum_tree(b) for b in branches(t)])"
   ]
  },
  {
   "cell_type": "markdown",
   "metadata": {},
   "source": [
    "Does this work?\n",
    "\n",
    "**Ans**: Yes, but we are returning the wrong type of data.\n",
    "\n",
    "1. What type of data are we trying to return?\n",
    "    * We are trying to return an integer since `sum_tree` is supposed to compute the sum, but in the function definition, it returns `t`, which is a tree.\n",
    "2. Are we passing in the correct type of data into `sum_tree` in each recursive call?\n",
    "    * Yes. recursive `sum_tree` takes each branches, which is also a tree.\n",
    "3. What kind of data is `t`?\n",
    "    * A tree"
   ]
  },
  {
   "cell_type": "code",
   "execution_count": null,
   "metadata": {},
   "outputs": [],
   "source": []
  }
 ],
 "metadata": {
  "kernelspec": {
   "display_name": "Python 3",
   "language": "python",
   "name": "python3"
  },
  "language_info": {
   "codemirror_mode": {
    "name": "ipython",
    "version": 3
   },
   "file_extension": ".py",
   "mimetype": "text/x-python",
   "name": "python",
   "nbconvert_exporter": "python",
   "pygments_lexer": "ipython3",
   "version": "3.6.8"
  }
 },
 "nbformat": 4,
 "nbformat_minor": 2
}
