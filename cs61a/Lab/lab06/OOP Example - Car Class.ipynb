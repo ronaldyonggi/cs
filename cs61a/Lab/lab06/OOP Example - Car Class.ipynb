{
 "cells": [
  {
   "cell_type": "markdown",
   "metadata": {},
   "source": [
    "# OOP Example: `Car` Class"
   ]
  },
  {
   "cell_type": "markdown",
   "metadata": {},
   "source": [
    "Professor DeNero is running late, and needs to get from San Francisco to Berkeley before lecture starts. He'd take BART, but that will take too long. It'd be great if he had a car. A monster truck would be best, but a car will do -- for now...\n",
    "\n",
    "A `class` is a blueprint for creating objects of that type. In this case, the `Car` class statement tells us how to create `Car` objects."
   ]
  },
  {
   "cell_type": "markdown",
   "metadata": {},
   "source": [
    "## Constructor"
   ]
  },
  {
   "cell_type": "markdown",
   "metadata": {},
   "source": [
    "The `constructor` of a class is a function that creates an `instance`, or a single occurence, of the object outlined by the class. In Python, the constructor method is named `__init__`. The `Car` class's constructor looks like the following,"
   ]
  },
  {
   "cell_type": "code",
   "execution_count": null,
   "metadata": {},
   "outputs": [],
   "source": [
    "def __init__(self, make, model):\n",
    "    self.make = make\n",
    "    self.model = model\n",
    "    self.color = 'No color yet. You need to paint me.'\n",
    "    self.wheels = Car.num_wheels\n",
    "    self.gas = Car.gas"
   ]
  },
  {
   "cell_type": "markdown",
   "metadata": {},
   "source": [
    "The `__init__` method for `Car` has 3 parameters. The first one, `self`, is automatically bound to the newly created `Car` object. The second and third parameters, `make` and `model`, are bound to the arguments passed to the constructor. This means when we make a `Car` object, we must provide `make` and `model`.\n",
    "\n",
    "Let's make a car. Professor DeNero would like to drive a Tesla Mdoel S to lecture. We can construct an instance of `Car` with:\n",
    "1. `make` = `Tesla`\n",
    "2. `model` = `Model S`\n",
    "\n",
    "Rather than calling `__init__` explicitly, Python allows us to make an instance of a class by using the name of the class. "
   ]
  },
  {
   "cell_type": "code",
   "execution_count": 2,
   "metadata": {},
   "outputs": [],
   "source": [
    "deneros_car = Car('Tesla', 'Model S')"
   ]
  },
  {
   "cell_type": "markdown",
   "metadata": {},
   "source": [
    "Here, `Tesla` is passed in as the `make` and `Model S` as the `model`. Note that we don't pass in an argument for `self`, since its value is always the object being created. An `object` is an instance of a class. In this case, `deneros_car` is now bound to a `Car` object or, in other words, an instance of the `Car` class."
   ]
  },
  {
   "cell_type": "markdown",
   "metadata": {},
   "source": [
    "## Attributes"
   ]
  },
  {
   "cell_type": "markdown",
   "metadata": {},
   "source": [
    "How are the `make` and `model` of Professor DeNero's car actually stored? Let's talk about **attributes** of instances and classes. Here's a snippet of the code in `car.py`."
   ]
  },
  {
   "cell_type": "code",
   "execution_count": 1,
   "metadata": {},
   "outputs": [],
   "source": [
    "class Car(object):\n",
    "    num_wheels = 4\n",
    "    gas = 30\n",
    "    headlights = 2\n",
    "    size = 'Tiny'\n",
    "    \n",
    "    def __init__(self, make, model):\n",
    "        self.make = make\n",
    "        self.model = model\n",
    "        self.color = 'No color yet. You need to paint me.'\n",
    "        self.wheels = Car.num_wheels\n",
    "        self.gas = Car.gas\n",
    "        \n",
    "    def paint(self, color):\n",
    "        self.color = color\n",
    "        return self.make + ' ' + self.model + ' is now ' + color\n",
    "    \n",
    "    def drive(self):\n",
    "        if self.wheels < Car.num_wheels or self.gas <= 0:\n",
    "            return self.make + ' ' + self.model + ' cannot drive!'\n",
    "        self.gas -= 10\n",
    "        return self.make + ' ' + self.model + ' goes vroom!'\n",
    "    \n",
    "    def pop_tire(self):\n",
    "        if self.wheels > 0:\n",
    "            self.wheels -= 1\n",
    "            \n",
    "    def fill_gas(self):\n",
    "        self.gas += 20\n",
    "        return self.make + ' ' + self.model + ' gas level: ' + str(self.gas)\n",
    "            "
   ]
  },
  {
   "cell_type": "markdown",
   "metadata": {},
   "source": [
    "An `instance attribute` is a quality or variable that is specific to an instance, and not the class itself. In the constructor (`__init__` method),"
   ]
  },
  {
   "cell_type": "code",
   "execution_count": null,
   "metadata": {},
   "outputs": [],
   "source": [
    "def __init__(self, make, model):\n",
    "        self.make = make\n",
    "        self.model = model"
   ]
  },
  {
   "cell_type": "markdown",
   "metadata": {},
   "source": [
    "1. `self.make` is bound to the first arugment passed to the constructor\n",
    "2. `self.model` is bound to the second\n",
    "\n",
    "These are 2 examples of the instance attributes. Instance attributes are accessed via dot`.` notation. In this case, `self` is bound to our instance, so `self.model` refers to the instance's model. When we create `deneros_car`, the attributes of `deneros_car` do not affect the attributes of other cars."
   ]
  },
  {
   "cell_type": "markdown",
   "metadata": {},
   "source": [
    "On the other hand, a `class attribute` is a quality that is shared among **all** instances of the class. A `Car` class has 4 class attributes defined at the beginning of the class:\n",
    "1. `num_wheels = 4`\n",
    "2. `gas = 30`\n",
    "3. `headlights = 2`\n",
    "4. `size = 'Tiny'`\n",
    "\n",
    "Now back to the constructor,"
   ]
  },
  {
   "cell_type": "code",
   "execution_count": null,
   "metadata": {},
   "outputs": [],
   "source": [
    "def __init__(self, make, model):\n",
    "        self.gas = Car.gas"
   ]
  },
  {
   "cell_type": "markdown",
   "metadata": {},
   "source": [
    "The instance attribute `gas` is initialized to the value of `Car.gas`, the class attribute. We might ask, why can't we just don't use the `self.gas` at all and just use the class attribute?"
   ]
  },
  {
   "cell_type": "code",
   "execution_count": null,
   "metadata": {},
   "outputs": [],
   "source": [
    "class Car(object):\n",
    "    num_wheels = 4\n",
    "    gas = 30\n",
    "    headlights = 2\n",
    "    size = 'Tiny'\n",
    "    \n",
    "    def __init__(self, make, model):\n",
    "        self.make = make\n",
    "        self.model = model\n",
    "        self.color = 'No color yet. You need to paint me.'\n",
    "        self.wheels = Car.num_wheels\n",
    "        #Use the class's gas attribute"
   ]
  },
  {
   "cell_type": "markdown",
   "metadata": {},
   "source": [
    "Each `Car`'s `gas` attribute changes independently. When a `Car` drives, it use up some `gas`, but it shouldn't affect other `Car`'s `gas`. "
   ]
  },
  {
   "cell_type": "markdown",
   "metadata": {},
   "source": [
    "## Dot Notation"
   ]
  },
  {
   "cell_type": "markdown",
   "metadata": {},
   "source": [
    "`Class` attributes can also be accessed using dot notation, both on an instance and on the class name itself. For example, we can access the class attribute `size` of `Car` like the following,"
   ]
  },
  {
   "cell_type": "code",
   "execution_count": 4,
   "metadata": {},
   "outputs": [
    {
     "data": {
      "text/plain": [
       "'Tiny'"
      ]
     },
     "execution_count": 4,
     "metadata": {},
     "output_type": "execute_result"
    }
   ],
   "source": [
    "Car.size"
   ]
  },
  {
   "cell_type": "markdown",
   "metadata": {},
   "source": [
    "And below, we access `denero_car`'s `color` attribute,"
   ]
  },
  {
   "cell_type": "code",
   "execution_count": 7,
   "metadata": {},
   "outputs": [
    {
     "data": {
      "text/plain": [
       "'No color yet. You need to paint me.'"
      ]
     },
     "execution_count": 7,
     "metadata": {},
     "output_type": "execute_result"
    }
   ],
   "source": [
    "deneros_car.color"
   ]
  },
  {
   "cell_type": "markdown",
   "metadata": {},
   "source": [
    "## Methods"
   ]
  },
  {
   "cell_type": "markdown",
   "metadata": {},
   "source": [
    "`Methods` are functions that are specific to a class; only an instance of the class can use them. We can think of methods as objects' actions or abilities. We can call methods on an instance via dot `.` notation."
   ]
  },
  {
   "cell_type": "code",
   "execution_count": 3,
   "metadata": {},
   "outputs": [
    {
     "data": {
      "text/plain": [
       "'Tesla Model S is now black'"
      ]
     },
     "execution_count": 3,
     "metadata": {},
     "output_type": "execute_result"
    }
   ],
   "source": [
    "deneros_car.paint('black')"
   ]
  },
  {
   "cell_type": "code",
   "execution_count": 4,
   "metadata": {},
   "outputs": [
    {
     "data": {
      "text/plain": [
       "'black'"
      ]
     },
     "execution_count": 4,
     "metadata": {},
     "output_type": "execute_result"
    }
   ],
   "source": [
    "deneros_car.color"
   ]
  },
  {
   "cell_type": "markdown",
   "metadata": {},
   "source": [
    "If we look again at the `paint` method,"
   ]
  },
  {
   "cell_type": "code",
   "execution_count": null,
   "metadata": {},
   "outputs": [],
   "source": [
    "def paint(self, color):\n",
    "        self.color = color\n",
    "        return self.make + ' ' + self.model + ' is now ' + color"
   ]
  },
  {
   "cell_type": "markdown",
   "metadata": {},
   "source": [
    "The `paint` method takes 2 parameters, but why does it work with only just 1 argument?\n",
    "\n",
    "All methods of a class have a `self` parameter to which Python automatically binds the instance that is calling that method. In this case, `deneros_car` is bound to `self` so that the body of `paint` can access its attributes.\n",
    "\n",
    "We can also call methods using the `class` name and dot `.` notation."
   ]
  },
  {
   "cell_type": "code",
   "execution_count": null,
   "metadata": {},
   "outputs": [],
   "source": [
    "Car.paint(deneros_car, 'red')"
   ]
  },
  {
   "cell_type": "markdown",
   "metadata": {},
   "source": [
    "This time, we passed in 2 arguments:\n",
    "1. `deneros_car` is a `self`\n",
    "2. `'red'` is a `color`\n",
    "\n",
    "\n",
    "When we call a method using dot `.` notation from an **instance**, Python knows what instance to automatically bind to `self`. \n",
    "\n",
    "When we call a method from a `class`, Python doesn't know which instance of `Car` we're referring to, so we have to pass in the instance as well."
   ]
  },
  {
   "cell_type": "markdown",
   "metadata": {},
   "source": [
    "## Inheritance"
   ]
  },
  {
   "cell_type": "markdown",
   "metadata": {},
   "source": [
    "Professor DeNero's wants a bigger car! How about we create a monster truck for him?"
   ]
  },
  {
   "cell_type": "code",
   "execution_count": null,
   "metadata": {},
   "outputs": [],
   "source": [
    "class MonsterTruck(Car):\n",
    "    size = 'Monster'\n",
    "    \n",
    "    def rev(self):\n",
    "        print('Vroom! This Monster Truck is huge!')\n",
    "        \n",
    "    def drive(self):\n",
    "        self.rev()\n",
    "        return Car.drive(self)"
   ]
  },
  {
   "cell_type": "markdown",
   "metadata": {},
   "source": [
    "Let's create a new instance of Professor DeNero's monster truck,"
   ]
  },
  {
   "cell_type": "code",
   "execution_count": null,
   "metadata": {},
   "outputs": [],
   "source": [
    "deneros_truck = MonsterTruck('Monster Truck', 'XXL')"
   ]
  },
  {
   "cell_type": "markdown",
   "metadata": {},
   "source": [
    "The class `MonsterTruck` is defined as `class MonsterTruck(Car)`, meaning its superclass is `Car`. We can also say that the class `MonsterTruck` is a `subclass` of the `Car` class. \n",
    "\n",
    "Either way, this means the `MonsterTruck` class **inherits all the attributes and methods** that were defined in `Car`, including its constructor!\n",
    "\n",
    "**Inheritance** makes setting up a hierarchy of classes easier since it reduces the need to define a new class of objects. We only need to add (or **override**) new attributes or methods that we want to be unique from those in the superclass."
   ]
  },
  {
   "cell_type": "code",
   "execution_count": null,
   "metadata": {},
   "outputs": [],
   "source": [
    "deneros_car.size"
   ]
  },
  {
   "cell_type": "code",
   "execution_count": null,
   "metadata": {},
   "outputs": [],
   "source": [
    "deneros_truck.size"
   ]
  },
  {
   "cell_type": "markdown",
   "metadata": {},
   "source": [
    "As we can see above, the `class` attribute `size` of `MonsterTruck` overrides the `size` class attribute of `Car`. Thus, all `MonsterTruck` instances are `Monster`-sized.\n",
    "\n",
    "In addition to the `size` attribute, the `drive` method in `MonsterTruck` overrides the `Car`'s `drive` method. To show off all `MonsterTruck` instances, we defined a `rev` method specific to `MonsterClass`. Regular `Car`s cannot `rev`!"
   ]
  },
  {
   "cell_type": "markdown",
   "metadata": {},
   "source": []
  },
  {
   "cell_type": "markdown",
   "metadata": {},
   "source": []
  }
 ],
 "metadata": {
  "kernelspec": {
   "display_name": "Python 3",
   "language": "python",
   "name": "python3"
  },
  "language_info": {
   "codemirror_mode": {
    "name": "ipython",
    "version": 3
   },
   "file_extension": ".py",
   "mimetype": "text/x-python",
   "name": "python",
   "nbconvert_exporter": "python",
   "pygments_lexer": "ipython3",
   "version": "3.6.8"
  }
 },
 "nbformat": 4,
 "nbformat_minor": 2
}
