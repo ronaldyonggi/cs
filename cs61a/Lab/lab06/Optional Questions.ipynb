{
 "cells": [
  {
   "cell_type": "markdown",
   "metadata": {},
   "source": [
    "# Optional Questions"
   ]
  },
  {
   "cell_type": "markdown",
   "metadata": {},
   "source": [
    "## Q5: Tutors: Flummox"
   ]
  },
  {
   "cell_type": "markdown",
   "metadata": {},
   "source": [
    "The implementation is basically `pop` 3 times on the `opponent`'s `hand` and then call the `draw` method 3 times on the `opponent`."
   ]
  },
  {
   "cell_type": "code",
   "execution_count": null,
   "metadata": {},
   "outputs": [],
   "source": [
    "def effect(self, other_card, player, opponent):\n",
    "    [opponent.hand.pop(0) for i in range(3)]\n",
    "    [opponent.draw() for i in range(3)]\n",
    "    #Uncomment the line below when you've finished implementing this method!\n",
    "    print('{} discarded and re-drew 3 cards!'.format(opponent.name))"
   ]
  },
  {
   "cell_type": "markdown",
   "metadata": {},
   "source": [
    "More efficient implementation: rather than `pop` 3 times, in the beginning just slice the `opponent.hand` so that it starts from the element of index `[3]`."
   ]
  },
  {
   "cell_type": "code",
   "execution_count": null,
   "metadata": {},
   "outputs": [],
   "source": [
    "def effect(self, other_card, player, opponent):\n",
    "    opponent.hand = opponent.hand[3:]\n",
    "    [opponent.draw() for _ in range(3)]"
   ]
  },
  {
   "cell_type": "markdown",
   "metadata": {},
   "source": [
    "## Q6: TAs: Shift"
   ]
  },
  {
   "cell_type": "markdown",
   "metadata": {},
   "source": [
    "The implementation is straightforward, just switch the `other_card`'s `attack` with its `defense`."
   ]
  },
  {
   "cell_type": "code",
   "execution_count": null,
   "metadata": {},
   "outputs": [],
   "source": [
    "def effect(self, other_card, player, opponent):\n",
    "    other_card.attack, other_card.defense = other_card.defense, other_card.attack"
   ]
  },
  {
   "cell_type": "markdown",
   "metadata": {},
   "source": [
    "## Q7: The Professor Arrives"
   ]
  },
  {
   "cell_type": "markdown",
   "metadata": {},
   "source": [
    "First of all, loop through all the cards in `player`'s `deck` and add the `attack` and `defense` of the cards with `other_card`'s `attack` and `defense`."
   ]
  },
  {
   "cell_type": "code",
   "execution_count": null,
   "metadata": {},
   "outputs": [],
   "source": [
    "for card in player.deck.cards:\n",
    "    card.attack += other_card.attack\n",
    "    card.defense += other_card.defense"
   ]
  },
  {
   "cell_type": "markdown",
   "metadata": {},
   "source": [
    "Now the tricky part:\n",
    "\n",
    "If we go through a list while mutating them on the same time, for example,"
   ]
  },
  {
   "cell_type": "code",
   "execution_count": 3,
   "metadata": {},
   "outputs": [
    {
     "data": {
      "text/plain": [
       "[1, 2, 4, 5]"
      ]
     },
     "execution_count": 3,
     "metadata": {},
     "output_type": "execute_result"
    }
   ],
   "source": [
    "x = [1, 2, 2, 4, 5]\n",
    "for i in x:\n",
    "    if i == 2:\n",
    "        x.remove(i)\n",
    "        \n",
    "x"
   ]
  },
  {
   "cell_type": "markdown",
   "metadata": {},
   "source": [
    "`2` is still in `x` somehow!\n",
    "\n",
    "If we're looping through a list while removing them on the same time, elements could be skipped just like above since the elements are shifted. A way to get around is to loop through a copy of the list instead,"
   ]
  },
  {
   "cell_type": "code",
   "execution_count": 5,
   "metadata": {},
   "outputs": [
    {
     "data": {
      "text/plain": [
       "[1, 4, 5]"
      ]
     },
     "execution_count": 5,
     "metadata": {},
     "output_type": "execute_result"
    }
   ],
   "source": [
    "x = [1, 2, 2, 4, 5]\n",
    "for i in x[:]:\n",
    "    if i == 2:\n",
    "        x.remove(i)\n",
    "        \n",
    "x"
   ]
  },
  {
   "cell_type": "markdown",
   "metadata": {},
   "source": [
    "Thus our implementation would be:"
   ]
  },
  {
   "cell_type": "code",
   "execution_count": null,
   "metadata": {},
   "outputs": [],
   "source": [
    "for card in opponent.deck.cards[:]:\n",
    "    if card.attack == other_card.attack or card.defense == other_card.defense:\n",
    "        opponent.deck.cards.remove(card)"
   ]
  }
 ],
 "metadata": {
  "kernelspec": {
   "display_name": "Python 3",
   "language": "python",
   "name": "python3"
  },
  "language_info": {
   "codemirror_mode": {
    "name": "ipython",
    "version": 3
   },
   "file_extension": ".py",
   "mimetype": "text/x-python",
   "name": "python",
   "nbconvert_exporter": "python",
   "pygments_lexer": "ipython3",
   "version": "3.6.8"
  }
 },
 "nbformat": 4,
 "nbformat_minor": 2
}
