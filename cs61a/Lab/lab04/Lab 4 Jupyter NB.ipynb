{
 "cells": [
  {
   "cell_type": "markdown",
   "metadata": {},
   "source": [
    "# Q1: List Indexing\n",
    "\n",
    "### `python ok -q indexing -u`\n",
    "\n",
    "For each of the following lists, what is the list indexing expression that evaluates to 7? For example, if `x` = `[7]`, then the answer would be `x[0]`. You can use the interpreter or Python Tutor to experiment with your answers."
   ]
  },
  {
   "cell_type": "markdown",
   "metadata": {},
   "source": [
    "List Indexing > Suite 1 > Case 1\n",
    "(cases remaining: 2)\n",
    "\n",
    "What would Python display? If you get stuck, try it out in the Python\n",
    "interpreter!"
   ]
  },
  {
   "cell_type": "code",
   "execution_count": 1,
   "metadata": {},
   "outputs": [],
   "source": [
    ">>> x = [1, 3, [5, 7], 9] # Write the expression that indexes into x to output the 7\n",
    "# Ans: x[2][1]"
   ]
  },
  {
   "cell_type": "code",
   "execution_count": null,
   "metadata": {},
   "outputs": [],
   "source": [
    ">>> x = [[7]] # Write the expression that indexes into x to output the 7\n",
    "# Ans: x[0][0]"
   ]
  },
  {
   "cell_type": "code",
   "execution_count": null,
   "metadata": {},
   "outputs": [],
   "source": [
    ">>> x = [3, 2, 1, [9, 8, 7]] # Write the expression that indexes into x to output the 7\n",
    "# Ans: x[3][2]"
   ]
  },
  {
   "cell_type": "code",
   "execution_count": null,
   "metadata": {},
   "outputs": [],
   "source": [
    ">>> x = [[3, [5, 7], 9]] # Write the expression that indexes into x to output the 7\n",
    "# Ans: x[0][1][1]"
   ]
  },
  {
   "cell_type": "markdown",
   "metadata": {},
   "source": [
    "List Indexing > Suite 2 > Case 1\n",
    "(cases remaining: 1)\n",
    "\n",
    "What would Python display? If you get stuck, try it out in the Python\n",
    "interpreter!"
   ]
  },
  {
   "cell_type": "code",
   "execution_count": null,
   "metadata": {},
   "outputs": [],
   "source": [
    ">>> lst = [3, 2, 7, [84, 83, 82]]\n",
    ">>> lst[4]\n",
    "# Ans: Error"
   ]
  },
  {
   "cell_type": "code",
   "execution_count": null,
   "metadata": {},
   "outputs": [],
   "source": [
    ">>> lst[3][0]\n",
    "# Ans: 84"
   ]
  },
  {
   "cell_type": "markdown",
   "metadata": {},
   "source": [
    "# Q2: WWPD: Lists?\n",
    "\n",
    "What would Python display? Try to figure it out before you type it into the interpreter!\n",
    "\n",
    "### `python3 ok -q lists -u`"
   ]
  },
  {
   "cell_type": "markdown",
   "metadata": {},
   "source": [
    "List Comprehension > Suite 1 > Case 1\n",
    "(cases remaining: 2)"
   ]
  },
  {
   "cell_type": "code",
   "execution_count": 3,
   "metadata": {},
   "outputs": [
    {
     "data": {
      "text/plain": [
       "[0, 1, 4, 9, 16]"
      ]
     },
     "execution_count": 3,
     "metadata": {},
     "output_type": "execute_result"
    }
   ],
   "source": [
    ">>> [x*x for x in range(5)]\n",
    "# Ans: [0, 1, 4, 9, 16]"
   ]
  },
  {
   "cell_type": "code",
   "execution_count": null,
   "metadata": {},
   "outputs": [],
   "source": [
    ">>> [n for n in range(10) if n % 2 == 0]\n",
    "# Ans: [0, 2, 4, 6, 8]"
   ]
  },
  {
   "cell_type": "code",
   "execution_count": null,
   "metadata": {},
   "outputs": [],
   "source": [
    ">>> ones = [1 for i in [\"hi\", \"bye\", \"you\"]]\n",
    ">>> ones + [str(i) for i in [6, 3, 8, 4]]\n",
    "\n",
    "# [1, 1, 1] + ['6', '3', '8', '4']\n",
    "# Ans: [1, 1, 1, '6', '3', '8', '4']"
   ]
  },
  {
   "cell_type": "code",
   "execution_count": null,
   "metadata": {},
   "outputs": [],
   "source": [
    ">>> [i+5 for i in [n for n in range(1,4)]]\n",
    "\n",
    "# [i + 5 for i in [1, 2, 3]]\n",
    "# [6, 7, 8]"
   ]
  },
  {
   "cell_type": "markdown",
   "metadata": {},
   "source": [
    "List Comprehension > Suite 2 > Case 1\n",
    "(cases remaining: 1)\n",
    "\n",
    "What would Python display? If you get stuck, try it out in the Python\n",
    "interpreter!"
   ]
  },
  {
   "cell_type": "code",
   "execution_count": null,
   "metadata": {},
   "outputs": [],
   "source": [
    ">>> [i**2 for i in range(10) if i < 3]\n",
    "# Ans: [0, 1, 4]"
   ]
  },
  {
   "cell_type": "code",
   "execution_count": 6,
   "metadata": {},
   "outputs": [
    {
     "name": "stdout",
     "output_type": "stream",
     "text": [
      "['hi', 'hi', 'hi']\n"
     ]
    }
   ],
   "source": [
    ">>> lst = ['hi' for i in [1, 2, 3]]\n",
    ">>> print(lst)\n",
    "\n",
    "# Ans: ['hi', 'hi', 'hi']"
   ]
  },
  {
   "cell_type": "code",
   "execution_count": null,
   "metadata": {},
   "outputs": [],
   "source": [
    ">>> lst + [i for i in ['1', '2', '3']]\n",
    "# Ans: ['hi', 'hi', 'hi', '1', '2', '3']"
   ]
  },
  {
   "cell_type": "markdown",
   "metadata": {},
   "source": [
    "# Q7: Flatten\n",
    "Write a function `flatten` that takes a (possibly deep) list and \"flattens\" it. For example:"
   ]
  },
  {
   "cell_type": "code",
   "execution_count": 4,
   "metadata": {},
   "outputs": [
    {
     "data": {
      "text/plain": [
       "[1, 2, 3, 4, 5, 6]"
      ]
     },
     "execution_count": 4,
     "metadata": {},
     "output_type": "execute_result"
    }
   ],
   "source": [
    ">>> lst = [1, [[2], 3], 4, [5, 6]]\n",
    ">>> flatten(lst)\n",
    "[1, 2, 3, 4, 5, 6]"
   ]
  },
  {
   "cell_type": "code",
   "execution_count": 3,
   "metadata": {},
   "outputs": [],
   "source": [
    "def flatten(lst):\n",
    "    if not lst:\n",
    "        return []\n",
    "    elif type(lst[0]) == list:\n",
    "        return flatten(lst[0]) + flatten(lst[1:])\n",
    "    else:\n",
    "        return [lst[0]] + flatten(lst[1:])"
   ]
  },
  {
   "cell_type": "markdown",
   "metadata": {},
   "source": [
    "The implementation above is quite tricky. Using `recursive` implementation, we have the base case:\n",
    "\n",
    "#### If the list is empty list `[]`, then just return the empty list.\n",
    "The implementation is written as `if not lst` because:\n",
    "1. An empty list `[]` evaluates to a `False` value\n",
    "2. `not []` evaluates to `not False`, which is `True`"
   ]
  },
  {
   "cell_type": "code",
   "execution_count": 11,
   "metadata": {},
   "outputs": [
    {
     "data": {
      "text/plain": [
       "True"
      ]
     },
     "execution_count": 11,
     "metadata": {},
     "output_type": "execute_result"
    }
   ],
   "source": [
    "not []"
   ]
  },
  {
   "cell_type": "markdown",
   "metadata": {},
   "source": [
    "On top of that, recall that we can append lists using the `+` operator,"
   ]
  },
  {
   "cell_type": "code",
   "execution_count": 12,
   "metadata": {},
   "outputs": [
    {
     "data": {
      "text/plain": [
       "[3, 6, 7, 10, 45]"
      ]
     },
     "execution_count": 12,
     "metadata": {},
     "output_type": "execute_result"
    }
   ],
   "source": [
    "[3, 6, 7] + [10, 45]"
   ]
  },
  {
   "cell_type": "markdown",
   "metadata": {},
   "source": [
    "The `flatten` implementation above checks each of the very first element of `lst`,"
   ]
  },
  {
   "cell_type": "code",
   "execution_count": 13,
   "metadata": {},
   "outputs": [
    {
     "ename": "SyntaxError",
     "evalue": "invalid syntax (<ipython-input-13-59a06c813be9>, line 1)",
     "output_type": "error",
     "traceback": [
      "\u001b[1;36m  File \u001b[1;32m\"<ipython-input-13-59a06c813be9>\"\u001b[1;36m, line \u001b[1;32m1\u001b[0m\n\u001b[1;33m    lst[0[]]\u001b[0m\n\u001b[1;37m          ^\u001b[0m\n\u001b[1;31mSyntaxError\u001b[0m\u001b[1;31m:\u001b[0m invalid syntax\n"
     ]
    }
   ],
   "source": [
    "lst[0]"
   ]
  },
  {
   "cell_type": "markdown",
   "metadata": {},
   "source": [
    "#### 1. If it is not a nested loop, then just return that element in a form of a list,"
   ]
  },
  {
   "cell_type": "code",
   "execution_count": null,
   "metadata": {
    "collapsed": true
   },
   "outputs": [],
   "source": [
    "return [lst[0]]"
   ]
  },
  {
   "cell_type": "markdown",
   "metadata": {},
   "source": [
    "#### 2. If it IS a nested loop, then return a flattened version of that element using recursive call"
   ]
  },
  {
   "cell_type": "code",
   "execution_count": null,
   "metadata": {},
   "outputs": [],
   "source": [
    "return flatten[lst[0]]"
   ]
  },
  {
   "cell_type": "markdown",
   "metadata": {},
   "source": [
    "Then add the rest of the elements with recursive `flatten`"
   ]
  },
  {
   "cell_type": "code",
   "execution_count": null,
   "metadata": {},
   "outputs": [],
   "source": [
    "+ flatten(lst[1:])"
   ]
  },
  {
   "cell_type": "markdown",
   "metadata": {},
   "source": [
    "# Q8: Merge\n",
    "If we are doing this problem after solving the previous problem in Q7, we might think that the approach is similar: look at the very first element of each list (e.g. `lst1[0]`, `lst2[0]`)\n",
    "\n",
    "We might think that the base case is that:\n",
    "\n",
    "#### If both lists are empty, return empty list"
   ]
  },
  {
   "cell_type": "code",
   "execution_count": 19,
   "metadata": {},
   "outputs": [
    {
     "ename": "SyntaxError",
     "evalue": "'return' outside function (<ipython-input-19-fff98963c518>, line 2)",
     "output_type": "error",
     "traceback": [
      "\u001b[1;36m  File \u001b[1;32m\"<ipython-input-19-fff98963c518>\"\u001b[1;36m, line \u001b[1;32m2\u001b[0m\n\u001b[1;33m    return []\u001b[0m\n\u001b[1;37m    ^\u001b[0m\n\u001b[1;31mSyntaxError\u001b[0m\u001b[1;31m:\u001b[0m 'return' outside function\n"
     ]
    }
   ],
   "source": [
    "if not lst1 and not lst2:\n",
    "    return []"
   ]
  },
  {
   "cell_type": "markdown",
   "metadata": {},
   "source": [
    "However, this base case would create a problem: **what if only one of the lists is empty?**"
   ]
  },
  {
   "cell_type": "code",
   "execution_count": 20,
   "metadata": {},
   "outputs": [
    {
     "ename": "IndexError",
     "evalue": "list index out of range",
     "output_type": "error",
     "traceback": [
      "\u001b[1;31m---------------------------------------------------------------------------\u001b[0m",
      "\u001b[1;31mIndexError\u001b[0m                                Traceback (most recent call last)",
      "\u001b[1;32m<ipython-input-20-5c727612c379>\u001b[0m in \u001b[0;36m<module>\u001b[1;34m\u001b[0m\n\u001b[0;32m      1\u001b[0m \u001b[0mlst1\u001b[0m \u001b[1;33m=\u001b[0m \u001b[1;33m[\u001b[0m\u001b[1;33m]\u001b[0m\u001b[1;33m\u001b[0m\u001b[1;33m\u001b[0m\u001b[0m\n\u001b[1;32m----> 2\u001b[1;33m \u001b[0mlst1\u001b[0m\u001b[1;33m[\u001b[0m\u001b[1;36m0\u001b[0m\u001b[1;33m]\u001b[0m\u001b[1;33m\u001b[0m\u001b[1;33m\u001b[0m\u001b[0m\n\u001b[0m",
      "\u001b[1;31mIndexError\u001b[0m: list index out of range"
     ]
    }
   ],
   "source": [
    "lst1 = []\n",
    "lst1[0]"
   ]
  },
  {
   "cell_type": "markdown",
   "metadata": {},
   "source": [
    "See above that if we try to select the first element of an empty list, it will return an error!\n",
    "\n",
    "The trick for the base case is to know that **if one of the list is empty, we can just add up both lists**."
   ]
  },
  {
   "cell_type": "code",
   "execution_count": null,
   "metadata": {},
   "outputs": [],
   "source": [
    "if not lst1 or not lst2:\n",
    "    return lst1 + lst2"
   ]
  },
  {
   "cell_type": "markdown",
   "metadata": {},
   "source": [
    "Then the recursive case would be straightforward:\n",
    "\n",
    "1. Make a comparison of the first element of both lists\n",
    "2. Pick whichever's smaller\n",
    "3. And run a recursive case excluding the element that was picked out"
   ]
  },
  {
   "cell_type": "code",
   "execution_count": null,
   "metadata": {},
   "outputs": [],
   "source": [
    "elif lst1[0] < lst2[0]:\n",
    "    return [lst1[0]] + merge(lst1[1:], lst2)\n",
    "else:\n",
    "    return [lst2[0]] + merge(lst1, lst2[1:])"
   ]
  },
  {
   "cell_type": "markdown",
   "metadata": {},
   "source": [
    "# Q10: Updating the Board\n",
    "We can easily implement this by initiating a variable for `lst`, then change the element at the desired `index`"
   ]
  },
  {
   "cell_type": "code",
   "execution_count": 26,
   "metadata": {},
   "outputs": [
    {
     "data": {
      "text/plain": [
       "[1, 2, 8, 4, 5, 6, 7]"
      ]
     },
     "execution_count": 26,
     "metadata": {},
     "output_type": "execute_result"
    }
   ],
   "source": [
    "index = 2\n",
    "lst = [1, 2, 3, 4, 5, 6, 7]\n",
    "lst[2] = 8\n",
    "lst"
   ]
  },
  {
   "cell_type": "markdown",
   "metadata": {},
   "source": [
    "However, for one-line solution, the trick is to return the following:\n",
    "1. A list of all elements up but excluding the element that's at the index\n",
    "2. A list containing the desired new element\n",
    "3. The rest of the elements in the list\n",
    "\n",
    "For example, if the list is `[1, 2, 3, 4, 5, 6, 7]` and we want to replace index `[2]` with `8`, then we return the sum of the following,"
   ]
  },
  {
   "cell_type": "code",
   "execution_count": 27,
   "metadata": {},
   "outputs": [
    {
     "data": {
      "text/plain": [
       "[1, 2]"
      ]
     },
     "execution_count": 27,
     "metadata": {},
     "output_type": "execute_result"
    }
   ],
   "source": [
    "lst[:index]"
   ]
  },
  {
   "cell_type": "code",
   "execution_count": 28,
   "metadata": {},
   "outputs": [
    {
     "data": {
      "text/plain": [
       "[8]"
      ]
     },
     "execution_count": 28,
     "metadata": {},
     "output_type": "execute_result"
    }
   ],
   "source": [
    "[8]"
   ]
  },
  {
   "cell_type": "code",
   "execution_count": 29,
   "metadata": {},
   "outputs": [
    {
     "data": {
      "text/plain": [
       "[4, 5, 6, 7]"
      ]
     },
     "execution_count": 29,
     "metadata": {},
     "output_type": "execute_result"
    }
   ],
   "source": [
    "lst[index+1:]"
   ]
  },
  {
   "cell_type": "code",
   "execution_count": 30,
   "metadata": {},
   "outputs": [
    {
     "data": {
      "text/plain": [
       "[1, 2, 8, 4, 5, 6, 7]"
      ]
     },
     "execution_count": 30,
     "metadata": {},
     "output_type": "execute_result"
    }
   ],
   "source": [
    "lst[:index] + [8] + lst[index+1:]"
   ]
  },
  {
   "cell_type": "markdown",
   "metadata": {},
   "source": [
    "# Q11: Manipulating Pieces"
   ]
  },
  {
   "cell_type": "markdown",
   "metadata": {},
   "source": [
    "Make sure to understand how boards are represented. For example, the following,"
   ]
  },
  {
   "cell_type": "code",
   "execution_count": 1,
   "metadata": {},
   "outputs": [
    {
     "data": {
      "text/plain": [
       "[['-', '-', '-', '-'], ['O', 'O', 'O', 'X'], ['X', 'X', 'X', 'O']]"
      ]
     },
     "execution_count": 1,
     "metadata": {},
     "output_type": "execute_result"
    }
   ],
   "source": [
    "[['-', '-', '-', '-'], ['O', 'O', 'O', 'X'], ['X', 'X', 'X', 'O']]"
   ]
  },
  {
   "cell_type": "markdown",
   "metadata": {},
   "source": [
    "Would represent the following:\n",
    "\n",
    "|Column(Right) <br> Rows (Below) | 0 | 1 | 2 | 3|\n",
    "| - | - | -| -| - |\n",
    "|0|-|-|-|-|\n",
    "|1|O|O|O|X|\n",
    "|2|X|X|X|O|"
   ]
  },
  {
   "cell_type": "markdown",
   "metadata": {},
   "source": [
    "The list selection works works like the following: `rows`, then `columns`.\n",
    "\n",
    "For example, to obtain the `O` on the most bottom right, we select it by the following,"
   ]
  },
  {
   "cell_type": "code",
   "execution_count": 2,
   "metadata": {},
   "outputs": [
    {
     "ename": "NameError",
     "evalue": "name 'board' is not defined",
     "output_type": "error",
     "traceback": [
      "\u001b[1;31m---------------------------------------------------------------------------\u001b[0m",
      "\u001b[1;31mNameError\u001b[0m                                 Traceback (most recent call last)",
      "\u001b[1;32m<ipython-input-2-a2efa3a11580>\u001b[0m in \u001b[0;36m<module>\u001b[1;34m\u001b[0m\n\u001b[1;32m----> 1\u001b[1;33m \u001b[0mboard\u001b[0m\u001b[1;33m[\u001b[0m\u001b[1;36m2\u001b[0m\u001b[1;33m]\u001b[0m\u001b[1;33m[\u001b[0m\u001b[1;36m3\u001b[0m\u001b[1;33m]\u001b[0m\u001b[1;33m\u001b[0m\u001b[1;33m\u001b[0m\u001b[0m\n\u001b[0m",
      "\u001b[1;31mNameError\u001b[0m: name 'board' is not defined"
     ]
    }
   ],
   "source": [
    "board[2][3]"
   ]
  },
  {
   "cell_type": "markdown",
   "metadata": {},
   "source": [
    "Above is an example of the implementation of `get_piece`. \n",
    "\n",
    "Let's make sure we have all the prior functions:"
   ]
  },
  {
   "cell_type": "code",
   "execution_count": 3,
   "metadata": {},
   "outputs": [],
   "source": [
    "def create_row(size):\n",
    "    return ['-' for i in range(size)]\n",
    "\n",
    "def create_board(rows, columns):\n",
    "    return [create_row(columns) for i in range(rows)]\n",
    "\n",
    "def replace_elem(lst, index, elem):\n",
    "    assert index >= 0 and index < len(lst), 'Index is out of bounds'\n",
    "    return lst[:index] + [elem] + lst[index+1:]\n",
    "\n",
    "def get_piece(board, row, column):\n",
    "    return board[row][column]"
   ]
  },
  {
   "cell_type": "markdown",
   "metadata": {},
   "source": [
    "Now going back to the board,\n",
    "\n",
    "|Column(Right) <br> Rows (Below) | 0 | 1 | 2 | 3|\n",
    "| - | - | -| -| - |\n",
    "|0|-|-|-|-|\n",
    "|1|-|O|O|X|\n",
    "|2|X|X|X|O|"
   ]
  },
  {
   "cell_type": "markdown",
   "metadata": {},
   "source": [
    "Let's say we have the board above. If we want to put a piece into column `0`, we want to know the bottom-most empty spot in that column. \n",
    "\n",
    "Notice that rows are indexed, with `0` as the top row.\n",
    "\n",
    "Be careful, the bottom-most row is not the total number of the rows. The bottom-most row is the total number of rows subtracted by 1. For example, the board above has 3 rows but the bottom-most row is row #2. \n",
    "\n",
    "The index of the currently selected row can be represented as the following (starting from the bottom-most row):"
   ]
  },
  {
   "cell_type": "code",
   "execution_count": 4,
   "metadata": {},
   "outputs": [
    {
     "ename": "NameError",
     "evalue": "name 'max_rows' is not defined",
     "output_type": "error",
     "traceback": [
      "\u001b[1;31m---------------------------------------------------------------------------\u001b[0m",
      "\u001b[1;31mNameError\u001b[0m                                 Traceback (most recent call last)",
      "\u001b[1;32m<ipython-input-4-dec5b07cd68d>\u001b[0m in \u001b[0;36m<module>\u001b[1;34m\u001b[0m\n\u001b[1;32m----> 1\u001b[1;33m \u001b[0mrow_i\u001b[0m \u001b[1;33m=\u001b[0m \u001b[0mmax_rows\u001b[0m \u001b[1;33m-\u001b[0m \u001b[1;36m1\u001b[0m \u001b[1;31m# Starting from the bottom-most row\u001b[0m\u001b[1;33m\u001b[0m\u001b[1;33m\u001b[0m\u001b[0m\n\u001b[0m",
      "\u001b[1;31mNameError\u001b[0m: name 'max_rows' is not defined"
     ]
    }
   ],
   "source": [
    "row_i = max_rows - 1 # Starting from the bottom-most row"
   ]
  },
  {
   "cell_type": "markdown",
   "metadata": {},
   "source": [
    "For every row going up, we decrease `row_i` by 1. This way, we can create a while loop that keeps going as long as `row_i` is positive,"
   ]
  },
  {
   "cell_type": "code",
   "execution_count": 5,
   "metadata": {},
   "outputs": [
    {
     "ename": "SyntaxError",
     "evalue": "unexpected EOF while parsing (<ipython-input-5-974311e2c599>, line 1)",
     "output_type": "error",
     "traceback": [
      "\u001b[1;36m  File \u001b[1;32m\"<ipython-input-5-974311e2c599>\"\u001b[1;36m, line \u001b[1;32m1\u001b[0m\n\u001b[1;33m    while row_i >= 0 :\u001b[0m\n\u001b[1;37m                      ^\u001b[0m\n\u001b[1;31mSyntaxError\u001b[0m\u001b[1;31m:\u001b[0m unexpected EOF while parsing\n"
     ]
    }
   ],
   "source": [
    "while row_i >= 0 :"
   ]
  },
  {
   "cell_type": "markdown",
   "metadata": {},
   "source": [
    "Using this logic, we can write so that Python keeps climbing up from the bottom-most row until it reaches an empty spot. Once Python found an empty spot, replace that board using `replace_elem`."
   ]
  },
  {
   "cell_type": "code",
   "execution_count": 6,
   "metadata": {},
   "outputs": [
    {
     "ename": "NameError",
     "evalue": "name 'row_i' is not defined",
     "output_type": "error",
     "traceback": [
      "\u001b[1;31m---------------------------------------------------------------------------\u001b[0m",
      "\u001b[1;31mNameError\u001b[0m                                 Traceback (most recent call last)",
      "\u001b[1;32m<ipython-input-6-f390eb6ae271>\u001b[0m in \u001b[0;36m<module>\u001b[1;34m\u001b[0m\n\u001b[1;32m----> 1\u001b[1;33m \u001b[1;32mwhile\u001b[0m \u001b[0mrow_i\u001b[0m \u001b[1;33m>=\u001b[0m \u001b[1;36m0\u001b[0m \u001b[1;32mand\u001b[0m \u001b[0mget_piece\u001b[0m\u001b[1;33m(\u001b[0m\u001b[0mboard\u001b[0m\u001b[1;33m,\u001b[0m \u001b[0mrow_i\u001b[0m\u001b[1;33m,\u001b[0m \u001b[0mcolumn\u001b[0m\u001b[1;33m)\u001b[0m \u001b[1;33m!=\u001b[0m \u001b[1;34m'-'\u001b[0m\u001b[1;33m:\u001b[0m\u001b[1;33m\u001b[0m\u001b[1;33m\u001b[0m\u001b[0m\n\u001b[0m\u001b[0;32m      2\u001b[0m     \u001b[0mrow_i\u001b[0m \u001b[1;33m-=\u001b[0m \u001b[1;36m1\u001b[0m\u001b[1;33m\u001b[0m\u001b[1;33m\u001b[0m\u001b[0m\n\u001b[0;32m      3\u001b[0m \u001b[0mreplace_elem\u001b[0m\u001b[1;33m(\u001b[0m\u001b[0mboard\u001b[0m\u001b[1;33m,\u001b[0m \u001b[0mcolumn\u001b[0m\u001b[1;33m,\u001b[0m \u001b[0mplayer\u001b[0m\u001b[1;33m)\u001b[0m\u001b[1;33m\u001b[0m\u001b[1;33m\u001b[0m\u001b[0m\n",
      "\u001b[1;31mNameError\u001b[0m: name 'row_i' is not defined"
     ]
    }
   ],
   "source": [
    "while row_i >= 0 and get_piece(board, row_i, column) != '-':\n",
    "    row_i -= 1\n",
    "replace_elem(board, column, player)"
   ]
  },
  {
   "cell_type": "markdown",
   "metadata": {},
   "source": [
    "Taking into account the logic above, we can write the following"
   ]
  },
  {
   "cell_type": "code",
   "execution_count": 7,
   "metadata": {},
   "outputs": [],
   "source": [
    "def put_piece(board, max_rows, column, player):\n",
    "    row_i = max_rows - 1 # Initiate the currently selected row\n",
    "    # Climb up the rows until we reach the first bottom-most empty spot\n",
    "    while row_i >= 0 and get_piece(board, row_i, column) != '-': # While the index of the selected row is positive and the piece is not empty\n",
    "        row_i -= 1 # Climb up the index of rows\n",
    "    # If after climbing all the way up, we can find an empty spot, then use replace_elem to put the 'O' or 'X' piece\n",
    "    if row_i >= 0:\n",
    "        # Create a new row. The index is the column\n",
    "        new_row = replace_elem(board[row_i], column, player)\n",
    "        # Create a new board. The index is the currently selected row\n",
    "        new_board = replace_elem(board, row_i, new_row)\n",
    "        board = new_board\n",
    "    return (row_i, board)"
   ]
  },
  {
   "cell_type": "code",
   "execution_count": 8,
   "metadata": {},
   "outputs": [],
   "source": [
    "def make_move(board, max_rows, max_cols, col, player):\n",
    "    # Very similar to put_piece function. The only difference is that make_move might give out invalid column input\n",
    "    if col >= 0 and col <= max_cols:\n",
    "        return put_piece(board, max_rows, col, player)\n",
    "    else:\n",
    "        return (-1, board)"
   ]
  },
  {
   "cell_type": "markdown",
   "metadata": {},
   "source": [
    "# Q13: Printing and Viewing the Board"
   ]
  },
  {
   "cell_type": "markdown",
   "metadata": {},
   "source": [
    "The key to this implementation is:\n",
    "1. Each piece can be acquired using the `get_piece` function\n",
    "2. We print each row, starting from the top row.\n",
    "3. Each row consists of a string of pieces combined together"
   ]
  },
  {
   "cell_type": "code",
   "execution_count": 9,
   "metadata": {},
   "outputs": [],
   "source": [
    "def print_board(board, max_rows, max_cols):\n",
    "    # Iterate through the rows, starting with row 0\n",
    "    for row in range(max_rows):\n",
    "        # row_str stores the string of pieces so far\n",
    "        row_str = ''\n",
    "        # iterate through the columns, starting with column 0\n",
    "        for col in range(max_cols):\n",
    "            # Use the \n",
    "            row_str += get_piece(board, row, col) + ' '\n",
    "        # The outcome of row_str has an extra space at the end, remove it with .strip()\n",
    "        print(row_str.strip())"
   ]
  },
  {
   "cell_type": "code",
   "execution_count": 10,
   "metadata": {},
   "outputs": [
    {
     "name": "stdout",
     "output_type": "stream",
     "text": [
      "- -\n",
      "- -\n"
     ]
    }
   ],
   "source": [
    "rows, columns = 2, 2\n",
    "board = create_board(rows, columns)\n",
    "print_board(board, rows, columns)"
   ]
  },
  {
   "cell_type": "markdown",
   "metadata": {},
   "source": [
    "# Q14. Checking for Victory\n",
    "Let's start with executing the doctests,"
   ]
  },
  {
   "cell_type": "code",
   "execution_count": 11,
   "metadata": {},
   "outputs": [],
   "source": [
    "rows, columns, num_connect = 4, 4, 2\n",
    "board = create_board(rows, columns)"
   ]
  },
  {
   "cell_type": "code",
   "execution_count": 12,
   "metadata": {},
   "outputs": [
    {
     "name": "stdout",
     "output_type": "stream",
     "text": [
      "- - - -\n",
      "- - - -\n",
      "O - - -\n",
      "X - - -\n"
     ]
    }
   ],
   "source": [
    "board = make_move(board, rows, columns, 0, 'X')[1]\n",
    "board = make_move(board, rows, columns, 0, 'O')[1]\n",
    "print_board(board, rows, columns)"
   ]
  },
  {
   "cell_type": "code",
   "execution_count": 14,
   "metadata": {},
   "outputs": [],
   "source": [
    "def check_win_row(board, max_rows, max_cols, num_connect, row, player):\n",
    "    count = 0 # Counts the number of pieces that are the same as player so far\n",
    "    for col in range(max_cols):\n",
    "        # For every column selected, if the piece is the same as player, increment count\n",
    "        if get_piece(board, row, col) == player:\n",
    "            count += 1\n",
    "            # If count is the same as num_connect, then the winning condition is fulfilled. Return True\n",
    "            if count == num_connect:\n",
    "                return True\n",
    "        # Else, we come across empty spot or the other player's piece, reset count to 0\n",
    "        else:\n",
    "            count = 0\n",
    "    return False"
   ]
  },
  {
   "cell_type": "code",
   "execution_count": null,
   "metadata": {},
   "outputs": [],
   "source": [
    "def check_win_column(board, max_rows, max_cols, num_connect, col, player):\n"
   ]
  },
  {
   "cell_type": "code",
   "execution_count": null,
   "metadata": {},
   "outputs": [],
   "source": []
  },
  {
   "cell_type": "code",
   "execution_count": null,
   "metadata": {},
   "outputs": [],
   "source": []
  }
 ],
 "metadata": {
  "kernelspec": {
   "display_name": "Python 3",
   "language": "python",
   "name": "python3"
  },
  "language_info": {
   "codemirror_mode": {
    "name": "ipython",
    "version": 3
   },
   "file_extension": ".py",
   "mimetype": "text/x-python",
   "name": "python",
   "nbconvert_exporter": "python",
   "pygments_lexer": "ipython3",
   "version": "3.7.3"
  }
 },
 "nbformat": 4,
 "nbformat_minor": 2
}
