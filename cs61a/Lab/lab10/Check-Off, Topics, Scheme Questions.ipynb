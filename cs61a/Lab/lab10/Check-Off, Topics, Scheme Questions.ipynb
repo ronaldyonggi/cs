{
 "cells": [
  {
   "cell_type": "code",
   "execution_count": 2,
   "metadata": {},
   "outputs": [],
   "source": [
    "(define nil ())"
   ]
  },
  {
   "cell_type": "markdown",
   "metadata": {},
   "source": [
    "## Q1: List vs Cons"
   ]
  },
  {
   "cell_type": "code",
   "execution_count": 3,
   "metadata": {},
   "outputs": [
    {
     "data": {
      "text/plain": [
       "(1 2 3)"
      ]
     },
     "execution_count": 3,
     "metadata": {},
     "output_type": "execute_result"
    }
   ],
   "source": [
    "(cons 1 (cons 2 (cons 3 nil)))\n",
    "; Ans: (1 2 3)"
   ]
  },
  {
   "cell_type": "code",
   "execution_count": 4,
   "metadata": {},
   "outputs": [
    {
     "data": {
      "text/plain": [
       "(1 (2 (3)))"
      ]
     },
     "execution_count": 4,
     "metadata": {},
     "output_type": "execute_result"
    }
   ],
   "source": [
    "(list 1 (list 2 (list 3)))\n",
    "; Ans: (1 (2 (3)))"
   ]
  },
  {
   "cell_type": "code",
   "execution_count": 5,
   "metadata": {},
   "outputs": [
    {
     "data": {
      "text/plain": [
       "(1 (2 3))"
      ]
     },
     "execution_count": 5,
     "metadata": {},
     "output_type": "execute_result"
    }
   ],
   "source": [
    "(list 1 (cons 2 (cons 3 nil)))\n",
    "; Ans:(1 (2 3))"
   ]
  },
  {
   "cell_type": "code",
   "execution_count": 6,
   "metadata": {},
   "outputs": [
    {
     "data": {
      "text/plain": [
       "(1 (2 . 3))"
      ]
     },
     "execution_count": 6,
     "metadata": {},
     "output_type": "execute_result"
    }
   ],
   "source": [
    "(list 1 (cons 2 3))\n",
    "; Ans: (1 (2 . 3))"
   ]
  },
  {
   "cell_type": "code",
   "execution_count": 7,
   "metadata": {},
   "outputs": [
    {
     "data": {
      "text/plain": [
       "(1 2 3)"
      ]
     },
     "execution_count": 7,
     "metadata": {},
     "output_type": "execute_result"
    }
   ],
   "source": [
    "(cons 1 (list 2 3))\n",
    "; Ans: (1 2 3)"
   ]
  },
  {
   "cell_type": "code",
   "execution_count": 8,
   "metadata": {},
   "outputs": [
    {
     "data": {
      "text/plain": [
       "((1) 2 3 4)"
      ]
     },
     "execution_count": 8,
     "metadata": {},
     "output_type": "execute_result"
    }
   ],
   "source": [
    "(cons (list 1) (list 2 3 4))\n",
    "; Ans: ((1) 2 3 4)"
   ]
  },
  {
   "cell_type": "markdown",
   "metadata": {},
   "source": [
    "## Q2: To Parentheses or Not To Parentheses"
   ]
  },
  {
   "cell_type": "code",
   "execution_count": 9,
   "metadata": {},
   "outputs": [
    {
     "name": "stderr",
     "output_type": "stream",
     "text": [
      "\u001b[1;31m\n",
      "Traceback (most recent call last):\n",
      "  File \"In [9]\", line 1, col 1, in 'application'\n",
      "  File \"In [9]\", line 1, col 1\n",
      "RunTimeError: attempt to apply non-procedure '3'\n",
      "\n",
      "\u001b[0m"
     ]
    }
   ],
   "source": [
    "((+ 1 2))"
   ]
  },
  {
   "cell_type": "markdown",
   "metadata": {},
   "source": [
    "Above, we obtain an error because we try to execute `(3)` in Scheme, which is invalid."
   ]
  },
  {
   "cell_type": "markdown",
   "metadata": {},
   "source": [
    "# Interpreters"
   ]
  },
  {
   "cell_type": "markdown",
   "metadata": {},
   "source": [
    "An interpreter is a program that allows us to interact with the computer in a certain language. It understands the expressions that we type in through that language, and performs the corresponding actions in some way, usually using an underlying language.\n",
    "\n",
    "In Project 4, we will use Python to implement an interpreter for Scheme. The Python interpreter that we've been using all semester is written mostly in C programming language. The computer itself uses hardware to interpret machine code (a series of ones and zeros that represent basic operations like adding numbers, loading information from memory, etc.)\n",
    "\n",
    "When we talk about an interpreter, there are 2 languages at work:\n",
    "1. The language being interpreted / implemented.\n",
    "    * In this lab, we will implement the PyCombinator language\n",
    "2. The underlying implementation language\n",
    "    * In this lab, we'll use Python to implement the PyCombinator language\n",
    "    \n",
    "The underlying language need not be different from the implemented language. In fact, in this lab we're going to implement a smaller version of Python (PyCombinator) using Python! This idea is called Metacircular Evaluation.\n",
    "\n",
    "Many interpreters use a Read-Eval-Print Loop (REPL). This loop waits for user input, and then processes it in 3 steps:\n",
    "\n",
    "1. **Read**: The interpreter takes the user input (a string) and passes it through a lexer and parser\n",
    "    * The **lexer** turns the user input string into atomic pieces (tokens) that are like \"words\" of the implemented language.\n",
    "    * The **parser** takes the tokens and organizes them into data structures that the underlying language can understand.\n",
    "    \n",
    "2. **Eval**: Mutual recursion between **Eval** and **Apply** evaluate the expression to obtain a value.\n",
    "    * **Eval** takes an expression and evaluates it according to the rules of the language. Evaluating a call expression involves calling **apply** to apply an evaluated operator to its evaluated operands.\n",
    "    * **Apply** takes an evaluated operator (e.g. function) and applies it to the call expression's arguments. Apply may call **eval** to do more work in the body of the function, so **eval** and **apply** are mutually recursive. \n",
    "    \n",
    "3. **Print**: Display the result of evaluating the user input.\n",
    "\n",
    "The process looks like the following,\n",
    "\n",
    "<img src = 'interpreters.jpg' width = 500/>"
   ]
  },
  {
   "cell_type": "markdown",
   "metadata": {},
   "source": [
    "# Scheme Questions"
   ]
  },
  {
   "cell_type": "markdown",
   "metadata": {},
   "source": [
    "## Q3: Repeatedly Cube\n",
    "Implement the following function, which cubes the given value `x` some number `n` times, basedon the given skeleton.\n",
    "\n",
    "See the following examples on how to use `let`."
   ]
  },
  {
   "cell_type": "code",
   "execution_count": 3,
   "metadata": {},
   "outputs": [
    {
     "data": {
      "text/plain": [
       "((1 2 3) 4 5 6)"
      ]
     },
     "execution_count": 3,
     "metadata": {},
     "output_type": "execute_result"
    }
   ],
   "source": [
    "(let(\n",
    "     (a (list 1 2 3))\n",
    "     (b (list 4 5 6))\n",
    "     ) ; End of let\n",
    "  (cons a b))"
   ]
  },
  {
   "cell_type": "code",
   "execution_count": 7,
   "metadata": {},
   "outputs": [
    {
     "data": {
      "text/plain": [
       "6"
      ]
     },
     "execution_count": 7,
     "metadata": {},
     "output_type": "execute_result"
    }
   ],
   "source": [
    "(let (\n",
    "      (a 1)\n",
    "      (b 2)\n",
    "      (c 3)\n",
    "      )\n",
    "  (+ a b c))"
   ]
  },
  {
   "cell_type": "markdown",
   "metadata": {},
   "source": [
    "#### Strategy"
   ]
  },
  {
   "cell_type": "markdown",
   "metadata": {},
   "source": [
    "Based on the example above, we can see that `let` lets us do 2 things:\n",
    "\n",
    "1. Define one or multiple variables\n",
    "2. Execute a body.\n",
    "\n",
    "Looking at the skeleton of the procedure:\n",
    "\n",
    "**1.** `y` is not defined anywhere\n",
    "\n",
    "**2.** The base case is that if `n` is 0, then `x` is returned\n",
    "\n",
    "**3.** The procedure multiplies `y` 3 times\n",
    "\n",
    "Chances are, we have to define `y` as a recursive call that decrements `n`. "
   ]
  },
  {
   "cell_type": "code",
   "execution_count": 14,
   "metadata": {},
   "outputs": [],
   "source": [
    "(define (repeatedly-cube n x)\n",
    "  (if (zero? n)\n",
    "    x\n",
    "    (let\n",
    "      ((y (repeatedly-cube (- n 1) x)))\n",
    "      (* y y y)\n",
    "      ) ; End of let\n",
    "    ) ; End of if\n",
    "  ) ; End of define"
   ]
  },
  {
   "cell_type": "code",
   "execution_count": 15,
   "metadata": {},
   "outputs": [
    {
     "data": {
      "text/plain": [
       "1"
      ]
     },
     "execution_count": 15,
     "metadata": {},
     "output_type": "execute_result"
    }
   ],
   "source": [
    "(repeatedly-cube 100 1)"
   ]
  },
  {
   "cell_type": "code",
   "execution_count": null,
   "metadata": {},
   "outputs": [],
   "source": []
  }
 ],
 "metadata": {
  "kernelspec": {
   "display_name": "Calysto Scheme 3",
   "language": "scheme",
   "name": "calysto_scheme"
  },
  "language_info": {
   "codemirror_mode": {
    "name": "scheme"
   },
   "mimetype": "text/x-scheme",
   "name": "scheme",
   "pygments_lexer": "scheme"
  }
 },
 "nbformat": 4,
 "nbformat_minor": 2
}
