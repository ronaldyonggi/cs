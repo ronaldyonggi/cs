{
 "cells": [
  {
   "cell_type": "markdown",
   "metadata": {},
   "source": [
    "## Q7: Applying Lambda Functions"
   ]
  },
  {
   "cell_type": "markdown",
   "metadata": {},
   "source": [
    "#### Strategy"
   ]
  },
  {
   "cell_type": "markdown",
   "metadata": {},
   "source": [
    "If we look at the `LambdaFunction` class, the `__init__` method is defined as the following,"
   ]
  },
  {
   "cell_type": "code",
   "execution_count": null,
   "metadata": {},
   "outputs": [],
   "source": [
    "class LambdaFunction(Value):\n",
    "    \"\"\"A lambda function. Lambda functions are created in the LambdaExpr.eval\n",
    "    method. A lambda function is a lambda expression that knows the\n",
    "    environment in which it was evaluated in.\n",
    "\n",
    "    The `parameters` attribute is a list of variable names (a list of strings).\n",
    "    The `body` attribute is an instance of `Expr`, the body of the function.\n",
    "    The `parent` attribute is an environment, a dictionary with variable names\n",
    "        (strings) as keys and instances of the class Value as values.\n",
    "    \"\"\"\n",
    "    def __init__(self, parameters, body, parent):\n",
    "        Value.__init__(self, parameters, body, parent)\n",
    "        self.parameters = parameters\n",
    "        self.body = body\n",
    "        self.parent = parent"
   ]
  },
  {
   "cell_type": "markdown",
   "metadata": {},
   "source": [
    "As we can see, the `LambdaFunction`'s `parent` environment is accessible as the instance's `parent` attribute. We can create a copy by the following,"
   ]
  },
  {
   "cell_type": "code",
   "execution_count": null,
   "metadata": {},
   "outputs": [],
   "source": [
    "copied = self.parent.copy()"
   ]
  },
  {
   "cell_type": "markdown",
   "metadata": {},
   "source": [
    "If we do trial and error and try to output `self.parameters` and `arguments`,"
   ]
  },
  {
   "cell_type": "code",
   "execution_count": null,
   "metadata": {},
   "outputs": [],
   "source": [
    "def apply(self, arguments):\n",
    "    print('Below is the self.parameters')\n",
    "    print([i for i in self.parameters])\n",
    "    print('Below is the arguments')\n",
    "    print([i for i in arguments])"
   ]
  },
  {
   "cell_type": "markdown",
   "metadata": {},
   "source": [
    "The output would be as the following,"
   ]
  },
  {
   "cell_type": "code",
   "execution_count": null,
   "metadata": {},
   "outputs": [],
   "source": [
    ">>>     Below is the self.parameters\n",
    ">>>     ['x', 'y']\n",
    ">>>     Below is the arguments\n",
    ">>>     [Number(1), Number(2)]"
   ]
  },
  {
   "cell_type": "markdown",
   "metadata": {},
   "source": [
    "And if we try to output `self.parent`,"
   ]
  },
  {
   "cell_type": "code",
   "execution_count": null,
   "metadata": {},
   "outputs": [],
   "source": [
    "def apply(self, arguments):\n",
    "    return self.parent"
   ]
  },
  {
   "cell_type": "markdown",
   "metadata": {},
   "source": [
    "The output would be as the following,"
   ]
  },
  {
   "cell_type": "code",
   "execution_count": 1,
   "metadata": {},
   "outputs": [
    {
     "ename": "SyntaxError",
     "evalue": "invalid syntax (<ipython-input-1-129df25c34fc>, line 1)",
     "output_type": "error",
     "traceback": [
      "\u001b[1;36m  File \u001b[1;32m\"<ipython-input-1-129df25c34fc>\"\u001b[1;36m, line \u001b[1;32m1\u001b[0m\n\u001b[1;33m    {'abs': PrimitiveFunction(<built-in function abs>),\u001b[0m\n\u001b[1;37m                              ^\u001b[0m\n\u001b[1;31mSyntaxError\u001b[0m\u001b[1;31m:\u001b[0m invalid syntax\n"
     ]
    }
   ],
   "source": [
    ">>> {'abs': PrimitiveFunction(<built-in function abs>), \n",
    "     'add': PrimitiveFunction(<built-in function add>), \n",
    "     'float': PrimitiveFunction(<class 'float'>), \n",
    "     'floordiv': PrimitiveFunction(<built-in function floordiv>), \n",
    "     'int': PrimitiveFunction(<class 'int'>), \n",
    "     'max': PrimitiveFunction(<built-in function max>), \n",
    "     'min': PrimitiveFunction(<built-in function min>), \n",
    "     'mod': PrimitiveFunction(<built-in function mod>), \n",
    "     'mul': PrimitiveFunction(<built-in function mul>), \n",
    "     'pow': PrimitiveFunction(<built-in function pow>), \n",
    "     'sub': PrimitiveFunction(<built-in function sub>), \n",
    "     'truediv': PrimitiveFunction(<built-in function truediv>)}"
   ]
  },
  {
   "cell_type": "markdown",
   "metadata": {},
   "source": [
    "If we try to look at the type of `self.parameters` and `arguments`,"
   ]
  },
  {
   "cell_type": "code",
   "execution_count": null,
   "metadata": {},
   "outputs": [],
   "source": [
    "print('The type of self.parameters is ' + str(type(self.parameters)))\n",
    "print('The type of arguments is ' + str(type(arguments)))"
   ]
  },
  {
   "cell_type": "markdown",
   "metadata": {},
   "source": [
    "The output would be as the following,"
   ]
  },
  {
   "cell_type": "code",
   "execution_count": null,
   "metadata": {},
   "outputs": [],
   "source": [
    "# The type of self.parameters is <class 'list'>\n",
    "#     The type of arguments is <class 'list'>"
   ]
  },
  {
   "cell_type": "markdown",
   "metadata": {},
   "source": [
    "Thus we know the following information,\n",
    "\n",
    "1. Both `self.parameters` and `arguments` are lists, which are iterables.\n",
    "    * Both of them have the same length\n",
    "2. `self.parent` is a dictionary of strings paired with `PrimitiveFunction`.\n",
    "\n",
    "We want to update the content of `copied`, which currently has the same contents as `self.parent`. However, if we want to update a dictionary, we can't just use a `for` loop."
   ]
  },
  {
   "cell_type": "code",
   "execution_count": null,
   "metadata": {},
   "outputs": [],
   "source": [
    "for parameter in copied:\n",
    "    copied[parameter] = ... "
   ]
  },
  {
   "cell_type": "markdown",
   "metadata": {},
   "source": [
    "As we can see above, if we try to loop through the keys in `copy`, we don't know how we would update the values with. This is when we use the `zip` built-in function."
   ]
  },
  {
   "cell_type": "code",
   "execution_count": null,
   "metadata": {},
   "outputs": [],
   "source": [
    "for (p, a) in zip(self.parameter, arguments):\n",
    "    copied[p] = a"
   ]
  },
  {
   "cell_type": "markdown",
   "metadata": {},
   "source": [
    "Finally, since `self.body` is an instance of the `Expr` class, we can evaluate by calling its `eval` method with the `copy` as the argument."
   ]
  },
  {
   "cell_type": "code",
   "execution_count": null,
   "metadata": {},
   "outputs": [],
   "source": [
    "return self.body.eval(copied)"
   ]
  },
  {
   "cell_type": "code",
   "execution_count": null,
   "metadata": {},
   "outputs": [],
   "source": []
  }
 ],
 "metadata": {
  "kernelspec": {
   "display_name": "Python 3",
   "language": "python",
   "name": "python3"
  },
  "language_info": {
   "codemirror_mode": {
    "name": "ipython",
    "version": 3
   },
   "file_extension": ".py",
   "mimetype": "text/x-python",
   "name": "python",
   "nbconvert_exporter": "python",
   "pygments_lexer": "ipython3",
   "version": "3.6.8"
  }
 },
 "nbformat": 4,
 "nbformat_minor": 2
}
