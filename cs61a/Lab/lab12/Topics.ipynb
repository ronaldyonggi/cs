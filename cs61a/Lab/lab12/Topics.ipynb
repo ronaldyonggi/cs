{
 "cells": [
  {
   "cell_type": "code",
   "execution_count": 1,
   "metadata": {},
   "outputs": [
    {
     "data": {
      "text/plain": [
       "'Connected: @None'"
      ]
     },
     "execution_count": 1,
     "metadata": {},
     "output_type": "execute_result"
    }
   ],
   "source": [
    "%load_ext sql\n",
    "%sql sqlite://"
   ]
  },
  {
   "cell_type": "markdown",
   "metadata": {},
   "source": [
    "# SQL Basics"
   ]
  },
  {
   "cell_type": "markdown",
   "metadata": {},
   "source": [
    "## Creating Tables"
   ]
  },
  {
   "cell_type": "markdown",
   "metadata": {},
   "source": [
    "We can create SQL tables either from scratch or from existing tables. \n",
    "\n",
    "* Each `SELECT` clause specifies the values for one row\n",
    "* Each `UNION` is used to join rows together\n",
    "* `AS` clause gives a name to each column\n",
    "    * The `AS` doesn't need to be repeated for remaining rows after the first."
   ]
  },
  {
   "cell_type": "code",
   "execution_count": null,
   "metadata": {},
   "outputs": [],
   "source": [
    "%%sql\n",
    "CREATE TABLE [table_name] AS\n",
    "    SELECT [val1] AS [column1], [val2] AS [column2], ... UNION\n",
    "    SELECT [val3]             , [val4]             , ... UNION\n",
    "    SELECT [val5]             , [val6]             , ...;"
   ]
  },
  {
   "cell_type": "markdown",
   "metadata": {},
   "source": [
    "For example,"
   ]
  },
  {
   "cell_type": "code",
   "execution_count": 2,
   "metadata": {},
   "outputs": [
    {
     "name": "stdout",
     "output_type": "stream",
     "text": [
      " * sqlite://\n",
      "Done.\n"
     ]
    },
    {
     "data": {
      "text/plain": [
       "[]"
      ]
     },
     "execution_count": 2,
     "metadata": {},
     "output_type": "execute_result"
    }
   ],
   "source": [
    "%%sql\n",
    "CREATE TABLE big_game AS\n",
    "  SELECT 30 AS berkeley, 7 AS stanford, 2002 AS year UNION\n",
    "  SELECT 28,             16,            2003         UNION\n",
    "  SELECT 17,             38,            2014;"
   ]
  },
  {
   "cell_type": "markdown",
   "metadata": {},
   "source": [
    "## Selecting From Tables"
   ]
  },
  {
   "cell_type": "code",
   "execution_count": null,
   "metadata": {},
   "outputs": [],
   "source": [
    "SELECT [columns] FROM [tables] WHERE [condition] ORDER BY [columns] LIMIT [limit];"
   ]
  },
  {
   "cell_type": "markdown",
   "metadata": {},
   "source": [
    "* `SELECT [columns]`: which columns we want to include for the output table\n",
    "    * `[columns]` is a comma-separated list of column names\n",
    "    * `*` can be used to select all columns\n",
    "* `FROM [table]` : which table we want to grab the columns from\n",
    "* `WHERE [condition]` filters the rows that will be displayed in the output table\n",
    "* `ORDER BY [columns]` orders the rows by the rows within the `[columns]`\n",
    "* `LIMIT [limit]` limits the number of rows in the output table by the integer `[limit]`"
   ]
  },
  {
   "cell_type": "markdown",
   "metadata": {},
   "source": [
    "Below is an example of choosing all of Berkeley's scores from the `big_game` table, but only for year later than 2002."
   ]
  },
  {
   "cell_type": "code",
   "execution_count": 3,
   "metadata": {},
   "outputs": [
    {
     "name": "stdout",
     "output_type": "stream",
     "text": [
      " * sqlite://\n",
      "Done.\n"
     ]
    },
    {
     "data": {
      "text/html": [
       "<table>\n",
       "    <tr>\n",
       "        <th>berkeley</th>\n",
       "    </tr>\n",
       "    <tr>\n",
       "        <td>17</td>\n",
       "    </tr>\n",
       "    <tr>\n",
       "        <td>28</td>\n",
       "    </tr>\n",
       "</table>"
      ],
      "text/plain": [
       "[(17,), (28,)]"
      ]
     },
     "execution_count": 3,
     "metadata": {},
     "output_type": "execute_result"
    }
   ],
   "source": [
    "%%sql\n",
    "SELECT berkeley FROM big_game WHERE year > 2002;"
   ]
  },
  {
   "cell_type": "markdown",
   "metadata": {},
   "source": [
    "And below are the scores for both Berkeley and Stanford, but only during the years when Berkeley won:"
   ]
  },
  {
   "cell_type": "code",
   "execution_count": 4,
   "metadata": {},
   "outputs": [
    {
     "name": "stdout",
     "output_type": "stream",
     "text": [
      " * sqlite://\n",
      "Done.\n"
     ]
    },
    {
     "data": {
      "text/html": [
       "<table>\n",
       "    <tr>\n",
       "        <th>berkeley</th>\n",
       "        <th>stanford</th>\n",
       "    </tr>\n",
       "    <tr>\n",
       "        <td>28</td>\n",
       "        <td>16</td>\n",
       "    </tr>\n",
       "    <tr>\n",
       "        <td>30</td>\n",
       "        <td>7</td>\n",
       "    </tr>\n",
       "</table>"
      ],
      "text/plain": [
       "[(28, 16), (30, 7)]"
      ]
     },
     "execution_count": 4,
     "metadata": {},
     "output_type": "execute_result"
    }
   ],
   "source": [
    "%%sql\n",
    "SELECT berkeley, stanford FROM big_game WHERE berkeley > stanford;"
   ]
  },
  {
   "cell_type": "markdown",
   "metadata": {},
   "source": [
    "And below, we select the years when Stanford scored more than 15 points."
   ]
  },
  {
   "cell_type": "code",
   "execution_count": 5,
   "metadata": {},
   "outputs": [
    {
     "name": "stdout",
     "output_type": "stream",
     "text": [
      " * sqlite://\n",
      "Done.\n"
     ]
    },
    {
     "data": {
      "text/html": [
       "<table>\n",
       "    <tr>\n",
       "        <th>year</th>\n",
       "    </tr>\n",
       "    <tr>\n",
       "        <td>2014</td>\n",
       "    </tr>\n",
       "    <tr>\n",
       "        <td>2003</td>\n",
       "    </tr>\n",
       "</table>"
      ],
      "text/plain": [
       "[(2014,), (2003,)]"
      ]
     },
     "execution_count": 5,
     "metadata": {},
     "output_type": "execute_result"
    }
   ],
   "source": [
    "%%sql\n",
    "SELECT year FROM big_game WHERE stanford > 15;"
   ]
  },
  {
   "cell_type": "markdown",
   "metadata": {},
   "source": [
    "## SQL Operators"
   ]
  },
  {
   "cell_type": "markdown",
   "metadata": {},
   "source": [
    "Expressions in the `SELECT`, `WHERE`, and `ORDER BY` clauses can contain one or more of the following operators:\n",
    "* comparison operators: `=`, `>`, `<`, `<=`, `>=`, `<>`, `!=`\n",
    "* boolean operators: `AND`, `OR`\n",
    "* arithmetic operators: `+`, `-`, `*`, `/`\n",
    "* concatenation operators: `||`\n",
    "\n",
    "An example: Output the ratio of Berkeley's score to Stanford's score each year"
   ]
  },
  {
   "cell_type": "code",
   "execution_count": 7,
   "metadata": {},
   "outputs": [
    {
     "name": "stdout",
     "output_type": "stream",
     "text": [
      " * sqlite://\n",
      "Done.\n"
     ]
    },
    {
     "data": {
      "text/html": [
       "<table>\n",
       "    <tr>\n",
       "        <th>berkeley / stanford</th>\n",
       "    </tr>\n",
       "    <tr>\n",
       "        <td>0</td>\n",
       "    </tr>\n",
       "    <tr>\n",
       "        <td>1</td>\n",
       "    </tr>\n",
       "    <tr>\n",
       "        <td>4</td>\n",
       "    </tr>\n",
       "</table>"
      ],
      "text/plain": [
       "[(0,), (1,), (4,)]"
      ]
     },
     "execution_count": 7,
     "metadata": {},
     "output_type": "execute_result"
    }
   ],
   "source": [
    "%%sql\n",
    "SELECT berkeley / stanford FROM big_game;"
   ]
  },
  {
   "cell_type": "markdown",
   "metadata": {},
   "source": [
    "Note that SQL automatically does integer division. If we want `float` division, one of the number has to be a `float`."
   ]
  },
  {
   "cell_type": "code",
   "execution_count": 9,
   "metadata": {},
   "outputs": [
    {
     "name": "stdout",
     "output_type": "stream",
     "text": [
      " * sqlite://\n",
      "Done.\n"
     ]
    },
    {
     "data": {
      "text/html": [
       "<table>\n",
       "    <tr>\n",
       "        <th>berkeley * 1.0 / stanford</th>\n",
       "    </tr>\n",
       "    <tr>\n",
       "        <td>0.4473684210526316</td>\n",
       "    </tr>\n",
       "    <tr>\n",
       "        <td>1.75</td>\n",
       "    </tr>\n",
       "    <tr>\n",
       "        <td>4.285714285714286</td>\n",
       "    </tr>\n",
       "</table>"
      ],
      "text/plain": [
       "[(0.4473684210526316,), (1.75,), (4.285714285714286,)]"
      ]
     },
     "execution_count": 9,
     "metadata": {},
     "output_type": "execute_result"
    }
   ],
   "source": [
    "%%sql\n",
    "SELECT berkeley * 1.0 / stanford FROM big_game;"
   ]
  },
  {
   "cell_type": "markdown",
   "metadata": {},
   "source": [
    "And below is the sum of scores in years where both teams scored over 10 points,"
   ]
  },
  {
   "cell_type": "code",
   "execution_count": 3,
   "metadata": {},
   "outputs": [
    {
     "name": "stdout",
     "output_type": "stream",
     "text": [
      " * sqlite://\n",
      "Done.\n"
     ]
    },
    {
     "data": {
      "text/html": [
       "<table>\n",
       "    <tr>\n",
       "        <th>berkeley + stanford</th>\n",
       "    </tr>\n",
       "    <tr>\n",
       "        <td>55</td>\n",
       "    </tr>\n",
       "    <tr>\n",
       "        <td>44</td>\n",
       "    </tr>\n",
       "</table>"
      ],
      "text/plain": [
       "[(55,), (44,)]"
      ]
     },
     "execution_count": 3,
     "metadata": {},
     "output_type": "execute_result"
    }
   ],
   "source": [
    "%%sql\n",
    "SELECT berkeley + stanford FROM big_game WHERE berkeley > 10 AND stanford > 10;"
   ]
  },
  {
   "cell_type": "markdown",
   "metadata": {},
   "source": [
    "And finally, below is an example of a table with a single column and a single row containing the value `\"hello world\"`."
   ]
  },
  {
   "cell_type": "code",
   "execution_count": 4,
   "metadata": {},
   "outputs": [
    {
     "name": "stdout",
     "output_type": "stream",
     "text": [
      " * sqlite://\n",
      "Done.\n"
     ]
    },
    {
     "data": {
      "text/html": [
       "<table>\n",
       "    <tr>\n",
       "        <th>&quot;hello&quot; || &quot; &quot; || &quot;world&quot;</th>\n",
       "    </tr>\n",
       "    <tr>\n",
       "        <td>hello world</td>\n",
       "    </tr>\n",
       "</table>"
      ],
      "text/plain": [
       "[('hello world',)]"
      ]
     },
     "execution_count": 4,
     "metadata": {},
     "output_type": "execute_result"
    }
   ],
   "source": [
    "%%sql\n",
    "SELECT \"hello\" || \" \" || \"world\";"
   ]
  },
  {
   "cell_type": "markdown",
   "metadata": {},
   "source": [
    "# Joins"
   ]
  },
  {
   "cell_type": "markdown",
   "metadata": {},
   "source": [
    "To select data from multiple tables, we can use `joins`. There are many types of joins, but the one we'll be using is the `inner join`. To perform an `inner join` on 2 or more tables, simply list them out in the `FROM` clause of a `SELECT` statement."
   ]
  },
  {
   "cell_type": "code",
   "execution_count": null,
   "metadata": {},
   "outputs": [],
   "source": [
    "SELECT [columns] FROM [table1], [table2], ... WHERE [condition] ORDER BY [columns] LIMIT [limit];"
   ]
  },
  {
   "cell_type": "markdown",
   "metadata": {},
   "source": [
    "We can select from **multiple different tables** or from **the same table multiple times**. \n",
    "\n",
    "Below we have a table containing the names of football coaches at Cal since 2002,"
   ]
  },
  {
   "cell_type": "code",
   "execution_count": 5,
   "metadata": {},
   "outputs": [
    {
     "name": "stdout",
     "output_type": "stream",
     "text": [
      " * sqlite://\n",
      "Done.\n"
     ]
    },
    {
     "data": {
      "text/plain": [
       "[]"
      ]
     },
     "execution_count": 5,
     "metadata": {},
     "output_type": "execute_result"
    }
   ],
   "source": [
    "%%sql\n",
    "CREATE TABLE coaches AS\n",
    "  SELECT \"Jeff Tedford\" AS name, 2002 as start, 2012 as end UNION\n",
    "  SELECT \"Sonny Dykes\"         , 2013         , 2016        UNION\n",
    "  SELECT \"Justin Wilcox\"       , 2017         , null;"
   ]
  },
  {
   "cell_type": "markdown",
   "metadata": {},
   "source": [
    "If we want to match up each game with the coach that season, we'd have to compare columns from the 2 tables in the `WHERE` clause:"
   ]
  },
  {
   "cell_type": "code",
   "execution_count": 6,
   "metadata": {},
   "outputs": [
    {
     "name": "stdout",
     "output_type": "stream",
     "text": [
      " * sqlite://\n",
      "Done.\n"
     ]
    },
    {
     "data": {
      "text/html": [
       "<table>\n",
       "    <tr>\n",
       "        <th>berkeley</th>\n",
       "        <th>stanford</th>\n",
       "        <th>year</th>\n",
       "        <th>name</th>\n",
       "        <th>start</th>\n",
       "        <th>end</th>\n",
       "    </tr>\n",
       "    <tr>\n",
       "        <td>17</td>\n",
       "        <td>38</td>\n",
       "        <td>2014</td>\n",
       "        <td>Sonny Dykes</td>\n",
       "        <td>2013</td>\n",
       "        <td>2016</td>\n",
       "    </tr>\n",
       "    <tr>\n",
       "        <td>28</td>\n",
       "        <td>16</td>\n",
       "        <td>2003</td>\n",
       "        <td>Jeff Tedford</td>\n",
       "        <td>2002</td>\n",
       "        <td>2012</td>\n",
       "    </tr>\n",
       "    <tr>\n",
       "        <td>30</td>\n",
       "        <td>7</td>\n",
       "        <td>2002</td>\n",
       "        <td>Jeff Tedford</td>\n",
       "        <td>2002</td>\n",
       "        <td>2012</td>\n",
       "    </tr>\n",
       "</table>"
      ],
      "text/plain": [
       "[(17, 38, 2014, 'Sonny Dykes', 2013, 2016),\n",
       " (28, 16, 2003, 'Jeff Tedford', 2002, 2012),\n",
       " (30, 7, 2002, 'Jeff Tedford', 2002, 2012)]"
      ]
     },
     "execution_count": 6,
     "metadata": {},
     "output_type": "execute_result"
    }
   ],
   "source": [
    "%%sql\n",
    "SELECT * FROM big_game, coaches WHERE year >= start AND year <= end;"
   ]
  },
  {
   "cell_type": "markdown",
   "metadata": {},
   "source": [
    "The following query outputs the name of the coach and the year for each Berkeley win recorded in `big_game`."
   ]
  },
  {
   "cell_type": "code",
   "execution_count": 11,
   "metadata": {},
   "outputs": [
    {
     "name": "stdout",
     "output_type": "stream",
     "text": [
      " * sqlite://\n",
      "Done.\n"
     ]
    },
    {
     "data": {
      "text/html": [
       "<table>\n",
       "    <tr>\n",
       "        <th>name</th>\n",
       "        <th>year</th>\n",
       "    </tr>\n",
       "    <tr>\n",
       "        <td>Jeff Tedford</td>\n",
       "        <td>2003</td>\n",
       "    </tr>\n",
       "    <tr>\n",
       "        <td>Jeff Tedford</td>\n",
       "        <td>2002</td>\n",
       "    </tr>\n",
       "</table>"
      ],
      "text/plain": [
       "[('Jeff Tedford', 2003), ('Jeff Tedford', 2002)]"
      ]
     },
     "execution_count": 11,
     "metadata": {},
     "output_type": "execute_result"
    }
   ],
   "source": [
    "%%sql\n",
    "SELECT name, year FROM big_game, coaches\n",
    "    WHERE berkeley > stanford AND year >= start AND year <= end;"
   ]
  },
  {
   "cell_type": "markdown",
   "metadata": {},
   "source": [
    "The queries above are relatively easy to make since none of the column names are ambiguous (e.g. the `name` column is from the `coaches` table, there's no `name` column in `big_game` table).\n",
    "\n",
    "In case the same column name exists in more than one of the tables being joined, we need to disambiguate the column names using `aliases`.\n",
    "\n",
    "For example, if we want to find the score difference for each team between a year and another year's game, we join `big_game` with itself."
   ]
  },
  {
   "cell_type": "code",
   "execution_count": 18,
   "metadata": {},
   "outputs": [
    {
     "name": "stdout",
     "output_type": "stream",
     "text": [
      " * sqlite://\n",
      "Done.\n"
     ]
    },
    {
     "data": {
      "text/html": [
       "<table>\n",
       "    <tr>\n",
       "        <th>Berkeley Differences</th>\n",
       "        <th>Stanford Differences</th>\n",
       "        <th>Later</th>\n",
       "        <th>Earlier</th>\n",
       "    </tr>\n",
       "    <tr>\n",
       "        <td>-11</td>\n",
       "        <td>22</td>\n",
       "        <td>2014</td>\n",
       "        <td>2003</td>\n",
       "    </tr>\n",
       "    <tr>\n",
       "        <td>-13</td>\n",
       "        <td>31</td>\n",
       "        <td>2014</td>\n",
       "        <td>2002</td>\n",
       "    </tr>\n",
       "    <tr>\n",
       "        <td>-2</td>\n",
       "        <td>9</td>\n",
       "        <td>2003</td>\n",
       "        <td>2002</td>\n",
       "    </tr>\n",
       "</table>"
      ],
      "text/plain": [
       "[(-11, 22, 2014, 2003), (-13, 31, 2014, 2002), (-2, 9, 2003, 2002)]"
      ]
     },
     "execution_count": 18,
     "metadata": {},
     "output_type": "execute_result"
    }
   ],
   "source": [
    "%%sql\n",
    "SELECT b.berkeley - a.berkeley as 'Berkeley Differences',\n",
    "       b.stanford - a.stanford as 'Stanford Differences',\n",
    "       b.year as 'Later', a.year as 'Earlier'\n",
    "    FROM big_game AS b, big_game as a where a.year < b.year;\n",
    "        "
   ]
  },
  {
   "cell_type": "markdown",
   "metadata": {},
   "source": [
    "In the query above, we give the alias `a` to the 1st `big_game` table and `b` to the 2nd `big_game` table. We can then reference columns from each table using dot notation with the aliases."
   ]
  }
 ],
 "metadata": {
  "kernelspec": {
   "display_name": "Python 3",
   "language": "python",
   "name": "python3"
  },
  "language_info": {
   "codemirror_mode": {
    "name": "ipython",
    "version": 3
   },
   "file_extension": ".py",
   "mimetype": "text/x-python",
   "name": "python",
   "nbconvert_exporter": "python",
   "pygments_lexer": "ipython3",
   "version": "3.7.3"
  }
 },
 "nbformat": 4,
 "nbformat_minor": 4
}
