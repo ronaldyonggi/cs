{
 "cells": [
  {
   "cell_type": "markdown",
   "metadata": {},
   "source": [
    "# `python ok -q lambda -u`\n",
    "## Lambda the Free > Suite 1 > Case 1\n",
    "(Cases Remaining: 6)"
   ]
  },
  {
   "cell_type": "markdown",
   "metadata": {},
   "source": [
    "#### Q: Which of the following statements describes a difference between a `def` statement and a lambda expression?\n",
    "\n",
    "Choose the number of the correct choice:\n",
    "\n",
    "0. A def statement can only have one line in its body.\n",
    "1. A lambda expression does not automatically bind the function object that it returns to any name. **Ans**\n",
    "2. A lambda expression cannot return another function.\n",
    "3. A lambda expression cannot have more than two parameters."
   ]
  },
  {
   "cell_type": "markdown",
   "metadata": {},
   "source": [
    "#### Q: How many parameters does the following lambda expression have?\n",
    "`lambda a, b: c + d`\n",
    "\n",
    "Choose the number of the correct choice:\n",
    "\n",
    "0. one\n",
    "1. Not enough information\n",
    "2. two **Ans**\n",
    "3. three"
   ]
  },
  {
   "cell_type": "markdown",
   "metadata": {},
   "source": [
    "#### Q: When is the return expression of a lambda expression executed?\n",
    "Choose the number of the correct choice:\n",
    "\n",
    "0. When you pass the lambda expression into another function.\n",
    "1. When you assign the lambda expression to a name.\n",
    "2. When the lambda expression is evaluated.\n",
    "3. When the function returned by the lambda expression is called. **Ans**"
   ]
  },
  {
   "cell_type": "markdown",
   "metadata": {},
   "source": [
    "## Lambda the Free > Suite 2 > Case 1\n",
    "(cases remaining: 3)\n",
    "\n",
    "What would Python display? If you get stuck, try it out in the Python\n",
    "interpreter!"
   ]
  },
  {
   "cell_type": "code",
   "execution_count": null,
   "metadata": {},
   "outputs": [],
   "source": [
    ">>> lambda x: x  # A lambda expression with one parameter x\n",
    "\n",
    "# Ans: Function"
   ]
  },
  {
   "cell_type": "code",
   "execution_count": null,
   "metadata": {},
   "outputs": [],
   "source": [
    ">>> a = lambda x: x  # Assigning a lambda function to the name a\n",
    "a(5)\n",
    "\n",
    "# Ans: 5"
   ]
  },
  {
   "cell_type": "code",
   "execution_count": null,
   "metadata": {},
   "outputs": [],
   "source": [
    ">>> (lambda: 3)()  # Using a lambda expression as an operator in a call exp.\n",
    "\n",
    "# Ans: 3"
   ]
  },
  {
   "cell_type": "code",
   "execution_count": null,
   "metadata": {},
   "outputs": [],
   "source": [
    ">>> b = lambda x: lambda: x  # Lambdas can return other lambdas!\n",
    ">>> c = b(88)\n",
    ">>> c\n",
    "\n",
    "# Ans: Function"
   ]
  },
  {
   "cell_type": "code",
   "execution_count": null,
   "metadata": {},
   "outputs": [],
   "source": [
    ">>> c()\n",
    "\n",
    "#Ans: 88"
   ]
  },
  {
   "cell_type": "code",
   "execution_count": 1,
   "metadata": {},
   "outputs": [
    {
     "data": {
      "text/plain": [
       "16"
      ]
     },
     "execution_count": 1,
     "metadata": {},
     "output_type": "execute_result"
    }
   ],
   "source": [
    ">>> d = lambda f: f(4)  # They can have functions as arguments as well\n",
    ">>> def square(x):\n",
    "...     return x * x\n",
    ">>> d(square)\n",
    "\n",
    "# Ans: 16\n",
    "# When we call d(square), the f in the lambda function becomes the square f"
   ]
  },
  {
   "cell_type": "markdown",
   "metadata": {},
   "source": [
    "## Lambda the Free > Suite 2 > Case 2\n",
    "(cases remaining: 2)"
   ]
  },
  {
   "cell_type": "code",
   "execution_count": null,
   "metadata": {},
   "outputs": [],
   "source": [
    ">>> #\n",
    ">>> # Pay attention to the scope of variables\n",
    ">>> z = 3\n",
    ">>> e = lambda x: lambda y: lambda: x + y + z\n",
    ">>> e(0)(1)()\n",
    "\n",
    "# Ans: 4"
   ]
  },
  {
   "cell_type": "code",
   "execution_count": null,
   "metadata": {},
   "outputs": [],
   "source": [
    ">>> f = lambda z: x + z\n",
    ">>> f(3)\n",
    "\n",
    "# Ans: Error. We don't have x so we don't know what x is."
   ]
  },
  {
   "cell_type": "markdown",
   "metadata": {},
   "source": [
    "## Lambda the Free > Suite 2 > Case 3\n",
    "\n",
    "(cases remaining: 1)"
   ]
  },
  {
   "cell_type": "code",
   "execution_count": null,
   "metadata": {},
   "outputs": [],
   "source": [
    ">>> # Try drawing an environment diagram if you get stuck!\n",
    ">>> higher_order_lambda = lambda f: lambda x: f(x)\n",
    ">>> g = lambda x: x * x\n",
    ">>> higher_order_lambda(2)(g) # Which argument belongs to which function call?\n",
    "\n",
    "# Ans: error"
   ]
  },
  {
   "cell_type": "markdown",
   "metadata": {},
   "source": [
    "In the code below, it gives us an error since this means we're assigning:\n",
    "1. `f` to `2`\n",
    "2. `x` to `g`\n",
    "\n",
    "Thus, we're calling `2(g)`, which doesn't make sense."
   ]
  },
  {
   "cell_type": "code",
   "execution_count": null,
   "metadata": {},
   "outputs": [],
   "source": [
    ">>> higher_order_lambda(g)(2)\n",
    "\n",
    "# Ans: 4"
   ]
  },
  {
   "cell_type": "code",
   "execution_count": null,
   "metadata": {},
   "outputs": [],
   "source": [
    ">>> call_thrice = lambda f: lambda x: f(f(f(x)))\n",
    ">>> call_thrice(lambda y: y + 1)(0)\n",
    "\n",
    "# Ans: 3"
   ]
  },
  {
   "cell_type": "code",
   "execution_count": null,
   "metadata": {},
   "outputs": [],
   "source": [
    ">>> print_lambda = lambda z: print(z)\n",
    ">>> print_lambda\n",
    "\n",
    "# Ans: Function"
   ]
  },
  {
   "cell_type": "code",
   "execution_count": null,
   "metadata": {},
   "outputs": [],
   "source": [
    ">>> one_thousand = print_lambda(1000)\n",
    "\n",
    "# Ans: 1000"
   ]
  },
  {
   "cell_type": "code",
   "execution_count": null,
   "metadata": {},
   "outputs": [],
   "source": [
    ">>> one_thousand\n",
    "\n",
    "# Ans: nothing"
   ]
  },
  {
   "cell_type": "markdown",
   "metadata": {},
   "source": [
    "# `python ok -q hof -u`\n",
    "## HOF > Suite 1 > Case 1\n",
    "(cases remaining: 2)\n",
    "\n",
    "What would Python display? If you get stuck, try it out in the Python\n",
    "interpreter!"
   ]
  },
  {
   "cell_type": "code",
   "execution_count": null,
   "metadata": {},
   "outputs": [],
   "source": [
    ">>> def even(f):\n",
    "...     def odd(x):\n",
    "...         if x < 0:\n",
    "...             return f(-x)\n",
    "...         return f(x)\n",
    "...     return odd\n",
    ">>> steven = lambda x: x\n",
    ">>> stewart = even(steven)\n",
    ">>> stewart\n",
    "\n",
    "# Ans: Function"
   ]
  },
  {
   "cell_type": "markdown",
   "metadata": {},
   "source": [
    "As we can see above, `steven` is passed in as the `f`. This means `stewart` is still missing an argument `x` before it can be fully called."
   ]
  },
  {
   "cell_type": "code",
   "execution_count": null,
   "metadata": {},
   "outputs": [],
   "source": [
    ">>> stewart(61)\n",
    "\n",
    "# Ans: 61"
   ]
  },
  {
   "cell_type": "code",
   "execution_count": null,
   "metadata": {},
   "outputs": [],
   "source": [
    ">>> stewart(-4)\n",
    "\n",
    "# Ans: 4"
   ]
  },
  {
   "cell_type": "markdown",
   "metadata": {},
   "source": [
    "## HOF > Suite 1 > Case 2\n",
    "(cases remaining: 1)"
   ]
  },
  {
   "cell_type": "code",
   "execution_count": null,
   "metadata": {},
   "outputs": [],
   "source": [
    ">>> # Try drawing an environment diagram if you get stuck!\n",
    ">>> higher_order_lambda = lambda f: lambda x: f(x)\n",
    ">>> def cake():\n",
    "...    print('beets')\n",
    "...    def pie():\n",
    "...        print('sweets')\n",
    "...        return 'cake'\n",
    "...    return pie\n",
    ">>> chocolate = cake()\n",
    "\n",
    "#Ans: beets"
   ]
  },
  {
   "cell_type": "code",
   "execution_count": null,
   "metadata": {},
   "outputs": [],
   "source": [
    ">>> chocolate\n",
    "\n",
    "#Ans: Function"
   ]
  },
  {
   "cell_type": "code",
   "execution_count": null,
   "metadata": {},
   "outputs": [],
   "source": [
    ">>> chocolate()\n",
    "\n",
    "#Ans:\n",
    "# Line 1: sweets\n",
    "# Line 2: 'cake'"
   ]
  },
  {
   "cell_type": "markdown",
   "metadata": {},
   "source": [
    "Above, chocolate is bound to the `pie` function. Calling `chocolate()` is thus equivalent to calling `pie()`."
   ]
  },
  {
   "cell_type": "code",
   "execution_count": null,
   "metadata": {},
   "outputs": [],
   "source": [
    ">>> more_chocolate, more_cake = chocolate(), cake\n",
    "\n",
    "# Ans: sweets"
   ]
  },
  {
   "cell_type": "markdown",
   "metadata": {},
   "source": [
    "Above, when we assign `more_chocolate` to `chocolate()`, the line prints `sweets`. Even an assignment statement executes a `print` statement!"
   ]
  },
  {
   "cell_type": "code",
   "execution_count": null,
   "metadata": {},
   "outputs": [],
   "source": [
    ">>> more_chocolate\n",
    "\n",
    "# Ans: 'cake'"
   ]
  },
  {
   "cell_type": "code",
   "execution_count": null,
   "metadata": {},
   "outputs": [],
   "source": [
    ">>> def snake(x, y):\n",
    "...    if cake == more_cake:\n",
    "...        return lambda: x + y\n",
    "...    else:\n",
    "...        return x + y\n",
    ">>> snake(10, 20)\n",
    "\n",
    "# Ans: Function\n"
   ]
  },
  {
   "cell_type": "markdown",
   "metadata": {},
   "source": [
    "Recall we assigned `more_cake` = `cake`. Thus the function `snake` above returns a lambda function."
   ]
  },
  {
   "cell_type": "code",
   "execution_count": null,
   "metadata": {},
   "outputs": [],
   "source": [
    ">>> snake(10, 20)()\n",
    "\n",
    "#Ans: 30"
   ]
  },
  {
   "cell_type": "code",
   "execution_count": null,
   "metadata": {},
   "outputs": [],
   "source": [
    ">>> cake = 'cake'\n",
    ">>> snake(10, 20)\n",
    "\n",
    "# Ans: 30"
   ]
  },
  {
   "cell_type": "markdown",
   "metadata": {},
   "source": [
    "## Q3: Lambdas and Curying\n",
    "\n",
    "Write a function `lambda_curry2` that will curry any two argument function using lambdas."
   ]
  },
  {
   "cell_type": "code",
   "execution_count": 6,
   "metadata": {},
   "outputs": [],
   "source": [
    "def lambda_curry2(func):\n",
    "    \"\"\"\n",
    "    Returns a Curried version of a two-argument function FUNC.\n",
    "    >>> from operator import add\n",
    "    >>> curried_add = lambda_curry2(add)\n",
    "    >>> add_three = curried_add(3)\n",
    "    >>> add_three(5)\n",
    "    8\n",
    "    \"\"\"\n",
    "    \"*** YOUR CODE HERE ***\"\n",
    "    return lambda x: lambda y: func(x, y)"
   ]
  },
  {
   "cell_type": "code",
   "execution_count": 7,
   "metadata": {},
   "outputs": [
    {
     "data": {
      "text/plain": [
       "8"
      ]
     },
     "execution_count": 7,
     "metadata": {},
     "output_type": "execute_result"
    }
   ],
   "source": [
    "from operator import *\n",
    "curried_add = lambda_curry2(add)\n",
    "add_three = curried_add(3)\n",
    "add_three(5)"
   ]
  },
  {
   "cell_type": "markdown",
   "metadata": {},
   "source": [
    "Looking at the doctests above, we see that `lambda_curry2` can take 2 integer inputs, and ultimately combines the integer with `func`. One possible ways of doing this in one line is using lambda function with 2 arguments as written above.\n",
    "\n",
    "Note that the following won't work!"
   ]
  },
  {
   "cell_type": "code",
   "execution_count": 1,
   "metadata": {},
   "outputs": [],
   "source": [
    "def lambda_curry2(func):\n",
    "    return lambda x, y: func(x, y)"
   ]
  },
  {
   "cell_type": "code",
   "execution_count": 2,
   "metadata": {},
   "outputs": [
    {
     "ename": "TypeError",
     "evalue": "<lambda>() missing 1 required positional argument: 'y'",
     "output_type": "error",
     "traceback": [
      "\u001b[1;31m---------------------------------------------------------------------------\u001b[0m",
      "\u001b[1;31mTypeError\u001b[0m                                 Traceback (most recent call last)",
      "\u001b[1;32m<ipython-input-2-029293c0280b>\u001b[0m in \u001b[0;36m<module>\u001b[1;34m\u001b[0m\n\u001b[0;32m      1\u001b[0m \u001b[1;32mfrom\u001b[0m \u001b[0moperator\u001b[0m \u001b[1;32mimport\u001b[0m \u001b[1;33m*\u001b[0m\u001b[1;33m\u001b[0m\u001b[1;33m\u001b[0m\u001b[0m\n\u001b[0;32m      2\u001b[0m \u001b[0mcurried_add\u001b[0m \u001b[1;33m=\u001b[0m \u001b[0mlambda_curry2\u001b[0m\u001b[1;33m(\u001b[0m\u001b[0madd\u001b[0m\u001b[1;33m)\u001b[0m\u001b[1;33m\u001b[0m\u001b[1;33m\u001b[0m\u001b[0m\n\u001b[1;32m----> 3\u001b[1;33m \u001b[0madd_three\u001b[0m \u001b[1;33m=\u001b[0m \u001b[0mcurried_add\u001b[0m\u001b[1;33m(\u001b[0m\u001b[1;36m3\u001b[0m\u001b[1;33m)\u001b[0m\u001b[1;33m\u001b[0m\u001b[1;33m\u001b[0m\u001b[0m\n\u001b[0m\u001b[0;32m      4\u001b[0m \u001b[0madd_three\u001b[0m\u001b[1;33m(\u001b[0m\u001b[1;36m5\u001b[0m\u001b[1;33m)\u001b[0m\u001b[1;33m\u001b[0m\u001b[1;33m\u001b[0m\u001b[0m\n",
      "\u001b[1;31mTypeError\u001b[0m: <lambda>() missing 1 required positional argument: 'y'"
     ]
    }
   ],
   "source": [
    "from operator import *\n",
    "curried_add = lambda_curry2(add)\n",
    "add_three = curried_add(3)\n",
    "add_three(5)"
   ]
  },
  {
   "cell_type": "markdown",
   "metadata": {},
   "source": [
    "The implementation above doesn't work because it asks for the argument `x` and `y` on the same time. You can't call the function on a step-by-step basis."
   ]
  },
  {
   "cell_type": "markdown",
   "metadata": {},
   "source": [
    "# Optional Questions"
   ]
  },
  {
   "cell_type": "markdown",
   "metadata": {},
   "source": [
    "# Environment Diagram Practice\n",
    "\n",
    "## Q4: Make Adder\n",
    "Draw the environment diagram for the following code:"
   ]
  },
  {
   "cell_type": "code",
   "execution_count": 2,
   "metadata": {},
   "outputs": [
    {
     "data": {
      "text/plain": [
       "19"
      ]
     },
     "execution_count": 2,
     "metadata": {},
     "output_type": "execute_result"
    }
   ],
   "source": [
    "n = 9\n",
    "def make_adder(n):\n",
    "    return lambda k: k + n\n",
    "\n",
    "add_ten = make_adder(n+1)\n",
    "result = add_ten(n)"
   ]
  },
  {
   "cell_type": "markdown",
   "metadata": {},
   "source": [
    "There are 3 frames total (including the Global frame). In addition, consider the following questions:\n",
    "\n",
    "1. In the Global frame, the name `add_ten` points to a function object. What is the intrinsic name of that function object, and what frame is its parent?\n",
    "2. In frame f2, what name is the frame labeled with (`add_ten` or λ)? Which frame is the parent of `f2`?\n",
    "3. What value is the variable `result` bound to in the Global frame?"
   ]
  },
  {
   "cell_type": "markdown",
   "metadata": {},
   "source": [
    "#### Answer:\n",
    "1. The intrinsic name of the function object is `make_adder`. Its parent frame is the Global frame.\n",
    "2. The frame `f2` is labeled `λ`. The parent of `f2` is in the frame `f1`\n",
    "3. `19`"
   ]
  },
  {
   "cell_type": "markdown",
   "metadata": {},
   "source": [
    "# Q5: Lambda the Environment Diagram\n",
    "Try drawing an environment diagram for the following code and predict what Python will output."
   ]
  },
  {
   "cell_type": "code",
   "execution_count": 3,
   "metadata": {},
   "outputs": [
    {
     "data": {
      "text/plain": [
       "21"
      ]
     },
     "execution_count": 3,
     "metadata": {},
     "output_type": "execute_result"
    }
   ],
   "source": [
    ">>> a = lambda x: x * 2 + 1\n",
    ">>> def b(b, x):\n",
    "...     return b(x + a(x))\n",
    ">>> x = 3\n",
    ">>> b(a, x)\n",
    "\n",
    "#Ans: 21"
   ]
  },
  {
   "cell_type": "markdown",
   "metadata": {},
   "source": [
    "# More Coding Practice"
   ]
  },
  {
   "cell_type": "markdown",
   "metadata": {},
   "source": [
    "## Q6: Composite Identity Function\n",
    "\n",
    "If we look at both `compose1` and `composite_identity` doctests, the method of calling the functions are similar. Thus, chances are the implementation are similar: use a `lambda` function that involves an argument `x`. Then it's a matter of checking if `f(g(x))` is equal to `g(f(x))`."
   ]
  },
  {
   "cell_type": "code",
   "execution_count": null,
   "metadata": {},
   "outputs": [],
   "source": [
    "def composite_identity(f, g):\n",
    "    return lambda x: f(g(x)) == g(f(x))"
   ]
  },
  {
   "cell_type": "markdown",
   "metadata": {},
   "source": [
    "## Q7: Count van Count\n",
    "\n",
    "Looking at the doctests, the function call involves fulfilling a `condition` and an integer, thus it is likely that you should use higher-order function."
   ]
  },
  {
   "cell_type": "code",
   "execution_count": 3,
   "metadata": {},
   "outputs": [],
   "source": [
    "def count_cond(condition):\n",
    "    def helper(n):\n",
    "        i, count = 1, 0\n",
    "        while i <= n:\n",
    "            if condition(n, i):\n",
    "                count += 1\n",
    "            i += 1\n",
    "        return count\n",
    "    return helper"
   ]
  },
  {
   "cell_type": "markdown",
   "metadata": {},
   "source": [
    "## Q8: I Heard You Liked Functions...\n",
    "\n",
    "Looking at the doctest of the first example,"
   ]
  },
  {
   "cell_type": "code",
   "execution_count": null,
   "metadata": {},
   "outputs": [],
   "source": [
    ">>> my_cycle = cycle(add1, times2, add3)\n",
    ">>> identity = my_cycle(0)\n",
    ">>> identity(5)\n",
    "5"
   ]
  },
  {
   "cell_type": "markdown",
   "metadata": {},
   "source": [
    "We can deduce that `0` would be the `n` and `5` would be the `x`. It is likely that the implementation involves higher-order function. Note that `n` is taken first, while `x` is taken after."
   ]
  },
  {
   "cell_type": "code",
   "execution_count": null,
   "metadata": {},
   "outputs": [],
   "source": [
    "def cycle(f1, f2, f3):\n",
    "    def take_n(n):\n",
    "        def take_x(x):\n",
    "            ..."
   ]
  },
  {
   "cell_type": "markdown",
   "metadata": {},
   "source": [
    "One of the tricks that we can do is to start the cycle with a counter `i` = `0`. This way, we can do the following:\n",
    "\n",
    "1. If `i` is divisible by 3, then apply `f1`.\n",
    "    * We start with `i` = 0. `0 % 3 = 0`. This way, the cycle will always start with applying `f1`\n",
    "2. If `i % 3 = 1`, then apply `f2`\n",
    "    * If `i` = `1`, then `1 % 3 = 1`.\n",
    "3. Else, apply `f3`\n",
    "    * If `i` = 2, then `2 % 3 = 2`.\n",
    "4. The cycle implementation is done! Note that `i = 3` satisfies the condition where `i` is divisible by 3.\n",
    "\n",
    "Note that we only initialized the variable `i`, but we don't use initialize a variable that keeps track of the value so far (e.g. `total`). This is because we are changing the value that is given as the argument (`x`). "
   ]
  },
  {
   "cell_type": "code",
   "execution_count": 4,
   "metadata": {},
   "outputs": [],
   "source": [
    "def cycle(f1, f2, f3):\n",
    "    def take_n(n):\n",
    "        def take_x(x):\n",
    "            i = 0\n",
    "            while i < n:\n",
    "                if i % 3 == 0:\n",
    "                    x = f1(x)\n",
    "                elif i % 3 == 1:\n",
    "                    x = f2(x)\n",
    "                else:\n",
    "                    x = f3(x)\n",
    "                i += 1\n",
    "            return x\n",
    "        return take_x\n",
    "    return take_n"
   ]
  },
  {
   "cell_type": "code",
   "execution_count": null,
   "metadata": {},
   "outputs": [],
   "source": []
  }
 ],
 "metadata": {
  "kernelspec": {
   "display_name": "Python 3",
   "language": "python",
   "name": "python3"
  },
  "language_info": {
   "codemirror_mode": {
    "name": "ipython",
    "version": 3
   },
   "file_extension": ".py",
   "mimetype": "text/x-python",
   "name": "python",
   "nbconvert_exporter": "python",
   "pygments_lexer": "ipython3",
   "version": "3.7.2"
  }
 },
 "nbformat": 4,
 "nbformat_minor": 2
}
