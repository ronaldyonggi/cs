{
 "cells": [
  {
   "cell_type": "markdown",
   "metadata": {},
   "source": [
    "### Writer Note:\n",
    "The problems that are labeled **SOLUTION MANUAL** or **CONSULTED FROM SOLUTION MANUAL** are the problem that I couldn't fully understand / solve even after reading the solution manual."
   ]
  },
  {
   "cell_type": "markdown",
   "metadata": {},
   "source": [
    "# Scheme"
   ]
  },
  {
   "cell_type": "markdown",
   "metadata": {},
   "source": [
    "## Question 0"
   ]
  },
  {
   "cell_type": "markdown",
   "metadata": {},
   "source": [
    "#### What Will Scheme Output?"
   ]
  },
  {
   "cell_type": "code",
   "execution_count": 1,
   "metadata": {},
   "outputs": [
    {
     "data": {
      "text/plain": [
       "false"
      ]
     },
     "execution_count": 1,
     "metadata": {},
     "output_type": "execute_result"
    }
   ],
   "source": [
    "(or 'false (/ 1 0) 'true)\n",
    "; Ans: false"
   ]
  },
  {
   "cell_type": "markdown",
   "metadata": {},
   "source": [
    "Above, recall that `or` evaluates to the first true value. The `'false` is not actually a `false` value, but rather it behaves like a string. A \"string\" doesn't evaluate to a `false` value and thus, Scheme returns it."
   ]
  },
  {
   "cell_type": "code",
   "execution_count": 2,
   "metadata": {},
   "outputs": [
    {
     "data": {
      "text/plain": [
       "(1 2 3)"
      ]
     },
     "execution_count": 2,
     "metadata": {},
     "output_type": "execute_result"
    }
   ],
   "source": [
    "'(1 2 3)\n",
    "; Ans: (1 2 3)"
   ]
  },
  {
   "cell_type": "code",
   "execution_count": 3,
   "metadata": {},
   "outputs": [
    {
     "data": {
      "text/plain": [
       "(1 2 3)"
      ]
     },
     "execution_count": 3,
     "metadata": {},
     "output_type": "execute_result"
    }
   ],
   "source": [
    "'(1 . (2 . (3 . ())))\n",
    "; Ans: '(1 2 3)"
   ]
  },
  {
   "cell_type": "code",
   "execution_count": 5,
   "metadata": {},
   "outputs": [
    {
     "data": {
      "text/plain": [
       "(((1 . 2) . 3) 4 5 . 6)"
      ]
     },
     "execution_count": 5,
     "metadata": {},
     "output_type": "execute_result"
    }
   ],
   "source": [
    "'(((1 . 2) . 3) 4 . (5 . 6))\n",
    "; Ans: (((1 . 2) . 3) 4 5 . 6)"
   ]
  },
  {
   "cell_type": "code",
   "execution_count": 6,
   "metadata": {},
   "outputs": [
    {
     "data": {
      "text/plain": [
       "(1 . 2)"
      ]
     },
     "execution_count": 6,
     "metadata": {},
     "output_type": "execute_result"
    }
   ],
   "source": [
    "(cons 1 2)\n",
    "; Ans: (1 . 2)"
   ]
  },
  {
   "cell_type": "code",
   "execution_count": 7,
   "metadata": {},
   "outputs": [
    {
     "data": {
      "text/plain": [
       "(2)"
      ]
     },
     "execution_count": 7,
     "metadata": {},
     "output_type": "execute_result"
    }
   ],
   "source": [
    "(cons 2 '())\n",
    "; Ans: (2)"
   ]
  },
  {
   "cell_type": "code",
   "execution_count": 8,
   "metadata": {},
   "outputs": [
    {
     "data": {
      "text/plain": [
       "(1 2)"
      ]
     },
     "execution_count": 8,
     "metadata": {},
     "output_type": "execute_result"
    }
   ],
   "source": [
    "(cons 1 (cons 2 '()))\n",
    "; Ans: (1 2)"
   ]
  },
  {
   "cell_type": "code",
   "execution_count": 9,
   "metadata": {},
   "outputs": [
    {
     "data": {
      "text/plain": [
       "(1 2 . 3)"
      ]
     },
     "execution_count": 9,
     "metadata": {},
     "output_type": "execute_result"
    }
   ],
   "source": [
    "(cons 1 (cons 2 3))\n",
    "; Ans: (1 2 . 3)"
   ]
  },
  {
   "cell_type": "code",
   "execution_count": 11,
   "metadata": {},
   "outputs": [
    {
     "data": {
      "text/plain": [
       "((1 2 3 4) 2 . 3)"
      ]
     },
     "execution_count": 11,
     "metadata": {},
     "output_type": "execute_result"
    }
   ],
   "source": [
    "(cons (cons (car '(1 2 3)) (list 2 3 4)) (cons 2 3))\n",
    "; Ans: ((1 2 3 4) 2 . 3)\n"
   ]
  },
  {
   "cell_type": "code",
   "execution_count": 22,
   "metadata": {},
   "outputs": [
    {
     "data": {
      "text/plain": [
       "((1 2) 3 (4 5))"
      ]
     },
     "execution_count": 22,
     "metadata": {},
     "output_type": "execute_result"
    }
   ],
   "source": [
    "(define x '((1 2) 3 (4 5)))\n",
    "x"
   ]
  },
  {
   "cell_type": "code",
   "execution_count": 23,
   "metadata": {},
   "outputs": [
    {
     "data": {
      "text/plain": [
       "2"
      ]
     },
     "execution_count": 23,
     "metadata": {},
     "output_type": "execute_result"
    }
   ],
   "source": [
    "(cadar x)"
   ]
  },
  {
   "cell_type": "code",
   "execution_count": 24,
   "metadata": {},
   "outputs": [
    {
     "data": {
      "text/plain": [
       "(4 5)"
      ]
     },
     "execution_count": 24,
     "metadata": {},
     "output_type": "execute_result"
    }
   ],
   "source": [
    "(caddr x)"
   ]
  },
  {
   "cell_type": "code",
   "execution_count": 25,
   "metadata": {},
   "outputs": [
    {
     "data": {
      "text/plain": [
       "()"
      ]
     },
     "execution_count": 25,
     "metadata": {},
     "output_type": "execute_result"
    }
   ],
   "source": [
    "(cddar x)"
   ]
  },
  {
   "cell_type": "code",
   "execution_count": 26,
   "metadata": {},
   "outputs": [
    {
     "data": {
      "text/plain": [
       "((4 5))"
      ]
     },
     "execution_count": 26,
     "metadata": {},
     "output_type": "execute_result"
    }
   ],
   "source": [
    "(cddr x)"
   ]
  },
  {
   "cell_type": "markdown",
   "metadata": {},
   "source": [
    "## Question 1"
   ]
  },
  {
   "cell_type": "markdown",
   "metadata": {},
   "source": [
    "Spot the bug(s)!"
   ]
  },
  {
   "cell_type": "code",
   "execution_count": 31,
   "metadata": {},
   "outputs": [],
   "source": [
    "(define (sum-every-other lst)\n",
    "  (cond\n",
    "   ((null? lst) lst)\n",
    "   (else (+\n",
    "          (cdr lst)\n",
    "          (sum-every-other (caar lst))\n",
    "          ) ; End of +\n",
    "         ) ; End of else\n",
    "   ) ; End of cond\n",
    "  ) ; End of define"
   ]
  },
  {
   "cell_type": "markdown",
   "metadata": {},
   "source": [
    "Notice above that we're adding the `cdr lst` with the recursive call `sum-every-other` of `caar lst`. If our list was `(1 2 3)`, this means we're adding together `(2 3)` with the recursive call `sum-every-other` on the `car` of the integer `1`, which doesn't make sense.\n",
    "\n",
    "On top of that, the base case is that if `lst` is empty, then return `lst`. This is wrong! We want to sum up the values in each `.first`, not the list itself!\n",
    "\n",
    "First of all, we need to change the base case so that when `lst` is empty, Scheme would return 0."
   ]
  },
  {
   "cell_type": "code",
   "execution_count": null,
   "metadata": {},
   "outputs": [],
   "source": [
    "((null? lst) 0)"
   ]
  },
  {
   "cell_type": "markdown",
   "metadata": {},
   "source": [
    "Otherwise, we would add together `car lst` with the result of calling recursive `sum-every-other` on `(cdr (cdr lst))`."
   ]
  },
  {
   "cell_type": "code",
   "execution_count": null,
   "metadata": {},
   "outputs": [],
   "source": [
    "(else (+ (car lst) (sum-every-other (cdr (cdr lst)))))"
   ]
  },
  {
   "cell_type": "markdown",
   "metadata": {},
   "source": [
    "Beware that we also need to consider a case where the last element of the list is part of the elements that we're summing up! If we didn't consider this case, we would run into an error because Scheme would call `sum-every-other` on the `cdr cdr` of the last element, which is an overkill of an empty list!"
   ]
  },
  {
   "cell_type": "code",
   "execution_count": 28,
   "metadata": {},
   "outputs": [
    {
     "name": "stderr",
     "output_type": "stream",
     "text": [
      "\u001b[1;31m\n",
      "Traceback (most recent call last):\n",
      "  File \"In [28]\", line 1, col 1, in 'cdr'\n",
      "  File \"In [28]\", line 1, col 1\n",
      "RunTimeError: cdr called on non-pair ()\n",
      "\n",
      "\u001b[0m"
     ]
    }
   ],
   "source": [
    "(cdr (cdr '(3)))"
   ]
  },
  {
   "cell_type": "markdown",
   "metadata": {},
   "source": [
    "Thus, we can write it so that when the `cdr` of `lst` is also empty, we add together `car lst` with `0`."
   ]
  },
  {
   "cell_type": "code",
   "execution_count": null,
   "metadata": {},
   "outputs": [],
   "source": [
    "((null? (cdr lst) (+ (car lst) 0)))"
   ]
  },
  {
   "cell_type": "markdown",
   "metadata": {},
   "source": [
    "The implementation would look like the following,"
   ]
  },
  {
   "cell_type": "code",
   "execution_count": 31,
   "metadata": {},
   "outputs": [],
   "source": [
    "(define (sum-every-other lst)\n",
    "  (cond\n",
    "   ((null? lst) 0)\n",
    "   ((null? (cdr lst)) (+ (car lst) 0))\n",
    "   (else (+\n",
    "          (car lst)\n",
    "          (sum-every-other (cdr (cdr lst)))\n",
    "          ) ; End of +\n",
    "         ) ; End of else\n",
    "   ) ; End of cond\n",
    "  ) ; End of define"
   ]
  },
  {
   "cell_type": "code",
   "execution_count": 32,
   "metadata": {},
   "outputs": [
    {
     "data": {
      "text/plain": [
       "4"
      ]
     },
     "execution_count": 32,
     "metadata": {},
     "output_type": "execute_result"
    }
   ],
   "source": [
    "(sum-every-other '(1 2 3))"
   ]
  },
  {
   "cell_type": "code",
   "execution_count": 33,
   "metadata": {},
   "outputs": [
    {
     "data": {
      "text/plain": [
       "0"
      ]
     },
     "execution_count": 33,
     "metadata": {},
     "output_type": "execute_result"
    }
   ],
   "source": [
    "(sum-every-other '())"
   ]
  },
  {
   "cell_type": "code",
   "execution_count": 34,
   "metadata": {},
   "outputs": [
    {
     "data": {
      "text/plain": [
       "4"
      ]
     },
     "execution_count": 34,
     "metadata": {},
     "output_type": "execute_result"
    }
   ],
   "source": [
    "(sum-every-other '(1 2 3 4))"
   ]
  },
  {
   "cell_type": "code",
   "execution_count": 35,
   "metadata": {},
   "outputs": [
    {
     "data": {
      "text/plain": [
       "9"
      ]
     },
     "execution_count": 35,
     "metadata": {},
     "output_type": "execute_result"
    }
   ],
   "source": [
    "(sum-every-other '(1 2 3 4 5))"
   ]
  },
  {
   "cell_type": "markdown",
   "metadata": {},
   "source": [
    "## Question 2"
   ]
  },
  {
   "cell_type": "markdown",
   "metadata": {},
   "source": [
    "### 2a.\n",
    "Define `append`. In Scheme, `append` takes in 2 lists and makes a larger list."
   ]
  },
  {
   "cell_type": "markdown",
   "metadata": {},
   "source": [
    "#### Strategy"
   ]
  },
  {
   "cell_type": "markdown",
   "metadata": {},
   "source": [
    "The idea is that we want to construct a list based on the elements of `a` first. Once we run out of `a`, then we use `b`.\n",
    "\n",
    "The base case is that if we run out of `a`, then we return `b`."
   ]
  },
  {
   "cell_type": "code",
   "execution_count": null,
   "metadata": {},
   "outputs": [],
   "source": [
    "(if (null? a) b)"
   ]
  },
  {
   "cell_type": "markdown",
   "metadata": {},
   "source": [
    "Otherwise, construct a list where the `.first` is `car a` and the `.rest` is a recursive call of `append` on `cdr a` and `b`."
   ]
  },
  {
   "cell_type": "code",
   "execution_count": null,
   "metadata": {},
   "outputs": [],
   "source": [
    "(cons (car a) (append (cdr a) b))"
   ]
  },
  {
   "cell_type": "markdown",
   "metadata": {},
   "source": [
    "The implementation would look like the following,"
   ]
  },
  {
   "cell_type": "code",
   "execution_count": 2,
   "metadata": {},
   "outputs": [],
   "source": [
    "(define (append a b)\n",
    "  (if (null? a)\n",
    "      b\n",
    "      (cons (car a) (append (cdr a) b))\n",
    "      ) ; End of if\n",
    "  ) ; End of define"
   ]
  },
  {
   "cell_type": "code",
   "execution_count": 37,
   "metadata": {},
   "outputs": [
    {
     "data": {
      "text/plain": [
       "(1 2 3 4 5 6)"
      ]
     },
     "execution_count": 37,
     "metadata": {},
     "output_type": "execute_result"
    }
   ],
   "source": [
    "(append '(1 2 3) '(4 5 6))"
   ]
  },
  {
   "cell_type": "markdown",
   "metadata": {},
   "source": [
    "### 2b.\n",
    "Define `reverse`. `Hint`: use `append`."
   ]
  },
  {
   "cell_type": "markdown",
   "metadata": {},
   "source": [
    "#### Strategy"
   ]
  },
  {
   "cell_type": "markdown",
   "metadata": {},
   "source": [
    "The trick is to call the recursive `reverse` before involving any value during that recursive call. For example, if we usually do the following,"
   ]
  },
  {
   "cell_type": "code",
   "execution_count": null,
   "metadata": {},
   "outputs": [],
   "source": [
    "(cons (car a) (recursive lst))"
   ]
  },
  {
   "cell_type": "markdown",
   "metadata": {},
   "source": [
    "This time we would do the following,"
   ]
  },
  {
   "cell_type": "code",
   "execution_count": null,
   "metadata": {},
   "outputs": [],
   "source": [
    "(cons (recursive lst) (car a))"
   ]
  },
  {
   "cell_type": "markdown",
   "metadata": {},
   "source": [
    "This way, the recursive calls would be called first until it's finished before `car a` is even evaluated.\n",
    "\n",
    "In this case, we append the result of recursive call `reverse` on `cdr lst` with the list containing `car lst`."
   ]
  },
  {
   "cell_type": "code",
   "execution_count": 39,
   "metadata": {},
   "outputs": [],
   "source": [
    "(define (reverse lst)\n",
    "  (append\n",
    "   (reverse (cdr lst))\n",
    "   (list (car lst))\n",
    "   ) ; End of append\n",
    "  ) ; End of define"
   ]
  },
  {
   "cell_type": "markdown",
   "metadata": {},
   "source": [
    "## 2c. - SOLUTION MANUAL"
   ]
  },
  {
   "cell_type": "markdown",
   "metadata": {},
   "source": [
    "Define `reverse` without using `append`. `Hint`: use a helper function and `cons`."
   ]
  },
  {
   "cell_type": "markdown",
   "metadata": {},
   "source": [
    "#### Note: \n",
    "I consulted to the solution manual for this problem."
   ]
  },
  {
   "cell_type": "code",
   "execution_count": null,
   "metadata": {},
   "outputs": [],
   "source": [
    "(define (reverse lst)\n",
    "  (define (helper lst reversed)\n",
    "    (if (null? lst)\n",
    "        reversed\n",
    "        (helper\n",
    "         (cdr lst) ; first argument for helper recursive call\n",
    "         (cons (car lst) reversed) ; 2nd argument for helper recursive call\n",
    "         ) ; End of helper recursive call\n",
    "        ) ; End of if\n",
    "    ); End of helper definition\n",
    "  (helper lst '()) ; Call helper with arguments lst and an empty\n",
    "  ) ; End of function definition"
   ]
  },
  {
   "cell_type": "markdown",
   "metadata": {},
   "source": [
    "## Question 3"
   ]
  },
  {
   "cell_type": "markdown",
   "metadata": {},
   "source": [
    "### 3a\n",
    "Define `add-to-all`."
   ]
  },
  {
   "cell_type": "markdown",
   "metadata": {},
   "source": [
    "#### Strategy"
   ]
  },
  {
   "cell_type": "markdown",
   "metadata": {},
   "source": [
    "The base case is that if we run out of `lst`, then just return `lst`."
   ]
  },
  {
   "cell_type": "code",
   "execution_count": null,
   "metadata": {},
   "outputs": [],
   "source": [
    "(if (null? lst) lst)"
   ]
  },
  {
   "cell_type": "markdown",
   "metadata": {},
   "source": [
    "Otherwise, we start constructing a list where the `.first` is the result of appending `car lst` with the `word` that has been converted to a list, and the `.rest` is a recursive `add-to-all` on `cdr lst`"
   ]
  },
  {
   "cell_type": "code",
   "execution_count": 1,
   "metadata": {},
   "outputs": [
    {
     "name": "stderr",
     "output_type": "stream",
     "text": [
      "\u001b[1;31m\n",
      "Traceback (most recent call last):\n",
      "  File \"In [1]\", line 3, col 29\n",
      "ReadError: unexpected end of input\n",
      "\n",
      "\u001b[0m"
     ]
    }
   ],
   "source": [
    "(cons\n",
    " (append (list word) (car lst))\n",
    " (add-to-all word (cdr lst))"
   ]
  },
  {
   "cell_type": "markdown",
   "metadata": {},
   "source": [
    "The implementation would look like the following,"
   ]
  },
  {
   "cell_type": "code",
   "execution_count": 22,
   "metadata": {},
   "outputs": [],
   "source": [
    "(define (add-to-all word lst)\n",
    "  (if (null? lst)\n",
    "      lst\n",
    "      (cons \n",
    "       (append (list word) (car lst))\n",
    "       (add-to-all word (cdr lst))\n",
    "       ) ; End of cons\n",
    "      ) ; End of if\n",
    "  ) ; End of define"
   ]
  },
  {
   "cell_type": "code",
   "execution_count": 14,
   "metadata": {},
   "outputs": [
    {
     "name": "stderr",
     "output_type": "stream",
     "text": [
      "\u001b[1;31m\n",
      "Traceback (most recent call last):\n",
      "  File \"In [14]\", line 1, col 1, in 'add-to-all'\n",
      "  File \"In [13]\", line 2, col 3, in 'map'\n",
      "UnhandledException: no such attribute 'car' on '()'\n",
      "\n",
      "\u001b[0m"
     ]
    }
   ],
   "source": [
    "(add-to-all 'foo '((1 2) (3 4) (5 6)))"
   ]
  },
  {
   "cell_type": "markdown",
   "metadata": {},
   "source": [
    "#### Define `add-to-all` without `append`"
   ]
  },
  {
   "cell_type": "code",
   "execution_count": 1,
   "metadata": {},
   "outputs": [],
   "source": [
    "(define (add-to-all word lst)\n",
    "  (if (null? lst)\n",
    "      lst\n",
    "      (cons\n",
    "       (cons word (car lst))\n",
    "       (add-to-all word (cdr lst))\n",
    "       ) ; End of cons\n",
    "      ) ; End of if\n",
    "  ); End of define"
   ]
  },
  {
   "cell_type": "markdown",
   "metadata": {},
   "source": [
    "#### Strategy"
   ]
  },
  {
   "cell_type": "markdown",
   "metadata": {},
   "source": [
    "The base case is the same, the only difference is that with the recursive call, we created a nested list (indicated with `cons`) where the `.first` is another list `(cons word (car lst))` and the `.rest` is a recursive call on `(add-to-all word (cdr lst))`."
   ]
  },
  {
   "cell_type": "markdown",
   "metadata": {},
   "source": [
    "### 2b.\n",
    "Define `map`"
   ]
  },
  {
   "cell_type": "markdown",
   "metadata": {},
   "source": [
    "#### Strategies"
   ]
  },
  {
   "cell_type": "markdown",
   "metadata": {},
   "source": [
    "The base case is if we run out of `lst`, then just return `lst` since `lst` is empty anyway."
   ]
  },
  {
   "cell_type": "code",
   "execution_count": null,
   "metadata": {},
   "outputs": [],
   "source": [
    "(if (null? lst) lst)"
   ]
  },
  {
   "cell_type": "markdown",
   "metadata": {},
   "source": [
    "Otherwise, start constructing a list where the `.first` is the result of applying `fn` to `car lst`, and the `.rest` is recursive call `fn` on `cdr lst`."
   ]
  },
  {
   "cell_type": "code",
   "execution_count": null,
   "metadata": {},
   "outputs": [],
   "source": [
    "(cons (fn (car lst)) (map fn (cdr lst)))"
   ]
  },
  {
   "cell_type": "markdown",
   "metadata": {},
   "source": [
    "The implementation would look like the following,"
   ]
  },
  {
   "cell_type": "code",
   "execution_count": 16,
   "metadata": {},
   "outputs": [],
   "source": [
    "(define (map fn lst)\n",
    "  (if (null? lst)\n",
    "      lst\n",
    "      (cons (fn (car lst)) (map fn (cdr lst)))\n",
    "      ) ; End of if\n",
    "  ) ; End of define"
   ]
  },
  {
   "cell_type": "code",
   "execution_count": 17,
   "metadata": {},
   "outputs": [
    {
     "data": {
      "text/plain": [
       "(2 3 4)"
      ]
     },
     "execution_count": 17,
     "metadata": {},
     "output_type": "execute_result"
    }
   ],
   "source": [
    "(map (lambda (x) (+ x 1)) '(1 2 3))"
   ]
  },
  {
   "cell_type": "markdown",
   "metadata": {},
   "source": [
    "### 3c.\n",
    "Define `add-to-all` using one call to `map`. `Hint`: this may require a lambda."
   ]
  },
  {
   "cell_type": "markdown",
   "metadata": {},
   "source": [
    "#### Strategy"
   ]
  },
  {
   "cell_type": "markdown",
   "metadata": {},
   "source": [
    "The `lambda` procedure should be able to change every element of the list so that it adds a word. For example,"
   ]
  },
  {
   "cell_type": "code",
   "execution_count": 15,
   "metadata": {},
   "outputs": [
    {
     "data": {
      "text/plain": [
       "((1 2) (3 4) (5 6))"
      ]
     },
     "execution_count": 15,
     "metadata": {},
     "output_type": "execute_result"
    }
   ],
   "source": [
    "'((1 2) (3 4) (5 6))"
   ]
  },
  {
   "cell_type": "markdown",
   "metadata": {},
   "source": [
    "...will become:"
   ]
  },
  {
   "cell_type": "code",
   "execution_count": 16,
   "metadata": {},
   "outputs": [
    {
     "data": {
      "text/plain": [
       "((foo 1 2) (foo 3 4) (foo 5 6))"
      ]
     },
     "execution_count": 16,
     "metadata": {},
     "output_type": "execute_result"
    }
   ],
   "source": [
    "'((foo 1 2) (foo 3 4) (foo 5 6))"
   ]
  },
  {
   "cell_type": "markdown",
   "metadata": {},
   "source": [
    "This means the `lambda procedure` would look something like the following,"
   ]
  },
  {
   "cell_type": "code",
   "execution_count": null,
   "metadata": {},
   "outputs": [],
   "source": [
    "(lambda (x) (cons word x))"
   ]
  },
  {
   "cell_type": "markdown",
   "metadata": {},
   "source": [
    "Incorporating this function with `map`, we have the following implementation,"
   ]
  },
  {
   "cell_type": "code",
   "execution_count": 17,
   "metadata": {},
   "outputs": [],
   "source": [
    "(define (add-to-all word lst)\n",
    "  (map\n",
    "   (lambda (x) (cons word x)) ; 1st argument to map\n",
    "   lst ; 2nd argument to map\n",
    "   ) ; End of map\n",
    "  ) ; End of define"
   ]
  },
  {
   "cell_type": "code",
   "execution_count": 18,
   "metadata": {},
   "outputs": [
    {
     "data": {
      "text/plain": [
       "((foo 1 2) (foo 3 4) (foo 5 6))"
      ]
     },
     "execution_count": 18,
     "metadata": {},
     "output_type": "execute_result"
    }
   ],
   "source": [
    "(add-to-all 'foo '((1 2) (3 4) (5 6)))"
   ]
  },
  {
   "cell_type": "markdown",
   "metadata": {},
   "source": [
    "## Question 4 -- CONSULTED SOLUTION MANUAL\n",
    "Define `sublists`. `Hint`: use `add-to-all`."
   ]
  },
  {
   "cell_type": "code",
   "execution_count": null,
   "metadata": {},
   "outputs": [],
   "source": [
    "(define (sublists lst)\n",
    "  (if (null? lst)\n",
    "      '(())\n",
    "      (append\n",
    "       (sublists (cdr lst))\n",
    "       (add-to-all (car lst) (sublists (cdr lst)))\n",
    "       ) ; End of append\n",
    "      ) ; End of if\n",
    "  ) ; End of define"
   ]
  },
  {
   "cell_type": "markdown",
   "metadata": {},
   "source": [
    "Better solution is to use `let` to avoid calling `(sublists (cdr lst))`."
   ]
  },
  {
   "cell_type": "code",
   "execution_count": 23,
   "metadata": {},
   "outputs": [],
   "source": [
    "(define (sublists lst)\n",
    "  (if (null? lst)\n",
    "      '(())\n",
    "      (let\n",
    "        ((recur (sublists (cdrlst))))\n",
    "        (append recur (add-to-all (car lst) (recur)))\n",
    "        ) ; End of let\n",
    "      ) ; End of if\n",
    "  ) ; End of define"
   ]
  },
  {
   "cell_type": "markdown",
   "metadata": {},
   "source": [
    "## Question 5\n",
    "Define `sixty-ones`. Return the number of times that `1` follows `6` in the list."
   ]
  },
  {
   "cell_type": "markdown",
   "metadata": {},
   "source": [
    "#### Strategy"
   ]
  },
  {
   "cell_type": "markdown",
   "metadata": {},
   "source": [
    "We would need a `helper` function that keeps track of the number of times `1` appears right after `6` so far. Let's use `total` as the varible that keeps track of the `total` number of times the occurrence happens!"
   ]
  },
  {
   "cell_type": "markdown",
   "metadata": {},
   "source": [
    "Base case is that if either `car lst` or `cdr lst` is empty list, then we return the `total` that we have. "
   ]
  },
  {
   "cell_type": "code",
   "execution_count": null,
   "metadata": {},
   "outputs": [],
   "source": [
    "((or\n",
    " (null? (car lst))\n",
    " (null? (cdr lst))\n",
    " ) total)"
   ]
  },
  {
   "cell_type": "markdown",
   "metadata": {},
   "source": [
    "Then if  both of the following are true:\n",
    "\n",
    "**1.** `car lst` is `1`\n",
    "\n",
    "**2.** `cadr lst` is `6` (recall `cadr` is shorthand of `car (cdr lst)`)\n",
    "\n",
    "then call the recursive helper function with `cdr lst` and `+1` on `total`."
   ]
  },
  {
   "cell_type": "code",
   "execution_count": 37,
   "metadata": {},
   "outputs": [
    {
     "name": "stderr",
     "output_type": "stream",
     "text": [
      "\u001b[1;31m\n",
      "Traceback (most recent call last):\n",
      "  File \"In [37]\", line 2, col 12\n",
      "RunTimeError: unbound variable 'lst'\n",
      "\n",
      "\u001b[0m"
     ]
    }
   ],
   "source": [
    "(and\n",
    " (= 6 (car lst))\n",
    " (= 1 (cadr lst))\n",
    " ) (helper (cddr lst) (+ 1 total))"
   ]
  },
  {
   "cell_type": "markdown",
   "metadata": {},
   "source": [
    "Otherwise, we just move on to the next element by calling recursive `helper` with `cdr lst` and `total`"
   ]
  },
  {
   "cell_type": "code",
   "execution_count": null,
   "metadata": {},
   "outputs": [],
   "source": [
    "(else (helper (cddr lst) total))"
   ]
  },
  {
   "cell_type": "markdown",
   "metadata": {},
   "source": [
    "The implementation would look like the following,"
   ]
  },
  {
   "cell_type": "code",
   "execution_count": 16,
   "metadata": {},
   "outputs": [],
   "source": [
    "(define (sixty-ones lst)\n",
    "  (define (helper lst total)\n",
    "    (cond \n",
    "     ((null? (cdr lst)) total)\n",
    "     ((and (= 6 (car lst)) (= 1 (cadr lst))) (helper (cdr lst) (+ 1 total)))\n",
    "     (else (helper (cdr lst) total))\n",
    "     ); End of cond\n",
    "    ) ; End of helper\n",
    "  (helper lst 0)\n",
    "  )"
   ]
  },
  {
   "cell_type": "code",
   "execution_count": 17,
   "metadata": {},
   "outputs": [
    {
     "data": {
      "text/plain": [
       "1"
      ]
     },
     "execution_count": 17,
     "metadata": {},
     "output_type": "execute_result"
    }
   ],
   "source": [
    "(sixty-ones '(4 6 1 6 0 1))"
   ]
  },
  {
   "cell_type": "code",
   "execution_count": 18,
   "metadata": {},
   "outputs": [
    {
     "data": {
      "text/plain": [
       "2"
      ]
     },
     "execution_count": 18,
     "metadata": {},
     "output_type": "execute_result"
    }
   ],
   "source": [
    "(sixty-ones '(1 6 1 4 6 1 6 0 1))"
   ]
  },
  {
   "cell_type": "code",
   "execution_count": 19,
   "metadata": {},
   "outputs": [
    {
     "data": {
      "text/plain": [
       "3"
      ]
     },
     "execution_count": 19,
     "metadata": {},
     "output_type": "execute_result"
    }
   ],
   "source": [
    "(sixty-ones '(6 1 6 1 4 6 1 6 0 1))"
   ]
  },
  {
   "cell_type": "markdown",
   "metadata": {},
   "source": [
    "## Question 6 -- CONSULTED FROM SOLUTION MANUAL"
   ]
  },
  {
   "cell_type": "markdown",
   "metadata": {},
   "source": [
    "Define `no-elevens`. Return a list of all distinct length-n lists of `1`s and `6`s that don't contain `1` after `1`."
   ]
  },
  {
   "cell_type": "code",
   "execution_count": 23,
   "metadata": {},
   "outputs": [],
   "source": [
    "(define (no-elevens n)\n",
    "  (cond\n",
    "   ((= 0 n) '(()) )\n",
    "   ((= 1 n) '((6) (1)) )\n",
    "   (else\n",
    "    (append\n",
    "     (add-to-all 6 (no-elevens (- n 1)))\n",
    "     (add-to-all 1\n",
    "        (add-to-all 6 (no-elevens (- n 2)))\n",
    "                 ) ; End of add-to-all 1\n",
    "     ) ; End of append\n",
    "    ) ; End of else suite\n",
    "   ) ; End of cond\n",
    "  ) ; End of define"
   ]
  },
  {
   "cell_type": "code",
   "execution_count": 24,
   "metadata": {},
   "outputs": [
    {
     "data": {
      "text/plain": [
       "((6 6) (6 1) (1 6))"
      ]
     },
     "execution_count": 24,
     "metadata": {},
     "output_type": "execute_result"
    }
   ],
   "source": [
    "(no-elevens 2)"
   ]
  },
  {
   "cell_type": "code",
   "execution_count": 25,
   "metadata": {},
   "outputs": [
    {
     "data": {
      "text/plain": [
       "((6 6 6) (6 6 1) (6 1 6) (1 6 6) (1 6 1))"
      ]
     },
     "execution_count": 25,
     "metadata": {},
     "output_type": "execute_result"
    }
   ],
   "source": [
    "(no-elevens 3)"
   ]
  },
  {
   "cell_type": "code",
   "execution_count": 26,
   "metadata": {},
   "outputs": [
    {
     "data": {
      "text/plain": [
       "((6 6 6 6) (6 6 6 1) (6 6 1 6) (6 1 6 6) (6 1 6 1) (1 6 6 6) (1 6 6 1) (1 6 1 6))"
      ]
     },
     "execution_count": 26,
     "metadata": {},
     "output_type": "execute_result"
    }
   ],
   "source": [
    "(no-elevens 4)"
   ]
  },
  {
   "cell_type": "code",
   "execution_count": null,
   "metadata": {},
   "outputs": [],
   "source": []
  }
 ],
 "metadata": {
  "kernelspec": {
   "display_name": "Calysto Scheme 3",
   "language": "scheme",
   "name": "calysto_scheme"
  },
  "language_info": {
   "codemirror_mode": {
    "name": "scheme"
   },
   "mimetype": "text/x-scheme",
   "name": "scheme",
   "pygments_lexer": "scheme"
  }
 },
 "nbformat": 4,
 "nbformat_minor": 2
}
