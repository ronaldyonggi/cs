{
 "cells": [
  {
   "cell_type": "markdown",
   "metadata": {},
   "source": [
    "# Functions\n",
    "\n",
    "## Question 0\n",
    "What will the Python output?"
   ]
  },
  {
   "cell_type": "code",
   "execution_count": 1,
   "metadata": {},
   "outputs": [],
   "source": [
    "from operator import add,mul"
   ]
  },
  {
   "cell_type": "code",
   "execution_count": 2,
   "metadata": {},
   "outputs": [
    {
     "data": {
      "text/plain": [
       "88"
      ]
     },
     "execution_count": 2,
     "metadata": {},
     "output_type": "execute_result"
    }
   ],
   "source": [
    "mul(add(5, 6), 8) # Will print 88"
   ]
  },
  {
   "cell_type": "code",
   "execution_count": 3,
   "metadata": {},
   "outputs": [
    {
     "name": "stdout",
     "output_type": "stream",
     "text": [
      "x\n"
     ]
    }
   ],
   "source": [
    "print('x') # prints 'x'"
   ]
  },
  {
   "cell_type": "code",
   "execution_count": 4,
   "metadata": {},
   "outputs": [
    {
     "name": "stdout",
     "output_type": "stream",
     "text": [
      "x\n"
     ]
    }
   ],
   "source": [
    "y = print('x') # prints 'x'"
   ]
  },
  {
   "cell_type": "code",
   "execution_count": 5,
   "metadata": {},
   "outputs": [
    {
     "name": "stdout",
     "output_type": "stream",
     "text": [
      "None\n"
     ]
    }
   ],
   "source": [
    "print(y) # None, because print('x') is not a value"
   ]
  },
  {
   "cell_type": "code",
   "execution_count": 6,
   "metadata": {},
   "outputs": [
    {
     "name": "stdout",
     "output_type": "stream",
     "text": [
      "a\n",
      "6 None\n"
     ]
    }
   ],
   "source": [
    "print(add(4,2), print('a'))\n",
    "# First prints 'a', because Python prints whatever inside the parentheses first\n",
    "# Then prints the values inside the outer `print`"
   ]
  },
  {
   "cell_type": "markdown",
   "metadata": {},
   "source": [
    "## Question 2: Raising the Bar\n",
    "What will Python output?"
   ]
  },
  {
   "cell_type": "code",
   "execution_count": 7,
   "metadata": {},
   "outputs": [],
   "source": [
    "def foo(x):\n",
    "    print(x)\n",
    "    return x + 1\n",
    "\n",
    "def bar(y, x):\n",
    "    print(x-y)"
   ]
  },
  {
   "cell_type": "code",
   "execution_count": 8,
   "metadata": {},
   "outputs": [
    {
     "name": "stdout",
     "output_type": "stream",
     "text": [
      "3\n"
     ]
    },
    {
     "data": {
      "text/plain": [
       "4"
      ]
     },
     "execution_count": 8,
     "metadata": {},
     "output_type": "execute_result"
    }
   ],
   "source": [
    "foo(3)\n",
    "# Will output 3, then 4 separated by a new line"
   ]
  },
  {
   "cell_type": "code",
   "execution_count": 9,
   "metadata": {},
   "outputs": [
    {
     "ename": "TypeError",
     "evalue": "bar() missing 1 required positional argument: 'x'",
     "output_type": "error",
     "traceback": [
      "\u001b[1;31m--------------------------------------------------------------------\u001b[0m",
      "\u001b[1;31mTypeError\u001b[0m                          Traceback (most recent call last)",
      "\u001b[1;32m<ipython-input-9-cd01a03c0aae>\u001b[0m in \u001b[0;36m<module>\u001b[1;34m\u001b[0m\n\u001b[1;32m----> 1\u001b[1;33m \u001b[0mbar\u001b[0m\u001b[1;33m(\u001b[0m\u001b[1;36m3\u001b[0m\u001b[1;33m)\u001b[0m \u001b[1;31m# Will output an error\u001b[0m\u001b[1;33m\u001b[0m\u001b[1;33m\u001b[0m\u001b[0m\n\u001b[0m",
      "\u001b[1;31mTypeError\u001b[0m: bar() missing 1 required positional argument: 'x'"
     ]
    }
   ],
   "source": [
    "bar(3) # Will output an error"
   ]
  },
  {
   "cell_type": "code",
   "execution_count": 11,
   "metadata": {},
   "outputs": [
    {
     "name": "stdout",
     "output_type": "stream",
     "text": [
      "-5\n"
     ]
    }
   ],
   "source": [
    "bar(6, 1) # Will print -5"
   ]
  },
  {
   "cell_type": "code",
   "execution_count": 14,
   "metadata": {},
   "outputs": [
    {
     "name": "stdout",
     "output_type": "stream",
     "text": [
      "10\n",
      "0\n"
     ]
    }
   ],
   "source": [
    "bar(foo(10), 11)\n",
    "# Prints 10, then 0, separated with a new line"
   ]
  },
  {
   "cell_type": "markdown",
   "metadata": {},
   "source": [
    "# Control\n",
    "\n",
    "## Question 2: Control Yourself\n",
    "a) Which numbers (1-4) will be printed after executing the following code?"
   ]
  },
  {
   "cell_type": "code",
   "execution_count": 15,
   "metadata": {},
   "outputs": [
    {
     "name": "stdout",
     "output_type": "stream",
     "text": [
      "2\n",
      "4\n"
     ]
    }
   ],
   "source": [
    "n = 0\n",
    "if n:\n",
    "    print(1)\n",
    "elif n < 2:\n",
    "    print(2)\n",
    "else:\n",
    "    print(3)\n",
    "print(4)\n",
    "\n",
    "# Prints 2, then 4"
   ]
  },
  {
   "cell_type": "markdown",
   "metadata": {},
   "source": [
    "a) WWPD (What would Python Display) after evaluating each of the following expression?"
   ]
  },
  {
   "cell_type": "code",
   "execution_count": 17,
   "metadata": {},
   "outputs": [
    {
     "data": {
      "text/plain": [
       "0"
      ]
     },
     "execution_count": 17,
     "metadata": {},
     "output_type": "execute_result"
    }
   ],
   "source": [
    "0 and 1/0 # Output: 0"
   ]
  },
  {
   "cell_type": "code",
   "execution_count": 18,
   "metadata": {},
   "outputs": [
    {
     "data": {
      "text/plain": [
       "6"
      ]
     },
     "execution_count": 18,
     "metadata": {},
     "output_type": "execute_result"
    }
   ],
   "source": [
    "6 or 1 or \"a\" or 1/0 # Output: 6"
   ]
  },
  {
   "cell_type": "code",
   "execution_count": 19,
   "metadata": {},
   "outputs": [
    {
     "ename": "ZeroDivisionError",
     "evalue": "division by zero",
     "output_type": "error",
     "traceback": [
      "\u001b[1;31m--------------------------------------------------------------------\u001b[0m",
      "\u001b[1;31mZeroDivisionError\u001b[0m                  Traceback (most recent call last)",
      "\u001b[1;32m<ipython-input-19-f94c34e82dc7>\u001b[0m in \u001b[0;36m<module>\u001b[1;34m\u001b[0m\n\u001b[1;32m----> 1\u001b[1;33m \u001b[1;36m6\u001b[0m \u001b[1;32mand\u001b[0m \u001b[1;36m1\u001b[0m \u001b[1;32mand\u001b[0m \u001b[1;34m\"a\"\u001b[0m \u001b[1;32mand\u001b[0m \u001b[1;36m1\u001b[0m\u001b[1;33m/\u001b[0m\u001b[1;36m0\u001b[0m \u001b[1;31m# Error!\u001b[0m\u001b[1;33m\u001b[0m\u001b[1;33m\u001b[0m\u001b[0m\n\u001b[0m",
      "\u001b[1;31mZeroDivisionError\u001b[0m: division by zero"
     ]
    }
   ],
   "source": [
    "6 and 1 and \"a\" and 1/0 # Error!"
   ]
  },
  {
   "cell_type": "code",
   "execution_count": 20,
   "metadata": {},
   "outputs": [
    {
     "name": "stdout",
     "output_type": "stream",
     "text": [
      "4\n",
      "None\n"
     ]
    }
   ],
   "source": [
    "print(print(4) and 2)\n",
    "# prints 4, then None, separated by a new line\n",
    "# between print(4) and 2, Python chooses 'print(4)' because it evaluates to None"
   ]
  },
  {
   "cell_type": "code",
   "execution_count": 22,
   "metadata": {},
   "outputs": [
    {
     "data": {
      "text/plain": [
       "False"
      ]
     },
     "execution_count": 22,
     "metadata": {},
     "output_type": "execute_result"
    }
   ],
   "source": [
    "not True and print(\"a\") # False"
   ]
  },
  {
   "cell_type": "markdown",
   "metadata": {},
   "source": [
    "## Question 3: You Have Control\n",
    "a) Define a function `count_digits` that takes in a positive integer `n` and counts the number of digits in that number."
   ]
  },
  {
   "cell_type": "code",
   "execution_count": 25,
   "metadata": {},
   "outputs": [],
   "source": [
    "def count_digits(n):\n",
    "    \"\"\"\n",
    "    >>> count_digits(4)\n",
    "    1\n",
    "    >>> count_digits(12345678)\n",
    "    8\n",
    "    >>> count_digits(3)\n",
    "    1\n",
    "    \"\"\"\n",
    "    digits = 0\n",
    "    while n > 0:\n",
    "        n = n // 10\n",
    "        digits += 1\n",
    "    return digits"
   ]
  },
  {
   "cell_type": "markdown",
   "metadata": {},
   "source": [
    "b) Define a function, `count_matches`, which takes in 2 positive integers `n` and `m` and counts the number of digits that match."
   ]
  },
  {
   "cell_type": "code",
   "execution_count": 39,
   "metadata": {},
   "outputs": [],
   "source": [
    "def count_matches(n, m):\n",
    "    \"\"\"\n",
    "    >>> count_matches(10, 30)\n",
    "    1\n",
    "    >>> count_matches(12345, 23456)\n",
    "    0\n",
    "    >>> count_matches(121212, 123123)\n",
    "    2\n",
    "    >>> count_matches(111, 11) #only one's place matches\n",
    "    2\n",
    "    >>> count_matches(101, 10) # no place matches\n",
    "    0\n",
    "    \"\"\"\n",
    "    # Hint: start from the right end digit\n",
    "    match = 0\n",
    "    while n > 0 and m > 0:\n",
    "        if n % 10 == m % 10:\n",
    "            match += 1\n",
    "        n, m = n // 10, m // 10\n",
    "    return match"
   ]
  },
  {
   "cell_type": "markdown",
   "metadata": {},
   "source": [
    "# Environment Diagrams\n",
    "\n",
    "## Question 4: A New Environment\n",
    "a) Draw the environment diagram for evaluating the following code"
   ]
  },
  {
   "cell_type": "code",
   "execution_count": 41,
   "metadata": {},
   "outputs": [],
   "source": [
    "%load_ext tutormagic"
   ]
  },
  {
   "cell_type": "code",
   "execution_count": 42,
   "metadata": {},
   "outputs": [
    {
     "data": {
      "text/html": [
       "\n",
       "        <iframe\n",
       "            width=\"100%\"\n",
       "            height=\"350\"\n",
       "            src=\"http://pythontutor.com/iframe-embed.html#code=def%20f%28x%29%3A%0A%20%20%20%20return%20y%20%2B%20x%0A%0Ay%20%3D%2010%0Af%288%29%0A&origin=opt-frontend.js&cumulative=false&heapPrimitives=false&textReferences=false&curInstr=0&&verticalStack=false&py=3&rawInputLstJSON=%5B%5D&codeDivWidth=50%25&codeDivHeight=100%25\"\n",
       "            frameborder=\"0\"\n",
       "            allowfullscreen\n",
       "        ></iframe>\n",
       "        "
      ],
      "text/plain": [
       "<IPython.lib.display.IFrame at 0x5f41130>"
      ]
     },
     "metadata": {},
     "output_type": "display_data"
    }
   ],
   "source": [
    "%%tutor --lang python3\n",
    "def f(x):\n",
    "    return y + x # This 'y' refers to the y outside the function!\n",
    "\n",
    "y = 10\n",
    "f(8)"
   ]
  },
  {
   "cell_type": "markdown",
   "metadata": {},
   "source": [
    "b) Draw the environment diagram for evaluating the following code,"
   ]
  },
  {
   "cell_type": "code",
   "execution_count": 44,
   "metadata": {},
   "outputs": [
    {
     "data": {
      "text/html": [
       "\n",
       "        <iframe\n",
       "            width=\"100%\"\n",
       "            height=\"350\"\n",
       "            src=\"http://pythontutor.com/iframe-embed.html#code=def%20dessef%28a%2C%20b%29%3A%0A%20%20%20%20c%20%3D%20a%20%2B%20b%0A%20%20%20%20b%20%3D%20b%20%2B%201%0A%0Ab%20%3D%206%0Adessef%28b%2C%204%29%0A&origin=opt-frontend.js&cumulative=false&heapPrimitives=false&textReferences=false&curInstr=0&&verticalStack=false&py=3&rawInputLstJSON=%5B%5D&codeDivWidth=50%25&codeDivHeight=100%25\"\n",
       "            frameborder=\"0\"\n",
       "            allowfullscreen\n",
       "        ></iframe>\n",
       "        "
      ],
      "text/plain": [
       "<IPython.lib.display.IFrame at 0x5f5c630>"
      ]
     },
     "metadata": {},
     "output_type": "display_data"
    }
   ],
   "source": [
    "%%tutor --lang python3\n",
    "def dessef(a, b):\n",
    "    c = a + b\n",
    "    b = b + 1\n",
    "\n",
    "b = 6\n",
    "dessef(b, 4)"
   ]
  },
  {
   "cell_type": "markdown",
   "metadata": {},
   "source": [
    "## Question 5\n",
    "a) Draw an environment diagram for the following code"
   ]
  },
  {
   "cell_type": "code",
   "execution_count": 45,
   "metadata": {},
   "outputs": [
    {
     "data": {
      "text/html": [
       "\n",
       "        <iframe\n",
       "            width=\"100%\"\n",
       "            height=\"350\"\n",
       "            src=\"http://pythontutor.com/iframe-embed.html#code=def%20foo%28x%2C%20y%29%3A%0A%20%20%20%20foo%20%3D%20bar%0A%20%20%20%20return%20foo%28bar%28x%2C%20x%29%2C%20y%29%0A%0Adef%20bar%28z%2C%20x%29%3A%0A%20%20%20%20return%20z%20%2B%20y%0A%0Ay%20%3D%205%0Afoo%281%2C%202%29%0A&origin=opt-frontend.js&cumulative=false&heapPrimitives=false&textReferences=false&curInstr=0&&verticalStack=false&py=3&rawInputLstJSON=%5B%5D&codeDivWidth=50%25&codeDivHeight=100%25\"\n",
       "            frameborder=\"0\"\n",
       "            allowfullscreen\n",
       "        ></iframe>\n",
       "        "
      ],
      "text/plain": [
       "<IPython.lib.display.IFrame at 0x5f5ce70>"
      ]
     },
     "metadata": {},
     "output_type": "display_data"
    }
   ],
   "source": [
    "%%tutor --lang python3\n",
    "def foo(x, y):\n",
    "    foo = bar # When this line was executed, the function foo becomes the function bar\n",
    "    return foo(bar(x, x), y)\n",
    "\n",
    "def bar(z, x):\n",
    "    return z + y\n",
    "\n",
    "y = 5\n",
    "foo(1, 2)"
   ]
  },
  {
   "cell_type": "markdown",
   "metadata": {},
   "source": [
    "b) Draw an environment diagram for the following code"
   ]
  },
  {
   "cell_type": "code",
   "execution_count": 47,
   "metadata": {},
   "outputs": [
    {
     "data": {
      "text/html": [
       "\n",
       "        <iframe\n",
       "            width=\"100%\"\n",
       "            height=\"350\"\n",
       "            src=\"http://pythontutor.com/iframe-embed.html#code=def%20spain%28japan%2C%20iran%29%3A%0A%20%20%20%20def%20world%28cup%2C%20egypt%29%3A%0A%20%20%20%20%20%20%20%20return%20japan%20-%20poland%0A%20%20%20%20return%20iran%28world%28iran%2C%20poland%29%29%0A%0Adef%20saudi%28arabia%29%3A%0A%20%20%20%20return%20japan%20%2B%203%0Ajapan%2C%20poland%20%3D%203%2C%207%0A%0Aspain%28poland%20%2B%201%2C%20saudi%29%0A&origin=opt-frontend.js&cumulative=false&heapPrimitives=false&textReferences=false&curInstr=0&&verticalStack=false&py=3&rawInputLstJSON=%5B%5D&codeDivWidth=50%25&codeDivHeight=100%25\"\n",
       "            frameborder=\"0\"\n",
       "            allowfullscreen\n",
       "        ></iframe>\n",
       "        "
      ],
      "text/plain": [
       "<IPython.lib.display.IFrame at 0x5f418b0>"
      ]
     },
     "metadata": {},
     "output_type": "display_data"
    }
   ],
   "source": [
    "%%tutor --lang python3\n",
    "def spain(japan, iran):\n",
    "    def world(cup, egypt):\n",
    "        return japan - poland\n",
    "    return iran(world(iran, poland))\n",
    "\n",
    "def saudi(arabia):\n",
    "    return japan + 3\n",
    "japan, poland = 3, 7\n",
    "\n",
    "spain(poland + 1, saudi)"
   ]
  },
  {
   "cell_type": "markdown",
   "metadata": {},
   "source": [
    "c) Draw an environment diagram for the following code"
   ]
  },
  {
   "cell_type": "code",
   "execution_count": 49,
   "metadata": {},
   "outputs": [
    {
     "data": {
      "text/html": [
       "\n",
       "        <iframe\n",
       "            width=\"100%\"\n",
       "            height=\"350\"\n",
       "            src=\"http://pythontutor.com/iframe-embed.html#code=cap%20%3D%209%0Ahulk%20%3D%203%0A%0Adef%20marvel%28cap%2C%20thor%2C%20marvel%29%3A%0A%20%20%20%20iron%20%3D%20hulk%20%2B%20cap%0A%20%20%20%20if%20thor%20%3E%20cap%3A%0A%20%20%20%20%20%20%20%20def%20marvel%28cap%2C%20thor%2C%20avengers%29%3A%0A%20%20%20%20%20%20%20%20%20%20%20%20return%20iron%0A%20%20%20%20else%3A%0A%20%20%20%20%20%20%20%20iron%20%3D%20hulk%0A%20%20%20%20return%20marvel%28thor%2C%20cap%2C%20marvel%29%0A%0Adef%20iron%28man%29%3A%0A%20%20%20%20hulk%20%3D%20cap%20-%201%0A%20%20%20%20return%20hulk%0A%0Amarvel%28cap%2C%20iron%283%29%2C%20marvel%29%0A&origin=opt-frontend.js&cumulative=false&heapPrimitives=false&textReferences=false&curInstr=0&&verticalStack=false&py=3&rawInputLstJSON=%5B%5D&codeDivWidth=50%25&codeDivHeight=100%25\"\n",
       "            frameborder=\"0\"\n",
       "            allowfullscreen\n",
       "        ></iframe>\n",
       "        "
      ],
      "text/plain": [
       "<IPython.lib.display.IFrame at 0x5f5cf30>"
      ]
     },
     "metadata": {},
     "output_type": "display_data"
    }
   ],
   "source": [
    "%%tutor --lang python3\n",
    "cap = 9\n",
    "hulk = 3\n",
    "\n",
    "def marvel(cap, thor, marvel):\n",
    "    iron = hulk + cap\n",
    "    if thor > cap:\n",
    "        def marvel(cap, thor, avengers):\n",
    "            return iron\n",
    "    else:\n",
    "        iron = hulk\n",
    "    return marvel(thor, cap, marvel)\n",
    "\n",
    "def iron(man):\n",
    "    hulk = cap - 1\n",
    "    return hulk\n",
    "\n",
    "marvel(cap, iron(3), marvel)"
   ]
  },
  {
   "cell_type": "code",
   "execution_count": null,
   "metadata": {},
   "outputs": [],
   "source": []
  }
 ],
 "metadata": {
  "kernelspec": {
   "display_name": "Python 3",
   "language": "python",
   "name": "python3"
  },
  "language_info": {
   "codemirror_mode": {
    "name": "ipython",
    "version": 3
   },
   "file_extension": ".py",
   "mimetype": "text/x-python",
   "name": "python",
   "nbconvert_exporter": "python",
   "pygments_lexer": "ipython3",
   "version": "3.7.2"
  }
 },
 "nbformat": 4,
 "nbformat_minor": 2
}
