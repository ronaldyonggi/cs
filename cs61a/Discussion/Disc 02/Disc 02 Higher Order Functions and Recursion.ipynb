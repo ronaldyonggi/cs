{
 "cells": [
  {
   "cell_type": "code",
   "execution_count": null,
   "metadata": {},
   "outputs": [],
   "source": [
    "%load_ext tutormagic"
   ]
  },
  {
   "cell_type": "markdown",
   "metadata": {},
   "source": [
    "# 1. Higher Order Functions"
   ]
  },
  {
   "cell_type": "markdown",
   "metadata": {},
   "source": [
    "## HOF in Environment Diagrams\n",
    "\n",
    "**Environment diagrams** keeps track of all the variables that have been defined and the values (not only integers and strings, but can also be functions!) they are bound to. \n",
    "\n",
    "<img src = 'hof_1.jpg' width = 600/>"
   ]
  },
  {
   "cell_type": "markdown",
   "metadata": {},
   "source": [
    "Lambdas, similar but not exactly the same as functions, don't have **intrinsic names** (e.g. `add_num`). Thus, they use the lambda symbol (λ). \n",
    "\n",
    "The parent of any function (even lambdas) is **always the frame in which the function is defined**. In the example above, when we call `add_two(3)`,\n",
    "\n",
    "1. The execution is currently in `λ` frame, and it is about to calculate `x + y`\n",
    "    * Python found `y`, but it can't find `x` in that current frame\n",
    "2. Python looks for `x` in the parent frame of `λ`, which is `f1`\n",
    "    * Python finds `x`. Thus, `x + y` can be calculated"
   ]
  },
  {
   "cell_type": "markdown",
   "metadata": {},
   "source": [
    "## Note on Lambda Expressions\n",
    "A lambda expression evaluates to a function but **does not bind it to a name**. \n",
    "\n",
    "Also note that the return expression of a lambda function is not evaluated until the function is called. This is similar to when we define a function using `def` statement, the function is not executed until it is called."
   ]
  },
  {
   "cell_type": "code",
   "execution_count": 1,
   "metadata": {},
   "outputs": [
    {
     "data": {
      "text/plain": [
       "<function __main__.<lambda>(x)>"
      ]
     },
     "execution_count": 1,
     "metadata": {},
     "output_type": "execute_result"
    }
   ],
   "source": [
    "what = lambda x: x + 5\n",
    "what"
   ]
  },
  {
   "cell_type": "markdown",
   "metadata": {},
   "source": [
    "Lambda expressions can be used as an operator or an operand to a call expression. This is because they are one line expressions that evaluate to functions."
   ]
  },
  {
   "cell_type": "code",
   "execution_count": 2,
   "metadata": {},
   "outputs": [
    {
     "data": {
      "text/plain": [
       "9"
      ]
     },
     "execution_count": 2,
     "metadata": {},
     "output_type": "execute_result"
    }
   ],
   "source": [
    "(lambda y: y + 5)(4)"
   ]
  },
  {
   "cell_type": "markdown",
   "metadata": {},
   "source": [
    "## Q 1.1:\n",
    "Draw the environment diagram that results from executing the code below."
   ]
  },
  {
   "cell_type": "code",
   "execution_count": 5,
   "metadata": {},
   "outputs": [],
   "source": [
    "%%tutor --lang python3\n",
    "\n",
    "def curry2(h):\n",
    "    def f(x):\n",
    "        def g(y):\n",
    "            return h(x, y)\n",
    "        return g\n",
    "    return f\n",
    "\n",
    "make_adder = curry2(lambda x, y: x + y)\n",
    "add_three = make_adder(3)\n",
    "add_four = make_adder(4)\n",
    "five = add_three(2)"
   ]
  },
  {
   "cell_type": "markdown",
   "metadata": {},
   "source": [
    "## Q 1.2\n",
    "Write `curry2` as a lambda function."
   ]
  },
  {
   "cell_type": "code",
   "execution_count": 7,
   "metadata": {},
   "outputs": [],
   "source": [
    "curry2 = lambda h: lambda x: lambda y: h(x, y)"
   ]
  },
  {
   "cell_type": "markdown",
   "metadata": {},
   "source": [
    "## Q 1.3\n",
    "Draw the environment diagram that results from executing the code below."
   ]
  },
  {
   "cell_type": "code",
   "execution_count": null,
   "metadata": {},
   "outputs": [],
   "source": [
    "%%tutor --lang python3\n",
    "\n",
    "n = 7\n",
    "\n",
    "def f(x):\n",
    "    n = 8\n",
    "    return x + 1\n",
    "\n",
    "def g(x):\n",
    "    n = 9\n",
    "    def h():\n",
    "        return x + 1\n",
    "    return h\n",
    "\n",
    "def f(f, x):\n",
    "    return f(x + n)\n",
    "\n",
    "f = f(g, n)\n",
    "g = (lambda y: y()) (f)"
   ]
  },
  {
   "cell_type": "markdown",
   "metadata": {},
   "source": [
    "## Q 1.4\n",
    "Draw the environment diagram that results from executing the code below.\n",
    "\n",
    "**Note**: Using the `+` operator with 2 strings results in the second string being appended to the first.\n",
    "\n",
    "Example: `\"C\" + \"S\"` becomes the string `\"CS\"`."
   ]
  },
  {
   "cell_type": "code",
   "execution_count": 8,
   "metadata": {},
   "outputs": [],
   "source": [
    "%%tutor --lang python3\n",
    "\n",
    "y = \"y\"\n",
    "h = y\n",
    "def y(y):\n",
    "    h = \"h\"\n",
    "    if y == h:\n",
    "        return y + \"i\"\n",
    "    y = lambda y: y(h)\n",
    "    return lambda h: y(h)\n",
    "y = y(y)(y)"
   ]
  },
  {
   "cell_type": "markdown",
   "metadata": {},
   "source": [
    "## Writing Higher Order Functions"
   ]
  },
  {
   "cell_type": "markdown",
   "metadata": {},
   "source": [
    "## Q 1.5\n",
    "Write a function that takes in a function `cond` and a number `n` and prints numbers from `1` to `n` where calling `cond` on that number returns `True`."
   ]
  },
  {
   "cell_type": "code",
   "execution_count": 6,
   "metadata": {},
   "outputs": [],
   "source": [
    "def keep_ints(cond, n):\n",
    "    \"\"\"Print out all integers 1..i..n where cond(i) is true\n",
    "    \n",
    "    >>> def is_even(x):\n",
    "    ...     # Even numbers have remainder 0 when divided by 2\n",
    "    ...     return x % 2 == 0\n",
    "    >>> keep_ints(is_even, 5)\n",
    "    2\n",
    "    4\n",
    "    \"\"\"\n",
    "    i = 1\n",
    "    while i <= n:\n",
    "        if cond(i):\n",
    "            print(i)\n",
    "        i += 1"
   ]
  },
  {
   "cell_type": "code",
   "execution_count": 5,
   "metadata": {},
   "outputs": [
    {
     "name": "stdout",
     "output_type": "stream",
     "text": [
      "2\n",
      "4\n"
     ]
    }
   ],
   "source": [
    "def is_even(x):\n",
    "    return x % 2 == 0\n",
    "\n",
    "keep_ints(is_even, 5)"
   ]
  },
  {
   "cell_type": "markdown",
   "metadata": {},
   "source": [
    "Above is a fairly simple problem. Simply make an interator `i` and print `i` if `cond(i)` returns `True`."
   ]
  },
  {
   "cell_type": "markdown",
   "metadata": {},
   "source": [
    "## Q 1.6\n",
    "Write a function similar to `keep_ints` like before, but now it takes in a number `n` and returns a function that has a parameter `cond`.The returned function prints out number from `1` to `n` where calling `cond` on that number returns `True`."
   ]
  },
  {
   "cell_type": "code",
   "execution_count": 10,
   "metadata": {},
   "outputs": [],
   "source": [
    "def keep_ints(n):\n",
    "    \"\"\" Returns a function which takes one parameter cond and prints out all\n",
    "    1 .. i .. n where calling cond(i) returns True\n",
    "    \n",
    "    >>> def is_even(x):\n",
    "    ...     return x % 2 == 0\n",
    "    >>> keep_ints(5)(is_even)\n",
    "    2\n",
    "    4\n",
    "    \"\"\"\n",
    "    def helper(cond):\n",
    "        i = 1\n",
    "        while i <= n:\n",
    "            if cond(i):\n",
    "                print(i)\n",
    "            i += 1\n",
    "    return helper"
   ]
  },
  {
   "cell_type": "code",
   "execution_count": 11,
   "metadata": {},
   "outputs": [
    {
     "name": "stdout",
     "output_type": "stream",
     "text": [
      "2\n",
      "4\n"
     ]
    }
   ],
   "source": [
    "def is_even(x):\n",
    "    return x % 2 == 0\n",
    "\n",
    "keep_ints(5)(is_even)"
   ]
  },
  {
   "cell_type": "markdown",
   "metadata": {},
   "source": [
    "This time, the implementation uses higher-order function. Just make sure that in the end, we return the `helper` function."
   ]
  },
  {
   "cell_type": "markdown",
   "metadata": {},
   "source": [
    "# Recursion"
   ]
  },
  {
   "cell_type": "markdown",
   "metadata": {},
   "source": [
    "A `recursive` function is a function that is **defined in terms of itself**. A good example is the `factorial` function,"
   ]
  },
  {
   "cell_type": "code",
   "execution_count": null,
   "metadata": {},
   "outputs": [],
   "source": [
    "def factorial(n):\n",
    "    if n == 0 or n == 1:\n",
    "        return 1\n",
    "    else:\n",
    "        return n * factorial(n-1)"
   ]
  },
  {
   "cell_type": "markdown",
   "metadata": {},
   "source": [
    "Although it seems that the implementation of `factorial` is unfinished, we can still call it since the body is not evaluated until the function is called.\n",
    "\n",
    "Notice that when `n` is `0` or `1`, the function just `return 1`. This is the **base case** that prevents the function from infinitely recursing. This way, we can compute `factorial(2)` in terms of `factorial(1)`, `factorial(3)` in terms of `factorial(2)`, and so on."
   ]
  },
  {
   "cell_type": "markdown",
   "metadata": {},
   "source": [
    "## 3 Common Steps in a Recursive Definition\n",
    "\n",
    "#### 1. Figure out the base case\n",
    "The base case is usually **the simplest input possible to the function**. We can also think of a base case as **a stopping condition**. For example, `factorial(0)` is `1` by definition.\n",
    "\n",
    "If we can't figure out the base case right away, move on to the **recursive case** and try to figure out the point at which we can't reduce the problem any further.\n",
    "\n",
    "#### 2. Make a recursive call with a simpler argument:\n",
    "Simplify the problem and **assume that** a recursive call for this new, simpler problem will work. This is called the **leap of faith**. For `factorial`, we reduce the problem by calling `factorial(n-1)`\n",
    "\n",
    "#### 3. Use your recursive call to solve the full problem\n",
    "Recall that we assumed the recursive call works. Use the result of the recursive call to solve the original problem. For `factorial`, we simply multiply `(n-1)!` with `n`."
   ]
  },
  {
   "cell_type": "markdown",
   "metadata": {},
   "source": [
    "## Another way of understanding recursion - Internal Correctness\n",
    "\n",
    "One way of understanding recursion is to separate 2 things:\n",
    "1. Internal correctness\n",
    "2. Not running forever (known as `halting`)\n",
    "\n",
    "A recursive function is **internally correct** if it always does the right thing assuming that every recursive call does the right thing. The `factorial` function from above but without base case is **internally correct**, but does not halt.\n",
    "\n",
    "A recursive function is **correct** if and only if it is both internally correct and halts; but we can check each property separately. The `recursive leap of faith` is temporarily placing ourselves in a mindset where we only check internal correctness. "
   ]
  },
  {
   "cell_type": "markdown",
   "metadata": {},
   "source": [
    "## Q 2.1\n",
    "Write a function that takes 2 numbers `m` and `n` and returns their product. Assume `m` and `n` are positive integers. **Use recursion**, not `mul` or `*`!\n",
    "\n",
    "Hint: 5$\\times$3 = 5 + 5$\\times$2 = 5 + 5 + 5$\\times$1"
   ]
  },
  {
   "cell_type": "markdown",
   "metadata": {},
   "source": [
    "For the base case, what is the simplest possible input for `multiply`?\n",
    "\n",
    "**Ans**: If either `m` or `n` is `1`, then we just return the other variable. For example, if `m` is `5` and `n` is `1`, then we just return `1`.\n",
    "\n",
    "For the recursive case, what does calling `multiply(m - 1, n)` do? What does calling `multiply(m, n-1)` do? Do we prefer one over the other?\n",
    "\n",
    "#### Ans:\n",
    "1. Calling `multiply(m - 1, n)` means calling the `multiply` function with the argument `m` 1 less from the previous `multiply` call. `n` stays the same.\n",
    "2. Calling `multiply(m, n-1)` means calling the `multiply` function with the argument `n` 1 less from the previous `multiply` call. `m` stays the same.\n",
    "\n",
    "Both implementation return the same result, but we would prefer one where we decrement the number that's less than the other so that less amount of recursive calls are needed."
   ]
  },
  {
   "cell_type": "code",
   "execution_count": 12,
   "metadata": {},
   "outputs": [
    {
     "data": {
      "text/plain": [
       "15"
      ]
     },
     "execution_count": 12,
     "metadata": {},
     "output_type": "execute_result"
    }
   ],
   "source": [
    "def multiply(m, n):\n",
    "    \"\"\"\n",
    "    >>> multiply(5, 3)\n",
    "    15\n",
    "    \"\"\"\n",
    "    if n == 1:\n",
    "        return m\n",
    "    return m + multiply(m, n-1)\n",
    "\n",
    "multiply(5, 3)"
   ]
  },
  {
   "cell_type": "markdown",
   "metadata": {},
   "source": [
    "# Q 2.2\n",
    "Write a recursive function that takes in an integer `n` and prints out a count-down from `n` to `1`."
   ]
  },
  {
   "cell_type": "markdown",
   "metadata": {},
   "source": [
    "First, think about a base case for the `countdown` function. What is the simplest input the problem could be given?\n",
    "\n",
    "**Ans**: `n` is `1`\n",
    "\n",
    "After you've thought of a base case, think about a recursive call with a smaller argument that approaches the base case. What happens if you call a `countdown(n - 1)`?\n",
    "\n",
    "**Ans**: Calls the `countdown` function with the argument 1 less from the previous `n`. On the same time, prints that argument.\n",
    "\n",
    "Then, put the base case and the recursive call together, and think about where a print statement would be needed."
   ]
  },
  {
   "cell_type": "code",
   "execution_count": 13,
   "metadata": {},
   "outputs": [
    {
     "name": "stdout",
     "output_type": "stream",
     "text": [
      "3\n",
      "2\n",
      "1\n"
     ]
    }
   ],
   "source": [
    "def countdown(n):\n",
    "    \"\"\"\n",
    "    >>> countdown(3)\n",
    "    3\n",
    "    2\n",
    "    1\n",
    "    \"\"\"\n",
    "    print(n)\n",
    "    if n == 1:\n",
    "        return\n",
    "    countdown(n-1)\n",
    "\n",
    "countdown(3)"
   ]
  },
  {
   "cell_type": "markdown",
   "metadata": {},
   "source": [
    "Note that the `print` statement is placed in the beginning to make sure that even the first `n` input is printed.\n",
    "\n",
    "The **solution** is as the following,"
   ]
  },
  {
   "cell_type": "code",
   "execution_count": 16,
   "metadata": {},
   "outputs": [
    {
     "name": "stdout",
     "output_type": "stream",
     "text": [
      "3\n",
      "2\n",
      "1\n"
     ]
    }
   ],
   "source": [
    "def countdown(n):\n",
    "    if n <= 0:\n",
    "        return\n",
    "    print(n)\n",
    "    countdown(n-1)\n",
    "    \n",
    "countdown(3)"
   ]
  },
  {
   "cell_type": "markdown",
   "metadata": {},
   "source": [
    "## Q 2.3\n",
    "How can we change `countdown` to count up instead without modifying a lot of the code?\n",
    "\n",
    "**Ans**: From the solution implementation, move the `print` statement so that it's after the recursive call."
   ]
  },
  {
   "cell_type": "code",
   "execution_count": 18,
   "metadata": {},
   "outputs": [
    {
     "name": "stdout",
     "output_type": "stream",
     "text": [
      "1\n",
      "2\n",
      "3\n"
     ]
    }
   ],
   "source": [
    "def countdown(n):\n",
    "    if n <= 0:\n",
    "        return\n",
    "    countdown(n-1)\n",
    "    print(n)\n",
    "\n",
    "countdown(3)"
   ]
  },
  {
   "cell_type": "markdown",
   "metadata": {},
   "source": [
    "The implementation above makes sense because in the very first call, the `print` statement won't be executed until the `countdown(n-1)` recursive call is completed. The `countdown(n-1)` recursive calls are executed until the smallest `n`, then it starts printing from that smallest `n`."
   ]
  },
  {
   "cell_type": "markdown",
   "metadata": {},
   "source": [
    "## Q 2.4\n",
    "Write a recursive function that takes a number `n` and returns the sum of every other digit, starting from the rightmost digit. Assume `n` is non-negative.\n",
    "\n",
    "You might find the operators `//` and `%` useful."
   ]
  },
  {
   "cell_type": "code",
   "execution_count": 20,
   "metadata": {},
   "outputs": [],
   "source": [
    "def sum_every_other_digit(n):\n",
    "    \"\"\"\n",
    "    >>> sum_every_other_digit(7)\n",
    "    7\n",
    "    >>> sum_every_other_digit(30)\n",
    "    0\n",
    "    >>> sum_every_other_digit(228)\n",
    "    10\n",
    "    >>> sum_every_other_digit(123456)\n",
    "    12\n",
    "    >>> sum_every_other_digit(1234567) # 1 + 3 + 5 + 7\n",
    "    16\n",
    "    \"\"\"\n",
    "    if n <= 0:\n",
    "        return 0\n",
    "    return n % 10 + sum_every_other_digit(n // 100)"
   ]
  },
  {
   "cell_type": "code",
   "execution_count": 21,
   "metadata": {},
   "outputs": [
    {
     "data": {
      "text/plain": [
       "0"
      ]
     },
     "execution_count": 21,
     "metadata": {},
     "output_type": "execute_result"
    }
   ],
   "source": [
    "sum_every_other_digit(30)"
   ]
  },
  {
   "cell_type": "code",
   "execution_count": 24,
   "metadata": {},
   "outputs": [
    {
     "data": {
      "text/plain": [
       "10"
      ]
     },
     "execution_count": 24,
     "metadata": {},
     "output_type": "execute_result"
    }
   ],
   "source": [
    "sum_every_other_digit(228)"
   ]
  },
  {
   "cell_type": "markdown",
   "metadata": {},
   "source": [
    "Simply sum the last digit, and recursive call on `n` after `n` is divided by 100."
   ]
  },
  {
   "cell_type": "markdown",
   "metadata": {},
   "source": [
    "## Q 2.5\n",
    "Draw an environment diagram for the folliwng code:"
   ]
  },
  {
   "cell_type": "code",
   "execution_count": 26,
   "metadata": {},
   "outputs": [
    {
     "data": {
      "text/plain": [
       "9"
      ]
     },
     "execution_count": 26,
     "metadata": {},
     "output_type": "execute_result"
    }
   ],
   "source": [
    "%%tutor --lang python3\n",
    "\n",
    "def rec(x, y):\n",
    "    if y > 0:\n",
    "        return x * rec(x, y-1)\n",
    "    return 1\n",
    "rec (3, 2)"
   ]
  },
  {
   "cell_type": "markdown",
   "metadata": {},
   "source": [
    "Bonus question: what does this function do?\n",
    "\n",
    "**Ans**: It multiplies `x` `y` amount of times. In other words, this function calculates `x` to the power of `y`."
   ]
  },
  {
   "cell_type": "code",
   "execution_count": null,
   "metadata": {},
   "outputs": [],
   "source": []
  }
 ],
 "metadata": {
  "celltoolbar": "Visualize",
  "kernelspec": {
   "display_name": "Python 3",
   "language": "python",
   "name": "python3"
  },
  "language_info": {
   "codemirror_mode": {
    "name": "ipython",
    "version": 3
   },
   "file_extension": ".py",
   "mimetype": "text/x-python",
   "name": "python",
   "nbconvert_exporter": "python",
   "pygments_lexer": "ipython3",
   "version": "3.7.2"
  }
 },
 "nbformat": 4,
 "nbformat_minor": 2
}
