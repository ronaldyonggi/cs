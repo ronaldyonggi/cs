{
 "cells": [
  {
   "cell_type": "markdown",
   "metadata": {},
   "source": [
    "# 3 Midterm Review"
   ]
  },
  {
   "cell_type": "markdown",
   "metadata": {},
   "source": [
    "## 3.1\n",
    "Write a function that takes a list and returns a new list that keeps only the even-indexed elements of `lst` and multiplies them by their corresponding index."
   ]
  },
  {
   "cell_type": "code",
   "execution_count": 4,
   "metadata": {},
   "outputs": [],
   "source": [
    "def even_weighted(lst):\n",
    "    return [lst[i] * i for i in range(len(lst)) if i % 2 == 0]"
   ]
  },
  {
   "cell_type": "code",
   "execution_count": 5,
   "metadata": {},
   "outputs": [
    {
     "data": {
      "text/plain": [
       "TestResults(failed=0, attempted=2)"
      ]
     },
     "execution_count": 5,
     "metadata": {},
     "output_type": "execute_result"
    }
   ],
   "source": [
    "\n",
    "\"\"\"\n",
    ">>> x = [1, 2, 3, 4, 5, 6]\n",
    ">>> even_weighted(x)\n",
    "[0, 6, 20]\n",
    "\"\"\"\n",
    "import doctest\n",
    "doctest.testmod()"
   ]
  },
  {
   "cell_type": "markdown",
   "metadata": {},
   "source": [
    "## 3.2\n",
    "The **quicksort** sorting algorithm is an efficient and commonly used algorithm to order the elements of a list. We choose one element of the list to be the **pivot** element and partition the remaining elements into 2 lists: \n",
    "1. One of elements less than the pivot\n",
    "2. One of elements greater than the pivot\n",
    "\n",
    "We recursively sort the 2 lists, which gives us a sorted list of all the elements less than the pivot and all the elements greater than the pivot, which we can then combine with the pivot for a completely sorted list.\n",
    "\n",
    "First, implement the `quicksort_list` function. Choose the first element of the list as the pivot. You may assume that all elements are distinct.\n",
    "\n",
    "Note: In CS, sorting refers to placing elements in order from least to greatest, not putting things in categories."
   ]
  },
  {
   "cell_type": "markdown",
   "metadata": {},
   "source": [
    "## Strategy"
   ]
  },
  {
   "cell_type": "markdown",
   "metadata": {},
   "source": [
    "A list with no elements is completely sorted. This would be the base case."
   ]
  },
  {
   "cell_type": "code",
   "execution_count": null,
   "metadata": {},
   "outputs": [],
   "source": [
    "if len(lst) <= 1:\n",
    "    return lst"
   ]
  },
  {
   "cell_type": "markdown",
   "metadata": {},
   "source": [
    "We choose a `pivot` that would become the \"middle point\". "
   ]
  },
  {
   "cell_type": "code",
   "execution_count": null,
   "metadata": {},
   "outputs": [],
   "source": [
    "pivot = lst[0]"
   ]
  },
  {
   "cell_type": "markdown",
   "metadata": {},
   "source": [
    "Then we construct `less` and `greater`, which are lists that contains elements in `lst` that are less and greater than `pivot`, respectively. "
   ]
  },
  {
   "cell_type": "code",
   "execution_count": null,
   "metadata": {},
   "outputs": [],
   "source": [
    "less = [i for i in lst[1:] if i < pivot]\n",
    "greater = [i for i in lst[1:] if i > pivot]"
   ]
  },
  {
   "cell_type": "markdown",
   "metadata": {},
   "source": [
    "Now all that's left is to recursively call `quicksort_list` on `less` and `greater`. Since we want the final product to be a list of sorted elements, the final `return` value should be the concatenation of the following,"
   ]
  },
  {
   "cell_type": "code",
   "execution_count": null,
   "metadata": {},
   "outputs": [],
   "source": [
    "return quicksort_list(less) + pivot + quicksort_list(greater)"
   ]
  },
  {
   "cell_type": "markdown",
   "metadata": {},
   "source": [
    "The sorted version of the items less than the pivot (`quicksort_list(less)`) will all be less than `pivot`, so concatenating `pivot` to the end of that list maintains a sorted list over all the smaller elements plus the `pivot`. The same thing applies for the elements that are greater than `pivot`.\n",
    "\n",
    "Thus, our implementation would look like the following,"
   ]
  },
  {
   "cell_type": "code",
   "execution_count": 10,
   "metadata": {},
   "outputs": [],
   "source": [
    "def quicksort_list(lst):\n",
    "    if len(lst) <= 1:\n",
    "        return lst\n",
    "    pivot = lst[0]\n",
    "    less = [i for i in lst[1:] if i < pivot]\n",
    "    greater = [i for i in lst[1:] if i > pivot]\n",
    "    return quicksort_list(less) + [pivot] + quicksort_list(greater)"
   ]
  },
  {
   "cell_type": "code",
   "execution_count": 11,
   "metadata": {},
   "outputs": [
    {
     "data": {
      "text/plain": [
       "TestResults(failed=0, attempted=1)"
      ]
     },
     "execution_count": 11,
     "metadata": {},
     "output_type": "execute_result"
    }
   ],
   "source": [
    "\n",
    "\"\"\"\n",
    ">>> quicksort_list([3, 1, 4])\n",
    "[1, 3, 4]\n",
    "\"\"\"\n",
    "import doctest\n",
    "doctest.testmod()"
   ]
  },
  {
   "cell_type": "markdown",
   "metadata": {},
   "source": [
    "## 3.3"
   ]
  },
  {
   "cell_type": "markdown",
   "metadata": {},
   "source": [
    "Write a function that takes in a list and returns the maximum product that can be formed using nonconsecutive elements of the list. The input list will contain only numbers greater than or equal to 1."
   ]
  },
  {
   "cell_type": "markdown",
   "metadata": {},
   "source": [
    "### Strategy"
   ]
  },
  {
   "cell_type": "markdown",
   "metadata": {},
   "source": [
    "#### Base case:\n",
    "\n",
    "The base case is that when we reached the end of the list (we'll obtain empty list), then return 1."
   ]
  },
  {
   "cell_type": "code",
   "execution_count": null,
   "metadata": {},
   "outputs": [],
   "source": [
    "if lst is []:\n",
    "    return 1"
   ]
  },
  {
   "cell_type": "markdown",
   "metadata": {},
   "source": [
    "#### Recursive case"
   ]
  },
  {
   "cell_type": "markdown",
   "metadata": {},
   "source": [
    "As for the recursive case, we only have 2 options:\n",
    "1. Multiplying the total starting with element of index `[0]`, then alternating\n",
    "2. Multiplying the total starting with element of index `[1]`, then alternating.\n",
    "    * In this case, we don't need to start the multiplication in the beginning. We just need to call the recursive function on the list excluding the first element."
   ]
  },
  {
   "cell_type": "code",
   "execution_count": null,
   "metadata": {},
   "outputs": [],
   "source": [
    "return max(lst[0] * max_product(lst[2:]), max_product(lst[1:]))"
   ]
  },
  {
   "cell_type": "markdown",
   "metadata": {},
   "source": [
    "Our implementation would look like the following,"
   ]
  },
  {
   "cell_type": "code",
   "execution_count": 16,
   "metadata": {},
   "outputs": [],
   "source": [
    "def max_product(lst):\n",
    "    if lst == []:\n",
    "        return 1\n",
    "    return max(lst[0] * max_product(lst[2:]), max_product(lst[1:]))"
   ]
  },
  {
   "cell_type": "code",
   "execution_count": 17,
   "metadata": {},
   "outputs": [
    {
     "data": {
      "text/plain": [
       "TestResults(failed=0, attempted=3)"
      ]
     },
     "execution_count": 17,
     "metadata": {},
     "output_type": "execute_result"
    }
   ],
   "source": [
    "\n",
    "\"\"\"Return the maximum product that can be formed using lst\n",
    "without using any consecutive numbers\n",
    ">>> max_product([10,3,1,9,2]) # 10 * 9\n",
    "90\n",
    ">>> max_product([5,10,5,10,5]) # 5 * 5 * 5\n",
    "125\n",
    ">>> max_product([])\n",
    "1\n",
    "\"\"\"\n",
    "import doctest\n",
    "doctest.testmod()"
   ]
  },
  {
   "cell_type": "markdown",
   "metadata": {},
   "source": [
    "## 3.4\n",
    "Complete `redundant_map`, which takes a tree `t` and a function `f`, and applies `f` to each node $(2^d)$ time, where `d` is the dept of the node. The root has a depth of 0. It should mutate the existing tree rather than creating a new tree."
   ]
  },
  {
   "cell_type": "markdown",
   "metadata": {},
   "source": [
    "### Strategy"
   ]
  },
  {
   "cell_type": "markdown",
   "metadata": {},
   "source": [
    "This problem might look difficult at first, but the implementation is quite simple!\n",
    "\n",
    "**1.** Apply the function to the currently selected label."
   ]
  },
  {
   "cell_type": "code",
   "execution_count": null,
   "metadata": {},
   "outputs": [],
   "source": [
    "t.label = f(t.label)"
   ]
  },
  {
   "cell_type": "markdown",
   "metadata": {},
   "source": [
    "**2.** Update the `f` function so that this time, `f(x)` becomes `f(f(x))`."
   ]
  },
  {
   "cell_type": "code",
   "execution_count": null,
   "metadata": {},
   "outputs": [],
   "source": [
    "new_f = f(f(x))"
   ]
  },
  {
   "cell_type": "markdown",
   "metadata": {},
   "source": [
    "**3.** Call recursive `redundant_map` on each branch using the `new_f`"
   ]
  },
  {
   "cell_type": "code",
   "execution_count": null,
   "metadata": {},
   "outputs": [],
   "source": [
    "for branch in t.branches:\n",
    "    redundant_map(branch, new_f)"
   ]
  },
  {
   "cell_type": "code",
   "execution_count": null,
   "metadata": {},
   "outputs": [],
   "source": [
    "\"\"\"\n",
    ">>> double = lambda x: x*2\n",
    ">>> tree = Tree(1, [Tree(1), Tree(2, [Tree(1, [Tree(1)])])])\n",
    ">>> redundant_map(tree, double)\n",
    ">>> print_levels(tree)\n",
    "[2] # 1 * 2 ˆ (1) ; Apply double one time\n",
    "[4, 8] # 1 * 2 ˆ (2), 2 * 2 ˆ (2) ; Apply double two times\n",
    "[16] # 1 * 2 ˆ (2 ˆ 2) ; Apply double four times\n",
    "[256] # 1 * 2 ˆ (2 ˆ 3) ; Apply double eight times\n",
    "\"\"\"\n",
    "import doctest\n",
    "doctest.testmod()"
   ]
  },
  {
   "cell_type": "code",
   "execution_count": null,
   "metadata": {},
   "outputs": [],
   "source": [
    "def redundant_map(t, f):\n",
    "    t.label = ___\n",
    "    new_f = ___\n",
    "    ___\n",
    "        ___"
   ]
  },
  {
   "cell_type": "markdown",
   "metadata": {},
   "source": []
  }
 ],
 "metadata": {
  "kernelspec": {
   "display_name": "Python 3",
   "language": "python",
   "name": "python3"
  },
  "language_info": {
   "codemirror_mode": {
    "name": "ipython",
    "version": 3
   },
   "file_extension": ".py",
   "mimetype": "text/x-python",
   "name": "python",
   "nbconvert_exporter": "python",
   "pygments_lexer": "ipython3",
   "version": "3.6.8"
  }
 },
 "nbformat": 4,
 "nbformat_minor": 2
}
