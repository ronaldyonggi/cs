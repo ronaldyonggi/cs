{
 "cells": [
  {
   "cell_type": "markdown",
   "metadata": {},
   "source": [
    "# 2. Linked Lists"
   ]
  },
  {
   "cell_type": "markdown",
   "metadata": {},
   "source": [
    "There are many different implementations of sequences in Python. Here, we'll explore the linked list implementation.\n",
    "\n",
    "A linked list is either an ampty linked list, or a `Link` object containing a `first` value and the `rest` of the linked list.\n",
    "\n",
    "To check if a linked list is an empty linked list, we can compare it against the class attribute `Link.empty`."
   ]
  },
  {
   "cell_type": "code",
   "execution_count": null,
   "metadata": {},
   "outputs": [],
   "source": [
    "if link is Link.empty:\n",
    "    print('This linked list is empty!')\n",
    "else:\n",
    "    print('This linked list is not empty!')"
   ]
  },
  {
   "cell_type": "markdown",
   "metadata": {},
   "source": [
    "## Implementation"
   ]
  },
  {
   "cell_type": "code",
   "execution_count": 6,
   "metadata": {},
   "outputs": [],
   "source": [
    "class Link:\n",
    "    empty = ()\n",
    "    def __init__(self, first, rest = empty):\n",
    "        assert rest is Link.empty or isinstance(rest, Link)\n",
    "        self.first = first\n",
    "        self.rest = rest\n",
    "        \n",
    "    def __repr__(self):\n",
    "        if self.rest:\n",
    "            rest_str = ', ' + repr(self.rest)\n",
    "        else:\n",
    "            rest_str = ''\n",
    "        return 'Link({0}{1})'.format(repr(self.first), rest_str)\n",
    "    \n",
    "    @property\n",
    "    def second(self):\n",
    "        return self.rest.first\n",
    "    \n",
    "    @second.setter\n",
    "    def second(self, value):\n",
    "        self.rest.first = value\n",
    "        \n",
    "    def __str__(self):\n",
    "        string = '<'\n",
    "        while self.rest is not Link.empty:\n",
    "            string += str(self.first) + ' '\n",
    "            self = self.rest\n",
    "        return string + str(self.first) + '>'"
   ]
  },
  {
   "cell_type": "markdown",
   "metadata": {},
   "source": [
    "## Questions"
   ]
  },
  {
   "cell_type": "markdown",
   "metadata": {},
   "source": [
    "### 2.1\n",
    "Write a function that takes in a Python list of linked lists and multiplies them element-wise. It should return a new linked list.\n",
    "\n",
    "If not all of the `Link` objects are of equal length, return a linked list whose length is that of the shortest linked list given. You may assume that the `Link` objects are shallow linked lists, and that `lst_of_lnks` contains at least one linked list."
   ]
  },
  {
   "cell_type": "markdown",
   "metadata": {},
   "source": [
    "### Strategy"
   ]
  },
  {
   "cell_type": "markdown",
   "metadata": {},
   "source": [
    "We start with the base case: if in any of the linked list, we have reached an empty linked list, then just return an empty linked list."
   ]
  },
  {
   "cell_type": "code",
   "execution_count": null,
   "metadata": {},
   "outputs": [],
   "source": [
    "for link in lst_of_lnks:\n",
    "    if link is Link.empty:\n",
    "        return Link.empty"
   ]
  },
  {
   "cell_type": "markdown",
   "metadata": {},
   "source": [
    "For the recursive case, we want to multiply all the `Link.first` that are on the same level. With summing, we kept track of the total and just calculate the sum. With product, we initialize the total as `1` and multiply it with each of the `Link.first`. The calculation for the multiplication can be done within the `for` loop above since the `loop` is going through each linked list in `lst_of lnks`"
   ]
  },
  {
   "cell_type": "code",
   "execution_count": null,
   "metadata": {},
   "outputs": [],
   "source": [
    "total = 1\n",
    "for link in lst_of_lnks:\n",
    "    if link is Link.empty:\n",
    "        return Link.empty\n",
    "    total *= link.first"
   ]
  },
  {
   "cell_type": "markdown",
   "metadata": {},
   "source": [
    "We also want to apply the same implementation to the rest of the linked list. To do this, we would need to create a list that contains each of the `Link.rest`."
   ]
  },
  {
   "cell_type": "code",
   "execution_count": null,
   "metadata": {},
   "outputs": [],
   "source": [
    "lst_of_rests = [lnk.rest for lnk in lst_of_lnks]"
   ]
  },
  {
   "cell_type": "markdown",
   "metadata": {},
   "source": [
    "Then the implementation would be as the following,"
   ]
  },
  {
   "cell_type": "code",
   "execution_count": 9,
   "metadata": {},
   "outputs": [],
   "source": [
    "def multiply_lnks(lst_of_lnks):\n",
    "    total = 1  # Keeps track of the total \n",
    "    for link in lst_of_lnks: # Iterate through each linked list in lst_of_lnks\n",
    "        if link is Link.empty: # If any of them is empty, then just return empty\n",
    "            return Link.empty\n",
    "        total *= link.first # While none of them are empty, multiply the total with each of the link.first\n",
    "    lst_of_rests = [lnk.rest for lnk in lst_of_lnks]\n",
    "    return Link(total, multiply_lnks(lst_of_rests))\n",
    "    "
   ]
  },
  {
   "cell_type": "code",
   "execution_count": 10,
   "metadata": {},
   "outputs": [
    {
     "data": {
      "text/plain": [
       "TestResults(failed=0, attempted=7)"
      ]
     },
     "execution_count": 10,
     "metadata": {},
     "output_type": "execute_result"
    }
   ],
   "source": [
    "\n",
    "\"\"\"\n",
    ">>> a = Link(2, Link(3, Link(5)))\n",
    ">>> b = Link(6, Link(4, Link(2)))\n",
    ">>> c = Link(4, Link(1, Link(0, Link(2))))\n",
    ">>> p = multiply_lnks([a, b, c])\n",
    ">>> p.first\n",
    "48\n",
    ">>> p.rest.first\n",
    "12\n",
    ">>> p.rest.rest.rest\n",
    "()\n",
    "\"\"\"\n",
    "\n",
    "import doctest\n",
    "doctest.testmod()"
   ]
  },
  {
   "cell_type": "markdown",
   "metadata": {},
   "source": [
    "## 2.2\n",
    "Write a function that takes a sorted linked list of integers and mutates it so that all duplicates are removed"
   ]
  },
  {
   "cell_type": "markdown",
   "metadata": {},
   "source": [
    "## Strategy\n",
    "Base case: if we've reached the point where `lnk.rest` is an empty linked list, return nothing."
   ]
  },
  {
   "cell_type": "code",
   "execution_count": null,
   "metadata": {},
   "outputs": [],
   "source": [
    "if lnk.rest is Link.empty:\n",
    "    return "
   ]
  },
  {
   "cell_type": "markdown",
   "metadata": {},
   "source": [
    "Since we want to mutate the original linked list, we don't want to return a value. In this case, use a while loop to check as long as the linked list's `first` is the same value as `second`, we shift the linked list."
   ]
  },
  {
   "cell_type": "code",
   "execution_count": null,
   "metadata": {},
   "outputs": [],
   "source": [
    "while lnk.first == lnk.second:\n",
    "    lnk.rest = lnk.rest.rest"
   ]
  },
  {
   "cell_type": "markdown",
   "metadata": {},
   "source": [
    "Finally, recursive call `remove_duplicates` on the next element."
   ]
  },
  {
   "cell_type": "code",
   "execution_count": null,
   "metadata": {},
   "outputs": [],
   "source": [
    "return remove_duplicates(lnk.rest)"
   ]
  },
  {
   "cell_type": "markdown",
   "metadata": {},
   "source": [
    "The implementation would look like the following,"
   ]
  },
  {
   "cell_type": "code",
   "execution_count": 28,
   "metadata": {},
   "outputs": [],
   "source": [
    "def remove_duplicates(lnk):\n",
    "    if lnk.rest is Link.empty:\n",
    "        return \n",
    "    while lnk.first == lnk.second:\n",
    "        lnk.rest = lnk.rest.rest\n",
    "    return remove_duplicates(lnk.rest)"
   ]
  },
  {
   "cell_type": "code",
   "execution_count": 27,
   "metadata": {},
   "outputs": [
    {
     "data": {
      "text/plain": [
       "TestResults(failed=0, attempted=3)"
      ]
     },
     "execution_count": 27,
     "metadata": {},
     "output_type": "execute_result"
    }
   ],
   "source": [
    "\n",
    "\"\"\"\n",
    ">>> lnk = Link(1, Link(1, Link(1, Link(1, Link(5)))))\n",
    ">>> remove_duplicates(lnk)\n",
    ">>> lnk\n",
    "Link(1, Link(5))\n",
    "\"\"\"\n",
    "import doctest\n",
    "doctest.testmod()"
   ]
  },
  {
   "cell_type": "code",
   "execution_count": null,
   "metadata": {},
   "outputs": [],
   "source": []
  }
 ],
 "metadata": {
  "kernelspec": {
   "display_name": "Python 3",
   "language": "python",
   "name": "python3"
  },
  "language_info": {
   "codemirror_mode": {
    "name": "ipython",
    "version": 3
   },
   "file_extension": ".py",
   "mimetype": "text/x-python",
   "name": "python",
   "nbconvert_exporter": "python",
   "pygments_lexer": "ipython3",
   "version": "3.6.8"
  }
 },
 "nbformat": 4,
 "nbformat_minor": 2
}
