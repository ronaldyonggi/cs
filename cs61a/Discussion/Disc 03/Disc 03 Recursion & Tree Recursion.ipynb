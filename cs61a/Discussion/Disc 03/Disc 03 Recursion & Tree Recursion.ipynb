{
 "cells": [
  {
   "cell_type": "code",
   "execution_count": null,
   "metadata": {},
   "outputs": [],
   "source": [
    "%load_ext tutormagic"
   ]
  },
  {
   "cell_type": "markdown",
   "metadata": {},
   "source": [
    "# 1. More Recursion"
   ]
  },
  {
   "cell_type": "markdown",
   "metadata": {},
   "source": [
    "## Q.1\n",
    "In discussion 1, we implemented an **iterative** `is_prime`, which takes in a positive integer and returns whether or not that integer is prime.\n",
    "\n",
    "Now we'll implement it **recursively**. As a reminder, an integer is considered prime if it has exactly 2 unique factors: 1 and itself."
   ]
  },
  {
   "cell_type": "code",
   "execution_count": null,
   "metadata": {},
   "outputs": [],
   "source": [
    "def is_prime(n):\n",
    "    \"\"\"\n",
    "    >>> is_prime(7)\n",
    "    True\n",
    "    >>> is_prime(10)\n",
    "    False\n",
    "    >>> is_prime(1)\n",
    "    False\n",
    "    \"\"\"\n",
    "    def prime_helper(factor):\n",
    "        if factor == n:\n",
    "            return True\n",
    "        elif n == 1 or n % factor == 0:\n",
    "            return False\n",
    "        else:\n",
    "            return prime_helper(factor + 1)\n",
    "    return prime_helper(2)"
   ]
  },
  {
   "cell_type": "markdown",
   "metadata": {},
   "source": [
    "Notice that we start the implementation by calling `prime_helper(2)`. We want to see if `n` has a factor other than `1` and thus, we start with `2` and going up from there.\n",
    "\n",
    "1. If `factor` reaches `n`, which means `n` is not divisible by any other `factor` so far other than `n ` itself, then it is a prime number.\n",
    "2. If, before `factor` reaches `n`, `n` is divisible by `factor`, then `n` is not a prime number.\n",
    "3. Meanwhile, recursive call `prime_helper` on `factor + 1`. For every cycle, `factor` goes up until it reaches `n`."
   ]
  },
  {
   "cell_type": "markdown",
   "metadata": {},
   "source": [
    "## Q 1.2\n",
    "Define a function `make_fn_repeater` which takes in a one-argument function `f` and an integer `x`. It should return another function which takes in one argument, another integer. This function returns the result of applying `f` to `x` this number of times. \n",
    "\n",
    "Make sure to use **recursion** in your solution."
   ]
  },
  {
   "cell_type": "code",
   "execution_count": 12,
   "metadata": {},
   "outputs": [],
   "source": [
    "def make_func_repeater(f, x):\n",
    "    \"\"\"\n",
    "    >>> incr_1 = make_func_repeater(lambda x: x + 1, 1)\n",
    "    >>> incr_1(2) # same as f(f(x))\n",
    "    3\n",
    "    >>> incr_1(5)\n",
    "    6\n",
    "    \"\"\"\n",
    "    def repeat(n):\n",
    "        if n <= 0:\n",
    "            return x\n",
    "        else:\n",
    "            return f(repeat(n-1))\n",
    "    return repeat"
   ]
  },
  {
   "cell_type": "code",
   "execution_count": 13,
   "metadata": {},
   "outputs": [
    {
     "data": {
      "text/plain": [
       "3"
      ]
     },
     "execution_count": 13,
     "metadata": {},
     "output_type": "execute_result"
    }
   ],
   "source": [
    "incr_1 = make_func_repeater(lambda x: x + 1, 1)\n",
    "incr_1(2)"
   ]
  },
  {
   "cell_type": "markdown",
   "metadata": {},
   "source": [
    "Notice the recursive case returns `f(repeat(n-1))`. This makes sense because as long as the recursive call keeps running, `f` will be applied `n` many times. \n",
    "\n",
    "Also notice that the base case is that if `n` = 0, `return x`. This means ultimately the recursive call of `repeat(n-1)` will return `x` and thus, the `f(repeat(n-1))` end up with `f(f(f(....(x)))`."
   ]
  },
  {
   "cell_type": "markdown",
   "metadata": {},
   "source": [
    "# 2. Tree Recursion\n",
    "Consider a function that **requires more than one recursive call**. A simple example is the `fibonacci` function."
   ]
  },
  {
   "cell_type": "code",
   "execution_count": 16,
   "metadata": {},
   "outputs": [],
   "source": [
    "def fib(n):\n",
    "    if n == 0:\n",
    "        return 0\n",
    "    elif n == 1:\n",
    "        return 1\n",
    "    else:\n",
    "        return fib(n-1) + fib(n-2)"
   ]
  },
  {
   "cell_type": "markdown",
   "metadata": {},
   "source": [
    "This type of recursion is called `tree recursion`, since it makes more than one recursive call in its recursive case. If we draw the recursive calls, it will come with a shape of an upside-down tree.\n",
    "\n",
    "<img src = 'fib.jpg' width = 250>\n",
    "\n",
    "In theory, we can use loops to write the same procedure. However, problems that are naturally solved with tree recursion are usually difficult to solve iteratively.\n",
    "\n",
    "A tree recursive problem sometimes involve iteration. For example, we might use a `while` loop to add together multiple recursive calls.\n",
    "\n",
    "**Rule of Thumb**: If we need to try multiple possibilities at the same time, consider using tree recursion."
   ]
  },
  {
   "cell_type": "markdown",
   "metadata": {},
   "source": [
    "## Q 2.1\n",
    "I want to go up a flight of stairs that has `n` steps. I can either take `1` or `2` steps each time. How many different ways can I go up this flight of stairs? Write a function `count_stair_ways` that solves this problem for me. Assume `n` is positive.\n",
    "\n",
    "#### Before we start, what's the base case for this question? What is the simplest input?\n",
    "\n",
    "**Ans**: The base case is when the input `n` is `1` or `2`. \n",
    "1. If `n = 1`, there's only one way to go up the stairs\n",
    "2. If `n = 2`, there're 2 ways to go up the stairs: 2 single steps or one `2` step\n",
    "\n",
    "#### What do `count_stair_ways(n-1)` and `count_stair_ways(n-2)` represent?\n",
    "\n",
    "**Ans**:\n",
    "1. `count_stair_ways(n-1)` represents the number of different ways to take `n-1` stairs. \n",
    "2. `count_stair_ways(n-2)` represents the number of different ways to take `n-2` stairs.\n",
    "\n",
    "This is similar to the `fib` function. Recall the recursive call of the `fib` function calls for `fib(n-1)` + `fib(n-2)`. For example, `fib(2)` can be represented as `fib(1)` and `fib(2)`.\n",
    "\n",
    "Similar to the `fib` function, the base case solves for the remaining `1` or `2` steps."
   ]
  },
  {
   "cell_type": "code",
   "execution_count": 1,
   "metadata": {},
   "outputs": [],
   "source": [
    "def count_stair_ways(n):\n",
    "    if n == 1:\n",
    "        return 1\n",
    "    elif n == 2:\n",
    "        return 2\n",
    "    return count_stair_ways(n-1) + count_stair_ways(n-2)"
   ]
  },
  {
   "cell_type": "code",
   "execution_count": 3,
   "metadata": {},
   "outputs": [
    {
     "data": {
      "text/plain": [
       "5"
      ]
     },
     "execution_count": 3,
     "metadata": {},
     "output_type": "execute_result"
    }
   ],
   "source": [
    "count_stair_ways(4)"
   ]
  },
  {
   "cell_type": "markdown",
   "metadata": {},
   "source": [
    "## Q 2.2\n",
    "Consider a special version of the `count_stairways` problem, where instead of taking `1` or `2` steps, we are able to take **up to and including** `k` steps at a time.\n",
    "\n",
    "Write a function `count_k` that figures out the number of paths for this scenario. Assume `n` and `k` are positive."
   ]
  },
  {
   "cell_type": "code",
   "execution_count": 8,
   "metadata": {},
   "outputs": [],
   "source": [
    "def count_k(n, k):\n",
    "    \"\"\"\n",
    "    >>> count_k(3, 3) # 3, 2 + 1, 1 + 2, 1 + 1 + 1\n",
    "    4\n",
    "    >>> count_k(4, 4)\n",
    "    8\n",
    "    >>> count_k(10, 3)\n",
    "    274\n",
    "    >>> count_k(300, 1) # Only one step at a time\n",
    "    1\n",
    "    \"\"\"\n",
    "    if n == 0 :\n",
    "        return 1\n",
    "    elif n < 0:\n",
    "        return 0\n",
    "    else:\n",
    "        total = 0\n",
    "        i = 1\n",
    "        while i <= k:\n",
    "            total += count_k(n-i, k)\n",
    "            i += 1\n",
    "        return total"
   ]
  },
  {
   "cell_type": "code",
   "execution_count": 9,
   "metadata": {},
   "outputs": [
    {
     "data": {
      "text/plain": [
       "4"
      ]
     },
     "execution_count": 9,
     "metadata": {},
     "output_type": "execute_result"
    }
   ],
   "source": [
    "count_k(3, 3)"
   ]
  },
  {
   "cell_type": "code",
   "execution_count": 10,
   "metadata": {},
   "outputs": [
    {
     "data": {
      "text/plain": [
       "8"
      ]
     },
     "execution_count": 10,
     "metadata": {},
     "output_type": "execute_result"
    }
   ],
   "source": [
    "count_k(4, 4)"
   ]
  },
  {
   "cell_type": "markdown",
   "metadata": {},
   "source": [
    "This is somewhat a tricky problem. Since we can take steps up to `k`, we can't use numbers such as `1`, `2`, `3`, etc... as the base case like the previous problem. Instead, we do the following:\n",
    "\n",
    "1. If `n` reaches `0`, that will count as `1` way. `return 1`\n",
    "2. If `n` is a negative number, that means Python did an overstep. This shouldn't happen and thus, this doesn't count as a way! `return 0`\n",
    "3. Meanwhile, create a variable `total` that adds up to the total number of ways so far. \n"
   ]
  },
  {
   "cell_type": "markdown",
   "metadata": {},
   "source": [
    "## Q 2.3\n",
    "Here's a part of the Pascal's triangle:\n",
    "\n",
    "<img src = 'Pascal.jpg' width = 300/>\n",
    "\n",
    "Every number in Pascal's triangle is defined as the sum of:\n",
    "1. The item above it\n",
    "2. The item that is directly to the upper left of it\n",
    "\n",
    "Define the procedure `pascal(row, column)` which takes a row and a column, and finds the value at that position in the triangle.\n"
   ]
  },
  {
   "cell_type": "code",
   "execution_count": 1,
   "metadata": {},
   "outputs": [],
   "source": [
    "def pascal(row, column):\n",
    "    if column == 0:\n",
    "        return 1\n",
    "    elif row == 0:\n",
    "        return 0\n",
    "    return pascal(row-1, column) + pascal(row-1, column-1)"
   ]
  },
  {
   "cell_type": "code",
   "execution_count": 3,
   "metadata": {},
   "outputs": [
    {
     "data": {
      "text/plain": [
       "6"
      ]
     },
     "execution_count": 3,
     "metadata": {},
     "output_type": "execute_result"
    }
   ],
   "source": [
    "pascal(4, 2)"
   ]
  },
  {
   "cell_type": "code",
   "execution_count": 4,
   "metadata": {},
   "outputs": [
    {
     "data": {
      "text/plain": [
       "3"
      ]
     },
     "execution_count": 4,
     "metadata": {},
     "output_type": "execute_result"
    }
   ],
   "source": [
    "pascal(3, 1)"
   ]
  },
  {
   "cell_type": "markdown",
   "metadata": {},
   "source": [
    "The idea of the implementation is as the following:\n",
    "\n",
    "1. Column `0` all contains 1. Thus, if the column is `0`, then `return 1`.\n",
    "2. Row `0` is mostly empty (the value `1` in row `0` column `0` is due to column `0`), thus `return 0`\n",
    "3. Otherwise, return the element that's above the current element and the upper left of the element."
   ]
  },
  {
   "cell_type": "code",
   "execution_count": null,
   "metadata": {},
   "outputs": [],
   "source": []
  }
 ],
 "metadata": {
  "celltoolbar": "Visualize",
  "kernelspec": {
   "display_name": "Python 3",
   "language": "python",
   "name": "python3"
  },
  "language_info": {
   "codemirror_mode": {
    "name": "ipython",
    "version": 3
   },
   "file_extension": ".py",
   "mimetype": "text/x-python",
   "name": "python",
   "nbconvert_exporter": "python",
   "pygments_lexer": "ipython3",
   "version": "3.6.8"
  }
 },
 "nbformat": 4,
 "nbformat_minor": 2
}
