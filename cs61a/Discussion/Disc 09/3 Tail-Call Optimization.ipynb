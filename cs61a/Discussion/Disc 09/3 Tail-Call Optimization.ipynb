{
 "cells": [
  {
   "cell_type": "code",
   "execution_count": 2,
   "metadata": {},
   "outputs": [],
   "source": [
    "(define nil ())"
   ]
  },
  {
   "cell_type": "markdown",
   "metadata": {},
   "source": [
    "# 3 Tail-Call Optimization"
   ]
  },
  {
   "cell_type": "markdown",
   "metadata": {},
   "source": [
    "Tail-call optimization allows programmers to write recursive functions that use a constant amount of space. A `tail call` occurs when a function calls another function as its **last action of the current frame**; the frame is no longer needed, and thus we don't need to keep it, this way we can save memory. \n",
    "\n",
    "Consider the following `factorial` implementation,"
   ]
  },
  {
   "cell_type": "code",
   "execution_count": null,
   "metadata": {},
   "outputs": [],
   "source": [
    "(define (fact n)\n",
    "  (if (= n 0)\n",
    "      1\n",
    "      (* n (fact (- n 1)))"
   ]
  },
  {
   "cell_type": "markdown",
   "metadata": {},
   "source": [
    "After calling `(fact (- n 1))`, the function still needs to multiply that result with `n`. The final expression that is evaluated is the multiplication function, not the `fact` call itself. Thus, this recursive call is **not** a tail call.\n",
    "\n",
    "We can rewrite this function using a helper function that remembers the product that we calculated so far in each recursive step."
   ]
  },
  {
   "cell_type": "code",
   "execution_count": null,
   "metadata": {},
   "outputs": [],
   "source": [
    "(define (fact n)\n",
    "  (define (fact-tail n result) ; Helper function\n",
    "    (if (= n 0) \n",
    "        result ; If we have reached 0, then return the result\n",
    "        (fact-tail (- n 1) (* n result))\n",
    "  (fact-tail n 1)) ; Start with calling fact-tail with result = 1"
   ]
  },
  {
   "cell_type": "markdown",
   "metadata": {},
   "source": [
    "In `fact-tail`, the recursive `fact-tail` is the last expression to be evaluated, so it is a tail call. Thus, the `fact-tail` is a tail-recursive process."
   ]
  },
  {
   "cell_type": "markdown",
   "metadata": {},
   "source": [
    "## Tail Context"
   ]
  },
  {
   "cell_type": "markdown",
   "metadata": {},
   "source": [
    "When trying to identify whether a function call within the body of a function is a `tail call`, we look whether the call expression is in `tail context`.\n",
    "\n",
    "Given that each of the following expressions is the **last expression in the body of the function**, we consider the tail context of each expression to be:\n",
    "* The 2nd or 3rd operand in an `if` expression\n",
    "* Any of the non-`<predicate>` sub-expressions in a `cond` expression\n",
    "    * e.g. the 2nd expression of each clause\n",
    "* The last operand in...\n",
    "    * An `and` or `or` expression\n",
    "    * A `begin` expression's body\n",
    "    * A `let` expression's body"
   ]
  },
  {
   "cell_type": "markdown",
   "metadata": {},
   "source": [
    "## Questions"
   ]
  },
  {
   "cell_type": "markdown",
   "metadata": {},
   "source": [
    "### 3.1\n",
    "For each of the following functions, identify whether it contains a recursive call in a tail context. Also indicate if it uses a constant number of frames."
   ]
  },
  {
   "cell_type": "code",
   "execution_count": null,
   "metadata": {},
   "outputs": [],
   "source": [
    "(define (question-a x)\n",
    "  (if (= x 0) 0\n",
    "      (+ x (question-a (- x 1)))"
   ]
  },
  {
   "cell_type": "markdown",
   "metadata": {},
   "source": [
    "For the procedure `question-a` above, the last expression that is evaluated is a call to `+`, thus the recursive call is not in tail context. This function doesn't use a constant number of frames. Instead, this function use a linear $\\Theta(n)$ frames."
   ]
  },
  {
   "cell_type": "code",
   "execution_count": null,
   "metadata": {},
   "outputs": [],
   "source": [
    "(define (question-b x y)\n",
    "  (if (= x 0) y\n",
    "      (question-b (- x 1) (+ y x))"
   ]
  },
  {
   "cell_type": "markdown",
   "metadata": {},
   "source": [
    "For the procedure `question-b` above, the recursive call is the 3rd operand in the `if` expression, thus the recursive call is in a tail context. This means the last expression that will be evaluated in the procedure body is the recursive call. This function uses a constant number of frames."
   ]
  },
  {
   "cell_type": "code",
   "execution_count": null,
   "metadata": {},
   "outputs": [],
   "source": [
    "(define (question-c x y)\n",
    "  (if (> x y)\n",
    "      (question-c (- y 1) x)\n",
    "      (question-c (+ x 10) y)))"
   ]
  },
  {
   "cell_type": "markdown",
   "metadata": {},
   "source": [
    "For the procedure `question-c` above, the recursive calls are both the 2nd and 3rd operands of the `if` expression. Only one of these 2 recursive calls is actually evaluated, and both of them are the last expression evaluated in the body of the procedure. Therefore, the recursive calls are in a tail context, and this procedure uses a constant number of frames."
   ]
  },
  {
   "cell_type": "code",
   "execution_count": null,
   "metadata": {},
   "outputs": [],
   "source": [
    "(define (question-d n)\n",
    "  (if (question-d n)\n",
    "      (question-d (- n 1))\n",
    "      (question-d (+ n 10))))"
   ]
  },
  {
   "cell_type": "markdown",
   "metadata": {},
   "source": [
    "For the procedure `question-d` above, the recursive calls are both the 2nd and 3rd operands of the `if` expression. HOWEVER, the `<predicate>` of the `if` statement is a recursive call, which means the recursive call is not in a tail context! This procedure doesn't use a constant number of frames."
   ]
  },
  {
   "cell_type": "code",
   "execution_count": null,
   "metadata": {},
   "outputs": [],
   "source": [
    "define (question-e n)\n",
    "    (cond ((= n 0) 1)\n",
    "          ((question-e (- n 1)) (question-e (- n 2)))\n",
    "          (else (begin (print 2) (question-e (- n 3))))"
   ]
  },
  {
   "cell_type": "markdown",
   "metadata": {},
   "source": [
    "For the procedure above, the recursive calls in the 2nd and 3rd clause of the `cond` statement are in tail context. However, for the 2nd clause,\n",
    "\n",
    "`((question-e (- n 1)) (question-e (- n 2)))`\n",
    "\n",
    "The predicate is a recursive call, which is not in tail context. Thus, this procedure is not tail recursive and doesn't use a constant number of frames."
   ]
  },
  {
   "cell_type": "markdown",
   "metadata": {},
   "source": [
    "### 3.2\n",
    "Write a tail recursive function that returns the `n`th fibonacci number. We define `fib(0) = 0` and `fib(1)` = 1"
   ]
  },
  {
   "cell_type": "code",
   "execution_count": 3,
   "metadata": {},
   "outputs": [],
   "source": [
    "(define (fib n)\n",
    "  (define (fib-sofar i prev current) ; i is a counter , prev is the previous value, current is the current value\n",
    "    (if (= i n) ; if i has reached n, then return the current value\n",
    "        current\n",
    "        (fib-sofar (+ i 1) current (+ prev current))))\n",
    "  (fib-sofar 1 0 1))"
   ]
  },
  {
   "cell_type": "markdown",
   "metadata": {},
   "source": [
    "Above, it makes sense to start with `prev` = 0, `current` = 1 and `i` = 1. We can't start with `i` = 0 because that means we are starting with `current` = 0, and there is no fibonacci number available before the 0th fibonacci number!"
   ]
  },
  {
   "cell_type": "markdown",
   "metadata": {},
   "source": [
    "### 3.3\n",
    "Write a `tail recursive` function that takes in a Scheme list and returns the numerical sum of all values in the list. You can assume that the list is well-formed and contains only numbers (no nested lists)."
   ]
  },
  {
   "cell_type": "code",
   "execution_count": 10,
   "metadata": {},
   "outputs": [],
   "source": [
    "(define (sum lst)\n",
    "  (define (sum-helper lst current)\n",
    "    (if (null? lst) current ; If we've reached the end of the list, then return the current sum\n",
    "        (sum-helper (cdr lst) (+ (car lst) current)))) ; Otherwise, recursive call sum-helper\n",
    "  (sum-helper lst 0))"
   ]
  },
  {
   "cell_type": "markdown",
   "metadata": {},
   "source": [
    "### 3.4\n",
    "Write a tail recursive function that takes in a number and a sorted list. The function returns a sorted copy with the number inserted in the correct position.\n",
    "\n",
    "**(a)** Begin by writing a tail recursive function that reverses a list."
   ]
  },
  {
   "cell_type": "code",
   "execution_count": 3,
   "metadata": {},
   "outputs": [],
   "source": [
    "(define (reverse lst)\n",
    "  (define (reverse-sofar lst lst-sofar)\n",
    "    (if (null? lst) lst-sofar ; If we run out of elements in lst, then return what we have so far\n",
    "        (reverse-sofar (cdr lst) (cons (car lst) lst-sofar))))\n",
    "  (reverse-sofar lst nil))"
   ]
  },
  {
   "cell_type": "markdown",
   "metadata": {},
   "source": [
    "Above, the following recursive call,"
   ]
  },
  {
   "cell_type": "code",
   "execution_count": null,
   "metadata": {},
   "outputs": [],
   "source": [
    "(reverse-sofar (cdr lst) (cons (car lst) lst-sofar))"
   ]
  },
  {
   "cell_type": "markdown",
   "metadata": {},
   "source": [
    "...means that for the next recursive call, the \"already constructed\" list so far would become the second element of the cons. Thus, the next element is inserted before the list that is already constructed."
   ]
  },
  {
   "cell_type": "code",
   "execution_count": 2,
   "metadata": {},
   "outputs": [
    {
     "data": {
      "text/plain": [
       "(3 2 1)"
      ]
     },
     "execution_count": 2,
     "metadata": {},
     "output_type": "execute_result"
    }
   ],
   "source": [
    "; Test the reverse procedure\n",
    "(reverse '(1 2 3))"
   ]
  },
  {
   "cell_type": "markdown",
   "metadata": {},
   "source": [
    "**(b)** Next, write a tail recursive function that concatenates 2 lists together. You may use `reverse`."
   ]
  },
  {
   "cell_type": "code",
   "execution_count": 4,
   "metadata": {},
   "outputs": [],
   "source": [
    "(define (append a b)\n",
    "  (define (rev-append-tail a b)\n",
    "    (if (null? a) b\n",
    "        (rev-append-tail (cdr a) (cons (car a) b))))\n",
    "  (rev-append-tail (reverse a) b))"
   ]
  },
  {
   "cell_type": "markdown",
   "metadata": {},
   "source": [
    "Above, the following line, "
   ]
  },
  {
   "cell_type": "code",
   "execution_count": null,
   "metadata": {},
   "outputs": [],
   "source": [
    "(rev-append-tail (cdr a) (cons (car a) b))"
   ]
  },
  {
   "cell_type": "markdown",
   "metadata": {},
   "source": [
    "...indicates that for every recursive `rev-append-tail`, the elements of `a` will be appended in a reversed order. For example, if:\n",
    "1. `a` = `(1 2 3)`\n",
    "2. `b` = `(4 5 6)`\n",
    "\n",
    "Then the result of `rev-append-tail` would eventually be `(3 2 1 4 5 6)`\n",
    "\n",
    "In that case, one way around it is to call the `rev-append-tail` function on the reversed version of `a`."
   ]
  },
  {
   "cell_type": "markdown",
   "metadata": {},
   "source": [
    "**(c)** Finally, implement `insert`. You may use `reverse` and `append`."
   ]
  },
  {
   "cell_type": "code",
   "execution_count": 1,
   "metadata": {},
   "outputs": [],
   "source": [
    "(define (insert n lst)\n",
    "  (define (rev-insert lst rev-lst)\n",
    "    (cond ((null? lst) (cons n rev-lst))\n",
    "          ((> (car lst) n) (append (reverse lst) (cons n rev-lst)))\n",
    "          (else (rev-insert (cdr lst) (cons (car lst) rev-lst)))))\n",
    "  (reverse (rev-insert lst nil)))"
   ]
  },
  {
   "cell_type": "markdown",
   "metadata": {},
   "source": [
    "Note that in the implementation above, the first 2 clauses don't have recursive `rev-insert` at all. This means if any of the 2 clauses is executed, then the execution will end! The only recursive tall is the last clause of the `cond` expression."
   ]
  },
  {
   "cell_type": "code",
   "execution_count": 5,
   "metadata": {},
   "outputs": [
    {
     "data": {
      "text/plain": [
       "(1 2 3 4)"
      ]
     },
     "execution_count": 5,
     "metadata": {},
     "output_type": "execute_result"
    }
   ],
   "source": [
    "; Test the insert method\n",
    "(insert 3 '(1 2 4))"
   ]
  }
 ],
 "metadata": {
  "kernelspec": {
   "display_name": "Calysto Scheme 3",
   "language": "scheme",
   "name": "calysto_scheme"
  },
  "language_info": {
   "codemirror_mode": {
    "name": "scheme"
   },
   "mimetype": "text/x-scheme",
   "name": "scheme",
   "pygments_lexer": "scheme"
  }
 },
 "nbformat": 4,
 "nbformat_minor": 4
}
