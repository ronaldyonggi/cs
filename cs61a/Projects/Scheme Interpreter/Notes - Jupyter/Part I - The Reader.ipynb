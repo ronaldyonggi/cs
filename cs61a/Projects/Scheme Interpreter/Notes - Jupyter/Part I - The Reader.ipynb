{
 "cells": [
  {
   "cell_type": "markdown",
   "metadata": {},
   "source": [
    "All changes in this part should be made in `scheme_reader.py`"
   ]
  },
  {
   "cell_type": "markdown",
   "metadata": {},
   "source": [
    "In Parts 1 and 2, we will develop the interpreter in several stages:\n",
    "1. Reading Scheme expressions\n",
    "2. Symbol evaluation\n",
    "3. Calling built-in procedures\n",
    "4. Definitions\n",
    "5. Lambda expressions and procedure definition\n",
    "6. Calling user-defined procedures\n",
    "7. Evaluation of special forms\n",
    "\n",
    "The first part of this project deals with reading and parsing user inout. Our reader will parse Scheme code into Python values with the following representations:\n",
    "\n",
    "|Input Example | Scheme Expression Type | Our Internal Representation |\n",
    "| --- | --- | --- |\n",
    "|`scm> 1` | Numbers | Python's built-in `int` and `float` values |\n",
    "|`scm> x` | Symbols | Python's built-in `string` values |\n",
    "|`scm> #t` | Booleans (`#t`, `#f`) | Python's built-in `True`, `False` values|\n",
    "|`scm> (+ 2 3)` | Combinations | Instances of the `Pair` class, defined in `scheme_reader.py` |\n",
    "|`scm> nil` | `nil` | The `nil` object, defined in `scheme_reader.py` |\n",
    "\n",
    "When we refer to combinations in this project, we are referring to both call expressions and special forms.\n",
    "\n",
    "Make sure to read the [Implementation Overview](https://inst.eecs.berkeley.edu/~cs61a/fa18/proj/scheme/#implementation-overview) section to understand how the reader is broken up into parts."
   ]
  },
  {
   "cell_type": "markdown",
   "metadata": {},
   "source": [
    "## Implementation Overview"
   ]
  },
  {
   "cell_type": "markdown",
   "metadata": {},
   "source": [
    "Here is a brief overview of each of the `Read-Eval-Print Loop` components in our interpreter. Refer to this section as we work through the project as a reminder of how all the small pieces fit together!\n",
    "\n",
    "**1.** `Read`: This step parses user input (a string of Scheme code) into our interpreter's internal Python representation of Scheme expressions (e.g. Pairs).\n",
    "\n",
    "`Lexical Analysis` has been already implemented in the `tokenize_lines` function in `scheme_tokens.py`. This function returns a `Buffer` (from `buffer.py`) of tokens. We don't need to read or understand the code for this step.\n",
    "\n",
    "`Syntactic Analysis` happens in `scheme_reader.py`, in the `scheme_read` and `read_tail` functions. Together, these mutually recursive functions parse Scheme tokens into our interpreter's internal Python representation of Scheme expressions. We will complete both functions.\n",
    "\n",
    "**2.** `Eval`: This step evalues Scheme expessions (represented in Python)"
   ]
  },
  {
   "cell_type": "markdown",
   "metadata": {},
   "source": [
    "In our implementation, we store tokens ready to be parsed in `Buffer` instances. For example, a buffer containing the input,"
   ]
  },
  {
   "cell_type": "code",
   "execution_count": null,
   "metadata": {},
   "outputs": [],
   "source": [
    "(+ 2 (2 . 3))"
   ]
  },
  {
   "cell_type": "markdown",
   "metadata": {},
   "source": [
    "...would have the tokens,"
   ]
  },
  {
   "cell_type": "code",
   "execution_count": null,
   "metadata": {},
   "outputs": [],
   "source": [
    "'(', '+', '(', 2, '.', 3, ')', ')'"
   ]
  },
  {
   "cell_type": "markdown",
   "metadata": {},
   "source": [
    "See the doctests in `buffer.py` for more examples. We don't need to understand the code in this file.\n",
    "\n",
    "We will write the parsing functionality, which consists of 2 mutually recursive functions `scheme_read` and `read_tail`. These functions each take in a single parameter, `src`, which is an instance of `Buffer`.\n",
    "\n",
    "There are 2 methods defined in `buffer.py` that we'll use to interact with `src`:\n",
    "\n",
    "**1.**`src.remove_front()`: mutates `src` by removing the **first** token in `src` and returns it. For the sake of simplicity, if we imagine `src` as a Python list such as,"
   ]
  },
  {
   "cell_type": "code",
   "execution_count": null,
   "metadata": {},
   "outputs": [],
   "source": [
    "[4, '.', 3, ')']"
   ]
  },
  {
   "cell_type": "markdown",
   "metadata": {},
   "source": [
    "`src.remove_front()` will return `4`, and `src` will be left with,"
   ]
  },
  {
   "cell_type": "code",
   "execution_count": null,
   "metadata": {},
   "outputs": [],
   "source": [
    "['.', 3, ')']"
   ]
  },
  {
   "cell_type": "markdown",
   "metadata": {},
   "source": [
    "**2.**`src.current()`: returns the **first** token in `src` without removing it. For example, if `src` currently contains the tokens,"
   ]
  },
  {
   "cell_type": "code",
   "execution_count": null,
   "metadata": {},
   "outputs": [],
   "source": [
    "[4, '.', 3, ')']"
   ]
  },
  {
   "cell_type": "markdown",
   "metadata": {},
   "source": [
    "then `src.current()` will return `4` but `src` will remain the same."
   ]
  },
  {
   "cell_type": "markdown",
   "metadata": {},
   "source": [
    "## Problem 1"
   ]
  },
  {
   "cell_type": "markdown",
   "metadata": {},
   "source": [
    "#### WWSD - Case 2"
   ]
  },
  {
   "cell_type": "code",
   "execution_count": null,
   "metadata": {},
   "outputs": [],
   "source": [
    ">>> from scheme_reader import *\n",
    ">>> tokens = tokenize_lines([\"(+ 1 \", \"(23 4)) (\"])\n",
    ">>> src = Buffer(tokens)\n",
    ">>> src.current()\n",
    "'('\n",
    ">>> src.remove_front()\n",
    "'('\n",
    ">>> src.current()\n",
    "'+'\n",
    ">>> src.remove_front()\n",
    "'+'\n",
    ">>> src.remove_front()\n",
    "1\n",
    ">>> scheme_read(src)  # Returns and removes the next complete expression in src\n",
    "Pair(23, Pair(4, nil))\n",
    ">>> src.current()\n",
    "')'"
   ]
  },
  {
   "cell_type": "markdown",
   "metadata": {},
   "source": [
    "#### WWSD - Case 3"
   ]
  },
  {
   "cell_type": "code",
   "execution_count": null,
   "metadata": {},
   "outputs": [],
   "source": [
    ">>> from scheme_reader import *\n",
    ">>> scheme_read(Buffer(tokenize_lines(['(18 6)'])))\n",
    "Pair(18, Pair(6, nil))\n",
    ">>> read_line('(18 6)') # Shorter version of above\n",
    "Pair(18, Pair(6, nil))"
   ]
  },
  {
   "cell_type": "markdown",
   "metadata": {},
   "source": [
    "#### WWSD - Case 4"
   ]
  },
  {
   "cell_type": "code",
   "execution_count": null,
   "metadata": {},
   "outputs": [],
   "source": [
    ">>> from scheme_reader import *\n",
    ">>> read_tail(Buffer(tokenize_lines([')'])))\n",
    "nil\n",
    ">>> read_tail(Buffer(tokenize_lines(['1 2 3)'])))\n",
    "Pair(1, Pair(2, Pair(3, nil)))\n",
    ">>> read_tail(Buffer(tokenize_lines(['2 (3 4))'])))\n",
    "Pair(2, Pair(Pair(3, Pair(4, nil)), nil))"
   ]
  },
  {
   "cell_type": "markdown",
   "metadata": {},
   "source": [
    "#### WWSD - Case 7"
   ]
  },
  {
   "cell_type": "code",
   "execution_count": null,
   "metadata": {},
   "outputs": [],
   "source": [
    ">>> from scheme_reader import *\n",
    ">>> read_line(\"(+ (- 2 3) 1)\")\n",
    "# Choose the number of the correct choice:\n",
    "# 0) Pair('+', Pair(Pair('-', Pair(2, Pair(3, nil))), Pair(1, nil)))\n",
    "# 1) Pair('+', Pair('-', Pair(2, Pair(3, Pair(1, nil)))))\n",
    "# 2) Pair('+', Pair('-', Pair(2, Pair(3, nil))), Pair(1, nil))\n",
    "2"
   ]
  },
  {
   "cell_type": "markdown",
   "metadata": {},
   "source": [
    "#### Strategy - `scheme_read`"
   ]
  },
  {
   "cell_type": "markdown",
   "metadata": {},
   "source": [
    "If we look at the `scheme_read` function, it takes the first token and assigns it to `val."
   ]
  },
  {
   "cell_type": "code",
   "execution_count": null,
   "metadata": {},
   "outputs": [],
   "source": [
    "val = src.remove_front()"
   ]
  },
  {
   "cell_type": "markdown",
   "metadata": {},
   "source": [
    "According to the problem description,\n",
    "\n",
    "\"If the current token is the string `'nil'`, return the `nil` object.\"\n",
    "\n",
    "If we observe a few lines above the `scheme_read(src)` function, we'll see the following,"
   ]
  },
  {
   "cell_type": "code",
   "execution_count": null,
   "metadata": {},
   "outputs": [],
   "source": [
    "nil = nil()"
   ]
  },
  {
   "cell_type": "markdown",
   "metadata": {},
   "source": [
    "This means the `nil` variable is bound to the `nil` object! This part is then straightforward."
   ]
  },
  {
   "cell_type": "code",
   "execution_count": null,
   "metadata": {},
   "outputs": [],
   "source": [
    "if val == 'nil':\n",
    "    return nil"
   ]
  },
  {
   "cell_type": "markdown",
   "metadata": {},
   "source": [
    "Then if the current token is `(`, we `return` the result of calling `read_tail` on the rest of `src`. Note that `src` is already changed since when we assign `val` to `src.remove_front()`, Python removes the first token."
   ]
  },
  {
   "cell_type": "code",
   "execution_count": null,
   "metadata": {},
   "outputs": [],
   "source": [
    "elif val == '(':\n",
    "    return read_tail(src)"
   ]
  },
  {
   "cell_type": "markdown",
   "metadata": {},
   "source": [
    "#### Strategy - `read_tail`"
   ]
  },
  {
   "cell_type": "markdown",
   "metadata": {},
   "source": [
    "\"If the token is `)`, then we've reached the end of the list or pair. Remove this token from the buffer and return the `nil` object.\"\n",
    "\n",
    "We can remove the current token from the buffer using the `src.remove_front()` method, then we just return the `nil` object."
   ]
  },
  {
   "cell_type": "code",
   "execution_count": null,
   "metadata": {},
   "outputs": [],
   "source": [
    "elif src.current() == ')':\n",
    "    src.remove_front()\n",
    "    return nil"
   ]
  },
  {
   "cell_type": "markdown",
   "metadata": {},
   "source": [
    "\"If one of the above cases apply, the next token is the operator in a combination, e.g. `src` contains `+ 2 3)`.\n",
    "\n",
    "The problem description might seems complicated, but the implementation is actually straightforward. We just return a `Pair` object where the first element is the result of calling `scheme_read(src)`, and the second element is the result of calling `read_tail(src)`. Note that the `Pair` class definition is present in the first few lines within `scheme_reader.py`."
   ]
  },
  {
   "cell_type": "code",
   "execution_count": null,
   "metadata": {},
   "outputs": [],
   "source": [
    "else:\n",
    "    return Pair(scheme_read(src), read_tail(src))"
   ]
  },
  {
   "cell_type": "markdown",
   "metadata": {},
   "source": [
    "## Problem 2"
   ]
  },
  {
   "cell_type": "markdown",
   "metadata": {},
   "source": [
    "#### WWSD - Case 1"
   ]
  },
  {
   "cell_type": "code",
   "execution_count": null,
   "metadata": {},
   "outputs": [],
   "source": [
    ">>> from scheme_reader import *\n",
    ">>> read_line(\"(a . b)\")\n",
    "# Choose the number of the correct choice:\n",
    "# 0) Pair('a', 'b', nil)\n",
    "# 1) Pair('a', Pair('b', nil))\n",
    "# 2) SyntaxError\n",
    "# 3) Pair('a', 'b')\n",
    "# 4) Pair('a', Pair('b'))\n",
    "3"
   ]
  },
  {
   "cell_type": "code",
   "execution_count": null,
   "metadata": {},
   "outputs": [],
   "source": [
    ">>> from scheme_reader import *\n",
    ">>> read_line(\"(a b . c)\")\n",
    "# Choose the number of the correct choice:\n",
    "# 0) Pair('a', Pair('b', Pair('c')))\n",
    "# 1) Pair('a', Pair('b', 'c'))\n",
    "# 2) Pair('a', 'b', 'c')\n",
    "# 3) SyntaxError\n",
    "# 4) Pair('a', Pair('b', Pair('c', nil)))\n",
    "1"
   ]
  },
  {
   "cell_type": "code",
   "execution_count": null,
   "metadata": {},
   "outputs": [],
   "source": [
    ">>> from scheme_reader import *\n",
    ">>> read_line(\"(a b . c d)\")\n",
    "# Choose the number of the correct choice:\n",
    "# 0) Pair('a', Pair('b', Pair('c', 'd')))\n",
    "# 1) Pair('a', Pair('b', Pair('c', Pair('d', nil))))\n",
    "# 2) SyntaxError\n",
    "# 3) Pair('a', Pair('b', 'c'))\n",
    "2"
   ]
  },
  {
   "cell_type": "code",
   "execution_count": null,
   "metadata": {},
   "outputs": [],
   "source": [
    ">>> from scheme_reader import *\n",
    ">>> read_line(\"(a . (b . (c . ())))\")\n",
    "# Choose the number of the correct choice:\n",
    "# 0) SyntaxError\n",
    "# 1) Pair('a', Pair('b', Pair('c', nil)))\n",
    "# 2) Pair('a', 'b', 'c')\n",
    "# 3) Pair('a', Pair('b', Pair('c', Pair(nil, nil))))\n",
    "1"
   ]
  },
  {
   "cell_type": "code",
   "execution_count": null,
   "metadata": {},
   "outputs": [],
   "source": [
    ">>> from scheme_reader import *\n",
    ">>> read_line(\"(a . ((b . (c))))\")\n",
    "# Choose the number of the correct choice:\n",
    "# 0) Pair('a', Pair('b', Pair('c')), nil)\n",
    "# 1) Pair('a', Pair(Pair('b', Pair('c', nil)), nil), nil)\n",
    "# 2) Pair('a', Pair('b', Pair('c', nil)), nil)\n",
    "# 3) Pair('a', Pair(Pair('b', Pair('c', nil)), nil))\n",
    "3"
   ]
  },
  {
   "cell_type": "markdown",
   "metadata": {},
   "source": [
    "#### Strategy"
   ]
  },
  {
   "cell_type": "markdown",
   "metadata": {},
   "source": [
    "As described by the `hint`, we add support for dotted pairs by simply verifying that only one element follows a dot. This can be done by reading the expression after the `.`,"
   ]
  },
  {
   "cell_type": "code",
   "execution_count": null,
   "metadata": {},
   "outputs": [],
   "source": [
    "src.remove_front()\n",
    "to_be_returned = scheme_read(src)"
   ]
  },
  {
   "cell_type": "markdown",
   "metadata": {},
   "source": [
    "Then check if the next token (after reading the expression) is a `)`. If not, raise a `SyntaxError`. otherwise, return the result of reading the expression."
   ]
  },
  {
   "cell_type": "code",
   "execution_count": null,
   "metadata": {},
   "outputs": [],
   "source": [
    "if not src.remove_front() == ')':\n",
    "    raise SyntaxError\n",
    "else:\n",
    "    return to_be_returned"
   ]
  },
  {
   "cell_type": "code",
   "execution_count": null,
   "metadata": {},
   "outputs": [],
   "source": []
  },
  {
   "cell_type": "code",
   "execution_count": null,
   "metadata": {},
   "outputs": [],
   "source": []
  }
 ],
 "metadata": {
  "kernelspec": {
   "display_name": "Python 3",
   "language": "python",
   "name": "python3"
  },
  "language_info": {
   "codemirror_mode": {
    "name": "ipython",
    "version": 3
   },
   "file_extension": ".py",
   "mimetype": "text/x-python",
   "name": "python",
   "nbconvert_exporter": "python",
   "pygments_lexer": "ipython3",
   "version": "3.7.3"
  }
 },
 "nbformat": 4,
 "nbformat_minor": 2
}
