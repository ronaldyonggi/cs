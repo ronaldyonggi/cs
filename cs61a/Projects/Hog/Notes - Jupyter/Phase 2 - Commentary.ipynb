{
 "cells": [
  {
   "cell_type": "markdown",
   "metadata": {},
   "source": [
    "## Problem 6 (2 pt)"
   ]
  },
  {
   "cell_type": "markdown",
   "metadata": {},
   "source": [
    "#### `python ok -q 06 -u` quiz"
   ]
  },
  {
   "cell_type": "code",
   "execution_count": null,
   "metadata": {},
   "outputs": [],
   "source": [
    ">>> from hog import play, always_roll\n",
    ">>> from dice import make_test_dice\n",
    ">>> #\n",
    ">>> def echo(s0, s1):\n",
    "...     print(s0, s1)\n",
    "...     return echo\n",
    ">>> s0, s1 = play(always_roll(1), always_roll(1), dice=make_test_dice(3), goal=4, say=echo)\n",
    "(line 1)? 3 0\n",
    "(line 2)? 3 3\n",
    "(line 3)? 3 6"
   ]
  },
  {
   "cell_type": "code",
   "execution_count": null,
   "metadata": {},
   "outputs": [],
   "source": [
    ">>> from hog import play, always_roll\n",
    ">>> from dice import make_test_dice\n",
    ">>> #\n",
    ">>> def echo(s0, s1):\n",
    "...     print(s0, s1)\n",
    "...     return echo\n",
    ">>> s0, s1 = play(always_roll(0), always_roll(0), goal=4, say=echo)\n",
    "(line 1)? 2 0\n",
    "(line 2)? 4 2"
   ]
  },
  {
   "cell_type": "code",
   "execution_count": null,
   "metadata": {},
   "outputs": [],
   "source": [
    ">>> from hog import play, always_roll\n",
    ">>> from dice import make_test_dice\n",
    ">>> #\n",
    ">>> # Ensure that say is properly updated within the body of play.\n",
    ">>> def total(s0, s1):\n",
    "...     print(s0 + s1)\n",
    "...     return echo\n",
    ">>> def echo(s0, s1):\n",
    "...     print(s0, s1)\n",
    "...     return total\n",
    ">>> s0, s1 = play(always_roll(1), always_roll(1), dice=make_test_dice(2, 3), goal=5, say=echo)\n",
    "(line 1)? 2 0\n",
    "(line 2)? 5\n",
    "(line 3)? 4 3\n",
    "(line 4)? 10"
   ]
  },
  {
   "cell_type": "code",
   "execution_count": null,
   "metadata": {},
   "outputs": [],
   "source": [
    ">>> from hog import play, always_roll, both, announce_lead_changes, say_scores\n",
    ">>> from dice import make_test_dice\n",
    ">>> #\n",
    ">>> def echo_0(s0, s1):\n",
    "...     print('*', s0)\n",
    "...     return echo_0\n",
    ">>> def echo_1(s0, s1):\n",
    "...     print('**', s1)\n",
    "...     return echo_1\n",
    ">>> s0, s1 = play(always_roll(0), always_roll(0), goal=1, say=both(echo_0, echo_1))"
   ]
  },
  {
   "cell_type": "code",
   "execution_count": null,
   "metadata": {},
   "outputs": [],
   "source": [
    ">>> from hog import play, always_roll, both, announce_lead_changes, say_scores\n",
    ">>> from dice import make_test_dice\n",
    ">>> #\n",
    ">>> def echo_0(s0, s1):\n",
    "...     print('*', s0)\n",
    "...     return echo_0\n",
    ">>> def echo_1(s0, s1):\n",
    "...     print('**', s1)\n",
    "...     return echo_1\n",
    ">>> s0, s1 = play(always_roll(0), always_roll(0), goal=1, say=both(echo_0, echo_1))\n",
    "(line 1)? * 2\n",
    "(line 2)? ** 0"
   ]
  },
  {
   "cell_type": "markdown",
   "metadata": {},
   "source": [
    "#### Implementation of Problem 6"
   ]
  },
  {
   "cell_type": "markdown",
   "metadata": {},
   "source": [
    "\"Update your `play` function so that a commentary function is called at the end of each turn. The return value of calling a commentary function gives you the commentary function to call on the next turn.\"\n",
    "\n",
    "For example, `say(score0, score1)` should be called at the end of the first turn. Its return value (another commentary function) should be called at the end of the second turn. Each consecutive turn, **call the function that was returned by the call to the previous turn's commentary function.**\n",
    "\n",
    "In other words, we simply need to implement the following,"
   ]
  },
  {
   "cell_type": "code",
   "execution_count": null,
   "metadata": {},
   "outputs": [],
   "source": [
    "say = say(score0, score1)\n",
    "\"\"\" \n",
    "The 'say' function prints a commentary remarks then returns another commentary function that takes\n",
    "the same number of arguments as 'say'. This 'other' commentary function also prints a commentary remarks\n",
    "and returns another commentary function. It's a repeated cycle.\n",
    "\"\"\""
   ]
  },
  {
   "cell_type": "markdown",
   "metadata": {},
   "source": [
    "...at the implementation of the `play` function just right before we switch players turn."
   ]
  },
  {
   "cell_type": "code",
   "execution_count": null,
   "metadata": {},
   "outputs": [],
   "source": [
    "say = say(score0, score1)\n",
    "player = other(player)"
   ]
  },
  {
   "cell_type": "markdown",
   "metadata": {},
   "source": [
    "## Problem 7 (2 pt)"
   ]
  },
  {
   "cell_type": "markdown",
   "metadata": {},
   "source": [
    "The `announce_highest` function returns a commentary function that announces whenever a player gains more points in a turn than ever before. To compute the gain, it must compare the score from last turn to the score from this turn for the player of interest, which is designated by the who argument. This function must also keep track of the highest gain for the player so far.\n",
    "\n",
    "The function takes in 3 arguments:\n",
    "1. `who`, which indicates which player\n",
    "2. `previous_high`, the player's previously highest score\n",
    "3. `previous_score`, the player's previous score"
   ]
  },
  {
   "cell_type": "markdown",
   "metadata": {},
   "source": [
    "#### Implementation for Problem 7"
   ]
  },
  {
   "cell_type": "markdown",
   "metadata": {},
   "source": [
    "If we analyze the `announce_lead_changes` function,"
   ]
  },
  {
   "cell_type": "code",
   "execution_count": null,
   "metadata": {},
   "outputs": [],
   "source": [
    "def announce_lead_changes(previous_leader=None):\n",
    "    \"\"\"Return a commentary function that announces lead changes.\n",
    "\n",
    "    >>> f0 = announce_lead_changes()\n",
    "    >>> f1 = f0(5, 0)\n",
    "    Player 0 takes the lead by 5\n",
    "    >>> f2 = f1(5, 12)\n",
    "    Player 1 takes the lead by 7\n",
    "    >>> f3 = f2(8, 12)\n",
    "    >>> f4 = f3(8, 13)\n",
    "    >>> f5 = f4(15, 13)\n",
    "    Player 0 takes the lead by 2\n",
    "    \"\"\"\n",
    "    def say(score0, score1):\n",
    "        if score0 > score1:\n",
    "            leader = 0\n",
    "        elif score1 > score0:\n",
    "            leader = 1\n",
    "        else:\n",
    "            leader = None\n",
    "        if leader != None and leader != previous_leader:\n",
    "            print('Player', leader, 'takes the lead by', abs(score0 - score1))\n",
    "        return announce_lead_changes(leader)\n",
    "    return say"
   ]
  },
  {
   "cell_type": "markdown",
   "metadata": {},
   "source": [
    "We can obtain the following information:\n",
    "\n",
    "1. The function uses a helper function `say` that takes in 2 integers as the argument returns a recursive call of the higher order function\n",
    "    * From the doctest, the first integer argument is `score0`, while the 2nd integer argument is `score1`\n",
    "2. The helper function `say` prints a line if the leading player changes\n",
    "\n",
    "Applying similar idea to `announce_highest` and based on hints from the function's doctest,\n",
    "\n",
    "1. Implement a helper function that takes in 2 arguments: `score0` and `score1`. Let's call this function `say`"
   ]
  },
  {
   "cell_type": "code",
   "execution_count": null,
   "metadata": {},
   "outputs": [],
   "source": [
    "def say(score0, score1):\n",
    "    ... # Code goes here"
   ]
  },
  {
   "cell_type": "markdown",
   "metadata": {},
   "source": [
    "According to the doctest, once we decided which player we want to keep track, the program will only keep track of that player's score."
   ]
  },
  {
   "cell_type": "code",
   "execution_count": null,
   "metadata": {},
   "outputs": [],
   "source": [
    "# Determine whose score we are keeping track of\n",
    "if who == 0: # If who is 0, we are keeping track of Player 0's score\n",
    "    current_score = score0\n",
    "else: # Otherwise, keep track of Player 1's score\n",
    "    current_score = score1"
   ]
  },
  {
   "cell_type": "markdown",
   "metadata": {},
   "source": [
    "Calculate the gain of that player during that turn (name this `current_gain`), and compare it with `previous_high`, the highest gain ever occured by that player."
   ]
  },
  {
   "cell_type": "code",
   "execution_count": null,
   "metadata": {},
   "outputs": [],
   "source": [
    "current_gain = current_score - previous_score\n",
    "if current_gain > previous_high:\n",
    "    ..."
   ]
  },
  {
   "cell_type": "markdown",
   "metadata": {},
   "source": [
    "If the `current_gain` is greater than `previous_high`, then print the announcement. However, a few things to keep in mind for the announcement:\n",
    "\n",
    "1. Singular `\"point\"` and plural `\"points\"` matters.\n",
    "    * If we are announcing a gain for 1 point, use `\"point\"`\n",
    "    * Otherwise, use `\"points\"`\n",
    "\n",
    "2. The announcement takes into account which player we are announcing for.\n",
    "\n",
    "It is convenient to assign part of the announcement boilerplate before comparing gains."
   ]
  },
  {
   "cell_type": "code",
   "execution_count": null,
   "metadata": {},
   "outputs": [],
   "source": [
    "part_announce = \"That's the biggest gain yet for Player \"\n",
    "if current_gain > previous_high:\n",
    "    print(\"{} point{}! {}{}\".format(current_gain, 's' * (1 - (1 // current_gain)), part_announce, who))"
   ]
  },
  {
   "cell_type": "markdown",
   "metadata": {},
   "source": [
    "The `'s' * (1 - (1 // current_gain))` is a tricky method of deciding whether we use \"point\" (singular) or \"points\" (plural).\n",
    "* If the announced gain is 1, then `(1 - (1 // 1))` = `(1 - 1)` = 0\n",
    "    * Thus, the 's' is multipled by 0, resulting in nothing!\n",
    "* Othewise, `(1 - (1 // [number other than 1]))` is 1\n",
    "    * The `'s'` is maintained!"
   ]
  },
  {
   "cell_type": "markdown",
   "metadata": {},
   "source": [
    "At the end, if `current_gain` is greater than `previous_high`, we want to recursively call `announce_highest`:\n",
    "* `who` stays unchanged, since we are still keeping in track of the same player\n",
    "* `previous_high` is now `current_gain`, since the `current_gain` becomes the highest gain the player has gained so far\n",
    "* `previous_score` is now `current_score`, since we'll use this score as a comparison for the next turn\n",
    "\n",
    "Otherwise, if the `current_gain` is not greater than `previous_high`, then we recursively call `announce_highest` using the same `previous_high` argument as before."
   ]
  },
  {
   "cell_type": "code",
   "execution_count": 1,
   "metadata": {},
   "outputs": [
    {
     "ename": "SyntaxError",
     "evalue": "'return' outside function (<ipython-input-1-52fd17a9e4e8>, line 20)",
     "output_type": "error",
     "traceback": [
      "\u001b[0;36m  File \u001b[0;32m\"<ipython-input-1-52fd17a9e4e8>\"\u001b[0;36m, line \u001b[0;32m20\u001b[0m\n\u001b[0;31m    return say\u001b[0m\n\u001b[0m              ^\u001b[0m\n\u001b[0;31mSyntaxError\u001b[0m\u001b[0;31m:\u001b[0m 'return' outside function\n"
     ]
    }
   ],
   "source": [
    "def say(score0, score1):\n",
    "    # Determine whose score we are currently using\n",
    "    if who == 0: \n",
    "        current_score = score0\n",
    "    else: \n",
    "        current_score = score1\n",
    "    \n",
    "    current_gain = current_score - previous_score\n",
    "    part_announce = \"That's the biggest gain yet for Player \" # Placeholder announcement sentence\n",
    "    \n",
    "    if current_gain > previous_high: \n",
    "        # The 's' * (1 - (1 // current_gain)) is a tricky method of deciding whether the gain is 1 or not.\n",
    "        # If the gain is 1, then (1 - (1 // 1)) = (1 - 1) = 0, and thus the 's' is multiplied by 0\n",
    "        # Otherwise, (1 - (1 // [other number])) is 1, and thus the output will include 's'\n",
    "        print(\"{} point{}! {}{}\".format(current_gain, 's' * (1 - (1 // current_gain)), part_announce, who))\n",
    "        return announce_highest(who, current_gain, current_score)\n",
    "    \n",
    "    return announce_highest(who, previous_high, current_score)\n",
    "\n",
    "# The announce_highest function returns the `say` function\n",
    "return say\n",
    "    \n"
   ]
  },
  {
   "cell_type": "markdown",
   "metadata": {},
   "source": [
    "Note that in the end, the `announce_highest` function returns a `say` function!"
   ]
  },
  {
   "cell_type": "code",
   "execution_count": 4,
   "metadata": {},
   "outputs": [
    {
     "data": {
      "text/plain": [
       "1"
      ]
     },
     "execution_count": 4,
     "metadata": {},
     "output_type": "execute_result"
    }
   ],
   "source": [
    "1 // 1"
   ]
  },
  {
   "cell_type": "code",
   "execution_count": null,
   "metadata": {},
   "outputs": [],
   "source": []
  }
 ],
 "metadata": {
  "file_extension": ".py",
  "kernelspec": {
   "display_name": "Python 3",
   "language": "python",
   "name": "python3"
  },
  "language_info": {
   "codemirror_mode": {
    "name": "ipython",
    "version": 3
   },
   "file_extension": ".py",
   "mimetype": "text/x-python",
   "name": "python",
   "nbconvert_exporter": "python",
   "pygments_lexer": "ipython3",
   "version": "3.7.3"
  },
  "mimetype": "text/x-python",
  "name": "python",
  "npconvert_exporter": "python",
  "pygments_lexer": "ipython3",
  "version": 3
 },
 "nbformat": 4,
 "nbformat_minor": 4
}
