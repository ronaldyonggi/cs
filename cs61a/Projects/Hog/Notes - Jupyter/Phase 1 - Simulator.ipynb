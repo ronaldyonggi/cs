{
 "cells": [
  {
   "cell_type": "markdown",
   "metadata": {},
   "source": [
    "# Phase 1 : Simulator"
   ]
  },
  {
   "cell_type": "markdown",
   "metadata": {},
   "source": [
    "## Problem 0 (0 pt)"
   ]
  },
  {
   "cell_type": "markdown",
   "metadata": {},
   "source": [
    "#### `python ok -q 00 -u` quiz"
   ]
  },
  {
   "cell_type": "code",
   "execution_count": null,
   "metadata": {},
   "outputs": [],
   "source": [
    ">>> from hog import *\n",
    ">>> test_dice = make_test_dice(4, 1, 2)\n",
    ">>> test_dice()\n",
    "4\n",
    ">>> test_dice() # Second call\n",
    "1\n",
    ">>> test_dice() # Third call\n",
    "2\n",
    ">>> test_dice() # Fourth call\n",
    "4"
   ]
  },
  {
   "cell_type": "markdown",
   "metadata": {},
   "source": [
    "Q: Which of the following is the correct way to \"roll\" a fair, six-sided die?\n",
    "Choose the number of the correct choice:\n",
    "0. `six_sided()`\n",
    "1. `make_fair_dice(6)`\n",
    "2. `make_test_dice(6)`\n",
    "3. `six_sided`\n",
    "\n",
    "#### Ans: `0`"
   ]
  },
  {
   "cell_type": "markdown",
   "metadata": {},
   "source": [
    "## Problem 1 (2 pt)"
   ]
  },
  {
   "cell_type": "markdown",
   "metadata": {},
   "source": [
    "#### `python ok -q 01 -u` quiz"
   ]
  },
  {
   "cell_type": "code",
   "execution_count": null,
   "metadata": {},
   "outputs": [],
   "source": [
    ">>> from hog import *\n",
    ">>> roll_dice(2, make_test_dice(4, 6, 1))\n",
    "10"
   ]
  },
  {
   "cell_type": "code",
   "execution_count": null,
   "metadata": {},
   "outputs": [],
   "source": [
    ">>> from hog import *\n",
    ">>> roll_dice(3, make_test_dice(4, 6, 1))\n",
    "1"
   ]
  },
  {
   "cell_type": "code",
   "execution_count": null,
   "metadata": {},
   "outputs": [],
   "source": [
    ">>> from hog import *\n",
    ">>> roll_dice(4, make_test_dice(2, 2, 3))\n",
    "9"
   ]
  },
  {
   "cell_type": "code",
   "execution_count": null,
   "metadata": {},
   "outputs": [],
   "source": [
    ">>> from hog import *\n",
    ">>> roll_dice(4, make_test_dice(1, 2, 3))\n",
    "1"
   ]
  },
  {
   "cell_type": "code",
   "execution_count": null,
   "metadata": {},
   "outputs": [],
   "source": [
    ">>> from hog import *\n",
    ">>> counted_dice = make_test_dice(4, 1, 2, 6)\n",
    ">>> roll_dice(3, counted_dice)\n",
    "1\n",
    ">>> roll_dice(1, counted_dice)  # Make sure you call dice exactly num_rolls times!\n",
    "6"
   ]
  },
  {
   "cell_type": "code",
   "execution_count": null,
   "metadata": {},
   "outputs": [],
   "source": [
    ">>> from hog import *\n",
    ">>> roll_dice(9, make_test_dice(6))\n",
    "54"
   ]
  },
  {
   "cell_type": "code",
   "execution_count": null,
   "metadata": {},
   "outputs": [],
   "source": [
    ">>> roll_dice(7, make_test_dice(2, 2, 2, 2, 2, 2, 1))\n",
    "1"
   ]
  },
  {
   "cell_type": "markdown",
   "metadata": {},
   "source": [
    "#### Implementation for Problem 1"
   ]
  },
  {
   "cell_type": "markdown",
   "metadata": {},
   "source": [
    "The `roll_dice` function takes 2 arguments:\n",
    "1. `num_rolls`: the number of dice rolls that will be made\n",
    "2. `dice`: A function that simulates a single dice roll outcome\n",
    "\n",
    "Looking at the `make_test_dice` in `dice.py` file, we can see the following doctests:"
   ]
  },
  {
   "cell_type": "code",
   "execution_count": null,
   "metadata": {},
   "outputs": [],
   "source": [
    ">>> dice = make_test_dice(1, 2, 3)\n",
    ">>> dice()\n",
    "1\n",
    ">>> dice()\n",
    "2\n",
    ">>> dice()\n",
    "3\n",
    ">>> dice()\n",
    "1"
   ]
  },
  {
   "cell_type": "markdown",
   "metadata": {},
   "source": [
    "From the doctest above, we know that we can obtain a current roll outcome by simply calling `dice()`.\n",
    "\n",
    "In the implementation, we need a variable to keep track of the total score that is going to be returned in a turn (let's call this `total`). We can use the `while` loop that keeps running as long as `num_rolls` is greater than 0, and within the loop:\n",
    "1. Call the `dice()` function\n",
    "2. Add the outcome of step 1 to `total`\n",
    "3. Decrement the `num_rolls` by 1."
   ]
  },
  {
   "cell_type": "code",
   "execution_count": null,
   "metadata": {},
   "outputs": [],
   "source": [
    "total = 0\n",
    "while num_rolls > 0:\n",
    "    current_outcome = dice()\n",
    "    total += current_outcome\n",
    "    num_rolls -= 1\n",
    "\n",
    "return total"
   ]
  },
  {
   "cell_type": "markdown",
   "metadata": {},
   "source": [
    "However, the implementation above doesn't take into account the `Pig Out` situation. We need to consider the case that if any of the current roll is `1`, then the `total` that we return in the end will be 1.\n",
    "\n",
    "One way of doing this is to use an indicator of whether any of the outcome that we have obtained so far is `1`. If the indicator is `True`, then at the end of the implementation we change the total to `1`."
   ]
  },
  {
   "cell_type": "code",
   "execution_count": null,
   "metadata": {},
   "outputs": [],
   "source": [
    "total = 0\n",
    "is_there_one = False # An indicator for whether any of the dice outcome is 1\n",
    "while num_rolls > 0:\n",
    "    current_outcome = dice()\n",
    "    if current_outcome == 1: # If any of the current roll outcome is 1, then \n",
    "        is_there_one = True # the indicator becomes True\n",
    "    total += current_outcome # Increment total with the outcome of current roll\n",
    "    num_rolls -= 1\n",
    "\n",
    "if is_there_one: # If the indicator is True, then at the end we change 'total' to 1\n",
    "    total = 1\n",
    "return total"
   ]
  },
  {
   "cell_type": "markdown",
   "metadata": {},
   "source": [
    "## Problem 2 (1pt)"
   ]
  },
  {
   "cell_type": "markdown",
   "metadata": {},
   "source": [
    "#### `python ok -q 02 -u` quiz"
   ]
  },
  {
   "cell_type": "code",
   "execution_count": null,
   "metadata": {},
   "outputs": [],
   "source": [
    ">>> from hog import *\n",
    ">>> free_bacon(35)\n",
    "4"
   ]
  },
  {
   "cell_type": "code",
   "execution_count": null,
   "metadata": {},
   "outputs": [],
   "source": [
    ">>> from hog import *\n",
    ">>> free_bacon(71)\n",
    "8"
   ]
  },
  {
   "cell_type": "code",
   "execution_count": null,
   "metadata": {},
   "outputs": [],
   "source": [
    ">>> from hog import *\n",
    ">>> free_bacon(7)\n",
    "9"
   ]
  },
  {
   "cell_type": "code",
   "execution_count": null,
   "metadata": {},
   "outputs": [],
   "source": [
    ">>> from hog import *\n",
    ">>> free_bacon(0)\n",
    "2"
   ]
  },
  {
   "cell_type": "markdown",
   "metadata": {},
   "source": [
    "### Implementation for Problem 2"
   ]
  },
  {
   "cell_type": "markdown",
   "metadata": {},
   "source": [
    "The `free_bacon` function takes a `score` as an argument, and returns the result of obtaining `Free Bacon`. The calculation for `Free Bacon` is as the following:\n",
    "\n",
    "$$ 2 + | \\text{2nd digit of score} - \\text{1st digit of score}|$$\n",
    "\n",
    "To obtain the 2nd digit of a number, we can use the floor division `//` operator with `10`."
   ]
  },
  {
   "cell_type": "code",
   "execution_count": 2,
   "metadata": {},
   "outputs": [
    {
     "data": {
      "text/plain": [
       "2"
      ]
     },
     "execution_count": 2,
     "metadata": {},
     "output_type": "execute_result"
    }
   ],
   "source": [
    "23 // 10"
   ]
  },
  {
   "cell_type": "code",
   "execution_count": 6,
   "metadata": {},
   "outputs": [
    {
     "data": {
      "text/plain": [
       "0"
      ]
     },
     "execution_count": 6,
     "metadata": {},
     "output_type": "execute_result"
    }
   ],
   "source": [
    "7 // 10"
   ]
  },
  {
   "cell_type": "markdown",
   "metadata": {},
   "source": [
    "While to obtain the 1st digit of a number, we can use the modulo `%` operator with `10`."
   ]
  },
  {
   "cell_type": "code",
   "execution_count": 4,
   "metadata": {},
   "outputs": [
    {
     "data": {
      "text/plain": [
       "3"
      ]
     },
     "execution_count": 4,
     "metadata": {},
     "output_type": "execute_result"
    }
   ],
   "source": [
    "23 % 10"
   ]
  },
  {
   "cell_type": "code",
   "execution_count": 5,
   "metadata": {},
   "outputs": [
    {
     "data": {
      "text/plain": [
       "7"
      ]
     },
     "execution_count": 5,
     "metadata": {},
     "output_type": "execute_result"
    }
   ],
   "source": [
    "7 % 10"
   ]
  },
  {
   "cell_type": "markdown",
   "metadata": {},
   "source": [
    "Thus, the implementation is as the following,"
   ]
  },
  {
   "cell_type": "code",
   "execution_count": null,
   "metadata": {},
   "outputs": [],
   "source": [
    "return 2 + abs(score // 10 - score % 10)"
   ]
  },
  {
   "cell_type": "markdown",
   "metadata": {},
   "source": [
    "## Problem 3 (1pt)"
   ]
  },
  {
   "cell_type": "markdown",
   "metadata": {},
   "source": [
    "#### `python3 ok -q 03 -u` quiz"
   ]
  },
  {
   "cell_type": "code",
   "execution_count": null,
   "metadata": {},
   "outputs": [],
   "source": [
    ">>> from hog import *\n",
    ">>> take_turn(2, 0, make_test_dice(4, 6, 1))\n",
    "10"
   ]
  },
  {
   "cell_type": "code",
   "execution_count": null,
   "metadata": {},
   "outputs": [],
   "source": [
    ">>> from hog import *\n",
    ">>> take_turn(3, 0, make_test_dice(4, 6, 1))\n",
    "1"
   ]
  },
  {
   "cell_type": "code",
   "execution_count": null,
   "metadata": {},
   "outputs": [],
   "source": [
    ">>> from hog import *\n",
    ">>> take_turn(0, 35)\n",
    "4"
   ]
  },
  {
   "cell_type": "code",
   "execution_count": 7,
   "metadata": {},
   "outputs": [
    {
     "ename": "ModuleNotFoundError",
     "evalue": "No module named 'hog'",
     "output_type": "error",
     "traceback": [
      "\u001b[0;31m---------------------------------------------------------------------------\u001b[0m",
      "\u001b[0;31mModuleNotFoundError\u001b[0m                       Traceback (most recent call last)",
      "\u001b[0;32m<ipython-input-7-714713701a0f>\u001b[0m in \u001b[0;36m<module>\u001b[0;34m\u001b[0m\n\u001b[0;32m----> 1\u001b[0;31m \u001b[0;32mfrom\u001b[0m \u001b[0mhog\u001b[0m \u001b[0;32mimport\u001b[0m \u001b[0;34m*\u001b[0m\u001b[0;34m\u001b[0m\u001b[0;34m\u001b[0m\u001b[0m\n\u001b[0m\u001b[1;32m      2\u001b[0m \u001b[0mtake_turn\u001b[0m\u001b[0;34m(\u001b[0m\u001b[0;36m0\u001b[0m\u001b[0;34m,\u001b[0m \u001b[0;36m71\u001b[0m\u001b[0;34m)\u001b[0m\u001b[0;34m\u001b[0m\u001b[0;34m\u001b[0m\u001b[0m\n\u001b[1;32m      3\u001b[0m \u001b[0;36m8\u001b[0m\u001b[0;34m\u001b[0m\u001b[0;34m\u001b[0m\u001b[0m\n",
      "\u001b[0;31mModuleNotFoundError\u001b[0m: No module named 'hog'"
     ]
    }
   ],
   "source": [
    ">>> from hog import *\n",
    ">>> take_turn(0, 71)\n",
    "8"
   ]
  },
  {
   "cell_type": "code",
   "execution_count": null,
   "metadata": {},
   "outputs": [],
   "source": [
    ">>> from hog import *\n",
    ">>> take_turn(0, 7)\n",
    "9"
   ]
  },
  {
   "cell_type": "code",
   "execution_count": null,
   "metadata": {},
   "outputs": [],
   "source": [
    ">>> from hog import *\n",
    ">>> take_turn(0, 0)\n",
    "2"
   ]
  },
  {
   "cell_type": "markdown",
   "metadata": {},
   "source": [
    "## Implementation for Problem 3"
   ]
  },
  {
   "cell_type": "markdown",
   "metadata": {},
   "source": [
    "The `take_turn` function simply simulates one turn of rolling dice and returns the score outcome of the player that's taking the turn. The function takes 3 arguments:\n",
    "1. `num_rolls`: The number of dice rolls\n",
    "2. `opponent_score`: Opposing player's current score\n",
    "3. `dice`: A function that simulates a single dice roll outcome.\n",
    "\n",
    "With what we have so far, the score outcome of a player can be obtained by either:\n",
    "1. Normal `roll_dice`, or\n",
    "2. `free_bacon`"
   ]
  },
  {
   "cell_type": "code",
   "execution_count": 1,
   "metadata": {},
   "outputs": [
    {
     "ename": "SyntaxError",
     "evalue": "unexpected EOF while parsing (<ipython-input-1-de29316f78b0>, line 1)",
     "output_type": "error",
     "traceback": [
      "\u001b[0;36m  File \u001b[0;32m\"<ipython-input-1-de29316f78b0>\"\u001b[0;36m, line \u001b[0;32m1\u001b[0m\n\u001b[0;31m    if num_rolls == 0:\u001b[0m\n\u001b[0m                      ^\u001b[0m\n\u001b[0;31mSyntaxError\u001b[0m\u001b[0;31m:\u001b[0m unexpected EOF while parsing\n"
     ]
    }
   ],
   "source": [
    "if num_rolls == 0:\n",
    "    return free_bacon(opponent_score)\n",
    "else:\n",
    "    return roll_dice(num_rolls, dice)"
   ]
  },
  {
   "cell_type": "markdown",
   "metadata": {},
   "source": [
    "## Problem 4 (1 pt)"
   ]
  },
  {
   "cell_type": "markdown",
   "metadata": {},
   "source": [
    "#### `python ok -q 04 -u` quiz"
   ]
  },
  {
   "cell_type": "code",
   "execution_count": null,
   "metadata": {},
   "outputs": [],
   "source": [
    ">>> from hog import *\n",
    ">>> is_swap(19, 91)\n",
    "False"
   ]
  },
  {
   "cell_type": "code",
   "execution_count": null,
   "metadata": {},
   "outputs": [],
   "source": [
    ">>> from hog import *\n",
    ">>> is_swap(20, 40)\n",
    "True"
   ]
  },
  {
   "cell_type": "code",
   "execution_count": null,
   "metadata": {},
   "outputs": [],
   "source": [
    ">>> from hog import *\n",
    ">>> is_swap(40, 20)\n",
    "True"
   ]
  },
  {
   "cell_type": "code",
   "execution_count": null,
   "metadata": {},
   "outputs": [],
   "source": [
    ">>> from hog import *\n",
    ">>> is_swap(41, 14)\n",
    "False"
   ]
  },
  {
   "cell_type": "code",
   "execution_count": null,
   "metadata": {},
   "outputs": [],
   "source": [
    ">>> from hog import *\n",
    ">>> is_swap(13, 32)\n",
    "False"
   ]
  },
  {
   "cell_type": "code",
   "execution_count": null,
   "metadata": {},
   "outputs": [],
   "source": [
    ">>> from hog import *\n",
    ">>> is_swap(1, 0)\n",
    "False"
   ]
  },
  {
   "cell_type": "code",
   "execution_count": null,
   "metadata": {},
   "outputs": [],
   "source": [
    ">>> from hog import *\n",
    ">>> is_swap(0, 1)\n",
    "False"
   ]
  },
  {
   "cell_type": "code",
   "execution_count": null,
   "metadata": {},
   "outputs": [],
   "source": [
    ">>> from hog import *\n",
    ">>> is_swap(3, 0)\n",
    "False"
   ]
  },
  {
   "cell_type": "code",
   "execution_count": null,
   "metadata": {},
   "outputs": [],
   "source": [
    ">>> from hog import *\n",
    ">>> is_swap(0, 3)\n",
    "False"
   ]
  },
  {
   "cell_type": "code",
   "execution_count": null,
   "metadata": {},
   "outputs": [],
   "source": [
    ">>> from hog import *\n",
    ">>> is_swap(10, 1)\n",
    "False"
   ]
  },
  {
   "cell_type": "code",
   "execution_count": null,
   "metadata": {},
   "outputs": [],
   "source": [
    ">>> from hog import *\n",
    ">>> is_swap(10, 1)\n",
    "False"
   ]
  },
  {
   "cell_type": "code",
   "execution_count": null,
   "metadata": {},
   "outputs": [],
   "source": [
    ">>> from hog import *\n",
    ">>> is_swap(34, 17)\n",
    "True"
   ]
  },
  {
   "cell_type": "code",
   "execution_count": null,
   "metadata": {},
   "outputs": [],
   "source": [
    ">>> from hog import *\n",
    ">>> is_swap(15, 30)\n",
    "True"
   ]
  },
  {
   "cell_type": "code",
   "execution_count": null,
   "metadata": {},
   "outputs": [],
   "source": [
    ">>> from hog import *\n",
    ">>> is_swap(1, 30)\n",
    "False"
   ]
  },
  {
   "cell_type": "markdown",
   "metadata": {},
   "source": [
    "#### Implementation for Problem 4"
   ]
  },
  {
   "cell_type": "markdown",
   "metadata": {},
   "source": [
    "In order for the `Swine Swap` to occur, both players' score have to be greater than 1, AND the greater score has to be divisible by the lesser score"
   ]
  },
  {
   "cell_type": "code",
   "execution_count": null,
   "metadata": {},
   "outputs": [],
   "source": [
    "if score0 > 1 and score1 > 1:\n",
    "    return score0 % score1 == 0 or score1 % score0 == 0\n",
    "return False"
   ]
  },
  {
   "cell_type": "markdown",
   "metadata": {},
   "source": [
    "## Problem 5 (2 pt)"
   ]
  },
  {
   "cell_type": "markdown",
   "metadata": {},
   "source": [
    "#### `python ok -q 05 -u` quiz"
   ]
  },
  {
   "cell_type": "markdown",
   "metadata": {},
   "source": [
    "Q: The variables score0 and score1 are the scores for Player 0\n",
    "and Player 1, respectively. Under what conditions should the\n",
    "game continue?\n",
    "Choose the number of the correct choice:\n",
    "\n",
    "0. While at least one of score0 or score1 is less than goal\n",
    "1. While score0 is less than goal\n",
    "2. While score0 and score1 are both less than goal\n",
    "3. While score1 is less than goal\n",
    "\n",
    "**Ans**: 2"
   ]
  },
  {
   "cell_type": "markdown",
   "metadata": {},
   "source": [
    "Q: What is a strategy in the context of this game?\n",
    "Choose the number of the correct choice:\n",
    "\n",
    "0. A function that returns the number of dice a player will roll\n",
    "1. A player's desired turn outcome\n",
    "2. The number of dice a player will roll\n",
    "\n",
    "**Ans**: 0"
   ]
  },
  {
   "cell_type": "markdown",
   "metadata": {},
   "source": [
    "Q: If `strategy1` is Player 1's strategy function, `score0` is Player 0's current score, and `score1` is Player 1's current score, then which of the following demonstrates correct usage of `strategy1`?\n",
    "Choose the number of the correct choice:\n",
    "0. `strategy1(score1)`\n",
    "1. `strategy1(score0)`\n",
    "2. `strategy1(score1, score0)`\n",
    "3. `strategy1(score0, score1)`\n",
    "\n",
    "**Ans**: 2"
   ]
  },
  {
   "cell_type": "code",
   "execution_count": null,
   "metadata": {},
   "outputs": [],
   "source": [
    ">>> import hog\n",
    ">>> always_three = hog.make_test_dice(3)\n",
    ">>> always = hog.always_roll\n",
    ">>> #\n",
    ">>> # Play function stops at goal\n",
    ">>> s0, s1 = hog.play(always(5), always(3), score0=91, score1=10, dice=always_three)\n",
    ">>> s0\n",
    "106\n",
    ">>> s1\n",
    "10"
   ]
  },
  {
   "cell_type": "code",
   "execution_count": null,
   "metadata": {},
   "outputs": [],
   "source": [
    ">>> import hog\n",
    ">>> always_three = hog.make_test_dice(3)\n",
    ">>> always = hog.always_roll\n",
    ">>> #\n",
    ">>> # Goal score is not hardwired\n",
    ">>> s0, s1 = hog.play(always(5), always(5), goal=10, dice=always_three)\n",
    ">>> s0\n",
    "15\n",
    ">>> s1\n",
    "0"
   ]
  },
  {
   "cell_type": "code",
   "execution_count": null,
   "metadata": {},
   "outputs": [],
   "source": [
    ">>> import hog\n",
    ">>> always_three = hog.make_test_dice(3)\n",
    ">>> #\n",
    ">>> # Use strategies\n",
    ">>> # We recommend working this out turn-by-turn on a piece of paper.\n",
    ">>> strat0 = lambda score, opponent: opponent % 10\n",
    ">>> strat1 = lambda score, opponent: score // 10\n",
    ">>> s0, s1 = hog.play(strat0, strat1, score0=41, score1=80, dice=always_three)\n",
    ">>> s0 #free bacon!\n",
    "51\n",
    ">>> s1\n",
    "104"
   ]
  },
  {
   "cell_type": "markdown",
   "metadata": {},
   "source": [
    "#### Implementation of Problem 5"
   ]
  },
  {
   "cell_type": "markdown",
   "metadata": {},
   "source": [
    "Pseudocode:\n",
    "\n",
    "* While both players' score are below goal:\n",
    "    * For a particular player's turn, increment that player's score by the amount returned from calling take_turn\n",
    "    * Check for `is_swap` condition. If it's fulfilled, swap both players' score\n",
    "    * Switch player turn\n",
    "* Outside the `while` loop, return both players' scores"
   ]
  },
  {
   "cell_type": "code",
   "execution_count": null,
   "metadata": {},
   "outputs": [],
   "source": [
    "player = 0 # Initially starts with player 0\n",
    "while score0 < goal and score1 < goal: # While both players's score are below goal\n",
    "    if player == 0: # If it's player 0's turn\n",
    "        score0 += take_turn(strategy0(score0, score1), score1, dice) # Increment player 0's score by the result of take_turn\n",
    "    else: # If it's player 1's turn\n",
    "        score1 += take_turn(strategy1(score1, score0), score0, dice) # Increment player 1's score by the result of take_turn\n",
    "    if is_swap(score0, score1): # If is_swap condition is fulfilled\n",
    "        score0, score1 = score1, score0 # swap both players' score\n",
    "    player = other(player) # Switch player turn\n",
    "    \n",
    "return score0, score1 # Return both players' scores"
   ]
  }
 ],
 "metadata": {
  "kernelspec": {
   "display_name": "Python 3",
   "language": "python",
   "name": "python3"
  },
  "language_info": {
   "codemirror_mode": {
    "name": "ipython",
    "version": 3
   },
   "file_extension": ".py",
   "mimetype": "text/x-python",
   "name": "python",
   "nbconvert_exporter": "python",
   "pygments_lexer": "ipython3",
   "version": "3.7.3"
  }
 },
 "nbformat": 4,
 "nbformat_minor": 4
}
