{
 "cells": [
  {
   "cell_type": "markdown",
   "metadata": {},
   "source": [
    "# Phase 3 - Supervised Learning"
   ]
  },
  {
   "cell_type": "markdown",
   "metadata": {},
   "source": [
    "## Problem 7"
   ]
  },
  {
   "cell_type": "markdown",
   "metadata": {},
   "source": [
    "### `python ok -q 07 -u` quiz"
   ]
  },
  {
   "cell_type": "markdown",
   "metadata": {},
   "source": [
    "Q: What does a `predictor` function returned by `find_predictor` do?\n",
    "Choose the number of the correct choice:\n",
    "\n",
    "0. takes in a restaurant and returns the predicted location of\n",
    "   that restaurant\n",
    "1. takes in a restaurant and returns the predicted rating for that\n",
    "   restaurant\n",
    "2. returns the `r_squared` value\n",
    "\n",
    "**Ans**: 1"
   ]
  },
  {
   "cell_type": "markdown",
   "metadata": {},
   "source": [
    "Q: What does the list `xs` represent?\n",
    "Choose the number of the correct choice:\n",
    "\n",
    "0. the extracted feature value for each restaurant in restaurants\n",
    "1. the restaurants reviewed by user\n",
    "2. the names of restaurants in restaurants\n",
    "3. the restaurants in restaurants\n",
    "\n",
    "**Ans**: 0"
   ]
  },
  {
   "cell_type": "markdown",
   "metadata": {},
   "source": [
    "Q: What does the list `ys` represent?\n",
    "Choose the number of the correct choice:\n",
    "\n",
    "0. the average rating for the restaurants in restaurants\n",
    "1. user's ratings for the restaurants in restaurants\n",
    "2. the names for the restaurants in restaurants\n",
    "3. the names for the restaurants reviewed by user\n",
    "\n",
    "**Ans**: 1"
   ]
  },
  {
   "cell_type": "markdown",
   "metadata": {},
   "source": [
    "### Implementation of Problem 7"
   ]
  },
  {
   "cell_type": "markdown",
   "metadata": {},
   "source": [
    "We start by calculating the components of linear regression: sums of squares, regression coefficients (`a` and `b`) and $R^2$."
   ]
  },
  {
   "cell_type": "code",
   "execution_count": null,
   "metadata": {},
   "outputs": [],
   "source": [
    "Sxx = sum([(xi - mean(xs))**2 for xi in xs])\n",
    "Syy = sum([(yi - mean(ys))**2 for yi in ys])\n",
    "Sxy = sum([(xi - mean(xs)) * (yi - mean(ys)) for xi, yi in zip(xs, ys)])\n",
    "\n",
    "b = Sxy / Sxx\n",
    "a = mean(ys) - (b * mean(xs))\n",
    "r_squared = (Sxy**2) / (Sxx * Syy)"
   ]
  },
  {
   "cell_type": "markdown",
   "metadata": {},
   "source": [
    "The tricky part is returning the `predictor` function. The `predictor` function is akin to a line $y = a + bx$. A few things to take note:\n",
    "\n",
    "1. The `predictor` function takes in a `restaurant`\n",
    "    * But if we see `xs`, each `x` corresponds to the result of calling `feature_fn(restaurant)`\n",
    "2. The `ys` is the rating given by the user. However, we want to create a rating prediction."
   ]
  },
  {
   "cell_type": "code",
   "execution_count": null,
   "metadata": {},
   "outputs": [],
   "source": [
    "def predictor(restaurant):\n",
    "    return b * feature_fn(restaurant) + a"
   ]
  },
  {
   "cell_type": "markdown",
   "metadata": {},
   "source": [
    "And thus, we return both the `predictor` function and the `r_squared`"
   ]
  },
  {
   "cell_type": "code",
   "execution_count": null,
   "metadata": {},
   "outputs": [],
   "source": [
    "return predictor, r_squared"
   ]
  },
  {
   "cell_type": "markdown",
   "metadata": {},
   "source": [
    "## Problem 8"
   ]
  },
  {
   "cell_type": "markdown",
   "metadata": {},
   "source": [
    "### `python ok -q 08 -u` quiz"
   ]
  },
  {
   "cell_type": "markdown",
   "metadata": {},
   "source": [
    "Q: In `best_predictor`, what does the variable `reviewed` represent?\n",
    "Choose the number of the correct choice:\n",
    "\n",
    "0. a list of ratings for restaurants reviewed by the user\n",
    "1. a list of restaurants reviewed by the user\n",
    "2. a list of all possible restaurants\n",
    "\n",
    "**Ans**: 1"
   ]
  },
  {
   "cell_type": "markdown",
   "metadata": {},
   "source": [
    "Q: Given a `user`, a list of `restaurants`, and a feature function, what does `find_predictor` from Problem 7 return?\n",
    "Choose the number of the correct choice:\n",
    "\n",
    "0. a restaurant\n",
    "1. a `predictor` function and its `r_squared` value\n",
    "2. a `predictor` function\n",
    "3. an `r_squared` value\n",
    "\n",
    "**Ans**: 1"
   ]
  },
  {
   "cell_type": "markdown",
   "metadata": {},
   "source": [
    "Q: After computing a list of `[predictor, r_squared]` pairs,\n",
    "which predictor should we select?\n",
    "Choose the number of the correct choice:\n",
    "\n",
    "0. an arbitrary `predictor`\n",
    "1. the `predictor` with the lowest `r_squared` value\n",
    "2. the `predictor` with the highest `r_squared` value\n",
    "3. the first `predictor` in the list\n",
    "\n",
    "**Ans**: 2"
   ]
  },
  {
   "cell_type": "markdown",
   "metadata": {},
   "source": [
    "### Implementation of Problem 8"
   ]
  },
  {
   "cell_type": "markdown",
   "metadata": {},
   "source": [
    "Notice in the problem description:\n",
    "\n",
    "\"It computes a predictor fuction **for each feature function**...\"\n",
    "\n",
    "With multiple `feature_fn` in `feature_fns`, we want to create a `predictor` function for each `feature_fn`."
   ]
  },
  {
   "cell_type": "code",
   "execution_count": null,
   "metadata": {},
   "outputs": [],
   "source": [
    "predictors_and_rsquared = [find_predictor(user, reviewed, feature_fn) for feature_fn in feature_fns]"
   ]
  },
  {
   "cell_type": "markdown",
   "metadata": {},
   "source": [
    "Now recall that in the previous problem, the `find_predictor` function returns 2 things: a `predictor` and its `r_squared` value. A function that returns 2 things returns the return values in form of tuple."
   ]
  },
  {
   "cell_type": "code",
   "execution_count": 11,
   "metadata": {},
   "outputs": [
    {
     "data": {
      "text/plain": [
       "function"
      ]
     },
     "execution_count": 11,
     "metadata": {},
     "output_type": "execute_result"
    }
   ],
   "source": [
    "def lol():\n",
    "    return 1, 2\n",
    "a = lol()\n",
    "type(lol)"
   ]
  },
  {
   "cell_type": "code",
   "execution_count": 13,
   "metadata": {},
   "outputs": [
    {
     "data": {
      "text/plain": [
       "1"
      ]
     },
     "execution_count": 13,
     "metadata": {},
     "output_type": "execute_result"
    }
   ],
   "source": [
    "a[0] # We can access the elements in the tuple via indexing!"
   ]
  },
  {
   "cell_type": "code",
   "execution_count": 14,
   "metadata": {},
   "outputs": [
    {
     "data": {
      "text/plain": [
       "2"
      ]
     },
     "execution_count": 14,
     "metadata": {},
     "output_type": "execute_result"
    }
   ],
   "source": [
    "a[1]"
   ]
  },
  {
   "cell_type": "markdown",
   "metadata": {},
   "source": [
    "The `predictors_and_rsquared` will contain multiple tuples containing predictor and `r_squared`."
   ]
  },
  {
   "cell_type": "code",
   "execution_count": null,
   "metadata": {},
   "outputs": [],
   "source": [
    "predictor_and_rsquared = [(pred_fn, 0.85), (pred_fn, 0.99), ...] # This is just a depiction, not a real data"
   ]
  },
  {
   "cell_type": "markdown",
   "metadata": {},
   "source": [
    "Since we want to return the predictor that has the greatest `r_squared`, use the `max` function with `key` of choosing the element of index `[1]` for each tuple. \n",
    "* Keep in mind that we will have to select index `[0]` once we obtain the result of `max` since we want the predictor, not the `r_squared` value."
   ]
  },
  {
   "cell_type": "code",
   "execution_count": null,
   "metadata": {},
   "outputs": [],
   "source": [
    "return max(predictors_and_rsquared, key = lambda x: x[1])[0]"
   ]
  },
  {
   "cell_type": "markdown",
   "metadata": {},
   "source": [
    "## Problem 9"
   ]
  },
  {
   "cell_type": "markdown",
   "metadata": {},
   "source": [
    "### `python ok -q 09 -u` quiz"
   ]
  },
  {
   "cell_type": "markdown",
   "metadata": {},
   "source": [
    "Q: `rate_all` returns a dictionary. What are the keys of this dictionary?\n",
    "Choose the number of the correct choice:\n",
    "\n",
    "0. restaurants\n",
    "1. restaurant ratings\n",
    "2. restaurant names\n",
    "\n",
    "**Ans**: 2"
   ]
  },
  {
   "cell_type": "markdown",
   "metadata": {},
   "source": [
    "Q: What are the values of the returned dictionary?\n",
    "Choose the number of the correct choice:\n",
    "\n",
    "0. lists - list of all restaurant ratings\n",
    "1. numbers - a mix of user ratings and predicted ratings\n",
    "2. numbers - mean restaurant ratings\n",
    "3. numbers - predicted ratings only\n",
    "4. numbers - user ratings only\n",
    "\n",
    "**Ans**: 1"
   ]
  },
  {
   "cell_type": "markdown",
   "metadata": {},
   "source": [
    "Q: In `rate_all`, what does the variable `reviewed` represent?\n",
    "Choose the number of the correct choice:\n",
    "\n",
    "0. a list of all possible restaurants\n",
    "1. a list of restaurants reviewed by the user\n",
    "2. a list of ratings for restaurants reviewed by the user\n",
    "\n",
    "**Ans**: 1"
   ]
  },
  {
   "cell_type": "markdown",
   "metadata": {},
   "source": [
    "### Implementation of Problem 9"
   ]
  },
  {
   "cell_type": "markdown",
   "metadata": {},
   "source": [
    "The return result is a dictionary, so we'll have to create an empty dictionary first."
   ]
  },
  {
   "cell_type": "code",
   "execution_count": null,
   "metadata": {},
   "outputs": [],
   "source": [
    "result = {}"
   ]
  },
  {
   "cell_type": "markdown",
   "metadata": {},
   "source": [
    "Then iterate through the restaurants. For each restaurant:\n",
    "\n",
    "1. If the restaurant is present in `reviewed`, then use the `user_rating` function as the rating\n",
    "2. Otherwise, use the `predictor` function."
   ]
  },
  {
   "cell_type": "code",
   "execution_count": null,
   "metadata": {},
   "outputs": [],
   "source": [
    "for r in restaurants:\n",
    "    if r in reviewed:\n",
    "        result[restaurant_name(r)] = user_rating(user, restaurant_name(r))\n",
    "    else:\n",
    "        result[restaurant_name(r)] = predictor(r)\n",
    "\n",
    "return result"
   ]
  },
  {
   "cell_type": "markdown",
   "metadata": {},
   "source": [
    "## Problem 10"
   ]
  },
  {
   "cell_type": "markdown",
   "metadata": {},
   "source": [
    "### `python ok -q 10 -u` quiz"
   ]
  },
  {
   "cell_type": "markdown",
   "metadata": {},
   "source": [
    "Q: Given a `restaurant`, what does `restaurant_categories` in `abstractions.py` return?\n",
    "Choose the number of the correct choice:\n",
    "\n",
    "0. a single string (category)\n",
    "1. a list of numbers (ratings)\n",
    "2. a list of strings (categories)\n",
    "3. a single number (rating)\n",
    "\n",
    "**Ans**: 2"
   ]
  },
  {
   "cell_type": "markdown",
   "metadata": {},
   "source": [
    "Q: When does a restaurant match a search query?\n",
    "Choose the number of the correct choice:\n",
    "\n",
    "0. if the query string is one of the restaurant's categories\n",
    "1. if the query string is mentioned in the restaurant's reviews\n",
    "2. if the query string is equal to the restaurant's categories\n",
    "3. if the query string is a substring of the restaurant's name\n",
    "\n",
    "**Ans**: 0"
   ]
  },
  {
   "cell_type": "markdown",
   "metadata": {},
   "source": [
    "Q: What type of object does `search` return?\n",
    "Choose the number of the correct choice:\n",
    "\n",
    "0. a dictionary that maps restaurant categories (strings) to restaurants\n",
    "1. a list of restaurant names (strings)\n",
    "2. a dictionary that maps restaurant names (strings) to restaurants\n",
    "3. a list of restaurants\n",
    "\n",
    "**Ans**: 3"
   ]
  },
  {
   "cell_type": "markdown",
   "metadata": {},
   "source": [
    "Simpy iterate through each restaurant in `restaurants` and include it if the string `query` is found within the restaurant categories."
   ]
  },
  {
   "cell_type": "code",
   "execution_count": null,
   "metadata": {},
   "outputs": [],
   "source": [
    "return [r for r in restaurants if query in restaurant_categories(r)]"
   ]
  }
 ],
 "metadata": {
  "kernelspec": {
   "display_name": "Python 3",
   "language": "python",
   "name": "python3"
  },
  "language_info": {
   "codemirror_mode": {
    "name": "ipython",
    "version": 3
   },
   "file_extension": ".py",
   "mimetype": "text/x-python",
   "name": "python",
   "nbconvert_exporter": "python",
   "pygments_lexer": "ipython3",
   "version": "3.7.3"
  }
 },
 "nbformat": 4,
 "nbformat_minor": 4
}
