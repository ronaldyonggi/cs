{
 "cells": [
  {
   "cell_type": "markdown",
   "metadata": {},
   "source": [
    "# Phase 1: Data Abstraction\n",
    "All changes in this phase are made to `abstractions.py` file"
   ]
  },
  {
   "cell_type": "markdown",
   "metadata": {},
   "source": [
    "## Problem 2\n",
    "Complete the implementations of the constructor and selectors for the restaurant data abstraction in `abstractions.py`. You can use any implementation you choose, but the constructor and selectors must be defined together such that the restaurant selectors return the correct field from the constructed restaurant.\n",
    "\n",
    "1. `make_restaurant`: return a restaurant constructed from 5 arguments\n",
    "    * `name`: a string\n",
    "    * `location`: a list containing latitude and longitude\n",
    "    * `categories`: a list of strings\n",
    "    * `price`: a number\n",
    "    * `reviews`: a list of review data abstractions created by `make_review`\n",
    "    \n",
    "2. `restaurant_name`: return the name of a `restaurant`\n",
    "3. `restaurant_location`: return the location of a `restaurant`\n",
    "4. `restaurant_categoriees`: return the categories of a `restaurant`\n",
    "5. `restaurant_price`: return the price of a `restaurant`\n",
    "6. `restaurant_ratings`: return a list of ratings (numbers)"
   ]
  },
  {
   "cell_type": "markdown",
   "metadata": {},
   "source": [
    "### `python ok -q 02 -u` quiz"
   ]
  },
  {
   "cell_type": "code",
   "execution_count": null,
   "metadata": {},
   "outputs": [],
   "source": [
    ">>> from abstractions import *\n",
    ">>> import abstractions\n",
    ">>> soda_reviews = [make_review('Soda', 4.5),\n",
    "...                 make_review('Soda', 4)]\n",
    ">>> soda = make_restaurant('Soda', [127.0, 0.1],\n",
    "...                        ['Restaurants', 'Breakfast & Brunch'],\n",
    "...                        1, soda_reviews)\n",
    ">>> restaurant_name(soda)\n",
    "'Soda'\n",
    ">>> restaurant_location(soda)\n",
    "[127.0, 0.1]\n",
    ">>> restaurant_categories(soda)\n",
    "['Restaurants', 'Breakfast & Brunch']\n",
    ">>> restaurant_price(soda)\n",
    "1\n",
    ">>> restaurant_ratings(soda)\n",
    "[4.5, 4]"
   ]
  },
  {
   "cell_type": "markdown",
   "metadata": {},
   "source": [
    "### Implementation for Problem 2"
   ]
  },
  {
   "cell_type": "markdown",
   "metadata": {},
   "source": [
    "There are many ways to implement the data abstraction. I chose dictionary since it is easier to access data and identify by their \"name\". For example, if I want to return the name of the restaurant, I can call it with the following,"
   ]
  },
  {
   "cell_type": "code",
   "execution_count": null,
   "metadata": {},
   "outputs": [],
   "source": [
    "dictionary['name']"
   ]
  },
  {
   "cell_type": "markdown",
   "metadata": {},
   "source": [
    "The constructor for a restaurant and most of the selectors are straightforward."
   ]
  },
  {
   "cell_type": "code",
   "execution_count": null,
   "metadata": {},
   "outputs": [],
   "source": [
    "# RESTAURANT CONSTRUCTOR\n",
    "def make_restaurant(name, location, categories, price, reviews):\n",
    "    return {'name':name, 'location':location, 'categories':categories, 'price':price, 'reviews':reviews}\n",
    "\n",
    "# RESTAURANT NAME SELECTOR\n",
    "def restaurant_name(restaurant):\n",
    "    return restaurant['name']\n",
    "\n",
    "# RESTAURANT LOCATION SELECTOR\n",
    "def restaurant_location(restaurant):\n",
    "    return restaurant['location']\n",
    "\n",
    "# RESTAURANT CATEGORIES SELECTOR\n",
    "def restaurant_categories(restaurant):\n",
    "    return restaurant['categories']\n",
    "\n",
    "# RESTAURANT PRICE SELECTOR\n",
    "def restaurant_price(restaurant):\n",
    "    return restaurant['price']"
   ]
  },
  {
   "cell_type": "markdown",
   "metadata": {},
   "source": [
    "However for `restaurant_rating`, it's not quite obvious. If we observe the doctest,"
   ]
  },
  {
   "cell_type": "code",
   "execution_count": null,
   "metadata": {},
   "outputs": [],
   "source": [
    ">>> soda_reviews = [make_review('Soda', 4.5),\n",
    "...                 make_review('Soda', 4)]"
   ]
  },
  {
   "cell_type": "markdown",
   "metadata": {},
   "source": [
    "...the reviews are constructed via `make_review` constructor, which is defined in the `Reviews` section in the beginning of `abstractions.py`."
   ]
  },
  {
   "cell_type": "code",
   "execution_count": null,
   "metadata": {},
   "outputs": [],
   "source": [
    "# Reviews\n",
    "\n",
    "def make_review(restaurant_name, rating):\n",
    "    \"\"\"Return a review data abstraction.\"\"\"\n",
    "    return [restaurant_name, rating]\n",
    "\n",
    "def review_restaurant_name(review):\n",
    "    \"\"\"Return the restaurant name of the review, which is a string.\"\"\"\n",
    "    return review[0]\n",
    "\n",
    "def review_rating(review):\n",
    "    \"\"\"Return the number of stars given by the review, which is a\n",
    "    floating point number between 1 and 5.\"\"\"\n",
    "    return review[1]"
   ]
  },
  {
   "cell_type": "markdown",
   "metadata": {},
   "source": [
    "From the section above, we can deduce that:\n",
    "\n",
    "1. A restaurant review is a list consisting `restaurant_name` and `rating`\n",
    "2. The `rating` of a review can be accessed via `review_rating` selector\n",
    "\n",
    "One implementation that works nicely (only one line) is a list comprehension containing the result of calling `review_rating` on each review.."
   ]
  },
  {
   "cell_type": "code",
   "execution_count": null,
   "metadata": {},
   "outputs": [],
   "source": [
    "# RESTAURANT RATINGS SELECTOR\n",
    "def restaurant_ratings(restaurant):\n",
    "    return [review_rating(review) for review in restaurant['reviews']]"
   ]
  }
 ],
 "metadata": {
  "kernelspec": {
   "display_name": "Python 3",
   "language": "python",
   "name": "python3"
  },
  "language_info": {
   "codemirror_mode": {
    "name": "ipython",
    "version": 3
   },
   "file_extension": ".py",
   "mimetype": "text/x-python",
   "name": "python",
   "nbconvert_exporter": "python",
   "pygments_lexer": "ipython3",
   "version": "3.7.3"
  }
 },
 "nbformat": 4,
 "nbformat_minor": 4
}
