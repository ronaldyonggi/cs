{
 "cells": [
  {
   "cell_type": "markdown",
   "metadata": {},
   "source": [
    "# Phase 0 : Utilities\n",
    "All changes in this phase will be made to `utils.py`"
   ]
  },
  {
   "cell_type": "markdown",
   "metadata": {},
   "source": [
    "## Problem 0 (2 pt)"
   ]
  },
  {
   "cell_type": "markdown",
   "metadata": {},
   "source": [
    "### Problem 0.1 - Using List Comprehensions\n",
    "In `utils.py`, implement `map_and_filter`. This function takes in:\n",
    "* A sequence `s`\n",
    "* A one-argument function `map_fn`\n",
    "* A one-argument function `fiter_fn`\n",
    "\n",
    "...and returns a new list containing the result of calling `map_fn` on each element of `s` for which `filter_fn` returns a true value. Make sure the solution is only one line and uses a list comprehension!"
   ]
  },
  {
   "cell_type": "markdown",
   "metadata": {},
   "source": [
    "#### Implementation for Problem 0.1"
   ]
  },
  {
   "cell_type": "markdown",
   "metadata": {},
   "source": [
    "A list comprehension has the following syntax:"
   ]
  },
  {
   "cell_type": "code",
   "execution_count": null,
   "metadata": {},
   "outputs": [],
   "source": [
    "[<map expression> for <name> in <sequence expression> if <filter expression>]"
   ]
  },
  {
   "cell_type": "markdown",
   "metadata": {},
   "source": [
    "Following the syntax above, a one-line implementation can be written:"
   ]
  },
  {
   "cell_type": "code",
   "execution_count": null,
   "metadata": {},
   "outputs": [],
   "source": [
    "def map_and_filters(s, map_fn, filter_fn):\n",
    "    return [map_fn(x) for x in s if filter_fn(x)]"
   ]
  },
  {
   "cell_type": "markdown",
   "metadata": {},
   "source": [
    "### Problem 0.2 - Using `min`"
   ]
  },
  {
   "cell_type": "markdown",
   "metadata": {},
   "source": [
    "The built-in `min` function takes a sequence (e.g. list or dictionary) and returns the sequence's smallest element. It can also take an argument `key`, which is a one-argument function. The `key` function is applied to each element of the list, and `min` returns the smallest return value of the result of calling `key` on each element. For example,"
   ]
  },
  {
   "cell_type": "code",
   "execution_count": 1,
   "metadata": {},
   "outputs": [
    {
     "data": {
      "text/plain": [
       "-1"
      ]
     },
     "execution_count": 1,
     "metadata": {},
     "output_type": "execute_result"
    }
   ],
   "source": [
    "min([-1, 0, 1]) # Regular min function, should return -1 since it's the smallest value"
   ]
  },
  {
   "cell_type": "code",
   "execution_count": 2,
   "metadata": {},
   "outputs": [
    {
     "data": {
      "text/plain": [
       "0"
      ]
     },
     "execution_count": 2,
     "metadata": {},
     "output_type": "execute_result"
    }
   ],
   "source": [
    "min([-1, 0, 1], key = lambda x: x * x) # It should return 0 since 0 * 0 = 0 is the smallest result"
   ]
  },
  {
   "cell_type": "markdown",
   "metadata": {},
   "source": [
    "In `utils.py`, implement `key_of_min_value`, which takes in a dictionary `d` and returns the key that corresponds to the minimum value in `d`."
   ]
  },
  {
   "cell_type": "markdown",
   "metadata": {},
   "source": [
    "### Implementation for Problem 0.2"
   ]
  },
  {
   "cell_type": "markdown",
   "metadata": {},
   "source": [
    "There are 2 approaches for this problem:"
   ]
  },
  {
   "cell_type": "markdown",
   "metadata": {},
   "source": [
    "#### Approach 1: Indexing"
   ]
  },
  {
   "cell_type": "markdown",
   "metadata": {},
   "source": [
    "The value of a key in dictionary can be obtained by calling that key in square bracket. For example,"
   ]
  },
  {
   "cell_type": "code",
   "execution_count": 8,
   "metadata": {},
   "outputs": [
    {
     "data": {
      "text/plain": [
       "6"
      ]
     },
     "execution_count": 8,
     "metadata": {},
     "output_type": "execute_result"
    }
   ],
   "source": [
    "letters = {'a': 6, 'b': 5, 'c': 4, 'd': 5}\n",
    "letters['a']"
   ]
  },
  {
   "cell_type": "markdown",
   "metadata": {},
   "source": [
    "Therefore, we can use `key` function that a lambda function that returns the `value` of a key-value pair."
   ]
  },
  {
   "cell_type": "code",
   "execution_count": null,
   "metadata": {},
   "outputs": [],
   "source": [
    "def key_of_min_value(d):\n",
    "    return min(d, key = lambda x: d[x])"
   ]
  },
  {
   "cell_type": "markdown",
   "metadata": {},
   "source": [
    "#### Approach 2: `.get`"
   ]
  },
  {
   "cell_type": "markdown",
   "metadata": {},
   "source": [
    "The built-in `.get` method returns the value of a key-value pair in a dictionary."
   ]
  },
  {
   "cell_type": "code",
   "execution_count": 10,
   "metadata": {},
   "outputs": [
    {
     "data": {
      "text/plain": [
       "6"
      ]
     },
     "execution_count": 10,
     "metadata": {},
     "output_type": "execute_result"
    }
   ],
   "source": [
    "letters.get('a')"
   ]
  },
  {
   "cell_type": "code",
   "execution_count": null,
   "metadata": {},
   "outputs": [],
   "source": [
    "def key_of_min_value(d):\n",
    "    return min(d, key = d.get)"
   ]
  },
  {
   "cell_type": "markdown",
   "metadata": {},
   "source": [
    "### Problem 0.3 - Using `zip`"
   ]
  },
  {
   "cell_type": "markdown",
   "metadata": {},
   "source": [
    "The `zip` functiond efined in `utils.py` takes multiple sequences as arguments and returns a list, where the `ith` list contains the `ith` element of each argument list. For example,"
   ]
  },
  {
   "cell_type": "code",
   "execution_count": 14,
   "metadata": {},
   "outputs": [
    {
     "name": "stdout",
     "output_type": "stream",
     "text": [
      "(1, 4)\n",
      "(2, 5)\n",
      "(3, 6)\n"
     ]
    }
   ],
   "source": [
    "for i in zip([1, 2, 3], [4, 5, 6]):\n",
    "    print(i)"
   ]
  },
  {
   "cell_type": "code",
   "execution_count": 15,
   "metadata": {},
   "outputs": [
    {
     "name": "stdout",
     "output_type": "stream",
     "text": [
      "('a', 1, 'do')\n",
      "('b', 2, 're')\n",
      "('c', 3, 'mi')\n"
     ]
    }
   ],
   "source": [
    "for triple in zip(['a', 'b', 'c'], [1, 2, 3], ['do', 're', 'mi']):\n",
    "    print(triple)"
   ]
  },
  {
   "cell_type": "markdown",
   "metadata": {},
   "source": [
    "In `utils.py`, use the `zip` function to implement `enumerate`, which takes:\n",
    "* A sequence `s`\n",
    "* A starting index `start`\n",
    "\n",
    "...and returns a list of pairs, in which the `ith` element is `i+start` paired with the `ith` element of `s`. Make sure the solution is only one line and uses `zip` and `range`."
   ]
  },
  {
   "cell_type": "markdown",
   "metadata": {},
   "source": [
    "## `python3 ok -q 00 -u` quiz"
   ]
  },
  {
   "cell_type": "code",
   "execution_count": null,
   "metadata": {},
   "outputs": [],
   "source": [
    ">>> from utils import *\n",
    ">>> square = lambda x: x * x\n",
    ">>> is_odd = lambda x: x % 2 == 1\n",
    ">>> map_and_filter([1, 2, 3, 4, 5], square, is_odd)\n",
    "[1, 9, 25]"
   ]
  },
  {
   "cell_type": "code",
   "execution_count": null,
   "metadata": {},
   "outputs": [],
   "source": [
    ">>> map_and_filter(['hi', 'hello', 'hey', 'world'],\n",
    "...                lambda x: x[4], lambda x: len(x) > 4)\n",
    "['o', 'd']"
   ]
  },
  {
   "cell_type": "code",
   "execution_count": null,
   "metadata": {},
   "outputs": [],
   "source": [
    ">>> from utils import *\n",
    ">>> min([-2, -1, 0, 1, 2], key=lambda x: x*x)\n",
    "0"
   ]
  },
  {
   "cell_type": "code",
   "execution_count": null,
   "metadata": {},
   "outputs": [],
   "source": [
    ">>> min([[0, 3], [1, 2], [2, 1]], key=lambda x: x[1])\n",
    "[2, 1]"
   ]
  },
  {
   "cell_type": "code",
   "execution_count": null,
   "metadata": {},
   "outputs": [],
   "source": [
    ">>> from utils import *\n",
    ">>> key_of_min_value({1: 6, 2: 5, 3: 4})\n",
    "3"
   ]
  },
  {
   "cell_type": "code",
   "execution_count": null,
   "metadata": {},
   "outputs": [],
   "source": [
    ">>> key_of_min_value({'a': 6, 'b': 5, 'c': 4})\n",
    "'c'\n",
    ">>> key_of_min_value({'hello': 'world', 'hi': 'there'})\n",
    "'hi'"
   ]
  },
  {
   "cell_type": "code",
   "execution_count": null,
   "metadata": {},
   "outputs": [],
   "source": [
    ">>> from utils import *\n",
    ">>> enumerate([6, 'one', 'a'], 3)[1]\n",
    "[4, 'one']"
   ]
  },
  {
   "cell_type": "markdown",
   "metadata": {},
   "source": [
    "Q: Consider the lists xs = [6, 1, 4] and ys = [2, 6, 2]. Which\n",
    "of the choices below for EXPR would produce the following\n",
    "output?"
   ]
  },
  {
   "cell_type": "code",
   "execution_count": null,
   "metadata": {},
   "outputs": [],
   "source": [
    ">>> for x, y in EXPR:\n",
    "...     print(x + y)\n",
    "8\n",
    "7\n",
    "6"
   ]
  },
  {
   "cell_type": "markdown",
   "metadata": {},
   "source": [
    "Choose the number of the correct choice:\n",
    "\n",
    "0. `(xs, ys)`\n",
    "1. `zip(xs, ys)`\n",
    "2. `zip([xs, ys])`\n",
    "3. `xs + ys`\n",
    "\n",
    "#### Answer: `1`"
   ]
  },
  {
   "cell_type": "markdown",
   "metadata": {},
   "source": [
    "### Implementation for Problem 0.3"
   ]
  },
  {
   "cell_type": "markdown",
   "metadata": {},
   "source": [
    "Looking at the `enumerate` doctest,"
   ]
  },
  {
   "cell_type": "code",
   "execution_count": null,
   "metadata": {},
   "outputs": [],
   "source": [
    ">>> enumerate([6, 1, 'a'])\n",
    "[[0, 6], [1, 1], [2, 'a']]\n",
    ">>> enumerate('five', 5)\n",
    "[[5, 'f'], [6, 'i'], [7, 'v'], [8, 'e']]"
   ]
  },
  {
   "cell_type": "markdown",
   "metadata": {},
   "source": [
    "We are applying `zip` to match 2 lists where:\n",
    "* The first list is a collection of integers starting from `start`\n",
    "* The second list is the list `s`.\n",
    "\n",
    "We can create a list of integers starting from `start` using `range`. The end of `range` would be the number of elements in `s`, or the length of `s`."
   ]
  },
  {
   "cell_type": "code",
   "execution_count": null,
   "metadata": {},
   "outputs": [],
   "source": [
    "range(start, start + len(s))"
   ]
  },
  {
   "cell_type": "markdown",
   "metadata": {},
   "source": [
    "Therefore, the implementation is as the following,"
   ]
  },
  {
   "cell_type": "code",
   "execution_count": null,
   "metadata": {},
   "outputs": [],
   "source": [
    "def enumerate(s, start = 0):\n",
    "    return zip(range(start, start + len(s)), s)"
   ]
  },
  {
   "cell_type": "markdown",
   "metadata": {},
   "source": [
    "## Problem 1\n",
    "Implement the `mean` function which takes in a sequence of numbers `s` and returns the arithmetic mean of that sequence. The sequence can't be empty!"
   ]
  },
  {
   "cell_type": "markdown",
   "metadata": {},
   "source": [
    "## `python3 ok -q 01 -u` quiz"
   ]
  },
  {
   "cell_type": "code",
   "execution_count": null,
   "metadata": {},
   "outputs": [],
   "source": [
    ">>> from utils import mean\n",
    ">>> # Remember that the mean should return a decimal value\n",
    ">>> # If any line causes an error, write AssertionError\n",
    ">>> mean([0])\n",
    "0.0"
   ]
  },
  {
   "cell_type": "code",
   "execution_count": null,
   "metadata": {},
   "outputs": [],
   "source": [
    ">>> mean([1, 2, 3, 4, 5])\n",
    "3.0"
   ]
  },
  {
   "cell_type": "code",
   "execution_count": null,
   "metadata": {},
   "outputs": [],
   "source": [
    ">>> mean([3, 1, -2, 7])\n",
    "2.25"
   ]
  },
  {
   "cell_type": "code",
   "execution_count": null,
   "metadata": {},
   "outputs": [],
   "source": [
    ">>> mean([1] * 100000) # The 100000 doesn't count. It's simply 1 / 1\n",
    "1.0"
   ]
  },
  {
   "cell_type": "code",
   "execution_count": null,
   "metadata": {},
   "outputs": [],
   "source": [
    ">>> mean([2, 4, 6, 8] * 1000000) # The 100000 doesn't count. It's simply (2 + 4 + 6 + 8) / 4as\n",
    "5.0"
   ]
  },
  {
   "cell_type": "code",
   "execution_count": null,
   "metadata": {},
   "outputs": [],
   "source": [
    ">>> mean([])\n",
    "AssertionError"
   ]
  },
  {
   "cell_type": "markdown",
   "metadata": {},
   "source": [
    "### Implementation for Problem 1"
   ]
  },
  {
   "cell_type": "markdown",
   "metadata": {},
   "source": [
    "Simply divide the `sum` of the sequence `s` and divide it by its length."
   ]
  },
  {
   "cell_type": "code",
   "execution_count": null,
   "metadata": {},
   "outputs": [],
   "source": [
    "def mean(s):\n",
    "    assert len(s) > 0, 'Empty sequence is not allowed' # Ensures s is not empty\n",
    "    return sum(s) / len(s) # Divides the sum of s by the length of s"
   ]
  }
 ],
 "metadata": {
  "file_extension": ".py",
  "kernelspec": {
   "display_name": "Python 3",
   "language": "python",
   "name": "python3"
  },
  "language_info": {
   "codemirror_mode": {
    "name": "ipython",
    "version": 3
   },
   "file_extension": ".py",
   "mimetype": "text/x-python",
   "name": "python",
   "nbconvert_exporter": "python",
   "pygments_lexer": "ipython3",
   "version": "3.7.3"
  },
  "mimetype": "text/x-python",
  "name": "python",
  "npconvert_exporter": "python",
  "pygments_lexer": "ipython3",
  "version": 3
 },
 "nbformat": 4,
 "nbformat_minor": 4
}
