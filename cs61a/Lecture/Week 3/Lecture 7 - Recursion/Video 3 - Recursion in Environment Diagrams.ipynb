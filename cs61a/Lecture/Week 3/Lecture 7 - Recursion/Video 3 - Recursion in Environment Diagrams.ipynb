{
 "cells": [
  {
   "cell_type": "code",
   "execution_count": 1,
   "metadata": {},
   "outputs": [],
   "source": [
    "%load_ext tutormagic"
   ]
  },
  {
   "cell_type": "markdown",
   "metadata": {},
   "source": [
    "# Recursion in Environment Diagrams\n",
    "Environment diagrams are useful for undestanding recursion. We are going to analyze the environment diagram of the factorial function `fact`, which computes the factorial of `n`. "
   ]
  },
  {
   "cell_type": "code",
   "execution_count": 9,
   "metadata": {},
   "outputs": [
    {
     "data": {
      "text/html": [
       "\n",
       "        <iframe\n",
       "            width=\"100%\"\n",
       "            height=\"350\"\n",
       "            src=\"http://pythontutor.com/iframe-embed.html#code=%0Adef%20fact%28n%29%3A%0A%20%20%20%20if%20n%20%3D%3D%200%3A%0A%20%20%20%20%20%20%20%20return%201%0A%20%20%20%20else%3A%0A%20%20%20%20%20%20%20%20return%20n%20%2A%20fact%28n-1%29%0A%20%20%20%20%0Afact%283%29%0A&origin=opt-frontend.js&cumulative=false&heapPrimitives=false&textReferences=false&curInstr=0&&verticalStack=false&py=3&rawInputLstJSON=%5B%5D&codeDivWidth=50%25&codeDivHeight=100%25\"\n",
       "            frameborder=\"0\"\n",
       "            allowfullscreen\n",
       "        ></iframe>\n",
       "        "
      ],
      "text/plain": [
       "<IPython.lib.display.IFrame at 0x5bff4b0>"
      ]
     },
     "metadata": {},
     "output_type": "display_data"
    }
   ],
   "source": [
    "%%tutor --lang python3\n",
    "\n",
    "def fact(n):\n",
    "    if n == 0:\n",
    "        return 1\n",
    "    else:\n",
    "        return n * fact(n-1)\n",
    "    \n",
    "fact(3)"
   ]
  },
  {
   "cell_type": "markdown",
   "metadata": {},
   "source": [
    "If `n` is `0`, then just return `1`. This is just part of the definition of factorial, that `0!` is `1`. \n",
    "\n",
    "The recursive call in the case above is `fact(n-1)`. In the following steps, Python does the following:\n",
    "\n",
    "2. Binds the function `fact(n)` to the name `fact`\n",
    "3. Calls `fact` function on `3`\n",
    "    * Python creates a new frame `f1` where the formal parameter `n` is bound to `3`. \n",
    "    \n",
    "4. Checks if `n`, which is currently `3` is `0`.\n",
    "5. `n` is not `0`, so execution line goes to `return n * fact(n-1)`\n",
    "6. Executes `fact(n-1)`\n",
    "    * Python creates a new frame `f2` where `n` is `n-1 = 3-1 = 2`\n",
    "\n",
    "7. Checks if `n`, which is currently `2`, is `0`\n",
    "8. `n` is not `0`, so the execution once again goes to the line `return n * fact(n-1)`\n",
    "9. Executes `fact(n-1)` once again\n",
    "    * Python creates a new frame `f3`, in which `n` is `2-1 = 1`\n",
    "    \n",
    "10. Checks if `n`, which is currently `1` is `0`\n",
    "11. `n` is not `0`, so execution line goes to `return n * fact(n-1)`\n",
    "12. Executes `fact(n-1)`\n",
    "    * Python creates a new frame `f4` where `n` is `n-1 = 1-1 = 0`\n",
    "    \n",
    "13. Checks if `n`, which is currently `0` is `0`\n",
    "14. `n` is `0`, so Python executes `return 1`\n",
    "15. Has the return value, `1`\n",
    "16. Goes back to frame `f3` with the return value so far = `1 * 1 = 1`\n",
    "17. Goes back to frame `f2` with the return value so far = `2 * 1 = 2`\n",
    "18. Goes back to frame `f1` with the return value so far  = `3 * 2 = 6`\n"
   ]
  },
  {
   "cell_type": "markdown",
   "metadata": {},
   "source": [
    "Some important points:\n",
    "1. The same function `fact` is called multiple times\n",
    "2. Different frames (`f1`, `f2`, `f3`, `f4`) keeps track of the different arguments (`2`, `1`, `0`) in each call\n",
    "3. What `n` evaluates to depends upon which is the current environment\n",
    "\n",
    "<img src = 'n.jpg' width = 200/>\n",
    "\n",
    "These different `n` each corresponds to different `fact` function call.\n",
    "\n",
    "4. Each call to `fact` solves a simpler problem than the last: smaller `n`\n",
    "    * `n` keeps decreasing. Once `n` is `0`, we have a very simple computation: return `1`.\n",
    "    \n",
    "<img src = 'return.jpg' width = 200/>"
   ]
  },
  {
   "cell_type": "markdown",
   "metadata": {},
   "source": [
    "## Iteration vs. Recursion\n",
    "Iteration is a special case of recursion. \n",
    "\n",
    "Let's say we want to write the code for the following iteration:\n",
    "$$ 4! = 4 \\times 3 \\times 2 \\times 1 = 24$$\n",
    "\n",
    "### Code\n",
    "\n",
    "Using `while`, the code would look like the following,"
   ]
  },
  {
   "cell_type": "code",
   "execution_count": 10,
   "metadata": {},
   "outputs": [],
   "source": [
    "def fact_iter(n):\n",
    "    total, k = 1, 1\n",
    "    while k <= n:\n",
    "        total, k = total * k, k + 1\n",
    "    return total"
   ]
  },
  {
   "cell_type": "markdown",
   "metadata": {},
   "source": [
    "Above, the computation is done opposite to the iteration! The multiplication goes in increasing order from `1` to `n`. \n",
    "\n",
    "Meanwhile, using `recursion`:"
   ]
  },
  {
   "cell_type": "code",
   "execution_count": 11,
   "metadata": {},
   "outputs": [],
   "source": [
    "def fact(n):\n",
    "    if n == 0:\n",
    "        return 1\n",
    "    else:\n",
    "        return n * fact(n-1)"
   ]
  },
  {
   "cell_type": "markdown",
   "metadata": {},
   "source": [
    "As we can see in the `recursion` version, the code looks cleaner, and the logic is simpler to understand compared to the `iteration` version.\n",
    "\n",
    "### Math\n",
    "\n",
    "The **mathematical** formula that corresponds to each of these implementation is slightly different. \n",
    "\n",
    "For the `iteration` version, the formula is as the following,\n",
    "\n",
    "$$\n",
    "n! = \\prod_{k=1}^{n} k \n",
    "$$\n",
    "\n",
    "Interpetation: starting from `k = 1`, goes up to `n`, multiply `k` each time, that's how we obtain `n!`\n",
    "\n",
    "For `recursive` version, \n",
    "\n",
    "\n",
    "$$\n",
    "    n!= \n",
    "\\begin{cases}\n",
    "    1                    & \\text{if } n = 0\\\\\n",
    "    n \\times (n-1)!      & \\text{otherwise}\n",
    "\\end{cases}\n",
    "$$\n",
    "\n",
    "### Names\n",
    "\n",
    "By looking at the names involved in the code, we can see that there's extra complexity involved in the `iterative` version.\n",
    "\n",
    "`Iterative` version:\n",
    "1. `n`\n",
    "2. `total`\n",
    "3. `k`\n",
    "4. `fact_iter`\n",
    "\n",
    "`Recursive` version:\n",
    "1. `n`\n",
    "2. `fact`"
   ]
  }
 ],
 "metadata": {
  "kernelspec": {
   "display_name": "Python 3",
   "language": "python",
   "name": "python3"
  },
  "language_info": {
   "codemirror_mode": {
    "name": "ipython",
    "version": 3
   },
   "file_extension": ".py",
   "mimetype": "text/x-python",
   "name": "python",
   "nbconvert_exporter": "python",
   "pygments_lexer": "ipython3",
   "version": "3.6.8"
  }
 },
 "nbformat": 4,
 "nbformat_minor": 2
}
