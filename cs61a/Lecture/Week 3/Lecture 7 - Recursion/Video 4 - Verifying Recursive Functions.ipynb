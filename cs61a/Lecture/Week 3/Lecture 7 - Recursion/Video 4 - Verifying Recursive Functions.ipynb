{
 "cells": [
  {
   "cell_type": "code",
   "execution_count": 1,
   "metadata": {},
   "outputs": [],
   "source": [
    "%load_ext tutormagic"
   ]
  },
  {
   "cell_type": "markdown",
   "metadata": {},
   "source": [
    "# Verifying Recursive Functions \n",
    "Here we'll study about verifying the correctness of a recursive function."
   ]
  },
  {
   "cell_type": "markdown",
   "metadata": {},
   "source": [
    "## The Recursive Leap of Faith\n",
    "Writing a recursive function feels like taking a leap of faith. Below we have, once again, the `fact` function,"
   ]
  },
  {
   "cell_type": "code",
   "execution_count": 12,
   "metadata": {},
   "outputs": [],
   "source": [
    "def fact(n):\n",
    "    if n == 0:\n",
    "        return 1\n",
    "    else:\n",
    "        return n * fact(n-1)"
   ]
  },
  {
   "cell_type": "markdown",
   "metadata": {},
   "source": [
    "It's easy to recognize the base case, that is when `n` = `0`, we just return `1`. \n",
    "\n",
    "However, how do we know that in any other case, this implementation will work? \n",
    "\n",
    "We can analyze, \"Is `fact` implemented correctly?\", by using the following steps:\n",
    "1. Verify the base case\n",
    "    * If `n` is `0`, then we ensure that the implementation behaves correctly\n",
    "    \n",
    "2. Treat `fact` as a functional abstraction\n",
    "    * On the `fact(n-1)` call, don't think about how it's implemented\n",
    "    * Instead, think about what it's supposed to do\n",
    "        * It's \"supposedly\" correct behavior is to return `(n-1)!`. This way, we are abstractin away the details of the implementation\n",
    "        \n",
    "3. Assume that `fact(n-1)` is correct\n",
    "    * Assume that `fact(n-1)` returns `(n-1)!`\n",
    "    \n",
    "4. Verify that `fact(n)` is correct by:\n",
    "    * Assuming that `fact(n-1)` is correct\n",
    "    * Knowing that the result of `n!` is `n * fact(n-1)`\n",
    "    \n",
    "Generally, we assume that a function is correctly defined for the simpler case in the recursive call. We assume that the function works correctly for `(n-1)` and therefore, it should work correctly for `n`. "
   ]
  }
 ],
 "metadata": {
  "kernelspec": {
   "display_name": "Python 3",
   "language": "python",
   "name": "python3"
  },
  "language_info": {
   "codemirror_mode": {
    "name": "ipython",
    "version": 3
   },
   "file_extension": ".py",
   "mimetype": "text/x-python",
   "name": "python",
   "nbconvert_exporter": "python",
   "pygments_lexer": "ipython3",
   "version": "3.6.8"
  }
 },
 "nbformat": 4,
 "nbformat_minor": 2
}
