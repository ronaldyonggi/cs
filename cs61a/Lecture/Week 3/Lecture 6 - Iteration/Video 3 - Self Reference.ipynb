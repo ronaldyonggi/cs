{
 "cells": [
  {
   "cell_type": "code",
   "execution_count": 1,
   "metadata": {},
   "outputs": [],
   "source": [
    "%load_ext tutormagic"
   ]
  },
  {
   "cell_type": "markdown",
   "metadata": {},
   "source": [
    "# Self-Reference\n",
    "A function can refer to its own name within its body. Below is an example of a function `print_all` "
   ]
  },
  {
   "cell_type": "code",
   "execution_count": 26,
   "metadata": {},
   "outputs": [],
   "source": [
    "def print_all(x):\n",
    "    print(x)\n",
    "    return print_all"
   ]
  },
  {
   "cell_type": "markdown",
   "metadata": {},
   "source": [
    "When we defined `print_all`, the body of the function is waiting for a call. By the time `print_all` is called, the name `print_all` is already bound to a function. \n",
    "\n",
    "If we call the following,"
   ]
  },
  {
   "cell_type": "code",
   "execution_count": 27,
   "metadata": {},
   "outputs": [
    {
     "name": "stdout",
     "output_type": "stream",
     "text": [
      "1\n"
     ]
    },
    {
     "data": {
      "text/plain": [
       "<function __main__.print_all(x)>"
      ]
     },
     "execution_count": 27,
     "metadata": {},
     "output_type": "execute_result"
    }
   ],
   "source": [
    "print_all(1)"
   ]
  },
  {
   "cell_type": "markdown",
   "metadata": {},
   "source": [
    "Then `print_all` will print `1`, and the whole expression `print_all(1)` evaluates to `print_all` function. Thus we can consecutively call the function."
   ]
  },
  {
   "cell_type": "code",
   "execution_count": 28,
   "metadata": {},
   "outputs": [
    {
     "name": "stdout",
     "output_type": "stream",
     "text": [
      "1\n",
      "3\n"
     ]
    },
    {
     "data": {
      "text/plain": [
       "<function __main__.print_all(x)>"
      ]
     },
     "execution_count": 28,
     "metadata": {},
     "output_type": "execute_result"
    }
   ],
   "source": [
    "print_all(1)(3)"
   ]
  },
  {
   "cell_type": "markdown",
   "metadata": {},
   "source": [
    "The call expression in the cell above also evaluates to `print_all` function! We can do this as many times as we want.\n",
    "\n",
    "Let's analyze the environment diagram!"
   ]
  },
  {
   "cell_type": "code",
   "execution_count": 29,
   "metadata": {},
   "outputs": [
    {
     "data": {
      "text/html": [
       "\n",
       "        <iframe\n",
       "            width=\"100%\"\n",
       "            height=\"350\"\n",
       "            src=\"http://pythontutor.com/iframe-embed.html#code=%0Adef%20print_all%28x%29%3A%0A%20%20%20%20print%28x%29%0A%20%20%20%20return%20print_all%0A%0Aprint_all%281%29%283%29%285%29%0A&origin=opt-frontend.js&cumulative=false&heapPrimitives=false&textReferences=false&curInstr=0&&verticalStack=false&py=3&rawInputLstJSON=%5B%5D&codeDivWidth=50%25&codeDivHeight=100%25\"\n",
       "            frameborder=\"0\"\n",
       "            allowfullscreen\n",
       "        ></iframe>\n",
       "        "
      ],
      "text/plain": [
       "<IPython.lib.display.IFrame at 0x5b69630>"
      ]
     },
     "metadata": {},
     "output_type": "display_data"
    }
   ],
   "source": [
    "%%tutor --lang python3\n",
    "\n",
    "def print_all(x):\n",
    "    print(x)\n",
    "    return print_all\n",
    "\n",
    "print_all(1)(3)(5)"
   ]
  },
  {
   "cell_type": "markdown",
   "metadata": {},
   "source": [
    "* In step 1-2, the function `print_all(x)` is bound to the name `print_all`. \n",
    "* In step 3-5, Python calls `print_all` on `1`\n",
    "    * `1` is printed out\n",
    "* In step 6, the return value of calling `print_all` on `1` is the function `print_all(x)`! \n",
    "* In step 7, the return value of `print_all(1)`, which is the function `print_all(x)`, is being called on `3`. The similar steps as above are repeated.\n",
    "\n",
    "Even though `print_all` refers to itself, it doesn't **call itself** and thus, it's not going to run infinitely. It's up to the expression `print_all(1)(3)(5)....` to indicate how many times the `print_all` should be called. \n",
    "\n",
    "Now let's do a different example! Below we have a function `print_sums` that sums all of the argument so far.\n",
    "\n",
    "`print_sums` takes an argument `x` and returns a function `next_sum`.\n",
    "* `next_sum` takes an argument `y` and calls `print_sum` on `x + y`. This is where the summing is happening"
   ]
  },
  {
   "cell_type": "code",
   "execution_count": 30,
   "metadata": {},
   "outputs": [
    {
     "data": {
      "text/html": [
       "\n",
       "        <iframe\n",
       "            width=\"100%\"\n",
       "            height=\"350\"\n",
       "            src=\"http://pythontutor.com/iframe-embed.html#code=%0Adef%20print_sums%28x%29%3A%0A%20%20%20%20print%28x%29%0A%20%20%20%20def%20next_sum%28y%29%3A%0A%20%20%20%20%20%20%20%20return%20print_sums%28x%2By%29%0A%20%20%20%20return%20next_sum%0A%0Aprint_sums%281%29%283%29%285%29%0A&origin=opt-frontend.js&cumulative=false&heapPrimitives=false&textReferences=false&curInstr=0&&verticalStack=false&py=3&rawInputLstJSON=%5B%5D&codeDivWidth=50%25&codeDivHeight=100%25\"\n",
       "            frameborder=\"0\"\n",
       "            allowfullscreen\n",
       "        ></iframe>\n",
       "        "
      ],
      "text/plain": [
       "<IPython.lib.display.IFrame at 0x5b55930>"
      ]
     },
     "metadata": {},
     "output_type": "display_data"
    }
   ],
   "source": [
    "%%tutor --lang python3\n",
    "\n",
    "def print_sums(x):\n",
    "    print(x)\n",
    "    def next_sum(y):\n",
    "        return print_sums(x+y)\n",
    "    return next_sum\n",
    "\n",
    "print_sums(1)(3)(5)"
   ]
  },
  {
   "cell_type": "markdown",
   "metadata": {},
   "source": [
    "* In step 2, the function `print_sums(x)` is bound to the name `print_sums`\n",
    "* In step 3, Python calls `print_sums` on `1`\n",
    "    * Python creates a new frame labeled `f1` with the formal parameter `x` bound to `1`\n",
    "* In step 5, Python prints `1`\n",
    "* In step 6, Python binds the function `next_sum(y)` to the name `next_sum` within the `f1` frame. \n",
    "* In step 7, Python finishes evaluating `print_sums(1)`.\n",
    "    * The `return` value is the `next_sum(y)` function\n",
    "* In step 8, Python calls `next_sum` on `3`. \n",
    "* In step 9 and 10, Python calls `print_sums` on `(x+y)`, in which currently is `1 + 3` = `4`.\n",
    "    * At this point, the steps starting step 3 is repeated, but with different argument.\n",
    "\n",
    "The execution process stops when there's no argument left for `next_sum` to be called on."
   ]
  }
 ],
 "metadata": {
  "kernelspec": {
   "display_name": "Python 3",
   "language": "python",
   "name": "python3"
  },
  "language_info": {
   "codemirror_mode": {
    "name": "ipython",
    "version": 3
   },
   "file_extension": ".py",
   "mimetype": "text/x-python",
   "name": "python",
   "nbconvert_exporter": "python",
   "pygments_lexer": "ipython3",
   "version": "3.6.8"
  }
 },
 "nbformat": 4,
 "nbformat_minor": 2
}
