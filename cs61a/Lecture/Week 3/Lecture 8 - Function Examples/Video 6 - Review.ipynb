{
 "cells": [
  {
   "cell_type": "code",
   "execution_count": 1,
   "metadata": {},
   "outputs": [],
   "source": [
    "%load_ext tutormagic"
   ]
  },
  {
   "cell_type": "markdown",
   "metadata": {},
   "source": [
    "# Review\n",
    "These examples are taken from past midterm #1"
   ]
  },
  {
   "cell_type": "markdown",
   "metadata": {},
   "source": [
    "## What Would Python Print?\n",
    "Here, we guess what output we'll see when running some Python codes.\n",
    "\n",
    "**Important**: The `print` function returns `None`. It also displays its arguments (separated by spaces) when called.\n",
    "\n",
    "Often we'll have the following, "
   ]
  },
  {
   "cell_type": "code",
   "execution_count": 34,
   "metadata": {},
   "outputs": [],
   "source": [
    "from operator import add, mul\n",
    "def square(x):\n",
    "    return mul(x, x)"
   ]
  },
  {
   "cell_type": "markdown",
   "metadata": {},
   "source": [
    "Then there'll be questions such as, \"given an expression, what does it evaluate to?\" or \"what interactive output would we see if we enter that expression into the interactive interpreter?\"\n",
    "\n",
    "| This expression | Evaluates to | Interactive Output|\n",
    "| -----| ---- | ---- |\n",
    "| 5 | 5 | 5 |\n",
    "| `print(5)` | `None` | 5 |\n",
    "| `print(print(5))` | `None` | 5 <br> None |\n",
    "\n",
    "For the last case, Python first prints `5`, then since `print(5)` evaluates to `None`, then Python executes `print(None)`. Note that the whole expression evaluates to `None`. \n",
    "\n",
    "Another example is when we are given a function, and we are supposed to guess the output when we have a call expression that involves the function. Below we have a function `delay`,"
   ]
  },
  {
   "cell_type": "markdown",
   "metadata": {},
   "source": [
    "<img src = 'delay.jpg' width = 300/>\n",
    "\n",
    "And we want to see what `delay(delay)()(6)()` evaluates to."
   ]
  },
  {
   "cell_type": "code",
   "execution_count": 2,
   "metadata": {},
   "outputs": [
    {
     "data": {
      "text/html": [
       "\n",
       "        <iframe\n",
       "            width=\"100%\"\n",
       "            height=\"350\"\n",
       "            src=\"http://pythontutor.com/iframe-embed.html#code=%0Adef%20delay%28arg%29%3A%0A%20%20%20%20print%28%27delayed%27%29%0A%20%20%20%20def%20g%28%29%3A%0A%20%20%20%20%20%20%20%20return%20arg%0A%20%20%20%20return%20g%20%0A%0Adelay%28delay%29%28%29%286%29%28%29%0A&origin=opt-frontend.js&cumulative=false&heapPrimitives=false&textReferences=false&curInstr=0&&verticalStack=false&py=3&rawInputLstJSON=%5B%5D&codeDivWidth=50%25&codeDivHeight=100%25\"\n",
       "            frameborder=\"0\"\n",
       "            allowfullscreen\n",
       "        ></iframe>\n",
       "        "
      ],
      "text/plain": [
       "<IPython.lib.display.IFrame at 0x56ed430>"
      ]
     },
     "metadata": {},
     "output_type": "display_data"
    }
   ],
   "source": [
    "%%tutor --lang python3\n",
    "\n",
    "def delay(arg):\n",
    "    print('delayed')\n",
    "    def g():\n",
    "        return arg\n",
    "    return g \n",
    "\n",
    "delay(delay)()(6)()"
   ]
  },
  {
   "cell_type": "markdown",
   "metadata": {},
   "source": [
    "### Top-down approach, break the expression to easier problems \n",
    "\n",
    "1. The whole expression `delay(delay)()(6)()` has a **complex operator**: `delay(delay)()(6)`.\n",
    "\n",
    "2. The complex operator itself is call expression with a **compound operator** `delay(delay)()`, which needs to be evaluated.\n",
    "    * This **compound operator** is then applied to the operand `(6)`\n",
    "    \n",
    "3. The **compound operator** itself is a call expression with an inner compound operator, `delay(delay)`, which will be applied to the operand `()`.\n",
    "\n",
    "4. `delay(delay)` means calling `delay` on itself. This would return a function `g` that takes no argument and returns `delay`.\n",
    "    * Thus, `delay(delay)` returns the `delay` function\n",
    "    \n",
    "### Now evaluate from small pieces\n",
    "\n",
    "1. When we call `delay(delay)`\n",
    "    * Python prints `delayed`\n",
    "    * `arg` is currently the `delay` function\n",
    "    * The whole expression evaluates to `g`, which is the `delay` function\n",
    "    \n",
    "2. We call `g` to the operand `()`.\n",
    "    * This means Python calls `g()`, which returns `arg`\n",
    "    * Recall that `arg` is currently the `delay` function. This means `g()` returns the `delay` function\n",
    "    \n",
    "3. We call the `delay` function on `(6)`. In other words, we call `delay(6)`\n",
    "    * Python prints `delayed` \n",
    "    * The expression returns a function `g` that returns `6` when called with no argument\n",
    "\n",
    "4. Once again we call `g` to the operand `()`\n",
    "    * Python calls `g()`, which returns `6`\n",
    "\n",
    "Thus, the whole expression evaluates to `6`."
   ]
  },
  {
   "cell_type": "markdown",
   "metadata": {},
   "source": [
    "### How about `print(delay(print)()(4))` ?"
   ]
  },
  {
   "cell_type": "code",
   "execution_count": 1,
   "metadata": {},
   "outputs": [
    {
     "name": "stderr",
     "output_type": "stream",
     "text": [
      "UsageError: Cell magic `%%tutor` not found.\n"
     ]
    }
   ],
   "source": [
    "%%tutor --lang python3\n",
    "\n",
    "def delay(arg):\n",
    "    print('delayed')\n",
    "    def g():\n",
    "        return arg\n",
    "    return g \n",
    "\n",
    "`print(delay(print)()(4))`"
   ]
  },
  {
   "cell_type": "markdown",
   "metadata": {},
   "source": [
    "1. The call expression `delay(print)` will evaluate to a function `g` that takes no argument and returns the `print` function\n",
    "    * Python prints `delayed`\n",
    "\n",
    "2. We call `g` on `()`, which means we call `g()` and returns the `print` function`\n",
    "\n",
    "3. We call `print` on `4`\n",
    "    * Python prints `4`\n",
    "    * The expression evaluates to `None`\n",
    "\n",
    "4. We call `print` on `None`, or `print(None)`\n",
    "    * Python prints `None`\n",
    "    * The whole expression evaluates to `None`"
   ]
  },
  {
   "cell_type": "markdown",
   "metadata": {},
   "source": [
    "This time we have the following `pirate` function,"
   ]
  },
  {
   "cell_type": "code",
   "execution_count": 2,
   "metadata": {},
   "outputs": [],
   "source": [
    "def pirate(arggg):\n",
    "    print('matey')\n",
    "    def plunder(arggg):\n",
    "        return arggg\n",
    "    return plunder"
   ]
  },
  {
   "cell_type": "markdown",
   "metadata": {},
   "source": [
    "The `pirate` function has the same basic structure as `delay`. The difference is that the inner `def` statement takes an argument and returns that same argument. \n",
    "\n",
    "Recall that the process of looking up a name is that **Python looks to the first frame of the current environment**. Since `plunder` uses the name `arggg`, Python will be able to find the name `arggg` within the `plunder` frame and thus Python will never refer to the `arggg` in the parent frame `pirate`.  \n",
    "\n",
    "<img src = 'identity.jpg' width = 300/>\n",
    "\n",
    "The `pirate` function returns an `identity function`: a function that returns whatever argument is passed into it. "
   ]
  },
  {
   "cell_type": "markdown",
   "metadata": {},
   "source": [
    "### Let's try `add(pirate(3)(square)(4), 1)`"
   ]
  },
  {
   "cell_type": "code",
   "execution_count": null,
   "metadata": {},
   "outputs": [],
   "source": [
    "%%tutor --lang python3\n",
    "\n",
    "def pirate(arggg):\n",
    "    print('matey')\n",
    "    def plunder(arggg):\n",
    "        return arggg\n",
    "    return plunder\n",
    "\n",
    "add(pirate(3)(square)(4), 1)"
   ]
  },
  {
   "cell_type": "markdown",
   "metadata": {},
   "source": [
    "1. Call `pirate(3)`\n",
    "    * Python prints `matey`\n",
    "    * Returns a function `plunder` that returns whatever's passed in\n",
    "    \n",
    "2. Call `plunder(square)`, returns the `square` function\n",
    "\n",
    "3. Call `square(4)`, returns `16`\n",
    "\n",
    "4. Call `add(16, 1)`, returns `17`\n",
    "    * Prints the output `17`"
   ]
  },
  {
   "cell_type": "markdown",
   "metadata": {},
   "source": [
    "### How about  `pirate(pirate(pirate))(5)(7)` ?"
   ]
  },
  {
   "cell_type": "code",
   "execution_count": null,
   "metadata": {},
   "outputs": [],
   "source": [
    "%%tutor --lang python3\n",
    "\n",
    "def pirate(arggg):\n",
    "    print('matey')\n",
    "    def plunder(arggg):\n",
    "        return arggg\n",
    "    return plunder\n",
    "\n",
    "pirate(pirate(pirate))(5)(7)"
   ]
  },
  {
   "cell_type": "markdown",
   "metadata": {},
   "source": [
    "1. Call `pirate(pirate)`\n",
    "    * Prints `matey`\n",
    "    * Returns a function `plunder` that returns whatever's passed in\n",
    "    \n",
    "2. Call `pirate(plunder)`\n",
    "    * Prints `matey`\n",
    "    * Returns a function `plunder` that returns whatever's passed in\n",
    "\n",
    "3. Call `plunder(5)`\n",
    "    * Returns `5`\n",
    "\n",
    "4. Call `(5)` on `(7)`\n",
    "    * Error! Output also prints `Error`\n",
    "    * The whole expression evaluates to `Error`"
   ]
  },
  {
   "cell_type": "markdown",
   "metadata": {},
   "source": [
    "### Horse(mask)\n",
    "Another example of a midterm question is to draw the environment diagram of the following,"
   ]
  },
  {
   "cell_type": "code",
   "execution_count": null,
   "metadata": {},
   "outputs": [],
   "source": [
    "%%tutor --lang python3\n",
    "\n",
    "def horse(mask):\n",
    "    horse = mask\n",
    "    def mask(horse):\n",
    "        return horse\n",
    "    return horse(mask)\n",
    "\n",
    "mask = lambda horse: horse(2)\n",
    "horse(mask)"
   ]
  },
  {
   "cell_type": "code",
   "execution_count": null,
   "metadata": {},
   "outputs": [],
   "source": []
  }
 ],
 "metadata": {
  "kernelspec": {
   "display_name": "Python 3",
   "language": "python",
   "name": "python3"
  },
  "language_info": {
   "codemirror_mode": {
    "name": "ipython",
    "version": 3
   },
   "file_extension": ".py",
   "mimetype": "text/x-python",
   "name": "python",
   "nbconvert_exporter": "python",
   "pygments_lexer": "ipython3",
   "version": "3.6.8"
  }
 },
 "nbformat": 4,
 "nbformat_minor": 2
}
