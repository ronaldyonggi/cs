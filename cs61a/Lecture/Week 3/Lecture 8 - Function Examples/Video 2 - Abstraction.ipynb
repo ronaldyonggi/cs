{
 "cells": [
  {
   "cell_type": "code",
   "execution_count": 1,
   "metadata": {},
   "outputs": [],
   "source": [
    "%load_ext tutormagic"
   ]
  },
  {
   "cell_type": "markdown",
   "metadata": {},
   "source": [
    "# Abstraction"
   ]
  },
  {
   "cell_type": "markdown",
   "metadata": {},
   "source": [
    "## Functional Abstractions\n",
    "Functional abstractions is giving a name to some computational process and referring to that process as a whole without looking deeper into its implementation details.\n",
    "\n",
    "Below we have the function `square` and the function `sum_squares(x, y)` that uses `square` in its body."
   ]
  },
  {
   "cell_type": "code",
   "execution_count": 4,
   "metadata": {},
   "outputs": [],
   "source": [
    "def square(x):\n",
    "    return mul(x, x)\n",
    "\n",
    "def sum_squares(x, y):\n",
    "    return square(x) + square(y)"
   ]
  },
  {
   "cell_type": "markdown",
   "metadata": {},
   "source": [
    "### What does `sum_squares` need to know about `square` so that `sum_squares` can use `square` correctly?\n",
    "\n",
    "Does `sum_squares` need to know that,\n",
    "\n",
    "1. `square` takes one argument?\n",
    "    * Yes. \n",
    "\n",
    "2. `square` function has the **intrinsic** name `square`?\n",
    "    * No. An intrinsic name is only used so that human can inspect the name of the function.\n",
    "    \n",
    "3. `square` computes the square of a number?\n",
    "    * Yes. To use functional abstraction effectively, we need to know the behavior of the function\n",
    "\n",
    "4. `square` computes the square by calling `mul`\n",
    "    * No. We don't need to know the details on how `square` is computed\n",
    "    * We could have defined the `square` function as the following:"
   ]
  },
  {
   "cell_type": "code",
   "execution_count": 5,
   "metadata": {},
   "outputs": [],
   "source": [
    "def square(x):\n",
    "    return pow(x, 2)"
   ]
  },
  {
   "cell_type": "markdown",
   "metadata": {},
   "source": [
    "Or as the following,"
   ]
  },
  {
   "cell_type": "code",
   "execution_count": 6,
   "metadata": {},
   "outputs": [],
   "source": [
    "def square(x):\n",
    "    return mul(x, x-1) + x"
   ]
  },
  {
   "cell_type": "markdown",
   "metadata": {},
   "source": [
    "If the name `square` were bound to a built-in function, `sum_squares` would still work identically.\n",
    "* It doesn't matter whether `square` is user-defined or `built-in`, `sum_squares` do not need to know about it."
   ]
  },
  {
   "cell_type": "markdown",
   "metadata": {},
   "source": [
    "## Choosing Names\n",
    "Names typically don't matter for correctness, **BUT** they matter a lot for composition (how we write the program in such a way that other human can understand it easily). \n",
    "\n",
    "#### 1. Names should convey the `meaning` or `purpose` of the values to which they are bound\n",
    "* This way, it's easy to see why we created the value in the first place, and what we're going to do with it next\n",
    "\n",
    "#### 2. The type of value bound to the name is best documented in a function's `docstring`\n",
    "\n",
    "#### 3. Function names typically convey either:\n",
    "* Their effect - `print`\n",
    "* Their behavior - `triple`\n",
    "* Or the value returned - `abs`\n",
    "\n",
    "Here are some examples of bad choice for names (on the left side) and good choice for names (on the right side):\n",
    "\n",
    "| # | From: | To: |\n",
    "| ---- | ---- | ---- |\n",
    "| 1 | `true_false` | `rolled_a_one`|\n",
    "| 2 | `d` | `dice`|\n",
    "| 3 | `play_helper` | `take_turn`|\n",
    "| 4 | `my_int` | `num_rolls`|\n",
    "| 5 | `l, I, O` | `k, i, m`|\n",
    "\n",
    "1. For a value that is either `True` or `False`, don't name it `true_false`.\n",
    "    * Try to explain what it represents\n",
    "    * For example, whether a player roll a one in the game of Hog\n",
    "    \n",
    "2. In most larger programs, it is more helpful to use whole word (e.g. `dice`) than just a single letter (e.g. `d`)\n",
    "\n",
    "3. Describe what a function does, its behavior, rather than just \"who calls it\"\n",
    "    * When defining the function `play`, there's a functional abstraction of taking an individual turn. \n",
    "    * Instead of naming it `play_helper` or `play_subfunction` (because it's called by the `play` function), use `take_turn` as it simulates taking a turn\n",
    "    * This way, other function can use `take_turn` as well, not just limited to `play`\n",
    "    \n",
    "4. Don't just name a value by its type (`my_int`). Instead, explain the purpose of the value, or what it represents (`num_rolls`).\n",
    "\n",
    "5. There are some letters that are harder to read depending on the font."
   ]
  },
  {
   "cell_type": "markdown",
   "metadata": {},
   "source": [
    "## Which Values Deserve a Name\n",
    "We don't have to give names to every intermediate values since we can have `compound expressions`. However, if we have the same `repeated compound expressions` multiple times, it's better to give it a name.\n",
    "\n",
    "### Repeated compound expressions\n",
    "\n",
    "If we have the following,"
   ]
  },
  {
   "cell_type": "code",
   "execution_count": null,
   "metadata": {},
   "outputs": [],
   "source": [
    "if sqrt(square(a) + square(b)) > 1:\n",
    "    x = x + sqrt(square(a) + square(b))"
   ]
  },
  {
   "cell_type": "markdown",
   "metadata": {},
   "source": [
    "Above, the compound expression `sqrt(square(a) + square(b))` appears twice, both in the conditional `if` statement and the assignment statement. In this case, it is more efficient to give `sqrt(square(a) + square(b))` a name."
   ]
  },
  {
   "cell_type": "code",
   "execution_count": null,
   "metadata": {},
   "outputs": [],
   "source": [
    "hypotenuse = sqrt(square(a) + square(b))\n",
    "if hypotenuse > 1:\n",
    "    x = x + hypotenuse"
   ]
  },
  {
   "cell_type": "markdown",
   "metadata": {},
   "source": [
    "### Don't make expressions too complex\n",
    "Below we have a quadratic formula,"
   ]
  },
  {
   "cell_type": "code",
   "execution_count": 7,
   "metadata": {},
   "outputs": [
    {
     "ename": "NameError",
     "evalue": "name 'b' is not defined",
     "output_type": "error",
     "traceback": [
      "\u001b[1;31m---------------------------------------------------------------------------\u001b[0m",
      "\u001b[1;31mNameError\u001b[0m                                 Traceback (most recent call last)",
      "\u001b[1;32m<ipython-input-7-e8916e322186>\u001b[0m in \u001b[0;36m<module>\u001b[1;34m\u001b[0m\n\u001b[1;32m----> 1\u001b[1;33m \u001b[0mx\u001b[0m \u001b[1;33m=\u001b[0m \u001b[1;33m(\u001b[0m\u001b[1;33m-\u001b[0m\u001b[0mb\u001b[0m \u001b[1;33m+\u001b[0m \u001b[0msqrt\u001b[0m\u001b[1;33m(\u001b[0m\u001b[0msquare\u001b[0m\u001b[1;33m(\u001b[0m\u001b[0mb\u001b[0m\u001b[1;33m)\u001b[0m \u001b[1;33m-\u001b[0m \u001b[1;36m4\u001b[0m \u001b[1;33m*\u001b[0m \u001b[0ma\u001b[0m \u001b[1;33m*\u001b[0m \u001b[0mc\u001b[0m\u001b[1;33m)\u001b[0m\u001b[1;33m)\u001b[0m \u001b[1;33m/\u001b[0m \u001b[1;33m(\u001b[0m\u001b[1;36m2\u001b[0m \u001b[1;33m*\u001b[0m \u001b[0ma\u001b[0m\u001b[1;33m)\u001b[0m\u001b[1;33m\u001b[0m\u001b[1;33m\u001b[0m\u001b[0m\n\u001b[0m",
      "\u001b[1;31mNameError\u001b[0m: name 'b' is not defined"
     ]
    }
   ],
   "source": [
    "x = (-b + sqrt(square(b) - 4 * a * c)) / (2 * a)"
   ]
  },
  {
   "cell_type": "markdown",
   "metadata": {},
   "source": [
    "In the case above, it is more efficient to take a part of the formula and give it a name."
   ]
  },
  {
   "cell_type": "code",
   "execution_count": 8,
   "metadata": {},
   "outputs": [
    {
     "ename": "NameError",
     "evalue": "name 'sqrt' is not defined",
     "output_type": "error",
     "traceback": [
      "\u001b[1;31m---------------------------------------------------------------------------\u001b[0m",
      "\u001b[1;31mNameError\u001b[0m                                 Traceback (most recent call last)",
      "\u001b[1;32m<ipython-input-8-9c18c58e2d6f>\u001b[0m in \u001b[0;36m<module>\u001b[1;34m\u001b[0m\n\u001b[1;32m----> 1\u001b[1;33m \u001b[0mdiscriminant\u001b[0m \u001b[1;33m=\u001b[0m \u001b[0msqrt\u001b[0m\u001b[1;33m(\u001b[0m\u001b[0msquare\u001b[0m\u001b[1;33m(\u001b[0m\u001b[0mb\u001b[0m\u001b[1;33m)\u001b[0m \u001b[1;33m-\u001b[0m \u001b[1;36m4\u001b[0m \u001b[1;33m*\u001b[0m \u001b[0ma\u001b[0m \u001b[1;33m*\u001b[0m \u001b[0mc\u001b[0m\u001b[1;33m)\u001b[0m\u001b[1;33m\u001b[0m\u001b[1;33m\u001b[0m\u001b[0m\n\u001b[0m\u001b[0;32m      2\u001b[0m \u001b[0mx\u001b[0m \u001b[1;33m=\u001b[0m \u001b[1;33m(\u001b[0m\u001b[1;33m-\u001b[0m\u001b[0mb\u001b[0m \u001b[1;33m+\u001b[0m \u001b[0mdiscriminant\u001b[0m\u001b[1;33m)\u001b[0m \u001b[1;33m/\u001b[0m \u001b[1;33m(\u001b[0m\u001b[1;36m2\u001b[0m \u001b[1;33m*\u001b[0m \u001b[0ma\u001b[0m\u001b[1;33m)\u001b[0m\u001b[1;33m\u001b[0m\u001b[1;33m\u001b[0m\u001b[0m\n",
      "\u001b[1;31mNameError\u001b[0m: name 'sqrt' is not defined"
     ]
    }
   ],
   "source": [
    "discriminant = sqrt(square(b) - 4 * a * c)\n",
    "x = (-b + discriminant) / (2 * a)"
   ]
  },
  {
   "cell_type": "markdown",
   "metadata": {},
   "source": [
    "### More Naming Tips\n",
    "\n",
    "#### 1. Names can be long if they help document code"
   ]
  },
  {
   "cell_type": "code",
   "execution_count": null,
   "metadata": {},
   "outputs": [],
   "source": [
    "average_age = average(age, students)"
   ]
  },
  {
   "cell_type": "markdown",
   "metadata": {},
   "source": [
    "Above is preferable compared to:"
   ]
  },
  {
   "cell_type": "code",
   "execution_count": null,
   "metadata": {},
   "outputs": [],
   "source": [
    "# Compute average age of students\n",
    "aa = avg(a, st)"
   ]
  },
  {
   "cell_type": "markdown",
   "metadata": {},
   "source": [
    "#### 2. Names can be short if they represent generic quantities: counts, arbitrary functions, arguments to mathematical operations, etc.\n",
    "* `n, k, i` - usually integers\n",
    "* `x, y, z` - usually real numbers\n",
    "* `f, g, h` - usually functions"
   ]
  }
 ],
 "metadata": {
  "kernelspec": {
   "display_name": "Python 3",
   "language": "python",
   "name": "python3"
  },
  "language_info": {
   "codemirror_mode": {
    "name": "ipython",
    "version": 3
   },
   "file_extension": ".py",
   "mimetype": "text/x-python",
   "name": "python",
   "nbconvert_exporter": "python",
   "pygments_lexer": "ipython3",
   "version": "3.6.8"
  }
 },
 "nbformat": 4,
 "nbformat_minor": 2
}
