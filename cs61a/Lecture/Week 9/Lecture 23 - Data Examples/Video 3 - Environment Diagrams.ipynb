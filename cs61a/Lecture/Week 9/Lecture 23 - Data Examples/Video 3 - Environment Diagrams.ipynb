{
 "cells": [
  {
   "cell_type": "code",
   "execution_count": 3,
   "metadata": {},
   "outputs": [],
   "source": [
    "%load_ext tutormagic"
   ]
  },
  {
   "cell_type": "markdown",
   "metadata": {},
   "source": [
    "# Environment Diagrams"
   ]
  },
  {
   "cell_type": "markdown",
   "metadata": {},
   "source": [
    "In this video we're going to look over environment diagrams that include lists and `nonlocal` assignment statements."
   ]
  },
  {
   "cell_type": "code",
   "execution_count": 4,
   "metadata": {},
   "outputs": [
    {
     "data": {
      "text/html": [
       "\n",
       "        <iframe\n",
       "            width=\"100%\"\n",
       "            height=\"350\"\n",
       "            src=\"http://pythontutor.com/iframe-embed.html#code=def%20oski%28bear%29%3A%0A%20%20%20%20def%20cal%28berk%29%3A%0A%20%20%20%20%20%20%20%20nonlocal%20bear%0A%20%20%20%20%20%20%20%20if%20bear%28berk%29%20%3D%3D%200%3A%0A%20%20%20%20%20%20%20%20%20%20%20%20return%20%5Bberk%2B1%2C%20berk-1%5D%0A%20%20%20%20%20%20%20%20bear%20%3D%20lambda%20ley%3A%20berk%20-%20ley%0A%20%20%20%20%20%20%20%20return%20%5Bberk%2C%20cal%28berk%29%5D%0A%20%20%20%20return%20cal%282%29%0Aoski%28abs%29%0A&origin=opt-frontend.js&cumulative=false&heapPrimitives=false&textReferences=false&curInstr=0&&verticalStack=false&py=3&rawInputLstJSON=%5B%5D&codeDivWidth=50%25&codeDivHeight=100%25\"\n",
       "            frameborder=\"0\"\n",
       "            allowfullscreen\n",
       "        ></iframe>\n",
       "        "
      ],
      "text/plain": [
       "<IPython.lib.display.IFrame at 0x2a945a67828>"
      ]
     },
     "metadata": {},
     "output_type": "display_data"
    }
   ],
   "source": [
    "%%tutor --lang Python3\n",
    "def oski(bear):\n",
    "    def cal(berk):\n",
    "        nonlocal bear\n",
    "        if bear(berk) == 0:\n",
    "            return [berk+1, berk-1]\n",
    "        bear = lambda ley: berk - ley\n",
    "        return [berk, cal(berk)]\n",
    "    return cal(2)\n",
    "oski(abs)"
   ]
  },
  {
   "cell_type": "markdown",
   "metadata": {},
   "source": [
    "1. When we call `oski(abs)`, the function `oski` calls `cal(2)`.\n",
    "    * At this point, `bear` is bound to the function `abs`\n",
    "2. `if bear(berk) == 0\n",
    "    * `abs(2)` is not 0, so skip the `return` statement\n",
    "3. `bear = lambda ley: berk - ley`\n",
    "    * `bear` is now a lambda function of lambda ley: 2 - ley\n",
    "    * Note here that we're able to change `bear` since `bear` is declared nonlocal\n",
    "4. `return [berk, cal(berk)]`\n",
    "    * return `[2, cal(2)]`\n",
    "5. We call `cal(2)` once again, but remember that `bear` is now different!\n",
    "6. `if bear(berk) == 0`\n",
    "    * `bear = lambda ley: berk - ley`\n",
    "    * `bear(berk)` is now `2 - 2` = 0\n",
    "7. `return [berk+1, berk-1]`\n",
    "    * `return [2+1, 2-1]` = `[3, 1]`\n",
    "\n",
    "In the end, we return `[2, [3, 1]]`\n"
   ]
  },
  {
   "cell_type": "code",
   "execution_count": null,
   "metadata": {},
   "outputs": [],
   "source": []
  }
 ],
 "metadata": {
  "kernelspec": {
   "display_name": "Python 3",
   "language": "python",
   "name": "python3"
  },
  "language_info": {
   "codemirror_mode": {
    "name": "ipython",
    "version": 3
   },
   "file_extension": ".py",
   "mimetype": "text/x-python",
   "name": "python",
   "nbconvert_exporter": "python",
   "pygments_lexer": "ipython3",
   "version": "3.6.8"
  }
 },
 "nbformat": 4,
 "nbformat_minor": 2
}
