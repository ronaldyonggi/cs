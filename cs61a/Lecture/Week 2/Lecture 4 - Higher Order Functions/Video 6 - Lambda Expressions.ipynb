{
 "cells": [
  {
   "cell_type": "markdown",
   "metadata": {},
   "source": [
    "# Lambda Expressions\n",
    "Lambda expressions are expressions that evaluate to functions.\n",
    "\n",
    "We know that we can bind value to names using an assignment statement like below"
   ]
  },
  {
   "cell_type": "code",
   "execution_count": 1,
   "metadata": {},
   "outputs": [],
   "source": [
    "x = 10"
   ]
  },
  {
   "cell_type": "markdown",
   "metadata": {},
   "source": [
    "It would be nice if we can bind a function to a name using the same syntax. We can do this already with built-in functions,"
   ]
  },
  {
   "cell_type": "code",
   "execution_count": 2,
   "metadata": {},
   "outputs": [],
   "source": [
    "square = min"
   ]
  },
  {
   "cell_type": "markdown",
   "metadata": {},
   "source": [
    "But what if we want to bind a new function (user-defined function)?\n",
    "\n",
    "Can we try just writing down the body of the function?"
   ]
  },
  {
   "cell_type": "code",
   "execution_count": 3,
   "metadata": {},
   "outputs": [],
   "source": [
    "square = x * x"
   ]
  },
  {
   "cell_type": "code",
   "execution_count": 4,
   "metadata": {},
   "outputs": [
    {
     "data": {
      "text/plain": [
       "10"
      ]
     },
     "execution_count": 4,
     "metadata": {},
     "output_type": "execute_result"
    }
   ],
   "source": [
    "x"
   ]
  },
  {
   "cell_type": "code",
   "execution_count": 5,
   "metadata": {},
   "outputs": [
    {
     "data": {
      "text/plain": [
       "100"
      ]
     },
     "execution_count": 5,
     "metadata": {},
     "output_type": "execute_result"
    }
   ],
   "source": [
    "square"
   ]
  },
  {
   "cell_type": "markdown",
   "metadata": {},
   "source": [
    "However, `square` is not a function at all! This is just a value that we obtain from evaluating `x` * `x`. \n",
    "\n",
    "<img src = 'x_x.jpg' width = 400/>\n",
    "\n",
    "Lambda expression allows us to bind `square` to a function that takes in an argument (in this case, `x`), and computes `x * x` as its return value. The `lambda` keyword introduces a new function in a form of lambda expression. "
   ]
  },
  {
   "cell_type": "code",
   "execution_count": 6,
   "metadata": {},
   "outputs": [],
   "source": [
    "square = lambda x: x * x"
   ]
  },
  {
   "cell_type": "markdown",
   "metadata": {},
   "source": [
    "And below is how we read a lambda expression:\n",
    "\n",
    "<img src = 'lambda.jpg' width = 500/>\n",
    "\n",
    "There is no `return `keyword in a lambda expression. We write down the return expression directly after the colon `:`. However, we can only use single expression as the body of the lambda function that we create. \n",
    "\n",
    "Lambda expressions create functions, but it's limited to simple functions that can only evaluate single expressions.\n",
    "\n",
    "If we look up what `square` is,"
   ]
  },
  {
   "cell_type": "code",
   "execution_count": 7,
   "metadata": {},
   "outputs": [
    {
     "data": {
      "text/plain": [
       "<function __main__.<lambda>(x)>"
      ]
     },
     "execution_count": 7,
     "metadata": {},
     "output_type": "execute_result"
    }
   ],
   "source": [
    "square"
   ]
  },
  {
   "cell_type": "markdown",
   "metadata": {},
   "source": [
    "It is indeed a function! Let's try it out!"
   ]
  },
  {
   "cell_type": "code",
   "execution_count": 8,
   "metadata": {},
   "outputs": [
    {
     "data": {
      "text/plain": [
       "16"
      ]
     },
     "execution_count": 8,
     "metadata": {},
     "output_type": "execute_result"
    }
   ],
   "source": [
    "square(4)"
   ]
  },
  {
   "cell_type": "code",
   "execution_count": 9,
   "metadata": {},
   "outputs": [
    {
     "data": {
      "text/plain": [
       "100"
      ]
     },
     "execution_count": 9,
     "metadata": {},
     "output_type": "execute_result"
    }
   ],
   "source": [
    "square(10)"
   ]
  },
  {
   "cell_type": "markdown",
   "metadata": {},
   "source": [
    "We can take a lambda function and bind it to a name like we just did, or we can use the function immediately as a `call expression` where:\n",
    "1. The `operator` is the lambda expression, `(lambda x: x * x)`\n",
    "2. The `operand` is `(3)`"
   ]
  },
  {
   "cell_type": "code",
   "execution_count": 10,
   "metadata": {},
   "outputs": [
    {
     "data": {
      "text/plain": [
       "9"
      ]
     },
     "execution_count": 10,
     "metadata": {},
     "output_type": "execute_result"
    }
   ],
   "source": [
    "(lambda x: x * x)(3)"
   ]
  },
  {
   "cell_type": "markdown",
   "metadata": {},
   "source": [
    "Lambda expressions are not common in Python, but important in general.\n",
    "* In some programming languages, they are fundamental\n",
    "\n",
    "Lambda expressions in Python cannot contain statements at all.\n",
    "* We can't put a `while` statement in a lambda expression. "
   ]
  },
  {
   "cell_type": "markdown",
   "metadata": {},
   "source": [
    "## Lambda Expressions vs. Def Statements\n",
    "How are these different and how are they the same?\n",
    "\n",
    "<img src = 'vs.jpg' width = 600/>\n",
    "\n",
    "### Similarities:\n",
    "1. Both create a function with the same domain, range, and behavior\n",
    "2. Both functions have as their parent the frame in which they were defined\n",
    "3. Both bind function to the name `square`, but they do it it different way.\n",
    "\n",
    "**Lambda Expression**:\n",
    "* The `lambda` expression first creates the function without giving it a name `lambda x: x * x`\n",
    "* Then the assignment statement `square = lambda x: x* x` binds the function value to the name `square`\n",
    "\n",
    "**`Def` statement**:\n",
    "Both of the steps above happened automatically as the byproduct of executing the `def` statement\n",
    "\n",
    "### Differences\n",
    "Only the `def` statement gives the function an instrinsic name\n",
    "    * Intrinsic name is the name that we see when we try to display the function.\n",
    "    \n",
    "For example, if we define `square` using a lambda expression,"
   ]
  },
  {
   "cell_type": "code",
   "execution_count": 1,
   "metadata": {},
   "outputs": [
    {
     "data": {
      "text/plain": [
       "<function __main__.<lambda>(x)>"
      ]
     },
     "execution_count": 1,
     "metadata": {},
     "output_type": "execute_result"
    }
   ],
   "source": [
    "square = lambda x: x * x\n",
    "square"
   ]
  },
  {
   "cell_type": "markdown",
   "metadata": {},
   "source": [
    "It tells us that `square` is a function called `<lambda>`. It's not called `square`. \n",
    "\n",
    "However, if we define `square` using the `def` statement,"
   ]
  },
  {
   "cell_type": "code",
   "execution_count": 2,
   "metadata": {},
   "outputs": [
    {
     "data": {
      "text/plain": [
       "<function __main__.square(x)>"
      ]
     },
     "execution_count": 2,
     "metadata": {},
     "output_type": "execute_result"
    }
   ],
   "source": [
    "def square(x):\n",
    "    return x * x\n",
    "\n",
    "square"
   ]
  },
  {
   "cell_type": "markdown",
   "metadata": {},
   "source": [
    "We can see that `square` is now the function `square(x)`. \n",
    "\n",
    "The difference in names can be seen in their environmental diagrams as well.\n",
    "<img src = 'difference.jpg' width = 900/>\n",
    "\n",
    "As we can see, with `lambda`, the name `square` is tied to the symbol $\\lambda$. While with the `def` statement, the name `square` is tied to the `square` function."
   ]
  }
 ],
 "metadata": {
  "kernelspec": {
   "display_name": "Python 3",
   "language": "python",
   "name": "python3"
  },
  "language_info": {
   "codemirror_mode": {
    "name": "ipython",
    "version": 3
   },
   "file_extension": ".py",
   "mimetype": "text/x-python",
   "name": "python",
   "nbconvert_exporter": "python",
   "pygments_lexer": "ipython3",
   "version": "3.6.8"
  }
 },
 "nbformat": 4,
 "nbformat_minor": 2
}
