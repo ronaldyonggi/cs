{
 "cells": [
  {
   "cell_type": "markdown",
   "metadata": {},
   "source": [
    "# Function as Return Values"
   ]
  },
  {
   "cell_type": "markdown",
   "metadata": {},
   "source": [
    "We went through all this work to write a general version of summation, then we used it to `natural numbers` and `cubes`. But what about the last term?\n",
    "\n",
    "<img src = 'last.jpg' width = 400/>\n",
    "\n",
    "We'll call this term `pi_term` because the series converges to `pi`."
   ]
  },
  {
   "cell_type": "code",
   "execution_count": 23,
   "metadata": {},
   "outputs": [],
   "source": [
    "from operator import mul\n",
    "def pi_term(k):\n",
    "    return 8 / mul(4 * k - 3, 4 * k - 1)"
   ]
  },
  {
   "cell_type": "markdown",
   "metadata": {},
   "source": [
    "Now if we call `summation` with `pi_term`,"
   ]
  },
  {
   "cell_type": "code",
   "execution_count": 24,
   "metadata": {},
   "outputs": [
    {
     "data": {
      "text/plain": [
       "3.141587653589818"
      ]
     },
     "execution_count": 24,
     "metadata": {},
     "output_type": "execute_result"
    }
   ],
   "source": [
    "summation(100000, pi_term)"
   ]
  },
  {
   "cell_type": "markdown",
   "metadata": {},
   "source": [
    "As we can see, the result above is quite close to `pi`!\n",
    "\n",
    "Now we're going to **define a function that returns a function as a value**. The function `make_adder` takes an argument (a number `n`) and returns a function. "
   ]
  },
  {
   "cell_type": "code",
   "execution_count": 26,
   "metadata": {},
   "outputs": [],
   "source": [
    "def make_adder(n):\n",
    "    \"\"\"\n",
    "    >>> add_three = make_adder(3)\n",
    "    >>> add_three(4)\n",
    "    7\n",
    "    \"\"\"\n",
    "    def adder(k):\n",
    "        return k + n \n",
    "    return adder"
   ]
  },
  {
   "cell_type": "markdown",
   "metadata": {},
   "source": [
    "Above, we have a `def` statement. In it, there's another `def` statement. The line `return k + n` is part of the body of `adder` function. The `return adder` line is part of the body of `make_adder` function. Thus,\n",
    "\n",
    "1. `make_adder` returns a function `adder`\n",
    "2. `adder` returns a number \n",
    "\n",
    "Notice that the `adder` function can use:\n",
    "1. Names that are its formal parameter (`k`), and\n",
    "2. The formal parameter of `make_adder` (`n`), the surrounding (or enclosing) function"
   ]
  },
  {
   "cell_type": "markdown",
   "metadata": {},
   "source": [
    "## Locally Defined Functions\n",
    "Function defined **within other function bodies** are **bound to names in a local frame**.\n",
    "\n",
    "<img src = 'make_adder.jpg' width = 700/>"
   ]
  },
  {
   "cell_type": "markdown",
   "metadata": {},
   "source": [
    "## Call Expressions as Operator Expressions\n",
    "If we run the following,"
   ]
  },
  {
   "cell_type": "code",
   "execution_count": 27,
   "metadata": {},
   "outputs": [
    {
     "data": {
      "text/plain": [
       "3"
      ]
     },
     "execution_count": 27,
     "metadata": {},
     "output_type": "execute_result"
    }
   ],
   "source": [
    "make_adder(1)(2)"
   ]
  },
  {
   "cell_type": "markdown",
   "metadata": {},
   "source": [
    "How does this work?\n",
    "\n",
    "This is a `call expression` with an `operator` that's also a call expression, and an `operand`.\n",
    "\n",
    "<img src = 'make_adder_1.jpg' width = 700/>\n",
    "\n",
    "First, we evaluate the `operator`, which is another `call expression`.\n",
    "\n",
    "<img src = 'make_adder_2.jpg' width = 300/>\n",
    "\n",
    "This means we evaluate its `operator`, the `make_adder` function, and its operand, `1`. This means we call `make_adder` on `1`. \n",
    "\n",
    "<img src = 'make_adder_3.jpg' width = 600/>\n",
    "\n",
    "From this step, we'll get back the `adder` function,\n",
    "\n",
    "<img src = 'make_adder_4.jpg' width = 600/>\n",
    "\n",
    "Last but not least, the `adder` function is called on `2` to give the result `3`.\n",
    "\n",
    "<img src = 'make_adder_5.jpg' width = 400/>"
   ]
  },
  {
   "cell_type": "code",
   "execution_count": 28,
   "metadata": {},
   "outputs": [
    {
     "data": {
      "text/plain": [
       "11"
      ]
     },
     "execution_count": 28,
     "metadata": {},
     "output_type": "execute_result"
    }
   ],
   "source": [
    "make_adder(4)(7)"
   ]
  },
  {
   "cell_type": "code",
   "execution_count": 29,
   "metadata": {},
   "outputs": [
    {
     "data": {
      "text/plain": [
       "2019"
      ]
     },
     "execution_count": 29,
     "metadata": {},
     "output_type": "execute_result"
    }
   ],
   "source": [
    "make_adder(2000)(19)"
   ]
  },
  {
   "cell_type": "markdown",
   "metadata": {},
   "source": [
    "We can also use `make_adder` in 2 separate steps:"
   ]
  },
  {
   "cell_type": "code",
   "execution_count": 30,
   "metadata": {},
   "outputs": [],
   "source": [
    "f = make_adder(19)"
   ]
  },
  {
   "cell_type": "code",
   "execution_count": 31,
   "metadata": {},
   "outputs": [
    {
     "data": {
      "text/plain": [
       "2019"
      ]
     },
     "execution_count": 31,
     "metadata": {},
     "output_type": "execute_result"
    }
   ],
   "source": [
    "f(2000)"
   ]
  },
  {
   "cell_type": "markdown",
   "metadata": {},
   "source": [
    "If we try to look up what `f` is,"
   ]
  },
  {
   "cell_type": "code",
   "execution_count": 32,
   "metadata": {},
   "outputs": [
    {
     "data": {
      "text/plain": [
       "<function __main__.make_adder.<locals>.adder(k)>"
      ]
     },
     "execution_count": 32,
     "metadata": {},
     "output_type": "execute_result"
    }
   ],
   "source": [
    "f"
   ]
  },
  {
   "cell_type": "markdown",
   "metadata": {},
   "source": [
    "## The Purpose of Higher-Order Functions\n",
    "1. **Functions are first-class values**\n",
    "    * They can be passed as arguments\n",
    "    * They can be returned as return values\n",
    "    \n",
    "\n",
    "2. **Higher-order function**: A function that,\n",
    "    * Takes a function as an argument value or\n",
    "    * Returns a function as a return value\n",
    "    \n",
    "Higher-order functions are useful because they can:\n",
    "1. Express general methods of computation\n",
    "    * E.g. how to sum things together without worrying about what we're summing together\n",
    "    \n",
    "2. Remove repetitions from programs\n",
    "    * E.g. we only need to define the active summation once\n",
    "\n",
    "3. We can separate concerns among functions\n",
    "    * We want each functions to have exactly one job"
   ]
  }
 ],
 "metadata": {
  "kernelspec": {
   "display_name": "Python 3",
   "language": "python",
   "name": "python3"
  },
  "language_info": {
   "codemirror_mode": {
    "name": "ipython",
    "version": 3
   },
   "file_extension": ".py",
   "mimetype": "text/x-python",
   "name": "python",
   "nbconvert_exporter": "python",
   "pygments_lexer": "ipython3",
   "version": "3.6.8"
  }
 },
 "nbformat": 4,
 "nbformat_minor": 2
}
