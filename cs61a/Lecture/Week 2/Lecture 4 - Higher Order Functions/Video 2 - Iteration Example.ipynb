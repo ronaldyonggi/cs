{
 "cells": [
  {
   "cell_type": "markdown",
   "metadata": {},
   "source": [
    "# Iteration Example\n",
    "We're going to look at a famous example of iteration."
   ]
  },
  {
   "cell_type": "markdown",
   "metadata": {},
   "source": [
    "## The Fibonacci Sequence\n",
    "Fibonacci was an Italian mathematician considered to be \"the most talented Western mathematician of the Middle Ages\". He introduced Europe to the sequence of Fibonacci numbers, also called **Fibonacci Sequence**.\n",
    "\n",
    "The Fibonacci Sequence starts with `0`, then `1`. Every element after the `0` and `1` is the sum of the previous 2 elements. "
   ]
  },
  {
   "cell_type": "code",
   "execution_count": 8,
   "metadata": {},
   "outputs": [
    {
     "data": {
      "text/plain": [
       "(0, 1, 1, 2, 3, 5, 8, 13, 21, 34, 55, 89, 144, 233, 377, 610, 987)"
      ]
     },
     "execution_count": 8,
     "metadata": {},
     "output_type": "execute_result"
    }
   ],
   "source": [
    "0, 1, 1, 2, 3, 5, 8, 13, 21, 34, 55, 89, 144, 233, 377, 610, 987"
   ]
  },
  {
   "cell_type": "markdown",
   "metadata": {},
   "source": [
    "As we can see above, the `2` is the sum of `1` and `1`, and `34` is the sum of `21` and `13`.\n",
    "\n",
    "Fibonacci didn't invent this sequence. It was discussed by mathematicians long before him, but he made it popular in the West. \n",
    "\n",
    "Every Fibonacci number is associated with its `index`: the position in the Fibonacci Sequence. We call the `0` **The 0th Fibonacci Number**., then the next element as the 1st, the 2nd, and so on. Thus, the 5th Fibonacci Number is `5`. `5` might appear in position `6` in the sequence, but by convention, the `0` is called the 0th Fibonacci number and thus, `5` is the 5th.\n",
    "\n",
    "Fibonacci Sequence has interesting properties. We can make the **Golden Spiral** by tiling together squares whose side length are Fibonacci numbers. If we draw a spiral going through the intersection points of these squares, we'll obtain a forever-expanding spiral that appear particularly well-balanced to the human eye. \n",
    "<img src = 'spiral.png' width = 500/>\n",
    "\n",
    "Now we're going to figure out how to compute the Fibonacci Sequence using a `while` statement.\n",
    "\n",
    "Below is a function that takes in `n`, the **position or index** in the Fibonacci sequence where we want that Fibonacci number, and it computes the `n`th Fibonacci number for `n` $\\ge$ `1`. The function does this by keeping track of various values and then executing the `while` statement."
   ]
  },
  {
   "cell_type": "code",
   "execution_count": 9,
   "metadata": {},
   "outputs": [],
   "source": [
    "def fib(n):\n",
    "    \"\"\"Compute the nth Fibonacci number, for N >= 1.\"\"\"\n",
    "    pred, curr = 0, 1\n",
    "    k = 1\n",
    "    while k < n:\n",
    "        pred, curr = curr, pred + curr\n",
    "        k = k + 1\n",
    "    return curr"
   ]
  },
  {
   "cell_type": "markdown",
   "metadata": {},
   "source": [
    "`pred` stands for predecessor, while `curr` stands for current. We start the function with `0` as the `pred`, which is the 0th Fibonacci number, and `1` as the `curr`, which is the 1st Fibonacci number. The name `k` will be a variable that determines which Fibonacci number the `curr` is currently at; thus, `k` starts at `1` since `curr` starts with the 1st Fibonacci number.\n",
    "\n",
    "When we're designing an iterative function, one of the most important things to consider is \"what information we need to keep track of to perform the iteration?\". "
   ]
  },
  {
   "cell_type": "code",
   "execution_count": 10,
   "metadata": {},
   "outputs": [],
   "source": [
    "pred, curr = 0, 1"
   ]
  },
  {
   "cell_type": "markdown",
   "metadata": {},
   "source": [
    "In this case, to compute the next Fibonacci number, which is the sum of the `pred`ecessor and the `curr`ent Fibonacci number, we need to keep track of both `pred` and `curr`. We start at the beginning of the sequence, the 0th and 1st Fibonacci number, which is `0` and `1`."
   ]
  },
  {
   "cell_type": "code",
   "execution_count": 11,
   "metadata": {},
   "outputs": [],
   "source": [
    "k = 1"
   ]
  },
  {
   "cell_type": "markdown",
   "metadata": {},
   "source": [
    "We also need to keep track of where we are in the sequence. This is where `k` comes in. `k` keeps track of the index. Throughout the execution of the `while k < n` statement, `k` will tell us which Fibonacci number is bound to the name `curr`.\n",
    "\n",
    "The `curr` at the moment is the 1st Fibonacci number, `1`. As we execute the `while` statement, both `k` and `curr` will change. After the changes, `k` can tell us which Fibonacci number `k` is currently at. "
   ]
  },
  {
   "cell_type": "code",
   "execution_count": 12,
   "metadata": {},
   "outputs": [
    {
     "ename": "NameError",
     "evalue": "name 'n' is not defined",
     "output_type": "error",
     "traceback": [
      "\u001b[1;31m---------------------------------------------------------------------------\u001b[0m",
      "\u001b[1;31mNameError\u001b[0m                                 Traceback (most recent call last)",
      "\u001b[1;32m<ipython-input-12-004e39beee06>\u001b[0m in \u001b[0;36m<module>\u001b[1;34m\u001b[0m\n\u001b[1;32m----> 1\u001b[1;33m \u001b[1;32mwhile\u001b[0m \u001b[0mk\u001b[0m \u001b[1;33m<\u001b[0m \u001b[0mn\u001b[0m\u001b[1;33m:\u001b[0m\u001b[1;33m\u001b[0m\u001b[1;33m\u001b[0m\u001b[0m\n\u001b[0m\u001b[0;32m      2\u001b[0m         \u001b[0mpred\u001b[0m\u001b[1;33m,\u001b[0m \u001b[0mcurr\u001b[0m \u001b[1;33m=\u001b[0m \u001b[0mcurr\u001b[0m\u001b[1;33m,\u001b[0m \u001b[0mpred\u001b[0m \u001b[1;33m+\u001b[0m \u001b[0mcurr\u001b[0m\u001b[1;33m\u001b[0m\u001b[1;33m\u001b[0m\u001b[0m\n\u001b[0;32m      3\u001b[0m         \u001b[0mk\u001b[0m \u001b[1;33m=\u001b[0m \u001b[0mk\u001b[0m \u001b[1;33m+\u001b[0m \u001b[1;36m1\u001b[0m\u001b[1;33m\u001b[0m\u001b[1;33m\u001b[0m\u001b[0m\n\u001b[0;32m      4\u001b[0m \u001b[1;32mreturn\u001b[0m \u001b[0mcurr\u001b[0m\u001b[1;33m\u001b[0m\u001b[1;33m\u001b[0m\u001b[0m\n",
      "\u001b[1;31mNameError\u001b[0m: name 'n' is not defined"
     ]
    }
   ],
   "source": [
    "while k < n:\n",
    "        pred, curr = curr, pred + curr\n",
    "        k = k + 1\n",
    "return curr"
   ]
  },
  {
   "cell_type": "markdown",
   "metadata": {},
   "source": [
    "<img src = 'curr.jpg' width = 500/>\n",
    "\n",
    "Here we rebind `pred` and `curr` to be the next 2 numbers in the sequence.\n",
    "1. The new `pred` is now bound to `curr`\n",
    "2. The new `curr`, which is the **next Fibonacci number**, is now bound to the sum of the current one and its predecessor (`curr + pred`).\n",
    "\n",
    "This means the new `curr` will have an index of `1` larger than the previous `curr`. This is why we increment `k` by `1`. \n",
    "\n",
    "The `while` statement allows Python to perform the computation many times until Python finds the `nth` Fibonacci number (until `k` is equal to `n`)\n",
    "\n",
    "In the end, when Python finds the `nth` Fibonacci number, Python binds it to `curr` and the function returns it. \n",
    "\n",
    "In the environment diagram for this example, Python keeps track of the name `pred`, `curr`, `n` and `k` in the local frame for calling the `fib` function. `n` never changes.\n",
    "\n",
    "When run the function, initially `pred` and `curr` is bound to `0` and `1`, respectively, while `k` is bound to `1`. \n",
    "<img src = 'fib_1.jpg' width = 300/>\n",
    "\n",
    "With the code within the `while` loop, Python will track which values are bound to these names every time Python finished executing `k = k + 1`.\n",
    "After the first cycle, we rebind `pred` and `curr` to the next 2 numbers in the sequence. \n",
    "<img src = 'fib_2.jpg' width = 300/>\n",
    "As we can see above, now `curr` is bound to the `k`th Fibonacci number. Since `k` is `2`, then `curr` is now bound to the 2nd Fibonacci number. Python is going to repeat this step until `k` is the same as `n`.\n",
    "<img src = 'fib_last.jpg' width = 400/>\n",
    "When `k` is finally the same as `n`, the expression `k < n` returns `False`. At this point, Python stopped running the `while` loop and we return `curr`, which is bound to the 5th Fibonacci number, `5`. "
   ]
  },
  {
   "cell_type": "markdown",
   "metadata": {},
   "source": [
    "## Discussion Question\n",
    "What if instead of,"
   ]
  },
  {
   "cell_type": "code",
   "execution_count": null,
   "metadata": {},
   "outputs": [],
   "source": [
    "pred, curr = 0, 1\n",
    "k = 1"
   ]
  },
  {
   "cell_type": "code",
   "execution_count": null,
   "metadata": {},
   "outputs": [],
   "source": [
    "We change it to,"
   ]
  },
  {
   "cell_type": "code",
   "execution_count": null,
   "metadata": {},
   "outputs": [],
   "source": [
    "pred, curr = 1, 0\n",
    "k = 0"
   ]
  },
  {
   "cell_type": "markdown",
   "metadata": {},
   "source": [
    "Is this alternative definition of `fib` the same or different from the original `fib`?\n",
    "\n",
    "### Answer\n",
    "This is still the correct implementation of `Fib` for `n` $\\ge$ `1`. This is even better since it also computes the `0`th Fibonacci number. \n",
    "\n",
    "With this implementation, given the input argument `n` is `0`, then when we run the function, `curr` starts with `0`. When Python reaches the `k < n` expression for the first time, the expression returns `False` right away. Thus, the function returns `curr`, which is `0`.\n",
    "\n",
    "The previous implementation can't do this. Given the input argument `n` `0`, `curr` starts at `1` and thus, it will return `1`. \n",
    "\n",
    "### What about with `n` = `5`?\n",
    "\n",
    "With the previous implementation, the function executes the statements within the `while` function `4` times since `k` starts with `1`. With the new implementation, it executes the statements `5` times since `k` starts with `0`. The end result is still the same, `5`."
   ]
  }
 ],
 "metadata": {
  "kernelspec": {
   "display_name": "Python 3",
   "language": "python",
   "name": "python3"
  },
  "language_info": {
   "codemirror_mode": {
    "name": "ipython",
    "version": 3
   },
   "file_extension": ".py",
   "mimetype": "text/x-python",
   "name": "python",
   "nbconvert_exporter": "python",
   "pygments_lexer": "ipython3",
   "version": "3.6.8"
  }
 },
 "nbformat": 4,
 "nbformat_minor": 2
}
