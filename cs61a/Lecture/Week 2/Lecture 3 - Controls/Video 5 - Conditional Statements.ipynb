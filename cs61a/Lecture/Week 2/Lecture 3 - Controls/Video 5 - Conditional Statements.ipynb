{
 "cells": [
  {
   "cell_type": "markdown",
   "metadata": {},
   "source": [
    "# Conditional Statements\n",
    "## Statements\n",
    "We saw **assignment statements** and **`def` statements** already.\n",
    "\n",
    "In general, a `statement` **is something executed by the interpreter to perform an action** (e.g. bind a name to a value, defining a new function). Statements can span for more than one line. \n",
    "\n",
    "**Compound Statements** have the following structure:"
   ]
  },
  {
   "cell_type": "code",
   "execution_count": null,
   "metadata": {},
   "outputs": [],
   "source": [
    "<header>:\n",
    "    <statement>\n",
    "    <statement>\n",
    "    ...\n",
    "<separating header>:\n",
    "    <statement>\n",
    "    <statement>\n",
    "    ...\n",
    "..."
   ]
  },
  {
   "cell_type": "markdown",
   "metadata": {},
   "source": [
    "1. It starts with some `header`\n",
    "2. It has some `statement`s indented\n",
    "3. It has a `separating header` to continue the compound statement \n",
    "    * It has `statement`s indented after it\n",
    "    \n",
    "The whole thing is a `statement`,\n",
    "<img src = 'statement_1.jpg' width = 400/>\n",
    "Within it, a `clause` is a single header followed by some indented `statement`\n",
    "<img src = 'clause.jpg' width = 400/>\n",
    "The indented `statement`s are called the `suite` of the `clause`.\n",
    "<img src = 'suite.jpg' width = 450/>\n",
    "\n",
    "1. The first header determines a statement's type, so we can tell what kind of statement we're dealing with.\n",
    "2. The `header` of a `clause` controls the suite that follows.\n",
    "3. `Def` statements are **compound statements**\n",
    "    * They have a `suite`, which we call the `body` of the function being defined"
   ]
  },
  {
   "cell_type": "markdown",
   "metadata": {},
   "source": [
    "## Compound Statements\n",
    "1. When we look at compound statement and we're interested with the suite, often times we execute the suite since it's a **sequence of statements**\n",
    "2. To **execute** a suite means to execute its sequence of statements in order (one after the other)\n",
    "\n",
    "#### Execution Rule for a sequence of statements:\n",
    "1. Execute the first statement\n",
    "2. Unless directed otherwise, execute the rest"
   ]
  },
  {
   "cell_type": "markdown",
   "metadata": {},
   "source": [
    "## Conditional Statements\n",
    "Now we'll discuss about a particular type of statement that we have never seen before, a **conditional statement**.\n",
    "\n",
    "\n",
    "## Demo\n",
    "Here we write a function that allows us the conditional statement to compute absolute values,"
   ]
  },
  {
   "cell_type": "code",
   "execution_count": null,
   "metadata": {},
   "outputs": [],
   "source": [
    "def absolute_value(x):\n",
    "    \"\"\"Return the absolute value of x.\"\"\""
   ]
  },
  {
   "cell_type": "markdown",
   "metadata": {},
   "source": [
    "We're going to write this function by looking at whether `x` is less, greater, or equal than `0`."
   ]
  },
  {
   "cell_type": "code",
   "execution_count": null,
   "metadata": {},
   "outputs": [],
   "source": [
    "def absolute_value(x):\n",
    "    \"\"\"Return the absolute value of x.\"\"\"\n",
    "    if x < 0:\n",
    "        return -x\n",
    "    elif x == 0:\n",
    "        return 0\n",
    "    else:\n",
    "        return x"
   ]
  },
  {
   "cell_type": "markdown",
   "metadata": {},
   "source": [
    "Now we can try using the function above,"
   ]
  },
  {
   "cell_type": "code",
   "execution_count": null,
   "metadata": {},
   "outputs": [],
   "source": [
    "absolute_value(-2)"
   ]
  },
  {
   "cell_type": "code",
   "execution_count": null,
   "metadata": {},
   "outputs": [],
   "source": [
    "absolute_value(0)"
   ]
  },
  {
   "cell_type": "code",
   "execution_count": null,
   "metadata": {},
   "outputs": [],
   "source": [
    "absolute_value(3)"
   ]
  },
  {
   "cell_type": "markdown",
   "metadata": {},
   "source": [
    "Of course there's the built-in function `abs` all this time, but we wrote the function above for example purposes.\n",
    "\n",
    "Let's try to understand how this works.\n",
    "\n",
    "<img src = 'conditional.jpg' width = 500/>\n",
    "\n",
    "Within the body of this function is `1` statement that includes \n",
    "1. `3` clauses\n",
    "2. `3` headers (the first line of each clauses. E.g. `if x < 0`, `elif x == 0`), and \n",
    "3. `3` suites (each of which is just a `return` statement`\n",
    "\n",
    "### Execution rule for conditional statements:\n",
    "Consider each clause in order.\n",
    "1. Evaluate the `header`'s expression\n",
    "2. If it is a true value, execute the `suite` and skip the remaining clauses \n",
    "\n",
    "In conditional statements, only 1 of the suites will be executed.\n",
    "\n",
    "### Syntax Tips for Conditional Statements:\n",
    "1. Always start with `if` clause\n",
    "2. We can have `0` or more `elif` clauses, and\n",
    "3. `0` or `1` `else` clause, always at the end"
   ]
  },
  {
   "cell_type": "markdown",
   "metadata": {},
   "source": [
    "## Boolean Contexts\n",
    "Let's understand the execution rule deeper.\n",
    "<img src = 'george.jpg' width = 200/>\n",
    "\n",
    "George Boole, an English mathematician, philosopher, and logician, is the founder of one of the most important concept in computer science: **Boolean Contexts**.\n",
    "\n",
    "**Boolean Contexts** are parts within the Python code where we write an expression, but all that matters about the expression is whether if it's `True` or `False`. \n",
    "<img src = 'boolean_context.jpg' width = 400/>\n",
    "In the conditional statement above, there are 2 boolean contexts, one in each header except for the `else` header.\n",
    "\n",
    "Here we have expressions, but we don't care about the values themselves. We only care about whether that value is a `True` value or a `False` value. \n",
    "\n",
    "**False values in Python**: `False`, `0`, `''` (empty string), `None` (there are more than these)\n",
    "\n",
    "**True values in Python**: Anything that's not a `False` value\n",
    "\n",
    "For more details about **Boolean Contexts**, read Section 1.5.4!"
   ]
  }
 ],
 "metadata": {
  "kernelspec": {
   "display_name": "Python 3",
   "language": "python",
   "name": "python3"
  },
  "language_info": {
   "codemirror_mode": {
    "name": "ipython",
    "version": 3
   },
   "file_extension": ".py",
   "mimetype": "text/x-python",
   "name": "python",
   "nbconvert_exporter": "python",
   "pygments_lexer": "ipython3",
   "version": "3.6.8"
  }
 },
 "nbformat": 4,
 "nbformat_minor": 2
}
