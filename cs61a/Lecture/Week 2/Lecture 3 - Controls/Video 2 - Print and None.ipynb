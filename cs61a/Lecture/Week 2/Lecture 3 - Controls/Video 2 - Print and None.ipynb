{
 "cells": [
  {
   "cell_type": "markdown",
   "metadata": {},
   "source": [
    "# Print and None\n",
    "## Demo\n",
    "If we type an `expression` into the interactive Python interpreter, Python will display the `value` of the `expression`."
   ]
  },
  {
   "cell_type": "code",
   "execution_count": 1,
   "metadata": {},
   "outputs": [
    {
     "data": {
      "text/plain": [
       "-2"
      ]
     },
     "execution_count": 1,
     "metadata": {},
     "output_type": "execute_result"
    }
   ],
   "source": [
    "-2"
   ]
  },
  {
   "cell_type": "markdown",
   "metadata": {},
   "source": [
    "If we type `print(-2)`,"
   ]
  },
  {
   "cell_type": "code",
   "execution_count": 2,
   "metadata": {},
   "outputs": [
    {
     "name": "stdout",
     "output_type": "stream",
     "text": [
      "-2\n"
     ]
    }
   ],
   "source": [
    "print(-2)"
   ]
  },
  {
   "cell_type": "markdown",
   "metadata": {},
   "source": [
    "Then we will obtain the same output. However, 2 different things have happened here! Let's try to understand the difference.\n",
    "\n",
    "If we type the following,"
   ]
  },
  {
   "cell_type": "code",
   "execution_count": 3,
   "metadata": {},
   "outputs": [
    {
     "data": {
      "text/plain": [
       "'Go Bears!'"
      ]
     },
     "execution_count": 3,
     "metadata": {},
     "output_type": "execute_result"
    }
   ],
   "source": [
    "'Go Bears!'"
   ]
  },
  {
   "cell_type": "markdown",
   "metadata": {},
   "source": [
    "Then we obtain a value that is exactly the same as the expression. The `expression` is a **string literall**, and thus the value is a **string value**. On the other hand, if we do the following,"
   ]
  },
  {
   "cell_type": "code",
   "execution_count": 4,
   "metadata": {},
   "outputs": [
    {
     "name": "stdout",
     "output_type": "stream",
     "text": [
      "Go Bears!\n"
     ]
    }
   ],
   "source": [
    "print('Go Bears!')"
   ]
  },
  {
   "cell_type": "markdown",
   "metadata": {},
   "source": [
    "Then we'll obtain almost the same thing, without the quotation mark. This way, there has to be a difference between evaluating and printing an expression. We can see more of this difference if we analyze the special value `None`"
   ]
  },
  {
   "cell_type": "code",
   "execution_count": 5,
   "metadata": {},
   "outputs": [],
   "source": [
    "None"
   ]
  },
  {
   "cell_type": "markdown",
   "metadata": {},
   "source": [
    "`None` represents nothing. If we run the cell above, nothing happens! However, if we `print` it out,"
   ]
  },
  {
   "cell_type": "code",
   "execution_count": 6,
   "metadata": {},
   "outputs": [
    {
     "name": "stdout",
     "output_type": "stream",
     "text": [
      "None\n"
     ]
    }
   ],
   "source": [
    "print(None)"
   ]
  },
  {
   "cell_type": "markdown",
   "metadata": {},
   "source": [
    "Then we will actually obtain `None`! \n",
    "\n",
    "It turns out that Python has a rule of automatically displaying the value of any expression we type in. Thus, Python automatically displayed `-2` and `'Go Bears!` above. `None` is a special case since nothing is displayed automatically; however, if we `print` it, we can make it appear. \n",
    "\n",
    "What else can `print` do?\n",
    "\n",
    "`Print` can print multiple values,"
   ]
  },
  {
   "cell_type": "code",
   "execution_count": 7,
   "metadata": {},
   "outputs": [
    {
     "name": "stdout",
     "output_type": "stream",
     "text": [
      "1 2 3\n"
     ]
    }
   ],
   "source": [
    "print(1, 2, 3)"
   ]
  },
  {
   "cell_type": "markdown",
   "metadata": {},
   "source": [
    "It can print multiple `None`s,"
   ]
  },
  {
   "cell_type": "code",
   "execution_count": 8,
   "metadata": {},
   "outputs": [
    {
     "name": "stdout",
     "output_type": "stream",
     "text": [
      "None None\n"
     ]
    }
   ],
   "source": [
    "print(None, None)"
   ]
  },
  {
   "cell_type": "markdown",
   "metadata": {},
   "source": [
    "Below is an interesting case: what will happen if the following cell is run?"
   ]
  },
  {
   "cell_type": "code",
   "execution_count": 9,
   "metadata": {},
   "outputs": [
    {
     "name": "stdout",
     "output_type": "stream",
     "text": [
      "1\n",
      "2\n",
      "None None\n"
     ]
    }
   ],
   "source": [
    "print(print(1), print(2))"
   ]
  },
  {
   "cell_type": "markdown",
   "metadata": {},
   "source": [
    "What happened here?"
   ]
  },
  {
   "cell_type": "markdown",
   "metadata": {},
   "source": [
    "## None Indicates that Nothing is Returned\n",
    "First of all, `None` indicates that nothing has been returned from some function / evaluation. The special value `None` represents nothing in Python.\n",
    "\n",
    "A function that does not explicitly return a value will return `None`.\n",
    "\n",
    "**Careful: `None` is not displayed by the interpreter automatically as the value of an expression.**\n",
    "\n",
    "If we try to define the following function,"
   ]
  },
  {
   "cell_type": "code",
   "execution_count": 10,
   "metadata": {},
   "outputs": [],
   "source": [
    "def does_not_square(x):\n",
    "    x * x"
   ]
  },
  {
   "cell_type": "markdown",
   "metadata": {},
   "source": [
    "this function returns nothing since there's no **return** statement anywhere within the body of the function.\n",
    "<img src = 'no_return.jpg' width = 400/>\n",
    "Thus when we call the function,"
   ]
  },
  {
   "cell_type": "code",
   "execution_count": 11,
   "metadata": {},
   "outputs": [],
   "source": [
    "does_not_square(4)"
   ]
  },
  {
   "cell_type": "markdown",
   "metadata": {},
   "source": [
    "Nothing happens! We should have obtained a `None`, but recall that **`None` is not displayed by the interpreter automatically as the valueof an expression**.\n",
    "<img src = 'no_display.jpg' width = 700/>\n",
    "Now if we run the following,"
   ]
  },
  {
   "cell_type": "code",
   "execution_count": 12,
   "metadata": {},
   "outputs": [],
   "source": [
    "sixteen = does_not_square(4)"
   ]
  },
  {
   "cell_type": "markdown",
   "metadata": {},
   "source": [
    "When `does_not_square(4)` is called, it will return `None`. Thus, the name `sixteen` is now bound to the value `None`. As we can see below, if we call `sixteen`, nothing will be displayed."
   ]
  },
  {
   "cell_type": "code",
   "execution_count": 13,
   "metadata": {},
   "outputs": [],
   "source": [
    "sixteen"
   ]
  },
  {
   "cell_type": "markdown",
   "metadata": {},
   "source": [
    "And if we try the following,"
   ]
  },
  {
   "cell_type": "code",
   "execution_count": 14,
   "metadata": {},
   "outputs": [
    {
     "ename": "TypeError",
     "evalue": "unsupported operand type(s) for +: 'NoneType' and 'int'",
     "output_type": "error",
     "traceback": [
      "\u001b[1;31m---------------------------------------------------------------------------\u001b[0m",
      "\u001b[1;31mTypeError\u001b[0m                                 Traceback (most recent call last)",
      "\u001b[1;32m<ipython-input-14-2e9e77abc791>\u001b[0m in \u001b[0;36m<module>\u001b[1;34m\u001b[0m\n\u001b[1;32m----> 1\u001b[1;33m \u001b[0msixteen\u001b[0m \u001b[1;33m+\u001b[0m \u001b[1;36m4\u001b[0m\u001b[1;33m\u001b[0m\u001b[1;33m\u001b[0m\u001b[0m\n\u001b[0m",
      "\u001b[1;31mTypeError\u001b[0m: unsupported operand type(s) for +: 'NoneType' and 'int'"
     ]
    }
   ],
   "source": [
    "sixteen + 4"
   ]
  },
  {
   "cell_type": "markdown",
   "metadata": {},
   "source": [
    "Above, we obtain `TypeError` that explains that we tried to add together a `None` and and integer. This kind of error appear when we try adding something with nothing, which we cannot do. "
   ]
  },
  {
   "cell_type": "markdown",
   "metadata": {},
   "source": [
    "## Pure Functions & Non-Pure Functions\n",
    "There are 2 kinds of functions in Python:\n",
    "\n",
    "### Pure Functions\n",
    "\n",
    "**Pure Functions** only return values. An example of a **pure function** is the function `abs`, which computes the absolute value of its argument. The `abs` function takes in `-2` and returns `2`. The absolute value of `-2` is `2`.\n",
    "<img src = 'abs.jpg' width = 500>\n",
    "**Pure functions** can be described as a **closed pipe** : it goes from input to output. \n",
    "\n",
    "`Pow` is another pure function. With `pow`, we pass in 2 arguments, and we obtain a return value. \n",
    "<img src = 'pow.jpg' width = 500>\n",
    "\n",
    "### Non-Pure Functions\n",
    "\n",
    "**Non-pure functions** have side effects. \n",
    "\n",
    "`Print` function is an example of a non-pure function. In this example, the `print` function takes in an argument `-2` and returns `None`. However, `print` also has a side effect of displaying the expression that was passed in as the argument.\n",
    "\n",
    "<img src = 'print.jpg' width = 500/>\n",
    "\n",
    "The side effect isn't a value. It's just something that happen that's a consequence of calling the function."
   ]
  },
  {
   "cell_type": "markdown",
   "metadata": {},
   "source": [
    "## Nested Expressions with Print\n",
    "Now we're going back to the nested `print` below,"
   ]
  },
  {
   "cell_type": "code",
   "execution_count": null,
   "metadata": {},
   "outputs": [],
   "source": [
    "print(print(1), print(2))"
   ]
  },
  {
   "cell_type": "markdown",
   "metadata": {},
   "source": [
    "We will try to analyze what's going on using an expression tree.\n",
    "<img src = 'tree_1.jpg' width = 350/>\n",
    "\n",
    "### Evaluate the 1st operand: `print(1)`\n",
    "\n",
    "In order to obtain the `value` of this nested call expression, we first evaluate the `operator`, a function that prints.\n",
    "<img src = 'tree_2.jpg' width = 350/>\n",
    "\n",
    "then the first `operand`, which is another call expression `print(1)`. We evaluate this expression by evaluating its operator `print` and its operand `1`, and thus we have the function `print` applied to `1`. \n",
    "<img src = 'tree_3.jpg' width = 250/>\n",
    "\n",
    "When we apply `print` to the number `1`, we have a **side effect** of displaying `1`. \n",
    "<img src = 'tree_4.jpg' width = 250/>\n",
    "This is how Python displayed `1` on the first line of the output. When Python evaluated the `operand` subexpression `print(1)`, `1` is diplayed.\n",
    "\n",
    "When Python evaluated `print(1)`, we also obtained the value `None` (because `None` is what `print` always returns). \n",
    "<img src = 'tree_5.jpg' width = 250/>\n",
    "\n",
    "### Evaluate the 2nd operand: `print(2)`\n",
    "Now we evalute the 2nd operand, which is also a call expression `print(2)`. Similar to `print(1)`, when we apply `print` to the number `2` we have a **side effect** of displaying `2` and we obtain the value `None`.\n",
    "<img src = 'tree_6.jpg' width = 250/>\n",
    "\n",
    "### Back to the main expression\n",
    "Now back to the main expression, we have the function `print` applied to the value `None` and `None`, or `print(None, None)`. When we do this, the side effect is that Python displays \"None None\".\n",
    "<img src = 'tree_7.jpg' width = 300/>\n",
    "\n",
    "We also obtain the value of evaluating the `print(None, None)`, which is `None`. However, this obtained value `None` is not displayed because the interactive interpreter for Python does not automatically display `None` if it's the value of an expression typed at the prompt. \n",
    "<img src = 'tree_last.jpg' width = 400/>"
   ]
  }
 ],
 "metadata": {
  "kernelspec": {
   "display_name": "Python 3",
   "language": "python",
   "name": "python3"
  },
  "language_info": {
   "codemirror_mode": {
    "name": "ipython",
    "version": 3
   },
   "file_extension": ".py",
   "mimetype": "text/x-python",
   "name": "python",
   "nbconvert_exporter": "python",
   "pygments_lexer": "ipython3",
   "version": "3.6.8"
  }
 },
 "nbformat": 4,
 "nbformat_minor": 2
}
