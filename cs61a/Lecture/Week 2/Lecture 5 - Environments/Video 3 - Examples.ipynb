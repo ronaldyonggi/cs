{
 "cells": [
  {
   "cell_type": "markdown",
   "metadata": {},
   "source": [
    "## Example - Higher Order Function\n",
    "We have the following code,"
   ]
  },
  {
   "cell_type": "code",
   "execution_count": 7,
   "metadata": {},
   "outputs": [],
   "source": [
    "def repeat(f, x):\n",
    "    while f(x) != x: # while f(x) does not equal to x\n",
    "        x = f(x)\n",
    "    return x\n",
    "\n",
    "def g(y):\n",
    "    # '//' is a floor division that get rids of remainder\n",
    "    return (y + 5) // 3"
   ]
  },
  {
   "cell_type": "markdown",
   "metadata": {},
   "source": [
    "If we call the following,"
   ]
  },
  {
   "cell_type": "code",
   "execution_count": 8,
   "metadata": {},
   "outputs": [
    {
     "data": {
      "text/plain": [
       "2"
      ]
     },
     "execution_count": 8,
     "metadata": {},
     "output_type": "execute_result"
    }
   ],
   "source": [
    "repeat(g, 5)"
   ]
  },
  {
   "cell_type": "markdown",
   "metadata": {},
   "source": [
    "How did the result above happen? Let's analyze with environment diagram!"
   ]
  },
  {
   "cell_type": "code",
   "execution_count": 9,
   "metadata": {},
   "outputs": [
    {
     "data": {
      "text/html": [
       "\n",
       "        <iframe\n",
       "            width=\"100%\"\n",
       "            height=\"350\"\n",
       "            src=\"http://pythontutor.com/iframe-embed.html#code=%0Adef%20repeat%28f%2C%20x%29%3A%0A%20%20%20%20while%20f%28x%29%20%21%3D%20x%3A%20%23%20while%20f%28x%29%20does%20not%20equal%20to%20x%0A%20%20%20%20%20%20%20%20x%20%3D%20f%28x%29%0A%20%20%20%20return%20x%0A%0Adef%20g%28y%29%3A%0A%20%20%20%20%23%20%27//%27%20is%20a%20floor%20division%20that%20get%20rids%20of%20remainder%0A%20%20%20%20return%20%28y%20%2B%205%29%20//%203%0A%0Aresult%20%3D%20repeat%28g%2C%205%29%0A&origin=opt-frontend.js&cumulative=false&heapPrimitives=false&textReferences=false&curInstr=0&&verticalStack=false&py=3&rawInputLstJSON=%5B%5D&codeDivWidth=50%25&codeDivHeight=100%25\"\n",
       "            frameborder=\"0\"\n",
       "            allowfullscreen\n",
       "        ></iframe>\n",
       "        "
      ],
      "text/plain": [
       "<IPython.lib.display.IFrame at 0x55c4ff0>"
      ]
     },
     "metadata": {},
     "output_type": "display_data"
    }
   ],
   "source": [
    "%%tutor --lang python3\n",
    "\n",
    "def repeat(f, x):\n",
    "    while f(x) != x: # while f(x) does not equal to x\n",
    "        x = f(x)\n",
    "    return x\n",
    "\n",
    "def g(y):\n",
    "    # '//' is a floor division that get rids of remainder\n",
    "    return (y + 5) // 3\n",
    "\n",
    "result = repeat(g, 5)"
   ]
  },
  {
   "cell_type": "markdown",
   "metadata": {},
   "source": [
    "* In steps 1-3, Python binds the function names to the functions.\n",
    "* In step 4, Python creates a new environment named `repeat`, which has the formal parameters `f` and `x` bound to the function `g` and the number `5`, respectively.\n",
    "* In step 5, Python executes the body of the `repeat` function, which involves calling the `f(x)` within the `while` loop. At this point, `f` is the `g` function, while `x` is `5`.\n",
    "* In step 6, Python creates a new frame `g` with the formal parameter `y` = `5`. Step 7-8 evaluates `g` on `5`,\n",
    "\n",
    "$$ \\text{(5 + 5) // 3 = 3 }$$\n",
    "\n",
    "* In step 9, we see that `f(x)` = 3, which is not equal to `x`, which is currently bound to `5`.\n",
    "* In step 13 Python rebinds `x` in `repeat` frame to `f(x)`, which means `x` is now `3`.\n",
    "* In step 14, Python goes back to the `while` statement, calling `f(x)` again. However this time, `x` is `3`. Thus, Python now calls `g` on `3`. \n",
    "* In step 16, we see that the result of calling `g` on `3` is `2`.\n",
    "\n",
    "$$ \\text{(3 + 5) // 3 = 2} $$\n",
    "\n",
    "* In step 17, Python sees that the result of `f(x)`, `2`, is not equal to `x`, `3`.\n",
    "* In step 21, Python rebinds `x` to the result of `f(x)`, `2`.\n",
    "* In step 22, Python goes back to the `while statement` calling `f(x)` with `x` = `2`\n",
    "* In step 24, the result of calling `g` on `2` is `2`.\n",
    "\n",
    "$$ \\text{(2 + 5) // 3 = 2} $$\n",
    "\n",
    "* In step 25, Python sees that the result of `f(x)` is `2`. With `x` currently also `2`, the function `repeat` finally returns `2`.\n",
    "* In last step, Python binds the return value of `repeat`, `2`, to the name `result`\n"
   ]
  }
 ],
 "metadata": {
  "kernelspec": {
   "display_name": "Python 3",
   "language": "python",
   "name": "python3"
  },
  "language_info": {
   "codemirror_mode": {
    "name": "ipython",
    "version": 3
   },
   "file_extension": ".py",
   "mimetype": "text/x-python",
   "name": "python",
   "nbconvert_exporter": "python",
   "pygments_lexer": "ipython3",
   "version": "3.6.8"
  }
 },
 "nbformat": 4,
 "nbformat_minor": 2
}
