{
 "cells": [
  {
   "cell_type": "markdown",
   "metadata": {},
   "source": [
    "# Local Names\n",
    "Formal parameters of functions have local scope. \n",
    "\n",
    "Suppose we have the following function,"
   ]
  },
  {
   "cell_type": "code",
   "execution_count": 16,
   "metadata": {},
   "outputs": [],
   "source": [
    "def f(x, y):\n",
    "    return g(x)\n",
    "\n",
    "def g(a):\n",
    "    return a + y"
   ]
  },
  {
   "cell_type": "markdown",
   "metadata": {},
   "source": [
    "If we try to call the function above,"
   ]
  },
  {
   "cell_type": "code",
   "execution_count": 17,
   "metadata": {},
   "outputs": [
    {
     "ename": "NameError",
     "evalue": "name 'y' is not defined",
     "output_type": "error",
     "traceback": [
      "\u001b[1;31m---------------------------------------------------------------------------\u001b[0m",
      "\u001b[1;31mNameError\u001b[0m                                 Traceback (most recent call last)",
      "\u001b[1;32m<ipython-input-17-c9c271413adf>\u001b[0m in \u001b[0;36m<module>\u001b[1;34m\u001b[0m\n\u001b[1;32m----> 1\u001b[1;33m \u001b[0mf\u001b[0m\u001b[1;33m(\u001b[0m\u001b[1;36m1\u001b[0m\u001b[1;33m,\u001b[0m \u001b[1;36m2\u001b[0m\u001b[1;33m)\u001b[0m\u001b[1;33m\u001b[0m\u001b[1;33m\u001b[0m\u001b[0m\n\u001b[0m",
      "\u001b[1;32m<ipython-input-16-1b701f15d5bb>\u001b[0m in \u001b[0;36mf\u001b[1;34m(x, y)\u001b[0m\n\u001b[0;32m      1\u001b[0m \u001b[1;32mdef\u001b[0m \u001b[0mf\u001b[0m\u001b[1;33m(\u001b[0m\u001b[0mx\u001b[0m\u001b[1;33m,\u001b[0m \u001b[0my\u001b[0m\u001b[1;33m)\u001b[0m\u001b[1;33m:\u001b[0m\u001b[1;33m\u001b[0m\u001b[1;33m\u001b[0m\u001b[0m\n\u001b[1;32m----> 2\u001b[1;33m     \u001b[1;32mreturn\u001b[0m \u001b[0mg\u001b[0m\u001b[1;33m(\u001b[0m\u001b[0mx\u001b[0m\u001b[1;33m)\u001b[0m\u001b[1;33m\u001b[0m\u001b[1;33m\u001b[0m\u001b[0m\n\u001b[0m\u001b[0;32m      3\u001b[0m \u001b[1;33m\u001b[0m\u001b[0m\n\u001b[0;32m      4\u001b[0m \u001b[1;32mdef\u001b[0m \u001b[0mg\u001b[0m\u001b[1;33m(\u001b[0m\u001b[0ma\u001b[0m\u001b[1;33m)\u001b[0m\u001b[1;33m:\u001b[0m\u001b[1;33m\u001b[0m\u001b[1;33m\u001b[0m\u001b[0m\n\u001b[0;32m      5\u001b[0m     \u001b[1;32mreturn\u001b[0m \u001b[0ma\u001b[0m \u001b[1;33m+\u001b[0m \u001b[0my\u001b[0m\u001b[1;33m\u001b[0m\u001b[1;33m\u001b[0m\u001b[0m\n",
      "\u001b[1;32m<ipython-input-16-1b701f15d5bb>\u001b[0m in \u001b[0;36mg\u001b[1;34m(a)\u001b[0m\n\u001b[0;32m      3\u001b[0m \u001b[1;33m\u001b[0m\u001b[0m\n\u001b[0;32m      4\u001b[0m \u001b[1;32mdef\u001b[0m \u001b[0mg\u001b[0m\u001b[1;33m(\u001b[0m\u001b[0ma\u001b[0m\u001b[1;33m)\u001b[0m\u001b[1;33m:\u001b[0m\u001b[1;33m\u001b[0m\u001b[1;33m\u001b[0m\u001b[0m\n\u001b[1;32m----> 5\u001b[1;33m     \u001b[1;32mreturn\u001b[0m \u001b[0ma\u001b[0m \u001b[1;33m+\u001b[0m \u001b[0my\u001b[0m\u001b[1;33m\u001b[0m\u001b[1;33m\u001b[0m\u001b[0m\n\u001b[0m",
      "\u001b[1;31mNameError\u001b[0m: name 'y' is not defined"
     ]
    }
   ],
   "source": [
    "f(1, 2)"
   ]
  },
  {
   "cell_type": "markdown",
   "metadata": {},
   "source": [
    "From the error message above, Python is saying that it is unable to find the value of `y` when running the function `g(a)`.\n",
    "\n",
    "Let's analyze the environment diagram,"
   ]
  },
  {
   "cell_type": "code",
   "execution_count": 18,
   "metadata": {},
   "outputs": [
    {
     "data": {
      "text/html": [
       "\n",
       "        <iframe\n",
       "            width=\"100%\"\n",
       "            height=\"350\"\n",
       "            src=\"http://pythontutor.com/iframe-embed.html#code=%0Adef%20make_adder%28n%29%3A%0A%20%20%20%20def%20adder%28k%29%3A%0A%20%20%20%20%20%20%20%20return%20k%20%2B%20n%0A%20%20%20%20return%20adder%0A%0Aadd_three%20%3D%20make_adder%283%29%0Aresult%20%3D%20add_three%284%29%0A&origin=opt-frontend.js&cumulative=false&heapPrimitives=false&textReferences=false&curInstr=0&&verticalStack=false&py=3&rawInputLstJSON=%5B%5D&codeDivWidth=50%25&codeDivHeight=100%25\"\n",
       "            frameborder=\"0\"\n",
       "            allowfullscreen\n",
       "        ></iframe>\n",
       "        "
      ],
      "text/plain": [
       "<IPython.lib.display.IFrame at 0x55c4d10>"
      ]
     },
     "metadata": {},
     "output_type": "display_data"
    }
   ],
   "source": [
    "%%tutor --lang python3\n",
    "\n",
    "def make_adder(n):\n",
    "    def adder(k):\n",
    "        return k + n\n",
    "    return adder\n",
    "\n",
    "add_three = make_adder(3)\n",
    "result = add_three(4)"
   ]
  },
  {
   "cell_type": "markdown",
   "metadata": {},
   "source": [
    "* In step 1-3, Python binds the functions `f(x, y)` and `g(a)` to the names `f` and `g`.\n",
    "* In step 4, Python executes the line `result = f(1, 2)`, which involves calling `f` on `1` and `2`.\n",
    "    * Python creates a new frame `f` with the formal parameter `x` and `y` bound to `1` and `2`, respectively\n",
    "* In step 5, Python executes the body of the function `f(x, y)`, which calls `g(x)`\n",
    "    * In the frame `g`, `a` is bound to `1`\n",
    "* In step 6, Python is about to execute the body of the function `g` within the frame `g`, which is `return a + y`.\n",
    "    * However, Python couldn't find `y` \n",
    "\n",
    "We can see that `y` is within the frame `f`. Why Python says it can't find `y`? **Because the frame `f` is not in the current environment**."
   ]
  },
  {
   "cell_type": "markdown",
   "metadata": {},
   "source": [
    "## Local Names are not visible to other non-nested functions\n",
    "During the moment the error occured,\n",
    "\n",
    "<img src = 'error.jpg' width = 200/>\n",
    "\n",
    "<img src = 'current_env.jpg' width = 400/>\n",
    "\n",
    "As we can see, the current environment consists of the local frame `f` (labeled #1) followed by the `Global` frame (labeled #2)\n",
    "\n",
    "<img src = 'error_frame.jpg' width = 400/>\n",
    "\n",
    "When Python tries to look up the name `y`,\n",
    "1. Python looks at the frame `g` and sees that it's not there\n",
    "2. Then Python looks at the `global` frame and sees that it's not there either.\n",
    "3. Thus, we obtain a message that `y` is nowhere to be found!\n",
    "\n",
    "**An environment is a sequence of frames**. The environment created by calling a top-level function (no `def` within `def`) consists of a local frame, followed by the global frame\n",
    "\n",
    "Python can't refer to the `y` that is local to the body of the function `f(x, y)` from the body of the function `g(a)`.\n",
    "\n",
    "Contrast to the `make_adder` function,"
   ]
  },
  {
   "cell_type": "code",
   "execution_count": null,
   "metadata": {},
   "outputs": [],
   "source": [
    "def make_adder(n):\n",
    "    def adder(k):\n",
    "        return k + n\n",
    "    return adder"
   ]
  },
  {
   "cell_type": "markdown",
   "metadata": {},
   "source": [
    "The body of `adder` can refer to the `n` because `adder` is nested within `make_adder`."
   ]
  }
 ],
 "metadata": {
  "kernelspec": {
   "display_name": "Python 3",
   "language": "python",
   "name": "python3"
  },
  "language_info": {
   "codemirror_mode": {
    "name": "ipython",
    "version": 3
   },
   "file_extension": ".py",
   "mimetype": "text/x-python",
   "name": "python",
   "nbconvert_exporter": "python",
   "pygments_lexer": "ipython3",
   "version": "3.6.8"
  }
 },
 "nbformat": 4,
 "nbformat_minor": 2
}
