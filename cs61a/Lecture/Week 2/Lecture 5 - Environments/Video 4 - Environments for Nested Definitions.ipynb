{
 "cells": [
  {
   "cell_type": "markdown",
   "metadata": {},
   "source": [
    "# Environments for Nested Definitions\n",
    "Recall last time we defined the `make_adder` function, which\n",
    "1. Takes in a formal parameter `n`\n",
    "2. Creates another function within, `adder(k)`, which returns `k + n`\n",
    "3. Returns the `adder` function, which was defined within its (`make_adder`) body"
   ]
  },
  {
   "cell_type": "code",
   "execution_count": 10,
   "metadata": {},
   "outputs": [],
   "source": [
    "def make_adder(n):\n",
    "    def adder(k):\n",
    "        return k + n\n",
    "    return adder"
   ]
  },
  {
   "cell_type": "markdown",
   "metadata": {},
   "source": [
    "If we load this function, we can create a function `add_three` by calling `make_adder` on `3`,"
   ]
  },
  {
   "cell_type": "code",
   "execution_count": 11,
   "metadata": {},
   "outputs": [
    {
     "data": {
      "text/plain": [
       "<function __main__.make_adder.<locals>.adder(k)>"
      ]
     },
     "execution_count": 11,
     "metadata": {},
     "output_type": "execute_result"
    }
   ],
   "source": [
    "add_three = make_adder(3)\n",
    "add_three"
   ]
  },
  {
   "cell_type": "markdown",
   "metadata": {},
   "source": [
    "And now we have `add_three`, a function that adds 3 to things."
   ]
  },
  {
   "cell_type": "code",
   "execution_count": 12,
   "metadata": {},
   "outputs": [
    {
     "data": {
      "text/plain": [
       "7"
      ]
     },
     "execution_count": 12,
     "metadata": {},
     "output_type": "execute_result"
    }
   ],
   "source": [
    "add_three(4)"
   ]
  },
  {
   "cell_type": "code",
   "execution_count": 13,
   "metadata": {},
   "outputs": [
    {
     "data": {
      "text/plain": [
       "10"
      ]
     },
     "execution_count": 13,
     "metadata": {},
     "output_type": "execute_result"
    }
   ],
   "source": [
    "add_three(7)"
   ]
  },
  {
   "cell_type": "markdown",
   "metadata": {},
   "source": [
    "We see that part of the function `add_three` is the number `3` that gets added in. How do we have a function that has data in it? Let's analyze using environment diagram!"
   ]
  },
  {
   "cell_type": "code",
   "execution_count": 14,
   "metadata": {},
   "outputs": [
    {
     "data": {
      "text/html": [
       "\n",
       "        <iframe\n",
       "            width=\"100%\"\n",
       "            height=\"350\"\n",
       "            src=\"http://pythontutor.com/iframe-embed.html#code=%0Adef%20make_adder%28n%29%3A%0A%20%20%20%20def%20adder%28k%29%3A%0A%20%20%20%20%20%20%20%20return%20k%20%2B%20n%0A%20%20%20%20return%20adder%0A%0Aadd_three%20%3D%20make_adder%283%29%0Aresult%20%3D%20add_three%284%29%0A&origin=opt-frontend.js&cumulative=false&heapPrimitives=false&textReferences=false&curInstr=0&&verticalStack=false&py=3&rawInputLstJSON=%5B%5D&codeDivWidth=50%25&codeDivHeight=100%25\"\n",
       "            frameborder=\"0\"\n",
       "            allowfullscreen\n",
       "        ></iframe>\n",
       "        "
      ],
      "text/plain": [
       "<IPython.lib.display.IFrame at 0x584a430>"
      ]
     },
     "metadata": {},
     "output_type": "display_data"
    }
   ],
   "source": [
    "%%tutor --lang python3\n",
    "\n",
    "def make_adder(n):\n",
    "    def adder(k):\n",
    "        return k + n\n",
    "    return adder\n",
    "\n",
    "add_three = make_adder(3)\n",
    "result = add_three(4)"
   ]
  },
  {
   "cell_type": "markdown",
   "metadata": {},
   "source": [
    "* In step 1, Python binds the function `make_adder` to the name `make_adder`\n",
    "* In step 2, Python calls the function `make_adder` to `3`\n",
    "* In step 3-5, Python creates a new environment named `make_adder`, where the formal parameter `n` is bound to `3`. \n",
    "    * Inside `make_adder`, Python defines the new function `adder`. \n",
    "    * Notice that the name `adder` is now bound to the function `adder(k)`. \n",
    "    * However, `adder` is currently only available in the `make_adder` frame\n",
    "\n",
    "* In step 6, the return value of calling `make_adder` on `3` is the `adder` function! \n",
    "    * Thus, we can see in step 7 that the name `add_three` is bound to the functon `adder(k)`\n",
    "* In step 8, Python tries to execute the `result = add_three(4)` line, which involves calling `add_three` on `4`. \n",
    "    * Thus, Python introduces a new frame `adder` with the formal parameter `k` bound to `4`.\n",
    "    * Notice that the parent frame of `adder` is `f1`, which is the `make_adder` frame.\n",
    "        * This way, Python still has access to the stuff within the `make_adder` frame\n",
    "        \n",
    "* In step 9, Python tries to compute the body of the `adder` function, `return k + n`. \n",
    "    * `k` is bound to `4`, in the `adder` frame, while `n` is bound to `3`, in the `make_adder` frame\n",
    "    * Thus, the return value is\n",
    "    \n",
    "$$ 3 + 4 = 7 $$"
   ]
  },
  {
   "cell_type": "markdown",
   "metadata": {},
   "source": [
    "## Environment Diagrams for Nested Def Statements\n",
    "We'll analyze the environment diagram of the example above!\n",
    "\n",
    "In the code, we have a nested `def` statements:\n",
    "<img src = 'nested.jpg' width = 500/>\n",
    "\n",
    "And we also have something new: a parent of a function that's not `Global` frame.\n",
    "\n",
    "<img src = 'parent.jpg' width = 500/>"
   ]
  },
  {
   "cell_type": "markdown",
   "metadata": {},
   "source": [
    "The `adder` function is defined in the body of the `make_adder` function. Thus, the `parent` frame of the `adder` function is the `make_adder` frame.\n",
    "\n",
    "<img src = 'parent_2.jpg' width = 600/>\n",
    "\n",
    "When we call the `adder` function, Python:\n",
    "1. Copies the name `adder` to the new frame, \n",
    "2. Copies the formal parameter `k` and binds it to the argument value `4`\n",
    "3. And copies the **parent of the function** as the **parent of the frame**\n",
    "\n",
    "Why do we have `parent`s for functions? \n",
    "\n",
    "<img src = 'parent_function.jpg' width = 500/>\n",
    "\n",
    "So that when we call those functions, Python will write down the correct `parent` for the frame,\n",
    "\n",
    "<img src = 'correct_parent.jpg' width = 400/>\n",
    "\n",
    "Why do we need `parent`s for frames? This tells us where to find the current environment.\n",
    "\n",
    "<img src = 'parent_frame.jpg' width = 700/>\n",
    "\n",
    "When Python evaluates the body of the `adder` function, `return k + n`, the current environment starts with the `adder` frame (labeled #1), followed by its parent, the `make_adder` frame (labeled #2), followed by its parent, the `Global` frame (labeled #3).\n",
    "\n",
    "When Python looks up the value `k` in the environment, Python looks at the first frame of the current environemnt,  `adder`. It finds that `k` is `4`!\n",
    "\n",
    "When Python looks up `n`, once again Python looks at the `adder` frame first. However, Python can't find `n` in `adder`! Thus, Python will look at the next frame, which is the `make_adder` frame. In this frame Python finds that `n` is bound to `3`\n",
    "\n",
    "### Key Points\n",
    "1. Every user-defined functions has a parent frame\n",
    "    * In most examples we've gone so far, the parent frame is usually the `Global` frame\n",
    "    * But in nested `def` statements, the inner `def`'s parent frame will be the outer `def`\n",
    "    \n",
    "2. The parent of a function is the frame in which it was defined\n",
    "\n",
    "3. Every local frame has a parent frame\n",
    "\n",
    "4. The parent of a frame is the parent of the function called"
   ]
  },
  {
   "cell_type": "markdown",
   "metadata": {},
   "source": [
    "## How to Draw an Environment Diagram\n",
    "Here is a guide on how to draw an environment diagram. This is useful so that we can draw one on our own without relying on PythonTutor. This is useful for understanding complicated examples.\n",
    "\n",
    "### When a function is defined\n",
    "Python always **create a function value** that looks like the following,"
   ]
  },
  {
   "cell_type": "code",
   "execution_count": 15,
   "metadata": {},
   "outputs": [
    {
     "ename": "SyntaxError",
     "evalue": "invalid syntax (<ipython-input-15-55b730d10fb9>, line 1)",
     "output_type": "error",
     "traceback": [
      "\u001b[1;36m  File \u001b[1;32m\"<ipython-input-15-55b730d10fb9>\"\u001b[1;36m, line \u001b[1;32m1\u001b[0m\n\u001b[1;33m    func <name>(<formal parameters>) [parent=<parent>]\u001b[0m\n\u001b[1;37m                ^\u001b[0m\n\u001b[1;31mSyntaxError\u001b[0m\u001b[1;31m:\u001b[0m invalid syntax\n"
     ]
    }
   ],
   "source": [
    "func <name>(<formal parameters>) [parent=<parent>]"
   ]
  },
  {
   "cell_type": "markdown",
   "metadata": {},
   "source": [
    "Its parent is the current frame,\n",
    "\n",
    "<img src = 'how_to.jpg' width = 500/>\n",
    "\n",
    "When we created the `adder` function, Python execution was in `make_adder` frame. Thus, Python writes that `parent = f1`, in which `f1` the label for the frame `make_adder`. Python writes `parent = f1` instead of `parent = make_adder` since it's possible to have multiple frames named `make_adder`. By having a unique label (e.g. `f1`, `f2`), we can distinguish between each frame. \n",
    "\n",
    "Python binds `<name>` to the function value in the current frame. "
   ]
  },
  {
   "cell_type": "markdown",
   "metadata": {},
   "source": [
    "### When a function is called\n",
    "1. Create (or add) a local frame, titled with the `<name>` of the function being called\n",
    "2. Copy the parent of the function to the local frame:"
   ]
  },
  {
   "cell_type": "code",
   "execution_count": null,
   "metadata": {},
   "outputs": [],
   "source": [
    "[parent=<label>]"
   ]
  },
  {
   "cell_type": "markdown",
   "metadata": {},
   "source": [
    "3. Bind the `<formal parameters>` to the arguments in the local frame\n",
    "4. Execute the body of the function in the environment that starts with the local frame\n",
    "    * If Python needs to look up names in the environment, Python follows the parent of the parent of the parent...until it reaches the `Global` frame. Whichever frame Python found the name first, that's the value that Python uses."
   ]
  }
 ],
 "metadata": {
  "kernelspec": {
   "display_name": "Python 3",
   "language": "python",
   "name": "python3"
  },
  "language_info": {
   "codemirror_mode": {
    "name": "ipython",
    "version": 3
   },
   "file_extension": ".py",
   "mimetype": "text/x-python",
   "name": "python",
   "nbconvert_exporter": "python",
   "pygments_lexer": "ipython3",
   "version": "3.6.8"
  }
 },
 "nbformat": 4,
 "nbformat_minor": 2
}
