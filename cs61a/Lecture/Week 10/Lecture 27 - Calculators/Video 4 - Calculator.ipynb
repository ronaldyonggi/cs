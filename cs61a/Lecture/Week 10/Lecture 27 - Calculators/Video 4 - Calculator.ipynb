{
 "cells": [
  {
   "cell_type": "markdown",
   "metadata": {},
   "source": [
    "# Calculator"
   ]
  },
  {
   "cell_type": "markdown",
   "metadata": {},
   "source": [
    "Time to create a programming language called \"Scheme Syntax Calculator\". "
   ]
  },
  {
   "cell_type": "markdown",
   "metadata": {},
   "source": [
    "#### Writer Notes:"
   ]
  },
  {
   "cell_type": "markdown",
   "metadata": {},
   "source": [
    "In the video, we're supposed to run `scalc.py`. We're not actually running `scalc.py`, but assume we're running it anyway.\n",
    "\n",
    "And again, we're running Calysto Scheme kernel first, but at some point in the lecture we'll switch to Python kernel."
   ]
  },
  {
   "cell_type": "markdown",
   "metadata": {},
   "source": [
    "## Demo - Calculator"
   ]
  },
  {
   "cell_type": "markdown",
   "metadata": {},
   "source": [
    "The calculator allows us to type in Scheme expression,"
   ]
  },
  {
   "cell_type": "code",
   "execution_count": 1,
   "metadata": {},
   "outputs": [
    {
     "data": {
      "text/plain": [
       "6"
      ]
     },
     "execution_count": 1,
     "metadata": {},
     "output_type": "execute_result"
    }
   ],
   "source": [
    "(* 1 2 3)"
   ]
  },
  {
   "cell_type": "markdown",
   "metadata": {},
   "source": [
    "As long as the operators are just `+`, `-`, `*` or `/`, it will work.\n",
    "\n",
    "Just adding would give us `0`, just like in normal Scheme interpreter."
   ]
  },
  {
   "cell_type": "code",
   "execution_count": 2,
   "metadata": {},
   "outputs": [
    {
     "data": {
      "text/plain": [
       "0"
      ]
     },
     "execution_count": 2,
     "metadata": {},
     "output_type": "execute_result"
    }
   ],
   "source": [
    "(+)"
   ]
  },
  {
   "cell_type": "markdown",
   "metadata": {},
   "source": [
    "And we can have nested combination,"
   ]
  },
  {
   "cell_type": "code",
   "execution_count": 4,
   "metadata": {},
   "outputs": [
    {
     "data": {
      "text/plain": [
       "5/2"
      ]
     },
     "execution_count": 4,
     "metadata": {},
     "output_type": "execute_result"
    }
   ],
   "source": [
    "(+ 2 (/ 4 8)) ;It should return 2.5"
   ]
  },
  {
   "cell_type": "markdown",
   "metadata": {},
   "source": [
    "We can span multiple lines, and we can use whatever spacing we want,"
   ]
  },
  {
   "cell_type": "code",
   "execution_count": 5,
   "metadata": {},
   "outputs": [
    {
     "data": {
      "text/plain": [
       "-12.0"
      ]
     },
     "execution_count": 5,
     "metadata": {},
     "output_type": "execute_result"
    }
   ],
   "source": [
    "(+ 1\n",
    "       (- 23)\n",
    "(* 4   2.5)   \n",
    ")"
   ]
  },
  {
   "cell_type": "markdown",
   "metadata": {},
   "source": [
    "Now let's go over about how to get the core functionality working!"
   ]
  },
  {
   "cell_type": "markdown",
   "metadata": {},
   "source": [
    "#### Writer Note:\n",
    "Switch to Python Kernel starting this point onwards."
   ]
  },
  {
   "cell_type": "markdown",
   "metadata": {},
   "source": [
    "## The Pair Class"
   ]
  },
  {
   "cell_type": "markdown",
   "metadata": {},
   "source": [
    "We rely heavily on the `Pair` class to represent expressions in this language. The `Pair` class represents Scheme pairs and lists. A list is a pair whose second element is either a list or nil. \n",
    "\n",
    "There's only one class that represents both `Pair` and Scheme lists."
   ]
  },
  {
   "cell_type": "code",
   "execution_count": 1,
   "metadata": {},
   "outputs": [],
   "source": [
    "class Pair:\n",
    "    \"\"\" A Pair has 2 instance attributes:\n",
    "    first and second.\n",
    "    \n",
    "    For a pair to be a well-formed list, \n",
    "    second is either a well-formed list or nil.\n",
    "    Some methods only apply to well-formed lists\"\"\"\n",
    "    \n",
    "    def __init__(self, first, second):\n",
    "        self.first = first\n",
    "        self.second = second"
   ]
  },
  {
   "cell_type": "markdown",
   "metadata": {},
   "source": [
    "It's something that has 2 instance attributes: `first` and `second`. \n",
    "\n",
    "1. `first` can store anything. It's the value of the first element of the pair\n",
    "2. `second` can also store anything.\n",
    "    * However, when `second` stores a well-formed list, the whole thing becomes a well-formed list.\n",
    "    \n",
    "Below we create the structure,"
   ]
  },
  {
   "cell_type": "code",
   "execution_count": null,
   "metadata": {},
   "outputs": [],
   "source": [
    ">>> s = Pair(1, Pair(2, Pair(3, nil)))"
   ]
  },
  {
   "cell_type": "markdown",
   "metadata": {},
   "source": [
    "And if we print it out, we'll obtain the Scheme representation. This is the string version of a `Pair`."
   ]
  },
  {
   "cell_type": "code",
   "execution_count": null,
   "metadata": {},
   "outputs": [],
   "source": [
    ">>> print(s)\n",
    "(1 2 3)"
   ]
  },
  {
   "cell_type": "markdown",
   "metadata": {},
   "source": [
    "The `len` of `s`, is a `Pair`'s special method that only applies when `Pair` represents a well-formed list. "
   ]
  },
  {
   "cell_type": "code",
   "execution_count": null,
   "metadata": {},
   "outputs": [],
   "source": [
    ">>> len(s)\n",
    "3"
   ]
  },
  {
   "cell_type": "markdown",
   "metadata": {},
   "source": [
    "`Pair`s can also represent non well-formed lists (things with dots `.`) "
   ]
  },
  {
   "cell_type": "code",
   "execution_count": null,
   "metadata": {},
   "outputs": [],
   "source": [
    ">>> print(Pair(1, 2))\n",
    "(1 . 2)"
   ]
  },
  {
   "cell_type": "markdown",
   "metadata": {},
   "source": [
    "And likewise, if we nest the expression above inside another list, we still have a dotted expression."
   ]
  },
  {
   "cell_type": "code",
   "execution_count": null,
   "metadata": {},
   "outputs": [],
   "source": [
    ">>> print(Pair(1, Pair(2, 3)))\n",
    "(1 2 . 3)"
   ]
  },
  {
   "cell_type": "markdown",
   "metadata": {},
   "source": [
    "And we shouldn't be able to take the length of a non well-formed list,"
   ]
  },
  {
   "cell_type": "code",
   "execution_count": null,
   "metadata": {},
   "outputs": [],
   "source": [
    ">>> len(Pair(1, Pair(2, 3)))\n",
    "Traceback (most recent call last):\n",
    "...\n",
    "TypeError: length attempted on improper list"
   ]
  },
  {
   "cell_type": "markdown",
   "metadata": {},
   "source": [
    "Scheme expressions (e.g. `(+ 1 2)` and other combinations) are represented as Scheme lists, meaning the data representation of the language is the same as the source code representation. This means the language is called **homoiconic**, meaning the source code is just data in a built-in structure in the language."
   ]
  },
  {
   "cell_type": "markdown",
   "metadata": {},
   "source": [
    "## Calculator Syntax"
   ]
  },
  {
   "cell_type": "markdown",
   "metadata": {},
   "source": [
    "Now we know what we're going to use to implement calculator, let's talk about the 2 elements of the calculator language: **syntax** and **semantics**.\n",
    "\n",
    "1. Syntax: The Calculator language has primitive expressions and call expressions. That's it!\n",
    "    * A primitive expression is a number: `2`, `-4`, `5.6`\n",
    "    * A call expression is a combination that begins with an operator (+, -, *, /) followed by 0 or more expressions\n",
    "        * `(+ 1 2 3)`\n",
    "        * `(/ 3 (+ 4 5))`\n",
    "        \n",
    "Expressions are represented as Scheme lists (Pair instances), but they are encoded in tree structures! Let's look at some examples and think about how it's encoded and how we can think about it.\n",
    "\n",
    "Here we have an expression,"
   ]
  },
  {
   "cell_type": "code",
   "execution_count": null,
   "metadata": {},
   "outputs": [],
   "source": [
    "(* 3\n",
    " (+ 4 5)\n",
    " (* 6 7 8))"
   ]
  },
  {
   "cell_type": "markdown",
   "metadata": {},
   "source": [
    "Think of above as encoding an expression tree."
   ]
  },
  {
   "cell_type": "markdown",
   "metadata": {},
   "source": [
    "<img src = 'tree.jpg' width = 400/>"
   ]
  },
  {
   "cell_type": "markdown",
   "metadata": {},
   "source": [
    "If we actually look into the interpreter and see how the expression is represented, it's represented as Pairs. Pairs have `first` and `second` attribute, and when they're linked together, they form a list."
   ]
  },
  {
   "cell_type": "markdown",
   "metadata": {},
   "source": [
    "<img src = 'Pairs.jpg' width = 500/>"
   ]
  },
  {
   "cell_type": "markdown",
   "metadata": {},
   "source": [
    "## Calculator Semantics"
   ]
  },
  {
   "cell_type": "markdown",
   "metadata": {},
   "source": [
    "The value of a calculator expression is defined recursively.\n",
    "* A **primitive** is a base case: A number evaluates to itself\n",
    "* A **call** expression evaluates to its argument values combined by an operator\n",
    "    * How do we obtain those argument values?\n",
    "        * Those are the values of the operand expressions\n",
    "        * How do we combine argument values?\n",
    "            * `+`: Sum of the arguments\n",
    "            * `*`: Product of the arguments\n",
    "            * `-`: If one argument, negate it. If more than one, subtract the rest from the first.\n",
    "            * `/`: If one argument, invert it. If more than one, divide the rest from the first\n",
    "            \n",
    "Recall we have the following,"
   ]
  },
  {
   "cell_type": "markdown",
   "metadata": {},
   "source": [
    "<img src = 'tree2.jpg' width = 400/>"
   ]
  },
  {
   "cell_type": "markdown",
   "metadata": {},
   "source": [
    "To evaluate these, first we have to evaluate the value of the operands sub-expressions,"
   ]
  },
  {
   "cell_type": "code",
   "execution_count": null,
   "metadata": {},
   "outputs": [],
   "source": [
    "(+ 4 5)"
   ]
  },
  {
   "cell_type": "code",
   "execution_count": null,
   "metadata": {},
   "outputs": [],
   "source": [
    "(* 6 7 8)"
   ]
  }
 ],
 "metadata": {
  "kernelspec": {
   "display_name": "Python 3",
   "language": "python",
   "name": "python3"
  },
  "language_info": {
   "codemirror_mode": {
    "name": "ipython",
    "version": 3
   },
   "file_extension": ".py",
   "mimetype": "text/x-python",
   "name": "python",
   "nbconvert_exporter": "python",
   "pygments_lexer": "ipython3",
   "version": "3.6.8"
  }
 },
 "nbformat": 4,
 "nbformat_minor": 2
}
