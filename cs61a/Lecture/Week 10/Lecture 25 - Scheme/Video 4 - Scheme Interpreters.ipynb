{
 "cells": [
  {
   "cell_type": "markdown",
   "metadata": {},
   "source": [
    "# Scheme Interpreters"
   ]
  },
  {
   "cell_type": "markdown",
   "metadata": {},
   "source": [
    "How has the instructor been executing all these Scheme codes? It turns out that the instructor has been using the implementation from Project 4.\n",
    "\n",
    "In project 4, we'll build a Python program that implements the Scheme interpreter. Once we run it, we'll be able to run Scheme codes. We'll do this by writing the code that executes the different procedures that are required to execute Scheme procedures. This is called an Evaluator."
   ]
  }
 ],
 "metadata": {
  "kernelspec": {
   "display_name": "Calysto Scheme 3",
   "language": "scheme",
   "name": "calysto_scheme"
  },
  "language_info": {
   "codemirror_mode": {
    "name": "scheme"
   },
   "mimetype": "text/x-scheme",
   "name": "scheme",
   "pygments_lexer": "scheme"
  }
 },
 "nbformat": 4,
 "nbformat_minor": 2
}
