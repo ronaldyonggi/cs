{
 "cells": [
  {
   "cell_type": "code",
   "execution_count": 1,
   "metadata": {},
   "outputs": [],
   "source": [
    "%load_ext tutormagic"
   ]
  },
  {
   "cell_type": "markdown",
   "metadata": {},
   "source": [
    "# Objects"
   ]
  },
  {
   "cell_type": "markdown",
   "metadata": {},
   "source": [
    "Objects is an important concept in software engineering. An object is a value that behaves like what it is supposed to represent.\n",
    "\n",
    "In Python, there's a module named `datetime` that represents time. We can import `date` from this module."
   ]
  },
  {
   "cell_type": "code",
   "execution_count": 2,
   "metadata": {},
   "outputs": [],
   "source": [
    "from datetime import date"
   ]
  },
  {
   "cell_type": "code",
   "execution_count": 3,
   "metadata": {},
   "outputs": [
    {
     "data": {
      "text/plain": [
       "datetime.date"
      ]
     },
     "execution_count": 3,
     "metadata": {},
     "output_type": "execute_result"
    }
   ],
   "source": [
    "date"
   ]
  },
  {
   "cell_type": "markdown",
   "metadata": {},
   "source": [
    "Here, `date` is a `class`. \n",
    "\n",
    "We can create an instance of a `date` by calling the class. "
   ]
  },
  {
   "cell_type": "code",
   "execution_count": 4,
   "metadata": {},
   "outputs": [],
   "source": [
    "today = date(2019, 5, 19)"
   ]
  },
  {
   "cell_type": "code",
   "execution_count": 5,
   "metadata": {},
   "outputs": [
    {
     "data": {
      "text/plain": [
       "datetime.date(2019, 5, 19)"
      ]
     },
     "execution_count": 5,
     "metadata": {},
     "output_type": "execute_result"
    }
   ],
   "source": [
    "today"
   ]
  },
  {
   "cell_type": "code",
   "execution_count": 6,
   "metadata": {},
   "outputs": [],
   "source": [
    "next_week = date(2019, 5, 26)"
   ]
  },
  {
   "cell_type": "code",
   "execution_count": 7,
   "metadata": {},
   "outputs": [
    {
     "data": {
      "text/plain": [
       "datetime.date(2019, 5, 26)"
      ]
     },
     "execution_count": 7,
     "metadata": {},
     "output_type": "execute_result"
    }
   ],
   "source": [
    "next_week"
   ]
  },
  {
   "cell_type": "markdown",
   "metadata": {},
   "source": [
    "An object is supposed to behave like the value that it represents. This means if we combine `today` and `next_week` by computing the time interval between the 2, "
   ]
  },
  {
   "cell_type": "code",
   "execution_count": 8,
   "metadata": {},
   "outputs": [
    {
     "data": {
      "text/plain": [
       "'7 days, 0:00:00'"
      ]
     },
     "execution_count": 8,
     "metadata": {},
     "output_type": "execute_result"
    }
   ],
   "source": [
    "str(next_week - today)"
   ]
  },
  {
   "cell_type": "markdown",
   "metadata": {},
   "source": [
    "We obtain a nice, neat representation!\n",
    "\n",
    "The primary mechanism of objects' behavior is through their attributes. We access the attribute of an object through a dot `.` expression. "
   ]
  },
  {
   "cell_type": "code",
   "execution_count": 9,
   "metadata": {},
   "outputs": [
    {
     "data": {
      "text/plain": [
       "2019"
      ]
     },
     "execution_count": 9,
     "metadata": {},
     "output_type": "execute_result"
    }
   ],
   "source": [
    "today.year"
   ]
  },
  {
   "cell_type": "code",
   "execution_count": 10,
   "metadata": {},
   "outputs": [
    {
     "data": {
      "text/plain": [
       "5"
      ]
     },
     "execution_count": 10,
     "metadata": {},
     "output_type": "execute_result"
    }
   ],
   "source": [
    "today.month"
   ]
  },
  {
   "cell_type": "markdown",
   "metadata": {},
   "source": [
    "If we analyze the whole cell above, \n",
    "\n",
    "`today` is a name, can be any expression that evaluates to an object.\n",
    "\n",
    "`month` is the name of the attribute that we want to look up. \n",
    "\n",
    "Other than attributes that are bound to values, we also have attributes bound to functions. Those attributes are called `method`s.\n",
    "\n",
    "`Method` is anything that we access using the dot `.` expression and call  as if it was a function.\n",
    "\n",
    "As an example, the `strftime` method of a date is a way of formatting the date as a string. `strftime` method takes a string that describes how we want to display the date. "
   ]
  },
  {
   "cell_type": "code",
   "execution_count": 11,
   "metadata": {},
   "outputs": [
    {
     "data": {
      "text/plain": [
       "'Sunday May 19'"
      ]
     },
     "execution_count": 11,
     "metadata": {},
     "output_type": "execute_result"
    }
   ],
   "source": [
    "today.strftime('%A %B %d')"
   ]
  },
  {
   "cell_type": "markdown",
   "metadata": {},
   "source": [
    "1. `%A` corresponds to Sunday\n",
    "2. `%B` corresponds to May\n",
    "3. `%d` corresponds to 19"
   ]
  },
  {
   "cell_type": "markdown",
   "metadata": {},
   "source": [
    "Notice that when we initiate `today`,"
   ]
  },
  {
   "cell_type": "code",
   "execution_count": 12,
   "metadata": {},
   "outputs": [],
   "source": [
    "today = date(2019, 5, 19)"
   ]
  },
  {
   "cell_type": "markdown",
   "metadata": {},
   "source": [
    "We did not specify that the day was `Sunday`, or the month was `May` or it was spelled `M-A-Y`. This is how objects behave like the things they represent."
   ]
  },
  {
   "cell_type": "markdown",
   "metadata": {},
   "source": [
    "# Objects"
   ]
  },
  {
   "cell_type": "markdown",
   "metadata": {},
   "source": [
    "Objects represent information.\n",
    "\n",
    "They consist of data and behavior, bundled together to create abstraction.\n",
    "\n",
    "Objects can represent things, but also properties, interactions & processes.\n",
    "* Anything that has attributes can be represented as an object\n",
    "\n",
    "`Class` is a type of object. Classes are first-class values in Python (can be passed in as arguments in functions).\n",
    "\n",
    "Objects are the heart of object-oriented programming. Object-oriented programming is an approach in programming that allows us to organize large programs using a central metaphor that a large program is a single large entity. It's a bunch of individual objects communicating with each other by sending messages back and forth. \n",
    "\n",
    "To use this metaphor throughout a large program, there's a special syntax that can improve the composition of programs. The dot `.` expression is part of this syntax. \n",
    "\n",
    "In Python, every value is an object.\n",
    "* All objects (including numbers, strings) have attributes\n",
    "* In actuality, a lot of data manipulation happens through object methods.\n",
    "* Function do one thing\n",
    "    * A well-designed function has a single purpose. We pass in some arguments, then we obtain a return value.\n",
    "* Objects do many, but related things\n",
    "    * It can have multiple methods, each of them serves like a function."
   ]
  }
 ],
 "metadata": {
  "kernelspec": {
   "display_name": "Python 3",
   "language": "python",
   "name": "python3"
  },
  "language_info": {
   "codemirror_mode": {
    "name": "ipython",
    "version": 3
   },
   "file_extension": ".py",
   "mimetype": "text/x-python",
   "name": "python",
   "nbconvert_exporter": "python",
   "pygments_lexer": "ipython3",
   "version": "3.6.8"
  }
 },
 "nbformat": 4,
 "nbformat_minor": 2
}
