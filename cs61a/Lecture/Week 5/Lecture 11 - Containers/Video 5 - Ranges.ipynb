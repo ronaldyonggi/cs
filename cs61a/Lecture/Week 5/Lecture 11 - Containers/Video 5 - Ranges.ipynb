{
 "cells": [
  {
   "cell_type": "code",
   "execution_count": null,
   "metadata": {},
   "outputs": [],
   "source": [
    "%load_ext tutormagic"
   ]
  },
  {
   "cell_type": "markdown",
   "metadata": {},
   "source": [
    "## Ranges\n",
    "Range is another type of sequence. However, Range is not a list. "
   ]
  },
  {
   "cell_type": "markdown",
   "metadata": {},
   "source": [
    "## The Range Type\n",
    "A range is a sequence f consecutive integers.*\n",
    "* \\*Ranges can actually represent more general integer sequences\n",
    "\n",
    "Imagine we have the following sequence of integers,\n"
   ]
  },
  {
   "cell_type": "code",
   "execution_count": null,
   "metadata": {},
   "outputs": [],
   "source": [
    "..., -5, -4, -3, -2, -1, 0, 1, 2, 3, 4, 5, ..."
   ]
  },
  {
   "cell_type": "markdown",
   "metadata": {},
   "source": [
    "A `range` picks a finite length within an integer sequence. It takes a starting value and an ending value, selecting all the integers in between in increasing order. \n",
    "\n",
    "<img src = 'range.jpg' width = 400/>"
   ]
  },
  {
   "cell_type": "markdown",
   "metadata": {},
   "source": [
    "Notice how the numbers were selected above. The **starting value** is included, but the **ending value** is **NOT** included.\n",
    "\n",
    "1. The **length** of a range:\n",
    "    * Ending value - starting value\n",
    "2. Element selection:\n",
    "    * **Starting value + index**. Index starts at 0\n",
    "    * For example, in the picture above, the element at index 0 is `-2`\n",
    "        * The element at index 3 is `-2` + `3` = `1`. \n",
    "        \n",
    "#### Converting Range to a List\n",
    "We can use a **list constructor**, a built-in function that, when called on any other sequence, will return a list containing the sequence that was passed in.\n",
    "\n",
    "<img src = 'list_constructor.jpg' width = 500/>"
   ]
  },
  {
   "cell_type": "code",
   "execution_count": null,
   "metadata": {},
   "outputs": [],
   "source": [
    "list(range(-2, 2))"
   ]
  },
  {
   "cell_type": "code",
   "execution_count": null,
   "metadata": {},
   "outputs": [],
   "source": [
    "list(range(4))"
   ]
  },
  {
   "cell_type": "markdown",
   "metadata": {},
   "source": [
    "<img src = 'range_0.jpg' width = 600/>\n",
    "\n",
    "One special feature of `range` is that if we only pass in a number, the number will be treated as the ending value, and the range will start from 0."
   ]
  },
  {
   "cell_type": "code",
   "execution_count": null,
   "metadata": {},
   "outputs": [],
   "source": [
    "range(4)"
   ]
  },
  {
   "cell_type": "code",
   "execution_count": null,
   "metadata": {},
   "outputs": [],
   "source": [
    "list(range(4))"
   ]
  },
  {
   "cell_type": "markdown",
   "metadata": {},
   "source": [
    "What can we do with a `range`?\n",
    "\n",
    "There are many cases where the sequence we desired is a sequence of increasing integers.\n",
    "\n",
    "Below is a function that sums all the numbers (down to 0) below the integer `n`:"
   ]
  },
  {
   "cell_type": "code",
   "execution_count": null,
   "metadata": {},
   "outputs": [],
   "source": [
    "def sum_below(n):\n",
    "    total = 0\n",
    "    for i in range(n):\n",
    "        total += i\n",
    "    return total"
   ]
  },
  {
   "cell_type": "code",
   "execution_count": null,
   "metadata": {},
   "outputs": [],
   "source": [
    "sum_below(5)"
   ]
  },
  {
   "cell_type": "markdown",
   "metadata": {},
   "source": [
    "There are also cases where we don't care about the integers. Instead, we only care about doing something multiple times. Below is an example of such function,"
   ]
  },
  {
   "cell_type": "code",
   "execution_count": null,
   "metadata": {},
   "outputs": [],
   "source": [
    "def cheer():\n",
    "    for _ in range(3): # Prints 'Go Bears!' 3 times\n",
    "        print('Go Bears!')"
   ]
  },
  {
   "cell_type": "code",
   "execution_count": null,
   "metadata": {},
   "outputs": [],
   "source": [
    "cheer()"
   ]
  },
  {
   "cell_type": "markdown",
   "metadata": {},
   "source": [
    "In `cheer` function, see that we don't care about the name and thus, we just use `_`. This is a convention that let other programmers know that we don't use the name at all. "
   ]
  }
 ],
 "metadata": {
  "kernelspec": {
   "display_name": "Python 3",
   "language": "python",
   "name": "python3"
  },
  "language_info": {
   "codemirror_mode": {
    "name": "ipython",
    "version": 3
   },
   "file_extension": ".py",
   "mimetype": "text/x-python",
   "name": "python",
   "nbconvert_exporter": "python",
   "pygments_lexer": "ipython3",
   "version": "3.6.8"
  }
 },
 "nbformat": 4,
 "nbformat_minor": 2
}
