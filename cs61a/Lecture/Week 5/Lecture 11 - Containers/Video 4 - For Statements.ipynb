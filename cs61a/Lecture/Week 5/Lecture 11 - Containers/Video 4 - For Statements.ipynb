{
 "cells": [
  {
   "cell_type": "code",
   "execution_count": null,
   "metadata": {},
   "outputs": [],
   "source": [
    "%load_ext tutormagic"
   ]
  },
  {
   "cell_type": "markdown",
   "metadata": {},
   "source": [
    "# For Statements\n",
    "Since sequences are fundamental to computing, people have developed new types of statements that help us manipulate or iterate over sequences. One of such types is a `for` statement.\n",
    "\n",
    "Below we have the function `count` that computes the number of times a `value` appear in a sequence `s`. The function is implemented using a `while` loop. "
   ]
  },
  {
   "cell_type": "code",
   "execution_count": 31,
   "metadata": {},
   "outputs": [],
   "source": [
    "def count(s, value):\n",
    "    \"\"\" Count the number of times 'value' appear in sequence s\n",
    "    \n",
    "    >>> count([1, 2, 1, 2, 1, 2], 1)\n",
    "    3\n",
    "    \"\"\"\n",
    "    total, index = 0, 0\n",
    "    while index < len(s): # While index is less than the length of s\n",
    "        if s[index] == value: # If the [index] element of s is equal to the 'value'\n",
    "            total += 1 # Then increment total to 1\n",
    "        index += 1 # Increment index\n",
    "    return total"
   ]
  },
  {
   "cell_type": "markdown",
   "metadata": {},
   "source": [
    "Let's test out the function `count`!"
   ]
  },
  {
   "cell_type": "code",
   "execution_count": 32,
   "metadata": {},
   "outputs": [
    {
     "data": {
      "text/plain": [
       "3"
      ]
     },
     "execution_count": 32,
     "metadata": {},
     "output_type": "execute_result"
    }
   ],
   "source": [
    "count([1, 2, 1, 2, 1, 2], 1)"
   ]
  },
  {
   "cell_type": "markdown",
   "metadata": {},
   "source": [
    "The engine of the implementation is the following part:"
   ]
  },
  {
   "cell_type": "code",
   "execution_count": 33,
   "metadata": {},
   "outputs": [
    {
     "ename": "NameError",
     "evalue": "name 's' is not defined",
     "output_type": "error",
     "traceback": [
      "\u001b[1;31m---------------------------------------------------------------------------\u001b[0m",
      "\u001b[1;31mNameError\u001b[0m                                 Traceback (most recent call last)",
      "\u001b[1;32m<ipython-input-33-78dabb14f515>\u001b[0m in \u001b[0;36m<module>\u001b[1;34m\u001b[0m\n\u001b[1;32m----> 1\u001b[1;33m \u001b[1;32mif\u001b[0m \u001b[0ms\u001b[0m\u001b[1;33m[\u001b[0m\u001b[0mindex\u001b[0m\u001b[1;33m]\u001b[0m \u001b[1;33m==\u001b[0m \u001b[0mvalue\u001b[0m\u001b[1;33m:\u001b[0m\u001b[1;33m\u001b[0m\u001b[1;33m\u001b[0m\u001b[0m\n\u001b[0m\u001b[0;32m      2\u001b[0m     \u001b[0mtotal\u001b[0m \u001b[1;33m+=\u001b[0m \u001b[1;36m1\u001b[0m\u001b[1;33m\u001b[0m\u001b[1;33m\u001b[0m\u001b[0m\n",
      "\u001b[1;31mNameError\u001b[0m: name 's' is not defined"
     ]
    }
   ],
   "source": [
    "if s[index] == value:\n",
    "    total += 1"
   ]
  },
  {
   "cell_type": "markdown",
   "metadata": {},
   "source": [
    "While the rest of the implementation is just iterating over the sequence. This part is so common that people developed a special statement type specifically for this case: `for` statement."
   ]
  },
  {
   "cell_type": "code",
   "execution_count": null,
   "metadata": {},
   "outputs": [],
   "source": [
    "def count(s, value):\n",
    "    \"\"\" Count the number of times 'value' appear in sequence s\n",
    "    \n",
    "    >>> count([1, 2, 1, 2, 1, 2], 1)\n",
    "    3\n",
    "    \"\"\"\n",
    "    total = 0\n",
    "    for element in s:\n",
    "        if element == value:\n",
    "            total += 1\n",
    "    return total\n",
    "\n",
    "import doctest\n",
    "doctest.testmod(verbose = True)"
   ]
  },
  {
   "cell_type": "markdown",
   "metadata": {},
   "source": [
    "As we can see, the doctest passed!"
   ]
  },
  {
   "cell_type": "markdown",
   "metadata": {},
   "source": [
    "## Sequence Iteration\n",
    "What we did earlier was an example of sequence iteration. Where do we use the `for` statement? How does it work?\n",
    "\n",
    "<img src = 'count.jpg' width = 300/>"
   ]
  },
  {
   "cell_type": "markdown",
   "metadata": {},
   "source": [
    "When Python runs the `for` statement, the name `element` is bound in the first frame of the current environment; however, this is not a new frame. **No new frame is introduced in a `for` statement.**\n",
    "\n",
    "After that, the suite of the `for` statement is executed, "
   ]
  },
  {
   "cell_type": "code",
   "execution_count": null,
   "metadata": {},
   "outputs": [],
   "source": [
    "if element == value:\n",
    "    total = total + 1"
   ]
  },
  {
   "cell_type": "markdown",
   "metadata": {},
   "source": [
    "After that, the name `element` is rebind to the next element in `s`, and we execute the suite again. \n",
    "\n",
    "Thus, when we have a `for` statement, Python executes the suite of the statement `s` times. `s` is the number of elements in the sequence."
   ]
  },
  {
   "cell_type": "markdown",
   "metadata": {},
   "source": [
    "## For Statement Execution Procedure\n",
    "The syntax of a `for` statement looks like the following,"
   ]
  },
  {
   "cell_type": "code",
   "execution_count": null,
   "metadata": {},
   "outputs": [],
   "source": [
    "for <name> in <expression>:\n",
    "    <suite>"
   ]
  },
  {
   "cell_type": "markdown",
   "metadata": {},
   "source": [
    "1. Evaluate the header `<expression>`, which must yield an iterable value (a sequence)\n",
    "    * The term `iterable` will be covered later in future lectures\n",
    "    * Later on we'll see that we can use things other than sequences\n",
    "    \n",
    "2. For each element in that sequence, in order:\n",
    "    * Bind `<name>` to that element in the current frame\n",
    "    * Execute the `<suite>`"
   ]
  },
  {
   "cell_type": "markdown",
   "metadata": {},
   "source": [
    "## Sequence Unpacking in For Statements\n",
    "A useful feature in `for` statement is that we can do `sequence unpacking` inside the header of the `for` statement. \n",
    "\n",
    "Let's say we have the following list of lists,"
   ]
  },
  {
   "cell_type": "code",
   "execution_count": null,
   "metadata": {},
   "outputs": [],
   "source": [
    "pairs = [[1, 1], [2, 2], [3, 2], [4, 4]]\n",
    "same_count = 0"
   ]
  },
  {
   "cell_type": "markdown",
   "metadata": {},
   "source": [
    "And let's say we want to count the number of pairs that are the same element twice. How does the `for` statement looks like?"
   ]
  },
  {
   "cell_type": "code",
   "execution_count": null,
   "metadata": {},
   "outputs": [],
   "source": [
    "for x, y in pairs: # Sequence unpacking\n",
    "    if x == y:\n",
    "        same_count += 1"
   ]
  },
  {
   "cell_type": "markdown",
   "metadata": {},
   "source": [
    "<img src = 'unpacking.jpg' width = 400/>"
   ]
  },
  {
   "cell_type": "markdown",
   "metadata": {},
   "source": [
    "When we give a name for each element in a fixed-length sequence, we call this `sequence unpacking`. Here, each name is bound to a value, just as in multiple assignment statements. "
   ]
  }
 ],
 "metadata": {
  "kernelspec": {
   "display_name": "Python 3",
   "language": "python",
   "name": "python3"
  },
  "language_info": {
   "codemirror_mode": {
    "name": "ipython",
    "version": 3
   },
   "file_extension": ".py",
   "mimetype": "text/x-python",
   "name": "python",
   "nbconvert_exporter": "python",
   "pygments_lexer": "ipython3",
   "version": "3.6.8"
  }
 },
 "nbformat": 4,
 "nbformat_minor": 2
}
