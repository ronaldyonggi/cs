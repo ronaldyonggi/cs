{
 "cells": [
  {
   "cell_type": "markdown",
   "metadata": {},
   "source": [
    "# Set Mutation"
   ]
  },
  {
   "cell_type": "markdown",
   "metadata": {},
   "source": [
    "We can also implement operations that change sets."
   ]
  },
  {
   "cell_type": "markdown",
   "metadata": {},
   "source": [
    "## Adding to an Ordered List"
   ]
  },
  {
   "cell_type": "markdown",
   "metadata": {},
   "source": [
    "Let's say we have the following set,"
   ]
  },
  {
   "cell_type": "markdown",
   "metadata": {},
   "source": [
    "<img src = 'set.jpg' width = 900/>"
   ]
  },
  {
   "cell_type": "markdown",
   "metadata": {},
   "source": [
    "And we want to `add` 0,"
   ]
  },
  {
   "cell_type": "code",
   "execution_count": null,
   "metadata": {},
   "outputs": [],
   "source": [
    "add(s, 0)"
   ]
  },
  {
   "cell_type": "markdown",
   "metadata": {},
   "source": [
    "`add` is different from `adjoin`, since `add` changes the original set, `s`. Recall `adjoin` creates a new set and leaves the original set `s` unchanged.\n",
    "\n",
    "What strategy can we use?"
   ]
  },
  {
   "cell_type": "markdown",
   "metadata": {},
   "source": [
    "<img src = 'reconstruct.jpg' width = 700/>"
   ]
  },
  {
   "cell_type": "markdown",
   "metadata": {},
   "source": [
    "One idea is to reconstruct the linked list by editing the first element so that it's `0` instead of `1`, then the rest of the list is the original `s`.\n",
    "\n",
    "How about `add(s, 3)`?"
   ]
  },
  {
   "cell_type": "code",
   "execution_count": null,
   "metadata": {},
   "outputs": [],
   "source": [
    "add(s, 3)"
   ]
  },
  {
   "cell_type": "markdown",
   "metadata": {},
   "source": [
    "Python goes through the linked list for a value that's greater than `3`. However, when Python found `3` is already in the linked list, Python decides to do nothing. \n",
    "\n",
    "How about,"
   ]
  },
  {
   "cell_type": "code",
   "execution_count": 1,
   "metadata": {},
   "outputs": [
    {
     "ename": "NameError",
     "evalue": "name 'add' is not defined",
     "output_type": "error",
     "traceback": [
      "\u001b[1;31m---------------------------------------------------------------------------\u001b[0m",
      "\u001b[1;31mNameError\u001b[0m                                 Traceback (most recent call last)",
      "\u001b[1;32m<ipython-input-1-fda614d759d2>\u001b[0m in \u001b[0;36m<module>\u001b[1;34m\u001b[0m\n\u001b[1;32m----> 1\u001b[1;33m \u001b[0madd\u001b[0m\u001b[1;33m(\u001b[0m\u001b[0ms\u001b[0m\u001b[1;33m,\u001b[0m \u001b[1;36m4\u001b[0m\u001b[1;33m)\u001b[0m\u001b[1;33m\u001b[0m\u001b[1;33m\u001b[0m\u001b[0m\n\u001b[0m",
      "\u001b[1;31mNameError\u001b[0m: name 'add' is not defined"
     ]
    }
   ],
   "source": [
    "add(s, 4)"
   ]
  },
  {
   "cell_type": "markdown",
   "metadata": {},
   "source": [
    "<img src = '4.jpg' width = 800/>"
   ]
  },
  {
   "cell_type": "markdown",
   "metadata": {},
   "source": [
    "Python replaces the `5` with `4`, then creates a new `Link` with `first` = 5, then connects it as the `.rest` of the 4.\n",
    "\n",
    "Now what if we add an element that's larger than any existing element?"
   ]
  },
  {
   "cell_type": "code",
   "execution_count": null,
   "metadata": {},
   "outputs": [],
   "source": [
    "add(s, 6)"
   ]
  },
  {
   "cell_type": "markdown",
   "metadata": {},
   "source": [
    "Here, Python will replace the `.rest` of 5 with a new `Link` instance containing 6."
   ]
  },
  {
   "cell_type": "markdown",
   "metadata": {},
   "source": [
    "<img src = '6.jpg' width = 700/>"
   ]
  },
  {
   "cell_type": "markdown",
   "metadata": {},
   "source": [
    "## Implementation"
   ]
  },
  {
   "cell_type": "code",
   "execution_count": null,
   "metadata": {},
   "outputs": [],
   "source": [
    "\"\"\" Add v to a set s and return s.\"\"\"\n",
    ">>> s = Link(1, Link(3, Link(5)))\n",
    ">>> add(s, 0)\n",
    "Link(0, Link(1, Link(3, Link(5))))\n",
    ">>> add(s, 3)\n",
    "Link(0, Link(1, Link(3, Link(5))))\n",
    ">>> add(s, 4)\n",
    "Link(0, Link(1, Link(3, Link(4, Link(5)))))\n",
    ">>> add(s, 6)\n",
    "Link(0, Link(1, Link(3, Link(4, Link(5, Link(6))))))"
   ]
  },
  {
   "cell_type": "code",
   "execution_count": 1,
   "metadata": {},
   "outputs": [],
   "source": [
    "def add(s, v):\n",
    "    # We can't add anything to an empty set\n",
    "    assert not empty(s), \"Cannot add to an empty set\"\n",
    "    # If the current `s.first` is greater than v\n",
    "    if s.first > v:\n",
    "        # Then insert v before s.first\n",
    "        s.first, s.rest = v, Link(s.first, s.rest)\n",
    "    # If we reached the end of the list\n",
    "    elif s.first < v and empty(s.rest):\n",
    "        # Update the s.rest\n",
    "        s.rest = Link(v, s.rest)\n",
    "    # Below is just Python going through each element in the linked list. Just recursive call add on s.rest\n",
    "    elif s.first < v:\n",
    "        add(s.rest, v)\n",
    "    return s"
   ]
  },
  {
   "cell_type": "code",
   "execution_count": null,
   "metadata": {},
   "outputs": [],
   "source": []
  }
 ],
 "metadata": {
  "kernelspec": {
   "display_name": "Python 3",
   "language": "python",
   "name": "python3"
  },
  "language_info": {
   "codemirror_mode": {
    "name": "ipython",
    "version": 3
   },
   "file_extension": ".py",
   "mimetype": "text/x-python",
   "name": "python",
   "nbconvert_exporter": "python",
   "pygments_lexer": "ipython3",
   "version": "3.6.8"
  }
 },
 "nbformat": 4,
 "nbformat_minor": 2
}
