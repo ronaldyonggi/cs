{
 "cells": [
  {
   "cell_type": "code",
   "execution_count": null,
   "metadata": {},
   "outputs": [],
   "source": [
    "%load_ext tutormagic"
   ]
  },
  {
   "cell_type": "markdown",
   "metadata": {},
   "source": [
    "# Tree Class"
   ]
  },
  {
   "cell_type": "markdown",
   "metadata": {},
   "source": [
    "We previously represented trees using data abstraction. Now we'll write a class for that."
   ]
  },
  {
   "cell_type": "markdown",
   "metadata": {},
   "source": [
    "## Tree Abstraction (Review)"
   ]
  },
  {
   "cell_type": "markdown",
   "metadata": {},
   "source": [
    "A tree is a root label and a list of branches. Recall that we have 2 sets of vocabulary to describe the same abstraction.\n",
    "\n",
    "#### Recursive description (wooden trees):\n",
    "1. A `tree` has a `root label` and a list of `branches`\n",
    "2. Each `branch` is a `tree`\n",
    "3. A `tree` with 0 `branches` is called a `leaf`\n",
    "4. A `tree` starts at the `root`\n",
    "\n",
    "<img src = 'recursive.jpg' width = 500/>\n",
    "\n",
    "#### Relative description (family trees):\n",
    "1. Each location in a tree is called a `node`\n",
    "    * Our implementation of trees describes labels and branches, but nodes are used to describe the characteristic of trees\n",
    "        * e.g. how many labels appear in the whole thing\n",
    "2. Each `node` has a `label` that can be any value\n",
    "3. A node can be the `parent/child` of another\n",
    "    * The `node` with `3` is the parent of the `node` with `2`\n",
    "    * The `node` with `1` is the grandchild of the `node` with 3\n",
    "4. The top node is the `root node`\n",
    "\n",
    "<img src = 'relative.jpg' width = 600/>|\n",
    "\n",
    "A sequence of nodes from the root to a leaf is called a `path`. Below is an example of a path from 3 to 0 (brown lines).\n",
    "\n",
    "<img src = 'path.jpg' width = 600/>"
   ]
  },
  {
   "cell_type": "markdown",
   "metadata": {},
   "source": [
    "## Tree Class"
   ]
  },
  {
   "cell_type": "markdown",
   "metadata": {},
   "source": [
    "A Tree has a label and a list of branches (by default, it's empty). Each branch is a Tree. Below is the class implementation of `Tree`."
   ]
  },
  {
   "cell_type": "code",
   "execution_count": null,
   "metadata": {},
   "outputs": [],
   "source": [
    "class Tree:\n",
    "    def __init__(self, label, branches = []):\n",
    "        self.label = label\n",
    "        # Makes sure that each branch is an instance of the tree class\n",
    "        for branch in branches:\n",
    "            assert isintance(branch, Tree) \n",
    "        # Set the branches to a list version of the branches\n",
    "        self.branches = list(branches)"
   ]
  },
  {
   "cell_type": "markdown",
   "metadata": {},
   "source": [
    "Recall the tree implementation using data abstraction,"
   ]
  },
  {
   "cell_type": "code",
   "execution_count": 2,
   "metadata": {},
   "outputs": [],
   "source": [
    "def tree(label, branches = []):\n",
    "    for branch in branches:\n",
    "        assert is_tree(branch)\n",
    "    return [label] + list(branches)\n",
    "\n",
    "def label(tree):\n",
    "    return tree[0]\n",
    "\n",
    "def branches(tree):\n",
    "    return tree[1:]"
   ]
  },
  {
   "cell_type": "markdown",
   "metadata": {},
   "source": [
    "The implementation using data abstraction requires more work! Not only we have to define the constructor (`tree`), we also need to define the selectors (`label` `branches`). More importantly, we needed to invent a representation! Notice the last line of the `tree` function:"
   ]
  },
  {
   "cell_type": "code",
   "execution_count": null,
   "metadata": {},
   "outputs": [],
   "source": [
    "return [label] + list(branches)"
   ]
  },
  {
   "cell_type": "markdown",
   "metadata": {},
   "source": [
    "We decided that a `Tree` would be represented as a list containing a label (`[label]`) and whatever's left as the branches. This way, the selectors has to match the constructors. \n",
    "\n",
    "The details above are not necessary when using the object system. We only need to declare what the attributes are for each instance of the `Tree` class. On top of that, we know how to access them via dot `.` notation."
   ]
  },
  {
   "cell_type": "code",
   "execution_count": 3,
   "metadata": {},
   "outputs": [],
   "source": [
    "def fib_tree(n):\n",
    "    if n == 0 or n == 1:\n",
    "        return Tree(n)\n",
    "    else:\n",
    "        left = fib_tree(n-2)\n",
    "        right = fib_tree(n-1)\n",
    "        fib_n = left.label + right.label\n",
    "        return Tree(fib_n, [left, right])"
   ]
  },
  {
   "cell_type": "markdown",
   "metadata": {},
   "source": [
    "Above is an implementation of a function that constructs the Fibonacci tree using the `Tree` class. Compare it with the implementation if we were to use data abstraction, "
   ]
  },
  {
   "cell_type": "code",
   "execution_count": 4,
   "metadata": {},
   "outputs": [],
   "source": [
    "def fib_tree(n):\n",
    "    if n == 0 or n == 1:\n",
    "        return tree(n)\n",
    "    else:\n",
    "        left = fib_tree(n-2)\n",
    "        right = fib_tree(n-1)\n",
    "        fib_n = label(left) + label(right)\n",
    "        return tree(fib_n, [left, right])"
   ]
  },
  {
   "cell_type": "markdown",
   "metadata": {},
   "source": [
    "Both implementations are very similar, with the only differences that the class implementation uses capital `T` and uses the dot `.` notation for accessing the label."
   ]
  },
  {
   "cell_type": "markdown",
   "metadata": {},
   "source": [
    "## Demo"
   ]
  },
  {
   "cell_type": "markdown",
   "metadata": {},
   "source": [
    "Below is our `Tree` class,"
   ]
  },
  {
   "cell_type": "code",
   "execution_count": 11,
   "metadata": {},
   "outputs": [],
   "source": [
    "class Tree:\n",
    "    \"\"\"A tree is a label and a list of branches.\"\"\"\n",
    "    def __init__(self, label, branches=[]):\n",
    "        self.label = label\n",
    "        for branch in branches:\n",
    "            assert isinstance(branch, Tree)\n",
    "        self.branches = list(branches)\n",
    "\n",
    "    def __repr__(self):\n",
    "        if self.branches:\n",
    "            branch_str = ', ' + repr(self.branches)\n",
    "        else:\n",
    "            branch_str = ''\n",
    "        return 'Tree({0}{1})'.format(repr(self.label), branch_str)\n",
    "\n",
    "    def __str__(self):\n",
    "        return '\\n'.join(self.indented())\n",
    "\n",
    "    def indented(self):\n",
    "        lines = []\n",
    "        for b in self.branches:\n",
    "            for line in b.indented():\n",
    "                lines.append('  ' + line)\n",
    "        return [str(self.label)] + lines\n",
    "    \n",
    "    def is_leaf(self):\n",
    "        return not self.branches"
   ]
  },
  {
   "cell_type": "code",
   "execution_count": 2,
   "metadata": {},
   "outputs": [
    {
     "data": {
      "text/plain": [
       "Tree(2)"
      ]
     },
     "execution_count": 2,
     "metadata": {},
     "output_type": "execute_result"
    }
   ],
   "source": [
    "Tree(2) # Construct a leaf"
   ]
  },
  {
   "cell_type": "code",
   "execution_count": 3,
   "metadata": {},
   "outputs": [
    {
     "ename": "AssertionError",
     "evalue": "",
     "output_type": "error",
     "traceback": [
      "\u001b[1;31m---------------------------------------------------------------------------\u001b[0m",
      "\u001b[1;31mAssertionError\u001b[0m                            Traceback (most recent call last)",
      "\u001b[1;32m<ipython-input-3-45e5eb8f5406>\u001b[0m in \u001b[0;36m<module>\u001b[1;34m\u001b[0m\n\u001b[1;32m----> 1\u001b[1;33m \u001b[0mTree\u001b[0m\u001b[1;33m(\u001b[0m\u001b[1;36m2\u001b[0m\u001b[1;33m,\u001b[0m \u001b[1;33m[\u001b[0m\u001b[1;36m3\u001b[0m\u001b[1;33m]\u001b[0m\u001b[1;33m)\u001b[0m\u001b[1;33m\u001b[0m\u001b[1;33m\u001b[0m\u001b[0m\n\u001b[0m",
      "\u001b[1;32m<ipython-input-1-7b0e91d2de41>\u001b[0m in \u001b[0;36m__init__\u001b[1;34m(self, label, branches)\u001b[0m\n\u001b[0;32m      4\u001b[0m         \u001b[0mself\u001b[0m\u001b[1;33m.\u001b[0m\u001b[0mlabel\u001b[0m \u001b[1;33m=\u001b[0m \u001b[0mlabel\u001b[0m\u001b[1;33m\u001b[0m\u001b[1;33m\u001b[0m\u001b[0m\n\u001b[0;32m      5\u001b[0m         \u001b[1;32mfor\u001b[0m \u001b[0mbranch\u001b[0m \u001b[1;32min\u001b[0m \u001b[0mbranches\u001b[0m\u001b[1;33m:\u001b[0m\u001b[1;33m\u001b[0m\u001b[1;33m\u001b[0m\u001b[0m\n\u001b[1;32m----> 6\u001b[1;33m             \u001b[1;32massert\u001b[0m \u001b[0misinstance\u001b[0m\u001b[1;33m(\u001b[0m\u001b[0mbranch\u001b[0m\u001b[1;33m,\u001b[0m \u001b[0mTree\u001b[0m\u001b[1;33m)\u001b[0m\u001b[1;33m\u001b[0m\u001b[1;33m\u001b[0m\u001b[0m\n\u001b[0m\u001b[0;32m      7\u001b[0m         \u001b[0mself\u001b[0m\u001b[1;33m.\u001b[0m\u001b[0mbranches\u001b[0m \u001b[1;33m=\u001b[0m \u001b[0mlist\u001b[0m\u001b[1;33m(\u001b[0m\u001b[0mbranches\u001b[0m\u001b[1;33m)\u001b[0m\u001b[1;33m\u001b[0m\u001b[1;33m\u001b[0m\u001b[0m\n\u001b[0;32m      8\u001b[0m \u001b[1;33m\u001b[0m\u001b[0m\n",
      "\u001b[1;31mAssertionError\u001b[0m: "
     ]
    }
   ],
   "source": [
    "Tree(2, [3])"
   ]
  },
  {
   "cell_type": "markdown",
   "metadata": {},
   "source": [
    "Above, we tried to construct a `Tree` with a branch that is not a `Tree`, which didn't work and gave us an error message. A branch has to be a `Tree`. "
   ]
  },
  {
   "cell_type": "code",
   "execution_count": 4,
   "metadata": {},
   "outputs": [
    {
     "data": {
      "text/plain": [
       "Tree(2, [Tree(3)])"
      ]
     },
     "execution_count": 4,
     "metadata": {},
     "output_type": "execute_result"
    }
   ],
   "source": [
    "Tree(2, [Tree(3)])"
   ]
  },
  {
   "cell_type": "code",
   "execution_count": 5,
   "metadata": {},
   "outputs": [
    {
     "data": {
      "text/plain": [
       "Tree(2, [Tree(3), Tree(4)])"
      ]
     },
     "execution_count": 5,
     "metadata": {},
     "output_type": "execute_result"
    }
   ],
   "source": [
    "Tree(2, [Tree(3), Tree(4)])"
   ]
  },
  {
   "cell_type": "markdown",
   "metadata": {},
   "source": [
    "If we `print` the tree above,"
   ]
  },
  {
   "cell_type": "code",
   "execution_count": 6,
   "metadata": {},
   "outputs": [
    {
     "name": "stdout",
     "output_type": "stream",
     "text": [
      "2\n",
      "  3\n",
      "  4\n"
     ]
    }
   ],
   "source": [
    "print(Tree(2, [Tree(3), Tree(4)]))"
   ]
  },
  {
   "cell_type": "markdown",
   "metadata": {},
   "source": [
    "We have 2 as the root, 3 and 4 as the branches. \n",
    "\n",
    "Below we have the memoization function and the `fib_tree` function."
   ]
  },
  {
   "cell_type": "code",
   "execution_count": 12,
   "metadata": {},
   "outputs": [],
   "source": [
    "def memo(f):\n",
    "    cache = {}\n",
    "    def memoized(n):\n",
    "        if n not in cache:\n",
    "            cache[n] = f(n)\n",
    "        return cache[n]\n",
    "    return memoized\n",
    "\n",
    "@memo\n",
    "def fib_tree(n):\n",
    "    \"\"\"A Fibonacci tree.\n",
    "\n",
    "    >>> print(fib_tree(4))\n",
    "    3\n",
    "      1\n",
    "        0\n",
    "        1\n",
    "      2\n",
    "        1\n",
    "        1\n",
    "          0\n",
    "          1\n",
    "    \"\"\"\n",
    "    if n == 0 or n == 1:\n",
    "        return Tree(n)\n",
    "    else:\n",
    "        left = fib_tree(n-2)\n",
    "        right = fib_tree(n-1)\n",
    "        fib_n = left.label + right.label\n",
    "        return Tree(fib_n, [left, right])"
   ]
  },
  {
   "cell_type": "code",
   "execution_count": 8,
   "metadata": {},
   "outputs": [
    {
     "data": {
      "text/plain": [
       "Tree(3, [Tree(1, [Tree(0), Tree(1)]), Tree(2, [Tree(1), Tree(1, [Tree(0), Tree(1)])])])"
      ]
     },
     "execution_count": 8,
     "metadata": {},
     "output_type": "execute_result"
    }
   ],
   "source": [
    "fib_tree(4)"
   ]
  },
  {
   "cell_type": "markdown",
   "metadata": {},
   "source": [
    "As we can see, it is difficult to read the output in its `__repr__` string. However, if we print it out,"
   ]
  },
  {
   "cell_type": "code",
   "execution_count": 9,
   "metadata": {},
   "outputs": [
    {
     "name": "stdout",
     "output_type": "stream",
     "text": [
      "3\n",
      "  1\n",
      "    0\n",
      "    1\n",
      "  2\n",
      "    1\n",
      "    1\n",
      "      0\n",
      "      1\n"
     ]
    }
   ],
   "source": [
    "print(fib_tree(4))"
   ]
  },
  {
   "cell_type": "markdown",
   "metadata": {},
   "source": [
    "Then we can see the structure clearly! "
   ]
  },
  {
   "cell_type": "markdown",
   "metadata": {},
   "source": [
    "Even though we're using a class to represent the Fibonacci tree, we can still construct large trees using memoization."
   ]
  },
  {
   "cell_type": "code",
   "execution_count": 10,
   "metadata": {},
   "outputs": [],
   "source": [
    "t = fib_tree(100)"
   ]
  },
  {
   "cell_type": "markdown",
   "metadata": {},
   "source": [
    "However, if we try to print `t`, it will take a while since the printed representation of the tree has a lot of redundancy. "
   ]
  },
  {
   "cell_type": "markdown",
   "metadata": {},
   "source": [
    "Processing a tree that's an instance of a tree class is almost identical to processing a tree using data abstraction. For example, if we want to write a function that returns a list of the leaves in a tree, "
   ]
  },
  {
   "cell_type": "code",
   "execution_count": 1,
   "metadata": {},
   "outputs": [],
   "source": [
    "def leaves(tree):\n",
    "    if tree.is_leaf():\n",
    "        return [tree.label] #Return a tree containing the label of that leaf\n",
    "    else:\n",
    "        s = [] #Construct a list of all the leaves labels\n",
    "        for b in tree.branches:\n",
    "            s.extend(leaves(b)) # Extend s with the result of recursive call of leaves on b\n",
    "        return s"
   ]
  },
  {
   "cell_type": "code",
   "execution_count": 14,
   "metadata": {},
   "outputs": [
    {
     "data": {
      "text/plain": [
       "[0,\n",
       " 1,\n",
       " 1,\n",
       " 0,\n",
       " 1,\n",
       " 1,\n",
       " 0,\n",
       " 1,\n",
       " 0,\n",
       " 1,\n",
       " 1,\n",
       " 0,\n",
       " 1,\n",
       " 1,\n",
       " 0,\n",
       " 1,\n",
       " 0,\n",
       " 1,\n",
       " 1,\n",
       " 0,\n",
       " 1,\n",
       " 0,\n",
       " 1,\n",
       " 1,\n",
       " 0,\n",
       " 1,\n",
       " 1,\n",
       " 0,\n",
       " 1,\n",
       " 0,\n",
       " 1,\n",
       " 1,\n",
       " 0,\n",
       " 1]"
      ]
     },
     "execution_count": 14,
     "metadata": {},
     "output_type": "execute_result"
    }
   ],
   "source": [
    "leaves(fib_tree(8))"
   ]
  },
  {
   "cell_type": "code",
   "execution_count": null,
   "metadata": {},
   "outputs": [],
   "source": []
  }
 ],
 "metadata": {
  "kernelspec": {
   "display_name": "Python 3",
   "language": "python",
   "name": "python3"
  },
  "language_info": {
   "codemirror_mode": {
    "name": "ipython",
    "version": 3
   },
   "file_extension": ".py",
   "mimetype": "text/x-python",
   "name": "python",
   "nbconvert_exporter": "python",
   "pygments_lexer": "ipython3",
   "version": "3.6.8"
  }
 },
 "nbformat": 4,
 "nbformat_minor": 2
}
