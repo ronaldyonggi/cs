{
 "cells": [
  {
   "cell_type": "code",
   "execution_count": 4,
   "metadata": {},
   "outputs": [],
   "source": [
    "class Tree:\n",
    "    \"\"\"A tree with label as its label value.\"\"\"\n",
    "    def __init__(self, label, branches=[]):\n",
    "        self.label = label\n",
    "        for branch in branches:\n",
    "            assert isinstance(branch, Tree)\n",
    "        self.branches = list(branches)\n",
    "\n",
    "    def __repr__(self):\n",
    "        if self.branches:\n",
    "            branch_str = ', ' + repr(self.branches)\n",
    "        else:\n",
    "            branch_str = ''\n",
    "        return 'Tree({0}{1})'.format(self.label, branch_str)\n",
    "\n",
    "    def __str__(self):\n",
    "        return '\\n'.join(self.indented())\n",
    "\n",
    "    def indented(self, k=0):\n",
    "        indented = []\n",
    "        for b in self.branches:\n",
    "            for line in b.indented(k + 1):\n",
    "                indented.append('  ' + line)\n",
    "        return [str(self.label)] + indented\n",
    "\n",
    "    def is_leaf(self):\n",
    "        return not self.branches"
   ]
  },
  {
   "cell_type": "code",
   "execution_count": 5,
   "metadata": {},
   "outputs": [],
   "source": [
    "class BTree(Tree): #Subclass of a Tree\n",
    "    empty = Tree(None) # Represent an empty as a Tree that contains nothing\n",
    "    \n",
    "    def __init__(self, label, left = empty, right = empty):\n",
    "        # Construct a binary tree\n",
    "        Tree.__init__(self, label, [left, right])\n",
    "        \n",
    "    # To access left branch, we use @property method decorator\n",
    "    @property\n",
    "    def left(self):\n",
    "        return self.branches[0]\n",
    "    \n",
    "    # Same for right branch\n",
    "    @property\n",
    "    def right(self):\n",
    "        return self.branches[1]\n",
    "    \n",
    "    # A new definition of is_leaf\n",
    "    def is_leaf(self):\n",
    "        # A leaf is when both branches are empty\n",
    "        return [self.left, self.right] == [BTree.empty] * 2\n",
    "    \n",
    "    # The __repr__ method shows what to display\n",
    "    def __repr__(self):\n",
    "        if self.is_leaf():\n",
    "            return 'BTree({0})'.format(self.label)\n",
    "        elif self.right is BTree.empty:\n",
    "            left = repr(self.left)\n",
    "            return 'BTree({0}, {1})'.format(self.label, left)\n",
    "        else:\n",
    "            left, right = repr(self.left), repr(self.right)\n",
    "            if self.left is BTree.empty:\n",
    "                left = 'BTree.empty' \n",
    "            template = 'BTree({0}, {1}, {2})'\n",
    "            return template.format(self.label, left, right)"
   ]
  },
  {
   "cell_type": "markdown",
   "metadata": {},
   "source": [
    "# Binary Search Trees"
   ]
  },
  {
   "cell_type": "markdown",
   "metadata": {},
   "source": [
    "The most common application of a binary tree is to aid in binary search."
   ]
  },
  {
   "cell_type": "markdown",
   "metadata": {},
   "source": [
    "## Binary Search"
   ]
  },
  {
   "cell_type": "markdown",
   "metadata": {},
   "source": [
    "Binary search is a strategy for finding a value in a sorted sequence (e.g. list).\n",
    "* The strategy is to check the middle\n",
    "* If it's not the value that we're looking for, we can still eliminate half the list \n",
    "\n",
    "Let's say we're looking for 20 in"
   ]
  },
  {
   "cell_type": "code",
   "execution_count": null,
   "metadata": {},
   "outputs": [],
   "source": [
    "[1, 2, 4, 8, 16, 32, 64] # Sorted in increasing order"
   ]
  },
  {
   "cell_type": "markdown",
   "metadata": {},
   "source": [
    "First we check the middle element, `8`"
   ]
  },
  {
   "cell_type": "markdown",
   "metadata": {},
   "source": [
    "<img src = '8.jpg' width = 500/>"
   ]
  },
  {
   "cell_type": "markdown",
   "metadata": {},
   "source": [
    "8 is not 20, but it's smaller than 20. This means we can eliminate 8 and the elements smaller than 8. "
   ]
  },
  {
   "cell_type": "markdown",
   "metadata": {},
   "source": [
    "<img src = 'eliminate.jpg' width = 500/>"
   ]
  },
  {
   "cell_type": "markdown",
   "metadata": {},
   "source": [
    "Now we check the middle of the remaining elements, which is 32."
   ]
  },
  {
   "cell_type": "markdown",
   "metadata": {},
   "source": [
    "<img src = '32.jpg' width = 500/>"
   ]
  },
  {
   "cell_type": "markdown",
   "metadata": {},
   "source": [
    "32 is greater than 20. Thus we can eliminate 32 and the elements greater than 32."
   ]
  },
  {
   "cell_type": "markdown",
   "metadata": {},
   "source": [
    "<img src = '16.jpg' width = 400/>"
   ]
  },
  {
   "cell_type": "markdown",
   "metadata": {},
   "source": [
    "Now we only have 16 left.  16 is not 20, and this way we can tell that 20 is not in the list. Thus, return `False`. "
   ]
  },
  {
   "cell_type": "markdown",
   "metadata": {},
   "source": [
    "What about if we checked for an element that's within the list? Let's say we want to check if `4` is in the following list,"
   ]
  },
  {
   "cell_type": "code",
   "execution_count": null,
   "metadata": {},
   "outputs": [],
   "source": [
    "[1, 2, 4, 8, 16, 32]"
   ]
  },
  {
   "cell_type": "markdown",
   "metadata": {},
   "source": [
    "First, Python checks the middle element 8. 8 is greater than 4, so we can get rid of 8 and all elements greater than that."
   ]
  },
  {
   "cell_type": "markdown",
   "metadata": {},
   "source": [
    "<img src = '4.jpg' width = 500/>"
   ]
  },
  {
   "cell_type": "markdown",
   "metadata": {},
   "source": [
    "Now Python checks for the middle element again, 2. 2 is smaller than 8, so Python gets rid of 2 and all the elements smaller than 2."
   ]
  },
  {
   "cell_type": "markdown",
   "metadata": {},
   "source": [
    "<img src = 'left.jpg' width = 300/>"
   ]
  },
  {
   "cell_type": "markdown",
   "metadata": {},
   "source": [
    "Now we only have `4` left. 4 is exactly the number we are looking for! Thus, Python returns `True`."
   ]
  },
  {
   "cell_type": "markdown",
   "metadata": {},
   "source": [
    "For a sorted list of length `n`, what $\\Theta$ expression describes the time required to check whether an element is within a list? \n",
    "\n",
    "$$ \\Theta(log (n))$$\n",
    "\n",
    "We eliminate half the work with each step. \n",
    "\n",
    "Binary search trees are like sorted list, except that they store their values as labels in a `Tree`. The advantage of using `Tree` is that it is quicker to add new elements than adding new elements into a sorted list."
   ]
  },
  {
   "cell_type": "markdown",
   "metadata": {},
   "source": [
    "## Binary Search Trees"
   ]
  },
  {
   "cell_type": "markdown",
   "metadata": {},
   "source": [
    "A binary search tree is a binary tree where each node's label is:\n",
    "1. Larger than all node labels in its left branch\n",
    "2. Smaller than all node labels in its right branch\n",
    "\n",
    "There are multiple binary search trees for every sorted list of numbers. For example,"
   ]
  },
  {
   "cell_type": "code",
   "execution_count": null,
   "metadata": {},
   "outputs": [],
   "source": [
    "[1, 3, 5, 7, 9]"
   ]
  },
  {
   "cell_type": "markdown",
   "metadata": {},
   "source": [
    "The numbers above can be represented in a binary search tree like the following,"
   ]
  },
  {
   "cell_type": "markdown",
   "metadata": {},
   "source": [
    "<img src = 'bin_tree.jpg' width = 200/>"
   ]
  },
  {
   "cell_type": "markdown",
   "metadata": {},
   "source": [
    "Everything on the left side of `7` is smaller than `7`. Everything on the right side of `7` is greater than `7`. This property pertains recursively (e.g. also applies for the subtrees).\n",
    "\n",
    "The above binary tree is not the only binary search tree. Here are some others."
   ]
  },
  {
   "cell_type": "markdown",
   "metadata": {},
   "source": [
    "<img src = 'bin_tree2.jpg' width = 200/> <img src = 'bin_tree3.jpg' width = 200/>"
   ]
  },
  {
   "cell_type": "markdown",
   "metadata": {},
   "source": [
    "## Implementation"
   ]
  },
  {
   "cell_type": "markdown",
   "metadata": {},
   "source": [
    "Let's say we have a sorted list of numbers `s`. How do we construct a binary search tree out of `s`?\n",
    "\n",
    "We saw that there are many binary search trees that can be formed from a list of numbers. The best kind of binary search trees are the balanced ones. This means for any subtrees within the whole binary tree, the left branch should have about the same length as the right branch. \n",
    "\n",
    "Traversing a balanced tree gives us the $\\Theta(log(n))$ order of growth since if we can eliminate the left or right branch, we get rid of half the work. "
   ]
  },
  {
   "cell_type": "code",
   "execution_count": 1,
   "metadata": {},
   "outputs": [],
   "source": [
    "def balanced_bst(s):\n",
    "    # Base case: if s is empty, return an empty binary search tree\n",
    "    if not s:\n",
    "        return BTree.empty\n",
    "    else:\n",
    "        #First, find the midpoint\n",
    "        mid = len(s) // 2\n",
    "        # Then we construct a binary search tree out of everything that's less than the midpoint\n",
    "\n",
    "        # For left branch, create a bst that's up to but not including the midpoint\n",
    "        left = balanced_bst(s[:mid])\n",
    "        # For the right tree includes the elements after midpoint, and all the elements after that.\n",
    "        right = balanced_bst(s[mid+1:])\n",
    "        # Return a BTree with s[mid] as the label\n",
    "        return BTree(s[mid], left, right)"
   ]
  },
  {
   "cell_type": "markdown",
   "metadata": {},
   "source": [
    "Now let's try to create a binary search tree out of the list `[3, 4, 5]`. The root of the tree should be `4`!"
   ]
  },
  {
   "cell_type": "code",
   "execution_count": 6,
   "metadata": {},
   "outputs": [
    {
     "data": {
      "text/plain": [
       "BTree(4, BTree(3), BTree(5))"
      ]
     },
     "execution_count": 6,
     "metadata": {},
     "output_type": "execute_result"
    }
   ],
   "source": [
    "balanced_bst([3, 4, 5])"
   ]
  },
  {
   "cell_type": "markdown",
   "metadata": {},
   "source": [
    "As we can see, we obtain a Binary Tree with a label 4, a left branch 3 and a right brand 5!\n",
    "\n",
    "How about a list of numbers from 1 to 9?"
   ]
  },
  {
   "cell_type": "code",
   "execution_count": 7,
   "metadata": {},
   "outputs": [
    {
     "data": {
      "text/plain": [
       "BTree(5, BTree(2, BTree(1, BTree(0)), BTree(4, BTree(3))), BTree(8, BTree(7, BTree(6)), BTree(9)))"
      ]
     },
     "execution_count": 7,
     "metadata": {},
     "output_type": "execute_result"
    }
   ],
   "source": [
    "balanced_bst(range(10))"
   ]
  },
  {
   "cell_type": "markdown",
   "metadata": {},
   "source": [
    "## Discussion Questions "
   ]
  },
  {
   "cell_type": "markdown",
   "metadata": {},
   "source": [
    "### What's the largest element in a binary search tree?"
   ]
  },
  {
   "cell_type": "markdown",
   "metadata": {},
   "source": [
    "What's the largest element in a binary search tree?\n",
    "\n",
    "For example, if we have the following tree,"
   ]
  },
  {
   "cell_type": "markdown",
   "metadata": {},
   "source": [
    "<img src = 'bin_tree.jpg' width = 200/>"
   ]
  },
  {
   "cell_type": "markdown",
   "metadata": {},
   "source": [
    "Then it should return `11`. "
   ]
  },
  {
   "cell_type": "code",
   "execution_count": 26,
   "metadata": {},
   "outputs": [],
   "source": [
    "def largest(t):\n",
    "    # If the right branch of the currently selected tree is empty\n",
    "    if t.right is BTree.empty:\n",
    "        # Then return the label of the currently selected tree\n",
    "        return t.label\n",
    "    else:\n",
    "        # Since the greater element is always on the right branch, recursive call on the right branch\n",
    "        return largest(t.right)"
   ]
  },
  {
   "cell_type": "code",
   "execution_count": 27,
   "metadata": {},
   "outputs": [
    {
     "data": {
      "text/plain": [
       "11"
      ]
     },
     "execution_count": 27,
     "metadata": {},
     "output_type": "execute_result"
    }
   ],
   "source": [
    "largest(balanced_bst(range(12)))"
   ]
  },
  {
   "cell_type": "markdown",
   "metadata": {},
   "source": [
    "### What's the 2nd largest element in a binary search tree?"
   ]
  },
  {
   "cell_type": "code",
   "execution_count": 29,
   "metadata": {},
   "outputs": [],
   "source": [
    "def second(t):\n",
    "    # Base case: if we start with a leaf\n",
    "    if t.is_leaf():\n",
    "        return None\n",
    "    \n",
    "    #This second condition applies for a Binary Search tree like below.\n",
    "    # If the right branch of the currently selected tree is empty, then search through the left branch\n",
    "    # If we happen to search through the left branch, it must be the case that left branch has a right branch!\n",
    "    elif t.right is BTree.empty:\n",
    "        return second(left)\n",
    "    # If 2 branches to the right of the currently selected tree doesn't have any more branches\n",
    "    elif t.right.is_leaf():\n",
    "        # Then the currently selected tree is the answer!\n",
    "        return t.label\n",
    "    else:\n",
    "        return second(t.right)"
   ]
  },
  {
   "cell_type": "markdown",
   "metadata": {},
   "source": [
    "<img src = '2nd.jpg' width =200/>"
   ]
  },
  {
   "cell_type": "code",
   "execution_count": null,
   "metadata": {},
   "outputs": [],
   "source": []
  }
 ],
 "metadata": {
  "kernelspec": {
   "display_name": "Python 3",
   "language": "python",
   "name": "python3"
  },
  "language_info": {
   "codemirror_mode": {
    "name": "ipython",
    "version": 3
   },
   "file_extension": ".py",
   "mimetype": "text/x-python",
   "name": "python",
   "nbconvert_exporter": "python",
   "pygments_lexer": "ipython3",
   "version": "3.6.8"
  }
 },
 "nbformat": 4,
 "nbformat_minor": 2
}
