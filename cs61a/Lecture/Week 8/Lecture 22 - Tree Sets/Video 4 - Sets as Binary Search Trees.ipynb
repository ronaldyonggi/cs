{
 "cells": [
  {
   "cell_type": "code",
   "execution_count": 16,
   "metadata": {},
   "outputs": [],
   "source": [
    "class Tree:\n",
    "    \"\"\"A tree with label as its label value.\"\"\"\n",
    "    def __init__(self, label, branches=[]):\n",
    "        self.label = label\n",
    "        for branch in branches:\n",
    "            assert isinstance(branch, Tree)\n",
    "        self.branches = list(branches)\n",
    "\n",
    "    def __repr__(self):\n",
    "        if self.branches:\n",
    "            branch_str = ', ' + repr(self.branches)\n",
    "        else:\n",
    "            branch_str = ''\n",
    "        return 'Tree({0}{1})'.format(self.label, branch_str)\n",
    "\n",
    "    def __str__(self):\n",
    "        return '\\n'.join(self.indented())\n",
    "\n",
    "    def indented(self, k=0):\n",
    "        indented = []\n",
    "        for b in self.branches:\n",
    "            for line in b.indented(k + 1):\n",
    "                indented.append('  ' + line)\n",
    "        return [str(self.label)] + indented\n",
    "\n",
    "    def is_leaf(self):\n",
    "        return not self.branches"
   ]
  },
  {
   "cell_type": "code",
   "execution_count": 17,
   "metadata": {},
   "outputs": [],
   "source": [
    "class BTree(Tree): #Subclass of a Tree\n",
    "    empty = Tree(None) # Represent an empty as a Tree that contains nothing\n",
    "    \n",
    "    def __init__(self, label, left = empty, right = empty):\n",
    "        # Construct a binary tree\n",
    "        Tree.__init__(self, label, [left, right])\n",
    "        \n",
    "    # To access left branch, we use @property method decorator\n",
    "    @property\n",
    "    def left(self):\n",
    "        return self.branches[0]\n",
    "    \n",
    "    # Same for right branch\n",
    "    @property\n",
    "    def right(self):\n",
    "        return self.branches[1]\n",
    "    \n",
    "    # A new definition of is_leaf\n",
    "    def is_leaf(self):\n",
    "        # A leaf is when both branches are empty\n",
    "        return [self.left, self.right] == [BTree.empty] * 2\n",
    "    \n",
    "    # The __repr__ method shows what to display\n",
    "    def __repr__(self):\n",
    "        if self.is_leaf():\n",
    "            return 'BTree({0})'.format(self.label)\n",
    "        elif self.right is BTree.empty:\n",
    "            left = repr(self.left)\n",
    "            return 'BTree({0}, {1})'.format(self.label, left)\n",
    "        else:\n",
    "            left, right = repr(self.left), repr(self.right)\n",
    "            if self.left is BTree.empty:\n",
    "                left = 'BTree.empty' \n",
    "            template = 'BTree({0}, {1}, {2})'\n",
    "            return template.format(self.label, left, right)"
   ]
  },
  {
   "cell_type": "code",
   "execution_count": 18,
   "metadata": {},
   "outputs": [],
   "source": [
    "def balanced_bst(s):\n",
    "    # Base case: if s is empty, return an empty binary search tree\n",
    "    if not s:\n",
    "        return BTree.empty\n",
    "    else:\n",
    "        #First, find the midpoint\n",
    "        mid = len(s) // 2\n",
    "        # Then we construct a binary search tree out of everything that's less than the midpoint\n",
    "\n",
    "        # For left branch, create a bst that's up to but not including the midpoint\n",
    "        left = balanced_bst(s[:mid])\n",
    "        # For the right tree includes the elements after midpoint, and all the elements after that.\n",
    "        right = balanced_bst(s[mid+1:])\n",
    "        # Return a BTree with s[mid] as the label\n",
    "        return BTree(s[mid], left, right)"
   ]
  },
  {
   "cell_type": "markdown",
   "metadata": {},
   "source": [
    "# Sets as Binary Search Trees"
   ]
  },
  {
   "cell_type": "markdown",
   "metadata": {},
   "source": [
    "## Membership in Binary Search Trees"
   ]
  },
  {
   "cell_type": "markdown",
   "metadata": {},
   "source": [
    "`contains` traverses the tree \n",
    "* If the element is not the root, it can only be in either the left or right branch\n",
    "* By focusing on one branch, we reduce the set by the size of the other branch\n",
    "\n",
    "So let's say we have the following tree,"
   ]
  },
  {
   "cell_type": "markdown",
   "metadata": {},
   "source": [
    "<img src = 'bin_tree.jpg' width = 200/>"
   ]
  },
  {
   "cell_type": "markdown",
   "metadata": {},
   "source": [
    "And we want to know if `9` is in the set. How do we implement `contains`?"
   ]
  },
  {
   "cell_type": "code",
   "execution_count": 19,
   "metadata": {},
   "outputs": [],
   "source": [
    "def contains(s, v):\n",
    "    # If s is empty, than v is definitely not there\n",
    "    if s is BTree.empty:\n",
    "        return False\n",
    "    # If the label of the currently selected Tree is v, then we found it!\n",
    "    elif s.label == v:\n",
    "        return True\n",
    "    # If v is smaller than the label of the currently selected Tree, search through the left branch of the current Tree\n",
    "    elif s.label > v:\n",
    "        return contains(s.left, v)\n",
    "    # if v is greater than the label of the currently selected Tree, search through the right branch of the current Tree\n",
    "    elif s.label < v:\n",
    "        return contains(s.right, v)"
   ]
  },
  {
   "cell_type": "markdown",
   "metadata": {},
   "source": [
    "What's the order of growth? Depends on the structure of the tree. \n",
    "1. On average, it's $\\Theta(h)$ where $h$ is the height of the tree\n",
    "    * We traverse from branch to branch, picking one branch at a time\n",
    "2. A balanced tree (roughly same elements on the left and right branches) on average has a height of $log(n)$, where `n` is the number of entries the tree contains.\n",
    "    * Thus, a balanced tree has an order of growth of $\\Theta(log(n))$, which is faster than the linear time that we saw for an ordered list."
   ]
  },
  {
   "cell_type": "markdown",
   "metadata": {},
   "source": [
    "## Adjoining to a Tree Set"
   ]
  },
  {
   "cell_type": "markdown",
   "metadata": {},
   "source": [
    "Why wouldn't we use a sorted list in the first place then perform binary search on that?\n",
    "\n",
    "If we did that, `adjoin` would become slow. Adding an element into the middle of a list takes a long time.\n",
    "* It's fast on a linked list, but we can't perform binary search on a linked list\n",
    "* If it's a regular list, it would be slow\n",
    "\n",
    "However, adjoining to a binary search tree is fast!\n",
    "\n",
    "Let's say we want to adjoin `8` to the following tree,"
   ]
  },
  {
   "cell_type": "markdown",
   "metadata": {},
   "source": [
    "<img src = 'adjoin_1.jpg' width = 150/>"
   ]
  },
  {
   "cell_type": "markdown",
   "metadata": {},
   "source": [
    "Since `8` is greater than `5`, we go to the right branch."
   ]
  },
  {
   "cell_type": "markdown",
   "metadata": {},
   "source": [
    "<img src = 'adjoin_2.jpg' width = 100/>"
   ]
  },
  {
   "cell_type": "markdown",
   "metadata": {},
   "source": [
    "Above, since 8 is less than 9, we take the left branch. Now we have 7 left. Technically, this 7 still has branches: empty branches."
   ]
  },
  {
   "cell_type": "markdown",
   "metadata": {},
   "source": [
    "<img src = 'adjoin_3.jpg' width = 200/>"
   ]
  },
  {
   "cell_type": "markdown",
   "metadata": {},
   "source": [
    "Since 8 is greater than 7, we take the right branch!"
   ]
  },
  {
   "cell_type": "markdown",
   "metadata": {},
   "source": [
    "<img src = 'adjoin_4.jpg' width = 100/>"
   ]
  },
  {
   "cell_type": "markdown",
   "metadata": {},
   "source": [
    "Now since we're left with an empty Tree, we put 8 there. Thus, our new binary search tree would be the following,"
   ]
  },
  {
   "cell_type": "markdown",
   "metadata": {},
   "source": [
    "<img src = 'adjoin_5.jpg' width = 400/>"
   ]
  },
  {
   "cell_type": "markdown",
   "metadata": {},
   "source": [
    "## Implementation"
   ]
  },
  {
   "cell_type": "markdown",
   "metadata": {},
   "source": [
    "We might think the following implementation would work. However, this implementation is wrong!"
   ]
  },
  {
   "cell_type": "code",
   "execution_count": 20,
   "metadata": {},
   "outputs": [],
   "source": [
    "def adjoin(s, v): # s is a set represented as binary search tree\n",
    "    # if s is an empty BTree\n",
    "    if s is BTree.empty:\n",
    "        return BTree(v) # Then add v to this tree\n",
    "    # If v is already in the tree, then do nothing\n",
    "    elif s.label == v:\n",
    "        return s\n",
    "    # If the current tree label is smaller than v, create a binary \n",
    "    elif s.label < v:\n",
    "        return adjoin(s.right, v)\n",
    "    # Similar for the left side\n",
    "    elif s.label > v:\n",
    "        return adjoin(s.left, v)"
   ]
  },
  {
   "cell_type": "markdown",
   "metadata": {},
   "source": [
    "How could it be wrong?"
   ]
  },
  {
   "cell_type": "code",
   "execution_count": 21,
   "metadata": {},
   "outputs": [
    {
     "data": {
      "text/plain": [
       "[1, 3, 5, 7, 9, 11]"
      ]
     },
     "execution_count": 21,
     "metadata": {},
     "output_type": "execute_result"
    }
   ],
   "source": [
    "odds = [2 * n + 1 for n in range(6)]\n",
    "odds"
   ]
  },
  {
   "cell_type": "code",
   "execution_count": 22,
   "metadata": {},
   "outputs": [
    {
     "data": {
      "text/plain": [
       "BTree(7, BTree(3, BTree(1), BTree(5)), BTree(11, BTree(9)))"
      ]
     },
     "execution_count": 22,
     "metadata": {},
     "output_type": "execute_result"
    }
   ],
   "source": [
    "t = balanced_bst(odds)\n",
    "t"
   ]
  },
  {
   "cell_type": "code",
   "execution_count": 23,
   "metadata": {},
   "outputs": [
    {
     "data": {
      "text/plain": [
       "BTree(8)"
      ]
     },
     "execution_count": 23,
     "metadata": {},
     "output_type": "execute_result"
    }
   ],
   "source": [
    "adjoin(t, 8)"
   ]
  },
  {
   "cell_type": "markdown",
   "metadata": {},
   "source": [
    "As we can see, `adjoin` returns a binary search tree that is containing only 8! What about the original tree?\n",
    "\n",
    "It turns out that when checking whether the current label is greater or smaller than `v`, we need to return a `BTree` that includes the original tree. For example,"
   ]
  },
  {
   "cell_type": "code",
   "execution_count": 24,
   "metadata": {},
   "outputs": [
    {
     "ename": "SyntaxError",
     "evalue": "invalid syntax (<ipython-input-24-bfb619a5b89e>, line 1)",
     "output_type": "error",
     "traceback": [
      "\u001b[1;36m  File \u001b[1;32m\"<ipython-input-24-bfb619a5b89e>\"\u001b[1;36m, line \u001b[1;32m1\u001b[0m\n\u001b[1;33m    elif s.label < v:\u001b[0m\n\u001b[1;37m       ^\u001b[0m\n\u001b[1;31mSyntaxError\u001b[0m\u001b[1;31m:\u001b[0m invalid syntax\n"
     ]
    }
   ],
   "source": [
    "elif s.label < v:\n",
    "    return BTree(s.label, s.left, adjoin(s.right, v))\n",
    "elif s.label > v:\n",
    "    return BTree(s.label, adjoin(s.left, v), s.right)"
   ]
  },
  {
   "cell_type": "markdown",
   "metadata": {},
   "source": [
    "Thus we have,"
   ]
  },
  {
   "cell_type": "code",
   "execution_count": 25,
   "metadata": {},
   "outputs": [],
   "source": [
    "def adjoin(s, v): \n",
    "    if s is BTree.empty:\n",
    "        return BTree(v) \n",
    "    elif s.label == v:\n",
    "        return s\n",
    "    elif s.label < v:\n",
    "        return BTree(s.label, s.left, adjoin(s.right, v))\n",
    "    elif s.label > v:\n",
    "        return BTree(s.label, adjoin(s.left, v), s.right)"
   ]
  },
  {
   "cell_type": "code",
   "execution_count": 26,
   "metadata": {},
   "outputs": [
    {
     "data": {
      "text/plain": [
       "BTree(7, BTree(3, BTree(1), BTree(5)), BTree(11, BTree(9, BTree(8))))"
      ]
     },
     "execution_count": 26,
     "metadata": {},
     "output_type": "execute_result"
    }
   ],
   "source": [
    "adjoin(t, 8) # Note that this doesn't mutate the original tree, `t`."
   ]
  },
  {
   "cell_type": "code",
   "execution_count": 27,
   "metadata": {},
   "outputs": [
    {
     "name": "stdout",
     "output_type": "stream",
     "text": [
      "7\n",
      "  3\n",
      "    1\n",
      "      None\n",
      "      None\n",
      "    5\n",
      "      None\n",
      "      None\n",
      "  11\n",
      "    9\n",
      "      8\n",
      "        None\n",
      "        None\n",
      "      None\n",
      "    None\n"
     ]
    }
   ],
   "source": [
    "print(adjoin(t, 8))"
   ]
  },
  {
   "cell_type": "code",
   "execution_count": 28,
   "metadata": {},
   "outputs": [
    {
     "data": {
      "text/plain": [
       "BTree(7, BTree(3, BTree(1), BTree(5)), BTree(11, BTree(9)))"
      ]
     },
     "execution_count": 28,
     "metadata": {},
     "output_type": "execute_result"
    }
   ],
   "source": [
    "adjoin(t, 3)"
   ]
  },
  {
   "cell_type": "markdown",
   "metadata": {},
   "source": [
    "`adjoin`ing in this way doesn't guarantee a balanced structure. "
   ]
  },
  {
   "cell_type": "code",
   "execution_count": 29,
   "metadata": {},
   "outputs": [
    {
     "data": {
      "text/plain": [
       "BTree(0, BTree.empty, BTree(1, BTree.empty, BTree(2, BTree.empty, BTree(3, BTree.empty, BTree(4, BTree.empty, BTree(5, BTree.empty, BTree(6, BTree.empty, BTree(7, BTree.empty, BTree(8, BTree.empty, BTree(9, BTree.empty, BTree(10, BTree.empty, BTree(11, BTree.empty, BTree(12, BTree.empty, BTree(13, BTree.empty, BTree(14, BTree.empty, BTree(15, BTree.empty, BTree(16, BTree.empty, BTree(17, BTree.empty, BTree(18, BTree.empty, BTree(19))))))))))))))))))))"
      ]
     },
     "execution_count": 29,
     "metadata": {},
     "output_type": "execute_result"
    }
   ],
   "source": [
    "t = BTree.empty\n",
    "for k in range(20):\n",
    "    t = adjoin(t, k)\n",
    "\n",
    "t"
   ]
  },
  {
   "cell_type": "code",
   "execution_count": 30,
   "metadata": {},
   "outputs": [
    {
     "name": "stdout",
     "output_type": "stream",
     "text": [
      "0\n",
      "  None\n",
      "  1\n",
      "    None\n",
      "    2\n",
      "      None\n",
      "      3\n",
      "        None\n",
      "        4\n",
      "          None\n",
      "          5\n",
      "            None\n",
      "            6\n",
      "              None\n",
      "              7\n",
      "                None\n",
      "                8\n",
      "                  None\n",
      "                  9\n",
      "                    None\n",
      "                    10\n",
      "                      None\n",
      "                      11\n",
      "                        None\n",
      "                        12\n",
      "                          None\n",
      "                          13\n",
      "                            None\n",
      "                            14\n",
      "                              None\n",
      "                              15\n",
      "                                None\n",
      "                                16\n",
      "                                  None\n",
      "                                  17\n",
      "                                    None\n",
      "                                    18\n",
      "                                      None\n",
      "                                      19\n",
      "                                        None\n",
      "                                        None\n"
     ]
    }
   ],
   "source": [
    "print(t)"
   ]
  },
  {
   "cell_type": "markdown",
   "metadata": {},
   "source": [
    "The problem was caused by the fact that we are trying to adjoin a sorted order. If we are trying to adjoin an arbitrary order instead, the result would be different. "
   ]
  },
  {
   "cell_type": "code",
   "execution_count": 32,
   "metadata": {},
   "outputs": [
    {
     "data": {
      "text/plain": [
       "[0, 1, 2, 3, 4, 5, 6, 7, 8, 9, 10, 11, 12, 13, 14, 15, 16, 17, 18, 19]"
      ]
     },
     "execution_count": 32,
     "metadata": {},
     "output_type": "execute_result"
    }
   ],
   "source": [
    "s = list(range(20))\n",
    "s"
   ]
  },
  {
   "cell_type": "code",
   "execution_count": 33,
   "metadata": {},
   "outputs": [
    {
     "data": {
      "text/plain": [
       "[18, 4, 12, 19, 13, 17, 15, 10, 8, 1, 0, 6, 14, 3, 7, 5, 2, 11, 16, 9]"
      ]
     },
     "execution_count": 33,
     "metadata": {},
     "output_type": "execute_result"
    }
   ],
   "source": [
    "from random import shuffle\n",
    "shuffle(s)\n",
    "s"
   ]
  },
  {
   "cell_type": "code",
   "execution_count": 34,
   "metadata": {},
   "outputs": [],
   "source": [
    "t = BTree.empty # Start with an empty tree\n",
    "for k in s:\n",
    "    t = adjoin(t, k)"
   ]
  },
  {
   "cell_type": "code",
   "execution_count": 35,
   "metadata": {},
   "outputs": [
    {
     "data": {
      "text/plain": [
       "BTree(18, BTree(4, BTree(1, BTree(0), BTree(3, BTree(2))), BTree(12, BTree(10, BTree(8, BTree(6, BTree(5), BTree(7)), BTree(9)), BTree(11)), BTree(13, BTree.empty, BTree(17, BTree(15, BTree(14), BTree(16)))))), BTree(19))"
      ]
     },
     "execution_count": 35,
     "metadata": {},
     "output_type": "execute_result"
    }
   ],
   "source": [
    "t"
   ]
  },
  {
   "cell_type": "code",
   "execution_count": 36,
   "metadata": {},
   "outputs": [
    {
     "name": "stdout",
     "output_type": "stream",
     "text": [
      "18\n",
      "  4\n",
      "    1\n",
      "      0\n",
      "        None\n",
      "        None\n",
      "      3\n",
      "        2\n",
      "          None\n",
      "          None\n",
      "        None\n",
      "    12\n",
      "      10\n",
      "        8\n",
      "          6\n",
      "            5\n",
      "              None\n",
      "              None\n",
      "            7\n",
      "              None\n",
      "              None\n",
      "          9\n",
      "            None\n",
      "            None\n",
      "        11\n",
      "          None\n",
      "          None\n",
      "      13\n",
      "        None\n",
      "        17\n",
      "          15\n",
      "            14\n",
      "              None\n",
      "              None\n",
      "            16\n",
      "              None\n",
      "              None\n",
      "          None\n",
      "  19\n",
      "    None\n",
      "    None\n"
     ]
    }
   ],
   "source": [
    "print(t)"
   ]
  },
  {
   "cell_type": "markdown",
   "metadata": {},
   "source": [
    "As we can see, if we try to adjoin an arbitrary sequence of number, the result is not as deeply nested compared to if we adjoin an ordered sequence!\n",
    "\n",
    "Searching through an element within this binary search tree would be faster compared to searching within a long linear tree. "
   ]
  },
  {
   "cell_type": "markdown",
   "metadata": {},
   "source": [
    "## Additional"
   ]
  },
  {
   "cell_type": "markdown",
   "metadata": {},
   "source": [
    "An interesting topic in CS is how to keep binary search trees balanced. "
   ]
  },
  {
   "cell_type": "markdown",
   "metadata": {},
   "source": []
  }
 ],
 "metadata": {
  "kernelspec": {
   "display_name": "Python 3",
   "language": "python",
   "name": "python3"
  },
  "language_info": {
   "codemirror_mode": {
    "name": "ipython",
    "version": 3
   },
   "file_extension": ".py",
   "mimetype": "text/x-python",
   "name": "python",
   "nbconvert_exporter": "python",
   "pygments_lexer": "ipython3",
   "version": "3.6.8"
  }
 },
 "nbformat": 4,
 "nbformat_minor": 2
}
