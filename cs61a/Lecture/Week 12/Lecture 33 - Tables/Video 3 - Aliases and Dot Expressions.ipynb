{
 "cells": [
  {
   "cell_type": "code",
   "execution_count": 2,
   "metadata": {},
   "outputs": [
    {
     "data": {
      "text/plain": [
       "'Connected: @None'"
      ]
     },
     "execution_count": 2,
     "metadata": {},
     "output_type": "execute_result"
    }
   ],
   "source": [
    "%load_ext sql\n",
    "%sql sqlite://"
   ]
  },
  {
   "cell_type": "code",
   "execution_count": 3,
   "metadata": {},
   "outputs": [
    {
     "name": "stdout",
     "output_type": "stream",
     "text": [
      " * sqlite://\n",
      "Done.\n",
      "Done.\n"
     ]
    },
    {
     "data": {
      "text/plain": [
       "[]"
      ]
     },
     "execution_count": 3,
     "metadata": {},
     "output_type": "execute_result"
    }
   ],
   "source": [
    "%%sql\n",
    "\n",
    "create table dogs as\n",
    "    select \"abraham\" as name, \"long\" as fur union\n",
    "    select \"barack\", \"short\" union\n",
    "    select \"clinton\", \"long\" union\n",
    "    select \"delano\", \"long\" union\n",
    "    select \"eisenhower\", \"short\" union\n",
    "    select \"fillmore\", \"curly\" union\n",
    "    select \"grover\", \"short\" union\n",
    "    select \"herbert\", \"curly\";\n",
    "    \n",
    "create table parents as\n",
    "    select \"abraham\" as parent, \"barack\" as child union\n",
    "    select \"abraham\"          , \"clinton\"         union\n",
    "    select \"delano\"          , \"herbert\"         union\n",
    "    select \"fillmore\"          , \"abraham\"         union\n",
    "    select \"fillmore\"          , \"delano\"         union\n",
    "    select \"fillmore\"          , \"grover\"         union\n",
    "    select \"eisenhower\"          , \"fillmore\";    "
   ]
  },
  {
   "cell_type": "markdown",
   "metadata": {},
   "source": [
    "# Aliases and Dot Expressions"
   ]
  },
  {
   "cell_type": "markdown",
   "metadata": {},
   "source": [
    "In the previous video, we assumed that each column name is unique across tables. This time, what if 2 different tables have the same column name?"
   ]
  },
  {
   "cell_type": "markdown",
   "metadata": {},
   "source": [
    "## Joining a Table with Itself"
   ]
  },
  {
   "cell_type": "markdown",
   "metadata": {},
   "source": [
    "Two tables may share a column name; dot expressions and aliases disambiguate column values.\n",
    "\n",
    "Recall the structure of the select statement,"
   ]
  },
  {
   "cell_type": "code",
   "execution_count": null,
   "metadata": {},
   "outputs": [],
   "source": [
    "select [column] from [table] where [condition] order by [order]"
   ]
  },
  {
   "cell_type": "markdown",
   "metadata": {},
   "source": [
    "`[table]` is a comma-separated list of table names **with optional aliases**.\n",
    "\n",
    "For example, if we want to select all pairs of siblings (children with the same parent), we do the following,"
   ]
  },
  {
   "cell_type": "code",
   "execution_count": 4,
   "metadata": {},
   "outputs": [
    {
     "name": "stdout",
     "output_type": "stream",
     "text": [
      " * sqlite://\n",
      "Done.\n"
     ]
    },
    {
     "data": {
      "text/html": [
       "<table>\n",
       "    <tr>\n",
       "        <th>first</th>\n",
       "        <th>second</th>\n",
       "    </tr>\n",
       "    <tr>\n",
       "        <td>barack</td>\n",
       "        <td>clinton</td>\n",
       "    </tr>\n",
       "    <tr>\n",
       "        <td>abraham</td>\n",
       "        <td>delano</td>\n",
       "    </tr>\n",
       "    <tr>\n",
       "        <td>abraham</td>\n",
       "        <td>grover</td>\n",
       "    </tr>\n",
       "    <tr>\n",
       "        <td>delano</td>\n",
       "        <td>grover</td>\n",
       "    </tr>\n",
       "</table>"
      ],
      "text/plain": [
       "[('barack', 'clinton'),\n",
       " ('abraham', 'delano'),\n",
       " ('abraham', 'grover'),\n",
       " ('delano', 'grover')]"
      ]
     },
     "execution_count": 4,
     "metadata": {},
     "output_type": "execute_result"
    }
   ],
   "source": [
    "%%sql\n",
    "select a.child as first, b.child as second\n",
    "    from parents as a, parents as b\n",
    "    where a.parent = b.parent and a.child < b.child;"
   ]
  },
  {
   "cell_type": "markdown",
   "metadata": {},
   "source": [
    "In the following statement,"
   ]
  },
  {
   "cell_type": "code",
   "execution_count": null,
   "metadata": {},
   "outputs": [],
   "source": [
    "from parents as a, parents as b"
   ]
  },
  {
   "cell_type": "markdown",
   "metadata": {},
   "source": [
    "We are joining the `parents` table with itself. On top of that, we are giving them aliases: the first `parents` is `a`, the second `parents` is `b`."
   ]
  },
  {
   "cell_type": "code",
   "execution_count": 16,
   "metadata": {},
   "outputs": [
    {
     "name": "stdout",
     "output_type": "stream",
     "text": [
      " * sqlite://\n",
      "Done.\n"
     ]
    },
    {
     "data": {
      "text/html": [
       "<table>\n",
       "    <tr>\n",
       "        <th>first</th>\n",
       "        <th>second</th>\n",
       "    </tr>\n",
       "    <tr>\n",
       "        <td>barack</td>\n",
       "        <td>barack</td>\n",
       "    </tr>\n",
       "    <tr>\n",
       "        <td>barack</td>\n",
       "        <td>clinton</td>\n",
       "    </tr>\n",
       "    <tr>\n",
       "        <td>barack</td>\n",
       "        <td>herbert</td>\n",
       "    </tr>\n",
       "    <tr>\n",
       "        <td>barack</td>\n",
       "        <td>fillmore</td>\n",
       "    </tr>\n",
       "    <tr>\n",
       "        <td>barack</td>\n",
       "        <td>abraham</td>\n",
       "    </tr>\n",
       "    <tr>\n",
       "        <td>barack</td>\n",
       "        <td>delano</td>\n",
       "    </tr>\n",
       "    <tr>\n",
       "        <td>barack</td>\n",
       "        <td>grover</td>\n",
       "    </tr>\n",
       "    <tr>\n",
       "        <td>clinton</td>\n",
       "        <td>barack</td>\n",
       "    </tr>\n",
       "    <tr>\n",
       "        <td>clinton</td>\n",
       "        <td>clinton</td>\n",
       "    </tr>\n",
       "    <tr>\n",
       "        <td>clinton</td>\n",
       "        <td>herbert</td>\n",
       "    </tr>\n",
       "    <tr>\n",
       "        <td>clinton</td>\n",
       "        <td>fillmore</td>\n",
       "    </tr>\n",
       "    <tr>\n",
       "        <td>clinton</td>\n",
       "        <td>abraham</td>\n",
       "    </tr>\n",
       "    <tr>\n",
       "        <td>clinton</td>\n",
       "        <td>delano</td>\n",
       "    </tr>\n",
       "    <tr>\n",
       "        <td>clinton</td>\n",
       "        <td>grover</td>\n",
       "    </tr>\n",
       "    <tr>\n",
       "        <td>herbert</td>\n",
       "        <td>barack</td>\n",
       "    </tr>\n",
       "    <tr>\n",
       "        <td>herbert</td>\n",
       "        <td>clinton</td>\n",
       "    </tr>\n",
       "    <tr>\n",
       "        <td>herbert</td>\n",
       "        <td>herbert</td>\n",
       "    </tr>\n",
       "    <tr>\n",
       "        <td>herbert</td>\n",
       "        <td>fillmore</td>\n",
       "    </tr>\n",
       "    <tr>\n",
       "        <td>herbert</td>\n",
       "        <td>abraham</td>\n",
       "    </tr>\n",
       "    <tr>\n",
       "        <td>herbert</td>\n",
       "        <td>delano</td>\n",
       "    </tr>\n",
       "    <tr>\n",
       "        <td>herbert</td>\n",
       "        <td>grover</td>\n",
       "    </tr>\n",
       "    <tr>\n",
       "        <td>fillmore</td>\n",
       "        <td>barack</td>\n",
       "    </tr>\n",
       "    <tr>\n",
       "        <td>fillmore</td>\n",
       "        <td>clinton</td>\n",
       "    </tr>\n",
       "    <tr>\n",
       "        <td>fillmore</td>\n",
       "        <td>herbert</td>\n",
       "    </tr>\n",
       "    <tr>\n",
       "        <td>fillmore</td>\n",
       "        <td>fillmore</td>\n",
       "    </tr>\n",
       "    <tr>\n",
       "        <td>fillmore</td>\n",
       "        <td>abraham</td>\n",
       "    </tr>\n",
       "    <tr>\n",
       "        <td>fillmore</td>\n",
       "        <td>delano</td>\n",
       "    </tr>\n",
       "    <tr>\n",
       "        <td>fillmore</td>\n",
       "        <td>grover</td>\n",
       "    </tr>\n",
       "    <tr>\n",
       "        <td>abraham</td>\n",
       "        <td>barack</td>\n",
       "    </tr>\n",
       "    <tr>\n",
       "        <td>abraham</td>\n",
       "        <td>clinton</td>\n",
       "    </tr>\n",
       "    <tr>\n",
       "        <td>abraham</td>\n",
       "        <td>herbert</td>\n",
       "    </tr>\n",
       "    <tr>\n",
       "        <td>abraham</td>\n",
       "        <td>fillmore</td>\n",
       "    </tr>\n",
       "    <tr>\n",
       "        <td>abraham</td>\n",
       "        <td>abraham</td>\n",
       "    </tr>\n",
       "    <tr>\n",
       "        <td>abraham</td>\n",
       "        <td>delano</td>\n",
       "    </tr>\n",
       "    <tr>\n",
       "        <td>abraham</td>\n",
       "        <td>grover</td>\n",
       "    </tr>\n",
       "    <tr>\n",
       "        <td>delano</td>\n",
       "        <td>barack</td>\n",
       "    </tr>\n",
       "    <tr>\n",
       "        <td>delano</td>\n",
       "        <td>clinton</td>\n",
       "    </tr>\n",
       "    <tr>\n",
       "        <td>delano</td>\n",
       "        <td>herbert</td>\n",
       "    </tr>\n",
       "    <tr>\n",
       "        <td>delano</td>\n",
       "        <td>fillmore</td>\n",
       "    </tr>\n",
       "    <tr>\n",
       "        <td>delano</td>\n",
       "        <td>abraham</td>\n",
       "    </tr>\n",
       "    <tr>\n",
       "        <td>delano</td>\n",
       "        <td>delano</td>\n",
       "    </tr>\n",
       "    <tr>\n",
       "        <td>delano</td>\n",
       "        <td>grover</td>\n",
       "    </tr>\n",
       "    <tr>\n",
       "        <td>grover</td>\n",
       "        <td>barack</td>\n",
       "    </tr>\n",
       "    <tr>\n",
       "        <td>grover</td>\n",
       "        <td>clinton</td>\n",
       "    </tr>\n",
       "    <tr>\n",
       "        <td>grover</td>\n",
       "        <td>herbert</td>\n",
       "    </tr>\n",
       "    <tr>\n",
       "        <td>grover</td>\n",
       "        <td>fillmore</td>\n",
       "    </tr>\n",
       "    <tr>\n",
       "        <td>grover</td>\n",
       "        <td>abraham</td>\n",
       "    </tr>\n",
       "    <tr>\n",
       "        <td>grover</td>\n",
       "        <td>delano</td>\n",
       "    </tr>\n",
       "    <tr>\n",
       "        <td>grover</td>\n",
       "        <td>grover</td>\n",
       "    </tr>\n",
       "</table>"
      ],
      "text/plain": [
       "[('barack', 'barack'),\n",
       " ('barack', 'clinton'),\n",
       " ('barack', 'herbert'),\n",
       " ('barack', 'fillmore'),\n",
       " ('barack', 'abraham'),\n",
       " ('barack', 'delano'),\n",
       " ('barack', 'grover'),\n",
       " ('clinton', 'barack'),\n",
       " ('clinton', 'clinton'),\n",
       " ('clinton', 'herbert'),\n",
       " ('clinton', 'fillmore'),\n",
       " ('clinton', 'abraham'),\n",
       " ('clinton', 'delano'),\n",
       " ('clinton', 'grover'),\n",
       " ('herbert', 'barack'),\n",
       " ('herbert', 'clinton'),\n",
       " ('herbert', 'herbert'),\n",
       " ('herbert', 'fillmore'),\n",
       " ('herbert', 'abraham'),\n",
       " ('herbert', 'delano'),\n",
       " ('herbert', 'grover'),\n",
       " ('fillmore', 'barack'),\n",
       " ('fillmore', 'clinton'),\n",
       " ('fillmore', 'herbert'),\n",
       " ('fillmore', 'fillmore'),\n",
       " ('fillmore', 'abraham'),\n",
       " ('fillmore', 'delano'),\n",
       " ('fillmore', 'grover'),\n",
       " ('abraham', 'barack'),\n",
       " ('abraham', 'clinton'),\n",
       " ('abraham', 'herbert'),\n",
       " ('abraham', 'fillmore'),\n",
       " ('abraham', 'abraham'),\n",
       " ('abraham', 'delano'),\n",
       " ('abraham', 'grover'),\n",
       " ('delano', 'barack'),\n",
       " ('delano', 'clinton'),\n",
       " ('delano', 'herbert'),\n",
       " ('delano', 'fillmore'),\n",
       " ('delano', 'abraham'),\n",
       " ('delano', 'delano'),\n",
       " ('delano', 'grover'),\n",
       " ('grover', 'barack'),\n",
       " ('grover', 'clinton'),\n",
       " ('grover', 'herbert'),\n",
       " ('grover', 'fillmore'),\n",
       " ('grover', 'abraham'),\n",
       " ('grover', 'delano'),\n",
       " ('grover', 'grover')]"
      ]
     },
     "execution_count": 16,
     "metadata": {},
     "output_type": "execute_result"
    }
   ],
   "source": [
    "%%sql\n",
    "select a.child as first, b.child as second\n",
    "    from parents as a, parents as b;"
   ]
  },
  {
   "cell_type": "markdown",
   "metadata": {},
   "source": [
    "Above, we obtained all possible pairs of childs. However, we only want the possible pairs where the pairs' parent are the same. We can further filter the table by the following,"
   ]
  },
  {
   "cell_type": "code",
   "execution_count": 7,
   "metadata": {},
   "outputs": [
    {
     "name": "stdout",
     "output_type": "stream",
     "text": [
      " * sqlite://\n",
      "Done.\n"
     ]
    },
    {
     "data": {
      "text/html": [
       "<table>\n",
       "    <tr>\n",
       "        <th>first</th>\n",
       "        <th>second</th>\n",
       "    </tr>\n",
       "    <tr>\n",
       "        <td>barack</td>\n",
       "        <td>barack</td>\n",
       "    </tr>\n",
       "    <tr>\n",
       "        <td>barack</td>\n",
       "        <td>clinton</td>\n",
       "    </tr>\n",
       "    <tr>\n",
       "        <td>clinton</td>\n",
       "        <td>barack</td>\n",
       "    </tr>\n",
       "    <tr>\n",
       "        <td>clinton</td>\n",
       "        <td>clinton</td>\n",
       "    </tr>\n",
       "    <tr>\n",
       "        <td>herbert</td>\n",
       "        <td>herbert</td>\n",
       "    </tr>\n",
       "    <tr>\n",
       "        <td>fillmore</td>\n",
       "        <td>fillmore</td>\n",
       "    </tr>\n",
       "    <tr>\n",
       "        <td>abraham</td>\n",
       "        <td>abraham</td>\n",
       "    </tr>\n",
       "    <tr>\n",
       "        <td>abraham</td>\n",
       "        <td>delano</td>\n",
       "    </tr>\n",
       "    <tr>\n",
       "        <td>abraham</td>\n",
       "        <td>grover</td>\n",
       "    </tr>\n",
       "    <tr>\n",
       "        <td>delano</td>\n",
       "        <td>abraham</td>\n",
       "    </tr>\n",
       "    <tr>\n",
       "        <td>delano</td>\n",
       "        <td>delano</td>\n",
       "    </tr>\n",
       "    <tr>\n",
       "        <td>delano</td>\n",
       "        <td>grover</td>\n",
       "    </tr>\n",
       "    <tr>\n",
       "        <td>grover</td>\n",
       "        <td>abraham</td>\n",
       "    </tr>\n",
       "    <tr>\n",
       "        <td>grover</td>\n",
       "        <td>delano</td>\n",
       "    </tr>\n",
       "    <tr>\n",
       "        <td>grover</td>\n",
       "        <td>grover</td>\n",
       "    </tr>\n",
       "</table>"
      ],
      "text/plain": [
       "[('barack', 'barack'),\n",
       " ('barack', 'clinton'),\n",
       " ('clinton', 'barack'),\n",
       " ('clinton', 'clinton'),\n",
       " ('herbert', 'herbert'),\n",
       " ('fillmore', 'fillmore'),\n",
       " ('abraham', 'abraham'),\n",
       " ('abraham', 'delano'),\n",
       " ('abraham', 'grover'),\n",
       " ('delano', 'abraham'),\n",
       " ('delano', 'delano'),\n",
       " ('delano', 'grover'),\n",
       " ('grover', 'abraham'),\n",
       " ('grover', 'delano'),\n",
       " ('grover', 'grover')]"
      ]
     },
     "execution_count": 7,
     "metadata": {},
     "output_type": "execute_result"
    }
   ],
   "source": [
    "%%sql\n",
    "select a.child as first, b.child as second\n",
    "    from parents as a, parents as b\n",
    "    where a.parent = b.parent;"
   ]
  },
  {
   "cell_type": "markdown",
   "metadata": {},
   "source": [
    "We're quite close! The problem with the result above is that there are rows where the `first` and the `second` are the same, and there are rows that are duplicate of the other if we flip the values (e.g. one row is `abraham grover` and the other row is `grover abraham` . To solve this problem, we can filter it so that `a.child` has to be alphabetically either greater or less than `b.child`."
   ]
  },
  {
   "cell_type": "code",
   "execution_count": 8,
   "metadata": {},
   "outputs": [
    {
     "name": "stdout",
     "output_type": "stream",
     "text": [
      " * sqlite://\n",
      "Done.\n"
     ]
    },
    {
     "data": {
      "text/html": [
       "<table>\n",
       "    <tr>\n",
       "        <th>first</th>\n",
       "        <th>second</th>\n",
       "    </tr>\n",
       "    <tr>\n",
       "        <td>barack</td>\n",
       "        <td>clinton</td>\n",
       "    </tr>\n",
       "    <tr>\n",
       "        <td>abraham</td>\n",
       "        <td>delano</td>\n",
       "    </tr>\n",
       "    <tr>\n",
       "        <td>abraham</td>\n",
       "        <td>grover</td>\n",
       "    </tr>\n",
       "    <tr>\n",
       "        <td>delano</td>\n",
       "        <td>grover</td>\n",
       "    </tr>\n",
       "</table>"
      ],
      "text/plain": [
       "[('barack', 'clinton'),\n",
       " ('abraham', 'delano'),\n",
       " ('abraham', 'grover'),\n",
       " ('delano', 'grover')]"
      ]
     },
     "execution_count": 8,
     "metadata": {},
     "output_type": "execute_result"
    }
   ],
   "source": [
    "%%sql\n",
    "select a.child as first, b.child as second\n",
    "    from parents as a, parents as b\n",
    "    where a.parent = b.parent and a.child < b.child;"
   ]
  },
  {
   "cell_type": "markdown",
   "metadata": {},
   "source": [
    "Let's check if the result above is correct!\n",
    "\n",
    "<img src = 'parent.png' width = 200/>"
   ]
  },
  {
   "cell_type": "markdown",
   "metadata": {},
   "source": [
    "Indeed, `barack` and `clinton` are siblings. `abraham`, `delano` and `grover` are siblings on the same level as well. \n",
    "\n",
    "Whenever we want to join a table with itself, we'll need aliases and dot `.` expression to specify the desired rows. "
   ]
  },
  {
   "cell_type": "markdown",
   "metadata": {},
   "source": [
    "## Joining Multiple Tables"
   ]
  },
  {
   "cell_type": "markdown",
   "metadata": {},
   "source": [
    "Multiple tables can be joined to yield all possible combinations of rows from each table. \n",
    "\n",
    "Now let's create a new table called `grandparents`."
   ]
  },
  {
   "cell_type": "code",
   "execution_count": 9,
   "metadata": {},
   "outputs": [
    {
     "name": "stdout",
     "output_type": "stream",
     "text": [
      " * sqlite://\n",
      "Done.\n"
     ]
    },
    {
     "data": {
      "text/plain": [
       "[]"
      ]
     },
     "execution_count": 9,
     "metadata": {},
     "output_type": "execute_result"
    }
   ],
   "source": [
    "%%sql\n",
    "create table grandparents as\n",
    "    select a.parent as grandog, b.child as granpup\n",
    "    from parents as a, parents as b\n",
    "    where b.parent = a.child;"
   ]
  },
  {
   "cell_type": "code",
   "execution_count": 11,
   "metadata": {},
   "outputs": [
    {
     "name": "stdout",
     "output_type": "stream",
     "text": [
      " * sqlite://\n",
      "Done.\n"
     ]
    },
    {
     "data": {
      "text/html": [
       "<table>\n",
       "    <tr>\n",
       "        <th>grandog</th>\n",
       "        <th>granpup</th>\n",
       "    </tr>\n",
       "    <tr>\n",
       "        <td>eisenhower</td>\n",
       "        <td>abraham</td>\n",
       "    </tr>\n",
       "    <tr>\n",
       "        <td>eisenhower</td>\n",
       "        <td>delano</td>\n",
       "    </tr>\n",
       "    <tr>\n",
       "        <td>eisenhower</td>\n",
       "        <td>grover</td>\n",
       "    </tr>\n",
       "    <tr>\n",
       "        <td>fillmore</td>\n",
       "        <td>barack</td>\n",
       "    </tr>\n",
       "    <tr>\n",
       "        <td>fillmore</td>\n",
       "        <td>clinton</td>\n",
       "    </tr>\n",
       "    <tr>\n",
       "        <td>fillmore</td>\n",
       "        <td>herbert</td>\n",
       "    </tr>\n",
       "</table>"
      ],
      "text/plain": [
       "[('eisenhower', 'abraham'),\n",
       " ('eisenhower', 'delano'),\n",
       " ('eisenhower', 'grover'),\n",
       " ('fillmore', 'barack'),\n",
       " ('fillmore', 'clinton'),\n",
       " ('fillmore', 'herbert')]"
      ]
     },
     "execution_count": 11,
     "metadata": {},
     "output_type": "execute_result"
    }
   ],
   "source": [
    "%%sql\n",
    "select * from grandparents;"
   ]
  },
  {
   "cell_type": "markdown",
   "metadata": {},
   "source": [
    "Looking at the tree structure, this table indicates the relationship between a grandparent and a grandchild. \n",
    "\n",
    "Now what if we want to select all grandparents that have the same fur as their grandchildren? Which tables need to be joined together? \n",
    "\n",
    "The answer should contain `fillmore` (since its grandchildren, `herbert`, also has a `\"curly\"` fur) and `eisenhower` (its grandchildren, `grover`, also has a `\"short\"` fur)."
   ]
  },
  {
   "cell_type": "code",
   "execution_count": 20,
   "metadata": {},
   "outputs": [
    {
     "name": "stdout",
     "output_type": "stream",
     "text": [
      " * sqlite://\n",
      "Done.\n"
     ]
    },
    {
     "data": {
      "text/html": [
       "<table>\n",
       "    <tr>\n",
       "        <th>grandog</th>\n",
       "    </tr>\n",
       "    <tr>\n",
       "        <td>eisenhower</td>\n",
       "    </tr>\n",
       "    <tr>\n",
       "        <td>fillmore</td>\n",
       "    </tr>\n",
       "</table>"
      ],
      "text/plain": [
       "[('eisenhower',), ('fillmore',)]"
      ]
     },
     "execution_count": 20,
     "metadata": {},
     "output_type": "execute_result"
    }
   ],
   "source": [
    "%%sql\n",
    "select grandog from grandparents, dogs as c, dogs as d\n",
    "    where grandog = c.name and granpup = d.name and c.fur = d.fur;"
   ]
  },
  {
   "cell_type": "markdown",
   "metadata": {},
   "source": [
    "At first, the cell above might seems confusing. We might think, \"if both `grandog` and `granpup` uses the `name` column from `dogs`, why would we need to separate `dogs` using aliases `c` and `d`?\n",
    "\n",
    "The aliases step is necessary so that we can filter our output so that the fur of the `grandog` is the same as the fur of the `granpup`. If we use the same `dogs` table for both `grandog` and `granpup`, we wouldn't be able to filter them out by their fur."
   ]
  },
  {
   "cell_type": "code",
   "execution_count": 22,
   "metadata": {},
   "outputs": [
    {
     "name": "stdout",
     "output_type": "stream",
     "text": [
      " * sqlite://\n",
      "(sqlite3.OperationalError) near \"seelct\": syntax error\n",
      "[SQL: seelct grandog from grandparents, dogs as c\n",
      "where grandog = c.name and granpup = c.name;]\n",
      "(Background on this error at: http://sqlalche.me/e/e3q8)\n"
     ]
    }
   ],
   "source": [
    "%%sql\n",
    "seelct grandog from grandparents, dogs as c\n",
    "where grandog = c.name and granpup = c.name;"
   ]
  },
  {
   "cell_type": "markdown",
   "metadata": {},
   "source": [
    "As we can see above, we couldn't even use the same column twice. "
   ]
  }
 ],
 "metadata": {
  "kernelspec": {
   "display_name": "Python 3",
   "language": "python",
   "name": "python3"
  },
  "language_info": {
   "codemirror_mode": {
    "name": "ipython",
    "version": 3
   },
   "file_extension": ".py",
   "mimetype": "text/x-python",
   "name": "python",
   "nbconvert_exporter": "python",
   "pygments_lexer": "ipython3",
   "version": "3.7.3"
  }
 },
 "nbformat": 4,
 "nbformat_minor": 4
}
