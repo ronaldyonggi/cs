{
 "cells": [
  {
   "cell_type": "code",
   "execution_count": 1,
   "metadata": {},
   "outputs": [
    {
     "data": {
      "text/plain": [
       "'Connected: @None'"
      ]
     },
     "execution_count": 1,
     "metadata": {},
     "output_type": "execute_result"
    }
   ],
   "source": [
    "%load_ext sql\n",
    "%sql sqlite://"
   ]
  },
  {
   "cell_type": "markdown",
   "metadata": {},
   "source": [
    "# Numerical Expressions"
   ]
  },
  {
   "cell_type": "markdown",
   "metadata": {},
   "source": [
    "Numerical expressions in SQL are similar to numerical expressions in Python. \n",
    "\n",
    "Expressions can contain function calls and arithmetic operators (e.g. `+`, `-`). \n",
    "\n",
    "Recall the format of `select` statement,"
   ]
  },
  {
   "cell_type": "code",
   "execution_count": null,
   "metadata": {},
   "outputs": [],
   "source": [
    "select [columns] from [table] where [expression] order by [expression];"
   ]
  },
  {
   "cell_type": "markdown",
   "metadata": {},
   "source": [
    "This can occur in any `[expression]` within `select` statement. Even the `[columns]` description contain `[expression]` as well. \n",
    "\n",
    "<img src = 'expression.png' width = 600/>\n",
    "\n",
    "In any of these `[expression]`, we can:\n",
    "\n",
    "**1.** Combine values: `+`, `-`, `*`, `/`, `%`, `and`, `or`\n",
    "\n",
    "**2.** Transform values: `abs`, `round`, `not`, `-`,\n",
    "\n",
    "**3.** Compare values: `<`, `<=`, `>`, `>=`, `<>`, `!=`, `=`\n",
    "\n",
    "Both `<>` and `!=` means inequality. Equality is expressed with `=`. "
   ]
  },
  {
   "cell_type": "markdown",
   "metadata": {},
   "source": [
    "## Demo"
   ]
  },
  {
   "cell_type": "markdown",
   "metadata": {},
   "source": [
    "Let's say we have a table of `cities` as the following,"
   ]
  },
  {
   "cell_type": "code",
   "execution_count": 2,
   "metadata": {},
   "outputs": [
    {
     "name": "stdout",
     "output_type": "stream",
     "text": [
      " * sqlite://\n",
      "Done.\n"
     ]
    },
    {
     "data": {
      "text/plain": [
       "[]"
      ]
     },
     "execution_count": 2,
     "metadata": {},
     "output_type": "execute_result"
    }
   ],
   "source": [
    "%%sql\n",
    "create table cities as\n",
    "    select 38 as latitude, 122 as longitude, \"Berkeley\" as name union\n",
    "    select 42, 71, \"Cambridge\" union\n",
    "    select 45, 93, \"Minneapolis\" union\n",
    "    select 33, 117, \"San Diego\" union\n",
    "    select 26, 80, \"Miami\" union\n",
    "    select 90, 0, \"North Pole\";"
   ]
  },
  {
   "cell_type": "markdown",
   "metadata": {},
   "source": [
    "Now let's create a table named `cold`, where it contains the `name` of cold places (`latitude` of 43 or greater)."
   ]
  },
  {
   "cell_type": "code",
   "execution_count": 3,
   "metadata": {},
   "outputs": [
    {
     "name": "stdout",
     "output_type": "stream",
     "text": [
      " * sqlite://\n",
      "Done.\n"
     ]
    },
    {
     "data": {
      "text/plain": [
       "[]"
      ]
     },
     "execution_count": 3,
     "metadata": {},
     "output_type": "execute_result"
    }
   ],
   "source": [
    "%%sql\n",
    "create table cold as\n",
    "    select name from cities where latitude >= 43;"
   ]
  },
  {
   "cell_type": "code",
   "execution_count": 4,
   "metadata": {},
   "outputs": [
    {
     "name": "stdout",
     "output_type": "stream",
     "text": [
      " * sqlite://\n",
      "Done.\n"
     ]
    },
    {
     "data": {
      "text/html": [
       "<table>\n",
       "    <tr>\n",
       "        <th>name</th>\n",
       "    </tr>\n",
       "    <tr>\n",
       "        <td>Minneapolis</td>\n",
       "    </tr>\n",
       "    <tr>\n",
       "        <td>North Pole</td>\n",
       "    </tr>\n",
       "</table>"
      ],
      "text/plain": [
       "[('Minneapolis',), ('North Pole',)]"
      ]
     },
     "execution_count": 4,
     "metadata": {},
     "output_type": "execute_result"
    }
   ],
   "source": [
    "%%sql\n",
    "select name from cold;"
   ]
  },
  {
   "cell_type": "markdown",
   "metadata": {},
   "source": [
    "When we want to display the `name`s from the `cold` table, we see that it contains the expected cities: Minneapolis and North Pole. It turns out that we can modify this output! For example, if we want to add `\"Chicago\"` to this output, we can do the following,"
   ]
  },
  {
   "cell_type": "code",
   "execution_count": 5,
   "metadata": {},
   "outputs": [
    {
     "name": "stdout",
     "output_type": "stream",
     "text": [
      " * sqlite://\n",
      "Done.\n"
     ]
    },
    {
     "data": {
      "text/html": [
       "<table>\n",
       "    <tr>\n",
       "        <th>name</th>\n",
       "    </tr>\n",
       "    <tr>\n",
       "        <td>Chicago</td>\n",
       "    </tr>\n",
       "    <tr>\n",
       "        <td>Minneapolis</td>\n",
       "    </tr>\n",
       "    <tr>\n",
       "        <td>North Pole</td>\n",
       "    </tr>\n",
       "</table>"
      ],
      "text/plain": [
       "[('Chicago',), ('Minneapolis',), ('North Pole',)]"
      ]
     },
     "execution_count": 5,
     "metadata": {},
     "output_type": "execute_result"
    }
   ],
   "source": [
    "%%sql\n",
    "select name from cold union\n",
    "select \"Chicago\";"
   ]
  },
  {
   "cell_type": "markdown",
   "metadata": {},
   "source": [
    "Note that the `cold` table is unchanged!"
   ]
  },
  {
   "cell_type": "code",
   "execution_count": 6,
   "metadata": {},
   "outputs": [
    {
     "name": "stdout",
     "output_type": "stream",
     "text": [
      " * sqlite://\n",
      "Done.\n"
     ]
    },
    {
     "data": {
      "text/html": [
       "<table>\n",
       "    <tr>\n",
       "        <th>name</th>\n",
       "    </tr>\n",
       "    <tr>\n",
       "        <td>Minneapolis</td>\n",
       "    </tr>\n",
       "    <tr>\n",
       "        <td>North Pole</td>\n",
       "    </tr>\n",
       "</table>"
      ],
      "text/plain": [
       "[('Minneapolis',), ('North Pole',)]"
      ]
     },
     "execution_count": 6,
     "metadata": {},
     "output_type": "execute_result"
    }
   ],
   "source": [
    "%%sql\n",
    "select * from cold;"
   ]
  },
  {
   "cell_type": "markdown",
   "metadata": {},
   "source": [
    "Now for arithmetic operations, let's say we want to compute the North-South distance between cities. We measure the distance using \"nautical mile\", where 1 degree of latitude counts for 60 nautical miles. "
   ]
  },
  {
   "cell_type": "code",
   "execution_count": 3,
   "metadata": {},
   "outputs": [
    {
     "name": "stdout",
     "output_type": "stream",
     "text": [
      " * sqlite://\n",
      "Done.\n"
     ]
    },
    {
     "data": {
      "text/plain": [
       "[]"
      ]
     },
     "execution_count": 3,
     "metadata": {},
     "output_type": "execute_result"
    }
   ],
   "source": [
    "%%sql\n",
    "create table distances as\n",
    "    select a.name as start, b.name as destination, 60 * (b.latitude - a.latitude) as distance\n",
    "    from cities as a, cities as b;"
   ]
  },
  {
   "cell_type": "code",
   "execution_count": 4,
   "metadata": {},
   "outputs": [
    {
     "name": "stdout",
     "output_type": "stream",
     "text": [
      " * sqlite://\n",
      "Done.\n"
     ]
    },
    {
     "data": {
      "text/html": [
       "<table>\n",
       "    <tr>\n",
       "        <th>first</th>\n",
       "        <th>second</th>\n",
       "        <th>distance</th>\n",
       "    </tr>\n",
       "    <tr>\n",
       "        <td>Miami</td>\n",
       "        <td>San Diego</td>\n",
       "        <td>420</td>\n",
       "    </tr>\n",
       "    <tr>\n",
       "        <td>Miami</td>\n",
       "        <td>Berkeley</td>\n",
       "        <td>720</td>\n",
       "    </tr>\n",
       "    <tr>\n",
       "        <td>Miami</td>\n",
       "        <td>Cambridge</td>\n",
       "        <td>960</td>\n",
       "    </tr>\n",
       "    <tr>\n",
       "        <td>Miami</td>\n",
       "        <td>Minneapolis</td>\n",
       "        <td>1140</td>\n",
       "    </tr>\n",
       "    <tr>\n",
       "        <td>Miami</td>\n",
       "        <td>North Pole</td>\n",
       "        <td>3840</td>\n",
       "    </tr>\n",
       "    <tr>\n",
       "        <td>San Diego</td>\n",
       "        <td>Miami</td>\n",
       "        <td>-420</td>\n",
       "    </tr>\n",
       "    <tr>\n",
       "        <td>San Diego</td>\n",
       "        <td>Berkeley</td>\n",
       "        <td>300</td>\n",
       "    </tr>\n",
       "    <tr>\n",
       "        <td>San Diego</td>\n",
       "        <td>Cambridge</td>\n",
       "        <td>540</td>\n",
       "    </tr>\n",
       "    <tr>\n",
       "        <td>San Diego</td>\n",
       "        <td>Minneapolis</td>\n",
       "        <td>720</td>\n",
       "    </tr>\n",
       "    <tr>\n",
       "        <td>San Diego</td>\n",
       "        <td>North Pole</td>\n",
       "        <td>3420</td>\n",
       "    </tr>\n",
       "    <tr>\n",
       "        <td>Berkeley</td>\n",
       "        <td>Miami</td>\n",
       "        <td>-720</td>\n",
       "    </tr>\n",
       "    <tr>\n",
       "        <td>Berkeley</td>\n",
       "        <td>San Diego</td>\n",
       "        <td>-300</td>\n",
       "    </tr>\n",
       "    <tr>\n",
       "        <td>Berkeley</td>\n",
       "        <td>Cambridge</td>\n",
       "        <td>240</td>\n",
       "    </tr>\n",
       "    <tr>\n",
       "        <td>Berkeley</td>\n",
       "        <td>Minneapolis</td>\n",
       "        <td>420</td>\n",
       "    </tr>\n",
       "    <tr>\n",
       "        <td>Berkeley</td>\n",
       "        <td>North Pole</td>\n",
       "        <td>3120</td>\n",
       "    </tr>\n",
       "    <tr>\n",
       "        <td>Cambridge</td>\n",
       "        <td>Miami</td>\n",
       "        <td>-960</td>\n",
       "    </tr>\n",
       "    <tr>\n",
       "        <td>Cambridge</td>\n",
       "        <td>San Diego</td>\n",
       "        <td>-540</td>\n",
       "    </tr>\n",
       "    <tr>\n",
       "        <td>Cambridge</td>\n",
       "        <td>Berkeley</td>\n",
       "        <td>-240</td>\n",
       "    </tr>\n",
       "    <tr>\n",
       "        <td>Cambridge</td>\n",
       "        <td>Minneapolis</td>\n",
       "        <td>180</td>\n",
       "    </tr>\n",
       "    <tr>\n",
       "        <td>Cambridge</td>\n",
       "        <td>North Pole</td>\n",
       "        <td>2880</td>\n",
       "    </tr>\n",
       "    <tr>\n",
       "        <td>Minneapolis</td>\n",
       "        <td>Miami</td>\n",
       "        <td>-1140</td>\n",
       "    </tr>\n",
       "    <tr>\n",
       "        <td>Minneapolis</td>\n",
       "        <td>San Diego</td>\n",
       "        <td>-720</td>\n",
       "    </tr>\n",
       "    <tr>\n",
       "        <td>Minneapolis</td>\n",
       "        <td>Berkeley</td>\n",
       "        <td>-420</td>\n",
       "    </tr>\n",
       "    <tr>\n",
       "        <td>Minneapolis</td>\n",
       "        <td>Cambridge</td>\n",
       "        <td>-180</td>\n",
       "    </tr>\n",
       "    <tr>\n",
       "        <td>Minneapolis</td>\n",
       "        <td>North Pole</td>\n",
       "        <td>2700</td>\n",
       "    </tr>\n",
       "    <tr>\n",
       "        <td>North Pole</td>\n",
       "        <td>Miami</td>\n",
       "        <td>-3840</td>\n",
       "    </tr>\n",
       "    <tr>\n",
       "        <td>North Pole</td>\n",
       "        <td>San Diego</td>\n",
       "        <td>-3420</td>\n",
       "    </tr>\n",
       "    <tr>\n",
       "        <td>North Pole</td>\n",
       "        <td>Berkeley</td>\n",
       "        <td>-3120</td>\n",
       "    </tr>\n",
       "    <tr>\n",
       "        <td>North Pole</td>\n",
       "        <td>Cambridge</td>\n",
       "        <td>-2880</td>\n",
       "    </tr>\n",
       "    <tr>\n",
       "        <td>North Pole</td>\n",
       "        <td>Minneapolis</td>\n",
       "        <td>-2700</td>\n",
       "    </tr>\n",
       "</table>"
      ],
      "text/plain": [
       "[('Miami', 'San Diego', 420),\n",
       " ('Miami', 'Berkeley', 720),\n",
       " ('Miami', 'Cambridge', 960),\n",
       " ('Miami', 'Minneapolis', 1140),\n",
       " ('Miami', 'North Pole', 3840),\n",
       " ('San Diego', 'Miami', -420),\n",
       " ('San Diego', 'Berkeley', 300),\n",
       " ('San Diego', 'Cambridge', 540),\n",
       " ('San Diego', 'Minneapolis', 720),\n",
       " ('San Diego', 'North Pole', 3420),\n",
       " ('Berkeley', 'Miami', -720),\n",
       " ('Berkeley', 'San Diego', -300),\n",
       " ('Berkeley', 'Cambridge', 240),\n",
       " ('Berkeley', 'Minneapolis', 420),\n",
       " ('Berkeley', 'North Pole', 3120),\n",
       " ('Cambridge', 'Miami', -960),\n",
       " ('Cambridge', 'San Diego', -540),\n",
       " ('Cambridge', 'Berkeley', -240),\n",
       " ('Cambridge', 'Minneapolis', 180),\n",
       " ('Cambridge', 'North Pole', 2880),\n",
       " ('Minneapolis', 'Miami', -1140),\n",
       " ('Minneapolis', 'San Diego', -720),\n",
       " ('Minneapolis', 'Berkeley', -420),\n",
       " ('Minneapolis', 'Cambridge', -180),\n",
       " ('Minneapolis', 'North Pole', 2700),\n",
       " ('North Pole', 'Miami', -3840),\n",
       " ('North Pole', 'San Diego', -3420),\n",
       " ('North Pole', 'Berkeley', -3120),\n",
       " ('North Pole', 'Cambridge', -2880),\n",
       " ('North Pole', 'Minneapolis', -2700)]"
      ]
     },
     "execution_count": 4,
     "metadata": {},
     "output_type": "execute_result"
    }
   ],
   "source": [
    "%%sql\n",
    "select * from distances;"
   ]
  }
 ],
 "metadata": {
  "kernelspec": {
   "display_name": "Python 3",
   "language": "python",
   "name": "python3"
  },
  "language_info": {
   "codemirror_mode": {
    "name": "ipython",
    "version": 3
   },
   "file_extension": ".py",
   "mimetype": "text/x-python",
   "name": "python",
   "nbconvert_exporter": "python",
   "pygments_lexer": "ipython3",
   "version": "3.7.3"
  }
 },
 "nbformat": 4,
 "nbformat_minor": 4
}
