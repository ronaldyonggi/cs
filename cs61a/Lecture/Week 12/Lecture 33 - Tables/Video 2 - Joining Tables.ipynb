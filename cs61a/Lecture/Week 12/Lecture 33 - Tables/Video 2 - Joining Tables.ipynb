{
 "cells": [
  {
   "cell_type": "code",
   "execution_count": 2,
   "metadata": {},
   "outputs": [
    {
     "name": "stdout",
     "output_type": "stream",
     "text": [
      "The sql extension is already loaded. To reload it, use:\n",
      "  %reload_ext sql\n"
     ]
    },
    {
     "data": {
      "text/plain": [
       "'Connected: @None'"
      ]
     },
     "execution_count": 2,
     "metadata": {},
     "output_type": "execute_result"
    }
   ],
   "source": [
    "%load_ext sql\n",
    "%sql sqlite://"
   ]
  },
  {
   "cell_type": "markdown",
   "metadata": {},
   "source": [
    "# Joining Tables"
   ]
  },
  {
   "cell_type": "markdown",
   "metadata": {},
   "source": [
    "So far we have been projecting one table. It turns out we can do more powerful operations by by joining tables together."
   ]
  },
  {
   "cell_type": "markdown",
   "metadata": {},
   "source": [
    "## Joining Two Tables"
   ]
  },
  {
   "cell_type": "markdown",
   "metadata": {},
   "source": [
    "There are many kinds of `join`. Some ways have multiple names, which makes things more complicated. In this lecture, we are going to focus on one fundamental type.\n",
    "\n",
    "Two tables `A` and `B` are joined by a comma `,` to yield all combinations of `a row from A` and `a row from B`.\n",
    "\n",
    "Above is the fundamental idea of the meaning of joining 2 tables.\n",
    "\n",
    "This time, let's create a table called `dogs` that has `name (string)` and `fur (string)`."
   ]
  },
  {
   "cell_type": "code",
   "execution_count": 3,
   "metadata": {},
   "outputs": [
    {
     "name": "stdout",
     "output_type": "stream",
     "text": [
      " * sqlite://\n",
      "Done.\n"
     ]
    },
    {
     "data": {
      "text/plain": [
       "[]"
      ]
     },
     "execution_count": 3,
     "metadata": {},
     "output_type": "execute_result"
    }
   ],
   "source": [
    "%%sql\n",
    "\n",
    "create table dogs as\n",
    "    select \"abraham\" as name, \"long\" as fur union\n",
    "    select \"barack\", \"short\" union\n",
    "    select \"clinton\", \"long\" union\n",
    "    select \"delano\", \"long\" union\n",
    "    select \"eisenhower\", \"short\" union\n",
    "    select \"fillmore\", \"curly\" union\n",
    "    select \"grover\", \"short\" union\n",
    "    select \"herbert\", \"curly\";"
   ]
  },
  {
   "cell_type": "markdown",
   "metadata": {},
   "source": [
    "The representation of the table above is as the following,\n",
    "\n",
    "<img src = 'dogs.png' width = 200/>"
   ]
  },
  {
   "cell_type": "markdown",
   "metadata": {},
   "source": [
    "Now recall from previous lecture, we made a table of `parents`."
   ]
  },
  {
   "cell_type": "code",
   "execution_count": 4,
   "metadata": {},
   "outputs": [
    {
     "name": "stdout",
     "output_type": "stream",
     "text": [
      " * sqlite://\n",
      "Done.\n"
     ]
    },
    {
     "data": {
      "text/plain": [
       "[]"
      ]
     },
     "execution_count": 4,
     "metadata": {},
     "output_type": "execute_result"
    }
   ],
   "source": [
    "%%sql\n",
    "\n",
    "create table parents as\n",
    "    select \"abraham\" as parent, \"barack\" as child union\n",
    "    select \"abraham\"          , \"clinton\"         union\n",
    "    select \"delano\"          , \"herbert\"         union\n",
    "    select \"fillmore\"          , \"abraham\"         union\n",
    "    select \"fillmore\"          , \"delano\"         union\n",
    "    select \"fillmore\"          , \"grover\"         union\n",
    "    select \"eisenhower\"          , \"fillmore\";"
   ]
  },
  {
   "cell_type": "markdown",
   "metadata": {},
   "source": [
    "And thus, the representation can be described as a tree structure,\n",
    "\n",
    "<img src = 'parent.png' width = 200/>"
   ]
  },
  {
   "cell_type": "markdown",
   "metadata": {},
   "source": [
    "Now let's say we want the parents of curly-furred dogs. From the tree structure above, we see that `eisenhower` and `delano` should be the answers. "
   ]
  },
  {
   "cell_type": "code",
   "execution_count": 5,
   "metadata": {},
   "outputs": [
    {
     "name": "stdout",
     "output_type": "stream",
     "text": [
      " * sqlite://\n",
      "Done.\n"
     ]
    },
    {
     "data": {
      "text/html": [
       "<table>\n",
       "    <tr>\n",
       "        <th>parent</th>\n",
       "    </tr>\n",
       "    <tr>\n",
       "        <td>eisenhower</td>\n",
       "    </tr>\n",
       "    <tr>\n",
       "        <td>delano</td>\n",
       "    </tr>\n",
       "</table>"
      ],
      "text/plain": [
       "[('eisenhower',), ('delano',)]"
      ]
     },
     "execution_count": 5,
     "metadata": {},
     "output_type": "execute_result"
    }
   ],
   "source": [
    "%%sql\n",
    "select parent from parents, dogs\n",
    "    where child = name and fur = \"curly\""
   ]
  },
  {
   "cell_type": "markdown",
   "metadata": {},
   "source": [
    "Above, the `where` statement `child = name` is a relationship between the row that we've chosen the table `parents` and `dogs`. This technique works assuming that the name of the columns is unique (the 2 tables don't have columns with the same name). "
   ]
  },
  {
   "cell_type": "markdown",
   "metadata": {},
   "source": [
    "## Demo"
   ]
  },
  {
   "cell_type": "markdown",
   "metadata": {},
   "source": [
    "We can display the content of the `dogs` table with the following,"
   ]
  },
  {
   "cell_type": "code",
   "execution_count": 8,
   "metadata": {},
   "outputs": [
    {
     "name": "stdout",
     "output_type": "stream",
     "text": [
      " * sqlite://\n",
      "Done.\n"
     ]
    },
    {
     "data": {
      "text/html": [
       "<table>\n",
       "    <tr>\n",
       "        <th>name</th>\n",
       "        <th>fur</th>\n",
       "    </tr>\n",
       "    <tr>\n",
       "        <td>abraham</td>\n",
       "        <td>long</td>\n",
       "    </tr>\n",
       "    <tr>\n",
       "        <td>barack</td>\n",
       "        <td>short</td>\n",
       "    </tr>\n",
       "    <tr>\n",
       "        <td>clinton</td>\n",
       "        <td>long</td>\n",
       "    </tr>\n",
       "    <tr>\n",
       "        <td>delano</td>\n",
       "        <td>long</td>\n",
       "    </tr>\n",
       "    <tr>\n",
       "        <td>eisenhower</td>\n",
       "        <td>short</td>\n",
       "    </tr>\n",
       "    <tr>\n",
       "        <td>fillmore</td>\n",
       "        <td>curly</td>\n",
       "    </tr>\n",
       "    <tr>\n",
       "        <td>grover</td>\n",
       "        <td>short</td>\n",
       "    </tr>\n",
       "    <tr>\n",
       "        <td>herbert</td>\n",
       "        <td>curly</td>\n",
       "    </tr>\n",
       "</table>"
      ],
      "text/plain": [
       "[('abraham', 'long'),\n",
       " ('barack', 'short'),\n",
       " ('clinton', 'long'),\n",
       " ('delano', 'long'),\n",
       " ('eisenhower', 'short'),\n",
       " ('fillmore', 'curly'),\n",
       " ('grover', 'short'),\n",
       " ('herbert', 'curly')]"
      ]
     },
     "execution_count": 8,
     "metadata": {},
     "output_type": "execute_result"
    }
   ],
   "source": [
    "%%sql\n",
    "select * from dogs;"
   ]
  },
  {
   "cell_type": "markdown",
   "metadata": {},
   "source": [
    "We can adjoin the 2 tables by the following,"
   ]
  },
  {
   "cell_type": "code",
   "execution_count": 10,
   "metadata": {},
   "outputs": [
    {
     "name": "stdout",
     "output_type": "stream",
     "text": [
      " * sqlite://\n",
      "Done.\n"
     ]
    },
    {
     "data": {
      "text/html": [
       "<table>\n",
       "    <tr>\n",
       "        <th>parent</th>\n",
       "        <th>child</th>\n",
       "        <th>name</th>\n",
       "        <th>fur</th>\n",
       "    </tr>\n",
       "    <tr>\n",
       "        <td>abraham</td>\n",
       "        <td>barack</td>\n",
       "        <td>abraham</td>\n",
       "        <td>long</td>\n",
       "    </tr>\n",
       "    <tr>\n",
       "        <td>abraham</td>\n",
       "        <td>barack</td>\n",
       "        <td>barack</td>\n",
       "        <td>short</td>\n",
       "    </tr>\n",
       "    <tr>\n",
       "        <td>abraham</td>\n",
       "        <td>barack</td>\n",
       "        <td>clinton</td>\n",
       "        <td>long</td>\n",
       "    </tr>\n",
       "    <tr>\n",
       "        <td>abraham</td>\n",
       "        <td>barack</td>\n",
       "        <td>delano</td>\n",
       "        <td>long</td>\n",
       "    </tr>\n",
       "    <tr>\n",
       "        <td>abraham</td>\n",
       "        <td>barack</td>\n",
       "        <td>eisenhower</td>\n",
       "        <td>short</td>\n",
       "    </tr>\n",
       "    <tr>\n",
       "        <td>abraham</td>\n",
       "        <td>barack</td>\n",
       "        <td>fillmore</td>\n",
       "        <td>curly</td>\n",
       "    </tr>\n",
       "    <tr>\n",
       "        <td>abraham</td>\n",
       "        <td>barack</td>\n",
       "        <td>grover</td>\n",
       "        <td>short</td>\n",
       "    </tr>\n",
       "    <tr>\n",
       "        <td>abraham</td>\n",
       "        <td>barack</td>\n",
       "        <td>herbert</td>\n",
       "        <td>curly</td>\n",
       "    </tr>\n",
       "    <tr>\n",
       "        <td>abraham</td>\n",
       "        <td>clinton</td>\n",
       "        <td>abraham</td>\n",
       "        <td>long</td>\n",
       "    </tr>\n",
       "    <tr>\n",
       "        <td>abraham</td>\n",
       "        <td>clinton</td>\n",
       "        <td>barack</td>\n",
       "        <td>short</td>\n",
       "    </tr>\n",
       "    <tr>\n",
       "        <td>abraham</td>\n",
       "        <td>clinton</td>\n",
       "        <td>clinton</td>\n",
       "        <td>long</td>\n",
       "    </tr>\n",
       "    <tr>\n",
       "        <td>abraham</td>\n",
       "        <td>clinton</td>\n",
       "        <td>delano</td>\n",
       "        <td>long</td>\n",
       "    </tr>\n",
       "    <tr>\n",
       "        <td>abraham</td>\n",
       "        <td>clinton</td>\n",
       "        <td>eisenhower</td>\n",
       "        <td>short</td>\n",
       "    </tr>\n",
       "    <tr>\n",
       "        <td>abraham</td>\n",
       "        <td>clinton</td>\n",
       "        <td>fillmore</td>\n",
       "        <td>curly</td>\n",
       "    </tr>\n",
       "    <tr>\n",
       "        <td>abraham</td>\n",
       "        <td>clinton</td>\n",
       "        <td>grover</td>\n",
       "        <td>short</td>\n",
       "    </tr>\n",
       "    <tr>\n",
       "        <td>abraham</td>\n",
       "        <td>clinton</td>\n",
       "        <td>herbert</td>\n",
       "        <td>curly</td>\n",
       "    </tr>\n",
       "    <tr>\n",
       "        <td>delano</td>\n",
       "        <td>herbert</td>\n",
       "        <td>abraham</td>\n",
       "        <td>long</td>\n",
       "    </tr>\n",
       "    <tr>\n",
       "        <td>delano</td>\n",
       "        <td>herbert</td>\n",
       "        <td>barack</td>\n",
       "        <td>short</td>\n",
       "    </tr>\n",
       "    <tr>\n",
       "        <td>delano</td>\n",
       "        <td>herbert</td>\n",
       "        <td>clinton</td>\n",
       "        <td>long</td>\n",
       "    </tr>\n",
       "    <tr>\n",
       "        <td>delano</td>\n",
       "        <td>herbert</td>\n",
       "        <td>delano</td>\n",
       "        <td>long</td>\n",
       "    </tr>\n",
       "    <tr>\n",
       "        <td>delano</td>\n",
       "        <td>herbert</td>\n",
       "        <td>eisenhower</td>\n",
       "        <td>short</td>\n",
       "    </tr>\n",
       "    <tr>\n",
       "        <td>delano</td>\n",
       "        <td>herbert</td>\n",
       "        <td>fillmore</td>\n",
       "        <td>curly</td>\n",
       "    </tr>\n",
       "    <tr>\n",
       "        <td>delano</td>\n",
       "        <td>herbert</td>\n",
       "        <td>grover</td>\n",
       "        <td>short</td>\n",
       "    </tr>\n",
       "    <tr>\n",
       "        <td>delano</td>\n",
       "        <td>herbert</td>\n",
       "        <td>herbert</td>\n",
       "        <td>curly</td>\n",
       "    </tr>\n",
       "    <tr>\n",
       "        <td>eisenhower</td>\n",
       "        <td>fillmore</td>\n",
       "        <td>abraham</td>\n",
       "        <td>long</td>\n",
       "    </tr>\n",
       "    <tr>\n",
       "        <td>eisenhower</td>\n",
       "        <td>fillmore</td>\n",
       "        <td>barack</td>\n",
       "        <td>short</td>\n",
       "    </tr>\n",
       "    <tr>\n",
       "        <td>eisenhower</td>\n",
       "        <td>fillmore</td>\n",
       "        <td>clinton</td>\n",
       "        <td>long</td>\n",
       "    </tr>\n",
       "    <tr>\n",
       "        <td>eisenhower</td>\n",
       "        <td>fillmore</td>\n",
       "        <td>delano</td>\n",
       "        <td>long</td>\n",
       "    </tr>\n",
       "    <tr>\n",
       "        <td>eisenhower</td>\n",
       "        <td>fillmore</td>\n",
       "        <td>eisenhower</td>\n",
       "        <td>short</td>\n",
       "    </tr>\n",
       "    <tr>\n",
       "        <td>eisenhower</td>\n",
       "        <td>fillmore</td>\n",
       "        <td>fillmore</td>\n",
       "        <td>curly</td>\n",
       "    </tr>\n",
       "    <tr>\n",
       "        <td>eisenhower</td>\n",
       "        <td>fillmore</td>\n",
       "        <td>grover</td>\n",
       "        <td>short</td>\n",
       "    </tr>\n",
       "    <tr>\n",
       "        <td>eisenhower</td>\n",
       "        <td>fillmore</td>\n",
       "        <td>herbert</td>\n",
       "        <td>curly</td>\n",
       "    </tr>\n",
       "    <tr>\n",
       "        <td>fillmore</td>\n",
       "        <td>abraham</td>\n",
       "        <td>abraham</td>\n",
       "        <td>long</td>\n",
       "    </tr>\n",
       "    <tr>\n",
       "        <td>fillmore</td>\n",
       "        <td>abraham</td>\n",
       "        <td>barack</td>\n",
       "        <td>short</td>\n",
       "    </tr>\n",
       "    <tr>\n",
       "        <td>fillmore</td>\n",
       "        <td>abraham</td>\n",
       "        <td>clinton</td>\n",
       "        <td>long</td>\n",
       "    </tr>\n",
       "    <tr>\n",
       "        <td>fillmore</td>\n",
       "        <td>abraham</td>\n",
       "        <td>delano</td>\n",
       "        <td>long</td>\n",
       "    </tr>\n",
       "    <tr>\n",
       "        <td>fillmore</td>\n",
       "        <td>abraham</td>\n",
       "        <td>eisenhower</td>\n",
       "        <td>short</td>\n",
       "    </tr>\n",
       "    <tr>\n",
       "        <td>fillmore</td>\n",
       "        <td>abraham</td>\n",
       "        <td>fillmore</td>\n",
       "        <td>curly</td>\n",
       "    </tr>\n",
       "    <tr>\n",
       "        <td>fillmore</td>\n",
       "        <td>abraham</td>\n",
       "        <td>grover</td>\n",
       "        <td>short</td>\n",
       "    </tr>\n",
       "    <tr>\n",
       "        <td>fillmore</td>\n",
       "        <td>abraham</td>\n",
       "        <td>herbert</td>\n",
       "        <td>curly</td>\n",
       "    </tr>\n",
       "    <tr>\n",
       "        <td>fillmore</td>\n",
       "        <td>delano</td>\n",
       "        <td>abraham</td>\n",
       "        <td>long</td>\n",
       "    </tr>\n",
       "    <tr>\n",
       "        <td>fillmore</td>\n",
       "        <td>delano</td>\n",
       "        <td>barack</td>\n",
       "        <td>short</td>\n",
       "    </tr>\n",
       "    <tr>\n",
       "        <td>fillmore</td>\n",
       "        <td>delano</td>\n",
       "        <td>clinton</td>\n",
       "        <td>long</td>\n",
       "    </tr>\n",
       "    <tr>\n",
       "        <td>fillmore</td>\n",
       "        <td>delano</td>\n",
       "        <td>delano</td>\n",
       "        <td>long</td>\n",
       "    </tr>\n",
       "    <tr>\n",
       "        <td>fillmore</td>\n",
       "        <td>delano</td>\n",
       "        <td>eisenhower</td>\n",
       "        <td>short</td>\n",
       "    </tr>\n",
       "    <tr>\n",
       "        <td>fillmore</td>\n",
       "        <td>delano</td>\n",
       "        <td>fillmore</td>\n",
       "        <td>curly</td>\n",
       "    </tr>\n",
       "    <tr>\n",
       "        <td>fillmore</td>\n",
       "        <td>delano</td>\n",
       "        <td>grover</td>\n",
       "        <td>short</td>\n",
       "    </tr>\n",
       "    <tr>\n",
       "        <td>fillmore</td>\n",
       "        <td>delano</td>\n",
       "        <td>herbert</td>\n",
       "        <td>curly</td>\n",
       "    </tr>\n",
       "    <tr>\n",
       "        <td>fillmore</td>\n",
       "        <td>grover</td>\n",
       "        <td>abraham</td>\n",
       "        <td>long</td>\n",
       "    </tr>\n",
       "    <tr>\n",
       "        <td>fillmore</td>\n",
       "        <td>grover</td>\n",
       "        <td>barack</td>\n",
       "        <td>short</td>\n",
       "    </tr>\n",
       "    <tr>\n",
       "        <td>fillmore</td>\n",
       "        <td>grover</td>\n",
       "        <td>clinton</td>\n",
       "        <td>long</td>\n",
       "    </tr>\n",
       "    <tr>\n",
       "        <td>fillmore</td>\n",
       "        <td>grover</td>\n",
       "        <td>delano</td>\n",
       "        <td>long</td>\n",
       "    </tr>\n",
       "    <tr>\n",
       "        <td>fillmore</td>\n",
       "        <td>grover</td>\n",
       "        <td>eisenhower</td>\n",
       "        <td>short</td>\n",
       "    </tr>\n",
       "    <tr>\n",
       "        <td>fillmore</td>\n",
       "        <td>grover</td>\n",
       "        <td>fillmore</td>\n",
       "        <td>curly</td>\n",
       "    </tr>\n",
       "    <tr>\n",
       "        <td>fillmore</td>\n",
       "        <td>grover</td>\n",
       "        <td>grover</td>\n",
       "        <td>short</td>\n",
       "    </tr>\n",
       "    <tr>\n",
       "        <td>fillmore</td>\n",
       "        <td>grover</td>\n",
       "        <td>herbert</td>\n",
       "        <td>curly</td>\n",
       "    </tr>\n",
       "</table>"
      ],
      "text/plain": [
       "[('abraham', 'barack', 'abraham', 'long'),\n",
       " ('abraham', 'barack', 'barack', 'short'),\n",
       " ('abraham', 'barack', 'clinton', 'long'),\n",
       " ('abraham', 'barack', 'delano', 'long'),\n",
       " ('abraham', 'barack', 'eisenhower', 'short'),\n",
       " ('abraham', 'barack', 'fillmore', 'curly'),\n",
       " ('abraham', 'barack', 'grover', 'short'),\n",
       " ('abraham', 'barack', 'herbert', 'curly'),\n",
       " ('abraham', 'clinton', 'abraham', 'long'),\n",
       " ('abraham', 'clinton', 'barack', 'short'),\n",
       " ('abraham', 'clinton', 'clinton', 'long'),\n",
       " ('abraham', 'clinton', 'delano', 'long'),\n",
       " ('abraham', 'clinton', 'eisenhower', 'short'),\n",
       " ('abraham', 'clinton', 'fillmore', 'curly'),\n",
       " ('abraham', 'clinton', 'grover', 'short'),\n",
       " ('abraham', 'clinton', 'herbert', 'curly'),\n",
       " ('delano', 'herbert', 'abraham', 'long'),\n",
       " ('delano', 'herbert', 'barack', 'short'),\n",
       " ('delano', 'herbert', 'clinton', 'long'),\n",
       " ('delano', 'herbert', 'delano', 'long'),\n",
       " ('delano', 'herbert', 'eisenhower', 'short'),\n",
       " ('delano', 'herbert', 'fillmore', 'curly'),\n",
       " ('delano', 'herbert', 'grover', 'short'),\n",
       " ('delano', 'herbert', 'herbert', 'curly'),\n",
       " ('eisenhower', 'fillmore', 'abraham', 'long'),\n",
       " ('eisenhower', 'fillmore', 'barack', 'short'),\n",
       " ('eisenhower', 'fillmore', 'clinton', 'long'),\n",
       " ('eisenhower', 'fillmore', 'delano', 'long'),\n",
       " ('eisenhower', 'fillmore', 'eisenhower', 'short'),\n",
       " ('eisenhower', 'fillmore', 'fillmore', 'curly'),\n",
       " ('eisenhower', 'fillmore', 'grover', 'short'),\n",
       " ('eisenhower', 'fillmore', 'herbert', 'curly'),\n",
       " ('fillmore', 'abraham', 'abraham', 'long'),\n",
       " ('fillmore', 'abraham', 'barack', 'short'),\n",
       " ('fillmore', 'abraham', 'clinton', 'long'),\n",
       " ('fillmore', 'abraham', 'delano', 'long'),\n",
       " ('fillmore', 'abraham', 'eisenhower', 'short'),\n",
       " ('fillmore', 'abraham', 'fillmore', 'curly'),\n",
       " ('fillmore', 'abraham', 'grover', 'short'),\n",
       " ('fillmore', 'abraham', 'herbert', 'curly'),\n",
       " ('fillmore', 'delano', 'abraham', 'long'),\n",
       " ('fillmore', 'delano', 'barack', 'short'),\n",
       " ('fillmore', 'delano', 'clinton', 'long'),\n",
       " ('fillmore', 'delano', 'delano', 'long'),\n",
       " ('fillmore', 'delano', 'eisenhower', 'short'),\n",
       " ('fillmore', 'delano', 'fillmore', 'curly'),\n",
       " ('fillmore', 'delano', 'grover', 'short'),\n",
       " ('fillmore', 'delano', 'herbert', 'curly'),\n",
       " ('fillmore', 'grover', 'abraham', 'long'),\n",
       " ('fillmore', 'grover', 'barack', 'short'),\n",
       " ('fillmore', 'grover', 'clinton', 'long'),\n",
       " ('fillmore', 'grover', 'delano', 'long'),\n",
       " ('fillmore', 'grover', 'eisenhower', 'short'),\n",
       " ('fillmore', 'grover', 'fillmore', 'curly'),\n",
       " ('fillmore', 'grover', 'grover', 'short'),\n",
       " ('fillmore', 'grover', 'herbert', 'curly')]"
      ]
     },
     "execution_count": 10,
     "metadata": {},
     "output_type": "execute_result"
    }
   ],
   "source": [
    "%%sql\n",
    "select * from parents, dogs;"
   ]
  },
  {
   "cell_type": "markdown",
   "metadata": {},
   "source": [
    "Above, we just exhaustively compute all the possible pairs of rows. Now let's try filtering it!"
   ]
  },
  {
   "cell_type": "code",
   "execution_count": 12,
   "metadata": {},
   "outputs": [
    {
     "name": "stdout",
     "output_type": "stream",
     "text": [
      " * sqlite://\n",
      "Done.\n"
     ]
    },
    {
     "data": {
      "text/html": [
       "<table>\n",
       "    <tr>\n",
       "        <th>parent</th>\n",
       "        <th>child</th>\n",
       "        <th>name</th>\n",
       "        <th>fur</th>\n",
       "    </tr>\n",
       "    <tr>\n",
       "        <td>abraham</td>\n",
       "        <td>barack</td>\n",
       "        <td>barack</td>\n",
       "        <td>short</td>\n",
       "    </tr>\n",
       "    <tr>\n",
       "        <td>abraham</td>\n",
       "        <td>clinton</td>\n",
       "        <td>clinton</td>\n",
       "        <td>long</td>\n",
       "    </tr>\n",
       "    <tr>\n",
       "        <td>delano</td>\n",
       "        <td>herbert</td>\n",
       "        <td>herbert</td>\n",
       "        <td>curly</td>\n",
       "    </tr>\n",
       "    <tr>\n",
       "        <td>eisenhower</td>\n",
       "        <td>fillmore</td>\n",
       "        <td>fillmore</td>\n",
       "        <td>curly</td>\n",
       "    </tr>\n",
       "    <tr>\n",
       "        <td>fillmore</td>\n",
       "        <td>abraham</td>\n",
       "        <td>abraham</td>\n",
       "        <td>long</td>\n",
       "    </tr>\n",
       "    <tr>\n",
       "        <td>fillmore</td>\n",
       "        <td>delano</td>\n",
       "        <td>delano</td>\n",
       "        <td>long</td>\n",
       "    </tr>\n",
       "    <tr>\n",
       "        <td>fillmore</td>\n",
       "        <td>grover</td>\n",
       "        <td>grover</td>\n",
       "        <td>short</td>\n",
       "    </tr>\n",
       "</table>"
      ],
      "text/plain": [
       "[('abraham', 'barack', 'barack', 'short'),\n",
       " ('abraham', 'clinton', 'clinton', 'long'),\n",
       " ('delano', 'herbert', 'herbert', 'curly'),\n",
       " ('eisenhower', 'fillmore', 'fillmore', 'curly'),\n",
       " ('fillmore', 'abraham', 'abraham', 'long'),\n",
       " ('fillmore', 'delano', 'delano', 'long'),\n",
       " ('fillmore', 'grover', 'grover', 'short')]"
      ]
     },
     "execution_count": 12,
     "metadata": {},
     "output_type": "execute_result"
    }
   ],
   "source": [
    "%%sql\n",
    "select * from parents, dogs\n",
    "    where child = name;"
   ]
  },
  {
   "cell_type": "markdown",
   "metadata": {},
   "source": [
    "Above, we have 2 columns from each table paired up together. However, notice that for every row, the `child` and the `name` are the same! \n",
    "\n",
    "This time we'll filter the table further by only choosing the rows with `curly` fur,"
   ]
  },
  {
   "cell_type": "code",
   "execution_count": 13,
   "metadata": {},
   "outputs": [
    {
     "name": "stdout",
     "output_type": "stream",
     "text": [
      " * sqlite://\n",
      "Done.\n"
     ]
    },
    {
     "data": {
      "text/html": [
       "<table>\n",
       "    <tr>\n",
       "        <th>parent</th>\n",
       "        <th>child</th>\n",
       "        <th>name</th>\n",
       "        <th>fur</th>\n",
       "    </tr>\n",
       "    <tr>\n",
       "        <td>eisenhower</td>\n",
       "        <td>fillmore</td>\n",
       "        <td>fillmore</td>\n",
       "        <td>curly</td>\n",
       "    </tr>\n",
       "    <tr>\n",
       "        <td>delano</td>\n",
       "        <td>herbert</td>\n",
       "        <td>herbert</td>\n",
       "        <td>curly</td>\n",
       "    </tr>\n",
       "</table>"
      ],
      "text/plain": [
       "[('eisenhower', 'fillmore', 'fillmore', 'curly'),\n",
       " ('delano', 'herbert', 'herbert', 'curly')]"
      ]
     },
     "execution_count": 13,
     "metadata": {},
     "output_type": "execute_result"
    }
   ],
   "source": [
    "%%sql\n",
    "select * from parents, dogs\n",
    "    where child = name and fur = \"curly\";"
   ]
  },
  {
   "cell_type": "markdown",
   "metadata": {},
   "source": [
    "Now all we need is to be more specific with which column that we want. Instead of `select *`, we can `select` a column name."
   ]
  },
  {
   "cell_type": "code",
   "execution_count": 14,
   "metadata": {},
   "outputs": [
    {
     "name": "stdout",
     "output_type": "stream",
     "text": [
      " * sqlite://\n",
      "Done.\n"
     ]
    },
    {
     "data": {
      "text/html": [
       "<table>\n",
       "    <tr>\n",
       "        <th>parent</th>\n",
       "    </tr>\n",
       "    <tr>\n",
       "        <td>eisenhower</td>\n",
       "    </tr>\n",
       "    <tr>\n",
       "        <td>delano</td>\n",
       "    </tr>\n",
       "</table>"
      ],
      "text/plain": [
       "[('eisenhower',), ('delano',)]"
      ]
     },
     "execution_count": 14,
     "metadata": {},
     "output_type": "execute_result"
    }
   ],
   "source": [
    "%%sql\n",
    "select parent from parents, dogs\n",
    "    where child = name and fur = \"curly\";"
   ]
  },
  {
   "cell_type": "code",
   "execution_count": null,
   "metadata": {},
   "outputs": [],
   "source": []
  }
 ],
 "metadata": {
  "kernelspec": {
   "display_name": "Python 3",
   "language": "python",
   "name": "python3"
  },
  "language_info": {
   "codemirror_mode": {
    "name": "ipython",
    "version": 3
   },
   "file_extension": ".py",
   "mimetype": "text/x-python",
   "name": "python",
   "nbconvert_exporter": "python",
   "pygments_lexer": "ipython3",
   "version": "3.7.3"
  }
 },
 "nbformat": 4,
 "nbformat_minor": 4
}
