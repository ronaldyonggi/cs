{
 "cells": [
  {
   "cell_type": "code",
   "execution_count": 6,
   "metadata": {},
   "outputs": [
    {
     "name": "stdout",
     "output_type": "stream",
     "text": [
      "The sql extension is already loaded. To reload it, use:\n",
      "  %reload_ext sql\n"
     ]
    },
    {
     "data": {
      "text/plain": [
       "'Connected: @None'"
      ]
     },
     "execution_count": 6,
     "metadata": {},
     "output_type": "execute_result"
    }
   ],
   "source": [
    "%load_ext sql\n",
    "%sql sqlite://"
   ]
  },
  {
   "cell_type": "code",
   "execution_count": 7,
   "metadata": {},
   "outputs": [
    {
     "name": "stdout",
     "output_type": "stream",
     "text": [
      " * sqlite://\n",
      "(sqlite3.OperationalError) table parents already exists\n",
      "[SQL: create table parents as\n",
      "    select \"abraham\" as parent, \"barack\" as child union\n",
      "    select \"abraham\"          , \"clinton\"         union\n",
      "    select \"delano\"          , \"herbert\"         union\n",
      "    select \"fillmore\"          , \"abraham\"         union\n",
      "    select \"fillmore\"          , \"delano\"         union\n",
      "    select \"fillmore\"          , \"grover\"         union\n",
      "    select \"eisenhower\"          , \"fillmore\";]\n",
      "(Background on this error at: http://sqlalche.me/e/e3q8)\n"
     ]
    }
   ],
   "source": [
    "%%sql\n",
    "\n",
    "create table parents as\n",
    "    select \"abraham\" as parent, \"barack\" as child union\n",
    "    select \"abraham\"          , \"clinton\"         union\n",
    "    select \"delano\"          , \"herbert\"         union\n",
    "    select \"fillmore\"          , \"abraham\"         union\n",
    "    select \"fillmore\"          , \"delano\"         union\n",
    "    select \"fillmore\"          , \"grover\"         union\n",
    "    select \"eisenhower\"          , \"fillmore\";"
   ]
  },
  {
   "cell_type": "markdown",
   "metadata": {},
   "source": [
    "# Projecting Tables"
   ]
  },
  {
   "cell_type": "markdown",
   "metadata": {},
   "source": [
    "Now that we know how to create tables from scratch, we'll go over **projecting tables**."
   ]
  },
  {
   "cell_type": "markdown",
   "metadata": {},
   "source": [
    "## Select Statements Project Existing Tables"
   ]
  },
  {
   "cell_type": "markdown",
   "metadata": {},
   "source": [
    "`select` statements can project existing tables into new tables. A `select` statement can specify an input table using a `from` clause. \n",
    "\n",
    "If we have the following `select` statement,"
   ]
  },
  {
   "cell_type": "code",
   "execution_count": null,
   "metadata": {},
   "outputs": [],
   "source": [
    "select [expression] as [name], [expression] as [name], ...;"
   ]
  },
  {
   "cell_type": "markdown",
   "metadata": {},
   "source": [
    "The cell above are all just description of columns.\n",
    "\n",
    "<img src = 'column.png' width = 500/>\n",
    "\n",
    "A `select` statement can have things other than columns description. The `from` clause indicates which table we're taking rows from."
   ]
  },
  {
   "cell_type": "code",
   "execution_count": null,
   "metadata": {},
   "outputs": [],
   "source": [
    "select [columns] from [table]"
   ]
  },
  {
   "cell_type": "markdown",
   "metadata": {},
   "source": [
    "A subset of the rows of the input table can be selected using a `where` clause. "
   ]
  },
  {
   "cell_type": "code",
   "execution_count": null,
   "metadata": {},
   "outputs": [],
   "source": [
    "select [columns] from [table] where [condition]"
   ]
  },
  {
   "cell_type": "markdown",
   "metadata": {},
   "source": [
    "With the statement above, we will obtain certain rows from `[table]` that fulfills the `[condition]`.\n",
    "\n",
    "An ordering over the remaining rows can be declared using an `order by` clause."
   ]
  },
  {
   "cell_type": "code",
   "execution_count": null,
   "metadata": {},
   "outputs": [],
   "source": [
    "select [columns] from [table] where [condition] order by [order];"
   ]
  },
  {
   "cell_type": "markdown",
   "metadata": {},
   "source": [
    "We see that there are multiple parts to a `select` statement. Column descriptions determine how each input row (after filtered using `where` and ordered using `order by`) is projected to a result row. Every `select` statement creates a new table with rows and columns. \n",
    "\n",
    "Now back to the `parents` table of dogs. If we do the following,"
   ]
  },
  {
   "cell_type": "code",
   "execution_count": 4,
   "metadata": {},
   "outputs": [
    {
     "name": "stdout",
     "output_type": "stream",
     "text": [
      " * sqlite://\n",
      "Done.\n"
     ]
    },
    {
     "data": {
      "text/html": [
       "<table>\n",
       "    <tr>\n",
       "        <th>child</th>\n",
       "    </tr>\n",
       "    <tr>\n",
       "        <td>barack</td>\n",
       "    </tr>\n",
       "    <tr>\n",
       "        <td>clinton</td>\n",
       "    </tr>\n",
       "</table>"
      ],
      "text/plain": [
       "[('barack',), ('clinton',)]"
      ]
     },
     "execution_count": 4,
     "metadata": {},
     "output_type": "execute_result"
    }
   ],
   "source": [
    "%%sql\n",
    "select child from parents where parent = \"abraham\";"
   ]
  },
  {
   "cell_type": "markdown",
   "metadata": {},
   "source": [
    "We obtain the `child` column containing rows whose `parent` is `\"abraham\"`.\n",
    "\n",
    "Now if we do the following,"
   ]
  },
  {
   "cell_type": "code",
   "execution_count": 8,
   "metadata": {},
   "outputs": [
    {
     "name": "stdout",
     "output_type": "stream",
     "text": [
      " * sqlite://\n",
      "Done.\n"
     ]
    },
    {
     "data": {
      "text/html": [
       "<table>\n",
       "    <tr>\n",
       "        <th>parent</th>\n",
       "    </tr>\n",
       "    <tr>\n",
       "        <td>fillmore</td>\n",
       "    </tr>\n",
       "    <tr>\n",
       "        <td>fillmore</td>\n",
       "    </tr>\n",
       "</table>"
      ],
      "text/plain": [
       "[('fillmore',), ('fillmore',)]"
      ]
     },
     "execution_count": 8,
     "metadata": {},
     "output_type": "execute_result"
    }
   ],
   "source": [
    "%%sql\n",
    "select parent from parents where parent > child;"
   ]
  },
  {
   "cell_type": "markdown",
   "metadata": {},
   "source": [
    "Comparison of string values is done based on alphabetical order. The statement `parent > child` means `parent` is later in alphabet than `child`. The output above makes sense since if we look at the tree once again,\n",
    "\n",
    "<img src = 'dogs.png' width = 300/>"
   ]
  },
  {
   "cell_type": "markdown",
   "metadata": {},
   "source": [
    "We see that both `\"Abraham\"` and `\"Delano\"` both have \"`Fillmore\"` as their parents, in which alphabetically `\"Fillmore\"` is greater. Other than those 2, there aren't any case where the first letter of the parent is greater than that of the child / children. \n",
    "\n",
    "We see that it's also possible to obtain duplicate rows repeated multiple times"
   ]
  }
 ],
 "metadata": {
  "kernelspec": {
   "display_name": "Python 3",
   "language": "python",
   "name": "python3"
  },
  "language_info": {
   "codemirror_mode": {
    "name": "ipython",
    "version": 3
   },
   "file_extension": ".py",
   "mimetype": "text/x-python",
   "name": "python",
   "nbconvert_exporter": "python",
   "pygments_lexer": "ipython3",
   "version": "3.7.3"
  }
 },
 "nbformat": 4,
 "nbformat_minor": 4
}
