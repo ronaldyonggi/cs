{
 "cells": [
  {
   "cell_type": "code",
   "execution_count": 1,
   "metadata": {},
   "outputs": [
    {
     "data": {
      "text/plain": [
       "'Connected: @None'"
      ]
     },
     "execution_count": 1,
     "metadata": {},
     "output_type": "execute_result"
    }
   ],
   "source": [
    "%load_ext sql\n",
    "%sql sqlite://"
   ]
  },
  {
   "cell_type": "markdown",
   "metadata": {},
   "source": [
    "# Structured Query Language (SQL)"
   ]
  },
  {
   "cell_type": "markdown",
   "metadata": {},
   "source": [
    "## SQL Overview"
   ]
  },
  {
   "cell_type": "markdown",
   "metadata": {},
   "source": [
    "The SQL language is standardized by ANSI and ISO standard. However, the people who built DBMS don't accept it; thus, there are multiple variants of SQL. Despite many variants, the language behaves mostly in a similar way regardless of which DBMS we use. We'll focus on part of the language that's universal.\n",
    "\n",
    "A `select` statement creates a new table, either from scratch or by projecting a table. \n",
    "\n",
    "A `create table` statement gives a global name to a table\n",
    "\n",
    "Lots of other statements available: `analyze`, `delete`, `explain`, `insert`, `replace`, `update`, etc. These statements are important in large industrial DBMS application.\n",
    "\n",
    "Most of the important action is in the `select` statement. The code for executing `select` statements fits on a single sheet of paper (next lecture)\n",
    "* We can build an interpreter for this language easily using Python. We'll go over the details in the next lecture."
   ]
  },
  {
   "cell_type": "markdown",
   "metadata": {},
   "source": [
    "## Getting Started with SQL"
   ]
  },
  {
   "cell_type": "markdown",
   "metadata": {},
   "source": [
    "Install [sqlite](http://sqlite.org/download.html)\n",
    "\n",
    "Use sqlite [online](http://kripken.github.io/sql.js/GUI/)\n",
    "\n",
    "**Writer's Note**\n",
    "In this Jupyter notebook, I used %%sql magic to execute sql statement within Jupyter. "
   ]
  },
  {
   "cell_type": "markdown",
   "metadata": {},
   "source": [
    "## Selecting Value Literals"
   ]
  },
  {
   "cell_type": "markdown",
   "metadata": {},
   "source": [
    "The first step is to obtain some data from some table. We use `select` statement for that using literal expressions to declare which data we want. A `select` statement always include a comma-separated list of **column descriptions**.\n",
    "\n",
    "A **column description** is an expression, optionally followed by `as` and a column name. In the following cell:"
   ]
  },
  {
   "cell_type": "code",
   "execution_count": null,
   "metadata": {},
   "outputs": [],
   "source": [
    "select [expression] as [name]"
   ]
  },
  {
   "cell_type": "markdown",
   "metadata": {},
   "source": [
    "`[expression]` tells us what we're selecting, while `[name]` tells us the name of the column. We can add another column by adding comma `,` to the statement above. For example:"
   ]
  },
  {
   "cell_type": "code",
   "execution_count": null,
   "metadata": {},
   "outputs": [],
   "source": [
    "select [expression] as [name], [expression] as [name]"
   ]
  },
  {
   "cell_type": "markdown",
   "metadata": {},
   "source": [
    "The above cell creates a 2-column table. We can have as many columns as we want,"
   ]
  },
  {
   "cell_type": "code",
   "execution_count": null,
   "metadata": {},
   "outputs": [],
   "source": [
    "select [expression] as [name], [expression] as [name], ..."
   ]
  },
  {
   "cell_type": "markdown",
   "metadata": {},
   "source": [
    "And whenever we're done with adding columns, we add semicolon `;` at the end. All SQL statements end with semicolons `;`."
   ]
  },
  {
   "cell_type": "code",
   "execution_count": null,
   "metadata": {},
   "outputs": [],
   "source": [
    "select [expression] as [name], [expression] as [name];"
   ]
  },
  {
   "cell_type": "markdown",
   "metadata": {},
   "source": [
    "Selecting literals (expressions such as number `2` or the string  `Berkeley`) creates a one-row table. If we want to create a multi-row table, we can `union` together 2 `select` statements. The `union` of 2 `select` statements generates a table containing the rows of both. We can only `union` together tables that have the same number of columns and the same type of information; however, the 2 `select` statements that we `union` together don't need to have the same names for the columns. It will just use the names of the first `select` statement.\n",
    "\n",
    "Now let's say we have a database of names of dogs named under U.S. presidents. "
   ]
  },
  {
   "cell_type": "code",
   "execution_count": 2,
   "metadata": {},
   "outputs": [
    {
     "name": "stdout",
     "output_type": "stream",
     "text": [
      " * sqlite://\n",
      "Done.\n"
     ]
    },
    {
     "data": {
      "text/html": [
       "<table>\n",
       "    <tr>\n",
       "        <th>parent</th>\n",
       "        <th>child</th>\n",
       "    </tr>\n",
       "    <tr>\n",
       "        <td>abraham</td>\n",
       "        <td>barack</td>\n",
       "    </tr>\n",
       "</table>"
      ],
      "text/plain": [
       "[('abraham', 'barack')]"
      ]
     },
     "execution_count": 2,
     "metadata": {},
     "output_type": "execute_result"
    }
   ],
   "source": [
    "%%sql\n",
    "select \"abraham\" as parent, \"barack\" as child;"
   ]
  },
  {
   "cell_type": "markdown",
   "metadata": {},
   "source": [
    "Above, the program creates a one-row with 2 columns: a `parent` column and a `child` column. The values that go into those columns are strings.\n",
    "\n",
    "If we have more dogs, we would have to use `union` instead of ending the statement with semicolon `;`. "
   ]
  },
  {
   "cell_type": "code",
   "execution_count": 3,
   "metadata": {},
   "outputs": [
    {
     "name": "stdout",
     "output_type": "stream",
     "text": [
      " * sqlite://\n",
      "Done.\n"
     ]
    },
    {
     "data": {
      "text/html": [
       "<table>\n",
       "    <tr>\n",
       "        <th>parent</th>\n",
       "        <th>child</th>\n",
       "    </tr>\n",
       "    <tr>\n",
       "        <td>abraham</td>\n",
       "        <td>barack</td>\n",
       "    </tr>\n",
       "    <tr>\n",
       "        <td>abraham</td>\n",
       "        <td>clinton</td>\n",
       "    </tr>\n",
       "    <tr>\n",
       "        <td>delano</td>\n",
       "        <td>herbert</td>\n",
       "    </tr>\n",
       "    <tr>\n",
       "        <td>eisenhower</td>\n",
       "        <td>fillmore</td>\n",
       "    </tr>\n",
       "    <tr>\n",
       "        <td>fillmore</td>\n",
       "        <td>abraham</td>\n",
       "    </tr>\n",
       "    <tr>\n",
       "        <td>fillmore</td>\n",
       "        <td>delano</td>\n",
       "    </tr>\n",
       "    <tr>\n",
       "        <td>fillmore</td>\n",
       "        <td>grover</td>\n",
       "    </tr>\n",
       "</table>"
      ],
      "text/plain": [
       "[('abraham', 'barack'),\n",
       " ('abraham', 'clinton'),\n",
       " ('delano', 'herbert'),\n",
       " ('eisenhower', 'fillmore'),\n",
       " ('fillmore', 'abraham'),\n",
       " ('fillmore', 'delano'),\n",
       " ('fillmore', 'grover')]"
      ]
     },
     "execution_count": 3,
     "metadata": {},
     "output_type": "execute_result"
    }
   ],
   "source": [
    "%%sql\n",
    "select \"abraham\" as parent, \"barack\" as child union\n",
    "select \"abraham\"          , \"clinton\"         union\n",
    "select \"delano\"          , \"herbert\"         union\n",
    "select \"fillmore\"          , \"abraham\"         union\n",
    "select \"fillmore\"          , \"delano\"         union\n",
    "select \"fillmore\"          , \"grover\"         union\n",
    "select \"eisenhower\"          , \"fillmore\";"
   ]
  },
  {
   "cell_type": "markdown",
   "metadata": {},
   "source": [
    "Above, we see that the table has 7 rows and 2 columns: a `parent` and a `child` column. Meanwhile, the corresponding naming tree goes as the following,\n",
    "\n",
    "<img src = 'dogs.png' width = 500/>"
   ]
  },
  {
   "cell_type": "markdown",
   "metadata": {},
   "source": [
    "## Naming Tables"
   ]
  },
  {
   "cell_type": "markdown",
   "metadata": {},
   "source": [
    "SQL is often used as an interactive language. For example, we only want to see the data in the database. For this reason, by default the result of a `select` or multiple `select`s statements `union`ed together won't be stored at all. \n",
    "\n",
    "The result of a `select` statement is displayed to the user, but not stored.\n",
    "\n",
    "If we want to store it, give it a name and be able to use it later, we use a `create table` statement. A `create table` statement gives the result a name. The format is as the following,"
   ]
  },
  {
   "cell_type": "code",
   "execution_count": null,
   "metadata": {},
   "outputs": [],
   "source": [
    "create table [name] as [select statement];"
   ]
  },
  {
   "cell_type": "markdown",
   "metadata": {},
   "source": [
    "Thus, if we want to store the table that we created earlier as `parents`, we execute the following,"
   ]
  },
  {
   "cell_type": "code",
   "execution_count": 4,
   "metadata": {},
   "outputs": [
    {
     "name": "stdout",
     "output_type": "stream",
     "text": [
      " * sqlite://\n",
      "Done.\n"
     ]
    },
    {
     "data": {
      "text/plain": [
       "[]"
      ]
     },
     "execution_count": 4,
     "metadata": {},
     "output_type": "execute_result"
    }
   ],
   "source": [
    "%%sql\n",
    "\n",
    "create table parents as\n",
    "    select \"abraham\" as parent, \"barack\" as child union\n",
    "    select \"abraham\"          , \"clinton\"         union\n",
    "    select \"delano\"          , \"herbert\"         union\n",
    "    select \"fillmore\"          , \"abraham\"         union\n",
    "    select \"fillmore\"          , \"delano\"         union\n",
    "    select \"fillmore\"          , \"grover\"         union\n",
    "    select \"eisenhower\"          , \"fillmore\";"
   ]
  },
  {
   "cell_type": "code",
   "execution_count": 6,
   "metadata": {},
   "outputs": [
    {
     "name": "stdout",
     "output_type": "stream",
     "text": [
      " * sqlite://\n",
      "Done.\n"
     ]
    },
    {
     "data": {
      "text/html": [
       "<table>\n",
       "    <tr>\n",
       "        <th>parent</th>\n",
       "        <th>child</th>\n",
       "    </tr>\n",
       "    <tr>\n",
       "        <td>abraham</td>\n",
       "        <td>barack</td>\n",
       "    </tr>\n",
       "    <tr>\n",
       "        <td>abraham</td>\n",
       "        <td>clinton</td>\n",
       "    </tr>\n",
       "    <tr>\n",
       "        <td>delano</td>\n",
       "        <td>herbert</td>\n",
       "    </tr>\n",
       "    <tr>\n",
       "        <td>eisenhower</td>\n",
       "        <td>fillmore</td>\n",
       "    </tr>\n",
       "    <tr>\n",
       "        <td>fillmore</td>\n",
       "        <td>abraham</td>\n",
       "    </tr>\n",
       "    <tr>\n",
       "        <td>fillmore</td>\n",
       "        <td>delano</td>\n",
       "    </tr>\n",
       "    <tr>\n",
       "        <td>fillmore</td>\n",
       "        <td>grover</td>\n",
       "    </tr>\n",
       "</table>"
      ],
      "text/plain": [
       "[('abraham', 'barack'),\n",
       " ('abraham', 'clinton'),\n",
       " ('delano', 'herbert'),\n",
       " ('eisenhower', 'fillmore'),\n",
       " ('fillmore', 'abraham'),\n",
       " ('fillmore', 'delano'),\n",
       " ('fillmore', 'grover')]"
      ]
     },
     "execution_count": 6,
     "metadata": {},
     "output_type": "execute_result"
    }
   ],
   "source": [
    "%%sql\n",
    "select * from parents"
   ]
  },
  {
   "cell_type": "code",
   "execution_count": null,
   "metadata": {},
   "outputs": [],
   "source": []
  }
 ],
 "metadata": {
  "kernelspec": {
   "display_name": "Python 3",
   "language": "python",
   "name": "python3"
  },
  "language_info": {
   "codemirror_mode": {
    "name": "ipython",
    "version": 3
   },
   "file_extension": ".py",
   "mimetype": "text/x-python",
   "name": "python",
   "nbconvert_exporter": "python",
   "pygments_lexer": "ipython3",
   "version": "3.7.3"
  }
 },
 "nbformat": 4,
 "nbformat_minor": 4
}
