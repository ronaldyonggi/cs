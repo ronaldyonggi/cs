{
 "cells": [
  {
   "cell_type": "markdown",
   "metadata": {},
   "source": [
    "# Tree Processing"
   ]
  },
  {
   "cell_type": "markdown",
   "metadata": {},
   "source": [
    "Here we're going to go through examples of tree processing problems."
   ]
  },
  {
   "cell_type": "markdown",
   "metadata": {},
   "source": [
    "## Solving Tree Problems"
   ]
  },
  {
   "cell_type": "markdown",
   "metadata": {},
   "source": [
    "Implement `bigs`, which takes a Tree instance `t` containing integer labels. It returns the number of nodes in `t` whose labels are larger than any labels of their ancestor nodes."
   ]
  },
  {
   "cell_type": "code",
   "execution_count": null,
   "metadata": {},
   "outputs": [],
   "source": [
    "def bigs(t):\n",
    "    \"\"\" Return the number of nodes in t that are larger than all their ancestors.\n",
    "    \n",
    "    >>> a = Tree(1, [Tree(4, [Tree(4), Tree(5)]), Tree(3, [Tree(0, Tree(2)])])])\n",
    "    >>> bigs(a)\n",
    "    4\n",
    "    \"\"\"\n",
    "    "
   ]
  },
  {
   "cell_type": "markdown",
   "metadata": {},
   "source": [
    "The very first thing we need to do is to understand the question. \n",
    "\n",
    "It's difficult to go over terms like `label` or `nodes` without a concrete example. Going over an example is often extremely helpful. We have an example from the doctest!\n",
    "\n",
    "<img src = 'tree.png' width = 200/>"
   ]
  },
  {
   "cell_type": "markdown",
   "metadata": {},
   "source": [
    "From the doctest, we know that the answer is `4`. However, we need to know which numbers correspond to these 4.\n",
    "\n",
    "<img src = 'answer.png' width = 300/>"
   ]
  },
  {
   "cell_type": "markdown",
   "metadata": {},
   "source": [
    "Based on the picture above, the number with the checklist next to them are the numbers where all their ancestors are smaller. Note the following observations:\n",
    "\n",
    "1. The top node counts despite not having any ancestor\n",
    "2. The node that has equal label to its ancestor does not count\n",
    "\n",
    "Before trying to implement the code right away, it's useful to think about \"what is expected to appear somewhere within the implementation?\".\n",
    "\n",
    "We might expect a typical tree processing problem. Recall this template:"
   ]
  },
  {
   "cell_type": "code",
   "execution_count": null,
   "metadata": {},
   "outputs": [],
   "source": [
    "if t.is_leaf(): # If t is a leaf, do base case\n",
    "    return ___\n",
    "else:\n",
    "    return ___([___ for b in t.branches]) # Else, do a recursive case to each of the branches"
   ]
  },
  {
   "cell_type": "markdown",
   "metadata": {},
   "source": [
    "We might be tempted to use this template. However, the problem is that if we do recursive calls over and over until we reach a leaf, it's difficult to determine whether the leaf is a node whose label is greater than its ancestors. Because at that point,"
   ]
  },
  {
   "cell_type": "code",
   "execution_count": null,
   "metadata": {},
   "outputs": [],
   "source": [
    "if t.is_leaf():\n",
    "    return ___"
   ]
  },
  {
   "cell_type": "markdown",
   "metadata": {},
   "source": [
    "...we only know about the `leaf` itself. "
   ]
  }
 ],
 "metadata": {
  "kernelspec": {
   "display_name": "Python 3",
   "language": "python",
   "name": "python3"
  },
  "language_info": {
   "codemirror_mode": {
    "name": "ipython",
    "version": 3
   },
   "file_extension": ".py",
   "mimetype": "text/x-python",
   "name": "python",
   "nbconvert_exporter": "python",
   "pygments_lexer": "ipython3",
   "version": "3.7.3"
  }
 },
 "nbformat": 4,
 "nbformat_minor": 4
}
