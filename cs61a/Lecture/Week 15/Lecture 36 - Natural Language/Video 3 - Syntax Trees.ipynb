{
 "cells": [
  {
   "cell_type": "markdown",
   "metadata": {},
   "source": [
    "# Syntax Trees"
   ]
  },
  {
   "cell_type": "markdown",
   "metadata": {},
   "source": [
    "The way we described the structure of a sentence is using a syntax tree."
   ]
  },
  {
   "cell_type": "markdown",
   "metadata": {},
   "source": [
    "## Representing Syntactic Structure"
   ]
  },
  {
   "cell_type": "markdown",
   "metadata": {},
   "source": [
    "In this example, we'll work on a sentence that contains the same word. \n",
    "\n",
    "`buffalo` is an animal, and thus it's a `Noun`. But `buffalo` is also a verb that means \"to intimidate\". \n",
    "\n",
    "Buffalo can intimidate other buffalos. We'll make a sentence:\n",
    "\n",
    "**\"Buffalo buffalo buffalo\"**\n",
    "\n",
    "<img src = 'buffalo.png' width = 300/>"
   ]
  },
  {
   "cell_type": "markdown",
   "metadata": {},
   "source": [
    "With the structure above, the `Verb Phrase` contains a structure: it consists of a `Verb` and a `Noun` phrase. \n",
    "\n",
    "<img src = 'buffalo2.png' width = 300/>"
   ]
  },
  {
   "cell_type": "markdown",
   "metadata": {},
   "source": [
    "We want to be able to represent this structure via Python program. We'll use 2 different classes:\n",
    "\n",
    "1. A `Tree` class represents a whole phrase (e.g. verb phrase). It has:\n",
    "    * `tag`, tells us what kind of phrase it is. We'll use the first letter for indicator. For example:\n",
    "        * `S`entence\n",
    "        * `N`oun\n",
    "        * `V`erb\n",
    "    * `branches`, sequence of `Tree` or `Leaf` components\n",
    "    \n",
    "2. A `Leaf` represents a single word. It has:\n",
    "    * `tag`, tells us the syntactic category (what kind of word, e.g. `N`oun or `V`erb)\n",
    "    * `word`, the word itself\n",
    "    \n",
    "<img src = 'class.png' width = 500>"
   ]
  },
  {
   "cell_type": "markdown",
   "metadata": {},
   "source": [
    "Above, the parts enclosed green are `Tree`, while the part enclosed red are `Leaf`.\n",
    "\n",
    "What's the equivalent Python code?\n",
    "\n",
    "We can create a `Leaf` by the following,"
   ]
  },
  {
   "cell_type": "code",
   "execution_count": 2,
   "metadata": {},
   "outputs": [],
   "source": [
    "beasts = Leaf('N', 'buffalo') # This is buffalo as a noun\n",
    "intimidate = Leaf('V', 'buffalo') # This is buffalo as a verb\n",
    "S, NP, VP = \"S\", \"NP\", \"VP\""
   ]
  },
  {
   "cell_type": "markdown",
   "metadata": {},
   "source": [
    "Then we'll build the following `Tree`,"
   ]
  },
  {
   "cell_type": "code",
   "execution_count": null,
   "metadata": {},
   "outputs": [],
   "source": [
    "Tree(S, [Tree(NP, [beasts]),\n",
    "        Tree(VP, [intimidate,\n",
    "                 Tree(NP, [beasts])])])"
   ]
  },
  {
   "cell_type": "markdown",
   "metadata": {},
   "source": [
    "The Python code needed to support this representation is fairly straightforward.\n",
    "\n"
   ]
  },
  {
   "cell_type": "code",
   "execution_count": 3,
   "metadata": {},
   "outputs": [],
   "source": [
    "class Tree:\n",
    "    def __init__(self, tag, branches):\n",
    "        assert len(branches) >= 1\n",
    "        for b in branches:\n",
    "            assert isinstance(b, (Tree, Leaf)) # Checks if all the branches are trees or leaves\n",
    "        self.tag = tag\n",
    "        self.branches = branches\n",
    "        \n",
    "class Leaf:\n",
    "    def __init__(self, tag, word):\n",
    "        self.tag = tag\n",
    "        self.word = word\n",
    "        \n",
    "beasts = Leaf('N', 'buffalo') # This is buffalo as a noun\n",
    "intimidate = Leaf('V', 'buffalo') # This is buffalo as a verb\n",
    "S, NP, VP = \"S\", \"NP\", \"VP\"\n",
    "\n",
    "s = Tree(S, [Tree(NP, [beasts]),\n",
    "             Tree(VP, [intimidate,\n",
    "                       Tree(NP, [beasts])\n",
    "                      ])\n",
    "            ])"
   ]
  },
  {
   "cell_type": "markdown",
   "metadata": {},
   "source": [
    "Here we try to see the components within the tree `s`."
   ]
  },
  {
   "cell_type": "code",
   "execution_count": 4,
   "metadata": {},
   "outputs": [
    {
     "data": {
      "text/plain": [
       "'S'"
      ]
     },
     "execution_count": 4,
     "metadata": {},
     "output_type": "execute_result"
    }
   ],
   "source": [
    "s.tag"
   ]
  },
  {
   "cell_type": "code",
   "execution_count": 5,
   "metadata": {},
   "outputs": [
    {
     "data": {
      "text/plain": [
       "[<__main__.Tree at 0x10d9c8400>, <__main__.Tree at 0x10d9cbe80>]"
      ]
     },
     "execution_count": 5,
     "metadata": {},
     "output_type": "execute_result"
    }
   ],
   "source": [
    "s.branches"
   ]
  },
  {
   "cell_type": "code",
   "execution_count": 6,
   "metadata": {},
   "outputs": [
    {
     "data": {
      "text/plain": [
       "<__main__.Tree at 0x10d9c8400>"
      ]
     },
     "execution_count": 6,
     "metadata": {},
     "output_type": "execute_result"
    }
   ],
   "source": [
    "s.branches[0]"
   ]
  },
  {
   "cell_type": "code",
   "execution_count": 7,
   "metadata": {},
   "outputs": [
    {
     "data": {
      "text/plain": [
       "'NP'"
      ]
     },
     "execution_count": 7,
     "metadata": {},
     "output_type": "execute_result"
    }
   ],
   "source": [
    "s.branches[0].tag"
   ]
  },
  {
   "cell_type": "code",
   "execution_count": 8,
   "metadata": {},
   "outputs": [
    {
     "data": {
      "text/plain": [
       "<__main__.Tree at 0x10d9cbe80>"
      ]
     },
     "execution_count": 8,
     "metadata": {},
     "output_type": "execute_result"
    }
   ],
   "source": [
    "s.branches[1]"
   ]
  },
  {
   "cell_type": "code",
   "execution_count": 9,
   "metadata": {},
   "outputs": [
    {
     "data": {
      "text/plain": [
       "'VP'"
      ]
     },
     "execution_count": 9,
     "metadata": {},
     "output_type": "execute_result"
    }
   ],
   "source": [
    "s.branches[1].tag"
   ]
  },
  {
   "cell_type": "markdown",
   "metadata": {},
   "source": [
    "It's a lot of work to explore a tree this way! Instead, we can define the function `print_tree`"
   ]
  },
  {
   "cell_type": "code",
   "execution_count": 12,
   "metadata": {},
   "outputs": [],
   "source": [
    "\"\"\"Pretty-print Trees as indented S-expressions.\"\"\"\n",
    "\n",
    "import heapq\n",
    "import signal\n",
    "signal.signal(signal.SIGPIPE, signal.SIG_DFL)\n",
    "\n",
    "from io import StringIO\n",
    "\n",
    "Leaf.__str__ = lambda leaf: '({tag} {word})'.format(**leaf.__dict__)\n",
    "\n",
    "def print_tree(t, indent=0, end='\\n'):\n",
    "    \"\"\"Print Tree or Leaf t with indentation.\n",
    "\n",
    "    >>> np = Tree('NP', [Leaf('N', 'buffalo')])\n",
    "    >>> t = Tree('S', [np, Tree('VP', [Leaf('V', 'buffalo'), np])])\n",
    "    >>> print_tree(t)\n",
    "    (S (NP (N buffalo))\n",
    "       (VP (V buffalo)\n",
    "           (NP (N buffalo))))\n",
    "    \"\"\"\n",
    "    if isinstance(t, Leaf):\n",
    "        print(t, end='')\n",
    "    else:\n",
    "        s = '(' + t.tag + ' '\n",
    "        indent += len(s)\n",
    "        print(s, end='')\n",
    "        print_tree(t.branches[0], indent, '')\n",
    "        for b in t.branches[1:]:\n",
    "            print('\\n' + ' '*indent, end='')\n",
    "            print_tree(b, indent, '')\n",
    "        print(')', end=end)\n",
    "\n"
   ]
  },
  {
   "cell_type": "code",
   "execution_count": 13,
   "metadata": {},
   "outputs": [
    {
     "name": "stdout",
     "output_type": "stream",
     "text": [
      "(S (NP (N buffalo))\n",
      "   (VP (V buffalo)\n",
      "       (NP (N buffalo))))\n"
     ]
    }
   ],
   "source": [
    "print_tree(s)"
   ]
  },
  {
   "cell_type": "code",
   "execution_count": null,
   "metadata": {},
   "outputs": [],
   "source": []
  }
 ],
 "metadata": {
  "kernelspec": {
   "display_name": "Python 3",
   "language": "python",
   "name": "python3"
  },
  "language_info": {
   "codemirror_mode": {
    "name": "ipython",
    "version": 3
   },
   "file_extension": ".py",
   "mimetype": "text/x-python",
   "name": "python",
   "nbconvert_exporter": "python",
   "pygments_lexer": "ipython3",
   "version": "3.7.3"
  }
 },
 "nbformat": 4,
 "nbformat_minor": 4
}
