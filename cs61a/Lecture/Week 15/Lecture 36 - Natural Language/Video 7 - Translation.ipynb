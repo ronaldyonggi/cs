{
 "cells": [
  {
   "cell_type": "markdown",
   "metadata": {},
   "source": [
    "# Translation"
   ]
  },
  {
   "cell_type": "markdown",
   "metadata": {},
   "source": [
    "Natural language parsing has many applications in other natural language processing tasks such as machine translation. For instance, when 2 languages have very different sentential structure, finding the structure of the input sentence is often helpful in predicting the correct word order for the output.\n",
    "\n",
    "We'll do an example of translating languages with different order. This is called syntactic reordering."
   ]
  },
  {
   "cell_type": "markdown",
   "metadata": {},
   "source": [
    "## Syntactic Reordering"
   ]
  },
  {
   "cell_type": "markdown",
   "metadata": {},
   "source": [
    "In this example, we'll translate English to Yoda-English\n",
    "\n",
    "<img src = 'yoda.jpeg' width = 400/>"
   ]
  },
  {
   "cell_type": "markdown",
   "metadata": {},
   "source": [
    "Yoda, from the Star Wars series, is a legendary Jedi master, famous for being Luke Skywalker's instructor and for speaking English in a peculiar manner. \n",
    "\n",
    "<img src = 'peculiar.png' width = 300/>"
   ]
  },
  {
   "cell_type": "markdown",
   "metadata": {},
   "source": [
    "Here is the syntactic tree of the sentence \"I can help you\".\n",
    "\n",
    "<img src = 'tree.png' width = 300/>\n",
    "\n",
    "...where `MD` stands for the `Modal Verb`.\n",
    "\n",
    "We can rearrange the tree so that it becomes the following,\n",
    "\n",
    "<img src = 'tree2.png' width = 300/>"
   ]
  },
  {
   "cell_type": "markdown",
   "metadata": {},
   "source": [
    "Once we have a tree that corresponds to the original sentence, the transformation is quite simple. "
   ]
  },
  {
   "cell_type": "markdown",
   "metadata": {},
   "source": [
    "## Demo"
   ]
  },
  {
   "cell_type": "markdown",
   "metadata": {},
   "source": [
    "We're starting with a partial implementation. We are going to grab words from the tree `t`,"
   ]
  },
  {
   "cell_type": "code",
   "execution_count": null,
   "metadata": {},
   "outputs": [],
   "source": [
    "def words(t):\n",
    "    \"\"\" Yield the words in t\"\"\""
   ]
  },
  {
   "cell_type": "markdown",
   "metadata": {},
   "source": [
    "And we want to be able to extract the modal argument of the tree `t` that contains a modal verb."
   ]
  },
  {
   "cell_type": "code",
   "execution_count": null,
   "metadata": {},
   "outputs": [],
   "source": [
    "def extract_modal(t):\n",
    "    \"\"\" Delete and return the arg of a modal verb phrase\"\"\"\n",
    "    if type(t) == Leaf: # If t is a leaf, then there's no `MD`\n",
    "        return None\n",
    "    # Recursively searches t to find when t has 2 branches where the left branch is tagged 'MD'\n",
    "    if len(t.branches) == 2 and t.branches[0].tag == 'MD':\n",
    "        modal, clause = t.branches # Grab the modal verb and the clause modified by the modal verb\n",
    "        t.branches = modal # replace t.branches with the first branch \n",
    "        return clause # return the second branch, which is going to be moved to the front of the tree\n",
    "    # If it's neither leaf nor a branch where the left branch is `MD`,\n",
    "    # then recurse through all the branches in t\n",
    "    for b in t.branches:\n",
    "        clause = extract_modal(b)\n",
    "        #If we find a clause that contains argument to a modal verb, then return it\n",
    "        if clause is not None:\n",
    "            return clause\n",
    "    return None #Otherwise, return None"
   ]
  },
  {
   "cell_type": "code",
   "execution_count": null,
   "metadata": {},
   "outputs": [],
   "source": [
    "@main\n",
    "def run():\n",
    "    for line in sys.stdin:\n",
    "        tree = parse(line, 1, list)[0] # parse the tree from the line\n",
    "        print_tree(tree)\n",
    "        yoda = yoda_transform(tree) # perform the Yoda transform\n",
    "        print_tree(yoda) # print the transformed tree\n",
    "        transformed = ' '.join(words(yoda)) # Join the words of that tree together\n",
    "        print('Yoda would say, \"{}\"'.format(transformed))"
   ]
  },
  {
   "cell_type": "markdown",
   "metadata": {},
   "source": [
    "Extracting words from a tree `t` involves checking whether `t` is a `leaf`."
   ]
  },
  {
   "cell_type": "code",
   "execution_count": null,
   "metadata": {},
   "outputs": [],
   "source": [
    "def words(t):\n",
    "    \"\"\" Yield the words in t\"\"\"\n",
    "    if type(t) == Leaf: # if t is a leaf\n",
    "        yield t.word# Then the words in that tree are just the word at the leaf\n",
    "    else: # Otherwise\n",
    "        for b in t.branches: # Go through all the branches\n",
    "            for w in words(b): # For every result of calling the words function on every branch\n",
    "                yield w # Yield that result"
   ]
  },
  {
   "cell_type": "markdown",
   "metadata": {},
   "source": [
    "And now let's define the `yoda_transform` function."
   ]
  },
  {
   "cell_type": "code",
   "execution_count": null,
   "metadata": {},
   "outputs": [],
   "source": [
    "def yoda_transform(t):\n",
    "    \"\"\" Place the clause of a modal verb at the front \"\"\"\n",
    "    # First get the clause, the argument of the modal verb phrase, by calling extract_modal on the original tree\n",
    "    clause = extract_modal(t)\n",
    "    if clause is not None: # If clause is not None, there's a modal verb present!\n",
    "        return Tree(t.tag, [clause, Leaf(',', ',')] + t.branches)\n",
    "    else: # If there's no modal verb\n",
    "        return t # Then we don't do anything"
   ]
  },
  {
   "cell_type": "markdown",
   "metadata": {},
   "source": [
    "The file `ex.py` contains the code for this `yoda_transform` program. "
   ]
  }
 ],
 "metadata": {
  "kernelspec": {
   "display_name": "Python 3",
   "language": "python",
   "name": "python3"
  },
  "language_info": {
   "codemirror_mode": {
    "name": "ipython",
    "version": 3
   },
   "file_extension": ".py",
   "mimetype": "text/x-python",
   "name": "python",
   "nbconvert_exporter": "python",
   "pygments_lexer": "ipython3",
   "version": "3.7.3"
  }
 },
 "nbformat": 4,
 "nbformat_minor": 4
}
