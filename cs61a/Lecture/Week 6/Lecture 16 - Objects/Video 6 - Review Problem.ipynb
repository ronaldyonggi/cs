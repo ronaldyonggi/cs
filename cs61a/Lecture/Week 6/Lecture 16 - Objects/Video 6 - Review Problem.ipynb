{
 "cells": [
  {
   "cell_type": "markdown",
   "metadata": {},
   "source": [
    "# Review Problem"
   ]
  },
  {
   "cell_type": "markdown",
   "metadata": {},
   "source": [
    "From Midterm 2 Spring 2018"
   ]
  },
  {
   "cell_type": "markdown",
   "metadata": {},
   "source": [
    "Implement `combo`, which takes 2 non-negative integers `a` and `b`. It returns the smallest integer that contains all of the digits of `a` in order, as well as all of the digits of `b` in order."
   ]
  },
  {
   "cell_type": "code",
   "execution_count": null,
   "metadata": {},
   "outputs": [],
   "source": [
    "\"\"\" Return the smallest integer with all of the digits of a and b (in order)\"\"\"\n",
    "\n",
    ">>> combo(531, 432) # 45312 contains both _531_ and 4_3_2\n",
    "45312\n",
    "\n",
    ">>> combo(531, 4321) #45321 contains both _53_1 and 4_321\n",
    "45321\n",
    "\n",
    ">>> combo(1234, 9123) #91234 contains both _1234 and 9123_"
   ]
  }
 ],
 "metadata": {
  "kernelspec": {
   "display_name": "Python 3",
   "language": "python",
   "name": "python3"
  },
  "language_info": {
   "codemirror_mode": {
    "name": "ipython",
    "version": 3
   },
   "file_extension": ".py",
   "mimetype": "text/x-python",
   "name": "python",
   "nbconvert_exporter": "python",
   "pygments_lexer": "ipython3",
   "version": "3.6.8"
  }
 },
 "nbformat": 4,
 "nbformat_minor": 2
}
