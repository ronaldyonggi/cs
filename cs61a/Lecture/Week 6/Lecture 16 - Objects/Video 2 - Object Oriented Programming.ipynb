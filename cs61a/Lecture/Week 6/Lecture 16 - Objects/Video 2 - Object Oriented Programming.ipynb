{
 "cells": [
  {
   "cell_type": "code",
   "execution_count": null,
   "metadata": {},
   "outputs": [],
   "source": [
    "%load_ext tutormagic"
   ]
  },
  {
   "cell_type": "markdown",
   "metadata": {},
   "source": [
    "# Object-Oriented Programming"
   ]
  },
  {
   "cell_type": "markdown",
   "metadata": {},
   "source": [
    "Object-oriented programming is a method for organizing modular programs (meaning we define each piece without worrying about the other pieces. In the end they all work together).\n",
    "\n",
    "Object-oriented programming involves **abstraction barriers** and **bundling together information and related behavior**. \n",
    "\n",
    "Object-oriented programming is also a metaphor for computation using distributed state. This means:\n",
    "1. There're multiple different objects where each has its own local state\n",
    "    * If we want to know what's going on with the program, we need to inspect each object\n",
    "2. Each object also knows how to manage its own local state, based on method calls. \n",
    "    * Method calls are **messages** passed between objects\n",
    "3. Several objects may all be instances of a common type\n",
    "4. Different types may relate to each other\n",
    "\n",
    "To support this metaphor, we are going to have specialized syntax and vocabulary "
   ]
  },
  {
   "cell_type": "markdown",
   "metadata": {},
   "source": [
    "## Classes"
   ]
  },
  {
   "cell_type": "markdown",
   "metadata": {},
   "source": [
    "Objects are organized according to classes. A class serves as a template for its instances. Each object is an instacnce of some class. \n",
    "\n",
    "#### Idea 1\n",
    "All bank accounts have a balance and an account holder. The `Account` class should add these attributes to each newly created instance."
   ]
  },
  {
   "cell_type": "code",
   "execution_count": null,
   "metadata": {},
   "outputs": [],
   "source": [
    "# Create a new account, pass in the name 'Jim'. Bind the resulting Account object to the name 'a'\n",
    ">>> a = Account('Jim') \n",
    "# If we ask, \"who's the holder of 'a'?\" -> We are accessing an attribute of the account \n",
    ">>> a.holder\n",
    "'Jim'\n",
    "# We start with 0 balance\n",
    ">>> a.balance\n",
    "0"
   ]
  },
  {
   "cell_type": "markdown",
   "metadata": {},
   "source": [
    "#### Idea 2\n",
    "All bank accounts should have \"withdraw\" and \"deposit\" behaviors that all work in the same way"
   ]
  },
  {
   "cell_type": "code",
   "execution_count": null,
   "metadata": {},
   "outputs": [],
   "source": [
    "# Deposit 15 dollars to Jim's account, 'a'\n",
    ">>> a.deposit(15)\n",
    "15\n",
    ">>> a.withdraw(10)\n",
    "5\n",
    ">>> a.balance\n",
    "5\n",
    ">>> a.withdraw(10)\n",
    "'Insufficient funds'"
   ]
  },
  {
   "cell_type": "markdown",
   "metadata": {},
   "source": [
    "#### Better Idea\n",
    "All bank accounts share a \"withdraw\" method and a \"deposit\" method. This way, we can guarantee that all bank accounts behave the same."
   ]
  },
  {
   "cell_type": "code",
   "execution_count": null,
   "metadata": {},
   "outputs": [],
   "source": []
  }
 ],
 "metadata": {
  "kernelspec": {
   "display_name": "Python 3",
   "language": "python",
   "name": "python3"
  },
  "language_info": {
   "codemirror_mode": {
    "name": "ipython",
    "version": 3
   },
   "file_extension": ".py",
   "mimetype": "text/x-python",
   "name": "python",
   "nbconvert_exporter": "python",
   "pygments_lexer": "ipython3",
   "version": "3.6.8"
  }
 },
 "nbformat": 4,
 "nbformat_minor": 2
}
