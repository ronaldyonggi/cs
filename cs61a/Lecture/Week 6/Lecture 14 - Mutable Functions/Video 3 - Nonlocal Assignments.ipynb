{
 "cells": [
  {
   "cell_type": "markdown",
   "metadata": {},
   "source": [
    "%load_ext tutormagic"
   ]
  },
  {
   "cell_type": "markdown",
   "metadata": {},
   "source": [
    "# Non-Local Assignment"
   ]
  },
  {
   "cell_type": "markdown",
   "metadata": {},
   "source": [
    "## The Effect of Nonlocal Statements"
   ]
  },
  {
   "cell_type": "markdown",
   "metadata": {},
   "source": [
    "Future assignments to names that are declared `nonlocal` change its pre-existing binding in the **first non-local frame** of the current environment in which that name is bound. \n",
    "\n",
    "In Python Docs, this **first non-loca frame** is called an \"enclosing scope\".\n",
    "\n",
    "It is possible to have multiple names separated by comma `,` accompanying the `nonlocal` statement."
   ]
  },
  {
   "cell_type": "code",
   "execution_count": null,
   "metadata": {},
   "outputs": [],
   "source": [
    "nonlocal <name1>, <name2>, <name3>, etc."
   ]
  },
  {
   "cell_type": "markdown",
   "metadata": {},
   "source": [
    "And there are restrictions to the names that we can declare `nonlocal`.\n",
    "\n",
    "From Python 3 language reference: \"Names listed in a nonlocal statement must...\n",
    "\n",
    "1. ...refer to pre-existing bindings in an enclosing scope.\"\n",
    "    * In other words, the name must have been previously used.\n",
    "2. ...not collide with pre-existing bindings in the local scope (current frame)\n",
    "    * We can't declare a name to be nonlocal if it already exists in the current frame. The name must be in the parent frame, or any frame between the global frame to the current frame."
   ]
  },
  {
   "cell_type": "markdown",
   "metadata": {},
   "source": [
    "## The Many Meanings of Assignment Statements"
   ]
  },
  {
   "cell_type": "markdown",
   "metadata": {},
   "source": [
    "Let's say we see the following assignment statement,"
   ]
  },
  {
   "cell_type": "code",
   "execution_count": null,
   "metadata": {},
   "outputs": [],
   "source": [
    "x = 2"
   ]
  },
  {
   "cell_type": "markdown",
   "metadata": {},
   "source": [
    "Based on the context of the program, this assignment statement might do different things. Here are a list of many meanings of assignment statements."
   ]
  },
  {
   "cell_type": "markdown",
   "metadata": {},
   "source": [
    "| Status | Effect |\n",
    "| ---- | ---- |\n",
    "| - No nonlocal statement <br> -`x` **is not** bound locally | Create a new binding from name `x` to object 2 in the first frame of the current environment |\n",
    "| - No nonlocal statement <br> -`x` **is** bound locally | Re-bind name `x` to object `2` in the first frame of the current environment |\n",
    "| - Nonlocal `x` <br> -`x` **is** bound in a non-local frame | Re-bind `x` to `2` in the first non-local frame of the current environment in which `x` is bound |\n",
    "| - Nonlocal `x` <br> -`x` **is not** bound in a non-local frame | `SyntaxError`: no binding for nonlocal `x` found |\n",
    "| - Nonlocal `x` <br> -`x` **is** bound in a non-local frame <br> -`x` also bound locally | `SyntaxError`: name `x` is parameter and nonlocal |"
   ]
  },
  {
   "cell_type": "markdown",
   "metadata": {},
   "source": [
    "The error messages might be different depending on the implementation of Python. Regardless, they correspond to the 2 conditions:\n",
    "\n",
    "1. `x` must have already been bound\n",
    "2. but it can't be bound in the current frame"
   ]
  },
  {
   "cell_type": "markdown",
   "metadata": {},
   "source": [
    "## Python Particulars\n",
    "\n",
    "The general rules about binding nonlocally in previous section applies to many different languages. However, in Python, there're specific features that we need to be wary of.\n",
    "\n",
    "Python pre-computes which frame contains each name before executing the body of a function. \n",
    "\n",
    "Within the body of a function, all instances of a name must refer to the same frame (can't have the same name in the same function body refer to 2 different frames). "
   ]
  },
  {
   "cell_type": "markdown",
   "metadata": {},
   "source": [
    "<img src = 'if_local.jpg' width = 800/>"
   ]
  },
  {
   "cell_type": "markdown",
   "metadata": {},
   "source": [
    "If we try to write `make_withdraw` without the `nonlocal` statement, the error would occur after Python is done checking if `amount` > `balance`. Here, Python thinks `balance` is a local name, thus it only looks at the `withdraw` frame. Thus, we'll obtain the `UnboundLocalError` message.\n",
    "\n",
    "If we remove the `balance = balance - amount` line,"
   ]
  },
  {
   "cell_type": "code",
   "execution_count": null,
   "metadata": {},
   "outputs": [],
   "source": [
    "def make_withdraw(balance):\n",
    "    def withdraw(amount):\n",
    "        # nonlocal balance\n",
    "        if amount > balance:\n",
    "            return 'Insufficient funds'\n",
    "        # balance = balance - amount\n",
    "        return balance\n",
    "    return withdraw\n",
    "\n",
    "withdraw = make_withdraw(100)\n",
    "withdraw(25)\n",
    "withdraw(25)\n",
    "withdraw(60)\n",
    "withdraw(15)\n"
   ]
  },
  {
   "cell_type": "markdown",
   "metadata": {},
   "source": [
    "Then we won't run into error since there's no assignment involved."
   ]
  },
  {
   "cell_type": "markdown",
   "metadata": {},
   "source": [
    "## Mutable Values & Persistent Local State"
   ]
  },
  {
   "cell_type": "markdown",
   "metadata": {},
   "source": [
    "Using a `nonlocal` statement is not the only way to create a mutable function. Mutable values can be changed without a nonlocal statement.\n",
    "\n",
    "Here, we use an existing mutable value,"
   ]
  },
  {
   "cell_type": "code",
   "execution_count": null,
   "metadata": {},
   "outputs": [],
   "source": [
    "def make_withdraw_list(balance):\n",
    "    b = [balance] #puts balance in a list \n",
    "    def withdraw(amount):\n",
    "        if amount > b[0]:\n",
    "            return 'Insufficient funds'\n",
    "        b[0] = b[0] - amount\n",
    "        return b[0]\n",
    "    return withdraw\n",
    "\n",
    "withdraw = make_withdraw_list(100)\n",
    "withdraw(25)"
   ]
  },
  {
   "cell_type": "markdown",
   "metadata": {},
   "source": [
    "Above, we put `balance` in a list of only one element."
   ]
  },
  {
   "cell_type": "markdown",
   "metadata": {},
   "source": [
    "<img src = 'list.jpg' width = 500/>"
   ]
  },
  {
   "cell_type": "markdown",
   "metadata": {},
   "source": [
    "This `b` can change because it is a list. We can change it using element assignment.\n",
    "\n",
    "Here we don't need `nonlocal` assignment because we don't change any of the following within the body of `withdraw`:\n",
    "1. What `b` is bound to\n",
    "2. What `balance` is bound to \n",
    "3. What `withdraw` is bound to"
   ]
  }
 ],
 "metadata": {
  "kernelspec": {
   "display_name": "Python 3",
   "language": "python",
   "name": "python3"
  },
  "language_info": {
   "codemirror_mode": {
    "name": "ipython",
    "version": 3
   },
   "file_extension": ".py",
   "mimetype": "text/x-python",
   "name": "python",
   "nbconvert_exporter": "python",
   "pygments_lexer": "ipython3",
   "version": "3.6.8"
  }
 },
 "nbformat": 4,
 "nbformat_minor": 2
}
