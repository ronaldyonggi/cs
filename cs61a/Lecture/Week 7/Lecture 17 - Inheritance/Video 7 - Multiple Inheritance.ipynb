{
 "cells": [
  {
   "cell_type": "code",
   "execution_count": null,
   "metadata": {},
   "outputs": [],
   "source": [
    "%load_ext tutormagic"
   ]
  },
  {
   "cell_type": "markdown",
   "metadata": {},
   "source": [
    "# Multiple Inheritance"
   ]
  },
  {
   "cell_type": "markdown",
   "metadata": {},
   "source": [
    "Multiple inheritance is when a subclass has multiple base classes.\n",
    "\n",
    "Here we create another type of account: `SavingsAccount`"
   ]
  },
  {
   "cell_type": "code",
   "execution_count": null,
   "metadata": {},
   "outputs": [],
   "source": [
    "class SavingsAccount(Account):\n",
    "    deposit_fee = 2\n",
    "    def deposit(self, amount):\n",
    "        return Account.deposit(self, amount - self.deposit_fee)"
   ]
  },
  {
   "cell_type": "markdown",
   "metadata": {},
   "source": [
    "A class may inherit from multiple base classes in Python. \n",
    "\n",
    "Let's say we have the following case:\n",
    "\n",
    "CleverBank marketing executive has an idea for a bank account,\n",
    "1. Low interest rate 1%\n",
    "2. 1 dollar fee for withdrawals\n",
    "3. 2 dollar fee for deposits\n",
    "4. A free dollar when people open an account"
   ]
  },
  {
   "cell_type": "code",
   "execution_count": 1,
   "metadata": {},
   "outputs": [
    {
     "ename": "NameError",
     "evalue": "name 'CheckingAccount' is not defined",
     "output_type": "error",
     "traceback": [
      "\u001b[1;31m---------------------------------------------------------------------------\u001b[0m",
      "\u001b[1;31mNameError\u001b[0m                                 Traceback (most recent call last)",
      "\u001b[1;32m<ipython-input-1-91020043098a>\u001b[0m in \u001b[0;36m<module>\u001b[1;34m\u001b[0m\n\u001b[1;32m----> 1\u001b[1;33m \u001b[1;32mclass\u001b[0m \u001b[0mAsSeenOnTVAccount\u001b[0m\u001b[1;33m(\u001b[0m\u001b[0mCheckingAccount\u001b[0m\u001b[1;33m,\u001b[0m \u001b[0mSavingsAccount\u001b[0m\u001b[1;33m)\u001b[0m\u001b[1;33m:\u001b[0m\u001b[1;33m\u001b[0m\u001b[1;33m\u001b[0m\u001b[0m\n\u001b[0m\u001b[0;32m      2\u001b[0m     \u001b[1;32mdef\u001b[0m \u001b[0m__init__\u001b[0m\u001b[1;33m(\u001b[0m\u001b[0mself\u001b[0m\u001b[1;33m,\u001b[0m \u001b[0maccount_holder\u001b[0m\u001b[1;33m)\u001b[0m\u001b[1;33m:\u001b[0m\u001b[1;33m\u001b[0m\u001b[1;33m\u001b[0m\u001b[0m\n\u001b[0;32m      3\u001b[0m         \u001b[0mself\u001b[0m\u001b[1;33m.\u001b[0m\u001b[0mholder\u001b[0m \u001b[1;33m=\u001b[0m \u001b[0maccount_holder\u001b[0m\u001b[1;33m\u001b[0m\u001b[1;33m\u001b[0m\u001b[0m\n\u001b[0;32m      4\u001b[0m         \u001b[0mself\u001b[0m\u001b[1;33m.\u001b[0m\u001b[0mbalance\u001b[0m \u001b[1;33m=\u001b[0m \u001b[1;36m1\u001b[0m \u001b[1;31m# A free dollar!\u001b[0m\u001b[1;33m\u001b[0m\u001b[1;33m\u001b[0m\u001b[0m\n",
      "\u001b[1;31mNameError\u001b[0m: name 'CheckingAccount' is not defined"
     ]
    }
   ],
   "source": [
    "class AsSeenOnTVAccount(CheckingAccount, SavingsAccount):\n",
    "    def __init__(self, account_holder):\n",
    "        self.holder = account_holder\n",
    "        self.balance = 1 # A free dollar!"
   ]
  },
  {
   "cell_type": "markdown",
   "metadata": {},
   "source": [
    "Notice that the class above inherits from both `CheckingAccount` and `SavingsAccount`!\n",
    "\n",
    "The simulation of opening this account is as the following,"
   ]
  },
  {
   "cell_type": "markdown",
   "metadata": {},
   "source": [
    "<img src = 'simulation.jpg' width = 600/>"
   ]
  },
  {
   "cell_type": "markdown",
   "metadata": {},
   "source": [
    "## Resolving Ambiguous Class Attribute Names"
   ]
  },
  {
   "cell_type": "markdown",
   "metadata": {},
   "source": [
    "Recall that there are multiple different `withdraw` and `deposit` methods. \n",
    "\n",
    "<img src = 'account.jpg' width = 500/>"
   ]
  },
  {
   "cell_type": "markdown",
   "metadata": {},
   "source": [
    "In this case, the `AsSeenOnTVAccount` uses:\n",
    "1. The `withdraw` method from the `CheckingAccount`\n",
    "2. The `deposit` method from the `SavingsAccount`\n",
    "\n",
    "The only thing that is inherited from `Account` is the `interest`. \n",
    "\n",
    "There's a particular order: we look at the subclasses first (e.g. `CheckingAccount`, `SavingsAccount`), then we look at the base class (`Account`)."
   ]
  }
 ],
 "metadata": {
  "kernelspec": {
   "display_name": "Python 3",
   "language": "python",
   "name": "python3"
  },
  "language_info": {
   "codemirror_mode": {
    "name": "ipython",
    "version": 3
   },
   "file_extension": ".py",
   "mimetype": "text/x-python",
   "name": "python",
   "nbconvert_exporter": "python",
   "pygments_lexer": "ipython3",
   "version": "3.6.8"
  }
 },
 "nbformat": 4,
 "nbformat_minor": 2
}
