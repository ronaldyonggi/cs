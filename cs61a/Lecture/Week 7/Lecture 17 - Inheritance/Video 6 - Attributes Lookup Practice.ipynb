{
 "cells": [
  {
   "cell_type": "code",
   "execution_count": null,
   "metadata": {},
   "outputs": [],
   "source": [
    "%load_ext tutormagic"
   ]
  },
  {
   "cell_type": "markdown",
   "metadata": {},
   "source": [
    "# Attributes Lookup Practice"
   ]
  },
  {
   "cell_type": "markdown",
   "metadata": {},
   "source": [
    "## Inheritance and Attribute Lookup"
   ]
  },
  {
   "cell_type": "code",
   "execution_count": 8,
   "metadata": {},
   "outputs": [],
   "source": [
    "class A:\n",
    "    z = -1\n",
    "    def f(self, x):\n",
    "        return B(x-1)\n",
    "    \n",
    "class B(A):\n",
    "    n = 4\n",
    "    def __init__(self, y):\n",
    "        if y:\n",
    "            self.z = self.f(y)\n",
    "        else:\n",
    "            self.z = C(y + 1)\n",
    "            \n",
    "class C(B):\n",
    "    def f(self, x):\n",
    "        return x\n",
    "    \n",
    "a = A()\n",
    "b = B(1)\n",
    "b.n = 5"
   ]
  },
  {
   "cell_type": "markdown",
   "metadata": {},
   "source": [
    "What is the outcome of the cells below?"
   ]
  },
  {
   "cell_type": "code",
   "execution_count": 9,
   "metadata": {},
   "outputs": [
    {
     "data": {
      "text/plain": [
       "4"
      ]
     },
     "execution_count": 9,
     "metadata": {},
     "output_type": "execute_result"
    }
   ],
   "source": [
    "C(2).n"
   ]
  },
  {
   "cell_type": "code",
   "execution_count": 10,
   "metadata": {},
   "outputs": [
    {
     "data": {
      "text/plain": [
       "True"
      ]
     },
     "execution_count": 10,
     "metadata": {},
     "output_type": "execute_result"
    }
   ],
   "source": [
    "a.z == C.z"
   ]
  },
  {
   "cell_type": "code",
   "execution_count": 11,
   "metadata": {},
   "outputs": [
    {
     "data": {
      "text/plain": [
       "False"
      ]
     },
     "execution_count": 11,
     "metadata": {},
     "output_type": "execute_result"
    }
   ],
   "source": [
    "a.z == b.z"
   ]
  },
  {
   "cell_type": "markdown",
   "metadata": {},
   "source": [
    "When we execute `class A`, we created a new class. A class is similar to a value in the sense that it can be assigned a name. In this case, the class is assigned to the name `A` in global frame.\n",
    "\n",
    "<img src = 'A.jpg' width = 500/>"
   ]
  },
  {
   "cell_type": "markdown",
   "metadata": {},
   "source": [
    "This `class A` has 2 class attributes: \n",
    "1. `z` is `-1`\n",
    "2. `f`, a function that returns `B(x-1)`\n",
    "    * This function has a parent frame: global"
   ]
  },
  {
   "cell_type": "markdown",
   "metadata": {},
   "source": [
    "When we execute the second class statement, `class B`, it inherits from A. B knows that its base class is A. This newly created class is assigned to the name `B` in global frame. \n",
    "\n",
    "<img src = 'B.jpg' width = 500/>"
   ]
  },
  {
   "cell_type": "markdown",
   "metadata": {},
   "source": [
    "Last but not least, the `class C` inherits from `class B` (and recall `class B` inherits from `class A`). Thus, any instance of `C` has access to the contents of `A`. However, beware that the `f` function in `class A` is overridden in `class C`. "
   ]
  },
  {
   "cell_type": "markdown",
   "metadata": {},
   "source": [
    "<img src = 'C.jpg' width = 600/>"
   ]
  },
  {
   "cell_type": "markdown",
   "metadata": {},
   "source": [
    "Now when we call the following,"
   ]
  },
  {
   "cell_type": "code",
   "execution_count": 3,
   "metadata": {},
   "outputs": [],
   "source": [
    "a = A()"
   ]
  },
  {
   "cell_type": "markdown",
   "metadata": {},
   "source": [
    "We created an instance of `A` and we'll call it `a`. Since it has no `__init__` method within class definition `A`, there are no instance attribute associated with the instance `a`. This instance is just a blank slate.\n",
    "\n",
    "<img src = 'a_instance.jpg' width = 300/>"
   ]
  },
  {
   "cell_type": "markdown",
   "metadata": {},
   "source": [
    "Then when we call the following,"
   ]
  },
  {
   "cell_type": "code",
   "execution_count": 12,
   "metadata": {},
   "outputs": [],
   "source": [
    "b = B(1)"
   ]
  },
  {
   "cell_type": "markdown",
   "metadata": {},
   "source": [
    "We pass in `1` as the `y` value for the `__init__` method while `self` is bound to the instance `b`. "
   ]
  },
  {
   "cell_type": "code",
   "execution_count": null,
   "metadata": {},
   "outputs": [],
   "source": [
    "if 1:\n",
    "    self.z = self.f(1)"
   ]
  },
  {
   "cell_type": "markdown",
   "metadata": {},
   "source": [
    "`B` class inherits from `A` and thus, the `f` function refers to the `f` in class `A`, which is a function that returns `B(x-1)`. `B(x-1)` creates a new instance of the `B` class. \n",
    "\n",
    "<img src = 'b_2.jpg' width = 500/>"
   ]
  },
  {
   "cell_type": "markdown",
   "metadata": {},
   "source": [
    "This new instance calls `B(0)`. Thus we run the `init` method of `B` once again with `y` = 0. Recall that `0` evaluates to `False`."
   ]
  },
  {
   "cell_type": "code",
   "execution_count": null,
   "metadata": {},
   "outputs": [],
   "source": [
    "def __init__(self, 0):\n",
    "    if y: # Not executed\n",
    "        ...\n",
    "    else:\n",
    "        self.z = C(0+1)"
   ]
  },
  {
   "cell_type": "markdown",
   "metadata": {},
   "source": [
    "From above, we are constructing a `C` instance while passing in `1`. Since the `C` class inherits from `B`, it executes the `init` method from the `B` class.\n",
    "\n",
    "<img src = 'b_3.jpg' width = 500/>"
   ]
  },
  {
   "cell_type": "markdown",
   "metadata": {},
   "source": [
    "When we execute the `__init__` method, `y` is 1."
   ]
  },
  {
   "cell_type": "code",
   "execution_count": null,
   "metadata": {},
   "outputs": [],
   "source": [
    "def __init__(self, 1):\n",
    "    if y:\n",
    "        self.z = self.f(1)"
   ]
  },
  {
   "cell_type": "markdown",
   "metadata": {},
   "source": [
    "However, this time, since we're executing the `__init__` method from an instance of `C`, we use class `C`'s `__init__` method. `C`'s `__init__` method returns is an identity function that returns whatever's passed in."
   ]
  },
  {
   "cell_type": "code",
   "execution_count": null,
   "metadata": {},
   "outputs": [],
   "source": [
    "def f(self, 1):\n",
    "    return 1"
   ]
  },
  {
   "cell_type": "markdown",
   "metadata": {},
   "source": [
    "Thus, we finally obtain `b.z` = 1."
   ]
  },
  {
   "cell_type": "markdown",
   "metadata": {},
   "source": [
    "Now, back to the problem."
   ]
  },
  {
   "cell_type": "code",
   "execution_count": null,
   "metadata": {},
   "outputs": [],
   "source": [
    "C(2).n"
   ]
  },
  {
   "cell_type": "markdown",
   "metadata": {},
   "source": [
    "In the cell above, we don't need to worry about the passed in argument `2`, since it only asks for the `n` value. The `C` class inherits from class `B` and thus, `n` is 4."
   ]
  },
  {
   "cell_type": "code",
   "execution_count": null,
   "metadata": {},
   "outputs": [],
   "source": [
    "a.z == C.z"
   ]
  },
  {
   "cell_type": "markdown",
   "metadata": {},
   "source": [
    "`a` is an instance of class `A`, thus the `z` value is `-1`.\n",
    "\n",
    "Meanwhile, class `C` doesn't have a `z` value, neither does `B`. However, `C` inherits from `B`, which inherits from `A`. This means `C` also has a `z` value of `-1` Thus, the cell above returns `True`."
   ]
  },
  {
   "cell_type": "code",
   "execution_count": null,
   "metadata": {},
   "outputs": [],
   "source": [
    "a.z == b.z"
   ]
  },
  {
   "cell_type": "markdown",
   "metadata": {},
   "source": [
    "Recall the long calculation we did to figure out `b.z`, which is `1`. Thus, `-1` is not equal to `1`. This is `False`."
   ]
  },
  {
   "cell_type": "markdown",
   "metadata": {},
   "source": [
    "#### Which evaluates to an integer?\n",
    "1. `b.z`\n",
    "2. `b.z.z`\n",
    "3. `b.z.z.z`\n",
    "4. `b.z.z.z.z`\n",
    "5. None of these"
   ]
  },
  {
   "cell_type": "markdown",
   "metadata": {},
   "source": [
    "Recall the environment diagram that we created. \n",
    "\n",
    "<img src = 'b_3.jpg' width = 500/>\n",
    "\n",
    "We call the `z` attribute 3 times and thus, the answer is `b.z.z.z`."
   ]
  },
  {
   "cell_type": "markdown",
   "metadata": {},
   "source": []
  }
 ],
 "metadata": {
  "kernelspec": {
   "display_name": "Python 3",
   "language": "python",
   "name": "python3"
  },
  "language_info": {
   "codemirror_mode": {
    "name": "ipython",
    "version": 3
   },
   "file_extension": ".py",
   "mimetype": "text/x-python",
   "name": "python",
   "nbconvert_exporter": "python",
   "pygments_lexer": "ipython3",
   "version": "3.6.8"
  }
 },
 "nbformat": 4,
 "nbformat_minor": 2
}
