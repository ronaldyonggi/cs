{
 "cells": [
  {
   "cell_type": "code",
   "execution_count": null,
   "metadata": {},
   "outputs": [],
   "source": [
    "%load_ext tutormagic"
   ]
  },
  {
   "cell_type": "code",
   "execution_count": 19,
   "metadata": {},
   "outputs": [],
   "source": [
    "from ucb import *"
   ]
  },
  {
   "cell_type": "markdown",
   "metadata": {},
   "source": [
    "We just went over the concept of order of growth, which is the way of characterizing how much of some resource (e.g. a computational process) is being used. The order of growth characterizes this as a function of the problem size. The larger the problem, the more resources you use. We want to characterize this as a simple function that tells us bounds on how much of the resources are being used, even if we don't know the exact answer. "
   ]
  },
  {
   "cell_type": "markdown",
   "metadata": {},
   "source": [
    "# Exponentiation"
   ]
  },
  {
   "cell_type": "markdown",
   "metadata": {},
   "source": [
    "Exponentiation means raising one number to the power of another number. \n",
    "\n",
    "The goal is to exponentiate quickly. We want to use one more multiplication to double the problem size. \n",
    "\n",
    "Below is a slow implementation,"
   ]
  },
  {
   "cell_type": "code",
   "execution_count": 4,
   "metadata": {},
   "outputs": [],
   "source": [
    "def exp(b, n):\n",
    "    if n == 0:\n",
    "        return 1\n",
    "    return b * exp(b, n-1)"
   ]
  },
  {
   "cell_type": "markdown",
   "metadata": {},
   "source": [
    "The function above can be described as,\n",
    "\n",
    "\\begin{equation}\n",
    "    b^n = \n",
    "    \\begin{cases}\n",
    "      1, & \\text{if}\\ n = 0 \\\\\n",
    "      b \\times b^{n-1}, & \\text{otherwise}\n",
    "    \\end{cases}\n",
    "  \\end{equation}"
   ]
  },
  {
   "cell_type": "markdown",
   "metadata": {},
   "source": [
    "However, there is a faster implementation:"
   ]
  },
  {
   "cell_type": "markdown",
   "metadata": {},
   "source": [
    "\\begin{equation}\n",
    "    b^n = \n",
    "    \\begin{cases}\n",
    "      1, & \\text{if}\\ n = 0 \\\\\n",
    "      {(b^{\\frac{1}{2}n})}^2, & \\text{if n is even} \\\\\n",
    "      b \\times b^{n-1}, & \\text{if n is odd}\n",
    "    \\end{cases}\n",
    "  \\end{equation}"
   ]
  },
  {
   "cell_type": "code",
   "execution_count": 13,
   "metadata": {},
   "outputs": [],
   "source": [
    "def square(x):\n",
    "    return x * x\n",
    "\n",
    "def fast_exp(b, n):\n",
    "    if n == 0:\n",
    "        return 1\n",
    "    elif n % 2 == 0:\n",
    "        return square(fast_exp(b, n // 2))\n",
    "    else:\n",
    "        return b * fast_exp(b, n-1)"
   ]
  },
  {
   "cell_type": "markdown",
   "metadata": {},
   "source": [
    "Let's test the functions that we wrote above!"
   ]
  },
  {
   "cell_type": "code",
   "execution_count": 6,
   "metadata": {},
   "outputs": [
    {
     "data": {
      "text/plain": [
       "1024"
      ]
     },
     "execution_count": 6,
     "metadata": {},
     "output_type": "execute_result"
    }
   ],
   "source": [
    "exp(2, 10)"
   ]
  },
  {
   "cell_type": "code",
   "execution_count": 7,
   "metadata": {},
   "outputs": [
    {
     "data": {
      "text/plain": [
       "1267650600228229401496703205376"
      ]
     },
     "execution_count": 7,
     "metadata": {},
     "output_type": "execute_result"
    }
   ],
   "source": [
    "exp(2, 100)"
   ]
  },
  {
   "cell_type": "code",
   "execution_count": 14,
   "metadata": {},
   "outputs": [
    {
     "data": {
      "text/plain": [
       "1024"
      ]
     },
     "execution_count": 14,
     "metadata": {},
     "output_type": "execute_result"
    }
   ],
   "source": [
    "fast_exp(2, 10)"
   ]
  },
  {
   "cell_type": "code",
   "execution_count": 15,
   "metadata": {},
   "outputs": [
    {
     "data": {
      "text/plain": [
       "1267650600228229401496703205376"
      ]
     },
     "execution_count": 15,
     "metadata": {},
     "output_type": "execute_result"
    }
   ],
   "source": [
    "fast_exp(2, 100)"
   ]
  },
  {
   "cell_type": "markdown",
   "metadata": {},
   "source": [
    "Both functions work just fine! Now let's trace these functions to see if we can understand the difference and how they run."
   ]
  },
  {
   "cell_type": "code",
   "execution_count": 18,
   "metadata": {},
   "outputs": [],
   "source": [
    "@trace\n",
    "def exp(b, n):\n",
    "    if n == 0:\n",
    "        return 1\n",
    "    return b * exp(b, n-1)\n",
    "\n",
    "@trace\n",
    "def fast_exp(b, n):\n",
    "    if n == 0:\n",
    "        return 1\n",
    "    elif n % 2 == 0:\n",
    "        return square(fast_exp(b, n // 2))\n",
    "    else:\n",
    "        return b * fast_exp(b, n-1)"
   ]
  },
  {
   "cell_type": "code",
   "execution_count": 20,
   "metadata": {},
   "outputs": [
    {
     "name": "stdout",
     "output_type": "stream",
     "text": [
      "exp(2, 10):\n",
      "    exp(2, 9):\n",
      "        exp(2, 8):\n",
      "            exp(2, 7):\n",
      "                exp(2, 6):\n",
      "                    exp(2, 5):\n",
      "                        exp(2, 4):\n",
      "                            exp(2, 3):\n",
      "                                exp(2, 2):\n",
      "                                    exp(2, 1):\n",
      "                                        exp(2, 0):\n",
      "                                        exp(2, 0) -> 1\n",
      "                                    exp(2, 1) -> 2\n",
      "                                exp(2, 2) -> 4\n",
      "                            exp(2, 3) -> 8\n",
      "                        exp(2, 4) -> 16\n",
      "                    exp(2, 5) -> 32\n",
      "                exp(2, 6) -> 64\n",
      "            exp(2, 7) -> 128\n",
      "        exp(2, 8) -> 256\n",
      "    exp(2, 9) -> 512\n",
      "exp(2, 10) -> 1024\n"
     ]
    },
    {
     "data": {
      "text/plain": [
       "1024"
      ]
     },
     "execution_count": 20,
     "metadata": {},
     "output_type": "execute_result"
    }
   ],
   "source": [
    "exp(2, 10)"
   ]
  },
  {
   "cell_type": "code",
   "execution_count": 21,
   "metadata": {},
   "outputs": [
    {
     "name": "stdout",
     "output_type": "stream",
     "text": [
      "fast_exp(2, 10):\n",
      "    fast_exp(2, 5):\n",
      "        fast_exp(2, 4):\n",
      "            fast_exp(2, 2):\n",
      "                fast_exp(2, 1):\n",
      "                    fast_exp(2, 0):\n",
      "                    fast_exp(2, 0) -> 1\n",
      "                fast_exp(2, 1) -> 2\n",
      "            fast_exp(2, 2) -> 4\n",
      "        fast_exp(2, 4) -> 16\n",
      "    fast_exp(2, 5) -> 32\n",
      "fast_exp(2, 10) -> 1024\n"
     ]
    },
    {
     "data": {
      "text/plain": [
       "1024"
      ]
     },
     "execution_count": 21,
     "metadata": {},
     "output_type": "execute_result"
    }
   ],
   "source": [
    "fast_exp(2, 10)"
   ]
  },
  {
   "cell_type": "markdown",
   "metadata": {},
   "source": [
    "In `fast_exp`, notice that Python went straight from 32 to 1024 by squaring 32.\n",
    "\n",
    "The slow `exp` has linear correlation for both space and time. \n",
    "1. Linear time since we uses a recursive call within `exp(b, n-1)`\n",
    "2. Linear space since we don't get to return from any of the calls until we get to the base case.\n",
    "\n",
    "While for the `fast_exp`, it's logarithmic time and space. We don't need to specify the base of the log because all logarithms differ just by a constant factor. Constants are ignored in order of growth ($\\Theta$) notation.\n",
    "\n",
    "$\\log(n)$ implies that one more multiplication or one more step doubles the problem size. \n",
    "\n",
    "\n",
    "| Implementation | Time | Space |\n",
    "| --- | --- | --- |\n",
    "| Slow | $\\Theta$(n) | $\\Theta$(n)|\n",
    "| Fast | $\\Theta$(log n) | $\\Theta$(log n) |"
   ]
  },
  {
   "cell_type": "markdown",
   "metadata": {},
   "source": []
  }
 ],
 "metadata": {
  "kernelspec": {
   "display_name": "Python 3",
   "language": "python",
   "name": "python3"
  },
  "language_info": {
   "codemirror_mode": {
    "name": "ipython",
    "version": 3
   },
   "file_extension": ".py",
   "mimetype": "text/x-python",
   "name": "python",
   "nbconvert_exporter": "python",
   "pygments_lexer": "ipython3",
   "version": "3.6.8"
  }
 },
 "nbformat": 4,
 "nbformat_minor": 2
}
