{
 "cells": [
  {
   "cell_type": "code",
   "execution_count": 2,
   "metadata": {},
   "outputs": [],
   "source": [
    "%load_ext tutormagic"
   ]
  },
  {
   "cell_type": "code",
   "execution_count": 3,
   "metadata": {},
   "outputs": [],
   "source": [
    "from math import sqrt"
   ]
  },
  {
   "cell_type": "markdown",
   "metadata": {},
   "source": [
    "# Time"
   ]
  },
  {
   "cell_type": "markdown",
   "metadata": {},
   "source": [
    "How much times does it take for a program to execute? "
   ]
  },
  {
   "cell_type": "markdown",
   "metadata": {},
   "source": [
    "## The Consumption of Time"
   ]
  },
  {
   "cell_type": "markdown",
   "metadata": {},
   "source": [
    "We measure the consumption of time not by timing it with a clock, but by measuring the amount of different operations that happened.\n",
    "\n",
    "Implementations of the same functional abstraction can require different amounts of time.\n",
    "* There might be faster or slower way to create some behavior\n",
    "\n",
    "Let's look at an example:\n",
    "\n",
    "#### How many factors does a positive integer `n` have?\n",
    "\n",
    "A factor `k` of `n` is a positive integer that evenly divides `n`.\n",
    "\n",
    "We can define a function for this, but we need to think of how we implement it.\n",
    "\n",
    "#### Slow Idea:\n",
    "Test each `k` from 1 through `n` and see which ones evenly divides `n`\n",
    "\n",
    "This works, but it is slow! There is a more efficient way.\n",
    "\n",
    "#### Fast Idea:\n",
    "Test each `k` from 1 to $\\sqrt{n}$. For every `k`, $\\frac{n}{k}$ is also a factor!\n",
    "\n",
    "For example, we are trying to find the factor of 36. With the fast way, we only need to test the divider from `1` to `6`. \n",
    "\n",
    "|Divider | The Other Divider | \n",
    "| --- | --- | \n",
    "| 1 | 36 |\n",
    "| 2 | 18 |\n",
    "| 3 | 12|\n",
    "| 4 | 9 |\n",
    "| 5 | NOT A FACTOR |\n",
    "| 6 | 6 |\n",
    "\n",
    "We don't need to go greater than 6, because the next factor after 6 is 9, which is already mentioned as 4's other divider.\n",
    "\n",
    "The way we measure the time is the number of divisions occured. How many times Python need to divide `n` by `k` to see whether it's a factor?\n",
    "\n",
    "| Strategy | Time (Number of divisions) |\n",
    "| --- | --- |\n",
    "| Slow | `n` |\n",
    "| Fast | Greatest integer less than $\\sqrt{n}$|\n",
    "\n",
    "Let's try implementing this strategy!"
   ]
  },
  {
   "cell_type": "markdown",
   "metadata": {},
   "source": [
    "## Demo - Factor"
   ]
  },
  {
   "cell_type": "markdown",
   "metadata": {},
   "source": [
    "Recall that we defined `counted`, a higher order function that converts a function to the counted version of the same function."
   ]
  },
  {
   "cell_type": "code",
   "execution_count": 4,
   "metadata": {},
   "outputs": [],
   "source": [
    "def count(f):\n",
    "    def counted(*args):\n",
    "        counted.call_count += 1\n",
    "        return f(*args)\n",
    "    counted.call_count = 0\n",
    "    return counted"
   ]
  },
  {
   "cell_type": "markdown",
   "metadata": {},
   "source": [
    "We'll define a helper function `divides` which returns whether `k` is a factor of `n`."
   ]
  },
  {
   "cell_type": "code",
   "execution_count": 5,
   "metadata": {},
   "outputs": [],
   "source": [
    "def divides(k, n):\n",
    "    return n % k == 0"
   ]
  },
  {
   "cell_type": "markdown",
   "metadata": {},
   "source": [
    "And below we define the main function, `factor`, that computes the number of factor a number `n` has. This `factor` uses the slow implementaiton."
   ]
  },
  {
   "cell_type": "code",
   "execution_count": 6,
   "metadata": {},
   "outputs": [],
   "source": [
    "def factors(n):\n",
    "    total = 0# 'total' keeps track of the number of factors\n",
    "    for k in range(1, n+1):\n",
    "        if divides(k, n):# If k is a factor of n\n",
    "            total += 1 # Increment 'total'\n",
    "    return total"
   ]
  },
  {
   "cell_type": "markdown",
   "metadata": {},
   "source": [
    "Let's test out the `factors` function."
   ]
  },
  {
   "cell_type": "code",
   "execution_count": 7,
   "metadata": {},
   "outputs": [
    {
     "data": {
      "text/plain": [
       "4"
      ]
     },
     "execution_count": 7,
     "metadata": {},
     "output_type": "execute_result"
    }
   ],
   "source": [
    "factors(6) # 1, 2, 3, 6"
   ]
  },
  {
   "cell_type": "code",
   "execution_count": 8,
   "metadata": {},
   "outputs": [
    {
     "data": {
      "text/plain": [
       "8"
      ]
     },
     "execution_count": 8,
     "metadata": {},
     "output_type": "execute_result"
    }
   ],
   "source": [
    "factors(24) # 1, 2, 3, 4, 6, 8, 12, 24"
   ]
  },
  {
   "cell_type": "code",
   "execution_count": 9,
   "metadata": {},
   "outputs": [
    {
     "data": {
      "text/plain": [
       "21"
      ]
     },
     "execution_count": 9,
     "metadata": {},
     "output_type": "execute_result"
    }
   ],
   "source": [
    "factors(576)"
   ]
  },
  {
   "cell_type": "markdown",
   "metadata": {},
   "source": [
    "Now if we convert `divides` to be the counted version of `divides`, when we call `factors`, the number of calls `divide` will be updated since the implementation of `factors` makes use of the `divides` function."
   ]
  },
  {
   "cell_type": "code",
   "execution_count": 10,
   "metadata": {},
   "outputs": [],
   "source": [
    "divides = count(divides)"
   ]
  },
  {
   "cell_type": "code",
   "execution_count": 11,
   "metadata": {},
   "outputs": [
    {
     "data": {
      "text/plain": [
       "21"
      ]
     },
     "execution_count": 11,
     "metadata": {},
     "output_type": "execute_result"
    }
   ],
   "source": [
    "factors(576)"
   ]
  },
  {
   "cell_type": "code",
   "execution_count": 12,
   "metadata": {},
   "outputs": [
    {
     "data": {
      "text/plain": [
       "576"
      ]
     },
     "execution_count": 12,
     "metadata": {},
     "output_type": "execute_result"
    }
   ],
   "source": [
    "divides.call_count"
   ]
  },
  {
   "cell_type": "markdown",
   "metadata": {},
   "source": [
    "`divides` was called 576 times! This is inefficient!\n",
    "\n",
    "Now we will define the function `factors_fast`, which implements the Fast strategy."
   ]
  },
  {
   "cell_type": "code",
   "execution_count": 13,
   "metadata": {},
   "outputs": [],
   "source": [
    "def factors_fast(n):\n",
    "    total = 0\n",
    "    k = 1\n",
    "    while k < sqrt(n): # Note that we use '<', which means it excludes the squre root of n itself\n",
    "        if divides(k, n): # if 'k' is a factor\n",
    "            total += 2 # the divider and the other divider\n",
    "        k += 1\n",
    "    \n",
    "    # Don't forget to take into account the square root of n too!\n",
    "    if k**2 == n:\n",
    "        total += 1\n",
    "    return total"
   ]
  },
  {
   "cell_type": "markdown",
   "metadata": {},
   "source": [
    "And we'll update the `divides` function so that it makes use the `count` decorator."
   ]
  },
  {
   "cell_type": "code",
   "execution_count": 14,
   "metadata": {},
   "outputs": [],
   "source": [
    "@count\n",
    "def divides(k, n):\n",
    "    return n % k == 0"
   ]
  },
  {
   "cell_type": "markdown",
   "metadata": {},
   "source": [
    "Now using `factors_fast`, we'll try to find how many factors 576 has."
   ]
  },
  {
   "cell_type": "code",
   "execution_count": 15,
   "metadata": {},
   "outputs": [
    {
     "data": {
      "text/plain": [
       "21"
      ]
     },
     "execution_count": 15,
     "metadata": {},
     "output_type": "execute_result"
    }
   ],
   "source": [
    "factors_fast(576)"
   ]
  },
  {
   "cell_type": "markdown",
   "metadata": {},
   "source": [
    "The result is still the same. However, how about the number of times `divides` was called?"
   ]
  },
  {
   "cell_type": "code",
   "execution_count": 16,
   "metadata": {},
   "outputs": [
    {
     "data": {
      "text/plain": [
       "23"
      ]
     },
     "execution_count": 16,
     "metadata": {},
     "output_type": "execute_result"
    }
   ],
   "source": [
    "divides.call_count"
   ]
  },
  {
   "cell_type": "markdown",
   "metadata": {},
   "source": [
    "Only 23! Which is 1 less than the square root of 576."
   ]
  },
  {
   "cell_type": "code",
   "execution_count": 17,
   "metadata": {},
   "outputs": [
    {
     "data": {
      "text/plain": [
       "24.0"
      ]
     },
     "execution_count": 17,
     "metadata": {},
     "output_type": "execute_result"
    }
   ],
   "source": [
    "576 ** 0.5"
   ]
  },
  {
   "cell_type": "markdown",
   "metadata": {},
   "source": [
    "The moral story? Some implementation is faster than others. And we can use `@count` decorator to measure how much faster some implementations are in terms of how many times an operation was called."
   ]
  }
 ],
 "metadata": {
  "kernelspec": {
   "display_name": "Python 3",
   "language": "python",
   "name": "python3"
  },
  "language_info": {
   "codemirror_mode": {
    "name": "ipython",
    "version": 3
   },
   "file_extension": ".py",
   "mimetype": "text/x-python",
   "name": "python",
   "nbconvert_exporter": "python",
   "pygments_lexer": "ipython3",
   "version": "3.6.8"
  }
 },
 "nbformat": 4,
 "nbformat_minor": 2
}
