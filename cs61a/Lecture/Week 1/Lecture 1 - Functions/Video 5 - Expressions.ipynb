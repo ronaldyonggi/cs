{
 "cells": [
  {
   "cell_type": "markdown",
   "metadata": {},
   "source": [
    "# Expressions\n",
    "\n",
    "## Type of Expressions\n",
    "\n",
    "**An expression describes a computation and evaluates to a value.**\n",
    "\n",
    "Expressions are not something particular to computer science. Mathematicians have been describing how to compose different numbers together for a long time, they invented a lot of different ways to describe computation using expressions:\n",
    "\n",
    "![](images/expression.png)\n",
    "\n",
    "Turns out one of them is a generalization of all the others, and it's all we need: **function call notation**, `f(x)`.\n",
    "\n",
    "![](images/function.png)\n",
    "\n",
    "Instead of using the symbols, subscripts, superscripts, vertical bars, etc., computer scientists write down everything using `function call notation`."
   ]
  },
  {
   "cell_type": "markdown",
   "metadata": {},
   "source": [
    "## Call Expressions in Python\n",
    "\n",
    "**All expressions can use function call notation**\n",
    "\n",
    "## Demo"
   ]
  },
  {
   "cell_type": "markdown",
   "metadata": {},
   "source": [
    "Here we type an expression:"
   ]
  },
  {
   "cell_type": "code",
   "execution_count": 1,
   "metadata": {},
   "outputs": [
    {
     "data": {
      "text/plain": [
       "2015"
      ]
     },
     "execution_count": 1,
     "metadata": {},
     "output_type": "execute_result"
    }
   ],
   "source": [
    "2015"
   ]
  },
  {
   "cell_type": "markdown",
   "metadata": {},
   "source": [
    "And it shows the value. If we write the expression in 2 different values combined together by addition such as below,"
   ]
  },
  {
   "cell_type": "code",
   "execution_count": 2,
   "metadata": {},
   "outputs": [
    {
     "data": {
      "text/plain": [
       "2015"
      ]
     },
     "execution_count": 2,
     "metadata": {},
     "output_type": "execute_result"
    }
   ],
   "source": [
    "2000 + 15"
   ]
  },
  {
   "cell_type": "markdown",
   "metadata": {},
   "source": [
    "The result value is what we get by combining the value `2000` and `15`.\n",
    "\n",
    "Python is also a powerful calculator. We can multiply numbers,"
   ]
  },
  {
   "cell_type": "code",
   "execution_count": 4,
   "metadata": {},
   "outputs": [
    {
     "data": {
      "text/plain": [
       "6"
      ]
     },
     "execution_count": 4,
     "metadata": {},
     "output_type": "execute_result"
    }
   ],
   "source": [
    "2 * 3"
   ]
  },
  {
   "cell_type": "markdown",
   "metadata": {},
   "source": [
    "Or nesting,"
   ]
  },
  {
   "cell_type": "code",
   "execution_count": 5,
   "metadata": {},
   "outputs": [
    {
     "data": {
      "text/plain": [
       "70"
      ]
     },
     "execution_count": 5,
     "metadata": {},
     "output_type": "execute_result"
    }
   ],
   "source": [
    "2 * ((3 + 4) * 5)"
   ]
  },
  {
   "cell_type": "markdown",
   "metadata": {},
   "source": [
    "Or we can do the following,"
   ]
  },
  {
   "cell_type": "code",
   "execution_count": 13,
   "metadata": {},
   "outputs": [
    {
     "data": {
      "text/plain": [
       "2015"
      ]
     },
     "execution_count": 13,
     "metadata": {},
     "output_type": "execute_result"
    }
   ],
   "source": [
    "1 * 2 * ((3 * 4 * 5 // 6) ** 3) + 7 + 8"
   ]
  },
  {
   "cell_type": "markdown",
   "metadata": {},
   "source": [
    "`1 * 2 * ((3 * 4 * 5 // 6) ** 3) + 7 + 8` is an expression, while `2015` is its value"
   ]
  },
  {
   "cell_type": "markdown",
   "metadata": {},
   "source": [
    "What about call expressions? Call expressions have a special form where we name a function that we want to call. In this case, the `max` function takes in expressions `2` and `4` that will give us the value to which `max` will be applied."
   ]
  },
  {
   "cell_type": "code",
   "execution_count": 14,
   "metadata": {},
   "outputs": [
    {
     "data": {
      "text/plain": [
       "4"
      ]
     },
     "execution_count": 14,
     "metadata": {},
     "output_type": "execute_result"
    }
   ],
   "source": [
    "max(2, 4)"
   ]
  },
  {
   "cell_type": "markdown",
   "metadata": {},
   "source": [
    "And we can do the same thing for `min`,"
   ]
  },
  {
   "cell_type": "code",
   "execution_count": 15,
   "metadata": {},
   "outputs": [
    {
     "data": {
      "text/plain": [
       "-2"
      ]
     },
     "execution_count": 15,
     "metadata": {},
     "output_type": "execute_result"
    }
   ],
   "source": [
    "min(-2, 50000)"
   ]
  },
  {
   "cell_type": "markdown",
   "metadata": {},
   "source": [
    "The whole `max(2, 4)` is a call expression.\n",
    "\n",
    "Earlier, we claimed that everything can be expressed using a call expression. This is including multiplication, division, addition, etc.\n",
    "\n",
    "In addition to the symbol `+`, there's a function `add`. This function is not readily available, as we have to write the following to obtain access to `add` and `mul`,"
   ]
  },
  {
   "cell_type": "code",
   "execution_count": 2,
   "metadata": {},
   "outputs": [],
   "source": [
    "from operator import add, mul"
   ]
  },
  {
   "cell_type": "markdown",
   "metadata": {},
   "source": [
    "Now we can add together `2` and `3` using call expression."
   ]
  },
  {
   "cell_type": "code",
   "execution_count": 17,
   "metadata": {},
   "outputs": [
    {
     "data": {
      "text/plain": [
       "5"
      ]
     },
     "execution_count": 17,
     "metadata": {},
     "output_type": "execute_result"
    }
   ],
   "source": [
    "add(2, 3)"
   ]
  },
  {
   "cell_type": "markdown",
   "metadata": {},
   "source": [
    "And we can multiply together `2` and `3` to get 6."
   ]
  },
  {
   "cell_type": "code",
   "execution_count": 18,
   "metadata": {},
   "outputs": [
    {
     "data": {
      "text/plain": [
       "6"
      ]
     },
     "execution_count": 18,
     "metadata": {},
     "output_type": "execute_result"
    }
   ],
   "source": [
    "mul(2, 3)"
   ]
  },
  {
   "cell_type": "markdown",
   "metadata": {},
   "source": [
    "Call expressions can combine multiple values together by using lots of commas,"
   ]
  },
  {
   "cell_type": "code",
   "execution_count": 19,
   "metadata": {},
   "outputs": [
    {
     "data": {
      "text/plain": [
       "5"
      ]
     },
     "execution_count": 19,
     "metadata": {},
     "output_type": "execute_result"
    }
   ],
   "source": [
    "max(1, 2, 3, 4, 5)"
   ]
  },
  {
   "cell_type": "markdown",
   "metadata": {},
   "source": [
    "Call expressions can also be nested within one another. In this case, we multiply the result of adding `2` and the result of multiplying 4 and 6 with the result of adding `3` and `5`."
   ]
  },
  {
   "cell_type": "code",
   "execution_count": 20,
   "metadata": {},
   "outputs": [
    {
     "data": {
      "text/plain": [
       "208"
      ]
     },
     "execution_count": 20,
     "metadata": {},
     "output_type": "execute_result"
    }
   ],
   "source": [
    "mul(add(2, mul(4, 6)), add(3, 5))"
   ]
  },
  {
   "cell_type": "markdown",
   "metadata": {},
   "source": [
    "In call expressions, we don't need to memorize the order of operations. The nesting structure of the expression itself tells exactly what get multiplied before it gets added. For example, Python has to multiply `4` and `6` first, then add the result to `2`.\n",
    "\n",
    "One other important thing to remember is that multiplication and division comes first before addition and subtraction."
   ]
  },
  {
   "cell_type": "markdown",
   "metadata": {},
   "source": [
    "# Anatomy of a Call Expression\n",
    "Now we're going to talk about the anatomy of a call expression. Here is an example: `add(2, 3)`"
   ]
  },
  {
   "cell_type": "code",
   "execution_count": 21,
   "metadata": {},
   "outputs": [
    {
     "data": {
      "text/plain": [
       "5"
      ]
     },
     "execution_count": 21,
     "metadata": {},
     "output_type": "execute_result"
    }
   ],
   "source": [
    "add(2, 3)"
   ]
  },
  {
   "cell_type": "markdown",
   "metadata": {},
   "source": [
    "The whole `add(2, 3)` is a call expression. This call expression contains other expressions.\n",
    "\n",
    "1. Everything that comes before the opening parentheses `(` is `Operator Subexpression`. Subexpression means an expression within an expression.\n",
    "\n",
    "![](images/operator.png)\n",
    "\n",
    "2. The `operands` are separated by commas `,` within parentheses `( )`.\n",
    "\n",
    "![](images/operand.png)\n",
    "\n",
    "**Operators and operands are also expressions**. They altogether evaluate to values.\n",
    "\n",
    "The way call expressions are evaluated is called **evaluation procedure**.\n",
    "\n",
    "Programming languages interpret expressions by applying evaluation procedures. They apply the same procedures over and over again.\n",
    "\n",
    "The **evaluation procedure** for call expressions work like the following,\n",
    "1. Evaluate the operator and then the operand subexpressions\n",
    "    * We have the `function` `add` from the `operator` and `argument`s `2` and `3` from the `operand`s\n",
    "    \n",
    "![](images/evaluation.png)\n",
    "\n",
    "2. **Apply**:\n",
    "    * The `function` that is the value of the `operator subexpression` to\n",
    "    * The `arguments` that are the values of the operand subexpression. \n",
    "    \n",
    "All of this is just to add `2` and `3` together. We go through the steps in such detail to show that the same exact evaluation procedure can be used many times to evaluate more complicated, nested expressions."
   ]
  },
  {
   "cell_type": "markdown",
   "metadata": {},
   "source": [
    "## Evaluating Nested Expressions"
   ]
  },
  {
   "cell_type": "code",
   "execution_count": 4,
   "metadata": {},
   "outputs": [
    {
     "data": {
      "text/plain": [
       "224"
      ]
     },
     "execution_count": 4,
     "metadata": {},
     "output_type": "execute_result"
    }
   ],
   "source": [
    "mul(add(4, mul(4, 6)), add(3, 5))"
   ]
  },
  {
   "cell_type": "markdown",
   "metadata": {},
   "source": [
    "When we run the cell above, Python just give out the result `224`. How did Python do that? Python applied the same evaluation procedure as before. \n",
    "\n",
    "Python recognizes that the whole code `mul(add(4, mul(4, 6)), add(3, 5))` is a call expression. \n",
    "\n",
    "At first, Python evaluates the `operator`, which is the function `mul` that multiplies,\n",
    "\n",
    "![](images/mul.png)\n",
    "\n",
    "Then Python evaluates the first `operand`, `add(4, mul(4, 6))`, which is another call expression! Thus, Python applies the same evaluation procedure to this operand,\n",
    "\n",
    "![](images/operand_2.png)\n"
   ]
  },
  {
   "cell_type": "markdown",
   "metadata": {},
   "source": [
    "## `add(4, mul(4, 6))`\n",
    "In this call expression, Python evaluates the `operator`, the `add` function, and the operands:\n",
    "1. The number `4`\n",
    "2. The call expression `mul(4, 6)`\n",
    "\n",
    "![](images/add_4_mul_4_6.png)\n",
    "\n",
    "\n",
    "We have a procedure for evaluating call expressions: evaluate the operator and the operand subexpressions. From there, we get:\n",
    "1. The function `mul` that multiplies \n",
    "2. The numbers `4` and `6`. \n",
    "\n",
    "Since we have the operands evaluated, we can apply `mul` to `4` and `6` to obtain 24. \n",
    "\n",
    "![](images/24.png)\n",
    "\n",
    "`24` is the value of the call expression `mul(4, 6)`\n",
    "\n",
    "Now that we have evaluated all the operands from the subexpression `add(4, mul(4, 6))`, \n",
    "\n",
    "![](images/add_4_24.png)\n",
    "\n",
    "We can apply `add` to `4` and `24`,\n",
    "\n",
    "![](images/28.png)\n"
   ]
  },
  {
   "cell_type": "markdown",
   "metadata": {},
   "source": [
    "## Back to the main call expression\n",
    "\n",
    "![](images/back_to_main.png)\n",
    "\n",
    "Now that we have the following, we still need to evaluate the second operand. By applying the same evaluation procedure as what we have done so far, we can obtaion the value of the call expression `224`\n",
    "\n",
    "![](images/224.png)\n",
    "\n",
    "This whole diagram is called an **expression tree**. It is an illustration of everything that happens within the computer as it evaluates this nested call expression.\n",
    "\n",
    "![](images/expression_tree.png)\n",
    "\n",
    "The important thing in this call expression evaluation is the order in which expressions are evaluated. We have to know that the expression `add(4, mul(4, 6))` evaluates to `28` and the expression `add(3, 5)` evaluates to 8 to finish the computation. \n",
    "\n",
    "![](images/whole.png)\n",
    "\n",
    "Above, `28` is both **value of subexpression `add(4, mul(4, 6))`** and **the first argument to `mul`**"
   ]
  },
  {
   "cell_type": "code",
   "execution_count": null,
   "metadata": {},
   "outputs": [],
   "source": []
  }
 ],
 "metadata": {
  "kernelspec": {
   "display_name": "Python 3",
   "language": "python",
   "name": "python3"
  },
  "language_info": {
   "codemirror_mode": {
    "name": "ipython",
    "version": 3
   },
   "file_extension": ".py",
   "mimetype": "text/x-python",
   "name": "python",
   "nbconvert_exporter": "python",
   "pygments_lexer": "ipython3",
   "version": "3.7.5"
  }
 },
 "nbformat": 4,
 "nbformat_minor": 4
}
