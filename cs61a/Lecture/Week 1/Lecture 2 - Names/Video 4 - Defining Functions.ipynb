{
 "cells": [
  {
   "cell_type": "markdown",
   "metadata": {},
   "source": [
    "# Defining Functions\n",
    "At first, it was explained that this course is all about abstraction. In this section, we are going to learn tools for abstraction. Recall that abstraction is the process of:\n",
    "1. Take a complex thing\n",
    "2. Give it a name\n",
    "3. Treat it as a whole without worrying about its details\n",
    "\n",
    "`Assignment` is a simple means of abstraction as we can **bind names to values**.\n",
    "\n",
    "`Function definition` is a more powerful means of abstraction since we can bind names to not only values, but also **expressions** (e.g. series of statements).\n",
    "\n",
    "We define a function with the `def` keyword.\n",
    "\n",
    "![](images/function.png)\n",
    "\n",
    "We start with giving the function a `<name>`, then we list the function's `<formal parameters>`. \n",
    "\n",
    "![](images/formal_parameters.png)\n",
    "\n",
    "Then we write the body of the function. \n",
    "\n",
    "![](images/return.png)\n",
    "\n",
    "The first line, and the line between the `def` and `:`, is called `function signature`. `function signature` shows how many arguments a function takes in by listing the `<formal parameters>`. The `formal parameters` are `names` that refer to the argument values that are passed in into the function.\n",
    "\n",
    "![](images/signature.png)\n",
    "\n",
    "The `function body` defines what the function does. Below is a simple example of the body of a function, a return statement. The `<return expression>` is evaluated every time the function is called.\n",
    "\n",
    "![](images/body.png)\n",
    "\n",
    "There is a procedure for evaluating `def` statements.\n",
    "#### Execution procedure for `def` statements:\n",
    "1. Every time there's a `def` statement, we create a new function. This function has a signature `<name>`(`<formal parameters>`)\n",
    "2. Set the body of that function to be **everything indented after the first line**\n",
    "3. Bind the `<name>` to that function we just created in the current frame\n",
    "\n",
    "**IMPORTANT**: When we write the body of the function, Python **DOES NOT** execute it. When we defined the `square` function,"
   ]
  },
  {
   "cell_type": "code",
   "execution_count": null,
   "metadata": {},
   "outputs": [],
   "source": [
    "def square(x):\n",
    "    return mul(x, x)"
   ]
  },
  {
   "cell_type": "markdown",
   "metadata": {},
   "source": [
    "above, when we execute the `def` statement, no multiplying happened at all."
   ]
  },
  {
   "cell_type": "markdown",
   "metadata": {},
   "source": [
    "## Calling User-Defined Functions\n",
    "Functions are only useful because we can call them. In addition to execution procedures, there's also a procedure for evaluating a call expression that uses a user-defined function.\n",
    "\n",
    "#### Procedure for calling / applying user-defined functions (version 1):\n",
    "1. Add a local frame, forming a **new** environment\n",
    "2. Bind the function's formal parameters to its arguments in that frame\n",
    "3. Execute the body of the function in that new environment\n",
    "\n",
    "Below is a demonstration,"
   ]
  },
  {
   "cell_type": "code",
   "execution_count": 4,
   "metadata": {},
   "outputs": [
    {
     "data": {
      "text/html": [
       "\n",
       "        <iframe\n",
       "            width=\"100%\"\n",
       "            height=\"350\"\n",
       "            src=\"http://pythontutor.com/iframe-embed.html#code=%0Afrom%20operator%20import%20mul%0Adef%20square%28x%29%3A%0A%20%20%20%20return%20mul%28x%2C%20x%29%0A%0Asquare%28-2%29%0A&origin=opt-frontend.js&cumulative=false&heapPrimitives=false&textReferences=false&curInstr=0&&verticalStack=false&py=3&rawInputLstJSON=%5B%5D&codeDivWidth=50%25&codeDivHeight=100%25\"\n",
       "            frameborder=\"0\"\n",
       "            allowfullscreen\n",
       "        ></iframe>\n",
       "        "
      ],
      "text/plain": [
       "<IPython.lib.display.IFrame at 0x54f4df0>"
      ]
     },
     "metadata": {},
     "output_type": "display_data"
    }
   ],
   "source": [
    "%%tutor --lang python3\n",
    "\n",
    "from operator import mul\n",
    "def square(x):\n",
    "    return mul(x, x)\n",
    "\n",
    "square(-2)"
   ]
  },
  {
   "cell_type": "markdown",
   "metadata": {},
   "source": [
    "Initially, Python binds `mul` to the built-in function and `square` to the user-defined function. When Python binds `square` to the user-defined function, it does all the 3 execution procedure steps (they are not visible in the frame). However, Python has not multiplied anything yet as Python has not executed the body of the function yet. \n",
    "\n",
    "![](images/square.png)\n",
    "\n",
    "When we execute the line `square(-2)`, Python applies the function `square(x)` to the argument value `-2`. \n",
    "\n",
    "![](images/new_frame.png)\n",
    "\n",
    "On the right side, Python introduced a new frame called `square`, in which Python binds the formal parameter `x` to the argument value `-2`. Python then executes the body of the function in that new frame.\n",
    "\n",
    "![](images/result.png)"
   ]
  },
  {
   "cell_type": "markdown",
   "metadata": {},
   "source": [
    "### Recap\n",
    "Here we have a built-in function and a user-defined function. We can see the formal parameter `x` in the user-defined function.\n",
    "\n",
    "![](images/built_in_user_defined.png)\n",
    "\n",
    "We have `local frame` that was introduced in the first step of the procedure for calling / applying user-defined function,\n",
    "\n",
    "![](images/local_frame.png)\n",
    "\n",
    "The original name of the function, `square`, is used to label that local frame. \n",
    "\n",
    "![](images/original_name.png)\n",
    "\n",
    "In the local frame, we have a binding between the formal parameter `x`, which is the name of the argument, to the argument value `-2`. \n",
    "\n",
    "![](images/formal_param_bound.png)\n",
    "\n",
    "Note that the `Return value` is NOT a binding. It is just an annotation of the result.\n",
    "\n",
    "Earlier, it was mentioned that a function's `signature` is important. It is important since it contains all the information needed to create a local frame.\n",
    "\n",
    "The name `square` lets us name the local frame, while the formal parameter `x` is the name where we bind the argument value of the function.\n",
    "\n",
    "![](images/squarex.png)\n"
   ]
  },
  {
   "cell_type": "markdown",
   "metadata": {},
   "source": [
    "## Looking Up Names in Environments\n",
    "We now know most of the story for user-defined function. But there's one more important piece that we have not covered: **looking up names in environments**.\n",
    "\n",
    "Every expression that Python evaluates is evaluated in the context of an environment. \n",
    "\n",
    "Environments are the memory that keeps track of the correspondence between names and values. Thus, the environment knows what names are bound to what values. So far, the current environment is either:\n",
    "1. The global frame alond, or\n",
    "2. A local frame, followed by the global frame (Note the word \"followed\", indicates that there is an ordering)\n",
    "\n",
    "#### 2 very important things:\n",
    "1. An environment is a sequence of frames.\n",
    "\n",
    "    * Recall that a frame is a binding between names and values (indicated by boxes in environmental diagrams)\n",
    "    \n",
    "    \n",
    "2. A name, when evaluated, evaluates to the value bound to that name in the earliest frame of the current environment in which that name is found\n",
    "\n",
    "Thus, if we want to look up the value bound to a name in an environment, we check each frame in turn. For example, to look up some `name` in the body of the `square` function,\n",
    "1. Look for the `name` in the local frame first. If it's found, then we obtain its value.\n",
    "2. If not found, look for it in the global frame.\n",
    "    * Built-in names like `max` are in the global frame too, but we don't show them in environment diagrams"
   ]
  },
  {
   "cell_type": "code",
   "execution_count": 5,
   "metadata": {},
   "outputs": [
    {
     "data": {
      "text/plain": [
       "12"
      ]
     },
     "execution_count": 5,
     "metadata": {},
     "output_type": "execute_result"
    }
   ],
   "source": [
    "from operator import mul\n",
    "mul(3, 4)"
   ]
  },
  {
   "cell_type": "markdown",
   "metadata": {},
   "source": [
    "Now we will once again define the `square` function, this time with a different formal parameter,"
   ]
  },
  {
   "cell_type": "code",
   "execution_count": 6,
   "metadata": {},
   "outputs": [],
   "source": [
    "def square(square):\n",
    "    return mul(square, square)"
   ]
  },
  {
   "cell_type": "code",
   "execution_count": 7,
   "metadata": {},
   "outputs": [
    {
     "data": {
      "text/plain": [
       "<function __main__.square(square)>"
      ]
     },
     "execution_count": 7,
     "metadata": {},
     "output_type": "execute_result"
    }
   ],
   "source": [
    "square"
   ]
  },
  {
   "cell_type": "markdown",
   "metadata": {},
   "source": [
    "Above, we see that the name `square` is bound to the function `square(square)`. If we try to `square` a number,"
   ]
  },
  {
   "cell_type": "code",
   "execution_count": 8,
   "metadata": {},
   "outputs": [
    {
     "data": {
      "text/plain": [
       "16"
      ]
     },
     "execution_count": 8,
     "metadata": {},
     "output_type": "execute_result"
    }
   ],
   "source": [
    "square(4)"
   ]
  },
  {
   "cell_type": "markdown",
   "metadata": {},
   "source": [
    "It works just fine! How does this work?"
   ]
  },
  {
   "cell_type": "code",
   "execution_count": 9,
   "metadata": {},
   "outputs": [
    {
     "data": {
      "text/html": [
       "\n",
       "        <iframe\n",
       "            width=\"100%\"\n",
       "            height=\"350\"\n",
       "            src=\"http://pythontutor.com/iframe-embed.html#code=%0Afrom%20operator%20import%20mul%0Adef%20square%28square%29%3A%0A%20%20%20%20return%20mul%28square%2C%20square%29%0A%0Asquare%28-2%29%0A&origin=opt-frontend.js&cumulative=false&heapPrimitives=false&textReferences=false&curInstr=0&&verticalStack=false&py=3&rawInputLstJSON=%5B%5D&codeDivWidth=50%25&codeDivHeight=100%25\"\n",
       "            frameborder=\"0\"\n",
       "            allowfullscreen\n",
       "        ></iframe>\n",
       "        "
      ],
      "text/plain": [
       "<IPython.lib.display.IFrame at 0x5763910>"
      ]
     },
     "metadata": {},
     "output_type": "display_data"
    }
   ],
   "source": [
    "%%tutor --lang python3\n",
    "\n",
    "from operator import mul\n",
    "def square(square):\n",
    "    return mul(square, square)\n",
    "\n",
    "square(-2)"
   ]
  },
  {
   "cell_type": "markdown",
   "metadata": {},
   "source": [
    "If we look closely, the only difference between this `square(square)` function and the `square(x)` function is that the formal parameter is now called `square`. If we try to look for the name `square`, we will be able to find it in the `square` local frame without needing to look to global frame."
   ]
  },
  {
   "cell_type": "code",
   "execution_count": null,
   "metadata": {},
   "outputs": [],
   "source": []
  }
 ],
 "metadata": {
  "kernelspec": {
   "display_name": "Python 3",
   "language": "python",
   "name": "python3"
  },
  "language_info": {
   "codemirror_mode": {
    "name": "ipython",
    "version": 3
   },
   "file_extension": ".py",
   "mimetype": "text/x-python",
   "name": "python",
   "nbconvert_exporter": "python",
   "pygments_lexer": "ipython3",
   "version": "3.7.5"
  }
 },
 "nbformat": 4,
 "nbformat_minor": 4
}
