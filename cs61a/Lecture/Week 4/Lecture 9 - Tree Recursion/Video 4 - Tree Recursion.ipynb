{
 "cells": [
  {
   "cell_type": "code",
   "execution_count": 1,
   "metadata": {},
   "outputs": [],
   "source": [
    "%load_ext tutormagic"
   ]
  },
  {
   "cell_type": "markdown",
   "metadata": {},
   "source": [
    "# Tree Recursion\n",
    "Tree recursion occurs when a function makes more than one recursive call.\n",
    "\n",
    "Tree-shaped processes arise whenever executing the body of a recursive function makes more than one call to that function. \n",
    "\n",
    "An example of tree recursion is the **Fibonacci Sequence**. \n",
    "\n",
    "<img src = 'fib.jpg' width = 500/>\n",
    "\n",
    "Above, we have the index at the top and the fibonacci number at the bottom. This means the 2nd Fibonacci number is 1, the 3rd is 2. \n",
    "\n",
    "See that at first, the Fibonacci number grows slow. However, as the index rises, the increase in Fibonacci number becomes much greater. The `35`th Fibonacci number is `9,227,465`!\n",
    "\n",
    "Below we define the `fib` function, where the base cases cover when `n` is `0` and `1`, while the recursive case sums the previous 2. "
   ]
  },
  {
   "cell_type": "code",
   "execution_count": 10,
   "metadata": {},
   "outputs": [],
   "source": [
    "def fib(n):\n",
    "    if n == 0:\n",
    "        return 0\n",
    "    elif n == 1:\n",
    "        return 1\n",
    "    else:\n",
    "        # Below is the tree recursion\n",
    "        return fib(n-2) + fib(n-1)"
   ]
  },
  {
   "cell_type": "markdown",
   "metadata": {},
   "source": [
    "The `fib` above is a tree recursive function since to compute `fib`, we need to call `fib` twice. "
   ]
  },
  {
   "cell_type": "markdown",
   "metadata": {},
   "source": [
    "## A Tree-Recursive Process\n",
    "The computational process of `fib` evolves into a tree structure. \n",
    "\n",
    "Below we have a **tree structure** of calling `fib(5)`:\n",
    "\n",
    "<img src = 'tree.jpg' width = 700/>\n",
    "\n",
    "How to read the tree above:\n",
    "\n",
    "1. Calling `fib(5)` involves calling `fib(3)` and `fib(4)`\n",
    "    * Calling `fib(3)` involves calling `fib(1)` and `fib(2)`\n",
    "        * `fib(1)` is a base case that returns `1`\n",
    "        * Calling `fib(2)` involves calling `fib(0)` and `fib(1)`\n",
    "            * `fib(0)` is a base case that returns `0`\n",
    "            * `fib(1)` is a base case that returns `1`\n",
    "            \n",
    "And the same thing for `fib(4)`. \n",
    "\n",
    "It is called a **tree structure** because if we flip it, the structure will look like a tree. \n",
    "\n",
    "The computation works as the following,\n",
    "\n",
    "<img src = 'tree_2.jpg' width = 700/>\n",
    "\n",
    "1. To calculate `fib(5)` we need to know the value of `fib(3)` and `fib(4)`\n",
    "    * To calculate `fib(3)`, we need to know the value of `fib(1)` and `fib(2)`\n",
    "        * The value of `fib(1)` is `1`\n",
    "        * To calculate `fib(2)`, we need to know the value of `fib(0)` and `fib(1)`\n",
    "            * The value of `fib(0)` is `0`\n",
    "            * The value of `fib(1)` is `1`\n",
    "\n",
    "Once we know the value of `fib(3)`, we then find out the value of `fib(4)`"
   ]
  },
  {
   "cell_type": "markdown",
   "metadata": {},
   "source": [
    "## Demo\n",
    "Let's test out the `fib` function!"
   ]
  },
  {
   "cell_type": "code",
   "execution_count": 11,
   "metadata": {},
   "outputs": [],
   "source": [
    "def fib(n):\n",
    "    if n == 0:\n",
    "        return 0\n",
    "    elif n == 1:\n",
    "        return 1\n",
    "    else:\n",
    "        # Below is the tree recursion\n",
    "        return fib(n-2) + fib(n-1)"
   ]
  },
  {
   "cell_type": "code",
   "execution_count": 12,
   "metadata": {},
   "outputs": [
    {
     "data": {
      "text/plain": [
       "0"
      ]
     },
     "execution_count": 12,
     "metadata": {},
     "output_type": "execute_result"
    }
   ],
   "source": [
    "fib(0)"
   ]
  },
  {
   "cell_type": "code",
   "execution_count": 13,
   "metadata": {},
   "outputs": [
    {
     "data": {
      "text/plain": [
       "1"
      ]
     },
     "execution_count": 13,
     "metadata": {},
     "output_type": "execute_result"
    }
   ],
   "source": [
    "fib(1)"
   ]
  },
  {
   "cell_type": "code",
   "execution_count": 14,
   "metadata": {},
   "outputs": [
    {
     "data": {
      "text/plain": [
       "1"
      ]
     },
     "execution_count": 14,
     "metadata": {},
     "output_type": "execute_result"
    }
   ],
   "source": [
    "fib(2)"
   ]
  },
  {
   "cell_type": "code",
   "execution_count": 15,
   "metadata": {},
   "outputs": [
    {
     "data": {
      "text/plain": [
       "2"
      ]
     },
     "execution_count": 15,
     "metadata": {},
     "output_type": "execute_result"
    }
   ],
   "source": [
    "fib(3)"
   ]
  },
  {
   "cell_type": "code",
   "execution_count": 16,
   "metadata": {},
   "outputs": [
    {
     "data": {
      "text/plain": [
       "5"
      ]
     },
     "execution_count": 16,
     "metadata": {},
     "output_type": "execute_result"
    }
   ],
   "source": [
    "fib(5)"
   ]
  },
  {
   "cell_type": "code",
   "execution_count": 17,
   "metadata": {},
   "outputs": [
    {
     "data": {
      "text/plain": [
       "21"
      ]
     },
     "execution_count": 17,
     "metadata": {},
     "output_type": "execute_result"
    }
   ],
   "source": [
    "fib(8)"
   ]
  },
  {
   "cell_type": "code",
   "execution_count": 18,
   "metadata": {},
   "outputs": [
    {
     "data": {
      "text/plain": [
       "55"
      ]
     },
     "execution_count": 18,
     "metadata": {},
     "output_type": "execute_result"
    }
   ],
   "source": [
    "fib(10)"
   ]
  },
  {
   "cell_type": "code",
   "execution_count": 19,
   "metadata": {},
   "outputs": [
    {
     "data": {
      "text/plain": [
       "6765"
      ]
     },
     "execution_count": 19,
     "metadata": {},
     "output_type": "execute_result"
    }
   ],
   "source": [
    "fib(20)"
   ]
  },
  {
   "cell_type": "code",
   "execution_count": 20,
   "metadata": {},
   "outputs": [
    {
     "data": {
      "text/plain": [
       "832040"
      ]
     },
     "execution_count": 20,
     "metadata": {},
     "output_type": "execute_result"
    }
   ],
   "source": [
    "fib(30)"
   ]
  },
  {
   "cell_type": "markdown",
   "metadata": {},
   "source": [
    "Notice that when we compute `fib(30)`, the computation takes longer! What's going on?\n",
    "\n",
    "To analyze what's going on, we'll use the `trace` decorator that we used previously from the `ucb` module. Recall the `trace` decorator changes a function's behavior so that it prints out:\n",
    "1. When it gets called\n",
    "2. When it returns"
   ]
  },
  {
   "cell_type": "code",
   "execution_count": 21,
   "metadata": {},
   "outputs": [],
   "source": [
    "from ucb import trace\n",
    "\n",
    "@trace\n",
    "def fib(n):\n",
    "    if n == 0:\n",
    "        return 0\n",
    "    elif n == 1:\n",
    "        return 1\n",
    "    else:\n",
    "        # Below is the tree recursion\n",
    "        return fib(n-2) + fib(n-1)"
   ]
  },
  {
   "cell_type": "code",
   "execution_count": 22,
   "metadata": {},
   "outputs": [
    {
     "name": "stdout",
     "output_type": "stream",
     "text": [
      "fib(0):\n",
      "fib(0) -> 0\n"
     ]
    },
    {
     "data": {
      "text/plain": [
       "0"
      ]
     },
     "execution_count": 22,
     "metadata": {},
     "output_type": "execute_result"
    }
   ],
   "source": [
    "fib(0)"
   ]
  },
  {
   "cell_type": "code",
   "execution_count": 23,
   "metadata": {},
   "outputs": [
    {
     "name": "stdout",
     "output_type": "stream",
     "text": [
      "fib(1):\n",
      "fib(1) -> 1\n"
     ]
    },
    {
     "data": {
      "text/plain": [
       "1"
      ]
     },
     "execution_count": 23,
     "metadata": {},
     "output_type": "execute_result"
    }
   ],
   "source": [
    "fib(1)"
   ]
  },
  {
   "cell_type": "markdown",
   "metadata": {},
   "source": [
    "For `fib(0)` and `fib(1)`, since both are base cases, the traces are simple. However, when we call `fib(2)`,"
   ]
  },
  {
   "cell_type": "code",
   "execution_count": 24,
   "metadata": {},
   "outputs": [
    {
     "name": "stdout",
     "output_type": "stream",
     "text": [
      "fib(2):\n",
      "    fib(0):\n",
      "    fib(0) -> 0\n",
      "    fib(1):\n",
      "    fib(1) -> 1\n",
      "fib(2) -> 1\n"
     ]
    },
    {
     "data": {
      "text/plain": [
       "1"
      ]
     },
     "execution_count": 24,
     "metadata": {},
     "output_type": "execute_result"
    }
   ],
   "source": [
    "fib(2)"
   ]
  },
  {
   "cell_type": "markdown",
   "metadata": {},
   "source": [
    "`fib(2)` involves calling `fib(0)` and `fib(1)`! `fib(0)` returns `0` and `fib(1)` returns `1`. Summing them together, the result of calling `fib(2)` is 1!"
   ]
  },
  {
   "cell_type": "code",
   "execution_count": 25,
   "metadata": {},
   "outputs": [
    {
     "name": "stdout",
     "output_type": "stream",
     "text": [
      "fib(3):\n",
      "    fib(1):\n",
      "    fib(1) -> 1\n",
      "    fib(2):\n",
      "        fib(0):\n",
      "        fib(0) -> 0\n",
      "        fib(1):\n",
      "        fib(1) -> 1\n",
      "    fib(2) -> 1\n",
      "fib(3) -> 2\n"
     ]
    },
    {
     "data": {
      "text/plain": [
       "2"
      ]
     },
     "execution_count": 25,
     "metadata": {},
     "output_type": "execute_result"
    }
   ],
   "source": [
    "fib(3)"
   ]
  },
  {
   "cell_type": "code",
   "execution_count": 26,
   "metadata": {},
   "outputs": [
    {
     "name": "stdout",
     "output_type": "stream",
     "text": [
      "fib(5):\n",
      "    fib(3):\n",
      "        fib(1):\n",
      "        fib(1) -> 1\n",
      "        fib(2):\n",
      "            fib(0):\n",
      "            fib(0) -> 0\n",
      "            fib(1):\n",
      "            fib(1) -> 1\n",
      "        fib(2) -> 1\n",
      "    fib(3) -> 2\n",
      "    fib(4):\n",
      "        fib(2):\n",
      "            fib(0):\n",
      "            fib(0) -> 0\n",
      "            fib(1):\n",
      "            fib(1) -> 1\n",
      "        fib(2) -> 1\n",
      "        fib(3):\n",
      "            fib(1):\n",
      "            fib(1) -> 1\n",
      "            fib(2):\n",
      "                fib(0):\n",
      "                fib(0) -> 0\n",
      "                fib(1):\n",
      "                fib(1) -> 1\n",
      "            fib(2) -> 1\n",
      "        fib(3) -> 2\n",
      "    fib(4) -> 3\n",
      "fib(5) -> 5\n"
     ]
    },
    {
     "data": {
      "text/plain": [
       "5"
      ]
     },
     "execution_count": 26,
     "metadata": {},
     "output_type": "execute_result"
    }
   ],
   "source": [
    "fib(5)"
   ]
  },
  {
   "cell_type": "markdown",
   "metadata": {},
   "source": [
    "As we can see, calling `fib(5)` results in a tree structure. We can see that there are a lot of work Python needs to do to compute `fib(5)`! Now imagine calling `fib(10)` and `fib(30)`."
   ]
  },
  {
   "cell_type": "code",
   "execution_count": 27,
   "metadata": {},
   "outputs": [
    {
     "name": "stdout",
     "output_type": "stream",
     "text": [
      "fib(10):\n",
      "    fib(8):\n",
      "        fib(6):\n",
      "            fib(4):\n",
      "                fib(2):\n",
      "                    fib(0):\n",
      "                    fib(0) -> 0\n",
      "                    fib(1):\n",
      "                    fib(1) -> 1\n",
      "                fib(2) -> 1\n",
      "                fib(3):\n",
      "                    fib(1):\n",
      "                    fib(1) -> 1\n",
      "                    fib(2):\n",
      "                        fib(0):\n",
      "                        fib(0) -> 0\n",
      "                        fib(1):\n",
      "                        fib(1) -> 1\n",
      "                    fib(2) -> 1\n",
      "                fib(3) -> 2\n",
      "            fib(4) -> 3\n",
      "            fib(5):\n",
      "                fib(3):\n",
      "                    fib(1):\n",
      "                    fib(1) -> 1\n",
      "                    fib(2):\n",
      "                        fib(0):\n",
      "                        fib(0) -> 0\n",
      "                        fib(1):\n",
      "                        fib(1) -> 1\n",
      "                    fib(2) -> 1\n",
      "                fib(3) -> 2\n",
      "                fib(4):\n",
      "                    fib(2):\n",
      "                        fib(0):\n",
      "                        fib(0) -> 0\n",
      "                        fib(1):\n",
      "                        fib(1) -> 1\n",
      "                    fib(2) -> 1\n",
      "                    fib(3):\n",
      "                        fib(1):\n",
      "                        fib(1) -> 1\n",
      "                        fib(2):\n",
      "                            fib(0):\n",
      "                            fib(0) -> 0\n",
      "                            fib(1):\n",
      "                            fib(1) -> 1\n",
      "                        fib(2) -> 1\n",
      "                    fib(3) -> 2\n",
      "                fib(4) -> 3\n",
      "            fib(5) -> 5\n",
      "        fib(6) -> 8\n",
      "        fib(7):\n",
      "            fib(5):\n",
      "                fib(3):\n",
      "                    fib(1):\n",
      "                    fib(1) -> 1\n",
      "                    fib(2):\n",
      "                        fib(0):\n",
      "                        fib(0) -> 0\n",
      "                        fib(1):\n",
      "                        fib(1) -> 1\n",
      "                    fib(2) -> 1\n",
      "                fib(3) -> 2\n",
      "                fib(4):\n",
      "                    fib(2):\n",
      "                        fib(0):\n",
      "                        fib(0) -> 0\n",
      "                        fib(1):\n",
      "                        fib(1) -> 1\n",
      "                    fib(2) -> 1\n",
      "                    fib(3):\n",
      "                        fib(1):\n",
      "                        fib(1) -> 1\n",
      "                        fib(2):\n",
      "                            fib(0):\n",
      "                            fib(0) -> 0\n",
      "                            fib(1):\n",
      "                            fib(1) -> 1\n",
      "                        fib(2) -> 1\n",
      "                    fib(3) -> 2\n",
      "                fib(4) -> 3\n",
      "            fib(5) -> 5\n",
      "            fib(6):\n",
      "                fib(4):\n",
      "                    fib(2):\n",
      "                        fib(0):\n",
      "                        fib(0) -> 0\n",
      "                        fib(1):\n",
      "                        fib(1) -> 1\n",
      "                    fib(2) -> 1\n",
      "                    fib(3):\n",
      "                        fib(1):\n",
      "                        fib(1) -> 1\n",
      "                        fib(2):\n",
      "                            fib(0):\n",
      "                            fib(0) -> 0\n",
      "                            fib(1):\n",
      "                            fib(1) -> 1\n",
      "                        fib(2) -> 1\n",
      "                    fib(3) -> 2\n",
      "                fib(4) -> 3\n",
      "                fib(5):\n",
      "                    fib(3):\n",
      "                        fib(1):\n",
      "                        fib(1) -> 1\n",
      "                        fib(2):\n",
      "                            fib(0):\n",
      "                            fib(0) -> 0\n",
      "                            fib(1):\n",
      "                            fib(1) -> 1\n",
      "                        fib(2) -> 1\n",
      "                    fib(3) -> 2\n",
      "                    fib(4):\n",
      "                        fib(2):\n",
      "                            fib(0):\n",
      "                            fib(0) -> 0\n",
      "                            fib(1):\n",
      "                            fib(1) -> 1\n",
      "                        fib(2) -> 1\n",
      "                        fib(3):\n",
      "                            fib(1):\n",
      "                            fib(1) -> 1\n",
      "                            fib(2):\n",
      "                                fib(0):\n",
      "                                fib(0) -> 0\n",
      "                                fib(1):\n",
      "                                fib(1) -> 1\n",
      "                            fib(2) -> 1\n",
      "                        fib(3) -> 2\n",
      "                    fib(4) -> 3\n",
      "                fib(5) -> 5\n",
      "            fib(6) -> 8\n",
      "        fib(7) -> 13\n",
      "    fib(8) -> 21\n",
      "    fib(9):\n",
      "        fib(7):\n",
      "            fib(5):\n",
      "                fib(3):\n",
      "                    fib(1):\n",
      "                    fib(1) -> 1\n",
      "                    fib(2):\n",
      "                        fib(0):\n",
      "                        fib(0) -> 0\n",
      "                        fib(1):\n",
      "                        fib(1) -> 1\n",
      "                    fib(2) -> 1\n",
      "                fib(3) -> 2\n",
      "                fib(4):\n",
      "                    fib(2):\n",
      "                        fib(0):\n",
      "                        fib(0) -> 0\n",
      "                        fib(1):\n",
      "                        fib(1) -> 1\n",
      "                    fib(2) -> 1\n",
      "                    fib(3):\n",
      "                        fib(1):\n",
      "                        fib(1) -> 1\n",
      "                        fib(2):\n",
      "                            fib(0):\n",
      "                            fib(0) -> 0\n",
      "                            fib(1):\n",
      "                            fib(1) -> 1\n",
      "                        fib(2) -> 1\n",
      "                    fib(3) -> 2\n",
      "                fib(4) -> 3\n",
      "            fib(5) -> 5\n",
      "            fib(6):\n",
      "                fib(4):\n",
      "                    fib(2):\n",
      "                        fib(0):\n",
      "                        fib(0) -> 0\n",
      "                        fib(1):\n",
      "                        fib(1) -> 1\n",
      "                    fib(2) -> 1\n",
      "                    fib(3):\n",
      "                        fib(1):\n",
      "                        fib(1) -> 1\n",
      "                        fib(2):\n",
      "                            fib(0):\n",
      "                            fib(0) -> 0\n",
      "                            fib(1):\n",
      "                            fib(1) -> 1\n",
      "                        fib(2) -> 1\n",
      "                    fib(3) -> 2\n",
      "                fib(4) -> 3\n",
      "                fib(5):\n",
      "                    fib(3):\n",
      "                        fib(1):\n",
      "                        fib(1) -> 1\n",
      "                        fib(2):\n",
      "                            fib(0):\n",
      "                            fib(0) -> 0\n",
      "                            fib(1):\n",
      "                            fib(1) -> 1\n",
      "                        fib(2) -> 1\n",
      "                    fib(3) -> 2\n",
      "                    fib(4):\n",
      "                        fib(2):\n",
      "                            fib(0):\n",
      "                            fib(0) -> 0\n",
      "                            fib(1):\n",
      "                            fib(1) -> 1\n",
      "                        fib(2) -> 1\n",
      "                        fib(3):\n",
      "                            fib(1):\n",
      "                            fib(1) -> 1\n",
      "                            fib(2):\n",
      "                                fib(0):\n",
      "                                fib(0) -> 0\n",
      "                                fib(1):\n",
      "                                fib(1) -> 1\n",
      "                            fib(2) -> 1\n",
      "                        fib(3) -> 2\n",
      "                    fib(4) -> 3\n",
      "                fib(5) -> 5\n",
      "            fib(6) -> 8\n",
      "        fib(7) -> 13\n",
      "        fib(8):\n",
      "            fib(6):\n",
      "                fib(4):\n",
      "                    fib(2):\n",
      "                        fib(0):\n",
      "                        fib(0) -> 0\n",
      "                        fib(1):\n",
      "                        fib(1) -> 1\n",
      "                    fib(2) -> 1\n",
      "                    fib(3):\n",
      "                        fib(1):\n",
      "                        fib(1) -> 1\n",
      "                        fib(2):\n",
      "                            fib(0):\n",
      "                            fib(0) -> 0\n",
      "                            fib(1):\n",
      "                            fib(1) -> 1\n",
      "                        fib(2) -> 1\n",
      "                    fib(3) -> 2\n",
      "                fib(4) -> 3\n",
      "                fib(5):\n",
      "                    fib(3):\n",
      "                        fib(1):\n",
      "                        fib(1) -> 1\n",
      "                        fib(2):\n",
      "                            fib(0):\n",
      "                            fib(0) -> 0\n",
      "                            fib(1):\n",
      "                            fib(1) -> 1\n",
      "                        fib(2) -> 1\n",
      "                    fib(3) -> 2\n",
      "                    fib(4):\n",
      "                        fib(2):\n",
      "                            fib(0):\n",
      "                            fib(0) -> 0\n",
      "                            fib(1):\n",
      "                            fib(1) -> 1\n",
      "                        fib(2) -> 1\n",
      "                        fib(3):\n",
      "                            fib(1):\n",
      "                            fib(1) -> 1\n",
      "                            fib(2):\n",
      "                                fib(0):\n",
      "                                fib(0) -> 0\n",
      "                                fib(1):\n",
      "                                fib(1) -> 1\n",
      "                            fib(2) -> 1\n",
      "                        fib(3) -> 2\n",
      "                    fib(4) -> 3\n",
      "                fib(5) -> 5\n",
      "            fib(6) -> 8\n",
      "            fib(7):\n",
      "                fib(5):\n",
      "                    fib(3):\n",
      "                        fib(1):\n",
      "                        fib(1) -> 1\n",
      "                        fib(2):\n",
      "                            fib(0):\n",
      "                            fib(0) -> 0\n",
      "                            fib(1):\n",
      "                            fib(1) -> 1\n",
      "                        fib(2) -> 1\n",
      "                    fib(3) -> 2\n",
      "                    fib(4):\n",
      "                        fib(2):\n",
      "                            fib(0):\n",
      "                            fib(0) -> 0\n",
      "                            fib(1):\n",
      "                            fib(1) -> 1\n",
      "                        fib(2) -> 1\n",
      "                        fib(3):\n",
      "                            fib(1):\n",
      "                            fib(1) -> 1\n",
      "                            fib(2):\n",
      "                                fib(0):\n",
      "                                fib(0) -> 0\n",
      "                                fib(1):\n",
      "                                fib(1) -> 1\n",
      "                            fib(2) -> 1\n",
      "                        fib(3) -> 2\n",
      "                    fib(4) -> 3\n",
      "                fib(5) -> 5\n",
      "                fib(6):\n",
      "                    fib(4):\n",
      "                        fib(2):\n",
      "                            fib(0):\n",
      "                            fib(0) -> 0\n",
      "                            fib(1):\n",
      "                            fib(1) -> 1\n",
      "                        fib(2) -> 1\n",
      "                        fib(3):\n",
      "                            fib(1):\n",
      "                            fib(1) -> 1\n",
      "                            fib(2):\n",
      "                                fib(0):\n",
      "                                fib(0) -> 0\n",
      "                                fib(1):\n",
      "                                fib(1) -> 1\n",
      "                            fib(2) -> 1\n",
      "                        fib(3) -> 2\n",
      "                    fib(4) -> 3\n",
      "                    fib(5):\n",
      "                        fib(3):\n",
      "                            fib(1):\n",
      "                            fib(1) -> 1\n",
      "                            fib(2):\n",
      "                                fib(0):\n",
      "                                fib(0) -> 0\n",
      "                                fib(1):\n",
      "                                fib(1) -> 1\n",
      "                            fib(2) -> 1\n",
      "                        fib(3) -> 2\n",
      "                        fib(4):\n",
      "                            fib(2):\n",
      "                                fib(0):\n",
      "                                fib(0) -> 0\n",
      "                                fib(1):\n",
      "                                fib(1) -> 1\n",
      "                            fib(2) -> 1\n",
      "                            fib(3):\n",
      "                                fib(1):\n",
      "                                fib(1) -> 1\n",
      "                                fib(2):\n",
      "                                    fib(0):\n",
      "                                    fib(0) -> 0\n",
      "                                    fib(1):\n",
      "                                    fib(1) -> 1\n",
      "                                fib(2) -> 1\n",
      "                            fib(3) -> 2\n",
      "                        fib(4) -> 3\n",
      "                    fib(5) -> 5\n",
      "                fib(6) -> 8\n",
      "            fib(7) -> 13\n",
      "        fib(8) -> 21\n",
      "    fib(9) -> 34\n",
      "fib(10) -> 55\n"
     ]
    },
    {
     "data": {
      "text/plain": [
       "55"
      ]
     },
     "execution_count": 27,
     "metadata": {},
     "output_type": "execute_result"
    }
   ],
   "source": [
    "fib(10)"
   ]
  },
  {
   "cell_type": "markdown",
   "metadata": {},
   "source": [
    "## Repetition in Tree-Recursive Computation\n",
    "The `fib` function that we have defined is not an efficient way to compute the fibonacci number. The process is highly repetitive: `fib` is called on the same argument multiple times.\n",
    "\n",
    "<img src = 'remember.jpg' width = 700/>\n",
    "\n",
    "As we can see above, the parts that are written in green font are the repeated computations. It would be nice if we can remember or store such results that if they are being called once again, we can just pull out the stored results. (We'll actually cover about this in future lectures)."
   ]
  }
 ],
 "metadata": {
  "kernelspec": {
   "display_name": "Python 3",
   "language": "python",
   "name": "python3"
  },
  "language_info": {
   "codemirror_mode": {
    "name": "ipython",
    "version": 3
   },
   "file_extension": ".py",
   "mimetype": "text/x-python",
   "name": "python",
   "nbconvert_exporter": "python",
   "pygments_lexer": "ipython3",
   "version": "3.6.8"
  }
 },
 "nbformat": 4,
 "nbformat_minor": 2
}
