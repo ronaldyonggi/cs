{
 "cells": [
  {
   "cell_type": "code",
   "execution_count": 1,
   "metadata": {},
   "outputs": [],
   "source": [
    "%load_ext tutormagic"
   ]
  },
  {
   "cell_type": "markdown",
   "metadata": {},
   "source": [
    "# Order of Recursive Calls\n",
    "Understanding the order of recursive calls is important in understanding the behavior of recursive functions. It is important to remember that when we make a function call, we can't do anything else until the function reaches a `return`."
   ]
  },
  {
   "cell_type": "markdown",
   "metadata": {},
   "source": [
    "## The Cascade Function\n",
    "The `cascade` function takes a positive integer `n` ."
   ]
  },
  {
   "cell_type": "code",
   "execution_count": 2,
   "metadata": {},
   "outputs": [],
   "source": [
    "def cascade(n):\n",
    "    if n < 10:\n",
    "        print(n)\n",
    "    else:\n",
    "        print(n)\n",
    "        cascade(n//10)\n",
    "        print(n)"
   ]
  },
  {
   "cell_type": "markdown",
   "metadata": {},
   "source": [
    "If we call `cascade` on a single number,"
   ]
  },
  {
   "cell_type": "code",
   "execution_count": 3,
   "metadata": {},
   "outputs": [
    {
     "name": "stdout",
     "output_type": "stream",
     "text": [
      "5\n"
     ]
    }
   ],
   "source": [
    "cascade(5)"
   ]
  },
  {
   "cell_type": "markdown",
   "metadata": {},
   "source": [
    "It might seemed that `cascade` doesn't do much. However, if we call `cascade` on a large number,"
   ]
  },
  {
   "cell_type": "code",
   "execution_count": 4,
   "metadata": {},
   "outputs": [
    {
     "name": "stdout",
     "output_type": "stream",
     "text": [
      "12345\n",
      "1234\n",
      "123\n",
      "12\n",
      "1\n",
      "12\n",
      "123\n",
      "1234\n",
      "12345\n"
     ]
    }
   ],
   "source": [
    "cascade(12345)"
   ]
  },
  {
   "cell_type": "markdown",
   "metadata": {},
   "source": [
    "`cascade` creates a pattern! The way it works is that the second `print` statement prints number again (e.g. the second `12345`), but it won't be executed until Python finishes executing `cascade(n//10)`"
   ]
  },
  {
   "cell_type": "markdown",
   "metadata": {},
   "source": [
    "Let's analyze the environment diagram!"
   ]
  },
  {
   "cell_type": "code",
   "execution_count": null,
   "metadata": {},
   "outputs": [],
   "source": [
    "%%tutor --lang python3\n",
    "\n",
    "def cascade(n):\n",
    "    if n < 10:\n",
    "        print(n)\n",
    "    else:\n",
    "        print(n)\n",
    "        cascade(n//10)\n",
    "        print(n)\n",
    "        \n",
    "cascade(123)"
   ]
  },
  {
   "cell_type": "markdown",
   "metadata": {},
   "source": [
    "In the following step:\n",
    "\n",
    "2. Python defines `cascade`\n",
    "    * Binds the function `cascade(n)` to the name `cascade`\n",
    "\n",
    "3. Python executes `cascade(123)`\n",
    "    * Creates a new frame `f1` with formal parameter `n` = `123`\n",
    "    \n",
    "4. Checks if `n` < `10`. No, move on\n",
    "\n",
    "6. Prints `123`\n",
    "\n",
    "7. Recursive call of `cascade(n//10)`, which is `cascade(12)`\n",
    "    * Creates a new frame `f2` with formal parameter `n` = `12`\n",
    "    * **NOTE THAT** here Python still yet to finish the second `print` statement. This `print` statement is delayed until Python finishes executing `cascade(12)`. Here Python delays the `print(123)`\n",
    "    \n",
    "8. Checks if `12` < `10`. No, move on\n",
    "\n",
    "10. Prints `12`\n",
    "\n",
    "11. Recursive call of `cascade(n//10)` once again, which is `cascade(1)`\n",
    "    * Creates a new frame `f3` with formal parameter `n` = `1`\n",
    "    * Delays the second `print(12)`\n",
    "\n",
    "13. Checks if `1` < `10`. Yes!\n",
    "\n",
    "14. Prints `1`\n",
    "    * Obtain a return value `None` since there is no `return` statement at all\n",
    "    \n",
    "15. Python goes back to frame `f2`, attempting to finish the rest of the execution, which is to print the delayed `print(12)`\n",
    "\n",
    "16. Prints the second `12`, and we obtain return value `None` again because there is no `return` statement\n",
    "\n",
    "17. Python goes back to frame `f3`, attempting to finish the rest of `f3` execution as well, which is to print the delayed `print(123)`\n",
    "\n",
    "18. Python prints the second `123`.\n",
    "\n",
    "Some things to remember:\n",
    "1. Each cascade frame is from a different call to cascade\n",
    "2. Until the `Return` value appears, that call has not completed \n",
    "3. Any statement can appear before or after the recursive call\n",
    "    * before: the first `print` statement\n",
    "    * after: the second `print` statement, after the `cascade(n//10)` statement\n",
    "    \n",
    "<img src = 'cascade.jpg' width = 400/>\n",
    "\n",
    "Above shows that the frame `f2` is responsible for printing `12` on both sides before and after `1`.\n"
   ]
  },
  {
   "cell_type": "markdown",
   "metadata": {},
   "source": [
    "## Two Definitions of Cascade\n",
    "What we defined earlier is not the only way to define cascade. Below is a shorter way of defining `cascade`."
   ]
  },
  {
   "cell_type": "code",
   "execution_count": 1,
   "metadata": {},
   "outputs": [],
   "source": [
    "def cascade(n):\n",
    "    print(n)\n",
    "    if n > 10:\n",
    "        cascade(n//10)\n",
    "        print(n)"
   ]
  },
  {
   "cell_type": "markdown",
   "metadata": {},
   "source": [
    "Let's try this new function!"
   ]
  },
  {
   "cell_type": "code",
   "execution_count": 2,
   "metadata": {},
   "outputs": [
    {
     "name": "stdout",
     "output_type": "stream",
     "text": [
      "12345\n",
      "1234\n",
      "123\n",
      "12\n",
      "1\n",
      "12\n",
      "123\n",
      "1234\n",
      "12345\n"
     ]
    }
   ],
   "source": [
    "cascade(12345)"
   ]
  },
  {
   "cell_type": "markdown",
   "metadata": {},
   "source": [
    "Which implementation is better? The previous one or the new, shorter one?\n",
    "1. If the 2 implementations are equally clear, the shorter one is usually better\n",
    "2. In some cases, the longer version is more clear since it indicates the base case and the recursive case\n",
    "3. When learning to write recursive functions, put the base cases first\n",
    "4. Both are recursive functions, even though only the first one has the typical structure\n",
    "\n",
    "If we are deciding between which implementation to use, keep in mind that often times, we write code for someone else to use."
   ]
  }
 ],
 "metadata": {
  "kernelspec": {
   "display_name": "Python 3",
   "language": "python",
   "name": "python3"
  },
  "language_info": {
   "codemirror_mode": {
    "name": "ipython",
    "version": 3
   },
   "file_extension": ".py",
   "mimetype": "text/x-python",
   "name": "python",
   "nbconvert_exporter": "python",
   "pygments_lexer": "ipython3",
   "version": "3.6.8"
  }
 },
 "nbformat": 4,
 "nbformat_minor": 2
}
