{
 "cells": [
  {
   "cell_type": "code",
   "execution_count": 1,
   "metadata": {},
   "outputs": [],
   "source": [
    "%load_ext tutormagic"
   ]
  },
  {
   "cell_type": "markdown",
   "metadata": {},
   "source": [
    "## Inverse Cascade\n",
    "This time, we'll write a function that prints an inverse cascade. An inverse cascade look like the following,\n",
    "\n",
    "1\n",
    "12\n",
    "123\n",
    "1234\n",
    "123\n",
    "12\n",
    "1\n",
    "\n",
    "We will be using the following structure, `inverse cascade` for the implementation,"
   ]
  },
  {
   "cell_type": "code",
   "execution_count": 2,
   "metadata": {},
   "outputs": [],
   "source": [
    "def inverse_cascade(n):\n",
    "    grow(n)\n",
    "    print(n)\n",
    "    shrink(n)"
   ]
  },
  {
   "cell_type": "markdown",
   "metadata": {},
   "source": [
    "<img src = 'inverse.jpg' width = 500/>\n",
    "\n",
    "As we can see above,:\n",
    "1. The `grow` function is responsible for the first three lines, `1`, `12`, and `123`.\n",
    "    * It's called `grow` because for every line, it grows longer\n",
    "2. The `print` function is responsible for the middle line (or the longest line)\n",
    "3. The `shrink` function is responsible for the rest.\n",
    "    * It's called `shrink` because for every line, it shrinks (becomes shorter)\n",
    "    \n",
    "Both `grow` and `shrink` will be related to the following higher-order function `f_then_g`, which takes in 2 functions `f` and `g` and a number `n`. The function will call `f`, then call `g`. "
   ]
  },
  {
   "cell_type": "code",
   "execution_count": 3,
   "metadata": {},
   "outputs": [],
   "source": [
    "def f_then_g(f, g, n):\n",
    "    if n: # if n is not 0\n",
    "        f(n)\n",
    "        g(n)"
   ]
  },
  {
   "cell_type": "markdown",
   "metadata": {},
   "source": [
    "Now we'll define `grow` and `shrink` while making use of `f_then_g`."
   ]
  },
  {
   "cell_type": "code",
   "execution_count": 5,
   "metadata": {},
   "outputs": [],
   "source": [
    "grow = lambda n: f_then_g(grow, print, n // 10)"
   ]
  },
  {
   "cell_type": "markdown",
   "metadata": {},
   "source": [
    "The `grow` implementation above makes sense. When we call `inverse_cascade(1234)`, Python will call `grow(1234)`.\n",
    "\n",
    "1. `grow(1234)` means:\n",
    "    * Call `grow(123)`\n",
    "    * Prints (1234)\n",
    "    \n",
    "But the `print(1234)` won't be executed until Python finishes calling `grow(123)`.\n",
    "\n",
    "2. `grow(123)` means:\n",
    "    * Call `grow(12)`\n",
    "    * print(`123`)\n",
    "    \n",
    "Again, the `print(123)` won't be executed until Python finishes calling `grow(12)`\n",
    "\n",
    "The steps repeats until `n` reaches `0`. At this point, the printing starts from the first digit `1`.\n",
    "\n",
    "Meanwhile, the implementation for `shrink` is the opposite of `grow`."
   ]
  },
  {
   "cell_type": "code",
   "execution_count": 6,
   "metadata": {},
   "outputs": [],
   "source": [
    "shrink = lambda n: f_then_g(print, shrink, n // 10)"
   ]
  },
  {
   "cell_type": "code",
   "execution_count": 7,
   "metadata": {},
   "outputs": [
    {
     "name": "stdout",
     "output_type": "stream",
     "text": [
      "1\n",
      "12\n",
      "123\n"
     ]
    }
   ],
   "source": [
    "grow(1234)"
   ]
  },
  {
   "cell_type": "code",
   "execution_count": 8,
   "metadata": {},
   "outputs": [
    {
     "name": "stdout",
     "output_type": "stream",
     "text": [
      "123\n",
      "12\n",
      "1\n"
     ]
    }
   ],
   "source": [
    "shrink(1234)"
   ]
  }
 ],
 "metadata": {
  "kernelspec": {
   "display_name": "Python 3",
   "language": "python",
   "name": "python3"
  },
  "language_info": {
   "codemirror_mode": {
    "name": "ipython",
    "version": 3
   },
   "file_extension": ".py",
   "mimetype": "text/x-python",
   "name": "python",
   "nbconvert_exporter": "python",
   "pygments_lexer": "ipython3",
   "version": "3.6.8"
  }
 },
 "nbformat": 4,
 "nbformat_minor": 2
}
