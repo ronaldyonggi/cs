{
 "cells": [
  {
   "cell_type": "code",
   "execution_count": 1,
   "metadata": {},
   "outputs": [],
   "source": [
    "%load_ext tutormagic"
   ]
  },
  {
   "cell_type": "markdown",
   "metadata": {},
   "source": [
    "# Example: Counting Partitions\n",
    "Counting partitions is a tree-recursive process that's difficult to write without tree recursion. One of the few reasons we learn about partition in this course is to solve problems like this."
   ]
  },
  {
   "cell_type": "markdown",
   "metadata": {},
   "source": [
    "## Counting Partitions\n",
    "The number of partitions of a positive integer `n`, using parts up to size `m`, is the number of ways in which `n` can be expressed as the sum of positive integer parts up to `m` in increasing order. \n",
    "\n",
    "For example, let's say we want to calculate `count_partitions(6, 4)`. This means we want all the calculations that counts to `6` using parts with sizes up to `4`. \n",
    "\n",
    "The following is the partitions:\n",
    "\n",
    "<img src = 'partition.jpg' width = 800/>\n",
    "\n",
    "Notice that all the sums are expressed in increasing order (e.g. `2 + 4`, but we don't have `4 + 2`). Also notice that the biggest number that it uses is `4`. The right side is an illustration of the grouping. \n",
    "\n",
    "The idea is that we're counting the number of ways `6` can be broken down to groups. In this case, we see that there are `9` different ways and thus, `count_partitions(6, 4)` should return `9`. \n",
    "\n",
    "To calculate the partitions, we need a strategy."
   ]
  },
  {
   "cell_type": "markdown",
   "metadata": {},
   "source": [
    "## Strategy for Counting Partitions\n",
    "1. Recursive Decomposition: express the problem in terms of simpler instances of the same problem. \n",
    "2. We can do recursive decomposition by exploring 2 possibilities:\n",
    "    * Use at least one group of `4` in the sum calculation\n",
    "    * Don't use any `4` (use parts up to `3` max)\n",
    "    \n",
    "Below is a representation of splitting the problem to 2 groups: using `4` (the 2 partitions at the top) and not using any `4` (the rest):\n",
    "\n",
    "<img src = 'partition_split.jpg' width = 500/>\n",
    "\n",
    "3. Solve 2 simpler problems by making 2 separate recursive calls:\n",
    "\n",
    "<img src = 'simpler.jpg' width = 700/>\n",
    "\n",
    "When we call `count_partitions(6, 3)`, we can execute another recursive decomposition, separating the problem once again to smaller problems: using `3` and not using any `3`.\n",
    "    * `count_partition(3, 3)`\n",
    "    * `count_partition(6, 2)`\n",
    "\n",
    "<img src = 'simpler_2.jpg' width = 700/>\n",
    "\n",
    "With the `count_partition(6, 2)` call, we can still execute another recursive decomposition! \n",
    "\n",
    "<img src = 'simpler_3.jpg' width = 700/>\n",
    "\n",
    "Tree recursion can be considered a technique that explores different choices or possibilities.\n",
    "\n"
   ]
  },
  {
   "cell_type": "markdown",
   "metadata": {},
   "source": [
    "## Writing the Implementation\n",
    "We define `count_partitions(n, m)` that counts the partitions of an integer `n` using parts up to size `m`."
   ]
  },
  {
   "cell_type": "code",
   "execution_count": null,
   "metadata": {},
   "outputs": [],
   "source": [
    "def count_partitions(n, m):"
   ]
  },
  {
   "cell_type": "markdown",
   "metadata": {},
   "source": [
    "The **recursive decomposition** that we discussed earlier is part of the recursive case. Let's implement that first!"
   ]
  },
  {
   "cell_type": "code",
   "execution_count": null,
   "metadata": {},
   "outputs": [],
   "source": [
    "else:\n",
    "    # Count the partition of n-m using parts up to size m\n",
    "    with_m = count_partitions(n-m, m)\n",
    "    # Count the partition of n using parts that are smaller than m\n",
    "    without_m = count_partitions(n, m-1)\n",
    "    # Sum the cases where we used m and the cases where we did not\n",
    "    return with_m + without_m"
   ]
  },
  {
   "cell_type": "markdown",
   "metadata": {},
   "source": [
    "<img src = 'implement.jpg' width = 800/>\n",
    "\n",
    "Now we can start implementing base cases.\n",
    "1. If `n` is `0`, or if we are partitioning `0`, there's only 1 way to do it: just use `0`\n",
    "2. If `n` < `0`, or if we are partitioning a negative number, this is impossible. Thus, there's `0` way to do this\n",
    "3. If `m` == `0`, or if we can only use parts up to `0`, then we can't make anything with this. Thus, there's `0` way."
   ]
  },
  {
   "cell_type": "code",
   "execution_count": null,
   "metadata": {},
   "outputs": [],
   "source": [
    "def count_partitions(n, m):\n",
    "    if n == 0:\n",
    "        return 1\n",
    "    elif n < 0:\n",
    "        return 0\n",
    "    elif m == 0:\n",
    "        return 0\n",
    "    else:\n",
    "        with_m = count_partitions(n-m, m)\n",
    "        without_m = count_partitions(n, m-1)\n",
    "        return with_m + without_m"
   ]
  }
 ],
 "metadata": {
  "kernelspec": {
   "display_name": "Python 3",
   "language": "python",
   "name": "python3"
  },
  "language_info": {
   "codemirror_mode": {
    "name": "ipython",
    "version": 3
   },
   "file_extension": ".py",
   "mimetype": "text/x-python",
   "name": "python",
   "nbconvert_exporter": "python",
   "pygments_lexer": "ipython3",
   "version": "3.6.8"
  }
 },
 "nbformat": 4,
 "nbformat_minor": 2
}
