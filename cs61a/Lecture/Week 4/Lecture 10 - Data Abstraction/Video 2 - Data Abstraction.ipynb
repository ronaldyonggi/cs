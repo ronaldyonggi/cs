{
 "cells": [
  {
   "cell_type": "code",
   "execution_count": 18,
   "metadata": {},
   "outputs": [],
   "source": [
    "%load_ext tutormagic"
   ]
  },
  {
   "cell_type": "markdown",
   "metadata": {},
   "source": [
    "# ====================== Video 2 ======================="
   ]
  },
  {
   "cell_type": "markdown",
   "metadata": {},
   "source": [
    "# Data Abstraction\n",
    "Data abstraction is a new method of abstraction. \n",
    "\n",
    "Most values out there are compound values / objects. They combine different objects together to create some object with multiple parts.\n",
    "\n",
    "Some examples:\n",
    "1. A date has:\n",
    "    * Year\n",
    "    * Month\n",
    "    * Day\n",
    "    \n",
    "\n",
    "2. A geographic position has:\n",
    "    * Latitude\n",
    "    * Longitude\n",
    "    \n",
    "An **abstract data type** lets us manipulate compound objects as units.\n",
    "* It allows us to isolate 2 parts of any program that uses data: how data are...\n",
    "    * represented (as parts)\n",
    "    * manipulated (as units)\n",
    "   \n",
    "<div class=\"alert alert-block alert-info\">\n",
    "<b>Definition of data abstraction:</b> a methodology by which functions enforce an abstraction barrier between <b>representation</b> and <b>use</b>\n",
    "</div>\n"
   ]
  },
  {
   "cell_type": "markdown",
   "metadata": {},
   "source": [
    "## Rational Numbers\n",
    "Rational number can be expressed as:\n",
    "\n",
    "$$ \\frac{numerator}{denominator} $$\n",
    "\n",
    "Both `numerator` and `denominator` are integers and thus, we can make an **exact representation of fractions**.\n",
    "\n",
    "At first we have a **pair of integers** that represents exactly the fraction (e.g. $ \\frac{1}{3} $). However, as soon as we execute the division, we'll obtain a `float`. A `float` is not an exact representation, instead it is a finite approximation.\n",
    "\n",
    "Assume that we can compose and decompose rational numbers as follow: we have the function...\n",
    "* `rational(n, d)` which takes `n` as numerator and `d` as denominator and returns a compound data type: a rational number `x`. \n",
    "* `numer(x)`, which returns the numerator of a rational number `x`\n",
    "* `denom(x)`, which returns the denominator of `x` \n",
    "\n",
    "\n",
    "* The `rational(n, d)` is a **constructor**: it builds a new value - an instance for abstract data type.\n",
    "* `numer(x)` and `denom(x)` are **selectors**: functions that return parts of the whole rational number."
   ]
  },
  {
   "cell_type": "markdown",
   "metadata": {},
   "source": [
    "## Rational Number Arithmetic\n",
    "We start by writing functions that manipulate rational numbers (e.g. add or multiply them together). \n",
    "\n",
    "### Example 1: Multiplication\n",
    "$$\\frac {3} {2} \\times \\frac {3} {5} = \\frac{9}{10}$$\n",
    "\n",
    "The **general formula** for **multiplying 2 rational numbers**:\n",
    "1. The `numerator` of the result is the product of the numerator of the `1st` and `2nd` (`x` and `y`)\n",
    "2. The `denominator` of the result is the product of the denominator of the `1st` and `2nd` (`x` and `y`)\n",
    "\n",
    "$$\\frac {nx} {dx} \\times \\frac {ny} {dy} = \\frac{nx \\times ny}{dx \\times dy}$$\n",
    "\n",
    "### Example 2: Addition\n",
    "Adding together 2 rational numbers is slightly more complicated\n",
    "\n",
    "$$\\frac {3} {2} + \\frac {3} {5} = \\frac{21}{10}$$\n",
    "\n",
    "The **general formula** is as the following,\n",
    "$$\\frac {nx} {dx} + \\frac {ny} {dy} = \\frac{nx \\times dy + ny \\times dx}{dx \\times dy}$$\n",
    "\n",
    "Now that we have the formulas for multiplying and adding rational numbers, how do we implement the code?"
   ]
  },
  {
   "cell_type": "markdown",
   "metadata": {},
   "source": [
    "## Rational Number Arithmetic Implementation\n",
    "We implement it in terms of `constructor` and `selector`.\n",
    "\n",
    "Below is the function that multiplies 2 rational numbers `x` and `y`:"
   ]
  },
  {
   "cell_type": "code",
   "execution_count": 1,
   "metadata": {},
   "outputs": [],
   "source": [
    "def mul_rational(x, y):\n",
    "    return rational(numer(x) * numer(y),\n",
    "                    denom(x) * denom(y)\n",
    "                   )"
   ]
  },
  {
   "cell_type": "markdown",
   "metadata": {},
   "source": [
    "\n",
    "***\n",
    "<img src = 'mul.jpg' width = 500/>\n",
    "\n",
    "Above, we use:\n",
    "1. `Constructor` to create a new rational number\n",
    "2. `Selector`s to select the part of `x` and `y` that we need to complete the formula\n",
    "\n",
    "And below we have the function that adds together 2 rational numbers `x` and `y`:"
   ]
  },
  {
   "cell_type": "code",
   "execution_count": 2,
   "metadata": {},
   "outputs": [],
   "source": [
    "def add_rational(x, y):\n",
    "    nx, dx = numer(x), denom(x)\n",
    "    ny, dy = numer(y), denom(y)\n",
    "    return rational(nx * dy + ny * dx, dx * dy)"
   ]
  },
  {
   "cell_type": "markdown",
   "metadata": {},
   "source": [
    "We also have the function `equal_rational` that checks whether `x` and `y` are the same rational number. Note that we can't just compare `x` and `y` straight. Let's say `x` is $\\frac{1}{2}$ and `y` is $\\frac{2}{4}$. `x` and `y` are the same number, but if we compare whether `x` == `y`, it will return `False`! Thus, we can compae whether `x` and `y` are the same rational number by:\n",
    "\n",
    "1. Multiply the `numerator` of `x` with `denominator` of `y`\n",
    "2. Multiply the `numerator` of `y` with `denominator` of `x`\n",
    "3. Compare the 2 above."
   ]
  },
  {
   "cell_type": "code",
   "execution_count": null,
   "metadata": {},
   "outputs": [],
   "source": [
    "def equal_rational(x, y):\n",
    "    return numer(x) * denom(y) == numer(y) * denom(x)"
   ]
  },
  {
   "cell_type": "markdown",
   "metadata": {},
   "source": [
    "<img src = 'representation.jpg' width = 700/>\n",
    "\n",
    "This means all of the manipulation of numbers that we have done are written in terms of these functions. We have not even defined these functions yet! "
   ]
  }
 ],
 "metadata": {
  "kernelspec": {
   "display_name": "Python 3",
   "language": "python",
   "name": "python3"
  },
  "language_info": {
   "codemirror_mode": {
    "name": "ipython",
    "version": 3
   },
   "file_extension": ".py",
   "mimetype": "text/x-python",
   "name": "python",
   "nbconvert_exporter": "python",
   "pygments_lexer": "ipython3",
   "version": "3.6.8"
  }
 },
 "nbformat": 4,
 "nbformat_minor": 2
}
