{
 "cells": [
  {
   "cell_type": "code",
   "execution_count": 18,
   "metadata": {},
   "outputs": [],
   "source": [
    "%load_ext tutormagic"
   ]
  },
  {
   "cell_type": "markdown",
   "metadata": {},
   "source": [
    "# ========================= Video 5 ========================="
   ]
  },
  {
   "cell_type": "markdown",
   "metadata": {},
   "source": [
    "# Data Representations\n",
    "The purpose of maintaining abstraction barriers is that it allows us to change data representation without having to rewrite the entire program "
   ]
  },
  {
   "cell_type": "markdown",
   "metadata": {},
   "source": [
    "## What is Data?\n",
    "What does it mean for something to represent a rational number?\n",
    "\n",
    "We need to guarantee that `constructor` and `selector` functions work together to specify the right behavior. \n",
    "- We won't have a representation of a rational number unless it behaves like a rational number.\n",
    "\n",
    "Behavior condition: If we construct rational number `x` from numerator `n` and denominator `d`, then,\n",
    "\n",
    "$$ \\frac{numer(x)}{denom(x)} = \\frac{n}{d}$$\n",
    "- We relate the constructor `n` and `d` to the selectors `numer(x)` and `denom(x)` and the operations between them\n",
    "\n",
    "Data abstraction uses constructors and selectors to define behavior. If behavior conditions are met, then the representation is valid.\n",
    "\n",
    "<div class=\"alert alert-block alert-info\">\n",
    "    <b> Key Idea: </b>We can recognize data abstraction by its behavior. Not necessarily by how we constructed or implemented the constructors and selectors.\n",
    "</div>"
   ]
  },
  {
   "cell_type": "markdown",
   "metadata": {},
   "source": [
    "## Demo\n",
    "Let's look back at our example\n",
    "\n",
    "### Rational Arithmetic"
   ]
  },
  {
   "cell_type": "code",
   "execution_count": 5,
   "metadata": {},
   "outputs": [],
   "source": [
    "def add_rational(x, y):\n",
    "    \"\"\" Add rational numbers x and y.\"\"\"\n",
    "    nx, dx = numer(x), denom(x)\n",
    "    ny, dy = numer(y), denom(y)\n",
    "    return rational(nx * dy + ny * dx, dx * dy)\n",
    "\n",
    "def mul_rational(x, y):\n",
    "    \"\"\" Multiply rational numbers x and y.\"\"\"\n",
    "    return rational(numer(x) * numer(y), denom(x) * denom(y))\n",
    "\n",
    "def rationals_are_equal(x, y):\n",
    "    \"\"\" Return whether rational numbers x and y are equal.\"\"\"\n",
    "    return numer(x) * denom(y) == numer(x) * denom(y)\n",
    "\n",
    "def print_rational(x):\n",
    "    \"\"\" Print rational x.\"\"\"\n",
    "    print(numer(x), \"/\", denom(x))"
   ]
  },
  {
   "cell_type": "markdown",
   "metadata": {},
   "source": [
    "All the functions above don't assume anything about the representation itself. Only the `constructor`s and `selector`s exist. \n",
    "\n",
    "## =============== Abstraction Barrier =============\n",
    "\n",
    "### Constructor and Selectors"
   ]
  },
  {
   "cell_type": "code",
   "execution_count": 14,
   "metadata": {},
   "outputs": [],
   "source": [
    "def rational(n, d):\n",
    "    \"\"\" Construct a rational number x that represents n / d.\"\"\"\n",
    "    return [n, d]\n",
    "\n",
    "def numer(x):\n",
    "    \"\"\" Return the numerator of rational number x.\"\"\"\n",
    "    return x[0]\n",
    "\n",
    "def denom(x):\n",
    "    \"\"\" Return the denominator of rational number x.\"\"\"\n",
    "    return x[1]"
   ]
  },
  {
   "cell_type": "code",
   "execution_count": 15,
   "metadata": {},
   "outputs": [],
   "source": [
    "x, y = rational(1, 2), rational(3, 8)"
   ]
  },
  {
   "cell_type": "markdown",
   "metadata": {},
   "source": [
    "Now let's try multiplying `x` and `y` together and `print` the result,"
   ]
  },
  {
   "cell_type": "code",
   "execution_count": 16,
   "metadata": {},
   "outputs": [
    {
     "name": "stdout",
     "output_type": "stream",
     "text": [
      "3 / 16\n"
     ]
    }
   ],
   "source": [
    "print_rational(mul_rational(x, y))"
   ]
  },
  {
   "cell_type": "markdown",
   "metadata": {},
   "source": [
    "Notice here that `x` is a list,"
   ]
  },
  {
   "cell_type": "code",
   "execution_count": 17,
   "metadata": {},
   "outputs": [
    {
     "data": {
      "text/plain": [
       "[1, 2]"
      ]
     },
     "execution_count": 17,
     "metadata": {},
     "output_type": "execute_result"
    }
   ],
   "source": [
    "x"
   ]
  },
  {
   "cell_type": "markdown",
   "metadata": {},
   "source": [
    "It works! We can always change the representation (constructors and selectors) and the code above would still work! For example, instead of using a list to pair together `n` and `d`, we can use a function. Below we change the constructor to be the following,"
   ]
  },
  {
   "cell_type": "code",
   "execution_count": 27,
   "metadata": {},
   "outputs": [],
   "source": [
    "def rational(n, d):\n",
    "    \"\"\" Construct a rational number x that represents n/d.\"\"\"\n",
    "    def select(name):\n",
    "        if name == 'n':\n",
    "            return n\n",
    "        elif name == 'd':\n",
    "            return d\n",
    "    return select"
   ]
  },
  {
   "cell_type": "markdown",
   "metadata": {},
   "source": [
    "Constructors and selectors are complement to each other. Thus we need to modify the selectors `numer` and `denom` as well!\n",
    "\n",
    "If `x` is the result of calling `rational`, then `x` is a `select` function in which we can call with the argument `n` to obtain the numerator."
   ]
  },
  {
   "cell_type": "code",
   "execution_count": 22,
   "metadata": {},
   "outputs": [],
   "source": [
    "def numer(x):\n",
    "    \"\"\" Return the numerator of rational number x.\"\"\"\n",
    "    return x('n')"
   ]
  },
  {
   "cell_type": "markdown",
   "metadata": {},
   "source": [
    "Same thing applies to the `denom`,"
   ]
  },
  {
   "cell_type": "code",
   "execution_count": 23,
   "metadata": {},
   "outputs": [],
   "source": [
    "def denom(x):\n",
    "    \"\"\" Return the denominator of rational number x.\"\"\"\n",
    "    return x('d')"
   ]
  },
  {
   "cell_type": "markdown",
   "metadata": {},
   "source": [
    "Now let's try the code again!"
   ]
  },
  {
   "cell_type": "code",
   "execution_count": 24,
   "metadata": {},
   "outputs": [
    {
     "name": "stdout",
     "output_type": "stream",
     "text": [
      "3 / 16\n"
     ]
    }
   ],
   "source": [
    "x, y = rational(1, 2), rational(3, 8)\n",
    "print_rational(mul_rational(x, y))"
   ]
  },
  {
   "cell_type": "markdown",
   "metadata": {},
   "source": [
    "The code still works! If we want to know the difference between the previous implementation and the current implementation, see that `x` is now a function,"
   ]
  },
  {
   "cell_type": "code",
   "execution_count": 25,
   "metadata": {},
   "outputs": [
    {
     "data": {
      "text/plain": [
       "<function __main__.rational.<locals>.select(name)>"
      ]
     },
     "execution_count": 25,
     "metadata": {},
     "output_type": "execute_result"
    }
   ],
   "source": [
    "x"
   ]
  },
  {
   "cell_type": "markdown",
   "metadata": {},
   "source": [
    "This is a change in **representation**. "
   ]
  },
  {
   "cell_type": "markdown",
   "metadata": {},
   "source": [
    "## Rational Data Abstraction Implemented as Functions\n",
    "What happened when we implemented rational numbers as functions?\n",
    "\n",
    "The `select` function represents the rational number,\n",
    "\n",
    "<img src = 'select.png' width = 300/>\n",
    "\n",
    "The `select` function is then returned by the constructor, the higher-order function `rational`. \n",
    "\n",
    "**Meanwhile**, the `Selector` calls the result of calling `rational`, which is the `select` function.\n",
    "\n",
    "<img src = 'call.jpg' width = 400/>"
   ]
  },
  {
   "cell_type": "code",
   "execution_count": 35,
   "metadata": {},
   "outputs": [
    {
     "data": {
      "text/html": [
       "\n",
       "        <iframe\n",
       "            width=\"100%\"\n",
       "            height=\"350\"\n",
       "            src=\"http://pythontutor.com/iframe-embed.html#code=%0Adef%20rational%28n%2C%20d%29%3A%0A%20%20%20%20%22%22%22%20Construct%20a%20rational%20number%20x%20that%20represents%20n/d.%22%22%22%0A%20%20%20%20def%20select%28name%29%3A%0A%20%20%20%20%20%20%20%20if%20name%20%3D%3D%20%27n%27%3A%0A%20%20%20%20%20%20%20%20%20%20%20%20return%20n%0A%20%20%20%20%20%20%20%20elif%20name%20%3D%3D%20%27d%27%3A%0A%20%20%20%20%20%20%20%20%20%20%20%20return%20d%0A%20%20%20%20return%20select%0A%0Adef%20numer%28x%29%3A%0A%20%20%20%20%22%22%22%20Return%20the%20numerator%20of%20rational%20number%20x.%22%22%22%0A%20%20%20%20return%20x%28%27n%27%29%0A%0Adef%20denom%28x%29%3A%0A%20%20%20%20%22%22%22%20Return%20the%20denominator%20of%20rational%20number%20x.%22%22%22%0A%20%20%20%20return%20x%28%27d%27%29%0A%0Ax%20%3D%20rational%283%2C%208%29%0Anumer%28x%29%0A&origin=opt-frontend.js&cumulative=false&heapPrimitives=false&textReferences=false&curInstr=0&&verticalStack=false&py=3&rawInputLstJSON=%5B%5D&codeDivWidth=50%25&codeDivHeight=100%25\"\n",
       "            frameborder=\"0\"\n",
       "            allowfullscreen\n",
       "        ></iframe>\n",
       "        "
      ],
      "text/plain": [
       "<IPython.lib.display.IFrame at 0x10e4ff0>"
      ]
     },
     "metadata": {},
     "output_type": "display_data"
    }
   ],
   "source": [
    "%%tutor --lang python3\n",
    "\n",
    "def rational(n, d):\n",
    "    \"\"\" Construct a rational number x that represents n/d.\"\"\"\n",
    "    def select(name):\n",
    "        if name == 'n':\n",
    "            return n\n",
    "        elif name == 'd':\n",
    "            return d\n",
    "    return select\n",
    "\n",
    "def numer(x):\n",
    "    \"\"\" Return the numerator of rational number x.\"\"\"\n",
    "    return x('n')\n",
    "\n",
    "def denom(x):\n",
    "    \"\"\" Return the denominator of rational number x.\"\"\"\n",
    "    return x('d')\n",
    "\n",
    "x = rational(3, 8)\n",
    "numer(x)"
   ]
  },
  {
   "cell_type": "code",
   "execution_count": null,
   "metadata": {},
   "outputs": [],
   "source": []
  }
 ],
 "metadata": {
  "kernelspec": {
   "display_name": "Python 3",
   "language": "python",
   "name": "python3"
  },
  "language_info": {
   "codemirror_mode": {
    "name": "ipython",
    "version": 3
   },
   "file_extension": ".py",
   "mimetype": "text/x-python",
   "name": "python",
   "nbconvert_exporter": "python",
   "pygments_lexer": "ipython3",
   "version": "3.6.8"
  }
 },
 "nbformat": 4,
 "nbformat_minor": 2
}
