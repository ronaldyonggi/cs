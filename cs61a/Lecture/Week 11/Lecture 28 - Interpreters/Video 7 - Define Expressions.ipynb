{
 "cells": [
  {
   "cell_type": "markdown",
   "metadata": {},
   "source": [
    "# Define Expressions"
   ]
  },
  {
   "cell_type": "markdown",
   "metadata": {},
   "source": [
    "To support abstraction in our programming language, we need to be able to bind symbols to values. This can be done via `Define` expressions.\n",
    "\n",
    "`Define` binds a symbol to a value in the first frame of the current environment. From the previous video, we just saw that Frame are objects that behave like dictionaries, but they can chain since they have parent. This means when we look for a name, we might find it in the parent frame. "
   ]
  },
  {
   "cell_type": "code",
   "execution_count": null,
   "metadata": {},
   "outputs": [],
   "source": [
    "(define <name> <expression>)"
   ]
  },
  {
   "cell_type": "markdown",
   "metadata": {},
   "source": [
    "The steps are the following:\n",
    "\n",
    "1. Evaluate the `<expression>`\n",
    "2. Bind `<name>` to its value in the current frame\n",
    "\n",
    "Thus if we define `x` to be the following,"
   ]
  },
  {
   "cell_type": "code",
   "execution_count": null,
   "metadata": {},
   "outputs": [],
   "source": [
    "(define x (+ 1 2))"
   ]
  },
  {
   "cell_type": "markdown",
   "metadata": {},
   "source": [
    "The program evalutes `(+ 1 2)` so that we obtain `3`. Then `x` is bound to `3`.\n",
    "\n",
    "\n",
    "Procedure definition is shorthand of `define` with a lambda expression. Thus, when we define a new procedure,"
   ]
  },
  {
   "cell_type": "code",
   "execution_count": null,
   "metadata": {},
   "outputs": [],
   "source": [
    "(define (<name> <formal parameters>) <body>)"
   ]
  },
  {
   "cell_type": "markdown",
   "metadata": {},
   "source": [
    "This is the same as defining a new name that evaluates to a procedure with some `<formal parameters>` and a `<body>`"
   ]
  },
  {
   "cell_type": "code",
   "execution_count": null,
   "metadata": {},
   "outputs": [],
   "source": [
    "(define <name> (lambda (<formal parameters) <body>))"
   ]
  },
  {
   "cell_type": "markdown",
   "metadata": {},
   "source": [
    "The 2 `define` expressions above are equivalent and thus should be handled in the same way in the interpreter. This way, when the program encounter a `define` expression like the first one, it gets converted to the second one, then we apply the regular procedure for evaluating a lambda expression and binding the resulting value to a `<name>`"
   ]
  },
  {
   "cell_type": "markdown",
   "metadata": {},
   "source": [
    "## Applying User-Defined Procedures"
   ]
  },
  {
   "cell_type": "markdown",
   "metadata": {},
   "source": [
    "To apply a user-defined procedure, create a new frame in which formal parameters are bound to argument values, whose parent is the `env` of the procedure.\n",
    "\n",
    "`env` is an attribute of the `Procedure` object that remembers the environment in which the procedure was originally defined. \n",
    "\n",
    "The next step is to evaluate the body of the procedure in the environment that starts with this new frame.\n",
    "\n",
    "Recall the `demo` procedure,"
   ]
  },
  {
   "cell_type": "code",
   "execution_count": null,
   "metadata": {},
   "outputs": [],
   "source": [
    "(define (demo s)\n",
    "  (if (null? s)\n",
    "      '(3)\n",
    "      (cons (car s) (demo (cdr s)))\n",
    "      ) ; End of if statement\n",
    "  ); End of demo definition"
   ]
  },
  {
   "cell_type": "markdown",
   "metadata": {},
   "source": [
    "This `demo` procedure takes a list and returns a list that has the same elements but with additional `3` at the end.\n",
    "\n",
    "Let's analyze the created environment.\n",
    "\n",
    "When we define `demo`, the program binds the name `demo` to a `LambdaProcedure` instance that has the global frame as the parent."
   ]
  },
  {
   "cell_type": "markdown",
   "metadata": {},
   "source": [
    "<img src = 'demo.png' width = 500/>"
   ]
  },
  {
   "cell_type": "markdown",
   "metadata": {},
   "source": [
    "When we call `(demo (list 1 2))`, the program creates a `(list 1 2)` that is represented by nested `Pair`s. Then the program creates a new environment that has `g` as its parent, in which it has the name `s` bound to the nested `Pair`s that was created."
   ]
  },
  {
   "cell_type": "markdown",
   "metadata": {},
   "source": [
    "<img src = 'pair.png' width = 500/>"
   ]
  },
  {
   "cell_type": "markdown",
   "metadata": {},
   "source": [
    "Then the program checks if `s` is null. It's not! The program then calls `demo` on `cdr s`, which is everything but the first element (the `Pair` object that contains `1`). This time, `s` is bound to everything but the `Pair` that contains 1."
   ]
  },
  {
   "cell_type": "markdown",
   "metadata": {},
   "source": [
    "<img src = 'pair2.png' width = 500/>"
   ]
  },
  {
   "cell_type": "markdown",
   "metadata": {},
   "source": [
    "Making another recursive call, finally `s` is bound to `nil`. This time, when we evaluate the body of `demo`, `s` is indeed `nil`. The program returns `(3)`."
   ]
  },
  {
   "cell_type": "markdown",
   "metadata": {},
   "source": [
    "## Eval/Apply in Lisp 1.5"
   ]
  },
  {
   "cell_type": "markdown",
   "metadata": {},
   "source": [
    "The idea that we can evaluate and apply recursively had been present since long time ago. "
   ]
  },
  {
   "cell_type": "markdown",
   "metadata": {},
   "source": [
    "<img src = 'lisp.png' width = 600/>"
   ]
  },
  {
   "cell_type": "markdown",
   "metadata": {},
   "source": [
    "Above is the original definition of `Apply` and `Eval` in the documentation for Lisp 1.5, which is the predecessor to Scheme language. As we can see, it has a lot in common with what we see in Scheme language. It kept track of `CAR`, `CDR` and `CONS`, which are built-in. "
   ]
  },
  {
   "cell_type": "markdown",
   "metadata": {},
   "source": [
    "<img src = 'carcdr.png' width = 500/>"
   ]
  },
  {
   "cell_type": "markdown",
   "metadata": {},
   "source": [
    "There's also a check that checks if something is ATOMic (just a number),"
   ]
  },
  {
   "cell_type": "markdown",
   "metadata": {},
   "source": [
    "<img src = 'atom.png' width = 500/>"
   ]
  },
  {
   "cell_type": "markdown",
   "metadata": {},
   "source": [
    "There's a built-in notion of equality,"
   ]
  },
  {
   "cell_type": "markdown",
   "metadata": {},
   "source": [
    "<img src = 'eq.png' width = 500/>"
   ]
  },
  {
   "cell_type": "code",
   "execution_count": null,
   "metadata": {},
   "outputs": [],
   "source": []
  }
 ],
 "metadata": {
  "kernelspec": {
   "display_name": "Calysto Scheme 3",
   "language": "scheme",
   "name": "calysto_scheme"
  },
  "language_info": {
   "codemirror_mode": {
    "name": "scheme"
   },
   "mimetype": "text/x-scheme",
   "name": "scheme",
   "pygments_lexer": "scheme"
  }
 },
 "nbformat": 4,
 "nbformat_minor": 2
}
