{
 "cells": [
  {
   "cell_type": "markdown",
   "metadata": {},
   "source": [
    "# Logical Forms"
   ]
  },
  {
   "cell_type": "markdown",
   "metadata": {},
   "source": [
    "## Logical Special Forms"
   ]
  },
  {
   "cell_type": "markdown",
   "metadata": {},
   "source": [
    "Logical special forms are things that involve conditions and only evaluate some sub-expressions. An example if an `if` expression."
   ]
  },
  {
   "cell_type": "code",
   "execution_count": null,
   "metadata": {},
   "outputs": [],
   "source": [
    "(if <predicate> <consequent> <alternative)"
   ]
  },
  {
   "cell_type": "markdown",
   "metadata": {},
   "source": [
    "The evaluation procedure: evaluate the `<predicate>`, then choose either the `<consequent>` or the `<alternative>`"
   ]
  },
  {
   "cell_type": "markdown",
   "metadata": {},
   "source": [
    "Another example is `and` and `or`."
   ]
  },
  {
   "cell_type": "code",
   "execution_count": null,
   "metadata": {},
   "outputs": [],
   "source": [
    "(and <e1> ... <en>)\n",
    "(or <e1> ... <en>)"
   ]
  },
  {
   "cell_type": "markdown",
   "metadata": {},
   "source": [
    "We evaluate each of the sub-expression from left to right until we know whether the entire expression is `True` or `False`."
   ]
  },
  {
   "cell_type": "markdown",
   "metadata": {},
   "source": [
    "And we also have the `cond` expression. It involves not only `if-else` clauses but also a bunch of `elif` clauses. This is akin to conditional statements in Python.\n",
    "\n",
    "For all the above, it could be the case that some sub-expressions won't ever be evaluated."
   ]
  },
  {
   "cell_type": "markdown",
   "metadata": {},
   "source": [
    "The value of an `if` expression is the value of a sub-expression. If we're going to evaluate an `if` expression:\n",
    "1. Evaluate the predicate\n",
    "2. Choose a sub-expression: `<consequent>` or `<alternative>`\n",
    "3. Evaluate that sub-expression in place of the whole expression\n",
    "\n",
    "In the interpreter, `do_if_form` is a Python function that is called every time the interpreter encounters an `if` expression. The `do_if_form` evaluates the predicate and chooses the sub-expression to be evaluated next."
   ]
  },
  {
   "cell_type": "markdown",
   "metadata": {},
   "source": [
    "<img src = 'do_if.png' width = 800/>"
   ]
  },
  {
   "cell_type": "markdown",
   "metadata": {},
   "source": [
    "We already have a function that evaluates sub-expressions: `scheme_eval`. We use `scheme_eval` to do the rest of the work. This way, the total effort of evaluating an `if` expression is broken into 2 pieces."
   ]
  },
  {
   "cell_type": "markdown",
   "metadata": {},
   "source": [
    "<img src = 'scheme_eval.png' width = 500/>"
   ]
  },
  {
   "cell_type": "markdown",
   "metadata": {},
   "source": [
    "## Demo - Running `scheme.py`"
   ]
  },
  {
   "cell_type": "markdown",
   "metadata": {},
   "source": [
    "If we evaluate an `if` expression, "
   ]
  },
  {
   "cell_type": "code",
   "execution_count": null,
   "metadata": {},
   "outputs": [],
   "source": [
    "scm> (if #t 1 2)\n",
    "scheme_eval(Pair('if', Pair(True, Pair(1, Pair(2, nil)))), <Global Frame>):\n",
    "    scheme_eval(True, <Global Frame>):\n",
    "    scheme_eval(True, <Global Frame>) -> True\n",
    "    scheme_eval(1, <Global Frame>):\n",
    "    scheme_eval(1, <Global Frame>) -> 1\n",
    "scheme_eval(Pair('if', Pair(True, Pair(1, Pair(2, nil)))), <Global Frame>) -> 1\n",
    "1"
   ]
  },
  {
   "cell_type": "markdown",
   "metadata": {},
   "source": [
    "The program evaluates the entire expression `Pair('if', Pair(True, Pair(1, Pair(2, nil))))` by evaluating the predicate,"
   ]
  },
  {
   "cell_type": "code",
   "execution_count": null,
   "metadata": {},
   "outputs": [],
   "source": [
    "scheme_eval(True, <Global Frame>) -> True"
   ]
  },
  {
   "cell_type": "markdown",
   "metadata": {},
   "source": [
    "then evaluating the `consequent`, not the `alternative`."
   ]
  },
  {
   "cell_type": "code",
   "execution_count": null,
   "metadata": {},
   "outputs": [],
   "source": [
    "scheme_eval(1, <Global Frame>) -> 1"
   ]
  },
  {
   "cell_type": "markdown",
   "metadata": {},
   "source": [
    "Thus, `2` is never evaluated in the course of evaluation above. Thus, even if set the `alternative` as something that gives an error, it won't be evaluated and thus, we won't get the error!"
   ]
  },
  {
   "cell_type": "code",
   "execution_count": null,
   "metadata": {},
   "outputs": [],
   "source": [
    "scm> (if #t 1 (/ 1 0))\n",
    "scheme_eval(Pair('if', Pair(True, Pair(1, Pair(Pair('/', Pair(1, Pair(0, nil))), nil)))), <Global Frame>):\n",
    "    scheme_eval(True, <Global Frame>):\n",
    "    scheme_eval(True, <Global Frame>) -> True\n",
    "    scheme_eval(1, <Global Frame>):\n",
    "    scheme_eval(1, <Global Frame>) -> 1\n",
    "scheme_eval(Pair('if', Pair(True, Pair(1, Pair(Pair('/', Pair(1, Pair(0, nil))), nil)))), <Global Frame>) -> 1\n",
    "1"
   ]
  },
  {
   "cell_type": "markdown",
   "metadata": {},
   "source": [
    "On the other hand, if the `predicate` were `False`, then we'll obtain an error since the program tries to evaluate `1 / 0`"
   ]
  },
  {
   "cell_type": "code",
   "execution_count": null,
   "metadata": {},
   "outputs": [],
   "source": [
    "scm> (if #f 1 (/ 1 0))\n",
    "scheme_eval(Pair('if', Pair(False, Pair(1, Pair(Pair('/', Pair(1, Pair(0, nil))), nil)))), <Global Frame>):\n",
    "    scheme_eval(False, <Global Frame>):\n",
    "    scheme_eval(False, <Global Frame>) -> False\n",
    "    scheme_eval(Pair('/', Pair(1, Pair(0, nil))), <Global Frame>):\n",
    "        scheme_eval('/', <Global Frame>):\n",
    "        scheme_eval('/', <Global Frame>) -> #[/]\n",
    "        scheme_eval(1, <Global Frame>):\n",
    "        scheme_eval(1, <Global Frame>) -> 1\n",
    "        scheme_eval(0, <Global Frame>):\n",
    "        scheme_eval(0, <Global Frame>) -> 0\n",
    "        scheme_eval exited via exception\n",
    "    scheme_eval exited via exception\n",
    "Error: division by zero"
   ]
  }
 ],
 "metadata": {
  "kernelspec": {
   "display_name": "Calysto Scheme 3",
   "language": "scheme",
   "name": "calysto_scheme"
  },
  "language_info": {
   "codemirror_mode": {
    "name": "scheme"
   },
   "mimetype": "text/x-scheme",
   "name": "scheme",
   "pygments_lexer": "scheme"
  }
 },
 "nbformat": 4,
 "nbformat_minor": 2
}
