{
 "cells": [
  {
   "cell_type": "markdown",
   "metadata": {},
   "source": [
    "# Interpreting Scheme"
   ]
  },
  {
   "cell_type": "markdown",
   "metadata": {},
   "source": [
    "This lecture will be mostly about the structure of the interpreter that we are going to build in Project 4 : Scheme Interpreter. We are going to create a program that's able to understand other programs."
   ]
  },
  {
   "cell_type": "markdown",
   "metadata": {},
   "source": [
    "## The Structure of an Interpreter"
   ]
  },
  {
   "cell_type": "markdown",
   "metadata": {},
   "source": [
    "The structure of the interpreter have a lot in common with the **calculator** program that we examined. We have an `Eval` and `Apply` function."
   ]
  },
  {
   "cell_type": "markdown",
   "metadata": {},
   "source": [
    "<img src = 'structure_1.png' width = 500/>"
   ]
  },
  {
   "cell_type": "markdown",
   "metadata": {},
   "source": [
    "`Eval` evaluates primitive and combined expressions. When `Eval` finds one of those, `Eval` calls `Apply` to apply some procedure to some arguments. Both `Eval` and `Apply` are recursive."
   ]
  },
  {
   "cell_type": "markdown",
   "metadata": {},
   "source": [
    "#### `Eval` - Calculator Version"
   ]
  },
  {
   "cell_type": "markdown",
   "metadata": {},
   "source": [
    "The base case is that if `Eval` came across primitive values (e.g. numbers), then just return the values.\n",
    "\n",
    "For the recursive case, if `Eval` came across combinations, such as `operator` and `operands` of call expressions, the interpreter has to evaluate both the `operator` and the `operands` to obtain the pieces that we are going to apply. Recall that:\n",
    "\n",
    "\"We apply the **procedure**, which is **the value of the operator expression**, to the **arguments** that are **the values of the operands**. We can obtain these values simply by calling `Eval`.\"\n",
    "\n",
    "The next step is that `Eval` makes a call to `Apply`. So far this is what we have for the calculator program."
   ]
  },
  {
   "cell_type": "markdown",
   "metadata": {},
   "source": [
    "<img src = 'structure_2.png' width = 400/>"
   ]
  },
  {
   "cell_type": "markdown",
   "metadata": {},
   "source": [
    "#### `Apply` - Calculator Version"
   ]
  },
  {
   "cell_type": "markdown",
   "metadata": {},
   "source": [
    "In the calculator example, everything is a base case. We only need to apply built-in primitive procedures (e.g. +, -, /). However, for the interpreter, We want to extend `Apply` so that it's able to apply user-defined procedures."
   ]
  },
  {
   "cell_type": "markdown",
   "metadata": {},
   "source": [
    "<img src = 'structure_3.png' width = 500/>"
   ]
  },
  {
   "cell_type": "markdown",
   "metadata": {},
   "source": [
    "#### `Eval` - Extended for Interpreter"
   ]
  },
  {
   "cell_type": "markdown",
   "metadata": {},
   "source": [
    "For the extended version, we have an additional base case for `Eval`: look up values bound to symbols. And we have an additional recursive case: evaluate sub-expressions of **special forms** (e.g. `if`, `cond`, etc.). Special forms have different semantics and evaluation procedures; however, they also have sub-expressions, which have to be evaluated, thus we need to recursive call `Eval` on those sub-expressions."
   ]
  },
  {
   "cell_type": "markdown",
   "metadata": {},
   "source": [
    "<img src = 'structure_4.png' width = 500/>"
   ]
  },
  {
   "cell_type": "markdown",
   "metadata": {},
   "source": [
    "#### `Apply` - Extended for Interpreter"
   ]
  },
  {
   "cell_type": "markdown",
   "metadata": {},
   "source": [
    "This time we have a recursive call to apply user-defined procedure: we just evaluate the `body` of that procedure. This means we call `Eval` on the body of that procedure."
   ]
  },
  {
   "cell_type": "markdown",
   "metadata": {},
   "source": [
    "<img src = 'structure_5.png' width = 500/>"
   ]
  },
  {
   "cell_type": "markdown",
   "metadata": {},
   "source": [
    "`Eval` calls `Apply` in order to apply procedures. `Apply` calls `Eval` to evaluate the body of those procedures. Thus, we have a 2 mutually recursive functions. \n",
    "\n",
    "`Eval` requires an environment to handle the new base case of looking up symbols. The environment remembers what names mean."
   ]
  },
  {
   "cell_type": "markdown",
   "metadata": {},
   "source": [
    "<img src = 'structure_6.png' width = 500/>"
   ]
  },
  {
   "cell_type": "markdown",
   "metadata": {},
   "source": [
    "How does the environment get constructed? \n",
    "\n",
    "`Apply` also creates a new environment each time a user-defined procedure is applied.\n",
    "\n",
    "This is the same as Python: every time we call a function, we create a new environment. Here, every time we `Apply` a procedure, we create a new environment. This environment will be passed to `Eval` so that the program can do symbol lookup."
   ]
  }
 ],
 "metadata": {
  "kernelspec": {
   "display_name": "Python 3",
   "language": "python",
   "name": "python3"
  },
  "language_info": {
   "codemirror_mode": {
    "name": "ipython",
    "version": 3
   },
   "file_extension": ".py",
   "mimetype": "text/x-python",
   "name": "python",
   "nbconvert_exporter": "python",
   "pygments_lexer": "ipython3",
   "version": "3.7.3"
  }
 },
 "nbformat": 4,
 "nbformat_minor": 2
}
