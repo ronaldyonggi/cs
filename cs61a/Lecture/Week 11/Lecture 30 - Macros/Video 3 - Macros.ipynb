{
 "cells": [
  {
   "cell_type": "code",
   "execution_count": 6,
   "metadata": {},
   "outputs": [
    {
     "data": {
      "text/plain": [
       "ok"
      ]
     },
     "execution_count": 6,
     "metadata": {},
     "output_type": "execute_result"
    }
   ],
   "source": [
    "(require 'macro)"
   ]
  },
  {
   "cell_type": "markdown",
   "metadata": {},
   "source": [
    "#### Writer Note:\n",
    "The Calysto Scheme kernel does not use the `(define-macro)` syntax. Instead, Calysto Scheme kernel uses `(define-syntax)` to create macros."
   ]
  },
  {
   "cell_type": "markdown",
   "metadata": {},
   "source": [
    "# Macros"
   ]
  },
  {
   "cell_type": "markdown",
   "metadata": {},
   "source": [
    "Macros are a feature of Scheme that allows us to define new special forms in the language. In Python, we have a certain inventory of expressions and statement types. The same is true with Scheme, we had defined `lambda`, `if`, `con`, `and`, `or`, etc. Everything else is a procedure. \n",
    "\n",
    "Macros allow us to extend the inventory of expressions and statement types by inventing new kinds of special forms. This means we can change the way the language works, inventing new ways in which the flow of evaluation proceeds through a program.\n",
    "\n",
    "Macros work well in Lisp languages such as Scheme since it's easy to view code as data. Programs are just lists. "
   ]
  },
  {
   "cell_type": "markdown",
   "metadata": {},
   "source": [
    "## Macros Perform Code Transformations"
   ]
  },
  {
   "cell_type": "markdown",
   "metadata": {},
   "source": [
    "The way we'll invent new special forms is to describe how to take parts of the special forms and construct a regular piece of Scheme code out of them and evaluate it.\n",
    "\n",
    "A macro is an operation performed on the source code of a program before evaluation. Macros exist in many languages, but are easiest to define correctly in a language like Lisp where the code is just data.\n",
    "\n",
    "Scheme has a special form `define-macro` that defines a source code transformation. An example is as the following,"
   ]
  },
  {
   "cell_type": "code",
   "execution_count": 1,
   "metadata": {},
   "outputs": [],
   "source": [
    "(define-syntax define-macro\n",
    "  (syntax-rules ()\n",
    "    ((define-macro (name . args) body ...)\n",
    "     (define-syntax name\n",
    "       (rsc-macro-transformer\n",
    "         (let ((transformer (lambda args body ...)))\n",
    "           (lambda (exp env)\n",
    "              (apply transformer (cdr exp)))))))))"
   ]
  },
  {
   "cell_type": "code",
   "execution_count": 2,
   "metadata": {},
   "outputs": [
    {
     "name": "stderr",
     "output_type": "stream",
     "text": [
      "\u001b[0;31m\n",
      "Traceback (most recent call last):\n",
      "  File \"In [2]\", line 3, col 1\n",
      "ParseError: no matching clause found for (define-macro (twice expr) (list (quote begin) expr expr))\n",
      "\n",
      "\u001b[0m"
     ]
    }
   ],
   "source": [
    "; This is the define-macro syntax. It's included here for educational purpose and assignments\n",
    "\n",
    "(define-macro (twice expr)\n",
    " (list 'begin expr expr))"
   ]
  },
  {
   "cell_type": "code",
   "execution_count": 15,
   "metadata": {},
   "outputs": [],
   "source": [
    "; This is the define-syntax version that works for the Calysto Scheme. Use this version when actually executing the cells\n",
    "; in the notebook\n",
    "\n",
    "(define-syntax twice\n",
    "  [(twice ?expr) (list 'begin ?expr ?expr)])"
   ]
  },
  {
   "cell_type": "markdown",
   "metadata": {},
   "source": [
    "As we can see above, it looks very similar to normal procedure definition. The procedure says that when we `twice` an expression `expr`, the program builds a list that starts with `'begin` followed by the `expr` twice. \n",
    "\n",
    "Once we've defined the macro, we can `twice` anything. For example,"
   ]
  },
  {
   "cell_type": "code",
   "execution_count": 16,
   "metadata": {},
   "outputs": [
    {
     "name": "stdout",
     "output_type": "stream",
     "text": [
      "2\n",
      "2\n"
     ]
    },
    {
     "data": {
      "text/plain": [
       "(begin <void> <void>)"
      ]
     },
     "execution_count": 16,
     "metadata": {},
     "output_type": "execute_result"
    }
   ],
   "source": [
    "(twice (print 2))"
   ]
  },
  {
   "cell_type": "markdown",
   "metadata": {},
   "source": [
    "Since `twice` is a macro, it evaluates the body of the macro,"
   ]
  },
  {
   "cell_type": "code",
   "execution_count": null,
   "metadata": {},
   "outputs": [],
   "source": [
    "(list 'begin expr expr)"
   ]
  },
  {
   "cell_type": "markdown",
   "metadata": {},
   "source": [
    "On the expression that we put in as an input,"
   ]
  },
  {
   "cell_type": "code",
   "execution_count": null,
   "metadata": {},
   "outputs": [],
   "source": [
    "(print 2)"
   ]
  },
  {
   "cell_type": "markdown",
   "metadata": {},
   "source": [
    "...before the expression itself is evaluated. Thus, the output would be,"
   ]
  },
  {
   "cell_type": "code",
   "execution_count": null,
   "metadata": {},
   "outputs": [],
   "source": [
    "(begin (print 2) (print 2))"
   ]
  },
  {
   "cell_type": "markdown",
   "metadata": {},
   "source": [
    "The program then evaluates the expression above, which means the program will `print 2` twice."
   ]
  },
  {
   "cell_type": "code",
   "execution_count": null,
   "metadata": {},
   "outputs": [],
   "source": [
    "> (twice (print 2))\n",
    "2\n",
    "2"
   ]
  },
  {
   "cell_type": "markdown",
   "metadata": {},
   "source": [
    "If `twice` were a normal procedure instead of a macro, the expression `(print 2)` within `(twice (print 2))` would have been evaluated before `twice` were called. That way, `2` would only be printed once.\n",
    "\n",
    "The evaluation procedure of a macro call expression is as the following:\n",
    "1. Evaluate the operator sub-expression, which evaluates to a macro\n",
    "2. Call the macro procedure on the operand expressions **without evaluating them first**\n",
    "3. Evaluate the expression returned from the macro procedure. \n",
    "\n",
    "Thus, macros takes in an expression and returns an expression instead of taking in values and returning values."
   ]
  },
  {
   "cell_type": "markdown",
   "metadata": {},
   "source": [
    "## Demo"
   ]
  },
  {
   "cell_type": "code",
   "execution_count": 1,
   "metadata": {},
   "outputs": [
    {
     "name": "stdout",
     "output_type": "stream",
     "text": [
      "2\n"
     ]
    }
   ],
   "source": [
    "(print 2)"
   ]
  },
  {
   "cell_type": "markdown",
   "metadata": {},
   "source": [
    "Above, when we `print 2`, Scheme simply prints 2."
   ]
  },
  {
   "cell_type": "code",
   "execution_count": 2,
   "metadata": {},
   "outputs": [
    {
     "name": "stdout",
     "output_type": "stream",
     "text": [
      "2\n"
     ]
    }
   ],
   "source": [
    "(define x (print 2))"
   ]
  },
  {
   "cell_type": "code",
   "execution_count": 3,
   "metadata": {},
   "outputs": [],
   "source": [
    "x"
   ]
  },
  {
   "cell_type": "markdown",
   "metadata": {},
   "source": [
    "Above, when we define `x`, Scheme prints 2. However, the `print` itself returns nothing. Thus, `x` is bound to nothing.\n",
    "\n",
    "If we want to `print 2` twice, we can use the `begin` keyword,"
   ]
  },
  {
   "cell_type": "code",
   "execution_count": 4,
   "metadata": {},
   "outputs": [
    {
     "name": "stdout",
     "output_type": "stream",
     "text": [
      "2\n",
      "2\n"
     ]
    }
   ],
   "source": [
    "(begin (print 2) (print 2))"
   ]
  },
  {
   "cell_type": "markdown",
   "metadata": {},
   "source": [
    "Let's say we're stuck with only procedures and that we want to define `twice`. "
   ]
  },
  {
   "cell_type": "code",
   "execution_count": 19,
   "metadata": {},
   "outputs": [],
   "source": [
    "(define (twice expr)\n",
    "  (list 'begin expr expr))"
   ]
  },
  {
   "cell_type": "markdown",
   "metadata": {},
   "source": [
    "If we use the `twice` definition above,"
   ]
  },
  {
   "cell_type": "code",
   "execution_count": 20,
   "metadata": {},
   "outputs": [
    {
     "name": "stdout",
     "output_type": "stream",
     "text": [
      "2\n",
      "2\n"
     ]
    },
    {
     "data": {
      "text/plain": [
       "(begin <void> <void>)"
      ]
     },
     "execution_count": 20,
     "metadata": {},
     "output_type": "execute_result"
    }
   ],
   "source": [
    "(twice (print 2))"
   ]
  },
  {
   "cell_type": "markdown",
   "metadata": {},
   "source": [
    "Then Scheme prints `2` and constructs the expression `(begin None None)`. If we want `twice` to return the output that we desired, we would have to quote `'` the argument `expr`,"
   ]
  },
  {
   "cell_type": "code",
   "execution_count": 8,
   "metadata": {},
   "outputs": [
    {
     "data": {
      "text/plain": [
       "(begin (print 2) (print 2))"
      ]
     },
     "execution_count": 8,
     "metadata": {},
     "output_type": "execute_result"
    }
   ],
   "source": [
    "(twice '(print 2))"
   ]
  },
  {
   "cell_type": "markdown",
   "metadata": {},
   "source": [
    "If we want to evaluate the result of `print 2` above, it can be done by using `eval`,"
   ]
  },
  {
   "cell_type": "code",
   "execution_count": 9,
   "metadata": {},
   "outputs": [
    {
     "name": "stdout",
     "output_type": "stream",
     "text": [
      "2\n",
      "2\n"
     ]
    }
   ],
   "source": [
    "(eval (twice '(print 2)))"
   ]
  },
  {
   "cell_type": "markdown",
   "metadata": {},
   "source": [
    "The idea of macro is that the quotation `'` and evaluation procedure is already taken into account. "
   ]
  },
  {
   "cell_type": "code",
   "execution_count": 21,
   "metadata": {},
   "outputs": [
    {
     "name": "stderr",
     "output_type": "stream",
     "text": [
      "\u001b[0;31m\n",
      "Traceback (most recent call last):\n",
      "  File \"In [21]\", line 1, col 22\n",
      "RunTimeError: unbound variable 'expr'\n",
      "\n",
      "\u001b[0m"
     ]
    }
   ],
   "source": [
    "(define-macro (twice expr)\n",
    "  (list 'begin expr expr))"
   ]
  },
  {
   "cell_type": "markdown",
   "metadata": {},
   "source": [
    "With the `twice` implementation above, if we call `twice` on `print 2` once more,"
   ]
  },
  {
   "cell_type": "code",
   "execution_count": null,
   "metadata": {},
   "outputs": [],
   "source": [
    "> (twice (print 2))\n",
    "2\n",
    "2"
   ]
  },
  {
   "cell_type": "markdown",
   "metadata": {},
   "source": [
    "The program makes sure that `print 2` is not evaluated (e.g. by quoting it). We've changed the way the language works. `twice` is now a special form that doesn't involve evaluating the arguments first. This means we have complete control over when and how codes are evaluated inside a macro. \n",
    "\n",
    "What's an application of a macro?\n",
    "\n",
    "Let's say we want to define a procedure that checks whether something is `True` or `False`."
   ]
  },
  {
   "cell_type": "code",
   "execution_count": 12,
   "metadata": {},
   "outputs": [],
   "source": [
    "(define (check val)\n",
    "  (if val\n",
    "      'passed\n",
    "      'failed\n",
    "      ))"
   ]
  },
  {
   "cell_type": "markdown",
   "metadata": {},
   "source": [
    "Now if we have `x` of `-2` and we want to check if `x` is greater than 0, we would have failed the check."
   ]
  },
  {
   "cell_type": "code",
   "execution_count": 13,
   "metadata": {},
   "outputs": [
    {
     "data": {
      "text/plain": [
       "failed"
      ]
     },
     "execution_count": 13,
     "metadata": {},
     "output_type": "execute_result"
    }
   ],
   "source": [
    "(define x -2)\n",
    "(check (> x 0))"
   ]
  },
  {
   "cell_type": "markdown",
   "metadata": {},
   "source": [
    "The program works! Unfortunately, it doesn't tell us which part fails when the code fails. In order to do that, we need access to the expression that was evaluated, `(> x 0)`. In order to do that, we would need a macro. "
   ]
  },
  {
   "cell_type": "code",
   "execution_count": null,
   "metadata": {},
   "outputs": [],
   "source": [
    "; The define-macro version\n",
    "(define-macro (check expr)\n",
    " (list 'if expr ''passed ''fail)"
   ]
  },
  {
   "cell_type": "code",
   "execution_count": 22,
   "metadata": {},
   "outputs": [],
   "source": [
    "; The define-syntax version\n",
    "(define-syntax check\n",
    "  [(check ?expr) (list 'if ?expr ''passed ''fail)])"
   ]
  },
  {
   "cell_type": "code",
   "execution_count": 23,
   "metadata": {},
   "outputs": [
    {
     "data": {
      "text/plain": [
       "(if #f (quote passed) (quote fail))"
      ]
     },
     "execution_count": 23,
     "metadata": {},
     "output_type": "execute_result"
    }
   ],
   "source": [
    "(define x -2)\n",
    "(check (> x 0))"
   ]
  },
  {
   "cell_type": "code",
   "execution_count": null,
   "metadata": {},
   "outputs": [],
   "source": []
  }
 ],
 "metadata": {
  "kernelspec": {
   "display_name": "Calysto Scheme 3",
   "language": "scheme",
   "name": "calysto_scheme"
  },
  "language_info": {
   "codemirror_mode": {
    "name": "scheme"
   },
   "mimetype": "text/x-scheme",
   "name": "scheme",
   "pygments_lexer": "scheme"
  }
 },
 "nbformat": 4,
 "nbformat_minor": 4
}
