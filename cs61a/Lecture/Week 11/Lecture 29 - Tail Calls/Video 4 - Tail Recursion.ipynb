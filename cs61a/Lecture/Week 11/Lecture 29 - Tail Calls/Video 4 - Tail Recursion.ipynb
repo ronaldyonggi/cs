{
 "cells": [
  {
   "cell_type": "markdown",
   "metadata": {},
   "source": [
    "# Tail Recursion"
   ]
  },
  {
   "cell_type": "markdown",
   "metadata": {},
   "source": [
    "This lecture is about solving the extra credit problem on Project 4. This also brings up a very important concept in programming languages: `Tail Recursion`. "
   ]
  },
  {
   "cell_type": "markdown",
   "metadata": {},
   "source": [
    "## Functional Programming"
   ]
  },
  {
   "cell_type": "markdown",
   "metadata": {},
   "source": [
    "Functional programming is the idea that we can organize an entire program according to pure functions, which are modular and can be combined in an interesting way. \n",
    "\n",
    "In functional programming:\n",
    "\n",
    "1. All functions are pure functions\n",
    "    * There's no side effect\n",
    "2. There's no re-assignment and no mutable data types\n",
    "    * When we create something, it says like that permanently\n",
    "3. Name-value bindings are permanent\n",
    "\n",
    "Advantages of functional programming:\n",
    "1. The value of an expression is independent of the order in which sub-expressions are evaluated\n",
    "2. Sub-expressions can be safely be valuated in parallel (if we have multiple processing units) or on demand (wait and see if we need the value of a sub-expression before evaluating it, a.k.a. lazily)\n",
    "\n",
    "The 2 things above are the product of **referential transparency**, the idea that the value of an expression does not change when we substitute one of its subexpression with the value of that subexpression.\n",
    "* This allows us to do memoization without worrying that we're changing the behavior of our program.\n",
    "\n",
    "There are many excitements with functional programming, especially nowadays that computers are having more processing units which make it more feasible to parallelize work automatically. \n",
    "\n",
    "However, there will be no `for` or `while` statements! Is it still possible to make an efficient iteration process? Is recursion the only way?\n",
    "\n",
    "Answer: we can make functional programming efficient using tail recursion!"
   ]
  },
  {
   "cell_type": "markdown",
   "metadata": {},
   "source": [
    "## Recursion and Iteration in Python"
   ]
  },
  {
   "cell_type": "markdown",
   "metadata": {},
   "source": [
    "In Python, recursive calls always create new active frames.\n",
    "\n",
    "Let's say we write a function `factorial(n, k)` that computes `k` $\\times n!$. The recursion definition is as the following,"
   ]
  },
  {
   "cell_type": "code",
   "execution_count": null,
   "metadata": {},
   "outputs": [],
   "source": [
    "def factorial(n, k):\n",
    "    if n == 0:\n",
    "        return k\n",
    "    else:\n",
    "        return factorial(n-1, k * n)"
   ]
  },
  {
   "cell_type": "markdown",
   "metadata": {},
   "source": [
    "The recursive definition takes $\\Theta (n)$ (linear) amount of time and $\\Theta (n)$ (linear) amount of space.\n",
    "\n",
    "Meanwhile, the iterative definition is as the following,"
   ]
  },
  {
   "cell_type": "code",
   "execution_count": null,
   "metadata": {},
   "outputs": [],
   "source": [
    "def factorial(n, k):\n",
    "    while n > 0:\n",
    "        n, k = n-1, k * n\n",
    "    return k"
   ]
  },
  {
   "cell_type": "markdown",
   "metadata": {},
   "source": [
    "The iterative version also takes $\\Theta (n)$ (linear) amount of time, but $\\Theta (1)$ (constant) space since the program only has 2 names that it needs to remember, `n` and `k`!\n",
    "\n",
    "How do we bridge the gap between the space efficiency of the recursive version vs. the iterative version?"
   ]
  },
  {
   "cell_type": "markdown",
   "metadata": {},
   "source": [
    "## Tail Recursion"
   ]
  },
  {
   "cell_type": "markdown",
   "metadata": {},
   "source": [
    "If we read the specification of the Scheme language from the `Revised Report on the Algorithmic Language Scheme`:\n",
    "\n",
    "\"Implementations of Scheme are required to be **properly tail-recursive**. This allows the execution of an iterative computation in constant space, even if the iterative computation is described by a syntactically recursive procedure.\"\n",
    "\n",
    "The idea is that if we write the same logic of the iterative version as a Scheme procedure, "
   ]
  },
  {
   "cell_type": "code",
   "execution_count": null,
   "metadata": {},
   "outputs": [],
   "source": [
    "(define (factorial n k)\n",
    "  (if (zero? n) k\n",
    "      (factorial (- n 1)\n",
    "                 (* k n)\n",
    "                 ) ; End of recursive factorial\n",
    "      ) ; End of if statement\n",
    "  ) ; End of factorial definition"
   ]
  },
  {
   "cell_type": "markdown",
   "metadata": {},
   "source": [
    "The Scheme implementation above should use resources like the Python version of the iterative implementation (linear time, constant space)! But how?\n",
    "\n",
    "**Eliminate the middleman!**\n",
    "\n",
    "Eliminate frames that we don't need anymore when we make recursive calls. "
   ]
  },
  {
   "cell_type": "markdown",
   "metadata": {},
   "source": [
    "## Demo"
   ]
  },
  {
   "cell_type": "code",
   "execution_count": 1,
   "metadata": {},
   "outputs": [],
   "source": [
    "%load_ext tutormagic"
   ]
  },
  {
   "cell_type": "code",
   "execution_count": 2,
   "metadata": {},
   "outputs": [
    {
     "data": {
      "text/html": [
       "\n",
       "        <iframe\n",
       "            width=\"100%\"\n",
       "            height=\"500\"\n",
       "            src=\"http://pythontutor.com/iframe-embed.html#code=%0Adef%20factorial%28n%2C%20k%29%3A%0A%20%20%20%20if%20n%20%3D%3D%200%3A%0A%20%20%20%20%20%20%20%20return%20k%0A%20%20%20%20else%3A%0A%20%20%20%20%20%20%20%20return%20factorial%28n-1%2C%20k%20%2A%20n%29%0A%0Afactorial%284%2C%2010%29%0A&origin=opt-frontend.js&cumulative=false&heapPrimitives=false&textReferences=false&curInstr=0&&verticalStack=false&py=3&rawInputLstJSON=%5B%5D&codeDivWidth=50%25&codeDivHeight=100%25\"\n",
       "            frameborder=\"0\"\n",
       "            allowfullscreen\n",
       "        ></iframe>\n",
       "        "
      ],
      "text/plain": [
       "<IPython.lib.display.IFrame at 0x11212add8>"
      ]
     },
     "metadata": {},
     "output_type": "display_data"
    }
   ],
   "source": [
    "%%tutor --lang python3 -h 500\n",
    "\n",
    "def factorial(n, k):\n",
    "    if n == 0:\n",
    "        return k\n",
    "    else:\n",
    "        return factorial(n-1, k * n)\n",
    "\n",
    "factorial(4, 10)"
   ]
  },
  {
   "cell_type": "code",
   "execution_count": null,
   "metadata": {},
   "outputs": [],
   "source": []
  },
  {
   "cell_type": "markdown",
   "metadata": {},
   "source": [
    "As we can see above, each recursive call to `factorial` creates a new frame. For each `factorial` call, `n` varies. Eventually, we'll get to the point where we call `factorial` on `n` = 0, and finally we obtain the return value 240.\n",
    "\n",
    "<img src = 'factorial.png' width = 150>\n",
    "\n",
    "However, instead of returning the value immediately, Python works its way through the frames that were used.\n",
    "\n",
    "<img src = 'inefficient.png' width = 130>\n",
    "\n",
    "Once we obtain the end return value 240, it's unnecessary to keep `n` and `k`. The cascade of frames were needed only to process the recursive calls initially, but they're not needed to return the end return value. Python keeps them around since that's how Python works by default. A proper tail-recursive language gets rid of this behavior."
   ]
  },
  {
   "cell_type": "markdown",
   "metadata": {},
   "source": [
    " "
   ]
  }
 ],
 "metadata": {
  "kernelspec": {
   "display_name": "Python 3",
   "language": "python",
   "name": "python3"
  },
  "language_info": {
   "codemirror_mode": {
    "name": "ipython",
    "version": 3
   },
   "file_extension": ".py",
   "mimetype": "text/x-python",
   "name": "python",
   "nbconvert_exporter": "python",
   "pygments_lexer": "ipython3",
   "version": "3.7.3"
  }
 },
 "nbformat": 4,
 "nbformat_minor": 4
}
