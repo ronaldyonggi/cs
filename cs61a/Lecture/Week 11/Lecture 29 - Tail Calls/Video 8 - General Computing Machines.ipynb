{
 "cells": [
  {
   "cell_type": "markdown",
   "metadata": {},
   "source": [
    "# General Computing Machines"
   ]
  },
  {
   "cell_type": "markdown",
   "metadata": {},
   "source": [
    "What is it that we're creating when we create the interpreter? We're creating a **general computing machine**."
   ]
  },
  {
   "cell_type": "markdown",
   "metadata": {},
   "source": [
    "## An Analogy: Programs Define Machines"
   ]
  },
  {
   "cell_type": "markdown",
   "metadata": {},
   "source": [
    "Think of programs as defining little machines by laying out the procedure by which we evaluate some input to give some output.\n",
    "\n",
    "Programs specify the logic of a computational device.  If we create a device that computes `factorial`, it would look like the following,\n",
    "\n",
    "<img src = 'device.png' width = 400/>\n",
    "\n",
    "If we input `5`, the output would be `120`. "
   ]
  },
  {
   "cell_type": "markdown",
   "metadata": {},
   "source": [
    "## Interpreters are General Computing Machine"
   ]
  },
  {
   "cell_type": "markdown",
   "metadata": {},
   "source": [
    "An interpreter can be parameterized to simulate any machine. It takes any piece of code that tells the the interpreter to simulate any desired particular machine.\n",
    "\n",
    "<img src = 'scheme.png' width = 400/>\n",
    "\n",
    "In the diagram above, the Scheme interpreter takes in as input, 5 and the source code that instructs how to compute the `factorial`. Both of these are used to create any desired computation, such as computing 120. \n",
    "\n",
    "Our Scheme interpreter is a universal machine. It can perform any computation depending on how it's parameterized by the input source code. We can think of the interpreter as bridge between the data objects that are manipulated by our programming language and the programming language itself. Internally, it is just a set of evaluation values."
   ]
  },
  {
   "cell_type": "code",
   "execution_count": null,
   "metadata": {},
   "outputs": [],
   "source": []
  }
 ],
 "metadata": {
  "kernelspec": {
   "display_name": "Calysto Scheme 3",
   "language": "scheme",
   "name": "calysto_scheme"
  },
  "language_info": {
   "codemirror_mode": {
    "name": "scheme"
   },
   "mimetype": "text/x-scheme",
   "name": "scheme",
   "pygments_lexer": "scheme"
  }
 },
 "nbformat": 4,
 "nbformat_minor": 4
}
