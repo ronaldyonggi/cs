{
 "cells": [
  {
   "cell_type": "markdown",
   "metadata": {},
   "source": [
    "# Dynamic Scope"
   ]
  },
  {
   "cell_type": "markdown",
   "metadata": {},
   "source": [
    "The manner in which an environment is created by extending the environment in which procedure is defined is not the only system that we can use. **Dynamic Scope** is an alternative.\n",
    "\n",
    "The way in which names are looked up in Scheme and Python is called `lexical scope` or `static scope`.\n",
    "\n",
    "**Lexical scope**: The parent of a frame is the environment in which a procedure was **defined**. \n",
    "\n",
    "When we create a new frame for applying a procedure, we just look at the procedure, figure out its environment when it was created, and use that as the parent of the new frame.\n",
    "\n",
    "**Dynamic scope**: The parent of a frameis the environment in which a procedure was **called**. \n",
    "\n",
    "Let's say we define `f`, which is a function that takes `x` and adds `x` and `y` together."
   ]
  },
  {
   "cell_type": "code",
   "execution_count": null,
   "metadata": {},
   "outputs": [],
   "source": [
    "(define f (lambda (x) (+ x y)))"
   ]
  },
  {
   "cell_type": "markdown",
   "metadata": {},
   "source": [
    "Then we define `g`, which is a function that takes `x` and `y` and calls `f` on `(+ x x)`. This function doesn't use `y`."
   ]
  },
  {
   "cell_type": "code",
   "execution_count": null,
   "metadata": {},
   "outputs": [],
   "source": [
    "(define g (lambda (x y) (f (+ x x))))"
   ]
  },
  {
   "cell_type": "markdown",
   "metadata": {},
   "source": [
    "And then we call the following,"
   ]
  },
  {
   "cell_type": "code",
   "execution_count": null,
   "metadata": {},
   "outputs": [],
   "source": [
    "(g 3 7)"
   ]
  },
  {
   "cell_type": "markdown",
   "metadata": {},
   "source": [
    "In **Lexical Scope**, the parent of `f` when it was called by `g`,"
   ]
  },
  {
   "cell_type": "code",
   "execution_count": null,
   "metadata": {},
   "outputs": [],
   "source": [
    "(define g (lambda (x y) (f (+ x x))))"
   ]
  },
  {
   "cell_type": "markdown",
   "metadata": {},
   "source": [
    "...is the global frame. Thus, when the program tries to see what `x` is,"
   ]
  },
  {
   "cell_type": "code",
   "execution_count": null,
   "metadata": {},
   "outputs": [],
   "source": [
    "(define f (lambda (x) (+ x y))"
   ]
  },
  {
   "cell_type": "markdown",
   "metadata": {},
   "source": [
    "...the program will use its formal parameter, which is a local name `(+ x y)`. When it tries to look up what `y` is, it will give out `Error: unknown identifier: y`\n",
    "\n",
    "On the other hand, in **Dynamic scope**, the parent for `f`'s frame is `g`'s frame. This is because when the program evaluates `g`, it also calls `f`."
   ]
  },
  {
   "cell_type": "code",
   "execution_count": null,
   "metadata": {},
   "outputs": [],
   "source": [
    "(define g (lambda (x y) (f (+ x x))))"
   ]
  },
  {
   "cell_type": "markdown",
   "metadata": {},
   "source": [
    "Thus in dynamic scope, where a function was called matters, not where the function was defined. `f` was defined globally,"
   ]
  },
  {
   "cell_type": "code",
   "execution_count": null,
   "metadata": {},
   "outputs": [],
   "source": [
    "(define f (lambda (x) (+ x y))) ; f defined globally"
   ]
  },
  {
   "cell_type": "markdown",
   "metadata": {},
   "source": [
    "...but `f` was called inside the body of a local function `g`,"
   ]
  },
  {
   "cell_type": "code",
   "execution_count": null,
   "metadata": {},
   "outputs": [],
   "source": [
    "(define g (lambda (x y) (f (+ x x))))"
   ]
  },
  {
   "cell_type": "markdown",
   "metadata": {},
   "source": [
    "Here, `f`'s frame extends `g`'s frame. When the program tries to look up `y`, it finds `g`'s `y`, which was bound to `7`."
   ]
  },
  {
   "cell_type": "code",
   "execution_count": 2,
   "metadata": {},
   "outputs": [],
   "source": [
    "(define f (lambda (x) (+ x y))) ; f defined globally\n",
    "(define g (lambda (x y) (f (+ x x))))"
   ]
  },
  {
   "cell_type": "markdown",
   "metadata": {},
   "source": []
  },
  {
   "cell_type": "code",
   "execution_count": null,
   "metadata": {},
   "outputs": [],
   "source": []
  }
 ],
 "metadata": {
  "kernelspec": {
   "display_name": "Calysto Scheme 3",
   "language": "scheme",
   "name": "calysto_scheme"
  },
  "language_info": {
   "codemirror_mode": {
    "name": "scheme"
   },
   "mimetype": "text/x-scheme",
   "name": "scheme",
   "pygments_lexer": "scheme"
  }
 },
 "nbformat": 4,
 "nbformat_minor": 2
}
