{
 "cells": [
  {
   "cell_type": "code",
   "execution_count": 2,
   "metadata": {},
   "outputs": [],
   "source": [
    "(define nil ())"
   ]
  },
  {
   "cell_type": "markdown",
   "metadata": {},
   "source": [
    "# Map and Reduce"
   ]
  },
  {
   "cell_type": "markdown",
   "metadata": {},
   "source": [
    "## Example: Reduce"
   ]
  },
  {
   "cell_type": "markdown",
   "metadata": {},
   "source": [
    "`reduce` is a procedure that takes a `procedure`, a list `s`, and a `start` starting value. `reduce` combines `start` with the first element in `s` and then combine the rest of the elements using `procedure`. Thus, if we have the following,"
   ]
  },
  {
   "cell_type": "code",
   "execution_count": null,
   "metadata": {},
   "outputs": [],
   "source": [
    "(reduce * '(3 4 5) 2)"
   ]
  },
  {
   "cell_type": "markdown",
   "metadata": {},
   "source": [
    "Then the outcome should be 120. And if we have the following procedure,"
   ]
  },
  {
   "cell_type": "code",
   "execution_count": null,
   "metadata": {},
   "outputs": [],
   "source": [
    "(reduce (lambda (x y) (cons y x)) '(3 4 5) '(2))"
   ]
  },
  {
   "cell_type": "markdown",
   "metadata": {},
   "source": [
    "Then the outcome should be `(5 4 3 2)`. \n",
    "\n",
    "The implementation looks like the following,"
   ]
  },
  {
   "cell_type": "code",
   "execution_count": null,
   "metadata": {},
   "outputs": [],
   "source": [
    "(define (reduce procedure s start)\n",
    "  (if (null? s) ; If we run out of elements in s, then return start\n",
    "      start ; start also represents the result that we have accumulated so far\n",
    "      (reduce procedure (cdr s)\n",
    "                        ; The whole expression below represents `start` for the recursive call\n",
    "                        (procedure start (car s)) \n",
    "              ) ; End of reduce within if statement\n",
    "      ) ; End of if statement\n",
    "  ) ; End of reduce definition"
   ]
  },
  {
   "cell_type": "markdown",
   "metadata": {},
   "source": [
    "If we analyze the procedure above,"
   ]
  },
  {
   "cell_type": "code",
   "execution_count": null,
   "metadata": {},
   "outputs": [],
   "source": [
    "(if (null? s)\n",
    "      start\n",
    "      (reduce procedure (cdr s)\n",
    "                        (procedure start (car s))\n",
    "              ) ; End of reduce within if statement\n",
    "      ) ; End of if statement"
   ]
  },
  {
   "cell_type": "markdown",
   "metadata": {},
   "source": [
    "...the whole `if` statement is in a tail context. And within the `if` statement above,"
   ]
  },
  {
   "cell_type": "code",
   "execution_count": null,
   "metadata": {},
   "outputs": [],
   "source": [
    "(reduce procedure (cdr s)\n",
    "                  (procedure start (car s))\n",
    "              ) ; End of reduce within if statement"
   ]
  },
  {
   "cell_type": "markdown",
   "metadata": {},
   "source": [
    "This recursive `reduce` call is in a tail context. However, the 2nd argument of this `reduce` call,"
   ]
  },
  {
   "cell_type": "code",
   "execution_count": null,
   "metadata": {},
   "outputs": [],
   "source": [
    "(procedure start (car s))"
   ]
  },
  {
   "cell_type": "markdown",
   "metadata": {},
   "source": [
    "...is not in a tail context since it involves combining 2 values!\n",
    "\n",
    "The recursive call is a tail call. However, the other calls are not. Whether `reduce` will take constant space depends on whether the argument `procedure` requires constant space. "
   ]
  },
  {
   "cell_type": "markdown",
   "metadata": {},
   "source": [
    "## Example: Map with Only a Constant Number of Frames"
   ]
  },
  {
   "cell_type": "markdown",
   "metadata": {},
   "source": [
    "`Map` is a function that applies a procedure to every element in the list and constructs a list containing all the results. The non-tail-recursive implementation is as the following,"
   ]
  },
  {
   "cell_type": "code",
   "execution_count": 5,
   "metadata": {},
   "outputs": [],
   "source": [
    "(define (map procedure s)\n",
    "  (if (null? s)\n",
    "      nil\n",
    "      ; Otherwise, construct a list where the `.first` is the result of applying procedure on `car s`\n",
    "      (cons (procedure (car s))\n",
    "            ; and the `.rest` is a recursive call of map on the rest of the list.\n",
    "            (map procedure (cdr s)))))"
   ]
  },
  {
   "cell_type": "markdown",
   "metadata": {},
   "source": [
    "Now let's say we want to call the following,"
   ]
  },
  {
   "cell_type": "code",
   "execution_count": 6,
   "metadata": {},
   "outputs": [
    {
     "data": {
      "text/plain": [
       "(4 3)"
      ]
     },
     "execution_count": 6,
     "metadata": {},
     "output_type": "execute_result"
    }
   ],
   "source": [
    "(map (lambda (x) (- 5 x)) (list 1 2))"
   ]
  },
  {
   "cell_type": "markdown",
   "metadata": {},
   "source": [
    "We start with a list containing `1` and `2` and bind it to `s`.\n",
    "\n",
    "<img src = 's1.png' width = 300/>\n",
    "\n",
    "The second call to `map` takes the rest of `s`.\n",
    "\n",
    "<img src = 's2.png' width = 300/>\n",
    "\n",
    "And it repeats until it reaches `nil`. The final result from returning the last call is `nil`. \n",
    "\n",
    "<img src = 's3.png' width = 300/>"
   ]
  },
  {
   "cell_type": "markdown",
   "metadata": {},
   "source": [
    "When we call the `map` for the first time, we compute the following,"
   ]
  },
  {
   "cell_type": "code",
   "execution_count": null,
   "metadata": {},
   "outputs": [],
   "source": [
    "(cons (- 5 1) (map procedure (cdr s)))"
   ]
  },
  {
   "cell_type": "markdown",
   "metadata": {},
   "source": [
    "...and when we call `map` for the second time, we're computing the following,"
   ]
  },
  {
   "cell_type": "code",
   "execution_count": null,
   "metadata": {},
   "outputs": [],
   "source": [
    "(cons (- 5 2) (map procedure (nil)))"
   ]
  },
  {
   "cell_type": "markdown",
   "metadata": {},
   "source": [
    "And we obtain `nil` for calling `map` on the 3rd time. Working backwards for the return value, we start with returning `nil`, then from the 2nd call we obtain a list that starts with `3`.\n",
    "\n",
    "<img src = 's4.png' width = 300/>\n",
    "\n",
    "Then from the first call we obtain a list that starts with `4`.\n",
    "\n",
    "<img src = 's5.png' width = 300/>"
   ]
  },
  {
   "cell_type": "markdown",
   "metadata": {},
   "source": [
    "This is not a tail-recursive procedure because the following expression,"
   ]
  },
  {
   "cell_type": "code",
   "execution_count": null,
   "metadata": {},
   "outputs": [],
   "source": [
    "(cons (procedure (car s))\n",
    "            ; and the `.rest` is a recursive call of map on the rest of the list.\n",
    "            (map procedure (cdr s)))"
   ]
  },
  {
   "cell_type": "markdown",
   "metadata": {},
   "source": [
    "...is not in a tail context! How do we make `map` tail recursive?\n",
    "\n",
    "First of all, we would need to implement the `reverse` procedure that reverses a list `s`. On top of that, we need to make sure that `reverse` is a tail-call procedure."
   ]
  },
  {
   "cell_type": "code",
   "execution_count": 1,
   "metadata": {},
   "outputs": [],
   "source": [
    "(define (reverse s)\n",
    "  (define (reverse-iter s r) ; r is the result that we have so far, which is the reversed list\n",
    "    (if (null? s)\n",
    "        r\n",
    "        (reverse-iter (cdr s)\n",
    "                      (cons (car s) r))))\n",
    "  (reverse-iter s nil))"
   ]
  },
  {
   "cell_type": "code",
   "execution_count": 3,
   "metadata": {},
   "outputs": [
    {
     "data": {
      "text/plain": [
       "(3 2 1)"
      ]
     },
     "execution_count": 3,
     "metadata": {},
     "output_type": "execute_result"
    }
   ],
   "source": [
    "(reverse '(1 2 3))"
   ]
  },
  {
   "cell_type": "markdown",
   "metadata": {},
   "source": [
    "Now the tail-recursive implementation of `map` is as the following,"
   ]
  },
  {
   "cell_type": "code",
   "execution_count": null,
   "metadata": {},
   "outputs": [],
   "source": [
    "(define (map procedure s)\n",
    "  (define (map-reverse s m) ; m is the result that we have so far, but in a reversed order.\n",
    "    (if (null? s)\n",
    "        m\n",
    "        (map-reverse (cdr s)\n",
    "                     (cons (procedure (car s))\n",
    "                           m))))\n",
    "  (reverse (map-reverse s nil))) ; since m is in a reversed order, we need to reverse it to fix the order."
   ]
  },
  {
   "cell_type": "markdown",
   "metadata": {},
   "source": [
    "This is one of the more complex examples of making a procedure tail-recursive. "
   ]
  },
  {
   "cell_type": "code",
   "execution_count": null,
   "metadata": {},
   "outputs": [],
   "source": []
  }
 ],
 "metadata": {
  "kernelspec": {
   "display_name": "Calysto Scheme 3",
   "language": "scheme",
   "name": "calysto_scheme"
  },
  "language_info": {
   "codemirror_mode": {
    "name": "scheme"
   },
   "mimetype": "text/x-scheme",
   "name": "scheme",
   "pygments_lexer": "scheme"
  }
 },
 "nbformat": 4,
 "nbformat_minor": 4
}
