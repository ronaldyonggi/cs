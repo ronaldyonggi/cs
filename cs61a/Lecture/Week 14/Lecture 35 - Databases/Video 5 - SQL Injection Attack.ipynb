{
 "cells": [
  {
   "cell_type": "markdown",
   "metadata": {},
   "source": [
    "# SQL Injection Attack"
   ]
  },
  {
   "cell_type": "markdown",
   "metadata": {},
   "source": [
    "When Python program reads data from an external source and constructs SQL statements, it might be vulnerable to SQL injection attack. The security vulnerability is easy to prevent. Anybody who writes a program that involves Python constructing SQL statement should know that this attack exists and know how to prevent it. "
   ]
  },
  {
   "cell_type": "markdown",
   "metadata": {},
   "source": [
    "## A Program Vulnerable to a SQL Injection Attack\n",
    "\n",
    "<img src = 'inject.png' width = 600/>"
   ]
  },
  {
   "cell_type": "markdown",
   "metadata": {},
   "source": [
    "Let's try to understand this comic. If in a Python program, we have a string with the following name,"
   ]
  },
  {
   "cell_type": "code",
   "execution_count": null,
   "metadata": {},
   "outputs": [],
   "source": [
    "name = \"Robert'); DROP TABLE Students; --\""
   ]
  },
  {
   "cell_type": "markdown",
   "metadata": {},
   "source": [
    "And then, we attempt to construct an SQL statement,"
   ]
  },
  {
   "cell_type": "code",
   "execution_count": null,
   "metadata": {},
   "outputs": [],
   "source": [
    "cmd = \"INSERT INTO Students VALUES ('\" + name + \"');\""
   ]
  },
  {
   "cell_type": "markdown",
   "metadata": {},
   "source": [
    "When we execute the cells above,"
   ]
  },
  {
   "cell_type": "code",
   "execution_count": null,
   "metadata": {},
   "outputs": [],
   "source": [
    "db.executescript(cmd)"
   ]
  },
  {
   "cell_type": "markdown",
   "metadata": {},
   "source": [
    "The above is equivalent to executing the following,"
   ]
  },
  {
   "cell_type": "code",
   "execution_count": null,
   "metadata": {},
   "outputs": [],
   "source": [
    "insert into Students values('Robert'); drop table Students; --');'"
   ]
  },
  {
   "cell_type": "markdown",
   "metadata": {},
   "source": [
    "`--` is a way of starting a comment in SQL. The part `--')` won't do anything.\n",
    "\n",
    "As we can see above, we are dropping the `Students` table. \n",
    "\n",
    "In Python, the `execute` method only takes one statement at a time. However, the `executescript` method takes a string with as many statements as we like and executes them all. \n",
    "\n",
    "If we look at the definition of `cmd`, the string concatenation part,"
   ]
  },
  {
   "cell_type": "code",
   "execution_count": null,
   "metadata": {},
   "outputs": [],
   "source": [
    "('\" + name + \"')"
   ]
  },
  {
   "cell_type": "markdown",
   "metadata": {},
   "source": [
    "...was used to construct the SQL statement. To prevent SQL injection attack such as what we've done above, we should do the following,"
   ]
  },
  {
   "cell_type": "code",
   "execution_count": null,
   "metadata": {},
   "outputs": [],
   "source": [
    "db.execute(\"INSERT INTO Students VALUES (?)\", [name])"
   ]
  },
  {
   "cell_type": "markdown",
   "metadata": {},
   "source": [
    "Here, we use a template where we can fill in the value `?` with a Python value. Using the template above, we are running the following,"
   ]
  },
  {
   "cell_type": "code",
   "execution_count": null,
   "metadata": {},
   "outputs": [],
   "source": [
    "insert into students values ('Robert''); drop table Students; --');"
   ]
  },
  {
   "cell_type": "markdown",
   "metadata": {},
   "source": [
    "Notice the extra apostrophe `'` after `Robert'`. \n",
    "\n",
    "The main idea is that if we're inserting a string into a large SQL statement, we whould use `execute` statement with built-in option of passing values."
   ]
  }
 ],
 "metadata": {
  "kernelspec": {
   "display_name": "Python 3",
   "language": "python",
   "name": "python3"
  },
  "language_info": {
   "codemirror_mode": {
    "name": "ipython",
    "version": 3
   },
   "file_extension": ".py",
   "mimetype": "text/x-python",
   "name": "python",
   "nbconvert_exporter": "python",
   "pygments_lexer": "ipython3",
   "version": "3.7.3"
  }
 },
 "nbformat": 4,
 "nbformat_minor": 4
}
