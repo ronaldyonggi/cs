{
 "cells": [
  {
   "cell_type": "markdown",
   "metadata": {},
   "source": [
    "# Select Grammar"
   ]
  },
  {
   "cell_type": "markdown",
   "metadata": {},
   "source": [
    "We've seen a few variety of `select` statements in SQL. "
   ]
  },
  {
   "cell_type": "markdown",
   "metadata": {},
   "source": [
    "## SQL Select Statements"
   ]
  },
  {
   "cell_type": "markdown",
   "metadata": {},
   "source": [
    "The space of all `select` statements can be described using a grammar diagram that shows all the different alternative choices that we can choose along the way. \n",
    "\n",
    "<img src = 'select.gif' width = 500/>"
   ]
  },
  {
   "cell_type": "markdown",
   "metadata": {},
   "source": [
    "At first, we choose either to use `with` or not at all. If we choose to use `with`, we can include as many `common-table-expression` as possible using comma `,`.\n",
    "\n",
    "<img src = 'with.png' width = 500/>"
   ]
  },
  {
   "cell_type": "markdown",
   "metadata": {},
   "source": [
    "When we're done with the `with` statement, the next step is to `select`, which can include `from` or `where` or `group by` or `window`. \n",
    "\n",
    "In the lecture, we didn't go over the `distinct` and `all`. `result-column` are the expressions that describe each column in the result.\n",
    "\n",
    "<img src = 'select.png' width = 500/>"
   ]
  },
  {
   "cell_type": "markdown",
   "metadata": {},
   "source": [
    "The `from` clause can list multiple different `table` separated by comma `,`. We can also do `subquery`, but it makes more sense to use the `with` statement to define `subquery`. We didn't go over `join-clause` at all.\n",
    "\n",
    "<img src = 'from.png' width = 400/>"
   ]
  },
  {
   "cell_type": "markdown",
   "metadata": {},
   "source": [
    "`where` and `group by` are straightforward. With `group by`, we can decide either to use the `having` statement or to skip it entirely.\n",
    "\n",
    "<img src = 'where-group.png' width = 500/>"
   ]
  },
  {
   "cell_type": "markdown",
   "metadata": {},
   "source": [
    "It's possible to enumerate `values` in a table directly, but we never did it in class because we instead use `union` to select multiple different values by their `result-column`. \n",
    "\n",
    "<img src = 'union.png' width = 500/>"
   ]
  },
  {
   "cell_type": "markdown",
   "metadata": {},
   "source": [
    "We also went over `order by`,\n",
    "\n",
    "<img src = 'order.png' width = 500/>"
   ]
  },
  {
   "cell_type": "markdown",
   "metadata": {},
   "source": [
    "One last thing that we skipped is `limit`ing the number of results. We can, for example, set that we only want `10` results.\n",
    "\n",
    "<img src = 'limit.png' width = 500/>"
   ]
  },
  {
   "cell_type": "code",
   "execution_count": null,
   "metadata": {},
   "outputs": [],
   "source": []
  }
 ],
 "metadata": {
  "kernelspec": {
   "display_name": "Python 3",
   "language": "python",
   "name": "python3"
  },
  "language_info": {
   "codemirror_mode": {
    "name": "ipython",
    "version": 3
   },
   "file_extension": ".py",
   "mimetype": "text/x-python",
   "name": "python",
   "nbconvert_exporter": "python",
   "pygments_lexer": "ipython3",
   "version": "3.7.3"
  }
 },
 "nbformat": 4,
 "nbformat_minor": 4
}
