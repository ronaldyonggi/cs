{
 "cells": [
  {
   "cell_type": "markdown",
   "metadata": {},
   "source": [
    "## Q1: Reverse\n",
    "Write a procedure `reverse`, which takes in a list `lst` and outputs a reversed list. `Hint`: you may find the built-in function `append` useful."
   ]
  },
  {
   "cell_type": "code",
   "execution_count": 1,
   "metadata": {},
   "outputs": [
    {
     "data": {
      "text/plain": [
       "(2 3)"
      ]
     },
     "execution_count": 1,
     "metadata": {},
     "output_type": "execute_result"
    }
   ],
   "source": [
    "(append '(2) '(3))"
   ]
  },
  {
   "cell_type": "markdown",
   "metadata": {},
   "source": [
    "#### Strategy"
   ]
  },
  {
   "cell_type": "markdown",
   "metadata": {},
   "source": [
    "If we are writing a procedure that involves reversing, chances are the implementation would include calling the recursive `reverse` before adding an element (or an item) from the current frame. The recursive call would be appending the result of calling `reverse` on the rest of a list, and the current selected element, in form of a list (`list (car lst)`)."
   ]
  },
  {
   "cell_type": "code",
   "execution_count": null,
   "metadata": {},
   "outputs": [],
   "source": [
    "(append\n",
    " (reverse (cdr lst))\n",
    " (list (car lst))\n",
    " )"
   ]
  },
  {
   "cell_type": "markdown",
   "metadata": {},
   "source": [
    "And the base case is that if `lst` is empty, then we just return an empty list. The implementation looks like the following,"
   ]
  },
  {
   "cell_type": "code",
   "execution_count": 11,
   "metadata": {},
   "outputs": [],
   "source": [
    "(define (reverse lst)\n",
    "  (if (null? lst)\n",
    "      ()\n",
    "      (append (reverse (cdr lst)) (list (car lst)))\n",
    "      )\n",
    "  )"
   ]
  },
  {
   "cell_type": "code",
   "execution_count": 12,
   "metadata": {},
   "outputs": [],
   "source": [
    "(define x '(1 2 3))"
   ]
  },
  {
   "cell_type": "code",
   "execution_count": 13,
   "metadata": {},
   "outputs": [
    {
     "data": {
      "text/plain": [
       "(3 2 1)"
      ]
     },
     "execution_count": 13,
     "metadata": {},
     "output_type": "execute_result"
    }
   ],
   "source": [
    "(reverse x)"
   ]
  },
  {
   "cell_type": "markdown",
   "metadata": {},
   "source": [
    "## Q2: Longest Increasing Subsequence\n",
    "Write the procedure `longest-increasing-subsequence`, which takes in a list `lst` and returns the longest subsequence in which all the terms are increasing.\n",
    "\n",
    "The elements don't have to appear consecutively in the original list. For example, the longest increasing subsequence of `(1 2 3 4 9 3 4 1 10 5)` is `(1 2 3 4 9 10)`. Assume that the longest increasing subsequence is unique.\n",
    "\n",
    "`Hint`: The built-in procedure `length` and `filter` might be helpful for solving this problem."
   ]
  },
  {
   "cell_type": "markdown",
   "metadata": {},
   "source": [
    "#### Strategy"
   ]
  },
  {
   "cell_type": "markdown",
   "metadata": {},
   "source": [
    "Based on the problem, chances are we would need to construct a list using `cons`. In this case, the base case is that if we run out of `lst` (if `lst` is empty), then we just return `lst`."
   ]
  },
  {
   "cell_type": "code",
   "execution_count": null,
   "metadata": {},
   "outputs": [],
   "source": [
    "(if (null? lst)\n",
    "    lst"
   ]
  },
  {
   "cell_type": "markdown",
   "metadata": {},
   "source": [
    "For the recursive case, we would need to define 2 procedures within the `longest-increasing-subsequence` procedure. This can be done with the `begin` keyword, which allows us to define a procedure within its own environment / frame.\n",
    "\n",
    "The first procedure is a procedure that constructs a list starting with `car lst` as the `.first`, and a recursive call to `longest-increasing-subsequence`. However, the argument to the recursive call here is the result of **filtering** the rest of the list so that only the lists that have the `.first` greater than the current `car lst` is used."
   ]
  },
  {
   "cell_type": "code",
   "execution_count": null,
   "metadata": {},
   "outputs": [],
   "source": [
    "(define with-car\n",
    "  (cons (car lst)\n",
    "        (longest-increasing-subsequence\n",
    "         (filter (lambda (x) (> x (car lst)))\n",
    "                 (cdr lst)) ;End of filter\n",
    "         ) ; End of longest-increasing-subsequence\n",
    "        ) ; End of cons\n",
    "  ); End of define"
   ]
  },
  {
   "cell_type": "markdown",
   "metadata": {},
   "source": [
    "And the second procedure is a procedure that starts a new list with recursive call `longest-increasing subsequence`."
   ]
  },
  {
   "cell_type": "code",
   "execution_count": null,
   "metadata": {},
   "outputs": [],
   "source": [
    "(define without-car\n",
    "  (longest-increasing-subsequence (cdr lst)))"
   ]
  },
  {
   "cell_type": "markdown",
   "metadata": {},
   "source": [
    "Then we call both functions, and return whichever has the greater length."
   ]
  },
  {
   "cell_type": "code",
   "execution_count": null,
   "metadata": {},
   "outputs": [],
   "source": [
    "(if (> (length with-car) (length without-car))\n",
    "    with-car\n",
    "    without-car)"
   ]
  },
  {
   "cell_type": "markdown",
   "metadata": {},
   "source": [
    "The implementation is as the following,"
   ]
  },
  {
   "cell_type": "code",
   "execution_count": null,
   "metadata": {},
   "outputs": [],
   "source": [
    "(define (longest-increasing-subsequence lst)\n",
    "    'YOUR-CODE-HERE\n",
    "    (if (null? lst)\n",
    "      lst\n",
    "      (begin\n",
    "        (define with-car\n",
    "          (cons\n",
    "            (car lst)\n",
    "            (longest-increasing-subsequence\n",
    "              (filter\n",
    "                (lambda (x) (> x (car lst)))\n",
    "                (cdr lst)))))\n",
    "        (define without-car\n",
    "          (longest-increasing-subsequence (cdr lst)))\n",
    "        (if (> (length with-car) (length without-car))\n",
    "          with-car\n",
    "          without-car)\n",
    "      ) ; End of begin\n",
    "    ) ; End of if\n",
    ")"
   ]
  },
  {
   "cell_type": "code",
   "execution_count": null,
   "metadata": {},
   "outputs": [],
   "source": []
  }
 ],
 "metadata": {
  "kernelspec": {
   "display_name": "Calysto Scheme 3",
   "language": "scheme",
   "name": "calysto_scheme"
  },
  "language_info": {
   "codemirror_mode": {
    "name": "scheme"
   },
   "mimetype": "text/x-scheme",
   "name": "scheme",
   "pygments_lexer": "scheme"
  }
 },
 "nbformat": 4,
 "nbformat_minor": 2
}
