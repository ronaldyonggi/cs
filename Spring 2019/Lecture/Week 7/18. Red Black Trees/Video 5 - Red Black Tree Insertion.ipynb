{
 "cells": [
  {
   "cell_type": "markdown",
   "metadata": {},
   "source": [
    "# Maintaining `1-1` Correspondence Through Rotations"
   ]
  },
  {
   "cell_type": "markdown",
   "metadata": {},
   "source": [
    "## The 1-1 Mapping"
   ]
  },
  {
   "cell_type": "markdown",
   "metadata": {},
   "source": [
    "There exists a 1-1 mapping between a `2-3 tree` and is LLRB.\n",
    "\n",
    "![](images/23.png)\n",
    "\n",
    "![](images/rbs.png)\n",
    "\n",
    "Implementation of an LLRB is based on maintaining this 1-1 correspondence.\n",
    "* When performing LLRB operations, pretend that have `2-3 tree`\n",
    "* Preservation of the correspondence will involve tree rotations"
   ]
  },
  {
   "cell_type": "markdown",
   "metadata": {},
   "source": [
    "## Design Task #1: Insertion Color\n",
    "\n",
    "Suppose we have a red black tree with only one node, `S`. \n",
    "\n",
    "![](images/should.png)\n",
    "\n",
    "At the bottom, we have the corresponding `2-3 tree` of the LLRB.\n",
    "\n",
    "To obtain an LLRB that has the matching corresponding `2-3 tree`, should we use a red or black link when inserting?\n",
    "\n",
    "**Ans** Red. In `2-3 trees`, new values are always added to a leaf node (at first)."
   ]
  },
  {
   "cell_type": "markdown",
   "metadata": {},
   "source": [
    "## Design Task #2: Insertion on the Right\n",
    "\n",
    "Suppose we have a leaf `E`, and we `insert(S)` with a red link.\n",
    "\n",
    "![](images/right.png)\n",
    "\n",
    "What's the problem with the LLRB above, and what should we do to fix it?\n",
    "\n",
    "* **Problem**: The link `S` should not be leaning to the right!\n",
    "* **Fix**: `rotateLeft(E)`\n",
    "\n",
    "![](images/rotateleft.png)"
   ]
  },
  {
   "cell_type": "markdown",
   "metadata": {},
   "source": [
    "## New Rule: Representation of Temporary 4-Nodes\n",
    "\n",
    "Let's introduce a new rule: we can represent temporary 4-nodes as BST nodes with 2 red links. This state is only temporary!\n",
    "\n",
    "![](images/temp.png)"
   ]
  },
  {
   "cell_type": "markdown",
   "metadata": {},
   "source": [
    "## Design Task #3: Double Insertion on the Left\n",
    "\n",
    "Suppose we have the LLRB below and we `insert(E)`. We ended up with the wrong representation of the temporary 4 node. What should we do so that the temporary 4 node has 2 red children (one left, one right) as represented with the `2-3 tree`?\n",
    "\n",
    "![](images/expected.png)\n",
    "\n",
    "**Ans**: `rotateRight(Z)`\n",
    "\n",
    "![](images/z.png)"
   ]
  },
  {
   "cell_type": "markdown",
   "metadata": {},
   "source": [
    "## Design Task #4: Splitting Temporary 4-Nodes\n",
    "\n",
    "Suppose we have the LLRB below that has a temporary 4 nodes. What should we do next?\n",
    "\n",
    "![](images/puzzle.png)\n",
    "\n",
    "**Ans**: `Flip` the colors of all links touching `B`. This doesn't change the BST structure/shape!\n",
    "\n",
    "![](images/flip.png)\n",
    "\n",
    "If we compare the resulting LLRB with the `2-3 tree`, it really does match!"
   ]
  },
  {
   "cell_type": "markdown",
   "metadata": {},
   "source": [
    "## ...and That's It!\n",
    "\n",
    "We just invented the red-black BST!\n",
    "\n",
    "* When `insert`ing, use a red link\n",
    "* If there's a **right leaning 3-node**, we have a `left leaning violation`\n",
    "    * `Rotate left` the appropriate node to fix\n",
    "* If there are **2 consecutive left links**, we have an `incorrect 4 node violation`\n",
    "    * `Rotate right` the appropriate node to fix\n",
    "* If there are any **nodes with 2 red children**, we have a `temporary 4 node`\n",
    "    * Color flip the node to emulate the split operation"
   ]
  },
  {
   "cell_type": "markdown",
   "metadata": {},
   "source": [
    "## Cascading Balance Example\n",
    "\n",
    "It is possible that a rotation or flip operation will cause an additional violation that needs fixing\n",
    "\n",
    "![](images/cascade.png)\n",
    "\n",
    "Here,\n",
    "* Inserting `Z` gives us a temporary 4 node\n",
    "* Then a color flip yields us a right red link, which is invalid! What should we do?\n",
    "\n",
    "**Ans**: `rotateLeft(B)`\n",
    "\n",
    "We have a right-leaning 3-node (`B-S`). We can fix with `rotateLeft(B)`.\n",
    "\n",
    "![](images/fix.png)"
   ]
  },
  {
   "cell_type": "code",
   "execution_count": null,
   "metadata": {},
   "outputs": [],
   "source": []
  }
 ],
 "metadata": {
  "kernelspec": {
   "display_name": "Python 3",
   "language": "python",
   "name": "python3"
  },
  "language_info": {
   "codemirror_mode": {
    "name": "ipython",
    "version": 3
   },
   "file_extension": ".py",
   "mimetype": "text/x-python",
   "name": "python",
   "nbconvert_exporter": "python",
   "pygments_lexer": "ipython3",
   "version": "3.7.4"
  }
 },
 "nbformat": 4,
 "nbformat_minor": 2
}
