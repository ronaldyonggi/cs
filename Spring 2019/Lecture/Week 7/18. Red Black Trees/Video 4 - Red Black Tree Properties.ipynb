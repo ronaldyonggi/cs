{
 "cells": [
  {
   "cell_type": "markdown",
   "metadata": {},
   "source": [
    "Searching for a key in an LLRB tree is easy, just treat it exactly like any BST!"
   ]
  },
  {
   "cell_type": "markdown",
   "metadata": {},
   "source": [
    "## LLRB Problem #1\n",
    "\n",
    "How many of these are valid LLRBs? (e.g. have 1-1 correspondence with a valid 2-3 tree).\n",
    "\n",
    "![](images/valid.png)\n",
    "\n",
    "![](images/invalid.png)\n",
    "\n",
    "##### Tree 1\n",
    "* `ABC` altogether, that's a 4 node!\n",
    "* If we have this kind of tree, `B` would have split and move up\n",
    "\n",
    "##### Tree 2\n",
    "* The tree is not balanced\n",
    "    * Recall in 2-3 tree, every leaf must be the same distance from the root\n",
    "    * In this tree, `X` has a distance 1, `C` has a distance `2`\n",
    "* `AB` should have 3 children, but here there's only 1 child instead\n",
    "\n",
    "##### Tree 3\n",
    "* The tree is not balanced\n",
    "    * Every leaf must be the same distance from the root\n",
    "    * In this tree, `X` has a distance 1, `C` and `A` has a distance `2`\n",
    " "
   ]
  },
  {
   "cell_type": "markdown",
   "metadata": {},
   "source": [
    "## LLRB Problem #2\n",
    "\n",
    "How tall is the corresponding LLRB for the 2-3 tree below?\n",
    "\n",
    "![](images/tall.png)\n",
    "\n",
    "![](images/tall2.png)\n",
    "\n",
    "Above is a representation of the critical path (the longest path possible). \n",
    "\n",
    "* Each 3-node becomes two separate nodes in LLRB (connected by red link)\n",
    "    * e.g. `SU` is now `S` and `U` connected by red link\n",
    "    * `QR` is now `Q` and `R` connected by red link\n",
    "* Overall hegiht is 3 (black) + 2 (red) = 5\n",
    "* More generally, an LLRB has no more height than $2 \\times$ the height of its `2-3 tree`"
   ]
  },
  {
   "cell_type": "markdown",
   "metadata": {},
   "source": [
    "## LLRB Height\n",
    "\n",
    "Suppose we have a `2-3 tree` of height `H`. What's the maximum height of the corresponding LLRB?\n",
    "\n",
    "![](images/worst.png)\n",
    "\n",
    "**Ans**:\n",
    "$$H(black) + [H+1](red) = 2H+1$$"
   ]
  },
  {
   "cell_type": "markdown",
   "metadata": {},
   "source": [
    "## Left-Leaning Red Black Binary Search Tree (LLRB) Properties\n",
    "\n",
    "Some handy LLRB properties:\n",
    "* No node has 2 red links\n",
    "    * Otherwise it'd be analogous to a 4 node, which are disallowed in 2-3 trees\n",
    "* Every path from root to a leaf has the same number of black links\n",
    "    * Because 2-3 trees have the same number of links to every leaf\n",
    "    * LLRBs are therefore balanced\n",
    "    \n",
    "Now going back to the first problem, we understand more clearly.\n",
    "\n",
    "![](images/invalid2.png)\n",
    "\n",
    "This concept is important because if we have an LLRB, we know that its height would be no more than double of its corresponding `2-3 tree`. Since `2-3 tree` has a height that's logarithmic, LLRB logarithmic as well."
   ]
  },
  {
   "cell_type": "markdown",
   "metadata": {},
   "source": [
    "## LLRB Construction\n",
    "\n",
    "Where do LLRBs come from?\n",
    "\n",
    "* It wouldn't make sense to build a `2-3 tree` then convert. This will be more complicated\n",
    "* Instead, implement as follows,\n",
    "    * `Insert` as usual into a BST\n",
    "    * Use 0 or more rotations to maintian the `1-1` mapping"
   ]
  },
  {
   "cell_type": "markdown",
   "metadata": {},
   "source": []
  }
 ],
 "metadata": {
  "kernelspec": {
   "display_name": "Python 3",
   "language": "python",
   "name": "python3"
  },
  "language_info": {
   "codemirror_mode": {
    "name": "ipython",
    "version": 3
   },
   "file_extension": ".py",
   "mimetype": "text/x-python",
   "name": "python",
   "nbconvert_exporter": "python",
   "pygments_lexer": "ipython3",
   "version": "3.7.4"
  }
 },
 "nbformat": 4,
 "nbformat_minor": 2
}
