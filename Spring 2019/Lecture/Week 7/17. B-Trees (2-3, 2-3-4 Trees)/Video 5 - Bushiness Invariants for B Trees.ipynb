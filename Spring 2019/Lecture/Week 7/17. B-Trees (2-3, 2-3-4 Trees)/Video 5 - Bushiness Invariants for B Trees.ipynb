{
 "cells": [
  {
   "cell_type": "markdown",
   "metadata": {},
   "source": [
    "# B-Tree Bushiness Invariants "
   ]
  },
  {
   "cell_type": "markdown",
   "metadata": {},
   "source": [
    "## Exercise\n",
    "\n",
    "Add the numbers `1, 2, 3, 4, 5, 6, 7` (in that order) into a regular BST!\n",
    "\n",
    "![](images/regular.png)\n",
    "\n",
    "Now try adding the same numbers into a `2-3 tree`! (Try using [this](https://www.cs.usfca.edu/~galles/visualization/BTree.html) demo and insert numbers from 1 to 7. In the  demo, `max-degree` means the maximum number of children, e.g. 3).\n",
    "\n",
    "![](images/23.png)\n",
    "\n",
    "All leaves are at depth 2. "
   ]
  },
  {
   "cell_type": "markdown",
   "metadata": {},
   "source": [
    "## Exercise 2"
   ]
  },
  {
   "cell_type": "markdown",
   "metadata": {},
   "source": [
    "Find an order such that if you add the items `1` through `7` using that order, the resulting `2-3 tree` has height 1.\n",
    "* One possible answer: 2, 3, 4, 5, 6, 1, 7\n",
    "* Use [this](https://www.cs.usfca.edu/~galles/visualization/BTree.html) demo to visualize\n",
    "\n",
    "\n",
    "No matter the insertion order we choose, resulting B-tree is always bushy\n",
    "* May vary in height, but overall guaranteed to be bushy"
   ]
  },
  {
   "cell_type": "markdown",
   "metadata": {},
   "source": [
    "## B-Tree Invariants"
   ]
  },
  {
   "cell_type": "markdown",
   "metadata": {},
   "source": [
    "Because of the way B-Trees are constructed, we get 2 nice invariants:\n",
    "* All leaves must be the same distance from the source\n",
    "    * Recall that whenever the root splits, everything's pushed down one level\n",
    "* A non-leaf node with `k` items must have exactly `k+1` children\n",
    "\n",
    "These invariants guarantee that our trees will be bushy\n",
    "\n",
    "For example,\n",
    "\n",
    "![](images/impossible.png)\n",
    "\n",
    "Above tree is impossible to form!\n",
    "* Leaves `1` and `5 6 7` are a different distance from the source\n",
    "* Non-leaf node `2 3` has 2 items but only one child. Should have 3 children!"
   ]
  }
 ],
 "metadata": {
  "kernelspec": {
   "display_name": "Python 3",
   "language": "python",
   "name": "python3"
  },
  "language_info": {
   "codemirror_mode": {
    "name": "ipython",
    "version": 3
   },
   "file_extension": ".py",
   "mimetype": "text/x-python",
   "name": "python",
   "nbconvert_exporter": "python",
   "pygments_lexer": "ipython3",
   "version": "3.7.4"
  }
 },
 "nbformat": 4,
 "nbformat_minor": 2
}
