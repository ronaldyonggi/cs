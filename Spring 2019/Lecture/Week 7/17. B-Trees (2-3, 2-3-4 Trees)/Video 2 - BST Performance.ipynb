{
 "cells": [
  {
   "cell_type": "markdown",
   "metadata": {},
   "source": [
    "# Height, Depth, and Performance"
   ]
  },
  {
   "cell_type": "markdown",
   "metadata": {},
   "source": [
    "## Height and Depth\n",
    "\n",
    "Height and average depth are important properties of BSTs\n",
    "* The `depth` of a node is how far it is from the root\n",
    "* The `height` of a tree is the depth of its deepest leaf\n",
    "* The `average depth` of a tree is the average depth of a tree's nodes.\n",
    "\n",
    "![](images/depth.png)\n",
    "\n",
    "For the tree above, \n",
    "\n",
    "| depth | # of nodes | total depth|\n",
    "| --- | --- | --- |\n",
    "| 0 | 1 | $0 \\times 1 = 0$ |\n",
    "|1 | 2 | 2 |\n",
    "|2 | 4 | 8 |\n",
    "| 3 | 6 | 18 |\n",
    "| 4 | 1 | 4 |\n",
    "\n",
    "The average is the sum of total depth / total # of nodes.\n",
    "\n",
    "$$ average = \\frac{2 + 8 + 18 + 4}{1 + 2 + 4 + 6 + 1} = 2.35$$"
   ]
  },
  {
   "cell_type": "markdown",
   "metadata": {},
   "source": [
    "## Height, Depth and Runtime\n",
    "\n",
    "Height and average depth determine runtimes for BST operations\n",
    "\n",
    "* The `height` fo a tree determines the worst case runtime to find a node. Example:\n",
    "    * Worst case is `contains(s)`, requires 5 comparison (`height + 1`): `k, v, p, r, s`\n",
    "* The `average depth` determines the average case runtime to find a node. Example:\n",
    "    * Average case is 3.35 comparisons (`average depth + 1`)"
   ]
  },
  {
   "cell_type": "markdown",
   "metadata": {},
   "source": [
    "## BSTs in Practice\n",
    "\n",
    "Suppose we want to build a BST out of the numbers `1, 2, 3, 4, 5, 6, 7`.\n",
    "\n",
    "Give an example of a sequence of `add` operations that results in:\n",
    "* A spindly tree\n",
    "* A bushy tree\n",
    "\n",
    "Hint: The order of how we add elements matters.\n",
    "\n",
    "**Ans**:\n",
    "\n",
    "For spindly tree:"
   ]
  },
  {
   "cell_type": "code",
   "execution_count": null,
   "metadata": {},
   "outputs": [],
   "source": [
    "add(1);\n",
    "add(2);\n",
    "add(3);\n",
    "add(4);\n",
    "add(5);\n",
    "add(6);\n",
    "add(7);"
   ]
  },
  {
   "cell_type": "markdown",
   "metadata": {},
   "source": [
    "For bushy tree:"
   ]
  },
  {
   "cell_type": "code",
   "execution_count": null,
   "metadata": {},
   "outputs": [],
   "source": [
    "add(4);\n",
    "add(2);\n",
    "add(1);\n",
    "add(3);\n",
    "add(6);\n",
    "add(5);\n",
    "add(7);"
   ]
  },
  {
   "cell_type": "markdown",
   "metadata": {},
   "source": [
    "![](images/add.png)"
   ]
  },
  {
   "cell_type": "markdown",
   "metadata": {},
   "source": [
    "## What about Real World BSTs?\n",
    "\n",
    "BSTs have:\n",
    "* Worst case $\\Theta(N)$ height\n",
    "* Best case $\\Theta(log N)$ height\n",
    "\n",
    "...but what about trees that we'd build during real world applications?\n",
    "* If we use a set to keep track of the members of a student organization, will we get a spindly or bushy BST?\n",
    "\n",
    "One way to approximate this is to consider randomized BSTs."
   ]
  },
  {
   "cell_type": "markdown",
   "metadata": {},
   "source": [
    "## Simulation: Trees Built from Random `Insert`\n",
    "\n",
    "Random trees have $\\Theta(log N)$ average depth and height.\n",
    "\n",
    "See the following [demonstration](http://www.youtube.com/watch?v=5dGkblzqdmc)\n",
    "\n",
    "* `max` = `height + 1`\n",
    "    * Think of it as the runtime of worst case `contains`\n",
    "* `avg` = `average depth + 1`\n",
    "    * Think of it as the average case `contains`.\n",
    "    \n",
    "In other words, random trees are bushy, not spindly."
   ]
  },
  {
   "cell_type": "markdown",
   "metadata": {},
   "source": [
    "## Randomized Trees : Mathematical Analysis\n",
    "\n",
    "##### Average Depth\n",
    "If `N` distinct keys are inserted into a BST, the expected average depth is ~ $ 2 ln N = \\Theta(log N)$\n",
    "\n",
    "* `~` is the same as Big Theta, but we don't drop the multiplicative constants\n",
    "* Therefore, the average runtime for `contains` is $\\Theta(log N)$ on a tree built with random `insert`\n",
    "* Will discuss this proof brielfy closer to the end of this course\n",
    "\n",
    "##### Tree Height\n",
    "If `N` distinct keys are inserted in random order, expected tree height is ~$4.311 ln N$\n",
    "\n",
    "* Therefore, worst case runtime for `contains` operation is $\\Theta(log N)$ on a tree built with random `inserts`\n",
    "* Proof is well beyond the scope of the course"
   ]
  },
  {
   "cell_type": "markdown",
   "metadata": {},
   "source": [
    "## Back to \"What about Real World BSTs\"\n",
    "\n",
    "BSTs have:\n",
    "* Worst case $\\Theta(N)$ height\n",
    "* Best case $\\Theta(log N)$ height\n",
    "* $\\Theta(log N)$ height if constructed via random `inserts`\n",
    "\n",
    "In real world application however, we expect a combination of `insertion` and `deletion`\n",
    "\n",
    "* See extra slides for more on simulations of trees including deletion\n",
    "* Can show that random trees including deletion still has $\\Theta(log N)$ height"
   ]
  },
  {
   "cell_type": "markdown",
   "metadata": {},
   "source": [
    "## Good News and Bad News\n",
    "\n",
    "Good news: BSTs have great performance if we insert items randomly. Performance is $\\Theta(log N)$ per operation.\n",
    "\n",
    "Bad news: We can't always insert our items in a random order.\n",
    "* Data comes over time. We don't get data all at once. Example:\n",
    "    * Storing data of events"
   ]
  },
  {
   "cell_type": "code",
   "execution_count": null,
   "metadata": {},
   "outputs": [],
   "source": [
    "add(\"01-Jan-2019, 10:31:00\")\n",
    "add(\"01-Jan-2019, 18:51:00\")\n",
    "add(\"02-Jan-2019, 00:05:00\")\n",
    "add(\"02-Jan-2019, 23:10:00\")"
   ]
  },
  {
   "cell_type": "markdown",
   "metadata": {},
   "source": [
    "If we naively add these data into a set, we'll end up with a spindly BST."
   ]
  }
 ],
 "metadata": {
  "kernelspec": {
   "display_name": "Python 3",
   "language": "python",
   "name": "python3"
  },
  "language_info": {
   "codemirror_mode": {
    "name": "ipython",
    "version": 3
   },
   "file_extension": ".py",
   "mimetype": "text/x-python",
   "name": "python",
   "nbconvert_exporter": "python",
   "pygments_lexer": "ipython3",
   "version": "3.7.4"
  }
 },
 "nbformat": 4,
 "nbformat_minor": 4
}
