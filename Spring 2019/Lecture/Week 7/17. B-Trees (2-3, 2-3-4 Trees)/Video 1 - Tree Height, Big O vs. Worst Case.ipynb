{
 "cells": [
  {
   "cell_type": "markdown",
   "metadata": {},
   "source": [
    "# BST Tree Height"
   ]
  },
  {
   "cell_type": "markdown",
   "metadata": {},
   "source": [
    "We'll discuss the height of binary search trees.\n",
    "\n",
    "![](images/height.png)\n",
    "\n",
    "Let $H(N)$ be the height of a tree with $N$ nodes. Determine $H(N)$ in $\\Theta$ notation for \"bushy\" and \"spindly\" trees, respectively.\n",
    "\n",
    "1. $\\Theta(log N)$, $\\Theta(log N)$\n",
    "2. $\\Theta(log N)$, $\\Theta(N)$\n",
    "3. $\\Theta(N)$, $\\Theta(log N)$\n",
    "4. $\\Theta(N)$, $\\Theta(N)$\n",
    "\n",
    "**Ans**: 2\n",
    "\n",
    "Performance of operations on \"spindly\" trees can be just as bad as a linked list!\n",
    "* Example: `contains(\"z\")` can take linear time"
   ]
  },
  {
   "cell_type": "markdown",
   "metadata": {},
   "source": [
    "## Statements about Tree Height\n",
    "\n",
    "Which of these statements are true?\n",
    "\n",
    "1. Worst case BST height is $\\Theta(N)$\n",
    "2. BST height is $O(N)$\n",
    "3. BST height is $O(N^2)$\n",
    "\n",
    "All of them are true!\n",
    "\n",
    "1. A worst case (spindly tree) has a height that grows linearly - $\\Theta(N)$\n",
    "2. All BSTs have a height that grows linearly ($N$) or better (it can be bushy, $log N$).\n",
    "3. Recall that the statement $O$ means less or better than. So this statement is still valid\n",
    "    * The worst case spindly tree height grows linearly, which is still better than quadratically\n",
    "    * The best case bushy tree is obviously better than quadratically"
   ]
  },
  {
   "cell_type": "markdown",
   "metadata": {},
   "source": [
    "## Statements about Tree Height\n",
    "\n",
    "Which of these statements is more informative?\n",
    "\n",
    "1. Worst case BST height is $\\Theta(N)$\n",
    "2. BST height is $O(N)$\n",
    "3. They are equally informative\n",
    "\n",
    "**Ans**: 1.\n",
    "\n",
    "The second statement only tells us that the height can grow better than $(N)$. It doesn't tell us the worst case scenario."
   ]
  },
  {
   "cell_type": "markdown",
   "metadata": {},
   "source": [
    "## BST Height\n",
    "\n",
    "BST height is all 4 of these:\n",
    "* $O(N)$\n",
    "* $\\Theta(log N)$ in the best case \"bushy\"\n",
    "* $\\Theta(N)$ in the worst case \"spindly\"\n",
    "* $O(N^2)$\n",
    "\n",
    "The middle 2 statements are more informative.\n",
    "* $O$ is **NOT** mathematically the same as \"worst case\". For example:\n",
    "    * BST heights are $O(N^2)$, but are not quadratic in the worst case\n",
    "    * ...but in real world, Big $O$ is often used as a shorthand for \"worst case\""
   ]
  },
  {
   "cell_type": "markdown",
   "metadata": {},
   "source": [
    "## The Usefulness of Big $O$\n",
    "\n",
    "Big $O$ is still a useful idea\n",
    "\n",
    "* Allows us to make simple blanket stements, for example:\n",
    "    * \"Binary search is $O(log N)$\n",
    "    * ...instead of \"binary search is $\\Theta(log N)$ in worst case\"\n",
    "* Sometimes we don't know the exact runtime, so use $O$ to give an upper bound. For example:\n",
    "    * Runtime for finding a shortest route that goes to all world cities is $O(2^N)$. There might be a faster way, but nobody has discovered one yet.\n",
    "* Easier to write proofs for $O$ than $\\Theta$. Example:\n",
    "    * Finding runtime of `mergesort`, we can round up the number of items to the next power of 2\n",
    "    * See A level study guide problems for Asymptotics 2 lecture"
   ]
  },
  {
   "cell_type": "code",
   "execution_count": null,
   "metadata": {},
   "outputs": [],
   "source": []
  }
 ],
 "metadata": {
  "kernelspec": {
   "display_name": "Python 3",
   "language": "python",
   "name": "python3"
  },
  "language_info": {
   "codemirror_mode": {
    "name": "ipython",
    "version": 3
   },
   "file_extension": ".py",
   "mimetype": "text/x-python",
   "name": "python",
   "nbconvert_exporter": "python",
   "pygments_lexer": "ipython3",
   "version": "3.7.4"
  }
 },
 "nbformat": 4,
 "nbformat_minor": 2
}
