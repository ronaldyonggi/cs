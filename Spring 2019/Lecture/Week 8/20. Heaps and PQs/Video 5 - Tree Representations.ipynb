{
 "cells": [
  {
   "cell_type": "markdown",
   "metadata": {},
   "source": [
    "# Tree Representations"
   ]
  },
  {
   "cell_type": "markdown",
   "metadata": {},
   "source": [
    "## How do We Represent a Tree in Java?\n",
    "\n",
    "![](images/tree.png)\n",
    "\n",
    "Suppose we have a tree with `w` as the root and 3 children. How do we implement this tree?\n",
    "\n",
    "#### Approach 1a: Fixed-Width Nodes (BSTMap used this approach)\n",
    "\n",
    "There are many ways, but the most natural way is how we did it in the past."
   ]
  },
  {
   "cell_type": "code",
   "execution_count": null,
   "metadata": {},
   "outputs": [],
   "source": [
    "public class Tree1A<Key> {\n",
    "    Key k;\n",
    "    Tree1A left; // Points to the left subtree\n",
    "    Tree1A middle; // Points to the middle subtree\n",
    "    Tree1A right; // Points to the right subtree \n",
    "}"
   ]
  },
  {
   "cell_type": "markdown",
   "metadata": {},
   "source": [
    "![](images/1a.png)"
   ]
  },
  {
   "cell_type": "markdown",
   "metadata": {},
   "source": [
    "#### Approach 1b: Variable-Width Nodes\n",
    "\n",
    "![](images/1b.png)\n",
    "\n",
    "Here we have memory boxes that store addresses to the array of children. "
   ]
  },
  {
   "cell_type": "code",
   "execution_count": null,
   "metadata": {},
   "outputs": [],
   "source": [
    "public class Tree1B<Key>{\n",
    "    Key k;\n",
    "    Tree1B[] children;\n",
    "    ...\n",
    "}"
   ]
  },
  {
   "cell_type": "markdown",
   "metadata": {},
   "source": [
    "#### Approach 1c: Sibling Tree\n",
    "\n",
    "![](images/1c.png)\n",
    "\n",
    "`w` has 2 memory boxes:\n",
    "* One points to its children\n",
    "* The other one points to `null`\n",
    "\n",
    "`x` also has 2 memory boxes\n",
    "* One points to its child\n",
    "* The other one to its sibling, `y`\n",
    "\n",
    "`y` works like `x`.\n"
   ]
  },
  {
   "cell_type": "code",
   "execution_count": null,
   "metadata": {},
   "outputs": [],
   "source": [
    "public class Tree1C<Key> {\n",
    "    Key k;\n",
    "    Tree1C w;\n",
    "    Tree1C sibling;\n",
    "    ...\n",
    "}"
   ]
  },
  {
   "cell_type": "markdown",
   "metadata": {},
   "source": [
    "### Approach 2: Store keys in an array, Store parentIDs in an array\n",
    "Similar to what we did with `disjointSets`\n",
    "\n",
    "![](images/app2.png)\n",
    "\n",
    "![](images/app22.png)\n",
    "\n",
    "If we store the keys in such order and the tree is complete, the `parents` array will be always go `0 0 1 1 2 2 3 3 4 4...` pattern."
   ]
  },
  {
   "cell_type": "markdown",
   "metadata": {},
   "source": [
    "### Approach 3: Store keys in an array. Don't store structure anywhere\n",
    "This approach works by noticing that in a complete tree, we can discard the `parents` array.\n",
    "* Assume that the tree is complete\n",
    "* Only works for complete trees\n",
    "\n",
    "![](images/app3.png)"
   ]
  },
  {
   "cell_type": "code",
   "execution_count": null,
   "metadata": {},
   "outputs": [],
   "source": [
    "public class Tree3<Key> {\n",
    "    Key[] keys;\n",
    "    ...\n",
    "}"
   ]
  },
  {
   "cell_type": "markdown",
   "metadata": {},
   "source": [
    "## A Deep Look at Approach 3\n",
    "\n",
    "We have the following `swim` method that swaps a parent node and one of its child if the parent is greater than the child."
   ]
  },
  {
   "cell_type": "code",
   "execution_count": null,
   "metadata": {},
   "outputs": [],
   "source": [
    "public void swim(int k) {\n",
    "    if (keys[parent(k)] > keys[k]) { // if the key of parent is greater than the current key\n",
    "        swap(k, parent(k)); // Then swap keys\n",
    "        swim(parent(k));\n",
    "    }\n",
    "}"
   ]
  },
  {
   "cell_type": "markdown",
   "metadata": {},
   "source": [
    "Challenge: What does the `parent(k)` method look like?"
   ]
  },
  {
   "cell_type": "code",
   "execution_count": null,
   "metadata": {},
   "outputs": [],
   "source": [
    "public int parent(int k) {\n",
    "    return (k - 1) / 2;\n",
    "}"
   ]
  },
  {
   "cell_type": "markdown",
   "metadata": {},
   "source": [
    "The trick are:\n",
    "* Know that every node has 2 children\n",
    "* Java rounds down the result of division operation."
   ]
  },
  {
   "cell_type": "markdown",
   "metadata": {},
   "source": [
    "## Tree Representations (Summary)\n",
    "\n",
    "![](images/summ.png)"
   ]
  },
  {
   "cell_type": "code",
   "execution_count": null,
   "metadata": {},
   "outputs": [],
   "source": []
  }
 ],
 "metadata": {
  "kernelspec": {
   "display_name": "Python 3",
   "language": "python",
   "name": "python3"
  },
  "language_info": {
   "codemirror_mode": {
    "name": "ipython",
    "version": 3
   },
   "file_extension": ".py",
   "mimetype": "text/x-python",
   "name": "python",
   "nbconvert_exporter": "python",
   "pygments_lexer": "ipython3",
   "version": "3.7.4"
  }
 },
 "nbformat": 4,
 "nbformat_minor": 2
}
