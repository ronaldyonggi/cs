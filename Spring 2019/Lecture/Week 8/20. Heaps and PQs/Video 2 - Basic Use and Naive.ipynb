{
 "cells": [
  {
   "cell_type": "markdown",
   "metadata": {},
   "source": [
    "## Better Implementation: Track the `M` Best"
   ]
  },
  {
   "cell_type": "code",
   "execution_count": null,
   "metadata": {},
   "outputs": [],
   "source": [
    "public List<String> unharmoniousTexts(Sniffer sniffer, int M) {\n",
    "    Comparator<String> cmptr = new HarmoniousnessComparator();\n",
    "    MinPQ<String> unharmoniousTexts = new HeapMinPQ<Transaction>(cmptr);\n",
    "    \n",
    "    // Keep adding text to the unharmoniousTexts, but the moment\n",
    "    // the size is greater than M, we remove the smallest text\n",
    "    for (Timer timer = new Timer(); timer.hours() < 24;) {\n",
    "        unharmoniousTexts.add(sniffer.getNextMessage());\n",
    "        if (unharmoniousTexts.size() > M) {\n",
    "            unharmoniousTexts.removeSmallest();\n",
    "        }\n",
    "    }\n",
    "    \n",
    "    ArrayList<String> textlist = new ArrayList<String>();\n",
    "    while (unharmoniousTexts.size() > 0) {\n",
    "        textlist.add(unharmoniousTexts.removeSmallest());\n",
    "    }\n",
    "    return textlist;\n",
    "}"
   ]
  },
  {
   "cell_type": "markdown",
   "metadata": {},
   "source": [
    "This way, we can track top `M` transactions using only `M` memory. API for `MinPQ` also makes code very simple (don't need to do explicit comparisons)."
   ]
  },
  {
   "cell_type": "markdown",
   "metadata": {},
   "source": [
    "## How Would We Implement a `MinPQ`?\n",
    "\n",
    "Some possibilities:\n",
    "\n",
    "* Ordered Array\n",
    "    * `add` and `removeSmallest` operations has worst runtime $\\Theta(N)$ because we potentially need to resize the array\n",
    "* Bushy BST\n",
    "    * Problem: handling duplicates\n",
    "    * If we have 2 things that have exactly the same size, BST wouldn't be able to handle that nicely\n",
    "* HashTable\n",
    "    * `adding` is fast since we just throw item into random bucket\n",
    "    * but `getSmallest` and `removeSmallest` will be slow since we need to look through each bucket and find the item\n",
    "\n",
    "![](images/how.png)"
   ]
  },
  {
   "cell_type": "code",
   "execution_count": null,
   "metadata": {},
   "outputs": [],
   "source": []
  }
 ],
 "metadata": {
  "kernelspec": {
   "display_name": "Python 3",
   "language": "python",
   "name": "python3"
  },
  "language_info": {
   "codemirror_mode": {
    "name": "ipython",
    "version": 3
   },
   "file_extension": ".py",
   "mimetype": "text/x-python",
   "name": "python",
   "nbconvert_exporter": "python",
   "pygments_lexer": "ipython3",
   "version": "3.7.4"
  }
 },
 "nbformat": 4,
 "nbformat_minor": 2
}
