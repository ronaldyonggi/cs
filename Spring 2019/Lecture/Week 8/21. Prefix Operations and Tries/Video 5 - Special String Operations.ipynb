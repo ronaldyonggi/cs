{
 "cells": [
  {
   "cell_type": "markdown",
   "metadata": {},
   "source": [
    "# Trie String Operations"
   ]
  },
  {
   "cell_type": "markdown",
   "metadata": {},
   "source": [
    "## String Specific Operations\n",
    " Theoretical asymptotic speed improvement is nice, but the **main appeal of tries** is their ability to efficiently support string specific operations like **prefix matching**\n",
    "\n",
    "* Finding all keys that match a given prefix: `keysWithPrefix(\"sa\")`\n",
    "* Finding longest prefix of: `longestPrefixOf(\"sample\")`"
   ]
  },
  {
   "cell_type": "markdown",
   "metadata": {},
   "source": [
    "## Prefix Matching Operations\n",
    "\n",
    "![](images/color.png)\n",
    "\n",
    "Example: Find the longest prefix of the string `longestPrefixOf(\"sample\")`.\n",
    "* Result: `sam`\n",
    "\n",
    "Example 2: Find all keys that match a given prefix: `keysWithPrefix(\"sa\")`\n",
    "* Result: \"sam\", \"sad\", \"same\", \"sap\""
   ]
  },
  {
   "cell_type": "markdown",
   "metadata": {},
   "source": [
    "## Collecting Trie Keys\n",
    "Give an algorithm for collecting all the keys in a Trie."
   ]
  },
  {
   "cell_type": "code",
   "execution_count": null,
   "metadata": {},
   "outputs": [],
   "source": [
    "collect():\n",
    "    // Create an empty list of results x\n",
    "    x = []\n",
    "    for character c in root.next.keys(): // Loop through all the root's links\n",
    "        Call colHelp(c, x, root.next.get(c))\n",
    "        // The third argument is accessing the root's children nodes\n",
    "    return x\n",
    "\n",
    "colHelp(String s, List<String> x, Node n):\n",
    "    // If the node is blue, add the string that we have gone\n",
    "    // through so far to x\n",
    "    if n.isKey, then x.add(s)\n",
    "    for character c in n.next.keys():\n",
    "        call recursive colHelp(s + c, x, n.next.get(c))"
   ]
  },
  {
   "cell_type": "markdown",
   "metadata": {},
   "source": [
    "## Usage of Tries\n",
    "\n",
    "Give an algorithm for `keysWithPrefix`\n",
    "* Example: `keysWithPrefix(\"sa\")` returns [\"sad\", \"sam\", \"same\", \"sap\"]"
   ]
  },
  {
   "cell_type": "code",
   "execution_count": null,
   "metadata": {},
   "outputs": [],
   "source": [
    "1. Find the node a corresponding to the string\n",
    "2. Create an empty list x\n",
    "3. For character c in a.next.keys():\n",
    "    call colHelp(\"sa\" + c, x, a.next.get(c))"
   ]
  },
  {
   "cell_type": "markdown",
   "metadata": {},
   "source": [
    "![](images/a.png)"
   ]
  },
  {
   "cell_type": "code",
   "execution_count": null,
   "metadata": {},
   "outputs": [],
   "source": []
  }
 ],
 "metadata": {
  "kernelspec": {
   "display_name": "Python 3",
   "language": "python",
   "name": "python3"
  },
  "language_info": {
   "codemirror_mode": {
    "name": "ipython",
    "version": 3
   },
   "file_extension": ".py",
   "mimetype": "text/x-python",
   "name": "python",
   "nbconvert_exporter": "python",
   "pygments_lexer": "ipython3",
   "version": "3.7.4"
  }
 },
 "nbformat": 4,
 "nbformat_minor": 2
}
