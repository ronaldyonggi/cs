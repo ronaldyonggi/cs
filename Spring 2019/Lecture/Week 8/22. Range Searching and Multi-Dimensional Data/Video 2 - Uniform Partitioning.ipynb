{
 "cells": [
  {
   "cell_type": "markdown",
   "metadata": {},
   "source": [
    "# Uniform Partitioning"
   ]
  },
  {
   "cell_type": "markdown",
   "metadata": {},
   "source": [
    "The problem with hash tables is that the bucket # of an item is effectively random. One fix is to ensure that the bucket #s depend only on position\n",
    "\n",
    "One simple idea is to **partitition** space into uniform rectangular buckets (also called \"bins\").\n",
    "\n",
    "![](images/grid.png)\n",
    "\n",
    "##### Question\n",
    "1. How many points need to be examined for call to `nearest(horse)`?\n",
    "    * 3. If we look closely at box \\#1, there are 3 dots close to the horse\n",
    "2. Which buckets do we need to iterate over to find all points in the green range?\n",
    "    * 5, 6, 9, and 10\n",
    "    * This is a huge improvement since we don't need to look at points in bucket 13!\n",
    "    \n",
    "Typical implementation would have the container itself compute a bucket number. That is:\n",
    "* Don't use the object's `hashCode()`\n",
    "* Instead, have each object provides `getX()` and `getY()`\n",
    "\n",
    "This is sometimes called **spatial hashing**\n",
    "\n",
    "##### Question\n",
    "What is the runtime for `nearest` assuming points are evenly spread out?\n",
    "* Still $\\Theta(N)$\n",
    "* On average, runtime is 16 times faster than without spatial partitioning, but N/16 is still $\\Theta(N)$\n",
    "\n"
   ]
  },
  {
   "cell_type": "code",
   "execution_count": null,
   "metadata": {},
   "outputs": [],
   "source": []
  }
 ],
 "metadata": {
  "kernelspec": {
   "display_name": "Python 3",
   "language": "python",
   "name": "python3"
  },
  "language_info": {
   "codemirror_mode": {
    "name": "ipython",
    "version": 3
   },
   "file_extension": ".py",
   "mimetype": "text/x-python",
   "name": "python",
   "nbconvert_exporter": "python",
   "pygments_lexer": "ipython3",
   "version": "3.7.4"
  }
 },
 "nbformat": 4,
 "nbformat_minor": 4
}
