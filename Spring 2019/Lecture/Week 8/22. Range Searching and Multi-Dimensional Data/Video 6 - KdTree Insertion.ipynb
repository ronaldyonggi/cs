{
 "cells": [
  {
   "cell_type": "markdown",
   "metadata": {},
   "source": [
    "# Higher Dimensional Data"
   ]
  },
  {
   "cell_type": "markdown",
   "metadata": {},
   "source": [
    "## 3D Data\n",
    "\n",
    "Suppose we want to store objects in 3D space.\n",
    "* In 2D, quadtrees only have 4 directions\n",
    "* In 3D, there are 8\n",
    "\n",
    "One approach: Use an Oct-tree or Octree\n",
    "* Break down space so that it becomes smaller for each level, as seen in the image below.\n",
    "\n",
    "![](images/octree.png)"
   ]
  },
  {
   "cell_type": "markdown",
   "metadata": {},
   "source": [
    "## Even Higher Dimensional Space"
   ]
  },
  {
   "cell_type": "markdown",
   "metadata": {},
   "source": [
    "We may want to organize data on a large number of dimensions. For example:"
   ]
  },
  {
   "cell_type": "code",
   "execution_count": null,
   "metadata": {},
   "outputs": [],
   "source": [
    "// Find songs with the following features:\n",
    "    1. length between 3 mins and 6 mins\n",
    "    2. Between 1000 and 20,000 listens\n",
    "    3. Between 120 to 150 BPM\n",
    "    4. Were recorded after 2004"
   ]
  },
  {
   "cell_type": "markdown",
   "metadata": {},
   "source": [
    "In these cases, one somewhat common solution is to store our data in a `k-d tree`.\n",
    "* Fascinating data structure that handles arbitrary numbers of dimensions\n",
    "    * k-d means \"k dimensional\"\n",
    "* For the sake of simplicity in lecture, we'll use 2D data, but the idea generalizes naturally"
   ]
  },
  {
   "cell_type": "markdown",
   "metadata": {},
   "source": [
    "## K-d Trees\n",
    "\n",
    "[Here](https://docs.google.com/presentation/d/1WW56RnFa3g6UJEquuIBymMcu9k2nqLrOE1ZlnTYFebg/edit?usp=sharing) is a demo of building a 2D k-d tree.\n",
    "\n",
    "Based on the demo, the idea is to switch back and forth between splitting left-right and splitting up-down."
   ]
  },
  {
   "cell_type": "code",
   "execution_count": null,
   "metadata": {},
   "outputs": [],
   "source": [
    "Root node starts with partitioning space into left and right (x-coordinate)\n",
    "Depth 1 nodes partition subspace into up and down (y-coordinate)\n",
    "Depth 2 nodes partition subspace into left and right (x-coordinate)"
   ]
  },
  {
   "cell_type": "markdown",
   "metadata": {},
   "source": [
    "And thus, we switch back and forth between comparing x coordinate and y-coordinate depending on the depth. **If there's tie**, the \"to-be-inserted\" item goes to the right (or up) child of each node."
   ]
  },
  {
   "cell_type": "code",
   "execution_count": null,
   "metadata": {},
   "outputs": [],
   "source": []
  }
 ],
 "metadata": {
  "kernelspec": {
   "display_name": "Python 3",
   "language": "python",
   "name": "python3"
  },
  "language_info": {
   "codemirror_mode": {
    "name": "ipython",
    "version": 3
   },
   "file_extension": ".py",
   "mimetype": "text/x-python",
   "name": "python",
   "nbconvert_exporter": "python",
   "pygments_lexer": "ipython3",
   "version": "3.7.4"
  }
 },
 "nbformat": 4,
 "nbformat_minor": 4
}
