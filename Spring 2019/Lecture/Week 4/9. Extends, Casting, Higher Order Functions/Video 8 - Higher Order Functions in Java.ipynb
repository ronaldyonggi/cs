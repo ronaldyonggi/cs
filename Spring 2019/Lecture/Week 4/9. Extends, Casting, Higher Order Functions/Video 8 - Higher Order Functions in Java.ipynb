{
 "cells": [
  {
   "cell_type": "markdown",
   "metadata": {},
   "source": [
    "# Higher-Order Functions"
   ]
  },
  {
   "cell_type": "markdown",
   "metadata": {},
   "source": [
    "A higher order function is a function that treats another function as data.\n",
    "* e.g. takes a function as input.\n",
    "\n",
    "Example in Python:"
   ]
  },
  {
   "cell_type": "code",
   "execution_count": 1,
   "metadata": {},
   "outputs": [
    {
     "name": "stdout",
     "output_type": "stream",
     "text": [
      "200\n"
     ]
    }
   ],
   "source": [
    "def tenX(x):\n",
    "    return 10 * x\n",
    "\n",
    "def do_twice(f, x):\n",
    "    return f(f(x))\n",
    "\n",
    "print(do_twice(tenX, 2))"
   ]
  },
  {
   "cell_type": "markdown",
   "metadata": {},
   "source": [
    "## Higher Order Functions in Java 7"
   ]
  },
  {
   "cell_type": "markdown",
   "metadata": {},
   "source": [
    "In Old School Java (Java 7 and earlier)\n",
    "* Fundamental issue: memory boxes (variables) can't contain pointers to functions.\n",
    "\n",
    "We can't write function that has function type\n",
    "* Recall Java automatically does type checking during compile time\n",
    "* But there's no type for functions\n",
    "\n",
    "The workaround is to use interface inheritance.\n",
    "* Define some abstract class that looks like a function but doesn't have a specific function (e.g. `IntUnaryFunction`)\n",
    "* Override the class's undefined method (e.g. `apply(int)`)\n",
    "\n",
    "![](images/abstract.png)"
   ]
  },
  {
   "cell_type": "code",
   "execution_count": null,
   "metadata": {},
   "outputs": [],
   "source": [
    "// Write this in a file IntUnaryFunction.java\n",
    "\n",
    "/*Represents a function that takes in an integer and returns\n",
    " an integer */\n",
    "public interface IntUnaryFunction {\n",
    "    public int apply(int x);\n",
    "}"
   ]
  },
  {
   "cell_type": "markdown",
   "metadata": {},
   "source": [
    "In IntelliJ, the word `public` in `public int apply` above will be underlined red as a warning that it's redundant. We can get rid of the `public` word,"
   ]
  },
  {
   "cell_type": "code",
   "execution_count": null,
   "metadata": {},
   "outputs": [],
   "source": [
    "public interface IntUnaryFunction {\n",
    "    int apply(int x);\n",
    "}"
   ]
  },
  {
   "cell_type": "markdown",
   "metadata": {},
   "source": [
    "Now let's write the `TenX` method!"
   ]
  },
  {
   "cell_type": "code",
   "execution_count": null,
   "metadata": {},
   "outputs": [],
   "source": [
    "// Write this in TenX.java\n",
    "\n",
    "public class TenX implements IntUnaryFunction {\n",
    "    public int apply(int x) {\n",
    "        return 10 * x;\n",
    "    }\n",
    "}"
   ]
  },
  {
   "cell_type": "markdown",
   "metadata": {},
   "source": [
    "Now let's create a new file `HofDemo.java` that will demonstrate the whole thing."
   ]
  },
  {
   "cell_type": "code",
   "execution_count": null,
   "metadata": {},
   "outputs": [],
   "source": [
    "public class HofDemo {\n",
    "    public static int do_twice(IntUnaryFunction f, int x) {\n",
    "        return f.apply(f.apply(x));\n",
    "    }\n",
    "    \n",
    "    public static void main(String[] args) {\n",
    "        int x = 2;\n",
    "        System.out.println(do_twice(TenX, 2));\n",
    "    }\n",
    "}"
   ]
  },
  {
   "cell_type": "markdown",
   "metadata": {},
   "source": [
    "If we try to run the file above, we'll run into an issue saying `TenX Expression expected`. `TenX` is a name of a class, but if we see the `do_twice`signature method,"
   ]
  },
  {
   "cell_type": "code",
   "execution_count": null,
   "metadata": {},
   "outputs": [],
   "source": [
    "public static int do_twice(IntUnaryFunction f, int x) {}"
   ]
  },
  {
   "cell_type": "markdown",
   "metadata": {},
   "source": [
    "`IntUnaryFunction` is an object! We need to instantiate the `TenX` object."
   ]
  },
  {
   "cell_type": "code",
   "execution_count": null,
   "metadata": {},
   "outputs": [],
   "source": [
    "public static void main(String[] args) {\n",
    "    IntUnaryFunction funcX = new TenX();\n",
    "    System.out.println(do_twice(funcX, 2));\n",
    "}"
   ]
  },
  {
   "cell_type": "markdown",
   "metadata": {},
   "source": [
    "...or,"
   ]
  },
  {
   "cell_type": "code",
   "execution_count": null,
   "metadata": {},
   "outputs": [],
   "source": [
    "public static void main(String[] args) {\n",
    "    IntUnaryFunction funcX = new TenX();\n",
    "    System.out.println(do_twice(new TenX(), 2));\n",
    "}"
   ]
  },
  {
   "cell_type": "markdown",
   "metadata": {},
   "source": [
    "## Implementation Inheritance Cheatsheet"
   ]
  },
  {
   "cell_type": "markdown",
   "metadata": {},
   "source": [
    "VengefulSLList extends SLList means a VengefulSLList is-an SLList. Inherits all members!\n",
    "\n",
    "* Variables, methods, nested classes\n",
    "* Not constructors\n",
    "    * Subclass constructor must invoke superclass constructor first\n",
    "    * Use `super` to invoke overridden superclass methods and constructors\n",
    "    \n",
    "Invocation of overridden methods follows 2 simple rules:\n",
    "\n",
    "* Compiler plays it safe and only lets us do things allowed by `static` type\n",
    "* For overridden methods the actual method invoked is based on `dynamic` type of invoking expression\n",
    "    * e.g. `Dog.maxDog(d1, d2).bark();`\n",
    "* Can use casting to overrule compiler type checking"
   ]
  }
 ],
 "metadata": {
  "kernelspec": {
   "display_name": "Python 3",
   "language": "python",
   "name": "python3"
  },
  "language_info": {
   "codemirror_mode": {
    "name": "ipython",
    "version": 3
   },
   "file_extension": ".py",
   "mimetype": "text/x-python",
   "name": "python",
   "nbconvert_exporter": "python",
   "pygments_lexer": "ipython3",
   "version": "3.7.4"
  }
 },
 "nbformat": 4,
 "nbformat_minor": 4
}
