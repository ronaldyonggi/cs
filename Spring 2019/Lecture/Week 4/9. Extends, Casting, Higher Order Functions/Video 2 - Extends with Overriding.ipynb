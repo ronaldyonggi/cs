{
 "cells": [
  {
   "cell_type": "markdown",
   "metadata": {},
   "source": [
    "## Example: VengefulSLList"
   ]
  },
  {
   "cell_type": "markdown",
   "metadata": {},
   "source": [
    "Suppose we want to build an SLList that:\n",
    "* Remembers all items that have been destroyed by `removeLast`\n",
    "* Has an additional method `printLostItems()`, which prints all deleted items."
   ]
  },
  {
   "cell_type": "code",
   "execution_count": null,
   "metadata": {},
   "outputs": [],
   "source": [
    "public static void main(String[] args) {\n",
    "    VengefulSLList<Integer> vs1 = new VengefulSLList<Integer>();\n",
    "    vs1.addLast(1);\n",
    "    vs1.addLast(5);\n",
    "    vs1.addLast(10);\n",
    "    vs1.addLast(13); // By now we have [1, 5, 10, 13]\n",
    "    vs1.removeLast(); // 13 removed\n",
    "    vs1.removeLast(); // 10 removed\n",
    "    System.out.print(\"The fallen are: \");\n",
    "    vs1.printLostItems(); // Should print 10, 13\n",
    "}"
   ]
  },
  {
   "cell_type": "code",
   "execution_count": null,
   "metadata": {},
   "outputs": [],
   "source": [
    "public class VengefulSLList<Item> extends SLList<Item> {\n",
    "    ... // Code goes here\n",
    "}"
   ]
  },
  {
   "cell_type": "markdown",
   "metadata": {},
   "source": [
    "First we need some kind of container to keep all the removed elements. Let's have a `SLList` for this."
   ]
  },
  {
   "cell_type": "code",
   "execution_count": null,
   "metadata": {},
   "outputs": [],
   "source": [
    "private SLList<Item> deletedItems = new SLList<Item>();"
   ]
  },
  {
   "cell_type": "markdown",
   "metadata": {},
   "source": [
    "Above is the common way of making `SLList`, but for the sake of future lecture, we'll use a constructor instead."
   ]
  },
  {
   "cell_type": "code",
   "execution_count": null,
   "metadata": {},
   "outputs": [],
   "source": [
    "private SLList<Item> deletedItems;\n",
    "public VengefulSLList() {\n",
    "    deletedItems = new SLList<Item>();\n",
    "}"
   ]
  },
  {
   "cell_type": "markdown",
   "metadata": {},
   "source": [
    "Now what should we do so that every time we do `removeLast()`, the removed element is saved to `deletedItems`? \n",
    "\n",
    "`@Override` the `removeLast()` method! We might be tempted to just copy the contents of `SLList`'s `removeLast()` method,"
   ]
  },
  {
   "cell_type": "code",
   "execution_count": null,
   "metadata": {},
   "outputs": [],
   "source": [
    "@Override\n",
    "public Item removeLast() {\n",
    "    Node back = getLastNode();\n",
    "    if (back == sentinel) {\n",
    "        return null;\n",
    "    }\n",
    "\n",
    "    size = size - 1;\n",
    "    Node p = sentinel;\n",
    "\n",
    "    while (p.next != back) {\n",
    "        p = p.next;\n",
    "    }\n",
    "    p.next = null;\n",
    "    return back.item;\n",
    "\n",
    "}"
   ]
  },
  {
   "cell_type": "markdown",
   "metadata": {},
   "source": [
    "However, this won't work because we set instance variables such as `sentinel` as `private`. Instead, we use the keyword `super` to indicate that we're using the superclass's method."
   ]
  },
  {
   "cell_type": "code",
   "execution_count": 1,
   "metadata": {},
   "outputs": [
    {
     "ename": "SyntaxError",
     "evalue": "invalid syntax (<ipython-input-1-f41560f5e09e>, line 2)",
     "output_type": "error",
     "traceback": [
      "\u001b[0;36m  File \u001b[0;32m\"<ipython-input-1-f41560f5e09e>\"\u001b[0;36m, line \u001b[0;32m2\u001b[0m\n\u001b[0;31m    public Item removeLast() {}\u001b[0m\n\u001b[0m         ^\u001b[0m\n\u001b[0;31mSyntaxError\u001b[0m\u001b[0;31m:\u001b[0m invalid syntax\n"
     ]
    }
   ],
   "source": [
    "@Override\n",
    "public Item removeLast() {\n",
    "    Item oldBack = super.removeLast(); // Calls superclass (in this case, SLList)'s\n",
    "    // version of removeLast()\n",
    "    deletedItems.addLast(oldBack); // We don't need to call superclass here because deletedItems\n",
    "    // is an SLList\n",
    "    \n",
    "}"
   ]
  },
  {
   "cell_type": "markdown",
   "metadata": {},
   "source": [
    "And finally, the method to print all the elements,"
   ]
  },
  {
   "cell_type": "code",
   "execution_count": null,
   "metadata": {},
   "outputs": [],
   "source": [
    "public void printLostItems() {\n",
    "    deletedItems.print();\n",
    "}"
   ]
  },
  {
   "cell_type": "markdown",
   "metadata": {},
   "source": [
    "## The Object Class"
   ]
  },
  {
   "cell_type": "markdown",
   "metadata": {},
   "source": [
    "Every type in Java is a descendant of the Object class.\n",
    "* VengefullSLList extends SLList\n",
    "* SLList extends Object (implicitly)\n",
    "\n",
    "![](images/object.png)\n",
    "\n",
    "This way, every class that we made can do [Object methods](https://docs.oracle.com/javase/9/docs/api/java/lang/Object.html)\n",
    "\n",
    "Note: interfaces don't extend Object."
   ]
  },
  {
   "cell_type": "markdown",
   "metadata": {},
   "source": []
  }
 ],
 "metadata": {
  "kernelspec": {
   "display_name": "Python 3",
   "language": "python",
   "name": "python3"
  },
  "language_info": {
   "codemirror_mode": {
    "name": "ipython",
    "version": 3
   },
   "file_extension": ".py",
   "mimetype": "text/x-python",
   "name": "python",
   "nbconvert_exporter": "python",
   "pygments_lexer": "ipython3",
   "version": "3.7.5"
  }
 },
 "nbformat": 4,
 "nbformat_minor": 4
}
