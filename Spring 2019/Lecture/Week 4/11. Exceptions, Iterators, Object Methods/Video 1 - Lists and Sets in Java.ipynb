{
 "cells": [
  {
   "cell_type": "markdown",
   "metadata": {},
   "source": [
    "## Lists"
   ]
  },
  {
   "cell_type": "markdown",
   "metadata": {},
   "source": [
    "In lecture, we've build 2 types of lists: `ALists` and `SLLists`"
   ]
  },
  {
   "cell_type": "code",
   "execution_count": null,
   "metadata": {},
   "outputs": [],
   "source": [
    "List61B<Integer> L = new AList<>();\n",
    "L.addLast(5);\n",
    "L.addLast(10);\n",
    "L.addLast(15);\n",
    "L.print();"
   ]
  },
  {
   "cell_type": "markdown",
   "metadata": {},
   "source": [
    "And if we run this program,"
   ]
  },
  {
   "cell_type": "code",
   "execution_count": null,
   "metadata": {},
   "outputs": [],
   "source": [
    "$ java ListExample\n",
    "3 4 5"
   ]
  },
  {
   "cell_type": "markdown",
   "metadata": {},
   "source": [
    "This is similar to Python lists,"
   ]
  },
  {
   "cell_type": "code",
   "execution_count": 1,
   "metadata": {},
   "outputs": [
    {
     "name": "stdout",
     "output_type": "stream",
     "text": [
      "[3, 4, 5]\n"
     ]
    }
   ],
   "source": [
    "L = []\n",
    "L.append(3)\n",
    "L.append(4)\n",
    "L.append(5)\n",
    "print(L)"
   ]
  },
  {
   "cell_type": "markdown",
   "metadata": {},
   "source": [
    "## Lists in Real Java Code"
   ]
  },
  {
   "cell_type": "markdown",
   "metadata": {},
   "source": [
    "We've built a list from scratch, but Java provides a built-in `List` interface and several implementations, e.g. `ArrayList`"
   ]
  },
  {
   "cell_type": "code",
   "execution_count": null,
   "metadata": {},
   "outputs": [],
   "source": [
    "java.util.List<Integer> L = new java.util.ArrayList<>();\n",
    "L.add(5);\n",
    "L.add(10);\n",
    "L.add(15);\n",
    "System.out.println(L);"
   ]
  },
  {
   "cell_type": "markdown",
   "metadata": {},
   "source": [
    "Compare with what we have previously,"
   ]
  },
  {
   "cell_type": "code",
   "execution_count": null,
   "metadata": {},
   "outputs": [],
   "source": [
    "// We built this from scratch\n",
    "List61B<Integer> L = new AList<>();\n",
    "L.addLast(5);\n",
    "L.addLast(10);\n",
    "L.addLast(15);\n",
    "L.print();"
   ]
  },
  {
   "cell_type": "markdown",
   "metadata": {},
   "source": [
    "But notice that `java.util.list...` is somewhat verbose. By including `import java.util.List` and `import java.util.ArrayList` at the top of the file, we can make the code more compact."
   ]
  },
  {
   "cell_type": "code",
   "execution_count": null,
   "metadata": {},
   "outputs": [],
   "source": [
    "import java.util.List;\n",
    "import java.util.ArrayList;\n",
    "\n",
    "public class SimpleBultInListExample{\n",
    "    public static void main(String[] args) {\n",
    "        List<Integer> L = new ArrayList<>();\n",
    "        L.add(5);\n",
    "        L.add(10);\n",
    "        L.add(15);\n",
    "        System.out.println(L);\n",
    "    }\n",
    "}"
   ]
  },
  {
   "cell_type": "markdown",
   "metadata": {},
   "source": [
    "## Sets in Java and Python"
   ]
  },
  {
   "cell_type": "markdown",
   "metadata": {},
   "source": [
    "Another handy data structure is the set. It stores a set of values with no duplicates. Has no sense of order."
   ]
  },
  {
   "cell_type": "code",
   "execution_count": null,
   "metadata": {},
   "outputs": [],
   "source": [
    "Set<String> S = new HashSet<>();\n",
    "S.add(\"Tokyo\");\n",
    "S.add(\"Beijing\");\n",
    "S.add(\"Lagos\");\n",
    "S.add(\"Sao Paulo\");\n",
    "System.out.println(S.contains(\"Tokyo\"));\n",
    "\n",
    "// If we run this program, the output will be as the following,\n",
    "true"
   ]
  },
  {
   "cell_type": "markdown",
   "metadata": {},
   "source": [
    "The analogy in Python is as the following,"
   ]
  },
  {
   "cell_type": "code",
   "execution_count": 2,
   "metadata": {},
   "outputs": [
    {
     "name": "stdout",
     "output_type": "stream",
     "text": [
      "True\n"
     ]
    }
   ],
   "source": [
    "s = set()\n",
    "s.add(\"Tokyo\")\n",
    "s.add(\"Beijing\")\n",
    "s.add(\"Lagos\")\n",
    "s.add(\"Sao Paulo\")\n",
    "print(\"Tokyo\" in s)"
   ]
  },
  {
   "cell_type": "markdown",
   "metadata": {},
   "source": [
    "## ArraySet"
   ]
  },
  {
   "cell_type": "markdown",
   "metadata": {},
   "source": [
    "We're going to write our own Set called `ArraySet` "
   ]
  },
  {
   "cell_type": "code",
   "execution_count": null,
   "metadata": {},
   "outputs": [],
   "source": [
    "ArraySet<String> S = new ArraySet<>();\n",
    "S.add(\"Tokyo\");\n",
    "S.add(\"Beijing\");\n",
    "S.add(\"Lagos\");\n",
    "S.add(\"Sao Paulo\");\n",
    "System.out.println(S.contains(\"Tokyo\"));\n",
    "System.out.println(S.size());"
   ]
  },
  {
   "cell_type": "markdown",
   "metadata": {},
   "source": [
    "## Goals"
   ]
  },
  {
   "cell_type": "markdown",
   "metadata": {},
   "source": [
    "Goal 1: Create a class `ArraySet` with the following methods:\n",
    "* `add(value)`: add the value to the set if it is not already present\n",
    "* `contains(value)`: checks to see if `ArraySet` contains the key\n",
    "* `size()` : returns number of values\n",
    "\n",
    "It's ok to ignore resizing for this exercise. See DIY folder in the `lectureCode` repo for starter code."
   ]
  },
  {
   "cell_type": "markdown",
   "metadata": {},
   "source": []
  }
 ],
 "metadata": {
  "kernelspec": {
   "display_name": "Python 3",
   "language": "python",
   "name": "python3"
  },
  "language_info": {
   "codemirror_mode": {
    "name": "ipython",
    "version": 3
   },
   "file_extension": ".py",
   "mimetype": "text/x-python",
   "name": "python",
   "nbconvert_exporter": "python",
   "pygments_lexer": "ipython3",
   "version": "3.7.4"
  }
 },
 "nbformat": 4,
 "nbformat_minor": 4
}
