{
 "cells": [
  {
   "cell_type": "markdown",
   "metadata": {},
   "source": [
    "# Object Methods: `Equals` and `toString()`"
   ]
  },
  {
   "cell_type": "markdown",
   "metadata": {},
   "source": [
    "We're going to overwrite some object methods that ArraySet inherits by default from the Object class."
   ]
  },
  {
   "cell_type": "markdown",
   "metadata": {},
   "source": [
    "## Objects"
   ]
  },
  {
   "cell_type": "markdown",
   "metadata": {},
   "source": [
    "All classes are hyponyms of `Object`. These are the methods that Objects have:"
   ]
  },
  {
   "cell_type": "code",
   "execution_count": null,
   "metadata": {},
   "outputs": [],
   "source": [
    "// Will discuss soon\n",
    "String toString()\n",
    "boolean equals(Object obj)\n",
    "\n",
    "// Will discuss in the future\n",
    "Class<?> getClass()\n",
    "int hashCode()\n",
    "\n",
    "// Won't discussed at all in 61B\n",
    "protected Object clone()\n",
    "protected void finalize()\n",
    "void notify\n",
    "void notifyAll()\n",
    "void wait()\n",
    "void wait(long timeout)\n",
    "void wait(long timeout, int nanos)"
   ]
  },
  {
   "cell_type": "markdown",
   "metadata": {},
   "source": [
    "## `toString()`"
   ]
  },
  {
   "cell_type": "markdown",
   "metadata": {},
   "source": [
    "The `toString()` method provides a string representation of an object.\n",
    "\n",
    "For example, if we run the following,"
   ]
  },
  {
   "cell_type": "code",
   "execution_count": null,
   "metadata": {},
   "outputs": [],
   "source": [
    "Set<Integer> javaset = new HashSet<>();\n",
    "javaset.add(5);\n",
    "javaset.add(23);\n",
    "javaset.add(42);\n",
    "\n",
    "System.out.println(javaset);\n",
    "\n",
    "// === Output===\n",
    "[5, 23, 42]"
   ]
  },
  {
   "cell_type": "markdown",
   "metadata": {},
   "source": [
    "Notice the `println` call,"
   ]
  },
  {
   "cell_type": "code",
   "execution_count": null,
   "metadata": {},
   "outputs": [],
   "source": [
    "System.out.println(javaset);"
   ]
  },
  {
   "cell_type": "markdown",
   "metadata": {},
   "source": [
    "...we're not explicitly calling Javaset's `toString()` method like this,"
   ]
  },
  {
   "cell_type": "code",
   "execution_count": null,
   "metadata": {},
   "outputs": [],
   "source": [
    "System.out.println(javaset.toString());"
   ]
  },
  {
   "cell_type": "markdown",
   "metadata": {},
   "source": [
    "This is because in Java, if we print some object,"
   ]
  },
  {
   "cell_type": "code",
   "execution_count": null,
   "metadata": {},
   "outputs": [],
   "source": [
    "System.out.println(Object x);"
   ]
  },
  {
   "cell_type": "markdown",
   "metadata": {},
   "source": [
    "...it will automatically call,"
   ]
  },
  {
   "cell_type": "code",
   "execution_count": null,
   "metadata": {},
   "outputs": [],
   "source": [
    "x.toString()"
   ]
  },
  {
   "cell_type": "markdown",
   "metadata": {},
   "source": [
    "On the other hand, if we use our ArraySet implementation,"
   ]
  },
  {
   "cell_type": "code",
   "execution_count": null,
   "metadata": {},
   "outputs": [],
   "source": [
    "ArraySet<Integer> aset = new ArraySet<>();\n",
    "aset.add(5);\n",
    "aset.add(23);\n",
    "aset.add(42);\n",
    "\n",
    "System.out.println(aset);\n",
    "\n",
    "// === Output ===\n",
    "ArraySet@75412c2f"
   ]
  },
  {
   "cell_type": "markdown",
   "metadata": {},
   "source": [
    "The implementation of `toString()` in Object is:\n",
    "* The name of the class\n",
    "* Followed by `@` sign\n",
    "* Followed by the memory location of the object\n",
    "    * 61C covers what memory location means"
   ]
  },
  {
   "cell_type": "markdown",
   "metadata": {},
   "source": [
    "## ArraySet `toString()`"
   ]
  },
  {
   "cell_type": "markdown",
   "metadata": {},
   "source": [
    "Let's try implementing toString for ArraySet,"
   ]
  },
  {
   "cell_type": "code",
   "execution_count": null,
   "metadata": {},
   "outputs": [],
   "source": [
    "public class ArraySet implement Iterable<T> {\n",
    "    ...\n",
    "    @Override\n",
    "    public String toString() {\n",
    "        String returnString = \"{\";\n",
    "        for (T item: this) {\n",
    "            returnString += item.toString();\n",
    "            returnString += \", \";\n",
    "        }\n",
    "        returnString += \"}\";\n",
    "        return returnString;\n",
    "    }\n",
    "}"
   ]
  },
  {
   "cell_type": "markdown",
   "metadata": {},
   "source": [
    "With this implementation, if we run the `main` method,"
   ]
  },
  {
   "cell_type": "code",
   "execution_count": null,
   "metadata": {},
   "outputs": [],
   "source": [
    "ArraySet<Integer> aset = new ArraySet<>();\n",
    "aset.add(5);\n",
    "aset.add(23);\n",
    "aset.add(42);\n",
    "\n",
    "System.out.println(aset);\n",
    "\n",
    "// === Output ===\n",
    "{5, 23, 42, }"
   ]
  },
  {
   "cell_type": "markdown",
   "metadata": {},
   "source": [
    "Now if we look back at our code, notice the following part,"
   ]
  },
  {
   "cell_type": "code",
   "execution_count": null,
   "metadata": {},
   "outputs": [],
   "source": [
    "returnString += item.toString();"
   ]
  },
  {
   "cell_type": "markdown",
   "metadata": {},
   "source": [
    "The code still works just fine even if we omit the `.toString();"
   ]
  },
  {
   "cell_type": "code",
   "execution_count": null,
   "metadata": {},
   "outputs": [],
   "source": [
    "returnString += item"
   ]
  },
  {
   "cell_type": "markdown",
   "metadata": {},
   "source": [
    "If we try to combine a String with non-string object, Java automatically calls `.toString()` on that object.\n",
    "\n",
    "Note that with our current implementation, the resulting list has an extra comma! Let's create another implementation that properly prints the comma."
   ]
  },
  {
   "cell_type": "code",
   "execution_count": null,
   "metadata": {},
   "outputs": [],
   "source": [
    "@Override\n",
    "public String toString() {\n",
    "    String returnString = \"{\";\n",
    "    for (int i = 0; i < size - 1; i += 1) {\n",
    "        returnString += items[i].toString();\n",
    "        returnString += \", \";\n",
    "    }\n",
    "    returnString += items[size -1];\n",
    "    returnString += \"}\";\n",
    "    return returnString;\n",
    "}"
   ]
  },
  {
   "cell_type": "markdown",
   "metadata": {},
   "source": [
    "Warning: this code is slow. Why?\n",
    "\n",
    "Adding even a single character to a string creates an entirely new string. This is because strings are immutable. "
   ]
  },
  {
   "cell_type": "markdown",
   "metadata": {},
   "source": [
    "### Much Faster Approach - `StringBuilder`"
   ]
  },
  {
   "cell_type": "code",
   "execution_count": null,
   "metadata": {},
   "outputs": [],
   "source": [
    "@Override\n",
    "public String toString() {\n",
    "    StringBUilder returnSB = new StringBuilder(\"{\");\n",
    "    for (int i = 0; i < size - 1; i += 1) {\n",
    "        returnSB.append(items[i]);\n",
    "        returnSB.append(\", \");\n",
    "    }\n",
    "    returnSB.append(items[size - 1]);\n",
    "    returnSB.append(\"}\");\n",
    "    return returnSB.toString();\n",
    "}"
   ]
  },
  {
   "cell_type": "markdown",
   "metadata": {},
   "source": [
    "This approach runtime is linear, while our previous implementation runtime is quadratic! How come:\n",
    "\n",
    "**Ans**: `append` operation for a StringBuilder is a lot faster compared to creating a whole new Array."
   ]
  }
 ],
 "metadata": {
  "kernelspec": {
   "display_name": "Python 3",
   "language": "python",
   "name": "python3"
  },
  "language_info": {
   "codemirror_mode": {
    "name": "ipython",
    "version": 3
   },
   "file_extension": ".py",
   "mimetype": "text/x-python",
   "name": "python",
   "nbconvert_exporter": "python",
   "pygments_lexer": "ipython3",
   "version": "3.7.4"
  }
 },
 "nbformat": 4,
 "nbformat_minor": 4
}
