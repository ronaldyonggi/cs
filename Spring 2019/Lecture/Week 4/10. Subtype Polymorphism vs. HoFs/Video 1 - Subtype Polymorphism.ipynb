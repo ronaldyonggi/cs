{
 "cells": [
  {
   "cell_type": "markdown",
   "metadata": {},
   "source": [
    "# Subtype Polymorphism"
   ]
  },
  {
   "cell_type": "markdown",
   "metadata": {},
   "source": [
    "The bigest idea of the last couple of lectures: **Subtype Polymorphism**\n",
    "* Polymorphism: \"Providing a single interface to entities of different types\"\n",
    "\n",
    "Consider a variable `deque` of static (compile-type) type `Deque`:\n",
    "* When we call `deque.addFirst()`, the actual behavior is based on dynamic type (runtime type)\n",
    "* Java automatically selects the right behavior using what's sometimes called \"dynamic method selection\""
   ]
  },
  {
   "cell_type": "markdown",
   "metadata": {},
   "source": [
    "## Subtype Polymorphism vs. Explicit HoFs"
   ]
  },
  {
   "cell_type": "markdown",
   "metadata": {},
   "source": [
    "Suppose we want to write a program that prints a string representation of the larger of 2 objects. The Python code of the HoF approach looks like the following"
   ]
  },
  {
   "cell_type": "code",
   "execution_count": null,
   "metadata": {},
   "outputs": [],
   "source": [
    "# Explicit HoF Approach\n",
    "\n",
    "def print_larger(x, y, compare, stringify): # This style fo taking functions is called \"callback\"\n",
    "    if compare(x, y):\n",
    "        return stringify(x)\n",
    "    return stringify(y)"
   ]
  },
  {
   "cell_type": "markdown",
   "metadata": {},
   "source": [
    "Another approach is to use the Subtype Polymorphism approach that looks like the following,"
   ]
  },
  {
   "cell_type": "code",
   "execution_count": null,
   "metadata": {},
   "outputs": [],
   "source": [
    "# Subtype Polymorphism Approach\n",
    "\n",
    "def print_larger(x, y):\n",
    "    if x.largerThan(y):\n",
    "        return x.str()\n",
    "    return y.str"
   ]
  }
 ],
 "metadata": {
  "kernelspec": {
   "display_name": "Python 3",
   "language": "python",
   "name": "python3"
  },
  "language_info": {
   "codemirror_mode": {
    "name": "ipython",
    "version": 3
   },
   "file_extension": ".py",
   "mimetype": "text/x-python",
   "name": "python",
   "nbconvert_exporter": "python",
   "pygments_lexer": "ipython3",
   "version": "3.7.4"
  }
 },
 "nbformat": 4,
 "nbformat_minor": 4
}
