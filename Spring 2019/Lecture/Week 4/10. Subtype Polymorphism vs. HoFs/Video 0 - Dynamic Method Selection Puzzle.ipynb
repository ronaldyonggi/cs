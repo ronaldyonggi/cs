{
 "cells": [
  {
   "cell_type": "markdown",
   "metadata": {},
   "source": [
    "# Dynamic Method Selection Puzzle"
   ]
  },
  {
   "cell_type": "markdown",
   "metadata": {},
   "source": [
    "## Dog and ShowDog"
   ]
  },
  {
   "cell_type": "markdown",
   "metadata": {},
   "source": [
    "Suppose we have 2 classes:\n",
    "\n",
    "* `Dog`: implements `bark()` method\n",
    "* `ShowDog`: extends `Dog`, overrides `bark` method\n",
    "\n",
    "Summarizing is-a relationship, we have:\n",
    "\n",
    "* Every `ShowDog` is-a `Dog`\n",
    "* Every `Dog` is-an Object\n",
    "    * All types in Java are a subtype of Object\n",
    "    \n",
    "![](images/dog.png)"
   ]
  },
  {
   "cell_type": "markdown",
   "metadata": {},
   "source": [
    "## A Typing Puzzle"
   ]
  },
  {
   "cell_type": "markdown",
   "metadata": {},
   "source": [
    "* For each assignment, decide if it causes a compile error.\n",
    "* For each call to bark, decide whether:\n",
    "    * `Dog.bark()` is called\n",
    "    * `ShowDog.bark()` is called\n",
    "    * A syntax error results\n",
    "    \n",
    "The rules:\n",
    "* Compiler allows memory box to hold any subtype\n",
    "* Compiler allows calls based on static type\n",
    "* Overridden non-static methods are selected at run time based on dynamic type\n",
    "    * Everything else is based on static type, including overloaded methods"
   ]
  },
  {
   "cell_type": "code",
   "execution_count": null,
   "metadata": {},
   "outputs": [],
   "source": [
    "Object o2 = new ShowDog(\"Mortimer\", \"Corgi\", 25, 512.2);\n",
    "//Works fine because any result of ShowDog is an object"
   ]
  },
  {
   "cell_type": "code",
   "execution_count": null,
   "metadata": {},
   "outputs": [],
   "source": [
    "ShowDog sdx = ((ShowDog) o2);\n",
    "// Works fine since we're assigning a \"forced\" ShowDog into a ShowDog variable\n",
    "\n",
    "sdx.bark();\n",
    "// bark() method is overridden and sdx's dynamic type is ShowDog, so call ShowDog.bark()"
   ]
  },
  {
   "cell_type": "code",
   "execution_count": null,
   "metadata": {},
   "outputs": [],
   "source": [
    "Dog dx = ((Dog) o2);\n",
    "// Works fine since we're assigning a \"forced\" Dog into a Dog variable\n",
    "\n",
    "dx.bark();\n",
    "/* Even though dx was casted as a Dog, o2 was originally pointing at a ShowDog instance, thus\n",
    "the dynamic type is ShowDog. Call ShowDog.bark() */"
   ]
  },
  {
   "cell_type": "code",
   "execution_count": null,
   "metadata": {},
   "outputs": [],
   "source": [
    "((Dog) o2).bark();\n",
    "/* Similar to the previous statement, o2 was originally pointing at a ShowDog instance.\n",
    "Calls ShowDog.bark() */"
   ]
  },
  {
   "cell_type": "code",
   "execution_count": null,
   "metadata": {},
   "outputs": [],
   "source": [
    "Object o3 = (Dog) o2;\n",
    "// A Dog is an object, so it works fine\n",
    "\n",
    "o3.bark();\n",
    "// An object class doesn't have a bark() method, so this fails!"
   ]
  },
  {
   "cell_type": "markdown",
   "metadata": {},
   "source": [
    "## Static Methods, Variables, and Inheritance"
   ]
  },
  {
   "cell_type": "markdown",
   "metadata": {},
   "source": [
    "We may find questions on old61B exams, worksheets, etc. that consider:\n",
    "* What if a subclass has variables with the same name as the superclass?\n",
    "* What if subclass has a static method with the same signature as a superclass method?\n",
    "    * For static methods, we don't use the term `overriding` for this\n",
    "    \n",
    "These 2 practices above are called \"hiding\"\n",
    "* It's a bad style\n",
    "* There s no good reason to ever do this\n",
    "* The rules for resolving the conflict are a bit confusing to learn\n",
    "* It's stop being taught in 61B"
   ]
  }
 ],
 "metadata": {
  "kernelspec": {
   "display_name": "Python 3",
   "language": "python",
   "name": "python3"
  },
  "language_info": {
   "codemirror_mode": {
    "name": "ipython",
    "version": 3
   },
   "file_extension": ".py",
   "mimetype": "text/x-python",
   "name": "python",
   "nbconvert_exporter": "python",
   "pygments_lexer": "ipython3",
   "version": "3.7.4"
  }
 },
 "nbformat": 4,
 "nbformat_minor": 4
}
