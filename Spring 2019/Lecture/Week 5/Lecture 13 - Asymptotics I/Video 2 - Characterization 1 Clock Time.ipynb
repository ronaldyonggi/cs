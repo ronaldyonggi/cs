{
 "cells": [
  {
   "cell_type": "markdown",
   "metadata": {},
   "source": [
    "## How Do I Runtime Characterization"
   ]
  },
  {
   "cell_type": "markdown",
   "metadata": {},
   "source": [
    "Below we have implementations of the duplicate finding algorithm that we discussed in the previous lecture."
   ]
  },
  {
   "cell_type": "code",
   "execution_count": null,
   "metadata": {},
   "outputs": [],
   "source": [
    "// Inefficient Algorithm\n",
    "\n",
    "public static boolean dup1(int[] A) {\n",
    "    for (int i = 0; i < A.length; i += 1) {\n",
    "        for (int j = i + 1; j < A.length; j += 1) {\n",
    "            if (A[i] == A[j]) {\n",
    "                return true;\n",
    "            }\n",
    "        }\n",
    "    }\n",
    "    return false;\n",
    "}"
   ]
  },
  {
   "cell_type": "code",
   "execution_count": null,
   "metadata": {},
   "outputs": [],
   "source": [
    "// More efficient algorithm\n",
    "\n",
    "public static boolean dup2(int[] A) {\n",
    "    for (int i = 0; i < A.length - 1; i += 1) {\n",
    "        if (A[i] == A[i+1]) {\n",
    "            return true;\n",
    "        }\n",
    "    }\n",
    "    return false;\n",
    "}"
   ]
  },
  {
   "cell_type": "markdown",
   "metadata": {},
   "source": [
    "Our goal is to **characterize the runtimes** of the methods above. Characterization should...\n",
    "* ...be simple and mathematically rigorous\n",
    "* ...demonstrate superiority of `dup2` over `dup1`"
   ]
  },
  {
   "cell_type": "markdown",
   "metadata": {},
   "source": [
    "## Techniques for Measuring Computational Cost"
   ]
  },
  {
   "cell_type": "markdown",
   "metadata": {},
   "source": [
    "Technique 1: Measure execution time in seconds using a client program. Some possible tools that we can use:\n",
    "* Physical stopwatch\n",
    "* Unix has a built-in `time` command that measures execution time\n",
    "* Princeton Standard library has a `Stopwatch` class"
   ]
  },
  {
   "cell_type": "markdown",
   "metadata": {},
   "source": [
    "Let's say we have the following `Dup2.java`,"
   ]
  },
  {
   "cell_type": "code",
   "execution_count": null,
   "metadata": {},
   "outputs": [],
   "source": [
    "import java.util.ArrayList;\n",
    "import java.util.List;\n",
    "\n",
    "public class Dup2 {\n",
    "\n",
    "    public static boolean dup2(int[] A) {\n",
    "        for (int i = 0; i < A.length - 1; i += 1) {\n",
    "            if (A[i] == A[i+1]) {\n",
    "                return true;\n",
    "            }\n",
    "        }\n",
    "        return false;\n",
    "    }\n",
    "\n",
    "    public static int[] makeArray(int N) {\n",
    "        int[] A = new int[N];\n",
    "        for (int i = 0; i < N; i ++) {\n",
    "            A[i] = i;\n",
    "        }\n",
    "        return A;\n",
    "    }\n",
    "\n",
    "    public static void main(String[] args) {\n",
    "        int N = Integer.parseInt(args[0]);\n",
    "        int[] A = makeArray(N);\n",
    "        dup2(A);\n",
    "    }\n",
    "}"
   ]
  },
  {
   "cell_type": "markdown",
   "metadata": {},
   "source": [
    "We can measure the runtime by running the following on terminal (make sure the `Dup2.java` file is in the same directory)"
   ]
  },
  {
   "cell_type": "code",
   "execution_count": 10,
   "metadata": {},
   "outputs": [
    {
     "name": "stdout",
     "output_type": "stream",
     "text": [
      "\n",
      "real\t0m0.144s\n",
      "user\t0m0.118s\n",
      "sys\t0m0.048s\n"
     ]
    }
   ],
   "source": [
    "!time java Dup2 100000"
   ]
  },
  {
   "cell_type": "markdown",
   "metadata": {},
   "source": [
    "Testing the runtime for Dup1,"
   ]
  },
  {
   "cell_type": "code",
   "execution_count": 11,
   "metadata": {},
   "outputs": [
    {
     "name": "stdout",
     "output_type": "stream",
     "text": [
      "\n",
      "real\t0m1.753s\n",
      "user\t0m1.695s\n",
      "sys\t0m0.062s\n"
     ]
    }
   ],
   "source": [
    "!time java Dup1 100000"
   ]
  },
  {
   "cell_type": "markdown",
   "metadata": {},
   "source": [
    "We can see that `Dup2` is considerably faster in runtime!"
   ]
  },
  {
   "cell_type": "markdown",
   "metadata": {},
   "source": [
    "## Time Measurements for `dup1` and `dup2`"
   ]
  },
  {
   "cell_type": "markdown",
   "metadata": {},
   "source": [
    "| N | `dup1` | `dup2`|\n",
    "| --- | --- | --- |\n",
    "| 10000| 0.08 | 0.08 |\n",
    "|50000| 0.32 | 0.08|\n",
    "|100000| 1.00 | 0.08 |\n",
    "|200000| 8.26|0.1|\n",
    "|400000| 15.4|0.1|\n",
    "\n",
    "Time to complete (in seconds)\n",
    "\n",
    "![](images/dup.png)"
   ]
  },
  {
   "cell_type": "markdown",
   "metadata": {},
   "source": [
    "## Techniques for Measuring Computational Cost"
   ]
  },
  {
   "cell_type": "markdown",
   "metadata": {},
   "source": [
    "### Technique 1: Measure execution time in seconds using a client program"
   ]
  },
  {
   "cell_type": "markdown",
   "metadata": {},
   "source": [
    "* Advantage:\n",
    "    * Easy to measure\n",
    "    * Meaning is obvious\n",
    "* Disadvantage:\n",
    "    * May take a long time \n",
    "    * Result may vary with machine (what computer we're using), compiler, input data, etc."
   ]
  },
  {
   "cell_type": "code",
   "execution_count": null,
   "metadata": {},
   "outputs": [],
   "source": []
  }
 ],
 "metadata": {
  "kernelspec": {
   "display_name": "Python 3",
   "language": "python",
   "name": "python3"
  },
  "language_info": {
   "codemirror_mode": {
    "name": "ipython",
    "version": 3
   },
   "file_extension": ".py",
   "mimetype": "text/x-python",
   "name": "python",
   "nbconvert_exporter": "python",
   "pygments_lexer": "ipython3",
   "version": "3.7.4"
  }
 },
 "nbformat": 4,
 "nbformat_minor": 4
}
