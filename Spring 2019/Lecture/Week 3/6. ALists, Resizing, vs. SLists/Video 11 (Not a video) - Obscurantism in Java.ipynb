{
 "cells": [
  {
   "cell_type": "markdown",
   "metadata": {},
   "source": [
    "# Obscurantism in Java"
   ]
  },
  {
   "cell_type": "markdown",
   "metadata": {},
   "source": [
    "We have discussed about \"layers of abstraction\" often in computer science.\n",
    "* Obscurantism: The user of a class doesn't and shouldn't know how it works\n",
    "\n",
    "![](images/obscurantism.png)"
   ]
  },
  {
   "cell_type": "markdown",
   "metadata": {},
   "source": [
    "The Java language allows us to enforce this idea with the keyword `private`!\n",
    "\n",
    "A good programmer obscures details from themselves, even within a class.\n",
    "* For example, `addFirst` and `resize` should be written independently\n",
    "    * We shouldn't be thinking about the details of one method while writing the other\n",
    "    * Simply trust that the other works\n",
    "* Breaking programming tasks down into small pieces (especially functions) helps with this greatly\n",
    "* Though judicious use of testing, we can build confidence in these small pieces"
   ]
  },
  {
   "cell_type": "code",
   "execution_count": null,
   "metadata": {},
   "outputs": [],
   "source": []
  }
 ],
 "metadata": {
  "kernelspec": {
   "display_name": "Python 3",
   "language": "python",
   "name": "python3"
  },
  "language_info": {
   "codemirror_mode": {
    "name": "ipython",
    "version": 3
   },
   "file_extension": ".py",
   "mimetype": "text/x-python",
   "name": "python",
   "nbconvert_exporter": "python",
   "pygments_lexer": "ipython3",
   "version": "3.7.4"
  }
 },
 "nbformat": 4,
 "nbformat_minor": 4
}
