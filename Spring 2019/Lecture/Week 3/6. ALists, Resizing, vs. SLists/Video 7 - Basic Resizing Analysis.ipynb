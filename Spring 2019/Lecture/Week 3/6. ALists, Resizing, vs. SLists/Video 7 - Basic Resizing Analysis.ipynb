{
 "cells": [
  {
   "cell_type": "markdown",
   "metadata": {},
   "source": [
    "Let's do a little speed testing! Here's a class that adds 100,000 items into it using the `addLast` method. "
   ]
  },
  {
   "cell_type": "code",
   "execution_count": null,
   "metadata": {},
   "outputs": [],
   "source": [
    "public class SpeedTestAList {\n",
    "    public static void main(String[] args) {\n",
    "        AList L = new AList();\n",
    "        int i = 0;\n",
    "        while (i < 100000) {\n",
    "            L.addLast(i);\n",
    "            i += 1;\n",
    "        }\n",
    "    }\n",
    "}"
   ]
  },
  {
   "cell_type": "markdown",
   "metadata": {},
   "source": [
    "If we try to measure the time it takes to add 100,000 items to an AList,"
   ]
  },
  {
   "cell_type": "code",
   "execution_count": null,
   "metadata": {},
   "outputs": [],
   "source": [
    "!time java SpeedTestAList"
   ]
  },
  {
   "cell_type": "markdown",
   "metadata": {},
   "source": [
    "It takes forever! In comparison, if we do the same speed test for SLList,"
   ]
  },
  {
   "cell_type": "code",
   "execution_count": 2,
   "metadata": {},
   "outputs": [
    {
     "name": "stdout",
     "output_type": "stream",
     "text": [
      "\n",
      "real\t0m3.297s\n",
      "user\t0m6.372s\n",
      "sys\t0m1.436s\n"
     ]
    }
   ],
   "source": [
    "!time java SpeedTestSLList"
   ]
  },
  {
   "cell_type": "markdown",
   "metadata": {},
   "source": [
    "It's a lot faster than we run the speed test for AList! Why?"
   ]
  },
  {
   "cell_type": "markdown",
   "metadata": {},
   "source": [
    "## Runtime and Space Usage Analysis - Quiz 1"
   ]
  },
  {
   "cell_type": "markdown",
   "metadata": {},
   "source": [
    "Suppose we have a full array of size 100. If we call `addLast` twice, how many total array memory boxes will we need to create and fill?\n",
    "\n",
    "1. 0\n",
    "2. 101\n",
    "3. 203\n",
    "4. 10,302\n",
    "\n",
    "Bonus question: What is the maximum number of array boxes that Java will track at any given time? Assume that \"garbage collection\" happens imediately when all references to an object are list.\n",
    "\n",
    "**Ans**: For both of the questions above, the answer is 203!"
   ]
  },
  {
   "cell_type": "markdown",
   "metadata": {},
   "source": [
    "## Array Resizing"
   ]
  },
  {
   "cell_type": "markdown",
   "metadata": {},
   "source": [
    "Resizing twice requires us to create and fill 203 total memory boxes.\n",
    "\n",
    "![](images/203.png)\n",
    "\n",
    "By the time Java made the array of size 102, the array of size 100 will have lost its reference. Thus, the most number of array boxes Java will track at some point are `101 + 102` = `203`"
   ]
  },
  {
   "cell_type": "markdown",
   "metadata": {},
   "source": [
    "## Runtime and Space Usage Analysis - Quiz 2"
   ]
  },
  {
   "cell_type": "markdown",
   "metadata": {},
   "source": [
    "Suppose we have a full array of size 100. If we call `addLast` until size = 1000, roughly how many total array memory boxes will we need to create and fill?\n",
    "\n",
    "1. 1,000\n",
    "2. 500,000\n",
    "3. 1,000,000\n",
    "4. 500,000,000,000\n",
    "5. 1,000,000,000,000\n",
    "\n",
    "Bonus question: What is the maximum number of array boxes that Java will track at any given time? Assume that \"garbage collection\" happens immediately when all references to an object are lost."
   ]
  },
  {
   "cell_type": "code",
   "execution_count": null,
   "metadata": {},
   "outputs": [],
   "source": []
  }
 ],
 "metadata": {
  "kernelspec": {
   "display_name": "Python 3",
   "language": "python",
   "name": "python3"
  },
  "language_info": {
   "codemirror_mode": {
    "name": "ipython",
    "version": 3
   },
   "file_extension": ".py",
   "mimetype": "text/x-python",
   "name": "python",
   "nbconvert_exporter": "python",
   "pygments_lexer": "ipython3",
   "version": "3.7.5"
  }
 },
 "nbformat": 4,
 "nbformat_minor": 4
}
