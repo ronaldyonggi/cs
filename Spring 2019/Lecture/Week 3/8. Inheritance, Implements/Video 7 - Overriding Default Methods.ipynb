{
 "cells": [
  {
   "cell_type": "markdown",
   "metadata": {},
   "source": [
    "From the previous video, we have the `print` implementation inheritance that works for any list, including `SLList`. However, it's inefficient for `SLList`! What can we do to improve this?"
   ]
  },
  {
   "cell_type": "markdown",
   "metadata": {},
   "source": [
    "## Overriding Default Methods"
   ]
  },
  {
   "cell_type": "markdown",
   "metadata": {},
   "source": [
    "If we don't like a default method, we can just override it.\n",
    "\n",
    "* Any call to `print()` on an `SLList` will use this method instead of default\n",
    "* (Optional) use `@Override` to catch typos like `public void print()`"
   ]
  },
  {
   "cell_type": "code",
   "execution_count": null,
   "metadata": {},
   "outputs": [],
   "source": [
    "public interface SLList<Item> implements {\n",
    "    @Override\n",
    "    public void print(){\n",
    "        // Just a message to indicate that we ar running the overridden version of the print() method\n",
    "        System.out.println(\"This is the overridden version!\");\n",
    "        \n",
    "        // Go through each `.item` in each Node and print them! This is more efficient than\n",
    "        // using the print method within List61B.\n",
    "        for (Node p = sentinel.next; p != null; p = p.next) {\n",
    "            System.out.print(p.item + \" \");\n",
    "        }\n",
    "        \n",
    "        System.out.println();\n",
    "    }\n",
    "}"
   ]
  },
  {
   "cell_type": "markdown",
   "metadata": {},
   "source": [
    "Now let's say we had a typo and we got rid of the `@Override` tag,"
   ]
  },
  {
   "cell_type": "code",
   "execution_count": null,
   "metadata": {},
   "outputs": [],
   "source": [
    "public interface SLList<Item> implements {\n",
    "    public void pirnt(){\n",
    "       ...\n",
    "    }\n",
    "}"
   ]
  },
  {
   "cell_type": "markdown",
   "metadata": {},
   "source": [
    "When we run `IsADemo.java`, it still works but we use `List61B`'s `print` method! We didn't know that our program used `List61B`'s `print` method because we didn't have the `@Override` tag. If we have the tag,"
   ]
  },
  {
   "cell_type": "code",
   "execution_count": null,
   "metadata": {},
   "outputs": [],
   "source": [
    "public interface SLList<Item> implements {\n",
    "    @Override\n",
    "    public void pirnt(){\n",
    "       ...\n",
    "    }\n",
    "}"
   ]
  },
  {
   "cell_type": "markdown",
   "metadata": {},
   "source": [
    "In IntelliJ, we will be able to see the `pirtn` underlined in red, and if we try to run the program it will give an error!"
   ]
  },
  {
   "cell_type": "markdown",
   "metadata": {},
   "source": [
    "## Question"
   ]
  },
  {
   "cell_type": "markdown",
   "metadata": {},
   "source": [
    "Recall that if `X` is a superclass of `Y`, then an `X` variable can hold a reference to a `Y`.\n",
    "\n",
    "Which `print` method will be executed when the code below executes?\n",
    "\n",
    "1. `List.print()`\n",
    "2. `SLList.print()`"
   ]
  },
  {
   "cell_type": "code",
   "execution_count": null,
   "metadata": {},
   "outputs": [],
   "source": [
    "public static void main(String[] args) {\n",
    "    List61B<String> someList = new SLList<String>();\n",
    "    someList.insertFront(\"elk\");\n",
    "    someList.insertFront(\"are\");\n",
    "    someList.insertFront(\"watching\");\n",
    "    someList.print();\n",
    "}"
   ]
  },
  {
   "cell_type": "markdown",
   "metadata": {},
   "source": [
    "#### Ans:\n",
    "`SLList`'s. This is because the address of `someList` is referring to an `SLList`."
   ]
  },
  {
   "cell_type": "code",
   "execution_count": null,
   "metadata": {},
   "outputs": [],
   "source": []
  }
 ],
 "metadata": {
  "kernelspec": {
   "display_name": "Python 3",
   "language": "python",
   "name": "python3"
  },
  "language_info": {
   "codemirror_mode": {
    "name": "ipython",
    "version": 3
   },
   "file_extension": ".py",
   "mimetype": "text/x-python",
   "name": "python",
   "nbconvert_exporter": "python",
   "pygments_lexer": "ipython3",
   "version": "3.7.5"
  }
 },
 "nbformat": 4,
 "nbformat_minor": 4
}
