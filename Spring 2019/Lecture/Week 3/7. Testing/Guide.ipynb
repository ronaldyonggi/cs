{
 "cells": [
  {
   "cell_type": "markdown",
   "metadata": {},
   "source": [
    "# C Level\n",
    "\n",
    "## 1.\n",
    "\n",
    "In general, is it good to write tests that test your entire program? How about for specific functions?\n",
    "\n",
    "#### Answer\n",
    "A good practice would be a bottom-up approach: build tests for specific functions first. Once we know that specific functions work, build tests that test the entire program."
   ]
  },
  {
   "cell_type": "markdown",
   "metadata": {},
   "source": [
    "# B Level\n",
    "\n",
    "## 1.\n",
    "Write a testing method that will take in 2 arrays and see if they are equal. These arrays can have nested arrays and those nested arrays can have nested arrays and so forth.\n",
    "\n",
    "#### Answer\n",
    "According to [here](https://stackoverflow.com/questions/44299100/how-do-i-compare-two-dimensional-or-nested-java-arrays#:~:targetText=From%20the%20Java%20docs%20for,the%20two%20arrays%20are%20equal.), `Arrays.deepEquals` can be used for comparing nested arrays of arbitrary depth."
   ]
  },
  {
   "cell_type": "code",
   "execution_count": null,
   "metadata": {},
   "outputs": [],
   "source": [
    "import org.junit.Test; \n",
    "\n",
    "public class TestArray{\n",
    "    @Test\n",
    "    public void testArray(){\n",
    "        int[][] array1 = ...;\n",
    "        int[][] array2 = ...;\n",
    "        \n",
    "        Arrays.deepEquals(array1, array2);\n",
    "    }\n",
    "}"
   ]
  },
  {
   "cell_type": "markdown",
   "metadata": {},
   "source": [
    "## 2.\n",
    "If we have 2 objects, `Object o1` and `Object o2`, that have identical qualities, what would be the outcome of,"
   ]
  },
  {
   "cell_type": "code",
   "execution_count": null,
   "metadata": {},
   "outputs": [],
   "source": [
    "assertEquals(o1, o2); // Returns true.\n",
    "\n",
    "//assertEquals compares the content of objects, while  `==` compares references."
   ]
  }
 ],
 "metadata": {
  "kernelspec": {
   "display_name": "Java",
   "language": "java",
   "name": "java"
  },
  "language_info": {
   "codemirror_mode": "java",
   "file_extension": ".jshell",
   "mimetype": "text/x-java-source",
   "name": "Java",
   "pygments_lexer": "java",
   "version": "12.0.2+10"
  }
 },
 "nbformat": 4,
 "nbformat_minor": 4
}
