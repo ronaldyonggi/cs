{
 "cells": [
  {
   "cell_type": "markdown",
   "metadata": {},
   "source": [
    "All that's left is to figure out how to sort the rest of the array. "
   ]
  },
  {
   "cell_type": "markdown",
   "metadata": {},
   "source": [
    "## Very Tricky Problem"
   ]
  },
  {
   "cell_type": "markdown",
   "metadata": {},
   "source": [
    "Without changing the signature of,"
   ]
  },
  {
   "cell_type": "code",
   "execution_count": null,
   "metadata": {},
   "outputs": [],
   "source": [
    "public static void sort(String[] a)"
   ]
  },
  {
   "cell_type": "markdown",
   "metadata": {},
   "source": [
    "...how can we use recursion? What might the recursive call look like?"
   ]
  },
  {
   "cell_type": "code",
   "execution_count": null,
   "metadata": {},
   "outputs": [],
   "source": [
    "public static void sort(String[] x){\n",
    "    int smallest = findSmallest(x);\n",
    "    swap(inputs, 0, smallest);\n",
    "    // How do we use recursion?\n",
    "}"
   ]
  },
  {
   "cell_type": "markdown",
   "metadata": {},
   "source": [
    "## Tempting Solution but Doesn't Work!"
   ]
  },
  {
   "cell_type": "markdown",
   "metadata": {},
   "source": [
    "If we're familiar with Python, we might be tempted to do something like the following:"
   ]
  },
  {
   "cell_type": "code",
   "execution_count": null,
   "metadata": {},
   "outputs": [],
   "source": [
    "public static void sort(String[] x){\n",
    "    int smallest = findSmallest(x);\n",
    "    swap(inputs, 0, smallest);\n",
    "    sort(x[1:]); // This would be nice, but it's not possible!\n",
    "}"
   ]
  },
  {
   "cell_type": "markdown",
   "metadata": {},
   "source": [
    "Some languages support sub-indexing into arrays. Java doesn't!\n",
    "* Bottom line: there's now way to get address of the middle of an array"
   ]
  },
  {
   "cell_type": "markdown",
   "metadata": {},
   "source": [
    "## Solution"
   ]
  },
  {
   "cell_type": "markdown",
   "metadata": {},
   "source": [
    "![](images/sorting.png)"
   ]
  },
  {
   "cell_type": "markdown",
   "metadata": {},
   "source": [
    "Looking at the figure above again, notice that for every time we successfully sorted, we have a `start`ing index. \n",
    "\n",
    "We can create a helper method that actually sorts the array that will be called in the actual `sort` method."
   ]
  },
  {
   "cell_type": "code",
   "execution_count": null,
   "metadata": {},
   "outputs": [],
   "source": [
    "public static void sort(String[] x) {\n",
    "    sort(x, 0); // Call the helper sort method with start = 0\n",
    "}\n",
    "\n",
    "\n",
    "/** The helper sort method, destructively sorts x starting at index start */\n",
    "public static void sort(String[] x, int start) {\n",
    "    int smallestIndex = findSmallest(x); // First find the smallest index\n",
    "    swap(x, start, smallestIndex); // Beware that we're not starting at 0, but starting at 'start'\n",
    "    sort(x, start + 1);\n",
    "}"
   ]
  }
 ],
 "metadata": {
  "kernelspec": {
   "display_name": "Python 3",
   "language": "python",
   "name": "python3"
  },
  "language_info": {
   "codemirror_mode": {
    "name": "ipython",
    "version": 3
   },
   "file_extension": ".py",
   "mimetype": "text/x-python",
   "name": "python",
   "nbconvert_exporter": "python",
   "pygments_lexer": "ipython3",
   "version": "3.7.4"
  }
 },
 "nbformat": 4,
 "nbformat_minor": 4
}
