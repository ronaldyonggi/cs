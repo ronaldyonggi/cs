{
 "cells": [
  {
   "cell_type": "markdown",
   "metadata": {},
   "source": [
    "# Simpler JUnit Tests"
   ]
  },
  {
   "cell_type": "markdown",
   "metadata": {},
   "source": [
    "## Simple JUnit"
   ]
  },
  {
   "cell_type": "markdown",
   "metadata": {},
   "source": [
    "New Syntax #1:"
   ]
  },
  {
   "cell_type": "code",
   "execution_count": null,
   "metadata": {},
   "outputs": [],
   "source": [
    "org.junit.Assert.assertEquals(expected, actual);"
   ]
  },
  {
   "cell_type": "markdown",
   "metadata": {},
   "source": [
    "Above code tests whether `expected` equals `actual`. If not, the program terminates with verbose message.\n",
    "\n",
    "JUnit does much more:\n",
    "* Other methods such as `assertEquals` include `assertFalse`, `assertNotNull`, etc.\n",
    "* Other more complex behavior to support more sophisticated testing\n",
    "* See lab3"
   ]
  },
  {
   "cell_type": "markdown",
   "metadata": {},
   "source": [
    "## Better JUnit"
   ]
  },
  {
   "cell_type": "markdown",
   "metadata": {},
   "source": [
    "The messages output by JUnit are kind of ugly, and invoking each test manually is annoying.\n",
    "* We had to comment and uncomment between `testSort()`, `testFindSmallest()`, and `testSwap` in the `main` method\n",
    "\n",
    "New Syntax #2:\n",
    "* Annotate each test with `@org.junit.Test`\n",
    "* Change all test methods to non static\n",
    "    * Yes this is weird, as it implies we'd be instantiating `TestSort.java`\n",
    "* Use a JUnit runner to run all tests and tabulate results\n",
    "    * IntelliJ provides a default runner / rendered.\n",
    "        *"
   ]
  },
  {
   "cell_type": "code",
   "execution_count": null,
   "metadata": {},
   "outputs": [],
   "source": [
    "@org.junit.Test\n",
    "public void testSort() {\n",
    "    String[] input = {\"i\", \"have\", \"an\", \"egg\"};\n",
    "    String[] expected = {\"an\", \"egg\", \"have\", \"i\"};\n",
    "\n",
    "    Sort.sort(input);\n",
    "\n",
    "    org.junit.Assert.assertArrayEquals(expected, input);\n",
    "}\n",
    "\n",
    "@org.junit.Test\n",
    "public void testFindSmallest() {\n",
    "    // First Test\n",
    "    String[] input = {\"i\", \"have\", \"an\", \"egg\"};\n",
    "    int expected = 2;\n",
    "\n",
    "    int actual = Sort.findSmallest(input, 0);\n",
    "    org.junit.Assert.assertEquals(expected, actual);\n",
    "\n",
    "    // Second Test\n",
    "\n",
    "    String[] input2 = {\"there\", \"are\", \"many\", \"pigs\"};\n",
    "    int expected2 = 1;\n",
    "\n",
    "    int actual2 = Sort.findSmallest(input2, 0);\n",
    "    org.junit.Assert.assertEquals(expected2, actual2);\n",
    "\n",
    "    // 3rd Test\n",
    "    String[] input3 = {\"there\", \"are\", \"many\", \"pigs\"};\n",
    "    int expected3 = 2;\n",
    "\n",
    "    int actual3 = Sort.findSmallest(input3, 2);\n",
    "    org.junit.Assert.assertEquals(expected3, actual3);\n",
    "}\n",
    "\n",
    "@org.junit.Test\n",
    "public void testSwap() {\n",
    "    String[] input = {\"i\", \"have\", \"an\", \"egg\"};\n",
    "    int a = 0;\n",
    "    int b = 2;\n",
    "    String[] expected = {\"an\", \"have\", \"i\", \"egg\"};\n",
    "\n",
    "    Sort.swap(input, a, b);\n",
    "    org.junit.Assert.assertArrayEquals(expected, input);\n",
    "}\n",
    "\n",
    "\n",
    "// Just get rid of the whole main method!"
   ]
  },
  {
   "cell_type": "markdown",
   "metadata": {},
   "source": [
    "With this change, when we run the code, we'll see an additional option that looks like the following,\n",
    "\n",
    "![](images/option.png)"
   ]
  },
  {
   "cell_type": "markdown",
   "metadata": {},
   "source": [
    "Choose the highlighted option! Then we'll see that the tests run nicely in a neat format.\n",
    "\n",
    "![](images/pass.png)\n",
    "\n",
    "If we purposely try to tweak the test so that one of the test would fail, it will give a neat notification!\n",
    "\n",
    "![](images/fail.png)"
   ]
  },
  {
   "cell_type": "markdown",
   "metadata": {},
   "source": [
    "## Even Better JUnit"
   ]
  },
  {
   "cell_type": "markdown",
   "metadata": {},
   "source": [
    "It is annoying to type out the name of the library repeatedly, e.g. `org.junit.Test` and `org.junit.Assert.assertEquals`.\n",
    "\n",
    "New Syntax #3:\n",
    "\n",
    "To avoid this, we'll start every test file with:"
   ]
  },
  {
   "cell_type": "code",
   "execution_count": null,
   "metadata": {},
   "outputs": [],
   "source": [
    "import org.junit.Test;\n",
    "import static org.junit.Assert.*;"
   ]
  },
  {
   "cell_type": "markdown",
   "metadata": {},
   "source": [
    "This will magically eliminate the need to type `org.junit` or `org.junit.Assert`. (more after midterm on what these imports really mean)"
   ]
  },
  {
   "cell_type": "code",
   "execution_count": null,
   "metadata": {},
   "outputs": [],
   "source": [
    "import org.junit.Test; // Now we only need to write @Test\n",
    "import static org.junit.Assert.*; // Now we only need to write assertArrayEquals or AssertEquals\n",
    "\n",
    "public class TestSort {\n",
    "    @Test\n",
    "    public void testSort() {\n",
    "        String[] input = {\"i\", \"have\", \"an\", \"egg\"};\n",
    "        String[] expected = {\"an\", \"egg\", \"have\", \"i\"};\n",
    "\n",
    "        Sort.sort(input);\n",
    "\n",
    "        assertArrayEquals(expected, input);\n",
    "    }\n",
    "\n",
    "    @Test\n",
    "    public void testFindSmallest() {\n",
    "        // First Test\n",
    "        String[] input = {\"i\", \"have\", \"an\", \"egg\"};\n",
    "        int expected = 2;\n",
    "\n",
    "        int actual = Sort.findSmallest(input, 0);\n",
    "        assertEquals(expected, actual);\n",
    "\n",
    "        // Second Test\n",
    "\n",
    "        String[] input2 = {\"there\", \"are\", \"many\", \"pigs\"};\n",
    "        int expected2 = 1;\n",
    "\n",
    "        int actual2 = Sort.findSmallest(input2, 0);\n",
    "        assertEquals(expected2, actual2);\n",
    "\n",
    "        // 3rd Test\n",
    "        String[] input3 = {\"there\", \"are\", \"many\", \"pigs\"};\n",
    "        int expected3 = 2;\n",
    "\n",
    "        int actual3 = Sort.findSmallest(input3, 2);\n",
    "        assertEquals(expected3, actual3);\n",
    "    }\n",
    "\n",
    "    @Test\n",
    "    public void testSwap() {\n",
    "        String[] input = {\"i\", \"have\", \"an\", \"egg\"};\n",
    "        int a = 0;\n",
    "        int b = 2;\n",
    "        String[] expected = {\"an\", \"have\", \"i\", \"egg\"};\n",
    "\n",
    "        Sort.swap(input, a, b);\n",
    "        assertArrayEquals(expected, input);\n",
    "    }\n",
    "\n",
    "}"
   ]
  }
 ],
 "metadata": {
  "kernelspec": {
   "display_name": "Python 3",
   "language": "python",
   "name": "python3"
  },
  "language_info": {
   "codemirror_mode": {
    "name": "ipython",
    "version": 3
   },
   "file_extension": ".py",
   "mimetype": "text/x-python",
   "name": "python",
   "nbconvert_exporter": "python",
   "pygments_lexer": "ipython3",
   "version": "3.7.4"
  }
 },
 "nbformat": 4,
 "nbformat_minor": 4
}
