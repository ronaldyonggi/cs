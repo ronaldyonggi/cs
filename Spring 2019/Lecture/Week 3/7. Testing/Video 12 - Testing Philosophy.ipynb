{
 "cells": [
  {
   "cell_type": "markdown",
   "metadata": {},
   "source": [
    "# Testing Philosophy"
   ]
  },
  {
   "cell_type": "markdown",
   "metadata": {},
   "source": [
    "## Correctness Tool #1: Autograder"
   ]
  },
  {
   "cell_type": "markdown",
   "metadata": {},
   "source": [
    "It turns out that the autograder used in this course is based on JUnit and jh61b libraries.\n",
    "\n",
    "What's good with autograders?\n",
    "* Less time wasted on \"boring\" stuff (e.g. writing tests)\n",
    "* Determines grade\n",
    "* Gamifies correctness (get points!)\n",
    "\n",
    "But there are reasons autograders is not the best thing to rely on!\n",
    "* Autograders don't exist in real world\n",
    "* Errors given by autograders may be hard to understand\n",
    "* Slow workflow\n",
    "    * Submit code, wait 5 mins to see the result\n",
    "* No control if grader breaks / misbehaves\n",
    "\n",
    "Relying too much on autograders gives us a bad habit called **Autograder Driven Development (ADD)**"
   ]
  },
  {
   "cell_type": "markdown",
   "metadata": {},
   "source": [
    "## Autograder Driven Development (ADD)"
   ]
  },
  {
   "cell_type": "markdown",
   "metadata": {},
   "source": [
    "The worst way to approach programming:\n",
    "* Read and (mostly) understand what to do\n",
    "* Write entire program\n",
    "* Compile. Fix all compilation errors\n",
    "* Send to autograder. Get many errors\n",
    "* Repeat randomly until code is all correct:\n",
    "    * Run autograder\n",
    "    * Add print statements to zero in on the bug\n",
    "    * Make changes to code to try to fix bug\n",
    "    \n",
    "This workflow is slow and unsafe! \n",
    "\n",
    "Note: Print statements are not inherently bad. While they are a weak tool, they are very easy to use."
   ]
  },
  {
   "cell_type": "markdown",
   "metadata": {},
   "source": [
    "## Correctness Tool #2: Unit Tests"
   ]
  },
  {
   "cell_type": "markdown",
   "metadata": {},
   "source": [
    "Idea: Write tests for every \"unit\"\n",
    "\n",
    "Advantage:\n",
    "* Build confidence in basic modules\n",
    "* Decrease debugging time\n",
    "* Clarifies the task\n",
    "\n",
    "Downside?\n",
    "* Building tests takes time\n",
    "* May provide false confidence\n",
    "* Hard to test units that rely on others\n",
    "    * e.g. How do you test `addFirst` in Project 1?"
   ]
  },
  {
   "cell_type": "markdown",
   "metadata": {},
   "source": [
    "## Test-Driven Development (TDD)"
   ]
  },
  {
   "cell_type": "markdown",
   "metadata": {},
   "source": [
    "![](images/tdd.png)\n",
    "\n",
    "Steps to developing according to TDD:\n",
    "* Identify a new feature\n",
    "* Write a unit test for that feature\n",
    "* Run the test. IT SHOULD FAIL\n",
    "* Write code that passes test\n",
    "    * Implementation is certifiably good\n",
    "* Optional: Refactor code to make it faster, cleaner, etc.\n",
    "\n",
    "Not required in 61B\n",
    "* But testing is a good idea "
   ]
  },
  {
   "cell_type": "markdown",
   "metadata": {},
   "source": [
    "## Correctness Tool #3: Integration Testing"
   ]
  },
  {
   "cell_type": "markdown",
   "metadata": {},
   "source": [
    "Idea: Tests cover many units at once\n",
    "* Not JUnit's focus, but it's capable of doing this\n",
    "\n",
    "Why?\n",
    "* Unit testing is not enough to ensure modules interact properly or that system works as expected\n",
    "\n",
    "Why not?\n",
    "* Can be tedious to do manually\n",
    "* Can be challenging to automate\n",
    "* Testing at highest level of abstraction may miss subtle or rare errors"
   ]
  },
  {
   "cell_type": "markdown",
   "metadata": {},
   "source": [
    "## Parting Thoughts"
   ]
  },
  {
   "cell_type": "markdown",
   "metadata": {},
   "source": [
    "* JUnit makes testing easy\n",
    "* We should write tests\n",
    "    * But not too many\n",
    "    * Only when they might be useful\n",
    "    * Write tests first when it feels appropriate\n",
    "    * Lab 3, Project 1B, and Project 2 will give practice\n",
    "    * Most of the class won't require writing lots of tests\n",
    "    \n",
    "* Some people really like TDD. Feel free to use it in the class\n",
    "    * See today's optional reading for thoughts from the creator of Ruby on Rails and others"
   ]
  }
 ],
 "metadata": {
  "kernelspec": {
   "display_name": "Python 3",
   "language": "python",
   "name": "python3"
  },
  "language_info": {
   "codemirror_mode": {
    "name": "ipython",
    "version": 3
   },
   "file_extension": ".py",
   "mimetype": "text/x-python",
   "name": "python",
   "nbconvert_exporter": "python",
   "pygments_lexer": "ipython3",
   "version": "3.7.4"
  }
 },
 "nbformat": 4,
 "nbformat_minor": 4
}
