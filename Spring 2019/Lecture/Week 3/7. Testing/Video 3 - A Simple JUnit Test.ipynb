{
 "cells": [
  {
   "cell_type": "markdown",
   "metadata": {},
   "source": [
    "## Ad Hoc Testing is Tedious"
   ]
  },
  {
   "cell_type": "markdown",
   "metadata": {},
   "source": [
    "What we did previously is called Ad Hoc testing: use what we know to write very specific purpose code. \n",
    "\n",
    "![](images/tedious.png)"
   ]
  },
  {
   "cell_type": "markdown",
   "metadata": {},
   "source": [
    "The JUnit library will save us from having to write code like this! The following lines of code,"
   ]
  },
  {
   "cell_type": "code",
   "execution_count": null,
   "metadata": {},
   "outputs": [],
   "source": [
    "for (int i = 0; i < input.length; i++){\n",
    "    if (!input[i].equals(expected[i])) { // If one of the elements have mismatch after the sorting\n",
    "        System.out.println(\"Mismatch in position \" + i + \", expected: \" + expected[i] + \", but got: \" + input[i]);\n",
    "    }\n",
    "}"
   ]
  },
  {
   "cell_type": "markdown",
   "metadata": {},
   "source": [
    "Can be replaced by the following,"
   ]
  },
  {
   "cell_type": "code",
   "execution_count": null,
   "metadata": {},
   "outputs": [],
   "source": [
    "org.junit.Assert.assertEquals(expected, input);"
   ]
  },
  {
   "cell_type": "markdown",
   "metadata": {},
   "source": [
    "If we try this version, we'll get the following message,"
   ]
  },
  {
   "cell_type": "code",
   "execution_count": null,
   "metadata": {},
   "outputs": [],
   "source": [
    "Exception in thread \"main\" arrays first differed at element [0]; expected:<[an]> but was:<[i]>\n",
    "\tat org.junit.internal.ComparisonCriteria.arrayEquals(ComparisonCriteria.java:55)\n",
    "\tat org.junit.Assert.internalArrayEquals(Assert.java:532)\n",
    "\tat org.junit.Assert.assertArrayEquals(Assert.java:283)\n",
    "\tat org.junit.Assert.assertArrayEquals(Assert.java:298)\n",
    "\tat org.junit.Assert.assertEquals(Assert.java:893)\n",
    "\tat TestSort.testSort(TestSort.java:10)\n",
    "\tat TestSort.main(TestSort.java:14)\n",
    "Caused by: org.junit.ComparisonFailure: expected:<[an]> but was:<[i]>\n",
    "\tat org.junit.Assert.assertEquals(Assert.java:115)\n",
    "\tat org.junit.Assert.assertEquals(Assert.java:144)\n",
    "\tat org.junit.internal.ExactComparisonCriteria.assertElementsEqual(ExactComparisonCriteria.java:8)\n",
    "\tat org.junit.internal.ComparisonCriteria.arrayEquals(ComparisonCriteria.java:53)\n",
    "\t... 6 more"
   ]
  },
  {
   "cell_type": "markdown",
   "metadata": {},
   "source": [
    "The program basically did all the things that the `for` loop did!\n",
    "\n",
    "(In IntelliJ) notice that in the code, the `assertEquals` is crossed. If we hover the mouse over the word, it'll say that `...is deprecated.` If we look this up in the internet, one of the links would lead to [this](http://junit.sourceforge.net/javadoc/deprecated-list.html), which tells us to use `assertArrayEquals` instead."
   ]
  },
  {
   "cell_type": "code",
   "execution_count": null,
   "metadata": {},
   "outputs": [],
   "source": [
    "org.junit.Assert.assertArrayEquals(expected, input);"
   ]
  },
  {
   "cell_type": "markdown",
   "metadata": {},
   "source": [
    "And when we try to run the code again,"
   ]
  },
  {
   "cell_type": "code",
   "execution_count": null,
   "metadata": {},
   "outputs": [],
   "source": [
    "Exception in thread \"main\" arrays first differed at element [0]; expected:<[an]> but was:<[i]>\n",
    "\tat org.junit.internal.ComparisonCriteria.arrayEquals(ComparisonCriteria.java:55)\n",
    "\tat org.junit.Assert.internalArrayEquals(Assert.java:532)\n",
    "\tat org.junit.Assert.assertArrayEquals(Assert.java:283)\n",
    "\tat org.junit.Assert.assertArrayEquals(Assert.java:298)\n",
    "\tat TestSort.testSort(TestSort.java:10)\n",
    "\tat TestSort.main(TestSort.java:14)\n",
    "Caused by: org.junit.ComparisonFailure: expected:<[an]> but was:<[i]>\n",
    "\tat org.junit.Assert.assertEquals(Assert.java:115)\n",
    "\tat org.junit.Assert.assertEquals(Assert.java:144)\n",
    "\tat org.junit.internal.ExactComparisonCriteria.assertElementsEqual(ExactComparisonCriteria.java:8)\n",
    "\tat org.junit.internal.ComparisonCriteria.arrayEquals(ComparisonCriteria.java:53)\n",
    "\t... 5 more"
   ]
  },
  {
   "cell_type": "markdown",
   "metadata": {},
   "source": [
    "...it does exactly the same thing!\n",
    "\n",
    "It's just a small issue that the `assertEquals` library author warn us that the library is old. If that's the case, why didn't they just remove the library?\n",
    "\n",
    "If we write a code and make it public (publish it out there)"
   ]
  }
 ],
 "metadata": {
  "kernelspec": {
   "display_name": "Python 3",
   "language": "python",
   "name": "python3"
  },
  "language_info": {
   "codemirror_mode": {
    "name": "ipython",
    "version": 3
   },
   "file_extension": ".py",
   "mimetype": "text/x-python",
   "name": "python",
   "nbconvert_exporter": "python",
   "pygments_lexer": "ipython3",
   "version": "3.7.5"
  }
 },
 "nbformat": 4,
 "nbformat_minor": 4
}
