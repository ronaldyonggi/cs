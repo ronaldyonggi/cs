{
 "cells": [
  {
   "cell_type": "markdown",
   "metadata": {},
   "source": [
    "There's a problem with the `addLast` and `size()` implementation: they are slow! "
   ]
  },
  {
   "cell_type": "markdown",
   "metadata": {},
   "source": [
    "## Efficiency of Size"
   ]
  },
  {
   "cell_type": "markdown",
   "metadata": {},
   "source": [
    "Suppose `size` tkes 2 seconds on a list of size 1,000. How long does it take to process a list of size 1,000,000?"
   ]
  },
  {
   "cell_type": "code",
   "execution_count": 1,
   "metadata": {},
   "outputs": [
    {
     "data": {
      "text/plain": [
       "1000.0"
      ]
     },
     "execution_count": 1,
     "metadata": {},
     "output_type": "execute_result"
    }
   ],
   "source": [
    "1000000/1000"
   ]
  },
  {
   "cell_type": "markdown",
   "metadata": {},
   "source": [
    "**Ans**:\n",
    "\n",
    "$$ 1,000,000 / 1,000 = 1,000$$\n",
    "\n",
    "Thus, it takes 2,000 seconds!"
   ]
  },
  {
   "cell_type": "markdown",
   "metadata": {},
   "source": [
    "## Improvement #5: Fast `size()`"
   ]
  },
  {
   "cell_type": "code",
   "execution_count": 2,
   "metadata": {},
   "outputs": [
    {
     "ename": "SyntaxError",
     "evalue": "invalid syntax (<ipython-input-2-79d161364ae3>, line 1)",
     "output_type": "error",
     "traceback": [
      "\u001b[0;36m  File \u001b[0;32m\"<ipython-input-2-79d161364ae3>\"\u001b[0;36m, line \u001b[0;32m1\u001b[0m\n\u001b[0;31m    public class SLList {\u001b[0m\n\u001b[0m               ^\u001b[0m\n\u001b[0;31mSyntaxError\u001b[0m\u001b[0;31m:\u001b[0m invalid syntax\n"
     ]
    }
   ],
   "source": [
    "public class SLList {\n",
    "    private IntNode front;\n",
    "    \n",
    "    public SLList(int x) {\n",
    "        front = new IntNode(x, null);\n",
    "    }\n",
    "    \n",
    "    public void addFirst(int x) {\n",
    "        front = new IntNode(x, front);\n",
    "    }\n",
    "    \n",
    "    private int size(IntNode p) {\n",
    "        if (p.next == null) return 1;\n",
    "        return 1 + size(p.next);\n",
    "    }\n",
    "    \n",
    "    public int size() {\n",
    "        return size(front);\n",
    "    }\n",
    "}"
   ]
  },
  {
   "cell_type": "markdown",
   "metadata": {},
   "source": [
    "Modify `SLList` so that the execution time of `size()` is always fast! (e.g. independent of the size of the list)\n",
    "\n",
    "Solution: In the beginning, maintain a special `size` variable that **caches** the size of the list.\n",
    "\n",
    "**Caching**: putting aside data to speed up retrieval."
   ]
  },
  {
   "cell_type": "code",
   "execution_count": null,
   "metadata": {},
   "outputs": [],
   "source": [
    "private int size;"
   ]
  },
  {
   "cell_type": "markdown",
   "metadata": {},
   "source": [
    "This way, we can just add 1 to `size` when:\n",
    "1. Creating an instance of `SLList`\n",
    "2. Using `addFirst`\n",
    "3. Using `addLast`"
   ]
  },
  {
   "cell_type": "code",
   "execution_count": 3,
   "metadata": {},
   "outputs": [
    {
     "ename": "SyntaxError",
     "evalue": "invalid syntax (<ipython-input-3-557caf2b3fb8>, line 1)",
     "output_type": "error",
     "traceback": [
      "\u001b[0;36m  File \u001b[0;32m\"<ipython-input-3-557caf2b3fb8>\"\u001b[0;36m, line \u001b[0;32m1\u001b[0m\n\u001b[0;31m    public SLList(int x) {\u001b[0m\n\u001b[0m                ^\u001b[0m\n\u001b[0;31mSyntaxError\u001b[0m\u001b[0;31m:\u001b[0m invalid syntax\n"
     ]
    }
   ],
   "source": [
    "public SLList(int x) {\n",
    "    first = new IntNode(x, null);\n",
    "    size = 1;\n",
    "}\n",
    "\n",
    "public void addFirst(int x) {\n",
    "    first = new IntNode(x, first);\n",
    "    size += 1;\n",
    "}\n",
    "\n",
    "public void addLast(int x) {\n",
    "    size += 1;\n",
    "    IntNode pointer = first;\n",
    "    while (pointer.next != null) {\n",
    "        pointer = pointer.next;\n",
    "    }\n",
    "    pointer.next = new IntNode(x, null);\n",
    "}"
   ]
  },
  {
   "cell_type": "markdown",
   "metadata": {},
   "source": [
    "This way, we can get rid of the `size` method that we implement previously. Instead this time, the `size` method can simply return the `private` variable `size`."
   ]
  },
  {
   "cell_type": "code",
   "execution_count": null,
   "metadata": {},
   "outputs": [],
   "source": [
    "public int size() {\n",
    "    return size;\n",
    "}"
   ]
  },
  {
   "cell_type": "markdown",
   "metadata": {},
   "source": [
    "This new method isn't totally work-free; we added an extra work of adding `+1` to `size`. However, spreading the work over each `add` call is a net win in almost any circumstance."
   ]
  },
  {
   "cell_type": "markdown",
   "metadata": {},
   "source": [
    "## Naked Linked List (IntList) vs. SLList"
   ]
  },
  {
   "cell_type": "markdown",
   "metadata": {},
   "source": [
    "Let's look at the visualization to compare the naked recursive data structure with `SLList` in the context of caching.\n",
    "\n",
    "Previously in `SLList`, we have the `first` middleman that we have to go through if we want to manipulate the data inside (e.g. `item`, `next`). This middleman provides us with easy-to-understand methods that are guaranteed to be safe."
   ]
  },
  {
   "cell_type": "markdown",
   "metadata": {},
   "source": [
    "![](images/middle.png)"
   ]
  },
  {
   "cell_type": "markdown",
   "metadata": {},
   "source": [
    "Another nice advantage of the `SLList` structure is that it serves as a natural place to store meta information about an entire list, e.g. `size`. Theoretically, we can also other things such as `maximum` or `minimum`. \n",
    "\n",
    "In contrast, it's not easy to store meta information in naked linked list.\n",
    "\n",
    "![](images/nakedx.png)"
   ]
  },
  {
   "cell_type": "markdown",
   "metadata": {},
   "source": [
    "Technically, we could cache the size inside each node. However with that implementation, every time we change something inside the list, we would need to update many size variables. \n",
    "\n",
    "By using the `SLList`, we are using the OOP approach: we let the object control everything. We tell the object to execute these tasks and also keep track of the size. "
   ]
  }
 ],
 "metadata": {
  "kernelspec": {
   "display_name": "Python 3",
   "language": "python",
   "name": "python3"
  },
  "language_info": {
   "codemirror_mode": {
    "name": "ipython",
    "version": 3
   },
   "file_extension": ".py",
   "mimetype": "text/x-python",
   "name": "python",
   "nbconvert_exporter": "python",
   "pygments_lexer": "ipython3",
   "version": "3.7.5"
  }
 },
 "nbformat": 4,
 "nbformat_minor": 4
}
