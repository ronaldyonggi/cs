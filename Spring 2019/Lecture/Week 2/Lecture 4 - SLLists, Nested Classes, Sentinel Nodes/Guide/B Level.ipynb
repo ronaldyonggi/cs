{
 "cells": [
  {
   "cell_type": "markdown",
   "metadata": {},
   "source": [
    "### 1.\n",
    "Starting from the copy of `SLList.java` provided to us in the lecture code repository, implement the method `deleteFirst`, which deletes the first element in the SLList. Don't forget to maintain the 3 invariants discussed above."
   ]
  },
  {
   "cell_type": "code",
   "execution_count": null,
   "metadata": {},
   "outputs": [],
   "source": [
    "public void deleteFirst() {\n",
    "        sentinel.next = sentinel.next.next;\n",
    "        size -= 1;\n",
    "    }"
   ]
  },
  {
   "cell_type": "markdown",
   "metadata": {},
   "source": [
    "Let's test `deleteFirst`!"
   ]
  },
  {
   "cell_type": "code",
   "execution_count": 6,
   "metadata": {},
   "outputs": [],
   "source": [
    " /** An SLList is a list of integers, which hides the terrible truth\n",
    "   * of the nakedness within. */\n",
    "public class SLList {\t\n",
    "\tprivate static class IntNode {\n",
    "\t\tpublic int item;\n",
    "\t\tpublic IntNode next;\n",
    "\n",
    "\t\tpublic IntNode(int i, IntNode n) {\n",
    "\t\t\titem = i;\n",
    "\t\t\tnext = n;\n",
    "// \t\t\tSystem.out.println(size);\n",
    "\t\t}\n",
    "\t} \n",
    "\n",
    "\t/* The first item (if it exists) is at sentinel.next. */\n",
    "\tprivate IntNode sentinel;\n",
    "\tprivate int size;\n",
    "\n",
    "// \tprivate static void lectureQuestion() {\n",
    "// \t\tSLList L = new SLList();\n",
    "// \t\tIntNode n = IntNode(5, null);\n",
    "// \t}\n",
    "\n",
    "\t/** Creates an empty SLList. */\n",
    "\tpublic SLList() {\n",
    "\t\tsentinel = new IntNode(63, null);\n",
    "\t\tsize = 0;\n",
    "\t}\n",
    "\n",
    "\tpublic SLList(int x) {\n",
    "\t\tsentinel = new IntNode(63, null);\n",
    "\t\tsentinel.next = new IntNode(x, null);\n",
    "\t\tsize = 1;\n",
    "\t}\n",
    "\n",
    " \t/** Adds x to the front of the list. */\n",
    " \tpublic void addFirst(int x) {\n",
    " \t\tsentinel.next = new IntNode(x, sentinel.next);\n",
    " \t\tsize = size + 1;\n",
    " \t}\n",
    "\n",
    " \t/** Returns the first item in the list. */\n",
    " \tpublic int getFirst() {\n",
    " \t\treturn sentinel.next.item;\n",
    " \t}\n",
    "\n",
    " \t/** Adds x to the end of the list. */\n",
    " \tpublic void addLast(int x) {\n",
    " \t\tsize = size + 1; \t\t\n",
    "\n",
    " \t\tIntNode p = sentinel;\n",
    "\n",
    " \t\t/* Advance p to the end of the list. */\n",
    " \t\twhile (p.next != null) {\n",
    " \t\t\tp = p.next;\n",
    " \t\t}\n",
    "\n",
    " \t\tp.next = new IntNode(x, null);\n",
    " \t}\n",
    " \t\n",
    " \t/** Returns the size of the list. */\n",
    " \tpublic int size() {\n",
    " \t\treturn size;\n",
    " \t}\n",
    "    \n",
    "    \n",
    "    /** The deleteFirst method that we just implemented! */\n",
    "    public void deleteFirst() {\n",
    "        sentinel.next = sentinel.next.next;\n",
    "        size -= 1;\n",
    "    }\n",
    "\n",
    "}"
   ]
  },
  {
   "cell_type": "code",
   "execution_count": 7,
   "metadata": {},
   "outputs": [
    {
     "data": {
      "text/plain": [
       "2"
      ]
     },
     "execution_count": 7,
     "metadata": {},
     "output_type": "execute_result"
    }
   ],
   "source": [
    "SLList L = new SLList();\n",
    "L.addFirst(3);\n",
    "L.addFirst(2);\n",
    "L.getFirst();"
   ]
  },
  {
   "cell_type": "code",
   "execution_count": 8,
   "metadata": {},
   "outputs": [
    {
     "data": {
      "text/plain": [
       "3"
      ]
     },
     "execution_count": 8,
     "metadata": {},
     "output_type": "execute_result"
    }
   ],
   "source": [
    "/** Test deleteFirst() */\n",
    "L.deleteFirst();\n",
    "L.getFirst();"
   ]
  },
  {
   "cell_type": "code",
   "execution_count": 9,
   "metadata": {},
   "outputs": [
    {
     "data": {
      "text/plain": [
       "1"
      ]
     },
     "execution_count": 9,
     "metadata": {},
     "output_type": "execute_result"
    }
   ],
   "source": [
    "L.size();"
   ]
  },
  {
   "cell_type": "markdown",
   "metadata": {},
   "source": [
    "### 2.\n",
    "Starting from the copy of `SLList.java` provided in the lecture code repository, implement a second constructor that takes in an array of integers, and creates an SLList with those integers. Again, remember to maintain invariants."
   ]
  },
  {
   "cell_type": "code",
   "execution_count": null,
   "metadata": {},
   "outputs": [],
   "source": [
    "public SLList(int[] x) {\n",
    "    sentinel = new IntNode(63, null);\n",
    "    size = 0;\n",
    "    for (int i = 0; i < x.length; i++){\n",
    "        this.addLast(x[i]);\n",
    "    }\n",
    "}"
   ]
  },
  {
   "cell_type": "markdown",
   "metadata": {},
   "source": [
    "Let's test this out!"
   ]
  },
  {
   "cell_type": "code",
   "execution_count": 19,
   "metadata": {},
   "outputs": [],
   "source": [
    " /** An SLList is a list of integers, which hides the terrible truth\n",
    "   * of the nakedness within. */\n",
    "public class SLList {\t\n",
    "\tprivate static class IntNode {\n",
    "\t\tpublic int item;\n",
    "\t\tpublic IntNode next;\n",
    "\n",
    "\t\tpublic IntNode(int i, IntNode n) {\n",
    "\t\t\titem = i;\n",
    "\t\t\tnext = n;\n",
    "// \t\t\tSystem.out.println(size);\n",
    "\t\t}\n",
    "\t} \n",
    "\n",
    "\t/* The first item (if it exists) is at sentinel.next. */\n",
    "\tprivate IntNode sentinel;\n",
    "\tprivate int size;\n",
    "\n",
    "// \tprivate static void lectureQuestion() {\n",
    "// \t\tSLList L = new SLList();\n",
    "// \t\tIntNode n = IntNode(5, null);\n",
    "// \t}\n",
    "\n",
    "\t/** Creates an empty SLList. */\n",
    "\tpublic SLList() {\n",
    "\t\tsentinel = new IntNode(63, null);\n",
    "\t\tsize = 0;\n",
    "\t}\n",
    "\n",
    "\tpublic SLList(int x) {\n",
    "\t\tsentinel = new IntNode(63, null);\n",
    "\t\tsentinel.next = new IntNode(x, null);\n",
    "\t\tsize = 1;\n",
    "\t}\n",
    "    public SLList(int[] x) {\n",
    "        sentinel = new IntNode(63, null);\n",
    "\t\tsize = 0;\n",
    "        for (int i = 0; i < x.length; i++){\n",
    "            this.addLast(x[i]);\n",
    "        }\n",
    "    }\n",
    "\n",
    " \t/** Adds x to the front of the list. */\n",
    " \tpublic void addFirst(int x) {\n",
    " \t\tsentinel.next = new IntNode(x, sentinel.next);\n",
    " \t\tsize = size + 1;\n",
    " \t}\n",
    "\n",
    " \t/** Returns the first item in the list. */\n",
    " \tpublic int getFirst() {\n",
    " \t\treturn sentinel.next.item;\n",
    " \t}\n",
    "\n",
    " \t/** Adds x to the end of the list. */\n",
    " \tpublic void addLast(int x) {\n",
    " \t\tsize = size + 1; \t\t\n",
    "\n",
    " \t\tIntNode p = sentinel;\n",
    "\n",
    " \t\t/* Advance p to the end of the list. */\n",
    " \t\twhile (p.next != null) {\n",
    " \t\t\tp = p.next;\n",
    " \t\t}\n",
    "\n",
    " \t\tp.next = new IntNode(x, null);\n",
    " \t}\n",
    " \t\n",
    " \t/** Returns the size of the list. */\n",
    " \tpublic int size() {\n",
    " \t\treturn size;\n",
    " \t}\n",
    "\n",
    "}"
   ]
  },
  {
   "cell_type": "code",
   "execution_count": 25,
   "metadata": {},
   "outputs": [],
   "source": [
    "int[] x = new int[]{1, 2, 3, 4};\n",
    "SLList L = new SLList(x);"
   ]
  },
  {
   "cell_type": "code",
   "execution_count": 26,
   "metadata": {},
   "outputs": [
    {
     "data": {
      "text/plain": [
       "4"
      ]
     },
     "execution_count": 26,
     "metadata": {},
     "output_type": "execute_result"
    }
   ],
   "source": [
    "L.size()"
   ]
  },
  {
   "cell_type": "code",
   "execution_count": 27,
   "metadata": {},
   "outputs": [
    {
     "data": {
      "text/plain": [
       "1"
      ]
     },
     "execution_count": 27,
     "metadata": {},
     "output_type": "execute_result"
    }
   ],
   "source": [
    "L.getFirst();"
   ]
  },
  {
   "cell_type": "markdown",
   "metadata": {},
   "source": [
    "### 3. \n",
    "If the sentinel node was a null node, would it change anything or would the `IntList` be able to function?\n",
    "\n",
    "#### Answer\n",
    "With our current implementation, it won't work because the `IntNode` class consists of an `int item` and an `IntNode` next. We can't put a `null` as the item."
   ]
  },
  {
   "cell_type": "code",
   "execution_count": 28,
   "metadata": {},
   "outputs": [
    {
     "ename": "CompilationException",
     "evalue": "",
     "output_type": "error",
     "traceback": [
      "\u001b[1m\u001b[30m|   \u001b[1m\u001b[30m\t\tsentinel = new IntNode(\u001b[0m\u001b[1m\u001b[30m\u001b[41mnull\u001b[0m\u001b[1m\u001b[30m, null);\u001b[0m",
      "\u001b[1m\u001b[31mincompatible types: <nulltype> cannot be converted to int\u001b[0m",
      "",
      "\u001b[1m\u001b[30m|   \u001b[1m\u001b[30m\t\tsentinel = new IntNode(\u001b[0m\u001b[1m\u001b[30m\u001b[41mnull\u001b[0m\u001b[1m\u001b[30m, null);\u001b[0m",
      "\u001b[1m\u001b[31mincompatible types: <nulltype> cannot be converted to int\u001b[0m",
      ""
     ]
    }
   ],
   "source": [
    " /** An SLList is a list of integers, which hides the terrible truth\n",
    "   * of the nakedness within. */\n",
    "public class SLList {\t\n",
    "\tprivate static class IntNode {\n",
    "\t\tpublic int item;\n",
    "\t\tpublic IntNode next;\n",
    "\n",
    "\t\tpublic IntNode(int i, IntNode n) {\n",
    "\t\t\titem = i;\n",
    "\t\t\tnext = n;\n",
    "// \t\t\tSystem.out.println(size);\n",
    "\t\t}\n",
    "\t} \n",
    "\n",
    "\t/* The first item (if it exists) is at sentinel.next. */\n",
    "\tprivate IntNode sentinel;\n",
    "\tprivate int size;\n",
    "\n",
    "// \tprivate static void lectureQuestion() {\n",
    "// \t\tSLList L = new SLList();\n",
    "// \t\tIntNode n = IntNode(5, null);\n",
    "// \t}\n",
    "\n",
    "\t/** Creates an empty SLList. */\n",
    "\tpublic SLList() {\n",
    "\t\tsentinel = new IntNode(null, null);\n",
    "\t\tsize = 0;\n",
    "\t}\n",
    "\n",
    "\tpublic SLList(int x) {\n",
    "\t\tsentinel = new IntNode(null, null);\n",
    "\t\tsentinel.next = new IntNode(x, null);\n",
    "\t\tsize = 1;\n",
    "\t}\n",
    "\n",
    " \t/** Adds x to the front of the list. */\n",
    " \tpublic void addFirst(int x) {\n",
    " \t\tsentinel.next = new IntNode(x, sentinel.next);\n",
    " \t\tsize = size + 1;\n",
    " \t}\n",
    "\n",
    " \t/** Returns the first item in the list. */\n",
    " \tpublic int getFirst() {\n",
    " \t\treturn sentinel.next.item;\n",
    " \t}\n",
    "\n",
    " \t/** Adds x to the end of the list. */\n",
    " \tpublic void addLast(int x) {\n",
    " \t\tsize = size + 1; \t\t\n",
    "\n",
    " \t\tIntNode p = sentinel;\n",
    "\n",
    " \t\t/* Advance p to the end of the list. */\n",
    " \t\twhile (p.next != null) {\n",
    " \t\t\tp = p.next;\n",
    " \t\t}\n",
    "\n",
    " \t\tp.next = new IntNode(x, null);\n",
    " \t}\n",
    " \t\n",
    " \t/** Returns the size of the list. */\n",
    " \tpublic int size() {\n",
    " \t\treturn size;\n",
    " \t}\n",
    "\n",
    "}"
   ]
  },
  {
   "cell_type": "code",
   "execution_count": null,
   "metadata": {},
   "outputs": [],
   "source": []
  }
 ],
 "metadata": {
  "kernelspec": {
   "display_name": "Java",
   "language": "java",
   "name": "java"
  },
  "language_info": {
   "codemirror_mode": "java",
   "file_extension": ".jshell",
   "mimetype": "text/x-java-source",
   "name": "Java",
   "pygments_lexer": "java",
   "version": "12.0.2+10"
  }
 },
 "nbformat": 4,
 "nbformat_minor": 4
}
