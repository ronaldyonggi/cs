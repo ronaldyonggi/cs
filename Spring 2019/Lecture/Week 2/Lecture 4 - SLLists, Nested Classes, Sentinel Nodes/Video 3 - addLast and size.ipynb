{
 "cells": [
  {
   "cell_type": "code",
   "execution_count": 18,
   "metadata": {},
   "outputs": [],
   "source": [
    "// The SLList we have so far\n",
    "public class SLList {\n",
    "    \n",
    "    private static class IntNode { \n",
    "        public int item;\n",
    "        public IntNode next;\n",
    "        \n",
    "        public IntNode(int i, IntNode n) {\n",
    "            item = i;\n",
    "            next = n; \n",
    "        }\n",
    "    }\n",
    "    \n",
    "    private IntNode first;\n",
    "    \n",
    "    // SLList constructor\n",
    "    public SLList(int x) {\n",
    "        first = new IntNode(x, null);\n",
    "    }\n",
    "    \n",
    "    // Adds x to the front of the list\n",
    "    public void addFirst(int x) {\n",
    "        first = new IntNode(x, first);\n",
    "    }\n",
    "    \n",
    "    // Returns the first item in the list\n",
    "    public int getFirst() {\n",
    "        return first.item;\n",
    "    }\n",
    "}"
   ]
  },
  {
   "cell_type": "markdown",
   "metadata": {},
   "source": [
    "## Adding More SLList Functionality"
   ]
  },
  {
   "cell_type": "markdown",
   "metadata": {},
   "source": [
    "So far in our `SLList` implementation, we have the following,\n",
    "\n",
    "![](images/sofarsllist.png)"
   ]
  },
  {
   "cell_type": "markdown",
   "metadata": {},
   "source": [
    "To motivate our remaining improvements and to give more functionality to the `SLList` class, let's add:\n",
    "1. `addLast(int x)`\n",
    "2. `.size()`"
   ]
  },
  {
   "cell_type": "markdown",
   "metadata": {},
   "source": [
    "#### `addLast`"
   ]
  },
  {
   "cell_type": "code",
   "execution_count": null,
   "metadata": {},
   "outputs": [],
   "source": [
    "public void addLast(int x) {\n",
    "    IntNode pointer = first; // Create a pointer\n",
    "    while (pointer.next != null) { // Iterate through the pointers until we reach the last element\n",
    "        pointer = pointer.next;\n",
    "    }\n",
    "    pointer.next = new IntNode(x, null); //Then add an element after the last element\n",
    "}"
   ]
  },
  {
   "cell_type": "code",
   "execution_count": 7,
   "metadata": {},
   "outputs": [],
   "source": [
    "// The SLList we have so far\n",
    "public class SLList {\n",
    "    \n",
    "    public static class IntNode { \n",
    "        public int item;\n",
    "        public IntNode next;\n",
    "        \n",
    "        public IntNode(int i, IntNode n) {\n",
    "            item = i;\n",
    "            next = n; \n",
    "        }\n",
    "    }\n",
    "    \n",
    "    private IntNode first;\n",
    "    \n",
    "    // SLList constructor\n",
    "    public SLList(int x) {\n",
    "        first = new IntNode(x, null);\n",
    "    }\n",
    "    \n",
    "    // Adds x to the front of the list\n",
    "    public void addFirst(int x) {\n",
    "        first = new IntNode(x, first);\n",
    "    }\n",
    "    \n",
    "    // Returns the first item in the list\n",
    "    public int getFirst() {\n",
    "        return first.item;\n",
    "    }\n",
    "    \n",
    "    public void addLast(int x) {\n",
    "        IntNode pointer = first;\n",
    "        while (pointer.next != null) {\n",
    "            pointer = pointer.next;\n",
    "        }\n",
    "        pointer.next = new IntNode(x, null);\n",
    "    }\n",
    "}"
   ]
  },
  {
   "cell_type": "markdown",
   "metadata": {},
   "source": [
    "Let's test `addLast`!"
   ]
  },
  {
   "cell_type": "code",
   "execution_count": null,
   "metadata": {},
   "outputs": [],
   "source": [
    "// Recal that below should be within the main method!\n",
    "SLList L = new SLList(15);\n",
    "L.addFirst(10);\n",
    "L.addLast(20);"
   ]
  },
  {
   "cell_type": "markdown",
   "metadata": {},
   "source": [
    "To test if the code works, we can run it in Java visualizer"
   ]
  },
  {
   "cell_type": "markdown",
   "metadata": {},
   "source": [
    "#### `size()` Iterative Implementation"
   ]
  },
  {
   "cell_type": "code",
   "execution_count": 20,
   "metadata": {},
   "outputs": [],
   "source": [
    "public int size() {\n",
    "    if (first == null) return 0; // If the list is empty to begin with, return 0\n",
    "    IntNode pointer = first; // Create a pointer\n",
    "    int size = 1; // If the list is not empty, there's at least 1 element\n",
    "    while (pointer.next != null) {\n",
    "        pointer = pointer.next;\n",
    "        size += 1;\n",
    "    }\n",
    "    return size;\n",
    "}"
   ]
  },
  {
   "cell_type": "code",
   "execution_count": 22,
   "metadata": {},
   "outputs": [],
   "source": [
    "// The SLList we have so far\n",
    "public class SLList {\n",
    "    \n",
    "    public static class IntNode { \n",
    "        public int item;\n",
    "        public IntNode next;\n",
    "        \n",
    "        public IntNode(int i, IntNode n) {\n",
    "            item = i;\n",
    "            next = n; \n",
    "        }\n",
    "    }\n",
    "    \n",
    "    private IntNode first;\n",
    "    \n",
    "    // SLList constructor\n",
    "    public SLList(int x) {\n",
    "        first = new IntNode(x, null);\n",
    "    }\n",
    "    \n",
    "    // Adds x to the front of the list\n",
    "    public void addFirst(int x) {\n",
    "        first = new IntNode(x, first);\n",
    "    }\n",
    "    \n",
    "    // Returns the first item in the list\n",
    "    public int getFirst() {\n",
    "        return first.item;\n",
    "    }\n",
    "    \n",
    "    public void addLast(int x) {\n",
    "        IntNode pointer = first;\n",
    "        while (pointer.next != null) {\n",
    "            pointer = pointer.next;\n",
    "        }\n",
    "        pointer.next = new IntNode(x, null);\n",
    "    }\n",
    "    \n",
    "    public int size() {\n",
    "        if (first == null) return 0; // If the list is empty to begin with, return 0\n",
    "        IntNode pointer = first; // Create a pointer\n",
    "        int size = 1; // If the list is not empty, there's at least 1 element\n",
    "        while (pointer.next != null) {\n",
    "            pointer = pointer.next;\n",
    "            size += 1;\n",
    "        }\n",
    "        return size;\n",
    "    }\n",
    "}"
   ]
  },
  {
   "cell_type": "code",
   "execution_count": 23,
   "metadata": {},
   "outputs": [
    {
     "data": {
      "text/plain": [
       "1"
      ]
     },
     "execution_count": 23,
     "metadata": {},
     "output_type": "execute_result"
    }
   ],
   "source": [
    "SLList L = new SLList(10);\n",
    "L.size()"
   ]
  },
  {
   "cell_type": "code",
   "execution_count": 24,
   "metadata": {},
   "outputs": [
    {
     "data": {
      "text/plain": [
       "2"
      ]
     },
     "execution_count": 24,
     "metadata": {},
     "output_type": "execute_result"
    }
   ],
   "source": [
    "L.addFirst(5);\n",
    "L.size()"
   ]
  },
  {
   "cell_type": "markdown",
   "metadata": {},
   "source": [
    "#### `size()` Recursive Implementation"
   ]
  },
  {
   "cell_type": "markdown",
   "metadata": {},
   "source": [
    "If we try to implement the `size` method recursively by itself, we might get stuck because it's unclear how we would implement it."
   ]
  },
  {
   "cell_type": "code",
   "execution_count": null,
   "metadata": {},
   "outputs": [],
   "source": [
    "public int size() {\n",
    "    return first.next.size() // This does not look right...\n",
    "    ...\n",
    "}"
   ]
  },
  {
   "cell_type": "markdown",
   "metadata": {},
   "source": [
    "One strategy is to create a `private static` helper method that deals with the naked recursive data structure. "
   ]
  },
  {
   "cell_type": "code",
   "execution_count": null,
   "metadata": {},
   "outputs": [],
   "source": [
    "// Returns the size of the list that starts at IntNode p\n",
    "private static int size(IntNode p) {\n",
    "    \n",
    "}"
   ]
  },
  {
   "cell_type": "markdown",
   "metadata": {},
   "source": [
    "Recall that with `SLList`, we have pointers (e.g. `L1`) points to the middleman (e.g. `first`).\n",
    "\n",
    "![](images/SLList.png)"
   ]
  },
  {
   "cell_type": "markdown",
   "metadata": {},
   "source": [
    "With the `private static int size` method, the method operates in a naked recursive way since the method tweaks / accesses the `IntNode` implementation directly.\n",
    "\n",
    "![](images/naked.png)"
   ]
  },
  {
   "cell_type": "code",
   "execution_count": null,
   "metadata": {},
   "outputs": [],
   "source": [
    "private static int size(IntNode p) {\n",
    "    if (p.next == null) return 1; // Base case: if we've reached the end, return 1\n",
    "    return 1 + size(p.next); // Otherwise, return 1 + calling 'size' on p.next\n",
    "}"
   ]
  },
  {
   "cell_type": "markdown",
   "metadata": {},
   "source": [
    "Now the `private static` method is not meant to be used directly! Instead, we create a `public size` method that uses the `private static size` method."
   ]
  },
  {
   "cell_type": "code",
   "execution_count": null,
   "metadata": {},
   "outputs": [],
   "source": [
    "public int size() {\n",
    "    return size(first);\n",
    "}"
   ]
  },
  {
   "cell_type": "markdown",
   "metadata": {},
   "source": [
    "Let's test it out!"
   ]
  },
  {
   "cell_type": "code",
   "execution_count": 1,
   "metadata": {},
   "outputs": [],
   "source": [
    "// The SLList we have so far\n",
    "public class SLList {\n",
    "    \n",
    "    public static class IntNode { \n",
    "        public int item;\n",
    "        public IntNode next;\n",
    "        \n",
    "        public IntNode(int i, IntNode n) {\n",
    "            item = i;\n",
    "            next = n; \n",
    "        }\n",
    "    }\n",
    "    \n",
    "    private IntNode first;\n",
    "    \n",
    "    // SLList constructor\n",
    "    public SLList(int x) {\n",
    "        first = new IntNode(x, null);\n",
    "    }\n",
    "    \n",
    "    // Adds x to the front of the list\n",
    "    public void addFirst(int x) {\n",
    "        first = new IntNode(x, first);\n",
    "    }\n",
    "    \n",
    "    // Returns the first item in the list\n",
    "    public int getFirst() {\n",
    "        return first.item;\n",
    "    }\n",
    "    \n",
    "    public void addLast(int x) {\n",
    "        IntNode pointer = first;\n",
    "        while (pointer.next != null) {\n",
    "            pointer = pointer.next;\n",
    "        }\n",
    "        pointer.next = new IntNode(x, null);\n",
    "    }\n",
    "    \n",
    "    private static int size(IntNode p) {\n",
    "        if (p.next == null) return 1; // Base case: if we've reached the end, return 1\n",
    "        return 1 + size(p.next); // Otherwise, return 1 + calling 'size' on p.next\n",
    "    }\n",
    "    \n",
    "    public int size() {\n",
    "        return size(first);\n",
    "    }\n",
    "}"
   ]
  },
  {
   "cell_type": "code",
   "execution_count": 2,
   "metadata": {},
   "outputs": [
    {
     "data": {
      "text/plain": [
       "1"
      ]
     },
     "execution_count": 2,
     "metadata": {},
     "output_type": "execute_result"
    }
   ],
   "source": [
    "SLList L = new SLList(10);\n",
    "L.size()"
   ]
  },
  {
   "cell_type": "code",
   "execution_count": 3,
   "metadata": {},
   "outputs": [
    {
     "data": {
      "text/plain": [
       "2"
      ]
     },
     "execution_count": 3,
     "metadata": {},
     "output_type": "execute_result"
    }
   ],
   "source": [
    "L.addFirst(15);\n",
    "L.size();"
   ]
  },
  {
   "cell_type": "code",
   "execution_count": null,
   "metadata": {},
   "outputs": [],
   "source": []
  }
 ],
 "metadata": {
  "kernelspec": {
   "display_name": "Python 3",
   "language": "python",
   "name": "python3"
  },
  "language_info": {
   "codemirror_mode": {
    "name": "ipython",
    "version": 3
   },
   "file_extension": ".py",
   "mimetype": "text/x-python",
   "name": "python",
   "nbconvert_exporter": "python",
   "pygments_lexer": "ipython3",
   "version": "3.7.5"
  }
 },
 "nbformat": 4,
 "nbformat_minor": 4
}
