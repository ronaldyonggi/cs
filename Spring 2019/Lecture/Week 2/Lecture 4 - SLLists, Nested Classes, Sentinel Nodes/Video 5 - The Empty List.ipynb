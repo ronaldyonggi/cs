{
 "cells": [
  {
   "cell_type": "markdown",
   "metadata": {},
   "source": [
    "## Improvement #6a: Representing the Empty List"
   ]
  },
  {
   "cell_type": "markdown",
   "metadata": {},
   "source": [
    "Benefits of `SLList` over `IntList` so far:\n",
    "1. Faster `size()` method\n",
    "2. User of an `SLList` never sees the `IntList` class\n",
    "    * Simpler to use\n",
    "    * More efficient `addFirst` method\n",
    "    * Avoid errors or malicious efforts\n",
    "    \n",
    "Notice that our implementation so far does not involve empty list. With `SLList`, it's easy to represent the empty list! Represent the empty list by setting `front` to `null`.  "
   ]
  },
  {
   "cell_type": "code",
   "execution_count": null,
   "metadata": {},
   "outputs": [],
   "source": [
    "// Creates an empty SLList\n",
    "public SLList() { \n",
    "    first = null; \n",
    "    size = 0;\n",
    "}"
   ]
  },
  {
   "cell_type": "markdown",
   "metadata": {},
   "source": [
    "Let's test it out! So far we have the following,"
   ]
  },
  {
   "cell_type": "code",
   "execution_count": 11,
   "metadata": {},
   "outputs": [],
   "source": [
    "// The SLList we have so far\n",
    "public class SLList {\n",
    "    \n",
    "    // Inner IntNode class\n",
    "    public static class IntNode { \n",
    "        public int item;\n",
    "        public IntNode next;\n",
    "        \n",
    "        public IntNode(int i, IntNode n) {\n",
    "            item = i;\n",
    "            next = n; \n",
    "        }\n",
    "    }\n",
    "    \n",
    "    private IntNode first;\n",
    "    private int size;\n",
    "    \n",
    "    // SLList constructor\n",
    "    public SLList(int x) {\n",
    "        first = new IntNode(x, null);\n",
    "        size += 1;\n",
    "    }\n",
    "    \n",
    "    //Empty SLList constructor\n",
    "    public SLList() { \n",
    "        first = null; \n",
    "        size = 0;\n",
    "    }\n",
    "    \n",
    "    // Adds x to the front of the list\n",
    "    public void addFirst(int x) {\n",
    "        first = new IntNode(x, first);\n",
    "        size += 1;\n",
    "    }\n",
    "    \n",
    "    // Returns the first item in the list\n",
    "    public int getFirst() {\n",
    "        return first.item;\n",
    "    }\n",
    "    \n",
    "    // Adds x to the end of the list\n",
    "    public void addLast(int x) {\n",
    "        size += 1;\n",
    "        IntNode pointer = first;\n",
    "        while (pointer.next != null) pointer = pointer.next;\n",
    "        pointer.next = new IntNode(x, null);\n",
    "    }\n",
    "    \n",
    "    // Returns the size of the list\n",
    "    public int size() {\n",
    "        return size;\n",
    "    }\n",
    "}"
   ]
  },
  {
   "cell_type": "code",
   "execution_count": 12,
   "metadata": {},
   "outputs": [
    {
     "data": {
      "text/plain": [
       "0"
      ]
     },
     "execution_count": 12,
     "metadata": {},
     "output_type": "execute_result"
    }
   ],
   "source": [
    "SLList L = new SLList();\n",
    "L.size()"
   ]
  },
  {
   "cell_type": "code",
   "execution_count": 14,
   "metadata": {},
   "outputs": [
    {
     "data": {
      "text/plain": [
       "2"
      ]
     },
     "execution_count": 14,
     "metadata": {},
     "output_type": "execute_result"
    }
   ],
   "source": [
    "L.addFirst(3);\n",
    "L.size()"
   ]
  },
  {
   "cell_type": "markdown",
   "metadata": {},
   "source": [
    "It works! However, it turns out that there is a bug with this implementation: If we create an empty list and try to use the `addLast` method, we will get an error!"
   ]
  },
  {
   "cell_type": "code",
   "execution_count": 15,
   "metadata": {},
   "outputs": [
    {
     "ename": "CompilationException",
     "evalue": "",
     "output_type": "error",
     "traceback": [
      "\u001b[1m\u001b[30m|   \u001b[1m\u001b[30m\u001b[0m\u001b[1m\u001b[30m\u001b[41mL.addLast\u001b[0m\u001b[1m\u001b[30m();\u001b[0m",
      "\u001b[1m\u001b[31mmethod addLast in class SLList cannot be applied to given types;\u001b[0m",
      "\u001b[1m\u001b[31m  required: int\u001b[0m",
      "\u001b[1m\u001b[31m  found: no arguments\u001b[0m",
      "\u001b[1m\u001b[31m  reason: actual and formal argument lists differ in length\u001b[0m",
      ""
     ]
    }
   ],
   "source": [
    "SLList L = new SLList();\n",
    "L.addLast();"
   ]
  },
  {
   "cell_type": "markdown",
   "metadata": {},
   "source": [
    "The error occurs because if we analyze the `addLast` method,"
   ]
  },
  {
   "cell_type": "code",
   "execution_count": null,
   "metadata": {},
   "outputs": [],
   "source": [
    "// Adds x to the end of the list\n",
    "    public void addLast(int x) {\n",
    "        size += 1;\n",
    "        IntNode pointer = first;\n",
    "        while (pointer.next != null) pointer = pointer.next;\n",
    "        pointer.next = new IntNode(x, null);\n",
    "    }"
   ]
  },
  {
   "cell_type": "markdown",
   "metadata": {},
   "source": [
    "If `first` was `null` to begin with, when the execution process gets to the `while` loop, a `null` object doesn't have a `next`!"
   ]
  },
  {
   "cell_type": "markdown",
   "metadata": {},
   "source": [
    "## How Would You Fix `addLast`?"
   ]
  },
  {
   "cell_type": "markdown",
   "metadata": {},
   "source": [
    "Fix `addLast` so that we don't get a `null` pointer exception when we try to add to the back of an empty `SLList`."
   ]
  },
  {
   "cell_type": "code",
   "execution_count": 17,
   "metadata": {},
   "outputs": [
    {
     "ename": "CompilationException",
     "evalue": "",
     "output_type": "error",
     "traceback": [
      "\u001b[1m\u001b[30m|   \u001b[1m\u001b[30m        if (\u001b[0m\u001b[1m\u001b[30m\u001b[41mfirst\u001b[0m\u001b[1m\u001b[30m == null) this.addFirst(x);\u001b[0m",
      "\u001b[1m\u001b[31mcannot find symbol\u001b[0m",
      "\u001b[1m\u001b[31m  symbol:   variable first\u001b[0m",
      "",
      "\u001b[1m\u001b[30m|   \u001b[1m\u001b[30m        if (first == null) \u001b[0m\u001b[1m\u001b[30m\u001b[41mthis\u001b[0m\u001b[1m\u001b[30m.addFirst(x);\u001b[0m",
      "\u001b[1m\u001b[31mnon-static variable this cannot be referenced from a static context\u001b[0m",
      "",
      "\u001b[1m\u001b[30m|   \u001b[1m\u001b[30m        if (first == null) \u001b[0m\u001b[1m\u001b[30m\u001b[41mthis.addFirst\u001b[0m\u001b[1m\u001b[30m(x);\u001b[0m",
      "\u001b[1m\u001b[31mcannot find symbol\u001b[0m",
      "\u001b[1m\u001b[31m  symbol: method addFirst(int)\u001b[0m",
      "",
      "\u001b[1m\u001b[30m|   \u001b[1m\u001b[30m            \u001b[0m\u001b[1m\u001b[30m\u001b[41msize\u001b[0m\u001b[1m\u001b[30m += 1;\u001b[0m",
      "\u001b[1m\u001b[31mcannot find symbol\u001b[0m",
      "\u001b[1m\u001b[31m  symbol:   variable size\u001b[0m",
      "",
      "\u001b[1m\u001b[30m|   \u001b[1m\u001b[30m            \u001b[0m\u001b[1m\u001b[30m\u001b[41mIntNode\u001b[0m\u001b[1m\u001b[30m pointer = first;\u001b[0m",
      "\u001b[1m\u001b[31mcannot find symbol\u001b[0m",
      "\u001b[1m\u001b[31m  symbol:   class IntNode\u001b[0m",
      "",
      "\u001b[1m\u001b[30m|   \u001b[1m\u001b[30m            IntNode pointer = \u001b[0m\u001b[1m\u001b[30m\u001b[41mfirst\u001b[0m\u001b[1m\u001b[30m;\u001b[0m",
      "\u001b[1m\u001b[31mcannot find symbol\u001b[0m",
      "\u001b[1m\u001b[31m  symbol:   variable first\u001b[0m",
      "",
      "\u001b[1m\u001b[30m|   \u001b[1m\u001b[30m            pointer.next = new \u001b[0m\u001b[1m\u001b[30m\u001b[41mIntNode\u001b[0m\u001b[1m\u001b[30m(x, null);\u001b[0m",
      "\u001b[1m\u001b[31mcannot find symbol\u001b[0m",
      "\u001b[1m\u001b[31m  symbol:   class IntNode\u001b[0m",
      ""
     ]
    }
   ],
   "source": [
    "// Adds x to the end of the list\n",
    "    public void addLast(int x) {\n",
    "        size += 1;\n",
    "        \n",
    "        if (first == null) this.addFirst(x); // Add a basecase that if first is null to begin with, then call addFirst\n",
    "        else {\n",
    "            IntNode pointer = first;\n",
    "            while (pointer.next != null) pointer = pointer.next;\n",
    "            pointer.next = new IntNode(x, null);\n",
    "        }\n",
    "        \n",
    "    }"
   ]
  },
  {
   "cell_type": "code",
   "execution_count": 18,
   "metadata": {},
   "outputs": [],
   "source": [
    "// The SLList we have so far\n",
    "public class SLList {\n",
    "    \n",
    "    // Inner IntNode class\n",
    "    public static class IntNode { \n",
    "        public int item;\n",
    "        public IntNode next;\n",
    "        \n",
    "        public IntNode(int i, IntNode n) {\n",
    "            item = i;\n",
    "            next = n; \n",
    "        }\n",
    "    }\n",
    "    \n",
    "    private IntNode first;\n",
    "    private int size;\n",
    "    \n",
    "    // SLList constructor\n",
    "    public SLList(int x) {\n",
    "        first = new IntNode(x, null);\n",
    "        size += 1;\n",
    "    }\n",
    "    \n",
    "    //Empty SLList constructor\n",
    "    public SLList() { \n",
    "        first = null; \n",
    "        size = 0;\n",
    "    }\n",
    "    \n",
    "    // Adds x to the front of the list\n",
    "    public void addFirst(int x) {\n",
    "        first = new IntNode(x, first);\n",
    "        size += 1;\n",
    "    }\n",
    "    \n",
    "    // Returns the first item in the list\n",
    "    public int getFirst() {\n",
    "        return first.item;\n",
    "    }\n",
    "    \n",
    "    // Adds x to the end of the list\n",
    "    public void addLast(int x) {\n",
    "        size += 1;\n",
    "        if (first == null) this.addFirst(x);\n",
    "        else {\n",
    "            IntNode pointer = first;\n",
    "            while (pointer.next != null) pointer = pointer.next;\n",
    "            pointer.next = new IntNode(x, null);\n",
    "        }\n",
    "        \n",
    "    }\n",
    "    \n",
    "    // Returns the size of the list\n",
    "    public int size() {\n",
    "        return size;\n",
    "    }\n",
    "}"
   ]
  },
  {
   "cell_type": "code",
   "execution_count": 19,
   "metadata": {},
   "outputs": [],
   "source": [
    "SLList L = new SLList();\n",
    "L.addLast(3);"
   ]
  },
  {
   "cell_type": "code",
   "execution_count": 20,
   "metadata": {},
   "outputs": [
    {
     "data": {
      "text/plain": [
       "1"
      ]
     },
     "execution_count": 20,
     "metadata": {},
     "output_type": "execute_result"
    }
   ],
   "source": [
    "L.size();"
   ]
  },
  {
   "cell_type": "code",
   "execution_count": 21,
   "metadata": {},
   "outputs": [
    {
     "data": {
      "text/plain": [
       "3"
      ]
     },
     "execution_count": 21,
     "metadata": {},
     "output_type": "execute_result"
    }
   ],
   "source": [
    "L.getFirst();"
   ]
  },
  {
   "cell_type": "markdown",
   "metadata": {},
   "source": [
    "This is one possible solution, but there are other better solution!"
   ]
  }
 ],
 "metadata": {
  "kernelspec": {
   "display_name": "Python 3",
   "language": "python",
   "name": "python3"
  },
  "language_info": {
   "codemirror_mode": {
    "name": "ipython",
    "version": 3
   },
   "file_extension": ".py",
   "mimetype": "text/x-python",
   "name": "python",
   "nbconvert_exporter": "python",
   "pygments_lexer": "ipython3",
   "version": "3.7.5"
  }
 },
 "nbformat": 4,
 "nbformat_minor": 4
}
