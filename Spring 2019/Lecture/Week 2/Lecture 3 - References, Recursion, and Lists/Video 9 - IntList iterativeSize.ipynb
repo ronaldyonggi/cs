{
 "cells": [
  {
   "cell_type": "markdown",
   "metadata": {},
   "source": [
    "# IntList `iterativeSize()`"
   ]
  },
  {
   "cell_type": "markdown",
   "metadata": {},
   "source": [
    "The `size()` method we implemented in the previous video works totally fine! However, for the sake of studying the pattern, we'll also implement the `size()` method iteratively!"
   ]
  },
  {
   "cell_type": "code",
   "execution_count": null,
   "metadata": {},
   "outputs": [],
   "source": [
    "public int iterativeSize(){\n",
    "    IntList p = this; // A common strategy is to use a pointer\n",
    "    int totalSize = 0; // Keeps track of the total size so far\n",
    "    while (p != null){ \n",
    "        totalSize += 1;\n",
    "        p = p.rest; // After incrementing totalSize, shift the pointer to the next IntList\n",
    "    }\n",
    "    return totalSize;\n",
    "}"
   ]
  },
  {
   "cell_type": "code",
   "execution_count": 1,
   "metadata": {},
   "outputs": [],
   "source": [
    "public class IntList {\n",
    "    public int first;\n",
    "    public IntList rest;\n",
    "    \n",
    "    public IntList(int f, IntList r){\n",
    "        first = f;\n",
    "        rest = r;\n",
    "    }\n",
    "    \n",
    "    //\n",
    "    public int iterativeSize(){\n",
    "        IntList p = this; // A common strategy is to use a pointer\n",
    "        int totalSize = 0; // Keeps track of the total size so far\n",
    "        while (p != null){ \n",
    "            totalSize += 1;\n",
    "            p = p.rest; // After incrementing totalSize, shift the pointer to the next IntList\n",
    "        }\n",
    "        return totalSize;\n",
    "    }\n",
    "}"
   ]
  },
  {
   "cell_type": "code",
   "execution_count": 2,
   "metadata": {},
   "outputs": [
    {
     "name": "stdout",
     "output_type": "stream",
     "text": [
      "3\n"
     ]
    }
   ],
   "source": [
    "// Again, assume the code below is placed inside the main method\n",
    "IntList L = new IntList(15, null);\n",
    "L = new IntList(10, L);\n",
    "L = new IntList(5, L);\n",
    "System.out.println(L.iterativeSize());"
   ]
  },
  {
   "cell_type": "code",
   "execution_count": null,
   "metadata": {},
   "outputs": [],
   "source": []
  }
 ],
 "metadata": {
  "kernelspec": {
   "display_name": "Python 3",
   "language": "python",
   "name": "python3"
  },
  "language_info": {
   "codemirror_mode": {
    "name": "ipython",
    "version": 3
   },
   "file_extension": ".py",
   "mimetype": "text/x-python",
   "name": "python",
   "nbconvert_exporter": "python",
   "pygments_lexer": "ipython3",
   "version": "3.7.5"
  }
 },
 "nbformat": 4,
 "nbformat_minor": 4
}
