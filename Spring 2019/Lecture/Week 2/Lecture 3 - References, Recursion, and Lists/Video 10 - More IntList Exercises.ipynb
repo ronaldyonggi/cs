{
 "cells": [
  {
   "cell_type": "markdown",
   "metadata": {},
   "source": [
    "# Challenge"
   ]
  },
  {
   "cell_type": "markdown",
   "metadata": {},
   "source": [
    "Write a method `int get(int i)` that returns the ith item in the list. \n",
    "1. For simplicity, it's ok to assume the item exists\n",
    "2. Front item is the 0th item\n",
    "\n",
    "For example, if we have the following IntList `L`,\n",
    "\n",
    "![](images/challenge.png)"
   ]
  },
  {
   "cell_type": "markdown",
   "metadata": {},
   "source": [
    "Then `L.get(0)` should return `5`, while `L.get(1)` should return `10`."
   ]
  },
  {
   "cell_type": "code",
   "execution_count": null,
   "metadata": {},
   "outputs": [],
   "source": [
    "public int get(int i){\n",
    "    // Using recursive implementation\n",
    "    if (i == 0) { // if i is 0, then return the current IntList's first\n",
    "        return this.first;\n",
    "    } else { // Otherwise, call recursive get on this.rest with decrementing i\n",
    "        return this.rest.get(i-1);\n",
    "    }\n",
    "}"
   ]
  },
  {
   "cell_type": "markdown",
   "metadata": {},
   "source": [
    "Our `IntList` class now looks like the following,"
   ]
  },
  {
   "cell_type": "code",
   "execution_count": 1,
   "metadata": {},
   "outputs": [],
   "source": [
    "public class IntList {\n",
    "    public int first;\n",
    "    public IntList rest;\n",
    "    \n",
    "    public IntList(int f, IntList r){\n",
    "        first = f;\n",
    "        rest = r;\n",
    "    }\n",
    "    \n",
    "    public int get(int i){\n",
    "        // Using recursive\n",
    "        if (i == 0) {\n",
    "            return this.first;\n",
    "        } else {\n",
    "            return this.rest.get(i-1);\n",
    "        }\n",
    "    }\n",
    "    \n",
    "}"
   ]
  },
  {
   "cell_type": "markdown",
   "metadata": {},
   "source": [
    "Now let's test if the code works!"
   ]
  },
  {
   "cell_type": "code",
   "execution_count": 20,
   "metadata": {},
   "outputs": [
    {
     "name": "stdout",
     "output_type": "stream",
     "text": [
      "5\n",
      "10\n",
      "15\n"
     ]
    }
   ],
   "source": [
    "// Again, assume the code below is placed inside the main method\n",
    "IntList L = new IntList(15, null);\n",
    "L = new IntList(10, L);\n",
    "L = new IntList(5, L);\n",
    "System.out.println(L.get(0));\n",
    "System.out.println(L.get(1));\n",
    "System.out.println(L.get(2));"
   ]
  },
  {
   "cell_type": "markdown",
   "metadata": {},
   "source": [
    "## `ExtraIntListPractice.java`"
   ]
  },
  {
   "cell_type": "markdown",
   "metadata": {},
   "source": [
    "For further practice with `IntLists`, fill out the code for methods listed below."
   ]
  },
  {
   "cell_type": "markdown",
   "metadata": {},
   "source": [
    "#### `incrList`"
   ]
  },
  {
   "cell_type": "code",
   "execution_count": 7,
   "metadata": {},
   "outputs": [],
   "source": [
    "public static IntList incrList(IntList L, int x) {\n",
    "        if (L.rest == null) return new IntList(L.first + x, L.rest); // Base case: if L.rest is null,\n",
    "        // return a list containing that current L.first incremented by x, and the .rest is L.rest because L.rest is null anyway\n",
    "        IntList Q = new IntList(L.first + x, incrList(L.rest, x));\n",
    "        return Q;\n",
    "    }"
   ]
  },
  {
   "cell_type": "markdown",
   "metadata": {},
   "source": [
    "Let's test out the `incrList` method!"
   ]
  },
  {
   "cell_type": "code",
   "execution_count": 8,
   "metadata": {},
   "outputs": [],
   "source": [
    "public class IntList {\n",
    "    public int first;\n",
    "    public IntList rest;\n",
    "    \n",
    "    public IntList(int f, IntList r){\n",
    "        first = f;\n",
    "        rest = r;\n",
    "    }\n",
    "    \n",
    "    public int get(int i){\n",
    "        // Using recursive\n",
    "        if (i == 0) {\n",
    "            return this.first;\n",
    "        } else {\n",
    "            return this.rest.get(i-1);\n",
    "        }\n",
    "    }\n",
    "    \n",
    "    public static IntList incrList(IntList L, int x) {\n",
    "        if (L.rest == null) return new IntList(L.first + x, L.rest); // Base case: if L.rest is null,\n",
    "        // return a list containing that current L.first incremented by x, and the .rest is L.rest because L.rest is null anyway\n",
    "        IntList Q = new IntList(L.first + x, incrList(L.rest, x));\n",
    "        return Q;\n",
    "    }\n",
    "    \n",
    "}"
   ]
  },
  {
   "cell_type": "code",
   "execution_count": 10,
   "metadata": {},
   "outputs": [
    {
     "name": "stdout",
     "output_type": "stream",
     "text": [
      "5\n",
      "45\n"
     ]
    }
   ],
   "source": [
    "// Again, assume the code below is placed inside the main method\n",
    "IntList L = new IntList(43, null);\n",
    "L = new IntList(3, L);\n",
    "IntList Q = IntList.incrList(L, 2);\n",
    "System.out.println(Q.get(0));\n",
    "System.out.println(Q.get(1));"
   ]
  },
  {
   "cell_type": "markdown",
   "metadata": {},
   "source": [
    "The method above:\n",
    "1. Returns an `IntList` identical to L, but with all values incremented by x\n",
    "2. Values in L can't change\n",
    "\n",
    "For example, if we have the `IntList L` and `x` is 2, then the result would be the following,\n",
    "\n",
    "![](images/incr.png)"
   ]
  },
  {
   "cell_type": "markdown",
   "metadata": {},
   "source": [
    "#### `dincrList`"
   ]
  },
  {
   "cell_type": "code",
   "execution_count": 5,
   "metadata": {},
   "outputs": [],
   "source": [
    "public static IntList dincrList(IntList L, int x) {\n",
    "    IntList pointer = L;\n",
    "    while (pointer != null) {\n",
    "        pointer.first += x;\n",
    "        pointer = pointer.rest;\n",
    "    }\n",
    "    IntList Q = L;\n",
    "    return Q;\n",
    "}"
   ]
  },
  {
   "cell_type": "code",
   "execution_count": 2,
   "metadata": {},
   "outputs": [],
   "source": [
    "public class IntList {\n",
    "    public int first;\n",
    "    public IntList rest;\n",
    "    \n",
    "    public IntList(int f, IntList r){\n",
    "        first = f;\n",
    "        rest = r;\n",
    "    }\n",
    "    \n",
    "    public int get(int i){\n",
    "        // Using recursive\n",
    "        if (i == 0) {\n",
    "            return this.first;\n",
    "        } else {\n",
    "            return this.rest.get(i-1);\n",
    "        }\n",
    "    }\n",
    "    \n",
    "    public static IntList dincrList(IntList L, int x) {\n",
    "        IntList pointer = L;\n",
    "        while (pointer != null) {\n",
    "            pointer.first += x;\n",
    "            pointer = pointer.rest;\n",
    "        }\n",
    "        IntList Q = L;\n",
    "        return Q;\n",
    "    }\n",
    "    \n",
    "}"
   ]
  },
  {
   "cell_type": "code",
   "execution_count": 4,
   "metadata": {},
   "outputs": [
    {
     "name": "stdout",
     "output_type": "stream",
     "text": [
      "5\n",
      "45\n",
      "5\n",
      "45\n"
     ]
    }
   ],
   "source": [
    "// Again, assume the code below is placed inside the main method\n",
    "IntList L = new IntList(43, null);\n",
    "L = new IntList(3, L);\n",
    "IntList Q = IntList.dincrList(L, 2);\n",
    "System.out.println(Q.get(0));\n",
    "System.out.println(Q.get(1));\n",
    "System.out.println(L.get(0));\n",
    "System.out.println(L.get(1));"
   ]
  },
  {
   "cell_type": "markdown",
   "metadata": {},
   "source": [
    "The method above,\n",
    "\n",
    "1. Returns an IntList identical to L, but with all values incremented by `x`\n",
    "2. Not allowed to use `new` (to save memory).\n",
    "\n",
    "For example, the result would be the following,\n",
    "\n",
    "![](images/dincr.png)"
   ]
  }
 ],
 "metadata": {
  "kernelspec": {
   "display_name": "Python 3",
   "language": "python",
   "name": "python3"
  },
  "language_info": {
   "codemirror_mode": {
    "name": "ipython",
    "version": 3
   },
   "file_extension": ".py",
   "mimetype": "text/x-python",
   "name": "python",
   "nbconvert_exporter": "python",
   "pygments_lexer": "ipython3",
   "version": "3.7.5"
  }
 },
 "nbformat": 4,
 "nbformat_minor": 4
}
