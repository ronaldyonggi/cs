{
 "cells": [
  {
   "cell_type": "markdown",
   "metadata": {},
   "source": [
    "# Primitive Types"
   ]
  },
  {
   "cell_type": "markdown",
   "metadata": {},
   "source": [
    "We'll start with going through some puzzles that will make us understand how to build a list."
   ]
  },
  {
   "cell_type": "markdown",
   "metadata": {},
   "source": [
    "### Walrus"
   ]
  },
  {
   "cell_type": "code",
   "execution_count": 2,
   "metadata": {},
   "outputs": [],
   "source": [
    "public class Walrus{\n",
    "    public int weight;\n",
    "    public double tuskSize;\n",
    "    \n",
    "    public Walrus(int W, double ts){\n",
    "        weight = W;\n",
    "        tuskSize = ts;\n",
    "    }\n",
    "    \n",
    "    public String toString(){\n",
    "        return String.format(\"weight: %d, tusk size = %.2f\", weight, tuskSize);\n",
    "    }\n",
    "}"
   ]
  },
  {
   "cell_type": "code",
   "execution_count": 3,
   "metadata": {},
   "outputs": [
    {
     "name": "stdout",
     "output_type": "stream",
     "text": [
      "weight: 5, tusk size = 8.30\n",
      "weight: 5, tusk size = 8.30\n"
     ]
    }
   ],
   "source": [
    "Walrus a = new Walrus(1000, 8.3);\n",
    "Walrus b;\n",
    "b = a;\n",
    "b.weight = 5; // Change the weight of b!\n",
    "System.out.println(a);\n",
    "System.out.println(b);"
   ]
  },
  {
   "cell_type": "markdown",
   "metadata": {},
   "source": [
    "Knowing that `b` was set to equal to `a`, will the change `b.weight = 5` affect `a`? `Yes!` How come?\n",
    "\n",
    "![](images/walrus.png)\n",
    "\n",
    "When we set `b = a`, `b` is now pointing at the same object as where `a` is pointing!"
   ]
  },
  {
   "cell_type": "markdown",
   "metadata": {},
   "source": [
    "### Ints"
   ]
  },
  {
   "cell_type": "code",
   "execution_count": 1,
   "metadata": {},
   "outputs": [
    {
     "name": "stdout",
     "output_type": "stream",
     "text": [
      "x is: 2\n",
      "y is: 5\n"
     ]
    }
   ],
   "source": [
    "int x = 5;\n",
    "int y;\n",
    "y = x;\n",
    "x = 2;\n",
    "System.out.println(\"x is: \" + x);\n",
    "System.out.println(\"y is: \" + y);"
   ]
  },
  {
   "cell_type": "markdown",
   "metadata": {},
   "source": [
    "Will the change to `x` affect `y`? `No`! But why? How come `b` and `a` in Walrus are the same?\n",
    "\n",
    "![](images/x.png)\n",
    "\n",
    "![](images/walrus.png)"
   ]
  },
  {
   "cell_type": "markdown",
   "metadata": {},
   "source": [
    "In the case of integers, notice that `x` and `y` are simply boxes, unlike the Walrus case where there are arrows involved pointing to the same `Walrus` instance. This means `x` and `y` are separate, and changes to one variable won't affect the other."
   ]
  },
  {
   "cell_type": "markdown",
   "metadata": {},
   "source": [
    "How did this phenomenon happen? To understand this phenomenon, we'll have to dig deeper to how computer works under the hood."
   ]
  }
 ],
 "metadata": {
  "kernelspec": {
   "display_name": "Python 3",
   "language": "python",
   "name": "python3"
  },
  "language_info": {
   "codemirror_mode": {
    "name": "ipython",
    "version": 3
   },
   "file_extension": ".py",
   "mimetype": "text/x-python",
   "name": "python",
   "nbconvert_exporter": "python",
   "pygments_lexer": "ipython3",
   "version": "3.7.4"
  }
 },
 "nbformat": 4,
 "nbformat_minor": 4
}
