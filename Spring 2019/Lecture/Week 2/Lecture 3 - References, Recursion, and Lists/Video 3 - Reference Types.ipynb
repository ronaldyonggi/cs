{
 "cells": [
  {
   "cell_type": "markdown",
   "metadata": {},
   "source": [
    "# Reference Types"
   ]
  },
  {
   "cell_type": "markdown",
   "metadata": {},
   "source": [
    "Recall that there are 8 primitive types in Java: `byte`, `short`, `int`, `long`, `float`, `double`, `boolean`, `char`. **EVERYTHING ELSE** (e.g. arrays), is a `reference type`. "
   ]
  },
  {
   "cell_type": "markdown",
   "metadata": {},
   "source": [
    "## Class Instantiations"
   ]
  },
  {
   "cell_type": "markdown",
   "metadata": {},
   "source": [
    "When we instantiate an Object (e.g. `Dog`, `Walrus`, `Planet`),"
   ]
  },
  {
   "cell_type": "code",
   "execution_count": null,
   "metadata": {},
   "outputs": [],
   "source": [
    "public static class Walrus{\n",
    "    // contents\n",
    "}"
   ]
  },
  {
   "cell_type": "markdown",
   "metadata": {},
   "source": [
    "Java allocates a box of bits for each instance variable of the class and fills them with a default value (e.g. `0`, `null`)"
   ]
  },
  {
   "cell_type": "code",
   "execution_count": null,
   "metadata": {},
   "outputs": [],
   "source": [
    "public int weight;\n",
    "public double tuskSize;"
   ]
  },
  {
   "cell_type": "markdown",
   "metadata": {},
   "source": [
    "The constructor the usually fills every box with some value."
   ]
  },
  {
   "cell_type": "code",
   "execution_count": null,
   "metadata": {},
   "outputs": [],
   "source": [
    "public Walrus(int w, double ts) {\n",
    "    weight = w;\n",
    "    tuskSize = ts;\n",
    "}"
   ]
  },
  {
   "cell_type": "markdown",
   "metadata": {},
   "source": [
    "Therefore, if we run the following,"
   ]
  },
  {
   "cell_type": "code",
   "execution_count": null,
   "metadata": {},
   "outputs": [],
   "source": [
    "new Walrus(1000, 8.3);"
   ]
  },
  {
   "cell_type": "markdown",
   "metadata": {},
   "source": [
    "Java allocates a 32 bit box for `weight` and assigns `1000` to it, and a 64 bit box for `tuskSize` and assigns `8.3` to it.\n",
    "\n",
    "![](images/walrus_box.png)"
   ]
  },
  {
   "cell_type": "markdown",
   "metadata": {},
   "source": [
    "To see the representation of what happens on bits level, when we call `new Walrus(1000, 8.3)`,\n",
    "\n",
    "![](images/digs.png)"
   ]
  },
  {
   "cell_type": "markdown",
   "metadata": {},
   "source": [
    "Java digs into the memory that contains billions of bits, tries to find a space for 96 bits (32 bits for `1000` and 64 bits for `8.3`), then reserve that space for `Walrus`."
   ]
  },
  {
   "cell_type": "markdown",
   "metadata": {},
   "source": [
    "### `new` keyword"
   ]
  },
  {
   "cell_type": "markdown",
   "metadata": {},
   "source": [
    "We can think of the `new Walrus` keyword as:\n",
    "1. Digging through the billions of bits and finding a space to store the `Walrus` information\n",
    "2. Reporting where Java stored the `Walrus`.\n",
    "    * Returning the value that indicates the location in bits.\n",
    "    \n",
    "For example, if Java stored the `Walrus` in memory location 2384723423th bit:\n",
    "\n",
    "![](images/location.png)\n",
    "\n",
    "...then the `new` keyword returns 2384723423."
   ]
  },
  {
   "cell_type": "markdown",
   "metadata": {},
   "source": [
    "## Reference Type Variable Declarations"
   ]
  },
  {
   "cell_type": "markdown",
   "metadata": {},
   "source": [
    "When we declare a variable of any reference type (e.g. `Walrus`, `Dog`, `Planet`),\n",
    "* Java allocates a box of exactly 64 bits, regardless of the type of the object\n",
    "* These bits can be either set to:\n",
    "    * Null (all `0`)\n",
    "    * The 64 bit address of a specific instance of that class / reference type (as returned by the `new` keyword)\n",
    "    \n",
    "For example, if we create a variable of type `Walrus` and assign it the value `null`,"
   ]
  },
  {
   "cell_type": "code",
   "execution_count": null,
   "metadata": {},
   "outputs": [],
   "source": [
    "Walrus someWalrus;\n",
    "someWalrus = null;"
   ]
  },
  {
   "cell_type": "markdown",
   "metadata": {},
   "source": [
    "First, Java creates a box of 64 bits. Then Java sets all the bits to 0.\n",
    "\n",
    "![](images/null.png)"
   ]
  },
  {
   "cell_type": "markdown",
   "metadata": {},
   "source": [
    "On the other hand, if we do the following,"
   ]
  },
  {
   "cell_type": "code",
   "execution_count": null,
   "metadata": {},
   "outputs": [],
   "source": [
    "Walrus someWalrus;\n",
    "someWalrus = new Walrus(1000, 8.3);"
   ]
  },
  {
   "cell_type": "markdown",
   "metadata": {},
   "source": [
    "![](images/add.png)"
   ]
  },
  {
   "cell_type": "markdown",
   "metadata": {},
   "source": [
    "Then after creating a box of 64 bits, Java assign it with the result of calling the `new` keyword, which is the **ADDRESS** of the `Walrus` object. Note that the address, or the `pointer`, fits into 64 bits, but the `Walrus` object itself is 96 bits size."
   ]
  },
  {
   "cell_type": "markdown",
   "metadata": {},
   "source": [
    "## Simplified Box Notation - Reference Type"
   ]
  },
  {
   "cell_type": "markdown",
   "metadata": {},
   "source": [
    "Same as the case with primitive types, in this class we'll simplify the representation of bits using the simplified box notation. \n",
    "\n",
    "1. For bits with all `0`s, we represent it as `null`\n",
    "2. Other than `null`, we draw an arrow that points to the object or reference type.\n",
    "\n",
    "This is sometimes called \"box and pointer\" notation.\n",
    "\n",
    "![](images/simple_ref.png)"
   ]
  },
  {
   "cell_type": "markdown",
   "metadata": {},
   "source": [
    "## Reference Types Obey the Golden Rule of Equals"
   ]
  },
  {
   "cell_type": "markdown",
   "metadata": {},
   "source": [
    "Just as with primitive types, the equal sign `=` copies the bits. However, remember that in reference type, the bits represent the **ADDRESS**. This is why when we set `b = a` in the Walrus case, both variables are referring to the same address.\n",
    "\n",
    "When we do the following,"
   ]
  },
  {
   "cell_type": "code",
   "execution_count": null,
   "metadata": {},
   "outputs": [],
   "source": [
    "Walrus a;"
   ]
  },
  {
   "cell_type": "markdown",
   "metadata": {},
   "source": [
    "Java creates a box of 64 bits!\n",
    "\n",
    "![](images/empty.png)"
   ]
  },
  {
   "cell_type": "code",
   "execution_count": null,
   "metadata": {},
   "outputs": [],
   "source": [
    "a = new Walrus(1000, 8.3);"
   ]
  },
  {
   "cell_type": "markdown",
   "metadata": {},
   "source": [
    "The `new` keyword digs into the memory and returns the address of the `Walrus` object. `a` then gets assigned to this address.\n",
    "\n",
    "![](images/96.png)"
   ]
  },
  {
   "cell_type": "code",
   "execution_count": null,
   "metadata": {},
   "outputs": [],
   "source": [
    "Walrus b;"
   ]
  },
  {
   "cell_type": "markdown",
   "metadata": {},
   "source": [
    "Java then creates a new box `b`.\n",
    "\n",
    "![](images/b.png)"
   ]
  },
  {
   "cell_type": "code",
   "execution_count": null,
   "metadata": {},
   "outputs": [],
   "source": [
    "b = a;"
   ]
  },
  {
   "cell_type": "markdown",
   "metadata": {},
   "source": [
    "`b` is now pointing at the same address as where `a` is pointing at.\n",
    "\n",
    "![](images/both.png)"
   ]
  },
  {
   "cell_type": "code",
   "execution_count": null,
   "metadata": {},
   "outputs": [],
   "source": []
  }
 ],
 "metadata": {
  "kernelspec": {
   "display_name": "Python 3",
   "language": "python",
   "name": "python3"
  },
  "language_info": {
   "codemirror_mode": {
    "name": "ipython",
    "version": 3
   },
   "file_extension": ".py",
   "mimetype": "text/x-python",
   "name": "python",
   "nbconvert_exporter": "python",
   "pygments_lexer": "ipython3",
   "version": "3.7.5"
  }
 },
 "nbformat": 4,
 "nbformat_minor": 4
}
