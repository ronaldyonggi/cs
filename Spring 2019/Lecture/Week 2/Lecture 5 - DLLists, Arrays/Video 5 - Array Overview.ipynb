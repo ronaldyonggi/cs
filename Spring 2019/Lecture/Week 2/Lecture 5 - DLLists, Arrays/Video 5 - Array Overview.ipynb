{
 "cells": [
  {
   "cell_type": "markdown",
   "metadata": {},
   "source": [
    "## Our Long Term Goal: The AList"
   ]
  },
  {
   "cell_type": "markdown",
   "metadata": {},
   "source": [
    "In the last few lectures, we've seen how we can harness a recursive class definition to build an expandable list (e.g. `IntList`, `SLList`, `DLList`).\n",
    "\n",
    "In the next 2, we'll see how we can harness arrays to build such a list. "
   ]
  },
  {
   "cell_type": "markdown",
   "metadata": {},
   "source": [
    "## Getting Memory Boxes"
   ]
  },
  {
   "cell_type": "markdown",
   "metadata": {},
   "source": [
    "To store information, we need memory boxes, which we can get in Java by declaring variables or instantiating objects. For example,"
   ]
  },
  {
   "cell_type": "code",
   "execution_count": null,
   "metadata": {},
   "outputs": [],
   "source": [
    "int x ; // Gives us memory box of 32 bits that stores ints\n",
    "Walrus w1; // Gives us memory box of 64 bits that stores Walrus references"
   ]
  },
  {
   "cell_type": "code",
   "execution_count": null,
   "metadata": {},
   "outputs": [],
   "source": [
    "/* Gives us a memory box of 64 bits that stores Walrus references, and also\n",
    "gives us 96 bits for storing the int size (32 bits) and\n",
    "double tuskSize (64 bits) of our Walrus */\n",
    "\n",
    "Walrus w2 = new Walrus(30, 5.6);"
   ]
  },
  {
   "cell_type": "markdown",
   "metadata": {},
   "source": [
    "Arrays are a special kind of object which consists of a **numbered** sequence of memory boxes.\n",
    "* To get the `ith` item of array `A`, use `A[i]`\n",
    "* Unlike `class` instances which have **named** memory boxes and in which their instance variables are accessible via dot `.` notation"
   ]
  },
  {
   "cell_type": "markdown",
   "metadata": {},
   "source": [
    "## Arrays"
   ]
  },
  {
   "cell_type": "markdown",
   "metadata": {},
   "source": [
    "Arrays consists of:\n",
    "* A fixed integer `length`\n",
    "    * Once instantiated, a `length` can't change!\n",
    "* A squence of `N` memory boxes where `N` = `length`, such that:\n",
    "    * All of the boxes hold the same type (and have the same # of bits)\n",
    "        * Unlike Python, where we can have a container (list, tuple, dictionary) containing different types of value (e.g. `int`, `string`(\n",
    "    * The boxes are numbered (indexed) from 0 through `length - 1`\n",
    "    \n",
    "Like instances of classes:\n",
    "* We get one reference when it's created\n",
    "* If we reassign all variables containing that reference, we can never get the array back\n",
    "\n",
    "Unlike classes, arrays don't have methods"
   ]
  }
 ],
 "metadata": {
  "kernelspec": {
   "display_name": "Python 3",
   "language": "python",
   "name": "python3"
  },
  "language_info": {
   "codemirror_mode": {
    "name": "ipython",
    "version": 3
   },
   "file_extension": ".py",
   "mimetype": "text/x-python",
   "name": "python",
   "nbconvert_exporter": "python",
   "pygments_lexer": "ipython3",
   "version": "3.7.5"
  }
 },
 "nbformat": 4,
 "nbformat_minor": 4
}
