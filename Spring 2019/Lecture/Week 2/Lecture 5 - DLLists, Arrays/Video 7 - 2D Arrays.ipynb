{
 "cells": [
  {
   "cell_type": "markdown",
   "metadata": {},
   "source": [
    "# 2D Arrays"
   ]
  },
  {
   "cell_type": "markdown",
   "metadata": {},
   "source": [
    "Note that we're not going to deal with 2D arrays in this class. This is just for learning purpose."
   ]
  },
  {
   "cell_type": "markdown",
   "metadata": {},
   "source": [
    "## [Arrays of Array Addresses](http://goo.gl/VS4cOK)"
   ]
  },
  {
   "cell_type": "code",
   "execution_count": null,
   "metadata": {},
   "outputs": [],
   "source": [
    "int[][] pascalsTriangle; // Creates an integer array reference called 'pascalsTriangle'. This reference is 64 bits\n",
    "pascalsTriangle = new int[4][]; // At first, we only have a 1-D array."
   ]
  },
  {
   "cell_type": "markdown",
   "metadata": {},
   "source": [
    "![](images/pascal0.png)\n",
    "\n",
    "Note that each of the elements in the array are not `int`, but `int` references! Each of the elements in `pascalsTriangle` are pointing to `null`; Therefore, we can create a variable that contains a copy of the bits of one of those references."
   ]
  },
  {
   "cell_type": "code",
   "execution_count": null,
   "metadata": {},
   "outputs": [],
   "source": [
    "int[] rowZero = pascalsTriangle[0]"
   ]
  },
  {
   "cell_type": "markdown",
   "metadata": {},
   "source": [
    "![](images/rowzero.png)\n",
    "\n",
    "In the next cell below, we make each of these cells point to an array of integers."
   ]
  },
  {
   "cell_type": "code",
   "execution_count": null,
   "metadata": {},
   "outputs": [],
   "source": [
    "pascalsTriangle[0] = new int[]{1};\n",
    "pascalsTriangle[1] = new int[]{1, 1};\n",
    "pascalsTriangle[2] = new int[]{1, 2, 1};\n",
    "pascalsTriangle[3] = new int[]{1, 3, 3, 1};"
   ]
  },
  {
   "cell_type": "markdown",
   "metadata": {},
   "source": [
    "![](images/pascal.png)\n",
    "\n",
    "And in the next cell below, we create a box that stores a reference to one of the arrays in `pascalsTriangle` and modify one of the elements."
   ]
  },
  {
   "cell_type": "code",
   "execution_count": null,
   "metadata": {},
   "outputs": [],
   "source": [
    "int[] rowTwo = pascalsTriangle[2];\n",
    "// Creates a box of 64 bits that can store a reference to an int array \n",
    "rowTwo[1] = -5"
   ]
  },
  {
   "cell_type": "markdown",
   "metadata": {},
   "source": [
    "![](images/rowtwo.png)"
   ]
  },
  {
   "cell_type": "markdown",
   "metadata": {},
   "source": [
    "#### Alternate Ways of Instantiating 2D Array"
   ]
  },
  {
   "cell_type": "code",
   "execution_count": null,
   "metadata": {},
   "outputs": [],
   "source": [
    "int[][] matrix;\n",
    "matrix = new int[4][]; // Creates an array of size 4, in which each containing reference to null\n",
    "matrix = new int[4][4]; // Creates a 2D array of size 4, in which each containing reference to an array containing zeros"
   ]
  },
  {
   "cell_type": "markdown",
   "metadata": {},
   "source": [
    "![](images/matrix.png)"
   ]
  },
  {
   "cell_type": "markdown",
   "metadata": {},
   "source": [
    "And below is an alternative way of creating the same `pascalsTriangle` as previously made,"
   ]
  },
  {
   "cell_type": "code",
   "execution_count": 2,
   "metadata": {},
   "outputs": [
    {
     "ename": "SyntaxError",
     "evalue": "invalid syntax (<ipython-input-2-ab20908e5155>, line 1)",
     "output_type": "error",
     "traceback": [
      "\u001b[0;36m  File \u001b[0;32m\"<ipython-input-2-ab20908e5155>\"\u001b[0;36m, line \u001b[0;32m1\u001b[0m\n\u001b[0;31m    int[][] pascalAgain = new int[][]{{1}, {1, 1}, {1, 2, 1}, {1, 3, 3, 1}};\u001b[0m\n\u001b[0m        ^\u001b[0m\n\u001b[0;31mSyntaxError\u001b[0m\u001b[0;31m:\u001b[0m invalid syntax\n"
     ]
    }
   ],
   "source": [
    "int[][] pascalAgain = new int[][]{{1}, {1, 1}, {1, 2, 1}, {1, 3, 3, 1}};"
   ]
  },
  {
   "cell_type": "markdown",
   "metadata": {},
   "source": [
    "## Quiz"
   ]
  },
  {
   "cell_type": "markdown",
   "metadata": {},
   "source": [
    "What will be the value of `x[0][0]` and `w[0][0]` when the code below completes?"
   ]
  },
  {
   "cell_type": "code",
   "execution_count": null,
   "metadata": {},
   "outputs": [],
   "source": [
    "int[][] x = {{1, 2, 3}, {4, 5, 6}, {7, 8, 9}};\n",
    "\n",
    "int[][] z = new int[3][];\n",
    "z[0] = x[0];\n",
    "z[1] = x[1];\n",
    "z[2] = x[2];\n",
    "z[0][0] = -z[0][0]\n",
    "\n",
    "int[][] w = new int[3][3];\n",
    "System.arraycopy(x[0], 0, w[0], 0, 3);\n",
    "System.arraycopy(x[1], 0, w[1], 0, 3);\n",
    "System.arraycopy(x[2], 0, w[2], 0, 3);\n",
    "w[0][0] = -w[0][0];"
   ]
  },
  {
   "cell_type": "markdown",
   "metadata": {},
   "source": [
    "##### Answer"
   ]
  },
  {
   "cell_type": "code",
   "execution_count": null,
   "metadata": {},
   "outputs": [],
   "source": [
    "int[][] z = new int[3][];\n",
    "z[0] = x[0];\n",
    "z[1] = x[1];\n",
    "z[2] = x[2];\n",
    "z[0][0] = -z[0][0]\n",
    "\n",
    "// z and x are pointing at the same arrays\n",
    "\n",
    "// z (and also x) now contains {{-1, 2, 3}, {4, 5, 6}, {7, 8, 9}}"
   ]
  },
  {
   "cell_type": "code",
   "execution_count": null,
   "metadata": {},
   "outputs": [],
   "source": [
    "int[][] w = new int[3][3];\n",
    "System.arraycopy(x[0], 0, w[0], 0, 3);\n",
    "System.arraycopy(x[1], 0, w[1], 0, 3);\n",
    "System.arraycopy(x[2], 0, w[2], 0, 3);\n",
    "\n",
    "// w is now {{1, 2, 3}, {4, 5, 6}, {7, 8, 9}};\n",
    "// Since we use arraycopy, when we modify w, x is unmodified.\n",
    "// Thus, x[0][0] is -1\n",
    "// and w[0][0] is 1"
   ]
  }
 ],
 "metadata": {
  "kernelspec": {
   "display_name": "Python 3",
   "language": "python",
   "name": "python3"
  },
  "language_info": {
   "codemirror_mode": {
    "name": "ipython",
    "version": 3
   },
   "file_extension": ".py",
   "mimetype": "text/x-python",
   "name": "python",
   "nbconvert_exporter": "python",
   "pygments_lexer": "ipython3",
   "version": "3.7.5"
  }
 },
 "nbformat": 4,
 "nbformat_minor": 4
}
