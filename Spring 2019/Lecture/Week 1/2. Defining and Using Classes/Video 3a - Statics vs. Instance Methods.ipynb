{
 "cells": [
  {
   "cell_type": "markdown",
   "metadata": {},
   "source": [
    "# Static vs. Instance Method"
   ]
  },
  {
   "cell_type": "markdown",
   "metadata": {},
   "source": [
    "## Static"
   ]
  },
  {
   "cell_type": "markdown",
   "metadata": {},
   "source": [
    "An example of a static method is as the following,"
   ]
  },
  {
   "cell_type": "code",
   "execution_count": null,
   "metadata": {},
   "outputs": [],
   "source": [
    "// Static method\n",
    "public static void makeNoise() {\n",
    "    System.out.println(\"Bark!\");\n",
    "}"
   ]
  },
  {
   "cell_type": "markdown",
   "metadata": {},
   "source": [
    "Static methods are **invoked using the class name**. For example,"
   ]
  },
  {
   "cell_type": "code",
   "execution_count": null,
   "metadata": {},
   "outputs": [],
   "source": [
    "Dog.makeNoise();"
   ]
  },
  {
   "cell_type": "markdown",
   "metadata": {},
   "source": [
    "Static methods can't access instance variables (e.g. `weightInPounds`) because there's no instance present. "
   ]
  },
  {
   "cell_type": "markdown",
   "metadata": {},
   "source": [
    "## Non-static or Instance Method"
   ]
  },
  {
   "cell_type": "markdown",
   "metadata": {},
   "source": [
    "An example of a non-static method is as the following,"
   ]
  },
  {
   "cell_type": "code",
   "execution_count": null,
   "metadata": {},
   "outputs": [],
   "source": [
    "public void makeNoise() {\n",
    "        if (weightInPounds < 10) {\n",
    "            System.out.println(\"yipyipyip!\");\n",
    "        } else if (weightInPounds < 30) {\n",
    "            System.out.println(\"bark. bark.\");\n",
    "        }\n",
    "    }"
   ]
  },
  {
   "cell_type": "markdown",
   "metadata": {},
   "source": [
    "Non-static (or instance) methods are invoked using an instance name. For example,"
   ]
  },
  {
   "cell_type": "code",
   "execution_count": null,
   "metadata": {},
   "outputs": [],
   "source": [
    "maya = newDog(100);\n",
    "maya.makeNoise();"
   ]
  },
  {
   "cell_type": "markdown",
   "metadata": {},
   "source": [
    "## Why Static Methods?"
   ]
  },
  {
   "cell_type": "markdown",
   "metadata": {},
   "source": [
    "Some classes are never instantiated to begin with. For example, using the `round` method of the `Math` class,"
   ]
  },
  {
   "cell_type": "code",
   "execution_count": 3,
   "metadata": {},
   "outputs": [],
   "source": [
    "x = Math.round(5.6);"
   ]
  },
  {
   "cell_type": "markdown",
   "metadata": {},
   "source": [
    "Compared the the following,"
   ]
  },
  {
   "cell_type": "code",
   "execution_count": null,
   "metadata": {},
   "outputs": [],
   "source": [
    "Math (m) = new Math()\n",
    "x = m.round(5.6);"
   ]
  },
  {
   "cell_type": "markdown",
   "metadata": {},
   "source": [
    "The previous code does look cleaner! \n",
    "\n",
    "Sometimes, some class can be defined either static or non-static. The following is an example,"
   ]
  },
  {
   "cell_type": "code",
   "execution_count": null,
   "metadata": {},
   "outputs": [],
   "source": [
    "public static Dog maxDog(Dog d1, Dog d2) {\n",
    "    if (d1.weightInPounds > d2.weightInPounds) {\n",
    "        return d1;\n",
    "    }\n",
    "    return d2;\n",
    "}"
   ]
  },
  {
   "cell_type": "markdown",
   "metadata": {},
   "source": [
    "## Demo"
   ]
  },
  {
   "cell_type": "markdown",
   "metadata": {},
   "source": [
    "Let's say we want to compare 2 dogs. "
   ]
  },
  {
   "cell_type": "code",
   "execution_count": 5,
   "metadata": {},
   "outputs": [
    {
     "name": "stdout",
     "output_type": "stream",
     "text": [
      "wooooof!\n"
     ]
    }
   ],
   "source": [
    "// These code are supposedly placed inside the main method of the DogLauncher class\n",
    "Dog d = new Dog(51);\n",
    "Dog d2 = new Dog(100);\n",
    "Dog bigger = Dog.maxDog(d, d2); \n",
    "bigger.makeNoise();"
   ]
  },
  {
   "cell_type": "markdown",
   "metadata": {},
   "source": [
    "Above, we invoke the `Dog` class's `maxDog` method. This make sense, we can think of `maxDog` as a neutral method that compares 2 dogs. Now in the `Dog` class, we need to define the `maxDog` method."
   ]
  },
  {
   "cell_type": "code",
   "execution_count": null,
   "metadata": {},
   "outputs": [],
   "source": [
    "public static Dog maxDog(Dog d1, Dog d2) {\n",
    "    if (d1.weightInPounds > d2.weightInPounds) return d1;\n",
    "    return d2; \n",
    "}"
   ]
  },
  {
   "cell_type": "markdown",
   "metadata": {},
   "source": [
    "Currently, the `Dog` class would look like the following,"
   ]
  },
  {
   "cell_type": "code",
   "execution_count": 4,
   "metadata": {},
   "outputs": [],
   "source": [
    "public class Dog{\n",
    "    public int weightInPounds;\n",
    "    \n",
    "    public Dog(int w) {\n",
    "        weightInPounds = w;\n",
    "    }\n",
    "    \n",
    "    public void makeNoise() {\n",
    "        if (weightInPounds < 10) {\n",
    "            System.out.println(\"yip!\");\n",
    "        } else if (weightInPounds < 30) {\n",
    "            System.out.println(\"bark.\");\n",
    "        } else {\n",
    "            System.out.println(\"wooooof!\");\n",
    "        }\n",
    "    }\n",
    "    \n",
    "    public static Dog maxDog(Dog d1, Dog d2) {\n",
    "        if (d1.weightInPounds > d2.weightInPounds) return d1;\n",
    "        return d2;\n",
    "    }\n",
    "}"
   ]
  },
  {
   "cell_type": "markdown",
   "metadata": {},
   "source": [
    "## Making a Non-static `maxDog` Method"
   ]
  },
  {
   "cell_type": "markdown",
   "metadata": {},
   "source": [
    "We can also make the `maxDog` method non-static. In this case, we would need to use the keyword `this`."
   ]
  },
  {
   "cell_type": "code",
   "execution_count": null,
   "metadata": {},
   "outputs": [],
   "source": [
    "public Dog maxDog(Dog d2) {\n",
    "    if (this.weightInPounds > d2.weightInPounds) return this;\n",
    "    return d2;\n",
    "}"
   ]
  },
  {
   "cell_type": "markdown",
   "metadata": {},
   "source": [
    "The keyword `this` refers to the specific `Dog` instance that is going to call the `maxDog` method. In the case below, `this` refers to `d`. "
   ]
  },
  {
   "cell_type": "code",
   "execution_count": null,
   "metadata": {},
   "outputs": [],
   "source": [
    "Dog d = new Dog(15);\n",
    "Dog d2 = new Dog(100);\n",
    "Dog bigger = d.maxDog(d2);\n",
    "bigger.makeNoise()"
   ]
  },
  {
   "cell_type": "markdown",
   "metadata": {},
   "source": [
    "## Static Variables"
   ]
  },
  {
   "cell_type": "markdown",
   "metadata": {},
   "source": [
    "We can also make `static variables`.  `static variables` are properties that are shared among all `Dog` instances.\n",
    "\n",
    "For example, within the `Dog` class, we can specify that all dogs have 4 legs."
   ]
  },
  {
   "cell_type": "code",
   "execution_count": null,
   "metadata": {},
   "outputs": [],
   "source": [
    "// Add this inside the Dog class\n",
    "public static int legs = 4; "
   ]
  },
  {
   "cell_type": "code",
   "execution_count": 2,
   "metadata": {},
   "outputs": [],
   "source": [
    "// What the Dog class look like currently\n",
    "\n",
    "public class Dog{\n",
    "    public int weightInPounds;\n",
    "    public static int legs = 4;\n",
    "    \n",
    "    public Dog(int w) {\n",
    "        weightInPounds = w;\n",
    "    }\n",
    "    \n",
    "    public void makeNoise() {\n",
    "        if (weightInPounds < 10) {\n",
    "            System.out.println(\"yip!\");\n",
    "        } else if (weightInPounds < 30) {\n",
    "            System.out.println(\"bark.\");\n",
    "        } else {\n",
    "            System.out.println(\"wooooof!\");\n",
    "        }\n",
    "    }\n",
    "    \n",
    "    public static Dog maxDog(Dog d1, Dog d2) {\n",
    "        if (d1.weightInPounds > d2.weightInPounds) return d1;\n",
    "        return d2;\n",
    "    }\n",
    "}"
   ]
  },
  {
   "cell_type": "markdown",
   "metadata": {},
   "source": [
    "This way, if we try to call any specific dog's legs, they should be the same!"
   ]
  },
  {
   "cell_type": "code",
   "execution_count": 8,
   "metadata": {},
   "outputs": [
    {
     "name": "stdout",
     "output_type": "stream",
     "text": [
      "4\n",
      "4\n"
     ]
    }
   ],
   "source": [
    "Dog d = new Dog(15);\n",
    "Dog d2 = new Dog(100);\n",
    "System.out.println(d.legs);\n",
    "System.out.println(d2.legs);"
   ]
  },
  {
   "cell_type": "markdown",
   "metadata": {},
   "source": [
    "However, as a good practice, it makes sense to have a class accessing a static variable rather than a specific instance accessing a static variable. For example, it makes sense to say that all `Dog`s have 4 legs rather than saying that the `Dog` `d` has 4 legs."
   ]
  },
  {
   "cell_type": "code",
   "execution_count": 10,
   "metadata": {},
   "outputs": [
    {
     "name": "stdout",
     "output_type": "stream",
     "text": [
      "4\n"
     ]
    }
   ],
   "source": [
    "System.out.println(Dog.legs);"
   ]
  },
  {
   "cell_type": "markdown",
   "metadata": {},
   "source": [
    "## Review Static vs. Non-static"
   ]
  },
  {
   "cell_type": "markdown",
   "metadata": {},
   "source": [
    "A class may have a mix of static and non-static `members`.\n",
    "\n",
    "1. A variable or method defined in a class is also called **a member of that class**\n",
    "2. Static members are accessed using class name, e.g. `Dog.legs`\n",
    "    * We can technically access it via a specific instance (e.g. `d.legs`), but it's a bad practice\n",
    "3. Non-static members **CANNOT** be invoked using class name (e.g. we can't do `Dog.makeNoise`)\n",
    "4. Static methods must access instance variables via a specific instance\n",
    "\n",
    "For #4, see the following `maxDog` method as an example,"
   ]
  },
  {
   "cell_type": "code",
   "execution_count": null,
   "metadata": {},
   "outputs": [],
   "source": [
    "public static Dog maxDog(Dog d1, Dog d2) {\n",
    "    if (d1.weightInPounds > d2.weightInPounds) return d1;\n",
    "    return d2;\n",
    "}"
   ]
  },
  {
   "cell_type": "markdown",
   "metadata": {},
   "source": [
    "If we don't any specific instance, it would look like the following,"
   ]
  },
  {
   "cell_type": "code",
   "execution_count": null,
   "metadata": {},
   "outputs": [],
   "source": [
    "if (weightInPounds > d2.weightInPounds)"
   ]
  },
  {
   "cell_type": "markdown",
   "metadata": {},
   "source": [
    "...which does not makes sense because Java doesn't know which `weigthInPounds` we are referring to."
   ]
  }
 ],
 "metadata": {
  "kernelspec": {
   "display_name": "Java",
   "language": "java",
   "name": "java"
  },
  "language_info": {
   "codemirror_mode": "java",
   "file_extension": ".jshell",
   "mimetype": "text/x-java-source",
   "name": "Java",
   "pygments_lexer": "java",
   "version": "12.0.2+10"
  }
 },
 "nbformat": 4,
 "nbformat_minor": 4
}
