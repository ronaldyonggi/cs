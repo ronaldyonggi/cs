{
 "cells": [
  {
   "cell_type": "markdown",
   "metadata": {},
   "source": [
    "# Exercises\n",
    "\n",
    "## C Level\n",
    "\n",
    "### 1.\n",
    "Already done in **Video 3b, c**\n",
    "\n",
    "### 2.\n",
    "In the below code what would the blank variable name have to be in order for the code to compile?"
   ]
  },
  {
   "cell_type": "code",
   "execution_count": null,
   "metadata": {},
   "outputs": [],
   "source": [
    "public class Human {\n",
    "    int eyes;\n",
    "    public Human(int n) {\n",
    "        eyes = n;\n",
    "    }\n",
    "}"
   ]
  },
  {
   "cell_type": "markdown",
   "metadata": {},
   "source": [
    "## B Level\n",
    "\n",
    "### 1.\n",
    "Below is the `Dog` class,"
   ]
  },
  {
   "cell_type": "code",
   "execution_count": null,
   "metadata": {},
   "outputs": [],
   "source": [
    "public class Dog {\n",
    "    public void bark() {\n",
    "        System.out.println(\"Moo\");\n",
    "    }\n",
    "    \n",
    "    public static void runFast() {\n",
    "        System.out.println(\"Ruff Run\");\n",
    "    }\n",
    "}"
   ]
  },
  {
   "cell_type": "markdown",
   "metadata": {},
   "source": [
    "Which of the following lines, if any, would cause an error?"
   ]
  },
  {
   "cell_type": "code",
   "execution_count": null,
   "metadata": {},
   "outputs": [],
   "source": [
    "Dog poppa = new Dog();\n",
    "poppa.bark();\n",
    "Dog.bark(); // Answer\n",
    "poppa.runFast();\n",
    "Dog.runFast();\n",
    "\n",
    "//Answer: Dog.bark()\n",
    "//Non-static members can't be invoked using\n",
    "// a class name!"
   ]
  }
 ],
 "metadata": {
  "kernelspec": {
   "display_name": "Java",
   "language": "java",
   "name": "java"
  },
  "language_info": {
   "codemirror_mode": "java",
   "file_extension": ".jshell",
   "mimetype": "text/x-java-source",
   "name": "Java",
   "pygments_lexer": "java",
   "version": "12.0.2+10"
  }
 },
 "nbformat": 4,
 "nbformat_minor": 4
}
