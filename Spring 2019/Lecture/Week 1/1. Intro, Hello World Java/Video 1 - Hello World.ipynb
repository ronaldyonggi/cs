{
 "cells": [
  {
   "cell_type": "markdown",
   "metadata": {},
   "source": [
    "# Hello World"
   ]
  },
  {
   "cell_type": "markdown",
   "metadata": {},
   "source": [
    "Below, we have a Python program. (Try execute the cell below using Python kernel)"
   ]
  },
  {
   "cell_type": "code",
   "execution_count": 1,
   "metadata": {},
   "outputs": [
    {
     "ename": "CompilationException",
     "evalue": "",
     "output_type": "error",
     "traceback": [
      "\u001b[1m\u001b[30m|   \u001b[1m\u001b[30m\u001b[0m\u001b[1m\u001b[30m\u001b[41mprint\u001b[0m\u001b[1m\u001b[30m(\"hello world\")\u001b[0m",
      "\u001b[1m\u001b[31mcannot find symbol\u001b[0m",
      "\u001b[1m\u001b[31m  symbol:   method print(java.lang.String)\u001b[0m",
      ""
     ]
    }
   ],
   "source": [
    "print(\"hello world\")"
   ]
  },
  {
   "cell_type": "markdown",
   "metadata": {},
   "source": [
    "Above is what a simple programming language look like. If we execute this program with Java, we'll obtain an error instead!\n",
    "\n",
    "Java is an OOP language that forces all code to be in a class. To define a class, we'll do the following,"
   ]
  },
  {
   "cell_type": "code",
   "execution_count": 2,
   "metadata": {},
   "outputs": [],
   "source": [
    "public class HelloWorld{}"
   ]
  },
  {
   "cell_type": "markdown",
   "metadata": {},
   "source": [
    "We can think of :\n",
    "1. `public class` as a class definition. \n",
    "2. `HelloWorld` as the name of the class\n",
    "\n",
    "If we run the cell above in an actual Java compiler, it would return an error that says \"Main method not found...\", which can be fixed by adding the following,"
   ]
  },
  {
   "cell_type": "code",
   "execution_count": 5,
   "metadata": {},
   "outputs": [],
   "source": [
    "public class HelloWorld{\n",
    "    public static void main(String[] args){}\n",
    "}"
   ]
  },
  {
   "cell_type": "markdown",
   "metadata": {},
   "source": [
    "Above, we just executed the Java equivalent of a blank program in Python. In Java, it is more complicated to do simple things and even nothing. However in general, Java is a faster language than Python, it's just that it's more verbose.\n",
    "\n",
    "Now to print \"hello world\", the code is as the following,"
   ]
  },
  {
   "cell_type": "code",
   "execution_count": 7,
   "metadata": {},
   "outputs": [],
   "source": [
    "public class HelloWorld{\n",
    "    public static void main(String[] args){\n",
    "        System.out.println(\"hello world\");\n",
    "    }\n",
    "}"
   ]
  },
  {
   "cell_type": "markdown",
   "metadata": {},
   "source": [
    "#### Write Note:\n",
    "\n",
    "With the IJava Kernel, we don't need to use the following,"
   ]
  },
  {
   "cell_type": "code",
   "execution_count": null,
   "metadata": {},
   "outputs": [],
   "source": [
    "public class HelloWorld{\n",
    "    public static void main(String[] args){}\n",
    "}"
   ]
  },
  {
   "cell_type": "markdown",
   "metadata": {},
   "source": [
    "However, it will be mentioned beforehand that we assume we use those enclosings, such as the following,"
   ]
  },
  {
   "cell_type": "code",
   "execution_count": 10,
   "metadata": {},
   "outputs": [
    {
     "name": "stdout",
     "output_type": "stream",
     "text": [
      "hello world\n"
     ]
    }
   ],
   "source": [
    "/* Assume the code is located within:\n",
    "public class HelloWorld{\n",
    "    public static void main(String[] args){\n",
    "    \n",
    "    }\n",
    "}*/\n",
    "\n",
    "System.out.println(\"hello world\")"
   ]
  },
  {
   "cell_type": "markdown",
   "metadata": {},
   "source": [
    "Some important points:\n",
    "\n",
    "1. In Java, all codes must be part of a class. \n",
    "2. Classes are defined with `public class CLASSNAME`\n",
    "3. Use curly braces `{}` to delineate the beginning and ending of things\n",
    "4. End lines with semicolons `;`\n",
    "\n",
    "If we try to run the code without the semicolon `;`,"
   ]
  },
  {
   "cell_type": "markdown",
   "metadata": {},
   "source": [
    "We'll obtain an error!\n",
    "\n",
    "5. The code that we want to run must be inside the statement:"
   ]
  },
  {
   "cell_type": "code",
   "execution_count": 9,
   "metadata": {},
   "outputs": [],
   "source": [
    "public static void main (String[] args){}"
   ]
  },
  {
   "cell_type": "code",
   "execution_count": null,
   "metadata": {},
   "outputs": [],
   "source": []
  }
 ],
 "metadata": {
  "kernelspec": {
   "display_name": "Python 3",
   "language": "python",
   "name": "python3"
  },
  "language_info": {
   "codemirror_mode": {
    "name": "ipython",
    "version": 3
   },
   "file_extension": ".py",
   "mimetype": "text/x-python",
   "name": "python",
   "nbconvert_exporter": "python",
   "pygments_lexer": "ipython3",
   "version": "3.7.4"
  }
 },
 "nbformat": 4,
 "nbformat_minor": 4
}
