{
 "cells": [
  {
   "cell_type": "markdown",
   "metadata": {},
   "source": [
    "## Summary"
   ]
  },
  {
   "cell_type": "markdown",
   "metadata": {},
   "source": [
    "Theoretical analysis of algorithm performance requires **careful thought**\n",
    "\n",
    "* There are no magic shortcuts for analyzing code\n",
    "* In our course, it's ok to do exact counting or intuitive analysis\n",
    "    * Know how to sum $1 + 2 + 3 + ... + N$ and $1 + 2 + 4 + ... + N$\n",
    "    * We won't be writing mathematical proofs in this class\n",
    "* Many runtime problems we'll do in this class resemble one of the 5 problems from today. See textbook, study guide, and discussion for more practice\n",
    "* This topic has one of the highest skill ceilings of all topics in the course.\n",
    "\n",
    "Different solutions to the same problem (e.g. sorting) may have different runtimes\n",
    "* $N^2$ vs $N log N$ is an enormous difference\n",
    "* Going from $N log N$ to $N$ is nice, but not a significant change."
   ]
  },
  {
   "cell_type": "code",
   "execution_count": null,
   "metadata": {},
   "outputs": [],
   "source": []
  }
 ],
 "metadata": {
  "kernelspec": {
   "display_name": "Python 3",
   "language": "python",
   "name": "python3"
  },
  "language_info": {
   "codemirror_mode": {
    "name": "ipython",
    "version": 3
   },
   "file_extension": ".py",
   "mimetype": "text/x-python",
   "name": "python",
   "nbconvert_exporter": "python",
   "pygments_lexer": "ipython3",
   "version": "3.7.4"
  }
 },
 "nbformat": 4,
 "nbformat_minor": 2
}
