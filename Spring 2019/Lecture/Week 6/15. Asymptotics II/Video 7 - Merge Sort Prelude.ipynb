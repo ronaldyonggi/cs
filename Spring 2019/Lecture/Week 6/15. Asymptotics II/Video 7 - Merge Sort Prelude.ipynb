{
 "cells": [
  {
   "cell_type": "markdown",
   "metadata": {},
   "source": [
    "## Selection Sort: A Prelude to Mergesort"
   ]
  },
  {
   "cell_type": "markdown",
   "metadata": {},
   "source": [
    "In the past, we discussed a sort technique called `selection sort`.\n",
    "* Find the smallest unfixed item\n",
    "    * Move it to the front\n",
    "    * 'Fix' it\n",
    "    * Sort the remaining unfixed items using selection sort\n",
    "    \n",
    "Looking at at how a selection sort of `N` = 6 done,\n",
    "\n",
    "![](images/SS.png)\n",
    "\n",
    "We can see that the runtime is $\\Theta(N^2)$ just simply by noticing that it's the area of a triangle.\n",
    "\n",
    "Another way of knowing the runtime is as the following:\n",
    "* Loop through all the `N` unfixed items to find `smallest` and move it to the front\n",
    "* Then loop through the `N-1` remaining itmes and move it to the front\n",
    "* Repeat until there're last 2 unfixed items left.\n",
    "* The sum is $2 + 3 + 4 + ... + N = \\Theta(N^2)$\n",
    "\n",
    "Given that the runtime is quadratic, for `N` = 64 we can say the runtime for selection sort is 2,048 arbitrary units of time (AU)."
   ]
  },
  {
   "cell_type": "markdown",
   "metadata": {},
   "source": [
    "## The Merge Operation: Another Prelude to Mergesort"
   ]
  },
  {
   "cell_type": "markdown",
   "metadata": {},
   "source": [
    "Given 2 sorted arrays, the merge operation combines them into a single sorted array by successively copying the smallest item from the 2 arrays into a target array.\n",
    "\n",
    "Let's say we have the following 2 sorted arrays and we want to combine them. We start with comparing the smallest element of both arrays, and the smallest of the 2 will be copied to the target array.\n",
    "\n",
    "![](images/merge1.png)\n",
    "\n",
    "In this case, `2` is the smaller element, so copy `2` from the left array to the target array.\n",
    "\n",
    "![](images/merge2.png)\n",
    "\n",
    "Then we move on to the next round: comparing `3` (left) with `4` (right).\n",
    "\n",
    "![](images/merge3.png)\n",
    "\n",
    "...and repeat over and over again,\n",
    "\n",
    "![](images/mergelast.png)\n",
    "\n",
    "in this case, we ran out of elements on the right array. Then we simply copy the remaining elements from the left array to the target array."
   ]
  },
  {
   "cell_type": "markdown",
   "metadata": {},
   "source": [
    "## Merge Runtime"
   ]
  },
  {
   "cell_type": "markdown",
   "metadata": {},
   "source": [
    "How does the runtime of merge grow with `N`, the total number of items?\n",
    "\n",
    "1. $\\Theta(1)$\n",
    "1. $\\Theta(log N)$\n",
    "1. $\\Theta(N)$\n",
    "1. $\\Theta(N^2)$\n",
    "\n",
    "**Answer**: $\\Theta(N)$. \n",
    "\n",
    "Imagine calling an `array write` method to the target array as the cost model. We are doing exactly `N` calls to `array write`."
   ]
  },
  {
   "cell_type": "code",
   "execution_count": null,
   "metadata": {},
   "outputs": [],
   "source": []
  }
 ],
 "metadata": {
  "kernelspec": {
   "display_name": "Python 3",
   "language": "python",
   "name": "python3"
  },
  "language_info": {
   "codemirror_mode": {
    "name": "ipython",
    "version": 3
   },
   "file_extension": ".py",
   "mimetype": "text/x-python",
   "name": "python",
   "nbconvert_exporter": "python",
   "pygments_lexer": "ipython3",
   "version": "3.7.4"
  }
 },
 "nbformat": 4,
 "nbformat_minor": 2
}
