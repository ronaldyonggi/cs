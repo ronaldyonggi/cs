{
 "cells": [
  {
   "cell_type": "markdown",
   "metadata": {},
   "source": [
    "## 1. \n",
    "\n",
    "See [here](https://www.cs.princeton.edu/courses/archive/spring15/cos226/exams/mid-f11-sol.pdf)\n",
    "\n",
    "* A, because a cycle is present\n",
    "* B, 0 has children of 1, 2, 3, 4, 5. 0 shouldn't be a child of 9 because 0 is the parent of the larger tree.\n",
    "* C, this is a spindly tree, definitely not weighted. The height is 9, which is greater than $log 10$\n",
    "* E, if we try to work backwards,"
   ]
  },
  {
   "cell_type": "code",
   "execution_count": null,
   "metadata": {},
   "outputs": [],
   "source": [
    "9-8, 5-1, 6-1, 7-1\n",
    "// It's impossible to connect 8 to 6 because once we connect(8,6), 8 will be connected to 1 instead!"
   ]
  },
  {
   "cell_type": "markdown",
   "metadata": {},
   "source": [
    "* F, if we try to work backwards"
   ]
  },
  {
   "cell_type": "code",
   "execution_count": null,
   "metadata": {},
   "outputs": [],
   "source": [
    "5-3, 6-3, 1-4, 1-3, 0-2, 0-1\n",
    "// At the step of 0-1, 0 will be connected to 3 instead of 1 because 3 is the root fo the larger tree. "
   ]
  },
  {
   "cell_type": "markdown",
   "metadata": {},
   "source": [
    "## 2.\n",
    "\n",
    "See [here](https://www.cs.princeton.edu/courses/archive/spring15/cos226/exams/mid-f12-sol.pdf)\n",
    "\n",
    "* A, because a cycle is present\n",
    "* B, if we try to work backwards,"
   ]
  },
  {
   "cell_type": "code",
   "execution_count": null,
   "metadata": {},
   "outputs": [],
   "source": [
    "2-3, 4-8, 4-0, 2-8\n",
    "// There is no way 2 can be 8's child because if we connect(2, 8), the 2-3 will become 4's child instead."
   ]
  },
  {
   "cell_type": "markdown",
   "metadata": {},
   "source": [
    "* C, there is no way 3 is 9's child because 3 is the larger tree"
   ]
  },
  {
   "cell_type": "markdown",
   "metadata": {},
   "source": [
    "## 3.\n",
    "\n",
    "$$O(N + (M_U + M_C) log N)$$\n",
    "\n",
    "* $N$ is for creating the array\n",
    "* Each of $M_U$ and $M_C$ takes $O(log N)$ time."
   ]
  },
  {
   "cell_type": "markdown",
   "metadata": {},
   "source": [
    "## 4.\n",
    "\n",
    "The goal is to create a sequence of operations that has better runtime than $O(N + M_U + M_C)$. This can easily be done.\n",
    "* The operations from problem previous problem has a better runtime\n",
    "* Creating an array `N` and only do either one of `connect` or `isConnect`"
   ]
  },
  {
   "cell_type": "markdown",
   "metadata": {},
   "source": [
    "## 5."
   ]
  },
  {
   "cell_type": "code",
   "execution_count": null,
   "metadata": {},
   "outputs": [],
   "source": [
    "public void connect(int p, int q) {\n",
    "    if (connected(p, q)) return;\n",
    "    \n",
    "    /** Rename p's component to q's name */\n",
    "    for (int i = 0; i < id.length; i++) {\n",
    "        if (id[i] == id[p]) {\n",
    "            id[i] = id[q];\n",
    "        }\n",
    "    }\n",
    "    count -= 1; // What is this count for???\n",
    "    \n",
    "}"
   ]
  },
  {
   "cell_type": "markdown",
   "metadata": {},
   "source": [
    "## 6.\n",
    "\n",
    "### a.\n",
    "* First problem: impossible\n",
    "* Second problem: "
   ]
  },
  {
   "cell_type": "code",
   "execution_count": null,
   "metadata": {},
   "outputs": [],
   "source": [
    "connect(2, 0);\n",
    "connect(4, 0);\n",
    "connect(6, 0);\n",
    "connect(3, 5);\n",
    "connect(3, 0);"
   ]
  },
  {
   "cell_type": "markdown",
   "metadata": {},
   "source": [
    "### 7.\n",
    "Give the best case height and worst case height of a `WeightedQuickUnionUF` tree in $\\Theta$ notation in terms of $N$, the number of items in the `WeightedQuickUnionUF`.\n",
    "\n",
    "#### Best\n",
    "Best case scenario is that all elements are individually connected to 1 root.\n",
    "Thus best case height = $\\Theta(1)$\n",
    "\n",
    "#### Worst\n",
    "Worst case height is $\\Theta(log N)$"
   ]
  },
  {
   "cell_type": "markdown",
   "metadata": {},
   "source": []
  }
 ],
 "metadata": {
  "kernelspec": {
   "display_name": "Java",
   "language": "java",
   "name": "java"
  },
  "language_info": {
   "codemirror_mode": "java",
   "file_extension": ".jshell",
   "mimetype": "text/x-java-source",
   "name": "Java",
   "pygments_lexer": "java",
   "version": "12.0.2+10"
  }
 },
 "nbformat": 4,
 "nbformat_minor": 4
}
