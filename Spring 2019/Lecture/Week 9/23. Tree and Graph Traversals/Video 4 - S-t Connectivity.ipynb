{
 "cells": [
  {
   "cell_type": "markdown",
   "metadata": {},
   "source": [
    "# Depth-First Traversal"
   ]
  },
  {
   "cell_type": "markdown",
   "metadata": {},
   "source": [
    "## s-t Connectivity\n",
    "\n",
    "Let's solve a classic graph problem called the **s-t connectivity problem**.\n",
    "\n",
    "![](images/st.png)\n",
    "\n",
    "Given source vertex `s` and a target vertex `t`, is there a path between `s` and `t`? Try to come up with an algorithm for `connected(s,t)`!\n",
    "\n",
    "See [demo](https://docs.google.com/presentation/d/1OHRI7Q_f8hlwjRJc8NPBUc1cMu5KhINH1xGXWDfs_dA/edit?usp=sharing) here!\n"
   ]
  },
  {
   "cell_type": "code",
   "execution_count": null,
   "metadata": {},
   "outputs": [],
   "source": [
    "// connected(s, t)\n",
    "mark s\n",
    "if s == t:\n",
    "    return true\n",
    "else if connected(v, t) for unmarked neighbor v of s:\n",
    "    return true\n",
    "else:\n",
    "    return false"
   ]
  },
  {
   "cell_type": "markdown",
   "metadata": {},
   "source": [
    "Marking nodes prevents re-visiting nodes that we have visited."
   ]
  }
 ],
 "metadata": {
  "kernelspec": {
   "display_name": "Python 3",
   "language": "python",
   "name": "python3"
  },
  "language_info": {
   "codemirror_mode": {
    "name": "ipython",
    "version": 3
   },
   "file_extension": ".py",
   "mimetype": "text/x-python",
   "name": "python",
   "nbconvert_exporter": "python",
   "pygments_lexer": "ipython3",
   "version": "3.7.4"
  }
 },
 "nbformat": 4,
 "nbformat_minor": 4
}
