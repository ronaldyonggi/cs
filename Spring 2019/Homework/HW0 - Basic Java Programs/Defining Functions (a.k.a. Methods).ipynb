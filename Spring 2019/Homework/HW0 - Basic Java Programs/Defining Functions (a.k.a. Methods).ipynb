{
 "cells": [
  {
   "cell_type": "markdown",
   "metadata": {},
   "source": [
    "# Defining Functions (a.k.a. Methods)\n",
    "The following 4 pieces of code are all equivalent in Python, MATLAB, Scheme and Java. Each defines a function that returns the maximum of 2 values and then prints the maximum of `5` and `15`."
   ]
  },
  {
   "cell_type": "markdown",
   "metadata": {},
   "source": [
    "## Python"
   ]
  },
  {
   "cell_type": "code",
   "execution_count": 1,
   "metadata": {},
   "outputs": [
    {
     "name": "stdout",
     "output_type": "stream",
     "text": [
      "15\n"
     ]
    }
   ],
   "source": [
    "def max(x, y):\n",
    "    if (x > y):\n",
    "        return x\n",
    "    return y\n",
    "\n",
    "print(max(5, 15))"
   ]
  },
  {
   "cell_type": "markdown",
   "metadata": {},
   "source": [
    "## MATLAB"
   ]
  },
  {
   "cell_type": "code",
   "execution_count": null,
   "metadata": {},
   "outputs": [],
   "source": [
    "function m = max(x, y)\n",
    "    if (x > y)\n",
    "        m = x\n",
    "    else\n",
    "        m = y\n",
    "    end\n",
    "end\n",
    "\n",
    "disp(max(5, 15))"
   ]
  },
  {
   "cell_type": "markdown",
   "metadata": {},
   "source": [
    "## Scheme"
   ]
  },
  {
   "cell_type": "code",
   "execution_count": 3,
   "metadata": {},
   "outputs": [
    {
     "name": "stdout",
     "output_type": "stream",
     "text": [
      "15\n"
     ]
    }
   ],
   "source": [
    "(define max (lambda (x y) (if (> x y) x y)))\n",
    "(display (max 5 15)) (newline)"
   ]
  },
  {
   "cell_type": "code",
   "execution_count": 4,
   "metadata": {},
   "outputs": [
    {
     "name": "stdout",
     "output_type": "stream",
     "text": [
      "15\n"
     ]
    }
   ],
   "source": [
    "(define max\n",
    "  (lambda (x y)\n",
    "    (if (> x y) x\n",
    "        y)))\n",
    "\n",
    "(display (max 5 15)) (newline)"
   ]
  },
  {
   "cell_type": "markdown",
   "metadata": {},
   "source": [
    "## Java"
   ]
  },
  {
   "cell_type": "code",
   "execution_count": 3,
   "metadata": {},
   "outputs": [],
   "source": [
    "public static int max(int x, int y) {\n",
    "    if (x > y) {\n",
    "        return x;\n",
    "    }\n",
    "    return y;\n",
    "}\n",
    "\n",
    "/* Code inside 'void main' won't display anything in iJava kernel */\n",
    "public static void main(String[] args) {\n",
    "    System.out.println(max(10, 15));\n",
    "}"
   ]
  },
  {
   "cell_type": "code",
   "execution_count": 4,
   "metadata": {},
   "outputs": [
    {
     "name": "stdout",
     "output_type": "stream",
     "text": [
      "15\n"
     ]
    }
   ],
   "source": [
    "/* Instead, we can just execute the code directly as shown below */\n",
    "System.out.println(max(10, 15));"
   ]
  },
  {
   "cell_type": "markdown",
   "metadata": {},
   "source": [
    "Functions in Java, like variables, have a specific return type. The `max` function has a return type `int` (indicated by the word `int` right before the function name `max`).\n",
    "\n",
    "Functions in Java are called **methods** rather than functions.\n",
    "\n",
    "We refer to the entire `public static int max(int x, int y)` as the method's **signature** as it lists the parameters, return type, name, and other modifiers. In this case, our modifiers are `public` and `static`, though we won't learn what these mean for the next few days.\n",
    "\n",
    "For this homework, all methods are going to have `public static` at the front of their signature."
   ]
  }
 ],
 "metadata": {
  "kernelspec": {
   "display_name": "Java",
   "language": "java",
   "name": "java"
  },
  "language_info": {
   "codemirror_mode": {
    "name": "scheme"
   },
   "mimetype": "text/x-scheme",
   "name": "scheme",
   "pygments_lexer": "scheme"
  }
 },
 "nbformat": 4,
 "nbformat_minor": 4
}
