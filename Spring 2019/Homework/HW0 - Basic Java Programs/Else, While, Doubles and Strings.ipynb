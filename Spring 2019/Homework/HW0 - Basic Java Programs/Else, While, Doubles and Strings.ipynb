{
 "cells": [
  {
   "cell_type": "markdown",
   "metadata": {},
   "source": [
    "# Else"
   ]
  },
  {
   "cell_type": "markdown",
   "metadata": {},
   "source": [
    "The `else` keyword allows us to specify behavior that should occur if a condition is not met. For example:"
   ]
  },
  {
   "cell_type": "code",
   "execution_count": 2,
   "metadata": {},
   "outputs": [
    {
     "name": "stdout",
     "output_type": "stream",
     "text": [
      "x - 3 is not greater than 8\n"
     ]
    }
   ],
   "source": [
    "int x = 9;\n",
    "\n",
    "if (x - 3 > 8) {\n",
    "    System.out.println(\"x - 3 is greater than 8\");\n",
    "} else {\n",
    "    System.out.println(\"x - 3 is not greater than 8\");\n",
    "}"
   ]
  },
  {
   "cell_type": "markdown",
   "metadata": {},
   "source": [
    "We can also chain `else` statements,"
   ]
  },
  {
   "cell_type": "code",
   "execution_count": 3,
   "metadata": {},
   "outputs": [
    {
     "name": "stdout",
     "output_type": "stream",
     "text": [
      "bark!\n"
     ]
    }
   ],
   "source": [
    "int dogSize = 20;\n",
    "if (dogSize >= 50) {\n",
    "    System.out.println(\"woof!\");\n",
    "} else if (dogSize >= 10) {\n",
    "    System.out.println(\"bark!\");\n",
    "} else {\n",
    "    System.out.println(\"yip!\");\n",
    "}"
   ]
  },
  {
   "cell_type": "markdown",
   "metadata": {},
   "source": [
    "# While"
   ]
  },
  {
   "cell_type": "markdown",
   "metadata": {},
   "source": [
    "The `while` keyword lets you repeat a block of code as long as the condition imposed is true. "
   ]
  },
  {
   "cell_type": "code",
   "execution_count": null,
   "metadata": {},
   "outputs": [],
   "source": [
    "int bottles = 99;\n",
    "while (bottles > 0) {\n",
    "    System.out.println(bottles + \" bottles of beer on the wall.\");\n",
    "    bottles = bottles - 1;\n",
    "}"
   ]
  },
  {
   "cell_type": "markdown",
   "metadata": {},
   "source": [
    "# Doubles and Strings"
   ]
  },
  {
   "cell_type": "markdown",
   "metadata": {},
   "source": [
    "The variables that we have been using have been of type `int`. There are many other types that we can use in Java."
   ]
  },
  {
   "cell_type": "code",
   "execution_count": null,
   "metadata": {},
   "outputs": [
    {
     "name": "stdout",
     "output_type": "stream",
     "text": [
      "At time: 0.0\n",
      "    Achilles is at position 0.0\n",
      "    Tortoise is at position 100.0\n",
      "At time: 5.0\n",
      "    Achilles is at position 100.0\n",
      "    Tortoise is at position 150.0\n",
      "At time: 7.5\n",
      "    Achilles is at position 150.0\n",
      "    Tortoise is at position 175.0\n",
      "At time: 8.75\n",
      "    Achilles is at position 175.0\n",
      "    Tortoise is at position 187.5\n",
      "At time: 9.375\n",
      "    Achilles is at position 187.5\n",
      "    Tortoise is at position 193.75\n",
      "At time: 9.6875\n",
      "    Achilles is at position 193.75\n",
      "    Tortoise is at position 196.875\n",
      "At time: 9.84375\n",
      "    Achilles is at position 196.875\n",
      "    Tortoise is at position 198.4375\n",
      "At time: 9.921875\n",
      "    Achilles is at position 198.4375\n",
      "    Tortoise is at position 199.21875\n",
      "At time: 9.9609375\n",
      "    Achilles is at position 199.21875\n",
      "    Tortoise is at position 199.609375\n",
      "At time: 9.98046875\n",
      "    Achilles is at position 199.609375\n",
      "    Tortoise is at position 199.8046875\n",
      "At time: 9.990234375\n",
      "    Achilles is at position 199.8046875\n",
      "    Tortoise is at position 199.90234375\n",
      "At time: 9.9951171875\n",
      "    Achilles is at position 199.90234375\n",
      "    Tortoise is at position 199.951171875\n",
      "At time: 9.99755859375\n",
      "    Achilles is at position 199.951171875\n",
      "    Tortoise is at position 199.9755859375\n",
      "At time: 9.998779296875\n",
      "    Achilles is at position 199.9755859375\n",
      "    Tortoise is at position 199.98779296875\n",
      "At time: 9.9993896484375\n",
      "    Achilles is at position 199.98779296875\n",
      "    Tortoise is at position 199.993896484375\n",
      "At time: 9.99969482421875\n",
      "    Achilles is at position 199.993896484375\n",
      "    Tortoise is at position 199.9969482421875\n",
      "At time: 9.999847412109375\n",
      "    Achilles is at position 199.9969482421875\n",
      "    Tortoise is at position 199.99847412109375\n",
      "At time: 9.999923706054688\n",
      "    Achilles is at position 199.99847412109375\n",
      "    Tortoise is at position 199.99923706054688\n",
      "At time: 9.999961853027344\n",
      "    Achilles is at position 199.99923706054688\n",
      "    Tortoise is at position 199.99961853027344\n",
      "At time: 9.999980926513672\n",
      "    Achilles is at position 199.99961853027344\n",
      "    Tortoise is at position 199.99980926513672\n",
      "At time: 9.999990463256836\n",
      "    Achilles is at position 199.99980926513672\n",
      "    Tortoise is at position 199.99990463256836\n",
      "At time: 9.999995231628418\n",
      "    Achilles is at position 199.99990463256836\n",
      "    Tortoise is at position 199.99995231628418\n",
      "At time: 9.999997615814209\n",
      "    Achilles is at position 199.99995231628418\n",
      "    Tortoise is at position 199.9999761581421\n",
      "At time: 9.999998807907104\n",
      "    Achilles is at position 199.9999761581421\n",
      "    Tortoise is at position 199.99998807907104\n",
      "At time: 9.999999403953552\n",
      "    Achilles is at position 199.99998807907104\n",
      "    Tortoise is at position 199.99999403953552\n",
      "At time: 9.999999701976776\n",
      "    Achilles is at position 199.99999403953552\n",
      "    Tortoise is at position 199.99999701976776\n",
      "At time: 9.999999850988388\n",
      "    Achilles is at position 199.99999701976776\n",
      "    Tortoise is at position 199.99999850988388\n",
      "At time: 9.999999925494194\n",
      "    Achilles is at position 199.99999850988388\n",
      "    Tortoise is at position 199.99999925494194\n",
      "At time: 9.999999962747097\n",
      "    Achilles is at position 199.99999925494194\n",
      "    Tortoise is at position 199.99999962747097\n",
      "At time: 9.999999981373549\n",
      "    Achilles is at position 199.99999962747097\n"
     ]
    }
   ],
   "source": [
    "String a = \"Achilles\";\n",
    "String t = \"Tortoise\";\n",
    "double aPos = 0;\n",
    "double tPos = 100;\n",
    "double aSpeed = 20;\n",
    "double tSpeed = 10;\n",
    "double totalTime = 0;\n",
    "while (aPos < tPos) {\n",
    "    System.out.println(\"At time: \" + totalTime);\n",
    "    System.out.println(\"    \" + a + \" is at position \" + aPos);\n",
    "    System.out.println(\"    \" + t + \" is at position \" + tPos);\n",
    "\n",
    "    double timeToReach = (tPos - aPos) / aSpeed;\n",
    "    totalTime = totalTime + timeToReach;\n",
    "    aPos = aPos + timeToReach * aSpeed;\n",
    "    tPos = tPos + timeToReach * tSpeed;\n",
    "}"
   ]
  },
  {
   "cell_type": "code",
   "execution_count": null,
   "metadata": {},
   "outputs": [],
   "source": []
  }
 ],
 "metadata": {
  "kernelspec": {
   "display_name": "Java",
   "language": "java",
   "name": "java"
  },
  "language_info": {
   "name": ""
  }
 },
 "nbformat": 4,
 "nbformat_minor": 4
}
