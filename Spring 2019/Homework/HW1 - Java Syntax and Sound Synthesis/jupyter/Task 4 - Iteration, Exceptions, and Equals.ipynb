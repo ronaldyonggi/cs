{
 "cells": [
  {
   "cell_type": "markdown",
   "metadata": {},
   "source": [
    "### `BoundedQueue<T> extends Iterable<T>`"
   ]
  },
  {
   "cell_type": "markdown",
   "metadata": {},
   "source": [
    "Simply have our `BoundedQueue` method to extends `Iterable<T>`. Make sure to add the Iterator<T> iterator() method so that we can `Override` it in `ArrayRingBuffer`."
   ]
  },
  {
   "cell_type": "code",
   "execution_count": null,
   "metadata": {},
   "outputs": [],
   "source": [
    "public interface BoundedQueue<T> extends Iterable<T> {\n",
    "    ...\n",
    "    Iterator<T> iterator();\n",
    "}"
   ]
  },
  {
   "cell_type": "markdown",
   "metadata": {},
   "source": [
    "### `ArrayRingBuffer` Iterator"
   ]
  },
  {
   "cell_type": "markdown",
   "metadata": {},
   "source": [
    "First, we `@Override` the `iterator()` method that is in the interface. Have this method returns an `ArrayRingBufferIterator()` object."
   ]
  },
  {
   "cell_type": "code",
   "execution_count": null,
   "metadata": {},
   "outputs": [],
   "source": [
    "@Override\n",
    "public Iterator<T> iterator() {\n",
    "    return new ArrayRingBufferIterator();\n",
    "}"
   ]
  },
  {
   "cell_type": "markdown",
   "metadata": {},
   "source": [
    "Now create the private class `ArrayRingBufferIterator` that implements `Iterator<T>`"
   ]
  },
  {
   "cell_type": "code",
   "execution_count": null,
   "metadata": {},
   "outputs": [],
   "source": [
    "private class ArrayRingBufferIterator implements Iterator<T>{\n",
    "    \n",
    "}"
   ]
  },
  {
   "cell_type": "markdown",
   "metadata": {},
   "source": [
    "It might be difficult to think about how to implement this class at first, since we can't do the way it was done in the lecture! We have a pointer that cycle back to the first index if it gets to the last index of the array.\n",
    "\n",
    "The answer: Implement it the same way we implemented `ArrayRingBuffer`\n",
    "* `first`\n",
    "* `fillCount`\n",
    "* `hasNext()` simply checks whether this iterator `fillCount` is 0"
   ]
  },
  {
   "cell_type": "code",
   "execution_count": null,
   "metadata": {},
   "outputs": [],
   "source": [
    "private int firstIterator;\n",
    "private int fillCountIterator;\n",
    "\n",
    "public ArrayRingBufferIterator() {\n",
    "    firstIterator = first;\n",
    "    fillCountIterator = fillCount;\n",
    "}\n",
    "\n",
    "public boolean hasNext() {\n",
    "    return (fillCountIterator != 0);\n",
    "}"
   ]
  },
  {
   "cell_type": "markdown",
   "metadata": {},
   "source": [
    "`next()` method implementation is very similar to `dequeue`.\n",
    "* Check `hasNext()`. If false, return `NoSuchElementException`\n",
    "* Otherwise,\n",
    "    * Assign the element of index `[firstIterator]` to a temporary variable\n",
    "    * Increment `firstIterator`\n",
    "    * Decrement `fillCountIterator`\n",
    "    * If `firstIterator` goes past the last index, reset it to 0\n",
    "    * and return whatever value was bound to the temporary variable."
   ]
  },
  {
   "cell_type": "code",
   "execution_count": null,
   "metadata": {},
   "outputs": [],
   "source": [
    "public T next() {\n",
    "    if (!hasNext()) {\n",
    "        throw new NoSuchElementException();\n",
    "    }\n",
    "    T toBeNext = (T) rb[firstIterator];\n",
    "    firstIterator++;\n",
    "    fillCountIterator--;\n",
    "    if (firstIterator > capacity() - 1) {\n",
    "        firstIterator = 0;\n",
    "    }\n",
    "    return toBeNext;\n",
    "}\n"
   ]
  },
  {
   "cell_type": "markdown",
   "metadata": {},
   "source": [
    "### `equals`"
   ]
  },
  {
   "cell_type": "markdown",
   "metadata": {},
   "source": [
    "We can't just compare 2 `ArrayRingBuffer` objects because each `ArrayRingBuffer` is an object containing the array `buffer`. On top of that, we can't simply take the `buffer` as it will violate abstractions.\n",
    "\n",
    "Instead, we can use the iterator to `next()` each element of both `ArrayRingBuffer`. \n",
    "\n",
    "1. Assuming that the input object is an `ArrayRingBuffer`, we cast this object as one.\n",
    "2. For preliminary check, check if both ARB's `fillCount` are the same.\n",
    "3. If #2 is passed, assign the 2 iterators separately because we'll need to access their elements one-by-one and compare them on the same time.\n",
    "4. Comparison stage:\n",
    "    * Occurs as long as any of the iterator still has `hasNext()`\n",
    "    * Each ARB can contain any kind of object as its element (int, double, string, char, etc.). To be able to compare the elements universally,\n",
    "        * Convert them to string using `String.valueOf`\n",
    "        * Then compare using `.equals`."
   ]
  },
  {
   "cell_type": "code",
   "execution_count": null,
   "metadata": {},
   "outputs": [],
   "source": [
    "@Override\n",
    "public boolean equals(Object o) {\n",
    "    // Cast the input object as an ArrayRingBuffer object\n",
    "    ArrayRingBuffer other = (ArrayRingBuffer) o;\n",
    "    /**\n",
    "     * if the fillCount is different, they are not equal\n",
    "     */\n",
    "    if (fillCount() != other.fillCount()) {\n",
    "        return false;\n",
    "    }\n",
    "    // Assign the iterators each to separate variables\n",
    "    Iterator thisIter = this.iterator();\n",
    "    Iterator otherIter = other.iterator();\n",
    "    while (thisIter.hasNext()) {\n",
    "        /**\n",
    "         * Since the array can contain any type of object, convert it to\n",
    "         * String for comparison purpose\n",
    "         */\n",
    "        if (!String.valueOf(thisIter.next()).equals(String.valueOf(otherIter.next()))) {\n",
    "            return false;\n",
    "        }\n",
    "    }\n",
    "    return true;\n",
    "}\n"
   ]
  }
 ],
 "metadata": {
  "kernelspec": {
   "display_name": "Python 3",
   "language": "python",
   "name": "python3"
  },
  "language_info": {
   "codemirror_mode": {
    "name": "ipython",
    "version": 3
   },
   "file_extension": ".py",
   "mimetype": "text/x-python",
   "name": "python",
   "nbconvert_exporter": "python",
   "pygments_lexer": "ipython3",
   "version": "3.7.4"
  }
 },
 "nbformat": 4,
 "nbformat_minor": 4
}
