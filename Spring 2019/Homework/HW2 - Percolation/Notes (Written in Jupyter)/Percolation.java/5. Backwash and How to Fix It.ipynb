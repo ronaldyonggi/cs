{
 "cells": [
  {
   "cell_type": "markdown",
   "metadata": {},
   "source": [
    "With our current implementation, we have a problem: [backwash](https://docs.google.com/presentation/d/1AV5v-gTSIi5xUwtm-FtkReUmuTA3Mqry1eGjje7OgQo/edit#slide=id.g11dd5164a7_2_309)\n",
    "\n",
    "![](https://introcs.cs.princeton.edu/java/assignments/checklist/percolation-backwash.png)\n",
    "\n",
    "If all the bottom sites are connected to each other and all the top sites are connected each other, this means sites that are connected to the bottom are all filled as well even without having to be connected to the top.\n",
    "\n",
    "## Solution\n",
    "\n",
    "For solution, see [here](https://github.com/alexilyenko/Algorithms1/issues/2) for more details.\n",
    "\n",
    "One solution is to create a second `WeightedQuickUnionUF` (WQUF) object."
   ]
  },
  {
   "cell_type": "code",
   "execution_count": null,
   "metadata": {},
   "outputs": [],
   "source": [
    "private WeightedQuickUnionUF wquf2;"
   ]
  },
  {
   "cell_type": "markdown",
   "metadata": {},
   "source": [
    "The idea is to use the main WQUF for checking if the system percolates (using the `percolates()` method), and to use `wquf2` to check if the site is filled. Some changes that need to be done:\n",
    "\n",
    "1. For most methods that involve `union` method, `union` both the main WQUF and `wquf2`\n",
    "2. Only connect all the bottom sites for the main WQUF. Don't connect `wquf2`'s bottom sites"
   ]
  },
  {
   "cell_type": "markdown",
   "metadata": {},
   "source": [
    "## Changes to `Percolation(int N)` constructor"
   ]
  },
  {
   "cell_type": "code",
   "execution_count": null,
   "metadata": {},
   "outputs": [],
   "source": [
    "public Percolation(int N) {\n",
    "    super(N*N);\n",
    "    /** Also call the constructor for wquf2 */\n",
    "    wquf2 = new WeightedQuickUnionUF(N*N);\n",
    "    openArray = new boolean[N*N];\n",
    "    length = N;\n",
    "\n",
    "    /** Top Virtual Site */\n",
    "    for(int i = 1; i < length; i++) {\n",
    "        union(0, i);\n",
    "        /* Also union wquf2 */\n",
    "        wquf2.union(0, i);\n",
    "    }\n",
    "    \n",
    "    /* Bottom Virtual Site, only connect the\n",
    "    main WQUF */\n",
    "    for (int i = N*N - 2; i >= N*N - N; i--) {\n",
    "        union(N*N - 1, i);\n",
    "    }\n"
   ]
  },
  {
   "cell_type": "markdown",
   "metadata": {},
   "source": [
    "## Changes to `open(int row, int col)` method\n",
    "\n",
    "When checking adjacent sites to connect, also do the same to `wquf2`."
   ]
  },
  {
   "cell_type": "code",
   "execution_count": null,
   "metadata": {},
   "outputs": [],
   "source": [
    "/**\n",
    " * ABOVE\n",
    " * Checks if the site above the current site is valid (within the\n",
    " * NxN grid). If yes and the site is open, connect\n",
    " * with current site.\n",
    " */\n",
    "if(row - 1 >= 0) {\n",
    "    int above = convert2Dto1D(row-1, col);\n",
    "    if (isOpen(row-1, col)) {\n",
    "        /**\n",
    "         * Connect both main wquf and second wquf\n",
    "         */\n",
    "        union(current, above);\n",
    "        wquf2.union(current, above);\n",
    "    }\n",
    "}\n",
    "\n",
    "/**\n",
    " * BELOW\n",
    " * Same with ABOVE, but for the site below current site\n",
    " */\n",
    "if(row + 1 <= length - 1) {\n",
    "    int below = convert2Dto1D(row+1, col);\n",
    "    if (isOpen(row+1, col)) {\n",
    "        union(current, below);\n",
    "        wquf2.union(current, below);\n",
    "    }\n",
    "}\n",
    "\n",
    "/**\n",
    " * LEFT\n",
    " */\n",
    "if(col - 1 >= 0) {\n",
    "    int left = convert2Dto1D(row, col - 1);\n",
    "    if (isOpen(row, col-1)) {\n",
    "        union(current, left);\n",
    "        wquf2.union(current, left);\n",
    "    }\n",
    "}\n",
    "\n",
    "/**\n",
    " * RIGHT\n",
    " */\n",
    "if (col + 1 <= length-1) {\n",
    "    int right = convert2Dto1D(row, col + 1);\n",
    "    if (isOpen(row, col+1)) {\n",
    "        union(current, right);\n",
    "        wquf2.union(current,right);\n",
    "    }\n",
    "}\n"
   ]
  },
  {
   "cell_type": "markdown",
   "metadata": {},
   "source": [
    "## Change to `isFull(int row, int col)`\n",
    "Use the `wquf2` to determine if a site is filled."
   ]
  },
  {
   "cell_type": "code",
   "execution_count": null,
   "metadata": {},
   "outputs": [],
   "source": [
    "public boolean isFull(int row, int col) {\n",
    "    if (isOpen(row, col)) {\n",
    "        int current = convert2Dto1D(row, col);\n",
    "        /** Use wquf2 */\n",
    "        return wquf2.connected(current, 0);\n",
    "    }\n",
    "    return false;\n",
    "}\n"
   ]
  },
  {
   "cell_type": "markdown",
   "metadata": {},
   "source": [
    "## Changes (actually no changes) to `percolates()` method\n",
    "Use the main system to check if the system percolates. The implementation doesn't change."
   ]
  },
  {
   "cell_type": "code",
   "execution_count": null,
   "metadata": {},
   "outputs": [],
   "source": [
    "public boolean percolates() {\n",
    "    return connected(0, length * length - 1);\n",
    "}\n"
   ]
  },
  {
   "cell_type": "markdown",
   "metadata": {},
   "source": []
  }
 ],
 "metadata": {
  "kernelspec": {
   "display_name": "Java",
   "language": "java",
   "name": "java"
  },
  "language_info": {
   "codemirror_mode": "java",
   "file_extension": ".jshell",
   "mimetype": "text/x-java-source",
   "name": "Java",
   "pygments_lexer": "java",
   "version": "12.0.2+10"
  }
 },
 "nbformat": 4,
 "nbformat_minor": 4
}
