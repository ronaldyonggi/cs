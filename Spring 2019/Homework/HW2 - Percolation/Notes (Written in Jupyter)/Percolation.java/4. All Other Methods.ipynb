{
 "cells": [
  {
   "cell_type": "markdown",
   "metadata": {},
   "source": [
    "## `isOpen()`\n",
    "\n",
    "Simply return the contents of the `openArray` of the input `row` and `col`. Remember that `openArray` is a 1D array, thus we need to convert `row` and `col` to a 1D index."
   ]
  },
  {
   "cell_type": "code",
   "execution_count": null,
   "metadata": {},
   "outputs": [],
   "source": [
    "public boolean isOpen(int row, int col){\n",
    "    validate(row, col);\n",
    "    return openArray[convert2Dto1D(row, col)];\n",
    "}"
   ]
  },
  {
   "cell_type": "markdown",
   "metadata": {},
   "source": [
    "## `isFull()`\n",
    "\n",
    "Simply checks whether the site is connected to the top virtual site (in other words, any of the top site) using WQUF's built-in `connected` method. Obviously if the site is closed, it's not filled."
   ]
  },
  {
   "cell_type": "code",
   "execution_count": null,
   "metadata": {},
   "outputs": [],
   "source": [
    "public boolean isFull(int row, int col){\n",
    "    if (isOpen(row, col)){ // Checks if the site is opn\n",
    "        int current = convert2Dto1D(row, col);\n",
    "        /* Use the built-in WQUF's connected method to\n",
    "        check connection with site at index 0 */\n",
    "        return connected(current, 0);\n",
    "    }\n",
    "}"
   ]
  },
  {
   "cell_type": "markdown",
   "metadata": {},
   "source": [
    "## `numberofOpenSites()`\n",
    "Simply return the `openSites` int variable."
   ]
  },
  {
   "cell_type": "code",
   "execution_count": null,
   "metadata": {},
   "outputs": [],
   "source": [
    "public int numberofOpenSites(){\n",
    "    return openSites;\n",
    "}"
   ]
  },
  {
   "cell_type": "markdown",
   "metadata": {},
   "source": [
    "## `percolates()`\n",
    "\n",
    "This method checks if the whole system percolates. This can be done by checking whether the bottom virtual site is connected to the top virtual site."
   ]
  },
  {
   "cell_type": "code",
   "execution_count": null,
   "metadata": {},
   "outputs": [],
   "source": [
    "public boolean percolates() {\n",
    "    /* Checks if site index 0 is connected with site\n",
    "    index 1 - last. */\n",
    "    return connected(0, length * length - 1);\n",
    "}"
   ]
  }
 ],
 "metadata": {
  "kernelspec": {
   "display_name": "Java",
   "language": "java",
   "name": "java"
  },
  "language_info": {
   "codemirror_mode": "java",
   "file_extension": ".jshell",
   "mimetype": "text/x-java-source",
   "name": "Java",
   "pygments_lexer": "java",
   "version": "12.0.2+10"
  }
 },
 "nbformat": 4,
 "nbformat_minor": 4
}
