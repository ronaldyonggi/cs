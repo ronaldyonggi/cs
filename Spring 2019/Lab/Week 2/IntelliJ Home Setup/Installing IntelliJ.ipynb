{
 "cells": [
  {
   "cell_type": "markdown",
   "metadata": {},
   "source": [
    "# Additional Writer Notes - `JUnit`"
   ]
  },
  {
   "cell_type": "markdown",
   "metadata": {},
   "source": [
    "During installation, when the installation process asks for built-in plugins to be enabled / disabled, make sure to enable `JUnit` plugins to be able to run tests! Without the `JUnit` plugin, we won't be able to do tests at all, which is basically what we're going to do for the next few lectures!\n",
    "\n",
    "If during this installation, you accidentally disabled `JUnit` (I did it at first by disabling everything, thinking that this would optimize the performance of running / starting up IntelliJ), don't worry. \n",
    "\n",
    "Go to `IntelliJ IDEA` menu -> `Preferences` -> Choose `Plugins`. The `JUnit` plugin should be available within the `bundled` list."
   ]
  },
  {
   "cell_type": "markdown",
   "metadata": {},
   "source": [
    "# Embedded `Terminal`"
   ]
  },
  {
   "cell_type": "markdown",
   "metadata": {},
   "source": [
    "The embedded terminal is also part of IntelliJ bundled plugins. Make sure to enable this plugin to be able to use it."
   ]
  },
  {
   "cell_type": "code",
   "execution_count": null,
   "metadata": {},
   "outputs": [],
   "source": []
  }
 ],
 "metadata": {
  "kernelspec": {
   "display_name": "Python 3",
   "language": "python",
   "name": "python3"
  },
  "language_info": {
   "codemirror_mode": {
    "name": "ipython",
    "version": 3
   },
   "file_extension": ".py",
   "mimetype": "text/x-python",
   "name": "python",
   "nbconvert_exporter": "python",
   "pygments_lexer": "ipython3",
   "version": "3.7.3"
  }
 },
 "nbformat": 4,
 "nbformat_minor": 4
}
