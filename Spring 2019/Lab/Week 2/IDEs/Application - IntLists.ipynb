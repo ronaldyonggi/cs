{
 "cells": [
  {
   "cell_type": "markdown",
   "metadata": {},
   "source": [
    "# [Application : `IntLists`](https://sp19.datastructur.es/materials/lab/lab2/lab2#application-intlists)"
   ]
  },
  {
   "cell_type": "markdown",
   "metadata": {},
   "source": [
    "## [Introduction / Review of IntLists](https://sp19.datastructur.es/materials/lab/lab2/lab2#introductionreview-of-intlists)"
   ]
  },
  {
   "cell_type": "markdown",
   "metadata": {},
   "source": [
    "As `IntList` is the CS61B implementation for a naked recursive linked list of **integers**.\n",
    "* Each `IntList` has a `first` and `rest` variable\n",
    "    * The `first` is the `int` element contained by the node\n",
    "    * The `rest` is the next chain in the list (another `IntList`)\n",
    "    \n",
    "In the IntList directory, there is a `IntList.java` file that contains 5 new static methods:"
   ]
  },
  {
   "cell_type": "code",
   "execution_count": null,
   "metadata": {},
   "outputs": [],
   "source": [
    "void dSquareList(IntList L) // modifies the list so that all of its elements are squared\n",
    "IntList squareListIterative(IntList L) // returns a version of the list with all elements squared, using iteration. The list is not modified\n",
    "IntList squareListRecursive(IntList L) // returns a version of the list with all alements squared, using recursion. The list is not modified\n",
    "dcatenate(IntList A, IntList B) // returns a list consisting of all elements of A, followed by all elements of B. May modify A (need to complete this!)\n",
    "catenate(IntList A, IntList B) // returns a list consisting of all elements of A, followed by all elements of B. May not modify A (need to complete this!)"
   ]
  },
  {
   "cell_type": "markdown",
   "metadata": {},
   "source": [
    "Consider a method `dSquareList` that **destructively** square every item in a list. By destructive, we mean the original list changes / is mutated."
   ]
  },
  {
   "cell_type": "code",
   "execution_count": null,
   "metadata": {},
   "outputs": [],
   "source": [
    "IntList origL = IntList.of(1, 2, 3)\n",
    "dSquareList(origL);\n",
    "origL is now (1, 4, 9)"
   ]
  },
  {
   "cell_type": "markdown",
   "metadata": {},
   "source": [
    "By contrast, a non-destructive method like `squareListIterative` does not mutate the original list."
   ]
  },
  {
   "cell_type": "code",
   "execution_count": null,
   "metadata": {},
   "outputs": [],
   "source": [
    "IntList origL = IntList.of(1, 2, 3)\n",
    "IntList squaredList = squareListIterative(origL);\n",
    "// origL is still (1, 2, 3)\n",
    "// squaredList is (1, 4, 9)"
   ]
  },
  {
   "cell_type": "markdown",
   "metadata": {},
   "source": [
    "## `dSquareList` Implementation"
   ]
  },
  {
   "cell_type": "markdown",
   "metadata": {},
   "source": [
    "Here's one possible implementation of `dSquareList()`, along with a call to `dSquareList`"
   ]
  },
  {
   "cell_type": "code",
   "execution_count": null,
   "metadata": {},
   "outputs": [],
   "source": [
    "public static void dSquareList(IntList L) {\n",
    "    while (L != null) {\n",
    "        L.first = L.first * L.first;\n",
    "        L = L.rest;\n",
    "    }\n",
    "}\n",
    "\n",
    "IntList origL = IntList.of(1, 2, 3);\n",
    "dSquareList(origL);\n",
    "// origL is now (1, 4, 9)"
   ]
  },
  {
   "cell_type": "markdown",
   "metadata": {},
   "source": [
    "`dSquareList` is destructive because we change the values of the original input `IntList`.\n",
    "\n",
    "The bits in the `origL` box don't change, e.g. the variable `origL` still points to exactly the same object when `dSquareList` completes."
   ]
  },
  {
   "cell_type": "markdown",
   "metadata": {},
   "source": [
    "## Non-destructive Squaring"
   ]
  },
  {
   "cell_type": "markdown",
   "metadata": {},
   "source": [
    "The provided `squareListIterative()` and `squareListRecursive()` methods are both non-destructive; the underlying `IntList` passed into the methods isn't mutated, and instead a new, separate copy is returned.\n",
    "\n",
    "The iterative version of a non-destructive method is often messier than the recursive verison, since it takes some careful pointer action to create a new `IntList`, build it up, and return it"
   ]
  },
  {
   "cell_type": "markdown",
   "metadata": {},
   "source": [
    "## Test Code"
   ]
  },
  {
   "cell_type": "markdown",
   "metadata": {},
   "source": [
    "If we look at the `testDSquareList` in `IntListTest.java`,"
   ]
  },
  {
   "cell_type": "code",
   "execution_count": null,
   "metadata": {},
   "outputs": [],
   "source": [
    "@Test\n",
    "public void testdSquareList() {\n",
    "    IntList L = IntList.of(1, 2, 3);\n",
    "    IntList.dSquareList(L);\n",
    "    assertEquals(IntList.of(1, 4, 9), L);\n",
    "}"
   ]
  },
  {
   "cell_type": "markdown",
   "metadata": {},
   "source": [
    "This should give us an idea of how tests will be written in this course, and it will be requried to write tests starting the next lab. They are also handy for Project 1A.\n",
    "\n",
    "One major difference that the tests rely upon is the addition of the `IntList` class called `of` that makes it easier to create `IntList`. For example, to create an `IntList` containing the numbers 0, 1, 2, and 3, we could use the method as follows:"
   ]
  },
  {
   "cell_type": "code",
   "execution_count": null,
   "metadata": {},
   "outputs": [],
   "source": [
    "IntList myList = IntList.of(0, 1, 2, 3);\n",
    "// Creates the IntList 0 -> 1 -> 2 -> 3 -> null\n",
    "\n",
    "// myList.first returns 0\n",
    "// myList.rest returns 1 -> 2 -> 3 -> null\n",
    "// myList.rest.rest.rest returns 3 -> null\n",
    "// myList.rest.rest.rest.rest returns null"
   ]
  },
  {
   "cell_type": "markdown",
   "metadata": {},
   "source": [
    "The `IntList.of()` method makes it easier to create `IntList` compared to the previous brute force approach:"
   ]
  },
  {
   "cell_type": "code",
   "execution_count": null,
   "metadata": {},
   "outputs": [],
   "source": [
    "IntList myList = new IntList(0, null);\n",
    "myList.rest = new IntList(1, null);\n",
    "myList.rest.rest = new IntList(2, null);\n",
    "myList.rest.rest.rest = new IntList(3, null);\n",
    "// One line of IntList.of() can do the job of these 4 lines!"
   ]
  },
  {
   "cell_type": "markdown",
   "metadata": {},
   "source": [
    "## Implementing Destructive vs. Non-destructive Methods"
   ]
  },
  {
   "cell_type": "markdown",
   "metadata": {},
   "source": [
    "Both methods take in 2 `IntLists` `A` and `B` and concatenate them together. The only difference is that `dcatenate` modifies the original `IntList` `A` while `catenate` doesn't. "
   ]
  },
  {
   "cell_type": "markdown",
   "metadata": {},
   "source": [
    "#### `dcatenate`"
   ]
  },
  {
   "cell_type": "code",
   "execution_count": null,
   "metadata": {},
   "outputs": [],
   "source": [
    "// Iterative dcatenate\n",
    "public static IntList dcatenate(IntList A, IntList B) {\n",
    "    IntList pointer = A; // Create a pointer and point to A\n",
    "    while (pointer.rest != null) pointer = pointer.rest; // Move pointer to the end of A\n",
    "    pointer.rest = B; // Just add B as the extension of A.rest\n",
    "    return A; // Return A\n",
    "}\n"
   ]
  },
  {
   "cell_type": "markdown",
   "metadata": {},
   "source": [
    "#### `catenate`"
   ]
  },
  {
   "cell_type": "code",
   "execution_count": 1,
   "metadata": {},
   "outputs": [
    {
     "ename": "SyntaxError",
     "evalue": "invalid syntax (<ipython-input-1-bf175fa1c58b>, line 1)",
     "output_type": "error",
     "traceback": [
      "\u001b[0;36m  File \u001b[0;32m\"<ipython-input-1-bf175fa1c58b>\"\u001b[0;36m, line \u001b[0;32m1\u001b[0m\n\u001b[0;31m    // Recursive catenate\u001b[0m\n\u001b[0m     ^\u001b[0m\n\u001b[0;31mSyntaxError\u001b[0m\u001b[0;31m:\u001b[0m invalid syntax\n"
     ]
    }
   ],
   "source": [
    "// Recursive catenate\n",
    "public static IntList catenate(IntList A, IntList B) {\n",
    "    // Assume that A is not null\n",
    "    if (A.rest == null) return new IntList(A.first, B); // If we reached the end of A, return a new List containing A.first and B\n",
    "    return new IntList(A.first, catenate(A.rest, B)); // Otherwise, return a new list where the first is A.first and \n",
    "    // the .rest is a recursive catenate call on (A.rest, B)\n",
    "}"
   ]
  },
  {
   "cell_type": "code",
   "execution_count": null,
   "metadata": {},
   "outputs": [],
   "source": []
  }
 ],
 "metadata": {
  "kernelspec": {
   "display_name": "Python 3",
   "language": "python",
   "name": "python3"
  },
  "language_info": {
   "codemirror_mode": {
    "name": "ipython",
    "version": 3
   },
   "file_extension": ".py",
   "mimetype": "text/x-python",
   "name": "python",
   "nbconvert_exporter": "python",
   "pygments_lexer": "ipython3",
   "version": "3.7.3"
  }
 },
 "nbformat": 4,
 "nbformat_minor": 4
}
