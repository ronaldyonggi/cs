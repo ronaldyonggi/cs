{
 "cells": [
  {
   "cell_type": "markdown",
   "metadata": {},
   "source": [
    "## Quick Find"
   ]
  },
  {
   "cell_type": "markdown",
   "metadata": {},
   "source": [
    "1 - Using the Quick Find algorithm with `N` items, what's the worst-case runtime for the `find` operation?\n",
    "\n",
    "Note: The `find` operation is like the `isConnected` operation.\n",
    "\n",
    "**Ans**: $\\Theta(N)$\n",
    "\n",
    "2 - How about `union` operation?\n",
    "\n",
    "Note: `union` is akin to `connect`."
   ]
  },
  {
   "cell_type": "code",
   "execution_count": null,
   "metadata": {},
   "outputs": [],
   "source": [
    "// connect method\n",
    "public void connect(int p, int q) {\n",
    "    int pid = id[p];\n",
    "    int qid = id[q];\n",
    "    for(int i = 0; i < id.length; i++) {\n",
    "        if (id[i] == pid) {\n",
    "            id[i] = qid;\n",
    "        }\n",
    "    }...\n",
    "}"
   ]
  },
  {
   "cell_type": "markdown",
   "metadata": {},
   "source": [
    "![](images/list_int.png)"
   ]
  },
  {
   "cell_type": "markdown",
   "metadata": {},
   "source": [
    "For example, if we want to `union(2, 3)`, we'll have to change all the item that's the same as `id = 2`, 4, to the item inside `id=3`, 5.\n",
    "\n",
    "Since we have to go though the entire array, there'll be about `N+2` to `2N+2` array accesses. The worst case runtime is $\\Theta(N)$."
   ]
  },
  {
   "cell_type": "markdown",
   "metadata": {},
   "source": [
    "## Weighted Quick Union"
   ]
  },
  {
   "cell_type": "markdown",
   "metadata": {},
   "source": [
    "Suppose we have a fully connected `DisjointSets` object with 6 items. Give the best and worst case height for `HeightedQuickUnion` and `WeightedQuickUnion`."
   ]
  },
  {
   "cell_type": "markdown",
   "metadata": {},
   "source": [
    "###### 1. What is the best-case height for a `WeightedQuickUnion` containing 6 items?\n",
    "\n",
    "**Ans** Imagine `0` is the root, and all the other elements are the children of `0`, connected separately. This best-case height has a height of 1."
   ]
  },
  {
   "cell_type": "markdown",
   "metadata": {},
   "source": [
    "###### 2. What is the worst-case height for a `WeightedQuickUnion` containing 6 items?\n",
    "\n",
    "**Ans**: Recall the lecture,\n",
    "![](../images/8)\n",
    "\n",
    "From the picture above, if we only have elements from 0 to 5, the worst-case height has a height of 2."
   ]
  },
  {
   "cell_type": "markdown",
   "metadata": {},
   "source": [
    "###### 3. What is the best-case height for a `HeightedQuickUnion` containing 6 items?\n",
    "\n",
    "**Ans**: Same as the `WeightedQuickUnion`"
   ]
  },
  {
   "cell_type": "markdown",
   "metadata": {},
   "source": [
    "###### 4. What is the worst-case height for a `HeightedQuickUnion` containing 6 items?\n",
    "\n",
    "**Ans**: Same as `HeightedQuickUnion`"
   ]
  },
  {
   "cell_type": "code",
   "execution_count": null,
   "metadata": {},
   "outputs": [],
   "source": []
  }
 ],
 "metadata": {
  "kernelspec": {
   "display_name": "Python 3",
   "language": "python",
   "name": "python3"
  },
  "language_info": {
   "codemirror_mode": {
    "name": "ipython",
    "version": 3
   },
   "file_extension": ".py",
   "mimetype": "text/x-python",
   "name": "python",
   "nbconvert_exporter": "python",
   "pygments_lexer": "ipython3",
   "version": "3.7.4"
  }
 },
 "nbformat": 4,
 "nbformat_minor": 2
}
