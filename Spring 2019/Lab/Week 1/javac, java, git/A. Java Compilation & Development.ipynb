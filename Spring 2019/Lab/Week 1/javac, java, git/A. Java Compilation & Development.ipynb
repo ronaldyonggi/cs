{
 "cells": [
  {
   "cell_type": "markdown",
   "metadata": {},
   "source": [
    "## Inroduction to Java"
   ]
  },
  {
   "cell_type": "markdown",
   "metadata": {},
   "source": [
    "### Exercise 1.1.1\n",
    "Create a file on your computer called `HelloWorld.java` and copy paste the exact program as the following,"
   ]
  },
  {
   "cell_type": "code",
   "execution_count": null,
   "metadata": {},
   "outputs": [],
   "source": [
    "public class HelloWorld {\n",
    "    public static void main(String[] args) {\n",
    "        System.out.println(\"Hello world!\");\n",
    "    }\n",
    "}"
   ]
  },
  {
   "cell_type": "markdown",
   "metadata": {},
   "source": [
    "Then try out the `javac HelloWorld.java` command and `java HelloWorld` command."
   ]
  },
  {
   "cell_type": "code",
   "execution_count": 3,
   "metadata": {},
   "outputs": [
    {
     "name": "stdout",
     "output_type": "stream",
     "text": [
      "Hello world!\n"
     ]
    }
   ],
   "source": [
    "!javac HelloWorld.java\n",
    "!java HelloWorld"
   ]
  },
  {
   "cell_type": "markdown",
   "metadata": {},
   "source": [
    "Just for fun: Try opening up `HelloWorld.class` using a text editor. You'll see lost of crazy garbage that only a Java interpreter could love."
   ]
  },
  {
   "cell_type": "code",
   "execution_count": 4,
   "metadata": {},
   "outputs": [
    {
     "name": "stdout",
     "output_type": "stream",
     "text": [
      "����\u0000\u0000\u00008\u0000\u001d",
      "\n",
      "\u0000\u0006\u0000\u000f\t\u0000\u0010\u0000\u0000\u0012\n",
      "\u0000\u0013\u0000\u0014\u0007\u0000\u0015\u0007\u0000\u0016\u0001\u0000\u0006<init>\u0001\u0000\u0003()V\u0001\u0000\u0004Code\u0001\u0000\u000fLineNumberTable\u0001\u0000\u0004main\u0001\u0000\u0016([Ljava/lang/String;)V\u0001\u0000\n",
      "SourceFile\u0001\u0000\u000fHelloWorld.java\f",
      "\u0000\u0007\u0007\u0000\u0017\f",
      "\u0000\u0018\u0000\u0019\u0001\u0000\f",
      "Hello world!\u0007\u0000\u001a\f",
      "\u0000\u001b\u0000\u001c",
      "\u0001\u0000\n",
      "HelloWorld\u0001\u0000\u0010java/lang/Object\u0001\u0000\u0010java/lang/System\u0001\u0000\u0003out\u0001\u0000\u0015Ljava/io/PrintStream;\u0001\u0000\u0013java/io/PrintStream\u0001\u0000\u0007println\u0001\u0000\u0015(Ljava/lang/String;)V\u0000!\u0000\u0005\u0000\u0006\u0000\u0000\u0000\u0000\u0000\u0002\u0000\u0001\u0000\u0007\u0000\u0001\u0000\t\u0000\u0000\u0000\u001d",
      "\u0000\u0001\u0000\u0001\u0000\u0000\u0000\u0005*�\u0000\u0001�\u0000\u0000\u0000\u0001\u0000\n",
      "\u0000\u0000\u0000\u0006\u0000\u0001\u0000\u0000\u0000\u0001\u0000\t\u0000\u000b",
      "\u0000\f",
      "\u0000\u0001\u0000\t\u0000\u0000\u0000%\u0000\u0002\u0000\u0001\u0000\u0000\u0000\t�\u0000\u0002\u0012\u0003�\u0000\u0004�\u0000\u0000\u0000\u0001\u0000\n",
      "\u0000\u0000\u0000\n",
      "\u0000\u0000\u0000\u0002\u0000\u000e\u0000\u0004\u0000\u0001\u0000"
     ]
    }
   ],
   "source": [
    "!cat HelloWorld.class"
   ]
  },
  {
   "cell_type": "markdown",
   "metadata": {},
   "source": [
    "Above is what we call [Java bytecode](https://en.wikipedia.org/wiki/Java_bytecode)."
   ]
  },
  {
   "cell_type": "markdown",
   "metadata": {},
   "source": [
    "### Exercise 1.1.2.\n",
    "Modify `HelloNumbers` so that it prints out the cumulative sum of the integers from 0 to 9. For example, the output should start with 0 1 3 6 10...and should end with 45. "
   ]
  },
  {
   "cell_type": "code",
   "execution_count": 4,
   "metadata": {},
   "outputs": [
    {
     "name": "stdout",
     "output_type": "stream",
     "text": [
      "0\n",
      "1\n",
      "3\n",
      "6\n",
      "10\n",
      "15\n",
      "21\n",
      "28\n",
      "36\n",
      "45\n"
     ]
    }
   ],
   "source": [
    "int sum = 0;\n",
    "int i = 1;\n",
    "while (i < 11) {\n",
    "    System.out.println(sum);\n",
    "    sum = sum + i;\n",
    "    i ++;\n",
    "}"
   ]
  },
  {
   "cell_type": "code",
   "execution_count": null,
   "metadata": {},
   "outputs": [],
   "source": []
  }
 ],
 "metadata": {
  "kernelspec": {
   "display_name": "Java",
   "language": "java",
   "name": "java"
  },
  "language_info": {
   "codemirror_mode": {
    "name": "ipython",
    "version": 3
   },
   "file_extension": ".py",
   "mimetype": "text/x-python",
   "name": "python",
   "nbconvert_exporter": "python",
   "pygments_lexer": "ipython3",
   "version": "3.7.3"
  }
 },
 "nbformat": 4,
 "nbformat_minor": 4
}
