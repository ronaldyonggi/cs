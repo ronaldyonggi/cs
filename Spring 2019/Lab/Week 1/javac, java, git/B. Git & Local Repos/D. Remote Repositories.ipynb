{
 "cells": [
  {
   "cell_type": "markdown",
   "metadata": {},
   "source": [
    "## D. Remote Repositories"
   ]
  },
  {
   "cell_type": "markdown",
   "metadata": {},
   "source": [
    "One especially handy feature of git is the ability to store copies of our repository on computers other than our own. Recall that our snapshots are all stored on our computer in a secret folder. That means if our computer is damaged or destroyed, so are all our snapshots.\n",
    "\n",
    "Suppose we want to push our tofu and seitan recipes to another computer, we'd typically use the `git push` command,"
   ]
  },
  {
   "cell_type": "code",
   "execution_count": 1,
   "metadata": {},
   "outputs": [
    {
     "name": "stdout",
     "output_type": "stream",
     "text": [
      "Everything up-to-date\n"
     ]
    }
   ],
   "source": [
    "!git push origin master"
   ]
  },
  {
   "cell_type": "markdown",
   "metadata": {},
   "source": [
    "In CS61B, we'll use GitHub to store repositories. The most important remote repository commands are listed below:\n",
    "\n",
    "* `git clone [remote-repo-url]`\n",
    "    * Makes a copy of the specified repository, but on local computer\n",
    "    * Also creates a working directory that has files arranged exactly like the most recent snapshot in the download repository\n",
    "    * Also records the URL of the remote repository for subsequent network data transfers, and give it the special remote-repo-name \"origin\"\n",
    "    \n",
    "* `git remote add [remote-repo-name] [remote-repo-url]`: records a new location for network data transfers\n",
    "* `git remote -v`: Lists all locations for network data transfers\n",
    "* `git pull [remote-repo-name] master`: Get the most recent copy of the files as seen in `remote-repo-name`\n",
    "* `git push [remote-repo-name] master`: Pushes the most recent copy of files to the remote-repo-name"
   ]
  },
  {
   "cell_type": "code",
   "execution_count": null,
   "metadata": {},
   "outputs": [],
   "source": []
  }
 ],
 "metadata": {
  "kernelspec": {
   "display_name": "Python 3",
   "language": "python",
   "name": "python3"
  },
  "language_info": {
   "codemirror_mode": {
    "name": "ipython",
    "version": 3
   },
   "file_extension": ".py",
   "mimetype": "text/x-python",
   "name": "python",
   "nbconvert_exporter": "python",
   "pygments_lexer": "ipython3",
   "version": "3.7.3"
  }
 },
 "nbformat": 4,
 "nbformat_minor": 4
}
