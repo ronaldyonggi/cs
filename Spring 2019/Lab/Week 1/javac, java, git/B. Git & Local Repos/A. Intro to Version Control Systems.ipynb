{
 "cells": [
  {
   "cell_type": "markdown",
   "metadata": {},
   "source": [
    "# A. Intro to Version Control Systems"
   ]
  },
  {
   "cell_type": "markdown",
   "metadata": {},
   "source": [
    "`Version control systems` are tools to **keep track of changes to files over time**. Version control allows us to view or revert back to previous iteration of files. Some aspects of version control are actually built into commonly used applciations. Think of the `undo` command or how we can see the revision history of a Google document.\n",
    "\n",
    "In the context of coding, version control can **track the history of code revisions, from the current state of the coe all the way back until it was first tracked**. This allows users to reference older versions of their work and share code changes with other people, like fellow developers."
   ]
  },
  {
   "cell_type": "markdown",
   "metadata": {},
   "source": [
    "## Intro to Git"
   ]
  },
  {
   "cell_type": "markdown",
   "metadata": {},
   "source": [
    "Git is a [distributed version control system] as opposed to a centralized version control system. This means that **every developer's computer stores the entire history of the entire project!**. Unlike Dropbox, where old versions are stored on a remote server owned by someone else.\n",
    "\n",
    "**The entire history of an entire project is called a `repository`**. The fact that the repository is stored locally allows us to use Git locally on our own computers, even without internet connection."
   ]
  }
 ],
 "metadata": {
  "kernelspec": {
   "display_name": "Python 3",
   "language": "python",
   "name": "python3"
  },
  "language_info": {
   "codemirror_mode": {
    "name": "ipython",
    "version": 3
   },
   "file_extension": ".py",
   "mimetype": "text/x-python",
   "name": "python",
   "nbconvert_exporter": "python",
   "pygments_lexer": "ipython3",
   "version": "3.7.3"
  }
 },
 "nbformat": 4,
 "nbformat_minor": 4
}
