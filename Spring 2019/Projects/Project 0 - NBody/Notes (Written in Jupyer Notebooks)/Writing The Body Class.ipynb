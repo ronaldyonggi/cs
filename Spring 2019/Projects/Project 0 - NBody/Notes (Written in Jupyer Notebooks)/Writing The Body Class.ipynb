{
 "cells": [
  {
   "cell_type": "markdown",
   "metadata": {},
   "source": [
    "# Writing The Body Class"
   ]
  },
  {
   "cell_type": "markdown",
   "metadata": {},
   "source": [
    "### `calcDistance`\n",
    "The `calcDistance` method calculates the distance between 2 `Body`s. This method takes in a single `Body` and returns the distance between the supplied body and the body that is doing calculation. An example of calling the method is as the following,"
   ]
  },
  {
   "cell_type": "code",
   "execution_count": null,
   "metadata": {},
   "outputs": [],
   "source": [
    "samh.calcDistance(rocinante);"
   ]
  },
  {
   "cell_type": "markdown",
   "metadata": {},
   "source": [
    "Since there are no built-in exponentiation operator in Java, we need to import Java's `Math` class package. \n",
    "\n",
    "Note that in Jupyter Notebook IJava kernel, `Math` module is already loaded."
   ]
  },
  {
   "cell_type": "code",
   "execution_count": 11,
   "metadata": {},
   "outputs": [
    {
     "ename": "CompilationException",
     "evalue": "",
     "output_type": "error",
     "traceback": [
      "\u001b[1m\u001b[30m|   \u001b[1m\u001b[30mimport \u001b[0m\u001b[1m\u001b[30m\u001b[41mjava.util.Math\u001b[0m\u001b[1m\u001b[30m; // Note that in IJava Kernel, the Math module is already loaded\u001b[0m",
      "\u001b[1m\u001b[31mcannot find symbol\u001b[0m",
      "\u001b[1m\u001b[31m  symbol:   class Math\u001b[0m",
      ""
     ]
    }
   ],
   "source": [
    "import java.util.Math; // Note that in IJava Kernel, the Math module is already loaded"
   ]
  },
  {
   "cell_type": "code",
   "execution_count": null,
   "metadata": {},
   "outputs": [],
   "source": [
    "// Calculates the distance between 2 bodies\n",
    "public double calcDistance(Body b){\n",
    "    // Note that the calculation works in terms of how 'b' exerts force on \"this\"\n",
    "    double dx = b.xxPos - xxPos; // Calculates dx\n",
    "    double dy = b.yyPos - yyPos; // Calculates dy\n",
    "    double r = Math.sqrt(Math.pow(dx, 2) + Math.pow(dy, 2)); // Distance between 'b' and 'this'\n",
    "    return r;\n",
    "}"
   ]
  },
  {
   "cell_type": "markdown",
   "metadata": {},
   "source": [
    "### `calcForceExertedBy`"
   ]
  },
  {
   "cell_type": "markdown",
   "metadata": {},
   "source": [
    "The `calcForceExertedBy` method takes in a `Body` and returns the force exerted by that `Body` to \"this\" body. This method should make use of `calcDistance` method."
   ]
  },
  {
   "cell_type": "code",
   "execution_count": null,
   "metadata": {},
   "outputs": [],
   "source": [
    "// Calculates the Force exerted by input body to 'this' body\n",
    "public double calcForceExertedBy (Body b) {\n",
    "    double r = this.calcDistance(b); // Calculates r using calcDistance method\n",
    "    double F = G * mass * b.mass  / Math.pow(r, 2); // Calculates F, the force exerted by b to 'this'\n",
    "    return F;\n",
    "}"
   ]
  },
  {
   "cell_type": "markdown",
   "metadata": {},
   "source": [
    "### `calcForceExertedByX` and `calcForceExertedByY`"
   ]
  },
  {
   "cell_type": "markdown",
   "metadata": {},
   "source": [
    "These 2 methods calculate the force exerted in the $x$ and $y$ directions respectively."
   ]
  },
  {
   "cell_type": "code",
   "execution_count": null,
   "metadata": {},
   "outputs": [],
   "source": [
    "// Calculates the Force exerted by input body to 'this' body in x-direction\n",
    "public double calcForceExertedByX (Body b) {\n",
    "    double F = this.calcForceExertedBy(b); // Calculates F\n",
    "    double r = this.calcDistance(b); // Calculates r\n",
    "    double dx = b.xxPos - xxPos; // Calculates dx\n",
    "    return F * dx / r;\n",
    "}\n",
    "\n",
    "// Calculates the Force exerted by input body to 'this' body in y-direction\n",
    "public double calcForceExertedByY (Body b) {\n",
    "    double F = this.calcForceExertedBy(b); // Calculates F\n",
    "    double r = this.calcDistance(b); // Calculates r\n",
    "    double dy = b.yyPos - yyPos; // Calculates dy\n",
    "    return F * dy / r;\n",
    "}"
   ]
  },
  {
   "cell_type": "markdown",
   "metadata": {},
   "source": [
    "### `calcNetForceExertedByX` and `calcNetForceExertedByY`"
   ]
  },
  {
   "cell_type": "markdown",
   "metadata": {},
   "source": [
    "The method `calcNetForceExertedByX` and `calcNetForceExertedByY` each takes in an array of `Body`s and calculates the net $x$ and net $y$ force exerted by all bodies in that array (except the body that's the same as `this`)."
   ]
  },
  {
   "cell_type": "code",
   "execution_count": null,
   "metadata": {},
   "outputs": [],
   "source": [
    "// Calculates the net Force exerted by input body to 'this' body in x-direction\n",
    "public double calcNetForceExertedByX(Body[] bodies) {\n",
    "    double Fnetx = 0 ; // Net Force on x-direction so far\n",
    "    for (Body b : bodies) { // Iterate through each Body in bodies. This is an enhanced for loop\n",
    "        if (this.equals(b)) continue; // If b is the same as 'this', don't include it in the calculation!\n",
    "        Fnetx += calcForceExertedByX(b); // Otherwise, increment Fnetx by the result of calculating calcForceExertedByX on the currently selected Body\n",
    "    }\n",
    "    return Fnetx;\n",
    "}\n",
    "\n",
    "// Calculates the net Force exerted by input body to 'this' body in y-direction\n",
    "public double calcNetForceExertedByY(Body[] bodies) {\n",
    "    double Fnety = 0 ; // Net Force on y-direction so far\n",
    "    for (Body b : bodies) { // Iterate through each Body in bodies. This is an enhanced for loop\n",
    "        if (this.equals(b)) continue; // If b is the same as 'this', don't include it in the calculation!\n",
    "        Fnety += calcForceExertedByY(b); // Otherwise, increment Fnety by the result of calculating calcForceExertedByX on the currently selected Body\n",
    "    }\n",
    "    return Fnety;\n",
    "}"
   ]
  },
  {
   "cell_type": "markdown",
   "metadata": {},
   "source": [
    "### `update`"
   ]
  },
  {
   "cell_type": "markdown",
   "metadata": {},
   "source": [
    "Next, write a method that updates `Body`'s velocity and position ina . small period of time `dt`. This can be done by the following:\n",
    "1. Calculate the acceleration using the provided $x$ and $y$ forces\n",
    "2. Calculate the new velocity by using the acceleration and current velocity\n",
    "    * New velocity: $v_x + dt \\cdot a_x, v_y + dt \\cdot a_y$\n",
    "3. Calculate the new position by using the velocity computed in step 2.\n",
    "    * New position: $p_x + dt \\cdot v_x, p_y + dt \\cdot v_y$"
   ]
  },
  {
   "cell_type": "code",
   "execution_count": null,
   "metadata": {},
   "outputs": [],
   "source": [
    "// Updates a body's position and velocity instance variables\n",
    "public void update(double dt, double fx, double fy){\n",
    "    /* dt is the amount of time elapsed / used\n",
    "    fx is the amount of force exerted in x-direction\n",
    "    fy is the amount of force exerted in y-direction */\n",
    "    // Calculate accelerations\n",
    "    double ax = fx / mass; // x-direction acceleration\n",
    "    double ay = fy / mass; // y-direction acceleration\n",
    "    // Calculate new velocities\n",
    "    double vnewx = xxVel + dt * ax; // x-direction new velocity\n",
    "    double vnewy = yyVel + dt * ay; // y-direction new velocity\n",
    "    // Calculate new positions\n",
    "    double pnewx = xxPos + dt * vnewx; // x-direction new position\n",
    "    double pnewy = yyPos + dt * vnewy; // y-direction new position\n",
    "\n",
    "    // Update instance variables\n",
    "    xxPos = pnewx; // Updates x-position\n",
    "    yyPos = pnewy; // Updates y-position\n",
    "    xxVel = vnewx; // Updates x-velocity\n",
    "    yyVel = vnewy; // Updates y-velocity\n",
    "}"
   ]
  }
 ],
 "metadata": {
  "kernelspec": {
   "display_name": "Python 3",
   "language": "python",
   "name": "python3"
  },
  "language_info": {
   "codemirror_mode": {
    "name": "ipython",
    "version": 3
   },
   "file_extension": ".py",
   "mimetype": "text/x-python",
   "name": "python",
   "nbconvert_exporter": "python",
   "pygments_lexer": "ipython3",
   "version": "3.7.3"
  }
 },
 "nbformat": 4,
 "nbformat_minor": 4
}
