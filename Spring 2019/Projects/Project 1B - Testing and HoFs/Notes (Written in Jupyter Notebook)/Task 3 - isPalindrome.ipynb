{
 "cells": [
  {
   "cell_type": "markdown",
   "metadata": {},
   "source": [
    "## Task 3A: `isPalindrome` Testing"
   ]
  },
  {
   "cell_type": "markdown",
   "metadata": {},
   "source": [
    "Modify `Palindrome.java` so that it now has a second method,"
   ]
  },
  {
   "cell_type": "code",
   "execution_count": null,
   "metadata": {},
   "outputs": [],
   "source": [
    "public boolean isPalindrome(String word)"
   ]
  },
  {
   "cell_type": "markdown",
   "metadata": {},
   "source": [
    "The `isPalindrome` method should return `true` if the given word is a palindrome and `false` otherwise. A palindrome is defined as a word that is the same whether read forwards and backwards. Some examples:\n",
    "* \"noon\"\n",
    "* \"racecar\"\n",
    "\n",
    "Any word of length 1 or 0 is a palindrome.\n",
    "\n",
    "Add at least one test to `TestPalindrome` that tests the `isPalindrome` method. We'll probably find the `assertTrue` and `assertFalse` methods to be useful."
   ]
  },
  {
   "cell_type": "markdown",
   "metadata": {},
   "source": [
    "### Implementation of Task 3A"
   ]
  },
  {
   "cell_type": "code",
   "execution_count": null,
   "metadata": {},
   "outputs": [],
   "source": [
    "@Test\n",
    "public void testIsPalindrome() {\n",
    "    assertTrue(palindrome.isPalindrome(\"rotor\"));\n",
    "    assertFalse(palindrome.isPalindrome(\"dog\")); // Case of not palindrome\n",
    "    assertTrue(palindrome.isPalindrome(\"a\")); // Case of word of length 1\n",
    "    assertTrue(palindrome.isPalindrome(\"\")); // Case of word of length 0\n",
    "    assertTrue(palindrome.isPalindrome(\"mm\")); // Case of word of length 2\n",
    "}\n"
   ]
  },
  {
   "cell_type": "markdown",
   "metadata": {},
   "source": [
    "## Task 3B: `isPalindrome`"
   ]
  },
  {
   "cell_type": "markdown",
   "metadata": {},
   "source": [
    "Now implement the `isPalindrome` method. "
   ]
  },
  {
   "cell_type": "markdown",
   "metadata": {},
   "source": [
    "### Implementation of Task 3B"
   ]
  },
  {
   "cell_type": "markdown",
   "metadata": {},
   "source": [
    "The base case is that if the length of `word` is 1 or less, then it's a palindrome."
   ]
  },
  {
   "cell_type": "code",
   "execution_count": 1,
   "metadata": {},
   "outputs": [
    {
     "ename": "SyntaxError",
     "evalue": "invalid syntax (<ipython-input-1-5b07a70ab855>, line 1)",
     "output_type": "error",
     "traceback": [
      "\u001b[1;36m  File \u001b[1;32m\"<ipython-input-1-5b07a70ab855>\"\u001b[1;36m, line \u001b[1;32m1\u001b[0m\n\u001b[1;33m    if (word.length() <= 1){}\u001b[0m\n\u001b[1;37m                           ^\u001b[0m\n\u001b[1;31mSyntaxError\u001b[0m\u001b[1;31m:\u001b[0m invalid syntax\n"
     ]
    }
   ],
   "source": [
    "if (word.length() <= 1){\n",
    "    return true;\n",
    "}"
   ]
  },
  {
   "cell_type": "markdown",
   "metadata": {},
   "source": [
    "Otherwise, we convert the input `word` as a `Deque`.\n",
    "\n",
    "A smart way to analyze whether the `word` is a palindrome is to compare the result of `removeFirst()` and `removeLast()`, and to keep going with the process until the size of the word deque is less than 1."
   ]
  },
  {
   "cell_type": "code",
   "execution_count": null,
   "metadata": {},
   "outputs": [],
   "source": [
    "else {\n",
    "    Deque<Character> wordToCheck = wordToDeque(word);\n",
    "    while (wordToCheck.size() > 1) { // while the size of the word deque is less than 1\n",
    "        // If at any point, the result of removeFirst is not the same as removeLast, then return false\n",
    "        if (wordToCheck.removeFirst() != wordToCheck.removeLast()) { \n",
    "            return false;\n",
    "        }\n",
    "    }\n",
    "}"
   ]
  },
  {
   "cell_type": "code",
   "execution_count": 2,
   "metadata": {},
   "outputs": [
    {
     "ename": "SyntaxError",
     "evalue": "invalid syntax (<ipython-input-2-1e0163273d14>, line 1)",
     "output_type": "error",
     "traceback": [
      "\u001b[1;36m  File \u001b[1;32m\"<ipython-input-2-1e0163273d14>\"\u001b[1;36m, line \u001b[1;32m1\u001b[0m\n\u001b[1;33m    public boolean isPalindrome(String word) {\u001b[0m\n\u001b[1;37m                 ^\u001b[0m\n\u001b[1;31mSyntaxError\u001b[0m\u001b[1;31m:\u001b[0m invalid syntax\n"
     ]
    }
   ],
   "source": [
    "public boolean isPalindrome(String word) {\n",
    "    /**\n",
    "     * Any word of length 1 or 0 is a palindrome.\n",
    "     */\n",
    "    if (word.length() <= 1) {\n",
    "        return true;\n",
    "    } else {\n",
    "        Deque<Character> wordToCheck = wordToDeque(word);\n",
    "        while (wordToCheck.size() > 1) {\n",
    "            if (wordToCheck.removeFirst() != wordToCheck.removeLast()) {\n",
    "                return false;\n",
    "            }\n",
    "        }\n",
    "\n",
    "    }\n",
    "    return true;\n",
    "}"
   ]
  }
 ],
 "metadata": {
  "kernelspec": {
   "display_name": "Python 3",
   "language": "python",
   "name": "python3"
  },
  "language_info": {
   "codemirror_mode": {
    "name": "ipython",
    "version": 3
   },
   "file_extension": ".py",
   "mimetype": "text/x-python",
   "name": "python",
   "nbconvert_exporter": "python",
   "pygments_lexer": "ipython3",
   "version": "3.7.4"
  }
 },
 "nbformat": 4,
 "nbformat_minor": 4
}
