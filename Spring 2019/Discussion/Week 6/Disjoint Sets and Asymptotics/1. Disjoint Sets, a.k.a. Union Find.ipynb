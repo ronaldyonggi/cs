{
 "cells": [
  {
   "cell_type": "markdown",
   "metadata": {},
   "source": [
    "## 1.1\n",
    "What are 2 improvements that we made to our naive implementation of the Union Find ADT during lecture 14 (Monday's lecture)?"
   ]
  },
  {
   "cell_type": "markdown",
   "metadata": {},
   "source": [
    "#### Answer:\n",
    "\n",
    "1. Union by size\n",
    "2. Path Compression\n",
    "\n",
    "The naive implementation was maintaining a `List<set<Integer>>`. Improvement were:\n",
    "\n",
    "* Model connectedness as sets instead of line connections (`QuickFind`)\n",
    "* Track set membership by recording parents instead of `id` (`QuickUnion`)\n",
    "* Avoid tall trees by tracking size (`WeightedQuickUnion`)\n",
    "* Path Compression (`WeightedQuickUnionWithPathCompression`)"
   ]
  },
  {
   "cell_type": "markdown",
   "metadata": {},
   "source": [
    "## 1.2"
   ]
  },
  {
   "cell_type": "markdown",
   "metadata": {},
   "source": [
    "![](images/improve.png)\n",
    "\n",
    "Recall that the indeces represent the numbers\n",
    "* Write down the parent of each number\n",
    "* If It's a root, write negative number"
   ]
  },
  {
   "cell_type": "code",
   "execution_count": null,
   "metadata": {},
   "outputs": [],
   "source": [
    "[2, 2, -1, 2, 0, 2, 0, 5, 4] -> Parent\n",
    "[0, 1, 2, 3, 4, 5, 6, 7, 8] -> Indeces"
   ]
  },
  {
   "cell_type": "markdown",
   "metadata": {},
   "source": [
    "## 1.3"
   ]
  },
  {
   "cell_type": "markdown",
   "metadata": {},
   "source": [
    "Recall that when we did the `find` operation,"
   ]
  },
  {
   "cell_type": "code",
   "execution_count": null,
   "metadata": {},
   "outputs": [],
   "source": [
    "find(3)\n",
    "find(8)\n",
    "find(6)"
   ]
  },
  {
   "cell_type": "markdown",
   "metadata": {},
   "source": [
    "All the numbers that are looked up and the numbers that we had to go through to reach that number are linked to the root.\n",
    "* `find(3)` gets us straight to 3\n",
    "* `find(8)` go through 4 and 0\n",
    "* `find(6)` go through 0\n",
    "\n",
    "Therefore 0, 3, 4, 6, 8 should be connected to the root, 2.\n",
    "\n",
    "![](images/improve2.png)"
   ]
  },
  {
   "cell_type": "code",
   "execution_count": null,
   "metadata": {},
   "outputs": [],
   "source": [
    "[2, 2, -1, 2, 2, 2, 2, 5, 2] -> Parents\n",
    "[0, 1, 2, 3, 4, 5, 6, 7, 8] -> Indeces"
   ]
  }
 ],
 "metadata": {
  "kernelspec": {
   "display_name": "Python 3",
   "language": "python",
   "name": "python3"
  },
  "language_info": {
   "codemirror_mode": {
    "name": "ipython",
    "version": 3
   },
   "file_extension": ".py",
   "mimetype": "text/x-python",
   "name": "python",
   "nbconvert_exporter": "python",
   "pygments_lexer": "ipython3",
   "version": "3.7.4"
  }
 },
 "nbformat": 4,
 "nbformat_minor": 4
}
