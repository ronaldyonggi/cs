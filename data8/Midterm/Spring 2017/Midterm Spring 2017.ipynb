{
 "cells": [
  {
   "cell_type": "code",
   "execution_count": 2,
   "metadata": {},
   "outputs": [],
   "source": [
    "from datascience import *\n",
    "import numpy as np\n",
    "%matplotlib inline\n",
    "import matplotlib.pyplot as plt\n",
    "plt.style.use('fivethirtyeight')\n",
    "\n",
    "from ipywidgets import interact, interactive, fixed, interact_manual\n",
    "import ipywidgets as widgets"
   ]
  },
  {
   "cell_type": "markdown",
   "metadata": {},
   "source": [
    "# 1. (16 Points) Expressions\n",
    "A table named `pay` contains one row for each UC Berkeley faculty member and these columns:\n",
    "\n",
    "* `dept`: a string, the department of the faculty member\n",
    "* `name`: a string, the first name of the faculty member\n",
    "* `role`: a string, one of: Assistant Professor, Associate Professor, Professor, or Lecturer\n",
    "* `salary`: an int, last year's salary paid by the university"
   ]
  },
  {
   "cell_type": "code",
   "execution_count": 3,
   "metadata": {},
   "outputs": [
    {
     "data": {
      "text/html": [
       "<table border=\"1\" class=\"dataframe\">\n",
       "    <thead>\n",
       "        <tr>\n",
       "            <th>dept</th> <th>name</th> <th>role</th> <th>salary</th>\n",
       "        </tr>\n",
       "    </thead>\n",
       "    <tbody>\n",
       "        <tr>\n",
       "            <td>Journalism                     </td> <td>Jeremy   </td> <td>Lecturer           </td> <td>111528</td>\n",
       "        </tr>\n",
       "        <tr>\n",
       "            <td>Economics                      </td> <td>Christina</td> <td>Professor          </td> <td>349727</td>\n",
       "        </tr>\n",
       "        <tr>\n",
       "            <td>South & Southeast Asian Studies</td> <td>Penelope </td> <td>Associate Professor</td> <td>127119</td>\n",
       "        </tr>\n",
       "    </tbody>\n",
       "</table>"
      ],
      "text/plain": [
       "dept                            | name      | role                | salary\n",
       "Journalism                      | Jeremy    | Lecturer            | 111528\n",
       "Economics                       | Christina | Professor           | 349727\n",
       "South & Southeast Asian Studies | Penelope  | Associate Professor | 127119"
      ]
     },
     "execution_count": 3,
     "metadata": {},
     "output_type": "execute_result"
    }
   ],
   "source": [
    "dept = make_array('Journalism', 'Economics', 'South & Southeast Asian Studies')\n",
    "name = make_array('Jeremy', 'Christina', 'Penelope')\n",
    "role = make_array('Lecturer', 'Professor', 'Associate Professor')\n",
    "salary = make_array(111528, 349727, 127119)\n",
    "\n",
    "pay = Table().with_column(\n",
    "    'dept', dept,\n",
    "    'name', name,\n",
    "    'role', role,\n",
    "    'salary', salary\n",
    ")\n",
    "\n",
    "pay"
   ]
  },
  {
   "cell_type": "markdown",
   "metadata": {},
   "source": [
    "Fill in the blanks of the Python expressions to compute the described values. You must use all and only the lines provided. The last (or only) line of each answer should evaluate to the value described. Assume that the statements `from datascience import *` and `import numpy as np` have been executed.\n",
    "\n",
    "**(a)** (2 pt) The total salary amount paid to all faculty"
   ]
  },
  {
   "cell_type": "code",
   "execution_count": null,
   "metadata": {},
   "outputs": [],
   "source": [
    "________________(pay.____________________(______________________________________________))"
   ]
  },
  {
   "cell_type": "code",
   "execution_count": 4,
   "metadata": {},
   "outputs": [
    {
     "data": {
      "text/plain": [
       "588374"
      ]
     },
     "execution_count": 4,
     "metadata": {},
     "output_type": "execute_result"
    }
   ],
   "source": [
    "# Answer\n",
    "sum(pay.column('salary'))"
   ]
  },
  {
   "cell_type": "markdown",
   "metadata": {},
   "source": [
    "**(b)** (3 pt) The name of the third highest paid faculty member. (Assume no two faculty have the same salary.)"
   ]
  },
  {
   "cell_type": "code",
   "execution_count": null,
   "metadata": {},
   "outputs": [],
   "source": [
    "pay._________(_________ , _____________________________).column(_________).item(_________)"
   ]
  },
  {
   "cell_type": "code",
   "execution_count": 5,
   "metadata": {},
   "outputs": [
    {
     "data": {
      "text/plain": [
       "111528"
      ]
     },
     "execution_count": 5,
     "metadata": {},
     "output_type": "execute_result"
    }
   ],
   "source": [
    "# Answer\n",
    "pay.sort('salary', descending = True).column('salary').item(2)"
   ]
  },
  {
   "cell_type": "markdown",
   "metadata": {},
   "source": [
    "**(c)** (3 pt) The number of lecturers in the department that has the most lecturers. (One has more than the rest.)"
   ]
  },
  {
   "cell_type": "code",
   "execution_count": null,
   "metadata": {},
   "outputs": [],
   "source": [
    "max(pay._________(_________ , ___________________)._________(____________).column(’count’))"
   ]
  },
  {
   "cell_type": "code",
   "execution_count": 9,
   "metadata": {},
   "outputs": [
    {
     "data": {
      "text/plain": [
       "1"
      ]
     },
     "execution_count": 9,
     "metadata": {},
     "output_type": "execute_result"
    }
   ],
   "source": [
    "# Answer\n",
    "max(pay.where('role', 'Lecturer').group('dept').column('count'))"
   ]
  },
  {
   "cell_type": "markdown",
   "metadata": {},
   "source": [
    "**(d)** (3 pt) The average faculty salary after all faculty members get a 10% raise each year for three years."
   ]
  },
  {
   "cell_type": "code",
   "execution_count": 13,
   "metadata": {},
   "outputs": [
    {
     "data": {
      "text/plain": [
       "261041.93133333346"
      ]
     },
     "execution_count": 13,
     "metadata": {},
     "output_type": "execute_result"
    }
   ],
   "source": [
    "np.average(pay.column('salary') * (1.1**3))"
   ]
  },
  {
   "cell_type": "markdown",
   "metadata": {},
   "source": [
    "**(e)** (5 pt) The table `big` (created below) only contains rows for faculty in departments that have both `Lecturers` and `Professors`. Using big, compute the minimum **pay gap** for any department. The **pay gap** is the absolute difference between a department’s average `Lecturer` salary and its average `Professor` salary."
   ]
  },
  {
   "cell_type": "code",
   "execution_count": 15,
   "metadata": {},
   "outputs": [
    {
     "data": {
      "text/html": [
       "<table border=\"1\" class=\"dataframe\">\n",
       "    <thead>\n",
       "        <tr>\n",
       "            <th>dept</th> <th>Associate Professor</th> <th>Lecturer</th> <th>Professor</th>\n",
       "        </tr>\n",
       "    </thead>\n",
       "    <tbody>\n",
       "        <tr>\n",
       "            <td>Journalism</td> <td>0                  </td> <td>1       </td> <td>0        </td>\n",
       "        </tr>\n",
       "    </tbody>\n",
       "</table>"
      ],
      "text/plain": [
       "dept       | Associate Professor | Lecturer | Professor\n",
       "Journalism | 0                   | 1        | 0"
      ]
     },
     "execution_count": 15,
     "metadata": {},
     "output_type": "execute_result"
    }
   ],
   "source": [
    "has_lecturer = pay.pivot('role', 'dept').where('Lecturer', are.above(0))\n",
    "has_lecturer"
   ]
  },
  {
   "cell_type": "code",
   "execution_count": 16,
   "metadata": {},
   "outputs": [
    {
     "data": {
      "text/html": [
       "<table border=\"1\" class=\"dataframe\">\n",
       "    <thead>\n",
       "        <tr>\n",
       "            <th>dept</th> <th>Associate Professor</th> <th>Lecturer</th> <th>Professor</th>\n",
       "        </tr>\n",
       "    </thead>\n",
       "    <tbody>\n",
       "    </tbody>\n",
       "</table>"
      ],
      "text/plain": [
       "dept | Associate Professor | Lecturer | Professor"
      ]
     },
     "execution_count": 16,
     "metadata": {},
     "output_type": "execute_result"
    }
   ],
   "source": [
    "has_both = has_lecturer.where('Professor', are.above(0))\n",
    "has_both"
   ]
  },
  {
   "cell_type": "code",
   "execution_count": 17,
   "metadata": {},
   "outputs": [
    {
     "data": {
      "text/html": [
       "<table border=\"1\" class=\"dataframe\">\n",
       "    <thead>\n",
       "        <tr>\n",
       "            <th>dept</th> <th>name</th> <th>role</th> <th>salary</th>\n",
       "        </tr>\n",
       "    </thead>\n",
       "    <tbody>\n",
       "    </tbody>\n",
       "</table>"
      ],
      "text/plain": [
       "dept | name | role | salary"
      ]
     },
     "execution_count": 17,
     "metadata": {},
     "output_type": "execute_result"
    }
   ],
   "source": [
    "big = pay.where('dept', are.contained_in(has_both.column('dept')))\n",
    "big"
   ]
  },
  {
   "cell_type": "code",
   "execution_count": null,
   "metadata": {},
   "outputs": [],
   "source": [
    "avg = big._____________(______________ , ______________ , ______________ , ______________)\n",
    "\n",
    "_____________(______________(avg.column(________________) - avg.column(________________)))"
   ]
  },
  {
   "cell_type": "code",
   "execution_count": 20,
   "metadata": {},
   "outputs": [
    {
     "data": {
      "text/html": [
       "<table border=\"1\" class=\"dataframe\">\n",
       "    <thead>\n",
       "        <tr>\n",
       "            <th>dept</th>\n",
       "        </tr>\n",
       "    </thead>\n",
       "    <tbody>\n",
       "    </tbody>\n",
       "</table>"
      ],
      "text/plain": [
       "dept"
      ]
     },
     "execution_count": 20,
     "metadata": {},
     "output_type": "execute_result"
    }
   ],
   "source": [
    "# Ans\n",
    "avg = big.pivot('role', 'dept', 'salary', np.average)\n",
    "min(abs(avg.column('Lecturer') - avg.column('Professor')))"
   ]
  },
  {
   "cell_type": "markdown",
   "metadata": {},
   "source": [
    "# 2. (14 points) Distributions\n",
    "\n",
    "Galton measured the heights of the members of **200 families** that each included 1 mother, 1 father, and some varying number of adult sons. The three histograms of heights below depict the distributions for all mothers, fathers, and adult sons. **All bars are 2 inches wide. All bar heights are integers**. The heights of all people in the data set are included in the histograms.\n",
    "\n",
    "<img src = 'galton.jpg' width = 1000/>\n",
    "\n",
    "**(a)** (8 pt) Calculate each quantity described below or write Unknown if there is not enough information above to express the quantity as a single number (not a range). Show your work!\n",
    "\n",
    "i. The percentage of mothers that are at least 60 inches but less than 64 inches tall."
   ]
  },
  {
   "cell_type": "code",
   "execution_count": 21,
   "metadata": {},
   "outputs": [
    {
     "data": {
      "text/plain": [
       "40"
      ]
     },
     "execution_count": 21,
     "metadata": {},
     "output_type": "execute_result"
    }
   ],
   "source": [
    "# Calculate the total area of the bars that are between 60-64 inches.\n",
    "2*6 + 14*2"
   ]
  },
  {
   "attachments": {},
   "cell_type": "markdown",
   "metadata": {},
   "source": [
    "ii. The percentage of fathers that are at least 64 but less than 67 inches tall."
   ]
  },
  {
   "cell_type": "markdown",
   "metadata": {},
   "source": [
    "**Ans**: Unknown. We have a bar that represents the percentage of Father's heights in a range 66-68 inches, but we need one that represents up to exactly 67 inches."
   ]
  },
  {
   "cell_type": "markdown",
   "metadata": {},
   "source": [
    "iii. The number of sons that are at least 70 inches tall."
   ]
  },
  {
   "cell_type": "markdown",
   "metadata": {},
   "source": [
    "**Ans**: Unknown. We don't know the total number of sons in the data."
   ]
  },
  {
   "cell_type": "markdown",
   "metadata": {},
   "source": [
    "iv. The number of mothers that are at least 60 inches tall."
   ]
  },
  {
   "cell_type": "code",
   "execution_count": 24,
   "metadata": {},
   "outputs": [
    {
     "data": {
      "text/plain": [
       "4"
      ]
     },
     "execution_count": 24,
     "metadata": {},
     "output_type": "execute_result"
    }
   ],
   "source": [
    "# Calculate the total area of the bars that represent mothers with less than 60 inches height\n",
    "2 * 2"
   ]
  },
  {
   "cell_type": "code",
   "execution_count": 25,
   "metadata": {},
   "outputs": [
    {
     "data": {
      "text/plain": [
       "96"
      ]
     },
     "execution_count": 25,
     "metadata": {},
     "output_type": "execute_result"
    }
   ],
   "source": [
    "# The percentage of mothers that are at least 60 inches tall is 100 - above\n",
    "100 - 4"
   ]
  },
  {
   "cell_type": "code",
   "execution_count": 26,
   "metadata": {},
   "outputs": [
    {
     "data": {
      "text/plain": [
       "192.0"
      ]
     },
     "execution_count": 26,
     "metadata": {},
     "output_type": "execute_result"
    }
   ],
   "source": [
    "# We know that there are 200 families that consists of a mother each. That means there are\n",
    "# 200 mothers. We can use the percentage to calculate the number of mothers that are at least 60\n",
    "# inches tall.\n",
    "200 * 96 / 100"
   ]
  },
  {
   "cell_type": "markdown",
   "metadata": {},
   "source": [
    "**(b)** (2 pt) If the father’s histogram were redrawn, replacing the two bins from 72-to-74 and from 74-to-76\n",
    "with one bin from 72-to-76, what would be the height of its bar? If it’s impossible to tell, write Unknown.\n"
   ]
  },
  {
   "cell_type": "code",
   "execution_count": 28,
   "metadata": {},
   "outputs": [
    {
     "data": {
      "text/plain": [
       "16"
      ]
     },
     "execution_count": 28,
     "metadata": {},
     "output_type": "execute_result"
    }
   ],
   "source": [
    "# From 72-74, we have 6%\n",
    "# From 74-76, we have 2%\n",
    "# Thus for total area, we have:\n",
    "2* (6 + 2)"
   ]
  },
  {
   "cell_type": "code",
   "execution_count": 29,
   "metadata": {},
   "outputs": [
    {
     "data": {
      "text/plain": [
       "4.0"
      ]
     },
     "execution_count": 29,
     "metadata": {},
     "output_type": "execute_result"
    }
   ],
   "source": [
    "# Now from 72-76, the width of the bar is 4. Thus, the height would be 16 / 4\n",
    "16 / 4"
   ]
  },
  {
   "cell_type": "markdown",
   "metadata": {},
   "source": [
    "**(c)** (4 pt) The percentage of sons that are taller than all of the mothers is between ________ and ________. Fill in the blanks in the previous sentence with the smallest range that can be determined from the histograms, then explain your answer below."
   ]
  },
  {
   "cell_type": "markdown",
   "metadata": {},
   "source": [
    "#### Ans\n",
    "From the mother's histogram, we can see that the tallest mothers are between 70 - 72 inches.\n",
    "\n",
    "1. We can rule out that as long as the height of the sons are above 72 inches, they should be taller than all mothers. This would be the minimum range\n",
    "2. However, we need to take into account the sons that are 70-72 inches tall as well, since some of them might be taller than all mothers. This would be the maximum range."
   ]
  },
  {
   "cell_type": "code",
   "execution_count": 35,
   "metadata": {},
   "outputs": [
    {
     "data": {
      "text/plain": [
       "20"
      ]
     },
     "execution_count": 35,
     "metadata": {},
     "output_type": "execute_result"
    }
   ],
   "source": [
    "# The area of the bar of the sons with at least 72 inches height\n",
    "2 * (8 + 2)"
   ]
  },
  {
   "cell_type": "code",
   "execution_count": 33,
   "metadata": {},
   "outputs": [
    {
     "data": {
      "text/plain": [
       "48"
      ]
     },
     "execution_count": 33,
     "metadata": {},
     "output_type": "execute_result"
    }
   ],
   "source": [
    "# The total area of the bars for the sons that are at least 70 inches height\n",
    "2 * ( 14 + 8 + 2)"
   ]
  },
  {
   "cell_type": "markdown",
   "metadata": {},
   "source": [
    "Thus, the percentage of sons that are taller than all of the mothers is between 20 to 48."
   ]
  },
  {
   "cell_type": "markdown",
   "metadata": {},
   "source": [
    "# 3. (12 points) Probability\n",
    "\n",
    "**(a)** (3 pt) A basket of 10 colored tickets contains 1 blue, 1 gold, 4 green, and 4 red tickets. If you draw 6 tickets uniformly at random with replacement, what is the chance that you draw at least one that is either blue or gold? Write your answer as a Python expression that computes the result exactly (no simulation)."
   ]
  },
  {
   "cell_type": "markdown",
   "metadata": {},
   "source": [
    "# ========== Ans ==========\n",
    "1. The chance of not drawing blue or gold in a draw is $ \\frac{8}{10} $.\n",
    "2. The chance of above happening 6 times consecuvtively is $ {\\frac{8}{10}}^6 $\n",
    "3. The chance of above not happening at all is $ 1 - {\\frac{8}{10}}^6 $"
   ]
  },
  {
   "cell_type": "code",
   "execution_count": 36,
   "metadata": {},
   "outputs": [
    {
     "data": {
      "text/plain": [
       "0.7378559999999998"
      ]
     },
     "execution_count": 36,
     "metadata": {},
     "output_type": "execute_result"
    }
   ],
   "source": [
    "1 - (8/10)**6"
   ]
  },
  {
   "cell_type": "markdown",
   "metadata": {},
   "source": [
    "**(b)** (5 pt) The `roll` function draws an empirical histogram of the number of results that are `k` or larger, when `n` fair 6-sided dice are rolled. For example, if `k` is 5, `n` is 3, and rolling 3 dice results in a 6, a 4, and a 5, then 2 of the 3 dice are 5 or larger (the 6 and the 5). Fill in the blanks to complete its implementation."
   ]
  },
  {
   "cell_type": "code",
   "execution_count": 37,
   "metadata": {},
   "outputs": [
    {
     "ename": "SyntaxError",
     "evalue": "invalid syntax (<ipython-input-37-9c134dc2b3d8>, line 4)",
     "output_type": "error",
     "traceback": [
      "\u001b[1;36m  File \u001b[1;32m\"<ipython-input-37-9c134dc2b3d8>\"\u001b[1;36m, line \u001b[1;32m4\u001b[0m\n\u001b[1;33m    possible results = ...\u001b[0m\n\u001b[1;37m                   ^\u001b[0m\n\u001b[1;31mSyntaxError\u001b[0m\u001b[1;31m:\u001b[0m invalid syntax\n"
     ]
    }
   ],
   "source": [
    "def roll(k, n, trials):\n",
    "    \"\"\" Repeatedly roll n dice and check how many results are k or larger \"\"\"\n",
    "    outcomes = make_array()\n",
    "    possible_results = ...\n",
    "    \n",
    "    for i in np.arange(trials):\n",
    "        rolls = np.random.choice(possible_results, ...)\n",
    "        outcomes = np.append(..., np.count_nonzero(...))\n",
    "    \n",
    "    Table().with_column('Outcomes', outcomes).hist(bins = np.arange(30))"
   ]
  },
  {
   "cell_type": "code",
   "execution_count": 39,
   "metadata": {},
   "outputs": [],
   "source": [
    "# Answer\n",
    "def roll(k, n, trials):\n",
    "    \"\"\" Repeatedly roll n dice and check how many results are k or larger \"\"\"\n",
    "    outcomes = make_array()\n",
    "    possible_results = np.arange(1, 7)\n",
    "    \n",
    "    for i in np.arange(trials):\n",
    "        rolls = np.random.choice(possible_results, n)\n",
    "        outcomes = np.append(outcomes, np.count_nonzero(rolls >= k))\n",
    "    \n",
    "    Table().with_column('Outcomes', outcomes).hist(bins = np.arange(30))"
   ]
  },
  {
   "cell_type": "markdown",
   "metadata": {},
   "source": [
    "**(c)** (4 pt) For each of the histograms below, circle the letter of the expression that generated it, assuming roll is implemented correctly above.\n",
    "\n",
    "<img src = 'hist_1.jpg' width = 400/>"
   ]
  },
  {
   "cell_type": "markdown",
   "metadata": {},
   "source": [
    "(A) roll(4, 30, 5000)\n",
    "(B) roll(6, 30, 5000) \n",
    "(C) roll(4, 30, 50) \n",
    "(D) roll(6, 30, 50)\n",
    "\n",
    "Answer: (B)\n",
    "Assuming that the die is fair, theoretically we have a 1/6 probability to obtain each face in a die. This means if we roll 30 die, theoretically we would obtain `6` 5 times. On top of that, recall that the more simulation we do, the more the histogram would look like it comes from a normal distribution (bell-shaped)."
   ]
  },
  {
   "cell_type": "markdown",
   "metadata": {},
   "source": [
    "<img src = 'hist_2.jpg' width = 400/>"
   ]
  },
  {
   "cell_type": "markdown",
   "metadata": {},
   "source": [
    "(A) roll(4, 30, 5000)\n",
    "(B) roll(6, 30, 5000)\n",
    "(C) roll(4, 30, 50)\n",
    "(D) roll(6, 30, 50)\n",
    "\n",
    "Answer: (C)\n",
    "From the histogram outcome, we don't see any bars around the outcomes close to `0`, which implies that `k` is a number that, if we roll a dice and try to obtain a value that is at least `k`, it would be more likely to obtain it. Between `4` and `6`, it is more likely to obtain a roll that is at least `4`. Thus the answer should be either (A) or (C)\n",
    "\n",
    "We pick (C) by taking into account that the more simulations we do, the more the histogram would look like something that come from a normal distribution. Since the histogram does not resemble a bell-shape, the number of trials should be relatively small. Between `5000` and `50`, it is likely that the histogram corresponds to `50` trials. Thus we pick (C)."
   ]
  },
  {
   "cell_type": "markdown",
   "metadata": {},
   "source": [
    "# 4. (8 points) Hypothesis Testing\n",
    "A recent paper called \"Do animals bite more during a full moon?\" analyzed 1,660 emergency room visits for animal bites over a two-year period. The table shows bite counts by the day of the lunar cycle. In the lunar cycle, the moon is full on days 29, 30, and 1. On all other days, the moon is not full."
   ]
  },
  {
   "cell_type": "code",
   "execution_count": 40,
   "metadata": {},
   "outputs": [
    {
     "data": {
      "text/html": [
       "<table border=\"1\" class=\"dataframe\">\n",
       "    <thead>\n",
       "        <tr>\n",
       "            <th>Day</th> <th>Bites</th>\n",
       "        </tr>\n",
       "    </thead>\n",
       "    <tbody>\n",
       "        <tr>\n",
       "            <td>17, 18, 19</td> <td>136  </td>\n",
       "        </tr>\n",
       "        <tr>\n",
       "            <td>20, 21, 22</td> <td>151  </td>\n",
       "        </tr>\n",
       "        <tr>\n",
       "            <td>23, 24, 25</td> <td>162  </td>\n",
       "        </tr>\n",
       "        <tr>\n",
       "            <td>26, 27, 28</td> <td>202  </td>\n",
       "        </tr>\n",
       "        <tr>\n",
       "            <td>29, 30, 1 </td> <td>268  </td>\n",
       "        </tr>\n",
       "        <tr>\n",
       "            <td>2, 3, 4   </td> <td>154  </td>\n",
       "        </tr>\n",
       "        <tr>\n",
       "            <td>5, 6, 7   </td> <td>141  </td>\n",
       "        </tr>\n",
       "        <tr>\n",
       "            <td>8, 9, 10  </td> <td>145  </td>\n",
       "        </tr>\n",
       "        <tr>\n",
       "            <td>11, 12, 13</td> <td>147  </td>\n",
       "        </tr>\n",
       "        <tr>\n",
       "            <td>14, 15, 16</td> <td>154  </td>\n",
       "        </tr>\n",
       "    </tbody>\n",
       "</table>"
      ],
      "text/plain": [
       "Day        | Bites\n",
       "17, 18, 19 | 136\n",
       "20, 21, 22 | 151\n",
       "23, 24, 25 | 162\n",
       "26, 27, 28 | 202\n",
       "29, 30, 1  | 268\n",
       "2, 3, 4    | 154\n",
       "5, 6, 7    | 141\n",
       "8, 9, 10   | 145\n",
       "11, 12, 13 | 147\n",
       "14, 15, 16 | 154"
      ]
     },
     "execution_count": 40,
     "metadata": {},
     "output_type": "execute_result"
    }
   ],
   "source": [
    "Day = make_array('17, 18, 19', '20, 21, 22', '23, 24, 25', '26, 27, 28', '29, 30, 1', '2, 3, 4', '5, 6, 7', '8, 9, 10', '11, 12, 13', '14, 15, 16')\n",
    "Bites = make_array(136, 151, 162, 202, 268, 154, 141, 145, 147, 154)\n",
    "\n",
    "Table().with_column(\n",
    "    'Day', Day,\n",
    "    'Bites', Bites\n",
    ")"
   ]
  },
  {
   "cell_type": "markdown",
   "metadata": {},
   "source": [
    "**(a)** (4 pt) Fill in the blanks of this null hypothesis so that it can be tested using the data above and so that it would help inform the question of whether there is a relation between bite frequency and the full moon.\n",
    "\n",
    "The day of the lunar cycle on which an animal bites is drawn ____________________________________,\n",
    "so the _____________________________________ that an animal will bite on days 29, 30, and 1 of\n",
    "the lunar cycle is _________________. Any deviation from this proportion is due to _________________."
   ]
  },
  {
   "cell_type": "markdown",
   "metadata": {},
   "source": [
    "### Answer\n",
    "The day of the lunar cycle on which an animal bites is drawn **uniformly at random**, so the **probability** that an animal will bite on days 29, 30, and 1 of the lunar cycle is **1/10**. Any deviation from this proportion is due to **chance (or random chance)**.\n",
    "\n",
    "#### Note: 1/10 because we have 10 different bins, or 10 different values in the dataset."
   ]
  },
  {
   "cell_type": "markdown",
   "metadata": {},
   "source": [
    "**(b)** (4 pt) The histogram below shows the empirical distribution of a test statistic under the null hypothesis. It was generated by repeating the following process 1000 times: the lunar day for each of 1660 simulated animal bites was chosen uniformly at random from 1 to 30. A test statistic was computed for each resulting list of 1660 days: the absolute difference between $ \\frac{1}{10} $ and the proportion of bites on days 29, 30, and 1."
   ]
  },
  {
   "cell_type": "markdown",
   "metadata": {},
   "source": [
    "<img src = 'lunar.jpg' width = 500/>"
   ]
  },
  {
   "cell_type": "markdown",
   "metadata": {},
   "source": [
    "(Note: The proportion of observed bites on lunar days 29, 30, and 1 was $ \\frac{268}{1660} $ = 0.161.)"
   ]
  },
  {
   "cell_type": "markdown",
   "metadata": {},
   "source": [
    "Fill in each blank in the conclusion below:\n",
    "\n",
    "We _________________ the null hypothesis because the observed value of the _____________________\n",
    "is ______________________, which is _________________________________ with the null distribution"
   ]
  },
  {
   "cell_type": "markdown",
   "metadata": {},
   "source": [
    "## Answer\n",
    "We **reject** the null hypothesis because the observed value of the **test statistic** is **0.061**, which is **inconsistent** with the null distribution."
   ]
  }
 ],
 "metadata": {
  "kernelspec": {
   "display_name": "Python 3",
   "language": "python",
   "name": "python3"
  },
  "language_info": {
   "codemirror_mode": {
    "name": "ipython",
    "version": 3
   },
   "file_extension": ".py",
   "mimetype": "text/x-python",
   "name": "python",
   "nbconvert_exporter": "python",
   "pygments_lexer": "ipython3",
   "version": "3.7.2"
  }
 },
 "nbformat": 4,
 "nbformat_minor": 2
}
