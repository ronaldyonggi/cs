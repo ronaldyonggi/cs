{
 "cells": [
  {
   "cell_type": "code",
   "execution_count": 1,
   "metadata": {},
   "outputs": [],
   "source": [
    "from datascience import *\n",
    "import numpy as np\n",
    "%matplotlib inline\n",
    "import matplotlib.pyplot as plots\n",
    "plots.style.use('fivethirtyeight')\n",
    "\n",
    "from ipywidgets import interact, interactive, fixed, interact_manual\n",
    "import ipywidgets as widgets"
   ]
  },
  {
   "cell_type": "markdown",
   "metadata": {},
   "source": [
    "# Review: Monty Hall Problem\n",
    "In the previous lecture, we discussed about the Monty Hall problem.\n",
    "\n",
    "Recall the steps that we need to do:\n",
    "1. Put prizes behind doors randomly\n",
    "2. Pick a door\n",
    "3. Monty opens a door\n",
    "4. Reveal what was behind each door\n",
    "\n",
    "### Step 1: Set Up Game"
   ]
  },
  {
   "cell_type": "code",
   "execution_count": 2,
   "metadata": {},
   "outputs": [
    {
     "data": {
      "text/plain": [
       "array([1, 2, 3])"
      ]
     },
     "execution_count": 2,
     "metadata": {},
     "output_type": "execute_result"
    }
   ],
   "source": [
    "# Create doors labeled 1, 2, 3\n",
    "doors = make_array(1, 2, 3)\n",
    "doors"
   ]
  },
  {
   "cell_type": "code",
   "execution_count": 3,
   "metadata": {},
   "outputs": [
    {
     "data": {
      "text/plain": [
       "array(['car', 'first goat', 'second goat'], dtype='<U11')"
      ]
     },
     "execution_count": 3,
     "metadata": {},
     "output_type": "execute_result"
    }
   ],
   "source": [
    "# Create an array of prizes\n",
    "prizes = make_array('car', 'first goat', 'second goat')\n",
    "prizes"
   ]
  },
  {
   "cell_type": "code",
   "execution_count": 4,
   "metadata": {},
   "outputs": [
    {
     "data": {
      "text/html": [
       "<table border=\"1\" class=\"dataframe\">\n",
       "    <thead>\n",
       "        <tr>\n",
       "            <th>Door</th> <th>Prize</th>\n",
       "        </tr>\n",
       "    </thead>\n",
       "    <tbody>\n",
       "        <tr>\n",
       "            <td>1   </td> <td>second goat</td>\n",
       "        </tr>\n",
       "        <tr>\n",
       "            <td>2   </td> <td>first goat </td>\n",
       "        </tr>\n",
       "        <tr>\n",
       "            <td>3   </td> <td>car        </td>\n",
       "        </tr>\n",
       "    </tbody>\n",
       "</table>"
      ],
      "text/plain": [
       "Door | Prize\n",
       "1    | second goat\n",
       "2    | first goat\n",
       "3    | car"
      ]
     },
     "execution_count": 4,
     "metadata": {},
     "output_type": "execute_result"
    }
   ],
   "source": [
    "def setup():\n",
    "    \"\"\" Return a random game of Let's Make a Deal \"\"\"\n",
    "    return Table().with_columns(\n",
    "    'Door', doors,\n",
    "    'Prize', np.random.choice(prizes, 3, replace = False)\n",
    "        # Recall 'replace = False' makes sure that a value that has been used can't be used anymore!\n",
    "        # If this is not the case, np.random.choice could pick 'car' twice or multiple times\n",
    "    )\n",
    "\n",
    "a_game = setup()\n",
    "a_game"
   ]
  },
  {
   "cell_type": "markdown",
   "metadata": {},
   "source": [
    "### Step 2: Pick a Door"
   ]
  },
  {
   "cell_type": "code",
   "execution_count": 5,
   "metadata": {},
   "outputs": [
    {
     "data": {
      "text/plain": [
       "3"
      ]
     },
     "execution_count": 5,
     "metadata": {},
     "output_type": "execute_result"
    }
   ],
   "source": [
    "a_guess = np.random.choice(doors)\n",
    "a_guess"
   ]
  },
  {
   "cell_type": "markdown",
   "metadata": {},
   "source": [
    "### Step 3: Monty Opens a Door"
   ]
  },
  {
   "cell_type": "code",
   "execution_count": 6,
   "metadata": {},
   "outputs": [
    {
     "name": "stdout",
     "output_type": "stream",
     "text": [
      "Behind door number 1 is the second goat\n",
      "Behind door number 2 is the first goat\n",
      "Behind door number 3 is the car\n"
     ]
    }
   ],
   "source": [
    "def behind(game, door):\n",
    "    \"\"\" Return the prize behind the door \"\"\"\n",
    "    return game.where('Door', door).column('Prize').item(0)\n",
    "\n",
    "for door in doors:\n",
    "    print('Behind door number', door, 'is the', behind(a_game, door))"
   ]
  },
  {
   "cell_type": "code",
   "execution_count": 7,
   "metadata": {},
   "outputs": [
    {
     "name": "stdout",
     "output_type": "stream",
     "text": [
      "The car is behind door number 3\n",
      "The first goat is behind door number 2\n",
      "The second goat is behind door number 1\n"
     ]
    }
   ],
   "source": [
    "def location(game, prize):\n",
    "    \"\"\" Return the door that hides a prize \"\"\"\n",
    "    return game.where('Prize', prize).column('Door').item(0)\n",
    "\n",
    "for prize in prizes:\n",
    "    print('The', prize, 'is behind door number', location(a_game, prize))"
   ]
  },
  {
   "cell_type": "code",
   "execution_count": 8,
   "metadata": {},
   "outputs": [
    {
     "name": "stdout",
     "output_type": "stream",
     "text": [
      "The contestant picked door 3 which hides the car\n",
      "Monty Hall opens door 2 to expose the first goat\n"
     ]
    }
   ],
   "source": [
    "def expose(game, guess):\n",
    "    \"\"\" Return the door that Monty Hall opens to expose a goat\"\"\"\n",
    "    guessed_prize = behind(game, guess)\n",
    "    # If the guess is a door that leads to the 1st goat\n",
    "    if guessed_prize == 'first goat':\n",
    "        # Then Monty will have to reveal the 2nd goat\n",
    "        monty = 'second goat'\n",
    "    # If the guess is a door that leads to the 2nd goat\n",
    "    elif guessed_prize == 'second goat':\n",
    "        # Then Monty will have to reveal the 1st goat\n",
    "        monty = 'first goat'\n",
    "    # If the guess is a door that leads to the car\n",
    "    else:\n",
    "        # Monty can choose between 1st goat or 2nd goat\n",
    "        monty = np.random.choice(['first goat', 'second goat'])\n",
    "    return location(game, monty)\n",
    "\n",
    "exposedDoor = expose(a_game, a_guess)\n",
    "print('The contestant picked door', a_guess, 'which hides the', behind(a_game, a_guess))\n",
    "print('Monty Hall opens door', exposedDoor, 'to expose the', behind(a_game, exposedDoor))"
   ]
  },
  {
   "cell_type": "code",
   "execution_count": 9,
   "metadata": {},
   "outputs": [
    {
     "name": "stdout",
     "output_type": "stream",
     "text": [
      "The remaining door 1 hides the second goat\n"
     ]
    }
   ],
   "source": [
    "def other(guess, exposed):\n",
    "    \"\"\" Return the door that isn't the guess or the exposed one\"\"\"\n",
    "    return (1 + 2 + 3) - guess - exposed\n",
    "\n",
    "remainingDoor = other(a_guess, exposedDoor)\n",
    "print('The remaining door', remainingDoor, 'hides the', behind(a_game, remainingDoor))"
   ]
  },
  {
   "cell_type": "markdown",
   "metadata": {},
   "source": [
    "### Step 4: Reveal All Doors, Repeat\n",
    "Let's simulate one game of the Monty Hall Problem. Create a list where:\n",
    "* 1st element is the prize behind the the 1st guess\n",
    "* 2nd element is the prize behind Monty's chosen door\n",
    "* 3rd element is the prize behind the remaining door\n"
   ]
  },
  {
   "cell_type": "code",
   "execution_count": 10,
   "metadata": {},
   "outputs": [
    {
     "data": {
      "text/plain": [
       "['car', 'first goat', 'second goat']"
      ]
     },
     "execution_count": 10,
     "metadata": {},
     "output_type": "execute_result"
    }
   ],
   "source": [
    "game = setup()\n",
    "guess = np.random.choice(doors) # Guess is the door number the player selected\n",
    "monty = expose(game, guess) # 'monty' is the door number that Monty revealed\n",
    "remain = other(guess, monty) # 'remain' is the last door remaining\n",
    "[behind(game, guess), behind(game, monty), behind(game, remain)]"
   ]
  },
  {
   "cell_type": "markdown",
   "metadata": {},
   "source": [
    "Let's say we want to do this simulation 10,000 times"
   ]
  },
  {
   "cell_type": "code",
   "execution_count": 11,
   "metadata": {},
   "outputs": [
    {
     "data": {
      "text/html": [
       "<table border=\"1\" class=\"dataframe\">\n",
       "    <thead>\n",
       "        <tr>\n",
       "            <th>Trial</th> <th>Guess</th> <th>Monty</th> <th>Remaining</th>\n",
       "        </tr>\n",
       "    </thead>\n",
       "    <tbody>\n",
       "        <tr>\n",
       "            <td>0    </td> <td>second goat</td> <td>first goat </td> <td>car        </td>\n",
       "        </tr>\n",
       "        <tr>\n",
       "            <td>1    </td> <td>car        </td> <td>first goat </td> <td>second goat</td>\n",
       "        </tr>\n",
       "        <tr>\n",
       "            <td>2    </td> <td>car        </td> <td>first goat </td> <td>second goat</td>\n",
       "        </tr>\n",
       "        <tr>\n",
       "            <td>3    </td> <td>second goat</td> <td>first goat </td> <td>car        </td>\n",
       "        </tr>\n",
       "        <tr>\n",
       "            <td>4    </td> <td>car        </td> <td>first goat </td> <td>second goat</td>\n",
       "        </tr>\n",
       "        <tr>\n",
       "            <td>5    </td> <td>second goat</td> <td>first goat </td> <td>car        </td>\n",
       "        </tr>\n",
       "        <tr>\n",
       "            <td>6    </td> <td>car        </td> <td>second goat</td> <td>first goat </td>\n",
       "        </tr>\n",
       "        <tr>\n",
       "            <td>7    </td> <td>car        </td> <td>second goat</td> <td>first goat </td>\n",
       "        </tr>\n",
       "        <tr>\n",
       "            <td>8    </td> <td>car        </td> <td>first goat </td> <td>second goat</td>\n",
       "        </tr>\n",
       "        <tr>\n",
       "            <td>9    </td> <td>first goat </td> <td>second goat</td> <td>car        </td>\n",
       "        </tr>\n",
       "    </tbody>\n",
       "</table>\n",
       "<p>... (9990 rows omitted)</p>"
      ],
      "text/plain": [
       "Trial | Guess       | Monty       | Remaining\n",
       "0     | second goat | first goat  | car\n",
       "1     | car         | first goat  | second goat\n",
       "2     | car         | first goat  | second goat\n",
       "3     | second goat | first goat  | car\n",
       "4     | car         | first goat  | second goat\n",
       "5     | second goat | first goat  | car\n",
       "6     | car         | second goat | first goat\n",
       "7     | car         | second goat | first goat\n",
       "8     | car         | first goat  | second goat\n",
       "9     | first goat  | second goat | car\n",
       "... (9990 rows omitted)"
      ]
     },
     "execution_count": 11,
     "metadata": {},
     "output_type": "execute_result"
    }
   ],
   "source": [
    "simulationTable = Table(['Trial', 'Guess', 'Monty', 'Remaining'])\n",
    "for i in np.arange(10000):\n",
    "    game = setup()\n",
    "    guess = np.random.choice(doors) # Guess is the door number the player selected\n",
    "    monty = expose(game, guess) # 'monty' is the door number that Monty revealed\n",
    "    remain = other(guess, monty) # 'remain' is the last door remaining\n",
    "    simulationTable.append([i, behind(game, guess), behind(game, monty), behind(game, remain)])\n",
    "\n",
    "simulationTable"
   ]
  },
  {
   "cell_type": "markdown",
   "metadata": {},
   "source": [
    "From the simulation, we can predict, from 10,000 games, how many times the player would guess 'car"
   ]
  },
  {
   "cell_type": "code",
   "execution_count": 12,
   "metadata": {},
   "outputs": [
    {
     "data": {
      "text/html": [
       "<table border=\"1\" class=\"dataframe\">\n",
       "    <thead>\n",
       "        <tr>\n",
       "            <th>Guess</th> <th>count</th>\n",
       "        </tr>\n",
       "    </thead>\n",
       "    <tbody>\n",
       "        <tr>\n",
       "            <td>car        </td> <td>3334 </td>\n",
       "        </tr>\n",
       "        <tr>\n",
       "            <td>first goat </td> <td>3330 </td>\n",
       "        </tr>\n",
       "        <tr>\n",
       "            <td>second goat</td> <td>3336 </td>\n",
       "        </tr>\n",
       "    </tbody>\n",
       "</table>"
      ],
      "text/plain": [
       "Guess       | count\n",
       "car         | 3334\n",
       "first goat  | 3330\n",
       "second goat | 3336"
      ]
     },
     "execution_count": 12,
     "metadata": {},
     "output_type": "execute_result"
    }
   ],
   "source": [
    "guess_is_car = simulationTable.group('Guess')\n",
    "guess_is_car"
   ]
  },
  {
   "cell_type": "code",
   "execution_count": 13,
   "metadata": {},
   "outputs": [
    {
     "data": {
      "text/plain": [
       "(0, 6000)"
      ]
     },
     "execution_count": 13,
     "metadata": {},
     "output_type": "execute_result"
    },
    {
     "data": {
      "image/png": "[encoded data removed]",
      "text/plain": [
       "<Figure size 432x288 with 1 Axes>"
      ]
     },
     "metadata": {},
     "output_type": "display_data"
    }
   ],
   "source": [
    "guess_is_car.barh('Guess')\n",
    "plots.xlim(0, 6000) #sets the x axis to have range between 0 to 6000"
   ]
  },
  {
   "cell_type": "markdown",
   "metadata": {},
   "source": [
    "and how many times the 'car' would actually be in the 'remaining door'"
   ]
  },
  {
   "cell_type": "code",
   "execution_count": 14,
   "metadata": {},
   "outputs": [
    {
     "data": {
      "text/html": [
       "<table border=\"1\" class=\"dataframe\">\n",
       "    <thead>\n",
       "        <tr>\n",
       "            <th>Remaining</th> <th>count</th>\n",
       "        </tr>\n",
       "    </thead>\n",
       "    <tbody>\n",
       "        <tr>\n",
       "            <td>car        </td> <td>6666 </td>\n",
       "        </tr>\n",
       "        <tr>\n",
       "            <td>first goat </td> <td>1658 </td>\n",
       "        </tr>\n",
       "        <tr>\n",
       "            <td>second goat</td> <td>1676 </td>\n",
       "        </tr>\n",
       "    </tbody>\n",
       "</table>"
      ],
      "text/plain": [
       "Remaining   | count\n",
       "car         | 6666\n",
       "first goat  | 1658\n",
       "second goat | 1676"
      ]
     },
     "execution_count": 14,
     "metadata": {},
     "output_type": "execute_result"
    }
   ],
   "source": [
    "remaining_is_car = simulationTable.group('Remaining')\n",
    "remaining_is_car"
   ]
  },
  {
   "cell_type": "code",
   "execution_count": 15,
   "metadata": {},
   "outputs": [
    {
     "data": {
      "text/plain": [
       "(0, 6000)"
      ]
     },
     "execution_count": 15,
     "metadata": {},
     "output_type": "execute_result"
    },
    {
     "data": {
      "image/png": "[encoded data removed]",
      "text/plain": [
       "<Figure size 432x288 with 1 Axes>"
      ]
     },
     "metadata": {},
     "output_type": "display_data"
    }
   ],
   "source": [
    "remaining_is_car.barh('Remaining')\n",
    "plots.xlim(0, 6000)"
   ]
  },
  {
   "cell_type": "markdown",
   "metadata": {},
   "source": [
    "And we can combine the histograms to see the comparison more clearly"
   ]
  },
  {
   "cell_type": "code",
   "execution_count": 16,
   "metadata": {},
   "outputs": [
    {
     "data": {
      "text/html": [
       "<table border=\"1\" class=\"dataframe\">\n",
       "    <thead>\n",
       "        <tr>\n",
       "            <th>Prize</th> <th>Guess</th> <th>Remaining</th>\n",
       "        </tr>\n",
       "    </thead>\n",
       "    <tbody>\n",
       "        <tr>\n",
       "            <td>car        </td> <td>3334 </td> <td>6666     </td>\n",
       "        </tr>\n",
       "        <tr>\n",
       "            <td>first goat </td> <td>3330 </td> <td>1658     </td>\n",
       "        </tr>\n",
       "        <tr>\n",
       "            <td>second goat</td> <td>3336 </td> <td>1676     </td>\n",
       "        </tr>\n",
       "    </tbody>\n",
       "</table>"
      ],
      "text/plain": [
       "Prize       | Guess | Remaining\n",
       "car         | 3334  | 6666\n",
       "first goat  | 3330  | 1658\n",
       "second goat | 3336  | 1676"
      ]
     },
     "execution_count": 16,
     "metadata": {},
     "output_type": "execute_result"
    }
   ],
   "source": [
    "# Step 1: Combine the separate tables and relabel them\n",
    "combinedTable = guess_is_car.join('Guess', remaining_is_car, 'Remaining')\n",
    "# Step 2: Relabel them\n",
    "relabeled = combinedTable.relabeled(0, 'Prize').relabeled(1, 'Guess').relabeled(2, 'Remaining')\n",
    "relabeled"
   ]
  },
  {
   "cell_type": "code",
   "execution_count": 17,
   "metadata": {},
   "outputs": [
    {
     "data": {
      "text/plain": [
       "(0, 6000)"
      ]
     },
     "execution_count": 17,
     "metadata": {},
     "output_type": "execute_result"
    },
    {
     "data": {
      "image/png": "[encoded data removed]",
      "text/plain": [
       "<Figure size 432x288 with 1 Axes>"
      ]
     },
     "metadata": {},
     "output_type": "display_data"
    }
   ],
   "source": [
    "relabeled.barh(0)\n",
    "plots.xlim(0, 6000)"
   ]
  },
  {
   "cell_type": "markdown",
   "metadata": {},
   "source": [
    "# Probability (Video Lecture)\n",
    "* Lowest value: 0\n",
    "    * Chance of event that is impossible to happen\n",
    "* Highest value: 1 (or 100%)\n",
    "    * Chance of event that is certain to happen\n",
    "* If an event has chance 70%, then chance that it won't happen is:\n",
    "    * 100% - 70% = 30%\n",
    "    * 1 - 0.7 = 0.3\n",
    "\n",
    "## [Finding Probabilites](https://www.inferentialthinking.com/chapters/09/5/Finding_Probabilities) (Inferential Thinking - 9.5)\n",
    "Over the centuries, there has been philosophical debates about what probabilities are. Some people think that probabilities are relative frequencies; others think they are long run relative frequencies; still others think that probabilities are a subjective measure of their own personal degree of uncertainty.\n",
    "\n",
    "In this course, most probabilities will be relative frequencies, though many will have subjective interpretations. Regardless, the ways in which probabilities are calculated and combined are consistent across the different interpretations.\n",
    "\n",
    "By convention, probabilities are numbers between 0 and 1, or, equivalently, 0% and 100%. Impossible events have probability 0. Events that are certain have probability 1.\n",
    "\n",
    "Math is the main tool for finding probabilities, though computers are useful for this purpose too. Simulation can provide excellent approximations with high probability. In this section, we will informally develop a few simple rules that govern the calculation of probabilities. In subsequent sections we will return to simulations to approximate probabilities of complex events.\n",
    "\n",
    "We will use the standard notation:\n",
    "\\begin{equation*}\n",
    "P(Event)\n",
    "\\end{equation*}\n",
    "\n",
    "  to denote the probability that `Event` happens, and we will use the words “chance” and “probability” interchangeably.\n",
    "\n",
    "### When an Event Doesn't Happen\n",
    "If the chance that event happens is 40%, then the chance that it doesn’t happen is 60%. This natural calculation can be described in general as follows:\n",
    "\\begin{equation*}\n",
    "P(Doesnt) = 1 - P(Happen)\n",
    "\\end{equation*}\n",
    "\n",
    "Where:\n",
    "* P(Doesnt) = Probability that an event **does not happen**\n",
    "* P(Happen) = Probabilty that an event **will happen**\n",
    "\n",
    "### When All Outcomes are Equally Likely\n",
    "When you roll a die, a natural assumption is that all 6 faces are equally likely. Then probabilities of how one roll comes out can be easily calculated as a ratio. For example\n",
    "* The chance that the die shows an even number is 3/6 (2, 4, 6)\n",
    "* The chance that the die shows a multiple of 3 is 2/6 (3, 6)\n",
    "\n",
    "## Equally Likely Outcomes\n",
    "Assuming all outcomes are equally likely, the chance of an event A is:\n",
    "\n",
    "\\begin{equation*}\n",
    "P(A)   = \\frac{A}{Total}\n",
    "\\end{equation*}\n",
    "\n",
    "Where:\n",
    "* A = Number of outcomes that make A happen\n",
    "* Total = Total number of outcomes\n",
    "\n",
    "## Fraction of a Fraction: When 2 Events Must Both Happen\n",
    "<img src='fraction.jpg' width = 400/>\n",
    "Suppose you're in a class. The professor distributes boxes to each student in the classes. Each boxes contain 3 tickets: red, blue, and green.\n",
    "\n",
    "**What is the chance you get the green ticket first, followed by the red one?**\n",
    "\n",
    "There are 6 possible pairs of colors: RB, BR, RG, GR, BG, GB (we’ve abbreviated the names of each color to just its first letter). All of these are equally likely by the sampling scheme, and only one of them (GR) makes the event happen.\n",
    "\n",
    "\\begin{equation*}\n",
    "P(GR)   = \\frac{GR}{RB, BR, RG, GR, BG, GB} = \\frac{1}{6}\n",
    "\\end{equation*}\n",
    "\n",
    "There's another way of getting the answer, by thinking about the event in **2 stages**.\n",
    "\n",
    "### Multiplication Rule\n",
    "Chance that 2 events A and B both happen:\n",
    "\\begin{equation*}\n",
    "P(A) \\times P(A -> B)\n",
    "\\end{equation*}\n",
    "\n",
    "1. P(A) = Probability that A would happen\n",
    "2. P(A -> B) = Probability that B would happen given that A has happened\n",
    "\n",
    "* The final result is **less than or equal to** each of the 2 chances being multiplied\n",
    "* The more conditions you have to fulfill, the less likely you'll satisfy them all\n",
    "\n",
    "#### Stage 1\n",
    "The professor says to the class that whoever gets the green card stays in the class, while the rest must leave the class. This has `1/3` chance.\n",
    "\n",
    "#### Stage 2\n",
    "Next, the professor says that whoever gets the red card stays in the class.\n",
    "Among the `1/3` of repetitions when green is drawn previously, the red ticket has to be drawn next. This has `1/2` chance.\n",
    "\n",
    "#### Multiplication\n",
    "The chance of getting green, then red is:\n",
    "\\begin{equation*}\n",
    "P(G->B) = \\frac{1}{2} of \\frac{1}{3} = \\frac{1}{3} \\times \\frac{1}{2} = \\frac{1}{6}\n",
    "\\end{equation*}\n",
    "\n",
    "The factor of `1/2` is called “ the conditional chance that the red ticket appears second, given that the green ticket appeared first.”\n",
    "\n",
    "Thus, when there are 2 conditions – one event must happen, as well as another – the chance is a fraction of a fraction, which is smaller than either of the two component fractions. The more conditions that have to be satisfied, the less likely they are to all be satisfied.\n",
    "\n",
    "## When an Event Can Happen in 2 Different Ways\n",
    "Suppose instead we want the chance that one of the 2 tickets is green and the other red. This event doesn’t specify the order in which the colors must appear, so they can appear in either order.\n",
    "\n",
    "A good way to tackle problems like this is to partition the event so that it can happen in exactly one of several different ways. The natural partition of “one green and one red” is GR and RG, in which each has a chance of `1/6`. \n",
    "\n",
    "### Addition Rule\n",
    "If event A can happen in exactly one of the 2 ways, then:\n",
    "\\begin{equation*}\n",
    "P(A) = P(1st) + P(2nd)\n",
    "\\end{equation*}\n",
    "\n",
    "where *P(1st)* and *P(2nd)* is the 1st and 2nd way, respectively.\n",
    "\n",
    "Thus, when an event can happen in one of two different ways, the chance that it happens is a sum of chances, and hence bigger than the chance of either of the individual ways.\n",
    "\n",
    "The multiplication rule has a natural extension to more than two events, as we will see below. So also the addition rule has a natural extension to events that can happen in one of several different ways.\n",
    "\n",
    "\n",
    "## Example: At Least One Head\n",
    "Data scientists often work with random samples from populations. A question that sometimes arises is about the likelihood that a particular individual in the population is selected to be in the sample. To work out the chance, that individual is called a “success,” and the problem is to find the chance that the sample contains a success.\n",
    "\n",
    "If you toss a coin twice, there are four equally likely outcomes: HH, HT, TH, and TT. We have abbreviated “Heads” to H and “Tails” to T. The chance of getting at least one head in two tosses is therefore 3/4 (HH, HT, TH).\n",
    "\n",
    "Another way of coming up with this answer is to calculate the chances you don’t get at least one head: both the tosses have to land tails.\n",
    "\n",
    "\\begin{equation*}\n",
    "P(1H) = 1-P(TT) = 1 - \\frac{1}{4} = \\frac{3}{4}\n",
    "\\end{equation*}\n",
    "\n",
    "Notice also that by multiplication rule,\n",
    "\\begin{equation*}\n",
    "P(TT) = \\frac{1}{4} = \\frac{1}{2} \\times \\frac{1}{2} = (\\frac{1}{2})^2\n",
    "\\end{equation*}\n",
    "\n",
    "This way, the chance of getting at least one head in 17 coin tosses would be:\n",
    "\\begin{equation*}\n",
    "P(1H) = 1-P(17T) = 1 -  (\\frac{1}{2})^{17}\n",
    "\\end{equation*}"
   ]
  },
  {
   "cell_type": "markdown",
   "metadata": {},
   "source": [
    "# Sampling\n",
    "An important part of data science consists of making conclusions based on the data in random samples. In order to correctly interpret their results, data scientists have to first understand exactly what random samples are.\n",
    "\n",
    "In this chapter we will take a more careful look at sampling, with special attention to the properties of large random samples. We'll analyze the `top_movies.csv` data set."
   ]
  },
  {
   "cell_type": "code",
   "execution_count": 18,
   "metadata": {},
   "outputs": [
    {
     "data": {
      "text/html": [
       "<table border=\"1\" class=\"dataframe\">\n",
       "    <thead>\n",
       "        <tr>\n",
       "            <th>Row Index</th> <th>Title</th> <th>Studio</th> <th>Gross</th> <th>Gross (Adjusted)</th> <th>Year</th>\n",
       "        </tr>\n",
       "    </thead>\n",
       "    <tbody>\n",
       "        <tr>\n",
       "            <td>0        </td> <td>Star Wars: The Force Awakens             </td> <td>Buena Vista (Disney)</td> <td>906,723,418</td> <td>906,723,400     </td> <td>2015</td>\n",
       "        </tr>\n",
       "        <tr>\n",
       "            <td>1        </td> <td>Avatar                                   </td> <td>Fox                 </td> <td>760,507,625</td> <td>846,120,800     </td> <td>2009</td>\n",
       "        </tr>\n",
       "        <tr>\n",
       "            <td>2        </td> <td>Titanic                                  </td> <td>Paramount           </td> <td>658,672,302</td> <td>1,178,627,900   </td> <td>1997</td>\n",
       "        </tr>\n",
       "        <tr>\n",
       "            <td>3        </td> <td>Jurassic World                           </td> <td>Universal           </td> <td>652,270,625</td> <td>687,728,000     </td> <td>2015</td>\n",
       "        </tr>\n",
       "        <tr>\n",
       "            <td>4        </td> <td>Marvel's The Avengers                    </td> <td>Buena Vista (Disney)</td> <td>623,357,910</td> <td>668,866,600     </td> <td>2012</td>\n",
       "        </tr>\n",
       "        <tr>\n",
       "            <td>5        </td> <td>The Dark Knight                          </td> <td>Warner Bros.        </td> <td>534,858,444</td> <td>647,761,600     </td> <td>2008</td>\n",
       "        </tr>\n",
       "        <tr>\n",
       "            <td>6        </td> <td>Star Wars: Episode I - The Phantom Menace</td> <td>Fox                 </td> <td>474,544,677</td> <td>785,715,000     </td> <td>1999</td>\n",
       "        </tr>\n",
       "        <tr>\n",
       "            <td>7        </td> <td>Star Wars                                </td> <td>Fox                 </td> <td>460,998,007</td> <td>1,549,640,500   </td> <td>1977</td>\n",
       "        </tr>\n",
       "        <tr>\n",
       "            <td>8        </td> <td>Avengers: Age of Ultron                  </td> <td>Buena Vista (Disney)</td> <td>459,005,868</td> <td>465,684,200     </td> <td>2015</td>\n",
       "        </tr>\n",
       "        <tr>\n",
       "            <td>9        </td> <td>The Dark Knight Rises                    </td> <td>Warner Bros.        </td> <td>448,139,099</td> <td>500,961,700     </td> <td>2012</td>\n",
       "        </tr>\n",
       "    </tbody>\n",
       "</table>\n",
       "<p>... (190 rows omitted)</p>"
      ],
      "text/plain": [
       "Row Index | Title                                     | Studio               | Gross       | Gross (Adjusted) | Year\n",
       "0         | Star Wars: The Force Awakens              | Buena Vista (Disney) | 906,723,418 | 906,723,400      | 2015\n",
       "1         | Avatar                                    | Fox                  | 760,507,625 | 846,120,800      | 2009\n",
       "2         | Titanic                                   | Paramount            | 658,672,302 | 1,178,627,900    | 1997\n",
       "3         | Jurassic World                            | Universal            | 652,270,625 | 687,728,000      | 2015\n",
       "4         | Marvel's The Avengers                     | Buena Vista (Disney) | 623,357,910 | 668,866,600      | 2012\n",
       "5         | The Dark Knight                           | Warner Bros.         | 534,858,444 | 647,761,600      | 2008\n",
       "6         | Star Wars: Episode I - The Phantom Menace | Fox                  | 474,544,677 | 785,715,000      | 1999\n",
       "7         | Star Wars                                 | Fox                  | 460,998,007 | 1,549,640,500    | 1977\n",
       "8         | Avengers: Age of Ultron                   | Buena Vista (Disney) | 459,005,868 | 465,684,200      | 2015\n",
       "9         | The Dark Knight Rises                     | Warner Bros.         | 448,139,099 | 500,961,700      | 2012\n",
       "... (190 rows omitted)"
      ]
     },
     "execution_count": 18,
     "metadata": {},
     "output_type": "execute_result"
    }
   ],
   "source": [
    "top1 = Table.read_table('top_movies.csv')\n",
    "top2 = top1.with_column('Row Index', np.arange(top1.num_rows))\n",
    "top = top2.move_to_start('Row Index')\n",
    "\n",
    "top.set_format(make_array(3, 4), NumberFormatter)"
   ]
  },
  {
   "cell_type": "markdown",
   "metadata": {},
   "source": [
    "## Sampling Rows of a Table\n",
    "Each row of a data table represents an individual; in top, each individual is a movie. Sampling individuals can thus be achieved by sampling the rows of a table.\n",
    "\n",
    "The contents of a row are the values of different variables measured on the same individual. So the contents of the sampled rows form samples of values of each of the variables.\n",
    "\n",
    "### Deterministic Sample\n",
    "When you specify which elements of a set you want to choose, without any chances involved, you create a **deterministic sample**.\n",
    "\n",
    "We have done this previously, for example by using `take`:"
   ]
  },
  {
   "cell_type": "code",
   "execution_count": 19,
   "metadata": {},
   "outputs": [
    {
     "data": {
      "text/html": [
       "<table border=\"1\" class=\"dataframe\">\n",
       "    <thead>\n",
       "        <tr>\n",
       "            <th>Row Index</th> <th>Title</th> <th>Studio</th> <th>Gross</th> <th>Gross (Adjusted)</th> <th>Year</th>\n",
       "        </tr>\n",
       "    </thead>\n",
       "    <tbody>\n",
       "        <tr>\n",
       "            <td>3        </td> <td>Jurassic World    </td> <td>Universal</td> <td>652,270,625</td> <td>687,728,000     </td> <td>2015</td>\n",
       "        </tr>\n",
       "        <tr>\n",
       "            <td>18       </td> <td>Spider-Man        </td> <td>Sony     </td> <td>403,706,375</td> <td>604,517,300     </td> <td>2002</td>\n",
       "        </tr>\n",
       "        <tr>\n",
       "            <td>100      </td> <td>Gone with the Wind</td> <td>MGM      </td> <td>198,676,459</td> <td>1,757,788,200   </td> <td>1939</td>\n",
       "        </tr>\n",
       "    </tbody>\n",
       "</table>"
      ],
      "text/plain": [
       "Row Index | Title              | Studio    | Gross       | Gross (Adjusted) | Year\n",
       "3         | Jurassic World     | Universal | 652,270,625 | 687,728,000      | 2015\n",
       "18        | Spider-Man         | Sony      | 403,706,375 | 604,517,300      | 2002\n",
       "100       | Gone with the Wind | MGM       | 198,676,459 | 1,757,788,200    | 1939"
      ]
     },
     "execution_count": 19,
     "metadata": {},
     "output_type": "execute_result"
    }
   ],
   "source": [
    "top.take(make_array(3, 18, 100))"
   ]
  },
  {
   "cell_type": "markdown",
   "metadata": {},
   "source": [
    "Or using `where`"
   ]
  },
  {
   "cell_type": "code",
   "execution_count": 20,
   "metadata": {},
   "outputs": [
    {
     "data": {
      "text/html": [
       "<table border=\"1\" class=\"dataframe\">\n",
       "    <thead>\n",
       "        <tr>\n",
       "            <th>Row Index</th> <th>Title</th> <th>Studio</th> <th>Gross</th> <th>Gross (Adjusted)</th> <th>Year</th>\n",
       "        </tr>\n",
       "    </thead>\n",
       "    <tbody>\n",
       "        <tr>\n",
       "            <td>22       </td> <td>Harry Potter and the Deathly Hallows Part 2</td> <td>Warner Bros.</td> <td>381,011,219</td> <td>417,512,200     </td> <td>2011</td>\n",
       "        </tr>\n",
       "        <tr>\n",
       "            <td>43       </td> <td>Harry Potter and the Sorcerer's Stone      </td> <td>Warner Bros.</td> <td>317,575,550</td> <td>486,442,900     </td> <td>2001</td>\n",
       "        </tr>\n",
       "        <tr>\n",
       "            <td>54       </td> <td>Harry Potter and the Half-Blood Prince     </td> <td>Warner Bros.</td> <td>301,959,197</td> <td>352,098,800     </td> <td>2009</td>\n",
       "        </tr>\n",
       "        <tr>\n",
       "            <td>59       </td> <td>Harry Potter and the Order of the Phoenix  </td> <td>Warner Bros.</td> <td>292,004,738</td> <td>369,250,200     </td> <td>2007</td>\n",
       "        </tr>\n",
       "        <tr>\n",
       "            <td>62       </td> <td>Harry Potter and the Goblet of Fire        </td> <td>Warner Bros.</td> <td>290,013,036</td> <td>393,024,800     </td> <td>2005</td>\n",
       "        </tr>\n",
       "        <tr>\n",
       "            <td>69       </td> <td>Harry Potter and the Chamber of Secrets    </td> <td>Warner Bros.</td> <td>261,988,482</td> <td>390,768,100     </td> <td>2002</td>\n",
       "        </tr>\n",
       "        <tr>\n",
       "            <td>76       </td> <td>Harry Potter and the Prisoner of Azkaban   </td> <td>Warner Bros.</td> <td>249,541,069</td> <td>349,598,600     </td> <td>2004</td>\n",
       "        </tr>\n",
       "    </tbody>\n",
       "</table>"
      ],
      "text/plain": [
       "Row Index | Title                                       | Studio       | Gross       | Gross (Adjusted) | Year\n",
       "22        | Harry Potter and the Deathly Hallows Part 2 | Warner Bros. | 381,011,219 | 417,512,200      | 2011\n",
       "43        | Harry Potter and the Sorcerer's Stone       | Warner Bros. | 317,575,550 | 486,442,900      | 2001\n",
       "54        | Harry Potter and the Half-Blood Prince      | Warner Bros. | 301,959,197 | 352,098,800      | 2009\n",
       "59        | Harry Potter and the Order of the Phoenix   | Warner Bros. | 292,004,738 | 369,250,200      | 2007\n",
       "62        | Harry Potter and the Goblet of Fire         | Warner Bros. | 290,013,036 | 393,024,800      | 2005\n",
       "69        | Harry Potter and the Chamber of Secrets     | Warner Bros. | 261,988,482 | 390,768,100      | 2002\n",
       "76        | Harry Potter and the Prisoner of Azkaban    | Warner Bros. | 249,541,069 | 349,598,600      | 2004"
      ]
     },
     "execution_count": 20,
     "metadata": {},
     "output_type": "execute_result"
    }
   ],
   "source": [
    "top.where('Title', are.containing('Harry Potter'))"
   ]
  },
  {
   "cell_type": "markdown",
   "metadata": {},
   "source": [
    "Above are not random samples since they don’t involve chance.\n",
    "\n",
    "### Probability Samples\n",
    "Before the sample is drawn, you have to know the selection probability of every group of people in the population.\n",
    "* `population` = the set of all elements from whom a sample will be drawn\n",
    "* `probability sample` is one for which it's possible to calculate, before the sample is drawn, the chance with which any subset of elements will enter the sample\n",
    "\n",
    "In a probability sample, all elements don't need to have the same chance of being chosen.\n",
    "\n",
    "#### Random Sampling Scheme\n",
    "Suppose you choose 2 people from 3 people: A, B, C. The guideline is as the following:\n",
    "\n",
    "* A is chosen with probability 1\n",
    "* B or C is chosen according to a toss of coin\n",
    "    * Heads = B\n",
    "    * Tails = C\n",
    "\n",
    "This is a probability sample of size 2. The chances of entry for all non-empty subsets are:\n",
    "\n",
    "* A : 1\n",
    "* B : 1/2\n",
    "* C : 1/2\n",
    "* AB : 1/2\n",
    "* AC : 1/2\n",
    "* BC : 0\n",
    "* ABC : 0\n",
    "\n",
    "A has a higher chance of being selected than B or C (indeed, A is certain to be selected). Since these differences are known and quantified, they can be taken into account when working with the sample.\n",
    "\n",
    "#### Systematic Sample\n",
    "Imagine all the elements of the population listed in a sequence. One method of sampling starts by choosing a random position early in the list, and then evenly spaced positions after that. The sample consists of the elements in those positions. Such a sample is called a **systematic sample**.\n",
    "\n",
    "Here we will choose a systematic sample of the rows of top. We will start by picking one of the first 10 rows at random, and then we will pick every 10th row after that."
   ]
  },
  {
   "cell_type": "code",
   "execution_count": 21,
   "metadata": {},
   "outputs": [
    {
     "data": {
      "text/html": [
       "<table border=\"1\" class=\"dataframe\">\n",
       "    <thead>\n",
       "        <tr>\n",
       "            <th>Row Index</th> <th>Title</th> <th>Studio</th> <th>Gross</th> <th>Gross (Adjusted)</th> <th>Year</th>\n",
       "        </tr>\n",
       "    </thead>\n",
       "    <tbody>\n",
       "        <tr>\n",
       "            <td>0        </td> <td>Star Wars: The Force Awakens                                </td> <td>Buena Vista (Disney)</td> <td>906,723,418</td> <td>906,723,400     </td> <td>2015</td>\n",
       "        </tr>\n",
       "        <tr>\n",
       "            <td>10       </td> <td>Shrek 2                                                     </td> <td>Dreamworks          </td> <td>441,226,247</td> <td>618,143,100     </td> <td>2004</td>\n",
       "        </tr>\n",
       "        <tr>\n",
       "            <td>20       </td> <td>Transformers: Revenge of the Fallen                         </td> <td>Paramount/Dreamworks</td> <td>402,111,870</td> <td>468,938,100     </td> <td>2009</td>\n",
       "        </tr>\n",
       "        <tr>\n",
       "            <td>30       </td> <td>Furious 7                                                   </td> <td>Universal           </td> <td>353,007,020</td> <td>356,907,000     </td> <td>2015</td>\n",
       "        </tr>\n",
       "        <tr>\n",
       "            <td>40       </td> <td>Shrek the Third                                             </td> <td>Paramount/Dreamworks</td> <td>322,719,944</td> <td>408,090,600     </td> <td>2007</td>\n",
       "        </tr>\n",
       "        <tr>\n",
       "            <td>50       </td> <td>Independence Day                                            </td> <td>Fox                 </td> <td>306,169,268</td> <td>602,639,200     </td> <td>1996</td>\n",
       "        </tr>\n",
       "        <tr>\n",
       "            <td>60       </td> <td>The Chronicles of Narnia: The Lion, the Witch and the Wa ...</td> <td>Buena Vista (Disney)</td> <td>291,710,957</td> <td>393,033,100     </td> <td>2005</td>\n",
       "        </tr>\n",
       "        <tr>\n",
       "            <td>70       </td> <td>The Incredibles                                             </td> <td>Buena Vista (Disney)</td> <td>261,441,092</td> <td>365,660,600     </td> <td>2004</td>\n",
       "        </tr>\n",
       "        <tr>\n",
       "            <td>80       </td> <td>Bruce Almighty                                              </td> <td>Universal           </td> <td>242,829,261</td> <td>350,350,700     </td> <td>2003</td>\n",
       "        </tr>\n",
       "        <tr>\n",
       "            <td>90       </td> <td>Mrs. Doubtfire                                              </td> <td>Fox                 </td> <td>219,195,243</td> <td>458,354,100     </td> <td>1993</td>\n",
       "        </tr>\n",
       "    </tbody>\n",
       "</table>\n",
       "<p>... (10 rows omitted)</p>"
      ],
      "text/plain": [
       "Row Index | Title                                                        | Studio               | Gross       | Gross (Adjusted) | Year\n",
       "0         | Star Wars: The Force Awakens                                 | Buena Vista (Disney) | 906,723,418 | 906,723,400      | 2015\n",
       "10        | Shrek 2                                                      | Dreamworks           | 441,226,247 | 618,143,100      | 2004\n",
       "20        | Transformers: Revenge of the Fallen                          | Paramount/Dreamworks | 402,111,870 | 468,938,100      | 2009\n",
       "30        | Furious 7                                                    | Universal            | 353,007,020 | 356,907,000      | 2015\n",
       "40        | Shrek the Third                                              | Paramount/Dreamworks | 322,719,944 | 408,090,600      | 2007\n",
       "50        | Independence Day                                             | Fox                  | 306,169,268 | 602,639,200      | 1996\n",
       "60        | The Chronicles of Narnia: The Lion, the Witch and the Wa ... | Buena Vista (Disney) | 291,710,957 | 393,033,100      | 2005\n",
       "70        | The Incredibles                                              | Buena Vista (Disney) | 261,441,092 | 365,660,600      | 2004\n",
       "80        | Bruce Almighty                                               | Universal            | 242,829,261 | 350,350,700      | 2003\n",
       "90        | Mrs. Doubtfire                                               | Fox                  | 219,195,243 | 458,354,100      | 1993\n",
       "... (10 rows omitted)"
      ]
     },
     "execution_count": 21,
     "metadata": {},
     "output_type": "execute_result"
    }
   ],
   "source": [
    "\"\"\"Choose a random start among rows 0 through 9;\n",
    "then take every 10th row.\"\"\"\n",
    "\n",
    "# Run this cell multiple times to see how the output varies\n",
    "\n",
    "start = np.random.choice(np.arange(10))\n",
    "top.take(np.arange(start, top.num_rows, 10))"
   ]
  },
  {
   "cell_type": "markdown",
   "metadata": {},
   "source": [
    "This systematic sample is a **probability sample**. In this scheme, all rows have chance of `1/10` of being chosen. For example, Row 23 is chosen if and only if Row 3 is chosen, and the chance of this happening is `1/10`.\n",
    "\n",
    "Not all subsets have the same chance of being chosen. Because the selected rows are evenly spaced, most subsets of rows have no chance of being chosen. The only subsets that are possible are those that consist of rows all separated by multiples of 10. Any of those subsets is selected with chance 1/10. Other subsets, like the subset containing the first 11 rows of the table, are selected with chance 0.\n",
    "\n",
    "### Sample of Convenience\n",
    "**Example: sample consists of whoever walksby**\n",
    "* Just because you think you're sampling \"at random\", doesn't mean you are\n",
    "* If you can't figure out these ahead of time, then you don't have a random sample:\n",
    "    * What's the population\n",
    "    * What's the chance of selection, for each group in the population\n"
   ]
  },
  {
   "cell_type": "markdown",
   "metadata": {},
   "source": [
    "# Distributions\n",
    "Experiment: roll a die multiple times and keeping track of which face appears. The table `die` contains the numbers of spots on the faces of a die. All the numbers appear exactly once, as we are assuming that the die is fair."
   ]
  },
  {
   "cell_type": "code",
   "execution_count": 22,
   "metadata": {},
   "outputs": [
    {
     "data": {
      "text/html": [
       "<table border=\"1\" class=\"dataframe\">\n",
       "    <thead>\n",
       "        <tr>\n",
       "            <th>Face</th>\n",
       "        </tr>\n",
       "    </thead>\n",
       "    <tbody>\n",
       "        <tr>\n",
       "            <td>1   </td>\n",
       "        </tr>\n",
       "        <tr>\n",
       "            <td>2   </td>\n",
       "        </tr>\n",
       "        <tr>\n",
       "            <td>3   </td>\n",
       "        </tr>\n",
       "        <tr>\n",
       "            <td>4   </td>\n",
       "        </tr>\n",
       "        <tr>\n",
       "            <td>5   </td>\n",
       "        </tr>\n",
       "        <tr>\n",
       "            <td>6   </td>\n",
       "        </tr>\n",
       "    </tbody>\n",
       "</table>"
      ],
      "text/plain": [
       "Face\n",
       "1\n",
       "2\n",
       "3\n",
       "4\n",
       "5\n",
       "6"
      ]
     },
     "execution_count": 22,
     "metadata": {},
     "output_type": "execute_result"
    }
   ],
   "source": [
    "die = Table().with_column('Face', np.arange(1, 7, 1))\n",
    "die"
   ]
  },
  {
   "cell_type": "markdown",
   "metadata": {},
   "source": [
    "## Probability Distribution\n",
    "* Random quantity with various possible values\n",
    "* \"Probability distribution\"\n",
    "    * All the possible values of the quantity\n",
    "    * The probability of each of those values\n",
    "* In some cases, the probability distribution can be solved mathematically without ever generating (or simulating) the random quantity\n",
    "\n",
    "The histogram below helps us visualize the fact that every face appears with probability `1/6`. We say that the histogram shows the distribution of probabilities over all the possible faces. Since all the bars represent the same percent chance, the distribution is called uniform on the integers 1 through 6."
   ]
  },
  {
   "cell_type": "code",
   "execution_count": 23,
   "metadata": {},
   "outputs": [
    {
     "data": {
      "image/png": "[encoded data removed]",
      "text/plain": [
       "<Figure size 432x288 with 1 Axes>"
      ]
     },
     "metadata": {},
     "output_type": "display_data"
    }
   ],
   "source": [
    "die_bins = np.arange(0.5, 6.6, 1)\n",
    "die.hist(bins = die_bins)"
   ]
  },
  {
   "cell_type": "markdown",
   "metadata": {},
   "source": [
    "Variables whose successive values are separated by the same fixed amount, such as the values on rolls of a die (successive values separated by 1), fall into a class of variables that are called `discrete`. The histogram above is called a `discrete histogram`. Its bins are specified by the array `die_bins` and ensure that each bar is centered over the corresponding integer value.\n",
    "\n",
    "The die can’t show 1.3 spots, or 5.2 spots – it always shows an integer number of spots. But our visualization spreads the probability of each value over the area of a bar. While this might seem a bit arbitrary at this stage of the course, it will become important later when we overlay smooth curves over discrete histograms.\n",
    "\n",
    "The probability of each face is `1/6`, which is 16.67% when rounded to 2 decimal places. The width of each bin is 1 unit. So the height of each bar is 16.67% per unit. This agrees with the horizontal and vertical scales of the graph."
   ]
  },
  {
   "cell_type": "markdown",
   "metadata": {},
   "source": [
    "## Empirical Distribution\n",
    "The distribution above consists of the **theoretical** probability of each face. It is not based on data. It can be studied and understood without rolling any dice.\n",
    "\n",
    "Empirical distributions, on the other hand, are distributions of observed data. They can be visualized by empirical histograms. In data science, the word **empirical** means **observed**.\n",
    "\n",
    "Let us get some data by simulating rolls of a die. This can be done by sampling at random with replacement from the integers 1 through 6. Previously we used `np.random.choice` for such simulations, but now we will use a **Table** method.\n",
    "\n",
    "The table method `sample` draws at random with replacement from the rows of a table. Its argument is the **sample size**, and it returns a table consisting of the rows that were selected. An optional argument `with_replacement = False` specifies that sample should be drawn without replacement, but that is not the case with rolling a die.\n",
    "\n",
    "Here are the results of 100 rolls of a die."
   ]
  },
  {
   "cell_type": "code",
   "execution_count": 24,
   "metadata": {},
   "outputs": [
    {
     "data": {
      "text/html": [
       "<table border=\"1\" class=\"dataframe\">\n",
       "    <thead>\n",
       "        <tr>\n",
       "            <th>Face</th>\n",
       "        </tr>\n",
       "    </thead>\n",
       "    <tbody>\n",
       "        <tr>\n",
       "            <td>6   </td>\n",
       "        </tr>\n",
       "        <tr>\n",
       "            <td>3   </td>\n",
       "        </tr>\n",
       "        <tr>\n",
       "            <td>2   </td>\n",
       "        </tr>\n",
       "        <tr>\n",
       "            <td>2   </td>\n",
       "        </tr>\n",
       "        <tr>\n",
       "            <td>3   </td>\n",
       "        </tr>\n",
       "        <tr>\n",
       "            <td>6   </td>\n",
       "        </tr>\n",
       "        <tr>\n",
       "            <td>4   </td>\n",
       "        </tr>\n",
       "        <tr>\n",
       "            <td>4   </td>\n",
       "        </tr>\n",
       "        <tr>\n",
       "            <td>6   </td>\n",
       "        </tr>\n",
       "        <tr>\n",
       "            <td>2   </td>\n",
       "        </tr>\n",
       "    </tbody>\n",
       "</table>\n",
       "<p>... (90 rows omitted)</p>"
      ],
      "text/plain": [
       "Face\n",
       "6\n",
       "3\n",
       "2\n",
       "2\n",
       "3\n",
       "6\n",
       "4\n",
       "4\n",
       "6\n",
       "2\n",
       "... (90 rows omitted)"
      ]
     },
     "execution_count": 24,
     "metadata": {},
     "output_type": "execute_result"
    }
   ],
   "source": [
    "die.sample(100)"
   ]
  },
  {
   "cell_type": "markdown",
   "metadata": {},
   "source": [
    "We can use the same method to simulate as many rolls as we like, then we can draw empirical histograms of the result. Since we are going to do this repeatedly, we define the function `empirical_hist_die` that takes in **sample size** as its argument. This function rolls the die as many times as its argument then draws a histogram."
   ]
  },
  {
   "cell_type": "code",
   "execution_count": 25,
   "metadata": {},
   "outputs": [],
   "source": [
    "def empirical_hist_die(n):\n",
    "    die.sample(n).hist(bins = die_bins)"
   ]
  },
  {
   "cell_type": "markdown",
   "metadata": {},
   "source": [
    "## Empirical Histograms\n",
    "Below is an empirical histogram of 10 rolls."
   ]
  },
  {
   "cell_type": "code",
   "execution_count": 26,
   "metadata": {},
   "outputs": [
    {
     "data": {
      "image/png": "[encoded data removed]",
      "text/plain": [
       "<Figure size 432x288 with 1 Axes>"
      ]
     },
     "metadata": {},
     "output_type": "display_data"
    }
   ],
   "source": [
    "# Run cell multiple times to see variability\n",
    "empirical_hist_die(10)"
   ]
  },
  {
   "cell_type": "markdown",
   "metadata": {},
   "source": [
    "Notice that the histogram above doesn't look like the probability histogram we created previously. However, when the sample size increases, the empirical histogram begins to look more like that of the theoretical probabilities."
   ]
  },
  {
   "cell_type": "code",
   "execution_count": 27,
   "metadata": {},
   "outputs": [
    {
     "data": {
      "image/png": "[encoded data removed]",
      "text/plain": [
       "<Figure size 432x288 with 1 Axes>"
      ]
     },
     "metadata": {},
     "output_type": "display_data"
    }
   ],
   "source": [
    "empirical_hist_die(100)"
   ]
  },
  {
   "cell_type": "code",
   "execution_count": 28,
   "metadata": {},
   "outputs": [
    {
     "data": {
      "image/png": "[encoded data removed]",
      "text/plain": [
       "<Figure size 432x288 with 1 Axes>"
      ]
     },
     "metadata": {},
     "output_type": "display_data"
    }
   ],
   "source": [
    "empirical_hist_die(1000)"
   ]
  },
  {
   "cell_type": "code",
   "execution_count": 29,
   "metadata": {},
   "outputs": [
    {
     "data": {
      "image/png": "[encoded data removed]",
      "text/plain": [
       "<Figure size 432x288 with 1 Axes>"
      ]
     },
     "metadata": {},
     "output_type": "display_data"
    }
   ],
   "source": [
    "empirical_hist_die(10000)"
   ]
  },
  {
   "cell_type": "markdown",
   "metadata": {},
   "source": [
    "As we increase the number of rolls in the simulation, the area of each bar gets closer to 16.67%, which is the area of each bar in the probability histogram.\n",
    "\n",
    "## The Law of Averages\n",
    "If a chance experiment is repeated many times, independently and under identical conditions, then the proportion of times that an event occurs gets closer to the theoretical probability of the event.\n",
    "\n",
    "As you increase the number of rolls of a die, the proportion of times you get 5 is closer to `1/6`\n",
    "\n",
    "\"Independently and under identical conditions\" means that every repetition is performed in the same way regardless of the results of all other repetitions\n",
    "\n",
    "### Large Random Samples\n",
    "If the sample size is large, then the empirical distribution of a uniform random sample resembles the distribution of the population with high probability."
   ]
  }
 ],
 "metadata": {
  "kernelspec": {
   "display_name": "Python 3",
   "language": "python",
   "name": "python3"
  },
  "language_info": {
   "codemirror_mode": {
    "name": "ipython",
    "version": 3
   },
   "file_extension": ".py",
   "mimetype": "text/x-python",
   "name": "python",
   "nbconvert_exporter": "python",
   "pygments_lexer": "ipython3",
   "version": "3.7.2"
  }
 },
 "nbformat": 4,
 "nbformat_minor": 1
}
