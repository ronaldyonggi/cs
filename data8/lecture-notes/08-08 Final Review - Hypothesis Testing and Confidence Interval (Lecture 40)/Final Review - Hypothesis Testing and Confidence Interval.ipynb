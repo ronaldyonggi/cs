{
 "cells": [
  {
   "cell_type": "code",
   "execution_count": 1,
   "metadata": {},
   "outputs": [
    {
     "ename": "ModuleNotFoundError",
     "evalue": "No module named 'toolz'",
     "output_type": "error",
     "traceback": [
      "\u001b[1;31m---------------------------------------------------------------------------\u001b[0m",
      "\u001b[1;31mModuleNotFoundError\u001b[0m                       Traceback (most recent call last)",
      "\u001b[1;32m<ipython-input-1-f5c758627193>\u001b[0m in \u001b[0;36m<module>\u001b[1;34m\u001b[0m\n\u001b[0;32m      9\u001b[0m \u001b[1;32mimport\u001b[0m \u001b[0mipywidgets\u001b[0m \u001b[1;32mas\u001b[0m \u001b[0mwidgets\u001b[0m\u001b[1;33m\u001b[0m\u001b[1;33m\u001b[0m\u001b[0m\n\u001b[0;32m     10\u001b[0m \u001b[1;33m\u001b[0m\u001b[0m\n\u001b[1;32m---> 11\u001b[1;33m \u001b[1;32mfrom\u001b[0m \u001b[0mtoolz\u001b[0m \u001b[1;32mimport\u001b[0m \u001b[0mmemoize\u001b[0m\u001b[1;33m\u001b[0m\u001b[1;33m\u001b[0m\u001b[0m\n\u001b[0m",
      "\u001b[1;31mModuleNotFoundError\u001b[0m: No module named 'toolz'"
     ]
    }
   ],
   "source": [
    "from datascience import *\n",
    "import numpy as np\n",
    "\n",
    "%matplotlib inline\n",
    "import matplotlib.pyplot as plt\n",
    "plt.style.use('fivethirtyeight')\n",
    "\n",
    "from ipywidgets import interact, interactive, fixed, interact_manual\n",
    "import ipywidgets as widgets\n",
    "\n",
    "from toolz import memoize"
   ]
  },
  {
   "cell_type": "markdown",
   "metadata": {},
   "source": [
    "# Hypothesis Testing and Confidence Interval Review"
   ]
  },
  {
   "cell_type": "markdown",
   "metadata": {},
   "source": [
    "## Distributions\n",
    "The distribution of a `statistic` (e.g. distribution of sample `mean`, distribution of **difference in `means`**) and the distribution of a `population / sample` are important to distinguish.\n",
    "\n",
    "For example, the CLT (Central Limit Theorem) tells us that the distribution of the sample `sum` / `mean` / `proportion` (like a confidence interval) will have a standard deviation of:\n",
    "\n",
    "$$ \\frac{\\sigma_p}{\\sqrt{n}}$$\n",
    "\n",
    "not the distribution of a **large sample** ($\\approx \\sigma_p$) or the population ($\\sigma_p$)"
   ]
  },
  {
   "cell_type": "markdown",
   "metadata": {},
   "source": [
    "#### Example\n",
    "Let's say we generate a confidence interval of `[0.4, 0.6]` for the true proportion of supporters of a particular policy.\n",
    "\n",
    "In this case, it's clear that the confidence interval doesn't mean the members of the population give a fractional amount of support. Either we support or not.\n",
    "\n",
    "As sample size increases, this interval becomes smaller. This makes sense because a sample that approaches the size of the population (i.e. the population itself) will guess the parameter exactly. "
   ]
  },
  {
   "cell_type": "markdown",
   "metadata": {},
   "source": [
    "## Hypothesis Testing v. Confidence Intervals\n",
    "1. Hypothesis testing answers `yes` or `no` questions such as:\n",
    "    * Is the proportion of red balloons 50%\n",
    "    * Is the proportion of red balloons greater / less than 50%\n",
    "    \n",
    "    \n",
    "2. Confidence intervals give us an interval for the true value of our parameter, which allows us to answer the same questions and more"
   ]
  },
  {
   "cell_type": "markdown",
   "metadata": {},
   "source": [
    "## P-values and Confidence Levels\n",
    "\n",
    "**Hypothesis Testing:** we designate a cutoff (5%) for the proportion of samples on one **tail** we consider **extreme**.\n",
    "\n",
    "**Confidence Intervals:** we design an interval with a confidence (95%) and consider samples that fall outside the interval (in the 5%) to be **extreme**\n",
    "\n",
    "It is possible that our sample was from the 5% of **extreme** samples (false positive)\n",
    "* This is why we **fail to reject**, not **accept**.\n",
    "\n",
    "<img src = 'distribution.jpg' width = 400/>"
   ]
  },
  {
   "cell_type": "markdown",
   "metadata": {},
   "source": [
    "## Testing\n",
    "\n",
    "### Step 1: Null and alternative hypotheses\n",
    "1. Null hypothesis indicates that the model holds (i.e. 50% of the balloons are red) and that any deviation from that model is due to random chance (not statistically significant).\n",
    "2. Alternative indicates what our belief is. For example:\n",
    "    * The proportion of red balloons is not 50%\n",
    "    * The proportion of red balloons is more/less than 50%"
   ]
  },
  {
   "cell_type": "markdown",
   "metadata": {},
   "source": [
    "### Step 2: Define test statistic\n",
    "* Any number can be computed from the sample\n",
    "* Choice depends on type of distribution (numerical or categorical) and our belief (distance or direction)\n",
    "\n",
    "#### Categorical\n",
    "1. One sample: TVD between model and sample\n",
    "2. Two samples: TVD between samples\n",
    "\n",
    "#### Numerical\n",
    "1. One sample: `mean`, `proportion`, `sum`, etc.\n",
    "2. Two samples: difference of `means`\n"
   ]
  },
  {
   "cell_type": "markdown",
   "metadata": {},
   "source": [
    "### Step 3: Distribution of / Interval for Statistic\n",
    "\n",
    "#### Hypothesis Testing\n",
    "Sample from the **model**. For example:\n",
    "* `['A' 'B']` if we think 50% of the population is `A`\n",
    "\n",
    "#### Confidence Intervals\n",
    "1. Bootstrap the original sample (i.e. `['A' 'A' 'A' 'A']), or\n",
    "2. Normal approximation by CLT ( $\\mu$ - 2 $\\frac{\\sigma}{\\sqrt{n}}$, $\\mu$ + 2 $\\frac{\\sigma}{\\sqrt{n}}$)"
   ]
  },
  {
   "cell_type": "markdown",
   "metadata": {},
   "source": [
    "### Step 4: Conclusion\n",
    "\n",
    "#### Hypothesis Testing\n",
    "Calculate `p-value` (the prop. of statistics in our **null distribution** that are as or more extreme than our observed) and reject / fail to reject based on the `p-value` cutoff.\n",
    "\n",
    "#### Confidence Interval\n",
    "Reject / fail to reject based on whether the value we wanted is in the interval"
   ]
  },
  {
   "cell_type": "markdown",
   "metadata": {},
   "source": [
    "## Special Case: Comparing Samples\n",
    "* When we have a sample with elements in one of 2 classes, we might want to see if **class causes some difference**\n",
    "    * Categorical Distribution: Permutation Testing\n",
    "    * Numerical Distribution:\n",
    "        * Bootstrapped Confidence Interval for Difference, or\n",
    "        * Permutation Testing \n",
    "\n",
    "For numerical distribution, we usually use Bootstrapped Confidence Interval for Difference since it allows us to make stronger statement and we can use it **as long as we meet the conditions for the bootstrap**.\n",
    "\n",
    "This can support **causation**, but if our original sample is not random, then our results can only show causation **within our sample**"
   ]
  },
  {
   "cell_type": "markdown",
   "metadata": {},
   "source": [
    "# Problems\n",
    "\n",
    "A senator of Oski University wants to know roughly how many people support her platforms. She believes that around 50% of students support her platforms; however, she doesn't know  how to best confirm her hypothesis. Therefore, she consults her 2 friends who are well versed in the field of data science to help her out.\n",
    "\n",
    "To test this hypothesis, her 2 friends take a random sample of 500 students in the university and ask each student whether they support the senator's platform. However, once they attain this sample, the 2 friends don't agree on the best approach to tackle this problem.\n",
    "\n",
    "1. The first believes that he should run a hypothesis test\n",
    "2. The second believes that he should use confidence intervals. \n",
    "\n",
    "They decided to try both approaches, starting with the hypothesis test, to see which one is better."
   ]
  },
  {
   "cell_type": "markdown",
   "metadata": {},
   "source": [
    "### Hypotheses\n",
    "\n",
    "#### Null\n",
    "50% of students in Oski University support her platform. Any observed deviation from this proportion is due to random chance.\n",
    "\n",
    "#### Alternative\n",
    "The true proportion of students who support her platform is not 50%."
   ]
  },
  {
   "cell_type": "markdown",
   "metadata": {},
   "source": [
    "### How can we use both hypothesis testing and confidence intervals?\n",
    "\n",
    "#### Hypothesis Testing:\n",
    "We define our model such that each person is a supporter with a 50% chance (e.g. `[0 1]`) and compare it against the proportion of supporters in a large sample\n",
    "\n",
    "#### Confidence Intervals:\n",
    "We bootstrap our sample, build confidence interval, and see if 50% is within the interval."
   ]
  },
  {
   "cell_type": "markdown",
   "metadata": {},
   "source": [
    "### Which Method is Better? and Why?\n",
    "Answer: **Confidence Intervals**\n",
    "\n",
    "Once we have a confidence interval, we will always have an interval for the true proportion of supporters, so we can easily answer future `yes/no` question about what the true proportion of supporters is.\n",
    "\n",
    "For example, with a confidence interval, we can easily check whether the true proportion of supporters is 60% just by checking if 60% is in the interval.\n",
    "\n",
    "For hypothesis testing, we would need to generate a distribution for each question since **our distribution is built under the null** (new question -> new null -> new distribution)"
   ]
  },
  {
   "cell_type": "markdown",
   "metadata": {},
   "source": [
    "## Problem 2\n",
    "\n",
    "2 students of Oski University, each pursuing different disciplines, argue about whether there is a difference in the IQ levels of the students within each of their fields of interest. To test this, they collect a sample of 1000 students of each discipline and record the IQ level of each student. They then decide to use this data to run a statistical test. Answer the following preliminary questions that the students asked themselves as they constructed and ran their test.\n",
    "\n",
    "Assume the sample is **large enough** and **randomly** selected."
   ]
  },
  {
   "cell_type": "markdown",
   "metadata": {},
   "source": [
    "### Hypotheses\n",
    "\n",
    "#### Null\n",
    "Regardless of field interest, there is no difference in IQ level of each student. Any observed difference is due to random chance.\n",
    "\n",
    "#### Alternative\n",
    "Choice of fields make a difference on the IQ level of an individual."
   ]
  },
  {
   "cell_type": "markdown",
   "metadata": {},
   "source": [
    "### What type of test should we run and why?\n",
    "\n",
    "#### Ans: Bootstrapped Confidence Interval for Difference in Means\n",
    "\n",
    "We are dealing with the difference between 2 numerical distributions, which means that we can use `difference of means` of the 2 distributions. Since our sample is large enough and **according to CLT, the difference of sample means is roughly normal**, we can use bootstrapping instead of a permutation test.\n",
    "\n",
    "Why is bootstrapping \"better\" than a permutation test?\n",
    "\n",
    "**Ans**: Same reason why confidence intervals are \"better\" than hypothesis tests.\n",
    "\n"
   ]
  },
  {
   "cell_type": "markdown",
   "metadata": {},
   "source": [
    "## Can the results of this test show causality amongst the entire population or just the sample?\n",
    "\n",
    "#### Answer: The Entire Population\n",
    "\n",
    "Since our original sample was **large and random**, the evidence of causation **can be attributed to the entire population**, not just the sample itself.\n",
    "\n",
    "In real life, this is rarely possible because generating a **truly random** sample is unlikely."
   ]
  }
 ],
 "metadata": {
  "kernelspec": {
   "display_name": "Python 3",
   "language": "python",
   "name": "python3"
  },
  "language_info": {
   "codemirror_mode": {
    "name": "ipython",
    "version": 3
   },
   "file_extension": ".py",
   "mimetype": "text/x-python",
   "name": "python",
   "nbconvert_exporter": "python",
   "pygments_lexer": "ipython3",
   "version": "3.7.2"
  }
 },
 "nbformat": 4,
 "nbformat_minor": 2
}
