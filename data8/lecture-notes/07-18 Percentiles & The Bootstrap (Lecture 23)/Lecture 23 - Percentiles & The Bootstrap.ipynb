{
 "cells": [
  {
   "cell_type": "code",
   "execution_count": 1,
   "metadata": {},
   "outputs": [],
   "source": [
    "from datascience import *\n",
    "import numpy as np\n",
    "%matplotlib inline\n",
    "import matplotlib.pyplot as plt\n",
    "plt.style.use('fivethirtyeight')\n",
    "\n",
    "from ipywidgets import interact, interactive, fixed, interact_manual\n",
    "import ipywidgets as widgets"
   ]
  },
  {
   "cell_type": "markdown",
   "metadata": {},
   "source": [
    "# Percentile\n",
    "In a set of numbers, sometimes we want to know which number is greater than most other numbers. In the case of `median`, the `median` is the middle number in a set, which is very useful for describing where most of the set is centered around."
   ]
  },
  {
   "cell_type": "markdown",
   "metadata": {},
   "source": [
    "## Computing Percentile\n",
    "In this class, we define `percentile` as:\n",
    "\n",
    "The 80th percentile is the value in a set that is at least as large as 80% of the elements in the set. For example, if we have the following set of numbers,"
   ]
  },
  {
   "cell_type": "code",
   "execution_count": 3,
   "metadata": {},
   "outputs": [],
   "source": [
    "s = [1, 7, 3, 9, 5]"
   ]
  },
  {
   "cell_type": "markdown",
   "metadata": {},
   "source": [
    "Then the 80th percentile is `7`, since `7` is the number that's at least as large as 4 out of 5 elements in the set. \n",
    "\n",
    "#### Another way of for computing the 80th percentile:\n",
    "\n",
    "$ \\frac{80}{100} \\times$ `size of set`. In this case, our set `s` has 5 elements, so $ \\frac{80}{100} \\times 5 = 4 $\n",
    "\n",
    "And thus, the 80th percentile is the 4th element of `s` ordered. An ordered `s` is [1, 3, 5, 7, 9] and the 4th element of `s` is 7.\n",
    "<img src = '80.jpg' width = 500/>\n",
    "\n",
    "If we ask for a percentile that does not exactly correspond to an element, take the next greater element instead. For example, the 81st percentile does not exactly correspond to any of the element in `s` and thus, we take the next element greater than `7`, which is `9`. We chose `9` because it is the only number that's at least as large as the 81% of `s`.\n",
    "\n",
    "We have actually used percentile before. The `median` is equal to the 50th percentile."
   ]
  },
  {
   "cell_type": "markdown",
   "metadata": {},
   "source": [
    "## The `percentile` Function\n",
    "Definition: the `p`th percentile is the value in a set that is at least as large as the `p`% of the elements in the set.\n",
    "\n",
    "The function `percentile` is available in the `datascience` module and thus, make sure to import `datascience` beforehand.\n",
    "\n",
    "The syntax of the `percentile` function is as the following,"
   ]
  },
  {
   "cell_type": "code",
   "execution_count": null,
   "metadata": {},
   "outputs": [],
   "source": [
    "percentile(p, values)"
   ]
  },
  {
   "cell_type": "markdown",
   "metadata": {},
   "source": [
    "where the argument `p` is a percentile number between 0 to 100, and the argument `values` is either an array or a list. The function returns the `p`th percentile of the array. If we try the percentile from the previous example, it will be as the following,"
   ]
  },
  {
   "cell_type": "code",
   "execution_count": 4,
   "metadata": {},
   "outputs": [
    {
     "data": {
      "text/plain": [
       "7"
      ]
     },
     "execution_count": 4,
     "metadata": {},
     "output_type": "execute_result"
    }
   ],
   "source": [
    "percentile(80, s)"
   ]
  },
  {
   "cell_type": "markdown",
   "metadata": {},
   "source": [
    "## Discussion Question\n",
    "Which of these are `True`, if `s` = [1, 7, 3, 9, 5]?"
   ]
  },
  {
   "cell_type": "code",
   "execution_count": 5,
   "metadata": {},
   "outputs": [
    {
     "data": {
      "text/plain": [
       "False"
      ]
     },
     "execution_count": 5,
     "metadata": {},
     "output_type": "execute_result"
    }
   ],
   "source": [
    "# Statement 1\n",
    "percentile(10, s) == 0"
   ]
  },
  {
   "cell_type": "markdown",
   "metadata": {},
   "source": [
    "The statement 1 above is `False`. The list `s` does not contain `0` at all, thus it is impossible to return `0`.\n",
    "\n",
    "The 10th percentile computes to the 1/2th element, which does not correspond to any element in `s`. Thus, we take the next greater element, the 1st element, which is 1."
   ]
  },
  {
   "cell_type": "code",
   "execution_count": 6,
   "metadata": {},
   "outputs": [
    {
     "data": {
      "text/plain": [
       "1"
      ]
     },
     "execution_count": 6,
     "metadata": {},
     "output_type": "execute_result"
    }
   ],
   "source": [
    "percentile(10, s)"
   ]
  },
  {
   "cell_type": "code",
   "execution_count": 7,
   "metadata": {},
   "outputs": [
    {
     "data": {
      "text/plain": [
       "True"
      ]
     },
     "execution_count": 7,
     "metadata": {},
     "output_type": "execute_result"
    }
   ],
   "source": [
    "# Statement 2\n",
    "percentile(39, s) == percentile(40, s)"
   ]
  },
  {
   "cell_type": "markdown",
   "metadata": {},
   "source": [
    "The statement 2 above is `True`. \n",
    "\n",
    "The 39th percentile computes to the 1.95th element, which does not correspond to any element in `s`. In this case, we take the next greater element, the 2nd element, which is `3`.\n",
    "\n",
    "The 40th percentile computes to the 2nd element, which is `3`."
   ]
  },
  {
   "cell_type": "code",
   "execution_count": 8,
   "metadata": {},
   "outputs": [
    {
     "data": {
      "text/plain": [
       "3"
      ]
     },
     "execution_count": 8,
     "metadata": {},
     "output_type": "execute_result"
    }
   ],
   "source": [
    "percentile(39, s)"
   ]
  },
  {
   "cell_type": "code",
   "execution_count": 9,
   "metadata": {},
   "outputs": [
    {
     "data": {
      "text/plain": [
       "3"
      ]
     },
     "execution_count": 9,
     "metadata": {},
     "output_type": "execute_result"
    }
   ],
   "source": [
    "percentile(40, s)"
   ]
  },
  {
   "cell_type": "code",
   "execution_count": 11,
   "metadata": {},
   "outputs": [
    {
     "data": {
      "text/plain": [
       "False"
      ]
     },
     "execution_count": 11,
     "metadata": {},
     "output_type": "execute_result"
    }
   ],
   "source": [
    "# Statement 3\n",
    "percentile(40, s) == percentile(41, s)"
   ]
  },
  {
   "cell_type": "markdown",
   "metadata": {},
   "source": [
    "The statement 3 above is `False`.\n",
    "\n",
    "From statement 2, we know that the 40th percentile is `3`.\n",
    "\n",
    "The 41th percentile does not correspond to any element in `s`, and on the same time is greater than the 40th percentile. Thus, it has to be the next greater element after `3`, which is `5`."
   ]
  },
  {
   "cell_type": "code",
   "execution_count": 10,
   "metadata": {},
   "outputs": [
    {
     "data": {
      "text/plain": [
       "5"
      ]
     },
     "execution_count": 10,
     "metadata": {},
     "output_type": "execute_result"
    }
   ],
   "source": [
    "percentile(41, s)"
   ]
  },
  {
   "cell_type": "code",
   "execution_count": 12,
   "metadata": {},
   "outputs": [
    {
     "data": {
      "text/plain": [
       "True"
      ]
     },
     "execution_count": 12,
     "metadata": {},
     "output_type": "execute_result"
    }
   ],
   "source": [
    "# Statement 4\n",
    "percentile(50, s) == 5"
   ]
  },
  {
   "cell_type": "markdown",
   "metadata": {},
   "source": [
    "The statement 5 above is `True`. The 50th percentile computes to the 2.5th element in the array, which does not exactly correspond to any of the element in `s`. Thus, we take the next greater element, which is the 3rd element, `5`."
   ]
  },
  {
   "cell_type": "markdown",
   "metadata": {},
   "source": [
    "# Estimation (Review)\n",
    "We will briefly recap about estimation."
   ]
  },
  {
   "cell_type": "markdown",
   "metadata": {},
   "source": [
    "## Inference: Estimation\n",
    "In estimation, we want to ask: \"How big is an unknown parameter?\". In the warplanes example, when we want to figure out how many warplanes Germany had, we asked, \"How many warplanes are there\". \n",
    "\n",
    "There are 2 ways of answering this kind of question, depending on whether we have a whole population.\n",
    "1. If we have the whole population / census, we just calculate the `parameter` and then we're done (without having to calculate probability, statistics, etc.)\n",
    "\n",
    "\n",
    "2. Unfortunately most of the time we won't have access to the whole population. Instead, we'll only have a sample. However, we can use the sample to find something about the population. The idea of statistical inference is being able to take that sample and draw conclusion about the population without having access to population. In this case:\n",
    "    * Take a random sample from the population\n",
    "    * Use the sample and a statistic to **estimate** the parameter (something of interest) in the population"
   ]
  },
  {
   "cell_type": "markdown",
   "metadata": {},
   "source": [
    "## Demo\n",
    "Below we have a table containing public services in San Francisco."
   ]
  },
  {
   "cell_type": "code",
   "execution_count": 2,
   "metadata": {},
   "outputs": [
    {
     "data": {
      "text/html": [
       "<table border=\"1\" class=\"dataframe\">\n",
       "    <thead>\n",
       "        <tr>\n",
       "            <th>Year Type</th> <th>Year</th> <th>Organization Group Code</th> <th>Organization Group</th> <th>Department Code</th> <th>Department</th> <th>Union Code</th> <th>Union</th> <th>Job Family Code</th> <th>Job Family</th> <th>Job Code</th> <th>Job</th> <th>Employee Identifier</th> <th>Salaries</th> <th>Overtime</th> <th>Other Salaries</th> <th>Total Salary</th> <th>Retirement</th> <th>Health/Dental</th> <th>Other Benefits</th> <th>Total Benefits</th> <th>Total Compensation</th>\n",
       "        </tr>\n",
       "    </thead>\n",
       "    <tbody>\n",
       "        <tr>\n",
       "            <td>Calendar </td> <td>2015</td> <td>2                      </td> <td>Public Works, Transportation & Commerce </td> <td>WTR            </td> <td>PUC Water Department                  </td> <td>21        </td> <td>Prof & Tech Engineers - Miscellaneous, Local 21   </td> <td>2400           </td> <td>Lab, Pharmacy & Med Techs    </td> <td>2481    </td> <td>Water Qualitytech I/II        </td> <td>21538              </td> <td>82146   </td> <td>0       </td> <td>0             </td> <td>82146       </td> <td>16942.2   </td> <td>12340.9      </td> <td>6337.73       </td> <td>35620.8       </td> <td>117767            </td>\n",
       "        </tr>\n",
       "        <tr>\n",
       "            <td>Calendar </td> <td>2015</td> <td>2                      </td> <td>Public Works, Transportation & Commerce </td> <td>DPW            </td> <td>General Services Agency - Public Works</td> <td>12        </td> <td>Carpet, Linoleum and Soft Tile Workers, Local 12  </td> <td>7300           </td> <td>Journeyman Trade             </td> <td>7393    </td> <td>Soft Floor Coverer            </td> <td>5459               </td> <td>32165.8 </td> <td>973.19  </td> <td>848.96        </td> <td>33987.9     </td> <td>0         </td> <td>4587.51      </td> <td>2634.42       </td> <td>7221.93       </td> <td>41209.8           </td>\n",
       "        </tr>\n",
       "        <tr>\n",
       "            <td>Calendar </td> <td>2015</td> <td>4                      </td> <td>Community Health                        </td> <td>DPH            </td> <td>Public Health                         </td> <td>790       </td> <td>SEIU - Miscellaneous, Local 1021                  </td> <td>1600           </td> <td>Payroll, Billing & Accounting</td> <td>1636    </td> <td>Health Care Billing Clerk 2   </td> <td>41541              </td> <td>71311   </td> <td>5757.98 </td> <td>0             </td> <td>77069       </td> <td>14697.6   </td> <td>12424.5      </td> <td>6370.06       </td> <td>33492.2       </td> <td>110561            </td>\n",
       "        </tr>\n",
       "        <tr>\n",
       "            <td>Calendar </td> <td>2015</td> <td>4                      </td> <td>Community Health                        </td> <td>DPH            </td> <td>Public Health                         </td> <td>351       </td> <td>Municipal Executive Association - Miscellaneous   </td> <td>0900           </td> <td>Management                   </td> <td>2620    </td> <td>Food Service Mgr Administrator</td> <td>26718              </td> <td>28430.2 </td> <td>0       </td> <td>763.07        </td> <td>29193.3     </td> <td>0         </td> <td>4223.14      </td> <td>5208.51       </td> <td>9431.65       </td> <td>38625             </td>\n",
       "        </tr>\n",
       "        <tr>\n",
       "            <td>Calendar </td> <td>2015</td> <td>2                      </td> <td>Public Works, Transportation & Commerce </td> <td>MTA            </td> <td>Municipal Transportation Agency       </td> <td>790       </td> <td>SEIU - Miscellaneous, Local 1021                  </td> <td>8200           </td> <td>Protection & Apprehension    </td> <td>8201    </td> <td>School Crossing Guard         </td> <td>45810              </td> <td>7948.75 </td> <td>0       </td> <td>0             </td> <td>7948.75     </td> <td>0         </td> <td>2873.17      </td> <td>616.24        </td> <td>3489.41       </td> <td>11438.2           </td>\n",
       "        </tr>\n",
       "        <tr>\n",
       "            <td>Calendar </td> <td>2015</td> <td>1                      </td> <td>Public Protection                       </td> <td>POL            </td> <td>Police                                </td> <td>911       </td> <td>Police Officers' Association                      </td> <td>Q000           </td> <td>Police Services              </td> <td>Q002    </td> <td>Police Officer                </td> <td>32906              </td> <td>2235    </td> <td>0       </td> <td>0             </td> <td>2235        </td> <td>490.36    </td> <td>286.72       </td> <td>176.57        </td> <td>953.65        </td> <td>3188.65           </td>\n",
       "        </tr>\n",
       "        <tr>\n",
       "            <td>Calendar </td> <td>2015</td> <td>4                      </td> <td>Community Health                        </td> <td>DPH            </td> <td>Public Health                         </td> <td>791       </td> <td>SEIU - Staff and Per Diem Nurses, Local 1021      </td> <td>2300           </td> <td>Nursing                      </td> <td>2328    </td> <td>Nurse Practitioner            </td> <td>7506               </td> <td>187247  </td> <td>0       </td> <td>11704.1       </td> <td>198951      </td> <td>37683.7   </td> <td>12424.5      </td> <td>11221.7       </td> <td>61329.9       </td> <td>260281            </td>\n",
       "        </tr>\n",
       "        <tr>\n",
       "            <td>Calendar </td> <td>2015</td> <td>2                      </td> <td>Public Works, Transportation & Commerce </td> <td>MTA            </td> <td>Municipal Transportation Agency       </td> <td>253       </td> <td>Transport Workers - Transit Operators, Local 250-A</td> <td>9100           </td> <td>Street Transit               </td> <td>9163    </td> <td>Transit Operator              </td> <td>36773              </td> <td>66988.5 </td> <td>3512.88 </td> <td>2770.39       </td> <td>73271.8     </td> <td>19127.2   </td> <td>13203        </td> <td>5455.1        </td> <td>37785.3       </td> <td>111057            </td>\n",
       "        </tr>\n",
       "        <tr>\n",
       "            <td>Calendar </td> <td>2015</td> <td>6                      </td> <td>General Administration & Finance        </td> <td>CAT            </td> <td>City Attorney                         </td> <td>311       </td> <td>Municipal Attorneys' Association                  </td> <td>8100           </td> <td>Legal & Court                </td> <td>8177    </td> <td>Attorney (Civil/Criminal)     </td> <td>12963              </td> <td>135190  </td> <td>0       </td> <td>1562.5        </td> <td>136752      </td> <td>27501.8   </td> <td>12424.5      </td> <td>10103         </td> <td>50029.3       </td> <td>186781            </td>\n",
       "        </tr>\n",
       "        <tr>\n",
       "            <td>Calendar </td> <td>2015</td> <td>3                      </td> <td>Human Welfare & Neighborhood Development</td> <td>DSS            </td> <td>Human Services                        </td> <td>535       </td> <td>SEIU - Human Services, Local 1021                 </td> <td>9700           </td> <td>Community Development        </td> <td>9703    </td> <td>Emp & Training Spec 2         </td> <td>35179              </td> <td>70474.8 </td> <td>147.28  </td> <td>1647.24       </td> <td>72269.3     </td> <td>14650.3   </td> <td>10696.9      </td> <td>5993.11       </td> <td>31340.3       </td> <td>103610            </td>\n",
       "        </tr>\n",
       "    </tbody>\n",
       "</table>\n",
       "<p>... (42979 rows omitted)</p>"
      ],
      "text/plain": [
       "Year Type | Year | Organization Group Code | Organization Group                       | Department Code | Department                             | Union Code | Union                                              | Job Family Code | Job Family                    | Job Code | Job                            | Employee Identifier | Salaries | Overtime | Other Salaries | Total Salary | Retirement | Health/Dental | Other Benefits | Total Benefits | Total Compensation\n",
       "Calendar  | 2015 | 2                       | Public Works, Transportation & Commerce  | WTR             | PUC Water Department                   | 21         | Prof & Tech Engineers - Miscellaneous, Local 21    | 2400            | Lab, Pharmacy & Med Techs     | 2481     | Water Qualitytech I/II         | 21538               | 82146    | 0        | 0              | 82146        | 16942.2    | 12340.9       | 6337.73        | 35620.8        | 117767\n",
       "Calendar  | 2015 | 2                       | Public Works, Transportation & Commerce  | DPW             | General Services Agency - Public Works | 12         | Carpet, Linoleum and Soft Tile Workers, Local 12   | 7300            | Journeyman Trade              | 7393     | Soft Floor Coverer             | 5459                | 32165.8  | 973.19   | 848.96         | 33987.9      | 0          | 4587.51       | 2634.42        | 7221.93        | 41209.8\n",
       "Calendar  | 2015 | 4                       | Community Health                         | DPH             | Public Health                          | 790        | SEIU - Miscellaneous, Local 1021                   | 1600            | Payroll, Billing & Accounting | 1636     | Health Care Billing Clerk 2    | 41541               | 71311    | 5757.98  | 0              | 77069        | 14697.6    | 12424.5       | 6370.06        | 33492.2        | 110561\n",
       "Calendar  | 2015 | 4                       | Community Health                         | DPH             | Public Health                          | 351        | Municipal Executive Association - Miscellaneous    | 0900            | Management                    | 2620     | Food Service Mgr Administrator | 26718               | 28430.2  | 0        | 763.07         | 29193.3      | 0          | 4223.14       | 5208.51        | 9431.65        | 38625\n",
       "Calendar  | 2015 | 2                       | Public Works, Transportation & Commerce  | MTA             | Municipal Transportation Agency        | 790        | SEIU - Miscellaneous, Local 1021                   | 8200            | Protection & Apprehension     | 8201     | School Crossing Guard          | 45810               | 7948.75  | 0        | 0              | 7948.75      | 0          | 2873.17       | 616.24         | 3489.41        | 11438.2\n",
       "Calendar  | 2015 | 1                       | Public Protection                        | POL             | Police                                 | 911        | Police Officers' Association                       | Q000            | Police Services               | Q002     | Police Officer                 | 32906               | 2235     | 0        | 0              | 2235         | 490.36     | 286.72        | 176.57         | 953.65         | 3188.65\n",
       "Calendar  | 2015 | 4                       | Community Health                         | DPH             | Public Health                          | 791        | SEIU - Staff and Per Diem Nurses, Local 1021       | 2300            | Nursing                       | 2328     | Nurse Practitioner             | 7506                | 187247   | 0        | 11704.1        | 198951       | 37683.7    | 12424.5       | 11221.7        | 61329.9        | 260281\n",
       "Calendar  | 2015 | 2                       | Public Works, Transportation & Commerce  | MTA             | Municipal Transportation Agency        | 253        | Transport Workers - Transit Operators, Local 250-A | 9100            | Street Transit                | 9163     | Transit Operator               | 36773               | 66988.5  | 3512.88  | 2770.39        | 73271.8      | 19127.2    | 13203         | 5455.1         | 37785.3        | 111057\n",
       "Calendar  | 2015 | 6                       | General Administration & Finance         | CAT             | City Attorney                          | 311        | Municipal Attorneys' Association                   | 8100            | Legal & Court                 | 8177     | Attorney (Civil/Criminal)      | 12963               | 135190   | 0        | 1562.5         | 136752       | 27501.8    | 12424.5       | 10103          | 50029.3        | 186781\n",
       "Calendar  | 2015 | 3                       | Human Welfare & Neighborhood Development | DSS             | Human Services                         | 535        | SEIU - Human Services, Local 1021                  | 9700            | Community Development         | 9703     | Emp & Training Spec 2          | 35179               | 70474.8  | 147.28   | 1647.24        | 72269.3      | 14650.3    | 10696.9       | 5993.11        | 31340.3        | 103610\n",
       "... (42979 rows omitted)"
      ]
     },
     "execution_count": 2,
     "metadata": {},
     "output_type": "execute_result"
    }
   ],
   "source": [
    "sf = Table.read_table('san_francisco_2015.csv')\n",
    "sf"
   ]
  },
  {
   "cell_type": "markdown",
   "metadata": {},
   "source": [
    "We'll filter the table above to `Organization Group`, `Job`, and `Total Compensation`. On top of that, we are interested in full-time workers, so we filter out the part-time workers and contractors by filtering out the table so that it only contains employees that had `Total Compensation` above 10,000 US Dollars."
   ]
  },
  {
   "cell_type": "code",
   "execution_count": 3,
   "metadata": {},
   "outputs": [
    {
     "data": {
      "text/html": [
       "<table border=\"1\" class=\"dataframe\">\n",
       "    <thead>\n",
       "        <tr>\n",
       "            <th>Organization Group</th> <th>Job</th> <th>Total Compensation</th>\n",
       "        </tr>\n",
       "    </thead>\n",
       "    <tbody>\n",
       "        <tr>\n",
       "            <td>Public Works, Transportation & Commerce</td> <td>Water Qualitytech I/II     </td> <td>117,767           </td>\n",
       "        </tr>\n",
       "        <tr>\n",
       "            <td>Public Works, Transportation & Commerce</td> <td>Soft Floor Coverer         </td> <td>41,210            </td>\n",
       "        </tr>\n",
       "        <tr>\n",
       "            <td>Community Health                       </td> <td>Health Care Billing Clerk 2</td> <td>110,561           </td>\n",
       "        </tr>\n",
       "    </tbody>\n",
       "</table>\n",
       "<p>... (38214 rows omitted)</p>"
      ],
      "text/plain": [
       "<IPython.core.display.HTML object>"
      ]
     },
     "metadata": {},
     "output_type": "display_data"
    }
   ],
   "source": [
    "sf = sf.select(3, 11, 21)\n",
    "sf.set_format(2, NumberFormatter(0))\n",
    "sf = sf.where(2, are.above(10000))\n",
    "sf.show(3)"
   ]
  },
  {
   "cell_type": "markdown",
   "metadata": {},
   "source": [
    "We can sort the table above in descending order to see the first few positions that made the most,"
   ]
  },
  {
   "cell_type": "code",
   "execution_count": 4,
   "metadata": {},
   "outputs": [
    {
     "data": {
      "text/html": [
       "<table border=\"1\" class=\"dataframe\">\n",
       "    <thead>\n",
       "        <tr>\n",
       "            <th>Organization Group</th> <th>Job</th> <th>Total Compensation</th>\n",
       "        </tr>\n",
       "    </thead>\n",
       "    <tbody>\n",
       "        <tr>\n",
       "            <td>General Administration & Finance       </td> <td>Chief Investment Officer   </td> <td>648,875           </td>\n",
       "        </tr>\n",
       "        <tr>\n",
       "            <td>General Administration & Finance       </td> <td>Asst Med Examiner          </td> <td>480,509           </td>\n",
       "        </tr>\n",
       "        <tr>\n",
       "            <td>General Administration & Finance       </td> <td>Asst Med Examiner          </td> <td>427,219           </td>\n",
       "        </tr>\n",
       "        <tr>\n",
       "            <td>Public Works, Transportation & Commerce</td> <td>Dept Head V                </td> <td>426,686           </td>\n",
       "        </tr>\n",
       "        <tr>\n",
       "            <td>Community Health                       </td> <td>Adm, SFGH Medical Center   </td> <td>422,800           </td>\n",
       "        </tr>\n",
       "        <tr>\n",
       "            <td>Public Protection                      </td> <td>Chief, Fire Department     </td> <td>418,844           </td>\n",
       "        </tr>\n",
       "        <tr>\n",
       "            <td>Public Works, Transportation & Commerce</td> <td>Executive Contract Employee</td> <td>417,848           </td>\n",
       "        </tr>\n",
       "        <tr>\n",
       "            <td>Community Health                       </td> <td>Senior Physician Specialist</td> <td>415,457           </td>\n",
       "        </tr>\n",
       "        <tr>\n",
       "            <td>Public Protection                      </td> <td>Chief Of Police            </td> <td>414,791           </td>\n",
       "        </tr>\n",
       "        <tr>\n",
       "            <td>Public Works, Transportation & Commerce</td> <td>Gen Mgr, Public Trnsp Dept </td> <td>405,050           </td>\n",
       "        </tr>\n",
       "    </tbody>\n",
       "</table>\n",
       "<p>... (38207 rows omitted)</p>"
      ],
      "text/plain": [
       "Organization Group                      | Job                         | Total Compensation\n",
       "General Administration & Finance        | Chief Investment Officer    | 648,875\n",
       "General Administration & Finance        | Asst Med Examiner           | 480,509\n",
       "General Administration & Finance        | Asst Med Examiner           | 427,219\n",
       "Public Works, Transportation & Commerce | Dept Head V                 | 426,686\n",
       "Community Health                        | Adm, SFGH Medical Center    | 422,800\n",
       "Public Protection                       | Chief, Fire Department      | 418,844\n",
       "Public Works, Transportation & Commerce | Executive Contract Employee | 417,848\n",
       "Community Health                        | Senior Physician Specialist | 415,457\n",
       "Public Protection                       | Chief Of Police             | 414,791\n",
       "Public Works, Transportation & Commerce | Gen Mgr, Public Trnsp Dept  | 405,050\n",
       "... (38207 rows omitted)"
      ]
     },
     "execution_count": 4,
     "metadata": {},
     "output_type": "execute_result"
    }
   ],
   "source": [
    "sf.sort('Total Compensation', descending = True)"
   ]
  },
  {
   "cell_type": "markdown",
   "metadata": {},
   "source": [
    "And we can create a histogram to visualize the distribution of the total compensation above,"
   ]
  },
  {
   "cell_type": "code",
   "execution_count": 5,
   "metadata": {},
   "outputs": [
    {
     "data": {
      "image/png": "[encoded data removed]",
      "text/plain": [
       "<Figure size 432x288 with 1 Axes>"
      ]
     },
     "metadata": {},
     "output_type": "display_data"
    }
   ],
   "source": [
    "sf.hist('Total Compensation')"
   ]
  },
  {
   "cell_type": "markdown",
   "metadata": {},
   "source": [
    "The histogram above doesn't look enough detailed for us to obtain information. We can make the histogram more detailed with the following,"
   ]
  },
  {
   "cell_type": "code",
   "execution_count": 6,
   "metadata": {},
   "outputs": [
    {
     "data": {
      "image/png": "[encoded data removed]",
      "text/plain": [
       "<Figure size 432x288 with 1 Axes>"
      ]
     },
     "metadata": {},
     "output_type": "display_data"
    }
   ],
   "source": [
    "comp_bins = np.arange(0, 700000, 25000)\n",
    "sf.hist(2, bins=comp_bins, unit='dollar')"
   ]
  },
  {
   "cell_type": "markdown",
   "metadata": {},
   "source": [
    "Above, we can see that most people in the data made around 100k, while the Chief Investment Officer alone made a lot more, close to 650k! \n",
    "\n",
    "The data above is the entire population of public service workers in San Francisco. This data is available for everyone to access because of some Data Act. \n",
    "\n",
    "However, what if we don't have access to this whole population? What if we only have a sample (without replacement) of 200 workers? Let's name this sample `sample_from_population`."
   ]
  },
  {
   "cell_type": "code",
   "execution_count": 7,
   "metadata": {},
   "outputs": [
    {
     "data": {
      "text/html": [
       "<table border=\"1\" class=\"dataframe\">\n",
       "    <thead>\n",
       "        <tr>\n",
       "            <th>Organization Group</th> <th>Job</th> <th>Total Compensation</th>\n",
       "        </tr>\n",
       "    </thead>\n",
       "    <tbody>\n",
       "        <tr>\n",
       "            <td>Public Works, Transportation & Commerce</td> <td>Transit Operator             </td> <td>108,135           </td>\n",
       "        </tr>\n",
       "        <tr>\n",
       "            <td>Public Works, Transportation & Commerce</td> <td>Senior Water Services Clerk  </td> <td>103,613           </td>\n",
       "        </tr>\n",
       "        <tr>\n",
       "            <td>Public Works, Transportation & Commerce</td> <td>Transit Operator             </td> <td>56,653            </td>\n",
       "        </tr>\n",
       "        <tr>\n",
       "            <td>General Administration & Finance       </td> <td>Dept Head II                 </td> <td>260,988           </td>\n",
       "        </tr>\n",
       "        <tr>\n",
       "            <td>Public Works, Transportation & Commerce</td> <td>Automotive Service Worker    </td> <td>113,390           </td>\n",
       "        </tr>\n",
       "        <tr>\n",
       "            <td>Culture & Recreation                   </td> <td>Operating Engineer, Universal</td> <td>152,028           </td>\n",
       "        </tr>\n",
       "        <tr>\n",
       "            <td>Public Protection                      </td> <td>Deputy Sheriff               </td> <td>161,140           </td>\n",
       "        </tr>\n",
       "        <tr>\n",
       "            <td>Public Works, Transportation & Commerce</td> <td>Transit Operator             </td> <td>53,569            </td>\n",
       "        </tr>\n",
       "        <tr>\n",
       "            <td>Public Works, Transportation & Commerce</td> <td>Engineer                     </td> <td>185,170           </td>\n",
       "        </tr>\n",
       "        <tr>\n",
       "            <td>Public Works, Transportation & Commerce</td> <td>Parking Control Officer      </td> <td>15,438            </td>\n",
       "        </tr>\n",
       "    </tbody>\n",
       "</table>\n",
       "<p>... (190 rows omitted)</p>"
      ],
      "text/plain": [
       "Organization Group                      | Job                           | Total Compensation\n",
       "Public Works, Transportation & Commerce | Transit Operator              | 108,135\n",
       "Public Works, Transportation & Commerce | Senior Water Services Clerk   | 103,613\n",
       "Public Works, Transportation & Commerce | Transit Operator              | 56,653\n",
       "General Administration & Finance        | Dept Head II                  | 260,988\n",
       "Public Works, Transportation & Commerce | Automotive Service Worker     | 113,390\n",
       "Culture & Recreation                    | Operating Engineer, Universal | 152,028\n",
       "Public Protection                       | Deputy Sheriff                | 161,140\n",
       "Public Works, Transportation & Commerce | Transit Operator              | 53,569\n",
       "Public Works, Transportation & Commerce | Engineer                      | 185,170\n",
       "Public Works, Transportation & Commerce | Parking Control Officer       | 15,438\n",
       "... (190 rows omitted)"
      ]
     },
     "execution_count": 7,
     "metadata": {},
     "output_type": "execute_result"
    }
   ],
   "source": [
    "sample_from_population = sf.sample(200, with_replacement = False)\n",
    "sample_from_population"
   ]
  },
  {
   "cell_type": "markdown",
   "metadata": {},
   "source": [
    "What if we want to know the `median` of the Total Compensation of our sample?"
   ]
  },
  {
   "cell_type": "code",
   "execution_count": 8,
   "metadata": {},
   "outputs": [
    {
     "data": {
      "text/plain": [
       "109311.70999999999"
      ]
     },
     "execution_count": 8,
     "metadata": {},
     "output_type": "execute_result"
    }
   ],
   "source": [
    "np.median(sample_from_population.column('Total Compensation'))"
   ]
  },
  {
   "cell_type": "markdown",
   "metadata": {},
   "source": [
    "The number above looks suspicious. Is this also the population's median? We don't know.\n",
    "If we run the `sample_from_population` cell multiple times, we obtain different samples, and those different samples would give us different medians. We don't know which of those medians are the good one."
   ]
  },
  {
   "cell_type": "markdown",
   "metadata": {},
   "source": [
    "## Variability of the Estimate\n",
    "If we only have one sample, we can only compute one estimate. And thus, if there are 200 employees in our sample, we can only get a `median` of that sample of 200.\n",
    "\n",
    "However, if we have another random sample of 200, we could have obtained a different `median`.\n",
    "\n",
    "The main question is:\n",
    "#### How different could the estimate have been?\n",
    "Is our sampling procedure likely to give us something that is close to the population median?\n",
    "\n",
    "If we take multiple samples and compute each of the medians, and obtain medians of a range 100-103k, we might be able to say that the population median is somewhere within that range. However, if it turned out that we obtained a bad sample (e.g. one of the employee made 5k as total compensation), then we might obtain a far lower median.\n",
    "\n",
    "\"How accurate of an estimate can we obtain from the sample?\"\n",
    "\n",
    "The variability of the estimate tells us something about how accurate the estimate (e.g. `median`) is."
   ]
  },
  {
   "cell_type": "markdown",
   "metadata": {},
   "source": [
    "## Demo\n",
    "If we run the cell below multiple times,"
   ]
  },
  {
   "cell_type": "code",
   "execution_count": 9,
   "metadata": {},
   "outputs": [
    {
     "data": {
      "text/plain": [
       "108248.41"
      ]
     },
     "execution_count": 9,
     "metadata": {},
     "output_type": "execute_result"
    }
   ],
   "source": [
    "sample_from_population = sf.sample(200, with_replacement = False)\n",
    "np.median(sample_from_population.column('Total Compensation'))"
   ]
  },
  {
   "cell_type": "markdown",
   "metadata": {},
   "source": [
    "With each different samples of 200, we can obtain different medians. However, we want to know the range of these medians. How low or high the median can be? Is our sample procedure accurate?"
   ]
  },
  {
   "cell_type": "markdown",
   "metadata": {},
   "source": [
    "## Aside: Lists and Append\n",
    "Off topic, we will cover about **appending to lists**. All this time, we use `np.append` to append an element to an array."
   ]
  },
  {
   "cell_type": "code",
   "execution_count": 10,
   "metadata": {},
   "outputs": [
    {
     "data": {
      "text/plain": [
       "array([2, 3, 4])"
      ]
     },
     "execution_count": 10,
     "metadata": {},
     "output_type": "execute_result"
    }
   ],
   "source": [
    "a = make_array(2, 3, 4)\n",
    "a"
   ]
  },
  {
   "cell_type": "code",
   "execution_count": 11,
   "metadata": {},
   "outputs": [
    {
     "data": {
      "text/plain": [
       "array([2, 3, 4, 5])"
      ]
     },
     "execution_count": 11,
     "metadata": {},
     "output_type": "execute_result"
    }
   ],
   "source": [
    "np.append(a, 5)"
   ]
  },
  {
   "cell_type": "markdown",
   "metadata": {},
   "source": [
    "However, `a` is unchanged! Remember that we need to reassign `a` in order to change `a`."
   ]
  },
  {
   "cell_type": "code",
   "execution_count": 12,
   "metadata": {},
   "outputs": [
    {
     "data": {
      "text/plain": [
       "array([2, 3, 4])"
      ]
     },
     "execution_count": 12,
     "metadata": {},
     "output_type": "execute_result"
    }
   ],
   "source": [
    "a"
   ]
  },
  {
   "cell_type": "markdown",
   "metadata": {},
   "source": [
    "Meanwhile, `List`s also have an `append` method. However, `List`s `append` method changes the original `list`."
   ]
  },
  {
   "cell_type": "code",
   "execution_count": 13,
   "metadata": {},
   "outputs": [
    {
     "data": {
      "text/plain": [
       "[2, 3, 4]"
      ]
     },
     "execution_count": 13,
     "metadata": {},
     "output_type": "execute_result"
    }
   ],
   "source": [
    "b = [2, 3, 4]\n",
    "b"
   ]
  },
  {
   "cell_type": "code",
   "execution_count": 14,
   "metadata": {},
   "outputs": [],
   "source": [
    "b.append(5)"
   ]
  },
  {
   "cell_type": "code",
   "execution_count": 15,
   "metadata": {},
   "outputs": [
    {
     "data": {
      "text/plain": [
       "[2, 3, 4, 5]"
      ]
     },
     "execution_count": 15,
     "metadata": {},
     "output_type": "execute_result"
    }
   ],
   "source": [
    "b"
   ]
  },
  {
   "cell_type": "markdown",
   "metadata": {},
   "source": [
    "Above `append` method is different from `np.append` method. "
   ]
  },
  {
   "cell_type": "markdown",
   "metadata": {},
   "source": [
    "## Back to Main Topic\n",
    "If we take more samples from the population, what is a range of the `median` that we can expect?\n",
    "\n",
    "Let's start with taking a sample of 200 once again and compute its `median`."
   ]
  },
  {
   "cell_type": "code",
   "execution_count": 16,
   "metadata": {},
   "outputs": [
    {
     "data": {
      "text/plain": [
       "108189.055"
      ]
     },
     "execution_count": 16,
     "metadata": {},
     "output_type": "execute_result"
    }
   ],
   "source": [
    "sample_from_population = sf.sample(200, with_replacement = False)\n",
    "np.median(sample_from_population.column('Total Compensation'))"
   ]
  },
  {
   "cell_type": "markdown",
   "metadata": {},
   "source": [
    "We can put the code above in a loop so that we can see the variation of the `median`."
   ]
  },
  {
   "cell_type": "code",
   "execution_count": 17,
   "metadata": {},
   "outputs": [
    {
     "data": {
      "text/plain": [
       "[104999.905,\n",
       " 102905.86,\n",
       " 111027.92499999999,\n",
       " 107102.95999999999,\n",
       " 117189.175,\n",
       " 119719.185,\n",
       " 107528.965,\n",
       " 107596.36,\n",
       " 107571.9,\n",
       " 104754.65,\n",
       " 107771.13500000001,\n",
       " 99798.655,\n",
       " 101003.72,\n",
       " 94888.9,\n",
       " 105982.38,\n",
       " 106964.34,\n",
       " 108212.755,\n",
       " 108862.61499999999,\n",
       " 104302.465,\n",
       " 115493.73,\n",
       " 104210.3,\n",
       " 109504.58499999999,\n",
       " 109118.505,\n",
       " 102664.595,\n",
       " 108340.405,\n",
       " 109636.88500000001,\n",
       " 105863.83,\n",
       " 105623.82,\n",
       " 107237.68,\n",
       " 98535.215,\n",
       " 106952.005,\n",
       " 103513.53,\n",
       " 105225.79999999999,\n",
       " 108707.34,\n",
       " 111610.60500000001,\n",
       " 103353.47,\n",
       " 109070.81,\n",
       " 99709.10500000001,\n",
       " 105565.505,\n",
       " 109043.71,\n",
       " 105412.655,\n",
       " 97271.09,\n",
       " 111851.83499999999,\n",
       " 106724.37,\n",
       " 111778.44,\n",
       " 105024.93,\n",
       " 98834.14499999999,\n",
       " 104325.075,\n",
       " 110964.14,\n",
       " 106440.38,\n",
       " 118716.04999999999,\n",
       " 109447.93,\n",
       " 97843.9,\n",
       " 108576.32500000001,\n",
       " 111749.375,\n",
       " 109617.32,\n",
       " 107932.77,\n",
       " 111794.23499999999,\n",
       " 109524.45499999999,\n",
       " 105971.39,\n",
       " 114505.73999999999,\n",
       " 107928.465,\n",
       " 107418.15,\n",
       " 101104.755,\n",
       " 104051.645,\n",
       " 108110.67,\n",
       " 107548.45999999999,\n",
       " 109584.86499999999,\n",
       " 107467.105,\n",
       " 108671.32500000001,\n",
       " 108858.62,\n",
       " 110170.58499999999,\n",
       " 114229.305,\n",
       " 109372.41500000001,\n",
       " 110338.255,\n",
       " 109755.24,\n",
       " 107977.33,\n",
       " 107870.54999999999,\n",
       " 107708.61499999999,\n",
       " 109659.1,\n",
       " 110195.86,\n",
       " 106196.845,\n",
       " 110012.9,\n",
       " 109403.45499999999,\n",
       " 100674.39499999999,\n",
       " 101339.005,\n",
       " 105339.45499999999,\n",
       " 100334.05,\n",
       " 107372.34,\n",
       " 95727.315,\n",
       " 108066.925,\n",
       " 102302.735,\n",
       " 109619.175,\n",
       " 107436.465,\n",
       " 98532.56,\n",
       " 106156.69,\n",
       " 111496.255,\n",
       " 114480.535,\n",
       " 102394.48000000001,\n",
       " 103136.225]"
      ]
     },
     "execution_count": 17,
     "metadata": {},
     "output_type": "execute_result"
    }
   ],
   "source": [
    "repetitions = 100\n",
    "medians = [] # This time we use a list!\n",
    "\n",
    "for i in np.arange(repetitions):\n",
    "    sample_from_population = sf.sample(200, with_replacement = False)\n",
    "    # Since we use a list, the 'append' method is different from what we have used in the past\n",
    "    medians.append(np.median(sample_from_population.column('Total Compensation'))) \n",
    "    \n",
    "medians"
   ]
  },
  {
   "cell_type": "markdown",
   "metadata": {},
   "source": [
    "Then let's make a table out of the `median`s above."
   ]
  },
  {
   "cell_type": "code",
   "execution_count": 18,
   "metadata": {},
   "outputs": [
    {
     "data": {
      "text/html": [
       "<table border=\"1\" class=\"dataframe\">\n",
       "    <thead>\n",
       "        <tr>\n",
       "            <th>i</th> <th>Median</th>\n",
       "        </tr>\n",
       "    </thead>\n",
       "    <tbody>\n",
       "        <tr>\n",
       "            <td>0   </td> <td>105000</td>\n",
       "        </tr>\n",
       "        <tr>\n",
       "            <td>1   </td> <td>102906</td>\n",
       "        </tr>\n",
       "        <tr>\n",
       "            <td>2   </td> <td>111028</td>\n",
       "        </tr>\n",
       "    </tbody>\n",
       "</table>\n",
       "<p>... (97 rows omitted)</p>"
      ],
      "text/plain": [
       "<IPython.core.display.HTML object>"
      ]
     },
     "metadata": {},
     "output_type": "display_data"
    }
   ],
   "source": [
    "Table().with_columns(\n",
    "    'i', np.arange(100),\n",
    "    'Median', medians\n",
    ").show(3)"
   ]
  },
  {
   "cell_type": "markdown",
   "metadata": {},
   "source": [
    "And visualize the data above using a `scatter` plot,"
   ]
  },
  {
   "cell_type": "code",
   "execution_count": 19,
   "metadata": {},
   "outputs": [
    {
     "data": {
      "image/png": "[encoded data removed]",
      "text/plain": [
       "<Figure size 360x360 with 1 Axes>"
      ]
     },
     "metadata": {},
     "output_type": "display_data"
    }
   ],
   "source": [
    "Table().with_columns(\n",
    "    'i', np.arange(100),\n",
    "    'Median', medians\n",
    ").scatter('i')"
   ]
  },
  {
   "cell_type": "markdown",
   "metadata": {},
   "source": [
    "Above,\n",
    "\n",
    "1. Each `dot` represent the median of a sample, taken from the population\n",
    "2. Most of the `dot`s fall between a range 95k to 120k. \n",
    "\n",
    "Are we done? Unfortunately, no. And on top of that, **we cheated with the sampling**."
   ]
  },
  {
   "cell_type": "markdown",
   "metadata": {},
   "source": [
    "## Where to Get Another Sample?\n",
    "In real life, we can't go back to the population and take more samples. Imagine the warplanes example, how were we even supposed to take more samples?\n",
    "\n",
    "Recall that with one sample, we can only get one estimate. If we want to get many values of the estimate, we will need more random samples. Unfortunately, most of the time we can't go back and sample from the population because either we don't have time, or money, or both. \n",
    "\n",
    "So what can we do?"
   ]
  },
  {
   "cell_type": "markdown",
   "metadata": {},
   "source": [
    "# The Bootstrap\n",
    "This is a method that we can use if we only have one sample and we can't get more. \n",
    "\n",
    "In the past, we have been doing examples where we had access to the population. In the warplanes example, we were given information that there were 300 warplanes in the first place. In the SF workers example, we could take more samples since we have access to the population. \n",
    "\n",
    "This time, we only have one sample, without access to the population. In this case, we can use **The Bootstrap**, which is a technique for simulating repeated random sampling.\n",
    "\n",
    "If our original sample is large and randomly drawn from the population, **it will probably resembles the population**. Thus, **we can sample from this sample**.\n",
    "<img src = 'bootstrap.jpg' width = 700/>\n",
    "\n",
    "The idea:\n",
    "1. Treat the original sample as the population\n",
    "2. Take more samples from the original sample **with replacement** \n",
    "\n",
    "This method seems questionable, but we will prove that this method works."
   ]
  },
  {
   "cell_type": "markdown",
   "metadata": {},
   "source": [
    "## Key to Resampling\n",
    "\n",
    "From the original sample,:\n",
    "1. Draw at random\n",
    "\n",
    "2. With replacement \n",
    "\n",
    "    * Make sure to take sample **with replacement**. If we take sample without replacement, we are just shuffling the sample\n",
    "    \n",
    "    \n",
    "3. As many values as the original sample contained \n",
    "    * If we have an original sample of size 200, then take resamples of size 200 each.\n",
    "    * The size of the new sample has to be the same as the original one, so that the 2 estimates are comparable\n",
    "    \n",
    "This gives us a measure of variability of the original sample. "
   ]
  },
  {
   "cell_type": "markdown",
   "metadata": {},
   "source": [
    "## Demo\n",
    "Recall we have our sample from population,"
   ]
  },
  {
   "cell_type": "code",
   "execution_count": 20,
   "metadata": {},
   "outputs": [
    {
     "data": {
      "text/html": [
       "<table border=\"1\" class=\"dataframe\">\n",
       "    <thead>\n",
       "        <tr>\n",
       "            <th>Organization Group</th> <th>Job</th> <th>Total Compensation</th>\n",
       "        </tr>\n",
       "    </thead>\n",
       "    <tbody>\n",
       "        <tr>\n",
       "            <td>Public Works, Transportation & Commerce </td> <td>Truck Driver                  </td> <td>58,676            </td>\n",
       "        </tr>\n",
       "        <tr>\n",
       "            <td>Public Protection                       </td> <td>Police Officer                </td> <td>123,336           </td>\n",
       "        </tr>\n",
       "        <tr>\n",
       "            <td>Public Works, Transportation & Commerce </td> <td>Transit Operator              </td> <td>130,359           </td>\n",
       "        </tr>\n",
       "        <tr>\n",
       "            <td>Public Works, Transportation & Commerce </td> <td>Parking Control Officer       </td> <td>109,965           </td>\n",
       "        </tr>\n",
       "        <tr>\n",
       "            <td>Public Works, Transportation & Commerce </td> <td>Custodian                     </td> <td>90,865            </td>\n",
       "        </tr>\n",
       "        <tr>\n",
       "            <td>Culture & Recreation                    </td> <td>Recreation Leader             </td> <td>19,226            </td>\n",
       "        </tr>\n",
       "        <tr>\n",
       "            <td>Public Works, Transportation & Commerce </td> <td>Electrical Transit System Mech</td> <td>154,817           </td>\n",
       "        </tr>\n",
       "        <tr>\n",
       "            <td>Community Health                        </td> <td>Medical Records Clerk         </td> <td>98,639            </td>\n",
       "        </tr>\n",
       "        <tr>\n",
       "            <td>Human Welfare & Neighborhood Development</td> <td>Medical Social Worker         </td> <td>134,478           </td>\n",
       "        </tr>\n",
       "        <tr>\n",
       "            <td>Public Protection                       </td> <td>Firefighter                   </td> <td>211,228           </td>\n",
       "        </tr>\n",
       "    </tbody>\n",
       "</table>\n",
       "<p>... (190 rows omitted)</p>"
      ],
      "text/plain": [
       "Organization Group                       | Job                            | Total Compensation\n",
       "Public Works, Transportation & Commerce  | Truck Driver                   | 58,676\n",
       "Public Protection                        | Police Officer                 | 123,336\n",
       "Public Works, Transportation & Commerce  | Transit Operator               | 130,359\n",
       "Public Works, Transportation & Commerce  | Parking Control Officer        | 109,965\n",
       "Public Works, Transportation & Commerce  | Custodian                      | 90,865\n",
       "Culture & Recreation                     | Recreation Leader              | 19,226\n",
       "Public Works, Transportation & Commerce  | Electrical Transit System Mech | 154,817\n",
       "Community Health                         | Medical Records Clerk          | 98,639\n",
       "Human Welfare & Neighborhood Development | Medical Social Worker          | 134,478\n",
       "Public Protection                        | Firefighter                    | 211,228\n",
       "... (190 rows omitted)"
      ]
     },
     "execution_count": 20,
     "metadata": {},
     "output_type": "execute_result"
    }
   ],
   "source": [
    "sample_from_population"
   ]
  },
  {
   "cell_type": "markdown",
   "metadata": {},
   "source": [
    "Let's take the median of the sample above,"
   ]
  },
  {
   "cell_type": "code",
   "execution_count": 21,
   "metadata": {},
   "outputs": [
    {
     "data": {
      "text/plain": [
       "103136.225"
      ]
     },
     "execution_count": 21,
     "metadata": {},
     "output_type": "execute_result"
    }
   ],
   "source": [
    "np.median(sample_from_population.column('Total Compensation'))"
   ]
  },
  {
   "cell_type": "markdown",
   "metadata": {},
   "source": [
    "Recall that the `sample` method by default takes sample with replacement. If we don't give the method an argument for the sample size, the amount of row in the table we are taking samples from will be our sample size."
   ]
  },
  {
   "cell_type": "code",
   "execution_count": 22,
   "metadata": {},
   "outputs": [
    {
     "data": {
      "text/html": [
       "<table border=\"1\" class=\"dataframe\">\n",
       "    <thead>\n",
       "        <tr>\n",
       "            <th>Organization Group</th> <th>Job</th> <th>Total Compensation</th>\n",
       "        </tr>\n",
       "    </thead>\n",
       "    <tbody>\n",
       "        <tr>\n",
       "            <td>Community Health                        </td> <td>Disease Control Investigator</td> <td>102,173           </td>\n",
       "        </tr>\n",
       "        <tr>\n",
       "            <td>Human Welfare & Neighborhood Development</td> <td>Senior Eligibility Worker   </td> <td>98,850            </td>\n",
       "        </tr>\n",
       "        <tr>\n",
       "            <td>Public Works, Transportation & Commerce </td> <td>Assoc Engineer              </td> <td>167,586           </td>\n",
       "        </tr>\n",
       "    </tbody>\n",
       "</table>\n",
       "<p>... (197 rows omitted)</p>"
      ],
      "text/plain": [
       "<IPython.core.display.HTML object>"
      ]
     },
     "metadata": {},
     "output_type": "display_data"
    }
   ],
   "source": [
    "resample = sample_from_population.sample()\n",
    "resample.show(3)"
   ]
  },
  {
   "cell_type": "markdown",
   "metadata": {},
   "source": [
    "Let's calculate the median of the resample,"
   ]
  },
  {
   "cell_type": "code",
   "execution_count": 23,
   "metadata": {},
   "outputs": [
    {
     "data": {
      "text/plain": [
       "107921.62"
      ]
     },
     "execution_count": 23,
     "metadata": {},
     "output_type": "execute_result"
    }
   ],
   "source": [
    "np.median(resample.column('Total Compensation'))"
   ]
  },
  {
   "cell_type": "markdown",
   "metadata": {},
   "source": [
    "If we resample and compute the medians multiple times, we can get a sense of the variability of our estimation. Run the cell below multiple times!"
   ]
  },
  {
   "cell_type": "code",
   "execution_count": 24,
   "metadata": {},
   "outputs": [
    {
     "data": {
      "text/plain": [
       "98499.69"
      ]
     },
     "execution_count": 24,
     "metadata": {},
     "output_type": "execute_result"
    }
   ],
   "source": [
    "resample = sample_from_population.sample()\n",
    "np.median(resample.column('Total Compensation'))"
   ]
  },
  {
   "cell_type": "markdown",
   "metadata": {},
   "source": [
    "We can create a histogram of the resamples to see the variability of the median."
   ]
  },
  {
   "cell_type": "code",
   "execution_count": 25,
   "metadata": {},
   "outputs": [
    {
     "data": {
      "image/png": "[encoded data removed]",
      "text/plain": [
       "<Figure size 432x288 with 1 Axes>"
      ]
     },
     "metadata": {},
     "output_type": "display_data"
    }
   ],
   "source": [
    "repetitions = 1000\n",
    "resampled_medians = []\n",
    "\n",
    "for i in np.arange(repetitions):\n",
    "    resample = sample_from_population.sample()\n",
    "    resampled_medians.append(np.median(resample.column('Total Compensation')))\n",
    "    \n",
    "Table().with_column('Resampled medians', resampled_medians).hist()"
   ]
  },
  {
   "cell_type": "markdown",
   "metadata": {},
   "source": [
    "Compare the histogram above with the histogram of the population,"
   ]
  },
  {
   "cell_type": "code",
   "execution_count": 26,
   "metadata": {},
   "outputs": [
    {
     "data": {
      "image/png": "[encoded data removed]",
      "text/plain": [
       "<Figure size 432x288 with 1 Axes>"
      ]
     },
     "metadata": {},
     "output_type": "display_data"
    }
   ],
   "source": [
    "comp_bins = np.arange(0, 700000, 25000)\n",
    "sf.hist(2, bins=comp_bins, unit='dollar')"
   ]
  },
  {
   "cell_type": "markdown",
   "metadata": {},
   "source": [
    "What's the difference between the 2 histograms? What does each histogram show?\n",
    "\n",
    "In the population histogram above, each bar of the histogram represents the salary of workers on a certain range. The taller the bar, the more the workers that earns that range of salary.\n",
    "\n",
    "Meanwhile for the resample histogram, each bar represents individual medians instead of individual workers. \n",
    "\n",
    "Recall with our scatter plot, most `dots` fall within 95k to 120k range."
   ]
  },
  {
   "cell_type": "code",
   "execution_count": 29,
   "metadata": {},
   "outputs": [
    {
     "data": {
      "image/png": "[encoded data removed]",
      "text/plain": [
       "<Figure size 360x360 with 1 Axes>"
      ]
     },
     "metadata": {},
     "output_type": "display_data"
    }
   ],
   "source": [
    "Table().with_columns(\n",
    "    'i', np.arange(100),\n",
    "    'Median', medians\n",
    ").scatter('i')"
   ]
  },
  {
   "cell_type": "markdown",
   "metadata": {},
   "source": [
    "Looking at the resample histogram, we can ask the same question: \"Where do those of the median come in?\" . It will give us a sense of where the population parameter might be. \n",
    "\n",
    "Now, we can take the middle portion of the resample histogram and use that portion as a measurement of how variable our estimation is. We are going to take the middle 95% and say \"that is the range of values that we obtained\"\n",
    "\n",
    "If we want to take the middle 95%, we'll have to shave off the 2.5% off of the left side and another 2.5% off on the right side of the histogram. We can use `percentile` function for this,"
   ]
  },
  {
   "cell_type": "code",
   "execution_count": 30,
   "metadata": {},
   "outputs": [
    {
     "name": "stdout",
     "output_type": "stream",
     "text": [
      "95% of resampled medians were between 97225.555 and 111008.06\n"
     ]
    }
   ],
   "source": [
    "print(\"95% of resampled medians were between\",\n",
    "      percentile(2.5, resampled_medians),\n",
    "     \"and\",\n",
    "     percentile(97.5, resampled_medians))"
   ]
  },
  {
   "cell_type": "markdown",
   "metadata": {},
   "source": [
    "Now let's visualize our computation above with the histogram,"
   ]
  },
  {
   "cell_type": "code",
   "execution_count": 31,
   "metadata": {},
   "outputs": [
    {
     "data": {
      "text/plain": [
       "<matplotlib.collections.PathCollection at 0x4a2dcf0>"
      ]
     },
     "execution_count": 31,
     "metadata": {},
     "output_type": "execute_result"
    },
    {
     "data": {
      "image/png": "[encoded data removed]",
      "text/plain": [
       "<Figure size 432x288 with 1 Axes>"
      ]
     },
     "metadata": {},
     "output_type": "display_data"
    }
   ],
   "source": [
    "Table().with_column('Resampled median', resampled_medians).hist(0)\n",
    "\n",
    "# Draw the line and dot\n",
    "interval_95 = [percentile(2.5, resampled_medians),\n",
    "               percentile(97.5, resampled_medians)]\n",
    "plt.plot(interval_95, [0, 0], color='gold', lw=5)\n",
    "pop_median = np.median(sf.column(2))\n",
    "plt.scatter(pop_median, 0, color='red', s=400)"
   ]
  },
  {
   "cell_type": "markdown",
   "metadata": {},
   "source": [
    "Above, we have the resample median histogram, in which the yellow line represents the middle 95% and the red dot represents the median of the population.\n",
    "\n",
    "Note that if we are unlucky and we have a bad sample, it is possible that the actual population median turns out to be outside the yellow line range.\n",
    "\n",
    "#### How often will this yellow 95% interval contain the actual population median?\n",
    "Will be answered in the next lecture."
   ]
  },
  {
   "cell_type": "code",
   "execution_count": null,
   "metadata": {},
   "outputs": [],
   "source": []
  }
 ],
 "metadata": {
  "kernelspec": {
   "display_name": "Python 3",
   "language": "python",
   "name": "python3"
  },
  "language_info": {
   "codemirror_mode": {
    "name": "ipython",
    "version": 3
   },
   "file_extension": ".py",
   "mimetype": "text/x-python",
   "name": "python",
   "nbconvert_exporter": "python",
   "pygments_lexer": "ipython3",
   "version": "3.7.2"
  }
 },
 "nbformat": 4,
 "nbformat_minor": 1
}
