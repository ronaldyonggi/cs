{
 "cells": [
  {
   "cell_type": "code",
   "execution_count": 2,
   "metadata": {},
   "outputs": [],
   "source": [
    "from datascience import *\n",
    "import numpy as np\n",
    "%matplotlib inline\n",
    "import matplotlib.pyplot as plt\n",
    "plt.style.use('fivethirtyeight')\n",
    "\n",
    "from ipywidgets import interact, interactive, fixed, interact_manual\n",
    "import ipywidgets as widgets"
   ]
  },
  {
   "cell_type": "markdown",
   "metadata": {},
   "source": [
    "# Causality\n",
    "Causality refers to \"cause and effect\". How one thing causes another thing? \n",
    "\n",
    "People often releases health statement out of nowhere. One of them is a statement that chocolate is good for heart. \n",
    "<img src = 'chocolate.jpg' width = 500\\>\n",
    "\n",
    "This class is going to teach the ability to take and analyze statement like this. How do you interpret this statement? How does this affect your decision-making? "
   ]
  },
  {
   "cell_type": "markdown",
   "metadata": {},
   "source": [
    "## Observation\n",
    "In statements like above, there are 3 elements:\n",
    "1. Individuals (e.g. study subjects, participants, units) of the particular statement\n",
    "    * In the chocolate example, the study was done on European adults\n",
    "2. Treatment : What you do to the to the subject of the study\n",
    "    * In the chocolat example, chocolate consumption\n",
    "3. Outcome\n",
    "    * Found out that as a result, the individuals had less risk of heart disease\n",
    "    \n",
    "Being clear about the 3 things above helps understand and break down what a statement is saying about the world."
   ]
  },
  {
   "cell_type": "markdown",
   "metadata": {},
   "source": [
    "## Question 1: Is there `any relation`between chocolate consumption and heart disease?\n",
    "`Association`, `any relation` - We are going to use this 2 terms interchangibly in this class, but they mean the same thing\n",
    "\n",
    "### An Answer - Some Data\n",
    "\"Among those in the top tier of chocolate consumption, 12% developed or died of cardiovascular disease during the study, compared to 17.4% of those who didn't eat chocolate\" - Howard LeWine of Harvard Health Blog, reported by [NPR](http://npr.org/)\n",
    "\n",
    "Does this show an `association` between eating chocolate and heart disease? \n",
    "\n",
    "When we ask if there's any `association` at all, we look if there's any difference between the group who ate chocolate and the group who did not. In this case, 12% had heart disease for the group eating chocolate, and 17.4% for those who didn't eat chocolate. Thus, **this points to an association**. "
   ]
  },
  {
   "cell_type": "markdown",
   "metadata": {},
   "source": [
    "## Question 2: Does chocolate consumption `lead to` a reduction in heart disease?\n",
    "Does eating chocolate actually cause you to have less heart disease? \n",
    "\n",
    "This is a question about `causality`. This question is often harder to answer. \n",
    "\n",
    "To be clear with the terminology:\n",
    "* `Association` or `any relation` refers to just the difference in the individuals or the study participants\n",
    "* `Causality` refers to \"does the treatment actually caused outcome or was there something else involved?\"\n",
    "\n",
    "In the chocolate example, it was stated that the study did not prove a causality relationship.\n",
    "\n",
    "\"[The Study] doesn't prove a cause-and-effect relationship between chocolate and reduced risk of heart disease and stroke.\" - JoAnn Manson, chief of Preventive Medicine at Brigham and Women's Hospital, Boston"
   ]
  },
  {
   "cell_type": "markdown",
   "metadata": {},
   "source": [
    "# John Snow, Cholera, and Broad Street Pump \n",
    "\n",
    "One of the earliest example of astute observation eventually leading to establishment of causality is London back in 1850's. It was world's wealthiest city, but many of its people were desperately poor. Charles Dickens, an English writer, was writing about their plight (def: unfortunate situation, difficulty). Disease was rife (def: common occurrence) in the poorer parts of the city, with **cholera** being among the most feared. At that time, the concept of *germs* was not yet discovered, and microscope had not existed, leading to the \"miasma\" theory.\n",
    "\n",
    "## Miasma, Miasmatism, Miasmatists\n",
    "\n",
    "* **Bad smells** given off by waste and rotting matter\n",
    "* **Believed to be the main source of disease**\n",
    "    * Back then, when microscope and the concept of bacteria has not existed, this is a sensible conclusion\n",
    "        * If you're around human fesces all the time, you will get sick\n",
    "        * Bad smells tend to be around sick people\n",
    "    * At that time, the natural response would be to get rid of the bad smell\n",
    "* Suggested remedies:\n",
    "    * \"fly to clene air\"\n",
    "    * \"A pocket full o'posies\" - Put flowers in pockets so you can take them and smell them whenever you start smelling something unpleasant\n",
    "    * \"Fire of barrels of gunpowder\" - Burning smell from gunpowder\n",
    "    \n",
    "There were some staunch believers of the \"miasma\" theory, including Florence Nightingale (the founder of modern nursing) and Edwin Chadwick (Commissioner of the General Board of Health) "
   ]
  },
  {
   "cell_type": "markdown",
   "metadata": {},
   "source": [
    "## John Snow, 1813-1858\n",
    "<img src = 'john.jpg' width = 400\\>\n",
    "A doctor by the name John Snow did not believe the theory of miasmatism. The reason being was, he looked around the town and examined house by house. He noticed that an entire household were wiped out by cholera, while sometimes the neighboring houses remained completely unaffected even though they were breathing the same air.\n",
    "\n",
    "Snow also noticed that the onset of the disease almost always invovled vomiting and diarrhea, which gave him a hypothesis that the infection was carried by something people ate or drank, not by the air they breathed. His hypothesis was the the water was the cause of the cholera in which at that time was an unpopular belief. To back up his claim with evidence, he surveyed houses, asking how many people died in each house, and drew a map. This map was the very first data visualization in history.\n",
    "\n",
    "<img src = \"snow_map.jpg\" width = 500/>\n",
    "\n",
    "In the map, he drew small black bars representing death caused by cholera. Each black bar is located in a building, and the length of the bar represents the amount of people died. He also drew the Broad Street Pump and found that the majority of deaths are around the surroundings of Broad Street Pump. \n",
    "\n",
    "He also investigated the apparent anomalies:\n",
    "* There were deaths in houses that were closer to Rupert Street Pump than the Broad Street pump. Even though the Rupert Street pump was closer, it was less convenient to get to because of dead ends and the layout of the streets. **The residents in those houses used the Broad Street pump instead**.\n",
    "* There were no deaths in 2 blocks just east of the pump. That was the location of the Lion Brewery, where the workers drank what they brewed. If they wanted water, the brewery had its own well\n",
    "* There were scattered deaths in houses several blocks away from the Broad Street pump. Those were children who drank from the Broad Street pump on their way to school."
   ]
  },
  {
   "cell_type": "markdown",
   "metadata": {},
   "source": [
    "Snow studieds his map carefully carefully and investigated the apparent anomalies:\n",
    "* There were deaths in houses that were closer to Rupert Street Pump than the Broad Street pump. Even though the Rupert Street pump was closer, it was less convenient for people to get there because of dead ends and the layout of the streets. **The residents in those houses used the Broad Street pump instead**.\n",
    "* There were no deaths in 2 blocks just east of the pump. That was the location of the Lion Brewery, where the workers drank what they brewed. If they wanted water, the brewery had its own well\n",
    "* There were scattered deaths in houses several blocks away from the Broad Street pump. Those were children who drank from the Broad Street pump on their way to school.\n",
    "\n",
    "#### Final piece of evidence that supports Snow's theory:\n",
    "\n",
    "* 2 isolated death in the leafy and genteel(def: refined) Hampstead area, quite far from Soho.\n",
    "    * The deceased were Mrs. Susannah Eley, who had once lived in Broad Street, and her niece.\n",
    "    * Mrs. Eley had water from Broad Street pump delivered to her in Hampstead every day. She liked its taste.\n",
    "    \n",
    "What Snow did back then was showing an association. He ended up going to the city mayor to ask to remove the Broad Street Pump handles. After that, people would stop dying from cholera.\n",
    "\n",
    "Right now, around the same area, a pub named after John Snow was made to honor his contribution.\n",
    "<img src = 'john pub.jpg' width = 400\\>\n",
    "\n",
    "In front of the pub, you can see a pump without a handle!\n",
    "<img src = 'handle.jpg' width = 400\\>"
   ]
  },
  {
   "cell_type": "markdown",
   "metadata": {},
   "source": [
    "## Map of 2 Water Companies\n",
    "At that time, people still don't quite believe Snow's theory that water was the cause of cholera. He collected more evidences by analyzing the area in London that was served by 2 different water companies: **Lambeth** and **Southwark & Vall (S&V)**.\n",
    "\n",
    "<img src = \"2_companies.jpg\" width = 400\\>\n",
    "Notice in the map above, there's an area where both companies' services overlap. Houses that were in that are had the option to choose which company they wanted water from at their own discretion. Snow found houses that would get water from one company while the houses next door would get water from the other company, by random. This is very helpful for Snow!"
   ]
  },
  {
   "cell_type": "markdown",
   "metadata": {},
   "source": [
    "# Comparison\n",
    "Snow had 2 groups of people that lived in the overlap area: people who received water from Lambeth and those who received water from S&V. We'll make names for these 2 groups:\n",
    "\n",
    "#### Treatment Group\n",
    "This group receives a treatment. In the chocolate and heart disease example, the treatment group is the people who ate chocolate.\n",
    "\n",
    "#### Control Group\n",
    "This group does not receive treatment.\n",
    "\n",
    "Snow didn't have a great way of distinguishing between the 2 groups because because if he did separate the people into 2 groups, both groups are people and both groups need water."
   ]
  },
  {
   "cell_type": "markdown",
   "metadata": {},
   "source": [
    "## Snow's \"Grand Experiment\"\n",
    "It was very important that the houses were \"randomly assigned\" a water company since,\n",
    "\n",
    "\"...there is no difference whatever in the houses or the people receiving the supply of the 2 Water Companies, or in any of the physical conditions with which they are surrounded...\"\n",
    "\n",
    "In other words, there are no other factors involved. It was not the case that, for example, rich people received water from one company and the poor people received from the other. The only distingushing factor would be that one group received water from S&V and the other group received water from Lambeth. \n",
    "\n",
    "#### The 2 groups were similar except for the treatment\n",
    "This is an important point for establishing causality. If the 2 groups are not similar, then it would be difficult to establish causality. "
   ]
  },
  {
   "cell_type": "markdown",
   "metadata": {},
   "source": [
    "## Snow's Table\n",
    "Snow collected the data below and made a table out of it."
   ]
  },
  {
   "cell_type": "code",
   "execution_count": 5,
   "metadata": {},
   "outputs": [
    {
     "data": {
      "text/html": [
       "<table border=\"1\" class=\"dataframe\">\n",
       "    <thead>\n",
       "        <tr>\n",
       "            <th>Supply Area</th> <th>Number of houses</th> <th>Cholera deaths</th> <th>Deaths per 10,000 houses</th>\n",
       "        </tr>\n",
       "    </thead>\n",
       "    <tbody>\n",
       "        <tr>\n",
       "            <td>S&V           </td> <td>40046           </td> <td>1263          </td> <td>315                     </td>\n",
       "        </tr>\n",
       "        <tr>\n",
       "            <td>Lambeth       </td> <td>26107           </td> <td>98            </td> <td>37                      </td>\n",
       "        </tr>\n",
       "        <tr>\n",
       "            <td>Rest of London</td> <td>256423          </td> <td>1422          </td> <td>59                      </td>\n",
       "        </tr>\n",
       "    </tbody>\n",
       "</table>"
      ],
      "text/plain": [
       "Supply Area    | Number of houses | Cholera deaths | Deaths per 10,000 houses\n",
       "S&V            | 40046            | 1263           | 315\n",
       "Lambeth        | 26107            | 98             | 37\n",
       "Rest of London | 256423           | 1422           | 59"
      ]
     },
     "execution_count": 5,
     "metadata": {},
     "output_type": "execute_result"
    }
   ],
   "source": [
    "supply_area = make_array('S&V', 'Lambeth', 'Rest of London')\n",
    "houses = make_array(40046, 26107, 256423)\n",
    "deaths = make_array(1263, 98, 1422)\n",
    "deaths_per_100 = make_array(315, 37, 59)\n",
    "Table().with_columns(\n",
    "'Supply Area', supply_area,\n",
    "'Number of houses', houses,\n",
    "'Cholera deaths', deaths,\n",
    "'Deaths per 10,000 houses', deaths_per_100)"
   ]
  },
  {
   "cell_type": "markdown",
   "metadata": {},
   "source": [
    "The above table shows an association between the water that was supplied by S&V and the cholera epidemic. \n",
    "\n",
    "The rest of London has about 1400 deaths, while S&V has a little less than that. This might make you think that something is wrong with the rest of London. However, notice that the rest of London has a lot more houses (around 250,000). \n",
    "\n",
    "The important point to look in this table is the column `Deaths per 10,000 houses`. We want to look at the relative number, or the proportion of deaths, in which that of S&V is much greater compared to the others. Snow concluded that there was a problem with the water supplied from S&V. It was found out that S&V water supply was located downstream of the London sewage, while Lambeth water supply was located upstream. The leakage from the sewage seeped downstream and contaminated S&V water supply. "
   ]
  },
  {
   "cell_type": "markdown",
   "metadata": {},
   "source": [
    "## Key to Establishing Causality\n",
    "The important thing to note is Snow's treatment and control groups, in which both were within the area covered by S&V and Lambeth. This way, he could come to the conclusion that the people have gotten cholera because of consuming the water from S&V, not because of any other factor. \n",
    "\n",
    "If the treatment and control groups are **similar apart from the treatment**, then differences between the outcomes in the 2 groups can be ascribed to the treatment."
   ]
  },
  {
   "cell_type": "markdown",
   "metadata": {},
   "source": [
    "# Trouble\n",
    "If the treatment and control group have **systematic differences other than the treatment**, then it might be difficult to identify causality. \n",
    "\n",
    "Such differences are often present in **observational studies** since we don't have the opportunity to mix together the 2 groups. \n",
    "\n",
    "In the chocolate and heart disease example, it might be the case that people that consumed chocolate also exercised to burn off the calories and thus, they would have less heart disease risk. \n",
    "\n",
    "Another example is that it was believed that coffee can be linked to lung cancer. People who looked into this issue more deeply found out that people who drink coffee are more likely to smoke. They look into smoking and found that instead of coffee, smoking is the actual cause for lung cancer.\n",
    "\n",
    "Things or facts that lead researchers astray are called **confounding factors**. In the coffee and smoking example, the confounding factor is the belief that coffee causes lung cancer.\n",
    "\n",
    "In data science, there's always an element of uncertainty.  Even with the case of Snow and the Pump, it might be possible that there was something else going on other than the water. A few decades later when microscope was invented, it was discovered that cholera was caused by some dangerous pathogen. \n",
    "\n",
    "However, it was also data science that initiated the study in biology and led people to understand the cause of the epidemics.\n",
    "\n",
    "In data science, we try to minimize the uncertainty and use available information to take informed decisions even though most of the time it is not perfect. "
   ]
  },
  {
   "cell_type": "markdown",
   "metadata": {},
   "source": [
    "## Randomize!\n",
    "It was important to have 2 groups that don't have differences other than the treatment. We use randomization to establish reliability in making a conclusion about a general, bigger group of people.\n",
    "\n",
    "If we assign individuals to treatment and control **at random**, then the 2 groups are likely to be similar apart from the treatment.\n",
    "\n",
    "For example, half of the students in Data 8 class don't have programming experience.\n",
    "\n",
    "If you just split the class into 2 groups:\n",
    "1. People who sit on the left side of the seats\n",
    "2. People who sit on the right side of the seats\n",
    "\n",
    "Chances are, there will be an imbalance in those groups. One of the 2 groups will have a lot more people who have programming background.\n",
    "\n",
    "On the other hand, if we give out numbers to everybody and decide the groups based on whether the number is odd or even, we will get a better mix. \n",
    "\n",
    "We can also account **mathematically** for variability in the assignment using the laws of probability. \n",
    "\n",
    "#### Randomized Controlled Experiment\n",
    "RCE is an experiment where individuals are randomly assigned to treatment and control groups. RCE is considered the most convincing method to establish causality.\n",
    "\n",
    "However, it's not always possible to do an RCE. For example, if we try to study the effect of drinking alcohol while being pregnant, and if you tell mothers to drink alcohols while pregnant, chances are it will not happen. In cases like this, we can only do **observational studies**, in which we have to be careful and take into account possible different factors that can affect the outcome of the study. "
   ]
  },
  {
   "cell_type": "markdown",
   "metadata": {},
   "source": [
    "## Be Careful!\n",
    "Regardless of what the dictionary says, in probability theory, `random` is NOT `haphazard`. \n",
    "\n",
    "`Haphazard` is more like when you pick people based on your own discretion.\n",
    "\n",
    "`Random` is a careful process. \n",
    "\n",
    "Example:\n",
    "\n",
    "In Berkeley, there are studies on mice. For quite a while, the outcome of the study was found to be different compared to the outcome from other universities. Later it was found that the average mice weight in Berkeley is greater than the average mice weight from other universities. When looked further, it turned out that they way the mice were obtained was that researchers would reach their hand into the cage and took whichever mouse that was caught by the hand. This way, we need to take into possibility that in the cage, there were mice that are smaller and faster, and there were mice that were heavier and slower. Chances are, the heavier and slower mice could not run fast enough that they got caught by the hand. "
   ]
  },
  {
   "cell_type": "code",
   "execution_count": null,
   "metadata": {},
   "outputs": [],
   "source": []
  }
 ],
 "metadata": {
  "kernelspec": {
   "display_name": "Python 3",
   "language": "python",
   "name": "python3"
  },
  "language_info": {
   "codemirror_mode": {
    "name": "ipython",
    "version": 3
   },
   "file_extension": ".py",
   "mimetype": "text/x-python",
   "name": "python",
   "nbconvert_exporter": "python",
   "pygments_lexer": "ipython3",
   "version": "3.7.2"
  }
 },
 "nbformat": 4,
 "nbformat_minor": 1
}
