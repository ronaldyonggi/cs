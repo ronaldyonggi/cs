{
 "cells": [
  {
   "cell_type": "code",
   "execution_count": 1,
   "metadata": {},
   "outputs": [],
   "source": [
    "from datascience import *\n",
    "import numpy as np\n",
    "%matplotlib inline\n",
    "import matplotlib.pyplot as plt\n",
    "plt.style.use('fivethirtyeight')\n",
    "\n",
    "from ipywidgets import interact, interactive, fixed, interact_manual\n",
    "import ipywidgets as widgets"
   ]
  },
  {
   "cell_type": "markdown",
   "metadata": {},
   "source": [
    "# Discussion Question"
   ]
  },
  {
   "cell_type": "markdown",
   "metadata": {},
   "source": [
    "## Discussion Question 1\n",
    "Suppose we have the following data:\n",
    "1. A population of income\n",
    "    * `mean` = 10k\n",
    "    * `SD` = 20k\n",
    "2. Sample size is 100, chosen uniformly at random with replacement\n",
    "\n",
    "#### What's the chance that the sample average is above 14k?\n",
    "\n",
    "We expect that the sample should have an average income of around 10k as well, but it could be greater or lower. \n",
    "\n",
    "Recall the formula\n",
    "\\begin{equation*}\n",
    "sample`mean`SD = \\frac{population`SD}{\\sqrt{sample`size}}\n",
    "\\end{equation*}\n",
    "\n",
    "This means if we go to population and take a bunch of samples of size `100`, take the `mean` of every single sample and plot the histogram, the histogram will resemble a bell shape due to Central Limit Theorem. It will be centered at 10k (since that's the population `mean`) and it will have a `SD` that can be calculated with the formula above. \n",
    "\n",
    "\\begin{equation*}\n",
    "sample`mean`SD = \\frac{20,000}{\\sqrt{100}} = 2,000\n",
    "\\end{equation*}\n",
    "\n",
    "2,000 is 1 `SD` away from the center, on either direction. This means 14k is 2 `SD` above the population `mean`.\n",
    "\n",
    "If the distribution is roughly normal, in the area within 2 `SD` we will have 95% of the histogram. Thus between 6k to 14k, 95% of the distribution is within the 2 boundaries. From there, we can estimate that **about 2.5% are above 14k** and **about 2.5% are below 6k**. \n",
    "\n",
    "Thus, **the chance that the sample average is above 14k is about 2.5%**.\n",
    "\n",
    "However, if we assume Chebyshev's inequality, instead of 95%, 75% of the distribution is within the 2 boundaries. In this case, **about 12.5% are above 14k** and **about 12.5% are below 6k**.\n",
    "\n",
    "In this case, we happened to know that we take the `mean` of a relatively large random samples from the population. Because of this, we can use **normal distribution** as a better guess.\n"
   ]
  },
  {
   "cell_type": "markdown",
   "metadata": {},
   "source": [
    "## Discussion Question 2\n",
    "Suppose we have the following data:\n",
    "1. The population is a perfect bell shape.\n",
    "    * `mean` = 10\n",
    "    * `SD` = 20\n",
    "2. The `sample size` is 100 chosen uniformly at random with replacement.\n",
    "\n",
    "#### What's the chance that every single value in the sample is below 50?\n",
    "\n",
    "Hint: try solving an easier problem. Suppose we pick a sample of size `1`. What's the chance that that one person has a value of below `50`?\n",
    "\n",
    "We know that `50` is 2 population `SD` above the population `mean`. This means between `-30` and `50`, we have 95% of the entire distribution since the population is a perfect bell shape. What are the chance that we draw one person that has `50` or below?\n",
    "\n",
    "If we go from `50` to `-30`, that's `95%` are of the distribution. If we keep going lower than `-30`, that's another `2.5%` of the area. `95%` + `2.5%` = `97.5%`\n",
    "\n",
    "This means the chance of drawing one value below `50` is **97.5%**.\n",
    "\n",
    "Now if we draw `100` people and we want all `100` of them to be `50` or below, the chance would be:\n",
    "\\begin{equation*}\n",
    "Chance = {0.975}^{100}\n",
    "\\end{equation*}\n",
    "\n",
    "\n"
   ]
  },
  {
   "cell_type": "code",
   "execution_count": 2,
   "metadata": {},
   "outputs": [
    {
     "data": {
      "text/plain": [
       "0.07951728986183142"
      ]
     },
     "execution_count": 2,
     "metadata": {},
     "output_type": "execute_result"
    }
   ],
   "source": [
    "0.975 ** 100"
   ]
  },
  {
   "cell_type": "markdown",
   "metadata": {},
   "source": [
    "It's about 8% chance! Even thought the chance of each person obtaining `50` or below is as high as `97.5%`, in a sample of `100`, chances are at least one person within that `100` got greater than `50`. \n",
    "\n",
    "Back in **Discussion Question 1**, we asked question about the entire sample. \"What are the chances that the average of all `100` people is about 14k?\". Due to Central Limit Theorem, we happen to know that the distribution of the sample average is approximately normal. \n",
    "\n",
    "In **Discussion Question 2**, we're not looking at the distribution of the sample average. We're looking at each individual person. This is why the statement \"A perfect bell shape\" is helpful. Otherwise, we won't know what the population looks like, and we won't be able to make any conclusion. \n",
    "\n",
    "If we didn't know the shape of the distribution, we would have to use Chebyshev's inequality. "
   ]
  },
  {
   "cell_type": "markdown",
   "metadata": {},
   "source": [
    "## Discussion Question 3\n",
    "We want to estimate the height of the tallest person on campus. We sample `100` people at random and compute a `99.9999%` confidence interval using the bootstrap. Its upper bound is 6'4\".\n",
    "\n",
    "A 6'5\" person walks by! What might have gone wrong?\n",
    "\n",
    "#### Answer:\n",
    "\n",
    "There are a few things that went wrong here.\n",
    "\n",
    "First of all, recall that **we don't want to use bootstrap for very high or very low percentile**. When our parameter is highly influenced by only a few values, when we take a sample, chances of obtaining a good estimate of the parameter is very low. This is because when we take samples, chances are we'll obtain the data point around the middle of the distribution, not the end tails. \n",
    "\n",
    "If we try to estimate that `really high percentile`, when we take a sample of size `100`, there's a high chance that our sample won't contain that percentile because it's so rare.\n",
    "\n",
    "Furthermore, if we only have `100` people, we can't obtain a 99.9999% Confidence Interval. This is when we have to **be careful with the size of the sample and how accurate we want the confidence interval to be**. In this case, `100` people sample is definitely too few compared to the population. If we are looking at 99.9999% confidence interval, this sample is not similar enough to the population to make a very precise interval."
   ]
  },
  {
   "cell_type": "markdown",
   "metadata": {},
   "source": [
    "## Discussion Question 4\n",
    "We want to estimate the average compensation for SF public workers. How many people should we sample at random in order to obtain a 95% confidence interval with a width of 10,000 or less?\n",
    "\n",
    "## Demo\n",
    "Below we have the San Francisco Public Workers dataset,"
   ]
  },
  {
   "cell_type": "code",
   "execution_count": 3,
   "metadata": {},
   "outputs": [
    {
     "data": {
      "text/html": [
       "<table border=\"1\" class=\"dataframe\">\n",
       "    <thead>\n",
       "        <tr>\n",
       "            <th>Organization Group</th> <th>Job</th> <th>Total Compensation</th>\n",
       "        </tr>\n",
       "    </thead>\n",
       "    <tbody>\n",
       "        <tr>\n",
       "            <td>Public Works, Transportation & Commerce</td> <td>Water Qualitytech I/II     </td> <td>117,767           </td>\n",
       "        </tr>\n",
       "        <tr>\n",
       "            <td>Public Works, Transportation & Commerce</td> <td>Soft Floor Coverer         </td> <td>41,210            </td>\n",
       "        </tr>\n",
       "        <tr>\n",
       "            <td>Community Health                       </td> <td>Health Care Billing Clerk 2</td> <td>110,561           </td>\n",
       "        </tr>\n",
       "    </tbody>\n",
       "</table>\n",
       "<p>... (38214 rows omitted)</p>"
      ],
      "text/plain": [
       "<IPython.core.display.HTML object>"
      ]
     },
     "metadata": {},
     "output_type": "display_data"
    }
   ],
   "source": [
    "sf = Table.read_table('san_francisco_2015.csv').select(3, 11, 21)\n",
    "sf.set_format(2, NumberFormatter(0))\n",
    "sf = sf.where(2, are.above(10000))\n",
    "sf.show(3)"
   ]
  },
  {
   "cell_type": "markdown",
   "metadata": {},
   "source": [
    "If we create the histogram of the data above, we can obtain,"
   ]
  },
  {
   "cell_type": "code",
   "execution_count": 4,
   "metadata": {},
   "outputs": [
    {
     "data": {
      "image/png": "[encoded data removed]",
      "text/plain": [
       "<Figure size 432x288 with 1 Axes>"
      ]
     },
     "metadata": {},
     "output_type": "display_data"
    }
   ],
   "source": [
    "comp_bins = np.arange(0, 700000, 25000)\n",
    "sf.hist('Total Compensation', bins = comp_bins, unit = 'dollar')"
   ]
  },
  {
   "cell_type": "markdown",
   "metadata": {},
   "source": [
    "From the histogram above, it seems that the greatest density of the incomes are around 100k. \n",
    "\n",
    "Below we have the functions necessary to construct the `bootstrap_ci_mean`,"
   ]
  },
  {
   "cell_type": "code",
   "execution_count": 5,
   "metadata": {},
   "outputs": [],
   "source": [
    "def bootstrap_mean(sample_from_population, label, repetitions):\n",
    "    \"\"\" Returns a list of resampled mean.\n",
    "    sample_from_population: An original sample taken from the population\n",
    "    label: the label within the sample table that we want to bootstrap\n",
    "    repetitions: the number of repetition\n",
    "    \n",
    "    \"\"\"\n",
    "    resampled_mean = []\n",
    "    for i in np.arange(repetitions):\n",
    "        resample = sample_from_population.sample()\n",
    "        # Below we use np.mean\n",
    "        resampled_mean.append(np.mean(resample.column(label)))\n",
    "    return resampled_mean"
   ]
  },
  {
   "cell_type": "code",
   "execution_count": 6,
   "metadata": {},
   "outputs": [],
   "source": [
    "def bootstrap_ci_mean(sample_from_population, label, repetitions):\n",
    "    # Use the `bootstrap_mean` method and store the values in the list \"resampled_means\"\n",
    "    resampled_means = bootstrap_mean(sample_from_population, label, repetitions)\n",
    "    \n",
    "    # Compute the left 2.5% and right 2.5% cutoffs\n",
    "    interval_95 = make_array(\n",
    "        percentile(2.5, resampled_means),\n",
    "        percentile(97.5, resampled_means)\n",
    "    )\n",
    "    \n",
    "    #Construct the histogram and the 95% Confidence Interval horizontal line\n",
    "    Table().with_column('Resampled mean', resampled_means).hist('Resampled mean')\n",
    "    plt.plot(interval_95, [0, 0], color = 'gold', lw = 8)\n",
    "    print('Approximate 95% Bootstrap Confidence Interval for the Population Mean:')\n",
    "    print(np.round(interval_95, 3))\n",
    "    print('Width of interval is:')\n",
    "    print(percentile(97.5, resampled_means) - percentile(2.5, resampled_means))"
   ]
  },
  {
   "cell_type": "markdown",
   "metadata": {},
   "source": [
    "### How big of a sample do we need to obtain so that the confidence interval is 10k wide?\n",
    "\n",
    "### The goal is to create a confidence interval that's 10k wide. \n",
    "Let's try to make a random confidence interval and see what we obtain. Below we take a sample of size `200`,"
   ]
  },
  {
   "cell_type": "code",
   "execution_count": 7,
   "metadata": {},
   "outputs": [
    {
     "data": {
      "text/html": [
       "<table border=\"1\" class=\"dataframe\">\n",
       "    <thead>\n",
       "        <tr>\n",
       "            <th>Organization Group</th> <th>Job</th> <th>Total Compensation</th>\n",
       "        </tr>\n",
       "    </thead>\n",
       "    <tbody>\n",
       "        <tr>\n",
       "            <td>Public Protection                       </td> <td>Attorney (Civil/Criminal)</td> <td>246,489           </td>\n",
       "        </tr>\n",
       "        <tr>\n",
       "            <td>Human Welfare & Neighborhood Development</td> <td>Clerk                    </td> <td>70,141            </td>\n",
       "        </tr>\n",
       "        <tr>\n",
       "            <td>Public Works, Transportation & Commerce </td> <td>Water Service Inspector  </td> <td>140,806           </td>\n",
       "        </tr>\n",
       "    </tbody>\n",
       "</table>\n",
       "<p>... (197 rows omitted)</p>"
      ],
      "text/plain": [
       "<IPython.core.display.HTML object>"
      ]
     },
     "metadata": {},
     "output_type": "display_data"
    }
   ],
   "source": [
    "sf_sample = sf.sample(200)\n",
    "sf_sample.show(3)"
   ]
  },
  {
   "cell_type": "markdown",
   "metadata": {},
   "source": [
    "And below we call the `bootstrap_ci_mean` function with `1,000` repetitions,"
   ]
  },
  {
   "cell_type": "code",
   "execution_count": 8,
   "metadata": {},
   "outputs": [
    {
     "name": "stdout",
     "output_type": "stream",
     "text": [
      "Approximate 95% Bootstrap Confidence Interval for the Population Mean:\n",
      "[102037.132 117596.043]\n",
      "Width of interval is:\n",
      "15558.911099999998\n"
     ]
    },
    {
     "data": {
      "image/png": "[encoded data removed]",
      "text/plain": [
       "<Figure size 432x288 with 1 Axes>"
      ]
     },
     "metadata": {},
     "output_type": "display_data"
    }
   ],
   "source": [
    "bootstrap_ci_mean(sf_sample, 'Total Compensation', 1000)"
   ]
  },
  {
   "cell_type": "markdown",
   "metadata": {},
   "source": [
    "**Why does the width matter? **\n",
    "\n",
    "If the confidence interval is very narrow, we can say, \"the population average income is probably within that range\". This means we have a good estimation of the population average income. \n",
    "\n",
    "On the other hand, if the interval is from 0 to 1 million, the interval is so wide that we can't have a good estimation. \n",
    "\n",
    "**As the sample size increases, the distribution of the sample `mean` gets smaller.**\n",
    "\n",
    "Notice that the histogram above is a histogram of **resampled means**. **Central Limit Theorem** says that if we take bunch of samples, take the `mean` of each sample and plot them on a histogram, we will obtain a bell shape curve with a specific `SD` that decreases as the sample size increases. The process of taking samples and analyzing them on a histogram is the same as doing a bootstrap confidence interval. \n",
    "\n",
    "In addition, notice that the shape of the histogram above looks like a bell shape. This is because the **Central Limit Theorem** applies to the histogram. The confidence interval takes 95% middle of the data above, in which this 95% happened to be the `mean` of the distribution $\\pm$ 2 `SD`.\n",
    "\n",
    "With a sample size `200`, the width of the interval is still above 10K! Our goal is to obtain a width of 10k or less. \n",
    "\n",
    "### What should the sample size be to obtain width of 10k?\n",
    "\n",
    "According to the formula,\n",
    "\\begin{equation*}\n",
    "sample`mean`SD = \\frac{population`SD}{\\sqrt{sample`size}}\n",
    "\\end{equation*}\n",
    "\n",
    "as the sample size increases, `SD` decreases according to $\\frac{1}{\\sqrt{n}}$. This means if we double the sample size, `SD` will decreases by a factor of $\\sqrt{2}$. If we quadruple the sample size, `SD` will decreases by half of the previous. \n",
    "Thus, if we quadruple the sample size, "
   ]
  },
  {
   "cell_type": "code",
   "execution_count": 9,
   "metadata": {},
   "outputs": [
    {
     "name": "stdout",
     "output_type": "stream",
     "text": [
      "Approximate 95% Bootstrap Confidence Interval for the Population Mean:\n",
      "[103897.704 112684.364]\n",
      "Width of interval is:\n",
      "8786.65988750002\n"
     ]
    },
    {
     "data": {
      "image/png": "[encoded data removed]",
      "text/plain": [
       "<Figure size 432x288 with 1 Axes>"
      ]
     },
     "metadata": {},
     "output_type": "display_data"
    }
   ],
   "source": [
    "sf_sample = sf.sample(800)\n",
    "bootstrap_ci_mean(sf_sample, 'Total Compensation', 1000)"
   ]
  },
  {
   "cell_type": "markdown",
   "metadata": {},
   "source": [
    "As we can see, the width of the 95% confidence interval above is about half of when the sample size is `200`. \n",
    "\n",
    "**The easy answer for this question** is to just take a sample size of 1 million to make a really small confidence interval. For a less tedious answer, we can double or quadruple the sample size so that the confidence interval gets smaller. \n",
    "\n",
    "As the sample size increases, the `SD` of the distribution decreases and thus, the interval becomes more narrow. With this, we can use sample size to adjust the width of the confidence interval. Generally in real world, we want to just take a sample as large as possible so that it gives us smaller confidence interval. \n",
    "\n",
    "However, sometimes we want to ask beforehand, \"if we don't want the confidence interval to be too wide, if we want the width to be in a specific range, how large of a sample do we need to obtain?\".\n",
    "\n",
    "Using the method above, we can be,\n",
    "1. \"We want the sample size to be `this` big\"\n",
    "2. \"So that the confidence interval is about `this` big\"\n",
    "3. We can go from there, do our study, obtain the results, and\n",
    "4. Obtain a confidence interval that's as large as we desired\n",
    "\n",
    "If we want to obtain the exact sample size to obtain an interval of width 10k, we can play around with the code with varying `sample size`. We could have calculated mathematically the `mean` $\\pm$ 2`SD` and solve how much the `SD` is, but in this case it is easier to just vary the `sample size` within the code. \n",
    "\n",
    "Unfortunately, we won't be able to calculate the \"correct\" sample size exactly. If we try to calculate exactly the `SD` and say, \"the `SD` is `this` much\" and divide it with the `sample size`, depending on how the sample comes, the bootstrap confidence interval also varies. Our confidence interval won't be exactly the same every time we execute the code. "
   ]
  },
  {
   "cell_type": "code",
   "execution_count": 10,
   "metadata": {},
   "outputs": [
    {
     "name": "stdout",
     "output_type": "stream",
     "text": [
      "Approximate 95% Bootstrap Confidence Interval for the Population Mean:\n",
      "[104112.418 112487.073]\n",
      "Width of interval is:\n",
      "8374.654412500007\n"
     ]
    },
    {
     "data": {
      "image/png": "[encoded data removed]",
      "text/plain": [
       "<Figure size 432x288 with 1 Axes>"
      ]
     },
     "metadata": {},
     "output_type": "display_data"
    }
   ],
   "source": [
    "sf_sample = sf.sample(800)\n",
    "bootstrap_ci_mean(sf_sample, 'Total Compensation', 1000)"
   ]
  },
  {
   "cell_type": "markdown",
   "metadata": {},
   "source": [
    "See above that the width above is not exactly the same as the previous histogram. We won't be able to find a sample size that gives a width of exactly 10k. We can only find a sample size that gives a width of **around** 10k. \n",
    "\n",
    "### So, what can we do?\n",
    "Let's recap for a bit."
   ]
  },
  {
   "cell_type": "markdown",
   "metadata": {},
   "source": [
    "# Choosing a Sample Size\n",
    "## Width of 95% Confidence Interval\n",
    "\n",
    "Since we are looking at `sample mean`s, **Central Limit Theorem** says that the distribution of a `sample mean` is roughly normal, **centered at population mean**. We have seen this example before with the `united` flight delays. Even though the population distribution looks nothing like a bell curve (see the following) ,"
   ]
  },
  {
   "cell_type": "code",
   "execution_count": 11,
   "metadata": {},
   "outputs": [
    {
     "data": {
      "image/png": "[encoded data removed]",
      "text/plain": [
       "<Figure size 432x288 with 1 Axes>"
      ]
     },
     "metadata": {},
     "output_type": "display_data"
    }
   ],
   "source": [
    "united = Table.read_table('united_summer2015.csv')\n",
    "united.hist('Delay', bins = 30)"
   ]
  },
  {
   "cell_type": "markdown",
   "metadata": {},
   "source": [
    "Even with a population distribution that looks like above, if we are analyzing **sample means** and the sample size is large enough then the distribution is **normally distributed**. Recall that as we increase the sample size, the histogram goes from one that looks like the population (see below, `sample size = 1`),"
   ]
  },
  {
   "cell_type": "code",
   "execution_count": 12,
   "metadata": {},
   "outputs": [],
   "source": [
    "def sample_means(sample_size):\n",
    "    means = []\n",
    "    for i in np.arange(1000):\n",
    "        sample = united.select('Delay').sample(sample_size)\n",
    "        means.append(np.mean(sample.column('Delay')))\n",
    "    return means"
   ]
  },
  {
   "cell_type": "code",
   "execution_count": 13,
   "metadata": {},
   "outputs": [
    {
     "data": {
      "image/png": "[encoded data removed]",
      "text/plain": [
       "<Figure size 432x288 with 1 Axes>"
      ]
     },
     "metadata": {},
     "output_type": "display_data"
    }
   ],
   "source": [
    "Table().with_column('Sample means', sample_means(1)).hist(bins = 30, unit = 'minute')"
   ]
  },
  {
   "cell_type": "markdown",
   "metadata": {},
   "source": [
    "To a distribution that looks roughly normal (see below),"
   ]
  },
  {
   "cell_type": "code",
   "execution_count": 14,
   "metadata": {},
   "outputs": [
    {
     "data": {
      "image/png": "[encoded data removed]",
      "text/plain": [
       "<Figure size 432x288 with 1 Axes>"
      ]
     },
     "metadata": {},
     "output_type": "display_data"
    }
   ],
   "source": [
    "Table().with_column('Sample means', sample_means(1000)).hist(bins = 30, unit = 'minute')"
   ]
  },
  {
   "cell_type": "markdown",
   "metadata": {},
   "source": [
    "Thus, the **CLT** holds because we are analyzing `sample mean`.\n",
    "\n",
    "Our 95% confidence interval is **the center $\\pm$ 2 `SD` of the sample mean**. If we want a 95% confidence interval, we want an interval that contains 95% of the total area. \n",
    "\n",
    "Earlier we just bootstrap and find the 95%. Another way of doing the same thing is,\n",
    "1. We're looking at the sample average $\\pm$ 2 `SD` of the sample mean`\n",
    "2. We happen to know that the `SD` of the sample is,\n",
    "\\begin{equation*}\n",
    "sample`mean`SD = \\frac{population`SD}{\\sqrt{sample`size}}\n",
    "\\end{equation*}\n",
    "\n",
    "This means we can adjust the sample size to obtain a smaller or wider interval. \n",
    "3. The total width of the interval is roughly 4 `SD` of the sample mean"
   ]
  },
  {
   "cell_type": "markdown",
   "metadata": {},
   "source": [
    "## Problems\n",
    "However, there are also problems. \n",
    "\n",
    "The first major problem is that **we have to take a sample before we can decide how large of a sample we need**.\n",
    "\n",
    "Earlier, we want to know the sample size to obtain interval with width 10k or less. The problem is that we had to take a sample first (recall we took one with size `200`). From there we can say, \"we need to quadruple the sample size\". This means we need to go out again and take another sample of `800`. \n",
    "\n",
    "Unfortunately this is not a good practice. We want to avoid taking sample that that we don't know about in the first place. We want to be able to say, \"before we do any sampling, we need a sample of `this` size\". \n",
    "\n",
    "In addition, **we aren't guaranteed that our interval will be as narrow as we want**. \n",
    "\n",
    "Recall when we did the bootstrap, the interval and the `SD` varies every time we execute the code. Thus, it's difficult to obtain an interval that's exactly 10k. \n",
    "\n",
    "### Can we address this issue? "
   ]
  },
  {
   "cell_type": "markdown",
   "metadata": {},
   "source": [
    "## Discussion Question 5\n",
    "We want to estimate what % of voters will vote for Candidate A in an upcoming election. How many opinions should we sample at random in order to obtain a 95% confidence interval with a width of 3% or less?\n",
    "\n",
    "This time, we're asking of proportion instead of dollar amount. It turns out when we ask for proportions, it is solvable. \n",
    "\n",
    "Below we have a potential population of votes."
   ]
  },
  {
   "cell_type": "code",
   "execution_count": 15,
   "metadata": {},
   "outputs": [
    {
     "data": {
      "text/plain": [
       "0.3"
      ]
     },
     "execution_count": 15,
     "metadata": {},
     "output_type": "execute_result"
    }
   ],
   "source": [
    "votes = [1, 1, 1, 1, 1, 1, 1, 1, 1, 0]\n",
    "np.std(votes)"
   ]
  },
  {
   "cell_type": "markdown",
   "metadata": {},
   "source": [
    "Suppose in our population, 9 people voted for candidate A (indicated by `1`) and 1 person did not (indicated by `0`). If we sample from this population, we will obtain roughly 90% of people voting for candidate A. \n",
    "\n",
    "Earlier, we didn't know the population `SD`. If we knew the population `SD`, we can calculate \"how wide do we want to go to obtain a confidence interval as wide as we desire\". \n",
    "\n",
    "If we want the width to be 3%, we know that our confidence interval is the `mean` $\\pm$ 2 `SD`. The total width of the interval is 4 `SD` (2 on each side). Thus, if we want the width (which is 4 $\\times$ `SD`) to be less than or equal to 3%, the `SD` of the sample mean (or in this case, sample proportion) is, once again\n",
    "\n",
    "\\begin{equation*}\n",
    "sample`mean`SD = \\frac{population`SD}{\\sqrt{sample`size}}\n",
    "\\end{equation*}\n",
    "\n",
    "Plug in the numbers, we obtain, \n",
    "\\begin{equation*}\n",
    "{\\frac{4 \\times population`SD}{\\sqrt{sample`size}} \\le 0.03}\n",
    "\\end{equation*}\n",
    "\n",
    "If we want to solve for `sample size`, we can rearrange the equation, \n",
    "\n",
    "\\begin{equation*}\n",
    "sample`size \\ge (\\frac{4 \\times population`SD}{0.03})^2\n",
    "\\end{equation*}\n",
    "\n",
    "If we can find the right hand quantity, we can solve for the sample size.\n",
    "\n",
    "### What is the population `SD`?\n",
    "We know that the confidence interval will have a width of 4 `SD`. We also know that the width should be 3%. However, we don't know the `SD` of the population. **Actually, we don't have to know the population `SD`.** We can say, \"the `SD` will always be some number `x` or less\". Let's find out if we can obtain the upper bound of the `SD`."
   ]
  },
  {
   "cell_type": "code",
   "execution_count": 16,
   "metadata": {},
   "outputs": [
    {
     "data": {
      "text/plain": [
       "[1, 1, 1, 1, 1, 1, 1, 1, 1, 0]"
      ]
     },
     "execution_count": 16,
     "metadata": {},
     "output_type": "execute_result"
    }
   ],
   "source": [
    "votes"
   ]
  },
  {
   "cell_type": "markdown",
   "metadata": {},
   "source": [
    "We have the population above. We want to figure out how large the population `SD` can be. It seems that there's some limit on how large the `SD` can be. In the case of San Francisco Public Workers dataset, the data involved huge numbers such as 100k, 50k, and 30k. Thus, the `SD` can be large (e.g. 60k)\n",
    "\n",
    "In this case, our dataset only consists of `1` and `0`. This important fact allows us to infer that the population `SD` wouldn't be greater than some number. \n",
    "\n",
    "What happens if we change the `0` within `votes` to `1`?"
   ]
  },
  {
   "cell_type": "code",
   "execution_count": 17,
   "metadata": {},
   "outputs": [
    {
     "data": {
      "text/plain": [
       "[1, 1, 1, 1, 1, 1, 1, 1, 1, 1]"
      ]
     },
     "execution_count": 17,
     "metadata": {},
     "output_type": "execute_result"
    }
   ],
   "source": [
    "votes = [1] * 10\n",
    "votes"
   ]
  },
  {
   "cell_type": "code",
   "execution_count": 18,
   "metadata": {},
   "outputs": [
    {
     "data": {
      "text/plain": [
       "0.0"
      ]
     },
     "execution_count": 18,
     "metadata": {},
     "output_type": "execute_result"
    }
   ],
   "source": [
    "np.std(votes)"
   ]
  },
  {
   "cell_type": "markdown",
   "metadata": {},
   "source": [
    "The `SD` becomes `0`! This makes sense, if our data is all the same, then there will be no variation. This way, `SD` should be `0`. \n",
    "\n",
    "Now what if 4 out of the 10 people in `votes` didn't vote for candidate A?"
   ]
  },
  {
   "cell_type": "code",
   "execution_count": 19,
   "metadata": {},
   "outputs": [
    {
     "data": {
      "text/plain": [
       "[1, 1, 1, 1, 1, 1, 0, 0, 0, 0]"
      ]
     },
     "execution_count": 19,
     "metadata": {},
     "output_type": "execute_result"
    }
   ],
   "source": [
    "votes = [1] * 6 + [0] * 4\n",
    "votes"
   ]
  },
  {
   "cell_type": "code",
   "execution_count": 20,
   "metadata": {},
   "outputs": [
    {
     "data": {
      "text/plain": [
       "0.4898979485566356"
      ]
     },
     "execution_count": 20,
     "metadata": {},
     "output_type": "execute_result"
    }
   ],
   "source": [
    "np.std(votes)"
   ]
  },
  {
   "cell_type": "markdown",
   "metadata": {},
   "source": [
    "Now our `SD` is about 0.49! What if half of the `votes` didn't vote for candiadate `A`?"
   ]
  },
  {
   "cell_type": "code",
   "execution_count": 21,
   "metadata": {},
   "outputs": [],
   "source": [
    "votes = [1] * 5 + [0] * 5"
   ]
  },
  {
   "cell_type": "code",
   "execution_count": 22,
   "metadata": {},
   "outputs": [
    {
     "data": {
      "text/plain": [
       "0.5"
      ]
     },
     "execution_count": 22,
     "metadata": {},
     "output_type": "execute_result"
    }
   ],
   "source": [
    "np.std(votes)"
   ]
  },
  {
   "cell_type": "markdown",
   "metadata": {},
   "source": [
    "Then the `SD` would be `0.5`!\n",
    "\n",
    "We can create a function `sd_voters` that takes in a number of voters that will vote candidate A among `10` candidates, and does 2 things:\n",
    "1. Prints the total votes\n",
    "2. Returns the `SD`"
   ]
  },
  {
   "cell_type": "code",
   "execution_count": 23,
   "metadata": {},
   "outputs": [],
   "source": [
    "total_voters = 10\n",
    "\n",
    "def sd_voters(n_voters_for_a):\n",
    "    votes = np.append(np.ones(n_voters_for_a), np.zeros(total_voters - n_voters_for_a))\n",
    "    print(votes)\n",
    "    return np.std(votes)"
   ]
  },
  {
   "cell_type": "code",
   "execution_count": 24,
   "metadata": {},
   "outputs": [
    {
     "name": "stdout",
     "output_type": "stream",
     "text": [
      "[1. 1. 1. 1. 0. 0. 0. 0. 0. 0.]\n"
     ]
    },
    {
     "data": {
      "text/plain": [
       "0.48989794855663565"
      ]
     },
     "execution_count": 24,
     "metadata": {},
     "output_type": "execute_result"
    }
   ],
   "source": [
    "sd_voters(4)"
   ]
  },
  {
   "cell_type": "markdown",
   "metadata": {},
   "source": [
    "Let's make it interactive using `interact` function,"
   ]
  },
  {
   "cell_type": "code",
   "execution_count": 25,
   "metadata": {},
   "outputs": [
    {
     "data": {
      "application/vnd.jupyter.widget-view+json": {
       "model_id": "fee3cb6692d64c9b817393c9c873cad0",
       "version_major": 2,
       "version_minor": 0
      },
      "text/plain": [
       "interactive(children=(Dropdown(description='n_voters_for_a', options=(1, 2, 3, 4, 5, 6, 7, 8, 9, 10), value=1)…"
      ]
     },
     "metadata": {},
     "output_type": "display_data"
    }
   ],
   "source": [
    "_ = interact(sd_voters, n_voters_for_a = np.arange(1, 11) )"
   ]
  },
  {
   "cell_type": "markdown",
   "metadata": {},
   "source": [
    "Notice that if we change the `n_voters_for_a` to `4`, `5`, and `6`, the `SD` initially goes up when `n` is `5`, then goes back down when `n` is `6`! \n",
    "\n",
    "This is an interesting fact that if the data contains only `0`s and `1`s, the `SD` of the data will never be greater than `0.5`. Knowing this, we can just use the `0.5` and plan for the worst case. When we make a confidence interval, the interval depends on how large the `SD` is. If the `SD` is really large, the confidence interval would be really wide. However, if we know that the confidence interval would be some number between `0` and `0.5`, we can treat the `SD` as `0.5`. If it turns out that the `SD` is less than `0.5`,  then the **correct interval** should be still within the interval where the `SD` is 0.5.\n",
    "\n",
    "If the data is anything other than just `0`s and `1`s, the `SD` can be anything. However, **if the data consists of only `0` and `1`, the `SD` will never be greater than `0.5`!**\n",
    "\n",
    "Now we know that the \"worst\" `SD` is `0.5`. We want the width in `SD` to be less than `0.03.`Our confidence interval is `4 SD` wide, and **the goal is to have this number to be less than `0.03`**. \n",
    "\n",
    "Going back to the formula,\n",
    "\n",
    "\\begin{equation*}\n",
    "sample`size \\ge (\\frac{4 \\times population`SD}{0.03})^2\n",
    "\\end{equation*}\n",
    "\n",
    "Now that we know that the `population SD` will never be greater than `0.5`, we can plug in `0.5` for the `population SD`. Even if it turns out the `population SD` is less than `0.5`, the inequality $\\ge$ still holds. This is because if we make the RHS (right hand side) smaller, the LHS (left hand side) is still greater than the RHS."
   ]
  },
  {
   "cell_type": "code",
   "execution_count": 26,
   "metadata": {},
   "outputs": [],
   "source": [
    "worst_sd_pop = 0.5 # worst population SD\n",
    "width_in_sds = 4 # Width of confidence interval\n",
    "desired_width = 0.03 #"
   ]
  },
  {
   "cell_type": "markdown",
   "metadata": {},
   "source": [
    "Thus, the sample size is,"
   ]
  },
  {
   "cell_type": "code",
   "execution_count": 27,
   "metadata": {},
   "outputs": [
    {
     "data": {
      "text/plain": [
       "4444.444444444445"
      ]
     },
     "execution_count": 27,
     "metadata": {},
     "output_type": "execute_result"
    }
   ],
   "source": [
    "(width_in_sds * worst_sd_pop / desired_width) ** 2"
   ]
  },
  {
   "cell_type": "markdown",
   "metadata": {},
   "source": [
    "Above is the required sample size to obtain width of `SD` of at least `0.03` or smaller. This is saying that no matter what the population looks like, if we take a sample of `4445`, our confidence interval will always be `0.03` or less. This is because population `SD` will never be greater than `0.5`. \n",
    "\n",
    "Suppose we have a table called `voters` that contains the following,"
   ]
  },
  {
   "cell_type": "code",
   "execution_count": 28,
   "metadata": {},
   "outputs": [],
   "source": [
    "voters = Table().with_columns(\n",
    "    'Candidate', ['A', 'B'],\n",
    "    'Chance', [0.6, 0.4]\n",
    ")"
   ]
  },
  {
   "cell_type": "code",
   "execution_count": 29,
   "metadata": {},
   "outputs": [
    {
     "data": {
      "text/html": [
       "<table border=\"1\" class=\"dataframe\">\n",
       "    <thead>\n",
       "        <tr>\n",
       "            <th>Candidate</th> <th>Chance</th>\n",
       "        </tr>\n",
       "    </thead>\n",
       "    <tbody>\n",
       "        <tr>\n",
       "            <td>A        </td> <td>0.6   </td>\n",
       "        </tr>\n",
       "        <tr>\n",
       "            <td>B        </td> <td>0.4   </td>\n",
       "        </tr>\n",
       "    </tbody>\n",
       "</table>"
      ],
      "text/plain": [
       "Candidate | Chance\n",
       "A         | 0.6\n",
       "B         | 0.4"
      ]
     },
     "execution_count": 29,
     "metadata": {},
     "output_type": "execute_result"
    }
   ],
   "source": [
    "voters"
   ]
  },
  {
   "cell_type": "markdown",
   "metadata": {},
   "source": [
    "And suppose we don't know the `Chance`, so we only know the `Candidate`s,"
   ]
  },
  {
   "cell_type": "code",
   "execution_count": 30,
   "metadata": {},
   "outputs": [
    {
     "data": {
      "text/html": [
       "<table border=\"1\" class=\"dataframe\">\n",
       "    <thead>\n",
       "        <tr>\n",
       "            <th>Candidate</th>\n",
       "        </tr>\n",
       "    </thead>\n",
       "    <tbody>\n",
       "        <tr>\n",
       "            <td>A        </td>\n",
       "        </tr>\n",
       "        <tr>\n",
       "            <td>B        </td>\n",
       "        </tr>\n",
       "    </tbody>\n",
       "</table>"
      ],
      "text/plain": [
       "Candidate\n",
       "A\n",
       "B"
      ]
     },
     "execution_count": 30,
     "metadata": {},
     "output_type": "execute_result"
    }
   ],
   "source": [
    "voters.select(0)"
   ]
  },
  {
   "cell_type": "markdown",
   "metadata": {},
   "source": [
    "We (supposedly) don't know the the proportion of votes teach candidate has. We want a confidence interval for the proportion of voters with a width of 3% or less. Below we take a sample with size of `4445` of the votes, "
   ]
  },
  {
   "cell_type": "code",
   "execution_count": 31,
   "metadata": {},
   "outputs": [
    {
     "data": {
      "text/html": [
       "<table border=\"1\" class=\"dataframe\">\n",
       "    <thead>\n",
       "        <tr>\n",
       "            <th>Candidate</th>\n",
       "        </tr>\n",
       "    </thead>\n",
       "    <tbody>\n",
       "        <tr>\n",
       "            <td>B        </td>\n",
       "        </tr>\n",
       "        <tr>\n",
       "            <td>A        </td>\n",
       "        </tr>\n",
       "        <tr>\n",
       "            <td>A        </td>\n",
       "        </tr>\n",
       "    </tbody>\n",
       "</table>\n",
       "<p>... (4442 rows omitted)</p>"
      ],
      "text/plain": [
       "<IPython.core.display.HTML object>"
      ]
     },
     "metadata": {},
     "output_type": "display_data"
    }
   ],
   "source": [
    "n = 4445 # The calculated sample size\n",
    "observed_sample = voters.select(0).sample(n, weights = voters.column('Chance'))\n",
    "observed_sample.show(3)"
   ]
  },
  {
   "cell_type": "markdown",
   "metadata": {},
   "source": [
    "Now let's take the proportion of people who voted for A and bootstrap that."
   ]
  },
  {
   "cell_type": "code",
   "execution_count": 32,
   "metadata": {},
   "outputs": [],
   "source": [
    "means = []\n",
    "for i in np.arange(1000):\n",
    "    resample = observed_sample.sample()\n",
    "    # Counts the proportion of `A` in the 'resample' and append it to the `means` array\n",
    "    means.append(np.count_nonzero(resample.column(0) == 'A') / n)"
   ]
  },
  {
   "cell_type": "markdown",
   "metadata": {},
   "source": [
    "Now let's take the 95% confidence interval by taking the difference between the `97.5%` percentile and the `2.5%` percentile,"
   ]
  },
  {
   "cell_type": "code",
   "execution_count": 33,
   "metadata": {},
   "outputs": [
    {
     "name": "stdout",
     "output_type": "stream",
     "text": [
      "0.027896512935883022\n"
     ]
    }
   ],
   "source": [
    "print(percentile(97.5, means) - percentile(2.5, means))"
   ]
  },
  {
   "cell_type": "markdown",
   "metadata": {},
   "source": [
    "And indeed! The width is somewhere close to 0.03!"
   ]
  },
  {
   "cell_type": "code",
   "execution_count": null,
   "metadata": {},
   "outputs": [],
   "source": []
  }
 ],
 "metadata": {
  "kernelspec": {
   "display_name": "Python 3",
   "language": "python",
   "name": "python3"
  },
  "language_info": {
   "codemirror_mode": {
    "name": "ipython",
    "version": 3
   },
   "file_extension": ".py",
   "mimetype": "text/x-python",
   "name": "python",
   "nbconvert_exporter": "python",
   "pygments_lexer": "ipython3",
   "version": "3.7.2"
  }
 },
 "nbformat": 4,
 "nbformat_minor": 1
}
