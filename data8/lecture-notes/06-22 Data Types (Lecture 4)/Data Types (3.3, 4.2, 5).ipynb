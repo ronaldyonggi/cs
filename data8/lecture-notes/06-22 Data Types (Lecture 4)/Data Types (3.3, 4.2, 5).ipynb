{
 "cells": [
  {
   "cell_type": "markdown",
   "metadata": {},
   "source": [
    "\n",
    "## [Call Expressions](https://www.inferentialthinking.com/chapters/03/3/Calls) (Inferential Thinking - 3.3)\n",
    "\n",
    "Call expressions invoke functions, which are named operations. The name of the function appears first, followed by expressions in parentheses.\n",
    "\n",
    "### Anatomy of a Call Expression\n",
    "<img src = 'anatomy_call.jpg' width = 400/>\n",
    "\"Call f on the result of adding x + y and the return value of calling g on z\""
   ]
  },
  {
   "cell_type": "code",
   "execution_count": 1,
   "metadata": {},
   "outputs": [
    {
     "data": {
      "text/plain": [
       "12"
      ]
     },
     "execution_count": 1,
     "metadata": {},
     "output_type": "execute_result"
    }
   ],
   "source": [
    "abs(-12)"
   ]
  },
  {
   "cell_type": "markdown",
   "metadata": {},
   "source": [
    "**round** is a function takes in 2 arguments:\n",
    "1. An expression to calculate\n",
    "2. The number of decimal places desired in the return value\n",
    "\n",
    "If you only give the function 1 argument, **round** will return an integer."
   ]
  },
  {
   "cell_type": "code",
   "execution_count": 2,
   "metadata": {},
   "outputs": [
    {
     "data": {
      "text/plain": [
       "4"
      ]
     },
     "execution_count": 2,
     "metadata": {},
     "output_type": "execute_result"
    }
   ],
   "source": [
    "round(5 - 1.3)"
   ]
  },
  {
   "cell_type": "code",
   "execution_count": 3,
   "metadata": {},
   "outputs": [
    {
     "data": {
      "text/plain": [
       "3.66"
      ]
     },
     "execution_count": 3,
     "metadata": {},
     "output_type": "execute_result"
    }
   ],
   "source": [
    "round(5 - 1.342, 2)"
   ]
  },
  {
   "cell_type": "code",
   "execution_count": 4,
   "metadata": {},
   "outputs": [
    {
     "data": {
      "text/plain": [
       "3.658"
      ]
     },
     "execution_count": 4,
     "metadata": {},
     "output_type": "execute_result"
    }
   ],
   "source": [
    "round(5-1.342, 3)"
   ]
  },
  {
   "cell_type": "code",
   "execution_count": 5,
   "metadata": {},
   "outputs": [
    {
     "data": {
      "text/plain": [
       "5"
      ]
     },
     "execution_count": 5,
     "metadata": {},
     "output_type": "execute_result"
    }
   ],
   "source": [
    "max(2, 2 + 3, 4)"
   ]
  },
  {
   "cell_type": "markdown",
   "metadata": {},
   "source": [
    "In this last example, the max function is called on three arguments: 2, 5, and 4. The value of each expression within parentheses is passed to the function, and the function returns the final value of the full call expression. The max function can take any number of arguments and returns the maximum.\n",
    "\n",
    "A few functions are available by default, such as abs and round, but most functions that are built into the Python language are stored in a **collection of functions** called a **module**. An **import** statement is used to provide access to a module, such as math or operator."
   ]
  },
  {
   "cell_type": "code",
   "execution_count": 6,
   "metadata": {},
   "outputs": [
    {
     "data": {
      "text/plain": [
       "3.0"
      ]
     },
     "execution_count": 6,
     "metadata": {},
     "output_type": "execute_result"
    }
   ],
   "source": [
    "import math\n",
    "import operator\n",
    "math.sqrt(operator.add(4, 5))"
   ]
  },
  {
   "cell_type": "markdown",
   "metadata": {},
   "source": [
    "Above is equivalent to the following:"
   ]
  },
  {
   "cell_type": "code",
   "execution_count": null,
   "metadata": {},
   "outputs": [],
   "source": [
    "(4 + 5) ** 0.5"
   ]
  },
  {
   "cell_type": "markdown",
   "metadata": {},
   "source": [
    "**Operators** and **call** expressions can be used together in an expression. The percent difference between two values is used to compare values for which neither one is obviously initial or changed. For example, in 2014 Florida farms produced 2.72 billion eggs while Iowa farms produced 16.25 billion eggs (http://quickstats.nass.usda.gov/). The percent difference is 100 times the absolute value of the difference between the values, divided by their average. In this case, the difference is larger than the average, and so the percent difference is greater than 100."
   ]
  },
  {
   "cell_type": "code",
   "execution_count": 7,
   "metadata": {},
   "outputs": [
    {
     "data": {
      "text/plain": [
       "142.6462836056932"
      ]
     },
     "execution_count": 7,
     "metadata": {},
     "output_type": "execute_result"
    }
   ],
   "source": [
    "florida = 2.72\n",
    "iowa = 16.25\n",
    "100*abs(florida-iowa)/((florida+iowa)/2)"
   ]
  },
  {
   "cell_type": "markdown",
   "metadata": {},
   "source": [
    "Learning how different functions behave is an important part of learning a programming language. A Jupyter notebook can assist in remembering the names and effects of various functions. When writing code, press **tab** after typing the beginning of a name to bring up a list of ways to complete that name. For example, press **tab** after the word **math**. \n",
    "To see all of the functions available in the math module. Typing will narrow down the list of options. To learn more about a function, place a ? after its name. For example, typing math.log? will bring up a description of the log function in the math module."
   ]
  },
  {
   "cell_type": "code",
   "execution_count": 9,
   "metadata": {},
   "outputs": [],
   "source": [
    "math.log?"
   ]
  },
  {
   "cell_type": "markdown",
   "metadata": {},
   "source": [
    "The square brackets **[ ]** in the example call indicate that an argument is optional. That is, log can be called with either one or two arguments."
   ]
  },
  {
   "cell_type": "code",
   "execution_count": 10,
   "metadata": {},
   "outputs": [
    {
     "data": {
      "text/plain": [
       "4.0"
      ]
     },
     "execution_count": 10,
     "metadata": {},
     "output_type": "execute_result"
    }
   ],
   "source": [
    "math.log(16, 2)"
   ]
  },
  {
   "cell_type": "code",
   "execution_count": 11,
   "metadata": {},
   "outputs": [
    {
     "data": {
      "text/plain": [
       "4.0"
      ]
     },
     "execution_count": 11,
     "metadata": {},
     "output_type": "execute_result"
    }
   ],
   "source": [
    "math.log(16)/math.log(2)"
   ]
  },
  {
   "cell_type": "markdown",
   "metadata": {},
   "source": [
    "The list of [Python’s built-in functions](https://docs.python.org/3/library/functions.html) is quite long and includes many functions that are not needed in data science applications. The list of [mathematical functions in the math module](https://docs.python.org/3/library/math.html) is similarly long. This text will introduce the most important functions in context, rather than expecting the reader to memorize or understand these lists."
   ]
  },
  {
   "cell_type": "markdown",
   "metadata": {},
   "source": [
    "\n",
    "## [String](https://www.inferentialthinking.com/chapters/04/2/Strings) (Inferential Thinking - 4.2)\n",
    "\n",
    "* A string value is a snippet of text of any length\n",
    "    * 'a'\n",
    "    * 'word'\n",
    "    * \"there can be 2 sentences. Here's the second!\"\n",
    "* String that contain numbers can be converted to numbers\n",
    "    * int('12')\n",
    "    * float('1.2')\n",
    "* Any value can be converted to a string\n",
    "    * str(5)\n",
    "\n",
    "Much of the world’s data is text, and a piece of text represented in a computer is called a **string**. Since text can include numbers or truth values (True, False), a string can also describe them.\n",
    "\n",
    "The meaning of an expression depends both upon its structure and the types of values that are being combined. For example, adding 2 strings together produces another string. This expression is still an addition expression, but it is combining a different type of value."
   ]
  },
  {
   "cell_type": "code",
   "execution_count": 12,
   "metadata": {},
   "outputs": [
    {
     "data": {
      "text/plain": [
       "'datascience'"
      ]
     },
     "execution_count": 12,
     "metadata": {},
     "output_type": "execute_result"
    }
   ],
   "source": [
    "\"data\" + \"science\""
   ]
  },
  {
   "cell_type": "code",
   "execution_count": 13,
   "metadata": {},
   "outputs": [
    {
     "data": {
      "text/plain": [
       "'data science'"
      ]
     },
     "execution_count": 13,
     "metadata": {},
     "output_type": "execute_result"
    }
   ],
   "source": [
    "\"data\" + \" \" + \"science\""
   ]
  },
  {
   "cell_type": "markdown",
   "metadata": {},
   "source": [
    "Single and double quotes can both be used to create strings: 'hi' and \"hi\" are the same. Double quotes are preferred because they allow you to include apostrophes inside of strings."
   ]
  },
  {
   "cell_type": "code",
   "execution_count": 14,
   "metadata": {},
   "outputs": [
    {
     "data": {
      "text/plain": [
       "\"This won't work with a single-quoted string!\""
      ]
     },
     "execution_count": 14,
     "metadata": {},
     "output_type": "execute_result"
    }
   ],
   "source": [
    "\"This won't work with a single-quoted string!\""
   ]
  },
  {
   "cell_type": "markdown",
   "metadata": {},
   "source": [
    "### A Note on Functions / Methods\n",
    "* Functions are called by themselves\n",
    "    * abs(-2)\n",
    "    * int('42')\n",
    "* Methods are tied to a particular type\n",
    "    * 'hello'.count(2)\n",
    "    * 'Sam is kinda cool'.replace('kinda', 'very')\n",
    "    * math.pow(2, 5)"
   ]
  },
  {
   "cell_type": "markdown",
   "metadata": {},
   "source": [
    "## Arrays\n",
    "An array contains a sequence of values\n",
    "* All elements of an array should have the same type\n",
    "* Arithmetic is applied to each element individually\n",
    "* When 2 arrays with the same length are added to each other, corresponding elements are added (i.e. [1, 2, 3] + [2, 5, 7] = [3, 7, 10])\n",
    "\n",
    "### Demo - [Sequence](https://www.inferentialthinking.com/chapters/05/Sequences) (Inferential Thinking - 5)\n",
    "Values can be grouped together into collections so that programmers can organize those values and refer to all of them with a single name. By grouping values together, we can write code that performs a computation on many pieces of data at once.\n",
    "\n",
    "The function **make_array** creates an array containing several values. Note that you need to import the **datascience** library to use the function.\n",
    "\n",
    "Below, we store 4 different temperatures into an array called **highs**. These 4 temperatures are the [estimated average daily high temperatures](http://berkeleyearth.lbl.gov/regions/global-land) over the land on Earth (in Celsius) for the decades surrounding 1850, 1900, 1950, and 2000, respectively, expressed as deviations from the average absolute high temperature between 1951 and 1980, which was 14.48 degrees."
   ]
  },
  {
   "cell_type": "code",
   "execution_count": 4,
   "metadata": {},
   "outputs": [
    {
     "data": {
      "text/plain": [
       "array([13.6  , 14.387, 14.585, 15.164])"
      ]
     },
     "execution_count": 4,
     "metadata": {},
     "output_type": "execute_result"
    }
   ],
   "source": [
    "from datascience import *\n",
    "baseline_high = 14.48\n",
    "highs = make_array(\n",
    "    baseline_high - 0.880, #1850\n",
    "    baseline_high - 0.093, #1900\n",
    "    baseline_high + 0.105, #1950\n",
    "    baseline_high + 0.684) #2000\n",
    "highs"
   ]
  },
  {
   "cell_type": "markdown",
   "metadata": {},
   "source": [
    "Collections allow us to pass multiple values into a function using a single name. For instance, the sum function computes the sum of all values in a collection, and the len function computes its length. (That’s the number of values we put in it.) Using them together, we can compute the **average** of a collection."
   ]
  },
  {
   "cell_type": "code",
   "execution_count": 5,
   "metadata": {},
   "outputs": [
    {
     "data": {
      "text/plain": [
       "14.434000000000001"
      ]
     },
     "execution_count": 5,
     "metadata": {},
     "output_type": "execute_result"
    }
   ],
   "source": [
    "average = sum(highs)/len(highs)\n",
    "average"
   ]
  },
  {
   "cell_type": "markdown",
   "metadata": {},
   "source": [
    "Arrays can be used in arithmetic expressions to compute over their contents. When an array is combined with a single number, that number is combined to each element of the array. Therefore, we can convert all of these temperatures to Fahrenheit by writing the familiar conversion formula."
   ]
  },
  {
   "cell_type": "code",
   "execution_count": 7,
   "metadata": {},
   "outputs": [
    {
     "data": {
      "text/plain": [
       "array([56.48  , 57.8966, 58.253 , 59.2952])"
      ]
     },
     "execution_count": 7,
     "metadata": {},
     "output_type": "execute_result"
    }
   ],
   "source": [
    "Fahrenheit = (9/5) * highs + 32\n",
    "Fahrenheit"
   ]
  },
  {
   "cell_type": "markdown",
   "metadata": {},
   "source": [
    "Arrays also have **methods**, which are functions that operate on the array values. Here's an example of method **sizee** that calculates the length of an array."
   ]
  },
  {
   "cell_type": "code",
   "execution_count": null,
   "metadata": {},
   "outputs": [],
   "source": [
    "highs.size"
   ]
  },
  {
   "cell_type": "markdown",
   "metadata": {},
   "source": [
    "Here we call a function with no argument to perform the **sum** of the elements in an array."
   ]
  },
  {
   "cell_type": "code",
   "execution_count": 10,
   "metadata": {},
   "outputs": [
    {
     "data": {
      "text/plain": [
       "57.736000000000004"
      ]
     },
     "execution_count": 10,
     "metadata": {},
     "output_type": "execute_result"
    }
   ],
   "source": [
    "highs.sum()"
   ]
  },
  {
   "cell_type": "markdown",
   "metadata": {},
   "source": [
    "The **mean** is the average value: the sum divided by the length."
   ]
  },
  {
   "cell_type": "code",
   "execution_count": 11,
   "metadata": {},
   "outputs": [
    {
     "data": {
      "text/plain": [
       "14.434000000000001"
      ]
     },
     "execution_count": 11,
     "metadata": {},
     "output_type": "execute_result"
    }
   ],
   "source": [
    "highs.mean()"
   ]
  },
  {
   "cell_type": "markdown",
   "metadata": {},
   "source": [
    "### Functions on Arrays\n",
    "The **numpy** package, abbreviated np in programs, provides convenient and powerful functions for creating and manipulating arrays."
   ]
  },
  {
   "cell_type": "code",
   "execution_count": 12,
   "metadata": {},
   "outputs": [],
   "source": [
    "import numpy as np"
   ]
  },
  {
   "cell_type": "markdown",
   "metadata": {},
   "source": [
    "For example, the **diff** function computes the difference between each adjacent pair of elements in an array. The first element of the diff is the second element minus the first."
   ]
  },
  {
   "cell_type": "code",
   "execution_count": 13,
   "metadata": {},
   "outputs": [
    {
     "data": {
      "text/plain": [
       "array([0.787, 0.198, 0.579])"
      ]
     },
     "execution_count": 13,
     "metadata": {},
     "output_type": "execute_result"
    }
   ],
   "source": [
    "np.diff(highs)"
   ]
  },
  {
   "cell_type": "markdown",
   "metadata": {},
   "source": [
    "The [full Numpy reference](http://docs.scipy.org/doc/numpy/reference/) lists all the functions, but onaly a few of them are used commonly for data processing applications. These are grouped into different packages within np. Learning this vocabulary is an important part of learning the Python language, so refer back to this list often as you work through examples and problems.\n",
    "\n",
    "**However, you don’t need to memorize these. Use this as a reference.**"
   ]
  },
  {
   "cell_type": "markdown",
   "metadata": {},
   "source": [
    "Each of these functions takes an array as an argument and **returns a single value**.\n",
    "\n",
    "|Function|Description| \n",
    "|  ---  |  ---  |\n",
    "|  np.prod  | Multiply all elements |\n",
    "|  np.sum  | Sum all elements |\n",
    "|  np.all  | Check if **all** elements are True (non-zero numbers are True) |\n",
    "|  np.all  | Check if **any** elements are True (non-zero numbers are True) |\n",
    "|  np.count_nonzero  | Count the number of non-zero elements |"
   ]
  },
  {
   "cell_type": "markdown",
   "metadata": {},
   "source": [
    "Each of these functions takes an array as an argument and **returns another array**.\n",
    "\n",
    "|Function|Description| \n",
    "|  ---  |  ---  |\n",
    "|  np.diff  |Difference between adjacent elements |\n",
    "|  np.round  | Round each number to the nearest integer (whole number) |\n",
    "|  np.cumprod  | A cumulative product (For each element, multiply all elements so far |\n",
    "|  np.cumsum  | A cumulative sum (For each element, add all elements so far) |\n",
    "|  np.exp  | Exponentiate each element |\n",
    "|  np.log  | Return natural logarithm of each element |\n",
    "|  np.sqrt  | Return the square root of each element |\n",
    "|  np.sort  | Sort elements |"
   ]
  },
  {
   "cell_type": "markdown",
   "metadata": {},
   "source": [
    "## Ranges\n",
    "A range is an array of numbers in increasing or decreasing order, each separated by a regular interval.\n",
    "* np.arange(end):\n",
    "    * An array of increasing integers from 0 up to **end**\n",
    "* np.arange(start, end):\n",
    "    * An array of increasing integers from **start** to **end**\n",
    "* np.arange(start, end, step):\n",
    "    * A range with **step** (an amount of interval) between consecutive values\n",
    "    \n",
    "Range always includes **start** but **excludes end**."
   ]
  }
 ],
 "metadata": {
  "kernelspec": {
   "display_name": "Python 3",
   "language": "python",
   "name": "python3"
  },
  "language_info": {
   "codemirror_mode": {
    "name": "ipython",
    "version": 3
   },
   "file_extension": ".py",
   "mimetype": "text/x-python",
   "name": "python",
   "nbconvert_exporter": "python",
   "pygments_lexer": "ipython3",
   "version": "3.7.1"
  }
 },
 "nbformat": 4,
 "nbformat_minor": 1
}
