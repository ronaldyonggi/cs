{
 "cells": [
  {
   "cell_type": "markdown",
   "metadata": {},
   "source": [
    "# 1. Boxes and Pointers II"
   ]
  },
  {
   "cell_type": "code",
   "execution_count": null,
   "metadata": {},
   "outputs": [],
   "source": [
    "/* (a) */\n",
    "\n",
    "char a = 'a'; char b = 'a';\n",
    "b = 'b'; \n",
    "/* b now contains 'b' */\n",
    "\n",
    "int[] x = {1, 2, 3}; int[] y = x;\n",
    "/* 'y' is pointing at the same array as what \n",
    "'x' is pointing at */\n",
    "y[2] = 7;\n",
    "/* This changes both 'x' and 'y' since both are pointing at\n",
    "the same array */"
   ]
  },
  {
   "cell_type": "code",
   "execution_count": null,
   "metadata": {},
   "outputs": [],
   "source": [
    "/* (b) */\n",
    "\n",
    "IntList myList = IntList.list(1, 2, 3);\n",
    "IntList myList2 = myList;\n",
    "/* myList2 is now pointing at the same IntList as what \n",
    "'myList' is pointing at */\n",
    "\n",
    "myList.tail.tail.head = 7;\n",
    "/* Both myList and myList2 is now (1, 2, 7) */"
   ]
  },
  {
   "cell_type": "code",
   "execution_count": null,
   "metadata": {},
   "outputs": [],
   "source": [
    "/* (c) */\n",
    "\n",
    "IntList[] myList3 = new IntList[3];\n",
    "/* myList3 is now pointing at an array of empty IntLists */\n",
    "\n",
    "myList3[0] = IntList.list(1, 2);\n",
    "/* The 0th index of myList3 is now an IntList containing 1 -> 2 */\n",
    "\n",
    "myList3[1] = IntList.list(2);\n",
    "/* The 1st index of myList3 is now an IntList containing 2 */"
   ]
  },
  {
   "cell_type": "markdown",
   "metadata": {},
   "source": [
    "# 2. Objects Refresher"
   ]
  },
  {
   "cell_type": "code",
   "execution_count": 10,
   "metadata": {},
   "outputs": [],
   "source": [
    "public class Avatar {\n",
    "    public static String electricity;\n",
    "    /* Note here that electricity is set as static, so it's \n",
    "    a class variable, not an instance variable! If we change it,\n",
    "    we change all Avatar's 'electricity' */\n",
    "    \n",
    "    public String fluid;\n",
    "    \n",
    "    public Avatar(String str1, String str2) {\n",
    "        Avatar.electricity = str1;\n",
    "        this.fluid = str2;\n",
    "    }\n",
    "}"
   ]
  },
  {
   "cell_type": "code",
   "execution_count": 18,
   "metadata": {},
   "outputs": [
    {
     "name": "stdout",
     "output_type": "stream",
     "text": [
      "three two\n",
      "I declare four\n"
     ]
    }
   ],
   "source": [
    "/* (a) */\n",
    "\n",
    "Avatar foo1 = new Avatar(\"one \", \"two\");\n",
    "/* 'electricity' is set as \"one \" */\n",
    "\n",
    "Avatar foo2 = new Avatar(\"three \", \"four\");\n",
    "/* 'electricity is now set to \"three \" */\n",
    "\n",
    "System.out.println(foo1.electricity + foo1.fluid);\n",
    "/* This should print out \"three two\" */\n",
    "\n",
    "foo1.electricity = \"I declare \";\n",
    "/* 'electricity' is now \"I declare \" */\n",
    "\n",
    "foo1.fluid = \"a thumb war\";\n",
    "/* foo1's 'fluid' is now \"a thumb war\" */\n",
    "\n",
    "System.out.println(foo2.electricity + foo2.fluid);\n",
    "/* This should print \"I declare four\" */"
   ]
  },
  {
   "cell_type": "markdown",
   "metadata": {},
   "source": [
    "## b.\n",
    "\n",
    "No, this code won't compile. We also need to update line 5 and 6 so that:"
   ]
  },
  {
   "cell_type": "code",
   "execution_count": null,
   "metadata": {},
   "outputs": [],
   "source": [
    "this.electricity = str1;\n",
    "Avatar.fluid = str2;"
   ]
  },
  {
   "cell_type": "markdown",
   "metadata": {},
   "source": [
    "## c."
   ]
  },
  {
   "cell_type": "code",
   "execution_count": 20,
   "metadata": {},
   "outputs": [
    {
     "ename": "CompilationException",
     "evalue": "",
     "output_type": "error",
     "traceback": [
      "\u001b[1m\u001b[30m|   \u001b[1m\u001b[30m        return \u001b[0m\u001b[1m\u001b[30m\u001b[41mfluid\u001b[0m\u001b[1m\u001b[30m;\u001b[0m",
      "\u001b[1m\u001b[31mnon-static variable fluid cannot be referenced from a static context\u001b[0m",
      ""
     ]
    }
   ],
   "source": [
    "public class Avatar {\n",
    "    public static String electricity;\n",
    "    /* Note here that electricity is set as static, so it's \n",
    "    a class variable, not an instance variable! If we change it,\n",
    "    we change all Avatar's 'electricity' */\n",
    "    \n",
    "    public String fluid;\n",
    "    \n",
    "    public Avatar(String str1, String str2) {\n",
    "        Avatar.electricity = str1;\n",
    "        this.fluid = str2;\n",
    "    }\n",
    "    \n",
    "    public static String getFluid() {\n",
    "        return fluid;\n",
    "    }\n",
    "}"
   ]
  },
  {
   "cell_type": "markdown",
   "metadata": {},
   "source": [
    "As we can see, when we execute the code above, we run into error \"non-static variable `fluid` cannot be referenced from a static context\". This is because we are trying to access an instance variable, `fluid`, using a static class method."
   ]
  },
  {
   "cell_type": "markdown",
   "metadata": {},
   "source": [
    "# 3. Min/Max"
   ]
  },
  {
   "cell_type": "code",
   "execution_count": 28,
   "metadata": {},
   "outputs": [],
   "source": [
    "import static java.lang.Math.max;\n",
    "import static java.lang.Math.min;\n",
    "\n",
    "public static int[] minMax(int[] A){\n",
    "    /* Initially set both maxVal and minVal to be the first\n",
    "    element in the array A */\n",
    "    int maxVal = A[0];\n",
    "    int minVal = A[0];\n",
    "    \n",
    "    /* Loop through the rest of A and compare max and min\n",
    "    for each element */\n",
    "    for (int i = 1; i < A.length; i++){\n",
    "        maxVal = Math.max(maxVal, A[i]);\n",
    "        minVal = Math.min(minVal, A[i]);\n",
    "    }\n",
    "    return new int[]{minVal, maxVal};\n",
    "}"
   ]
  },
  {
   "cell_type": "markdown",
   "metadata": {},
   "source": [
    "# 4. Reverse"
   ]
  },
  {
   "cell_type": "code",
   "execution_count": 38,
   "metadata": {},
   "outputs": [],
   "source": [
    "public static void reverse(int[] A){\n",
    "    for (int i = 0; i < A.length/2; i++){\n",
    "        int temp = A[i];\n",
    "        A[i] = A[A.length - 1 - i];\n",
    "        A[A.length - 1 - i] = temp;\n",
    "    }\n",
    "}"
   ]
  },
  {
   "cell_type": "code",
   "execution_count": 39,
   "metadata": {},
   "outputs": [
    {
     "data": {
      "text/plain": [
       "3"
      ]
     },
     "execution_count": 39,
     "metadata": {},
     "output_type": "execute_result"
    }
   ],
   "source": [
    "/* Test for array of odd length */\n",
    "int[] a = new int[]{1, 2, 3};\n",
    "reverse(a);\n",
    "a[0];"
   ]
  },
  {
   "cell_type": "code",
   "execution_count": 40,
   "metadata": {},
   "outputs": [
    {
     "data": {
      "text/plain": [
       "1"
      ]
     },
     "execution_count": 40,
     "metadata": {},
     "output_type": "execute_result"
    }
   ],
   "source": [
    "a[2];"
   ]
  },
  {
   "cell_type": "code",
   "execution_count": 41,
   "metadata": {},
   "outputs": [
    {
     "data": {
      "text/plain": [
       "2"
      ]
     },
     "execution_count": 41,
     "metadata": {},
     "output_type": "execute_result"
    }
   ],
   "source": [
    "a[1];"
   ]
  },
  {
   "cell_type": "code",
   "execution_count": 42,
   "metadata": {},
   "outputs": [
    {
     "data": {
      "text/plain": [
       "4"
      ]
     },
     "execution_count": 42,
     "metadata": {},
     "output_type": "execute_result"
    }
   ],
   "source": [
    "/* Test for array of even length */\n",
    "int[] b = new int[]{1, 2, 3, 4};\n",
    "reverse(b);\n",
    "b[0];"
   ]
  },
  {
   "cell_type": "code",
   "execution_count": 43,
   "metadata": {},
   "outputs": [
    {
     "data": {
      "text/plain": [
       "3"
      ]
     },
     "execution_count": 43,
     "metadata": {},
     "output_type": "execute_result"
    }
   ],
   "source": [
    "b[1];"
   ]
  },
  {
   "cell_type": "code",
   "execution_count": 44,
   "metadata": {},
   "outputs": [
    {
     "data": {
      "text/plain": [
       "2"
      ]
     },
     "execution_count": 44,
     "metadata": {},
     "output_type": "execute_result"
    }
   ],
   "source": [
    "b[2];"
   ]
  },
  {
   "cell_type": "code",
   "execution_count": null,
   "metadata": {},
   "outputs": [],
   "source": []
  }
 ],
 "metadata": {
  "kernelspec": {
   "display_name": "Java",
   "language": "java",
   "name": "java"
  },
  "language_info": {
   "codemirror_mode": "java",
   "file_extension": ".jshell",
   "mimetype": "text/x-java-source",
   "name": "Java",
   "pygments_lexer": "java",
   "version": "11.0.6+10-post-Ubuntu-1ubuntu118.04.1"
  }
 },
 "nbformat": 4,
 "nbformat_minor": 4
}
