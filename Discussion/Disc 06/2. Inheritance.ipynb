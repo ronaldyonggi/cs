{
 "cells": [
  {
   "cell_type": "markdown",
   "metadata": {},
   "source": [
    "# Inheritance"
   ]
  },
  {
   "cell_type": "markdown",
   "metadata": {},
   "source": [
    "Python classes can implement a useful abstraction technique known as `inheritance`. To illustrate this concept, consider the following `Dog` and `Cat` classes."
   ]
  },
  {
   "cell_type": "code",
   "execution_count": 1,
   "metadata": {},
   "outputs": [],
   "source": [
    "class Dog(object):\n",
    "    \n",
    "    def __init__(self, name, owner):\n",
    "        self.is_alive = True\n",
    "        self.name = name\n",
    "        self.owner = owner\n",
    "        \n",
    "    def eat(self, thing):\n",
    "        print(self.name + \" ate a \" + str(thing) + \"!\")\n",
    "        \n",
    "    def talk(self):\n",
    "        print(self.name + \" says woof!\")"
   ]
  },
  {
   "cell_type": "code",
   "execution_count": 2,
   "metadata": {},
   "outputs": [],
   "source": [
    "class Cat(object):\n",
    "    \n",
    "    def __init__(self, name, owner, lives = 9):\n",
    "        self.is_alive = True\n",
    "        self.name = name\n",
    "        self.owner = owner\n",
    "        self.lives = lives\n",
    "    \n",
    "    def eat(self, thing):\n",
    "        print(self.name + \" ate a \" + str(thing) + \"!\")\n",
    "        \n",
    "    def talk(self):\n",
    "        print(self.name + \" says meow!\")"
   ]
  },
  {
   "cell_type": "markdown",
   "metadata": {},
   "source": [
    "Notice that because dogs and cats share a lot of similar qualities, there is a lot of repeated code! To avoid redefining attributes and methods for similar classes, we can write `superclass` from which the similar class `inherit`. \n",
    "\n",
    "For example, we can write a class called `Pet` and redefine `Dog` as a `subclass` of `Pet`."
   ]
  },
  {
   "cell_type": "code",
   "execution_count": 1,
   "metadata": {},
   "outputs": [],
   "source": [
    "class Pet(object):\n",
    "    \n",
    "    def __init__(self, name, owner):\n",
    "        self.is_alive = True\n",
    "        self.name = name\n",
    "        self.owner = owner\n",
    "        \n",
    "    def eat(self, thing):\n",
    "        print(self.name + \" ate a \" + str(thing) + \"!\")\n",
    "        \n",
    "    def talk(self):\n",
    "        print(self.name)"
   ]
  },
  {
   "cell_type": "code",
   "execution_count": 2,
   "metadata": {},
   "outputs": [],
   "source": [
    "class Dog(Pet):\n",
    "    def talk(self):\n",
    "        print(self.name + ' says woof!')"
   ]
  },
  {
   "cell_type": "markdown",
   "metadata": {},
   "source": [
    "Inheritance represents a hierarchical relationship between 2 or more classes where one class is a more specific version of the other (e.g. a `Dog` is a `Pet`). Since `Dog` inherits from `Pet`, we didn't have to redefine `__init__` or `eat` method. However, since we want `Dog` to talk in a way that is unique to dogs,"
   ]
  },
  {
   "cell_type": "code",
   "execution_count": null,
   "metadata": {},
   "outputs": [],
   "source": [
    "def talk(self):\n",
    "        print(self.name + ' says woof!')"
   ]
  },
  {
   "cell_type": "markdown",
   "metadata": {},
   "source": [
    "...we did `override` the `talk` method."
   ]
  },
  {
   "cell_type": "markdown",
   "metadata": {},
   "source": [
    "# Questions"
   ]
  },
  {
   "cell_type": "markdown",
   "metadata": {},
   "source": [
    "## 2.1"
   ]
  },
  {
   "cell_type": "markdown",
   "metadata": {},
   "source": [
    "Below is a skeleton for the `Cat` class, which inherits from the `Pet` class. To complete the implementation, override the `__init__` and `talk` methods and add a new `lose_life` method.\n",
    "\n",
    "Hint: You can call the `__init__` method of `Pet` to set a cat's `name` and `owner`"
   ]
  },
  {
   "cell_type": "code",
   "execution_count": 5,
   "metadata": {},
   "outputs": [],
   "source": [
    "class Cat(Pet):\n",
    "    def __init__(self, name, owner, lives = 9):\n",
    "        Pet.__init__(self, name, owner)\n",
    "        self.lives = lives\n",
    "        \n",
    "        \n",
    "    def talk(self):\n",
    "        \"\"\" Print out a cat's greeting.\n",
    "        \n",
    "        >>> Cat('Thomas', 'Tammy').talk()\n",
    "        Thomas says meow!\n",
    "        \"\"\"\n",
    "        print(self.name + ' says meow!')\n",
    "        \n",
    "    def lose_life(self):\n",
    "        \"\"\" Decrement a cat's life by 1. When lives reaches 0, \n",
    "        'is_alive' becomes False.\n",
    "        \"\"\"\n",
    "        self.lives -= 1\n",
    "        if self.lives <= 0:\n",
    "            self.lives, self.is_alive = 0, False"
   ]
  },
  {
   "cell_type": "markdown",
   "metadata": {},
   "source": [
    "## 2.2"
   ]
  },
  {
   "cell_type": "markdown",
   "metadata": {},
   "source": [
    "More cats! Fill in this implementation of a class called `NoisyCat`, which is just like a normal cat. However, `NoisyCat` talks a lot -- twice as much as a regular `Cat`!"
   ]
  },
  {
   "cell_type": "code",
   "execution_count": 6,
   "metadata": {},
   "outputs": [
    {
     "data": {
      "text/plain": [
       "TestResults(failed=0, attempted=2)"
      ]
     },
     "execution_count": 6,
     "metadata": {},
     "output_type": "execute_result"
    }
   ],
   "source": [
    "class NoisyCat(Cat):\n",
    "    \"\"\" A Cat that repeats things twice.\"\"\"\n",
    "    \n",
    "    # An init method is unnecessary since it can inherit from\n",
    "    # the Cat class.\n",
    "#     def __init__(self, name, owner, lives = 9):\n",
    "#         ___\n",
    "\n",
    "    def talk(self):\n",
    "        \"\"\" Talks twice as much as a regular cat.\n",
    "        >>> NoisyCat('Magic', 'James').talk()\n",
    "        Magic says meow!\n",
    "        Magic says meow!\n",
    "        \"\"\"\n",
    "        Cat.talk(self)\n",
    "        Cat.talk(self)\n",
    "        \n",
    "import doctest\n",
    "doctest.testmod()"
   ]
  },
  {
   "cell_type": "markdown",
   "metadata": {},
   "source": [
    "## 2.3"
   ]
  },
  {
   "cell_type": "markdown",
   "metadata": {},
   "source": [
    "(Summer 2013 Final) What would Python display?"
   ]
  },
  {
   "cell_type": "code",
   "execution_count": null,
   "metadata": {},
   "outputs": [],
   "source": [
    "class A:\n",
    "    def f(self):\n",
    "        return 2\n",
    "    def g(self, obj, x):\n",
    "        if x == 0:\n",
    "            return A.f(obj)\n",
    "        return obj.f() + self.g(self, x-1)\n",
    "    \n",
    "class B(A):\n",
    "    def f()"
   ]
  }
 ],
 "metadata": {
  "kernelspec": {
   "display_name": "Python 3",
   "language": "python",
   "name": "python3"
  },
  "language_info": {
   "codemirror_mode": {
    "name": "ipython",
    "version": 3
   },
   "file_extension": ".py",
   "mimetype": "text/x-python",
   "name": "python",
   "nbconvert_exporter": "python",
   "pygments_lexer": "ipython3",
   "version": "3.6.8"
  }
 },
 "nbformat": 4,
 "nbformat_minor": 2
}
