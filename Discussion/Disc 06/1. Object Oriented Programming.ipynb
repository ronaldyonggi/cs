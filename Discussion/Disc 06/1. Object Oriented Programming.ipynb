{
 "cells": [
  {
   "cell_type": "markdown",
   "metadata": {},
   "source": [
    "# Object Oriented Programming"
   ]
  },
  {
   "cell_type": "markdown",
   "metadata": {},
   "source": [
    "OOP allows us to treat data as objects. For example:\n",
    "\n",
    "Consider the `class Student`. \n",
    "\n",
    "1. Each of individuals is an `instance` of this class.\n",
    "    * A student `Angela` is an `instance` of the class `Student`.\n",
    "2. Details that the students have, i.e. `name`, `year`, `major`, are `instance attibutes`.\n",
    "    * Every student shas these attributes\n",
    "        * But their values differ from a student to student\n",
    "3. `Class attribute` is an attribute that is shared among all instances of `Student`\n",
    "    * Example: all the students have the same instructor: Professor DeNero\n",
    "4. When functions belong to a specific object, they are said to be **methods**. In this case, these actions would be bound methods of `Student` objects.\n",
    "\n",
    "Definitions:\n",
    "1. `class`: A template for creating objects\n",
    "2. `instance`: A single object created from a class\n",
    "3. `instance attribute`: A property of an object, specific to an instance\n",
    "4. `class attribute`: A property of an object, shared by all instances of a class\n",
    "5. `method`: An action (function) that all instances of a class may perform"
   ]
  },
  {
   "cell_type": "markdown",
   "metadata": {},
   "source": [
    "# Questions"
   ]
  },
  {
   "cell_type": "markdown",
   "metadata": {},
   "source": [
    "# 1.1"
   ]
  },
  {
   "cell_type": "markdown",
   "metadata": {},
   "source": [
    "Below we have defined the classes `Instructor`, `Student`, and `TeachingAssistant`, implementing some of what was described above. Remember that we pass the `self` argument implicitly to instance methods when using dot-notation. There are more questions on the next page."
   ]
  },
  {
   "cell_type": "code",
   "execution_count": 3,
   "metadata": {},
   "outputs": [],
   "source": [
    "class Instructor:\n",
    "    degree = \"PhD (Magic)\" # This is a class attribute\n",
    "    \n",
    "    def __init__(self, name):\n",
    "        self.name = name # This is an instance attribute\n",
    "        \n",
    "    def lecture(self, topic):\n",
    "        print(\"Today we're learning about \" + topic)        "
   ]
  },
  {
   "cell_type": "code",
   "execution_count": 4,
   "metadata": {},
   "outputs": [],
   "source": [
    "dumbledore = Instructor(\"Dumbledore\")"
   ]
  },
  {
   "cell_type": "code",
   "execution_count": 5,
   "metadata": {},
   "outputs": [],
   "source": [
    "class Student:\n",
    "    instructor = dumbledore\n",
    "    \n",
    "    def __init__(self, name, ta):\n",
    "        self.name = name\n",
    "        self.understanding = 0\n",
    "        ta.add_student(self)\n",
    "        \n",
    "    def attend_lecture(self, topic):\n",
    "        # Execute instructor's lecture method\n",
    "        Student.instructor.lecture(topic)\n",
    "        if Student.instructor == dumbledore:\n",
    "            print(Student.instructor.name + \" is awesome!\")\n",
    "        else:\n",
    "            print(\"I miss Dumbledore.\")\n",
    "        self.understanding += 1\n",
    "        \n",
    "    def visit_office_hours(self, staff):\n",
    "        staff.assist(self)\n",
    "        print(\"Thanks, \" + staff.name)"
   ]
  },
  {
   "cell_type": "code",
   "execution_count": 7,
   "metadata": {},
   "outputs": [],
   "source": [
    "class TeachingAssistant:\n",
    "    def __init__(self, name):\n",
    "        self.name = name\n",
    "        self.students = {}\n",
    "        \n",
    "    def add_student(self, student):\n",
    "        self.students[student.name] = student\n",
    "        \n",
    "    def assist(self, student):\n",
    "        student.understanding += 1"
   ]
  },
  {
   "cell_type": "markdown",
   "metadata": {},
   "source": [
    "What will the following lines output?"
   ]
  },
  {
   "cell_type": "code",
   "execution_count": 8,
   "metadata": {},
   "outputs": [
    {
     "name": "stdout",
     "output_type": "stream",
     "text": [
      "Today we're learning about potions\n",
      "Dumbledore is awesome!\n"
     ]
    }
   ],
   "source": [
    "snape = TeachingAssistant(\"Snape\")\n",
    "harry = Student(\"Harry\", snape)\n",
    "harry.attend_lecture(\"potions\")\n",
    "# Ans:\n",
    "# Today we're learning about potions\n",
    "# Dumbledore is awesome!"
   ]
  },
  {
   "cell_type": "code",
   "execution_count": 9,
   "metadata": {},
   "outputs": [
    {
     "name": "stdout",
     "output_type": "stream",
     "text": [
      "tahnks, Hagrid\n"
     ]
    }
   ],
   "source": [
    "harry.visit_office_hours(TeachingAssistant(\"Hagrid\"))\n",
    "# Ans:\n",
    "# Thanks, Hagrid"
   ]
  },
  {
   "cell_type": "code",
   "execution_count": 10,
   "metadata": {},
   "outputs": [
    {
     "data": {
      "text/plain": [
       "2"
      ]
     },
     "execution_count": 10,
     "metadata": {},
     "output_type": "execute_result"
    }
   ],
   "source": [
    "harry.understanding\n",
    "# Ans:\n",
    "# 2"
   ]
  },
  {
   "cell_type": "code",
   "execution_count": 11,
   "metadata": {},
   "outputs": [
    {
     "data": {
      "text/plain": [
       "['Harry']"
      ]
     },
     "execution_count": 11,
     "metadata": {},
     "output_type": "execute_result"
    }
   ],
   "source": [
    "[name for name in snape.students]\n",
    "# Ans: [\"Harry\"]"
   ]
  },
  {
   "cell_type": "code",
   "execution_count": 12,
   "metadata": {},
   "outputs": [
    {
     "name": "stdout",
     "output_type": "stream",
     "text": [
      "Today we're learning about transfiguration\n",
      "I miss Dumbledore.\n"
     ]
    }
   ],
   "source": [
    "Student.instructor = Instructor(\"Umbridge\")\n",
    "Student.attend_lecture(harry, \"transfiguration\")\n",
    "# Ans:\n",
    "# Today we're learning about transfiguration\n",
    "# I miss Dumbledore."
   ]
  },
  {
   "cell_type": "markdown",
   "metadata": {},
   "source": [
    "## 1.2"
   ]
  },
  {
   "cell_type": "markdown",
   "metadata": {},
   "source": [
    "We now want to write 3 different classes:\n",
    "1. `Mailman`\n",
    "2. `Client`\n",
    "3. `Email`\n",
    "\n",
    "to simulate email. Fill in the definitions below to finish the implementation!"
   ]
  },
  {
   "cell_type": "code",
   "execution_count": 2,
   "metadata": {},
   "outputs": [],
   "source": [
    "class Email:\n",
    "    \"\"\" Every email object has 3 instance attributes:\n",
    "    1. The message\n",
    "    2. The sender name\n",
    "    3. The recipient name\n",
    "    \"\"\"\n",
    "    def __init__(self, msg, sender_name, recipient_name):\n",
    "        self.msg = msg\n",
    "        self.sender_name = sender_name\n",
    "        self.recipient_name = recipient_name"
   ]
  },
  {
   "cell_type": "markdown",
   "metadata": {},
   "source": [
    "Above is pretty straightforward."
   ]
  },
  {
   "cell_type": "code",
   "execution_count": 3,
   "metadata": {},
   "outputs": [],
   "source": [
    "class Mailman:\n",
    "    \"\"\" Each Mailman has an instance attribute clients,\n",
    "    which is a dictionary that associates client names\n",
    "    with client objects.\"\"\"\n",
    "    def __init__(self):\n",
    "        self.clients = {}\n",
    "        \n",
    "    def send(self, email):\n",
    "        \"\"\" Take an email and put it in the inbox\n",
    "        of the client it is addressed to.\n",
    "        \"\"\"\n",
    "        self.clients[email.recipient_name].receive(email)\n",
    "        \n",
    "    def register_client(self, client, client_name):\n",
    "        \"\"\" Takes a client object and client_name and\n",
    "        adds it to the clients instance attribute\"\"\"\n",
    "        self.clients[client_name] = client"
   ]
  },
  {
   "cell_type": "markdown",
   "metadata": {},
   "source": [
    "#### Explanation for Mailman Class `send` method"
   ]
  },
  {
   "cell_type": "code",
   "execution_count": null,
   "metadata": {},
   "outputs": [],
   "source": [
    "def send(self, email):\n",
    "        \"\"\" Take an email and put it in the inbox\n",
    "        of the client it is addressed to.\n",
    "        \"\"\"\n",
    "        self.clients[email.recipient_name].receive(email)"
   ]
  },
  {
   "cell_type": "markdown",
   "metadata": {},
   "source": [
    "There is only one method available that involves putting an email to the inbox: the `Client`'s `receive` method. We need to incorporate the `send` method with `receive`. \n",
    "\n",
    "1. The `receive` method takes in an email."
   ]
  },
  {
   "cell_type": "code",
   "execution_count": null,
   "metadata": {},
   "outputs": [],
   "source": [
    ".receive(email)"
   ]
  },
  {
   "cell_type": "markdown",
   "metadata": {},
   "source": [
    "2. The `receive` method is the `Client` class method. However, `Mailman` has a dictionary of clients, so which client whose `receive` method is to be invoked?\n",
    "\n",
    "The `Client` is also the recipient of emails. An `Email` has the attribute `recipient_name`."
   ]
  },
  {
   "cell_type": "code",
   "execution_count": null,
   "metadata": {},
   "outputs": [],
   "source": [
    "email.recipient_name"
   ]
  },
  {
   "cell_type": "markdown",
   "metadata": {},
   "source": [
    "We can use this to choose the client whose `receive` method we want to invoke."
   ]
  },
  {
   "cell_type": "code",
   "execution_count": null,
   "metadata": {},
   "outputs": [],
   "source": [
    "self.clients[email.recipient_name]"
   ]
  },
  {
   "cell_type": "markdown",
   "metadata": {},
   "source": [
    "#### Explanation for Mailman Class `register_client` method"
   ]
  },
  {
   "cell_type": "code",
   "execution_count": null,
   "metadata": {},
   "outputs": [],
   "source": [
    "def register_client(self, client, client_name):\n",
    "        \"\"\" Takes a client object and client_name and\n",
    "        adds it to the clients instance attribute\"\"\"\n",
    "        self.clients[client_name] = client"
   ]
  },
  {
   "cell_type": "markdown",
   "metadata": {},
   "source": [
    "This is straightforward. Just add an entry of key-value pair to the dictionary."
   ]
  },
  {
   "cell_type": "code",
   "execution_count": 4,
   "metadata": {},
   "outputs": [],
   "source": [
    "class Client:\n",
    "    \"\"\" Every Client has instance attribute names (which\n",
    "    is used for addressing emails to the client), mailman (which\n",
    "    is used to send emails out to other clients), and inbox\n",
    "    (a list of all emails the client has received)\"\"\"\n",
    "    def __init__(self, mailman, name):\n",
    "        self.inbox = []\n",
    "        self.mailman = mailman\n",
    "        self.name = name\n",
    "        self.mailman.register_client(self, self.name)\n",
    "        \n",
    "    def compose(self, msg, recipient_name):\n",
    "        \"\"\" Send an email with the given message msg\n",
    "        to the given recipient client\"\"\"\n",
    "        email_send = Email(msg, self.name, recipient_name)\n",
    "        self.mailman.send(email_send)\n",
    "    \n",
    "    def receive(self, email):\n",
    "        \"\"\" Take an email and add it to the inbox of\n",
    "        this client.\"\"\"\n",
    "        self.inbox += [email]\n",
    "        # or self.inbox.append(email)"
   ]
  },
  {
   "cell_type": "markdown",
   "metadata": {},
   "source": [
    "#### Explanation for Client Class `init` method"
   ]
  },
  {
   "cell_type": "markdown",
   "metadata": {},
   "source": [
    "Most of it is straightforward, but we also need to register the `client` to its `mailman`'s `clients` dictionary. This can be done by invoking the `mailman`'s `register_client` method."
   ]
  },
  {
   "cell_type": "code",
   "execution_count": null,
   "metadata": {},
   "outputs": [],
   "source": [
    "self.mailman.register_client(self, self.name)"
   ]
  },
  {
   "cell_type": "markdown",
   "metadata": {},
   "source": [
    "#### Explanation for Client Class `compose` method"
   ]
  },
  {
   "cell_type": "code",
   "execution_count": null,
   "metadata": {},
   "outputs": [],
   "source": [
    "def compose(self, msg, recipient_name):\n",
    "        \"\"\" Send an email with the given message msg\n",
    "        to the given recipient client\"\"\"\n",
    "        email_send = Email(msg, self.name, recipient_name)\n",
    "        self.mailman.send(email_send)"
   ]
  },
  {
   "cell_type": "markdown",
   "metadata": {},
   "source": [
    "Since we are sending an email, we would need to create an `email` object. The `Email` class's `__init__` method requires a `sender_name`, which is the current `client`'s `name` attribute (in other words, `self.name`)."
   ]
  },
  {
   "cell_type": "code",
   "execution_count": null,
   "metadata": {},
   "outputs": [],
   "source": [
    "email_send = Email(msg, self.name, recipient_name)"
   ]
  },
  {
   "cell_type": "markdown",
   "metadata": {},
   "source": [
    "Next, to send an email, we would need `Mailman`'s `send` method. Make sure to use the client's exclusive `mailman` (`self.mailman`)."
   ]
  },
  {
   "cell_type": "code",
   "execution_count": null,
   "metadata": {},
   "outputs": [],
   "source": [
    "self.mailman.send(email_send)"
   ]
  }
 ],
 "metadata": {
  "kernelspec": {
   "display_name": "Python 3",
   "language": "python",
   "name": "python3"
  },
  "language_info": {
   "codemirror_mode": {
    "name": "ipython",
    "version": 3
   },
   "file_extension": ".py",
   "mimetype": "text/x-python",
   "name": "python",
   "nbconvert_exporter": "python",
   "pygments_lexer": "ipython3",
   "version": "3.6.8"
  }
 },
 "nbformat": 4,
 "nbformat_minor": 2
}
