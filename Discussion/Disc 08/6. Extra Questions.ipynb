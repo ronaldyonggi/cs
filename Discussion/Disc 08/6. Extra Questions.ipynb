{
 "cells": [
  {
   "cell_type": "code",
   "execution_count": 9,
   "metadata": {},
   "outputs": [],
   "source": [
    "(define nil ())"
   ]
  },
  {
   "cell_type": "markdown",
   "metadata": {},
   "source": [
    "### 6.1\n",
    "Fill in the following to complete an abstract tree data type,"
   ]
  },
  {
   "cell_type": "code",
   "execution_count": 10,
   "metadata": {},
   "outputs": [],
   "source": [
    "(define (make-tree label branches) (cons label branches))"
   ]
  },
  {
   "cell_type": "markdown",
   "metadata": {},
   "source": [
    "#### Strategy"
   ]
  },
  {
   "cell_type": "markdown",
   "metadata": {},
   "source": [
    "The label of the tree is usually a value, while the branches are a tree. In Scheme list perspective, it makes sense if we have the `car` of a list as a label and the `cdr` of the same list as the branches."
   ]
  },
  {
   "cell_type": "code",
   "execution_count": 11,
   "metadata": {},
   "outputs": [],
   "source": [
    "(define (label tree) (car tree))"
   ]
  },
  {
   "cell_type": "code",
   "execution_count": 12,
   "metadata": {},
   "outputs": [],
   "source": [
    "(define (branches tree) (cdr tree))"
   ]
  },
  {
   "cell_type": "markdown",
   "metadata": {},
   "source": [
    "### 6.2\n",
    "Using the abstract data type above, write a function that sums up the entries of a tree, assuming that the entries are all numbers.\n",
    "\n",
    "`Hint`: You may want to use the `map` function, and also a write a helper function for summing up the entries of a list."
   ]
  },
  {
   "cell_type": "markdown",
   "metadata": {},
   "source": [
    "#### Strategy"
   ]
  },
  {
   "cell_type": "markdown",
   "metadata": {},
   "source": [
    "Following what the hint says, it would be helpful if we define a procedure that sums up all the values in a list.\n",
    "\n",
    "The base case of the procedure `sum` would be that if `lst` is empty, then we return 0."
   ]
  },
  {
   "cell_type": "code",
   "execution_count": 13,
   "metadata": {},
   "outputs": [
    {
     "name": "stderr",
     "output_type": "stream",
     "text": [
      "\u001b[1;31m\n",
      "Traceback (most recent call last):\n",
      "  File \"In [13]\", line 1, col 12\n",
      "RunTimeError: unbound variable 'lst'\n",
      "\n",
      "\u001b[0m"
     ]
    }
   ],
   "source": [
    "(if (null? lst) 0)"
   ]
  },
  {
   "cell_type": "markdown",
   "metadata": {},
   "source": [
    "Otherwise, we sum up `car lst` with the result of calling recursive `sum` on `cdr lst`."
   ]
  },
  {
   "cell_type": "code",
   "execution_count": 14,
   "metadata": {},
   "outputs": [
    {
     "name": "stderr",
     "output_type": "stream",
     "text": [
      "\u001b[1;31m\n",
      "Traceback (most recent call last):\n",
      "  File \"In [14]\", line 1, col 9\n",
      "RunTimeError: unbound variable 'lst'\n",
      "\n",
      "\u001b[0m"
     ]
    }
   ],
   "source": [
    "(+ (car lst) (sum (cdr lst)))"
   ]
  },
  {
   "cell_type": "code",
   "execution_count": 15,
   "metadata": {},
   "outputs": [],
   "source": [
    "(define (sum lst)\n",
    "  (if (null? lst)\n",
    "      0\n",
    "      (+ (car lst) (sum (cdr lst)))\n",
    "      ) ; End of if\n",
    "  ) ; End of define"
   ]
  },
  {
   "cell_type": "markdown",
   "metadata": {},
   "source": [
    "Now for the actual `tree-sum` implementation, this function to add together the `label` of a tree,"
   ]
  },
  {
   "cell_type": "code",
   "execution_count": null,
   "metadata": {},
   "outputs": [],
   "source": [
    "(+ (label tree)"
   ]
  },
  {
   "cell_type": "markdown",
   "metadata": {},
   "source": [
    "...with the sum of applying `map` with `tree-sum` procedure on `branches tree`."
   ]
  },
  {
   "cell_type": "code",
   "execution_count": 16,
   "metadata": {},
   "outputs": [],
   "source": [
    "(define (tree-sum tree)\n",
    "  (+ (label tree) (sum (map tree-sum (branches tree))))\n",
    "  )"
   ]
  },
  {
   "cell_type": "code",
   "execution_count": null,
   "metadata": {},
   "outputs": [],
   "source": []
  }
 ],
 "metadata": {
  "kernelspec": {
   "display_name": "Calysto Scheme 3",
   "language": "scheme",
   "name": "calysto_scheme"
  },
  "language_info": {
   "codemirror_mode": {
    "name": "scheme"
   },
   "mimetype": "text/x-scheme",
   "name": "scheme",
   "pygments_lexer": "scheme"
  }
 },
 "nbformat": 4,
 "nbformat_minor": 2
}
