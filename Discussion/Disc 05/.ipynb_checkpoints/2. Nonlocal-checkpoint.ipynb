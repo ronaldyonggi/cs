{
 "cells": [
  {
   "cell_type": "code",
   "execution_count": null,
   "metadata": {},
   "outputs": [],
   "source": [
    "%load_ext tutormagic"
   ]
  },
  {
   "cell_type": "markdown",
   "metadata": {},
   "source": [
    "## 2.1"
   ]
  },
  {
   "cell_type": "markdown",
   "metadata": {},
   "source": [
    "Draw the environment diagram for the following code."
   ]
  },
  {
   "cell_type": "code",
   "execution_count": null,
   "metadata": {},
   "outputs": [],
   "source": [
    "%%tutor --lang python3\n",
    "\n",
    "def stepper(num):\n",
    "    def step():\n",
    "        nonlocal num\n",
    "        num = num + 1\n",
    "        return num\n",
    "    return step\n",
    "\n",
    "s = stepper(3)\n",
    "s()\n",
    "s()"
   ]
  },
  {
   "cell_type": "markdown",
   "metadata": {},
   "source": [
    "## 2.2"
   ]
  },
  {
   "cell_type": "markdown",
   "metadata": {},
   "source": [
    "The bathtub below simulates an epic batle between Finn and Kylo Renn over a populace of rubber duckies. Fill in thebody of `ducky` so that all doctests pass."
   ]
  },
  {
   "cell_type": "code",
   "execution_count": 3,
   "metadata": {},
   "outputs": [],
   "source": [
    "def bathtub(n):\n",
    "    def ducky_annihilator(rate):\n",
    "        def ducky():\n",
    "            nonlocal n\n",
    "            n = n - rate\n",
    "            print(n, 'rubber duckies left')\n",
    "        return ducky\n",
    "    return ducky_annihilator"
   ]
  },
  {
   "cell_type": "code",
   "execution_count": 8,
   "metadata": {},
   "outputs": [
    {
     "data": {
      "text/plain": [
       "TestResults(failed=0, attempted=6)"
      ]
     },
     "execution_count": 8,
     "metadata": {},
     "output_type": "execute_result"
    }
   ],
   "source": [
    "\n",
    "\"\"\"\n",
    ">>> annihilator = bathtub(500) # the force awakens...\n",
    ">>> kylo_ren = annihilator(10)\n",
    ">>> kylo_ren()\n",
    "490 rubber duckies left\n",
    ">>> rey = annihilator(-20)\n",
    ">>> rey()\n",
    "510 rubber duckies left\n",
    ">>> kylo_ren()\n",
    "500 rubber duckies left\n",
    "\"\"\"\n",
    "import doctest\n",
    "doctest.testmod()"
   ]
  },
  {
   "cell_type": "code",
   "execution_count": null,
   "metadata": {},
   "outputs": [],
   "source": []
  }
 ],
 "metadata": {
  "kernelspec": {
   "display_name": "Python 3",
   "language": "python",
   "name": "python3"
  },
  "language_info": {
   "codemirror_mode": {
    "name": "ipython",
    "version": 3
   },
   "file_extension": ".py",
   "mimetype": "text/x-python",
   "name": "python",
   "nbconvert_exporter": "python",
   "pygments_lexer": "ipython3",
   "version": "3.6.8"
  }
 },
 "nbformat": 4,
 "nbformat_minor": 2
}
