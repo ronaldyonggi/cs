{
 "cells": [
  {
   "cell_type": "code",
   "execution_count": 1,
   "metadata": {},
   "outputs": [],
   "source": [
    "%load_ext tutormagic"
   ]
  },
  {
   "cell_type": "markdown",
   "metadata": {},
   "source": [
    "# 1. Control\n",
    "** Control structures** direct the flow of logic in a program. For example:\n",
    "* Conditionals (`if-elif-else`) allow a program to skip sections of code\n",
    "* Iteration (`while`) allows a program to repeat a section\n",
    "\n",
    "## If Statements\n",
    "** Conditional statements** let programs execute certain lines of code depending on certain conditions. The syntax is as the following:"
   ]
  },
  {
   "cell_type": "code",
   "execution_count": null,
   "metadata": {},
   "outputs": [],
   "source": [
    "if <conditional expression>:\n",
    "    <suite of statements>\n",
    "elif <conditional expression>:\n",
    "    <suite of statements>\n",
    "else:\n",
    "    <suite of statements>    "
   ]
  },
  {
   "cell_type": "markdown",
   "metadata": {},
   "source": [
    "Recall the following:\n",
    "* `else` and `elif` are optional, and you can have as many `elif`s\n",
    "* A **conditional expression** is an expression that evaluates to either:\n",
    "    * true value (`True`, non-zero integer, etc.)\n",
    "    * or false value (`False`, `0`, `None`, \"\", `[]`, etc.)\n",
    "* Only the **suite** that is indented under the first `if`/`elif` with a **conditional expression** evaluating to a true value will be exectued\n",
    "* If none of the **conditional expressions** evaluate to a true value, then the `else` suite gets executed.\n",
    "    * There can only be 1 `else` in a conditional statement!\n",
    "\n",
    "## Boolean Operators\n",
    "Python also has the **boolean operators** `and`, `or`, and `not`. These operators are used to combine and manipulate boolean values.\n",
    "* `not` returns the opposite truth value of an expression\n",
    "* `and` stops evaluating expressions once it reaches the first false value and returns it. \n",
    "    * If all values evaluate to true value, the last value is returned\n",
    "* `or` short-circuits at the first true value and returns it.\n",
    "    * If all values evaluate to false value, the last value is returned."
   ]
  },
  {
   "cell_type": "code",
   "execution_count": 1,
   "metadata": {},
   "outputs": [
    {
     "data": {
      "text/plain": [
       "True"
      ]
     },
     "execution_count": 1,
     "metadata": {},
     "output_type": "execute_result"
    }
   ],
   "source": [
    "not None"
   ]
  },
  {
   "cell_type": "code",
   "execution_count": 2,
   "metadata": {},
   "outputs": [
    {
     "data": {
      "text/plain": [
       "False"
      ]
     },
     "execution_count": 2,
     "metadata": {},
     "output_type": "execute_result"
    }
   ],
   "source": [
    "not True"
   ]
  },
  {
   "cell_type": "code",
   "execution_count": 3,
   "metadata": {},
   "outputs": [
    {
     "data": {
      "text/plain": [
       "0"
      ]
     },
     "execution_count": 3,
     "metadata": {},
     "output_type": "execute_result"
    }
   ],
   "source": [
    "-1 and 0 and 1"
   ]
  },
  {
   "cell_type": "code",
   "execution_count": 4,
   "metadata": {},
   "outputs": [
    {
     "data": {
      "text/plain": [
       "9999"
      ]
     },
     "execution_count": 4,
     "metadata": {},
     "output_type": "execute_result"
    }
   ],
   "source": [
    "False or 9999 or 1/0"
   ]
  },
  {
   "cell_type": "markdown",
   "metadata": {},
   "source": [
    "### Question 1.1\n",
    "Alfonso will only wear a jacket outside if it is below 60 degrees or it is raining.\n",
    "Write a function that takes in the current temperature and a boolean value telling\n",
    "if it is raining and returns `True` if Alfonso will wear a jacket and `False` otherwise.\n",
    "First, try solving this problem using an `if` statement."
   ]
  },
  {
   "cell_type": "code",
   "execution_count": 9,
   "metadata": {},
   "outputs": [],
   "source": [
    "def wears_jacket_with_if(temp, raining):\n",
    "    \"\"\"\n",
    "    >>> wears_jacket(90, False)\n",
    "    False\n",
    "    >>> wears_jacket(40, False)\n",
    "    True\n",
    "    >>> wears_jacket(100, True)\n",
    "    True\n",
    "    \"\"\"\n",
    "    if temp < 60:\n",
    "        return True\n",
    "    elif raining == True:\n",
    "        return True\n",
    "    else:\n",
    "        return False"
   ]
  },
  {
   "cell_type": "code",
   "execution_count": 10,
   "metadata": {},
   "outputs": [
    {
     "data": {
      "text/plain": [
       "False"
      ]
     },
     "execution_count": 10,
     "metadata": {},
     "output_type": "execute_result"
    }
   ],
   "source": [
    "wears_jacket_with_if(90, False)"
   ]
  },
  {
   "cell_type": "code",
   "execution_count": 11,
   "metadata": {},
   "outputs": [
    {
     "data": {
      "text/plain": [
       "True"
      ]
     },
     "execution_count": 11,
     "metadata": {},
     "output_type": "execute_result"
    }
   ],
   "source": [
    "wears_jacket_with_if(40, False)"
   ]
  },
  {
   "cell_type": "code",
   "execution_count": 12,
   "metadata": {},
   "outputs": [
    {
     "data": {
      "text/plain": [
       "True"
      ]
     },
     "execution_count": 12,
     "metadata": {},
     "output_type": "execute_result"
    }
   ],
   "source": [
    "wears_jacket_with_if(100, True)"
   ]
  },
  {
   "cell_type": "markdown",
   "metadata": {},
   "source": [
    "Note that we’ll either return `True` or `False` based on a single condition, whose\n",
    "truthiness value will also be either `True` or `False`. Knowing this, try to write this\n",
    "function using a single line."
   ]
  },
  {
   "cell_type": "code",
   "execution_count": 13,
   "metadata": {},
   "outputs": [],
   "source": [
    "def wears_jacket(temp, raining):\n",
    "    return temp < 60 or raining"
   ]
  },
  {
   "cell_type": "code",
   "execution_count": 14,
   "metadata": {},
   "outputs": [
    {
     "data": {
      "text/plain": [
       "False"
      ]
     },
     "execution_count": 14,
     "metadata": {},
     "output_type": "execute_result"
    }
   ],
   "source": [
    "wears_jacket(90, False)"
   ]
  },
  {
   "cell_type": "code",
   "execution_count": 15,
   "metadata": {},
   "outputs": [
    {
     "data": {
      "text/plain": [
       "True"
      ]
     },
     "execution_count": 15,
     "metadata": {},
     "output_type": "execute_result"
    }
   ],
   "source": [
    "wears_jacket(40, False)"
   ]
  },
  {
   "cell_type": "code",
   "execution_count": 16,
   "metadata": {},
   "outputs": [
    {
     "data": {
      "text/plain": [
       "True"
      ]
     },
     "execution_count": 16,
     "metadata": {},
     "output_type": "execute_result"
    }
   ],
   "source": [
    "wears_jacket(100, True)"
   ]
  },
  {
   "cell_type": "markdown",
   "metadata": {},
   "source": [
    "## While Loops\n",
    "We can use **iteration** to repeat the same statements multiple times in a program. One way to do this is using a `while` loop.\n",
    "\n",
    "As long as `<conditional clause>` evaluates to a true value, `<body of statements>` will continue to be executed. The conditional clause gets evaluated each time the body finishes executing."
   ]
  },
  {
   "cell_type": "markdown",
   "metadata": {},
   "source": [
    "### Question 1.2\n",
    "What is the result of evaluating the following code?"
   ]
  },
  {
   "cell_type": "code",
   "execution_count": null,
   "metadata": {},
   "outputs": [],
   "source": [
    "def square(x):\n",
    "    return x * x\n",
    "\n",
    "def so_slow(num):\n",
    "    x = num\n",
    "    while x > 0:\n",
    "        x = x + 1\n",
    "    return x / 0\n",
    "\n",
    "square(so_slow(5))"
   ]
  },
  {
   "cell_type": "markdown",
   "metadata": {},
   "source": [
    "**Ans**: this code would run indefinitely"
   ]
  },
  {
   "cell_type": "markdown",
   "metadata": {},
   "source": [
    "### Question 1.3\n",
    "Write a function that returns `True` if n is a prime number and `False` otherwise. After\n",
    "you have a working solution, think about potential ways to make your solution more\n",
    "efficient.\n",
    "\n",
    "Hint: use the `%` operator: `x % y` returns the remainder of x when divided by y.\n"
   ]
  },
  {
   "cell_type": "code",
   "execution_count": 1,
   "metadata": {},
   "outputs": [],
   "source": [
    "def is_prime(n):\n",
    "    \"\"\"\n",
    "    >>> is_prime(10)\n",
    "    False\n",
    "    >>> is_prime(7)\n",
    "    True\n",
    "    \"\"\"\n",
    "    # 'divider' is a number that's going to be used for dividing n\n",
    "    divider = n - 1\n",
    "    while divider > 1:\n",
    "        if n % divider == 0:\n",
    "            return False\n",
    "        divider -= 1\n",
    "    \n",
    "    return True"
   ]
  },
  {
   "cell_type": "code",
   "execution_count": 2,
   "metadata": {},
   "outputs": [
    {
     "data": {
      "text/plain": [
       "False"
      ]
     },
     "execution_count": 2,
     "metadata": {},
     "output_type": "execute_result"
    }
   ],
   "source": [
    "is_prime(10)"
   ]
  },
  {
   "cell_type": "code",
   "execution_count": 3,
   "metadata": {},
   "outputs": [
    {
     "data": {
      "text/plain": [
       "True"
      ]
     },
     "execution_count": 3,
     "metadata": {},
     "output_type": "execute_result"
    }
   ],
   "source": [
    "is_prime(7)"
   ]
  },
  {
   "cell_type": "markdown",
   "metadata": {},
   "source": [
    "# 2. Environment Diagrams\n",
    "An **environment diagram** keeps track of all the variables that have been defined and the values they are bound to. We will be using this tool throughout the course to understand complex programs involving several different objects and function calls."
   ]
  },
  {
   "cell_type": "code",
   "execution_count": 7,
   "metadata": {},
   "outputs": [
    {
     "name": "nbtutor",
     "output_type": "stream",
     "text": []
    }
   ],
   "source": [
    "%%nbtutor -r -f\n",
    "\n",
    "x = 3\n",
    "\n",
    "def square(x):\n",
    "    return x ** 2\n",
    "\n",
    "square(2)"
   ]
  },
  {
   "cell_type": "markdown",
   "metadata": {},
   "source": [
    "Remember that programs are simply a set of statements, or instructions. Drawing diagrams that represent these programs also involve following sets of instruction!\n",
    "\n",
    "## Assignment Statements\n",
    "**Assignment statements**, such as  `x = 3`, define variables in programs. To execute one in an environment diagram, record the variable name and the value:\n",
    "\n",
    "1. Evaluate the expression on the right side of the `=` sign\n",
    "2. Write the variable name and expression's value in the current frame\n",
    "\n",
    "### Question 2.1\n",
    "Use these rules to draw a simple diagram for the assignment statements below."
   ]
  },
  {
   "cell_type": "code",
   "execution_count": 2,
   "metadata": {},
   "outputs": [
    {
     "data": {
      "text/html": [
       "\n",
       "        <iframe\n",
       "            width=\"100%\"\n",
       "            height=\"350\"\n",
       "            src=\"http://pythontutor.com/iframe-embed.html#code=%0Ax%20%3D%2010%20%25%204%0Ay%20%3D%20x%0Ax%20%2A%2A%3D%202%0A&origin=opt-frontend.js&cumulative=false&heapPrimitives=false&textReferences=false&curInstr=0&&verticalStack=false&py=3&rawInputLstJSON=%5B%5D&codeDivWidth=50%25&codeDivHeight=100%25\"\n",
       "            frameborder=\"0\"\n",
       "            allowfullscreen\n",
       "        ></iframe>\n",
       "        "
      ],
      "text/plain": [
       "<IPython.lib.display.IFrame at 0x58cfc10>"
      ]
     },
     "metadata": {},
     "output_type": "display_data"
    }
   ],
   "source": [
    "%%tutor --lang python3\n",
    "\n",
    "x = 10 % 4\n",
    "y = x\n",
    "x **= 2"
   ]
  },
  {
   "cell_type": "markdown",
   "metadata": {},
   "source": [
    "## def Statements\n",
    "`def` statements create function objects and bind them to a name. To create a diagram of `def` statements, record the function name and bind the function object to the name.\n",
    "It's also important to write the **parent frame** of the function, which is where the function is defined.\n",
    "\n",
    "1. Draw the function object to the right-hand-side of the frames, denoting the intrinsic name of the function, its parameters, and the parent frame\n",
    "2. Write the function name in the current frame and draw an arrow from the name to the function object\n",
    "\n",
    "### Question 2.1\n",
    "Use these rules to draw a simple diagram for the assignment statements below."
   ]
  },
  {
   "cell_type": "code",
   "execution_count": 6,
   "metadata": {},
   "outputs": [
    {
     "data": {
      "text/html": [
       "\n",
       "        <iframe\n",
       "            width=\"100%\"\n",
       "            height=\"350\"\n",
       "            src=\"http://pythontutor.com/iframe-embed.html#code=def%20double%28x%29%3A%0A%20%20%20%20y%20%3D%203%0A%20%20%20%20return%20x%20%2A%202%0A%0Adouble%283%29%0A&origin=opt-frontend.js&cumulative=false&heapPrimitives=false&textReferences=false&curInstr=0&&verticalStack=false&py=3&rawInputLstJSON=%5B%5D&codeDivWidth=50%25&codeDivHeight=100%25\"\n",
       "            frameborder=\"0\"\n",
       "            allowfullscreen\n",
       "        ></iframe>\n",
       "        "
      ],
      "text/plain": [
       "<IPython.lib.display.IFrame at 0x58cf9d0>"
      ]
     },
     "metadata": {},
     "output_type": "display_data"
    }
   ],
   "source": [
    "%%tutor --lang python3\n",
    "def double(x):\n",
    "    y = 3\n",
    "    return x * 2\n",
    "\n",
    "double(3)"
   ]
  },
  {
   "cell_type": "markdown",
   "metadata": {},
   "source": [
    "## Call Expressions\n",
    "Call expressions, such as `square(2)`, **apply functions to arguments**. When executing call expressions, we create a new frame in our diagram to keep track of local variables."
   ]
  },
  {
   "cell_type": "markdown",
   "metadata": {},
   "source": [
    "### Question 2.3\n",
    "Draw the environment diagram of the following code:"
   ]
  },
  {
   "cell_type": "code",
   "execution_count": 9,
   "metadata": {},
   "outputs": [
    {
     "name": "nbtutor",
     "output_type": "stream",
     "text": []
    }
   ],
   "source": [
    "%%nbtutor -r -f\n",
    "def double(x):\n",
    "    return x * 2\n",
    "hmmm = double\n",
    "wow = double(3)\n",
    "hmmm(wow)"
   ]
  },
  {
   "cell_type": "markdown",
   "metadata": {},
   "source": [
    "### Question 2.4\n",
    "Draw the environment diagram that results from executing the code below. What\n",
    "will be displayed when running the code (note this separately from the diagram)?"
   ]
  },
  {
   "cell_type": "code",
   "execution_count": 11,
   "metadata": {},
   "outputs": [
    {
     "name": "nbtutor",
     "output_type": "stream",
     "text": [
      "0\n"
     ]
    }
   ],
   "source": [
    "%%nbtutor -r -f\n",
    "from operator import add\n",
    "\n",
    "def sub(a, b):\n",
    "    sub = add\n",
    "    return a - b\n",
    "add = sub\n",
    "sub = min\n",
    "print(add(2, sub(2, 3)))"
   ]
  },
  {
   "cell_type": "code",
   "execution_count": null,
   "metadata": {},
   "outputs": [],
   "source": []
  }
 ],
 "metadata": {
  "celltoolbar": "Visualize",
  "kernelspec": {
   "display_name": "Python 3",
   "language": "python",
   "name": "python3"
  },
  "language_info": {
   "codemirror_mode": {
    "name": "ipython",
    "version": 3
   },
   "file_extension": ".py",
   "mimetype": "text/x-python",
   "name": "python",
   "nbconvert_exporter": "python",
   "pygments_lexer": "ipython3",
   "version": "3.7.1"
  }
 },
 "nbformat": 4,
 "nbformat_minor": 2
}
