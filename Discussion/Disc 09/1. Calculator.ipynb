{
 "cells": [
  {
   "cell_type": "markdown",
   "metadata": {},
   "source": [
    "# 1 Calculator"
   ]
  },
  {
   "cell_type": "markdown",
   "metadata": {},
   "source": [
    "The `Calculator` language consists of only 4 basic arithmetic operators: `+`, `-`, `*` and `/`.\n",
    "\n",
    "The reader component of an interpreter:\n",
    "* Parses input strings\n",
    "* Represents them as data structures in the implementing language\n",
    "\n",
    "In this case, we need to represent `Calculator` expressions as Python objects. To represent...\n",
    "* ...numbers, just use Python numbers\n",
    "* ...names of the arithmetic procedures, use Python strings (e.g. `+`)\n",
    "\n",
    "Call expressions in Calculator look just like Scheme lists. For example, to construct the expression `(+ 2 3)` in Scheme, we would do:"
   ]
  },
  {
   "cell_type": "code",
   "execution_count": null,
   "metadata": {},
   "outputs": [],
   "source": [
    "(cons '+ (cons 2 (cons 3 nil)))"
   ]
  },
  {
   "cell_type": "markdown",
   "metadata": {},
   "source": [
    "To represent Scheme lists in Python, we use the `Pair` class."
   ]
  },
  {
   "cell_type": "code",
   "execution_count": 1,
   "metadata": {},
   "outputs": [],
   "source": [
    "class Pair:\n",
    "    \"\"\"Represents the built-in pair data structure in Scheme.\"\"\"\n",
    "    def __init__(self, first, second):\n",
    "        self.first = first\n",
    "        self.second = second\n",
    "        \n",
    "    def map(self, fn):\n",
    "        \"\"\"Apply fn to every element in a well-formed list, returning a new\n",
    "        Pair.\n",
    "        >>> Pair(1, Pair(2, Pair(3, nil))).map(lambda x: x * x)\n",
    "        Pair(1, Pair(4, Pair(9, nil)))\n",
    "        \"\"\"\n",
    "        # Ensures that the list is a well-formed list\n",
    "        assert isinstance(self.second, Pair) or self.second is nil, \\\n",
    "            \"Second element in pair must be another pair or nil\"\n",
    "        return Pair(fn(self.first), self.second.map(fn))\n",
    "\n",
    "    def __getitem__(self, i):\n",
    "        \"\"\"Allows indexing well-formed lists and treat well-formed\n",
    "        lists like Python iterables.\n",
    "        >>> p = Pair(1, Pair(2, Pair(3, nil)))\n",
    "        >>> p[1]\n",
    "        2\n",
    "        >>> list(p)\n",
    "        [1, 2, 3]\n",
    "        \"\"\"\n",
    "        assert isinstance(self.second, Pair) or self.second is nil, \\\n",
    "            \"Second element in pair must be another pair or nil\"\n",
    "        if i == 0:\n",
    "            return self.first\n",
    "        return self.second[i - 1]\n",
    "    \n",
    "    def __repr__(self):\n",
    "        return 'Pair({}, {})'.format(self.first, self.second)"
   ]
  },
  {
   "cell_type": "code",
   "execution_count": 2,
   "metadata": {},
   "outputs": [],
   "source": [
    "class nil:\n",
    "    \"\"\"Represents the special empty pair nil in Scheme.\"\"\"\n",
    "    def map(self, fn):\n",
    "        return nil\n",
    "    def __getitem__(self, i):\n",
    "        raise IndexError('Index out of range')\n",
    "    def __repr__(self):\n",
    "        return 'nil'\n",
    "    \n",
    "nil = nil() # this hides the nil class *forever*"
   ]
  },
  {
   "cell_type": "markdown",
   "metadata": {},
   "source": [
    "## Questions"
   ]
  },
  {
   "cell_type": "markdown",
   "metadata": {},
   "source": [
    "### 1.1\n",
    "Write out the Calculator expression with proper syntax that corresponds to the following `Pair` constructor calls."
   ]
  },
  {
   "cell_type": "code",
   "execution_count": null,
   "metadata": {},
   "outputs": [],
   "source": [
    ">>> Pair('+', Pair(1, Pair(2, Pair(3, Pair(4, nil)))))\n",
    "(+ 1 2 3 4)"
   ]
  },
  {
   "cell_type": "code",
   "execution_count": null,
   "metadata": {},
   "outputs": [],
   "source": [
    ">>> Pair('+', Pair(1, Pair(Pair('*', Pair(2, Pair(3, nil))), nil)))\n",
    "(+ 1 (* 2 3))"
   ]
  },
  {
   "cell_type": "markdown",
   "metadata": {},
   "source": [
    "### 1.2\n",
    "Answer the following questions about a `Pair` instance representing the Calculator expression `(+ (- 2 4) 6 8)`."
   ]
  },
  {
   "cell_type": "markdown",
   "metadata": {},
   "source": [
    "#### i.\n",
    "Write out the Python expression that returns a `Pair` representing the given expression, and draw a box and pointer diagram corresponding to it.\n",
    "\n",
    "#### Answer"
   ]
  },
  {
   "cell_type": "code",
   "execution_count": 3,
   "metadata": {},
   "outputs": [
    {
     "data": {
      "text/plain": [
       "Pair(+, Pair(Pair(-, Pair(2, Pair(4, nil))), Pair(6, Pair(8, nil))))"
      ]
     },
     "execution_count": 3,
     "metadata": {},
     "output_type": "execute_result"
    }
   ],
   "source": [
    "Pair('+', Pair(Pair('-', Pair(2, Pair(4, nil))), Pair(6, Pair(8, nil))))"
   ]
  },
  {
   "cell_type": "markdown",
   "metadata": {},
   "source": [
    "#### ii. \n",
    "What is the operator of the call expression? Given that the `Pair` you constructed in the previous part was bound to the name `p`, how would you retrieve the operator?\n",
    "\n",
    "#### Answer"
   ]
  },
  {
   "cell_type": "code",
   "execution_count": 4,
   "metadata": {},
   "outputs": [
    {
     "data": {
      "text/plain": [
       "'+'"
      ]
     },
     "execution_count": 4,
     "metadata": {},
     "output_type": "execute_result"
    }
   ],
   "source": [
    "p = Pair('+', Pair(Pair('-', Pair(2, Pair(4, nil))), Pair(6, Pair(8, nil))))\n",
    "p.first"
   ]
  },
  {
   "cell_type": "markdown",
   "metadata": {},
   "source": [
    "As we can see above, the operator is `+`, and we can retrieve it by accessing `p.first` attribute"
   ]
  },
  {
   "cell_type": "markdown",
   "metadata": {},
   "source": [
    "#### iii. \n",
    "What are the operands of the call expression? Given that the Pair you constructed in Part (i) was bound to the name p, how would you retrieve a list containing all of the operands? How would you retrieve only the first operand?"
   ]
  },
  {
   "cell_type": "code",
   "execution_count": 5,
   "metadata": {},
   "outputs": [
    {
     "data": {
      "text/plain": [
       "Pair(Pair(-, Pair(2, Pair(4, nil))), Pair(6, Pair(8, nil)))"
      ]
     },
     "execution_count": 5,
     "metadata": {},
     "output_type": "execute_result"
    }
   ],
   "source": [
    "p.second #Retrieve the list containing all the operands"
   ]
  },
  {
   "cell_type": "code",
   "execution_count": 6,
   "metadata": {},
   "outputs": [
    {
     "data": {
      "text/plain": [
       "Pair(-, Pair(2, Pair(4, nil)))"
      ]
     },
     "execution_count": 6,
     "metadata": {},
     "output_type": "execute_result"
    }
   ],
   "source": [
    "p.second.first # Retrieve only the first operand"
   ]
  },
  {
   "cell_type": "code",
   "execution_count": null,
   "metadata": {},
   "outputs": [],
   "source": [
    " "
   ]
  }
 ],
 "metadata": {
  "kernelspec": {
   "display_name": "Python 3",
   "language": "python",
   "name": "python3"
  },
  "language_info": {
   "codemirror_mode": {
    "name": "ipython",
    "version": 3
   },
   "file_extension": ".py",
   "mimetype": "text/x-python",
   "name": "python",
   "nbconvert_exporter": "python",
   "pygments_lexer": "ipython3",
   "version": "3.7.3"
  }
 },
 "nbformat": 4,
 "nbformat_minor": 4
}
