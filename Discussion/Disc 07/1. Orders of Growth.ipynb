{
 "cells": [
  {
   "cell_type": "markdown",
   "metadata": {},
   "source": [
    "# Orders of Growth"
   ]
  },
  {
   "cell_type": "markdown",
   "metadata": {},
   "source": [
    "When we are analyzing the **efficiency** of a function, we want to know the following:\n",
    "\n",
    "As the size of the input grows, how does the runtime of the function change? Also what is `runtime`?\n",
    "\n",
    "`square(1)` requires one primitive operation: `*` (multiplication). `square(100)` also requires one. Regardless of the input `n` we pass into `square` function, it always takes one operation.\n",
    "\n",
    "|Input | Function Call | Return Value | Number of Operations |\n",
    "| --- | --- | --- | --- |\n",
    "| 1 | `square(1)` | 1 $\\times$ 1 | 1 | \n",
    "| 2 | `square(2)` | 2 $\\times$ 2 | 2 | \n",
    "|100 | `square(100)` | 100 $\\times$ 100 | 100| \n",
    "| `n` | `square(n)` | `n` $\\times$ `n` | 1 |"
   ]
  },
  {
   "cell_type": "markdown",
   "metadata": {},
   "source": [
    "`factorial(1)` requires one multiplication, but `factorial(100)` requires 100 multiplications. As we increase the input size of `n`, the runtime (number of operations) increases linearly proportional to the input.\n",
    "\n",
    "| Input | Function Call | Return Value | Number of Operations |\n",
    "| --- | --- | --- | --- |\n",
    "| 1 | `factorial(1)` | 1 $\\times$ 1 | 1 | \n",
    "| 2 | `factorial(2)` | 2 $\\times$ 1  | 2 | \n",
    "|100 | `factorial(100)` | 100 $\\times$ 99 $\\times$ ... $\\times$ 1 | 100| \n",
    "| `n` | `factorial(n)` | `n` $\\times$ `(n-1)` $\\times$ .... $\\times$ 1  | `n` |"
   ]
  },
  {
   "cell_type": "markdown",
   "metadata": {},
   "source": [
    "For expressing complexity, we use what's called big $\\Theta$ (Theta) notation. For example, if we say the running time of a function `foo` is in $\\Theta (n^2)$, this means the running time of the process will grow proportional to the **square of the size of the input as it becomes very large**.\n",
    "\n",
    "#### Ignore lower order terms\n",
    "If a function requires $n^3 + 3n^2 + 5n + 10$ operations with a given input `n`, then the runtime of this function is in $\\Theta(n^3)$. As `n` becomes larger, the lower order terms (10, `5n`, and `3n^2`) all become insignificant compared to `n^3`.\n",
    "\n",
    "#### Ignore constants\n",
    "If a function requires `5n` operations with a given input `n`, then the runtime of this function is in $\\Theta(n)$. We only care about how the runtime grows asymptotically with the input. Since `5n` is still asymptotically linear, the constant factor does not make a difference in runtime analysis."
   ]
  },
  {
   "cell_type": "markdown",
   "metadata": {},
   "source": [
    "## Kinds of Growth\n",
    "\n",
    "Here are some common orders of growth, ranked from no growth to fastest growth.\n",
    "\n",
    "$\\Theta(1)$ : constant time regardltess of input size.\n",
    "\n",
    "$\\Theta(log (n))$ : logarithmic time\n",
    "\n",
    "$\\Theta(n)$: linear time\n",
    "\n",
    "$\\Theta(n \\cdot log(n))$: linearithmic time\n",
    "\n",
    "$\\Theta(n^2), \\Theta(n^3)$, etc. : polynomial time\n",
    "\n",
    "$\\Theta(2^n), \\Theta(3^n)$, etc. : exponential time (considered \"intractable\"; these are totally horrible).\n",
    "\n",
    "In addition, some programs won't even terminate if they get stuck in an infinite loop."
   ]
  },
  {
   "cell_type": "markdown",
   "metadata": {},
   "source": [
    "## Questions"
   ]
  },
  {
   "cell_type": "markdown",
   "metadata": {},
   "source": [
    "What is the order of growth for the following function?"
   ]
  },
  {
   "cell_type": "code",
   "execution_count": null,
   "metadata": {},
   "outputs": [],
   "source": [
    "# 1.1\n",
    "\n",
    "def sum_of_factorial(n):\n",
    "    if n == 0:\n",
    "        return 1\n",
    "    else:\n",
    "        return factorial(n) + sum_of_factorial(n-1)"
   ]
  },
  {
   "cell_type": "markdown",
   "metadata": {},
   "source": [
    "Above answer: $\\Theta(n^2)$.\n",
    "\n",
    "For every recursive case, we are calling the `factorial(n)`, which has a runtime of $\\Theta(n)$ and the recursive `sum_of_factorial`. Thus, the order of growth can be described as $\\Theta(n^2)$"
   ]
  },
  {
   "cell_type": "code",
   "execution_count": null,
   "metadata": {},
   "outputs": [],
   "source": [
    "# 1.2\n",
    "\n",
    "def bonk(n):\n",
    "    total = 0\n",
    "    while n >= 2:\n",
    "        total += n\n",
    "        n = n / 2\n",
    "    return total"
   ]
  },
  {
   "cell_type": "markdown",
   "metadata": {},
   "source": [
    "Above answer: $\\Theta(log(n))$. `n` is being halved for every iteration."
   ]
  },
  {
   "cell_type": "code",
   "execution_count": null,
   "metadata": {},
   "outputs": [],
   "source": [
    "# 1.3\n",
    "\n",
    "def mod_7(n):\n",
    "    if n % 7 == 0:\n",
    "        return 0\n",
    "    else:\n",
    "        return 1 + mod_7(n-1)"
   ]
  },
  {
   "cell_type": "markdown",
   "metadata": {},
   "source": [
    "Above answer: $\\Theta(1)$. At most, we'll call the function 6 times to reach the base case. Supposedly $\\Theta(6)$, but can be reduced to $\\Theta(1)$."
   ]
  },
  {
   "cell_type": "code",
   "execution_count": null,
   "metadata": {},
   "outputs": [],
   "source": []
  }
 ],
 "metadata": {
  "kernelspec": {
   "display_name": "Python 3",
   "language": "python",
   "name": "python3"
  },
  "language_info": {
   "codemirror_mode": {
    "name": "ipython",
    "version": 3
   },
   "file_extension": ".py",
   "mimetype": "text/x-python",
   "name": "python",
   "nbconvert_exporter": "python",
   "pygments_lexer": "ipython3",
   "version": "3.6.8"
  }
 },
 "nbformat": 4,
 "nbformat_minor": 2
}
