{
 "cells": [
  {
   "cell_type": "code",
   "execution_count": 1,
   "metadata": {},
   "outputs": [],
   "source": [
    "from datascience import *\n",
    "import numpy as np\n",
    "\n",
    "%matplotlib inline\n",
    "import matplotlib.pyplot as plt\n",
    "plt.style.use('fivethirtyeight')\n",
    "\n",
    "from ipywidgets import interact, interactive, fixed, interact_manual\n",
    "import ipywidgets as widgets\n",
    "\n",
    "from toolz import memoize"
   ]
  },
  {
   "cell_type": "markdown",
   "metadata": {},
   "source": [
    "# Diagnostics\n",
    "In this lecture, we are going to talk about **making decisions**. Making decisions is tricky."
   ]
  },
  {
   "cell_type": "markdown",
   "metadata": {},
   "source": [
    "## Decision Under Uncertainty\n",
    "For example, in the study of * Interpretation by Physicians of Clinical Laboratory Results (1978)*,\n",
    "\n",
    "\"We asked 20 house officers, 20 fourth-year medical students and 20 attending physicians, selected in 67 consecutive hallway encounters at four Harvard Medical School teaching hospitals, the following question:\n",
    "\n",
    "If a test to detect a disease whose prevalence is 1/1000 (1 in 1000 people has the disease) has a false positive rate of 5% (if you don't have the disease, the test will wrongly says that you have the disease with a probability of 5%), what is the chance that a person found to have a positive result actually has a disease, assuming that you know nothing about the person's symptomps or signs?\"\n",
    "\n",
    "11 of 60 participants, or 18%, gave the correct answer. These participants included 4 of 20 fourth-year students, 3 of 20 residents in internal medicine and 4 of 20 attending physicians. The most common answer, given by 27, was that **the chance that a person found to have a positive result actually has the disease was 95%**. \n",
    "\n",
    "The most common answer above is incorrect! It's actually lower than 95%."
   ]
  },
  {
   "cell_type": "markdown",
   "metadata": {},
   "source": [
    "# Conditional Probability\n",
    "Conditional Probability refers to chances when we know something else has happened.\n",
    "\n",
    "In the **Interpretation by Physicians** example, when the test is positive, we want to find the chance that the person actually has the disease. We can set it in probability term as \"the chance a person has the disease given the test was positive for that particular person\". "
   ]
  },
  {
   "cell_type": "markdown",
   "metadata": {},
   "source": [
    "## Round 1\n",
    "Consider the following scenario:\n",
    "1. A class consisting of second years (60%) and third years (40%)\n",
    "2. 50% of the second years have declared their major\n",
    "3. 80% of the third years have declared their major\n",
    "\n",
    "We pick a student at random. Which is more likely the student that we pick: second year or third year?\n",
    "\n",
    "#### Ans: second year, since they're 60% of the class"
   ]
  },
  {
   "cell_type": "markdown",
   "metadata": {},
   "source": [
    "## Round 2\n",
    "Similar scenario as above, We pick a student but **the student has declared a major**. \n",
    "\n",
    "Assume we have 100 students in the class. The chance of getting a 2nd year student that has picked a major is:"
   ]
  },
  {
   "cell_type": "code",
   "execution_count": 2,
   "metadata": {},
   "outputs": [
    {
     "data": {
      "text/plain": [
       "0.3"
      ]
     },
     "execution_count": 2,
     "metadata": {},
     "output_type": "execute_result"
    }
   ],
   "source": [
    "(60 / 100) * (1/2)"
   ]
  },
  {
   "cell_type": "markdown",
   "metadata": {},
   "source": [
    "While the chance of getting a 3rd year student is:"
   ]
  },
  {
   "cell_type": "code",
   "execution_count": 3,
   "metadata": {},
   "outputs": [
    {
     "data": {
      "text/plain": [
       "0.32000000000000006"
      ]
     },
     "execution_count": 3,
     "metadata": {},
     "output_type": "execute_result"
    }
   ],
   "source": [
    "(40/100) * (80/100)"
   ]
  },
  {
   "cell_type": "markdown",
   "metadata": {},
   "source": [
    "Thus, **the answer is 3rd year**! How does this work?\n",
    "\n",
    "Assume we have `100` students in the class,\n",
    "\n",
    "<img src = '100.jpg' width = 150/>\n",
    "\n",
    "We split the students to 2nd years and 3rd years,\n",
    "\n",
    "<img src = '2nd_3rd.jpg' width = 200/>\n",
    "\n",
    "And we split the students again between those who declared and those who have not declared,\n",
    "\n",
    "<img src = 'declared.jpg' width = 200/>\n",
    "\n",
    "As we can see, there are more students who are declared 3rd years!"
   ]
  },
  {
   "cell_type": "markdown",
   "metadata": {},
   "source": [
    "# Bayes' Rule\n",
    "If we observe an event and we happen to know some information about the event beforehand, that changes what we believe. Since we know that the student we picked has a major, the chance the student is a 2nd year or 3rd year has changed. This phenomenon is described by **Bayes' Rule**.\n",
    "\n",
    "Suppose we want to find the chance **the student is 2nd year and has declared a major**. \n",
    "\n",
    "<img src = 'declared.jpg' width = 200/>\n",
    "\n",
    "Since we know that the student has declared a major, the student must have come from one of the 2 boxes on the upper part. Thus, the probability is:\n",
    "\n",
    "$$ Probability = \n",
    "\\frac\n",
    "{\\text{P (Second Year and Declared)}} \n",
    "{P (Declared)} = \\frac{30}{30+32} = 0.48\n",
    "$$"
   ]
  },
  {
   "cell_type": "markdown",
   "metadata": {},
   "source": [
    "## Terminology\n",
    "Here we draw the same box in a different way, called **tree diagram**. In this case, instead of assuming that we have `100` students, we use proportions / probabilities. \n",
    "\n",
    "<img src = 'terminology.jpg' width = 400/>\n",
    "\n",
    "We have names for these probabilities,\n",
    "<img src = 'terms.jpg' width = 500/>\n",
    "\n",
    "**Prior probability** is,  if we had no information at all, what we would predict about the student that we pick. **Prior** to any new information, we believed that 60% of the students would be 2nd years. "
   ]
  },
  {
   "cell_type": "markdown",
   "metadata": {},
   "source": [
    "## Bayes' Rule\n",
    "Bayes' Rule describes how to calculate the **Posterior probability**. **Posterior** implies what we would believe if we have more information and thus, in this case we are going backwards. \n",
    "\n",
    "<img src = 'bayes.jpg' width = 300/>\n",
    "\n",
    "In Bayes' rule, the probability of getting a **3rd year student that has declared a major** is:\n",
    "$$ Probability = \\frac\n",
    "{ P( \\text {Third Year and Declared})}\n",
    "{ P(Declared)}\n",
    "= \n",
    "\\frac{0.4 \\times 0.8}\n",
    "{(0.6 \\times 0.5) + (0.4 \\times 0.8)}\n",
    "$$\n",
    "\n",
    "Notice that the calculation above is similar to the ones we had with the box diagram. The difference is that this one is described in terms of probability with the tree diagram."
   ]
  },
  {
   "cell_type": "markdown",
   "metadata": {},
   "source": [
    "## Purpose of Bayes' Rule\n",
    "1. Update prediction based on new information\n",
    "    * When we obtain new information, what we believe also changes. If we know the student is declared, the chance that the student is 2nd year will be different than before.\n",
    "    \n",
    "2. In a multi-stage experiment, find the chance of an event at an earlier stage, given the result of a later stage\n",
    "    * We can use Bayes' rule to work backwards the probability of something happening\n",
    "    * This won't be covered in this lecture."
   ]
  },
  {
   "cell_type": "markdown",
   "metadata": {},
   "source": [
    "## You Try\n",
    "Now back to the **Interpretation by Physicians** problem, what is the chance that the person actually has disease?\n",
    "\n",
    "Here, if we have no information about the false positive rate (let's say the person did not take the test at all), then the chance the person has disease is 1/1000. Thus, we say the **Prior probability** is 1/1000.\n",
    "\n",
    "With the possibility of false positive rate of 5%, **assume that if a person has the disease, the test will always be positive**. Only when the person doesn't have the disease, that the false positive rate applies. \n",
    "\n",
    "Suggestion: draw the box or draw the tree diagram. The visualizations would help. \n",
    "\n",
    "<img src = 'disease.jpg' width = 400/>\n",
    "\n",
    "Thus, the probability that a person has a disease and received a positive test is:\n",
    "\n",
    "$$ P(\\text{Disease | +})\n",
    "= \\frac\n",
    "{P(\\text{Disease and +})}\n",
    "{P(+)}\n",
    "=\n",
    "\\frac\n",
    "{0.001 \\times 1}\n",
    "{(0.001 \\times 1) + (0.999 \\times 0.05)}\n",
    "= 2 \\text{%}\n",
    "$$\n",
    "\n",
    "This means we think that the person only has 2% chance of having the disease! \n",
    "\n",
    "The test is accurate, so why the chance is so low? This is because it's so rare for the disease to occur (only 1 in 1000 people). \n",
    "\n",
    "This is slightly better than before, when we tought that that a randomly picked person from the population would have 1/1000 chance of having the disease. Now the chance is 2%. "
   ]
  },
  {
   "cell_type": "markdown",
   "metadata": {},
   "source": [
    "# Decision\n",
    "Turns out that we have been using Bayes' rules at the back of our mind when making decisions. When we make decisions, we deal with **Subjective Probabilities**. "
   ]
  },
  {
   "cell_type": "markdown",
   "metadata": {},
   "source": [
    "## Subjective Probabilities\n",
    "There are 2 ways of viewing probabilites.\n",
    "\n",
    "A probability of an outcome is:\n",
    "1. The frequency with which the outcome will occur in repeated trials \n",
    "    * If we roll a die, we expect that out of 1 million rolls, 1/6 of them will be 6s\n",
    "    \n",
    "\n",
    "2. The subjective degree of belief that it will (or has occurred).\n",
    "    * In the prior example, our belief that a randomly selected person will have a disease is 1/1000. \n",
    "\n",
    "Why use subjective priors?\n",
    "\n",
    "1. When the subject of your prediction was not selected randomly from the population\n",
    "    * We're not sure about the 1/1000 probability. Suppose a person goes to the doctor, and the doctor says that the person should do the test, this chance is different than the chance of randomly selecting a person from the entire population and see whether the person has a disease.\n",
    "    * If somebody gets the test and goes to the doctor's office, the chance of that person having the disease is most likely greater than 1/1000. In this case, the person actually thinks that something is wrong with his/her body.\n",
    "    * The 1/1000 is our belief. It is what we think about the world. However, it is a **subjective probability**, and thus it can change. \n",
    "    \n",
    "    \n",
    "2. In order to quantify a belief that is relevant to a decision\n",
    "    * When we use subjective belief to do some calculation, if our belief is changed, the prior probability changes as well."
   ]
  },
  {
   "cell_type": "markdown",
   "metadata": {},
   "source": [
    "## You Try  #2\n",
    "Below is the tree diagram like before, but notice that the prior probabilities are different (`0.05` instead of `0.01`)\n",
    "\n",
    "<img src = 'disease_2.jpg' width = 400/>\n",
    "\n",
    "In this new case, if a person is actually getting the test, we think the person has 1 in 20 chance of getting the disease. \n",
    "\n",
    "If we repeat the calculation that we did before,\n",
    "$$ P(\\text{Disease | +})\n",
    "= \\frac\n",
    "{P(\\text{Disease and +})}\n",
    "{P(+)}\n",
    "=\n",
    "\\frac\n",
    "{0.05 \\times 1}\n",
    "{(0.05 \\times 1) + (0.95 \\times 0.05)}\n",
    "= 51 \\text{%}\n",
    "$$\n",
    "\n",
    "Thus, just by changing our prior belief about what we think the chance of the person getting disease, we obtain a very different decision.\n",
    "\n",
    "This 51% says that if a person gets the test and the result is positive, we think more likely than not, this person has a disease. In the previous case, if we're still under the assumption that 1  in 1000 people has disease, then we can say, \"the test result came out positive but the person probably doesn't have the disease\"."
   ]
  },
  {
   "cell_type": "markdown",
   "metadata": {},
   "source": [
    "## Recap\n",
    "1. Bayes' Rule lets us calculate conditional probabilities\n",
    "2. Draw the box / tree of events. It helps for calculation\n",
    "3. When making decision, or looking at other people's decision, take into account priors\n",
    "    * It could be our prior is A, then the other person's prior is B"
   ]
  },
  {
   "cell_type": "markdown",
   "metadata": {},
   "source": [
    "# Data Science"
   ]
  },
  {
   "cell_type": "markdown",
   "metadata": {},
   "source": [
    "## Why Data Science\n",
    "1. Unprecedented access to data means that we can make new discoveries and more informed decisions\n",
    "2. Computation is a powerful ally in data processing, visualization, prediction, and statistical inference\n",
    "    * We can do it by hand, but using computers is exceedingly more efficient\n",
    "3. Once we have data and once we use good statistics to draw conclusion, people can agree on evidence and measurement"
   ]
  },
  {
   "cell_type": "markdown",
   "metadata": {},
   "source": [
    "## How to Analyze Data\n",
    "If you can't remember everything in the class, then remember these:\n",
    "\n",
    "1. Begin with **a question from some domain**, **reasonable assumptions about the data**, and **a choice of methods**\n",
    "\n",
    "2. Visualize, then quantify\n",
    "\n",
    "3. The most important: Interpretation of the results in the language of the domain, without statistical jargon\n",
    "    * Make sure to be able to communicate the result to other people \n",
    "    \n",
    "### How to NOT Analyze Data: Only relying on `Quantify`"
   ]
  },
  {
   "cell_type": "markdown",
   "metadata": {},
   "source": [
    "## The Design of Data 8\n",
    "1. Table manipulation with Python\n",
    "2. Working with whole distributions, not just statistics\n",
    "3. Sampling and resampling for statistical inference\n",
    "4. Parametric & nonparametric prediction\n",
    "    * Confidence intervals\n",
    "    * Normal distribution\n",
    "5. Machine learning: generalization, feature selection, etc."
   ]
  },
  {
   "cell_type": "markdown",
   "metadata": {},
   "source": [
    "## The Same Data With Different Priors Result in Different Posteriors\n",
    "Depending on their prior beliefs, 2 people can have very different conclusions."
   ]
  },
  {
   "cell_type": "markdown",
   "metadata": {},
   "source": [
    "## The Classifier is more important than the prediction\n",
    "We don't have complete control on our results. If we only focus on one particular prediction, it won't help with making a good classifier. "
   ]
  },
  {
   "cell_type": "code",
   "execution_count": null,
   "metadata": {},
   "outputs": [],
   "source": []
  }
 ],
 "metadata": {
  "kernelspec": {
   "display_name": "Python 3",
   "language": "python",
   "name": "python3"
  },
  "language_info": {
   "codemirror_mode": {
    "name": "ipython",
    "version": 3
   },
   "file_extension": ".py",
   "mimetype": "text/x-python",
   "name": "python",
   "nbconvert_exporter": "python",
   "pygments_lexer": "ipython3",
   "version": "3.7.2"
  }
 },
 "nbformat": 4,
 "nbformat_minor": 1
}
