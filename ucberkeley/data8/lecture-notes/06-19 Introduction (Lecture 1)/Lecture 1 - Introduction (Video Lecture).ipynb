{
 "cells": [
  {
   "cell_type": "markdown",
   "metadata": {},
   "source": [
    "# Data Science\n",
    "\n",
    "## What is Data Science?\n",
    "\n",
    "Data science is the discipline of drawing conclusions from data using computation. Data science involves 3 main steps in the workflow:\n",
    "* Exploration\n",
    "    * Identifying patterns in information\n",
    "        * Example: You go to a Safeway market and notice that the price of chicken fluctuates throughout the week. You usually go to market on Sundays because that's when chickens are one sale: they are one dollar! However, you don't know the sale schedule\n",
    "    * Uses visualization\n",
    "        * For example: plot when the chickens are on sale so that you'll see a pattern\n",
    "* Inference : Decide whether the pattern that we observe is the actual pattern\n",
    "    * Quantifying whether those patterns are reliable\n",
    "        * If you're in the market 3 Sundays in a row and you see the chickens are one dollar, then you go on Wednesday and see the chickens are 2 dollars, we don't know if that pattern will be true all the time\n",
    "    * Uses randomization\n",
    "* Prediction: Using the data that we have seen previously to draw a conclusion and decide the next steps\n",
    "    * Example: now that you have gone to Safeway many times, you decided that it's ideal to go to Safeway on Sunday mornings so that you can buy all the chickens for one dollar each.\n",
    "    * Making informed guesses\n",
    "    * Uses machine learning"
   ]
  },
  {
   "cell_type": "markdown",
   "metadata": {},
   "source": [
    "# Connector Classes\n",
    "Data science does not exist from nothingness. Although in this class we focus on the fundamentals of data science, \n",
    "* Data science is driven by applications\n",
    "* Every data-driven subject brings new challenges\n",
    "* Thus, there are [connector classes](https://data.berkeley.edu/education/connectors) for the Data 8 class\n",
    "* Connector classes are small, independent courses taught by Berkeley faculty who share their expertise:\n",
    "    * Public health\n",
    "    * Law\n",
    "    * Ecology (e.g. global warming, sea level)\n",
    "* No connectors in the summer, take during the semester"
   ]
  },
  {
   "cell_type": "markdown",
   "metadata": {},
   "source": [
    "## Demo\n",
    "Every single notebook usually starts with a chunk of ugly code below. For now, don't worry about it."
   ]
  },
  {
   "cell_type": "code",
   "execution_count": 1,
   "metadata": {},
   "outputs": [],
   "source": [
    "from datascience import *\n",
    "import numpy as np\n",
    "%matplotlib inline\n",
    "import matplotlib.pyplot as plots\n",
    "plots.style.use('fivethirtyeight')\n",
    "import warnings\n",
    "warnings.simplefilter(action=\"ignore\", category=FutureWarning)\n",
    "\n",
    "from ipywidgets import *\n",
    "\n",
    "from urllib.request import urlopen \n",
    "import re\n",
    "def read_url(url): \n",
    "    return re.sub('\\\\s+', ' ', urlopen(url).read().decode())"
   ]
  },
  {
   "cell_type": "markdown",
   "metadata": {},
   "source": [
    "## Little Women\n",
    "\n",
    "In this example, we're going to explore statistics of the classic novel *Little Women* by Louisa May Alcott. If we open the following [URL](https://www.inferentialthinking.com/data/little_women.txt), we can see the whole text.\n",
    "\n",
    "From reading the first few text of the novel, we can draw some conclusions from this text (which is a form of data). We can conclude that some of the characters in the novel are probably spoiled. If we want to draw more conclusion from this text without having to read the whole textbook, we can process the text using the computer."
   ]
  },
  {
   "cell_type": "code",
   "execution_count": 7,
   "metadata": {},
   "outputs": [],
   "source": [
    "#Assign the whole text to the name 'little_women_url'\n",
    "little_women_url = 'https://www.inferentialthinking.com/data/little_women.txt'\n",
    "#Read into the url and assign it to name 'little_women_text'\n",
    "little_women_text = read_url(little_women_url)\n",
    "chapters = little_women_text.split('CHAPTER ')[1:]"
   ]
  },
  {
   "cell_type": "code",
   "execution_count": 3,
   "metadata": {},
   "outputs": [
    {
     "data": {
      "text/html": [
       "<table border=\"1\" class=\"dataframe\">\n",
       "    <thead>\n",
       "        <tr>\n",
       "            <th>Text</th>\n",
       "        </tr>\n",
       "    </thead>\n",
       "    <tbody>\n",
       "        <tr>\n",
       "            <td>ONE PLAYING PILGRIMS \"Christmas won't be Christmas witho ...</td>\n",
       "        </tr>\n",
       "        <tr>\n",
       "            <td>TWO A MERRY CHRISTMAS Jo was the first to wake in the gr ...</td>\n",
       "        </tr>\n",
       "        <tr>\n",
       "            <td>THREE THE LAURENCE BOY \"Jo! Jo! Where are you?\" cried Me ...</td>\n",
       "        </tr>\n",
       "        <tr>\n",
       "            <td>FOUR BURDENS \"Oh, dear, how hard it does seem to take up ...</td>\n",
       "        </tr>\n",
       "        <tr>\n",
       "            <td>FIVE BEING NEIGHBORLY \"What in the world are you going t ...</td>\n",
       "        </tr>\n",
       "        <tr>\n",
       "            <td>SIX BETH FINDS THE PALACE BEAUTIFUL The big house did pr ...</td>\n",
       "        </tr>\n",
       "        <tr>\n",
       "            <td>SEVEN AMY'S VALLEY OF HUMILIATION \"That boy is a perfect ...</td>\n",
       "        </tr>\n",
       "        <tr>\n",
       "            <td>EIGHT JO MEETS APOLLYON \"Girls, where are you going?\" as ...</td>\n",
       "        </tr>\n",
       "        <tr>\n",
       "            <td>NINE MEG GOES TO VANITY FAIR \"I do think it was the most ...</td>\n",
       "        </tr>\n",
       "        <tr>\n",
       "            <td>TEN THE P.C. AND P.O. As spring came on, a new set of am ...</td>\n",
       "        </tr>\n",
       "    </tbody>\n",
       "</table>\n",
       "<p>... (37 rows omitted)</p>"
      ],
      "text/plain": [
       "Text\n",
       "ONE PLAYING PILGRIMS \"Christmas won't be Christmas witho ...\n",
       "TWO A MERRY CHRISTMAS Jo was the first to wake in the gr ...\n",
       "THREE THE LAURENCE BOY \"Jo! Jo! Where are you?\" cried Me ...\n",
       "FOUR BURDENS \"Oh, dear, how hard it does seem to take up ...\n",
       "FIVE BEING NEIGHBORLY \"What in the world are you going t ...\n",
       "SIX BETH FINDS THE PALACE BEAUTIFUL The big house did pr ...\n",
       "SEVEN AMY'S VALLEY OF HUMILIATION \"That boy is a perfect ...\n",
       "EIGHT JO MEETS APOLLYON \"Girls, where are you going?\" as ...\n",
       "NINE MEG GOES TO VANITY FAIR \"I do think it was the most ...\n",
       "TEN THE P.C. AND P.O. As spring came on, a new set of am ...\n",
       "... (37 rows omitted)"
      ]
     },
     "execution_count": 3,
     "metadata": {},
     "output_type": "execute_result"
    }
   ],
   "source": [
    "Table().with_columns('Text', chapters)"
   ]
  },
  {
   "cell_type": "markdown",
   "metadata": {},
   "source": [
    "Above, we have a table in which each row contains the entire text of each chapter. We can see that we have a total of 47 chapters! Now what if we want to know how many times the word `Christmas` appears in the text?"
   ]
  },
  {
   "cell_type": "code",
   "execution_count": 4,
   "metadata": {},
   "outputs": [
    {
     "data": {
      "text/plain": [
       "array([8, 9, 1, 1, 1, 0, 0, 0, 0, 0, 0, 0, 0, 0, 0, 0, 0, 0, 0, 0, 0, 8,\n",
       "       0, 0, 0, 0, 0, 0, 0, 0, 0, 0, 2, 0, 0, 0, 6, 0, 0, 0, 1, 0, 0, 0,\n",
       "       0, 0, 0])"
      ]
     },
     "execution_count": 4,
     "metadata": {},
     "output_type": "execute_result"
    }
   ],
   "source": [
    "np.char.count(chapters, 'Christmas')"
   ]
  },
  {
   "cell_type": "markdown",
   "metadata": {},
   "source": [
    "Above, the output is an array! Each number corresponds to a chapter in the text, and the number tells us how many times the word `Christmas` appear in that chapter.\n",
    "* In chapter 1, the word `Christmas` appears 8 times\n",
    "* In chapter 2, it appears 9 times\n",
    "* In chapter 3, it appears once\n",
    "* and so on\n",
    "\n",
    "Even from this output of numbers, we can already see some patterns!\n",
    "\n",
    "The text *Little Women* involves 4 sisters. We can analyze how many times their names appear in the text."
   ]
  },
  {
   "cell_type": "code",
   "execution_count": 12,
   "metadata": {},
   "outputs": [
    {
     "data": {
      "text/html": [
       "<table border=\"1\" class=\"dataframe\">\n",
       "    <thead>\n",
       "        <tr>\n",
       "            <th>Jo</th> <th>Meg</th> <th>Amy</th> <th>Beth</th>\n",
       "        </tr>\n",
       "    </thead>\n",
       "    <tbody>\n",
       "        <tr>\n",
       "            <td>44  </td> <td>26  </td> <td>23  </td> <td>26  </td>\n",
       "        </tr>\n",
       "        <tr>\n",
       "            <td>21  </td> <td>20  </td> <td>13  </td> <td>12  </td>\n",
       "        </tr>\n",
       "        <tr>\n",
       "            <td>62  </td> <td>36  </td> <td>2   </td> <td>2   </td>\n",
       "        </tr>\n",
       "        <tr>\n",
       "            <td>34  </td> <td>17  </td> <td>14  </td> <td>18  </td>\n",
       "        </tr>\n",
       "        <tr>\n",
       "            <td>55  </td> <td>13  </td> <td>6   </td> <td>14  </td>\n",
       "        </tr>\n",
       "        <tr>\n",
       "            <td>13  </td> <td>5   </td> <td>6   </td> <td>28  </td>\n",
       "        </tr>\n",
       "        <tr>\n",
       "            <td>9   </td> <td>5   </td> <td>27  </td> <td>5   </td>\n",
       "        </tr>\n",
       "        <tr>\n",
       "            <td>71  </td> <td>16  </td> <td>48  </td> <td>9   </td>\n",
       "        </tr>\n",
       "        <tr>\n",
       "            <td>21  </td> <td>71  </td> <td>3   </td> <td>5   </td>\n",
       "        </tr>\n",
       "        <tr>\n",
       "            <td>12  </td> <td>4   </td> <td>5   </td> <td>5   </td>\n",
       "        </tr>\n",
       "    </tbody>\n",
       "</table>\n",
       "<p>... (37 rows omitted)</p>"
      ],
      "text/plain": [
       "Jo   | Meg  | Amy  | Beth\n",
       "44   | 26   | 23   | 26\n",
       "21   | 20   | 13   | 12\n",
       "62   | 36   | 2    | 2\n",
       "34   | 17   | 14   | 18\n",
       "55   | 13   | 6    | 14\n",
       "13   | 5    | 6    | 28\n",
       "9    | 5    | 27   | 5\n",
       "71   | 16   | 48   | 9\n",
       "21   | 71   | 3    | 5\n",
       "12   | 4    | 5    | 5\n",
       "... (37 rows omitted)"
      ]
     },
     "execution_count": 12,
     "metadata": {},
     "output_type": "execute_result"
    }
   ],
   "source": [
    "Table().with_columns(\n",
    "    'Jo', np.char.count(chapters, 'Jo'),\n",
    "    'Meg', np.char.count(chapters, 'Meg'),\n",
    "    'Amy', np.char.count(chapters, 'Amy'),\n",
    "    'Beth', np.char.count(chapters, 'Beth')\n",
    ")"
   ]
  },
  {
   "cell_type": "markdown",
   "metadata": {},
   "source": [
    "From the numbers above, we can try to conclude some pattern. However, it would be much more convenient if we can visualize the data above and observe the pattern from the visualization."
   ]
  },
  {
   "cell_type": "code",
   "execution_count": 11,
   "metadata": {},
   "outputs": [
    {
     "data": {
      "image/png": "[encoded data removed]",
      "text/plain": [
       "<Figure size 432x288 with 1 Axes>"
      ]
     },
     "metadata": {},
     "output_type": "display_data"
    }
   ],
   "source": [
    "# `cumsum` means cumulative sum\n",
    "# For example, with `Jo`, at x-axis 1 the y-axis is 44\n",
    "# at x-axis 2, the y-axis is 44 + 21 = 65\n",
    "\n",
    "#overlay means have the different plots stacked in one plot\n",
    "Table().with_columns(\n",
    "    'Jo', np.char.count(chapters, 'Jo'),\n",
    "    'Meg', np.char.count(chapters, 'Meg'),\n",
    "    'Amy', np.char.count(chapters, 'Amy'),\n",
    "    'Beth', np.char.count(chapters, 'Beth')\n",
    ").cumsum().plot(overlay = True)"
   ]
  },
  {
   "cell_type": "markdown",
   "metadata": {},
   "source": [
    "By chapter 10, `Jo` has been mentioned about 400 times. By chapter 20, it has been mentioned roughly 700 times.\n",
    "\n",
    "Just from the above plot, we can see which character seem important and which character might seem not so important.\n",
    "\n",
    "Now we're going to see if we can also analyze the amount of times a certain `name` that we put ourselves appear in the text."
   ]
  },
  {
   "cell_type": "code",
   "execution_count": 14,
   "metadata": {},
   "outputs": [
    {
     "data": {
      "application/vnd.jupyter.widget-view+json": {
       "model_id": "141eddb64a464ba5b79d33e312e84f64",
       "version_major": 2,
       "version_minor": 0
      },
      "text/plain": [
       "interactive(children=(Text(value='Ron', description='name'), Button(description='Run Interact', style=ButtonSt…"
      ]
     },
     "metadata": {},
     "output_type": "display_data"
    }
   ],
   "source": [
    "def plot_custom(name):\n",
    "    Table().with_columns([\n",
    "    'Jo', np.char.count(chapters, 'Jo'),\n",
    "    'Meg', np.char.count(chapters, 'Meg'),\n",
    "    'Amy', np.char.count(chapters, 'Amy'),\n",
    "    'Beth', np.char.count(chapters, 'Beth'),\n",
    "    name, np.char.count(chapters, name)]\n",
    ").cumsum().plot(overlay = True)\n",
    "    plots.show()\n",
    "    \n",
    "_ = interact_manual(plot_custom, name = 'Ron')    "
   ]
  },
  {
   "cell_type": "markdown",
   "metadata": {},
   "source": [
    "We can see above that the name `Ron` is probably not in the text at all! We can change the input name and see if other names are in the text. "
   ]
  },
  {
   "cell_type": "code",
   "execution_count": 15,
   "metadata": {},
   "outputs": [
    {
     "data": {
      "application/vnd.jupyter.widget-view+json": {
       "model_id": "7a879a8f82f346fe86d05275b9db7df8",
       "version_major": 2,
       "version_minor": 0
      },
      "text/plain": [
       "interactive(children=(Text(value='Laurie', description='name'), Button(description='Run Interact', style=Butto…"
      ]
     },
     "metadata": {},
     "output_type": "display_data"
    }
   ],
   "source": [
    "def plot_custom(name):\n",
    "    Table().with_columns([\n",
    "    'Jo', np.char.count(chapters, 'Jo'),\n",
    "    'Meg', np.char.count(chapters, 'Meg'),\n",
    "    'Amy', np.char.count(chapters, 'Amy'),\n",
    "    'Beth', np.char.count(chapters, 'Beth'),\n",
    "    name, np.char.count(chapters, name)]\n",
    ").cumsum().plot(overlay = True)\n",
    "    plots.show()\n",
    "    \n",
    "_ = interact_manual(plot_custom, name = 'Laurie')    "
   ]
  },
  {
   "cell_type": "markdown",
   "metadata": {},
   "source": [
    "If we input the name `Laurie`, it appears that `Laurie` appears quite a few times in the text! `Laurie` is the boy next door. From the plot above, we can see that `Laurie` was not mentioned at all for the first few chapters. \n",
    "\n",
    "We can also look at the plot and draw some conclusions about the relationship of characters. Around chapter 35, we can see that the line for `Amy` is roughly close to that of `Laurie`, which implies that every time the name `Amy` is mentioned, the name `Laurie` is also mentioned alongside. In the text, `Amy` and `Laurie` indeed become close to each other and eventually married to each other! This is an example that from data visualization, we can not only deduce who's important in the novel, but also the nature of relationships between characters in the novel.\n",
    "\n",
    "This time, we're going to count the number of times the period `.` appears in the novel."
   ]
  },
  {
   "cell_type": "code",
   "execution_count": 16,
   "metadata": {},
   "outputs": [
    {
     "data": {
      "text/plain": [
       "array([189, 188, 231, 195, 255, 140, 131, 214, 337, 185, 193, 429, 175,\n",
       "       180, 181, 172, 155, 144, 121, 145, 269, 120, 247, 182,  91, 150,\n",
       "       109, 271, 233, 218, 178, 224, 232, 257, 201, 100, 157, 206, 263,\n",
       "        61, 187, 118, 305,  95,  96, 234, 392])"
      ]
     },
     "execution_count": 16,
     "metadata": {},
     "output_type": "execute_result"
    }
   ],
   "source": [
    "np.char.count(chapters, '.')"
   ]
  },
  {
   "cell_type": "markdown",
   "metadata": {},
   "source": [
    "We'll also calculate the number of characters in each chapter and compare it with the number of periods."
   ]
  },
  {
   "cell_type": "code",
   "execution_count": 19,
   "metadata": {},
   "outputs": [
    {
     "data": {
      "text/html": [
       "<table border=\"1\" class=\"dataframe\">\n",
       "    <thead>\n",
       "        <tr>\n",
       "            <th>Characters</th> <th>Periods</th>\n",
       "        </tr>\n",
       "    </thead>\n",
       "    <tbody>\n",
       "        <tr>\n",
       "            <td>21759     </td> <td>189    </td>\n",
       "        </tr>\n",
       "        <tr>\n",
       "            <td>22148     </td> <td>188    </td>\n",
       "        </tr>\n",
       "        <tr>\n",
       "            <td>20558     </td> <td>231    </td>\n",
       "        </tr>\n",
       "        <tr>\n",
       "            <td>25526     </td> <td>195    </td>\n",
       "        </tr>\n",
       "        <tr>\n",
       "            <td>23395     </td> <td>255    </td>\n",
       "        </tr>\n",
       "        <tr>\n",
       "            <td>14622     </td> <td>140    </td>\n",
       "        </tr>\n",
       "        <tr>\n",
       "            <td>14431     </td> <td>131    </td>\n",
       "        </tr>\n",
       "        <tr>\n",
       "            <td>22476     </td> <td>214    </td>\n",
       "        </tr>\n",
       "        <tr>\n",
       "            <td>33767     </td> <td>337    </td>\n",
       "        </tr>\n",
       "        <tr>\n",
       "            <td>18508     </td> <td>185    </td>\n",
       "        </tr>\n",
       "    </tbody>\n",
       "</table>\n",
       "<p>... (37 rows omitted)</p>"
      ],
      "text/plain": [
       "Characters | Periods\n",
       "21759      | 189\n",
       "22148      | 188\n",
       "20558      | 231\n",
       "25526      | 195\n",
       "23395      | 255\n",
       "14622      | 140\n",
       "14431      | 131\n",
       "22476      | 214\n",
       "33767      | 337\n",
       "18508      | 185\n",
       "... (37 rows omitted)"
      ]
     },
     "execution_count": 19,
     "metadata": {},
     "output_type": "execute_result"
    }
   ],
   "source": [
    "Table().with_columns([\n",
    "    'Characters', [len(i) for i in chapters],\n",
    "    'Periods', np.char.count(chapters, '.')\n",
    "])"
   ]
  },
  {
   "cell_type": "markdown",
   "metadata": {},
   "source": [
    "Unlike the previous plot, rather than taking the cumsum, this time we construct a scatter plot."
   ]
  },
  {
   "cell_type": "code",
   "execution_count": 20,
   "metadata": {},
   "outputs": [
    {
     "data": {
      "image/png": "[encoded data removed]",
      "text/plain": [
       "<Figure size 360x360 with 1 Axes>"
      ]
     },
     "metadata": {},
     "output_type": "display_data"
    }
   ],
   "source": [
    "Table().with_columns([\n",
    "    'Characters', [len(i) for i in chapters],\n",
    "    'Periods', np.char.count(chapters, '.')\n",
    "]).scatter('Periods') # \"Periods\" on the x-axis"
   ]
  },
  {
   "cell_type": "markdown",
   "metadata": {},
   "source": [
    "The data points appear to follow a straight upward-looking line. It appears that there is a positive correlation between the number of characters and the periods: when you increase the number of characters, the number of periods also increase.\n",
    "\n",
    "The reason we made the plot above was so that we can analyze the length of the sentences in the novel. Whenever we start a sentence, we end it with a period.\n",
    "* There is a data point at around 400 periods with around 40,000 characters\n",
    "    * Each sentence is about 100 characters long\n",
    "* The data points at around 200 periods have roughly 20,000-25,000 characters. \n",
    "    * Which means each sentence has 100-150 characters"
   ]
  }
 ],
 "metadata": {
  "kernelspec": {
   "display_name": "Python 3",
   "language": "python",
   "name": "python3"
  },
  "language_info": {
   "codemirror_mode": {
    "name": "ipython",
    "version": 3
   },
   "file_extension": ".py",
   "mimetype": "text/x-python",
   "name": "python",
   "nbconvert_exporter": "python",
   "pygments_lexer": "ipython3",
   "version": "3.7.2"
  }
 },
 "nbformat": 4,
 "nbformat_minor": 1
}
