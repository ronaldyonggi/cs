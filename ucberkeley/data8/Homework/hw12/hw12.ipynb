{
 "cells": [
  {
   "cell_type": "markdown",
   "metadata": {},
   "source": [
    "# 'Homework' 12: Conditional Probability and General Review\n",
    "\n",
    "This notebook won't be graded!  It contains exercises designed to help you review for the final exam.  To simulate exam conditions, consider printing it out and completing it in pencil."
   ]
  },
  {
   "cell_type": "markdown",
   "metadata": {},
   "source": [
    "Run the cell below to prepare the notebook."
   ]
  },
  {
   "cell_type": "code",
   "execution_count": 1,
   "metadata": {},
   "outputs": [],
   "source": [
    "# Run this cell to set up the notebook, but please don't change it.\n",
    "import numpy as np\n",
    "from datascience import *\n",
    "\n",
    "# These lines do some fancy plotting magic.\n",
    "import matplotlib\n",
    "%matplotlib inline\n",
    "import matplotlib.pyplot as plt\n",
    "plt.style.use('fivethirtyeight')\n",
    "import warnings\n",
    "warnings.simplefilter('ignore', FutureWarning)\n",
    "from matplotlib import patches\n",
    "from ipywidgets import interact, interactive, fixed\n",
    "import ipywidgets as widgets"
   ]
  },
  {
   "cell_type": "markdown",
   "metadata": {},
   "source": [
    "## 1. Do Diet Drinks Cause Weight Gain?\n"
   ]
  },
  {
   "cell_type": "markdown",
   "metadata": {},
   "source": [
    "[Betteridge's Law](https://en.wikipedia.org/wiki/Betteridge's_law_of_headlines) notwithstanding, this is a serious question and a subject of much recent research.  Though artificially-sweetened diet drinks (like Diet Pepsi or a cup of coffee with sucralose) contain no calories, it is theorized that drinking sweet diet drinks could increase cravings for other sweet food, or that the artificial sweeteners in diet drinks (like aspartame and sucralose) could directly cause weight gain.  [This article](http://www.vox.com/2016/11/28/13764656/diet-soda-metabolism-weight-loss-obesity) summarizes some of the recent research activity.\n",
    "\n",
    "In this exercise we'll use bootstrap confidence intervals to replicate some of the analysis in [this study](http://onlinelibrary.wiley.com/doi/10.1038/oby.2008.284/full).  For simplicity (and because we couldn't get our hands on the data), we'll work with a synthetic dataset, not the dataset used in the actual study.\n",
    "\n",
    "The original dataset is called the San Antonio Heart Study.  It tracks 3,371 people living in San Antonio, Texas, over 7-8 years.  For each person, it records (among many other things) how many diet drinks they reported drinking in a typical week, and the change in the person's Body Mass Index (BMI, a measure of weight adjusted for height) between the start and the end of the 7-8 year period.  A change of 1 in BMI means that the person gained around 4-8 pounds, depending on their height."
   ]
  },
  {
   "cell_type": "code",
   "execution_count": 2,
   "metadata": {},
   "outputs": [
    {
     "data": {
      "text/html": [
       "<table border=\"1\" class=\"dataframe\">\n",
       "    <thead>\n",
       "        <tr>\n",
       "            <th>ID</th> <th>Typical diet drinks per week</th> <th>BMI change</th>\n",
       "        </tr>\n",
       "    </thead>\n",
       "    <tbody>\n",
       "        <tr>\n",
       "            <td>0   </td> <td>6                           </td> <td>-4.40065  </td>\n",
       "        </tr>\n",
       "        <tr>\n",
       "            <td>1   </td> <td>0                           </td> <td>0.952995  </td>\n",
       "        </tr>\n",
       "        <tr>\n",
       "            <td>2   </td> <td>4                           </td> <td>2.71019   </td>\n",
       "        </tr>\n",
       "        <tr>\n",
       "            <td>3   </td> <td>6                           </td> <td>-0.276764 </td>\n",
       "        </tr>\n",
       "        <tr>\n",
       "            <td>4   </td> <td>0                           </td> <td>6.12079   </td>\n",
       "        </tr>\n",
       "        <tr>\n",
       "            <td>5   </td> <td>3                           </td> <td>-0.158611 </td>\n",
       "        </tr>\n",
       "        <tr>\n",
       "            <td>6   </td> <td>0                           </td> <td>-2.94134  </td>\n",
       "        </tr>\n",
       "        <tr>\n",
       "            <td>7   </td> <td>0                           </td> <td>-2.64784  </td>\n",
       "        </tr>\n",
       "        <tr>\n",
       "            <td>8   </td> <td>0                           </td> <td>7.0943    </td>\n",
       "        </tr>\n",
       "        <tr>\n",
       "            <td>9   </td> <td>7                           </td> <td>1.69633   </td>\n",
       "        </tr>\n",
       "    </tbody>\n",
       "</table>\n",
       "<p>... (3361 rows omitted)</p>"
      ],
      "text/plain": [
       "ID   | Typical diet drinks per week | BMI change\n",
       "0    | 6                            | -4.40065\n",
       "1    | 0                            | 0.952995\n",
       "2    | 4                            | 2.71019\n",
       "3    | 6                            | -0.276764\n",
       "4    | 0                            | 6.12079\n",
       "5    | 3                            | -0.158611\n",
       "6    | 0                            | -2.94134\n",
       "7    | 0                            | -2.64784\n",
       "8    | 0                            | 7.0943\n",
       "9    | 7                            | 1.69633\n",
       "... (3361 rows omitted)"
      ]
     },
     "execution_count": 2,
     "metadata": {},
     "output_type": "execute_result"
    }
   ],
   "source": [
    "diet = Table.read_table(\"diet.csv\")\n",
    "diet"
   ]
  },
  {
   "cell_type": "markdown",
   "metadata": {},
   "source": [
    "#### Question 1\n",
    "We will crudely divide people into two categories: those who consume any diet drinks, and those who consume none.  Create a table called `drink_or_not` that's a copy of `diet`, with an extra column called `\"Drink\"`.  It should contain the value `True` for people who drank at least one drink per week and `False` otherwise."
   ]
  },
  {
   "cell_type": "code",
   "execution_count": 6,
   "metadata": {},
   "outputs": [],
   "source": [
    "def drink(n):\n",
    "    return n > 0"
   ]
  },
  {
   "cell_type": "code",
   "execution_count": 7,
   "metadata": {},
   "outputs": [
    {
     "data": {
      "text/plain": [
       "array([ True, False,  True, ...,  True,  True, False])"
      ]
     },
     "execution_count": 7,
     "metadata": {},
     "output_type": "execute_result"
    }
   ],
   "source": [
    "diet.apply(drink, 1)"
   ]
  },
  {
   "cell_type": "code",
   "execution_count": 8,
   "metadata": {},
   "outputs": [
    {
     "data": {
      "text/html": [
       "<table border=\"1\" class=\"dataframe\">\n",
       "    <thead>\n",
       "        <tr>\n",
       "            <th>ID</th> <th>Typical diet drinks per week</th> <th>BMI change</th> <th>Drink</th>\n",
       "        </tr>\n",
       "    </thead>\n",
       "    <tbody>\n",
       "        <tr>\n",
       "            <td>0   </td> <td>6                           </td> <td>-4.40065  </td> <td>True </td>\n",
       "        </tr>\n",
       "        <tr>\n",
       "            <td>1   </td> <td>0                           </td> <td>0.952995  </td> <td>False</td>\n",
       "        </tr>\n",
       "        <tr>\n",
       "            <td>2   </td> <td>4                           </td> <td>2.71019   </td> <td>True </td>\n",
       "        </tr>\n",
       "        <tr>\n",
       "            <td>3   </td> <td>6                           </td> <td>-0.276764 </td> <td>True </td>\n",
       "        </tr>\n",
       "        <tr>\n",
       "            <td>4   </td> <td>0                           </td> <td>6.12079   </td> <td>False</td>\n",
       "        </tr>\n",
       "        <tr>\n",
       "            <td>5   </td> <td>3                           </td> <td>-0.158611 </td> <td>True </td>\n",
       "        </tr>\n",
       "        <tr>\n",
       "            <td>6   </td> <td>0                           </td> <td>-2.94134  </td> <td>False</td>\n",
       "        </tr>\n",
       "        <tr>\n",
       "            <td>7   </td> <td>0                           </td> <td>-2.64784  </td> <td>False</td>\n",
       "        </tr>\n",
       "        <tr>\n",
       "            <td>8   </td> <td>0                           </td> <td>7.0943    </td> <td>False</td>\n",
       "        </tr>\n",
       "        <tr>\n",
       "            <td>9   </td> <td>7                           </td> <td>1.69633   </td> <td>True </td>\n",
       "        </tr>\n",
       "    </tbody>\n",
       "</table>\n",
       "<p>... (3361 rows omitted)</p>"
      ],
      "text/plain": [
       "ID   | Typical diet drinks per week | BMI change | Drink\n",
       "0    | 6                            | -4.40065   | True\n",
       "1    | 0                            | 0.952995   | False\n",
       "2    | 4                            | 2.71019    | True\n",
       "3    | 6                            | -0.276764  | True\n",
       "4    | 0                            | 6.12079    | False\n",
       "5    | 3                            | -0.158611  | True\n",
       "6    | 0                            | -2.94134   | False\n",
       "7    | 0                            | -2.64784   | False\n",
       "8    | 0                            | 7.0943     | False\n",
       "9    | 7                            | 1.69633    | True\n",
       "... (3361 rows omitted)"
      ]
     },
     "execution_count": 8,
     "metadata": {},
     "output_type": "execute_result"
    }
   ],
   "source": [
    "def drink(n):\n",
    "    return n > 0\n",
    "\n",
    "drink_or_not = diet.with_column('Drink', diet.apply(drink, 1))\n",
    "drink_or_not"
   ]
  },
  {
   "cell_type": "markdown",
   "metadata": {},
   "source": [
    "#### Question 2\n",
    "Compute a table called `means` that looks like this, but with the `\"BMI change mean\"` column filled in according to its name:\n",
    "\n",
    "|Drink|BMI change mean|\n",
    "|-|-|\n",
    "|False|?|\n",
    "|True|?|"
   ]
  },
  {
   "cell_type": "code",
   "execution_count": 9,
   "metadata": {},
   "outputs": [
    {
     "data": {
      "text/html": [
       "<table border=\"1\" class=\"dataframe\">\n",
       "    <thead>\n",
       "        <tr>\n",
       "            <th>Drink</th> <th>BMI change mean</th>\n",
       "        </tr>\n",
       "    </thead>\n",
       "    <tbody>\n",
       "        <tr>\n",
       "            <td>False</td> <td>1.01925        </td>\n",
       "        </tr>\n",
       "        <tr>\n",
       "            <td>True </td> <td>1.50449        </td>\n",
       "        </tr>\n",
       "    </tbody>\n",
       "</table>"
      ],
      "text/plain": [
       "Drink | BMI change mean\n",
       "False | 1.01925\n",
       "True  | 1.50449"
      ]
     },
     "execution_count": 9,
     "metadata": {},
     "output_type": "execute_result"
    }
   ],
   "source": [
    "means = drink_or_not.drop(0, 1).group('Drink', np.mean)\n",
    "means"
   ]
  },
  {
   "cell_type": "markdown",
   "metadata": {},
   "source": [
    "You should find that diet drinkers have a higher average BMI change - they gained more weight on average.  (The average for both groups is positive because most people gain a little weight as they get older.)"
   ]
  },
  {
   "cell_type": "markdown",
   "metadata": {},
   "source": [
    "#### Question 3\n",
    "Suppose our `diet` table is a random sample from the population of all people who lived during this 7-8 year period.  We want to know whether drinking diet drinks really makes a difference in BMI change.  Formulate appropriate null and alternative hypotheses for an hypothesis test, **or** (if appropriate) explain why no hypothesis test is needed."
   ]
  },
  {
   "cell_type": "markdown",
   "metadata": {
    "for_assignment_type": "student"
   },
   "source": [
    "**Null hypothesis:** The average BMI change between drinkers and non-drinkers are about the same. Any difference are due to random chance.\n",
    "\n",
    "**Alternative hypothesis:** The average BMI change between drinkers and non-drinkers are not the same."
   ]
  },
  {
   "cell_type": "markdown",
   "metadata": {},
   "source": [
    "#### Question 4\n",
    "Test your hypothesis.  Use a method that gives you an idea of *how big* the difference is between the two groups, not just whether there is a difference.  To get the best practice, try to do it without consulting the textbook and without too much trial and error.  (It's very hard to write code exactly right the first time, so don't worry if you don't.)"
   ]
  },
  {
   "cell_type": "code",
   "execution_count": 10,
   "metadata": {
    "for_assignment_type": "student"
   },
   "outputs": [
    {
     "name": "stdout",
     "output_type": "stream",
     "text": [
      "The 95% Confidence interval is: [0.003131299245694885, 0.2452236498128233]\n",
      "The observed test statistic is: 0.4852397109235964\n",
      "The P-value is: 0.0\n"
     ]
    },
    {
     "data": {
      "image/png": "[encoded data removed]",
      "text/plain": [
       "<Figure size 432x288 with 1 Axes>"
      ]
     },
     "metadata": {},
     "output_type": "display_data"
    }
   ],
   "source": [
    "# Hint: The staff solution took 8 lines of code (and then a bit\n",
    "# to print the interval).\n",
    "# \n",
    "# If you use 5,000 bootstrap repetitions, it should take around a\n",
    "# minute.\n",
    "\n",
    "# We'll set the statistic to be the difference in BMI change mean between non-drinkers and drinkers\n",
    "observed = abs(means.column(1).item(0) - means.column(1).item(1))\n",
    "\n",
    "test_stats = make_array()\n",
    "\n",
    "for i in np.arange(5000):\n",
    "    # shuffle the drink_or_not table, then take the BMI change\n",
    "    shuffled_BMI = drink_or_not.sample(with_replacement = False).select('BMI change').column(0)\n",
    "    # Take the drink_or_not table, drop the 'BMI change' column and replace it with the shuffled one\n",
    "    shuffled_table = drink_or_not.drop('BMI change').with_column('Shuffled BMI', shuffled_BMI)\n",
    "    # Group the shuffled table by True-False and BMI change\n",
    "    grouped = shuffled_table.drop(0, 1).group('Drink', np.mean)\n",
    "    # Calculate the test statistic\n",
    "    test_stat = abs(grouped.column(1).item(0) - grouped.column(1).item(1))\n",
    "    # Append the calculated test statistic to the test_stats array\n",
    "    test_stats = np.append(test_stats, test_stat)\n",
    "\n",
    "# Create a list that contains the 2.5% left tail and the 2.5% right tail\n",
    "interval_95 = [\n",
    "    percentile(2.5, test_stats), \n",
    "    percentile(97.5, test_stats)\n",
    "]\n",
    "\n",
    "# Calculate the p-value\n",
    "p_val = np.count_nonzero(test_stats >= observed) / 5000\n",
    "    \n",
    "Table().with_column('Test Stats', test_stats).hist()\n",
    "plt.plot(interval_95, [0, 0], color = 'gold', lw = 5)\n",
    "# Add the observed test statistic into the histogram\n",
    "plt.scatter(observed, 0, color = 'red', s = 100)\n",
    "# Print the interval and the observed value\n",
    "print('The 95% Confidence interval is:', interval_95)\n",
    "print('The observed test statistic is:', observed)\n",
    "print('The P-value is:', p_val)"
   ]
  },
  {
   "cell_type": "markdown",
   "metadata": {},
   "source": [
    "#### Question 5\n",
    "Do you accept or reject your null hypothesis?  Looking at your results, is there strong evidence that there is a big difference between the means of the two groups?"
   ]
  },
  {
   "cell_type": "markdown",
   "metadata": {},
   "source": [
    "# ============== Written Answer ============\n",
    "We reject the null hypothesis since we can see above that the observed test statistic is outside the empirical distribution. On top of that, a `P-value` of `0` ensures that we should reject the null hypothesis.\n",
    "\n",
    "Looking at the result of the simulation above, the gap of the interval is roughly \n",
    "# =================================="
   ]
  },
  {
   "cell_type": "markdown",
   "metadata": {},
   "source": [
    "The study tracked many pieces of information about each individual.  The authors include the following table in their report, comparing diet-drinkers and non-diet-drinkers on various traits.  The traits were measured at the *start* of the 7-8 year observational period.\n",
    "\n",
    "<img src=\"factors.gif\"/>"
   ]
  },
  {
   "cell_type": "markdown",
   "metadata": {},
   "source": [
    "#### Question 6\n",
    "Using this table, Steve the Scientist makes the following argument:\n",
    "\n",
    "> \"People who drank diet drinks were much more likely (12.1% versus 33.4%) to say they were dieting at the start of the observational period.  So perhaps drinking diet drinks does not directly cause weight gain.  Instead, the association we observed in question 5 could be caused entirely by this confounding factor.\"\n",
    "\n",
    "Is this a valid argument?"
   ]
  },
  {
   "cell_type": "markdown",
   "metadata": {},
   "source": [
    "# ================= Written Answer ==============\n",
    "No, this is not a valid argument. \n",
    "\n",
    "If people who drank diet drinks were more likely to be dieting, they would be losing weight instead.\n",
    "# ============================================"
   ]
  },
  {
   "cell_type": "markdown",
   "metadata": {},
   "source": [
    "## 2. How to Avoid Road Rage with Bayes Rule\n"
   ]
  },
  {
   "cell_type": "markdown",
   "metadata": {},
   "source": [
    "You are sitting in your car in heavy traffic, and another car rudely cuts in front of you!  Two hypotheses occur to you:\n",
    "\n",
    "1. The driver is an ordinary person who happens to be having a bad day.\n",
    "2. The driver is an irredeemable jerk.\n",
    "\n",
    "You guess that 1% of drivers are irredeemable jerks.  Reflecting on your own driving habits, you guess that 2% of the time heavy traffic makes you frustrated enough to drive rudely, and you think most ordinary people behave similarly.  By contrast, you guess that irredeemable jerks behave rudely 50% of the time."
   ]
  },
  {
   "cell_type": "markdown",
   "metadata": {},
   "source": [
    "#### Question 1\n",
    "Draw a tree diagram describing this situation."
   ]
  },
  {
   "cell_type": "markdown",
   "metadata": {
    "for_assignment_type": "student"
   },
   "source": [
    "*To complete the tree, replace the underscores in the tree skeleton below with probabilities or labels as appropriate.  (If you've printed this, just write in the text.)*\n",
    "\n",
    "\n",
    "                  /\\\n",
    "                 /  \\\n",
    "            __% /    \\ __%\n",
    "               /      \\\n",
    "            _____     _____\n",
    "            / \\__%     / \\\n",
    "       __% /   \\   __%/   \\ __%\n",
    "        ____  ____  ____  ____"
   ]
  },
  {
   "cell_type": "markdown",
   "metadata": {},
   "source": [
    "                Drivers\n",
    "                  /\\\n",
    "                 /  \\\n",
    "            99% /    \\ 1%\n",
    "               /      \\\n",
    "          ordinary    jerk\n",
    "            / \\98%     / \\\n",
    "        2% /   \\   50%/   \\ 50%\n",
    "        rude  nice   rude  nice"
   ]
  },
  {
   "cell_type": "markdown",
   "metadata": {},
   "source": [
    "#### Question 2\n",
    "What is the chance that any given driver you encounter in heavy traffic is an ordinary person *and* that person is rude to you?"
   ]
  },
  {
   "cell_type": "markdown",
   "metadata": {},
   "source": [
    "# ============== Written Answer ===========\n",
    "$$\\text{P of ordinary but rude person} =  \\frac{99}{100} \\times \\frac{2}{100} = 0.0198 $$\n",
    "\n",
    "or 1.98%\n",
    "# ======================================"
   ]
  },
  {
   "cell_type": "code",
   "execution_count": 3,
   "metadata": {},
   "outputs": [
    {
     "data": {
      "text/plain": [
       "0.0198"
      ]
     },
     "execution_count": 3,
     "metadata": {},
     "output_type": "execute_result"
    }
   ],
   "source": [
    "(99/100) * (2/100)"
   ]
  },
  {
   "cell_type": "markdown",
   "metadata": {},
   "source": [
    "#### Question 3\n",
    "Under these assumptions, what is the chance that any given driver you encounter in heavy traffic is rude to you?"
   ]
  },
  {
   "cell_type": "markdown",
   "metadata": {},
   "source": [
    "# =============== Written Answer ============\n",
    "$$\\text{P any rude driver} =  (\\frac{1}{100} \\times \\frac{50}{100}) + (\\frac{99}{100} \\times \\frac{2}{100}) = 0.0248 $$\n",
    "\n",
    "or 2.48%\n",
    "# ========================================"
   ]
  },
  {
   "cell_type": "code",
   "execution_count": 4,
   "metadata": {},
   "outputs": [
    {
     "data": {
      "text/plain": [
       "0.0248"
      ]
     },
     "execution_count": 4,
     "metadata": {},
     "output_type": "execute_result"
    }
   ],
   "source": [
    "(1/100 * 1/2) + (99/100 * 2/100)"
   ]
  },
  {
   "cell_type": "markdown",
   "metadata": {},
   "source": [
    "From your answers to questions 2 and 3, you should find that more than half the people who are rude in heavy traffic are not actually jerks.  Let's quantify that."
   ]
  },
  {
   "cell_type": "markdown",
   "metadata": {},
   "source": [
    "#### Question 4\n",
    "What is the chance that the driver who cut in front of your car is an ordinary person who happens to be having a bad day?"
   ]
  },
  {
   "cell_type": "markdown",
   "metadata": {},
   "source": [
    "# =============== Written Answer ============\n",
    "$$\\text{Answer} = \\frac{\\text{P of ordinary but rude}}{\\text{P of all rude drivers}}$$\n",
    "\n",
    "$$ = \\frac{\\frac{99}{100} \\times \\frac{2}{100}}{\\frac{1}{100} \\times \\frac{50}{100} + \\frac{99}{100} \\times \\frac{2}{100}} = 0.798 $$\n",
    "\n",
    "or 79.8%\n",
    "\n",
    "# ===================================="
   ]
  },
  {
   "cell_type": "code",
   "execution_count": 7,
   "metadata": {},
   "outputs": [
    {
     "data": {
      "text/plain": [
       "0.7983870967741935"
      ]
     },
     "execution_count": 7,
     "metadata": {},
     "output_type": "execute_result"
    }
   ],
   "source": [
    "((99/100) * (2 / 100)) / (((1/100) * (50/100)) + ((99/100) * (2/100)))"
   ]
  },
  {
   "cell_type": "markdown",
   "metadata": {},
   "source": [
    "## 3. Marginal Histograms\n"
   ]
  },
  {
   "cell_type": "markdown",
   "metadata": {},
   "source": [
    "Consider the following scatter plot: ![](scatter.png)\n",
    "\n",
    "The axes of the plot represent values of two variables: $x$ and $y$. "
   ]
  },
  {
   "cell_type": "markdown",
   "metadata": {},
   "source": [
    "Suppose we have a table called `t` that has two columns in it:\n",
    "\n",
    "- `x`: a column containing the x-values of the points in the scatter plot\n",
    "- `y`: a column containing the y-values of the points in the scatter plot"
   ]
  },
  {
   "cell_type": "markdown",
   "metadata": {},
   "source": [
    "**Question 1:** Match each of the following lines of code to the histograms they produce. Explain your reasoning.\n",
    "\n",
    "**Line 1:** `t.hist('x')`\n",
    "\n",
    "**Line 2:** `t.hist('y')`"
   ]
  },
  {
   "cell_type": "markdown",
   "metadata": {},
   "source": [
    "**Histogram A:** ![](var1.png)\n",
    "**Histogram B:** ![](var2.png)"
   ]
  },
  {
   "cell_type": "markdown",
   "metadata": {
    "for_assignment_type": "student"
   },
   "source": [
    "**Histogram for Line 1:** Histogram B\n",
    "\n",
    "**Explanation:** If we look at the original histogram and look solely on the `x` values, we could see that there are data points where the `x` values even overlap. There is no discontinuity within the `x` values."
   ]
  },
  {
   "cell_type": "markdown",
   "metadata": {
    "for_assignment_type": "student"
   },
   "source": [
    "**Histogram for Line 2:** Histogram A\n",
    "\n",
    "**Explanation:** Back to the original histogram, we can see that there are discontinuity on `y` values."
   ]
  },
  {
   "cell_type": "markdown",
   "metadata": {},
   "source": [
    "## 4. A Potpourri of Tests\n"
   ]
  },
  {
   "cell_type": "markdown",
   "metadata": {},
   "source": [
    "#### Question 1\n",
    "Many scientific disciplines use 5% as a standard cutoff for rejecting the null hypothesis when conducting hypothesis tests.  Suppose for sake of argument that every scientific paper hinges on exactly one hypothesis test with a 5% cutoff.  After learning about hypothesis testing, Thomas despairs about the state of scientific research, wondering:\n",
    "\n",
    "> \"Doesn't this mean that 5% of all scientific papers are wrong?\"\n",
    "\n",
    "Give one reason why Thomas's worry isn't quite accurate."
   ]
  },
  {
   "cell_type": "markdown",
   "metadata": {},
   "source": [
    "# ============== Written Answer =========\n",
    "The 5% cutoff doesn't mean 5% of all papers are wrong. This means that **5% of tests on actual (true) null hypothesis would wrongly reject the null**.\n",
    "\n",
    "For example, if we have a bunch of null hypotheses, and we know that:\n",
    "* 25% of those null hypotheses are wrong or false\n",
    "* 75% of them are correct\n",
    "\n",
    "Then scientists would wrongly reject the null,\n",
    "\n",
    "$$75\\% \\times 5\\% = 3.75\\%$$ \n",
    "\n",
    "3.75% of the time! \n",
    "\n",
    "**Note**: \n",
    "1. This doesn't take into account the chance of wrongly accepting a wrong null hypothesis.\n",
    "2. The chance of this rejecting a correct null hypothesis is not necessarily 5%\n",
    "# ======================================"
   ]
  },
  {
   "cell_type": "code",
   "execution_count": 2,
   "metadata": {},
   "outputs": [
    {
     "data": {
      "text/plain": [
       "0.037500000000000006"
      ]
     },
     "execution_count": 2,
     "metadata": {},
     "output_type": "execute_result"
    }
   ],
   "source": [
    "(75/100) * (5/100)"
   ]
  },
  {
   "cell_type": "markdown",
   "metadata": {},
   "source": [
    "#### Question 2\n",
    "Many scientists hope to make exciting and unintuitive discoveries.  Often the null hypothesis in an hypothesis test is something boring (\"the sky is blue\"), while the alternative is surprising (\"the sky is not blue!\").\n",
    "\n",
    "Suppose a scientist has an exciting but incorrect idea, so that their null hypothesis is *truly correct*.  When an hypothesis test is run on a sample of data, it fails to reject the null when using a 5% cutoff.  Disappointed but determined, the scientist gathers 10 more samples and runs the same test on each sample (running 10 separate hypothesis tests, each with a 5% cutoff).  If any of the tests rejects the null, the scientist publishes that one.  What is the chance that any of those tests rejects the null hypothesis?"
   ]
  },
  {
   "cell_type": "markdown",
   "metadata": {},
   "source": [
    "# ================ Answer ==============\n",
    "In 10 samples,\n",
    "\n",
    "1. The chance of a test rejecting the null = 5% or 0.05.\n",
    "2. The chance of accepting the null = 1 - 0.05 = 0.95\n",
    "3. The chance of accepting the null 10 times in a row = ${(0.95)}^{10}$\n",
    "4. The chance of above not happening = $1 - {(0.95)}^{10}$\n",
    "\n",
    "Thus, the chance is $$1 - {(0.95)}^{10}$$\n",
    "# ====================================="
   ]
  },
  {
   "cell_type": "markdown",
   "metadata": {},
   "source": [
    "**Note:** The scientist in this scenario is acting very unethically, but (probably milder) forms of this [*publication bias*](https://en.wikipedia.org/wiki/Publication_bias) seem to be a real problem in science today."
   ]
  },
  {
   "cell_type": "markdown",
   "metadata": {},
   "source": [
    "#### Question 3\n",
    "Explain one advantage and one disadvantage of using a very high confidence level like 99.9999% when computing a confidence interval.  Describe a situation where you would advise using such a high confidence level."
   ]
  },
  {
   "cell_type": "markdown",
   "metadata": {},
   "source": [
    "# ============= Answer =============\n",
    "* Advantage: The interval would most likely cover the actual population parameter that we are trying to find out\n",
    "* Disadvantage: The interval is going to be very wide, and thus it won't help us for making practically useful decision\n",
    "\n",
    "We can use such a high confidence level in situations where it is better to overestimate or underestimate parameters rather than to be totally wrong (better safe than sorry situations). An example is estimating the strength of materials needed to build a bridge connecting 2 cities.\n",
    "\n",
    "# ==============================="
   ]
  },
  {
   "cell_type": "markdown",
   "metadata": {},
   "source": [
    "## 5. Review of Prediction Intervals\n"
   ]
  },
  {
   "cell_type": "markdown",
   "metadata": {},
   "source": [
    "When using sampled data to perform regression for the purposes of prediction, we would like to have a notion of uncertainty for our prediction. The standard way to quantify uncertainty is with a confidence interval. In this exercise, we will be reviewing [prediction intervals](https://www.inferentialthinking.com/chapters/14/3/prediction-intervals.html). \n",
    "\n",
    "The cell below loads a few functions that will be useful for answering these questions. You should review the code provided to make sure you understand what each function is doing.\n",
    "\n",
    "The next cell down loads and plots a cloud of points. We will be generating prediciton intervals for this point cloud"
   ]
  },
  {
   "cell_type": "code",
   "execution_count": 2,
   "metadata": {},
   "outputs": [],
   "source": [
    "def standard_units(a):\n",
    "    return (a - np.mean(a))/np.std(a)\n",
    "\n",
    "def correlation(t):\n",
    "    x_standard = standard_units(t.column(0))\n",
    "    y_standard = standard_units(t.column(1))\n",
    "    return np.mean(x_standard*y_standard)\n",
    "\n",
    "def slope(t):\n",
    "    r = correlation(t)\n",
    "    return r*(np.std(t.column(1))/np.std(t.column(0)))\n",
    "\n",
    "def intercept(t):\n",
    "    s = slope(t)\n",
    "    return np.mean(t.column(1)) - (s * np.mean(t.column(0)))"
   ]
  },
  {
   "cell_type": "code",
   "execution_count": 3,
   "metadata": {},
   "outputs": [
    {
     "data": {
      "image/png": "[encoded data removed]",
      "text/plain": [
       "<Figure size 360x360 with 1 Axes>"
      ]
     },
     "metadata": {},
     "output_type": "display_data"
    }
   ],
   "source": [
    "cloud = Table.read_table('cloud.csv')\n",
    "cloud.scatter('predictor')"
   ]
  },
  {
   "cell_type": "markdown",
   "metadata": {},
   "source": [
    "**Question 1:** Write a function that:\n",
    "\n",
    "- takes in a table and an x value\n",
    "- returns the regression estimate of the y value corresponding to that x\n",
    "\n",
    "*Hint:* You may use the functions defined above"
   ]
  },
  {
   "cell_type": "code",
   "execution_count": 4,
   "metadata": {},
   "outputs": [],
   "source": [
    "def predict(t, x):\n",
    "    m = slope(t)\n",
    "    b = intercept(t)\n",
    "    return m * x + b"
   ]
  },
  {
   "cell_type": "markdown",
   "metadata": {},
   "source": [
    "**Question 2:** Write a function that\n",
    "\n",
    "- takes in a table and an x value\n",
    "- returns an array of bootstrapped regression estimates for that x value\n",
    "\n",
    "The function should perform 1000 replications of the bootstrap."
   ]
  },
  {
   "cell_type": "code",
   "execution_count": 5,
   "metadata": {
    "for_assignment_type": "student"
   },
   "outputs": [],
   "source": [
    "def bootstrap_predictions(t, x):\n",
    "    predictions = make_array()\n",
    "    for i in np.arange(1000):\n",
    "        t_sampled = t.sample()\n",
    "        prediction = predict(t_sampled, x)\n",
    "        predictions = np.append(predictions, prediction)\n",
    "    return predictions\n",
    "\n",
    "predictions_array = bootstrap_predictions(cloud, 0)"
   ]
  },
  {
   "cell_type": "markdown",
   "metadata": {},
   "source": [
    "**Question 3:** Using your array of predictions from the previous question, fill in the code to come up with a bootstrapped 95% confidence interval for our prediction. "
   ]
  },
  {
   "cell_type": "code",
   "execution_count": 13,
   "metadata": {},
   "outputs": [
    {
     "name": "stdout",
     "output_type": "stream",
     "text": [
      "95% confidence interval for prediction at 0: (-0.052968177358974744, 0.0702938465468544)\n"
     ]
    }
   ],
   "source": [
    "lower = percentile(2.5, predictions_array)\n",
    "upper = percentile(97.5, predictions_array)\n",
    "\n",
    "print(\"95% confidence interval for prediction at 0: ({0}, {1})\".format(lower, upper))"
   ]
  },
  {
   "cell_type": "markdown",
   "metadata": {},
   "source": [
    "**Question 4:** Consider the vertical slice of the above scatter plot at $X = 0$. Do 95% of the point on that slice appear to fall within the 95% confidence interval? If not, provide an interpretation of the 95% prediction interval."
   ]
  },
  {
   "cell_type": "markdown",
   "metadata": {},
   "source": [
    "# ================= Answer ==============\n",
    "No.\n",
    "\n",
    "The 95% confidence interval gives us a range of values we could have predicted for $X = 0$ if our sample had been different. We are 95% confident that if we have access to the entire population, then the prediction for $ X = 0 $ would fall within this range.\n",
    "\n",
    "# ======================================"
   ]
  },
  {
   "cell_type": "markdown",
   "metadata": {},
   "source": [
    "## 6. Detecting Spam\n"
   ]
  },
  {
   "cell_type": "markdown",
   "metadata": {},
   "source": [
    "Suppose you work at a large email provider (like Google or Microsoft).  Spam is a huge problem, so you're tasked with classifying emails as spam or not spam.  This exercise is about some statistical questions that come up when you test your spam classifier.\n",
    "\n",
    "You have access to the entire population of emails from your users, numbering in the billions.  However, manually labeling an email as spam or not spam is a labor-intensive process, so you select just 100 emails uniformly at random, read through them, and figure out whether each one is spam or not.  (You would be correct to worry that this is a violation of your users' privacy, but let's put that aside for this exercise.)  You identify a bunch of numerical features of an email to use as attributes: the number of dollar signs (\\$) in the email, the number of capital letters, the number of times the receiver has replied to the sender, etc.\n",
    "\n",
    "You use 80 emails as a training set and hold out the other 20 as a test set.  You train a 3-NN classifier on the training set.  You name this classifier **Bob**.  Bob correctly classifies 78 of the 80 emails in the training set and 17 of the 20 emails in the test set."
   ]
  },
  {
   "cell_type": "markdown",
   "metadata": {},
   "source": [
    "#### Question 1\n",
    "Suppose you could test Bob on the entire population.  We'll use `bob_population_accuracy` as the name for the proportion of emails in the population Bob correctly classifies.  Would `bob_population_accuracy` be exactly $78/80$, exactly $17/20$, exactly some other number we haven't listed, or can you not say exactly what it would be without more information?"
   ]
  },
  {
   "cell_type": "markdown",
   "metadata": {},
   "source": [
    "# ============= Answer ===========\n",
    "We can't say exactly what it would be without more information. Even if we know that Bob correctly classifies 17 out of 20 emails in the test set, 20 emails is a relatively small dataset.\n",
    "\n",
    "# ==============================="
   ]
  },
  {
   "cell_type": "markdown",
   "metadata": {},
   "source": [
    "#### Question 2\n",
    "Suppose you repeat the whole process 1,000,000 times:\n",
    "* sampling 100 emails uniformly at random from the population,\n",
    "* labeling them,\n",
    "* training a new 3-NN classifier (*not* Bob) on 80 of those emails,\n",
    "* and checking its accuracy on the remaining 20 emails.\n",
    "\n",
    "Then you compute the average of those 1,000,000 accuracies.  Will it be roughly equal to `bob_population_accuracy`?  If not, give a succinct description of the value you computed.  (If you use more than 20 words, it's probably not succinct.)"
   ]
  },
  {
   "cell_type": "markdown",
   "metadata": {},
   "source": [
    "# ============= Answer =============\n",
    "No. \n",
    "\n",
    "What we computed is **the average accuracy of classifiers trained based on 80 random emails from the population**. Since it is the average accuracy of **all classifiers**, the value is unlikely to be equal to `bob_population_accuracy`. Not all classifiers based on 80 random emails would have the same accuracy as `bob_population_accuracy`! (For example, we might obtain all 80 to be spams).\n",
    "\n",
    "# ================================="
   ]
  },
  {
   "cell_type": "markdown",
   "metadata": {},
   "source": [
    "#### Question 3\n",
    "Suppose you repeated a slightly different process 1,000,000 times:\n",
    "* sampling 20 emails uniformly at random from the population,\n",
    "* labeling them,\n",
    "* and checking Bob's accuracy on them.\n",
    "\n",
    "Then you compute the average of those 1,000,000 accuracies.  Will it be roughly equal to `bob_population_accuracy`?  If not, give a succinct description of the value you computed.  (If you use more than 20 words, it's probably not succinct.)"
   ]
  },
  {
   "cell_type": "markdown",
   "metadata": {},
   "source": [
    "# =============== Answer ===============\n",
    "Yes.\n",
    "# ====================================="
   ]
  },
  {
   "cell_type": "markdown",
   "metadata": {},
   "source": [
    "#### Question 4\n",
    "Given only your single sample of 100 emails, describe how you would use the bootstrap to generate a 90% confidence interval for `bob_population_accuracy`."
   ]
  },
  {
   "cell_type": "markdown",
   "metadata": {},
   "source": [
    "# ============= Answer ===========\n",
    "Recall from our single sample of 100 emails, we used 80 as the training set and 20 as the test set.\n",
    "\n",
    "1. Resample from the 20 test set\n",
    "2. Compute the accuracy and store it in an array that keeps accuracies\n",
    "3. Repeat above steps multiple times\n",
    "4. Compute the 5% percentile and the 95% percentile from the array of accuracies.\n",
    "\n",
    "# ================================"
   ]
  },
  {
   "cell_type": "code",
   "execution_count": null,
   "metadata": {
    "collapsed": true
   },
   "outputs": [],
   "source": [
    "# For your convenience, you can run this cell to run all the tests at once!\n",
    "import os\n",
    "print(\"Running all tests...\")\n",
    "_ = [tests.grade(q[:-3]) for q in os.listdir(\"tests\") if q.startswith('q')]\n",
    "print(\"Finished running all tests.\")"
   ]
  }
 ],
 "metadata": {
  "kernelspec": {
   "display_name": "Python 3",
   "language": "python",
   "name": "python3"
  },
  "language_info": {
   "codemirror_mode": {
    "name": "ipython",
    "version": 3
   },
   "file_extension": ".py",
   "mimetype": "text/x-python",
   "name": "python",
   "nbconvert_exporter": "python",
   "pygments_lexer": "ipython3",
   "version": "3.7.2"
  }
 },
 "nbformat": 4,
 "nbformat_minor": 1
}
