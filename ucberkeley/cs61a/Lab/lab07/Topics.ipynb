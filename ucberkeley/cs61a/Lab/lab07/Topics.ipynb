{
 "cells": [
  {
   "cell_type": "markdown",
   "metadata": {},
   "source": [
    "## Check-Off"
   ]
  },
  {
   "cell_type": "markdown",
   "metadata": {},
   "source": [
    "### Q1: A-Okay\n",
    "What happens in the following code? Make srue you can explain why each line works or breaks."
   ]
  },
  {
   "cell_type": "code",
   "execution_count": 1,
   "metadata": {},
   "outputs": [],
   "source": [
    "class A:\n",
    "    y = 1\n",
    "    def __init__(self, y):\n",
    "        self.y = y\n",
    "    def f(self, x):\n",
    "        self.y += x"
   ]
  },
  {
   "cell_type": "code",
   "execution_count": 2,
   "metadata": {},
   "outputs": [],
   "source": [
    "a = A(0)\n",
    "# OK. We create an instance a where a.y is 0"
   ]
  },
  {
   "cell_type": "code",
   "execution_count": 3,
   "metadata": {},
   "outputs": [],
   "source": [
    "a.f(6)\n",
    "# Ok. now a's y attribute is 6"
   ]
  },
  {
   "cell_type": "code",
   "execution_count": 4,
   "metadata": {},
   "outputs": [
    {
     "ename": "TypeError",
     "evalue": "f() takes 2 positional arguments but 3 were given",
     "output_type": "error",
     "traceback": [
      "\u001b[1;31m---------------------------------------------------------------------------\u001b[0m",
      "\u001b[1;31mTypeError\u001b[0m                                 Traceback (most recent call last)",
      "\u001b[1;32m<ipython-input-4-e5a7e172634c>\u001b[0m in \u001b[0;36m<module>\u001b[1;34m\u001b[0m\n\u001b[1;32m----> 1\u001b[1;33m \u001b[0ma\u001b[0m\u001b[1;33m.\u001b[0m\u001b[0mf\u001b[0m\u001b[1;33m(\u001b[0m\u001b[0mA\u001b[0m\u001b[1;33m,\u001b[0m \u001b[1;36m9\u001b[0m\u001b[1;33m)\u001b[0m\u001b[1;33m\u001b[0m\u001b[1;33m\u001b[0m\u001b[0m\n\u001b[0m\u001b[0;32m      2\u001b[0m \u001b[1;31m# Not okay! we are calling a's bound method, so we don't need to provide\u001b[0m\u001b[1;33m\u001b[0m\u001b[1;33m\u001b[0m\u001b[1;33m\u001b[0m\u001b[0m\n\u001b[0;32m      3\u001b[0m \u001b[1;31m# an instance (self).\u001b[0m\u001b[1;33m\u001b[0m\u001b[1;33m\u001b[0m\u001b[1;33m\u001b[0m\u001b[0m\n",
      "\u001b[1;31mTypeError\u001b[0m: f() takes 2 positional arguments but 3 were given"
     ]
    }
   ],
   "source": [
    "a.f(A, 9)\n",
    "# Not okay! we are calling a's bound method, so we don't need to provide\n",
    "# an instance (self). This will give an error that says\n",
    "# 'too many arguments were given'"
   ]
  },
  {
   "cell_type": "code",
   "execution_count": 5,
   "metadata": {},
   "outputs": [],
   "source": [
    "A.f(a, 4)\n",
    "# OK. We are calling the A class's method, not the instance method.\n",
    "# This way, we need to provide the instance (self)\n",
    "# With this, a.y becomes 6 + 4 = 10"
   ]
  },
  {
   "cell_type": "code",
   "execution_count": 7,
   "metadata": {},
   "outputs": [],
   "source": [
    "A.f(A, 4)\n",
    "# OK. This one is tricky\n",
    "# We are calling A class's method, but the argument is the class itself.\n",
    "# This way, the class attribute y is changed from 1 to 5"
   ]
  },
  {
   "cell_type": "code",
   "execution_count": 9,
   "metadata": {},
   "outputs": [
    {
     "data": {
      "text/plain": [
       "5"
      ]
     },
     "execution_count": 9,
     "metadata": {},
     "output_type": "execute_result"
    }
   ],
   "source": [
    "A.y"
   ]
  },
  {
   "cell_type": "markdown",
   "metadata": {},
   "source": [
    "## Linked Lists"
   ]
  },
  {
   "cell_type": "markdown",
   "metadata": {},
   "source": [
    "We've learned that a Python list is one way to store sequential values. Another type of list is a linked list. \n",
    "\n",
    "A Python list stores all of its elements in a single object, and each element can be accessed by using its index. \n",
    "\n",
    "A linked list, on the other hand, is a recursive object that can only store 2 things: `first` value and a reference to the `rest` of the list, which is another linked list.\n",
    "\n",
    "We can implement a class, `Link`, that represents a linked list object. Each instance of `Link` has 2 instance attributes: `first` and `rest`."
   ]
  },
  {
   "cell_type": "code",
   "execution_count": 11,
   "metadata": {},
   "outputs": [],
   "source": [
    "class Link:\n",
    "    empty = ()\n",
    "    def __init__(self, first, rest = empty):\n",
    "        assert rest is Link.empty or isinstance(rest, Link)\n",
    "        self.first = first\n",
    "        self.rest = rest\n",
    "        \n",
    "    @property\n",
    "    def second(self):\n",
    "        return self.rest.first\n",
    "    \n",
    "    @second.setter\n",
    "    def second(self, value):\n",
    "        self.rest.first = value\n",
    "        \n",
    "    def __repr__(self):\n",
    "        if self.rest is not Link.empty:\n",
    "            rest_repr = ', ' + repr(self.rest)\n",
    "        else:\n",
    "            rest_repr = ''\n",
    "        return 'Link(' + repr(self.first) + rest_repr + ')'\n",
    "    \n",
    "    def __str__(self):\n",
    "        string = '<'\n",
    "        while self.rest is not Link.empty:\n",
    "            string += str(self.first) + ' '\n",
    "            self = self.rest\n",
    "        return string + str(self.first) + '>'"
   ]
  },
  {
   "cell_type": "markdown",
   "metadata": {},
   "source": [
    "A valid linked list can be one of the following:\n",
    "\n",
    "**1.** An empty linked list, or `Link.empty`\n",
    "\n",
    "**2.** A `Link` object containing the `first` value of the linked list and a reference to the `rest` of the linked list.\n",
    "\n",
    "A linked list is recursive because the `rest` attribute of a single `Link` instance is another linked list! In bigger picutre, each `Link` instance stores a single value of the list. When multiple `Link`s are linked together through each instance's `rest` attribute, an entire sequence is formed. \n",
    "\n",
    "**Note**: By the definition, the `rest` attribute of any `Link` instance must be either `Link.empty` or another `Link` instance. This is enforced in `Link.__init__`, which raises an `AssertionError` if the value passed in for `rest` is neither of these things.\n",
    "\n",
    "We've also defined a pseudo-attribute `second` with the `@property` decorator that will return the second element in the linked list as well as a corresponding setter. The `second` element of a linked list is just the `first` attribute of the `Link` instance stored in `rest`. "
   ]
  },
  {
   "cell_type": "markdown",
   "metadata": {},
   "source": [
    "To check if a linked list is empty, we compare it against the class attribute `Link.empty`. "
   ]
  },
  {
   "cell_type": "code",
   "execution_count": null,
   "metadata": {},
   "outputs": [],
   "source": [
    "def test_empty(link):\n",
    "    if link is Link.empty:\n",
    "        print('This linked list is empty!')\n",
    "    else:\n",
    "        print('This linked list is not empty!')"
   ]
  },
  {
   "cell_type": "markdown",
   "metadata": {},
   "source": [
    "## Why Linked List?"
   ]
  },
  {
   "cell_type": "markdown",
   "metadata": {},
   "source": [
    "Since we are already familiar with Python's built-in lists, we might be wondering why we are learning about another list representation. There are historical reasons, along with practical reasons. Later in the course, we'll be programming with Scheme, which is a programming language that uses linked lists for almost everything.\n",
    "\n",
    "For now, let's compare linked lists and Python lists by looking at 2 common sequence operations: inserting an item and indexing. \n",
    "\n",
    "Python's built-in list is like a sequence of containers with indices on them."
   ]
  },
  {
   "cell_type": "markdown",
   "metadata": {},
   "source": [
    "<img src = 'list.jpg' width = 500/>"
   ]
  },
  {
   "cell_type": "code",
   "execution_count": 17,
   "metadata": {},
   "outputs": [
    {
     "data": {
      "text/plain": [
       "'a'"
      ]
     },
     "execution_count": 17,
     "metadata": {},
     "output_type": "execute_result"
    }
   ],
   "source": [
    "x = ['a', 'b', 'c']\n",
    "x[0]"
   ]
  },
  {
   "cell_type": "markdown",
   "metadata": {},
   "source": [
    "Linked lists are a list of items pointing to their neighbors. Notice that there's no explicit index for each item."
   ]
  },
  {
   "cell_type": "markdown",
   "metadata": {},
   "source": [
    "<img src = 'linked.jpg' width = 500/>"
   ]
  },
  {
   "cell_type": "code",
   "execution_count": 22,
   "metadata": {},
   "outputs": [
    {
     "data": {
      "text/plain": [
       "Link('a', Link('b', Link('c')))"
      ]
     },
     "execution_count": 22,
     "metadata": {},
     "output_type": "execute_result"
    }
   ],
   "source": [
    "x = Link('a', Link('b', Link('c')))\n",
    "x"
   ]
  },
  {
   "cell_type": "markdown",
   "metadata": {},
   "source": [
    "Suppose we want to add an item at the head of the list.\n",
    "\n",
    "With Python's built-in list, if we want to put an item into the container labeled with index 0, we must **move all the items** in the list into its neighbor containers to make room for the first item."
   ]
  },
  {
   "cell_type": "markdown",
   "metadata": {},
   "source": [
    "<img src = 'add_list.jpg' width = 500/>"
   ]
  },
  {
   "cell_type": "code",
   "execution_count": 26,
   "metadata": {},
   "outputs": [
    {
     "data": {
      "text/plain": [
       "[0, 1, 2, 3]"
      ]
     },
     "execution_count": 26,
     "metadata": {},
     "output_type": "execute_result"
    }
   ],
   "source": [
    "x = [1, 2, 3]\n",
    "x = [0] + x\n",
    "x"
   ]
  },
  {
   "cell_type": "markdown",
   "metadata": {},
   "source": [
    "With a linked list, we tell Python that the neighbor of the new item is the old beginning of the list."
   ]
  },
  {
   "cell_type": "markdown",
   "metadata": {},
   "source": [
    "<img src = 'add_linked.jpg' width = 500/>"
   ]
  },
  {
   "cell_type": "code",
   "execution_count": 27,
   "metadata": {},
   "outputs": [
    {
     "data": {
      "text/plain": [
       "Link(0, Link(1, Link(2, Link(3))))"
      ]
     },
     "execution_count": 27,
     "metadata": {},
     "output_type": "execute_result"
    }
   ],
   "source": [
    "x = Link(1, Link(2, Link(3)))\n",
    "x = Link(0, x)\n",
    "x"
   ]
  },
  {
   "cell_type": "markdown",
   "metadata": {},
   "source": [
    "We can compare the speed of this operation by timing how long it takes to insert a large number of items to the beginning of both types of lists. If we enter the following command in the terminal,"
   ]
  },
  {
   "cell_type": "code",
   "execution_count": null,
   "metadata": {},
   "outputs": [],
   "source": [
    "python timing.py insert 100000"
   ]
  },
  {
   "cell_type": "markdown",
   "metadata": {},
   "source": [
    "<img src = 'test1.jpg' width = 800/>"
   ]
  },
  {
   "cell_type": "markdown",
   "metadata": {},
   "source": [
    "As we can see, it is faster to insert items to the head of a linked list compared to inserting to the start of a Python list!\n",
    "\n",
    "#### Indexing\n",
    "Let's say we want the item at index `[3]` from a list.\n",
    "\n",
    "In the built-in list, we can use Python list indexing (`e.g. lst[3]`) to easily obtain the item at index `[3]`\n",
    "\n",
    "In the linked list, we need to start at the first item and repeatedly follow the `rest` attribute (`e.g. link.rest.rest.first`). How does this scale if the index we were trying to access was very large?\n",
    "\n",
    "If we enter the following command in the terminal,"
   ]
  },
  {
   "cell_type": "code",
   "execution_count": null,
   "metadata": {},
   "outputs": [],
   "source": [
    "python timing.py index 10000"
   ]
  },
  {
   "cell_type": "markdown",
   "metadata": {},
   "source": [
    "<img src = 'test2.jpg' width = 800/>"
   ]
  },
  {
   "cell_type": "markdown",
   "metadata": {},
   "source": [
    "As we can see, the speed of randomly accessing 10,000 items is considerably faster in Python list compared to a linked list.\n",
    "\n",
    "In future CS courses, we'll learn how to make a performance tradeoffs in the programs by choosing data structures carefully."
   ]
  },
  {
   "cell_type": "markdown",
   "metadata": {},
   "source": [
    "## Tree (Again)"
   ]
  },
  {
   "cell_type": "markdown",
   "metadata": {},
   "source": [
    "Recall that a tree is a recursive abstract data type that has a `label` (the value stored in the root of the tree) and `branches` (a list of trees directly underneath the root).\n",
    "\n",
    "Previously, we implemented the tree ADT using constructor and selector functions that treat trees as lists. Another way to implement tree ADT is with a `class`. "
   ]
  },
  {
   "cell_type": "code",
   "execution_count": 1,
   "metadata": {},
   "outputs": [],
   "source": [
    "class Tree:\n",
    "    def __init__(self, label, branches = []):\n",
    "        for b in branches:\n",
    "            assert isinstance(b, Tree)\n",
    "        self.label = label\n",
    "        self.branches = list(branches)\n",
    "        \n",
    "    def is_leaf(self):\n",
    "        return not self.branches"
   ]
  },
  {
   "cell_type": "markdown",
   "metadata": {},
   "source": [
    "Even though this is a new implementation, everything we know about the tree ADT remains true. This means solving problems involving trees as objects uses the same techniques that we've developed when we first studying ADT (e.g. we can still use recursion on the branches). The main difference, aside from the syntax, is that **tree objects are mutable**.\n",
    "\n",
    "Here are summary of the differences between the tree ADT implemented using functions and lists vs. using a `class`."
   ]
  },
  {
   "cell_type": "markdown",
   "metadata": {},
   "source": [
    "| Properties | Tree constructor and selector | Tree `class`|\n",
    "| --- | --- | --- |\n",
    "| Constructing a tree | To construct a tree given a `label` and a list of `branches`,<br> we call `tree(label, branches)` | To construct a tree object given a `label` method, <br> we call `Tree(label, branches)`, which calls the `Tree.__init__` method|\n",
    "| Label and branches | To get the label or branches of a tree `t`, <br> we call `label(t)` or `branches(t)` respectively | To get the label or branches of a tree `t`, <br> we access the instance attributes `t.label` or `t.branches` respectively |\n",
    "| Mutability | The tree ADT is immutable because we cannot assign values to call expressions | The `label` and `branches` attributes of a `Tree` instance can be reassigned, mutating the tree |\n",
    "| Checking if a tree `t` is a `leaf` | Call the convenience function `is_leaf(t)` | Call the bound method `t.is_leaf()`. <br> This method can only be called on `Tree` objects. |"
   ]
  },
  {
   "cell_type": "code",
   "execution_count": null,
   "metadata": {},
   "outputs": [],
   "source": []
  }
 ],
 "metadata": {
  "kernelspec": {
   "display_name": "Python 3",
   "language": "python",
   "name": "python3"
  },
  "language_info": {
   "codemirror_mode": {
    "name": "ipython",
    "version": 3
   },
   "file_extension": ".py",
   "mimetype": "text/x-python",
   "name": "python",
   "nbconvert_exporter": "python",
   "pygments_lexer": "ipython3",
   "version": "3.6.8"
  }
 },
 "nbformat": 4,
 "nbformat_minor": 2
}
