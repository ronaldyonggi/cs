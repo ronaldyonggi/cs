{
 "cells": [
  {
   "cell_type": "code",
   "execution_count": 7,
   "metadata": {},
   "outputs": [],
   "source": [
    "from lab07 import *"
   ]
  },
  {
   "cell_type": "markdown",
   "metadata": {},
   "source": [
    "## Q7: Is BST"
   ]
  },
  {
   "cell_type": "markdown",
   "metadata": {},
   "source": [
    "Write a function `is_bst`, which takes a Tree `t` and returns `True` if and only if `t` is a valid binary search tree. This means:\n",
    "\n",
    "1. Each node has at most 2 children (a leaf is automatically a valid binary search tree)\n",
    "2. The children are valid binary search trees\n",
    "\n",
    "For every node, the entries in that node's...\n",
    "1. ...left child are **less than or equal to** the label of the node\n",
    "2. ...right child are **greater than** the label of the node\n",
    "\n",
    "Note that if a node only has one child, that child could be considered either the left or right child. **Do not use the `BST` constructor or anything from the `BST` class**.\n",
    "\n",
    "Hint: It may be helpful to write helper functions `bst_min` and `bst_max` that returns the minimum and maximum, respectively, of a Tree if it is a valid binary search tree."
   ]
  },
  {
   "cell_type": "markdown",
   "metadata": {},
   "source": [
    "#### Strategy -- `bst_min` and `bst_max`"
   ]
  },
  {
   "cell_type": "markdown",
   "metadata": {},
   "source": [
    "The base case is that if the tree is a leaf, then we just return the `label` of that tree."
   ]
  },
  {
   "cell_type": "code",
   "execution_count": null,
   "metadata": {},
   "outputs": [],
   "source": [
    "if t.is_leaf():\n",
    "    return t.label"
   ]
  },
  {
   "cell_type": "markdown",
   "metadata": {},
   "source": [
    "Otherwise, we take the `min` between the branches of the tree and the `label` of the current selected tree."
   ]
  },
  {
   "cell_type": "code",
   "execution_count": null,
   "metadata": {},
   "outputs": [],
   "source": [
    "return min([t.label] + [bst_min(branch for branch in t.branches)])"
   ]
  },
  {
   "cell_type": "markdown",
   "metadata": {},
   "source": [
    "However, assuming that the `tree` is a valid binary search tree, we don't need to search through all branches. Instead, for `min`, we just search through the left branch. This change will speed up runtime since Python doesn't have to search through as much items as if it were to search through both branches."
   ]
  },
  {
   "cell_type": "code",
   "execution_count": null,
   "metadata": {},
   "outputs": [],
   "source": [
    "return min(t.label + bst_min(t.branches[0]))"
   ]
  },
  {
   "cell_type": "markdown",
   "metadata": {},
   "source": [
    "The implementation would look like the following,"
   ]
  },
  {
   "cell_type": "code",
   "execution_count": 8,
   "metadata": {},
   "outputs": [],
   "source": [
    "def bst_min(t):\n",
    "    if t.is_leaf():\n",
    "        return t.label\n",
    "    return min(t.label + bst_min(t.branches[0])"
   ]
  },
  {
   "cell_type": "markdown",
   "metadata": {},
   "source": [
    "And the implementation for `bst_max` is exactly the same, with the only difference that we use `max` instead of `min`, and that we search through the right branch. Recall that index `[-1]` means the first element from the end of a list."
   ]
  },
  {
   "cell_type": "code",
   "execution_count": 1,
   "metadata": {},
   "outputs": [],
   "source": [
    "def bst_max(t):\n",
    "    if t.is_leaf():\n",
    "        return t.label\n",
    "    return max(t.label + bst_max(t.branches[-1]))"
   ]
  },
  {
   "cell_type": "markdown",
   "metadata": {},
   "source": [
    "#### Strategy - `is_bst` -- CONSULTED SOLUTION MANUAL"
   ]
  },
  {
   "cell_type": "markdown",
   "metadata": {},
   "source": [
    "The base case is that if the current tree is a `leaf`, then return `true`"
   ]
  },
  {
   "cell_type": "code",
   "execution_count": null,
   "metadata": {},
   "outputs": [],
   "source": [
    "if t.is_leaf():\n",
    "    return True"
   ]
  },
  {
   "cell_type": "markdown",
   "metadata": {},
   "source": [
    "**I can't undestand the rest of the implementation**."
   ]
  },
  {
   "cell_type": "markdown",
   "metadata": {},
   "source": [
    "## In-order Traversal -- CONSULTED FROM SOLUTION MANUAL"
   ]
  },
  {
   "cell_type": "markdown",
   "metadata": {},
   "source": [
    "Write a function that returns a generator that generates an \"in-order\" traversal, in which we yield the value of everynode in order from left to right, assuming that each node has either 0 or 2 branches."
   ]
  },
  {
   "cell_type": "code",
   "execution_count": null,
   "metadata": {},
   "outputs": [],
   "source": [
    "\n",
    "\"\"\"\n",
    "    Generator function that generates an \"in-order\" traversal, in which we \n",
    "    yield the value of every node in order from left to right, assuming that each node has either 0 or 2 branches.\n",
    "\n",
    "    For example, take the following tree t:\n",
    "            1\n",
    "        2       3\n",
    "    4     5\n",
    "         6  7\n",
    "\n",
    "    We have the in-order-traversal 4, 2, 6, 5, 7, 1, 3\n",
    "\n",
    "    >>> t = Tree(1, [Tree(2, [Tree(4), Tree(5, [Tree(6), Tree(7)])]), Tree(3)])\n",
    "    >>> list(in_order_traversal(t))\n",
    "    [4, 2, 6, 5, 7, 1, 3]\n",
    "    \"\"\"\n",
    "import doctest\n",
    "doctest.testmod()"
   ]
  },
  {
   "cell_type": "markdown",
   "metadata": {},
   "source": [
    "#### Strategy"
   ]
  },
  {
   "cell_type": "markdown",
   "metadata": {},
   "source": [
    "The base case is that if the current selected tree is a leaf, then yield the `label`,"
   ]
  },
  {
   "cell_type": "code",
   "execution_count": null,
   "metadata": {},
   "outputs": [],
   "source": [
    "if t.is_leaf():\n",
    "    yield t.label"
   ]
  },
  {
   "cell_type": "markdown",
   "metadata": {},
   "source": [
    "Otherwise, \n",
    "\n",
    "**1.** `yield from` the left branch\n",
    "\n",
    "**2.** `yield` the label\n",
    "\n",
    "**3.** `yield from` right branch"
   ]
  },
  {
   "cell_type": "code",
   "execution_count": null,
   "metadata": {},
   "outputs": [],
   "source": [
    "else:\n",
    "    left, right = t.branches\n",
    "    yield from in_order_traversal(left)\n",
    "    yield t.label\n",
    "    yield from in_order_traversal(right)"
   ]
  },
  {
   "cell_type": "markdown",
   "metadata": {},
   "source": [
    "The implementation would look like the following,"
   ]
  },
  {
   "cell_type": "code",
   "execution_count": null,
   "metadata": {},
   "outputs": [],
   "source": [
    "if t.is_leaf():\n",
    "    yield t.label\n",
    "else:\n",
    "    left, right = t.branches\n",
    "    yield from in_order_traversal(left)\n",
    "    yield t.label\n",
    "    yield from in_order_traversal(right)"
   ]
  },
  {
   "cell_type": "code",
   "execution_count": null,
   "metadata": {},
   "outputs": [],
   "source": []
  }
 ],
 "metadata": {
  "kernelspec": {
   "display_name": "Python 3",
   "language": "python",
   "name": "python3"
  },
  "language_info": {
   "codemirror_mode": {
    "name": "ipython",
    "version": 3
   },
   "file_extension": ".py",
   "mimetype": "text/x-python",
   "name": "python",
   "nbconvert_exporter": "python",
   "pygments_lexer": "ipython3",
   "version": "3.6.8"
  }
 },
 "nbformat": 4,
 "nbformat_minor": 2
}
