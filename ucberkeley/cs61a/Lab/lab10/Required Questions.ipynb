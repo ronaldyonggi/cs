{
 "cells": [
  {
   "cell_type": "markdown",
   "metadata": {},
   "source": [
    "## Q5: Evaluating Names"
   ]
  },
  {
   "cell_type": "markdown",
   "metadata": {},
   "source": [
    "The first type of PyCombinator expression that we want to evaluate are names. In our program, a name is an instance of the `Name` class. Each instance has a `string` attribute which is the name of the variable (e.g. `\"x\"`).\n",
    "\n",
    "Recall that the value of a name depends on the current environment. In our implementation, **an environment is represented by a dictionary that maps variable names (strings) to their values** (instance of the `Value` class).\n",
    "\n",
    "The method `Name.eval` takes in the current environment as the parameter `env` and returns the value bound to the `Name`'s `string` in this environment. Implement it as follows:\n",
    "\n",
    "1. If the name exists in the current environment, look it up and return the value it is bound to.\n",
    "2. If the name doesn't exist in the current environment, raise a `NameError` with an appropriate error message:"
   ]
  },
  {
   "cell_type": "code",
   "execution_count": null,
   "metadata": {},
   "outputs": [],
   "source": [
    "raise NameError('your error message here (a string)')"
   ]
  },
  {
   "cell_type": "markdown",
   "metadata": {},
   "source": [
    "#### Strategy"
   ]
  },
  {
   "cell_type": "markdown",
   "metadata": {},
   "source": [
    "The `Name` class has an attribute `string`, which is the name of the variable. Looking at the doctest,"
   ]
  },
  {
   "cell_type": "code",
   "execution_count": null,
   "metadata": {},
   "outputs": [],
   "source": [
    "\"\"\"\n",
    "        >>> env = {\n",
    "        ...     'a': Number(1),\n",
    "        ...     'b': LambdaFunction([], Literal(0), {})\n",
    "        ... }\n",
    "        >>> Name('a').eval(env)\n",
    "        Number(1)\n",
    "        >>> Name('b').eval(env)\n",
    "        LambdaFunction([], Literal(0), {})\n",
    "        >>> try:\n",
    "        ...     print(Name('c').eval(env))\n",
    "        ... except NameError:\n",
    "        ...     print('Exception raised!')\n",
    "        Exception raised!\n",
    "        \"\"\""
   ]
  },
  {
   "cell_type": "markdown",
   "metadata": {},
   "source": [
    "We can check if a name exists in the environment `env` by checking if the `string` of a particular instance of `Name` is in it."
   ]
  },
  {
   "cell_type": "code",
   "execution_count": null,
   "metadata": {},
   "outputs": [],
   "source": [
    "if self.string in env:\n",
    "    return env[self.string]"
   ]
  },
  {
   "cell_type": "markdown",
   "metadata": {},
   "source": [
    "Otherwise, we see in the doctest that if the `string` is not found in `env`, we raise an `Exception raised!` `NameError` message."
   ]
  },
  {
   "cell_type": "code",
   "execution_count": null,
   "metadata": {},
   "outputs": [],
   "source": [
    "else:\n",
    "    raise NameError('Exception raised')"
   ]
  },
  {
   "cell_type": "markdown",
   "metadata": {},
   "source": [
    "The implementation is as the following,"
   ]
  },
  {
   "cell_type": "code",
   "execution_count": null,
   "metadata": {},
   "outputs": [],
   "source": [
    "def eval(self, env):\n",
    "    if self.string in env:\n",
    "        return env[self.string]\n",
    "    else:\n",
    "        raise NameError('Exception raised!')"
   ]
  },
  {
   "cell_type": "markdown",
   "metadata": {},
   "source": [
    "## Q6 - Evaluating Call Expressions"
   ]
  },
  {
   "cell_type": "markdown",
   "metadata": {},
   "source": [
    "#### Strategy"
   ]
  },
  {
   "cell_type": "markdown",
   "metadata": {},
   "source": [
    "Looking at the implementation of `CallExpr` subclass, the `__init__` method states that a `CallExpr` instance has the `operator` and `operands` attribute.\n",
    "\n"
   ]
  },
  {
   "cell_type": "code",
   "execution_count": null,
   "metadata": {},
   "outputs": [],
   "source": [
    "class CallExpr(Expr):\n",
    "    def __init__(self, operator, operands):\n",
    "        Expr.__init__(self, operator, operands)\n",
    "        self.operator = operator\n",
    "        self.operand = operands"
   ]
  },
  {
   "cell_type": "markdown",
   "metadata": {},
   "source": [
    "The `hint` states that both `operator` and `operands` are all instances of `Expr`, which we can evaluate by calling their `eval` methods. The `eval` method of an `Expr` instance takes in an `env` argument, which is the argument `env`. Evaluating an operator would look like the following,"
   ]
  },
  {
   "cell_type": "code",
   "execution_count": null,
   "metadata": {},
   "outputs": [],
   "source": [
    "self.operator.eval(env)"
   ]
  },
  {
   "cell_type": "markdown",
   "metadata": {},
   "source": [
    "Meanwhile, the `self.operands` is a list such as `[Literal(3), Literal(4)]`. We can `eval` them in a list comprehension like the following,"
   ]
  },
  {
   "cell_type": "code",
   "execution_count": null,
   "metadata": {},
   "outputs": [],
   "source": [
    "[i.eval(env) for i in self.operands]"
   ]
  },
  {
   "cell_type": "markdown",
   "metadata": {},
   "source": [
    "Now we want to `apply` the result of evaluating the `operator` to each of the `operand`. This can be done in one line statement,"
   ]
  },
  {
   "cell_type": "code",
   "execution_count": null,
   "metadata": {},
   "outputs": [],
   "source": [
    "def eval(self, env):\n",
    "    return self.operator.eval(env).apply([i.eval(env) for i in self.operands])"
   ]
  }
 ],
 "metadata": {
  "kernelspec": {
   "display_name": "Python 3",
   "language": "python",
   "name": "python3"
  },
  "language_info": {
   "codemirror_mode": {
    "name": "ipython",
    "version": 3
   },
   "file_extension": ".py",
   "mimetype": "text/x-python",
   "name": "python",
   "nbconvert_exporter": "python",
   "pygments_lexer": "ipython3",
   "version": "3.6.8"
  }
 },
 "nbformat": 4,
 "nbformat_minor": 2
}
