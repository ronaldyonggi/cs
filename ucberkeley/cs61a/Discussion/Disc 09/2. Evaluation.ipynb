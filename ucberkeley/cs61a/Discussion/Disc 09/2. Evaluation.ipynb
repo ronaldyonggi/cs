{
 "cells": [
  {
   "cell_type": "markdown",
   "metadata": {},
   "source": [
    "# 2 Evaluation"
   ]
  },
  {
   "cell_type": "markdown",
   "metadata": {},
   "source": [
    "The evaluation component of an interpreter determines the type of an expression and executes corresponding evaluation rules.\n",
    "\n",
    "The following `calc_eval` function takes in a Calculator expression represented in Python and implements the evaluation rules."
   ]
  },
  {
   "cell_type": "code",
   "execution_count": null,
   "metadata": {},
   "outputs": [],
   "source": [
    "def calc_eval(exp):\n",
    "    \"\"\" Evaluates a Calculator expression represented as a Pair.\"\"\"\n",
    "    if isinstance(exp, Pair): # If exp is a call expression\n",
    "        fn = calc_eval(exp.first) # Evaluate the operator\n",
    "        args = list(exp.second.map(calc_eval)) # Evaluate each element in operands\n",
    "        return calc_apply(fn, args)\n",
    "    elif exp in OPERATORS: # if exp is a name\n",
    "        return OPERATORS[exp]\n",
    "    else: # If exp is a number, then just return it\n",
    "        return exp\n",
    "    \n",
    "def calc_apply(fn, args):\n",
    "    \"\"\" Applies a Calculator operation to a list of numbers\"\"\"\n",
    "    return fn(args)"
   ]
  },
  {
   "cell_type": "markdown",
   "metadata": {},
   "source": [
    "## Questions"
   ]
  },
  {
   "cell_type": "markdown",
   "metadata": {},
   "source": [
    "### 2.1\n",
    "How many calls to `calc_eval` and `calc_apply` would it take to evaluate each of the following Calculator expressions?"
   ]
  },
  {
   "cell_type": "code",
   "execution_count": null,
   "metadata": {},
   "outputs": [],
   "source": [
    "> (+ 2 4 6 8)"
   ]
  },
  {
   "cell_type": "markdown",
   "metadata": {},
   "source": [
    "#### Answer\n",
    "\n",
    "6 calls to `calc_eval`\n",
    "* 1 call on the whole expression (we call `calc_eval` on `exp` initially)\n",
    "* 5 call on each element in `exp`\n",
    "\n",
    "1 call to `calc_apply` using the `'+'` operator"
   ]
  },
  {
   "cell_type": "code",
   "execution_count": null,
   "metadata": {},
   "outputs": [],
   "source": [
    "> (+ 2 (* 4 (- 6 8)))"
   ]
  },
  {
   "cell_type": "markdown",
   "metadata": {},
   "source": [
    "#### Answer\n",
    "10 calls to `calc_eval`:\n",
    "* The whole `exp`\n",
    "* `'+'`\n",
    "* `2`\n",
    "* `(* 4 (- 6 8))`\n",
    "* `'*'`\n",
    "* `4`\n",
    "* `(- 6 8)`\n",
    "* `'-'`\n",
    "* `6`\n",
    "* `8`\n",
    "\n",
    "3 calls to `calc_apply`: 1 for each operator involved (`+`, `*`, `-`)"
   ]
  },
  {
   "cell_type": "markdown",
   "metadata": {},
   "source": [
    "### 2.2\n",
    "Suppose we want to add handling for comparison operators `>`, `<`, and `=` as well as `adn` expressions to our Calculator interpreter. These should work the same way they do in Scheme."
   ]
  },
  {
   "cell_type": "code",
   "execution_count": 1,
   "metadata": {},
   "outputs": [
    {
     "data": {
      "text/plain": [
       "3"
      ]
     },
     "execution_count": 1,
     "metadata": {},
     "output_type": "execute_result"
    }
   ],
   "source": [
    "(and (= 1 1) 3)"
   ]
  },
  {
   "cell_type": "code",
   "execution_count": 2,
   "metadata": {},
   "outputs": [
    {
     "data": {
      "text/plain": [
       "#f"
      ]
     },
     "execution_count": 2,
     "metadata": {},
     "output_type": "execute_result"
    }
   ],
   "source": [
    "(and (+ 1 0) (< 1 0) (/ 1 0))"
   ]
  },
  {
   "cell_type": "markdown",
   "metadata": {},
   "source": [
    "#### i \n",
    "Are we able to handle expressions containing the comparison operators (such as `<`, `>`, or `=`) with the existing implementation of `calc_eval`? Why or why not?\n",
    "\n",
    "#### Answer\n",
    "No. Recall the Calculator program includes only the 4 basic arithmetic operations `+`, `-`, `*` and `/`; it doesn't include comparison operators. However, comparison expressions are regular call expressions and thus, we don't need to modidy `calc_eval`. All that's needed to handle these comparison operators is to add new entries to the `OPERATORS` dictionary that map the comparison operators to functions that do the corresponding comparison operation."
   ]
  },
  {
   "cell_type": "markdown",
   "metadata": {},
   "source": [
    "#### ii\n",
    "Are we able to handle `and` expressions with the existing implementation of `calc_eval`? Why or why not?\n",
    "\n",
    "#### Answer\n",
    "No. `and` expression is a special form that short circuits when it encounters the first `False` value (it doesn't use all the operands). Thus, we can't handle `and` expression the same way we handle regular expressions. We need a special handling procedure for `and` expressions."
   ]
  },
  {
   "cell_type": "markdown",
   "metadata": {},
   "source": [
    "#### iii\n",
    "Now, complete the implementation below to handle `and` expressions. You may assume the conditional operators (e.g. `<`, `>`, `=`) have already been implemented for you."
   ]
  },
  {
   "cell_type": "code",
   "execution_count": 2,
   "metadata": {},
   "outputs": [],
   "source": [
    "def calc_eval(exp):\n",
    "    if isinstance(exp, Pair):\n",
    "        if exp.first == 'and':\n",
    "            return eval_and(exp.second)\n",
    "        else:\n",
    "            return calc_apply(calc_eval(exp.first), list(exp.second.map(calc_eval)))\n",
    "    elif exp in OPERATORS:\n",
    "        return OPERATORS[exp]\n",
    "    else:\n",
    "        return exp"
   ]
  },
  {
   "cell_type": "code",
   "execution_count": null,
   "metadata": {},
   "outputs": [],
   "source": [
    "def eval_and(operands):"
   ]
  },
  {
   "cell_type": "markdown",
   "metadata": {},
   "source": [
    "We might be tempted to access the elements of `operands` right away (e.g. using `operands.first`). However, be careful!\n",
    "1. Rather than looking whether the element is `False`, we **evaluate** that element first using `calc_eval` to see if the result of the evaluation is a `False` value\n",
    "2. When we evaluate an element / expression, that element could be reduced to a single value, causing the order (index) of the operands to change. It's safer to use a pointer instead."
   ]
  },
  {
   "cell_type": "code",
   "execution_count": 1,
   "metadata": {},
   "outputs": [
    {
     "ename": "SyntaxError",
     "evalue": "unexpected EOF while parsing (<ipython-input-1-a7a14704501c>, line 2)",
     "output_type": "error",
     "traceback": [
      "\u001b[0;36m  File \u001b[0;32m\"<ipython-input-1-a7a14704501c>\"\u001b[0;36m, line \u001b[0;32m2\u001b[0m\n\u001b[0;31m    \u001b[0m\n\u001b[0m    ^\u001b[0m\n\u001b[0;31mSyntaxError\u001b[0m\u001b[0;31m:\u001b[0m unexpected EOF while parsing\n"
     ]
    }
   ],
   "source": [
    "def eval_and(operands):\n",
    "    pointer = operands # Have a pointer\n",
    "    while pointer is not nil:\n",
    "        if calc_eval(pointer.first) is False: # If the result of evaluating the pointer element is False\n",
    "            return False # Then return False\n",
    "        pointer = pointer.second # Move on to the next element\n",
    "    return True # If we ran out of elements, then return True"
   ]
  },
  {
   "cell_type": "code",
   "execution_count": null,
   "metadata": {},
   "outputs": [],
   "source": []
  }
 ],
 "metadata": {
  "kernelspec": {
   "display_name": "Python 3",
   "language": "python",
   "name": "python3"
  },
  "language_info": {
   "codemirror_mode": {
    "name": "ipython",
    "version": 3
   },
   "file_extension": ".py",
   "mimetype": "text/x-python",
   "name": "python",
   "nbconvert_exporter": "python",
   "pygments_lexer": "ipython3",
   "version": "3.7.3"
  }
 },
 "nbformat": 4,
 "nbformat_minor": 4
}
