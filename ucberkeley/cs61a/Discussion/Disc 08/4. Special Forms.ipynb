{
 "cells": [
  {
   "cell_type": "markdown",
   "metadata": {},
   "source": [
    "# 4. Special Forms"
   ]
  },
  {
   "cell_type": "markdown",
   "metadata": {},
   "source": [
    "Special form expressions contain a `special form` as the operator. Special form expressions don't follow the same rules of evaluation as call expressions. Each special form has its own rules of evaluation - that's what makes them special!\n",
    "\n",
    "The special form we'll cover include `if`, `and`, `or`, `lambda`, and `define`."
   ]
  },
  {
   "cell_type": "markdown",
   "metadata": {},
   "source": [
    "## 4.1 `if` Expression"
   ]
  },
  {
   "cell_type": "markdown",
   "metadata": {},
   "source": [
    "The `if` special form allows for control flow in our programs. An `if` expression looks like the following,"
   ]
  },
  {
   "cell_type": "code",
   "execution_count": null,
   "metadata": {},
   "outputs": [],
   "source": [
    "(if <predicate> <if-true> [if-false])"
   ]
  },
  {
   "cell_type": "markdown",
   "metadata": {},
   "source": [
    "`<predicate>` and `<if-true>` are required expressons, while `[if-false]` is optional.\n",
    "\n",
    "The rules for evaluation are as follows:\n",
    "\n",
    "**1.** Evaluate `<predicate>`\n",
    "\n",
    "**2.** If `<predicate>` evaluates to `True`, evaluate `<if-true>` and return its value. Otherwise, evaluate `[if-false]` if provided, and return its value.\n",
    "\n",
    "This is a special form because not all operands are evaluated! Either second or the third operand will be evaluated, depending on the value of the first operand.\n",
    "\n",
    "Notice that the behavior of an `if` special form is similar to that of an `if` statement in Python - the major difference is that in Scheme, `if` special form evaluates to a value, while `if` statements in Python doesn't necessarily evaluate to anything.\n",
    "\n",
    "Remember that only `#f` evaluates to false. Everything else evaluates to true."
   ]
  },
  {
   "cell_type": "code",
   "execution_count": 1,
   "metadata": {},
   "outputs": [
    {
     "data": {
      "text/plain": [
       "1"
      ]
     },
     "execution_count": 1,
     "metadata": {},
     "output_type": "execute_result"
    }
   ],
   "source": [
    "(if (< 4 5)\n",
    "    1 ; If true, return 1\n",
    "    2 ; if false, return 2\n",
    "    )"
   ]
  },
  {
   "cell_type": "code",
   "execution_count": 2,
   "metadata": {},
   "outputs": [
    {
     "data": {
      "text/plain": [
       "42"
      ]
     },
     "execution_count": 2,
     "metadata": {},
     "output_type": "execute_result"
    }
   ],
   "source": [
    "(if #f\n",
    "    (/ 1 0) ; If true, evaluates this\n",
    "    42 ; else. return 42\n",
    "    )"
   ]
  },
  {
   "cell_type": "code",
   "execution_count": 3,
   "metadata": {},
   "outputs": [
    {
     "data": {
      "text/plain": [
       "equal"
      ]
     },
     "execution_count": 3,
     "metadata": {},
     "output_type": "execute_result"
    }
   ],
   "source": [
    "(if (= (+ 1 2) 3)\n",
    "    'equal\n",
    "    )"
   ]
  },
  {
   "cell_type": "markdown",
   "metadata": {},
   "source": [
    "## 4.2 Boolean Operators"
   ]
  },
  {
   "cell_type": "markdown",
   "metadata": {},
   "source": [
    "Like Python, Scheme also has the boolean operators `and`, `or`, and `not`. `and` and `or` are special forms because they are short-circuiting operators.\n",
    "\n",
    "`and` takes in any amount of operands and evaluates these operands from left to right until it finds  the first `False` value and return that value. If all the operands evaluate to `True`, it returns the last operand. \n",
    "\n",
    "`or` is similar to `and`, but it stops when it finds the first `True` value and returns that value. If all the operands evaluate to `False`, it returns the first operand.\n",
    "\n",
    "`not` takes in a single operand, evaluates it, and returns its opposite boolean value. Because its one operand is always evaluated, `not` is a regular procedure rather than a special form."
   ]
  },
  {
   "cell_type": "code",
   "execution_count": 4,
   "metadata": {},
   "outputs": [
    {
     "data": {
      "text/plain": [
       "32"
      ]
     },
     "execution_count": 4,
     "metadata": {},
     "output_type": "execute_result"
    }
   ],
   "source": [
    "(and 25 32)"
   ]
  },
  {
   "cell_type": "code",
   "execution_count": 9,
   "metadata": {},
   "outputs": [
    {
     "data": {
      "text/plain": [
       "#f"
      ]
     },
     "execution_count": 9,
     "metadata": {},
     "output_type": "execute_result"
    }
   ],
   "source": [
    "(or\n",
    " (> 2 3)\n",
    " (< 4 3)\n",
    " (= 1 2) ; Returns the value of this expression\n",
    " )"
   ]
  },
  {
   "cell_type": "code",
   "execution_count": 10,
   "metadata": {},
   "outputs": [
    {
     "data": {
      "text/plain": [
       "1"
      ]
     },
     "execution_count": 10,
     "metadata": {},
     "output_type": "execute_result"
    }
   ],
   "source": [
    "(or\n",
    " 1\n",
    " (/1 0)\n",
    " )"
   ]
  },
  {
   "cell_type": "code",
   "execution_count": 11,
   "metadata": {},
   "outputs": [
    {
     "data": {
      "text/plain": [
       "#t"
      ]
     },
     "execution_count": 11,
     "metadata": {},
     "output_type": "execute_result"
    }
   ],
   "source": [
    "(not\n",
    " (odd? 10)\n",
    " )"
   ]
  },
  {
   "cell_type": "markdown",
   "metadata": {},
   "source": [
    "## Questions"
   ]
  },
  {
   "cell_type": "markdown",
   "metadata": {},
   "source": [
    "### 4.1\n",
    "What would Python display?"
   ]
  },
  {
   "cell_type": "code",
   "execution_count": 13,
   "metadata": {},
   "outputs": [
    {
     "data": {
      "text/plain": [
       "1"
      ]
     },
     "execution_count": 13,
     "metadata": {},
     "output_type": "execute_result"
    }
   ],
   "source": [
    "(if (or #t (/ 1 0))\n",
    "        1\n",
    "        (/ 1 0)\n",
    "    )\n",
    "; Ans: 1"
   ]
  },
  {
   "cell_type": "code",
   "execution_count": 14,
   "metadata": {},
   "outputs": [
    {
     "data": {
      "text/plain": [
       "10"
      ]
     },
     "execution_count": 14,
     "metadata": {},
     "output_type": "execute_result"
    }
   ],
   "source": [
    "(if (> 4 3)\n",
    "    (+ 1 2 3 4)\n",
    "    (+ 3 4 (* 3 2))\n",
    "    )\n",
    "; Ans: 10"
   ]
  },
  {
   "cell_type": "code",
   "execution_count": 15,
   "metadata": {},
   "outputs": [
    {
     "data": {
      "text/plain": [
       "-96"
      ]
     },
     "execution_count": 15,
     "metadata": {},
     "output_type": "execute_result"
    }
   ],
   "source": [
    "((if (< 4 3) + - ) 4 100)\n",
    "; Ans: -96"
   ]
  },
  {
   "cell_type": "code",
   "execution_count": 16,
   "metadata": {},
   "outputs": [
    {
     "data": {
      "text/plain": [
       "1"
      ]
     },
     "execution_count": 16,
     "metadata": {},
     "output_type": "execute_result"
    }
   ],
   "source": [
    "(if 0 1 2)\n",
    "; Ans: 1"
   ]
  },
  {
   "cell_type": "markdown",
   "metadata": {},
   "source": [
    "## 4.3 Lambdas and Defining Functions"
   ]
  },
  {
   "cell_type": "markdown",
   "metadata": {},
   "source": [
    "All Scheme procedures are `lambda` procedures. One way to create a procedure is to use the `lambda` special form."
   ]
  },
  {
   "cell_type": "code",
   "execution_count": null,
   "metadata": {},
   "outputs": [],
   "source": [
    "(lambda (<param1 <param2> ...) <body>)"
   ]
  },
  {
   "cell_type": "markdown",
   "metadata": {},
   "source": [
    "This expression creates a lambda function with the given `<parameters>` and `<body>`, but doesn't evaluate the body. Like Python, the `<body>` is not evaluated until the lambda function is called and applied to some arguments. The fact that neither operand is evaluated is what makes `lambda` a special form.\n",
    "\n",
    "Another similarity to Python is that lambda expressions don't assign the returned function to any name. We can assign the value of an expression to a name with the `define` special form."
   ]
  },
  {
   "cell_type": "code",
   "execution_count": null,
   "metadata": {},
   "outputs": [],
   "source": [
    "(define <name> <expr>)"
   ]
  },
  {
   "cell_type": "markdown",
   "metadata": {},
   "source": [
    "For example,"
   ]
  },
  {
   "cell_type": "code",
   "execution_count": null,
   "metadata": {},
   "outputs": [],
   "source": [
    "(define square\n",
    "  (lambda (x) (* x x))\n",
    "  )"
   ]
  },
  {
   "cell_type": "markdown",
   "metadata": {},
   "source": [
    "Above creates a lambda procedure that squares its arguments and assigns that procedure to the name `square`.\n",
    "\n",
    "The second version of the `define` special form is a shorthand for this function definition,"
   ]
  },
  {
   "cell_type": "code",
   "execution_count": null,
   "metadata": {},
   "outputs": [],
   "source": [
    "(define (<name> <param1> <param2 ...>) <body>)"
   ]
  },
  {
   "cell_type": "markdown",
   "metadata": {},
   "source": [
    "This expression creates a function with the given `<parameters>` and `<body>` and binds it to the given name."
   ]
  },
  {
   "cell_type": "code",
   "execution_count": 4,
   "metadata": {},
   "outputs": [],
   "source": [
    "(define square (lambda (x) (* x x)))"
   ]
  },
  {
   "cell_type": "code",
   "execution_count": 2,
   "metadata": {},
   "outputs": [],
   "source": [
    "(define (square x) (* x x))"
   ]
  },
  {
   "cell_type": "markdown",
   "metadata": {},
   "source": [
    "The 2 lines above are equivalent."
   ]
  },
  {
   "cell_type": "code",
   "execution_count": 5,
   "metadata": {},
   "outputs": [
    {
     "data": {
      "text/plain": [
       "#<procedure>"
      ]
     },
     "execution_count": 5,
     "metadata": {},
     "output_type": "execute_result"
    }
   ],
   "source": [
    "square"
   ]
  },
  {
   "cell_type": "code",
   "execution_count": 6,
   "metadata": {},
   "outputs": [
    {
     "data": {
      "text/plain": [
       "16"
      ]
     },
     "execution_count": 6,
     "metadata": {},
     "output_type": "execute_result"
    }
   ],
   "source": [
    "(square 4)"
   ]
  },
  {
   "cell_type": "markdown",
   "metadata": {},
   "source": [
    "## Questions"
   ]
  },
  {
   "cell_type": "markdown",
   "metadata": {},
   "source": [
    "### 4.1\n",
    "Write a function that returns the factorial of a number."
   ]
  },
  {
   "cell_type": "code",
   "execution_count": 1,
   "metadata": {},
   "outputs": [],
   "source": [
    "(define (factorial x)\n",
    "  (if (< x 2)\n",
    "      1\n",
    "      (* x (factorial (- x 1)))\n",
    "      ) ; End of if\n",
    "  ) ; End of define"
   ]
  },
  {
   "cell_type": "code",
   "execution_count": 2,
   "metadata": {},
   "outputs": [
    {
     "data": {
      "text/plain": [
       "24"
      ]
     },
     "execution_count": 2,
     "metadata": {},
     "output_type": "execute_result"
    }
   ],
   "source": [
    "(factorial 4)"
   ]
  },
  {
   "cell_type": "markdown",
   "metadata": {},
   "source": [
    "### 4.2\n",
    "Write a function that returns the `n`th Fibonacci number."
   ]
  },
  {
   "cell_type": "markdown",
   "metadata": {},
   "source": [
    "#### Strategy"
   ]
  },
  {
   "cell_type": "markdown",
   "metadata": {},
   "source": [
    "Recall the recursive `fib` implementation in Python:\n",
    "\n",
    "1. If `n` is 0 or `1`, then return `n`\n",
    "2. Otherwise, returns `fib(n-1)` + `fib(n-2)`\n",
    "\n",
    "Then we implement the same thing in Scheme."
   ]
  },
  {
   "cell_type": "code",
   "execution_count": 1,
   "metadata": {},
   "outputs": [],
   "source": [
    "(define (fib n)\n",
    "  (if\n",
    "   (or\n",
    "    (= n 0)\n",
    "    (= n 1)\n",
    "    ) ; End of or\n",
    "   n ; If true, returns n\n",
    "   (+ ; Else, execute the following,\n",
    "    (fib (- n 1))\n",
    "    (fib (- n 2))\n",
    "    ) ; End of else\n",
    "   ) ; End of if\n",
    "  ) ; End of define"
   ]
  },
  {
   "cell_type": "markdown",
   "metadata": {},
   "source": []
  }
 ],
 "metadata": {
  "kernelspec": {
   "display_name": "Calysto Scheme 3",
   "language": "scheme",
   "name": "calysto_scheme"
  },
  "language_info": {
   "codemirror_mode": {
    "name": "scheme"
   },
   "mimetype": "text/x-scheme",
   "name": "scheme",
   "pygments_lexer": "scheme"
  }
 },
 "nbformat": 4,
 "nbformat_minor": 2
}
