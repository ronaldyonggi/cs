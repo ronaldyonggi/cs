{
 "cells": [
  {
   "cell_type": "markdown",
   "metadata": {},
   "source": [
    "# Lost On the Moon\n",
    "Your spaceship has just crashed on the moon. You were scheduled to rendezvous with a mother ship 200\n",
    "miles away on the lighted surface of the moon, but the rough landing has ruined your ship and destroyed all the equipment on board except for the 15 items listed below.\n",
    "\n",
    "Your crew’s survival depends on reaching the mother ship, so you must choose the most critical items\n",
    "available for the 200-mile trip. Your task is to rank the 15 items in terms of their importance for survival.\n",
    "\n",
    "Place a number 1 by the most important item, number 2 by the second most important, and so on, through\n",
    "number 15, the least important.\n",
    "\n",
    "| Item | Rank |\n",
    "| ---- | ---- |\n",
    "| Box of matches                             | 15 |\n",
    "| Food concentrate                           | 5 |\n",
    "| 50 ft. of nylon rope                       | 12 |\n",
    "| Parachute silk                             | 13 |\n",
    "| Solar-powered portable heating unit        | 14 |\n",
    "| 2 .45 caliber pistols                      | 10 |\n",
    "| One case of dehydrated milk                | 6 |\n",
    "| 2 100-pound tanks of oxygen                | 1 |\n",
    "| Stellar map (of the moon's constellations) | 3 |\n",
    "| Self-inflating life raft                   | 11 |\n",
    "| Magnetic compass                           | 8 |\n",
    "| 5 gallons of water                         | 2 |\n",
    "| Signal flares                              | 9 |\n",
    "| First-aid kit containing injection needles | 7 |\n",
    "| Solar-powered FM receiver-transmitter      | 4 |"
   ]
  },
  {
   "cell_type": "code",
   "execution_count": null,
   "metadata": {},
   "outputs": [],
   "source": []
  }
 ],
 "metadata": {
  "kernelspec": {
   "display_name": "Python 3",
   "language": "python",
   "name": "python3"
  },
  "language_info": {
   "codemirror_mode": {
    "name": "ipython",
    "version": 3
   },
   "file_extension": ".py",
   "mimetype": "text/x-python",
   "name": "python",
   "nbconvert_exporter": "python",
   "pygments_lexer": "ipython3",
   "version": "3.7.0"
  }
 },
 "nbformat": 4,
 "nbformat_minor": 2
}
