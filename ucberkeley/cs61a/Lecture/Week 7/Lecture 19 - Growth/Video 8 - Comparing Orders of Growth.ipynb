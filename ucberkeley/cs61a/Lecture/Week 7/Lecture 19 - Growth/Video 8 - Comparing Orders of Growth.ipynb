{
 "cells": [
  {
   "cell_type": "code",
   "execution_count": null,
   "metadata": {},
   "outputs": [],
   "source": [
    "%load_ext"
   ]
  },
  {
   "cell_type": "markdown",
   "metadata": {},
   "source": [
    "# Comparing Orders of Growth"
   ]
  },
  {
   "cell_type": "markdown",
   "metadata": {},
   "source": [
    "Here, we're going to discuss the categories that are the most important for describing the order of growth of different computational processes."
   ]
  },
  {
   "cell_type": "markdown",
   "metadata": {},
   "source": [
    "## Properties of Orders of Growth"
   ]
  },
  {
   "cell_type": "markdown",
   "metadata": {},
   "source": [
    "First we need to learn some simple properties.\n",
    "\n",
    "#### Constants\n",
    "Constant terms don't affect the order of growth of a process. Whether it's $\\Theta(n)$ or $\\Theta(500n)$ or $\\Theta(\\frac{1}{500}n)$, they are the same. Thus, we just use $\\Theta(n)$ for convenience.\n",
    "\n",
    "#### Logarithms\n",
    "The base of a logarithm doesn't affect the order of growth of a process. Thus, $\\Theta(log_{2}(n))$, $\\Theta(log_{10}(n))$ and $\\Theta(ln(n))$ are the same.\n",
    "\n",
    "#### Nesting\n",
    "When an inner process is repeated for each step in an outer process, multiply the steps in the outer and inner processes to find the total number of steps.\n",
    "\n",
    "Below is an example:"
   ]
  },
  {
   "cell_type": "code",
   "execution_count": 1,
   "metadata": {},
   "outputs": [],
   "source": [
    "def overlap(a, b):\n",
    "    count = 0\n",
    "    for item in a:\n",
    "        if item in b:\n",
    "            count += 1\n",
    "    return count"
   ]
  },
  {
   "cell_type": "markdown",
   "metadata": {},
   "source": [
    "`a` and `b` are 2 different lists. Let's say we want to count the number of elements within `a` and `b` that overlap. \n",
    "\n",
    "1. Go through every item in `a`. \n",
    "    * This is the outer process\n",
    "    * The number of steps is the length of `a`\n",
    "2. See whether each item in `a` is also in `b`\n",
    "    * Even though `if item in b` seems like a single statement, it's implemented by searching over every element in `b` for every for loop\n",
    "    * This is the inner process\n",
    "    * The number of steps is the length of `b`\n",
    "    \n",
    "<img src = 'overlap.jpg' width = 500/>\n",
    "    \n",
    "If `a` and `b` are both length `n`, then the overlap takes $\\Theta(n^2)$ steps."
   ]
  },
  {
   "cell_type": "markdown",
   "metadata": {},
   "source": [
    "## Comparing Orders of Growth (`n` is the problem size)"
   ]
  },
  {
   "cell_type": "markdown",
   "metadata": {},
   "source": [
    "What are all the orders of growth that we need to know?\n",
    "\n",
    "\n",
    "\n",
    "| Symbol | Definition | Example | More Details |\n",
    "| --- | --- | --- | --- |\n",
    "| $\\Theta(b^n)$ | Exponential growth | Recursive `fib` takes $\\Theta(\\phi^n)$ steps, <br> where $ \\phi = \\frac{1 + \\sqrt{5}}{2} \\approx 1.61828 $ | Incrementing the problem scales $R(n)$ by a factor |\n",
    "| $\\Theta(n^2)$ | Quadratic growth | `overlap` | Incrementing `n` (e.g. length of list) increases $R(n)$ by the problem size `n` |\n",
    "| $\\Theta(n)$ | Linear growth | `factors` and `exp`, slow version | - |\n",
    "| $\\Theta(\\sqrt{n})$ | Square root growth | `factors_fast` | - |\n",
    "| $\\Theta(\\text{log n})$ | Logarithmic growth | `exp_fast` | Doubling the problem only increments $R(n)$ |\n",
    "| $\\Theta(1)$ | Constant | - | The problem size doesn't matter |\n",
    "\n",
    "Think of $R(n)$ as the amount of work needed to do."
   ]
  },
  {
   "cell_type": "markdown",
   "metadata": {},
   "source": [
    "To recognize an exponential growth, when we add 1 to the problem size (e.g. `fib(21)`, previously `fib(20)`), the work required scales by a whole multiplicative factor."
   ]
  },
  {
   "cell_type": "markdown",
   "metadata": {},
   "source": [
    "Note that these aren't all of the $\\Theta$ out there. These categories are in a continuum, and there are always a $\\Theta$ that's in between 2 of the categories above. "
   ]
  }
 ],
 "metadata": {
  "kernelspec": {
   "display_name": "Python 3",
   "language": "python",
   "name": "python3"
  },
  "language_info": {
   "codemirror_mode": {
    "name": "ipython",
    "version": 3
   },
   "file_extension": ".py",
   "mimetype": "text/x-python",
   "name": "python",
   "nbconvert_exporter": "python",
   "pygments_lexer": "ipython3",
   "version": "3.6.8"
  }
 },
 "nbformat": 4,
 "nbformat_minor": 2
}
