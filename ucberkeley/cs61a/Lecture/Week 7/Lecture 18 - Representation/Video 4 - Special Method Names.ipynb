{
 "cells": [
  {
   "cell_type": "code",
   "execution_count": 1,
   "metadata": {},
   "outputs": [],
   "source": [
    "%load_ext tutormagic"
   ]
  },
  {
   "cell_type": "markdown",
   "metadata": {},
   "source": [
    "# Special Method Names"
   ]
  },
  {
   "cell_type": "markdown",
   "metadata": {},
   "source": [
    "## Special Method Names in Python"
   ]
  },
  {
   "cell_type": "markdown",
   "metadata": {},
   "source": [
    "Certain names in Python are special because they have built-in behavior. These names always start and end with 2 underscores `__`. \n",
    "\n",
    "| Name | Method invoked... |\n",
    "| --- | --- |\n",
    "| `__init__` | ...automatically when an object is constructed |\n",
    "| `__repr__` | ...to display an object as a Python expression |\n",
    "| `__add__` | ...to add one object to another |\n",
    "| `__bool__` | ...to convert an object to `True` or `False`|\n",
    "| `__float__` | ...to convert an object to a float (real number) |"
   ]
  },
  {
   "cell_type": "code",
   "execution_count": 2,
   "metadata": {},
   "outputs": [
    {
     "data": {
      "text/plain": [
       "3"
      ]
     },
     "execution_count": 2,
     "metadata": {},
     "output_type": "execute_result"
    }
   ],
   "source": [
    "zero, one, two = 0, 1, 2\n",
    "one + two"
   ]
  },
  {
   "cell_type": "code",
   "execution_count": 3,
   "metadata": {},
   "outputs": [
    {
     "data": {
      "text/plain": [
       "(False, True)"
      ]
     },
     "execution_count": 3,
     "metadata": {},
     "output_type": "execute_result"
    }
   ],
   "source": [
    "bool(zero), bool(one)"
   ]
  },
  {
   "cell_type": "markdown",
   "metadata": {},
   "source": [
    "It's possible to rewrite the entire sequence in a different way."
   ]
  },
  {
   "cell_type": "markdown",
   "metadata": {},
   "source": [
    "<img src = 'same.jpg' width = 800/>"
   ]
  },
  {
   "cell_type": "markdown",
   "metadata": {},
   "source": [
    "Above is just another example of using interface to allow user-defined objects to interact with built-in systems in Python."
   ]
  },
  {
   "cell_type": "markdown",
   "metadata": {},
   "source": [
    "#### What happens when we have 2 instances of user-defined classes added together?"
   ]
  },
  {
   "cell_type": "markdown",
   "metadata": {},
   "source": [
    "Adding instances of user-defined classes invokes either the `__add__` or `__radd__` method. \n",
    "\n",
    "Thus, the 2 expressions below are equivalent,"
   ]
  },
  {
   "cell_type": "code",
   "execution_count": null,
   "metadata": {},
   "outputs": [],
   "source": [
    ">>> Ratio(1, 3) + Ratio(1, 6)\n",
    "Ratio(1, 2)"
   ]
  },
  {
   "cell_type": "code",
   "execution_count": null,
   "metadata": {},
   "outputs": [],
   "source": [
    ">>> Ratio(1, 3).__add__(Ratio(1, 6))\n",
    "Ratio(1, 2)"
   ]
  },
  {
   "cell_type": "markdown",
   "metadata": {},
   "source": [
    "Obviously, the first expression is the more commonly used. The purpose of writing the second one is to study and use the method definition syntax to override the `+` symbol. \n",
    "\n",
    "We can also use `__radd__`. The difference is that the arguments are switched. However, this is trivial since addition is cumulative anyway."
   ]
  },
  {
   "cell_type": "code",
   "execution_count": null,
   "metadata": {},
   "outputs": [],
   "source": [
    ">>> Ratio(1, 6).__radd__(Ratio(1, 3))\n",
    "Ratio(1, 2)"
   ]
  },
  {
   "cell_type": "markdown",
   "metadata": {},
   "source": [
    "## Demo - Add 2 instances of user-defined classes"
   ]
  },
  {
   "cell_type": "markdown",
   "metadata": {},
   "source": [
    "Recall our `Ratio` class."
   ]
  },
  {
   "cell_type": "code",
   "execution_count": 1,
   "metadata": {},
   "outputs": [],
   "source": [
    "class Ratio:\n",
    "    def __init__(self, n, d):\n",
    "        self.numer = n # numerator instance attribute\n",
    "        self.denom = d # denominator instance attribute\n",
    "        \n",
    "    def __repr__(self):\n",
    "        return 'Ratio({0}, {1})'.format(self.numer, self.denom)\n",
    "    \n",
    "    def __str__(self):\n",
    "        return '{0}/{1}'.format(self.numer, self.denom)"
   ]
  },
  {
   "cell_type": "markdown",
   "metadata": {},
   "source": [
    "We will add the `_add__` method, which computes the numerator and the denominator of the result. Recall that,\n",
    "\n",
    "$$\\frac{x1}{y1} + \\frac{x2}{y2} = \\frac{x1 \\times y2  + x2 \\times y1}{y1 \\times y2}$$\n",
    "\n",
    "And we can reduce the fraction by dividing both the numerator and denominator with the greatest common divisor."
   ]
  },
  {
   "cell_type": "code",
   "execution_count": 4,
   "metadata": {},
   "outputs": [],
   "source": [
    "def gcd(n, d):\n",
    "    while n != d:\n",
    "        n, d = min(n, d), abs(n - d)\n",
    "    return n"
   ]
  },
  {
   "cell_type": "code",
   "execution_count": 10,
   "metadata": {},
   "outputs": [],
   "source": [
    "class Ratio:\n",
    "    def __init__(self, n, d):\n",
    "        self.numer = n # numerator instance attribute\n",
    "        self.denom = d # denominator instance attribute\n",
    "        \n",
    "    def __repr__(self):\n",
    "        return 'Ratio({0}, {1})'.format(self.numer, self.denom)\n",
    "    \n",
    "    def __str__(self):\n",
    "        return '{0}/{1}'.format(self.numer, self.denom)\n",
    "    \n",
    "    def __add__(self, other):\n",
    "        n = self.numer * other.denom + self.denom * other.numer\n",
    "        d = self.denom * other.denom\n",
    "        g = gcd(n, d)\n",
    "        return Ratio(n//g, d//g)"
   ]
  },
  {
   "cell_type": "code",
   "execution_count": 11,
   "metadata": {},
   "outputs": [
    {
     "data": {
      "text/plain": [
       "Ratio(1, 2)"
      ]
     },
     "execution_count": 11,
     "metadata": {},
     "output_type": "execute_result"
    }
   ],
   "source": [
    "Ratio(1, 3) + Ratio(1, 6)"
   ]
  },
  {
   "cell_type": "markdown",
   "metadata": {},
   "source": [
    "The addition works! However, what if we add a ratio with an integer?"
   ]
  },
  {
   "cell_type": "code",
   "execution_count": 7,
   "metadata": {},
   "outputs": [
    {
     "ename": "AttributeError",
     "evalue": "'int' object has no attribute 'denom'",
     "output_type": "error",
     "traceback": [
      "\u001b[1;31m---------------------------------------------------------------------------\u001b[0m",
      "\u001b[1;31mAttributeError\u001b[0m                            Traceback (most recent call last)",
      "\u001b[1;32m<ipython-input-7-14eda69c28f9>\u001b[0m in \u001b[0;36m<module>\u001b[1;34m\u001b[0m\n\u001b[1;32m----> 1\u001b[1;33m \u001b[0mRatio\u001b[0m\u001b[1;33m(\u001b[0m\u001b[1;36m1\u001b[0m\u001b[1;33m,\u001b[0m \u001b[1;36m3\u001b[0m\u001b[1;33m)\u001b[0m \u001b[1;33m+\u001b[0m \u001b[1;36m1\u001b[0m\u001b[1;33m\u001b[0m\u001b[1;33m\u001b[0m\u001b[0m\n\u001b[0m",
      "\u001b[1;32m<ipython-input-5-dd83c1744ce1>\u001b[0m in \u001b[0;36m__add__\u001b[1;34m(self, other)\u001b[0m\n\u001b[0;32m     11\u001b[0m \u001b[1;33m\u001b[0m\u001b[0m\n\u001b[0;32m     12\u001b[0m     \u001b[1;32mdef\u001b[0m \u001b[0m__add__\u001b[0m\u001b[1;33m(\u001b[0m\u001b[0mself\u001b[0m\u001b[1;33m,\u001b[0m \u001b[0mother\u001b[0m\u001b[1;33m)\u001b[0m\u001b[1;33m:\u001b[0m\u001b[1;33m\u001b[0m\u001b[1;33m\u001b[0m\u001b[0m\n\u001b[1;32m---> 13\u001b[1;33m         \u001b[0mn\u001b[0m \u001b[1;33m=\u001b[0m \u001b[0mself\u001b[0m\u001b[1;33m.\u001b[0m\u001b[0mnumer\u001b[0m \u001b[1;33m*\u001b[0m \u001b[0mother\u001b[0m\u001b[1;33m.\u001b[0m\u001b[0mdenom\u001b[0m \u001b[1;33m+\u001b[0m \u001b[0mself\u001b[0m\u001b[1;33m.\u001b[0m\u001b[0mdenom\u001b[0m \u001b[1;33m*\u001b[0m \u001b[0mother\u001b[0m\u001b[1;33m.\u001b[0m\u001b[0mnumer\u001b[0m\u001b[1;33m\u001b[0m\u001b[1;33m\u001b[0m\u001b[0m\n\u001b[0m\u001b[0;32m     14\u001b[0m         \u001b[0md\u001b[0m \u001b[1;33m=\u001b[0m \u001b[0mself\u001b[0m\u001b[1;33m.\u001b[0m\u001b[0mdenom\u001b[0m \u001b[1;33m*\u001b[0m \u001b[0mother\u001b[0m\u001b[1;33m.\u001b[0m\u001b[0mdenom\u001b[0m\u001b[1;33m\u001b[0m\u001b[1;33m\u001b[0m\u001b[0m\n\u001b[0;32m     15\u001b[0m         \u001b[0mg\u001b[0m \u001b[1;33m=\u001b[0m \u001b[0mgcd\u001b[0m\u001b[1;33m(\u001b[0m\u001b[0mn\u001b[0m\u001b[1;33m,\u001b[0m \u001b[0md\u001b[0m\u001b[1;33m)\u001b[0m\u001b[1;33m\u001b[0m\u001b[1;33m\u001b[0m\u001b[0m\n",
      "\u001b[1;31mAttributeError\u001b[0m: 'int' object has no attribute 'denom'"
     ]
    }
   ],
   "source": [
    "Ratio(1, 3) + 1"
   ]
  },
  {
   "cell_type": "markdown",
   "metadata": {},
   "source": [
    "Then we'll obtain an error saying that an `int` object does not have the attribute `denom`. \n",
    "\n",
    "Now recall that if we add a fraction with an integer, for example,\n",
    "\n",
    "$$ \\frac{1}{3} + 2 = \\frac{1}{3} + \\frac{2 \\times 3}{3} $$\n",
    "\n",
    "Or in other words,"
   ]
  },
  {
   "cell_type": "markdown",
   "metadata": {},
   "source": [
    "$$ \\frac{n}{d} + x = \\frac{n}{d} + \\frac{x \\times d}{d} $$"
   ]
  },
  {
   "cell_type": "markdown",
   "metadata": {},
   "source": [
    "We can modify the `__add__` method so that if the `other` argument is an integer, it would be converted to a fraction."
   ]
  },
  {
   "cell_type": "code",
   "execution_count": 21,
   "metadata": {},
   "outputs": [],
   "source": [
    "class Ratio:\n",
    "    def __init__(self, n, d):\n",
    "        self.numer = n # numerator instance attribute\n",
    "        self.denom = d # denominator instance attribute\n",
    "        \n",
    "    def __repr__(self):\n",
    "        return 'Ratio({0}, {1})'.format(self.numer, self.denom)\n",
    "    \n",
    "    def __str__(self):\n",
    "        return '{0}/{1}'.format(self.numer, self.denom)\n",
    "    \n",
    "    def __add__(self, other):\n",
    "        if isinstance(other, int): # if 'other' is an int\n",
    "            n = self.numer + other * self.denom\n",
    "            d = self.denom\n",
    "        else: # if 'other' is a fcraction\n",
    "            n = self.numer * other.denom + self.denom * other.numer\n",
    "            d= self.denom * other.denom\n",
    "            \n",
    "        g = gcd(n,d)\n",
    "        return Ratio(n//g, d//g)"
   ]
  },
  {
   "cell_type": "code",
   "execution_count": 22,
   "metadata": {},
   "outputs": [
    {
     "data": {
      "text/plain": [
       "Ratio(4, 3)"
      ]
     },
     "execution_count": 22,
     "metadata": {},
     "output_type": "execute_result"
    }
   ],
   "source": [
    "Ratio(1, 3) + 1"
   ]
  },
  {
   "cell_type": "markdown",
   "metadata": {},
   "source": [
    "Addition with integer works! However, will it work if we start with an integer?"
   ]
  },
  {
   "cell_type": "code",
   "execution_count": 23,
   "metadata": {},
   "outputs": [
    {
     "ename": "TypeError",
     "evalue": "unsupported operand type(s) for +: 'int' and 'Ratio'",
     "output_type": "error",
     "traceback": [
      "\u001b[1;31m---------------------------------------------------------------------------\u001b[0m",
      "\u001b[1;31mTypeError\u001b[0m                                 Traceback (most recent call last)",
      "\u001b[1;32m<ipython-input-23-b36cd0cdf0bb>\u001b[0m in \u001b[0;36m<module>\u001b[1;34m\u001b[0m\n\u001b[1;32m----> 1\u001b[1;33m \u001b[1;36m1\u001b[0m \u001b[1;33m+\u001b[0m \u001b[0mRatio\u001b[0m\u001b[1;33m(\u001b[0m\u001b[1;36m1\u001b[0m\u001b[1;33m,\u001b[0m \u001b[1;36m3\u001b[0m\u001b[1;33m)\u001b[0m\u001b[1;33m\u001b[0m\u001b[1;33m\u001b[0m\u001b[0m\n\u001b[0m",
      "\u001b[1;31mTypeError\u001b[0m: unsupported operand type(s) for +: 'int' and 'Ratio'"
     ]
    }
   ],
   "source": [
    "1 + Ratio(1, 3)"
   ]
  },
  {
   "cell_type": "markdown",
   "metadata": {},
   "source": [
    "It doesn't work!\n",
    "\n",
    "We can specify in the class that the right hand addition (`__rad__`) is the same as normal addition (`__add__`),"
   ]
  },
  {
   "cell_type": "code",
   "execution_count": 24,
   "metadata": {},
   "outputs": [],
   "source": [
    "class Ratio:\n",
    "    def __init__(self, n, d):\n",
    "        self.numer = n # numerator instance attribute\n",
    "        self.denom = d # denominator instance attribute\n",
    "        \n",
    "    def __repr__(self):\n",
    "        return 'Ratio({0}, {1})'.format(self.numer, self.denom)\n",
    "    \n",
    "    def __str__(self):\n",
    "        return '{0}/{1}'.format(self.numer, self.denom)\n",
    "    \n",
    "    def __add__(self, other):\n",
    "        if isinstance(other, int): # if 'other' is an int\n",
    "            n = self.numer + other * self.denom\n",
    "            d = self.denom\n",
    "        else: # if 'other' is a fcraction\n",
    "            n = self.numer * other.denom + self.denom * other.numer\n",
    "            d= self.denom * other.denom\n",
    "            \n",
    "        g = gcd(n,d)\n",
    "        return Ratio(n//g, d//g)\n",
    "    \n",
    "    __radd__ = __add__ # Specify that the right hand addition is the same as normal addition"
   ]
  },
  {
   "cell_type": "markdown",
   "metadata": {},
   "source": [
    "Now if we try to start with integer again,"
   ]
  },
  {
   "cell_type": "code",
   "execution_count": 25,
   "metadata": {},
   "outputs": [
    {
     "data": {
      "text/plain": [
       "Ratio(4, 3)"
      ]
     },
     "execution_count": 25,
     "metadata": {},
     "output_type": "execute_result"
    }
   ],
   "source": [
    "1 + Ratio(1, 3)"
   ]
  },
  {
   "cell_type": "markdown",
   "metadata": {},
   "source": [
    "Now what if we involve a float?"
   ]
  },
  {
   "cell_type": "code",
   "execution_count": 26,
   "metadata": {},
   "outputs": [
    {
     "ename": "AttributeError",
     "evalue": "'float' object has no attribute 'denom'",
     "output_type": "error",
     "traceback": [
      "\u001b[1;31m---------------------------------------------------------------------------\u001b[0m",
      "\u001b[1;31mAttributeError\u001b[0m                            Traceback (most recent call last)",
      "\u001b[1;32m<ipython-input-26-5e801e06df9b>\u001b[0m in \u001b[0;36m<module>\u001b[1;34m\u001b[0m\n\u001b[1;32m----> 1\u001b[1;33m \u001b[1;36m1.02\u001b[0m \u001b[1;33m+\u001b[0m \u001b[0mRatio\u001b[0m\u001b[1;33m(\u001b[0m\u001b[1;36m1\u001b[0m\u001b[1;33m,\u001b[0m \u001b[1;36m3\u001b[0m\u001b[1;33m)\u001b[0m\u001b[1;33m\u001b[0m\u001b[1;33m\u001b[0m\u001b[0m\n\u001b[0m",
      "\u001b[1;32m<ipython-input-24-c92d99c96e68>\u001b[0m in \u001b[0;36m__add__\u001b[1;34m(self, other)\u001b[0m\n\u001b[0;32m     15\u001b[0m             \u001b[0md\u001b[0m \u001b[1;33m=\u001b[0m \u001b[0mself\u001b[0m\u001b[1;33m.\u001b[0m\u001b[0mdenom\u001b[0m\u001b[1;33m\u001b[0m\u001b[1;33m\u001b[0m\u001b[0m\n\u001b[0;32m     16\u001b[0m         \u001b[1;32melse\u001b[0m\u001b[1;33m:\u001b[0m \u001b[1;31m# if 'other' is a fcraction\u001b[0m\u001b[1;33m\u001b[0m\u001b[1;33m\u001b[0m\u001b[0m\n\u001b[1;32m---> 17\u001b[1;33m             \u001b[0mn\u001b[0m \u001b[1;33m=\u001b[0m \u001b[0mself\u001b[0m\u001b[1;33m.\u001b[0m\u001b[0mnumer\u001b[0m \u001b[1;33m*\u001b[0m \u001b[0mother\u001b[0m\u001b[1;33m.\u001b[0m\u001b[0mdenom\u001b[0m \u001b[1;33m+\u001b[0m \u001b[0mself\u001b[0m\u001b[1;33m.\u001b[0m\u001b[0mdenom\u001b[0m \u001b[1;33m*\u001b[0m \u001b[0mother\u001b[0m\u001b[1;33m.\u001b[0m\u001b[0mnumer\u001b[0m\u001b[1;33m\u001b[0m\u001b[1;33m\u001b[0m\u001b[0m\n\u001b[0m\u001b[0;32m     18\u001b[0m             \u001b[0md\u001b[0m\u001b[1;33m=\u001b[0m \u001b[0mself\u001b[0m\u001b[1;33m.\u001b[0m\u001b[0mdenom\u001b[0m \u001b[1;33m*\u001b[0m \u001b[0mother\u001b[0m\u001b[1;33m.\u001b[0m\u001b[0mdenom\u001b[0m\u001b[1;33m\u001b[0m\u001b[1;33m\u001b[0m\u001b[0m\n\u001b[0;32m     19\u001b[0m \u001b[1;33m\u001b[0m\u001b[0m\n",
      "\u001b[1;31mAttributeError\u001b[0m: 'float' object has no attribute 'denom'"
     ]
    }
   ],
   "source": [
    "1.02 + Ratio(1, 3)"
   ]
  },
  {
   "cell_type": "markdown",
   "metadata": {},
   "source": [
    "In the case of float, we can have the final result of the calculation in float instead of `Ratio`. We would add the condition,"
   ]
  },
  {
   "cell_type": "code",
   "execution_count": null,
   "metadata": {},
   "outputs": [],
   "source": [
    "elif instance(other, float):\n",
    "    return float(self) + other"
   ]
  },
  {
   "cell_type": "markdown",
   "metadata": {},
   "source": [
    "Note that the condition above involves calling `float` on `self`, which means to convert `self` to a float. We would need to define this `float` method, which easily returns the numerator divided by the denominator."
   ]
  },
  {
   "cell_type": "code",
   "execution_count": null,
   "metadata": {},
   "outputs": [],
   "source": [
    "def __float__(self):\n",
    "    return self.numer / self.denom"
   ]
  },
  {
   "cell_type": "code",
   "execution_count": 29,
   "metadata": {},
   "outputs": [],
   "source": [
    "class Ratio:\n",
    "    def __init__(self, n, d):\n",
    "        self.numer = n # numerator instance attribute\n",
    "        self.denom = d # denominator instance attribute\n",
    "        \n",
    "    def __repr__(self):\n",
    "        return 'Ratio({0}, {1})'.format(self.numer, self.denom)\n",
    "    \n",
    "    def __str__(self):\n",
    "        return '{0}/{1}'.format(self.numer, self.denom)\n",
    "    \n",
    "    def __add__(self, other):\n",
    "        if isinstance(other, int): # if 'other' is an int\n",
    "            n = self.numer + other * self.denom\n",
    "            d = self.denom\n",
    "        elif isinstance(other, float): # if 'other' is a float\n",
    "            return float(self) + other\n",
    "        else: # if 'other' is a fcraction\n",
    "            n = self.numer * other.denom + self.denom * other.numer\n",
    "            d= self.denom * other.denom\n",
    "            \n",
    "        g = gcd(n,d)\n",
    "        return Ratio(n//g, d//g)\n",
    "    \n",
    "    def __float__(self):\n",
    "        return self.numer / self.denom\n",
    "    \n",
    "    __radd__ = __add__ # Specify that the right hand addition is the same as normal addition"
   ]
  },
  {
   "cell_type": "code",
   "execution_count": 28,
   "metadata": {},
   "outputs": [
    {
     "data": {
      "text/plain": [
       "0.5333333333333333"
      ]
     },
     "execution_count": 28,
     "metadata": {},
     "output_type": "execute_result"
    }
   ],
   "source": [
    "0.2 + Ratio(1, 3)"
   ]
  },
  {
   "cell_type": "markdown",
   "metadata": {},
   "source": [
    "Above, we applied 2 important ideas:\n",
    "\n",
    "#### 1. Type Dispatching"
   ]
  },
  {
   "cell_type": "code",
   "execution_count": null,
   "metadata": {},
   "outputs": [],
   "source": [
    "if isinstance(other, int): # if 'other' is an int\n",
    "    n = self.numer + other * self.denom\n",
    "    d = self.denom\n",
    "elif isinstance(other, float): # if 'other' is a float\n",
    "    return float(self) + other\n",
    "else: # if 'other' is a fcraction\n",
    "    n = self.numer * other.denom + self.denom * other.numer\n",
    "    d= self.denom * other.denom"
   ]
  },
  {
   "cell_type": "markdown",
   "metadata": {},
   "source": [
    "In type dispatching, we inspect the type of the argument to decide what to do. "
   ]
  },
  {
   "cell_type": "markdown",
   "metadata": {},
   "source": [
    "#### 2. Type Cohersion"
   ]
  },
  {
   "cell_type": "code",
   "execution_count": null,
   "metadata": {},
   "outputs": [],
   "source": [
    "return float(self) + other"
   ]
  },
  {
   "cell_type": "markdown",
   "metadata": {},
   "source": [
    "Here we take an object of certain type and convert it to another type."
   ]
  }
 ],
 "metadata": {
  "kernelspec": {
   "display_name": "Python 3",
   "language": "python",
   "name": "python3"
  },
  "language_info": {
   "codemirror_mode": {
    "name": "ipython",
    "version": 3
   },
   "file_extension": ".py",
   "mimetype": "text/x-python",
   "name": "python",
   "nbconvert_exporter": "python",
   "pygments_lexer": "ipython3",
   "version": "3.6.8"
  }
 },
 "nbformat": 4,
 "nbformat_minor": 2
}
