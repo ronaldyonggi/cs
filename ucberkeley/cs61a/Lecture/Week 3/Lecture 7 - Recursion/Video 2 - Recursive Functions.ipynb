{
 "cells": [
  {
   "cell_type": "code",
   "execution_count": 1,
   "metadata": {},
   "outputs": [],
   "source": [
    "%load_ext tutormagic"
   ]
  },
  {
   "cell_type": "markdown",
   "metadata": {},
   "source": [
    "# Recursive Functions\n",
    "Definition: A function in which the body of the function calls itself either directly or indirectly.\n",
    "\n",
    "What does this mean?\n",
    "\n",
    "Implication: Executing the body of a `recursive` function may require applying that function again\n",
    "\n",
    "Recursion doesn't appear only in computer science. It is also used in art, nature and mathematics.\n",
    "\n",
    "<img src = 'recursion.jpg' width = 500/>"
   ]
  },
  {
   "cell_type": "markdown",
   "metadata": {},
   "source": [
    "## Digit Sums\n",
    "As a starting example, let's analyze the sum of the digits of a number. \n",
    "\n",
    "In number `2013`, the digit sums is `2 + 0 + 1 + 3` = `6`.\n",
    "\n",
    "Why do we do this? Because of the interesting properties of digit sums:\n",
    "\n",
    "1. If a number `a` is divisible by `9`, then `digit_sum(a)` is also divisible by `9` \n",
    "2. Summing up digits is useful for typo detection\n",
    "\n",
    "Below we have a credit card. Credit card numbers are long, and when humans type credit card numbers, it is possible to have a typo! Thus, in credit cards exist such thing called `checksum digit`, a 16 digit that's computed from all other digits and is not part of the account number. If the `checksum digit` doesn't match the computation of all other digits, then the credit card number is typed wrong (it's an invalid credit card number).\n",
    "\n",
    "Credit cards use the **Luhn algorithm**, which we'll implement after `digit_sum`. "
   ]
  },
  {
   "cell_type": "markdown",
   "metadata": {},
   "source": [
    "## Sum Digits Without a While Statement\n",
    "We can easily write a code that sums digits with a `while` statement. However, without a `while` statement, it would require `recursion`. \n",
    "\n",
    "Here we define the `split` function that takes a positive integer `n` and splits it to 2 parts:\n",
    "1. All but its last digit\n",
    "2. Its last digit"
   ]
  },
  {
   "cell_type": "code",
   "execution_count": 2,
   "metadata": {},
   "outputs": [],
   "source": [
    "def split(n):\n",
    "    \"\"\" Split positive n into all but its last digit and its last digit\"\"\"\n",
    "    # n // 10 is all but n's last digit\n",
    "    # n % 10 is n's last digit \n",
    "    return n // 10, n % 10"
   ]
  },
  {
   "cell_type": "code",
   "execution_count": 3,
   "metadata": {},
   "outputs": [
    {
     "data": {
      "text/plain": [
       "201"
      ]
     },
     "execution_count": 3,
     "metadata": {},
     "output_type": "execute_result"
    }
   ],
   "source": [
    "all_but_last, last = split(2013)\n",
    "all_but_last"
   ]
  },
  {
   "cell_type": "code",
   "execution_count": 4,
   "metadata": {},
   "outputs": [
    {
     "data": {
      "text/plain": [
       "3"
      ]
     },
     "execution_count": 4,
     "metadata": {},
     "output_type": "execute_result"
    }
   ],
   "source": [
    "last"
   ]
  },
  {
   "cell_type": "markdown",
   "metadata": {},
   "source": [
    "To sum the digits of `n`, we write the function `sum_digits`.\n",
    "\n",
    "1. If `n` is less than `10` (if `n` is a single digit), then just return `n`\n",
    "2. Otherwise, `split` `n` to `all_but_last` and `last` \n",
    "    * Then return `sum_digits(all_but_last) + last`\n",
    "    \n",
    "For the case of `2013`, we'll have:\n",
    "1. `all_but_last` = `201`\n",
    "2. `last` = `3`\n",
    "\n",
    "In this cycle, `sum_digits` will return `sum_digits(201)` + `3`"
   ]
  },
  {
   "cell_type": "code",
   "execution_count": 5,
   "metadata": {},
   "outputs": [],
   "source": [
    "def sum_digits(n):\n",
    "    \"\"\" Return the sum of the digits of positive integer n\"\"\"\n",
    "    # if n is less than 10, then just return n\n",
    "    if n < 10:\n",
    "        return n\n",
    "    else:\n",
    "        # split n\n",
    "        all_but_last, last = split(n)\n",
    "        return sum_digits(all_but_last) + last"
   ]
  },
  {
   "cell_type": "markdown",
   "metadata": {},
   "source": [
    "Above is a `recursive` function because we called `sum_digits` within `sum_digits` (in the last line above, Python calls `sum_digits(all_but_last)`."
   ]
  },
  {
   "cell_type": "markdown",
   "metadata": {},
   "source": [
    "## The Anatomy of a Recursive Function\n",
    "The `def` statement header of a recursive function is similar to other functions. "
   ]
  },
  {
   "cell_type": "code",
   "execution_count": 6,
   "metadata": {},
   "outputs": [
    {
     "ename": "SyntaxError",
     "evalue": "unexpected EOF while parsing (<ipython-input-6-1007e5bb2168>, line 1)",
     "output_type": "error",
     "traceback": [
      "\u001b[1;36m  File \u001b[1;32m\"<ipython-input-6-1007e5bb2168>\"\u001b[1;36m, line \u001b[1;32m1\u001b[0m\n\u001b[1;33m    def sum_digits(n):\u001b[0m\n\u001b[1;37m                      ^\u001b[0m\n\u001b[1;31mSyntaxError\u001b[0m\u001b[1;31m:\u001b[0m unexpected EOF while parsing\n"
     ]
    }
   ],
   "source": [
    "def sum_digits(n):"
   ]
  },
  {
   "cell_type": "markdown",
   "metadata": {},
   "source": [
    "Typically, a recursive function starts with a **conditional statement that checks for `base cases`**.\n",
    "* `base cases` are the simple version of the problem we are trying to solve. \n",
    "\n",
    "In the case of `sum_digits`, the `base case` is the case where `n` has only 1 digit left."
   ]
  },
  {
   "cell_type": "code",
   "execution_count": null,
   "metadata": {},
   "outputs": [],
   "source": [
    "if n < 10:\n",
    "    return n"
   ]
  },
  {
   "cell_type": "markdown",
   "metadata": {},
   "source": [
    "Base cases are evaluated **without recursive calls**. In the case above, it is done by just returning `n`. \n",
    "\n",
    "For non-base cases (e.g. `n` still have multiple digits), we have `recursive cases` that are evaluated **with recursive calls**. In the case of `sum_digits`, the recursive call is as the following,"
   ]
  },
  {
   "cell_type": "code",
   "execution_count": null,
   "metadata": {},
   "outputs": [],
   "source": [
    "all_but_last, last = split(n)\n",
    "return sum_digits(all_but_last) + last"
   ]
  },
  {
   "cell_type": "markdown",
   "metadata": {},
   "source": [
    "Notice above that we don't try to call `sum_digits` on `n`. Instead, we call `sum_digits` on a simpler problem than we have before. If previously we have `n = 2013`, now we have `all_but_last = 201`, which is simpler since `all_but_last` has fewer digits to sum, getting us closer to the base case. \n",
    "\n",
    "Let's try to use `sum_digits`!"
   ]
  },
  {
   "cell_type": "code",
   "execution_count": null,
   "metadata": {},
   "outputs": [],
   "source": [
    "sum_digits(2013)"
   ]
  }
 ],
 "metadata": {
  "kernelspec": {
   "display_name": "Python 3",
   "language": "python",
   "name": "python3"
  },
  "language_info": {
   "codemirror_mode": {
    "name": "ipython",
    "version": 3
   },
   "file_extension": ".py",
   "mimetype": "text/x-python",
   "name": "python",
   "nbconvert_exporter": "python",
   "pygments_lexer": "ipython3",
   "version": "3.6.8"
  }
 },
 "nbformat": 4,
 "nbformat_minor": 2
}
