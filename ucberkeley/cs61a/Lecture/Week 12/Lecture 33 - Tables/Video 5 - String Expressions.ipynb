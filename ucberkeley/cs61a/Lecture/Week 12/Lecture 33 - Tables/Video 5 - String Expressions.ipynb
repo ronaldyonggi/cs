{
 "cells": [
  {
   "cell_type": "code",
   "execution_count": 1,
   "metadata": {},
   "outputs": [
    {
     "data": {
      "text/plain": [
       "'Connected: @None'"
      ]
     },
     "execution_count": 1,
     "metadata": {},
     "output_type": "execute_result"
    }
   ],
   "source": [
    "%load_ext sql\n",
    "%sql sqlite://"
   ]
  },
  {
   "cell_type": "markdown",
   "metadata": {},
   "source": [
    "# String Expressions"
   ]
  },
  {
   "cell_type": "markdown",
   "metadata": {},
   "source": [
    "String values can be combined to form longer strings using the concatenation `||` operator. "
   ]
  },
  {
   "cell_type": "code",
   "execution_count": 3,
   "metadata": {},
   "outputs": [
    {
     "name": "stdout",
     "output_type": "stream",
     "text": [
      " * sqlite://\n",
      "Done.\n"
     ]
    },
    {
     "data": {
      "text/html": [
       "<table>\n",
       "    <tr>\n",
       "        <th>&quot;hello,&quot; || &quot;world&quot;</th>\n",
       "    </tr>\n",
       "    <tr>\n",
       "        <td>hello,world</td>\n",
       "    </tr>\n",
       "</table>"
      ],
      "text/plain": [
       "[('hello,world',)]"
      ]
     },
     "execution_count": 3,
     "metadata": {},
     "output_type": "execute_result"
    }
   ],
   "source": [
    "%%sql\n",
    "select \"hello,\" || \"world\";"
   ]
  },
  {
   "cell_type": "markdown",
   "metadata": {},
   "source": [
    "Basic string manipulation is built into SQL, but differs from Python.\n",
    "\n",
    "Let's say we have a table called `phrase` that has contains a column `s` with a value `\"hello, world\"`."
   ]
  },
  {
   "cell_type": "code",
   "execution_count": 5,
   "metadata": {},
   "outputs": [
    {
     "name": "stdout",
     "output_type": "stream",
     "text": [
      " * sqlite://\n",
      "Done.\n"
     ]
    },
    {
     "data": {
      "text/plain": [
       "[]"
      ]
     },
     "execution_count": 5,
     "metadata": {},
     "output_type": "execute_result"
    }
   ],
   "source": [
    "%%sql\n",
    "create table phrase as select \"hello, world\" as s;"
   ]
  },
  {
   "cell_type": "code",
   "execution_count": 6,
   "metadata": {},
   "outputs": [
    {
     "name": "stdout",
     "output_type": "stream",
     "text": [
      " * sqlite://\n",
      "Done.\n"
     ]
    },
    {
     "data": {
      "text/html": [
       "<table>\n",
       "    <tr>\n",
       "        <th>s</th>\n",
       "    </tr>\n",
       "    <tr>\n",
       "        <td>hello, world</td>\n",
       "    </tr>\n",
       "</table>"
      ],
      "text/plain": [
       "[('hello, world',)]"
      ]
     },
     "execution_count": 6,
     "metadata": {},
     "output_type": "execute_result"
    }
   ],
   "source": [
    "%%sql\n",
    "select * from phrase"
   ]
  },
  {
   "cell_type": "markdown",
   "metadata": {},
   "source": [
    "An example of a string manipulation in SQL is as the following,"
   ]
  },
  {
   "cell_type": "code",
   "execution_count": 7,
   "metadata": {},
   "outputs": [
    {
     "name": "stdout",
     "output_type": "stream",
     "text": [
      " * sqlite://\n",
      "Done.\n"
     ]
    },
    {
     "data": {
      "text/html": [
       "<table>\n",
       "    <tr>\n",
       "        <th>substr(s, 4, 2) || substr(s, instr(s, &quot; &quot;)+1, 1)</th>\n",
       "    </tr>\n",
       "    <tr>\n",
       "        <td>low</td>\n",
       "    </tr>\n",
       "</table>"
      ],
      "text/plain": [
       "[('low',)]"
      ]
     },
     "execution_count": 7,
     "metadata": {},
     "output_type": "execute_result"
    }
   ],
   "source": [
    "%%sql\n",
    "select substr(s, 4, 2) || substr(s, instr(s, \" \")+1, 1) from phrase;"
   ]
  },
  {
   "cell_type": "markdown",
   "metadata": {},
   "source": [
    "From the string manipulation statement above, we obtain the string `\"low\"`! How does this work?\n",
    "\n",
    "`substr(s, 4, 2)` means to take the substring of `s` starting from position 4 with a length 2. This is how SQL obtained the letter `lo`.\n",
    "\n",
    "`||` is a concatenation\n",
    "\n",
    "`substr(s, instr(s, \" \") + 1, 1)` means to take the substring of `s` that starts at 1 element after the empty space `\" \"`, with a length of 1. This is how SQL obtained the letter `w`.\n",
    "\n",
    "Strings can be used to represent structured values, but doing so is rarely a good idea. For example, if we try to treat each row as a linked list, "
   ]
  },
  {
   "cell_type": "code",
   "execution_count": 2,
   "metadata": {},
   "outputs": [
    {
     "name": "stdout",
     "output_type": "stream",
     "text": [
      " * sqlite://\n",
      "Done.\n"
     ]
    },
    {
     "data": {
      "text/plain": [
       "[]"
      ]
     },
     "execution_count": 2,
     "metadata": {},
     "output_type": "execute_result"
    }
   ],
   "source": [
    "%%sql\n",
    "create table lists as select \"one\" as car, \"two, three, four\" as cdr;"
   ]
  },
  {
   "cell_type": "markdown",
   "metadata": {},
   "source": [
    "Above, the `\"two, three, four\"` uses a comma `,` as a delimiting character to separate one element with another (e.g. `two` with `three`). This is the meaning of using string to represent a structure. \n",
    "\n",
    "One possible way of obtaining data from this structure is as the following,"
   ]
  },
  {
   "cell_type": "code",
   "execution_count": 4,
   "metadata": {},
   "outputs": [
    {
     "name": "stdout",
     "output_type": "stream",
     "text": [
      " * sqlite://\n",
      "Done.\n"
     ]
    },
    {
     "data": {
      "text/html": [
       "<table>\n",
       "    <tr>\n",
       "        <th>cadr</th>\n",
       "    </tr>\n",
       "    <tr>\n",
       "        <td>two</td>\n",
       "    </tr>\n",
       "</table>"
      ],
      "text/plain": [
       "[('two',)]"
      ]
     },
     "execution_count": 4,
     "metadata": {},
     "output_type": "execute_result"
    }
   ],
   "source": [
    "%%sql\n",
    "select substr(cdr, 1, instr(cdr, \",\") - 1) as cadr from lists;"
   ]
  },
  {
   "cell_type": "markdown",
   "metadata": {},
   "source": [
    "It is certainly possible, but highly confusing. This is definitely not a good idea."
   ]
  },
  {
   "cell_type": "markdown",
   "metadata": {},
   "source": [
    "## Demo"
   ]
  },
  {
   "cell_type": "markdown",
   "metadata": {},
   "source": [
    "Let's try combining strings together. We can start with creating the table `nouns`."
   ]
  },
  {
   "cell_type": "code",
   "execution_count": 2,
   "metadata": {},
   "outputs": [
    {
     "name": "stdout",
     "output_type": "stream",
     "text": [
      " * sqlite://\n",
      "Done.\n"
     ]
    },
    {
     "data": {
      "text/plain": [
       "[]"
      ]
     },
     "execution_count": 2,
     "metadata": {},
     "output_type": "execute_result"
    }
   ],
   "source": [
    "%%sql\n",
    "create table nouns as\n",
    "    select \"dog\" as phrase union\n",
    "    select \"cat\" union\n",
    "    select \"bird\";"
   ]
  },
  {
   "cell_type": "markdown",
   "metadata": {},
   "source": [
    "Now let's try getting whole sentences by joining the `nouns` table by itself. "
   ]
  },
  {
   "cell_type": "code",
   "execution_count": 3,
   "metadata": {},
   "outputs": [
    {
     "name": "stdout",
     "output_type": "stream",
     "text": [
      " * sqlite://\n",
      "Done.\n"
     ]
    },
    {
     "data": {
      "text/html": [
       "<table>\n",
       "    <tr>\n",
       "        <th>subject.phrase || &quot; chased &quot; || object.phrase</th>\n",
       "    </tr>\n",
       "    <tr>\n",
       "        <td>bird chased cat</td>\n",
       "    </tr>\n",
       "    <tr>\n",
       "        <td>bird chased dog</td>\n",
       "    </tr>\n",
       "    <tr>\n",
       "        <td>cat chased bird</td>\n",
       "    </tr>\n",
       "    <tr>\n",
       "        <td>cat chased dog</td>\n",
       "    </tr>\n",
       "    <tr>\n",
       "        <td>dog chased bird</td>\n",
       "    </tr>\n",
       "    <tr>\n",
       "        <td>dog chased cat</td>\n",
       "    </tr>\n",
       "</table>"
      ],
      "text/plain": [
       "[('bird chased cat',),\n",
       " ('bird chased dog',),\n",
       " ('cat chased bird',),\n",
       " ('cat chased dog',),\n",
       " ('dog chased bird',),\n",
       " ('dog chased cat',)]"
      ]
     },
     "execution_count": 3,
     "metadata": {},
     "output_type": "execute_result"
    }
   ],
   "source": [
    "%%sql\n",
    "select subject.phrase || \" chased \" || object.phrase\n",
    "    from nouns as subject, nouns as object\n",
    "    where subject.phrase <> object.phrase;"
   ]
  },
  {
   "cell_type": "markdown",
   "metadata": {},
   "source": [
    "Above, we see that we can concatenate using the `||`.\n",
    "\n",
    "Now let's try something more interesting! Let's create a table `ands`."
   ]
  },
  {
   "cell_type": "code",
   "execution_count": 4,
   "metadata": {},
   "outputs": [
    {
     "name": "stdout",
     "output_type": "stream",
     "text": [
      " * sqlite://\n",
      "Done.\n"
     ]
    },
    {
     "data": {
      "text/plain": [
       "[]"
      ]
     },
     "execution_count": 4,
     "metadata": {},
     "output_type": "execute_result"
    }
   ],
   "source": [
    "%%sql\n",
    "create table ands as\n",
    "    select first.phrase || \" and \" || second.phrase\n",
    "    from nouns as first, nouns as second\n",
    "    where first.phrase <> second.phrase;"
   ]
  },
  {
   "cell_type": "code",
   "execution_count": 6,
   "metadata": {},
   "outputs": [
    {
     "name": "stdout",
     "output_type": "stream",
     "text": [
      " * sqlite://\n",
      "Done.\n"
     ]
    },
    {
     "data": {
      "text/html": [
       "<table>\n",
       "    <tr>\n",
       "        <th>first.phrase || &quot; and &quot; || second.phrase</th>\n",
       "    </tr>\n",
       "    <tr>\n",
       "        <td>bird and cat</td>\n",
       "    </tr>\n",
       "    <tr>\n",
       "        <td>bird and dog</td>\n",
       "    </tr>\n",
       "    <tr>\n",
       "        <td>cat and bird</td>\n",
       "    </tr>\n",
       "    <tr>\n",
       "        <td>cat and dog</td>\n",
       "    </tr>\n",
       "    <tr>\n",
       "        <td>dog and bird</td>\n",
       "    </tr>\n",
       "    <tr>\n",
       "        <td>dog and cat</td>\n",
       "    </tr>\n",
       "</table>"
      ],
      "text/plain": [
       "[('bird and cat',),\n",
       " ('bird and dog',),\n",
       " ('cat and bird',),\n",
       " ('cat and dog',),\n",
       " ('dog and bird',),\n",
       " ('dog and cat',)]"
      ]
     },
     "execution_count": 6,
     "metadata": {},
     "output_type": "execute_result"
    }
   ],
   "source": [
    "%%sql\n",
    "select * from ands;"
   ]
  },
  {
   "cell_type": "markdown",
   "metadata": {},
   "source": [
    "We want to use the table above; however, the name of the column looks messy! Let's recreate the new table and rename the column as `\"phrase\"`."
   ]
  },
  {
   "cell_type": "code",
   "execution_count": 13,
   "metadata": {},
   "outputs": [
    {
     "name": "stdout",
     "output_type": "stream",
     "text": [
      " * sqlite://\n",
      "Done.\n",
      "Done.\n"
     ]
    },
    {
     "data": {
      "text/plain": [
       "[]"
      ]
     },
     "execution_count": 13,
     "metadata": {},
     "output_type": "execute_result"
    }
   ],
   "source": [
    "%%sql\n",
    "\n",
    "drop table ands;\n",
    "\n",
    "create table ands as\n",
    "    select first.phrase || \" and \" || second.phrase as \"phrase\"\n",
    "    from nouns as first, nouns as second\n",
    "    where first.phrase <> second.phrase;\n"
   ]
  },
  {
   "cell_type": "code",
   "execution_count": 14,
   "metadata": {},
   "outputs": [
    {
     "name": "stdout",
     "output_type": "stream",
     "text": [
      " * sqlite://\n",
      "Done.\n"
     ]
    },
    {
     "data": {
      "text/html": [
       "<table>\n",
       "    <tr>\n",
       "        <th>phrase</th>\n",
       "    </tr>\n",
       "    <tr>\n",
       "        <td>bird and cat</td>\n",
       "    </tr>\n",
       "    <tr>\n",
       "        <td>bird and dog</td>\n",
       "    </tr>\n",
       "    <tr>\n",
       "        <td>cat and bird</td>\n",
       "    </tr>\n",
       "    <tr>\n",
       "        <td>cat and dog</td>\n",
       "    </tr>\n",
       "    <tr>\n",
       "        <td>dog and bird</td>\n",
       "    </tr>\n",
       "    <tr>\n",
       "        <td>dog and cat</td>\n",
       "    </tr>\n",
       "</table>"
      ],
      "text/plain": [
       "[('bird and cat',),\n",
       " ('bird and dog',),\n",
       " ('cat and bird',),\n",
       " ('cat and dog',),\n",
       " ('dog and bird',),\n",
       " ('dog and cat',)]"
      ]
     },
     "execution_count": 14,
     "metadata": {},
     "output_type": "execute_result"
    }
   ],
   "source": [
    "%%sql\n",
    "select * from ands;"
   ]
  },
  {
   "cell_type": "code",
   "execution_count": 15,
   "metadata": {},
   "outputs": [
    {
     "name": "stdout",
     "output_type": "stream",
     "text": [
      " * sqlite://\n",
      "Done.\n"
     ]
    },
    {
     "data": {
      "text/html": [
       "<table>\n",
       "    <tr>\n",
       "        <th>subject.phrase || &quot; chased &quot; || object.phrase</th>\n",
       "    </tr>\n",
       "    <tr>\n",
       "        <td>bird and cat chased bird and dog</td>\n",
       "    </tr>\n",
       "    <tr>\n",
       "        <td>bird and cat chased cat and bird</td>\n",
       "    </tr>\n",
       "    <tr>\n",
       "        <td>bird and cat chased cat and dog</td>\n",
       "    </tr>\n",
       "    <tr>\n",
       "        <td>bird and cat chased dog and bird</td>\n",
       "    </tr>\n",
       "    <tr>\n",
       "        <td>bird and cat chased dog and cat</td>\n",
       "    </tr>\n",
       "    <tr>\n",
       "        <td>bird and dog chased bird and cat</td>\n",
       "    </tr>\n",
       "    <tr>\n",
       "        <td>bird and dog chased cat and bird</td>\n",
       "    </tr>\n",
       "    <tr>\n",
       "        <td>bird and dog chased cat and dog</td>\n",
       "    </tr>\n",
       "    <tr>\n",
       "        <td>bird and dog chased dog and bird</td>\n",
       "    </tr>\n",
       "    <tr>\n",
       "        <td>bird and dog chased dog and cat</td>\n",
       "    </tr>\n",
       "    <tr>\n",
       "        <td>cat and bird chased bird and cat</td>\n",
       "    </tr>\n",
       "    <tr>\n",
       "        <td>cat and bird chased bird and dog</td>\n",
       "    </tr>\n",
       "    <tr>\n",
       "        <td>cat and bird chased cat and dog</td>\n",
       "    </tr>\n",
       "    <tr>\n",
       "        <td>cat and bird chased dog and bird</td>\n",
       "    </tr>\n",
       "    <tr>\n",
       "        <td>cat and bird chased dog and cat</td>\n",
       "    </tr>\n",
       "    <tr>\n",
       "        <td>cat and dog chased bird and cat</td>\n",
       "    </tr>\n",
       "    <tr>\n",
       "        <td>cat and dog chased bird and dog</td>\n",
       "    </tr>\n",
       "    <tr>\n",
       "        <td>cat and dog chased cat and bird</td>\n",
       "    </tr>\n",
       "    <tr>\n",
       "        <td>cat and dog chased dog and bird</td>\n",
       "    </tr>\n",
       "    <tr>\n",
       "        <td>cat and dog chased dog and cat</td>\n",
       "    </tr>\n",
       "    <tr>\n",
       "        <td>dog and bird chased bird and cat</td>\n",
       "    </tr>\n",
       "    <tr>\n",
       "        <td>dog and bird chased bird and dog</td>\n",
       "    </tr>\n",
       "    <tr>\n",
       "        <td>dog and bird chased cat and bird</td>\n",
       "    </tr>\n",
       "    <tr>\n",
       "        <td>dog and bird chased cat and dog</td>\n",
       "    </tr>\n",
       "    <tr>\n",
       "        <td>dog and bird chased dog and cat</td>\n",
       "    </tr>\n",
       "    <tr>\n",
       "        <td>dog and cat chased bird and cat</td>\n",
       "    </tr>\n",
       "    <tr>\n",
       "        <td>dog and cat chased bird and dog</td>\n",
       "    </tr>\n",
       "    <tr>\n",
       "        <td>dog and cat chased cat and bird</td>\n",
       "    </tr>\n",
       "    <tr>\n",
       "        <td>dog and cat chased cat and dog</td>\n",
       "    </tr>\n",
       "    <tr>\n",
       "        <td>dog and cat chased dog and bird</td>\n",
       "    </tr>\n",
       "</table>"
      ],
      "text/plain": [
       "[('bird and cat chased bird and dog',),\n",
       " ('bird and cat chased cat and bird',),\n",
       " ('bird and cat chased cat and dog',),\n",
       " ('bird and cat chased dog and bird',),\n",
       " ('bird and cat chased dog and cat',),\n",
       " ('bird and dog chased bird and cat',),\n",
       " ('bird and dog chased cat and bird',),\n",
       " ('bird and dog chased cat and dog',),\n",
       " ('bird and dog chased dog and bird',),\n",
       " ('bird and dog chased dog and cat',),\n",
       " ('cat and bird chased bird and cat',),\n",
       " ('cat and bird chased bird and dog',),\n",
       " ('cat and bird chased cat and dog',),\n",
       " ('cat and bird chased dog and bird',),\n",
       " ('cat and bird chased dog and cat',),\n",
       " ('cat and dog chased bird and cat',),\n",
       " ('cat and dog chased bird and dog',),\n",
       " ('cat and dog chased cat and bird',),\n",
       " ('cat and dog chased dog and bird',),\n",
       " ('cat and dog chased dog and cat',),\n",
       " ('dog and bird chased bird and cat',),\n",
       " ('dog and bird chased bird and dog',),\n",
       " ('dog and bird chased cat and bird',),\n",
       " ('dog and bird chased cat and dog',),\n",
       " ('dog and bird chased dog and cat',),\n",
       " ('dog and cat chased bird and cat',),\n",
       " ('dog and cat chased bird and dog',),\n",
       " ('dog and cat chased cat and bird',),\n",
       " ('dog and cat chased cat and dog',),\n",
       " ('dog and cat chased dog and bird',)]"
      ]
     },
     "execution_count": 15,
     "metadata": {},
     "output_type": "execute_result"
    }
   ],
   "source": [
    "%%sql\n",
    "select subject.phrase || \" chased \" || object.phrase\n",
    "    from ands as subject, ands as object\n",
    "    where subject.phrase <> object.phrase;"
   ]
  },
  {
   "cell_type": "code",
   "execution_count": null,
   "metadata": {},
   "outputs": [],
   "source": []
  }
 ],
 "metadata": {
  "kernelspec": {
   "display_name": "Python 3",
   "language": "python",
   "name": "python3"
  },
  "language_info": {
   "codemirror_mode": {
    "name": "ipython",
    "version": 3
   },
   "file_extension": ".py",
   "mimetype": "text/x-python",
   "name": "python",
   "nbconvert_exporter": "python",
   "pygments_lexer": "ipython3",
   "version": "3.7.3"
  }
 },
 "nbformat": 4,
 "nbformat_minor": 4
}
