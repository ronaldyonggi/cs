{
 "cells": [
  {
   "cell_type": "markdown",
   "metadata": {},
   "source": [
    "# Trees"
   ]
  },
  {
   "cell_type": "markdown",
   "metadata": {},
   "source": [
    "## Morse Code"
   ]
  },
  {
   "cell_type": "markdown",
   "metadata": {},
   "source": [
    "Morse code is a signaling protocol that transmits messages by sequences of signals (e.g. dashes and dots). "
   ]
  },
  {
   "cell_type": "markdown",
   "metadata": {},
   "source": [
    "<img src = 'mors.jpg' width = 200/>"
   ]
  },
  {
   "cell_type": "markdown",
   "metadata": {},
   "source": [
    "There's correspondence between alphabet letters and some sequences of dots and dashes.\n",
    "\n",
    "The goal is to implement `morse` so that `decode` works correctly. \n",
    "\n",
    "This problem is a puzzle: it gives us an implementation of one function `decode` along with the data representation about how morse code is encoded. We have to figure out what sort of implementation would work with the `decode` function.\n",
    "\n",
    "Below is an encoding of the data, mapped in a dictionary:"
   ]
  },
  {
   "cell_type": "code",
   "execution_count": 1,
   "metadata": {},
   "outputs": [],
   "source": [
    "abcde = {'a': '.-', 'b': '-...', 'c': '-.-.', 'd': '-..', 'e': '.'}"
   ]
  },
  {
   "cell_type": "markdown",
   "metadata": {},
   "source": [
    "And below is the definition of `decode`,"
   ]
  },
  {
   "cell_type": "code",
   "execution_count": 2,
   "metadata": {},
   "outputs": [],
   "source": [
    "def decode(signals, tree):\n",
    "    \"\"\" Decode signals into a letter\n",
    "    \n",
    "    >>> t = morse(abcde)\n",
    "    >>> [decode(s, t) for s in ['-..', '.', '-.-.', '.-', '-..', '.']]\n",
    "    ['d', 'e', 'c', 'a', 'd', 'e']\n",
    "    \"\"\"\n",
    "    for signal in signals:\n",
    "        tree = [b for b in tree.branches if b.entry == signal][0]\n",
    "    leaves = [b for b in tree.branches if not b.branches]\n",
    "    assert len(leaves) == 1\n",
    "    return leaves[0].entry"
   ]
  },
  {
   "cell_type": "markdown",
   "metadata": {},
   "source": [
    "`decode` takes 2 arguments: `signals` and `tree`. `"
   ]
  },
  {
   "cell_type": "markdown",
   "metadata": {},
   "source": [
    "<img src = 'defmorse.jpg' width = 400/>"
   ]
  },
  {
   "cell_type": "markdown",
   "metadata": {},
   "source": [
    "Decode converts a `signal` into a `letter` one letter at a time.\n",
    "\n",
    "We will have to define `morse`. As we can see above, `morse` takes in the following code,"
   ]
  },
  {
   "cell_type": "code",
   "execution_count": 1,
   "metadata": {},
   "outputs": [],
   "source": [
    "abcde = {'a': '.-', 'b': '-...', 'c': '-.-.', 'd': '-..', 'e': '.'}"
   ]
  },
  {
   "cell_type": "markdown",
   "metadata": {},
   "source": [
    "And again, `abcde` is a dictionary from letters to dots and dashes. The result of "
   ]
  }
 ],
 "metadata": {
  "kernelspec": {
   "display_name": "Python 3",
   "language": "python",
   "name": "python3"
  },
  "language_info": {
   "codemirror_mode": {
    "name": "ipython",
    "version": 3
   },
   "file_extension": ".py",
   "mimetype": "text/x-python",
   "name": "python",
   "nbconvert_exporter": "python",
   "pygments_lexer": "ipython3",
   "version": "3.6.8"
  }
 },
 "nbformat": 4,
 "nbformat_minor": 2
}
