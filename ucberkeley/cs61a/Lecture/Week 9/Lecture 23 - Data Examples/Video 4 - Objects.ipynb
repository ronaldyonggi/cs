{
 "cells": [
  {
   "cell_type": "markdown",
   "metadata": {},
   "source": [
    "# Objects"
   ]
  },
  {
   "cell_type": "markdown",
   "metadata": {},
   "source": [
    "Let's look at the example of using the objects system."
   ]
  },
  {
   "cell_type": "markdown",
   "metadata": {},
   "source": [
    "## Land Owners"
   ]
  },
  {
   "cell_type": "markdown",
   "metadata": {},
   "source": [
    "**Something to remember**: Instance attributes are found before class attributes; class attributes are inherited"
   ]
  },
  {
   "cell_type": "code",
   "execution_count": 2,
   "metadata": {},
   "outputs": [],
   "source": [
    "class Worker:\n",
    "    greeting = 'Sir'\n",
    "    \n",
    "    def __init__(self):\n",
    "        self.elf = Worker\n",
    "    \n",
    "    def work(self):\n",
    "        return self.greeting + ', I Work'\n",
    "    \n",
    "    def __repr__(self):\n",
    "        return Bourgeoisie.greeting\n",
    "    \n",
    "class Bourgeoisie(Worker):\n",
    "    greeting = 'Peon'\n",
    "    def work(self):\n",
    "        print(Worker.work(self))\n",
    "        return 'I gather wealth'\n",
    "    \n",
    "jack = Worker()\n",
    "john = Bourgeoisie()\n",
    "jack.greeting = 'Maam'"
   ]
  },
  {
   "cell_type": "markdown",
   "metadata": {},
   "source": [
    "Now we'll analyze the outputs of the following,"
   ]
  },
  {
   "cell_type": "code",
   "execution_count": 3,
   "metadata": {},
   "outputs": [
    {
     "data": {
      "text/plain": [
       "'Sir, I Work'"
      ]
     },
     "execution_count": 3,
     "metadata": {},
     "output_type": "execute_result"
    }
   ],
   "source": [
    "Worker().work() # Output should be 'Sir, I work'"
   ]
  },
  {
   "cell_type": "code",
   "execution_count": 4,
   "metadata": {},
   "outputs": [
    {
     "data": {
      "text/plain": [
       "Peon"
      ]
     },
     "execution_count": 4,
     "metadata": {},
     "output_type": "execute_result"
    }
   ],
   "source": [
    "jack # When we call `jack` by itself, we are executing its __repr__ method, which returns Bourgeoisise.greeting.\n",
    "# The Bourgeoisise class's greeting is 'Peon'"
   ]
  },
  {
   "cell_type": "code",
   "execution_count": 5,
   "metadata": {},
   "outputs": [
    {
     "data": {
      "text/plain": [
       "'Maam, I Work'"
      ]
     },
     "execution_count": 5,
     "metadata": {},
     "output_type": "execute_result"
    }
   ],
   "source": [
    "jack.work() # Output should be 'Maam, I work'"
   ]
  },
  {
   "cell_type": "code",
   "execution_count": 8,
   "metadata": {},
   "outputs": [
    {
     "name": "stdout",
     "output_type": "stream",
     "text": [
      "Peon, I Work\n"
     ]
    },
    {
     "data": {
      "text/plain": [
       "'I gather wealth'"
      ]
     },
     "execution_count": 8,
     "metadata": {},
     "output_type": "execute_result"
    }
   ],
   "source": [
    "john.work()\n",
    "# When we call john's work method, first it prints Worker.work(self)\n",
    "# The worker class's work method returns self.greeting + ', I work'. john is an instance of Bourgeoisie, thus its\n",
    "# greeting attribute is 'Peon'. So first it prints `Peon, I work`\n",
    "# and then it returns 'I gather wealth'"
   ]
  },
  {
   "cell_type": "code",
   "execution_count": 7,
   "metadata": {},
   "outputs": [
    {
     "data": {
      "text/plain": [
       "'Peon, I Work'"
      ]
     },
     "execution_count": 7,
     "metadata": {},
     "output_type": "execute_result"
    }
   ],
   "source": [
    "john.elf.work(john)\n",
    "# john is a Bourgeoisie, which is a subclass of Worker. Thus, john's elf attribute is Worker\n",
    "# Worker.work() method, normally, calls self.greeting + ', I work'.\n",
    "# But here we pass in Worker.work(john). john's greeting attribute is 'Peon'\n",
    "# Thus, it will print out 'Peon, I work'"
   ]
  },
  {
   "cell_type": "code",
   "execution_count": null,
   "metadata": {},
   "outputs": [],
   "source": []
  }
 ],
 "metadata": {
  "kernelspec": {
   "display_name": "Python 3",
   "language": "python",
   "name": "python3"
  },
  "language_info": {
   "codemirror_mode": {
    "name": "ipython",
    "version": 3
   },
   "file_extension": ".py",
   "mimetype": "text/x-python",
   "name": "python",
   "nbconvert_exporter": "python",
   "pygments_lexer": "ipython3",
   "version": "3.6.8"
  }
 },
 "nbformat": 4,
 "nbformat_minor": 2
}
