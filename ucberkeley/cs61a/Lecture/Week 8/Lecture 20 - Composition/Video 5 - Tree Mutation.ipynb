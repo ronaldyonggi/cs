{
 "cells": [
  {
   "cell_type": "code",
   "execution_count": null,
   "metadata": {},
   "outputs": [],
   "source": [
    "%load_ext tutormagic"
   ]
  },
  {
   "cell_type": "markdown",
   "metadata": {},
   "source": [
    "# Tree Mutation"
   ]
  },
  {
   "cell_type": "markdown",
   "metadata": {},
   "source": [
    "Tree mutation is when we take an existing tree and change it. Often times tree mutations are recursive."
   ]
  },
  {
   "cell_type": "markdown",
   "metadata": {},
   "source": [
    "## Example: Pruning Trees"
   ]
  },
  {
   "cell_type": "markdown",
   "metadata": {},
   "source": [
    "When we have an existing tree and we remove subtrees from it, it's called Pruning. \n",
    "\n",
    "In general, to write a function that prunes a tree, we want to perform the pruning before we perform the recursive processing. This way, we don't ended up processing the pruned trees. This is not always possible, sometimes we have to look at the subtrees before we know whether to prune or not. In some cases we can tell just by looking at the branches directly. \n",
    "\n",
    "Recall the example of computing Fibonacci sequence using memoization. We went through every recursive call to `fib` and annotate it by whether it was:\n",
    "1. Returned by `fib`\n",
    "2. Found in cache\n",
    "3. Skipped entirely"
   ]
  },
  {
   "cell_type": "markdown",
   "metadata": {},
   "source": [
    "<img src = 'fib.jpg' width = 800/>"
   ]
  },
  {
   "cell_type": "markdown",
   "metadata": {},
   "source": [
    "We discussed this recursive computation and effective memoization. We can illustrate this process by `fib_tree` and prune away everything that's either found in the cache or skipped entirely. "
   ]
  },
  {
   "cell_type": "markdown",
   "metadata": {},
   "source": [
    "Given a tree, we can prune any repeated branches by taking the tree and also keeping track of a list of the subtrees we've seen before. "
   ]
  },
  {
   "cell_type": "code",
   "execution_count": 4,
   "metadata": {},
   "outputs": [],
   "source": [
    "# Given a tree, we can prune any repeated branches by taking the tree\n",
    "# and also keeping track of a list of the subtrees we've seen before\n",
    "def prune_repeats(t, seen):\n",
    "    # Tree mutation means reassigning the attribute, either the branch or the root.\n",
    "    # In this case, we say that the branches of the pruned tree are all branches of the original tree\n",
    "    # but we only include the branches that we have not seen before. This removes repeated\n",
    "    # branches, but it won't remove the repeated subtrees deeper in the tree\n",
    "    t.branches = [b for b in t.branches if b not in seen]\n",
    "    \n",
    "    \n",
    "    # Updates the list of what Python has seen\n",
    "    seen.append(t)\n",
    "    \n",
    "    \n",
    "    \n",
    "    # To remove the repeated subtrees, we need to recursive call prune_repeats\n",
    "    for b in t.branches:\n",
    "        prune_repeats(b, seen)"
   ]
  },
  {
   "cell_type": "markdown",
   "metadata": {},
   "source": [
    "Now we have our `Tree` class,"
   ]
  },
  {
   "cell_type": "code",
   "execution_count": 3,
   "metadata": {},
   "outputs": [],
   "source": [
    "class Tree:\n",
    "    \"\"\"A tree is a label and a list of branches.\"\"\"\n",
    "    def __init__(self, label, branches=[]):\n",
    "        self.label = label\n",
    "        for branch in branches:\n",
    "            assert isinstance(branch, Tree)\n",
    "        self.branches = list(branches)\n",
    "\n",
    "    def __repr__(self):\n",
    "        if self.branches:\n",
    "            branch_str = ', ' + repr(self.branches)\n",
    "        else:\n",
    "            branch_str = ''\n",
    "        return 'Tree({0}{1})'.format(repr(self.label), branch_str)\n",
    "\n",
    "    def __str__(self):\n",
    "        return '\\n'.join(self.indented())\n",
    "\n",
    "    def indented(self):\n",
    "        lines = []\n",
    "        for b in self.branches:\n",
    "            for line in b.indented():\n",
    "                lines.append('  ' + line)\n",
    "        return [str(self.label)] + lines\n",
    "    \n",
    "    def is_leaf(self):\n",
    "        return not self.branches"
   ]
  },
  {
   "cell_type": "markdown",
   "metadata": {},
   "source": [
    "Along with the memoization function and the `fib_tree` function."
   ]
  },
  {
   "cell_type": "code",
   "execution_count": 5,
   "metadata": {},
   "outputs": [],
   "source": [
    "def memo(f):\n",
    "    cache = {}\n",
    "    def memoized(n):\n",
    "        if n not in cache:\n",
    "            cache[n] = f(n)\n",
    "        return cache[n]\n",
    "    return memoized\n",
    "\n",
    "@memo\n",
    "def fib_tree(n):\n",
    "    \"\"\"A Fibonacci tree.\n",
    "\n",
    "    >>> print(fib_tree(4))\n",
    "    3\n",
    "      1\n",
    "        0\n",
    "        1\n",
    "      2\n",
    "        1\n",
    "        1\n",
    "          0\n",
    "          1\n",
    "    \"\"\"\n",
    "    if n == 0 or n == 1:\n",
    "        return Tree(n)\n",
    "    else:\n",
    "        left = fib_tree(n-2)\n",
    "        right = fib_tree(n-1)\n",
    "        fib_n = left.label + right.label\n",
    "        return Tree(fib_n, [left, right])"
   ]
  },
  {
   "cell_type": "markdown",
   "metadata": {},
   "source": [
    "Now if we call `fib_tree(8)`,"
   ]
  },
  {
   "cell_type": "code",
   "execution_count": 6,
   "metadata": {},
   "outputs": [
    {
     "data": {
      "text/plain": [
       "Tree(21, [Tree(8, [Tree(3, [Tree(1, [Tree(0), Tree(1)]), Tree(2, [Tree(1), Tree(1, [Tree(0), Tree(1)])])]), Tree(5, [Tree(2, [Tree(1), Tree(1, [Tree(0), Tree(1)])]), Tree(3, [Tree(1, [Tree(0), Tree(1)]), Tree(2, [Tree(1), Tree(1, [Tree(0), Tree(1)])])])])]), Tree(13, [Tree(5, [Tree(2, [Tree(1), Tree(1, [Tree(0), Tree(1)])]), Tree(3, [Tree(1, [Tree(0), Tree(1)]), Tree(2, [Tree(1), Tree(1, [Tree(0), Tree(1)])])])]), Tree(8, [Tree(3, [Tree(1, [Tree(0), Tree(1)]), Tree(2, [Tree(1), Tree(1, [Tree(0), Tree(1)])])]), Tree(5, [Tree(2, [Tree(1), Tree(1, [Tree(0), Tree(1)])]), Tree(3, [Tree(1, [Tree(0), Tree(1)]), Tree(2, [Tree(1), Tree(1, [Tree(0), Tree(1)])])])])])])])"
      ]
     },
     "execution_count": 6,
     "metadata": {},
     "output_type": "execute_result"
    }
   ],
   "source": [
    "fib_tree(8)"
   ]
  },
  {
   "cell_type": "code",
   "execution_count": 7,
   "metadata": {},
   "outputs": [
    {
     "name": "stdout",
     "output_type": "stream",
     "text": [
      "21\n",
      "  8\n",
      "    3\n",
      "      1\n",
      "        0\n",
      "        1\n",
      "      2\n",
      "        1\n",
      "        1\n",
      "          0\n",
      "          1\n",
      "    5\n",
      "      2\n",
      "        1\n",
      "        1\n",
      "          0\n",
      "          1\n",
      "      3\n",
      "        1\n",
      "          0\n",
      "          1\n",
      "        2\n",
      "          1\n",
      "          1\n",
      "            0\n",
      "            1\n",
      "  13\n",
      "    5\n",
      "      2\n",
      "        1\n",
      "        1\n",
      "          0\n",
      "          1\n",
      "      3\n",
      "        1\n",
      "          0\n",
      "          1\n",
      "        2\n",
      "          1\n",
      "          1\n",
      "            0\n",
      "            1\n",
      "    8\n",
      "      3\n",
      "        1\n",
      "          0\n",
      "          1\n",
      "        2\n",
      "          1\n",
      "          1\n",
      "            0\n",
      "            1\n",
      "      5\n",
      "        2\n",
      "          1\n",
      "          1\n",
      "            0\n",
      "            1\n",
      "        3\n",
      "          1\n",
      "            0\n",
      "            1\n",
      "          2\n",
      "            1\n",
      "            1\n",
      "              0\n",
      "              1\n"
     ]
    }
   ],
   "source": [
    "print(fib_tree(8))"
   ]
  },
  {
   "cell_type": "markdown",
   "metadata": {},
   "source": [
    "As we can see above, there are many repetitive `fib` calls! Using `prune_repeats`, we can get rid of those repetitions."
   ]
  },
  {
   "cell_type": "code",
   "execution_count": 9,
   "metadata": {},
   "outputs": [
    {
     "name": "stdout",
     "output_type": "stream",
     "text": [
      "21\n",
      "  8\n",
      "    3\n",
      "      1\n",
      "        0\n",
      "        1\n",
      "      2\n",
      "    5\n",
      "  13\n"
     ]
    }
   ],
   "source": [
    "t = fib_tree(8)\n",
    "prune_repeats(t, [])\n",
    "print(t)"
   ]
  },
  {
   "cell_type": "markdown",
   "metadata": {},
   "source": [
    "Now we have a more compact structure that don't include repetitive calls!"
   ]
  }
 ],
 "metadata": {
  "kernelspec": {
   "display_name": "Python 3",
   "language": "python",
   "name": "python3"
  },
  "language_info": {
   "codemirror_mode": {
    "name": "ipython",
    "version": 3
   },
   "file_extension": ".py",
   "mimetype": "text/x-python",
   "name": "python",
   "nbconvert_exporter": "python",
   "pygments_lexer": "ipython3",
   "version": "3.6.8"
  }
 },
 "nbformat": 4,
 "nbformat_minor": 2
}
