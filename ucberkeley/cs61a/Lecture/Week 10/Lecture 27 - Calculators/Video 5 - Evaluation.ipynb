{
 "cells": [
  {
   "cell_type": "markdown",
   "metadata": {},
   "source": [
    "# Evaluation"
   ]
  },
  {
   "cell_type": "markdown",
   "metadata": {},
   "source": [
    "Let's implement this language by creating an interpreter for it."
   ]
  },
  {
   "cell_type": "markdown",
   "metadata": {},
   "source": [
    "## The `eval` Function"
   ]
  },
  {
   "cell_type": "markdown",
   "metadata": {},
   "source": [
    "The `eval` function evaluates an expression in the language represented as a Scheme list. It computes the value of an expression, which is always a number.\n",
    "\n",
    "The `eval` is a generic function that dispatches on the type of the expression (primitive or call)."
   ]
  },
  {
   "cell_type": "code",
   "execution_count": null,
   "metadata": {},
   "outputs": [],
   "source": [
    "def calc_eval(exp): "
   ]
  },
  {
   "cell_type": "markdown",
   "metadata": {},
   "source": [
    "`calc_eval` is a function that takes in an expression. That expression would be either primitive or call."
   ]
  },
  {
   "cell_type": "code",
   "execution_count": null,
   "metadata": {},
   "outputs": [],
   "source": [
    "if type(exp) in (int, float):\n",
    "    return exp"
   ]
  },
  {
   "cell_type": "markdown",
   "metadata": {},
   "source": [
    "If it's primitive, meaning the type is either `int` or `float`, then we evaluate it by just returning itself."
   ]
  },
  {
   "cell_type": "code",
   "execution_count": null,
   "metadata": {},
   "outputs": [],
   "source": [
    "elif isinstance(exp, Pair):\n",
    "    "
   ]
  },
  {
   "cell_type": "markdown",
   "metadata": {},
   "source": [
    "If it's the case that the expression is a `Pair` (e.g. it's a Scheme list),\n",
    "1. Get the arguments to the call expression by mapping the `calc_eval` function over the rest of the list \n",
    "    * `exp` is a list that starts with an operator (`+`, `-`, etc.) followed by other expressions \n",
    "2. Call `calc_apply` that takes the operator and applies it to the argument\n",
    "\n",
    "#### Important Parts:\n",
    "1. We have a recursive `calc_eval` call that returns a number for each operand.\n",
    "    * An operand subexpression could be some complex expression\n",
    "    * We reduce it to a number by calling `calc_eval`\n",
    "2. `calc_apply` figures out whether the program add, multiply, etc. \n",
    "    * `exp.first` is a symbol representing what operation to use\n",
    "    * `arguments` is a Scheme list of numbers that we obtain by calling `calc_eval` on each subexpression."
   ]
  },
  {
   "cell_type": "markdown",
   "metadata": {},
   "source": [
    "<img src = 'implementation.jpg' width = 700/>"
   ]
  },
  {
   "cell_type": "markdown",
   "metadata": {},
   "source": [
    "## Applying Built-in Operators"
   ]
  },
  {
   "cell_type": "markdown",
   "metadata": {},
   "source": [
    "The one part we left out is `calc_apply`.\n",
    "\n",
    "The apply function applies some operation to (Scheme) list of argument values.\n",
    "\n",
    "In calculator, all operations are named by built-in operators: +, -, *, /.\n",
    "\n",
    "In other programming languages that allow different kinds of abstractions, we need to take into account user-defined operations and names for things. But for now, we only need to worry about the 4 operators.\n",
    "\n",
    "Here's the implementation: it just decides which operator we are looking at and carries out the combination method that combines the arguments in that way."
   ]
  },
  {
   "cell_type": "code",
   "execution_count": null,
   "metadata": {},
   "outputs": [],
   "source": [
    "def calc_apply(operator, args):"
   ]
  },
  {
   "cell_type": "markdown",
   "metadata": {},
   "source": [
    "`calc_apply` takes in some `operator` and some `arg`ument`s`."
   ]
  },
  {
   "cell_type": "code",
   "execution_count": null,
   "metadata": {},
   "outputs": [],
   "source": [
    "if operator == '+':\n",
    "    return reduce(add, args, 0)"
   ]
  },
  {
   "cell_type": "markdown",
   "metadata": {},
   "source": [
    "If the operator is `+`, it adds together the arguments starting with 0.\n",
    "\n",
    "And similar process for the rest of the other operators."
   ]
  },
  {
   "cell_type": "markdown",
   "metadata": {},
   "source": [
    "<img src = 'implementation2.jpg' width = 700/>"
   ]
  },
  {
   "cell_type": "markdown",
   "metadata": {},
   "source": [
    "## Demo"
   ]
  },
  {
   "cell_type": "markdown",
   "metadata": {},
   "source": [
    "Here we're assuming that we're running `scalc.py`"
   ]
  },
  {
   "cell_type": "markdown",
   "metadata": {},
   "source": [
    "### `calc_apply`"
   ]
  },
  {
   "cell_type": "code",
   "execution_count": null,
   "metadata": {},
   "outputs": [],
   "source": [
    "if not isinstance(operator, str):\n",
    "    raise TypeError(str(operator) + ' is not a symbol')"
   ]
  },
  {
   "cell_type": "markdown",
   "metadata": {},
   "source": [
    "^ If the operator is not a string, then the program should raise an error. "
   ]
  },
  {
   "cell_type": "code",
   "execution_count": null,
   "metadata": {},
   "outputs": [],
   "source": [
    "> (2)\n",
    "TypeError: 2 is not a symbol"
   ]
  },
  {
   "cell_type": "code",
   "execution_count": null,
   "metadata": {},
   "outputs": [],
   "source": [
    "if operator == '+':\n",
    "    return reduce(add, args, 0)"
   ]
  },
  {
   "cell_type": "markdown",
   "metadata": {},
   "source": [
    "^ If the operator is `+`, then we `reduce`, starting with 0, adding in everything else."
   ]
  },
  {
   "cell_type": "code",
   "execution_count": null,
   "metadata": {},
   "outputs": [],
   "source": [
    "> (+)\n",
    "0\n",
    "> (+ 1 2 3)\n",
    "6"
   ]
  },
  {
   "cell_type": "code",
   "execution_count": null,
   "metadata": {},
   "outputs": [],
   "source": [
    "elif operator == '-':\n",
    "    if len(args) == 0:\n",
    "        raise TypeError(operator + ' requires at least 1 argument')"
   ]
  },
  {
   "cell_type": "markdown",
   "metadata": {},
   "source": [
    "^ if the operator is `-`, if there're no arguments at all, then raise a `TypeError`."
   ]
  },
  {
   "cell_type": "code",
   "execution_count": null,
   "metadata": {},
   "outputs": [],
   "source": [
    "> (-)\n",
    "TypeError: - requires at least 1 argument"
   ]
  },
  {
   "cell_type": "code",
   "execution_count": null,
   "metadata": {},
   "outputs": [],
   "source": [
    "elif len(args) == 1:\n",
    "    return -args.first"
   ]
  },
  {
   "cell_type": "markdown",
   "metadata": {},
   "source": [
    "^ if there's only 1 argument, negate it."
   ]
  },
  {
   "cell_type": "code",
   "execution_count": null,
   "metadata": {},
   "outputs": [],
   "source": [
    "> (- 2)\n",
    "-2"
   ]
  },
  {
   "cell_type": "code",
   "execution_count": null,
   "metadata": {},
   "outputs": [],
   "source": [
    "else:\n",
    "    return reduce(sub, args.second, args.first)"
   ]
  },
  {
   "cell_type": "markdown",
   "metadata": {},
   "source": [
    "^ otherwise, `reduce` by subtracting all of the rest of the arguments from the first argument."
   ]
  },
  {
   "cell_type": "code",
   "execution_count": null,
   "metadata": {},
   "outputs": [],
   "source": [
    "> (- 10 1 2 3)\n",
    "4"
   ]
  },
  {
   "cell_type": "code",
   "execution_count": null,
   "metadata": {},
   "outputs": [],
   "source": [
    "elif operator == '*':\n",
    "    return reduce(mul, args, 1)"
   ]
  },
  {
   "cell_type": "markdown",
   "metadata": {},
   "source": [
    "^ multiplication reduces the list of arguments using multiplication as as a means of combination."
   ]
  },
  {
   "cell_type": "code",
   "execution_count": null,
   "metadata": {},
   "outputs": [],
   "source": [
    "> (* 1 2 3 4)\n",
    "24"
   ]
  },
  {
   "cell_type": "markdown",
   "metadata": {},
   "source": [
    "Division `/` works just like subtraction."
   ]
  },
  {
   "cell_type": "code",
   "execution_count": null,
   "metadata": {},
   "outputs": [],
   "source": [
    "> (/ 4)\n",
    "0.25\n",
    "> (/ 1024 2 2 2 2 2)\n",
    "32"
   ]
  },
  {
   "cell_type": "code",
   "execution_count": null,
   "metadata": {},
   "outputs": [],
   "source": [
    "else:\n",
    "    raise TypeError(operator + ' is an unknown operator')"
   ]
  },
  {
   "cell_type": "markdown",
   "metadata": {},
   "source": [
    "^ otherwise, raise an TypeError"
   ]
  },
  {
   "cell_type": "code",
   "execution_count": null,
   "metadata": {},
   "outputs": [],
   "source": [
    "(? 2 3)\n",
    "TypeError: ? is an unknown operator"
   ]
  },
  {
   "cell_type": "code",
   "execution_count": null,
   "metadata": {},
   "outputs": [],
   "source": []
  }
 ],
 "metadata": {
  "kernelspec": {
   "display_name": "Python 3",
   "language": "python",
   "name": "python3"
  },
  "language_info": {
   "codemirror_mode": {
    "name": "ipython",
    "version": 3
   },
   "file_extension": ".py",
   "mimetype": "text/x-python",
   "name": "python",
   "nbconvert_exporter": "python",
   "pygments_lexer": "ipython3",
   "version": "3.7.3"
  }
 },
 "nbformat": 4,
 "nbformat_minor": 2
}
