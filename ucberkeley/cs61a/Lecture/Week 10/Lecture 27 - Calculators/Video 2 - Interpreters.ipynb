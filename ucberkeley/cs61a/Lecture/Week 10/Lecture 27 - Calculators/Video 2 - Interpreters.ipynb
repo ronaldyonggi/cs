{
 "cells": [
  {
   "cell_type": "markdown",
   "metadata": {},
   "source": [
    "# Interpreters"
   ]
  },
  {
   "cell_type": "markdown",
   "metadata": {},
   "source": [
    "We are going to built an interpreter. Interpreters are required to do a lot of error handling. What separates a useful programming language from one that's frustating to use is its ability to communicate errors effectively to its users.\n",
    "\n",
    "What do interpreters do?"
   ]
  },
  {
   "cell_type": "markdown",
   "metadata": {},
   "source": [
    "## Reading Scheme Lists"
   ]
  },
  {
   "cell_type": "markdown",
   "metadata": {},
   "source": [
    "They read in the input program as texts and interpret it as a hierarchical structure.\n",
    "\n",
    "In the case of building a Scheme interpreter, we're going to need to read many parentheses and `+`s and numerals and etc. and understand those as Scheme lists, that is, recursive lists.\n",
    "\n",
    "A Scheme list is written as elements in parentheses:"
   ]
  },
  {
   "cell_type": "code",
   "execution_count": null,
   "metadata": {},
   "outputs": [],
   "source": [
    "(<element_0> <element_1> ... <element_n>)"
   ]
  },
  {
   "cell_type": "markdown",
   "metadata": {},
   "source": [
    "Each `<element>` can be a combination or primitive. `<element_0>` can be a `+`, while `<element_1>` can be a second Scheme list with more parentheses.\n",
    "\n",
    "Here is a particularly complicated Scheme list, which also happened to represent a Scheme expression."
   ]
  },
  {
   "cell_type": "code",
   "execution_count": 1,
   "metadata": {},
   "outputs": [
    {
     "data": {
      "text/plain": [
       "57"
      ]
     },
     "execution_count": 1,
     "metadata": {},
     "output_type": "execute_result"
    }
   ],
   "source": [
    "(+ (* 3 (+ (* 2 4) (+ 3 5))) (+ (- 10 7) 6))"
   ]
  },
  {
   "cell_type": "markdown",
   "metadata": {},
   "source": [
    "Above, see that the first element is a `+`, and the 2nd element is a whole list of `(* 3 (+ (* 2 4) (+ 3 5)))`.\n",
    "\n",
    "In any well-formed Scheme list, the number of left parentheses will be the same as the number of right parentheses. Part of reading Scheme lists would be matching up those parentheses. The other part of it would be figuring out whether all the individual numbers are well-formed. \n",
    "\n",
    "The task of parsing a programming language involves coercing a string representation of an expression in that language to an object that is the expression itself. This means validating that there are no errors and creating a nested hierarchical structure out of something that starts out as a bunch of parentheses and symbols.\n",
    "\n",
    "Parsers must validate that expressions are well-formed. \n",
    "\n",
    "For the next few lectures, we're going to analyze a program called `scalc`, not as powerful as the Scheme itself. It only supports 4 operations: `+, -, *, /`. This is going to be a full functioning calculator for those 4 operations, but we'll use Scheme style syntax. \n",
    "\n",
    "Below assume that we're running the program `scheme_reader`. If we type in an expression, it will be printed out in 2 different ways."
   ]
  },
  {
   "cell_type": "code",
   "execution_count": null,
   "metadata": {},
   "outputs": [],
   "source": [
    "> 1\n",
    "1\n",
    "1"
   ]
  },
  {
   "cell_type": "code",
   "execution_count": null,
   "metadata": {},
   "outputs": [],
   "source": [
    "> (1 2)\n",
    "(1 2) ; Scheme representation of the list\n",
    "Pair(1, Pair(2, nil)) ;Underlying Python representation, which explicitly states that this is a recursive list "
   ]
  },
  {
   "cell_type": "code",
   "execution_count": null,
   "metadata": {},
   "outputs": [],
   "source": [
    "> (1 2 3)\n",
    "(1 2 3)\n",
    "Pair(1, Pair(2, Pair(3, nil)))"
   ]
  },
  {
   "cell_type": "markdown",
   "metadata": {},
   "source": [
    "Note that this Scheme reader is not doing any arithmetic. "
   ]
  },
  {
   "cell_type": "code",
   "execution_count": null,
   "metadata": {},
   "outputs": [],
   "source": [
    "> (+ 1 2 3)\n",
    "(+ 1 2 3)\n",
    "Pair('+', Pair(1, Pair(2, Pair(3, nil))))"
   ]
  },
  {
   "cell_type": "markdown",
   "metadata": {},
   "source": [
    "It should still work even with random indentation,"
   ]
  },
  {
   "cell_type": "code",
   "execution_count": null,
   "metadata": {},
   "outputs": [],
   "source": [
    "> (+\n",
    "    1 2\n",
    "            3)\n",
    "(+ 1 2 3)\n",
    "Pair('+', Pair(1, Pair(2, Pair(3, nil))))"
   ]
  },
  {
   "cell_type": "markdown",
   "metadata": {},
   "source": [
    "Now let's take a look at the program."
   ]
  },
  {
   "cell_type": "markdown",
   "metadata": {},
   "source": [
    "# Reader Note:"
   ]
  },
  {
   "cell_type": "markdown",
   "metadata": {},
   "source": [
    "In the [course textbook](http://composingprograms.com/), there's a section that says [Interpreters for Languages with Combination](http://composingprograms.com/pages/34-interpreters-for-languages-with-combination.html). This page has a [link](http://composingprograms.com/examples/scalc/scalc.html) to the codes for the `calculator` program such as `scheme_reader`, `scalc`, etc.\n",
    "\n",
    "Note that the `scheme_read` can handle `nil` and parentheses `()`, but it doesn't handle quotes `'` or dots `.`, which we'll add in the project."
   ]
  },
  {
   "cell_type": "markdown",
   "metadata": {},
   "source": [
    "### `scheme_reader.py`"
   ]
  },
  {
   "cell_type": "markdown",
   "metadata": {},
   "source": [
    "#### `Pair` Class"
   ]
  },
  {
   "cell_type": "markdown",
   "metadata": {},
   "source": [
    "The `Pair` class is just like a 2-element tuple. It has the `first` and `second` element."
   ]
  },
  {
   "cell_type": "code",
   "execution_count": null,
   "metadata": {},
   "outputs": [],
   "source": [
    "def __init__(self, first, second):\n",
    "    self.first = first\n",
    "    self.second = second"
   ]
  },
  {
   "cell_type": "markdown",
   "metadata": {},
   "source": [
    "However, it's special because when we print it out, we obtain a Scheme-style representation, as 2 different elements in parentheses."
   ]
  },
  {
   "cell_type": "code",
   "execution_count": null,
   "metadata": {},
   "outputs": [],
   "source": [
    ">>> s = Pair(1, Pair(2, nil))\n",
    ">>> s\n",
    "Pair(1, Pair(2, nil))\n",
    "# Scheme style representation below\n",
    ">>> print(s)\n",
    "(1 2)"
   ]
  },
  {
   "cell_type": "markdown",
   "metadata": {},
   "source": [
    "#### `scheme_read`"
   ]
  },
  {
   "cell_type": "markdown",
   "metadata": {},
   "source": [
    "The `scheme_read` function is the function that does all the work. It takes bunch of lines (regardless of spacing)..."
   ]
  },
  {
   "cell_type": "code",
   "execution_count": null,
   "metadata": {},
   "outputs": [],
   "source": [
    ">>> lines = ['(+ 1 ', '(+ 23 4)) (']"
   ]
  },
  {
   "cell_type": "markdown",
   "metadata": {},
   "source": [
    "Or lines like this,"
   ]
  },
  {
   "cell_type": "code",
   "execution_count": null,
   "metadata": {},
   "outputs": [],
   "source": [
    "> (+\n",
    "   1 2\n",
    "           3)"
   ]
  },
  {
   "cell_type": "markdown",
   "metadata": {},
   "source": [
    "...breaks the line to individual pieces,"
   ]
  },
  {
   "cell_type": "code",
   "execution_count": null,
   "metadata": {},
   "outputs": [],
   "source": [
    ">>> src = Buffer(tokenize_lines(lines))"
   ]
  },
  {
   "cell_type": "markdown",
   "metadata": {},
   "source": [
    "And call `scheme_read` on the result,"
   ]
  },
  {
   "cell_type": "code",
   "execution_count": null,
   "metadata": {},
   "outputs": [],
   "source": [
    ">>> print(scheme_read(src))\n",
    "(+ 1 (+ 23 4))"
   ]
  },
  {
   "cell_type": "markdown",
   "metadata": {},
   "source": [
    "As we can see above, the result should be able to figure out that `(+ 1 (+ 23 4))` is the first well-formed Scheme expression in `lines`. \n",
    "\n",
    "Note that there's an open parentheses at the end of `lines`"
   ]
  },
  {
   "cell_type": "code",
   "execution_count": null,
   "metadata": {},
   "outputs": [],
   "source": [
    ">>> lines = ['(+ 1 ', '(+ 23 4)) (']"
   ]
  },
  {
   "cell_type": "code",
   "execution_count": null,
   "metadata": {},
   "outputs": [],
   "source": [
    "(']"
   ]
  },
  {
   "cell_type": "markdown",
   "metadata": {},
   "source": [
    "This is not used at the first `scheme_read`. We'll have to call `scheme_read` again for that. \n",
    "\n",
    "This is a recursive procedure that where all the recursion happens in `read_tail`. "
   ]
  },
  {
   "cell_type": "code",
   "execution_count": null,
   "metadata": {},
   "outputs": [],
   "source": [
    "elif val == \"(\":\n",
    "    return read_tail(src)"
   ]
  },
  {
   "cell_type": "markdown",
   "metadata": {},
   "source": [
    "After finding an open parentheses `(`, `read_tail` finds everything up until the closing parentheses. Some examples of how it work is listed withint the doctests of `read_tail`."
   ]
  },
  {
   "cell_type": "code",
   "execution_count": null,
   "metadata": {},
   "outputs": [],
   "source": [
    ">>> read_tail(Buffer(tokenize_lines([')'])))\n",
    "nil\n",
    ">>> read_tail(Buffer(tokenize_lines(['2 3)'])))\n",
    "Pair(2, Pair(3, nil))\n",
    ">>> read_tail(Buffer(tokenize_lines(['2 (3 4))'])))\n",
    "Pair(2, Pair(Pair(3, Pair(4, nil)), nil))"
   ]
  },
  {
   "cell_type": "markdown",
   "metadata": {},
   "source": [
    "This program does error handling. For example, if we run the following,"
   ]
  },
  {
   "cell_type": "code",
   "execution_count": null,
   "metadata": {},
   "outputs": [],
   "source": [
    "> )\n",
    "SyntaxError: unexpected token: )"
   ]
  },
  {
   "cell_type": "markdown",
   "metadata": {},
   "source": [
    "This happens because we raise a SyntaxError in the following line in `scheme_read`,"
   ]
  },
  {
   "cell_type": "code",
   "execution_count": null,
   "metadata": {},
   "outputs": [],
   "source": [
    "else:\n",
    "    raise SyntaxError(\"unexpected token: {0}\".format(val))"
   ]
  },
  {
   "cell_type": "markdown",
   "metadata": {},
   "source": [
    "### `read_print_loop()`"
   ]
  },
  {
   "cell_type": "markdown",
   "metadata": {},
   "source": [
    "The whole program tries to read the expression and print out their result,"
   ]
  },
  {
   "cell_type": "code",
   "execution_count": null,
   "metadata": {},
   "outputs": [],
   "source": [
    "while src.more_on_line:\n",
    "    expression = scheme_read(src)\n",
    "    print(repr(expression))"
   ]
  },
  {
   "cell_type": "markdown",
   "metadata": {},
   "source": [
    "When it finds a `SyntaxError`, it prints the error too."
   ]
  },
  {
   "cell_type": "code",
   "execution_count": null,
   "metadata": {},
   "outputs": [],
   "source": [
    "except (SyntaxError, ValueError) as err:\n",
    "    print(type(err).__name__ + ':', err)"
   ]
  },
  {
   "cell_type": "markdown",
   "metadata": {},
   "source": [
    "Note that all of these code is inside a `while` statement that runs forever,"
   ]
  },
  {
   "cell_type": "code",
   "execution_count": null,
   "metadata": {},
   "outputs": [],
   "source": [
    "while True:\n",
    "    try:\n",
    "        src = buffer_input()\n",
    "        while src.more_on_line:\n",
    "            expression = scheme_read(src)\n",
    "            print(repr(expression))\n",
    "    except (SyntaxError, ValueError) as err:\n",
    "        print(type(err).__name__ + ':', err)\n",
    "    except (KeyboardInterrupt, EOFError):  # <Control>-D, etc.\n",
    "        return"
   ]
  },
  {
   "cell_type": "markdown",
   "metadata": {},
   "source": [
    "which means even after we have a `SyntaxError`, we're still in the same program we were in earlier.\n",
    "\n",
    "The program covers other errors as well,"
   ]
  },
  {
   "cell_type": "code",
   "execution_count": null,
   "metadata": {},
   "outputs": [],
   "source": [
    "> 2.3.4\n",
    "ValueError: invalid numeral: 2.3.4"
   ]
  }
 ],
 "metadata": {
  "kernelspec": {
   "display_name": "Python 3",
   "language": "python",
   "name": "python3"
  },
  "language_info": {
   "codemirror_mode": {
    "name": "ipython",
    "version": 3
   },
   "file_extension": ".py",
   "mimetype": "text/x-python",
   "name": "python",
   "nbconvert_exporter": "python",
   "pygments_lexer": "ipython3",
   "version": "3.6.8"
  }
 },
 "nbformat": 4,
 "nbformat_minor": 2
}
