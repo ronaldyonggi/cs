{
 "cells": [
  {
   "cell_type": "markdown",
   "metadata": {},
   "source": [
    "# Create Table and Drop Table"
   ]
  },
  {
   "cell_type": "markdown",
   "metadata": {},
   "source": [
    "A table can be given a name with `create table`. We haven't covered that we can remove a table using the `drop` statement."
   ]
  },
  {
   "cell_type": "markdown",
   "metadata": {},
   "source": [
    "## Create Table"
   ]
  },
  {
   "cell_type": "markdown",
   "metadata": {},
   "source": [
    "We've seen `create table`, but there's alternative version that we haven't go over.\n",
    "\n",
    "The following is the complete syntax of `create table` expression from SQLite documentation. \n",
    "\n",
    "<img src = 'create.png' width = 700/>"
   ]
  },
  {
   "cell_type": "markdown",
   "metadata": {},
   "source": [
    "Some of the component above are `compound expression`. For example, `column-def`,\n",
    "\n",
    "<img src = 'column-def.png' width = 500/>"
   ]
  },
  {
   "cell_type": "markdown",
   "metadata": {},
   "source": [
    "`column-def` means writing down a `column-name`, a `type-name` (optional), and a `column-constraint` (can be multiple of these).\n",
    "\n",
    "A `column-constraint` is one of many forms. \n",
    "\n",
    "<img src = 'constraint.png' width = 500/>"
   ]
  },
  {
   "cell_type": "markdown",
   "metadata": {},
   "source": [
    "As we can see above, there're many types of `create table` expression, but most of these variation are covered in depth in databases course. In this course, we only focus on the type that we've used so far. We are going to use only the following:\n",
    "\n",
    "<img src = 'ignore_1.png' width = 500/>"
   ]
  },
  {
   "cell_type": "markdown",
   "metadata": {},
   "source": [
    "Above, turns out that when we create a table, we can check beforehand whether the table already exists using `if not exists`. \n",
    "\n",
    "`select stmt` is a shorthand for `select statement`. \n",
    "\n",
    "After we specify the `table-name`, either we can write `as` followed by a `select statement` which we've done all this time, or we can specify the columns directly by enclosing a list of `column definition` (`column-def`) in parentheses. \n",
    "\n",
    "<img src = 'column-def-ignore.png' width = 600/>"
   ]
  },
  {
   "cell_type": "markdown",
   "metadata": {},
   "source": [
    "A `column definition` involves naming the column and applying 0 or more `column constraint`.\n",
    "\n",
    "<img src = 'column-constraint-ignore.png' width = 400/>"
   ]
  },
  {
   "cell_type": "markdown",
   "metadata": {},
   "source": [
    "The only `column constraint` that we use in this course are:\n",
    "\n",
    "**1.** We can set the values to be `unique`. An error will be raised if we try to put in the same value twice in the column.\n",
    "\n",
    "**2.** We can set a `default` value that is used when we insert new values into a column. \n",
    "\n",
    "Here is an example of creating a table followed by `column definition`,"
   ]
  },
  {
   "cell_type": "code",
   "execution_count": null,
   "metadata": {},
   "outputs": [],
   "source": [
    "create table numbers (n, note);"
   ]
  },
  {
   "cell_type": "markdown",
   "metadata": {},
   "source": [
    "And below is an example where we add a `column constraint` `UNIQUE` after the `column name` `n`."
   ]
  },
  {
   "cell_type": "code",
   "execution_count": null,
   "metadata": {},
   "outputs": [],
   "source": [
    "create table numbers (n unique, note);"
   ]
  },
  {
   "cell_type": "markdown",
   "metadata": {},
   "source": [
    "And below is an example where we add a `column constraint` `DEFAULT` value."
   ]
  },
  {
   "cell_type": "code",
   "execution_count": 1,
   "metadata": {},
   "outputs": [
    {
     "ename": "SyntaxError",
     "evalue": "invalid syntax (<ipython-input-1-6cd61715f04c>, line 1)",
     "output_type": "error",
     "traceback": [
      "\u001b[0;36m  File \u001b[0;32m\"<ipython-input-1-6cd61715f04c>\"\u001b[0;36m, line \u001b[0;32m1\u001b[0m\n\u001b[0;31m    create table numbers (n, note default \"No comment\");\u001b[0m\n\u001b[0m               ^\u001b[0m\n\u001b[0;31mSyntaxError\u001b[0m\u001b[0;31m:\u001b[0m invalid syntax\n"
     ]
    }
   ],
   "source": [
    "create table numbers (n, note default \"No comment\");"
   ]
  },
  {
   "cell_type": "markdown",
   "metadata": {},
   "source": [
    "The 3 example statements above create an empty table, which we might wonder why bother in the first place. It turns out we can add new rows to an existing table."
   ]
  },
  {
   "cell_type": "markdown",
   "metadata": {},
   "source": [
    "## Drop Table\n",
    "<img src = 'drop.png' width = 500/>"
   ]
  },
  {
   "cell_type": "markdown",
   "metadata": {},
   "source": [
    "`drop` table is straightforward: removes an existing table. \n",
    "\n",
    "Without the `if exists` clause, if we try to drop a table that doesn't exist, an error will be raised. "
   ]
  }
 ],
 "metadata": {
  "kernelspec": {
   "display_name": "Python 3",
   "language": "python",
   "name": "python3"
  },
  "language_info": {
   "codemirror_mode": {
    "name": "ipython",
    "version": 3
   },
   "file_extension": ".py",
   "mimetype": "text/x-python",
   "name": "python",
   "nbconvert_exporter": "python",
   "pygments_lexer": "ipython3",
   "version": "3.7.3"
  }
 },
 "nbformat": 4,
 "nbformat_minor": 4
}
