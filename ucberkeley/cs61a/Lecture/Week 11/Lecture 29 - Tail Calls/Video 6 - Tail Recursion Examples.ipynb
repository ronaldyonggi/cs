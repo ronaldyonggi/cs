{
 "cells": [
  {
   "cell_type": "markdown",
   "metadata": {},
   "source": [
    "# Tail Recursion Examples"
   ]
  },
  {
   "cell_type": "markdown",
   "metadata": {},
   "source": [
    "## Which Procedures are Tail Recursive?"
   ]
  },
  {
   "cell_type": "markdown",
   "metadata": {},
   "source": [
    "Which of the following procedures run in constant space $\\Theta(1)$?\n",
    "\n",
    "Recall that for a recursive function to be tail-recursive, all the recursive calls have to be tail calls. This way, the procedure will be executed in constant space."
   ]
  },
  {
   "cell_type": "markdown",
   "metadata": {},
   "source": [
    "#### `length`"
   ]
  },
  {
   "cell_type": "code",
   "execution_count": null,
   "metadata": {},
   "outputs": [],
   "source": [
    ";; Compute the length of s.\n",
    "(define (length s)\n",
    "  (+ 1 (if (null? s)\n",
    "           -1\n",
    "           (length (cdr s))\n",
    "           ) ; End of if statement\n",
    "     ) ; End of calling + 1\n",
    "  ; End of length definition"
   ]
  },
  {
   "cell_type": "markdown",
   "metadata": {},
   "source": [
    "Above, `length` procedure is not tail-recursive because once a return value is obtainted in the last frame, the program has to go back to each middle frames to compute the addition `(+ 1`. "
   ]
  },
  {
   "cell_type": "markdown",
   "metadata": {},
   "source": [
    "#### `contains`"
   ]
  },
  {
   "cell_type": "code",
   "execution_count": null,
   "metadata": {},
   "outputs": [],
   "source": [
    ";; Return whether s contains v\n",
    "(define (contains s v)\n",
    "  (if (null? s)\n",
    "      false\n",
    "      (if (= v (car s))\n",
    "          true\n",
    "          (contains (cdr s) v)\n",
    "          ) ; End of if (=v statement\n",
    "      ) ; End of if (null? statement\n",
    "  ) ; End of contains definition"
   ]
  },
  {
   "cell_type": "markdown",
   "metadata": {},
   "source": [
    "Above, `contains` is a tail-recursive procedure since the `if` statement below is the last expression in the procedure definition."
   ]
  },
  {
   "cell_type": "code",
   "execution_count": null,
   "metadata": {},
   "outputs": [],
   "source": [
    "(if (null? s)\n",
    "      false\n",
    "      (if (= v (car s))\n",
    "          true\n",
    "          (contains (cdr s) v)\n",
    "          ) ; End of if (=v statement\n",
    "      ) ; End of if (null? statement"
   ]
  },
  {
   "cell_type": "markdown",
   "metadata": {},
   "source": [
    "#### `has-repeat`"
   ]
  },
  {
   "cell_type": "code",
   "execution_count": null,
   "metadata": {},
   "outputs": [],
   "source": [
    ";; Return whether s has any repeated elements\n",
    "(define (has-repeat s)\n",
    "  (if (null? s)\n",
    "      false\n",
    "      (if (contains? (cdr s) (car s))\n",
    "          true\n",
    "          (has-repeat (cdr s))\n",
    "          ) ; End of if (contains?\n",
    "      ) ; End if if (null?\n",
    "  ) ; End of has-repeat definition"
   ]
  },
  {
   "cell_type": "markdown",
   "metadata": {},
   "source": [
    "`has-repeat` is a procedure that checks whether `s` contains repeated elements by calling the `contains` procedure. \n",
    "\n",
    "The structure of this procedure similar to `contains`, where the `if (null? s)` statement is the last expression of the procedure. Thus, `has-repeat` is a tail-recursive procedure.\n",
    "\n",
    "Note: when `has-repeat` calls `contains`, this step is not a tail-context. However, the procedure `contains` itself is already tail-recursive. "
   ]
  },
  {
   "cell_type": "markdown",
   "metadata": {},
   "source": [
    "#### `fib`"
   ]
  },
  {
   "cell_type": "code",
   "execution_count": null,
   "metadata": {},
   "outputs": [],
   "source": [
    ";; Return the nth Fibonacci number\n",
    "(define (fib n)\n",
    "  (define (fib-iter current k)\n",
    "    (if (= k n)\n",
    "        current\n",
    "        (fib-iter (+ current\n",
    "                     (fib (- k 1)))\n",
    "                  (+ k 1)\n",
    "                  ); End of fib-iter\n",
    "        ) ; End of if(= k n)\n",
    "    ) ; End of fib-iter definition\n",
    "  (if (= 1 n)\n",
    "      0\n",
    "      (fib-iter 1 2)\n",
    "      ) ; End of if (= 1 n)\n",
    "  )"
   ]
  },
  {
   "cell_type": "markdown",
   "metadata": {},
   "source": [
    "The outer `if` statement,"
   ]
  },
  {
   "cell_type": "code",
   "execution_count": null,
   "metadata": {},
   "outputs": [],
   "source": [
    "(if (= 1 n)\n",
    "      0\n",
    "      (fib-iter 1 2)\n",
    "      ) ; End of if (= 1 n)"
   ]
  },
  {
   "cell_type": "markdown",
   "metadata": {},
   "source": [
    "...is in a tail-context. "
   ]
  },
  {
   "cell_type": "code",
   "execution_count": null,
   "metadata": {},
   "outputs": [],
   "source": [
    "(if (= k n)\n",
    "        current\n",
    "        (fib-iter (+ current\n",
    "                     (fib (- k 1)))\n",
    "                  (+ k 1)\n",
    "                  ); End of fib-iter\n",
    "        ) ; End of if(= k n)"
   ]
  },
  {
   "cell_type": "markdown",
   "metadata": {},
   "source": [
    "Above, the whole `if` statement as the body of `fib-iter` is also in a tail context. Thus, the `alternative`,"
   ]
  },
  {
   "cell_type": "code",
   "execution_count": null,
   "metadata": {},
   "outputs": [],
   "source": [
    "(fib-iter (+ current\n",
    "                     (fib (- k 1)))\n",
    "                  (+ k 1)\n",
    "                  ); End of fib-iter"
   ]
  },
  {
   "cell_type": "markdown",
   "metadata": {},
   "source": [
    "...is also in a tail context. However, the following sub-expression,"
   ]
  },
  {
   "cell_type": "code",
   "execution_count": null,
   "metadata": {},
   "outputs": [],
   "source": [
    "(+ current\n",
    "   (fib (- k 1))"
   ]
  },
  {
   "cell_type": "markdown",
   "metadata": {},
   "source": [
    "...is not a tail-context. We have to sum up the recursive `fib` call with `current`. Thus, the `fib` procedure is not going to run in constant space."
   ]
  }
 ],
 "metadata": {
  "kernelspec": {
   "display_name": "Calysto Scheme 3",
   "language": "scheme",
   "name": "calysto_scheme"
  },
  "language_info": {
   "codemirror_mode": {
    "name": "scheme"
   },
   "mimetype": "text/x-scheme",
   "name": "scheme",
   "pygments_lexer": "scheme"
  }
 },
 "nbformat": 4,
 "nbformat_minor": 4
}
