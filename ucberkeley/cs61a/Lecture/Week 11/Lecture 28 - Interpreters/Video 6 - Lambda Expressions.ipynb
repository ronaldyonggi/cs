{
 "cells": [
  {
   "cell_type": "markdown",
   "metadata": {},
   "source": [
    "# Lambda Expressions"
   ]
  },
  {
   "cell_type": "markdown",
   "metadata": {},
   "source": [
    "Lambda expressions evaluate to user-defined procedures. \n",
    "\n",
    "With lambda expressions, we have a whole expression that starts with `lambda`, and when we evaluate it we obtain a new procedure that we didn't have before."
   ]
  },
  {
   "cell_type": "code",
   "execution_count": null,
   "metadata": {},
   "outputs": [],
   "source": [
    "(lambda (<formal-parameters>) <body>)"
   ]
  },
  {
   "cell_type": "markdown",
   "metadata": {},
   "source": [
    "For example, if we have the following,"
   ]
  },
  {
   "cell_type": "code",
   "execution_count": null,
   "metadata": {},
   "outputs": [],
   "source": [
    "(lambda (x) (* x x))"
   ]
  },
  {
   "cell_type": "markdown",
   "metadata": {},
   "source": [
    "Above defines a procedure that squares values. \n",
    "\n",
    "In Python, we introduce a class `LambdaProcedure`"
   ]
  },
  {
   "cell_type": "code",
   "execution_count": null,
   "metadata": {},
   "outputs": [],
   "source": [
    "class LambdaProcedure:\n",
    "    \n",
    "    def __init__(self, formals, body, env):\n",
    "        self.formals = formals\n",
    "        self.body = body\n",
    "        self.env = env"
   ]
  },
  {
   "cell_type": "markdown",
   "metadata": {},
   "source": [
    "1. `formals` is a scheme list of symbols that tells us the names of the arguments that are passed.\n",
    "2. `body` is a scheme expression that tells us what to evaluate when we call or apply the `LambdaProcedure`\n",
    "3. `env` is a `Frame` instance that tells us the first frame of the environment where the `LambdaProcedure` was defined"
   ]
  },
  {
   "cell_type": "markdown",
   "metadata": {},
   "source": [
    "## Frames and Environments"
   ]
  },
  {
   "cell_type": "markdown",
   "metadata": {},
   "source": [
    "A frame represents an environment by having a parent frame. In the interpreter, Frames are Python instances with methods `lookup` and `define`. In the project, Frames don't have return values. "
   ]
  },
  {
   "cell_type": "markdown",
   "metadata": {},
   "source": [
    "## Demo"
   ]
  },
  {
   "cell_type": "markdown",
   "metadata": {},
   "source": [
    "We'll do a demo where we'll have a Global frame `g` with `y` and `z` are bound to `3` and `5`, respectively, and another frame `f1` with `x` and `z` bound to `2` and `4`, respectively."
   ]
  },
  {
   "cell_type": "markdown",
   "metadata": {},
   "source": [
    "<img src = 'frame.png' width = 200/>"
   ]
  },
  {
   "cell_type": "markdown",
   "metadata": {},
   "source": [
    "We can run the `scheme.py` on Python's side by running interactive `-i` then quitting the Scheme session."
   ]
  },
  {
   "cell_type": "code",
   "execution_count": null,
   "metadata": {},
   "outputs": [],
   "source": [
    "python -i scheme.py"
   ]
  },
  {
   "cell_type": "markdown",
   "metadata": {},
   "source": [
    "In Python, we've loaded up all the different functions and classes that we've defined for the Scheme interpreter. "
   ]
  },
  {
   "cell_type": "code",
   "execution_count": null,
   "metadata": {},
   "outputs": [],
   "source": [
    ">>> Frame\n",
    "<class '__main__.Frame'>\n",
    ">>> scheme_eval\n",
    "<function scheme_eval at 0x7fad1ed47e18>"
   ]
  },
  {
   "cell_type": "markdown",
   "metadata": {},
   "source": [
    "Now we're going to make `g` a Frame that has no parent frame."
   ]
  },
  {
   "cell_type": "code",
   "execution_count": null,
   "metadata": {},
   "outputs": [],
   "source": [
    ">>> g = Frame(None)\n",
    ">>> g\n",
    "<Global Frame>"
   ]
  },
  {
   "cell_type": "markdown",
   "metadata": {},
   "source": [
    "Then we make `f1` a Frame with `g` as its parent."
   ]
  },
  {
   "cell_type": "code",
   "execution_count": null,
   "metadata": {},
   "outputs": [],
   "source": [
    ">>> f1 = Frame(g)\n",
    ">>> f1\n",
    "<{} -> <Global Frame>>"
   ]
  },
  {
   "cell_type": "markdown",
   "metadata": {},
   "source": [
    "As we can see above, `f1` is a frame that currently has no bindings within it and is followed by the Global frame. \n",
    "\n",
    "Now we'll define `y` and `z` in `g`."
   ]
  },
  {
   "cell_type": "code",
   "execution_count": null,
   "metadata": {},
   "outputs": [],
   "source": [
    ">>> g.define('y', 3)\n",
    ">>> g.define('z', 5)"
   ]
  },
  {
   "cell_type": "markdown",
   "metadata": {},
   "source": [
    "Now if we try to look up their values using the `lookup` method,"
   ]
  },
  {
   "cell_type": "code",
   "execution_count": null,
   "metadata": {},
   "outputs": [],
   "source": [
    ">>> g.lookup('y')\n",
    "3\n",
    ">>> g.lookup('z')\n",
    "5"
   ]
  },
  {
   "cell_type": "markdown",
   "metadata": {},
   "source": [
    "It works! Now if we define `x` and `z` in `f1`,"
   ]
  },
  {
   "cell_type": "code",
   "execution_count": null,
   "metadata": {},
   "outputs": [],
   "source": [
    ">>> f1.define('x', 2)\n",
    ">>> f1.define('z', 4)\n",
    ">>> f1\n",
    "<{x: 2, z: 4} -> <Global Frame>>"
   ]
  },
  {
   "cell_type": "markdown",
   "metadata": {},
   "source": [
    "As we can see above, when we try to see what `f1` is, this time `f1` has bindings!\n",
    "\n",
    "Now if we try to look up the symbols,"
   ]
  },
  {
   "cell_type": "code",
   "execution_count": null,
   "metadata": {},
   "outputs": [],
   "source": [
    ">>> f1.lookup('x')\n",
    "2\n",
    ">>> f1.lookup('z')\n",
    "4"
   ]
  },
  {
   "cell_type": "markdown",
   "metadata": {},
   "source": [
    "As we can see, `z` in `f1` frame is bound to `4`. While `z` in `g` is still bound to `5`."
   ]
  },
  {
   "cell_type": "code",
   "execution_count": null,
   "metadata": {},
   "outputs": [],
   "source": [
    ">>> g.lookup('z')\n",
    "5"
   ]
  },
  {
   "cell_type": "markdown",
   "metadata": {},
   "source": [
    "However, if we try to look for `y` in `f1`, it works since the program will look through the parent of `f1` if the name is not found in the current frame."
   ]
  },
  {
   "cell_type": "code",
   "execution_count": null,
   "metadata": {},
   "outputs": [],
   "source": [
    ">>> f1.lookup('y')\n",
    "3"
   ]
  },
  {
   "cell_type": "code",
   "execution_count": null,
   "metadata": {},
   "outputs": [],
   "source": []
  },
  {
   "cell_type": "code",
   "execution_count": null,
   "metadata": {},
   "outputs": [],
   "source": []
  }
 ],
 "metadata": {
  "kernelspec": {
   "display_name": "Python 3",
   "language": "python",
   "name": "python3"
  },
  "language_info": {
   "codemirror_mode": {
    "name": "ipython",
    "version": 3
   },
   "file_extension": ".py",
   "mimetype": "text/x-python",
   "name": "python",
   "nbconvert_exporter": "python",
   "pygments_lexer": "ipython3",
   "version": "3.7.3"
  }
 },
 "nbformat": 4,
 "nbformat_minor": 2
}
