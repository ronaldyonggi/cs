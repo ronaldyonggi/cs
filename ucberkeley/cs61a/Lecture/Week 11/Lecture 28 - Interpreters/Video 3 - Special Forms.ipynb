{
 "cells": [
  {
   "cell_type": "markdown",
   "metadata": {},
   "source": [
    "# Special Forms"
   ]
  },
  {
   "cell_type": "markdown",
   "metadata": {},
   "source": [
    "## Scheme Evaluation"
   ]
  },
  {
   "cell_type": "markdown",
   "metadata": {},
   "source": [
    "When evaluating a Scheme expression, we need to know the type of the expression. **Calculator** only divided Scheme expressions into numbers and call expressions. In Scheme, there are other alternatives as well.\n",
    "\n",
    "The `scheme_eval` function dispatches on expression form: (meaning that it has variety options of what it will do depending on the type of expression it receives)\n",
    "1. Symbols are bound to values in the current environment\n",
    "2. Self-evaluating expressions (numbers, empty lists `()`) are returned\n",
    "3. All other legal expressions are represented as Scheme lists, called **combinations**.\n",
    "    * We call it **combinations** just to say that it's a well-formed Scheme list that's part of some Scheme source code.\n",
    "    \n",
    "Some examples of **combinations** are `if`, `lambda`, `define`, and regular call expressions."
   ]
  },
  {
   "cell_type": "code",
   "execution_count": null,
   "metadata": {},
   "outputs": [],
   "source": [
    "(if <predicate> <consequent> <alternative>)"
   ]
  },
  {
   "cell_type": "code",
   "execution_count": null,
   "metadata": {},
   "outputs": [],
   "source": [
    "(lambda (<formal-parameters>) <body>)"
   ]
  },
  {
   "cell_type": "code",
   "execution_count": null,
   "metadata": {},
   "outputs": [],
   "source": [
    "(define <name> <expression>)"
   ]
  },
  {
   "cell_type": "code",
   "execution_count": null,
   "metadata": {},
   "outputs": [],
   "source": [
    "(<operator> <operand 0> ... <operand k>) "
   ]
  },
  {
   "cell_type": "markdown",
   "metadata": {},
   "source": [
    "If we see a combinations that starts with `if` or `lambda` or `define`, then we can tell that it's a special form."
   ]
  },
  {
   "cell_type": "markdown",
   "metadata": {},
   "source": [
    "<img src = 'special.png' width = 500/>"
   ]
  },
  {
   "cell_type": "markdown",
   "metadata": {},
   "source": [
    "If it's not any of those, then we can tell that it's a call expression. We evaluate the `<operator>` (which could be a built-in name, or a user-defined procedure) and gets back a procedure that we can apply to the arguments, which are the values of the operand sub-expressions `<operand 0> ... <operand k>`"
   ]
  },
  {
   "cell_type": "markdown",
   "metadata": {},
   "source": [
    "<img src = 'special_1.png' width = 500/>"
   ]
  },
  {
   "cell_type": "markdown",
   "metadata": {},
   "source": [
    "With this, we can do things that we couldn't do with the **calculator** program. We can define our own procedure and call it. Here is an example of a function called `demo`."
   ]
  },
  {
   "cell_type": "code",
   "execution_count": null,
   "metadata": {},
   "outputs": [],
   "source": [
    "(define (demo s)\n",
    "  (if (null? s)\n",
    "      '(3) ; If s is null, then return a list containing 3\n",
    "      (cons (car s)\n",
    "            (demo (cdr s))\n",
    "            ) ; End of cons\n",
    "      ) ; End of if statement\n",
    "  ) ; End of demo definition"
   ]
  },
  {
   "cell_type": "markdown",
   "metadata": {},
   "source": [
    "## Demo"
   ]
  },
  {
   "cell_type": "markdown",
   "metadata": {},
   "source": [
    "If we look at the `scheme.py` file in Project 4, we have the following lines in the beginning,"
   ]
  },
  {
   "cell_type": "code",
   "execution_count": null,
   "metadata": {},
   "outputs": [],
   "source": [
    "##############\n",
    "# Eval/Apply #\n",
    "##############\n",
    "\n",
    "def scheme_eval(expr, env, _=None): # Optional third argument is ignored"
   ]
  },
  {
   "cell_type": "markdown",
   "metadata": {},
   "source": [
    "`scheme_eval` evaluates a Scheme expression, which could be just a number or a combination. \n",
    "\n",
    "We are going to trace the program by adding the decorator `@trace` above the `scheme_eval` definition,"
   ]
  },
  {
   "cell_type": "code",
   "execution_count": null,
   "metadata": {},
   "outputs": [],
   "source": [
    "@trace\n",
    "def scheme_eval(expr, env, _=None): # Optional third argument is ignored"
   ]
  },
  {
   "cell_type": "markdown",
   "metadata": {},
   "source": [
    "Now let's start the interpreter by running the following (make sure the `scheme.py` and other files are within the same directory!)"
   ]
  },
  {
   "cell_type": "code",
   "execution_count": null,
   "metadata": {},
   "outputs": [],
   "source": [
    "python scheme.py"
   ]
  },
  {
   "cell_type": "markdown",
   "metadata": {},
   "source": [
    "If we type out `2`, the output would be the following,"
   ]
  },
  {
   "cell_type": "code",
   "execution_count": null,
   "metadata": {},
   "outputs": [],
   "source": [
    "scm> 2\n",
    "scheme_eval(2, <Global Frame>):\n",
    "scheme_eval(2, <Global Frame>) -> 2\n",
    "2"
   ]
  },
  {
   "cell_type": "markdown",
   "metadata": {},
   "source": [
    "The number `2` involves a call to the `scheme_eval` function with `2` as the expression and that it's evaluated in `<Global Frame>`. The result is `2`."
   ]
  },
  {
   "cell_type": "code",
   "execution_count": null,
   "metadata": {},
   "outputs": [],
   "source": [
    "scheme_eval(2, <Global Frame>) -> 2"
   ]
  },
  {
   "cell_type": "markdown",
   "metadata": {},
   "source": [
    "Now if we negate `2`,"
   ]
  },
  {
   "cell_type": "code",
   "execution_count": null,
   "metadata": {},
   "outputs": [],
   "source": [
    "scm> (- 2)\n",
    "scheme_eval(Pair('-', Pair(2, nil)), <Global Frame>):\n",
    "    scheme_eval('-', <Global Frame>):\n",
    "    scheme_eval('-', <Global Frame>) -> #[-]\n",
    "    scheme_eval(2, <Global Frame>):\n",
    "    scheme_eval(2, <Global Frame>) -> 2\n",
    "scheme_eval(Pair('-', Pair(2, nil)), <Global Frame>) -> -2\n",
    "-2"
   ]
  },
  {
   "cell_type": "markdown",
   "metadata": {},
   "source": [
    "Above, we see that to convert a Python representation to a Scheme representation, the number `2` is converted to a `Pair` object!\n",
    "\n",
    "`-2` is evaluated by looking up the symbol that negates, `-`, and by evaluating the number `2`. After that, the program applies `-` to `2` to obtain `-2`.\n",
    "\n",
    "What if we run the `demo` procedure that we defined?"
   ]
  },
  {
   "cell_type": "code",
   "execution_count": null,
   "metadata": {},
   "outputs": [],
   "source": [
    "scm> (define (demo s)\n",
    "       (if (null? s)\n",
    "           '(3) ; If s is null, then return a list containing 3\n",
    "           (cons (car s)\n",
    "                 (demo (cdr s))\n",
    "                 ) ; End of cons\n",
    "           ) ; End of if statement\n",
    "       ) ; End of demo definition\n",
    "scheme_eval(Pair('define', Pair(Pair('demo', Pair('s', nil)), Pair(Pair('if', Pair(Pair('null?', Pair('s', nil)), Pair(Pair('quote', Pair(Pair(3, nil), nil)), Pair(Pair('cons', Pair(Pair('car', Pair('s', nil)), Pair(Pair('demo', Pair(Pair('cdr', Pair('s', nil)), nil)), nil))), nil)))), nil))), <Global Frame>):\n",
    "scheme_eval(Pair('define', Pair(Pair('demo', Pair('s', nil)), Pair(Pair('if', Pair(Pair('null?', Pair('s', nil)), Pair(Pair('quote', Pair(Pair(3, nil), nil)), Pair(Pair('cons', Pair(Pair('car', Pair('s', nil)), Pair(Pair('demo', Pair(Pair('cdr', Pair('s', nil)), nil)), nil))), nil)))), nil))), <Global Frame>) -> demo\n",
    "demo"
   ]
  },
  {
   "cell_type": "markdown",
   "metadata": {},
   "source": [
    "The `scheme_eval` hasn't evaluated the body of the procedure. It only creates the `demo` procedure. Now what if we call the `demo` procedure on `(list 1 2)`?"
   ]
  },
  {
   "cell_type": "code",
   "execution_count": null,
   "metadata": {},
   "outputs": [],
   "source": [
    "scm> (demo (list 1 2))\n",
    "scheme_eval(Pair('demo', Pair(Pair('list', Pair(1, Pair(2, nil))), nil)), <Global Frame>):\n",
    "    scheme_eval('demo', <Global Frame>):\n",
    "    scheme_eval('demo', <Global Frame>) -> (lambda (s) (if (null? s) (quote (3)) (cons (car s) (demo (cdr s)))))\n",
    "    scheme_eval(Pair('list', Pair(1, Pair(2, nil))), <Global Frame>):\n",
    "        scheme_eval('list', <Global Frame>):\n",
    "        scheme_eval('list', <Global Frame>) -> #[list]\n",
    "        scheme_eval(1, <Global Frame>):\n",
    "        scheme_eval(1, <Global Frame>) -> 1\n",
    "        scheme_eval(2, <Global Frame>):\n",
    "        scheme_eval(2, <Global Frame>) -> 2\n",
    "    scheme_eval(Pair('list', Pair(1, Pair(2, nil))), <Global Frame>) -> (1 2)\n",
    "    scheme_eval(Pair('if', Pair(Pair('null?', Pair('s', nil)), Pair(Pair('quote', Pair(Pair(3, nil), nil)), Pair(Pair('cons', Pair(Pair('car', Pair('s', nil)), Pair(Pair('demo', Pair(Pair('cdr', Pair('s', nil)), nil)), nil))), nil)))), <{s: (1 2)} -> <Global Frame>>):\n",
    "        scheme_eval(Pair('null?', Pair('s', nil)), <{s: (1 2)} -> <Global Frame>>):\n",
    "            scheme_eval('null?', <{s: (1 2)} -> <Global Frame>>):\n",
    "            scheme_eval('null?', <{s: (1 2)} -> <Global Frame>>) -> #[null?]\n",
    "            scheme_eval('s', <{s: (1 2)} -> <Global Frame>>):\n",
    "            scheme_eval('s', <{s: (1 2)} -> <Global Frame>>) -> (1 2)\n",
    "        scheme_eval(Pair('null?', Pair('s', nil)), <{s: (1 2)} -> <Global Frame>>) -> False\n",
    "        scheme_eval(Pair('cons', Pair(Pair('car', Pair('s', nil)), Pair(Pair('demo', Pair(Pair('cdr', Pair('s', nil)), nil)), nil))), <{s: (1 2)} -> <Global Frame>>):\n",
    "            scheme_eval('cons', <{s: (1 2)} -> <Global Frame>>):\n",
    "            scheme_eval('cons', <{s: (1 2)} -> <Global Frame>>) -> #[cons]\n",
    "            scheme_eval(Pair('car', Pair('s', nil)), <{s: (1 2)} -> <Global Frame>>):\n",
    "                scheme_eval('car', <{s: (1 2)} -> <Global Frame>>):\n",
    "                scheme_eval('car', <{s: (1 2)} -> <Global Frame>>) -> #[car]\n",
    "                scheme_eval('s', <{s: (1 2)} -> <Global Frame>>):\n",
    "                scheme_eval('s', <{s: (1 2)} -> <Global Frame>>) -> (1 2)\n",
    "            scheme_eval(Pair('car', Pair('s', nil)), <{s: (1 2)} -> <Global Frame>>) -> 1\n",
    "            scheme_eval(Pair('demo', Pair(Pair('cdr', Pair('s', nil)), nil)), <{s: (1 2)} -> <Global Frame>>):\n",
    "                scheme_eval('demo', <{s: (1 2)} -> <Global Frame>>):\n",
    "                scheme_eval('demo', <{s: (1 2)} -> <Global Frame>>) -> (lambda (s) (if (null? s) (quote (3)) (cons (car s) (demo (cdr s)))))\n",
    "                scheme_eval(Pair('cdr', Pair('s', nil)), <{s: (1 2)} -> <Global Frame>>):\n",
    "                    scheme_eval('cdr', <{s: (1 2)} -> <Global Frame>>):\n",
    "                    scheme_eval('cdr', <{s: (1 2)} -> <Global Frame>>) -> #[cdr]\n",
    "                    scheme_eval('s', <{s: (1 2)} -> <Global Frame>>):\n",
    "                    scheme_eval('s', <{s: (1 2)} -> <Global Frame>>) -> (1 2)\n",
    "                scheme_eval(Pair('cdr', Pair('s', nil)), <{s: (1 2)} -> <Global Frame>>) -> (2)\n",
    "                scheme_eval(Pair('if', Pair(Pair('null?', Pair('s', nil)), Pair(Pair('quote', Pair(Pair(3, nil), nil)), Pair(Pair('cons', Pair(Pair('car', Pair('s', nil)), Pair(Pair('demo', Pair(Pair('cdr', Pair('s', nil)), nil)), nil))), nil)))), <{s: (2)} -> <Global Frame>>):\n",
    "                    scheme_eval(Pair('null?', Pair('s', nil)), <{s: (2)} -> <Global Frame>>):\n",
    "                        scheme_eval('null?', <{s: (2)} -> <Global Frame>>):\n",
    "                        scheme_eval('null?', <{s: (2)} -> <Global Frame>>) -> #[null?]\n",
    "                        scheme_eval('s', <{s: (2)} -> <Global Frame>>):\n",
    "                        scheme_eval('s', <{s: (2)} -> <Global Frame>>) -> (2)\n",
    "                    scheme_eval(Pair('null?', Pair('s', nil)), <{s: (2)} -> <Global Frame>>) -> False\n",
    "                    scheme_eval(Pair('cons', Pair(Pair('car', Pair('s', nil)), Pair(Pair('demo', Pair(Pair('cdr', Pair('s', nil)), nil)), nil))), <{s: (2)} -> <Global Frame>>):\n",
    "                        scheme_eval('cons', <{s: (2)} -> <Global Frame>>):\n",
    "                        scheme_eval('cons', <{s: (2)} -> <Global Frame>>) -> #[cons]\n",
    "                        scheme_eval(Pair('car', Pair('s', nil)), <{s: (2)} -> <Global Frame>>):\n",
    "                            scheme_eval('car', <{s: (2)} -> <Global Frame>>):\n",
    "                            scheme_eval('car', <{s: (2)} -> <Global Frame>>) -> #[car]\n",
    "                            scheme_eval('s', <{s: (2)} -> <Global Frame>>):\n",
    "                            scheme_eval('s', <{s: (2)} -> <Global Frame>>) -> (2)\n",
    "                        scheme_eval(Pair('car', Pair('s', nil)), <{s: (2)} -> <Global Frame>>) -> 2\n",
    "                        scheme_eval(Pair('demo', Pair(Pair('cdr', Pair('s', nil)), nil)), <{s: (2)} -> <Global Frame>>):\n",
    "                            scheme_eval('demo', <{s: (2)} -> <Global Frame>>):\n",
    "                            scheme_eval('demo', <{s: (2)} -> <Global Frame>>) -> (lambda (s) (if (null? s) (quote (3)) (cons (car s) (demo (cdr s)))))\n",
    "                            scheme_eval(Pair('cdr', Pair('s', nil)), <{s: (2)} -> <Global Frame>>):\n",
    "                                scheme_eval('cdr', <{s: (2)} -> <Global Frame>>):\n",
    "                                scheme_eval('cdr', <{s: (2)} -> <Global Frame>>) -> #[cdr]\n",
    "                                scheme_eval('s', <{s: (2)} -> <Global Frame>>):\n",
    "                                scheme_eval('s', <{s: (2)} -> <Global Frame>>) -> (2)\n",
    "                            scheme_eval(Pair('cdr', Pair('s', nil)), <{s: (2)} -> <Global Frame>>) -> ()\n",
    "                            scheme_eval(Pair('if', Pair(Pair('null?', Pair('s', nil)), Pair(Pair('quote', Pair(Pair(3, nil), nil)), Pair(Pair('cons', Pair(Pair('car', Pair('s', nil)), Pair(Pair('demo', Pair(Pair('cdr', Pair('s', nil)), nil)), nil))), nil)))), <{s: ()} -> <Global Frame>>):\n",
    "                                scheme_eval(Pair('null?', Pair('s', nil)), <{s: ()} -> <Global Frame>>):\n",
    "                                    scheme_eval('null?', <{s: ()} -> <Global Frame>>):\n",
    "                                    scheme_eval('null?', <{s: ()} -> <Global Frame>>) -> #[null?]\n",
    "                                    scheme_eval('s', <{s: ()} -> <Global Frame>>):\n",
    "                                    scheme_eval('s', <{s: ()} -> <Global Frame>>) -> ()\n",
    "                                scheme_eval(Pair('null?', Pair('s', nil)), <{s: ()} -> <Global Frame>>) -> True\n",
    "                                scheme_eval(Pair('quote', Pair(Pair(3, nil), nil)), <{s: ()} -> <Global Frame>>):\n",
    "                                scheme_eval(Pair('quote', Pair(Pair(3, nil), nil)), <{s: ()} -> <Global Frame>>) -> (3)\n",
    "                            scheme_eval(Pair('if', Pair(Pair('null?', Pair('s', nil)), Pair(Pair('quote', Pair(Pair(3, nil), nil)), Pair(Pair('cons', Pair(Pair('car', Pair('s', nil)), Pair(Pair('demo', Pair(Pair('cdr', Pair('s', nil)), nil)), nil))), nil)))), <{s: ()} -> <Global Frame>>) -> (3)\n",
    "                        scheme_eval(Pair('demo', Pair(Pair('cdr', Pair('s', nil)), nil)), <{s: (2)} -> <Global Frame>>) -> (3)\n",
    "                    scheme_eval(Pair('cons', Pair(Pair('car', Pair('s', nil)), Pair(Pair('demo', Pair(Pair('cdr', Pair('s', nil)), nil)), nil))), <{s: (2)} -> <Global Frame>>) -> (2 3)\n",
    "                scheme_eval(Pair('if', Pair(Pair('null?', Pair('s', nil)), Pair(Pair('quote', Pair(Pair(3, nil), nil)), Pair(Pair('cons', Pair(Pair('car', Pair('s', nil)), Pair(Pair('demo', Pair(Pair('cdr', Pair('s', nil)), nil)), nil))), nil)))), <{s: (2)} -> <Global Frame>>) -> (2 3)\n",
    "            scheme_eval(Pair('demo', Pair(Pair('cdr', Pair('s', nil)), nil)), <{s: (1 2)} -> <Global Frame>>) -> (2 3)\n",
    "        scheme_eval(Pair('cons', Pair(Pair('car', Pair('s', nil)), Pair(Pair('demo', Pair(Pair('cdr', Pair('s', nil)), nil)), nil))), <{s: (1 2)} -> <Global Frame>>) -> (1 2 3)\n",
    "    scheme_eval(Pair('if', Pair(Pair('null?', Pair('s', nil)), Pair(Pair('quote', Pair(Pair(3, nil), nil)), Pair(Pair('cons', Pair(Pair('car', Pair('s', nil)), Pair(Pair('demo', Pair(Pair('cdr', Pair('s', nil)), nil)), nil))), nil)))), <{s: (1 2)} -> <Global Frame>>) -> (1 2 3)\n",
    "scheme_eval(Pair('demo', Pair(Pair('list', Pair(1, Pair(2, nil))), nil)), <Global Frame>) -> (1 2 3)\n",
    "(1 2 3)"
   ]
  },
  {
   "cell_type": "markdown",
   "metadata": {},
   "source": [
    "A lot of work happened! Let's break down the steps."
   ]
  },
  {
   "cell_type": "code",
   "execution_count": null,
   "metadata": {},
   "outputs": [],
   "source": [
    "scheme_eval(Pair('demo', Pair(Pair('list', Pair(1, Pair(2, nil))), nil)), <Global Frame>):"
   ]
  },
  {
   "cell_type": "markdown",
   "metadata": {},
   "source": [
    "In the beginning, we call `demo` on `(list 1 2)`, which means we are evaluating the expression `Pair('demo', Pair(Pair('list', Pair(1, Pair(2, nil))), nil))`\n",
    "\n",
    "`demo` is a function which body we defined earlier."
   ]
  },
  {
   "cell_type": "code",
   "execution_count": null,
   "metadata": {},
   "outputs": [],
   "source": [
    "scheme_eval('demo', <Global Frame>) -> (lambda (s) (if (null? s) (quote (3)) (cons (car s) (demo (cdr s)))))"
   ]
  },
  {
   "cell_type": "markdown",
   "metadata": {},
   "source": [
    "Then the program tries to solve what `(list 1 2)` means"
   ]
  },
  {
   "cell_type": "code",
   "execution_count": null,
   "metadata": {},
   "outputs": [],
   "source": [
    "  scheme_eval(Pair('list', Pair(1, Pair(2, nil))), <Global Frame>):"
   ]
  },
  {
   "cell_type": "markdown",
   "metadata": {},
   "source": [
    "After some work, the program finds that it means `(1 2)`."
   ]
  },
  {
   "cell_type": "code",
   "execution_count": null,
   "metadata": {},
   "outputs": [],
   "source": [
    "        scheme_eval('list', <Global Frame>):\n",
    "        scheme_eval('list', <Global Frame>) -> #[list]\n",
    "        scheme_eval(1, <Global Frame>):\n",
    "        scheme_eval(1, <Global Frame>) -> 1\n",
    "        scheme_eval(2, <Global Frame>):\n",
    "        scheme_eval(2, <Global Frame>) -> 2\n",
    "    scheme_eval(Pair('list', Pair(1, Pair(2, nil))), <Global Frame>) -> (1 2)"
   ]
  },
  {
   "cell_type": "markdown",
   "metadata": {},
   "source": [
    "The next step is to apply the procedure,"
   ]
  },
  {
   "cell_type": "code",
   "execution_count": null,
   "metadata": {},
   "outputs": [],
   "source": [
    "(lambda (s) (if (null? s) (quote (3)) (cons (car s) (demo (cdr s)))))"
   ]
  },
  {
   "cell_type": "markdown",
   "metadata": {},
   "source": [
    "To the argument `(1 2)`. This involves evaluating the body of the procedure in a new environment where `s`, the formal parameter, is bound to the argument `(1 2)`. "
   ]
  },
  {
   "cell_type": "code",
   "execution_count": null,
   "metadata": {},
   "outputs": [],
   "source": [
    "scheme_eval(Pair('if', Pair(Pair('null?', Pair('s', nil)), Pair(Pair('quote', Pair(Pair(3, nil), nil)), Pair(Pair('cons', Pair(Pair('car', Pair('s', nil)), Pair(Pair('demo', Pair(Pair('cdr', Pair('s', nil)), nil)), nil))), nil)))), <{s: (1 2)} -> <Global Frame>>):"
   ]
  },
  {
   "cell_type": "code",
   "execution_count": null,
   "metadata": {},
   "outputs": [],
   "source": [
    "<{s: (1 2)} -> <Global Frame>>"
   ]
  },
  {
   "cell_type": "markdown",
   "metadata": {},
   "source": [
    "Above means that the frame where `s` is bound to `(1 2)` is followed by the global frame.\n",
    "\n",
    "Each time we make a recursive call, we're making a recursive call to the same procedure but with different environment. Notice the following,"
   ]
  },
  {
   "cell_type": "code",
   "execution_count": null,
   "metadata": {},
   "outputs": [],
   "source": [
    "scheme_eval(Pair('cdr', Pair('s', nil)), <{s: (1 2)} -> <Global Frame>>) -> (2)"
   ]
  },
  {
   "cell_type": "markdown",
   "metadata": {},
   "source": [
    "`s` is bound to `(1 2)`. But later in the course of the recursive calls, "
   ]
  },
  {
   "cell_type": "code",
   "execution_count": null,
   "metadata": {},
   "outputs": [],
   "source": [
    "scheme_eval('null?', <{s: (2)} -> <Global Frame>>):"
   ]
  },
  {
   "cell_type": "markdown",
   "metadata": {},
   "source": [
    "`s` is bound to `2`. And even further down the recursive calls, "
   ]
  },
  {
   "cell_type": "code",
   "execution_count": null,
   "metadata": {},
   "outputs": [],
   "source": [
    "scheme_eval('null?', <{s: ()} -> <Global Frame>>):"
   ]
  },
  {
   "cell_type": "markdown",
   "metadata": {},
   "source": [
    "`s` is bound to an empty list, which is the base case!"
   ]
  },
  {
   "cell_type": "code",
   "execution_count": null,
   "metadata": {},
   "outputs": [],
   "source": [
    "scheme_eval(Pair('null?', Pair('s', nil)), <{s: ()} -> <Global Frame>>) -> True"
   ]
  },
  {
   "cell_type": "markdown",
   "metadata": {},
   "source": [
    "Above, the program detected the base case. Here we return the base condition of a list containing `3`."
   ]
  },
  {
   "cell_type": "code",
   "execution_count": null,
   "metadata": {},
   "outputs": [],
   "source": [
    "scheme_eval(Pair('quote', Pair(Pair(3, nil), nil)), <{s: ()} -> <Global Frame>>) -> (3)"
   ]
  },
  {
   "cell_type": "markdown",
   "metadata": {},
   "source": [
    "Then the program builds a list that puts the number `2` on the front,"
   ]
  },
  {
   "cell_type": "code",
   "execution_count": null,
   "metadata": {},
   "outputs": [],
   "source": [
    "scheme_eval(Pair('demo', Pair(Pair('cdr', Pair('s', nil)), nil)), <{s: (1 2)} -> <Global Frame>>) -> (2 3)"
   ]
  },
  {
   "cell_type": "markdown",
   "metadata": {},
   "source": [
    "The rest of the execution builds up to the list `(1 2 3)`."
   ]
  },
  {
   "cell_type": "code",
   "execution_count": null,
   "metadata": {},
   "outputs": [],
   "source": [
    "scheme_eval(Pair('demo', Pair(Pair('cdr', Pair('s', nil)), nil)), <{s: (1 2)} -> <Global Frame>>) -> (2 3)\n",
    "        scheme_eval(Pair('cons', Pair(Pair('car', Pair('s', nil)), Pair(Pair('demo', Pair(Pair('cdr', Pair('s', nil)), nil)), nil))), <{s: (1 2)} -> <Global Frame>>) -> (1 2 3)\n",
    "    scheme_eval(Pair('if', Pair(Pair('null?', Pair('s', nil)), Pair(Pair('quote', Pair(Pair(3, nil), nil)), Pair(Pair('cons', Pair(Pair('car', Pair('s', nil)), Pair(Pair('demo', Pair(Pair('cdr', Pair('s', nil)), nil)), nil))), nil)))), <{s: (1 2)} -> <Global Frame>>) -> (1 2 3)\n",
    "scheme_eval(Pair('demo', Pair(Pair('list', Pair(1, Pair(2, nil))), nil)), <Global Frame>) -> (1 2 3)"
   ]
  }
 ],
 "metadata": {
  "kernelspec": {
   "display_name": "Python 3",
   "language": "python",
   "name": "python3"
  },
  "language_info": {
   "codemirror_mode": {
    "name": "ipython",
    "version": 3
   },
   "file_extension": ".py",
   "mimetype": "text/x-python",
   "name": "python",
   "nbconvert_exporter": "python",
   "pygments_lexer": "ipython3",
   "version": "3.7.3"
  }
 },
 "nbformat": 4,
 "nbformat_minor": 2
}
