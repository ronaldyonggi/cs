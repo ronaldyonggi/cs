{
 "cells": [
  {
   "cell_type": "markdown",
   "metadata": {},
   "source": [
    "# Sets as Ordered Lists"
   ]
  },
  {
   "cell_type": "markdown",
   "metadata": {},
   "source": [
    "A `set` is a type of collection that stores unique elements. The main operation associated with sets is checking whether a given value is in a set.\n",
    "\n",
    "There is no such built-in set data type in Scheme, but one way to represent a set is by using an ordered list, where the ordering is used to make union / intersection functions more convenient. The following few questions explore this idea. Specifically, we will represent sets using Scheme lists ordered from least to greatest with no repeated elements."
   ]
  },
  {
   "cell_type": "markdown",
   "metadata": {},
   "source": [
    "## Q5: Add\n",
    "Define `add`, which takes a set `s` and a value `v` as arguments. It returns a representation of a set containing the values in `s` and the value `v`. There should be no repeated elements in the return value."
   ]
  },
  {
   "cell_type": "markdown",
   "metadata": {},
   "source": [
    "#### WWSD"
   ]
  },
  {
   "cell_type": "code",
   "execution_count": null,
   "metadata": {},
   "outputs": [],
   "source": [
    "(define odds (list 3 5 7 9))\n",
    "(add odds 2) ; Ans: (2 3 5 7 9)"
   ]
  },
  {
   "cell_type": "code",
   "execution_count": null,
   "metadata": {},
   "outputs": [],
   "source": [
    "(define odds (list 3 5 7 9))\n",
    "(add odds 5) ; Ans: (3 5 7 9)"
   ]
  },
  {
   "cell_type": "code",
   "execution_count": null,
   "metadata": {},
   "outputs": [],
   "source": [
    "(define odds (list 3 5 7 9))\n",
    "(add odds 6) ; Ans: (3 5 6 7 9)"
   ]
  },
  {
   "cell_type": "code",
   "execution_count": null,
   "metadata": {},
   "outputs": [],
   "source": [
    "(define odds (list 3 5 7 9))\n",
    "(add odds 10) ; Ans: (3 5 7 9 10)"
   ]
  },
  {
   "cell_type": "markdown",
   "metadata": {},
   "source": [
    "#### Strategy"
   ]
  },
  {
   "cell_type": "markdown",
   "metadata": {},
   "source": [
    "This is a recursive problem where we construct and return a list. The base case is that if `s` is empty, then all of the elements in `s` are greater than `v`. In this case, we return `v` in a form of a list."
   ]
  },
  {
   "cell_type": "code",
   "execution_count": null,
   "metadata": {},
   "outputs": [],
   "source": [
    "((empty? s) (list v))"
   ]
  },
  {
   "cell_type": "markdown",
   "metadata": {},
   "source": [
    "If we find `v` within `s`, then we just return `s`."
   ]
  },
  {
   "cell_type": "code",
   "execution_count": null,
   "metadata": {},
   "outputs": [],
   "source": [
    "((= (car s) v) s)"
   ]
  },
  {
   "cell_type": "markdown",
   "metadata": {},
   "source": [
    "Since the set `s` is ordered, we can assume that the first element of `s` is the smallest element. Thus, if `v` is less than `car s`, then we can just construct a list with `v` as the `.first` and `s` as the `.rest`. This logic can be applied at any position in the list `s`."
   ]
  },
  {
   "cell_type": "code",
   "execution_count": null,
   "metadata": {},
   "outputs": [],
   "source": [
    "((< v (car s)) (cons v s))"
   ]
  },
  {
   "cell_type": "markdown",
   "metadata": {},
   "source": [
    "Otherwise, as long as we haven't run out of `s`, we move on to the next element by constructing a list where the `.first` is `car s` and the `.rest` is recursive call of `add` on `cdr s` "
   ]
  },
  {
   "cell_type": "code",
   "execution_count": null,
   "metadata": {},
   "outputs": [],
   "source": [
    "(else (cons (car s) (add (cdr s) v)))"
   ]
  },
  {
   "cell_type": "markdown",
   "metadata": {},
   "source": [
    "The implementation looks like the following,"
   ]
  },
  {
   "cell_type": "code",
   "execution_count": 1,
   "metadata": {},
   "outputs": [],
   "source": [
    "(define (add s v)\n",
    "  (cond\n",
    "   ((empty? s) (list v))\n",
    "   ((= (car s) v) s)\n",
    "   ((< v (car s)) (cons v s))\n",
    "   (else (cons (car s) (add (cdr s) v)))\n",
    "   ) ; End of cond\n",
    "  ) ;End of define"
   ]
  },
  {
   "cell_type": "markdown",
   "metadata": {},
   "source": [
    "## Q6: Contains"
   ]
  },
  {
   "cell_type": "markdown",
   "metadata": {},
   "source": [
    "Define `contains`, which returns whether a set `s` contains value `v`."
   ]
  },
  {
   "cell_type": "markdown",
   "metadata": {},
   "source": [
    "#### WWSD"
   ]
  },
  {
   "cell_type": "code",
   "execution_count": null,
   "metadata": {},
   "outputs": [],
   "source": [
    "(define odds (list 3 5 7 9))\n",
    "(contains? odds 3)\n",
    "; Ans: True"
   ]
  },
  {
   "cell_type": "code",
   "execution_count": null,
   "metadata": {},
   "outputs": [],
   "source": [
    "(define odds (list 3 5 7 9))\n",
    "(contains? odds 9)\n",
    "; True"
   ]
  },
  {
   "cell_type": "code",
   "execution_count": null,
   "metadata": {},
   "outputs": [],
   "source": [
    "(define odds (list 3 5 7 9))\n",
    "(contains? odds 6)\n",
    "; False"
   ]
  },
  {
   "cell_type": "markdown",
   "metadata": {},
   "source": [
    "#### Strategy"
   ]
  },
  {
   "cell_type": "markdown",
   "metadata": {},
   "source": [
    "We can use `cond` and do multiple condition checks just like the following,"
   ]
  },
  {
   "cell_type": "code",
   "execution_count": null,
   "metadata": {},
   "outputs": [],
   "source": [
    "(define (contains s v)\n",
    "  (cond\n",
    "   ((empty? s) #f)\n",
    "   ((= (car s) v) #t)\n",
    "   (else (contains (cdr s) v))\n",
    "   ); End of cond\n",
    "  ); End of define"
   ]
  },
  {
   "cell_type": "markdown",
   "metadata": {},
   "source": [
    "However, we can shorten the implementation by combining these in an `or` special form:\n",
    "\n",
    "1. Checking whether `car s` is equal to `v`\n",
    "2. Calling the recursive `contains` on `cdr s`"
   ]
  },
  {
   "cell_type": "code",
   "execution_count": null,
   "metadata": {},
   "outputs": [],
   "source": [
    "(define (contains s v)\n",
    "  (if (empty? s)\n",
    "      #f\n",
    "      (or (= (car s) v) (contains (cdr s) v))"
   ]
  },
  {
   "cell_type": "markdown",
   "metadata": {},
   "source": [
    "## Q7: Intersect and Union"
   ]
  },
  {
   "cell_type": "markdown",
   "metadata": {},
   "source": [
    "Define:\n",
    "\n",
    "**1.** `intersect`, which returns a set containing only values that appear in both sets `s` and `t`\n",
    "\n",
    "**2.** `union`, which returns a set containing all values that appear in either set `s` or `t`.\n",
    "\n",
    "The implementation for both functions should run in linear time in the length of the input sets."
   ]
  },
  {
   "cell_type": "markdown",
   "metadata": {},
   "source": [
    "#### WWSD - `intersect`"
   ]
  },
  {
   "cell_type": "code",
   "execution_count": null,
   "metadata": {},
   "outputs": [],
   "source": [
    "(define odds (list 3 5 7 9))\n",
    "(define eight (list 1 2 3 4 5 6 7 8))\n",
    "(intersect odds (list 2 3 4 5))\n",
    "; Ans: (3 5)"
   ]
  },
  {
   "cell_type": "code",
   "execution_count": null,
   "metadata": {},
   "outputs": [],
   "source": [
    "(define odds (list 3 5 7 9))\n",
    "(define eight (list 1 2 3 4 5 6 7 8))\n",
    "(intersect odds (list 2 4 6 8))\n",
    "; Ans: ()"
   ]
  },
  {
   "cell_type": "code",
   "execution_count": null,
   "metadata": {},
   "outputs": [],
   "source": [
    "(define odds (list 3 5 7 9))\n",
    "(define eight (list 1 2 3 4 5 6 7 8))\n",
    "(intersect odds eight)\n",
    "; Ans: (3 5 7)"
   ]
  },
  {
   "cell_type": "markdown",
   "metadata": {},
   "source": [
    "#### Strategy"
   ]
  },
  {
   "cell_type": "markdown",
   "metadata": {},
   "source": [
    "This is a recursive case with multiple possible conditions. The base case is if we ran out of elements in either `s` or `t`, then return an empty list."
   ]
  },
  {
   "cell_type": "code",
   "execution_count": null,
   "metadata": {},
   "outputs": [],
   "source": [
    "((or (empty? s) (empty? t)) ())"
   ]
  },
  {
   "cell_type": "markdown",
   "metadata": {},
   "source": [
    "Then if the currently selected elements on `s` and `t` are the same, start constructing a list with that element as the `.first` and recursive call `intersect` on the next element of both lists as the `.rest`."
   ]
  },
  {
   "cell_type": "code",
   "execution_count": null,
   "metadata": {},
   "outputs": [],
   "source": [
    "((= (car s) (car t)) (cons (car s) (intersect (cdr s) (cdr t))))"
   ]
  },
  {
   "cell_type": "markdown",
   "metadata": {},
   "source": [
    "Then if the currently selected element for `s` is greater than that of `t`, recursive call `intersect` but this time we proceed `t`'s pointer."
   ]
  },
  {
   "cell_type": "code",
   "execution_count": null,
   "metadata": {},
   "outputs": [],
   "source": [
    "((> (car s) (car t)) (intersect s (cdr t)))"
   ]
  },
  {
   "cell_type": "markdown",
   "metadata": {},
   "source": [
    "And the same goes for the other way around,"
   ]
  },
  {
   "cell_type": "code",
   "execution_count": null,
   "metadata": {},
   "outputs": [],
   "source": [
    "((< (car s) (car t)) (intersect (cdr s) t))"
   ]
  },
  {
   "cell_type": "markdown",
   "metadata": {},
   "source": [
    "The implementation would look like the following,"
   ]
  },
  {
   "cell_type": "code",
   "execution_count": null,
   "metadata": {},
   "outputs": [],
   "source": [
    "(define (intersect s t)\n",
    "  (cond\n",
    "   ((or (empty? s) (empty? t)) ())\n",
    "   ((= (car s) (car t)) (cons (car s) (intersect (cdr s) (cdr t))))\n",
    "   ((> (car s) (car t)) (intersect s (cdr t)))\n",
    "   ((< (car s) (car t)) (intersect (cdr s) t))\n",
    "   ) ; End of cond\n",
    "  ) ; End of intersect"
   ]
  },
  {
   "cell_type": "markdown",
   "metadata": {},
   "source": [
    "#### WWSD - `union`"
   ]
  },
  {
   "cell_type": "code",
   "execution_count": null,
   "metadata": {},
   "outputs": [],
   "source": [
    "(define odds (list 3 5 7 9))\n",
    "(define eight (list 1 2 3 4 5 6 7 8))\n",
    "(union odds (list 2 3 4 5))\n",
    "; Ans: (2 3 4 5 7 9)"
   ]
  },
  {
   "cell_type": "code",
   "execution_count": null,
   "metadata": {},
   "outputs": [],
   "source": [
    "(define odds (list 3 5 7 9))\n",
    "(define eight (list 1 2 3 4 5 6 7 8))\n",
    "(union odds (list 2 4 6 8))\n",
    "; Ans: (2 3 4 5 6 7 8 9)"
   ]
  },
  {
   "cell_type": "code",
   "execution_count": null,
   "metadata": {},
   "outputs": [],
   "source": [
    "(define odds (list 3 5 7 9))\n",
    "(define eight (list 1 2 3 4 5 6 7 8))\n",
    "(union odds eight)\n",
    "; Ans: (1 2 3 4 5 6 7 8 9)"
   ]
  },
  {
   "cell_type": "markdown",
   "metadata": {},
   "source": [
    "#### Strategy"
   ]
  },
  {
   "cell_type": "markdown",
   "metadata": {},
   "source": [
    "In the case of `union`, it will include many `cond` since we want to include most elements.\n",
    "\n",
    "**1.** If we run out of `s`, then return `t`."
   ]
  },
  {
   "cell_type": "code",
   "execution_count": null,
   "metadata": {},
   "outputs": [],
   "source": [
    "((empty? s) t)"
   ]
  },
  {
   "cell_type": "markdown",
   "metadata": {},
   "source": [
    "**2.** And the other way around,"
   ]
  },
  {
   "cell_type": "code",
   "execution_count": null,
   "metadata": {},
   "outputs": [],
   "source": [
    "((empty? t) s)"
   ]
  },
  {
   "cell_type": "markdown",
   "metadata": {},
   "source": [
    "**3.** If the currently selected element for `s` and `t` are the same, then construct a list where `.first` is either one (they are the same anyway) and the `,rest` is a recursive `union` call where the pointers for both lists proceed."
   ]
  },
  {
   "cell_type": "code",
   "execution_count": null,
   "metadata": {},
   "outputs": [],
   "source": [
    "((= (car s) (car t)) (cons (car s) (union (cdr s) (cdr t))))"
   ]
  },
  {
   "cell_type": "markdown",
   "metadata": {},
   "source": [
    "**4.** If the currently selected element of `s` is greater than that of `t`, then construct a list where the `.first` is the element from `t` and the `.rest` is a recursive `union` call with the `t` pointer proceeded."
   ]
  },
  {
   "cell_type": "code",
   "execution_count": null,
   "metadata": {},
   "outputs": [],
   "source": [
    "((> (car s) (car t)) (cons (car t) (union s (cdr t))))"
   ]
  },
  {
   "cell_type": "markdown",
   "metadata": {},
   "source": [
    "**5.** And finally similar to #4 but the other way around."
   ]
  },
  {
   "cell_type": "code",
   "execution_count": null,
   "metadata": {},
   "outputs": [],
   "source": [
    "((> (car s) (car t)) (cons (car t) (union s (cdr t))))"
   ]
  },
  {
   "cell_type": "markdown",
   "metadata": {},
   "source": [
    "The implementation is as the following,"
   ]
  },
  {
   "cell_type": "code",
   "execution_count": null,
   "metadata": {},
   "outputs": [],
   "source": [
    "(define (union s t)\n",
    "    'YOUR-CODE-HERE\n",
    "    (cond\n",
    "      ((empty? s) t)\n",
    "      ((empty? t) s)\n",
    "      ((= (car s) (car t)) (cons (car s) (union (cdr s) (cdr t))))\n",
    "      ((< (car s) (car t)) (cons (car s) (union (cdr s) t)))\n",
    "      ((> (car s) (car t)) (cons (car t) (union s (cdr t))))\n",
    "    ) ;End of cond\n",
    ") ; End of union"
   ]
  }
 ],
 "metadata": {
  "kernelspec": {
   "display_name": "Calysto Scheme 3",
   "language": "scheme",
   "name": "calysto_scheme"
  },
  "language_info": {
   "codemirror_mode": {
    "name": "scheme"
   },
   "mimetype": "text/x-scheme",
   "name": "scheme",
   "pygments_lexer": "scheme"
  }
 },
 "nbformat": 4,
 "nbformat_minor": 2
}
