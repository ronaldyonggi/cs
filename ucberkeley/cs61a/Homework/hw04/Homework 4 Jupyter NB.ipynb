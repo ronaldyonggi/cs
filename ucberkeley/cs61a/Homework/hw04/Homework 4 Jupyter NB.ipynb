{
 "cells": [
  {
   "cell_type": "markdown",
   "metadata": {},
   "source": [
    "# Q1: Taxicab Distance"
   ]
  },
  {
   "cell_type": "code",
   "execution_count": 1,
   "metadata": {},
   "outputs": [],
   "source": [
    "def intersection(st, ave):\n",
    "    \"\"\"Represent an intersection using the Cantor pairing function.\"\"\"\n",
    "    return (st+ave)*(st+ave+1)//2 + ave\n",
    "\n",
    "def street(inter):\n",
    "    return w(inter) - avenue(inter)\n",
    "\n",
    "def avenue(inter):\n",
    "    return inter - (w(inter) ** 2 + w(inter)) // 2\n",
    "\n",
    "w = lambda z: int(((8*z+1)**0.5-1)/2)"
   ]
  },
  {
   "cell_type": "code",
   "execution_count": 15,
   "metadata": {},
   "outputs": [],
   "source": [
    "times_square = intersection(46, 7)\n",
    "ess_a_bagel = intersection(51, 3)"
   ]
  },
  {
   "cell_type": "markdown",
   "metadata": {},
   "source": [
    "Above, notice that we have the functions `street` and `avenue`, which both takes an intersection as an argument. If we try to use those functions on both `times_square` and `ess_a_bagel`,"
   ]
  },
  {
   "cell_type": "code",
   "execution_count": 16,
   "metadata": {},
   "outputs": [
    {
     "data": {
      "text/plain": [
       "46"
      ]
     },
     "execution_count": 16,
     "metadata": {},
     "output_type": "execute_result"
    }
   ],
   "source": [
    "street(times_square)"
   ]
  },
  {
   "cell_type": "code",
   "execution_count": 17,
   "metadata": {},
   "outputs": [
    {
     "data": {
      "text/plain": [
       "51"
      ]
     },
     "execution_count": 17,
     "metadata": {},
     "output_type": "execute_result"
    }
   ],
   "source": [
    "street(ess_a_bagel)"
   ]
  },
  {
   "cell_type": "code",
   "execution_count": 18,
   "metadata": {},
   "outputs": [
    {
     "data": {
      "text/plain": [
       "7"
      ]
     },
     "execution_count": 18,
     "metadata": {},
     "output_type": "execute_result"
    }
   ],
   "source": [
    "avenue(times_square)"
   ]
  },
  {
   "cell_type": "code",
   "execution_count": 19,
   "metadata": {},
   "outputs": [
    {
     "data": {
      "text/plain": [
       "3"
      ]
     },
     "execution_count": 19,
     "metadata": {},
     "output_type": "execute_result"
    }
   ],
   "source": [
    "avenue(ess_a_bagel)"
   ]
  },
  {
   "cell_type": "markdown",
   "metadata": {},
   "source": [
    "Then we obtain both the street and the avenue for both locations. We can find the difference of both `street` and `avenue` of the 2 places to obtain the Taxicab Distance."
   ]
  },
  {
   "cell_type": "code",
   "execution_count": 20,
   "metadata": {},
   "outputs": [
    {
     "data": {
      "text/plain": [
       "5"
      ]
     },
     "execution_count": 20,
     "metadata": {},
     "output_type": "execute_result"
    }
   ],
   "source": [
    "abs(street(times_square) - street(ess_a_bagel))"
   ]
  },
  {
   "cell_type": "code",
   "execution_count": 21,
   "metadata": {},
   "outputs": [
    {
     "data": {
      "text/plain": [
       "4"
      ]
     },
     "execution_count": 21,
     "metadata": {},
     "output_type": "execute_result"
    }
   ],
   "source": [
    "abs(avenue(times_square) - avenue(ess_a_bagel))"
   ]
  },
  {
   "cell_type": "markdown",
   "metadata": {},
   "source": [
    "Then what's left is to add both values above,"
   ]
  },
  {
   "cell_type": "code",
   "execution_count": 22,
   "metadata": {},
   "outputs": [
    {
     "data": {
      "text/plain": [
       "9"
      ]
     },
     "execution_count": 22,
     "metadata": {},
     "output_type": "execute_result"
    }
   ],
   "source": [
    "abs(street(times_square) - street(ess_a_bagel)) + abs(avenue(times_square) - avenue(ess_a_bagel))"
   ]
  },
  {
   "cell_type": "markdown",
   "metadata": {},
   "source": [
    "# Q2: Squares Only\n",
    "We can write the solution in one line using `list comprehension`. However, it is quite tricky.\n",
    "\n",
    "1. We can square root a number by powering that number with `0.5`."
   ]
  },
  {
   "cell_type": "code",
   "execution_count": 23,
   "metadata": {},
   "outputs": [
    {
     "data": {
      "text/plain": [
       "2.0"
      ]
     },
     "execution_count": 23,
     "metadata": {},
     "output_type": "execute_result"
    }
   ],
   "source": [
    "4 ** 0.5"
   ]
  },
  {
   "cell_type": "markdown",
   "metadata": {},
   "source": [
    "2. We can get rid of the decimal number using the `round` built-in function,"
   ]
  },
  {
   "cell_type": "code",
   "execution_count": 24,
   "metadata": {},
   "outputs": [
    {
     "data": {
      "text/plain": [
       "2"
      ]
     },
     "execution_count": 24,
     "metadata": {},
     "output_type": "execute_result"
    }
   ],
   "source": [
    "round(4 ** 0.5)"
   ]
  },
  {
   "cell_type": "markdown",
   "metadata": {},
   "source": [
    "However, if we try to calculate the square root of a number that doesn't have a perfect square,"
   ]
  },
  {
   "cell_type": "code",
   "execution_count": 25,
   "metadata": {},
   "outputs": [
    {
     "data": {
      "text/plain": [
       "2.8284271247461903"
      ]
     },
     "execution_count": 25,
     "metadata": {},
     "output_type": "execute_result"
    }
   ],
   "source": [
    "8 ** 0.5"
   ]
  },
  {
   "cell_type": "code",
   "execution_count": 26,
   "metadata": {},
   "outputs": [
    {
     "data": {
      "text/plain": [
       "3"
      ]
     },
     "execution_count": 26,
     "metadata": {},
     "output_type": "execute_result"
    }
   ],
   "source": [
    "round(8 ** 0.5)"
   ]
  },
  {
   "cell_type": "markdown",
   "metadata": {},
   "source": [
    "The trick is to realize that if we:\n",
    "1. Square root a number that doesn't have a perfect square\n",
    "2. Round up the result above\n",
    "3. And square back the number above\n",
    "\n",
    "Then we won't get the original number back."
   ]
  },
  {
   "cell_type": "code",
   "execution_count": 27,
   "metadata": {},
   "outputs": [
    {
     "data": {
      "text/plain": [
       "9"
      ]
     },
     "execution_count": 27,
     "metadata": {},
     "output_type": "execute_result"
    }
   ],
   "source": [
    "round(8 ** 0.5) ** 2"
   ]
  },
  {
   "cell_type": "markdown",
   "metadata": {},
   "source": [
    "See above that if we square root `8`, then round up the result, then square it back, we obtain `9` instead of `8`.\n",
    "\n",
    "With list comprehension, we can set a condition so that it only includes numbers that ultimately gets us the original number back, which only works for numbers that has perfect square root."
   ]
  },
  {
   "cell_type": "code",
   "execution_count": 29,
   "metadata": {},
   "outputs": [],
   "source": [
    "def square(s):\n",
    "    return [round(i ** 0.5) for i in s if round(i ** 0.5) ** 2 == i]"
   ]
  },
  {
   "cell_type": "markdown",
   "metadata": {},
   "source": [
    "# Q3: G Function\n",
    "The recursive implementation is straightforward. However, the iterative implementation is not as simple. Recall that the iterative implementation for Fibonacci is as the following,"
   ]
  },
  {
   "cell_type": "code",
   "execution_count": 30,
   "metadata": {},
   "outputs": [],
   "source": [
    "def fib_iter(n):\n",
    "    i = 0 # The nth Fibonacci number, starts at 0th\n",
    "    c, nx = 0, 1 # Stands for 'current' and 'next'\n",
    "    while i < n:\n",
    "        c, nx = nx, nx + c\n",
    "        i += 1\n",
    "    return c"
   ]
  },
  {
   "cell_type": "markdown",
   "metadata": {},
   "source": [
    "Notice that the implementation keeps track of 2 values: `c` and `nx`\n",
    "\n",
    "#### The iteration version is skipped since it is considered too dificult."
   ]
  },
  {
   "cell_type": "markdown",
   "metadata": {},
   "source": [
    "# Q4: Count Change\n",
    "Recall the **Counting Partitions** problem, where we count the number of partitions of a positive integer `n`, using parts up to size `m`.\n",
    "\n",
    "For example, `count_partitions(6, 4)` means how many ways of calculating `6` using parts up to `4`.\n",
    "\n",
    "<img src = 'partition.jpg' width = 800/>"
   ]
  },
  {
   "cell_type": "markdown",
   "metadata": {},
   "source": [
    "We can break down the problem to 2 groups: \n",
    "\n",
    "1. Using `4`, or `count_partitions(2, 4)`\n",
    "2. Not using `4`, or `count_partitions(6, 3)`"
   ]
  },
  {
   "cell_type": "markdown",
   "metadata": {},
   "source": [
    "<img src = 'simpler.jpg' width = 800/>"
   ]
  },
  {
   "cell_type": "markdown",
   "metadata": {},
   "source": [
    "From `count_partitions(6, 3)`, we break down the problem further to `count_partitions(3, 3` and `count_partitions(6, 2)`, and so on.\n",
    "\n",
    "The implementation of `count_partitions` looks as the following,"
   ]
  },
  {
   "cell_type": "code",
   "execution_count": null,
   "metadata": {},
   "outputs": [],
   "source": [
    "else:\n",
    "    # Count the partition of n-m using parts up to size m\n",
    "    with_m = count_partitions(n-m, m)\n",
    "    # The rest\n",
    "    without_m = count_partitions(n, m-1)\n",
    "    # Sum the 2 variables above"
   ]
  },
  {
   "cell_type": "markdown",
   "metadata": {},
   "source": [
    "<img src = 'implement.jpg' width = 800/>"
   ]
  },
  {
   "cell_type": "markdown",
   "metadata": {},
   "source": [
    "For the base case:\n",
    "1. If `n` is 0, then we can only use `0`. There's only 1 way of doing this. --> Return 1\n",
    "2. If `n` < 0, this is impossible. There's no way of doing this  --> Return 0\n",
    "3. If `m` == `0`, then we can't make anything with `0`. --> Return 0\n",
    "    * Note that we can still make `0` with this. This means the `if` statement for `m` == `0` must be placed after `n` == `0`"
   ]
  },
  {
   "cell_type": "code",
   "execution_count": null,
   "metadata": {},
   "outputs": [],
   "source": [
    "def count_partitions(n, m):\n",
    "    if n == 0:\n",
    "        return 1\n",
    "    elif n < 0:\n",
    "        return 0\n",
    "    elif m == 0:\n",
    "        return 0\n",
    "    else:\n",
    "        with_m = count_partition(n-m, m)\n",
    "        without_m = count_partitions(n, m-1)\n",
    "        return with_m + without_m"
   ]
  },
  {
   "cell_type": "markdown",
   "metadata": {},
   "source": [
    "With `count_change`, the maximum partition size `m` is not given. In this case, we can create a helper function that:\n",
    "1. Takes in 2 arguments\n",
    "2. Helps determining the max coin.\n",
    "\n",
    "Instead of starting from a certain `m` and going down, here we start from the smallest, `1`, and go up by multiplying it with `2`."
   ]
  },
  {
   "cell_type": "code",
   "execution_count": null,
   "metadata": {},
   "outputs": [],
   "source": [
    "def count_change(amount):\n",
    "    # m is the maximum partition size\n",
    "    def helper(amount, m):\n",
    "        if amount == 0:\n",
    "            return 1\n",
    "        elif m > amount:\n",
    "            return 0\n",
    "        else:\n",
    "            with_m = helper(amount-m, m)\n",
    "            # Recall that the denomination of the coin is a power of 2\n",
    "            without_m = helper(amount, m * 2)\n",
    "            return with_m + without_m\n",
    "        # We start with the smalles partition size, 1, then the \n",
    "    return helper(amount, 1)"
   ]
  },
  {
   "cell_type": "markdown",
   "metadata": {},
   "source": [
    "# Q5: Tower of Hanoi"
   ]
  },
  {
   "cell_type": "code",
   "execution_count": 1,
   "metadata": {},
   "outputs": [],
   "source": [
    "def print_move(origin, destination):\n",
    "    \"\"\"Print instructions to move a disk.\"\"\"\n",
    "    print(\"Move the top disk from rod\", origin, \"to rod\", destination)"
   ]
  },
  {
   "cell_type": "markdown",
   "metadata": {},
   "source": [
    "Below is the doctest for the `move_stack` function,"
   ]
  },
  {
   "cell_type": "markdown",
   "metadata": {},
   "source": [
    "Print the moves required to move n disks on the start pole to the endpole without violating the rules of Towers of Hanoi.\n",
    "\n",
    "1. n -- number of disks\n",
    "2. start -- a pole position, either 1, 2, or 3\n",
    "3. end -- a pole position, either 1, 2, or 3\n",
    "\n",
    "There are exactly three poles, and start and end must be different. Assume that the start pole has at least n disks of increasing size, and the end pole is either empty or has a top disk larger than the top n start disks."
   ]
  },
  {
   "cell_type": "code",
   "execution_count": 2,
   "metadata": {},
   "outputs": [
    {
     "ename": "SyntaxError",
     "evalue": "invalid syntax (<ipython-input-2-2fbcb21fa25f>, line 2)",
     "output_type": "error",
     "traceback": [
      "\u001b[1;36m  File \u001b[1;32m\"<ipython-input-2-2fbcb21fa25f>\"\u001b[1;36m, line \u001b[1;32m2\u001b[0m\n\u001b[1;33m    Move the top disk from rod 1 to rod 3\u001b[0m\n\u001b[1;37m           ^\u001b[0m\n\u001b[1;31mSyntaxError\u001b[0m\u001b[1;31m:\u001b[0m invalid syntax\n"
     ]
    }
   ],
   "source": [
    ">>> move_stack(1, 1, 3)\n",
    "Move the top disk from rod 1 to rod 3\n",
    ">>> move_stack(2, 1, 3)\n",
    "Move the top disk from rod 1 to rod 2\n",
    "Move the top disk from rod 1 to rod 3\n",
    "Move the top disk from rod 2 to rod 3\n",
    ">>> move_stack(3, 1, 3)\n",
    "Move the top disk from rod 1 to rod 3\n",
    "Move the top disk from rod 1 to rod 2\n",
    "Move the top disk from rod 3 to rod 2\n",
    "Move the top disk from rod 1 to rod 3\n",
    "Move the top disk from rod 2 to rod 1\n",
    "Move the top disk from rod 2 to rod 3\n",
    "Move the top disk from rod 1 to rod 3"
   ]
  },
  {
   "cell_type": "code",
   "execution_count": null,
   "metadata": {},
   "outputs": [],
   "source": [
    "def move_stack(n, start, end):\n",
    "    assert 1 <= start <= 3 and 1 <= end <= 3 and start != end, \"Bad start/end\""
   ]
  },
  {
   "cell_type": "markdown",
   "metadata": {},
   "source": [
    "We'll use ABC to represent the towers, and numbers to represent the ring, where greater number means larger size."
   ]
  },
  {
   "cell_type": "markdown",
   "metadata": {},
   "source": [
    "#### Single Disk Case"
   ]
  },
  {
   "cell_type": "markdown",
   "metadata": {},
   "source": [
    "| A | B | C | Steps|\n",
    "| --- | --- | --- | --- |\n",
    "| 1 | _ | _ | N/A |\n",
    "| _ | _ | 1 | A -> C |\n",
    "\n",
    "For the single disk case, the solution is simple: just move a disk from A to C."
   ]
  },
  {
   "cell_type": "markdown",
   "metadata": {},
   "source": [
    "#### 2 Disks Case"
   ]
  },
  {
   "cell_type": "markdown",
   "metadata": {},
   "source": [
    "| A | B | C | Steps\n",
    "| --- | --- | --- | --- |\n",
    "| 1<br> 2 | _ | _ | N/A |\n",
    "| 2 | 1 | _ | A -> B |\n",
    "| _ | 1 | 2 |A -> C |\n",
    "| _ | _ | 1 <br> 2| B -> C |"
   ]
  },
  {
   "cell_type": "markdown",
   "metadata": {},
   "source": [
    "#### 3 Disks Case"
   ]
  },
  {
   "cell_type": "markdown",
   "metadata": {},
   "source": [
    "| A | B | C | Steps |\n",
    "| --- | --- | --- | --- |\n",
    "| 1<br> 2 <br > 3 | _ | _ | N/A |\n",
    "| 2 <br> 3 | _ | 1 | A -> C |\n",
    "| 3 | 2 | 1 |A -> B |\n",
    "| 3 | 1 <br> 2 | _ | C -> B |\n",
    "| _ | 1 <br> 2 | 3 | A -> C |\n",
    "| 1 | 2 | 3 | B -> A |\n",
    "| 1 | _ | 2 <br> 3 | B -> C |\n",
    "| _ | _ | 1 <br> 2 <br> 3 | A -> C |"
   ]
  },
  {
   "cell_type": "markdown",
   "metadata": {},
   "source": [
    "Note that the steps above can also be shortened as:"
   ]
  },
  {
   "cell_type": "markdown",
   "metadata": {},
   "source": [
    "| A | B | C | Steps |\n",
    "| --- | --- | --- | --- |\n",
    "| 1<br> 2 <br > 3 | _ | _ | N/A |\n",
    "| 3 | 1 <br> 2 | _ | Move 2 Discs A -> B Using C |\n",
    "| _ | 1 <br> 2 | 3 | A -> C |\n",
    "| _ | _ | 1 <br> 2 <br> 3 | Move 2 Discs B -> C Using A |"
   ]
  },
  {
   "cell_type": "markdown",
   "metadata": {},
   "source": [
    "We can shorten the steps since we assume that we know the steps on how to move 2 discs from one tower to another.\n",
    "\n",
    "The shortened solution above is very crucial for implementing a recursive procedure. Thus for `n` discs, the steps would be the following:\n",
    "1. Move $n-1$ discs from A to B using C\n",
    "2. Move A to C\n",
    "3. Then move $n-1$ discs from B to C using A.\n",
    "\n"
   ]
  },
  {
   "cell_type": "markdown",
   "metadata": {},
   "source": [
    "The base case that if only 1 disk is involved, just move that disk from A to C."
   ]
  },
  {
   "cell_type": "code",
   "execution_count": null,
   "metadata": {},
   "outputs": [],
   "source": [
    "if n == 1:\n",
    "    print_move(start, end)"
   ]
  },
  {
   "cell_type": "markdown",
   "metadata": {},
   "source": [
    "The tricky part is the recursive case.\n",
    "1. We want to move $n-1$ disks from A to B. The trick here is to take a leap of faith and assume that the function `move_stack` knows how to move the disks from A to B already. "
   ]
  },
  {
   "cell_type": "code",
   "execution_count": null,
   "metadata": {},
   "outputs": [],
   "source": [
    "else:\n",
    "    move_stack(n-1, start, 2)"
   ]
  },
  {
   "cell_type": "markdown",
   "metadata": {},
   "source": [
    "2. Once that's done, we move the biggest disk from A to C. "
   ]
  },
  {
   "cell_type": "code",
   "execution_count": null,
   "metadata": {},
   "outputs": [],
   "source": [
    "print_move(start, end)"
   ]
  },
  {
   "cell_type": "markdown",
   "metadata": {},
   "source": [
    "3. Last but not least, move $n-1$ disks that was in B to C. Here we take a leap of faith and assume that `move_stack` knows how to move the disks from B to C already. "
   ]
  },
  {
   "cell_type": "code",
   "execution_count": null,
   "metadata": {},
   "outputs": [],
   "source": [
    "move_stack(n-1, 2, end)"
   ]
  },
  {
   "cell_type": "markdown",
   "metadata": {},
   "source": [
    "Now with this implementation, let's try if it works!"
   ]
  },
  {
   "cell_type": "code",
   "execution_count": 2,
   "metadata": {},
   "outputs": [],
   "source": [
    "def move_stack(n, start, end):\n",
    "    assert 1 <= start <= 3 and 1 <= end <= 3 and start != end, \"Bad start/end\"\n",
    "    # Base case: if n is 1\n",
    "    if n == 1:\n",
    "        print_move(start, end)\n",
    "    else:\n",
    "        move_stack(n-1, start, 2) # move n-1 discs from A to B using C\n",
    "        print_move(start, end)\n",
    "        move_stack(n-1, 2, end) # move n-1 discs from B to C using A"
   ]
  },
  {
   "cell_type": "code",
   "execution_count": 3,
   "metadata": {},
   "outputs": [
    {
     "name": "stdout",
     "output_type": "stream",
     "text": [
      "Move the top disk from rod 1 to rod 3\n"
     ]
    }
   ],
   "source": [
    "move_stack(1, 1, 3) # Move 1 disk from A to C"
   ]
  },
  {
   "cell_type": "code",
   "execution_count": 4,
   "metadata": {},
   "outputs": [
    {
     "name": "stdout",
     "output_type": "stream",
     "text": [
      "Move the top disk from rod 1 to rod 2\n"
     ]
    }
   ],
   "source": [
    "move_stack(1, 1, 2) # Move 1 disk from A to B"
   ]
  },
  {
   "cell_type": "code",
   "execution_count": 5,
   "metadata": {},
   "outputs": [
    {
     "name": "stdout",
     "output_type": "stream",
     "text": [
      "Move the top disk from rod 1 to rod 2\n",
      "Move the top disk from rod 1 to rod 3\n",
      "Move the top disk from rod 2 to rod 3\n"
     ]
    }
   ],
   "source": [
    "move_stack(2, 1, 3)  # Move 2 disks from A to C"
   ]
  },
  {
   "cell_type": "markdown",
   "metadata": {},
   "source": [
    "So far, everything is good! However,"
   ]
  },
  {
   "cell_type": "code",
   "execution_count": 7,
   "metadata": {},
   "outputs": [
    {
     "name": "stdout",
     "output_type": "stream",
     "text": [
      "Move the top disk from rod 1 to rod 2\n",
      "Move the top disk from rod 1 to rod 2\n"
     ]
    },
    {
     "ename": "AssertionError",
     "evalue": "Bad start/end",
     "output_type": "error",
     "traceback": [
      "\u001b[1;31m---------------------------------------------------------------------------\u001b[0m",
      "\u001b[1;31mAssertionError\u001b[0m                            Traceback (most recent call last)",
      "\u001b[1;32m<ipython-input-7-c3270a43a1e0>\u001b[0m in \u001b[0;36m<module>\u001b[1;34m\u001b[0m\n\u001b[1;32m----> 1\u001b[1;33m \u001b[0mmove_stack\u001b[0m\u001b[1;33m(\u001b[0m\u001b[1;36m3\u001b[0m\u001b[1;33m,\u001b[0m \u001b[1;36m1\u001b[0m\u001b[1;33m,\u001b[0m \u001b[1;36m2\u001b[0m\u001b[1;33m)\u001b[0m \u001b[1;31m# Move 3 disks from A to C\u001b[0m\u001b[1;33m\u001b[0m\u001b[1;33m\u001b[0m\u001b[0m\n\u001b[0m",
      "\u001b[1;32m<ipython-input-2-0b290968f830>\u001b[0m in \u001b[0;36mmove_stack\u001b[1;34m(n, start, end)\u001b[0m\n\u001b[0;32m      5\u001b[0m         \u001b[0mprint_move\u001b[0m\u001b[1;33m(\u001b[0m\u001b[0mstart\u001b[0m\u001b[1;33m,\u001b[0m \u001b[0mend\u001b[0m\u001b[1;33m)\u001b[0m\u001b[1;33m\u001b[0m\u001b[1;33m\u001b[0m\u001b[0m\n\u001b[0;32m      6\u001b[0m     \u001b[1;32melse\u001b[0m\u001b[1;33m:\u001b[0m\u001b[1;33m\u001b[0m\u001b[1;33m\u001b[0m\u001b[0m\n\u001b[1;32m----> 7\u001b[1;33m         \u001b[0mmove_stack\u001b[0m\u001b[1;33m(\u001b[0m\u001b[0mn\u001b[0m\u001b[1;33m-\u001b[0m\u001b[1;36m1\u001b[0m\u001b[1;33m,\u001b[0m \u001b[0mstart\u001b[0m\u001b[1;33m,\u001b[0m \u001b[1;36m2\u001b[0m\u001b[1;33m)\u001b[0m \u001b[1;31m# move n-1 discs from A to B using C\u001b[0m\u001b[1;33m\u001b[0m\u001b[1;33m\u001b[0m\u001b[0m\n\u001b[0m\u001b[0;32m      8\u001b[0m         \u001b[0mprint_move\u001b[0m\u001b[1;33m(\u001b[0m\u001b[0mstart\u001b[0m\u001b[1;33m,\u001b[0m \u001b[0mend\u001b[0m\u001b[1;33m)\u001b[0m\u001b[1;33m\u001b[0m\u001b[1;33m\u001b[0m\u001b[0m\n\u001b[0;32m      9\u001b[0m         \u001b[0mmove_stack\u001b[0m\u001b[1;33m(\u001b[0m\u001b[0mn\u001b[0m\u001b[1;33m-\u001b[0m\u001b[1;36m1\u001b[0m\u001b[1;33m,\u001b[0m \u001b[1;36m2\u001b[0m\u001b[1;33m,\u001b[0m \u001b[0mend\u001b[0m\u001b[1;33m)\u001b[0m \u001b[1;31m# move n-1 discs from B to C using A\u001b[0m\u001b[1;33m\u001b[0m\u001b[1;33m\u001b[0m\u001b[0m\n",
      "\u001b[1;32m<ipython-input-2-0b290968f830>\u001b[0m in \u001b[0;36mmove_stack\u001b[1;34m(n, start, end)\u001b[0m\n\u001b[0;32m      7\u001b[0m         \u001b[0mmove_stack\u001b[0m\u001b[1;33m(\u001b[0m\u001b[0mn\u001b[0m\u001b[1;33m-\u001b[0m\u001b[1;36m1\u001b[0m\u001b[1;33m,\u001b[0m \u001b[0mstart\u001b[0m\u001b[1;33m,\u001b[0m \u001b[1;36m2\u001b[0m\u001b[1;33m)\u001b[0m \u001b[1;31m# move n-1 discs from A to B using C\u001b[0m\u001b[1;33m\u001b[0m\u001b[1;33m\u001b[0m\u001b[0m\n\u001b[0;32m      8\u001b[0m         \u001b[0mprint_move\u001b[0m\u001b[1;33m(\u001b[0m\u001b[0mstart\u001b[0m\u001b[1;33m,\u001b[0m \u001b[0mend\u001b[0m\u001b[1;33m)\u001b[0m\u001b[1;33m\u001b[0m\u001b[1;33m\u001b[0m\u001b[0m\n\u001b[1;32m----> 9\u001b[1;33m         \u001b[0mmove_stack\u001b[0m\u001b[1;33m(\u001b[0m\u001b[0mn\u001b[0m\u001b[1;33m-\u001b[0m\u001b[1;36m1\u001b[0m\u001b[1;33m,\u001b[0m \u001b[1;36m2\u001b[0m\u001b[1;33m,\u001b[0m \u001b[0mend\u001b[0m\u001b[1;33m)\u001b[0m \u001b[1;31m# move n-1 discs from B to C using A\u001b[0m\u001b[1;33m\u001b[0m\u001b[1;33m\u001b[0m\u001b[0m\n\u001b[0m",
      "\u001b[1;32m<ipython-input-2-0b290968f830>\u001b[0m in \u001b[0;36mmove_stack\u001b[1;34m(n, start, end)\u001b[0m\n\u001b[0;32m      1\u001b[0m \u001b[1;32mdef\u001b[0m \u001b[0mmove_stack\u001b[0m\u001b[1;33m(\u001b[0m\u001b[0mn\u001b[0m\u001b[1;33m,\u001b[0m \u001b[0mstart\u001b[0m\u001b[1;33m,\u001b[0m \u001b[0mend\u001b[0m\u001b[1;33m)\u001b[0m\u001b[1;33m:\u001b[0m\u001b[1;33m\u001b[0m\u001b[1;33m\u001b[0m\u001b[0m\n\u001b[1;32m----> 2\u001b[1;33m     \u001b[1;32massert\u001b[0m \u001b[1;36m1\u001b[0m \u001b[1;33m<=\u001b[0m \u001b[0mstart\u001b[0m \u001b[1;33m<=\u001b[0m \u001b[1;36m3\u001b[0m \u001b[1;32mand\u001b[0m \u001b[1;36m1\u001b[0m \u001b[1;33m<=\u001b[0m \u001b[0mend\u001b[0m \u001b[1;33m<=\u001b[0m \u001b[1;36m3\u001b[0m \u001b[1;32mand\u001b[0m \u001b[0mstart\u001b[0m \u001b[1;33m!=\u001b[0m \u001b[0mend\u001b[0m\u001b[1;33m,\u001b[0m \u001b[1;34m\"Bad start/end\"\u001b[0m\u001b[1;33m\u001b[0m\u001b[1;33m\u001b[0m\u001b[0m\n\u001b[0m\u001b[0;32m      3\u001b[0m     \u001b[1;31m# Base case: if n is 1\u001b[0m\u001b[1;33m\u001b[0m\u001b[1;33m\u001b[0m\u001b[1;33m\u001b[0m\u001b[0m\n\u001b[0;32m      4\u001b[0m     \u001b[1;32mif\u001b[0m \u001b[0mn\u001b[0m \u001b[1;33m==\u001b[0m \u001b[1;36m1\u001b[0m\u001b[1;33m:\u001b[0m\u001b[1;33m\u001b[0m\u001b[1;33m\u001b[0m\u001b[0m\n\u001b[0;32m      5\u001b[0m         \u001b[0mprint_move\u001b[0m\u001b[1;33m(\u001b[0m\u001b[0mstart\u001b[0m\u001b[1;33m,\u001b[0m \u001b[0mend\u001b[0m\u001b[1;33m)\u001b[0m\u001b[1;33m\u001b[0m\u001b[1;33m\u001b[0m\u001b[0m\n",
      "\u001b[1;31mAssertionError\u001b[0m: Bad start/end"
     ]
    }
   ],
   "source": [
    "move_stack(2, 1, 2) # Move 2 disks from A to B"
   ]
  },
  {
   "cell_type": "markdown",
   "metadata": {},
   "source": [
    "When we try to move 2 disks from A to B, we ran into an error! The program tries to put the 2 disk to rod B immediately, which should not happen as this means the bigger disk would be on top of the smaller disk.\n",
    "\n",
    "If we analyze the program flow,"
   ]
  },
  {
   "cell_type": "code",
   "execution_count": null,
   "metadata": {},
   "outputs": [],
   "source": [
    "%load_ext tutormagic"
   ]
  },
  {
   "cell_type": "code",
   "execution_count": 19,
   "metadata": {},
   "outputs": [
    {
     "data": {
      "text/html": [
       "\n",
       "        <iframe\n",
       "            width=\"100%\"\n",
       "            height=\"350\"\n",
       "            src=\"http://pythontutor.com/iframe-embed.html#code=%0Adef%20print_move%28origin%2C%20destination%29%3A%0A%20%20%20%20%22%22%22Print%20instructions%20to%20move%20a%20disk.%22%22%22%0A%20%20%20%20print%28%22Move%20the%20top%20disk%20from%20rod%22%2C%20origin%2C%20%22to%20rod%22%2C%20destination%29%0A%20%20%20%20%0Adef%20move_stack%28n%2C%20start%2C%20end%29%3A%0A%20%20%20%20assert%201%20%3C%3D%20start%20%3C%3D%203%20and%201%20%3C%3D%20end%20%3C%3D%203%20and%20start%20%21%3D%20end%2C%20%22Bad%20start/end%22%0A%20%20%20%20%23%20Base%20case%3A%20if%20n%20is%201%0A%20%20%20%20if%20n%20%3D%3D%201%3A%0A%20%20%20%20%20%20%20%20print_move%28start%2C%20end%29%0A%20%20%20%20else%3A%0A%20%20%20%20%20%20%20%20move_stack%28n-1%2C%20start%2C%202%29%20%23%20move%20n-1%20discs%20from%20A%20to%20B%20using%20C%0A%20%20%20%20%20%20%20%20print_move%28start%2C%20end%29%0A%20%20%20%20%20%20%20%20move_stack%28n-1%2C%202%2C%20end%29%20%23%20move%20n-1%20discs%20from%20B%20to%20C%20using%20A%0A%20%20%20%20%20%20%20%20%0Amove_stack%282%2C%201%2C%202%29%0A&origin=opt-frontend.js&cumulative=false&heapPrimitives=false&textReferences=false&curInstr=0&&verticalStack=false&py=3&rawInputLstJSON=%5B%5D&codeDivWidth=50%25&codeDivHeight=100%25\"\n",
       "            frameborder=\"0\"\n",
       "            allowfullscreen\n",
       "        ></iframe>\n",
       "        "
      ],
      "text/plain": [
       "<IPython.lib.display.IFrame at 0x21d4febd588>"
      ]
     },
     "metadata": {},
     "output_type": "display_data"
    }
   ],
   "source": [
    "%%tutor --lang python3\n",
    "\n",
    "def print_move(origin, destination):\n",
    "    \"\"\"Print instructions to move a disk.\"\"\"\n",
    "    print(\"Move the top disk from rod\", origin, \"to rod\", destination)\n",
    "    \n",
    "def move_stack(n, start, end):\n",
    "    assert 1 <= start <= 3 and 1 <= end <= 3 and start != end, \"Bad start/end\"\n",
    "    # Base case: if n is 1\n",
    "    if n == 1:\n",
    "        print_move(start, end)\n",
    "    else:\n",
    "        move_stack(n-1, start, 2) # move n-1 discs from A to B using C\n",
    "        print_move(start, end)\n",
    "        move_stack(n-1, 2, end) # move n-1 discs from B to C using A\n",
    "        \n",
    "move_stack(2, 1, 2)"
   ]
  },
  {
   "cell_type": "markdown",
   "metadata": {},
   "source": [
    "As we can see, when the program runs the first time,\n",
    "1. It checks if n == 1. It is not! So we just move to `else` clause and run `move_stack(1, 1, 2)`\n",
    "    * This is where the error occurs! This `move_stack(n-1, start, 2)` will print out `print_move(1, 2)`, while \n",
    "    * `move-stack(n, start, 2)` itself will `print_move(1, 2)` as well!\n",
    "    \n",
    "The implementation that we created is flawed because we didn't use the other (or unused) rod, which is C. Since the goal is to move the 2 disks to B, we want our first step of `move_stack(2, 1, 2)` to be `move_stack(1, 1, 3)`.\n",
    "* We want the first step to be moving a disk from A to C\n",
    "\n",
    "This means, when we call `move_stack(2, 1, 2)`, since `n` is not 1, it will execute the `else` suite. We want the first line within the `else` suite to somehow calls `move_stack(1, 1, 3)`. We want to alternate the `end` rod for every recursive call of `move_stack`!\n",
    "\n",
    "One way we can do this is to treat:\n",
    "1. rod 1 = `1`\n",
    "2. rod 2 = `2`\n",
    "3. rod 3 = `3`\n",
    "4. Total = 6\n",
    "\n",
    "And when we set the `start` rod and the `end` rod, we can always figure out the `unused` rod by subtracting 6 with start and end. For example, if `start` is `1` and `end` is `3`, then,\n",
    "\n",
    "$$ unused = 6 - start - end $$\n",
    "\n",
    "Now recall the `else` suit implementation of the `move_stack`,"
   ]
  },
  {
   "cell_type": "code",
   "execution_count": null,
   "metadata": {},
   "outputs": [],
   "source": [
    "else:\n",
    "    move_stack(n-1, start, 2) # move n-1 disks from A to B using C\n",
    "    print_move(start, end)\n",
    "    move_stack(n-1, 2, end) # move n-1 disks from B to C using A"
   ]
  },
  {
   "cell_type": "markdown",
   "metadata": {},
   "source": [
    "The correct implementation is:\n",
    "1. The first line moves $n-1$ disks from A to `unused`.\n",
    "2. In-between, we move the biggest disk from A to C\n",
    "3. Then move the $n-1$ disks from `unused` to C.\n",
    "\n",
    "We can initiate `unused` before the implementation."
   ]
  },
  {
   "cell_type": "code",
   "execution_count": 9,
   "metadata": {},
   "outputs": [
    {
     "ename": "SyntaxError",
     "evalue": "invalid syntax (<ipython-input-9-e0395743be5c>, line 1)",
     "output_type": "error",
     "traceback": [
      "\u001b[1;36m  File \u001b[1;32m\"<ipython-input-9-e0395743be5c>\"\u001b[1;36m, line \u001b[1;32m1\u001b[0m\n\u001b[1;33m    else:\u001b[0m\n\u001b[1;37m       ^\u001b[0m\n\u001b[1;31mSyntaxError\u001b[0m\u001b[1;31m:\u001b[0m invalid syntax\n"
     ]
    }
   ],
   "source": [
    "else:\n",
    "    unused = 6 - start - end\n",
    "    move_stack(n-1, start, unused) # move n-1 disks from A to the 'unused' rod\n",
    "    print_move(start, end)\n",
    "    move_stack(n-1, unused, end) # move n-1 disks from 'unused' to C"
   ]
  },
  {
   "cell_type": "markdown",
   "metadata": {},
   "source": [
    "Thus, this is our updated implementation,"
   ]
  },
  {
   "cell_type": "code",
   "execution_count": 10,
   "metadata": {},
   "outputs": [],
   "source": [
    "def print_move(origin, destination):\n",
    "    \"\"\"Print instructions to move a disk.\"\"\"\n",
    "    print(\"Move the top disk from rod\", origin, \"to rod\", destination)\n",
    "    \n",
    "def move_stack(n, start, end):\n",
    "    assert 1 <= start <= 3 and 1 <= end <= 3 and start != end, \"Bad start/end\"\n",
    "    # Base case: if n is 1\n",
    "    if n == 1:\n",
    "        print_move(start, end)\n",
    "    else:\n",
    "        unused = 6 - start - end\n",
    "        move_stack(n-1, start, unused) # move n-1 disks from A to the 'unused' rod\n",
    "        print_move(start, end)\n",
    "        move_stack(n-1, unused, end) # move n-1 disks from 'unused' to C"
   ]
  },
  {
   "cell_type": "markdown",
   "metadata": {},
   "source": [
    "Now let's test the function!"
   ]
  },
  {
   "cell_type": "code",
   "execution_count": 11,
   "metadata": {},
   "outputs": [
    {
     "name": "stdout",
     "output_type": "stream",
     "text": [
      "Move the top disk from rod 1 to rod 3\n",
      "Move the top disk from rod 1 to rod 2\n",
      "Move the top disk from rod 3 to rod 2\n",
      "Move the top disk from rod 1 to rod 3\n",
      "Move the top disk from rod 2 to rod 1\n",
      "Move the top disk from rod 2 to rod 3\n",
      "Move the top disk from rod 1 to rod 3\n"
     ]
    }
   ],
   "source": [
    "move_stack(3, 1, 3)"
   ]
  },
  {
   "cell_type": "code",
   "execution_count": 12,
   "metadata": {},
   "outputs": [
    {
     "name": "stdout",
     "output_type": "stream",
     "text": [
      "Move the top disk from rod 1 to rod 2\n",
      "Move the top disk from rod 1 to rod 3\n",
      "Move the top disk from rod 2 to rod 3\n",
      "Move the top disk from rod 1 to rod 2\n",
      "Move the top disk from rod 3 to rod 1\n",
      "Move the top disk from rod 3 to rod 2\n",
      "Move the top disk from rod 1 to rod 2\n",
      "Move the top disk from rod 1 to rod 3\n",
      "Move the top disk from rod 2 to rod 3\n",
      "Move the top disk from rod 2 to rod 1\n",
      "Move the top disk from rod 3 to rod 1\n",
      "Move the top disk from rod 2 to rod 3\n",
      "Move the top disk from rod 1 to rod 2\n",
      "Move the top disk from rod 1 to rod 3\n",
      "Move the top disk from rod 2 to rod 3\n"
     ]
    }
   ],
   "source": [
    "move_stack(4, 1, 3)"
   ]
  },
  {
   "cell_type": "markdown",
   "metadata": {},
   "source": [
    "It works!"
   ]
  }
 ],
 "metadata": {
  "kernelspec": {
   "display_name": "Python 3",
   "language": "python",
   "name": "python3"
  },
  "language_info": {
   "codemirror_mode": {
    "name": "ipython",
    "version": 3
   },
   "file_extension": ".py",
   "mimetype": "text/x-python",
   "name": "python",
   "nbconvert_exporter": "python",
   "pygments_lexer": "ipython3",
   "version": "3.6.8"
  }
 },
 "nbformat": 4,
 "nbformat_minor": 2
}
