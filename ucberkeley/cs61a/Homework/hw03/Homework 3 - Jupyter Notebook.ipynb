{
 "cells": [
  {
   "cell_type": "markdown",
   "metadata": {},
   "source": [
    "# Q1 - Has Seven"
   ]
  },
  {
   "cell_type": "code",
   "execution_count": 5,
   "metadata": {},
   "outputs": [],
   "source": [
    "def has_seven(k):\n",
    "    # Base case 1: If k is single digit (less than 10), return whether k is 7\n",
    "    if k < 10:\n",
    "        return k == 7\n",
    "    # Checks if the current k's last digit is 7\n",
    "    elif k % 10 == 7:\n",
    "        return True\n",
    "    # Recursive call on has_seven, with decreasing digit of k \n",
    "    return has_seven(k//10)"
   ]
  },
  {
   "cell_type": "markdown",
   "metadata": {},
   "source": [
    "# Q2 - Ping-pong"
   ]
  },
  {
   "cell_type": "markdown",
   "metadata": {},
   "source": [
    "First, start implementing `pingpong` using assignment statement."
   ]
  },
  {
   "cell_type": "code",
   "execution_count": 13,
   "metadata": {},
   "outputs": [],
   "source": [
    "def pingpong(n):\n",
    "    index, total = 1, 1\n",
    "    # 'decreasing' indicates whether the sequence are increasing or decreasing\n",
    "    decreasing = False\n",
    "    while index < n:\n",
    "        if decreasing:\n",
    "            total -= 1\n",
    "        else:\n",
    "            total += 1\n",
    "        if has_seven(index) or index % 7 == 0:\n",
    "            decreasing = not decreasing\n",
    "        index += 1\n",
    "    return total"
   ]
  },
  {
   "cell_type": "markdown",
   "metadata": {},
   "source": [
    "In the code above,\n",
    "\n",
    "1. We start with index and total of `1` instead of `0`\n",
    "    * If we start with `0`, then at the first while loop 0 % 7 = 0\n",
    "        * `decreasing` would be negated"
   ]
  },
  {
   "cell_type": "code",
   "execution_count": 9,
   "metadata": {},
   "outputs": [
    {
     "data": {
      "text/plain": [
       "7"
      ]
     },
     "execution_count": 9,
     "metadata": {},
     "output_type": "execute_result"
    }
   ],
   "source": [
    "pingpong(7)"
   ]
  },
  {
   "cell_type": "code",
   "execution_count": 14,
   "metadata": {},
   "outputs": [
    {
     "data": {
      "text/plain": [
       "8"
      ]
     },
     "execution_count": 14,
     "metadata": {},
     "output_type": "execute_result"
    }
   ],
   "source": [
    "pingpong(8)"
   ]
  },
  {
   "cell_type": "code",
   "execution_count": 16,
   "metadata": {},
   "outputs": [
    {
     "data": {
      "text/plain": [
       "1"
      ]
     },
     "execution_count": 16,
     "metadata": {},
     "output_type": "execute_result"
    }
   ],
   "source": [
    "pingpong(15)"
   ]
  },
  {
   "cell_type": "markdown",
   "metadata": {},
   "source": [
    "Next, we convert the implementation above to a recursive implementation."
   ]
  },
  {
   "cell_type": "code",
   "execution_count": 10,
   "metadata": {},
   "outputs": [],
   "source": [
    "def pingpong(n):\n",
    "    # Below is the helper function\n",
    "    def helper(total, index, x):\n",
    "        # Base case\n",
    "        if index == n:\n",
    "            return total\n",
    "        # If there's 7\n",
    "        elif has_seven(index) or index % 7 == 0:\n",
    "            return helper(total - x, index + 1, -x)\n",
    "        # Normal Recursive Case\n",
    "        return helper(total + x, index + 1, x)\n",
    "    # Call the helper function\n",
    "    return helper(1, 1, 1)"
   ]
  },
  {
   "cell_type": "markdown",
   "metadata": {},
   "source": [
    "In the implementation below:\n",
    "\n",
    "1. x is the indicator of the incrementing step.\n",
    "    * Initially, in `Normal Recursive Case`, `x` is positive\n",
    "        * Thus we call the `helper` function with the argument `x` = `1`\n",
    "    * For every `Normal Recursive Case`, the argument `total` is added by `x`\n",
    "    \n",
    "2. However, when a \"there's 7\" case is found,\n",
    "    * We call the helper function where the `total` is subtracted by `x`\n",
    "        * Thus, `total - x`\n",
    "    * And then we change the sign of `x`\n",
    "        * So that for the next few `Normal Recursive Case`s, the incrementing step is decrementing (`-1`)\n",
    "    * And the opposite occurs whena \"there's 7\" case is found again"
   ]
  },
  {
   "cell_type": "code",
   "execution_count": 11,
   "metadata": {},
   "outputs": [
    {
     "data": {
      "text/plain": [
       "7"
      ]
     },
     "execution_count": 11,
     "metadata": {},
     "output_type": "execute_result"
    }
   ],
   "source": [
    "pingpong(7)"
   ]
  },
  {
   "cell_type": "code",
   "execution_count": 12,
   "metadata": {},
   "outputs": [
    {
     "data": {
      "text/plain": [
       "6"
      ]
     },
     "execution_count": 12,
     "metadata": {},
     "output_type": "execute_result"
    }
   ],
   "source": [
    "pingpong(8)"
   ]
  },
  {
   "cell_type": "code",
   "execution_count": 17,
   "metadata": {},
   "outputs": [
    {
     "data": {
      "text/plain": [
       "1"
      ]
     },
     "execution_count": 17,
     "metadata": {},
     "output_type": "execute_result"
    }
   ],
   "source": [
    "pingpong(15)"
   ]
  },
  {
   "cell_type": "markdown",
   "metadata": {},
   "source": [
    "# Q3 - Filtered Accumulate"
   ]
  },
  {
   "cell_type": "code",
   "execution_count": 25,
   "metadata": {},
   "outputs": [],
   "source": [
    "def odd(x):\n",
    "    return x % 2 == 1\n",
    "\n",
    "def greater_than_5(x):\n",
    "    return x > 5\n",
    "\n",
    "def identity(x):\n",
    "    return x\n",
    "\n",
    "def square(x):\n",
    "    return x * x\n",
    "\n",
    "from operator import *"
   ]
  },
  {
   "cell_type": "code",
   "execution_count": 26,
   "metadata": {},
   "outputs": [],
   "source": [
    "def accumulate(combiner, base, n, term):\n",
    "    \"\"\"Return the result of combining the first n terms in a sequence and base.\n",
    "    The terms to be combined are term(1), term(2), ..., term(n).  combiner is a\n",
    "    two-argument, associative function.\n",
    "\n",
    "    >>> accumulate(add, 0, 5, identity)  # 0 + 1 + 2 + 3 + 4 + 5\n",
    "    15\n",
    "    >>> accumulate(add, 11, 5, identity) # 11 + 1 + 2 + 3 + 4 + 5\n",
    "    26\n",
    "    >>> accumulate(add, 11, 0, identity) # 11\n",
    "    11\n",
    "    >>> accumulate(add, 11, 3, square)   # 11 + 1^2 + 2^2 + 3^2\n",
    "    25\n",
    "    >>> accumulate(mul, 2, 3, square)    # 2 * 1^2 * 2^2 * 3^2\n",
    "    72\n",
    "    \"\"\"\n",
    "    total, k = base, 1\n",
    "    while k <= n:\n",
    "        total, k = combiner(total, term(k)), k + 1\n",
    "    return total"
   ]
  },
  {
   "cell_type": "code",
   "execution_count": 27,
   "metadata": {},
   "outputs": [
    {
     "data": {
      "text/plain": [
       "15"
      ]
     },
     "execution_count": 27,
     "metadata": {},
     "output_type": "execute_result"
    }
   ],
   "source": [
    "accumulate(add, 0, 5, identity)"
   ]
  },
  {
   "cell_type": "code",
   "execution_count": 28,
   "metadata": {},
   "outputs": [
    {
     "data": {
      "text/plain": [
       "25"
      ]
     },
     "execution_count": 28,
     "metadata": {},
     "output_type": "execute_result"
    }
   ],
   "source": [
    "accumulate(add, 11, 3, square)"
   ]
  },
  {
   "cell_type": "markdown",
   "metadata": {},
   "source": [
    "Now extend `accumulate` to allow **filtering** the results produced by its `term` argument by filling the implementation for the `filtered_accumulate` function"
   ]
  },
  {
   "cell_type": "code",
   "execution_count": 29,
   "metadata": {},
   "outputs": [],
   "source": [
    "def filtered_accumulate(combiner, base, pred, n, term):\n",
    "    \"\"\"Return the result of combining the terms in a sequence of N terms\n",
    "    that satisfy the predicate pred. combiner is a two-argument function.\n",
    "    If v1, v2, ..., vk are the values in term(1), term(2), ..., term(N)\n",
    "    that satisfy pred, then the result is\n",
    "         base combiner v1 combiner v2 ... combiner vk\n",
    "    (treating combiner as if it were a binary operator, like +). The\n",
    "    implementation uses accumulate.\n",
    "\n",
    "    >>> filtered_accumulate(add, 0, lambda x: True, 5, identity)  # 0 + 1 + 2 + 3 + 4 + 5\n",
    "    15\n",
    "    >>> filtered_accumulate(add, 11, lambda x: False, 5, identity) # 11\n",
    "    11\n",
    "    >>> filtered_accumulate(add, 0, odd, 5, identity)   # 0 + 1 + 3 + 5\n",
    "    9\n",
    "    >>> filtered_accumulate(mul, 1, greater_than_5, 5, square)  # 1 * 9 * 16 * 25\n",
    "    3600\n",
    "    >>> # Do not use while/for loops or recursion\n",
    "    >>> from construct_check import check\n",
    "    >>> check(HW_SOURCE_FILE, 'filtered_accumulate',\n",
    "    ...       ['While', 'For', 'Recursion'])\n",
    "    True\n",
    "    \"\"\"\n",
    "    def combine_if(x, y):\n",
    "        if pred(y):\n",
    "            return combiner(x, y)\n",
    "        else:\n",
    "            return x\n",
    "    return accumulate(combine_if, base, n, term)"
   ]
  },
  {
   "cell_type": "markdown",
   "metadata": {},
   "source": [
    "How the `combine_if` function works is as the following,\n",
    "\n",
    "1. `x` is the total that we have so far\n",
    "2. `y` is the element that we check whether it satisfies the `pred`\n",
    "    * If `y` satisfies `pred`, then `return combiner(x, y)`\n",
    "    * If not, then just return the total we have so far, which is `x`"
   ]
  },
  {
   "cell_type": "code",
   "execution_count": 30,
   "metadata": {},
   "outputs": [
    {
     "data": {
      "text/plain": [
       "11"
      ]
     },
     "execution_count": 30,
     "metadata": {},
     "output_type": "execute_result"
    }
   ],
   "source": [
    "filtered_accumulate(add, 11, lambda x: False, 5, identity)"
   ]
  },
  {
   "cell_type": "code",
   "execution_count": 31,
   "metadata": {},
   "outputs": [
    {
     "data": {
      "text/plain": [
       "3600"
      ]
     },
     "execution_count": 31,
     "metadata": {},
     "output_type": "execute_result"
    }
   ],
   "source": [
    "filtered_accumulate(mul, 1, greater_than_5, 5, square)"
   ]
  },
  {
   "cell_type": "code",
   "execution_count": null,
   "metadata": {},
   "outputs": [],
   "source": []
  }
 ],
 "metadata": {
  "kernelspec": {
   "display_name": "Python 3",
   "language": "python",
   "name": "python3"
  },
  "language_info": {
   "codemirror_mode": {
    "name": "ipython",
    "version": 3
   },
   "file_extension": ".py",
   "mimetype": "text/x-python",
   "name": "python",
   "nbconvert_exporter": "python",
   "pygments_lexer": "ipython3",
   "version": "3.7.2"
  }
 },
 "nbformat": 4,
 "nbformat_minor": 2
}
