{
 "cells": [
  {
   "cell_type": "markdown",
   "metadata": {},
   "source": [
    "## Question 9 - Photosynthesis"
   ]
  },
  {
   "cell_type": "markdown",
   "metadata": {},
   "source": [
    "## 9a"
   ]
  },
  {
   "cell_type": "markdown",
   "metadata": {},
   "source": [
    "Fill in the methods below so that the classes interact correctly according to the documentation (make sure to keep track of all the counters!)"
   ]
  },
  {
   "cell_type": "code",
   "execution_count": 10,
   "metadata": {},
   "outputs": [],
   "source": [
    "class Plant:\n",
    "    def __init__(self):\n",
    "        \"\"\" A plant has a Leaf, a list of sugars created so\n",
    "        far, and an initial height of 1\"\"\"\n",
    "        self.height = 1\n",
    "        self.materials = [] # A list of sugars created so far\n",
    "        # When an instance of a Plant is constructed, it came with a \n",
    "        # leaf pre-constructed\n",
    "        self.leaf = Leaf(self)\n",
    "        \n",
    "    def absorb(self):\n",
    "        \"\"\"Calls the leaf to create sugar\"\"\"\n",
    "        self.leaf.absorb() # Calls its leaf's absorb method\n",
    "        \n",
    "    def grow(self):\n",
    "        \"\"\" A plant uses all of its sugar, each of which increases its\n",
    "        height by 1\"\"\"\n",
    "        # Loop through each materials\n",
    "        for i in self.materials:\n",
    "            # For each material found, invoke its activate method\n",
    "            i.activate()\n",
    "            # For each material found, increment the height by 1\n",
    "            self.height += 1\n",
    "        # Empty the materials list\n",
    "        self.materials = []"
   ]
  },
  {
   "cell_type": "code",
   "execution_count": 16,
   "metadata": {},
   "outputs": [],
   "source": [
    "class Leaf:\n",
    "    def __init__(self, plant):\n",
    "        \"\"\" A Leaf is initially alive, and keeps track of how many\n",
    "        sugars it has created \"\"\"\n",
    "        self.alive = True # The alive attribute\n",
    "        self.sugars_used = 0 # How many sugars a leaf has created\n",
    "        self.plant = plant # Which plant this leaf belongs to\n",
    "        \n",
    "    def absorb(self):\n",
    "        \"\"\" If this Leaf is alive, a Sugar is added to the plant's\n",
    "        list of sugars\"\"\"\n",
    "        if self.alive:\n",
    "            # Costruct a sugar then append it to its plant's materials\n",
    "            self.plant.materials.append(Sugar(self, self.plant))\n",
    "            "
   ]
  },
  {
   "cell_type": "code",
   "execution_count": 17,
   "metadata": {},
   "outputs": [],
   "source": [
    "class Sugar:\n",
    "    sugars_created = 0\n",
    "    \n",
    "    def __init__(self, leaf, plant):\n",
    "        self.leaf = leaf\n",
    "        self.plant = plant\n",
    "        # For every time a Sugar is constructed, the sugars_created is \n",
    "        # increased by 1\n",
    "        Sugar.sugars_created += 1\n",
    "        \n",
    "    def activate(self):\n",
    "        \"\"\" A sugar is used, then removed from the Plant which contains it\"\"\"\n",
    "        # Remove itself from the list of materials\n",
    "        self.plant.materials.remove(self)\n",
    "        # For every activation, its leaf's 'sugars_used' is increased by 1\n",
    "        self.leaf.sugars_used += 1\n",
    "        \n",
    "    def __repr__(self):\n",
    "        return '|Sugar|'"
   ]
  },
  {
   "cell_type": "code",
   "execution_count": 18,
   "metadata": {},
   "outputs": [
    {
     "data": {
      "text/plain": [
       "TestResults(failed=0, attempted=11)"
      ]
     },
     "execution_count": 18,
     "metadata": {},
     "output_type": "execute_result"
    }
   ],
   "source": [
    "\n",
    "\"\"\"\n",
    ">>> p = Plant()\n",
    ">>> p.height\n",
    "1\n",
    ">>> p.materials\n",
    "[]\n",
    ">>> p.absorb()\n",
    ">>> p.materials\n",
    "[|Sugar|]\n",
    ">>> Sugar.sugars_created\n",
    "1\n",
    ">>> p.leaf.sugars_used\n",
    "0\n",
    ">>> p.grow()\n",
    ">>> p.materials\n",
    "[]\n",
    ">>> p.height\n",
    "2\n",
    ">>> p.leaf.sugars_used\n",
    "1\n",
    "\"\"\"\n",
    "\n",
    "import doctest\n",
    "doctest.testmod()"
   ]
  },
  {
   "cell_type": "markdown",
   "metadata": {},
   "source": [
    "## 9b -- CONSULTED SOLUTION MANUAL (but I understood the concept)\n",
    "Let'smake this a little more realistic by giving these objects ages. Modify the code above to satisfy the following conditions. See the doctest for further guidance.\n",
    "\n",
    "**1.** Every `plant` and `leaf` should have an age, but sugar doesn't age\n",
    "* Plants have a lifetime of 20 time units\n",
    "* Leaves have a lifetime of 2 time units\n",
    "    \n",
    "**2.** Time advances by one unit at the end of a call to a plant's `absorb` or `grow` method\n",
    "\n",
    "**3.** Every time a leaf dies, it spawns a new leaf on the plant. When a plant dies, its leaf dies, and the plant becomes a zombie plant -- no longer subject to time. Zombie plants don't age or die.\n",
    "\n",
    "**4.** Every time a generation of leaves dies for a zombie plant, twice as many leaves rise from the organic matter of its ancestors -- defying scientific explanation."
   ]
  },
  {
   "cell_type": "code",
   "execution_count": 5,
   "metadata": {},
   "outputs": [],
   "source": [
    "class Plant:\n",
    "    def __init__(self):\n",
    "        \"\"\" A plant has a Leaf, a list of sugars created so\n",
    "        far, and an initial height of 1\"\"\"\n",
    "        self.height = 1\n",
    "        self.materials = [] # A list of sugars created so far\n",
    "        \n",
    "        #This time, there can be multiple leaves\n",
    "        self.leaves = [Leaf(self)]\n",
    "        self.age = 0\n",
    "        self.is_zombie = False\n",
    "        \n",
    "    def absorb(self):\n",
    "        \"\"\"Calls the leaf to create sugar\"\"\"\n",
    "        # For each leaf, call its absorb method\n",
    "        for leaf in self.leaves:\n",
    "            leaf.absorb()\n",
    "        # As long as the plant is not a zombie, increment the age\n",
    "        if not self.is_zombie:\n",
    "            self.age += 1\n",
    "        # If at any point, the age becomes 20 or greater, then the plant becomes a zombie\n",
    "        if self.age >= 20:\n",
    "            self.zombify()\n",
    "            \n",
    "        \n",
    "    def grow(self):\n",
    "        \"\"\" A plant uses all of its sugar, each of which increases its\n",
    "        height by 1\"\"\"\n",
    "        # Loop through each materials\n",
    "        for i in self.materials:\n",
    "            # For each material found, invoke its activate method\n",
    "            i.activate()\n",
    "            # For each material found, increment the height by 1\n",
    "            self.height += 1\n",
    "        if not self.is_zombie:\n",
    "            self.age += 1\n",
    "        if self.age >= 20:\n",
    "            self.zombify()\n",
    "        \n",
    "    def zombify(self):\n",
    "        self.is_zombie = True\n",
    "        # Create a copy of the original leaves\n",
    "        old_leaves = self.leaves[:]\n",
    "        # Then for each original leaf call its death method\n",
    "        for leaf in old_leaves:\n",
    "            leaf.death()"
   ]
  },
  {
   "cell_type": "code",
   "execution_count": 6,
   "metadata": {},
   "outputs": [],
   "source": [
    "class Leaf:\n",
    "    def __init__(self, plant):\n",
    "        \"\"\" A Leaf is initially alive, and keeps track of how many\n",
    "        sugars it has created \"\"\"\n",
    "        self.alive = True # The alive attribute\n",
    "        self.sugars_used = 0 # How many sugars a leaf has created\n",
    "        self.plant = plant # Which plant this leaf belongs to\n",
    "        self.age = 0\n",
    "        \n",
    "    def absorb(self):\n",
    "        \"\"\" If this Leaf is alive, a Sugar is added to the plant's\n",
    "        list of sugars\"\"\"\n",
    "        if self.alive:\n",
    "            # Costruct a sugar then append it to its plant's materials\n",
    "            self.plant.materials.append(Sugar(self, self.plant))\n",
    "            self.age += 1\n",
    "            \n",
    "    def death(self):\n",
    "        self.alive = False #kill the plant\n",
    "        self.plant.leaves.remove(self) # remove itself from the list of plants\n",
    "        self.plant.leaves.append(Leaf(self.plant)) # Spawn a new leaf every time a leaf dies\n",
    "        if self.plant.is_zombie: #If the plant is a zombie\n",
    "            # Spawn an additional leaf\n",
    "            self.plant.leaves.append(Leaf(self.plant))\n",
    "            \n",
    "    def __repr__(self):\n",
    "        return '|Leaf|'"
   ]
  },
  {
   "cell_type": "code",
   "execution_count": 7,
   "metadata": {},
   "outputs": [],
   "source": [
    "class Sugar:\n",
    "    sugars_created = 0\n",
    "    \n",
    "    def __init__(self, leaf, plant):\n",
    "        self.leaf = leaf\n",
    "        self.plant = plant\n",
    "        # For every time a Sugar is constructed, the sugars_created is \n",
    "        # increased by 1\n",
    "        Sugar.sugars_created += 1\n",
    "        \n",
    "    def activate(self):\n",
    "        \"\"\" A sugar is used, then removed from the Plant which contains it\"\"\"\n",
    "        # Remove itself from the list of materials\n",
    "        self.plant.materials.remove(self)\n",
    "        # For every activation, its leaf's 'sugars_used' is increased by 1\n",
    "        self.leaf.sugars_used += 1\n",
    "        \n",
    "    def __repr__(self):\n",
    "        return '|Sugar|'"
   ]
  },
  {
   "cell_type": "code",
   "execution_count": 9,
   "metadata": {},
   "outputs": [
    {
     "data": {
      "text/plain": [
       "TestResults(failed=0, attempted=18)"
      ]
     },
     "execution_count": 9,
     "metadata": {},
     "output_type": "execute_result"
    }
   ],
   "source": [
    "\n",
    "\"\"\"\n",
    ">>> p = Plant()\n",
    ">>> p.age\n",
    "0\n",
    ">>> p.leaves\n",
    "[|Leaf|]\n",
    ">>> p.leaves[0].age\n",
    "0\n",
    ">>> p.age = 18\n",
    ">>> p.age\n",
    "18\n",
    ">>> p.height\n",
    "1\n",
    ">>> p.absorb()\n",
    ">>> p.materials\n",
    "[|Sugar|]\n",
    ">>> p.age\n",
    "19\n",
    ">>> p.leaves[0].age\n",
    "1\n",
    ">>> p.grow()\n",
    ">>> p.age\n",
    "20\n",
    ">>> p.is_zombie\n",
    "True\n",
    ">>> p.leaves\n",
    "[|Leaf|, |Leaf|]\n",
    ">>> p.leaves[0].age\n",
    "0\n",
    ">>> p.absorb()\n",
    ">>> p.age\n",
    "20\n",
    "\"\"\"\n",
    "import doctest\n",
    "doctest.testmod()"
   ]
  },
  {
   "cell_type": "markdown",
   "metadata": {},
   "source": []
  }
 ],
 "metadata": {
  "kernelspec": {
   "display_name": "Python 3",
   "language": "python",
   "name": "python3"
  },
  "language_info": {
   "codemirror_mode": {
    "name": "ipython",
    "version": 3
   },
   "file_extension": ".py",
   "mimetype": "text/x-python",
   "name": "python",
   "nbconvert_exporter": "python",
   "pygments_lexer": "ipython3",
   "version": "3.6.8"
  }
 },
 "nbformat": 4,
 "nbformat_minor": 2
}
