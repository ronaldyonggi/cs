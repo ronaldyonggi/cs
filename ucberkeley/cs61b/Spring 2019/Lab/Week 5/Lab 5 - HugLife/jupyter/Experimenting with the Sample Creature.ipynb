{
 "cells": [
  {
   "cell_type": "markdown",
   "metadata": {},
   "source": [
    "If we open the `SampleCreature.java` file and look at the `chooseAction` method, we'll see the following,"
   ]
  },
  {
   "cell_type": "code",
   "execution_count": null,
   "metadata": {},
   "outputs": [],
   "source": [
    "public Action chooseAction(Map<Direction, Occupant> neighbors) {\n",
    "    if (neighbors.get(Direction.TOP).name().equals(\"empty\") && Math.random() < moveProbability) {\n",
    "        return new Action(Action.ActionType.MOVE, Direction.TOP);\n",
    "    } else if (neighbors.get(Direction.BOTTOM).name().equals(\"empty\") && Math.random() < moveProbability) {\n",
    "        return new Action(Action.ActionType.MOVE, Direction.BOTTOM);\n",
    "    } else if (neighbors.get(Direction.LEFT).name().equals(\"empty\") && Math.random() < moveProbability) {\n",
    "        return new Action(Action.ActionType.MOVE, Direction.LEFT);\n",
    "    } else if (neighbors.get(Direction.RIGHT).name().equals(\"empty\") && Math.random() < moveProbability) {\n",
    "        return new Action(Action.ActionType.MOVE, Direction.RIGHT);\n",
    "    } else {\n",
    "        return new Action(Action.ActionType.STAY);\n",
    "    }\n"
   ]
  },
  {
   "cell_type": "markdown",
   "metadata": {},
   "source": [
    "This course of action corresponds to the red square. For experimental purpose, we can add a replication action by replacing the return value that corresponds to the top direction,"
   ]
  },
  {
   "cell_type": "code",
   "execution_count": null,
   "metadata": {},
   "outputs": [],
   "source": [
    "return new Action(Action.ActionType.MOVE, Direction.TOP);"
   ]
  },
  {
   "cell_type": "markdown",
   "metadata": {},
   "source": [
    "...with the following,"
   ]
  },
  {
   "cell_type": "code",
   "execution_count": null,
   "metadata": {},
   "outputs": [],
   "source": [
    "return new Action(Action.ActionType.REPLICATE, Direction.TOP);"
   ]
  }
 ],
 "metadata": {
  "kernelspec": {
   "display_name": "Python 3",
   "language": "python",
   "name": "python3"
  },
  "language_info": {
   "codemirror_mode": {
    "name": "ipython",
    "version": 3
   },
   "file_extension": ".py",
   "mimetype": "text/x-python",
   "name": "python",
   "nbconvert_exporter": "python",
   "pygments_lexer": "ipython3",
   "version": "3.7.4"
  }
 },
 "nbformat": 4,
 "nbformat_minor": 4
}
