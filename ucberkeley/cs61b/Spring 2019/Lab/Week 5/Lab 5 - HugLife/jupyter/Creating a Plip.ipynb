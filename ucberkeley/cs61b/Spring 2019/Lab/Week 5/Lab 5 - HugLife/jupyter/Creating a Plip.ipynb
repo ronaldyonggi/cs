{
 "cells": [
  {
   "cell_type": "markdown",
   "metadata": {},
   "source": [
    "# Basic Plip Functionality"
   ]
  },
  {
   "cell_type": "markdown",
   "metadata": {},
   "source": [
    "## 1. Name"
   ]
  },
  {
   "cell_type": "markdown",
   "metadata": {},
   "source": [
    "The `name()` method (inherited from `Occupant`) should return exactly `\"plip\"` with no spaces or capitalization.\n",
    "* This is important since creatures only know how to react to each other based on this name string."
   ]
  },
  {
   "cell_type": "markdown",
   "metadata": {},
   "source": [
    "#### Implementation"
   ]
  },
  {
   "cell_type": "markdown",
   "metadata": {},
   "source": [
    "We don't need to do anything for this! Notice in `Plip.java` that a constructor is already provided,"
   ]
  },
  {
   "cell_type": "code",
   "execution_count": null,
   "metadata": {},
   "outputs": [],
   "source": [
    "/**\n",
    " * creates plip with energy equal to E.\n",
    " */\n",
    "public Plip(double e) {\n",
    "    super(\"plip\");\n",
    "    r = 0;\n",
    "    g = 0;\n",
    "    b = 0;\n",
    "    energy = e;\n",
    "}"
   ]
  },
  {
   "cell_type": "markdown",
   "metadata": {},
   "source": [
    "It's calling the `super`'s constructor! To be able to understand this constructor, notice that the `Plip` class extends from `Creature`. Let's analyze `Creature.java`!\n",
    "\n",
    "Within `Creature.java`, we'll see the following,"
   ]
  },
  {
   "cell_type": "code",
   "execution_count": null,
   "metadata": {},
   "outputs": [],
   "source": [
    "/**\n",
    " * Creates a creature with the name N. The intention is that this\n",
    " * name should be shared between all creatures of the same type.\n",
    " */\n",
    "public Creature(String n) {\n",
    "    super(n);\n",
    "}"
   ]
  },
  {
   "cell_type": "markdown",
   "metadata": {},
   "source": [
    "It also calls its `super` constructor! See that the `Creature` class extends from `Occupant`. Now let's analyze `Occupant.java` and see if we can find anything."
   ]
  },
  {
   "cell_type": "code",
   "execution_count": null,
   "metadata": {},
   "outputs": [],
   "source": [
    "/**\n",
    " * Creates an Occupant with name equal to N.\n",
    " */\n",
    "public Occupant(String n) {\n",
    "    name = n;\n",
    "}\n"
   ]
  },
  {
   "cell_type": "markdown",
   "metadata": {},
   "source": [
    "The constructor indeed sets the name! This means we don't need to change anything."
   ]
  },
  {
   "cell_type": "markdown",
   "metadata": {},
   "source": [
    "## 2. Lose Energy, Gain Energy"
   ]
  },
  {
   "cell_type": "markdown",
   "metadata": {},
   "source": [
    "Plips should lose `0.15` units of energy on a `MOVE` action, and gain `0.2` units of energy on a `STAY` action."
   ]
  },
  {
   "cell_type": "markdown",
   "metadata": {},
   "source": [
    "#### Implementation"
   ]
  },
  {
   "cell_type": "markdown",
   "metadata": {},
   "source": [
    "Straightforward, simply set the `move()` and the `stay()` method so that they decrement and increment `energy`, respectively."
   ]
  },
  {
   "cell_type": "code",
   "execution_count": null,
   "metadata": {},
   "outputs": [],
   "source": [
    "/**\n",
    " * Plips should lose 0.15 units of energy when moving. If you want to\n",
    " * to avoid the magic number warning, you'll need to make a\n",
    " * private static final variable. This is not required for this lab.\n",
    " */\n",
    "public void move() {\n",
    "    // TODO\n",
    "    this.energy -= 0.15;\n",
    "}\n",
    "\n",
    "\n",
    "/**\n",
    " * Plips gain 0.2 energy when staying due to photosynthesis.\n",
    " */\n",
    "public void stay() {\n",
    "    // TODO\n",
    "    this.energy += 0.2;\n",
    "}"
   ]
  },
  {
   "cell_type": "markdown",
   "metadata": {},
   "source": [
    "## 3. Never have energy greater than 2"
   ]
  },
  {
   "cell_type": "markdown",
   "metadata": {},
   "source": [
    "#### Implementation"
   ]
  },
  {
   "cell_type": "markdown",
   "metadata": {},
   "source": [
    "Simply update the `stay()` method that sets the `energy` to `2` if the `energy` somehow becomes greater than `2`."
   ]
  },
  {
   "cell_type": "code",
   "execution_count": null,
   "metadata": {},
   "outputs": [],
   "source": [
    "/**\n",
    " * Plips gain 0.2 energy when staying due to photosynthesis.\n",
    " */\n",
    "public void stay() {\n",
    "    // TODO\n",
    "    this.energy += 0.2;\n",
    "    if (this.energy > 2) {\n",
    "        this.energy = 2;\n",
    "    }\n",
    "}"
   ]
  },
  {
   "cell_type": "markdown",
   "metadata": {},
   "source": [
    "## 4. Never have energy less than 0"
   ]
  },
  {
   "cell_type": "markdown",
   "metadata": {},
   "source": [
    "Plips should also never have energy less than `0`. If an action would cause the Plip to have energy less tha`0`, then it should be set to `0` instead."
   ]
  },
  {
   "cell_type": "markdown",
   "metadata": {},
   "source": [
    "#### Implementation"
   ]
  },
  {
   "cell_type": "markdown",
   "metadata": {},
   "source": [
    "The only Plip method that reduces `energy` is the `move()` method, so simply update it so that if the `energy` becomes less than `0` after the operation, set it to 0."
   ]
  },
  {
   "cell_type": "code",
   "execution_count": null,
   "metadata": {},
   "outputs": [],
   "source": [
    "/**\n",
    " * Plips should lose 0.15 units of energy when moving. If you want to\n",
    " * to avoid the magic number warning, you'll need to make a\n",
    " * private static final variable. This is not required for this lab.\n",
    " */\n",
    "public void move() {\n",
    "    // TODO\n",
    "    this.energy -= 0.15;\n",
    "    if (this.energy < 0) {\n",
    "        this.energy = 0;\n",
    "    }\n",
    "}\n"
   ]
  },
  {
   "cell_type": "markdown",
   "metadata": {},
   "source": [
    "## 5. Color"
   ]
  },
  {
   "cell_type": "markdown",
   "metadata": {},
   "source": [
    "The `color()` method for Plips should return a color with `red = 99`, `blue = 76`, and `green = 96*e+63`, where `e` is the plip's energy such that:\n",
    "* If the plip has 0 energy, it should have `green` value of `63`\n",
    "* If it has max energy, it should have a `green` value of `255`."
   ]
  },
  {
   "cell_type": "markdown",
   "metadata": {},
   "source": [
    "#### Implementation"
   ]
  },
  {
   "cell_type": "markdown",
   "metadata": {},
   "source": [
    "Keep in mind that `energy` is a `double`, so when we multiply `g` with `energy`, the outcome would be a double.\n",
    "\n",
    "The 3-argument `color` constructor expects `int`s as argument, so we would need to convert the result to `int`."
   ]
  },
  {
   "cell_type": "code",
   "execution_count": null,
   "metadata": {},
   "outputs": [],
   "source": [
    "public Color color() {\n",
    "    g = 63;\n",
    "    int green = (int) Math.round((g * energy) + 63);\n",
    "    return color(99, green, 76);\n",
    "}\n"
   ]
  },
  {
   "cell_type": "markdown",
   "metadata": {},
   "source": [
    "## 6. Testing"
   ]
  },
  {
   "cell_type": "markdown",
   "metadata": {},
   "source": [
    "Simply test the `testBasics()` in the `TestPlip.java` file!"
   ]
  },
  {
   "cell_type": "markdown",
   "metadata": {},
   "source": [
    "# The Plip replicate method"
   ]
  },
  {
   "cell_type": "markdown",
   "metadata": {},
   "source": [
    "* Write an appropriate test in the `testReplicate` method.\n",
    "* Check that the returned `Plip` is not the same `PLip` as the `Plip` whose `replicate()` method was called.\n",
    "\n",
    "The replication behavior of Plips is, when a Plip replicates, it keeps 50% of its energy. The other 50% goes to its offspring. No energy is lost in the replication process.\n",
    "\n",
    "Implement this logic in the `replicate()` method in `Plip.java`."
   ]
  },
  {
   "cell_type": "markdown",
   "metadata": {},
   "source": [
    "#### Implementation"
   ]
  },
  {
   "cell_type": "markdown",
   "metadata": {},
   "source": [
    "It might be easier to understand how the `replicate()` method works before writing the tests. We can get an example of the `replicate()` method in `SampleCreature.java`"
   ]
  },
  {
   "cell_type": "code",
   "execution_count": null,
   "metadata": {},
   "outputs": [],
   "source": [
    "/**\n",
    " * If a SampleCreature were to replicate, it would keep only 30% of its\n",
    " * energy, and a new baby creature would be returned that possesses 65%,\n",
    " * with 5% lost to the universe.\n",
    " * <p>\n",
    " * However, as you'll see above, SampleCreatures never choose to\n",
    " * replicate, so this method should never be called. It is provided\n",
    " * because the Creature class insist we know how to replicate boo.\n",
    " * <p>\n",
    " * If somehow this method were called, it would return a new\n",
    " * SampleCreature.\n",
    " */\n",
    "public SampleCreature replicate() {\n",
    "    energy = energy * repEnergyRetained;\n",
    "    double babyEnergy = energy * repEnergyGiven;\n",
    "    return new SampleCreature(babyEnergy);\n",
    "}\n"
   ]
  },
  {
   "cell_type": "markdown",
   "metadata": {},
   "source": [
    "Looking at the method above, we can deduce that the `replicate` method returns a new object of that creature, with the offspring `energy` as the argument for the constructor.\n",
    "\n",
    "A few things that we can test are:\n",
    "* After the replication, the `energy` of the original and the offspring should be roughly the same\n",
    "* The newly instantiated offspring shouldn't be the same as the original."
   ]
  },
  {
   "cell_type": "code",
   "execution_count": null,
   "metadata": {},
   "outputs": [],
   "source": [
    "@Test\n",
    "public void testReplicate() {\n",
    "    // TODO\n",
    "    Plip p = new Plip(2);\n",
    "    Plip baby = p.replicate();\n",
    "    assertEquals(p.energy(), baby.energy(), 0.1);\n",
    "    assertNotEquals(p, baby);\n",
    "}\n"
   ]
  },
  {
   "cell_type": "markdown",
   "metadata": {},
   "source": [
    "And finally, the `replicate()` method itself is very similar to `SampleCreature`'s `replicate()` method."
   ]
  },
  {
   "cell_type": "code",
   "execution_count": null,
   "metadata": {},
   "outputs": [],
   "source": [
    "/**\n",
    " * Plips and their offspring each get 50% of the energy, with none\n",
    " * lost to the process. Now that's efficiency! Returns a baby\n",
    " * Plip.\n",
    " */\n",
    "public Plip replicate() {\n",
    "    energy = energy / 2;\n",
    "    return new Plip(energy);\n",
    "}\n"
   ]
  },
  {
   "cell_type": "markdown",
   "metadata": {},
   "source": [
    "# The Plip `chooseAction()` method - Implementation"
   ]
  },
  {
   "cell_type": "markdown",
   "metadata": {},
   "source": [
    "Looking at the template that has been provided,"
   ]
  },
  {
   "cell_type": "code",
   "execution_count": null,
   "metadata": {},
   "outputs": [],
   "source": [
    "Deque<Direction> emptyNeighbors = new ArrayDeque<>();\n",
    "boolean anyClorus = false;"
   ]
  },
  {
   "cell_type": "markdown",
   "metadata": {},
   "source": [
    "We can deduce some information:\n",
    "1. The `emptyNeighbors` will be a deque containing empty spots adjacent to a plip.\n",
    "    * We'll have to loop through a plip's neighbors, and for every empty neighbor, we'll add it to this deque\n",
    "2. `anyClorus` is an indication whether any `clorus` is adjacet to a plip. \n",
    "    * During looping through a plip's neighbors, if one of the neighbor is a clorus, then we change this boolean to `true`.\n",
    "        \n",
    "If we look at the signature of the `chooseAction` method,"
   ]
  },
  {
   "cell_type": "code",
   "execution_count": null,
   "metadata": {},
   "outputs": [],
   "source": [
    "public Action chooseAction(Map<Direction, Occupant> neighbors){...}"
   ]
  },
  {
   "cell_type": "markdown",
   "metadata": {},
   "source": [
    "`neighbors` is a `Map`, where each key values, `Direction`, is mapped to its corresponding value, an `Occupant` (e.g. `Creature`, `Empty`, `Impassible`). \n",
    "\n",
    "How do we check if a neighbor is empty? See the sample `chooseAction()` method of `SampleCreature.java`."
   ]
  },
  {
   "cell_type": "code",
   "execution_count": null,
   "metadata": {},
   "outputs": [],
   "source": [
    "if (neighbors.get(Direction.TOP).name().equals(\"empty\") && Math.random() < moveProbability) {\n",
    "    return new Action(Action.ActionType.MOVE, Direction.TOP);\n"
   ]
  },
  {
   "cell_type": "markdown",
   "metadata": {},
   "source": [
    "Based on the sample code above, it seems that we'll need to:\n",
    "* Obtain a direction\n",
    "* Use the direction as an argument for the `get` method\n",
    "* Call the `name()` method and check if it's `.equal(\"empty\")`.\n",
    "\n",
    "The direction is the `key` of a `neighbor`. Since we have multiple neighbors, we can loop through the neighbors via enhanced for-loop over the keys of a Map."
   ]
  },
  {
   "cell_type": "code",
   "execution_count": 1,
   "metadata": {},
   "outputs": [
    {
     "ename": "SyntaxError",
     "evalue": "invalid syntax (<ipython-input-1-461f1a976f75>, line 1)",
     "output_type": "error",
     "traceback": [
      "\u001b[1;36m  File \u001b[1;32m\"<ipython-input-1-461f1a976f75>\"\u001b[1;36m, line \u001b[1;32m1\u001b[0m\n\u001b[1;33m    for (Direction key: neighbors.keySet()) {\u001b[0m\n\u001b[1;37m                     ^\u001b[0m\n\u001b[1;31mSyntaxError\u001b[0m\u001b[1;31m:\u001b[0m invalid syntax\n"
     ]
    }
   ],
   "source": [
    "// Loop through neighbors' keys\n",
    "for (Direction key: neighbors.keySet()) {\n",
    "    if (neighbors.get(key).name().equals(\"empty\")) {\n",
    "        emptyNeighbors.addLast(key);\n",
    "    }\n",
    "}"
   ]
  },
  {
   "cell_type": "markdown",
   "metadata": {},
   "source": [
    "While looping through each neighbor, we can also check if the `name()` is equal to `\"clorus\"`.\n",
    "* If it is, change the boolean `anyClorus` to `true`"
   ]
  },
  {
   "cell_type": "code",
   "execution_count": null,
   "metadata": {},
   "outputs": [],
   "source": [
    "else if (neighbors.get(key).name().equals(\"clorus\")) {\n",
    "    anyClorus = true;\n",
    "}"
   ]
  },
  {
   "cell_type": "markdown",
   "metadata": {},
   "source": [
    "After looping through the `neighbors`, that's when we can start applying the rules.\n",
    "\n",
    "1. If there are no empty spaces, the Plip should `STAY`.\n",
    "    * We know that there are no empty spaces when the deque is empty."
   ]
  },
  {
   "cell_type": "code",
   "execution_count": null,
   "metadata": {},
   "outputs": [],
   "source": [
    "if (emptyNeighbors.isEmpty()) {\n",
    "    return new Action(Action.ActionType.STAY);\n",
    "}"
   ]
  },
  {
   "cell_type": "markdown",
   "metadata": {},
   "source": [
    "2. Otherwise, if the Plip has energy greater than or equal to 1.0, it should replicate to an available space.\n",
    "\n",
    "Looking at the sample code in `SampleCreature.java`, the `new Action` object takes 2 arguments:\n",
    "* The action type\n",
    "* The direction\n",
    "\n",
    "We know how to write replicate, but what about the direction? Turns out that the `HugLifeUtils` conveniently provided us with the `randomEntry` method that we can use."
   ]
  },
  {
   "cell_type": "code",
   "execution_count": null,
   "metadata": {},
   "outputs": [],
   "source": [
    "else if (energy >= 1.0) {\n",
    "    return new Action(Action.ActionType.REPLICATE, randomEntry(emptyNeighbors));\n",
    "}"
   ]
  },
  {
   "cell_type": "markdown",
   "metadata": {},
   "source": [
    "3. If it sees a neighbor of `\"clorus\"`, move to any available empty square randomly with probability 50%. \n",
    "\n",
    "Looking at the example `chooseAction` in `SampleCreature.java`, "
   ]
  },
  {
   "cell_type": "code",
   "execution_count": null,
   "metadata": {},
   "outputs": [],
   "source": [
    "if (neighbors.get(Direction.TOP).name().equals(\"empty\") && Math.random() < moveProbability)"
   ]
  },
  {
   "cell_type": "markdown",
   "metadata": {},
   "source": [
    "We see that the requirement for the sample creature to move is that:\n",
    "1. That particular direction is \"empty\"\n",
    "2. A probability is involved. For sample creature, the probability of moving is 20%\n",
    "\n",
    "We can use similar formatting for plip with probability of moving of 50%. We don't need to check if there's an empty neighboring condition since the first `if` clause already takes care of that."
   ]
  },
  {
   "cell_type": "code",
   "execution_count": null,
   "metadata": {},
   "outputs": [],
   "source": [
    "else if (anyClorus && Math.random() < moveProbability) {\n",
    "    return new Action(Action.ActionType.MOVE, randomEntry(emptyNeighbors));\n",
    "}"
   ]
  },
  {
   "cell_type": "markdown",
   "metadata": {},
   "source": [
    "4. Otherwise, just stay"
   ]
  },
  {
   "cell_type": "code",
   "execution_count": null,
   "metadata": {},
   "outputs": [],
   "source": [
    "else {\n",
    "    return new Action(Action.ActionType.STAY);\n",
    "}"
   ]
  },
  {
   "cell_type": "markdown",
   "metadata": {},
   "source": [
    "The full implementation is as the following,"
   ]
  },
  {
   "cell_type": "code",
   "execution_count": null,
   "metadata": {},
   "outputs": [],
   "source": [
    "public Action chooseAction(Map<Direction, Occupant> neighbors) {\n",
    "    // Rule 1\n",
    "    /**\n",
    "     * emptyNeighbors is a deque that will contain the empty neighbors,\n",
    "     * if any.\n",
    "     */\n",
    "    Deque<Direction> emptyNeighbors = new ArrayDeque<>();\n",
    "    /**\n",
    "     * anyCLorus is an indicator whether there's any clorus present\n",
    "     * adjacent to the plip\n",
    "     */\n",
    "    boolean anyClorus = false;\n",
    "\n",
    "    /**\n",
    "     * neighbor is a map of direction:occupant. We get the keys and loop\n",
    "     * through them to get the names. If the name is empty, add that\n",
    "     * direction (key) to the deque. If the name is clorus, then\n",
    "     * change anyClorus to true\n",
    "     */\n",
    "    for (Direction key: neighbors.keySet()) {\n",
    "        if (neighbors.get(key).name().equals(\"empty\")) {\n",
    "            emptyNeighbors.addLast(key);\n",
    "        } else if (neighbors.get(key).name().equals(\"clorus\")) {\n",
    "            anyClorus = true;\n",
    "        }\n",
    "    }\n",
    "\n",
    "    if (emptyNeighbors.isEmpty()) {\n",
    "        return new Action(Action.ActionType.STAY);\n",
    "    } else if (energy >= 1.0) {\n",
    "        return new Action(Action.ActionType.REPLICATE, randomEntry(emptyNeighbors));\n",
    "    } else if (anyClorus && Math.random() < moveProbability) {\n",
    "        // Rule 3\n",
    "        return new Action(Action.ActionType.MOVE, randomEntry(emptyNeighbors));\n",
    "    } else {\n",
    "        // Rule 4\n",
    "        return new Action(Action.ActionType.STAY);\n",
    "    }\n",
    "}\n"
   ]
  }
 ],
 "metadata": {
  "kernelspec": {
   "display_name": "Python 3",
   "language": "python",
   "name": "python3"
  },
  "language_info": {
   "codemirror_mode": {
    "name": "ipython",
    "version": 3
   },
   "file_extension": ".py",
   "mimetype": "text/x-python",
   "name": "python",
   "nbconvert_exporter": "python",
   "pygments_lexer": "ipython3",
   "version": "3.7.4"
  }
 },
 "nbformat": 4,
 "nbformat_minor": 4
}
