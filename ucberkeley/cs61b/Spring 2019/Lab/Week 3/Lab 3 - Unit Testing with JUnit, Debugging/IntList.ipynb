{
 "cells": [
  {
   "cell_type": "markdown",
   "metadata": {},
   "source": [
    "# IntLists"
   ]
  },
  {
   "cell_type": "markdown",
   "metadata": {},
   "source": [
    "As with last week's lab, we'll take advantage of the `of` method with the `IntList` class, which makes creating `IntLists` (and writing `IntList` tests) much easier. \n",
    "\n",
    "For example, consider:"
   ]
  },
  {
   "cell_type": "code",
   "execution_count": null,
   "metadata": {},
   "outputs": [],
   "source": [
    "IntList mylist = IntList.of(0, 1, 2, 3);"
   ]
  },
  {
   "cell_type": "markdown",
   "metadata": {},
   "source": [
    "Which will create the `IntList`"
   ]
  },
  {
   "cell_type": "code",
   "execution_count": null,
   "metadata": {},
   "outputs": [],
   "source": [
    "0 -> 1 -> 2 -> 3 -> null"
   ]
  },
  {
   "cell_type": "markdown",
   "metadata": {},
   "source": [
    "## Test a Reverse Method"
   ]
  },
  {
   "cell_type": "markdown",
   "metadata": {},
   "source": [
    "Note: make sure to copy the `IntList.java` from `lab2` into `lab3/IntList` folder.\n",
    "\n",
    "In this section, our goal is to write the `reverse` method. We'll showcase the idea of TDD (test-driven development) for this exercise, where we write a unit test even before we write the new method. \n",
    "\n",
    "Add a new test to `IntListTest.java` that tests the `.reverse()` method, which we can assume has the following definition:"
   ]
  },
  {
   "cell_type": "code",
   "execution_count": null,
   "metadata": {},
   "outputs": [],
   "source": [
    "/**\n",
    " * Returns the reverse of the given IntList.\n",
    " * This method is destructive. If given null\n",
    " * as an input, returns null.\n",
    " */\n",
    "public static IntList reverse(IntList A)"
   ]
  },
  {
   "cell_type": "markdown",
   "metadata": {},
   "source": [
    "Don't add a `reverse` method to `IntList` yet. We're going to write a test **BEFORE** we write `reverse`.\n",
    "\n",
    "The test should test at least the following 3 situations:\n",
    "1. That the function returns a reversed list\n",
    "2. That the function is destructive\n",
    "    * When it's done running, the list pointed by `A` has been tampered with\n",
    "    * We can use `assertNotEquals`\n",
    "    \n"
   ]
  },
  {
   "cell_type": "code",
   "execution_count": null,
   "metadata": {},
   "outputs": [],
   "source": [
    "@Test\n",
    "public void testReverse() {\n",
    "\n",
    "    // Test 1\n",
    "    IntList original = IntList.of(1, 2, 3);\n",
    "    IntList expected = IntList.of(3, 2, 1);\n",
    "    IntList actual = IntList.reverse(original);\n",
    "\n",
    "    assertEquals((expected, actual)); // Passes if expected and actual is equal\n",
    "    assertNotEquals(original, actual); // Passes if original and actual is not equal\n",
    "\n",
    "    // Test 2 : Tests null\n",
    "    IntList original1 = null;\n",
    "    assertEquals(original1, null);\n",
    "\n",
    "}\n"
   ]
  },
  {
   "cell_type": "markdown",
   "metadata": {},
   "source": [
    "## Writing a Reverse Method"
   ]
  },
  {
   "cell_type": "markdown",
   "metadata": {},
   "source": [
    "Now create a dummy version of the `reverse` method into `IntList.java` that simply returns `null`. The only goal here is to get `IntList.java` to compile. "
   ]
  },
  {
   "cell_type": "code",
   "execution_count": null,
   "metadata": {},
   "outputs": [],
   "source": [
    "/**\n",
    " * Returns the reverse of the given list. This method is destructive.\n",
    " * If given null as an input, returns null\n",
    " * @param A an IntList to be reversed\n",
    " * @return the reversed version of the IntList A. If give null as an input, returns null\n",
    " */\n",
    "public static IntList reverse(IntList A) {\n",
    "    return null;\n",
    "}\n"
   ]
  },
  {
   "cell_type": "markdown",
   "metadata": {},
   "source": [
    "When we run the test, it should fail. This is a good sign since we've now reached the \"read\" phase of the TDD cycle!\n",
    "\n",
    "Now write the actual `reverse` method and rerun the tests until it passes. \n",
    "\n",
    "Tip: If we want to have a test timeout after a certain amount of time (to prevent infinite loops), we can declare our test like the following,"
   ]
  },
  {
   "cell_type": "code",
   "execution_count": null,
   "metadata": {},
   "outputs": [],
   "source": [
    "@Test(timeout = 1000)"
   ]
  },
  {
   "cell_type": "markdown",
   "metadata": {},
   "source": [
    "The given parameter specifies the maximum time in milliseconds. Later in the course, we might come across tests which seem to \"give up\" while we're in the process of debugging them before hitting an error. This is often caused by the fact that we have a timeout specified, so we can always remove it while debugging."
   ]
  },
  {
   "cell_type": "markdown",
   "metadata": {},
   "source": [
    "#### Writer's Note:"
   ]
  },
  {
   "cell_type": "markdown",
   "metadata": {},
   "source": [
    "There's an excellent `reverse` method explanation from [Back to Back SWE](https://youtu.be/O0By4Zq0OFc). This helps me understand the solution from discussion 3. Comparing this solution with the youtube video, the analogy is:\n",
    "* `A` is `prev`\n",
    "* `pointer` is `curr`\n",
    "*` temp` is `next`"
   ]
  },
  {
   "cell_type": "code",
   "execution_count": 1,
   "metadata": {},
   "outputs": [
    {
     "ename": "SyntaxError",
     "evalue": "invalid syntax (<ipython-input-1-bf8c0fef8e2e>, line 1)",
     "output_type": "error",
     "traceback": [
      "\u001b[0;36m  File \u001b[0;32m\"<ipython-input-1-bf8c0fef8e2e>\"\u001b[0;36m, line \u001b[0;32m1\u001b[0m\n\u001b[0;31m    // Iterative version\u001b[0m\n\u001b[0m     ^\u001b[0m\n\u001b[0;31mSyntaxError\u001b[0m\u001b[0;31m:\u001b[0m invalid syntax\n"
     ]
    }
   ],
   "source": [
    "// Iterative version\n",
    "public static IntList reverse(IntList A) {\n",
    "    if (A == null || A.rest == null) {\n",
    "        return A; // Base case\n",
    "    }\n",
    "\n",
    "    IntList pointer = A.rest;\n",
    "    A.rest = null;\n",
    "    while (pointer != null) {\n",
    "        IntList next = pointer.rest;\n",
    "        pointer.rest = A;\n",
    "        A = pointer;\n",
    "        pointer = next;\n",
    "    }\n",
    "\n",
    "    return A;\n",
    "\n",
    "}"
   ]
  },
  {
   "cell_type": "markdown",
   "metadata": {},
   "source": [
    "The explanation is as the following,\n",
    "\n",
    "Let's say we have the following list,"
   ]
  },
  {
   "cell_type": "code",
   "execution_count": null,
   "metadata": {},
   "outputs": [],
   "source": [
    "1 -> 2 -> 3 -> 4 -> null"
   ]
  },
  {
   "cell_type": "markdown",
   "metadata": {},
   "source": [
    "The goal is simply to reverse the pointers (arrows), and adding `null` behind `1`.\n",
    "\n",
    "Explanation:\n",
    "\n",
    "`1[A]` --> This means `A` is currently pointing at 1.\n",
    "\n",
    "`3[ptr, next]` --> This means both `ptr` and `next` are pointing at 3"
   ]
  },
  {
   "cell_type": "code",
   "execution_count": null,
   "metadata": {},
   "outputs": [],
   "source": [
    "1[A] -> 2 -> 3 -> 4 -> null\n",
    "\n",
    "IntList pointer = A.rest; // Results below\n",
    "\n",
    "1[A] -> 2 [pointer] -> 3 -> 4 -> null\n",
    "\n",
    "A.rest = null;\n",
    "\n",
    "null <- 1[A] ... 2[ptr] -> 3 -> 4 -> null // Notice the arrow between 1 and 2 is gone!\n",
    "// This is because we set 1's rest to null\n",
    "\n",
    "IntList next = pointer.rest;\n",
    "\n",
    "null <- 1[A] ... 2[ptr] -> 3[next] -> 4 -> null\n",
    "\n",
    "pointer.rest = A;\n",
    "\n",
    "null <- 1[A] <- 2[ptr] ... 3[next] -> 4 -> null // 2's rest is now 1!\n",
    "\n",
    "A = pointer;\n",
    "\n",
    "null <- 1 <- 2[ptr, A] ... 3[next] -> 4 -> null\n",
    "\n",
    "pointer = next;\n",
    "\n",
    "null <- 1 <- 2[A] ... 3[next, ptr] -> 4 -> null\n",
    "\n",
    "Go back to beginning of while loop\n",
    "IntList next = pointer.rest;\n",
    "\n",
    "null <- 1 <- 2[A] ... 3[ptr] -> 4 [next] -> null\n",
    "\n",
    "pointer.rest = A;\n",
    "\n",
    "null <- 1 <- 2[A] <- 3[ptr] ... 4 [next] -> null // 3's rest is now 2\n",
    "\n",
    "A = pointer;\n",
    "\n",
    "null <- 1 <- 2 <- 3[ptr, A] ... 4 [next] -> null\n",
    "\n",
    "pointer = next;\n",
    "\n",
    "null <- 1 <- 2 <- 3[A] ... 4 [next, ptr] -> null\n",
    "\n",
    "Go back to beginning of while loop\n",
    "IntList next = pointer.rest;\n",
    "\n",
    "null <- 1 <- 2 <- 3[A] ... 4 [ptr] -> null[next]\n",
    "\n",
    "pointer.rest = A;\n",
    "\n",
    "null <- 1 <- 2 <- 3[A] <- 4 [ptr] ... null[next] // 4's rest is now 3!\n",
    "\n",
    "A = pointer;\n",
    "\n",
    "null <- 1 <- 2 <- 3 <- 4 [ptr,A] ... null[next]\n",
    "\n",
    "pointer = next;\n",
    "\n",
    "null <- 1 <- 2 <- 3 <- 4 [A] ... null[next, pointer]\n",
    "\n",
    "return A\n",
    "\n",
    "null <- 1 <- 2 <- 3 <- 4 [A]"
   ]
  },
  {
   "cell_type": "markdown",
   "metadata": {},
   "source": [
    "By now, `A` is already pointing at the reversed list!"
   ]
  },
  {
   "cell_type": "code",
   "execution_count": null,
   "metadata": {},
   "outputs": [],
   "source": []
  }
 ],
 "metadata": {
  "kernelspec": {
   "display_name": "Python 3",
   "language": "python",
   "name": "python3"
  },
  "language_info": {
   "codemirror_mode": {
    "name": "ipython",
    "version": 3
   },
   "file_extension": ".py",
   "mimetype": "text/x-python",
   "name": "python",
   "nbconvert_exporter": "python",
   "pygments_lexer": "ipython3",
   "version": "3.7.3"
  }
 },
 "nbformat": 4,
 "nbformat_minor": 4
}
