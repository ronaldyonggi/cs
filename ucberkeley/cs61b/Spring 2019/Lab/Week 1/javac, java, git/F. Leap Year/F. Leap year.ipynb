{
 "cells": [
  {
   "cell_type": "markdown",
   "metadata": {},
   "source": [
    "# F. Leap Year"
   ]
  },
  {
   "cell_type": "markdown",
   "metadata": {},
   "source": [
    "The `LeapYear.java` is supposed to test whether or not a given year is a Leap Year. The user will give a year as a command line parameter, and then print out whether or not that year is a leap year. For example,"
   ]
  },
  {
   "cell_type": "code",
   "execution_count": null,
   "metadata": {},
   "outputs": [],
   "source": [
    "$ java LeapYear 2000\n",
    "2000 is a leap year.\n",
    "$ java LeapYear 1999\n",
    "1999 is not a leap year.\n",
    "$ java LeapYear 2004\n",
    "2004 is a leap year.\n",
    "$ java Leapyear 2100\n",
    "2100 is not a leap year."
   ]
  },
  {
   "cell_type": "markdown",
   "metadata": {},
   "source": [
    "A leap year is either:\n",
    "* divisible by 400 or,\n",
    "* divisible by 4 and not by 100\n",
    "\n",
    "For example, 2000 and 2004 are leap years. 1900, 2003 and 2100 are not.\n",
    "\n",
    "The code must declare a method as follows: `public static boolean isLeapYear(int year)`. Make sure to provide a description of the method as a comment. The description should be contained by `/**` and `*/`. Comments contained by `/**` and `*/` are also called Javadoc comments or just Javadocs. These comments can span multiple lines if they need the extra space, e.g. the `checkLeapYear` Javadocs.\n",
    "\n",
    "Javadocs may contain optional tags, e.g. `@param`. Use the `@source` tag any time we receive significant help on a project. The `@source` tag is not required for HW or lab, though it is recommended anyway since it's a good scholarly and professional habit to cite sources."
   ]
  },
  {
   "cell_type": "code",
   "execution_count": 3,
   "metadata": {},
   "outputs": [],
   "source": [
    "public class LeapYear {\n",
    "    /** Calls isLeapYar to print correct statement.\n",
    "    * @param year to be analyzed\n",
    "    */\n",
    "    private static void checkLeapYear(int year) {\n",
    "        // If (year is divisible by 4 and not divisible by 0) or year is divisible by 4, then it's a leap year!\n",
    "        if ((year % 4 == 0 && year % 100 != 0) || (year % 400 == 0)) System.out.printf(\"%d is a leap year.\\n\", year);\n",
    "        else {System.out.printf(\"d is not a leap year.\\n\", year);}\n",
    "    }\n",
    "}"
   ]
  },
  {
   "cell_type": "markdown",
   "metadata": {},
   "source": [
    "The `LeapYear.java` files is available in the current directory. Make sure to compile it before running."
   ]
  },
  {
   "cell_type": "code",
   "execution_count": 5,
   "metadata": {},
   "outputs": [
    {
     "name": "stdout",
     "output_type": "stream",
     "text": [
      "2000 is a leap year.\n"
     ]
    }
   ],
   "source": [
    "!java LeapYear 2000"
   ]
  },
  {
   "cell_type": "code",
   "execution_count": 6,
   "metadata": {},
   "outputs": [
    {
     "name": "stdout",
     "output_type": "stream",
     "text": [
      "2004 is a leap year.\n"
     ]
    }
   ],
   "source": [
    "!java LeapYear 2004"
   ]
  },
  {
   "cell_type": "code",
   "execution_count": 7,
   "metadata": {},
   "outputs": [
    {
     "name": "stdout",
     "output_type": "stream",
     "text": [
      "2003 is not a leap year.\n"
     ]
    }
   ],
   "source": [
    "!java LeapYear 2003"
   ]
  },
  {
   "cell_type": "code",
   "execution_count": 8,
   "metadata": {},
   "outputs": [
    {
     "name": "stdout",
     "output_type": "stream",
     "text": [
      "2100 is not a leap year.\n"
     ]
    }
   ],
   "source": [
    "!java LeapYear 2100"
   ]
  },
  {
   "cell_type": "code",
   "execution_count": 10,
   "metadata": {},
   "outputs": [
    {
     "name": "stdout",
     "output_type": "stream",
     "text": [
      "1900 is not a leap year.\n"
     ]
    }
   ],
   "source": [
    "!java LeapYear 1900"
   ]
  },
  {
   "cell_type": "code",
   "execution_count": 11,
   "metadata": {},
   "outputs": [
    {
     "name": "stdout",
     "output_type": "stream",
     "text": [
      "1999 is not a leap year.\n"
     ]
    }
   ],
   "source": [
    "!java LeapYear 1999"
   ]
  },
  {
   "cell_type": "code",
   "execution_count": null,
   "metadata": {},
   "outputs": [],
   "source": []
  }
 ],
 "metadata": {
  "kernelspec": {
   "display_name": "Python 3",
   "language": "python",
   "name": "python3"
  },
  "language_info": {
   "codemirror_mode": {
    "name": "ipython",
    "version": 3
   },
   "file_extension": ".py",
   "mimetype": "text/x-python",
   "name": "python",
   "nbconvert_exporter": "python",
   "pygments_lexer": "ipython3",
   "version": "3.7.3"
  }
 },
 "nbformat": 4,
 "nbformat_minor": 4
}
