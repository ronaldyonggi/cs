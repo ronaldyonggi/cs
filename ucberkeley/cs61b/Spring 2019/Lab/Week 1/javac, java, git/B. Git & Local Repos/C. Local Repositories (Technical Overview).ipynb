{
 "cells": [
  {
   "cell_type": "markdown",
   "metadata": {},
   "source": [
    "## Initializing Local Repositories"
   ]
  },
  {
   "cell_type": "markdown",
   "metadata": {},
   "source": [
    "A repository stores files as well as the history of changes to those files. In order to begin, we must initialize a Git repository by typing the following command into the terminal **while in the directory whose history we want to store in a local repository**. "
   ]
  },
  {
   "cell_type": "code",
   "execution_count": null,
   "metadata": {},
   "outputs": [],
   "source": [
    "git init"
   ]
  },
  {
   "cell_type": "markdown",
   "metadata": {},
   "source": [
    "When we initialize a Git repository, Git creates a `.git` subdirectory. Inside this directory it will store a bunch of metadata, as well as old snapshots of the files. However, we'll never need to actually open the contents of this `.git` directory, and we SHOULD DEFINITELY NOT change anything inside this directory!"
   ]
  },
  {
   "cell_type": "markdown",
   "metadata": {},
   "source": [
    "## Tracked vs. Untracked Files"
   ]
  },
  {
   "cell_type": "markdown",
   "metadata": {},
   "source": [
    "Git repos start off not tracking any files. In order to save the revision history fo a file, we need to track it.\n",
    "\n",
    "<img src = 'git.png' width = 800/>"
   ]
  },
  {
   "cell_type": "markdown",
   "metadata": {},
   "source": [
    "As the figure above shows, files falls into 2 main categories:\n",
    "1. `Untracked files`\n",
    "    * These files have either never been tracked or were removed by tracking\n",
    "    * Git is not maintaining history for these files\n",
    "2. `Tracked files`\n",
    "    * These files have been added to the Git repository and can be in various stages of modification:\n",
    "        * `Unmodified`: one that has ahd no new changes since the last version of the files was added to the Git repo\n",
    "        * `Modified`: One that is different from the last one Git has saved\n",
    "        * `Staged`: One that a user has designated as part of a future commit (usually through the `git add` command). \n",
    "        \n",
    "The `git status` command allows us to see the status of each file, e.g. whether it is untracked, unmodified, modified or staged. "
   ]
  },
  {
   "cell_type": "code",
   "execution_count": null,
   "metadata": {},
   "outputs": [],
   "source": [
    "git status"
   ]
  },
  {
   "cell_type": "markdown",
   "metadata": {},
   "source": [
    "The `git status` is extremely useful for determining the exact status of each file in the repository. If we are confused about what has changed and what needs to be committed, it can remind us of what to do next."
   ]
  },
  {
   "cell_type": "markdown",
   "metadata": {},
   "source": [
    "## Staging and Committing"
   ]
  },
  {
   "cell_type": "markdown",
   "metadata": {},
   "source": [
    "A `commit` is a specific snapshot of the working directory at a particular time. Users must specify what exactly composes the snapshot by staging files.\n",
    "\n",
    "The `add` command lets us stage a file. "
   ]
  },
  {
   "cell_type": "code",
   "execution_count": null,
   "metadata": {},
   "outputs": [],
   "source": [
    "git add [FILENAME]"
   ]
  },
  {
   "cell_type": "markdown",
   "metadata": {},
   "source": [
    "Once we have staged all files we want to include in the snapshot, we can commit them as one block with a message using the `git commit -m [MESSAGE]` command."
   ]
  },
  {
   "cell_type": "code",
   "execution_count": null,
   "metadata": {},
   "outputs": [],
   "source": [
    "git commit -m \"[MESSAGE]\""
   ]
  },
  {
   "cell_type": "markdown",
   "metadata": {},
   "source": [
    "The message should be descriptive and explain what changes the commit makes to the code. We may want to describe bug fixes, implement classes, etc. so that the messages are helpful later when looking through the commit log.\n",
    "\n",
    "To see previous commits, we can use the `log` command,"
   ]
  },
  {
   "cell_type": "code",
   "execution_count": null,
   "metadata": {},
   "outputs": [],
   "source": [
    "git log"
   ]
  },
  {
   "cell_type": "markdown",
   "metadata": {},
   "source": [
    "As a side note on development workflow, it is a good practice to commit code as often as possible. Whenever we make a significant (or even minor) changes to the code, make a commit. If we are trying something out that we might not stick with, commit it (perhaps to a different branch).\n",
    "\n",
    "**Rule of Thumb**: If we commit, we can always revert back the code or change it. However, if we don't commit, we won't be able to get the old versions back. Commit often!"
   ]
  },
  {
   "cell_type": "markdown",
   "metadata": {},
   "source": [
    "## Undoing Changes"
   ]
  },
  {
   "cell_type": "markdown",
   "metadata": {},
   "source": [
    "The Git references has a section on [undoing things](http://git-scm.com/book/en/Git-Basics-Undoing-Things). "
   ]
  },
  {
   "cell_type": "markdown",
   "metadata": {},
   "source": [
    "#### Unstage a file that we haven't committed"
   ]
  },
  {
   "cell_type": "code",
   "execution_count": null,
   "metadata": {},
   "outputs": [],
   "source": [
    "git reset HEAD [FILENAME]"
   ]
  },
  {
   "cell_type": "markdown",
   "metadata": {},
   "source": [
    "This will take the file's status back to modified, leaving changes intact.\n",
    "\n",
    "Why would we need this command? Let's say we accidentally started trackin a file that we didn't want to track, or we made some changes to a file that we thought we would commit but no longer want to commit quite yet."
   ]
  },
  {
   "cell_type": "markdown",
   "metadata": {},
   "source": [
    "#### Amend latest commit (changing commit message or add forgotten files)"
   ]
  },
  {
   "cell_type": "code",
   "execution_count": null,
   "metadata": {},
   "outputs": [],
   "source": [
    "git add [forgotten files]\n",
    "git commit -ammend"
   ]
  },
  {
   "cell_type": "markdown",
   "metadata": {},
   "source": [
    "This new ammended commit will replace the previous commit"
   ]
  },
  {
   "cell_type": "markdown",
   "metadata": {},
   "source": [
    "#### Revert a file to its state at the time of the most recent commit"
   ]
  },
  {
   "cell_type": "code",
   "execution_count": null,
   "metadata": {},
   "outputs": [],
   "source": [
    "git checkout -- [file]"
   ]
  },
  {
   "cell_type": "markdown",
   "metadata": {},
   "source": [
    "This command is useful if we would like to actually undo our work. Let's say that we have modified a certain `file` since committing previously, but we would like our file back to how it was before modifications.\n",
    "\n",
    "This command is potentially dangerous because any changes we made to the file since the last commit will be removed!"
   ]
  }
 ],
 "metadata": {
  "kernelspec": {
   "display_name": "Python 3",
   "language": "python",
   "name": "python3"
  },
  "language_info": {
   "codemirror_mode": {
    "name": "ipython",
    "version": 3
   },
   "file_extension": ".py",
   "mimetype": "text/x-python",
   "name": "python",
   "nbconvert_exporter": "python",
   "pygments_lexer": "ipython3",
   "version": "3.7.3"
  }
 },
 "nbformat": 4,
 "nbformat_minor": 4
}
