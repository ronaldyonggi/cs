{
 "cells": [
  {
   "cell_type": "markdown",
   "metadata": {},
   "source": [
    "## Writer Note\n",
    "In Jupyter notebook, any command that works at the command-line can be used in `IPython` by prefixing it with the `!` character. However, we can't use `!` to navigate filesystem (e.g. `cd ..`) because the shell commands in the notebook are executed in a temporary subshell. For changing directory, we can use the `%` magic command.\n",
    "\n",
    "[Source](https://jakevdp.github.io/PythonDataScienceHandbook/01.05-ipython-and-shell-commands.html)"
   ]
  },
  {
   "cell_type": "markdown",
   "metadata": {},
   "source": [
    "This section follows the video version of the narrative examples.\n",
    "\n",
    "Suppose we have a bunch of recipes"
   ]
  },
  {
   "cell_type": "code",
   "execution_count": 14,
   "metadata": {},
   "outputs": [
    {
     "name": "stdout",
     "output_type": "stream",
     "text": [
      "/Users/ronaldyonggi/Documents/cs61b/Lab/Week 1/javac, java, git/B. Git & Local Repos/recipes\n",
      "/Users/ronaldyonggi/Documents/cs61b/Lab/Week 1/javac, java, git/B. Git & Local Repos/recipes/seitan\n"
     ]
    }
   ],
   "source": [
    "%mkdir recipes\n",
    "%cd recipes/\n",
    "%mkdir seitan\n",
    "%mkdir tofu\n",
    "%cd seitan\n",
    "!code smoky_carrot_tahini_seitan_slaw.txt\n",
    "!code boiled_seitan.txt\n",
    "# My default text editor is Visual Studio Code, so I used the keyword 'code' instead of 'subl'"
   ]
  },
  {
   "cell_type": "code",
   "execution_count": 15,
   "metadata": {},
   "outputs": [
    {
     "name": "stdout",
     "output_type": "stream",
     "text": [
      "/Users/ronaldyonggi/Documents/cs61b/Lab/Week 1/javac, java, git/B. Git & Local Repos/recipes/tofu\n"
     ]
    }
   ],
   "source": [
    "%cd ../tofu\n",
    "!code kung_pao_tofu.txt\n",
    "!code basil_ginger_tofu.txt"
   ]
  },
  {
   "cell_type": "markdown",
   "metadata": {},
   "source": [
    "Now we have 4 recipes:\n",
    "* 2 for tofu\n",
    "* 2 for seitan\n",
    "\n",
    "To set up the git repository to store the histories of our recipes as they evolve, go to the `recipes`"
   ]
  },
  {
   "cell_type": "code",
   "execution_count": 17,
   "metadata": {},
   "outputs": [
    {
     "name": "stdout",
     "output_type": "stream",
     "text": [
      "/Users/ronaldyonggi/Documents/cs61b/Lab/Week 1/javac, java, git/B. Git & Local Repos/recipes\n"
     ]
    }
   ],
   "source": [
    "%cd .."
   ]
  },
  {
   "cell_type": "markdown",
   "metadata": {},
   "source": [
    "And type the following,"
   ]
  },
  {
   "cell_type": "code",
   "execution_count": 19,
   "metadata": {},
   "outputs": [
    {
     "name": "stdout",
     "output_type": "stream",
     "text": [
      "Initialized empty Git repository in /Users/ronaldyonggi/Documents/cs61b/Lab/Week 1/javac, java, git/B. Git & Local Repos/recipes/.git/\n"
     ]
    }
   ],
   "source": [
    "!git init"
   ]
  },
  {
   "cell_type": "markdown",
   "metadata": {},
   "source": [
    "The `git init` command tells the git version control system that we want to track the history of the current directory (in this case, the `recipes` directory). However, at this point **NOTHING IS STORED IN THE REPOSITORY YET**. An analogy is that we just purchased a safe, but we haven't put anything in it yet.\n",
    "\n",
    "To store everything in the repository, we need to first add files. "
   ]
  },
  {
   "cell_type": "code",
   "execution_count": 20,
   "metadata": {},
   "outputs": [],
   "source": [
    "!git add ./tofu/kung_pao_tofu.txt"
   ]
  },
  {
   "cell_type": "markdown",
   "metadata": {},
   "source": [
    "Even after calling the `add` command, we still haven't stored the recipe in the repository (or safe, if we want to think it that way).\n",
    "\n",
    "What we did above is adding `kung_pao_tofu.txt` to the list of files to track (to be added to the safe later). We might not want to necessarily track every single file in the `recipes` folder, so the `add` command tells git which ones it should be tracking. We can see the effect of this command by using the `git status` command."
   ]
  },
  {
   "cell_type": "code",
   "execution_count": 21,
   "metadata": {},
   "outputs": [
    {
     "name": "stdout",
     "output_type": "stream",
     "text": [
      "On branch master\n",
      "\n",
      "No commits yet\n",
      "\n",
      "Changes to be committed:\n",
      "  (use \"git rm --cached <file>...\" to unstage)\n",
      "\n",
      "\t\u001b[32mnew file:   tofu/kung_pao_tofu.txt\u001b[m\n",
      "\n",
      "Untracked files:\n",
      "  (use \"git add <file>...\" to include in what will be committed)\n",
      "\n",
      "\t\u001b[31mseitan/\u001b[m\n",
      "\t\u001b[31mtofu/basil_ginger_tofu.txt\u001b[m\n",
      "\n"
     ]
    }
   ],
   "source": [
    "!git status"
   ]
  },
  {
   "cell_type": "markdown",
   "metadata": {},
   "source": [
    "The `changes to be committed` section lists all the files that are currently being tracked and whose changes are ready to be committed (ready to be put in the safe).\n",
    "\n",
    "We also see that there are `Untracked files`,\n",
    "* The `seitan` directory\n",
    "* The `tofu/basil_ginger_tofu.txt` file\n",
    "\n",
    "These are untracked because we haven't added them using `git add`.\n",
    "\n",
    "Now let's add `tofu/basil_ginger_tofu.txt` and check the status once more."
   ]
  },
  {
   "cell_type": "code",
   "execution_count": 22,
   "metadata": {},
   "outputs": [
    {
     "name": "stdout",
     "output_type": "stream",
     "text": [
      "On branch master\n",
      "\n",
      "No commits yet\n",
      "\n",
      "Changes to be committed:\n",
      "  (use \"git rm --cached <file>...\" to unstage)\n",
      "\n",
      "\t\u001b[32mnew file:   tofu/basil_ginger_tofu.txt\u001b[m\n",
      "\t\u001b[32mnew file:   tofu/kung_pao_tofu.txt\u001b[m\n",
      "\n",
      "Untracked files:\n",
      "  (use \"git add <file>...\" to include in what will be committed)\n",
      "\n",
      "\t\u001b[31mseitan/\u001b[m\n",
      "\n"
     ]
    }
   ],
   "source": [
    "!git add ./tofu/basil_ginger_tofu.txt\n",
    "!git status"
   ]
  },
  {
   "cell_type": "markdown",
   "metadata": {},
   "source": [
    "Now both tofu recipe are tracked, but neither of the `seitan` recipe is tracked. We'll use the `commit` command to stick copies of the `tofu` recipes into the repository (into the safe). To to this, we use the `git commit` command,"
   ]
  },
  {
   "cell_type": "code",
   "execution_count": 23,
   "metadata": {},
   "outputs": [
    {
     "name": "stdout",
     "output_type": "stream",
     "text": [
      "[master (root-commit) ef5f249] added tofu recipes\n",
      " 2 files changed, 0 insertions(+), 0 deletions(-)\n",
      " create mode 100644 tofu/basil_ginger_tofu.txt\n",
      " create mode 100644 tofu/kung_pao_tofu.txt\n"
     ]
    }
   ],
   "source": [
    "!git commit -m \"added tofu recipes\""
   ]
  },
  {
   "cell_type": "markdown",
   "metadata": {},
   "source": [
    "When executed, the `commit` command stores a snapshot of all added files (e.g. current tofu recipes) into the repository. Since we didn't use the `git add` on the seitan recipes, they were not included in the snapshot that was placed in the repository. This snapshot of our work is now safe forever (as long as our computer's hard drive doesn't fail or we don't damage the secret repository files).\n",
    "\n",
    "The `-m` command lets us add a message to the commit so we can remember what was most important about this commit.\n",
    "\n",
    "After using commit, we'll note that `git status` no longer lists files under the `Changes to be committed`."
   ]
  },
  {
   "cell_type": "code",
   "execution_count": 24,
   "metadata": {},
   "outputs": [
    {
     "name": "stdout",
     "output_type": "stream",
     "text": [
      "On branch master\n",
      "Untracked files:\n",
      "  (use \"git add <file>...\" to include in what will be committed)\n",
      "\n",
      "\t\u001b[31mseitan/\u001b[m\n",
      "\n",
      "nothing added to commit but untracked files present (use \"git add\" to track)\n"
     ]
    }
   ],
   "source": [
    "!git status"
   ]
  },
  {
   "cell_type": "markdown",
   "metadata": {},
   "source": [
    "If we go looking at the files in the tofu folder, we'll see that the `commit` process didn't affect the original files on the computer.\n",
    "\n",
    "We can see evidence of our snapshot by using the special `git log` command."
   ]
  },
  {
   "cell_type": "code",
   "execution_count": 25,
   "metadata": {},
   "outputs": [
    {
     "name": "stdout",
     "output_type": "stream",
     "text": [
      "\u001b[33mcommit ef5f24959376a1d62ceaceea667ce572e8973935\u001b[m\u001b[33m (\u001b[m\u001b[1;36mHEAD -> \u001b[m\u001b[1;32mmaster\u001b[m\u001b[33m)\u001b[m\n",
      "Author: Ronald <ronaldyonggi@gmail.com>\n",
      "Date:   Mon Sep 30 13:58:29 2019 -0400\n",
      "\n",
      "    added tofu recipes\n"
     ]
    }
   ],
   "source": [
    "!git log"
   ]
  },
  {
   "cell_type": "markdown",
   "metadata": {},
   "source": [
    "The long string of gibberish characters is the **ID of the commit**. We can use the `git show` command to peek inside of this commit."
   ]
  },
  {
   "cell_type": "code",
   "execution_count": 26,
   "metadata": {},
   "outputs": [
    {
     "name": "stdout",
     "output_type": "stream",
     "text": [
      "\u001b[33mcommit ef5f24959376a1d62ceaceea667ce572e8973935\u001b[m\u001b[33m (\u001b[m\u001b[1;36mHEAD -> \u001b[m\u001b[1;32mmaster\u001b[m\u001b[33m)\u001b[m\n",
      "Author: Ronald <ronaldyonggi@gmail.com>\n",
      "Date:   Mon Sep 30 13:58:29 2019 -0400\n",
      "\n",
      "    added tofu recipes\n",
      "\n",
      "\u001b[1mdiff --git a/tofu/basil_ginger_tofu.txt b/tofu/basil_ginger_tofu.txt\u001b[m\n",
      "\u001b[1mnew file mode 100644\u001b[m\n",
      "\u001b[1mindex 0000000..e69de29\u001b[m\n",
      "\u001b[1mdiff --git a/tofu/kung_pao_tofu.txt b/tofu/kung_pao_tofu.txt\u001b[m\n",
      "\u001b[1mnew file mode 100644\u001b[m\n",
      "\u001b[1mindex 0000000..e69de29\u001b[m\n"
     ]
    }
   ],
   "source": [
    "!git show ef5f24959376a1d62ceaceea667ce572e8973935"
   ]
  },
  {
   "cell_type": "markdown",
   "metadata": {},
   "source": [
    "The `git show` command lets us peek into a commit, which is a snapshot of both the names and the contents of the files. We'll rarely use the `git show` command in real life or CS61B course, but it's useful to peek inside a commit to get a better sense of what they are.\n",
    "\n",
    "Suppose we want to revise the kung pao recipe since we decided it should have bok choy in it."
   ]
  },
  {
   "cell_type": "code",
   "execution_count": 27,
   "metadata": {},
   "outputs": [],
   "source": [
    "!code tofu/kung_pao_tofu.txt\n",
    "# Add 'bok choy' into the .txt file"
   ]
  },
  {
   "cell_type": "markdown",
   "metadata": {},
   "source": [
    "The changes we just made to `kung_pao_txt` aren't saved in the repository. In fact, if we do `git status` again,"
   ]
  },
  {
   "cell_type": "code",
   "execution_count": 28,
   "metadata": {},
   "outputs": [
    {
     "name": "stdout",
     "output_type": "stream",
     "text": [
      "On branch master\n",
      "Changes not staged for commit:\n",
      "  (use \"git add <file>...\" to update what will be committed)\n",
      "  (use \"git checkout -- <file>...\" to discard changes in working directory)\n",
      "\n",
      "\t\u001b[31mmodified:   tofu/kung_pao_tofu.txt\u001b[m\n",
      "\n",
      "Untracked files:\n",
      "  (use \"git add <file>...\" to include in what will be committed)\n",
      "\n",
      "\t\u001b[31mseitan/\u001b[m\n",
      "\n",
      "no changes added to commit (use \"git add\" and/or \"git commit -a\")\n"
     ]
    }
   ],
   "source": [
    "!git status"
   ]
  },
  {
   "cell_type": "markdown",
   "metadata": {},
   "source": [
    "We might be tempted to think, \"Well, we just need to commit again\". However, if we try to `commit`, it'll say that there's `no changes added to commit`."
   ]
  },
  {
   "cell_type": "code",
   "execution_count": 29,
   "metadata": {},
   "outputs": [
    {
     "name": "stdout",
     "output_type": "stream",
     "text": [
      "On branch master\n",
      "Changes not staged for commit:\n",
      "\t\u001b[31mmodified:   tofu/kung_pao_tofu.txt\u001b[m\n",
      "\n",
      "Untracked files:\n",
      "\t\u001b[31mseitan/\u001b[m\n",
      "\n",
      "no changes added to commit\n"
     ]
    }
   ],
   "source": [
    "!git commit -m \"added bok choy\""
   ]
  },
  {
   "cell_type": "markdown",
   "metadata": {},
   "source": [
    "This is because even though `kung_pao_txt` is being tracked, we haven't staged our changes for `commit`. To store our changes in the repository, we first need to use the `add` command again, which will stage the changes for commit."
   ]
  },
  {
   "cell_type": "code",
   "execution_count": 30,
   "metadata": {},
   "outputs": [
    {
     "name": "stdout",
     "output_type": "stream",
     "text": [
      "On branch master\n",
      "Changes to be committed:\n",
      "  (use \"git reset HEAD <file>...\" to unstage)\n",
      "\n",
      "\t\u001b[32mmodified:   tofu/kung_pao_tofu.txt\u001b[m\n",
      "\n",
      "Untracked files:\n",
      "  (use \"git add <file>...\" to include in what will be committed)\n",
      "\n",
      "\t\u001b[31mseitan/\u001b[m\n",
      "\n"
     ]
    }
   ],
   "source": [
    "!git add ./tofu/kung_pao_tofu.txt\n",
    "!git status"
   ]
  },
  {
   "cell_type": "markdown",
   "metadata": {},
   "source": [
    "Now we see that our change to `kung_pao_txt` is now \"to be committed\", meaning that the next commit will include changes to this file. Now we commit just like before, and use `git log` to see the list of all snapshots that have been taken."
   ]
  },
  {
   "cell_type": "code",
   "execution_count": 31,
   "metadata": {},
   "outputs": [
    {
     "name": "stdout",
     "output_type": "stream",
     "text": [
      "[master fdeb4d6] added bok choy\n",
      " 1 file changed, 1 insertion(+)\n",
      "\u001b[33mcommit fdeb4d63d7367457d9dcbed739ba13c5ad2171f9\u001b[m\u001b[33m (\u001b[m\u001b[1;36mHEAD -> \u001b[m\u001b[1;32mmaster\u001b[m\u001b[33m)\u001b[m\n",
      "Author: Ronald <ronaldyonggi@gmail.com>\n",
      "Date:   Mon Sep 30 13:59:11 2019 -0400\n",
      "\n",
      "    added bok choy\n",
      "\n",
      "\u001b[33mcommit ef5f24959376a1d62ceaceea667ce572e8973935\u001b[m\n",
      "Author: Ronald <ronaldyonggi@gmail.com>\n",
      "Date:   Mon Sep 30 13:58:29 2019 -0400\n",
      "\n",
      "    added tofu recipes\n"
     ]
    }
   ],
   "source": [
    "!git commit -m \"added bok choy\"\n",
    "!git log"
   ]
  },
  {
   "cell_type": "markdown",
   "metadata": {},
   "source": [
    "Now we see that there are 2 commits!\n",
    "\n",
    "Suppose we later decide that bok choy is gross, we can roll back our files using the `checkout` command,"
   ]
  },
  {
   "cell_type": "code",
   "execution_count": 37,
   "metadata": {},
   "outputs": [
    {
     "name": "stdout",
     "output_type": "stream",
     "text": [
      "Updated 1 path from aaec0f3\n"
     ]
    }
   ],
   "source": [
    "!git checkout ef5f24959376a1d62ceaceea667ce572e8973935 ./tofu\n",
    "# Note that we use the \"added tofu recipes\" commit ID\n",
    "\n",
    "# MAKE SURE TO ADD THE 'tofu' FOLDER AT THE END"
   ]
  },
  {
   "cell_type": "markdown",
   "metadata": {},
   "source": [
    "We can think of the `checkout` command as a robot that \n",
    "* Goes to our safe\n",
    "* Figures out what the tofu recipe looked like back when the commit was `2068543d5428218095aae5055e8b482cecb49494`, \n",
    "* And finally rearranges everything in the actual `recipes/tofu` folder so that it is exactly like it was at the time of commit `2068543d5428218095aae5055e8b482cecb49494`.\n",
    "\n",
    "If we look at the contents of `kung_pao_tofu.txt` after running the command above, we'll see that bok choy is gone!"
   ]
  },
  {
   "cell_type": "code",
   "execution_count": 38,
   "metadata": {},
   "outputs": [],
   "source": [
    "!code ./tofu/kung_pao_tofu.txt"
   ]
  },
  {
   "cell_type": "markdown",
   "metadata": {},
   "source": [
    "**The `checkout` command does not change the commit history!**\n",
    "\n",
    "**NOTE**: Make sure to specify a file (or directory) when using `checkout`. Otherwise, we'll end up using a more powerful version of `checkout` that could lead to git weird technical failure scenarios.\n",
    "\n",
    "If we want to actually commit a snapshot of the newest kung pao tofu (which no longer has bok choy), we'll have to commit,"
   ]
  },
  {
   "cell_type": "code",
   "execution_count": 39,
   "metadata": {},
   "outputs": [
    {
     "name": "stdout",
     "output_type": "stream",
     "text": [
      "[master 96c49ad] went back to the original recipe with no bok choy\n",
      " 1 file changed, 1 deletion(-)\n",
      "\u001b[33mcommit 96c49ad76b102ea8fbfdfb408e4676e7c53d0d69\u001b[m\u001b[33m (\u001b[m\u001b[1;36mHEAD -> \u001b[m\u001b[1;32mmaster\u001b[m\u001b[33m)\u001b[m\n",
      "Author: Ronald <ronaldyonggi@gmail.com>\n",
      "Date:   Mon Sep 30 14:01:45 2019 -0400\n",
      "\n",
      "    went back to the original recipe with no bok choy\n",
      "\n",
      "\u001b[33mcommit fdeb4d63d7367457d9dcbed739ba13c5ad2171f9\u001b[m\n",
      "Author: Ronald <ronaldyonggi@gmail.com>\n",
      "Date:   Mon Sep 30 13:59:11 2019 -0400\n",
      "\n",
      "    added bok choy\n",
      "\n",
      "\u001b[33mcommit ef5f24959376a1d62ceaceea667ce572e8973935\u001b[m\n",
      "Author: Ronald <ronaldyonggi@gmail.com>\n",
      "Date:   Mon Sep 30 13:58:29 2019 -0400\n",
      "\n",
      "    added tofu recipes\n"
     ]
    }
   ],
   "source": [
    "!git commit -m \"went back to the original recipe with no bok choy\"\n",
    "!git log"
   ]
  },
  {
   "cell_type": "markdown",
   "metadata": {},
   "source": [
    "We could then use `show` to see the contents of this most recent commit"
   ]
  },
  {
   "cell_type": "code",
   "execution_count": 40,
   "metadata": {},
   "outputs": [
    {
     "name": "stdout",
     "output_type": "stream",
     "text": [
      "\u001b[33mcommit 96c49ad76b102ea8fbfdfb408e4676e7c53d0d69\u001b[m\u001b[33m (\u001b[m\u001b[1;36mHEAD -> \u001b[m\u001b[1;32mmaster\u001b[m\u001b[33m)\u001b[m\n",
      "Author: Ronald <ronaldyonggi@gmail.com>\n",
      "Date:   Mon Sep 30 14:01:45 2019 -0400\n",
      "\n",
      "    went back to the original recipe with no bok choy\n",
      "\n",
      "\u001b[1mdiff --git a/tofu/kung_pao_tofu.txt b/tofu/kung_pao_tofu.txt\u001b[m\n",
      "\u001b[1mindex 4fae1ed..e69de29 100644\u001b[m\n",
      "\u001b[1m--- a/tofu/kung_pao_tofu.txt\u001b[m\n",
      "\u001b[1m+++ b/tofu/kung_pao_tofu.txt\u001b[m\n",
      "\u001b[36m@@ -1 +0,0 @@\u001b[m\n",
      "\u001b[31m-bok choy\u001b[m\n",
      "\\ No newline at end of file\u001b[m\n"
     ]
    }
   ],
   "source": [
    "!git show 96c49ad76b102ea8fbfdfb408e4676e7c53d0d69"
   ]
  },
  {
   "cell_type": "markdown",
   "metadata": {},
   "source": [
    "We might have noticed that we didn't use `git add` before we committed the removal of bok choy. The `checkout` command actually does an automatic `git add` on any files that change as a result of the rollback.\n",
    "\n",
    "To summarize, using the panoramic photo analogy:\n",
    "* `git init`: Create a box in which to permanently store panoramic pictures\n",
    "* `git add`: Takes a temporary photo of one thing that can be assembled into a panoramic photo later\n",
    "* `git commit`: Assembles all available temporary photos into a panoramic photo. Also destroys all temporary photos\n",
    "* `git log`: Lists all the panoramic photos we've ever taken\n",
    "* `git show`: Looks at what is in a particular photo\n",
    "* `git checkout`: Rearrange files back to how they looked in a given panoramic photo. Does not affect the photo in the box"
   ]
  }
 ],
 "metadata": {
  "kernelspec": {
   "display_name": "Python 3",
   "language": "python",
   "name": "python3"
  },
  "language_info": {
   "codemirror_mode": {
    "name": "ipython",
    "version": 3
   },
   "file_extension": ".py",
   "mimetype": "text/x-python",
   "name": "python",
   "nbconvert_exporter": "python",
   "pygments_lexer": "ipython3",
   "version": "3.7.3"
  }
 },
 "nbformat": 4,
 "nbformat_minor": 4
}
