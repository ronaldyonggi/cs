{
 "cells": [
  {
   "cell_type": "markdown",
   "metadata": {},
   "source": [
    "As explained by the homework page, we simply create the `BoundedQueue.java` interface. Make sure to use generics,"
   ]
  },
  {
   "cell_type": "code",
   "execution_count": null,
   "metadata": {},
   "outputs": [],
   "source": [
    "public interface BoundedQueue<T> {\n",
    "    ...\n",
    "}"
   ]
  },
  {
   "cell_type": "markdown",
   "metadata": {},
   "source": [
    "...and add the following methods."
   ]
  },
  {
   "cell_type": "code",
   "execution_count": null,
   "metadata": {},
   "outputs": [],
   "source": [
    "int capacity();\n",
    "int fillCount();\n",
    "void enqueue(T x);\n",
    "T dequeue();\n",
    "T peek()"
   ]
  },
  {
   "cell_type": "markdown",
   "metadata": {},
   "source": [
    "`isEmpty()` and `isFull()` is relatively straightforward. Just make sure to utilize the available methods `capacity()` and `fillCount()`."
   ]
  },
  {
   "cell_type": "code",
   "execution_count": null,
   "metadata": {},
   "outputs": [],
   "source": [
    "default boolean isEmpty(){\n",
    "    return (fillCount() == 0);\n",
    "}\n",
    "\n",
    "default boolean isFull(){\n",
    "    return (fillCount() == capacity());\n",
    "}"
   ]
  }
 ],
 "metadata": {
  "kernelspec": {
   "display_name": "Python 3",
   "language": "python",
   "name": "python3"
  },
  "language_info": {
   "codemirror_mode": {
    "name": "ipython",
    "version": 3
   },
   "file_extension": ".py",
   "mimetype": "text/x-python",
   "name": "python",
   "nbconvert_exporter": "python",
   "pygments_lexer": "ipython3",
   "version": "3.7.4"
  }
 },
 "nbformat": 4,
 "nbformat_minor": 4
}
