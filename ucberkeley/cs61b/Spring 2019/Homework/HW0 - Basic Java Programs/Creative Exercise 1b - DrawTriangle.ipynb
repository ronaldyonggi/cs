{
 "cells": [
  {
   "cell_type": "markdown",
   "metadata": {},
   "source": [
    "# Creative Exercise 1b - DrawTriangle"
   ]
  },
  {
   "cell_type": "markdown",
   "metadata": {},
   "source": [
    "#### Writer's Note\n",
    "Since this notebook is run in iJava Kernel, we can run the method without having to put it inside the `public static` class. However in practice, put the code below inside the `public static`"
   ]
  },
  {
   "cell_type": "code",
   "execution_count": null,
   "metadata": {},
   "outputs": [],
   "source": [
    "public class YourClassNameHere {\n",
    "    public static void main(String[] args) {\n",
    "        // Function goes here\n",
    "    }\n",
    "}"
   ]
  },
  {
   "cell_type": "code",
   "execution_count": 2,
   "metadata": {},
   "outputs": [],
   "source": [
    "public static void DrawTriangle(int N){\n",
    "    int max_star = 1;\n",
    "    int counter = 1;\n",
    "    while (max_star <= N){\n",
    "        while (counter <= max_star){\n",
    "            System.out.print('*');\n",
    "            counter = counter + 1;\n",
    "        }\n",
    "        counter = 1;\n",
    "        System.out.println(' ');\n",
    "        max_star = max_star + 1;\n",
    "    }\n",
    "}"
   ]
  },
  {
   "cell_type": "code",
   "execution_count": 3,
   "metadata": {},
   "outputs": [
    {
     "name": "stdout",
     "output_type": "stream",
     "text": [
      "* \n",
      "** \n",
      "*** \n",
      "**** \n",
      "***** \n",
      "****** \n",
      "******* \n",
      "******** \n",
      "********* \n",
      "********** \n"
     ]
    }
   ],
   "source": [
    "DrawTriangle(10);"
   ]
  },
  {
   "cell_type": "code",
   "execution_count": null,
   "metadata": {},
   "outputs": [],
   "source": []
  }
 ],
 "metadata": {
  "kernelspec": {
   "display_name": "Java",
   "language": "java",
   "name": "java"
  },
  "language_info": {
   "name": ""
  }
 },
 "nbformat": 4,
 "nbformat_minor": 4
}
