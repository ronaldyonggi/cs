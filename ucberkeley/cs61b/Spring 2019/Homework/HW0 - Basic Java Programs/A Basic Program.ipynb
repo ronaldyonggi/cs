{
 "cells": [
  {
   "cell_type": "markdown",
   "metadata": {},
   "source": [
    "# A Basic Java Program"
   ]
  },
  {
   "cell_type": "code",
   "execution_count": 5,
   "metadata": {},
   "outputs": [],
   "source": [
    "public class ClassNameHere {\n",
    "   public static void main(String[] args) {\n",
    "      int x = 5;\n",
    "      x = x + 1;\n",
    "      System.out.println(x);\n",
    "      int y = x;\n",
    "      x = x + 1;\n",
    "      System.out.println(\"x is: \" + x);\n",
    "      System.out.println(\"y is: \" + y);      \n",
    "   }\n",
    "}"
   ]
  },
  {
   "cell_type": "markdown",
   "metadata": {},
   "source": [
    "Unlike other programming languages (e.g. Python, Scheme, MATLAB), Java variables have a **static type**. In the example above, this means `x` will only be able to store an integer. If we try to put a `double` into it, the code would fail."
   ]
  },
  {
   "cell_type": "code",
   "execution_count": 8,
   "metadata": {},
   "outputs": [
    {
     "ename": "CompilationException",
     "evalue": "",
     "output_type": "error",
     "traceback": [
      "\u001b[1m\u001b[30m|   \u001b[1m\u001b[30mint x = \u001b[0m\u001b[1m\u001b[30m\u001b[41m5.3\u001b[0m\u001b[1m\u001b[30m;\u001b[0m",
      "\u001b[1m\u001b[31mincompatible types: possible lossy conversion from double to int\u001b[0m",
      ""
     ]
    }
   ],
   "source": [
    "int x = 5.3;"
   ]
  },
  {
   "cell_type": "markdown",
   "metadata": {},
   "source": [
    "Every statement in Java must be followed by a semicolon `;`. The semicolon tells Java where one statement ends and another begins.\n",
    "\n",
    "To print in Java, we use the command name `System.out.println`."
   ]
  },
  {
   "cell_type": "code",
   "execution_count": 9,
   "metadata": {},
   "outputs": [
    {
     "name": "stdout",
     "output_type": "stream",
     "text": [
      "lol\n"
     ]
    }
   ],
   "source": [
    "System.out.println(\"lol\");"
   ]
  },
  {
   "cell_type": "code",
   "execution_count": null,
   "metadata": {},
   "outputs": [],
   "source": []
  }
 ],
 "metadata": {
  "kernelspec": {
   "display_name": "Java",
   "language": "java",
   "name": "java"
  },
  "language_info": {
   "name": ""
  }
 },
 "nbformat": 4,
 "nbformat_minor": 4
}
