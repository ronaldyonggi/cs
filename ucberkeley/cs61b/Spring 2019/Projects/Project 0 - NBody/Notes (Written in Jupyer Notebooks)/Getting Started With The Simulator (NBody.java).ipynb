{
 "cells": [
  {
   "cell_type": "markdown",
   "metadata": {},
   "source": [
    "# Getting Started With The Simulator (NBody.java)"
   ]
  },
  {
   "cell_type": "markdown",
   "metadata": {},
   "source": [
    "Create a file `NBody.java` that contains the `NBody` class.\n",
    "* `NBody` class is a class that actually runs the simulator\n",
    "    * The class has no constructor\n",
    "    * The goal of this class is to simulate a universe specified in one of the data files.\n",
    "    \n",
    "For example, the contents inside `data/planets.txt` is as the following,"
   ]
  },
  {
   "cell_type": "code",
   "execution_count": 1,
   "metadata": {},
   "outputs": [
    {
     "name": "stdout",
     "output_type": "stream",
     "text": [
      "Getting Started With The Simulator (NBody.java).ipynb\n",
      "The Body Class and Its Constructor.ipynb\n",
      "Understanding The Physics.ipynb\n",
      "Writing The Body Class.ipynb\n",
      "double.png\n"
     ]
    }
   ],
   "source": [
    "$ more planets.txt\n",
    "5\n",
    "2.50e+11\n",
    "1.4960e+11  0.0000e+00  0.0000e+00  2.9800e+04  5.9740e+24    earth.gif\n",
    "2.2790e+11  0.0000e+00  0.0000e+00  2.4100e+04  6.4190e+23     mars.gif\n",
    "5.7900e+10  0.0000e+00  0.0000e+00  4.7900e+04  3.3020e+23  mercury.gif\n",
    "0.0000e+00  0.0000e+00  0.0000e+00  0.0000e+00  1.9890e+30      sun.gif\n",
    "1.0820e+11  0.0000e+00  0.0000e+00  3.5000e+04  4.8690e+24    venus.gif"
   ]
  },
  {
   "cell_type": "markdown",
   "metadata": {},
   "source": [
    "The input format is a text file that contains information for a particular universe (in SI units)\n",
    "1. The first value is an integer `N` that represents the number of planets\n",
    "2. The second value is a real number `R` that represents the radius of the universe\n",
    "    * Used to determine the scaling of the drawing window\n",
    "3. `N` rows. Each row contains 6 values.\n",
    "    * The first 2 values are the $x$ and $y$ coordinates of the initial position\n",
    "    * The next 2 values are the $x$ and $y$ components of the initial velocity\n",
    "    * The 5th value is the mass\n",
    "    * The last value is a `String` that is the name of an image file used to display the planets.\n",
    "        * Image files can be found in the `images` directory"
   ]
  },
  {
   "cell_type": "markdown",
   "metadata": {},
   "source": [
    "### `readRadius`"
   ]
  },
  {
   "cell_type": "markdown",
   "metadata": {},
   "source": [
    "Given a file name as `String`, the `readRadius` method returns a double corresponding to the radius of the universe in that file. For example,"
   ]
  },
  {
   "cell_type": "code",
   "execution_count": null,
   "metadata": {},
   "outputs": [],
   "source": [
    "readRadius(\"./data/planets.txt\") // should return 2.50e11"
   ]
  },
  {
   "cell_type": "markdown",
   "metadata": {},
   "source": [
    "Looking at `BasicInDemo.java`, we see that we can read a file using the `In` constructor,"
   ]
  },
  {
   "cell_type": "code",
   "execution_count": null,
   "metadata": {},
   "outputs": [],
   "source": [
    "In in = new In(\"filename\");"
   ]
  },
  {
   "cell_type": "markdown",
   "metadata": {},
   "source": [
    "...and each text in the file can be read using `read[data type]`, for example,"
   ]
  },
  {
   "cell_type": "code",
   "execution_count": null,
   "metadata": {},
   "outputs": [],
   "source": [
    "in.readInt(); // reads an int\n",
    "in.readDouble(); // reads a Double\n",
    "in.readString(); // reads a String"
   ]
  },
  {
   "cell_type": "markdown",
   "metadata": {},
   "source": [
    "The `radius` of the universe is represented as the second text in the file. We need to somehow skip the first text. "
   ]
  },
  {
   "cell_type": "code",
   "execution_count": null,
   "metadata": {},
   "outputs": [],
   "source": [
    "// The NBody class runs the simulation\n",
    "public class NBody{\n",
    "    \n",
    "    // Takes in a filename and returns the second number, which is the radius of the universe\n",
    "    public static double readRadius(String filename) {\n",
    "        In in = new In(filename); // Read the 'finename' and assign it to 'in'\n",
    "        in.readInt(); // Read the first number, but destroy it right away since it's not needed\n",
    "        double secondItemInFile = in.readDouble(); // Read the second number, this is what we want\n",
    "        return secondItemInFile; ;\n",
    "    }\n",
    "}"
   ]
  },
  {
   "cell_type": "markdown",
   "metadata": {},
   "source": [
    "### `readBodies`"
   ]
  },
  {
   "cell_type": "markdown",
   "metadata": {},
   "source": [
    "Given a file name, the `readBodies` method returns an array of `Body`s corresponding to the bodies in the file. For example,"
   ]
  },
  {
   "cell_type": "code",
   "execution_count": null,
   "metadata": {},
   "outputs": [],
   "source": [
    "readBodies(\"./data/planets.txt\"); // Should return an array of 5 planets"
   ]
  },
  {
   "cell_type": "markdown",
   "metadata": {},
   "source": [
    "We need to somehow know beforehand the size of array of bodies that we are going to return. Recall that the first text in the `.txt` file is the number of planets. Thus, we can use this number to determine the length of the array."
   ]
  },
  {
   "cell_type": "code",
   "execution_count": null,
   "metadata": {},
   "outputs": [],
   "source": [
    "int N = in.readInt(); // Read the first number in the .txt file\n",
    "Body[] bodies = new Body[N]; // Create an array that stores reference to bodies"
   ]
  },
  {
   "cell_type": "markdown",
   "metadata": {},
   "source": [
    "Then once we reached the bodies properties in `txt` file (the row with 6 texts):\n",
    "1. Use the `Body` constructor to create a `Body` `b`\n",
    "    * Read each of the 6 texts and use them as the parameter argument\n",
    "2. Use a `for` loop to loop from 0 to `N-1`, where `N` is the number of planets\n",
    "    * Use this loop to assign each index in the array `bodies` with the created Body `b`"
   ]
  },
  {
   "cell_type": "code",
   "execution_count": null,
   "metadata": {},
   "outputs": [],
   "source": [
    "// Takes in a filename and returns an array of bodies corresponding to the bodies in file\n",
    "public static Body[] readBodies(String filename) {\n",
    "    In in = new In(filename); // Read the 'filename' and assign it to 'in'\n",
    "    int N = in.readInt(); // Read the first number in the .txt file. USE THIS NUMBER to determine the length of the array\n",
    "    Body[] bodies = new Body[N]; // Create an array that stores reference to bodies. The length depends on the first text read above\n",
    "    in.readDouble(); // Read the second number in the .txt file, and discard it right away\n",
    "    for (int i = 0; i < N; i++) { // Iterate from 0 to N (the number of planets)\n",
    "        double xPos = in.readDouble(); // Read the body's x-coordinate of initial position\n",
    "        double yPos = in.readDouble(); // Read the body's y-coordinate of initial position\n",
    "        double xVel = in.readDouble(); // Read the body's x-coordinate of initial velocity\n",
    "        double yVel = in.readDouble(); // Read the body's y-coordinate of initial velocity\n",
    "        double mass = in.readDouble(); // Read the body's mass\n",
    "        String img = in.readString();  // Read the body's image file\n",
    "        Body b = new Body(xPos, yPos, xVel, yVel, mass, img); // Use the Body constructor to create a body b\n",
    "        bodies[i] = b; //Assign b to the array bodies at index i\n",
    "    }\n",
    "    return bodies; // Return the bodies array"
   ]
  }
 ],
 "metadata": {
  "kernelspec": {
   "display_name": "Python 3",
   "language": "python",
   "name": "python3"
  },
  "language_info": {
   "codemirror_mode": {
    "name": "ipython",
    "version": 3
   },
   "file_extension": ".py",
   "mimetype": "text/x-python",
   "name": "python",
   "nbconvert_exporter": "python",
   "pygments_lexer": "ipython3",
   "version": "3.7.3"
  }
 },
 "nbformat": 4,
 "nbformat_minor": 4
}
