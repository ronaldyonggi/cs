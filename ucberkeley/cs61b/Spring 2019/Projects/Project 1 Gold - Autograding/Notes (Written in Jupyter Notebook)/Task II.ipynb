{
 "cells": [
  {
   "cell_type": "markdown",
   "metadata": {},
   "source": [
    "# Task II"
   ]
  },
  {
   "cell_type": "markdown",
   "metadata": {},
   "source": [
    "Modify `TestArrayDequeGold.java` so that the `message` parameter to `assertEquals` contains a list of operations that caouse the `StudentArrayDeque` to output the wrong answer."
   ]
  },
  {
   "cell_type": "markdown",
   "metadata": {},
   "source": [
    "#### Implementation"
   ]
  },
  {
   "cell_type": "markdown",
   "metadata": {},
   "source": [
    "One way we can do this is to instantiate a String variable in the beginning before any operation, then we concat more strings along with more operations."
   ]
  },
  {
   "cell_type": "code",
   "execution_count": null,
   "metadata": {},
   "outputs": [],
   "source": [
    "@Test\n",
    "public void testMethods() {\n",
    "    String message = \"\\n\";\n",
    "    for (int i = 0; i < 7; i++) {\n",
    "        double randomized = StdRandom.uniform();\n",
    "\n",
    "        if(randomized < 0.5) {\n",
    "            sad.addLast(i);\n",
    "            ads.addLast(i);\n",
    "            message = message.concat(String.format(\"addLast(%d)\\n\", i));\n",
    "        } else {\n",
    "            sad.addFirst(i);\n",
    "            ads.addFirst(i);\n",
    "            message = message.concat(String.format(\"addFirst(%d)\\n\", i));\n",
    "        }\n",
    "    }\n",
    "    message = message.concat(\"removeFirst()\\n\");\n",
    "    assertEquals(message, sad.removeFirst(), ads.removeFirst());\n",
    "    message = message.concat(\"removeLast()\");\n",
    "    assertEquals(message, sad.removeLast(), ads.removeLast());\n",
    "\n",
    "}\n"
   ]
  },
  {
   "cell_type": "markdown",
   "metadata": {},
   "source": [
    "* `\\n` is a newline\n",
    "* The `.format` String method is used in the case we need to combine a string with another data type that's interchangable."
   ]
  },
  {
   "cell_type": "code",
   "execution_count": null,
   "metadata": {},
   "outputs": [],
   "source": []
  }
 ],
 "metadata": {
  "kernelspec": {
   "display_name": "Python 3",
   "language": "python",
   "name": "python3"
  },
  "language_info": {
   "codemirror_mode": {
    "name": "ipython",
    "version": 3
   },
   "file_extension": ".py",
   "mimetype": "text/x-python",
   "name": "python",
   "nbconvert_exporter": "python",
   "pygments_lexer": "ipython3",
   "version": "3.7.4"
  }
 },
 "nbformat": 4,
 "nbformat_minor": 4
}
