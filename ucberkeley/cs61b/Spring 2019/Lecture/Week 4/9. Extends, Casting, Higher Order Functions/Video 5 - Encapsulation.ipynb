{
 "cells": [
  {
   "cell_type": "markdown",
   "metadata": {},
   "source": [
    "# Encapsulation"
   ]
  },
  {
   "cell_type": "markdown",
   "metadata": {},
   "source": [
    "## Complexity: The Enemy"
   ]
  },
  {
   "cell_type": "markdown",
   "metadata": {},
   "source": [
    "When building large programs, our enemy is complexity.\n",
    "\n",
    "What sets apart a good programmer from a bad programmer is the ability to handle complexity. \n",
    "\n",
    "Some tools for managing complexity:\n",
    "* Hierarchical abstraction\n",
    "    * Create **layers of abstraction** with clear abstraction barriers\n",
    "        * Example: A user using a List doesn't need to know that there's an array under the hood\n",
    "* \"Design for change\" (by David Parnas)\n",
    "    * Organize programs around objects\n",
    "        * Example: all the things we need (variables, methods) for a list are in one file: the `ArrayDeque.java` file\n",
    "    * Let objects decide how things are done\n",
    "        * Example: dynamic method selection occurs automatically\n",
    "    * **Hide information** others don't need\n",
    "    \n",
    "Managing complexity is very important for large projects (e.g. Project 2)"
   ]
  },
  {
   "cell_type": "markdown",
   "metadata": {},
   "source": [
    "## Modules and Encapsulation"
   ]
  },
  {
   "cell_type": "markdown",
   "metadata": {},
   "source": [
    "**Module**: A set of methods that work together as a whole to perform some task or set of related tasks.\n",
    "\n",
    "A module is said to be **encapsulated** if its implementation is **completely hidden**, and it can be accessed ony through a documented interface.\n",
    "![](https://cdn.kastatic.org/ka-perseus-images/95cd645b33b4a8883218ce52a0bfb5ade93f8d52.png)\n",
    "\n",
    "Above we have a picture of a cell. The internal of a cell is incredibly complex (there's ribosome, chromosome, etc.) but from outside perspective cell is encapsulated. We don't need to know the inside of a cell to figure out that bacteria can make us sick. Likewise, in `ArrayDeque`,\n",
    "\n",
    "![](images/adeque.png)\n",
    "\n",
    "...we don't need to know how the internal works. We interact with it using the provided methods (`addLast`, `removeLast`, etc.)"
   ]
  },
  {
   "cell_type": "markdown",
   "metadata": {},
   "source": [
    "## A Cautionary Tale"
   ]
  },
  {
   "cell_type": "markdown",
   "metadata": {},
   "source": [
    "Interesting questions from project 1B:\n",
    "\n",
    "##### How can we check the length of `ArrayDeque`?\n",
    "I am trying to find a bug about resizing method, but I don't know how to see the length of the `ArrayDeque`.\n",
    "\n",
    "`ArrayDeque.length` nor `ArrayDeque.length()` is working. So I don't know how to check whether the array can expand to double of its capacity.\n",
    "\n",
    "##### Private access in given classes\n",
    "I want to test whether the resizing and downsizing is working properly, but when I try to call `array.items.length`, the compiler gives an error saying `items` is a `private` variable. Is there any way around this, or should we just not test this?\n",
    "\n",
    "##### Can we assume these things about `ArrayDeque`?\n",
    "Can we assume the `ArrayDeque` implementation uses `nextFront = 4`, `nextLast = 5`, and the starting size array 8?"
   ]
  },
  {
   "cell_type": "markdown",
   "metadata": {},
   "source": [
    "## Abstraction Barriers"
   ]
  },
  {
   "cell_type": "markdown",
   "metadata": {},
   "source": [
    "As the user of an `ArrayDeque`, we can't observe its internals.\n",
    "* Even when writing tests, we don't (usually) want to look at the inside\n",
    "* Java is a great langauge for enforcing abstaction barriers with syntax\n",
    "\n",
    "An analogy is a list `{5, 3, 1, 7, 22}`. The internal of this list is an array of length 100 with the `size` and `items` variable, but the user has no idea of the internals. When we write tests, we should be thinking like a user.\n",
    "\n",
    "![](images/cave.png)\n",
    "\n",
    "By making instance variables `private` and methods like `resize` private, we're already on the right track!\n",
    "* However, implementation inheritance (e.g. `extends`) breaks encapsulation!"
   ]
  },
  {
   "cell_type": "code",
   "execution_count": null,
   "metadata": {},
   "outputs": [],
   "source": []
  }
 ],
 "metadata": {
  "kernelspec": {
   "display_name": "Python 3",
   "language": "python",
   "name": "python3"
  },
  "language_info": {
   "codemirror_mode": {
    "name": "ipython",
    "version": 3
   },
   "file_extension": ".py",
   "mimetype": "text/x-python",
   "name": "python",
   "nbconvert_exporter": "python",
   "pygments_lexer": "ipython3",
   "version": "3.7.4"
  }
 },
 "nbformat": 4,
 "nbformat_minor": 4
}
