{
 "cells": [
  {
   "cell_type": "markdown",
   "metadata": {},
   "source": [
    "## 1."
   ]
  },
  {
   "cell_type": "code",
   "execution_count": null,
   "metadata": {},
   "outputs": [],
   "source": [
    "ShowDog dogC = new ShowDog(\"Franklin\", \"malamute\", 180, 6);\n",
    "ShowDog dogD = new ShowDog(\"Gargamel\", \"Corgi\", 44, 12);\n",
    "\n",
    "Dog maxDog(dogC, dogD);"
   ]
  },
  {
   "cell_type": "markdown",
   "metadata": {},
   "source": [
    "What is the static type of `Dog.maxDog(dogC, dogD)`?\n",
    "\n",
    "**Ans**: "
   ]
  }
 ],
 "metadata": {
  "kernelspec": {
   "display_name": "Java",
   "language": "java",
   "name": "java"
  },
  "language_info": {
   "codemirror_mode": "java",
   "file_extension": ".jshell",
   "mimetype": "text/x-java-source",
   "name": "Java",
   "pygments_lexer": "java",
   "version": "12.0.2+10"
  }
 },
 "nbformat": 4,
 "nbformat_minor": 4
}
