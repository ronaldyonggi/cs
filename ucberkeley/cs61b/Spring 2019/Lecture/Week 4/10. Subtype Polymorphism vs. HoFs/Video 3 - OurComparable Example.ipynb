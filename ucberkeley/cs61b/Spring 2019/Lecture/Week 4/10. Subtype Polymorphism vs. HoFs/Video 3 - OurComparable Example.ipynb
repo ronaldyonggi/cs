{
 "cells": [
  {
   "cell_type": "markdown",
   "metadata": {},
   "source": [
    "In some languages like C++ or Python, we can redefine how an operator works in the context of specific classes. For example, we can redefine `>` so that it compares the size of `Dogs`. Unfortunately, we don't have that capability in Java."
   ]
  },
  {
   "cell_type": "markdown",
   "metadata": {},
   "source": [
    "## Solution"
   ]
  },
  {
   "cell_type": "markdown",
   "metadata": {},
   "source": [
    "Create an interface that guarantees a comparison method.\n",
    "* Interface inheritance says **what** a class can do, in this case **compare**\n",
    "* Have `Dog` implement this interface\n",
    "* Write `Maximizer` class in terms of this interface\n",
    "\n",
    "![](images/comparable.png)"
   ]
  },
  {
   "cell_type": "code",
   "execution_count": null,
   "metadata": {},
   "outputs": [],
   "source": [
    "// interface.java\n",
    "\n",
    "public interface OurComparable {\n",
    "    public int compareTo(Object o);\n",
    "}"
   ]
  },
  {
   "cell_type": "code",
   "execution_count": null,
   "metadata": {},
   "outputs": [],
   "source": [
    "// Dog class\n",
    "public class Dog implements OurComparable {\n",
    "    private String name;\n",
    "    private int size;\n",
    "    \n",
    "    public Dog(String n, int s) {\n",
    "        name = n;\n",
    "        size = s;\n",
    "    }\n",
    "    \n",
    "    public void bark() {\n",
    "        System.out.println(name + \" says: bark\");\n",
    "    }\n",
    "    \n",
    "    /** Returns negative number if this dog is less than the dog pointed at by o */\n",
    "    public int compareTo(Object o) {\n",
    "        Dog uddaDog = (Dog) o\n",
    "        return this.size - uddaDog.size\n",
    "    }\n",
    "}"
   ]
  },
  {
   "cell_type": "code",
   "execution_count": null,
   "metadata": {},
   "outputs": [],
   "source": [
    "public class Maximizer{\n",
    "    public static OurComparable max(OurComparable[] items) {\n",
    "        int maxDex = 0;\n",
    "        for (int i = 0; i < items.length; i += 1) {\n",
    "            int cmp = items[i].compareTo(items[maxDex]); // Change it from '>' to compareTo\n",
    "            if (cmp > 0) {\n",
    "                maxDex = i;\n",
    "            }\n",
    "        }\n",
    "        return items[maxDex];\n",
    "    }\n",
    "\n",
    "    public static void main(String[] args) {\n",
    "        Dog[] dogs = {new Dog(\"Elyse\", 3), new Dog(\"Sture\", 9), new Dog(\"Benjamin\", 15)};\n",
    "        Dog maxDog = (Dog) max(dogs);\n",
    "        maxDog.bark()l\n",
    "    }\n",
    "}\n"
   ]
  },
  {
   "cell_type": "markdown",
   "metadata": {},
   "source": [
    "## The OurComparable Interface"
   ]
  },
  {
   "cell_type": "code",
   "execution_count": null,
   "metadata": {},
   "outputs": [],
   "source": [
    "public interface OurComparable {\n",
    "    int compareTo(Object o); // 'Object' could have also been 'OurComparable'. Won't change anything\n",
    "}"
   ]
  },
  {
   "cell_type": "markdown",
   "metadata": {},
   "source": [
    "Returns:\n",
    "* Negative number if `this` is less than `o`\n",
    "* 0 if `this` is equal to `o`\n",
    "* Positive number if `this` is greater than `o`"
   ]
  },
  {
   "cell_type": "markdown",
   "metadata": {},
   "source": [
    "## General Maximization Function Through Inheritance"
   ]
  },
  {
   "cell_type": "markdown",
   "metadata": {},
   "source": [
    "![](images/general.png)"
   ]
  },
  {
   "cell_type": "markdown",
   "metadata": {},
   "source": [
    "The only precaution is that if we compare a `Dog` to let's say a `Cat` or something else, the code will fail!\n",
    "\n",
    "Benefits of this approach:\n",
    "\n",
    "1. No need for specific array maximiazation code in every custom type\n",
    "    * e.g. we don't need to implement `Dog.maxDog(Dogp[)`\n",
    "2. We have code that operates on multiple types (mostly) gracefully, e.g."
   ]
  },
  {
   "cell_type": "code",
   "execution_count": null,
   "metadata": {},
   "outputs": [],
   "source": [
    "ourComparable[] objs = getItems(\"somefile.txt\");\n",
    "return Maximizer.max(objs);"
   ]
  }
 ],
 "metadata": {
  "kernelspec": {
   "display_name": "Python 3",
   "language": "python",
   "name": "python3"
  },
  "language_info": {
   "codemirror_mode": {
    "name": "ipython",
    "version": 3
   },
   "file_extension": ".py",
   "mimetype": "text/x-python",
   "name": "python",
   "nbconvert_exporter": "python",
   "pygments_lexer": "ipython3",
   "version": "3.7.4"
  }
 },
 "nbformat": 4,
 "nbformat_minor": 4
}
