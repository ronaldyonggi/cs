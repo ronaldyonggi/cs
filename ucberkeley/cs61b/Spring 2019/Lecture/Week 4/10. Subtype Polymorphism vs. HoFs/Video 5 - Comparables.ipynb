{
 "cells": [
  {
   "cell_type": "markdown",
   "metadata": {},
   "source": [
    "# Comparables"
   ]
  },
  {
   "cell_type": "markdown",
   "metadata": {},
   "source": [
    "## The Issues with OurComparable"
   ]
  },
  {
   "cell_type": "markdown",
   "metadata": {},
   "source": [
    "#### 1. Awkward casting to/from Objects"
   ]
  },
  {
   "cell_type": "markdown",
   "metadata": {},
   "source": [
    "If we recall the `compareTo` method from the `Dog` class,"
   ]
  },
  {
   "cell_type": "code",
   "execution_count": null,
   "metadata": {},
   "outputs": [],
   "source": [
    "public int compareTo(Object o) {\n",
    "    Dog uddaDog = (Dog) o;\n",
    "    return this.size - uddaDog.size;\n",
    "}"
   ]
  },
  {
   "cell_type": "markdown",
   "metadata": {},
   "source": [
    "...we had to take the passed Object `o` and cast it as a `Dog` in order to get the size. This makes the code ugly since ideally we don't want casting in our code.\n",
    "\n",
    "We also potentially going to cast twice. If we want to store the result of calling `Maximizer.max(dogs)` (see `DogLauncher`),"
   ]
  },
  {
   "cell_type": "code",
   "execution_count": null,
   "metadata": {},
   "outputs": [],
   "source": [
    "Dog largest = (Dog) Maximizer.max(dogs);"
   ]
  },
  {
   "cell_type": "markdown",
   "metadata": {},
   "source": [
    "The result of calling `max` is an `OurComparable` object, so by default we can't store it in a `Dog` object. We'd have to cast the result into a `Dog` object,"
   ]
  },
  {
   "cell_type": "code",
   "execution_count": null,
   "metadata": {},
   "outputs": [],
   "source": [
    "Dog largest = (Dog) Maximizer.max(dogs);"
   ]
  },
  {
   "cell_type": "markdown",
   "metadata": {},
   "source": [
    "#### 2. We just made it up"
   ]
  },
  {
   "cell_type": "markdown",
   "metadata": {},
   "source": [
    "`OurComparable` is not a real thing. \n",
    "* No existing classes implement `OurComparable` (e.g. String, etc.)\n",
    "    * If we try to use the `Maximizer.max` method with Strings, we can't because they don't implement `OurComparable`\n",
    "* No existing classes use `OurComparable)` (e.g. no built-in `max` function that uses `OurComparable`)."
   ]
  },
  {
   "cell_type": "markdown",
   "metadata": {},
   "source": [
    "## Industrial Strength Approach"
   ]
  },
  {
   "cell_type": "markdown",
   "metadata": {},
   "source": [
    "The industrial strength approach: use the built-in Comparable interface.\n",
    "* Already defined and used by tons of libraries\n",
    "* Uses generics\n",
    "    * This way, we don't have to cast!"
   ]
  },
  {
   "cell_type": "code",
   "execution_count": null,
   "metadata": {},
   "outputs": [],
   "source": [
    "public interface Comparable<T> {\n",
    "    public int compareTo(T obj);\n",
    "}\n",
    "\n",
    "//Compare it to what we did previously,\n",
    "public interface OurComparable {\n",
    "    public int compareTo(Object obj);\n",
    "}"
   ]
  },
  {
   "cell_type": "markdown",
   "metadata": {},
   "source": [
    "#### Let's implement the changes - `Dog` class"
   ]
  },
  {
   "cell_type": "markdown",
   "metadata": {},
   "source": [
    "Previously in the `Dog` class, the class signature looks like the following,"
   ]
  },
  {
   "cell_type": "code",
   "execution_count": null,
   "metadata": {},
   "outputs": [],
   "source": [
    "public class Dog implements OurComparable{\n",
    "    ...\n",
    "    public int compareTo(Object o) {\n",
    "        Dog uddaDog = (Dog) o;\n",
    "        return this.size - uddaDog.size;\n",
    "    }\n",
    "}"
   ]
  },
  {
   "cell_type": "markdown",
   "metadata": {},
   "source": [
    "Now using the built-in Comparable interface, "
   ]
  },
  {
   "cell_type": "code",
   "execution_count": null,
   "metadata": {},
   "outputs": [],
   "source": [
    "public class Dog implements Comparable<Dog> {\n",
    "    ...\n",
    "    public int compareTo(Dog uddaDog){\n",
    "        return this.size - uddaDog.size\n",
    "        // We don't need to cast because uddaDog is already a Dog object!\n",
    "    }\n",
    "}"
   ]
  },
  {
   "cell_type": "markdown",
   "metadata": {},
   "source": [
    "#### Implement the changes - `Maximizer` class"
   ]
  },
  {
   "cell_type": "raw",
   "metadata": {},
   "source": [
    "Previously, the `max` method expects `OurComparable` object."
   ]
  },
  {
   "cell_type": "code",
   "execution_count": null,
   "metadata": {},
   "outputs": [],
   "source": [
    "public class Maximizer{\n",
    "    public static OurComparable max(OurComparable[] items) {\n",
    "        ...\n",
    "    }\n",
    "}"
   ]
  },
  {
   "cell_type": "markdown",
   "metadata": {},
   "source": [
    "Now we need to update it since it now returns `Comparable`."
   ]
  },
  {
   "cell_type": "code",
   "execution_count": null,
   "metadata": {},
   "outputs": [],
   "source": [
    "public class Maximizer {\n",
    "    public static Comparable max(Comparable items) {\n",
    "        ...\n",
    "    }\n",
    "}"
   ]
  },
  {
   "cell_type": "markdown",
   "metadata": {},
   "source": [
    "## Comparable vs. OurComparable"
   ]
  },
  {
   "cell_type": "markdown",
   "metadata": {},
   "source": [
    "With this approach, instead of using a made-up `OurComparable` interface, we use a real `Comparable<Dog>` interface. This way, we can now use the entire library ecosystem. \n",
    "* Instead of having to build our own set of libraries,\n",
    "* We can use the pre-existing ones that come with `Comparable`"
   ]
  },
  {
   "cell_type": "markdown",
   "metadata": {},
   "source": [
    "## Comparable Advantages"
   ]
  },
  {
   "cell_type": "markdown",
   "metadata": {},
   "source": [
    "* Lots of built-in classes implement `Comparable` (e.g. `String`)\n",
    "* Lots of libraries use the `Comparable` interface (e.g. `Array.sort`)\n",
    "    * For example, `max` is readily available via `Collection` library.\n",
    "    * Given an array of dogs, this `max` method can find the largest dog as long as the `dog` implement `Comparable`\n",
    "* Avoids need for casts\n",
    "\n",
    "![](images/advantages.png)"
   ]
  },
  {
   "cell_type": "code",
   "execution_count": null,
   "metadata": {},
   "outputs": [],
   "source": []
  }
 ],
 "metadata": {
  "kernelspec": {
   "display_name": "Python 3",
   "language": "python",
   "name": "python3"
  },
  "language_info": {
   "codemirror_mode": {
    "name": "ipython",
    "version": 3
   },
   "file_extension": ".py",
   "mimetype": "text/x-python",
   "name": "python",
   "nbconvert_exporter": "python",
   "pygments_lexer": "ipython3",
   "version": "3.7.4"
  }
 },
 "nbformat": 4,
 "nbformat_minor": 4
}
