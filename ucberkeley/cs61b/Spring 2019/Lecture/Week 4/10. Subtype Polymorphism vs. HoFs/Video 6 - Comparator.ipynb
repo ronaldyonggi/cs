{
 "cells": [
  {
   "cell_type": "code",
   "execution_count": null,
   "metadata": {},
   "outputs": [],
   "source": [
    "public class DogLauncher {\n",
    "    public static void main(String[] args) {\n",
    "        Dog d1 = new Dog(\"Elyse\", 3);\n",
    "        Dog d2 = new Dog(\"Sture\", 9);\n",
    "        Dog d3 = new Dog(\"Benjamin\", 15);\n",
    "        Dog[] dogs = new Dog[] {d1, d2, d3};\n",
    "        System.out.println(Maximizer.max(dogs));\n",
    "        Dog d = (Dog) Maximizer.max(dogs);\n",
    "        d.bark();\n",
    "    }\n",
    "}"
   ]
  },
  {
   "cell_type": "code",
   "execution_count": null,
   "metadata": {},
   "outputs": [],
   "source": [
    "public class Dog implements Comparable<Dog> {\n",
    "    private String name;\n",
    "    private int size;\n",
    "    \n",
    "    public Dog(String n, int s) {\n",
    "        name = n;\n",
    "        size = s;\n",
    "    }\n",
    "    \n",
    "    public void bark() {\n",
    "        System.out.println(name + \" says: bark\");\n",
    "    }\n",
    "    \n",
    "    public int compareTo(Dog uddaDog) {\n",
    "        return this.size - uddaDog.size;\n",
    "    }\n",
    "}"
   ]
  },
  {
   "cell_type": "markdown",
   "metadata": {},
   "source": [
    "# Comparators"
   ]
  },
  {
   "cell_type": "markdown",
   "metadata": {},
   "source": [
    "We don't always want to compare objects in the same way every time. This is when the `Comparator` comes in."
   ]
  },
  {
   "cell_type": "markdown",
   "metadata": {},
   "source": [
    "## Natural Order"
   ]
  },
  {
   "cell_type": "markdown",
   "metadata": {},
   "source": [
    "The term `Natural Order` is sometimes used to refer to the ordering implied by a `Comparable`'s `compareTo` method.\n",
    "* Example: `Dog` objects (as we've defined them) have a natural order given by their size (e.g. smallest on the left, largest on the right)\n",
    "\n",
    "![](images/ordering.png)\n",
    "\n",
    "Sometimes, we might want to order objects in a different way. For example by their name alphabetically.\n",
    "\n",
    "![](images/alphabet.png)"
   ]
  },
  {
   "cell_type": "markdown",
   "metadata": {},
   "source": [
    "How do we do this in Java?"
   ]
  },
  {
   "cell_type": "markdown",
   "metadata": {},
   "source": [
    "## Subtype Polymorphism vs. Explicit Higher Order Functions"
   ]
  },
  {
   "cell_type": "markdown",
   "metadata": {},
   "source": [
    "Suppose we want to write a program that prints a string representation of the larger of 2 objects according to some specific comparison function."
   ]
  },
  {
   "cell_type": "code",
   "execution_count": null,
   "metadata": {},
   "outputs": [],
   "source": [
    "// Explicit HoF Approach\n",
    "\n",
    "def print_larger(x, y, compare, stringify):\n",
    "    if compare(x, y):\n",
    "        return stringify(x)\n",
    "    return stringify(y)"
   ]
  },
  {
   "cell_type": "markdown",
   "metadata": {},
   "source": [
    "In explicit HoF approach, we can simply pass a different `compare` function. The user just has to pick the correct `compare` function.\n",
    "\n",
    "Now how do we do this in Subtype Polymorphism approach?"
   ]
  },
  {
   "cell_type": "code",
   "execution_count": null,
   "metadata": {},
   "outputs": [],
   "source": [
    "def print_larger(T x, T y):\n",
    "    if x.largerThan(y):\n",
    "        return x.str()\n",
    "    return y.str()"
   ]
  },
  {
   "cell_type": "markdown",
   "metadata": {},
   "source": [
    "This `print_larger` function takes 2 objects of the same type, calls `largerThan`, and stringify whichever's larger. But how do we augment this code to support multiple orderings?\n",
    "* The Explicit HoF approach automatically supports multiple ordering since we can simply pass in a different `compare` function"
   ]
  },
  {
   "cell_type": "markdown",
   "metadata": {},
   "source": [
    "A few potential (but bad) solutions:\n",
    "1. Have multiple `compareTo` methods (e.g. `compareTo2`, `compareTo3`, so on..)\n",
    "2. Have a `String` argument to the `compareTo` method like the following,"
   ]
  },
  {
   "cell_type": "code",
   "execution_count": null,
   "metadata": {},
   "outputs": [],
   "source": [
    "public int compareTo(Dog uddaDog, String whichCompare){\n",
    "    ...\n",
    "}"
   ]
  },
  {
   "cell_type": "markdown",
   "metadata": {},
   "source": [
    "However, these solutions won't work well in Java. One solution that works with Java is to pass in an object of type `comparator<T>` "
   ]
  },
  {
   "cell_type": "code",
   "execution_count": null,
   "metadata": {},
   "outputs": [],
   "source": [
    "def print_larger(T x, T y, comparator<T> c):\n",
    "    if c.compare(x, y):\n",
    "        return x.str()\n",
    "    return y.str()"
   ]
  },
  {
   "cell_type": "markdown",
   "metadata": {},
   "source": [
    "## Additional Orders in Java"
   ]
  },
  {
   "cell_type": "markdown",
   "metadata": {},
   "source": [
    "In Java, the `comparator` object can be used as a nested class inside `Dog` class,"
   ]
  },
  {
   "cell_type": "code",
   "execution_count": null,
   "metadata": {},
   "outputs": [],
   "source": [
    "import java.util.Comparator;\n",
    "\n",
    "public class Dog implements Comparable<Dog> {\n",
    "    private String name;\n",
    "    ...\n",
    "    \n",
    "    public class NameComparator implements Comparator<Dog> {\n",
    "        \n",
    "    }\n",
    "}"
   ]
  },
  {
   "cell_type": "markdown",
   "metadata": {},
   "source": [
    "In some languages, we'd write 2 comparison functions and simply pass the one we want:\n",
    "* `sizeCompare()`\n",
    "* `nameCompare()`\n",
    "\n",
    "The standard Java approach: create `sizeComparator` and `nameComparator` class that implements the `Comparator` interface\n",
    "* Requires methods that also take `Comparator` arguments (see project 1B)"
   ]
  },
  {
   "cell_type": "code",
   "execution_count": null,
   "metadata": {},
   "outputs": [],
   "source": [
    "public interface Comparator<T> {\n",
    "    int compare(T o1, T o2);\n",
    "}"
   ]
  },
  {
   "cell_type": "markdown",
   "metadata": {},
   "source": [
    "With our `NameComparator` class, we'll do the following,"
   ]
  },
  {
   "cell_type": "code",
   "execution_count": null,
   "metadata": {},
   "outputs": [],
   "source": [
    "public class NameComparator implements Comparator<Dog> {\n",
    "    public int compare(Dog a, Dog b);\n",
    "    ... // rule of comparison\n",
    "}"
   ]
  },
  {
   "cell_type": "markdown",
   "metadata": {},
   "source": [
    "Similar to `compareTo` we want to make comparison rule that:\n",
    "1. Returns negative number if `a < b`\n",
    "2. 0 if `a == b`\n",
    "3. Positive number otherwise\n",
    "\n",
    "We can use the `String`'s `compareTo` method."
   ]
  },
  {
   "cell_type": "code",
   "execution_count": null,
   "metadata": {},
   "outputs": [],
   "source": [
    "public class NameComparator implements Comparator<Dog> {\n",
    "    public int compare(Dog a, Dog b) {\n",
    "        return a.name.compareTo(b.name);\n",
    "    }\n",
    "}"
   ]
  },
  {
   "cell_type": "markdown",
   "metadata": {},
   "source": [
    "Notice that we don't need to instantiate a `Dog` class to use `NameComparator`. Therefore, we can make the class static."
   ]
  },
  {
   "cell_type": "code",
   "execution_count": null,
   "metadata": {},
   "outputs": [],
   "source": [
    "public static class NameComparator implements Comparator<Dog> {\n",
    "    public int compare(Dog a, Dog b) {\n",
    "        return a.name.compareTo(b.name);\n",
    "    }\n",
    "}"
   ]
  },
  {
   "cell_type": "markdown",
   "metadata": {},
   "source": [
    "Now let's use the `NameComparator` in the `main` method in `DogLauncher.java`. To use `NameComparator`, first we need to create a comparator."
   ]
  },
  {
   "cell_type": "code",
   "execution_count": null,
   "metadata": {},
   "outputs": [],
   "source": [
    "public static void main(String[] args) {\n",
    "    ...\n",
    "    Dog.NameComparator nc = new Dog.NameComparator();\n",
    "    // nc is now a NameComparator object that's capable of comparing dogs by name\n",
    "    if (nc.compare(d1, d3) > 0) {\n",
    "        d1.bark(); // If d1 is greater in alphabet, d1 barks\n",
    "    } else {\n",
    "        d3.bark(); // Otherwise d3 barks \n",
    "    }\n",
    "}"
   ]
  },
  {
   "cell_type": "markdown",
   "metadata": {},
   "source": [
    "The code above works, but we don't often do `new Dog.NameComparator`. Instead, we'll do the following:\n",
    "\n",
    "* Make the `NameComparator` class in `Dog.java` private"
   ]
  },
  {
   "cell_type": "code",
   "execution_count": null,
   "metadata": {},
   "outputs": [],
   "source": [
    "private static class NameComparator implements Comparator<Dog>{\n",
    "    ...\n",
    "}"
   ]
  },
  {
   "cell_type": "markdown",
   "metadata": {},
   "source": [
    "* Create a public static method `getNameComparator` that returns a Comparator object in `Dog.java`"
   ]
  },
  {
   "cell_type": "code",
   "execution_count": null,
   "metadata": {},
   "outputs": [],
   "source": [
    "private static class NameComparator implements Comparator<Dog>{...}\n",
    "\n",
    "public static Comparator<Dog> getNameComparator() {\n",
    "    return new NameComparator();\n",
    "}"
   ]
  },
  {
   "cell_type": "markdown",
   "metadata": {},
   "source": [
    "Now back to the `main` method in `DogLauncher.java`,\n",
    "* Change `new.DogNameComparator` to `Dog.getNameComparator()`."
   ]
  },
  {
   "cell_type": "code",
   "execution_count": null,
   "metadata": {},
   "outputs": [],
   "source": [
    "Dog.NameComparator nc = Dog.getNameComparator();"
   ]
  },
  {
   "cell_type": "markdown",
   "metadata": {},
   "source": [
    "Now `Dog.NameComparator` is a private class, so we need a container that can hold a dog comparator. We can do the following,"
   ]
  },
  {
   "cell_type": "code",
   "execution_count": null,
   "metadata": {},
   "outputs": [],
   "source": [
    "java.util.Comparator<Dog> nc = Dog.getNameComparator();"
   ]
  },
  {
   "cell_type": "markdown",
   "metadata": {},
   "source": [
    "Since `java.util.Comparator` look verbose, we can import the `java.util.Comparator` in the beginning of the file so that we can jsut use `Comparator`,"
   ]
  },
  {
   "cell_type": "code",
   "execution_count": null,
   "metadata": {},
   "outputs": [],
   "source": [
    "import java.util.Comparator;\n",
    "\n",
    "public class DogLauncher {\n",
    "    public static void main(String[] args){\n",
    "        ...\n",
    "        Comparator<Dog> nc = Dog.getNameComparator();\n",
    "        ...\n",
    "    }\n",
    "}"
   ]
  },
  {
   "cell_type": "markdown",
   "metadata": {},
   "source": [
    "## Example: `NameComparator`"
   ]
  },
  {
   "cell_type": "markdown",
   "metadata": {},
   "source": [
    "Thus finally, we ended up with the following code,\n",
    "\n",
    "![](images/namecomparator.png)"
   ]
  },
  {
   "cell_type": "markdown",
   "metadata": {},
   "source": [
    "## Dogs and Comparator"
   ]
  },
  {
   "cell_type": "markdown",
   "metadata": {},
   "source": [
    "The concluding schematic is as the following,\n",
    "\n",
    "![](images/schematic.png)\n",
    "\n",
    "We have a `Comparator<T>` interface that's built-in to Java\n",
    "* We have `NameComparator` that we just built as a private class that implements `Comparator<T>` interface\n",
    "* We could have created `SizeComparator` too, but we don't do it for the sake of lecture time\n",
    "\n",
    "Note that when it comes to inheritance, the `Dog` class is not part of the tree. "
   ]
  },
  {
   "cell_type": "markdown",
   "metadata": {},
   "source": [
    "## Comparable and Comparator Summary"
   ]
  },
  {
   "cell_type": "markdown",
   "metadata": {},
   "source": [
    "Interfaces provide us with the ability to make **callbacks**\n",
    "* Sometimes a function needs the help of another function that might not have been written yet\n",
    "    * Example: `max` needs `compareTo`\n",
    "    * The helping function is sometimes called a `callback`\n",
    "* Some languages handle this using explicit function passing\n",
    "* In Java, we do this by wrapping up the needed function in an interface\n",
    "    * e.g. `Arrays.sort` needs `compare` which lives inside the `comparator` interface\n",
    "* `Arrays.sort` calls back whenever it needs a comparison\n",
    "    * Similar to giving your numver to someone if they need information\n",
    "    * See project 1B to explore how to write code that uses comparators\n",
    "    \n",
    "    \n",
    "Extra facts: difference between `Comparable` and `Comparator`\n",
    "* `Comparable`: making an object comparable with another object\n",
    "* `Comparator`: compares 2 objects"
   ]
  },
  {
   "cell_type": "code",
   "execution_count": null,
   "metadata": {},
   "outputs": [],
   "source": []
  }
 ],
 "metadata": {
  "kernelspec": {
   "display_name": "Python 3",
   "language": "python",
   "name": "python3"
  },
  "language_info": {
   "codemirror_mode": {
    "name": "ipython",
    "version": 3
   },
   "file_extension": ".py",
   "mimetype": "text/x-python",
   "name": "python",
   "nbconvert_exporter": "python",
   "pygments_lexer": "ipython3",
   "version": "3.7.4"
  }
 },
 "nbformat": 4,
 "nbformat_minor": 4
}
