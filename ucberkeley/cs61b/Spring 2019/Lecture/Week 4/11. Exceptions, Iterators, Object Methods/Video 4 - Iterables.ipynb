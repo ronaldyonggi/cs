{
 "cells": [
  {
   "cell_type": "markdown",
   "metadata": {},
   "source": [
    "# Iteration "
   ]
  },
  {
   "cell_type": "markdown",
   "metadata": {},
   "source": [
    "## The Enhanced For Loop"
   ]
  },
  {
   "cell_type": "markdown",
   "metadata": {},
   "source": [
    "Java allows us to iterate through Lists and Sets using a convenient shorthand syntax sometimes called the \"foreach\" or \"enhanced for\" loop."
   ]
  },
  {
   "cell_type": "code",
   "execution_count": null,
   "metadata": {},
   "outputs": [],
   "source": [
    "Set<Integer> javaset = new HashSet<>();\n",
    "javaset.add(5);\n",
    "javaset.add(23);\n",
    "javaset.add(42);\n",
    "for (int i: javaset) {\n",
    "    System.out.println(i); \n",
    "}"
   ]
  },
  {
   "cell_type": "markdown",
   "metadata": {},
   "source": [
    "However, turns out we can't use the enhanced for loop with the `ArraySet`! "
   ]
  },
  {
   "cell_type": "code",
   "execution_count": null,
   "metadata": {},
   "outputs": [],
   "source": [
    "ArraySet<Integer> aset = new HashSet<>();\n",
    "javaset.add(5);\n",
    "javaset.add(23);\n",
    "javaset.add(42);\n",
    "for (int i: aset) {\n",
    "    System.out.println(i); \n",
    "}\n",
    "\n",
    "// =======OUTPUT =======\n",
    "$ error: for-each not applicable to expression type\n",
    "            for (int i: aset) {\n",
    "                \n",
    "    required: array or java.lang.Iterable\n",
    "    found:    ArraySet<Integer> "
   ]
  },
  {
   "cell_type": "markdown",
   "metadata": {},
   "source": [
    "## How Iteration Really Works"
   ]
  },
  {
   "cell_type": "markdown",
   "metadata": {},
   "source": [
    "Turns out the enhanced for loop approach, which we'll call the \"nice iteration\", can be replicated using the following \"ugly\" iteration,"
   ]
  },
  {
   "cell_type": "code",
   "execution_count": null,
   "metadata": {},
   "outputs": [],
   "source": [
    "// Nice Iteration\n",
    "Set<Integer> javaset = new HashSet<Integer>();\n",
    "javaset.add(5);\n",
    "javaset.add(23);\n",
    "javaset.add(42);\n",
    "for (int x : javaset) {\n",
    "    System.out.println(x);\n",
    "}"
   ]
  },
  {
   "cell_type": "code",
   "execution_count": null,
   "metadata": {},
   "outputs": [],
   "source": [
    "// Ugly Iteration\n",
    "import java.util.Iterator; // Import this outside the class definition\n",
    "\n",
    "Set<Integer> javaset = new HashSet<Integer>();\n",
    "javaset.add(5);\n",
    "javaset.add(23);\n",
    "javaset.add(42);\n",
    "Iterator<Integer> seer = javaset.iterator();\n",
    "\n",
    "while (seer.hasNext()) { // as long as seer still has elements available\n",
    "    System.out.println(seer.next()); \n",
    "}"
   ]
  },
  {
   "cell_type": "markdown",
   "metadata": {},
   "source": [
    "Notice in ugly iteration, we instantiate an `Iterator` object whose methods we'll use (e.g. `hasNext()`) \n",
    "\n",
    "We can think of the `seer` as the pointer. Initially, `seer` points at nothing.\n",
    "\n",
    "1. `hasNext()` returns True because the next value is 5\n",
    "    * `seer.next()` then returns 5\n",
    "2. `hasNext()` returns True because the next value is 23\n",
    "    * `seer.next()` then returns 23\n",
    "3. `hasNext()` returns True because the next value is 42\n",
    "    * `seer.next()` then returns 42\n",
    "4. `hasNExt()` then returns False because there's no other element after 42"
   ]
  },
  {
   "cell_type": "code",
   "execution_count": null,
   "metadata": {},
   "outputs": [],
   "source": [
    "1. `hasNext()"
   ]
  },
  {
   "cell_type": "markdown",
   "metadata": {},
   "source": [
    "## The Secret of the Enhanced For Loop"
   ]
  },
  {
   "cell_type": "markdown",
   "metadata": {},
   "source": [
    "![](images/secret.png)"
   ]
  },
  {
   "cell_type": "markdown",
   "metadata": {},
   "source": [
    "**The code on the left is just a shorthand for the code on the right.**\n",
    "\n",
    "For the code on the right to compile, what does the compiler need to check?\n",
    "\n",
    "1. Does the `Set` interface have an `iterator()` method?\n",
    "2. Does the `Set` interface have `next/hasNext()` method?\n",
    "3. Does the `Iterator` interface have an `iterator` method?\n",
    "4. Does the `Iterator` interface have `next()` and `hasNext()` methods?\n",
    "\n",
    "**Ans**: 1 and 4"
   ]
  },
  {
   "cell_type": "markdown",
   "metadata": {},
   "source": [
    "## Supporting Ugly Iteration in ArraySets"
   ]
  },
  {
   "cell_type": "markdown",
   "metadata": {},
   "source": [
    "To support ugly iteration:\n",
    "\n",
    "1. Add an `iterator()` method to `ArraySet()`\n",
    "    * This `iterator()` method should return an `Iterator<T>`\n",
    "2. The `Iterator<T>` that we return should have a useful `hasNext()` and `next()` method"
   ]
  },
  {
   "cell_type": "code",
   "execution_count": null,
   "metadata": {},
   "outputs": [],
   "source": [
    "public interface Iterator<T> {\n",
    "    boolean hasNext();\n",
    "    T next();\n",
    "}"
   ]
  },
  {
   "cell_type": "markdown",
   "metadata": {},
   "source": [
    "There are a few steps to do this:"
   ]
  },
  {
   "cell_type": "markdown",
   "metadata": {},
   "source": [
    "#### `Iterator<T> iterator()` method"
   ]
  },
  {
   "cell_type": "markdown",
   "metadata": {},
   "source": [
    "First, create a method that returns an iterator."
   ]
  },
  {
   "cell_type": "code",
   "execution_count": null,
   "metadata": {},
   "outputs": [],
   "source": [
    "public Iterator<T> iterator(){\n",
    "    return...??\n",
    "}"
   ]
  },
  {
   "cell_type": "markdown",
   "metadata": {},
   "source": [
    "What do we return? We haven't made a class for this, so let's implement one! "
   ]
  },
  {
   "cell_type": "code",
   "execution_count": null,
   "metadata": {},
   "outputs": [],
   "source": [
    "private class ArraySetIterator implements Iterator<T>{\n",
    "    public boolean hasNext(){\n",
    "        ...\n",
    "    }\n",
    "    \n",
    "    public Integer next(){\n",
    "        ...\n",
    "    }\n",
    "}"
   ]
  },
  {
   "cell_type": "markdown",
   "metadata": {},
   "source": [
    "Now we can go back to the `iterator()` method,"
   ]
  },
  {
   "cell_type": "code",
   "execution_count": null,
   "metadata": {},
   "outputs": [],
   "source": [
    "public Iterator<T> iterator() {\n",
    "    return new ArraySetIterator();\n",
    "}"
   ]
  },
  {
   "cell_type": "markdown",
   "metadata": {},
   "source": [
    "Now the `iterator()` method is complete, but we still need to complete the `ArraySetIterator` class. How do we complete it?\n",
    "\n",
    "We need to emulate the `seer` pointer functionality: a pointer that keeps track of the position along the array."
   ]
  },
  {
   "cell_type": "code",
   "execution_count": null,
   "metadata": {},
   "outputs": [],
   "source": [
    "private class ArraySetIterator implements Iterator<T> {\n",
    "    private int pointer;\n",
    "    public ArraySetIterator() {\n",
    "        pointer = 0;\n",
    "    }\n",
    "}"
   ]
  },
  {
   "cell_type": "markdown",
   "metadata": {},
   "source": [
    "Now that we have a pointer, we can complete the implementation for `hasNext()` and `next()` method."
   ]
  },
  {
   "cell_type": "code",
   "execution_count": null,
   "metadata": {},
   "outputs": [],
   "source": [
    "public boolean hasNext(){\n",
    "    // As long as the pointer is less than the size of the array,\n",
    "    // the pointer still haven't reached the end of the array\n",
    "    return pointer < size\n",
    "}"
   ]
  },
  {
   "cell_type": "code",
   "execution_count": null,
   "metadata": {},
   "outputs": [],
   "source": [
    "public T next() {\n",
    "    T returnItem = items[pointer]; // Assign the item that's going to be returned to 'returnItem'\n",
    "    pointer += 1;\n",
    "    return returnItem;\n",
    "}"
   ]
  },
  {
   "cell_type": "markdown",
   "metadata": {},
   "source": [
    "We just have finished implementing an iterator object that allows us to walk through our array! "
   ]
  },
  {
   "cell_type": "code",
   "execution_count": null,
   "metadata": {},
   "outputs": [],
   "source": [
    "private class ArraySetIterator implements Iterator<T> {\n",
    "    private int pointer;\n",
    "    public ArraySetIterator() {\n",
    "        pointer = 0;\n",
    "    }\n",
    "    \n",
    "    public boolean hasNext(){\n",
    "        // As long as the pointer is less than the size of the array,\n",
    "        // the pointer still haven't reached the end of the array\n",
    "        return pointer < size\n",
    "    }\n",
    "    \n",
    "    public T next() {\n",
    "        T returnItem = items[pointer]; // Assign the item that's going to be returned to 'returnItem'\n",
    "        pointer += 1;\n",
    "        return returnItem;\n",
    "    }\n",
    "}\n",
    "\n",
    "public Iterator<T> iterator() {\n",
    "    return new ArraySetIterator();\n",
    "}"
   ]
  },
  {
   "cell_type": "markdown",
   "metadata": {},
   "source": [
    "## The Enhanced For Loop"
   ]
  },
  {
   "cell_type": "markdown",
   "metadata": {},
   "source": [
    "Our code now supports \"ugly\" iteration, but enhanced for loop still doesn't work."
   ]
  },
  {
   "cell_type": "code",
   "execution_count": null,
   "metadata": {},
   "outputs": [],
   "source": [
    "ArraySet<Integer> aset = new ArraySet<>();\n",
    "aset.add(5);\n",
    "aset.add(23);\n",
    "aset.add(42);\n",
    "for (int i: aset){\n",
    "    ...\n",
    "}\n",
    "\n",
    "// ==== Output ====\n",
    "error: for-each not applicable to expression type\n",
    "        for (int i: aset) {\n",
    "            \n",
    "    required: array or java.lang.iterable\n",
    "    found:    ArraySet<Integer>"
   ]
  },
  {
   "cell_type": "markdown",
   "metadata": {},
   "source": [
    "The problem: Java isn't smart enough to realize that our `ArraySet` has an `iterator()` method\n",
    "* Luckily there's an interface for this: `Iterable<T>`"
   ]
  },
  {
   "cell_type": "markdown",
   "metadata": {},
   "source": [
    "## For-each Iteration and ArraySets"
   ]
  },
  {
   "cell_type": "markdown",
   "metadata": {},
   "source": [
    "To support enhanced for loop, we need to make `ArraySet` class implement the `Iterable` interface.\n",
    "* There are also some default methods in `Iterable`, not shown\n",
    "\n",
    "![](images/iterable.png)"
   ]
  },
  {
   "cell_type": "code",
   "execution_count": null,
   "metadata": {},
   "outputs": [],
   "source": [
    "import ...\n",
    "\n",
    "public class ArraySet<T> implements Iterable<T> {\n",
    "    private T[] items;\n",
    "}"
   ]
  },
  {
   "cell_type": "markdown",
   "metadata": {},
   "source": [
    "This way, we're declaring that ArraySet has an `iterator()` method. Without `implements Iterable<T>`, even though our code supports ugly iteration, Java doesn't know that now `ArraySet` has a usable `iterator()`."
   ]
  },
  {
   "cell_type": "markdown",
   "metadata": {},
   "source": [
    "## The Iterable Interface"
   ]
  },
  {
   "cell_type": "markdown",
   "metadata": {},
   "source": [
    "This is how `Set` works as well.\n",
    "\n",
    "![](images/set.png)"
   ]
  },
  {
   "cell_type": "code",
   "execution_count": null,
   "metadata": {},
   "outputs": [],
   "source": [
    "public interface Iterable<T> {\n",
    "    Iterator<T> iterator();\n",
    "    ...\n",
    "}"
   ]
  },
  {
   "cell_type": "code",
   "execution_count": null,
   "metadata": {},
   "outputs": [],
   "source": [
    "public class Collection<E> extends Iterable<E> {\n",
    "    public Iterator<E> iterator();\n",
    "}"
   ]
  },
  {
   "cell_type": "code",
   "execution_count": null,
   "metadata": {},
   "outputs": [],
   "source": [
    "public class Set<E> extends Collection<E> {\n",
    "    public Iterator<E> iterator();\n",
    "}"
   ]
  },
  {
   "cell_type": "markdown",
   "metadata": {},
   "source": [
    "This means we can use enhanced for loop for sets because Java knows sets inherit the `iterator()` method."
   ]
  },
  {
   "cell_type": "markdown",
   "metadata": {},
   "source": [
    "## Iteration Summary"
   ]
  },
  {
   "cell_type": "markdown",
   "metadata": {},
   "source": [
    "To support the enhanced for loop (in other words, the ability to do the following),"
   ]
  },
  {
   "cell_type": "code",
   "execution_count": null,
   "metadata": {},
   "outputs": [],
   "source": [
    "for (int i: aset){\n",
    "    System.out.println(i);\n",
    "}"
   ]
  },
  {
   "cell_type": "markdown",
   "metadata": {},
   "source": [
    "* Add an `iterator()` method that returns an `Iterator<T>` to the class\n",
    "* Make sure the `Iterator<T>` object returned has a useful `hasNext()` and `next()` method\n",
    "* Add `implements Iterable<T>` to the line defining the class in the first place"
   ]
  }
 ],
 "metadata": {
  "kernelspec": {
   "display_name": "Python 3",
   "language": "python",
   "name": "python3"
  },
  "language_info": {
   "codemirror_mode": {
    "name": "ipython",
    "version": 3
   },
   "file_extension": ".py",
   "mimetype": "text/x-python",
   "name": "python",
   "nbconvert_exporter": "python",
   "pygments_lexer": "ipython3",
   "version": "3.7.4"
  }
 },
 "nbformat": 4,
 "nbformat_minor": 4
}
