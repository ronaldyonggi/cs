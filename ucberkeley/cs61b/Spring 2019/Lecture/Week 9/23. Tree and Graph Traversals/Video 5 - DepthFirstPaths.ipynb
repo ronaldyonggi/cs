{
 "cells": [
  {
   "cell_type": "markdown",
   "metadata": {},
   "source": [
    "## Depth First Traversal\n",
    "\n",
    "The idea of exploring a neighbor's entire subgraph before moving on to the next neighbor is known as **Depth First Traversal**\n",
    "\n",
    "![](images/depth.png)\n",
    "\n",
    "For example here, we explore `1`'s subgraph completely before going to `3`.\n",
    "\n",
    "It's called \"depth first\" before we go as deep as possible."
   ]
  },
  {
   "cell_type": "markdown",
   "metadata": {},
   "source": [
    "## The Power of Depth First Search\n",
    "\n",
    "DFS is a very powerful technique that can be used for many types of graph problem.\n",
    "\n",
    "See [demo](https://docs.google.com/presentation/d/1lTo8LZUGi3XQ1VlOmBUF9KkJTW_JWsw_DOPq8VBiI3A/edit#slide=id.g76e0dad85_2_380) here.\n",
    "\n",
    "In the demo, the goal is to write an algorithm that computes a path from `s` to all reachable vertex, visiting each vertex at most once. "
   ]
  },
  {
   "cell_type": "code",
   "execution_count": null,
   "metadata": {},
   "outputs": [],
   "source": [
    "dfs(v):\n",
    "    mark v\n",
    "    for each unmarked neighbor of vertex w:\n",
    "        // edgeTo indicates how to get to w from\n",
    "        edgeTo[w] = v\n",
    "        dfs(w) // recursive call dfs(w)"
   ]
  },
  {
   "cell_type": "code",
   "execution_count": null,
   "metadata": {},
   "outputs": [],
   "source": []
  }
 ],
 "metadata": {
  "kernelspec": {
   "display_name": "Python 3",
   "language": "python",
   "name": "python3"
  },
  "language_info": {
   "codemirror_mode": {
    "name": "ipython",
    "version": 3
   },
   "file_extension": ".py",
   "mimetype": "text/x-python",
   "name": "python",
   "nbconvert_exporter": "python",
   "pygments_lexer": "ipython3",
   "version": "3.7.4"
  }
 },
 "nbformat": 4,
 "nbformat_minor": 4
}
