{
 "cells": [
  {
   "cell_type": "markdown",
   "metadata": {},
   "source": [
    "# Tree vs. Graph Traversals"
   ]
  },
  {
   "cell_type": "markdown",
   "metadata": {},
   "source": [
    "## Tree Traversals\n",
    "\n",
    "As we saw before, there are many tree traversals:\n",
    "![](images/dbf.png)\n",
    "\n",
    "* Preorder: DBACFEG\n",
    "* Inorder: ABCDEFG\n",
    "* Postorder: ACBEGFD\n",
    "* Level Order: DBFACEG"
   ]
  },
  {
   "cell_type": "markdown",
   "metadata": {},
   "source": [
    "Recall the [demo](https://docs.google.com/presentation/d/1lTo8LZUGi3XQ1VlOmBUF9KkJTW_JWsw_DOPq8VBiI3A/edit#slide=id.g76e0dad85_2_380) from the previous video.\n",
    "\n",
    "What we just did in this demo is called **DFS Preorder**, where the **action** is done before calling recursive DFS to neighbors."
   ]
  },
  {
   "cell_type": "code",
   "execution_count": null,
   "metadata": {},
   "outputs": [],
   "source": [
    "// action = setting edgeTo\n",
    "edgeTo[1]\n",
    "// we set edgeTo before DFS calls to\n",
    "// neighbors 2 and 4"
   ]
  },
  {
   "cell_type": "markdown",
   "metadata": {},
   "source": [
    "One valid DFS preorder for this graph: 012543678\n",
    "\n",
    "We could have done **DFS Postorder** as well, where the **action** is done **after** calling recursive DFS to neighbors"
   ]
  },
  {
   "cell_type": "code",
   "execution_count": null,
   "metadata": {},
   "outputs": [],
   "source": [
    "dfs(s):\n",
    "    mark(s)\n",
    "    for each unmarked neighbor n of s:\n",
    "        dfs(n)\n",
    "    print(s)"
   ]
  },
  {
   "cell_type": "markdown",
   "metadata": {},
   "source": [
    "For `dfs(0)`, result would be 347685210. This is the order of dfs returns. \n",
    "\n",
    "What about an equivalent of tree level order? In graph we have **BFS (breadth first search) order**, act in order of distance from `s`.\n",
    "* Similar to tree level order, our search is wide, not deep."
   ]
  },
  {
   "cell_type": "code",
   "execution_count": null,
   "metadata": {},
   "outputs": [],
   "source": [
    "Starts with 0, the source\n",
    "1 has distance 1 from the source\n",
    "2 and 4 have distance of 2 from the source\n",
    "3 and 5 have distance of 3 from the source\n",
    "6 and 8 have distance of 4 from the source\n",
    "and so on."
   ]
  },
  {
   "cell_type": "markdown",
   "metadata": {},
   "source": [
    "## Summary\n",
    "\n",
    "Graphs are a more general idea than a tree.\n",
    "* A tree is a graph where there are no cycles and every vertex is connected.\n",
    "* Key graph terms: directed, undirected, cyclic, acyclic, path, cycle\n",
    "\n",
    "Graph problems vary widely in difficulty.\n",
    "* Common tool for solving almost all graph problems is traversal\n",
    "\n",
    "##### Traversal\n",
    "A traversal is an order in which we visit/act on vertices.\n",
    "* Types of tree traversals:\n",
    "    * Preorder, inorder, postorder, level order\n",
    "* Types of graph traversals:\n",
    "    * DFS preorder, DFS postorder, BFS\n",
    "    \n",
    "By performing actions / setting instance variables during a graph (or tree) traversal, we can solve problems like **s-t connectivity** or path finding.\n",
    "    "
   ]
  },
  {
   "cell_type": "code",
   "execution_count": null,
   "metadata": {},
   "outputs": [],
   "source": []
  }
 ],
 "metadata": {
  "kernelspec": {
   "display_name": "Python 3",
   "language": "python",
   "name": "python3"
  },
  "language_info": {
   "codemirror_mode": {
    "name": "ipython",
    "version": 3
   },
   "file_extension": ".py",
   "mimetype": "text/x-python",
   "name": "python",
   "nbconvert_exporter": "python",
   "pygments_lexer": "ipython3",
   "version": "3.7.4"
  }
 },
 "nbformat": 4,
 "nbformat_minor": 4
}
