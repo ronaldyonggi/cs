{
 "cells": [
  {
   "cell_type": "markdown",
   "metadata": {},
   "source": [
    "# Tree and Traversals"
   ]
  },
  {
   "cell_type": "markdown",
   "metadata": {},
   "source": [
    "## Review of Trees\n",
    "\n",
    "A tree consists of:\n",
    "* A set of nodes\n",
    "* A set of edges (lines) that connect those nodes\n",
    "    * Constraint: There's exactly one path between any 2 nodes\n",
    "\n",
    "![](images/not.png)"
   ]
  },
  {
   "cell_type": "markdown",
   "metadata": {},
   "source": [
    "## Review of Rooted Trees\n",
    "\n",
    "A rooted tree is a tree where we've chosen one node as the root.\n",
    "* Every node `N` except the root has exactly one parent, defined as the first node on the path from `N` to the root.\n",
    "* A node with no child is called a **leaf**\n",
    "\n",
    "![](images/root.png)\n"
   ]
  },
  {
   "cell_type": "markdown",
   "metadata": {},
   "source": [
    "## Trees\n",
    "\n",
    "We've seen trees as nodes in various data structure implementations: Search Trees, Tries, Heaps, Disjoint Sets, etc.\n",
    "\n",
    "![](images/implement.png)\n",
    "\n",
    "Trees are actually ideas of more general concept. Some examples:\n",
    "* Organization charts\n",
    "* Family lineages\n",
    "* Training manual"
   ]
  },
  {
   "cell_type": "markdown",
   "metadata": {},
   "source": [
    "## Example: File System Tree\n",
    "\n",
    "Sometimes we want to iterate over a tree. For example, suppose we want to find the total size of all files in a folder called `61b`\n",
    "\n",
    "![](images/61b.png)\n",
    "\n",
    "* What we call \"tree iteration\" is actually \"tree traversal\"\n",
    "* Unlike lists, there are many orders in which we might **visit** the nodes\n",
    "    * Each ordering is useful in different ways"
   ]
  },
  {
   "cell_type": "markdown",
   "metadata": {},
   "source": [
    "## Tree Traversal Orderings\n",
    "\n",
    "![](images/dbf.png)\n",
    "\n",
    "Level Order\n",
    "* Visit top-to-bottom, left-to-right (like reading in English): DBFACEG\n",
    "\n",
    "Depth First Traversals\n",
    "* 3 types: Preorder, Inorder, Postorder\n",
    "* Basic (rough) idea: Traverse \"deep nodes\" (e.g. A) before shallow ones (e.g. F)\n",
    "* Note: Traversing a node is different than \"visiting\" a node."
   ]
  },
  {
   "cell_type": "markdown",
   "metadata": {},
   "source": [
    "## Depth First Traversals"
   ]
  },
  {
   "cell_type": "code",
   "execution_count": null,
   "metadata": {},
   "outputs": [],
   "source": [
    "preOrder(BSTNode x) {\n",
    "    if (x == null) return;\n",
    "    print(x.key)\n",
    "    preOrder(x.left)\n",
    "    preOrder(x.right)\n",
    "}\n",
    "\n",
    "inOrder(BSTNode x) {\n",
    "    if (x == null) return;\n",
    "    inOrder(x.left)\n",
    "    print(x.key)\n",
    "    inOrder(x.right)\n",
    "}\n",
    "\n",
    "postOrder(BSTNode x) {\n",
    "    if (x == null) return;\n",
    "    postOrder(x.left)\n",
    "    postOrder(x.right)\n",
    "    print(x.key)\n",
    "}"
   ]
  },
  {
   "cell_type": "markdown",
   "metadata": {},
   "source": [
    "* Preorder traversal:\n",
    "    * \"Visit\" a node, then traverse its children: DBACFEG\n",
    "* Inorder traversal:\n",
    "    * Traverse left child, visit, traverse right child: ABCDEFG\n",
    "* Postorder traversal:\n",
    "    * Traverse left, traverse child, then visit: ACBEGFD\n",
    "    * Before we print out D, finish its left and right child\n",
    "    * Also applies to the children"
   ]
  },
  {
   "cell_type": "markdown",
   "metadata": {},
   "source": [
    "## A Useful Visual Trick (for Humans, Not Algorithms)\n",
    "\n",
    "![](images/visual.png)\n",
    "\n",
    "* Preorder traversal: \n",
    "    * Trace a path around the graph, from the top going counter-clockwise\n",
    "    * \"Visit\" every time we pass the LEFT of a node\n",
    "    * 1 2 4 5 7 8 3 6 9\n",
    "* Inorder traversal:\n",
    "    * \"Visit\" when we pass under a node\n",
    "    * 4 2 7 5 8 1 3 6 9\n",
    "* Postorder traversal:\n",
    "    * \"visit\" when we cross the right side of node\n",
    "    * 4 7 8 5 2 9 6 3 1"
   ]
  },
  {
   "cell_type": "markdown",
   "metadata": {},
   "source": [
    "## What Good Are All These Traversals?\n",
    "\n",
    "Example: Preorder Traversal for printing directory listing\n",
    "\n",
    "![](images/print.png)\n",
    "\n",
    "Example: Postorder Traversal for Gathering files sizes"
   ]
  },
  {
   "cell_type": "code",
   "execution_count": null,
   "metadata": {},
   "outputs": [],
   "source": [
    "postOrder(BSTNode x) {\n",
    "    if (x == null) return 0;\n",
    "    int total = 0;\n",
    "    for (BSTNode c : x.children()) {\n",
    "        total += postOrder(c)\n",
    "    }\n",
    "    total += x.fileSize();\n",
    "    return total;\n",
    "}"
   ]
  },
  {
   "cell_type": "markdown",
   "metadata": {},
   "source": [
    "![](images/size.png)\n",
    "\n",
    "How this works:\n",
    "\n",
    "1. Go to `directIO` folder, try to find the size of the folder by summing up its children (18381 + 8798)\n",
    "2. Once we're done, we go back up to `directOverlay` directory. We sum up all its children (27179 + 38912 + 881)\n",
    "3. Now we go back to the root, `sc2APM`, but don't have the size for `python` yet! Traverse through `python` folder first until we find the file size (874), then we can calculate the size associated with `sc2APM`."
   ]
  },
  {
   "cell_type": "code",
   "execution_count": null,
   "metadata": {},
   "outputs": [],
   "source": []
  }
 ],
 "metadata": {
  "kernelspec": {
   "display_name": "Python 3",
   "language": "python",
   "name": "python3"
  },
  "language_info": {
   "codemirror_mode": {
    "name": "ipython",
    "version": 3
   },
   "file_extension": ".py",
   "mimetype": "text/x-python",
   "name": "python",
   "nbconvert_exporter": "python",
   "pygments_lexer": "ipython3",
   "version": "3.7.4"
  }
 },
 "nbformat": 4,
 "nbformat_minor": 4
}
