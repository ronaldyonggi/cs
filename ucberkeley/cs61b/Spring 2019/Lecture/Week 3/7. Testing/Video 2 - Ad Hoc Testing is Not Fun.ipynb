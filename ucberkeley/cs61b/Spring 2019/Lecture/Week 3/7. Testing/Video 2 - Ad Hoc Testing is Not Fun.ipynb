{
 "cells": [
  {
   "cell_type": "markdown",
   "metadata": {},
   "source": [
    "# Ad Hoc Testing vs. JUnit"
   ]
  },
  {
   "cell_type": "markdown",
   "metadata": {},
   "source": [
    "We have the `sort` class,"
   ]
  },
  {
   "cell_type": "code",
   "execution_count": 2,
   "metadata": {},
   "outputs": [
    {
     "ename": "CompilationException",
     "evalue": "",
     "output_type": "error",
     "traceback": [
      "\u001b[1m\u001b[30m|   \u001b[1m\u001b[30m    \u001b[0m\u001b[1m\u001b[30m\u001b[41mpublic static void sort(String[] x);\u001b[0m\u001b[1m\u001b[30m\u001b[0m",
      "\u001b[1m\u001b[31mmissing method body, or declare abstract\u001b[0m",
      ""
     ]
    }
   ],
   "source": [
    "public class Sort {\n",
    "    /** Sorts strings destructively */\n",
    "    public static void sort(String[] x);\n",
    "}"
   ]
  },
  {
   "cell_type": "markdown",
   "metadata": {},
   "source": [
    "And the `testSort` class,"
   ]
  },
  {
   "cell_type": "code",
   "execution_count": 6,
   "metadata": {},
   "outputs": [
    {
     "ename": "CompilationException",
     "evalue": "",
     "output_type": "error",
     "traceback": [
      "\u001b[1m\u001b[30m|   \u001b[1m\u001b[30m    \u001b[0m\u001b[1m\u001b[30m\u001b[41m\u001b[0m\u001b[1m\u001b[30mtestSort();\u001b[0m",
      "\u001b[1m\u001b[31minvalid method declaration; return type required\u001b[0m",
      ""
     ]
    }
   ],
   "source": [
    "/** Tests the Sort class */\n",
    "public class TestSort {\n",
    "    /** Test the Sort.sort method */\n",
    "    public static void testSort() {\n",
    "        String[] input = {\"i\", \"have\", \"an\", \"egg\"};\n",
    "        String[] expected = {\"an\", \"egg\", \"have\", \"i\"};\n",
    "        \n",
    "        Sort.sort(input);\n",
    "        \n",
    "        if (input != expected) {\n",
    "            System.out.println(\"Error! There seems to be a problem with Sort.sort\");\n",
    "        }\n",
    "    }\n",
    "    \n",
    "    public static void main(String[] args) {\n",
    "        testSort();\n",
    "    }\n",
    "}"
   ]
  },
  {
   "cell_type": "markdown",
   "metadata": {},
   "source": [
    "If we try to run the `testSort` class, we'll obtain an error message `\"Error! There seems to be a problem with Sort.sort\"`. This looks good so far since `sort` indeed doesn't do anything. \n",
    "\n",
    "There's actually a significant bug in `testSort`: we used the `!=` symbol as a comparison:"
   ]
  },
  {
   "cell_type": "code",
   "execution_count": null,
   "metadata": {},
   "outputs": [],
   "source": [
    "if (input != expected)"
   ]
  },
  {
   "cell_type": "markdown",
   "metadata": {},
   "source": [
    "This checks whether `input` and `expected` are pointing on the same object (have the same address). In this case, even if the `input` have exactly the same contents as `expected`,"
   ]
  },
  {
   "cell_type": "code",
   "execution_count": null,
   "metadata": {},
   "outputs": [],
   "source": [
    "String[] input = {\"an\", \"egg\", \"have\", \"i\"};\n",
    "String[] expected = {\"an\", \"egg\", \"have\", \"i\"};"
   ]
  },
  {
   "cell_type": "markdown",
   "metadata": {},
   "source": [
    "...the inequality `!=` will still come out as `True` since they are separate objects. \n",
    "\n",
    "Instead of using `!=`, we can use `java.utils.Arrays.equals()` method,"
   ]
  },
  {
   "cell_type": "code",
   "execution_count": null,
   "metadata": {},
   "outputs": [],
   "source": [
    "if (!java.util.Arrays.equal(input, expected)){\n",
    "    System.out...\n",
    "}"
   ]
  },
  {
   "cell_type": "markdown",
   "metadata": {},
   "source": [
    "Another thing to notice is that the error message isn't very descriptive since it doesn't give us much information. We can make the error message more specific. For example, we can add:"
   ]
  },
  {
   "cell_type": "code",
   "execution_count": null,
   "metadata": {},
   "outputs": [],
   "source": [
    "for (int i = 0; i < input.length; i++){\n",
    "    if (!input[i].equals(expected[i])) { // If one of the elements have mismatch after the sorting\n",
    "        System.out.println(\"Mismatch in position \" + i + \", expected: \" + expected[i] + \", but got: \" + input[i]);\n",
    "    }\n",
    "}"
   ]
  },
  {
   "cell_type": "markdown",
   "metadata": {},
   "source": [
    "Now we have the following,"
   ]
  },
  {
   "cell_type": "code",
   "execution_count": 7,
   "metadata": {},
   "outputs": [],
   "source": [
    "/** Tests the Sort class */\n",
    "public class TestSort {\n",
    "    /** Test the Sort.sort method */\n",
    "    public static void testSort() {\n",
    "        String[] input = {\"i\", \"have\", \"an\", \"egg\"};\n",
    "        String[] expected = {\"an\", \"egg\", \"have\", \"i\"};\n",
    "        \n",
    "        Sort.sort(input);\n",
    "        \n",
    "        for (int i = 0; i < input.length; i++){\n",
    "            if (!input[i].equals(expected[i])) { // If one of the elements have mismatch after the sorting\n",
    "                System.out.println(\"Mismatch in position \" + i + \", expected: \" + expected[i] + \", but got: \" + input[i]);\n",
    "            }\n",
    "        }\n",
    "    }\n",
    "    \n",
    "    public static void main(String[] args) {\n",
    "        testSort();\n",
    "    }\n",
    "}"
   ]
  },
  {
   "cell_type": "markdown",
   "metadata": {},
   "source": [
    "If we run these code in IntelliJ, we'll get this message:"
   ]
  },
  {
   "cell_type": "code",
   "execution_count": null,
   "metadata": {},
   "outputs": [],
   "source": [
    "Mismatch in position 0, expected: an, but got: i\n",
    "Mismatch in position 1, expected: egg, but got: have\n",
    "Mismatch in position 2, expected: have, but got: an\n",
    "Mismatch in position 3, expected: i, but got: egg"
   ]
  },
  {
   "cell_type": "markdown",
   "metadata": {},
   "source": [
    "The point is that this method of testing, called Ad Hoc testing is tedious! "
   ]
  }
 ],
 "metadata": {
  "kernelspec": {
   "display_name": "Python 3",
   "language": "python",
   "name": "python3"
  },
  "language_info": {
   "codemirror_mode": {
    "name": "ipython",
    "version": 3
   },
   "file_extension": ".py",
   "mimetype": "text/x-python",
   "name": "python",
   "nbconvert_exporter": "python",
   "pygments_lexer": "ipython3",
   "version": "3.7.4"
  }
 },
 "nbformat": 4,
 "nbformat_minor": 4
}
