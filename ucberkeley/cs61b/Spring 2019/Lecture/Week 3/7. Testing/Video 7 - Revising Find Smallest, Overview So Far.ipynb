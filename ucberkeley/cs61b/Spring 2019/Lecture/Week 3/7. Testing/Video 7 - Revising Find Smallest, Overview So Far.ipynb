{
 "cells": [
  {
   "cell_type": "markdown",
   "metadata": {},
   "source": [
    "Now that we have the `swap` method and the `findSmallest` method, we have a problem: we can't incorporate the two because the `swap` method takes 2 integers, not 2 Strings!"
   ]
  },
  {
   "cell_type": "code",
   "execution_count": 1,
   "metadata": {},
   "outputs": [
    {
     "ename": "SyntaxError",
     "evalue": "invalid syntax (<ipython-input-1-70fe89f6bbf8>, line 1)",
     "output_type": "error",
     "traceback": [
      "\u001b[0;36m  File \u001b[0;32m\"<ipython-input-1-70fe89f6bbf8>\"\u001b[0;36m, line \u001b[0;32m1\u001b[0m\n\u001b[0;31m    public static void sort(String[] x) {}\u001b[0m\n\u001b[0m                ^\u001b[0m\n\u001b[0;31mSyntaxError\u001b[0m\u001b[0;31m:\u001b[0m invalid syntax\n"
     ]
    }
   ],
   "source": [
    "// Within the Sort class\n",
    "public static void sort(String[] x) {\n",
    "    String smallest = findSmallest(x);\n",
    "    swap(x, smallest, ...) // This will give us an error since the 2nd and 3rd argument should be integers!\n",
    "}"
   ]
  },
  {
   "cell_type": "markdown",
   "metadata": {},
   "source": [
    "One solution is to modify `findSmallest` to return the index of the smallest String rather than the String itself. If previously we have the following,"
   ]
  },
  {
   "cell_type": "code",
   "execution_count": null,
   "metadata": {},
   "outputs": [],
   "source": [
    "public static String findSmallest(String[] x) {\n",
    "    int smallestIndex = 0;\n",
    "    for (int i = 0; i < x.length; i+= 1) {\n",
    "        int comparison = x[i].compareTo(x[smallestIndex]); // if x[i] is less than x[smallestIndex], it will return a negative number\n",
    "        if (comparison < 0) {\n",
    "            smallestIndex = i;\n",
    "        }\n",
    "    }\n",
    "    return x[smallestIndex];\n",
    "}\n"
   ]
  },
  {
   "cell_type": "markdown",
   "metadata": {},
   "source": [
    "Now we modify it so that it returns an `int` that is `smallestIndex`."
   ]
  },
  {
   "cell_type": "code",
   "execution_count": null,
   "metadata": {},
   "outputs": [],
   "source": [
    "public static int findSmallest(String[] x) {\n",
    "    int smallestIndex = 0;\n",
    "    for (int i = 0; i < x.length; i+= 1) {\n",
    "        int comparison = x[i].compareTo(x[smallestIndex]); // if x[i] is less than x[smallestIndex], it will return a negative number\n",
    "        if (comparison < 0) {\n",
    "            smallestIndex = i;\n",
    "        }\n",
    "    }\n",
    "    return smallestIndex;\n",
    "}\n"
   ]
  },
  {
   "cell_type": "markdown",
   "metadata": {},
   "source": [
    "...and we need to modify the test as well! If previously the `expected` was a String, now we'll change it to `int`."
   ]
  },
  {
   "cell_type": "code",
   "execution_count": null,
   "metadata": {},
   "outputs": [],
   "source": [
    "public static void testFindSmallest() {\n",
    "    String[] input = {\"i\", \"have\", \"an\", \"egg\"};\n",
    "    int expected = 2;\n",
    "\n",
    "    int actual = Sort.findSmallest(input);\n",
    "    org.junit.Assert.assertEquals(expected, actual);\n",
    "\n",
    "    String[] input2 = {\"there\", \"are\", \"many\", \"pigs\"};\n",
    "    int expected2 = 1;\n",
    "\n",
    "    int actual2 = Sort.findSmallest(input2);\n",
    "    org.junit.Assert.assertEquals(expected2, actual2);\n",
    "}\n"
   ]
  },
  {
   "cell_type": "markdown",
   "metadata": {},
   "source": [
    "Let's go through what we've done so far!"
   ]
  },
  {
   "cell_type": "markdown",
   "metadata": {},
   "source": [
    "## The Evolution of Our Design"
   ]
  },
  {
   "cell_type": "markdown",
   "metadata": {},
   "source": [
    "![](images/design.png)"
   ]
  },
  {
   "cell_type": "markdown",
   "metadata": {},
   "source": [
    "Now that we have all the **helper methods** we need as well as tests that make us pretty sure that they work, all that's left is to write the `sort` method itself!"
   ]
  }
 ],
 "metadata": {
  "kernelspec": {
   "display_name": "Python 3",
   "language": "python",
   "name": "python3"
  },
  "language_info": {
   "codemirror_mode": {
    "name": "ipython",
    "version": 3
   },
   "file_extension": ".py",
   "mimetype": "text/x-python",
   "name": "python",
   "nbconvert_exporter": "python",
   "pygments_lexer": "ipython3",
   "version": "3.7.3"
  }
 },
 "nbformat": 4,
 "nbformat_minor": 4
}
