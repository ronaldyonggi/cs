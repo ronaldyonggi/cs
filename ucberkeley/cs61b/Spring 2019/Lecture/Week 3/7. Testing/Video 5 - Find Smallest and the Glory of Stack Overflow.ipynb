{
 "cells": [
  {
   "cell_type": "markdown",
   "metadata": {},
   "source": [
    "Start with the first step: find the smallest item!\n",
    "\n",
    "Before we write anything, to abide with the philosophy of this lecture, we write the test first!"
   ]
  },
  {
   "cell_type": "code",
   "execution_count": null,
   "metadata": {},
   "outputs": [],
   "source": [
    "//This should be placed inside the TestSort class\n",
    "\n",
    "public static void testFindSmallest() {\n",
    "    String[] input = {\"i\", \"have\", \"an\", \"egg\"};\n",
    "    String expected = \"an\";\n",
    "\n",
    "    String actual = Sort.findSmallest(input);\n",
    "    org.junit.Assert.assertEquals(expected, actual);\n",
    "}\n"
   ]
  },
  {
   "cell_type": "markdown",
   "metadata": {},
   "source": [
    "Then write the `findSmallest` method in `Sort.java`! For testing purpose, the method doesn't have to be correct."
   ]
  },
  {
   "cell_type": "code",
   "execution_count": null,
   "metadata": {},
   "outputs": [],
   "source": [
    "public class Sort {\n",
    "    /** Sorts strings destructively */\n",
    "    public static void sort(String[] x){\n",
    "\n",
    "    }\n",
    "\n",
    "    private static String findSmallest(String[] x) {\n",
    "        return null\n",
    "    }\n",
    "}"
   ]
  },
  {
   "cell_type": "markdown",
   "metadata": {},
   "source": [
    "Since we're testing the `findSmallest` method, change the content of the main method within `TestSort.java` to run `testFindSmallest` instead!"
   ]
  },
  {
   "cell_type": "code",
   "execution_count": null,
   "metadata": {},
   "outputs": [],
   "source": [
    "// Inside the TestSort.java file\n",
    "\n",
    "public static void main(String[] args) {\n",
    "//        testSort();\n",
    "    testFindSmallest();\n",
    "}\n"
   ]
  },
  {
   "cell_type": "markdown",
   "metadata": {},
   "source": [
    "When we run the test, we'll get an error saying that the `findSmallest` is set to `private`! This happened because the `findSmallest` method is being used by an outside source: the test file! For the sake of the lecture, the quick solution is to set `findSmallest` as `public` rather than `private`."
   ]
  },
  {
   "cell_type": "code",
   "execution_count": null,
   "metadata": {},
   "outputs": [],
   "source": [
    "// Inside the Sort.java file\n",
    "\n",
    "public static String findSmallest(String[] x) {\n",
    "        return null;\n",
    "    }"
   ]
  },
  {
   "cell_type": "markdown",
   "metadata": {},
   "source": [
    "Now let's test it again!"
   ]
  },
  {
   "cell_type": "code",
   "execution_count": null,
   "metadata": {},
   "outputs": [],
   "source": [
    "Exception in thread \"main\" arrays first differed at element [0]; expected:<[an]> but was:<[i]>\n",
    "\tat org.junit.internal.ComparisonCriteria.arrayEquals(ComparisonCriteria.java:55)\n",
    "\tat org.junit.Assert.internalArrayEquals(Assert.java:532)\n",
    "\tat org.junit.Assert.assertArrayEquals(Assert.java:283)\n",
    "\tat org.junit.Assert.assertArrayEquals(Assert.java:298)\n",
    "\tat TestSort.testSort(TestSort.java:10)\n",
    "\tat TestSort.main(TestSort.java:22)\n",
    "Caused by: org.junit.ComparisonFailure: expected:<[an]> but was:<[i]>\n",
    "\tat org.junit.Assert.assertEquals(Assert.java:115)\n",
    "\tat org.junit.Assert.assertEquals(Assert.java:144)\n",
    "\tat org.junit.internal.ExactComparisonCriteria.assertElementsEqual(ExactComparisonCriteria.java:8)\n",
    "\tat org.junit.internal.ComparisonCriteria.arrayEquals(ComparisonCriteria.java:53)\n",
    "\t... 5 more"
   ]
  },
  {
   "cell_type": "markdown",
   "metadata": {},
   "source": [
    "The test works! Now let's actually implement the correct `findSmallest!` We might think of the following implementation,"
   ]
  },
  {
   "cell_type": "code",
   "execution_count": null,
   "metadata": {},
   "outputs": [],
   "source": [
    "public static String findSmallest(String[] x) {\n",
    "    int smallestIndex = 0;\n",
    "    for (int i = 0; i < x.length; i++) {\n",
    "        if (x[i] < x[smallestIndex]) {\n",
    "            smallestIndex = i;\n",
    "        }\n",
    "    }\n",
    "    return x[smallestIndex];\n",
    "}\n"
   ]
  },
  {
   "cell_type": "markdown",
   "metadata": {},
   "source": [
    "However if we run this, we'll get an error saying \"bad operands types for binary operator '<'\". We can't use the comparison `<` operator to compare strings! \n",
    "\n",
    "How do we solve this? Look it up in Google and look up how to compare strings with \"less than\"! In this case we're going to use a solution that is found from [Stack Overflow](https://stackoverflow.com/questions/5153496/how-can-i-compare-two-strings-in-java-and-define-which-of-them-is-smaller-than-t): using `compareTo`"
   ]
  },
  {
   "cell_type": "code",
   "execution_count": null,
   "metadata": {},
   "outputs": [],
   "source": [
    "public static String findSmallest(String[] x) {\n",
    "    int smallestIndex = 0;\n",
    "    for (int i = 0; i < x.length; i+= 1) {\n",
    "        int comparison = x[i].compareTo(x[smallestIndex]); // if x[i] is less than x[smallestIndex], it will return a negative number\n",
    "        if (comparison < 0) {\n",
    "            smallestIndex = i;\n",
    "        }\n",
    "    }\n",
    "    return x[smallestIndex];\n",
    "}\n"
   ]
  },
  {
   "cell_type": "code",
   "execution_count": null,
   "metadata": {},
   "outputs": [],
   "source": [
    "Process finished with exit code 0"
   ]
  },
  {
   "cell_type": "markdown",
   "metadata": {},
   "source": [
    "If we run the test, the output should be as contained in the cell above!\n",
    "\n",
    "Now if the test is passed, we can create another test just to increase our confidence that the code is really working."
   ]
  },
  {
   "cell_type": "code",
   "execution_count": null,
   "metadata": {},
   "outputs": [],
   "source": [
    "public static void testFindSmallest() {\n",
    "    String[] input = {\"i\", \"have\", \"an\", \"egg\"};\n",
    "    String expected = \"an\";\n",
    "\n",
    "    String actual = Sort.findSmallest(input);\n",
    "    org.junit.Assert.assertEquals(expected, actual);\n",
    "\n",
    "    String[] input2 = {\"there\", \"are\", \"many\", \"pigs\"};\n",
    "    String expected2 = \"are\";\n",
    "\n",
    "    String actual2 = Sort.findSmallest(input2);\n",
    "    org.junit.Assert.assertEquals(expected2, actual2);\n",
    "}\n"
   ]
  }
 ],
 "metadata": {
  "kernelspec": {
   "display_name": "Python 3",
   "language": "python",
   "name": "python3"
  },
  "language_info": {
   "codemirror_mode": {
    "name": "ipython",
    "version": 3
   },
   "file_extension": ".py",
   "mimetype": "text/x-python",
   "name": "python",
   "nbconvert_exporter": "python",
   "pygments_lexer": "ipython3",
   "version": "3.7.5"
  }
 },
 "nbformat": 4,
 "nbformat_minor": 4
}
