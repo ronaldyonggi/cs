{
 "cells": [
  {
   "cell_type": "markdown",
   "metadata": {},
   "source": [
    "## Static Type vs. Dynamic Type"
   ]
  },
  {
   "cell_type": "markdown",
   "metadata": {},
   "source": [
    "Every variable in Java has a \"compile-time type\", a.k.a. \"static type\"\n",
    "* This is the type specified at `declaration`\n",
    "* This never changes\n",
    "\n",
    "But variables also have a \"run-time type\" a.k.a. \"dynamic type\"\n",
    "* This is the type specified at **instantiation** (e.g. when using `new` keyword)\n",
    "* This is equal to the type of the object that its pointing.\n",
    "\n",
    "For example, we have the following,"
   ]
  },
  {
   "cell_type": "code",
   "execution_count": null,
   "metadata": {},
   "outputs": [],
   "source": [
    "public static void main(String[] args) {\n",
    "    LivingThing lt1;\n",
    "    lt1 = new Fox();\n",
    "    Animal a1 = lt1;\n",
    "    Fox h1 = a1;\n",
    "    lt1 = new Squid();\n",
    "}"
   ]
  },
  {
   "cell_type": "markdown",
   "metadata": {},
   "source": [
    "When we first declared `lt1`,"
   ]
  },
  {
   "cell_type": "code",
   "execution_count": null,
   "metadata": {},
   "outputs": [],
   "source": [
    "LivingThing lt1;"
   ]
  },
  {
   "cell_type": "markdown",
   "metadata": {},
   "source": [
    "...the variable `lt1` has a Static Type `LivingThing`. It doesn't have a dynamic type since we haven't assigned anything to this `lt1` variable.\n",
    "\n",
    "![](images/null.png)"
   ]
  },
  {
   "cell_type": "markdown",
   "metadata": {},
   "source": [
    "...then when we instantiate a new `Fox()` instance and assign it to `lt1`,"
   ]
  },
  {
   "cell_type": "code",
   "execution_count": null,
   "metadata": {},
   "outputs": [],
   "source": [
    "lt1 = new Fox();"
   ]
  },
  {
   "cell_type": "markdown",
   "metadata": {},
   "source": [
    "`lt1` is now pointing at this new `Fox` instance, and its dynamic type is now `Fox`.\n",
    "\n",
    "![](images/fox.png)"
   ]
  },
  {
   "cell_type": "markdown",
   "metadata": {},
   "source": [
    "Now we declare another variable of type `Animal` called `a1` and we set it so that it refers to the same object as where `lt1` is pointing at."
   ]
  },
  {
   "cell_type": "code",
   "execution_count": null,
   "metadata": {},
   "outputs": [],
   "source": [
    "Animal a1 = lt1;"
   ]
  },
  {
   "cell_type": "markdown",
   "metadata": {},
   "source": [
    "![](images/animal.png)"
   ]
  },
  {
   "cell_type": "markdown",
   "metadata": {},
   "source": [
    "And we declare even another variable of type `Fox` called `h1` and we set it so that it's pointing at the same object `a1` is pointing at."
   ]
  },
  {
   "cell_type": "code",
   "execution_count": null,
   "metadata": {},
   "outputs": [],
   "source": [
    "Fox h1 = a1;"
   ]
  },
  {
   "cell_type": "markdown",
   "metadata": {},
   "source": [
    "![](images/foxpoint.png)"
   ]
  },
  {
   "cell_type": "markdown",
   "metadata": {},
   "source": [
    "Finally, we create a new instance of `Squid` and set `lt1` to point at it. "
   ]
  },
  {
   "cell_type": "code",
   "execution_count": null,
   "metadata": {},
   "outputs": [],
   "source": [
    "lt1 = new Squid();"
   ]
  },
  {
   "cell_type": "markdown",
   "metadata": {},
   "source": [
    "![](images/squid.png)"
   ]
  },
  {
   "cell_type": "markdown",
   "metadata": {},
   "source": [
    "## Dynamic Method Selection For Overridden Methods"
   ]
  },
  {
   "cell_type": "markdown",
   "metadata": {},
   "source": [
    "Suppose we call a method of an object using a variable with:\n",
    "* compile-time type `X`\n",
    "* run-time type `Y`\n",
    "\n",
    "If `Y` overrides the method, `Y`'s method is used instead. This is known as `dynamic method selection`.\n",
    "\n",
    "Thus in the case of `List61B` of `SLList`,"
   ]
  },
  {
   "cell_type": "code",
   "execution_count": null,
   "metadata": {},
   "outputs": [],
   "source": [
    "public static void main(String[] args) {\n",
    "    List61B<String> someList = new SLList<String>();\n",
    "    someList.insertFront(\"elk\");\n",
    "    someList.insertFront(\"are\");\n",
    "    someList.insertFront(\"watching\");\n",
    "    someList.print();\n",
    "}"
   ]
  },
  {
   "cell_type": "markdown",
   "metadata": {},
   "source": [
    "...`someList` has a Static type of `List61B`, but a dynamic type of `SLList`.\n",
    "\n",
    "![](images/dynamic.png)"
   ]
  },
  {
   "cell_type": "code",
   "execution_count": null,
   "metadata": {},
   "outputs": [],
   "source": []
  }
 ],
 "metadata": {
  "kernelspec": {
   "display_name": "Python 3",
   "language": "python",
   "name": "python3"
  },
  "language_info": {
   "codemirror_mode": {
    "name": "ipython",
    "version": 3
   },
   "file_extension": ".py",
   "mimetype": "text/x-python",
   "name": "python",
   "nbconvert_exporter": "python",
   "pygments_lexer": "ipython3",
   "version": "3.7.5"
  }
 },
 "nbformat": 4,
 "nbformat_minor": 4
}
