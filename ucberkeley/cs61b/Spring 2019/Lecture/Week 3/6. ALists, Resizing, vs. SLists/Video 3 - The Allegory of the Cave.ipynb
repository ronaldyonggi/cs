{
 "cells": [
  {
   "cell_type": "markdown",
   "metadata": {},
   "source": [
    "# The Abstract vs. The Concrete"
   ]
  },
  {
   "cell_type": "markdown",
   "metadata": {},
   "source": [
    "When we do `removeLast()`, which memory boxes need to change? To what?\n",
    "\n",
    "User's mental model (what the user is thinking about):"
   ]
  },
  {
   "cell_type": "code",
   "execution_count": null,
   "metadata": {},
   "outputs": [],
   "source": [
    "{5, 3, 1, 7, 22, -1} -> {5, 3, 1, 7, 22}"
   ]
  },
  {
   "cell_type": "markdown",
   "metadata": {},
   "source": [
    "Our job as the programmer / implementer of this abstract data type of the list is to make sure the list behaves as users desire.\n",
    "\n",
    "The truth of the design looks like the following,\n",
    "\n",
    "![](images/truth.png)"
   ]
  },
  {
   "cell_type": "markdown",
   "metadata": {},
   "source": [
    "As the implementer, our goal is to manipulate this reality to match the user's abstract mental model. \n",
    "\n",
    "This concept is pretty similar to Plato's Allegory of the Cave."
   ]
  },
  {
   "cell_type": "markdown",
   "metadata": {},
   "source": [
    "## Deletion Quiz"
   ]
  },
  {
   "cell_type": "markdown",
   "metadata": {},
   "source": [
    "When we do `removeLast()`, which memory boxes need to change? To what?\n",
    "\n",
    "![](images/deletion.png)\n",
    "\n",
    "Hint: The invariants that we wrote earlier help. "
   ]
  },
  {
   "cell_type": "code",
   "execution_count": null,
   "metadata": {},
   "outputs": [],
   "source": []
  }
 ],
 "metadata": {
  "kernelspec": {
   "display_name": "Python 3",
   "language": "python",
   "name": "python3"
  },
  "language_info": {
   "codemirror_mode": {
    "name": "ipython",
    "version": 3
   },
   "file_extension": ".py",
   "mimetype": "text/x-python",
   "name": "python",
   "nbconvert_exporter": "python",
   "pygments_lexer": "ipython3",
   "version": "3.7.5"
  }
 },
 "nbformat": 4,
 "nbformat_minor": 4
}
