{
 "cells": [
  {
   "cell_type": "markdown",
   "metadata": {},
   "source": [
    "# Previous Lecture: Recursive Implementation of a List "
   ]
  },
  {
   "cell_type": "markdown",
   "metadata": {},
   "source": [
    "In the previous lecture, we implemented a recursive implementation of `IntList`."
   ]
  },
  {
   "cell_type": "code",
   "execution_count": null,
   "metadata": {},
   "outputs": [],
   "source": [
    "public class IntList {\n",
    "    public int first;\n",
    "    public IntList rest;\n",
    "    \n",
    "    public IntList (int f, IntList r) {\n",
    "        first = f;\n",
    "        rest = r;\n",
    "    }\n",
    "}"
   ]
  },
  {
   "cell_type": "markdown",
   "metadata": {},
   "source": [
    "While functional, `naked` linked list like above are hard to use. Programmers that use this `naked` data structure need to understand references (pointers) and need to be able to think recursively.\n",
    "\n",
    "Instead, let's improve the data structure implementation and see if we can make it easier to understand!"
   ]
  },
  {
   "cell_type": "markdown",
   "metadata": {},
   "source": [
    "## Improvement #1: Rebranding and Culling"
   ]
  },
  {
   "cell_type": "markdown",
   "metadata": {},
   "source": [
    "Instead of `IntList`, change it to `IntNode`."
   ]
  },
  {
   "cell_type": "code",
   "execution_count": null,
   "metadata": {},
   "outputs": [],
   "source": [
    "public class IntNode{\n",
    "    public int item; //Rename first to item\n",
    "    public IntNode next; //Rename rest to next\n",
    "    \n",
    "    public IntNode(int i, IntNode n) {\n",
    "        item = i;\n",
    "        next = n;\n",
    "    }\n",
    "}"
   ]
  },
  {
   "cell_type": "markdown",
   "metadata": {},
   "source": [
    "Above, `IntNode` is currently a dumb class since it has no methods. Eventually we'll bring back the functionalities!\n",
    "\n",
    "It might seem that there aren't that much improvement, we are just renaming variables. However, it'll become more interesting!"
   ]
  }
 ],
 "metadata": {
  "kernelspec": {
   "display_name": "Python 3",
   "language": "python",
   "name": "python3"
  },
  "language_info": {
   "codemirror_mode": {
    "name": "ipython",
    "version": 3
   },
   "file_extension": ".py",
   "mimetype": "text/x-python",
   "name": "python",
   "nbconvert_exporter": "python",
   "pygments_lexer": "ipython3",
   "version": "3.7.5"
  }
 },
 "nbformat": 4,
 "nbformat_minor": 4
}
