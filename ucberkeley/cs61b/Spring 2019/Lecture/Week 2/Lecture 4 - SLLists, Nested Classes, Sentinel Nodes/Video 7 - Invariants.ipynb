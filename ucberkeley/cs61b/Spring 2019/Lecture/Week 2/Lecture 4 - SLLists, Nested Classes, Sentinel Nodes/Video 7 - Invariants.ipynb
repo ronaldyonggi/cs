{
 "cells": [
  {
   "cell_type": "markdown",
   "metadata": {},
   "source": [
    "## Invariants"
   ]
  },
  {
   "cell_type": "markdown",
   "metadata": {},
   "source": [
    "An invariant is a condition that is guaranteed to be true during code execution (assuming that there are no bugs in the code).\n",
    "\n",
    "An `SLList` with a sentinel node has at least the following invariants:\n",
    "1. The `sentinel` reference always points to a `sentinel` node\n",
    "2. The `first` node (if exists) is always at `sentinel.next`\n",
    "3. The `size` variable is always the total number of items that have been added\n",
    "\n",
    "Invariants make it easier to reason about code:\n",
    "1. Can assume they are true to simplify code\n",
    "    * e.g. `addLast` doesn't need to worry about `null`s\n",
    "2. Must ensure that methods preserve invariants"
   ]
  }
 ],
 "metadata": {
  "kernelspec": {
   "display_name": "Python 3",
   "language": "python",
   "name": "python3"
  },
  "language_info": {
   "codemirror_mode": {
    "name": "ipython",
    "version": 3
   },
   "file_extension": ".py",
   "mimetype": "text/x-python",
   "name": "python",
   "nbconvert_exporter": "python",
   "pygments_lexer": "ipython3",
   "version": "3.7.5"
  }
 },
 "nbformat": 4,
 "nbformat_minor": 4
}
