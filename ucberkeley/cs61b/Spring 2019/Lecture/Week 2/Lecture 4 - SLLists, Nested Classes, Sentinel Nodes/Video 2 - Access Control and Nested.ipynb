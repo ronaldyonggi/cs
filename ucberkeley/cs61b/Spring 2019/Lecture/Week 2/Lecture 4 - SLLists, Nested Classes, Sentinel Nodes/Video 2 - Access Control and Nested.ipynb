{
 "cells": [
  {
   "cell_type": "code",
   "execution_count": 1,
   "metadata": {},
   "outputs": [],
   "source": [
    "public class IntNode{\n",
    "    public int item; //Rename first to item\n",
    "    public IntNode next; //Rename rest to next\n",
    "    \n",
    "    public IntNode(int i, IntNode n) {\n",
    "        item = i;\n",
    "        next = n;\n",
    "    }\n",
    "}"
   ]
  },
  {
   "cell_type": "markdown",
   "metadata": {},
   "source": [
    "# The `SLList` So Far"
   ]
  },
  {
   "cell_type": "code",
   "execution_count": null,
   "metadata": {},
   "outputs": [],
   "source": [
    "public class SLList {\n",
    "    public IntNode first;\n",
    "    \n",
    "    public SLList(int x) {\n",
    "        first = new IntNode(x, null);\n",
    "    }\n",
    "    \n",
    "    public void addFirst(int x) {\n",
    "        first = new IntNode(x, first);\n",
    "    }\n",
    "    \n",
    "    ...\n",
    "}"
   ]
  },
  {
   "cell_type": "markdown",
   "metadata": {},
   "source": [
    "Using an `SLList` is quite simple: just use the methods that are provided by the class.\n",
    "* If we want to add an element, just use `addFirst`\n",
    "* If we want to get the first element, just use `getFirst`\n",
    "\n",
    "![](images/sofar.png)"
   ]
  },
  {
   "cell_type": "code",
   "execution_count": null,
   "metadata": {},
   "outputs": [],
   "source": [
    "// Create an SLList\n",
    "SLList L = new SLList(15);\n",
    "L.addFirst(10);"
   ]
  },
  {
   "cell_type": "markdown",
   "metadata": {},
   "source": [
    "## A Potential SLList Danger"
   ]
  },
  {
   "cell_type": "markdown",
   "metadata": {},
   "source": [
    "However, with how the Java syntax work, there are always potential danger. \n",
    "\n",
    "For example, instead of using the provided methods, a user might try to break into the secret `IntNode` implementation directly such as the following,"
   ]
  },
  {
   "cell_type": "code",
   "execution_count": null,
   "metadata": {},
   "outputs": [],
   "source": [
    "L.first.next.next = L.first.next;"
   ]
  },
  {
   "cell_type": "markdown",
   "metadata": {},
   "source": [
    "The result of running the code above is that the last `next` will point at the last `first`, which ruins the list!\n",
    "\n",
    "![](images/back.png)"
   ]
  },
  {
   "cell_type": "markdown",
   "metadata": {},
   "source": [
    "## Access Control"
   ]
  },
  {
   "cell_type": "markdown",
   "metadata": {},
   "source": [
    "How do we prevent this potential danger to happen?\n",
    "\n",
    "We can leave a note or comment saying \"PLEASE DON'T MESS WITH `first`\", but this is easily overlooked. Fortunately, Java has the `Access Control` feature.\n",
    "\n",
    "Instead declaring a member of the class `public`,"
   ]
  },
  {
   "cell_type": "code",
   "execution_count": null,
   "metadata": {},
   "outputs": [],
   "source": [
    "public class SLList {\n",
    "    public IntNode first;\n",
    "    \n",
    "    ...\n",
    "}"
   ]
  },
  {
   "cell_type": "markdown",
   "metadata": {},
   "source": [
    "We can declare it `private` to prevent code in other classes from using members (e.g. variables, constructors) of a class. The `private` keyword is saying that \"you can't use anything outside of the `SLList` class\"."
   ]
  },
  {
   "cell_type": "code",
   "execution_count": 2,
   "metadata": {},
   "outputs": [],
   "source": [
    "public class SLList {\n",
    "    private IntNode first; // PRIVATE instead of PUBLIC\n",
    "    \n",
    "    public SLList(int x) {\n",
    "        first = new IntNode(x, null);\n",
    "    }\n",
    "    \n",
    "    public void addFirst(int x) {\n",
    "        first = new IntNode(x, first);\n",
    "    }\n",
    "    \n",
    "}"
   ]
  },
  {
   "cell_type": "markdown",
   "metadata": {},
   "source": [
    "This time, we won't be able to mess with `.first`"
   ]
  },
  {
   "cell_type": "code",
   "execution_count": 3,
   "metadata": {},
   "outputs": [
    {
     "ename": "CompilationException",
     "evalue": "",
     "output_type": "error",
     "traceback": [
      "\u001b[1m\u001b[30m|   \u001b[1m\u001b[30m\u001b[0m\u001b[1m\u001b[30m\u001b[41mL.first\u001b[0m\u001b[1m\u001b[30m.next.next = L.first.next;\u001b[0m",
      "\u001b[1m\u001b[31mfirst has private access in SLList\u001b[0m",
      "",
      "\u001b[1m\u001b[30m|   \u001b[1m\u001b[30mL.first.next.next = \u001b[0m\u001b[1m\u001b[30m\u001b[41mL.first\u001b[0m\u001b[1m\u001b[30m.next;\u001b[0m",
      "\u001b[1m\u001b[31mfirst has private access in SLList\u001b[0m",
      ""
     ]
    }
   ],
   "source": [
    "SLList L = new SLList(15);\n",
    "L.addFirst(10);\n",
    "L.first.next.next = L.first.next;"
   ]
  },
  {
   "cell_type": "markdown",
   "metadata": {},
   "source": [
    "## Why Restrict Access?"
   ]
  },
  {
   "cell_type": "markdown",
   "metadata": {},
   "source": [
    "Hide implement details from users of the class\n",
    "* Less things for the user of the class to understand\n",
    "    * They don't need to understand what's under the hood\n",
    "* Safe to change private methods\n",
    "\n",
    "Think of a car as an analogy. In a car, we have the public parts and the private (inside, can't be seen from the outside) parts.\n",
    "* Public: pedals (gas, brake), steering wheel\n",
    "* Private: fuel line, rotary valve\n",
    "\n",
    "Despite the term `access control` (term that refer to `public` or `private`):\n",
    "* Nothing to do with protection against hackers, spies, and other malicious entities\n",
    "* It's simply a way to signal other programmers \"you should not use this\"\n",
    "\n",
    "If we make something `public` in Java\n",
    "* Basically announcing that the part that's made `public` will be available forever\n",
    "* It is expected that we'll never remove that part"
   ]
  },
  {
   "cell_type": "markdown",
   "metadata": {},
   "source": [
    "## Improvement #4: Nested Classes"
   ]
  },
  {
   "cell_type": "markdown",
   "metadata": {},
   "source": [
    "If we go back to the `IntNode` class,"
   ]
  },
  {
   "cell_type": "code",
   "execution_count": null,
   "metadata": {},
   "outputs": [],
   "source": [
    "public class IntNode {\n",
    "    public int item;\n",
    "    public IntNode next;\n",
    "    \n",
    "    public IntNode(int i, IntNode n) {\n",
    "        item = i;\n",
    "        next = n;\n",
    "    }\n",
    "}"
   ]
  },
  {
   "cell_type": "markdown",
   "metadata": {},
   "source": [
    "It is possible to make `IntNode` part of another class! In this case, we can incorporate `IntNode` as part of the `SLList` class rather than having `IntNode` as an independent class. A common practice is to put the nested class on top of everything else.\n",
    "\n",
    "Note that we can make `IntNode` a private nested class rather than a public class."
   ]
  },
  {
   "cell_type": "code",
   "execution_count": 4,
   "metadata": {},
   "outputs": [],
   "source": [
    "// An SLList is a list of integers that hides the truth of the nakedness within\n",
    "public class SLList {\n",
    "    \n",
    "    private class IntNode { // IntNode is a private class!\n",
    "        public int item;\n",
    "        public IntNode next;\n",
    "        \n",
    "        public IntNode(int i, IntNode n) {\n",
    "            item = i;\n",
    "            next = n; \n",
    "        }\n",
    "    }\n",
    "    \n",
    "    private IntNode first; // IntNode is a private class!\n",
    "    \n",
    "    // SLList constructor\n",
    "    public SLList(int x) {\n",
    "        first = new IntNode(x, null);\n",
    "    }\n",
    "    \n",
    "    // Adds x to the front of the list\n",
    "    public void addFirst(int x) {\n",
    "        first = new IntNode(x, first);\n",
    "    }\n",
    "    \n",
    "    // Returns the first item in the list\n",
    "    public int getFirst() {\n",
    "        return first.item;\n",
    "    }\n",
    "}"
   ]
  },
  {
   "cell_type": "markdown",
   "metadata": {},
   "source": [
    "## Why Nested Class?"
   ]
  },
  {
   "cell_type": "markdown",
   "metadata": {},
   "source": [
    "Nested classes are useful when a class doesn't stand on its own and is obviously subordinate to another class. Make the nested class `private` if other classes should never use the nested class.\n",
    "\n",
    "When we make `IntNode` private, `IntNode` can never be made by any external user. It makes sense to make `IntNode` a nested private class because chances are, other classes don't need to manipulate `IntNode` (e.g. SLList)"
   ]
  },
  {
   "cell_type": "markdown",
   "metadata": {},
   "source": [
    "## Static Nested Classes"
   ]
  },
  {
   "cell_type": "markdown",
   "metadata": {},
   "source": [
    "If the nested class never uses any instance variables or methods of the outer class, declare it `static`\n",
    "* Static classes can't access outer class's instance variables or methods\n",
    "* Results in a minor saving of memory.\n",
    "\n",
    "For example, with the `SLList`"
   ]
  },
  {
   "cell_type": "code",
   "execution_count": 4,
   "metadata": {},
   "outputs": [],
   "source": [
    "public class SLList {\n",
    "    \n",
    "    private class IntNode { \n",
    "        public int item;\n",
    "        public IntNode next;\n",
    "        \n",
    "        public IntNode(int i, IntNode n) {\n",
    "            item = i;\n",
    "            next = n; \n",
    "        }\n",
    "    }\n",
    "    \n",
    "    private IntNode first; \n",
    "    ...\n",
    "}"
   ]
  },
  {
   "cell_type": "markdown",
   "metadata": {},
   "source": [
    "If the `IntNode` class never uses any details of the `SLList` class (e.g. `SLList`'s methods or constructors or instance variables), we can add the word `static`."
   ]
  },
  {
   "cell_type": "code",
   "execution_count": null,
   "metadata": {},
   "outputs": [],
   "source": [
    "public class SLList {\n",
    "    private static class IntNode{\n",
    "        ...\n",
    "    }\n",
    "}"
   ]
  }
 ],
 "metadata": {
  "kernelspec": {
   "display_name": "Python 3",
   "language": "python",
   "name": "python3"
  },
  "language_info": {
   "codemirror_mode": {
    "name": "ipython",
    "version": 3
   },
   "file_extension": ".py",
   "mimetype": "text/x-python",
   "name": "python",
   "nbconvert_exporter": "python",
   "pygments_lexer": "ipython3",
   "version": "3.7.5"
  }
 },
 "nbformat": 4,
 "nbformat_minor": 4
}
