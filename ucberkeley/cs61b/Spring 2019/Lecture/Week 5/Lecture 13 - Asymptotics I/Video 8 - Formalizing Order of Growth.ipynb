{
 "cells": [
  {
   "cell_type": "markdown",
   "metadata": {},
   "source": [
    "## Formalizing Order of Growth"
   ]
  },
  {
   "cell_type": "markdown",
   "metadata": {},
   "source": [
    "Given a function $Q(N)$, we can apply our last 2 simplifications (ignore lower order terms and multiplicative constants) to yield the order of growth of $Q(N)$. For example, if we have,\n",
    "\n",
    "$$Q(N) = 3N^3 + N^2$$\n",
    "\n",
    "...then the order of growth is $N^3$.\n",
    "\n",
    "Let's move to a formal notation called `Big-Theta`\n",
    "* The idea is exactly the same!\n",
    "* Using `Big-Theta` instead of \"order of growth\" doesn't change the way we analyze code at all."
   ]
  },
  {
   "cell_type": "markdown",
   "metadata": {},
   "source": [
    "## Order of Growth Exercise"
   ]
  },
  {
   "cell_type": "markdown",
   "metadata": {},
   "source": [
    "Consider the following functions,\n",
    "\n",
    "* $N^3 + 3N^4$\n",
    "* $\\frac{1}{N} + N^3$\n",
    "* $\\frac{1}{N} + 5$\n",
    "* $Ne^N + N$\n",
    "* $40 sin(N) + 4N^2$\n",
    "\n",
    "\n",
    "What is the shape of each function for very large $N$? In other words, what's the order of growth of each function?\n",
    "\n",
    "| function | order of growth |\n",
    "| --- | --- |\n",
    "| $N^3 + 3N^4$| $N^4$ |\n",
    "| $\\frac{1}{N} + N^3$| $N^3$ |\n",
    "| $\\frac{1}{N} + 5$ | 1 (constant) |\n",
    "| $Ne^N + N$ | $Ne^N$ |\n",
    "| $40 sin(N) + 4N^2$ | $N^2$ |"
   ]
  },
  {
   "cell_type": "markdown",
   "metadata": {},
   "source": [
    "## Big-Theta"
   ]
  },
  {
   "cell_type": "markdown",
   "metadata": {},
   "source": [
    "Suppose we have a function $R(N)$ with order of growth $f(N)$. In \"Big-Theta\" notation, we write this as:\n",
    "\n",
    "$$R(N) \\in \\Theta(f(N))$$\n",
    "\n",
    "| function | order of growth | Big-Theta|\n",
    "| --- | --- |---|\n",
    "| $N^3 + 3N^4$| $N^4$ | $\\Theta(N^4)$|\n",
    "| $\\frac{1}{N} + N^3$| $N^3$ | $\\Theta(N^3)$|\n",
    "| $\\frac{1}{N} + 5$ | 1 (constant) | $\\Theta(1)$|\n",
    "| $Ne^N + N$ | $Ne^N$ |$\\Theta(Ne^N)$|\n",
    "| $40 sin(N) + 4N^2$ | $N^2$ |$\\Theta(N^2)$|"
   ]
  },
  {
   "cell_type": "markdown",
   "metadata": {},
   "source": [
    "## Big-Theta Formal Definition"
   ]
  },
  {
   "cell_type": "markdown",
   "metadata": {},
   "source": [
    "$$ R(N) \\in \\Theta(f(N))$$\n",
    "...means there exist positive constants $k_1$ and $k_2$ such that,\n",
    "\n",
    "$$k_1 \\cdot f(N) \\le R(N) \\le k_2 \\cdot f(N)$$\n",
    "...for all values of N greater than some $N_0$ (very large $N$)\n",
    "\n",
    "For example, for the function,\n",
    "$$40 sin(N) + 4N^2 \\in \\Theta(N^2)$$\n",
    "\n",
    "* $R(N) = 40 sin(N) + 4N^2 $\n",
    "* $f(N) = N^2 $\n",
    "\n",
    "Now we'll arbitrarily pick 2 constants\n",
    "* $k_1 = 3$\n",
    "* $k_2 = 5$\n",
    "\n",
    "We're saying that for very large $N$, our function will be greater than $3N^2$ but less than $5N^2$.\n",
    "\n",
    "See the visualization [here](https://sp18.datastructur.es/materials/demos/asymptotics.html?rN=4*N%5E2+40*sin(N)&fN=N%5E2&k1=3&k2=5&maxN=15&maxY=1000)."
   ]
  },
  {
   "cell_type": "markdown",
   "metadata": {},
   "source": [
    "## Big-Theta Challenge"
   ]
  },
  {
   "cell_type": "markdown",
   "metadata": {},
   "source": [
    "Suppose,\n",
    "\n",
    "$$R(N) = \\frac{4N^2 + 3N \\cdot ln(N)}{2} $$\n",
    "\n",
    "Find a simple $f(N)$ and corresponding $k_1$ and $k_2$\n",
    "\n",
    "* $f(N) = N^2$\n",
    "* $k_1$ = 1\n",
    "* $k_2$ = 3\n",
    "\n",
    "It turns out when $N$ is small, the function falls below 0! See visualization [here](http://datastructur.es/sp18/materials/demos/asymptotics.html?rN=(4N%5E2+3N*log(N))/2&fN=N%5E2&k1=1&k2=3&maxN=5)"
   ]
  },
  {
   "cell_type": "markdown",
   "metadata": {},
   "source": [
    "## Big-Theta and Runtime Analysis"
   ]
  },
  {
   "cell_type": "markdown",
   "metadata": {},
   "source": [
    "Using Big-Theta doesn't change anything about runtime analysis (no need to find $k_1$ or $k_2$)\n",
    "\n",
    "The only difference is that we use the $\\Theta$ symbol anywhere we would have said \"order of growth\".\n",
    "\n",
    "![](images/theta.png)"
   ]
  },
  {
   "cell_type": "code",
   "execution_count": null,
   "metadata": {},
   "outputs": [],
   "source": []
  }
 ],
 "metadata": {
  "kernelspec": {
   "display_name": "Python 3",
   "language": "python",
   "name": "python3"
  },
  "language_info": {
   "codemirror_mode": {
    "name": "ipython",
    "version": 3
   },
   "file_extension": ".py",
   "mimetype": "text/x-python",
   "name": "python",
   "nbconvert_exporter": "python",
   "pygments_lexer": "ipython3",
   "version": "3.7.5"
  }
 },
 "nbformat": 4,
 "nbformat_minor": 4
}
