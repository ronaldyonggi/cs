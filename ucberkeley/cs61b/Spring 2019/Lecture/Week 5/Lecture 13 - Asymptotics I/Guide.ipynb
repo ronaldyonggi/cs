{
 "cells": [
  {
   "cell_type": "markdown",
   "metadata": {},
   "source": [
    "# B Level\n",
    "\n",
    "Suppose we have a function `bleepBlorp` and its runtime $R(N)$ has order of growth $\\Theta(N^2)$. \n",
    "\n",
    "#### Ans\n",
    "* $R(N) \\in \\Theta(N^2)$\n",
    "* $R(N) \\in \\Theta(N^2) for any inputs$\n",
    "* For large N, if we run `bleepBlorp` on an input of size $N$ and an input of size $10N$, we'll have to wait roughly 100 times as long for the larger input"
   ]
  },
  {
   "cell_type": "markdown",
   "metadata": {},
   "source": []
  }
 ],
 "metadata": {
  "kernelspec": {
   "display_name": "Java",
   "language": "java",
   "name": "java"
  },
  "language_info": {
   "codemirror_mode": "java",
   "file_extension": ".jshell",
   "mimetype": "text/x-java-source",
   "name": "Java",
   "pygments_lexer": "java",
   "version": "12.0.2+10"
  }
 },
 "nbformat": 4,
 "nbformat_minor": 4
}
