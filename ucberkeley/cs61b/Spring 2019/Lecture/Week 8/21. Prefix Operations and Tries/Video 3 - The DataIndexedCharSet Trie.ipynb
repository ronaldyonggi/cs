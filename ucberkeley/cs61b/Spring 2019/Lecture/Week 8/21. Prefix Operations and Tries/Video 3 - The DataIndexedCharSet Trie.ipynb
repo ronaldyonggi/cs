{
 "cells": [
  {
   "cell_type": "markdown",
   "metadata": {},
   "source": [
    "# Trie Implementation and Performance"
   ]
  },
  {
   "cell_type": "markdown",
   "metadata": {},
   "source": [
    "## Very Basic Trie Implementation\n",
    "The first approach might look something like the code below\n",
    "* Each node stores a letter, a map, from `c` to all child nodes, and a color.\n",
    "\n",
    "![](images/color.png)"
   ]
  },
  {
   "cell_type": "code",
   "execution_count": null,
   "metadata": {},
   "outputs": [],
   "source": [
    "public class TrieSet {\n",
    "    private static final int R = 128; // How many children are expected\n",
    "    private Node root; // root of trie\n",
    "    \n",
    "    private static class Node {\n",
    "        private char ch; // Every node has a character\n",
    "        private boolean isKey; // indicates blue or white\n",
    "        \n",
    "        // A map from a character to some value type. \n",
    "        // For example, the letter 'a' on the right side has 3\n",
    "        // children: d, m, p\n",
    "        private DataIndexedCharMap next;\n",
    "        private Node(char c, boolean b, int R) {\n",
    "            ch = c; isKey = b;\n",
    "            next = new DataIndexedCharMap<Node>(R);\n",
    "        }\n",
    "    }\n",
    "}"
   ]
  },
  {
   "cell_type": "markdown",
   "metadata": {},
   "source": [
    "## Zooming in On a Node\n",
    "\n",
    "Let's try to do a box-and-pointer diagram for a `DataIndexedCharMap`.\n",
    "![](images/zoom.png)\n",
    "\n",
    "The letter `a` contains a `next` pointer that points to an object that links to all its children. The link at `119` (ASCII of `w` is 119) leads to the node that contains `w`. `w`'s next also contains a bunch of links to its children.\n",
    "\n",
    "This is fundamentally what a `Trie` looks like. \n",
    "\n",
    "A diagram representation is as the following,\n",
    "\n",
    "![](images/zoom2.png)\n",
    "\n",
    "Imagine `a` has 128 links where only one is used, and the rest are `null`."
   ]
  },
  {
   "cell_type": "markdown",
   "metadata": {},
   "source": [
    "## Very Basic Trie Implementation\n",
    "If we use a `DataIndexedCharMap` to track children, every node has R links.\n",
    "\n",
    "![](images/basic.png)\n",
    "\n",
    "Notice that there's a redundancy:\n",
    "* When we follow the `a` link, we ended up with a node containing letter `a`.\n",
    "* When we follow the `w` link, we ended up with a node containing the letter `w`\n",
    "\n",
    " We can remove the letters from the representation and things will work just fine!\n",
    " \n",
    " ![](images/basic2.png)"
   ]
  },
  {
   "cell_type": "markdown",
   "metadata": {},
   "source": [
    "## Trie Performance in Terms of `N`"
   ]
  },
  {
   "cell_type": "markdown",
   "metadata": {},
   "source": [
    "Given a Trie with `N` keys. Note: `N` is not the number of nodes. It's the number of keys (e.g. \"sam\", \"sad\", \"same\", \"sap\", etc.)\n",
    "\n",
    "What is the runtime for `add` and `contains`?\n",
    "\n",
    "**Ans**: Both of them are constant $\\Theta(1)$\n",
    "\n",
    "Suppose we have billions of items and we try to `contains(\"potato\")`. We start at the root, find \"p-o-t-a-t-o\", then done. Runtime independent of number of keys.\n",
    "\n",
    "Or in terms of `L`, the length of key,\n",
    "* `add`: $\\Theta(L)$\n",
    "* `contains`: $O(L)$\n",
    "\n",
    "When our keys are strings, Trie give us slightly better performance on `contains` and `add`\n",
    "\n",
    "![](images/performance.png)\n",
    "\n",
    "The downside of this `DictCharKey` based `Trie` is the huge memory cost of storing R links per node.\n",
    "* Recall each character has 127 unused links in our ASCII implementation\n",
    "* Wasteful since most links are unusued in real world usage."
   ]
  },
  {
   "cell_type": "markdown",
   "metadata": {},
   "source": []
  }
 ],
 "metadata": {
  "kernelspec": {
   "display_name": "Python 3",
   "language": "python",
   "name": "python3"
  },
  "language_info": {
   "codemirror_mode": {
    "name": "ipython",
    "version": 3
   },
   "file_extension": ".py",
   "mimetype": "text/x-python",
   "name": "python",
   "nbconvert_exporter": "python",
   "pygments_lexer": "ipython3",
   "version": "3.7.4"
  }
 },
 "nbformat": 4,
 "nbformat_minor": 2
}
