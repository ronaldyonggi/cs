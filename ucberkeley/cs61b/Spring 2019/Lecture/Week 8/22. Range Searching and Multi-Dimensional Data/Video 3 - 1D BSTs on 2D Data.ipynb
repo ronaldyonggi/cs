{
 "cells": [
  {
   "cell_type": "markdown",
   "metadata": {},
   "source": [
    "# QuadTrees"
   ]
  },
  {
   "cell_type": "markdown",
   "metadata": {},
   "source": [
    "## Trees vs. Hash Tables\n",
    "\n",
    "One key advantage of Search Trees over Hash Tables is that trees explicitly track the order of items.\n",
    "* Finding the minimum item in BST is $\\Theta(log N)$ time\n",
    "    * In hash table it's $\\Theta(N)$\n",
    "* Relatively easy to modify BSTs to support operations\n",
    "    * e.g. `rank(5)` returns the 5th largest item\n",
    "        * Runs in $\\Theta(log N)$ time\n",
    "        * Impossible to do this efficiently in hash table\n",
    "        \n",
    "We'll exploit similar properties to improve the runtime of spatial operations like nearest."
   ]
  },
  {
   "cell_type": "markdown",
   "metadata": {},
   "source": [
    "## Building Trees of 2 Dimensional Data\n",
    "\n",
    "![](images/body.png)\n",
    "\n",
    "Consider trying to build a BST of Body objects in 2D space."
   ]
  },
  {
   "cell_type": "code",
   "execution_count": null,
   "metadata": {},
   "outputs": [],
   "source": [
    "// Earth\n",
    "earth.xPos = 1.5\n",
    "earth.yPos = 1.6\n",
    "\n",
    "// Mars\n",
    "mars.xPos = 1.0\n",
    "mars.yPos - 2.8"
   ]
  },
  {
   "cell_type": "markdown",
   "metadata": {},
   "source": [
    "For a BST, we need a notion of \"less than\"."
   ]
  },
  {
   "cell_type": "code",
   "execution_count": null,
   "metadata": {},
   "outputs": [],
   "source": [
    "In xPos, Mars < Earth\n",
    "but in yPos, Mars > Earth"
   ]
  },
  {
   "cell_type": "markdown",
   "metadata": {},
   "source": [
    "![](images/based.png)\n",
    "\n",
    "If we consider both `x` and `y`, we can't compare both on the same time! It is natural to just pick one, but we'll lose some information about ordering.\n",
    "\n",
    "### BST x-based\n",
    "\n",
    "Suppose we put points into a BST map ordered by x-coordinate."
   ]
  },
  {
   "cell_type": "code",
   "execution_count": null,
   "metadata": {},
   "outputs": [],
   "source": [
    "put((-1, -1), A)\n",
    "put((2, 2), B)\n",
    "put((0, 1), C)\n",
    "put((1, 0), D)\n",
    "put((-2, -2), E)\n",
    "put((-3, 2.5), F)"
   ]
  },
  {
   "cell_type": "markdown",
   "metadata": {},
   "source": [
    "The result is as the following,\n",
    "\n",
    "![](images/bst.png)\n",
    "\n",
    "\n",
    "While below is the actual coordinates of the points,\n",
    "![](images/actual.png)\n",
    "\n",
    "Now let's say we want to find the points with x-coordinate less than `-1.5`.\n",
    "* Since the tree partitions the space into points that have `x < -1` and `x > -1`, we know don't have to explore the right side\n",
    "* This process of cutting off a tree search early is called \"pruning\"\n",
    "\n",
    "![](images/prune.png)"
   ]
  },
  {
   "cell_type": "markdown",
   "metadata": {},
   "source": [
    "### BST y-based\n",
    "\n",
    "This time, if we create the BST based on the y-coordinate, the BST looks as the following,\n",
    "\n",
    "![](images/y.png)\n",
    "\n",
    "With this BST, we can't answer the question of points with x-coordinate less than `-1.5`! We can't prune the tree!\n",
    "* Points on either side of the tree could have x-coordinate less than -1.5\n",
    "\n",
    "There is a better way: build a BST where every node has 4 neighbors corresponding to northwest, northeast, southwest, and southeast."
   ]
  },
  {
   "cell_type": "code",
   "execution_count": null,
   "metadata": {},
   "outputs": [],
   "source": []
  }
 ],
 "metadata": {
  "kernelspec": {
   "display_name": "Python 3",
   "language": "python",
   "name": "python3"
  },
  "language_info": {
   "codemirror_mode": {
    "name": "ipython",
    "version": 3
   },
   "file_extension": ".py",
   "mimetype": "text/x-python",
   "name": "python",
   "nbconvert_exporter": "python",
   "pygments_lexer": "ipython3",
   "version": "3.7.4"
  }
 },
 "nbformat": 4,
 "nbformat_minor": 4
}
