{
 "cells": [
  {
   "cell_type": "markdown",
   "metadata": {},
   "source": [
    "## Quadtree Insertion Demo\n",
    "\n",
    "![](images/quad.png)\n",
    "\n",
    "[Quadtree Representation of 5 objects in 2D space](https://docs.google.com/presentation/d/1vqAJkvUxSh-Eq4iIJZevjpY29nagNTjx-4N3HpDi0UQ/pub?start=false&loop=false&delayms=3000)"
   ]
  },
  {
   "cell_type": "markdown",
   "metadata": {},
   "source": [
    "## Quadtrees\n",
    "\n",
    "Quadtrees are just spatial partitioning in disguise. In the earlier approach, we have uniform partitioning (perfect grid of rectangles.\n",
    "\n",
    "![](images/grid2.png)\n",
    "\n",
    "Now with quadtrees, we have **hierarchical partitioning**. Each node \"owns\" 4 subspaces (e.g. \"D\" owns the 4 blue subspaces)\n",
    "\n",
    "![](images/quad2.png)"
   ]
  },
  {
   "cell_type": "markdown",
   "metadata": {},
   "source": [
    "## Quadtree Range Finding Demo\n",
    "\n",
    "Quadtrees allow us to better prune when performing a rectangle search.\n",
    "* Same optimization as before: prune subspaces that don't intersect the query rectangle.\n",
    "* See [range search demo](https://docs.google.com/presentation/d/1ZVvh_Q15Lh2D1_NnzZ4PR_aDsLBwvAU9JYQAwlSuXSM/edit?usp=sharing)"
   ]
  }
 ],
 "metadata": {
  "kernelspec": {
   "display_name": "Python 3",
   "language": "python",
   "name": "python3"
  },
  "language_info": {
   "codemirror_mode": {
    "name": "ipython",
    "version": 3
   },
   "file_extension": ".py",
   "mimetype": "text/x-python",
   "name": "python",
   "nbconvert_exporter": "python",
   "pygments_lexer": "ipython3",
   "version": "3.7.4"
  }
 },
 "nbformat": 4,
 "nbformat_minor": 4
}
