{
 "cells": [
  {
   "cell_type": "markdown",
   "metadata": {},
   "source": [
    "## Heap Demo\n",
    "\n",
    "## `insert(3)`\n",
    "\n",
    "![](images/insert1.png)\n",
    "\n",
    "Since we want to ensure completeness (all nodes on the left side), we add to the left side.\n",
    "\n",
    "![](images/insert2.png)\n",
    "\n",
    "But here, `3` is less than its parent node, `5`! Then move 3 up. Switch `3` with its parent `5`.\n",
    "\n",
    "![](images/insert3.png)\n",
    "\n",
    "This time, the parent of `3` is another 5. Move up once again!\n",
    "\n",
    "![](images/insert4.png)\n",
    "\n",
    "Now we have a binary min-heap!\n",
    "\n",
    "## `insert(5)`\n",
    "\n",
    "What if this time we want to insert 5? To ensure completeness, we add to the most left spot available, which is the child of `6`. \n",
    "\n",
    "![](images/insert5.png)\n",
    "\n",
    "`5` is greater than its parent, `5`! Then move `5` up.\n",
    "\n",
    "![](images/insert6.png)"
   ]
  },
  {
   "cell_type": "markdown",
   "metadata": {},
   "source": [
    "## `delete min`\n",
    "\n",
    "How do we delete the smallest item?\n",
    "\n",
    "We want to preserve completeness, which is to maintain all elements to be on the most left. In that case, we delete the root, `1`, and replace it with the last item that preserves completeness, `6`.\n",
    "\n",
    "![](images/demo.png)\n",
    "\n",
    "From this point, we want to move 6 down the hierarchy. Between `3` and `1`, `1` would be most fitting to be the root, so swap `6` with `1`!\n",
    "\n",
    "![](images/demo2.png)\n",
    "\n",
    "![](images/demo3.png)\n",
    "\n",
    "Between `5` and `3`, `3` is the smaller one. Swap the `6` with `3`!\n",
    "\n",
    "![](images/demo4.png)\n",
    "\n",
    "#### What if we do another `delete min`?\n",
    "\n",
    "Again, we delete the root and swap with the element that maintains completeness,\n",
    "\n",
    "![](images/again1.png)\n",
    "\n",
    "![](images/again2.png)\n",
    "\n",
    "In this case, both left and right are `3`! Choose a path arbitrarily. In this case, we chose left.\n",
    "\n",
    "![](images/nodescend.png)"
   ]
  },
  {
   "cell_type": "markdown",
   "metadata": {},
   "source": [
    "## Heap Operations Summary\n",
    "\n",
    "Given a heap, how do we implement `PQ` operations?\n",
    "\n",
    "* `getSmallest()` - return the item in the root node\n",
    "* `add(x)` - place the new element in the last position, and promote as high as possible\n",
    "* `removeSmallest` - remove the root, replace with the \"rightmost\" element in the tree, then demote repeatedly."
   ]
  },
  {
   "cell_type": "code",
   "execution_count": null,
   "metadata": {},
   "outputs": [],
   "source": []
  }
 ],
 "metadata": {
  "kernelspec": {
   "display_name": "Python 3",
   "language": "python",
   "name": "python3"
  },
  "language_info": {
   "codemirror_mode": {
    "name": "ipython",
    "version": 3
   },
   "file_extension": ".py",
   "mimetype": "text/x-python",
   "name": "python",
   "nbconvert_exporter": "python",
   "pygments_lexer": "ipython3",
   "version": "3.7.4"
  }
 },
 "nbformat": 4,
 "nbformat_minor": 2
}
