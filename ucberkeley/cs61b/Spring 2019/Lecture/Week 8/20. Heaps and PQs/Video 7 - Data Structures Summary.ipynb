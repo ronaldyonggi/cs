{
 "cells": [
  {
   "cell_type": "markdown",
   "metadata": {},
   "source": [
    "# Data Structures Summary"
   ]
  },
  {
   "cell_type": "markdown",
   "metadata": {},
   "source": [
    "## The Search Problem\n",
    "Given a stream of data, retrieve information of interest. Some examples:\n",
    "* Website users post to personal page. Serve contents only to friends\n",
    "* Given logs of thousands of weather stations, display weather map for specified date and time\n",
    "\n",
    "The data structures we've built so far can solve this problem.\n"
   ]
  },
  {
   "cell_type": "markdown",
   "metadata": {},
   "source": [
    "## Search Data Structures (Particularly Abstract Ones\n",
    "\n",
    "![](images/struct.png)\n",
    "\n",
    "![](images/data.png)\n",
    "\n",
    "![](images/data2.png)\n",
    "\n",
    "![](images/data3.png)\n",
    "\n",
    "![](images/data4.png)"
   ]
  },
  {
   "cell_type": "markdown",
   "metadata": {},
   "source": [
    "## Data Structures\n",
    "\n",
    "A particular way of organizing data\n",
    "* We've covered many of the most fundamental abstract data types, their common implementations, and the tradeoffs thereof."
   ]
  },
  {
   "cell_type": "code",
   "execution_count": null,
   "metadata": {},
   "outputs": [],
   "source": []
  }
 ],
 "metadata": {
  "kernelspec": {
   "display_name": "Python 3",
   "language": "python",
   "name": "python3"
  },
  "language_info": {
   "codemirror_mode": {
    "name": "ipython",
    "version": 3
   },
   "file_extension": ".py",
   "mimetype": "text/x-python",
   "name": "python",
   "nbconvert_exporter": "python",
   "pygments_lexer": "ipython3",
   "version": "3.7.4"
  }
 },
 "nbformat": 4,
 "nbformat_minor": 2
}
