{
 "cells": [
  {
   "cell_type": "markdown",
   "metadata": {},
   "source": [
    "## The Priority Queue Interface"
   ]
  },
  {
   "cell_type": "code",
   "execution_count": null,
   "metadata": {},
   "outputs": [],
   "source": [
    "/** (Min) Priority Queue: Allowing tracking and removal of the \n",
    "  * smallest item in a priority queue. *\n",
    "\n",
    "public interface MinPQ<Item> {\n",
    "    /** Adds the item to the priority queue */\n",
    "    public void add (Item x);\n",
    "     \n",
    "    /** Returns the smallest item in the priority queue */\n",
    "    public Item getSmallest();\n",
    "    \n",
    "    /** Removes the smallest item from the priority queue */\n",
    "    public Item removeSmallest();\n",
    "    \n",
    "    /** Returns the size of the priority queue */\n",
    "    public int size();\n",
    "}"
   ]
  },
  {
   "cell_type": "markdown",
   "metadata": {},
   "source": [
    "Think of Priority Queue as a bag of stuff. This is useful if we want to keep track of the smallest, largest, etc. seen so far."
   ]
  },
  {
   "cell_type": "markdown",
   "metadata": {},
   "source": [
    "## Usage Example: Unharmonious Texts\n",
    "\n",
    "Imagine we're part of GLICHE Team. Our job:\n",
    "* Monitor the text messages of the citizens to make sure that they are not having any unharmonious conversations\n",
    "* Each day, we prepare a report of the `M` messages that seem most unharmonious using the `HarmoniousnessComparator`\n",
    "\n",
    "Naive approach:\n",
    "* Create a list of all messages sent for the entire day\n",
    "* Sort using our comparator\n",
    "* Return the `M` messages that are largest"
   ]
  },
  {
   "cell_type": "markdown",
   "metadata": {},
   "source": [
    "## Naive Implementation: Store and Sort\n",
    "\n",
    "The naive implementation would look like the following,"
   ]
  },
  {
   "cell_type": "code",
   "execution_count": null,
   "metadata": {},
   "outputs": [],
   "source": [
    "public List<String> unharmoniusTexts(Sniffer sniffer, int M) {\n",
    "    // Create a list of all messages we see in a day\n",
    "    ArrayList<String> allMessages = new ArrayList<String>();\n",
    "    \n",
    "    // Set a timer of 24 hrs. As the timer goes on,\n",
    "    // add messages to the list using the sniffer class's method\n",
    "    for (Timer timer = new Timer(); timer.hours() < 24;) {\n",
    "        allMessages.add(sniffer.getNextMessage());\n",
    "    }\n",
    "    \n",
    "    // Create a new comparator\n",
    "    Comparator<String> cmptr = new HarmoniousnessComparator();\n",
    "    // Sort our messages using the comparator\n",
    "    Collections.sort(allMessages, cmptr, Collections.reverseOrder());\n",
    "    \n",
    "    // Return the largest message\n",
    "    return allMessages.sublist(0, M);\n",
    "}"
   ]
  },
  {
   "cell_type": "markdown",
   "metadata": {},
   "source": [
    "Potentiall uses a huge amount of memory $\\Theta(N)$, where $N$ is number of texts.\n",
    "\n",
    "* Goal: Do this in $\\Theta(M)$ memory using a `MinPQ`"
   ]
  },
  {
   "cell_type": "code",
   "execution_count": null,
   "metadata": {},
   "outputs": [],
   "source": [
    "MinPQ<String> unharmoniousTexts = new HeapMinPQ<Transaction>(cmptr);"
   ]
  }
 ],
 "metadata": {
  "kernelspec": {
   "display_name": "Python 3",
   "language": "python",
   "name": "python3"
  },
  "language_info": {
   "codemirror_mode": {
    "name": "ipython",
    "version": 3
   },
   "file_extension": ".py",
   "mimetype": "text/x-python",
   "name": "python",
   "nbconvert_exporter": "python",
   "pygments_lexer": "ipython3",
   "version": "3.7.4"
  }
 },
 "nbformat": 4,
 "nbformat_minor": 2
}
