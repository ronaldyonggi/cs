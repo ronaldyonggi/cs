{
 "cells": [
  {
   "cell_type": "code",
   "execution_count": 1,
   "metadata": {},
   "outputs": [],
   "source": [
    "// What the Dog class look like currently\n",
    "\n",
    "public class Dog{\n",
    "    public int weightInPounds;\n",
    "    public static int legs = 4;\n",
    "    \n",
    "    public Dog(int w) {\n",
    "        weightInPounds = w;\n",
    "    }\n",
    "    \n",
    "    public void makeNoise() {\n",
    "        if (weightInPounds < 10) {\n",
    "            System.out.println(\"yip!\");\n",
    "        } else if (weightInPounds < 30) {\n",
    "            System.out.println(\"bark.\");\n",
    "        } else {\n",
    "            System.out.println(\"wooooof!\");\n",
    "        }\n",
    "    }\n",
    "    \n",
    "    public static Dog maxDog(Dog d1, Dog d2) {\n",
    "        if (d1.weightInPounds > d2.weightInPounds) return d1;\n",
    "        return d2;\n",
    "    }\n",
    "}"
   ]
  },
  {
   "cell_type": "markdown",
   "metadata": {},
   "source": [
    "### Will this program compile? If so, what will it print?"
   ]
  },
  {
   "cell_type": "code",
   "execution_count": 3,
   "metadata": {},
   "outputs": [],
   "source": [
    "public class DogLoop{\n",
    "    public static void main(String[] args) {\n",
    "        Dog smallDog = new Dog(5);\n",
    "        Dog mediumDog = new Dog(25);\n",
    "        Dog hugeDog = new Dog(150);\n",
    "        \n",
    "        Dog[] manyDogs = new Dog[4];\n",
    "        manyDogs[0] = smallDog;\n",
    "        manyDogs[1] = hugeDog;\n",
    "        manyDogs[2] = new Dog(130);\n",
    "        \n",
    "        int i = 0;\n",
    "        while (i < manyDogs.length) {\n",
    "            Dog.maxDog(manyDogs[i], mediumDog).makeNoise();\n",
    "            i = i + 1;\n",
    "        }\n",
    "    }\n",
    "}"
   ]
  },
  {
   "cell_type": "markdown",
   "metadata": {},
   "source": [
    "#### Writer's Note\n",
    "Once again, you don't need to use the `main` method with iJava Jupyter kernel. However in practice, you should use the main method within the `DogLoop` class."
   ]
  },
  {
   "cell_type": "code",
   "execution_count": 4,
   "metadata": {},
   "outputs": [
    {
     "name": "stdout",
     "output_type": "stream",
     "text": [
      "bark.\n",
      "wooooof!\n",
      "wooooof!\n"
     ]
    },
    {
     "ename": "EvalException",
     "evalue": "null",
     "output_type": "error",
     "traceback": [
      "\u001b[1m\u001b[31m---------------------------------------------------------------------------\u001b[0m",
      "\u001b[1m\u001b[31mjava.lang.NullPointerException: null\u001b[0m",
      "\u001b[1m\u001b[31m\tat Dog.maxDog(#12:22)\u001b[0m",
      "\u001b[1m\u001b[31m\tat .(#23:1)\u001b[0m"
     ]
    }
   ],
   "source": [
    "Dog smallDog = new Dog(5);\n",
    "Dog mediumDog = new Dog(25);\n",
    "Dog hugeDog = new Dog(150);\n",
    "        \n",
    "Dog[] manyDogs = new Dog[4];\n",
    "manyDogs[0] = smallDog;\n",
    "manyDogs[1] = hugeDog;\n",
    "manyDogs[2] = new Dog(130);\n",
    "        \n",
    "int i = 0;\n",
    "while (i < manyDogs.length) {\n",
    "    Dog.maxDog(manyDogs[i], mediumDog).makeNoise();\n",
    "    i = i + 1;\n",
    "    }\n"
   ]
  },
  {
   "cell_type": "markdown",
   "metadata": {},
   "source": [
    "With the code above, we created an array of `Dog` objects called `manyDogs`. Notice that,"
   ]
  },
  {
   "cell_type": "code",
   "execution_count": null,
   "metadata": {},
   "outputs": [],
   "source": [
    "manyDogs[0] = smallDog;\n",
    "manyDogs[1] = hugeDog;\n",
    "manyDogs[2] = new Dog(130);"
   ]
  },
  {
   "cell_type": "markdown",
   "metadata": {},
   "source": [
    "We specified the contents of the array from indices 0 to 2, but we have not specified anything for the element of index 3. Therefore, `manyDogs[3]` is `null`. When the execution gets to the `while` loop,\n",
    "\n",
    "1. For the first loop, the `Dog.maxDog` method outputs the `mediumDog`\n",
    "    * Since the `mediumDog` has a weight of 25, its `.makeNoise()` method will print `\"bark.\"`\n",
    "2. For the 2nd loop, the `Dog.maxDog` method outputs the `hugeDog`.\n",
    "    * Since the `hugeDog` has a weight of 150, its `.makeNoise()` method will print `\"wooooooof!\"` \n",
    "3. For the 3rd loop, the `Dog.maxDog` method outputs the `Dog(130)` object.\n",
    "    * Since the object has a weight of 130, its `.makeNoise()` method will print `\"woooooooof!\"`\n",
    "4. When the loop is repeated for the fourth time, Java will give out an error since Java attempts to compare a `null` object with a `mediumDog`."
   ]
  },
  {
   "cell_type": "markdown",
   "metadata": {},
   "source": []
  }
 ],
 "metadata": {
  "kernelspec": {
   "display_name": "Python 3",
   "language": "python",
   "name": "python3"
  },
  "language_info": {
   "codemirror_mode": {
    "name": "ipython",
    "version": 3
   },
   "file_extension": ".py",
   "mimetype": "text/x-python",
   "name": "python",
   "nbconvert_exporter": "python",
   "pygments_lexer": "ipython3",
   "version": "3.7.5"
  }
 },
 "nbformat": 4,
 "nbformat_minor": 4
}
