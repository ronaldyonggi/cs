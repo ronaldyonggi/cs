{
 "cells": [
  {
   "cell_type": "markdown",
   "metadata": {},
   "source": [
    "Suppose we create a class called `Dog`. The class has a `makeNoise` method."
   ]
  },
  {
   "cell_type": "code",
   "execution_count": null,
   "metadata": {},
   "outputs": [],
   "source": [
    "public class Dog{\n",
    "    public static void makeNoise() {\n",
    "        System.out.println(\"Bark!\");\n",
    "    }\n",
    "}"
   ]
  },
  {
   "cell_type": "markdown",
   "metadata": {},
   "source": [
    "The code above is the Python equivalent to the following,"
   ]
  },
  {
   "cell_type": "code",
   "execution_count": null,
   "metadata": {},
   "outputs": [],
   "source": [
    "def makeNoise():\n",
    "    print(\"bark!\")"
   ]
  },
  {
   "cell_type": "markdown",
   "metadata": {},
   "source": [
    "As we can see, defining a class doesn't mean calling it. If we have a `Dog.java` file containing the `Dog` class above, we would be able to compile it, but running the program will give us an error. To call it, we would need a main method."
   ]
  },
  {
   "cell_type": "code",
   "execution_count": 1,
   "metadata": {},
   "outputs": [],
   "source": [
    "public class Dog{\n",
    "    public static void makeNoise() {\n",
    "        System.out.println(\"Bark!\");\n",
    "    }\n",
    "    \n",
    "    public static void main(String[] args){\n",
    "        makeNoise();\n",
    "    }\n",
    "}"
   ]
  },
  {
   "cell_type": "markdown",
   "metadata": {},
   "source": [
    "With the class definition above, the program should run successfully!\n",
    "\n",
    "**Run the following below with Python kernel**"
   ]
  },
  {
   "cell_type": "code",
   "execution_count": 2,
   "metadata": {},
   "outputs": [],
   "source": [
    "!javac Dog.java"
   ]
  },
  {
   "cell_type": "code",
   "execution_count": 3,
   "metadata": {},
   "outputs": [
    {
     "name": "stdout",
     "output_type": "stream",
     "text": [
      "Bark!\n"
     ]
    }
   ],
   "source": [
    "!java Dog"
   ]
  },
  {
   "cell_type": "markdown",
   "metadata": {},
   "source": [
    "Often time, we won't have a `main` method at all! Instead, we'll have other class that uses the `Dog` class. In this case, we create `DogLauncher.java`. The `DogLauncher` class \"test drives\" the `Dog` class, to see if the `Dog` class works. The `DogLauncher.java` contains the following,"
   ]
  },
  {
   "cell_type": "code",
   "execution_count": null,
   "metadata": {},
   "outputs": [],
   "source": [
    "public class DogLauncher{\n",
    "    /* DogLauncher has a main method! */\n",
    "    public static void main(String[] args){\n",
    "        /* We want to call the makeNoise method of the Dog class */\n",
    "        Dog.makeNoise();\n",
    "    }\n",
    "}"
   ]
  },
  {
   "cell_type": "markdown",
   "metadata": {},
   "source": [
    "Now, let's compile the `DogLauncher.java` file and run the program!"
   ]
  },
  {
   "cell_type": "code",
   "execution_count": 2,
   "metadata": {},
   "outputs": [],
   "source": [
    "!javac DogLauncher.java"
   ]
  },
  {
   "cell_type": "code",
   "execution_count": 3,
   "metadata": {},
   "outputs": [
    {
     "name": "stdout",
     "output_type": "stream",
     "text": [
      "Bark!\n"
     ]
    }
   ],
   "source": [
    "!java DogLauncher"
   ]
  },
  {
   "cell_type": "markdown",
   "metadata": {},
   "source": [
    "It works!"
   ]
  },
  {
   "cell_type": "markdown",
   "metadata": {},
   "source": [
    "## Dog"
   ]
  },
  {
   "cell_type": "markdown",
   "metadata": {},
   "source": [
    "Every method is associated with some class. All code has to be inside a class.\n",
    "\n",
    "To run a class, we must define a main method. However, not all class have a main method! If we recall our `Dog` class, "
   ]
  },
  {
   "cell_type": "code",
   "execution_count": null,
   "metadata": {},
   "outputs": [],
   "source": [
    "public class Dog{\n",
    "    public static void makeNoise() {\n",
    "        System.out.println(\"Bark!\");\n",
    "    }\n",
    "}"
   ]
  },
  {
   "cell_type": "markdown",
   "metadata": {},
   "source": [
    "The `Dog` class can't be run directly since there is no main method. It's either we need to add a `main` method into the `Dog` class, OR we could create a separate `DogLauncher` class that runs methods from the `Dog` class."
   ]
  },
  {
   "cell_type": "code",
   "execution_count": null,
   "metadata": {},
   "outputs": [],
   "source": [
    "public class DogLauncher{\n",
    "    /* DogLauncher has a main method! */\n",
    "    public static void main(String[] args){\n",
    "        /* We want to call the makeNoise method of the Dog class */\n",
    "        Dog.makeNoise();\n",
    "    }\n",
    "}"
   ]
  },
  {
   "cell_type": "markdown",
   "metadata": {},
   "source": [
    "A class that uses another class is sometimes called a `client` of that class, or a `test drive` class.\n",
    "\n",
    "`DogLauncher` is a client of `Dog`.\n",
    "\n",
    "Neither of the 2 is better. \n",
    "* Adding a `main` method to `Dog` may be better in some situations\n",
    "* Creating a client class like `DogLauncher` may be better in others."
   ]
  },
  {
   "cell_type": "markdown",
   "metadata": {},
   "source": [
    "## Not All Dogs Are The Same"
   ]
  },
  {
   "cell_type": "markdown",
   "metadata": {},
   "source": [
    "Not all dogs are the same. Some of them are small with yapping noises, while some others are huge with heavy \"woof\" noise. \n",
    "\n",
    "Often times, we write programs that represent features in real life. In this case, if we want to write a `Dog` simulator, we don't want all of them to bark the same way. How do we achieve that?"
   ]
  },
  {
   "cell_type": "markdown",
   "metadata": {},
   "source": [
    "## Object Instantiation"
   ]
  },
  {
   "cell_type": "markdown",
   "metadata": {},
   "source": [
    "We could create a separate class for every dog."
   ]
  },
  {
   "cell_type": "code",
   "execution_count": null,
   "metadata": {},
   "outputs": [],
   "source": [
    "public class MayaTheDog {\n",
    "    public static void makeNoise() {\n",
    "        System.out.println(\"aroooooooooo!\");\n",
    "    }\n",
    "}"
   ]
  },
  {
   "cell_type": "code",
   "execution_count": null,
   "metadata": {},
   "outputs": [],
   "source": [
    "public class YapsterTheDog {\n",
    "    public static void makeNoise(String[] args) {\n",
    "        System.out.println(\"awaaawwawaw awawwawa\");\n",
    "    }\n",
    "}"
   ]
  },
  {
   "cell_type": "markdown",
   "metadata": {},
   "source": [
    "However, this approach gets very redundant!"
   ]
  },
  {
   "cell_type": "markdown",
   "metadata": {},
   "source": []
  }
 ],
 "metadata": {
  "kernelspec": {
   "display_name": "Python 3",
   "language": "python",
   "name": "python3"
  },
  "language_info": {
   "codemirror_mode": {
    "name": "ipython",
    "version": 3
   },
   "file_extension": ".py",
   "mimetype": "text/x-python",
   "name": "python",
   "nbconvert_exporter": "python",
   "pygments_lexer": "ipython3",
   "version": "3.7.5"
  }
 },
 "nbformat": 4,
 "nbformat_minor": 4
}
