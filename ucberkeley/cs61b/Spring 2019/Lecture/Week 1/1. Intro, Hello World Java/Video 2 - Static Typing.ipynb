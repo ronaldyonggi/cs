{
 "cells": [
  {
   "cell_type": "markdown",
   "metadata": {},
   "source": [
    "# Static Typing"
   ]
  },
  {
   "cell_type": "markdown",
   "metadata": {},
   "source": [
    "Below we have a program in Python that prints the numbers between 0 to 10."
   ]
  },
  {
   "cell_type": "code",
   "execution_count": null,
   "metadata": {},
   "outputs": [],
   "source": [
    "x = 0\n",
    "while x < 10:\n",
    "    print(x)\n",
    "    x = x + 1"
   ]
  },
  {
   "cell_type": "markdown",
   "metadata": {},
   "source": [
    "Let's say we want to do the same thing in Java. We want to create a class called `HelloNumbers` for this. The code would look like the following,"
   ]
  },
  {
   "cell_type": "code",
   "execution_count": 5,
   "metadata": {},
   "outputs": [],
   "source": [
    "public class HelloNumbers{\n",
    "    public static void main(String[] args){\n",
    "        int x = 0;\n",
    "        while (x < 10) {\n",
    "            System.out.println(x);\n",
    "            x = x + 1;\n",
    "        }\n",
    "    }\n",
    "}"
   ]
  },
  {
   "cell_type": "code",
   "execution_count": 9,
   "metadata": {},
   "outputs": [
    {
     "name": "stdout",
     "output_type": "stream",
     "text": [
      "0\n",
      "1\n",
      "2\n",
      "3\n",
      "4\n",
      "5\n",
      "6\n",
      "7\n",
      "8\n",
      "9\n"
     ]
    }
   ],
   "source": [
    "/* Assume that the following code is within the following enclosing,\n",
    "public class HelloNumbers{\n",
    "    public static void main(String[] args){\n",
    "    ==== CODE HERE =====\n",
    "        }\n",
    "    }\n",
    "*/\n",
    "\n",
    "x = 0;\n",
    "while (x < 10) {\n",
    "    System.out.println(x);\n",
    "    x = x + 1;\n",
    "}"
   ]
  },
  {
   "cell_type": "markdown",
   "metadata": {},
   "source": [
    "#### Writer Note:\n",
    "When we execute the code above, it works fine. However, it should have ran into an `error: cannot find symbol x = 0;`. This error means we need to declare our variable `x`.\n",
    "\n",
    "Here we'll assume that we ran into that error, and we are trying to fix the error by declaring `x` as an `int`."
   ]
  },
  {
   "cell_type": "markdown",
   "metadata": {},
   "source": [
    "Before a variable could be used, we need to specify that it exists. We can do that by stating the following,"
   ]
  },
  {
   "cell_type": "code",
   "execution_count": null,
   "metadata": {},
   "outputs": [],
   "source": [
    "/* Assume that the following code is within the following enclosing,\n",
    "public class HelloNumbers{\n",
    "    public static void main(String[] args){\n",
    "    ==== CODE HERE =====\n",
    "        }\n",
    "    }\n",
    "*/\n",
    "\n",
    "int x;"
   ]
  },
  {
   "cell_type": "markdown",
   "metadata": {},
   "source": [
    "Above is a variable declaration that says:\n",
    "\n",
    "1. `x` exists\n",
    "2. `x` is an integer\n",
    "\n",
    "Now using the variable declaration,"
   ]
  },
  {
   "cell_type": "code",
   "execution_count": 10,
   "metadata": {},
   "outputs": [
    {
     "name": "stdout",
     "output_type": "stream",
     "text": [
      "0\n",
      "1\n",
      "2\n",
      "3\n",
      "4\n",
      "5\n",
      "6\n",
      "7\n",
      "8\n",
      "9\n"
     ]
    }
   ],
   "source": [
    "/* Assume that the following code is within the following enclosing,\n",
    "public class HelloNumbers{\n",
    "    public static void main(String[] args){\n",
    "    ==== CODE HERE =====\n",
    "        }\n",
    "    }\n",
    "*/\n",
    "\n",
    "int x;\n",
    "x = 0;\n",
    "while (x < 10) {\n",
    "    System.out.println(x);\n",
    "    x = x + 1;\n",
    "}"
   ]
  },
  {
   "cell_type": "markdown",
   "metadata": {},
   "source": [
    "The code works! The variable declaration might seemed to be a small, annoying thing. However, it has a huge consequence for Java programming. \n",
    "\n",
    "Also, instead of writing the variable declaration in 2 lines:"
   ]
  },
  {
   "cell_type": "code",
   "execution_count": null,
   "metadata": {},
   "outputs": [],
   "source": [
    "int x;\n",
    "x = 0;"
   ]
  },
  {
   "cell_type": "markdown",
   "metadata": {},
   "source": [
    "We can combine the declaration in one line:"
   ]
  },
  {
   "cell_type": "code",
   "execution_count": 11,
   "metadata": {},
   "outputs": [],
   "source": [
    "int x = 0;"
   ]
  },
  {
   "cell_type": "markdown",
   "metadata": {},
   "source": [
    "There are huge differences between Java and Python in terms of how variables work. \n",
    "\n",
    "1. With Python or other languages that are not \"statically typed languages\", it's simpler to initiate a variable and we can change what's in it along the code execution. For example (run the following with Python Kernel),"
   ]
  },
  {
   "cell_type": "code",
   "execution_count": null,
   "metadata": {},
   "outputs": [],
   "source": [
    "x = 0\n",
    "while x < 10:\n",
    "    print(x)\n",
    "    x = x + 1\n",
    "        \n",
    "x = \"horse\"\n",
    "print(x)"
   ]
  },
  {
   "cell_type": "markdown",
   "metadata": {},
   "source": [
    "However, if we try the same thing in Java,"
   ]
  },
  {
   "cell_type": "code",
   "execution_count": 13,
   "metadata": {},
   "outputs": [
    {
     "name": "stdout",
     "output_type": "stream",
     "text": [
      "0\n",
      "1\n",
      "2\n",
      "3\n",
      "4\n",
      "5\n",
      "6\n",
      "7\n",
      "8\n",
      "9\n"
     ]
    },
    {
     "ename": "CompilationException",
     "evalue": "",
     "output_type": "error",
     "traceback": [
      "\u001b[1m\u001b[30m|   \u001b[1m\u001b[30mx = \u001b[0m\u001b[1m\u001b[30m\u001b[41m\"horse\"\u001b[0m\u001b[1m\u001b[30m;\u001b[0m",
      "\u001b[1m\u001b[31mincompatible types: java.lang.String cannot be converted to int\u001b[0m",
      ""
     ]
    }
   ],
   "source": [
    "/* Assume that the following code is within the following enclosing,\n",
    "public class HelloNumbers{\n",
    "    public static void main(String[] args){\n",
    "    ==== CODE HERE =====\n",
    "        }\n",
    "    }\n",
    "*/\n",
    "\n",
    "int x;\n",
    "x = 0;\n",
    "while (x < 10) {\n",
    "    System.out.println(x);\n",
    "    x = x + 1;\n",
    "}\n",
    "\n",
    "// Assume the following code is within the public class HelloNumbers{}, \n",
    "// but outside public static void main(String[] args)\n",
    "x = \"horse\";"
   ]
  },
  {
   "cell_type": "markdown",
   "metadata": {},
   "source": [
    "As we can see, we obtain an error: \"String can't be converted to int\". If we then try to the following,"
   ]
  },
  {
   "cell_type": "code",
   "execution_count": 18,
   "metadata": {},
   "outputs": [
    {
     "ename": "CompilationException",
     "evalue": "",
     "output_type": "error",
     "traceback": [
      "\u001b[1m\u001b[30m|   \u001b[1m\u001b[30m        \u001b[0m\u001b[1m\u001b[30m\u001b[41mString x = \"horse\";\u001b[0m\u001b[1m\u001b[30m\u001b[0m",
      "\u001b[1m\u001b[31mvariable x is already defined in method main(java.lang.String[])\u001b[0m",
      ""
     ]
    }
   ],
   "source": [
    "public class HelloNumbers{\n",
    "    public static void main(String[] args){\n",
    "        int x = 0;\n",
    "        while (x < 10) {\n",
    "            System.out.println(x);\n",
    "            x = x + 1;\n",
    "        }\n",
    "        String x = \"horse\";\n",
    "    }\n",
    "}"
   ]
  },
  {
   "cell_type": "markdown",
   "metadata": {},
   "source": [
    "We'll obtain an error saying that the variable `x` is already defined!\n",
    "\n",
    "In Java, variables have a specific type and those types can never change. This is going to have a huge consequences especially when we're going to cover functions. In functions, we need to know exactly what's in each type of variable. In addition, the compiler will check and make sure all the types are good before we run the program.\n",
    "\n",
    "Some important notes:\n",
    "\n",
    "#### 1. Before Java variables can be used, they must be declared. \n",
    "#### 2. Java variables must have a specific type\n",
    "#### 3. Java variables types can never change\n",
    "\n",
    "Type errors are not unique to Java. They also exist in other languages such as Python. For example, if we run the following in Python, we'll obtain an error:"
   ]
  },
  {
   "cell_type": "code",
   "execution_count": null,
   "metadata": {},
   "outputs": [],
   "source": [
    "print(5 + \"horse\")"
   ]
  },
  {
   "cell_type": "markdown",
   "metadata": {},
   "source": [
    "In Python, if we run the following, (execute with Python kernel)"
   ]
  },
  {
   "cell_type": "code",
   "execution_count": null,
   "metadata": {},
   "outputs": [],
   "source": [
    "x = 0;\n",
    "while x < 10:\n",
    "    print(x)\n",
    "    x = x + 1\n",
    "        \n",
    "print(5 + \"horse\")"
   ]
  },
  {
   "cell_type": "markdown",
   "metadata": {},
   "source": [
    "We see that Python executes the code in an orderly fashion. It ran the `while` loop first, then the error occurs.\n",
    "\n",
    "However in Java, when we try to run the code that has a type error,"
   ]
  },
  {
   "cell_type": "code",
   "execution_count": null,
   "metadata": {},
   "outputs": [],
   "source": [
    "public class HelloNumbers{\n",
    "    public static void main(String[] args){\n",
    "        int x = 0;\n",
    "        while (x < 10) {\n",
    "            System.out.println(x);\n",
    "            x = x + 1;\n",
    "        }\n",
    "        String x = \"horse\";\n",
    "    }\n",
    "}"
   ]
  },
  {
   "cell_type": "markdown",
   "metadata": {},
   "source": [
    "The program will return an error right away before executing the `while` loop part beforehand.\n",
    "\n",
    "Thus, another important thing about Java,\n",
    "\n",
    "#### 4. Types are verified before the code even runs\n",
    "\n",
    "In Java, our code gets a \"certificate\" of correctness in terms of types before the code runs. This means:\n",
    "1. Our end users are going to run into fewer bugs\n",
    "2. Easier for programmer to debug\n",
    "3. We know exactly what the variables should be (e.g. `x` is an integer)"
   ]
  },
  {
   "cell_type": "code",
   "execution_count": null,
   "metadata": {},
   "outputs": [],
   "source": []
  }
 ],
 "metadata": {
  "kernelspec": {
   "display_name": "Java",
   "language": "java",
   "name": "java"
  },
  "language_info": {
   "codemirror_mode": "java",
   "file_extension": ".jshell",
   "mimetype": "text/x-java-source",
   "name": "Java",
   "pygments_lexer": "java",
   "version": "12.0.1+12"
  }
 },
 "nbformat": 4,
 "nbformat_minor": 2
}
