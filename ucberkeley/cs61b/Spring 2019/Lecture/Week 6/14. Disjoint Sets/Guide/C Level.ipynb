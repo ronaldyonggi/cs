{
 "cells": [
  {
   "cell_type": "markdown",
   "metadata": {},
   "source": [
    "## 1.\n",
    "\n",
    "There are many approach to achieving worst case heights. In this answer, the approach is to `union` 2 sets of size $\\frac{N}{2}$ that have worst case height.\n",
    "\n",
    "![](images/weighted.png)"
   ]
  },
  {
   "cell_type": "markdown",
   "metadata": {},
   "source": [
    "## 2.\n",
    "\n",
    "Correction: It's from midterm #2, not midterm #1.\n",
    "\n",
    "There are many correct answers, but the most important points are:\n",
    "* When we connect items, connect the roots of each subtree to other roots\n",
    "* When we connect 5 to the weight 4 tree, 5 points directly to the root of that tree."
   ]
  },
  {
   "cell_type": "code",
   "execution_count": null,
   "metadata": {},
   "outputs": [],
   "source": [
    "        1\n",
    "      / \\  \\\n",
    "    4   2   5\n",
    "         \\   \n",
    "         3   "
   ]
  }
 ],
 "metadata": {
  "kernelspec": {
   "display_name": "Java",
   "language": "java",
   "name": "java"
  },
  "language_info": {
   "codemirror_mode": "java",
   "file_extension": ".jshell",
   "mimetype": "text/x-java-source",
   "name": "Java",
   "pygments_lexer": "java",
   "version": "12.0.2+10"
  }
 },
 "nbformat": 4,
 "nbformat_minor": 4
}
