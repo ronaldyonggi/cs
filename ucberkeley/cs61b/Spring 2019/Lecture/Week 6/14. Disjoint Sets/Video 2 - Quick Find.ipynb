{
 "cells": [
  {
   "cell_type": "markdown",
   "metadata": {},
   "source": [
    "# Quick Find"
   ]
  },
  {
   "cell_type": "markdown",
   "metadata": {},
   "source": [
    "The next big challenge is to figure out what underlying abstraction we can use to track sets membership."
   ]
  },
  {
   "cell_type": "markdown",
   "metadata": {},
   "source": [
    "## Challenge:  Pick Data Structures to Support Tracking of Sets"
   ]
  },
  {
   "cell_type": "markdown",
   "metadata": {},
   "source": [
    "Suppose we have the following situation:\n",
    "\n",
    "![](images/challenge.png)\n",
    "\n",
    "Assume elements are numbered from `0` to `N-1`"
   ]
  },
  {
   "cell_type": "markdown",
   "metadata": {},
   "source": [
    "What instance variable will our data structure have to keep track who in which set?"
   ]
  },
  {
   "cell_type": "markdown",
   "metadata": {},
   "source": [
    "#### Idea 1: List of set of integers"
   ]
  },
  {
   "cell_type": "code",
   "execution_count": null,
   "metadata": {},
   "outputs": [],
   "source": [
    "[{0, 1, 2, 4}, {3, 5}, {6}]"
   ]
  },
  {
   "cell_type": "markdown",
   "metadata": {},
   "source": [
    "* In Java: `List<set<Integer>>`\n",
    "    * `List` and `Set` refer to the Java interfaces we saw on previous lectures.\n",
    "    \n",
    "This is an intuitive idea. However, once we start thinking about what `isConnected` and `connect` operation look like, we'll see that it can be very slow and complicated.\n",
    "\n",
    "Imagine we have a situation where nothing is connected yet.\n",
    "\n",
    "![](images/no.png)\n",
    "\n",
    "We have the following list of sets of integers,"
   ]
  },
  {
   "cell_type": "code",
   "execution_count": null,
   "metadata": {},
   "outputs": [],
   "source": [
    "[{0}, {1}, {2}, {3}, {4}, {5}, {6}]"
   ]
  },
  {
   "cell_type": "markdown",
   "metadata": {},
   "source": [
    "If we want to do `isConnected(5, 6)`, Java has to check every set to see if `5` is in there.\n",
    "* For example, Java will check if `5` is in `{0}`. If not, check if it's in `{1}`, and so on...\n",
    "\n",
    "This implementation requires iterating through all the sets to find anything. It's complicated and slow!\n",
    "* Worst case: if nothing is connected, then `isConnected(5, 6)` requires iterating through:\n",
    "    * `N-1` sets to find `5`\n",
    "    * then `N` sets to find `6`\n",
    "* The overall runtime would be $\\Theta(N)$"
   ]
  },
  {
   "cell_type": "markdown",
   "metadata": {},
   "source": [
    "## Performance Summary"
   ]
  },
  {
   "cell_type": "markdown",
   "metadata": {},
   "source": [
    "This first approach, which we'll call `ListOfSetsDS` (where DS stands for Disjoint Sets). is complicated and slow.\n",
    "\n",
    "| Implementation | Constructor | `connect` | `isConnected`|\n",
    "| --- | --- | --- | --- |\n",
    "|`ListOfSetsDs` | $\\Theta(N)$ | $O(N)$ | $O(N)$|\n",
    "\n",
    "* The constructor's runtime has order of growth `N` no matter what\n",
    "    * If we create a list, then we create sets and add them to the list, the order of growth has to be `N`\n",
    "* Previously, we analyzed the worst case for `isConnected`.\n",
    "    * The analysis is the same for `connect`! Worst case is $\\Theta(N)$\n",
    "    * But other cases may be better. \n",
    "    * Taking into account that other cases may be better, we'll say $O(N)$ since $O$ means \"less than or equal\"\n",
    "    \n",
    "Operations are linear when number of connections are small\n",
    "* Because of this, we'll have to iterate over all sets\n",
    "\n",
    "**Important Point**: By deciding to use a List of Sets in the first place, we have doomed ourselves to complexity and bad performance.\n",
    "\n",
    "When we want to implement a high-level data structure using basic building blocks, the choice of building blocks to use (the instance variables) will deeply affect the complexity of the code and its performance."
   ]
  },
  {
   "cell_type": "markdown",
   "metadata": {},
   "source": [
    "## Instructor's Approach: Just Use a List of Integers"
   ]
  },
  {
   "cell_type": "markdown",
   "metadata": {},
   "source": [
    "Idea #2: Use a list of integers where in `ith` entry, we'll store the set number (or `id`) of the `ith` item.\n",
    "\n",
    "![](images/list_int.png)"
   ]
  },
  {
   "cell_type": "markdown",
   "metadata": {},
   "source": [
    "In the example above, before the `connect(2, 3)` operation,\n",
    "* 0, 1, 2, and 4 belong to set `4`  \n",
    "\n",
    "Once we did the `connect(2, 3)` operation,\n",
    "* Change all the item that is the same as `id=2` to the item inside `id=3`\n",
    "    * The item inside `id=3` is 5\n",
    "    * Thus we change items at `id=0, 1, 2,` and `4` from 4 to 5\n",
    "    \n",
    "In general `connect(x, y)` changes entries that equal `id[x]` to `id[y]`"
   ]
  },
  {
   "cell_type": "markdown",
   "metadata": {},
   "source": [
    "## `QuickFindDs`"
   ]
  },
  {
   "cell_type": "markdown",
   "metadata": {},
   "source": [
    "This would be what the code look like in Java,"
   ]
  },
  {
   "cell_type": "code",
   "execution_count": null,
   "metadata": {},
   "outputs": [],
   "source": [
    "// isConnected method\n",
    "public boolean isConnected(int p, int q) {\n",
    "    return id[p] == id[q];\n",
    "}"
   ]
  },
  {
   "cell_type": "markdown",
   "metadata": {},
   "source": [
    "The `isConnected` method is very fast!\n",
    "* Involves only 2 array accesses\n",
    "* Order of growth $\\Theta(1)$"
   ]
  },
  {
   "cell_type": "code",
   "execution_count": null,
   "metadata": {},
   "outputs": [],
   "source": [
    "// connect method\n",
    "public void connect(int p, int q) {\n",
    "    int pid = id[p];\n",
    "    int qid = id[q];\n",
    "    for(int i = 0; i < id.length; i++) {\n",
    "        if (id[i] == pid) {\n",
    "            id[i] = qid;\n",
    "        }\n",
    "    }...\n",
    "}"
   ]
  },
  {
   "cell_type": "markdown",
   "metadata": {},
   "source": [
    "The `connect` method is relatively slow. Notice that there is a `for` loop that goes through the entire array, thus there'll be about `N+2` to `2N+2` array accesses.\n",
    "* Order of growth is $\\Theta(N)$"
   ]
  },
  {
   "cell_type": "markdown",
   "metadata": {},
   "source": [
    "The `QuickFindDS` class looks like the following,"
   ]
  },
  {
   "cell_type": "code",
   "execution_count": null,
   "metadata": {},
   "outputs": [],
   "source": [
    "public class QuickFindDS implements DisjointSets {\n",
    "    private int[] id;\n",
    "    \n",
    "    public boolean isConnected(int p, int q) {\n",
    "        return id[p] == id[q];\n",
    "    }\n",
    "    \n",
    "    public void connect(int p, int q) {\n",
    "        int pid = id[p];\n",
    "        int qid = id[q];\n",
    "        for (int i = 0; i < id.length; i++) {\n",
    "            if (id[i] == pid) {\n",
    "                id[i] = qid;\n",
    "            }\n",
    "        } ...\n",
    "    }\n",
    "}\n",
    "\n",
    "public quickFindDS(int N) {\n",
    "    id = new int[N];\n",
    "    for (int i = 0; i < N; i++) {\n",
    "        id[i] = i;\n",
    "    }\n",
    "}"
   ]
  },
  {
   "cell_type": "markdown",
   "metadata": {},
   "source": [
    "## Performance Summary"
   ]
  },
  {
   "cell_type": "markdown",
   "metadata": {},
   "source": [
    "| Implementation | Constructor | `connect` | `isConnected`|\n",
    "| --- | --- | --- | --- |\n",
    "|`ListOfSetsDs` | $\\Theta(N)$ | $O(N)$ | $O(N)$|\n",
    "| `QuickFindDs` | $\\Theta(N)$ | $\\Theta(N)$ | $\\Theta(1)$|\n",
    "\n",
    "`QuickFindDS` is an improvement compared to `ListOfSetsDS`, but it's still too slow for practical use\n",
    "* Connecting 2 items takes `N` time\n",
    "* Instead, let's try something more radical"
   ]
  },
  {
   "cell_type": "code",
   "execution_count": null,
   "metadata": {},
   "outputs": [],
   "source": []
  }
 ],
 "metadata": {
  "kernelspec": {
   "display_name": "Python 3",
   "language": "python",
   "name": "python3"
  },
  "language_info": {
   "codemirror_mode": {
    "name": "ipython",
    "version": 3
   },
   "file_extension": ".py",
   "mimetype": "text/x-python",
   "name": "python",
   "nbconvert_exporter": "python",
   "pygments_lexer": "ipython3",
   "version": "3.7.5"
  }
 },
 "nbformat": 4,
 "nbformat_minor": 4
}
