{
 "cells": [
  {
   "cell_type": "markdown",
   "metadata": {},
   "source": [
    "# Sets vs. Maps, Summary"
   ]
  },
  {
   "cell_type": "markdown",
   "metadata": {},
   "source": [
    "## Sets vs. Maps\n",
    "\n",
    "We can think of BST as representing a Set.\n",
    "\n",
    "![](images/momo.png)\n",
    "\n",
    "But what if we want to represent a mapping of word counts?\n",
    "\n",
    "![](images/count.png)\n",
    "\n",
    "To represent maps, just have each BST node store key/value pairs.\n",
    "\n",
    "![](images/set.png)\n",
    "\n",
    "Note that there's no efficient way to look up by value.\n",
    "* Example: We can't find all the keys with value `1` without iterating over all nodes."
   ]
  },
  {
   "cell_type": "markdown",
   "metadata": {},
   "source": [
    "## Summary\n",
    "\n",
    "Abstract data types (ADTs) are defined in terms of operations, not implementation.\n",
    "\n",
    "Several useful ADTS: Disjoint Sets, Map, Set, List\n",
    "* Java provides Map, Set, List interfaces, along with several implementations\n",
    "\n",
    "We've seen 2 ways to imlement a Set (or Map): `ArraySet` and using a BST\n",
    "* `ArraySet`: $\\Theta(N)$ operations in the worst case\n",
    "* BST: $\\Theta(log N)$ operations if tree is balanced.\n",
    "\n",
    "BST implementations:\n",
    "* Search and insert are straightforward (insert slightly trickier)\n",
    "* Deletion is somewhat challenging\n",
    "    * Typical approach is Hibbard deletion"
   ]
  },
  {
   "cell_type": "markdown",
   "metadata": {},
   "source": [
    "# BST Implementation Tips"
   ]
  },
  {
   "cell_type": "markdown",
   "metadata": {},
   "source": [
    "## Tips for BST Lab\n",
    "\n",
    "* Code from class was \"naked recursion\"\n",
    "    * Our BSTMap won't be\n",
    "* For each public method (e.g. `put(K key, V value)`), create a private recursive method (e.g. `put(K key, V value, Node n)`)\n",
    "* When inserting, always set left/right pointers, even if nothing is actually changing\n",
    "* Avoid \"arms length base cases\". Don't check if left or right is null"
   ]
  },
  {
   "cell_type": "code",
   "execution_count": null,
   "metadata": {},
   "outputs": [],
   "source": []
  }
 ],
 "metadata": {
  "kernelspec": {
   "display_name": "Python 3",
   "language": "python",
   "name": "python3"
  },
  "language_info": {
   "codemirror_mode": {
    "name": "ipython",
    "version": 3
   },
   "file_extension": ".py",
   "mimetype": "text/x-python",
   "name": "python",
   "nbconvert_exporter": "python",
   "pygments_lexer": "ipython3",
   "version": "3.7.5"
  }
 },
 "nbformat": 4,
 "nbformat_minor": 4
}
