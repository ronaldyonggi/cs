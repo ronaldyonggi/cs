{
 "cells": [
  {
   "cell_type": "markdown",
   "metadata": {},
   "source": [
    "# Abstract Data Types"
   ]
  },
  {
   "cell_type": "markdown",
   "metadata": {},
   "source": [
    "## Interfaces vs Implementation"
   ]
  },
  {
   "cell_type": "markdown",
   "metadata": {},
   "source": [
    "![](images/list.png)\n",
    "\n",
    "In class, we...\n",
    "* ...developed `ALists` and `SLLists`\n",
    "* ...created an interface `List61B`\n",
    "    * Modified `AList` and `SLList` so that they implement `List61B`\n",
    "    * Add default methods to `List61B`\n",
    "    \n",
    "    \n",
    "![](images/Deque.png)\n",
    "In projects, we...\n",
    "* ...developed `ArrayDeque` and `LinkedListDeque`\n",
    "* ...created an interface `Deque`\n",
    "    * Modified them so that they implement `Deque`\n",
    "    \n",
    "![](images/disjoint)\n",
    "With `DisjointSets`, we saw an even more rich set of possible implementations"
   ]
  },
  {
   "cell_type": "markdown",
   "metadata": {},
   "source": [
    "## Abstract Data Types"
   ]
  },
  {
   "cell_type": "markdown",
   "metadata": {},
   "source": [
    "An `Abstract Data Type (ADT)` is defined only by its operations, not by its implementation. For example, the Deque ADT consists of the following methods:"
   ]
  },
  {
   "cell_type": "code",
   "execution_count": null,
   "metadata": {},
   "outputs": [],
   "source": [
    "addFirst(Item x);\n",
    "addLast(Item x);\n",
    "boolean isEmpty();\n",
    "int size();\n",
    "printDeque();\n",
    "Item removeFirst();\n",
    "Item removeLast();\n",
    "Item get(int index);"
   ]
  },
  {
   "cell_type": "markdown",
   "metadata": {},
   "source": [
    "And we can have many different `Deque` implementations, such as `ArrayDeque` or `LinkedListDeque`. "
   ]
  },
  {
   "cell_type": "markdown",
   "metadata": {},
   "source": [
    "## The Stack - Another Example of an ADT"
   ]
  },
  {
   "cell_type": "markdown",
   "metadata": {},
   "source": [
    "The Stack ADT supports the following operations:"
   ]
  },
  {
   "cell_type": "code",
   "execution_count": null,
   "metadata": {},
   "outputs": [],
   "source": [
    "push(int x); // Puts x on top of the stack\n",
    "int pop(); // Removes and returns the top item from the stack"
   ]
  },
  {
   "cell_type": "markdown",
   "metadata": {},
   "source": [
    "For example, we have a stack containing the number 4. \n",
    "\n",
    "![](images/4)\n",
    "\n",
    "...if we push the number `6`, `6` will appear on top of 4.\n",
    "\n",
    "![](images/6.png)\n",
    "\n",
    "...if we push the number `2`, `2` will appear on top of 6.\n",
    "\n",
    "![](images/2.png)\n",
    "\n",
    "...now if we call `pop()`, the element at the top will come out.\n",
    "\n",
    "![](images/6.png)\n",
    "\n",
    "...and if we `pop()` once more, \n",
    "\n",
    "![](images/4)\n",
    "\n",
    "Between `Linked List` and `Array`, which implementation would result in faster overall performance? \n",
    "\n",
    "**Ans**: Both are about the same! Arguably, linked list might be a little faster since it doesn't do resizing."
   ]
  },
  {
   "cell_type": "markdown",
   "metadata": {},
   "source": [
    "## The GrabBag ADT"
   ]
  },
  {
   "cell_type": "markdown",
   "metadata": {},
   "source": [
    "The GrabBag ADT supports the following operations:"
   ]
  },
  {
   "cell_type": "code",
   "execution_count": null,
   "metadata": {},
   "outputs": [],
   "source": [
    "insert(int x) // Inserts x into the grab bag\n",
    "int remove() // Removes a random item from the bag\n",
    "int sample() // Samples a random item from the bag (without removing)\n",
    "int size() // Number of items in the bag"
   ]
  },
  {
   "cell_type": "markdown",
   "metadata": {},
   "source": [
    "Between `LinkedList` and `Array`, which implementation would result in faster overall performance?\n",
    "\n",
    "**Ans**: `Array`\n",
    "\n",
    "It's easier to use an array implementation to remove a random item compared to using a `LinkedList` where we would have to go through elements to reach a certain element."
   ]
  },
  {
   "cell_type": "markdown",
   "metadata": {},
   "source": [
    "## Abstract Data Types in Java"
   ]
  },
  {
   "cell_type": "markdown",
   "metadata": {},
   "source": [
    "One thing that is nice about Java is the syntax differentiation between ADTs and implementations. For example:"
   ]
  },
  {
   "cell_type": "code",
   "execution_count": null,
   "metadata": {},
   "outputs": [],
   "source": [
    "List<Integer> L = new ArrayList<>"
   ]
  },
  {
   "cell_type": "markdown",
   "metadata": {},
   "source": [
    "![](images/list)\n",
    "\n",
    "Note: interfaces in Java aren't purely abstract as they can contain some implementation details (e.g. default methods)"
   ]
  },
  {
   "cell_type": "markdown",
   "metadata": {},
   "source": [
    "## Collections"
   ]
  },
  {
   "cell_type": "markdown",
   "metadata": {},
   "source": [
    "Among the most important interfaces in the `java.util` library are those that extend the `Collection` interface\n",
    "* `List`\n",
    "* `Sets`\n",
    "* `Map`\n",
    "    * e.g. Creature `c`'s north neighbor is `Plip`\n",
    "    * Maps also known as associative arrays, associative lists (in Lisp), symbol tables, dictionaries (in Python)\n",
    "    \n",
    "![](images/collection.png)\n",
    "By the way, interfaces can extend other interfaces"
   ]
  },
  {
   "cell_type": "markdown",
   "metadata": {},
   "source": [
    "## Map Example"
   ]
  },
  {
   "cell_type": "markdown",
   "metadata": {},
   "source": [
    "Maps are very handy tools for all sorts of tasks. Example: Counting words. Let's say we want to count the number of times each word occurs in a bunch of strings."
   ]
  },
  {
   "cell_type": "code",
   "execution_count": null,
   "metadata": {},
   "outputs": [],
   "source": [
    "// Create a map that pairs string with integer. In this case, \n",
    "// one specific implementation that will be covered in this lecture\n",
    "// is TreeMap\n",
    "Map<String, Integer> m = new TreeMap<>();\n",
    "String[] text = {\"sumomo\", \"mo\", \"momo\", \"mo\", \"momo\", \"no\", \"uchi\"};\n",
    "\n",
    "for (String s: text) { // For each String in text\n",
    "    // getOrDefault --> If that word isn't exist in the dictionary\n",
    "    // yet, return 0\n",
    "    int currentCount = m.getOrDefault(s, 0);\n",
    "    // Increment that word's count by 1\n",
    "    m.put(s, currentCOunt + 1);\n",
    "}"
   ]
  },
  {
   "cell_type": "markdown",
   "metadata": {},
   "source": [
    "The Python version of the implementation is as the following,"
   ]
  },
  {
   "cell_type": "code",
   "execution_count": 1,
   "metadata": {},
   "outputs": [],
   "source": [
    "m = {}\n",
    "text = [\"sumomo\", \"mo\", \"momo\", \"mo\", \"momo\", \"no\", \"uchi\"]\n",
    "for s in text:\n",
    "    current_count = m.get(s, 0)\n",
    "    m[s] = current_count + 1"
   ]
  },
  {
   "cell_type": "markdown",
   "metadata": {},
   "source": [
    "## Java Libraries"
   ]
  },
  {
   "cell_type": "markdown",
   "metadata": {},
   "source": [
    "The built-in `java.util` package provides a number of useful:\n",
    "* Interfaces: ADTs (lists, sets, maps, prority queues, etc.) and other stuff\n",
    "* Implementations: Concrete classes we can use\n",
    "\n",
    "![](images/collection2.png)\n",
    "\n",
    "Today, we'll learn the basic ideas behind the `TreeSet` and `TreeMap`"
   ]
  },
  {
   "cell_type": "code",
   "execution_count": null,
   "metadata": {},
   "outputs": [],
   "source": []
  }
 ],
 "metadata": {
  "kernelspec": {
   "display_name": "Python 3",
   "language": "python",
   "name": "python3"
  },
  "language_info": {
   "codemirror_mode": {
    "name": "ipython",
    "version": 3
   },
   "file_extension": ".py",
   "mimetype": "text/x-python",
   "name": "python",
   "nbconvert_exporter": "python",
   "pygments_lexer": "ipython3",
   "version": "3.7.5"
  }
 },
 "nbformat": 4,
 "nbformat_minor": 4
}
