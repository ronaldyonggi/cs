{
 "cells": [
  {
   "cell_type": "markdown",
   "metadata": {},
   "source": [
    "# BST Operations : Search"
   ]
  },
  {
   "cell_type": "markdown",
   "metadata": {},
   "source": [
    "## Finding a `searchKey` in a BST\n",
    "\n",
    "* If `searchKey` equals `T.key`, then return\n",
    "* If `searchKey < T.key`, search `T.left`\n",
    "* If `searchKey > T.key`, search `T.right`\n",
    "\n",
    "The pseudocode is as the following,"
   ]
  },
  {
   "cell_type": "code",
   "execution_count": null,
   "metadata": {},
   "outputs": [],
   "source": [
    "// T is the tree, sk is the searchkey\n",
    "static BST find(BST T, Key sk){\n",
    "    if (T == null) return null;\n",
    "    if (sk.equals(T.key)) return T;\n",
    "    else if (sk < T.key) return find(T.left, sk);\n",
    "    else return find(T.right, sk);\n",
    "}"
   ]
  },
  {
   "cell_type": "markdown",
   "metadata": {},
   "source": [
    "What is the runtime to complete a search on a \"bushy\" BST in the worst case, where `N` is the number of nodes?\n",
    "\n",
    "* $\\Theta(log N)$\n",
    "* $\\Theta(N)$\n",
    "* $\\Theta(N log N)$\n",
    "* $\\Theta(N^2)$\n",
    "* $\\Theta(2^N)$\n",
    "\n",
    "**Ans**: $\\Theta(log N)$\n",
    "\n",
    "![](images/runtime)\n",
    "\n",
    "For example above, if we have `N = 15`, we only need 3 layers to find the answer. The height of the tree is roughly ~$log_2 N$."
   ]
  },
  {
   "cell_type": "markdown",
   "metadata": {},
   "source": [
    "## BST\n",
    "\n",
    "Bushy BSTs are extremely fast\n",
    "\n",
    "Let's say we have a very slow computer, at 1 microsecond per operation. We can still find something from a tree of size $10^{300000}$ in one second.\n",
    "\n",
    "Most computation nowadays is dedicated towards finding things in response to queries. It's a good thing that we can do such queries almost for free."
   ]
  },
  {
   "cell_type": "markdown",
   "metadata": {},
   "source": []
  }
 ],
 "metadata": {
  "kernelspec": {
   "display_name": "Python 3",
   "language": "python",
   "name": "python3"
  },
  "language_info": {
   "codemirror_mode": {
    "name": "ipython",
    "version": 3
   },
   "file_extension": ".py",
   "mimetype": "text/x-python",
   "name": "python",
   "nbconvert_exporter": "python",
   "pygments_lexer": "ipython3",
   "version": "3.7.5"
  }
 },
 "nbformat": 4,
 "nbformat_minor": 4
}
