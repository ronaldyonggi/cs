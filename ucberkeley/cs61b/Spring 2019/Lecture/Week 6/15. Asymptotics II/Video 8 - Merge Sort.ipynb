{
 "cells": [
  {
   "cell_type": "markdown",
   "metadata": {},
   "source": [
    "## Using Merge to Speed Up the Sorting Process"
   ]
  },
  {
   "cell_type": "markdown",
   "metadata": {},
   "source": [
    "Merging can give us an improvement over vanilla selection sort.\n",
    "\n",
    "* Selection sort the left half: $\\Theta(N^2)$\n",
    "* Selection sort the right half: $\\Theta(N^2)$\n",
    "* Merge the results: $\\Theta(N)$\n",
    "\n",
    "If we have an array of size `N = 64`, we can split it to 2 arrays of size `N = 32` each to speed up the work! This way we split the raw overall runtime from 4096 AU to 1024 AU for each smaller array (a total of 2048 AU), + 64 AU for the merging operation.\n",
    "\n",
    "![](images/split.png)\n",
    "\n",
    "The runtime is still $\\Theta(N^2)$, but it's faster since\n",
    "\n",
    "$$ N+2 \\times (\\frac{N}{2})^2 < N^2$$"
   ]
  },
  {
   "cell_type": "markdown",
   "metadata": {},
   "source": [
    "## Two Merge Layers"
   ]
  },
  {
   "cell_type": "markdown",
   "metadata": {},
   "source": [
    "We can do even better by adding a second layer of merges.\n",
    "\n",
    "![](images/split2.png)\n",
    "\n",
    "With this, the runtime would be:\n",
    "* $4 \\times 256$ AU for each of the smaller arrays\n",
    "* $2 \\times 32$ AU for first layer of merging\n",
    "* 64 AU for the final merging\n",
    "\n",
    "A total of 1152 AU, compared to 4096 AU of whole array sorting!\n",
    "\n",
    "What about splitting all the way so that there's no sorting process left?"
   ]
  },
  {
   "cell_type": "markdown",
   "metadata": {},
   "source": [
    "## Example 5: Mergesort"
   ]
  },
  {
   "cell_type": "markdown",
   "metadata": {},
   "source": [
    "Mergesort merges all the way down so that there's no selection sort left. The logic is as the following:\n",
    "\n",
    "* If array size is 1, return.\n",
    "* `Mergesort` the left half: $\\Theta(??)$\n",
    "* `Mergesort` the right half: $\\Theta(??)$\n",
    "* Merge the results: $\\Theta(N)$.\n",
    "\n",
    "![](images/split3)\n",
    "\n",
    "* Top layer: ~64 AU\n",
    "* Second layer: ~32 $\\times$ 2 = 64 AU\n",
    "* Third layer: ~16 * 4 = 64 AU\n",
    "\n",
    "The runtime for each layer is 64 AU thus the overall runtime is $64k$ au, where `k` is the number of layers.\n",
    "* `k` = $log_2(64)$ = 6, so roughly about 384 AU in total"
   ]
  },
  {
   "cell_type": "markdown",
   "metadata": {},
   "source": [
    "## Example 5: Mergesort Order of Growth"
   ]
  },
  {
   "cell_type": "markdown",
   "metadata": {},
   "source": [
    "For an array of size `N`, what is the worst case runtime of `Mergesort`?\n",
    "\n",
    "![](images/split4)\n",
    "\n",
    "* Every layer takes ~`N` AU\n",
    "    * Top layer takes ~`N` AU\n",
    "    * Next layer takes $\\frac{N}{2} + \\frac{N}{2}$ = ~`N`\n",
    "    * One more layer down: $\\frac{N}{4} + \\frac{N}{4} + \\frac{N}{4} + \\frac{N}{4} $ = ~`N`\n",
    "* Total runtime is ~$Nk$, where `k` is the number of layers\n",
    "    * How many layers? Until we get to size 1\n",
    "    * `k` = $log_2(N)$\n",
    "\n",
    "Thus, overall runtime is $\\Theta(N log N)$"
   ]
  },
  {
   "cell_type": "markdown",
   "metadata": {},
   "source": [
    "## Linear vs. Linearithmic $(N log N)$ vs. Quadratic"
   ]
  },
  {
   "cell_type": "markdown",
   "metadata": {},
   "source": [
    "$N log N$ is basically as good as $N$, and is vastly better than $N^2$\n",
    "* For `N` = 1,000,000,000, the $log N$ is only 20\n",
    "\n",
    "![](images/running.png)"
   ]
  },
  {
   "cell_type": "code",
   "execution_count": null,
   "metadata": {},
   "outputs": [],
   "source": []
  }
 ],
 "metadata": {
  "kernelspec": {
   "display_name": "Python 3",
   "language": "python",
   "name": "python3"
  },
  "language_info": {
   "codemirror_mode": {
    "name": "ipython",
    "version": 3
   },
   "file_extension": ".py",
   "mimetype": "text/x-python",
   "name": "python",
   "nbconvert_exporter": "python",
   "pygments_lexer": "ipython3",
   "version": "3.7.4"
  }
 },
 "nbformat": 4,
 "nbformat_minor": 2
}
