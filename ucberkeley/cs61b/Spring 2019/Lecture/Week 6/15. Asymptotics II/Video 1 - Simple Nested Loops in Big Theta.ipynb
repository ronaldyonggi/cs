{
 "cells": [
  {
   "cell_type": "markdown",
   "metadata": {},
   "source": [
    "## Loops Example 1: Based on Exact Count"
   ]
  },
  {
   "cell_type": "markdown",
   "metadata": {},
   "source": [
    "Find the order of growth of the worst case runtime of `dup1`"
   ]
  },
  {
   "cell_type": "code",
   "execution_count": 1,
   "metadata": {},
   "outputs": [
    {
     "name": "stderr",
     "output_type": "stream",
     "text": [
      "'[]' is not recognized as an internal or external command,\n",
      "operable program or batch file.\n"
     ]
    }
   ],
   "source": [
    "int N = A.length;\n",
    "for (int i = 0; i < N; i += 1) {\n",
    "    for (int j = i + 1; j < N; j += 1) {\n",
    "        if (A[i] == A[j]) {\n",
    "            return true;\n",
    "        }\n",
    "    }\n",
    "}\n",
    "return false;"
   ]
  },
  {
   "cell_type": "markdown",
   "metadata": {},
   "source": [
    "Recall that first we choose the representative operation (a.k.a. cost function). Here we choose the `==` operation. For `N = 6`, we have the following 2D grids.\n",
    "\n",
    "![](images/boxes.png)"
   ]
  },
  {
   "cell_type": "markdown",
   "metadata": {},
   "source": [
    "Worst case how many times `==` operations were done:\n",
    "\n",
    "$$ C = 1 + 2 + 3 + ... + (N-3) + (N-2) + (N-1)$$\n",
    "$$ = \\frac{N(N-1)}{2}$$"
   ]
  },
  {
   "cell_type": "markdown",
   "metadata": {},
   "source": [
    "This indicates that the runtime belongs to the $N^2$ family. Thus overall worst case run time is $\\Theta(N^2)$\n",
    "\n",
    "Then we have another approach: `Simple Geometric Argument`."
   ]
  },
  {
   "cell_type": "markdown",
   "metadata": {},
   "source": [
    "## Loops Example 1: Simpler Geometric Argument"
   ]
  },
  {
   "cell_type": "markdown",
   "metadata": {},
   "source": [
    "We are still analyzing the `==` operation. Looking at the 2D grids,\n",
    "\n",
    "![](images/boxes.png)"
   ]
  },
  {
   "cell_type": "markdown",
   "metadata": {},
   "source": [
    "Given by area of right triangle of side length `N-1`, the area is:\n",
    "$$ \\frac{(N-1) \\times (N-1)}{2}$$"
   ]
  },
  {
   "cell_type": "markdown",
   "metadata": {},
   "source": [
    "We only care about the largest `N` terms and so the worst case runtime is $\\Theta(N^2)$"
   ]
  },
  {
   "cell_type": "markdown",
   "metadata": {},
   "source": []
  }
 ],
 "metadata": {
  "kernelspec": {
   "display_name": "Python 3",
   "language": "python",
   "name": "python3"
  },
  "language_info": {
   "codemirror_mode": {
    "name": "ipython",
    "version": 3
   },
   "file_extension": ".py",
   "mimetype": "text/x-python",
   "name": "python",
   "nbconvert_exporter": "python",
   "pygments_lexer": "ipython3",
   "version": "3.7.4"
  }
 },
 "nbformat": 4,
 "nbformat_minor": 4
}
