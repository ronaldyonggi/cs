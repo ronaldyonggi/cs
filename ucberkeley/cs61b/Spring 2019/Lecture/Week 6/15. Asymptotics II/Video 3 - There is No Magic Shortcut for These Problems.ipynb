{
 "cells": [
  {
   "cell_type": "markdown",
   "metadata": {},
   "source": [
    "## Repeat After Me"
   ]
  },
  {
   "cell_type": "markdown",
   "metadata": {},
   "source": [
    "There is no magic shortcut for these problems.\n",
    "* Runtime analysis often requires deep thought\n",
    "* CS70 and especially CS170 cover this in more details\n",
    "\n",
    "For the most part, we'll use analysis through the counting operations (how many of that operation occurs?).With this analysis, we'll often time ended up with sums. In this class, there are only 2 sums that we need to know:"
   ]
  },
  {
   "cell_type": "markdown",
   "metadata": {},
   "source": [
    "#### Sum of First Natural Numbers"
   ]
  },
  {
   "cell_type": "markdown",
   "metadata": {},
   "source": [
    "$$ 1 + 2 + 3 + ... + Q = \\frac{Q(Q+1)}{2} = \\Theta(Q^2)$$"
   ]
  },
  {
   "cell_type": "markdown",
   "metadata": {},
   "source": [
    "#### Sum of First Powers of 2 (where $Q$ is a power of 2)"
   ]
  },
  {
   "cell_type": "markdown",
   "metadata": {},
   "source": [
    "$$ 1 + 2 + 4 + 8 + ... + Q = 2Q - 1 = \\Theta(Q)$$"
   ]
  },
  {
   "cell_type": "markdown",
   "metadata": {},
   "source": [
    "In programming, one tiny statement in the middle of the code can change completely the runtime. Bottom line, runtime analysis requires deep thought!"
   ]
  },
  {
   "cell_type": "markdown",
   "metadata": {},
   "source": [
    "### General Strategies"
   ]
  },
  {
   "cell_type": "markdown",
   "metadata": {},
   "source": [
    "* Find exact sum\n",
    "* Write out examples\n",
    "* Draw pictures"
   ]
  },
  {
   "cell_type": "markdown",
   "metadata": {},
   "source": []
  }
 ],
 "metadata": {
  "kernelspec": {
   "display_name": "Python 3",
   "language": "python",
   "name": "python3"
  },
  "language_info": {
   "codemirror_mode": {
    "name": "ipython",
    "version": 3
   },
   "file_extension": ".py",
   "mimetype": "text/x-python",
   "name": "python",
   "nbconvert_exporter": "python",
   "pygments_lexer": "ipython3",
   "version": "3.7.4"
  }
 },
 "nbformat": 4,
 "nbformat_minor": 4
}
