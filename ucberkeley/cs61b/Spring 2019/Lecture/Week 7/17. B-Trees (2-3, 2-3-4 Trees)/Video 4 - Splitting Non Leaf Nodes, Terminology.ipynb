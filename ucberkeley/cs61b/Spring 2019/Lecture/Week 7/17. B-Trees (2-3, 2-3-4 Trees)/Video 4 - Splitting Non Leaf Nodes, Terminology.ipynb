{
 "cells": [
  {
   "cell_type": "markdown",
   "metadata": {},
   "source": [
    "## `add` - Chain Reaction\n",
    "\n",
    "![](images/chain.png)"
   ]
  },
  {
   "cell_type": "markdown",
   "metadata": {},
   "source": [
    "## What Happens If The Root Is Too Full?\n",
    "\n",
    "![](images/full1.png)"
   ]
  },
  {
   "cell_type": "markdown",
   "metadata": {},
   "source": [
    "## Perfect Balance\n",
    "\n",
    "![](images/balance.png)\n",
    "\n",
    "Observation: splitting-trees have perfect balance!\n",
    "* If we split the root, every node gets pushed down by exactly one leve\n",
    "* If we split a leaf node or internal node, the height doesn't change.\n",
    "\n",
    "Soon we'll prove that all operations have guaranteed $O(log N)$ time."
   ]
  },
  {
   "cell_type": "markdown",
   "metadata": {},
   "source": [
    "## The Real Name for Splitting Trees is \"B Trees\"\n",
    "\n",
    "Splitting tree is a better name, but we're not the ones inventing them, so we're stuck with their real name: **B-trees**.\n",
    "\n",
    "* B-trees of order `L = 3` (like we used in this lecture) are also called a `2-3-4 tree` or a `2-4 tree`.\n",
    "    * `2-3-4` refers to the number of children that a node can have\n",
    "        * e.g. `2-3-4 tree` node may havr 2, 3, or 4 children.\n",
    "* B-trees of order `L = 2` are also called a `2-3 tree`."
   ]
  },
  {
   "cell_type": "markdown",
   "metadata": {},
   "source": [
    "## A Note on Terminology"
   ]
  },
  {
   "cell_type": "markdown",
   "metadata": {},
   "source": [
    "B-Trees are most popular in 2 specific contexts:\n",
    "\n",
    "* Small `L` (`L = 2` or `L = 3`)\n",
    "    * Used as a conceptually simple balanced search tree (as today)\n",
    "* Very large `L` (e.g. thousands)\n",
    "    * Used in real application for databases and filesystems (e.g. systems with very large records)\n",
    "\n",
    "![](images/terminology.png)"
   ]
  },
  {
   "cell_type": "code",
   "execution_count": null,
   "metadata": {},
   "outputs": [],
   "source": []
  }
 ],
 "metadata": {
  "kernelspec": {
   "display_name": "Python 3",
   "language": "python",
   "name": "python3"
  },
  "language_info": {
   "codemirror_mode": {
    "name": "ipython",
    "version": 3
   },
   "file_extension": ".py",
   "mimetype": "text/x-python",
   "name": "python",
   "nbconvert_exporter": "python",
   "pygments_lexer": "ipython3",
   "version": "3.7.4"
  }
 },
 "nbformat": 4,
 "nbformat_minor": 2
}
