{
 "cells": [
  {
   "cell_type": "markdown",
   "metadata": {},
   "source": [
    "# Red-Black Trees"
   ]
  },
  {
   "cell_type": "markdown",
   "metadata": {},
   "source": [
    "## Search Trees\n",
    "\n",
    "There are many types of search trees:\n",
    "* Binary search trees\n",
    "    * Can balance using rotation, but we have no algorithm for doing so (yet)\n",
    "* `2-3 trees`\n",
    "    * Balanced by construction (e.g. no rotations required)\n",
    "    \n",
    "One clever implementation: build a BST that is structurally identical to a 2-3 tree\n",
    "* Since 2-3 trees are balanced, so will our special BSTs. "
   ]
  },
  {
   "cell_type": "markdown",
   "metadata": {},
   "source": [
    "## Representing a 2-3 Tree as a BST"
   ]
  },
  {
   "cell_type": "markdown",
   "metadata": {},
   "source": [
    "A `2-3 tree` with only 2-nodes is trivial\n",
    "* Recall that a 2 node tree is a 2-3 tree. It can only have 1 item.\n",
    "* BST is exactly the same!\n",
    "\n",
    "![](images/same.png)\n",
    "\n",
    "What about 3 nodes?\n",
    "* Recall that 3-nodes can have 2 items\n",
    "* How do we represent a tree with 3 nodes as a BST?\n",
    "\n",
    "![](images/3.png)"
   ]
  },
  {
   "cell_type": "markdown",
   "metadata": {},
   "source": [
    "## Representing a 2-3 Tree as a BST: Dealing with 3-Nodes\n",
    "\n",
    "##### Possibility 1: Create a dummy \"glue\" nodes\n",
    "* Everytime we have a 3 node, create a dummy node with the 2-elements node split as the children\n",
    "\n",
    "![](images/dummy.png)\n",
    "\n",
    "The problem is that the result is inelegant! The `d` has an unused empty spot at the right child, so we're wasting space.\n",
    "\n",
    "##### Possibility 2: Create \"glue\" links with the smaller item **off to the left**\n",
    "\n",
    "![](images/pos2.png)\n",
    "\n",
    "This idea is commonly used in practice (e.g. `java.util.TreeSet`)\n",
    "\n",
    "For convenience, we mark the glue links as red colored."
   ]
  },
  {
   "cell_type": "markdown",
   "metadata": {},
   "source": [
    "## Left-Leaning Red Black Binary Search Tree (LLRB)"
   ]
  },
  {
   "cell_type": "markdown",
   "metadata": {},
   "source": [
    "A BST with left glue links that represents a `2-3 tree` is often called a `Left Leaning Red Black Binary Search Tree` or `LLRB`.\n",
    "\n",
    "![](images/llrb.png)\n",
    "\n",
    "* LLRB are just normal BSTs\n",
    "* There is a 1-1 correspondence between an LLRB and an equivalent `2-3 tree`"
   ]
  },
  {
   "cell_type": "markdown",
   "metadata": {},
   "source": [
    "## Exercise\n",
    "\n",
    "The LLRB of the corresponding 2-3 tree shown below is as the following,\n",
    "\n",
    "![](images/exercise.png)"
   ]
  },
  {
   "cell_type": "markdown",
   "metadata": {},
   "source": []
  },
  {
   "cell_type": "code",
   "execution_count": null,
   "metadata": {},
   "outputs": [],
   "source": []
  }
 ],
 "metadata": {
  "kernelspec": {
   "display_name": "Python 3",
   "language": "python",
   "name": "python3"
  },
  "language_info": {
   "codemirror_mode": {
    "name": "ipython",
    "version": 3
   },
   "file_extension": ".py",
   "mimetype": "text/x-python",
   "name": "python",
   "nbconvert_exporter": "python",
   "pygments_lexer": "ipython3",
   "version": "3.7.4"
  }
 },
 "nbformat": 4,
 "nbformat_minor": 2
}
