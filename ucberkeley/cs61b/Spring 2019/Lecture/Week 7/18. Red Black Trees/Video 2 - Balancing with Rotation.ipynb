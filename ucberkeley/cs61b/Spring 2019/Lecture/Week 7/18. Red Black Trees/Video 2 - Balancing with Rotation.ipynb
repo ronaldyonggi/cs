{
 "cells": [
  {
   "cell_type": "markdown",
   "metadata": {},
   "source": [
    "## BSTs\n",
    "\n",
    "![](images/bst.png)\n",
    "\n",
    "Above, a sequence of rotation operations balances the tree on the left.\n",
    "\n",
    "1. `rotateRight(3)`\n",
    "    * Think of `3` and `2` being merged, then `3` being sent down to the right\n",
    "2. `rotateLeft(1)`\n",
    "    * Think of `1` and `2` being merged, then bring `1` down to the left\n",
    "    \n",
    "Note that this is not the only sequence to balance the tree!"
   ]
  },
  {
   "cell_type": "markdown",
   "metadata": {},
   "source": [
    "## Rotation for Balance\n",
    "\n",
    "Rotation:\n",
    "* Can shorten (or lengthen) a tree\n",
    "* Preserves search tree property\n",
    "\n",
    "![](images/balance.png)\n",
    "\n",
    "When we do `rotateRight(D)`,\n",
    "* `D` goes down to the right\n",
    "* `B`, the former left child, becomes the boss\n",
    "* The items that were `B`'s child becomes `D`'s child\n",
    "\n",
    "We can use rotation to balance a BST. Check this [demo](https://docs.google.com/presentation/d/1pfkQENfIBwiThGGFVO5xvlVp7XAUONI2BwBqYxib0A4/edit?usp=sharing)\n",
    "\n",
    "Rotation allows balancing of a BST in $O(N)$ moves; however, it's not ideal. Transforming the tree all the way from being ugly to being balanced is not efficient. "
   ]
  },
  {
   "cell_type": "code",
   "execution_count": null,
   "metadata": {},
   "outputs": [],
   "source": []
  }
 ],
 "metadata": {
  "kernelspec": {
   "display_name": "Python 3",
   "language": "python",
   "name": "python3"
  },
  "language_info": {
   "codemirror_mode": {
    "name": "ipython",
    "version": 3
   },
   "file_extension": ".py",
   "mimetype": "text/x-python",
   "name": "python",
   "nbconvert_exporter": "python",
   "pygments_lexer": "ipython3",
   "version": "3.7.4"
  }
 },
 "nbformat": 4,
 "nbformat_minor": 2
}
