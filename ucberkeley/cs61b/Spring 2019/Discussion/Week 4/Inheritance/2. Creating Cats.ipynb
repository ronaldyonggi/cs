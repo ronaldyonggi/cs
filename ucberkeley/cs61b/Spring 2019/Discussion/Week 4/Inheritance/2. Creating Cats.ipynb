{
 "cells": [
  {
   "cell_type": "markdown",
   "metadata": {},
   "source": [
    "## 2.1\n",
    "Given the `Animal` class, fill in the definition of the `Cat` class so that when `greet()` is called,"
   ]
  },
  {
   "cell_type": "code",
   "execution_count": null,
   "metadata": {},
   "outputs": [],
   "source": [
    "\"Cat says: Meow!\""
   ]
  },
  {
   "cell_type": "markdown",
   "metadata": {},
   "source": [
    "....is printed instead of "
   ]
  },
  {
   "cell_type": "code",
   "execution_count": null,
   "metadata": {},
   "outputs": [],
   "source": [
    "\"Animal says: Huh?\""
   ]
  },
  {
   "cell_type": "markdown",
   "metadata": {},
   "source": [
    "Cats less than the age of 5 can say"
   ]
  },
  {
   "cell_type": "code",
   "execution_count": null,
   "metadata": {},
   "outputs": [],
   "source": [
    "\"MEOW!\""
   ]
  },
  {
   "cell_type": "markdown",
   "metadata": {},
   "source": [
    "...instead of,"
   ]
  },
  {
   "cell_type": "markdown",
   "metadata": {},
   "source": [
    "\"Meow!\""
   ]
  },
  {
   "cell_type": "markdown",
   "metadata": {},
   "source": [
    "#### Implementation"
   ]
  },
  {
   "cell_type": "markdown",
   "metadata": {},
   "source": [
    "Since `Cat` is a hyponym of an `Animal`, it also has the instance variables `name`, `noise`, and `age`.\n",
    "\n",
    "In the beginning, we want to instantiate a `Cat`. Therefore, we should write a constructor for the `Cat` class. We might be tempted to just copy the contents of the `Animal` constructor like the following"
   ]
  },
  {
   "cell_type": "code",
   "execution_count": null,
   "metadata": {},
   "outputs": [],
   "source": [
    "public Cat (String name, int age) {\n",
    "    this.name = name;\n",
    "    this.age = age;\n",
    "    this.noise = \"Meow!\";\n",
    "}"
   ]
  },
  {
   "cell_type": "markdown",
   "metadata": {},
   "source": [
    "However, if we try to run the code this way, we'll obtain an error!\n",
    "\n",
    "<img src = 'error.png' width = 500/>"
   ]
  },
  {
   "cell_type": "markdown",
   "metadata": {},
   "source": [
    "This is because we are trying to access `Animal`'s attribute without having an `Animal` at all! Thus the `name` and the `age` we provided goes nowhere.\n",
    "\n",
    "Instead, we use the `Animal`'s constructor via `super` keyword,"
   ]
  },
  {
   "cell_type": "code",
   "execution_count": null,
   "metadata": {},
   "outputs": [],
   "source": [
    "public Cat(String name, int age) {\n",
    "    super(name, age);\n",
    "    this.noise = \"Meow!\";\n",
    "}"
   ]
  },
  {
   "cell_type": "markdown",
   "metadata": {},
   "source": [
    "And finally, override the `greet()` method so that instead of starting with `\"Animal...\"`, we start with `\"Cat...\"`."
   ]
  },
  {
   "cell_type": "code",
   "execution_count": null,
   "metadata": {},
   "outputs": [],
   "source": [
    "@Override\n",
    "public void greet(){\n",
    "    System.out.println(\"Cat \" + name + \" says: \" + makeNoise());\n",
    "}"
   ]
  },
  {
   "cell_type": "markdown",
   "metadata": {},
   "source": [
    "The implementation looks like the following,"
   ]
  },
  {
   "cell_type": "code",
   "execution_count": null,
   "metadata": {},
   "outputs": [],
   "source": [
    "public class Cat extends Animal{\n",
    "    public Cat (String name, int age) {\n",
    "        super\n",
    "        this.noise = \"Meow!\";\n",
    "    }\n",
    "\n",
    "    @Override\n",
    "    public void greet() {\n",
    "        System.out.println(\"Cat \" + name + \" says: \" + makeNoise());\n",
    "    }\n",
    "}\n"
   ]
  },
  {
   "cell_type": "markdown",
   "metadata": {},
   "source": [
    "Sinc e"
   ]
  }
 ],
 "metadata": {
  "kernelspec": {
   "display_name": "Python 3",
   "language": "python",
   "name": "python3"
  },
  "language_info": {
   "codemirror_mode": {
    "name": "ipython",
    "version": 3
   },
   "file_extension": ".py",
   "mimetype": "text/x-python",
   "name": "python",
   "nbconvert_exporter": "python",
   "pygments_lexer": "ipython3",
   "version": "3.7.3"
  }
 },
 "nbformat": 4,
 "nbformat_minor": 4
}
