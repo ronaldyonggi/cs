{
 "cells": [
  {
   "cell_type": "code",
   "execution_count": 9,
   "metadata": {},
   "outputs": [],
   "source": [
    "%load_ext tutormagic"
   ]
  },
  {
   "cell_type": "markdown",
   "metadata": {},
   "source": [
    "# What Would Python do (Without Lists) 1\n",
    "For each of the expressions in the table below, write the output displayed by the interactive Python interpreter when the expression is evaluated. The output may have multiple lines. If an error occurs, write `Error`.\n",
    "\n",
    "Assume that we have started `python3` and executed the following statements:"
   ]
  },
  {
   "cell_type": "code",
   "execution_count": 5,
   "metadata": {},
   "outputs": [],
   "source": [
    "def jazz(hands):\n",
    "    if hands < out:\n",
    "        return hands * 5\n",
    "    else:\n",
    "        return jazz(hands // 2) + 1\n",
    "    \n",
    "def twist(shout, it, out = 7):\n",
    "    while shout:\n",
    "        shout, out = it(shout), print(shout, out)\n",
    "    return lambda out: print(shout, out)\n",
    "\n",
    "hands, out = 2, 3"
   ]
  },
  {
   "cell_type": "markdown",
   "metadata": {},
   "source": [
    "# ============="
   ]
  },
  {
   "cell_type": "code",
   "execution_count": 1,
   "metadata": {},
   "outputs": [
    {
     "data": {
      "text/plain": [
       "8"
      ]
     },
     "execution_count": 1,
     "metadata": {},
     "output_type": "execute_result"
    }
   ],
   "source": [
    "pow(2, 3)\n",
    "# Ans: 8"
   ]
  },
  {
   "cell_type": "markdown",
   "metadata": {},
   "source": [
    "# ============="
   ]
  },
  {
   "cell_type": "code",
   "execution_count": 2,
   "metadata": {},
   "outputs": [
    {
     "name": "stdout",
     "output_type": "stream",
     "text": [
      "4 5\n"
     ]
    },
    {
     "ename": "TypeError",
     "evalue": "unsupported operand type(s) for +: 'NoneType' and 'int'",
     "output_type": "error",
     "traceback": [
      "\u001b[1;31m---------------------------------------------------------------------------\u001b[0m",
      "\u001b[1;31mTypeError\u001b[0m                                 Traceback (most recent call last)",
      "\u001b[1;32m<ipython-input-2-ed82ddd2d205>\u001b[0m in \u001b[0;36m<module>\u001b[1;34m\u001b[0m\n\u001b[1;32m----> 1\u001b[1;33m \u001b[0mprint\u001b[0m\u001b[1;33m(\u001b[0m\u001b[1;36m4\u001b[0m\u001b[1;33m,\u001b[0m \u001b[1;36m5\u001b[0m\u001b[1;33m)\u001b[0m \u001b[1;33m+\u001b[0m \u001b[1;36m1\u001b[0m\u001b[1;33m\u001b[0m\u001b[1;33m\u001b[0m\u001b[0m\n\u001b[0m\u001b[0;32m      2\u001b[0m \u001b[1;31m# Error\u001b[0m\u001b[1;33m\u001b[0m\u001b[1;33m\u001b[0m\u001b[1;33m\u001b[0m\u001b[0m\n",
      "\u001b[1;31mTypeError\u001b[0m: unsupported operand type(s) for +: 'NoneType' and 'int'"
     ]
    }
   ],
   "source": [
    "print(4, 5) + 1\n",
    "# Ans:\n",
    "# 4 5\n",
    "# Error"
   ]
  },
  {
   "cell_type": "markdown",
   "metadata": {},
   "source": [
    "Above, Python executes the `print` first, then Python tries to `+` the `print` statement and `1`, which would give out an error!"
   ]
  },
  {
   "cell_type": "markdown",
   "metadata": {},
   "source": [
    "# ============="
   ]
  },
  {
   "cell_type": "code",
   "execution_count": 3,
   "metadata": {},
   "outputs": [
    {
     "name": "stdout",
     "output_type": "stream",
     "text": [
      "None\n",
      "None None\n"
     ]
    }
   ],
   "source": [
    "print(None, print(None))\n",
    "# Ans:\n",
    "# None\n",
    "# None None"
   ]
  },
  {
   "cell_type": "markdown",
   "metadata": {},
   "source": [
    "Above,\n",
    "\n",
    "1. Python executes the `print(None)` within the brackets, printing `None`\n",
    "2. The `print(None)` then evaluates to `None`\n",
    "3. Now we're left with `print(None, None)`, which prints `None None`"
   ]
  },
  {
   "cell_type": "markdown",
   "metadata": {},
   "source": [
    "# ============="
   ]
  },
  {
   "cell_type": "code",
   "execution_count": 6,
   "metadata": {},
   "outputs": [
    {
     "data": {
      "text/plain": [
       "11"
      ]
     },
     "execution_count": 6,
     "metadata": {},
     "output_type": "execute_result"
    }
   ],
   "source": [
    "jazz(5)\n",
    "# Ans: 11"
   ]
  },
  {
   "cell_type": "markdown",
   "metadata": {},
   "source": [
    "Above, first we execute `return jazz(5 // 2) + 1`. This would return `jazz(2) + 1`\n",
    "\n",
    "Then, `jazz(2)` would return `2 * 5` = `10`\n",
    "\n",
    "Thus, the return value would be `10 + 1` = `11`"
   ]
  },
  {
   "cell_type": "markdown",
   "metadata": {},
   "source": [
    "# ============="
   ]
  },
  {
   "cell_type": "code",
   "execution_count": 7,
   "metadata": {},
   "outputs": [
    {
     "data": {
      "text/plain": [
       "12"
      ]
     },
     "execution_count": 7,
     "metadata": {},
     "output_type": "execute_result"
    }
   ],
   "source": [
    "(lambda out: jazz(8))(9)"
   ]
  },
  {
   "cell_type": "markdown",
   "metadata": {},
   "source": [
    "Above, the `out` and `9` doesn't matter. The lambda function executes `jazz(8)` anyway."
   ]
  },
  {
   "cell_type": "markdown",
   "metadata": {},
   "source": [
    "# ============="
   ]
  },
  {
   "cell_type": "code",
   "execution_count": 10,
   "metadata": {},
   "outputs": [
    {
     "name": "stdout",
     "output_type": "stream",
     "text": [
      "2 7\n",
      "0 4\n"
     ]
    }
   ],
   "source": [
    "twist(2, lambda x: x-2)(4)\n",
    "#Ans:\n",
    "# 2 7\n",
    "# 0 4"
   ]
  },
  {
   "cell_type": "markdown",
   "metadata": {},
   "source": [
    "Recall that the `twist` function is as the following,"
   ]
  },
  {
   "cell_type": "code",
   "execution_count": null,
   "metadata": {},
   "outputs": [],
   "source": [
    "def twist(shout, it, out = 7):\n",
    "    while shout:\n",
    "        shout, out = it(shout), print(shout, out)\n",
    "    return lambda out: print(shout, out)\n",
    "\n",
    "hands, out = 2, 3"
   ]
  },
  {
   "cell_type": "markdown",
   "metadata": {},
   "source": [
    "At first, Python checks the condition for the `while` loop: `shout` is `2`, so it runs the `while` loop.\n",
    "\n",
    "Within the `while` loop, `shout, out` = `2-2`, `print(2, 7)`\n",
    "* First, it prints \"2 7\"\n",
    "* Then it reassigns `shout` to be `0`\n",
    "\n",
    "Then Python goes back to checking the condition for `while` loop. Now that `shout` is `0`, Python skips the `while` loop.\n",
    "\n",
    "The body of the `twist` function returns a `lambda out` function where it `print(shout, out)`. At this point, `shout` is `0`, while we don't know what `out` is. However, recall that we called `twist(2, lambda x: x-2)(4)`. This means we give the argument `4` for the `out` within `lambda out` function. Thus, it `print(0, 4)`."
   ]
  },
  {
   "cell_type": "markdown",
   "metadata": {},
   "source": [
    "# ============="
   ]
  },
  {
   "cell_type": "code",
   "execution_count": 14,
   "metadata": {},
   "outputs": [
    {
     "name": "stdout",
     "output_type": "stream",
     "text": [
      "5\n",
      "5 7\n",
      "None 3\n"
     ]
    }
   ],
   "source": [
    "twist(5, print)(out)\n",
    "# 1. shout, out = print(5), print(5, 7)\n",
    "# 2. shout evaluates to None\n",
    "# 3. Executes the lambda out function: print(None, 3)\n",
    "\n",
    "# Ans:\n",
    "# 5\n",
    "# 5 7\n",
    "# None 3"
   ]
  },
  {
   "cell_type": "markdown",
   "metadata": {},
   "source": [
    "# ============="
   ]
  },
  {
   "cell_type": "code",
   "execution_count": 16,
   "metadata": {},
   "outputs": [
    {
     "name": "stdout",
     "output_type": "stream",
     "text": [
      "6 2\n",
      "3 None\n",
      "0 -1\n"
     ]
    }
   ],
   "source": [
    "twist(6, lambda hands: hands-out, 2)(-1)\n",
    "# Note that the \"out\" in lambda hands function refers to 3 that is stated \n",
    "#   at the end of the function\n",
    "\n",
    "# 1. shout, out = 6-3, print(6, 2)\n",
    "#   shout becomes 3, prints \"6 2\", then out becomes None\n",
    "\n",
    "#2. shout, out = 3-3, print(3, None)\n",
    "#    shout becomes 0, prints \"3 None\", then out becomes None again\n",
    "\n",
    "#3. Executing lambda out: print(0, -1)\n",
    "\n",
    "#Thus, Ans is:\n",
    "# 6 2\n",
    "# 3 None\n",
    "# 0 -1"
   ]
  },
  {
   "cell_type": "code",
   "execution_count": null,
   "metadata": {},
   "outputs": [],
   "source": [
    "def twist(shout, it, out = 7):\n",
    "    while shout:\n",
    "        shout, out = it(shout), print(shout, out)\n",
    "    return lambda out: print(shout, out)\n",
    "\n",
    "hands, out = 2, 3"
   ]
  },
  {
   "cell_type": "markdown",
   "metadata": {},
   "source": [
    "# Environment Diagram (Without Lists) #1\n",
    "Fill in the environment diagram that results from executing the code below until the entire program is finished, an error occurs, or all frames are filled. **You may not need to use all of the spaces or frames.** A complete answer will:\n",
    "\n",
    "1. Add all missing names and parent annotations to all local frames\n",
    "2. Add all missing values created or referenced during execution\n",
    "3. Show the return value for each local frame."
   ]
  },
  {
   "cell_type": "code",
   "execution_count": 4,
   "metadata": {},
   "outputs": [
    {
     "data": {
      "text/html": [
       "\n",
       "        <iframe\n",
       "            width=\"100%\"\n",
       "            height=\"350\"\n",
       "            src=\"http://pythontutor.com/iframe-embed.html#code=def%20the%28donald%29%3A%0A%20%20%20%20return%20donald%20%2B%205%0A%0Adef%20clin%28ton%29%3A%0A%20%20%20%20def%20the%28race%29%3A%0A%20%20%20%20%20%20%20%20return%20donald%20%2B%206%0A%20%20%20%20def%20ton%28ga%29%3A%0A%20%20%20%20%20%20%20%20donald%20%3D%20ga-1%0A%20%20%20%20%20%20%20%20return%20the%284%29%20-%203%0A%20%20%20%20return%20ton%0A%0Adonald%2C%20duck%20%3D%202%2C%20clin%28the%29%0Aduck%20%3D%20duck%288%29%0A&origin=opt-frontend.js&cumulative=false&heapPrimitives=false&textReferences=false&curInstr=0&&verticalStack=false&py=3&rawInputLstJSON=%5B%5D&codeDivWidth=50%25&codeDivHeight=100%25\"\n",
       "            frameborder=\"0\"\n",
       "            allowfullscreen\n",
       "        ></iframe>\n",
       "        "
      ],
      "text/plain": [
       "<IPython.lib.display.IFrame at 0x645f6b0>"
      ]
     },
     "metadata": {},
     "output_type": "display_data"
    }
   ],
   "source": [
    "%%tutor --lang python3\n",
    "def the(donald):\n",
    "    return donald + 5\n",
    "\n",
    "def clin(ton):\n",
    "    def the(race):\n",
    "        return donald + 6\n",
    "    def ton(ga):\n",
    "        donald = ga-1\n",
    "        return the(4) - 3\n",
    "    return ton\n",
    "\n",
    "donald, duck = 2, clin(the)\n",
    "duck = duck(8)"
   ]
  },
  {
   "cell_type": "markdown",
   "metadata": {},
   "source": [
    "# Environment Diagram (Without Lists) #2\n",
    "Fill in the environment diagram that results from executing the code below until the entire program is finished, an error occurs, or all frames are filled. **You may not need to use all of the spaces or frames.** A complete answer will:\n",
    "\n",
    "1. Add all missing names and parent annotations to all local frames\n",
    "2. Add all missing values created or referenced during execution\n",
    "3. Add all missing parents of function values\n",
    "4. Show the return value for each local frame."
   ]
  },
  {
   "cell_type": "code",
   "execution_count": 5,
   "metadata": {},
   "outputs": [
    {
     "data": {
      "text/html": [
       "\n",
       "        <iframe\n",
       "            width=\"100%\"\n",
       "            height=\"350\"\n",
       "            src=\"http://pythontutor.com/iframe-embed.html#code=def%20inside%28out%29%3A%0A%20%20%20%20anger%20%3D%20lambda%20fear%3A%20fear%28disgust%29%0A%20%20%20%20fear%20%3D%20lambda%20disgust%3A%20anger%28out%29%0A%20%20%20%20disgust%20%3D%203%0A%20%20%20%20fear%285%29%0A%20%20%20%20%0Afear%2C%20disgust%20%3D%202%2C%204%0Ainside%28lambda%20fear%3A%20fear%20%2B%20disgust%29%0A&origin=opt-frontend.js&cumulative=false&heapPrimitives=false&textReferences=false&curInstr=0&&verticalStack=false&py=3&rawInputLstJSON=%5B%5D&codeDivWidth=50%25&codeDivHeight=100%25\"\n",
       "            frameborder=\"0\"\n",
       "            allowfullscreen\n",
       "        ></iframe>\n",
       "        "
      ],
      "text/plain": [
       "<IPython.lib.display.IFrame at 0x645fc10>"
      ]
     },
     "metadata": {},
     "output_type": "display_data"
    }
   ],
   "source": [
    "%%tutor --lang python3\n",
    "def inside(out):\n",
    "    anger = lambda fear: fear(disgust)\n",
    "    fear = lambda disgust: anger(out)\n",
    "    disgust = 3\n",
    "    fear(5)\n",
    "    \n",
    "fear, disgust = 2, 4\n",
    "inside(lambda fear: fear + disgust)"
   ]
  },
  {
   "cell_type": "markdown",
   "metadata": {},
   "source": [
    "# Non-Recursive Fill-In (Without Lists) #1\n",
    "(a) Implement the `longest_increasing_suffix` function, which returns the longest suffix (end) of a positive integer that consists of strictly increasing digits."
   ]
  },
  {
   "cell_type": "code",
   "execution_count": null,
   "metadata": {},
   "outputs": [],
   "source": [
    ">>> longest_increasing_suffix(63134)\n",
    "134\n",
    ">>> longest_increasing_suffix(233)\n",
    "3\n",
    ">>> longest_increasing_suffix(5689)\n",
    "5689\n",
    ">>> longest_increasing_suffix(568901) # 01 is the suffix, displayed as 1\n",
    "1"
   ]
  },
  {
   "cell_type": "code",
   "execution_count": 6,
   "metadata": {},
   "outputs": [
    {
     "data": {
      "text/plain": [
       "3454"
      ]
     },
     "execution_count": 6,
     "metadata": {},
     "output_type": "execute_result"
    }
   ],
   "source": [
    "34543 // 10"
   ]
  },
  {
   "cell_type": "code",
   "execution_count": 13,
   "metadata": {},
   "outputs": [],
   "source": [
    "def longest_increasing_suffix(n):\n",
    "    m, suffix, k = 10, 0, 1\n",
    "    while n:\n",
    "        n , last = n // 10, n % 10\n",
    "        if m > last:\n",
    "            m, suffix, k = last, suffix + last * k, 10 * k\n",
    "        else:\n",
    "            return suffix\n",
    "    return suffix"
   ]
  },
  {
   "cell_type": "markdown",
   "metadata": {},
   "source": [
    "Above, \n",
    "\n",
    "* `suffix` is the total that we have so far.\n",
    "* `m` is going to be the previous number that will be compared to the currently selected number.\n",
    "    * In the beginning, we take the first digit anyway so we just use `10` as the initial `m`\n",
    "* `k` is the multipler that will be used for adding numbers into the `suffix`\n",
    "    * Notice that for every cycle of `while` loop, `k` is multiplied by `10`\n",
    "        * As we add more numbers to `suffix` (to the left side of the digit), we multiply by `10`."
   ]
  },
  {
   "cell_type": "code",
   "execution_count": 14,
   "metadata": {},
   "outputs": [
    {
     "data": {
      "text/plain": [
       "134"
      ]
     },
     "execution_count": 14,
     "metadata": {},
     "output_type": "execute_result"
    }
   ],
   "source": [
    "longest_increasing_suffix(63134)"
   ]
  },
  {
   "cell_type": "code",
   "execution_count": 15,
   "metadata": {},
   "outputs": [
    {
     "data": {
      "text/plain": [
       "1"
      ]
     },
     "execution_count": 15,
     "metadata": {},
     "output_type": "execute_result"
    }
   ],
   "source": [
    "longest_increasing_suffix(568901)"
   ]
  },
  {
   "cell_type": "code",
   "execution_count": 16,
   "metadata": {},
   "outputs": [
    {
     "data": {
      "text/plain": [
       "3"
      ]
     },
     "execution_count": 16,
     "metadata": {},
     "output_type": "execute_result"
    }
   ],
   "source": [
    "longest_increasing_suffix(233)"
   ]
  },
  {
   "cell_type": "markdown",
   "metadata": {},
   "source": [
    "# Non-Recursive Fill-In (Without Lists) #2\n",
    "(b) Return `True` if `n` contains a sandwich and `False` otherwise"
   ]
  },
  {
   "cell_type": "code",
   "execution_count": 42,
   "metadata": {},
   "outputs": [
    {
     "data": {
      "text/plain": [
       "False"
      ]
     },
     "execution_count": 42,
     "metadata": {},
     "output_type": "execute_result"
    }
   ],
   "source": [
    ">>> sandwich(416263) # 626\n",
    "True\n",
    ">>> sandwich(5050) # 505 or 050\n",
    "True\n",
    ">>> sandwich(4441) # 444\n",
    "True\n",
    ">>> sandwich(1231)\n",
    "False\n",
    ">>> sandwich(55)\n",
    "False\n",
    ">>> sandwich(4456)\n",
    "False"
   ]
  },
  {
   "cell_type": "code",
   "execution_count": 35,
   "metadata": {},
   "outputs": [],
   "source": [
    "def sandwich(n):\n",
    "    tens, ones = n // 10 % 10, n % 10\n",
    "    n = n // 100\n",
    "    while n > 10:\n",
    "        if ones == n % 10:\n",
    "            return True\n",
    "        else:\n",
    "            tens, ones = n % 10, tens\n",
    "            n = n // 10\n",
    "    return False"
   ]
  },
  {
   "cell_type": "code",
   "execution_count": 38,
   "metadata": {},
   "outputs": [
    {
     "data": {
      "text/plain": [
       "True"
      ]
     },
     "execution_count": 38,
     "metadata": {},
     "output_type": "execute_result"
    }
   ],
   "source": [
    "sandwich(416263)"
   ]
  },
  {
   "cell_type": "code",
   "execution_count": 39,
   "metadata": {},
   "outputs": [
    {
     "data": {
      "text/plain": [
       "True"
      ]
     },
     "execution_count": 39,
     "metadata": {},
     "output_type": "execute_result"
    }
   ],
   "source": [
    "sandwich(5050)"
   ]
  },
  {
   "cell_type": "code",
   "execution_count": 40,
   "metadata": {},
   "outputs": [
    {
     "data": {
      "text/plain": [
       "False"
      ]
     },
     "execution_count": 40,
     "metadata": {},
     "output_type": "execute_result"
    }
   ],
   "source": [
    "sandwich(1231)"
   ]
  },
  {
   "cell_type": "markdown",
   "metadata": {},
   "source": [
    "Above, notice that the initiation of `tens`, `ones` and `n` are different compared to when we re-set their values within the `while` loop. "
   ]
  },
  {
   "cell_type": "markdown",
   "metadata": {},
   "source": [
    "# Non-Recursive Fill-In (Without Lists) #3\n",
    "(c) Implement `luhn_sum`. The **Luhn Sum** of a non-negative integer `n` adds the sum of each digit in an **even** position to the sum of doubling each digit in an **odd** position. If doubling an odd digit results in a two-digit number, those two-digits are summed to form a single digit. **You may not use recursive calls or call `find_digit` in your solution.**"
   ]
  },
  {
   "cell_type": "code",
   "execution_count": 44,
   "metadata": {},
   "outputs": [
    {
     "data": {
      "text/plain": [
       "30"
      ]
     },
     "execution_count": 44,
     "metadata": {},
     "output_type": "execute_result"
    }
   ],
   "source": [
    ">>> luhn_sum(135) # 1 + 6 + 5\n",
    "12\n",
    ">>> luhn_sum(185) # 1 + (1 + 6) + 5\n",
    "13\n",
    ">>> luhn_sum(138743) # From lecture: 2 + 3 + (1 + 6) + 7 + 8 + 3\n",
    "30"
   ]
  },
  {
   "cell_type": "code",
   "execution_count": 18,
   "metadata": {},
   "outputs": [],
   "source": [
    "def luhn_sum(n):\n",
    "    \n",
    "    def luhn_digit(digit):\n",
    "        x = digit * multiplier\n",
    "        return (x // 10) + (x % 10)\n",
    "    \n",
    "    total, multiplier = 0, 1\n",
    "    while n:\n",
    "        n, last = n // 10, n % 10\n",
    "        total = total + luhn_digit(last)\n",
    "        multiplier = 3 - multiplier\n",
    "    return total"
   ]
  },
  {
   "cell_type": "code",
   "execution_count": 19,
   "metadata": {},
   "outputs": [
    {
     "data": {
      "text/plain": [
       "12"
      ]
     },
     "execution_count": 19,
     "metadata": {},
     "output_type": "execute_result"
    }
   ],
   "source": [
    "luhn_sum(135)"
   ]
  },
  {
   "cell_type": "code",
   "execution_count": 20,
   "metadata": {},
   "outputs": [
    {
     "data": {
      "text/plain": [
       "30"
      ]
     },
     "execution_count": 20,
     "metadata": {},
     "output_type": "execute_result"
    }
   ],
   "source": [
    "luhn_sum(138743)"
   ]
  },
  {
   "cell_type": "code",
   "execution_count": null,
   "metadata": {},
   "outputs": [],
   "source": []
  }
 ],
 "metadata": {
  "celltoolbar": "Visualize",
  "kernelspec": {
   "display_name": "Python 3",
   "language": "python",
   "name": "python3"
  },
  "language_info": {
   "codemirror_mode": {
    "name": "ipython",
    "version": 3
   },
   "file_extension": ".py",
   "mimetype": "text/x-python",
   "name": "python",
   "nbconvert_exporter": "python",
   "pygments_lexer": "ipython3",
   "version": "3.7.2"
  }
 },
 "nbformat": 4,
 "nbformat_minor": 2
}
