{
 "cells": [
  {
   "cell_type": "code",
   "execution_count": 1,
   "metadata": {},
   "outputs": [],
   "source": [
    "%load_ext tutormagic"
   ]
  },
  {
   "cell_type": "markdown",
   "metadata": {},
   "source": [
    "# What Would Python do (Without Lists) 1\n",
    "For each of the expressions in the table below, write the output displayed by the interactive Python interpreter when the expression is evaluated. The output may have multiple lines. If an error occurs, write `Error`.\n",
    "\n",
    "Assume that we have started `python3` and executed the following statements:"
   ]
  },
  {
   "cell_type": "code",
   "execution_count": 5,
   "metadata": {},
   "outputs": [],
   "source": [
    "def jazz(hands):\n",
    "    if hands < out:\n",
    "        return hands * 5\n",
    "    else:\n",
    "        return jazz(hands // 2) + 1\n",
    "    \n",
    "def twist(shout, it, out = 7):\n",
    "    while shout:\n",
    "        shout, out = it(shout), print(shout, out)\n",
    "    return lambda out: print(shout, out)\n",
    "\n",
    "hands, out = 2, 3"
   ]
  },
  {
   "cell_type": "markdown",
   "metadata": {},
   "source": [
    "# ============="
   ]
  },
  {
   "cell_type": "code",
   "execution_count": 1,
   "metadata": {},
   "outputs": [
    {
     "data": {
      "text/plain": [
       "8"
      ]
     },
     "execution_count": 1,
     "metadata": {},
     "output_type": "execute_result"
    }
   ],
   "source": [
    "pow(2, 3)\n",
    "# Ans: 8"
   ]
  },
  {
   "cell_type": "markdown",
   "metadata": {},
   "source": [
    "# ============="
   ]
  },
  {
   "cell_type": "code",
   "execution_count": 2,
   "metadata": {},
   "outputs": [
    {
     "name": "stdout",
     "output_type": "stream",
     "text": [
      "4 5\n"
     ]
    },
    {
     "ename": "TypeError",
     "evalue": "unsupported operand type(s) for +: 'NoneType' and 'int'",
     "output_type": "error",
     "traceback": [
      "\u001b[1;31m---------------------------------------------------------------------------\u001b[0m",
      "\u001b[1;31mTypeError\u001b[0m                                 Traceback (most recent call last)",
      "\u001b[1;32m<ipython-input-2-ed82ddd2d205>\u001b[0m in \u001b[0;36m<module>\u001b[1;34m\u001b[0m\n\u001b[1;32m----> 1\u001b[1;33m \u001b[0mprint\u001b[0m\u001b[1;33m(\u001b[0m\u001b[1;36m4\u001b[0m\u001b[1;33m,\u001b[0m \u001b[1;36m5\u001b[0m\u001b[1;33m)\u001b[0m \u001b[1;33m+\u001b[0m \u001b[1;36m1\u001b[0m\u001b[1;33m\u001b[0m\u001b[1;33m\u001b[0m\u001b[0m\n\u001b[0m\u001b[0;32m      2\u001b[0m \u001b[1;31m# Error\u001b[0m\u001b[1;33m\u001b[0m\u001b[1;33m\u001b[0m\u001b[1;33m\u001b[0m\u001b[0m\n",
      "\u001b[1;31mTypeError\u001b[0m: unsupported operand type(s) for +: 'NoneType' and 'int'"
     ]
    }
   ],
   "source": [
    "print(4, 5) + 1\n",
    "# Ans:\n",
    "# 4 5\n",
    "# Error"
   ]
  },
  {
   "cell_type": "markdown",
   "metadata": {},
   "source": [
    "Above, Python executes the `print` first, then Python tries to `+` the `print` statement and `1`, which would give out an error!"
   ]
  },
  {
   "cell_type": "markdown",
   "metadata": {},
   "source": [
    "# ============="
   ]
  },
  {
   "cell_type": "code",
   "execution_count": 3,
   "metadata": {},
   "outputs": [
    {
     "name": "stdout",
     "output_type": "stream",
     "text": [
      "None\n",
      "None None\n"
     ]
    }
   ],
   "source": [
    "print(None, print(None))\n",
    "# Ans:\n",
    "# None\n",
    "# None None"
   ]
  },
  {
   "cell_type": "markdown",
   "metadata": {},
   "source": [
    "Above,\n",
    "\n",
    "1. Python executes the `print(None)` within the brackets, printing `None`\n",
    "2. The `print(None)` then evaluates to `None`\n",
    "3. Now we're left with `print(None, None)`, which prints `None None`"
   ]
  },
  {
   "cell_type": "markdown",
   "metadata": {},
   "source": [
    "# ============="
   ]
  },
  {
   "cell_type": "code",
   "execution_count": 6,
   "metadata": {},
   "outputs": [
    {
     "data": {
      "text/plain": [
       "11"
      ]
     },
     "execution_count": 6,
     "metadata": {},
     "output_type": "execute_result"
    }
   ],
   "source": [
    "jazz(5)\n",
    "# Ans: 11"
   ]
  },
  {
   "cell_type": "markdown",
   "metadata": {},
   "source": [
    "Above, first we execute `return jazz(5 // 2) + 1`. This would return `jazz(2) + 1`\n",
    "\n",
    "Then, `jazz(2)` would return `2 * 5` = `10`\n",
    "\n",
    "Thus, the return value would be `10 + 1` = `11`"
   ]
  },
  {
   "cell_type": "markdown",
   "metadata": {},
   "source": [
    "# ============="
   ]
  },
  {
   "cell_type": "code",
   "execution_count": 7,
   "metadata": {},
   "outputs": [
    {
     "data": {
      "text/plain": [
       "12"
      ]
     },
     "execution_count": 7,
     "metadata": {},
     "output_type": "execute_result"
    }
   ],
   "source": [
    "(lambda out: jazz(8))(9)"
   ]
  },
  {
   "cell_type": "markdown",
   "metadata": {},
   "source": [
    "Above, the `out` and `9` doesn't matter. The lambda function executes `jazz(8)` anyway."
   ]
  },
  {
   "cell_type": "markdown",
   "metadata": {},
   "source": [
    "# ============="
   ]
  },
  {
   "cell_type": "code",
   "execution_count": 10,
   "metadata": {},
   "outputs": [
    {
     "name": "stdout",
     "output_type": "stream",
     "text": [
      "2 7\n",
      "0 4\n"
     ]
    }
   ],
   "source": [
    "twist(2, lambda x: x-2)(4)\n",
    "#Ans:\n",
    "# 2 7\n",
    "# 0 4"
   ]
  },
  {
   "cell_type": "markdown",
   "metadata": {},
   "source": [
    "Recall that the `twist` function is as the following,"
   ]
  },
  {
   "cell_type": "code",
   "execution_count": null,
   "metadata": {},
   "outputs": [],
   "source": [
    "def twist(shout, it, out = 7):\n",
    "    while shout:\n",
    "        shout, out = it(shout), print(shout, out)\n",
    "    return lambda out: print(shout, out)\n",
    "\n",
    "hands, out = 2, 3"
   ]
  },
  {
   "cell_type": "markdown",
   "metadata": {},
   "source": [
    "At first, Python checks the condition for the `while` loop: `shout` is `2`, so it runs the `while` loop.\n",
    "\n",
    "Within the `while` loop, `shout, out` = `2-2`, `print(2, 7)`\n",
    "* First, it prints \"2 7\"\n",
    "* Then it reassigns `shout` to be `0`\n",
    "\n",
    "Then Python goes back to checking the condition for `while` loop. Now that `shout` is `0`, Python skips the `while` loop.\n",
    "\n",
    "The body of the `twist` function returns a `lambda out` function where it `print(shout, out)`. At this point, `shout` is `0`, while we don't know what `out` is. However, recall that we called `twist(2, lambda x: x-2)(4)`. This means we give the argument `4` for the `out` within `lambda out` function. Thus, it `print(0, 4)`."
   ]
  },
  {
   "cell_type": "markdown",
   "metadata": {},
   "source": [
    "# ============="
   ]
  },
  {
   "cell_type": "code",
   "execution_count": 14,
   "metadata": {},
   "outputs": [
    {
     "name": "stdout",
     "output_type": "stream",
     "text": [
      "5\n",
      "5 7\n",
      "None 3\n"
     ]
    }
   ],
   "source": [
    "twist(5, print)(out)\n",
    "# 1. shout, out = print(5), print(5, 7)\n",
    "# 2. shout evaluates to None\n",
    "# 3. Executes the lambda out function: print(None, 3)\n",
    "\n",
    "# Ans:\n",
    "# 5\n",
    "# 5 7\n",
    "# None 3"
   ]
  },
  {
   "cell_type": "markdown",
   "metadata": {},
   "source": [
    "# ============="
   ]
  },
  {
   "cell_type": "code",
   "execution_count": 16,
   "metadata": {},
   "outputs": [
    {
     "name": "stdout",
     "output_type": "stream",
     "text": [
      "6 2\n",
      "3 None\n",
      "0 -1\n"
     ]
    }
   ],
   "source": [
    "twist(6, lambda hands: hands-out, 2)(-1)\n",
    "# Note that the \"out\" in lambda hands function refers to 3 that is stated \n",
    "#   at the end of the function\n",
    "\n",
    "# 1. shout, out = 6-3, print(6, 2)\n",
    "#   shout becomes 3, prints \"6 2\", then out becomes None\n",
    "\n",
    "#2. shout, out = 3-3, print(3, None)\n",
    "#    shout becomes 0, prints \"3 None\", then out becomes None again\n",
    "\n",
    "#3. Executing lambda out: print(0, -1)\n",
    "\n",
    "#Thus, Ans is:\n",
    "# 6 2\n",
    "# 3 None\n",
    "# 0 -1"
   ]
  },
  {
   "cell_type": "code",
   "execution_count": null,
   "metadata": {},
   "outputs": [],
   "source": [
    "def twist(shout, it, out = 7):\n",
    "    while shout:\n",
    "        shout, out = it(shout), print(shout, out)\n",
    "    return lambda out: print(shout, out)\n",
    "\n",
    "hands, out = 2, 3"
   ]
  },
  {
   "cell_type": "markdown",
   "metadata": {},
   "source": [
    "# Environment Diagram (Without Lists) #1\n",
    "Fill in the environment diagram that results from executing the code below until the entire program is finished, an error occurs, or all frames are filled. **You may not need to use all of the spaces or frames.** A complete answer will:\n",
    "\n",
    "1. Add all missing names and parent annotations to all local frames\n",
    "2. Add all missing values created or referenced during execution\n",
    "3. Show the return value for each local frame."
   ]
  },
  {
   "cell_type": "code",
   "execution_count": null,
   "metadata": {},
   "outputs": [],
   "source": [
    "def the(donald):\n",
    "    return donald + 5\n",
    "\n",
    "def clin(ton):\n",
    "    def the(race):\n",
    "        return donald + 6\n",
    "    def ton(ga):\n",
    "        donald = ga-1\n",
    "        return the(4) - 3\n",
    "    return ton\n",
    "\n",
    "donald, duck = 2, clin(the)\n",
    "duck = duck(8)"
   ]
  },
  {
   "cell_type": "code",
   "execution_count": 11,
   "metadata": {},
   "outputs": [
    {
     "name": "nbtutor",
     "output_type": "stream",
     "text": [
      "0\n"
     ]
    }
   ],
   "source": [
    "%%nbtutor -r -f\n",
    "from operator import add\n",
    "\n",
    "def sub(a, b):\n",
    "    sub = add\n",
    "    return a - b\n",
    "add = sub\n",
    "sub = min\n",
    "print(add(2, sub(2, 3)))"
   ]
  },
  {
   "cell_type": "code",
   "execution_count": null,
   "metadata": {},
   "outputs": [],
   "source": []
  }
 ],
 "metadata": {
  "celltoolbar": "Visualize",
  "kernelspec": {
   "display_name": "Python 3",
   "language": "python",
   "name": "python3"
  },
  "language_info": {
   "codemirror_mode": {
    "name": "ipython",
    "version": 3
   },
   "file_extension": ".py",
   "mimetype": "text/x-python",
   "name": "python",
   "nbconvert_exporter": "python",
   "pygments_lexer": "ipython3",
   "version": "3.7.2"
  }
 },
 "nbformat": 4,
 "nbformat_minor": 2
}
