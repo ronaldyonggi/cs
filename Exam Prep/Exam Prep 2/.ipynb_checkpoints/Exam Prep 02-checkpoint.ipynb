{
 "cells": [
  {
   "cell_type": "code",
   "execution_count": 9,
   "metadata": {},
   "outputs": [],
   "source": [
    "%load_ext tutormagic"
   ]
  },
  {
   "cell_type": "markdown",
   "metadata": {},
   "source": [
    "# Print Numbers\n",
    "Print all numbers that `A` can be formed from the digits of `n` in reverse order and `B` are multiples of `k`.\n",
    "\n",
    "This is essentially Fall 2015 Midterm 2 #3c written to not depend on knowledge of lists\n",
    "\n",
    "Args:\n",
    "* `n` (int): The number that results must use digits from\n",
    "* `k` (int): The number that results must use multiples of"
   ]
  },
  {
   "cell_type": "code",
   "execution_count": 5,
   "metadata": {},
   "outputs": [],
   "source": [
    ">>> print_numbers(97531, 5)\n",
    "135\n",
    "15\n",
    "35\n",
    ">>> print_numbers(97531, 7)\n",
    "1379\n",
    "357\n",
    "35\n",
    ">>> print_numbers(97531, 2)"
   ]
  },
  {
   "cell_type": "code",
   "execution_count": 1,
   "metadata": {},
   "outputs": [
    {
     "ename": "SyntaxError",
     "evalue": "unexpected EOF while parsing (<ipython-input-1-a7fba1ef941d>, line 2)",
     "output_type": "error",
     "traceback": [
      "\u001b[1;36m  File \u001b[1;32m\"<ipython-input-1-a7fba1ef941d>\"\u001b[1;36m, line \u001b[1;32m2\u001b[0m\n\u001b[1;33m    if n == 0:\u001b[0m\n\u001b[1;37m              ^\u001b[0m\n\u001b[1;31mSyntaxError\u001b[0m\u001b[1;31m:\u001b[0m unexpected EOF while parsing\n"
     ]
    }
   ],
   "source": [
    "def inner(n, s):\n",
    "    if n == 0:\n",
    "        if ___:\n",
    "            ___\n",
    "        else:\n",
    "            ___\n",
    "            ___\n",
    "inner(n, 0)"
   ]
  },
  {
   "cell_type": "markdown",
   "metadata": {},
   "source": [
    "# Sixty Ones\n",
    "Return the number of times that a `1` directly follows a `6` in the digits of `n`.\n",
    "\n",
    "This is essentially Fall 2014 Midterm 2 #3a written to not depend on knowledge of lists\n",
    "\n",
    "Args:\n",
    "* `n` (int): The number whose digits are to be examined\n",
    "\n",
    "Returns:\n",
    "* int: The number of occurrences"
   ]
  },
  {
   "cell_type": "code",
   "execution_count": null,
   "metadata": {},
   "outputs": [],
   "source": [
    ">>> sixty_ones(461601)\n",
    "1\n",
    ">>> sixty_ones(161461601)\n",
    "2"
   ]
  },
  {
   "cell_type": "code",
   "execution_count": null,
   "metadata": {},
   "outputs": [],
   "source": [
    "def sixty_ones(n):\n",
    "    if __:\n",
    "        return 0\n",
    "    elif __:\n",
    "        return ___\n",
    "    else:\n",
    "        return ___"
   ]
  },
  {
   "cell_type": "markdown",
   "metadata": {},
   "source": [
    "# No Elevens\n",
    "Return the number of `n`-digit numbers whose digits consist of 1's and 6's and do not contain a `1` and then another `1` consecutively.\n",
    "\n",
    "This is essentially Fall 2014 Midterm 2 #3b rewritten to not depend on knowledge of lists.\n",
    "\n",
    "Args:\n",
    "* `n` (int): The length of the numbers.\n",
    "\n",
    "Returns:\n",
    "* int: The number of numbers.\n"
   ]
  },
  {
   "cell_type": "code",
   "execution_count": null,
   "metadata": {},
   "outputs": [],
   "source": [
    ">>> no_elevens(2) # 66, 61, 16\n",
    "3\n",
    ">>> no_elevens(3) # 666, 661, 616, 166, 161\n",
    "5"
   ]
  },
  {
   "cell_type": "code",
   "execution_count": 3,
   "metadata": {},
   "outputs": [],
   "source": [
    "def no_elevens(n):\n",
    "    if n == 0:\n",
    "        return ___\n",
    "    elif ___:\n",
    "        return ___\n",
    "    else:\n",
    "        return ___"
   ]
  },
  {
   "cell_type": "code",
   "execution_count": null,
   "metadata": {},
   "outputs": [],
   "source": []
  }
 ],
 "metadata": {
  "celltoolbar": "Visualize",
  "kernelspec": {
   "display_name": "Python 3",
   "language": "python",
   "name": "python3"
  },
  "language_info": {
   "codemirror_mode": {
    "name": "ipython",
    "version": 3
   },
   "file_extension": ".py",
   "mimetype": "text/x-python",
   "name": "python",
   "nbconvert_exporter": "python",
   "pygments_lexer": "ipython3",
   "version": "3.7.2"
  }
 },
 "nbformat": 4,
 "nbformat_minor": 2
}
