{
 "cells": [
  {
   "cell_type": "markdown",
   "metadata": {},
   "source": [
    "# Ambiguity"
   ]
  },
  {
   "cell_type": "markdown",
   "metadata": {},
   "source": [
    "Today's topic goes over the idea of **Natural Language Parsing**, a task within Natural Language Processing, which is part of AI that deals with making computers interact with human languages. Since we have already seen that the computer is good at taking programming languages, what about taking human languages? There's a problem: **ambiguity**. An English sentece could mean many things and could have many different interpretations."
   ]
  },
  {
   "cell_type": "markdown",
   "metadata": {},
   "source": [
    "## Syntactic Ambiguity in English"
   ]
  },
  {
   "cell_type": "markdown",
   "metadata": {},
   "source": [
    "Here is a sentence,\n",
    "\n",
    "**\"Programs must be written for people to read\"**\n",
    "\n",
    "We can break down the sentence above as consisting a `Noun Phrase` and a `Verb Phrase`. \n",
    "\n",
    "<img src = 'sentence.png' width = 500/>"
   ]
  },
  {
   "cell_type": "markdown",
   "metadata": {},
   "source": [
    "The `Verb Phrase` also has an internal structure. \"...for people to read\" is a `Subordinate Clause` since it has its own subject (people) and its own verb (read). However, it's used to describe how programs must be written. Thus, it's a modifier for \"must be written\" part.\n",
    "\n",
    "<img src = 'interpretation.png' width = 500/>"
   ]
  },
  {
   "cell_type": "markdown",
   "metadata": {},
   "source": [
    "However, this is not the only interpretation of the sentence. \n",
    "\n",
    "<img src = 'interpret2.png' width = 500/>"
   ]
  },
  {
   "cell_type": "markdown",
   "metadata": {},
   "source": [
    "The interpretation above means \"In order for people to be able to read, programs must be written\". \n",
    "\n",
    "And here is yet another interpretation, \n",
    "\n",
    "<img src = 'interpret3.png' width = 500/>"
   ]
  },
  {
   "cell_type": "markdown",
   "metadata": {},
   "source": [
    "In this case, this means \"To make programs be able to read, they must be written for people\". \n",
    "\n",
    "We've seen many different ways of dividing a sentence to phrases. These different alternatives are case of syntactic ambiguity. Today we're going to build a system that tells us which structure of the sentence, divided into phrases, are reasonable structural interpretation of a sentence. \n",
    "\n",
    "Syntactic ambiguity is not only about how we divide a sentence to phrases. It's also about how we determine which syntactic category should be used for each word. For example, the word `program` can either be a noun or a verb. \n",
    "\n",
    "<img src = 'word.png' width = 500/>"
   ]
  },
  {
   "cell_type": "markdown",
   "metadata": {},
   "source": [
    "Thus, the goal is to build a program tha does 2 things:\n",
    "\n",
    "1. Figures out how to break up a whole sentence into phrases that are hierarchially nested to a tree\n",
    "2. Chooses which syntactic category is being used for each phrase and each word"
   ]
  }
 ],
 "metadata": {
  "kernelspec": {
   "display_name": "Python 3",
   "language": "python",
   "name": "python3"
  },
  "language_info": {
   "codemirror_mode": {
    "name": "ipython",
    "version": 3
   },
   "file_extension": ".py",
   "mimetype": "text/x-python",
   "name": "python",
   "nbconvert_exporter": "python",
   "pygments_lexer": "ipython3",
   "version": "3.7.3"
  }
 },
 "nbformat": 4,
 "nbformat_minor": 4
}
