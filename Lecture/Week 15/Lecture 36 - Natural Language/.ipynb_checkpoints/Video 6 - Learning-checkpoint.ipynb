{
 "cells": [
  {
   "cell_type": "markdown",
   "metadata": {},
   "source": [
    "# Learning"
   ]
  },
  {
   "cell_type": "markdown",
   "metadata": {},
   "source": [
    "In the previous lecture, we just built a system that parse sentences. However, maybe we're not impressed because it only parses sentences with `buffalo`s. To handle the rest of the language, we need to have the right grammar rules. We can write them ourselves or make other people write down the rules for us. \n",
    "\n",
    "University of Pennsylvania spent years taking excerpts of WSJ (Wall Street Journal) and putting them to `treebank`.\n",
    "\n",
    "The treebank takes WSJ sentences and asks human to annotate the syntactic structure. \n",
    "\n",
    "Download the following [files](https://inst.eecs.berkeley.edu/~cs61a/fa18/assets/slides/36.zip) and run the following from the terminal,"
   ]
  },
  {
   "cell_type": "code",
   "execution_count": null,
   "metadata": {},
   "outputs": [],
   "source": [
    "$zless wsj.txt.gz.txt"
   ]
  },
  {
   "cell_type": "markdown",
   "metadata": {},
   "source": [
    "The output should be a syntax tree for actual sentences. \n",
    "\n",
    "To build our grammar, we pull out all the leaves in the annotated sentences and the expansion rules, and count them. Why do we count them?"
   ]
  },
  {
   "cell_type": "markdown",
   "metadata": {},
   "source": [
    "## Scoring a Tree Using Relative Frequencies"
   ]
  },
  {
   "cell_type": "markdown",
   "metadata": {},
   "source": [
    "Not all syntactic structures are equally common even if multiple of them are valid. Consider the following headline,\n",
    "\n",
    "`teacher strikes idle kids`\n",
    "\n",
    "One way of parsing the structure would be as the following,\n",
    "\n",
    "<img src = 'teacher.png' width = 300/>"
   ]
  },
  {
   "cell_type": "markdown",
   "metadata": {},
   "source": [
    "How do we learn something about this syntactic analysis? \n",
    "\n",
    "The following is the rules involved in generating the syntactic structure,\n",
    "\n",
    "<img src = 'rules.png' width = 500/>"
   ]
  },
  {
   "cell_type": "markdown",
   "metadata": {},
   "source": [
    "And we can look up the `rule frequency per 100,000 tags`.\n",
    "\n",
    "1. For every 100,000 `S`, about `25,000` of them expands to `NP` and `VP`\n",
    "2. For every 100,000 `NP`, about `1,335` expand to `NN` and `NNS` (plural nouns)\n",
    "\n",
    "We also have the statistics of how often when we see a `NNS`, the `NNS` is the word `strikes`, which is `25` out of 100,000 times. The whole statistic is represented as the following,\n",
    "\n",
    "<img src = 'statistic.png' width = 600/>"
   ]
  },
  {
   "cell_type": "markdown",
   "metadata": {},
   "source": [
    "Using this information, we can estimate how likely the sentence `teacher strikes idle kids` would occur using this syntactic structure. \n",
    "\n",
    "Now what's the statistic if we use a different syntactic structure?\n",
    "\n",
    "<img src = 'different.png' width = 600/>"
   ]
  },
  {
   "cell_type": "markdown",
   "metadata": {},
   "source": [
    "In this second case, we use different set of rules. In particular, we use different lexical category and expansions.\n",
    "\n",
    "One way of choosing among different syntactic structures is to multiply all the numbers together. This gives us a sense of which syntactic structure uses pieces that are more common in English. \n",
    "\n",
    "If we compare the file that we created with the lexicon and grammar taken from annotated corpus that came from University of Pennsylvania (see `max_parse.py`). "
   ]
  },
  {
   "cell_type": "code",
   "execution_count": null,
   "metadata": {},
   "outputs": [],
   "source": [
    "def max_parses(line, n=1):\n",
    "    words = line.split()"
   ]
  },
  {
   "cell_type": "markdown",
   "metadata": {},
   "source": [
    "It doesn't just compute the parses in any order. It also computes the most likely parses based on multiplying together the frequenciesof all the rules that are used."
   ]
  }
 ],
 "metadata": {
  "kernelspec": {
   "display_name": "Python 3",
   "language": "python",
   "name": "python3"
  },
  "language_info": {
   "codemirror_mode": {
    "name": "ipython",
    "version": 3
   },
   "file_extension": ".py",
   "mimetype": "text/x-python",
   "name": "python",
   "nbconvert_exporter": "python",
   "pygments_lexer": "ipython3",
   "version": "3.7.3"
  }
 },
 "nbformat": 4,
 "nbformat_minor": 4
}
