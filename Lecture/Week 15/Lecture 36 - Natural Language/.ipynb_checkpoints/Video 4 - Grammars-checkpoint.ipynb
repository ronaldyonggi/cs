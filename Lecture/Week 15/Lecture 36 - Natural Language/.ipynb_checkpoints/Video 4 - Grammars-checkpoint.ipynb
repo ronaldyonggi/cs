{
 "cells": [
  {
   "cell_type": "code",
   "execution_count": 6,
   "metadata": {},
   "outputs": [],
   "source": [
    "class Tree:\n",
    "    def __init__(self, tag, branches):\n",
    "        assert len(branches) >= 1\n",
    "        for b in branches:\n",
    "            assert isinstance(b, (Tree, Leaf)) # Checks if all the branches are trees or leaves\n",
    "        self.tag = tag\n",
    "        self.branches = branches\n",
    "        \n",
    "class Leaf:\n",
    "    def __init__(self, tag, word):\n",
    "        self.tag = tag\n",
    "        self.word = word\n",
    "        \n",
    "beasts = Leaf('N', 'buffalo') # This is buffalo as a noun\n",
    "intimidate = Leaf('V', 'buffalo') # This is buffalo as a verb\n",
    "S, NP, VP = \"S\", \"NP\", \"VP\"\n",
    "\n",
    "s = Tree(S, [Tree(NP, [beasts]),\n",
    "             Tree(VP, [intimidate,\n",
    "                       Tree(NP, [beasts])\n",
    "                      ])\n",
    "            ])"
   ]
  },
  {
   "cell_type": "code",
   "execution_count": 7,
   "metadata": {},
   "outputs": [],
   "source": [
    "\"\"\"Pretty-print Trees as indented S-expressions.\"\"\"\n",
    "\n",
    "import heapq\n",
    "import signal\n",
    "signal.signal(signal.SIGPIPE, signal.SIG_DFL)\n",
    "\n",
    "from io import StringIO\n",
    "\n",
    "Leaf.__str__ = lambda leaf: '({tag} {word})'.format(**leaf.__dict__)\n",
    "\n",
    "def print_tree(t, indent=0, end='\\n'):\n",
    "    \"\"\"Print Tree or Leaf t with indentation.\n",
    "\n",
    "    >>> np = Tree('NP', [Leaf('N', 'buffalo')])\n",
    "    >>> t = Tree('S', [np, Tree('VP', [Leaf('V', 'buffalo'), np])])\n",
    "    >>> print_tree(t)\n",
    "    (S (NP (N buffalo))\n",
    "       (VP (V buffalo)\n",
    "           (NP (N buffalo))))\n",
    "    \"\"\"\n",
    "    if isinstance(t, Leaf):\n",
    "        print(t, end='')\n",
    "    else:\n",
    "        s = '(' + t.tag + ' '\n",
    "        indent += len(s)\n",
    "        print(s, end='')\n",
    "        print_tree(t.branches[0], indent, '')\n",
    "        for b in t.branches[1:]:\n",
    "            print('\\n' + ' '*indent, end='')\n",
    "            print_tree(b, indent, '')\n",
    "        print(')', end=end)\n",
    "\n"
   ]
  },
  {
   "cell_type": "markdown",
   "metadata": {},
   "source": [
    "# Grammars"
   ]
  },
  {
   "cell_type": "markdown",
   "metadata": {},
   "source": [
    "We don't know exactly how language works, but we can describe various possible ways of combining words into sentences. A formal description of all the different sentences in a language is called a `grammar`."
   ]
  },
  {
   "cell_type": "markdown",
   "metadata": {},
   "source": [
    "## Context-Free Grammar Rules"
   ]
  },
  {
   "cell_type": "markdown",
   "metadata": {},
   "source": [
    "A grammar rule describes how a tag can be expanded as a sequence of tags or words. For example, we could have a context-free rules that looks like the following,\n",
    "\n",
    "` S -> NP VP `\n",
    "\n",
    "Which can be interpreted as:\n",
    "\n",
    "\"A `S`entence can be expanded as a `N`oun `P`hrase then a `V`erb `P`hrase\n",
    "\n",
    "<img src = 'context.png' width = 700/>"
   ]
  },
  {
   "cell_type": "markdown",
   "metadata": {},
   "source": [
    "Let's go over the collection of rules! We have the one that we have above,\n",
    "\n",
    "`S -> NP VP`\n",
    "\n",
    "This allows us to construct a sentence out of a `NP` and a `VP`.\n",
    "\n",
    "<img src = 'S.png' width = 500/>"
   ]
  },
  {
   "cell_type": "markdown",
   "metadata": {},
   "source": [
    "From here, we can expand `NP`. \n",
    "\n",
    "`NP -> N`\n",
    "\n",
    "A `NP` can consist of just a `N`oun. A `N`oun can be the word `buffalo`.\n",
    "\n",
    "`N -> buffalo`\n",
    "\n",
    "<img src = 'grammar2.png' width = 500/>"
   ]
  },
  {
   "cell_type": "markdown",
   "metadata": {},
   "source": [
    "By recursively expanding symbols (e.g. `NP`, `VP`), we are starting to generate sentences. So far, we have the noun `buffalo` as the subject (or `N`). \n",
    "\n",
    "More grammar rules allow us to fill out the rest of the sentence. How should we expand the `VP`?\n",
    "\n",
    "`VP -> V NP`\n",
    "\n",
    "We can expand `VP` as a `V`erb and a `N`oun `P`hrase. The `V`erb is \"buffalo\".\n",
    "\n",
    "What about the `NP`? Previously we expanded it to `N`. The only `N`oun we have is also \"buffalo\".\n",
    "\n",
    "<img src = 'grammar3.png' width = 500/>"
   ]
  },
  {
   "cell_type": "markdown",
   "metadata": {},
   "source": [
    "This recursive expansion process is the core of most natural language parsers. \n",
    "\n",
    "<img src = 'grammar4.png' width = 700/>"
   ]
  },
  {
   "cell_type": "markdown",
   "metadata": {},
   "source": [
    "## Demo"
   ]
  },
  {
   "cell_type": "markdown",
   "metadata": {},
   "source": [
    "We'll create the different pieces of the grammar. The `Leaf`s are in the set called `lexicon`, and the rules that expand the trees are in the dictionary called `grammar`."
   ]
  },
  {
   "cell_type": "code",
   "execution_count": 8,
   "metadata": {},
   "outputs": [],
   "source": [
    "lexicon = {\n",
    "        Leaf('N', 'buffalo'), # beasts\n",
    "        Leaf('V', 'buffalo'), # intimidate\n",
    "        }\n",
    "\n",
    "grammar = {\n",
    "        'S':  [['NP', 'VP']],\n",
    "        'NP': [['N']],\n",
    "        'VP': [['V', 'NP']],\n",
    "        }"
   ]
  },
  {
   "cell_type": "markdown",
   "metadata": {},
   "source": [
    "What does it mean to `expand` a `tag`? "
   ]
  },
  {
   "cell_type": "code",
   "execution_count": null,
   "metadata": {},
   "outputs": [],
   "source": [
    "def expand(tag):\n",
    "    \"\"\"Yield all trees rooted by tag.\"\"\""
   ]
  },
  {
   "cell_type": "markdown",
   "metadata": {},
   "source": [
    "One possibility is to expand it as a `Leaf`."
   ]
  },
  {
   "cell_type": "code",
   "execution_count": null,
   "metadata": {},
   "outputs": [],
   "source": [
    "    for leaf in lexicon: # Go through all leaves in lexicon\n",
    "        if tag == leaf.tag:\n",
    "            yield leaf"
   ]
  },
  {
   "cell_type": "markdown",
   "metadata": {},
   "source": [
    "Another possibility is that the `tag` appears in the `grammar` dictionary. "
   ]
  },
  {
   "cell_type": "code",
   "execution_count": null,
   "metadata": {},
   "outputs": [],
   "source": [
    "    if tag in grammar:\n",
    "        for tags in grammar[tag]: # Go through all the different sequences of tags that it can expand to \n",
    "            for branches in expand_all(tags):\n",
    "                yield(Tree(tag, branches))"
   ]
  },
  {
   "cell_type": "markdown",
   "metadata": {},
   "source": [
    "Thus, the `expand` function definition looks like the following,"
   ]
  },
  {
   "cell_type": "code",
   "execution_count": 9,
   "metadata": {},
   "outputs": [],
   "source": [
    "def expand(tag):\n",
    "    \"\"\"Yield all trees rooted by tag.\"\"\"\n",
    "    for leaf in lexicon: # Go through all leaves in lexicon\n",
    "        if tag == leaf.tag:\n",
    "            yield leaf\n",
    "    if tag in grammar:\n",
    "        for tags in grammar[tag]: # Go through all the different sequences of tags that it can expand to \n",
    "            for branches in expand_all(tags):\n",
    "                yield(Tree(tag, branches))"
   ]
  },
  {
   "cell_type": "markdown",
   "metadata": {},
   "source": [
    "Now what does it mean to expand all tags? "
   ]
  },
  {
   "cell_type": "code",
   "execution_count": 12,
   "metadata": {},
   "outputs": [],
   "source": [
    "def expand_all(tags):\n",
    "    \"\"\" Yield all sequences of branches for a sequence of tags\"\"\"\n",
    "    if len(tags) == 1:# If the length of the tag is only 1, then there's only one branch.\n",
    "        for branch in expand(tags[0]):\n",
    "            yield [branch] # We want to yield a sequence of branches, so the yield value must be in a list\n",
    "    else: # Otherwise, we need to handle all the different tags and turn each of them into a branch\n",
    "        first, rest = tags[0], tags[1:]# This can be done by recursively splitting them into first and rest of the tags\n",
    "        for first_branch in expand(first):# Then consider all the possible ways to fill the first branch out of the first tag\n",
    "            for rest_branches in expand_all(rest): #Expand the rest of the tags into the rest of the branches\n",
    "                yield [first_branch] + rest_branches\n",
    "  "
   ]
  },
  {
   "cell_type": "markdown",
   "metadata": {},
   "source": [
    "What to do with these expansions? For starters, let's try printing them!"
   ]
  },
  {
   "cell_type": "code",
   "execution_count": 13,
   "metadata": {},
   "outputs": [
    {
     "name": "stdout",
     "output_type": "stream",
     "text": [
      "(S (NP (N buffalo))\n",
      "   (VP (V buffalo)\n",
      "       (NP (N buffalo))))\n"
     ]
    }
   ],
   "source": [
    "for tree in expand('S'):# For every tree we get by expanding a whole 'S'entence\n",
    "    print_tree(tree)"
   ]
  },
  {
   "cell_type": "code",
   "execution_count": null,
   "metadata": {},
   "outputs": [],
   "source": []
  }
 ],
 "metadata": {
  "kernelspec": {
   "display_name": "Python 3",
   "language": "python",
   "name": "python3"
  },
  "language_info": {
   "codemirror_mode": {
    "name": "ipython",
    "version": 3
   },
   "file_extension": ".py",
   "mimetype": "text/x-python",
   "name": "python",
   "nbconvert_exporter": "python",
   "pygments_lexer": "ipython3",
   "version": "3.7.3"
  }
 },
 "nbformat": 4,
 "nbformat_minor": 4
}
