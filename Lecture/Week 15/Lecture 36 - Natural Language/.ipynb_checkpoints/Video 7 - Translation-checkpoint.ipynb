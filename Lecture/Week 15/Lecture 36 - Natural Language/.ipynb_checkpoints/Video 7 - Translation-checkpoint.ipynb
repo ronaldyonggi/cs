{
 "cells": [
  {
   "cell_type": "markdown",
   "metadata": {},
   "source": [
    "# Translation"
   ]
  },
  {
   "cell_type": "markdown",
   "metadata": {},
   "source": [
    "Natural language parsing has many applications in other natural language processing tasks such as machine translation. For instance, when 2 languages have very different sentential structure, finding the structure of the input sentence is often helpful in predicting the correct word order for the output.\n",
    "\n",
    "We'll do an example of translating languages with different order. This is called syntactic reordering."
   ]
  },
  {
   "cell_type": "markdown",
   "metadata": {},
   "source": [
    "## Syntactic Reordering"
   ]
  },
  {
   "cell_type": "markdown",
   "metadata": {},
   "source": [
    "In this example, we'll translate English to Yoda-English\n",
    "\n",
    "<img src = 'yoda.jpeg' width = 400/>"
   ]
  },
  {
   "cell_type": "markdown",
   "metadata": {},
   "source": [
    "Yoda, from the Star Wars series, is a legendary Jedi master, famous for being Luke Skywalker's instructor and for speaking English in a peculiar manner. "
   ]
  }
 ],
 "metadata": {
  "kernelspec": {
   "display_name": "Python 3",
   "language": "python",
   "name": "python3"
  },
  "language_info": {
   "codemirror_mode": {
    "name": "ipython",
    "version": 3
   },
   "file_extension": ".py",
   "mimetype": "text/x-python",
   "name": "python",
   "nbconvert_exporter": "python",
   "pygments_lexer": "ipython3",
   "version": "3.7.3"
  }
 },
 "nbformat": 4,
 "nbformat_minor": 4
}
