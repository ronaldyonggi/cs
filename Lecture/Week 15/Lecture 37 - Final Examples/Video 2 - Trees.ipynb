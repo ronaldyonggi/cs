{
 "cells": [
  {
   "cell_type": "markdown",
   "metadata": {},
   "source": [
    "# Trees"
   ]
  },
  {
   "cell_type": "markdown",
   "metadata": {},
   "source": [
    "## Tree-Structured Data"
   ]
  },
  {
   "cell_type": "markdown",
   "metadata": {},
   "source": [
    "Early in this course, we went over `tree` data abstraction. "
   ]
  },
  {
   "cell_type": "code",
   "execution_count": null,
   "metadata": {},
   "outputs": [],
   "source": [
    "# Constructor\n",
    "def tree(label, branches=[]):\n",
    "    return [label] + list(branches)\n",
    "\n",
    "# Selectors\n",
    "def label(tree):\n",
    "    return tree[0]\n",
    "\n",
    "def branches(tree):\n",
    "    return tree[1:]"
   ]
  },
  {
   "cell_type": "markdown",
   "metadata": {},
   "source": [
    "The idea is that we can put together a label and some branches into a tree. Then we invented an implementation for this abstraction, which is to put together the label and the branches into a list. The selectors use that implementation to obtain the label and the branches.\n",
    "\n",
    "Later in the course, `Tree` was not a data abstraction anymore. Instead, it was a class."
   ]
  },
  {
   "cell_type": "code",
   "execution_count": null,
   "metadata": {},
   "outputs": [],
   "source": [
    "class Tree:\n",
    "    def __init__(self, label, branches = []):\n",
    "        self.label = label\n",
    "        self.branches = list(branches)"
   ]
  },
  {
   "cell_type": "markdown",
   "metadata": {},
   "source": [
    "These are 2 different methods of defining ADT. We can do it with either functions or object system. Both achieve the same goal but there are advantages to object system: it gets rid of the need to invent implementation, we just use the attribute of the object system.\n",
    "\n",
    "Regardless how we represent a tree, nothing about how we process the tree changes. In both cases, we need a way to obtain both label and branches and put them together into one value. \n",
    "\n",
    "Later on in lectures, we went over other kind of trees, such as `binary tree`, a subclass of the `Tree` class that has a left and right branches instead of a list of branches. "
   ]
  },
  {
   "cell_type": "code",
   "execution_count": null,
   "metadata": {},
   "outputs": [],
   "source": [
    "class BTree(Tree):\n",
    "    empty = Tree(None)\n",
    "    \n",
    "    def __init__(self, label, left = empty, right empty):\n",
    "        Tree.__init__(self, label, [left, right])\n",
    "    \n",
    "    @property\n",
    "    def left(self):\n",
    "        return self.branches[0]\n",
    "    \n",
    "    @property\n",
    "    def right(self):\n",
    "        return self.branches[1]"
   ]
  },
  {
   "cell_type": "markdown",
   "metadata": {},
   "source": [
    "We invented the `BTree` class to be able to represent tree-structured data where sometimes the left branch is empty while the right branch is not, or the other way around. To achieve this, we introduced the concept of an empty tree so that the left could be empty, or the right could be empty, or both empty (thus we have a `leaf`). We use this to represent `binary search tree`\n",
    "\n",
    "This is not the only kind of tree we see in this course. A tree is just a general notion in CS for values that contain other trees. A list containing lists that are containing lists are tree data structures as well. "
   ]
  },
  {
   "cell_type": "code",
   "execution_count": null,
   "metadata": {},
   "outputs": [],
   "source": [
    "# A tree can contains other trees\n",
    "[5, [6, 7], 8, [[9, 10]]]"
   ]
  },
  {
   "cell_type": "markdown",
   "metadata": {},
   "source": [
    "We worked with tree data structure so much in this course because there are many interesting things in the world that are represented using tree-structured data. Many of them have hierarchical structure. An example is the following Scheme expression, "
   ]
  },
  {
   "cell_type": "code",
   "execution_count": null,
   "metadata": {},
   "outputs": [],
   "source": [
    "(+ 5 (- 6 7) 8 (* (- 9) 10)) ; It's tree structured!"
   ]
  },
  {
   "cell_type": "markdown",
   "metadata": {},
   "source": [
    "By tree structured, it means the the expression has expression within. \n",
    "\n",
    "And the following is a result of sentence parsing by a natural language parser:"
   ]
  },
  {
   "cell_type": "code",
   "execution_count": null,
   "metadata": {},
   "outputs": [],
   "source": [
    "(S\n",
    " (NP (JJ Short) (NNS cuts))\n",
    " (VP (VBP make)\n",
    "     (NP (JJ long) (NNS delays))\n",
    " (. .))"
   ]
  },
  {
   "cell_type": "markdown",
   "metadata": {},
   "source": [
    "And we also have the structure of web pages, which is written with markup language, which is hierarchical. Here is a small snippet of HTML."
   ]
  },
  {
   "cell_type": "code",
   "execution_count": null,
   "metadata": {},
   "outputs": [],
   "source": [
    "<ul>\n",
    "  <li>Midterm <b>1</b></li>\n",
    "  <li>Midterm <b>2</b></li>\n",
    "</ul>"
   ]
  },
  {
   "cell_type": "markdown",
   "metadata": {},
   "source": [
    "Tree processing arises in a lot of different CS applications, and it often involves recursive calls on subtrees."
   ]
  }
 ],
 "metadata": {
  "kernelspec": {
   "display_name": "Python 3",
   "language": "python",
   "name": "python3"
  },
  "language_info": {
   "codemirror_mode": {
    "name": "ipython",
    "version": 3
   },
   "file_extension": ".py",
   "mimetype": "text/x-python",
   "name": "python",
   "nbconvert_exporter": "python",
   "pygments_lexer": "ipython3",
   "version": "3.7.3"
  }
 },
 "nbformat": 4,
 "nbformat_minor": 4
}
