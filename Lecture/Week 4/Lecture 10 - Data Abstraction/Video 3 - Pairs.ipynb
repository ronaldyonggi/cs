{
 "cells": [
  {
   "cell_type": "code",
   "execution_count": 18,
   "metadata": {},
   "outputs": [],
   "source": [
    "%load_ext tutormagic"
   ]
  },
  {
   "cell_type": "markdown",
   "metadata": {},
   "source": [
    "# Pairs\n",
    "A pair consists of 2 values that are bundled in a way that we can treat them as a unit or as a whole."
   ]
  },
  {
   "cell_type": "markdown",
   "metadata": {},
   "source": [
    "## Representing Pairs Using Lists\n",
    "There are many different ways of representing pairs. In this case, we will use a built-in data type called `list`.\n",
    "\n",
    "### List Literal"
   ]
  },
  {
   "cell_type": "code",
   "execution_count": 1,
   "metadata": {},
   "outputs": [],
   "source": [
    "pair = [1, 2]"
   ]
  },
  {
   "cell_type": "markdown",
   "metadata": {},
   "source": [
    "Above we have a `list literal`, a comma-separated expressions in brackets. "
   ]
  },
  {
   "cell_type": "code",
   "execution_count": 2,
   "metadata": {},
   "outputs": [
    {
     "data": {
      "text/plain": [
       "[1, 2]"
      ]
     },
     "execution_count": 2,
     "metadata": {},
     "output_type": "execute_result"
    }
   ],
   "source": [
    "pair"
   ]
  },
  {
   "cell_type": "markdown",
   "metadata": {},
   "source": [
    "### Unpacking\n",
    "Once we have a `list`, which is the value of a `list literal`, we can access each element within the list through `unpacking`. Here is an example of `unpacking` `pair` to `x` and `y`. We bind...\n",
    "1. `x` to the `0th` element of `pair`, which is `1`\n",
    "2. `y` to the `1st` element of `pair`, which is `2`"
   ]
  },
  {
   "cell_type": "code",
   "execution_count": 3,
   "metadata": {},
   "outputs": [],
   "source": [
    "x, y = pair"
   ]
  },
  {
   "cell_type": "code",
   "execution_count": 4,
   "metadata": {},
   "outputs": [
    {
     "data": {
      "text/plain": [
       "1"
      ]
     },
     "execution_count": 4,
     "metadata": {},
     "output_type": "execute_result"
    }
   ],
   "source": [
    "x"
   ]
  },
  {
   "cell_type": "code",
   "execution_count": 5,
   "metadata": {},
   "outputs": [
    {
     "data": {
      "text/plain": [
       "2"
      ]
     },
     "execution_count": 5,
     "metadata": {},
     "output_type": "execute_result"
    }
   ],
   "source": [
    "y"
   ]
  },
  {
   "cell_type": "markdown",
   "metadata": {},
   "source": [
    "### Element Selection\n",
    "Another way to access the elements in a list is through the element selection operator."
   ]
  },
  {
   "cell_type": "code",
   "execution_count": 6,
   "metadata": {},
   "outputs": [
    {
     "data": {
      "text/plain": [
       "1"
      ]
     },
     "execution_count": 6,
     "metadata": {},
     "output_type": "execute_result"
    }
   ],
   "source": [
    "pair[0]"
   ]
  },
  {
   "cell_type": "markdown",
   "metadata": {},
   "source": [
    "`pair[0]` might seem similar to `pair = [1, 2]`, however, these are 2 different things! \n",
    "\n",
    "1. The `[1, 2]` is a bracket without any expression before it.\n",
    "2. The `[0]` has the expression `pair` right before it\n",
    "    * Whenever we have a square bracket right after an expression, that involves **selecting an element** from a value\n",
    "        * In this case, `pair` is a `list` value\n",
    "        * `pair`'s `0th` element is `1` "
   ]
  },
  {
   "cell_type": "code",
   "execution_count": 7,
   "metadata": {},
   "outputs": [
    {
     "data": {
      "text/plain": [
       "2"
      ]
     },
     "execution_count": 7,
     "metadata": {},
     "output_type": "execute_result"
    }
   ],
   "source": [
    "pair[1]"
   ]
  },
  {
   "cell_type": "markdown",
   "metadata": {},
   "source": [
    "### `getitem` Element Selection Function\n",
    "There's also a function that does the same thing as above. The function `getitem`, which can be acquired from the module `operator`, can be used as the following,"
   ]
  },
  {
   "cell_type": "code",
   "execution_count": 8,
   "metadata": {},
   "outputs": [
    {
     "data": {
      "text/plain": [
       "1"
      ]
     },
     "execution_count": 8,
     "metadata": {},
     "output_type": "execute_result"
    }
   ],
   "source": [
    "from operator import getitem\n",
    "getitem(pair, 0)"
   ]
  },
  {
   "cell_type": "markdown",
   "metadata": {},
   "source": [
    "## Representing Rational Numbers\n",
    "Why pairs are useful?\n",
    "\n",
    "Recall that our rational numbers are pairs of integers: `numerator` and `denominator`. \n",
    "\n",
    "Below we have a definition of the `constructor` of the *abstract data type* for rational numbers. The function `rational` takes in numerator `n` and denominator `d` and returns a list as a representation of `n/d`."
   ]
  },
  {
   "cell_type": "code",
   "execution_count": 9,
   "metadata": {},
   "outputs": [],
   "source": [
    "def rational(n, d):\n",
    "    \"\"\" Construct a rational number that represents N/D \"\"\"\n",
    "    return [n, d]"
   ]
  },
  {
   "cell_type": "markdown",
   "metadata": {},
   "source": [
    "<img src = 'construct.jpg' width = 500/>\n",
    "\n",
    "A `list` can contain anything, not just integers. However, since we want to create a representation of a rational number, we want to use integers.\n",
    "\n",
    "Now let's say we have a rational number `x`, which consists of a list. How do we access `x`'s numerator and denominator? \n",
    "\n",
    "Below, we use `Element Selection` to obtain the numerator and denominator,"
   ]
  },
  {
   "cell_type": "code",
   "execution_count": 10,
   "metadata": {},
   "outputs": [],
   "source": [
    "def numer(x):\n",
    "    \"\"\" Return the numerator of rational number X\"\"\"\n",
    "    return x[0]\n",
    "\n",
    "def denom(x):\n",
    "    \"\"\" Return the denominator of rational number X\"\"\"\n",
    "    return x[1]"
   ]
  },
  {
   "cell_type": "markdown",
   "metadata": {},
   "source": [
    "## Reducing to Lowest Terms\n",
    "Let's see an example of why data abstraction is useful.\n",
    "\n",
    "### Multiplication Example\n",
    "\n",
    "Recall we implemented multiplication among rational number. For example:\n",
    "$$ \\frac{3}{2} \\times \\frac{5}{3} $$\n",
    "\n",
    "However, the answer is not $\\frac{15}{6}$, but instead $\\frac{5}{2}$! How come?\n",
    "\n",
    "$\\frac{15}{6}$ is not a prime integer. We can reduce the fraction to the lowest term by multiplying both `numerator` and `denominator` by $\\frac{1}{3}$ .\n",
    "\n",
    "<img src = 'reduce.jpg' width = 300/>\n",
    "\n",
    "\n",
    "### Addition Example\n",
    "\n",
    "How about addition? We can apply the same procedure as we did before! \n",
    "\n",
    "<img src = 'addition.jpg' width = 300/>\n",
    "\n",
    "How do we change our implementation so that it reduces the fraction to the lowest term?\n",
    "\n",
    "<div class=\"alert alert-block alert-danger\">\n",
    "    <b> Addition and multiplication were correct in the first place! </b> Our definition of \"rational\" was the one that's wrong in the first place.\n",
    "    \n",
    "    A rational number should always be represented in lowest term, with 2 relatively prime integers.\n",
    "</div>\n",
    "\n",
    "Recall in the previous lecture that we defined the **greatest common divisor** function. It turns out that this function is also available built-in in Python. \n",
    "\n",
    "We can redefine the `rational` function so that it constructs a rational number that represents `n / d` but does it in a way that the `numerator` and the `denominator` are always relatively prime. This can be done by:\n",
    "\n",
    "- Computing the greatest common divisor `g` of both `numerator` and `denominator`\n",
    "- Then return a pair that contains the `numerator` and `denominator`, each divided by the `g`. \n",
    "    - We use integer division `//` since we assume that `g` evenly divides both `n` and `d`"
   ]
  },
  {
   "cell_type": "code",
   "execution_count": null,
   "metadata": {},
   "outputs": [],
   "source": [
    "def rational(n, d):\n",
    "    \"\"\" Construct a rational number x  that represents n/d\"\"\"\n",
    "    g = gcd(n, d)\n",
    "    return [n//g, d //g]"
   ]
  }
 ],
 "metadata": {
  "kernelspec": {
   "display_name": "Python 3",
   "language": "python",
   "name": "python3"
  },
  "language_info": {
   "codemirror_mode": {
    "name": "ipython",
    "version": 3
   },
   "file_extension": ".py",
   "mimetype": "text/x-python",
   "name": "python",
   "nbconvert_exporter": "python",
   "pygments_lexer": "ipython3",
   "version": "3.6.8"
  }
 },
 "nbformat": 4,
 "nbformat_minor": 2
}
