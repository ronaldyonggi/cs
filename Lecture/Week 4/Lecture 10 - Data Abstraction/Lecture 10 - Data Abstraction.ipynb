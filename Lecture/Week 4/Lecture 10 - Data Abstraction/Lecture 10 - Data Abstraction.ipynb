{
 "cells": [
  {
   "cell_type": "code",
   "execution_count": 18,
   "metadata": {},
   "outputs": [],
   "source": [
    "%load_ext tutormagic"
   ]
  },
  {
   "cell_type": "markdown",
   "metadata": {},
   "source": [
    "# ====================== Video 2 ======================="
   ]
  },
  {
   "cell_type": "markdown",
   "metadata": {},
   "source": [
    "# Data Abstraction\n",
    "Data abstraction is a new method of abstraction. \n",
    "\n",
    "Most values out there are compound values / objects. They combine different objects together to create some object with multiple parts.\n",
    "\n",
    "Some examples:\n",
    "1. A date has:\n",
    "    * Year\n",
    "    * Month\n",
    "    * Day\n",
    "    \n",
    "\n",
    "2. A geographic position has:\n",
    "    * Latitude\n",
    "    * Longitude\n",
    "    \n",
    "An **abstract data type** lets us manipulate compound objects as units.\n",
    "* It allows us to isolate 2 parts of any program that uses data: how data are...\n",
    "    * represented (as parts)\n",
    "    * manipulated (as units)\n",
    "   \n",
    "<div class=\"alert alert-block alert-info\">\n",
    "<b>Definition of data abstraction:</b> a methodology by which functions enforce an abstraction barrier between <b>representation</b> and <b>use</b>\n",
    "</div>\n"
   ]
  },
  {
   "cell_type": "markdown",
   "metadata": {},
   "source": [
    "## Rational Numbers\n",
    "Rational number can be expressed as:\n",
    "\n",
    "$$ \\frac{numerator}{denominator} $$\n",
    "\n",
    "Both `numerator` and `denominator` are integers and thus, we can make an **exact representation of fractions**.\n",
    "\n",
    "At first we have a **pair of integers** that represents exactly the fraction (e.g. $ \\frac{1}{3} $). However, as soon as we execute the division, we'll obtain a `float`. A `float` is not an exact representation, instead it is a finite approximation.\n",
    "\n",
    "Assume that we can compose and decompose rational numbers as follow: we have the function...\n",
    "* `rational(n, d)` which takes `n` as numerator and `d` as denominator and returns a compound data type: a rational number `x`. \n",
    "* `numer(x)`, which returns the numerator of a rational number `x`\n",
    "* `denom(x)`, which returns the denominator of `x` \n",
    "\n",
    "\n",
    "* The `rational(n, d)` is a **constructor**: it builds a new value - an instance for abstract data type.\n",
    "* `numer(x)` and `denom(x)` are **selectors**: functions that return parts of the whole rational number."
   ]
  },
  {
   "cell_type": "markdown",
   "metadata": {},
   "source": [
    "## Rational Number Arithmetic\n",
    "We start by writing functions that manipulate rational numbers (e.g. add or multiply them together). \n",
    "\n",
    "### Example 1: Multiplication\n",
    "$$\\frac {3} {2} \\times \\frac {3} {5} = \\frac{9}{10}$$\n",
    "\n",
    "The **general formula** for **multiplying 2 rational numbers**:\n",
    "1. The `numerator` of the result is the product of the numerator of the `1st` and `2nd` (`x` and `y`)\n",
    "2. The `denominator` of the result is the product of the denominator of the `1st` and `2nd` (`x` and `y`)\n",
    "\n",
    "$$\\frac {nx} {dx} \\times \\frac {ny} {dy} = \\frac{nx \\times ny}{dx \\times dy}$$\n",
    "\n",
    "### Example 2: Addition\n",
    "Adding together 2 rational numbers is slightly more complicated\n",
    "\n",
    "$$\\frac {3} {2} + \\frac {3} {5} = \\frac{21}{10}$$\n",
    "\n",
    "The **general formula** is as the following,\n",
    "$$\\frac {nx} {dx} + \\frac {ny} {dy} = \\frac{nx \\times dy + ny \\times dx}{dx \\times dy}$$\n",
    "\n",
    "Now that we have the formulas for multiplying and adding rational numbers, how do we implement the code?"
   ]
  },
  {
   "cell_type": "markdown",
   "metadata": {},
   "source": [
    "## Rational Number Arithmetic Implementation\n",
    "We implement it in terms of `constructor` and `selector`.\n",
    "\n",
    "Below is the function that multiplies 2 rational numbers `x` and `y`:"
   ]
  },
  {
   "cell_type": "code",
   "execution_count": 1,
   "metadata": {},
   "outputs": [],
   "source": [
    "def mul_rational(x, y):\n",
    "    return rational(numer(x) * numer(y),\n",
    "                    denom(x) * denom(y)\n",
    "                   )"
   ]
  },
  {
   "cell_type": "markdown",
   "metadata": {},
   "source": [
    "\n",
    "***\n",
    "<img src = 'mul.jpg' width = 500/>\n",
    "\n",
    "Above, we use:\n",
    "1. `Constructor` to create a new rational number\n",
    "2. `Selector`s to select the part of `x` and `y` that we need to complete the formula\n",
    "\n",
    "And below we have the function that adds together 2 rational numbers `x` and `y`:"
   ]
  },
  {
   "cell_type": "code",
   "execution_count": 2,
   "metadata": {},
   "outputs": [],
   "source": [
    "def add_rational(x, y):\n",
    "    nx, dx = numer(x), denom(x)\n",
    "    ny, dy = numer(y), denom(y)\n",
    "    return rational(nx * dy + ny * dx, dx * dy)"
   ]
  },
  {
   "cell_type": "markdown",
   "metadata": {},
   "source": [
    "We also have the function `equal_rational` that checks whether `x` and `y` are the same rational number. Note that we can't just compare `x` and `y` straight. Let's say `x` is $\\frac{1}{2}$ and `y` is $\\frac{2}{4}$. `x` and `y` are the same number, but if we compare whether `x` == `y`, it will return `False`! Thus, we can compae whether `x` and `y` are the same rational number by:\n",
    "\n",
    "1. Multiply the `numerator` of `x` with `denominator` of `y`\n",
    "2. Multiply the `numerator` of `y` with `denominator` of `x`\n",
    "3. Compare the 2 above."
   ]
  },
  {
   "cell_type": "code",
   "execution_count": null,
   "metadata": {},
   "outputs": [],
   "source": [
    "def equal_rational(x, y):\n",
    "    return numer(x) * denom(y) == numer(y) * denom(x)"
   ]
  },
  {
   "cell_type": "markdown",
   "metadata": {},
   "source": [
    "<img src = 'representation.jpg' width = 700/>\n",
    "\n",
    "This means all of the manipulation of numbers that we have done are written in terms of these functions. We have not even defined these functions yet! "
   ]
  },
  {
   "cell_type": "markdown",
   "metadata": {},
   "source": [
    "# ========================= Video 3 ========================="
   ]
  },
  {
   "cell_type": "markdown",
   "metadata": {},
   "source": [
    "# Pairs\n",
    "A pair consists of 2 values that are bundled in a way that we can treat them as a unit or as a whole."
   ]
  },
  {
   "cell_type": "markdown",
   "metadata": {},
   "source": [
    "## Representing Pairs Using Lists\n",
    "There are many different ways of representing pairs. In this case, we will use a built-in data type called `list`.\n",
    "\n",
    "### List Literal"
   ]
  },
  {
   "cell_type": "code",
   "execution_count": 1,
   "metadata": {},
   "outputs": [],
   "source": [
    "pair = [1, 2]"
   ]
  },
  {
   "cell_type": "markdown",
   "metadata": {},
   "source": [
    "Above we have a `list literal`, a comma-separated expressions in brackets. "
   ]
  },
  {
   "cell_type": "code",
   "execution_count": 2,
   "metadata": {},
   "outputs": [
    {
     "data": {
      "text/plain": [
       "[1, 2]"
      ]
     },
     "execution_count": 2,
     "metadata": {},
     "output_type": "execute_result"
    }
   ],
   "source": [
    "pair"
   ]
  },
  {
   "cell_type": "markdown",
   "metadata": {},
   "source": [
    "### Unpacking\n",
    "Once we have a `list`, which is the value of a `list literal`, we can access each element within the list through `unpacking`. Here is an example of `unpacking` `pair` to `x` and `y`. We bind...\n",
    "1. `x` to the `0th` element of `pair`, which is `1`\n",
    "2. `y` to the `1st` element of `pair`, which is `2`"
   ]
  },
  {
   "cell_type": "code",
   "execution_count": 3,
   "metadata": {},
   "outputs": [],
   "source": [
    "x, y = pair"
   ]
  },
  {
   "cell_type": "code",
   "execution_count": 4,
   "metadata": {},
   "outputs": [
    {
     "data": {
      "text/plain": [
       "1"
      ]
     },
     "execution_count": 4,
     "metadata": {},
     "output_type": "execute_result"
    }
   ],
   "source": [
    "x"
   ]
  },
  {
   "cell_type": "code",
   "execution_count": 5,
   "metadata": {},
   "outputs": [
    {
     "data": {
      "text/plain": [
       "2"
      ]
     },
     "execution_count": 5,
     "metadata": {},
     "output_type": "execute_result"
    }
   ],
   "source": [
    "y"
   ]
  },
  {
   "cell_type": "markdown",
   "metadata": {},
   "source": [
    "### Element Selection\n",
    "Another way to access the elements in a list is through the element selection operator."
   ]
  },
  {
   "cell_type": "code",
   "execution_count": 6,
   "metadata": {},
   "outputs": [
    {
     "data": {
      "text/plain": [
       "1"
      ]
     },
     "execution_count": 6,
     "metadata": {},
     "output_type": "execute_result"
    }
   ],
   "source": [
    "pair[0]"
   ]
  },
  {
   "cell_type": "markdown",
   "metadata": {},
   "source": [
    "`pair[0]` might seem similar to `pair = [1, 2]`, however, these are 2 different things! \n",
    "\n",
    "1. The `[1, 2]` is a bracket without any expression before it.\n",
    "2. The `[0]` has the expression `pair` right before it\n",
    "    * Whenever we have a square bracket right after an expression, that involves **selecting an element** from a value\n",
    "        * In this case, `pair` is a `list` value\n",
    "        * `pair`'s `0th` element is `1` "
   ]
  },
  {
   "cell_type": "code",
   "execution_count": 7,
   "metadata": {},
   "outputs": [
    {
     "data": {
      "text/plain": [
       "2"
      ]
     },
     "execution_count": 7,
     "metadata": {},
     "output_type": "execute_result"
    }
   ],
   "source": [
    "pair[1]"
   ]
  },
  {
   "cell_type": "markdown",
   "metadata": {},
   "source": [
    "### `getitem` Element Selection Function\n",
    "There's also a function that does the same thing as above. The function `getitem`, which can be acquired from the module `operator`, can be used as the following,"
   ]
  },
  {
   "cell_type": "code",
   "execution_count": 8,
   "metadata": {},
   "outputs": [
    {
     "data": {
      "text/plain": [
       "1"
      ]
     },
     "execution_count": 8,
     "metadata": {},
     "output_type": "execute_result"
    }
   ],
   "source": [
    "from operator import getitem\n",
    "getitem(pair, 0)"
   ]
  },
  {
   "cell_type": "markdown",
   "metadata": {},
   "source": [
    "## Representing Rational Numbers\n",
    "Why pairs are useful?\n",
    "\n",
    "Recall that our rational numbers are pairs of integers: `numerator` and `denominator`. \n",
    "\n",
    "Below we have a definition of the `constructor` of the *abstract data type* for rational numbers. The function `rational` takes in numerator `n` and denominator `d` and returns a list as a representation of `n/d`."
   ]
  },
  {
   "cell_type": "code",
   "execution_count": 9,
   "metadata": {},
   "outputs": [],
   "source": [
    "def rational(n, d):\n",
    "    \"\"\" Construct a rational number that represents N/D \"\"\"\n",
    "    return [n, d]"
   ]
  },
  {
   "cell_type": "markdown",
   "metadata": {},
   "source": [
    "<img src = 'construct.jpg' width = 500/>\n",
    "\n",
    "A `list` can contain anything, not just integers. However, since we want to create a representation of a rational number, we want to use integers.\n",
    "\n",
    "Now let's say we have a rational number `x`, which consists of a list. How do we access `x`'s numerator and denominator? \n",
    "\n",
    "Below, we use `Element Selection` to obtain the numerator and denominator,"
   ]
  },
  {
   "cell_type": "code",
   "execution_count": 10,
   "metadata": {},
   "outputs": [],
   "source": [
    "def numer(x):\n",
    "    \"\"\" Return the numerator of rational number X\"\"\"\n",
    "    return x[0]\n",
    "\n",
    "def denom(x):\n",
    "    \"\"\" Return the denominator of rational number X\"\"\"\n",
    "    return x[1]"
   ]
  },
  {
   "cell_type": "markdown",
   "metadata": {},
   "source": [
    "## Reducing to Lowest Terms\n",
    "Let's see an example of why data abstraction is useful.\n",
    "\n",
    "### Multiplication Example\n",
    "\n",
    "Recall we implemented multiplication among rational number. For example:\n",
    "$$ \\frac{3}{2} \\times \\frac{5}{3} $$\n",
    "\n",
    "However, the answer is not $\\frac{15}{6}$, but instead $\\frac{5}{2}$! How come?\n",
    "\n",
    "$\\frac{15}{6}$ is not a prime integer. We can reduce the fraction to the lowest term by multiplying both `numerator` and `denominator` by $\\frac{1}{3}$ .\n",
    "\n",
    "<img src = 'reduce.jpg' width = 300/>\n",
    "\n",
    "\n",
    "### Addition Example\n",
    "\n",
    "How about addition? We can apply the same procedure as we did before! \n",
    "\n",
    "<img src = 'addition.jpg' width = 300/>\n",
    "\n",
    "How do we change our implementation so that it reduces the fraction to the lowest term?\n",
    "\n",
    "<div class=\"alert alert-block alert-danger\">\n",
    "    <b> Addition and multiplication were correct in the first place! </b> Our definition of \"rational\" was the one that's wrong in the first place.\n",
    "    \n",
    "    A rational number should always be represented in lowest term, with 2 relatively prime integers.\n",
    "</div>\n",
    "\n",
    "Recall in the previous lecture that we defined the **greatest common divisor** function. It turns out that this function is also available built-in in Python. \n",
    "\n",
    "We can redefine the `rational` function so that it constructs a rational number that represents `n / d` but does it in a way that the `numerator` and the `denominator` are always relatively prime. This can be done by:\n",
    "\n",
    "- Computing the greatest common divisor `g` of both `numerator` and `denominator`\n",
    "- Then return a pair that contains the `numerator` and `denominator`, each divided by the `g`. \n",
    "    - We use integer division `//` since we assume that `g` evenly divides both `n` and `d`"
   ]
  },
  {
   "cell_type": "code",
   "execution_count": null,
   "metadata": {},
   "outputs": [],
   "source": [
    "def rational(n, d):\n",
    "    \"\"\" Construct a rational number x  that represents n/d\"\"\"\n",
    "    g = gcd(n, d)\n",
    "    return [n//g, d //g]"
   ]
  },
  {
   "cell_type": "markdown",
   "metadata": {},
   "source": [
    "# ========================= Video 4 ========================="
   ]
  },
  {
   "cell_type": "markdown",
   "metadata": {},
   "source": [
    "# Abstraction Barriers\n",
    "Abstraction barriers separate different parts of a program so that each part only needs to know so much about the rest of the program. The separation is important since it allows us to make changes to one part of the program while the other parts take advantages of those changes without breaking the whole program or creating any inconsistencies. \n",
    "\n",
    "Let's discuss about abstraction barriers in the development of a rational arithmetic system that we have been working on in this lecture.\n",
    "\n",
    "### Use rationals to perform computation\n",
    "- There're parts of the program that \n",
    "    - Uses rational numbers to perform computation. \n",
    "    - For example, we want to know what's $\\frac{1}{2} \\times \\frac{1}{3}$. \n",
    "    \n",
    "- In this case, we treat rationals as **whole data values**\n",
    "    - Rationals represent some numbers \n",
    "    - We don't care how, we just want to know what happens when we multiply the 2 numbers together.\n",
    "    \n",
    "- To do this, we use certain functions that are part of the data abstraction for rational numbers.\n",
    "    - `add_rational`\n",
    "    - `mul_rational`\n",
    "    - `rationals_are_equal`\n",
    "    - `print_rational`\n",
    "    - Using the functions above doesn't mean we need to know much about how rational numbers are represented.\n",
    "    \n",
    "# ------------------------------ Abstraction Barrier ------------------------\n",
    "\n",
    "The line above represents an abstraction barrier. This barrier implies that anything that **uses rational number to perform computation** should only do so through the functions listed above. This way, the program that we wrote:\n",
    "- Makes as few assumptions as possible about exactly what representations we're using\n",
    "- Obeys the abstraction that has been set up by the programmer\n",
    "\n",
    "### Create rationals or implement operations\n",
    "- In the next layer down, we look at the implementations rather than just the use of the arithmetic operators. \n",
    "    - Here we find parts of the program that create rationals or implement rational operations.\n",
    "\n",
    "- Here, the program treat rationals as numerators and denominators paired together. \n",
    "    - The program doesn't need to know how the pairing happened, \n",
    "         - But it needs to know that a rational number has a numerator and a denominator, and they can be selected\n",
    "         - And that a rational number is created by combining a numerator and denominator\n",
    "         \n",
    "- All of these can be done using the functions:\n",
    "    - `rational`\n",
    "    - `numer`\n",
    "    - `denom`\n",
    "\n",
    "# ------------------------------ Abstraction Barrier ------------------------\n",
    "Another abstraction barrier! We are getting deep into the details of the program.\n",
    "\n",
    "### Implement selectors and constructor\n",
    "- Here we have parts of the program that **implement selectors and constructor for rationals**. \n",
    "\n",
    "- Those implementations (`numer` and `denom`) treat rational numbers as **2-element lists**. \n",
    "\n",
    "- It uses list literals and element selection\n",
    "\n",
    "If represented as a table, the abstraction barriers would look like the following,\n",
    "\n",
    "| Parts of the program that... | Treat rationals as... | Using... |\n",
    "| ---- | ---- | ---- |\n",
    "| Use rational numbers <br> to perform computation | whole data values | `add_rational`, `mul_rational`, <br> `rationals_are_equal`, `print_rational` |\n",
    "| Create rationals or implement <br> rational operations | numerators and <br> denominators | `rational`, `numer`, `denom`|\n",
    "| Implement selectors and <br> constructor for rationals | two-element lists | list literals and <br> element selection |\n",
    "\n",
    "For example, part of the program that create rationals or implement rational operations don't need to know that we're using `list`s under the hood. \n",
    "\n",
    "These are not all of the abstraction barriers. In truth, there are many more deeper details (e.g. implementation of lists). However, we don't need to know how, for example, the implementation of lists work. We only need to know that:\n",
    "1. `list` can be created with list literals\n",
    "2. `list` can be taken apart with element selection \n",
    "\n",
    "The higher in the abstraction barrier we are, the easier we can change the program in the future. "
   ]
  },
  {
   "cell_type": "markdown",
   "metadata": {},
   "source": [
    "## Violating Abstraction Barriers\n",
    "Below we have an example of violating abstraction barriers."
   ]
  },
  {
   "cell_type": "code",
   "execution_count": null,
   "metadata": {},
   "outputs": [],
   "source": [
    "add_rational([1, 2], [1, 4])\n",
    "\n",
    "def divide_rational(x, y):\n",
    "    return [x[0] * y[1], x[1] * y[0] ]"
   ]
  },
  {
   "cell_type": "markdown",
   "metadata": {},
   "source": [
    "With our current implementation, there is no problem with the code above. There will be no error. However, **the code above violates abstraction barriers!**\n",
    "\n",
    "### `add_rational([1, 2], [1, 4])`\n",
    "With `add_rational` here, we did not use `constructors`! We assumed right away that a rational number is represented as a list of 2 integers.\n",
    "\n",
    "If we change or update the rational constructors, it won't be used at all in this block of code.\n",
    "\n",
    "<img src = 'add_rational.jpg' width = 400/>\n",
    "\n",
    "### `def divide_rational`\n",
    "Recall that we should treat rational as `numerator` and `denominator`.\n",
    "\n",
    "Here, instead of using `numer` selector function, we used the element selection right away. This means we assume that a rational (e.g. `x`) is a list. \n",
    "\n",
    "On top of that, notice that the function returns a rational number **without using constructor**.\n",
    "\n",
    "<img src = 'divide_rational.jpg' width = 600/>"
   ]
  },
  {
   "cell_type": "markdown",
   "metadata": {},
   "source": [
    "# ========================= Video 5 ========================="
   ]
  },
  {
   "cell_type": "markdown",
   "metadata": {},
   "source": [
    "# Data Representations\n",
    "The purpose of maintaining abstraction barriers is that it allows us to change data representation without having to rewrite the entire program "
   ]
  },
  {
   "cell_type": "markdown",
   "metadata": {},
   "source": [
    "## What is Data?\n",
    "What does it mean for something to represent a rational number?\n",
    "\n",
    "We need to guarantee that `constructor` and `selector` functions work together to specify the right behavior. \n",
    "- We won't have a representation of a rational number unless it behaves like a rational number.\n",
    "\n",
    "Behavior condition: If we construct rational number `x` from numerator `n` and denominator `d`, then,\n",
    "\n",
    "$$ \\frac{numer(x)}{denom(x)} = \\frac{n}{d}$$\n",
    "- We relate the constructor `n` and `d` to the selectors `numer(x)` and `denom(x)` and the operations between them\n",
    "\n",
    "Data abstraction uses constructors and selectors to define behavior. If behavior conditions are met, then the representation is valid.\n",
    "\n",
    "<div class=\"alert alert-block alert-info\">\n",
    "    <b> Key Idea: </b>We can recognize data abstraction by its behavior. Not necessarily by how we constructed or implemented the constructors and selectors.\n",
    "</div>"
   ]
  },
  {
   "cell_type": "markdown",
   "metadata": {},
   "source": [
    "## Demo\n",
    "Let's look back at our example\n",
    "\n",
    "### Rational Arithmetic"
   ]
  },
  {
   "cell_type": "code",
   "execution_count": 5,
   "metadata": {},
   "outputs": [],
   "source": [
    "def add_rational(x, y):\n",
    "    \"\"\" Add rational numbers x and y.\"\"\"\n",
    "    nx, dx = numer(x), denom(x)\n",
    "    ny, dy = numer(y), denom(y)\n",
    "    return rational(nx * dy + ny * dx, dx * dy)\n",
    "\n",
    "def mul_rational(x, y):\n",
    "    \"\"\" Multiply rational numbers x and y.\"\"\"\n",
    "    return rational(numer(x) * numer(y), denom(x) * denom(y))\n",
    "\n",
    "def rationals_are_equal(x, y):\n",
    "    \"\"\" Return whether rational numbers x and y are equal.\"\"\"\n",
    "    return numer(x) * denom(y) == numer(x) * denom(y)\n",
    "\n",
    "def print_rational(x):\n",
    "    \"\"\" Print rational x.\"\"\"\n",
    "    print(numer(x), \"/\", denom(x))"
   ]
  },
  {
   "cell_type": "markdown",
   "metadata": {},
   "source": [
    "All the functions above don't assume anything about the representation itself. Only the `constructor`s and `selector`s exist. \n",
    "\n",
    "## =============== Abstraction Barrier =============\n",
    "\n",
    "### Constructor and Selectors"
   ]
  },
  {
   "cell_type": "code",
   "execution_count": 14,
   "metadata": {},
   "outputs": [],
   "source": [
    "def rational(n, d):\n",
    "    \"\"\" Construct a rational number x that represents n / d.\"\"\"\n",
    "    return [n, d]\n",
    "\n",
    "def numer(x):\n",
    "    \"\"\" Return the numerator of rational number x.\"\"\"\n",
    "    return x[0]\n",
    "\n",
    "def denom(x):\n",
    "    \"\"\" Return the denominator of rational number x.\"\"\"\n",
    "    return x[1]"
   ]
  },
  {
   "cell_type": "code",
   "execution_count": 15,
   "metadata": {},
   "outputs": [],
   "source": [
    "x, y = rational(1, 2), rational(3, 8)"
   ]
  },
  {
   "cell_type": "markdown",
   "metadata": {},
   "source": [
    "Now let's try multiplying `x` and `y` together and `print` the result,"
   ]
  },
  {
   "cell_type": "code",
   "execution_count": 16,
   "metadata": {},
   "outputs": [
    {
     "name": "stdout",
     "output_type": "stream",
     "text": [
      "3 / 16\n"
     ]
    }
   ],
   "source": [
    "print_rational(mul_rational(x, y))"
   ]
  },
  {
   "cell_type": "markdown",
   "metadata": {},
   "source": [
    "Notice here that `x` is a list,"
   ]
  },
  {
   "cell_type": "code",
   "execution_count": 17,
   "metadata": {},
   "outputs": [
    {
     "data": {
      "text/plain": [
       "[1, 2]"
      ]
     },
     "execution_count": 17,
     "metadata": {},
     "output_type": "execute_result"
    }
   ],
   "source": [
    "x"
   ]
  },
  {
   "cell_type": "markdown",
   "metadata": {},
   "source": [
    "It works! We can always change the representation (constructors and selectors) and the code above would still work! For example, instead of using a list to pair together `n` and `d`, we can use a function. Below we change the constructor to be the following,"
   ]
  },
  {
   "cell_type": "code",
   "execution_count": 27,
   "metadata": {},
   "outputs": [],
   "source": [
    "def rational(n, d):\n",
    "    \"\"\" Construct a rational number x that represents n/d.\"\"\"\n",
    "    def select(name):\n",
    "        if name == 'n':\n",
    "            return n\n",
    "        elif name == 'd':\n",
    "            return d\n",
    "    return select"
   ]
  },
  {
   "cell_type": "markdown",
   "metadata": {},
   "source": [
    "Constructors and selectors are complement to each other. Thus we need to modify the selectors `numer` and `denom` as well!\n",
    "\n",
    "If `x` is the result of calling `rational`, then `x` is a `select` function in which we can call with the argument `n` to obtain the numerator."
   ]
  },
  {
   "cell_type": "code",
   "execution_count": 22,
   "metadata": {},
   "outputs": [],
   "source": [
    "def numer(x):\n",
    "    \"\"\" Return the numerator of rational number x.\"\"\"\n",
    "    return x('n')"
   ]
  },
  {
   "cell_type": "markdown",
   "metadata": {},
   "source": [
    "Same thing applies to the `denom`,"
   ]
  },
  {
   "cell_type": "code",
   "execution_count": 23,
   "metadata": {},
   "outputs": [],
   "source": [
    "def denom(x):\n",
    "    \"\"\" Return the denominator of rational number x.\"\"\"\n",
    "    return x('d')"
   ]
  },
  {
   "cell_type": "markdown",
   "metadata": {},
   "source": [
    "Now let's try the code again!"
   ]
  },
  {
   "cell_type": "code",
   "execution_count": 24,
   "metadata": {},
   "outputs": [
    {
     "name": "stdout",
     "output_type": "stream",
     "text": [
      "3 / 16\n"
     ]
    }
   ],
   "source": [
    "x, y = rational(1, 2), rational(3, 8)\n",
    "print_rational(mul_rational(x, y))"
   ]
  },
  {
   "cell_type": "markdown",
   "metadata": {},
   "source": [
    "The code still works! If we want to know the difference between the previous implementation and the current implementation, see that `x` is now a function,"
   ]
  },
  {
   "cell_type": "code",
   "execution_count": 25,
   "metadata": {},
   "outputs": [
    {
     "data": {
      "text/plain": [
       "<function __main__.rational.<locals>.select(name)>"
      ]
     },
     "execution_count": 25,
     "metadata": {},
     "output_type": "execute_result"
    }
   ],
   "source": [
    "x"
   ]
  },
  {
   "cell_type": "markdown",
   "metadata": {},
   "source": [
    "This is a change in **representation**. "
   ]
  },
  {
   "cell_type": "markdown",
   "metadata": {},
   "source": [
    "## Rational Data Abstraction Implemented as Functions\n",
    "What happened when we implemented rational numbers as functions?\n",
    "\n",
    "The `select` function represents the rational number,\n",
    "\n",
    "<img src = 'select.png' width = 300/>\n",
    "\n",
    "The `select` function is then returned by the constructor, the higher-order function `rational`. \n",
    "\n",
    "**Meanwhile**, the `Selector` calls the result of calling `rational`, which is the `select` function.\n",
    "\n",
    "<img src = 'call.jpg' width = 400/>"
   ]
  },
  {
   "cell_type": "code",
   "execution_count": 35,
   "metadata": {},
   "outputs": [
    {
     "data": {
      "text/html": [
       "\n",
       "        <iframe\n",
       "            width=\"100%\"\n",
       "            height=\"350\"\n",
       "            src=\"http://pythontutor.com/iframe-embed.html#code=%0Adef%20rational%28n%2C%20d%29%3A%0A%20%20%20%20%22%22%22%20Construct%20a%20rational%20number%20x%20that%20represents%20n/d.%22%22%22%0A%20%20%20%20def%20select%28name%29%3A%0A%20%20%20%20%20%20%20%20if%20name%20%3D%3D%20%27n%27%3A%0A%20%20%20%20%20%20%20%20%20%20%20%20return%20n%0A%20%20%20%20%20%20%20%20elif%20name%20%3D%3D%20%27d%27%3A%0A%20%20%20%20%20%20%20%20%20%20%20%20return%20d%0A%20%20%20%20return%20select%0A%0Adef%20numer%28x%29%3A%0A%20%20%20%20%22%22%22%20Return%20the%20numerator%20of%20rational%20number%20x.%22%22%22%0A%20%20%20%20return%20x%28%27n%27%29%0A%0Adef%20denom%28x%29%3A%0A%20%20%20%20%22%22%22%20Return%20the%20denominator%20of%20rational%20number%20x.%22%22%22%0A%20%20%20%20return%20x%28%27d%27%29%0A%0Ax%20%3D%20rational%283%2C%208%29%0Anumer%28x%29%0A&origin=opt-frontend.js&cumulative=false&heapPrimitives=false&textReferences=false&curInstr=0&&verticalStack=false&py=3&rawInputLstJSON=%5B%5D&codeDivWidth=50%25&codeDivHeight=100%25\"\n",
       "            frameborder=\"0\"\n",
       "            allowfullscreen\n",
       "        ></iframe>\n",
       "        "
      ],
      "text/plain": [
       "<IPython.lib.display.IFrame at 0x10e4ff0>"
      ]
     },
     "metadata": {},
     "output_type": "display_data"
    }
   ],
   "source": [
    "%%tutor --lang python3\n",
    "\n",
    "def rational(n, d):\n",
    "    \"\"\" Construct a rational number x that represents n/d.\"\"\"\n",
    "    def select(name):\n",
    "        if name == 'n':\n",
    "            return n\n",
    "        elif name == 'd':\n",
    "            return d\n",
    "    return select\n",
    "\n",
    "def numer(x):\n",
    "    \"\"\" Return the numerator of rational number x.\"\"\"\n",
    "    return x('n')\n",
    "\n",
    "def denom(x):\n",
    "    \"\"\" Return the denominator of rational number x.\"\"\"\n",
    "    return x('d')\n",
    "\n",
    "x = rational(3, 8)\n",
    "numer(x)"
   ]
  },
  {
   "cell_type": "code",
   "execution_count": null,
   "metadata": {},
   "outputs": [],
   "source": []
  }
 ],
 "metadata": {
  "kernelspec": {
   "display_name": "Python 3",
   "language": "python",
   "name": "python3"
  },
  "language_info": {
   "codemirror_mode": {
    "name": "ipython",
    "version": 3
   },
   "file_extension": ".py",
   "mimetype": "text/x-python",
   "name": "python",
   "nbconvert_exporter": "python",
   "pygments_lexer": "ipython3",
   "version": "3.7.3"
  }
 },
 "nbformat": 4,
 "nbformat_minor": 2
}
