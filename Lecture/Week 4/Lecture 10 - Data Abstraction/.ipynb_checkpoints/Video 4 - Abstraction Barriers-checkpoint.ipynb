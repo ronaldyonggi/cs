{
 "cells": [
  {
   "cell_type": "code",
   "execution_count": 18,
   "metadata": {},
   "outputs": [],
   "source": [
    "%load_ext tutormagic"
   ]
  },
  {
   "cell_type": "markdown",
   "metadata": {},
   "source": [
    "# Abstraction Barriers\n",
    "Abstraction barriers separate different parts of a program so that each part only needs to know so much about the rest of the program. The separation is important since it allows us to make changes to one part of the program while the other parts take advantages of those changes without breaking the whole program or creating any inconsistencies. \n",
    "\n",
    "Let's discuss about abstraction barriers in the development of a rational arithmetic system that we have been working on in this lecture.\n",
    "\n",
    "### Use rationals to perform computation\n",
    "- There're parts of the program that \n",
    "    - Uses rational numbers to perform computation. \n",
    "    - For example, we want to know what's $\\frac{1}{2} \\times \\frac{1}{3}$. \n",
    "    \n",
    "- In this case, we treat rationals as **whole data values**\n",
    "    - Rationals represent some numbers \n",
    "    - We don't care how, we just want to know what happens when we multiply the 2 numbers together.\n",
    "    \n",
    "- To do this, we use certain functions that are part of the data abstraction for rational numbers.\n",
    "    - `add_rational`\n",
    "    - `mul_rational`\n",
    "    - `rationals_are_equal`\n",
    "    - `print_rational`\n",
    "    - Using the functions above doesn't mean we need to know much about how rational numbers are represented.\n",
    "    \n",
    "# ------------------------------ Abstraction Barrier ------------------------\n",
    "\n",
    "The line above represents an abstraction barrier. This barrier implies that anything that **uses rational number to perform computation** should only do so through the functions listed above. This way, the program that we wrote:\n",
    "- Makes as few assumptions as possible about exactly what representations we're using\n",
    "- Obeys the abstraction that has been set up by the programmer\n",
    "\n",
    "### Create rationals or implement operations\n",
    "- In the next layer down, we look at the implementations rather than just the use of the arithmetic operators. \n",
    "    - Here we find parts of the program that create rationals or implement rational operations.\n",
    "\n",
    "- Here, the program treat rationals as numerators and denominators paired together. \n",
    "    - The program doesn't need to know how the pairing happened, \n",
    "         - But it needs to know that a rational number has a numerator and a denominator, and they can be selected\n",
    "         - And that a rational number is created by combining a numerator and denominator\n",
    "         \n",
    "- All of these can be done using the functions:\n",
    "    - `rational`\n",
    "    - `numer`\n",
    "    - `denom`\n",
    "\n",
    "# ------------------------------ Abstraction Barrier ------------------------\n",
    "Another abstraction barrier! We are getting deep into the details of the program.\n",
    "\n",
    "### Implement selectors and constructor\n",
    "- Here we have parts of the program that **implement selectors and constructor for rationals**. \n",
    "\n",
    "- Those implementations (`numer` and `denom`) treat rational numbers as **2-element lists**. \n",
    "\n",
    "- It uses list literals and element selection\n",
    "\n",
    "If represented as a table, the abstraction barriers would look like the following,\n",
    "\n",
    "| Parts of the program that... | Treat rationals as... | Using... |\n",
    "| ---- | ---- | ---- |\n",
    "| Use rational numbers <br> to perform computation | whole data values | `add_rational`, `mul_rational`, <br> `rationals_are_equal`, `print_rational` |\n",
    "| Create rationals or implement <br> rational operations | numerators and <br> denominators | `rational`, `numer`, `denom`|\n",
    "| Implement selectors and <br> constructor for rationals | two-element lists | list literals and <br> element selection |\n",
    "\n",
    "For example, part of the program that create rationals or implement rational operations don't need to know that we're using `list`s under the hood. \n",
    "\n",
    "These are not all of the abstraction barriers. In truth, there are many more deeper details (e.g. implementation of lists). However, we don't need to know how, for example, the implementation of lists work. We only need to know that:\n",
    "1. `list` can be created with list literals\n",
    "2. `list` can be taken apart with element selection \n",
    "\n",
    "The higher in the abstraction barrier we are, the easier we can change the program in the future. "
   ]
  },
  {
   "cell_type": "markdown",
   "metadata": {},
   "source": [
    "## Violating Abstraction Barriers\n",
    "Below we have an example of violating abstraction barriers."
   ]
  },
  {
   "cell_type": "code",
   "execution_count": null,
   "metadata": {},
   "outputs": [],
   "source": [
    "add_rational([1, 2], [1, 4])\n",
    "\n",
    "def divide_rational(x, y):\n",
    "    return [x[0] * y[1], x[1] * y[0] ]"
   ]
  },
  {
   "cell_type": "markdown",
   "metadata": {},
   "source": [
    "With our current implementation, there is no problem with the code above. There will be no error. However, **the code above violates abstraction barriers!**\n",
    "\n",
    "### `add_rational([1, 2], [1, 4])`\n",
    "With `add_rational` here, we did not use `constructors`! We assumed right away that a rational number is represented as a list of 2 integers.\n",
    "\n",
    "If we change or update the rational constructors, it won't be used at all in this block of code.\n",
    "\n",
    "<img src = 'add_rational.jpg' width = 400/>\n",
    "\n",
    "### `def divide_rational`\n",
    "Recall that we should treat rational as `numerator` and `denominator`.\n",
    "\n",
    "Here, instead of using `numer` selector function, we used the element selection right away. This means we assume that a rational (e.g. `x`) is a list. \n",
    "\n",
    "On top of that, notice that the function returns a rational number **without using constructor**.\n",
    "\n",
    "<img src = 'divide_rational.jpg' width = 600/>"
   ]
  }
 ],
 "metadata": {
  "kernelspec": {
   "display_name": "Python 3",
   "language": "python",
   "name": "python3"
  },
  "language_info": {
   "codemirror_mode": {
    "name": "ipython",
    "version": 3
   },
   "file_extension": ".py",
   "mimetype": "text/x-python",
   "name": "python",
   "nbconvert_exporter": "python",
   "pygments_lexer": "ipython3",
   "version": "3.6.8"
  }
 },
 "nbformat": 4,
 "nbformat_minor": 2
}
