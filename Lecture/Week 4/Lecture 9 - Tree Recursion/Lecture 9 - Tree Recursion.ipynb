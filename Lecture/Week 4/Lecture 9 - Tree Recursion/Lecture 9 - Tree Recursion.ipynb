{
 "cells": [
  {
   "cell_type": "code",
   "execution_count": 1,
   "metadata": {},
   "outputs": [],
   "source": [
    "%load_ext tutormagic"
   ]
  },
  {
   "cell_type": "markdown",
   "metadata": {},
   "source": [
    "# ====================== Video 2 ======================="
   ]
  },
  {
   "cell_type": "markdown",
   "metadata": {},
   "source": [
    "# Order of Recursive Calls\n",
    "Understanding the order of recursive calls is important in understanding the behavior of recursive functions. It is important to remember that when we make a function call, we can't do anything else until the function reaches a `return`."
   ]
  },
  {
   "cell_type": "markdown",
   "metadata": {},
   "source": [
    "## The Cascade Function\n",
    "The `cascade` function takes a positive integer `n` ."
   ]
  },
  {
   "cell_type": "code",
   "execution_count": 2,
   "metadata": {},
   "outputs": [],
   "source": [
    "def cascade(n):\n",
    "    if n < 10:\n",
    "        print(n)\n",
    "    else:\n",
    "        print(n)\n",
    "        cascade(n//10)\n",
    "        print(n)"
   ]
  },
  {
   "cell_type": "markdown",
   "metadata": {},
   "source": [
    "If we call `cascade` on a single number,"
   ]
  },
  {
   "cell_type": "code",
   "execution_count": 3,
   "metadata": {},
   "outputs": [
    {
     "name": "stdout",
     "output_type": "stream",
     "text": [
      "5\n"
     ]
    }
   ],
   "source": [
    "cascade(5)"
   ]
  },
  {
   "cell_type": "markdown",
   "metadata": {},
   "source": [
    "It might seemed that `cascade` doesn't do much. However, if we call `cascade` on a large number,"
   ]
  },
  {
   "cell_type": "code",
   "execution_count": 4,
   "metadata": {},
   "outputs": [
    {
     "name": "stdout",
     "output_type": "stream",
     "text": [
      "12345\n",
      "1234\n",
      "123\n",
      "12\n",
      "1\n",
      "12\n",
      "123\n",
      "1234\n",
      "12345\n"
     ]
    }
   ],
   "source": [
    "cascade(12345)"
   ]
  },
  {
   "cell_type": "markdown",
   "metadata": {},
   "source": [
    "`cascade` creates a pattern! The way it works is that the second `print` statement prints number again (e.g. the second `12345`), but it won't be executed until Python finishes executing `cascade(n//10)`"
   ]
  },
  {
   "cell_type": "markdown",
   "metadata": {},
   "source": [
    "Let's analyze the environment diagram!"
   ]
  },
  {
   "cell_type": "code",
   "execution_count": null,
   "metadata": {},
   "outputs": [],
   "source": [
    "%%tutor --lang python3\n",
    "\n",
    "def cascade(n):\n",
    "    if n < 10:\n",
    "        print(n)\n",
    "    else:\n",
    "        print(n)\n",
    "        cascade(n//10)\n",
    "        print(n)\n",
    "        \n",
    "cascade(123)"
   ]
  },
  {
   "cell_type": "markdown",
   "metadata": {},
   "source": [
    "In the following step:\n",
    "\n",
    "2. Python defines `cascade`\n",
    "    * Binds the function `cascade(n)` to the name `cascade`\n",
    "\n",
    "3. Python executes `cascade(123)`\n",
    "    * Creates a new frame `f1` with formal parameter `n` = `123`\n",
    "    \n",
    "4. Checks if `n` < `10`. No, move on\n",
    "\n",
    "6. Prints `123`\n",
    "\n",
    "7. Recursive call of `cascade(n//10)`, which is `cascade(12)`\n",
    "    * Creates a new frame `f2` with formal parameter `n` = `12`\n",
    "    * **NOTE THAT** here Python still yet to finish the second `print` statement. This `print` statement is delayed until Python finishes executing `cascade(12)`. Here Python delays the `print(123)`\n",
    "    \n",
    "8. Checks if `12` < `10`. No, move on\n",
    "\n",
    "10. Prints `12`\n",
    "\n",
    "11. Recursive call of `cascade(n//10)` once again, which is `cascade(1)`\n",
    "    * Creates a new frame `f3` with formal parameter `n` = `1`\n",
    "    * Delays the second `print(12)`\n",
    "\n",
    "13. Checks if `1` < `10`. Yes!\n",
    "\n",
    "14. Prints `1`\n",
    "    * Obtain a return value `None` since there is no `return` statement at all\n",
    "    \n",
    "15. Python goes back to frame `f2`, attempting to finish the rest of the execution, which is to print the delayed `print(12)`\n",
    "\n",
    "16. Prints the second `12`, and we obtain return value `None` again because there is no `return` statement\n",
    "\n",
    "17. Python goes back to frame `f3`, attempting to finish the rest of `f3` execution as well, which is to print the delayed `print(123)`\n",
    "\n",
    "18. Python prints the second `123`.\n",
    "\n",
    "Some things to remember:\n",
    "1. Each cascade frame is from a different call to cascade\n",
    "2. Until the `Return` value appears, that call has not completed \n",
    "3. Any statement can appear before or after the recursive call\n",
    "    * before: the first `print` statement\n",
    "    * after: the second `print` statement, after the `cascade(n//10)` statement\n",
    "    \n",
    "<img src = 'cascade.jpg' width = 400/>\n",
    "\n",
    "Above shows that the frame `f2` is responsible for printing `12` on both sides before and after `1`.\n"
   ]
  },
  {
   "cell_type": "markdown",
   "metadata": {},
   "source": [
    "## Two Definitions of Cascade\n",
    "What we defined earlier is not the only way to define cascade. Below is a shorter way of defining `cascade`."
   ]
  },
  {
   "cell_type": "code",
   "execution_count": 1,
   "metadata": {},
   "outputs": [],
   "source": [
    "def cascade(n):\n",
    "    print(n)\n",
    "    if n > 10:\n",
    "        cascade(n//10)\n",
    "        print(n)"
   ]
  },
  {
   "cell_type": "markdown",
   "metadata": {},
   "source": [
    "Let's try this new function!"
   ]
  },
  {
   "cell_type": "code",
   "execution_count": 2,
   "metadata": {},
   "outputs": [
    {
     "name": "stdout",
     "output_type": "stream",
     "text": [
      "12345\n",
      "1234\n",
      "123\n",
      "12\n",
      "1\n",
      "12\n",
      "123\n",
      "1234\n",
      "12345\n"
     ]
    }
   ],
   "source": [
    "cascade(12345)"
   ]
  },
  {
   "cell_type": "markdown",
   "metadata": {},
   "source": [
    "Which implementation is better? The previous one or the new, shorter one?\n",
    "1. If the 2 implementations are equally clear, the shorter one is usually better\n",
    "2. In some cases, the longer version is more clear since it indicates the base case and the recursive case\n",
    "3. When learning to write recursive functions, put the base cases first\n",
    "4. Both are recursive functions, even though only the first one has the typical structure\n",
    "\n",
    "If we are deciding between which implementation to use, keep in mind that often times, we write code for someone else to use."
   ]
  },
  {
   "cell_type": "markdown",
   "metadata": {},
   "source": [
    "# ========================= Video 3 ========================="
   ]
  },
  {
   "cell_type": "markdown",
   "metadata": {},
   "source": [
    "## Inverse Cascade\n",
    "This time, we'll write a function that prints an inverse cascade. An inverse cascade look like the following,\n",
    "\n",
    "1\n",
    "12\n",
    "123\n",
    "1234\n",
    "123\n",
    "12\n",
    "1\n",
    "\n",
    "We will be using the following structure, `inverse cascade` for the implementation,"
   ]
  },
  {
   "cell_type": "code",
   "execution_count": 2,
   "metadata": {},
   "outputs": [],
   "source": [
    "def inverse_cascade(n):\n",
    "    grow(n)\n",
    "    print(n)\n",
    "    shrink(n)"
   ]
  },
  {
   "cell_type": "markdown",
   "metadata": {},
   "source": [
    "<img src = 'inverse.jpg' width = 500/>\n",
    "\n",
    "As we can see above,:\n",
    "1. The `grow` function is responsible for the first three lines, `1`, `12`, and `123`.\n",
    "    * It's called `grow` because for every line, it grows longer\n",
    "2. The `print` function is responsible for the middle line (or the longest line)\n",
    "3. The `shrink` function is responsible for the rest.\n",
    "    * It's called `shrink` because for every line, it shrinks (becomes shorter)\n",
    "    \n",
    "Both `grow` and `shrink` will be related to the following higher-order function `f_then_g`, which takes in 2 functions `f` and `g` and a number `n`. The function will call `f`, then call `g`. "
   ]
  },
  {
   "cell_type": "code",
   "execution_count": 3,
   "metadata": {},
   "outputs": [],
   "source": [
    "def f_then_g(f, g, n):\n",
    "    if n: # if n is not 0\n",
    "        f(n)\n",
    "        g(n)"
   ]
  },
  {
   "cell_type": "markdown",
   "metadata": {},
   "source": [
    "Now we'll define `grow` and `shrink` while making use of `f_then_g`."
   ]
  },
  {
   "cell_type": "code",
   "execution_count": 5,
   "metadata": {},
   "outputs": [],
   "source": [
    "grow = lambda n: f_then_g(grow, print, n // 10)"
   ]
  },
  {
   "cell_type": "markdown",
   "metadata": {},
   "source": [
    "The `grow` implementation above makes sense. When we call `inverse_cascade(1234)`, Python will call `grow(1234)`.\n",
    "\n",
    "1. `grow(1234)` means:\n",
    "    * Call `grow(123)`\n",
    "    * Prints (1234)\n",
    "    \n",
    "But the `print(1234)` won't be executed until Python finishes calling `grow(123)`.\n",
    "\n",
    "2. `grow(123)` means:\n",
    "    * Call `grow(12)`\n",
    "    * print(`123`)\n",
    "    \n",
    "Again, the `print(123)` won't be executed until Python finishes calling `grow(12)`\n",
    "\n",
    "The steps repeats until `n` reaches `0`. At this point, the printing starts from the first digit `1`.\n",
    "\n",
    "Meanwhile, the implementation for `shrink` is the opposite of `grow`."
   ]
  },
  {
   "cell_type": "code",
   "execution_count": 6,
   "metadata": {},
   "outputs": [],
   "source": [
    "shrink = lambda n: f_then_g(print, shrink, n // 10)"
   ]
  },
  {
   "cell_type": "code",
   "execution_count": 7,
   "metadata": {},
   "outputs": [
    {
     "name": "stdout",
     "output_type": "stream",
     "text": [
      "1\n",
      "12\n",
      "123\n"
     ]
    }
   ],
   "source": [
    "grow(1234)"
   ]
  },
  {
   "cell_type": "code",
   "execution_count": 8,
   "metadata": {},
   "outputs": [
    {
     "name": "stdout",
     "output_type": "stream",
     "text": [
      "123\n",
      "12\n",
      "1\n"
     ]
    }
   ],
   "source": [
    "shrink(1234)"
   ]
  },
  {
   "cell_type": "markdown",
   "metadata": {},
   "source": [
    "# ========================= Video 4 ========================="
   ]
  },
  {
   "cell_type": "markdown",
   "metadata": {},
   "source": [
    "# Tree Recursion\n",
    "Tree recursion occurs when a function makes more than one recursive call.\n",
    "\n",
    "Tree-shaped processes arise whenever executing the body of a recursive function makes more than one call to that function. \n",
    "\n",
    "An example of tree recursion is the **Fibonacci Sequence**. \n",
    "\n",
    "<img src = 'fib.jpg' width = 500/>\n",
    "\n",
    "Above, we have the index at the top and the fibonacci number at the bottom. This means the 2nd Fibonacci number is 1, the 3rd is 2. \n",
    "\n",
    "See that at first, the Fibonacci number grows slow. However, as the index rises, the increase in Fibonacci number becomes much greater. The `35`th Fibonacci number is `9,227,465`!\n",
    "\n",
    "Below we define the `fib` function, where the base cases cover when `n` is `0` and `1`, while the recursive case sums the previous 2. "
   ]
  },
  {
   "cell_type": "code",
   "execution_count": 10,
   "metadata": {},
   "outputs": [],
   "source": [
    "def fib(n):\n",
    "    if n == 0:\n",
    "        return 0\n",
    "    elif n == 1:\n",
    "        return 1\n",
    "    else:\n",
    "        # Below is the tree recursion\n",
    "        return fib(n-2) + fib(n-1)"
   ]
  },
  {
   "cell_type": "markdown",
   "metadata": {},
   "source": [
    "The `fib` above is a tree recursive function since to compute `fib`, we need to call `fib` twice. "
   ]
  },
  {
   "cell_type": "markdown",
   "metadata": {},
   "source": [
    "## A Tree-Recursive Process\n",
    "The computational process of `fib` evolves into a tree structure. \n",
    "\n",
    "Below we have a **tree structure** of calling `fib(5)`:\n",
    "\n",
    "<img src = 'tree.jpg' width = 700/>\n",
    "\n",
    "How to read the tree above:\n",
    "\n",
    "1. Calling `fib(5)` involves calling `fib(3)` and `fib(4)`\n",
    "    * Calling `fib(3)` involves calling `fib(1)` and `fib(2)`\n",
    "        * `fib(1)` is a base case that returns `1`\n",
    "        * Calling `fib(2)` involves calling `fib(0)` and `fib(1)`\n",
    "            * `fib(0)` is a base case that returns `0`\n",
    "            * `fib(1)` is a base case that returns `1`\n",
    "            \n",
    "And the same thing for `fib(4)`. \n",
    "\n",
    "It is called a **tree structure** because if we flip it, the structure will look like a tree. \n",
    "\n",
    "The computation works as the following,\n",
    "\n",
    "<img src = 'tree_2.jpg' width = 700/>\n",
    "\n",
    "1. To calculate `fib(5)` we need to know the value of `fib(3)` and `fib(4)`\n",
    "    * To calculate `fib(3)`, we need to know the value of `fib(1)` and `fib(2)`\n",
    "        * The value of `fib(1)` is `1`\n",
    "        * To calculate `fib(2)`, we need to know the value of `fib(0)` and `fib(1)`\n",
    "            * The value of `fib(0)` is `0`\n",
    "            * The value of `fib(1)` is `1`\n",
    "\n",
    "Once we know the value of `fib(3)`, we then find out the value of `fib(4)`"
   ]
  },
  {
   "cell_type": "markdown",
   "metadata": {},
   "source": [
    "## Demo\n",
    "Let's test out the `fib` function!"
   ]
  },
  {
   "cell_type": "code",
   "execution_count": 11,
   "metadata": {},
   "outputs": [],
   "source": [
    "def fib(n):\n",
    "    if n == 0:\n",
    "        return 0\n",
    "    elif n == 1:\n",
    "        return 1\n",
    "    else:\n",
    "        # Below is the tree recursion\n",
    "        return fib(n-2) + fib(n-1)"
   ]
  },
  {
   "cell_type": "code",
   "execution_count": 12,
   "metadata": {},
   "outputs": [
    {
     "data": {
      "text/plain": [
       "0"
      ]
     },
     "execution_count": 12,
     "metadata": {},
     "output_type": "execute_result"
    }
   ],
   "source": [
    "fib(0)"
   ]
  },
  {
   "cell_type": "code",
   "execution_count": 13,
   "metadata": {},
   "outputs": [
    {
     "data": {
      "text/plain": [
       "1"
      ]
     },
     "execution_count": 13,
     "metadata": {},
     "output_type": "execute_result"
    }
   ],
   "source": [
    "fib(1)"
   ]
  },
  {
   "cell_type": "code",
   "execution_count": 14,
   "metadata": {},
   "outputs": [
    {
     "data": {
      "text/plain": [
       "1"
      ]
     },
     "execution_count": 14,
     "metadata": {},
     "output_type": "execute_result"
    }
   ],
   "source": [
    "fib(2)"
   ]
  },
  {
   "cell_type": "code",
   "execution_count": 15,
   "metadata": {},
   "outputs": [
    {
     "data": {
      "text/plain": [
       "2"
      ]
     },
     "execution_count": 15,
     "metadata": {},
     "output_type": "execute_result"
    }
   ],
   "source": [
    "fib(3)"
   ]
  },
  {
   "cell_type": "code",
   "execution_count": 16,
   "metadata": {},
   "outputs": [
    {
     "data": {
      "text/plain": [
       "5"
      ]
     },
     "execution_count": 16,
     "metadata": {},
     "output_type": "execute_result"
    }
   ],
   "source": [
    "fib(5)"
   ]
  },
  {
   "cell_type": "code",
   "execution_count": 17,
   "metadata": {},
   "outputs": [
    {
     "data": {
      "text/plain": [
       "21"
      ]
     },
     "execution_count": 17,
     "metadata": {},
     "output_type": "execute_result"
    }
   ],
   "source": [
    "fib(8)"
   ]
  },
  {
   "cell_type": "code",
   "execution_count": 18,
   "metadata": {},
   "outputs": [
    {
     "data": {
      "text/plain": [
       "55"
      ]
     },
     "execution_count": 18,
     "metadata": {},
     "output_type": "execute_result"
    }
   ],
   "source": [
    "fib(10)"
   ]
  },
  {
   "cell_type": "code",
   "execution_count": 19,
   "metadata": {},
   "outputs": [
    {
     "data": {
      "text/plain": [
       "6765"
      ]
     },
     "execution_count": 19,
     "metadata": {},
     "output_type": "execute_result"
    }
   ],
   "source": [
    "fib(20)"
   ]
  },
  {
   "cell_type": "code",
   "execution_count": 20,
   "metadata": {},
   "outputs": [
    {
     "data": {
      "text/plain": [
       "832040"
      ]
     },
     "execution_count": 20,
     "metadata": {},
     "output_type": "execute_result"
    }
   ],
   "source": [
    "fib(30)"
   ]
  },
  {
   "cell_type": "markdown",
   "metadata": {},
   "source": [
    "Notice that when we compute `fib(30)`, the computation takes longer! What's going on?\n",
    "\n",
    "To analyze what's going on, we'll use the `trace` decorator that we used previously from the `ucb` module. Recall the `trace` decorator changes a function's behavior so that it prints out:\n",
    "1. When it gets called\n",
    "2. When it returns"
   ]
  },
  {
   "cell_type": "code",
   "execution_count": 21,
   "metadata": {},
   "outputs": [],
   "source": [
    "from ucb import trace\n",
    "\n",
    "@trace\n",
    "def fib(n):\n",
    "    if n == 0:\n",
    "        return 0\n",
    "    elif n == 1:\n",
    "        return 1\n",
    "    else:\n",
    "        # Below is the tree recursion\n",
    "        return fib(n-2) + fib(n-1)"
   ]
  },
  {
   "cell_type": "code",
   "execution_count": 22,
   "metadata": {},
   "outputs": [
    {
     "name": "stdout",
     "output_type": "stream",
     "text": [
      "fib(0):\n",
      "fib(0) -> 0\n"
     ]
    },
    {
     "data": {
      "text/plain": [
       "0"
      ]
     },
     "execution_count": 22,
     "metadata": {},
     "output_type": "execute_result"
    }
   ],
   "source": [
    "fib(0)"
   ]
  },
  {
   "cell_type": "code",
   "execution_count": 23,
   "metadata": {},
   "outputs": [
    {
     "name": "stdout",
     "output_type": "stream",
     "text": [
      "fib(1):\n",
      "fib(1) -> 1\n"
     ]
    },
    {
     "data": {
      "text/plain": [
       "1"
      ]
     },
     "execution_count": 23,
     "metadata": {},
     "output_type": "execute_result"
    }
   ],
   "source": [
    "fib(1)"
   ]
  },
  {
   "cell_type": "markdown",
   "metadata": {},
   "source": [
    "For `fib(0)` and `fib(1)`, since both are base cases, the traces are simple. However, when we call `fib(2)`,"
   ]
  },
  {
   "cell_type": "code",
   "execution_count": 24,
   "metadata": {},
   "outputs": [
    {
     "name": "stdout",
     "output_type": "stream",
     "text": [
      "fib(2):\n",
      "    fib(0):\n",
      "    fib(0) -> 0\n",
      "    fib(1):\n",
      "    fib(1) -> 1\n",
      "fib(2) -> 1\n"
     ]
    },
    {
     "data": {
      "text/plain": [
       "1"
      ]
     },
     "execution_count": 24,
     "metadata": {},
     "output_type": "execute_result"
    }
   ],
   "source": [
    "fib(2)"
   ]
  },
  {
   "cell_type": "markdown",
   "metadata": {},
   "source": [
    "`fib(2)` involves calling `fib(0)` and `fib(1)`! `fib(0)` returns `0` and `fib(1)` returns `1`. Summing them together, the result of calling `fib(2)` is 1!"
   ]
  },
  {
   "cell_type": "code",
   "execution_count": 25,
   "metadata": {},
   "outputs": [
    {
     "name": "stdout",
     "output_type": "stream",
     "text": [
      "fib(3):\n",
      "    fib(1):\n",
      "    fib(1) -> 1\n",
      "    fib(2):\n",
      "        fib(0):\n",
      "        fib(0) -> 0\n",
      "        fib(1):\n",
      "        fib(1) -> 1\n",
      "    fib(2) -> 1\n",
      "fib(3) -> 2\n"
     ]
    },
    {
     "data": {
      "text/plain": [
       "2"
      ]
     },
     "execution_count": 25,
     "metadata": {},
     "output_type": "execute_result"
    }
   ],
   "source": [
    "fib(3)"
   ]
  },
  {
   "cell_type": "code",
   "execution_count": 26,
   "metadata": {},
   "outputs": [
    {
     "name": "stdout",
     "output_type": "stream",
     "text": [
      "fib(5):\n",
      "    fib(3):\n",
      "        fib(1):\n",
      "        fib(1) -> 1\n",
      "        fib(2):\n",
      "            fib(0):\n",
      "            fib(0) -> 0\n",
      "            fib(1):\n",
      "            fib(1) -> 1\n",
      "        fib(2) -> 1\n",
      "    fib(3) -> 2\n",
      "    fib(4):\n",
      "        fib(2):\n",
      "            fib(0):\n",
      "            fib(0) -> 0\n",
      "            fib(1):\n",
      "            fib(1) -> 1\n",
      "        fib(2) -> 1\n",
      "        fib(3):\n",
      "            fib(1):\n",
      "            fib(1) -> 1\n",
      "            fib(2):\n",
      "                fib(0):\n",
      "                fib(0) -> 0\n",
      "                fib(1):\n",
      "                fib(1) -> 1\n",
      "            fib(2) -> 1\n",
      "        fib(3) -> 2\n",
      "    fib(4) -> 3\n",
      "fib(5) -> 5\n"
     ]
    },
    {
     "data": {
      "text/plain": [
       "5"
      ]
     },
     "execution_count": 26,
     "metadata": {},
     "output_type": "execute_result"
    }
   ],
   "source": [
    "fib(5)"
   ]
  },
  {
   "cell_type": "markdown",
   "metadata": {},
   "source": [
    "As we can see, calling `fib(5)` results in a tree structure. We can see that there are a lot of work Python needs to do to compute `fib(5)`! Now imagine calling `fib(10)` and `fib(30)`."
   ]
  },
  {
   "cell_type": "code",
   "execution_count": 27,
   "metadata": {},
   "outputs": [
    {
     "name": "stdout",
     "output_type": "stream",
     "text": [
      "fib(10):\n",
      "    fib(8):\n",
      "        fib(6):\n",
      "            fib(4):\n",
      "                fib(2):\n",
      "                    fib(0):\n",
      "                    fib(0) -> 0\n",
      "                    fib(1):\n",
      "                    fib(1) -> 1\n",
      "                fib(2) -> 1\n",
      "                fib(3):\n",
      "                    fib(1):\n",
      "                    fib(1) -> 1\n",
      "                    fib(2):\n",
      "                        fib(0):\n",
      "                        fib(0) -> 0\n",
      "                        fib(1):\n",
      "                        fib(1) -> 1\n",
      "                    fib(2) -> 1\n",
      "                fib(3) -> 2\n",
      "            fib(4) -> 3\n",
      "            fib(5):\n",
      "                fib(3):\n",
      "                    fib(1):\n",
      "                    fib(1) -> 1\n",
      "                    fib(2):\n",
      "                        fib(0):\n",
      "                        fib(0) -> 0\n",
      "                        fib(1):\n",
      "                        fib(1) -> 1\n",
      "                    fib(2) -> 1\n",
      "                fib(3) -> 2\n",
      "                fib(4):\n",
      "                    fib(2):\n",
      "                        fib(0):\n",
      "                        fib(0) -> 0\n",
      "                        fib(1):\n",
      "                        fib(1) -> 1\n",
      "                    fib(2) -> 1\n",
      "                    fib(3):\n",
      "                        fib(1):\n",
      "                        fib(1) -> 1\n",
      "                        fib(2):\n",
      "                            fib(0):\n",
      "                            fib(0) -> 0\n",
      "                            fib(1):\n",
      "                            fib(1) -> 1\n",
      "                        fib(2) -> 1\n",
      "                    fib(3) -> 2\n",
      "                fib(4) -> 3\n",
      "            fib(5) -> 5\n",
      "        fib(6) -> 8\n",
      "        fib(7):\n",
      "            fib(5):\n",
      "                fib(3):\n",
      "                    fib(1):\n",
      "                    fib(1) -> 1\n",
      "                    fib(2):\n",
      "                        fib(0):\n",
      "                        fib(0) -> 0\n",
      "                        fib(1):\n",
      "                        fib(1) -> 1\n",
      "                    fib(2) -> 1\n",
      "                fib(3) -> 2\n",
      "                fib(4):\n",
      "                    fib(2):\n",
      "                        fib(0):\n",
      "                        fib(0) -> 0\n",
      "                        fib(1):\n",
      "                        fib(1) -> 1\n",
      "                    fib(2) -> 1\n",
      "                    fib(3):\n",
      "                        fib(1):\n",
      "                        fib(1) -> 1\n",
      "                        fib(2):\n",
      "                            fib(0):\n",
      "                            fib(0) -> 0\n",
      "                            fib(1):\n",
      "                            fib(1) -> 1\n",
      "                        fib(2) -> 1\n",
      "                    fib(3) -> 2\n",
      "                fib(4) -> 3\n",
      "            fib(5) -> 5\n",
      "            fib(6):\n",
      "                fib(4):\n",
      "                    fib(2):\n",
      "                        fib(0):\n",
      "                        fib(0) -> 0\n",
      "                        fib(1):\n",
      "                        fib(1) -> 1\n",
      "                    fib(2) -> 1\n",
      "                    fib(3):\n",
      "                        fib(1):\n",
      "                        fib(1) -> 1\n",
      "                        fib(2):\n",
      "                            fib(0):\n",
      "                            fib(0) -> 0\n",
      "                            fib(1):\n",
      "                            fib(1) -> 1\n",
      "                        fib(2) -> 1\n",
      "                    fib(3) -> 2\n",
      "                fib(4) -> 3\n",
      "                fib(5):\n",
      "                    fib(3):\n",
      "                        fib(1):\n",
      "                        fib(1) -> 1\n",
      "                        fib(2):\n",
      "                            fib(0):\n",
      "                            fib(0) -> 0\n",
      "                            fib(1):\n",
      "                            fib(1) -> 1\n",
      "                        fib(2) -> 1\n",
      "                    fib(3) -> 2\n",
      "                    fib(4):\n",
      "                        fib(2):\n",
      "                            fib(0):\n",
      "                            fib(0) -> 0\n",
      "                            fib(1):\n",
      "                            fib(1) -> 1\n",
      "                        fib(2) -> 1\n",
      "                        fib(3):\n",
      "                            fib(1):\n",
      "                            fib(1) -> 1\n",
      "                            fib(2):\n",
      "                                fib(0):\n",
      "                                fib(0) -> 0\n",
      "                                fib(1):\n",
      "                                fib(1) -> 1\n",
      "                            fib(2) -> 1\n",
      "                        fib(3) -> 2\n",
      "                    fib(4) -> 3\n",
      "                fib(5) -> 5\n",
      "            fib(6) -> 8\n",
      "        fib(7) -> 13\n",
      "    fib(8) -> 21\n",
      "    fib(9):\n",
      "        fib(7):\n",
      "            fib(5):\n",
      "                fib(3):\n",
      "                    fib(1):\n",
      "                    fib(1) -> 1\n",
      "                    fib(2):\n",
      "                        fib(0):\n",
      "                        fib(0) -> 0\n",
      "                        fib(1):\n",
      "                        fib(1) -> 1\n",
      "                    fib(2) -> 1\n",
      "                fib(3) -> 2\n",
      "                fib(4):\n",
      "                    fib(2):\n",
      "                        fib(0):\n",
      "                        fib(0) -> 0\n",
      "                        fib(1):\n",
      "                        fib(1) -> 1\n",
      "                    fib(2) -> 1\n",
      "                    fib(3):\n",
      "                        fib(1):\n",
      "                        fib(1) -> 1\n",
      "                        fib(2):\n",
      "                            fib(0):\n",
      "                            fib(0) -> 0\n",
      "                            fib(1):\n",
      "                            fib(1) -> 1\n",
      "                        fib(2) -> 1\n",
      "                    fib(3) -> 2\n",
      "                fib(4) -> 3\n",
      "            fib(5) -> 5\n",
      "            fib(6):\n",
      "                fib(4):\n",
      "                    fib(2):\n",
      "                        fib(0):\n",
      "                        fib(0) -> 0\n",
      "                        fib(1):\n",
      "                        fib(1) -> 1\n",
      "                    fib(2) -> 1\n",
      "                    fib(3):\n",
      "                        fib(1):\n",
      "                        fib(1) -> 1\n",
      "                        fib(2):\n",
      "                            fib(0):\n",
      "                            fib(0) -> 0\n",
      "                            fib(1):\n",
      "                            fib(1) -> 1\n",
      "                        fib(2) -> 1\n",
      "                    fib(3) -> 2\n",
      "                fib(4) -> 3\n",
      "                fib(5):\n",
      "                    fib(3):\n",
      "                        fib(1):\n",
      "                        fib(1) -> 1\n",
      "                        fib(2):\n",
      "                            fib(0):\n",
      "                            fib(0) -> 0\n",
      "                            fib(1):\n",
      "                            fib(1) -> 1\n",
      "                        fib(2) -> 1\n",
      "                    fib(3) -> 2\n",
      "                    fib(4):\n",
      "                        fib(2):\n",
      "                            fib(0):\n",
      "                            fib(0) -> 0\n",
      "                            fib(1):\n",
      "                            fib(1) -> 1\n",
      "                        fib(2) -> 1\n",
      "                        fib(3):\n",
      "                            fib(1):\n",
      "                            fib(1) -> 1\n",
      "                            fib(2):\n",
      "                                fib(0):\n",
      "                                fib(0) -> 0\n",
      "                                fib(1):\n",
      "                                fib(1) -> 1\n",
      "                            fib(2) -> 1\n",
      "                        fib(3) -> 2\n",
      "                    fib(4) -> 3\n",
      "                fib(5) -> 5\n",
      "            fib(6) -> 8\n",
      "        fib(7) -> 13\n",
      "        fib(8):\n",
      "            fib(6):\n",
      "                fib(4):\n",
      "                    fib(2):\n",
      "                        fib(0):\n",
      "                        fib(0) -> 0\n",
      "                        fib(1):\n",
      "                        fib(1) -> 1\n",
      "                    fib(2) -> 1\n",
      "                    fib(3):\n",
      "                        fib(1):\n",
      "                        fib(1) -> 1\n",
      "                        fib(2):\n",
      "                            fib(0):\n",
      "                            fib(0) -> 0\n",
      "                            fib(1):\n",
      "                            fib(1) -> 1\n",
      "                        fib(2) -> 1\n",
      "                    fib(3) -> 2\n",
      "                fib(4) -> 3\n",
      "                fib(5):\n",
      "                    fib(3):\n",
      "                        fib(1):\n",
      "                        fib(1) -> 1\n",
      "                        fib(2):\n",
      "                            fib(0):\n",
      "                            fib(0) -> 0\n",
      "                            fib(1):\n",
      "                            fib(1) -> 1\n",
      "                        fib(2) -> 1\n",
      "                    fib(3) -> 2\n",
      "                    fib(4):\n",
      "                        fib(2):\n",
      "                            fib(0):\n",
      "                            fib(0) -> 0\n",
      "                            fib(1):\n",
      "                            fib(1) -> 1\n",
      "                        fib(2) -> 1\n",
      "                        fib(3):\n",
      "                            fib(1):\n",
      "                            fib(1) -> 1\n",
      "                            fib(2):\n",
      "                                fib(0):\n",
      "                                fib(0) -> 0\n",
      "                                fib(1):\n",
      "                                fib(1) -> 1\n",
      "                            fib(2) -> 1\n",
      "                        fib(3) -> 2\n",
      "                    fib(4) -> 3\n",
      "                fib(5) -> 5\n",
      "            fib(6) -> 8\n",
      "            fib(7):\n",
      "                fib(5):\n",
      "                    fib(3):\n",
      "                        fib(1):\n",
      "                        fib(1) -> 1\n",
      "                        fib(2):\n",
      "                            fib(0):\n",
      "                            fib(0) -> 0\n",
      "                            fib(1):\n",
      "                            fib(1) -> 1\n",
      "                        fib(2) -> 1\n",
      "                    fib(3) -> 2\n",
      "                    fib(4):\n",
      "                        fib(2):\n",
      "                            fib(0):\n",
      "                            fib(0) -> 0\n",
      "                            fib(1):\n",
      "                            fib(1) -> 1\n",
      "                        fib(2) -> 1\n",
      "                        fib(3):\n",
      "                            fib(1):\n",
      "                            fib(1) -> 1\n",
      "                            fib(2):\n",
      "                                fib(0):\n",
      "                                fib(0) -> 0\n",
      "                                fib(1):\n",
      "                                fib(1) -> 1\n",
      "                            fib(2) -> 1\n",
      "                        fib(3) -> 2\n",
      "                    fib(4) -> 3\n",
      "                fib(5) -> 5\n",
      "                fib(6):\n",
      "                    fib(4):\n",
      "                        fib(2):\n",
      "                            fib(0):\n",
      "                            fib(0) -> 0\n",
      "                            fib(1):\n",
      "                            fib(1) -> 1\n",
      "                        fib(2) -> 1\n",
      "                        fib(3):\n",
      "                            fib(1):\n",
      "                            fib(1) -> 1\n",
      "                            fib(2):\n",
      "                                fib(0):\n",
      "                                fib(0) -> 0\n",
      "                                fib(1):\n",
      "                                fib(1) -> 1\n",
      "                            fib(2) -> 1\n",
      "                        fib(3) -> 2\n",
      "                    fib(4) -> 3\n",
      "                    fib(5):\n",
      "                        fib(3):\n",
      "                            fib(1):\n",
      "                            fib(1) -> 1\n",
      "                            fib(2):\n",
      "                                fib(0):\n",
      "                                fib(0) -> 0\n",
      "                                fib(1):\n",
      "                                fib(1) -> 1\n",
      "                            fib(2) -> 1\n",
      "                        fib(3) -> 2\n",
      "                        fib(4):\n",
      "                            fib(2):\n",
      "                                fib(0):\n",
      "                                fib(0) -> 0\n",
      "                                fib(1):\n",
      "                                fib(1) -> 1\n",
      "                            fib(2) -> 1\n",
      "                            fib(3):\n",
      "                                fib(1):\n",
      "                                fib(1) -> 1\n",
      "                                fib(2):\n",
      "                                    fib(0):\n",
      "                                    fib(0) -> 0\n",
      "                                    fib(1):\n",
      "                                    fib(1) -> 1\n",
      "                                fib(2) -> 1\n",
      "                            fib(3) -> 2\n",
      "                        fib(4) -> 3\n",
      "                    fib(5) -> 5\n",
      "                fib(6) -> 8\n",
      "            fib(7) -> 13\n",
      "        fib(8) -> 21\n",
      "    fib(9) -> 34\n",
      "fib(10) -> 55\n"
     ]
    },
    {
     "data": {
      "text/plain": [
       "55"
      ]
     },
     "execution_count": 27,
     "metadata": {},
     "output_type": "execute_result"
    }
   ],
   "source": [
    "fib(10)"
   ]
  },
  {
   "cell_type": "markdown",
   "metadata": {},
   "source": [
    "## Repetition in Tree-Recursive Computation\n",
    "The `fib` function that we have defined is not an efficient way to compute the fibonacci number. The process is highly repetitive: `fib` is called on the same argument multiple times.\n",
    "\n",
    "<img src = 'remember.jpg' width = 700/>\n",
    "\n",
    "As we can see above, the parts that are written in green font are the repeated computations. It would be nice if we can remember or store such results that if they are being called once again, we can just pull out the stored results. (We'll actually cover about this in future lectures)."
   ]
  },
  {
   "cell_type": "markdown",
   "metadata": {},
   "source": [
    "# ========================= Video 5 ========================="
   ]
  },
  {
   "cell_type": "markdown",
   "metadata": {},
   "source": [
    "# Example: Counting Partitions\n",
    "Counting partitions is a tree-recursive process that's difficult to write without tree recursion. One of the few reasons we learn about partition in this course is to solve problems like this."
   ]
  },
  {
   "cell_type": "markdown",
   "metadata": {},
   "source": [
    "## Counting Partitions\n",
    "The number of partitions of a positive integer `n`, using parts up to size `m`, is the number of ways in which `n` can be expressed as the sum of positive integer parts up to `m` in increasing order. \n",
    "\n",
    "For example, let's say we want to calculate `count_partitions(6, 4)`. This means we want all the calculations that counts to `6` using parts with sizes up to `4`. \n",
    "\n",
    "The following is the partitions:\n",
    "\n",
    "<img src = 'partition.jpg' width = 800/>\n",
    "\n",
    "Notice that all the sums are expressed in increasing order (e.g. `2 + 4`, but we don't have `4 + 2`). Also notice that the biggest number that it uses is `4`. The right side is an illustration of the grouping. \n",
    "\n",
    "The idea is that we're counting the number of ways `6` can be broken down to groups. In this case, we see that there are `9` different ways and thus, `count_partitions(6, 4)` should return `9`. \n",
    "\n",
    "To calculate the partitions, we need a strategy."
   ]
  },
  {
   "cell_type": "markdown",
   "metadata": {},
   "source": [
    "## Strategy for Counting Partitions\n",
    "1. Recursive Decomposition: express the problem in terms of simpler instances of the same problem. \n",
    "2. We can do recursive decomposition by exploring 2 possibilities:\n",
    "    * Use at least one group of `4` in the sum calculation\n",
    "    * Don't use any `4` (use parts up to `3` max)\n",
    "    \n",
    "Below is a representation of splitting the problem to 2 groups: using `4` (the 2 partitions at the top) and not using any `4` (the rest):\n",
    "\n",
    "<img src = 'partition_split.jpg' width = 500/>\n",
    "\n",
    "3. Solve 2 simpler problems by making 2 separate recursive calls:\n",
    "\n",
    "<img src = 'simpler.jpg' width = 700/>\n",
    "\n",
    "When we call `count_partitions(6, 3)`, we can execute another recursive decomposition, separating the problem once again to smaller problems: using `3` and not using any `3`.\n",
    "    * `count_partition(3, 3)`\n",
    "    * `count_partition(6, 2)`\n",
    "\n",
    "<img src = 'simpler_2.jpg' width = 700/>\n",
    "\n",
    "With the `count_partition(6, 2)` call, we can still execute another recursive decomposition! \n",
    "\n",
    "<img src = 'simpler_3.jpg' width = 700/>\n",
    "\n",
    "Tree recursion can be considered a technique that explores different choices or possibilities.\n",
    "\n"
   ]
  },
  {
   "cell_type": "markdown",
   "metadata": {},
   "source": [
    "## Writing the Implementation\n",
    "We define `count_partitions(n, m)` that counts the partitions of an integer `n` using parts up to size `m`."
   ]
  },
  {
   "cell_type": "code",
   "execution_count": null,
   "metadata": {},
   "outputs": [],
   "source": [
    "def count_partitions(n, m):"
   ]
  },
  {
   "cell_type": "markdown",
   "metadata": {},
   "source": [
    "The **recursive decomposition** that we discussed earlier is part of the recursive case. Let's implement that first!"
   ]
  },
  {
   "cell_type": "code",
   "execution_count": null,
   "metadata": {},
   "outputs": [],
   "source": [
    "else:\n",
    "    # Count the partition of n-m using parts up to size m\n",
    "    with_m = count_partitions(n-m, m)\n",
    "    # Count the partition of n using parts that are smaller than m\n",
    "    without_m = count_partitions(n, m-1)\n",
    "    # Sum the cases where we used m and the cases where we did not\n",
    "    return with_m + without_m"
   ]
  },
  {
   "cell_type": "markdown",
   "metadata": {},
   "source": [
    "<img src = 'implement.jpg' width = 800/>\n",
    "\n",
    "Now we can start implementing base cases.\n",
    "1. If `n` is `0`, or if we are partitioning `0`, there's only 1 way to do it: just use `0`\n",
    "2. If `n` < `0`, or if we are partitioning a negative number, this is impossible. Thus, there's `0` way to do this\n",
    "3. If `m` == `0`, or if we can only use parts up to `0`, then we can't make anything with this. Thus, there's `0` way."
   ]
  },
  {
   "cell_type": "code",
   "execution_count": null,
   "metadata": {},
   "outputs": [],
   "source": [
    "def count_partitions(n, m):\n",
    "    if n == 0:\n",
    "        return 1\n",
    "    elif n < 0:\n",
    "        return 0\n",
    "    elif m == 0:\n",
    "        return 0\n",
    "    else:\n",
    "        with_m = count_partitions(n-m, m)\n",
    "        without_m = count_partitions(n, m-1)\n",
    "        return with_m + without_m"
   ]
  }
 ],
 "metadata": {
  "kernelspec": {
   "display_name": "Python 3",
   "language": "python",
   "name": "python3"
  },
  "language_info": {
   "codemirror_mode": {
    "name": "ipython",
    "version": 3
   },
   "file_extension": ".py",
   "mimetype": "text/x-python",
   "name": "python",
   "nbconvert_exporter": "python",
   "pygments_lexer": "ipython3",
   "version": "3.7.3"
  }
 },
 "nbformat": 4,
 "nbformat_minor": 2
}
