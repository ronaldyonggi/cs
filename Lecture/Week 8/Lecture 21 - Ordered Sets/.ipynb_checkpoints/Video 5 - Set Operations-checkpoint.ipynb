{
 "cells": [
  {
   "cell_type": "code",
   "execution_count": 20,
   "metadata": {},
   "outputs": [],
   "source": [
    "# Linked lists\n",
    "class Link:\n",
    "    empty = ()\n",
    "    \n",
    "    def __init__(self, first, rest = empty):\n",
    "        assert rest is Link.empty or isinstance(rest, Link)\n",
    "        self.first = first\n",
    "        self.rest = rest\n",
    "        \n",
    "    def __repr__(self):\n",
    "        if self.rest:\n",
    "            rest_str = ', ' + repr(self.rest)\n",
    "        else:\n",
    "            rest_str = ''\n",
    "        return 'Link({0}{1})'.format(self.first, rest_str)\n",
    "    \n",
    "# The definition of empty doesn't change\n",
    "def empty(s):\n",
    "    return s is Link.empty"
   ]
  },
  {
   "cell_type": "markdown",
   "metadata": {},
   "source": [
    "# Set Operations"
   ]
  },
  {
   "cell_type": "markdown",
   "metadata": {},
   "source": [
    "The `intersection` and `union` set operations are faster if we have a sorted representation of sets rather than unsorted representations. However, we need to use a particular representation to make them faster."
   ]
  },
  {
   "cell_type": "markdown",
   "metadata": {},
   "source": [
    "## Intersecting Ordered Linked Lists"
   ]
  },
  {
   "cell_type": "markdown",
   "metadata": {},
   "source": [
    "**Proposal 2**: A set is represented by a linked list with unique elements that is **ordered from least to greatest**.\n",
    "\n",
    "This time, our goal is to 2 sets: `set1` and `set2`, in which both sets are ordered. `intersect` returns a new linked list containing elements that appear in both sets. "
   ]
  },
  {
   "cell_type": "code",
   "execution_count": 21,
   "metadata": {},
   "outputs": [],
   "source": [
    "def intersect(set1, set2):\n",
    "    # If any of the sets are empty, then no elements appear in both sets. Return an empty set\n",
    "    if empty(set1) or empty(set2):\n",
    "        return Link.empty\n",
    "    else:\n",
    "        # if the first element of set1 is the same as that of set2\n",
    "        if set1.first == set2.first:\n",
    "            # Return a link, containing that element that are the same for both sets\n",
    "            return Link(set1.first, intersect(set1.rest, set2.rest))\n",
    "        # if the first element of set1 is less than that of set2\n",
    "        elif set1.first < set2.first:\n",
    "            # move on to the next element for set1\n",
    "            return intersect(set1.rest, set2)\n",
    "        # if the first element of set1 is greater than that of set2\n",
    "        elif set1.first > set2.first:\n",
    "            return intersect(set1, set2.rest)"
   ]
  },
  {
   "cell_type": "markdown",
   "metadata": {},
   "source": [
    "The order of growth for `intersect` is $\\Theta(n)$. Instead of inspecting every pair of elements to check if they're equal, Python walks through both linked lists, discard one element at a time with each incremental step. We can define `union` in the same way."
   ]
  },
  {
   "cell_type": "code",
   "execution_count": 22,
   "metadata": {},
   "outputs": [],
   "source": [
    "def union(set1, set2):\n",
    "    # If any of the set is empty, just return the other set\n",
    "    if empty(set1):\n",
    "        return set2\n",
    "    elif empty(set2):\n",
    "        return set1\n",
    "    else:\n",
    "        # if set1.first is the same as set2.first\n",
    "        if set1.first == set2.first:\n",
    "            # return a linked list with set1.first as the first element and recursive union call of the rest\n",
    "            # of the sets as the .rest\n",
    "            return Link(set1.first, union(set1.rest, set2.rest))\n",
    "        # if set1.first smaller than set2.first\n",
    "        elif set1.first < set2.first:\n",
    "            # return a linked list with set1.first as the first element and recursive union call where \n",
    "            # we move on with the set1 but set2 stays the same\n",
    "            return Link(set1.first, union(set1.rest, set2))\n",
    "        # if set1.first is greater than set2.first\n",
    "        elif set1.first > set2.first:\n",
    "            # opposite of above\n",
    "            return Link(set2.first, union(set1, set2.rest))"
   ]
  },
  {
   "cell_type": "markdown",
   "metadata": {},
   "source": [
    "Let's try out the functions above!"
   ]
  },
  {
   "cell_type": "code",
   "execution_count": 23,
   "metadata": {},
   "outputs": [],
   "source": [
    "s = Link(1, Link(3, Link(5)))"
   ]
  },
  {
   "cell_type": "code",
   "execution_count": 24,
   "metadata": {},
   "outputs": [],
   "source": [
    "t = Link(2, Link(3, Link(4)))"
   ]
  },
  {
   "cell_type": "code",
   "execution_count": 25,
   "metadata": {},
   "outputs": [
    {
     "data": {
      "text/plain": [
       "Link(3)"
      ]
     },
     "execution_count": 25,
     "metadata": {},
     "output_type": "execute_result"
    }
   ],
   "source": [
    "intersect(s, t)"
   ]
  },
  {
   "cell_type": "code",
   "execution_count": 26,
   "metadata": {},
   "outputs": [
    {
     "data": {
      "text/plain": [
       "Link(1, Link(2, Link(3, Link(4, Link(5)))))"
      ]
     },
     "execution_count": 26,
     "metadata": {},
     "output_type": "execute_result"
    }
   ],
   "source": [
    "union(s, t)"
   ]
  },
  {
   "cell_type": "code",
   "execution_count": null,
   "metadata": {},
   "outputs": [],
   "source": []
  }
 ],
 "metadata": {
  "kernelspec": {
   "display_name": "Python 3",
   "language": "python",
   "name": "python3"
  },
  "language_info": {
   "codemirror_mode": {
    "name": "ipython",
    "version": 3
   },
   "file_extension": ".py",
   "mimetype": "text/x-python",
   "name": "python",
   "nbconvert_exporter": "python",
   "pygments_lexer": "ipython3",
   "version": "3.6.8"
  }
 },
 "nbformat": 4,
 "nbformat_minor": 2
}
