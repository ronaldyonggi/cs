{
 "cells": [
  {
   "cell_type": "code",
   "execution_count": 9,
   "metadata": {},
   "outputs": [],
   "source": [
    "# Linked lists\n",
    "class Link:\n",
    "    empty = ()\n",
    "    \n",
    "    def __init__(self, first, rest = empty):\n",
    "        assert rest is Link.empty or isinstance(rest, Link)\n",
    "        self.first = first\n",
    "        self.rest = rest\n",
    "        \n",
    "    def __repr__(self):\n",
    "        if self.rest:\n",
    "            rest_str = ', ' + repr(self.rest)\n",
    "        else:\n",
    "            rest_str = ''\n",
    "        return 'Link({0}{1})'.format(self.first, rest_str)"
   ]
  },
  {
   "cell_type": "markdown",
   "metadata": {},
   "source": [
    "# Sets as Ordered Linked Lists"
   ]
  },
  {
   "cell_type": "markdown",
   "metadata": {},
   "source": [
    "In this section, we'll consider representing sets as ordered linked lists."
   ]
  },
  {
   "cell_type": "markdown",
   "metadata": {},
   "source": [
    "## Sets as Ordered Sequences"
   ]
  },
  {
   "cell_type": "markdown",
   "metadata": {},
   "source": [
    "#### Proposal 2\n",
    "A set is represented by a linked list with unique elements that is **ordered from least to greatest**.\n",
    "\n",
    "The main idea here is not about making sure that sets are ordered. The main idea is to improve the order of growth for various sets operations. Thus, we're trying to make sets more efficient while still maintaining their general properties.\n",
    "\n",
    "|Parts of the program that... | Assume that sets are...| Using...|\n",
    "| ---- | --- | --- |\n",
    "| Use sets to contain values | Unordered collections | `empty`, `contains`, `adjoin`, `intersect`, `union` |\n",
    "| Implement set operations | Ordered linked lists | `first`, `rest`, `<`, `>`, `==` |\n",
    "\n",
    "Note that between the first row and the second row of the table above, there's an abstraction barrier that separates:\n",
    "1. Parts of the program that work with sets, and\n",
    "2. Parts that implement their representation\n",
    "\n",
    "Different parts of a program may make different assumptions about data"
   ]
  },
  {
   "cell_type": "markdown",
   "metadata": {},
   "source": [
    "## Searching an Ordered List"
   ]
  },
  {
   "cell_type": "markdown",
   "metadata": {},
   "source": [
    "The advantage of ordering the elements in a list is that we know something about the rest of the list just by looking at its first element. \n",
    "\n",
    "Let's say we have the following set,"
   ]
  },
  {
   "cell_type": "code",
   "execution_count": null,
   "metadata": {},
   "outputs": [],
   "source": [
    ">>> s = Link(1, Link(3, Link(5)))"
   ]
  },
  {
   "cell_type": "markdown",
   "metadata": {},
   "source": [
    "Here we represent it as a linked list,"
   ]
  },
  {
   "cell_type": "markdown",
   "metadata": {},
   "source": [
    "<img src = 'represent.jpg' width = 800/>"
   ]
  },
  {
   "cell_type": "markdown",
   "metadata": {},
   "source": [
    "### Contains"
   ]
  },
  {
   "cell_type": "markdown",
   "metadata": {},
   "source": [
    "Now if we want to do the `contains` operation,"
   ]
  },
  {
   "cell_type": "code",
   "execution_count": null,
   "metadata": {},
   "outputs": [],
   "source": [
    ">>> contains(s, 1)\n",
    "True"
   ]
  },
  {
   "cell_type": "markdown",
   "metadata": {},
   "source": [
    "This is easy. We just look at the `first` element, it's `1`. However,"
   ]
  },
  {
   "cell_type": "code",
   "execution_count": null,
   "metadata": {},
   "outputs": [],
   "source": [
    ">>> contains(s, 2)"
   ]
  },
  {
   "cell_type": "markdown",
   "metadata": {},
   "source": [
    "Above is different process, but fortunately it doesn't look through the entire list. \n",
    "\n",
    "1. Python look at the first element, `1`. It's not `2`, so Python moves on to the next element.\n",
    "2. Python moves to the next element, `3`, which is greater than `2`. \n",
    "    * Python knows that `2` is not in the list so far and it is not in the rest of the list either.\n",
    "    \n",
    "Thus, Python returns `False`.\n",
    "\n",
    "From this example, we can see that performing `contains` operation on a sorted representation of a set is faster because we can tell early whether an element is within a list. If the set was unordered, then Python has to go through the entire list. \n",
    "\n",
    "The order of growth of this `contains` is still $\\Theta(n)$ in average case, assuming `v` is not in the list or in an arbitrary location. \n",
    "\n",
    "However, there is an efficiency effect. On average, if we keep taking random `v` that we search for, Python only needs to search maybe half of the list. This constant factor doesn't show up in $\\Theta$ notation, but it is potentially important in practice."
   ]
  },
  {
   "cell_type": "markdown",
   "metadata": {},
   "source": [
    "### Adjoin"
   ]
  },
  {
   "cell_type": "code",
   "execution_count": null,
   "metadata": {},
   "outputs": [],
   "source": [
    ">>> t = adjoin(s, 2)"
   ]
  },
  {
   "cell_type": "markdown",
   "metadata": {},
   "source": [
    "This means create a new set that contains `s` and `2`, and assign it to `t`.\n",
    "\n",
    "1. Python looks at `2` and see whether if it's greater than `1`. Python moves on to the next element\n",
    "2. Python looks at `3`, and realizes that `2` is less than `3`. Python inserts `2` before `3`."
   ]
  },
  {
   "cell_type": "markdown",
   "metadata": {},
   "source": [
    "<img src = 'insert.jpg' width = 900/>"
   ]
  },
  {
   "cell_type": "markdown",
   "metadata": {},
   "source": [
    "3. Python now completes the new set by adding the elements that were less than `2`."
   ]
  },
  {
   "cell_type": "markdown",
   "metadata": {},
   "source": [
    "<img src = 'complete.jpg' width = 900/>"
   ]
  },
  {
   "cell_type": "markdown",
   "metadata": {},
   "source": [
    "The order of growth of `adjoin` is also $\\Theta(n)$ since most of the work is finding where we would insert `2`. \n",
    "\n",
    "Let's implement both of these operations!"
   ]
  },
  {
   "cell_type": "markdown",
   "metadata": {},
   "source": [
    "## Demo - Sets as Sorted Sequences"
   ]
  },
  {
   "cell_type": "markdown",
   "metadata": {},
   "source": [
    "This time we're going to implement sets as sorted sequence"
   ]
  },
  {
   "cell_type": "code",
   "execution_count": 6,
   "metadata": {},
   "outputs": [],
   "source": [
    "# The definition of empty doesn't change\n",
    "def empty(s):\n",
    "    return s is Link.empty"
   ]
  },
  {
   "cell_type": "markdown",
   "metadata": {},
   "source": [
    "This time, `contains` becomes slightly faster since we can return `False` immediately if `s.first` is greater than `v`."
   ]
  },
  {
   "cell_type": "code",
   "execution_count": 7,
   "metadata": {},
   "outputs": [],
   "source": [
    "def contains(s, v):\n",
    "    if empty(s) or s.first > v:\n",
    "        return False\n",
    "    elif s.first == v:\n",
    "        return True\n",
    "    else:\n",
    "        return contains(s.rest, v)"
   ]
  },
  {
   "cell_type": "markdown",
   "metadata": {},
   "source": [
    "And we'll define `adjoin` as well."
   ]
  },
  {
   "cell_type": "code",
   "execution_count": 8,
   "metadata": {},
   "outputs": [],
   "source": [
    "def adjoin(s, v):\n",
    "    # if s is empty or if v is less than the very first element\n",
    "    if empty(s) or v < s.first:\n",
    "        # construct a linked list with v as the first value and s as the rest of the list\n",
    "        return Link(v, s)\n",
    "    # if v is already in the set, do nothing\n",
    "    elif v == s.first:\n",
    "        return s\n",
    "    # if v is supposed to be inserted somewhere within the linked list\n",
    "    else:\n",
    "        return Link(s.first, adjoin(s.rest, v))\n",
    "    "
   ]
  },
  {
   "cell_type": "markdown",
   "metadata": {},
   "source": [
    "Let's test these functions! Below we have the `Link` definition."
   ]
  },
  {
   "cell_type": "code",
   "execution_count": 9,
   "metadata": {},
   "outputs": [],
   "source": [
    "# Linked lists\n",
    "class Link:\n",
    "    empty = ()\n",
    "    \n",
    "    def __init__(self, first, rest = empty):\n",
    "        assert rest is Link.empty or isinstance(rest, Link)\n",
    "        self.first = first\n",
    "        self.rest = rest\n",
    "        \n",
    "    def __repr__(self):\n",
    "        if self.rest:\n",
    "            rest_str = ', ' + repr(self.rest)\n",
    "        else:\n",
    "            rest_str = ''\n",
    "        return 'Link({0}{1})'.format(self.first, rest_str)"
   ]
  },
  {
   "cell_type": "code",
   "execution_count": 10,
   "metadata": {},
   "outputs": [],
   "source": [
    "s = Link(1, Link(3, Link(5)))"
   ]
  },
  {
   "cell_type": "code",
   "execution_count": 11,
   "metadata": {},
   "outputs": [
    {
     "data": {
      "text/plain": [
       "True"
      ]
     },
     "execution_count": 11,
     "metadata": {},
     "output_type": "execute_result"
    }
   ],
   "source": [
    "contains(s, 1)"
   ]
  },
  {
   "cell_type": "code",
   "execution_count": 12,
   "metadata": {},
   "outputs": [
    {
     "data": {
      "text/plain": [
       "False"
      ]
     },
     "execution_count": 12,
     "metadata": {},
     "output_type": "execute_result"
    }
   ],
   "source": [
    "contains(s, 2)"
   ]
  },
  {
   "cell_type": "code",
   "execution_count": 13,
   "metadata": {},
   "outputs": [
    {
     "data": {
      "text/plain": [
       "False"
      ]
     },
     "execution_count": 13,
     "metadata": {},
     "output_type": "execute_result"
    }
   ],
   "source": [
    "contains(s, 6)"
   ]
  },
  {
   "cell_type": "code",
   "execution_count": 14,
   "metadata": {},
   "outputs": [
    {
     "data": {
      "text/plain": [
       "Link(1, Link(3, Link(5)))"
      ]
     },
     "execution_count": 14,
     "metadata": {},
     "output_type": "execute_result"
    }
   ],
   "source": [
    "adjoin(s, 3)"
   ]
  },
  {
   "cell_type": "code",
   "execution_count": 15,
   "metadata": {},
   "outputs": [
    {
     "data": {
      "text/plain": [
       "Link(0, Link(1, Link(3, Link(5))))"
      ]
     },
     "execution_count": 15,
     "metadata": {},
     "output_type": "execute_result"
    }
   ],
   "source": [
    "adjoin(s, 0)"
   ]
  },
  {
   "cell_type": "markdown",
   "metadata": {},
   "source": [
    "Note that `adjoin` doesn't change the original set `s`."
   ]
  },
  {
   "cell_type": "code",
   "execution_count": 16,
   "metadata": {},
   "outputs": [
    {
     "data": {
      "text/plain": [
       "Link(1, Link(2, Link(3, Link(5))))"
      ]
     },
     "execution_count": 16,
     "metadata": {},
     "output_type": "execute_result"
    }
   ],
   "source": [
    "adjoin(s, 2)"
   ]
  },
  {
   "cell_type": "code",
   "execution_count": null,
   "metadata": {},
   "outputs": [],
   "source": []
  }
 ],
 "metadata": {
  "kernelspec": {
   "display_name": "Python 3",
   "language": "python",
   "name": "python3"
  },
  "language_info": {
   "codemirror_mode": {
    "name": "ipython",
    "version": 3
   },
   "file_extension": ".py",
   "mimetype": "text/x-python",
   "name": "python",
   "nbconvert_exporter": "python",
   "pygments_lexer": "ipython3",
   "version": "3.6.8"
  }
 },
 "nbformat": 4,
 "nbformat_minor": 2
}
