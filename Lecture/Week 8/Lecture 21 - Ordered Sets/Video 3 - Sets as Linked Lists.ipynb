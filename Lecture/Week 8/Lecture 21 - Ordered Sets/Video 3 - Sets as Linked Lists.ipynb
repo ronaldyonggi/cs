{
 "cells": [
  {
   "cell_type": "code",
   "execution_count": null,
   "metadata": {},
   "outputs": [],
   "source": [
    "%load_ext tutormagic"
   ]
  },
  {
   "cell_type": "markdown",
   "metadata": {},
   "source": [
    "# Sets as Linked Lists"
   ]
  },
  {
   "cell_type": "markdown",
   "metadata": {},
   "source": [
    "To develop our set data abstraction, we'll need to choose a representation. As a starter, we'll represent a set as a linked list using the `Link` class we've developed.\n",
    "\n",
    "Note that sets aren't just ordinary linked lists. Sets are linked lists without any repeated elements."
   ]
  },
  {
   "cell_type": "markdown",
   "metadata": {},
   "source": [
    "## Sets as Unordered Sequences"
   ]
  },
  {
   "cell_type": "markdown",
   "metadata": {},
   "source": [
    "**Proposal 1**: A set is represented by a linked list that contains no duplicate items."
   ]
  },
  {
   "cell_type": "code",
   "execution_count": null,
   "metadata": {},
   "outputs": [],
   "source": [
    "def empty(s):\n",
    "    return s is Link.empty"
   ]
  },
  {
   "cell_type": "markdown",
   "metadata": {},
   "source": [
    "If we want to know whether a set is empty, we assume that `s` is a `Link` instance of `Link.empty`.\n",
    "\n",
    "We'll also need to define a function that checks whether a value is contained within a set."
   ]
  },
  {
   "cell_type": "code",
   "execution_count": null,
   "metadata": {},
   "outputs": [],
   "source": [
    "def contains(s, v):\n",
    "    \"\"\" Return whether set s contain value v\n",
    "    >>> s = Link(1, Link(3, Link(2)))\n",
    "    >>> contain(s, 2)\n",
    "    True\n",
    "    \"\"\""
   ]
  },
  {
   "cell_type": "markdown",
   "metadata": {},
   "source": [
    "How would we define such function?"
   ]
  },
  {
   "cell_type": "markdown",
   "metadata": {},
   "source": [
    "## Demo"
   ]
  },
  {
   "cell_type": "markdown",
   "metadata": {},
   "source": [
    "Below we have the `Link` class,"
   ]
  },
  {
   "cell_type": "code",
   "execution_count": 2,
   "metadata": {},
   "outputs": [],
   "source": [
    "# Linked lists\n",
    "class Link:\n",
    "    empty = ()\n",
    "    \n",
    "    def __init__(self, first, rest = empty):\n",
    "        assert rest is Link.empty or isinstance(rest, Link)\n",
    "        self.first = first\n",
    "        self.rest = rest\n",
    "        \n",
    "    def __repr__(self):\n",
    "        if self.rest:\n",
    "            rest_str = ', ' + repr(self.rest)\n",
    "        else:\n",
    "            rest_str = ''\n",
    "        return 'Link({0}{1})'.format(self.first, rest_str)"
   ]
  },
  {
   "cell_type": "markdown",
   "metadata": {},
   "source": [
    "We also have the `filter_link` function, which returns elements `e` of `s` in which `f(e)` returns `True`."
   ]
  },
  {
   "cell_type": "code",
   "execution_count": 3,
   "metadata": {},
   "outputs": [],
   "source": [
    "def filter_link(f, s):\n",
    "    \"\"\" Return elements e of s for which f(e) is true\"\"\"\n",
    "    if s is Link.empty:\n",
    "        return s\n",
    "    else:\n",
    "        filtered = filter_link(f, s.rest)\n",
    "        if f(s.first):\n",
    "            return Link(s.first, filtered)\n",
    "        else:\n",
    "            return filtered"
   ]
  },
  {
   "cell_type": "markdown",
   "metadata": {},
   "source": [
    "And we have `extend_link`, which takes 2 linked lists `s` and `t` and gives us the linked list `s` followed by `t`. "
   ]
  },
  {
   "cell_type": "code",
   "execution_count": 4,
   "metadata": {},
   "outputs": [],
   "source": [
    "def extend_link(s, t):\n",
    "    if empty(s):\n",
    "        return t\n",
    "    else:\n",
    "        return Link(s.first, extend_link(s.rest, t))"
   ]
  },
  {
   "cell_type": "markdown",
   "metadata": {},
   "source": [
    "And below is the definition of sets as unsorted sequences."
   ]
  },
  {
   "cell_type": "code",
   "execution_count": 5,
   "metadata": {},
   "outputs": [],
   "source": [
    "def empty(s):\n",
    "    return s is Link.empty"
   ]
  },
  {
   "cell_type": "markdown",
   "metadata": {},
   "source": [
    "`contains` assumes that we're representing `s` as a linked list, but we don't know anything about the order of its elements. Thus we need to define the `contains` function that takes in a set `s` and a value `v` and tells us whether `v` is in the set `s`."
   ]
  },
  {
   "cell_type": "code",
   "execution_count": 6,
   "metadata": {},
   "outputs": [],
   "source": [
    "def contains(s, v):\n",
    "    \"\"\" Return true if set s contains value v as an element.\n",
    "    \n",
    "    >>> s = Link(1, Link(3, Link(2)))\n",
    "    >>> contains(s, 2)\n",
    "    True\n",
    "    >>> contains(s, 5)\n",
    "    False\n",
    "    \"\"\"\n",
    "    # If the set is empty, then most likely it's False\n",
    "    if empty(s):\n",
    "        return False\n",
    "    # Checks if the 'first' attribute is the value\n",
    "    elif s.first == v:\n",
    "        return True\n",
    "    else:\n",
    "        return contains(s.rest, v)"
   ]
  },
  {
   "cell_type": "markdown",
   "metadata": {},
   "source": [
    "Let's check if the function above works!"
   ]
  },
  {
   "cell_type": "code",
   "execution_count": 7,
   "metadata": {},
   "outputs": [],
   "source": [
    "s = Link(1, Link(3, Link(2)))"
   ]
  },
  {
   "cell_type": "code",
   "execution_count": 8,
   "metadata": {},
   "outputs": [
    {
     "data": {
      "text/plain": [
       "True"
      ]
     },
     "execution_count": 8,
     "metadata": {},
     "output_type": "execute_result"
    }
   ],
   "source": [
    "contains(s, 2)"
   ]
  },
  {
   "cell_type": "code",
   "execution_count": 9,
   "metadata": {},
   "outputs": [
    {
     "data": {
      "text/plain": [
       "False"
      ]
     },
     "execution_count": 9,
     "metadata": {},
     "output_type": "execute_result"
    }
   ],
   "source": [
    "contains(s, 5)"
   ]
  },
  {
   "cell_type": "markdown",
   "metadata": {},
   "source": [
    "How long did it take to perform these operations?"
   ]
  },
  {
   "cell_type": "markdown",
   "metadata": {},
   "source": [
    "| Function | Time order of growth |\n",
    "| --- | --- |\n",
    "| `empty` | $\\Theta(1)$ |\n",
    "| `contains` | Time depends on whether and where `v` appears in `s` <br> but approximately $\\Theta(n)$ assuming `v` either does not appear in `s` <br> **or** appears in uniformly distributed random location |\n",
    "\n",
    "For `contains`, $\\Theta(n)$ describes the average amount of time that it takes to find a value in a set `s` of length `n` assuming that `v` is either not there or appears in some random location."
   ]
  },
  {
   "cell_type": "markdown",
   "metadata": {},
   "source": [
    "## Sets as Unordered Sequences"
   ]
  },
  {
   "cell_type": "markdown",
   "metadata": {},
   "source": [
    "What other operations might we perform?"
   ]
  },
  {
   "cell_type": "code",
   "execution_count": null,
   "metadata": {},
   "outputs": [],
   "source": [
    "def adjoin(s, v):\n",
    "    # if s already contains v\n",
    "    if contains(s, v):\n",
    "        return s # then just return s without doing anything\n",
    "    else:\n",
    "        # Otherwise, create a new set with `v` in it\n",
    "        return Link(v, s)"
   ]
  },
  {
   "cell_type": "markdown",
   "metadata": {},
   "source": [
    "The time order of growth for `adjoin` is $\\Theta(n)$, where `n` is the size of the set. Python has to search through `s` to see whether `v` is within `s`. "
   ]
  },
  {
   "cell_type": "code",
   "execution_count": null,
   "metadata": {},
   "outputs": [],
   "source": [
    "def intersect(set1, set2):\n",
    "    # in_set2 is a function that takes a value v and checks whether set2 contains v\n",
    "    in_set2 = lambda v: contains(set2, v)\n",
    "    # filter set1 for all the elements that are also in set2\n",
    "    return filter_link(in_set2, set1)"
   ]
  },
  {
   "cell_type": "markdown",
   "metadata": {},
   "source": [
    "`filter_link(in_set2, set1)` return elements `x` for which `in_set2(x)` returns `True`. It takes $\\Theta(n^2)$ to use `intersect` since it uses the `contains` function for every element in `set1`. The order of growth $\\Theta(n^2)$ is valid if both `set1` and `set2` are the same size. If they have different sizes (e.g. `set1` = `m`, `set2` = `n`), then the order of growth is $\\Theta(m \\times n)$"
   ]
  },
  {
   "cell_type": "code",
   "execution_count": 1,
   "metadata": {},
   "outputs": [],
   "source": [
    "def union(set1, set2):\n",
    "    # find all the elements that are in set1 but not in set2\n",
    "    not_in_set2 = lambda v: not contains(set2, v)\n",
    "    set1_not_set2 = filter_link(not_in_set2, set1)\n",
    "    # add them to whatever's already in set2\n",
    "    return extend_link(set1_not_set2, set2)"
   ]
  },
  {
   "cell_type": "markdown",
   "metadata": {},
   "source": [
    "Above, we don't mutate `set1` and `set2` at all. Instead, we returns a linked list containing all elements in `set1_not_set2` followed by all elements in `set2`. \n",
    "\n",
    "The `union` operation has an order of growth $\\Theta(n^2)$ due to the following,\n",
    "1. Use of `filter_link`\n",
    "2. Use of `extend_link`\n",
    "\n",
    "However with `extend_link`, we might think that we have order of growth of $\\Theta(n^2 + n)$. We treat this the same as $\\Theta(n^2)$. "
   ]
  },
  {
   "cell_type": "code",
   "execution_count": null,
   "metadata": {},
   "outputs": [],
   "source": []
  },
  {
   "cell_type": "markdown",
   "metadata": {},
   "source": [
    "| Function | Time order of growth | \n",
    "| ---- | --- |\n",
    "| `adjoin` | $\\Theta(n)$ |\n",
    "| `intersect` | $\\Theta(n^2)$ |\n",
    "| `union` | $\\Theta(n^2)$ |"
   ]
  },
  {
   "cell_type": "code",
   "execution_count": null,
   "metadata": {},
   "outputs": [],
   "source": []
  }
 ],
 "metadata": {
  "kernelspec": {
   "display_name": "Python 3",
   "language": "python",
   "name": "python3"
  },
  "language_info": {
   "codemirror_mode": {
    "name": "ipython",
    "version": 3
   },
   "file_extension": ".py",
   "mimetype": "text/x-python",
   "name": "python",
   "nbconvert_exporter": "python",
   "pygments_lexer": "ipython3",
   "version": "3.6.8"
  }
 },
 "nbformat": 4,
 "nbformat_minor": 2
}
