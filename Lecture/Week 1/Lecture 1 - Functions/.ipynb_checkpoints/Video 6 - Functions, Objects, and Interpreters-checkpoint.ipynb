{
 "cells": [
  {
   "cell_type": "markdown",
   "metadata": {},
   "source": [
    "# Functions, Objects, and Interpreters\n",
    "This is a demonstration of some Python features. \n",
    "\n",
    "Here we will open Shakespeare's plays,"
   ]
  },
  {
   "cell_type": "code",
   "execution_count": 5,
   "metadata": {},
   "outputs": [],
   "source": [
    "shakes = open('shakespeare.txt')"
   ]
  },
  {
   "cell_type": "markdown",
   "metadata": {},
   "source": [
    "Here we tell Python to read all the plays that he wrote, and split them into individual words,"
   ]
  },
  {
   "cell_type": "code",
   "execution_count": 6,
   "metadata": {},
   "outputs": [],
   "source": [
    "text = shakes.read().split()"
   ]
  },
  {
   "cell_type": "markdown",
   "metadata": {},
   "source": [
    "Now `text` contains Shakespeare's words. The first 25 words are the following,"
   ]
  },
  {
   "cell_type": "code",
   "execution_count": 7,
   "metadata": {},
   "outputs": [
    {
     "data": {
      "text/plain": [
       "['A',\n",
       " \"MIDSUMMER-NIGHT'S\",\n",
       " 'DREAM',\n",
       " 'Now',\n",
       " ',',\n",
       " 'fair',\n",
       " 'Hippolyta',\n",
       " ',',\n",
       " 'our',\n",
       " 'nuptial',\n",
       " 'hour',\n",
       " 'Draws',\n",
       " 'on',\n",
       " 'apace',\n",
       " ':',\n",
       " 'four',\n",
       " 'happy',\n",
       " 'days',\n",
       " 'bring',\n",
       " 'in',\n",
       " 'Another',\n",
       " 'moon',\n",
       " ';',\n",
       " 'but',\n",
       " 'O']"
      ]
     },
     "execution_count": 7,
     "metadata": {},
     "output_type": "execute_result"
    }
   ],
   "source": [
    "text[:25]"
   ]
  },
  {
   "cell_type": "markdown",
   "metadata": {},
   "source": [
    "\"A Midsummer-night's Dream\" is the title of the text. Below we can evaluate how many words there are in the text:"
   ]
  },
  {
   "cell_type": "code",
   "execution_count": 8,
   "metadata": {},
   "outputs": [
    {
     "data": {
      "text/plain": [
       "980637"
      ]
     },
     "execution_count": 8,
     "metadata": {},
     "output_type": "execute_result"
    }
   ],
   "source": [
    "len(text)"
   ]
  },
  {
   "cell_type": "markdown",
   "metadata": {},
   "source": [
    "It turns out the word `the` appears a lot in the text! We can count how many times the word \"the\" appear,"
   ]
  },
  {
   "cell_type": "code",
   "execution_count": 9,
   "metadata": {},
   "outputs": [
    {
     "data": {
      "text/plain": [
       "23272"
      ]
     },
     "execution_count": 9,
     "metadata": {},
     "output_type": "execute_result"
    }
   ],
   "source": [
    "text.count('the')"
   ]
  },
  {
   "cell_type": "markdown",
   "metadata": {},
   "source": [
    "One typical word that is used back in Shakespeare-an era is \"thou\". We can count how many times \"thou\" appear in the text,"
   ]
  },
  {
   "cell_type": "code",
   "execution_count": 10,
   "metadata": {},
   "outputs": [
    {
     "data": {
      "text/plain": [
       "4501"
      ]
     },
     "execution_count": 10,
     "metadata": {},
     "output_type": "execute_result"
    }
   ],
   "source": [
    "text.count('thou')"
   ]
  },
  {
   "cell_type": "markdown",
   "metadata": {},
   "source": [
    "And we can try to count other words too,    "
   ]
  },
  {
   "cell_type": "code",
   "execution_count": 11,
   "metadata": {},
   "outputs": [
    {
     "data": {
      "text/plain": [
       "12361"
      ]
     },
     "execution_count": 11,
     "metadata": {},
     "output_type": "execute_result"
    }
   ],
   "source": [
    "text.count('you')"
   ]
  },
  {
   "cell_type": "code",
   "execution_count": 13,
   "metadata": {},
   "outputs": [
    {
     "data": {
      "text/plain": [
       "40"
      ]
     },
     "execution_count": 13,
     "metadata": {},
     "output_type": "execute_result"
    }
   ],
   "source": [
    "text.count('forsooth')"
   ]
  },
  {
   "cell_type": "markdown",
   "metadata": {},
   "source": [
    "What is the most common appearance in the text? If we see from the first 25 words, seems like the comma `,` appears a lot. We can try counting the number of comma `,` in the text."
   ]
  },
  {
   "cell_type": "code",
   "execution_count": 15,
   "metadata": {},
   "outputs": [
    {
     "data": {
      "text/plain": [
       "81827"
      ]
     },
     "execution_count": 15,
     "metadata": {},
     "output_type": "execute_result"
    }
   ],
   "source": [
    "text.count(',')"
   ]
  },
  {
   "cell_type": "markdown",
   "metadata": {},
   "source": [
    "81,827! We can calculate the proportion of comma in the text as well by dividing the count with the total length of the text,"
   ]
  },
  {
   "cell_type": "code",
   "execution_count": 16,
   "metadata": {},
   "outputs": [
    {
     "data": {
      "text/plain": [
       "0.0834427010198473"
      ]
     },
     "execution_count": 16,
     "metadata": {},
     "output_type": "execute_result"
    }
   ],
   "source": [
    "text.count(',') / len(text)"
   ]
  },
  {
   "cell_type": "markdown",
   "metadata": {},
   "source": [
    "As we can see, the comma `,` just made up about 8% of the text.\n",
    "\n",
    "We can check if a word is within a text. First of all, we can create a `set`,"
   ]
  },
  {
   "cell_type": "code",
   "execution_count": 18,
   "metadata": {},
   "outputs": [],
   "source": [
    "words = set(text)"
   ]
  },
  {
   "cell_type": "markdown",
   "metadata": {},
   "source": [
    "`set` is an unordered collection of unique elements. We can see the documentation below,"
   ]
  },
  {
   "cell_type": "code",
   "execution_count": 20,
   "metadata": {},
   "outputs": [],
   "source": [
    "set?"
   ]
  },
  {
   "cell_type": "markdown",
   "metadata": {},
   "source": [
    "Now we can check whether some certain words are in `words`."
   ]
  },
  {
   "cell_type": "code",
   "execution_count": 21,
   "metadata": {},
   "outputs": [
    {
     "data": {
      "text/plain": [
       "True"
      ]
     },
     "execution_count": 21,
     "metadata": {},
     "output_type": "execute_result"
    }
   ],
   "source": [
    "'forsooth' in words"
   ]
  },
  {
   "cell_type": "code",
   "execution_count": 22,
   "metadata": {},
   "outputs": [
    {
     "data": {
      "text/plain": [
       "True"
      ]
     },
     "execution_count": 22,
     "metadata": {},
     "output_type": "execute_result"
    }
   ],
   "source": [
    "'the' in words"
   ]
  },
  {
   "cell_type": "markdown",
   "metadata": {},
   "source": [
    "We can see how many unique words are in the text by evaluating the length of `words`."
   ]
  },
  {
   "cell_type": "code",
   "execution_count": 23,
   "metadata": {},
   "outputs": [
    {
     "data": {
      "text/plain": [
       "33505"
      ]
     },
     "execution_count": 23,
     "metadata": {},
     "output_type": "execute_result"
    }
   ],
   "source": [
    "len(words)"
   ]
  },
  {
   "cell_type": "markdown",
   "metadata": {},
   "source": [
    "By now, we have covered 2 major themes of the course:\n",
    "\n",
    "1. Functions, such as `len()`, `open()`\n",
    "2. Objects\n",
    "* `set` is an object. It represents and behaves like a set of all words in Shakespeare. \n",
    "\n",
    "And last but not least, the programming language itself, which is how we are expressing all the information in the cells above and what are being interpreted by the computer to give us the result that we see from each cell.\n",
    "\n",
    "Everything that we have run so far in each cell are expressions. We have simple expression like the following,"
   ]
  },
  {
   "cell_type": "code",
   "execution_count": 24,
   "metadata": {},
   "outputs": [
    {
     "data": {
      "text/plain": [
       "'draw'"
      ]
     },
     "execution_count": 24,
     "metadata": {},
     "output_type": "execute_result"
    }
   ],
   "source": [
    "'draw'"
   ]
  },
  {
   "cell_type": "markdown",
   "metadata": {},
   "source": [
    "We can also have an expression that contain operation,"
   ]
  },
  {
   "cell_type": "code",
   "execution_count": 25,
   "metadata": {},
   "outputs": [
    {
     "data": {
      "text/plain": [
       "'ward'"
      ]
     },
     "execution_count": 25,
     "metadata": {},
     "output_type": "execute_result"
    }
   ],
   "source": [
    "'draw'[::-1]"
   ]
  },
  {
   "cell_type": "markdown",
   "metadata": {},
   "source": [
    "Above, the `[::-1]` is an operation that reverses a word. We can use this operation in combination inside a bigger expression,"
   ]
  },
  {
   "cell_type": "code",
   "execution_count": 26,
   "metadata": {},
   "outputs": [
    {
     "data": {
      "text/plain": [
       "{'level', 'madam', 'minim', 'redder', 'refer', 'rever'}"
      ]
     },
     "execution_count": 26,
     "metadata": {},
     "output_type": "execute_result"
    }
   ],
   "source": [
    "{w for w in words if w == w[::-1] and len(w) > 4}"
   ]
  },
  {
   "cell_type": "markdown",
   "metadata": {},
   "source": [
    "Here we obtain the words that are longer than 4 characters and the same forward and backwards."
   ]
  },
  {
   "cell_type": "code",
   "execution_count": 27,
   "metadata": {},
   "outputs": [
    {
     "data": {
      "text/plain": [
       "{'bard',\n",
       " 'bats',\n",
       " 'brag',\n",
       " 'deed',\n",
       " 'deem',\n",
       " 'deer',\n",
       " 'dial',\n",
       " 'doom',\n",
       " 'door',\n",
       " 'drab',\n",
       " 'draw',\n",
       " 'ecce',\n",
       " 'elle',\n",
       " 'esse',\n",
       " 'evil',\n",
       " 'flow',\n",
       " 'garb',\n",
       " 'gnat',\n",
       " 'gums',\n",
       " 'hoop',\n",
       " 'keel',\n",
       " 'laid',\n",
       " 'leek',\n",
       " 'leer',\n",
       " 'lees',\n",
       " 'liar',\n",
       " 'live',\n",
       " 'loop',\n",
       " 'maws',\n",
       " 'meed',\n",
       " 'meet',\n",
       " 'mood',\n",
       " 'moor',\n",
       " 'nips',\n",
       " 'noon',\n",
       " 'part',\n",
       " 'peep',\n",
       " 'pins',\n",
       " 'pooh',\n",
       " 'pool',\n",
       " 'poop',\n",
       " 'port',\n",
       " 'pots',\n",
       " 'rail',\n",
       " 'rats',\n",
       " 'reed',\n",
       " 'reel',\n",
       " 'rood',\n",
       " 'room',\n",
       " 'seel',\n",
       " 'sees',\n",
       " 'smug',\n",
       " 'snip',\n",
       " 'spin',\n",
       " 'spit',\n",
       " 'spot',\n",
       " 'stab',\n",
       " 'star',\n",
       " 'stop',\n",
       " 'swam',\n",
       " 'tang',\n",
       " 'teem',\n",
       " 'tips',\n",
       " 'tops',\n",
       " 'trap',\n",
       " 'trop',\n",
       " 'trow',\n",
       " 'ward',\n",
       " 'wolf',\n",
       " 'wort'}"
      ]
     },
     "execution_count": 27,
     "metadata": {},
     "output_type": "execute_result"
    }
   ],
   "source": [
    "{w for w in words if w[::-1] in words and len(w) == 4}"
   ]
  },
  {
   "cell_type": "markdown",
   "metadata": {},
   "source": [
    "Above, we display all words that are 4 characters long and in which the reverse are also contained in `words`. We can see if such thing exist for words with longer characters,"
   ]
  },
  {
   "cell_type": "code",
   "execution_count": 28,
   "metadata": {},
   "outputs": [
    {
     "data": {
      "text/plain": [
       "{'asses',\n",
       " 'deeps',\n",
       " 'devil',\n",
       " 'keels',\n",
       " 'knits',\n",
       " 'leets',\n",
       " 'leper',\n",
       " 'level',\n",
       " 'lived',\n",
       " 'madam',\n",
       " 'minim',\n",
       " 'refer',\n",
       " 'repel',\n",
       " 'rever',\n",
       " 'sessa',\n",
       " 'sleek',\n",
       " 'speed',\n",
       " 'spots',\n",
       " 'steel',\n",
       " 'stink',\n",
       " 'stops'}"
      ]
     },
     "execution_count": 28,
     "metadata": {},
     "output_type": "execute_result"
    }
   ],
   "source": [
    "{w for w in words if w[::-1] in words and len(w) == 5}"
   ]
  },
  {
   "cell_type": "code",
   "execution_count": 29,
   "metadata": {},
   "outputs": [
    {
     "data": {
      "text/plain": [
       "{'diaper', 'drawer', 'redder', 'repaid', 'reward'}"
      ]
     },
     "execution_count": 29,
     "metadata": {},
     "output_type": "execute_result"
    }
   ],
   "source": [
    "{w for w in words if w[::-1] in words and len(w) == 6}"
   ]
  },
  {
   "cell_type": "code",
   "execution_count": 30,
   "metadata": {},
   "outputs": [
    {
     "data": {
      "text/plain": [
       "set()"
      ]
     },
     "execution_count": 30,
     "metadata": {},
     "output_type": "execute_result"
    }
   ],
   "source": [
    "{w for w in words if w[::-1] in words and len(w) > 6}"
   ]
  },
  {
   "cell_type": "markdown",
   "metadata": {},
   "source": [
    "It seems that within Shakespeare's plays, there isn't any word that is longer than 6 words in which the reverse is also contained in the plays."
   ]
  }
 ],
 "metadata": {
  "kernelspec": {
   "display_name": "Python 3",
   "language": "python",
   "name": "python3"
  },
  "language_info": {
   "codemirror_mode": {
    "name": "ipython",
    "version": 3
   },
   "file_extension": ".py",
   "mimetype": "text/x-python",
   "name": "python",
   "nbconvert_exporter": "python",
   "pygments_lexer": "ipython3",
   "version": "3.6.8"
  }
 },
 "nbformat": 4,
 "nbformat_minor": 2
}
