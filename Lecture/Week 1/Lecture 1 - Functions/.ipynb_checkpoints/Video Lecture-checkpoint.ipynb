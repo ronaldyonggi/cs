{
 "cells": [
  {
   "cell_type": "markdown",
   "metadata": {},
   "source": [
    "# An Introduction to Computer Science"
   ]
  },
  {
   "cell_type": "markdown",
   "metadata": {},
   "source": [
    "## What is Computer Science?\n",
    "\n",
    "Computer science is the study of computing machine. Computer scientists worry about 3 things:\n",
    "1. What problems can be solved using computation?\n",
    "2. How to solve those problems?\n",
    "3. What techniques lead to effective solution?\n",
    "\n",
    "Turns out that there are a lot of different problems that can be addressed with computation. \n",
    "\n",
    "Most people who call themselves computer scientists specialize in a particular area.\n",
    "1. Systems: The study of large systems\n",
    "    * e.g. operating systems on our computer, Facebook social network\n",
    "2. Artificial Intelligence : How to get computer to do things that living things are good at\n",
    "    * e.g. recognizing faces and photographs\n",
    "3. Graphics make beautiful movie and video games\n",
    "4. Security makes sure we can run our business in the internet without NSA snooping around\n",
    "5. Networking\n",
    "6. Programming Languages\n",
    "7. Theory\n",
    "8. Scientific Computing\n",
    "9. Etc. And all these other fields that appear when we try to use computing to solve a problem in real world\n",
    "\n",
    "Within each field, there are subfields\n",
    "\n",
    "In Artificial Intelligence, there are subfields:\n",
    "* Decision Making: The best chess, checkers players in the world are computers\n",
    "* Robotics: building self-driving cars, robots that can do laundry for us\n",
    "* Natural Language Processing: How to get computers to work with natural languages such as English or Mandarin\n",
    "\n",
    "And within subfields, there are subsubfields. In Natural Language Processing, there are:\n",
    "* Translation: Automatically translate from one language to another\n",
    "* Answering Questions\n",
    "\n",
    "There are many different things computer scientists do, as there are so many different problems in the world that we want to solve. \n",
    "\n",
    "**All computer scientists has one common enemy: `complexity`**"
   ]
  },
  {
   "cell_type": "markdown",
   "metadata": {},
   "source": [
    "## What is This Course About?\n",
    "This course is about **managing complexity**, and there is one most important weapon for battling against `complexity`: **`abstraction`**.\n",
    "\n",
    "#### Mastering Abstraction\n",
    "\n",
    "`Abstraction` is an idea that we have been doing all the time already. It is when we take a complex system and treat it as one whole thing, give it a name, and not worry about the inside details.\n",
    "\n",
    "We say \"John is our instructor in this course\". In actuality, \"John is a clothing covering some skins, covering up muscles, bones, cells etc.\", which is unbelievably complex. But we just call him \"John\" and talk about the things that he teaches without worrying about how many carbon atom he has in his body.\n",
    "\n",
    "We want to learn to use the same idea of `abstraction` as above when we create computer programs\n",
    "\n",
    "#### Programming Paradigms\n",
    "\n",
    "This is a broad idea of how to organize programs for take advantage of our `abstraction`s. \n",
    "\n",
    "#### Not all about 0 and 1\n",
    "\n",
    "It's not all about the low level details of what a computer does to manipulate 0s and 1s. This is a common misconception about computer science. What we actually do is express ideas in programming languages.\n",
    "\n",
    "\n",
    "### This course uses Python\n",
    "1. Full understanding of the language fundamentals\n",
    "2. Learning through implementation\n",
    "3. How computers interpret programming languages"
   ]
  },
  {
   "cell_type": "markdown",
   "metadata": {},
   "source": [
    "# Expressions\n",
    "\n",
    "## Type of Expressions\n",
    "\n",
    "**An expression describes a computation and evaluates to a value.**\n",
    "\n",
    "Expressions are not something particular to computer science. Mathematicians have been describing how to compose different numbers together for a long time, they invented a lot of different ways to describe computation using expressions:\n",
    "<img src='expression.jpg' width = 600/>\n",
    "\n",
    "Turns out one of them is a generalization of all the others, and it's all we need: **function call notation**, `f(x)`.\n",
    "<img src = 'function.jpg' width = 600/>\n",
    "Instead of using the symbols, subscripts, superscripts, vertical bars, etc., computer scientists write down everything using `function call notation`."
   ]
  },
  {
   "cell_type": "markdown",
   "metadata": {},
   "source": [
    "## Call Expressions in Python\n",
    "\n",
    "**All expressions can use function call notation**\n",
    "\n",
    "## Demo"
   ]
  },
  {
   "cell_type": "markdown",
   "metadata": {},
   "source": [
    "Here we type an expression:"
   ]
  },
  {
   "cell_type": "code",
   "execution_count": 1,
   "metadata": {},
   "outputs": [
    {
     "data": {
      "text/plain": [
       "2015"
      ]
     },
     "execution_count": 1,
     "metadata": {},
     "output_type": "execute_result"
    }
   ],
   "source": [
    "2015"
   ]
  },
  {
   "cell_type": "markdown",
   "metadata": {},
   "source": [
    "And it shows the value. If we write the expression in 2 different values combined together by addition such as below,"
   ]
  },
  {
   "cell_type": "code",
   "execution_count": 2,
   "metadata": {},
   "outputs": [
    {
     "data": {
      "text/plain": [
       "2015"
      ]
     },
     "execution_count": 2,
     "metadata": {},
     "output_type": "execute_result"
    }
   ],
   "source": [
    "2000 + 15"
   ]
  },
  {
   "cell_type": "markdown",
   "metadata": {},
   "source": [
    "The result value is what we get by combining the value `2000` and `15`.\n",
    "\n",
    "Python is also a powerful calculator. We can multiply numbers,"
   ]
  },
  {
   "cell_type": "code",
   "execution_count": 4,
   "metadata": {},
   "outputs": [
    {
     "data": {
      "text/plain": [
       "6"
      ]
     },
     "execution_count": 4,
     "metadata": {},
     "output_type": "execute_result"
    }
   ],
   "source": [
    "2 * 3"
   ]
  },
  {
   "cell_type": "markdown",
   "metadata": {},
   "source": [
    "Or nesting,"
   ]
  },
  {
   "cell_type": "code",
   "execution_count": 5,
   "metadata": {},
   "outputs": [
    {
     "data": {
      "text/plain": [
       "70"
      ]
     },
     "execution_count": 5,
     "metadata": {},
     "output_type": "execute_result"
    }
   ],
   "source": [
    "2 * ((3 + 4) * 5)"
   ]
  },
  {
   "cell_type": "markdown",
   "metadata": {},
   "source": [
    "Or we can do the following,"
   ]
  },
  {
   "cell_type": "code",
   "execution_count": 13,
   "metadata": {},
   "outputs": [
    {
     "data": {
      "text/plain": [
       "2015"
      ]
     },
     "execution_count": 13,
     "metadata": {},
     "output_type": "execute_result"
    }
   ],
   "source": [
    "1 * 2 * ((3 * 4 * 5 // 6) ** 3) + 7 + 8"
   ]
  },
  {
   "cell_type": "markdown",
   "metadata": {},
   "source": [
    "`1 * 2 * ((3 * 4 * 5 // 6) ** 3) + 7 + 8` is an expression, while `2015` is its value"
   ]
  },
  {
   "cell_type": "markdown",
   "metadata": {},
   "source": [
    "What about call expressions? Call expressions have a special form where we name a function that we want to call. In this case, the `max` function takes in expressions `2` and `4` that will give us the value to which `max` will be applied."
   ]
  },
  {
   "cell_type": "code",
   "execution_count": 14,
   "metadata": {},
   "outputs": [
    {
     "data": {
      "text/plain": [
       "4"
      ]
     },
     "execution_count": 14,
     "metadata": {},
     "output_type": "execute_result"
    }
   ],
   "source": [
    "max(2, 4)"
   ]
  },
  {
   "cell_type": "markdown",
   "metadata": {},
   "source": [
    "And we can do the same thing for `min`,"
   ]
  },
  {
   "cell_type": "code",
   "execution_count": 15,
   "metadata": {},
   "outputs": [
    {
     "data": {
      "text/plain": [
       "-2"
      ]
     },
     "execution_count": 15,
     "metadata": {},
     "output_type": "execute_result"
    }
   ],
   "source": [
    "min(-2, 50000)"
   ]
  },
  {
   "cell_type": "markdown",
   "metadata": {},
   "source": [
    "The whole `max(2, 4)` is a call expression.\n",
    "\n",
    "Earlier, we claimed that everything can be expressed using a call expression. This is including multiplication, division, addition, etc.\n",
    "\n",
    "In addition to the symbol `+`, there's a function `add`. This function is not readily available, as we have to write the following to obtain access to `add` and `mul`,"
   ]
  },
  {
   "cell_type": "code",
   "execution_count": 2,
   "metadata": {},
   "outputs": [],
   "source": [
    "from operator import add, mul"
   ]
  },
  {
   "cell_type": "markdown",
   "metadata": {},
   "source": [
    "Now we can add together `2` and `3` using call expression."
   ]
  },
  {
   "cell_type": "code",
   "execution_count": 17,
   "metadata": {},
   "outputs": [
    {
     "data": {
      "text/plain": [
       "5"
      ]
     },
     "execution_count": 17,
     "metadata": {},
     "output_type": "execute_result"
    }
   ],
   "source": [
    "add(2, 3)"
   ]
  },
  {
   "cell_type": "markdown",
   "metadata": {},
   "source": [
    "And we can multiply together `2` and `3` to get 6."
   ]
  },
  {
   "cell_type": "code",
   "execution_count": 18,
   "metadata": {},
   "outputs": [
    {
     "data": {
      "text/plain": [
       "6"
      ]
     },
     "execution_count": 18,
     "metadata": {},
     "output_type": "execute_result"
    }
   ],
   "source": [
    "mul(2, 3)"
   ]
  },
  {
   "cell_type": "markdown",
   "metadata": {},
   "source": [
    "Call expressions can combine multiple values together by using lots of commas,"
   ]
  },
  {
   "cell_type": "code",
   "execution_count": 19,
   "metadata": {},
   "outputs": [
    {
     "data": {
      "text/plain": [
       "5"
      ]
     },
     "execution_count": 19,
     "metadata": {},
     "output_type": "execute_result"
    }
   ],
   "source": [
    "max(1, 2, 3, 4, 5)"
   ]
  },
  {
   "cell_type": "markdown",
   "metadata": {},
   "source": [
    "Call expressions can also be nested within one another. In this case, we multiply the result of adding `2` and the result of multiplying 4 and 6 with the result of adding `3` and `5`."
   ]
  },
  {
   "cell_type": "code",
   "execution_count": 20,
   "metadata": {},
   "outputs": [
    {
     "data": {
      "text/plain": [
       "208"
      ]
     },
     "execution_count": 20,
     "metadata": {},
     "output_type": "execute_result"
    }
   ],
   "source": [
    "mul(add(2, mul(4, 6)), add(3, 5))"
   ]
  },
  {
   "cell_type": "markdown",
   "metadata": {},
   "source": [
    "In call expressions, we don't need to memorize the order of operations. The nesting structure of the expression itself tells exactly what get multiplied before it gets added. For example, Python has to multiply `4` and `6` first, then add the result to `2`.\n",
    "\n",
    "One other important thing to remember is that multiplication and division comes first before addition and subtraction."
   ]
  },
  {
   "cell_type": "markdown",
   "metadata": {},
   "source": [
    "# Anatomy of a Call Expression\n",
    "Now we're going to talk about the anatomy of a call expression. Here is an example: `add(2, 3)`"
   ]
  },
  {
   "cell_type": "code",
   "execution_count": 21,
   "metadata": {},
   "outputs": [
    {
     "data": {
      "text/plain": [
       "5"
      ]
     },
     "execution_count": 21,
     "metadata": {},
     "output_type": "execute_result"
    }
   ],
   "source": [
    "add(2, 3)"
   ]
  },
  {
   "cell_type": "markdown",
   "metadata": {},
   "source": [
    "The whole `add(2, 3)` is a call expression. This call expression contains other expressions.\n",
    "\n",
    "1. Everything that comes before the opening parentheses `(` is `Operator Subexpression`. Subexpression means an expression within an expression.\n",
    "<img src = 'operator.jpg' width = 500/>\n",
    "\n",
    "2. The `operands` are separated by commas `,` within parentheses `( )`.\n",
    "<img src = 'operand.jpg' width = 500/>\n",
    "\n",
    "**Operators and operands are also expressions**. They altogether evaluate to values.\n",
    "\n",
    "The way call expressions are evaluated is called **evaluation procedure**.\n",
    "\n",
    "Programming languages interpret expressions by applying evaluation procedures. They apply the same procedures over and over again.\n",
    "\n",
    "The **evaluation procedure** for call expressions work like the following,\n",
    "1. Evaluate the operator and then the operand subexpressions\n",
    "    * We have the `function` `add` from the `operator` and `argument`s `2` and `3` from the `operand`s\n",
    "<img src = 'evaluation.jpg' width = 500/>\n",
    "2. **Apply**:\n",
    "    * The `function` that is the value of the `operator subexpression` to\n",
    "    * The `arguments` that are the values of the operand subexpression. \n",
    "    \n",
    "All of this is just to add `2` and `3` together. We go through the steps in such detail to show that the same exact evaluation procedure can be used many times to evaluate more complicated, nested expressions."
   ]
  },
  {
   "cell_type": "markdown",
   "metadata": {},
   "source": [
    "## Evaluating Nested Expressions"
   ]
  },
  {
   "cell_type": "code",
   "execution_count": 4,
   "metadata": {},
   "outputs": [
    {
     "data": {
      "text/plain": [
       "224"
      ]
     },
     "execution_count": 4,
     "metadata": {},
     "output_type": "execute_result"
    }
   ],
   "source": [
    "mul(add(4, mul(4, 6)), add(3, 5))"
   ]
  },
  {
   "cell_type": "markdown",
   "metadata": {},
   "source": [
    "When we run the cell above, Python just give out the result `224`. How did Python do that? Python applied the same evaluation procedure as before. \n",
    "\n",
    "Python recognizes that the whole code `mul(add(4, mul(4, 6)), add(3, 5))` is a call expression. \n",
    "\n",
    "At first, Python evaluates the `operator`, which is the function `mul` that multiplies,\n",
    "<img src = 'mul.jpg' width = 550/>\n",
    "Then Python evaluates the first `operand`, `add(4, mul(4, 6))`, which is another call expression! Thus, Python applies the same evaluation procedure to this operand,\n",
    "<img src = 'operand_2.jpg' width = 300/>\n"
   ]
  },
  {
   "cell_type": "markdown",
   "metadata": {},
   "source": [
    "## `add(4, mul(4, 6))`\n",
    "In this call expression, Python evaluates the `operator`, the `add` function, and the operands:\n",
    "1. The number `4`\n",
    "2. The call expression `mul(4, 6)`\n",
    "<img src = 'add_4_mul_4_6.jpg' width = 400/>\n",
    "\n",
    "We have a procedure for evaluating call expressions: evaluate the operator and the operand subexpressions. From there, we get:\n",
    "1. The function `mul` that multiplies \n",
    "2. The numbers `4` and `6`. \n",
    "\n",
    "Since we have the operands evaluated, we can apply `mul` to `4` and `6` to obtain 24. \n",
    "<img src = '24.jpg' width = 500/>\n",
    "`24` is the value of the call expression `mul(4, 6)`\n",
    "\n",
    "Now that we have evaluated all the operands from the subexpression `add(4, mul(4, 6))`, \n",
    "<img src = 'add_4_24.jpg' width = 500/>\n",
    "We can apply `add` to `4` and `24`,\n",
    "<img src = '28.jpg' width = 500/>"
   ]
  },
  {
   "cell_type": "markdown",
   "metadata": {},
   "source": [
    "## Back to the main call expression\n",
    "<img src = 'back_to_main.jpg' width = 500/>\n",
    "\n",
    "Now that we have the following, we still need to evaluate the second operand. By applying the same evaluation procedure as what we have done so far, we can obtaion the value of the call expression `224`\n",
    "\n",
    "<img src = '224.jpg' width = 500/>\n",
    "\n",
    "This whole diagram is called an **expression tree**. It is an illustration of everything that happens within the computer as it evaluates this nested call expression.\n",
    "<img src = 'expression_tree.jpg' width = 600/>\n",
    "\n",
    "The important thing in this call expression evaluation is the order in which expressions are evaluated. We have to know that the expression `add(4, mul(4, 6))` evaluates to `28` and the expression `add(3, 5)` evaluates to 8 to finish the computation. \n",
    "<img src = 'whole.jpg' width = 700/>\n",
    "\n",
    "Above, `28` is both **value of subexpression `add(4, mul(4, 6))`** and **the first argument to `mul`**"
   ]
  },
  {
   "cell_type": "markdown",
   "metadata": {},
   "source": [
    "# Functions, Objects, and Interpreters\n",
    "This is a demonstration of some Python features. \n",
    "\n",
    "Here we will open Shakespeare's plays,"
   ]
  },
  {
   "cell_type": "code",
   "execution_count": 5,
   "metadata": {},
   "outputs": [],
   "source": [
    "shakes = open('shakespeare.txt')"
   ]
  },
  {
   "cell_type": "markdown",
   "metadata": {},
   "source": [
    "Here we tell Python to read all the plays that he wrote, and split them into individual words,"
   ]
  },
  {
   "cell_type": "code",
   "execution_count": 6,
   "metadata": {},
   "outputs": [],
   "source": [
    "text = shakes.read().split()"
   ]
  },
  {
   "cell_type": "markdown",
   "metadata": {},
   "source": [
    "Now `text` contains Shakespeare's words. The first 25 words are the following,"
   ]
  },
  {
   "cell_type": "code",
   "execution_count": 7,
   "metadata": {},
   "outputs": [
    {
     "data": {
      "text/plain": [
       "['A',\n",
       " \"MIDSUMMER-NIGHT'S\",\n",
       " 'DREAM',\n",
       " 'Now',\n",
       " ',',\n",
       " 'fair',\n",
       " 'Hippolyta',\n",
       " ',',\n",
       " 'our',\n",
       " 'nuptial',\n",
       " 'hour',\n",
       " 'Draws',\n",
       " 'on',\n",
       " 'apace',\n",
       " ':',\n",
       " 'four',\n",
       " 'happy',\n",
       " 'days',\n",
       " 'bring',\n",
       " 'in',\n",
       " 'Another',\n",
       " 'moon',\n",
       " ';',\n",
       " 'but',\n",
       " 'O']"
      ]
     },
     "execution_count": 7,
     "metadata": {},
     "output_type": "execute_result"
    }
   ],
   "source": [
    "text[:25]"
   ]
  },
  {
   "cell_type": "markdown",
   "metadata": {},
   "source": [
    "\"A Midsummer-night's Dream\" is the title of the text. Below we can evaluate how many words there are in the text:"
   ]
  },
  {
   "cell_type": "code",
   "execution_count": 8,
   "metadata": {},
   "outputs": [
    {
     "data": {
      "text/plain": [
       "980637"
      ]
     },
     "execution_count": 8,
     "metadata": {},
     "output_type": "execute_result"
    }
   ],
   "source": [
    "len(text)"
   ]
  },
  {
   "cell_type": "markdown",
   "metadata": {},
   "source": [
    "It turns out the word `the` appears a lot in the text! We can count how many times the word \"the\" appear,"
   ]
  },
  {
   "cell_type": "code",
   "execution_count": 9,
   "metadata": {},
   "outputs": [
    {
     "data": {
      "text/plain": [
       "23272"
      ]
     },
     "execution_count": 9,
     "metadata": {},
     "output_type": "execute_result"
    }
   ],
   "source": [
    "text.count('the')"
   ]
  },
  {
   "cell_type": "markdown",
   "metadata": {},
   "source": [
    "One typical word that is used back in Shakespeare-an era is \"thou\". We can count how many times \"thou\" appear in the text,"
   ]
  },
  {
   "cell_type": "code",
   "execution_count": 10,
   "metadata": {},
   "outputs": [
    {
     "data": {
      "text/plain": [
       "4501"
      ]
     },
     "execution_count": 10,
     "metadata": {},
     "output_type": "execute_result"
    }
   ],
   "source": [
    "text.count('thou')"
   ]
  },
  {
   "cell_type": "markdown",
   "metadata": {},
   "source": [
    "And we can try to count other words too,    "
   ]
  },
  {
   "cell_type": "code",
   "execution_count": 11,
   "metadata": {},
   "outputs": [
    {
     "data": {
      "text/plain": [
       "12361"
      ]
     },
     "execution_count": 11,
     "metadata": {},
     "output_type": "execute_result"
    }
   ],
   "source": [
    "text.count('you')"
   ]
  },
  {
   "cell_type": "code",
   "execution_count": 13,
   "metadata": {},
   "outputs": [
    {
     "data": {
      "text/plain": [
       "40"
      ]
     },
     "execution_count": 13,
     "metadata": {},
     "output_type": "execute_result"
    }
   ],
   "source": [
    "text.count('forsooth')"
   ]
  },
  {
   "cell_type": "markdown",
   "metadata": {},
   "source": [
    "What is the most common appearance in the text? If we see from the first 25 words, seems like the comma `,` appears a lot. We can try counting the number of comma `,` in the text."
   ]
  },
  {
   "cell_type": "code",
   "execution_count": 15,
   "metadata": {},
   "outputs": [
    {
     "data": {
      "text/plain": [
       "81827"
      ]
     },
     "execution_count": 15,
     "metadata": {},
     "output_type": "execute_result"
    }
   ],
   "source": [
    "text.count(',')"
   ]
  },
  {
   "cell_type": "markdown",
   "metadata": {},
   "source": [
    "81,827! We can calculate the proportion of comma in the text as well by dividing the count with the total length of the text,"
   ]
  },
  {
   "cell_type": "code",
   "execution_count": 16,
   "metadata": {},
   "outputs": [
    {
     "data": {
      "text/plain": [
       "0.0834427010198473"
      ]
     },
     "execution_count": 16,
     "metadata": {},
     "output_type": "execute_result"
    }
   ],
   "source": [
    "text.count(',') / len(text)"
   ]
  },
  {
   "cell_type": "markdown",
   "metadata": {},
   "source": [
    "As we can see, the comma `,` just made up about 8% of the text.\n",
    "\n",
    "We can check if a word is within a text. First of all, we can create a `set`,"
   ]
  },
  {
   "cell_type": "code",
   "execution_count": 18,
   "metadata": {},
   "outputs": [],
   "source": [
    "words = set(text)"
   ]
  },
  {
   "cell_type": "markdown",
   "metadata": {},
   "source": [
    "`set` is an unordered collection of unique elements. We can see the documentation below,"
   ]
  },
  {
   "cell_type": "code",
   "execution_count": 20,
   "metadata": {},
   "outputs": [],
   "source": [
    "set?"
   ]
  },
  {
   "cell_type": "markdown",
   "metadata": {},
   "source": [
    "Now we can check whether some certain words are in `words`."
   ]
  },
  {
   "cell_type": "code",
   "execution_count": 21,
   "metadata": {},
   "outputs": [
    {
     "data": {
      "text/plain": [
       "True"
      ]
     },
     "execution_count": 21,
     "metadata": {},
     "output_type": "execute_result"
    }
   ],
   "source": [
    "'forsooth' in words"
   ]
  },
  {
   "cell_type": "code",
   "execution_count": 22,
   "metadata": {},
   "outputs": [
    {
     "data": {
      "text/plain": [
       "True"
      ]
     },
     "execution_count": 22,
     "metadata": {},
     "output_type": "execute_result"
    }
   ],
   "source": [
    "'the' in words"
   ]
  },
  {
   "cell_type": "markdown",
   "metadata": {},
   "source": [
    "We can see how many unique words are in the text by evaluating the length of `words`."
   ]
  },
  {
   "cell_type": "code",
   "execution_count": 23,
   "metadata": {},
   "outputs": [
    {
     "data": {
      "text/plain": [
       "33505"
      ]
     },
     "execution_count": 23,
     "metadata": {},
     "output_type": "execute_result"
    }
   ],
   "source": [
    "len(words)"
   ]
  },
  {
   "cell_type": "markdown",
   "metadata": {},
   "source": [
    "By now, we have covered 2 major themes of the course:\n",
    "\n",
    "1. Functions, such as `len()`, `open()`\n",
    "2. Objects\n",
    "* `set` is an object. It represents and behaves like a set of all words in Shakespeare. \n",
    "\n",
    "And last but not least, the programming language itself, which is how we are expressing all the information in the cells above and what are being interpreted by the computer to give us the result that we see from each cell.\n",
    "\n",
    "Everything that we have run so far in each cell are expressions. We have simple expression like the following,"
   ]
  },
  {
   "cell_type": "code",
   "execution_count": 24,
   "metadata": {},
   "outputs": [
    {
     "data": {
      "text/plain": [
       "'draw'"
      ]
     },
     "execution_count": 24,
     "metadata": {},
     "output_type": "execute_result"
    }
   ],
   "source": [
    "'draw'"
   ]
  },
  {
   "cell_type": "markdown",
   "metadata": {},
   "source": [
    "We can also have an expression that contain operation,"
   ]
  },
  {
   "cell_type": "code",
   "execution_count": 25,
   "metadata": {},
   "outputs": [
    {
     "data": {
      "text/plain": [
       "'ward'"
      ]
     },
     "execution_count": 25,
     "metadata": {},
     "output_type": "execute_result"
    }
   ],
   "source": [
    "'draw'[::-1]"
   ]
  },
  {
   "cell_type": "markdown",
   "metadata": {},
   "source": [
    "Above, the `[::-1]` is an operation that reverses a word. We can use this operation in combination inside a bigger expression,"
   ]
  },
  {
   "cell_type": "code",
   "execution_count": 26,
   "metadata": {},
   "outputs": [
    {
     "data": {
      "text/plain": [
       "{'level', 'madam', 'minim', 'redder', 'refer', 'rever'}"
      ]
     },
     "execution_count": 26,
     "metadata": {},
     "output_type": "execute_result"
    }
   ],
   "source": [
    "{w for w in words if w == w[::-1] and len(w) > 4}"
   ]
  },
  {
   "cell_type": "markdown",
   "metadata": {},
   "source": [
    "Here we obtain the words that are longer than 4 characters and the same forward and backwards."
   ]
  },
  {
   "cell_type": "code",
   "execution_count": 27,
   "metadata": {},
   "outputs": [
    {
     "data": {
      "text/plain": [
       "{'bard',\n",
       " 'bats',\n",
       " 'brag',\n",
       " 'deed',\n",
       " 'deem',\n",
       " 'deer',\n",
       " 'dial',\n",
       " 'doom',\n",
       " 'door',\n",
       " 'drab',\n",
       " 'draw',\n",
       " 'ecce',\n",
       " 'elle',\n",
       " 'esse',\n",
       " 'evil',\n",
       " 'flow',\n",
       " 'garb',\n",
       " 'gnat',\n",
       " 'gums',\n",
       " 'hoop',\n",
       " 'keel',\n",
       " 'laid',\n",
       " 'leek',\n",
       " 'leer',\n",
       " 'lees',\n",
       " 'liar',\n",
       " 'live',\n",
       " 'loop',\n",
       " 'maws',\n",
       " 'meed',\n",
       " 'meet',\n",
       " 'mood',\n",
       " 'moor',\n",
       " 'nips',\n",
       " 'noon',\n",
       " 'part',\n",
       " 'peep',\n",
       " 'pins',\n",
       " 'pooh',\n",
       " 'pool',\n",
       " 'poop',\n",
       " 'port',\n",
       " 'pots',\n",
       " 'rail',\n",
       " 'rats',\n",
       " 'reed',\n",
       " 'reel',\n",
       " 'rood',\n",
       " 'room',\n",
       " 'seel',\n",
       " 'sees',\n",
       " 'smug',\n",
       " 'snip',\n",
       " 'spin',\n",
       " 'spit',\n",
       " 'spot',\n",
       " 'stab',\n",
       " 'star',\n",
       " 'stop',\n",
       " 'swam',\n",
       " 'tang',\n",
       " 'teem',\n",
       " 'tips',\n",
       " 'tops',\n",
       " 'trap',\n",
       " 'trop',\n",
       " 'trow',\n",
       " 'ward',\n",
       " 'wolf',\n",
       " 'wort'}"
      ]
     },
     "execution_count": 27,
     "metadata": {},
     "output_type": "execute_result"
    }
   ],
   "source": [
    "{w for w in words if w[::-1] in words and len(w) == 4}"
   ]
  },
  {
   "cell_type": "markdown",
   "metadata": {},
   "source": [
    "Above, we display all words that are 4 characters long and in which the reverse are also contained in `words`. We can see if such thing exist for words with longer characters,"
   ]
  },
  {
   "cell_type": "code",
   "execution_count": 28,
   "metadata": {},
   "outputs": [
    {
     "data": {
      "text/plain": [
       "{'asses',\n",
       " 'deeps',\n",
       " 'devil',\n",
       " 'keels',\n",
       " 'knits',\n",
       " 'leets',\n",
       " 'leper',\n",
       " 'level',\n",
       " 'lived',\n",
       " 'madam',\n",
       " 'minim',\n",
       " 'refer',\n",
       " 'repel',\n",
       " 'rever',\n",
       " 'sessa',\n",
       " 'sleek',\n",
       " 'speed',\n",
       " 'spots',\n",
       " 'steel',\n",
       " 'stink',\n",
       " 'stops'}"
      ]
     },
     "execution_count": 28,
     "metadata": {},
     "output_type": "execute_result"
    }
   ],
   "source": [
    "{w for w in words if w[::-1] in words and len(w) == 5}"
   ]
  },
  {
   "cell_type": "code",
   "execution_count": 29,
   "metadata": {},
   "outputs": [
    {
     "data": {
      "text/plain": [
       "{'diaper', 'drawer', 'redder', 'repaid', 'reward'}"
      ]
     },
     "execution_count": 29,
     "metadata": {},
     "output_type": "execute_result"
    }
   ],
   "source": [
    "{w for w in words if w[::-1] in words and len(w) == 6}"
   ]
  },
  {
   "cell_type": "code",
   "execution_count": 30,
   "metadata": {},
   "outputs": [
    {
     "data": {
      "text/plain": [
       "set()"
      ]
     },
     "execution_count": 30,
     "metadata": {},
     "output_type": "execute_result"
    }
   ],
   "source": [
    "{w for w in words if w[::-1] in words and len(w) > 6}"
   ]
  },
  {
   "cell_type": "markdown",
   "metadata": {},
   "source": [
    "It seems that within Shakespeare's plays, there isn't any word that is longer than 6 words in which the reverse is also contained in the plays."
   ]
  }
 ],
 "metadata": {
  "kernelspec": {
   "display_name": "Python 3",
   "language": "python",
   "name": "python3"
  },
  "language_info": {
   "codemirror_mode": {
    "name": "ipython",
    "version": 3
   },
   "file_extension": ".py",
   "mimetype": "text/x-python",
   "name": "python",
   "nbconvert_exporter": "python",
   "pygments_lexer": "ipython3",
   "version": "3.7.2"
  }
 },
 "nbformat": 4,
 "nbformat_minor": 2
}
