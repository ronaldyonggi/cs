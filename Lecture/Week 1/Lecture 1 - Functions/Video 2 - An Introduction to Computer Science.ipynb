{
 "cells": [
  {
   "cell_type": "markdown",
   "metadata": {},
   "source": [
    "# An Introduction to Computer Science"
   ]
  },
  {
   "cell_type": "markdown",
   "metadata": {},
   "source": [
    "## What is Computer Science?\n",
    "\n",
    "Computer science is the study of computing machine. Computer scientists worry about 3 things:\n",
    "1. What problems can be solved using computation?\n",
    "2. How to solve those problems?\n",
    "3. What techniques lead to effective solution?\n",
    "\n",
    "Turns out that there are a lot of different problems that can be addressed with computation. \n",
    "\n",
    "Most people who call themselves computer scientists specialize in a particular area.\n",
    "1. Systems: The study of large systems\n",
    "    * e.g. operating systems on our computer, Facebook social network\n",
    "2. Artificial Intelligence : How to get computer to do things that living things are good at\n",
    "    * e.g. recognizing faces and photographs\n",
    "3. Graphics make beautiful movie and video games\n",
    "4. Security makes sure we can run our business in the internet without NSA snooping around\n",
    "5. Networking\n",
    "6. Programming Languages\n",
    "7. Theory\n",
    "8. Scientific Computing\n",
    "9. Etc. And all these other fields that appear when we try to use computing to solve a problem in real world\n",
    "\n",
    "Within each field, there are subfields\n",
    "\n",
    "In Artificial Intelligence, there are subfields:\n",
    "* Decision Making: The best chess, checkers players in the world are computers\n",
    "* Robotics: building self-driving cars, robots that can do laundry for us\n",
    "* Natural Language Processing: How to get computers to work with natural languages such as English or Mandarin\n",
    "\n",
    "And within subfields, there are subsubfields. In Natural Language Processing, there are:\n",
    "* Translation: Automatically translate from one language to another\n",
    "* Answering Questions\n",
    "\n",
    "There are many different things computer scientists do, as there are so many different problems in the world that we want to solve. \n",
    "\n",
    "**All computer scientists has one common enemy: `complexity`**"
   ]
  },
  {
   "cell_type": "markdown",
   "metadata": {},
   "source": [
    "## What is This Course About?\n",
    "This course is about **managing complexity**, and there is one most important weapon for battling against `complexity`: **`abstraction`**.\n",
    "\n",
    "#### Mastering Abstraction\n",
    "\n",
    "`Abstraction` is an idea that we have been doing all the time already. It is when we take a complex system and treat it as one whole thing, give it a name, and not worry about the inside details.\n",
    "\n",
    "We say \"John is our instructor in this course\". In actuality, \"John is a clothing covering some skins, covering up muscles, bones, cells etc.\", which is unbelievably complex. But we just call him \"John\" and talk about the things that he teaches without worrying about how many carbon atom he has in his body.\n",
    "\n",
    "We want to learn to use the same idea of `abstraction` as above when we create computer programs\n",
    "\n",
    "#### Programming Paradigms\n",
    "\n",
    "This is a broad idea of how to organize programs for take advantage of our `abstraction`s. \n",
    "\n",
    "#### Not all about 0 and 1\n",
    "\n",
    "It's not all about the low level details of what a computer does to manipulate 0s and 1s. This is a common misconception about computer science. What we actually do is express ideas in programming languages.\n",
    "\n",
    "\n",
    "### This course uses Python\n",
    "1. Full understanding of the language fundamentals\n",
    "2. Learning through implementation\n",
    "3. How computers interpret programming languages"
   ]
  }
 ],
 "metadata": {
  "kernelspec": {
   "display_name": "Python 3",
   "language": "python",
   "name": "python3"
  },
  "language_info": {
   "codemirror_mode": {
    "name": "ipython",
    "version": 3
   },
   "file_extension": ".py",
   "mimetype": "text/x-python",
   "name": "python",
   "nbconvert_exporter": "python",
   "pygments_lexer": "ipython3",
   "version": "3.6.8"
  }
 },
 "nbformat": 4,
 "nbformat_minor": 2
}
