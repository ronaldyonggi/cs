{
 "cells": [
  {
   "cell_type": "markdown",
   "metadata": {},
   "source": [
    "## 1.1 What is Computer Science?\n",
    "<img src = 'computerscience.jpg' width=600/>\n",
    "Computer science is a tremendously broad academic discipline. The areas of globally distributed systems, artificial intelligence, robotics, graphics, security, scientific computing, computer architecture, and dozens of emerging sub-fields all expand with new techniques and discoveries every year. The rapid progress of computer science has left few aspects of human life unaffected. Commerce, communication, science, art, leisure, and politics have all been reinvented as computational domains.\n",
    "\n",
    "The high productivity of computer science is only possible because the discipline is built upon an elegant and powerful set of fundamental ideas. All computing begins with:\n",
    "* Representing information\n",
    "* Specifying logic to process it\n",
    "* And designing abstractions that manage the complexity of that logic\n",
    "\n",
    "Mastering these fundamentals will require us to understand precisely how computers interpret computer programs and carry out computational processes.\n",
    "\n",
    "## What is this Course About?\n",
    "**A course about managing complexity**\n",
    "* Mastering abstraction\n",
    "* Programming paradigms\n",
    "* Not all about 0's and 1's\n",
    "\n",
    "**An introduction to Python**\n",
    "* Full understanding of language fundamentals\n",
    "* Learning through implementation\n",
    "* How computers interpret programming language"
   ]
  },
  {
   "cell_type": "markdown",
   "metadata": {},
   "source": [
    "## Elements of Programming\n",
    "A programming language is more than just a means for instructing a computer to perform tasks. The language also serves as a framework within which we organize our ideas about computational processes. Programs serve to communicate those ideas among the members of a programming community. Thus, programs must be written for people to read, and only incidentally for machines to execute.\n",
    "\n",
    "When we describe a language, we should pay  attention to the means that the language provides for combining simple ideas to form more complex ideas. Every powerful language has three such mechanisms:\n",
    "* Primitive expressions and statements: represent the simplest building blocks that the language provides\n",
    "* Means of combination, by which compound elements are built from simpler ones, and\n",
    "* Means of abstraction, by which compound elements can be named and manipulated as units.\n",
    "\n",
    "In programming, we deal with two kinds of elements: functions and data. (Soon we will discover that they are not so distinct.) Informally,\n",
    "* Data is stuff that we want to manipulate\n",
    "* Functions describe the rules for manipulating the data\n",
    "\n",
    "Thus, any powerful programming language should be able to describe primitive data and primitive functions, as well as have some methods for combining and abstracting both functions and data."
   ]
  },
  {
   "cell_type": "markdown",
   "metadata": {},
   "source": [
    "# Expressions\n",
    "\n",
    "## Type of Expressions\n",
    "**An expression describes a computation and evaluates to a value.**\n",
    "<img src='expression.jpg' width = 500/>\n",
    "\n",
    "We begin with primitive expressions. An example of a primitive expression is a **number**. More precisely, the expression that you type consists of the numerals that represent the number in base 10."
   ]
  },
  {
   "cell_type": "code",
   "execution_count": 1,
   "metadata": {},
   "outputs": [
    {
     "data": {
      "text/plain": [
       "42"
      ]
     },
     "execution_count": 1,
     "metadata": {},
     "output_type": "execute_result"
    }
   ],
   "source": [
    "42"
   ]
  },
  {
   "cell_type": "markdown",
   "metadata": {},
   "source": [
    "Expressions representing numbers may be combined with mathematical operators to form a **compound expression**, which the interpreter will evaluate:"
   ]
  },
  {
   "cell_type": "code",
   "execution_count": 2,
   "metadata": {},
   "outputs": [
    {
     "data": {
      "text/plain": [
       "0"
      ]
     },
     "execution_count": 2,
     "metadata": {},
     "output_type": "execute_result"
    }
   ],
   "source": [
    "-1 - -1"
   ]
  },
  {
   "cell_type": "code",
   "execution_count": 3,
   "metadata": {},
   "outputs": [
    {
     "data": {
      "text/plain": [
       "0.9921875"
      ]
     },
     "execution_count": 3,
     "metadata": {},
     "output_type": "execute_result"
    }
   ],
   "source": [
    "1/2 + 1/4 + 1/8 + 1/16 + 1/32 + 1/64 + 1/128"
   ]
  },
  {
   "cell_type": "markdown",
   "metadata": {},
   "source": [
    "These mathematical expressions use **infix** notation, where the operator (e.g., +, -, *, or /) appears in between the operands (numbers). Python includes many ways to form compound expressions. Rather than attempt to enumerate them all immediately, we will introduce new expression forms as we go, along with the language features that they support."
   ]
  },
  {
   "cell_type": "markdown",
   "metadata": {},
   "source": [
    "## Call Expressions\n",
    "**All expressions can use function call notation.**\n",
    "\n",
    "The most important kind of compound expression is a **call expression**, which applies a function to some arguments. Recall from algebra that the mathematical notion of a function is a mapping from some input arguments to an output value. For instance, the **max** function maps its inputs to a single output, which is the largest of the inputs. The way in which Python expresses function application is the same as in conventional mathematics."
   ]
  },
  {
   "cell_type": "code",
   "execution_count": 5,
   "metadata": {},
   "outputs": [
    {
     "data": {
      "text/plain": [
       "10"
      ]
     },
     "execution_count": 5,
     "metadata": {},
     "output_type": "execute_result"
    }
   ],
   "source": [
    "max(5, 10)"
   ]
  },
  {
   "cell_type": "markdown",
   "metadata": {},
   "source": [
    "This call expression has subexpressions: the **operator** is an expression that precedes parentheses, which enclose a comma-delimited list of operand expressions."
   ]
  },
  {
   "cell_type": "markdown",
   "metadata": {},
   "source": [
    "### Importing Library Functions\n",
    "Python defines a very large number of functions but does not make all of their names available by default. Instead, it organizes the functions and other quantities that it knows about into modules, which together comprise the Python Library. To use these elements, **import** them. For example, the **math** module provides a variety of familiar mathematical functions:"
   ]
  },
  {
   "cell_type": "code",
   "execution_count": 6,
   "metadata": {},
   "outputs": [
    {
     "data": {
      "text/plain": [
       "16.0"
      ]
     },
     "execution_count": 6,
     "metadata": {},
     "output_type": "execute_result"
    }
   ],
   "source": [
    "from math import sqrt\n",
    "sqrt(256)"
   ]
  },
  {
   "cell_type": "markdown",
   "metadata": {},
   "source": [
    "The **operator** module provides access to functions corresponding to infix operators."
   ]
  },
  {
   "cell_type": "code",
   "execution_count": 7,
   "metadata": {},
   "outputs": [
    {
     "data": {
      "text/plain": [
       "42"
      ]
     },
     "execution_count": 7,
     "metadata": {},
     "output_type": "execute_result"
    }
   ],
   "source": [
    "from operator import add, sub, mul\n",
    "add (14, 28)"
   ]
  },
  {
   "cell_type": "code",
   "execution_count": 8,
   "metadata": {},
   "outputs": [
    {
     "data": {
      "text/plain": [
       "16"
      ]
     },
     "execution_count": 8,
     "metadata": {},
     "output_type": "execute_result"
    }
   ],
   "source": [
    "## Adds 8 with 4 to get 12, and multiply it by 7 to get 84. Then finally 100 - 84 = 16\n",
    "sub(100, mul(7, add(8, 4)))"
   ]
  },
  {
   "cell_type": "markdown",
   "metadata": {},
   "source": [
    "An **import** statement designates a module name (e.g., operator or math), and then lists the named attributes of that module to import (e.g., sqrt). Once a function is imported, it can be called multiple times.\n",
    "\n",
    "There is no difference between using these operator functions (e.g., add) and the operator symbols themselves (e.g., +). Conventionally, most programmers use symbols and infix notation to express simple arithmetic.\n",
    "\n",
    "The [Python 3 Library Docs](http://docs.python.org/py3k/library/index.html) list the functions defined by each module, such as the [math module](http://docs.python.org/py3k/library/math.html). However, this documentation is written for developers who know the language well. For now, you may find that experimenting with a function tells you more about its behavior than reading the documentation. As you become familiar with the Python language and vocabulary, this documentation will become a valuable reference source."
   ]
  },
  {
   "cell_type": "markdown",
   "metadata": {},
   "source": [
    "### Anatomy of a Call Expression\n",
    "<img src = 'anatomy.jpg' width = 400/>\n",
    "Operators and operands are also expressions, so they evaluate to values.\n",
    "\n",
    "The **operator** specifies a function. When this call expression is evaluated, we say the function **add** is called with arguments 2 and 3, and returns a value of 5.\n",
    "\n",
    "The order of the arguments in a call expression matters. For instance, the function **pow** raises its first argument to the power of its second argument."
   ]
  },
  {
   "cell_type": "code",
   "execution_count": 9,
   "metadata": {},
   "outputs": [
    {
     "data": {
      "text/plain": [
       "10000"
      ]
     },
     "execution_count": 9,
     "metadata": {},
     "output_type": "execute_result"
    }
   ],
   "source": [
    "pow(100, 2)"
   ]
  },
  {
   "cell_type": "code",
   "execution_count": 10,
   "metadata": {},
   "outputs": [
    {
     "data": {
      "text/plain": [
       "1267650600228229401496703205376"
      ]
     },
     "execution_count": 10,
     "metadata": {},
     "output_type": "execute_result"
    }
   ],
   "source": [
    "pow(2, 100)"
   ]
  },
  {
   "cell_type": "markdown",
   "metadata": {},
   "source": [
    "## Evaluating Nested Expression\n",
    "One of our goals in this chapter is to isolate issues about thinking procedurally. Let's consider that, in evaluating nested call expressions, the interpreter is itself following a procedure.\n",
    "\n",
    "**Evaluation procedure for call expressions:**\n",
    "1. Evaluate the operator and the the operand subexpressions\n",
    "2. **Apply** the **function** that is the value of the operator subexpression to the **arguments** that are the values of the operand subexpression\n",
    "\n",
    "Even this simple procedure illustrates some important points about processes in general. The first step dictates that to accomplish the evaluation process for a call expression we must first evaluate other expressions. Thus, the evaluation procedure is **recursive in nature**: it includes the need to invoke the rule itself."
   ]
  },
  {
   "cell_type": "code",
   "execution_count": 12,
   "metadata": {},
   "outputs": [
    {
     "data": {
      "text/plain": [
       "224"
      ]
     },
     "execution_count": 12,
     "metadata": {},
     "output_type": "execute_result"
    }
   ],
   "source": [
    "mul(add(4, mul(4, 6)), add(3, 5))"
   ]
  },
  {
   "cell_type": "markdown",
   "metadata": {},
   "source": [
    "Evaluating the expression above requires that requires that this evaluation procedure be applied four times. If we draw each expression that we evaluate, we can visualize the hierarchical structure of this process.\n",
    "<img src='nested.jpg' width = 500/>\n",
    "This illustration is called an **expression tree**. In computer science, trees conventionally grow from the top down. The objects at each point in a tree are called nodes; in this case, they are expressions paired with their values.\n",
    "\n",
    "Evaluating its root, the full expression at the top, requires first evaluating the branches that are its subexpressions. \n",
    "* The leaf expressions (that is, nodes with no branches stemming from them) represent either functions or numbers \n",
    "* The interior nodes have two parts:\n",
    "    * The call expression to which our evaluation rule is applied\n",
    "    * The result of that expression"
   ]
  },
  {
   "cell_type": "markdown",
   "metadata": {},
   "source": [
    "## Functions, Objects, and Interpreters\n",
    "Here we're going to see a demonstration of some features in Python.\n"
   ]
  },
  {
   "cell_type": "code",
   "execution_count": 15,
   "metadata": {},
   "outputs": [],
   "source": [
    "shakes = open('shakespeare.txt')\n",
    "# 'text' contains all the words of Shakespeare \n",
    "text = shakes.read().split()"
   ]
  },
  {
   "cell_type": "code",
   "execution_count": 16,
   "metadata": {},
   "outputs": [
    {
     "data": {
      "text/plain": [
       "['A',\n",
       " \"MIDSUMMER-NIGHT'S\",\n",
       " 'DREAM',\n",
       " 'Now',\n",
       " ',',\n",
       " 'fair',\n",
       " 'Hippolyta',\n",
       " ',',\n",
       " 'our',\n",
       " 'nuptial',\n",
       " 'hour',\n",
       " 'Draws',\n",
       " 'on',\n",
       " 'apace',\n",
       " ':',\n",
       " 'four',\n",
       " 'happy',\n",
       " 'days',\n",
       " 'bring',\n",
       " 'in',\n",
       " 'Another',\n",
       " 'moon',\n",
       " ';',\n",
       " 'but',\n",
       " 'O']"
      ]
     },
     "execution_count": 16,
     "metadata": {},
     "output_type": "execute_result"
    }
   ],
   "source": [
    "# These are the first 25 words\n",
    "text[:25]"
   ]
  },
  {
   "cell_type": "code",
   "execution_count": 17,
   "metadata": {},
   "outputs": [
    {
     "data": {
      "text/plain": [
       "980637"
      ]
     },
     "execution_count": 17,
     "metadata": {},
     "output_type": "execute_result"
    }
   ],
   "source": [
    "# See how many words in 'text'\n",
    "len(text)"
   ]
  },
  {
   "cell_type": "code",
   "execution_count": 18,
   "metadata": {},
   "outputs": [
    {
     "data": {
      "text/plain": [
       "23272"
      ]
     },
     "execution_count": 18,
     "metadata": {},
     "output_type": "execute_result"
    }
   ],
   "source": [
    "# See how many \"the\" word in 'text'\n",
    "text.count('the')"
   ]
  },
  {
   "cell_type": "code",
   "execution_count": 19,
   "metadata": {},
   "outputs": [
    {
     "data": {
      "text/plain": [
       "4501"
      ]
     },
     "execution_count": 19,
     "metadata": {},
     "output_type": "execute_result"
    }
   ],
   "source": [
    "# See how many \"thou\" word in 'text'\n",
    "text.count('thou')"
   ]
  },
  {
   "cell_type": "code",
   "execution_count": 20,
   "metadata": {},
   "outputs": [
    {
     "data": {
      "text/plain": [
       "12361"
      ]
     },
     "execution_count": 20,
     "metadata": {},
     "output_type": "execute_result"
    }
   ],
   "source": [
    "# See how many \"you\" word in 'text'\n",
    "text.count('you')"
   ]
  },
  {
   "cell_type": "code",
   "execution_count": 21,
   "metadata": {},
   "outputs": [
    {
     "data": {
      "text/plain": [
       "81827"
      ]
     },
     "execution_count": 21,
     "metadata": {},
     "output_type": "execute_result"
    }
   ],
   "source": [
    "# See how many commas in 'text'\n",
    "text.count(',')"
   ]
  },
  {
   "cell_type": "code",
   "execution_count": 26,
   "metadata": {},
   "outputs": [
    {
     "data": {
      "text/plain": [
       "True"
      ]
     },
     "execution_count": 26,
     "metadata": {},
     "output_type": "execute_result"
    }
   ],
   "source": [
    "# 'words' now contains a set of words from 'text'\n",
    "words = set(text)\n",
    "# Checks if the word 'forsooth' is in 'words'\n",
    "'forsooth' in words"
   ]
  },
  {
   "cell_type": "markdown",
   "metadata": {},
   "source": [
    "A **set** is an object and represents the set of all words in Shakespeare"
   ]
  }
 ],
 "metadata": {
  "kernelspec": {
   "display_name": "Python 3",
   "language": "python",
   "name": "python3"
  },
  "language_info": {
   "codemirror_mode": {
    "name": "ipython",
    "version": 3
   },
   "file_extension": ".py",
   "mimetype": "text/x-python",
   "name": "python",
   "nbconvert_exporter": "python",
   "pygments_lexer": "ipython3",
   "version": "3.7.0"
  }
 },
 "nbformat": 4,
 "nbformat_minor": 2
}
