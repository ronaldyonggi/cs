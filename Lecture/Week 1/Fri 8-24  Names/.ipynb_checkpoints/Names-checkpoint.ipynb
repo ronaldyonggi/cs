{
 "cells": [
  {
   "cell_type": "code",
   "execution_count": 1,
   "metadata": {},
   "outputs": [],
   "source": [
    "%load_ext nbtutor"
   ]
  },
  {
   "cell_type": "markdown",
   "metadata": {},
   "source": [
    "# Names, Assignment, and User-Defined Functions\n",
    "\n",
    "## Names\n",
    "A critical aspect of a programming language is the means it provides for using **names** to refer to computational objects. If a value has been given a name, we say that the **name binds to the value**."
   ]
  },
  {
   "cell_type": "code",
   "execution_count": 2,
   "metadata": {},
   "outputs": [
    {
     "ename": "NameError",
     "evalue": "name 'pi' is not defined",
     "output_type": "error",
     "traceback": [
      "\u001b[1;31m---------------------------------------------------------------------------\u001b[0m",
      "\u001b[1;31mNameError\u001b[0m                                 Traceback (most recent call last)",
      "\u001b[1;32m<ipython-input-2-f84ab820532c>\u001b[0m in \u001b[0;36m<module>\u001b[1;34m()\u001b[0m\n\u001b[1;32m----> 1\u001b[1;33m \u001b[0mpi\u001b[0m\u001b[1;33m\u001b[0m\u001b[0m\n\u001b[0m",
      "\u001b[1;31mNameError\u001b[0m: name 'pi' is not defined"
     ]
    }
   ],
   "source": [
    "pi"
   ]
  },
  {
   "cell_type": "markdown",
   "metadata": {},
   "source": [
    "Above, calling 'pi' gives an error because the name 'pi' hasn't been bound to any value.\n",
    "\n",
    "In Python, we can establish new bindings using the assignment statement, which contains a name to the left of = and a value to the right:"
   ]
  },
  {
   "cell_type": "code",
   "execution_count": null,
   "metadata": {},
   "outputs": [],
   "source": [
    "from math import pi\n",
    "pi * 71 / 223"
   ]
  },
  {
   "cell_type": "markdown",
   "metadata": {},
   "source": [
    "Names are also bound via **import** statements."
   ]
  },
  {
   "cell_type": "code",
   "execution_count": null,
   "metadata": {},
   "outputs": [],
   "source": [
    "from math import sin\n",
    "sin(pi/2)"
   ]
  },
  {
   "cell_type": "markdown",
   "metadata": {},
   "source": [
    "The = symbol is called the assignment operator in Python (and many other languages). Assignment is our simplest means of abstraction, for it allows us to use simple names to refer to the results of compound operations, such as the area computed above. In this way, complex programs are constructed by building, step by step, computational objects of increasing complexity.\n",
    "\n",
    "The possibility of **binding names to values** and later **retrieving those values by name** means that the interpreter must maintain some sort of memory that keeps track of the names, values, and bindings. This memory is called an **environment**.\n",
    "\n",
    "Names can also be bound to functions. For instance, the name **max** is bound to the max function we have been using. Functions, unlike numbers, are tricky to render as text, so Python prints an identifying description instead, when asked to describe a function:"
   ]
  },
  {
   "cell_type": "code",
   "execution_count": null,
   "metadata": {},
   "outputs": [],
   "source": [
    "max"
   ]
  },
  {
   "cell_type": "markdown",
   "metadata": {},
   "source": [
    "We can use assignment statements to give new names to existing functions."
   ]
  },
  {
   "cell_type": "code",
   "execution_count": null,
   "metadata": {},
   "outputs": [],
   "source": [
    "f = max\n",
    "f"
   ]
  },
  {
   "cell_type": "code",
   "execution_count": null,
   "metadata": {},
   "outputs": [],
   "source": [
    "f(2, 3, 4) #Remember that f is now bound to the max function"
   ]
  },
  {
   "cell_type": "markdown",
   "metadata": {},
   "source": [
    "Successive assignment statements can rebind a name to a new value."
   ]
  },
  {
   "cell_type": "code",
   "execution_count": null,
   "metadata": {},
   "outputs": [],
   "source": [
    "f = 2\n",
    "f"
   ]
  },
  {
   "cell_type": "markdown",
   "metadata": {},
   "source": [
    "In Python, names are often called **variable names** or **variables** because they can be bound to different values in the course of executing a program. When a name is bound to a new value through assignment, it is no longer bound to any previous value. One can even **bind built-in names to new values**."
   ]
  },
  {
   "cell_type": "code",
   "execution_count": null,
   "metadata": {},
   "outputs": [],
   "source": [
    "max = 5\n",
    "max"
   ]
  },
  {
   "cell_type": "markdown",
   "metadata": {},
   "source": [
    "After assigning max to 5, the name **max** is no longer bound to a function, and so attempting to call max(2, 3, 4) will cause an error.\n",
    "\n",
    "When executing an assignment statement, Python evaluates the expression to the right of = before changing the binding to the name on the left. Therefore, one can refer to a name in right-side expression, even if it is the name to be bound by the assignment statement."
   ]
  },
  {
   "cell_type": "code",
   "execution_count": null,
   "metadata": {},
   "outputs": [],
   "source": [
    "max(2, 3, 4)"
   ]
  },
  {
   "cell_type": "markdown",
   "metadata": {},
   "source": [
    "When executing an assignment statement, Python evaluates the expression to the right of '=' before changing the binding to the name on the left. Therefore, one can refer to a name in right-side expression, even if it is the name to be bound by the assignment statement."
   ]
  },
  {
   "cell_type": "code",
   "execution_count": null,
   "metadata": {},
   "outputs": [],
   "source": [
    "x = 2\n",
    "x = x + 1\n",
    "x"
   ]
  },
  {
   "cell_type": "markdown",
   "metadata": {},
   "source": [
    "We can also assign multiple values to multiple names in a single statement, where names on the left of '=' and expressions on the right of '=' are separated by commas."
   ]
  },
  {
   "cell_type": "code",
   "execution_count": null,
   "metadata": {},
   "outputs": [],
   "source": [
    "radius = 10\n",
    "area, circumference = pi * radius * radius, 2 * pi * radius\n",
    "area"
   ]
  },
  {
   "cell_type": "code",
   "execution_count": null,
   "metadata": {},
   "outputs": [],
   "source": [
    "circumference"
   ]
  },
  {
   "cell_type": "markdown",
   "metadata": {},
   "source": [
    "Changing the value of one name does not affect other names. Below, even though the name **area** was bound to a value defined originally in terms of **radius**, the value of area has not changed even after the **radius** was changed. Updating the value in **area** requires another assignment statement."
   ]
  },
  {
   "cell_type": "code",
   "execution_count": null,
   "metadata": {},
   "outputs": [],
   "source": [
    "radius = 11\n",
    "area"
   ]
  },
  {
   "cell_type": "code",
   "execution_count": null,
   "metadata": {},
   "outputs": [],
   "source": [
    "#Now we do another assignment statement for the area\n",
    "area = pi * radius * radius\n",
    "area"
   ]
  },
  {
   "cell_type": "markdown",
   "metadata": {},
   "source": [
    "With multiple assignment, all expressions to the right of '=' are evaluated before any names to the left are bound to those values. As a result of this rule, swapping the values bound to two names can be performed in a single statement."
   ]
  },
  {
   "cell_type": "code",
   "execution_count": null,
   "metadata": {},
   "outputs": [],
   "source": [
    "x, y = 1, 4\n",
    "x, y = y, x"
   ]
  },
  {
   "cell_type": "code",
   "execution_count": null,
   "metadata": {},
   "outputs": [],
   "source": [
    "x"
   ]
  },
  {
   "cell_type": "code",
   "execution_count": null,
   "metadata": {},
   "outputs": [],
   "source": [
    "y"
   ]
  },
  {
   "cell_type": "markdown",
   "metadata": {},
   "source": [
    "## Defining New Functions\n",
    "We have identified in Python some of the elements that must appear in any powerful programming language:\n",
    "\n",
    "1. Numbers and arithmetic operations are **primitive** built-in data values and functions.\n",
    "2. Nested function application provides a means of combining operations.\n",
    "3. Binding names to values provides a limited means of abstraction.\n",
    "\n",
    "Now we will learn about function definitions, a much more powerful abstraction technique by which a **name can be bound to compound operation**, which can then be referred to as a unit.\n",
    "\n",
    "We begin by examining how to express the idea of squaring. We might say, \"To square something, multiply it by itself.\" This is expressed in Python as:"
   ]
  },
  {
   "cell_type": "code",
   "execution_count": null,
   "metadata": {},
   "outputs": [],
   "source": [
    "from operator import *\n",
    "# Below is the definition referred above\n",
    "def square(x):\n",
    "        return mul(x, x) #Don't forget to import operator module!"
   ]
  },
  {
   "cell_type": "markdown",
   "metadata": {},
   "source": [
    "Above, we defined a new function and gave it the name **square**. This user-defined function is not built into the interpreter. It represents the compound operation of multiplying something by itself. The x in this definition is called a **formal parameter**, which provides a name for the thing to be multiplied. The definition creates this user-defined function and associates it with the name **square**.\n",
    "\n",
    "Function definitions consist of \n",
    "* A **def** statement that indicates a <name>\n",
    "* A comma-separated list of named <formal parameters>\n",
    "* A **return** statement, called the function body, that specifies the <return expression> of the function, which is an expression to be evaluated whenever the function is applied:"
   ]
  },
  {
   "cell_type": "code",
   "execution_count": null,
   "metadata": {},
   "outputs": [],
   "source": [
    "def <name> (<formal parameters>):\n",
    "    return <return expression>"
   ]
  },
  {
   "cell_type": "markdown",
   "metadata": {},
   "source": [
    "The second line **must be indented** — most programmers use four spaces to indent. The return expression is not evaluated right away; it is stored as part of the newly defined function and evaluated only when the function is eventually applied."
   ]
  },
  {
   "cell_type": "code",
   "execution_count": null,
   "metadata": {},
   "outputs": [],
   "source": [
    "square(21)"
   ]
  },
  {
   "cell_type": "code",
   "execution_count": null,
   "metadata": {},
   "outputs": [],
   "source": [
    "square(add(2, 5))"
   ]
  },
  {
   "cell_type": "code",
   "execution_count": null,
   "metadata": {},
   "outputs": [],
   "source": [
    "square(square(3))"
   ]
  },
  {
   "cell_type": "markdown",
   "metadata": {},
   "source": [
    "We can also use **square** as a building block in defining other functions. For example, we can easily define a function **sum_squares** that, given any two numbers as arguments, returns the sum of their squares:"
   ]
  },
  {
   "cell_type": "code",
   "execution_count": null,
   "metadata": {},
   "outputs": [],
   "source": [
    "def sum_squares(x, y):\n",
    "    return add(square(x), square(y))"
   ]
  },
  {
   "cell_type": "code",
   "execution_count": null,
   "metadata": {},
   "outputs": [],
   "source": [
    "sum_squares(3 ,4)"
   ]
  },
  {
   "cell_type": "markdown",
   "metadata": {},
   "source": [
    "User-defined functions are used in exactly the same way as built-in functions. Indeed, one cannot tell from the definition of **sum_squares** whether square is built into the interpreter, imported from a module, or defined by the user.\n",
    "\n",
    "Both def statements and assignment statements bind names to values, and any existing bindings are lost. For example, **g** below first refers to a function of no arguments, then a number, and then a different function of two arguments."
   ]
  },
  {
   "cell_type": "code",
   "execution_count": null,
   "metadata": {},
   "outputs": [],
   "source": [
    "def g():\n",
    "    return 1\n",
    "g()"
   ]
  },
  {
   "cell_type": "code",
   "execution_count": null,
   "metadata": {},
   "outputs": [],
   "source": [
    "g = 2\n",
    "g"
   ]
  },
  {
   "cell_type": "code",
   "execution_count": null,
   "metadata": {},
   "outputs": [],
   "source": [
    "def g(h, i):\n",
    "    return h + i\n",
    "g(1, 2)"
   ]
  },
  {
   "cell_type": "markdown",
   "metadata": {},
   "source": [
    "## Types of Expression\n",
    "<img src = 'primitive.jpg' width = 600/>\n",
    "<img src = 'call.jpg' width = 600/>"
   ]
  },
  {
   "cell_type": "markdown",
   "metadata": {},
   "source": [
    "## Discussion Question 1\n",
    "**What is the value of the final expression inthe sequence below?**"
   ]
  },
  {
   "cell_type": "code",
   "execution_count": null,
   "metadata": {},
   "outputs": [],
   "source": [
    "f = min\n",
    "f = max\n",
    "g, h = min, max\n",
    "max = g # Note that f is not changed! f is still max\n",
    "max(f(2, g(h(1, 5), 3)), 4)"
   ]
  },
  {
   "cell_type": "markdown",
   "metadata": {},
   "source": [
    "# Environment Diagrams\n",
    "**Environment diagrams visualize the interpreter's process**\n",
    "\n",
    "What if a formal parameter has the same name as a built-in function? Can 2 functions share the same name? To resolve such questions, we must describe environments in more detail.\n",
    "\n",
    "An environment in which an expression is evaluated consists of a sequence of frames, depicted as boxes. Each frame contains bindings, each of which associates a name with its corresponding value. There is a single `global` frame. Assignment and import statements add entries to the first frame of the current environment. So far, our environment consists only of the `global` frame."
   ]
  },
  {
   "cell_type": "code",
   "execution_count": 3,
   "metadata": {},
   "outputs": [
    {
     "name": "nbtutor",
     "output_type": "stream",
     "text": []
    }
   ],
   "source": [
    "%%nbtutor -r -f\n",
    "from math import pi\n",
    "tau = 2 * pi"
   ]
  },
  {
   "cell_type": "markdown",
   "metadata": {},
   "source": [
    "<img src='frame.jpg' width = 550/>\n",
    "\n",
    "The **environment diagram** shows the bindings of the current environment, along with the values to which names are bound.\n",
    "\n",
    "Functions appear in environment diagrams as well. \n",
    "* An `import` statement binds a name to a built-in function\n",
    "* A `def` statement binds a name to a user-defined function created by the definition. \n",
    "\n",
    "The resulting environment after importing `mul` and defining `square` appears below:"
   ]
  },
  {
   "cell_type": "code",
   "execution_count": 4,
   "metadata": {},
   "outputs": [
    {
     "name": "nbtutor",
     "output_type": "stream",
     "text": []
    }
   ],
   "source": [
    "%%nbtutor -r -f\n",
    "from operator import mul\n",
    "def square(x):\n",
    "    return mul(x,x)"
   ]
  },
  {
   "cell_type": "markdown",
   "metadata": {},
   "source": [
    "Each function is a line that starts with **func**, followed by the function name and formal parameters. Built-in functions such as **mul** do not have formal parameter names.\n",
    "\n",
    "The name of a function is repeated twice, once in the frame and again as part of the function itself. The name appearing in the function is called the **intrinsic name**. The name in a frame is a bound name. There is a difference between the two: different names may refer to the same function, but that function itself has only one intrinsic name.\n",
    "\n",
    "The name bound to a function in a frame is the one used during evaluation. The intrinsic name of a function does not play a role in evaluation. Step through the example below using the Forward button to see that once the name max is bound to the value 3, it can no longer be used as a function."
   ]
  }
 ],
 "metadata": {
  "celltoolbar": "Visualize",
  "kernelspec": {
   "display_name": "Python 3",
   "language": "python",
   "name": "python3"
  },
  "language_info": {
   "codemirror_mode": {
    "name": "ipython",
    "version": 3
   },
   "file_extension": ".py",
   "mimetype": "text/x-python",
   "name": "python",
   "nbconvert_exporter": "python",
   "pygments_lexer": "ipython3",
   "version": "3.7.0"
  }
 },
 "nbformat": 4,
 "nbformat_minor": 2
}
