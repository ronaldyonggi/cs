{
 "cells": [
  {
   "cell_type": "markdown",
   "metadata": {},
   "source": [
    "# Names, Assignment, and User-Defined Functions\n",
    "\n",
    "## Demo\n",
    "Last time, we saw that Python can be used as a calculator. We might think that Python is also capable of using mathematical concepts such as `pi`."
   ]
  },
  {
   "cell_type": "code",
   "execution_count": 1,
   "metadata": {},
   "outputs": [
    {
     "ename": "NameError",
     "evalue": "name 'pi' is not defined",
     "output_type": "error",
     "traceback": [
      "\u001b[1;31m--------------------------------------------------------------------\u001b[0m",
      "\u001b[1;31mNameError\u001b[0m                          Traceback (most recent call last)",
      "\u001b[1;32m<ipython-input-1-f84ab820532c>\u001b[0m in \u001b[0;36m<module>\u001b[1;34m\u001b[0m\n\u001b[1;32m----> 1\u001b[1;33m \u001b[0mpi\u001b[0m\u001b[1;33m\u001b[0m\u001b[1;33m\u001b[0m\u001b[0m\n\u001b[0m",
      "\u001b[1;31mNameError\u001b[0m: name 'pi' is not defined"
     ]
    }
   ],
   "source": [
    "pi"
   ]
  },
  {
   "cell_type": "markdown",
   "metadata": {},
   "source": [
    "However, when we try to call `pi`, Python gave an error!\n",
    "\n",
    "Python actually recognize names such as `pi`, but most names are not readily available until we import them. We can import `pi` from the `math` module."
   ]
  },
  {
   "cell_type": "code",
   "execution_count": 35,
   "metadata": {},
   "outputs": [],
   "source": [
    "from math import pi"
   ]
  },
  {
   "cell_type": "markdown",
   "metadata": {},
   "source": [
    "This is equivalent to telling Python to make `pi` available. Now we can use `pi` for our mathematical operations."
   ]
  },
  {
   "cell_type": "code",
   "execution_count": 5,
   "metadata": {},
   "outputs": [
    {
     "data": {
      "text/plain": [
       "3.141592653589793"
      ]
     },
     "execution_count": 5,
     "metadata": {},
     "output_type": "execute_result"
    }
   ],
   "source": [
    "pi"
   ]
  },
  {
   "cell_type": "code",
   "execution_count": null,
   "metadata": {},
   "outputs": [],
   "source": [
    "pi * 71 / 223"
   ]
  },
  {
   "cell_type": "markdown",
   "metadata": {},
   "source": [
    "We can import other functions from `math` module, such as `sin`. `sin` is a built-in function that takes an angle."
   ]
  },
  {
   "cell_type": "code",
   "execution_count": 34,
   "metadata": {},
   "outputs": [],
   "source": [
    "from math import sin"
   ]
  },
  {
   "cell_type": "code",
   "execution_count": 3,
   "metadata": {},
   "outputs": [
    {
     "data": {
      "text/plain": [
       "<function math.sin(x, /)>"
      ]
     },
     "execution_count": 3,
     "metadata": {},
     "output_type": "execute_result"
    }
   ],
   "source": [
    "sin"
   ]
  },
  {
   "cell_type": "code",
   "execution_count": 4,
   "metadata": {},
   "outputs": [
    {
     "data": {
      "text/plain": [
       "1.0"
      ]
     },
     "execution_count": 4,
     "metadata": {},
     "output_type": "execute_result"
    }
   ],
   "source": [
    "sin(pi/2)"
   ]
  },
  {
   "cell_type": "markdown",
   "metadata": {},
   "source": [
    "Above are examples of built-in functions (e.g. `sin`) and names (e.g. `pi`). Turns out we can create our own name using an **assignment statement**.\n",
    "\n",
    "An **assignment statement** has a `name` on the left hand side and an expression on the right side. "
   ]
  },
  {
   "cell_type": "code",
   "execution_count": 41,
   "metadata": {},
   "outputs": [],
   "source": [
    "radius = 10"
   ]
  },
  {
   "cell_type": "markdown",
   "metadata": {},
   "source": [
    "Python evaluates the expression and binds it to the name `radius`. Now the name `radius` is bound to the value `10`."
   ]
  },
  {
   "cell_type": "code",
   "execution_count": 6,
   "metadata": {},
   "outputs": [
    {
     "data": {
      "text/plain": [
       "10"
      ]
     },
     "execution_count": 6,
     "metadata": {},
     "output_type": "execute_result"
    }
   ],
   "source": [
    "radius"
   ]
  },
  {
   "cell_type": "code",
   "execution_count": 7,
   "metadata": {},
   "outputs": [
    {
     "data": {
      "text/plain": [
       "20"
      ]
     },
     "execution_count": 7,
     "metadata": {},
     "output_type": "execute_result"
    }
   ],
   "source": [
    "2 * radius"
   ]
  },
  {
   "cell_type": "markdown",
   "metadata": {},
   "source": [
    "We can use the name `radius` to bind other names to other values. In fact, it is possible to bind multiple names to multiple values in a single statement. Below we bind the `area` and `circ`umference of a circle to some values."
   ]
  },
  {
   "cell_type": "code",
   "execution_count": 42,
   "metadata": {},
   "outputs": [],
   "source": [
    "area, circ = pi * radius * radius, 2 * pi * radius"
   ]
  },
  {
   "cell_type": "code",
   "execution_count": 43,
   "metadata": {},
   "outputs": [
    {
     "data": {
      "text/plain": [
       "314.1592653589793"
      ]
     },
     "execution_count": 43,
     "metadata": {},
     "output_type": "execute_result"
    }
   ],
   "source": [
    "area"
   ]
  },
  {
   "cell_type": "code",
   "execution_count": 44,
   "metadata": {},
   "outputs": [
    {
     "data": {
      "text/plain": [
       "62.83185307179586"
      ]
     },
     "execution_count": 44,
     "metadata": {},
     "output_type": "execute_result"
    }
   ],
   "source": [
    "circ"
   ]
  },
  {
   "cell_type": "markdown",
   "metadata": {},
   "source": [
    "Both the names `area` and `circ` are now bound to the values `314.1592653589793` and `62.83185307179586` respectively. They don't remember how those values came from. Thus, if we change the `radius` value,"
   ]
  },
  {
   "cell_type": "code",
   "execution_count": 45,
   "metadata": {},
   "outputs": [],
   "source": [
    "radius = 20"
   ]
  },
  {
   "cell_type": "markdown",
   "metadata": {},
   "source": [
    "and if we check again the value that was bound to `area`, turns out `area` doesn't change!"
   ]
  },
  {
   "cell_type": "code",
   "execution_count": 46,
   "metadata": {},
   "outputs": [
    {
     "data": {
      "text/plain": [
       "314.1592653589793"
      ]
     },
     "execution_count": 46,
     "metadata": {},
     "output_type": "execute_result"
    }
   ],
   "source": [
    "area"
   ]
  },
  {
   "cell_type": "markdown",
   "metadata": {},
   "source": [
    "This is how assignment works. Python evaluates `area` as `pi * radius * radius`, which is 314.159. but once the values is bound, Python does not remember that `area` was defined in terms of `radius`.\n",
    "\n",
    "Assignment statements can also be used to give names to functions. Recall we used the `max` function in the previous lecture. `max` function is built-in."
   ]
  },
  {
   "cell_type": "code",
   "execution_count": 13,
   "metadata": {},
   "outputs": [
    {
     "data": {
      "text/plain": [
       "3"
      ]
     },
     "execution_count": 13,
     "metadata": {},
     "output_type": "execute_result"
    }
   ],
   "source": [
    "max(1, 2, 3)"
   ]
  },
  {
   "cell_type": "markdown",
   "metadata": {},
   "source": [
    "if we assign the name `f` to the `max` function,"
   ]
  },
  {
   "cell_type": "code",
   "execution_count": 14,
   "metadata": {},
   "outputs": [],
   "source": [
    "f = max"
   ]
  },
  {
   "cell_type": "code",
   "execution_count": 15,
   "metadata": {},
   "outputs": [
    {
     "data": {
      "text/plain": [
       "<function max>"
      ]
     },
     "execution_count": 15,
     "metadata": {},
     "output_type": "execute_result"
    }
   ],
   "source": [
    "f"
   ]
  },
  {
   "cell_type": "markdown",
   "metadata": {},
   "source": [
    "`f` is now the built-in `max` function. Now we can use the name `f` as if it is the `max` function. Below we try giving arguments to the name `f`."
   ]
  },
  {
   "cell_type": "code",
   "execution_count": 16,
   "metadata": {},
   "outputs": [
    {
     "data": {
      "text/plain": [
       "3"
      ]
     },
     "execution_count": 16,
     "metadata": {},
     "output_type": "execute_result"
    }
   ],
   "source": [
    "f(1, 2, 3)"
   ]
  },
  {
   "cell_type": "markdown",
   "metadata": {},
   "source": [
    "`max` is actually a name. However, when we run Python the first time, `max` is bound to a function that takes the maximum value of is arguments. In fact, we can change the value that was bound to `max`."
   ]
  },
  {
   "cell_type": "code",
   "execution_count": 17,
   "metadata": {},
   "outputs": [],
   "source": [
    "max = 7"
   ]
  },
  {
   "cell_type": "code",
   "execution_count": 18,
   "metadata": {},
   "outputs": [
    {
     "data": {
      "text/plain": [
       "7"
      ]
     },
     "execution_count": 18,
     "metadata": {},
     "output_type": "execute_result"
    }
   ],
   "source": [
    "max"
   ]
  },
  {
   "cell_type": "markdown",
   "metadata": {},
   "source": [
    "Now `max` is just the number `7`. Even though we changed the value in `max`, `f` stays unchanged."
   ]
  },
  {
   "cell_type": "code",
   "execution_count": 19,
   "metadata": {},
   "outputs": [
    {
     "data": {
      "text/plain": [
       "3"
      ]
     },
     "execution_count": 19,
     "metadata": {},
     "output_type": "execute_result"
    }
   ],
   "source": [
    "f(1, 2, 3)"
   ]
  },
  {
   "cell_type": "code",
   "execution_count": 20,
   "metadata": {},
   "outputs": [
    {
     "data": {
      "text/plain": [
       "<function max>"
      ]
     },
     "execution_count": 20,
     "metadata": {},
     "output_type": "execute_result"
    }
   ],
   "source": [
    "f"
   ]
  },
  {
   "cell_type": "code",
   "execution_count": 21,
   "metadata": {},
   "outputs": [
    {
     "data": {
      "text/plain": [
       "7"
      ]
     },
     "execution_count": 21,
     "metadata": {},
     "output_type": "execute_result"
    }
   ],
   "source": [
    "f(1, 2, max)"
   ]
  },
  {
   "cell_type": "markdown",
   "metadata": {},
   "source": [
    "We can change `max` back by assigning `f` to `max`."
   ]
  },
  {
   "cell_type": "code",
   "execution_count": 22,
   "metadata": {},
   "outputs": [],
   "source": [
    "max = f"
   ]
  },
  {
   "cell_type": "markdown",
   "metadata": {},
   "source": [
    "Now `max` is back to being a function that takes the maximum of its argument."
   ]
  },
  {
   "cell_type": "code",
   "execution_count": 23,
   "metadata": {},
   "outputs": [
    {
     "data": {
      "text/plain": [
       "3"
      ]
     },
     "execution_count": 23,
     "metadata": {},
     "output_type": "execute_result"
    }
   ],
   "source": [
    "max(1, 2, 3)"
   ]
  },
  {
   "cell_type": "markdown",
   "metadata": {},
   "source": [
    "Recall in the previous lecture, we used function names for common infix operators such as `+` and `*`. These functions are available in `operator` module. If we didn't import `add` and `mul` from `operator`, `add` and `mul` would be undefined to begin with."
   ]
  },
  {
   "cell_type": "code",
   "execution_count": 24,
   "metadata": {},
   "outputs": [
    {
     "ename": "NameError",
     "evalue": "name 'add' is not defined",
     "output_type": "error",
     "traceback": [
      "\u001b[1;31m---------------------------------------------------------------------------\u001b[0m",
      "\u001b[1;31mNameError\u001b[0m                                 Traceback (most recent call last)",
      "\u001b[1;32m<ipython-input-24-92beb40d1a86>\u001b[0m in \u001b[0;36m<module>\u001b[1;34m\u001b[0m\n\u001b[1;32m----> 1\u001b[1;33m \u001b[0madd\u001b[0m\u001b[1;33m\u001b[0m\u001b[1;33m\u001b[0m\u001b[0m\n\u001b[0m",
      "\u001b[1;31mNameError\u001b[0m: name 'add' is not defined"
     ]
    }
   ],
   "source": [
    "add"
   ]
  },
  {
   "cell_type": "code",
   "execution_count": null,
   "metadata": {},
   "outputs": [],
   "source": [
    "mul"
   ]
  },
  {
   "cell_type": "code",
   "execution_count": 28,
   "metadata": {},
   "outputs": [],
   "source": [
    "from operator import add, mul"
   ]
  },
  {
   "cell_type": "code",
   "execution_count": null,
   "metadata": {},
   "outputs": [],
   "source": [
    "add"
   ]
  },
  {
   "cell_type": "code",
   "execution_count": null,
   "metadata": {},
   "outputs": [],
   "source": [
    "mul"
   ]
  },
  {
   "cell_type": "markdown",
   "metadata": {},
   "source": [
    "We see that we can bind names to values through `import` statements. However, this only applies to names that are built-in (e.g. `add`, `mul`, `pi`). \n",
    "\n",
    "Another way of binding names to value is through assignment statement, which allows\n",
    "1. Assigning values to new names\n",
    "2. Change the values that were already bound to a name\n",
    "\n",
    "There is even another way: `def` statement. `def` statement allows us to create our own function. Below is an example of defining the name `square` as a function that takes in a number as the argument and returns the square of that number by multipying that number with itself,"
   ]
  },
  {
   "cell_type": "code",
   "execution_count": 29,
   "metadata": {},
   "outputs": [],
   "source": [
    "def square(x):\n",
    "    return mul(x, x)"
   ]
  },
  {
   "cell_type": "code",
   "execution_count": null,
   "metadata": {},
   "outputs": [],
   "source": [
    "square"
   ]
  },
  {
   "cell_type": "code",
   "execution_count": null,
   "metadata": {},
   "outputs": [],
   "source": [
    "square(11)"
   ]
  },
  {
   "cell_type": "markdown",
   "metadata": {},
   "source": [
    "We can use a call expression as the argument for the `square` function as well,"
   ]
  },
  {
   "cell_type": "code",
   "execution_count": 30,
   "metadata": {},
   "outputs": [
    {
     "data": {
      "text/plain": [
       "49"
      ]
     },
     "execution_count": 30,
     "metadata": {},
     "output_type": "execute_result"
    }
   ],
   "source": [
    "square(add(3, 4))"
   ]
  },
  {
   "cell_type": "markdown",
   "metadata": {},
   "source": [
    "And we can call nested function,"
   ]
  },
  {
   "cell_type": "code",
   "execution_count": 31,
   "metadata": {},
   "outputs": [
    {
     "data": {
      "text/plain": [
       "81"
      ]
     },
     "execution_count": 31,
     "metadata": {},
     "output_type": "execute_result"
    }
   ],
   "source": [
    "square(square(3))"
   ]
  },
  {
   "cell_type": "markdown",
   "metadata": {},
   "source": [
    "We can define a function that uses another function as part of it. Below is a function `sum_squares` that takes in 2 numbers `x` and `y` and returns the sum of squared `x` and squared `y`,"
   ]
  },
  {
   "cell_type": "code",
   "execution_count": 32,
   "metadata": {},
   "outputs": [],
   "source": [
    "def sum_squares(x, y):\n",
    "    return square(x) + square(y)"
   ]
  },
  {
   "cell_type": "code",
   "execution_count": 33,
   "metadata": {},
   "outputs": [
    {
     "data": {
      "text/plain": [
       "25"
      ]
     },
     "execution_count": 33,
     "metadata": {},
     "output_type": "execute_result"
    }
   ],
   "source": [
    "sum_squares(3, 4)"
   ]
  },
  {
   "cell_type": "markdown",
   "metadata": {},
   "source": [
    "Now recall that the `radius` and `area` are currently not in sync,"
   ]
  },
  {
   "cell_type": "code",
   "execution_count": 47,
   "metadata": {},
   "outputs": [
    {
     "data": {
      "text/plain": [
       "20"
      ]
     },
     "execution_count": 47,
     "metadata": {},
     "output_type": "execute_result"
    }
   ],
   "source": [
    "radius"
   ]
  },
  {
   "cell_type": "code",
   "execution_count": 48,
   "metadata": {},
   "outputs": [
    {
     "data": {
      "text/plain": [
       "314.1592653589793"
      ]
     },
     "execution_count": 48,
     "metadata": {},
     "output_type": "execute_result"
    }
   ],
   "source": [
    "area"
   ]
  },
  {
   "cell_type": "markdown",
   "metadata": {},
   "source": [
    "Above is not the area of a circle with radius 20! It is the area of a circle with radius 10 instead. How do we keep them in sync? Use a function!\n",
    "\n",
    "This time, we can define `area` as a function that always returns `pi * radius * radius`."
   ]
  },
  {
   "cell_type": "code",
   "execution_count": 50,
   "metadata": {},
   "outputs": [],
   "source": [
    "def area():\n",
    "    return pi * radius * radius"
   ]
  },
  {
   "cell_type": "code",
   "execution_count": 51,
   "metadata": {},
   "outputs": [
    {
     "data": {
      "text/plain": [
       "<function __main__.area()>"
      ]
     },
     "execution_count": 51,
     "metadata": {},
     "output_type": "execute_result"
    }
   ],
   "source": [
    "area"
   ]
  },
  {
   "cell_type": "code",
   "execution_count": 52,
   "metadata": {},
   "outputs": [
    {
     "data": {
      "text/plain": [
       "1256.6370614359173"
      ]
     },
     "execution_count": 52,
     "metadata": {},
     "output_type": "execute_result"
    }
   ],
   "source": [
    "area()"
   ]
  },
  {
   "cell_type": "markdown",
   "metadata": {},
   "source": [
    "Notice that we didn't give an arguments to the function call above. This is an example of a call expression without operands.\n",
    "\n",
    "Now the value obtained from calling the `area` function is 1256.63, which is the area of a circle with `radius` of 20."
   ]
  },
  {
   "cell_type": "code",
   "execution_count": 53,
   "metadata": {},
   "outputs": [
    {
     "data": {
      "text/plain": [
       "1256.6370614359173"
      ]
     },
     "execution_count": 53,
     "metadata": {},
     "output_type": "execute_result"
    }
   ],
   "source": [
    "pi * radius * radius"
   ]
  },
  {
   "cell_type": "markdown",
   "metadata": {},
   "source": [
    "If the `radius` is changed, the `area` is updated!"
   ]
  },
  {
   "cell_type": "code",
   "execution_count": 54,
   "metadata": {},
   "outputs": [
    {
     "data": {
      "text/plain": [
       "314.1592653589793"
      ]
     },
     "execution_count": 54,
     "metadata": {},
     "output_type": "execute_result"
    }
   ],
   "source": [
    "radius = 10\n",
    "area()"
   ]
  },
  {
   "cell_type": "code",
   "execution_count": 55,
   "metadata": {},
   "outputs": [
    {
     "data": {
      "text/plain": [
       "3.141592653589793"
      ]
     },
     "execution_count": 55,
     "metadata": {},
     "output_type": "execute_result"
    }
   ],
   "source": [
    "radius = 1\n",
    "area()"
   ]
  },
  {
   "cell_type": "markdown",
   "metadata": {},
   "source": [
    "A function differs from a name. A function's return expression is re-evaluated everytime it's called.\n",
    "\n",
    "Now let's review what we have seen so far."
   ]
  },
  {
   "cell_type": "markdown",
   "metadata": {},
   "source": [
    "## Types of Expression\n",
    "The types of expressions we have seen so far are:\n",
    "\n",
    "1. `Primitive` expression. For example:\n",
    "    * Number or numerical (e.g. `2`, `314`)\n",
    "    * Name (e.g. `add`, `mul`, `pi`)\n",
    "    * String (e.g. `'hello'`)\n",
    "    \n",
    "2. `Call` expression, which look like the following,\n",
    "<img src = 'call.jpg' width = 500/>\n",
    "\n",
    "    * It is also possible to use a call expression without operands (e.g. `area()`)\n",
    "    * We can also do nested call expression\n",
    "    * An operand can also be a call expression \n",
    "<img src = 'operand.jpg' width = 500/>"
   ]
  },
  {
   "cell_type": "markdown",
   "metadata": {},
   "source": [
    "## Discussion Question 1\n",
    "What is the value of the final expression in this sequence?"
   ]
  },
  {
   "cell_type": "code",
   "execution_count": 56,
   "metadata": {},
   "outputs": [
    {
     "data": {
      "text/plain": [
       "3"
      ]
     },
     "execution_count": 56,
     "metadata": {},
     "output_type": "execute_result"
    }
   ],
   "source": [
    "f = min\n",
    "f = max\n",
    "g, h = min, max\n",
    "max = g\n",
    "\n",
    "# At this point, f = max, g = min, h = max, 'max' = min\n",
    "max(f(2, g(h(1, 5), 3)), 4)\n",
    "\n",
    "#Return value should be 3"
   ]
  },
  {
   "cell_type": "markdown",
   "metadata": {},
   "source": [
    "# Environment Diagrams\n",
    "Environment diagram is a way to keep track of what's happening within the Python interpreter when it executes a program. Environments are the way in which an interpreter for a programming language keeps track of what names mean. We can think of it as a memory that keeps track of what names bound to what values. This involves drawing boxes and arrows, like what most computer scientists do.\n",
    "\n",
    "Environment diagrams visualize the interpreter's process. They look like the following,\n",
    "\n",
    "(Before running the cell below, make sure to install `tutormagic` extension for Jupyter Notebook by kikocorreoso. See the installation documentation [here](https://github.com/kikocorreoso/tutormagic))"
   ]
  },
  {
   "cell_type": "code",
   "execution_count": 2,
   "metadata": {},
   "outputs": [],
   "source": [
    "%load_ext tutormagic"
   ]
  },
  {
   "cell_type": "code",
   "execution_count": 3,
   "metadata": {},
   "outputs": [
    {
     "data": {
      "text/html": [
       "\n",
       "        <iframe\n",
       "            width=\"100%\"\n",
       "            height=\"350\"\n",
       "            src=\"http://pythontutor.com/iframe-embed.html#code=%0Afrom%20math%20import%20pi%0Atau%20%3D%202%20%2A%20pi%0A&origin=opt-frontend.js&cumulative=false&heapPrimitives=false&textReferences=false&curInstr=0&&verticalStack=false&py=3&rawInputLstJSON=%5B%5D&codeDivWidth=50%25&codeDivHeight=100%25\"\n",
       "            frameborder=\"0\"\n",
       "            allowfullscreen\n",
       "        ></iframe>\n",
       "        "
      ],
      "text/plain": [
       "<IPython.lib.display.IFrame at 0x5763250>"
      ]
     },
     "metadata": {},
     "output_type": "display_data"
    }
   ],
   "source": [
    "%%tutor --lang python3\n",
    "\n",
    "from math import pi\n",
    "tau = 2 * pi"
   ]
  },
  {
   "cell_type": "markdown",
   "metadata": {},
   "source": [
    "As we can see above, we have **codes on the left side** and some **frames on the right side**. The arrows next to the codes indicate where we are in the process of execution. The frames keep track of the bindings between names and values.\n",
    "\n",
    "### Within the codes, there are:\n",
    "1. Statements and expressions\n",
    "<img src = 'statement.jpg' width = 500/>\n",
    "\n",
    "2. Arrows, which indicate evaluation order\n",
    "<img src = 'arrows.jpg' width = 300/>\n",
    "\n",
    "### Within the frames, there are `bindings between names and values`\n",
    "<img src = 'names.jpg' width = 400/>\n",
    "**IMPORTANT: Within a frame, a name can't be repeated**. A name can only be bound to one value. Recall when we bind the name `max` to a value, the original binding, which was a function that return the maximum of the arguments, was lost. Another example is as below,"
   ]
  },
  {
   "cell_type": "code",
   "execution_count": 61,
   "metadata": {},
   "outputs": [],
   "source": [
    "x = 3\n",
    "x = 5"
   ]
  },
  {
   "cell_type": "code",
   "execution_count": 62,
   "metadata": {},
   "outputs": [
    {
     "data": {
      "text/plain": [
       "5"
      ]
     },
     "execution_count": 62,
     "metadata": {},
     "output_type": "execute_result"
    }
   ],
   "source": [
    "x"
   ]
  },
  {
   "cell_type": "markdown",
   "metadata": {},
   "source": [
    "`x` can only be bound to the later value, 5. `x` can't be bound to both 3 and 5 on the same time.\n",
    "\n",
    "We can also use the online `Pythontutor` to visualize environment diagrams.\n",
    "\n",
    "Along the course, environment diagrams are going to become more complicated but also more necessary."
   ]
  },
  {
   "cell_type": "markdown",
   "metadata": {},
   "source": [
    "## Assignment Statements\n",
    "Assignment statements change the bindings between names and values in frames. Look at the environment diagram below,"
   ]
  },
  {
   "cell_type": "code",
   "execution_count": 6,
   "metadata": {},
   "outputs": [
    {
     "data": {
      "text/html": [
       "\n",
       "        <iframe\n",
       "            width=\"100%\"\n",
       "            height=\"350\"\n",
       "            src=\"http://pythontutor.com/iframe-embed.html#code=%0Aa%20%3D%201%0Ab%20%3D%202%0Ab%2C%20a%20%3D%20a%20%2B%20b%2C%20b%0A&origin=opt-frontend.js&cumulative=false&heapPrimitives=false&textReferences=false&curInstr=0&&verticalStack=false&py=3&rawInputLstJSON=%5B%5D&codeDivWidth=50%25&codeDivHeight=100%25\"\n",
       "            frameborder=\"0\"\n",
       "            allowfullscreen\n",
       "        ></iframe>\n",
       "        "
      ],
      "text/plain": [
       "<IPython.lib.display.IFrame at 0x59c0e30>"
      ]
     },
     "metadata": {},
     "output_type": "display_data"
    }
   ],
   "source": [
    "%%tutor --lang python3\n",
    "\n",
    "a = 1\n",
    "b = 2\n",
    "b, a = a + b, b"
   ]
  },
  {
   "cell_type": "markdown",
   "metadata": {},
   "source": [
    "There is an **execution rule** for assignment statements:\n",
    "1. Evaluate all expressions to the right of `=` from left to right\n",
    "2. Bind all names to the left of `=` to the resulting values in the current frame\n",
    "\n",
    "Below, we start at the point where Python just finished executed the line `b = 2`. At this point, the global frame shows that `a` is bound to `1`, while `b` is bound to `2`.\n",
    "<img src = 'assignment.jpg' width = 800/>\n",
    "\n",
    "Now let's apply the **execution rule** to the line that is labeled **\"Next to execute\"**. At the right hand side of `=`, we have:\n",
    "1. `a` + `b`, which evaluates to `1` + `2` = `3`\n",
    "2. `b`, which just evaluates to `2`.\n",
    "\n",
    "Then we bind the names `b` and `a` at the left side of `=` to `3` and `2`, respectively.\n",
    "\n",
    "<img src = 'just_executed.jpg' width = 800/>"
   ]
  },
  {
   "cell_type": "markdown",
   "metadata": {},
   "source": [
    "## Discussion Question 1 Solution\n",
    "Recall the following sequence of codes,"
   ]
  },
  {
   "cell_type": "code",
   "execution_count": null,
   "metadata": {},
   "outputs": [],
   "source": [
    "f = min\n",
    "f = max\n",
    "g, h = min, max\n",
    "max = g\n",
    "max(f(2, g(h(1, 5), 3)), 4)"
   ]
  },
  {
   "cell_type": "markdown",
   "metadata": {},
   "source": [
    "We can use environment diagram to visualize the execution order,"
   ]
  },
  {
   "cell_type": "code",
   "execution_count": 3,
   "metadata": {},
   "outputs": [
    {
     "data": {
      "text/html": [
       "\n",
       "        <iframe\n",
       "            width=\"100%\"\n",
       "            height=\"350\"\n",
       "            src=\"http://pythontutor.com/iframe-embed.html#code=%0Af%20%3D%20min%0Af%20%3D%20max%0Ag%2C%20h%20%3D%20min%2C%20max%0Amax%20%3D%20g%0Amax%28f%282%2C%20g%28h%281%2C%205%29%2C%203%29%29%2C%204%29%0A&origin=opt-frontend.js&cumulative=false&heapPrimitives=false&textReferences=false&curInstr=0&&verticalStack=false&py=3&rawInputLstJSON=%5B%5D&codeDivWidth=50%25&codeDivHeight=100%25\"\n",
       "            frameborder=\"0\"\n",
       "            allowfullscreen\n",
       "        ></iframe>\n",
       "        "
      ],
      "text/plain": [
       "<IPython.lib.display.IFrame at 0x5e73c90>"
      ]
     },
     "metadata": {},
     "output_type": "display_data"
    }
   ],
   "source": [
    "%%tutor --lang python3\n",
    "\n",
    "f = min\n",
    "f = max\n",
    "g, h = min, max\n",
    "max = g\n",
    "max(f(2, g(h(1, 5), 3)), 4)"
   ]
  },
  {
   "cell_type": "markdown",
   "metadata": {},
   "source": [
    "Notice that the frames at the right hand side lists all the names that were defined in the codes on the left hand side. The `max` and `min` are actually also names that are part of the global frame, but they are built-in and thus by default Python does not list them in the global frame. If Python writes all the built-in names in global frame as well, the global frame will be filled with so many built-in names.. Python write built-in names in the global frame only if they are changed from the original definition."
   ]
  },
  {
   "cell_type": "markdown",
   "metadata": {},
   "source": [
    "# Defining Functions\n",
    "At first, it was explained that this course is all about abstraction. In this section, we are going to learn tools for abstraction. Recall that abstraction is the process of:\n",
    "1. Take a complex thing\n",
    "2. Give it a name\n",
    "3. Treat it as a whole without worrying about its details\n",
    "\n",
    "`Assignment` is a simple means of abstraction as we can **bind names to values**.\n",
    "\n",
    "`Function definition` is a more powerful means of abstraction since we can bind names to not only values, but also **expressions** (e.g. series of statements).\n",
    "\n",
    "We define a function with the `def` keyword.\n",
    "<img src = 'function.jpg' width = 500/>\n",
    "\n",
    "We start with giving the function a `<name>`, then we list the function's `<formal parameters>`. \n",
    "<img src = 'formal_parameters.jpg' width = 400/>\n",
    "\n",
    "Then we write the body of the function. \n",
    "<img src = 'return.jpg' width = 270/>\n",
    "\n",
    "The first line, and the line between the `def` and `:`, is called `function signature`. `function signature` shows how many arguments a function takes in by listing the `<formal parameters>`. The `formal parameters` are `names` that refer to the argument values that are passed in into the function.\n",
    "\n",
    "<img src = 'signature.jpg' width = 700/>\n",
    "\n",
    "The `function body` defines what the function does. Below is a simple example of the body of a function, a return statement. The `<return expression>` is evaluated every time the function is called.\n",
    "\n",
    "<img src = 'body.jpg' width = 700/>\n",
    "\n",
    "There is a procedure for evaluating `def` statements.\n",
    "#### Execution procedure for `def` statements:\n",
    "1. Every time there's a `def` statement, we create a new function. This function has a signature `<name>`(`<formal parameters>`)\n",
    "2. Set the body of that function to be **everything indented after the first line**\n",
    "3. Bind the `<name>` to that function we just created in the current frame\n",
    "\n",
    "**IMPORTANT**: When we write the body of the function, Python **DOES NOT** execute it. When we defined the `square` function,"
   ]
  },
  {
   "cell_type": "code",
   "execution_count": null,
   "metadata": {},
   "outputs": [],
   "source": [
    "def square(x):\n",
    "    return mul(x, x)"
   ]
  },
  {
   "cell_type": "markdown",
   "metadata": {},
   "source": [
    "above, when we execute the `def` statement, no multiplying happened at all."
   ]
  },
  {
   "cell_type": "markdown",
   "metadata": {},
   "source": [
    "## Calling User-Defined Functions\n",
    "Functions are only useful because we can call them. In addition to execution procedures, there's also a procedure for evaluating a call expression that uses a user-defined function.\n",
    "\n",
    "#### Procedure for calling / applying user-defined functions (version 1):\n",
    "1. Add a local frame, forming a **new** environment\n",
    "2. Bind the function's formal parameters to its arguments in that frame\n",
    "3. Execute the body of the function in that new environment\n",
    "\n",
    "Below is a demonstration,"
   ]
  },
  {
   "cell_type": "code",
   "execution_count": 4,
   "metadata": {},
   "outputs": [
    {
     "data": {
      "text/html": [
       "\n",
       "        <iframe\n",
       "            width=\"100%\"\n",
       "            height=\"350\"\n",
       "            src=\"http://pythontutor.com/iframe-embed.html#code=%0Afrom%20operator%20import%20mul%0Adef%20square%28x%29%3A%0A%20%20%20%20return%20mul%28x%2C%20x%29%0A%0Asquare%28-2%29%0A&origin=opt-frontend.js&cumulative=false&heapPrimitives=false&textReferences=false&curInstr=0&&verticalStack=false&py=3&rawInputLstJSON=%5B%5D&codeDivWidth=50%25&codeDivHeight=100%25\"\n",
       "            frameborder=\"0\"\n",
       "            allowfullscreen\n",
       "        ></iframe>\n",
       "        "
      ],
      "text/plain": [
       "<IPython.lib.display.IFrame at 0x54f4df0>"
      ]
     },
     "metadata": {},
     "output_type": "display_data"
    }
   ],
   "source": [
    "%%tutor --lang python3\n",
    "\n",
    "from operator import mul\n",
    "def square(x):\n",
    "    return mul(x, x)\n",
    "\n",
    "square(-2)"
   ]
  },
  {
   "cell_type": "markdown",
   "metadata": {},
   "source": [
    "Initially, Python binds `mul` to the built-in function and `square` to the user-defined function. When Python binds `square` to the user-defined function, it does all the 3 execution procedure steps (they are not visible in the frame). However, Python has not multiplied anything yet as Python has not executed the body of the function yet. \n",
    "<img src = 'square.jpg' width = 900/>\n",
    "\n",
    "When we execute the line `square(-2)`, Python applies the function `square(x)` to the argument value `-2`. \n",
    "<img src = 'new_frame.jpg' width = 700/>\n",
    "On the right side, Python introduced a new frame called `square`, in which Python binds the formal parameter `x` to the argument value `-2`. Python then executes the body of the function in that new frame.\n",
    "\n",
    "<img src = 'result.jpg' width = 700/>"
   ]
  },
  {
   "cell_type": "markdown",
   "metadata": {},
   "source": [
    "### Recap\n",
    "Here we have a built-in function and a user-defined function. We can see the formal parameter `x` in the user-defined function.\n",
    "<img src = 'built_in_user_defined.jpg' width = 300/>\n",
    "\n",
    "We have `local frame` that was introduced in the first step of the procedure for calling / applying user-defined function,\n",
    "<img src = 'local_frame.jpg' width = 300/>\n",
    "\n",
    "The original name of the function, `square`, is used to label that local frame. \n",
    "<img src = 'original_name.jpg' width = 300/>\n",
    "\n",
    "In the local frame, we have a binding between the formal parameter `x`, which is the name of the argument, to the argument value `-2`. \n",
    "<img src = 'formal_param_bound.jpg' width = 300/>\n",
    "\n",
    "Note that the `Return value` is NOT a binding. It is just an annotation of the result.\n",
    "\n",
    "Earlier, it was mentioned that a function's `signature` is important. It is important since it contains all the information needed to create a local frame.\n",
    "\n",
    "The name `square` lets us name the local frame, while the formal parameter `x` is the name where we bind the argument value of the function.\n",
    "<img src = 'squarex.jpg' width = 300/>\n"
   ]
  },
  {
   "cell_type": "markdown",
   "metadata": {},
   "source": [
    "## Looking Up Names in Environments\n",
    "We now know most of the story for user-defined function. But there's one more important piece that we have not covered: **looking up names in environments**.\n",
    "\n",
    "Every expression that Python evaluates is evaluated in the context of an environment. \n",
    "\n",
    "Environments are the memory that keeps track of the correspondence between names and values. Thus, the environment knows what names are bound to what values. So far, the current environment is either:\n",
    "1. The global frame alond, or\n",
    "2. A local frame, followed by the global frame (Note the word \"followed\", indicates that there is an ordering)\n",
    "\n",
    "#### 2 very important things:\n",
    "1. An environment is a sequence of frames.\n",
    "\n",
    "    * Recall that a frame is a binding between names and values (indicated by boxes in environmental diagrams)\n",
    "    \n",
    "    \n",
    "2. A name, when evaluated, evaluates to the value bound to that name in the earliest frame of the current environment in which that name is found\n",
    "\n",
    "Thus, if we want to look up the value bound to a name in an environment, we check each frame in turn. For example, to look up some `name` in the body of the `square` function,\n",
    "1. Look for the `name` in the local frame first. If it's found, then we obtain its value.\n",
    "2. If not found, look for it in the global frame.\n",
    "    * Built-in names like `max` are in the global frame too, but we don't show them in environment diagrams"
   ]
  },
  {
   "cell_type": "code",
   "execution_count": 5,
   "metadata": {},
   "outputs": [
    {
     "data": {
      "text/plain": [
       "12"
      ]
     },
     "execution_count": 5,
     "metadata": {},
     "output_type": "execute_result"
    }
   ],
   "source": [
    "from operator import mul\n",
    "mul(3, 4)"
   ]
  },
  {
   "cell_type": "markdown",
   "metadata": {},
   "source": [
    "Now we will once again define the `square` function, this time with a different formal parameter,"
   ]
  },
  {
   "cell_type": "code",
   "execution_count": 6,
   "metadata": {},
   "outputs": [],
   "source": [
    "def square(square):\n",
    "    return mul(square, square)"
   ]
  },
  {
   "cell_type": "code",
   "execution_count": 7,
   "metadata": {},
   "outputs": [
    {
     "data": {
      "text/plain": [
       "<function __main__.square(square)>"
      ]
     },
     "execution_count": 7,
     "metadata": {},
     "output_type": "execute_result"
    }
   ],
   "source": [
    "square"
   ]
  },
  {
   "cell_type": "markdown",
   "metadata": {},
   "source": [
    "Above, we see that the name `square` is bound to the function `square(square)`. If we try to `square` a number,"
   ]
  },
  {
   "cell_type": "code",
   "execution_count": 8,
   "metadata": {},
   "outputs": [
    {
     "data": {
      "text/plain": [
       "16"
      ]
     },
     "execution_count": 8,
     "metadata": {},
     "output_type": "execute_result"
    }
   ],
   "source": [
    "square(4)"
   ]
  },
  {
   "cell_type": "markdown",
   "metadata": {},
   "source": [
    "It works just fine! How does this work?"
   ]
  },
  {
   "cell_type": "code",
   "execution_count": 9,
   "metadata": {},
   "outputs": [
    {
     "data": {
      "text/html": [
       "\n",
       "        <iframe\n",
       "            width=\"100%\"\n",
       "            height=\"350\"\n",
       "            src=\"http://pythontutor.com/iframe-embed.html#code=%0Afrom%20operator%20import%20mul%0Adef%20square%28square%29%3A%0A%20%20%20%20return%20mul%28square%2C%20square%29%0A%0Asquare%28-2%29%0A&origin=opt-frontend.js&cumulative=false&heapPrimitives=false&textReferences=false&curInstr=0&&verticalStack=false&py=3&rawInputLstJSON=%5B%5D&codeDivWidth=50%25&codeDivHeight=100%25\"\n",
       "            frameborder=\"0\"\n",
       "            allowfullscreen\n",
       "        ></iframe>\n",
       "        "
      ],
      "text/plain": [
       "<IPython.lib.display.IFrame at 0x5763910>"
      ]
     },
     "metadata": {},
     "output_type": "display_data"
    }
   ],
   "source": [
    "%%tutor --lang python3\n",
    "\n",
    "from operator import mul\n",
    "def square(square):\n",
    "    return mul(square, square)\n",
    "\n",
    "square(-2)"
   ]
  },
  {
   "cell_type": "markdown",
   "metadata": {},
   "source": [
    "If we look closely, the only difference between this `square(square)` function and the `square(x)` function is that the formal parameter is now called `square`. If we try to look for the name `square`, we will be able to find it in the `square` local frame without needing to look to global frame."
   ]
  },
  {
   "cell_type": "code",
   "execution_count": null,
   "metadata": {},
   "outputs": [],
   "source": []
  }
 ],
 "metadata": {
  "kernelspec": {
   "display_name": "Python 3",
   "language": "python",
   "name": "python3"
  },
  "language_info": {
   "codemirror_mode": {
    "name": "ipython",
    "version": 3
   },
   "file_extension": ".py",
   "mimetype": "text/x-python",
   "name": "python",
   "nbconvert_exporter": "python",
   "pygments_lexer": "ipython3",
   "version": "3.7.2"
  }
 },
 "nbformat": 4,
 "nbformat_minor": 2
}
