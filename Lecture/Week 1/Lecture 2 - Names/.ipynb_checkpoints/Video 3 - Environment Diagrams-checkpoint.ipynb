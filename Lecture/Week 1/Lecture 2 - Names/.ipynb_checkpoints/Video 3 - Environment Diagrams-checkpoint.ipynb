{
 "cells": [
  {
   "cell_type": "markdown",
   "metadata": {},
   "source": [
    "# Environment Diagrams\n",
    "Environment diagram is a way to keep track of what's happening within the Python interpreter when it executes a program. Environments are the way in which an interpreter for a programming language keeps track of what names mean. We can think of it as a memory that keeps track of what names bound to what values. This involves drawing boxes and arrows, like what most computer scientists do.\n",
    "\n",
    "Environment diagrams visualize the interpreter's process. They look like the following,\n",
    "\n",
    "(Before running the cell below, make sure to install `tutormagic` extension for Jupyter Notebook by kikocorreoso. See the installation documentation [here](https://github.com/kikocorreoso/tutormagic))"
   ]
  },
  {
   "cell_type": "code",
   "execution_count": 2,
   "metadata": {},
   "outputs": [],
   "source": [
    "%load_ext tutormagic"
   ]
  },
  {
   "cell_type": "code",
   "execution_count": 3,
   "metadata": {},
   "outputs": [
    {
     "data": {
      "text/html": [
       "\n",
       "        <iframe\n",
       "            width=\"100%\"\n",
       "            height=\"350\"\n",
       "            src=\"http://pythontutor.com/iframe-embed.html#code=%0Afrom%20math%20import%20pi%0Atau%20%3D%202%20%2A%20pi%0A&origin=opt-frontend.js&cumulative=false&heapPrimitives=false&textReferences=false&curInstr=0&&verticalStack=false&py=3&rawInputLstJSON=%5B%5D&codeDivWidth=50%25&codeDivHeight=100%25\"\n",
       "            frameborder=\"0\"\n",
       "            allowfullscreen\n",
       "        ></iframe>\n",
       "        "
      ],
      "text/plain": [
       "<IPython.lib.display.IFrame at 0x5763250>"
      ]
     },
     "metadata": {},
     "output_type": "display_data"
    }
   ],
   "source": [
    "%%tutor --lang python3\n",
    "\n",
    "from math import pi\n",
    "tau = 2 * pi"
   ]
  },
  {
   "cell_type": "markdown",
   "metadata": {},
   "source": [
    "As we can see above, we have **codes on the left side** and some **frames on the right side**. The arrows next to the codes indicate where we are in the process of execution. The frames keep track of the bindings between names and values.\n",
    "\n",
    "### Within the codes, there are:\n",
    "1. Statements and expressions\n",
    "<img src = 'statement.jpg' width = 500/>\n",
    "\n",
    "2. Arrows, which indicate evaluation order\n",
    "<img src = 'arrows.jpg' width = 300/>\n",
    "\n",
    "### Within the frames, there are `bindings between names and values`\n",
    "<img src = 'names.jpg' width = 400/>\n",
    "**IMPORTANT: Within a frame, a name can't be repeated**. A name can only be bound to one value. Recall when we bind the name `max` to a value, the original binding, which was a function that return the maximum of the arguments, was lost. Another example is as below,"
   ]
  },
  {
   "cell_type": "code",
   "execution_count": 61,
   "metadata": {},
   "outputs": [],
   "source": [
    "x = 3\n",
    "x = 5"
   ]
  },
  {
   "cell_type": "code",
   "execution_count": 62,
   "metadata": {},
   "outputs": [
    {
     "data": {
      "text/plain": [
       "5"
      ]
     },
     "execution_count": 62,
     "metadata": {},
     "output_type": "execute_result"
    }
   ],
   "source": [
    "x"
   ]
  },
  {
   "cell_type": "markdown",
   "metadata": {},
   "source": [
    "`x` can only be bound to the later value, 5. `x` can't be bound to both 3 and 5 on the same time.\n",
    "\n",
    "We can also use the online `Pythontutor` to visualize environment diagrams.\n",
    "\n",
    "Along the course, environment diagrams are going to become more complicated but also more necessary."
   ]
  },
  {
   "cell_type": "markdown",
   "metadata": {},
   "source": [
    "## Assignment Statements\n",
    "Assignment statements change the bindings between names and values in frames. Look at the environment diagram below,"
   ]
  },
  {
   "cell_type": "code",
   "execution_count": 6,
   "metadata": {},
   "outputs": [
    {
     "data": {
      "text/html": [
       "\n",
       "        <iframe\n",
       "            width=\"100%\"\n",
       "            height=\"350\"\n",
       "            src=\"http://pythontutor.com/iframe-embed.html#code=%0Aa%20%3D%201%0Ab%20%3D%202%0Ab%2C%20a%20%3D%20a%20%2B%20b%2C%20b%0A&origin=opt-frontend.js&cumulative=false&heapPrimitives=false&textReferences=false&curInstr=0&&verticalStack=false&py=3&rawInputLstJSON=%5B%5D&codeDivWidth=50%25&codeDivHeight=100%25\"\n",
       "            frameborder=\"0\"\n",
       "            allowfullscreen\n",
       "        ></iframe>\n",
       "        "
      ],
      "text/plain": [
       "<IPython.lib.display.IFrame at 0x59c0e30>"
      ]
     },
     "metadata": {},
     "output_type": "display_data"
    }
   ],
   "source": [
    "%%tutor --lang python3\n",
    "\n",
    "a = 1\n",
    "b = 2\n",
    "b, a = a + b, b"
   ]
  },
  {
   "cell_type": "markdown",
   "metadata": {},
   "source": [
    "There is an **execution rule** for assignment statements:\n",
    "1. Evaluate all expressions to the right of `=` from left to right\n",
    "2. Bind all names to the left of `=` to the resulting values in the current frame\n",
    "\n",
    "Below, we start at the point where Python just finished executed the line `b = 2`. At this point, the global frame shows that `a` is bound to `1`, while `b` is bound to `2`.\n",
    "<img src = 'assignment.jpg' width = 800/>\n",
    "\n",
    "Now let's apply the **execution rule** to the line that is labeled **\"Next to execute\"**. At the right hand side of `=`, we have:\n",
    "1. `a` + `b`, which evaluates to `1` + `2` = `3`\n",
    "2. `b`, which just evaluates to `2`.\n",
    "\n",
    "Then we bind the names `b` and `a` at the left side of `=` to `3` and `2`, respectively.\n",
    "\n",
    "<img src = 'just_executed.jpg' width = 800/>"
   ]
  },
  {
   "cell_type": "markdown",
   "metadata": {},
   "source": [
    "## Discussion Question 1 Solution\n",
    "Recall the following sequence of codes,"
   ]
  },
  {
   "cell_type": "code",
   "execution_count": null,
   "metadata": {},
   "outputs": [],
   "source": [
    "f = min\n",
    "f = max\n",
    "g, h = min, max\n",
    "max = g\n",
    "max(f(2, g(h(1, 5), 3)), 4)"
   ]
  },
  {
   "cell_type": "markdown",
   "metadata": {},
   "source": [
    "We can use environment diagram to visualize the execution order,"
   ]
  },
  {
   "cell_type": "code",
   "execution_count": 3,
   "metadata": {},
   "outputs": [
    {
     "data": {
      "text/html": [
       "\n",
       "        <iframe\n",
       "            width=\"100%\"\n",
       "            height=\"350\"\n",
       "            src=\"http://pythontutor.com/iframe-embed.html#code=%0Af%20%3D%20min%0Af%20%3D%20max%0Ag%2C%20h%20%3D%20min%2C%20max%0Amax%20%3D%20g%0Amax%28f%282%2C%20g%28h%281%2C%205%29%2C%203%29%29%2C%204%29%0A&origin=opt-frontend.js&cumulative=false&heapPrimitives=false&textReferences=false&curInstr=0&&verticalStack=false&py=3&rawInputLstJSON=%5B%5D&codeDivWidth=50%25&codeDivHeight=100%25\"\n",
       "            frameborder=\"0\"\n",
       "            allowfullscreen\n",
       "        ></iframe>\n",
       "        "
      ],
      "text/plain": [
       "<IPython.lib.display.IFrame at 0x5e73c90>"
      ]
     },
     "metadata": {},
     "output_type": "display_data"
    }
   ],
   "source": [
    "%%tutor --lang python3\n",
    "\n",
    "f = min\n",
    "f = max\n",
    "g, h = min, max\n",
    "max = g\n",
    "max(f(2, g(h(1, 5), 3)), 4)"
   ]
  },
  {
   "cell_type": "markdown",
   "metadata": {},
   "source": [
    "Notice that the frames at the right hand side lists all the names that were defined in the codes on the left hand side. The `max` and `min` are actually also names that are part of the global frame, but they are built-in and thus by default Python does not list them in the global frame. If Python writes all the built-in names in global frame as well, the global frame will be filled with so many built-in names.. Python write built-in names in the global frame only if they are changed from the original definition."
   ]
  }
 ],
 "metadata": {
  "kernelspec": {
   "display_name": "Python 3",
   "language": "python",
   "name": "python3"
  },
  "language_info": {
   "codemirror_mode": {
    "name": "ipython",
    "version": 3
   },
   "file_extension": ".py",
   "mimetype": "text/x-python",
   "name": "python",
   "nbconvert_exporter": "python",
   "pygments_lexer": "ipython3",
   "version": "3.6.8"
  }
 },
 "nbformat": 4,
 "nbformat_minor": 2
}
