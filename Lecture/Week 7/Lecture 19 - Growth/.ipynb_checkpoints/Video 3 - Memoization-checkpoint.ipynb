{
 "cells": [
  {
   "cell_type": "code",
   "execution_count": null,
   "metadata": {},
   "outputs": [],
   "source": [
    "%load_ext tutormagic"
   ]
  },
  {
   "cell_type": "code",
   "execution_count": 17,
   "metadata": {},
   "outputs": [],
   "source": [
    "def count(f):\n",
    "    def counted(n):\n",
    "        counted.call_count += 1\n",
    "        return f(n)\n",
    "    counted.call_count = 0\n",
    "    return counted"
   ]
  },
  {
   "cell_type": "markdown",
   "metadata": {},
   "source": [
    "# Memoization"
   ]
  },
  {
   "cell_type": "markdown",
   "metadata": {},
   "source": [
    "Memoization is an extremely useful technique for speeding up the running time of a program.\n",
    "\n",
    "**Idea**: Remember the results that have been computed before.\n",
    "\n",
    "Below we will write the memoization decorator, `memo`, which takes in a function `f`."
   ]
  },
  {
   "cell_type": "code",
   "execution_count": 27,
   "metadata": {},
   "outputs": [],
   "source": [
    "def memo(f):\n",
    "    cache = {} # Keeps a cache of values that had been computed by f\n",
    "    def memoized(n): # the memoized version of f\n",
    "        if n not in cache: # Check if the argument that we pass in is in the cache. If not,\n",
    "            # Make a mapping between the key and the return value within the cache\n",
    "            cache[n] = f(n) # Notice here that we call the function f\n",
    "        return cache[n] #Return the value that's already in the cache\n",
    "    return memoized # return the memoized version of f"
   ]
  },
  {
   "cell_type": "markdown",
   "metadata": {},
   "source": [
    "The `memoized` version of `f` has the same behavior as `f`, if `f` is a pure function. \n",
    "\n",
    "**Note**: We can only memoize pure functions and expect their behavior to stay the same.\n",
    "\n",
    "<img src = 'memo.jpg' width = 500/>\n",
    "\n",
    "Let's see how we use memoization to speed up `fib`!\n",
    "\n",
    "Now recall that `fib(30)` takes a while to compute."
   ]
  },
  {
   "cell_type": "code",
   "execution_count": 19,
   "metadata": {},
   "outputs": [],
   "source": [
    "def fib(n):\n",
    "    if n == 0 or n == 1:\n",
    "        return n\n",
    "    else:\n",
    "        return fib(n-2) + fib(n-1)"
   ]
  },
  {
   "cell_type": "code",
   "execution_count": 3,
   "metadata": {},
   "outputs": [
    {
     "data": {
      "text/plain": [
       "832040"
      ]
     },
     "execution_count": 3,
     "metadata": {},
     "output_type": "execute_result"
    }
   ],
   "source": [
    "fib(30)"
   ]
  },
  {
   "cell_type": "markdown",
   "metadata": {},
   "source": [
    "What if we use the memoized version of `fib`?"
   ]
  },
  {
   "cell_type": "code",
   "execution_count": 4,
   "metadata": {},
   "outputs": [
    {
     "data": {
      "text/plain": [
       "832040"
      ]
     },
     "execution_count": 4,
     "metadata": {},
     "output_type": "execute_result"
    }
   ],
   "source": [
    "fib = memo(fib)\n",
    "fib(30)"
   ]
  },
  {
   "cell_type": "markdown",
   "metadata": {},
   "source": [
    "The output came out right away! How about `fib(50)`?"
   ]
  },
  {
   "cell_type": "code",
   "execution_count": 5,
   "metadata": {},
   "outputs": [
    {
     "data": {
      "text/plain": [
       "12586269025"
      ]
     },
     "execution_count": 5,
     "metadata": {},
     "output_type": "execute_result"
    }
   ],
   "source": [
    "fib(50)"
   ]
  },
  {
   "cell_type": "markdown",
   "metadata": {},
   "source": [
    "It came out right away! Logically, `fib(50)` only requires `fib(49)` and `fib(48)`, which are readily available in the cache.\n",
    "\n",
    "Now let's analyze how many calls were called on `fib(5)`. We list all the available functions so that the number of count is emptied back to 0."
   ]
  },
  {
   "cell_type": "code",
   "execution_count": 37,
   "metadata": {},
   "outputs": [],
   "source": [
    "def fib(n):\n",
    "    if n == 0 or n == 1:\n",
    "        return n\n",
    "    else:\n",
    "        return fib(n-2) + fib(n-1)"
   ]
  },
  {
   "cell_type": "code",
   "execution_count": 38,
   "metadata": {},
   "outputs": [],
   "source": [
    "def count(f):\n",
    "    def counted(n):\n",
    "        counted.call_count += 1\n",
    "        return f(n)\n",
    "    counted.call_count = 0\n",
    "    return counted"
   ]
  },
  {
   "cell_type": "code",
   "execution_count": 39,
   "metadata": {},
   "outputs": [],
   "source": [
    "def memo(f):\n",
    "    cache = {} # Keeps a cache of values that had been computed by f\n",
    "    def memoized(n): # the memoized version of f\n",
    "        if n not in cache: # Check if the argument that we pass in is in the cache. If not,\n",
    "            # Make a mapping between the key and the return value within the cache\n",
    "            cache[n] = f(n) # Notice here that we call the function f\n",
    "        return cache[n] #Return the value that's already in the cache\n",
    "    return memoized # return the memoized version of f"
   ]
  },
  {
   "cell_type": "code",
   "execution_count": 40,
   "metadata": {},
   "outputs": [],
   "source": [
    "fib = count(fib)\n",
    "counted_fib = fib\n",
    "fib = memo(fib)\n",
    "fib = count(fib)"
   ]
  },
  {
   "cell_type": "markdown",
   "metadata": {},
   "source": [
    "Now if we compute `fib(5)`,"
   ]
  },
  {
   "cell_type": "code",
   "execution_count": 41,
   "metadata": {},
   "outputs": [
    {
     "data": {
      "text/plain": [
       "5"
      ]
     },
     "execution_count": 41,
     "metadata": {},
     "output_type": "execute_result"
    }
   ],
   "source": [
    "fib(5)"
   ]
  },
  {
   "cell_type": "markdown",
   "metadata": {},
   "source": [
    "The total amount of `fib` calls to the memoized version of `fib` is:"
   ]
  },
  {
   "cell_type": "code",
   "execution_count": 42,
   "metadata": {},
   "outputs": [
    {
     "data": {
      "text/plain": [
       "9"
      ]
     },
     "execution_count": 42,
     "metadata": {},
     "output_type": "execute_result"
    }
   ],
   "source": [
    "fib.call_count"
   ]
  },
  {
   "cell_type": "markdown",
   "metadata": {},
   "source": [
    "9, which includes the repetitive calls that are within the cache. However, if we look only at how many original `fib` functions were called."
   ]
  },
  {
   "cell_type": "code",
   "execution_count": 43,
   "metadata": {},
   "outputs": [
    {
     "data": {
      "text/plain": [
       "6"
      ]
     },
     "execution_count": 43,
     "metadata": {},
     "output_type": "execute_result"
    }
   ],
   "source": [
    "counted_fib.call_count"
   ]
  },
  {
   "cell_type": "markdown",
   "metadata": {},
   "source": [
    "Why 6?\n",
    "\n",
    "There are 6 different arguments that we passed in, which are `fib(5)`, `fib(4)`,..., `fib(1)`, `fib(0)`. This is how many times Python called the original `fib` function. "
   ]
  },
  {
   "cell_type": "markdown",
   "metadata": {},
   "source": [
    "## Memoized Tree Recursion"
   ]
  },
  {
   "cell_type": "markdown",
   "metadata": {},
   "source": [
    "So what exactly happened? Let's go back to our `fib(5)` tree."
   ]
  },
  {
   "cell_type": "markdown",
   "metadata": {},
   "source": [
    "<img src = 'tree_1.jpg' width = 600/>"
   ]
  },
  {
   "cell_type": "markdown",
   "metadata": {},
   "source": [
    "Here, we are going to keep track of 3 things:\n",
    "1. Calls to the original `fib` function\n",
    "2. Calls to the memoized version (found in cache)\n",
    "3. No call, or skipped.\n",
    "\n",
    "When we call `fib(5)`, we start on the left side, which calls for `fib(3)`. This `fib(3)` requires calling `fib(1)` and `fib(2)`."
   ]
  },
  {
   "cell_type": "markdown",
   "metadata": {},
   "source": [
    "<img src = 'tree_2.jpg' width = 300/>"
   ]
  },
  {
   "cell_type": "markdown",
   "metadata": {},
   "source": [
    "This is the first time Python computes `fib(1)`, so Python calls the original `fib` function.\n",
    "\n",
    "Now calling `fib(2)` requires `fib(0)` and `fib(1)`.\n",
    "1. Python hasn't called `fib(0)` before, so Python calls the original `fib` function here.\n",
    "2. But Python has called `fib(1)` earlier! So this `fib(1)` is found in cache.\n",
    "\n",
    "And finally, Python hasn't computed `fib(3)` and `fib(2)` before, so Python calls the original `fib` function on `fib(3)` and `fib(2)`.\n",
    "\n",
    "<img src = 'tree_3.jpg' width = 300/>\n",
    "\n"
   ]
  },
  {
   "cell_type": "markdown",
   "metadata": {},
   "source": [
    "Now moving on to the `fib(4)`, which involves calling `fib(2)` and `fib(3)`.\n",
    "\n",
    "1. Python has called `fib(2)` previously, so it is found in cache!\n",
    "    * This means Python doesn't need to compute the `fib(0)` and `fib(1)` that make up `fib(2)`. Thus, they are skipped.\n",
    "2. Python also has called `fib(3)` previously, so it is also found in cache!\n",
    "    * All the computation that make up `fib(3)` is skipped.\n",
    "    \n",
    "<img src = 'tree_4.jpg' width = 500/>\n",
    "    \n",
    "However, this is the first time Python calls `fib(4)` and ultimately, `fib(5)`. Thus, `fib(4)` and `fib(5)` are original `fib` calls!\n",
    "\n",
    "<img src = 'tree_last.jpg' width = 500/>"
   ]
  },
  {
   "cell_type": "markdown",
   "metadata": {},
   "source": [
    "Overall, we see that the original `fib` was called 6 times."
   ]
  },
  {
   "cell_type": "markdown",
   "metadata": {},
   "source": [
    "<img src = 'tree_overall.jpg' width = 600/>"
   ]
  },
  {
   "cell_type": "code",
   "execution_count": null,
   "metadata": {},
   "outputs": [],
   "source": []
  }
 ],
 "metadata": {
  "kernelspec": {
   "display_name": "Python 3",
   "language": "python",
   "name": "python3"
  },
  "language_info": {
   "codemirror_mode": {
    "name": "ipython",
    "version": 3
   },
   "file_extension": ".py",
   "mimetype": "text/x-python",
   "name": "python",
   "nbconvert_exporter": "python",
   "pygments_lexer": "ipython3",
   "version": "3.6.8"
  }
 },
 "nbformat": 4,
 "nbformat_minor": 2
}
