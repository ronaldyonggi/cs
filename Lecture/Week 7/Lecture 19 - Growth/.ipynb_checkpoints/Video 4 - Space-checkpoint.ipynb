{
 "cells": [
  {
   "cell_type": "code",
   "execution_count": null,
   "metadata": {},
   "outputs": [],
   "source": [
    "%load_ext tutormagic"
   ]
  },
  {
   "cell_type": "markdown",
   "metadata": {},
   "source": [
    "# Space"
   ]
  },
  {
   "cell_type": "markdown",
   "metadata": {},
   "source": [
    "Space, or memory, is another resource that is consumed by programs. "
   ]
  },
  {
   "cell_type": "markdown",
   "metadata": {},
   "source": [
    "## The Consumption of Space"
   ]
  },
  {
   "cell_type": "markdown",
   "metadata": {},
   "source": [
    "The consumption of space is taken up...\n",
    "1. ...by values (a long list takes more space than a short list)\n",
    "2. ...by frames (keep in mind how many frames are involved in a function call)\n",
    "\n",
    "This introduce us to a new concept: which environment frames do we need to keep during evaluation?\n",
    "\n",
    "At any moment, there is a set of active environments\n",
    "* Values and frames in active environments consume memory\n",
    "\n",
    "Memory that is used for other values and frames (e.g. not in active environments) can be recycled\n",
    "* Python interpreter does this automatically by reclaiming spaces that Python used before that are no longer needed\n",
    "    * i.e. unused names \n",
    "    \n",
    "#### What are active environments?\n",
    "1. Environments for any function calls currently being evaluated\n",
    "    * Called but hasn't been returned yet\n",
    "    \n",
    "    \n",
    "2. Parent environments of functions named in active environments"
   ]
  },
  {
   "cell_type": "markdown",
   "metadata": {},
   "source": [
    "## Demo - Active Environments"
   ]
  },
  {
   "cell_type": "markdown",
   "metadata": {},
   "source": [
    "We can analyze how active environments work by calling `fib(6)` on Pythontutor."
   ]
  },
  {
   "cell_type": "code",
   "execution_count": null,
   "metadata": {},
   "outputs": [],
   "source": [
    "%%tutor --lang python3\n",
    "\n",
    "def fib(n):\n",
    "    if n == 0 or n == 1:\n",
    "        return n\n",
    "    else:\n",
    "        return fib(n-2) + fib(n-1)\n",
    "        \n",
    "fib(6)"
   ]
  },
  {
   "cell_type": "markdown",
   "metadata": {},
   "source": [
    "<img src = 'active_1.jpg' width = 800/>"
   ]
  },
  {
   "cell_type": "markdown",
   "metadata": {},
   "source": [
    "Computing `fib(6)` involves computing `fib(4)`, which involves computing `fib(2)`, which involves computing `fib(0)`. The global frames and all `f1` up to `f4` are all active frames."
   ]
  },
  {
   "cell_type": "markdown",
   "metadata": {},
   "source": [
    "<img src = 'active_2.jpg' width = 300/>"
   ]
  },
  {
   "cell_type": "markdown",
   "metadata": {},
   "source": [
    "However, once a frame returns, it is no longer active. Thus, when we continue the computation,"
   ]
  },
  {
   "cell_type": "markdown",
   "metadata": {},
   "source": [
    "<img src = 'active_3.jpg' width = 600/>"
   ]
  },
  {
   "cell_type": "markdown",
   "metadata": {},
   "source": [
    "`f4` is gone! This means `f4` is no longer active, and Python got rid of it."
   ]
  },
  {
   "cell_type": "markdown",
   "metadata": {},
   "source": [
    "## Demo - How many frames are being used"
   ]
  },
  {
   "cell_type": "markdown",
   "metadata": {},
   "source": [
    "Here is a demonstration of analyzing how many frames are being used. Here we'll define a higher-order function `count_frames` that takes in a function `f` and returns the counted version of `f`. "
   ]
  },
  {
   "cell_type": "code",
   "execution_count": 2,
   "metadata": {},
   "outputs": [],
   "source": [
    "def count_frames(f):\n",
    "    def counted(n):\n",
    "        counted.open_count += 1 # Increment the open(active) frame count by 1\n",
    "        # Keeps track of the max number of open frame at any time\n",
    "        \n",
    "        # If the current open_count is greater than the maximum,\n",
    "        if counted.open_count > counted.max_count:\n",
    "            counted.max_count = counted.open_count # Updates the max_count to be the current open_count\n",
    "        \n",
    "        # 'result' is the return value, acquired by calling 'f' on n\n",
    "        result = f(n)\n",
    "        # After obtaining the return value, close the frame by decrementing 'open_count' by 1\n",
    "        counted.open_count -= 1\n",
    "        # return the 'result'\n",
    "        return result\n",
    "    \n",
    "    counted.open_count = 0 # The 'open_count' starts at 0\n",
    "    counted.max_count = 0 # The 'max_count' starts at 0\n",
    "    return counted # return the counted function"
   ]
  },
  {
   "cell_type": "markdown",
   "metadata": {},
   "source": [
    "Now back to our `fib` function,"
   ]
  },
  {
   "cell_type": "code",
   "execution_count": 3,
   "metadata": {},
   "outputs": [],
   "source": [
    "def fib(n):\n",
    "    if n == 0 or n == 1:\n",
    "        return n\n",
    "    else:\n",
    "        return fib(n-2) + fib(n-1)"
   ]
  },
  {
   "cell_type": "markdown",
   "metadata": {},
   "source": [
    "We know that the `fib` function makes many recursive calls. But we don't know how many frames are open at any given time or what is the maximum number of frame that's open. Let's find out how many open frames and max frames are open in `fib(20)`!"
   ]
  },
  {
   "cell_type": "code",
   "execution_count": 4,
   "metadata": {},
   "outputs": [
    {
     "data": {
      "text/plain": [
       "6765"
      ]
     },
     "execution_count": 4,
     "metadata": {},
     "output_type": "execute_result"
    }
   ],
   "source": [
    "fib = count_frames(fib)\n",
    "fib(20)"
   ]
  },
  {
   "cell_type": "code",
   "execution_count": 5,
   "metadata": {},
   "outputs": [
    {
     "data": {
      "text/plain": [
       "0"
      ]
     },
     "execution_count": 5,
     "metadata": {},
     "output_type": "execute_result"
    }
   ],
   "source": [
    "fib.open_count"
   ]
  },
  {
   "cell_type": "markdown",
   "metadata": {},
   "source": [
    "The `open_count` is 0! This makes sense, because Python has finished calculated `fib(20)` and thus, there shouldn't be any active frames. However, the maximum open frame at any time is:"
   ]
  },
  {
   "cell_type": "code",
   "execution_count": 6,
   "metadata": {},
   "outputs": [
    {
     "data": {
      "text/plain": [
       "20"
      ]
     },
     "execution_count": 6,
     "metadata": {},
     "output_type": "execute_result"
    }
   ],
   "source": [
    "fib.max_count"
   ]
  },
  {
   "cell_type": "markdown",
   "metadata": {},
   "source": [
    "`20`! This is an indicator of how much space `fib(20)` uses! "
   ]
  },
  {
   "cell_type": "markdown",
   "metadata": {},
   "source": [
    "## Fibonacci Space Consumption"
   ]
  },
  {
   "cell_type": "markdown",
   "metadata": {},
   "source": [
    "Back to the `fib(5)` tree that we used earlier."
   ]
  },
  {
   "cell_type": "markdown",
   "metadata": {},
   "source": [
    "<img src = 'consumption.jpg' width = 700/>"
   ]
  },
  {
   "cell_type": "markdown",
   "metadata": {},
   "source": [
    "Assume that:\n",
    "1. We are done with computing the ones in red\n",
    "2. We haven't started with the green ones\n",
    "3. We're about to return `fib(1)` marked \"Assume we...\"\n",
    "\n",
    "Looking at the picture above, the series of `fib` calls in black are the current active environment.\n",
    "\n",
    "The ones in red have been computed and thus, the memory can be reclaimed.\n",
    "\n",
    "The maximum frames that can open is the longest chain we can find in this tree, which is 5.\n",
    "\n",
    "<img src = 'longest.jpg' width = 600/>"
   ]
  },
  {
   "cell_type": "code",
   "execution_count": null,
   "metadata": {},
   "outputs": [],
   "source": []
  }
 ],
 "metadata": {
  "kernelspec": {
   "display_name": "Python 3",
   "language": "python",
   "name": "python3"
  },
  "language_info": {
   "codemirror_mode": {
    "name": "ipython",
    "version": 3
   },
   "file_extension": ".py",
   "mimetype": "text/x-python",
   "name": "python",
   "nbconvert_exporter": "python",
   "pygments_lexer": "ipython3",
   "version": "3.6.8"
  }
 },
 "nbformat": 4,
 "nbformat_minor": 2
}
