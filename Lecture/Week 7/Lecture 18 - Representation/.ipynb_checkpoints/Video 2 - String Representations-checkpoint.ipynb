{
 "cells": [
  {
   "cell_type": "code",
   "execution_count": null,
   "metadata": {},
   "outputs": [],
   "source": [
    "%load_ext tutormagic"
   ]
  },
  {
   "cell_type": "markdown",
   "metadata": {},
   "source": [
    "# String Representations"
   ]
  },
  {
   "cell_type": "markdown",
   "metadata": {},
   "source": [
    "An object value should behave like the kind of data it is meant to represent. \n",
    "\n",
    "For example, an object should know how to represent itself as a string or to producea string representation of itself. \n",
    "\n",
    "Strings are important: they represent language and programs.\n",
    "\n",
    "In Python, all objects produce 2 string representation:\n",
    "1. The `str` is legible to human\n",
    "2. The `repr` is designed to be legible to Python interpreter\n",
    "    * Supposedly an expression in Python language.\n",
    "    \n",
    "The `str` and `repr` strings are often the same, but not always.\n",
    "* Many of the expressions have the same form"
   ]
  },
  {
   "cell_type": "markdown",
   "metadata": {},
   "source": [
    "## The `repr` String for an Object\n",
    "\n",
    "The built-in `repr` function returns a Python expression (a string) that evaluates to an equal object. The syntax is as the following,"
   ]
  },
  {
   "cell_type": "code",
   "execution_count": null,
   "metadata": {},
   "outputs": [],
   "source": [
    "repr(object) # Returns a string"
   ]
  },
  {
   "cell_type": "markdown",
   "metadata": {},
   "source": [
    "If we call `help` on `repr`, it would be described as:\n",
    "\n",
    "\"Return the canonical string representation of the object. For most object types, `eval(repr(object)) == object`t"
   ]
  }
 ],
 "metadata": {
  "kernelspec": {
   "display_name": "Python 3",
   "language": "python",
   "name": "python3"
  },
  "language_info": {
   "codemirror_mode": {
    "name": "ipython",
    "version": 3
   },
   "file_extension": ".py",
   "mimetype": "text/x-python",
   "name": "python",
   "nbconvert_exporter": "python",
   "pygments_lexer": "ipython3",
   "version": "3.6.8"
  }
 },
 "nbformat": 4,
 "nbformat_minor": 2
}
