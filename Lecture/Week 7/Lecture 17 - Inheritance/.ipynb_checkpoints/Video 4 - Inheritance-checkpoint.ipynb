{
 "cells": [
  {
   "cell_type": "code",
   "execution_count": 1,
   "metadata": {},
   "outputs": [],
   "source": [
    "%load_ext tutormagic"
   ]
  },
  {
   "cell_type": "code",
   "execution_count": 1,
   "metadata": {},
   "outputs": [],
   "source": [
    "class Account:\n",
    "    # __init__ method\n",
    "    def __init__(self, account_holder):\n",
    "        self.balance = 0\n",
    "        self.holder = account_holder\n",
    "        \n",
    "    # Here we can define additional methods\n",
    "    \n",
    "    # For example, this is the deposit method. It takes the instance object 'self' and amount to deposit. \n",
    "    def deposit(self, amount):\n",
    "        self.balance = self.balance + amount\n",
    "        return self.balance\n",
    "    \n",
    "    # And here's the withdraw method\n",
    "    def withdraw(self, amount):\n",
    "        if amount > self.balance:\n",
    "            return 'Insufficient funds'\n",
    "        self.balance = self.balance - amount\n",
    "        return self.balance"
   ]
  },
  {
   "cell_type": "markdown",
   "metadata": {},
   "source": [
    "# Inheritance"
   ]
  },
  {
   "cell_type": "markdown",
   "metadata": {},
   "source": [
    "Inheritance is a new feature of the Python object system. It also exists in almost every object system in other programming languages. "
   ]
  },
  {
   "cell_type": "markdown",
   "metadata": {},
   "source": [
    "Inheritance is a method for relating multiple classes together. \n",
    "* Not every classes exist in isolation\n",
    "* Sometimes one is similar to another, and we want to express the relationship\n",
    "\n",
    "A common use: 2 similar cases differ in their degree of specialization\n",
    "\n",
    "The specialized class may have the same attributes as the general class, along with some special-case behavior.\n",
    "\n",
    "The syntax is as the following,"
   ]
  },
  {
   "cell_type": "code",
   "execution_count": null,
   "metadata": {},
   "outputs": [],
   "source": [
    "class <name> (<base class>):\n",
    "    <suite>"
   ]
  },
  {
   "cell_type": "markdown",
   "metadata": {},
   "source": [
    "The `<base class>` is what the `class` inherits from. \n",
    "\n",
    "Conceptually, the new subclass \"shares\" attributes with its base class. \n",
    "\n",
    "The subclass may override certain inherited attributes.\n",
    "* Anything that's not changed stays the same\n",
    "\n",
    "Using inheritance, we implement a subclass by specifying its differences from the base class."
   ]
  },
  {
   "cell_type": "markdown",
   "metadata": {},
   "source": [
    "## Inheritance Example"
   ]
  },
  {
   "cell_type": "markdown",
   "metadata": {},
   "source": [
    "A `CheckingAccount` is a specialized type of `Account`. "
   ]
  },
  {
   "cell_type": "code",
   "execution_count": null,
   "metadata": {},
   "outputs": [],
   "source": [
    ">>> ch = CheckingAccount('Tom')\n",
    ">>> ch.interest # Lower interest rate for checking accounts\n",
    "0.01\n",
    ">>> ch.deposit(20) # Deposit functions the same\n",
    "20\n",
    ">>> ch.withdraw(5) # Withdrawal incur $1 fee\n",
    "14"
   ]
  },
  {
   "cell_type": "markdown",
   "metadata": {},
   "source": [
    "Above, when we create a checking account, these things are the same as normal Account:\n",
    "1. We still pass in the holder name 'Tom'\n",
    "2. The deposit method is the same\n",
    "\n",
    "However, there are some differences:\n",
    "1. The interest rate is lower than that of normal account\n",
    "2. The withdraw method charges $1 extra\n",
    "\n",
    "Most behavior is shared with the base class `Account`. This is how we would write the class:"
   ]
  },
  {
   "cell_type": "code",
   "execution_count": 4,
   "metadata": {},
   "outputs": [],
   "source": [
    "class CheckingAccount(Account): # The base class is 'Account'\n",
    "    \"\"\" A bank account that charges for withdrawals\"\"\"\n",
    "    withdraw_fee = 1\n",
    "    interest = 0.01 # Lower interest than normal account\n",
    "    def withdraw(self, amount):\n",
    "        return Account.withdraw(self, amount + self.withdraw_fee)"
   ]
  },
  {
   "cell_type": "markdown",
   "metadata": {},
   "source": [
    "Above, we created a class `CheckingAccount` that inherits from `Account`. \n",
    "\n",
    "Notice that we also changed the `withdraw` method. This `withdraw account..."
   ]
  },
  {
   "cell_type": "code",
   "execution_count": 2,
   "metadata": {},
   "outputs": [
    {
     "ename": "SyntaxError",
     "evalue": "invalid syntax (<ipython-input-2-94e586cbb1df>, line 1)",
     "output_type": "error",
     "traceback": [
      "\u001b[1;36m  File \u001b[1;32m\"<ipython-input-2-94e586cbb1df>\"\u001b[1;36m, line \u001b[1;32m1\u001b[0m\n\u001b[1;33m    .withdraw(self, amount + self.withdraw_fee)\u001b[0m\n\u001b[1;37m    ^\u001b[0m\n\u001b[1;31mSyntaxError\u001b[0m\u001b[1;31m:\u001b[0m invalid syntax\n"
     ]
    }
   ],
   "source": [
    ".withdraw(self, amount + self.withdraw_fee)"
   ]
  },
  {
   "cell_type": "markdown",
   "metadata": {},
   "source": [
    "...withdraws from the current account (`self`) the `amount` that is specified plus the withdraw fee of the current account (`self.withdraw_fee`).\n",
    "\n",
    "Why do we call it \"current account\" when it says `self`? \n",
    "\n",
    "Recall that `self` is the name we use to refer to the object on which this method gets invoked. Thus, when we call `.withdraw` like the following:"
   ]
  },
  {
   "cell_type": "code",
   "execution_count": null,
   "metadata": {},
   "outputs": [],
   "source": [
    ">>> ch.withdraw(5)"
   ]
  },
  {
   "cell_type": "markdown",
   "metadata": {},
   "source": [
    "`self` is bound to the checking account `ch`, which was created through the following,"
   ]
  },
  {
   "cell_type": "code",
   "execution_count": null,
   "metadata": {},
   "outputs": [],
   "source": [
    ">>> ch = CheckingAccount('Tom')"
   ]
  },
  {
   "cell_type": "markdown",
   "metadata": {},
   "source": [
    "On top of that, we refer to the `withdraw` method of the base class (`Account`), which is `Account.withdraw`. Since we look up the the method on a class rather than an instance, we won't get a bound method. Thus, we need to specify the `self` in the argument."
   ]
  },
  {
   "cell_type": "code",
   "execution_count": null,
   "metadata": {},
   "outputs": [],
   "source": [
    "return Account.withdraw(self, amount + self.withdraw_fee)"
   ]
  },
  {
   "cell_type": "markdown",
   "metadata": {},
   "source": [
    "Since we put `Account` as the base class, we don't need to do anything else about `deposit` and `balance`. "
   ]
  },
  {
   "cell_type": "markdown",
   "metadata": {},
   "source": [
    "## Looking Up Attribute Names on Classes"
   ]
  },
  {
   "cell_type": "markdown",
   "metadata": {},
   "source": [
    "Base class attributes aren't copied into subclasses! Instead, it's part of Python looking up an attribute by name that gives us the behavior.\n",
    "\n",
    "To look up a name in a class:\n",
    "1. If it names an attribute in the class, return the attribute value.\n",
    "2. Otherwise, look up the name in the base class, if there's one\n",
    "\n",
    "When we create a checking account,"
   ]
  },
  {
   "cell_type": "code",
   "execution_count": 5,
   "metadata": {},
   "outputs": [],
   "source": [
    "ch = CheckingAccount('Tom')"
   ]
  },
  {
   "cell_type": "markdown",
   "metadata": {},
   "source": [
    "We pass in `Tom` as the holder. Recall that the `CheckingAccount` class that we just defined doesn't have `__init__` method on its own.\n",
    "\n",
    "Python looked up the name `__init__` and couldn't find it in `CheckingAccount`. Python found the `__init__` in `Account` class. Thus, this `__init__` method from `Account` class was called. \n",
    "\n",
    "How about the `interest`?"
   ]
  },
  {
   "cell_type": "code",
   "execution_count": 2,
   "metadata": {},
   "outputs": [
    {
     "ename": "NameError",
     "evalue": "name 'ch' is not defined",
     "output_type": "error",
     "traceback": [
      "\u001b[1;31m---------------------------------------------------------------------------\u001b[0m",
      "\u001b[1;31mNameError\u001b[0m                                 Traceback (most recent call last)",
      "\u001b[1;32m<ipython-input-2-8e4bae9883c7>\u001b[0m in \u001b[0;36m<module>\u001b[1;34m\u001b[0m\n\u001b[1;32m----> 1\u001b[1;33m \u001b[0mch\u001b[0m\u001b[1;33m.\u001b[0m\u001b[0minterest\u001b[0m\u001b[1;33m\u001b[0m\u001b[1;33m\u001b[0m\u001b[0m\n\u001b[0m",
      "\u001b[1;31mNameError\u001b[0m: name 'ch' is not defined"
     ]
    }
   ],
   "source": [
    "ch.interest"
   ]
  },
  {
   "cell_type": "markdown",
   "metadata": {},
   "source": [
    "There is a specific `interest` for the `CheckingAccount` that Python will find and return.\n",
    "\n",
    "How about `deposit` method?"
   ]
  },
  {
   "cell_type": "code",
   "execution_count": null,
   "metadata": {},
   "outputs": [],
   "source": [
    "ch.deposit(20)"
   ]
  },
  {
   "cell_type": "markdown",
   "metadata": {},
   "source": [
    "The `deposit` method is found in the `Account` class. \n",
    "\n",
    "Last but not least, `withdraw`?"
   ]
  },
  {
   "cell_type": "code",
   "execution_count": null,
   "metadata": {},
   "outputs": [],
   "source": [
    "ch.withdraw(5)"
   ]
  },
  {
   "cell_type": "markdown",
   "metadata": {},
   "source": [
    "The `withdraw` method is found in the `CheckingAccount`. \n",
    "\n",
    "Note that for the `withdraw` method of `CheckingAccount`, we could have decided to just copy the `withdraw` method from the `Account` class,"
   ]
  },
  {
   "cell_type": "code",
   "execution_count": null,
   "metadata": {},
   "outputs": [],
   "source": [
    "class CheckingAccount(Account): # The base class is 'Account'\n",
    "    \"\"\" A bank account that charges for withdrawals\"\"\"\n",
    "    withdraw_fee = 1\n",
    "    interest = 0.01 # Lower interest than normal account\n",
    "    def withdraw(self, amount):\n",
    "        amount = amount + 1\n",
    "        if amount > self.balance:\n",
    "            return 'Insufficient funds'\n",
    "        self.balance = self.balance - amount\n",
    "        return self.balance"
   ]
  },
  {
   "cell_type": "markdown",
   "metadata": {},
   "source": [
    "However, the implementation above is repetitive, and if we made change to the `withdraw` method in `Account` class, we would have to update the `withdraw` method in `CheckingAccount` as well.  "
   ]
  }
 ],
 "metadata": {
  "kernelspec": {
   "display_name": "Python 3",
   "language": "python",
   "name": "python3"
  },
  "language_info": {
   "codemirror_mode": {
    "name": "ipython",
    "version": 3
   },
   "file_extension": ".py",
   "mimetype": "text/x-python",
   "name": "python",
   "nbconvert_exporter": "python",
   "pygments_lexer": "ipython3",
   "version": "3.6.8"
  }
 },
 "nbformat": 4,
 "nbformat_minor": 2
}
