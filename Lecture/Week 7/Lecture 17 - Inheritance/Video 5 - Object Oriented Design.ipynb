{
 "cells": [
  {
   "cell_type": "code",
   "execution_count": null,
   "metadata": {},
   "outputs": [],
   "source": [
    "%load_ext tutormagic"
   ]
  },
  {
   "cell_type": "code",
   "execution_count": 1,
   "metadata": {},
   "outputs": [],
   "source": [
    "class Account:\n",
    "    \n",
    "    interest = 0.02\n",
    "    \n",
    "    def __init__(self, account_holder):\n",
    "        self.balance = 0\n",
    "        self.holder = account_holder\n",
    "        \n",
    "    def deposit(self, amount):\n",
    "        self.balance = self.balance + amount\n",
    "        return self.balance\n",
    "    \n",
    "    def withdraw(self, amount):\n",
    "        if amount > self.balance:\n",
    "            return 'Insufficient funds'\n",
    "        self.balance = self.balance - amount\n",
    "        return self.balance"
   ]
  },
  {
   "cell_type": "markdown",
   "metadata": {},
   "source": [
    "# Object-Oriented Design"
   ]
  },
  {
   "cell_type": "markdown",
   "metadata": {},
   "source": [
    "Here we'll discuss about designing OO programs. "
   ]
  },
  {
   "cell_type": "markdown",
   "metadata": {},
   "source": [
    "## Designing for Inheritance"
   ]
  },
  {
   "cell_type": "markdown",
   "metadata": {},
   "source": [
    "Don't repeat yourself; use existing implementation\n",
    "* Avoid copy paste-ing code\n",
    "\n",
    "Attributes that have been overridden are still accessible via class objects. For example, we override the `withdraw` method in `CheckingAccount`, but we can still use the original `Account` `withdraw` method.\n",
    "\n",
    "Look up attributes on instances whenever possible. What does this mean?\n",
    "\n",
    "When we compute the `amount` for `withdraw` method, "
   ]
  },
  {
   "cell_type": "code",
   "execution_count": null,
   "metadata": {},
   "outputs": [],
   "source": [
    "class CheckingAccount(Account): # The base class is 'Account'\n",
    "    \"\"\" A bank account that charges for withdrawals\"\"\"\n",
    "    withdraw_fee = 1\n",
    "    interest = 0.01 # Lower interest than normal account\n",
    "    def withdraw(self, amount):\n",
    "        return Account.withdraw(self, amount + self.withdraw_fee)"
   ]
  },
  {
   "cell_type": "markdown",
   "metadata": {},
   "source": [
    "Instead of"
   ]
  },
  {
   "cell_type": "code",
   "execution_count": null,
   "metadata": {},
   "outputs": [],
   "source": [
    "amount + self.withdraw_fee"
   ]
  },
  {
   "cell_type": "markdown",
   "metadata": {},
   "source": [
    "We could've just used,"
   ]
  },
  {
   "cell_type": "code",
   "execution_count": null,
   "metadata": {},
   "outputs": [],
   "source": [
    "amount + 1"
   ]
  },
  {
   "cell_type": "markdown",
   "metadata": {},
   "source": [
    "Or,"
   ]
  },
  {
   "cell_type": "code",
   "execution_count": null,
   "metadata": {},
   "outputs": [],
   "source": [
    "amount + CheckingAccount.withdraw_fee"
   ]
  },
  {
   "cell_type": "markdown",
   "metadata": {},
   "source": [
    "However, let's say some checking accounts have unique withdraw fees. It would be more convenient to use `self` since it takes into account these unique attributes of unique instance. \n",
    "\n",
    "<img src = 'withdraw.jpg' width = 700/>"
   ]
  },
  {
   "cell_type": "markdown",
   "metadata": {},
   "source": [
    "## Inheritance and Composition"
   ]
  },
  {
   "cell_type": "markdown",
   "metadata": {},
   "source": [
    "Another thing to think about when designing an OO program is knowing when to use inheritance vs. when to use composition. Composition is when one object has another object as an attribute. \n",
    "\n",
    "OOP shines when we adopt the metaphor, that is, we treat objects like real things in the world. \n",
    "\n",
    "Inheritance is best for representing is-a relationships.\n",
    "* e.g. a checking account **is-a** specific type of Account\n",
    "    * Thus, CheckingAccount inherits from Account\n",
    "    \n",
    "Composition is best for representing has-a relationships.\n",
    "* e.g. a bank **has-a** collection of bank accounts it manages\n",
    "    * Thus, a bank has a list of accounts as an attribute\n",
    "        * But a bank doesn't inherit from Account, neither the other way around\n",
    "        \n",
    "A `bank` class would look like the following,"
   ]
  },
  {
   "cell_type": "code",
   "execution_count": null,
   "metadata": {},
   "outputs": [],
   "source": [
    "class Bank:\n",
    "    \"\"\" A bank has accounts\n",
    "    >>> bank = Bank()\n",
    "    >>> john = bank.open_account('John', 10)\n",
    "    >>> jack = bank.open_account('Jack', 5, CheckingAccount)\n",
    "    >>> john.interest\n",
    "    0.02\n",
    "    >>> jack.interest\n",
    "    0.01\n",
    "    >>> bank.pay_interest()\n",
    "    >>> john.balance\n",
    "    10.2\n",
    "    \"\"\""
   ]
  },
  {
   "cell_type": "markdown",
   "metadata": {},
   "source": [
    "`Bank` is constructed without arguments."
   ]
  },
  {
   "cell_type": "code",
   "execution_count": 1,
   "metadata": {},
   "outputs": [
    {
     "ename": "SyntaxError",
     "evalue": "unexpected EOF while parsing (<ipython-input-1-207db8671f5a>, line 1)",
     "output_type": "error",
     "traceback": [
      "\u001b[1;36m  File \u001b[1;32m\"<ipython-input-1-207db8671f5a>\"\u001b[1;36m, line \u001b[1;32m1\u001b[0m\n\u001b[1;33m    def __init__(self):\u001b[0m\n\u001b[1;37m                       ^\u001b[0m\n\u001b[1;31mSyntaxError\u001b[0m\u001b[1;31m:\u001b[0m unexpected EOF while parsing\n"
     ]
    }
   ],
   "source": [
    "def __init__(self):\n",
    "    self.accounts = []"
   ]
  },
  {
   "cell_type": "markdown",
   "metadata": {},
   "source": [
    "We can open an account in a bank. This would be represented as a method."
   ]
  },
  {
   "cell_type": "code",
   "execution_count": null,
   "metadata": {},
   "outputs": [],
   "source": [
    "def open_account(self, holder, amount, kind = Account):\n",
    "    account = kind(holder) #kind is the type of account (e.g. Account or CheckingAccount)\n",
    "    account.deposit(amount)\n",
    "    self.account.append(account) # Add this account to the bank's accounts array\n",
    "    return account"
   ]
  },
  {
   "cell_type": "markdown",
   "metadata": {},
   "source": [
    "Then the bank has to be able to pay interest. `pay_interest` takes no argument other than the bank itself.\n",
    "\n",
    "To pay interest, we have to iterate through all the accounts that we have and deposit the interest from the balance."
   ]
  },
  {
   "cell_type": "code",
   "execution_count": null,
   "metadata": {},
   "outputs": [],
   "source": [
    "def pay_interest(self):\n",
    "    for i in self.accounts:\n",
    "        i.deposit(i.balance * i.interest)"
   ]
  },
  {
   "cell_type": "markdown",
   "metadata": {},
   "source": [
    "Thus, the implementation would look like the following,"
   ]
  },
  {
   "cell_type": "code",
   "execution_count": null,
   "metadata": {},
   "outputs": [],
   "source": [
    "class Bank:\n",
    "    def __init__(self):\n",
    "        self.accounts = []\n",
    "        \n",
    "    def open_account(self, holder, amount, kind = Account):\n",
    "        account = kind(holder) #kind is the type of account (e.g. Account or CheckingAccount)\n",
    "        account.deposit(amount)\n",
    "        self.account.append(account) # Add this account to the bank's accounts array\n",
    "        return account\n",
    "    \n",
    "    def pay_interest(self):\n",
    "        for i in self.accounts:\n",
    "            i.deposit(i.balance * i.interest)\n",
    "    "
   ]
  }
 ],
 "metadata": {
  "kernelspec": {
   "display_name": "Python 3",
   "language": "python",
   "name": "python3"
  },
  "language_info": {
   "codemirror_mode": {
    "name": "ipython",
    "version": 3
   },
   "file_extension": ".py",
   "mimetype": "text/x-python",
   "name": "python",
   "nbconvert_exporter": "python",
   "pygments_lexer": "ipython3",
   "version": "3.6.8"
  }
 },
 "nbformat": 4,
 "nbformat_minor": 2
}
