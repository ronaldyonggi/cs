{
 "cells": [
  {
   "cell_type": "code",
   "execution_count": null,
   "metadata": {},
   "outputs": [],
   "source": [
    "%load_ext tutormagic"
   ]
  },
  {
   "cell_type": "markdown",
   "metadata": {},
   "source": [
    "# Attributes"
   ]
  },
  {
   "cell_type": "markdown",
   "metadata": {},
   "source": [
    "Let's review Attributes!"
   ]
  },
  {
   "cell_type": "markdown",
   "metadata": {},
   "source": [
    "## Terminology: Attributes, Functions, and Methods"
   ]
  },
  {
   "cell_type": "markdown",
   "metadata": {},
   "source": [
    "All objects have attributes, which are name-value pairs.\n",
    "\n",
    "Classes are objects too, so they have attributes.\n",
    "\n",
    "Instance attribute is an attribute of an **instance of a class**.\n",
    "\n",
    "Class attribute is an attribute of the class of an instance."
   ]
  },
  {
   "cell_type": "markdown",
   "metadata": {},
   "source": [
    "<img src = 'terminology.jpg' width = 500/>"
   ]
  },
  {
   "cell_type": "markdown",
   "metadata": {},
   "source": [
    "Above, we have a set of class attributes and a set of functions. Functions are not particular to OOP, but methods are. Thus, methods are functions that are also class attributes. "
   ]
  },
  {
   "cell_type": "markdown",
   "metadata": {},
   "source": [
    "#### In Python Object System:\n",
    "\n",
    "Functions are objects.\n",
    "\n",
    "Bound methods are also objects: a function that has its first parameter \"self\" already bound to an instance.\n",
    "\n",
    "Dot `.` expression evaluate to bound methods for class attributes that are functions.\n",
    "\n",
    "A common pattern is as the following,"
   ]
  },
  {
   "cell_type": "code",
   "execution_count": null,
   "metadata": {},
   "outputs": [],
   "source": [
    "<instance>.<method_name>"
   ]
  },
  {
   "cell_type": "markdown",
   "metadata": {},
   "source": [
    "Usually, the `<method_name>` is a function name, while the `<instance>` is the `self` parameter."
   ]
  },
  {
   "cell_type": "markdown",
   "metadata": {},
   "source": [
    "## Reminder: Looking Up Attributes by Name"
   ]
  },
  {
   "cell_type": "code",
   "execution_count": null,
   "metadata": {},
   "outputs": [],
   "source": [
    "<expression>.<name>"
   ]
  },
  {
   "cell_type": "markdown",
   "metadata": {},
   "source": [
    "To evaluate a dot `.` expression:\n",
    "\n",
    "1. Evaluate the `<expression>` to the left of the dot, which yields the object of the dot expression.\n",
    "2. `<name>` is matched against the instance attribute of that object; If an attribute with that name exists, its value is returned\n",
    "3. If not, `<name>` is looked up in the class, which yields a class attribute value\n",
    "4. That value is returned unless it is a function, in which case a bound method is returned instead"
   ]
  }
 ],
 "metadata": {
  "kernelspec": {
   "display_name": "Python 3",
   "language": "python",
   "name": "python3"
  },
  "language_info": {
   "codemirror_mode": {
    "name": "ipython",
    "version": 3
   },
   "file_extension": ".py",
   "mimetype": "text/x-python",
   "name": "python",
   "nbconvert_exporter": "python",
   "pygments_lexer": "ipython3",
   "version": "3.6.8"
  }
 },
 "nbformat": 4,
 "nbformat_minor": 2
}
