{
 "cells": [
  {
   "cell_type": "markdown",
   "metadata": {},
   "source": [
    "# Miscellanous Python Features: Operators, Multiple Return Values, Docstrings, Doctests, Default Arguments\n",
    "This topic is a bunch of different Python features that will help with projects and homeworks. \n",
    "\n",
    "## 1. Operators\n",
    "We haven't discussed much about how operators such as `+` and `*` work. "
   ]
  },
  {
   "cell_type": "code",
   "execution_count": null,
   "metadata": {},
   "outputs": [],
   "source": [
    "2 + 2"
   ]
  },
  {
   "cell_type": "code",
   "execution_count": null,
   "metadata": {},
   "outputs": [],
   "source": [
    "2 + 3 * 4 + 5"
   ]
  },
  {
   "cell_type": "markdown",
   "metadata": {},
   "source": [
    "The truth is, the operator is so complicated that we will cover it later in the course. For now, just think of them as shorthands for calling built-in functions such as `add` and `mul`.\n",
    "\n",
    "Keep in mind that the cell above follows the mathematical precedence rule (multiplication before addition). Thus, the equivalent of the cell above would be the following,"
   ]
  },
  {
   "cell_type": "code",
   "execution_count": null,
   "metadata": {},
   "outputs": [],
   "source": [
    "from operator import add, mul\n",
    "add(add(2, mul(3, 4)), 5)"
   ]
  },
  {
   "cell_type": "markdown",
   "metadata": {},
   "source": [
    "We can use parentheses `()` to overwrite or change the operator precedence,"
   ]
  },
  {
   "cell_type": "code",
   "execution_count": null,
   "metadata": {},
   "outputs": [],
   "source": [
    "(2 + 3) * (4 + 5)"
   ]
  },
  {
   "cell_type": "markdown",
   "metadata": {},
   "source": [
    "And the equivalency using `add` and `mul` changes as well,"
   ]
  },
  {
   "cell_type": "code",
   "execution_count": null,
   "metadata": {},
   "outputs": [],
   "source": [
    "mul(add(2, 3), add(4, 5))"
   ]
  },
  {
   "cell_type": "markdown",
   "metadata": {},
   "source": [
    "Thus, operators behave like built-in function calls.\n",
    "\n",
    "Now let's discuss about **division**. There are 2 kinds of division:\n",
    "\n",
    "#### 1. `True Division`, using the `/` symbol."
   ]
  },
  {
   "cell_type": "code",
   "execution_count": null,
   "metadata": {},
   "outputs": [],
   "source": [
    "2013 / 10"
   ]
  },
  {
   "cell_type": "markdown",
   "metadata": {},
   "source": [
    "#### 2. `Integer Division`, using the `//` symbol\n",
    "This division gives the number of times the divider goes into the dividend, not including the remainder. Thus, we will lose the `0.3`."
   ]
  },
  {
   "cell_type": "code",
   "execution_count": null,
   "metadata": {},
   "outputs": [],
   "source": [
    "2013 // 10"
   ]
  },
  {
   "cell_type": "markdown",
   "metadata": {},
   "source": [
    "The 2 divisions above have corresponding functions: `truediv` and `floordiv`, respectively."
   ]
  },
  {
   "cell_type": "code",
   "execution_count": null,
   "metadata": {},
   "outputs": [],
   "source": [
    "from operator import truediv, floordiv"
   ]
  },
  {
   "cell_type": "code",
   "execution_count": null,
   "metadata": {},
   "outputs": [],
   "source": [
    "truediv(2013, 10)"
   ]
  },
  {
   "cell_type": "code",
   "execution_count": null,
   "metadata": {},
   "outputs": [],
   "source": [
    "floordiv(2013, 10)"
   ]
  },
  {
   "cell_type": "markdown",
   "metadata": {},
   "source": [
    "What about the missing `0.3`? We can obtain it using what's called the `mod` operator `%`. The `mod` operator gives us the remainder of dividing by a number. Below is an example of using the `mod` operator, giving us the remainder of dividing `2013` with `10`,"
   ]
  },
  {
   "cell_type": "code",
   "execution_count": null,
   "metadata": {},
   "outputs": [],
   "source": [
    "2013 % 10"
   ]
  },
  {
   "cell_type": "markdown",
   "metadata": {},
   "source": [
    "And there's also the corresponding function to `%` operator, which is `mod`. "
   ]
  },
  {
   "cell_type": "code",
   "execution_count": null,
   "metadata": {},
   "outputs": [],
   "source": [
    "from operator import mod"
   ]
  },
  {
   "cell_type": "code",
   "execution_count": null,
   "metadata": {},
   "outputs": [],
   "source": [
    "mod(2013, 10)"
   ]
  },
  {
   "cell_type": "markdown",
   "metadata": {},
   "source": [
    "Why do we want this integer, division, and `mod` operator? Because they are exact. "
   ]
  },
  {
   "cell_type": "code",
   "execution_count": null,
   "metadata": {},
   "outputs": [],
   "source": [
    "5 // 3"
   ]
  },
  {
   "cell_type": "code",
   "execution_count": null,
   "metadata": {},
   "outputs": [],
   "source": [
    "5 % 3"
   ]
  },
  {
   "cell_type": "markdown",
   "metadata": {},
   "source": [
    "In comparison to regular division, we'll only obtain an approximation."
   ]
  },
  {
   "cell_type": "code",
   "execution_count": null,
   "metadata": {},
   "outputs": [],
   "source": [
    "5 / 3"
   ]
  },
  {
   "cell_type": "markdown",
   "metadata": {},
   "source": [
    "We'll use the features above often to break up numbers.\n",
    "\n",
    "## 2. Multiple Return Values\n",
    "\n",
    "Just as we can assign multiple values to multiple names using one assignment statement, we can also return multiple values from a function. Let's say we want both the quotient and the remainder when we divide a `n`umber with a `d`ivider,"
   ]
  },
  {
   "cell_type": "code",
   "execution_count": null,
   "metadata": {},
   "outputs": [],
   "source": [
    "# n is the number, d is the divider\n",
    "def divide_exact(n, d):\n",
    "    return n // d, n % d"
   ]
  },
  {
   "cell_type": "markdown",
   "metadata": {},
   "source": [
    "Now we can assign the name `quotation` and `remainder` the resultS of calling `divide_exact(2013, 10)`"
   ]
  },
  {
   "cell_type": "code",
   "execution_count": null,
   "metadata": {},
   "outputs": [],
   "source": [
    "quotient, remainder = divide_exact(2013, 10)"
   ]
  },
  {
   "cell_type": "code",
   "execution_count": null,
   "metadata": {},
   "outputs": [],
   "source": [
    "quotient"
   ]
  },
  {
   "cell_type": "code",
   "execution_count": null,
   "metadata": {},
   "outputs": [],
   "source": [
    "remainder"
   ]
  },
  {
   "cell_type": "markdown",
   "metadata": {},
   "source": [
    "So far throughout the lecture, we have been using the interactive Python interpreter. If we want to write something permanently, write it in a file.\n",
    "\n",
    "If we write Python code in a file, it won't get evaluated or executed until we ask Python to do so. \n",
    "\n",
    "Note that the cells in this notebook works like IDLE. For the sake of convenience, codes will be written in the cells instead of a text editor. The directions to open files will be written here, but they can't be run in the notebook.\n",
    "\n",
    "It's always a good idea to write text at the top describing what the file is."
   ]
  },
  {
   "cell_type": "code",
   "execution_count": null,
   "metadata": {},
   "outputs": [],
   "source": [
    "\"\"\" Our first Python source file\"\"\"\n",
    "\n",
    "from operator import floordiv, mod\n",
    "def divide_exact(n, d):\n",
    "    return floordiv(n, d), mod(n, d)"
   ]
  },
  {
   "cell_type": "markdown",
   "metadata": {},
   "source": [
    "Now none of the above has been executed yet. If we want to execute it, go to `terminal`, `bash` or `powershell`, run Python and type the file name. For example, if the file name is `ex.py`, then type to the terminal:"
   ]
  },
  {
   "cell_type": "code",
   "execution_count": null,
   "metadata": {},
   "outputs": [],
   "source": [
    "python ex.py"
   ]
  },
  {
   "cell_type": "markdown",
   "metadata": {},
   "source": [
    "When we run above in the terminal, nothing happens or shows up. In the file, we only have a `def` statement, which binds the name `divide_exact` to a newly created function, but otherwise doesn't give out any output. \n",
    "\n",
    "If we add some more lines into the file:"
   ]
  },
  {
   "cell_type": "code",
   "execution_count": null,
   "metadata": {},
   "outputs": [],
   "source": [
    "\"\"\" Our first Python source file\"\"\"\n",
    "\n",
    "from operator import floordiv, mod\n",
    "def divide_exact(n, d):\n",
    "    return floordiv(n, d), mod(n, d)\n",
    "\n",
    "q, r = divide_exact(2013, 10)"
   ]
  },
  {
   "cell_type": "markdown",
   "metadata": {},
   "source": [
    "By the time we execute it, nothing still happens! Now if we print some things as well:"
   ]
  },
  {
   "cell_type": "code",
   "execution_count": null,
   "metadata": {},
   "outputs": [],
   "source": [
    "\"\"\" Our first Python source file\"\"\"\n",
    "\n",
    "from operator import floordiv, mod\n",
    "def divide_exact(n, d):\n",
    "    return floordiv(n, d), mod(n, d)\n",
    "\n",
    "q, r = divide_exact(2013, 10)\n",
    "print('Quotient:', q)\n",
    "print('Remainder:', r)"
   ]
  },
  {
   "cell_type": "markdown",
   "metadata": {},
   "source": [
    "When we save it and execute the file again, we will obtain the output that look like above. \n",
    "\n",
    "We just learned that we can type Python in a file and we can execute it in terminals. \n",
    "\n",
    "Another thing that we can do, instead of having a bunch of `print` statement, is to run Python in **interactive mode**. Run the following in the terminal,"
   ]
  },
  {
   "cell_type": "code",
   "execution_count": null,
   "metadata": {},
   "outputs": [],
   "source": [
    "python -i ex.py"
   ]
  },
  {
   "cell_type": "markdown",
   "metadata": {},
   "source": [
    "This way, we executed the entire file and we have an interactive prompt running on top of it. This means we can look at `q` and `r`, or use the function `divide_exact`"
   ]
  },
  {
   "cell_type": "code",
   "execution_count": null,
   "metadata": {},
   "outputs": [],
   "source": [
    "q"
   ]
  },
  {
   "cell_type": "code",
   "execution_count": null,
   "metadata": {},
   "outputs": [],
   "source": [
    "r"
   ]
  },
  {
   "cell_type": "markdown",
   "metadata": {},
   "source": [
    "## 3. Docstring\n",
    "When we write functions in Python source file, we don't typically just give a name and a return statement. In addition to those, we write a documentation about what the code does. "
   ]
  },
  {
   "cell_type": "code",
   "execution_count": null,
   "metadata": {},
   "outputs": [],
   "source": [
    "\"\"\" Our first Python source file\"\"\"\n",
    "\n",
    "from operator import floordiv, mod\n",
    "def divide_exact(n, d):\n",
    "    \"\"\"Return the quotient and remainder of dividing N by D.\"\"\"\n",
    "    return floordiv(n, d), mod(n, d)\n",
    "\n",
    "q, r = divide_exact(2013, 10)"
   ]
  },
  {
   "cell_type": "markdown",
   "metadata": {},
   "source": [
    "As we can see above, in the documentation we refer to `n` as `N` and `d` as `D`. There's a convention of using capital letters to refer to `formal parameters`. We don't have to follow this exactly. \n",
    "\n",
    "This documentation is called a `docstring`. It's the first line below the `def` statement. \n",
    "\n",
    "\n",
    "## 4. Doctest\n",
    "In addition to describing to humans what the function does, we can also show some examples of how it works."
   ]
  },
  {
   "cell_type": "code",
   "execution_count": null,
   "metadata": {},
   "outputs": [],
   "source": [
    "\"\"\" Our first Python source file\"\"\"\n",
    "\n",
    "from operator import floordiv, mod\n",
    "def divide_exact(n, d):\n",
    "    \"\"\"Return the quotient and remainder of dividing N by D.\n",
    "    \n",
    "    >>> q, r = divide_exact(2013, 10)\n",
    "    >>> q\n",
    "    201\n",
    "    >>> r\n",
    "    3 \n",
    "    \"\"\"\n",
    "    return floordiv(n, d), mod(n, d)\n",
    "\n",
    "q, r = divide_exact(2013, 10)"
   ]
  },
  {
   "cell_type": "markdown",
   "metadata": {},
   "source": [
    "The `>>>` parts are still part of the documentation, not an actual Python code. This is equivalent to saying,\n",
    "\n",
    "\"Suppose we call `divide_exact` on `(2013, 10)` and we bind those to `q` and `r` respectively. If we look up `q`, we'll get `201`. If we look up `r`, we'll get `3`\".\n",
    "\n",
    "The lines with `>>>` are example interactive session. We can simulate the session by running the following **in terminal**,"
   ]
  },
  {
   "cell_type": "code",
   "execution_count": null,
   "metadata": {},
   "outputs": [],
   "source": [
    "python -m doctest ex.py"
   ]
  },
  {
   "cell_type": "markdown",
   "metadata": {},
   "source": [
    "If everything works well (e.g. no errors), there will be no output. If we want to see more details however, run the following,"
   ]
  },
  {
   "cell_type": "code",
   "execution_count": null,
   "metadata": {},
   "outputs": [],
   "source": [
    "python -m doctest -v ex.py"
   ]
  },
  {
   "cell_type": "markdown",
   "metadata": {},
   "source": [
    "The output of the terminal should look like the following,\n",
    "<img src = 'doctest_1.jpg' width = 250/>"
   ]
  },
  {
   "cell_type": "markdown",
   "metadata": {},
   "source": [
    "However, if we have a mismatch between the `doctest` and the actual result (for example, in the `doctest` we'll change the output of `r` to be `2` instead of `3`), we'll get the following,\n",
    "<img src = 'doctest_2.jpg' width = 400/>"
   ]
  },
  {
   "cell_type": "markdown",
   "metadata": {},
   "source": [
    "`Doctests` are run by invoking the `doctest` module on a particular file (in this case, `ex.py`)"
   ]
  },
  {
   "cell_type": "markdown",
   "metadata": {},
   "source": [
    "## 5. Default Arguments\n",
    "When we defined a function, we can give `default values`."
   ]
  },
  {
   "cell_type": "code",
   "execution_count": null,
   "metadata": {},
   "outputs": [],
   "source": [
    "\"\"\" Our first Python source file\"\"\"\n",
    "\n",
    "from operator import floordiv, mod\n",
    "def divide_exact(n, d = 10):\n",
    "    \"\"\"Return the quotient and remainder of dividing N by D.\n",
    "    \n",
    "    >>> q, r = divide_exact(2013, 10)\n",
    "    >>> q\n",
    "    201\n",
    "    >>> r\n",
    "    3 \n",
    "    \"\"\"\n",
    "    return floordiv(n, d), mod(n, d)\n",
    "\n",
    "q, r = divide_exact(2013, 10)"
   ]
  },
  {
   "cell_type": "markdown",
   "metadata": {},
   "source": [
    "Notice the argument `d = 10`. This is not an assignment statement. This is a placeholder for a default value that we put after the `formal parameter`. \n",
    "\n",
    "This is saying, \"if there's no argument passed in to be bound to `d`, Python will automatically bind `10` to `d` instead. \n",
    "\n",
    "Thus, with the default argument above, we can run the function `divide_exact` by only providing the `n` argument."
   ]
  },
  {
   "cell_type": "code",
   "execution_count": null,
   "metadata": {},
   "outputs": [],
   "source": [
    "q, r = divide_exact(2013)"
   ]
  },
  {
   "cell_type": "code",
   "execution_count": null,
   "metadata": {},
   "outputs": [],
   "source": [
    "q"
   ]
  },
  {
   "cell_type": "code",
   "execution_count": null,
   "metadata": {},
   "outputs": [],
   "source": [
    "r"
   ]
  }
 ],
 "metadata": {
  "kernelspec": {
   "display_name": "Python 3",
   "language": "python",
   "name": "python3"
  },
  "language_info": {
   "codemirror_mode": {
    "name": "ipython",
    "version": 3
   },
   "file_extension": ".py",
   "mimetype": "text/x-python",
   "name": "python",
   "nbconvert_exporter": "python",
   "pygments_lexer": "ipython3",
   "version": "3.6.8"
  }
 },
 "nbformat": 4,
 "nbformat_minor": 2
}
