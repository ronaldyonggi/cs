{
 "cells": [
  {
   "cell_type": "markdown",
   "metadata": {},
   "source": [
    "# Print and None\n",
    "## Demo\n",
    "If we type an `expression` into the interactive Python interpreter, Python will display the `value` of the `expression`."
   ]
  },
  {
   "cell_type": "code",
   "execution_count": 1,
   "metadata": {},
   "outputs": [
    {
     "data": {
      "text/plain": [
       "-2"
      ]
     },
     "execution_count": 1,
     "metadata": {},
     "output_type": "execute_result"
    }
   ],
   "source": [
    "-2"
   ]
  },
  {
   "cell_type": "markdown",
   "metadata": {},
   "source": [
    "If we type `print(-2)`,"
   ]
  },
  {
   "cell_type": "code",
   "execution_count": 2,
   "metadata": {},
   "outputs": [
    {
     "name": "stdout",
     "output_type": "stream",
     "text": [
      "-2\n"
     ]
    }
   ],
   "source": [
    "print(-2)"
   ]
  },
  {
   "cell_type": "markdown",
   "metadata": {},
   "source": [
    "Then we will obtain the same output. However, 2 different things have happened here! Let's try to understand the difference.\n",
    "\n",
    "If we type the following,"
   ]
  },
  {
   "cell_type": "code",
   "execution_count": 3,
   "metadata": {},
   "outputs": [
    {
     "data": {
      "text/plain": [
       "'Go Bears!'"
      ]
     },
     "execution_count": 3,
     "metadata": {},
     "output_type": "execute_result"
    }
   ],
   "source": [
    "'Go Bears!'"
   ]
  },
  {
   "cell_type": "markdown",
   "metadata": {},
   "source": [
    "Then we obtain a value that is exactly the same as the expression. The `expression` is a **string literall**, and thus the value is a **string value**. On the other hand, if we do the following,"
   ]
  },
  {
   "cell_type": "code",
   "execution_count": 4,
   "metadata": {},
   "outputs": [
    {
     "name": "stdout",
     "output_type": "stream",
     "text": [
      "Go Bears!\n"
     ]
    }
   ],
   "source": [
    "print('Go Bears!')"
   ]
  },
  {
   "cell_type": "markdown",
   "metadata": {},
   "source": [
    "Then we'll obtain almost the same thing, without the quotation mark. This way, there has to be a difference between evaluating and printing an expression. We can see more of this difference if we analyze the special value `None`"
   ]
  },
  {
   "cell_type": "code",
   "execution_count": 5,
   "metadata": {},
   "outputs": [],
   "source": [
    "None"
   ]
  },
  {
   "cell_type": "markdown",
   "metadata": {},
   "source": [
    "`None` represents nothing. If we run the cell above, nothing happens! However, if we `print` it out,"
   ]
  },
  {
   "cell_type": "code",
   "execution_count": 6,
   "metadata": {},
   "outputs": [
    {
     "name": "stdout",
     "output_type": "stream",
     "text": [
      "None\n"
     ]
    }
   ],
   "source": [
    "print(None)"
   ]
  },
  {
   "cell_type": "markdown",
   "metadata": {},
   "source": [
    "Then we will actually obtain `None`! \n",
    "\n",
    "It turns out that Python has a rule of automatically displaying the value of any expression we type in. Thus, Python automatically displayed `-2` and `'Go Bears!` above. `None` is a special case since nothing is displayed automatically; however, if we `print` it, we can make it appear. \n",
    "\n",
    "What else can `print` do?\n",
    "\n",
    "`Print` can print multiple values,"
   ]
  },
  {
   "cell_type": "code",
   "execution_count": 7,
   "metadata": {},
   "outputs": [
    {
     "name": "stdout",
     "output_type": "stream",
     "text": [
      "1 2 3\n"
     ]
    }
   ],
   "source": [
    "print(1, 2, 3)"
   ]
  },
  {
   "cell_type": "markdown",
   "metadata": {},
   "source": [
    "It can print multiple `None`s,"
   ]
  },
  {
   "cell_type": "code",
   "execution_count": 8,
   "metadata": {},
   "outputs": [
    {
     "name": "stdout",
     "output_type": "stream",
     "text": [
      "None None\n"
     ]
    }
   ],
   "source": [
    "print(None, None)"
   ]
  },
  {
   "cell_type": "markdown",
   "metadata": {},
   "source": [
    "Below is an interesting case: what will happen if the following cell is run?"
   ]
  },
  {
   "cell_type": "code",
   "execution_count": 9,
   "metadata": {},
   "outputs": [
    {
     "name": "stdout",
     "output_type": "stream",
     "text": [
      "1\n",
      "2\n",
      "None None\n"
     ]
    }
   ],
   "source": [
    "print(print(1), print(2))"
   ]
  },
  {
   "cell_type": "markdown",
   "metadata": {},
   "source": [
    "What happened here?"
   ]
  },
  {
   "cell_type": "markdown",
   "metadata": {},
   "source": [
    "## None Indicates that Nothing is Returned\n",
    "First of all, `None` indicates that nothing has been returned from some function / evaluation. The special value `None` represents nothing in Python.\n",
    "\n",
    "A function that does not explicitly return a value will return `None`.\n",
    "\n",
    "**Careful: `None` is not displayed by the interpreter automatically as the value of an expression.**\n",
    "\n",
    "If we try to define the following function,"
   ]
  },
  {
   "cell_type": "code",
   "execution_count": 10,
   "metadata": {},
   "outputs": [],
   "source": [
    "def does_not_square(x):\n",
    "    x * x"
   ]
  },
  {
   "cell_type": "markdown",
   "metadata": {},
   "source": [
    "this function returns nothing since there's no **return** statement anywhere within the body of the function.\n",
    "<img src = 'no_return.jpg' width = 400/>\n",
    "Thus when we call the function,"
   ]
  },
  {
   "cell_type": "code",
   "execution_count": 11,
   "metadata": {},
   "outputs": [],
   "source": [
    "does_not_square(4)"
   ]
  },
  {
   "cell_type": "markdown",
   "metadata": {},
   "source": [
    "Nothing happens! We should have obtained a `None`, but recall that **`None` is not displayed by the interpreter automatically as the valueof an expression**.\n",
    "<img src = 'no_display.jpg' width = 700/>\n",
    "Now if we run the following,"
   ]
  },
  {
   "cell_type": "code",
   "execution_count": 12,
   "metadata": {},
   "outputs": [],
   "source": [
    "sixteen = does_not_square(4)"
   ]
  },
  {
   "cell_type": "markdown",
   "metadata": {},
   "source": [
    "When `does_not_square(4)` is called, it will return `None`. Thus, the name `sixteen` is now bound to the value `None`. As we can see below, if we call `sixteen`, nothing will be displayed."
   ]
  },
  {
   "cell_type": "code",
   "execution_count": 13,
   "metadata": {},
   "outputs": [],
   "source": [
    "sixteen"
   ]
  },
  {
   "cell_type": "markdown",
   "metadata": {},
   "source": [
    "And if we try the following,"
   ]
  },
  {
   "cell_type": "code",
   "execution_count": 14,
   "metadata": {},
   "outputs": [
    {
     "ename": "TypeError",
     "evalue": "unsupported operand type(s) for +: 'NoneType' and 'int'",
     "output_type": "error",
     "traceback": [
      "\u001b[1;31m---------------------------------------------------------------------------\u001b[0m",
      "\u001b[1;31mTypeError\u001b[0m                                 Traceback (most recent call last)",
      "\u001b[1;32m<ipython-input-14-2e9e77abc791>\u001b[0m in \u001b[0;36m<module>\u001b[1;34m\u001b[0m\n\u001b[1;32m----> 1\u001b[1;33m \u001b[0msixteen\u001b[0m \u001b[1;33m+\u001b[0m \u001b[1;36m4\u001b[0m\u001b[1;33m\u001b[0m\u001b[1;33m\u001b[0m\u001b[0m\n\u001b[0m",
      "\u001b[1;31mTypeError\u001b[0m: unsupported operand type(s) for +: 'NoneType' and 'int'"
     ]
    }
   ],
   "source": [
    "sixteen + 4"
   ]
  },
  {
   "cell_type": "markdown",
   "metadata": {},
   "source": [
    "Above, we obtain `TypeError` that explains that we tried to add together a `None` and and integer. This kind of error appear when we try adding something with nothing, which we cannot do. "
   ]
  },
  {
   "cell_type": "markdown",
   "metadata": {},
   "source": [
    "## Pure Functions & Non-Pure Functions\n",
    "There are 2 kinds of functions in Python:\n",
    "\n",
    "### Pure Functions\n",
    "\n",
    "**Pure Functions** only return values. An example of a **pure function** is the function `abs`, which computes the absolute value of its argument. The `abs` function takes in `-2` and returns `2`. The absolute value of `-2` is `2`.\n",
    "<img src = 'abs.jpg' width = 500>\n",
    "**Pure functions** can be described as a **closed pipe** : it goes from input to output. \n",
    "\n",
    "`Pow` is another pure function. With `pow`, we pass in 2 arguments, and we obtain a return value. \n",
    "<img src = 'pow.jpg' width = 500>\n",
    "\n",
    "### Non-Pure Functions\n",
    "\n",
    "**Non-pure functions** have side effects. \n",
    "\n",
    "`Print` function is an example of a non-pure function. In this example, the `print` function takes in an argument `-2` and returns `None`. However, `print` also has a side effect of displaying the expression that was passed in as the argument.\n",
    "\n",
    "<img src = 'print.jpg' width = 500/>\n",
    "\n",
    "The side effect isn't a value. It's just something that happen that's a consequence of calling the function."
   ]
  },
  {
   "cell_type": "markdown",
   "metadata": {},
   "source": [
    "## Nested Expressions with Print\n",
    "Now we're going back to the nested `print` below,"
   ]
  },
  {
   "cell_type": "code",
   "execution_count": null,
   "metadata": {},
   "outputs": [],
   "source": [
    "print(print(1), print(2))"
   ]
  },
  {
   "cell_type": "markdown",
   "metadata": {},
   "source": [
    "We will try to analyze what's going on using an expression tree.\n",
    "<img src = 'tree_1.jpg' width = 350/>\n",
    "\n",
    "### Evaluate the 1st operand: `print(1)`\n",
    "\n",
    "In order to obtain the `value` of this nested call expression, we first evaluate the `operator`, a function that prints.\n",
    "<img src = 'tree_2.jpg' width = 350/>\n",
    "\n",
    "then the first `operand`, which is another call expression `print(1)`. We evaluate this expression by evaluating its operator `print` and its operand `1`, and thus we have the function `print` applied to `1`. \n",
    "<img src = 'tree_3.jpg' width = 250/>\n",
    "\n",
    "When we apply `print` to the number `1`, we have a **side effect** of displaying `1`. \n",
    "<img src = 'tree_4.jpg' width = 250/>\n",
    "This is how Python displayed `1` on the first line of the output. When Python evaluated the `operand` subexpression `print(1)`, `1` is diplayed.\n",
    "\n",
    "When Python evaluated `print(1)`, we also obtained the value `None` (because `None` is what `print` always returns). \n",
    "<img src = 'tree_5.jpg' width = 250/>\n",
    "\n",
    "### Evaluate the 2nd operand: `print(2)`\n",
    "Now we evalute the 2nd operand, which is also a call expression `print(2)`. Similar to `print(1)`, when we apply `print` to the number `2` we have a **side effect** of displaying `2` and we obtain the value `None`.\n",
    "<img src = 'tree_6.jpg' width = 250/>\n",
    "\n",
    "### Back to the main expression\n",
    "Now back to the main expression, we have the function `print` applied to the value `None` and `None`, or `print(None, None)`. When we do this, the side effect is that Python displays \"None None\".\n",
    "<img src = 'tree_7.jpg' width = 300/>\n",
    "\n",
    "We also obtain the value of evaluating the `print(None, None)`, which is `None`. However, this obtained value `None` is not displayed because the interactive interpreter for Python does not automatically display `None` if it's the value of an expression typed at the prompt. \n",
    "<img src = 'tree_last.jpg' width = 400/>"
   ]
  },
  {
   "cell_type": "markdown",
   "metadata": {},
   "source": [
    "# Multiple Environments\n",
    "When Python executes a program, different expressions can be evaluated in different environments. Thus, there can be multiple environments in the same environment diagram. We're going to analyze an example with a detailed diagram. But before that, we're going to review **User-Defined Function**."
   ]
  },
  {
   "cell_type": "code",
   "execution_count": null,
   "metadata": {},
   "outputs": [],
   "source": [
    "from operator import *"
   ]
  },
  {
   "cell_type": "markdown",
   "metadata": {},
   "source": [
    "## Life Cycle of a User-Defined Function\n",
    "### `def` statement\n",
    "First, we have the `def` statement that creates function. "
   ]
  },
  {
   "cell_type": "code",
   "execution_count": null,
   "metadata": {},
   "outputs": [],
   "source": [
    "def square(x):\n",
    "    return mul(x, x)"
   ]
  },
  {
   "cell_type": "markdown",
   "metadata": {},
   "source": [
    "The `def` statement above has:\n",
    "<img src = 'def_statement.jpg' width = 500/>\n",
    "1. A `name` for the function we are defining\n",
    "2. `Formal parameter`: the name we give to the argument of the function.\n",
    "    * There can be more than one formal parameter, separated by coma `,`\n",
    "    \n",
    "    \n",
    "3. The `body` of the `def` statement is everything indented after the first line. \n",
    "    * In the example below, it only has a single `return` statement\n",
    "        * The `return` statement has a `return expression`, which multiplies `x` with itself.\n",
    "\n",
    "When the `def` statement above is executed, a new function is created. The name `square` is bound to the newly created function in the current frame.\n",
    "\n",
    "When we defined this function that squares things, we haven't actually multiplied anything. This is because we haven't called the function yet. This would happen with a **call expression**. \n",
    "\n",
    "### Call expression"
   ]
  },
  {
   "cell_type": "code",
   "execution_count": null,
   "metadata": {},
   "outputs": [],
   "source": [
    "square(2+2)"
   ]
  },
  {
   "cell_type": "markdown",
   "metadata": {},
   "source": [
    "Above is a call expression.\n",
    "<img src = 'call_expression.jpg' width = 450/>\n",
    "\n",
    "1. The `operator` is the name `square`\n",
    "    * Its value is the function `square(x)`, the one that we just defined. \n",
    "    \n",
    "    \n",
    "2. There's an `operand` within the parentheses. An `operand` is an expression, in this case `2+2`. \n",
    "    * It evaluates to a value `4`, which becomes the argument of the function\n",
    "    \n",
    "When we call this call expression, Python evaluates the `operator` and `operands`. Then, Python calls the function (value of the `operator`) on the the arguments (value of the `operands`)."
   ]
  },
  {
   "cell_type": "markdown",
   "metadata": {},
   "source": [
    "### Calling / Applying\n",
    "Calling or applying a user-defined function is also a process that we need to spell out.\n",
    "\n",
    "<img src = 'calling_applying.jpg' width = 600/>\n",
    "\n",
    "Within the diagram, we have the `function signature`. The input `4` is the `argument`, while the outcome `16` is the return value. \n",
    "\n",
    "How does this happen?\n",
    "\n",
    "We start with **creating a new frame** in which **the `formal parameters` of the function we're calling are bound to the `arguments` we're passing in**. In this case, `x` will be bound to `4`. Then, **the `body` of the function is executed in that new frame/environment**."
   ]
  },
  {
   "cell_type": "markdown",
   "metadata": {},
   "source": [
    "## Multiple Environments in One Diagram\n",
    "This time, we're going to `square` the `square(3)`."
   ]
  },
  {
   "cell_type": "code",
   "execution_count": null,
   "metadata": {},
   "outputs": [],
   "source": [
    "%load_ext tutormagic"
   ]
  },
  {
   "cell_type": "code",
   "execution_count": null,
   "metadata": {},
   "outputs": [],
   "source": [
    "%%tutor --lang python3\n",
    "\n",
    "from operator import mul\n",
    "def square(x):\n",
    "    return mul(x, x)\n",
    "square(square(3))"
   ]
  },
  {
   "cell_type": "markdown",
   "metadata": {},
   "source": [
    "Let's start at the point where we have imported `mul` and defined `square(x)` function,\n",
    "<img src = 'multiple_1.jpg' width = 800/>\n",
    "<img src = 'multiple_2.jpg' width = 500/>\n",
    "The `square(square(3))` is a call expression, so we can just use the rule for evaluating call expression: evaluate `operator` and `operands`. The `operator` is a function that squares. The `operand` is also a call expression, and thus we need to apply the rule again.\n",
    "<img src = 'multiple_3.jpg' width = 500/>\n",
    "Now we apply the user-defined function `square` to the number `3`. How do we do this?\n",
    "1. Create a new frame\n",
    "2. Bind the formal parameter `x` to the argument value `3`\n",
    "<img src = 'multiple_4.jpg' width = 300/>\n",
    "\n",
    "3. Execute the body of the function `square`, which is `return mul(x, x)`.\n",
    "    * Thus we multiply `x` with itself to obtain the value `9`\n",
    "    * This `9` is the value of the call expression `square(3)`.\n",
    "<img src = 'multiple_5.jpg' width = 250/>\n",
    "<img src = 'multiple_6.jpg' width = 300/>\n",
    "\n",
    "Now that we know the value of the `operand subexpression` `square(3)`, we can apply the function `square` to the value `9` and repeat the similar process as above.\n",
    "1. Create a new frame\n",
    "2. Bind the formal parameter `x` to the argument value `3`\n",
    "3. Executes the body, which is multiplying `9` by itself, and it will give us 81.\n",
    "<img src = 'multiple_7.jpg' width = 500/>\n",
    "\n",
    "### Let's review what we have done above.\n",
    "\n",
    "We have one `square(x)` function. We created 2 frames from the function by calling the same function twice. Those 2 frames are different:\n",
    "1. They are labeled differently: `f1` and `f2`. \n",
    "2. We passed in different arguments, and thus we obtain different bindings from the `formal parameter` to the `argument`, which led to different `return value`\n",
    "    * In `f1` frame, formal parameter `x` is bound to 3\n",
    "    * in `f2` frame, formal parameter `x` is bound to 9\n",
    "\n",
    "<img src = 'multiple_8.jpg' width = 500/>\n",
    "\n",
    "An environment is a sequence of frames. So far, the environment that we have used is:\n",
    "\n",
    "**1. The global frame alone**\n",
    "* We have been using this frame even before we used `def` statement\n",
    "    \n",
    "\n",
    "**2. A local frame, then global frame**\n",
    "* Once we started calling user-defined functions, we started getting multi-frame environment: ones that have a local frame and a global frame. \n",
    "\n",
    "Let's try to find all the different environment in the diagram!\n",
    "\n",
    "### 1st: the global frame alone\n",
    "<img src = 'environments_1.jpg' width = 700/>\n",
    "\n",
    "### 2nd: `f1` followed by the global frame\n",
    "<img src = 'environments_2.jpg' width = 700/>\n",
    "\n",
    "### 3rd: `f2` followed by the global frame\n",
    "<img src = 'environments_3.jpg' width = 700/>\n",
    "\n",
    "We have 3 different environments, none of them includes all 3 frames. But there's one environment per frame. \n",
    "\n",
    "If we start with a particular frame, we can always find the whole environment by following the `parent` of the frames. \n",
    "\n",
    "Suppose we are interested in the environment that starts with the frame `f2`. The next frame is the parent of the frame `f2`, which is the global frame. \n",
    "<img src = 'environments_4.jpg' width = 300/>\n",
    "Global frame is always the last frame, so it doesn't have a parent frame."
   ]
  },
  {
   "cell_type": "markdown",
   "metadata": {},
   "source": [
    "## Names Have No Meaning Without Environments\n",
    "A very important point is that **names have no meaning without these environments**. The environments give meanings to `mul`, `x`, `square`, etc. \n",
    "\n",
    "Every expression is evaluated in the context of an environment, which allows us to see what names means what.\n",
    "\n",
    "A name evaluates to the value bound to that name in the earliest frame of the current environment in which that name is found. When we evaluate `mul(x, x)` for the second time, it happened in the environment that starts with the frame `f2` followed by the global frame. During that process, Python had 2 names that it need to look up: `mul` and `x`. \n",
    "\n",
    "At first, Python looks up `x` in the first frame of the current environment.\n",
    "<img src = 'meaning_1.jpg' width = 600/>\n",
    "Python finds `x` here! Thus `f2` is the earliest frame of the environment in which `x` is found. \n",
    "\n",
    "Next, Python looks up `mul` in `f2` to see if `mul` is there. It is not! Then Python looks into the next frame of the environment, the global frame. Python then finds `mul`, bound to the function that multiplies, in the global frame. \n",
    "<img src = 'meaning_1.jpg' width = 600/>"
   ]
  },
  {
   "cell_type": "markdown",
   "metadata": {},
   "source": [
    "## Name Have Different Meanings in Different Enviroments\n",
    "Names can have different meanings in different environments. This is because each frame can have a different binding for the same name. \n",
    "\n",
    "In particular, **a call expression and the body of the function being called are evaluated in different environments**. \n",
    "\n",
    "Here's an example where we used the name `square` for both the name of the function and the name of the `formal parameter`"
   ]
  },
  {
   "cell_type": "code",
   "execution_count": null,
   "metadata": {},
   "outputs": [],
   "source": [
    "%%tutor --lang python3\n",
    "\n",
    "from operator import mul\n",
    "def square(square):\n",
    "    return mul(square, square)\n",
    "square(4)"
   ]
  },
  {
   "cell_type": "markdown",
   "metadata": {},
   "source": [
    "Despite the function working fine, it is not recommended to do this. Why is the function working just fine?\n",
    "<img src = 'different_1.jpg' width = 600/>\n",
    "In the environment diagram:\n",
    "1. There's the global frame in which the name `square` is bound to the squaring function\n",
    "2. and there's the local frame `f1` in which the name `square` is bound to `4`.\n",
    "\n",
    "When we evaluate `square(4)`'s operator, Python evaluates the expression in the global frame. Notice that the line `square(4)` is not indented, which indicates that it is evaluated in the global frame. \n",
    "\n",
    "On the other hand, the line `return mul(square, square)` is indented. It is part of the body of the `square` function. Thus, this line is going to be executed in an environment that starts with the `square` frame. This is because we create the frame then execute the body. \n",
    "<img src = 'different_2.jpg' width = 800/>\n",
    "\n",
    "The `square` within the `mul(square, square)` is evaluated in an environment that starts with `f1` followed by the global frame. When Python looks for the meaning of `square`, Python looks in `f1` first. And indeed, Python finds `4`! Python never finds the `square` that is bound to the function that squares, because Python is only interested in the earliest frame (`f1`) of the current environment.\n"
   ]
  },
  {
   "cell_type": "markdown",
   "metadata": {},
   "source": [
    "# Miscellanous Python Features: Operators, Multiple Return Values, Docstrings, Doctests, Default Arguments\n",
    "This topic is a bunch of different Python features that will help with projects and homeworks. \n",
    "\n",
    "## 1. Operators\n",
    "We haven't discussed much about how operators such as `+` and `*` work. "
   ]
  },
  {
   "cell_type": "code",
   "execution_count": null,
   "metadata": {},
   "outputs": [],
   "source": [
    "2 + 2"
   ]
  },
  {
   "cell_type": "code",
   "execution_count": null,
   "metadata": {},
   "outputs": [],
   "source": [
    "2 + 3 * 4 + 5"
   ]
  },
  {
   "cell_type": "markdown",
   "metadata": {},
   "source": [
    "The truth is, the operator is so complicated that we will cover it later in the course. For now, just think of them as shorthands for calling built-in functions such as `add` and `mul`.\n",
    "\n",
    "Keep in mind that the cell above follows the mathematical precedence rule (multiplication before addition). Thus, the equivalent of the cell above would be the following,"
   ]
  },
  {
   "cell_type": "code",
   "execution_count": null,
   "metadata": {},
   "outputs": [],
   "source": [
    "from operator import add, mul\n",
    "add(add(2, mul(3, 4)), 5)"
   ]
  },
  {
   "cell_type": "markdown",
   "metadata": {},
   "source": [
    "We can use parentheses `()` to overwrite or change the operator precedence,"
   ]
  },
  {
   "cell_type": "code",
   "execution_count": null,
   "metadata": {},
   "outputs": [],
   "source": [
    "(2 + 3) * (4 + 5)"
   ]
  },
  {
   "cell_type": "markdown",
   "metadata": {},
   "source": [
    "And the equivalency using `add` and `mul` changes as well,"
   ]
  },
  {
   "cell_type": "code",
   "execution_count": null,
   "metadata": {},
   "outputs": [],
   "source": [
    "mul(add(2, 3), add(4, 5))"
   ]
  },
  {
   "cell_type": "markdown",
   "metadata": {},
   "source": [
    "Thus, operators behave like built-in function calls.\n",
    "\n",
    "Now let's discuss about **division**. There are 2 kinds of division:\n",
    "\n",
    "#### 1. `True Division`, using the `/` symbol."
   ]
  },
  {
   "cell_type": "code",
   "execution_count": null,
   "metadata": {},
   "outputs": [],
   "source": [
    "2013 / 10"
   ]
  },
  {
   "cell_type": "markdown",
   "metadata": {},
   "source": [
    "#### 2. `Integer Division`, using the `//` symbol\n",
    "This division gives the number of times the divider goes into the dividend, not including the remainder. Thus, we will lose the `0.3`."
   ]
  },
  {
   "cell_type": "code",
   "execution_count": null,
   "metadata": {},
   "outputs": [],
   "source": [
    "2013 // 10"
   ]
  },
  {
   "cell_type": "markdown",
   "metadata": {},
   "source": [
    "The 2 divisions above have corresponding functions: `truediv` and `floordiv`, respectively."
   ]
  },
  {
   "cell_type": "code",
   "execution_count": null,
   "metadata": {},
   "outputs": [],
   "source": [
    "from operator import truediv, floordiv"
   ]
  },
  {
   "cell_type": "code",
   "execution_count": null,
   "metadata": {},
   "outputs": [],
   "source": [
    "truediv(2013, 10)"
   ]
  },
  {
   "cell_type": "code",
   "execution_count": null,
   "metadata": {},
   "outputs": [],
   "source": [
    "floordiv(2013, 10)"
   ]
  },
  {
   "cell_type": "markdown",
   "metadata": {},
   "source": [
    "What about the missing `0.3`? We can obtain it using what's called the `mod` operator `%`. The `mod` operator gives us the remainder of dividing by a number. Below is an example of using the `mod` operator, giving us the remainder of dividing `2013` with `10`,"
   ]
  },
  {
   "cell_type": "code",
   "execution_count": null,
   "metadata": {},
   "outputs": [],
   "source": [
    "2013 % 10"
   ]
  },
  {
   "cell_type": "markdown",
   "metadata": {},
   "source": [
    "And there's also the corresponding function to `%` operator, which is `mod`. "
   ]
  },
  {
   "cell_type": "code",
   "execution_count": null,
   "metadata": {},
   "outputs": [],
   "source": [
    "from operator import mod"
   ]
  },
  {
   "cell_type": "code",
   "execution_count": null,
   "metadata": {},
   "outputs": [],
   "source": [
    "mod(2013, 10)"
   ]
  },
  {
   "cell_type": "markdown",
   "metadata": {},
   "source": [
    "Why do we want this integer, division, and `mod` operator? Because they are exact. "
   ]
  },
  {
   "cell_type": "code",
   "execution_count": null,
   "metadata": {},
   "outputs": [],
   "source": [
    "5 // 3"
   ]
  },
  {
   "cell_type": "code",
   "execution_count": null,
   "metadata": {},
   "outputs": [],
   "source": [
    "5 % 3"
   ]
  },
  {
   "cell_type": "markdown",
   "metadata": {},
   "source": [
    "In comparison to regular division, we'll only obtain an approximation."
   ]
  },
  {
   "cell_type": "code",
   "execution_count": null,
   "metadata": {},
   "outputs": [],
   "source": [
    "5 / 3"
   ]
  },
  {
   "cell_type": "markdown",
   "metadata": {},
   "source": [
    "We'll use the features above often to break up numbers.\n",
    "\n",
    "## 2. Multiple Return Values\n",
    "\n",
    "Just as we can assign multiple values to multiple names using one assignment statement, we can also return multiple values from a function. Let's say we want both the quotient and the remainder when we divide a `n`umber with a `d`ivider,"
   ]
  },
  {
   "cell_type": "code",
   "execution_count": null,
   "metadata": {},
   "outputs": [],
   "source": [
    "# n is the number, d is the divider\n",
    "def divide_exact(n, d):\n",
    "    return n // d, n % d"
   ]
  },
  {
   "cell_type": "markdown",
   "metadata": {},
   "source": [
    "Now we can assign the name `quotation` and `remainder` the resultS of calling `divide_exact(2013, 10)`"
   ]
  },
  {
   "cell_type": "code",
   "execution_count": null,
   "metadata": {},
   "outputs": [],
   "source": [
    "quotient, remainder = divide_exact(2013, 10)"
   ]
  },
  {
   "cell_type": "code",
   "execution_count": null,
   "metadata": {},
   "outputs": [],
   "source": [
    "quotient"
   ]
  },
  {
   "cell_type": "code",
   "execution_count": null,
   "metadata": {},
   "outputs": [],
   "source": [
    "remainder"
   ]
  },
  {
   "cell_type": "markdown",
   "metadata": {},
   "source": [
    "So far throughout the lecture, we have been using the interactive Python interpreter. If we want to write something permanently, write it in a file.\n",
    "\n",
    "If we write Python code in a file, it won't get evaluated or executed until we ask Python to do so. \n",
    "\n",
    "Note that the cells in this notebook works like IDLE. For the sake of convenience, codes will be written in the cells instead of a text editor. The directions to open files will be written here, but they can't be run in the notebook.\n",
    "\n",
    "It's always a good idea to write text at the top describing what the file is."
   ]
  },
  {
   "cell_type": "code",
   "execution_count": null,
   "metadata": {},
   "outputs": [],
   "source": [
    "\"\"\" Our first Python source file\"\"\"\n",
    "\n",
    "from operator import floordiv, mod\n",
    "def divide_exact(n, d):\n",
    "    return floordiv(n, d), mod(n, d)"
   ]
  },
  {
   "cell_type": "markdown",
   "metadata": {},
   "source": [
    "Now none of the above has been executed yet. If we want to execute it, go to `terminal`, `bash` or `powershell`, run Python and type the file name. For example, if the file name is `ex.py`, then type to the terminal:"
   ]
  },
  {
   "cell_type": "code",
   "execution_count": null,
   "metadata": {},
   "outputs": [],
   "source": [
    "python ex.py"
   ]
  },
  {
   "cell_type": "markdown",
   "metadata": {},
   "source": [
    "When we run above in the terminal, nothing happens or shows up. In the file, we only have a `def` statement, which binds the name `divide_exact` to a newly created function, but otherwise doesn't give out any output. \n",
    "\n",
    "If we add some more lines into the file:"
   ]
  },
  {
   "cell_type": "code",
   "execution_count": null,
   "metadata": {},
   "outputs": [],
   "source": [
    "\"\"\" Our first Python source file\"\"\"\n",
    "\n",
    "from operator import floordiv, mod\n",
    "def divide_exact(n, d):\n",
    "    return floordiv(n, d), mod(n, d)\n",
    "\n",
    "q, r = divide_exact(2013, 10)"
   ]
  },
  {
   "cell_type": "markdown",
   "metadata": {},
   "source": [
    "By the time we execute it, nothing still happens! Now if we print some things as well:"
   ]
  },
  {
   "cell_type": "code",
   "execution_count": null,
   "metadata": {},
   "outputs": [],
   "source": [
    "\"\"\" Our first Python source file\"\"\"\n",
    "\n",
    "from operator import floordiv, mod\n",
    "def divide_exact(n, d):\n",
    "    return floordiv(n, d), mod(n, d)\n",
    "\n",
    "q, r = divide_exact(2013, 10)\n",
    "print('Quotient:', q)\n",
    "print('Remainder:', r)"
   ]
  },
  {
   "cell_type": "markdown",
   "metadata": {},
   "source": [
    "When we save it and execute the file again, we will obtain the output that look like above. \n",
    "\n",
    "We just learned that we can type Python in a file and we can execute it in terminals. \n",
    "\n",
    "Another thing that we can do, instead of having a bunch of `print` statement, is to run Python in **interactive mode**. Run the following in the terminal,"
   ]
  },
  {
   "cell_type": "code",
   "execution_count": null,
   "metadata": {},
   "outputs": [],
   "source": [
    "python -i ex.py"
   ]
  },
  {
   "cell_type": "markdown",
   "metadata": {},
   "source": [
    "This way, we executed the entire file and we have an interactive prompt running on top of it. This means we can look at `q` and `r`, or use the function `divide_exact`"
   ]
  },
  {
   "cell_type": "code",
   "execution_count": null,
   "metadata": {},
   "outputs": [],
   "source": [
    "q"
   ]
  },
  {
   "cell_type": "code",
   "execution_count": null,
   "metadata": {},
   "outputs": [],
   "source": [
    "r"
   ]
  },
  {
   "cell_type": "markdown",
   "metadata": {},
   "source": [
    "## 3. Docstring\n",
    "When we write functions in Python source file, we don't typically just give a name and a return statement. In addition to those, we write a documentation about what the code does. "
   ]
  },
  {
   "cell_type": "code",
   "execution_count": null,
   "metadata": {},
   "outputs": [],
   "source": [
    "\"\"\" Our first Python source file\"\"\"\n",
    "\n",
    "from operator import floordiv, mod\n",
    "def divide_exact(n, d):\n",
    "    \"\"\"Return the quotient and remainder of dividing N by D.\"\"\"\n",
    "    return floordiv(n, d), mod(n, d)\n",
    "\n",
    "q, r = divide_exact(2013, 10)"
   ]
  },
  {
   "cell_type": "markdown",
   "metadata": {},
   "source": [
    "As we can see above, in the documentation we refer to `n` as `N` and `d` as `D`. There's a convention of using capital letters to refer to `formal parameters`. We don't have to follow this exactly. \n",
    "\n",
    "This documentation is called a `docstring`. It's the first line below the `def` statement. \n",
    "\n",
    "\n",
    "## 4. Doctest\n",
    "In addition to describing to humans what the function does, we can also show some examples of how it works."
   ]
  },
  {
   "cell_type": "code",
   "execution_count": null,
   "metadata": {},
   "outputs": [],
   "source": [
    "\"\"\" Our first Python source file\"\"\"\n",
    "\n",
    "from operator import floordiv, mod\n",
    "def divide_exact(n, d):\n",
    "    \"\"\"Return the quotient and remainder of dividing N by D.\n",
    "    \n",
    "    >>> q, r = divide_exact(2013, 10)\n",
    "    >>> q\n",
    "    201\n",
    "    >>> r\n",
    "    3 \n",
    "    \"\"\"\n",
    "    return floordiv(n, d), mod(n, d)\n",
    "\n",
    "q, r = divide_exact(2013, 10)"
   ]
  },
  {
   "cell_type": "markdown",
   "metadata": {},
   "source": [
    "The `>>>` parts are still part of the documentation, not an actual Python code. This is equivalent to saying,\n",
    "\n",
    "\"Suppose we call `divide_exact` on `(2013, 10)` and we bind those to `q` and `r` respectively. If we look up `q`, we'll get `201`. If we look up `r`, we'll get `3`\".\n",
    "\n",
    "The lines with `>>>` are example interactive session. We can simulate the session by running the following **in terminal**,"
   ]
  },
  {
   "cell_type": "code",
   "execution_count": null,
   "metadata": {},
   "outputs": [],
   "source": [
    "python -m doctest ex.py"
   ]
  },
  {
   "cell_type": "markdown",
   "metadata": {},
   "source": [
    "If everything works well (e.g. no errors), there will be no output. If we want to see more details however, run the following,"
   ]
  },
  {
   "cell_type": "code",
   "execution_count": null,
   "metadata": {},
   "outputs": [],
   "source": [
    "python -m doctest -v ex.py"
   ]
  },
  {
   "cell_type": "markdown",
   "metadata": {},
   "source": [
    "The output of the terminal should look like the following,\n",
    "<img src = 'doctest_1.jpg' width = 250/>"
   ]
  },
  {
   "cell_type": "markdown",
   "metadata": {},
   "source": [
    "However, if we have a mismatch between the `doctest` and the actual result (for example, in the `doctest` we'll change the output of `r` to be `2` instead of `3`), we'll get the following,\n",
    "<img src = 'doctest_2.jpg' width = 400/>"
   ]
  },
  {
   "cell_type": "markdown",
   "metadata": {},
   "source": [
    "`Doctests` are run by invoking the `doctest` module on a particular file (in this case, `ex.py`)"
   ]
  },
  {
   "cell_type": "markdown",
   "metadata": {},
   "source": [
    "## 5. Default Arguments\n",
    "When we defined a function, we can give `default values`."
   ]
  },
  {
   "cell_type": "code",
   "execution_count": null,
   "metadata": {},
   "outputs": [],
   "source": [
    "\"\"\" Our first Python source file\"\"\"\n",
    "\n",
    "from operator import floordiv, mod\n",
    "def divide_exact(n, d = 10):\n",
    "    \"\"\"Return the quotient and remainder of dividing N by D.\n",
    "    \n",
    "    >>> q, r = divide_exact(2013, 10)\n",
    "    >>> q\n",
    "    201\n",
    "    >>> r\n",
    "    3 \n",
    "    \"\"\"\n",
    "    return floordiv(n, d), mod(n, d)\n",
    "\n",
    "q, r = divide_exact(2013, 10)"
   ]
  },
  {
   "cell_type": "markdown",
   "metadata": {},
   "source": [
    "Notice the argument `d = 10`. This is not an assignment statement. This is a placeholder for a default value that we put after the `formal parameter`. \n",
    "\n",
    "This is saying, \"if there's no argument passed in to be bound to `d`, Python will automatically bind `10` to `d` instead. \n",
    "\n",
    "Thus, with the default argument above, we can run the function `divide_exact` by only providing the `n` argument."
   ]
  },
  {
   "cell_type": "code",
   "execution_count": null,
   "metadata": {},
   "outputs": [],
   "source": [
    "q, r = divide_exact(2013)"
   ]
  },
  {
   "cell_type": "code",
   "execution_count": null,
   "metadata": {},
   "outputs": [],
   "source": [
    "q"
   ]
  },
  {
   "cell_type": "code",
   "execution_count": null,
   "metadata": {},
   "outputs": [],
   "source": [
    "r"
   ]
  },
  {
   "cell_type": "markdown",
   "metadata": {},
   "source": [
    "# Conditional Statements\n",
    "## Statements\n",
    "We saw **assignment statements** and **`def` statements** already.\n",
    "\n",
    "In general, a `statement` **is something executed by the interpreter to perform an action** (e.g. bind a name to a value, defining a new function). Statements can span for more than one line. \n",
    "\n",
    "**Compound Statements** have the following structure:"
   ]
  },
  {
   "cell_type": "code",
   "execution_count": null,
   "metadata": {},
   "outputs": [],
   "source": [
    "<header>:\n",
    "    <statement>\n",
    "    <statement>\n",
    "    ...\n",
    "<separating header>:\n",
    "    <statement>\n",
    "    <statement>\n",
    "    ...\n",
    "..."
   ]
  },
  {
   "cell_type": "markdown",
   "metadata": {},
   "source": [
    "1. It starts with some `header`\n",
    "2. It has some `statement`s indented\n",
    "3. It has a `separating header` to continue the compound statement \n",
    "    * It has `statement`s indented after it\n",
    "    \n",
    "The whole thing is a `statement`,\n",
    "<img src = 'statement_1.jpg' width = 400/>\n",
    "Within it, a `clause` is a single header followed by some indented `statement`\n",
    "<img src = 'clause.jpg' width = 400/>\n",
    "The indented `statement`s are called the `suite` of the `clause`.\n",
    "<img src = 'suite.jpg' width = 450/>\n",
    "\n",
    "1. The first header determines a statement's type, so we can tell what kind of statement we're dealing with.\n",
    "2. The `header` of a `clause` controls the suite that follows.\n",
    "3. `Def` statements are **compound statements**\n",
    "    * They have a `suite`, which we call the `body` of the function being defined"
   ]
  },
  {
   "cell_type": "markdown",
   "metadata": {},
   "source": [
    "## Compound Statements\n",
    "1. When we look at compound statement and we're interested with the suite, often times we execute the suite since it's a **sequence of statements**\n",
    "2. To **execute** a suite means to execute its sequence of statements in order (one after the other)\n",
    "\n",
    "#### Execution Rule for a sequence of statements:\n",
    "1. Execute the first statement\n",
    "2. Unless directed otherwise, execute the rest"
   ]
  },
  {
   "cell_type": "markdown",
   "metadata": {},
   "source": [
    "## Conditional Statements\n",
    "Now we'll discuss about a particular type of statement that we have never seen before, a **conditional statement**.\n",
    "\n",
    "\n",
    "## Demo\n",
    "Here we write a function that allows us the conditional statement to compute absolute values,"
   ]
  },
  {
   "cell_type": "code",
   "execution_count": null,
   "metadata": {},
   "outputs": [],
   "source": [
    "def absolute_value(x):\n",
    "    \"\"\"Return the absolute value of x.\"\"\""
   ]
  },
  {
   "cell_type": "markdown",
   "metadata": {},
   "source": [
    "We're going to write this function by looking at whether `x` is less, greater, or equal than `0`."
   ]
  },
  {
   "cell_type": "code",
   "execution_count": null,
   "metadata": {},
   "outputs": [],
   "source": [
    "def absolute_value(x):\n",
    "    \"\"\"Return the absolute value of x.\"\"\"\n",
    "    if x < 0:\n",
    "        return -x\n",
    "    elif x == 0:\n",
    "        return 0\n",
    "    else:\n",
    "        return x"
   ]
  },
  {
   "cell_type": "markdown",
   "metadata": {},
   "source": [
    "Now we can try using the function above,"
   ]
  },
  {
   "cell_type": "code",
   "execution_count": null,
   "metadata": {},
   "outputs": [],
   "source": [
    "absolute_value(-2)"
   ]
  },
  {
   "cell_type": "code",
   "execution_count": null,
   "metadata": {},
   "outputs": [],
   "source": [
    "absolute_value(0)"
   ]
  },
  {
   "cell_type": "code",
   "execution_count": null,
   "metadata": {},
   "outputs": [],
   "source": [
    "absolute_value(3)"
   ]
  },
  {
   "cell_type": "markdown",
   "metadata": {},
   "source": [
    "Of course there's the built-in function `abs` all this time, but we wrote the function above for example purposes.\n",
    "\n",
    "Let's try to understand how this works.\n",
    "\n",
    "<img src = 'conditional.jpg' width = 500/>\n",
    "\n",
    "Within the body of this function is `1` statement that includes \n",
    "1. `3` clauses\n",
    "2. `3` headers (the first line of each clauses. E.g. `if x < 0`, `elif x == 0`), and \n",
    "3. `3` suites (each of which is just a `return` statement`\n",
    "\n",
    "### Execution rule for conditional statements:\n",
    "Consider each clause in order.\n",
    "1. Evaluate the `header`'s expression\n",
    "2. If it is a true value, execute the `suite` and skip the remaining clauses \n",
    "\n",
    "In conditional statements, only 1 of the suites will be executed.\n",
    "\n",
    "### Syntax Tips for Conditional Statements:\n",
    "1. Always start with `if` clause\n",
    "2. We can have `0` or more `elif` clauses, and\n",
    "3. `0` or `1` `else` clause, always at the end"
   ]
  },
  {
   "cell_type": "markdown",
   "metadata": {},
   "source": [
    "## Boolean Contexts\n",
    "Let's understand the execution rule deeper.\n",
    "<img src = 'george.jpg' width = 200/>\n",
    "\n",
    "George Boole, an English mathematician, philosopher, and logician, is the founder of one of the most important concept in computer science: **Boolean Contexts**.\n",
    "\n",
    "**Boolean Contexts** are parts within the Python code where we write an expression, but all that matters about the expression is whether if it's `True` or `False`. \n",
    "<img src = 'boolean_context.jpg' width = 400/>\n",
    "In the conditional statement above, there are 2 boolean contexts, one in each header except for the `else` header.\n",
    "\n",
    "Here we have expressions, but we don't care about the values themselves. We only care about whether that value is a `True` value or a `False` value. \n",
    "\n",
    "**False values in Python**: `False`, `0`, `''` (empty string), `None` (there are more than these)\n",
    "\n",
    "**True values in Python**: Anything that's not a `False` value\n",
    "\n",
    "For more details about **Boolean Contexts**, read Section 1.5.4!"
   ]
  },
  {
   "cell_type": "markdown",
   "metadata": {},
   "source": [
    "# Iteration\n",
    "Iteration means \"repeating things\". \n",
    "## While Statements\n",
    "One way we can repeat the same statement multiple times is with a `while` statement. A `while` statement is a compound statement that contains within its body, something that we want to execute multiple times.\n",
    "\n",
    "## Demo\n",
    "Below we're going to set the names `i` and `total` to be both `0`."
   ]
  },
  {
   "cell_type": "code",
   "execution_count": null,
   "metadata": {},
   "outputs": [],
   "source": [
    "i, total = 0, 0"
   ]
  },
  {
   "cell_type": "markdown",
   "metadata": {},
   "source": [
    "We're going to add up the numbers `1`, `2`, and `3` to obtain a total of `6` by the following,"
   ]
  },
  {
   "cell_type": "code",
   "execution_count": null,
   "metadata": {},
   "outputs": [],
   "source": [
    "while i < 3:\n",
    "    i = i + 1\n",
    "    total = total + i"
   ]
  },
  {
   "cell_type": "markdown",
   "metadata": {},
   "source": [
    "After we run the cell code, we actually have done the computation."
   ]
  },
  {
   "cell_type": "code",
   "execution_count": null,
   "metadata": {},
   "outputs": [],
   "source": [
    "i"
   ]
  },
  {
   "cell_type": "code",
   "execution_count": 15,
   "metadata": {},
   "outputs": [
    {
     "ename": "NameError",
     "evalue": "name 'total' is not defined",
     "output_type": "error",
     "traceback": [
      "\u001b[1;31m---------------------------------------------------------------------------\u001b[0m",
      "\u001b[1;31mNameError\u001b[0m                                 Traceback (most recent call last)",
      "\u001b[1;32m<ipython-input-15-f5f7acea0338>\u001b[0m in \u001b[0;36m<module>\u001b[1;34m\u001b[0m\n\u001b[1;32m----> 1\u001b[1;33m \u001b[0mtotal\u001b[0m\u001b[1;33m\u001b[0m\u001b[1;33m\u001b[0m\u001b[0m\n\u001b[0m",
      "\u001b[1;31mNameError\u001b[0m: name 'total' is not defined"
     ]
    }
   ],
   "source": [
    "total"
   ]
  },
  {
   "cell_type": "markdown",
   "metadata": {},
   "source": [
    "How does this work? We need to look at the execution rule of the `while` statement."
   ]
  },
  {
   "cell_type": "code",
   "execution_count": null,
   "metadata": {},
   "outputs": [],
   "source": [
    "%%tutor --lang python3\n",
    "\n",
    "i, total = 0, 0\n",
    "while i < 3:\n",
    "    i = i + 1\n",
    "    total = total + i"
   ]
  },
  {
   "cell_type": "markdown",
   "metadata": {},
   "source": [
    "#### Execution Rule for While Statements:\n",
    "1. Evaluate the `header`'s expression (in this case, `i < 3`)\n",
    "2. If it is a `True` value, execute the whole `suite`, then return to step 1 (which means evaluate the `header`'s expression again)\n",
    "    * Here we have a `True` value, which means we must have a **Boolean Context**. This means we'll check if `i < 3` evaluates to `True` or `False` every time Python reaches that line. \n",
    "\n",
    "We start at the top. After executing the top line, we have a global frame where `i` and `total` are both bound to `0`.\n",
    "<img src = 'while_1.jpg' width = 500/>\n",
    "Next, we execute the `while` statement, which means evaluating the `header`'s expression. `i` is bound to `0`, which means `i` is less than `3`. This means the expression gives a `True` value, and Python now executes the whole suite.\n",
    "<img src = 'while_2.jpg' width = 500/>\n",
    "\n",
    "Now Python returns to the `while` line and evaluate the header expression `i < 3` again. `i` is now bound to `1`, which is still less than `3`. The header expression is `True` and thus, Python executes the whole suite again.\n",
    "<img src = 'while_3.jpg' width = 500/>\n",
    "Once again Python returns to the `while` line and evaluate the header expression `i < 3` again. `i` is now bound to `2`, which is still less than `3`. The header expression is `True` and thus, Python executes the whole suite. Note that by the time `i` is increased to `3`, Python does not stop yet. Python still needs to finish the whole suite.\n",
    "<img src = 'while_4.jpg' width = 500/>\n",
    "Finally at this point, when we reevaluate the header expression, `i` is now bound to `3`, which is not less than `3`. The header expression now evaluates to `False`, and Python finishes running. "
   ]
  },
  {
   "cell_type": "code",
   "execution_count": null,
   "metadata": {},
   "outputs": [],
   "source": []
  }
 ],
 "metadata": {
  "kernelspec": {
   "display_name": "Python 3",
   "language": "python",
   "name": "python3"
  },
  "language_info": {
   "codemirror_mode": {
    "name": "ipython",
    "version": 3
   },
   "file_extension": ".py",
   "mimetype": "text/x-python",
   "name": "python",
   "nbconvert_exporter": "python",
   "pygments_lexer": "ipython3",
   "version": "3.7.2"
  }
 },
 "nbformat": 4,
 "nbformat_minor": 2
}
