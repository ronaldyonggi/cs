{
 "cells": [
  {
   "cell_type": "markdown",
   "metadata": {},
   "source": [
    "# Multiple Environments\n",
    "When Python executes a program, different expressions can be evaluated in different environments. Thus, there can be multiple environments in the same environment diagram. We're going to analyze an example with a detailed diagram. But before that, we're going to review **User-Defined Function**."
   ]
  },
  {
   "cell_type": "code",
   "execution_count": null,
   "metadata": {},
   "outputs": [],
   "source": [
    "from operator import *"
   ]
  },
  {
   "cell_type": "markdown",
   "metadata": {},
   "source": [
    "## Life Cycle of a User-Defined Function\n",
    "### `def` statement\n",
    "First, we have the `def` statement that creates function. "
   ]
  },
  {
   "cell_type": "code",
   "execution_count": null,
   "metadata": {},
   "outputs": [],
   "source": [
    "def square(x):\n",
    "    return mul(x, x)"
   ]
  },
  {
   "cell_type": "markdown",
   "metadata": {},
   "source": [
    "The `def` statement above has:\n",
    "<img src = 'def_statement.jpg' width = 500/>\n",
    "1. A `name` for the function we are defining\n",
    "2. `Formal parameter`: the name we give to the argument of the function.\n",
    "    * There can be more than one formal parameter, separated by coma `,`\n",
    "    \n",
    "    \n",
    "3. The `body` of the `def` statement is everything indented after the first line. \n",
    "    * In the example below, it only has a single `return` statement\n",
    "        * The `return` statement has a `return expression`, which multiplies `x` with itself.\n",
    "\n",
    "When the `def` statement above is executed, a new function is created. The name `square` is bound to the newly created function in the current frame.\n",
    "\n",
    "When we defined this function that squares things, we haven't actually multiplied anything. This is because we haven't called the function yet. This would happen with a **call expression**. \n",
    "\n",
    "### Call expression"
   ]
  },
  {
   "cell_type": "code",
   "execution_count": null,
   "metadata": {},
   "outputs": [],
   "source": [
    "square(2+2)"
   ]
  },
  {
   "cell_type": "markdown",
   "metadata": {},
   "source": [
    "Above is a call expression.\n",
    "<img src = 'call_expression.jpg' width = 450/>\n",
    "\n",
    "1. The `operator` is the name `square`\n",
    "    * Its value is the function `square(x)`, the one that we just defined. \n",
    "    \n",
    "    \n",
    "2. There's an `operand` within the parentheses. An `operand` is an expression, in this case `2+2`. \n",
    "    * It evaluates to a value `4`, which becomes the argument of the function\n",
    "    \n",
    "When we call this call expression, Python evaluates the `operator` and `operands`. Then, Python calls the function (value of the `operator`) on the the arguments (value of the `operands`)."
   ]
  },
  {
   "cell_type": "markdown",
   "metadata": {},
   "source": [
    "### Calling / Applying\n",
    "Calling or applying a user-defined function is also a process that we need to spell out.\n",
    "\n",
    "<img src = 'calling_applying.jpg' width = 600/>\n",
    "\n",
    "Within the diagram, we have the `function signature`. The input `4` is the `argument`, while the outcome `16` is the return value. \n",
    "\n",
    "How does this happen?\n",
    "\n",
    "We start with **creating a new frame** in which **the `formal parameters` of the function we're calling are bound to the `arguments` we're passing in**. In this case, `x` will be bound to `4`. Then, **the `body` of the function is executed in that new frame/environment**."
   ]
  },
  {
   "cell_type": "markdown",
   "metadata": {},
   "source": [
    "## Multiple Environments in One Diagram\n",
    "This time, we're going to `square` the `square(3)`."
   ]
  },
  {
   "cell_type": "code",
   "execution_count": null,
   "metadata": {},
   "outputs": [],
   "source": [
    "%load_ext tutormagic"
   ]
  },
  {
   "cell_type": "code",
   "execution_count": null,
   "metadata": {},
   "outputs": [],
   "source": [
    "%%tutor --lang python3\n",
    "\n",
    "from operator import mul\n",
    "def square(x):\n",
    "    return mul(x, x)\n",
    "square(square(3))"
   ]
  },
  {
   "cell_type": "markdown",
   "metadata": {},
   "source": [
    "Let's start at the point where we have imported `mul` and defined `square(x)` function,\n",
    "<img src = 'multiple_1.jpg' width = 800/>\n",
    "<img src = 'multiple_2.jpg' width = 500/>\n",
    "The `square(square(3))` is a call expression, so we can just use the rule for evaluating call expression: evaluate `operator` and `operands`. The `operator` is a function that squares. The `operand` is also a call expression, and thus we need to apply the rule again.\n",
    "<img src = 'multiple_3.jpg' width = 500/>\n",
    "Now we apply the user-defined function `square` to the number `3`. How do we do this?\n",
    "1. Create a new frame\n",
    "2. Bind the formal parameter `x` to the argument value `3`\n",
    "<img src = 'multiple_4.jpg' width = 300/>\n",
    "\n",
    "3. Execute the body of the function `square`, which is `return mul(x, x)`.\n",
    "    * Thus we multiply `x` with itself to obtain the value `9`\n",
    "    * This `9` is the value of the call expression `square(3)`.\n",
    "<img src = 'multiple_5.jpg' width = 250/>\n",
    "<img src = 'multiple_6.jpg' width = 300/>\n",
    "\n",
    "Now that we know the value of the `operand subexpression` `square(3)`, we can apply the function `square` to the value `9` and repeat the similar process as above.\n",
    "1. Create a new frame\n",
    "2. Bind the formal parameter `x` to the argument value `3`\n",
    "3. Executes the body, which is multiplying `9` by itself, and it will give us 81.\n",
    "<img src = 'multiple_7.jpg' width = 500/>\n",
    "\n",
    "### Let's review what we have done above.\n",
    "\n",
    "We have one `square(x)` function. We created 2 frames from the function by calling the same function twice. Those 2 frames are different:\n",
    "1. They are labeled differently: `f1` and `f2`. \n",
    "2. We passed in different arguments, and thus we obtain different bindings from the `formal parameter` to the `argument`, which led to different `return value`\n",
    "    * In `f1` frame, formal parameter `x` is bound to 3\n",
    "    * in `f2` frame, formal parameter `x` is bound to 9\n",
    "\n",
    "<img src = 'multiple_8.jpg' width = 500/>\n",
    "\n",
    "An environment is a sequence of frames. So far, the environment that we have used is:\n",
    "\n",
    "**1. The global frame alone**\n",
    "* We have been using this frame even before we used `def` statement\n",
    "    \n",
    "\n",
    "**2. A local frame, then global frame**\n",
    "* Once we started calling user-defined functions, we started getting multi-frame environment: ones that have a local frame and a global frame. \n",
    "\n",
    "Let's try to find all the different environment in the diagram!\n",
    "\n",
    "### 1st: the global frame alone\n",
    "<img src = 'environments_1.jpg' width = 700/>\n",
    "\n",
    "### 2nd: `f1` followed by the global frame\n",
    "<img src = 'environments_2.jpg' width = 700/>\n",
    "\n",
    "### 3rd: `f2` followed by the global frame\n",
    "<img src = 'environments_3.jpg' width = 700/>\n",
    "\n",
    "We have 3 different environments, none of them includes all 3 frames. But there's one environment per frame. \n",
    "\n",
    "If we start with a particular frame, we can always find the whole environment by following the `parent` of the frames. \n",
    "\n",
    "Suppose we are interested in the environment that starts with the frame `f2`. The next frame is the parent of the frame `f2`, which is the global frame. \n",
    "<img src = 'environments_4.jpg' width = 300/>\n",
    "Global frame is always the last frame, so it doesn't have a parent frame."
   ]
  },
  {
   "cell_type": "markdown",
   "metadata": {},
   "source": [
    "## Names Have No Meaning Without Environments\n",
    "A very important point is that **names have no meaning without these environments**. The environments give meanings to `mul`, `x`, `square`, etc. \n",
    "\n",
    "Every expression is evaluated in the context of an environment, which allows us to see what names means what.\n",
    "\n",
    "A name evaluates to the value bound to that name in the earliest frame of the current environment in which that name is found. When we evaluate `mul(x, x)` for the second time, it happened in the environment that starts with the frame `f2` followed by the global frame. During that process, Python had 2 names that it need to look up: `mul` and `x`. \n",
    "\n",
    "At first, Python looks up `x` in the first frame of the current environment.\n",
    "<img src = 'meaning_1.jpg' width = 600/>\n",
    "Python finds `x` here! Thus `f2` is the earliest frame of the environment in which `x` is found. \n",
    "\n",
    "Next, Python looks up `mul` in `f2` to see if `mul` is there. It is not! Then Python looks into the next frame of the environment, the global frame. Python then finds `mul`, bound to the function that multiplies, in the global frame. \n",
    "<img src = 'meaning_1.jpg' width = 600/>"
   ]
  },
  {
   "cell_type": "markdown",
   "metadata": {},
   "source": [
    "## Name Have Different Meanings in Different Enviroments\n",
    "Names can have different meanings in different environments. This is because each frame can have a different binding for the same name. \n",
    "\n",
    "In particular, **a call expression and the body of the function being called are evaluated in different environments**. \n",
    "\n",
    "Here's an example where we used the name `square` for both the name of the function and the name of the `formal parameter`"
   ]
  },
  {
   "cell_type": "code",
   "execution_count": null,
   "metadata": {},
   "outputs": [],
   "source": [
    "%%tutor --lang python3\n",
    "\n",
    "from operator import mul\n",
    "def square(square):\n",
    "    return mul(square, square)\n",
    "square(4)"
   ]
  },
  {
   "cell_type": "markdown",
   "metadata": {},
   "source": [
    "Despite the function working fine, it is not recommended to do this. Why is the function working just fine?\n",
    "<img src = 'different_1.jpg' width = 600/>\n",
    "In the environment diagram:\n",
    "1. There's the global frame in which the name `square` is bound to the squaring function\n",
    "2. and there's the local frame `f1` in which the name `square` is bound to `4`.\n",
    "\n",
    "When we evaluate `square(4)`'s operator, Python evaluates the expression in the global frame. Notice that the line `square(4)` is not indented, which indicates that it is evaluated in the global frame. \n",
    "\n",
    "On the other hand, the line `return mul(square, square)` is indented. It is part of the body of the `square` function. Thus, this line is going to be executed in an environment that starts with the `square` frame. This is because we create the frame then execute the body. \n",
    "<img src = 'different_2.jpg' width = 800/>\n",
    "\n",
    "The `square` within the `mul(square, square)` is evaluated in an environment that starts with `f1` followed by the global frame. When Python looks for the meaning of `square`, Python looks in `f1` first. And indeed, Python finds `4`! Python never finds the `square` that is bound to the function that squares, because Python is only interested in the earliest frame (`f1`) of the current environment.\n"
   ]
  }
 ],
 "metadata": {
  "kernelspec": {
   "display_name": "Python 3",
   "language": "python",
   "name": "python3"
  },
  "language_info": {
   "codemirror_mode": {
    "name": "ipython",
    "version": 3
   },
   "file_extension": ".py",
   "mimetype": "text/x-python",
   "name": "python",
   "nbconvert_exporter": "python",
   "pygments_lexer": "ipython3",
   "version": "3.6.8"
  }
 },
 "nbformat": 4,
 "nbformat_minor": 2
}
