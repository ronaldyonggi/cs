{
 "cells": [
  {
   "cell_type": "markdown",
   "metadata": {},
   "source": [
    "# Iteration\n",
    "Iteration means \"repeating things\". \n",
    "## While Statements\n",
    "One way we can repeat the same statement multiple times is with a `while` statement. A `while` statement is a compound statement that contains within its body, something that we want to execute multiple times.\n",
    "\n",
    "## Demo\n",
    "Below we're going to set the names `i` and `total` to be both `0`."
   ]
  },
  {
   "cell_type": "code",
   "execution_count": null,
   "metadata": {},
   "outputs": [],
   "source": [
    "i, total = 0, 0"
   ]
  },
  {
   "cell_type": "markdown",
   "metadata": {},
   "source": [
    "We're going to add up the numbers `1`, `2`, and `3` to obtain a total of `6` by the following,"
   ]
  },
  {
   "cell_type": "code",
   "execution_count": null,
   "metadata": {},
   "outputs": [],
   "source": [
    "while i < 3:\n",
    "    i = i + 1\n",
    "    total = total + i"
   ]
  },
  {
   "cell_type": "markdown",
   "metadata": {},
   "source": [
    "After we run the cell code, we actually have done the computation."
   ]
  },
  {
   "cell_type": "code",
   "execution_count": null,
   "metadata": {},
   "outputs": [],
   "source": [
    "i"
   ]
  },
  {
   "cell_type": "code",
   "execution_count": 15,
   "metadata": {},
   "outputs": [
    {
     "ename": "NameError",
     "evalue": "name 'total' is not defined",
     "output_type": "error",
     "traceback": [
      "\u001b[1;31m---------------------------------------------------------------------------\u001b[0m",
      "\u001b[1;31mNameError\u001b[0m                                 Traceback (most recent call last)",
      "\u001b[1;32m<ipython-input-15-f5f7acea0338>\u001b[0m in \u001b[0;36m<module>\u001b[1;34m\u001b[0m\n\u001b[1;32m----> 1\u001b[1;33m \u001b[0mtotal\u001b[0m\u001b[1;33m\u001b[0m\u001b[1;33m\u001b[0m\u001b[0m\n\u001b[0m",
      "\u001b[1;31mNameError\u001b[0m: name 'total' is not defined"
     ]
    }
   ],
   "source": [
    "total"
   ]
  },
  {
   "cell_type": "markdown",
   "metadata": {},
   "source": [
    "How does this work? We need to look at the execution rule of the `while` statement."
   ]
  },
  {
   "cell_type": "code",
   "execution_count": null,
   "metadata": {},
   "outputs": [],
   "source": [
    "%%tutor --lang python3\n",
    "\n",
    "i, total = 0, 0\n",
    "while i < 3:\n",
    "    i = i + 1\n",
    "    total = total + i"
   ]
  },
  {
   "cell_type": "markdown",
   "metadata": {},
   "source": [
    "#### Execution Rule for While Statements:\n",
    "1. Evaluate the `header`'s expression (in this case, `i < 3`)\n",
    "2. If it is a `True` value, execute the whole `suite`, then return to step 1 (which means evaluate the `header`'s expression again)\n",
    "    * Here we have a `True` value, which means we must have a **Boolean Context**. This means we'll check if `i < 3` evaluates to `True` or `False` every time Python reaches that line. \n",
    "\n",
    "We start at the top. After executing the top line, we have a global frame where `i` and `total` are both bound to `0`.\n",
    "<img src = 'while_1.jpg' width = 500/>\n",
    "Next, we execute the `while` statement, which means evaluating the `header`'s expression. `i` is bound to `0`, which means `i` is less than `3`. This means the expression gives a `True` value, and Python now executes the whole suite.\n",
    "<img src = 'while_2.jpg' width = 500/>\n",
    "\n",
    "Now Python returns to the `while` line and evaluate the header expression `i < 3` again. `i` is now bound to `1`, which is still less than `3`. The header expression is `True` and thus, Python executes the whole suite again.\n",
    "<img src = 'while_3.jpg' width = 500/>\n",
    "Once again Python returns to the `while` line and evaluate the header expression `i < 3` again. `i` is now bound to `2`, which is still less than `3`. The header expression is `True` and thus, Python executes the whole suite. Note that by the time `i` is increased to `3`, Python does not stop yet. Python still needs to finish the whole suite.\n",
    "<img src = 'while_4.jpg' width = 500/>\n",
    "Finally at this point, when we reevaluate the header expression, `i` is now bound to `3`, which is not less than `3`. The header expression now evaluates to `False`, and Python finishes running. "
   ]
  },
  {
   "cell_type": "code",
   "execution_count": null,
   "metadata": {},
   "outputs": [],
   "source": []
  }
 ],
 "metadata": {
  "kernelspec": {
   "display_name": "Python 3",
   "language": "python",
   "name": "python3"
  },
  "language_info": {
   "codemirror_mode": {
    "name": "ipython",
    "version": 3
   },
   "file_extension": ".py",
   "mimetype": "text/x-python",
   "name": "python",
   "nbconvert_exporter": "python",
   "pygments_lexer": "ipython3",
   "version": "3.6.8"
  }
 },
 "nbformat": 4,
 "nbformat_minor": 2
}
