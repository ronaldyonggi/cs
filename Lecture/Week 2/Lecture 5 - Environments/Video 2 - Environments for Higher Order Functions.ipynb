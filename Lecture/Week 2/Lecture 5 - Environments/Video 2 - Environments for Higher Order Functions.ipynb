{
 "cells": [
  {
   "cell_type": "markdown",
   "metadata": {},
   "source": [
    "# Environments For Higher-Order Functions\n",
    "We'll discuss about higher order functions and how they interact with environment diagrams."
   ]
  },
  {
   "cell_type": "markdown",
   "metadata": {},
   "source": [
    "## Environments Enable Higher-Order Functions\n",
    "Higher-order function is a function that:\n",
    "1. Takes in a function as an argument value, or\n",
    "2. Returns a function as a return value, or\n",
    "3. Both\n",
    "\n",
    "The environment diagram actually has already been set to handle the case of higher-order functions. This means the rules that we went over in the past lecture work even when we pass in functions instead of numbers.\n",
    "\n",
    "In the previous lecture, we studied environment diagrams. This is so that we can analyze how higher-order functions work."
   ]
  },
  {
   "cell_type": "markdown",
   "metadata": {},
   "source": [
    "## Demo\n",
    "Below is a function `apply_twice` which takes in:\n",
    "1. A function `f`\n",
    "2. A single argument `x`\n",
    "\n",
    "`apply_twice` applies the function `f` twice to the argument `x`."
   ]
  },
  {
   "cell_type": "code",
   "execution_count": 1,
   "metadata": {},
   "outputs": [],
   "source": [
    "def apply_twice(f, x):\n",
    "    return f(f(x))"
   ]
  },
  {
   "cell_type": "markdown",
   "metadata": {},
   "source": [
    "`apply_twice` is a higher-order function because it takes another function as the argument. Let's use use the function `square` as the input argument for `apply_twice`."
   ]
  },
  {
   "cell_type": "code",
   "execution_count": 2,
   "metadata": {},
   "outputs": [],
   "source": [
    "def square(x):\n",
    "    return x * x"
   ]
  },
  {
   "cell_type": "code",
   "execution_count": 3,
   "metadata": {},
   "outputs": [
    {
     "data": {
      "text/plain": [
       "100"
      ]
     },
     "execution_count": 3,
     "metadata": {},
     "output_type": "execute_result"
    }
   ],
   "source": [
    "square(10)"
   ]
  },
  {
   "cell_type": "code",
   "execution_count": 4,
   "metadata": {},
   "outputs": [
    {
     "data": {
      "text/plain": [
       "81"
      ]
     },
     "execution_count": 4,
     "metadata": {},
     "output_type": "execute_result"
    }
   ],
   "source": [
    "apply_twice(square, 3)"
   ]
  },
  {
   "cell_type": "markdown",
   "metadata": {},
   "source": [
    "Let's look at the environment diagram and see how this works!"
   ]
  },
  {
   "cell_type": "code",
   "execution_count": 1,
   "metadata": {},
   "outputs": [],
   "source": [
    "%load_ext tutormagic"
   ]
  },
  {
   "cell_type": "code",
   "execution_count": 6,
   "metadata": {},
   "outputs": [
    {
     "data": {
      "text/html": [
       "\n",
       "        <iframe\n",
       "            width=\"100%\"\n",
       "            height=\"350\"\n",
       "            src=\"http://pythontutor.com/iframe-embed.html#code=%0Adef%20apply_twice%28f%2C%20x%29%3A%0A%20%20%20%20return%20f%28f%28x%29%29%20%0A%0Adef%20square%28x%29%3A%0A%20%20%20%20return%20x%20%2A%20x%0A%0Aresult%20%3D%20apply_twice%28square%2C%202%29%0A&origin=opt-frontend.js&cumulative=false&heapPrimitives=false&textReferences=false&curInstr=0&&verticalStack=false&py=3&rawInputLstJSON=%5B%5D&codeDivWidth=50%25&codeDivHeight=100%25\"\n",
       "            frameborder=\"0\"\n",
       "            allowfullscreen\n",
       "        ></iframe>\n",
       "        "
      ],
      "text/plain": [
       "<IPython.lib.display.IFrame at 0x58394b0>"
      ]
     },
     "metadata": {},
     "output_type": "display_data"
    }
   ],
   "source": [
    "%%tutor --lang python3\n",
    "\n",
    "def apply_twice(f, x):\n",
    "    return f(f(x)) \n",
    "\n",
    "def square(x):\n",
    "    return x * x\n",
    "\n",
    "result = apply_twice(square, 2)"
   ]
  },
  {
   "cell_type": "markdown",
   "metadata": {},
   "source": [
    "In step #4, when `apply_twice` was called, a new frame named `apply_twice` is introduced. The formal parameter `f` is bound to the function `square(x)`. \n",
    "\n",
    "In step #5, Python is about to execute the body of `apply_twice(f, x)`, which is `return f(f(x))`. To evaluate `f(f(x))`, we need to evaluate:\n",
    "1. The operator `f`\n",
    "2. The operand expression `f(x)`\n",
    "\n",
    "In step #6, Python evaluates the `operand` `f(x)`\n",
    "1. `f` is bound to the `square(x)` function\n",
    "2. `x` is `2`\n",
    "\n",
    "Thus, in this step we call the `square` function to the number `2`\n",
    "\n",
    "In step #8, we obtain a return value of `4`, which is the value obtained after evaluating `f(x)`. \n",
    "\n",
    "Then the next step (step #9) is to evaluate `f(4)`, which means call the `square` function to the number `4`. The result is shown in step #11, which is `16`.\n",
    "\n",
    "In the end, the value `16` is bound to the name `result`."
   ]
  },
  {
   "cell_type": "markdown",
   "metadata": {},
   "source": [
    "## Names can be Bound to Functional Arguments\n",
    "Let's analyze what just happened.\n",
    "\n",
    "<img src = 'names.jpg' width = 900/>\n",
    "\n",
    "After executing the 2 `def` statements, we have the name of the functions (`apply_twice`, `square`) bound to the functions (`apply_twice(f, x)`, `square(x)`). Neither functions have been called at this point.\n",
    "\n",
    "When Python executes the line `result = apply_twice(square, 2)`, Python applies the function `apply_twice` to the 2 arguments: the `square(x)` function and the number `2`.\n",
    "\n",
    "#### Applying a user-defined function involves 3 steps:\n",
    "\n",
    "1. Create a new frame\n",
    "2. Bind formal parameters (`f` and `x`) to arguments\n",
    "3. Execute the body: `return f(f(x))`\n",
    "\n",
    "When we apply the user-defined function `apply_twice` to the arguments, we obtain the following environment diagram,\n",
    "\n",
    "<img src = 'env_2.jpg' width = 1000/>\n",
    "\n",
    "Python creates a new frame `f1` named `apply_twice`. This frame is created for the purpose of executing the body of the `apply_twice` function. \n",
    "\n",
    "Recall when Python looks up a name, it starts looking at the current frame first (labeled frame #1), then the parent frame (in this case, global frame or frame labeled #2). The name `f` and `x` are found within the current frame and thus, Python does not need to look up to the global frame."
   ]
  }
 ],
 "metadata": {
  "kernelspec": {
   "display_name": "Python 3",
   "language": "python",
   "name": "python3"
  },
  "language_info": {
   "codemirror_mode": {
    "name": "ipython",
    "version": 3
   },
   "file_extension": ".py",
   "mimetype": "text/x-python",
   "name": "python",
   "nbconvert_exporter": "python",
   "pygments_lexer": "ipython3",
   "version": "3.6.8"
  }
 },
 "nbformat": 4,
 "nbformat_minor": 2
}
