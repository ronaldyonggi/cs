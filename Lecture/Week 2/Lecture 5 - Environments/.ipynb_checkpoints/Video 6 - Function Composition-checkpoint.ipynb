{
 "cells": [
  {
   "cell_type": "markdown",
   "metadata": {},
   "source": [
    "# Function Composition\n",
    "We have the following functions,"
   ]
  },
  {
   "cell_type": "code",
   "execution_count": 22,
   "metadata": {},
   "outputs": [],
   "source": [
    "def make_adder(n):\n",
    "    def adder(k):\n",
    "        return k + n\n",
    "    return adder\n",
    "\n",
    "def square(x):\n",
    "    return x * x\n",
    "\n",
    "def triple(x):\n",
    "    return 3 * x"
   ]
  },
  {
   "cell_type": "markdown",
   "metadata": {},
   "source": [
    "Then below we have a higher-order function `compose1`. This function:\n",
    "1. Takes in 2 different functions, `f` and `g`, each takes one argument.\n",
    "2. Defines a nested function `h` that takes an argument `x` and returns `f(g(x))`\n",
    "3. Returns `h`"
   ]
  },
  {
   "cell_type": "code",
   "execution_count": 23,
   "metadata": {},
   "outputs": [],
   "source": [
    "def compose1(f, g):\n",
    "    def h(x):\n",
    "        return f(g(x))\n",
    "    return h"
   ]
  },
  {
   "cell_type": "markdown",
   "metadata": {},
   "source": [
    "Below is a demonstration of using `square` and `triple`,"
   ]
  },
  {
   "cell_type": "code",
   "execution_count": 24,
   "metadata": {},
   "outputs": [
    {
     "data": {
      "text/plain": [
       "25"
      ]
     },
     "execution_count": 24,
     "metadata": {},
     "output_type": "execute_result"
    }
   ],
   "source": [
    "square(5)"
   ]
  },
  {
   "cell_type": "code",
   "execution_count": 25,
   "metadata": {},
   "outputs": [
    {
     "data": {
      "text/plain": [
       "15"
      ]
     },
     "execution_count": 25,
     "metadata": {},
     "output_type": "execute_result"
    }
   ],
   "source": [
    "triple(5)"
   ]
  },
  {
   "cell_type": "markdown",
   "metadata": {},
   "source": [
    "And below we have a new hybrid function `squiple` that involves composing `square` and `triple` together."
   ]
  },
  {
   "cell_type": "code",
   "execution_count": 27,
   "metadata": {},
   "outputs": [
    {
     "data": {
      "text/plain": [
       "225"
      ]
     },
     "execution_count": 27,
     "metadata": {},
     "output_type": "execute_result"
    }
   ],
   "source": [
    "squiple = compose1(square, triple)\n",
    "squiple(5)\n",
    "# 5 was tripled to be 15, then squared to be 225"
   ]
  },
  {
   "cell_type": "markdown",
   "metadata": {},
   "source": [
    "We can also make a new hybrid function `tripare` that is constructed by composing `triple` and `square`,"
   ]
  },
  {
   "cell_type": "code",
   "execution_count": 29,
   "metadata": {},
   "outputs": [
    {
     "data": {
      "text/plain": [
       "75"
      ]
     },
     "execution_count": 29,
     "metadata": {},
     "output_type": "execute_result"
    }
   ],
   "source": [
    "tripare = compose1(triple, square)\n",
    "tripare(5)\n",
    "# 5 was squared to be 25, then tripled to be 75"
   ]
  },
  {
   "cell_type": "markdown",
   "metadata": {},
   "source": [
    "We can also create a new hybrid function `squadder`, constructed by composing `square` with `make_adder(2)`"
   ]
  },
  {
   "cell_type": "code",
   "execution_count": 30,
   "metadata": {},
   "outputs": [
    {
     "data": {
      "text/plain": [
       "25"
      ]
     },
     "execution_count": 30,
     "metadata": {},
     "output_type": "execute_result"
    }
   ],
   "source": [
    "squadder = compose1(square, make_adder(2))\n",
    "squadder(3)"
   ]
  },
  {
   "cell_type": "markdown",
   "metadata": {},
   "source": [
    "Instead of assigning the hybrid function to a name (e.g. `squadder`, `tripare`), we can execute it in one line as below,"
   ]
  },
  {
   "cell_type": "code",
   "execution_count": 31,
   "metadata": {},
   "outputs": [
    {
     "data": {
      "text/plain": [
       "25"
      ]
     },
     "execution_count": 31,
     "metadata": {},
     "output_type": "execute_result"
    }
   ],
   "source": [
    "compose1(square, make_adder(2)) (3)"
   ]
  },
  {
   "cell_type": "markdown",
   "metadata": {},
   "source": [
    "Let's analyze the environment diagram!"
   ]
  },
  {
   "cell_type": "code",
   "execution_count": null,
   "metadata": {},
   "outputs": [],
   "source": [
    "%%tutor --lang python3\n",
    "\n",
    "def square(x):\n",
    "    return x * x\n",
    "\n",
    "def make_adder(n):\n",
    "    def adder(k):\n",
    "        return k + n\n",
    "    return adder\n",
    "\n",
    "def compose1(f, g):\n",
    "    def h(x):\n",
    "        return f(g(x))\n",
    "    return h\n",
    "\n",
    "compose1(square, make_adder(2)) (3)"
   ]
  },
  {
   "cell_type": "markdown",
   "metadata": {},
   "source": [
    "* In step 1-4, Python binds the functions to their respective names.\n",
    "* In step 5, Python runs `compose1`\n",
    "    * `compose1` defines the `adder` function and returns it (step 6 and 7)\n",
    "* In step 8, Python passes the `adder` function to `compose1`. \n",
    "    * As we can see, in `compose1` frame, `f` is bound to `square`, and `g` is bound to `adder`.\n",
    "* In step 9 and 10, `compose1` defines `h` and returns it.\n",
    "\n",
    "The rest of the steps will be explained below,"
   ]
  },
  {
   "cell_type": "markdown",
   "metadata": {},
   "source": [
    "## The Environment Diagram for Function Composition\n",
    "When Python executes the call expression below,\n",
    "\n",
    "<img src = 'compose1.jpg' width = 400/>\n",
    "\n",
    "It involves executing the call expression `make_adder(2)`. When Python calls `make_adder` on `2`, the result is the `adder` function.\n",
    "\n",
    "<img src = 'adder.jpg' width = 500/>\n",
    "\n",
    "The return value of `make_adder` becomes an argument to `compose1`. It is bound to the name `g`.\n",
    "\n",
    "<img src = 'g.jpg' width = 500/>\n",
    "\n",
    "Python then calls `compose1` on `square` and `make_adder`. The result is the function `h`.\n",
    "\n",
    "<img src = 'h.jpg' width = 500/>\n",
    "\n",
    "Now that we have `h`, Python calls `h` on `3`. Calling `h` involves computing `f(g(x))` in the following environment,\n",
    "\n",
    "<img src = 'h_2.jpg' width = 500/>\n",
    "\n",
    "We can see that Python can find `f`, `g` and `x` through this environment (`f` and `g` can be found in frame `f2`, `x` can be found in frame `h`).\n",
    "\n",
    "To compute `g(x)`, Python needs to call `adder`. The body of `adder`, `k + n`, is evaluated in the environment labeled green,\n",
    "\n",
    "<img src = 'green.jpg' width = 500/>\n",
    "\n",
    "Thus, there are `2` different environments, each has a length of `3`. Together, those environments help Python compute the result `25`. "
   ]
  },
  {
   "cell_type": "markdown",
   "metadata": {},
   "source": []
  }
 ],
 "metadata": {
  "kernelspec": {
   "display_name": "Python 3",
   "language": "python",
   "name": "python3"
  },
  "language_info": {
   "codemirror_mode": {
    "name": "ipython",
    "version": 3
   },
   "file_extension": ".py",
   "mimetype": "text/x-python",
   "name": "python",
   "nbconvert_exporter": "python",
   "pygments_lexer": "ipython3",
   "version": "3.6.8"
  }
 },
 "nbformat": 4,
 "nbformat_minor": 2
}
