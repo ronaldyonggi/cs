{
 "cells": [
  {
   "cell_type": "markdown",
   "metadata": {},
   "source": [
    "# Environments For Higher-Order Functions\n",
    "We'll discuss about higher order functions and how they interact with environment diagrams."
   ]
  },
  {
   "cell_type": "markdown",
   "metadata": {},
   "source": [
    "## Environments Enable Higher-Order Functions\n",
    "Higher-order function is a function that:\n",
    "1. Takes in a function as an argument value, or\n",
    "2. Returns a function as a return value, or\n",
    "3. Both\n",
    "\n",
    "The environment diagram actually has already been set to handle the case of higher-order functions. This means the rules that we went over in the past lecture work even when we pass in functions instead of numbers.\n",
    "\n",
    "In the previous lecture, we studied environment diagrams. This is so that we can analyze how higher-order functions work."
   ]
  },
  {
   "cell_type": "markdown",
   "metadata": {},
   "source": [
    "## Demo\n",
    "Below is a function `apply_twice` which takes in:\n",
    "1. A function `f`\n",
    "2. A single argument `x`\n",
    "\n",
    "`apply_twice` applies the function `f` twice to the argument `x`."
   ]
  },
  {
   "cell_type": "code",
   "execution_count": 1,
   "metadata": {},
   "outputs": [],
   "source": [
    "def apply_twice(f, x):\n",
    "    return f(f(x))"
   ]
  },
  {
   "cell_type": "markdown",
   "metadata": {},
   "source": [
    "`apply_twice` is a higher-order function because it takes another function as the argument. Let's use use the function `square` as the input argument for `apply_twice`."
   ]
  },
  {
   "cell_type": "code",
   "execution_count": 2,
   "metadata": {},
   "outputs": [],
   "source": [
    "def square(x):\n",
    "    return x * x"
   ]
  },
  {
   "cell_type": "code",
   "execution_count": 3,
   "metadata": {},
   "outputs": [
    {
     "data": {
      "text/plain": [
       "100"
      ]
     },
     "execution_count": 3,
     "metadata": {},
     "output_type": "execute_result"
    }
   ],
   "source": [
    "square(10)"
   ]
  },
  {
   "cell_type": "code",
   "execution_count": 4,
   "metadata": {},
   "outputs": [
    {
     "data": {
      "text/plain": [
       "81"
      ]
     },
     "execution_count": 4,
     "metadata": {},
     "output_type": "execute_result"
    }
   ],
   "source": [
    "apply_twice(square, 3)"
   ]
  },
  {
   "cell_type": "markdown",
   "metadata": {},
   "source": [
    "Let's look at the environment diagram and see how this works!"
   ]
  },
  {
   "cell_type": "code",
   "execution_count": 1,
   "metadata": {},
   "outputs": [],
   "source": [
    "%load_ext tutormagic"
   ]
  },
  {
   "cell_type": "code",
   "execution_count": 6,
   "metadata": {},
   "outputs": [
    {
     "data": {
      "text/html": [
       "\n",
       "        <iframe\n",
       "            width=\"100%\"\n",
       "            height=\"350\"\n",
       "            src=\"http://pythontutor.com/iframe-embed.html#code=%0Adef%20apply_twice%28f%2C%20x%29%3A%0A%20%20%20%20return%20f%28f%28x%29%29%20%0A%0Adef%20square%28x%29%3A%0A%20%20%20%20return%20x%20%2A%20x%0A%0Aresult%20%3D%20apply_twice%28square%2C%202%29%0A&origin=opt-frontend.js&cumulative=false&heapPrimitives=false&textReferences=false&curInstr=0&&verticalStack=false&py=3&rawInputLstJSON=%5B%5D&codeDivWidth=50%25&codeDivHeight=100%25\"\n",
       "            frameborder=\"0\"\n",
       "            allowfullscreen\n",
       "        ></iframe>\n",
       "        "
      ],
      "text/plain": [
       "<IPython.lib.display.IFrame at 0x58394b0>"
      ]
     },
     "metadata": {},
     "output_type": "display_data"
    }
   ],
   "source": [
    "%%tutor --lang python3\n",
    "\n",
    "def apply_twice(f, x):\n",
    "    return f(f(x)) \n",
    "\n",
    "def square(x):\n",
    "    return x * x\n",
    "\n",
    "result = apply_twice(square, 2)"
   ]
  },
  {
   "cell_type": "markdown",
   "metadata": {},
   "source": [
    "In step #4, when `apply_twice` was called, a new frame named `apply_twice` is introduced. The formal parameter `f` is bound to the function `square(x)`. \n",
    "\n",
    "In step #5, Python is about to execute the body of `apply_twice(f, x)`, which is `return f(f(x))`. To evaluate `f(f(x))`, we need to evaluate:\n",
    "1. The operator `f`\n",
    "2. The operand expression `f(x)`\n",
    "\n",
    "In step #6, Python evaluates the `operand` `f(x)`\n",
    "1. `f` is bound to the `square(x)` function\n",
    "2. `x` is `2`\n",
    "\n",
    "Thus, in this step we call the `square` function to the number `2`\n",
    "\n",
    "In step #8, we obtain a return value of `4`, which is the value obtained after evaluating `f(x)`. \n",
    "\n",
    "Then the next step (step #9) is to evaluate `f(4)`, which means call the `square` function to the number `4`. The result is shown in step #11, which is `16`.\n",
    "\n",
    "In the end, the value `16` is bound to the name `result`."
   ]
  },
  {
   "cell_type": "markdown",
   "metadata": {},
   "source": [
    "## Names can be Bound to Functional Arguments\n",
    "Let's analyze what just happened.\n",
    "\n",
    "<img src = 'names.jpg' width = 900/>\n",
    "\n",
    "After executing the 2 `def` statements, we have the name of the functions (`apply_twice`, `square`) bound to the functions (`apply_twice(f, x)`, `square(x)`). Neither functions have been called at this point.\n",
    "\n",
    "When Python executes the line `result = apply_twice(square, 2)`, Python applies the function `apply_twice` to the 2 arguments: the `square(x)` function and the number `2`.\n",
    "\n",
    "#### Applying a user-defined function involves 3 steps:\n",
    "\n",
    "1. Create a new frame\n",
    "2. Bind formal parameters (`f` and `x`) to arguments\n",
    "3. Execute the body: `return f(f(x))`\n",
    "\n",
    "When we apply the user-defined function `apply_twice` to the arguments, we obtain the following environment diagram,\n",
    "\n",
    "<img src = 'env_2.jpg' width = 1000/>\n",
    "\n",
    "Python creates a new frame `f1` named `apply_twice`. This frame is created for the purpose of executing the body of the `apply_twice` function. \n",
    "\n",
    "Recall when Python looks up a name, it starts looking at the current frame first (labeled frame #1), then the parent frame (in this case, global frame or frame labeled #2). The name `f` and `x` are found within the current frame and thus, Python does not need to look up to the global frame."
   ]
  },
  {
   "cell_type": "markdown",
   "metadata": {},
   "source": [
    "## Example - Higher Order Function\n",
    "We have the following code,"
   ]
  },
  {
   "cell_type": "code",
   "execution_count": 7,
   "metadata": {},
   "outputs": [],
   "source": [
    "def repeat(f, x):\n",
    "    while f(x) != x: # while f(x) does not equal to x\n",
    "        x = f(x)\n",
    "    return x\n",
    "\n",
    "def g(y):\n",
    "    # '//' is a floor division that get rids of remainder\n",
    "    return (y + 5) // 3"
   ]
  },
  {
   "cell_type": "markdown",
   "metadata": {},
   "source": [
    "If we call the following,"
   ]
  },
  {
   "cell_type": "code",
   "execution_count": 8,
   "metadata": {},
   "outputs": [
    {
     "data": {
      "text/plain": [
       "2"
      ]
     },
     "execution_count": 8,
     "metadata": {},
     "output_type": "execute_result"
    }
   ],
   "source": [
    "repeat(g, 5)"
   ]
  },
  {
   "cell_type": "markdown",
   "metadata": {},
   "source": [
    "How did the result above happen? Let's analyze with environment diagram!"
   ]
  },
  {
   "cell_type": "code",
   "execution_count": 9,
   "metadata": {},
   "outputs": [
    {
     "data": {
      "text/html": [
       "\n",
       "        <iframe\n",
       "            width=\"100%\"\n",
       "            height=\"350\"\n",
       "            src=\"http://pythontutor.com/iframe-embed.html#code=%0Adef%20repeat%28f%2C%20x%29%3A%0A%20%20%20%20while%20f%28x%29%20%21%3D%20x%3A%20%23%20while%20f%28x%29%20does%20not%20equal%20to%20x%0A%20%20%20%20%20%20%20%20x%20%3D%20f%28x%29%0A%20%20%20%20return%20x%0A%0Adef%20g%28y%29%3A%0A%20%20%20%20%23%20%27//%27%20is%20a%20floor%20division%20that%20get%20rids%20of%20remainder%0A%20%20%20%20return%20%28y%20%2B%205%29%20//%203%0A%0Aresult%20%3D%20repeat%28g%2C%205%29%0A&origin=opt-frontend.js&cumulative=false&heapPrimitives=false&textReferences=false&curInstr=0&&verticalStack=false&py=3&rawInputLstJSON=%5B%5D&codeDivWidth=50%25&codeDivHeight=100%25\"\n",
       "            frameborder=\"0\"\n",
       "            allowfullscreen\n",
       "        ></iframe>\n",
       "        "
      ],
      "text/plain": [
       "<IPython.lib.display.IFrame at 0x55c4ff0>"
      ]
     },
     "metadata": {},
     "output_type": "display_data"
    }
   ],
   "source": [
    "%%tutor --lang python3\n",
    "\n",
    "def repeat(f, x):\n",
    "    while f(x) != x: # while f(x) does not equal to x\n",
    "        x = f(x)\n",
    "    return x\n",
    "\n",
    "def g(y):\n",
    "    # '//' is a floor division that get rids of remainder\n",
    "    return (y + 5) // 3\n",
    "\n",
    "result = repeat(g, 5)"
   ]
  },
  {
   "cell_type": "markdown",
   "metadata": {},
   "source": [
    "* In steps 1-3, Python binds the function names to the functions.\n",
    "* In step 4, Python creates a new environment named `repeat`, which has the formal parameters `f` and `x` bound to the function `g` and the number `5`, respectively.\n",
    "* In step 5, Python executes the body of the `repeat` function, which involves calling the `f(x)` within the `while` loop. At this point, `f` is the `g` function, while `x` is `5`.\n",
    "* In step 6, Python creates a new frame `g` with the formal parameter `y` = `5`. Step 7-8 evaluates `g` on `5`,\n",
    "\n",
    "$$ \\text{(5 + 5) // 3 = 3 }$$\n",
    "\n",
    "* In step 9, we see that `f(x)` = 3, which is not equal to `x`, which is currently bound to `5`.\n",
    "* In step 13 Python rebinds `x` in `repeat` frame to `f(x)`, which means `x` is now `3`.\n",
    "* In step 14, Python goes back to the `while` statement, calling `f(x)` again. However this time, `x` is `3`. Thus, Python now calls `g` on `3`. \n",
    "* In step 16, we see that the result of calling `g` on `3` is `2`.\n",
    "\n",
    "$$ \\text{(3 + 5) // 3 = 2} $$\n",
    "\n",
    "* In step 17, Python sees that the result of `f(x)`, `2`, is not equal to `x`, `3`.\n",
    "* In step 21, Python rebinds `x` to the result of `f(x)`, `2`.\n",
    "* In step 22, Python goes back to the `while statement` calling `f(x)` with `x` = `2`\n",
    "* In step 24, the result of calling `g` on `2` is `2`.\n",
    "\n",
    "$$ \\text{(2 + 5) // 3 = 2} $$\n",
    "\n",
    "* In step 25, Python sees that the result of `f(x)` is `2`. With `x` currently also `2`, the function `repeat` finally returns `2`.\n",
    "* In last step, Python binds the return value of `repeat`, `2`, to the name `result`\n"
   ]
  },
  {
   "cell_type": "markdown",
   "metadata": {},
   "source": [
    "# Environments for Nested Definitions\n",
    "Recall last time we defined the `make_adder` function, which\n",
    "1. Takes in a formal parameter `n`\n",
    "2. Creates another function within, `adder(k)`, which returns `k + n`\n",
    "3. Returns the `adder` function, which was defined within its (`make_adder`) body"
   ]
  },
  {
   "cell_type": "code",
   "execution_count": 10,
   "metadata": {},
   "outputs": [],
   "source": [
    "def make_adder(n):\n",
    "    def adder(k):\n",
    "        return k + n\n",
    "    return adder"
   ]
  },
  {
   "cell_type": "markdown",
   "metadata": {},
   "source": [
    "If we load this function, we can create a function `add_three` by calling `make_adder` on `3`,"
   ]
  },
  {
   "cell_type": "code",
   "execution_count": 11,
   "metadata": {},
   "outputs": [
    {
     "data": {
      "text/plain": [
       "<function __main__.make_adder.<locals>.adder(k)>"
      ]
     },
     "execution_count": 11,
     "metadata": {},
     "output_type": "execute_result"
    }
   ],
   "source": [
    "add_three = make_adder(3)\n",
    "add_three"
   ]
  },
  {
   "cell_type": "markdown",
   "metadata": {},
   "source": [
    "And now we have `add_three`, a function that adds 3 to things."
   ]
  },
  {
   "cell_type": "code",
   "execution_count": 12,
   "metadata": {},
   "outputs": [
    {
     "data": {
      "text/plain": [
       "7"
      ]
     },
     "execution_count": 12,
     "metadata": {},
     "output_type": "execute_result"
    }
   ],
   "source": [
    "add_three(4)"
   ]
  },
  {
   "cell_type": "code",
   "execution_count": 13,
   "metadata": {},
   "outputs": [
    {
     "data": {
      "text/plain": [
       "10"
      ]
     },
     "execution_count": 13,
     "metadata": {},
     "output_type": "execute_result"
    }
   ],
   "source": [
    "add_three(7)"
   ]
  },
  {
   "cell_type": "markdown",
   "metadata": {},
   "source": [
    "We see that part of the function `add_three` is the number `3` that gets added in. How do we have a function that has data in it? Let's analyze using environment diagram!"
   ]
  },
  {
   "cell_type": "code",
   "execution_count": 14,
   "metadata": {},
   "outputs": [
    {
     "data": {
      "text/html": [
       "\n",
       "        <iframe\n",
       "            width=\"100%\"\n",
       "            height=\"350\"\n",
       "            src=\"http://pythontutor.com/iframe-embed.html#code=%0Adef%20make_adder%28n%29%3A%0A%20%20%20%20def%20adder%28k%29%3A%0A%20%20%20%20%20%20%20%20return%20k%20%2B%20n%0A%20%20%20%20return%20adder%0A%0Aadd_three%20%3D%20make_adder%283%29%0Aresult%20%3D%20add_three%284%29%0A&origin=opt-frontend.js&cumulative=false&heapPrimitives=false&textReferences=false&curInstr=0&&verticalStack=false&py=3&rawInputLstJSON=%5B%5D&codeDivWidth=50%25&codeDivHeight=100%25\"\n",
       "            frameborder=\"0\"\n",
       "            allowfullscreen\n",
       "        ></iframe>\n",
       "        "
      ],
      "text/plain": [
       "<IPython.lib.display.IFrame at 0x584a430>"
      ]
     },
     "metadata": {},
     "output_type": "display_data"
    }
   ],
   "source": [
    "%%tutor --lang python3\n",
    "\n",
    "def make_adder(n):\n",
    "    def adder(k):\n",
    "        return k + n\n",
    "    return adder\n",
    "\n",
    "add_three = make_adder(3)\n",
    "result = add_three(4)"
   ]
  },
  {
   "cell_type": "markdown",
   "metadata": {},
   "source": [
    "* In step 1, Python binds the function `make_adder` to the name `make_adder`\n",
    "* In step 2, Python calls the function `make_adder` to `3`\n",
    "* In step 3-5, Python creates a new environment named `make_adder`, where the formal parameter `n` is bound to `3`. \n",
    "    * Inside `make_adder`, Python defines the new function `adder`. \n",
    "    * Notice that the name `adder` is now bound to the function `adder(k)`. \n",
    "    * However, `adder` is currently only available in the `make_adder` frame\n",
    "\n",
    "* In step 6, the return value of calling `make_adder` on `3` is the `adder` function! \n",
    "    * Thus, we can see in step 7 that the name `add_three` is bound to the functon `adder(k)`\n",
    "* In step 8, Python tries to execute the `result = add_three(4)` line, which involves calling `add_three` on `4`. \n",
    "    * Thus, Python introduces a new frame `adder` with the formal parameter `k` bound to `4`.\n",
    "    * Notice that the parent frame of `adder` is `f1`, which is the `make_adder` frame.\n",
    "        * This way, Python still has access to the stuff within the `make_adder` frame\n",
    "        \n",
    "* In step 9, Python tries to compute the body of the `adder` function, `return k + n`. \n",
    "    * `k` is bound to `4`, in the `adder` frame, while `n` is bound to `3`, in the `make_adder` frame\n",
    "    * Thus, the return value is\n",
    "    \n",
    "$$ 3 + 4 = 7 $$"
   ]
  },
  {
   "cell_type": "markdown",
   "metadata": {},
   "source": [
    "## Environment Diagrams for Nested Def Statements\n",
    "We'll analyze the environment diagram of the example above!\n",
    "\n",
    "In the code, we have a nested `def` statements:\n",
    "<img src = 'nested.jpg' width = 500/>\n",
    "\n",
    "And we also have something new: a parent of a function that's not `Global` frame.\n",
    "\n",
    "<img src = 'parent.jpg' width = 500/>"
   ]
  },
  {
   "cell_type": "markdown",
   "metadata": {},
   "source": [
    "The `adder` function is defined in the body of the `make_adder` function. Thus, the `parent` frame of the `adder` function is the `make_adder` frame.\n",
    "\n",
    "<img src = 'parent_2.jpg' width = 600/>\n",
    "\n",
    "When we call the `adder` function, Python:\n",
    "1. Copies the name `adder` to the new frame, \n",
    "2. Copies the formal parameter `k` and binds it to the argument value `4`\n",
    "3. And copies the **parent of the function** as the **parent of the frame**\n",
    "\n",
    "Why do we have `parent`s for functions? \n",
    "\n",
    "<img src = 'parent_function.jpg' width = 500/>\n",
    "\n",
    "So that when we call those functions, Python will write down the correct `parent` for the frame,\n",
    "\n",
    "<img src = 'correct_parent.jpg' width = 400/>\n",
    "\n",
    "Why do we need `parent`s for frames? This tells us where to find the current environment.\n",
    "\n",
    "<img src = 'parent_frame.jpg' width = 700/>\n",
    "\n",
    "When Python evaluates the body of the `adder` function, `return k + n`, the current environment starts with the `adder` frame (labeled #1), followed by its parent, the `make_adder` frame (labeled #2), followed by its parent, the `Global` frame (labeled #3).\n",
    "\n",
    "When Python looks up the value `k` in the environment, Python looks at the first frame of the current environemnt,  `adder`. It finds that `k` is `4`!\n",
    "\n",
    "When Python looks up `n`, once again Python looks at the `adder` frame first. However, Python can't find `n` in `adder`! Thus, Python will look at the next frame, which is the `make_adder` frame. In this frame Python finds that `n` is bound to `3`\n",
    "\n",
    "### Key Points\n",
    "1. Every user-defined functions has a parent frame\n",
    "    * In most examples we've gone so far, the parent frame is usually the `Global` frame\n",
    "    * But in nested `def` statements, the inner `def`'s parent frame will be the outer `def`\n",
    "    \n",
    "2. The parent of a function is the frame in which it was defined\n",
    "\n",
    "3. Every local frame has a parent frame\n",
    "\n",
    "4. The parent of a frame is the parent of the function called"
   ]
  },
  {
   "cell_type": "markdown",
   "metadata": {},
   "source": [
    "## How to Draw an Environment Diagram\n",
    "Here is a guide on how to draw an environment diagram. This is useful so that we can draw one on our own without relying on PythonTutor. This is useful for understanding complicated examples.\n",
    "\n",
    "### When a function is defined\n",
    "Python always **create a function value** that looks like the following,"
   ]
  },
  {
   "cell_type": "code",
   "execution_count": 15,
   "metadata": {},
   "outputs": [
    {
     "ename": "SyntaxError",
     "evalue": "invalid syntax (<ipython-input-15-55b730d10fb9>, line 1)",
     "output_type": "error",
     "traceback": [
      "\u001b[1;36m  File \u001b[1;32m\"<ipython-input-15-55b730d10fb9>\"\u001b[1;36m, line \u001b[1;32m1\u001b[0m\n\u001b[1;33m    func <name>(<formal parameters>) [parent=<parent>]\u001b[0m\n\u001b[1;37m                ^\u001b[0m\n\u001b[1;31mSyntaxError\u001b[0m\u001b[1;31m:\u001b[0m invalid syntax\n"
     ]
    }
   ],
   "source": [
    "func <name>(<formal parameters>) [parent=<parent>]"
   ]
  },
  {
   "cell_type": "markdown",
   "metadata": {},
   "source": [
    "Its parent is the current frame,\n",
    "\n",
    "<img src = 'how_to.jpg' width = 500/>\n",
    "\n",
    "When we created the `adder` function, Python execution was in `make_adder` frame. Thus, Python writes that `parent = f1`, in which `f1` the label for the frame `make_adder`. Python writes `parent = f1` instead of `parent = make_adder` since it's possible to have multiple frames named `make_adder`. By having a unique label (e.g. `f1`, `f2`), we can distinguish between each frame. \n",
    "\n",
    "Python binds `<name>` to the function value in the current frame. "
   ]
  },
  {
   "cell_type": "markdown",
   "metadata": {},
   "source": [
    "### When a function is called\n",
    "1. Create (or add) a local frame, titled with the `<name>` of the function being called\n",
    "2. Copy the parent of the function to the local frame:"
   ]
  },
  {
   "cell_type": "code",
   "execution_count": null,
   "metadata": {},
   "outputs": [],
   "source": [
    "[parent=<label>]"
   ]
  },
  {
   "cell_type": "markdown",
   "metadata": {},
   "source": [
    "3. Bind the `<formal parameters>` to the arguments in the local frame\n",
    "4. Execute the body of the function in the environment that starts with the local frame\n",
    "    * If Python needs to look up names in the environment, Python follows the parent of the parent of the parent...until it reaches the `Global` frame. Whichever frame Python found the name first, that's the value that Python uses."
   ]
  },
  {
   "cell_type": "markdown",
   "metadata": {},
   "source": [
    "# Local Names\n",
    "Formal parameters of functions have local scope. \n",
    "\n",
    "Suppose we have the following function,"
   ]
  },
  {
   "cell_type": "code",
   "execution_count": 16,
   "metadata": {},
   "outputs": [],
   "source": [
    "def f(x, y):\n",
    "    return g(x)\n",
    "\n",
    "def g(a):\n",
    "    return a + y"
   ]
  },
  {
   "cell_type": "markdown",
   "metadata": {},
   "source": [
    "If we try to call the function above,"
   ]
  },
  {
   "cell_type": "code",
   "execution_count": 17,
   "metadata": {},
   "outputs": [
    {
     "ename": "NameError",
     "evalue": "name 'y' is not defined",
     "output_type": "error",
     "traceback": [
      "\u001b[1;31m---------------------------------------------------------------------------\u001b[0m",
      "\u001b[1;31mNameError\u001b[0m                                 Traceback (most recent call last)",
      "\u001b[1;32m<ipython-input-17-c9c271413adf>\u001b[0m in \u001b[0;36m<module>\u001b[1;34m\u001b[0m\n\u001b[1;32m----> 1\u001b[1;33m \u001b[0mf\u001b[0m\u001b[1;33m(\u001b[0m\u001b[1;36m1\u001b[0m\u001b[1;33m,\u001b[0m \u001b[1;36m2\u001b[0m\u001b[1;33m)\u001b[0m\u001b[1;33m\u001b[0m\u001b[1;33m\u001b[0m\u001b[0m\n\u001b[0m",
      "\u001b[1;32m<ipython-input-16-1b701f15d5bb>\u001b[0m in \u001b[0;36mf\u001b[1;34m(x, y)\u001b[0m\n\u001b[0;32m      1\u001b[0m \u001b[1;32mdef\u001b[0m \u001b[0mf\u001b[0m\u001b[1;33m(\u001b[0m\u001b[0mx\u001b[0m\u001b[1;33m,\u001b[0m \u001b[0my\u001b[0m\u001b[1;33m)\u001b[0m\u001b[1;33m:\u001b[0m\u001b[1;33m\u001b[0m\u001b[1;33m\u001b[0m\u001b[0m\n\u001b[1;32m----> 2\u001b[1;33m     \u001b[1;32mreturn\u001b[0m \u001b[0mg\u001b[0m\u001b[1;33m(\u001b[0m\u001b[0mx\u001b[0m\u001b[1;33m)\u001b[0m\u001b[1;33m\u001b[0m\u001b[1;33m\u001b[0m\u001b[0m\n\u001b[0m\u001b[0;32m      3\u001b[0m \u001b[1;33m\u001b[0m\u001b[0m\n\u001b[0;32m      4\u001b[0m \u001b[1;32mdef\u001b[0m \u001b[0mg\u001b[0m\u001b[1;33m(\u001b[0m\u001b[0ma\u001b[0m\u001b[1;33m)\u001b[0m\u001b[1;33m:\u001b[0m\u001b[1;33m\u001b[0m\u001b[1;33m\u001b[0m\u001b[0m\n\u001b[0;32m      5\u001b[0m     \u001b[1;32mreturn\u001b[0m \u001b[0ma\u001b[0m \u001b[1;33m+\u001b[0m \u001b[0my\u001b[0m\u001b[1;33m\u001b[0m\u001b[1;33m\u001b[0m\u001b[0m\n",
      "\u001b[1;32m<ipython-input-16-1b701f15d5bb>\u001b[0m in \u001b[0;36mg\u001b[1;34m(a)\u001b[0m\n\u001b[0;32m      3\u001b[0m \u001b[1;33m\u001b[0m\u001b[0m\n\u001b[0;32m      4\u001b[0m \u001b[1;32mdef\u001b[0m \u001b[0mg\u001b[0m\u001b[1;33m(\u001b[0m\u001b[0ma\u001b[0m\u001b[1;33m)\u001b[0m\u001b[1;33m:\u001b[0m\u001b[1;33m\u001b[0m\u001b[1;33m\u001b[0m\u001b[0m\n\u001b[1;32m----> 5\u001b[1;33m     \u001b[1;32mreturn\u001b[0m \u001b[0ma\u001b[0m \u001b[1;33m+\u001b[0m \u001b[0my\u001b[0m\u001b[1;33m\u001b[0m\u001b[1;33m\u001b[0m\u001b[0m\n\u001b[0m",
      "\u001b[1;31mNameError\u001b[0m: name 'y' is not defined"
     ]
    }
   ],
   "source": [
    "f(1, 2)"
   ]
  },
  {
   "cell_type": "markdown",
   "metadata": {},
   "source": [
    "From the error message above, Python is saying that it is unable to find the value of `y` when running the function `g(a)`.\n",
    "\n",
    "Let's analyze the environment diagram,"
   ]
  },
  {
   "cell_type": "code",
   "execution_count": 18,
   "metadata": {},
   "outputs": [
    {
     "data": {
      "text/html": [
       "\n",
       "        <iframe\n",
       "            width=\"100%\"\n",
       "            height=\"350\"\n",
       "            src=\"http://pythontutor.com/iframe-embed.html#code=%0Adef%20make_adder%28n%29%3A%0A%20%20%20%20def%20adder%28k%29%3A%0A%20%20%20%20%20%20%20%20return%20k%20%2B%20n%0A%20%20%20%20return%20adder%0A%0Aadd_three%20%3D%20make_adder%283%29%0Aresult%20%3D%20add_three%284%29%0A&origin=opt-frontend.js&cumulative=false&heapPrimitives=false&textReferences=false&curInstr=0&&verticalStack=false&py=3&rawInputLstJSON=%5B%5D&codeDivWidth=50%25&codeDivHeight=100%25\"\n",
       "            frameborder=\"0\"\n",
       "            allowfullscreen\n",
       "        ></iframe>\n",
       "        "
      ],
      "text/plain": [
       "<IPython.lib.display.IFrame at 0x55c4d10>"
      ]
     },
     "metadata": {},
     "output_type": "display_data"
    }
   ],
   "source": [
    "%%tutor --lang python3\n",
    "\n",
    "def make_adder(n):\n",
    "    def adder(k):\n",
    "        return k + n\n",
    "    return adder\n",
    "\n",
    "add_three = make_adder(3)\n",
    "result = add_three(4)"
   ]
  },
  {
   "cell_type": "markdown",
   "metadata": {},
   "source": [
    "* In step 1-3, Python binds the functions `f(x, y)` and `g(a)` to the names `f` and `g`.\n",
    "* In step 4, Python executes the line `result = f(1, 2)`, which involves calling `f` on `1` and `2`.\n",
    "    * Python creates a new frame `f` with the formal parameter `x` and `y` bound to `1` and `2`, respectively\n",
    "* In step 5, Python executes the body of the function `f(x, y)`, which calls `g(x)`\n",
    "    * In the frame `g`, `a` is bound to `1`\n",
    "* In step 6, Python is about to execute the body of the function `g` within the frame `g`, which is `return a + y`.\n",
    "    * However, Python couldn't find `y` \n",
    "\n",
    "We can see that `y` is within the frame `f`. Why Python says it can't find `y`? **Because the frame `f` is not in the current environment**."
   ]
  },
  {
   "cell_type": "markdown",
   "metadata": {},
   "source": [
    "## Local Names are not visible to other non-nested functions\n",
    "During the moment the error occured,\n",
    "\n",
    "<img src = 'error.jpg' width = 200/>\n",
    "\n",
    "<img src = 'current_env.jpg' width = 400/>\n",
    "\n",
    "As we can see, the current environment consists of the local frame `f` (labeled #1) followed by the `Global` frame (labeled #2)\n",
    "\n",
    "<img src = 'error_frame.jpg' width = 400/>\n",
    "\n",
    "When Python tries to look up the name `y`,\n",
    "1. Python looks at the frame `g` and sees that it's not there\n",
    "2. Then Python looks at the `global` frame and sees that it's not there either.\n",
    "3. Thus, we obtain a message that `y` is nowhere to be found!\n",
    "\n",
    "**An environment is a sequence of frames**. The environment created by calling a top-level function (no `def` within `def`) consists of a local frame, followed by the global frame\n",
    "\n",
    "Python can't refer to the `y` that is local to the body of the function `f(x, y)` from the body of the function `g(a)`.\n",
    "\n",
    "Contrast to the `make_adder` function,"
   ]
  },
  {
   "cell_type": "code",
   "execution_count": null,
   "metadata": {},
   "outputs": [],
   "source": [
    "def make_adder(n):\n",
    "    def adder(k):\n",
    "        return k + n\n",
    "    return adder"
   ]
  },
  {
   "cell_type": "markdown",
   "metadata": {},
   "source": [
    "The body of `adder` can refer to the `n` because `adder` is nested within `make_adder`."
   ]
  },
  {
   "cell_type": "markdown",
   "metadata": {},
   "source": [
    "# Function Composition\n",
    "We have the following functions,"
   ]
  },
  {
   "cell_type": "code",
   "execution_count": 22,
   "metadata": {},
   "outputs": [],
   "source": [
    "def make_adder(n):\n",
    "    def adder(k):\n",
    "        return k + n\n",
    "    return adder\n",
    "\n",
    "def square(x):\n",
    "    return x * x\n",
    "\n",
    "def triple(x):\n",
    "    return 3 * x"
   ]
  },
  {
   "cell_type": "markdown",
   "metadata": {},
   "source": [
    "Then below we have a higher-order function `compose1`. This function:\n",
    "1. Takes in 2 different functions, `f` and `g`, each takes one argument.\n",
    "2. Defines a nested function `h` that takes an argument `x` and returns `f(g(x))`\n",
    "3. Returns `h`"
   ]
  },
  {
   "cell_type": "code",
   "execution_count": 23,
   "metadata": {},
   "outputs": [],
   "source": [
    "def compose1(f, g):\n",
    "    def h(x):\n",
    "        return f(g(x))\n",
    "    return h"
   ]
  },
  {
   "cell_type": "markdown",
   "metadata": {},
   "source": [
    "Below is a demonstration of using `square` and `triple`,"
   ]
  },
  {
   "cell_type": "code",
   "execution_count": 24,
   "metadata": {},
   "outputs": [
    {
     "data": {
      "text/plain": [
       "25"
      ]
     },
     "execution_count": 24,
     "metadata": {},
     "output_type": "execute_result"
    }
   ],
   "source": [
    "square(5)"
   ]
  },
  {
   "cell_type": "code",
   "execution_count": 25,
   "metadata": {},
   "outputs": [
    {
     "data": {
      "text/plain": [
       "15"
      ]
     },
     "execution_count": 25,
     "metadata": {},
     "output_type": "execute_result"
    }
   ],
   "source": [
    "triple(5)"
   ]
  },
  {
   "cell_type": "markdown",
   "metadata": {},
   "source": [
    "And below we have a new hybrid function `squiple` that involves composing `square` and `triple` together."
   ]
  },
  {
   "cell_type": "code",
   "execution_count": 27,
   "metadata": {},
   "outputs": [
    {
     "data": {
      "text/plain": [
       "225"
      ]
     },
     "execution_count": 27,
     "metadata": {},
     "output_type": "execute_result"
    }
   ],
   "source": [
    "squiple = compose1(square, triple)\n",
    "squiple(5)\n",
    "# 5 was tripled to be 15, then squared to be 225"
   ]
  },
  {
   "cell_type": "markdown",
   "metadata": {},
   "source": [
    "We can also make a new hybrid function `tripare` that is constructed by composing `triple` and `square`,"
   ]
  },
  {
   "cell_type": "code",
   "execution_count": 29,
   "metadata": {},
   "outputs": [
    {
     "data": {
      "text/plain": [
       "75"
      ]
     },
     "execution_count": 29,
     "metadata": {},
     "output_type": "execute_result"
    }
   ],
   "source": [
    "tripare = compose1(triple, square)\n",
    "tripare(5)\n",
    "# 5 was squared to be 25, then tripled to be 75"
   ]
  },
  {
   "cell_type": "markdown",
   "metadata": {},
   "source": [
    "We can also create a new hybrid function `squadder`, constructed by composing `square` with `make_adder(2)`"
   ]
  },
  {
   "cell_type": "code",
   "execution_count": 30,
   "metadata": {},
   "outputs": [
    {
     "data": {
      "text/plain": [
       "25"
      ]
     },
     "execution_count": 30,
     "metadata": {},
     "output_type": "execute_result"
    }
   ],
   "source": [
    "squadder = compose1(square, make_adder(2))\n",
    "squadder(3)"
   ]
  },
  {
   "cell_type": "markdown",
   "metadata": {},
   "source": [
    "Instead of assigning the hybrid function to a name (e.g. `squadder`, `tripare`), we can execute it in one line as below,"
   ]
  },
  {
   "cell_type": "code",
   "execution_count": 31,
   "metadata": {},
   "outputs": [
    {
     "data": {
      "text/plain": [
       "25"
      ]
     },
     "execution_count": 31,
     "metadata": {},
     "output_type": "execute_result"
    }
   ],
   "source": [
    "compose1(square, make_adder(2)) (3)"
   ]
  },
  {
   "cell_type": "markdown",
   "metadata": {},
   "source": [
    "Let's analyze the environment diagram!"
   ]
  },
  {
   "cell_type": "code",
   "execution_count": null,
   "metadata": {},
   "outputs": [],
   "source": [
    "%%tutor --lang python3\n",
    "\n",
    "def square(x):\n",
    "    return x * x\n",
    "\n",
    "def make_adder(n):\n",
    "    def adder(k):\n",
    "        return k + n\n",
    "    return adder\n",
    "\n",
    "def compose1(f, g):\n",
    "    def h(x):\n",
    "        return f(g(x))\n",
    "    return h\n",
    "\n",
    "compose1(square, make_adder(2)) (3)"
   ]
  },
  {
   "cell_type": "markdown",
   "metadata": {},
   "source": [
    "* In step 1-4, Python binds the functions to their respective names.\n",
    "* In step 5, Python runs `compose1`\n",
    "    * `compose1` defines the `adder` function and returns it (step 6 and 7)\n",
    "* In step 8, Python passes the `adder` function to `compose1`. \n",
    "    * As we can see, in `compose1` frame, `f` is bound to `square`, and `g` is bound to `adder`.\n",
    "* In step 9 and 10, `compose1` defines `h` and returns it.\n",
    "\n",
    "The rest of the steps will be explained below,"
   ]
  },
  {
   "cell_type": "markdown",
   "metadata": {},
   "source": [
    "## The Environment Diagram for Function Composition\n",
    "When Python executes the call expression below,\n",
    "\n",
    "<img src = 'compose1.jpg' width = 400/>\n",
    "\n",
    "It involves executing the call expression `make_adder(2)`. When Python calls `make_adder` on `2`, the result is the `adder` function.\n",
    "\n",
    "<img src = 'adder.jpg' width = 500/>\n",
    "\n",
    "The return value of `make_adder` becomes an argument to `compose1`. It is bound to the name `g`.\n",
    "\n",
    "<img src = 'g.jpg' width = 500/>\n",
    "\n",
    "Python then calls `compose1` on `square` and `make_adder`. The result is the function `h`.\n",
    "\n",
    "<img src = 'h.jpg' width = 500/>\n",
    "\n",
    "Now that we have `h`, Python calls `h` on `3`. Calling `h` involves computing `f(g(x))` in the following environment,\n",
    "\n",
    "<img src = 'h_2.jpg' width = 500/>\n",
    "\n",
    "We can see that Python can find `f`, `g` and `x` through this environment (`f` and `g` can be found in frame `f2`, `x` can be found in frame `h`).\n",
    "\n",
    "To compute `g(x)`, Python needs to call `adder`. The body of `adder`, `k + n`, is evaluated in the environment labeled green,\n",
    "\n",
    "<img src = 'green.jpg' width = 500/>\n",
    "\n",
    "Thus, there are `2` different environments, each has a length of `3`. Together, those environments help Python compute the result `25`. "
   ]
  },
  {
   "cell_type": "markdown",
   "metadata": {},
   "source": []
  }
 ],
 "metadata": {
  "kernelspec": {
   "display_name": "Python 3",
   "language": "python",
   "name": "python3"
  },
  "language_info": {
   "codemirror_mode": {
    "name": "ipython",
    "version": 3
   },
   "file_extension": ".py",
   "mimetype": "text/x-python",
   "name": "python",
   "nbconvert_exporter": "python",
   "pygments_lexer": "ipython3",
   "version": "3.7.2"
  }
 },
 "nbformat": 4,
 "nbformat_minor": 2
}
