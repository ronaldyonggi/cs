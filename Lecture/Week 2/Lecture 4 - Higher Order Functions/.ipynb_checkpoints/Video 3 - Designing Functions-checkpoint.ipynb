{
 "cells": [
  {
   "cell_type": "markdown",
   "metadata": {},
   "source": [
    "# Designing Functions\n",
    "There are a lot of different functions that do the same thing. Some are better than others because they are easier for people to read and understand and they are more useful in more situations. \n",
    "\n",
    "Back then, people programmed without functions. They only had statements that told them to go to other statements. This whole thing was a mess.\n",
    "\n",
    "Nowadays, we have functions. Functions are universally accepted as the right way to organize large programs. Thus, designing functions is an important skill for those who want to work in computer science."
   ]
  },
  {
   "cell_type": "markdown",
   "metadata": {},
   "source": [
    "## Characteristics of Functions\n",
    "A fuction's `domain` is the set of all inputs it might possibly take as arguments.\n",
    "\n",
    "A function's `range` is the set of output values it might possibly return \n",
    "\n",
    "Knowing the `domain` and `range` of a function tells us where it can be used, what kind of thing goes in, and what kind of thing goes out. \n",
    "\n",
    "A pure function's `behavior` is the relationship it creates between input and output. \n",
    "\n",
    "<img src = 'characteristics.jpg' width = 800/>"
   ]
  },
  {
   "cell_type": "markdown",
   "metadata": {},
   "source": [
    "As we can see above, for the function `square`,\n",
    "\n",
    "1. The `domain` is any `real` number `x`\n",
    "2. The `range` is a non-negative real number\n",
    "    * Either positive or `0`\n",
    "3. The `behavior`:\n",
    "    * Its return value is the square of the input\n",
    "    \n",
    "Meanwhile for the `fib` fibonacci function,\n",
    "\n",
    "1. The `domain` is an integer `n` that is greater or equal to `1`\n",
    "2. The `range` is a Fibonacci number\n",
    "3. The `behavior`:\n",
    "    * It returns the `nth` Fibonacci number\n",
    "    \n",
    "Python doesn't necessarily force us to specify the domain and range in code. These are conceptual aspects of what a function is meant to be used for. Often times, these characteristics are shown in the `documentation`. For example, with the `fib` function, we see `Compute the nth Fibonacci number, for N>=1`.  "
   ]
  },
  {
   "cell_type": "markdown",
   "metadata": {},
   "source": [
    "## A Guide for Designing Function\n",
    "These are just heuristics based on experience, but they apply many different situations. They are worth considering.\n",
    "\n",
    "1. Give each function exactly one job\n",
    "    * Model the function after scissors. It has one job: to cut\n",
    "    * Don't model the function based on a swiss army knife (has many different functions)\n",
    "    \n",
    "<img src = 'scissor.jpg' width = 400/>\n",
    "\n",
    "2. Don't Repeat Yourself (DRY). Implement a process just once, but execute it many times\n",
    "\n",
    "3. Define functions generally\n",
    "\n",
    "A counter example of what we shouldn't do is analogical to electric outlets. In different parts of the world, different countries have different outlets. It would be nice if there's only one kind of electric outlet for the entire world."
   ]
  }
 ],
 "metadata": {
  "kernelspec": {
   "display_name": "Python 3",
   "language": "python",
   "name": "python3"
  },
  "language_info": {
   "codemirror_mode": {
    "name": "ipython",
    "version": 3
   },
   "file_extension": ".py",
   "mimetype": "text/x-python",
   "name": "python",
   "nbconvert_exporter": "python",
   "pygments_lexer": "ipython3",
   "version": "3.6.8"
  }
 },
 "nbformat": 4,
 "nbformat_minor": 2
}
