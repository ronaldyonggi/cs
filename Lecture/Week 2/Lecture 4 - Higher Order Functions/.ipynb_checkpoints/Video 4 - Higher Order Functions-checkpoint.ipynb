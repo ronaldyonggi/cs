{
 "cells": [
  {
   "cell_type": "code",
   "execution_count": null,
   "metadata": {},
   "outputs": [],
   "source": []
  },
  {
   "cell_type": "markdown",
   "metadata": {},
   "source": [
    "# Higher-Order Functions\n",
    "Higher-order functions are a feature of a programming language that allows us to define a function by expressing very general methods of computation."
   ]
  },
  {
   "cell_type": "markdown",
   "metadata": {},
   "source": [
    "## Generalizing Patterns with Arguments\n",
    "We want to generalize patterns by defining function that take arguments that give back the specific instances of the patterns. \n",
    "\n",
    "Let's look at how to compute the area of geometric shapes based on their length. Regular geometric shapes relate length and area.\n",
    "\n",
    "<img src = 'shape.jpg' width = 400/>\n",
    "\n",
    "As we can see above, the 3 shapes have something in common and something that makes it specific to certain shape. \n",
    "\n",
    "1. The constants `1`, $\\pi$ and $\\frac{3 \\sqrt{3}} {2}$ are specific to the shape we're interested in.\n",
    "2. All the shapes have the same multiplier: $r^2$\n",
    "\n",
    "Finding common structure allows for shared implementation."
   ]
  },
  {
   "cell_type": "markdown",
   "metadata": {},
   "source": [
    "## Demo\n",
    "Below we're going to write a code about generalization."
   ]
  },
  {
   "cell_type": "code",
   "execution_count": null,
   "metadata": {},
   "outputs": [],
   "source": [
    "from math import pi, sqrt\n",
    "\n",
    "def area_square(r):\n",
    "    return r * r\n",
    "\n",
    "def area_circle(r):\n",
    "    return r * r * pi\n",
    "\n",
    "def area_hexagon(r):\n",
    "    return r * r * 3 * sqrt(3) / 2"
   ]
  },
  {
   "cell_type": "markdown",
   "metadata": {},
   "source": [
    "Now we can try to calculate the area of shapes with side length `10`."
   ]
  },
  {
   "cell_type": "code",
   "execution_count": null,
   "metadata": {},
   "outputs": [],
   "source": [
    "area_circle(10)"
   ]
  },
  {
   "cell_type": "code",
   "execution_count": null,
   "metadata": {},
   "outputs": [],
   "source": [
    "area_hexagon(10)"
   ]
  },
  {
   "cell_type": "markdown",
   "metadata": {},
   "source": [
    "The area of hexagon with side length `-10` will have the same area as above!"
   ]
  },
  {
   "cell_type": "code",
   "execution_count": null,
   "metadata": {},
   "outputs": [],
   "source": [
    "area_hexagon(-10)"
   ]
  },
  {
   "cell_type": "markdown",
   "metadata": {},
   "source": [
    "This is not right! What should we do?\n",
    "\n",
    "## Assert Statement\n",
    "An **assert statement** starts with the keyword `assert`, followed by a boolean context expression. If the expression evaluates to `False`, then an error message would be printed. "
   ]
  },
  {
   "cell_type": "code",
   "execution_count": null,
   "metadata": {},
   "outputs": [],
   "source": [
    "assert 3 > 2, 'Math is broken'"
   ]
  },
  {
   "cell_type": "markdown",
   "metadata": {},
   "source": [
    "When we execute the cell above, nothing happens because the expression `3 > 2` evaluates to `True`. \n",
    "\n",
    "However, if the expression is `False`,"
   ]
  },
  {
   "cell_type": "code",
   "execution_count": null,
   "metadata": {},
   "outputs": [],
   "source": [
    "assert 2 > 3, 'That is False'"
   ]
  },
  {
   "cell_type": "markdown",
   "metadata": {},
   "source": [
    "We can put **assert statement** to our functions,"
   ]
  },
  {
   "cell_type": "code",
   "execution_count": null,
   "metadata": {},
   "outputs": [],
   "source": [
    "def area_square(r):\n",
    "    assert r > 0, 'A length must be positive!'\n",
    "    return r * r"
   ]
  },
  {
   "cell_type": "markdown",
   "metadata": {},
   "source": [
    "We fixed the `area_square` function, but we also need to fix the `area_circle` and `area_hexagon` function! We can copy paste the **assert statement**, but that means we are repeating ourselves! So what should we do to avoid repeating ourselves?\n",
    "\n",
    "We can generalize the 3 functions by factoring out the part that they have in common: \n",
    "1. The **assert statement**\n",
    "2. The `r * r` part\n",
    "\n",
    "Below is a function `area` that takes a length and a shape constant. This function computes the area of the shape that we're interested in. "
   ]
  },
  {
   "cell_type": "code",
   "execution_count": null,
   "metadata": {},
   "outputs": [],
   "source": [
    "def area(r, shape_constant):\n",
    "    assert r > 0, 'A length must be positive'\n",
    "    return r * r * shape_constant"
   ]
  },
  {
   "cell_type": "markdown",
   "metadata": {},
   "source": [
    "The function above is not necessarily intuitive, it certainly requires some documentation. But we'll skip it for now. \n",
    "\n",
    "Now we can use the `area` function in each of the function that calculates specific shape area,"
   ]
  },
  {
   "cell_type": "code",
   "execution_count": null,
   "metadata": {},
   "outputs": [],
   "source": [
    "from math import pi, sqrt\n",
    "\n",
    "def area_square(r):\n",
    "    return area(r, 1)\n",
    "\n",
    "def area_circle(r):\n",
    "    return area(r, pi)\n",
    "\n",
    "def area_hexagon(r):\n",
    "    return area(r, 3 * sqrt(3) / 2)"
   ]
  },
  {
   "cell_type": "markdown",
   "metadata": {},
   "source": [
    "Now we can test the functions!"
   ]
  },
  {
   "cell_type": "code",
   "execution_count": 13,
   "metadata": {},
   "outputs": [
    {
     "ename": "NameError",
     "evalue": "name 'area_hexagon' is not defined",
     "output_type": "error",
     "traceback": [
      "\u001b[1;31m---------------------------------------------------------------------------\u001b[0m",
      "\u001b[1;31mNameError\u001b[0m                                 Traceback (most recent call last)",
      "\u001b[1;32m<ipython-input-13-34e27ff0670a>\u001b[0m in \u001b[0;36m<module>\u001b[1;34m\u001b[0m\n\u001b[1;32m----> 1\u001b[1;33m \u001b[0marea_hexagon\u001b[0m\u001b[1;33m(\u001b[0m\u001b[1;36m10\u001b[0m\u001b[1;33m)\u001b[0m\u001b[1;33m\u001b[0m\u001b[1;33m\u001b[0m\u001b[0m\n\u001b[0m",
      "\u001b[1;31mNameError\u001b[0m: name 'area_hexagon' is not defined"
     ]
    }
   ],
   "source": [
    "area_hexagon(10)"
   ]
  },
  {
   "cell_type": "code",
   "execution_count": null,
   "metadata": {},
   "outputs": [],
   "source": [
    "area_hexagon(-10)"
   ]
  },
  {
   "cell_type": "markdown",
   "metadata": {},
   "source": [
    "## Generalizing Over Computational Processes\n",
    "We can generalize not only numbers, but also computational processes. The common structure among functions might not be just a number, like we saw in the `shape constant`. It could be something that's more complicated. Below are 3 different mathematical equations,\n",
    "\n",
    "<img src = 'math.jpg' width = 600/>\n",
    "\n",
    "The first is the formula for summing up natural numbers. The `sum` of `k = 1 to 5` of `k` is the shorthand for `1 + 2 + 3 + 4 + 5`\n",
    "\n",
    "These 3 formulas seem to share something in commmon. All of them `sum` from `1` to `5`. Only the `k`s are different. \n",
    "\n",
    "Here, it seems that we have some **general** computational process and some **specific** computational process. We can write a code to generalize this as well.\n",
    "\n",
    "Below we have the function `sum_naturals` that takes in `n`, the number of natural numbers to sum. `sum_naturals` sums the first N natural numbers."
   ]
  },
  {
   "cell_type": "code",
   "execution_count": 15,
   "metadata": {},
   "outputs": [],
   "source": [
    "def sum_naturals(n):\n",
    "    \"\"\"Sum the first N natural numbers\n",
    "    \n",
    "    >>> sum_naturals(5)\n",
    "    15\n",
    "    \"\"\"\n",
    "    # 'total' is the sum that we're going to return\n",
    "    # k is which natural number we are going to sum next\n",
    "    total, k = 0, 1\n",
    "    while k <= n:\n",
    "        # Add total with k\n",
    "        # Increment k by 1\n",
    "        total, k = total + k, k + 1\n",
    "    return total"
   ]
  },
  {
   "cell_type": "markdown",
   "metadata": {},
   "source": [
    "And below we have the `sum_cubes` function that sums the first `n` cubes of natural numbers,"
   ]
  },
  {
   "cell_type": "code",
   "execution_count": 16,
   "metadata": {},
   "outputs": [],
   "source": [
    "def sum_cubes(n):\n",
    "    \"\"\" Sum the first N cubes of natural numbers\n",
    "    \n",
    "    >>> sum_cubes(5)\n",
    "    225\n",
    "    \"\"\"\n",
    "    total, k = 0, 1\n",
    "    while k <= n:\n",
    "        total, k = total + pow(k, 3), k + 1\n",
    "    return total"
   ]
  },
  {
   "cell_type": "markdown",
   "metadata": {},
   "source": [
    "Notice the similarities between the 2 functions above. The only difference is the part where `total` is incremented by either `k` or `pow(k, 3)`. There is definitely a way so that we don't need to repeat ourselves!\n",
    "\n",
    "We start by defining functions that represent the **specific** aspect of `sum_naturals` vs. `sum_cubes`"
   ]
  },
  {
   "cell_type": "code",
   "execution_count": 17,
   "metadata": {},
   "outputs": [],
   "source": [
    "def identity(k):\n",
    "    return k\n",
    "\n",
    "def cube(k):\n",
    "    return pow(k, 3)"
   ]
  },
  {
   "cell_type": "markdown",
   "metadata": {},
   "source": [
    "Now we write the **generalization** over `sum_naturals` and `sum_cubes` with the function `summation`, which takes in:\n",
    "1. `n`, the natural numbers to be sum over\n",
    "2. `term`, a function that indicates how to compute each term of the summation (in this case, either `identity` or `cube`). "
   ]
  },
  {
   "cell_type": "code",
   "execution_count": 18,
   "metadata": {},
   "outputs": [],
   "source": [
    "def summation(n, term):\n",
    "    \"\"\" Sum the first N terms of a sequence\n",
    "    \n",
    "    >>> summation(5, cube)\n",
    "    225\n",
    "    \"\"\"\n",
    "    total, k = 0, 1\n",
    "    while k <= n:\n",
    "        total, k = total + term(k), k + 1\n",
    "    return total"
   ]
  },
  {
   "cell_type": "markdown",
   "metadata": {},
   "source": [
    "Now we can redefine `sum_naturals` and `sum_cubes` by incorporating `summation`,"
   ]
  },
  {
   "cell_type": "code",
   "execution_count": 19,
   "metadata": {},
   "outputs": [],
   "source": [
    "def sum_naturals(n):\n",
    "    \"\"\" Sum the first N natural numbers\n",
    "    \n",
    "    >>> sum_naturals(5)\n",
    "    15\n",
    "    \"\"\"\n",
    "    # Uses the 'identity' function that we defined previously\n",
    "    return summation(n, identity)\n",
    "\n",
    "def sum_cubes(n):\n",
    "    \"\"\" Sum the first N cubes of natural numbers\n",
    "    \n",
    "    >>> sum_cubes(5)\n",
    "    225\n",
    "    \"\"\"\n",
    "    # Uses the 'cube' function that we defined previously\n",
    "    return summation(n, cube)"
   ]
  },
  {
   "cell_type": "markdown",
   "metadata": {},
   "source": [
    "Now let's test the functions!"
   ]
  },
  {
   "cell_type": "code",
   "execution_count": 20,
   "metadata": {},
   "outputs": [
    {
     "data": {
      "text/plain": [
       "225"
      ]
     },
     "execution_count": 20,
     "metadata": {},
     "output_type": "execute_result"
    }
   ],
   "source": [
    "sum_cubes(5)"
   ]
  },
  {
   "cell_type": "code",
   "execution_count": 21,
   "metadata": {},
   "outputs": [
    {
     "data": {
      "text/plain": [
       "15"
      ]
     },
     "execution_count": 21,
     "metadata": {},
     "output_type": "execute_result"
    }
   ],
   "source": [
    "sum_naturals(5)"
   ]
  },
  {
   "cell_type": "code",
   "execution_count": 22,
   "metadata": {},
   "outputs": [
    {
     "data": {
      "text/plain": [
       "225"
      ]
     },
     "execution_count": 22,
     "metadata": {},
     "output_type": "execute_result"
    }
   ],
   "source": [
    "summation(5, cube)"
   ]
  },
  {
   "cell_type": "markdown",
   "metadata": {},
   "source": [
    "Seems like everything runs fine!"
   ]
  },
  {
   "cell_type": "markdown",
   "metadata": {},
   "source": [
    "## Summation Example\n",
    "We tried to generalize the computational process below,\n",
    "\n",
    "<img src = 'math.jpg' width = 400/>\n",
    "\n",
    "On one of the computation above, we generalized it by defining the `cube` function.\n",
    "\n",
    "<img src = 'cube.jpg' width = 500/>\n",
    "\n",
    "and by defining a general method of computation called `summation`, that takes in:\n",
    "1. `n`, the number of terms to sum\n",
    "2. `term`, a function that does the summing.\n",
    "\n",
    "<img src = 'summation.jpg' width = 500/>"
   ]
  }
 ],
 "metadata": {
  "kernelspec": {
   "display_name": "Python 3",
   "language": "python",
   "name": "python3"
  },
  "language_info": {
   "codemirror_mode": {
    "name": "ipython",
    "version": 3
   },
   "file_extension": ".py",
   "mimetype": "text/x-python",
   "name": "python",
   "nbconvert_exporter": "python",
   "pygments_lexer": "ipython3",
   "version": "3.6.8"
  }
 },
 "nbformat": 4,
 "nbformat_minor": 2
}
