{
 "cells": [
  {
   "cell_type": "markdown",
   "metadata": {},
   "source": [
    "# Iteration Example\n",
    "We're going to look at a famous example of iteration."
   ]
  },
  {
   "cell_type": "markdown",
   "metadata": {},
   "source": [
    "## The Fibonacci Sequence\n",
    "Fibonacci was an Italian mathematician considered to be \"the most talented Western mathematician of the Middle Ages\". He introduced Europe to the sequence of Fibonacci numbers, also called **Fibonacci Sequence**.\n",
    "\n",
    "The Fibonacci Sequence starts with `0`, then `1`. Every element after the `0` and `1` is the sum of the previous 2 elements. "
   ]
  },
  {
   "cell_type": "code",
   "execution_count": 8,
   "metadata": {},
   "outputs": [
    {
     "data": {
      "text/plain": [
       "(0, 1, 1, 2, 3, 5, 8, 13, 21, 34, 55, 89, 144, 233, 377, 610, 987)"
      ]
     },
     "execution_count": 8,
     "metadata": {},
     "output_type": "execute_result"
    }
   ],
   "source": [
    "0, 1, 1, 2, 3, 5, 8, 13, 21, 34, 55, 89, 144, 233, 377, 610, 987"
   ]
  },
  {
   "cell_type": "markdown",
   "metadata": {},
   "source": [
    "As we can see above, the `2` is the sum of `1` and `1`, and `34` is the sum of `21` and `13`.\n",
    "\n",
    "Fibonacci didn't invent this sequence. It was discussed by mathematicians long before him, but he made it popular in the West. \n",
    "\n",
    "Every Fibonacci number is associated with its `index`: the position in the Fibonacci Sequence. We call the `0` **The 0th Fibonacci Number**., then the next element as the 1st, the 2nd, and so on. Thus, the 5th Fibonacci Number is `5`. `5` might appear in position `6` in the sequence, but by convention, the `0` is called the 0th Fibonacci number and thus, `5` is the 5th.\n",
    "\n",
    "Fibonacci Sequence has interesting properties. We can make the **Golden Spiral** by tiling together squares whose side length are Fibonacci numbers. If we draw a spiral going through the intersection points of these squares, we'll obtain a forever-expanding spiral that appear particularly well-balanced to the human eye. \n",
    "<img src = 'spiral.png' width = 500/>\n",
    "\n",
    "Now we're going to figure out how to compute the Fibonacci Sequence using a `while` statement.\n",
    "\n",
    "Below is a function that takes in `n`, the **position or index** in the Fibonacci sequence where we want that Fibonacci number, and it computes the `n`th Fibonacci number for `n` $\\ge$ `1`. The function does this by keeping track of various values and then executing the `while` statement."
   ]
  },
  {
   "cell_type": "code",
   "execution_count": 9,
   "metadata": {},
   "outputs": [],
   "source": [
    "def fib(n):\n",
    "    \"\"\"Compute the nth Fibonacci number, for N >= 1.\"\"\"\n",
    "    pred, curr = 0, 1\n",
    "    k = 1\n",
    "    while k < n:\n",
    "        pred, curr = curr, pred + curr\n",
    "        k = k + 1\n",
    "    return curr"
   ]
  },
  {
   "cell_type": "markdown",
   "metadata": {},
   "source": [
    "`pred` stands for predecessor, while `curr` stands for current. We start the function with `0` as the `pred`, which is the 0th Fibonacci number, and `1` as the `curr`, which is the 1st Fibonacci number. The name `k` will be a variable that determines which Fibonacci number the `curr` is currently at; thus, `k` starts at `1` since `curr` starts with the 1st Fibonacci number.\n",
    "\n",
    "When we're designing an iterative function, one of the most important things to consider is \"what information we need to keep track of to perform the iteration?\". "
   ]
  },
  {
   "cell_type": "code",
   "execution_count": 10,
   "metadata": {},
   "outputs": [],
   "source": [
    "pred, curr = 0, 1"
   ]
  },
  {
   "cell_type": "markdown",
   "metadata": {},
   "source": [
    "In this case, to compute the next Fibonacci number, which is the sum of the `pred`ecessor and the `curr`ent Fibonacci number, we need to keep track of both `pred` and `curr`. We start at the beginning of the sequence, the 0th and 1st Fibonacci number, which is `0` and `1`."
   ]
  },
  {
   "cell_type": "code",
   "execution_count": 11,
   "metadata": {},
   "outputs": [],
   "source": [
    "k = 1"
   ]
  },
  {
   "cell_type": "markdown",
   "metadata": {},
   "source": [
    "We also need to keep track of where we are in the sequence. This is where `k` comes in. `k` keeps track of the index. Throughout the execution of the `while k < n` statement, `k` will tell us which Fibonacci number is bound to the name `curr`.\n",
    "\n",
    "The `curr` at the moment is the 1st Fibonacci number, `1`. As we execute the `while` statement, both `k` and `curr` will change. After the changes, `k` can tell us which Fibonacci number `k` is currently at. "
   ]
  },
  {
   "cell_type": "code",
   "execution_count": 12,
   "metadata": {},
   "outputs": [
    {
     "ename": "NameError",
     "evalue": "name 'n' is not defined",
     "output_type": "error",
     "traceback": [
      "\u001b[1;31m---------------------------------------------------------------------------\u001b[0m",
      "\u001b[1;31mNameError\u001b[0m                                 Traceback (most recent call last)",
      "\u001b[1;32m<ipython-input-12-004e39beee06>\u001b[0m in \u001b[0;36m<module>\u001b[1;34m\u001b[0m\n\u001b[1;32m----> 1\u001b[1;33m \u001b[1;32mwhile\u001b[0m \u001b[0mk\u001b[0m \u001b[1;33m<\u001b[0m \u001b[0mn\u001b[0m\u001b[1;33m:\u001b[0m\u001b[1;33m\u001b[0m\u001b[1;33m\u001b[0m\u001b[0m\n\u001b[0m\u001b[0;32m      2\u001b[0m         \u001b[0mpred\u001b[0m\u001b[1;33m,\u001b[0m \u001b[0mcurr\u001b[0m \u001b[1;33m=\u001b[0m \u001b[0mcurr\u001b[0m\u001b[1;33m,\u001b[0m \u001b[0mpred\u001b[0m \u001b[1;33m+\u001b[0m \u001b[0mcurr\u001b[0m\u001b[1;33m\u001b[0m\u001b[1;33m\u001b[0m\u001b[0m\n\u001b[0;32m      3\u001b[0m         \u001b[0mk\u001b[0m \u001b[1;33m=\u001b[0m \u001b[0mk\u001b[0m \u001b[1;33m+\u001b[0m \u001b[1;36m1\u001b[0m\u001b[1;33m\u001b[0m\u001b[1;33m\u001b[0m\u001b[0m\n\u001b[0;32m      4\u001b[0m \u001b[1;32mreturn\u001b[0m \u001b[0mcurr\u001b[0m\u001b[1;33m\u001b[0m\u001b[1;33m\u001b[0m\u001b[0m\n",
      "\u001b[1;31mNameError\u001b[0m: name 'n' is not defined"
     ]
    }
   ],
   "source": [
    "while k < n:\n",
    "        pred, curr = curr, pred + curr\n",
    "        k = k + 1\n",
    "return curr"
   ]
  },
  {
   "cell_type": "markdown",
   "metadata": {},
   "source": [
    "<img src = 'curr.jpg' width = 500/>\n",
    "\n",
    "Here we rebind `pred` and `curr` to be the next 2 numbers in the sequence.\n",
    "1. The new `pred` is now bound to `curr`\n",
    "2. The new `curr`, which is the **next Fibonacci number**, is now bound to the sum of the current one and its predecessor (`curr + pred`).\n",
    "\n",
    "This means the new `curr` will have an index of `1` larger than the previous `curr`. This is why we increment `k` by `1`. \n",
    "\n",
    "The `while` statement allows Python to perform the computation many times until Python finds the `nth` Fibonacci number (until `k` is equal to `n`)\n",
    "\n",
    "In the end, when Python finds the `nth` Fibonacci number, Python binds it to `curr` and the function returns it. \n",
    "\n",
    "In the environment diagram for this example, Python keeps track of the name `pred`, `curr`, `n` and `k` in the local frame for calling the `fib` function. `n` never changes.\n",
    "\n",
    "When run the function, initially `pred` and `curr` is bound to `0` and `1`, respectively, while `k` is bound to `1`. \n",
    "<img src = 'fib_1.jpg' width = 300/>\n",
    "\n",
    "With the code within the `while` loop, Python will track which values are bound to these names every time Python finished executing `k = k + 1`.\n",
    "After the first cycle, we rebind `pred` and `curr` to the next 2 numbers in the sequence. \n",
    "<img src = 'fib_2.jpg' width = 300/>\n",
    "As we can see above, now `curr` is bound to the `k`th Fibonacci number. Since `k` is `2`, then `curr` is now bound to the 2nd Fibonacci number. Python is going to repeat this step until `k` is the same as `n`.\n",
    "<img src = 'fib_last.jpg' width = 400/>\n",
    "When `k` is finally the same as `n`, the expression `k < n` returns `False`. At this point, Python stopped running the `while` loop and we return `curr`, which is bound to the 5th Fibonacci number, `5`. "
   ]
  },
  {
   "cell_type": "markdown",
   "metadata": {},
   "source": [
    "## Discussion Question\n",
    "What if instead of,"
   ]
  },
  {
   "cell_type": "code",
   "execution_count": null,
   "metadata": {},
   "outputs": [],
   "source": [
    "pred, curr = 0, 1\n",
    "k = 1"
   ]
  },
  {
   "cell_type": "code",
   "execution_count": null,
   "metadata": {},
   "outputs": [],
   "source": [
    "We change it to,"
   ]
  },
  {
   "cell_type": "code",
   "execution_count": null,
   "metadata": {},
   "outputs": [],
   "source": [
    "pred, curr = 1, 0\n",
    "k = 0"
   ]
  },
  {
   "cell_type": "markdown",
   "metadata": {},
   "source": [
    "Is this alternative definition of `fib` the same or different from the original `fib`?\n",
    "\n",
    "### Answer\n",
    "This is still the correct implementation of `Fib` for `n` $\\ge$ `1`. This is even better since it also computes the `0`th Fibonacci number. \n",
    "\n",
    "With this implementation, given the input argument `n` is `0`, then when we run the function, `curr` starts with `0`. When Python reaches the `k < n` expression for the first time, the expression returns `False` right away. Thus, the function returns `curr`, which is `0`.\n",
    "\n",
    "The previous implementation can't do this. Given the input argument `n` `0`, `curr` starts at `1` and thus, it will return `1`. \n",
    "\n",
    "### What about with `n` = `5`?\n",
    "\n",
    "With the previous implementation, the function executes the statements within the `while` function `4` times since `k` starts with `1`. With the new implementation, it executes the statements `5` times since `k` starts with `0`. The end result is still the same, `5`."
   ]
  },
  {
   "cell_type": "markdown",
   "metadata": {},
   "source": [
    "# Designing Functions\n",
    "There are a lot of different functions that do the same thing. Some are better than others because they are easier for people to read and understand and they are more useful in more situations. \n",
    "\n",
    "Back then, people programmed without functions. They only had statements that told them to go to other statements. This whole thing was a mess.\n",
    "\n",
    "Nowadays, we have functions. Functions are universally accepted as the right way to organize large programs. Thus, designing functions is an important skill for those who want to work in computer science."
   ]
  },
  {
   "cell_type": "markdown",
   "metadata": {},
   "source": [
    "## Characteristics of Functions\n",
    "A fuction's `domain` is the set of all inputs it might possibly take as arguments.\n",
    "\n",
    "A function's `range` is the set of output values it might possibly return \n",
    "\n",
    "Knowing the `domain` and `range` of a function tells us where it can be used, what kind of thing goes in, and what kind of thing goes out. \n",
    "\n",
    "A pure function's `behavior` is the relationship it creates between input and output. \n",
    "\n",
    "<img src = 'characteristics.jpg' width = 800/>"
   ]
  },
  {
   "cell_type": "markdown",
   "metadata": {},
   "source": [
    "As we can see above, for the function `square`,\n",
    "\n",
    "1. The `domain` is any `real` number `x`\n",
    "2. The `range` is a non-negative real number\n",
    "    * Either positive or `0`\n",
    "3. The `behavior`:\n",
    "    * Its return value is the square of the input\n",
    "    \n",
    "Meanwhile for the `fib` fibonacci function,\n",
    "\n",
    "1. The `domain` is an integer `n` that is greater or equal to `1`\n",
    "2. The `range` is a Fibonacci number\n",
    "3. The `behavior`:\n",
    "    * It returns the `nth` Fibonacci number\n",
    "    \n",
    "Python doesn't necessarily force us to specify the domain and range in code. These are conceptual aspects of what a function is meant to be used for. Often times, these characteristics are shown in the `documentation`. For example, with the `fib` function, we see `Compute the nth Fibonacci number, for N>=1`.  "
   ]
  },
  {
   "cell_type": "markdown",
   "metadata": {},
   "source": [
    "## A Guide for Designing Function\n",
    "These are just heuristics based on experience, but they apply many different situations. They are worth considering.\n",
    "\n",
    "1. Give each function exactly one job\n",
    "    * Model the function after scissors. It has one job: to cut\n",
    "    * Don't model the function based on a swiss army knife (has many different functions)\n",
    "    \n",
    "<img src = 'scissor.jpg' width = 400/>\n",
    "\n",
    "2. Don't Repeat Yourself (DRY). Implement a process just once, but execute it many times\n",
    "\n",
    "3. Define functions generally\n",
    "\n",
    "A counter example of what we shouldn't do is analogical to electric outlets. In different parts of the world, different countries have different outlets. It would be nice if there's only one kind of electric outlet for the entire world."
   ]
  },
  {
   "cell_type": "markdown",
   "metadata": {},
   "source": [
    "# Higher-Order Functions\n",
    "Higher-order functions are a feature of a programming language that allows us to define a function by expressing very general methods of computation."
   ]
  },
  {
   "cell_type": "markdown",
   "metadata": {},
   "source": [
    "## Generalizing Patterns with Arguments\n",
    "We want to generalize patterns by defining function that take arguments that give back the specific instances of the patterns. \n",
    "\n",
    "Let's look at how to compute the area of geometric shapes based on their length. Regular geometric shapes relate length and area.\n",
    "\n",
    "<img src = 'shape.jpg' width = 400/>\n",
    "\n",
    "As we can see above, the 3 shapes have something in common and something that makes it specific to certain shape. \n",
    "\n",
    "1. The constants `1`, $\\pi$ and $\\frac{3 \\sqrt{3}} {2}$ are specific to the shape we're interested in.\n",
    "2. All the shapes have the same multiplier: $r^2$\n",
    "\n",
    "Finding common structure allows for shared implementation."
   ]
  },
  {
   "cell_type": "markdown",
   "metadata": {},
   "source": [
    "## Demo\n",
    "Below we're going to write a code about generalization."
   ]
  },
  {
   "cell_type": "code",
   "execution_count": null,
   "metadata": {},
   "outputs": [],
   "source": [
    "from math import pi, sqrt\n",
    "\n",
    "def area_square(r):\n",
    "    return r * r\n",
    "\n",
    "def area_circle(r):\n",
    "    return r * r * pi\n",
    "\n",
    "def area_hexagon(r):\n",
    "    return r * r * 3 * sqrt(3) / 2"
   ]
  },
  {
   "cell_type": "markdown",
   "metadata": {},
   "source": [
    "Now we can try to calculate the area of shapes with side length `10`."
   ]
  },
  {
   "cell_type": "code",
   "execution_count": null,
   "metadata": {},
   "outputs": [],
   "source": [
    "area_circle(10)"
   ]
  },
  {
   "cell_type": "code",
   "execution_count": null,
   "metadata": {},
   "outputs": [],
   "source": [
    "area_hexagon(10)"
   ]
  },
  {
   "cell_type": "markdown",
   "metadata": {},
   "source": [
    "The area of hexagon with side length `-10` will have the same area as above!"
   ]
  },
  {
   "cell_type": "code",
   "execution_count": null,
   "metadata": {},
   "outputs": [],
   "source": [
    "area_hexagon(-10)"
   ]
  },
  {
   "cell_type": "markdown",
   "metadata": {},
   "source": [
    "This is not right! What should we do?\n",
    "\n",
    "## Assert Statement\n",
    "An **assert statement** starts with the keyword `assert`, followed by a boolean context expression. If the expression evaluates to `False`, then an error message would be printed. "
   ]
  },
  {
   "cell_type": "code",
   "execution_count": null,
   "metadata": {},
   "outputs": [],
   "source": [
    "assert 3 > 2, 'Math is broken'"
   ]
  },
  {
   "cell_type": "markdown",
   "metadata": {},
   "source": [
    "When we execute the cell above, nothing happens because the expression `3 > 2` evaluates to `True`. \n",
    "\n",
    "However, if the expression is `False`,"
   ]
  },
  {
   "cell_type": "code",
   "execution_count": null,
   "metadata": {},
   "outputs": [],
   "source": [
    "assert 2 > 3, 'That is False'"
   ]
  },
  {
   "cell_type": "markdown",
   "metadata": {},
   "source": [
    "We can put **assert statement** to our functions,"
   ]
  },
  {
   "cell_type": "code",
   "execution_count": null,
   "metadata": {},
   "outputs": [],
   "source": [
    "def area_square(r):\n",
    "    assert r > 0, 'A length must be positive!'\n",
    "    return r * r"
   ]
  },
  {
   "cell_type": "markdown",
   "metadata": {},
   "source": [
    "We fixed the `area_square` function, but we also need to fix the `area_circle` and `area_hexagon` function! We can copy paste the **assert statement**, but that means we are repeating ourselves! So what should we do to avoid repeating ourselves?\n",
    "\n",
    "We can generalize the 3 functions by factoring out the part that they have in common: \n",
    "1. The **assert statement**\n",
    "2. The `r * r` part\n",
    "\n",
    "Below is a function `area` that takes a length and a shape constant. This function computes the area of the shape that we're interested in. "
   ]
  },
  {
   "cell_type": "code",
   "execution_count": null,
   "metadata": {},
   "outputs": [],
   "source": [
    "def area(r, shape_constant):\n",
    "    assert r > 0, 'A length must be positive'\n",
    "    return r * r * shape_constant"
   ]
  },
  {
   "cell_type": "markdown",
   "metadata": {},
   "source": [
    "The function above is not necessarily intuitive, it certainly requires some documentation. But we'll skip it for now. \n",
    "\n",
    "Now we can use the `area` function in each of the function that calculates specific shape area,"
   ]
  },
  {
   "cell_type": "code",
   "execution_count": null,
   "metadata": {},
   "outputs": [],
   "source": [
    "from math import pi, sqrt\n",
    "\n",
    "def area_square(r):\n",
    "    return area(r, 1)\n",
    "\n",
    "def area_circle(r):\n",
    "    return area(r, pi)\n",
    "\n",
    "def area_hexagon(r):\n",
    "    return area(r, 3 * sqrt(3) / 2)"
   ]
  },
  {
   "cell_type": "markdown",
   "metadata": {},
   "source": [
    "Now we can test the functions!"
   ]
  },
  {
   "cell_type": "code",
   "execution_count": 13,
   "metadata": {},
   "outputs": [
    {
     "ename": "NameError",
     "evalue": "name 'area_hexagon' is not defined",
     "output_type": "error",
     "traceback": [
      "\u001b[1;31m---------------------------------------------------------------------------\u001b[0m",
      "\u001b[1;31mNameError\u001b[0m                                 Traceback (most recent call last)",
      "\u001b[1;32m<ipython-input-13-34e27ff0670a>\u001b[0m in \u001b[0;36m<module>\u001b[1;34m\u001b[0m\n\u001b[1;32m----> 1\u001b[1;33m \u001b[0marea_hexagon\u001b[0m\u001b[1;33m(\u001b[0m\u001b[1;36m10\u001b[0m\u001b[1;33m)\u001b[0m\u001b[1;33m\u001b[0m\u001b[1;33m\u001b[0m\u001b[0m\n\u001b[0m",
      "\u001b[1;31mNameError\u001b[0m: name 'area_hexagon' is not defined"
     ]
    }
   ],
   "source": [
    "area_hexagon(10)"
   ]
  },
  {
   "cell_type": "code",
   "execution_count": null,
   "metadata": {},
   "outputs": [],
   "source": [
    "area_hexagon(-10)"
   ]
  },
  {
   "cell_type": "markdown",
   "metadata": {},
   "source": [
    "## Generalizing Over Computational Processes\n",
    "We can generalize not only numbers, but also computational processes. The common structure among functions might not be just a number, like we saw in the `shape constant`. It could be something that's more complicated. Below are 3 different mathematical equations,\n",
    "\n",
    "<img src = 'math.jpg' width = 600/>\n",
    "\n",
    "The first is the formula for summing up natural numbers. The `sum` of `k = 1 to 5` of `k` is the shorthand for `1 + 2 + 3 + 4 + 5`\n",
    "\n",
    "These 3 formulas seem to share something in commmon. All of them `sum` from `1` to `5`. Only the `k`s are different. \n",
    "\n",
    "Here, it seems that we have some **general** computational process and some **specific** computational process. We can write a code to generalize this as well.\n",
    "\n",
    "Below we have the function `sum_naturals` that takes in `n`, the number of natural numbers to sum. `sum_naturals` sums the first N natural numbers."
   ]
  },
  {
   "cell_type": "code",
   "execution_count": 15,
   "metadata": {},
   "outputs": [],
   "source": [
    "def sum_naturals(n):\n",
    "    \"\"\"Sum the first N natural numbers\n",
    "    \n",
    "    >>> sum_naturals(5)\n",
    "    15\n",
    "    \"\"\"\n",
    "    # 'total' is the sum that we're going to return\n",
    "    # k is which natural number we are going to sum next\n",
    "    total, k = 0, 1\n",
    "    while k <= n:\n",
    "        # Add total with k\n",
    "        # Increment k by 1\n",
    "        total, k = total + k, k + 1\n",
    "    return total"
   ]
  },
  {
   "cell_type": "markdown",
   "metadata": {},
   "source": [
    "And below we have the `sum_cubes` function that sums the first `n` cubes of natural numbers,"
   ]
  },
  {
   "cell_type": "code",
   "execution_count": 16,
   "metadata": {},
   "outputs": [],
   "source": [
    "def sum_cubes(n):\n",
    "    \"\"\" Sum the first N cubes of natural numbers\n",
    "    \n",
    "    >>> sum_cubes(5)\n",
    "    225\n",
    "    \"\"\"\n",
    "    total, k = 0, 1\n",
    "    while k <= n:\n",
    "        total, k = total + pow(k, 3), k + 1\n",
    "    return total"
   ]
  },
  {
   "cell_type": "markdown",
   "metadata": {},
   "source": [
    "Notice the similarities between the 2 functions above. The only difference is the part where `total` is incremented by either `k` or `pow(k, 3)`. There is definitely a way so that we don't need to repeat ourselves!\n",
    "\n",
    "We start by defining functions that represent the **specific** aspect of `sum_naturals` vs. `sum_cubes`"
   ]
  },
  {
   "cell_type": "code",
   "execution_count": 17,
   "metadata": {},
   "outputs": [],
   "source": [
    "def identity(k):\n",
    "    return k\n",
    "\n",
    "def cube(k):\n",
    "    return pow(k, 3)"
   ]
  },
  {
   "cell_type": "markdown",
   "metadata": {},
   "source": [
    "Now we write the **generalization** over `sum_naturals` and `sum_cubes` with the function `summation`, which takes in:\n",
    "1. `n`, the natural numbers to be sum over\n",
    "2. `term`, a function that indicates how to compute each term of the summation (in this case, either `identity` or `cube`). "
   ]
  },
  {
   "cell_type": "code",
   "execution_count": 18,
   "metadata": {},
   "outputs": [],
   "source": [
    "def summation(n, term):\n",
    "    \"\"\" Sum the first N terms of a sequence\n",
    "    \n",
    "    >>> summation(5, cube)\n",
    "    225\n",
    "    \"\"\"\n",
    "    total, k = 0, 1\n",
    "    while k <= n:\n",
    "        total, k = total + term(k), k + 1\n",
    "    return total"
   ]
  },
  {
   "cell_type": "markdown",
   "metadata": {},
   "source": [
    "Now we can redefine `sum_naturals` and `sum_cubes` by incorporating `summation`,"
   ]
  },
  {
   "cell_type": "code",
   "execution_count": 19,
   "metadata": {},
   "outputs": [],
   "source": [
    "def sum_naturals(n):\n",
    "    \"\"\" Sum the first N natural numbers\n",
    "    \n",
    "    >>> sum_naturals(5)\n",
    "    15\n",
    "    \"\"\"\n",
    "    # Uses the 'identity' function that we defined previously\n",
    "    return summation(n, identity)\n",
    "\n",
    "def sum_cubes(n):\n",
    "    \"\"\" Sum the first N cubes of natural numbers\n",
    "    \n",
    "    >>> sum_cubes(5)\n",
    "    225\n",
    "    \"\"\"\n",
    "    # Uses the 'cube' function that we defined previously\n",
    "    return summation(n, cube)"
   ]
  },
  {
   "cell_type": "markdown",
   "metadata": {},
   "source": [
    "Now let's test the functions!"
   ]
  },
  {
   "cell_type": "code",
   "execution_count": 20,
   "metadata": {},
   "outputs": [
    {
     "data": {
      "text/plain": [
       "225"
      ]
     },
     "execution_count": 20,
     "metadata": {},
     "output_type": "execute_result"
    }
   ],
   "source": [
    "sum_cubes(5)"
   ]
  },
  {
   "cell_type": "code",
   "execution_count": 21,
   "metadata": {},
   "outputs": [
    {
     "data": {
      "text/plain": [
       "15"
      ]
     },
     "execution_count": 21,
     "metadata": {},
     "output_type": "execute_result"
    }
   ],
   "source": [
    "sum_naturals(5)"
   ]
  },
  {
   "cell_type": "code",
   "execution_count": 22,
   "metadata": {},
   "outputs": [
    {
     "data": {
      "text/plain": [
       "225"
      ]
     },
     "execution_count": 22,
     "metadata": {},
     "output_type": "execute_result"
    }
   ],
   "source": [
    "summation(5, cube)"
   ]
  },
  {
   "cell_type": "markdown",
   "metadata": {},
   "source": [
    "Seems like everything runs fine!"
   ]
  },
  {
   "cell_type": "markdown",
   "metadata": {},
   "source": [
    "## Summation Example\n",
    "We tried to generalize the computational process below,\n",
    "\n",
    "<img src = 'math.jpg' width = 400/>\n",
    "\n",
    "On one of the computation above, we generalized it by defining the `cube` function.\n",
    "\n",
    "<img src = 'cube.jpg' width = 500/>\n",
    "\n",
    "and by defining a general method of computation called `summation`, that takes in:\n",
    "1. `n`, the number of terms to sum\n",
    "2. `term`, a function that does the summing.\n",
    "\n",
    "<img src = 'summation.jpg' width = 500/>"
   ]
  },
  {
   "cell_type": "markdown",
   "metadata": {},
   "source": [
    "# Function as Return Values"
   ]
  },
  {
   "cell_type": "markdown",
   "metadata": {},
   "source": [
    "We wen through all this work to write a general version of summation, then we used it to `natural numbers` and `cubes`. But what about the last term?\n",
    "\n",
    "<img src = 'last.jpg' width = 400/>\n",
    "\n",
    "We'll call this term `pi_term` because the series converges to `pi`."
   ]
  },
  {
   "cell_type": "code",
   "execution_count": 23,
   "metadata": {},
   "outputs": [],
   "source": [
    "from operator import mul\n",
    "def pi_term(k):\n",
    "    return 8 / mul(4 * k - 3, 4 * k - 1)"
   ]
  },
  {
   "cell_type": "markdown",
   "metadata": {},
   "source": [
    "Now if we call `summation` with `pi_term`,"
   ]
  },
  {
   "cell_type": "code",
   "execution_count": 24,
   "metadata": {},
   "outputs": [
    {
     "data": {
      "text/plain": [
       "3.141587653589818"
      ]
     },
     "execution_count": 24,
     "metadata": {},
     "output_type": "execute_result"
    }
   ],
   "source": [
    "summation(100000, pi_term)"
   ]
  },
  {
   "cell_type": "markdown",
   "metadata": {},
   "source": [
    "As we can see, the result above is quite close to `pi`!\n",
    "\n",
    "Now we're going to **define a function that returns a function as a value**. The function `make_adder` takes an argument (a number `n`) and returns a function. "
   ]
  },
  {
   "cell_type": "code",
   "execution_count": 26,
   "metadata": {},
   "outputs": [],
   "source": [
    "def make_adder(n):\n",
    "    \"\"\"\n",
    "    >>> add_three = make_adder(3)\n",
    "    >>> add_three(4)\n",
    "    7\n",
    "    \"\"\"\n",
    "    def adder(k):\n",
    "        return k + n \n",
    "    return adder"
   ]
  },
  {
   "cell_type": "markdown",
   "metadata": {},
   "source": [
    "Above, we have a `def` statement. In it, there's another `def` statement. The line `return k + n` is part of the body of `adder` function. The `return adder` line is part of the body of `make_adder` function. Thus,\n",
    "\n",
    "1. `make_adder` returns a function `adder`\n",
    "2. `adder` returns a number \n",
    "\n",
    "Notice that the `adder` function can use:\n",
    "1. Names that are its formal parameter (`k`), and\n",
    "2. The formal parameter of `make_adder` (`n`), the surrounding (or enclosing) function"
   ]
  },
  {
   "cell_type": "markdown",
   "metadata": {},
   "source": [
    "## Locally Defined Functions\n",
    "Function defined **within other function bodies** are **bound to names in a local frame**.\n",
    "\n",
    "<img src = 'make_adder.jpg' width = 700/>"
   ]
  },
  {
   "cell_type": "markdown",
   "metadata": {},
   "source": [
    "## Call Expressions as Operator Expressions\n",
    "If we run the following,"
   ]
  },
  {
   "cell_type": "code",
   "execution_count": 27,
   "metadata": {},
   "outputs": [
    {
     "data": {
      "text/plain": [
       "3"
      ]
     },
     "execution_count": 27,
     "metadata": {},
     "output_type": "execute_result"
    }
   ],
   "source": [
    "make_adder(1)(2)"
   ]
  },
  {
   "cell_type": "markdown",
   "metadata": {},
   "source": [
    "How does this work?\n",
    "\n",
    "This is a `call expression` with an `operator` that's also a call expression, and an `operand`.\n",
    "\n",
    "<img src = 'make_adder_1.jpg' width = 700/>\n",
    "\n",
    "First, we evaluate the `operator`, which is another `call expression`.\n",
    "\n",
    "<img src = 'make_adder_2.jpg' width = 300/>\n",
    "\n",
    "This means we evaluate its `operator`, the `make_adder` function, and its operand, `1`. This means we call `make_adder` on `1`. \n",
    "\n",
    "<img src = 'make_adder_3.jpg' width = 600/>\n",
    "\n",
    "From this step, we'll get back the `adder` function,\n",
    "\n",
    "<img src = 'make_adder_4.jpg' width = 600/>\n",
    "\n",
    "Last but not least, the `adder` function is called on `2` to give the result `3`.\n",
    "\n",
    "<img src = 'make_adder_5.jpg' width = 400/>"
   ]
  },
  {
   "cell_type": "code",
   "execution_count": 28,
   "metadata": {},
   "outputs": [
    {
     "data": {
      "text/plain": [
       "11"
      ]
     },
     "execution_count": 28,
     "metadata": {},
     "output_type": "execute_result"
    }
   ],
   "source": [
    "make_adder(4)(7)"
   ]
  },
  {
   "cell_type": "code",
   "execution_count": 29,
   "metadata": {},
   "outputs": [
    {
     "data": {
      "text/plain": [
       "2019"
      ]
     },
     "execution_count": 29,
     "metadata": {},
     "output_type": "execute_result"
    }
   ],
   "source": [
    "make_adder(2000)(19)"
   ]
  },
  {
   "cell_type": "markdown",
   "metadata": {},
   "source": [
    "We can also use `make_adder` in 2 separate steps:"
   ]
  },
  {
   "cell_type": "code",
   "execution_count": 30,
   "metadata": {},
   "outputs": [],
   "source": [
    "f = make_adder(19)"
   ]
  },
  {
   "cell_type": "code",
   "execution_count": 31,
   "metadata": {},
   "outputs": [
    {
     "data": {
      "text/plain": [
       "2019"
      ]
     },
     "execution_count": 31,
     "metadata": {},
     "output_type": "execute_result"
    }
   ],
   "source": [
    "f(2000)"
   ]
  },
  {
   "cell_type": "markdown",
   "metadata": {},
   "source": [
    "If we try to look up what `f` is,"
   ]
  },
  {
   "cell_type": "code",
   "execution_count": 32,
   "metadata": {},
   "outputs": [
    {
     "data": {
      "text/plain": [
       "<function __main__.make_adder.<locals>.adder(k)>"
      ]
     },
     "execution_count": 32,
     "metadata": {},
     "output_type": "execute_result"
    }
   ],
   "source": [
    "f"
   ]
  },
  {
   "cell_type": "markdown",
   "metadata": {},
   "source": [
    "## The Purpose of Higher-Order Functions\n",
    "1. **Functions are first-class values**\n",
    "    * They can be passed as arguments\n",
    "    * They can be returned as return values\n",
    "    \n",
    "\n",
    "2. **Higher-order function**: A function that,\n",
    "    * Takes a function as an argument value or\n",
    "    * Returns a function as a return value\n",
    "    \n",
    "Higher-order functions are useful because they can:\n",
    "1. Express general methods of computation\n",
    "    * E.g. how to sum things together without worrying about what we're summing together\n",
    "    \n",
    "2. Remove repetitions from programs\n",
    "    * E.g. we only need to define the active summation once\n",
    "\n",
    "3. We can separate concerns among functions\n",
    "    * We want each functions to have exactly one job"
   ]
  },
  {
   "cell_type": "markdown",
   "metadata": {},
   "source": [
    "# Lambda Expressions\n",
    "Lambda expressions are expressions that evaluate to functions.\n",
    "\n",
    "We know that we can bind value to names using an assignment statement like below"
   ]
  },
  {
   "cell_type": "code",
   "execution_count": 1,
   "metadata": {},
   "outputs": [],
   "source": [
    "x = 10"
   ]
  },
  {
   "cell_type": "markdown",
   "metadata": {},
   "source": [
    "It would be nice if we can bind a function to a name using the same syntax. We can do this already with built-in functions,"
   ]
  },
  {
   "cell_type": "code",
   "execution_count": 2,
   "metadata": {},
   "outputs": [],
   "source": [
    "square = min"
   ]
  },
  {
   "cell_type": "markdown",
   "metadata": {},
   "source": [
    "But what if we want to bind a new function (user-defined function)?\n",
    "\n",
    "Can we try just writing down the body of the function?"
   ]
  },
  {
   "cell_type": "code",
   "execution_count": 3,
   "metadata": {},
   "outputs": [],
   "source": [
    "square = x * x"
   ]
  },
  {
   "cell_type": "code",
   "execution_count": 4,
   "metadata": {},
   "outputs": [
    {
     "data": {
      "text/plain": [
       "10"
      ]
     },
     "execution_count": 4,
     "metadata": {},
     "output_type": "execute_result"
    }
   ],
   "source": [
    "x"
   ]
  },
  {
   "cell_type": "code",
   "execution_count": 5,
   "metadata": {},
   "outputs": [
    {
     "data": {
      "text/plain": [
       "100"
      ]
     },
     "execution_count": 5,
     "metadata": {},
     "output_type": "execute_result"
    }
   ],
   "source": [
    "square"
   ]
  },
  {
   "cell_type": "markdown",
   "metadata": {},
   "source": [
    "However, `square` is not a function at all! This is just a value that we obtain from evaluating `x` * `x`. \n",
    "\n",
    "<img src = 'x_x.jpg' width = 400/>\n",
    "\n",
    "Lambda expression allows us to bind `square` to a function that takes in an argument (in this case, `x`), and computes `x * x` as its return value. The `lambda` keyword introduces a new function in a form of lambda expression. "
   ]
  },
  {
   "cell_type": "code",
   "execution_count": 6,
   "metadata": {},
   "outputs": [],
   "source": [
    "square = lambda x: x * x"
   ]
  },
  {
   "cell_type": "markdown",
   "metadata": {},
   "source": [
    "And below is how we read a lambda expression:\n",
    "\n",
    "<img src = 'lambda.jpg' width = 500/>\n",
    "\n",
    "There is no `return `keyword in a lambda expression. We write down the return expression directly after the colon `:`. However, we can only use single expression as the body of the lambda function that we create. \n",
    "\n",
    "Lambda expressions create functions, but it's limited to simple functions that can only evaluate single expressions.\n",
    "\n",
    "If we look up what `square` is,"
   ]
  },
  {
   "cell_type": "code",
   "execution_count": 7,
   "metadata": {},
   "outputs": [
    {
     "data": {
      "text/plain": [
       "<function __main__.<lambda>(x)>"
      ]
     },
     "execution_count": 7,
     "metadata": {},
     "output_type": "execute_result"
    }
   ],
   "source": [
    "square"
   ]
  },
  {
   "cell_type": "markdown",
   "metadata": {},
   "source": [
    "It is indeed a function! Let's try it out!"
   ]
  },
  {
   "cell_type": "code",
   "execution_count": 8,
   "metadata": {},
   "outputs": [
    {
     "data": {
      "text/plain": [
       "16"
      ]
     },
     "execution_count": 8,
     "metadata": {},
     "output_type": "execute_result"
    }
   ],
   "source": [
    "square(4)"
   ]
  },
  {
   "cell_type": "code",
   "execution_count": 9,
   "metadata": {},
   "outputs": [
    {
     "data": {
      "text/plain": [
       "100"
      ]
     },
     "execution_count": 9,
     "metadata": {},
     "output_type": "execute_result"
    }
   ],
   "source": [
    "square(10)"
   ]
  },
  {
   "cell_type": "markdown",
   "metadata": {},
   "source": [
    "We can take a lambda function and bind it to a name like we just did, or we can use the function immediately as a `call expression` where:\n",
    "1. The `operator` is the lambda expression, `(lambda x: x * x)`\n",
    "2. The `operand` is `(3)`"
   ]
  },
  {
   "cell_type": "code",
   "execution_count": 10,
   "metadata": {},
   "outputs": [
    {
     "data": {
      "text/plain": [
       "9"
      ]
     },
     "execution_count": 10,
     "metadata": {},
     "output_type": "execute_result"
    }
   ],
   "source": [
    "(lambda x: x * x)(3)"
   ]
  },
  {
   "cell_type": "markdown",
   "metadata": {},
   "source": [
    "Lambda expressions are not common in Python, but important in general.\n",
    "* In some programming languages, they are fundamental\n",
    "\n",
    "Lambda expressions in Python cannot contain statements at all.\n",
    "* We can't put a `while` statement in a lambda expression. "
   ]
  },
  {
   "cell_type": "markdown",
   "metadata": {},
   "source": [
    "## Lambda Expressions vs. Def Statements\n",
    "How are these different and how are they the same?\n",
    "\n",
    "<img src = 'vs.jpg' width = 600/>\n",
    "\n",
    "### Similarities:\n",
    "1. Both create a function with the same domain, range, and behavior\n",
    "2. Both functions have as their parent the frame in which they were defined\n",
    "3. Both bind function to the name `square`, but they do it it different way.\n",
    "\n",
    "**Lambda Expression**:\n",
    "* The `lambda` expression first creates the function without giving it a name `lambda x: x * x`\n",
    "* Then the assignment statement `square = lambda x: x* x` binds the function value to the name `square`\n",
    "\n",
    "**`Def` statement**:\n",
    "Both of the steps above happened automatically as the byproduct of executing the `def` statement\n",
    "\n",
    "### Differences\n",
    "Only the `def` statement gives the function an instrinsic name\n",
    "    * Intrinsic name is the name that we see when we try to display the function.\n",
    "    \n",
    "For example, if we define `square` using a lambda expression,"
   ]
  },
  {
   "cell_type": "code",
   "execution_count": 1,
   "metadata": {},
   "outputs": [
    {
     "data": {
      "text/plain": [
       "<function __main__.<lambda>(x)>"
      ]
     },
     "execution_count": 1,
     "metadata": {},
     "output_type": "execute_result"
    }
   ],
   "source": [
    "square = lambda x: x * x\n",
    "square"
   ]
  },
  {
   "cell_type": "markdown",
   "metadata": {},
   "source": [
    "It tells us that `square` is a function called `<lambda>`. It's not called `square`. \n",
    "\n",
    "However, if we define `square` using the `def` statement,"
   ]
  },
  {
   "cell_type": "code",
   "execution_count": 2,
   "metadata": {},
   "outputs": [
    {
     "data": {
      "text/plain": [
       "<function __main__.square(x)>"
      ]
     },
     "execution_count": 2,
     "metadata": {},
     "output_type": "execute_result"
    }
   ],
   "source": [
    "def square(x):\n",
    "    return x * x\n",
    "\n",
    "square"
   ]
  },
  {
   "cell_type": "markdown",
   "metadata": {},
   "source": [
    "We can see that `square` is now the function `square(x)`. \n",
    "\n",
    "The difference in names can be seen in their environmental diagrams as well.\n",
    "<img src = 'difference.jpg' width = 900/>\n",
    "\n",
    "As we can see, with `lambda`, the name `square` is tied to the symbol $\\lambda$. While with the `def` statement, the name `square` is tied to the `square` function."
   ]
  }
 ],
 "metadata": {
  "kernelspec": {
   "display_name": "Python 3",
   "language": "python",
   "name": "python3"
  },
  "language_info": {
   "codemirror_mode": {
    "name": "ipython",
    "version": 3
   },
   "file_extension": ".py",
   "mimetype": "text/x-python",
   "name": "python",
   "nbconvert_exporter": "python",
   "pygments_lexer": "ipython3",
   "version": "3.7.2"
  }
 },
 "nbformat": 4,
 "nbformat_minor": 2
}
