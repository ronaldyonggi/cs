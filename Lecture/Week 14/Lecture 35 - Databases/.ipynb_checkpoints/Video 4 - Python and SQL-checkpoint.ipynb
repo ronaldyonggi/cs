{
 "cells": [
  {
   "cell_type": "markdown",
   "metadata": {},
   "source": [
    "# Python and SQL"
   ]
  },
  {
   "cell_type": "markdown",
   "metadata": {},
   "source": [
    "Python and SQL can be used together. A Python program can construct and execute SQL statements. "
   ]
  },
  {
   "cell_type": "code",
   "execution_count": 1,
   "metadata": {},
   "outputs": [],
   "source": [
    "import sqlite3"
   ]
  },
  {
   "cell_type": "markdown",
   "metadata": {},
   "source": [
    "SQLite3 has a class called `Connection`. To construct a connection, we pass in the name of a database file."
   ]
  },
  {
   "cell_type": "code",
   "execution_count": 2,
   "metadata": {},
   "outputs": [],
   "source": [
    "db = sqlite3.Connection(\"n.db\")"
   ]
  },
  {
   "cell_type": "markdown",
   "metadata": {},
   "source": [
    "Above we assign the variable `db` a connection object. This connection object can be used to execute sql statements.\n",
    "\n",
    "For example, we can execute the following,"
   ]
  },
  {
   "cell_type": "code",
   "execution_count": null,
   "metadata": {},
   "outputs": [],
   "source": [
    "db.execute(\"SELECT 2 UNION SELECT 3;\")"
   ]
  },
  {
   "cell_type": "markdown",
   "metadata": {},
   "source": [
    "Above should generate a 2 row, 1 column table. However, the statement above won't allow us to do much. Instead, we should give it a name within the database. In this example, we give the table the name `nums`."
   ]
  },
  {
   "cell_type": "code",
   "execution_count": 5,
   "metadata": {},
   "outputs": [
    {
     "data": {
      "text/plain": [
       "<sqlite3.Cursor at 0x103e863b0>"
      ]
     },
     "execution_count": 5,
     "metadata": {},
     "output_type": "execute_result"
    }
   ],
   "source": [
    "db.execute(\"CREATE TABLE nums AS SELECT 2 UNION SELECT 3;\")"
   ]
  },
  {
   "cell_type": "markdown",
   "metadata": {},
   "source": [
    "As we can see above, we can construct SQL statements within Python as a series of strings. This time, let's insert some values to the table `nums`."
   ]
  },
  {
   "cell_type": "code",
   "execution_count": null,
   "metadata": {},
   "outputs": [],
   "source": [
    "db.execute(\"INSERT INTO nums VALUES (4), (5), (6);\")"
   ]
  },
  {
   "cell_type": "markdown",
   "metadata": {},
   "source": [
    "As an alternative, we can use a Python expression `range`,"
   ]
  },
  {
   "cell_type": "code",
   "execution_count": 6,
   "metadata": {},
   "outputs": [
    {
     "data": {
      "text/plain": [
       "<sqlite3.Cursor at 0x103e861f0>"
      ]
     },
     "execution_count": 6,
     "metadata": {},
     "output_type": "execute_result"
    }
   ],
   "source": [
    "db.execute(\"insert into nums values (?), (?), (?);\", range(4, 7))"
   ]
  },
  {
   "cell_type": "markdown",
   "metadata": {},
   "source": [
    "We can also read from a table,"
   ]
  },
  {
   "cell_type": "code",
   "execution_count": 9,
   "metadata": {},
   "outputs": [
    {
     "name": "stdout",
     "output_type": "stream",
     "text": [
      "[(2,), (3,), (4,), (5,), (6,)]\n"
     ]
    }
   ],
   "source": [
    "print(db.execute(\"select * from nums;\").fetchall())"
   ]
  },
  {
   "cell_type": "markdown",
   "metadata": {},
   "source": [
    "When we `select *` from `nums`, `execute` returns a **cursor object** that has a method `fetchall()` that can fetch all the contents of the resulting table as a list of tuples. \n",
    "\n",
    "As we can see, Python prints 5 tuples, in which each has one element: the content of the row. \n",
    "\n",
    "To ensure that the file representing the database, `n.db`, stores all the changes, we need to use the `commit` method,"
   ]
  },
  {
   "cell_type": "code",
   "execution_count": 11,
   "metadata": {},
   "outputs": [],
   "source": [
    "db.commit()"
   ]
  },
  {
   "cell_type": "markdown",
   "metadata": {},
   "source": [
    "If committing is successful, then the file `n.db` should contain all the contents of the database just as we constructed it by executing the series of SQL statement.\n",
    "\n",
    "Everytime we run the cells that we went over above, we create a `n.db` file. Alternatively, we can create a `.py` file that contains the following code,"
   ]
  },
  {
   "cell_type": "code",
   "execution_count": null,
   "metadata": {},
   "outputs": [],
   "source": [
    "import sqlite3\n",
    "\n",
    "db = sqlite3.Connection(\"n.db\")\n",
    "db.execute(\"create table nums as select 2 union select 3;\")\n",
    "db.execute(\"insert into nums values (?), (?), (?);\", range(4, 7))\n",
    "print(db.execute(\"select * from nums;\").fetchall())\n",
    "db.commit()"
   ]
  },
  {
   "cell_type": "markdown",
   "metadata": {},
   "source": [
    "If we start a `sqlite3` session using `n.db` as our database, the table `nums` will be already available by the time we start the session!"
   ]
  },
  {
   "cell_type": "code",
   "execution_count": null,
   "metadata": {},
   "outputs": [],
   "source": [
    "(base) Ronalds-MacBook-Air:Lecture 35 - Databases ronaldyonggi$ sqlite3 n.db\n",
    "SQLite version 3.24.0 2018-06-04 14:10:15\n",
    "Enter \".help\" for usage hints.\n",
    "sqlite> select * from nums;\n",
    "2\n",
    "3\n",
    "4\n",
    "5\n",
    "6"
   ]
  },
  {
   "cell_type": "markdown",
   "metadata": {},
   "source": [
    "We just went over an example of how to write a Python program that interacts with SQLite database. We can also write Python programs for other kinds of databases. "
   ]
  }
 ],
 "metadata": {
  "kernelspec": {
   "display_name": "Python 3",
   "language": "python",
   "name": "python3"
  },
  "language_info": {
   "codemirror_mode": {
    "name": "ipython",
    "version": 3
   },
   "file_extension": ".py",
   "mimetype": "text/x-python",
   "name": "python",
   "nbconvert_exporter": "python",
   "pygments_lexer": "ipython3",
   "version": "3.7.3"
  }
 },
 "nbformat": 4,
 "nbformat_minor": 4
}
