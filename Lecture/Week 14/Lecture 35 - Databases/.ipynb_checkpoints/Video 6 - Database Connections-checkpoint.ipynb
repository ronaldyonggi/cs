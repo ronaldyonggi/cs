{
 "cells": [
  {
   "cell_type": "markdown",
   "metadata": {},
   "source": [
    "# Database Connections"
   ]
  },
  {
   "cell_type": "markdown",
   "metadata": {},
   "source": [
    "Multiple programs can be connected to the same database at the same time. They all can be inserting values and reading values from the same tables.\n",
    "\n",
    "One interesting things about DBMS is that they can handle the fact that:\n",
    "1. Multiple different connections are made to the same database\n",
    "2. Multiple different clients are trying to change the same table"
   ]
  },
  {
   "cell_type": "markdown",
   "metadata": {},
   "source": [
    "## Casino Blackjack"
   ]
  },
  {
   "cell_type": "markdown",
   "metadata": {},
   "source": [
    "In Casino Blackjack, \n",
    "\n",
    "1. Initially the player deal 2 cards, both open\n",
    "2. Initially the dealer deal 1 card open, 1 card face down \n",
    "3. The goal is to get as close to `21` as possible; however, whoever has greater than `21` loses the game\n",
    "4. Suites do not matter. Only the numbers matter\n",
    "5. The cards 2 through 10 counts toward its value\n",
    "6. `Jack`, `Queen` and `King` counts as 10.\n",
    "7. `A` is special: the owner can choose either to count it as `1` or `11`. \n",
    "\n",
    "Let's say the player has 2 cards, a `7` and a `9`, while the dealer has a `Jack` and a card that we don't know. \n",
    "\n",
    "<img src = 'card.png' width = 500/>\n",
    "\n",
    "In this case, the player might worry that the dealer's total card is closer to `21`. In this case, the player can request an additional card. \n",
    "\n",
    "<img src = 'request.png' width = 500/>"
   ]
  },
  {
   "cell_type": "markdown",
   "metadata": {},
   "source": [
    "How lucky! The player got a `5`, now the player's total score is `21`!\n",
    "\n",
    "Once the player finishes requesting card, it's the dealer's turn. The dealer opens the card that was faced down and has to continue drawing cards until the score reaches between `17` to `21`. \n",
    "\n",
    "<img src = 'ace.png' width = 500/>"
   ]
  },
  {
   "cell_type": "markdown",
   "metadata": {},
   "source": [
    "The dealer got an `ace`. The dealer can choose to either treat the `ace` as `1` or `11`, but in this case, it has to be `1` because `11` would make the total score `24`, which is greater than `21`. \n",
    "\n",
    "Currently the dealer's score is now `14`. The dealer still needs to draw more cards.\n",
    "<img src = 'lose.png' width = 500/>"
   ]
  },
  {
   "cell_type": "markdown",
   "metadata": {},
   "source": [
    "The next card is a `10`! Now the dealer has `24` and loses the game."
   ]
  },
  {
   "cell_type": "markdown",
   "metadata": {},
   "source": [
    "## Demo\n",
    "\n",
    "Here we are going to play a Blackjack game using Python and SQL."
   ]
  },
  {
   "cell_type": "code",
   "execution_count": null,
   "metadata": {},
   "outputs": [],
   "source": [
    "import random\n",
    "import readline\n",
    "import sqlite3"
   ]
  },
  {
   "cell_type": "code",
   "execution_count": null,
   "metadata": {},
   "outputs": [],
   "source": [
    "points = {'A': 1, 'J': 10, 'Q': 10, 'K': 10}\n",
    "points.update({n: n for n in range(2, 11)})"
   ]
  },
  {
   "cell_type": "markdown",
   "metadata": {},
   "source": [
    "First, we store the points corresponding to each card in a dictionary. Initially, we set `A` as `1` but we'll handle the case it can be used as `11` later. The cards `2` through `10` are worth itself. \n",
    "\n",
    "The `.update` method takes a dictionary and adds more element from another dictionary. "
   ]
  },
  {
   "cell_type": "code",
   "execution_count": null,
   "metadata": {},
   "outputs": [],
   "source": [
    "def hand_score(hand):\n",
    "    \"\"\"Total score for a hand\"\"\"\n",
    "    total = sum([points[card] for card in hand])\n",
    "    if total <= 11 and 'A' in hand:\n",
    "        return total + 10\n",
    "    return total"
   ]
  },
  {
   "cell_type": "markdown",
   "metadata": {},
   "source": [
    "Above, a `hand` is a sequence of cards."
   ]
  },
  {
   "cell_type": "code",
   "execution_count": null,
   "metadata": {},
   "outputs": [],
   "source": [
    "total = sum([points[card] for card in hand])"
   ]
  },
  {
   "cell_type": "markdown",
   "metadata": {},
   "source": [
    "The part above calculates the sum of the points based on the cards currently in hand."
   ]
  },
  {
   "cell_type": "code",
   "execution_count": null,
   "metadata": {},
   "outputs": [],
   "source": [
    "if total <= 11 and 'A' in hand:\n",
    "    return total + 10"
   ]
  },
  {
   "cell_type": "markdown",
   "metadata": {},
   "source": [
    "Above, if it turns out that there's an `A` in the hand and the total score is less than or equal to `11`, then count the `A` as `11`. "
   ]
  },
  {
   "cell_type": "markdown",
   "metadata": {},
   "source": [
    "Now let's create the database `cards.db`!"
   ]
  },
  {
   "cell_type": "code",
   "execution_count": null,
   "metadata": {},
   "outputs": [],
   "source": [
    "db = sqlite3.Connection('cards.db')"
   ]
  },
  {
   "cell_type": "markdown",
   "metadata": {},
   "source": [
    "We'll assign the variable `sql` to the function `db.execute` so that we don't have to repeatedly call `db.execute`."
   ]
  },
  {
   "cell_type": "code",
   "execution_count": null,
   "metadata": {},
   "outputs": [],
   "source": [
    "sql = db.execute"
   ]
  },
  {
   "cell_type": "markdown",
   "metadata": {},
   "source": [
    "When we first begin, we drop the table `cards` if it exists to make sure we start a fresh game,"
   ]
  },
  {
   "cell_type": "code",
   "execution_count": null,
   "metadata": {},
   "outputs": [],
   "source": [
    "sql('DROP TABLE IF EXISTS cards')"
   ]
  },
  {
   "cell_type": "markdown",
   "metadata": {},
   "source": [
    "Then we create the table `cards` with 2 columns:\n",
    "\n",
    "1. The `card`, which contains the cards (e.g. `Jack`, `4`, etc)\n",
    "2. `who` has the card, the `dealer` or the `player`, or on discard pile"
   ]
  },
  {
   "cell_type": "code",
   "execution_count": null,
   "metadata": {},
   "outputs": [],
   "source": [
    "sql('CREATE TABLE cards(card, who);')"
   ]
  },
  {
   "cell_type": "markdown",
   "metadata": {},
   "source": [
    "To deal a card, we insert that card into the `cards` table, then we `commit` the result to make sure that it's reflected in `cards.db`.  "
   ]
  },
  {
   "cell_type": "code",
   "execution_count": null,
   "metadata": {},
   "outputs": [],
   "source": [
    "def deal(card, who):\n",
    "    \"\"\" Deal a card face up\"\"\"\n",
    "    sql('INSERT INTO cards VALUES (?, ?)', (card, who))\n",
    "    db.commit()"
   ]
  },
  {
   "cell_type": "markdown",
   "metadata": {},
   "source": [
    "To compute the `score` of any player, collect all the cards for that player, and call `hand_score` for every card that we obtained via `.fetchall()` method. "
   ]
  },
  {
   "cell_type": "code",
   "execution_count": null,
   "metadata": {},
   "outputs": [],
   "source": [
    "def score(who):\n",
    "    \"\"\" Compute the hand score for the player or dealer.\"\"\"\n",
    "    cards = sql('SELECT * from cards where who = ?;', [who])\n",
    "    return hand_score([card for card, who in cards.fetchall()])"
   ]
  },
  {
   "cell_type": "markdown",
   "metadata": {},
   "source": [
    "And we get a `bust` when we have a score greater than 21,"
   ]
  },
  {
   "cell_type": "code",
   "execution_count": null,
   "metadata": {},
   "outputs": [],
   "source": [
    "def bust(who):\n",
    "    \"\"\" Check if the player or dealer went bust.\"\"\"\n",
    "    return score(who) > 21"
   ]
  },
  {
   "cell_type": "markdown",
   "metadata": {},
   "source": [
    "The 2 players are the `\"Player\"` and the `\"Dealer\"`,"
   ]
  },
  {
   "cell_type": "code",
   "execution_count": null,
   "metadata": {},
   "outputs": [],
   "source": [
    "player, dealer = \"Player\", \"Dealer\""
   ]
  },
  {
   "cell_type": "markdown",
   "metadata": {},
   "source": [
    "And we'll define the `play_hand` function, which is defined as the following:\n",
    "\n",
    "1. We need to have a `deck` of cards\n",
    "2. We `pop()` the first card from the `deck` and deal it for the `Player`\n",
    "3. We `pop()` the second card from the `deck` and deal it for the `Dealer`\n",
    "4. `pop()` the third card from the `deck` and deal it for the `Player`\n",
    "5. And we `pop()` the fourth card as a `hidden` card for the `Dealer`"
   ]
  },
  {
   "cell_type": "code",
   "execution_count": null,
   "metadata": {},
   "outputs": [],
   "source": [
    "def play_hand(deck):\n",
    "    \"\"\"Play a hand of Blackjack\"\"\"\n",
    "    deal(deck.pop(), player)\n",
    "    deal(deck.pop(), dealer)\n",
    "    deal(deck.pop(), player)\n",
    "    hidden = deck.pop()"
   ]
  },
  {
   "cell_type": "markdown",
   "metadata": {},
   "source": [
    "We will use the built-in Python `input` function to ask the user the course of action. If the user says `y` (yes) for `\"Hit?\"` (Hit means to deal an additional card), then we deal a card.\n",
    "\n",
    "If by dealing a card, it makes the player go `bust`, then the player loses, and the game is over."
   ]
  },
  {
   "cell_type": "code",
   "execution_count": null,
   "metadata": {},
   "outputs": [],
   "source": [
    "    while 'y' in input(\"Hit? \").lower():\n",
    "        deal(deck.pop(), player)\n",
    "        if bust(player):\n",
    "            print(player, \"went bust!\")\n",
    "            return"
   ]
  },
  {
   "cell_type": "markdown",
   "metadata": {},
   "source": [
    "If at some point, the player decides not to `Hit`, then flip the dealer's `hidden` card, then keep dealing cards for the dealer until the `score` is greater or equal to 17. "
   ]
  },
  {
   "cell_type": "code",
   "execution_count": null,
   "metadata": {},
   "outputs": [],
   "source": [
    "    deal(hidden, dealer)\n",
    "    \n",
    "    while score(dealer) < 17:\n",
    "        deal(deck.pop(), dealer)\n",
    "        if bust(dealer):\n",
    "            print(dealer, \"went bust!\")\n",
    "            return"
   ]
  },
  {
   "cell_type": "markdown",
   "metadata": {},
   "source": [
    "In the end, we print out the `Player`'s score and the `Dealer`'s score."
   ]
  },
  {
   "cell_type": "code",
   "execution_count": null,
   "metadata": {},
   "outputs": [],
   "source": [
    "    print(player, score(player), \"and\", dealer, score(dealer))"
   ]
  },
  {
   "cell_type": "markdown",
   "metadata": {},
   "source": [
    "The few cells that we wrote above are part of the same function: `play_hand`,"
   ]
  },
  {
   "cell_type": "code",
   "execution_count": null,
   "metadata": {},
   "outputs": [],
   "source": [
    "def play_hand(deck):\n",
    "    \"\"\"Play a hand of Blackjack\"\"\"\n",
    "    deal(deck.pop(), player)\n",
    "    deal(deck.pop(), dealer)\n",
    "    deal(deck.pop(), player)\n",
    "    hidden = deck.pop()\n",
    "    \n",
    "    while 'y' in input(\"Hit? \").lower():\n",
    "        deal(deck.pop(), player)\n",
    "        if bust(player):\n",
    "            print(player, \"went bust!\")\n",
    "            return\n",
    "        \n",
    "    deal(hidden, dealer)\n",
    "    \n",
    "    while score(dealer) < 17:\n",
    "        deal(deck.pop(), dealer)\n",
    "        if bust(dealer):\n",
    "            print(dealer, \"went bust!\")\n",
    "            return\n",
    "        \n",
    "    print(player, score(player), \"and\", dealer, score(dealer))"
   ]
  },
  {
   "cell_type": "markdown",
   "metadata": {},
   "source": [
    "A `deck` of cards have 4 suites of each card, so we multiply it by 4. Recall that the cards are the `keys` of the dictionary `points` that we defined in the beginning. "
   ]
  },
  {
   "cell_type": "code",
   "execution_count": null,
   "metadata": {},
   "outputs": [],
   "source": [
    "deck = list(points.key()) * 4"
   ]
  },
  {
   "cell_type": "markdown",
   "metadata": {},
   "source": [
    "We shuffle the deck using the built-in shuffle function,"
   ]
  },
  {
   "cell_type": "code",
   "execution_count": null,
   "metadata": {},
   "outputs": [],
   "source": [
    "random.shuffle(deck)"
   ]
  },
  {
   "cell_type": "markdown",
   "metadata": {},
   "source": [
    "Then finally, we start playing the game. In the end of a game, we move all the cards to the `Discard` pile."
   ]
  },
  {
   "cell_type": "code",
   "execution_count": null,
   "metadata": {},
   "outputs": [],
   "source": [
    "while len(deck) > 10:\n",
    "    print('\\nDealing...')\n",
    "    play_hand(deck)\n",
    "    sql('UPDATE cards SET who = \"Discard\";')"
   ]
  },
  {
   "cell_type": "markdown",
   "metadata": {},
   "source": [
    "All the codes that we written above can be written in the same file so that we can run it via running the file."
   ]
  },
  {
   "cell_type": "code",
   "execution_count": null,
   "metadata": {},
   "outputs": [],
   "source": [
    "import random\n",
    "import readline\n",
    "import sqlite3\n",
    "\n",
    "points = {'A': 1, 'J': 10, 'Q': 10, 'K': 10}\n",
    "points.update({n: n for n in range(2, 11)})\n",
    "\n",
    "def hand_score(hand):\n",
    "    \"\"\"Total score for a hand\"\"\"\n",
    "    total = sum([points[card] for card in hand])\n",
    "    if total <= 11 and 'A' in hand:\n",
    "        return total + 10\n",
    "    return total\n",
    "\n",
    "db = sqlite3.Connection('cards.db')\n",
    "sql = db.execute\n",
    "sql('DROP TABLE IF EXISTS cards')\n",
    "sql('CREATE TABLE cards(card, who);')\n",
    "\n",
    "def deal(card, who):\n",
    "    \"\"\" Deal a card face up\"\"\"\n",
    "    sql('INSERT INTO cards VALUES (?, ?)', (card, who))\n",
    "    db.commit()\n",
    "    \n",
    "def score(who):\n",
    "    \"\"\" Compute the hand score for the player or dealer.\"\"\"\n",
    "    cards = sql('SELECT * from cards where who = ?;', [who])\n",
    "    return hand_score([card for card, who in cards.fetchall()])\n",
    "\n",
    "def bust(who):\n",
    "    \"\"\" Check if the player or dealer went bust.\"\"\"\n",
    "    return score(who) > 21\n",
    "\n",
    "player, dealer = \"Player\", \"Dealer\"\n",
    "\n",
    "def play_hand(deck):\n",
    "    \"\"\"Play a hand of Blackjack\"\"\"\n",
    "    deal(deck.pop(), player)\n",
    "    deal(deck.pop(), dealer)\n",
    "    deal(deck.pop(), player)\n",
    "    hidden = deck.pop()\n",
    "    \n",
    "    while 'y' in input(\"Hit? \").lower():\n",
    "        deal(deck.pop(), player)\n",
    "        if bust(player):\n",
    "            print(player, \"went bust!\")\n",
    "            return\n",
    "        \n",
    "    deal(hidden, dealer)\n",
    "    \n",
    "    while score(dealer) < 17:\n",
    "        deal(deck.pop(), dealer)\n",
    "        if bust(dealer):\n",
    "            print(dealer, \"went bust!\")\n",
    "            return\n",
    "        \n",
    "    print(player, score(player), \"and\", dealer, score(dealer))\n",
    "    \n",
    "deck = list(points.keys()) * 4\n",
    "random.shuffle(deck)\n",
    "while len(deck) > 10:\n",
    "    print('\\nDealing...')\n",
    "    play_hand(deck)\n",
    "    sql('UPDATE cards SET who = \"Discard\";')"
   ]
  },
  {
   "cell_type": "code",
   "execution_count": null,
   "metadata": {},
   "outputs": [],
   "source": []
  }
 ],
 "metadata": {
  "kernelspec": {
   "display_name": "Python 3",
   "language": "python",
   "name": "python3"
  },
  "language_info": {
   "codemirror_mode": {
    "name": "ipython",
    "version": 3
   },
   "file_extension": ".py",
   "mimetype": "text/x-python",
   "name": "python",
   "nbconvert_exporter": "python",
   "pygments_lexer": "ipython3",
   "version": "3.7.3"
  }
 },
 "nbformat": 4,
 "nbformat_minor": 4
}
