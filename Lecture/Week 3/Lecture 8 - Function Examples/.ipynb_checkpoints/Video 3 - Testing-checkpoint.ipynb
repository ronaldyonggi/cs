{
 "cells": [
  {
   "cell_type": "code",
   "execution_count": 1,
   "metadata": {},
   "outputs": [],
   "source": [
    "%load_ext tutormagic"
   ]
  },
  {
   "cell_type": "markdown",
   "metadata": {},
   "source": [
    "# Testing"
   ]
  },
  {
   "cell_type": "markdown",
   "metadata": {},
   "source": [
    "## Test-Driven Development\n",
    "\n",
    "#### Write test for a function before writing the function / implementation.\n",
    "1. A test will clarify the domain, range, & behavior of a function\n",
    "    * Understand the type of values that come in, come out, and how they relate to each other\n",
    "\n",
    "2. Tests can help identify tricky edge cases\n",
    "\n",
    "#### Develop incrementally and test each piece before moving on\n",
    "1. Develop the program piece by piece rather than waiting until the end of the program to find out whether everything runs correctly\n",
    "     * Useful for isolating problems and fix after \n",
    "\n",
    "2. We can't depend upon code that hasn't been tested\n",
    "3. After making new changes to the implementation, run  the old tests again\n",
    "    * Sometimes when we optimize an implementation, we ended up breaking it\n",
    "\n",
    "4. Run the code interactively\n",
    "    * Don't be afraid to experiment with a function after writing it\n",
    "        * Make sure the function behaves as what we expect\n",
    "    * Interactive sessions can become doctests. Just copy and paste"
   ]
  },
  {
   "cell_type": "markdown",
   "metadata": {},
   "source": [
    "## Demo\n",
    "Below, we test a function that computes the greatest common divisor (`gcd`) of 2 integers `m` and `n`"
   ]
  },
  {
   "cell_type": "code",
   "execution_count": 10,
   "metadata": {},
   "outputs": [
    {
     "name": "stdout",
     "output_type": "stream",
     "text": [
      "**********************************************************************\n",
      "File \"__main__\", line 6, in __main__.gcd\n",
      "Failed example:\n",
      "    gcd(12, 8)\n",
      "Expected:\n",
      "    4\n",
      "Got nothing\n",
      "**********************************************************************\n",
      "File \"__main__\", line 8, in __main__.gcd\n",
      "Failed example:\n",
      "    gcd(16, 12)\n",
      "Expected:\n",
      "    4\n",
      "Got nothing\n",
      "**********************************************************************\n",
      "1 items had failures:\n",
      "   2 of   2 in __main__.gcd\n",
      "***Test Failed*** 2 failures.\n"
     ]
    },
    {
     "data": {
      "text/plain": [
       "TestResults(failed=2, attempted=2)"
      ]
     },
     "execution_count": 10,
     "metadata": {},
     "output_type": "execute_result"
    }
   ],
   "source": [
    "def gcd(m, n):\n",
    "    \"\"\" Return the largest k that divides both m and n.\n",
    "    \n",
    "    k, m, n are all positive integers\n",
    "    \n",
    "    >>> gcd(12, 8)\n",
    "    4\n",
    "    >>> gcd(16, 12)\n",
    "    4\n",
    "    \"\"\"\n",
    "    \n",
    "import doctest\n",
    "doctest.testmod()"
   ]
  },
  {
   "cell_type": "markdown",
   "metadata": {},
   "source": [
    "Above, it appears the test worked correctly. We obtained nothing because we have not implemented anything. However, we can't write implementation yet because there are many other cases in `gcd` that we have not tested. For example, the case when one number is a multiple of the other, or when the first number `m` is smaller than the second number `n`, or when both numbers are the same. "
   ]
  },
  {
   "cell_type": "code",
   "execution_count": 11,
   "metadata": {},
   "outputs": [
    {
     "name": "stdout",
     "output_type": "stream",
     "text": [
      "**********************************************************************\n",
      "File \"__main__\", line 6, in __main__.gcd\n",
      "Failed example:\n",
      "    gcd(12, 8)\n",
      "Expected:\n",
      "    4\n",
      "Got nothing\n",
      "**********************************************************************\n",
      "File \"__main__\", line 8, in __main__.gcd\n",
      "Failed example:\n",
      "    gcd(16, 12)\n",
      "Expected:\n",
      "    4\n",
      "Got nothing\n",
      "**********************************************************************\n",
      "File \"__main__\", line 10, in __main__.gcd\n",
      "Failed example:\n",
      "    gcd(16, 8)\n",
      "Expected:\n",
      "    8\n",
      "Got nothing\n",
      "**********************************************************************\n",
      "File \"__main__\", line 12, in __main__.gcd\n",
      "Failed example:\n",
      "    gcd(2, 16)\n",
      "Expected:\n",
      "    2\n",
      "Got nothing\n",
      "**********************************************************************\n",
      "File \"__main__\", line 14, in __main__.gcd\n",
      "Failed example:\n",
      "    gcd(5, 5)\n",
      "Expected:\n",
      "    5\n",
      "Got nothing\n",
      "**********************************************************************\n",
      "1 items had failures:\n",
      "   5 of   5 in __main__.gcd\n",
      "***Test Failed*** 5 failures.\n"
     ]
    },
    {
     "data": {
      "text/plain": [
       "TestResults(failed=5, attempted=5)"
      ]
     },
     "execution_count": 11,
     "metadata": {},
     "output_type": "execute_result"
    }
   ],
   "source": [
    "def gcd(m, n):\n",
    "    \"\"\" Return the largest k that divides both m and n.\n",
    "    \n",
    "    k, m, n are all positive integers\n",
    "    \n",
    "    >>> gcd(12, 8)\n",
    "    4\n",
    "    >>> gcd(16, 12)\n",
    "    4\n",
    "    >>> gcd(16, 8)\n",
    "    8\n",
    "    >>> gcd(2, 16)\n",
    "    2\n",
    "    >>> gcd(5, 5)\n",
    "    5\n",
    "    \"\"\"\n",
    "    \n",
    "import doctest\n",
    "doctest.testmod()"
   ]
  },
  {
   "cell_type": "markdown",
   "metadata": {},
   "source": [
    "Now that we have enough tests, we can start writing implementation. We will use Euclidean algorithm, a classic implementation for computing the greatest common divisor of 2 numbers. "
   ]
  },
  {
   "cell_type": "code",
   "execution_count": 14,
   "metadata": {},
   "outputs": [
    {
     "name": "stdout",
     "output_type": "stream",
     "text": [
      "Trying:\n",
      "    gcd(12, 8)\n",
      "Expecting:\n",
      "    4\n",
      "ok\n",
      "Trying:\n",
      "    gcd(16, 12)\n",
      "Expecting:\n",
      "    4\n",
      "ok\n",
      "Trying:\n",
      "    gcd(16, 8)\n",
      "Expecting:\n",
      "    8\n",
      "ok\n",
      "Trying:\n",
      "    gcd(2, 16)\n",
      "Expecting:\n",
      "    2\n",
      "ok\n",
      "Trying:\n",
      "    gcd(5, 5)\n",
      "Expecting:\n",
      "    5\n",
      "ok\n",
      "3 items had no tests:\n",
      "    __main__\n",
      "    __main__.square\n",
      "    __main__.sum_squares\n",
      "1 items passed all tests:\n",
      "   5 tests in __main__.gcd\n",
      "5 tests in 4 items.\n",
      "5 passed and 0 failed.\n",
      "Test passed.\n"
     ]
    },
    {
     "data": {
      "text/plain": [
       "TestResults(failed=0, attempted=5)"
      ]
     },
     "execution_count": 14,
     "metadata": {},
     "output_type": "execute_result"
    }
   ],
   "source": [
    "def gcd(m, n):\n",
    "    \"\"\" Return the largest k that divides both m and n.\n",
    "    \n",
    "    k, m, n are all positive integers\n",
    "    \n",
    "    >>> gcd(12, 8)\n",
    "    4\n",
    "    >>> gcd(16, 12)\n",
    "    4\n",
    "    >>> gcd(16, 8)\n",
    "    8\n",
    "    >>> gcd(2, 16)\n",
    "    2\n",
    "    >>> gcd(5, 5)\n",
    "    5\n",
    "    \"\"\"\n",
    "    if m == n:\n",
    "        return m\n",
    "    # if m is smaller than n, switch places\n",
    "    elif m < n:\n",
    "        return gcd(n, m)\n",
    "    else:\n",
    "        return gcd(m-n, n)\n",
    "    \n",
    "import doctest\n",
    "doctest.testmod(verbose = True)"
   ]
  },
  {
   "cell_type": "markdown",
   "metadata": {},
   "source": [
    "The implementation passed all the tests!\n",
    "\n",
    "Other than checking if the code works as we expect, there are other uses for tests. If we want to see how the function runs, we can use the `trace` function from `ucb` module"
   ]
  },
  {
   "cell_type": "code",
   "execution_count": 16,
   "metadata": {},
   "outputs": [
    {
     "name": "stdout",
     "output_type": "stream",
     "text": [
      "Trying:\n",
      "    gcd(12, 8)\n",
      "Expecting:\n",
      "    4\n",
      "**********************************************************************\n",
      "File \"__main__\", line 43, in __main__.gcd\n",
      "Failed example:\n",
      "    gcd(12, 8)\n",
      "Expected:\n",
      "    4\n",
      "Got:\n",
      "    gcd(12, 8):\n",
      "        gcd(4, 8):\n",
      "            gcd(8, 4):\n",
      "                gcd(4, 4):\n",
      "                gcd(4, 4) -> 4\n",
      "            gcd(8, 4) -> 4\n",
      "        gcd(4, 8) -> 4\n",
      "    gcd(12, 8) -> 4\n",
      "    4\n",
      "Trying:\n",
      "    gcd(16, 12)\n",
      "Expecting:\n",
      "    4\n",
      "**********************************************************************\n",
      "File \"__main__\", line 45, in __main__.gcd\n",
      "Failed example:\n",
      "    gcd(16, 12)\n",
      "Expected:\n",
      "    4\n",
      "Got:\n",
      "    gcd(16, 12):\n",
      "        gcd(4, 12):\n",
      "            gcd(12, 4):\n",
      "                gcd(8, 4):\n",
      "                    gcd(4, 4):\n",
      "                    gcd(4, 4) -> 4\n",
      "                gcd(8, 4) -> 4\n",
      "            gcd(12, 4) -> 4\n",
      "        gcd(4, 12) -> 4\n",
      "    gcd(16, 12) -> 4\n",
      "    4\n",
      "Trying:\n",
      "    gcd(16, 8)\n",
      "Expecting:\n",
      "    8\n",
      "**********************************************************************\n",
      "File \"__main__\", line 47, in __main__.gcd\n",
      "Failed example:\n",
      "    gcd(16, 8)\n",
      "Expected:\n",
      "    8\n",
      "Got:\n",
      "    gcd(16, 8):\n",
      "        gcd(8, 8):\n",
      "        gcd(8, 8) -> 8\n",
      "    gcd(16, 8) -> 8\n",
      "    8\n",
      "Trying:\n",
      "    gcd(2, 16)\n",
      "Expecting:\n",
      "    2\n",
      "**********************************************************************\n",
      "File \"__main__\", line 49, in __main__.gcd\n",
      "Failed example:\n",
      "    gcd(2, 16)\n",
      "Expected:\n",
      "    2\n",
      "Got:\n",
      "    gcd(2, 16):\n",
      "        gcd(16, 2):\n",
      "            gcd(14, 2):\n",
      "                gcd(12, 2):\n",
      "                    gcd(10, 2):\n",
      "                        gcd(8, 2):\n",
      "                            gcd(6, 2):\n",
      "                                gcd(4, 2):\n",
      "                                    gcd(2, 2):\n",
      "                                    gcd(2, 2) -> 2\n",
      "                                gcd(4, 2) -> 2\n",
      "                            gcd(6, 2) -> 2\n",
      "                        gcd(8, 2) -> 2\n",
      "                    gcd(10, 2) -> 2\n",
      "                gcd(12, 2) -> 2\n",
      "            gcd(14, 2) -> 2\n",
      "        gcd(16, 2) -> 2\n",
      "    gcd(2, 16) -> 2\n",
      "    2\n",
      "Trying:\n",
      "    gcd(5, 5)\n",
      "Expecting:\n",
      "    5\n",
      "**********************************************************************\n",
      "File \"__main__\", line 51, in __main__.gcd\n",
      "Failed example:\n",
      "    gcd(5, 5)\n",
      "Expected:\n",
      "    5\n",
      "Got:\n",
      "    gcd(5, 5):\n",
      "    gcd(5, 5) -> 5\n",
      "    5\n",
      "3 items had no tests:\n",
      "    __main__\n",
      "    __main__.square\n",
      "    __main__.sum_squares\n",
      "**********************************************************************\n",
      "1 items had failures:\n",
      "   5 of   5 in __main__.gcd\n",
      "5 tests in 4 items.\n",
      "0 passed and 5 failed.\n",
      "***Test Failed*** 5 failures.\n"
     ]
    },
    {
     "data": {
      "text/plain": [
       "TestResults(failed=5, attempted=5)"
      ]
     },
     "execution_count": 16,
     "metadata": {},
     "output_type": "execute_result"
    }
   ],
   "source": [
    "# Make sure the file `ucb.py` is within the same directory as this python notebook\n",
    "from ucb import trace\n",
    "\n",
    "@trace\n",
    "def gcd(m, n):\n",
    "    \"\"\" Return the largest k that divides both m and n.\n",
    "    \n",
    "    k, m, n are all positive integers\n",
    "    \n",
    "    >>> gcd(12, 8)\n",
    "    4\n",
    "    >>> gcd(16, 12)\n",
    "    4\n",
    "    >>> gcd(16, 8)\n",
    "    8\n",
    "    >>> gcd(2, 16)\n",
    "    2\n",
    "    >>> gcd(5, 5)\n",
    "    5\n",
    "    \"\"\"\n",
    "    if m == n:\n",
    "        return m\n",
    "    # if m is smaller than n, switch places\n",
    "    elif m < n:\n",
    "        return gcd(n, m)\n",
    "    else:\n",
    "        return gcd(m-n, n)\n",
    "    \n",
    "import doctest\n",
    "doctest.testmod(verbose = True)"
   ]
  },
  {
   "cell_type": "markdown",
   "metadata": {},
   "source": [
    "Notice that all the tests above failed! This is because instead of printing just the answer, the implementation above also prints the trace. This is useful since the trace can give us clues on how to optimize the function\n",
    "\n",
    "If we look at the trace of `gcd(2, 16)`, observe that as soon as Python gets to `gcd(16, 2)`, `2` is the answer since `2` evenly divides `16`. Thus we can see the implementation from,"
   ]
  },
  {
   "cell_type": "code",
   "execution_count": null,
   "metadata": {},
   "outputs": [],
   "source": [
    "if m == n:\n",
    "    return m"
   ]
  },
  {
   "cell_type": "markdown",
   "metadata": {},
   "source": [
    "to,"
   ]
  },
  {
   "cell_type": "code",
   "execution_count": null,
   "metadata": {},
   "outputs": [],
   "source": [
    "if n % m == 0:\n",
    "    return m"
   ]
  },
  {
   "cell_type": "markdown",
   "metadata": {},
   "source": [
    "Let's test the code again!"
   ]
  },
  {
   "cell_type": "code",
   "execution_count": 17,
   "metadata": {},
   "outputs": [
    {
     "name": "stdout",
     "output_type": "stream",
     "text": [
      "Trying:\n",
      "    gcd(12, 8)\n",
      "Expecting:\n",
      "    4\n",
      "**********************************************************************\n",
      "File \"__main__\", line 43, in __main__.gcd\n",
      "Failed example:\n",
      "    gcd(12, 8)\n",
      "Expected:\n",
      "    4\n",
      "Got:\n",
      "    gcd(12, 8):\n",
      "        gcd(4, 8):\n",
      "        gcd(4, 8) -> 4\n",
      "    gcd(12, 8) -> 4\n",
      "    4\n",
      "Trying:\n",
      "    gcd(16, 12)\n",
      "Expecting:\n",
      "    4\n",
      "**********************************************************************\n",
      "File \"__main__\", line 45, in __main__.gcd\n",
      "Failed example:\n",
      "    gcd(16, 12)\n",
      "Expected:\n",
      "    4\n",
      "Got:\n",
      "    gcd(16, 12):\n",
      "        gcd(4, 12):\n",
      "        gcd(4, 12) -> 4\n",
      "    gcd(16, 12) -> 4\n",
      "    4\n",
      "Trying:\n",
      "    gcd(16, 8)\n",
      "Expecting:\n",
      "    8\n",
      "**********************************************************************\n",
      "File \"__main__\", line 47, in __main__.gcd\n",
      "Failed example:\n",
      "    gcd(16, 8)\n",
      "Expected:\n",
      "    8\n",
      "Got:\n",
      "    gcd(16, 8):\n",
      "        gcd(8, 8):\n",
      "        gcd(8, 8) -> 8\n",
      "    gcd(16, 8) -> 8\n",
      "    8\n",
      "Trying:\n",
      "    gcd(2, 16)\n",
      "Expecting:\n",
      "    2\n",
      "**********************************************************************\n",
      "File \"__main__\", line 49, in __main__.gcd\n",
      "Failed example:\n",
      "    gcd(2, 16)\n",
      "Expected:\n",
      "    2\n",
      "Got:\n",
      "    gcd(2, 16):\n",
      "    gcd(2, 16) -> 2\n",
      "    2\n",
      "Trying:\n",
      "    gcd(5, 5)\n",
      "Expecting:\n",
      "    5\n",
      "**********************************************************************\n",
      "File \"__main__\", line 51, in __main__.gcd\n",
      "Failed example:\n",
      "    gcd(5, 5)\n",
      "Expected:\n",
      "    5\n",
      "Got:\n",
      "    gcd(5, 5):\n",
      "    gcd(5, 5) -> 5\n",
      "    5\n",
      "3 items had no tests:\n",
      "    __main__\n",
      "    __main__.square\n",
      "    __main__.sum_squares\n",
      "**********************************************************************\n",
      "1 items had failures:\n",
      "   5 of   5 in __main__.gcd\n",
      "5 tests in 4 items.\n",
      "0 passed and 5 failed.\n",
      "***Test Failed*** 5 failures.\n"
     ]
    },
    {
     "data": {
      "text/plain": [
       "TestResults(failed=5, attempted=5)"
      ]
     },
     "execution_count": 17,
     "metadata": {},
     "output_type": "execute_result"
    }
   ],
   "source": [
    "# Make sure the file `ucb.py` is within the same directory as this python notebook\n",
    "from ucb import trace\n",
    "\n",
    "@trace\n",
    "def gcd(m, n):\n",
    "    \"\"\" Return the largest k that divides both m and n.\n",
    "    \n",
    "    k, m, n are all positive integers\n",
    "    \n",
    "    >>> gcd(12, 8)\n",
    "    4\n",
    "    >>> gcd(16, 12)\n",
    "    4\n",
    "    >>> gcd(16, 8)\n",
    "    8\n",
    "    >>> gcd(2, 16)\n",
    "    2\n",
    "    >>> gcd(5, 5)\n",
    "    5\n",
    "    \"\"\"\n",
    "    if n % m == 0:\n",
    "        return m\n",
    "    # if m is smaller than n, switch places\n",
    "    elif m < n:\n",
    "        return gcd(n, m)\n",
    "    else:\n",
    "        return gcd(m-n, n)\n",
    "    \n",
    "import doctest\n",
    "doctest.testmod(verbose = True)"
   ]
  },
  {
   "cell_type": "markdown",
   "metadata": {},
   "source": [
    "See that this time, there are less trace!"
   ]
  }
 ],
 "metadata": {
  "kernelspec": {
   "display_name": "Python 3",
   "language": "python",
   "name": "python3"
  },
  "language_info": {
   "codemirror_mode": {
    "name": "ipython",
    "version": 3
   },
   "file_extension": ".py",
   "mimetype": "text/x-python",
   "name": "python",
   "nbconvert_exporter": "python",
   "pygments_lexer": "ipython3",
   "version": "3.6.8"
  }
 },
 "nbformat": 4,
 "nbformat_minor": 2
}
