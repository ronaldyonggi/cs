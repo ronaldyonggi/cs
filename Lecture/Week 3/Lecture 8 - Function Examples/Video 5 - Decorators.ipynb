{
 "cells": [
  {
   "cell_type": "code",
   "execution_count": 1,
   "metadata": {},
   "outputs": [],
   "source": [
    "%load_ext tutormagic"
   ]
  },
  {
   "cell_type": "markdown",
   "metadata": {},
   "source": [
    "# Decorators\n",
    "Decorators is a Python feature that utilizes higher-order function. "
   ]
  },
  {
   "cell_type": "markdown",
   "metadata": {},
   "source": [
    "## Demo\n",
    "Below we have the function `square` and `sum_squares_up_to`. The function `sum_squares_up_to` sums all the squares of numbers from `1` up to `n`. "
   ]
  },
  {
   "cell_type": "code",
   "execution_count": 16,
   "metadata": {},
   "outputs": [],
   "source": [
    "def square(x):\n",
    "    return x * x\n",
    "\n",
    "def sum_squares_up_to(n):\n",
    "    k = 1\n",
    "    total = 0\n",
    "    while k <= n:\n",
    "        total, k = total + square(k), k + 1\n",
    "    return total"
   ]
  },
  {
   "cell_type": "code",
   "execution_count": 17,
   "metadata": {},
   "outputs": [
    {
     "data": {
      "text/plain": [
       "144"
      ]
     },
     "execution_count": 17,
     "metadata": {},
     "output_type": "execute_result"
    }
   ],
   "source": [
    "square(12)"
   ]
  },
  {
   "cell_type": "code",
   "execution_count": 18,
   "metadata": {},
   "outputs": [
    {
     "data": {
      "text/plain": [
       "14"
      ]
     },
     "execution_count": 18,
     "metadata": {},
     "output_type": "execute_result"
    }
   ],
   "source": [
    "sum_squares_up_to(3)"
   ]
  },
  {
   "cell_type": "markdown",
   "metadata": {},
   "source": [
    "Recall earlier we used the function `trace` from `ucb` module with the `gcd` function. The `@trace` is a decorator ."
   ]
  },
  {
   "cell_type": "code",
   "execution_count": 21,
   "metadata": {},
   "outputs": [],
   "source": [
    "from ucb import trace\n",
    "\n",
    "@trace\n",
    "def square(x):\n",
    "    return x * x\n",
    "\n",
    "def sum_squares_up_to(n):\n",
    "    k = 1\n",
    "    total = 0\n",
    "    while k <= n:\n",
    "        total, k = total + square(k), k + 1\n",
    "    return total"
   ]
  },
  {
   "cell_type": "code",
   "execution_count": 22,
   "metadata": {},
   "outputs": [
    {
     "name": "stdout",
     "output_type": "stream",
     "text": [
      "square(12):\n",
      "square(12) -> 144\n"
     ]
    },
    {
     "data": {
      "text/plain": [
       "144"
      ]
     },
     "execution_count": 22,
     "metadata": {},
     "output_type": "execute_result"
    }
   ],
   "source": [
    "square(12)"
   ]
  },
  {
   "cell_type": "markdown",
   "metadata": {},
   "source": [
    "See this time that the trace is printed! How do we implement `trace`? Let's try it! We name it `trace1` because it takes a function that takes `1` argument. "
   ]
  },
  {
   "cell_type": "code",
   "execution_count": 23,
   "metadata": {},
   "outputs": [],
   "source": [
    "def trace1(fn):\n",
    "    \"\"\" Returns a version of fn that first prints before it is called.\n",
    "    \n",
    "    fn is a function of 1 argument \n",
    "    \"\"\"\n",
    "    # Define a traced version of the function \n",
    "    def traced(x):\n",
    "        print('Calling', fn, 'on argument', x)\n",
    "        return fn(x)\n",
    "    return traced"
   ]
  },
  {
   "cell_type": "markdown",
   "metadata": {},
   "source": [
    "`traced` is just like `fn`, with an additional feature that it also prints. Now let's try using `trace1`!"
   ]
  },
  {
   "cell_type": "code",
   "execution_count": 24,
   "metadata": {},
   "outputs": [],
   "source": [
    "@trace1\n",
    "def square(x):\n",
    "    return x * x"
   ]
  },
  {
   "cell_type": "code",
   "execution_count": 25,
   "metadata": {},
   "outputs": [
    {
     "name": "stdout",
     "output_type": "stream",
     "text": [
      "Calling <function square at 0x010B4108> on argument 12\n"
     ]
    },
    {
     "data": {
      "text/plain": [
       "144"
      ]
     },
     "execution_count": 25,
     "metadata": {},
     "output_type": "execute_result"
    }
   ],
   "source": [
    "square(12)"
   ]
  },
  {
   "cell_type": "markdown",
   "metadata": {},
   "source": [
    "Let's try using `@trace1` on `sum_squares_up_to` this time!"
   ]
  },
  {
   "cell_type": "code",
   "execution_count": 26,
   "metadata": {},
   "outputs": [],
   "source": [
    "@trace1\n",
    "def sum_squares_up_to(n):\n",
    "    k = 1\n",
    "    total = 0\n",
    "    while k <= n:\n",
    "        total, k = total + square(k), k + 1\n",
    "    return total"
   ]
  },
  {
   "cell_type": "code",
   "execution_count": 27,
   "metadata": {},
   "outputs": [
    {
     "name": "stdout",
     "output_type": "stream",
     "text": [
      "Calling <function sum_squares_up_to at 0x010B4420> on argument 5\n",
      "Calling <function square at 0x010B4108> on argument 1\n",
      "Calling <function square at 0x010B4108> on argument 2\n",
      "Calling <function square at 0x010B4108> on argument 3\n",
      "Calling <function square at 0x010B4108> on argument 4\n",
      "Calling <function square at 0x010B4108> on argument 5\n"
     ]
    },
    {
     "data": {
      "text/plain": [
       "55"
      ]
     },
     "execution_count": 27,
     "metadata": {},
     "output_type": "execute_result"
    }
   ],
   "source": [
    "sum_squares_up_to(5)"
   ]
  },
  {
   "cell_type": "markdown",
   "metadata": {},
   "source": [
    "Note that all this time, `@trace1` decorator is a shortcut! It's the same as doing the following,"
   ]
  },
  {
   "cell_type": "code",
   "execution_count": 31,
   "metadata": {},
   "outputs": [],
   "source": [
    "def square(x):\n",
    "    return x * x"
   ]
  },
  {
   "cell_type": "code",
   "execution_count": 32,
   "metadata": {},
   "outputs": [],
   "source": [
    "square = trace1(square)"
   ]
  },
  {
   "cell_type": "code",
   "execution_count": 33,
   "metadata": {},
   "outputs": [
    {
     "name": "stdout",
     "output_type": "stream",
     "text": [
      "Calling <function square at 0x010B4F18> on argument 12\n"
     ]
    },
    {
     "data": {
      "text/plain": [
       "144"
      ]
     },
     "execution_count": 33,
     "metadata": {},
     "output_type": "execute_result"
    }
   ],
   "source": [
    "square(12)"
   ]
  },
  {
   "cell_type": "markdown",
   "metadata": {},
   "source": [
    "## Function Decorators\n",
    "<img src = 'decorator.jpg' width = 500/>\n",
    "\n",
    "Above is identical to:\n",
    "\n",
    "<img src = 'decorator_2.jpg' width = 500/>\n",
    "\n",
    "Above, we rebind the the name `triple` to the traced version of the function. We prefer the decorator version since it's helpful to know which decoration we use in the beginning. The most important reason is that not all Python programmers understand higher-order functions."
   ]
  }
 ],
 "metadata": {
  "kernelspec": {
   "display_name": "Python 3",
   "language": "python",
   "name": "python3"
  },
  "language_info": {
   "codemirror_mode": {
    "name": "ipython",
    "version": 3
   },
   "file_extension": ".py",
   "mimetype": "text/x-python",
   "name": "python",
   "nbconvert_exporter": "python",
   "pygments_lexer": "ipython3",
   "version": "3.6.8"
  }
 },
 "nbformat": 4,
 "nbformat_minor": 2
}
