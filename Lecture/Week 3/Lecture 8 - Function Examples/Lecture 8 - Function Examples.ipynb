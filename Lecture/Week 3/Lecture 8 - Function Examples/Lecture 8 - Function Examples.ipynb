{
 "cells": [
  {
   "cell_type": "code",
   "execution_count": 1,
   "metadata": {},
   "outputs": [],
   "source": [
    "%load_ext tutormagic"
   ]
  },
  {
   "cell_type": "markdown",
   "metadata": {},
   "source": [
    "# Abstraction"
   ]
  },
  {
   "cell_type": "markdown",
   "metadata": {},
   "source": [
    "## Functional Abstractions\n",
    "Functional abstractions is giving a name to some computational process and referring to that process as a whole without looking deeper into its implementation details.\n",
    "\n",
    "Below we have the function `square` and the function `sum_squares(x, y)` that uses `square` in its body."
   ]
  },
  {
   "cell_type": "code",
   "execution_count": 4,
   "metadata": {},
   "outputs": [],
   "source": [
    "def square(x):\n",
    "    return mul(x, x)\n",
    "\n",
    "def sum_squares(x, y):\n",
    "    return square(x) + square(y)"
   ]
  },
  {
   "cell_type": "markdown",
   "metadata": {},
   "source": [
    "### What does `sum_squares` need to know about `square` so that `sum_squares` can use `square` correctly?\n",
    "\n",
    "Does `sum_squares` need to know that,\n",
    "\n",
    "1. `square` takes one argument?\n",
    "    * Yes. \n",
    "\n",
    "2. `square` function has the **intrinsic** name `square`?\n",
    "    * No. An intrinsic name is only used so that human can inspect the name of the function.\n",
    "    \n",
    "3. `square` computes the square of a number?\n",
    "    * Yes. To use functional abstraction effectively, we need to know the behavior of the function\n",
    "\n",
    "4. `square` computes the square by calling `mul`\n",
    "    * No. We don't need to know the details on how `square` is computed\n",
    "    * We could have defined the `square` function as the following:"
   ]
  },
  {
   "cell_type": "code",
   "execution_count": 5,
   "metadata": {},
   "outputs": [],
   "source": [
    "def square(x):\n",
    "    return pow(x, 2)"
   ]
  },
  {
   "cell_type": "markdown",
   "metadata": {},
   "source": [
    "Or as the following,"
   ]
  },
  {
   "cell_type": "code",
   "execution_count": 6,
   "metadata": {},
   "outputs": [],
   "source": [
    "def square(x):\n",
    "    return mul(x, x-1) + x"
   ]
  },
  {
   "cell_type": "markdown",
   "metadata": {},
   "source": [
    "If the name `square` were bound to a built-in function, `sum_squares` would still work identically.\n",
    "* It doesn't matter whether `square` is user-defined or `built-in`, `sum_squares` do not need to know about it."
   ]
  },
  {
   "cell_type": "markdown",
   "metadata": {},
   "source": [
    "## Choosing Names\n",
    "Names typically don't matter for correctness, **BUT** they matter a lot for composition (how we write the program in such a way that other human can understand it easily). \n",
    "\n",
    "#### 1. Names should convey the `meaning` or `purpose` of the values to which they are bound\n",
    "* This way, it's easy to see why we created the value in the first place, and what we're going to do with it next\n",
    "\n",
    "#### 2. The type of value bound to the name is best documented in a function's `docstring`\n",
    "\n",
    "#### 3. Function names typically convey either:\n",
    "* Their effect - `print`\n",
    "* Their behavior - `triple`\n",
    "* Or the value returned - `abs`\n",
    "\n",
    "Here are some examples of bad choice for names (on the left side) and good choice for names (on the right side):\n",
    "\n",
    "| # | From: | To: |\n",
    "| ---- | ---- | ---- |\n",
    "| 1 | `true_false` | `rolled_a_one`|\n",
    "| 2 | `d` | `dice`|\n",
    "| 3 | `play_helper` | `take_turn`|\n",
    "| 4 | `my_int` | `num_rolls`|\n",
    "| 5 | `l, I, O` | `k, i, m`|\n",
    "\n",
    "1. For a value that is either `True` or `False`, don't name it `true_false`.\n",
    "    * Try to explain what it represents\n",
    "    * For example, whether a player roll a one in the game of Hog\n",
    "    \n",
    "2. In most larger programs, it is more helpful to use whole word (e.g. `dice`) than just a single letter (e.g. `d`)\n",
    "\n",
    "3. Describe what a function does, its behavior, rather than just \"who calls it\"\n",
    "    * When defining the function `play`, there's a functional abstraction of taking an individual turn. \n",
    "    * Instead of naming it `play_helper` or `play_subfunction` (because it's called by the `play` function), use `take_turn` as it simulates taking a turn\n",
    "    * This way, other function can use `take_turn` as well, not just limited to `play`\n",
    "    \n",
    "4. Don't just name a value by its type (`my_int`). Instead, explain the purpose of the value, or what it represents (`num_rolls`).\n",
    "\n",
    "5. There are some letters that are harder to read depending on the font."
   ]
  },
  {
   "cell_type": "markdown",
   "metadata": {},
   "source": [
    "## Which Values Deserve a Name\n",
    "We don't have to give names to every intermediate values since we can have `compound expressions`. However, if we have the same `repeated compound expressions` multiple times, it's better to give it a name.\n",
    "\n",
    "### Repeated compound expressions\n",
    "\n",
    "If we have the following,"
   ]
  },
  {
   "cell_type": "code",
   "execution_count": null,
   "metadata": {},
   "outputs": [],
   "source": [
    "if sqrt(square(a) + square(b)) > 1:\n",
    "    x = x + sqrt(square(a) + square(b))"
   ]
  },
  {
   "cell_type": "markdown",
   "metadata": {},
   "source": [
    "Above, the compound expression `sqrt(square(a) + square(b))` appears twice, both in the conditional `if` statement and the assignment statement. In this case, it is more efficient to give `sqrt(square(a) + square(b))` a name."
   ]
  },
  {
   "cell_type": "code",
   "execution_count": null,
   "metadata": {},
   "outputs": [],
   "source": [
    "hypotenuse = sqrt(square(a) + square(b))\n",
    "if hypotenuse > 1:\n",
    "    x = x + hypotenuse"
   ]
  },
  {
   "cell_type": "markdown",
   "metadata": {},
   "source": [
    "### Don't make expressions too complex\n",
    "Below we have a quadratic formula,"
   ]
  },
  {
   "cell_type": "code",
   "execution_count": 7,
   "metadata": {},
   "outputs": [
    {
     "ename": "NameError",
     "evalue": "name 'b' is not defined",
     "output_type": "error",
     "traceback": [
      "\u001b[1;31m---------------------------------------------------------------------------\u001b[0m",
      "\u001b[1;31mNameError\u001b[0m                                 Traceback (most recent call last)",
      "\u001b[1;32m<ipython-input-7-e8916e322186>\u001b[0m in \u001b[0;36m<module>\u001b[1;34m\u001b[0m\n\u001b[1;32m----> 1\u001b[1;33m \u001b[0mx\u001b[0m \u001b[1;33m=\u001b[0m \u001b[1;33m(\u001b[0m\u001b[1;33m-\u001b[0m\u001b[0mb\u001b[0m \u001b[1;33m+\u001b[0m \u001b[0msqrt\u001b[0m\u001b[1;33m(\u001b[0m\u001b[0msquare\u001b[0m\u001b[1;33m(\u001b[0m\u001b[0mb\u001b[0m\u001b[1;33m)\u001b[0m \u001b[1;33m-\u001b[0m \u001b[1;36m4\u001b[0m \u001b[1;33m*\u001b[0m \u001b[0ma\u001b[0m \u001b[1;33m*\u001b[0m \u001b[0mc\u001b[0m\u001b[1;33m)\u001b[0m\u001b[1;33m)\u001b[0m \u001b[1;33m/\u001b[0m \u001b[1;33m(\u001b[0m\u001b[1;36m2\u001b[0m \u001b[1;33m*\u001b[0m \u001b[0ma\u001b[0m\u001b[1;33m)\u001b[0m\u001b[1;33m\u001b[0m\u001b[1;33m\u001b[0m\u001b[0m\n\u001b[0m",
      "\u001b[1;31mNameError\u001b[0m: name 'b' is not defined"
     ]
    }
   ],
   "source": [
    "x = (-b + sqrt(square(b) - 4 * a * c)) / (2 * a)"
   ]
  },
  {
   "cell_type": "markdown",
   "metadata": {},
   "source": [
    "In the case above, it is more efficient to take a part of the formula and give it a name."
   ]
  },
  {
   "cell_type": "code",
   "execution_count": 8,
   "metadata": {},
   "outputs": [
    {
     "ename": "NameError",
     "evalue": "name 'sqrt' is not defined",
     "output_type": "error",
     "traceback": [
      "\u001b[1;31m---------------------------------------------------------------------------\u001b[0m",
      "\u001b[1;31mNameError\u001b[0m                                 Traceback (most recent call last)",
      "\u001b[1;32m<ipython-input-8-9c18c58e2d6f>\u001b[0m in \u001b[0;36m<module>\u001b[1;34m\u001b[0m\n\u001b[1;32m----> 1\u001b[1;33m \u001b[0mdiscriminant\u001b[0m \u001b[1;33m=\u001b[0m \u001b[0msqrt\u001b[0m\u001b[1;33m(\u001b[0m\u001b[0msquare\u001b[0m\u001b[1;33m(\u001b[0m\u001b[0mb\u001b[0m\u001b[1;33m)\u001b[0m \u001b[1;33m-\u001b[0m \u001b[1;36m4\u001b[0m \u001b[1;33m*\u001b[0m \u001b[0ma\u001b[0m \u001b[1;33m*\u001b[0m \u001b[0mc\u001b[0m\u001b[1;33m)\u001b[0m\u001b[1;33m\u001b[0m\u001b[1;33m\u001b[0m\u001b[0m\n\u001b[0m\u001b[0;32m      2\u001b[0m \u001b[0mx\u001b[0m \u001b[1;33m=\u001b[0m \u001b[1;33m(\u001b[0m\u001b[1;33m-\u001b[0m\u001b[0mb\u001b[0m \u001b[1;33m+\u001b[0m \u001b[0mdiscriminant\u001b[0m\u001b[1;33m)\u001b[0m \u001b[1;33m/\u001b[0m \u001b[1;33m(\u001b[0m\u001b[1;36m2\u001b[0m \u001b[1;33m*\u001b[0m \u001b[0ma\u001b[0m\u001b[1;33m)\u001b[0m\u001b[1;33m\u001b[0m\u001b[1;33m\u001b[0m\u001b[0m\n",
      "\u001b[1;31mNameError\u001b[0m: name 'sqrt' is not defined"
     ]
    }
   ],
   "source": [
    "discriminant = sqrt(square(b) - 4 * a * c)\n",
    "x = (-b + discriminant) / (2 * a)"
   ]
  },
  {
   "cell_type": "markdown",
   "metadata": {},
   "source": [
    "### More Naming Tips\n",
    "\n",
    "#### 1. Names can be long if they help document code"
   ]
  },
  {
   "cell_type": "code",
   "execution_count": null,
   "metadata": {},
   "outputs": [],
   "source": [
    "average_age = average(age, students)"
   ]
  },
  {
   "cell_type": "markdown",
   "metadata": {},
   "source": [
    "Above is preferable compared to:"
   ]
  },
  {
   "cell_type": "code",
   "execution_count": null,
   "metadata": {},
   "outputs": [],
   "source": [
    "# Compute average age of students\n",
    "aa = avg(a, st)"
   ]
  },
  {
   "cell_type": "markdown",
   "metadata": {},
   "source": [
    "#### 2. Names can be short if they represent generic quantities: counts, arbitrary functions, arguments to mathematical operations, etc.\n",
    "* `n, k, i` - usually integers\n",
    "* `x, y, z` - usually real numbers\n",
    "* `f, g, h` - usually functions"
   ]
  },
  {
   "cell_type": "markdown",
   "metadata": {},
   "source": [
    "# ==================== Video 3 ======================"
   ]
  },
  {
   "cell_type": "markdown",
   "metadata": {},
   "source": [
    "# Testing"
   ]
  },
  {
   "cell_type": "markdown",
   "metadata": {},
   "source": [
    "## Test-Driven Development\n",
    "\n",
    "#### Write test for a function before writing the function / implementation.\n",
    "1. A test will clarify the domain, range, & behavior of a function\n",
    "    * Understand the type of values that come in, come out, and how they relate to each other\n",
    "\n",
    "2. Tests can help identify tricky edge cases\n",
    "\n",
    "#### Develop incrementally and test each piece before moving on\n",
    "1. Develop the program piece by piece rather than waiting until the end of the program to find out whether everything runs correctly\n",
    "     * Useful for isolating problems and fix after \n",
    "\n",
    "2. We can't depend upon code that hasn't been tested\n",
    "3. After making new changes to the implementation, run  the old tests again\n",
    "    * Sometimes when we optimize an implementation, we ended up breaking it\n",
    "\n",
    "4. Run the code interactively\n",
    "    * Don't be afraid to experiment with a function after writing it\n",
    "        * Make sure the function behaves as what we expect\n",
    "    * Interactive sessions can become doctests. Just copy and paste"
   ]
  },
  {
   "cell_type": "markdown",
   "metadata": {},
   "source": [
    "## Demo\n",
    "Below, we test a function that computes the greatest common divisor (`gcd`) of 2 integers `m` and `n`"
   ]
  },
  {
   "cell_type": "code",
   "execution_count": 10,
   "metadata": {},
   "outputs": [
    {
     "name": "stdout",
     "output_type": "stream",
     "text": [
      "**********************************************************************\n",
      "File \"__main__\", line 6, in __main__.gcd\n",
      "Failed example:\n",
      "    gcd(12, 8)\n",
      "Expected:\n",
      "    4\n",
      "Got nothing\n",
      "**********************************************************************\n",
      "File \"__main__\", line 8, in __main__.gcd\n",
      "Failed example:\n",
      "    gcd(16, 12)\n",
      "Expected:\n",
      "    4\n",
      "Got nothing\n",
      "**********************************************************************\n",
      "1 items had failures:\n",
      "   2 of   2 in __main__.gcd\n",
      "***Test Failed*** 2 failures.\n"
     ]
    },
    {
     "data": {
      "text/plain": [
       "TestResults(failed=2, attempted=2)"
      ]
     },
     "execution_count": 10,
     "metadata": {},
     "output_type": "execute_result"
    }
   ],
   "source": [
    "def gcd(m, n):\n",
    "    \"\"\" Return the largest k that divides both m and n.\n",
    "    \n",
    "    k, m, n are all positive integers\n",
    "    \n",
    "    >>> gcd(12, 8)\n",
    "    4\n",
    "    >>> gcd(16, 12)\n",
    "    4\n",
    "    \"\"\"\n",
    "    \n",
    "import doctest\n",
    "doctest.testmod()"
   ]
  },
  {
   "cell_type": "markdown",
   "metadata": {},
   "source": [
    "Above, it appears the test worked correctly. We obtained nothing because we have not implemented anything. However, we can't write implementation yet because there are many other cases in `gcd` that we have not tested. For example, the case when one number is a multiple of the other, or when the first number `m` is smaller than the second number `n`, or when both numbers are the same. "
   ]
  },
  {
   "cell_type": "code",
   "execution_count": 11,
   "metadata": {},
   "outputs": [
    {
     "name": "stdout",
     "output_type": "stream",
     "text": [
      "**********************************************************************\n",
      "File \"__main__\", line 6, in __main__.gcd\n",
      "Failed example:\n",
      "    gcd(12, 8)\n",
      "Expected:\n",
      "    4\n",
      "Got nothing\n",
      "**********************************************************************\n",
      "File \"__main__\", line 8, in __main__.gcd\n",
      "Failed example:\n",
      "    gcd(16, 12)\n",
      "Expected:\n",
      "    4\n",
      "Got nothing\n",
      "**********************************************************************\n",
      "File \"__main__\", line 10, in __main__.gcd\n",
      "Failed example:\n",
      "    gcd(16, 8)\n",
      "Expected:\n",
      "    8\n",
      "Got nothing\n",
      "**********************************************************************\n",
      "File \"__main__\", line 12, in __main__.gcd\n",
      "Failed example:\n",
      "    gcd(2, 16)\n",
      "Expected:\n",
      "    2\n",
      "Got nothing\n",
      "**********************************************************************\n",
      "File \"__main__\", line 14, in __main__.gcd\n",
      "Failed example:\n",
      "    gcd(5, 5)\n",
      "Expected:\n",
      "    5\n",
      "Got nothing\n",
      "**********************************************************************\n",
      "1 items had failures:\n",
      "   5 of   5 in __main__.gcd\n",
      "***Test Failed*** 5 failures.\n"
     ]
    },
    {
     "data": {
      "text/plain": [
       "TestResults(failed=5, attempted=5)"
      ]
     },
     "execution_count": 11,
     "metadata": {},
     "output_type": "execute_result"
    }
   ],
   "source": [
    "def gcd(m, n):\n",
    "    \"\"\" Return the largest k that divides both m and n.\n",
    "    \n",
    "    k, m, n are all positive integers\n",
    "    \n",
    "    >>> gcd(12, 8)\n",
    "    4\n",
    "    >>> gcd(16, 12)\n",
    "    4\n",
    "    >>> gcd(16, 8)\n",
    "    8\n",
    "    >>> gcd(2, 16)\n",
    "    2\n",
    "    >>> gcd(5, 5)\n",
    "    5\n",
    "    \"\"\"\n",
    "    \n",
    "import doctest\n",
    "doctest.testmod()"
   ]
  },
  {
   "cell_type": "markdown",
   "metadata": {},
   "source": [
    "Now that we have enough tests, we can start writing implementation. We will use Euclidean algorithm, a classic implementation for computing the greatest common divisor of 2 numbers. "
   ]
  },
  {
   "cell_type": "code",
   "execution_count": 14,
   "metadata": {},
   "outputs": [
    {
     "name": "stdout",
     "output_type": "stream",
     "text": [
      "Trying:\n",
      "    gcd(12, 8)\n",
      "Expecting:\n",
      "    4\n",
      "ok\n",
      "Trying:\n",
      "    gcd(16, 12)\n",
      "Expecting:\n",
      "    4\n",
      "ok\n",
      "Trying:\n",
      "    gcd(16, 8)\n",
      "Expecting:\n",
      "    8\n",
      "ok\n",
      "Trying:\n",
      "    gcd(2, 16)\n",
      "Expecting:\n",
      "    2\n",
      "ok\n",
      "Trying:\n",
      "    gcd(5, 5)\n",
      "Expecting:\n",
      "    5\n",
      "ok\n",
      "3 items had no tests:\n",
      "    __main__\n",
      "    __main__.square\n",
      "    __main__.sum_squares\n",
      "1 items passed all tests:\n",
      "   5 tests in __main__.gcd\n",
      "5 tests in 4 items.\n",
      "5 passed and 0 failed.\n",
      "Test passed.\n"
     ]
    },
    {
     "data": {
      "text/plain": [
       "TestResults(failed=0, attempted=5)"
      ]
     },
     "execution_count": 14,
     "metadata": {},
     "output_type": "execute_result"
    }
   ],
   "source": [
    "def gcd(m, n):\n",
    "    \"\"\" Return the largest k that divides both m and n.\n",
    "    \n",
    "    k, m, n are all positive integers\n",
    "    \n",
    "    >>> gcd(12, 8)\n",
    "    4\n",
    "    >>> gcd(16, 12)\n",
    "    4\n",
    "    >>> gcd(16, 8)\n",
    "    8\n",
    "    >>> gcd(2, 16)\n",
    "    2\n",
    "    >>> gcd(5, 5)\n",
    "    5\n",
    "    \"\"\"\n",
    "    if m == n:\n",
    "        return m\n",
    "    # if m is smaller than n, switch places\n",
    "    elif m < n:\n",
    "        return gcd(n, m)\n",
    "    else:\n",
    "        return gcd(m-n, n)\n",
    "    \n",
    "import doctest\n",
    "doctest.testmod(verbose = True)"
   ]
  },
  {
   "cell_type": "markdown",
   "metadata": {},
   "source": [
    "The implementation passed all the tests!\n",
    "\n",
    "Other than checking if the code works as we expect, there are other uses for tests. If we want to see how the function runs, we can use the `trace` function from `ucb` module"
   ]
  },
  {
   "cell_type": "code",
   "execution_count": 16,
   "metadata": {},
   "outputs": [
    {
     "name": "stdout",
     "output_type": "stream",
     "text": [
      "Trying:\n",
      "    gcd(12, 8)\n",
      "Expecting:\n",
      "    4\n",
      "**********************************************************************\n",
      "File \"__main__\", line 43, in __main__.gcd\n",
      "Failed example:\n",
      "    gcd(12, 8)\n",
      "Expected:\n",
      "    4\n",
      "Got:\n",
      "    gcd(12, 8):\n",
      "        gcd(4, 8):\n",
      "            gcd(8, 4):\n",
      "                gcd(4, 4):\n",
      "                gcd(4, 4) -> 4\n",
      "            gcd(8, 4) -> 4\n",
      "        gcd(4, 8) -> 4\n",
      "    gcd(12, 8) -> 4\n",
      "    4\n",
      "Trying:\n",
      "    gcd(16, 12)\n",
      "Expecting:\n",
      "    4\n",
      "**********************************************************************\n",
      "File \"__main__\", line 45, in __main__.gcd\n",
      "Failed example:\n",
      "    gcd(16, 12)\n",
      "Expected:\n",
      "    4\n",
      "Got:\n",
      "    gcd(16, 12):\n",
      "        gcd(4, 12):\n",
      "            gcd(12, 4):\n",
      "                gcd(8, 4):\n",
      "                    gcd(4, 4):\n",
      "                    gcd(4, 4) -> 4\n",
      "                gcd(8, 4) -> 4\n",
      "            gcd(12, 4) -> 4\n",
      "        gcd(4, 12) -> 4\n",
      "    gcd(16, 12) -> 4\n",
      "    4\n",
      "Trying:\n",
      "    gcd(16, 8)\n",
      "Expecting:\n",
      "    8\n",
      "**********************************************************************\n",
      "File \"__main__\", line 47, in __main__.gcd\n",
      "Failed example:\n",
      "    gcd(16, 8)\n",
      "Expected:\n",
      "    8\n",
      "Got:\n",
      "    gcd(16, 8):\n",
      "        gcd(8, 8):\n",
      "        gcd(8, 8) -> 8\n",
      "    gcd(16, 8) -> 8\n",
      "    8\n",
      "Trying:\n",
      "    gcd(2, 16)\n",
      "Expecting:\n",
      "    2\n",
      "**********************************************************************\n",
      "File \"__main__\", line 49, in __main__.gcd\n",
      "Failed example:\n",
      "    gcd(2, 16)\n",
      "Expected:\n",
      "    2\n",
      "Got:\n",
      "    gcd(2, 16):\n",
      "        gcd(16, 2):\n",
      "            gcd(14, 2):\n",
      "                gcd(12, 2):\n",
      "                    gcd(10, 2):\n",
      "                        gcd(8, 2):\n",
      "                            gcd(6, 2):\n",
      "                                gcd(4, 2):\n",
      "                                    gcd(2, 2):\n",
      "                                    gcd(2, 2) -> 2\n",
      "                                gcd(4, 2) -> 2\n",
      "                            gcd(6, 2) -> 2\n",
      "                        gcd(8, 2) -> 2\n",
      "                    gcd(10, 2) -> 2\n",
      "                gcd(12, 2) -> 2\n",
      "            gcd(14, 2) -> 2\n",
      "        gcd(16, 2) -> 2\n",
      "    gcd(2, 16) -> 2\n",
      "    2\n",
      "Trying:\n",
      "    gcd(5, 5)\n",
      "Expecting:\n",
      "    5\n",
      "**********************************************************************\n",
      "File \"__main__\", line 51, in __main__.gcd\n",
      "Failed example:\n",
      "    gcd(5, 5)\n",
      "Expected:\n",
      "    5\n",
      "Got:\n",
      "    gcd(5, 5):\n",
      "    gcd(5, 5) -> 5\n",
      "    5\n",
      "3 items had no tests:\n",
      "    __main__\n",
      "    __main__.square\n",
      "    __main__.sum_squares\n",
      "**********************************************************************\n",
      "1 items had failures:\n",
      "   5 of   5 in __main__.gcd\n",
      "5 tests in 4 items.\n",
      "0 passed and 5 failed.\n",
      "***Test Failed*** 5 failures.\n"
     ]
    },
    {
     "data": {
      "text/plain": [
       "TestResults(failed=5, attempted=5)"
      ]
     },
     "execution_count": 16,
     "metadata": {},
     "output_type": "execute_result"
    }
   ],
   "source": [
    "# Make sure the file `ucb.py` is within the same directory as this python notebook\n",
    "from ucb import trace\n",
    "\n",
    "@trace\n",
    "def gcd(m, n):\n",
    "    \"\"\" Return the largest k that divides both m and n.\n",
    "    \n",
    "    k, m, n are all positive integers\n",
    "    \n",
    "    >>> gcd(12, 8)\n",
    "    4\n",
    "    >>> gcd(16, 12)\n",
    "    4\n",
    "    >>> gcd(16, 8)\n",
    "    8\n",
    "    >>> gcd(2, 16)\n",
    "    2\n",
    "    >>> gcd(5, 5)\n",
    "    5\n",
    "    \"\"\"\n",
    "    if m == n:\n",
    "        return m\n",
    "    # if m is smaller than n, switch places\n",
    "    elif m < n:\n",
    "        return gcd(n, m)\n",
    "    else:\n",
    "        return gcd(m-n, n)\n",
    "    \n",
    "import doctest\n",
    "doctest.testmod(verbose = True)"
   ]
  },
  {
   "cell_type": "markdown",
   "metadata": {},
   "source": [
    "Notice that all the tests above failed! This is because instead of printing just the answer, the implementation above also prints the trace. This is useful since the trace can give us clues on how to optimize the function\n",
    "\n",
    "If we look at the trace of `gcd(2, 16)`, observe that as soon as Python gets to `gcd(16, 2)`, `2` is the answer since `2` evenly divides `16`. Thus we can see the implementation from,"
   ]
  },
  {
   "cell_type": "code",
   "execution_count": null,
   "metadata": {},
   "outputs": [],
   "source": [
    "if m == n:\n",
    "    return m"
   ]
  },
  {
   "cell_type": "markdown",
   "metadata": {},
   "source": [
    "to,"
   ]
  },
  {
   "cell_type": "code",
   "execution_count": null,
   "metadata": {},
   "outputs": [],
   "source": [
    "if n % m == 0:\n",
    "    return m"
   ]
  },
  {
   "cell_type": "markdown",
   "metadata": {},
   "source": [
    "Let's test the code again!"
   ]
  },
  {
   "cell_type": "code",
   "execution_count": 17,
   "metadata": {},
   "outputs": [
    {
     "name": "stdout",
     "output_type": "stream",
     "text": [
      "Trying:\n",
      "    gcd(12, 8)\n",
      "Expecting:\n",
      "    4\n",
      "**********************************************************************\n",
      "File \"__main__\", line 43, in __main__.gcd\n",
      "Failed example:\n",
      "    gcd(12, 8)\n",
      "Expected:\n",
      "    4\n",
      "Got:\n",
      "    gcd(12, 8):\n",
      "        gcd(4, 8):\n",
      "        gcd(4, 8) -> 4\n",
      "    gcd(12, 8) -> 4\n",
      "    4\n",
      "Trying:\n",
      "    gcd(16, 12)\n",
      "Expecting:\n",
      "    4\n",
      "**********************************************************************\n",
      "File \"__main__\", line 45, in __main__.gcd\n",
      "Failed example:\n",
      "    gcd(16, 12)\n",
      "Expected:\n",
      "    4\n",
      "Got:\n",
      "    gcd(16, 12):\n",
      "        gcd(4, 12):\n",
      "        gcd(4, 12) -> 4\n",
      "    gcd(16, 12) -> 4\n",
      "    4\n",
      "Trying:\n",
      "    gcd(16, 8)\n",
      "Expecting:\n",
      "    8\n",
      "**********************************************************************\n",
      "File \"__main__\", line 47, in __main__.gcd\n",
      "Failed example:\n",
      "    gcd(16, 8)\n",
      "Expected:\n",
      "    8\n",
      "Got:\n",
      "    gcd(16, 8):\n",
      "        gcd(8, 8):\n",
      "        gcd(8, 8) -> 8\n",
      "    gcd(16, 8) -> 8\n",
      "    8\n",
      "Trying:\n",
      "    gcd(2, 16)\n",
      "Expecting:\n",
      "    2\n",
      "**********************************************************************\n",
      "File \"__main__\", line 49, in __main__.gcd\n",
      "Failed example:\n",
      "    gcd(2, 16)\n",
      "Expected:\n",
      "    2\n",
      "Got:\n",
      "    gcd(2, 16):\n",
      "    gcd(2, 16) -> 2\n",
      "    2\n",
      "Trying:\n",
      "    gcd(5, 5)\n",
      "Expecting:\n",
      "    5\n",
      "**********************************************************************\n",
      "File \"__main__\", line 51, in __main__.gcd\n",
      "Failed example:\n",
      "    gcd(5, 5)\n",
      "Expected:\n",
      "    5\n",
      "Got:\n",
      "    gcd(5, 5):\n",
      "    gcd(5, 5) -> 5\n",
      "    5\n",
      "3 items had no tests:\n",
      "    __main__\n",
      "    __main__.square\n",
      "    __main__.sum_squares\n",
      "**********************************************************************\n",
      "1 items had failures:\n",
      "   5 of   5 in __main__.gcd\n",
      "5 tests in 4 items.\n",
      "0 passed and 5 failed.\n",
      "***Test Failed*** 5 failures.\n"
     ]
    },
    {
     "data": {
      "text/plain": [
       "TestResults(failed=5, attempted=5)"
      ]
     },
     "execution_count": 17,
     "metadata": {},
     "output_type": "execute_result"
    }
   ],
   "source": [
    "# Make sure the file `ucb.py` is within the same directory as this python notebook\n",
    "from ucb import trace\n",
    "\n",
    "@trace\n",
    "def gcd(m, n):\n",
    "    \"\"\" Return the largest k that divides both m and n.\n",
    "    \n",
    "    k, m, n are all positive integers\n",
    "    \n",
    "    >>> gcd(12, 8)\n",
    "    4\n",
    "    >>> gcd(16, 12)\n",
    "    4\n",
    "    >>> gcd(16, 8)\n",
    "    8\n",
    "    >>> gcd(2, 16)\n",
    "    2\n",
    "    >>> gcd(5, 5)\n",
    "    5\n",
    "    \"\"\"\n",
    "    if n % m == 0:\n",
    "        return m\n",
    "    # if m is smaller than n, switch places\n",
    "    elif m < n:\n",
    "        return gcd(n, m)\n",
    "    else:\n",
    "        return gcd(m-n, n)\n",
    "    \n",
    "import doctest\n",
    "doctest.testmod(verbose = True)"
   ]
  },
  {
   "cell_type": "markdown",
   "metadata": {},
   "source": [
    "See that this time, there are less trace!"
   ]
  },
  {
   "cell_type": "markdown",
   "metadata": {},
   "source": [
    "# ==================== Video 4 ======================"
   ]
  },
  {
   "cell_type": "markdown",
   "metadata": {},
   "source": [
    "# Currying"
   ]
  },
  {
   "cell_type": "markdown",
   "metadata": {},
   "source": [
    "## Function Currying\n",
    "Function currying is a way of manipulating functions. \n",
    "\n",
    "Currying is **transforming a multi-argument function into a single-argument, higher-order function** that returns a function that takes the rest of the arguments. It was discovered by Moses Schonfinkel and made popular by Haskell Curry.  \n",
    "\n",
    "Let's go back to the `make_adder` function. `make_adder` takes an argument `n` and returns a function that takes an argument `k` and returns `n + k`. This time, instead of defining `adder`, we use `lambda` expression, but overall the contents of the function is the same. "
   ]
  },
  {
   "cell_type": "code",
   "execution_count": 2,
   "metadata": {},
   "outputs": [],
   "source": [
    "def make_adder(n):\n",
    "    return lambda k: n + k"
   ]
  },
  {
   "cell_type": "code",
   "execution_count": 3,
   "metadata": {},
   "outputs": [
    {
     "data": {
      "text/plain": [
       "5"
      ]
     },
     "execution_count": 3,
     "metadata": {},
     "output_type": "execute_result"
    }
   ],
   "source": [
    "make_adder(2)(3)"
   ]
  },
  {
   "cell_type": "markdown",
   "metadata": {},
   "source": [
    "Above, recall that to use `make_adder`, we write a call expression where the operator, `make_adder(2)`, is a call expression, which gives back a function. We pass in `3` to the function to obtain `5`. \n",
    "\n",
    "By contrast, we also have `add` function, which takes 2 arguments and gives back their sum."
   ]
  },
  {
   "cell_type": "code",
   "execution_count": 5,
   "metadata": {},
   "outputs": [
    {
     "data": {
      "text/plain": [
       "5"
      ]
     },
     "execution_count": 5,
     "metadata": {},
     "output_type": "execute_result"
    }
   ],
   "source": [
    "from operator import add\n",
    "add(2, 3)"
   ]
  },
  {
   "cell_type": "markdown",
   "metadata": {},
   "source": [
    "<img src = 'general.jpg' width = 600/>\n",
    "\n",
    "The relationship between a function that takes `1` argument and gives back function with a function that takes multiple argument and gives back the actual answer. We can express this general relationship in code. \n",
    "\n",
    "Below we have the function `curry2` that takes in a function `f`. \n",
    "* `curry2` defines a function `g(x)` and returns `g`\n",
    "    * `g(x)` defines a function `h(y)` and returns `h`\n",
    "        * `h(y)` returns `f(x, y)`"
   ]
  },
  {
   "cell_type": "code",
   "execution_count": 7,
   "metadata": {},
   "outputs": [],
   "source": [
    "def curry2(f):\n",
    "    def g(x):\n",
    "        def h(y):\n",
    "            return f(x, y)\n",
    "        return h\n",
    "    return g"
   ]
  },
  {
   "cell_type": "markdown",
   "metadata": {},
   "source": [
    "We just created the function `curry2` that turns 2-argument function (such as `add`) to a higher-order function (such as `make_adder`). If we want to create an equivalent of the `make_adder`, we can do the following,"
   ]
  },
  {
   "cell_type": "code",
   "execution_count": 8,
   "metadata": {},
   "outputs": [],
   "source": [
    "m = curry2(add)"
   ]
  },
  {
   "cell_type": "markdown",
   "metadata": {},
   "source": [
    "Now `m` behaves like `make_adder`"
   ]
  },
  {
   "cell_type": "code",
   "execution_count": 9,
   "metadata": {},
   "outputs": [],
   "source": [
    "add_three = m(3)"
   ]
  },
  {
   "cell_type": "code",
   "execution_count": 10,
   "metadata": {},
   "outputs": [
    {
     "data": {
      "text/plain": [
       "5"
      ]
     },
     "execution_count": 10,
     "metadata": {},
     "output_type": "execute_result"
    }
   ],
   "source": [
    "add_three(2)"
   ]
  },
  {
   "cell_type": "code",
   "execution_count": 11,
   "metadata": {},
   "outputs": [
    {
     "data": {
      "text/plain": [
       "2013"
      ]
     },
     "execution_count": 11,
     "metadata": {},
     "output_type": "execute_result"
    }
   ],
   "source": [
    "add_three(2010)"
   ]
  },
  {
   "cell_type": "markdown",
   "metadata": {},
   "source": [
    "We can also express `curry2` as a lambda expression. It will become a function that takes `f` and returns a function that takes `x` and returns a function that takes `y` and returns `f(x, y)` "
   ]
  },
  {
   "cell_type": "code",
   "execution_count": 12,
   "metadata": {},
   "outputs": [],
   "source": [
    "curry2 = lambda f: lambda x: lambda y: f(x, y)"
   ]
  },
  {
   "cell_type": "code",
   "execution_count": 13,
   "metadata": {},
   "outputs": [],
   "source": [
    "m = curry2(add)"
   ]
  },
  {
   "cell_type": "code",
   "execution_count": 14,
   "metadata": {},
   "outputs": [
    {
     "data": {
      "text/plain": [
       "5"
      ]
     },
     "execution_count": 14,
     "metadata": {},
     "output_type": "execute_result"
    }
   ],
   "source": [
    "add_three = m(3)\n",
    "add_three(2)"
   ]
  },
  {
   "cell_type": "code",
   "execution_count": 15,
   "metadata": {},
   "outputs": [
    {
     "data": {
      "text/plain": [
       "5"
      ]
     },
     "execution_count": 15,
     "metadata": {},
     "output_type": "execute_result"
    }
   ],
   "source": [
    "m(3)(2)"
   ]
  },
  {
   "cell_type": "markdown",
   "metadata": {},
   "source": [
    "# ========================== Video 5 =========================="
   ]
  },
  {
   "cell_type": "markdown",
   "metadata": {},
   "source": [
    "# Decorators\n",
    "Decorators is a Python feature that utilizes higher-order function. "
   ]
  },
  {
   "cell_type": "markdown",
   "metadata": {},
   "source": [
    "## Demo\n",
    "Below we have the function `square` and `sum_squares_up_to`. The function `sum_squares_up_to` sums all the squares of numbers from `1` up to `n`. "
   ]
  },
  {
   "cell_type": "code",
   "execution_count": 16,
   "metadata": {},
   "outputs": [],
   "source": [
    "def square(x):\n",
    "    return x * x\n",
    "\n",
    "def sum_squares_up_to(n):\n",
    "    k = 1\n",
    "    total = 0\n",
    "    while k <= n:\n",
    "        total, k = total + square(k), k + 1\n",
    "    return total"
   ]
  },
  {
   "cell_type": "code",
   "execution_count": 17,
   "metadata": {},
   "outputs": [
    {
     "data": {
      "text/plain": [
       "144"
      ]
     },
     "execution_count": 17,
     "metadata": {},
     "output_type": "execute_result"
    }
   ],
   "source": [
    "square(12)"
   ]
  },
  {
   "cell_type": "code",
   "execution_count": 18,
   "metadata": {},
   "outputs": [
    {
     "data": {
      "text/plain": [
       "14"
      ]
     },
     "execution_count": 18,
     "metadata": {},
     "output_type": "execute_result"
    }
   ],
   "source": [
    "sum_squares_up_to(3)"
   ]
  },
  {
   "cell_type": "markdown",
   "metadata": {},
   "source": [
    "Recall earlier we used the function `trace` from `ucb` module with the `gcd` function. The `@trace` is a decorator ."
   ]
  },
  {
   "cell_type": "code",
   "execution_count": 21,
   "metadata": {},
   "outputs": [],
   "source": [
    "from ucb import trace\n",
    "\n",
    "@trace\n",
    "def square(x):\n",
    "    return x * x\n",
    "\n",
    "def sum_squares_up_to(n):\n",
    "    k = 1\n",
    "    total = 0\n",
    "    while k <= n:\n",
    "        total, k = total + square(k), k + 1\n",
    "    return total"
   ]
  },
  {
   "cell_type": "code",
   "execution_count": 22,
   "metadata": {},
   "outputs": [
    {
     "name": "stdout",
     "output_type": "stream",
     "text": [
      "square(12):\n",
      "square(12) -> 144\n"
     ]
    },
    {
     "data": {
      "text/plain": [
       "144"
      ]
     },
     "execution_count": 22,
     "metadata": {},
     "output_type": "execute_result"
    }
   ],
   "source": [
    "square(12)"
   ]
  },
  {
   "cell_type": "markdown",
   "metadata": {},
   "source": [
    "See this time that the trace is printed! How do we implement `trace`? Let's try it! We name it `trace1` because it takes a function that takes `1` argument. "
   ]
  },
  {
   "cell_type": "code",
   "execution_count": 23,
   "metadata": {},
   "outputs": [],
   "source": [
    "def trace1(fn):\n",
    "    \"\"\" Returns a version of fn that first prints before it is called.\n",
    "    \n",
    "    fn is a function of 1 argument \n",
    "    \"\"\"\n",
    "    # Define a traced version of the function \n",
    "    def traced(x):\n",
    "        print('Calling', fn, 'on argument', x)\n",
    "        return fn(x)\n",
    "    return traced"
   ]
  },
  {
   "cell_type": "markdown",
   "metadata": {},
   "source": [
    "`traced` is just like `fn`, with an additional feature that it also prints. Now let's try using `trace1`!"
   ]
  },
  {
   "cell_type": "code",
   "execution_count": 24,
   "metadata": {},
   "outputs": [],
   "source": [
    "@trace1\n",
    "def square(x):\n",
    "    return x * x"
   ]
  },
  {
   "cell_type": "code",
   "execution_count": 25,
   "metadata": {},
   "outputs": [
    {
     "name": "stdout",
     "output_type": "stream",
     "text": [
      "Calling <function square at 0x010B4108> on argument 12\n"
     ]
    },
    {
     "data": {
      "text/plain": [
       "144"
      ]
     },
     "execution_count": 25,
     "metadata": {},
     "output_type": "execute_result"
    }
   ],
   "source": [
    "square(12)"
   ]
  },
  {
   "cell_type": "markdown",
   "metadata": {},
   "source": [
    "Let's try using `@trace1` on `sum_squares_up_to` this time!"
   ]
  },
  {
   "cell_type": "code",
   "execution_count": 26,
   "metadata": {},
   "outputs": [],
   "source": [
    "@trace1\n",
    "def sum_squares_up_to(n):\n",
    "    k = 1\n",
    "    total = 0\n",
    "    while k <= n:\n",
    "        total, k = total + square(k), k + 1\n",
    "    return total"
   ]
  },
  {
   "cell_type": "code",
   "execution_count": 27,
   "metadata": {},
   "outputs": [
    {
     "name": "stdout",
     "output_type": "stream",
     "text": [
      "Calling <function sum_squares_up_to at 0x010B4420> on argument 5\n",
      "Calling <function square at 0x010B4108> on argument 1\n",
      "Calling <function square at 0x010B4108> on argument 2\n",
      "Calling <function square at 0x010B4108> on argument 3\n",
      "Calling <function square at 0x010B4108> on argument 4\n",
      "Calling <function square at 0x010B4108> on argument 5\n"
     ]
    },
    {
     "data": {
      "text/plain": [
       "55"
      ]
     },
     "execution_count": 27,
     "metadata": {},
     "output_type": "execute_result"
    }
   ],
   "source": [
    "sum_squares_up_to(5)"
   ]
  },
  {
   "cell_type": "markdown",
   "metadata": {},
   "source": [
    "Note that all this time, `@trace1` decorator is a shortcut! It's the same as doing the following,"
   ]
  },
  {
   "cell_type": "code",
   "execution_count": 31,
   "metadata": {},
   "outputs": [],
   "source": [
    "def square(x):\n",
    "    return x * x"
   ]
  },
  {
   "cell_type": "code",
   "execution_count": 32,
   "metadata": {},
   "outputs": [],
   "source": [
    "square = trace1(square)"
   ]
  },
  {
   "cell_type": "code",
   "execution_count": 33,
   "metadata": {},
   "outputs": [
    {
     "name": "stdout",
     "output_type": "stream",
     "text": [
      "Calling <function square at 0x010B4F18> on argument 12\n"
     ]
    },
    {
     "data": {
      "text/plain": [
       "144"
      ]
     },
     "execution_count": 33,
     "metadata": {},
     "output_type": "execute_result"
    }
   ],
   "source": [
    "square(12)"
   ]
  },
  {
   "cell_type": "markdown",
   "metadata": {},
   "source": [
    "## Function Decorators\n",
    "<img src = 'decorator.jpg' width = 500/>\n",
    "\n",
    "Above is identical to:\n",
    "\n",
    "<img src = 'decorator_2.jpg' width = 500/>\n",
    "\n",
    "Above, we rebind the the name `triple` to the traced version of the function. We prefer the decorator version since it's helpful to know which decoration we use in the beginning. The most important reason is that not all Python programmers understand higher-order functions."
   ]
  },
  {
   "cell_type": "markdown",
   "metadata": {},
   "source": [
    "# ============================= Video 6========================"
   ]
  },
  {
   "cell_type": "markdown",
   "metadata": {},
   "source": [
    "# Review\n",
    "These examples are taken from past midterm #1"
   ]
  },
  {
   "cell_type": "markdown",
   "metadata": {},
   "source": [
    "## What Would Python Print?\n",
    "Here, we guess what output we'll see when running some Python codes.\n",
    "\n",
    "**Important**: The `print` function returns `None`. It also displays its arguments (separated by spaces) when called.\n",
    "\n",
    "Often we'll have the following, "
   ]
  },
  {
   "cell_type": "code",
   "execution_count": 34,
   "metadata": {},
   "outputs": [],
   "source": [
    "from operator import add, mul\n",
    "def square(x):\n",
    "    return mul(x, x)"
   ]
  },
  {
   "cell_type": "markdown",
   "metadata": {},
   "source": [
    "Then there'll be questions such as, \"given an expression, what does it evaluate to?\" or \"what interactive output would we see if we enter that expression into the interactive interpreter?\"\n",
    "\n",
    "| This expression | Evaluates to | Interactive Output|\n",
    "| -----| ---- | ---- |\n",
    "| 5 | 5 | 5 |\n",
    "| `print(5)` | `None` | 5 |\n",
    "| `print(print(5))` | `None` | 5 <br> None |\n",
    "\n",
    "For the last case, Python first prints `5`, then since `print(5)` evaluates to `None`, then Python executes `print(None)`. Note that the whole expression evaluates to `None`. \n",
    "\n",
    "Another example is when we are given a function, and we are supposed to guess the output when we have a call expression that involves the function. Below we have a function `delay`,"
   ]
  },
  {
   "cell_type": "markdown",
   "metadata": {},
   "source": [
    "<img src = 'delay.jpg' width = 300/>\n",
    "\n",
    "And we want to see what `delay(delay)()(6)()` evaluates to."
   ]
  },
  {
   "cell_type": "code",
   "execution_count": 2,
   "metadata": {},
   "outputs": [
    {
     "data": {
      "text/html": [
       "\n",
       "        <iframe\n",
       "            width=\"100%\"\n",
       "            height=\"350\"\n",
       "            src=\"http://pythontutor.com/iframe-embed.html#code=%0Adef%20delay%28arg%29%3A%0A%20%20%20%20print%28%27delayed%27%29%0A%20%20%20%20def%20g%28%29%3A%0A%20%20%20%20%20%20%20%20return%20arg%0A%20%20%20%20return%20g%20%0A%0Adelay%28delay%29%28%29%286%29%28%29%0A&origin=opt-frontend.js&cumulative=false&heapPrimitives=false&textReferences=false&curInstr=0&&verticalStack=false&py=3&rawInputLstJSON=%5B%5D&codeDivWidth=50%25&codeDivHeight=100%25\"\n",
       "            frameborder=\"0\"\n",
       "            allowfullscreen\n",
       "        ></iframe>\n",
       "        "
      ],
      "text/plain": [
       "<IPython.lib.display.IFrame at 0x56ed430>"
      ]
     },
     "metadata": {},
     "output_type": "display_data"
    }
   ],
   "source": [
    "%%tutor --lang python3\n",
    "\n",
    "def delay(arg):\n",
    "    print('delayed')\n",
    "    def g():\n",
    "        return arg\n",
    "    return g \n",
    "\n",
    "delay(delay)()(6)()"
   ]
  },
  {
   "cell_type": "markdown",
   "metadata": {},
   "source": [
    "### Top-down approach, break the expression to easier problems \n",
    "\n",
    "1. The whole expression `delay(delay)()(6)()` has a **complex operator**: `delay(delay)()(6)`.\n",
    "\n",
    "2. The complex operator itself is call expression with a **compound operator** `delay(delay)()`, which needs to be evaluated.\n",
    "    * This **compound operator** is then applied to the operand `(6)`\n",
    "    \n",
    "3. The **compound operator** itself is a call expression with an inner compound operator, `delay(delay)`, which will be applied to the operand `()`.\n",
    "\n",
    "4. `delay(delay)` means calling `delay` on itself. This would return a function `g` that takes no argument and returns `delay`.\n",
    "    * Thus, `delay(delay)` returns the `delay` function\n",
    "    \n",
    "### Now evaluate from small pieces\n",
    "\n",
    "1. When we call `delay(delay)`\n",
    "    * Python prints `delayed`\n",
    "    * `arg` is currently the `delay` function\n",
    "    * The whole expression evaluates to `g`, which is the `delay` function\n",
    "    \n",
    "2. We call `g` to the operand `()`.\n",
    "    * This means Python calls `g()`, which returns `arg`\n",
    "    * Recall that `arg` is currently the `delay` function. This means `g()` returns the `delay` function\n",
    "    \n",
    "3. We call the `delay` function on `(6)`. In other words, we call `delay(6)`\n",
    "    * Python prints `delayed` \n",
    "    * The expression returns a function `g` that returns `6` when called with no argument\n",
    "\n",
    "4. Once again we call `g` to the operand `()`\n",
    "    * Python calls `g()`, which returns `6`\n",
    "\n",
    "Thus, the whole expression evaluates to `6`."
   ]
  },
  {
   "cell_type": "markdown",
   "metadata": {},
   "source": [
    "### How about `print(delay(print)()(4))` ?"
   ]
  },
  {
   "cell_type": "code",
   "execution_count": 1,
   "metadata": {},
   "outputs": [
    {
     "name": "stderr",
     "output_type": "stream",
     "text": [
      "UsageError: Cell magic `%%tutor` not found.\n"
     ]
    }
   ],
   "source": [
    "%%tutor --lang python3\n",
    "\n",
    "def delay(arg):\n",
    "    print('delayed')\n",
    "    def g():\n",
    "        return arg\n",
    "    return g \n",
    "\n",
    "`print(delay(print)()(4))`"
   ]
  },
  {
   "cell_type": "markdown",
   "metadata": {},
   "source": [
    "1. The call expression `delay(print)` will evaluate to a function `g` that takes no argument and returns the `print` function\n",
    "    * Python prints `delayed`\n",
    "\n",
    "2. We call `g` on `()`, which means we call `g()` and returns the `print` function`\n",
    "\n",
    "3. We call `print` on `4`\n",
    "    * Python prints `4`\n",
    "    * The expression evaluates to `None`\n",
    "\n",
    "4. We call `print` on `None`, or `print(None)`\n",
    "    * Python prints `None`\n",
    "    * The whole expression evaluates to `None`"
   ]
  },
  {
   "cell_type": "markdown",
   "metadata": {},
   "source": [
    "This time we have the following `pirate` function,"
   ]
  },
  {
   "cell_type": "code",
   "execution_count": 2,
   "metadata": {},
   "outputs": [],
   "source": [
    "def pirate(arggg):\n",
    "    print('matey')\n",
    "    def plunder(arggg):\n",
    "        return arggg\n",
    "    return plunder"
   ]
  },
  {
   "cell_type": "markdown",
   "metadata": {},
   "source": [
    "The `pirate` function has the same basic structure as `delay`. The difference is that the inner `def` statement takes an argument and returns that same argument. \n",
    "\n",
    "Recall that the process of looking up a name is that **Python looks to the first frame of the current environment**. Since `plunder` uses the name `arggg`, Python will be able to find the name `arggg` within the `plunder` frame and thus Python will never refer to the `arggg` in the parent frame `pirate`.  \n",
    "\n",
    "<img src = 'identity.jpg' width = 300/>\n",
    "\n",
    "The `pirate` function returns an `identity function`: a function that returns whatever argument is passed into it. "
   ]
  },
  {
   "cell_type": "markdown",
   "metadata": {},
   "source": [
    "### Let's try `add(pirate(3)(square)(4), 1)`"
   ]
  },
  {
   "cell_type": "code",
   "execution_count": null,
   "metadata": {},
   "outputs": [],
   "source": [
    "%%tutor --lang python3\n",
    "\n",
    "def pirate(arggg):\n",
    "    print('matey')\n",
    "    def plunder(arggg):\n",
    "        return arggg\n",
    "    return plunder\n",
    "\n",
    "add(pirate(3)(square)(4), 1)"
   ]
  },
  {
   "cell_type": "markdown",
   "metadata": {},
   "source": [
    "1. Call `pirate(3)`\n",
    "    * Python prints `matey`\n",
    "    * Returns a function `plunder` that returns whatever's passed in\n",
    "    \n",
    "2. Call `plunder(square)`, returns the `square` function\n",
    "\n",
    "3. Call `square(4)`, returns `16`\n",
    "\n",
    "4. Call `add(16, 1)`, returns `17`\n",
    "    * Prints the output `17`"
   ]
  },
  {
   "cell_type": "markdown",
   "metadata": {},
   "source": [
    "### How about  `pirate(pirate(pirate))(5)(7)` ?"
   ]
  },
  {
   "cell_type": "code",
   "execution_count": null,
   "metadata": {},
   "outputs": [],
   "source": [
    "%%tutor --lang python3\n",
    "\n",
    "def pirate(arggg):\n",
    "    print('matey')\n",
    "    def plunder(arggg):\n",
    "        return arggg\n",
    "    return plunder\n",
    "\n",
    "pirate(pirate(pirate))(5)(7)"
   ]
  },
  {
   "cell_type": "markdown",
   "metadata": {},
   "source": [
    "1. Call `pirate(pirate)`\n",
    "    * Prints `matey`\n",
    "    * Returns a function `plunder` that returns whatever's passed in\n",
    "    \n",
    "2. Call `pirate(plunder)`\n",
    "    * Prints `matey`\n",
    "    * Returns a function `plunder` that returns whatever's passed in\n",
    "\n",
    "3. Call `plunder(5)`\n",
    "    * Returns `5`\n",
    "\n",
    "4. Call `(5)` on `(7)`\n",
    "    * Error! Output also prints `Error`\n",
    "    * The whole expression evaluates to `Error`"
   ]
  },
  {
   "cell_type": "markdown",
   "metadata": {},
   "source": [
    "### Horse(mask)\n",
    "Another example of a midterm question is to draw the environment diagram of the following,"
   ]
  },
  {
   "cell_type": "code",
   "execution_count": null,
   "metadata": {},
   "outputs": [],
   "source": [
    "%%tutor --lang python3\n",
    "\n",
    "def horse(mask):\n",
    "    horse = mask\n",
    "    def mask(horse):\n",
    "        return horse\n",
    "    return horse(mask)\n",
    "\n",
    "mask = lambda horse: horse(2)\n",
    "horse(mask)"
   ]
  },
  {
   "cell_type": "code",
   "execution_count": null,
   "metadata": {},
   "outputs": [],
   "source": []
  }
 ],
 "metadata": {
  "kernelspec": {
   "display_name": "Python 3",
   "language": "python",
   "name": "python3"
  },
  "language_info": {
   "codemirror_mode": {
    "name": "ipython",
    "version": 3
   },
   "file_extension": ".py",
   "mimetype": "text/x-python",
   "name": "python",
   "nbconvert_exporter": "python",
   "pygments_lexer": "ipython3",
   "version": "3.7.2"
  }
 },
 "nbformat": 4,
 "nbformat_minor": 2
}
