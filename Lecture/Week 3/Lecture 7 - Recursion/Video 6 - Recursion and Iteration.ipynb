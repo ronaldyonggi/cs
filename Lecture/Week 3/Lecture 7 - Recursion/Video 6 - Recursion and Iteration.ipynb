{
 "cells": [
  {
   "cell_type": "code",
   "execution_count": 1,
   "metadata": {},
   "outputs": [],
   "source": [
    "%load_ext tutormagic"
   ]
  },
  {
   "cell_type": "markdown",
   "metadata": {},
   "source": [
    "# Recursion and Iteration\n",
    "Now we're going to discuss the relationship between recursion and iteration."
   ]
  },
  {
   "cell_type": "markdown",
   "metadata": {},
   "source": [
    "## Converting Recursion to Iteration\n",
    "There are cases when we want to convert a recursive function into an iterative implementation. \n",
    "\n",
    "It **can be tricky**, because iteration is a special case of recursion.\n",
    "\n",
    "However, for many functions out there, there's a straightforward conversion into iteration. The example we looked before (factorial) is one of them. \n",
    "\n",
    "The **idea**: figure out what state needs to be maintained by the iterative function.\n",
    "\n",
    "Let's take a look at the `sum_digits` function that we defined earlier."
   ]
  },
  {
   "cell_type": "code",
   "execution_count": 18,
   "metadata": {},
   "outputs": [],
   "source": [
    "def sum_digits(n):\n",
    "    \"\"\" Return the sum of the digits of positive integer n\"\"\"\n",
    "    if n < 10:\n",
    "        return n\n",
    "    else:\n",
    "        all_but_last, last = split(n)\n",
    "        return sum_digits(all_but_last) + last"
   ]
  },
  {
   "cell_type": "markdown",
   "metadata": {},
   "source": [
    "We can see what's being passed in to `sum_digits` recursive call and what's being returned. These are clues to what we would need to give names to when we write the `iterative` version. \n",
    "\n",
    "<img src = 'passed_in.jpg' width = 300/>\n",
    "\n",
    "Above is what's being passed in, **What's left to sum**.\n",
    "\n",
    "<img src = 'returned.jpg' width = 500/>\n",
    "\n",
    "And above we have what's being returned, **partial sum**, or \"sum of the digits so far\".\n",
    "\n",
    "Let's try to write `iterative` version of `sum_digits`!"
   ]
  },
  {
   "cell_type": "code",
   "execution_count": 19,
   "metadata": {},
   "outputs": [],
   "source": [
    "def sum_digits_iter(n):\n",
    "    # Store the partial sum so far\n",
    "    digit_sum = 0\n",
    "    while n > 0: #While there are still digits left to sum\n",
    "        n, last = split(n)\n",
    "        digit_sum += last\n",
    "    return digit_sum"
   ]
  },
  {
   "cell_type": "markdown",
   "metadata": {},
   "source": [
    "Let's test the function above!"
   ]
  },
  {
   "cell_type": "code",
   "execution_count": 20,
   "metadata": {},
   "outputs": [
    {
     "data": {
      "text/plain": [
       "6"
      ]
     },
     "execution_count": 20,
     "metadata": {},
     "output_type": "execute_result"
    }
   ],
   "source": [
    "sum_digits(2013)"
   ]
  },
  {
   "cell_type": "code",
   "execution_count": 21,
   "metadata": {},
   "outputs": [
    {
     "data": {
      "text/plain": [
       "6"
      ]
     },
     "execution_count": 21,
     "metadata": {},
     "output_type": "execute_result"
    }
   ],
   "source": [
    "sum_digits_iter(2013)"
   ]
  },
  {
   "cell_type": "markdown",
   "metadata": {},
   "source": [
    "The function works!"
   ]
  },
  {
   "cell_type": "markdown",
   "metadata": {},
   "source": [
    "## Converting Iteration to Recursion\n",
    "Converting an iterative implementation using a `while` statement to `recursion` is straightforward. The conversion is **more formulaic** because iteration is a special case of recursion. \n",
    "\n",
    "**Idea**: When looking at an iterative implementation, look for the state that's maintained across different iteration. This `state` of an iteration can be passed as arguments.\n",
    "\n",
    "Looking back to the `sum_digits_iter` function,"
   ]
  },
  {
   "cell_type": "code",
   "execution_count": 22,
   "metadata": {},
   "outputs": [],
   "source": [
    "def sum_digits_iter(n):\n",
    "    # Store the partial sum so far\n",
    "    digit_sum = 0\n",
    "    while n > 0: #While there are still digits left to sum\n",
    "        n, last = split(n)\n",
    "        digit_sum += last\n",
    "    return digit_sum"
   ]
  },
  {
   "cell_type": "markdown",
   "metadata": {},
   "source": [
    "For each `while` loop suite, the states that are maintained are:\n",
    "1. `n`\n",
    "    * For every `while` loop, `n` changes to be \"all but the last digit\" of `n`\n",
    "\n",
    "2. `digit_sum`\n",
    "    * Contains the partial sum of digits so far\n",
    "\n",
    "For writing the `recursive` version, we pass in exactly the the states that are maintained in the `iterative` version as the arguments.\n",
    "\n",
    "<img src = 'convert.jpg' width = 500/>"
   ]
  },
  {
   "cell_type": "code",
   "execution_count": 24,
   "metadata": {},
   "outputs": [],
   "source": [
    "def sum_digits_rec(n, digit_sum):\n",
    "    # Base case: if n is 0, return the digit_sum so far\n",
    "    if n == 0:\n",
    "        return digit_sum\n",
    "    else:\n",
    "        n, last = split(n)\n",
    "        return sum_digits_rec(n, digit_sum + last)"
   ]
  },
  {
   "cell_type": "markdown",
   "metadata": {},
   "source": [
    "Notice the 2nd argument of the `sum_digits_rec` on the last line above. We made sure that we update the 2nd argument for the recursive call `sum_digits_rec`: `digit_sum + last`."
   ]
  },
  {
   "cell_type": "code",
   "execution_count": null,
   "metadata": {},
   "outputs": [],
   "source": []
  }
 ],
 "metadata": {
  "kernelspec": {
   "display_name": "Python 3",
   "language": "python",
   "name": "python3"
  },
  "language_info": {
   "codemirror_mode": {
    "name": "ipython",
    "version": 3
   },
   "file_extension": ".py",
   "mimetype": "text/x-python",
   "name": "python",
   "nbconvert_exporter": "python",
   "pygments_lexer": "ipython3",
   "version": "3.6.8"
  }
 },
 "nbformat": 4,
 "nbformat_minor": 2
}
