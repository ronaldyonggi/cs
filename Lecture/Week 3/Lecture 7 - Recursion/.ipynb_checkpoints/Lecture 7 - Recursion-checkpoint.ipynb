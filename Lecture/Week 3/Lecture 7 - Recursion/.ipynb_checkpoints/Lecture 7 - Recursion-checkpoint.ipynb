{
 "cells": [
  {
   "cell_type": "code",
   "execution_count": 1,
   "metadata": {},
   "outputs": [],
   "source": [
    "%load_ext tutormagic"
   ]
  },
  {
   "cell_type": "markdown",
   "metadata": {},
   "source": [
    "# Recursive Functions\n",
    "Definition: A function in which the body of the function calls itself either directly or indirectly.\n",
    "\n",
    "What does this mean?\n",
    "\n",
    "Implication: Executing the body of a `recursive` function may require applying that function again\n",
    "\n",
    "Recursion doesn't appear only in computer science. It is also used in art, nature and mathematics.\n",
    "\n",
    "<img src = 'recursion.jpg' width = 500/>"
   ]
  },
  {
   "cell_type": "markdown",
   "metadata": {},
   "source": [
    "## Digit Sums\n",
    "As a starting example, let's analyze the sum of the digits of a number. \n",
    "\n",
    "In number `2013`, the digit sums is `2 + 0 + 1 + 3` = `6`.\n",
    "\n",
    "Why do we do this? Because of the interesting properties of digit sums:\n",
    "\n",
    "1. If a number `a` is divisible by `9`, then `digit_sum(a)` is also divisible by `9` \n",
    "2. Summing up digits is useful for typo detection\n",
    "\n",
    "Below we have a credit card. Credit card numbers are long, and when humans type credit card numbers, it is possible to have a typo! Thus, in credit cards exist such thing called `checksum digit`, a 16 digit that's computed from all other digits and is not part of the account number. If the `checksum digit` doesn't match the computation of all other digits, then the credit card number is typed wrong (it's an invalid credit card number).\n",
    "\n",
    "Credit cards use the **Luhn algorithm**, which we'll implement after `digit_sum`. "
   ]
  },
  {
   "cell_type": "markdown",
   "metadata": {},
   "source": [
    "## Sum Digits Without a While Statement\n",
    "We can easily write a code that sums digits with a `while` statement. However, without a `while` statement, it would require `recursion`. \n",
    "\n",
    "Here we define the `split` function that takes a positive integer `n` and splits it to 2 parts:\n",
    "1. All but its last digit\n",
    "2. Its last digit"
   ]
  },
  {
   "cell_type": "code",
   "execution_count": 2,
   "metadata": {},
   "outputs": [],
   "source": [
    "def split(n):\n",
    "    \"\"\" Split positive n into all but its last digit and its last digit\"\"\"\n",
    "    # n // 10 is all but n's last digit\n",
    "    # n % 10 is n's last digit \n",
    "    return n // 10, n % 10"
   ]
  },
  {
   "cell_type": "code",
   "execution_count": 3,
   "metadata": {},
   "outputs": [
    {
     "data": {
      "text/plain": [
       "201"
      ]
     },
     "execution_count": 3,
     "metadata": {},
     "output_type": "execute_result"
    }
   ],
   "source": [
    "all_but_last, last = split(2013)\n",
    "all_but_last"
   ]
  },
  {
   "cell_type": "code",
   "execution_count": 4,
   "metadata": {},
   "outputs": [
    {
     "data": {
      "text/plain": [
       "3"
      ]
     },
     "execution_count": 4,
     "metadata": {},
     "output_type": "execute_result"
    }
   ],
   "source": [
    "last"
   ]
  },
  {
   "cell_type": "markdown",
   "metadata": {},
   "source": [
    "To sum the digits of `n`, we write the function `sum_digits`.\n",
    "\n",
    "1. If `n` is less than `10` (if `n` is a single digit), then just return `n`\n",
    "2. Otherwise, `split` `n` to `all_but_last` and `last` \n",
    "    * Then return `sum_digits(all_but_last) + last`\n",
    "    \n",
    "For the case of `2013`, we'll have:\n",
    "1. `all_but_last` = `201`\n",
    "2. `last` = `3`\n",
    "\n",
    "In this cycle, `sum_digits` will return `sum_digits(201)` + `3`"
   ]
  },
  {
   "cell_type": "code",
   "execution_count": 5,
   "metadata": {},
   "outputs": [],
   "source": [
    "def sum_digits(n):\n",
    "    \"\"\" Return the sum of the digits of positive integer n\"\"\"\n",
    "    # if n is less than 10, then just return n\n",
    "    if n < 10:\n",
    "        return n\n",
    "    else:\n",
    "        # split n\n",
    "        all_but_last, last = split(n)\n",
    "        return sum_digits(all_but_last) + last"
   ]
  },
  {
   "cell_type": "markdown",
   "metadata": {},
   "source": [
    "Above is a `recursive` function because we called `sum_digits` within `sum_digits` (in the last line above, Python calls `sum_digits(all_but_last)`."
   ]
  },
  {
   "cell_type": "markdown",
   "metadata": {},
   "source": [
    "## The Anatomy of a Recursive Function\n",
    "The `def` statement header of a recursive function is similar to other functions. "
   ]
  },
  {
   "cell_type": "code",
   "execution_count": 6,
   "metadata": {},
   "outputs": [
    {
     "ename": "SyntaxError",
     "evalue": "unexpected EOF while parsing (<ipython-input-6-1007e5bb2168>, line 1)",
     "output_type": "error",
     "traceback": [
      "\u001b[1;36m  File \u001b[1;32m\"<ipython-input-6-1007e5bb2168>\"\u001b[1;36m, line \u001b[1;32m1\u001b[0m\n\u001b[1;33m    def sum_digits(n):\u001b[0m\n\u001b[1;37m                      ^\u001b[0m\n\u001b[1;31mSyntaxError\u001b[0m\u001b[1;31m:\u001b[0m unexpected EOF while parsing\n"
     ]
    }
   ],
   "source": [
    "def sum_digits(n):"
   ]
  },
  {
   "cell_type": "markdown",
   "metadata": {},
   "source": [
    "Typically, a recursive function starts with a **conditional statement that checks for `base cases`**.\n",
    "* `base cases` are the simple version of the problem we are trying to solve. \n",
    "\n",
    "In the case of `sum_digits`, the `base case` is the case where `n` has only 1 digit left."
   ]
  },
  {
   "cell_type": "code",
   "execution_count": null,
   "metadata": {},
   "outputs": [],
   "source": [
    "if n < 10:\n",
    "    return n"
   ]
  },
  {
   "cell_type": "markdown",
   "metadata": {},
   "source": [
    "Base cases are evaluated **without recursive calls**. In the case above, it is done by just returning `n`. \n",
    "\n",
    "For non-base cases (e.g. `n` still have multiple digits), we have `recursive cases` that are evaluated **with recursive calls**. In the case of `sum_digits`, the recursive call is as the following,"
   ]
  },
  {
   "cell_type": "code",
   "execution_count": null,
   "metadata": {},
   "outputs": [],
   "source": [
    "all_but_last, last = split(n)\n",
    "return sum_digits(all_but_last) + last"
   ]
  },
  {
   "cell_type": "markdown",
   "metadata": {},
   "source": [
    "Notice above that we don't try to call `sum_digits` on `n`. Instead, we call `sum_digits` on a simpler problem than we have before. If previously we have `n = 2013`, now we have `all_but_last = 201`, which is simpler since `all_but_last` has fewer digits to sum, getting us closer to the base case. \n",
    "\n",
    "Let's try to use `sum_digits`!"
   ]
  },
  {
   "cell_type": "code",
   "execution_count": null,
   "metadata": {},
   "outputs": [],
   "source": [
    "sum_digits(2013)"
   ]
  },
  {
   "cell_type": "markdown",
   "metadata": {},
   "source": [
    "# Recursion in Environment Diagrams\n",
    "Environment diagrams are useful for undestanding recursion. We are going to analyze the environment diagram of the factorial function `fact`, which computes the factorial of `n`. "
   ]
  },
  {
   "cell_type": "code",
   "execution_count": 9,
   "metadata": {},
   "outputs": [
    {
     "data": {
      "text/html": [
       "\n",
       "        <iframe\n",
       "            width=\"100%\"\n",
       "            height=\"350\"\n",
       "            src=\"http://pythontutor.com/iframe-embed.html#code=%0Adef%20fact%28n%29%3A%0A%20%20%20%20if%20n%20%3D%3D%200%3A%0A%20%20%20%20%20%20%20%20return%201%0A%20%20%20%20else%3A%0A%20%20%20%20%20%20%20%20return%20n%20%2A%20fact%28n-1%29%0A%20%20%20%20%0Afact%283%29%0A&origin=opt-frontend.js&cumulative=false&heapPrimitives=false&textReferences=false&curInstr=0&&verticalStack=false&py=3&rawInputLstJSON=%5B%5D&codeDivWidth=50%25&codeDivHeight=100%25\"\n",
       "            frameborder=\"0\"\n",
       "            allowfullscreen\n",
       "        ></iframe>\n",
       "        "
      ],
      "text/plain": [
       "<IPython.lib.display.IFrame at 0x5bff4b0>"
      ]
     },
     "metadata": {},
     "output_type": "display_data"
    }
   ],
   "source": [
    "%%tutor --lang python3\n",
    "\n",
    "def fact(n):\n",
    "    if n == 0:\n",
    "        return 1\n",
    "    else:\n",
    "        return n * fact(n-1)\n",
    "    \n",
    "fact(3)"
   ]
  },
  {
   "cell_type": "markdown",
   "metadata": {},
   "source": [
    "If `n` is `0`, then just return `1`. This is just part of the definition of factorial, that `0!` is `1`. \n",
    "\n",
    "The recursive call in the case above is `fact(n-1)`. In the following steps, Python does the following:\n",
    "\n",
    "2. Binds the function `fact(n)` to the name `fact`\n",
    "3. Calls `fact` function on `3`\n",
    "    * Python creates a new frame `f1` where the formal parameter `n` is bound to `3`. \n",
    "    \n",
    "4. Checks if `n`, which is currently `3` is `0`.\n",
    "5. `n` is not `0`, so execution line goes to `return n * fact(n-1)`\n",
    "6. Executes `fact(n-1)`\n",
    "    * Python creates a new frame `f2` where `n` is `n-1 = 3-1 = 2`\n",
    "\n",
    "7. Checks if `n`, which is currently `2`, is `0`\n",
    "8. `n` is not `0`, so the execution once again goes to the line `return n * fact(n-1)`\n",
    "9. Executes `fact(n-1)` once again\n",
    "    * Python creates a new frame `f3`, in which `n` is `2-1 = 1`\n",
    "    \n",
    "10. Checks if `n`, which is currently `1` is `0`\n",
    "11. `n` is not `0`, so execution line goes to `return n * fact(n-1)`\n",
    "12. Executes `fact(n-1)`\n",
    "    * Python creates a new frame `f4` where `n` is `n-1 = 1-1 = 0`\n",
    "    \n",
    "13. Checks if `n`, which is currently `0` is `0`\n",
    "14. `n` is `0`, so Python executes `return 1`\n",
    "15. Has the return value, `1`\n",
    "16. Goes back to frame `f3` with the return value so far = `1 * 1 = 1`\n",
    "17. Goes back to frame `f2` with the return value so far = `2 * 1 = 2`\n",
    "18. Goes back to frame `f1` with the return value so far  = `3 * 2 = 6`\n"
   ]
  },
  {
   "cell_type": "markdown",
   "metadata": {},
   "source": [
    "Some important points:\n",
    "1. The same function `fact` is called multiple times\n",
    "2. Different frames (`f1`, `f2`, `f3`, `f4`) keeps track of the different arguments (`2`, `1`, `0`) in each call\n",
    "3. What `n` evaluates to depends upon which is the current environment\n",
    "\n",
    "<img src = 'n.jpg' width = 200/>\n",
    "\n",
    "These different `n` each corresponds to different `fact` function call.\n",
    "\n",
    "4. Each call to `fact` solves a simpler problem than the last: smaller `n`\n",
    "    * `n` keeps decreasing. Once `n` is `0`, we have a very simple computation: return `1`.\n",
    "    \n",
    "<img src = 'return.jpg' width = 200/>"
   ]
  },
  {
   "cell_type": "markdown",
   "metadata": {},
   "source": [
    "## Iteration vs. Recursion\n",
    "Iteration is a special case of recursion. \n",
    "\n",
    "Let's say we want to write the code for the following iteration:\n",
    "$$ 4! = 4 \\times 3 \\times 2 \\times 1 = 24$$\n",
    "\n",
    "### Code\n",
    "\n",
    "Using `while`, the code would look like the following,"
   ]
  },
  {
   "cell_type": "code",
   "execution_count": 10,
   "metadata": {},
   "outputs": [],
   "source": [
    "def fact_iter(n):\n",
    "    total, k = 1, 1\n",
    "    while k <= n:\n",
    "        total, k = total * k, k + 1\n",
    "    return total"
   ]
  },
  {
   "cell_type": "markdown",
   "metadata": {},
   "source": [
    "Above, the computation is done opposite to the iteration! The multiplication goes in increasing order from `1` to `n`. \n",
    "\n",
    "Meanwhile, using `recursion`:"
   ]
  },
  {
   "cell_type": "code",
   "execution_count": 11,
   "metadata": {},
   "outputs": [],
   "source": [
    "def fact(n):\n",
    "    if n == 0:\n",
    "        return 1\n",
    "    else:\n",
    "        return n * fact(n-1)"
   ]
  },
  {
   "cell_type": "markdown",
   "metadata": {},
   "source": [
    "As we can see in the `recursion` version, the code looks cleaner, and the logic is simpler to understand compared to the `iteration` version.\n",
    "\n",
    "### Math\n",
    "\n",
    "The **mathematical** formula that corresponds to each of these implementation is slightly different. \n",
    "\n",
    "For the `iteration` version, the formula is as the following,\n",
    "\n",
    "$$\n",
    "n! = \\prod_{k=1}^{n} k \n",
    "$$\n",
    "\n",
    "Interpetation: starting from `k = 1`, goes up to `n`, multiply `k` each time, that's how we obtain `n!`\n",
    "\n",
    "For `recursive` version, \n",
    "\n",
    "\n",
    "$$\n",
    "    n!= \n",
    "\\begin{cases}\n",
    "    1                    & \\text{if } n = 0\\\\\n",
    "    n \\times (n-1)!      & \\text{otherwise}\n",
    "\\end{cases}\n",
    "$$\n",
    "\n",
    "### Names\n",
    "\n",
    "By looking at the names involved in the code, we can see that there's extra complexity involved in the `iterative` version.\n",
    "\n",
    "`Iterative` version:\n",
    "1. `n`\n",
    "2. `total`\n",
    "3. `k`\n",
    "4. `fact_iter`\n",
    "\n",
    "`Recursive` version:\n",
    "1. `n`\n",
    "2. `fact`"
   ]
  },
  {
   "cell_type": "markdown",
   "metadata": {},
   "source": [
    "# Verifying Recursive Functions \n",
    "Here we'll study about verifying the correctness of a recursive function."
   ]
  },
  {
   "cell_type": "markdown",
   "metadata": {},
   "source": [
    "## The Recursive Leap of Faith\n",
    "Writing a recursive function feels like taking a leap of faith. Below we have, once again, the `fact` function,"
   ]
  },
  {
   "cell_type": "code",
   "execution_count": 12,
   "metadata": {},
   "outputs": [],
   "source": [
    "def fact(n):\n",
    "    if n == 0:\n",
    "        return 1\n",
    "    else:\n",
    "        return n * fact(n-1)"
   ]
  },
  {
   "cell_type": "markdown",
   "metadata": {},
   "source": [
    "It's easy to recognize the base case, that is when `n` = `0`, we just return `1`. \n",
    "\n",
    "However, how do we know that in any other case, this implementation will work? \n",
    "\n",
    "We can analyze, \"Is `fact` implemented correctly?\", by using the following steps:\n",
    "1. Verify the base case\n",
    "    * If `n` is `0`, then we ensure that the implementation behaves correctly\n",
    "    \n",
    "2. Treat `fact` as a functional abstraction\n",
    "    * On the `fact(n-1)` call, don't think about how it's implemented\n",
    "    * Instead, think about what it's supposed to do\n",
    "        * It's \"supposedly\" correct behavior is to return `(n-1)!`. This way, we are abstractin away the details of the implementation\n",
    "        \n",
    "3. Assume that `fact(n-1)` is correct\n",
    "    * Assume that `fact(n-1)` returns `(n-1)!`\n",
    "    \n",
    "4. Verify that `fact(n)` is correct by:\n",
    "    * Assuming that `fact(n-1)` is correct\n",
    "    * Knowing that the result of `n!` is `n * fact(n-1)`\n",
    "    \n",
    "Generally, we assume that a function is correctly defined for the simpler case in the recursive call. We assume that the function works correctly for `(n-1)` and therefore, it should work correctly for `n`. "
   ]
  },
  {
   "cell_type": "markdown",
   "metadata": {},
   "source": [
    "# Mutual Recursion\n",
    "Mutual recursion occurs when 2 different functions call each other. "
   ]
  },
  {
   "cell_type": "markdown",
   "metadata": {},
   "source": [
    "## The Luhn Algorithm\n",
    "Now we're going to cover the `Luhn` Algorithm, used to compute the `checksum` of credit card numbers (verify credit card numbers).\n",
    "\n",
    "#### From the most right digit (the `check digit`), moving left:\n",
    "1. Double the value of every second digit\n",
    "2. If the product of the doubling operation above is greater than `9` (e.g.`7 * 2 = 14`),\n",
    "    * Then sum the digits of the products (e.g. `10 = 1 + 0 = 1`, `14 = 1 + 4 = 5`)\n",
    "    \n",
    "#### Take the sum of all the digits\n",
    "\n",
    "Suppose we want to calculate the `Luhn` sum of the following,\n",
    "\n",
    "<img src = 'luhn.jpg' width = 400/>\n",
    "\n",
    "We can compute it by doubling every other digit starting from the right most. And if the result is 2 digits, sum the digits.\n",
    "\n",
    "<img src = 'luhn_2.jpg' width = 500/>\n",
    "\n",
    "If we sum all the numbers of the lower blocks, the result would be `30`. The `Luhn` sum of a valid credit card number is a multiple of `10`. \n",
    "* If any of the digit is incorrect, then the `Luhn` sum would not be a multiple of `10` \n",
    "* Moreover, If any of the numbers switch position (e.g. switch `4` with `7`), it will be detected by the `Luhn` sum algorithm\n",
    "    * The resulting `Luhn` sum won't be a multiple of `10` either\n",
    "    \n",
    "Let's write the function for this! The `luhn_sum` function will use the `split` and `sum_digits` functions that we defined earlier."
   ]
  },
  {
   "cell_type": "code",
   "execution_count": 13,
   "metadata": {},
   "outputs": [],
   "source": [
    "def split(n):\n",
    "    \"\"\" Split positive n into all but its last digit and its last digit\"\"\"\n",
    "    return n // 10, n % 10\n",
    "\n",
    "def sum_digits(n):\n",
    "    \"\"\" Return the sum of the digits of positive integer n\"\"\"\n",
    "    # if n is less than 10, then just return n\n",
    "    if n < 10:\n",
    "        return n\n",
    "    else:\n",
    "        # split n\n",
    "        all_but_last, last = split(n)\n",
    "        return sum_digits(all_but_last) + last"
   ]
  },
  {
   "cell_type": "code",
   "execution_count": 14,
   "metadata": {},
   "outputs": [],
   "source": [
    "def luhn_sum(n):\n",
    "    if n < 10:\n",
    "        return n\n",
    "    else:\n",
    "        all_but_last, last = split(n)\n",
    "        return luhn_sum_double(all_but_last) + last\n",
    "    \n",
    "def luhn_sum_double(n):\n",
    "    # split n\n",
    "    all_but_last, last = split(n)\n",
    "    # multiply 'last' by 2, then sum the digit, then name it luhn_digit\n",
    "    luhn_digit = sum_digits(2 * last)\n",
    "    if n < 10:\n",
    "        return luhn_digit\n",
    "    else:\n",
    "        # Notice that it adds the 'luhn_digit'. So this takes into account the digit that's double by 2\n",
    "        return luhn_sum(all_but_last) + luhn_digit"
   ]
  },
  {
   "cell_type": "markdown",
   "metadata": {},
   "source": [
    "Notice that `luhn_sum` calls `luhn_sum_double`, while `luhn_sum_double` calls `luhn_sum`. This is `mutual recursion` phenomenon: 2 functions call each other. Base cases can either appear in only one of them, or both. \n",
    "\n",
    "Let's try to use the function!"
   ]
  },
  {
   "cell_type": "code",
   "execution_count": 15,
   "metadata": {},
   "outputs": [
    {
     "data": {
      "text/plain": [
       "2"
      ]
     },
     "execution_count": 15,
     "metadata": {},
     "output_type": "execute_result"
    }
   ],
   "source": [
    "luhn_sum(2)"
   ]
  },
  {
   "cell_type": "code",
   "execution_count": 16,
   "metadata": {},
   "outputs": [
    {
     "data": {
      "text/plain": [
       "8"
      ]
     },
     "execution_count": 16,
     "metadata": {},
     "output_type": "execute_result"
    }
   ],
   "source": [
    "luhn_sum(32)"
   ]
  },
  {
   "cell_type": "markdown",
   "metadata": {},
   "source": [
    "Notice above, `3` is doubled, becoming `6`. Then `6 + 2 = 8`\n",
    "\n",
    "If we try the number that we saw above,"
   ]
  },
  {
   "cell_type": "code",
   "execution_count": 17,
   "metadata": {},
   "outputs": [
    {
     "data": {
      "text/plain": [
       "30"
      ]
     },
     "execution_count": 17,
     "metadata": {},
     "output_type": "execute_result"
    }
   ],
   "source": [
    "luhn_sum(138743)"
   ]
  },
  {
   "cell_type": "markdown",
   "metadata": {},
   "source": [
    "It works!"
   ]
  },
  {
   "cell_type": "markdown",
   "metadata": {},
   "source": [
    "# Recursion and Iteration\n",
    "Now we're going to discuss the relationship between recursion and iteration."
   ]
  },
  {
   "cell_type": "markdown",
   "metadata": {},
   "source": [
    "## Converting Recursion to Iteration\n",
    "There are cases when we want to convert a recursive function into an iterative implementation. \n",
    "\n",
    "It **can be tricky**, because iteration is a special case of recursion.\n",
    "\n",
    "However, for many functions out there, there's a straightforward conversion into iteration. The example we looked before (factorial) is one of them. \n",
    "\n",
    "The **idea**: figure out what state needs to be maintained by the iterative function.\n",
    "\n",
    "Let's take a look at the `sum_digits` function that we defined earlier."
   ]
  },
  {
   "cell_type": "code",
   "execution_count": 18,
   "metadata": {},
   "outputs": [],
   "source": [
    "def sum_digits(n):\n",
    "    \"\"\" Return the sum of the digits of positive integer n\"\"\"\n",
    "    if n < 10:\n",
    "        return n\n",
    "    else:\n",
    "        all_but_last, last = split(n)\n",
    "        return sum_digits(all_but_last) + last"
   ]
  },
  {
   "cell_type": "markdown",
   "metadata": {},
   "source": [
    "We can see what's being passed in to `sum_digits` recursive call and what's being returned. These are clues to what we would need to give names to when we write the `iterative` version. \n",
    "\n",
    "<img src = 'passed_in.jpg' width = 300/>\n",
    "\n",
    "Above is what's being passed in, **What's left to sum**.\n",
    "\n",
    "<img src = 'returned.jpg' width = 500/>\n",
    "\n",
    "And above we have what's being returned, **partial sum**, or \"sum of the digits so far\".\n",
    "\n",
    "Let's try to write `iterative` version of `sum_digits`!"
   ]
  },
  {
   "cell_type": "code",
   "execution_count": 19,
   "metadata": {},
   "outputs": [],
   "source": [
    "def sum_digits_iter(n):\n",
    "    # Store the partial sum so far\n",
    "    digit_sum = 0\n",
    "    while n > 0: #While there are still digits left to sum\n",
    "        n, last = split(n)\n",
    "        digit_sum += last\n",
    "    return digit_sum"
   ]
  },
  {
   "cell_type": "markdown",
   "metadata": {},
   "source": [
    "Let's test the function above!"
   ]
  },
  {
   "cell_type": "code",
   "execution_count": 20,
   "metadata": {},
   "outputs": [
    {
     "data": {
      "text/plain": [
       "6"
      ]
     },
     "execution_count": 20,
     "metadata": {},
     "output_type": "execute_result"
    }
   ],
   "source": [
    "sum_digits(2013)"
   ]
  },
  {
   "cell_type": "code",
   "execution_count": 21,
   "metadata": {},
   "outputs": [
    {
     "data": {
      "text/plain": [
       "6"
      ]
     },
     "execution_count": 21,
     "metadata": {},
     "output_type": "execute_result"
    }
   ],
   "source": [
    "sum_digits_iter(2013)"
   ]
  },
  {
   "cell_type": "markdown",
   "metadata": {},
   "source": [
    "The function works!"
   ]
  },
  {
   "cell_type": "markdown",
   "metadata": {},
   "source": [
    "## Converting Iteration to Recursion\n",
    "Converting an iterative implementation using a `while` statement to `recursion` is straightforward. The conversion is **more formulaic** because iteration is a special case of recursion. \n",
    "\n",
    "**Idea**: When looking at an iterative implementation, look for the state that's maintained across different iteration. This `state` of an iteration can be passed as arguments.\n",
    "\n",
    "Looking back to the `sum_digits_iter` function,"
   ]
  },
  {
   "cell_type": "code",
   "execution_count": 22,
   "metadata": {},
   "outputs": [],
   "source": [
    "def sum_digits_iter(n):\n",
    "    # Store the partial sum so far\n",
    "    digit_sum = 0\n",
    "    while n > 0: #While there are still digits left to sum\n",
    "        n, last = split(n)\n",
    "        digit_sum += last\n",
    "    return digit_sum"
   ]
  },
  {
   "cell_type": "markdown",
   "metadata": {},
   "source": [
    "For each `while` loop suite, the states that are maintained are:\n",
    "1. `n`\n",
    "    * For every `while` loop, `n` changes to be \"all but the last digit\" of `n`\n",
    "\n",
    "2. `digit_sum`\n",
    "    * Contains the partial sum of digits so far\n",
    "\n",
    "For writing the `recursive` version, we pass in exactly the the states that are maintained in the `iterative` version as the arguments.\n",
    "\n",
    "<img src = 'convert.jpg' width = 500/>"
   ]
  },
  {
   "cell_type": "code",
   "execution_count": 24,
   "metadata": {},
   "outputs": [],
   "source": [
    "def sum_digits_rec(n, digit_sum):\n",
    "    # Base case: if n is 0, return the digit_sum so far\n",
    "    if n == 0:\n",
    "        return digit_sum\n",
    "    else:\n",
    "        n, last = split(n)\n",
    "        return sum_digits_rec(n, digit_sum + last)"
   ]
  },
  {
   "cell_type": "markdown",
   "metadata": {},
   "source": [
    "Notice the 2nd argument of the `sum_digits_rec` on the last line above. We made sure that we update the 2nd argument for the recursive call `sum_digits_rec`: `digit_sum + last`."
   ]
  },
  {
   "cell_type": "code",
   "execution_count": null,
   "metadata": {},
   "outputs": [],
   "source": []
  }
 ],
 "metadata": {
  "kernelspec": {
   "display_name": "Python 3",
   "language": "python",
   "name": "python3"
  },
  "language_info": {
   "codemirror_mode": {
    "name": "ipython",
    "version": 3
   },
   "file_extension": ".py",
   "mimetype": "text/x-python",
   "name": "python",
   "nbconvert_exporter": "python",
   "pygments_lexer": "ipython3",
   "version": "3.7.2"
  }
 },
 "nbformat": 4,
 "nbformat_minor": 2
}
