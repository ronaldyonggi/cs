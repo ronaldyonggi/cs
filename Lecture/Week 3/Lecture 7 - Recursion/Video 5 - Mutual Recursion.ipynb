{
 "cells": [
  {
   "cell_type": "code",
   "execution_count": 1,
   "metadata": {},
   "outputs": [],
   "source": [
    "%load_ext tutormagic"
   ]
  },
  {
   "cell_type": "markdown",
   "metadata": {},
   "source": [
    "# Mutual Recursion\n",
    "Mutual recursion occurs when 2 different functions call each other. "
   ]
  },
  {
   "cell_type": "markdown",
   "metadata": {},
   "source": [
    "## The Luhn Algorithm\n",
    "Now we're going to cover the `Luhn` Algorithm, used to compute the `checksum` of credit card numbers (verify credit card numbers).\n",
    "\n",
    "#### From the most right digit (the `check digit`), moving left:\n",
    "1. Double the value of every second digit\n",
    "2. If the product of the doubling operation above is greater than `9` (e.g.`7 * 2 = 14`),\n",
    "    * Then sum the digits of the products (e.g. `10 = 1 + 0 = 1`, `14 = 1 + 4 = 5`)\n",
    "    \n",
    "#### Take the sum of all the digits\n",
    "\n",
    "Suppose we want to calculate the `Luhn` sum of the following,\n",
    "\n",
    "<img src = 'luhn.jpg' width = 400/>\n",
    "\n",
    "We can compute it by doubling every other digit starting from the right most. And if the result is 2 digits, sum the digits.\n",
    "\n",
    "<img src = 'luhn_2.jpg' width = 500/>\n",
    "\n",
    "If we sum all the numbers of the lower blocks, the result would be `30`. The `Luhn` sum of a valid credit card number is a multiple of `10`. \n",
    "* If any of the digit is incorrect, then the `Luhn` sum would not be a multiple of `10` \n",
    "* Moreover, If any of the numbers switch position (e.g. switch `4` with `7`), it will be detected by the `Luhn` sum algorithm\n",
    "    * The resulting `Luhn` sum won't be a multiple of `10` either\n",
    "    \n",
    "Let's write the function for this! The `luhn_sum` function will use the `split` and `sum_digits` functions that we defined earlier."
   ]
  },
  {
   "cell_type": "code",
   "execution_count": 13,
   "metadata": {},
   "outputs": [],
   "source": [
    "def split(n):\n",
    "    \"\"\" Split positive n into all but its last digit and its last digit\"\"\"\n",
    "    return n // 10, n % 10\n",
    "\n",
    "def sum_digits(n):\n",
    "    \"\"\" Return the sum of the digits of positive integer n\"\"\"\n",
    "    # if n is less than 10, then just return n\n",
    "    if n < 10:\n",
    "        return n\n",
    "    else:\n",
    "        # split n\n",
    "        all_but_last, last = split(n)\n",
    "        return sum_digits(all_but_last) + last"
   ]
  },
  {
   "cell_type": "code",
   "execution_count": 14,
   "metadata": {},
   "outputs": [],
   "source": [
    "def luhn_sum(n):\n",
    "    if n < 10:\n",
    "        return n\n",
    "    else:\n",
    "        all_but_last, last = split(n)\n",
    "        return luhn_sum_double(all_but_last) + last\n",
    "    \n",
    "def luhn_sum_double(n):\n",
    "    # split n\n",
    "    all_but_last, last = split(n)\n",
    "    # multiply 'last' by 2, then sum the digit, then name it luhn_digit\n",
    "    luhn_digit = sum_digits(2 * last)\n",
    "    if n < 10:\n",
    "        return luhn_digit\n",
    "    else:\n",
    "        # Notice that it adds the 'luhn_digit'. So this takes into account the digit that's double by 2\n",
    "        return luhn_sum(all_but_last) + luhn_digit"
   ]
  },
  {
   "cell_type": "markdown",
   "metadata": {},
   "source": [
    "Notice that `luhn_sum` calls `luhn_sum_double`, while `luhn_sum_double` calls `luhn_sum`. This is `mutual recursion` phenomenon: 2 functions call each other. Base cases can either appear in only one of them, or both. \n",
    "\n",
    "Let's try to use the function!"
   ]
  },
  {
   "cell_type": "code",
   "execution_count": 15,
   "metadata": {},
   "outputs": [
    {
     "data": {
      "text/plain": [
       "2"
      ]
     },
     "execution_count": 15,
     "metadata": {},
     "output_type": "execute_result"
    }
   ],
   "source": [
    "luhn_sum(2)"
   ]
  },
  {
   "cell_type": "code",
   "execution_count": 16,
   "metadata": {},
   "outputs": [
    {
     "data": {
      "text/plain": [
       "8"
      ]
     },
     "execution_count": 16,
     "metadata": {},
     "output_type": "execute_result"
    }
   ],
   "source": [
    "luhn_sum(32)"
   ]
  },
  {
   "cell_type": "markdown",
   "metadata": {},
   "source": [
    "Notice above, `3` is doubled, becoming `6`. Then `6 + 2 = 8`\n",
    "\n",
    "If we try the number that we saw above,"
   ]
  },
  {
   "cell_type": "code",
   "execution_count": 17,
   "metadata": {},
   "outputs": [
    {
     "data": {
      "text/plain": [
       "30"
      ]
     },
     "execution_count": 17,
     "metadata": {},
     "output_type": "execute_result"
    }
   ],
   "source": [
    "luhn_sum(138743)"
   ]
  },
  {
   "cell_type": "markdown",
   "metadata": {},
   "source": [
    "It works!"
   ]
  }
 ],
 "metadata": {
  "kernelspec": {
   "display_name": "Python 3",
   "language": "python",
   "name": "python3"
  },
  "language_info": {
   "codemirror_mode": {
    "name": "ipython",
    "version": 3
   },
   "file_extension": ".py",
   "mimetype": "text/x-python",
   "name": "python",
   "nbconvert_exporter": "python",
   "pygments_lexer": "ipython3",
   "version": "3.6.8"
  }
 },
 "nbformat": 4,
 "nbformat_minor": 2
}
