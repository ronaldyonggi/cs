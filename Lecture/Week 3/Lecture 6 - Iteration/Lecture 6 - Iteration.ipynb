{
 "cells": [
  {
   "cell_type": "code",
   "execution_count": 1,
   "metadata": {},
   "outputs": [],
   "source": [
    "%load_ext tutormagic"
   ]
  },
  {
   "cell_type": "markdown",
   "metadata": {},
   "source": [
    "# Return\n",
    "Returning from a function call means ending the function call and determining the value of the call expression. "
   ]
  },
  {
   "cell_type": "markdown",
   "metadata": {},
   "source": [
    "## Return Statements\n",
    "A return statement completes the evaluation of a call expression and provides its value.\n",
    "\n",
    "`f(x)` for user-defined function `f`: switch to a new environment, then execute `f`'s body\n",
    "* When Python evaluates a call expression for a user-defined function, Python executes the body of the function in a new environment.\n",
    "\n",
    "`return` statement within `f`: switch back to the previous environment; `f(x)` now has a value\n",
    "\n",
    "Only one return statement is ever executed while executing the body of a function\n",
    "\n",
    "As an exercise, let's write a function `end` that prints the final digits of `n` in reverse order until `d` is found."
   ]
  },
  {
   "cell_type": "code",
   "execution_count": 2,
   "metadata": {},
   "outputs": [],
   "source": [
    "def end(n, d):\n",
    "    \"\"\"Prints the final digits of N in reverse order until D is found\n",
    "    \n",
    "    >>> end(34567, 5)\n",
    "    7\n",
    "    6\n",
    "    5\n",
    "    \"\"\"\n",
    "    while n > 0:\n",
    "        print (n % 10)\n",
    "        if (n % 10) == d:\n",
    "            return None\n",
    "        n = n // 10"
   ]
  },
  {
   "cell_type": "code",
   "execution_count": 3,
   "metadata": {},
   "outputs": [
    {
     "name": "stdout",
     "output_type": "stream",
     "text": [
      "7\n",
      "6\n",
      "5\n"
     ]
    }
   ],
   "source": [
    "end(34567, 5)"
   ]
  },
  {
   "cell_type": "markdown",
   "metadata": {},
   "source": [
    "Above, we made sure that when `d` is found, Python is done with the `while` loop execution. This can be done with a conditional statement containing a `return None` statement. "
   ]
  },
  {
   "cell_type": "markdown",
   "metadata": {},
   "source": [
    "## Demo\n",
    "Below is more example on Python `return` from a suite of a `while` statement. We have a higher-order function `search` that takes a function `f` as the argument. `search` "
   ]
  },
  {
   "cell_type": "code",
   "execution_count": 4,
   "metadata": {},
   "outputs": [],
   "source": [
    "def search(f):\n",
    "    x = 0\n",
    "    while True:\n",
    "        if f(x):\n",
    "            return x\n",
    "        x += 1 # Increment x by 1"
   ]
  },
  {
   "cell_type": "markdown",
   "metadata": {},
   "source": [
    "`while True` is an infinite loop that runs indefinitely until a `return` statement is found. We set the function so that the `return` statement is executed when `f(x)` returns `True`.\n",
    "\n",
    "We also have the following `is_three` function, which returns `True` or `False` depending on whether the argument value is `3`."
   ]
  },
  {
   "cell_type": "code",
   "execution_count": 5,
   "metadata": {},
   "outputs": [],
   "source": [
    "def is_three(x):\n",
    "    return x == 3"
   ]
  },
  {
   "cell_type": "markdown",
   "metadata": {},
   "source": [
    "If we use `is_three` as the argument value for `search`,"
   ]
  },
  {
   "cell_type": "code",
   "execution_count": 6,
   "metadata": {},
   "outputs": [
    {
     "data": {
      "text/plain": [
       "3"
      ]
     },
     "execution_count": 6,
     "metadata": {},
     "output_type": "execute_result"
    }
   ],
   "source": [
    "search(is_three)"
   ]
  },
  {
   "cell_type": "markdown",
   "metadata": {},
   "source": [
    "Then the return value is `3`! This is because `is_three` returns `True` when its argument is `3`."
   ]
  },
  {
   "cell_type": "code",
   "execution_count": 7,
   "metadata": {},
   "outputs": [
    {
     "data": {
      "text/plain": [
       "True"
      ]
     },
     "execution_count": 7,
     "metadata": {},
     "output_type": "execute_result"
    }
   ],
   "source": [
    "is_three(3)"
   ]
  },
  {
   "cell_type": "code",
   "execution_count": 8,
   "metadata": {},
   "outputs": [
    {
     "data": {
      "text/plain": [
       "False"
      ]
     },
     "execution_count": 8,
     "metadata": {},
     "output_type": "execute_result"
    }
   ],
   "source": [
    "is_three(2)"
   ]
  },
  {
   "cell_type": "code",
   "execution_count": 9,
   "metadata": {},
   "outputs": [
    {
     "data": {
      "text/plain": [
       "False"
      ]
     },
     "execution_count": 9,
     "metadata": {},
     "output_type": "execute_result"
    }
   ],
   "source": [
    "is_three(1)"
   ]
  },
  {
   "cell_type": "markdown",
   "metadata": {},
   "source": [
    "Below we have the function `positive`, which chooses the non-negative value between `0` and `square(x) - 100`."
   ]
  },
  {
   "cell_type": "code",
   "execution_count": 10,
   "metadata": {},
   "outputs": [],
   "source": [
    "def square(x):\n",
    "    return x * x\n",
    "\n",
    "def positive(x):\n",
    "    return max(0, square(x) - 100)"
   ]
  },
  {
   "cell_type": "markdown",
   "metadata": {},
   "source": [
    "Let's test out the function above!"
   ]
  },
  {
   "cell_type": "code",
   "execution_count": 11,
   "metadata": {},
   "outputs": [
    {
     "data": {
      "text/plain": [
       "0"
      ]
     },
     "execution_count": 11,
     "metadata": {},
     "output_type": "execute_result"
    }
   ],
   "source": [
    "positive(2)"
   ]
  },
  {
   "cell_type": "code",
   "execution_count": 12,
   "metadata": {},
   "outputs": [
    {
     "data": {
      "text/plain": [
       "0"
      ]
     },
     "execution_count": 12,
     "metadata": {},
     "output_type": "execute_result"
    }
   ],
   "source": [
    "positive(3)"
   ]
  },
  {
   "cell_type": "code",
   "execution_count": 13,
   "metadata": {},
   "outputs": [
    {
     "data": {
      "text/plain": [
       "0"
      ]
     },
     "execution_count": 13,
     "metadata": {},
     "output_type": "execute_result"
    }
   ],
   "source": [
    "positive(4)"
   ]
  },
  {
   "cell_type": "code",
   "execution_count": 14,
   "metadata": {},
   "outputs": [
    {
     "data": {
      "text/plain": [
       "0"
      ]
     },
     "execution_count": 14,
     "metadata": {},
     "output_type": "execute_result"
    }
   ],
   "source": [
    "positive(10)"
   ]
  },
  {
   "cell_type": "code",
   "execution_count": 15,
   "metadata": {},
   "outputs": [
    {
     "data": {
      "text/plain": [
       "21"
      ]
     },
     "execution_count": 15,
     "metadata": {},
     "output_type": "execute_result"
    }
   ],
   "source": [
    "positive(11)"
   ]
  },
  {
   "cell_type": "markdown",
   "metadata": {},
   "source": [
    "We can see that up to `x = 10`, `positive` chooses `10`. However, by the time `x = 11`, `positive` chooses `11`!\n",
    "\n",
    "We can use `search` to find the minimum `x` value where `positive` would choose `x` over `0`."
   ]
  },
  {
   "cell_type": "code",
   "execution_count": 16,
   "metadata": {},
   "outputs": [
    {
     "data": {
      "text/plain": [
       "11"
      ]
     },
     "execution_count": 16,
     "metadata": {},
     "output_type": "execute_result"
    }
   ],
   "source": [
    "search(positive)"
   ]
  },
  {
   "cell_type": "markdown",
   "metadata": {},
   "source": [
    "This method works because if `positive` returns `0`, then `f(x)` would return `False`. Recall that `0` evaluates to `False`. \n",
    "\n",
    "This \"brute\" method, which tries each number until Python finds the correct number, is the general strategy for constructing the following `inverse` function,"
   ]
  },
  {
   "cell_type": "code",
   "execution_count": 17,
   "metadata": {},
   "outputs": [],
   "source": [
    "def inverse(f):\n",
    "    \"\"\" Return g(y) such that g(f(x)) = x\"\"\"\n",
    "    return lambda y: search(lambda x: f(x) == y)"
   ]
  },
  {
   "cell_type": "markdown",
   "metadata": {},
   "source": [
    "Now recall that the built-in function `sqrt` can't be used unless we import it from another package. It turns out that we can use the `inverse` function as `sqrt`."
   ]
  },
  {
   "cell_type": "code",
   "execution_count": 18,
   "metadata": {},
   "outputs": [],
   "source": [
    "sqrt = inverse(square)"
   ]
  },
  {
   "cell_type": "code",
   "execution_count": 19,
   "metadata": {},
   "outputs": [
    {
     "data": {
      "text/plain": [
       "5"
      ]
     },
     "execution_count": 19,
     "metadata": {},
     "output_type": "execute_result"
    }
   ],
   "source": [
    "sqrt(25)"
   ]
  },
  {
   "cell_type": "code",
   "execution_count": 20,
   "metadata": {},
   "outputs": [
    {
     "data": {
      "text/plain": [
       "4"
      ]
     },
     "execution_count": 20,
     "metadata": {},
     "output_type": "execute_result"
    }
   ],
   "source": [
    "sqrt(16)"
   ]
  },
  {
   "cell_type": "code",
   "execution_count": 21,
   "metadata": {},
   "outputs": [
    {
     "data": {
      "text/plain": [
       "2"
      ]
     },
     "execution_count": 21,
     "metadata": {},
     "output_type": "execute_result"
    }
   ],
   "source": [
    "sqrt(4)"
   ]
  },
  {
   "cell_type": "markdown",
   "metadata": {},
   "source": [
    "However, this version of `sqrt` only works for perfect squares. If we run `sqrt(2)`, Python will try to find an integer that returns `2` when squared, and there is no such integer. Thus, this is not the most ideal implementation of square root. For a better version, see **Newton's Method** section of the textbook. \n",
    "\n",
    "There is a way to write an even shorter version of `search`. "
   ]
  },
  {
   "cell_type": "code",
   "execution_count": 22,
   "metadata": {},
   "outputs": [],
   "source": [
    "def search(f):\n",
    "    x = 0\n",
    "    while not f(x):\n",
    "        x += 1\n",
    "    return x"
   ]
  },
  {
   "cell_type": "code",
   "execution_count": 23,
   "metadata": {},
   "outputs": [],
   "source": [
    "sqrt = inverse(square)"
   ]
  },
  {
   "cell_type": "code",
   "execution_count": 24,
   "metadata": {},
   "outputs": [
    {
     "data": {
      "text/plain": [
       "16"
      ]
     },
     "execution_count": 24,
     "metadata": {},
     "output_type": "execute_result"
    }
   ],
   "source": [
    "sqrt(256)"
   ]
  },
  {
   "cell_type": "code",
   "execution_count": 25,
   "metadata": {},
   "outputs": [
    {
     "data": {
      "text/plain": [
       "2"
      ]
     },
     "execution_count": 25,
     "metadata": {},
     "output_type": "execute_result"
    }
   ],
   "source": [
    "sqrt(4)"
   ]
  },
  {
   "cell_type": "markdown",
   "metadata": {},
   "source": [
    "See that the new version of `search` works just fine!\n",
    "\n",
    "Once we have constructed an implementation for a function, we can always analyze it and see if there's a way to simplify it."
   ]
  },
  {
   "cell_type": "markdown",
   "metadata": {},
   "source": [
    "# Self-Reference\n",
    "A function can refer to its own name within its body. Below is an example of a function `print_all` "
   ]
  },
  {
   "cell_type": "code",
   "execution_count": 26,
   "metadata": {},
   "outputs": [],
   "source": [
    "def print_all(x):\n",
    "    print(x)\n",
    "    return print_all"
   ]
  },
  {
   "cell_type": "markdown",
   "metadata": {},
   "source": [
    "When we defined `print_all`, the body of the function is waiting for a call. By the time `print_all` is called, the name `print_all` is already bound to a function. \n",
    "\n",
    "If we call the following,"
   ]
  },
  {
   "cell_type": "code",
   "execution_count": 27,
   "metadata": {},
   "outputs": [
    {
     "name": "stdout",
     "output_type": "stream",
     "text": [
      "1\n"
     ]
    },
    {
     "data": {
      "text/plain": [
       "<function __main__.print_all(x)>"
      ]
     },
     "execution_count": 27,
     "metadata": {},
     "output_type": "execute_result"
    }
   ],
   "source": [
    "print_all(1)"
   ]
  },
  {
   "cell_type": "markdown",
   "metadata": {},
   "source": [
    "Then `print_all` will print `1`, and the whole expression `print_all(1)` evaluates to `print_all` function. Thus we can consecutively call the function."
   ]
  },
  {
   "cell_type": "code",
   "execution_count": 28,
   "metadata": {},
   "outputs": [
    {
     "name": "stdout",
     "output_type": "stream",
     "text": [
      "1\n",
      "3\n"
     ]
    },
    {
     "data": {
      "text/plain": [
       "<function __main__.print_all(x)>"
      ]
     },
     "execution_count": 28,
     "metadata": {},
     "output_type": "execute_result"
    }
   ],
   "source": [
    "print_all(1)(3)"
   ]
  },
  {
   "cell_type": "markdown",
   "metadata": {},
   "source": [
    "The call expression in the cell above also evaluates to `print_all` function! We can do this as many times as we want.\n",
    "\n",
    "Let's analyze the environment diagram!"
   ]
  },
  {
   "cell_type": "code",
   "execution_count": 29,
   "metadata": {},
   "outputs": [
    {
     "data": {
      "text/html": [
       "\n",
       "        <iframe\n",
       "            width=\"100%\"\n",
       "            height=\"350\"\n",
       "            src=\"http://pythontutor.com/iframe-embed.html#code=%0Adef%20print_all%28x%29%3A%0A%20%20%20%20print%28x%29%0A%20%20%20%20return%20print_all%0A%0Aprint_all%281%29%283%29%285%29%0A&origin=opt-frontend.js&cumulative=false&heapPrimitives=false&textReferences=false&curInstr=0&&verticalStack=false&py=3&rawInputLstJSON=%5B%5D&codeDivWidth=50%25&codeDivHeight=100%25\"\n",
       "            frameborder=\"0\"\n",
       "            allowfullscreen\n",
       "        ></iframe>\n",
       "        "
      ],
      "text/plain": [
       "<IPython.lib.display.IFrame at 0x5b69630>"
      ]
     },
     "metadata": {},
     "output_type": "display_data"
    }
   ],
   "source": [
    "%%tutor --lang python3\n",
    "\n",
    "def print_all(x):\n",
    "    print(x)\n",
    "    return print_all\n",
    "\n",
    "print_all(1)(3)(5)"
   ]
  },
  {
   "cell_type": "markdown",
   "metadata": {},
   "source": [
    "* In step 1-2, the function `print_all(x)` is bound to the name `print_all`. \n",
    "* In step 3-5, Python calls `print_all` on `1`\n",
    "    * `1` is printed out\n",
    "* In step 6, the return value of calling `print_all` on `1` is the function `print_all(x)`! \n",
    "* In step 7, the return value of `print_all(1)`, which is the function `print_all(x)`, is being called on `3`. The similar steps as above are repeated.\n",
    "\n",
    "Even though `print_all` refers to itself, it doesn't **call itself** and thus, it's not going to run infinitely. It's up to the expression `print_all(1)(3)(5)....` to indicate how many times the `print_all` should be called. \n",
    "\n",
    "Now let's do a different example! Below we have a function `print_sums` that sums all of the argument so far.\n",
    "\n",
    "`print_sums` takes an argument `x` and returns a function `next_sum`.\n",
    "* `next_sum` takes an argument `y` and calls `print_sum` on `x + y`. This is where the summing is happening"
   ]
  },
  {
   "cell_type": "code",
   "execution_count": 30,
   "metadata": {},
   "outputs": [
    {
     "data": {
      "text/html": [
       "\n",
       "        <iframe\n",
       "            width=\"100%\"\n",
       "            height=\"350\"\n",
       "            src=\"http://pythontutor.com/iframe-embed.html#code=%0Adef%20print_sums%28x%29%3A%0A%20%20%20%20print%28x%29%0A%20%20%20%20def%20next_sum%28y%29%3A%0A%20%20%20%20%20%20%20%20return%20print_sums%28x%2By%29%0A%20%20%20%20return%20next_sum%0A%0Aprint_sums%281%29%283%29%285%29%0A&origin=opt-frontend.js&cumulative=false&heapPrimitives=false&textReferences=false&curInstr=0&&verticalStack=false&py=3&rawInputLstJSON=%5B%5D&codeDivWidth=50%25&codeDivHeight=100%25\"\n",
       "            frameborder=\"0\"\n",
       "            allowfullscreen\n",
       "        ></iframe>\n",
       "        "
      ],
      "text/plain": [
       "<IPython.lib.display.IFrame at 0x5b55930>"
      ]
     },
     "metadata": {},
     "output_type": "display_data"
    }
   ],
   "source": [
    "%%tutor --lang python3\n",
    "\n",
    "def print_sums(x):\n",
    "    print(x)\n",
    "    def next_sum(y):\n",
    "        return print_sums(x+y)\n",
    "    return next_sum\n",
    "\n",
    "print_sums(1)(3)(5)"
   ]
  },
  {
   "cell_type": "markdown",
   "metadata": {},
   "source": [
    "* In step 2, the function `print_sums(x)` is bound to the name `print_sums`\n",
    "* In step 3, Python calls `print_sums` on `1`\n",
    "    * Python creates a new frame labeled `f1` with the formal parameter `x` bound to `1`\n",
    "* In step 5, Python prints `1`\n",
    "* In step 6, Python binds the function `next_sum(y)` to the name `next_sum` within the `f1` frame. \n",
    "* In step 7, Python finishes evaluating `print_sums(1)`.\n",
    "    * The `return` value is the `next_sum(y)` function\n",
    "* In step 8, Python calls `next_sum` on `3`. \n",
    "* In step 9 and 10, Python calls `print_sums` on `(x+y)`, in which currently is `1 + 3` = `4`.\n",
    "    * At this point, the steps starting step 3 is repeated, but with different argument.\n",
    "\n",
    "The execution process stops when there's no argument left for `next_sum` to be called on."
   ]
  },
  {
   "cell_type": "markdown",
   "metadata": {},
   "source": [
    "# Function Example: Sounds\n",
    "What's the point of higher-order functions? Here is an example that uses the concept of higher-order functions: **generating sound**."
   ]
  },
  {
   "cell_type": "markdown",
   "metadata": {},
   "source": [
    "## WAV Files\n",
    "WAV is a standard format for encoding sound. It's not used much recently since it takes a lot of space. \n",
    "\n",
    "The Waveform Audio File Format encodes a sampled sound wave. \n",
    "<img src = 'wave.jpg' width = 400/>\n",
    "\n",
    "Sampling allows us to digitize these sound waves by recording the height (amplitude) of the waves at particular moments (see the dots in the picture below)\n",
    "\n",
    "<img src = 'amplitudes.jpg' width = 400/>\n",
    "\n",
    "The dots indicates multiple samples at particular moment in time. For example, we can take `11,000` different samples every minute. \n",
    "\n",
    "Typically, these sound waves are generated by recording sound from real life. However, we can also generate waves from scratch according to mathematical functions. \n",
    "\n",
    "<img src = 'types.jpg' width = 500/>\n",
    "\n",
    "The triangle wave is a simple wave form with the most pleasing sound. "
   ]
  },
  {
   "cell_type": "markdown",
   "metadata": {},
   "source": [
    "## Demo\n",
    "We use some of the built-in modules to construct the wave files. "
   ]
  },
  {
   "cell_type": "code",
   "execution_count": 32,
   "metadata": {},
   "outputs": [],
   "source": [
    "from wave import open\n",
    "from struct import Struct\n",
    "from math import floor"
   ]
  },
  {
   "cell_type": "markdown",
   "metadata": {},
   "source": [
    "The `frame_rate` is the sampling rate: \"how many times per second do we want to have some values that indicates how high or how low the waveform of the sound."
   ]
  },
  {
   "cell_type": "code",
   "execution_count": 33,
   "metadata": {},
   "outputs": [],
   "source": [
    "frame_rate = 11025"
   ]
  },
  {
   "cell_type": "markdown",
   "metadata": {},
   "source": [
    "The `encode` function is how we code a value according to what the `wave` file requires. This is just one way to obtain the value that we need.  "
   ]
  },
  {
   "cell_type": "code",
   "execution_count": 34,
   "metadata": {},
   "outputs": [],
   "source": [
    "def encode(x):\n",
    "    \"\"\"Encode float x between -1 and 1 as two bytes.\n",
    "    (See https://docs.python.org/3/library/struct.html)\n",
    "    \"\"\"\n",
    "    i = int(16384 * x)\n",
    "    return Struct('h').pack(i)"
   ]
  },
  {
   "cell_type": "markdown",
   "metadata": {},
   "source": [
    "`play` is the function that writes the wave file. `play` takes a function `sampler` that describes the wave form that we are trying to generate. "
   ]
  },
  {
   "cell_type": "code",
   "execution_count": 35,
   "metadata": {},
   "outputs": [],
   "source": [
    "def play(sampler, name='song.wav', seconds=2):\n",
    "    \"\"\"Write the output of a sampler function as a wav file.\n",
    "    (See https://docs.python.org/3/library/wave.html)\n",
    "    \"\"\"\n",
    "    out = open(name, 'wb')\n",
    "    out.setnchannels(1)\n",
    "    out.setsampwidth(2)\n",
    "    out.setframerate(frame_rate)\n",
    "    t = 0\n",
    "    while t < seconds * frame_rate:\n",
    "        sample = sampler(t)\n",
    "        out.writeframes(encode(sample))\n",
    "        t = t + 1\n",
    "    out.close()"
   ]
  },
  {
   "cell_type": "markdown",
   "metadata": {},
   "source": [
    "And we have the function `tri` for generating a continuous triangle wave."
   ]
  },
  {
   "cell_type": "code",
   "execution_count": 36,
   "metadata": {},
   "outputs": [],
   "source": [
    "def tri(frequency, amplitude=0.3):\n",
    "    \"\"\"A continuous triangle wave.\"\"\"\n",
    "    period = frame_rate // frequency\n",
    "    def sampler(t):\n",
    "        saw_wave = t / period - floor(t / period + 0.5)\n",
    "        tri_wave = 2 * abs(2 * saw_wave) - 1\n",
    "        return amplitude * tri_wave\n",
    "    return sampler"
   ]
  },
  {
   "cell_type": "markdown",
   "metadata": {},
   "source": [
    "Below we have the frequency for the note `c`. We name it `c_freq`."
   ]
  },
  {
   "cell_type": "code",
   "execution_count": 37,
   "metadata": {},
   "outputs": [],
   "source": [
    "c_freq = 261.63"
   ]
  },
  {
   "cell_type": "markdown",
   "metadata": {},
   "source": [
    "Now we're trying to create a triangle wave with the frequency of `c`."
   ]
  },
  {
   "cell_type": "code",
   "execution_count": 38,
   "metadata": {},
   "outputs": [
    {
     "name": "stdout",
     "output_type": "stream",
     "text": [
      "-0.3\n",
      "-0.2714285714285714\n",
      "-0.24285714285714285\n",
      "-0.21428571428571427\n",
      "-0.18571428571428572\n",
      "-0.15714285714285714\n",
      "-0.1285714285714286\n",
      "-0.1\n",
      "-0.07142857142857144\n",
      "-0.04285714285714287\n",
      "-0.014285714285714301\n",
      "0.014285714285714301\n",
      "0.04285714285714284\n",
      "0.07142857142857144\n",
      "0.09999999999999998\n",
      "0.1285714285714286\n",
      "0.1571428571428571\n",
      "0.18571428571428572\n",
      "0.21428571428571425\n",
      "0.24285714285714285\n",
      "0.2714285714285714\n",
      "0.3\n",
      "0.2714285714285714\n",
      "0.24285714285714277\n",
      "0.21428571428571433\n",
      "0.18571428571428572\n",
      "0.1571428571428571\n",
      "0.1285714285714285\n",
      "0.10000000000000005\n",
      "0.07142857142857144\n",
      "0.04285714285714284\n",
      "0.014285714285714235\n",
      "-0.014285714285714235\n",
      "-0.04285714285714284\n",
      "-0.07142857142857144\n",
      "-0.10000000000000005\n",
      "-0.1285714285714285\n",
      "-0.1571428571428571\n",
      "-0.18571428571428572\n",
      "-0.21428571428571433\n",
      "-0.24285714285714277\n",
      "-0.2714285714285714\n",
      "-0.3\n",
      "-0.2714285714285715\n",
      "-0.24285714285714277\n",
      "-0.21428571428571433\n",
      "-0.18571428571428558\n",
      "-0.1571428571428571\n",
      "-0.12857142857142864\n",
      "-0.09999999999999991\n",
      "-0.07142857142857144\n",
      "-0.04285714285714297\n",
      "-0.014285714285714235\n",
      "0.014285714285714235\n",
      "0.04285714285714297\n",
      "0.07142857142857144\n",
      "0.09999999999999991\n",
      "0.12857142857142864\n",
      "0.1571428571428571\n",
      "0.18571428571428558\n",
      "0.21428571428571433\n",
      "0.24285714285714277\n",
      "0.2714285714285715\n",
      "0.3\n",
      "0.2714285714285715\n",
      "0.24285714285714277\n",
      "0.21428571428571433\n",
      "0.18571428571428558\n",
      "0.1571428571428571\n",
      "0.12857142857142864\n",
      "0.09999999999999991\n",
      "0.07142857142857144\n",
      "0.04285714285714297\n",
      "0.014285714285714235\n",
      "-0.014285714285714235\n",
      "-0.04285714285714297\n",
      "-0.07142857142857144\n",
      "-0.09999999999999991\n",
      "-0.12857142857142864\n",
      "-0.1571428571428571\n",
      "-0.18571428571428558\n",
      "-0.21428571428571433\n",
      "-0.24285714285714277\n",
      "-0.2714285714285715\n",
      "-0.3\n",
      "-0.2714285714285715\n",
      "-0.24285714285714305\n",
      "-0.21428571428571405\n",
      "-0.18571428571428558\n",
      "-0.1571428571428571\n",
      "-0.12857142857142864\n",
      "-0.10000000000000017\n",
      "-0.07142857142857117\n",
      "-0.042857142857142705\n",
      "-0.014285714285714235\n",
      "0.014285714285714235\n",
      "0.042857142857142705\n",
      "0.07142857142857117\n",
      "0.10000000000000017\n",
      "0.12857142857142864\n"
     ]
    }
   ],
   "source": [
    "c = tri(c_freq)\n",
    "t = 0\n",
    "while t < 100:\n",
    "    print(c(t))\n",
    "    t += 1"
   ]
  },
  {
   "cell_type": "markdown",
   "metadata": {},
   "source": [
    "Above, we see the shape of the triangle wave. If we play `c`,"
   ]
  },
  {
   "cell_type": "code",
   "execution_count": 39,
   "metadata": {},
   "outputs": [],
   "source": [
    "play(c)"
   ]
  },
  {
   "cell_type": "markdown",
   "metadata": {},
   "source": [
    "Then Python will generate a playable `song.wav` file. \n",
    "\n",
    "This time, we'll use 3 different frequencies for 3 different notes,"
   ]
  },
  {
   "cell_type": "code",
   "execution_count": 40,
   "metadata": {},
   "outputs": [],
   "source": [
    "c_freq, e_freq, g_freq = 261.63, 329.63, 392.00"
   ]
  },
  {
   "cell_type": "markdown",
   "metadata": {},
   "source": [
    "And below is a function `both` that takes in 2 functions `f` and `g` and plays 2 frequencies on the same time. "
   ]
  },
  {
   "cell_type": "code",
   "execution_count": 42,
   "metadata": {},
   "outputs": [],
   "source": [
    "def both(f, g):\n",
    "    return lambda t: f(t) + g(t)"
   ]
  },
  {
   "cell_type": "markdown",
   "metadata": {},
   "source": [
    "Now we can construct a 2-note chord by playing both triangle wave on `c` and triangle wave on `e`."
   ]
  },
  {
   "cell_type": "code",
   "execution_count": 44,
   "metadata": {},
   "outputs": [],
   "source": [
    "play(both(tri(c_freq), tri(e_freq)))"
   ]
  },
  {
   "cell_type": "markdown",
   "metadata": {},
   "source": [
    "Now the `song.wav` file has been overwritten. If we play it, notice that it sounds like a combination of 2 chords!\n",
    "\n",
    "Now we're going to add a rhythm! Below we define a function `note` that takes a particular sound `f` and plays it from `start` to `end` (measured in seconds)"
   ]
  },
  {
   "cell_type": "code",
   "execution_count": 45,
   "metadata": {},
   "outputs": [],
   "source": [
    "def note(f, start, end):\n",
    "    def sampler(t):\n",
    "        # Need to express t in seconds\n",
    "        seconds = t / frame_rate\n",
    "        # Checks if 'seconds' is between start and end\n",
    "        if seconds < start:\n",
    "            return 0\n",
    "        elif seconds > end:\n",
    "            return 0\n",
    "        else: # Play the sound \n",
    "            return f(t)\n",
    "    return sampler"
   ]
  },
  {
   "cell_type": "code",
   "execution_count": 46,
   "metadata": {},
   "outputs": [],
   "source": [
    "c, e = tri(c_freq), tri(e_freq)"
   ]
  },
  {
   "cell_type": "markdown",
   "metadata": {},
   "source": [
    "Below, Python creates a `song.wav` that plays the `c` chord from 0 to 0.25 seconds, and the `e` chord from 0.5 to 1 seconds."
   ]
  },
  {
   "cell_type": "code",
   "execution_count": 47,
   "metadata": {},
   "outputs": [],
   "source": [
    "play(both(note(c, 0 , 1/4), note(e, 1/2, 1)))"
   ]
  },
  {
   "cell_type": "markdown",
   "metadata": {},
   "source": [
    "However, notice that the beginning sound and the ending sound sounds harsh. To solve this, we can add a `fade` to the `note` function."
   ]
  },
  {
   "cell_type": "code",
   "execution_count": 48,
   "metadata": {},
   "outputs": [],
   "source": [
    "def note(f, start, end, fade=.01):\n",
    "    \"\"\"Play f for a fixed duration.\"\"\"\n",
    "    def sampler(t):\n",
    "        seconds = t / frame_rate\n",
    "        if seconds < start:\n",
    "            return 0\n",
    "        elif seconds > end:\n",
    "            return 0\n",
    "        elif seconds < start + fade:\n",
    "            return (seconds - start) / fade * f(t)\n",
    "        elif seconds > end - fade:\n",
    "            return (end - seconds) / fade * f(t)\n",
    "        else:\n",
    "            return f(t)\n",
    "    return sampler"
   ]
  },
  {
   "cell_type": "markdown",
   "metadata": {},
   "source": [
    "Below is a demonstration of playing the mario theme song,"
   ]
  },
  {
   "cell_type": "code",
   "execution_count": 49,
   "metadata": {},
   "outputs": [],
   "source": [
    "def mario(c, e, g, low_g):\n",
    "    z = 0\n",
    "    song = note(e, z, z + 1/8)\n",
    "    z += 1/8\n",
    "    song = both(song, note(e, z, z + 1/8))\n",
    "    z += 1/4\n",
    "    song = both(song, note(e, z, z + 1/8))\n",
    "    z += 1/4\n",
    "    song = both(song, note(c, z, z + 1/8))\n",
    "    z += 1/8\n",
    "    song = both(song, note(e, z, z + 1/8))\n",
    "    z += 1/4\n",
    "    song = both(song, note(g, z, z + 1/4))\n",
    "    z += 1/2\n",
    "    song = both(song, note(low_g, z, z + 1/4))\n",
    "    return song\n",
    "\n",
    "def mario_at(octave):\n",
    "    c = tri(octave * c_freq)\n",
    "    e = tri(octave * e_freq)\n",
    "    g = tri(octave * g_freq)\n",
    "    low_g = tri(octave * g_freq / 2)\n",
    "    return mario(c, e, g, low_g)\n",
    "\n",
    "play(both(mario_at(1), mario_at(1/2)))"
   ]
  },
  {
   "cell_type": "code",
   "execution_count": null,
   "metadata": {},
   "outputs": [],
   "source": []
  }
 ],
 "metadata": {
  "kernelspec": {
   "display_name": "Python 3",
   "language": "python",
   "name": "python3"
  },
  "language_info": {
   "codemirror_mode": {
    "name": "ipython",
    "version": 3
   },
   "file_extension": ".py",
   "mimetype": "text/x-python",
   "name": "python",
   "nbconvert_exporter": "python",
   "pygments_lexer": "ipython3",
   "version": "3.7.2"
  }
 },
 "nbformat": 4,
 "nbformat_minor": 2
}
