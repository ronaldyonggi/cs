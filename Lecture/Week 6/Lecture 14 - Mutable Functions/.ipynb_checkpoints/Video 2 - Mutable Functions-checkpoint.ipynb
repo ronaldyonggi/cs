{
 "cells": [
  {
   "cell_type": "code",
   "execution_count": 1,
   "metadata": {},
   "outputs": [],
   "source": [
    "%load_ext tutormagic"
   ]
  },
  {
   "cell_type": "markdown",
   "metadata": {},
   "source": [
    "# Mutable Functions"
   ]
  },
  {
   "cell_type": "markdown",
   "metadata": {},
   "source": [
    "Mutable functions are functions that have data associated with it that changes."
   ]
  },
  {
   "cell_type": "markdown",
   "metadata": {},
   "source": [
    "## A Function with Behavior That Varies Over Time"
   ]
  },
  {
   "cell_type": "markdown",
   "metadata": {},
   "source": [
    "In this example, we'll model a bank account that has a balance of 100 dollar."
   ]
  },
  {
   "cell_type": "markdown",
   "metadata": {},
   "source": [
    "If we withdraw 25 dollar from this account, it will return the remaining balance."
   ]
  },
  {
   "cell_type": "code",
   "execution_count": 2,
   "metadata": {},
   "outputs": [
    {
     "ename": "NameError",
     "evalue": "name 'withdraw' is not defined",
     "output_type": "error",
     "traceback": [
      "\u001b[1;31m---------------------------------------------------------------------------\u001b[0m",
      "\u001b[1;31mNameError\u001b[0m                                 Traceback (most recent call last)",
      "\u001b[1;32m<ipython-input-2-781749f5ae8f>\u001b[0m in \u001b[0;36m<module>\u001b[1;34m\u001b[0m\n\u001b[1;32m----> 1\u001b[1;33m \u001b[0mwithdraw\u001b[0m\u001b[1;33m(\u001b[0m\u001b[1;36m25\u001b[0m\u001b[1;33m)\u001b[0m\u001b[1;33m\u001b[0m\u001b[1;33m\u001b[0m\u001b[0m\n\u001b[0m\u001b[0;32m      2\u001b[0m \u001b[1;36m75\u001b[0m\u001b[1;33m\u001b[0m\u001b[1;33m\u001b[0m\u001b[0m\n",
      "\u001b[1;31mNameError\u001b[0m: name 'withdraw' is not defined"
     ]
    }
   ],
   "source": [
    ">>> withdraw(25)\n",
    "75"
   ]
  },
  {
   "cell_type": "markdown",
   "metadata": {},
   "source": [
    "If we withdraw the same amount (25 dollar), this time it returns a different value!"
   ]
  },
  {
   "cell_type": "code",
   "execution_count": null,
   "metadata": {},
   "outputs": [],
   "source": [
    ">>> withdraw(25)\n",
    "50"
   ]
  },
  {
   "cell_type": "markdown",
   "metadata": {},
   "source": [
    "From here, if we try to withdraw 60 dollar, it would say \"Insufficient funds\""
   ]
  },
  {
   "cell_type": "code",
   "execution_count": null,
   "metadata": {},
   "outputs": [],
   "source": [
    ">>> withdraw(60)\n",
    "'Insufficient funds'"
   ]
  },
  {
   "cell_type": "markdown",
   "metadata": {},
   "source": [
    "Now the question is, where is this `balance` of initially 100 dollar stored? It has to be within the function!\n",
    "\n",
    "We create a new function `withdraw` using a higher order function `make_withdraw` that takes an initial balance. \n",
    "\n",
    "`withdraw` is a function that has a parent frame: the `make_withdraw` frame. The `make_withdraw` frame is where the balance data is stored."
   ]
  },
  {
   "cell_type": "markdown",
   "metadata": {},
   "source": [
    "<img src = 'withdraw.jpg' width = 1000/>"
   ]
  },
  {
   "cell_type": "markdown",
   "metadata": {},
   "source": [
    "## Persistent Local State Using Environments"
   ]
  },
  {
   "cell_type": "markdown",
   "metadata": {},
   "source": [
    "Below is the environment diagram of the simulation above."
   ]
  },
  {
   "cell_type": "markdown",
   "metadata": {},
   "source": [
    "<img src = 'frame.jpg' width = 1000/>"
   ]
  },
  {
   "cell_type": "markdown",
   "metadata": {},
   "source": [
    "Our goal is:\n",
    "\n",
    "Have `make_withdraw` be a function that creates a bank account that can be withdrawn from. By calling `make_withdraw` with an initial balance `50`, Python binds that balance within the `make_withdraw` frame. "
   ]
  },
  {
   "cell_type": "markdown",
   "metadata": {},
   "source": [
    "<img src = 'balance.jpg' width = 300/>"
   ]
  },
  {
   "cell_type": "markdown",
   "metadata": {},
   "source": [
    "Calling `make_withdraw` also creates a `withdraw` function, where the return value is bound to the name `withdraw` in the global frame. \n",
    "\n",
    "<img src = 'withdraw_function.jpg' width = 700/>"
   ]
  },
  {
   "cell_type": "markdown",
   "metadata": {},
   "source": [
    "Every time we call `withdraw`, we introduce a new `withdraw` frame with the parent frame `f1`.\n",
    "\n",
    "<img src = 'new_frame.jpg' width = 500/>"
   ]
  },
  {
   "cell_type": "markdown",
   "metadata": {},
   "source": [
    "## Reminder: Local Assignment"
   ]
  },
  {
   "cell_type": "markdown",
   "metadata": {},
   "source": [
    "How do we implement this?\n",
    "\n",
    "We'll need an assignment statement inside a function!\n",
    "\n",
    "Let's review about assignment statement inside a function. \n",
    "\n",
    "<img src = 'difference.jpg' width = 700/>"
   ]
  },
  {
   "cell_type": "markdown",
   "metadata": {},
   "source": [
    "Notice that the name `difference` is located in `f1`, rather than in global frame. Thus, the assignment statement and any changes to the name `difference` only affects `difference` in the `f1` frame.\n",
    "\n",
    "Recall the **Execution rule for assignment statements:**\n",
    "1. Evaluate all expressions right of `=`, from left to right\n",
    "2. Bind the names on the left to the resulting values in the **current frame**\n",
    "\n",
    "If that's the case, how do we implement `make_withdraw`?"
   ]
  },
  {
   "cell_type": "markdown",
   "metadata": {},
   "source": [
    "## Non-Local Assignment & Persistent Local State"
   ]
  },
  {
   "cell_type": "markdown",
   "metadata": {},
   "source": [
    "We need a new type of assignment statement.\n",
    "\n",
    "The `make_withdraw` takes an initial balance,"
   ]
  },
  {
   "cell_type": "code",
   "execution_count": null,
   "metadata": {},
   "outputs": [],
   "source": [
    "def make_withdraw(balance):\n",
    "    \"\"\" Return a withdraw function with a starting balance.\"\"\""
   ]
  },
  {
   "cell_type": "markdown",
   "metadata": {},
   "source": [
    "To return the `withdraw` function, we define `withdraw` within `make_withdraw`, which takes in an `amount` to withdraw,"
   ]
  },
  {
   "cell_type": "code",
   "execution_count": null,
   "metadata": {},
   "outputs": [],
   "source": [
    "    def withdraw(amount):"
   ]
  },
  {
   "cell_type": "markdown",
   "metadata": {},
   "source": [
    "Then we declare `balance` as `nonlocal`. This is the new type of assignment statement. This means changes to the name `balance` will happen in the `make_withdraw` frame rather than happening in `withdraw` frame. "
   ]
  },
  {
   "cell_type": "code",
   "execution_count": null,
   "metadata": {},
   "outputs": [],
   "source": [
    "        nonlocal balance"
   ]
  },
  {
   "cell_type": "markdown",
   "metadata": {},
   "source": [
    "Then we write the rest of the logic after the `nonlocal balance` statement. "
   ]
  },
  {
   "cell_type": "code",
   "execution_count": null,
   "metadata": {},
   "outputs": [],
   "source": [
    "        if amount > balance:\n",
    "            return 'Insufficient funds'\n",
    "        balance = balance - amount\n",
    "        return balance\n",
    "    return withdraw"
   ]
  },
  {
   "cell_type": "markdown",
   "metadata": {},
   "source": [
    "We tend to put the statement `nonlocal balance` at the top of the function (the line right after defining the `withdraw` function), although it's not strictly required. \n",
    "\n",
    "Notice the line `balance = balance - amount`. Due to the `nonlocal balance` statement, instead of rebinding balance in the local `withdraw` frame, this line would re-bind balance in the first **non-local** frame in which it was bound previously."
   ]
  },
  {
   "cell_type": "markdown",
   "metadata": {},
   "source": [
    "<img src = 'nonlocal.jpg' width = 800/>"
   ]
  },
  {
   "cell_type": "code",
   "execution_count": null,
   "metadata": {},
   "outputs": [],
   "source": [
    "%%tutor --lang python3\n",
    "\n",
    "def make_withdraw(balance):\n",
    "    def withdraw(amount):\n",
    "        nonlocal balance\n",
    "        if amount > balance:\n",
    "            return 'Insufficient funds'\n",
    "        balance = balance - amount\n",
    "        return balance\n",
    "    return withdraw\n",
    "\n",
    "withdraw = make_withdraw(100)\n",
    "withdraw(25)\n",
    "withdraw(25)\n",
    "withdraw(60)\n",
    "withdraw(15)\n"
   ]
  },
  {
   "cell_type": "markdown",
   "metadata": {},
   "source": [
    "<img src = 'environment.jpg' width = 1100/>"
   ]
  },
  {
   "cell_type": "markdown",
   "metadata": {},
   "source": [
    "Above, the `balance = balance - amount` statement reduces the `balance` in `f1` frame to `75`. Without the `nonlocal balance` statement, the `balance = balance - amount` will only involve the `balance` name in the `f2` frame (there's no `balance` in this frame though!) "
   ]
  },
  {
   "cell_type": "markdown",
   "metadata": {},
   "source": [
    "We have always been able to look up names in the parent frames, but what's new is that with the `nonlocal` statement, we can **change** the names that are in the parent frame!"
   ]
  }
 ],
 "metadata": {
  "kernelspec": {
   "display_name": "Python 3",
   "language": "python",
   "name": "python3"
  },
  "language_info": {
   "codemirror_mode": {
    "name": "ipython",
    "version": 3
   },
   "file_extension": ".py",
   "mimetype": "text/x-python",
   "name": "python",
   "nbconvert_exporter": "python",
   "pygments_lexer": "ipython3",
   "version": "3.6.8"
  }
 },
 "nbformat": 4,
 "nbformat_minor": 2
}
