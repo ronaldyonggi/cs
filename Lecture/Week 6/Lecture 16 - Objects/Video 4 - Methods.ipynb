{
 "cells": [
  {
   "cell_type": "code",
   "execution_count": 1,
   "metadata": {},
   "outputs": [],
   "source": [
    "%load_ext tutormagic"
   ]
  },
  {
   "cell_type": "markdown",
   "metadata": {},
   "source": [
    "# Methods"
   ]
  },
  {
   "cell_type": "markdown",
   "metadata": {},
   "source": [
    "Methods represent the messages that an object will accept. They are defined in the suite of a class statement."
   ]
  },
  {
   "cell_type": "code",
   "execution_count": 2,
   "metadata": {},
   "outputs": [],
   "source": [
    "class Account:\n",
    "    # __init__ method\n",
    "    def __init__(self, account_holder):\n",
    "        self.balance = 0\n",
    "        self.holder = account_holder\n",
    "        \n",
    "    # Here we can define additional methods\n",
    "    \n",
    "    # For example, this is the deposit method. It takes the instance object 'self' and amount to deposit. \n",
    "    def deposit(self, amount):\n",
    "        self.balance = self.balance + amount\n",
    "        return self.balance\n",
    "    \n",
    "    # And here's the withdraw method\n",
    "    def withdraw(self, amount):\n",
    "        if amount > self.balance:\n",
    "            return 'Insufficient funds'\n",
    "        self.balance = self.balance - amount\n",
    "        return self.balance"
   ]
  },
  {
   "cell_type": "markdown",
   "metadata": {},
   "source": [
    "These `def` statements create function objects as always, but instead of bound to frames, these names are bound as attributes of the class."
   ]
  },
  {
   "cell_type": "markdown",
   "metadata": {},
   "source": [
    "## Invoking Methods"
   ]
  },
  {
   "cell_type": "markdown",
   "metadata": {},
   "source": [
    "All invoked methods have access to the object via the `self` parameter. Thus, these methods can access and manipulate the object's state.\n",
    "\n",
    "<img src = 'deposit.jpg' width = 500/>"
   ]
  },
  {
   "cell_type": "markdown",
   "metadata": {},
   "source": [
    "The dot `.` notation automatically supplies the first argument (the object instance that we're invoking the method on) to a method.\n",
    "\n",
    "Below is an example of using the `deposit` method,"
   ]
  },
  {
   "cell_type": "code",
   "execution_count": 3,
   "metadata": {},
   "outputs": [
    {
     "data": {
      "text/plain": [
       "100"
      ]
     },
     "execution_count": 3,
     "metadata": {},
     "output_type": "execute_result"
    }
   ],
   "source": [
    "tom_account = Account('Tom')\n",
    "tom_account.deposit(100)"
   ]
  },
  {
   "cell_type": "markdown",
   "metadata": {},
   "source": [
    "We only use one argument for the `deposit` method! What about the second argument?\n",
    "\n",
    "It turns out that the `tom_account` is the first argument. Thus, `100` is the second argument. "
   ]
  },
  {
   "cell_type": "markdown",
   "metadata": {},
   "source": [
    "## Dot Expressions"
   ]
  },
  {
   "cell_type": "markdown",
   "metadata": {},
   "source": [
    "Objects receive messages via dot `.` notation. Dot `.` notation accesses attributes of the instance **or** its class. \n",
    "\n",
    "`balance` is an instance attribute; Every instance has its own `balance`. \n",
    "\n",
    "`withdraw` method is a class attribute. All instances of `Account` class has this attribute.\n",
    "\n",
    "The dot `.` notation looks like the following,"
   ]
  },
  {
   "cell_type": "code",
   "execution_count": null,
   "metadata": {},
   "outputs": [],
   "source": [
    "<expression>.<name>"
   ]
  },
  {
   "cell_type": "markdown",
   "metadata": {},
   "source": [
    "The `<expression>` can be any valid Python expression.\n",
    "\n",
    "The `<name>` must be a simple name.\n",
    "\n",
    "The dot expression evaluates to the value of the attribute **looked up** by `<name>` in the object that is the value of the `<expression>`.\n",
    "\n",
    "Here is an example of a dot expression,"
   ]
  },
  {
   "cell_type": "code",
   "execution_count": null,
   "metadata": {},
   "outputs": [],
   "source": [
    "tom_account.deposit(10)"
   ]
  },
  {
   "cell_type": "markdown",
   "metadata": {},
   "source": [
    "The whole thing above is a call expression with a compound operator: the dot expression. It finds the `deposit` method of `tom_account`.\n",
    "\n",
    "<img src = 'tom_account.jpg' width = 500/>"
   ]
  },
  {
   "cell_type": "markdown",
   "metadata": {},
   "source": [
    "We can think of the `Account` class as an abstraction for bank account. "
   ]
  }
 ],
 "metadata": {
  "kernelspec": {
   "display_name": "Python 3",
   "language": "python",
   "name": "python3"
  },
  "language_info": {
   "codemirror_mode": {
    "name": "ipython",
    "version": 3
   },
   "file_extension": ".py",
   "mimetype": "text/x-python",
   "name": "python",
   "nbconvert_exporter": "python",
   "pygments_lexer": "ipython3",
   "version": "3.6.8"
  }
 },
 "nbformat": 4,
 "nbformat_minor": 2
}
