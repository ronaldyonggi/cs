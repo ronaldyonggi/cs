{
 "cells": [
  {
   "cell_type": "code",
   "execution_count": null,
   "metadata": {},
   "outputs": [],
   "source": [
    "%load_ext tutormagic"
   ]
  },
  {
   "cell_type": "markdown",
   "metadata": {},
   "source": [
    "# Environment Diagrams"
   ]
  },
  {
   "cell_type": "markdown",
   "metadata": {},
   "source": [
    "In this video we're going to look over environment diagrams that include lists and `nonlocal` assignment statements."
   ]
  },
  {
   "cell_type": "code",
   "execution_count": null,
   "metadata": {},
   "outputs": [],
   "source": [
    "%tutor --lang Python3\n",
    "def oski(bear):\n",
    "    def cal(berk):\n",
    "        nonlocal bear\n",
    "        if bear(berk) == 0:\n",
    "            return [berk+1, berk-1]\n",
    "        bear = lambda ley: berk - ley\n",
    "        return [berk, cal(berk)]\n",
    "    return cal(2)\n",
    "oski(abs)"
   ]
  },
  {
   "cell_type": "markdown",
   "metadata": {},
   "source": [
    "1. When we call `oski(abs)`, the function `oski` calls `cal(2)`.\n",
    "    * At this point, `bear` is bound to the function `abs`\n",
    "2. `if bear(berk) == 0\n",
    "    * `abs(2)` is not 0, so skip the `return` statement\n",
    "3. `bear = lambda ley: berk - ley`\n",
    "    * `bear` is now a lambda function of lambda ley: 2 - ley\n",
    "    * Note here that we're able to change `bear` since `bear` is declared nonlocal\n",
    "4. `return [berk, cal(berk)]`\n",
    "    * return `[2, cal(2)]`\n",
    "5. We call `cal(2)` once again, but remember that `bear` is now different!\n",
    "6. `if bear(berk) == 0\n",
    "    * \n"
   ]
  }
 ],
 "metadata": {
  "kernelspec": {
   "display_name": "Python 3",
   "language": "python",
   "name": "python3"
  },
  "language_info": {
   "codemirror_mode": {
    "name": "ipython",
    "version": 3
   },
   "file_extension": ".py",
   "mimetype": "text/x-python",
   "name": "python",
   "nbconvert_exporter": "python",
   "pygments_lexer": "ipython3",
   "version": "3.6.8"
  }
 },
 "nbformat": 4,
 "nbformat_minor": 2
}
