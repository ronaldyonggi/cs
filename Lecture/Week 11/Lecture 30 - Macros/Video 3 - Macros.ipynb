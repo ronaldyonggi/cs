{
 "cells": [
  {
   "cell_type": "markdown",
   "metadata": {},
   "source": [
    "# Macros"
   ]
  },
  {
   "cell_type": "markdown",
   "metadata": {},
   "source": [
    "Macros are a feature of Scheme that allows us to define new special forms in the language. In Python, we have a certain inventory of expressions and statement types. The same is true with Scheme, we had defined `lambda`, `if`, `con`, `and`, `or`, etc. Everything else is a procedure. \n",
    "\n",
    "Macros allow us to extend the inventory of expressions and statement types by inventing new kinds of special forms. This means we can change the way the language works, inventing new ways in which the flow of evaluation proceeds through a program.\n",
    "\n",
    "Macros work well in Lisp languages such as Scheme since it's easy to view code as data. Programs are just lists. "
   ]
  },
  {
   "cell_type": "markdown",
   "metadata": {},
   "source": [
    "## Macros Perform Code Transformations"
   ]
  },
  {
   "cell_type": "markdown",
   "metadata": {},
   "source": [
    "The way we'll invent new special forms is to describe how to take parts of the special forms and construct a regular piece of Scheme code out of them and evaluate it.\n",
    "\n",
    "A macro is an operation performed on the source code of a program before evaluation. Macros exist in many languages, but are easiest to define correctly in a language like Lisp where the code is just data.\n",
    "\n",
    "Scheme has a special form `define-macro` that defines a source code transformation. "
   ]
  },
  {
   "cell_type": "code",
   "execution_count": 2,
   "metadata": {},
   "outputs": [
    {
     "name": "stderr",
     "output_type": "stream",
     "text": [
      "\u001b[1;31m\n",
      "Traceback (most recent call last):\n",
      "  File \"In [2]\", line 1, col 1\n",
      "RunTimeError: unbound variable 'define-macro'\n",
      "\n",
      "\u001b[0m"
     ]
    }
   ],
   "source": [
    "define-macro"
   ]
  },
  {
   "cell_type": "code",
   "execution_count": null,
   "metadata": {},
   "outputs": [],
   "source": []
  }
 ],
 "metadata": {
  "kernelspec": {
   "display_name": "Calysto Scheme 3",
   "language": "scheme",
   "name": "calysto_scheme"
  },
  "language_info": {
   "codemirror_mode": {
    "name": "scheme"
   },
   "mimetype": "text/x-scheme",
   "name": "scheme",
   "pygments_lexer": "scheme"
  }
 },
 "nbformat": 4,
 "nbformat_minor": 2
}
