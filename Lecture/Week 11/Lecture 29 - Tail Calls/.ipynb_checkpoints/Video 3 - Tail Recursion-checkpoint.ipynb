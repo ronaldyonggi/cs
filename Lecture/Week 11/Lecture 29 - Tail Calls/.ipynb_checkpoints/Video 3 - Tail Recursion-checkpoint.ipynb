{
 "cells": [
  {
   "cell_type": "markdown",
   "metadata": {},
   "source": [
    "# Tail Recursion"
   ]
  },
  {
   "cell_type": "markdown",
   "metadata": {},
   "source": [
    "This lecture is about solving the extra credit problem on Project 4. This also brings up a very important concept in programming languages: `Tail Recursion`. "
   ]
  },
  {
   "cell_type": "markdown",
   "metadata": {},
   "source": [
    "## Functional Programming"
   ]
  },
  {
   "cell_type": "markdown",
   "metadata": {},
   "source": [
    "Functional programming is the idea that we can organize an entire program according to pure functions, which are modular and can be combined in an interesting way. \n",
    "\n",
    "In functional programming:\n",
    "\n",
    "1. All functions are pure functions\n",
    "    * There's no side effect\n",
    "2. There's no re-assignment and no mutable data types\n",
    "    * When we create something, it says like that permanently\n",
    "3. Name-value bindings are permanent\n",
    "\n",
    "Advantages of functional programming:\n",
    "1. The value of an expression is independent of the order in which sub-expressions are evaluated\n",
    "2. Sub-expressions can be safely be valuated in parallel (if we have multiple processing units) or on demand (wait and see if we need the value of a sub-expression before evaluating it, a.k.a. lazily)\n",
    "\n",
    "The 2 things above are the product of **referential transparency**, the idea that the value of an expression does not change when we substitute one of its subexpression with the value of that subexpression.\n",
    "* This allows us to do memoization without worrying that we're changing the behavior of our program.\n",
    "\n",
    "There are many excitements with functional programming, especially nowadays that computers are having more processing units which make it more feasible to parallelize work automatically. \n",
    "\n",
    "However, there will be no `for` or `while` statements! Is it still possible to make an efficient iteration process? Is recursion the only way?\n",
    "\n",
    "Answer: we can make functional programming efficient using tail recursion!"
   ]
  },
  {
   "cell_type": "markdown",
   "metadata": {},
   "source": [
    "## Recursion and Iteration in Python"
   ]
  },
  {
   "cell_type": "markdown",
   "metadata": {},
   "source": [
    "In Python, recursive calls always create new active frames.\n",
    "\n",
    "Let's say we write a function `factorial(n, k)` that computes `k` $\\times n!$. The recursion definition is as the following,"
   ]
  },
  {
   "cell_type": "code",
   "execution_count": null,
   "metadata": {},
   "outputs": [],
   "source": [
    "def factorial(n, k):\n",
    "    if n == 0:\n",
    "        return k\n",
    "    else:\n",
    "        return factorial(n-1, k * n)"
   ]
  },
  {
   "cell_type": "markdown",
   "metadata": {},
   "source": [
    "The recursive definition takes $\\Theta (n)$ (linear) amount of time and $\\Theta (n)$ (linear) amount of space.\n",
    "\n",
    "Meanwhile, the iterative definition is as the following,"
   ]
  },
  {
   "cell_type": "code",
   "execution_count": null,
   "metadata": {},
   "outputs": [],
   "source": [
    "def factorial(n, k):\n",
    "    while n > 0:\n",
    "        n, k = n-1, k * n\n",
    "    return k"
   ]
  },
  {
   "cell_type": "markdown",
   "metadata": {},
   "source": [
    "The iterative version also takes $\\Theta (n)$ (linear) amount of time, but $\\Theta (1)$ (constant) space since the program only has 2 names that it needs to remember, `n` and `k`!\n",
    "\n",
    "How do we bridge the gap between the space efficiency of the recursive version vs. the iterative version?"
   ]
  },
  {
   "cell_type": "markdown",
   "metadata": {},
   "source": [
    "## Tail Recursion"
   ]
  },
  {
   "cell_type": "markdown",
   "metadata": {},
   "source": [
    "If we read the specification of the Scheme language from the `Revised Report on the Algorithmic Language Scheme`:\n",
    "\n",
    "\"Implementations of Scheme are required to be **properly tail-recursive**. This allows the execution of an iterative computation in constant space, even if the iterative computation is described by a syntactically recursive procedure.\n",
    "\n",
    "The idea is that if we write the same logic of the iterative version as a Scheme procedure, "
   ]
  }
 ],
 "metadata": {
  "kernelspec": {
   "display_name": "Python 3",
   "language": "python",
   "name": "python3"
  },
  "language_info": {
   "codemirror_mode": {
    "name": "ipython",
    "version": 3
   },
   "file_extension": ".py",
   "mimetype": "text/x-python",
   "name": "python",
   "nbconvert_exporter": "python",
   "pygments_lexer": "ipython3",
   "version": "3.7.3"
  }
 },
 "nbformat": 4,
 "nbformat_minor": 2
}
