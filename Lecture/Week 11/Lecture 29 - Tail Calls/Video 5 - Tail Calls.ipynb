{
 "cells": [
  {
   "cell_type": "markdown",
   "metadata": {},
   "source": [
    "# Tail Calls"
   ]
  },
  {
   "cell_type": "markdown",
   "metadata": {},
   "source": [
    "The fundamental idea of efficient recursive procedures:\n",
    "\n",
    "\"Some calls are tail calls, some are not.\"\n",
    "\n",
    "When one procedure calls another procedure, are there more work to do once the call to that procedure is finished?\n",
    "\n",
    "A procedure call that has not yet returned is **active** (we still yet to return a value).  A Scheme interpreter should support an **unbounded number** (as many as we want) of active calls using only a **constant** amount of space. It's done by skipping the extra frames such as the ones we saw in the previous demo. \n",
    "\n",
    "A `tail call` is a call expression in a `tail context`. What's a `tail context`?\n",
    "1. The last body sub-expression in a lambda expression \n",
    "    * Lambda expression can have multiple different body expressions. The last body expression determines the return value.\n",
    "       * This means the last body expression is in the tail context (it's a description of the last activity the procedure is going to execute before returning something)\n",
    "       \n",
    "2. Sub-expression 2 & 3 in a tail context **if** expression\n",
    "    * Recall **if** expression has 3 sub-expressions: **predicate**, **consequent**, and **alternative**\n",
    "        * The <consequent> and <alternative> are tail context if the whole **if** expression is in a tail context\n",
    "    \n",
    "Look at the following `factorial` definition,"
   ]
  },
  {
   "cell_type": "code",
   "execution_count": 1,
   "metadata": {},
   "outputs": [],
   "source": [
    "(define (factorial n k)\n",
    "  (if (= n 0)\n",
    "      k\n",
    "      (factorial (- n 1)\n",
    "                 (* k n)\n",
    "                 ) ; End of recursive factorial\n",
    "      ) ; End of if statement\n",
    "  ); End of factorial definition"
   ]
  },
  {
   "cell_type": "markdown",
   "metadata": {},
   "source": [
    "The last body sub-expression in the `factorial` definition above is the following,"
   ]
  },
  {
   "cell_type": "code",
   "execution_count": 2,
   "metadata": {},
   "outputs": [
    {
     "name": "stderr",
     "output_type": "stream",
     "text": [
      "\u001b[0;31m\n",
      "Traceback (most recent call last):\n",
      "  File \"In [2]\", line 1, col 8\n",
      "RunTimeError: unbound variable 'n'\n",
      "\n",
      "\u001b[0m"
     ]
    }
   ],
   "source": [
    "(if (= n 0)\n",
    "      k\n",
    "      (factorial (- n 1)\n",
    "                 (* k n)\n",
    "                 ) ; End of recursive factorial\n",
    "      ) ; End of if statement"
   ]
  },
  {
   "cell_type": "markdown",
   "metadata": {},
   "source": [
    "This `if` expression is in a tail context, which means that its sub-expression 2 & 3,"
   ]
  },
  {
   "cell_type": "code",
   "execution_count": null,
   "metadata": {},
   "outputs": [],
   "source": [
    "      k ; Sub-expression 2\n",
    "      (factorial (- n 1)\n",
    "                 (* k n)\n",
    "                 ) ; End of recursive factorial, also sub-expression 3"
   ]
  },
  {
   "cell_type": "markdown",
   "metadata": {},
   "source": [
    "...are also in a tail context. The recursive call,"
   ]
  },
  {
   "cell_type": "code",
   "execution_count": null,
   "metadata": {},
   "outputs": [],
   "source": [
    "      (factorial (- n 1)\n",
    "                 (* k n)\n",
    "                 ) ; End of recursive factorial, also sub-expression 3"
   ]
  },
  {
   "cell_type": "markdown",
   "metadata": {},
   "source": [
    "...is a call expression in a tail context until it's a tail call. This means it will require constant amount of space regardless of the amount of times we call it. Once we compute `factorial (- n 1) (* k n)`, Scheme has already done all the work needed for `factorial (n k)`. All that's left is to return the end value. \n",
    "\n",
    "The following are also tail context:\n",
    "\n",
    "1. All non-predicate sub-expressions in a tail context `cond`\n",
    "2. The last sub-expression in a tail context `and` or `or` \n",
    "3. The last sub-expression in a tail context `begin`\n",
    "\n",
    "If we write a Scheme program, it is necessary to know what the tail contexts are to be able to estimate the space efficiency of the program. People put a lot of time to ensure that the recursive calls are placed in the tail context whenever possible so that the program is more space-efficient. \n",
    "\n",
    "In this lecture, we're going to focus on 2 cases:\n",
    "1. The last body sub-expression in a lambda expression\n",
    "2. Sub-expression 2 & 3 in a tail context **if** expression"
   ]
  },
  {
   "cell_type": "markdown",
   "metadata": {},
   "source": [
    "## Example: Length of a List"
   ]
  },
  {
   "cell_type": "markdown",
   "metadata": {},
   "source": [
    "A call expression is not a tail call if more computation is still required in the calling procedure. \n",
    "\n",
    "Linear recursive procedures can be often re-written to use tail calls.\n",
    "\n",
    "The following is an example of a linear recursive procedure for computing the length of a list `s`."
   ]
  },
  {
   "cell_type": "code",
   "execution_count": 3,
   "metadata": {},
   "outputs": [],
   "source": [
    "(define (length s)\n",
    "  (if (null? s)\n",
    "      0\n",
    "      (+ 1 (length (cdr s)))\n",
    "      ) ; End of if statement\n",
    "  ) ; End of definition of length"
   ]
  },
  {
   "cell_type": "markdown",
   "metadata": {},
   "source": [
    "From above, the following if statement,"
   ]
  },
  {
   "cell_type": "code",
   "execution_count": null,
   "metadata": {},
   "outputs": [],
   "source": [
    "(if (null? s)\n",
    "      0\n",
    "      (+ 1 (length (cdr s)))\n",
    "      ) ; End of if statement"
   ]
  },
  {
   "cell_type": "markdown",
   "metadata": {},
   "source": [
    "...is a tail context because it's the last expression in `length`. In this case, both the consequent, `0`, and the alternative,"
   ]
  },
  {
   "cell_type": "code",
   "execution_count": null,
   "metadata": {},
   "outputs": [],
   "source": [
    "(+ 1 (length (cdr s)))"
   ]
  },
  {
   "cell_type": "markdown",
   "metadata": {},
   "source": [
    "... are both in tail context. However, the following part,"
   ]
  },
  {
   "cell_type": "code",
   "execution_count": null,
   "metadata": {},
   "outputs": [],
   "source": [
    "(length (cdr s))"
   ]
  },
  {
   "cell_type": "markdown",
   "metadata": {},
   "source": [
    "...is not a tail context. Above is a call expression within the call expression `(+ 1 (length (cdr s)))`, which is a characteristic of a non-tail context. After we compute the `length` of `cdr s`, we would still need to `+ 1` to it.\n",
    "\n",
    "<img src = 'not_tail.png' width = 400/>\n",
    "\n",
    "In this case, the implementation of `length` would require linear space to keep around all the frames for `length` in each recursive calls. How would we re-write it so that it's tail-recursive?\n",
    "\n"
   ]
  },
  {
   "cell_type": "code",
   "execution_count": null,
   "metadata": {},
   "outputs": [],
   "source": [
    "    (define (length-iter s n) ; define a helper procedure that takes in"
   ]
  },
  {
   "cell_type": "markdown",
   "metadata": {},
   "source": [
    "We define a helper function `length-iter` that takes in `s` and `n`, the length that we've computed so far."
   ]
  },
  {
   "cell_type": "code",
   "execution_count": null,
   "metadata": {},
   "outputs": [],
   "source": [
    "(if (null? s)\n",
    "    n"
   ]
  },
  {
   "cell_type": "markdown",
   "metadata": {},
   "source": [
    "If `s` is null, this means we have finished computing. We just return `n`."
   ]
  },
  {
   "cell_type": "code",
   "execution_count": null,
   "metadata": {},
   "outputs": [],
   "source": [
    "(length-iter (cdr s) (+ 1 n))"
   ]
  },
  {
   "cell_type": "markdown",
   "metadata": {},
   "source": [
    "Otherwise, we recursive call `length-iter` on the rest of `s` with `n` incremented by 1."
   ]
  },
  {
   "cell_type": "code",
   "execution_count": null,
   "metadata": {},
   "outputs": [],
   "source": [
    "(length-iter s 0)"
   ]
  },
  {
   "cell_type": "markdown",
   "metadata": {},
   "source": [
    "Then for the initial `length-iter` call, we start with `s` and `n` = 0\n",
    "\n",
    "The implementation looks like the following,"
   ]
  },
  {
   "cell_type": "code",
   "execution_count": null,
   "metadata": {},
   "outputs": [],
   "source": [
    "(define (length-tail s)\n",
    "  (define (length-iter s n)\n",
    "    (if (null? s)\n",
    "        n\n",
    "        (length-iter (cdr s) (+ 1 n))\n",
    "        ) ; End of if statement\n",
    "    ) ; End of length-iter definition\n",
    "  (length-iter s 0) ; Call initial length-iter\n",
    "  )"
   ]
  },
  {
   "cell_type": "code",
   "execution_count": null,
   "metadata": {},
   "outputs": [],
   "source": [
    "(length-iter s 0)"
   ]
  },
  {
   "cell_type": "markdown",
   "metadata": {},
   "source": [
    "Above is a tail context since the last expression is in a lambda expression, or `define` (recall that a `define` procedure is implicitly a lambda expression). "
   ]
  },
  {
   "cell_type": "code",
   "execution_count": null,
   "metadata": {},
   "outputs": [],
   "source": [
    "(if (null? s)\n",
    "    n\n",
    "    (length-iter (cdr s) (+ 1 n))"
   ]
  },
  {
   "cell_type": "markdown",
   "metadata": {},
   "source": [
    "Above is a tail-context since it's a separate procedure definition and it's the last part in the procedure definition. Since the `if` statement is in a tail context, then both the consequent and the alternative are in the tail context as well. This implies that,"
   ]
  },
  {
   "cell_type": "code",
   "execution_count": null,
   "metadata": {},
   "outputs": [],
   "source": [
    "(length-iter (cdr s) (+1 n))"
   ]
  },
  {
   "cell_type": "markdown",
   "metadata": {},
   "source": [
    "...is a tail call. With this, the whole program runs in a constant space.\n",
    "\n",
    "<img src = 'tail.png' width = 500/>"
   ]
  },
  {
   "cell_type": "markdown",
   "metadata": {},
   "source": [
    "## Eval with Tail Call Optimization"
   ]
  },
  {
   "cell_type": "markdown",
   "metadata": {},
   "source": [
    "The return value of the tail call is the return value of the current procedure call. This means we can skip the procedure of keeping around the frames that we don't need because the return value obtained from the last frame can return straight to the original call. Therefore, tail calls shouldn't increase the environment size."
   ]
  },
  {
   "cell_type": "markdown",
   "metadata": {},
   "source": [
    "## Demo"
   ]
  },
  {
   "cell_type": "markdown",
   "metadata": {},
   "source": [
    "In `scheme.py` file in our project, around line 600-700, there is a part that says,"
   ]
  },
  {
   "cell_type": "code",
   "execution_count": null,
   "metadata": {},
   "outputs": [],
   "source": [
    "######################################################\n",
    "# Uncomment the following line to apply tail call\n",
    "######################################################\n",
    "\n",
    "# scheme_eval = scheme_optimized_eval"
   ]
  },
  {
   "cell_type": "markdown",
   "metadata": {},
   "source": [
    "This means currently we are currently using the regular `scheme_eval`, which is not optimized for tail calls (because we have not implemented it. That is the extra credit).\n",
    "\n",
    "Now we have the `factorial` procedure that looks like the following,"
   ]
  },
  {
   "cell_type": "code",
   "execution_count": 1,
   "metadata": {},
   "outputs": [],
   "source": [
    "(define (factorial n k)\n",
    "  (if (zero? n)\n",
    "      k\n",
    "      (factorial (- n 1) (* k n))\n",
    "      ) ; End of if statement\n",
    "  ) ; End of factorial definition"
   ]
  },
  {
   "cell_type": "markdown",
   "metadata": {},
   "source": [
    "Above, we have a tail-recursive procedure. However, our interpreter is not optimized for tail calls. This means our interpreter creates a frame every time we make a recursive call, and that frame is present even when we have obtained the return value. \n",
    "\n",
    "Assume we have the `factorial` procedure above saved in a file `ex.scm`. We will load this file with our interpreter, then we'll try to run the procedure."
   ]
  },
  {
   "cell_type": "code",
   "execution_count": null,
   "metadata": {},
   "outputs": [],
   "source": [
    "(base) Ronalds-MacBook-Air:Lecture 29 - Tail Calls ronaldyonggi$ python scheme.py\n",
    "warning: could not import the turtle module.\n",
    "scm> (load 'ex)\n",
    "\n",
    "scm> (factorial 10 1)\n",
    "3628800\n",
    "scm> (factorial 100 1)\n",
    "93326215443944152681699238856266700490715968264381621468592963895217599993229915608941463976156518286253697920827223758251185210916864000000000000000000000000\n",
    "scm> (factorial 1000 1)\n",
    "Error: maximum recursion depth exceeded\n",
    "scm> "
   ]
  },
  {
   "cell_type": "markdown",
   "metadata": {},
   "source": [
    "As we can see, when we try to run `factorial` on `1000`, we obtain an error! It gives an error because the program made too many recursive calls, utilizing too much memory. \n",
    "\n",
    "The extra credit is to make an implementation of `scheme_eval` that is optimized for tail calls. Once we implement it, we can activate it by uncommenting the line,"
   ]
  },
  {
   "cell_type": "code",
   "execution_count": null,
   "metadata": {},
   "outputs": [],
   "source": [
    "scheme_eval = scheme_optimized_eval"
   ]
  },
  {
   "cell_type": "markdown",
   "metadata": {},
   "source": [
    "Then with the optimized version, we should be able to compute `(factorial 1000 1)` without running into error. "
   ]
  },
  {
   "cell_type": "markdown",
   "metadata": {},
   "source": []
  }
 ],
 "metadata": {
  "kernelspec": {
   "display_name": "Calysto Scheme 3",
   "language": "scheme",
   "name": "calysto_scheme"
  },
  "language_info": {
   "codemirror_mode": {
    "name": "scheme"
   },
   "mimetype": "text/x-scheme",
   "name": "scheme",
   "pygments_lexer": "scheme"
  }
 },
 "nbformat": 4,
 "nbformat_minor": 4
}
