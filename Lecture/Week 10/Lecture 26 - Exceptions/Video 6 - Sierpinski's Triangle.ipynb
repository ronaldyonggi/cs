{
 "cells": [
  {
   "cell_type": "markdown",
   "metadata": {},
   "source": [
    "# Sierpinski's Triangle"
   ]
  },
  {
   "cell_type": "markdown",
   "metadata": {},
   "source": [
    "We now know Scheme. Now let's write a larger program that draws Sierpinski's Triangle. We'll include \"Turtle Graphics\" which lets us draw on the screen using commands such as 'move forward' and 'turn left'.\n",
    "\n",
    "Sierpinski's Triangle is made out of 3 Sierpinski's Triangles. There's a base case where the Sierpinski's Triangle is just a regular triangle.\n",
    "\n",
    "The first thing that we do is to create a higher-order function `repeat` which just repeats the function `fn` `k` times."
   ]
  },
  {
   "cell_type": "code",
   "execution_count": 7,
   "metadata": {},
   "outputs": [],
   "source": [
    "(define (repeat k fn)\n",
    "  (if (> k 1) ; as long as k is greater than 1 \n",
    "      (begin (fn) (repeat (- k 1) fn)) ; the keyword 'begin' which means do multiple things \n",
    "      ; In this case, 'begin' does 2 things on the same time: call fn and call recursive repeat with k decremented by 1\n",
    "      (fn))) ; if k is 1, just return fn"
   ]
  },
  {
   "cell_type": "code",
   "execution_count": 8,
   "metadata": {},
   "outputs": [],
   "source": [
    "(define (tri fn)\n",
    "  ; Repeat fn 3 times, each followed by a 120 degree turn\n",
    "  (repeat 3 (lambda () (fn) (lt 120)))) ; lt means turn left , lt 120 means turn left 120 degree"
   ]
  },
  {
   "cell_type": "code",
   "execution_count": 9,
   "metadata": {},
   "outputs": [],
   "source": [
    "(define (sier d k)\n",
    "  ; Draw 3 legs of Sierpinski's triangle to depth k\n",
    "  (tri (lambda ()\n",
    "         (if (= k 1) (fd d) (leg d k))))) ;if k is 1, just move forward by some length d. \n",
    "                ; Otherwise draw a leg of Sierpinski's triangle to the specified depth k"
   ]
  },
  {
   "cell_type": "code",
   "execution_count": 10,
   "metadata": {},
   "outputs": [],
   "source": [
    "(define (leg d k)\n",
    "  ; Draw one leg of Sierpinski's triangle to depth k\n",
    "  (sier (/ d 2) (- k 1)) ; Draw a half-size Sierpinski's triangle and a depth of 1 less than the previous.\n",
    "  (penup) ; Pick up the pen \n",
    "  (fd d) ; Move to a new location\n",
    "  (pendown)) ; Put the pen down"
   ]
  },
  {
   "cell_type": "markdown",
   "metadata": {},
   "source": [
    "Picking a pen up and down means we won't leave any line behind. "
   ]
  },
  {
   "cell_type": "code",
   "execution_count": 11,
   "metadata": {},
   "outputs": [
    {
     "name": "stderr",
     "output_type": "stream",
     "text": [
      "\u001b[1;31m\n",
      "Traceback (most recent call last):\n",
      "  File \"In [11]\", line 1, col 1, in 'sier'\n",
      "  File \"In [9]\", line 3, col 3, in 'tri'\n",
      "  File \"In [8]\", line 3, col 3, in 'repeat'\n",
      "  File \"In [7]\", line 3, col 14, in 'fn'\n",
      "  File \"In [8]\", line 3, col 24, in 'fn'\n",
      "  File \"In [9]\", line 4, col 29, in 'leg'\n",
      "  File \"In [10]\", line 3, col 3, in 'sier'\n",
      "  File \"In [9]\", line 3, col 3, in 'tri'\n",
      "  File \"In [8]\", line 3, col 3, in 'repeat'\n",
      "  File \"In [7]\", line 3, col 14, in 'fn'\n",
      "  File \"In [8]\", line 3, col 24, in 'fn'\n",
      "  File \"In [9]\", line 4, col 29, in 'leg'\n",
      "  File \"In [10]\", line 3, col 3, in 'sier'\n",
      "  File \"In [9]\", line 3, col 3, in 'tri'\n",
      "  File \"In [8]\", line 3, col 3, in 'repeat'\n",
      "  File \"In [7]\", line 3, col 14, in 'fn'\n",
      "  File \"In [8]\", line 3, col 24, in 'fn'\n",
      "  File \"In [9]\", line 4, col 29, in 'leg'\n",
      "  File \"In [10]\", line 3, col 3, in 'sier'\n",
      "  File \"In [9]\", line 3, col 3, in 'tri'\n",
      "  File \"In [8]\", line 3, col 3, in 'repeat'\n",
      "  File \"In [7]\", line 3, col 14, in 'fn'\n",
      "  File \"In [8]\", line 3, col 24, in 'fn'\n",
      "  File \"In [9]\", line 4, col 29, in 'leg'\n",
      "  File \"In [10]\", line 3, col 3, in 'sier'\n",
      "  File \"In [9]\", line 3, col 3, in 'tri'\n",
      "  File \"In [8]\", line 3, col 3, in 'repeat'\n",
      "  File \"In [7]\", line 3, col 14, in 'fn'\n",
      "  File \"In [8]\", line 3, col 24, in 'fn'\n",
      "  File \"In [9]\", line 4, col 29, in 'leg'\n",
      "  File \"In [10]\", line 3, col 3, in 'sier'\n",
      "  File \"In [9]\", line 3, col 3, in 'tri'\n",
      "  File \"In [8]\", line 3, col 3, in 'repeat'\n",
      "  File \"In [7]\", line 3, col 14, in 'fn'\n",
      "  File \"In [8]\", line 3, col 24, in 'fn'\n",
      "  File \"In [9]\", line 4, col 23\n",
      "RunTimeError: unbound variable 'fd'\n",
      "\n",
      "\u001b[0m"
     ]
    }
   ],
   "source": [
    "(sier 400 6)"
   ]
  },
  {
   "cell_type": "code",
   "execution_count": null,
   "metadata": {},
   "outputs": [],
   "source": [
    " "
   ]
  }
 ],
 "metadata": {
  "kernelspec": {
   "display_name": "Calysto Scheme 3",
   "language": "scheme",
   "name": "calysto_scheme"
  },
  "language_info": {
   "codemirror_mode": {
    "name": "scheme"
   },
   "mimetype": "text/x-scheme",
   "name": "scheme",
   "pygments_lexer": "scheme"
  }
 },
 "nbformat": 4,
 "nbformat_minor": 2
}
