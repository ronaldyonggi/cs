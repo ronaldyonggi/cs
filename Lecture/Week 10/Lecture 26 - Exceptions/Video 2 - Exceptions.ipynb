{
 "cells": [
  {
   "cell_type": "markdown",
   "metadata": {},
   "source": [
    "# Exceptions"
   ]
  },
  {
   "cell_type": "markdown",
   "metadata": {},
   "source": [
    "## Today's Topic: Handling Errors"
   ]
  },
  {
   "cell_type": "markdown",
   "metadata": {},
   "source": [
    "Sometimes, computer programs behave in non-standard ways. For example:\n",
    "1. A function receives an argument value of an improper type\n",
    "2. Some resource (e.g. files) is not available\n",
    "3. A network connection is lost in the middle of data transmission\n",
    "\n",
    "Anything could go wrong in the course of executing a computer program.\n",
    "\n",
    "How a program handles error depends on what kind of program we're writing, and how people interact with it. If we're building a web server, we want to make sure that the service keeps running regardless of what error pops up. \n",
    "\n",
    "On the other hand, the Python program stops immediately when error arises. This is because the programmer that's using it needs to know about the error ASAP so that he/she can address it in the program.\n",
    "\n",
    "Different kinds of program need different kind of policies to handle errors. There is no one right way. However, it's always the case to to think about how errors are going to be handled in any program."
   ]
  },
  {
   "cell_type": "markdown",
   "metadata": {},
   "source": [
    "## Exceptions"
   ]
  },
  {
   "cell_type": "markdown",
   "metadata": {},
   "source": [
    "The way we handle errors in Python is called the **exception** mechanism. It is a built-in mechanism in a programming language to declare that an error has occured and to respond to exceptional conditions.\n",
    "\n",
    "We have a special vocabulary for this in a special syntax in the language:\n",
    "\n",
    "#### \"Python *raises* an exception whenever an error occurs\"\n",
    "\n",
    "Exceptions can be handled by the program, preventing the interpreter from halting.\n",
    "* The default behavior is that Python would halt\n",
    "\n",
    "Unhandled exceptions will cause Python to halt execution and print a **stack trace**.\n",
    "* This is the long error message that tells use which line on which file causes the error that happened.\n",
    "\n",
    "These unhandled exceptions are what we've observed throughout the course. In this video, we'll learn how to handle exceptions so that Python doesn't always have to halt execution. It could recover from the problem and keep going. \n"
   ]
  },
  {
   "cell_type": "markdown",
   "metadata": {},
   "source": [
    "#### Mastering Exceptions"
   ]
  },
  {
   "cell_type": "markdown",
   "metadata": {},
   "source": [
    "Here are some tips for mastering exceptions:\n",
    "1. Exceptions are type of objects! They have classes with constructors.\n",
    "2. They are special because they enable non-local continuations of control\n",
    "    * Not to be mistaken with `nonlocal` statement. This is different!\n",
    "    \n",
    "The idea of non-local continuations of control is that if we have a chain of function calls (e.f. `f` calls `g` then `g` calls `h`):\n",
    "1. Normally what would happen is that `h` returns, then we continue executing the body of `g`. \n",
    "    * When `g` returns, that's when we go back to `f`\n",
    "    * Here, we finish returning from functions in the order that we called them.\n",
    "    \n",
    "2. However, exceptions can change the rule. Exceptions can shift control directly from `h` to `f`, bypassing `g` along the way. \n",
    "    * This means we can return to a different place than we would normally would. \n",
    "    * It's not exactly 'return'ing. It's raising an exception and handling it\n",
    "    \n",
    "When one statement is executed and the next one is executed, there may be functions that are separated by other functions in between. This is the definition of non-local continuations of control. \n",
    "\n",
    "Something to keep in mind is that exception handling tends to be slow. Thus, it's not something that we use for the standard approach to a program. This is only for non-standard situations. "
   ]
  }
 ],
 "metadata": {
  "kernelspec": {
   "display_name": "Python 3",
   "language": "python",
   "name": "python3"
  },
  "language_info": {
   "codemirror_mode": {
    "name": "ipython",
    "version": 3
   },
   "file_extension": ".py",
   "mimetype": "text/x-python",
   "name": "python",
   "nbconvert_exporter": "python",
   "pygments_lexer": "ipython3",
   "version": "3.6.8"
  }
 },
 "nbformat": 4,
 "nbformat_minor": 2
}
