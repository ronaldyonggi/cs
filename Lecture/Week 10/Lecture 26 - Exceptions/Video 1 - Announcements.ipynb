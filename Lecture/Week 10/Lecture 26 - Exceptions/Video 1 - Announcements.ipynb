{
 "cells": [
  {
   "cell_type": "markdown",
   "metadata": {},
   "source": [
    "In [CS61A Fall 2018 Webpage](https://inst.eecs.berkeley.edu/~cs61a/fa18/), there is a link that leads to the [web-based Scheme interpreter](https://scheme.cs61a.org/). It behaves the same way as the Scheme interpreter in homeworks and labs, but it runs in a browser. \n",
    "\n",
    "It has some useful features! For example, if we turn on `autodraw`"
   ]
  },
  {
   "cell_type": "code",
   "execution_count": 1,
   "metadata": {},
   "outputs": [
    {
     "name": "stderr",
     "output_type": "stream",
     "text": [
      "\u001b[1;31m\n",
      "Traceback (most recent call last):\n",
      "  File \"In [1]\", line 1, col 2\n",
      "RunTimeError: unbound variable 'autodraw'\n",
      "\n",
      "\u001b[0m"
     ]
    }
   ],
   "source": [
    "(autodraw)"
   ]
  },
  {
   "cell_type": "markdown",
   "metadata": {},
   "source": [
    "Whenever we create a list, the linked list structure will be shown!"
   ]
  },
  {
   "cell_type": "markdown",
   "metadata": {},
   "source": [
    "<img src = 'display.jpg' width = 600/>"
   ]
  },
  {
   "cell_type": "code",
   "execution_count": null,
   "metadata": {},
   "outputs": [],
   "source": []
  }
 ],
 "metadata": {
  "kernelspec": {
   "display_name": "Calysto Scheme 3",
   "language": "scheme",
   "name": "calysto_scheme"
  },
  "language_info": {
   "codemirror_mode": {
    "name": "scheme"
   },
   "mimetype": "text/x-scheme",
   "name": "scheme",
   "pygments_lexer": "scheme"
  }
 },
 "nbformat": 4,
 "nbformat_minor": 2
}
