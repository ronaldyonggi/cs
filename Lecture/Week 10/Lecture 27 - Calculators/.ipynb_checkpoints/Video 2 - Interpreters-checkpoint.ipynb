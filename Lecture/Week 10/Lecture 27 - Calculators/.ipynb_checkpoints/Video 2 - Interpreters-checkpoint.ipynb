{
 "cells": [
  {
   "cell_type": "markdown",
   "metadata": {},
   "source": [
    "# Interpreters"
   ]
  },
  {
   "cell_type": "markdown",
   "metadata": {},
   "source": [
    "We are going to built an interpreter. Interpreters are required to do a lot of error handling. What separates a useful programming language from one that's frustating to use is its ability to communicate errors effectively to its users.\n",
    "\n",
    "What do interpreters do?"
   ]
  },
  {
   "cell_type": "markdown",
   "metadata": {},
   "source": [
    "## Reading Scheme Lists"
   ]
  },
  {
   "cell_type": "markdown",
   "metadata": {},
   "source": [
    "They read in the input program as texts and interpret it as a hierarchical structure.\n",
    "\n",
    "In the case of building a Scheme interpreter, we're going to need to read many parentheses and `+`s and numerals and etc. and understand those as Scheme lists, that is, recursive lists.\n",
    "\n",
    "A Scheme list is written as elements in parentheses:"
   ]
  },
  {
   "cell_type": "code",
   "execution_count": null,
   "metadata": {},
   "outputs": [],
   "source": [
    "(<element_0> <element_1> ... <element_n>)"
   ]
  },
  {
   "cell_type": "markdown",
   "metadata": {},
   "source": [
    "Each `<element>` can be a combination or primitive. `<element_0>` can be a `+`, while `<element_1>` can be a second Scheme list with more parentheses.\n",
    "\n",
    "Here is a particularly complicated Scheme list, which also happened to represent a Scheme expression."
   ]
  },
  {
   "cell_type": "code",
   "execution_count": 1,
   "metadata": {},
   "outputs": [
    {
     "data": {
      "text/plain": [
       "57"
      ]
     },
     "execution_count": 1,
     "metadata": {},
     "output_type": "execute_result"
    }
   ],
   "source": [
    "(+ (* 3 (+ (* 2 4) (+ 3 5))) (+ (- 10 7) 6))"
   ]
  },
  {
   "cell_type": "markdown",
   "metadata": {},
   "source": [
    "Above, see that the first element is a `+`, and the 2nd element is a whole list of `(* 3 (+ (* 2 4) (+ 3 5)))`.\n",
    "\n",
    "In any well-formed Scheme list, the number of left parentheses will be the same as the number of right parentheses. Part of reading Scheme lists would be matching up those parentheses. The other part of it would be figuring out whether all the individual numbers are well-formed. \n",
    "\n",
    "The task of parsing a programming language involves coercing a string representation of an expression in that language to an object that is the expression itself. This means validating that there are no errors and creating a nested hierarchical structure out of something that starts out as a bunch of parentheses and symbols.\n",
    "\n",
    "Parsers must validate that expressions are well-formed. \n",
    "\n",
    "For the next few lectures, we're going to analyze a program called `scalc`, not as powerful as the Scheme itself. It only supports 4 operations: `+, -, *, /`. This is going to be a full functioning calculator for those 4 operations, but we'll use Scheme style syntax. \n",
    "\n",
    "Below assume that we're running the program `scheme_reader`. If we type in an expression, it will be printed out in 2 different ways."
   ]
  },
  {
   "cell_type": "code",
   "execution_count": null,
   "metadata": {},
   "outputs": [],
   "source": [
    "> 1\n",
    "1\n",
    "1"
   ]
  },
  {
   "cell_type": "code",
   "execution_count": null,
   "metadata": {},
   "outputs": [],
   "source": [
    "> (1 2)\n",
    "(1 2) ; Scheme representation of the list\n",
    "Pair(1, Pair(2, nil)) ;Underlying Python representation, which explicitly states that this is a recursive list "
   ]
  },
  {
   "cell_type": "code",
   "execution_count": null,
   "metadata": {},
   "outputs": [],
   "source": [
    "> (1 2 3)\n",
    "(1 2 3)\n",
    "Pair(1, Pair(2, Pair(3, nil)))"
   ]
  },
  {
   "cell_type": "markdown",
   "metadata": {},
   "source": [
    "Note that this Scheme reader is not doing any arithmetic. "
   ]
  },
  {
   "cell_type": "code",
   "execution_count": null,
   "metadata": {},
   "outputs": [],
   "source": [
    "> (+ 1 2 3)\n",
    "(+ 1 2 3)\n",
    "Pair('+', Pair(1, Pair(2, Pair(3, nil))))"
   ]
  },
  {
   "cell_type": "markdown",
   "metadata": {},
   "source": [
    "It should still work even with random indentation,"
   ]
  },
  {
   "cell_type": "code",
   "execution_count": null,
   "metadata": {},
   "outputs": [],
   "source": [
    "> (+\n",
    "    1 2\n",
    "            3)\n",
    "(+ 1 2 3)\n",
    "Pair('+', Pair(1, Pair(2, Pair(3, nil))))"
   ]
  }
 ],
 "metadata": {
  "kernelspec": {
   "display_name": "Calysto Scheme 3",
   "language": "scheme",
   "name": "calysto_scheme"
  },
  "language_info": {
   "codemirror_mode": {
    "name": "scheme"
   },
   "mimetype": "text/x-scheme",
   "name": "scheme",
   "pygments_lexer": "scheme"
  }
 },
 "nbformat": 4,
 "nbformat_minor": 2
}
