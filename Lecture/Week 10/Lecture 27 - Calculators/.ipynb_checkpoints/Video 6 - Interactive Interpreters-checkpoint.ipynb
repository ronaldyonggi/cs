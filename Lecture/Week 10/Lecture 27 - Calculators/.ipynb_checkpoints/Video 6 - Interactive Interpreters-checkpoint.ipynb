{
 "cells": [
  {
   "cell_type": "markdown",
   "metadata": {},
   "source": [
    "# Interactive Interpreters"
   ]
  },
  {
   "cell_type": "markdown",
   "metadata": {},
   "source": [
    "We haven't covered user interface for the interpreter. How should it behave?"
   ]
  },
  {
   "cell_type": "markdown",
   "metadata": {},
   "source": [
    "## Read-Eval-Print Loop"
   ]
  },
  {
   "cell_type": "markdown",
   "metadata": {},
   "source": [
    "Interpreters typically have the read-eval-print loop. The user interface for many programming languages is an interactive interpreter: an interactive loop where we enter an expression and it gets evaluated.\n",
    "\n",
    "The process of read-eval-print loop is as the following:\n",
    "1. Print a prompt\n",
    "    * Tells the user that the computer is ready for input\n",
    "2. **Read** text input from the user\n",
    "3. Parse the text input into an expression or statement\n",
    "4. **Evaluate** the expression\n",
    "5. If any errors occur, report those errors, otherwise\n",
    "6. **Print** the value of the expression and repeat printing another prompt"
   ]
  },
  {
   "cell_type": "markdown",
   "metadata": {},
   "source": [
    "## Demo"
   ]
  },
  {
   "cell_type": "markdown",
   "metadata": {},
   "source": [
    "The read-eval-print loop is exactly what happened when we execute and run Scheme expressions. What code is actually doing this?\n",
    "\n",
    "If we scroll to the bottom of `scalc.py`, we would see the `read_eval_print_loop` function. "
   ]
  },
  {
   "cell_type": "code",
   "execution_count": null,
   "metadata": {},
   "outputs": [],
   "source": [
    "while True:\n",
    "    try:\n",
    "        src = buffer_input()"
   ]
  },
  {
   "cell_type": "markdown",
   "metadata": {},
   "source": [
    "^ it tries to read input from the user, forever."
   ]
  },
  {
   "cell_type": "code",
   "execution_count": null,
   "metadata": {},
   "outputs": [],
   "source": [
    "while src.more_on_line:\n",
    "    expression = scheme_read(src)\n",
    "    print(cal_eval(expression))"
   ]
  },
  {
   "cell_type": "markdown",
   "metadata": {},
   "source": [
    "^ while there are more texts remaining, \n",
    "1. It parses the expression using the `scheme_read` function\n",
    "    * This gives back an expression represented as a Scheme list\n",
    "2. Calls `calc_eval` on the expression to evaluate it, then prints the result\n",
    "\n",
    "The `print` only occurs if there aren't any exceptions raised during `calc_eval`. If there are exceptions, `calc_eval(expression)` won't have any value."
   ]
  },
  {
   "cell_type": "markdown",
   "metadata": {},
   "source": [
    "## Raising Exceptions"
   ]
  },
  {
   "cell_type": "markdown",
   "metadata": {},
   "source": [
    "Exceptions are raised within all aspects of an interpreter: lexical analysis, syntactic analysis, eval, and apply. \n",
    "\n",
    "#### Example Exceptions\n",
    "1. Lexical analysis\n",
    "    * The token `2.3.4` (not a well-formed number) raises `ValueError (\"invalid numeral\")`\n",
    "2. Syntactic analysis: makes sure that that our expressions are structurally correct\n",
    "    * An extra `)` raises `SyntaxError (\"unexpected token\")`\n",
    "3. Eval: makes sure that we're dealing with only 2 types of expressions: primitive and call\n",
    "    * An empty combination raises `TypeError(\"() is not a number or call expression\")`\n",
    "4. Apply: knows which operator is being applied and what are the rules for those operators\n",
    "    * No arguments to `-` (subtraction), it will raise `TypeError(\"- requires at least 1 argument\")`"
   ]
  },
  {
   "cell_type": "markdown",
   "metadata": {},
   "source": [
    "In the version of calculator that we've built, all the exceptions above apply."
   ]
  },
  {
   "cell_type": "code",
   "execution_count": null,
   "metadata": {},
   "outputs": [],
   "source": [
    "> 2.3.4\n",
    "ValueError: invalid numeral: 2.3.4"
   ]
  },
  {
   "cell_type": "code",
   "execution_count": null,
   "metadata": {},
   "outputs": [],
   "source": [
    "> )\n",
    "SyntaxError: unexpected token: )"
   ]
  },
  {
   "cell_type": "code",
   "execution_count": null,
   "metadata": {},
   "outputs": [],
   "source": [
    "> ()\n",
    "TypeError: () is not a number or call expression"
   ]
  },
  {
   "cell_type": "code",
   "execution_count": null,
   "metadata": {},
   "outputs": [],
   "source": [
    "> (-)\n",
    "TypeError: - requires at least 1 argument"
   ]
  },
  {
   "cell_type": "markdown",
   "metadata": {},
   "source": [
    "Some of the errors are actually raised by Python itself!"
   ]
  },
  {
   "cell_type": "code",
   "execution_count": null,
   "metadata": {},
   "outputs": [],
   "source": [
    "> (/ 1 0)\n",
    "ZeroDivisionError: division by zero"
   ]
  },
  {
   "cell_type": "markdown",
   "metadata": {},
   "source": [
    "## Handling Exceptions"
   ]
  },
  {
   "cell_type": "markdown",
   "metadata": {},
   "source": [
    "Handling exceptions happen all in one place, in constrast to raising exceptions which happen all over the place. \n",
    "\n",
    "An interactive interpreter prints information about each error. When the errors occur, the programmer can figure out what to change to fix the error.\n",
    "\n",
    "A well-designed interactive interpreter should not halt completely on an error, so that the user had an opportunity to try again in the current environment. \n",
    "\n",
    "This is exactly what happened when we ran the Scheme expressions. Even after we got an error, we can still continue using the interpreter. The only way to stop the program is to manually stop it (e.g. Ctrl+D, Ctrl+C). How do we control this?\n",
    "\n",
    "Back to the `read_eval_print_loop` function:"
   ]
  },
  {
   "cell_type": "code",
   "execution_count": null,
   "metadata": {},
   "outputs": [],
   "source": [
    "def read_eval_print_loop():\n",
    "    \"\"\"Run a read-eval-print loop for Calculator.\"\"\"\n",
    "    while True:\n",
    "        try:\n",
    "            src = buffer_input()\n",
    "            while src.more_on_line:\n",
    "                expression = scheme_read(src)\n",
    "                print(calc_eval(expression))\n",
    "        except (SyntaxError, TypeError, ValueError, ZeroDivisionError) as err:\n",
    "            print(type(err).__name__ + ':', err)\n",
    "        except (KeyboardInterrupt, EOFError):  # <Control>-D, etc.\n",
    "            print('Calculation completed.')\n",
    "            return"
   ]
  },
  {
   "cell_type": "markdown",
   "metadata": {},
   "source": [
    "Both the parsing,"
   ]
  },
  {
   "cell_type": "code",
   "execution_count": null,
   "metadata": {},
   "outputs": [],
   "source": [
    "expression = scheme_read(src)"
   ]
  },
  {
   "cell_type": "markdown",
   "metadata": {},
   "source": [
    "...and the evaluation,"
   ]
  },
  {
   "cell_type": "code",
   "execution_count": null,
   "metadata": {},
   "outputs": [],
   "source": [
    "print(calc_eval(expression))"
   ]
  },
  {
   "cell_type": "markdown",
   "metadata": {},
   "source": [
    "...within a `try` statement that knows how to look for the types of error that can occur,"
   ]
  },
  {
   "cell_type": "code",
   "execution_count": null,
   "metadata": {},
   "outputs": [],
   "source": [
    "except (SyntaxError, TypeError, ValueError, ZeroDivisionError) as err:"
   ]
  },
  {
   "cell_type": "markdown",
   "metadata": {},
   "source": [
    "...and just prints those errors,"
   ]
  },
  {
   "cell_type": "code",
   "execution_count": null,
   "metadata": {},
   "outputs": [],
   "source": [
    "print(type(err).__name__ + ':', err)"
   ]
  },
  {
   "cell_type": "markdown",
   "metadata": {},
   "source": [
    "Since all of the above are embedded within a `while` statement, we'll go back and try again. \n",
    "\n",
    "The only way to stop is reach the \"End of the File\" (`EOFE`) or `KeyboardInterrupt`,"
   ]
  },
  {
   "cell_type": "code",
   "execution_count": null,
   "metadata": {},
   "outputs": [],
   "source": [
    "except (KeyboardInterrupt, EOFError):  # <Control>-D, etc."
   ]
  },
  {
   "cell_type": "markdown",
   "metadata": {},
   "source": [
    "At which it will print,"
   ]
  },
  {
   "cell_type": "code",
   "execution_count": null,
   "metadata": {},
   "outputs": [],
   "source": [
    "print('Calculation completed.')"
   ]
  }
 ],
 "metadata": {
  "kernelspec": {
   "display_name": "Python 3",
   "language": "python",
   "name": "python3"
  },
  "language_info": {
   "codemirror_mode": {
    "name": "ipython",
    "version": 3
   },
   "file_extension": ".py",
   "mimetype": "text/x-python",
   "name": "python",
   "nbconvert_exporter": "python",
   "pygments_lexer": "ipython3",
   "version": "3.6.8"
  }
 },
 "nbformat": 4,
 "nbformat_minor": 2
}
