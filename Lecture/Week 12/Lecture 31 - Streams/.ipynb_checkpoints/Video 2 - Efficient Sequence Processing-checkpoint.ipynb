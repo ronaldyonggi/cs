{
 "cells": [
  {
   "cell_type": "markdown",
   "metadata": {},
   "source": [
    "#### Writer Note:\n",
    "\n",
    "Start the lecture with Python kernel. At a certain point it will be required to switch to Scheme kernel."
   ]
  },
  {
   "cell_type": "markdown",
   "metadata": {},
   "source": [
    "# Efficient Sequence Processing"
   ]
  },
  {
   "cell_type": "markdown",
   "metadata": {},
   "source": [
    "Many Python sequence manipulation built-in functions (e.g. `map`, `filter`, `sum`, `reduce`) take and return iterable objects. "
   ]
  },
  {
   "cell_type": "markdown",
   "metadata": {},
   "source": [
    "## Sequence Operations"
   ]
  },
  {
   "cell_type": "markdown",
   "metadata": {},
   "source": [
    "How convenient these sequence operations can be?\n",
    "\n",
    "`map`, `filter` and `reduce` express sequence manipulation using compact expressions.\n",
    "\n",
    "Example: Let's say we want to sum all the prime numbers in an interval from `a` (inclusive) to `b` (exclusive). And let's pretend that we already defined a function `is_prime` that determines whether a number is prime.\n",
    "\n",
    "Early in the course, we might have implemented `sum_primes` as the following,"
   ]
  },
  {
   "cell_type": "code",
   "execution_count": null,
   "metadata": {},
   "outputs": [],
   "source": [
    "def sum_primes(a, b):\n",
    "    total = 0\n",
    "    x = a\n",
    "    while x < b:\n",
    "        if is_prime(x):\n",
    "            total = total + x\n",
    "        x = x + 1\n",
    "    return total"
   ]
  },
  {
   "cell_type": "markdown",
   "metadata": {},
   "source": [
    "The space that's required to execute this function given an interval from `a` to `b` of size `n` is $\\Theta(1)$.\n",
    "* We only need to keep track of `total`, `x`, `a`, and `b` regardless of the size of the interval.\n",
    "\n",
    "Here's a more compact definition of the same function,"
   ]
  },
  {
   "cell_type": "code",
   "execution_count": null,
   "metadata": {},
   "outputs": [],
   "source": [
    "# Sum the result of filtering the range from a to b using the is_prime function\n",
    "def sum_primes(a, b):\n",
    "    return sum(filter(is_prime, range(a, b)))"
   ]
  },
  {
   "cell_type": "markdown",
   "metadata": {},
   "source": [
    "Now if we run the following,"
   ]
  },
  {
   "cell_type": "code",
   "execution_count": null,
   "metadata": {},
   "outputs": [],
   "source": [
    "sum_primes(1, 6)"
   ]
  },
  {
   "cell_type": "markdown",
   "metadata": {},
   "source": [
    "What would happen?\n",
    "\n",
    "The `range` is implicit. The `range` iterator that's extracted by `filter` only keeps track of what's next. It never explicitly represents all the numbers in the range, so it actually uses constant space."
   ]
  },
  {
   "cell_type": "markdown",
   "metadata": {},
   "source": [
    "<img src = 'range.jpg' width = 200/>"
   ]
  },
  {
   "cell_type": "markdown",
   "metadata": {},
   "source": [
    "The `filter` object that's created by calling `filter` remembers that `is_prime` is the filering function and remembers the source or iterator input that's going to yield values."
   ]
  },
  {
   "cell_type": "markdown",
   "metadata": {},
   "source": [
    "<img src = 'filter.jpg' width = 300>"
   ]
  },
  {
   "cell_type": "markdown",
   "metadata": {},
   "source": [
    "`sum` takes the source and keeps track of the total. "
   ]
  },
  {
   "cell_type": "markdown",
   "metadata": {},
   "source": [
    "<img src = 'sum.jpg' width = 300/>"
   ]
  },
  {
   "cell_type": "markdown",
   "metadata": {},
   "source": [
    "Now `1` is not prime, so `1` is not added to the total. The `range` iterator moves to the next element, which is 2."
   ]
  },
  {
   "cell_type": "markdown",
   "metadata": {},
   "source": [
    "<img src = '2.jpg' width = 300/>"
   ]
  },
  {
   "cell_type": "markdown",
   "metadata": {},
   "source": [
    "`2` is a prime number, so `2` is added to the total. The `range` iterator then moves to the next element, 3."
   ]
  },
  {
   "cell_type": "markdown",
   "metadata": {},
   "source": [
    "<img src = '3.jpg' width = 300/>"
   ]
  },
  {
   "cell_type": "markdown",
   "metadata": {},
   "source": [
    "`3` is a prime number, so `3` is added to the total. The `range` iterator moves to the next element, `4`."
   ]
  },
  {
   "cell_type": "markdown",
   "metadata": {},
   "source": [
    "<img src = '4.jpg' width = 300/>"
   ]
  },
  {
   "cell_type": "markdown",
   "metadata": {},
   "source": [
    "And the process repeats until we finish processing the last element before `end`, which is `5`. `6` is not included in the process."
   ]
  },
  {
   "cell_type": "markdown",
   "metadata": {},
   "source": [
    "<img src = 'finish.jpg' width = 300/>"
   ]
  },
  {
   "cell_type": "markdown",
   "metadata": {},
   "source": [
    "The space that's required to run this function is $\\Theta_1$!\n",
    "\n",
    "Even though we expressed the computation in terms of sequences, we've managed to keep our implementation down to constant space. This is only true because of the **lazy** implicit nature of `range` and `filter`. If either `range` has explicitly written out all the elements from `a` to `b`, or if `filter` has explicitly written out all of the remaining elements, we would have ended up using linear space. Thus, iterators are a convenient way to avoid that outcome. "
   ]
  },
  {
   "cell_type": "markdown",
   "metadata": {},
   "source": [
    "## Demo"
   ]
  },
  {
   "cell_type": "markdown",
   "metadata": {},
   "source": [
    "The `is_prime` function can also be considered a sequence operation. "
   ]
  },
  {
   "cell_type": "code",
   "execution_count": 1,
   "metadata": {},
   "outputs": [],
   "source": [
    "def is_prime(x):\n",
    "    if x <= 1: # if x is less than 1, then it's definitely not a prime\n",
    "        return False\n",
    "    # Check whether all of the elements that we receive when we map a function that divides x by y \n",
    "    # are True for everything in the range of 2 to x.\n",
    "    return all(map(lambda y: x % y, range(2, x)))"
   ]
  },
  {
   "cell_type": "markdown",
   "metadata": {},
   "source": [
    "The implementation of `sum_primes` is just returning the result of summing the result of filtering using `is_prime` in the range of `a` to `b`."
   ]
  },
  {
   "cell_type": "code",
   "execution_count": 2,
   "metadata": {},
   "outputs": [],
   "source": [
    "def sum_primes(a, b):\n",
    "    return sum(filter(is_prime, range(a, b)))"
   ]
  },
  {
   "cell_type": "code",
   "execution_count": 3,
   "metadata": {},
   "outputs": [
    {
     "data": {
      "text/plain": [
       "10"
      ]
     },
     "execution_count": 3,
     "metadata": {},
     "output_type": "execute_result"
    }
   ],
   "source": [
    "sum_primes(1, 6) # 2 + 3 + 5"
   ]
  },
  {
   "cell_type": "code",
   "execution_count": 4,
   "metadata": {},
   "outputs": [
    {
     "data": {
      "text/plain": [
       "17"
      ]
     },
     "execution_count": 4,
     "metadata": {},
     "output_type": "execute_result"
    }
   ],
   "source": [
    "sum_primes(1, 10) # 2 + 3 + 5 + 7"
   ]
  },
  {
   "cell_type": "code",
   "execution_count": 5,
   "metadata": {},
   "outputs": [
    {
     "data": {
      "text/plain": [
       "1060"
      ]
     },
     "execution_count": 5,
     "metadata": {},
     "output_type": "execute_result"
    }
   ],
   "source": [
    "sum_primes(1, 100)"
   ]
  },
  {
   "cell_type": "markdown",
   "metadata": {},
   "source": [
    "All of the above were computed in constant space. It doesn't matter how large the interval is, we will not run out of memory.\n",
    "\n",
    "Can we do the same in Scheme?\n",
    "\n",
    "We can certainly take the same sequence processing approach using the tools we already have and the built-in `list` data structure."
   ]
  },
  {
   "cell_type": "markdown",
   "metadata": {},
   "source": [
    "#### Writer Note: Switch to Scheme kernel!"
   ]
  },
  {
   "cell_type": "markdown",
   "metadata": {},
   "source": [
    "Below are the sequence operations implemented in Scheme. `map` applies some function `f` to every element in `s`."
   ]
  },
  {
   "cell_type": "code",
   "execution_count": 25,
   "metadata": {},
   "outputs": [],
   "source": [
    "(define false #f)"
   ]
  },
  {
   "cell_type": "code",
   "execution_count": 26,
   "metadata": {},
   "outputs": [],
   "source": [
    "(define nil ())"
   ]
  },
  {
   "cell_type": "code",
   "execution_count": 27,
   "metadata": {},
   "outputs": [],
   "source": [
    "(define (map f s)\n",
    "  (if (null? s)\n",
    "      nil\n",
    "      (cons (f (car s))\n",
    "            (map f\n",
    "                 (cdr s)))))"
   ]
  },
  {
   "cell_type": "markdown",
   "metadata": {},
   "source": [
    "`filter` keeps the elements in `s` for which `f` is `True`."
   ]
  },
  {
   "cell_type": "code",
   "execution_count": 28,
   "metadata": {},
   "outputs": [],
   "source": [
    "(define (filter f s)\n",
    "  (if (null? s)\n",
    "      nil\n",
    "      (if (f (car s))\n",
    "          (cons (car s)\n",
    "                (filter f (cdr s)))\n",
    "          (filter f (cdr s)))))"
   ]
  },
  {
   "cell_type": "markdown",
   "metadata": {},
   "source": [
    "`reduce` combines the elements in `s` using a 2-argument function `f` starting with the `start` value."
   ]
  },
  {
   "cell_type": "code",
   "execution_count": 29,
   "metadata": {},
   "outputs": [],
   "source": [
    "(define (reduce f s start)\n",
    "  (if (null? s)\n",
    "      start\n",
    "      (reduce f\n",
    "              (cdr s)\n",
    "              (f start (car s)))))"
   ]
  },
  {
   "cell_type": "markdown",
   "metadata": {},
   "source": [
    "For `range` and `sum`, we have to define them ourselves."
   ]
  },
  {
   "cell_type": "code",
   "execution_count": 30,
   "metadata": {},
   "outputs": [],
   "source": [
    "(define (range a b) ; a range is a list\n",
    "  (if (>= a b)\n",
    "      nil ; nil if a is greater or equal to b\n",
    "      (cons a (range (+ a 1) b)))) ; starts with a, followed by a range from a+1 to b"
   ]
  },
  {
   "cell_type": "code",
   "execution_count": 31,
   "metadata": {},
   "outputs": [],
   "source": [
    "(define (sum s) ; if we want to sum up all the elements in the sequence s\n",
    "  (reduce + s 0)) ; then just reduce all of the elements in s using addition"
   ]
  },
  {
   "cell_type": "code",
   "execution_count": 32,
   "metadata": {},
   "outputs": [],
   "source": [
    "(define (prime? x) ; whether x is a prime or not\n",
    "  (if (<= x 1) ; if x is less than or equal to 1\n",
    "      false ; then it's not a prime\n",
    "      ; otherwise, filter using a predicate that checks whether x is divisible by some y for every\n",
    "      ; y from 2 up to (but not including) x. If it's empty, it's prime.\n",
    "      (null? (filter (lambda (y) (= 0 (remainder x y)))\n",
    "                     (range 2 x)))))"
   ]
  },
  {
   "cell_type": "markdown",
   "metadata": {},
   "source": [
    "Summing `primes` is straightforward. The sum of the primes from `a` to `b` is the sum of filtering using `prime?` the `range` from `a` to `b`."
   ]
  },
  {
   "cell_type": "code",
   "execution_count": 33,
   "metadata": {},
   "outputs": [],
   "source": [
    "(define (sum-primes a b)\n",
    "  (sum (filter prime? (range a b))))"
   ]
  },
  {
   "cell_type": "code",
   "execution_count": 34,
   "metadata": {},
   "outputs": [
    {
     "data": {
      "text/plain": [
       "10"
      ]
     },
     "execution_count": 34,
     "metadata": {},
     "output_type": "execute_result"
    }
   ],
   "source": [
    "(sum-primes 1 6)"
   ]
  },
  {
   "cell_type": "code",
   "execution_count": 35,
   "metadata": {},
   "outputs": [
    {
     "data": {
      "text/plain": [
       "17"
      ]
     },
     "execution_count": 35,
     "metadata": {},
     "output_type": "execute_result"
    }
   ],
   "source": [
    "(sum-primes 1 10)"
   ]
  },
  {
   "cell_type": "code",
   "execution_count": null,
   "metadata": {},
   "outputs": [],
   "source": []
  }
 ],
 "metadata": {
  "kernelspec": {
   "display_name": "Calysto Scheme 3",
   "language": "scheme",
   "name": "calysto_scheme"
  },
  "language_info": {
   "codemirror_mode": {
    "name": "scheme"
   },
   "mimetype": "text/x-scheme",
   "name": "scheme",
   "pygments_lexer": "scheme"
  }
 },
 "nbformat": 4,
 "nbformat_minor": 2
}
