{
 "cells": [
  {
   "cell_type": "code",
   "execution_count": 1,
   "metadata": {},
   "outputs": [
    {
     "data": {
      "text/plain": [
       "'Connected: @None'"
      ]
     },
     "execution_count": 1,
     "metadata": {},
     "output_type": "execute_result"
    }
   ],
   "source": [
    "%load_ext sql\n",
    "%sql sqlite://"
   ]
  },
  {
   "cell_type": "markdown",
   "metadata": {},
   "source": [
    "# Arithmetic"
   ]
  },
  {
   "cell_type": "markdown",
   "metadata": {},
   "source": [
    "`select` statement can perform arithmetic."
   ]
  },
  {
   "cell_type": "markdown",
   "metadata": {},
   "source": [
    "## Arithmetic in Select Expressions"
   ]
  },
  {
   "cell_type": "markdown",
   "metadata": {},
   "source": [
    "In a select expression, column names evaluate to row values. Arithmetic expressions can combine row values and constants together to create new values. \n",
    "\n",
    "Here is an example based on chairlifts in ski resorts. \n",
    "\n",
    "Every `lift` chair has a `number`.\n",
    "\n",
    "It also has the number of `single` riders and `couple` riders. "
   ]
  },
  {
   "cell_type": "code",
   "execution_count": 2,
   "metadata": {},
   "outputs": [
    {
     "name": "stdout",
     "output_type": "stream",
     "text": [
      " * sqlite://\n",
      "Done.\n"
     ]
    },
    {
     "data": {
      "text/plain": [
       "[]"
      ]
     },
     "execution_count": 2,
     "metadata": {},
     "output_type": "execute_result"
    }
   ],
   "source": [
    "%%sql\n",
    "\n",
    "create table lift as\n",
    "    select 101 as chair, 2 as single, 2 as couple union\n",
    "    select 102         , 0          , 3           union\n",
    "    select 103         , 4          , 1;"
   ]
  },
  {
   "cell_type": "markdown",
   "metadata": {},
   "source": [
    "Let's say we want to see the total number of people on each chair. We can write the following,"
   ]
  },
  {
   "cell_type": "code",
   "execution_count": 3,
   "metadata": {},
   "outputs": [
    {
     "name": "stdout",
     "output_type": "stream",
     "text": [
      " * sqlite://\n",
      "Done.\n"
     ]
    },
    {
     "data": {
      "text/html": [
       "<table>\n",
       "    <tr>\n",
       "        <th>chair</th>\n",
       "        <th>total</th>\n",
       "    </tr>\n",
       "    <tr>\n",
       "        <td>101</td>\n",
       "        <td>6</td>\n",
       "    </tr>\n",
       "    <tr>\n",
       "        <td>102</td>\n",
       "        <td>6</td>\n",
       "    </tr>\n",
       "    <tr>\n",
       "        <td>103</td>\n",
       "        <td>6</td>\n",
       "    </tr>\n",
       "</table>"
      ],
      "text/plain": [
       "[(101, 6), (102, 6), (103, 6)]"
      ]
     },
     "execution_count": 3,
     "metadata": {},
     "output_type": "execute_result"
    }
   ],
   "source": [
    "%%sql\n",
    "select chair, single + 2 * couple as total from lift;"
   ]
  },
  {
   "cell_type": "markdown",
   "metadata": {},
   "source": [
    "## Discussion Question"
   ]
  },
  {
   "cell_type": "markdown",
   "metadata": {},
   "source": [
    "Given the table `ints` that describes how to sum powers of 2 to form various integers, "
   ]
  },
  {
   "cell_type": "code",
   "execution_count": 13,
   "metadata": {},
   "outputs": [
    {
     "name": "stdout",
     "output_type": "stream",
     "text": [
      " * sqlite://\n",
      "(sqlite3.OperationalError) table ints already exists\n",
      "[SQL: create table ints as\n",
      "    select \"zero\" as word, 0 as one, 0 as two, 0 as four, 0 as eight union\n",
      "    select \"one\", 1, 0, 0, 0 union\n",
      "    select \"two\", 0, 2, 0, 0 union\n",
      "    select \"three\", 1, 2, 0, 0 union\n",
      "    select \"four\", 0, 0, 4, 0 union\n",
      "    select \"five\", 1, 0, 4, 0 union\n",
      "    select \"six\", 0, 2, 4, 0 union\n",
      "    select \"seven\", 1, 2, 4, 0 union\n",
      "    select \"eight\", 0, 0, 0, 8 union\n",
      "    select \"nine\", 1, 0, 0, 8;]\n",
      "(Background on this error at: http://sqlalche.me/e/e3q8)\n"
     ]
    }
   ],
   "source": [
    "%%sql\n",
    "create table ints as\n",
    "    select \"zero\" as word, 0 as one, 0 as two, 0 as four, 0 as eight union\n",
    "    select \"one\", 1, 0, 0, 0 union\n",
    "    select \"two\", 0, 2, 0, 0 union\n",
    "    select \"three\", 1, 2, 0, 0 union\n",
    "    select \"four\", 0, 0, 4, 0 union\n",
    "    select \"five\", 1, 0, 4, 0 union\n",
    "    select \"six\", 0, 2, 4, 0 union\n",
    "    select \"seven\", 1, 2, 4, 0 union\n",
    "    select \"eight\", 0, 0, 0, 8 union\n",
    "    select \"nine\", 1, 0, 0, 8;"
   ]
  },
  {
   "cell_type": "markdown",
   "metadata": {},
   "source": [
    "From the table above, we see that each positive integer can be expressed as a sum of powers of 2. On top of that, there's only one way to do so for each integer. For example, we can make `\"seven\"` by adding `1 + 2 + 4`. "
   ]
  },
  {
   "cell_type": "markdown",
   "metadata": {},
   "source": [
    "#### A) Write a select statement for a two-column table of the `word` and `value` for each integer"
   ]
  },
  {
   "cell_type": "markdown",
   "metadata": {},
   "source": [
    "The output should look like the following,\n",
    "\n",
    "<img src = 'a.png' width = 400/>"
   ]
  },
  {
   "cell_type": "code",
   "execution_count": 14,
   "metadata": {},
   "outputs": [
    {
     "name": "stdout",
     "output_type": "stream",
     "text": [
      " * sqlite://\n",
      "Done.\n"
     ]
    },
    {
     "data": {
      "text/html": [
       "<table>\n",
       "    <tr>\n",
       "        <th>word</th>\n",
       "        <th>value</th>\n",
       "    </tr>\n",
       "    <tr>\n",
       "        <td>zero</td>\n",
       "        <td>0</td>\n",
       "    </tr>\n",
       "    <tr>\n",
       "        <td>one</td>\n",
       "        <td>1</td>\n",
       "    </tr>\n",
       "    <tr>\n",
       "        <td>two</td>\n",
       "        <td>1</td>\n",
       "    </tr>\n",
       "    <tr>\n",
       "        <td>three</td>\n",
       "        <td>3</td>\n",
       "    </tr>\n",
       "    <tr>\n",
       "        <td>four</td>\n",
       "        <td>4</td>\n",
       "    </tr>\n",
       "    <tr>\n",
       "        <td>five</td>\n",
       "        <td>5</td>\n",
       "    </tr>\n",
       "    <tr>\n",
       "        <td>six</td>\n",
       "        <td>6</td>\n",
       "    </tr>\n",
       "    <tr>\n",
       "        <td>seven</td>\n",
       "        <td>7</td>\n",
       "    </tr>\n",
       "    <tr>\n",
       "        <td>eight</td>\n",
       "        <td>8</td>\n",
       "    </tr>\n",
       "    <tr>\n",
       "        <td>nine</td>\n",
       "        <td>9</td>\n",
       "    </tr>\n",
       "</table>"
      ],
      "text/plain": [
       "[('zero', 0),\n",
       " ('one', 1),\n",
       " ('two', 1),\n",
       " ('three', 3),\n",
       " ('four', 4),\n",
       " ('five', 5),\n",
       " ('six', 6),\n",
       " ('seven', 7),\n",
       " ('eight', 8),\n",
       " ('nine', 9)]"
      ]
     },
     "execution_count": 14,
     "metadata": {},
     "output_type": "execute_result"
    }
   ],
   "source": [
    "%%sql\n",
    "select word, one + two + four + eight as value from ints order by value;"
   ]
  },
  {
   "cell_type": "markdown",
   "metadata": {},
   "source": [
    "#### B) Write a select statement for the `word` names of the powers of two"
   ]
  },
  {
   "cell_type": "markdown",
   "metadata": {},
   "source": [
    "The output should look like the following,\n",
    "\n",
    "<img src = 'b.png' width = 150/>\n",
    "\n",
    "`5` and `7` are not included because they're not the powers of 2. "
   ]
  },
  {
   "cell_type": "code",
   "execution_count": null,
   "metadata": {},
   "outputs": [],
   "source": [
    "%% sql"
   ]
  }
 ],
 "metadata": {
  "kernelspec": {
   "display_name": "Python 3",
   "language": "python",
   "name": "python3"
  },
  "language_info": {
   "codemirror_mode": {
    "name": "ipython",
    "version": 3
   },
   "file_extension": ".py",
   "mimetype": "text/x-python",
   "name": "python",
   "nbconvert_exporter": "python",
   "pygments_lexer": "ipython3",
   "version": "3.7.3"
  }
 },
 "nbformat": 4,
 "nbformat_minor": 4
}
