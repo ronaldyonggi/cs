{
 "cells": [
  {
   "cell_type": "markdown",
   "metadata": {},
   "source": [
    "# Declarative Languages"
   ]
  },
  {
   "cell_type": "markdown",
   "metadata": {},
   "source": [
    "## Database Management Systems"
   ]
  },
  {
   "cell_type": "markdown",
   "metadata": {},
   "source": [
    "Database management systems (DBMS) are important, heavily used, and interesting! Systems in general is an area of research within computer science that works on things like operating systems and DBMS. These systems have huge deployment across many different companies for many different applications that hold data.\n",
    "\n",
    "Database is a collection of tables, and tables are where we put data. DBMS helps keep track of these tables, create new tables, delete tables, make updates, and any other operations that we want to apply to the data. \n",
    "\n",
    "A table is a collection of records, which are rows that have a value for each column. An example of a table is as the following,\n",
    "\n",
    "|Latitude | Longitude | Name |\n",
    "| --- | --- | --- |\n",
    "| 38 | 122 | Berkeley |"
   ]
  },
  {
   "cell_type": "code",
   "execution_count": null,
   "metadata": {},
   "outputs": [],
   "source": []
  }
 ],
 "metadata": {
  "kernelspec": {
   "display_name": "Python 3",
   "language": "python",
   "name": "python3"
  },
  "language_info": {
   "codemirror_mode": {
    "name": "ipython",
    "version": 3
   },
   "file_extension": ".py",
   "mimetype": "text/x-python",
   "name": "python",
   "nbconvert_exporter": "python",
   "pygments_lexer": "ipython3",
   "version": "3.7.3"
  }
 },
 "nbformat": 4,
 "nbformat_minor": 4
}
