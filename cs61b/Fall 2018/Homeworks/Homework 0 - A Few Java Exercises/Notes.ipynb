{
 "cells": [
  {
   "cell_type": "markdown",
   "metadata": {},
   "source": [
    "# C. 3SUM\n",
    "\n",
    "**Sort the array beforehand!**\n",
    "\n",
    "The idea is to have 2 additional pointers on top of the `for i` loop iteration.\n",
    "\n",
    "1. Pointer `j` starts at the same position as `i`, going to the right\n",
    "2. Pointer `k` starts at the last element of the array, going to the left"
   ]
  },
  {
   "cell_type": "code",
   "execution_count": null,
   "metadata": {},
   "outputs": [],
   "source": [
    "[-9, -7, -4, 1, 3, 6, 7]\n",
    "i,j                   k"
   ]
  },
  {
   "cell_type": "code",
   "execution_count": null,
   "metadata": {},
   "outputs": [],
   "source": [
    "for (int i = 0; i < array.length; i++){\n",
    "    int j = i;\n",
    "    int k = array.length - 1;\n",
    "}"
   ]
  },
  {
   "cell_type": "markdown",
   "metadata": {},
   "source": [
    "Within this `for` loop, we create a `while` loop that runs as long as `j` is is still less than or equal to `k`.\n",
    "\n",
    "Within the `while` loop, we calculate the `sum` of the elements pointed by `i, j` and `k`. \n",
    "1. If the `sum` is `0`, then return `true`\n",
    "2. If the `sum` is less than `0`, then move `j` to the right\n",
    "3. If the `sum` is greater than `0`, then move `k` to the left."
   ]
  },
  {
   "cell_type": "code",
   "execution_count": null,
   "metadata": {},
   "outputs": [],
   "source": [
    "[-9, -7, -4, 3, 6, 7]\n",
    "i,j                k\n",
    "\n",
    "// Sum < 0, move j to the right\n",
    "\n",
    "[-9, -7, -4, 3, 6, 7]\n",
    "  i   j            k\n",
    "  \n",
    "// Sum < 0, move j to the right\n",
    "\n",
    "[-9, -7, -4, 3, 6, 7]\n",
    "  i       j        k\n",
    "  \n",
    "// Sum < 0, move j to the right\n",
    "\n",
    "[-9, -7, -4, 3, 6, 7]\n",
    "  i          j     k\n",
    "  \n",
    "// Sum > 0, move k to the left\n",
    "\n",
    "[-9, -7, -4, 3, 6, 7]\n",
    "  i          j  k\n",
    "  \n",
    "// Sum = 0, return true"
   ]
  },
  {
   "cell_type": "code",
   "execution_count": null,
   "metadata": {},
   "outputs": [],
   "source": [
    "while (j <= k){\n",
    "    int sum = array[i] + array[j] + array[k];\n",
    "    if (sum == 0) return true;\n",
    "    else if (sum < 0) j++;\n",
    "    else if (sum > 0) k--;\n",
    "}"
   ]
  },
  {
   "cell_type": "markdown",
   "metadata": {},
   "source": [
    "Otherwise, return `false`. The complete implementation is as the following,"
   ]
  },
  {
   "cell_type": "code",
   "execution_count": null,
   "metadata": {},
   "outputs": [],
   "source": [
    "public boolean threeSum(int[] array){\n",
    "    /** Sort the array first */\n",
    "    Arrays.sort(array);\n",
    "    /**\n",
    "     * Have 2 additional pointers j and k. j starts at the same position as\n",
    "     * i, while k starts from the last element of the array.\n",
    "     */\n",
    "    for (int i = 0; i < array.length; i++){\n",
    "        int j = i;\n",
    "        int k = array.length - 1;\n",
    "        while (j <= k){\n",
    "            int sum = array[i] + array[j] + array[k];\n",
    "            if (sum == 0) return true;\n",
    "            else if (sum < 0) j++;\n",
    "            else if (sum > 0) k--;\n",
    "        }\n",
    "    }\n",
    "    return false;\n",
    "}\n"
   ]
  },
  {
   "cell_type": "markdown",
   "metadata": {},
   "source": [
    "# D. 3SUM_DISTINCT\n",
    "\n",
    "**Sort the array beforehand!**\n",
    "\n",
    "Similar to `3SUM`, the only differences are that the pointers can't overlap. \n",
    "1. `j` starts at `i+1` instead of `i`\n",
    "2. The `while` loop condition is `j < k`\n",
    "3. The `i` loop runs until 2 elements before the last element of the array since we need at least 3 elements to operate the algorithm."
   ]
  }
 ],
 "metadata": {
  "kernelspec": {
   "display_name": "Java",
   "language": "java",
   "name": "java"
  },
  "language_info": {
   "codemirror_mode": "java",
   "file_extension": ".jshell",
   "mimetype": "text/x-java-source",
   "name": "Java",
   "pygments_lexer": "java",
   "version": "11.0.5+10-post-Ubuntu-0ubuntu1.118.04"
  }
 },
 "nbformat": 4,
 "nbformat_minor": 4
}
