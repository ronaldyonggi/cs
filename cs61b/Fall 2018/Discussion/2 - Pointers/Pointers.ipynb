{
 "cells": [
  {
   "cell_type": "markdown",
   "metadata": {},
   "source": [
    "# 1. Boxes and Pointers"
   ]
  },
  {
   "cell_type": "code",
   "execution_count": null,
   "metadata": {},
   "outputs": [],
   "source": [
    "IntList L = Intlist.list(1, 2, 3, 4);\n",
    "/* \n",
    "'L' is now pointing to an IntList containing 1 -> 2 -> 3 -> 4\n",
    "*/\n",
    "\n",
    "IntList M  = L.tail.tail;\n",
    "/*\n",
    "M is now pointing to an IntList containing 3 -> 4\n",
    "*/\n",
    "\n",
    "IntList N = IntList.list(5, 6, 7);\n",
    "/*\n",
    "N is now pointing to an IntList containing 5 -> 6 -> 7\n",
    "*/\n",
    "\n",
    "N.tail.tail.tail = N;\n",
    "/*\n",
    "N.tail.tail.tail is initally null (there's nothing else\n",
    "after 7!). With this statement, N is an infinite loop\n",
    "of 5 -> 6 -> 7 -> 5 -> 6 -> 7 -> 5 -> ...\n",
    "*/\n",
    "\n",
    "L.tail.tail = N.tail.tail.tail.tail;\n",
    "/*\n",
    "N.tail.tail.tail.tail is 6 -> 7 -> 5 -> 6 -> 7 -> ...\n",
    "With this statement, L is now 1 -> 2 -> 6 -> 7 -> 5 -> \n",
    "6 -> 7 -> 5 -> ...\n",
    "*/\n",
    "\n",
    "M.tail.tail = L;\n",
    "/*\n",
    "Recall M is pointing at L.tail.tail, which is the first occurence\n",
    "of 6. Now M becomes 1 -> 2 -> 6 -> 7 -> 1 -> 2 -> 6 -> 7\n",
    "\n",
    "The 1 in M is the second occurence of 1. L has the original \n",
    "set containing the first occurence of 1 -> 2 -> 6 -> 7.\n",
    "*/"
   ]
  },
  {
   "cell_type": "markdown",
   "metadata": {},
   "source": [
    "# 2. Reverse"
   ]
  },
  {
   "cell_type": "code",
   "execution_count": null,
   "metadata": {},
   "outputs": [],
   "source": [
    "public static IntList reverseNondestructive(IntList L) {\n",
    "    IntList pointer = L;\n",
    "    IntList result = new IntList(pointer.head, null);\n",
    "    /* The pointer goes through the original IntList L */\n",
    "    while (pointer.tail != null){\n",
    "        pointer = pointer.tail;\n",
    "        /* The key is to continuously update the 'result'\n",
    "        IntList with a new IntList where the previous 'result'\n",
    "        becomes the tail of the IntList */\n",
    "        result = new IntList(pointer.head, result);\n",
    "    }\n",
    "    return result; \n",
    "}"
   ]
  },
  {
   "cell_type": "markdown",
   "metadata": {},
   "source": [
    "# 3. Insertion"
   ]
  },
  {
   "cell_type": "code",
   "execution_count": null,
   "metadata": {},
   "outputs": [],
   "source": [
    "public static IntList insert(IntList L, int item, int position){\n",
    "    /* If we reach the end of L, simply add 'item' at the end */\n",
    "    if (L.tail == null) L.tail = new IntList(item, null)\n",
    "    /* If position is 0, simply update 'L' with a new IntList\n",
    "    where the previous 'L' becomes the tail and 'item' becomes\n",
    "    the head */\n",
    "    else if (position == 0) L = new IntList(item, L);\n",
    "    /* While position is greater than 0, shift the pointer\n",
    "    with recursive 'insert' call where the position is decremented\n",
    "    for every call */\n",
    "    else L.tail = insert(L.tail, item, position - 1);\n",
    "    return L;\n",
    "}"
   ]
  },
  {
   "cell_type": "markdown",
   "metadata": {},
   "source": [
    "# 4. Extra - Shifting a Linked List"
   ]
  },
  {
   "cell_type": "code",
   "execution_count": null,
   "metadata": {},
   "outputs": [],
   "source": [
    "static IntList shiftListDestructive(IntList L){\n",
    "    /* In the beginning, save the first element to a variable */\n",
    "    int end = L.head;\n",
    "    /* Then shift L by 1 element */\n",
    "    L = L.tail;\n",
    "    /* Then go to the end of L and simply add the saved\n",
    "    first element at the end of L */\n",
    "    IntList pointer = L;\n",
    "    while (pointer.tail != null) pointer = pointer.tail;\n",
    "    pointer.tail = new IntList(end, null);\n",
    "    return L;\n",
    "}\n"
   ]
  }
 ],
 "metadata": {
  "kernelspec": {
   "display_name": "Java",
   "language": "java",
   "name": "java"
  },
  "language_info": {
   "codemirror_mode": "java",
   "file_extension": ".jshell",
   "mimetype": "text/x-java-source",
   "name": "Java",
   "pygments_lexer": "java",
   "version": "11.0.6+10-post-Ubuntu-1ubuntu118.04.1"
  }
 },
 "nbformat": 4,
 "nbformat_minor": 4
}
