{
 "cells": [
  {
   "cell_type": "markdown",
   "metadata": {},
   "source": [
    "# 1. Creating Cats"
   ]
  },
  {
   "cell_type": "code",
   "execution_count": 1,
   "metadata": {},
   "outputs": [],
   "source": [
    "public class Animal {\n",
    "    protected String name, noise;\n",
    "    protected int age;\n",
    "    \n",
    "    /** Animal constructor */\n",
    "    public Animal(String name, int age){\n",
    "        this.name = name;\n",
    "        this.age = age;\n",
    "        this.noise = \"Huh?\";\n",
    "    }\n",
    "    \n",
    "    public String makeNoise() {\n",
    "        if (age<2) return noise.toUpperCase();\n",
    "        return noise;\n",
    "    }\n",
    "    \n",
    "    public String greet(){\n",
    "        return name + \": \" + makeNoise();\n",
    "    }\n",
    "}\n",
    "\n",
    "class Cat extends Animal{\n",
    "    public Cat(String name, int age){\n",
    "        /** Use 'super''s constructor */\n",
    "        super(name, age);\n",
    "        /** Then change the noise to Meow! */\n",
    "        noise = \"Meow!\";\n",
    "    }\n",
    "}"
   ]
  },
  {
   "cell_type": "code",
   "execution_count": 2,
   "metadata": {},
   "outputs": [
    {
     "data": {
      "text/plain": [
       "Catherine: MEOW!"
      ]
     },
     "execution_count": 2,
     "metadata": {},
     "output_type": "execute_result"
    }
   ],
   "source": [
    "Cat x = new Cat(\"Catherine\", 1);\n",
    "x.greet();"
   ]
  },
  {
   "cell_type": "markdown",
   "metadata": {},
   "source": [
    "# 2. Impala-ments\n",
    "\n",
    "## (a)"
   ]
  },
  {
   "cell_type": "code",
   "execution_count": 7,
   "metadata": {},
   "outputs": [],
   "source": [
    "interface BigBaller{\n",
    "    void ball();\n",
    "}\n",
    "\n",
    "interface ShotCaller {\n",
    "    void callShots();\n",
    "}\n",
    "\n",
    "public class LilTroy implements BigBaller, ShotCaller{\n",
    "    public void ball(){\n",
    "        System.out.println(\"Wanna be a, baller\");\n",
    "    }\n",
    "    \n",
    "    public void callShots() {\n",
    "        System.out.println(\"Shot caller\");\n",
    "    }\n",
    "    \n",
    "    public void rap() {\n",
    "        System.out.println(\"Say: Twenty inch blades on the Impala\");\n",
    "    }\n",
    "}"
   ]
  },
  {
   "cell_type": "markdown",
   "metadata": {},
   "source": [
    "## (b)"
   ]
  },
  {
   "cell_type": "code",
   "execution_count": null,
   "metadata": {},
   "outputs": [],
   "source": [
    "public class BallCourt{\n",
    "    public void play(BigBaller b){\n",
    "        b.ball();\n",
    "    }\n",
    "}"
   ]
  },
  {
   "cell_type": "markdown",
   "metadata": {},
   "source": [
    "## (c)\n",
    "\n",
    "No, the class won't compile. If a class includes `abstract` methods, the class itself must be declared `abstract`."
   ]
  },
  {
   "cell_type": "code",
   "execution_count": 4,
   "metadata": {},
   "outputs": [],
   "source": [
    "/** Fixed Version */\n",
    "abstract class Rapper{\n",
    "    public abstract String getLine();\n",
    "    public final void rap(){\n",
    "        System.out.println(\"Say: \" + getLine());\n",
    "    }\n",
    "}"
   ]
  },
  {
   "cell_type": "markdown",
   "metadata": {},
   "source": [
    "## (d)"
   ]
  },
  {
   "cell_type": "code",
   "execution_count": null,
   "metadata": {},
   "outputs": [],
   "source": [
    "public class LilTroy extends Rapper implements BigBaller, ShotCaller {\n",
    "    @Override\n",
    "    public void ball(){\n",
    "        System.out.println(\"Wanna be a, baller\");\n",
    "    }\n",
    "    \n",
    "    @Override\n",
    "    public void callShots() {\n",
    "        System.out.println(\"Shot caller\");\n",
    "    }\n",
    "    \n",
    "    @Override\n",
    "    public String getLine(){\n",
    "        System.out.println(\"Say: Twenty inch blades on the Impala\");\n",
    "    }\n",
    "}"
   ]
  },
  {
   "cell_type": "markdown",
   "metadata": {},
   "source": [
    "# 3. Raining Cats & Dogs"
   ]
  },
  {
   "cell_type": "code",
   "execution_count": 3,
   "metadata": {},
   "outputs": [],
   "source": [
    "class Dog extends Animal {\n",
    "    public Dog(String name, int age) {\n",
    "        super(name, age);\n",
    "        noise = \"Woof!\";\n",
    "    }\n",
    "    \n",
    "    public void playFetch() {\n",
    "        System.out.println(\"Fetch, \" + name + \"!\");\n",
    "    }\n",
    "}"
   ]
  },
  {
   "cell_type": "code",
   "execution_count": 4,
   "metadata": {},
   "outputs": [
    {
     "ename": "CompilationException",
     "evalue": "",
     "output_type": "error",
     "traceback": [
      "\u001b[1m\u001b[30m|   \u001b[1m\u001b[30mCat nyan = \u001b[0m\u001b[1m\u001b[30m\u001b[41mnew Animal(\"Nyan Cat\", 5)\u001b[0m\u001b[1m\u001b[30m;\u001b[0m",
      "\u001b[1m\u001b[31mincompatible types: Animal cannot be converted to Cat\u001b[0m",
      ""
     ]
    }
   ],
   "source": [
    "Cat nyan = new Animal(\"Nyan Cat\", 5);\n",
    "/* ERROR! Can't assign a superclass to a subclass instance without casting */"
   ]
  },
  {
   "cell_type": "code",
   "execution_count": 6,
   "metadata": {},
   "outputs": [],
   "source": [
    "Animal a = new Cat(\"Olivia Benson\", 3);\n",
    "/* Create a Cat instance and assign it to an Animal. \n",
    "Static type is Animal, Dynamic type is Cat*/"
   ]
  },
  {
   "cell_type": "code",
   "execution_count": 9,
   "metadata": {},
   "outputs": [],
   "source": [
    "a = new Dog(\"Fido\", 7);\n",
    "/* Now a's dynamic type is a Dog*/"
   ]
  },
  {
   "cell_type": "code",
   "execution_count": 10,
   "metadata": {},
   "outputs": [
    {
     "name": "stdout",
     "output_type": "stream",
     "text": [
      "Fido: Woof!\n"
     ]
    }
   ],
   "source": [
    "System.out.println(a.greet());\n",
    "/*\n",
    "Since a's Dynamic type is a Dog, use Dog's greet() method. \n",
    "Prints: \"Fido: Woof!\"\n",
    "Then prints nothing (prints the return value of the greet method)\n",
    "*/"
   ]
  },
  {
   "cell_type": "code",
   "execution_count": 12,
   "metadata": {},
   "outputs": [
    {
     "ename": "CompilationException",
     "evalue": "",
     "output_type": "error",
     "traceback": [
      "\u001b[1m\u001b[30m|   \u001b[1m\u001b[30m\u001b[0m\u001b[1m\u001b[30m\u001b[41ma.playFetch\u001b[0m\u001b[1m\u001b[30m();\u001b[0m",
      "\u001b[1m\u001b[31mcannot find symbol\u001b[0m",
      "\u001b[1m\u001b[31m  symbol:   method playFetch()\u001b[0m",
      ""
     ]
    }
   ],
   "source": [
    "a.playFetch();\n",
    "/* \n",
    "ERROR! a's static type is an Animal, and it doesn't have\n",
    "a playFetch method!\n",
    "*/"
   ]
  },
  {
   "cell_type": "code",
   "execution_count": 13,
   "metadata": {},
   "outputs": [
    {
     "ename": "CompilationException",
     "evalue": "",
     "output_type": "error",
     "traceback": [
      "\u001b[1m\u001b[30m|   \u001b[1m\u001b[30mDog d1 = \u001b[0m\u001b[1m\u001b[30m\u001b[41ma\u001b[0m\u001b[1m\u001b[30m;\u001b[0m",
      "\u001b[1m\u001b[31mincompatible types: Animal cannot be converted to Dog\u001b[0m",
      ""
     ]
    }
   ],
   "source": [
    "Dog d1 = a;\n",
    "/*\n",
    "ERROR! a's static type is Animal, so we can't assign an Animal\n",
    "to a Dog instance.\n",
    "Error message: \"incompatible types: Animal cannot be \n",
    "converted to Dog\"\n",
    "*/"
   ]
  },
  {
   "cell_type": "code",
   "execution_count": 14,
   "metadata": {},
   "outputs": [],
   "source": [
    "Dog d2 = (Dog) a;\n",
    "/* Use casting to force convert a's static type from Animal to\n",
    "Dog, then assign it to d2 */"
   ]
  },
  {
   "cell_type": "code",
   "execution_count": 16,
   "metadata": {},
   "outputs": [
    {
     "name": "stdout",
     "output_type": "stream",
     "text": [
      "Fetch, Fido!\n"
     ]
    }
   ],
   "source": [
    "d2.playFetch();\n",
    "/* Recall a's Dynamic type is Dog, so now both d2's static and dynamic\n",
    "type is Dog. \n",
    "Prints \"Fetch, Fido!\"\n",
    "*/"
   ]
  },
  {
   "cell_type": "code",
   "execution_count": 18,
   "metadata": {},
   "outputs": [
    {
     "ename": "CompilationException",
     "evalue": "",
     "output_type": "error",
     "traceback": [
      "\u001b[1m\u001b[30m|   \u001b[1m\u001b[30m(Dog)\u001b[0m\u001b[1m\u001b[30m\u001b[41ma.playFetch\u001b[0m\u001b[1m\u001b[30m();\u001b[0m",
      "\u001b[1m\u001b[31mcannot find symbol\u001b[0m",
      "\u001b[1m\u001b[31m  symbol:   method playFetch()\u001b[0m",
      ""
     ]
    }
   ],
   "source": [
    "(Dog) a.playFetch();\n",
    "/* \n",
    "ERROR!\n",
    "Here even though we're using casting, we didn't assign the result\n",
    "to any variable. We are still calling a (Animal)'s playFetch\n",
    "method, which doesn't exist.\n",
    "*/"
   ]
  },
  {
   "cell_type": "code",
   "execution_count": 19,
   "metadata": {},
   "outputs": [],
   "source": [
    "Animal imposter = new Cat(\"Pedro\", 12);\n",
    "/*\n",
    "imposter's static type is Animal, dynamic type is Cat.\n",
    "*/"
   ]
  },
  {
   "cell_type": "code",
   "execution_count": 23,
   "metadata": {},
   "outputs": [
    {
     "ename": "EvalException",
     "evalue": "class REPL.$JShell$13$Cat cannot be cast to class REPL.$JShell$16$Dog (REPL.$JShell$13$Cat and REPL.$JShell$16$Dog are in unnamed module of loader jdk.jshell.execution.DefaultLoaderDelegate$RemoteClassLoader @7a9273a8)",
     "output_type": "error",
     "traceback": [
      "\u001b[1m\u001b[31m---------------------------------------------------------------------------\u001b[0m",
      "\u001b[1m\u001b[31mjava.lang.ClassCastException: class REPL.$JShell$13$Cat cannot be cast to class REPL.$JShell$16$Dog (REPL.$JShell$13$Cat and REPL.$JShell$16$Dog are in unnamed module of loader jdk.jshell.execution.DefaultLoaderDelegate$RemoteClassLoader @7a9273a8)\u001b[0m",
      "\u001b[1m\u001b[31m\tat .(#30:1)\u001b[0m"
     ]
    }
   ],
   "source": [
    "Dog fakeDog = (Dog) imposter;\n",
    "/*\n",
    "ERROR! \n",
    "We can't force convert a subclass to a different subclass.\n",
    "In this case, we can't force cast a dynamic type Cat to\n",
    "a static type Dog.\n",
    "*/"
   ]
  },
  {
   "cell_type": "code",
   "execution_count": 21,
   "metadata": {},
   "outputs": [],
   "source": [
    "Cat failImposter = new Cat(\"Jimmy\", 21);\n",
    "/* failImposter static type = Cat, dynamic type = Cat */"
   ]
  },
  {
   "cell_type": "code",
   "execution_count": 22,
   "metadata": {},
   "outputs": [
    {
     "ename": "CompilationException",
     "evalue": "",
     "output_type": "error",
     "traceback": [
      "\u001b[1m\u001b[30m|   \u001b[1m\u001b[30mDog failDog = (Dog) \u001b[0m\u001b[1m\u001b[30m\u001b[41mfailImposter\u001b[0m\u001b[1m\u001b[30m;\u001b[0m",
      "\u001b[1m\u001b[31mincompatible types: Cat cannot be converted to Dog\u001b[0m",
      ""
     ]
    }
   ],
   "source": [
    "Dog failDog = (Dog) failImposter;\n",
    "/* ERROR!\n",
    "Again, we can't force cast a dynamic type Cat to a \n",
    "static type Dog.\n",
    "*/"
   ]
  },
  {
   "cell_type": "markdown",
   "metadata": {},
   "source": [
    "# 4. Bonus: An Exercise in Inheritance Misery"
   ]
  },
  {
   "cell_type": "code",
   "execution_count": 51,
   "metadata": {},
   "outputs": [],
   "source": [
    "class A {\n",
    "    int x = 5;\n",
    "    public void m1() {System.out.println(\"Am1-> \" + x);}\n",
    "    public void m2() {System.out.println(\"Am2-> \" + this.x);}\n",
    "    public void update() {x = 99;}\n",
    "}"
   ]
  },
  {
   "cell_type": "code",
   "execution_count": 52,
   "metadata": {},
   "outputs": [],
   "source": [
    "class B extends A {\n",
    "    int x = 10;\n",
    "    public void m2() {System.out.println(\"Bm2-> \" + x);}\n",
    "    public void m3() {System.out.println(\"Bm3-> \" + super.x);}\n",
    "    public void m4() {\n",
    "        System.out.print(\"Bm4-> \");\n",
    "        super.m2();\n",
    "    }\n",
    "}"
   ]
  },
  {
   "cell_type": "code",
   "execution_count": 53,
   "metadata": {},
   "outputs": [],
   "source": [
    "class C extends B {\n",
    "    int y = x + 1;\n",
    "    public void m2() {System.out.println(\"Cm2-> \" + super.x);}\n",
    "//     public void m3() {System.out.println(\"Cm3-> \" + super.super.x);}\n",
    "    /* Line above gives COMPILE TIME ERROR!\n",
    "    The 'super' keyword doesn't have a 'super' attribute!*/\n",
    "    public void m4() {System.out.println(\"Cm4-> \" + y);}\n",
    "    public void m5() {System.out.println(\"Cm5-> \" + super.y);}\n",
    "}"
   ]
  },
  {
   "cell_type": "code",
   "execution_count": 43,
   "metadata": {},
   "outputs": [
    {
     "name": "stdout",
     "output_type": "stream",
     "text": [
      "5\n"
     ]
    }
   ],
   "source": [
    "A b0 = new B();\n",
    "System.out.println(b0.x);\n",
    "/* b0.x accesses b0's static type's 'x', which is 5 */"
   ]
  },
  {
   "cell_type": "code",
   "execution_count": 44,
   "metadata": {},
   "outputs": [
    {
     "name": "stdout",
     "output_type": "stream",
     "text": [
      "Am1-> 5\n"
     ]
    }
   ],
   "source": [
    "b0.m1();\n",
    "/* b0.m1 accesses b0's static type's 'x', which is 5. */\n",
    "// Prints \"Am1-> 5\""
   ]
  },
  {
   "cell_type": "code",
   "execution_count": 45,
   "metadata": {},
   "outputs": [
    {
     "name": "stdout",
     "output_type": "stream",
     "text": [
      "Bm2-> 10\n"
     ]
    }
   ],
   "source": [
    "b0.m2();\n",
    "/* Due to dynamic method selection, this call uses B's m2().\n",
    "This will return B's 'x', 10. */\n",
    "// Prints \"Bm2-> 10\""
   ]
  },
  {
   "cell_type": "code",
   "execution_count": 46,
   "metadata": {},
   "outputs": [
    {
     "ename": "CompilationException",
     "evalue": "",
     "output_type": "error",
     "traceback": [
      "\u001b[1m\u001b[30m|   \u001b[1m\u001b[30m\u001b[0m\u001b[1m\u001b[30m\u001b[41mb0.m3\u001b[0m\u001b[1m\u001b[30m();\u001b[0m",
      "\u001b[1m\u001b[31mcannot find symbol\u001b[0m",
      "\u001b[1m\u001b[31m  symbol:   method m3()\u001b[0m",
      ""
     ]
    }
   ],
   "source": [
    "b0.m3();\n",
    "/* RUNTIME ERROR!\n",
    "b0's static type is A, and class A doesn't have m3 method!\n",
    "*/"
   ]
  },
  {
   "cell_type": "code",
   "execution_count": 47,
   "metadata": {},
   "outputs": [
    {
     "name": "stdout",
     "output_type": "stream",
     "text": [
      "Bm3-> 5\n"
     ]
    }
   ],
   "source": [
    "B b1 = new B();\n",
    "b1.m3();\n",
    "/* B's 'super' is A. Thus, the m3() method gives A's 'x', 5.*/\n",
    "// Prints \"Bm3-> 5\""
   ]
  },
  {
   "cell_type": "code",
   "execution_count": 48,
   "metadata": {},
   "outputs": [
    {
     "name": "stdout",
     "output_type": "stream",
     "text": [
      "Bm4-> Am2-> 5\n"
     ]
    }
   ],
   "source": [
    "b1.m4();\n",
    "/* B's m4() method calls A's m2() method, which accesses A's 'x'*/\n",
    "// Prints \"Bm4-> Am2-> 5\""
   ]
  },
  {
   "cell_type": "code",
   "execution_count": 55,
   "metadata": {},
   "outputs": [
    {
     "ename": "UnresolvedReferenceException",
     "evalue": "Attempt to use definition snippet with unresolved references in Snippet:ClassKey(C)#50-class C extends B {\n    int y = x + 1;\n    public void m2() {System.out.println(\"Cm2-> \" + super.x);}\n//     public void m3() {System.out.println(\"Cm3-> \" + super.super.x);}\n    /* Line above gives COMPILE TIME ERROR!\n    The 'super' keyword doesn't have a 'super' attribute!*/\n    public void m4() {System.out.println(\"Cm4-> \" + y);}\n    public void m5() {System.out.println(\"Cm5-> \" + super.y);}\n}",
     "output_type": "error",
     "traceback": [
      "\u001b[1m\u001b[30m|   \u001b[1m\u001b[30mclass C extends B {\u001b[0m",
      "\u001b[1m\u001b[30m|   \u001b[1m\u001b[30m    int y = x + 1;\u001b[0m",
      "\u001b[1m\u001b[30m|   \u001b[1m\u001b[30m    public void m2() {System.out.println(\"Cm2-> \" + super.x);}\u001b[0m",
      "\u001b[1m\u001b[30m|   \u001b[1m\u001b[30m//     public void m3() {System.out.println(\"Cm3-> \" + super.super.x);}\u001b[0m",
      "\u001b[1m\u001b[30m|   \u001b[1m\u001b[30m    /* Line above gives COMPILE TIME ERROR!\u001b[0m",
      "\u001b[1m\u001b[30m|   \u001b[1m\u001b[30m    The 'super' keyword doesn't have a 'super' attribute!*/\u001b[0m",
      "\u001b[1m\u001b[30m|   \u001b[1m\u001b[30m    public void m4() {System.out.println(\"Cm4-> \" + y);}\u001b[0m",
      "\u001b[1m\u001b[30m|   \u001b[1m\u001b[30m    public void m5() {System.out.println(\"Cm5-> \" + super.y);}\u001b[0m",
      "\u001b[1m\u001b[30m|   \u001b[1m\u001b[30m}\u001b[0m",
      "\u001b[1m\u001b[31mUnresolved dependencies:\u001b[0m",
      "\u001b[1m\u001b[31m   - variable y\u001b[0m"
     ]
    }
   ],
   "source": [
    "A c0 = new C();\n",
    "/* RUNTIME ERROR!\n",
    "When creating a C instance, the program doesn't know\n",
    "what y is. Thus the whoe line 32-38 can't be executed */"
   ]
  },
  {
   "cell_type": "code",
   "execution_count": 56,
   "metadata": {},
   "outputs": [
    {
     "name": "stdout",
     "output_type": "stream",
     "text": [
      "Am1-> 99\n"
     ]
    }
   ],
   "source": [
    "b0.update();\n",
    "b0.m1();\n",
    "// Prints \"Am1-> 99\""
   ]
  },
  {
   "cell_type": "code",
   "execution_count": null,
   "metadata": {},
   "outputs": [],
   "source": []
  }
 ],
 "metadata": {
  "kernelspec": {
   "display_name": "Java",
   "language": "java",
   "name": "java"
  },
  "language_info": {
   "codemirror_mode": "java",
   "file_extension": ".jshell",
   "mimetype": "text/x-java-source",
   "name": "Java",
   "pygments_lexer": "java",
   "version": "11.0.6+10-post-Ubuntu-1ubuntu118.04.1"
  }
 },
 "nbformat": 4,
 "nbformat_minor": 4
}
