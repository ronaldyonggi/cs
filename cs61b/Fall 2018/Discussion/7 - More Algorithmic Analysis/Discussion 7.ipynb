{
 "cells": [
  {
   "cell_type": "markdown",
   "metadata": {},
   "source": [
    "# 1. More Running Time\n",
    "\n",
    "### (a)\n",
    "#### Best Case\n",
    "In the inner loop, `slam(i, j)` always returns `true`, breaking out of the `for j` loop. The iteration still needs to go through all the element in `N` via `for i` loop. Hence, runtime is $\\Theta(N)$.\n",
    "\n",
    "#### Worst Case\n",
    "In the `inner` loop, `slam(i, j)` returns `false` most of the time. However, notice that `j` is defined outside the loop! This means once `j` is incremented, its value won't go back to `0`! Since we don't have any information whether `N` or `M` is greater, we write the runtimes as $\\Theta(N + M)$."
   ]
  },
  {
   "cell_type": "markdown",
   "metadata": {},
   "source": [
    "### (b)\n",
    "Pay attention to the following:\n"
   ]
  },
  {
   "cell_type": "code",
   "execution_count": null,
   "metadata": {},
   "outputs": [],
   "source": [
    "return arr[mid] == tgt || find(tgt, arr, lo, mid)\n",
    "                       || find(tgt, arr, mid, hi);"
   ]
  },
  {
   "cell_type": "markdown",
   "metadata": {},
   "source": [
    "#### Best Case:\n",
    "`return arr[mid] == tgt` returns true in the first iteration. In this case, running time would be $\\Theta(N)$ since we still have to go through half of the array in the `for i` loop.\n",
    "\n",
    "#### Worst Case:\n",
    "`return arr[mid] == tgt` doesn't return `true` right away, which means we will have to execute the recursive calls. Notice the following,"
   ]
  },
  {
   "cell_type": "code",
   "execution_count": null,
   "metadata": {},
   "outputs": [],
   "source": [
    "int mid = (lo + hi) / 2;"
   ]
  },
  {
   "cell_type": "markdown",
   "metadata": {},
   "source": [
    "Since we half the `mid` for every calls, the amount of work branching would look like the following:"
   ]
  },
  {
   "cell_type": "code",
   "execution_count": null,
   "metadata": {},
   "outputs": [],
   "source": [
    "                                 N/2 \n",
    "                         N/4             N/4\n",
    "                     N/8     N/8     N/8     N/8"
   ]
  },
  {
   "cell_type": "markdown",
   "metadata": {},
   "source": [
    "the height of the tree above is approximately $log N$. Hence the runtime we can be described as $\\Theta(N log N)$. "
   ]
  },
  {
   "cell_type": "markdown",
   "metadata": {},
   "source": [
    "# 2. Recursive Running Time\n",
    "\n",
    "### (a)\n",
    "Approach:\n",
    "1. There's only 1 recursive `andslam` call within the whole function. Thus branching factor is 1.\n",
    "2. For every recursive call, the program halves the input `N`. \n",
    "3. For every recursive call, the program does the input amount of work. Thus the total work done is the sum of all work executed in the recursive calls,\n",
    "\n",
    "$$ N + \\frac{N}{2} + \\frac{N}{4} + \\frac{N}{8} + ... + 4 + 2 + 1 \\approx 2N $$\n",
    "\n",
    "(The last iteration occurs when `N = 1` since `1 / 2 = 0` in Java.)\n",
    "\n",
    "The runtime is strictly $\\Theta(N)$. There are no different cases for this algorithm."
   ]
  },
  {
   "cell_type": "markdown",
   "metadata": {},
   "source": [
    "### (b)\n",
    "#### Best Case\n",
    "The result of `double coin = Math.random();` is always greater than `0.5`, in this case, we only have 1 recursive call that halves the work. Note that we still have to go through the whole array (`N`) due to the `for i` loop: "
   ]
  },
  {
   "cell_type": "code",
   "execution_count": null,
   "metadata": {},
   "outputs": [],
   "source": [
    "for (int i = low; i < high; i += 1){\n",
    "    System.out.print(\"loyal  \");\n",
    "}"
   ]
  },
  {
   "cell_type": "markdown",
   "metadata": {},
   "source": [
    "The total work done is roughly the following:\n",
    "\n",
    "$$ N + \\frac{N}{2} + \\frac{N}{4} + \\frac{N}{8} + ... + 4 + 2 + 1 \\approx 2N $$\n",
    "\n",
    "Hence in the best case scenario, runtime is $\\Theta(N)$.\n",
    "\n",
    "#### Worst Case\n",
    "`coin` is always `<= 0.5`. Here we call the `else` suite for 2 branching recursive calls.  "
   ]
  },
  {
   "cell_type": "code",
   "execution_count": null,
   "metadata": {},
   "outputs": [],
   "source": [
    "                                  N\n",
    "                         N/2             N/2\n",
    "                     N/4     N/4     N/4     N/4"
   ]
  },
  {
   "cell_type": "markdown",
   "metadata": {},
   "source": [
    "Once again, the branching height is $log N$. Hence the runtime $\\Theta(N log N)$."
   ]
  },
  {
   "cell_type": "markdown",
   "metadata": {},
   "source": [
    "### (c)\n",
    "Recursive branching with 3 branches, and each branch decrements `N` by 1. Runtime is $\\Theta(3^N)$\n",
    "\n",
    "### (d)\n",
    "$\\Theta(N^N)$"
   ]
  },
  {
   "cell_type": "markdown",
   "metadata": {},
   "source": [
    "# 3. Hey you watchu gon do?\n",
    "\n",
    "### (a)\n",
    "Algorithm `1` is guaranteed to be faster.\n",
    "\n",
    "### (b)\n",
    "With very large `N`, lower bound doesn't matter. **None is guaranteed to be faster**.\n",
    "\n",
    "### (c)\n",
    "Algorithm `2`\n",
    "\n",
    "### (d)\n",
    "Algorithm `2`\n",
    "\n",
    "### (e)\n",
    "Algorithm `1`\n",
    "\n",
    "##### **Why assume N is large?**\n",
    "We are analyzing the asymptotic behavior of the algorithms. The asymptotic behavior is defined as the behavior of the algorithm as `N` becomes very large.\n"
   ]
  },
  {
   "cell_type": "markdown",
   "metadata": {},
   "source": [
    "# 4. Big Ballin' Bounds\n"
   ]
  }
 ],
 "metadata": {
  "kernelspec": {
   "display_name": "Java",
   "language": "java",
   "name": "java"
  },
  "language_info": {
   "codemirror_mode": "java",
   "file_extension": ".jshell",
   "mimetype": "text/x-java-source",
   "name": "Java",
   "pygments_lexer": "java",
   "version": "11.0.6+10-post-Ubuntu-1ubuntu118.04.1"
  }
 },
 "nbformat": 4,
 "nbformat_minor": 4
}
