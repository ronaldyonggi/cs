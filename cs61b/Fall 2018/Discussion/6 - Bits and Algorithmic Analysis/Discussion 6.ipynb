{
 "cells": [
  {
   "cell_type": "markdown",
   "metadata": {},
   "source": [
    "# 1. Basic Algorithmic Analysis\n",
    "\n",
    "1. $\\Theta$\n",
    "* Both $f$ and $g$ are polynomials where the largest term have the same power, $x^2$. This implies that $f(x)$ is proportional to $g(x)$ \n",
    "\n",
    "2. $O$\n",
    "* As $x$ approaches infinity, $x^5$ is definitely larger than $x^3$. Thus, $f$ is upper bounded by $g$ (the set of functions in $f$ grow at most as quickly as $g$).\n",
    "\n",
    "3. $O$\n",
    "* Similar explanation as #2, as $x$ approaches infinity, $5x$ is greater than $log(x)$.\n",
    "\n",
    "4. $\\Omega$\n",
    "* The opposite of #2 and #3. Exponential growth ($f$) is always faster than polynomial growth ($g$). \n",
    "\n",
    "5. "
   ]
  },
  {
   "cell_type": "markdown",
   "metadata": {},
   "source": [
    "# 2. Practice with Runtime\n",
    "\n",
    "1. $\\Theta(n^2)$\n",
    "2. $log (n^2)$? or $n^2$?"
   ]
  },
  {
   "cell_type": "markdown",
   "metadata": {},
   "source": [
    "### 1.\n",
    "$\\Theta(n^2)$\n",
    "\n",
    "We only care about the first `for` loop, which is a nested loop.\n",
    "\n",
    "### 2.\n",
    "Notice the number of times the inner loop runs, if tracked BACKWARDS:\n",
    "\n",
    "$$n, \\frac{n}{2}, \\frac{n}{4}, \\frac{n}{8}, \\frac{n}{16}, ...$$\n",
    "\n",
    "This means at the final iteration, the inner loop runs $n$ times. The iteration before, the inner loop runs $n/2$ times, and so on.\n",
    "\n",
    "Now looking at the outer loop, how many times can we double before we reach `n`? Ans: $log_2(n)$\n",
    "\n",
    "Summing all the terms above, the number of total iterations done is \n",
    "\n",
    "$$\\sum_{i=0}^{log(n)} \\frac{n}{2^i}$$\n",
    "\n",
    "Since we only care about the polynomial term, again, the runtime is $\\Theta(n)$"
   ]
  },
  {
   "cell_type": "markdown",
   "metadata": {},
   "source": [
    "# 3. A Bit with some Bits"
   ]
  },
  {
   "cell_type": "code",
   "execution_count": null,
   "metadata": {},
   "outputs": [],
   "source": [
    "public static int bitVote(int[] bitList) {\n",
    "    \n",
    "    \n",
    "    for (int i = 0; i < 32; i++){\n",
    "        \n",
    "        \n",
    "        for (int k: bitList){\n",
    "            \n",
    "        }\n",
    "    }\n",
    "}"
   ]
  }
 ],
 "metadata": {
  "kernelspec": {
   "display_name": "Java",
   "language": "java",
   "name": "java"
  },
  "language_info": {
   "codemirror_mode": "java",
   "file_extension": ".jshell",
   "mimetype": "text/x-java-source",
   "name": "Java",
   "pygments_lexer": "java",
   "version": "11.0.6+10-post-Ubuntu-1ubuntu118.04.1"
  }
 },
 "nbformat": 4,
 "nbformat_minor": 4
}
