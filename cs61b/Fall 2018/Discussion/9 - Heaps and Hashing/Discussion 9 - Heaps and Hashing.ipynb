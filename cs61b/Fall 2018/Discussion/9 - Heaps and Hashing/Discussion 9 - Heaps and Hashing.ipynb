{
 "cells": [
  {
   "cell_type": "markdown",
   "metadata": {},
   "source": [
    "# 1. Heaps of Fun"
   ]
  },
  {
   "cell_type": "markdown",
   "metadata": {},
   "source": [
    "## (a)"
   ]
  },
  {
   "cell_type": "code",
   "execution_count": null,
   "metadata": {
    "collapsed": true
   },
   "outputs": [],
   "source": [
    "Heap h = new Heap(5);\n",
    "// Array representation: [null, 5]\n",
    "// Assume numbering starts at index 1"
   ]
  },
  {
   "cell_type": "code",
   "execution_count": null,
   "metadata": {},
   "outputs": [],
   "source": [
    "h.insert(7);\n",
    "\n",
    "/*\n",
    "    5\n",
    "  /\n",
    "7\n",
    "*/\n",
    "\n",
    "// Array representation: [null, 5, 7]"
   ]
  },
  {
   "cell_type": "code",
   "execution_count": null,
   "metadata": {},
   "outputs": [],
   "source": [
    "h.insert(3);\n",
    "\n",
    "/*\n",
    "    3\n",
    "  /   \\\n",
    "7      5\n",
    "*/\n",
    "\n",
    "// Array representation: [null, 3, 7, 5]"
   ]
  },
  {
   "cell_type": "code",
   "execution_count": null,
   "metadata": {},
   "outputs": [],
   "source": [
    "h.insert(1);\n",
    "\n",
    "/*\n",
    "                1\n",
    "              /   \\\n",
    "            3      5\n",
    "           /\n",
    "          7\n",
    "*/\n",
    "\n",
    "// Array representation: [null, 1, 3, 5, 7]"
   ]
  },
  {
   "cell_type": "code",
   "execution_count": null,
   "metadata": {},
   "outputs": [],
   "source": [
    "h.insert(2);\n",
    "\n",
    "/*\n",
    "                1\n",
    "              /   \\\n",
    "            2      5\n",
    "           / \\\n",
    "          7   3\n",
    "*/\n",
    "\n",
    "// Array representation: [null, 1, 2, 5, 7, 3]"
   ]
  },
  {
   "cell_type": "code",
   "execution_count": null,
   "metadata": {},
   "outputs": [],
   "source": [
    "h.removeMin();\n",
    "\n",
    "/*\n",
    "\n",
    "1 is removed. 3 then becomes the top. 3 then swaps with 2.\n",
    "                2\n",
    "              /   \\\n",
    "            3      5\n",
    "           / \n",
    "          7 \n",
    "*/\n",
    "\n",
    "// Array representation: [null, 2, 3, 5, 7]"
   ]
  },
  {
   "cell_type": "code",
   "execution_count": null,
   "metadata": {},
   "outputs": [],
   "source": [
    "h.removeMin();\n",
    "\n",
    "/*\n",
    "\n",
    "2 is removed. 7 then becomes the top. 3 then swaps with 7.\n",
    "                3\n",
    "              /   \\\n",
    "            7      5\n",
    "*/\n",
    "\n",
    "// Array representation: [null, 3, 7, 5]"
   ]
  },
  {
   "cell_type": "markdown",
   "metadata": {},
   "source": [
    "## (b)\n",
    "\n",
    "| --- | Ignore Resize | With Resize |\n",
    "| --- | --- | --- |\n",
    "| Insert | $O(log N)$ | $O(N)$ |\n",
    "| Find Min | $O(1)$ | $O(1)$ |\n",
    "| Remove Min | $O(log N)$ | $O(N log N)$ |\n",
    "\n",
    "### `insert`\n",
    "* If we ignore resizing, runtime would be $O(log N)$:\n",
    "    * We insert the new element to the last element of the array\n",
    "    * Remember that the new element might adjust its position by swimming up the heap!\n",
    "* With resize, runtime would be $O(N)$ with $N$ as the number of elements because we need to create an entirely new array and copy all the contents.\n",
    "\n",
    "### `Find min`\n",
    "This operation is not affected by resizing operation. Worst case runtime is $O(log N)$.\n",
    "\n",
    "### `remove min`\n",
    "* If we ignore resizing, runtime would be $O(log N)$ since we would find that `min` element and then remove it.\n",
    "* With resizing, runtime would be $O(N log N)$ since it involves two processes:\n",
    "    * Find the `min` element and remove it.\n",
    "    * Resize the length of the array.\n",
    "    \n",
    "### Array-based heap vs node-based heap\n",
    "Using a node or tree-based heap, we would need pointers for the children of a node on top of having the value the node is keeping. "
   ]
  },
  {
   "cell_type": "code",
   "execution_count": null,
   "metadata": {},
   "outputs": [],
   "source": [
    "class Node{\n",
    "    Object key;\n",
    "    Object value;\n",
    "    Node left;\n",
    "    Node right;\n",
    "}"
   ]
  },
  {
   "cell_type": "markdown",
   "metadata": {},
   "source": [
    "With an array-based heap, we don't need pointers for node's children. Thus, array-based heap is simpler and more space efficient."
   ]
  },
  {
   "cell_type": "markdown",
   "metadata": {},
   "source": [
    "## (c)\n",
    "Yes.\n",
    "1. For `insert`, negate the number (add `-` sign)` and add it to the min-heap. This way, the \n",
    "largest number will become the most negative number and will be positioned at the top\n",
    "of the min-heap.\n",
    "2. For `removeMax`, simply call `removeMin`, and re-negate the number.\n"
   ]
  },
  {
   "cell_type": "markdown",
   "metadata": {},
   "source": [
    "# 2. HashMap Modification\n",
    "## (a)\n",
    "**Sometimes**. If post-modification, the new key...\n",
    "* ...collides with the previous key, we can still access it since the entry is still in the same bucket.\n",
    "* ...doesn't collide with the old key, then when the hash code of the key resets, the entry  ends up in a different bucket. \n",
    "\n",
    "It is bad to modify keys in an existing map since it's not guaranteed that the data structure will be able to find the entry.\n",
    "\n",
    "## (b)\n",
    "**Always**. If we're simply changing the value of an entry, we can always access it again in the same bucket since the key is unchanged (and thus its hash code is unchanged)."
   ]
  },
  {
   "cell_type": "markdown",
   "metadata": {},
   "source": [
    "# 3. Hash Functions\n",
    "## (a)"
   ]
  },
  {
   "cell_type": "code",
   "execution_count": null,
   "metadata": {},
   "outputs": [],
   "source": [
    "public int hashCode() {\n",
    "    return -1;\n",
    "}\n",
    "\n",
    "/* Valid, but since any integer's hashCode returns -1, collision will happen \n",
    "all the time */"
   ]
  },
  {
   "cell_type": "code",
   "execution_count": null,
   "metadata": {},
   "outputs": [],
   "source": [
    "public int hashCode() {\n",
    "    return intValue() * intValue();\n",
    "}\n",
    "\n",
    "/* Valid, but since intValue() returns the integer itself, collision will happen for integers\n",
    "with the same absolute value.\n",
    "\n",
    "For example, the hashCode() of -5 and 5 will be the same, 25. */"
   ]
  },
  {
   "cell_type": "code",
   "execution_count": null,
   "metadata": {},
   "outputs": [],
   "source": [
    "public int hashCode(){\n",
    "    Random rand = new Random();\n",
    "    return rand.nextInt();\n",
    "}\n",
    "\n",
    "/* Invalid since it will generate random numbers whenever called. This means calling\n",
    "the hashCode of the same integer multiple times most likely would\n",
    "return different hashCode. This can't be true since a valid\n",
    "hashCode function should return the same hashCode for the same object. */"
   ]
  },
  {
   "cell_type": "code",
   "execution_count": null,
   "metadata": {},
   "outputs": [],
   "source": [
    "public int hashCode(){\n",
    "    return super.hashCode();\n",
    "}\n",
    "\n",
    "/* Invalid. This hash function returns an integer corresponding to the Integer object's\n",
    "location in the memory. This means even if we instantiate 2 integers with the same value, 5,\n",
    "their hashCode will be different since they aren't stored in the same memory location. */"
   ]
  },
  {
   "cell_type": "markdown",
   "metadata": {},
   "source": [
    "## (b)\n",
    "Remember that in decimal numbers (10 digits from 0 to 9), to avoid collision we can use base 10 for hash code:\n",
    "\n",
    "#### 7091\n",
    "* $ 7 \\times 10^3$\n",
    "* $ 0 \\times 10^2$\n",
    "* $ 9 \\times 10^1$\n",
    "* $ 1 \\times 10^0$\n",
    "\n",
    "Tic tac toe has 9 different boxes. We can use base 9 as a multiplier.\n",
    "For example:\n",
    "\n",
    "| Tic | Tac | Toe |\n",
    "| --- | --- | --- |\n",
    "|X| 0 |  X |\n",
    "| -  | -  |  - |\n",
    "|- |- | -|\n",
    "\n",
    "Can be described as:\n",
    "* $ 1 \\times 9^8$\n",
    "* $ 2 \\times 9^7$\n",
    "* $ 1 \\times 9^6$"
   ]
  },
  {
   "cell_type": "markdown",
   "metadata": {},
   "source": [
    "## (c)\n",
    "No, we can't add arbitrarily many `Strings` to Java `HashSet` without collisions. \n",
    "\n",
    "1. Java has a maximum integer of `2,147,483,647` ($2^{31} - 1$). If we go over the limit, **overflow** will occur, starting back at the smallest integer `-2,147,483,648` ($-2^{31}$). This means there are $2^{32}$ possible unique hash codes.\n",
    "    * If we add $2^{32} + 1$ distinct `Strings` to a `HashSet`, collision will definitely occur (2 of them will have the same hash code).\n",
    "2. In Java, arrays have a maximum size of $2^{31} - 1$.\n",
    "    * If we add $2^{31}$ `Strings`, 2 of them will be put in the same bucket."
   ]
  },
  {
   "cell_type": "code",
   "execution_count": null,
   "metadata": {},
   "outputs": [],
   "source": []
  }
 ],
 "metadata": {
  "kernelspec": {
   "display_name": "Java",
   "language": "java",
   "name": "java"
  },
  "language_info": {
   "codemirror_mode": "java",
   "file_extension": ".jshell",
   "mimetype": "text/x-java-source",
   "name": "Java",
   "pygments_lexer": "java",
   "version": "11.0.6+10-post-Ubuntu-1ubuntu118.04.1"
  }
 },
 "nbformat": 4,
 "nbformat_minor": 2
}
