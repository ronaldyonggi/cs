{
 "cells": [
  {
   "cell_type": "markdown",
   "metadata": {},
   "source": [
    "###### `UnionFind(int n)`\n",
    "\n",
    "Creates a `UnionFind` data structure holding `n` vertices.\n",
    "\n",
    "##### Implementation\n",
    "\n",
    "Basically initiate the array of size `n` and initiate the elements by `-1`."
   ]
  },
  {
   "cell_type": "code",
   "execution_count": null,
   "metadata": {},
   "outputs": [],
   "source": [
    "public UnionFind(int n) {\n",
    "    parents = new int[n];\n",
    "    for (int i = 0; i < n; i++) {\n",
    "        parents[i] = -1;\n",
    "    }\n",
    "}\n"
   ]
  },
  {
   "cell_type": "markdown",
   "metadata": {},
   "source": [
    "##### `validate(int vertex)`\n",
    "\n",
    "Throws an exception if `vertex` is not a valid index\n",
    "\n",
    "##### Implementation\n",
    "\n",
    "If `vertex` is either negative or greater than the largest index of the array, then throw the exception. Use this method in all other methods that take vertices / indeces as input."
   ]
  },
  {
   "cell_type": "code",
   "execution_count": null,
   "metadata": {},
   "outputs": [],
   "source": [
    "private void validate(int vertex) {\n",
    "    if (vertex < 0 || vertex > parents.length - 1){\n",
    "        throw new IllegalArgumentException();\n",
    "    }\n",
    "}\n"
   ]
  },
  {
   "cell_type": "markdown",
   "metadata": {},
   "source": [
    "##### `find(int vertex)`\n",
    "\n",
    "Returns the root of the set `vertex` belongs to. Path-compression is employed allowing for fast search-time\n",
    "\n",
    "##### Implementation\n",
    "\n",
    "First we find the root. The idea is to keep looking at the parent of the index until we reach the index whose parent is negative."
   ]
  },
  {
   "cell_type": "code",
   "execution_count": null,
   "metadata": {},
   "outputs": [],
   "source": [
    "validate(vertex);\n",
    "int root = vertex;\n",
    "while (parent(root) > -1){ // as long as the parent is not negative\n",
    "    root = parent(root); // reassign root as the parent of that index\n",
    "}"
   ]
  },
  {
   "cell_type": "markdown",
   "metadata": {},
   "source": [
    "Then we apply path-compression, which is to retrack the indeces that we've gone through to find the `root` in the first place, then assign `root` as their parents."
   ]
  },
  {
   "cell_type": "code",
   "execution_count": null,
   "metadata": {},
   "outputs": [],
   "source": [
    "int temp; // temp stores the parent of an index before it's reassigned\n",
    "// as the root.\n",
    "while (vertex != root) {\n",
    "    temp = parent(vertex);\n",
    "    parents[vertex] = root; // Assign root to the index's parent\n",
    "    vertex = temp; // Update the next index to be looked up\n",
    "}"
   ]
  },
  {
   "cell_type": "markdown",
   "metadata": {},
   "source": [
    "And finally return the `root`."
   ]
  },
  {
   "cell_type": "code",
   "execution_count": null,
   "metadata": {},
   "outputs": [],
   "source": [
    "return root"
   ]
  },
  {
   "cell_type": "markdown",
   "metadata": {},
   "source": [
    "The complete implementation is as the following,"
   ]
  },
  {
   "cell_type": "code",
   "execution_count": null,
   "metadata": {},
   "outputs": [],
   "source": [
    "public int find(int vertex) {\n",
    "    // TODO\n",
    "    /**\n",
    "     * The idea is to keep looking at the parent of the index until we find an index\n",
    "     * whose parent is negative. That means that index is the root.\n",
    "     */\n",
    "    validate(vertex);\n",
    "    int root = vertex;\n",
    "    while (parent(root) > -1) {\n",
    "        root = parent(root);\n",
    "    }\n",
    "\n",
    "    /**\n",
    "     * Apply path-compression by assigning root to the parent of the indeces that\n",
    "     * we went through in the first place to find the root\n",
    "     */\n",
    "    int temp;\n",
    "    while (vertex != root) {\n",
    "        temp = parent(vertex);\n",
    "        parents[vertex] = root;\n",
    "        vertex = temp;\n",
    "    }\n",
    "    return root;\n",
    "}\n"
   ]
  },
  {
   "cell_type": "markdown",
   "metadata": {},
   "source": [
    "##### `sizeOf(int v1)`\n",
    "\n",
    "Returns the size of the set `v1` belongs to\n",
    "\n",
    "##### Implementation\n",
    "\n",
    "Simply returns the parent of the root of `v1`. Make sure to negate it!"
   ]
  },
  {
   "cell_type": "code",
   "execution_count": null,
   "metadata": {},
   "outputs": [],
   "source": [
    "public int sizeOf(int v1) {\n",
    "    validate(v1);\n",
    "    return -parents[find(v1)];\n",
    "}"
   ]
  },
  {
   "cell_type": "markdown",
   "metadata": {},
   "source": [
    "##### `parent(int v1)`\n",
    "\n",
    "Returns the parent of `v1`. If `v1` is the root of a tree, returns the negative size of the tree for which `v1` is the root.\n",
    "\n",
    "##### Implementation\n",
    "\n",
    "Simply access `parents[v1]`."
   ]
  },
  {
   "cell_type": "code",
   "execution_count": null,
   "metadata": {},
   "outputs": [],
   "source": [
    "public int parent(int v1) {\n",
    "    validate(v1);\n",
    "    return parents[v1];\n",
    "}\n"
   ]
  },
  {
   "cell_type": "markdown",
   "metadata": {},
   "source": [
    "##### `connected(int v1, int v2)`\n",
    "\n",
    "Returns true if nodes `v1` and `v2` are connected.\n",
    "\n",
    "##### Implementation\n",
    "\n",
    "Simply check if the result of calling `find(v1)` is the same as that of calling `find(v2)`."
   ]
  },
  {
   "cell_type": "code",
   "execution_count": null,
   "metadata": {},
   "outputs": [],
   "source": [
    "public boolean connected(int v1, int v2) {\n",
    "    validate(v1);\n",
    "    validate(v2);\n",
    "    return find(v1) == find(v2);\n",
    "}\n"
   ]
  },
  {
   "cell_type": "markdown",
   "metadata": {},
   "source": [
    "##### `union(int v1, int v2)`\n",
    "\n",
    "Connects 2 elements `v1` and `v2` together. A union-by-size heuristic is used. \n",
    "* If the sizes of the sets are equal, connect `v1`'s root to `v2`'s root\n",
    "* Unioning a vertex with itself or vertices that are already connected shouldn't change the sets but may alter the internal structure of the data.\n",
    "\n",
    "##### Implementation\n",
    "\n",
    "The idea is that if `v1`'s size is greater than `v2`'s, then:\n",
    "* Set `v2`'s parent as the root of `v1`\n",
    "* Then increment the size of the root of `v1`\n",
    "    * This can be done by decrementing the parent fo the root of `v1`.\n",
    "    \n",
    "Otherwise, do the opposite."
   ]
  },
  {
   "cell_type": "code",
   "execution_count": null,
   "metadata": {},
   "outputs": [],
   "source": [
    "public void union(int v1, int v2) {\n",
    "    validate(v1);\n",
    "    validate(v2);\n",
    "    if (!connected(v1, v2)) {\n",
    "        if (sizeOf(v1)> sizeOf(v2)) {\n",
    "            parents[v2] = find(v1);\n",
    "            parents[find(v1)] --;\n",
    "        } else {\n",
    "            parents[v1] = find(v2);\n",
    "            parents[find(v2)] --;\n",
    "        }\n",
    "    }\n",
    "}\n"
   ]
  }
 ],
 "metadata": {
  "kernelspec": {
   "display_name": "Python 3",
   "language": "python",
   "name": "python3"
  },
  "language_info": {
   "codemirror_mode": {
    "name": "ipython",
    "version": 3
   },
   "file_extension": ".py",
   "mimetype": "text/x-python",
   "name": "python",
   "nbconvert_exporter": "python",
   "pygments_lexer": "ipython3",
   "version": "3.7.4"
  }
 },
 "nbformat": 4,
 "nbformat_minor": 2
}
