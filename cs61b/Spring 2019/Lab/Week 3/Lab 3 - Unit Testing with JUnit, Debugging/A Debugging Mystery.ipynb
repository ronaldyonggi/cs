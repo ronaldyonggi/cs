{
 "cells": [
  {
   "cell_type": "markdown",
   "metadata": {},
   "source": [
    "# A Debugging Mystery"
   ]
  },
  {
   "cell_type": "markdown",
   "metadata": {},
   "source": [
    "Another important skill to learn is how to exhaustively debug. When done properly, debugging should allow us to rapidly narrow down where a bug might be located, even when we're debugging code we don't fully understand. Consider the scenario:\n",
    "\n",
    "* Our company, Flik Enterprises, has released a fine software library `Flik.java` that's able to determine whether 2 integers are the same or not.\n",
    "* We receive an email from \"Horrible Steve\" who describes a problem they're having with the company's library:\n",
    "\n",
    "\"Dear Flik Enterprises,\n",
    "\n",
    "Your library is very bad. See the attached code. It should print out 500\n",
    "but actually it's printing out 128.\n",
    "\n",
    "(attachment: HorribleSteve.java)\"\n",
    "\n",
    "Using any combination of the following techniques, find out whether the bug is in Horrible Steve's code or in Flik enterprise's library.\n",
    "\n",
    "* Writing JUnit tests for the Flik library\n",
    "* Using the IntelliJ debugger, especially `conditional breakpoints` or `breaking on exceptions`\n",
    "    * Run -> View Breakpoints -> Check \"Java Exceptions Breakpoints\" -> Uncheck \"Caught Exceptions\"\n",
    "* Using print statements\n",
    "* Refactoring Horrible Steve's code.\n",
    "    * Refactoring means changing the syntax without changing the functionality.\n",
    "    * This may be difficult to do since HS's code uses lots of weird stuff\n",
    "    \n",
    "`HorribleSteve.java` and `Flik.java` both use syntax we haven't covered in class. We're not required to fix the bug or even understand why it's happening, we just need to simply find the bug.\n",
    "\n",
    "Tip: JUnit provides methods `assertTrue(boolean)` and `assertTrue(String, boolean)` that we might find helpful. \n",
    "\n",
    "Try to come up with a short explanation of the bug!"
   ]
  },
  {
   "cell_type": "markdown",
   "metadata": {},
   "source": [
    "#### Explanation"
   ]
  },
  {
   "cell_type": "markdown",
   "metadata": {},
   "source": [
    "I set a breakpoint at `throw new Exception` line in `HorribleSteve.java`, and it appears that the exception occurs when both `i` and `j` are `128`. \n",
    "\n",
    "Google \"`java 128 ==`, then there'll be bunch of explanations about creating `Integer` objects using auto boxing [here](https://javaconceptoftheday.com/why-128-128-returns-false-in-java/).\n",
    "\n",
    "Then if we look at `Flik.java`, notice that "
   ]
  },
  {
   "cell_type": "code",
   "execution_count": null,
   "metadata": {},
   "outputs": [],
   "source": [
    "/** An Integer tester created by Flik Enterprises. */\n",
    "public class Flik {\n",
    "    public static boolean isSameNumber(Integer a, Integer b) {\n",
    "        return a == b;\n",
    "    }\n",
    "}"
   ]
  },
  {
   "cell_type": "markdown",
   "metadata": {},
   "source": [
    "Flik uses `Integer` rather than `int`! This is the bug! `Integer` and `int` are not the same!"
   ]
  },
  {
   "cell_type": "code",
   "execution_count": null,
   "metadata": {},
   "outputs": [],
   "source": []
  }
 ],
 "metadata": {
  "kernelspec": {
   "display_name": "Python 3",
   "language": "python",
   "name": "python3"
  },
  "language_info": {
   "codemirror_mode": {
    "name": "ipython",
    "version": 3
   },
   "file_extension": ".py",
   "mimetype": "text/x-python",
   "name": "python",
   "nbconvert_exporter": "python",
   "pygments_lexer": "ipython3",
   "version": "3.7.3"
  }
 },
 "nbformat": 4,
 "nbformat_minor": 4
}
