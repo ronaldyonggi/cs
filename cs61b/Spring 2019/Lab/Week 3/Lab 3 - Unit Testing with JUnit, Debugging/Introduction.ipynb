{
 "cells": [
  {
   "cell_type": "markdown",
   "metadata": {},
   "source": [
    "## What is JUnit?"
   ]
  },
  {
   "cell_type": "markdown",
   "metadata": {},
   "source": [
    "JUnit is a Unit Testing Framework for Java"
   ]
  },
  {
   "cell_type": "markdown",
   "metadata": {},
   "source": [
    "## What is Unit Testing?"
   ]
  },
  {
   "cell_type": "markdown",
   "metadata": {},
   "source": [
    "Unit Testing is a great way to test each method of our code and ultimately ensure that we have a working project.\n",
    "\n",
    "The \"Unit\" part of Unit Testing comes from the idea that **we can break our program down into units**, or the smallest testable part of an application. Therefore, Unit Testing enforces good code structure (each code should only do \"One Thing\"), and allows us to consider all of the edge cases for each method and test them individually.\n",
    "\n",
    "In this class, we will be using JUnit to create and run tests on our code to ensure its correctness. When JUnit tests fail, we will have an excellent starting point for debugging. Furthermore, if we have a terrible bug that's hard to fix, we can use `git` to revert back to a state when the code was working properly according to the JUnit tests."
   ]
  },
  {
   "cell_type": "markdown",
   "metadata": {},
   "source": [
    "## JUnit Syntax"
   ]
  },
  {
   "cell_type": "markdown",
   "metadata": {},
   "source": [
    "JUnit tests are written in Java, similar to `LinkedListDequeTest` from Project 1A. The JUnit library implements all the boring stuff (e.g. printing error messages), making test writing much simpler.\n",
    "\n",
    "To see an examle of JUnit test, let's navigate to `Arithmetic` directory and open `ArithmeticTest.java` in a text editor (don't use IntelliJ yet)"
   ]
  },
  {
   "cell_type": "code",
   "execution_count": null,
   "metadata": {},
   "outputs": [],
   "source": [
    "import static org.junit.Assert.*;\n",
    "import org.junit.Test;\n",
    "\n",
    "public class ArithmeticTest {\n",
    "\n",
    "    /** Performs a few arbitrary tests to see if the product method is correct */\n",
    "\n",
    "    @Test \n",
    "    public void testProduct() {\n",
    "        /* assertEquals for comparison of ints takes two arguments:\n",
    "        assertEquals(expected, actual).\n",
    "        if it is false, then the assertion will be false, and this test will fail.\n",
    "        */\n",
    "\n",
    "        assertEquals(30, Arithmetic.product(5, 6));\n",
    "        assertEquals(-30, Arithmetic.product(5, -6));\n",
    "        assertEquals(0, Arithmetic.product(0, -6));\n",
    "    }\n",
    "\n",
    "    /** Performs a few arbitrary tests to see if the sum method is correct */\n",
    "\n",
    "    @Test \n",
    "    public void testSum() {\n",
    "\n",
    "        assertEquals(11, Arithmetic.sum(5, 6));\n",
    "        assertEquals(-1, Arithmetic.sum(5, -6));\n",
    "        assertEquals(-6, Arithmetic.sum(0, -6));\n",
    "        assertEquals(0, Arithmetic.sum(6, -6));\n",
    "    }\n",
    "\n",
    "    /* Run the unit tests in this file. */\n",
    "    public static void main(String... args) {        \n",
    "        jh61b.junit.TestRunner.runTests(\"all\", ArithmeticTest.class);\n",
    "    }\n",
    "}\n"
   ]
  },
  {
   "cell_type": "markdown",
   "metadata": {},
   "source": [
    "The first thing we'll notice are the imports at the top of the file."
   ]
  },
  {
   "cell_type": "code",
   "execution_count": null,
   "metadata": {},
   "outputs": [],
   "source": [
    "import static org.junit.Assert.*;\n",
    "import org.junit.Test;"
   ]
  },
  {
   "cell_type": "markdown",
   "metadata": {},
   "source": [
    "These imports are what give us easy access to the JUnit methods and functionality that we'll need to run JUnit tests.\n",
    "\n",
    "Next, we'll see that there are 2 methods in `ArithmeticTest.java`: `testProduct` and `testSum`."
   ]
  },
  {
   "cell_type": "code",
   "execution_count": null,
   "metadata": {},
   "outputs": [],
   "source": [
    "@Test \n",
    "    public void testProduct() {\n",
    "        /* assertEquals for comparison of ints takes two arguments:\n",
    "        assertEquals(expected, actual).\n",
    "        if it is false, then the assertion will be false, and this test will fail.\n",
    "        */\n",
    "\n",
    "        assertEquals(30, Arithmetic.product(5, 6));\n",
    "        assertEquals(-30, Arithmetic.product(5, -6));\n",
    "        assertEquals(0, Arithmetic.product(0, -6));\n",
    "    }"
   ]
  },
  {
   "cell_type": "code",
   "execution_count": null,
   "metadata": {},
   "outputs": [],
   "source": [
    "@Test \n",
    "    public void testSum() {\n",
    "\n",
    "        assertEquals(11, Arithmetic.sum(5, 6));\n",
    "        assertEquals(-1, Arithmetic.sum(5, -6));\n",
    "        assertEquals(-6, Arithmetic.sum(0, -6));\n",
    "        assertEquals(0, Arithmetic.sum(6, -6));\n",
    "    }"
   ]
  },
  {
   "cell_type": "markdown",
   "metadata": {},
   "source": [
    "Both of the methods follow the following format:"
   ]
  },
  {
   "cell_type": "code",
   "execution_count": null,
   "metadata": {},
   "outputs": [],
   "source": [
    "@Test\n",
    "public void testMethod() {\n",
    "    assertEquals(<expected>, <actual>);\n",
    "}"
   ]
  },
  {
   "cell_type": "markdown",
   "metadata": {},
   "source": [
    "`assertEquals` is a common method used in JUnit tests. It tests whether an actual value is equivalent to its expected value.\n",
    "\n",
    "When we create JUnit test files, precede each test method with a `@Test` annotation. **All tests must be non-static**. This might seem strange since our tests don't use instance variables and we probably won't instantiate the class. However, that's just how designers of JUnit decided how tests should be written."
   ]
  }
 ],
 "metadata": {
  "kernelspec": {
   "display_name": "Python 3",
   "language": "python",
   "name": "python3"
  },
  "language_info": {
   "codemirror_mode": {
    "name": "ipython",
    "version": 3
   },
   "file_extension": ".py",
   "mimetype": "text/x-python",
   "name": "python",
   "nbconvert_exporter": "python",
   "pygments_lexer": "ipython3",
   "version": "3.7.3"
  }
 },
 "nbformat": 4,
 "nbformat_minor": 4
}
