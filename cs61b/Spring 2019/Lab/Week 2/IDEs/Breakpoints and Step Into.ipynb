{
 "cells": [
  {
   "cell_type": "markdown",
   "metadata": {},
   "source": [
    "## `DebugExercise1.java`"
   ]
  },
  {
   "cell_type": "markdown",
   "metadata": {},
   "source": [
    "The bug can be found when calculating `divideThenRound(t3, b3)`. Within the `divideThenRound` calculation, `quotient` comes up as `0`. We might be tempted to change `quotient` to `double`, but it will give out an error message! One fix is to change the whole system's data types from `int` to `double`."
   ]
  },
  {
   "cell_type": "markdown",
   "metadata": {},
   "source": [
    "## `DebugExercise2.java`"
   ]
  },
  {
   "cell_type": "markdown",
   "metadata": {},
   "source": [
    "#### Bug #1\n",
    "\n",
    "The `max` method returns the smaller value rather than the greater value. As a solution, I just rewrote the method so that it comes out as the following:"
   ]
  },
  {
   "cell_type": "code",
   "execution_count": null,
   "metadata": {},
   "outputs": [],
   "source": [
    "public static int max(int a, int b) {\n",
    "    if (a > b) return a;\n",
    "    return b;\n",
    "}"
   ]
  },
  {
   "cell_type": "markdown",
   "metadata": {},
   "source": [
    "#### Bug #2\n",
    "\n",
    "The `add` method itself is fine, but the problems lies in the incrementing process of `sum`"
   ]
  },
  {
   "cell_type": "code",
   "execution_count": null,
   "metadata": {},
   "outputs": [],
   "source": [
    "public static int arraySum(int[] x) {\n",
    "    int i = 0;\n",
    "    int sum = 0;\n",
    "    while (i < x.length) {\n",
    "            sum = sum + add(sum, x[i]); // The bug\n",
    "        i = i + 1;\n",
    "    }\n",
    "    return sum;\n",
    "}\n"
   ]
  },
  {
   "cell_type": "markdown",
   "metadata": {},
   "source": [
    "The following line,"
   ]
  },
  {
   "cell_type": "code",
   "execution_count": null,
   "metadata": {},
   "outputs": [],
   "source": [
    "sum = sum + add(sum, x[i]);"
   ]
  },
  {
   "cell_type": "markdown",
   "metadata": {},
   "source": [
    "...adds an additional `sum` on top of the result of `add`ing `sum` with `x[i]`. We don't need to add this additional `sum`."
   ]
  },
  {
   "cell_type": "code",
   "execution_count": null,
   "metadata": {},
   "outputs": [],
   "source": [
    "sum = add(sum, x[i]);"
   ]
  },
  {
   "cell_type": "markdown",
   "metadata": {},
   "source": [
    "## `DebugExercise3`.java"
   ]
  },
  {
   "cell_type": "markdown",
   "metadata": {},
   "source": [
    "The bug is located in the `foods.csv` file. One of the data entries, "
   ]
  },
  {
   "cell_type": "code",
   "execution_count": null,
   "metadata": {},
   "outputs": [],
   "source": [
    "kroger turnip 0.45 -387128732"
   ]
  },
  {
   "cell_type": "markdown",
   "metadata": {},
   "source": [
    "...has a very large negative number."
   ]
  }
 ],
 "metadata": {
  "kernelspec": {
   "display_name": "Python 3",
   "language": "python",
   "name": "python3"
  },
  "language_info": {
   "codemirror_mode": {
    "name": "ipython",
    "version": 3
   },
   "file_extension": ".py",
   "mimetype": "text/x-python",
   "name": "python",
   "nbconvert_exporter": "python",
   "pygments_lexer": "ipython3",
   "version": "3.7.3"
  }
 },
 "nbformat": 4,
 "nbformat_minor": 4
}
