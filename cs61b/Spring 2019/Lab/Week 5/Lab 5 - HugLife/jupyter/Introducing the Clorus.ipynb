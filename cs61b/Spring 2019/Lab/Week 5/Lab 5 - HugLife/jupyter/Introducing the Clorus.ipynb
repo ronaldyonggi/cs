{
 "cells": [
  {
   "cell_type": "markdown",
   "metadata": {},
   "source": [
    "# Introducing the Clorus"
   ]
  },
  {
   "cell_type": "markdown",
   "metadata": {},
   "source": [
    "The implementation for `clorus` is very similar to `plip`, so we can simply use `plip`'s template, with a few differences:\n",
    "\n",
    "1. For actions that use energy, don't set a condition where if the `energy` is negative we set it to 0 instead. This will somehow causes the cloruses to live forever."
   ]
  },
  {
   "cell_type": "code",
   "execution_count": null,
   "metadata": {},
   "outputs": [],
   "source": [
    "public void move() {\n",
    "    energy -= 0.03;\n",
    "}\n",
    "\n",
    "public void stay() {\n",
    "    energy -= 0.01;\n",
    "}"
   ]
  },
  {
   "cell_type": "markdown",
   "metadata": {},
   "source": [
    "2. For the `attack` method, simply add the clorus's energy by the attacked creature's energy. We don't need to worry about making sure the attacked creature dies since it's already taken care somehow by the simulator."
   ]
  },
  {
   "cell_type": "code",
   "execution_count": null,
   "metadata": {},
   "outputs": [],
   "source": [
    "public void attack(Creature c) {\n",
    "    energy += c.energy();\n",
    "}"
   ]
  },
  {
   "cell_type": "markdown",
   "metadata": {},
   "source": [
    "3. For `chooseAction()`\n",
    "* Add a new deque `plipNeighbors` that functions similarly to `emptyNeighbors`, with the only difference that it stores adjacent plips. We need `plipNeighbors` in case a clorus is surrounded by multiple plips, the clorus must randomly pick a plip to attack."
   ]
  },
  {
   "cell_type": "code",
   "execution_count": null,
   "metadata": {},
   "outputs": [],
   "source": [
    "Deque<Direction> emptyNeighbors = new ArrayDeque<>();\n",
    "Deque<Direction> plipNeighbors = new ArrayDeque<>();\n",
    "boolean anyPlip = false;\n",
    "for (Direction key: neighbors.keySet()) {\n",
    "    if (neighbors.get(key).name().equals(\"empty\")) {\n",
    "        emptyNeighbors.addLast(key);\n",
    "    } else if (neighbors.get(key).name().equals(\"plip\")) {\n",
    "        plipNeighbors.addLast(key);\n",
    "        anyPlip = true;\n",
    "    }\n",
    "}"
   ]
  },
  {
   "cell_type": "markdown",
   "metadata": {},
   "source": [
    "Regarding how the rules work, we prioritize the case when an adjacent plip is present.\n",
    "* If we prioritized the case to STAY when there's no empty neighbor, beware that a plip also takes space!\n",
    "* This would cause a clorus to do nothing even when a plip is around."
   ]
  },
  {
   "cell_type": "code",
   "execution_count": null,
   "metadata": {},
   "outputs": [],
   "source": [
    "if (anyPlip) {\n",
    "    // If a plip is present, attack a plip randomly!\n",
    "    return new Action(Action.ActionType.ATTACK, randomEntry(plipNeighbors));\n",
    "} else if (emptyNeighbors.isEmpty()) {\n",
    "    // If no empty spots (and no plips), just stay\n",
    "    return new Action(Action.ActionType.STAY);\n",
    "} else if (energy >= 1) {\n",
    "    // If energy is greater or equal to 1, then replicate to a random empty spot\n",
    "    return new Action(Action.ActionType.REPLICATE, randomEntry(emptyNeighbors));\n",
    "} else {\n",
    "    // Otherwise, move to a random empty spot\n",
    "    return new Action(Action.ActionType.MOVE, randomEntry(emptyNeighbors));\n",
    "}\n"
   ]
  },
  {
   "cell_type": "markdown",
   "metadata": {},
   "source": [
    "## Writing Tests"
   ]
  },
  {
   "cell_type": "markdown",
   "metadata": {},
   "source": [
    "We can basically use the template provided in `TestPLip`, with the only difference that we would need to tweak some elements for testing the `attack()` method."
   ]
  },
  {
   "cell_type": "code",
   "execution_count": null,
   "metadata": {},
   "outputs": [],
   "source": [
    "// Plip present, attack!\n",
    "c = new Clorus(1.2);\n",
    "Plip p = new Plip(.99);\n",
    "HashMap<Direction, Occupant> topPlip = new HashMap<Direction, Occupant>();\n",
    "topPlip.put(Direction.TOP, new Plip());\n",
    "topPlip.put(Direction.BOTTOM, new Empty());\n",
    "topPlip.put(Direction.LEFT, new Empty());\n",
    "topPlip.put(Direction.RIGHT, new Empty());\n",
    "\n",
    "actual = c.chooseAction(topPlip);\n",
    "expected = new Action(Action.ActionType.ATTACK, Direction.TOP);\n",
    "assertEquals(expected, actual);\n"
   ]
  }
 ],
 "metadata": {
  "kernelspec": {
   "display_name": "Python 3",
   "language": "python",
   "name": "python3"
  },
  "language_info": {
   "codemirror_mode": {
    "name": "ipython",
    "version": 3
   },
   "file_extension": ".py",
   "mimetype": "text/x-python",
   "name": "python",
   "nbconvert_exporter": "python",
   "pygments_lexer": "ipython3",
   "version": "3.7.4"
  }
 },
 "nbformat": 4,
 "nbformat_minor": 4
}
