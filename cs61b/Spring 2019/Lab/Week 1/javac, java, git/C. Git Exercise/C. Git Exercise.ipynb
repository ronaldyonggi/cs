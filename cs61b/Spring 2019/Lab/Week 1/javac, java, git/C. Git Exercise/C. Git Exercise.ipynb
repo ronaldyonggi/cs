{
 "cells": [
  {
   "cell_type": "markdown",
   "metadata": {},
   "source": [
    "First, tell Git our name and email addres sot hat our commites are correctly attributed."
   ]
  },
  {
   "cell_type": "code",
   "execution_count": 1,
   "metadata": {},
   "outputs": [],
   "source": [
    "!git config --global user.email ronaldyonggi@gmail.com\n",
    "!git config --global user.name Ronald Yonggi"
   ]
  },
  {
   "cell_type": "markdown",
   "metadata": {},
   "source": [
    "Create a directory called `lab1-checkoff`"
   ]
  },
  {
   "cell_type": "code",
   "execution_count": 3,
   "metadata": {},
   "outputs": [],
   "source": [
    "%mkdir lab1-checkoff"
   ]
  },
  {
   "cell_type": "markdown",
   "metadata": {},
   "source": [
    "Move into the `lab1-checkoff` directory, and initialize a Git repository in this directory. Make sure we are int the `lab1-checkoff` folder before initializing the repository."
   ]
  },
  {
   "cell_type": "code",
   "execution_count": 5,
   "metadata": {},
   "outputs": [
    {
     "name": "stdout",
     "output_type": "stream",
     "text": [
      "/Users/ronaldyonggi/Documents/cs61b/Lab/Week 1/javac, java, git/C. Git Exercise/lab1-checkoff\n",
      "Initialized empty Git repository in /Users/ronaldyonggi/Documents/cs61b/Lab/Week 1/javac, java, git/C. Git Exercise/lab1-checkoff/.git/\n"
     ]
    }
   ],
   "source": [
    "%cd lab1-checkoff/\n",
    "!git init"
   ]
  },
  {
   "cell_type": "markdown",
   "metadata": {},
   "source": [
    "Create a file called `61b.txt`. In this file, add the text `61b version 1` into it."
   ]
  },
  {
   "cell_type": "code",
   "execution_count": 6,
   "metadata": {},
   "outputs": [],
   "source": [
    "!code 61b.txt"
   ]
  },
  {
   "cell_type": "markdown",
   "metadata": {},
   "source": [
    "Create a file called `61c.txt`. In this file, add the text `61c version 1` into it."
   ]
  },
  {
   "cell_type": "code",
   "execution_count": 7,
   "metadata": {},
   "outputs": [],
   "source": [
    "!code 61c.txt"
   ]
  },
  {
   "cell_type": "markdown",
   "metadata": {},
   "source": [
    "Begin tracking only `61b.txt`, and create a new commit containing just this file, with the following commit message: `\"Add 61b.txt\"`."
   ]
  },
  {
   "cell_type": "code",
   "execution_count": 8,
   "metadata": {},
   "outputs": [
    {
     "name": "stdout",
     "output_type": "stream",
     "text": [
      "[master (root-commit) 4694b11] Add 61b.txt\n",
      " 1 file changed, 1 insertion(+)\n",
      " create mode 100644 61b.txt\n"
     ]
    }
   ],
   "source": [
    "!git add 61b.txt\n",
    "!git commit -m \"Add 61b.txt\""
   ]
  },
  {
   "cell_type": "markdown",
   "metadata": {},
   "source": [
    "Make a modification in `61b.txt` by changing the text in the file to `\"61b changed to version 2\"`"
   ]
  },
  {
   "cell_type": "code",
   "execution_count": 9,
   "metadata": {},
   "outputs": [],
   "source": [
    "!code 61b.txt"
   ]
  },
  {
   "cell_type": "markdown",
   "metadata": {},
   "source": [
    "Make another commit, this time containing both `61b.txt` and `61c.txt`. The commit message should be `\"Update 61b.txt and add 61c.txt\"`."
   ]
  },
  {
   "cell_type": "code",
   "execution_count": 10,
   "metadata": {},
   "outputs": [
    {
     "name": "stdout",
     "output_type": "stream",
     "text": [
      "[master eff2ef2] Update 61b.txt and add 61c.txt\n",
      " 2 files changed, 2 insertions(+), 1 deletion(-)\n",
      " create mode 100644 61c.txt\n"
     ]
    }
   ],
   "source": [
    "!git add 61b.txt\n",
    "!git add 61c.txt\n",
    "!git commit -m \"Update 61b.txt and add 61c.txt\""
   ]
  },
  {
   "cell_type": "markdown",
   "metadata": {},
   "source": [
    "Finally, make one more modification to `61b.txt` by changing the text in the file to `\"61b changed to version 3\"`. Don't commit this version."
   ]
  },
  {
   "cell_type": "code",
   "execution_count": 11,
   "metadata": {},
   "outputs": [],
   "source": [
    "!code 61b.txt"
   ]
  },
  {
   "cell_type": "code",
   "execution_count": 12,
   "metadata": {},
   "outputs": [
    {
     "name": "stdout",
     "output_type": "stream",
     "text": [
      "On branch master\n",
      "Changes not staged for commit:\n",
      "  (use \"git add <file>...\" to update what will be committed)\n",
      "  (use \"git checkout -- <file>...\" to discard changes in working directory)\n",
      "\n",
      "\t\u001b[31mmodified:   61b.txt\u001b[m\n",
      "\n",
      "no changes added to commit (use \"git add\" and/or \"git commit -a\")\n"
     ]
    }
   ],
   "source": [
    "!git status"
   ]
  },
  {
   "cell_type": "code",
   "execution_count": 13,
   "metadata": {},
   "outputs": [
    {
     "name": "stdout",
     "output_type": "stream",
     "text": [
      "\u001b[33mcommit eff2ef2dd7b6e224f327d646e5641d370c352d0c\u001b[m\u001b[33m (\u001b[m\u001b[1;36mHEAD -> \u001b[m\u001b[1;32mmaster\u001b[m\u001b[33m)\u001b[m\n",
      "Author: Ronald <ronaldyonggi@gmail.com>\n",
      "Date:   Mon Sep 30 13:47:08 2019 -0400\n",
      "\n",
      "    Update 61b.txt and add 61c.txt\n",
      "\n",
      "\u001b[33mcommit 4694b112009cb1dbbb10fb1710b17f93acce5354\u001b[m\n",
      "Author: Ronald <ronaldyonggi@gmail.com>\n",
      "Date:   Mon Sep 30 13:44:10 2019 -0400\n",
      "\n",
      "    Add 61b.txt\n"
     ]
    }
   ],
   "source": [
    "!git log"
   ]
  },
  {
   "cell_type": "markdown",
   "metadata": {},
   "source": [
    "Revert `61b.txt` back to the earliest version of the file."
   ]
  },
  {
   "cell_type": "code",
   "execution_count": 15,
   "metadata": {},
   "outputs": [],
   "source": [
    "!git checkout -- 61b.txt\n",
    "# Undo the add of version 3"
   ]
  },
  {
   "cell_type": "code",
   "execution_count": 20,
   "metadata": {},
   "outputs": [
    {
     "name": "stdout",
     "output_type": "stream",
     "text": [
      "Updated 1 path from 3a34767\n"
     ]
    }
   ],
   "source": [
    "!git checkout 4694b112009cb1dbbb10fb1710b17f93acce5354 61b.txt"
   ]
  },
  {
   "cell_type": "code",
   "execution_count": 21,
   "metadata": {},
   "outputs": [
    {
     "name": "stdout",
     "output_type": "stream",
     "text": [
      "[master 8508488] Revert 61b.txt back to version 1\n",
      " 1 file changed, 1 insertion(+), 1 deletion(-)\n",
      "\u001b[33mcommit 8508488156a8560484458af8ec6c7bed24efc792\u001b[m\u001b[33m (\u001b[m\u001b[1;36mHEAD -> \u001b[m\u001b[1;32mmaster\u001b[m\u001b[33m)\u001b[m\n",
      "Author: Ronald <ronaldyonggi@gmail.com>\n",
      "Date:   Mon Sep 30 14:04:49 2019 -0400\n",
      "\n",
      "    Revert 61b.txt back to version 1\n",
      "\n",
      "\u001b[33mcommit eff2ef2dd7b6e224f327d646e5641d370c352d0c\u001b[m\n",
      "Author: Ronald <ronaldyonggi@gmail.com>\n",
      "Date:   Mon Sep 30 13:47:08 2019 -0400\n",
      "\n",
      "    Update 61b.txt and add 61c.txt\n",
      "\n",
      "\u001b[33mcommit 4694b112009cb1dbbb10fb1710b17f93acce5354\u001b[m\n",
      "Author: Ronald <ronaldyonggi@gmail.com>\n",
      "Date:   Mon Sep 30 13:44:10 2019 -0400\n",
      "\n",
      "    Add 61b.txt\n"
     ]
    }
   ],
   "source": [
    "!git commit -m \"Revert 61b.txt back to version 1\"\n",
    "!git log"
   ]
  },
  {
   "cell_type": "markdown",
   "metadata": {},
   "source": [
    "## Note"
   ]
  },
  {
   "cell_type": "markdown",
   "metadata": {},
   "source": [
    "Be careful when using the `checkout` command. If it says `detached HEAD` state as a result of a checkout command, that's something we don't want. Read [here](https://sp19.datastructur.es/materials/guides/git-wtfs.html#head-detached-at--) on how to fix it."
   ]
  },
  {
   "cell_type": "code",
   "execution_count": null,
   "metadata": {},
   "outputs": [],
   "source": []
  }
 ],
 "metadata": {
  "kernelspec": {
   "display_name": "Python 3",
   "language": "python",
   "name": "python3"
  },
  "language_info": {
   "codemirror_mode": {
    "name": "ipython",
    "version": 3
   },
   "file_extension": ".py",
   "mimetype": "text/x-python",
   "name": "python",
   "nbconvert_exporter": "python",
   "pygments_lexer": "ipython3",
   "version": "3.7.3"
  }
 },
 "nbformat": 4,
 "nbformat_minor": 4
}
