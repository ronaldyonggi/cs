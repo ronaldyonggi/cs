{
 "cells": [
  {
   "cell_type": "markdown",
   "metadata": {},
   "source": [
    "# Drawing the Initial Universe State (main)"
   ]
  },
  {
   "cell_type": "markdown",
   "metadata": {},
   "source": [
    "## Collecting All Needed Input"
   ]
  },
  {
   "cell_type": "markdown",
   "metadata": {},
   "source": [
    "Create a `main` method in the `NBody` class. Write code so that the `NBody` class performs the following steps:\n",
    "1. Store the `0th` and `1st` command line arguments as doubles `T` and `dt`\n",
    "    * Hint: the arguments come in as Strings\n",
    "    * Look up online about how to convert `Strings` to `doubles`\n",
    "2. Store the `2nd` command line argument as a `String` named `filename`.\n",
    "3. Read in the bodies and the universe radius from the file described by `filename` using methods from earlier in this assignment."
   ]
  },
  {
   "cell_type": "code",
   "execution_count": null,
   "metadata": {},
   "outputs": [],
   "source": [
    "public static void main(String[] args) {\n",
    "    // Recall Lecture 2 Video 4, the command line arguments are indexed starting from 0\n",
    "    double T = Double.parseDouble(args[0]); // Read the 0th argument and store in T\n",
    "    double dt = Double.parseDouble(args[1]); // Read the 1st argument and store in dt\n",
    "    String filename = args[2]; // Read the 2nd argument and store in 'filename'\n",
    "    Body[] bodies = NBody.readBodies(filename); // Get the array of bodies from filename\n",
    "    double radius = NBody.readRadius(filename); // Get the radius of the universe from filename\n",
    "}"
   ]
  },
  {
   "cell_type": "markdown",
   "metadata": {},
   "source": [
    "## Drawing the Background"
   ]
  },
  {
   "cell_type": "markdown",
   "metadata": {},
   "source": [
    "From the `StdDrawDemo.java`, we see that to draw an image, we need to at least have the following,"
   ]
  },
  {
   "cell_type": "code",
   "execution_count": null,
   "metadata": {},
   "outputs": [],
   "source": [
    "StdDraw.enableDoubleBuffering(); // So that all drawings takes place on the offscreen\n",
    "StdDraw.setScale(..., ...) // Set the universe scale\n",
    "StdDraw.clear(); // Clears the drawing window\n",
    "StdDraw.picture(..., ..., [Image File Name]); // Pictures to stamp\n",
    "StdDraw.show(); // The drawing gets copied from the offscreen canvas to the onscreen canvas"
   ]
  },
  {
   "cell_type": "markdown",
   "metadata": {},
   "source": [
    "The pictures that we need here are the background image, `starfield.jpg`, which is located in the `images` directory. \n",
    "\n",
    "Note that even though in `StdDrawDemo.java`, the lines that include `StdDraw` methods are located within a method (e.g. `drawThree()`, `drawRandom()`), here we don't necessarily need to put them inside a method. Instead, we can have the lines of `StdDraw` methods as part of the `main` method."
   ]
  },
  {
   "cell_type": "code",
   "execution_count": null,
   "metadata": {},
   "outputs": [],
   "source": [
    "// Drawing the Background and Pictures\n",
    "String backgroundImage = \"images/starfield.jpg\"; // Contains path to background image file\n",
    "StdDraw.enableDoubleBuffering(); // Enables double buffering (all drawing will take place on the offscreen canvas)"
   ]
  },
  {
   "cell_type": "markdown",
   "metadata": {},
   "source": [
    "For the `Scale`, recall that we have the radius of the universe that can be obtained via `NBody.readRadius(filename)` method."
   ]
  },
  {
   "cell_type": "code",
   "execution_count": null,
   "metadata": {},
   "outputs": [],
   "source": [
    "StdDraw.setScale(-radius, radius); // Sets up universe so it goes from -radius, -radius to radius, radius\n",
    "StdDraw.clear(); // Clears the drawing window\n",
    "StdDraw.picture(0, 0, backgroundImage); // Stamp a copy of backgroundImage.png  \n",
    "StdDraw.show();"
   ]
  },
  {
   "cell_type": "markdown",
   "metadata": {},
   "source": [
    "## Drawing One Body"
   ]
  },
  {
   "cell_type": "markdown",
   "metadata": {},
   "source": [
    "Add a method `draw` to the `Body` class, which doesn't take any argument and doesn't return anything. \n",
    "\n",
    "Since the purpose of this class is to draw the `Body`'s image, recall that the `StdDraw.picture` method fits perfectly since it takes:\n",
    "* The `x-coordinate` position, which is `xxPos`\n",
    "* The `y-coordinate` position, which is `yyPos`\n",
    "* and the `imgFileName`.\n",
    "\n",
    "However, **BEWARE** that the image files are located inside the `images` directory, thus we need to write down the whole path!"
   ]
  },
  {
   "cell_type": "code",
   "execution_count": null,
   "metadata": {},
   "outputs": [],
   "source": [
    "public void draw() {\n",
    "    // BEWARE! The image files are located inside the 'images' directory! We can't just call it\n",
    "    // with 'imgFilename', we need to include the directory as well.\n",
    "    StdDraw.picture(xxPos, yyPos, \"./images/\" + imgFileName);\n",
    "}"
   ]
  },
  {
   "cell_type": "markdown",
   "metadata": {},
   "source": [
    "## Drawing More Than One Body"
   ]
  },
  {
   "cell_type": "markdown",
   "metadata": {},
   "source": [
    "Going back to the `main` method in `NBody.java`, we can iterate through each `Body` in `bodies` and for each, call their `draw` method."
   ]
  },
  {
   "cell_type": "code",
   "execution_count": null,
   "metadata": {},
   "outputs": [],
   "source": [
    "for (Body b: bodies) {b.draw();} // Using enhanced for loop"
   ]
  },
  {
   "cell_type": "markdown",
   "metadata": {},
   "source": [
    "Therefore, the `main` method of the `NBody` class will look like the following,"
   ]
  },
  {
   "cell_type": "code",
   "execution_count": null,
   "metadata": {},
   "outputs": [],
   "source": [
    "public static void main(String[] args) {\n",
    "    // Recall Lecture 2 Video 4, the command line arguments are indexed starting from 0\n",
    "    double T = Double.parseDouble(args[0]); // Read the 0th argument and store in T\n",
    "    double dt = Double.parseDouble(args[1]); // Read the 1st argument and store in dt\n",
    "    String filename = args[2]; // Read the 2nd argument and store in 'filename'\n",
    "    Body[] bodies = NBody.readBodies(filename); // Get the array of bodies from filename\n",
    "    double radius = NBody.readRadius(filename); // Get the radius of the universe from filename\n",
    "\n",
    "\n",
    "    // Drawing the Background and Pictures\n",
    "    String backgroundImage = \"images/starfield.jpg\"; // Contains path to background image file\n",
    "    StdDraw.enableDoubleBuffering(); // Enables double buffering (all drawing will take place on the offscreen canvas)\n",
    "    StdDraw.setScale(-radius, radius); // Sets up universe so it goes from -radius, -radius to radius, radius\n",
    "    StdDraw.clear(); // Clears the drawing window\n",
    "    StdDraw.picture(0, 0, backgroundImage); // Stamp a copy of backgroundImage.png  \n",
    "    for (Body b: bodies) {b.draw();}\n",
    "    StdDraw.show();\n",
    "}"
   ]
  }
 ],
 "metadata": {
  "kernelspec": {
   "display_name": "Python 3",
   "language": "python",
   "name": "python3"
  },
  "language_info": {
   "codemirror_mode": {
    "name": "ipython",
    "version": 3
   },
   "file_extension": ".py",
   "mimetype": "text/x-python",
   "name": "python",
   "nbconvert_exporter": "python",
   "pygments_lexer": "ipython3",
   "version": "3.7.3"
  }
 },
 "nbformat": 4,
 "nbformat_minor": 4
}
