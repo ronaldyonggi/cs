{
 "cells": [
  {
   "cell_type": "markdown",
   "metadata": {},
   "source": [
    "# [Understanding The Physics](https://sp19.datastructur.es/materials/proj/proj0/proj0#understanding-the-physics)"
   ]
  },
  {
   "cell_type": "markdown",
   "metadata": {},
   "source": [
    "## [Double Check Your Understanding](https://sp19.datastructur.es/materials/proj/proj0/proj0#double-check-your-understanding)"
   ]
  },
  {
   "cell_type": "markdown",
   "metadata": {},
   "source": [
    "Suppose we have the following bodies in space:\n",
    "\n",
    "<img src = 'double.png' width = 500/>\n",
    "\n",
    "**Samh**\n",
    "* x = 1\n",
    "* y = 0\n",
    "* mass = 10 kg\n",
    "\n",
    "**Aegir**\n",
    "* x = 3\n",
    "* y = 3\n",
    "* mass = 5 kg\n",
    "\n",
    "**Rocinante**\n",
    "* x = 5\n",
    "* y = -3\n",
    "* mass = 50"
   ]
  },
  {
   "cell_type": "markdown",
   "metadata": {},
   "source": [
    "#### Calculate $r_A$ (distance between Samh and Aegir) and $r_R$ (distance between Samh and Rocinante)\n",
    "\n",
    "$$r^2 = dx^2 + dy^2 $$\n",
    "\n",
    "$d_{A, x}$ is Aegir's $x$-coordinate $-$ Samh's $x$-coordinate:\n",
    "\n",
    "$$d_{A,x} = 3 - 1 = 2$$\n",
    "\n",
    "$d_{A, y}$ is Aegir's $y$-coordinate $-$ Samh's $y$-coordinate:\n",
    "\n",
    "$$d_{A, y} = 3 - 0 = 3$$\n",
    "\n",
    "$d_{R, x}$ is Rocinante's $x$-coordinate $-$ Samh's $x$-coordinate:\n",
    "\n",
    "$$d_{R,x} = 5 - 1 = 4$$\n",
    "\n",
    "$d_{R, y}$ is Rocinante's $y$-coordinate $-$ Samh's $y$-coordinate:\n",
    "\n",
    "$$d_{R, y} = -3 - 0 = -3$$\n",
    "\n",
    "Thus we have,\n",
    "\n",
    "$$r_A = \\sqrt{2^2 + 3^2} = \\sqrt{13} $$\n",
    "\n",
    "$$r_R = \\sqrt{4^2 + (-3)^2} = 5 $$"
   ]
  },
  {
   "cell_type": "markdown",
   "metadata": {},
   "source": [
    "#### Calculate $F_A$ (force that Aegir exerts on Samh) and $F_R$ (force that Roncinante exerts on Samh)"
   ]
  },
  {
   "cell_type": "markdown",
   "metadata": {},
   "source": [
    "$$ F = \\frac{G \\cdot m_1 \\cdot m_2}{r^2}$$\n",
    "\n",
    "$$ F_A = \\frac{6.67 \\cdot 10^{-11} \\cdot 5 \\cdot 10}{13} = 2.565 \\cdot 10^{-10}$$\n",
    "\n",
    "$$ F_R = \\frac{6.67 \\cdot 10^{-11} \\cdot 50 \\cdot 10}{25} = 1.334 \\cdot 10^{-9}$$"
   ]
  },
  {
   "cell_type": "markdown",
   "metadata": {},
   "source": [
    "#### Calculate $x$ and $y$ components of $F_A$ and $F_R$"
   ]
  },
  {
   "cell_type": "markdown",
   "metadata": {},
   "source": [
    "$$ F_{A, x} = \\frac{F_A \\times d_{A, x}}{r_A} = \\frac{2.565 \\cdot 10^{-10} \\cdot 2}{\\sqrt{13}} = 1.4228 \\times 10^{-10}$$\n",
    "\n",
    "$$ F_{A, y} = \\frac{F_A \\times d_{A, y}}{r_A} = \\frac{2.565 \\cdot 10^{-10} \\cdot 3}{\\sqrt{13}} = 2.134 \\times 10^{-10}$$\n",
    "\n",
    "$$ F_{R, x} = \\frac{F_R \\times d_{R, x}}{r_R} = \\frac{1.334 \\cdot 10^{-9} \\cdot 4}{5} = 1.0672 \\times 10^{-9}$$\n",
    "\n",
    "$$ F_{R, y} = \\frac{F_R \\times d_{R, y}}{r_R} = \\frac{1.334 \\cdot 10^{-9} \\cdot (-3)}{5} = -8 \\times 10^{-10}$$"
   ]
  },
  {
   "cell_type": "markdown",
   "metadata": {},
   "source": [
    "#### Calculate $F_{net, x}$ and $F_{net, y}$ exerted on Samh"
   ]
  },
  {
   "cell_type": "markdown",
   "metadata": {},
   "source": [
    "$$F_{net, x} = F_{A, x} + F_{R, x} = 1.4228 \\times 10^{-10} + 1.0672 \\times 10^{-9} = 1.21 \\times 10^{-9} $$\n",
    "$$F_{net, y} = F_{A, y} + F_{R, y} = 2.134 \\times 10^{-10} - 8 \\times 10^{-10} = -5.866 \\times 10^{-10} $$"
   ]
  },
  {
   "cell_type": "code",
   "execution_count": null,
   "metadata": {},
   "outputs": [],
   "source": []
  }
 ],
 "metadata": {
  "kernelspec": {
   "display_name": "Python 3",
   "language": "python",
   "name": "python3"
  },
  "language_info": {
   "codemirror_mode": {
    "name": "ipython",
    "version": 3
   },
   "file_extension": ".py",
   "mimetype": "text/x-python",
   "name": "python",
   "nbconvert_exporter": "python",
   "pygments_lexer": "ipython3",
   "version": "3.7.3"
  }
 },
 "nbformat": 4,
 "nbformat_minor": 4
}
