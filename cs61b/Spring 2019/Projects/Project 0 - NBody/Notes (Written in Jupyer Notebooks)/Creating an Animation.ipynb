{
 "cells": [
  {
   "cell_type": "markdown",
   "metadata": {},
   "source": [
    "## Creating an Animation"
   ]
  },
  {
   "cell_type": "markdown",
   "metadata": {},
   "source": [
    "Finish the `NBody.java`'s `main` method by adding the following:"
   ]
  },
  {
   "cell_type": "markdown",
   "metadata": {},
   "source": [
    "#### `enableDoubleBuffering()`"
   ]
  },
  {
   "cell_type": "markdown",
   "metadata": {},
   "source": [
    "`enableDoubleBuffering()` is a graphics technique to prevent flickering in the animation. Without this function, any attempt at smooth animation will look flickery!\n",
    "\n",
    "When double buffering is enabled by calling `enableDoubleBuffering()`, all drawing takes place on the offscreen canvas. The offscreen canvas is not displayed.\n",
    "\n",
    "Only when we call `show()`, the drawing will be copied from the offscreen canvas to the onscreen canvas, where it's displayed in the standard drawing window. \n",
    "\n",
    "We can think of double buffering as collecting all the lines, points, shapes and text that we told the program to draw, and draw them all simultaneously upon request. \n",
    "\n",
    "**NOTE that is already done from the previous step**."
   ]
  },
  {
   "cell_type": "markdown",
   "metadata": {},
   "source": [
    "#### Time Representation"
   ]
  },
  {
   "cell_type": "markdown",
   "metadata": {},
   "source": [
    "Create a variable that represents time.\n",
    "* Set it to 0\n",
    "* Set up a loop-to-loop until this variable reaches `T`.\n",
    "\n",
    "For each time through the loop, do the following:\n",
    "* Create `xForces` array and `yForces` array\n",
    "* Calculate the net $x$ and $y$ forces for each `Body`, storing these in the `xForces` and `yForces` arrays respectively\n",
    "* Call `update` on each of the `Body`s\n",
    "    * This will update each body's position, velocity, and acceleration\n",
    "* Draw the background image\n",
    "* Draw all the `Body`s\n",
    "* Show the offscreen buffer (`StdDraw.show()`)\n",
    "* Pause the animation for 10 milliseconds\n",
    "    * See the `pause` method of `StdDraw`\n",
    "* Increase time variable by `dt`\n",
    "\n",
    "**NOTE**: For each time through the main loop, don't make any calls to `update` until all forces have been calculated and safely stored in `xForces` and `yForces`."
   ]
  },
  {
   "cell_type": "markdown",
   "metadata": {},
   "source": [
    "#### Approach"
   ]
  },
  {
   "cell_type": "markdown",
   "metadata": {},
   "source": [
    "The variable that represents time can be used as a `for` loop variable. We are incrementing the time with `dt` for every loop until we reach `T`."
   ]
  },
  {
   "cell_type": "code",
   "execution_count": 4,
   "metadata": {},
   "outputs": [],
   "source": [
    "for (int time = 0; time <= T; time += dt){\n",
    "    // \n",
    "}"
   ]
  },
  {
   "cell_type": "markdown",
   "metadata": {},
   "source": [
    "Then we create 2 arrays, `xForces` and `yForces`. Recall that the length of the arrays are the number of bodies involved in the `.txt` file, `N`."
   ]
  },
  {
   "cell_type": "code",
   "execution_count": null,
   "metadata": {},
   "outputs": [],
   "source": [
    "double[] xForces = new double[N];\n",
    "double[] yForces = new double[N];"
   ]
  },
  {
   "cell_type": "markdown",
   "metadata": {},
   "source": [
    "Now we calculate the new net $x$ and $y$ force for each body. **FINISH ALL FORCES CALCULATION FIRST** before updating each body!"
   ]
  },
  {
   "cell_type": "code",
   "execution_count": null,
   "metadata": {},
   "outputs": [],
   "source": [
    "for (int i = 0; i < N; i++) {\n",
    "    xForces[i] = bodies[i].calcNetForceExertedByX(bodies); // Update each xForce\n",
    "    yForces[i] = bodies[i].calcNetForceExertedByY(bodies); // Update each yForce\n",
    "}\n",
    "\n",
    "// Can't use enhanced for loop because we need to access xForces and yForces via numerical index"
   ]
  },
  {
   "cell_type": "markdown",
   "metadata": {},
   "source": [
    "Now we can update each of the bodies,"
   ]
  },
  {
   "cell_type": "code",
   "execution_count": null,
   "metadata": {},
   "outputs": [],
   "source": [
    "for (int i = 0; i < N; i ++){\n",
    "    bodies[i].update(time, xForces[i], yForces[i]);\n",
    "}"
   ]
  },
  {
   "cell_type": "markdown",
   "metadata": {},
   "source": [
    "And finally, redraw the whole universe."
   ]
  },
  {
   "cell_type": "code",
   "execution_count": null,
   "metadata": {},
   "outputs": [],
   "source": [
    "// Draw background and each body.\n",
    "String backgroundImage = \"images/starfield.jpg\"; // Contains path to background image file\n",
    "StdDraw.enableDoubleBuffering(); // Enables double buffering (all drawing will take place on the offscreen canvas)\n",
    "StdDraw.setScale(-radius, radius); // Sets up universe so it goes from -radius, -radius to radius, radius\n",
    "StdDraw.clear(); // Clears the drawing window\n",
    "StdDraw.picture(0, 0, backgroundImage); // Stamp a copy of backgroundImage.png  \n",
    "for (Body b: bodies) {b.draw();} // Draw each body\n",
    "StdDraw.show(); // Show the offscreen buffer\n",
    "StdDraw.pause(10); // Pause animation for 10 milliseconds"
   ]
  }
 ],
 "metadata": {
  "kernelspec": {
   "display_name": "Python 3",
   "language": "python",
   "name": "python3"
  },
  "language_info": {
   "codemirror_mode": {
    "name": "ipython",
    "version": 3
   },
   "file_extension": ".py",
   "mimetype": "text/x-python",
   "name": "python",
   "nbconvert_exporter": "python",
   "pygments_lexer": "ipython3",
   "version": "3.7.3"
  }
 },
 "nbformat": 4,
 "nbformat_minor": 4
}
