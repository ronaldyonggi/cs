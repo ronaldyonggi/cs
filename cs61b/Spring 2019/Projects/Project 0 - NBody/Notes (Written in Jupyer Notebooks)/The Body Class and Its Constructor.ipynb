{
 "cells": [
  {
   "cell_type": "markdown",
   "metadata": {},
   "source": [
    "The code below should be written in a `Body.java` file."
   ]
  },
  {
   "cell_type": "code",
   "execution_count": 2,
   "metadata": {},
   "outputs": [
    {
     "ename": "SyntaxError",
     "evalue": "invalid syntax (<ipython-input-2-220906db5464>, line 1)",
     "output_type": "error",
     "traceback": [
      "\u001b[0;36m  File \u001b[0;32m\"<ipython-input-2-220906db5464>\"\u001b[0;36m, line \u001b[0;32m1\u001b[0m\n\u001b[0;31m    *(An, instance, of, the, Body, clas, can, represent, a, planet,, star,)\u001b[0m\n\u001b[0m                                                                   ^\u001b[0m\n\u001b[0;31mSyntaxError\u001b[0m\u001b[0;31m:\u001b[0m invalid syntax\n"
     ]
    }
   ],
   "source": [
    "/* An instance of the Body class can represent a planet, star, \n",
    "or varius objects in the universe. */\n",
    "public class Body {\n",
    "    // Instance variables\n",
    "    public double xxPos; // Body's x position\n",
    "    public double yyPos; // Body's y position\n",
    "    public double xxVel; // Body's current velocity int the x direction\n",
    "    public double yyVel; // Body's current velocity in the y direction\n",
    "    public double mass; // Body's mass\n",
    "    public String imgFileName; // Name of the file that corresponds to the image that depics the body\n",
    "    \n",
    "    // Body constructor\n",
    "    public Body(double xP, double yP, double xV, double yV, double m, String img) {\n",
    "        xxPos = xP;\n",
    "        yyPos = yP;\n",
    "        xxVel = xV;\n",
    "        yyVel = yV;\n",
    "        mass = m;\n",
    "        imgFileName = img;\n",
    "    }\n",
    "    \n",
    "    // Body constructor 2, creates a copy of an existing Body object\n",
    "    public Body (Body b) {\n",
    "        xxPos = b.xxPos;\n",
    "        yyPos = b.yyPos;\n",
    "        xxVel = b.xxVel;\n",
    "        yyVel = b.yyVel;\n",
    "        mass = b.mass;\n",
    "        imgFileName = b.imgFileName;\n",
    "    }\n",
    "}"
   ]
  },
  {
   "cell_type": "markdown",
   "metadata": {},
   "source": [
    "We call the instance variables by double letters (e.g. `xxPos` instead of `xPos`) to reduce the chance of typos.\n",
    "\n",
    "All of the numbers involved for this project will be doubles.\n",
    "\n",
    "Notice we have 2 constructors, the first one is a regular constructor, while the second one takes in a Body object and creates an identical Body object (creates a copy of the Body that the constructor takes).\n",
    "\n",
    "All methods should be non-static since the methods are going to be specific to an instance's method rather than the whole class method."
   ]
  },
  {
   "cell_type": "code",
   "execution_count": null,
   "metadata": {},
   "outputs": [],
   "source": []
  }
 ],
 "metadata": {
  "kernelspec": {
   "display_name": "Python 3",
   "language": "python",
   "name": "python3"
  },
  "language_info": {
   "codemirror_mode": {
    "name": "ipython",
    "version": 3
   },
   "file_extension": ".py",
   "mimetype": "text/x-python",
   "name": "python",
   "nbconvert_exporter": "python",
   "pygments_lexer": "ipython3",
   "version": "3.7.3"
  }
 },
 "nbformat": 4,
 "nbformat_minor": 4
}
