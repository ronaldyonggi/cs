{
 "cells": [
  {
   "cell_type": "markdown",
   "metadata": {},
   "source": [
    "# Task I"
   ]
  },
  {
   "cell_type": "markdown",
   "metadata": {},
   "source": [
    "Create a JUnit test file `TestArrayDequeGold.java`. The test should randomly call `StudentArrayDeque` and `ArrayDequeSolution` methods until they disagree on an output."
   ]
  },
  {
   "cell_type": "markdown",
   "metadata": {},
   "source": [
    "#### Implementation of Task I"
   ]
  },
  {
   "cell_type": "markdown",
   "metadata": {},
   "source": [
    "One relatively simple idea that can be done is to compare the output for `removeLast` and `removeFirst` between the 2 classes. \n",
    "\n",
    "We begin with creating instances of both classes,"
   ]
  },
  {
   "cell_type": "code",
   "execution_count": null,
   "metadata": {},
   "outputs": [],
   "source": [
    "StudentArrayDeque<Integer> sad = new StudentArrayDeque<>();\n",
    "ArrayDequeSolution<Integer> ads = new ArrayDequeSolution<>();"
   ]
  },
  {
   "cell_type": "markdown",
   "metadata": {},
   "source": [
    "...and randomly assign integers from 0 to 8. A choice of 8 integers was chosen arbitrarily.\n",
    "\n",
    "Looking at the example of how to assign numbers randomly in `StudentArrayDequeLauncher` class,"
   ]
  },
  {
   "cell_type": "code",
   "execution_count": null,
   "metadata": {},
   "outputs": [],
   "source": [
    "for (int i = 0; i < 10; i += 1) {\n",
    "    double numberBetweenZeroAndOne = StdRandom.uniform();\n",
    "\n",
    "    if (numberBetweenZeroAndOne < 0.5) {\n",
    "        sad1.addLast(i);\n",
    "    } else {\n",
    "        sad1.addFirst(i);\n",
    "    }\n",
    "}\n"
   ]
  },
  {
   "cell_type": "markdown",
   "metadata": {},
   "source": [
    "...we can use similar implementation for our test."
   ]
  },
  {
   "cell_type": "code",
   "execution_count": null,
   "metadata": {},
   "outputs": [],
   "source": [
    "@Test\n",
    "public void testMethods() {\n",
    "    for (int i = 0; i < 9; i++) {\n",
    "        double randomized = StdRandom.uniform();\n",
    "\n",
    "        if(randomized < 0.5) { // add to both sad and ads\n",
    "            sad.addLast(i);\n",
    "            ads.addLast(i);\n",
    "        } else {\n",
    "            sad.addFirst(i);\n",
    "            ads.addFirst(i);\n",
    "        }\n",
    "    }\n"
   ]
  },
  {
   "cell_type": "markdown",
   "metadata": {},
   "source": [
    "Through some trial and error, it was found that the test fail consistently with the following sequence of tests,"
   ]
  },
  {
   "cell_type": "code",
   "execution_count": null,
   "metadata": {},
   "outputs": [],
   "source": [
    "assertEquals(sad.removeFirst(), ads.removeFirst());\n",
    "assertEquals(sad.removeLast(), ads.removeLast());\n",
    "assertEquals(sad.removeFirst(), ads.removeFirst());\n",
    "assertEquals(sad.removeLast(), ads.removeLast());\n"
   ]
  }
 ],
 "metadata": {
  "kernelspec": {
   "display_name": "Python 3",
   "language": "python",
   "name": "python3"
  },
  "language_info": {
   "codemirror_mode": {
    "name": "ipython",
    "version": 3
   },
   "file_extension": ".py",
   "mimetype": "text/x-python",
   "name": "python",
   "nbconvert_exporter": "python",
   "pygments_lexer": "ipython3",
   "version": "3.7.4"
  }
 },
 "nbformat": 4,
 "nbformat_minor": 4
}
