{
 "cells": [
  {
   "cell_type": "markdown",
   "metadata": {},
   "source": [
    "# Implement Array Deque Class"
   ]
  },
  {
   "cell_type": "markdown",
   "metadata": {},
   "source": [
    "Since we are implementing a generic array list, we also use `<T>` here. "
   ]
  },
  {
   "cell_type": "code",
   "execution_count": null,
   "metadata": {},
   "outputs": [],
   "source": [
    "public class ArrayDeque<T> {\n",
    "    ... // Everything goes here!\n",
    "}"
   ]
  },
  {
   "cell_type": "markdown",
   "metadata": {},
   "source": [
    "## `ArrayDeque` Constructor"
   ]
  },
  {
   "cell_type": "markdown",
   "metadata": {},
   "source": [
    "If we try to instantiate the array with the following,"
   ]
  },
  {
   "cell_type": "code",
   "execution_count": null,
   "metadata": {},
   "outputs": [],
   "source": [
    "items = new T[8];"
   ]
  },
  {
   "cell_type": "markdown",
   "metadata": {},
   "source": [
    "Java will give an error message saying that we can't create an array of generic objects! Instead, we use `casting`"
   ]
  },
  {
   "cell_type": "code",
   "execution_count": null,
   "metadata": {},
   "outputs": [],
   "source": [
    "public ArrayDeque() {\n",
    "    items = (T []) new Object[8];\n",
    "    size = 0;\n",
    "    ...\n",
    "}"
   ]
  },
  {
   "cell_type": "markdown",
   "metadata": {},
   "source": [
    "## Making Array Deque Circular (TRICKY, MUST READ)"
   ]
  },
  {
   "cell_type": "markdown",
   "metadata": {},
   "source": [
    "Making an array deque circular is quite tricky: we need to keep track of the index that's going to be filled with `addLast` and `addFirst` separately. We can't solely rely on `size`!\n",
    "\n",
    "An example of solely relying on `size` for `addFirst`"
   ]
  },
  {
   "cell_type": "code",
   "execution_count": null,
   "metadata": {},
   "outputs": [],
   "source": [
    "# We start with an empty array of length 4\n",
    "items = [null, null, null, null]\n",
    "size = 0\n",
    "\n",
    "\n",
    "addLast(3)\n",
    "# Simply assign items[size] = 3\n",
    "--> [3, null, null, null]\n",
    "size = 1\n",
    "\n",
    "addFirst(2)\n",
    "# We might think that simply assign items[items.length-1 - size] = 2\n",
    "--> [3, null, 2, null]\n",
    "size = 2\n",
    "\n",
    "# THIS IS WRONG! WE WANT TO FILL OUT THE LAST ELEMENT OF THE LIST BUT IT\n",
    "# FILLED THE SECOND LAST ELEMENT INSTEAD"
   ]
  },
  {
   "cell_type": "markdown",
   "metadata": {},
   "source": [
    "As we can see in the example above, we can't simply rely on `size` for `addFirst`! Does this mean we can simply use `size` for `addLast`?"
   ]
  },
  {
   "cell_type": "code",
   "execution_count": null,
   "metadata": {},
   "outputs": [],
   "source": [
    "## Example 2\n",
    "items = [null, null, null, null]\n",
    "size = 0\n",
    "\n",
    "addFirst(2)\n",
    "# Simply assign items[items.length - 1 - size] = 2\n",
    "--> [null, null, null, 2]\n",
    "size = 1\n",
    "\n",
    "addLast(3)\n",
    "# Assign items[size] = 3\n",
    "--> [null, 3, null, 2]\n",
    "size = 2\n",
    "\n",
    "# THIS IS ALSO WRONG! WE WANT TO FILL OUT THE FIRST ELEMENT OF THE LIST \n",
    "# BUT IT FILLED THE SECOND ELEMENT INSTEAD!"
   ]
  },
  {
   "cell_type": "markdown",
   "metadata": {},
   "source": [
    "Therefore, we need a way to keep track of the index next to be added for both `addFirst` and `addLast`. We can create new integer variables to do this: `nextFirst` and `nextLast`.\n",
    "\n",
    "Since the starting point of the array is at index 0, the initial values for:\n",
    "* `nextFirst`: `items.length - 1`\n",
    "* `nextLast`: size"
   ]
  },
  {
   "cell_type": "markdown",
   "metadata": {},
   "source": [
    "### `removeFirst()` then `addFirst` (TRICKY TOO)"
   ]
  },
  {
   "cell_type": "code",
   "execution_count": null,
   "metadata": {},
   "outputs": [],
   "source": [
    "[4, 19, 37, 2, null, null, 854, 1053]\n",
    "size = 6, nextLast = 4, nextFirst = 5\n",
    "\n",
    "removeFirst()\n",
    "# increment nextFirst by 1 --> nextFirst = 6\n",
    "# then remove element at index [nextFirst]\n",
    "--> [4, 18, 37, 2, null, null, null, 1053]\n",
    "size = 5, nextLast = 4, nextFirst = 6 \n",
    "\n",
    "removeFirst()\n",
    "--> [4, 18, 37, 2, null, null, null, null]\n",
    "size = 4, nextLast = 4, nextFirst = 7\n",
    "\n",
    "removeFirst()\n",
    "# If nextFirst is equal to items.length - 1 then we do removeFirst(),\n",
    "# set nextFirst to 0\n",
    "# then remove item at index [nextFirst]\n",
    "--> [null, 18, 37, 2, null, null, null, null]\n",
    "size = 3, nextlast = 4, nextFirst = 0\n",
    "\n",
    "addFirst(52343)\n",
    "# If nextFirst is equal to 0 and then we do `addFirst()`,\n",
    "# add the element at index [nextFirst]\n",
    "# then set nextFirst to items.length - 1\n",
    "--> [52343, 18, 37, 2, null, null, null, null]\n",
    "size = 4, nextLast = 4, nextFirst = 7"
   ]
  },
  {
   "cell_type": "markdown",
   "metadata": {},
   "source": [
    "If `nextFirst = items.length-1` and we do  `removeFirst()`:\n",
    "* set `nextFirst` to 0\n",
    "* remove item at `index[nextFirst]`\n",
    "\n",
    "If `nextFirst = 0` and we do `addFirst`:\n",
    "* add to element of index `[nextFirst]`\n",
    "* then set `nextFirst` to `items.length - 1`"
   ]
  },
  {
   "cell_type": "markdown",
   "metadata": {},
   "source": [
    "### `removeLast()` then `addLast` (Tricky too)"
   ]
  },
  {
   "cell_type": "code",
   "execution_count": null,
   "metadata": {},
   "outputs": [],
   "source": [
    "[4, null, null, null, null, null, 854, 1053]\n",
    "size = 3, nextLast = 1, nextFirst = 5\n",
    "\n",
    "removeLast()\n",
    "# decrement nextLast by 1 --> nextLast = 0\n",
    "# remove item at index [nextLast]\n",
    "--> [null, null, null, null, null, null, 854, 1053]\n",
    "size = 2, nextLast = 0, nextFirst = 5\n",
    "\n",
    "removeLast()\n",
    "# If nextLast = 0 and we do removeLast():\n",
    "# set nextLast to items.length - 1\n",
    "# then remove item at index [nextLast]\n",
    "--> [null, null, null, null, null, null, 854, null]\n",
    "size = 1, nextLast = 7, nextFirst = 5\n",
    "\n",
    "addLast(412)\n",
    "# If nextLast = items.length and we do addLast():\n",
    "# add the element at index [nextLast]\n",
    "# then set nextLast to 0\n",
    "--> [null, null, null, null, null, null, 854, 412]\n",
    "size = 2, nextLast = 0, nextFirst = 5\n",
    "# add to element of index [items.length - 1]\n",
    "# then set nextLast to 0"
   ]
  },
  {
   "cell_type": "markdown",
   "metadata": {},
   "source": [
    "If `nextLast = 0` and we do `removeLast()`:\n",
    "* set `nextLast` to `items.length - 1`\n",
    "* then remove item at index `[nextLast]`\n",
    "\n",
    "If `nextLast = items.length - 1` and we do `addLast()`:\n",
    "* add the element at index `[nextLast]`\n",
    "* Then set `nextLast` to 0"
   ]
  },
  {
   "cell_type": "markdown",
   "metadata": {},
   "source": [
    "## Shrink (Negative Resize)"
   ]
  },
  {
   "cell_type": "markdown",
   "metadata": {},
   "source": [
    "\"For arrays of length 16 or more, your usage factor should always be at least 25%\"\n",
    "\n",
    "After a `removeFirst()` or `removeLast()` operation, if `size` is smaller than $0.25 \\times$ `items.length`, then shrink the list by half of the previous `items.length`"
   ]
  },
  {
   "cell_type": "code",
   "execution_count": null,
   "metadata": {},
   "outputs": [],
   "source": [
    "if (size < items.length * 0.25){\n",
    "    resize((int) items.length / 2);\n",
    "}"
   ]
  },
  {
   "cell_type": "markdown",
   "metadata": {},
   "source": [
    "The `(int)` is a type casting that ensures that the operation `items.length / 2` will come out as an integer."
   ]
  },
  {
   "cell_type": "code",
   "execution_count": null,
   "metadata": {},
   "outputs": [],
   "source": []
  }
 ],
 "metadata": {
  "kernelspec": {
   "display_name": "Python 3",
   "language": "python",
   "name": "python3"
  },
  "language_info": {
   "codemirror_mode": {
    "name": "ipython",
    "version": 3
   },
   "file_extension": ".py",
   "mimetype": "text/x-python",
   "name": "python",
   "nbconvert_exporter": "python",
   "pygments_lexer": "ipython3",
   "version": "3.7.3"
  }
 },
 "nbformat": 4,
 "nbformat_minor": 4
}
