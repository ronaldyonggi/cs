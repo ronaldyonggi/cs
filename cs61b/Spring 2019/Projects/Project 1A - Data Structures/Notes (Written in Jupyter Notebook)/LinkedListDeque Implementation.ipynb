{
 "cells": [
  {
   "cell_type": "markdown",
   "metadata": {},
   "source": [
    "## Implement `LinkedListDeque` class"
   ]
  },
  {
   "cell_type": "markdown",
   "metadata": {},
   "source": [
    "The deque has to be able to take any type of data. In this case, we use generics `<T>`. In this implementation, we'll use circular sentinel."
   ]
  },
  {
   "cell_type": "code",
   "execution_count": null,
   "metadata": {},
   "outputs": [],
   "source": [
    "public class LinkedListDeque<T>{\n",
    "    ... // Everything goes inside here!\n",
    "}"
   ]
  },
  {
   "cell_type": "markdown",
   "metadata": {},
   "source": [
    "### `Node` class"
   ]
  },
  {
   "cell_type": "markdown",
   "metadata": {},
   "source": [
    "A `Node` contains the following:\n",
    "* `prev` = a pointer pointing to the previous Node\n",
    "* `item` = the item contained in a node, can be of any type\n",
    "* `next` = a pointer pointing to the next Node.\n",
    "\n",
    "1. It is a good idea to set the `Node` class `private` rather than `public` to ensure that a `Node` can't be modified by anything other than the provided methods.\n",
    "\n",
    "2. And don't forget to implement the constructor for a `Node`!"
   ]
  },
  {
   "cell_type": "code",
   "execution_count": null,
   "metadata": {},
   "outputs": [],
   "source": [
    "private class Node{\n",
    "    public Node prev; // A pointer that points to the previous Node\n",
    "    public T item; // The item contained in a node\n",
    "    public Node next; // A pointer that points to the next Node\n",
    "    \n",
    "    // Node object constructor\n",
    "    public Node (Node p, T i, Node n) {\n",
    "        prev = p;\n",
    "        item = i;\n",
    "        next= n;\n",
    "    }\n",
    "}"
   ]
  },
  {
   "cell_type": "markdown",
   "metadata": {},
   "source": [
    "### `LinkedListDeque` Instance Variables"
   ]
  },
  {
   "cell_type": "markdown",
   "metadata": {},
   "source": [
    "Every `LinkedListDeque` has these 2 things:\n",
    "* `sentinel` Node\n",
    "* `size`, which is the length of the linked list\n",
    "\n",
    "Similar to `Node` class, it is a good idea to set these 2 things as `private` so that it can't be modified without using the provided methods."
   ]
  },
  {
   "cell_type": "code",
   "execution_count": null,
   "metadata": {},
   "outputs": [],
   "source": [
    "private Node sentinel;\n",
    "private int size;"
   ]
  },
  {
   "cell_type": "markdown",
   "metadata": {},
   "source": [
    "### `LinkedListDeque` Empty Constructor"
   ]
  },
  {
   "cell_type": "markdown",
   "metadata": {},
   "source": [
    "<img src = 'circle.png' width = 700/>"
   ]
  },
  {
   "cell_type": "markdown",
   "metadata": {},
   "source": [
    "As shown by the design above, in the initials state we want the `sentinel` to be circular:\n",
    "* `sentinel.next` is pointing back at `sentinel`\n",
    "* `sentinel.prev` is pointing back at `sentinel`\n",
    "\n",
    "However, BEWARE not to set the `sentinel` as specified above on the same time,"
   ]
  },
  {
   "cell_type": "code",
   "execution_count": null,
   "metadata": {},
   "outputs": [],
   "source": [
    "sentinel = new Node(sentinel, null, sentinel); // THIS IS A MISTAKE!"
   ]
  },
  {
   "cell_type": "markdown",
   "metadata": {},
   "source": [
    "Initially, we haven't assigned the `sentinel` to anything (`sentinel` is still `null`). Therefore, when we execute the line above, the `sentinel.prev` and `sentinel.next` will be set to `null` instead of `sentinel`!\n",
    "\n",
    "Instead, we should set the `sentinel.next` and `sentinel.prev` after we are done initializing the `sentinel`."
   ]
  },
  {
   "cell_type": "code",
   "execution_count": null,
   "metadata": {},
   "outputs": [],
   "source": [
    "public LinkedListDeque(){\n",
    "    sentinel = new Node(null, null, null);\n",
    "    sentinel.next = sentinel;\n",
    "    sentinel.prev = sentinel;\n",
    "    size = 0;\n",
    "}"
   ]
  },
  {
   "cell_type": "markdown",
   "metadata": {},
   "source": [
    "Note above that we set the `sentinel`'s `item` to `null`. Recall that the `item` within `sentinel` doesn't matter. `null` is chosen because `null` can be used for any data types (remember we are using generics)!"
   ]
  },
  {
   "cell_type": "markdown",
   "metadata": {},
   "source": [
    "### `addFirst`"
   ]
  },
  {
   "cell_type": "markdown",
   "metadata": {},
   "source": [
    "One flawed understanding is to think that we can simply \"change\" the `Node` after the `sentinel` to a new `Node`."
   ]
  },
  {
   "cell_type": "code",
   "execution_count": null,
   "metadata": {},
   "outputs": [],
   "source": [
    "public void addFirst(T item) {\n",
    "    sentinel.next = new Node(sentinel, item, sentinel.next);\n",
    "    size++; // Increment the size\n",
    "}"
   ]
  },
  {
   "cell_type": "markdown",
   "metadata": {},
   "source": [
    "Let's say we have the following Deque:\n",
    "\n",
    "`Sentinel <--> 3 <--> 4`\n",
    "\n",
    "...and we want to `addFirst(2)`. By only setting `sentinel.next` as above, we disconnected the circular link.\n",
    "\n",
    "* `Sentinel <--> 2 -> 3`\n",
    "* `Sentinel <- 3 <--> 4`\n",
    "\n",
    "The `.prev` of the `Node` containing 3 is still set to the `sentinel`! \n",
    "\n",
    "Therefore, we want to set `3`'s `prev` as well! Instead of setting the `sentinel.next` as the new `Node` right away, it makes more sense to separately create the new `Node` and assign the `3`'s `prev` and `sentinel.next` with the new `Node`."
   ]
  },
  {
   "cell_type": "code",
   "execution_count": 2,
   "metadata": {},
   "outputs": [
    {
     "ename": "SyntaxError",
     "evalue": "invalid syntax (<ipython-input-2-498168ba42d1>, line 1)",
     "output_type": "error",
     "traceback": [
      "\u001b[0;36m  File \u001b[0;32m\"<ipython-input-2-498168ba42d1>\"\u001b[0;36m, line \u001b[0;32m1\u001b[0m\n\u001b[0;31m    public void addFirst(T item) {\u001b[0m\n\u001b[0m              ^\u001b[0m\n\u001b[0;31mSyntaxError\u001b[0m\u001b[0;31m:\u001b[0m invalid syntax\n"
     ]
    }
   ],
   "source": [
    "public void addFirst(T item) {\n",
    "    Node a = new Node(sentinel, item, sentinel.next);\n",
    "    sentinel.next.prev = a; // Set 3's prev to the new Node\n",
    "    sentinel.next = a; // Set sentinel.next to the new Node\n",
    "    size++; // Increment size\n",
    "}"
   ]
  },
  {
   "cell_type": "markdown",
   "metadata": {},
   "source": [
    "### `addLast`"
   ]
  },
  {
   "cell_type": "markdown",
   "metadata": {},
   "source": [
    "Similar to `addFirst`, we don't want to only set `sentinel.prev`. We want to set both `sentinel.prev.next` and `sentinel.prev`."
   ]
  },
  {
   "cell_type": "code",
   "execution_count": null,
   "metadata": {},
   "outputs": [],
   "source": [
    "public void addLast(T item){\n",
    "    Node a = new Node(sentinel.prev, item, sentinel);\n",
    "    sentinel.prev.next = a;\n",
    "    sentinel.prev = a;\n",
    "    size++;\n",
    "}"
   ]
  },
  {
   "cell_type": "markdown",
   "metadata": {},
   "source": [
    "### `isEmpty()`"
   ]
  },
  {
   "cell_type": "markdown",
   "metadata": {},
   "source": [
    "Simply check whether the `size` instance attribute is 0. If yes, then the deque is considered empty."
   ]
  },
  {
   "cell_type": "code",
   "execution_count": null,
   "metadata": {},
   "outputs": [],
   "source": [
    "public boolean isEmpty(){\n",
    "    return (size == 0);\n",
    "}"
   ]
  },
  {
   "cell_type": "markdown",
   "metadata": {},
   "source": [
    "### `size()`"
   ]
  },
  {
   "cell_type": "markdown",
   "metadata": {},
   "source": [
    "Simply return the value within the instance variable `size`."
   ]
  },
  {
   "cell_type": "code",
   "execution_count": null,
   "metadata": {},
   "outputs": [],
   "source": [
    "public int size() {\n",
    "    return size;\n",
    "}"
   ]
  },
  {
   "cell_type": "markdown",
   "metadata": {},
   "source": [
    "### `removeFirst()`"
   ]
  },
  {
   "cell_type": "markdown",
   "metadata": {},
   "source": [
    "The base case is that if the deque is empty (`size` is 0), then we just return `null`.\n",
    "\n",
    "Otherwise:\n",
    "1. Extract the `item` that's contained by the `Node` next to the `sentinel`\n",
    "2. Adjust the `sentinel.next.prev`\n",
    "3. Adjust the `sentinel.next`\n",
    "4. Decrement `size`\n",
    "5. Return the `item` that was extracted in step #1\n",
    "\n",
    "Once again, a common mistake is to adjust only the `sentinel.next` without adjusting the `sentinel.next.prev` pointer."
   ]
  },
  {
   "cell_type": "code",
   "execution_count": null,
   "metadata": {},
   "outputs": [],
   "source": [
    "public T removeFirst(){\n",
    "    if (isEmpty()) return null;\n",
    "    else {\n",
    "        T result = sentinel.next.item;\n",
    "        Node a = new Node(sentinel, sentinel.next.next.item, sentinel.next.next.next);\n",
    "        sentinel.next.prev = a;\n",
    "        sentinel.next = a;\n",
    "        size--;\n",
    "        return result;\n",
    "    }\n",
    "}"
   ]
  },
  {
   "cell_type": "markdown",
   "metadata": {},
   "source": [
    "### `removeLast()`"
   ]
  },
  {
   "cell_type": "markdown",
   "metadata": {},
   "source": [
    "Similar to `removeFirst()`, the differences are in step 1-3:\n",
    "\n",
    "1. Extract the `item` that's contained bt the `Node` previous of the `sentinel`\n",
    "2. Adjust the `sentinel.prev.next`\n",
    "3. Adjust the `sentinel.prev`\n",
    "\n",
    "A common mistake here is to adjust only `sentinel.prev` without adjusting the `sentinel.prev.next` pointer."
   ]
  },
  {
   "cell_type": "code",
   "execution_count": 3,
   "metadata": {},
   "outputs": [
    {
     "ename": "SyntaxError",
     "evalue": "invalid syntax (<ipython-input-3-fd0831dd867d>, line 1)",
     "output_type": "error",
     "traceback": [
      "\u001b[0;36m  File \u001b[0;32m\"<ipython-input-3-fd0831dd867d>\"\u001b[0;36m, line \u001b[0;32m1\u001b[0m\n\u001b[0;31m    public T removeFirst(){\u001b[0m\n\u001b[0m           ^\u001b[0m\n\u001b[0;31mSyntaxError\u001b[0m\u001b[0;31m:\u001b[0m invalid syntax\n"
     ]
    }
   ],
   "source": [
    "public T removeFirst(){\n",
    "    if (isEmpty()) return null;\n",
    "    else {\n",
    "        T result = sentinel.prev.item;\n",
    "        Node a = new Node(sentinel.prev.prev.prev, sentinel.prev.prev.item, sentinel);\n",
    "        sentinel.prev.next = a;\n",
    "        sentinel.prev = a;\n",
    "        size--;\n",
    "        return result;\n",
    "    }\n",
    "}"
   ]
  },
  {
   "cell_type": "markdown",
   "metadata": {},
   "source": [
    "### `get`"
   ]
  },
  {
   "cell_type": "markdown",
   "metadata": {},
   "source": [
    "Conceptually, we can optimize the `get` function with the idea that: If the desired element is located...\n",
    "* ...after the midpoint of the linked list, then cycle through the elements backwards\n",
    "* ...before the midpoint of the linked list, then cycle forward\n",
    "* ... at the midpoint of the linked list, it doesn't matter if we cycle backwards or forward."
   ]
  },
  {
   "cell_type": "markdown",
   "metadata": {},
   "source": [
    "#### Example #1\n",
    "We have the following linked list:\n",
    "\n",
    "`[Sentinel, 0, 1, 2, 3, 4, 5, 6, 7, 8, 9, 10, 11, 12, 13, 14, 15]`\n",
    "\n",
    "size = 16 (even number)\n",
    "* index 6 -> forward 7 steps, backwards 10 steps\n",
    "* index 7 -> forward 8 steps, backwards 9 steps\n",
    "* index 8 -> forward 9 steps, backwards 8 steps\n",
    "* index 9 -> forward 10 steps, backwards 7 steps"
   ]
  },
  {
   "cell_type": "markdown",
   "metadata": {},
   "source": [
    "#### Example #2\n",
    "\n",
    "`[Sentinel, 0, 1, 2, 3, 4, 5, 6, 7, 8]`\n",
    "\n",
    "size = 9\n",
    "* index 3 -> forward 4 steps, backwards 6 steps\n",
    "* index 4 -> forward 5 steps, backwards 5 steps\n",
    "* index 5 -> forward 6 steps, backwards 4 steps\n",
    "\n",
    "It doesn't matter if the `size` is odd or even. We can implement the method so that if the index is `half of the size or greater`, cycle through the linked list backwards (`9 / 2` is `4` anyway)."
   ]
  },
  {
   "cell_type": "code",
   "execution_count": null,
   "metadata": {},
   "outputs": [],
   "source": [
    "public T get(int index) {\n",
    "    Node pointer = sentinel; // Start a pointer at the sentinel\n",
    "    if (index >= size / 2){ // If the index is equal to greater than half of the size, iterate backwards\n",
    "        for (int i = size - index; i > 0; i--) pointer = pointer.prev;\n",
    "        return pointer.item;\n",
    "    } else { // Otherwise, iterate forward\n",
    "        for (int i = size - index; i > 0; i--) pointer = pointer.next;\n",
    "        return pointer.item;\n",
    "    }\n",
    "}"
   ]
  },
  {
   "cell_type": "markdown",
   "metadata": {},
   "source": [
    "Notice in the `for` loop that we iterates with `int i = size - index` decrementing as long as `i` is greater than 0. In the example of:\n",
    "\n",
    "`[Sentinel, 0, 1, 2, 3, 4, 5, 6, 7, 8]`\n",
    "\n",
    "...`size = 9`, `index` = `4`, then the `for` loop starts with `i = 5`. This means cycle backwards 5 steps from the `sentinel`. We'll see that we ended up with the element `4`, which is the desired element!"
   ]
  },
  {
   "cell_type": "markdown",
   "metadata": {},
   "source": [
    "### `printDeque()`"
   ]
  },
  {
   "cell_type": "markdown",
   "metadata": {},
   "source": [
    "The idea is to initially set a pointer to the `Node` next to `sentinel` (`sentinel.next`), then do a `while` loop:\n",
    "\n",
    "* `While:`We know the `item` within the `sentinel` is `null`, so we cycle through the elements and stops when we encounter an `item` that is `null`, which indicates that we've cycled all the way back to the `sentinel`\n",
    "* Within the `while` loop, do the following:\n",
    "    * Print the `pointer.item`, but convert it to `String` beforehand since it's not guaranteed that the `item` is a `String`\n",
    "    * Print a space\n",
    "    * Cycle through the next `Node`\n",
    "    \n",
    "At the end of the `while` loop, we print a new line."
   ]
  },
  {
   "cell_type": "code",
   "execution_count": null,
   "metadata": {},
   "outputs": [],
   "source": [
    "public void printDeque(){\n",
    "    Node pointer = sentinel.next; // Set the pointer to sentinel.next\n",
    "    while (pointer.item != null) { // As long as the item is not null\n",
    "        System.out.print(pointer.item.toString()); // Convert the item to String then print it\n",
    "        System.out.print(\" \"); // Prints a space\n",
    "        pointer = pointer.next; // Cycle forward to the next Node\n",
    "    }\n",
    "    System.out.println(\"\"); // Once done with the loop, print a new line\n",
    "}"
   ]
  },
  {
   "cell_type": "markdown",
   "metadata": {},
   "source": [
    "### `LinkedListDeque(LinkedListDeque other)`"
   ]
  },
  {
   "cell_type": "markdown",
   "metadata": {},
   "source": [
    "Since this method is a constructor, we need to initiate the circular sentinel structure as done in the empty constructor. Note that we can't just call the the empty constructor within this method; we will get an error if we do this!"
   ]
  },
  {
   "cell_type": "code",
   "execution_count": null,
   "metadata": {},
   "outputs": [],
   "source": [
    "public LinkedListDeque(LinkedListDeque other) {\n",
    "    LinkedListDeque(); // WILL GIVE AN ERROR!\n",
    "    ...\n",
    "}"
   ]
  },
  {
   "cell_type": "markdown",
   "metadata": {},
   "source": [
    "Instead, we manually initiate the circular sentinel structure."
   ]
  },
  {
   "cell_type": "code",
   "execution_count": null,
   "metadata": {},
   "outputs": [],
   "source": [
    "public LinkedListDeque(LinkedListDeque other) {\n",
    "    sentinel = new Node(null, null, null);\n",
    "    sentinel.next = sentinel;\n",
    "    sentinel.prev = sentinel;\n",
    "    size = 0;\n",
    "    ...\n",
    "}"
   ]
  },
  {
   "cell_type": "markdown",
   "metadata": {},
   "source": [
    "...and all that's left is to obtain each of the elements in `other`. We can use the `get` method to obtain elements from `other`, which means we would need to have an integer iterator for the index argument."
   ]
  },
  {
   "cell_type": "code",
   "execution_count": null,
   "metadata": {},
   "outputs": [],
   "source": [
    "for (int i = 0; i < other.size; i++){\n",
    "    addLast((T) other.get(i)); // Use casting!\n",
    "}"
   ]
  },
  {
   "cell_type": "markdown",
   "metadata": {},
   "source": []
  }
 ],
 "metadata": {
  "kernelspec": {
   "display_name": "Python 3",
   "language": "python",
   "name": "python3"
  },
  "language_info": {
   "codemirror_mode": {
    "name": "ipython",
    "version": 3
   },
   "file_extension": ".py",
   "mimetype": "text/x-python",
   "name": "python",
   "nbconvert_exporter": "python",
   "pygments_lexer": "ipython3",
   "version": "3.7.3"
  }
 },
 "nbformat": 4,
 "nbformat_minor": 4
}
