{
 "cells": [
  {
   "cell_type": "markdown",
   "metadata": {},
   "source": [
    "# Task 1 : Deque Interface"
   ]
  },
  {
   "cell_type": "markdown",
   "metadata": {},
   "source": [
    "Create an interface in a new file named `Deque.java` that contains all of the methods that appear in both `ArrayDeque` and `LinkedListDeque`. \n",
    "\n",
    "For `isEmpty()` method, give it a `default` implementation, which returns `true` if the `size()` is `0`. Now that we have this default implementation, we can delete the duplicate implementations inside the 2 concrete classes.\n",
    "\n",
    "Modify `LinkedListDeque` and `ArrayDeque` so that they implement the `Deque` interface."
   ]
  },
  {
   "cell_type": "code",
   "execution_count": null,
   "metadata": {},
   "outputs": [],
   "source": [
    "/**\n",
    " * Deque interface\n",
    " * @author Ronald Yonggi\n",
    " */\n",
    "public interface Deque<T> {\n",
    "    void addFirst (T item);\n",
    "    void addLast (T item);\n",
    "    int size();\n",
    "    T removeFirst();\n",
    "    T removeLast();\n",
    "    T get(int index);\n",
    "\n",
    "    /**\n",
    "     * Checks if the deque is empty\n",
    "     * @return True if empty, False otherwise\n",
    "     */\n",
    "    default boolean isEmpty() {\n",
    "        return (size() == 0);\n",
    "    }\n",
    "\n",
    "}"
   ]
  }
 ],
 "metadata": {
  "kernelspec": {
   "display_name": "Python 3",
   "language": "python",
   "name": "python3"
  },
  "language_info": {
   "codemirror_mode": {
    "name": "ipython",
    "version": 3
   },
   "file_extension": ".py",
   "mimetype": "text/x-python",
   "name": "python",
   "nbconvert_exporter": "python",
   "pygments_lexer": "ipython3",
   "version": "3.7.3"
  }
 },
 "nbformat": 4,
 "nbformat_minor": 4
}
