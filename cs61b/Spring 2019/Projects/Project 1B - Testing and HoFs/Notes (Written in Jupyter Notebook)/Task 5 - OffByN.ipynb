{
 "cells": [
  {
   "cell_type": "markdown",
   "metadata": {},
   "source": [
    "# Task 5 - `OffByN`"
   ]
  },
  {
   "cell_type": "markdown",
   "metadata": {},
   "source": [
    "Implement a class `OffByN`, which should implement the `CharacterComparator` interface as well as a single argument constructor which takes an integer.\n",
    "\n",
    "The callable methods and constructors are:\n",
    "* `OffByN(int N)`\n",
    "    * Creates object whose `equalChars` method return `true` for characters that are off by `N`\n",
    "* `equalChars(char x, char y)`"
   ]
  },
  {
   "cell_type": "markdown",
   "metadata": {},
   "source": [
    "#### Implementation"
   ]
  },
  {
   "cell_type": "markdown",
   "metadata": {},
   "source": [
    "Very similar to `OffByOne` class, but with an additional things to keep in mind:\n",
    "\n",
    "* We need a private variable that keeps track of the offset `N`.\n",
    "* This variable can be set up with a constructor."
   ]
  },
  {
   "cell_type": "code",
   "execution_count": null,
   "metadata": {},
   "outputs": [],
   "source": [
    "public class OffByN implements CharacterComparator {\n",
    "    private int n;\n",
    "\n",
    "    /**\n",
    "     * OffByN Character Comparator constructor\n",
    "     * @param N the offset \n",
    "     */\n",
    "    public OffByN(int N) {\n",
    "        n = N;\n",
    "    }\n",
    "\n",
    "    @Override\n",
    "    public boolean equalChars(char x, char y){\n",
    "        if (x > y) {\n",
    "            return (x - y == n);\n",
    "        } else {\n",
    "            return (y - x == n);\n",
    "        }\n",
    "    }\n",
    "\n",
    "}\n"
   ]
  }
 ],
 "metadata": {
  "kernelspec": {
   "display_name": "Python 3",
   "language": "python",
   "name": "python3"
  },
  "language_info": {
   "codemirror_mode": {
    "name": "ipython",
    "version": 3
   },
   "file_extension": ".py",
   "mimetype": "text/x-python",
   "name": "python",
   "nbconvert_exporter": "python",
   "pygments_lexer": "ipython3",
   "version": "3.7.4"
  }
 },
 "nbformat": 4,
 "nbformat_minor": 4
}
