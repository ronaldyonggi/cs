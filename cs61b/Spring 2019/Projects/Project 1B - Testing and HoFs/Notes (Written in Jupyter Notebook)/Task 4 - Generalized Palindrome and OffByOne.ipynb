{
 "cells": [
  {
   "cell_type": "markdown",
   "metadata": {},
   "source": [
    "# Task 4: Generalized Palindrome and `OffByOne`"
   ]
  },
  {
   "cell_type": "markdown",
   "metadata": {},
   "source": [
    "### Add tests to `TestOffByOne` for the `equalChars` method in the `OffByOne` class."
   ]
  },
  {
   "cell_type": "markdown",
   "metadata": {},
   "source": [
    "The project page provides us with literally what we want."
   ]
  },
  {
   "cell_type": "code",
   "execution_count": null,
   "metadata": {},
   "outputs": [],
   "source": [
    "OffByOne obo = new OffByOne();\n",
    "obo.equalChars('a', 'b');  // true\n",
    "obo.equalChars('r', 'q');  // true\n",
    "\n",
    "obo.equalChars('a', 'e');  // false\n",
    "obo.equalChars('z', 'a');  // false\n",
    "obo.equalChars('a', 'a');  // false"
   ]
  },
  {
   "cell_type": "markdown",
   "metadata": {},
   "source": [
    "The only difference is that in `TestOffByOne.java`, the `CharacterComparator` variable is already determined as `offByOne`."
   ]
  },
  {
   "cell_type": "code",
   "execution_count": null,
   "metadata": {},
   "outputs": [],
   "source": [
    "public class TestOffByOne {\n",
    "    // You must use this CharacterComparator and not instantiate\n",
    "    // new ones, or the autograder might be upset.\n",
    "    static CharacterComparator offByOne = new OffByOne();\n",
    "\n",
    "    // Your tests go here.\n",
    "    @Test\n",
    "    public void testEqualChars() {\n",
    "        assertTrue(offByOne.equalChars('a', 'b')) ;\n",
    "        assertTrue(offByOne.equalChars('r', 'q'));\n",
    "        assertFalse(offByOne.equalChars('a', 'a'));\n",
    "        assertFalse(offByOne.equalChars('z', 'a'));\n",
    "    }\n",
    "}\n"
   ]
  },
  {
   "cell_type": "markdown",
   "metadata": {},
   "source": [
    "### Complete the `equalChars` method and verify that it works"
   ]
  },
  {
   "cell_type": "markdown",
   "metadata": {},
   "source": [
    "Without having to use the `Math` library's `abs` method we can check first which one is greater between `x` and `y`. This way, we can determine who to be subtracted by who."
   ]
  },
  {
   "cell_type": "code",
   "execution_count": null,
   "metadata": {},
   "outputs": [],
   "source": [
    "public boolean equalChars(char x, char y){\n",
    "    if (x > y) {\n",
    "        return (x - y == 1);\n",
    "    } else {\n",
    "        return (y - x == 1);\n",
    "    }\n",
    "}"
   ]
  },
  {
   "cell_type": "markdown",
   "metadata": {},
   "source": [
    "### Add a new method that overloads `isPalindrome`."
   ]
  },
  {
   "cell_type": "markdown",
   "metadata": {},
   "source": [
    "Similar to `isPalindrome`, we compare `removeFirst` and `removeLast` of the word until the size of the word is 1 or less. The only difference is rather than checking if they're equal, we check whether calling `cc`'s `equalChars` on them returns `True`."
   ]
  },
  {
   "cell_type": "code",
   "execution_count": null,
   "metadata": {},
   "outputs": [],
   "source": [
    "public boolean isPalindrome(String word, CharacterComparator cc) {\n",
    "    if (word.length() <= 1) {\n",
    "        return true;\n",
    "    } else {\n",
    "        Deque<Character> wordToCheck = wordToDeque(word);\n",
    "        while (wordToCheck.size() > 1) {\n",
    "            if (!cc.equalChars(wordToCheck.removeFirst(), wordToCheck.removeLast())) {\n",
    "                return false;\n",
    "            }\n",
    "        }\n",
    "    }\n",
    "    return true;\n",
    "}\n"
   ]
  }
 ],
 "metadata": {
  "kernelspec": {
   "display_name": "Python 3",
   "language": "python",
   "name": "python3"
  },
  "language_info": {
   "codemirror_mode": {
    "name": "ipython",
    "version": 3
   },
   "file_extension": ".py",
   "mimetype": "text/x-python",
   "name": "python",
   "nbconvert_exporter": "python",
   "pygments_lexer": "ipython3",
   "version": "3.7.4"
  }
 },
 "nbformat": 4,
 "nbformat_minor": 4
}
