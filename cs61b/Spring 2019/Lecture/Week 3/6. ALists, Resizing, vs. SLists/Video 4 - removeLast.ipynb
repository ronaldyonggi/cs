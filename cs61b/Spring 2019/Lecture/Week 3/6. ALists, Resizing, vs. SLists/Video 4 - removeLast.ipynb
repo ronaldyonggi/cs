{
 "cells": [
  {
   "cell_type": "markdown",
   "metadata": {},
   "source": [
    "![](images/deletion.png)"
   ]
  },
  {
   "cell_type": "markdown",
   "metadata": {},
   "source": [
    "First of all, `size` will decrease. This means if `size` becomes `5`, then the last item in the list should be at index `4`. \n",
    "\n",
    "Do `items` change? If it changes, it means it changes the 64 bit address so that it will point at a new, different array. However, we don't need a totally new array at all!\n",
    "\n",
    "How about `items[i]`? If we decrease `size`, we don't necessarily need to change the item in index `i` back to 0! So we don't need to change `items[i]` either!\n",
    "\n",
    "Thus, all we need is to decrease `size`!"
   ]
  },
  {
   "cell_type": "code",
   "execution_count": null,
   "metadata": {},
   "outputs": [],
   "source": [
    "public int removeLast() {\n",
    "    int x = getLast();\n",
    "    items[size - 1] = 0; // This is unnecessary!\n",
    "    size -= 1;\n",
    "    return x; // Return the integer that we just removed\n",
    "}"
   ]
  }
 ],
 "metadata": {
  "kernelspec": {
   "display_name": "Python 3",
   "language": "python",
   "name": "python3"
  },
  "language_info": {
   "codemirror_mode": {
    "name": "ipython",
    "version": 3
   },
   "file_extension": ".py",
   "mimetype": "text/x-python",
   "name": "python",
   "nbconvert_exporter": "python",
   "pygments_lexer": "ipython3",
   "version": "3.7.5"
  }
 },
 "nbformat": 4,
 "nbformat_minor": 4
}
