{
 "cells": [
  {
   "cell_type": "markdown",
   "metadata": {},
   "source": [
    "## Math Problem Out of Nowhere"
   ]
  },
  {
   "cell_type": "markdown",
   "metadata": {},
   "source": [
    "**Ans**: 500,000\n",
    "\n",
    "#### Explanation\n",
    "\n",
    "* Going from 100 to 101: 101 boxes\n",
    "* From 101 to 102: 102 boxes\n",
    "* ...\n",
    "* ...From 999 to 1000 : 1000 boxes\n",
    "\n",
    "Total array boxes created / copied: 101 + 102 + ... + 1000\n",
    "\n",
    "Mathematically, sum of $$1 + 2 + 3 + ... + N = \\frac{N(N+1)}{2}$$\n",
    "\n",
    "Therefore, $$sum(101, ..., 1000) = sum(1, ..., 1000) - sum(1, ... ,100)$$\n",
    "\n",
    "$$ = \\frac{1000(1001)}{2} - \\frac{100(101)}{2} = 495,450$$"
   ]
  },
  {
   "cell_type": "markdown",
   "metadata": {},
   "source": [
    "## Resizing Slowness"
   ]
  },
  {
   "cell_type": "markdown",
   "metadata": {},
   "source": [
    "![](images/graph.png)"
   ]
  },
  {
   "cell_type": "markdown",
   "metadata": {},
   "source": [
    "With `SLList`, the operations take a constant time since the line is a straight line. By contrast, The `AList` rate of time is increasing parabolically. This implies that as the list gets longer, it takes longer for `AList` operation to complete.\n",
    "\n",
    "With `AList`, inserting 100,000 items requires roughly 5,000,000,000 new containers!\n",
    "\n",
    "In the computation, computers operate at the speed of GHz (due billions of things per second)"
   ]
  }
 ],
 "metadata": {
  "kernelspec": {
   "display_name": "Python 3",
   "language": "python",
   "name": "python3"
  },
  "language_info": {
   "codemirror_mode": {
    "name": "ipython",
    "version": 3
   },
   "file_extension": ".py",
   "mimetype": "text/x-python",
   "name": "python",
   "nbconvert_exporter": "python",
   "pygments_lexer": "ipython3",
   "version": "3.7.5"
  }
 },
 "nbformat": 4,
 "nbformat_minor": 4
}
