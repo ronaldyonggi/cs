{
 "cells": [
  {
   "cell_type": "markdown",
   "metadata": {},
   "source": [
    "# C Level\n",
    "\n",
    "#### Optional Exercise 2.5.1 - Done in Video 2\n",
    "\n",
    "#### Optional Exercise 2.5.2 - Done in Video 4\n",
    "\n",
    "#### Optional Exercise 2.5.3 - Done in Video 5\n",
    "\n",
    "#### Exercise 2.5.4 - Done in Video 6\n",
    "\n",
    "#### Exercise 2.5.5 - Done in Video 7\n",
    "\n",
    "#### Exercise 2.5.6 - Done in Video 7 and 8"
   ]
  },
  {
   "cell_type": "markdown",
   "metadata": {},
   "source": [
    "# B Level\n",
    "\n",
    "## 1.\n",
    "We did not touch upon the method `addFirst` for an `AList`. Think of some of the problems we would experience in writing an `addFirst` method, and think of some potential solutions. \n",
    "\n",
    "#### Answer\n",
    "`addFirst` would be complicated since we would have to shift all the existing elements by 1 so that we can add an element at the beginning. One way of shifting all the existing elements is by using `System.arraycopy`."
   ]
  },
  {
   "cell_type": "code",
   "execution_count": null,
   "metadata": {},
   "outputs": [],
   "source": [
    "// The resize method\n",
    "public void resize(int capacity) {\n",
    "    int[] a = new int[capacity]; // Instead of size + 1, the size of this new array will be an arbitrary capacity\n",
    "    System.arraycopy(items, 0, a, 0, capacity); // Copies the content of the old array to the new array\n",
    "    items = a; // items is now the array that a is pointing at\n",
    "}\n",
    "\n",
    "public void addLast(int x) {\n",
    "    if (size == items.length) { // If the list is full\n",
    "        resize(size+1); // Call the resize method\n",
    "    }\n",
    "    items[size+1] = x; // Add the element to the available empty spot    \n",
    "    size += 1; // Increment size\n",
    "}"
   ]
  },
  {
   "cell_type": "code",
   "execution_count": null,
   "metadata": {},
   "outputs": [],
   "source": [
    "public void addFirst(int x) {\n",
    "    if (size == items.length) {\n",
    "        resize(size + 1);\n",
    "    }\n",
    "    System.arraycopy(items, 0, items, 1, size); // Shift all the elements by 1\n",
    "    item[0] = 1; // add the element at the beginning\n",
    "}"
   ]
  },
  {
   "cell_type": "markdown",
   "metadata": {},
   "source": [
    "## 2. - Done at Video 7 and 8"
   ]
  },
  {
   "cell_type": "markdown",
   "metadata": {},
   "source": []
  }
 ],
 "metadata": {
  "kernelspec": {
   "display_name": "Java",
   "language": "java",
   "name": "java"
  },
  "language_info": {
   "codemirror_mode": "java",
   "file_extension": ".jshell",
   "mimetype": "text/x-java-source",
   "name": "Java",
   "pygments_lexer": "java",
   "version": "12.0.2+10"
  }
 },
 "nbformat": 4,
 "nbformat_minor": 4
}
