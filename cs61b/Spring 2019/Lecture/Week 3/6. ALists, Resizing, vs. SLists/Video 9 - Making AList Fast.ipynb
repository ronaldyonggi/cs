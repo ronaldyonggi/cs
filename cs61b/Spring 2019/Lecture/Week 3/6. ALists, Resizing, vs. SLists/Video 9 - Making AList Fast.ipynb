{
 "cells": [
  {
   "cell_type": "markdown",
   "metadata": {},
   "source": [
    "# Fixing the Resizing Performance Bug"
   ]
  },
  {
   "cell_type": "markdown",
   "metadata": {},
   "source": [
    "Recall that we have the following `resize` implementation,"
   ]
  },
  {
   "cell_type": "code",
   "execution_count": null,
   "metadata": {},
   "outputs": [],
   "source": [
    "private void resize (int capacity) {\n",
    "    int[] a = new int[capacity];\n",
    "    System.arraycopy(items, 0, a, 0, size);\n",
    "    items = a;\n",
    "}\n",
    "\n",
    "public void addLast(int x) {\n",
    "    if (size == items.length) resize (size + 1);\n",
    "    items[size] = x;\n",
    "    size += 1;\n",
    "}"
   ]
  },
  {
   "cell_type": "markdown",
   "metadata": {},
   "source": [
    "And by testing the speed test, it takes forever! How do we improve the `resize` implementation so that it becomes fast?"
   ]
  },
  {
   "cell_type": "markdown",
   "metadata": {},
   "source": [
    "## (Probably) Surprising Fact"
   ]
  },
  {
   "cell_type": "markdown",
   "metadata": {},
   "source": [
    "Geometric resizing is much faster! This is how the Python list is implemented."
   ]
  },
  {
   "cell_type": "code",
   "execution_count": null,
   "metadata": {},
   "outputs": [],
   "source": [
    "public void addLast(int x) {\n",
    "    if (size == items.length) resize(size * RFACTOR); // NOTICE HERE WE MULTIPLY THE NEW SIZE BY A RANDOM FACTOR\n",
    "    items[size] = x;\n",
    "    size += 1;\n",
    "}"
   ]
  },
  {
   "cell_type": "markdown",
   "metadata": {},
   "source": [
    "## Performance Problem #2"
   ]
  },
  {
   "cell_type": "markdown",
   "metadata": {},
   "source": [
    "Suppose we have a very rare situation where we:\n",
    "* Insert 1,000,000,000 items\n",
    "* Then remove 990,000,000 items\n",
    "\n",
    "Our data structure will handle this events as well as it could, but there will be a problem: we're only using about 1 % of the available array! This is a waste of resources!"
   ]
  },
  {
   "cell_type": "markdown",
   "metadata": {},
   "source": [
    "## Memory Efficiency"
   ]
  },
  {
   "cell_type": "markdown",
   "metadata": {},
   "source": [
    "An `AList` should not only be efficient in time, but also efficient in space.\n",
    "\n",
    "One solution is to define `usage ratio R`. Typical solution is half array size when $R < 0.25$\n",
    "\n",
    "$$ R = \\frac{size}{items.length}$$\n",
    "\n",
    "For example, \n",
    "\n",
    "![](images/ratio.png)"
   ]
  },
  {
   "cell_type": "markdown",
   "metadata": {},
   "source": [
    "Above, we have a list of `size = 4` and `items.length = 100`. The usage ratio is $\\frac{4}{100} = 0.04$. At this point, the list shouldn't be resized quite yet!"
   ]
  },
  {
   "cell_type": "markdown",
   "metadata": {},
   "source": []
  },
  {
   "cell_type": "code",
   "execution_count": null,
   "metadata": {},
   "outputs": [],
   "source": []
  }
 ],
 "metadata": {
  "kernelspec": {
   "display_name": "Python 3",
   "language": "python",
   "name": "python3"
  },
  "language_info": {
   "codemirror_mode": {
    "name": "ipython",
    "version": 3
   },
   "file_extension": ".py",
   "mimetype": "text/x-python",
   "name": "python",
   "nbconvert_exporter": "python",
   "pygments_lexer": "ipython3",
   "version": "3.7.5"
  }
 },
 "nbformat": 4,
 "nbformat_minor": 4
}
