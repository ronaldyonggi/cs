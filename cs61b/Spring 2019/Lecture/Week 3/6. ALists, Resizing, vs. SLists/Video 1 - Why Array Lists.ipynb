{
 "cells": [
  {
   "cell_type": "markdown",
   "metadata": {},
   "source": [
    "# A Last Look at Linked Lists"
   ]
  },
  {
   "cell_type": "markdown",
   "metadata": {},
   "source": [
    "## Doubly Linked Lists"
   ]
  },
  {
   "cell_type": "markdown",
   "metadata": {},
   "source": [
    "Through various improvements, we've made all of the following operations fast:\n",
    "\n",
    "![](images/improve.png)"
   ]
  },
  {
   "cell_type": "markdown",
   "metadata": {},
   "source": [
    "If this implementation is already excellent, why bother considering arrays?\n",
    "\n",
    "There are limitations to linked lists."
   ]
  },
  {
   "cell_type": "markdown",
   "metadata": {},
   "source": [
    "## Arbitrary Retrieval"
   ]
  },
  {
   "cell_type": "markdown",
   "metadata": {},
   "source": [
    "Suppose we added a method `get(int i)` that returns the `ith` item from the list.\n",
    "\n",
    "Why would `get` be slow for long lists compared to `getLast()`? For what inputs?\n",
    "\n",
    "**Self Ans**: \n",
    "* For `getLast`, we only need to get 1 element backwards from the sentinel\n",
    "* For `get`, if the desired element is somwehere in the middle of the list, we would need to iterate all the way since there's no faster way of reaching the middle of the list.\n",
    "\n",
    "**Lecture Ans**:\n",
    "* We have to scan to desired position.\n",
    "* Slow for any input `i` that's not near the sentinel node.\n",
    "    * Imagine having a list that's 1 million long and we want the element at `i` = 500,000.\n",
    "    \n",
    "How do we fix this?"
   ]
  },
  {
   "cell_type": "code",
   "execution_count": null,
   "metadata": {},
   "outputs": [],
   "source": []
  }
 ],
 "metadata": {
  "kernelspec": {
   "display_name": "Python 3",
   "language": "python",
   "name": "python3"
  },
  "language_info": {
   "codemirror_mode": {
    "name": "ipython",
    "version": 3
   },
   "file_extension": ".py",
   "mimetype": "text/x-python",
   "name": "python",
   "nbconvert_exporter": "python",
   "pygments_lexer": "ipython3",
   "version": "3.7.5"
  }
 },
 "nbformat": 4,
 "nbformat_minor": 4
}
