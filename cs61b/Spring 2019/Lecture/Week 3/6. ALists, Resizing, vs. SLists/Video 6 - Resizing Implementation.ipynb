{
 "cells": [
  {
   "cell_type": "markdown",
   "metadata": {},
   "source": [
    "We'll update `addLast` so that it incorporates the `resizing` process. From last time, we have the following,"
   ]
  },
  {
   "cell_type": "code",
   "execution_count": null,
   "metadata": {},
   "outputs": [],
   "source": [
    "public void addLast(int x) {\n",
    "    items[size] = x;\n",
    "    size = size + 1;\n",
    "}"
   ]
  },
  {
   "cell_type": "markdown",
   "metadata": {},
   "source": [
    "With `resizing`, it will become the following,"
   ]
  },
  {
   "cell_type": "code",
   "execution_count": null,
   "metadata": {},
   "outputs": [],
   "source": [
    "public void addLast(int x) {\n",
    "    // Resizing section\n",
    "    if (size == items.length){ // If items is full\n",
    "        int[] a = new int[size + 1]; // Creates a new array a with a size of size+1\n",
    "        System.arraycopy(items, 0, a, 0, size); // Copies the content of the old array to the new array\n",
    "        items = a; // items is now the array that a is pointing at\n",
    "    }\n",
    "    items[size+1] = x; // Add the element to the available empty spot    \n",
    "    size += 1; // Increment size\n",
    "}"
   ]
  },
  {
   "cell_type": "markdown",
   "metadata": {},
   "source": [
    "This `resizing` section can actually become its own method. "
   ]
  },
  {
   "cell_type": "code",
   "execution_count": null,
   "metadata": {},
   "outputs": [],
   "source": [
    "// The resize method\n",
    "public void resize(int capacity) {\n",
    "    int[] a = new int[capacity]; // Instead of size + 1, the size of this new array will be an arbitrary capacity\n",
    "    System.arraycopy(items, 0, a, 0, capacity); // Copies the content of the old array to the new array\n",
    "    items = a; // items is now the array that a is pointing at\n",
    "}\n",
    "\n",
    "public void addLast(int x) {\n",
    "    if (size == items.length) { // If the list is full\n",
    "        resize(size+1); // Call the resize method\n",
    "    }\n",
    "    items[size+1] = x; // Add the element to the available empty spot    \n",
    "    size += 1; // Increment size\n",
    "}"
   ]
  },
  {
   "cell_type": "markdown",
   "metadata": {},
   "source": [
    "Separating to 2 separate methods is better since we can test the method separately rather than going through the whole `addLast` process that includes resizing."
   ]
  }
 ],
 "metadata": {
  "kernelspec": {
   "display_name": "Python 3",
   "language": "python",
   "name": "python3"
  },
  "language_info": {
   "codemirror_mode": {
    "name": "ipython",
    "version": 3
   },
   "file_extension": ".py",
   "mimetype": "text/x-python",
   "name": "python",
   "nbconvert_exporter": "python",
   "pygments_lexer": "ipython3",
   "version": "3.7.5"
  }
 },
 "nbformat": 4,
 "nbformat_minor": 4
}
