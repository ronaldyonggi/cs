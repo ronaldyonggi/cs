{
 "cells": [
  {
   "cell_type": "markdown",
   "metadata": {},
   "source": [
    "# Resizing Arrays"
   ]
  },
  {
   "cell_type": "markdown",
   "metadata": {},
   "source": [
    "Looking at the following `AList` design,\n",
    "\n",
    "![](images/limitation.png)"
   ]
  },
  {
   "cell_type": "markdown",
   "metadata": {},
   "source": [
    "We have a limitation: the list can't hold more than 100 items! What happens if we insert an element into the `AList` above? We'll get an error message!\n",
    "\n",
    "We should make the list bigger then. But remember in Java, once we create an array of a particular size, the size can't be changed!\n",
    "\n",
    "What should we do then?"
   ]
  },
  {
   "cell_type": "markdown",
   "metadata": {},
   "source": [
    "## Array Resizing"
   ]
  },
  {
   "cell_type": "markdown",
   "metadata": {},
   "source": [
    "What if when the array is full (`size == items.length`), we want to add an element(e.g. `addLast(11)`)?"
   ]
  },
  {
   "cell_type": "code",
   "execution_count": null,
   "metadata": {},
   "outputs": [],
   "source": [
    "int[] a = new int[size + 1]; // Creates a new array that's 1 size larger than our previous list\n",
    "System.arraycopy(...); // Copy the contents of the previous array to the new array"
   ]
  },
  {
   "cell_type": "markdown",
   "metadata": {},
   "source": [
    "![](images/a.png)\n",
    "\n",
    "We call the 2 steps above `resizing`."
   ]
  },
  {
   "cell_type": "code",
   "execution_count": null,
   "metadata": {},
   "outputs": [],
   "source": [
    "a[size] = 11 // Assign 11 as the last element in the list\n",
    "items = a; size += 1; // Change the pointer of items to the array that a is pointing at. Then increment 'size'\n",
    "// This way, the old array that 'item' was originally pointing at will be destroyed by the garbage collector"
   ]
  },
  {
   "cell_type": "markdown",
   "metadata": {},
   "source": [
    "We call the steps above `resizing`. "
   ]
  }
 ],
 "metadata": {
  "kernelspec": {
   "display_name": "Python 3",
   "language": "python",
   "name": "python3"
  },
  "language_info": {
   "codemirror_mode": {
    "name": "ipython",
    "version": 3
   },
   "file_extension": ".py",
   "mimetype": "text/x-python",
   "name": "python",
   "nbconvert_exporter": "python",
   "pygments_lexer": "ipython3",
   "version": "3.7.5"
  }
 },
 "nbformat": 4,
 "nbformat_minor": 4
}
