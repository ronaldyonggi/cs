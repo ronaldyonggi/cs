{
 "cells": [
  {
   "cell_type": "markdown",
   "metadata": {},
   "source": [
    "# Generic ALists "
   ]
  },
  {
   "cell_type": "markdown",
   "metadata": {},
   "source": [
    "So far we have the following AList implementation,"
   ]
  },
  {
   "cell_type": "code",
   "execution_count": null,
   "metadata": {},
   "outputs": [],
   "source": [
    "public class AList{\n",
    "    private int[] items;\n",
    "    private int size;\n",
    "    \n",
    "    /** AList constructor - creates an empty list */\n",
    "    public AList() {\n",
    "        items = new int[100];\n",
    "        size = 0;\n",
    "    }\n",
    "    \n",
    "    /** Resize the underlying array to the target capacity */\n",
    "    private void resize(int capacity) {\n",
    "        int[] a = new int[capacity];\n",
    "        System.arraycopy(items, 0, a, 0, size);\n",
    "        items = a;\n",
    "    }\n",
    "    \n",
    "    /** Inserts X into the back of the list */\n",
    "    public void addLast(int x) {\n",
    "        // Resizing section\n",
    "        if (size == items.length){ // If items is full\n",
    "            int[] a = new int[size + 1]; // Creates a new array a with a size of size+1\n",
    "            System.arraycopy(items, 0, a, 0, size); // Copies the content of the old array to the new array\n",
    "            items = a; // items is now the array that a is pointing at\n",
    "        }\n",
    "        items[size+1] = x; // Add the element to the available empty spot    \n",
    "        size += 1; // Increment size\n",
    "    }\n",
    "    \n",
    "    /** Inserts X into the back of the list */)\n",
    "    public void addLast(int x) {\n",
    "        if (size == items.length) { // If the list is full\n",
    "            resize(size+1); // Call the resize method\n",
    "        }\n",
    "        items[size+1] = x; // Add the element to the available empty spot    \n",
    "        size += 1; // Increment size\n",
    "    }\n",
    "}"
   ]
  },
  {
   "cell_type": "markdown",
   "metadata": {},
   "source": [
    "With generics, we'll add an `<Item>` and change all the `int` to `Item`"
   ]
  },
  {
   "cell_type": "code",
   "execution_count": null,
   "metadata": {},
   "outputs": [],
   "source": [
    "public class AList<Item> {\n",
    "    private Item[] items;\n",
    "    private int size;\n",
    "    \n",
    "    /** Change the int to Item here too! */\n",
    "    public AList() {\n",
    "        items = new Item[100];\n",
    "        size = 0;\n",
    "    }\n",
    "}"
   ]
  },
  {
   "cell_type": "markdown",
   "metadata": {},
   "source": [
    "However, if we use this implementation, we'll get an error `Item cannot be instantiated directly`. How?\n",
    "\n",
    "In Java, there's a problematic feature: Java doesn't allow arrays of generic objects. Instead of `Item`, we do the following,"
   ]
  },
  {
   "cell_type": "code",
   "execution_count": null,
   "metadata": {},
   "outputs": [],
   "source": [
    "/** AList empty constructor\n",
    "public AList(){\n",
    "    items = (Item[]) new Object[100];\n",
    "    size = 0;\n",
    "}"
   ]
  },
  {
   "cell_type": "markdown",
   "metadata": {},
   "source": [
    "The `(Item[])` is called `cast`. We need to replace all `int` with this `cast`!\n",
    "\n",
    "![](images/comparison.png)"
   ]
  },
  {
   "cell_type": "markdown",
   "metadata": {},
   "source": [
    "When creating an array of references to `Glorps`:\n",
    "* `(Glorp []) new Object[cap];`\n",
    "* ...this will cause a compiler warning that can be ignored\n",
    "\n",
    "Why not just use `new Glorp[cap]`?\n",
    "* Will cause a \"generic array creation\" error"
   ]
  },
  {
   "cell_type": "markdown",
   "metadata": {},
   "source": [
    "## Nulling Out Deleted Items"
   ]
  },
  {
   "cell_type": "markdown",
   "metadata": {},
   "source": [
    "Unlike integer-based ALists, with generics we want to null out deleted items.\n",
    "* Java only destroys unwanted objects when the last reference has been lost\n",
    "* Keeping references to unneeded objects is sometimes called loitering. This wastes memory\n",
    "* Save memory. Don't loiter.\n",
    "\n",
    "Previously with `int` we have the following,"
   ]
  },
  {
   "cell_type": "code",
   "execution_count": null,
   "metadata": {},
   "outputs": [],
   "source": [
    "public int removeLast() {\n",
    "    int x = getLast();\n",
    "    items[size - 1] = 0; // This is unnecessary!\n",
    "    size -= 1;\n",
    "    return x; // Return the integer that we just removed\n",
    "}"
   ]
  },
  {
   "cell_type": "markdown",
   "metadata": {},
   "source": [
    "Now with generics,"
   ]
  },
  {
   "cell_type": "code",
   "execution_count": null,
   "metadata": {},
   "outputs": [],
   "source": [
    "public Item removeLast() {\n",
    "    Item x = getLast();\n",
    "    items[size - 1] = null; // Now it's necessary!\n",
    "    size = size - 1;\n",
    "    return x;\n",
    "}"
   ]
  },
  {
   "cell_type": "markdown",
   "metadata": {},
   "source": [
    "## Loitering Example"
   ]
  },
  {
   "cell_type": "markdown",
   "metadata": {},
   "source": [
    "Imagine the ArrayLists contain a reference to images of loitering signs with huge memory size each. "
   ]
  },
  {
   "cell_type": "markdown",
   "metadata": {},
   "source": [
    "![](images/loiter1.png)"
   ]
  },
  {
   "cell_type": "markdown",
   "metadata": {},
   "source": [
    "Reducing the `size` to 2 yields a correct AList,\n",
    "* But the memory is wasted storing a reference to the red sign image\n",
    "\n",
    "![](images/loiter2.png)"
   ]
  },
  {
   "cell_type": "markdown",
   "metadata": {},
   "source": [
    "By nulling out `items[2]`, Java can destroy the unneeded image from memory."
   ]
  },
  {
   "cell_type": "markdown",
   "metadata": {},
   "source": [
    "![](images/loiter3.png)"
   ]
  },
  {
   "cell_type": "markdown",
   "metadata": {},
   "source": []
  },
  {
   "cell_type": "code",
   "execution_count": null,
   "metadata": {},
   "outputs": [],
   "source": [
    "[null, null, null, null]\n",
    "nextFirst = 3\n",
    "size = 0\n",
    "\n",
    "addLast(2) --> [2, null, null, null]\n",
    "nextFirst = 3\n",
    "size = 1\n",
    "\n",
    "addFirst(1) --> [2, null, null, 1]\n",
    "nextFirst = 2\n",
    "size = 2"
   ]
  }
 ],
 "metadata": {
  "kernelspec": {
   "display_name": "Python 3",
   "language": "python",
   "name": "python3"
  },
  "language_info": {
   "codemirror_mode": {
    "name": "ipython",
    "version": 3
   },
   "file_extension": ".py",
   "mimetype": "text/x-python",
   "name": "python",
   "nbconvert_exporter": "python",
   "pygments_lexer": "ipython3",
   "version": "3.7.4"
  }
 },
 "nbformat": 4,
 "nbformat_minor": 4
}
