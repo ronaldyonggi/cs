{
 "cells": [
  {
   "cell_type": "markdown",
   "metadata": {},
   "source": [
    "## Interface Inheritance"
   ]
  },
  {
   "cell_type": "markdown",
   "metadata": {},
   "source": [
    "There are multiple ways to specify hyponym-hypernym relationship. What we've done so far is one way called `Interface Inheritance`. \n",
    "\n",
    "Specifying the capabilities of a subclass using the `implements` keyword is known as `interface inheritance`.\n",
    "\n",
    "* `Interface`: the list of all method signatures\n",
    "* `Inheritance`: the subclass `inherits` the interface from a superclass\n",
    "* Specifies what the subclass can do, but not how\n",
    "* Subclasses **must** override all of these methods\n",
    "    * Otherwise, will fail to compile\n",
    "    \n",
    "\n",
    "For example, let's say in `List61B` interface, we added a new method,"
   ]
  },
  {
   "cell_type": "code",
   "execution_count": null,
   "metadata": {},
   "outputs": [],
   "source": [
    "public interface List61B<Item>{\n",
    "    ...\n",
    "    public void proo();\n",
    "}"
   ]
  },
  {
   "cell_type": "markdown",
   "metadata": {},
   "source": [
    "If we go back to our `AList` or `SLList` class, we'll see that they can't be compiled!\n",
    "\n",
    "![](images/error.png)\n",
    "\n",
    "![](images/dont.png)"
   ]
  },
  {
   "cell_type": "markdown",
   "metadata": {},
   "source": [
    "Such relationships can be multi-generational:\n",
    "\n",
    "![](images/generational.png)\n",
    "\n",
    "* Interfaces in white, classes in green\n",
    "\n",
    "Interface inheritance is a powerful tool for generalizing code\n",
    "* `WordUtils.longest` works on SLLists, ALists, and even lists that haven't been invented "
   ]
  },
  {
   "cell_type": "markdown",
   "metadata": {},
   "source": [
    "## Copying the Bits"
   ]
  },
  {
   "cell_type": "markdown",
   "metadata": {},
   "source": [
    "2 seemingly contradictory facts:\n",
    "\n",
    "1. When we set `x = y` or pass a parameter, we're just copying the bits\n",
    "2. A memory box can only hold 64 bits addresses for the appropriate type.\n",
    "    * e.g. `String x` can never hold the 64 bit address of a `Dog`\n",
    "    \n",
    "![](images/copy.png)"
   ]
  },
  {
   "cell_type": "markdown",
   "metadata": {},
   "source": [
    "Here we have a `longest` method that's supposed to take a `list` object but i nstead we pass in an `AList` `a1`! How come it still works?"
   ]
  },
  {
   "cell_type": "markdown",
   "metadata": {},
   "source": [
    "#### Answer\n",
    "If `X` is a superclass of `Y`, then memory boxes for `X` may contain `Y`.\n",
    "* An `AList` \"is-a\" `List`\n",
    "* Therefore `List` variables can hold `AList` addresses"
   ]
  },
  {
   "cell_type": "markdown",
   "metadata": {},
   "source": [
    "## Question"
   ]
  },
  {
   "cell_type": "markdown",
   "metadata": {},
   "source": [
    "Will the code below compile? If so, what happens when it runs?\n",
    "\n",
    "1. Will not compile\n",
    "2. Will compile, but will cause an error at runtime on the new line\n",
    "3. When it runs, an `SLList` is created and its address is stored in the `someList` variable\n",
    "    * But it crashes on `someList.addFirst()` since the `List` class doesn't implement `addFirst`\n",
    "4. When it runs, an `SLList` is created and its address is stored in the `someList` variable\n",
    "    * Then the string \"elk\" is inserted into the `SLList` referred to by `addFirst`"
   ]
  },
  {
   "cell_type": "code",
   "execution_count": null,
   "metadata": {},
   "outputs": [],
   "source": [
    "public static void main(String[] args) {\n",
    "    List61B<String> someList = new SLList<String>();\n",
    "    someList.addFirst(\"elk\");\n",
    "}"
   ]
  },
  {
   "cell_type": "markdown",
   "metadata": {},
   "source": [
    "#### Answer\n",
    "\n",
    "`someList` is now referring to an address of a `SLList`, so it goes to the memory box just fine. \n",
    "\n",
    "The `SLList` class overrides the `List61B` `addFirst` method, the `addFirst` line also works just fine!\n",
    "\n",
    "Thus, the answer is #4"
   ]
  }
 ],
 "metadata": {
  "kernelspec": {
   "display_name": "Python 3",
   "language": "python",
   "name": "python3"
  },
  "language_info": {
   "codemirror_mode": {
    "name": "ipython",
    "version": 3
   },
   "file_extension": ".py",
   "mimetype": "text/x-python",
   "name": "python",
   "nbconvert_exporter": "python",
   "pygments_lexer": "ipython3",
   "version": "3.7.5"
  }
 },
 "nbformat": 4,
 "nbformat_minor": 4
}
