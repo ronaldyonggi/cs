{
 "cells": [
  {
   "cell_type": "markdown",
   "metadata": {},
   "source": [
    "## Dynamic Method Selection Puzzle"
   ]
  },
  {
   "cell_type": "markdown",
   "metadata": {},
   "source": [
    "Suppose we have classes defined below. Try to predict the results."
   ]
  },
  {
   "cell_type": "code",
   "execution_count": null,
   "metadata": {},
   "outputs": [],
   "source": [
    "public interface Animal {\n",
    "    default void greet(Animal a) { print (\"hello animal\"); }\n",
    "    default void sniff(Animal a) { print(\"sniff animal\"); }\n",
    "    default void flatter(Animal a) { print(\"u r cool animal\"); }\n",
    "}"
   ]
  },
  {
   "cell_type": "code",
   "execution_count": null,
   "metadata": {},
   "outputs": [],
   "source": [
    "public class Dog implements Animal {\n",
    "    void sniff(Animal a) { print(\"dog sniff animal\");}\n",
    "    void flatter(Dog a) { print(\"u r cool dog\"); }\n",
    "}"
   ]
  },
  {
   "cell_type": "code",
   "execution_count": null,
   "metadata": {},
   "outputs": [],
   "source": [
    "Animal a = new Dog();"
   ]
  },
  {
   "cell_type": "markdown",
   "metadata": {},
   "source": [
    "`a` has a static type `Animal`, dynamic type `Dog`"
   ]
  },
  {
   "cell_type": "code",
   "execution_count": null,
   "metadata": {},
   "outputs": [],
   "source": [
    "Dog d = new Dog();"
   ]
  },
  {
   "cell_type": "markdown",
   "metadata": {},
   "source": [
    "`d` has both static and dynamic type `Dog`"
   ]
  },
  {
   "cell_type": "code",
   "execution_count": null,
   "metadata": {},
   "outputs": [],
   "source": [
    "a.greet(d);\n",
    "// \"hello animal\""
   ]
  },
  {
   "cell_type": "markdown",
   "metadata": {},
   "source": [
    "* `a`'s static type is `Animal`\n",
    "    * So it will use `Animal`'s `greet` method.\n",
    "* `Dog` doesn't have a `greet` method\n",
    "    * No need to worry about dynamic method selection\n",
    "* The signature for `Animal`'s `greet` method is `greet(Animal a)`\n",
    "    * It takes is an `Animal` object, but `Dog` is a hyponym of `Animal` \n",
    "    * Therefore the method will work just fine"
   ]
  },
  {
   "cell_type": "code",
   "execution_count": null,
   "metadata": {},
   "outputs": [],
   "source": [
    "a.sniff(d);\n",
    "// \"dog sniff animal\""
   ]
  },
  {
   "cell_type": "markdown",
   "metadata": {},
   "source": [
    "* `a`'s static type is `Animal`\n",
    "    * But `Dog` has a `sniff` method with the same signature as `Animal`'s. \n",
    "    * The `sniff` method is overridden!\n",
    "* `a`'s dynamic type is `Dog`\n",
    "    * So Java will try to use `Dog`'s `sniff` method.\n",
    "* `Dog` is a hyponym of `Animal`, so the method works fine"
   ]
  },
  {
   "cell_type": "code",
   "execution_count": null,
   "metadata": {},
   "outputs": [],
   "source": [
    "d.flatter(d);\n",
    "// \"u r cool dog\""
   ]
  },
  {
   "cell_type": "markdown",
   "metadata": {},
   "source": [
    "* `d`'s dynamic type is `Dog`\n",
    "    * Java will use `Dog`'s `flatter` method"
   ]
  },
  {
   "cell_type": "code",
   "execution_count": null,
   "metadata": {},
   "outputs": [],
   "source": [
    "a.flatter(d);\n",
    "// \"u r cool animal\""
   ]
  },
  {
   "cell_type": "markdown",
   "metadata": {},
   "source": [
    "### BE VERY VERY CAREFUL WITH THIS ONE\n",
    "\n",
    "Notice that `Animal`'s `flatter` method and `Dog`'s `flatter` method DO NOT HAVE THE SAME SIGNATURE\n",
    "* `Animal`'s takes `Animal` object\n",
    "* `Dog`'s take `Dog` object\n",
    "\n",
    "And recall for overriding a method, we need to have the EXACT SAME SIGNATURE\n",
    "* Thus, `flatter` is not overridden, but overloaded"
   ]
  },
  {
   "cell_type": "markdown",
   "metadata": {},
   "source": [
    "## The Method Selection Algorithm"
   ]
  },
  {
   "cell_type": "markdown",
   "metadata": {},
   "source": [
    "Consider the function call `foo.bar(x1)`, where:\n",
    "* `foo` has static type `TPrime`\n",
    "* `x1` has static type `T1`\n",
    "\n",
    "At compile time, the compiler verifies that `TPrime` has a method that can handle `T1`. It then records the signature of this method.\n",
    "\n",
    "Note: if there are mutliple methods that can handle `T1`, the compiler records the \"most specific\" one. For example:\n",
    "* If `T1 = Dog`\n",
    "* `TPrime` has `bar(Dog)` and `bar(Animal)`\n",
    "\n",
    "then the compiler will record `bar(Dog)`.\n",
    "\n",
    "At runtime, if `foo`'s dynamic type overrides the **recorded signature**, use the overridden method. Otherwise, use `TPrime`'s version of the method. "
   ]
  },
  {
   "cell_type": "markdown",
   "metadata": {},
   "source": [
    "## Study Guide Extra Problem"
   ]
  },
  {
   "cell_type": "markdown",
   "metadata": {},
   "source": [
    "Suppose we have the following methods in the same class,"
   ]
  },
  {
   "cell_type": "code",
   "execution_count": null,
   "metadata": {},
   "outputs": [],
   "source": [
    "public static void peek(List61B<String> list) {\n",
    "    System.out.println(list.getLast());\n",
    "}\n",
    "\n",
    "public static void peek(SLList<String> list) {\n",
    "    System.out.println(list.getFirst());\n",
    "}"
   ]
  },
  {
   "cell_type": "markdown",
   "metadata": {},
   "source": [
    "...then we run the following code,"
   ]
  },
  {
   "cell_type": "code",
   "execution_count": null,
   "metadata": {},
   "outputs": [],
   "source": [
    "SLList<String> SP = new SLList<String>();\n",
    "List61B<String> LP = SP;\n",
    "SP.addLast(\"elk\");\n",
    "SP.addLast(\"are\");\n",
    "SP.addLast(\"cool\");"
   ]
  },
  {
   "cell_type": "markdown",
   "metadata": {},
   "source": [
    "Now if we run the following,"
   ]
  },
  {
   "cell_type": "code",
   "execution_count": null,
   "metadata": {},
   "outputs": [],
   "source": [
    "peek(SP);\n",
    "// \"elk\""
   ]
  },
  {
   "cell_type": "markdown",
   "metadata": {},
   "source": [
    "Java will run the `peek` method that takes in `SLList` "
   ]
  },
  {
   "cell_type": "code",
   "execution_count": null,
   "metadata": {},
   "outputs": [],
   "source": [
    "peek(LP);\n",
    "// \"cool\""
   ]
  },
  {
   "cell_type": "markdown",
   "metadata": {},
   "source": [
    "This time, Java runs the `peek` method that takes in `List61B`.\n",
    "\n",
    "This is because the only distinction between the 2 overloaded methods is the types of the parameters.\n",
    "* In overloading case, Java checks the `static` type and calls the method with the parameter of the same type."
   ]
  },
  {
   "cell_type": "code",
   "execution_count": null,
   "metadata": {},
   "outputs": [],
   "source": []
  }
 ],
 "metadata": {
  "kernelspec": {
   "display_name": "Python 3",
   "language": "python",
   "name": "python3"
  },
  "language_info": {
   "codemirror_mode": {
    "name": "ipython",
    "version": 3
   },
   "file_extension": ".py",
   "mimetype": "text/x-python",
   "name": "python",
   "nbconvert_exporter": "python",
   "pygments_lexer": "ipython3",
   "version": "3.7.5"
  }
 },
 "nbformat": 4,
 "nbformat_minor": 4
}
