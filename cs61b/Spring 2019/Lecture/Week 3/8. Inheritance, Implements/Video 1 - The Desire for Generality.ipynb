{
 "cells": [
  {
   "cell_type": "markdown",
   "metadata": {},
   "source": [
    "## AList and SList"
   ]
  },
  {
   "cell_type": "markdown",
   "metadata": {},
   "source": [
    "Let's consider the AList and SList classes that we've build over the last few lectures.\n",
    "\n",
    "After adding the `insert` methods from discussion 3, our AList and SLList classes have the following methods (exact same method signatures for both classes)"
   ]
  },
  {
   "cell_type": "code",
   "execution_count": null,
   "metadata": {},
   "outputs": [],
   "source": [
    "public class AList<Item>{\n",
    "    public AList()\n",
    "    public void insert(Item x, int position)\n",
    "    public void addFirst(Item x)\n",
    "    public void addLast(Item i)\n",
    "    public Item getFirst()\n",
    "    public Item getLast()\n",
    "    public Item get(int i)\n",
    "    public int size()\n",
    "    public Item removeLast()\n",
    "}"
   ]
  },
  {
   "cell_type": "code",
   "execution_count": null,
   "metadata": {},
   "outputs": [],
   "source": [
    "public class SLList<Blorp>{\n",
    "    public SLList()\n",
    "    public SLList(Blorp x)\n",
    "    public void insert(Blorp item, int position)\n",
    "    public void addFirst(Blorp x)\n",
    "    public void addLast(Blorp x)\n",
    "    public Blorp getFirst()\n",
    "    public Blorp getLast()\n",
    "    public Blorp get(int i)\n",
    "    public int size()\n",
    "    public Blorp removeLast()\n",
    "}"
   ]
  },
  {
   "cell_type": "markdown",
   "metadata": {},
   "source": [
    "## Using ALists and SLists: `WordUtils.java`"
   ]
  },
  {
   "cell_type": "markdown",
   "metadata": {},
   "source": [
    "Suppose we're writing a library to manipulate lists of words. Might want to write a function that finds the longest word from a list of words.\n",
    "\n",
    "(Note: This code is very inefficient!)"
   ]
  },
  {
   "cell_type": "code",
   "execution_count": null,
   "metadata": {},
   "outputs": [],
   "source": [
    "public static String Longest(SLList<String> list) {\n",
    "    int maxDex = 0;\n",
    "    for (int i = 0; i < list.size(); i ++) {\n",
    "        String longestString = list.get(maxDex);\n",
    "        String thisString = list.get(i);\n",
    "        if (thisString.length() > longe stString.length()) {\n",
    "            maxDex = i;\n",
    "        }\n",
    "    }\n",
    "    return list.get(maxDex);\n",
    "}"
   ]
  },
  {
   "cell_type": "markdown",
   "metadata": {},
   "source": [
    "If we look at the whole code,"
   ]
  },
  {
   "cell_type": "code",
   "execution_count": null,
   "metadata": {},
   "outputs": [],
   "source": [
    "public class WordUtils {\n",
    "   /** Returns the length of the longest word. */\n",
    "   public static String longest(SLList <String> list) {\n",
    "      int maxDex = 0;\n",
    "      for (int i = 0; i < list.size(); i += 1) {\n",
    "         String longestString = list.get(maxDex);\n",
    "         String thisString = list.get(i);\n",
    "         if (thisString.length() > longestString.length()) {\n",
    "            maxDex = i;\n",
    "         }\n",
    "      }\n",
    "      return list.get(maxDex);\n",
    "   }\n",
    "\n",
    "    public static void main(String[] args) {\n",
    "     SLList <String> someList = new SLList<>();\n",
    "     someList.addLast(\"elk\");\n",
    "     someList.addLast(\"are\");\n",
    "     someList.addLast(\"watching\");\n",
    "     System.out.println(longest(someList));\n",
    "  }\n"
   ]
  },
  {
   "cell_type": "markdown",
   "metadata": {},
   "source": [
    "If we run the program, we'll obtain the word `\"watching\"` since it's the longest word in the list. \n",
    "\n",
    "Now suppose we also want our program to be able to handle ALists. What should we change?"
   ]
  },
  {
   "cell_type": "code",
   "execution_count": null,
   "metadata": {},
   "outputs": [],
   "source": [
    "\n",
    "public static String longest(AList <String> list) { // Simply change from SLList to AList\n",
    "    //...\n",
    "}\n",
    "\n",
    "public static void main(String[] args) {\n",
    "    AList<String> someList = new AList<>(); // And change here too!\n",
    "}\n"
   ]
  },
  {
   "cell_type": "markdown",
   "metadata": {},
   "source": [
    "It works, but it gets annoying if we have to change the data back and forth.\n",
    "\n",
    "One solution is to repeat the method but one with AList and the other with SLList,"
   ]
  },
  {
   "cell_type": "code",
   "execution_count": null,
   "metadata": {},
   "outputs": [],
   "source": [
    "public static String Longest(SLList<String> list) {\n",
    "    /..\n",
    "}\n",
    "\n",
    "public static String Longest(AList<String> list) {\n",
    "    /..\n",
    "}"
   ]
  },
  {
   "cell_type": "markdown",
   "metadata": {},
   "source": [
    "## Method Overloading in Java"
   ]
  },
  {
   "cell_type": "markdown",
   "metadata": {},
   "source": [
    "Java allows multiple methods with same name, but different parameters. This is called method `overloading`."
   ]
  },
  {
   "cell_type": "markdown",
   "metadata": {},
   "source": [
    "## The Downsides"
   ]
  },
  {
   "cell_type": "markdown",
   "metadata": {},
   "source": [
    "While overloading works, it's a bad idea. Why?\n",
    "1. Our source code files become unneccessarily long\n",
    "2. Repeating yourself\n",
    "3. More code to maintain\n",
    "    * Any change made to one must be made to another\n",
    "    * Including bug fixes!\n",
    "        * A common mistake in large project is that we have 2 or more different methods that are similar (and therefore similar bugs), and we only track down the bug in one of them\n",
    "4. Suppose we make another type of list, we'll need yet another identical method\n",
    "\n",
    "This lecture will be about how to deal with this issue in a more effective fashion"
   ]
  },
  {
   "cell_type": "code",
   "execution_count": null,
   "metadata": {},
   "outputs": [],
   "source": []
  }
 ],
 "metadata": {
  "kernelspec": {
   "display_name": "Python 3",
   "language": "python",
   "name": "python3"
  },
  "language_info": {
   "codemirror_mode": {
    "name": "ipython",
    "version": 3
   },
   "file_extension": ".py",
   "mimetype": "text/x-python",
   "name": "python",
   "nbconvert_exporter": "python",
   "pygments_lexer": "ipython3",
   "version": "3.7.5"
  }
 },
 "nbformat": 4,
 "nbformat_minor": 4
}
