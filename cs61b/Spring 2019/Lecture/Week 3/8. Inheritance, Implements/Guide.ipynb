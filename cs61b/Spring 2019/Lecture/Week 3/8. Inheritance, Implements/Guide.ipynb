{
 "cells": [
  {
   "cell_type": "markdown",
   "metadata": {},
   "source": [
    "# A Level\n",
    "\n",
    "### 4. Flirbocon"
   ]
  },
  {
   "cell_type": "code",
   "execution_count": null,
   "metadata": {},
   "outputs": [],
   "source": [
    "// Assume that Falcon extends Bird\n",
    "Bird bird = new Falcon();\n",
    "// The static type of bird is a Bird\n",
    "// The dynamic type of bird is Falcon\n",
    "\n",
    "Falcon falcon = (Falcon) bird;\n",
    "// The static type of falcon is a Falcon\n",
    "// The dynamic type of falcon is a Falcon"
   ]
  },
  {
   "cell_type": "code",
   "execution_count": null,
   "metadata": {},
   "outputs": [],
   "source": [
    "/** F1 */\n",
    "public class Bird{\n",
    "    public void gulgate(Bird);\n",
    "}"
   ]
  },
  {
   "cell_type": "code",
   "execution_count": null,
   "metadata": {},
   "outputs": [],
   "source": [
    "/** F2 */\n",
    "public class Bird{\n",
    "    public void gulgate(Falcon);\n",
    "}"
   ]
  },
  {
   "cell_type": "code",
   "execution_count": null,
   "metadata": {},
   "outputs": [],
   "source": [
    "/** F3 */\n",
    "public class Falcon extends Bird{\n",
    "    public void gulgate(Bird);\n",
    "}"
   ]
  },
  {
   "cell_type": "code",
   "execution_count": null,
   "metadata": {},
   "outputs": [],
   "source": [
    "/** F4 */\n",
    "public class Falcon extends Bird{\n",
    "    public void gulgate(Falcon);\n",
    "}"
   ]
  }
 ],
 "metadata": {
  "kernelspec": {
   "display_name": "Java",
   "language": "java",
   "name": "java"
  },
  "language_info": {
   "codemirror_mode": "java",
   "file_extension": ".jshell",
   "mimetype": "text/x-java-source",
   "name": "Java",
   "pygments_lexer": "java",
   "version": "12.0.2+10"
  }
 },
 "nbformat": 4,
 "nbformat_minor": 4
}
