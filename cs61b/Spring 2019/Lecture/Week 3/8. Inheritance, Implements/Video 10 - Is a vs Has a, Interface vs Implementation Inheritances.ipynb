{
 "cells": [
  {
   "cell_type": "markdown",
   "metadata": {},
   "source": [
    "## Interface vs. Implementation Inheritance"
   ]
  },
  {
   "cell_type": "markdown",
   "metadata": {},
   "source": [
    "Interface Inheritance (what):\n",
    "* Allows us to generalize code in a powerful, simple way\n",
    "\n",
    "Implementation Inheritance (how):\n",
    "* Allows code-reuse\n",
    "    * Subclasses can rely on superclasses or interfaces\n",
    "* Example: `print()` implemented in `List61B.java`\n",
    "* Gives another dimension of control to subclass designers:\n",
    "    * Can decide whether or not to override default implementations\n",
    "    \n",
    "**Important**: in both cases, we should specify \"is-a\" relationships, not \"has-a\"\n",
    "* Good:\n",
    "    * `Dog` implements `Animal`\n",
    "    * `SLList` implements `List61B`\n",
    "* Bad: \n",
    "    * `Cat` implements `Claw`\n",
    "    * `Set` implements `SLList`\n",
    "        * `Set` is a collection of unique objects (no duplicates)\n",
    "        * If we call `addFirst(\"potato\")` 3 times, there can only be one \"potato\"\n",
    "        * We will be tempted to override `SLList`'s method to capture that \"no duplicates\" behavior"
   ]
  },
  {
   "cell_type": "markdown",
   "metadata": {},
   "source": [
    "## The Dangers of Implementation Inheritance"
   ]
  },
  {
   "cell_type": "markdown",
   "metadata": {},
   "source": [
    "* Makes it harder to keep track of where something was actually implemented\n",
    "    * A good IDE makes this better\n",
    "* Rules of resolving conflics can be arcane (not covered in 61B)\n",
    "    * Example: What if 2 interfaces both give conflicting default methods?\n",
    "* Encourages overly complex code (especially with novices)\n",
    "    * Common mistake: Has-a vs. Is-a\n",
    "* Breaks encapsulation"
   ]
  }
 ],
 "metadata": {
  "kernelspec": {
   "display_name": "Python 3",
   "language": "python",
   "name": "python3"
  },
  "language_info": {
   "codemirror_mode": {
    "name": "ipython",
    "version": 3
   },
   "file_extension": ".py",
   "mimetype": "text/x-python",
   "name": "python",
   "nbconvert_exporter": "python",
   "pygments_lexer": "ipython3",
   "version": "3.7.5"
  }
 },
 "nbformat": 4,
 "nbformat_minor": 4
}
