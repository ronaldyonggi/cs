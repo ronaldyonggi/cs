{
 "cells": [
  {
   "cell_type": "markdown",
   "metadata": {},
   "source": [
    "## Simple Hyponymic Relationships in Java"
   ]
  },
  {
   "cell_type": "markdown",
   "metadata": {},
   "source": [
    "Turns out Java has the ability to capture the hypernym-hyponym relationship between classes. \n",
    "\n",
    "SLLists and ALists are both some kind of \"list\".\n",
    "* List is a hypernym of SLList and AList\n",
    "\n",
    "Expressing this in Java is a 2-step process:\n",
    "1. Define a reference type for our hypernym (`List61B.java`)\n",
    "    * Recall in Java there are primitive types (`int`, `short`, `long`, `double`)\n",
    "    * Reference type is everything else\n",
    "    * In this case, we're going to define a reference type called `List61B`\n",
    "2. Specify that SLLists and ALists are hyponyms of that type\n",
    "\n",
    "![](images/list61b.png)"
   ]
  },
  {
   "cell_type": "markdown",
   "metadata": {},
   "source": [
    "## Step 1: Defining a `List61B`"
   ]
  },
  {
   "cell_type": "markdown",
   "metadata": {},
   "source": [
    "We'll use the new keyword `interface` instead of `class` to define a `List61B`.\n",
    "* `Interface` is a specification of what a List is able to do, not how to do it"
   ]
  },
  {
   "cell_type": "code",
   "execution_count": null,
   "metadata": {},
   "outputs": [],
   "source": [
    "public interface List61B<Item> {\n",
    "    public void addFirst(Item x);\n",
    "    public void addLast(Item x);\n",
    "    public Item getFirst();\n",
    "    public Item getLast();\n",
    "    public Item removeLast();\n",
    "    public Item get(int i);\n",
    "    public void insert(Item x, int position);\n",
    "    public int size();\n",
    "}"
   ]
  },
  {
   "cell_type": "markdown",
   "metadata": {},
   "source": [
    "## Step 2: Implementing the List61B Interface"
   ]
  },
  {
   "cell_type": "markdown",
   "metadata": {},
   "source": [
    "We'll now use the `implements` keyword to tell the Java compiler that SLList and AList are hyponyms of List61B."
   ]
  },
  {
   "cell_type": "code",
   "execution_count": null,
   "metadata": {},
   "outputs": [],
   "source": [
    "public class AList<Item> implements List61B<Item> {\n",
    "    ...\n",
    "    public void addLast(Item x){\n",
    "        ...\n",
    "    }\n",
    "}"
   ]
  },
  {
   "cell_type": "code",
   "execution_count": null,
   "metadata": {},
   "outputs": [],
   "source": [
    "public class SLList <Item> implements List61B<item> {\n",
    "    ... \n",
    "}"
   ]
  },
  {
   "cell_type": "markdown",
   "metadata": {},
   "source": [
    "So what's next? Recall the `longest` method that returns the longest word in a list. Now rather than switching back and forth between `AList` and `SLList`, we can just specify it as `List61B`."
   ]
  },
  {
   "cell_type": "code",
   "execution_count": null,
   "metadata": {},
   "outputs": [],
   "source": [
    "public class WordUtils{\n",
    "    public static String longest(List61B<String> list) {\n",
    "        ...\n",
    "    }\n",
    "    \n",
    "    public static void main(String[] args){\n",
    "        SLList <String> someList = new SLList<> (); // We can switch SLList to AList or any other list we want as long as\n",
    "        // it's a hyponym of List61B\n",
    "        ...\n",
    "    }\n",
    "}"
   ]
  }
 ],
 "metadata": {
  "kernelspec": {
   "display_name": "Python 3",
   "language": "python",
   "name": "python3"
  },
  "language_info": {
   "codemirror_mode": {
    "name": "ipython",
    "version": 3
   },
   "file_extension": ".py",
   "mimetype": "text/x-python",
   "name": "python",
   "nbconvert_exporter": "python",
   "pygments_lexer": "ipython3",
   "version": "3.7.5"
  }
 },
 "nbformat": 4,
 "nbformat_minor": 4
}
