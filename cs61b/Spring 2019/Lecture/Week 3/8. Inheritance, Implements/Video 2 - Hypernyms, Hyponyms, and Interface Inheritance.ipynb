{
 "cells": [
  {
   "cell_type": "markdown",
   "metadata": {},
   "source": [
    "## Hypernyms"
   ]
  },
  {
   "cell_type": "markdown",
   "metadata": {},
   "source": [
    "Suppose we have a step-by-step direction of washing a poodle.\n",
    "\n",
    "1. Brush poodble before a bath\n",
    "2. Use lukewarm water\n",
    "3. Talk to poodle in a calm voice\n",
    "4. Use poodle shampoo\n",
    "5. Rinse well\n",
    "6. Air-dry\n",
    "7. Reward poodle\n",
    "\n",
    "Now it turns out that direction to wash a malamute is identical!\n",
    "\n",
    "1. Brush malamute before a bath\n",
    "2. Use lukewarm water\n",
    "3. Talk to malamute in a calm voice\n",
    "4. Use malamute shampoo\n",
    "5. Rinse well\n",
    "6. Air-dry\n",
    "7. Reward malamute\n",
    "\n",
    "In natural languages (English, Spanish, Chinese, Tagalog, etc.) we have a concept known as `hypernym` to deal with this problem.\n",
    "* \"Dog\" is a `hypernym` of poodle, malamute, yorkie, etc.\n",
    "\n",
    "Once have a `hypernym`, we can combine the directions of washing a `Dog`!\n",
    "\n",
    "1. Brush dog before a bath\n",
    "2. Use lukewarm water\n",
    "3. Talk to dog in a calm voice\n",
    "4. Use dog shampoo\n",
    "5. Rinse well\n",
    "6. Air-dry\n",
    "7. Reward dog"
   ]
  },
  {
   "cell_type": "markdown",
   "metadata": {},
   "source": [
    "## Hypernym and Hyponym"
   ]
  },
  {
   "cell_type": "markdown",
   "metadata": {},
   "source": [
    "We use the word hyponym for the opposite type of relationship.\n",
    "* \"dog\": Hypernym of \"poodle\", \"malamute\", \"daschund\", etc.\n",
    "* \"poodle\": Hyponym of \"dog\"\n",
    "\n",
    "Hypernyms and hyponyms comprise a hierarchy\n",
    "* A dog \"is-a\" canine\n",
    "* A canine \"is-a\" carnivore\n",
    "* A carnivore \"is-an\" animal\n",
    "\n",
    "![](images/hierarchy.png)"
   ]
  },
  {
   "cell_type": "code",
   "execution_count": null,
   "metadata": {},
   "outputs": [],
   "source": []
  },
  {
   "cell_type": "code",
   "execution_count": null,
   "metadata": {},
   "outputs": [],
   "source": []
  },
  {
   "cell_type": "code",
   "execution_count": null,
   "metadata": {},
   "outputs": [],
   "source": []
  }
 ],
 "metadata": {
  "kernelspec": {
   "display_name": "Python 3",
   "language": "python",
   "name": "python3"
  },
  "language_info": {
   "codemirror_mode": {
    "name": "ipython",
    "version": 3
   },
   "file_extension": ".py",
   "mimetype": "text/x-python",
   "name": "python",
   "nbconvert_exporter": "python",
   "pygments_lexer": "ipython3",
   "version": "3.7.5"
  }
 },
 "nbformat": 4,
 "nbformat_minor": 4
}
