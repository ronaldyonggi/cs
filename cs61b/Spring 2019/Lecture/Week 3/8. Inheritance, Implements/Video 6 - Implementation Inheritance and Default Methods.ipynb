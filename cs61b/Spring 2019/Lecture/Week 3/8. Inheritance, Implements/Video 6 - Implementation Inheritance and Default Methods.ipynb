{
 "cells": [
  {
   "cell_type": "markdown",
   "metadata": {},
   "source": [
    "# Implementation Inheritance: Default Methods"
   ]
  },
  {
   "cell_type": "markdown",
   "metadata": {},
   "source": [
    "## Implementation Inheritance"
   ]
  },
  {
   "cell_type": "markdown",
   "metadata": {},
   "source": [
    "In interface inheritance, subclass inherits signatures, but not implementation.\n",
    "* In `List61B.java`, we see that there are many methods signature, but no implementation (no `{}` contents)\n",
    "\n",
    "For better or worse, Java also allows `implementation inheritance`.\n",
    "* Subclasses can inherit signatures and implementation\n",
    "\n",
    "Use the `default` keyword to specify a method that subclasses should inherit from an `interface`.\n",
    "* Example: Lets add a `default` `print()` method into `List61b.java`\n",
    "\n",
    "When we're about to write the `print` method, we might be confused at first since we don't know whether this is an array list or a linked list. The key is to use the methods that are already available. Any class that implements the `List61B` interface will also implement these methods."
   ]
  },
  {
   "cell_type": "code",
   "execution_count": null,
   "metadata": {},
   "outputs": [],
   "source": [
    "public interface List61B<Item> {\n",
    "        public void insert(Item x, int position);\n",
    "        public void addFirst(Item x);\n",
    "        public void addLast(Item x);\n",
    "        public Item getFirst();\n",
    "        public Item getLast();\n",
    "        public Item get(int i);\n",
    "        public int size();\n",
    "        public Item removeLast();\n",
    "}"
   ]
  },
  {
   "cell_type": "markdown",
   "metadata": {},
   "source": [
    "In this case, we can use the `get` and  `size` method for the `print` method,"
   ]
  },
  {
   "cell_type": "code",
   "execution_count": null,
   "metadata": {},
   "outputs": [],
   "source": [
    "public interface List61B<Item> {\n",
    "    ...\n",
    "    default public void print() {\n",
    "        for (int i = 0; i < size(); i += i) {\n",
    "            System.out.print(get(i) + \" \")\n",
    "        }\n",
    "    }\n",
    "}"
   ]
  },
  {
   "cell_type": "markdown",
   "metadata": {},
   "source": [
    "Now try running the code in `IsADemo.java`!"
   ]
  },
  {
   "cell_type": "code",
   "execution_count": null,
   "metadata": {},
   "outputs": [],
   "source": [
    "public class IsADemo {\n",
    "    public static void main(String[] args) {\n",
    "        List61B<String> someList = new SLList<>();\n",
    "        someList.addFirst(\"elk\");\n",
    "        someList.addLast(\"dwell\");\n",
    "        someList.addLast(\"on\");\n",
    "        someList.addLast(\"existential\");\n",
    "        someList.addLast(\"crises\");\n",
    "        someList.print();\n",
    "    }\n",
    "}"
   ]
  },
  {
   "cell_type": "markdown",
   "metadata": {},
   "source": [
    "The `print` method will work just fine!"
   ]
  },
  {
   "cell_type": "code",
   "execution_count": null,
   "metadata": {},
   "outputs": [],
   "source": [
    ">>>  elk dwell on existential crises"
   ]
  },
  {
   "cell_type": "markdown",
   "metadata": {},
   "source": [
    "## Question"
   ]
  },
  {
   "cell_type": "markdown",
   "metadata": {},
   "source": [
    "Is the `print()` method efficient?\n",
    "\n",
    "1. Inefficient for AList and SLList\n",
    "2. Efficient for AList, inefficient for SLList\n",
    "3. Inefficient for AList, efficient for SLList\n",
    "4. Efficient for both\n",
    "\n",
    "#### Answer\n",
    "#2. It's inefficient for SLList because with its `get` method, we need to cycle through the list until we obtain the element `ith`"
   ]
  },
  {
   "cell_type": "code",
   "execution_count": null,
   "metadata": {},
   "outputs": [],
   "source": []
  }
 ],
 "metadata": {
  "kernelspec": {
   "display_name": "Python 3",
   "language": "python",
   "name": "python3"
  },
  "language_info": {
   "codemirror_mode": {
    "name": "ipython",
    "version": 3
   },
   "file_extension": ".py",
   "mimetype": "text/x-python",
   "name": "python",
   "nbconvert_exporter": "python",
   "pygments_lexer": "ipython3",
   "version": "3.7.5"
  }
 },
 "nbformat": 4,
 "nbformat_minor": 4
}
