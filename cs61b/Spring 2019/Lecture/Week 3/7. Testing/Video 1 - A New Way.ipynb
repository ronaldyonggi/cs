{
 "cells": [
  {
   "cell_type": "markdown",
   "metadata": {},
   "source": [
    "# How Does a Programmer Know That Their Code Works?"
   ]
  },
  {
   "cell_type": "markdown",
   "metadata": {},
   "source": [
    "What evidence did we have for Project 0?\n",
    "* When we wrote `NBody`, how did we know that it worked?\n",
    "\n",
    "Ans:\n",
    "* Tests were provided\n",
    "* Run `main` and see if the planets move around in a proper planet-like way\n",
    "* The real MVP: autograder\n",
    "\n",
    "In real world, programmers believe their code works because of **tests they write themselves**\n",
    "* It's impossible to know that the code is 100%, perfectly working\n",
    "* This will be our new way: try to get as close as possible to being confident that our code is working by writing our own tests"
   ]
  },
  {
   "cell_type": "markdown",
   "metadata": {},
   "source": [
    "## Sorting: The McGuffin for Our Testing Adventure"
   ]
  },
  {
   "cell_type": "markdown",
   "metadata": {},
   "source": [
    "To try out this new way, we need a task to complete. Let's try to write a method that sorts array of Strings. Below is an example where the `sort` methods sorts multiple strings based on alphabetical order.\n",
    "\n",
    "![](images/sort.png)"
   ]
  },
  {
   "cell_type": "markdown",
   "metadata": {},
   "source": [
    "## The Old Way"
   ]
  },
  {
   "cell_type": "markdown",
   "metadata": {},
   "source": [
    "In the old way, we have an autograder already built. We would write the `sort` method, then the autograder will inspect it and output the result on gradescope.com. \n",
    "\n",
    "![](images/autograder.png)"
   ]
  },
  {
   "cell_type": "markdown",
   "metadata": {},
   "source": [
    "## The New Way"
   ]
  },
  {
   "cell_type": "markdown",
   "metadata": {},
   "source": [
    "We'll write `sort`, as well as our own test for `sort`.\n",
    "* Even more interesting, we'll start by writing `testSort` first!\n",
    "\n",
    "![](images/testSort.png)"
   ]
  },
  {
   "cell_type": "code",
   "execution_count": null,
   "metadata": {},
   "outputs": [],
   "source": []
  }
 ],
 "metadata": {
  "kernelspec": {
   "display_name": "Python 3",
   "language": "python",
   "name": "python3"
  },
  "language_info": {
   "codemirror_mode": {
    "name": "ipython",
    "version": 3
   },
   "file_extension": ".py",
   "mimetype": "text/x-python",
   "name": "python",
   "nbconvert_exporter": "python",
   "pygments_lexer": "ipython3",
   "version": "3.7.4"
  }
 },
 "nbformat": 4,
 "nbformat_minor": 4
}
