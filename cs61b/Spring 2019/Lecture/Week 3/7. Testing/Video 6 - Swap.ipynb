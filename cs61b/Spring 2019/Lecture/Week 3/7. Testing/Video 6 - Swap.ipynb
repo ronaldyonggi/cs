{
 "cells": [
  {
   "cell_type": "markdown",
   "metadata": {},
   "source": [
    "Now that we're done with the method that find the smallest element, we'll now implement the method that swaps elements. Similar to `findSmallest`, it is a good idea to test a method once we're done writing it."
   ]
  },
  {
   "cell_type": "code",
   "execution_count": null,
   "metadata": {},
   "outputs": [],
   "source": [
    "// Put this in Sort.java\n",
    "public static void swap(String[] x, int a, int b) {\n",
    "    String temp = x[a];\n",
    "    x[a] = x[b];\n",
    "    x[b] = temp;\n",
    "}\n"
   ]
  },
  {
   "cell_type": "code",
   "execution_count": null,
   "metadata": {},
   "outputs": [],
   "source": [
    "public static void testSwap() {\n",
    "    String[] input = {\"i\", \"have\", \"an\", \"egg\"};\n",
    "    int a = 0;\n",
    "    int b = 2;\n",
    "    String[] expected = {\"an\", \"have\", \"i\", \"egg\"};\n",
    "\n",
    "    Sort.swap(input, a, b);\n",
    "    org.junit.Assert.assertArrayEquals(expected, input);\n",
    "}\n"
   ]
  }
 ],
 "metadata": {
  "kernelspec": {
   "display_name": "Python 3",
   "language": "python",
   "name": "python3"
  },
  "language_info": {
   "codemirror_mode": {
    "name": "ipython",
    "version": 3
   },
   "file_extension": ".py",
   "mimetype": "text/x-python",
   "name": "python",
   "nbconvert_exporter": "python",
   "pygments_lexer": "ipython3",
   "version": "3.7.4"
  }
 },
 "nbformat": 4,
 "nbformat_minor": 4
}
