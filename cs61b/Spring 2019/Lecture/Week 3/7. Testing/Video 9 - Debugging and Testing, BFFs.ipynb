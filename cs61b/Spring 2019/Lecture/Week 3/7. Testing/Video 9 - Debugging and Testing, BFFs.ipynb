{
 "cells": [
  {
   "cell_type": "markdown",
   "metadata": {},
   "source": [
    "We currently have the following for our `Sort` class,"
   ]
  },
  {
   "cell_type": "code",
   "execution_count": null,
   "metadata": {},
   "outputs": [],
   "source": [
    "public class Sort {\n",
    "\n",
    "    public static void sort(String[] x){\n",
    "        sort(x, 0); // Call the helper sort method\n",
    "    }\n",
    "\n",
    "    private static void sort(String[] x, int start) {\n",
    "        int smallestIndex = findSmallest(x); // Find the smallest index during\n",
    "        swap(x, start, smallestIndex); // Swap the item at index[start] with the item at index [smallestIndex]\n",
    "        sort(x, start + 1); // Recursive call sort for the next starting point\n",
    "    }\n",
    "\n",
    "    public static int findSmallest(String[] x) {\n",
    "        int smallestIndex = 0;\n",
    "        for (int i = 0; i < x.length; i+= 1) {\n",
    "            int comparison = x[i].compareTo(x[smallestIndex]); // if x[i] is less than x[smallestIndex], it will return a negative number\n",
    "            if (comparison < 0) {\n",
    "                smallestIndex = i;\n",
    "            }\n",
    "        }\n",
    "        return smallestIndex;\n",
    "    }\n",
    "\n",
    "    public static void swap(String[] x, int a, int b) {\n",
    "        String temp = x[a];\n",
    "        x[a] = x[b];\n",
    "        x[b] = temp;\n",
    "    }\n",
    "}"
   ]
  },
  {
   "cell_type": "markdown",
   "metadata": {},
   "source": [
    "If we try to run the `testSort()` test,"
   ]
  },
  {
   "cell_type": "code",
   "execution_count": null,
   "metadata": {},
   "outputs": [],
   "source": [
    "OpenJDK 64-Bit Server VM warning: Sharing is only supported for boot loader classes because bootstrap classpath has been appended\n",
    "Exception in thread \"main\" java.lang.ArrayIndexOutOfBoundsException: Index 4 out of bounds for length 4\n",
    "\tat Sort.swap(Sort.java:37)\n",
    "\tat Sort.sort(Sort.java:9)\n",
    "\tat Sort.sort(Sort.java:10)\n",
    "\tat Sort.sort(Sort.java:10)\n",
    "\tat Sort.sort(Sort.java:10)\n",
    "\tat Sort.sort(Sort.java:10)\n",
    "\tat Sort.sort(Sort.java:4)\n",
    "\tat TestSort.testSort(TestSort.java:8)\n",
    "\tat TestSort.main(TestSort.java:38)"
   ]
  },
  {
   "cell_type": "markdown",
   "metadata": {},
   "source": [
    "An `IndexOutOfBoundsException` error! To analyze this issue, we set a breakpoint in within the `swap` method and set the condition when `a == 4`"
   ]
  },
  {
   "cell_type": "code",
   "execution_count": null,
   "metadata": {},
   "outputs": [],
   "source": [
    "public static void swap(String[] x, int a, int b) {\n",
    "        String temp = x[a]; // SET A BREAKPOINT HERE\n",
    "        x[a] = x[b];\n",
    "        x[b] = temp;\n",
    "    }"
   ]
  },
  {
   "cell_type": "markdown",
   "metadata": {},
   "source": [
    "![](images/break.png)"
   ]
  },
  {
   "cell_type": "markdown",
   "metadata": {},
   "source": [
    "This time, if we debug the code and look at Java Visualizer, notice that `start` is `4`. This is not supposed to happen since the maximum index possible is 3! We need a base case!\n",
    "\n",
    "By utilizing testing and debugging with Java Visualizer, we can easily notice where things go wrong and realize that we need to implement a base case. Let's implement the base case."
   ]
  },
  {
   "cell_type": "code",
   "execution_count": null,
   "metadata": {},
   "outputs": [],
   "source": [
    "private static void sort(String[] x, int start) {\n",
    "        if (start == x.length) { // If start gets too big, just return nothing to stop the recursive call\n",
    "            return;\n",
    "        }\n",
    "        int smallestIndex = findSmallest(x); // Find the smallest index during\n",
    "        swap(x, start, smallestIndex); // Swap the item at index[start] with the item at index [smallestIndex]\n",
    "        sort(x, start + 1); // Recursive call sort for the next starting point\n",
    "    }"
   ]
  },
  {
   "cell_type": "markdown",
   "metadata": {},
   "source": [
    "Now that a base case is implemented, run the `testSort()` once again!"
   ]
  },
  {
   "cell_type": "code",
   "execution_count": null,
   "metadata": {},
   "outputs": [],
   "source": [
    "Exception in thread \"main\" arrays first differed at element [0]; expected:<[an]> but was:<[have]>\n",
    "\tat org.junit.internal.ComparisonCriteria.arrayEquals(ComparisonCriteria.java:55)\n",
    "\tat org.junit.Assert.internalArrayEquals(Assert.java:532)\n",
    "\tat org.junit.Assert.assertArrayEquals(Assert.java:283)\n",
    "\tat org.junit.Assert.assertArrayEquals(Assert.java:298)\n",
    "\tat TestSort.testSort(TestSort.java:10)\n",
    "\tat TestSort.main(TestSort.java:38)\n",
    "Caused by: org.junit.ComparisonFailure: expected:<[an]> but was:<[have]>\n",
    "\tat org.junit.Assert.assertEquals(Assert.java:115)\n",
    "\tat org.junit.Assert.assertEquals(Assert.java:144)\n",
    "\tat org.junit.internal.ExactComparisonCriteria.assertElementsEqual(ExactComparisonCriteria.java:8)\n",
    "\tat org.junit.internal.ComparisonCriteria.arrayEquals(ComparisonCriteria.java:53)\n",
    "\t... 5 more"
   ]
  },
  {
   "cell_type": "markdown",
   "metadata": {},
   "source": [
    "We still failed the test! This time, it seems that there's a problem with the sorting process somehow that the first element of the resulting array is `\"have\"` instead of `\"an\"`! \n",
    "\n",
    "There could be a problem with the elements swapping. Let's set a break point at the `swap` process and see if we find anything."
   ]
  },
  {
   "cell_type": "code",
   "execution_count": null,
   "metadata": {},
   "outputs": [],
   "source": [
    "private static void sort(String[] x, int start) {\n",
    "        if (start == x.length) {\n",
    "            return;\n",
    "        }\n",
    "        int smallestIndex = findSmallest(x);\n",
    "        swap(x, start, smallestIndex); // SET BREAKPOINT HERE\n",
    "        sort(x, start + 1);\n",
    "    }"
   ]
  },
  {
   "cell_type": "markdown",
   "metadata": {},
   "source": [
    "If we look at the Java Visualizer and keep going until we find the error:\n",
    "* At first, Java successfully swap the first round\n",
    "    * \"an\" and \"i\" is swapped\n",
    "* At the second round, when Java tried to find the smallest index via `findSmallest`,\n",
    "    * `findSmallest` happened to also include the element at the front, \"an\", which is not supposed to happen!"
   ]
  },
  {
   "cell_type": "markdown",
   "metadata": {},
   "source": [
    "![](images/problem.png)"
   ]
  },
  {
   "cell_type": "markdown",
   "metadata": {},
   "source": [
    "We have a design flaw in the `findSmallest` method! It shouldn't return the smallest String in the whole array `x`, but instead it should return the array starting from a `start`ing point."
   ]
  },
  {
   "cell_type": "code",
   "execution_count": null,
   "metadata": {},
   "outputs": [],
   "source": [
    "public static int findSmallest(String[] x, int start) {\n",
    "        int smallestIndex = start; // starting from start\n",
    "        for (int i = start; i < x.length; i+= 1) { // iterate starting from start\n",
    "            int comparison = x[i].compareTo(x[smallestIndex]); \n",
    "            if (comparison < 0) {\n",
    "                smallestIndex = i;\n",
    "            }\n",
    "        }\n",
    "        return smallestIndex;\n",
    "    }"
   ]
  },
  {
   "cell_type": "markdown",
   "metadata": {},
   "source": [
    "Since we modified the `findSmallest` method, we might become unsure if the method if still works fine. In this case, we can test it again using `testFindSmallest`! \n",
    "\n",
    "However, we'll need to modify the `testFindSmallest` as well since we modified the signature of `findSmallest` method."
   ]
  },
  {
   "cell_type": "code",
   "execution_count": null,
   "metadata": {},
   "outputs": [],
   "source": [
    "public static void testFindSmallest() {\n",
    "    String[] input = {\"i\", \"have\", \"an\", \"egg\"};\n",
    "    int expected = 2;\n",
    "\n",
    "    int actual = Sort.findSmallest(input, 0); // ADD AN ARGUMENT OF STARTING POINT 0\n",
    "    org.junit.Assert.assertEquals(expected, actual);\n",
    "\n",
    "    String[] input2 = {\"there\", \"are\", \"many\", \"pigs\"};\n",
    "    int expected2 = 1;\n",
    "\n",
    "    int actual2 = Sort.findSmallest(input2, 0); // ADD AN ARGUMENT OF STARTING POINT 0\n",
    "    org.junit.Assert.assertEquals(expected2, actual2);\n",
    "}\n"
   ]
  },
  {
   "cell_type": "code",
   "execution_count": null,
   "metadata": {},
   "outputs": [],
   "source": [
    "    public static void main(String[] args) {\n",
    "//        testSort();\n",
    "        testFindSmallest();\n",
    "//        testSwap();\n",
    "    }\n"
   ]
  },
  {
   "cell_type": "markdown",
   "metadata": {},
   "source": [
    "Now that we pass the `testFindSmallest` test, test the `tesstSort()` method as a whole! Remember that also need to add a `start` when calling `findSmallest` in our `Sort` method!"
   ]
  },
  {
   "cell_type": "code",
   "execution_count": null,
   "metadata": {},
   "outputs": [],
   "source": [
    "private static void sort(String[] x, int start) {\n",
    "    if (start == x.length) {\n",
    "        return;\n",
    "    }\n",
    "    int smallestIndex = findSmallest(x, start); // ADD A STARTING POINT\n",
    "    swap(x, start, smallestIndex); \n",
    "    sort(x, start + 1); \n",
    "}\n"
   ]
  },
  {
   "cell_type": "markdown",
   "metadata": {},
   "source": [
    "We should pass all the tests smoothly this time!\n",
    "\n",
    "The main idea is that testing helps us with isolating one activity at a time. When we found out that there is a problem with the swapping, we can focus on the `testFindSmallest` tests rather than testing `testSort` as a whole."
   ]
  }
 ],
 "metadata": {
  "kernelspec": {
   "display_name": "Python 3",
   "language": "python",
   "name": "python3"
  },
  "language_info": {
   "codemirror_mode": {
    "name": "ipython",
    "version": 3
   },
   "file_extension": ".py",
   "mimetype": "text/x-python",
   "name": "python",
   "nbconvert_exporter": "python",
   "pygments_lexer": "ipython3",
   "version": "3.7.5"
  }
 },
 "nbformat": 4,
 "nbformat_minor": 4
}
