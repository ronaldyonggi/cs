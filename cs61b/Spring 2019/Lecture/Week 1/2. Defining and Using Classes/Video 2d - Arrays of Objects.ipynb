{
 "cells": [
  {
   "cell_type": "code",
   "execution_count": 1,
   "metadata": {},
   "outputs": [],
   "source": [
    "public class Dog{\n",
    "    public int weightInPounds;\n",
    "    \n",
    "    public Dog(int w) {\n",
    "        weightInPounds = w;\n",
    "    }\n",
    "    \n",
    "    public void makeNoise() {\n",
    "        if (weightInPounds < 10) {\n",
    "            System.out.println(\"yip!\");\n",
    "        } else if (weightInPounds < 30) {\n",
    "            System.out.println(\"bark.\");\n",
    "        } else {\n",
    "            System.out.println(\"wooooof!\");\n",
    "        }\n",
    "    }\n",
    "}"
   ]
  },
  {
   "cell_type": "markdown",
   "metadata": {},
   "source": [
    "# Arrays of Objects "
   ]
  },
  {
   "cell_type": "markdown",
   "metadata": {},
   "source": [
    "If we want to create an **array of objects**, we use the keyword `new` in 2 different ways."
   ]
  },
  {
   "cell_type": "code",
   "execution_count": null,
   "metadata": {},
   "outputs": [],
   "source": [
    "Dog [] dogs = new Dog[2];"
   ]
  },
  {
   "cell_type": "markdown",
   "metadata": {},
   "source": [
    "In the beginning, we use the `new` keyword to create the empty array. At this point, there are no dogs created yet. However, once we put some Dogs in the array,"
   ]
  },
  {
   "cell_type": "code",
   "execution_count": 2,
   "metadata": {},
   "outputs": [
    {
     "name": "stdout",
     "output_type": "stream",
     "text": [
      "yip!\n"
     ]
    }
   ],
   "source": [
    "Dog[] dogs = new Dog[2];\n",
    "dogs[0] = new Dog(8);\n",
    "dogs[1] = new Dog(20);"
   ]
  },
  {
   "cell_type": "markdown",
   "metadata": {},
   "source": [
    "Now the `dogs` array of index `0` and `1` are containing both objects! The one at index `0` is containing the `Dog` with weight `8`, while the one at index `1` is containing the `Dog` with weight `20`. Now we can refer to the indeces of the `dogs` array. Below is an example of invoking the `dogs[0]`'s `makeNoise` method."
   ]
  },
  {
   "cell_type": "code",
   "execution_count": 3,
   "metadata": {},
   "outputs": [
    {
     "name": "stdout",
     "output_type": "stream",
     "text": [
      "yip!\n"
     ]
    }
   ],
   "source": [
    "dogs[0].makeNoise()"
   ]
  }
 ],
 "metadata": {
  "kernelspec": {
   "display_name": "Python 3",
   "language": "python",
   "name": "python3"
  },
  "language_info": {
   "codemirror_mode": {
    "name": "ipython",
    "version": 3
   },
   "file_extension": ".py",
   "mimetype": "text/x-python",
   "name": "python",
   "nbconvert_exporter": "python",
   "pygments_lexer": "ipython3",
   "version": "3.7.4"
  }
 },
 "nbformat": 4,
 "nbformat_minor": 4
}
