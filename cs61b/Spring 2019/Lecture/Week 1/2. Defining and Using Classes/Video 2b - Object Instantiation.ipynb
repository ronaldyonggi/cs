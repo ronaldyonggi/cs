{
 "cells": [
  {
   "cell_type": "markdown",
   "metadata": {},
   "source": [
    "# Object Instantiation"
   ]
  },
  {
   "cell_type": "markdown",
   "metadata": {},
   "source": [
    "The key feature that we'll use to represent the dogs is the fact that classes can contain not just methods, but also data (or properties, such as weight, color, etc.)\n",
    "\n",
    "Class can be instantiated as objects.\n",
    "1. We'll create a single `Dog` class, and then create `instances` of this Dog.\n",
    "    * These `instances` are also called `objects`\n",
    "2. The class provides a blueprint that all `Dog` object will follow\n",
    "\n",
    "Let's go back to the `Dog.java` class and update it! \n",
    "1. A `Dog` also has properties such as the weight, `weightInPounds;\n",
    "2. We set conditions that determines different output for the `makeNoise()` method."
   ]
  },
  {
   "cell_type": "code",
   "execution_count": null,
   "metadata": {},
   "outputs": [],
   "source": [
    "public class Dog{\n",
    "    public int weightInPounds;\n",
    "    \n",
    "    public static void makeNoise() {\n",
    "        if (weightInPounds < 10) {\n",
    "            System.out.println(\"yip!\");\n",
    "        } else if (weightInPounds < 30) {\n",
    "            System.out.println(\"bark.\");\n",
    "        } else {\n",
    "            System.out.println(\"wooooof!\");\n",
    "        }\n",
    "    }\n",
    "}"
   ]
  },
  {
   "cell_type": "markdown",
   "metadata": {},
   "source": [
    "However, with the code above, if we try to compile `Dog.java`,"
   ]
  },
  {
   "cell_type": "code",
   "execution_count": 2,
   "metadata": {},
   "outputs": [
    {
     "name": "stdout",
     "output_type": "stream",
     "text": [
      "Dog.java:5: error: non-static variable weightInPounds cannot be referenced from a static context\n",
      "        if (weightInPounds < 10) {\n",
      "            ^\n",
      "Dog.java:7: error: non-static variable weightInPounds cannot be referenced from a static context\n",
      "        } else if (weightInPounds < 30) {\n",
      "                   ^\n",
      "2 errors\n"
     ]
    }
   ],
   "source": [
    "!javac Dog.java"
   ]
  },
  {
   "cell_type": "markdown",
   "metadata": {},
   "source": [
    "We'll obtain the error message `non-static variable weightInPounds cannot be referenced from a static context`. We'll cover this problem later, but for now the solution is to remove the word `static` from `public static void makeNoise()`."
   ]
  },
  {
   "cell_type": "code",
   "execution_count": null,
   "metadata": {},
   "outputs": [],
   "source": [
    "public void makeNoise() {\n",
    "        if (weightInPounds < 10) {\n",
    "            System.out.println(\"yip!\");\n",
    "        } else if (weightInPounds < 30) {\n",
    "            System.out.println(\"bark.\");\n",
    "        } else {\n",
    "            System.out.println(\"wooooof!\");\n",
    "        }\n",
    "    }"
   ]
  },
  {
   "cell_type": "markdown",
   "metadata": {},
   "source": [
    "After fixing the code, if we try to compile it,"
   ]
  },
  {
   "cell_type": "code",
   "execution_count": 3,
   "metadata": {},
   "outputs": [],
   "source": [
    "!javac Dog.java"
   ]
  },
  {
   "cell_type": "markdown",
   "metadata": {},
   "source": [
    "The compilation works! This `Dog.java` is now the blueprint for all dogs.\n",
    "\n",
    "Now if we try to run the `DogLauncher.java`,"
   ]
  },
  {
   "cell_type": "code",
   "execution_count": 7,
   "metadata": {},
   "outputs": [
    {
     "name": "stdout",
     "output_type": "stream",
     "text": [
      "DogLauncher.java:5: error: non-static method makeNoise() cannot be referenced from a static context\n",
      "        Dog.makeNoise();\n",
      "           ^\n",
      "1 error\n"
     ]
    }
   ],
   "source": [
    "!javac DogLauncher.java"
   ]
  },
  {
   "cell_type": "markdown",
   "metadata": {},
   "source": [
    "We'll obtain the error message `non-static method makeNoise() cannot be referenced from a static context`. We might think the solution is to remove the word `static` from the `DogLauncher`'s main method as well; however, this is not the solution! Instead, we update the `DogLauncher`'s `main` method so that now it looks like the following,"
   ]
  },
  {
   "cell_type": "code",
   "execution_count": null,
   "metadata": {},
   "outputs": [],
   "source": [
    "public class DogLauncher {\n",
    "    public static void main(String[] args) {\n",
    "        Dog d = new Dog(); // Creates a new Dog instance called d. This is a specific Dog instance\n",
    "        d.weightInPounds = 25; //Set d's weight to be 25\n",
    "        d.makeNoise(); // Instead of Dog.makeNoise(), we call d.makeNoise()\n",
    "    }\n",
    "}"
   ]
  },
  {
   "cell_type": "markdown",
   "metadata": {},
   "source": [
    "Replacing `Dog.makeNoise()` with `d.makeNoise()` is important! The `makeNoise()` method in the `Dog` class expects a reference to a specific `Dog` instance (such as `d`) rather than using the blueprint `Dog` class."
   ]
  },
  {
   "cell_type": "code",
   "execution_count": 1,
   "metadata": {},
   "outputs": [],
   "source": [
    "public class Dog{\n",
    "    public int weightInPounds;\n",
    "    \n",
    "    public void makeNoise() {\n",
    "        if (weightInPounds < 10) {\n",
    "            System.out.println(\"yip!\");\n",
    "        } else if (weightInPounds < 30) {\n",
    "            System.out.println(\"bark.\");\n",
    "        } else {\n",
    "            System.out.println(\"wooooof!\");\n",
    "        }\n",
    "    }\n",
    "}"
   ]
  },
  {
   "cell_type": "markdown",
   "metadata": {},
   "source": [
    "With the `makeNoise()` method above, the output of the print varies depending on the `weightInPounds` value of the dog calling the method."
   ]
  },
  {
   "cell_type": "code",
   "execution_count": 3,
   "metadata": {},
   "outputs": [
    {
     "name": "stdout",
     "output_type": "stream",
     "text": [
      "bark.\n"
     ]
    }
   ],
   "source": [
    "// Note that we are not supposed to run code this way. We are supposed to compile the DogLauncher and run the DogLauncher program.\n",
    "// This is just a simulation since the iJava kernel displays nothing if we run the DogLauncher class within the Jupyter cell.\n",
    "Dog d = new Dog();\n",
    "d.weightInPounds = 25;\n",
    "d.makeNoise();"
   ]
  },
  {
   "cell_type": "code",
   "execution_count": 4,
   "metadata": {},
   "outputs": [
    {
     "name": "stdout",
     "output_type": "stream",
     "text": [
      "wooooof!\n"
     ]
    }
   ],
   "source": [
    "d.weightInPounds = 32;\n",
    "d.makeNoise();"
   ]
  },
  {
   "cell_type": "markdown",
   "metadata": {},
   "source": [
    "The way we created a `Dog` instance `Dog d = new Dog();` might look strange to people who already have a background in OOP. Instead, it's usually more common to include a parameter such as the following,"
   ]
  },
  {
   "cell_type": "code",
   "execution_count": 6,
   "metadata": {},
   "outputs": [
    {
     "ename": "CompilationException",
     "evalue": "",
     "output_type": "error",
     "traceback": [
      "\u001b[1m\u001b[30m|   \u001b[1m\u001b[30mDog d = \u001b[0m\u001b[1m\u001b[30m\u001b[41mnew Dog(51)\u001b[0m\u001b[1m\u001b[30m;\u001b[0m",
      "\u001b[1m\u001b[31mconstructor Dog in class Dog cannot be applied to given types;\u001b[0m",
      "\u001b[1m\u001b[31m  required: no arguments\u001b[0m",
      "\u001b[1m\u001b[31m  found: int\u001b[0m",
      "\u001b[1m\u001b[31m  reason: actual and formal argument lists differ in length\u001b[0m",
      ""
     ]
    }
   ],
   "source": [
    "Dog d = new Dog(51);\n",
    "d.makeNoise();"
   ]
  },
  {
   "cell_type": "markdown",
   "metadata": {},
   "source": [
    "However, right now the code above won't work because we haven't specified what to do with the input number. We would need to create a `one-integer constructor`,"
   ]
  },
  {
   "cell_type": "code",
   "execution_count": null,
   "metadata": {},
   "outputs": [],
   "source": [
    "public Dog(int w) {\n",
    "    weightInPounds = w;\n",
    "}"
   ]
  },
  {
   "cell_type": "markdown",
   "metadata": {},
   "source": [
    "The constructor should be placed inside the `Dog` class,"
   ]
  },
  {
   "cell_type": "code",
   "execution_count": 8,
   "metadata": {},
   "outputs": [
    {
     "name": "stdout",
     "output_type": "stream",
     "text": [
      "wooooof!\n"
     ]
    }
   ],
   "source": [
    "public class Dog{\n",
    "    public int weightInPounds;\n",
    "    \n",
    "    public Dog(int w) {\n",
    "        weightInPounds = w;\n",
    "    }\n",
    "    \n",
    "    public void makeNoise() {\n",
    "        if (weightInPounds < 10) {\n",
    "            System.out.println(\"yip!\");\n",
    "        } else if (weightInPounds < 30) {\n",
    "            System.out.println(\"bark.\");\n",
    "        } else {\n",
    "            System.out.println(\"wooooof!\");\n",
    "        }\n",
    "    }\n",
    "}\n",
    "\n",
    "Dog d = new Dog(51);\n",
    "d.makeNoise();"
   ]
  },
  {
   "cell_type": "markdown",
   "metadata": {},
   "source": [
    "The `dog` constructor is equivalent to the `__init__` method in Python.  "
   ]
  }
 ],
 "metadata": {
  "kernelspec": {
   "display_name": "Python 3",
   "language": "python",
   "name": "python3"
  },
  "language_info": {
   "codemirror_mode": {
    "name": "ipython",
    "version": 3
   },
   "file_extension": ".py",
   "mimetype": "text/x-python",
   "name": "python",
   "nbconvert_exporter": "python",
   "pygments_lexer": "ipython3",
   "version": "3.7.5"
  }
 },
 "nbformat": 4,
 "nbformat_minor": 4
}
