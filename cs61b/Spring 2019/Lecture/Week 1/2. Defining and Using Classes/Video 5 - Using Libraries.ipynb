{
 "cells": [
  {
   "cell_type": "markdown",
   "metadata": {},
   "source": [
    "# Using Libraries (e.g. `StdDraw`, `In`)"
   ]
  },
  {
   "cell_type": "markdown",
   "metadata": {},
   "source": [
    "One of the nice things about CS is the fact that we can reuse any code that we wrote. After we're done writing a code (e.g. a long function), we can send it to the library so that we can use it next time. On top of that, we can use other people's code in the library!"
   ]
  },
  {
   "cell_type": "markdown",
   "metadata": {},
   "source": [
    "## Java Libraries"
   ]
  },
  {
   "cell_type": "markdown",
   "metadata": {},
   "source": [
    "There are a lot of Java libraries available. In CS61B class, all the needed libraries are provided. These libraries include:\n",
    "1. The built-in Java libraries (e.g. `Math`, `String`, `Integer`, `List`, `Map`)\n",
    "2. The Princeton standard library (e.g. `StdDraw`, `StdAudio`, `In`)\n",
    "\n",
    "As a programmer, we want to utilize existing libraries whenever possible because:\n",
    "1. It save us the time and extra work of writing the code from scratch\n",
    "2. Available libraries out there are likely to have less bugs since they have been used and reviewed by many users\n",
    "\n",
    "However, the downside is that we would need to spend time learning and getting used to those libraries.\n",
    "\n",
    "Some ways to learn how to use an unfamiliar library:\n",
    "1. Find a tutorial (e.g. youtube, web) for the library\n",
    "2. Read the documentation for the library (e.g. Javadocs)\n",
    "3. Look at example code snippets that use the library (plenty at StackOverflow!)"
   ]
  },
  {
   "cell_type": "markdown",
   "metadata": {},
   "source": [
    "## The Princeton Standard Library\n",
    "We'll use Kevin Wayne's (library)[http://introcs.cs.princeton.edu/java/stdlib/]. This library will make some activities easier to execute such as:\n",
    "1. Getting user input\n",
    "2. Reading from files\n",
    "3. Making sounds\n",
    "4. Drawing to the screen\n",
    "5. Getting random numbers\n",
    "\n",
    "Make sure to see the example code for Project 0!"
   ]
  }
 ],
 "metadata": {
  "kernelspec": {
   "display_name": "Python 3",
   "language": "python",
   "name": "python3"
  },
  "language_info": {
   "codemirror_mode": {
    "name": "ipython",
    "version": 3
   },
   "file_extension": ".py",
   "mimetype": "text/x-python",
   "name": "python",
   "nbconvert_exporter": "python",
   "pygments_lexer": "ipython3",
   "version": "3.7.4"
  }
 },
 "nbformat": 4,
 "nbformat_minor": 4
}
