{
 "cells": [
  {
   "cell_type": "markdown",
   "metadata": {},
   "source": [
    "# `public static void main(String[ ] args)`"
   ]
  },
  {
   "cell_type": "markdown",
   "metadata": {},
   "source": [
    "What does the following mean?\n",
    "\n",
    "1. `public static` : this means we're declaring a static method\n",
    "2. `void` : the method returns nothing\n",
    "3. `main` : the name of the method\n",
    "\n",
    "What about `(String[ ] args)`?\n",
    "\n",
    "In Java, whenever we want to access a command line argument, we'll use the string array `(String[ ] args)`."
   ]
  },
  {
   "cell_type": "markdown",
   "metadata": {},
   "source": [
    "## One Special Role for Strings: Command Line Arguments"
   ]
  },
  {
   "cell_type": "markdown",
   "metadata": {},
   "source": [
    "Here is an example,"
   ]
  },
  {
   "cell_type": "code",
   "execution_count": null,
   "metadata": {},
   "outputs": [],
   "source": [
    "public class ArgsDemo {\n",
    "    // Prints out the 0th command line argument\n",
    "    public static void main(String[] args) {\n",
    "        System.out.println(args[0]);\n",
    "    }\n",
    "}"
   ]
  },
  {
   "cell_type": "markdown",
   "metadata": {},
   "source": [
    "The `ArgsDemo` class will print out the `0th` command line argument. If we try to run the program,"
   ]
  },
  {
   "cell_type": "code",
   "execution_count": 1,
   "metadata": {},
   "outputs": [],
   "source": [
    "!javac ArgsDemo.java"
   ]
  },
  {
   "cell_type": "code",
   "execution_count": 2,
   "metadata": {},
   "outputs": [
    {
     "name": "stdout",
     "output_type": "stream",
     "text": [
      "hello\n"
     ]
    }
   ],
   "source": [
    "!java ArgsDemo hello some args"
   ]
  },
  {
   "cell_type": "markdown",
   "metadata": {},
   "source": [
    "Above, when we run the program, we also provided arguments where the:\n",
    "\n",
    "* `0th` argument (or index `[0]`) is `hello`\n",
    "* The argument at index `[1]` is `some` and\n",
    "* The argument at index `[2]` is `args`"
   ]
  },
  {
   "cell_type": "markdown",
   "metadata": {},
   "source": [
    "## `ArgsSum` Exercise"
   ]
  },
  {
   "cell_type": "markdown",
   "metadata": {},
   "source": [
    "Goal: Create a program `ArgsSum` that prints out the sum of the command arguments, assuming they are numbers."
   ]
  },
  {
   "cell_type": "code",
   "execution_count": null,
   "metadata": {},
   "outputs": [],
   "source": [
    "public class ArgsSum{\n",
    "    public static void main(String[] args) {\n",
    "        int sum = 0; // Create an int variable that stores the sum\n",
    "        for (int i = 0; i < args.length; i++) { // Use for loop to iterate through args\n",
    "            sum = sum + args[i];\n",
    "        }\n",
    "        System.out.println(sum);\n",
    "    }\n",
    "}"
   ]
  },
  {
   "cell_type": "markdown",
   "metadata": {},
   "source": [
    "What we have above is quite close; however, we have a problem: the `args` is an array of strings, and we can't sum up integers with strings! One way around this is to convert the argument from strings to integer which can be done with `Integer.parseInt`."
   ]
  },
  {
   "cell_type": "code",
   "execution_count": null,
   "metadata": {},
   "outputs": [],
   "source": [
    "sum = sum + Integer.parseInt(args[i])"
   ]
  },
  {
   "cell_type": "markdown",
   "metadata": {},
   "source": [
    "Now let's try to compile `ArgsSum` and run the program!"
   ]
  },
  {
   "cell_type": "code",
   "execution_count": 3,
   "metadata": {},
   "outputs": [],
   "source": [
    "!javac ArgsSum.java"
   ]
  },
  {
   "cell_type": "code",
   "execution_count": 4,
   "metadata": {},
   "outputs": [
    {
     "name": "stdout",
     "output_type": "stream",
     "text": [
      "8\n"
     ]
    }
   ],
   "source": [
    "!java ArgsSum 3 5"
   ]
  },
  {
   "cell_type": "markdown",
   "metadata": {},
   "source": [
    "It works!"
   ]
  }
 ],
 "metadata": {
  "kernelspec": {
   "display_name": "Python 3",
   "language": "python",
   "name": "python3"
  },
  "language_info": {
   "codemirror_mode": {
    "name": "ipython",
    "version": 3
   },
   "file_extension": ".py",
   "mimetype": "text/x-python",
   "name": "python",
   "nbconvert_exporter": "python",
   "pygments_lexer": "ipython3",
   "version": "3.7.5"
  }
 },
 "nbformat": 4,
 "nbformat_minor": 4
}
