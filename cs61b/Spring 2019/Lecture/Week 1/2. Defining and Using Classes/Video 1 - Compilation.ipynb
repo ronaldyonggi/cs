{
 "cells": [
  {
   "cell_type": "markdown",
   "metadata": {},
   "source": [
    "There are many ways to run programs in Java. Let's say we have the the file `HelloWorld.java` in the current directory."
   ]
  },
  {
   "cell_type": "markdown",
   "metadata": {},
   "source": [
    "#### Writer's Note\n",
    "\n",
    "Using the default Jupyter Python3 kernel, we can use terminal commands by adding prefix exclamation mark `!` before a command."
   ]
  },
  {
   "cell_type": "code",
   "execution_count": null,
   "metadata": {},
   "outputs": [],
   "source": [
    "!ls"
   ]
  },
  {
   "cell_type": "markdown",
   "metadata": {},
   "source": [
    "First thing that we'll do is to compile the `.java` file into `.class` file using `javac`"
   ]
  },
  {
   "cell_type": "code",
   "execution_count": 1,
   "metadata": {},
   "outputs": [],
   "source": [
    "!javac HelloWorld.java"
   ]
  },
  {
   "cell_type": "code",
   "execution_count": 2,
   "metadata": {},
   "outputs": [
    {
     "name": "stdout",
     "output_type": "stream",
     "text": [
      "HelloWorld.class            Video 1 - Compilation.ipynb\n",
      "HelloWorld.java\n"
     ]
    }
   ],
   "source": [
    "!ls"
   ]
  },
  {
   "cell_type": "markdown",
   "metadata": {},
   "source": [
    "As we can see, there's a new file in the current directory called `HelloWorld.class`! Now to run the `HelloWorld` program, we do the following,"
   ]
  },
  {
   "cell_type": "code",
   "execution_count": 3,
   "metadata": {},
   "outputs": [
    {
     "name": "stdout",
     "output_type": "stream",
     "text": [
      "Hello world!\n"
     ]
    }
   ],
   "source": [
    "!java HelloWorld"
   ]
  },
  {
   "cell_type": "markdown",
   "metadata": {},
   "source": [
    "The `.class` file is needed to run the program! We won't be able to run the program without the `.class` file.\n",
    "\n",
    "We can use `cat` to print out the contents of a file."
   ]
  },
  {
   "cell_type": "code",
   "execution_count": 4,
   "metadata": {},
   "outputs": [
    {
     "name": "stdout",
     "output_type": "stream",
     "text": [
      "public class HelloWorld {\n",
      "    public static void main(String[] args){\n",
      "        System.out.println(\"Hello world!\");\n",
      "    }\n",
      "}"
     ]
    }
   ],
   "source": [
    "!cat HelloWorld.java"
   ]
  },
  {
   "cell_type": "markdown",
   "metadata": {},
   "source": [
    "Now if we try to `cat` the `.class` file,"
   ]
  },
  {
   "cell_type": "code",
   "execution_count": 6,
   "metadata": {},
   "outputs": [
    {
     "name": "stdout",
     "output_type": "stream",
     "text": [
      "����\u0000\u0000\u00008\u0000\u001d",
      "\n",
      "\u0000\u0006\u0000\u000f\t\u0000\u0010\u0000\u0000\u0012\n",
      "\u0000\u0013\u0000\u0014\u0007\u0000\u0015\u0007\u0000\u0016\u0001\u0000\u0006<init>\u0001\u0000\u0003()V\u0001\u0000\u0004Code\u0001\u0000\u000fLineNumberTable\u0001\u0000\u0004main\u0001\u0000\u0016([Ljava/lang/String;)V\u0001\u0000\n",
      "SourceFile\u0001\u0000\u000fHelloWorld.java\f",
      "\u0000\u0007\u0007\u0000\u0017\f",
      "\u0000\u0018\u0000\u0019\u0001\u0000\f",
      "Hello world!\u0007\u0000\u001a\f",
      "\u0000\u001b\u0000\u001c",
      "\u0001\u0000\n",
      "HelloWorld\u0001\u0000\u0010java/lang/Object\u0001\u0000\u0010java/lang/System\u0001\u0000\u0003out\u0001\u0000\u0015Ljava/io/PrintStream;\u0001\u0000\u0013java/io/PrintStream\u0001\u0000\u0007println\u0001\u0000\u0015(Ljava/lang/String;)V\u0000!\u0000\u0005\u0000\u0006\u0000\u0000\u0000\u0000\u0000\u0002\u0000\u0001\u0000\u0007\u0000\u0001\u0000\t\u0000\u0000\u0000\u001d",
      "\u0000\u0001\u0000\u0001\u0000\u0000\u0000\u0005*�\u0000\u0001�\u0000\u0000\u0000\u0001\u0000\n",
      "\u0000\u0000\u0000\u0006\u0000\u0001\u0000\u0000\u0000\u0001\u0000\t\u0000\u000b",
      "\u0000\f",
      "\u0000\u0001\u0000\t\u0000\u0000\u0000%\u0000\u0002\u0000\u0001\u0000\u0000\u0000\t�\u0000\u0002\u0012\u0003�\u0000\u0004�\u0000\u0000\u0000\u0001\u0000\n",
      "\u0000\u0000\u0000\n",
      "\u0000\u0000\u0000\u0002\u0000\u000e\u0000\u0004\u0000\u0001\u0000"
     ]
    }
   ],
   "source": [
    "!cat HelloWorld.class"
   ]
  },
  {
   "cell_type": "markdown",
   "metadata": {},
   "source": [
    "As we can see, the `.class` file seems like it contains gibberish, unlike the `.java` file! This gibberish is [Java bytecode](https://en.wikipedia.org/wiki/Java_bytecode), which we won't cover in this course."
   ]
  },
  {
   "cell_type": "markdown",
   "metadata": {},
   "source": [
    "# Compilation"
   ]
  },
  {
   "cell_type": "markdown",
   "metadata": {},
   "source": [
    "The standard process of executing Java programs is a 2-step process: (Note: this is not the only process)\n",
    "![](images/compile.png)\n"
   ]
  },
  {
   "cell_type": "markdown",
   "metadata": {},
   "source": [
    "1. Pass the `hello.java` file to the compiler to generate a `.class` file.\n",
    "2. The `.class` file can then be passed to the interpreter to finally execute the program\n",
    "\n",
    "Why make a class file at all?\n",
    "* `.class` file has been type checked. Distributed code is safer (less error-prone)\n",
    "* `.class` file are easier for machine to execute, thus the execution is faster\n",
    "* Protects your intellectual property\n",
    "    * When we publish our program out there, we publish the `.class` file, not the `java` file. "
   ]
  },
  {
   "cell_type": "code",
   "execution_count": null,
   "metadata": {},
   "outputs": [],
   "source": []
  }
 ],
 "metadata": {
  "kernelspec": {
   "display_name": "Python 3",
   "language": "python",
   "name": "python3"
  },
  "language_info": {
   "codemirror_mode": {
    "name": "ipython",
    "version": 3
   },
   "file_extension": ".py",
   "mimetype": "text/x-python",
   "name": "python",
   "nbconvert_exporter": "python",
   "pygments_lexer": "ipython3",
   "version": "3.7.5"
  }
 },
 "nbformat": 4,
 "nbformat_minor": 4
}
