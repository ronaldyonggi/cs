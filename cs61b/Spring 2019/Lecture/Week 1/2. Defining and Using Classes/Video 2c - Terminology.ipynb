{
 "cells": [
  {
   "cell_type": "markdown",
   "metadata": {},
   "source": [
    "# Defining a Typical Class (Terminology)"
   ]
  },
  {
   "cell_type": "code",
   "execution_count": 1,
   "metadata": {},
   "outputs": [],
   "source": [
    "public class Dog{\n",
    "    public int weightInPounds;\n",
    "    \n",
    "    public Dog(int w) {\n",
    "        weightInPounds = w;\n",
    "    }\n",
    "    \n",
    "    public void makeNoise() {\n",
    "        if (weightInPounds < 10) {\n",
    "            System.out.println(\"yip!\");\n",
    "        } else if (weightInPounds < 30) {\n",
    "            System.out.println(\"bark.\");\n",
    "        } else {\n",
    "            System.out.println(\"wooooof!\");\n",
    "        }\n",
    "    }\n",
    "}"
   ]
  },
  {
   "cell_type": "markdown",
   "metadata": {},
   "source": [
    "Let's break down our `Dog` class and analyze the components!"
   ]
  },
  {
   "cell_type": "markdown",
   "metadata": {},
   "source": [
    "#### Instance Variable"
   ]
  },
  {
   "cell_type": "code",
   "execution_count": null,
   "metadata": {},
   "outputs": [],
   "source": [
    "public int weightInPounds; // Instance variable"
   ]
  },
  {
   "cell_type": "markdown",
   "metadata": {},
   "source": [
    "`weightInPounds` is an `instance variable`. Instance variables keep track of properties of an instance of a class."
   ]
  },
  {
   "cell_type": "markdown",
   "metadata": {},
   "source": [
    "#### Constructor"
   ]
  },
  {
   "cell_type": "code",
   "execution_count": null,
   "metadata": {},
   "outputs": [],
   "source": [
    "public Dog(int startingWeight) {\n",
    "    weightInPounds = startingWeight;\n",
    "}"
   ]
  },
  {
   "cell_type": "markdown",
   "metadata": {},
   "source": [
    "Above, we have the `Dog` constructor, which tells us how to create an instance of the `Dog` class.  The constructor sets the instance variables (e.g. `weightInPounds`)."
   ]
  },
  {
   "cell_type": "markdown",
   "metadata": {},
   "source": [
    "#### Non-static method, or Instance Method"
   ]
  },
  {
   "cell_type": "code",
   "execution_count": null,
   "metadata": {},
   "outputs": [],
   "source": [
    "public void makeNoise() {\n",
    "        if (weightInPounds < 10) {\n",
    "            System.out.println(\"yip!\");\n",
    "        } else if (weightInPounds < 30) {\n",
    "            System.out.println(\"bark.\");\n",
    "        } else {\n",
    "            System.out.println(\"wooooof!\");\n",
    "        }\n",
    "    }"
   ]
  },
  {
   "cell_type": "markdown",
   "metadata": {},
   "source": [
    "An instance method is a method that is invoked by an instance of a class. **Instance methods should be non-static**."
   ]
  },
  {
   "cell_type": "markdown",
   "metadata": {},
   "source": [
    "## Instantiating a Class and Terminology"
   ]
  },
  {
   "cell_type": "markdown",
   "metadata": {},
   "source": [
    "Here is an example of a more complicated `DogLauncher` class definition,"
   ]
  },
  {
   "cell_type": "code",
   "execution_count": null,
   "metadata": {},
   "outputs": [],
   "source": [
    "public class DogLauncher {\n",
    "    public static void main(String[] args) {\n",
    "        Dog smallDog;\n",
    "        new Dog(20);\n",
    "        smallDog = new Dog(5);\n",
    "        Dog hugeDog = new Dog(150);\n",
    "        smallDog = makeNoise();\n",
    "        hugeDog = makeNoise();\n",
    "    }\n",
    "}"
   ]
  },
  {
   "cell_type": "code",
   "execution_count": null,
   "metadata": {},
   "outputs": [],
   "source": [
    "Dog smallDog; // Declaration"
   ]
  },
  {
   "cell_type": "markdown",
   "metadata": {},
   "source": [
    "Above, we have a **declaration** of a `Dog` variable named `smallDog`. However this doesn't mean we have created any `Dog` instance. The `smallDog` variable contains nothing!"
   ]
  },
  {
   "cell_type": "code",
   "execution_count": null,
   "metadata": {},
   "outputs": [],
   "source": [
    "new Dog(20); // Instantiation"
   ]
  },
  {
   "cell_type": "markdown",
   "metadata": {},
   "source": [
    "Above is the opposite of the previous cell. Here we create an instance of a `Dog` class with size `20`, but we don't assign it to any variable. Since it's not assigned anywhere, once constructed, it will be removed immediately by a \"garbage collector\".\n",
    "\n",
    "If we want to avoid losing the `Dog` that we just created, we need to assign it to a variable."
   ]
  },
  {
   "cell_type": "code",
   "execution_count": null,
   "metadata": {},
   "outputs": [],
   "source": [
    "smallDog = new Dog(5); // Instantiation and Assignment"
   ]
  },
  {
   "cell_type": "markdown",
   "metadata": {},
   "source": [
    "Above, we instantiate a `Dog` object and assign it to the variable `smallDog` that we declared earlier. We call this **instantiation and assignment**.\n",
    "\n",
    "However, a more common way is to do 3 things on the same time: **declaration, instantiation and assignment**."
   ]
  },
  {
   "cell_type": "code",
   "execution_count": null,
   "metadata": {},
   "outputs": [],
   "source": [
    "Dog hugeDog = new Dog(150);"
   ]
  },
  {
   "cell_type": "markdown",
   "metadata": {},
   "source": [
    "Above, we...\n",
    "\n",
    "1. Declare a variable named `hugeDog`\n",
    "2. Instantiate a `Dog` object with weight 150\n",
    "3. Assign the newly created `Dog` object to the variable `hugeDog`."
   ]
  },
  {
   "cell_type": "code",
   "execution_count": null,
   "metadata": {},
   "outputs": [],
   "source": [
    "// Invocation\n",
    "smallDog.makeNoise();\n",
    "hugeDog.makeNoise();"
   ]
  },
  {
   "cell_type": "markdown",
   "metadata": {},
   "source": [
    "Above, we invoke the `smallDog` and `hugeDog`'s `makeNoise()` method. The dot `.` notation means using the method or variable belonging to a specific `Dog` instance (e.g. `smallDog`, `hugeDog`). "
   ]
  },
  {
   "cell_type": "markdown",
   "metadata": {},
   "source": []
  }
 ],
 "metadata": {
  "kernelspec": {
   "display_name": "Python 3",
   "language": "python",
   "name": "python3"
  },
  "language_info": {
   "codemirror_mode": {
    "name": "ipython",
    "version": 3
   },
   "file_extension": ".py",
   "mimetype": "text/x-python",
   "name": "python",
   "nbconvert_exporter": "python",
   "pygments_lexer": "ipython3",
   "version": "3.7.4"
  }
 },
 "nbformat": 4,
 "nbformat_minor": 4
}
