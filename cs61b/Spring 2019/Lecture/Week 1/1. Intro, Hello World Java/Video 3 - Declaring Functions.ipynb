{
 "cells": [
  {
   "cell_type": "markdown",
   "metadata": {},
   "source": [
    "# Declaring Functions"
   ]
  },
  {
   "cell_type": "markdown",
   "metadata": {},
   "source": [
    "Here we'll talk about declaring functions in Java.\n",
    "\n",
    "Below in Python, we have a function that that takes 2 variables `x` and `y` and returns the larger value between the 2."
   ]
  },
  {
   "cell_type": "code",
   "execution_count": 1,
   "metadata": {},
   "outputs": [
    {
     "name": "stdout",
     "output_type": "stream",
     "text": [
      "10\n"
     ]
    }
   ],
   "source": [
    "# Execute this using Python Kernel\n",
    "\n",
    "def larger(x, y):\n",
    "    if (x > y):\n",
    "        return x\n",
    "    return y\n",
    "\n",
    "print(larger(-5, 10))"
   ]
  },
  {
   "cell_type": "markdown",
   "metadata": {},
   "source": [
    "In Java, recall that **all code must be part of a class**. \n",
    "\n",
    "Instead of using the keyword `def`, here we use the word `public static`,"
   ]
  },
  {
   "cell_type": "code",
   "execution_count": 1,
   "metadata": {},
   "outputs": [
    {
     "ename": "CompilationException",
     "evalue": "",
     "output_type": "error",
     "traceback": [
      "\u001b[1m\u001b[30m|   \u001b[1m\u001b[30m    public static \u001b[0m\u001b[1m\u001b[30m\u001b[41m\u001b[0m\u001b[1m\u001b[30mlarger(x, y) {\u001b[0m",
      "\u001b[1m\u001b[31minvalid method declaration; return type required\u001b[0m",
      "",
      "\u001b[1m\u001b[30m|   \u001b[1m\u001b[30m    public static larger(x\u001b[0m\u001b[1m\u001b[30m\u001b[41m\u001b[0m\u001b[1m\u001b[30m, y) {\u001b[0m",
      "\u001b[1m\u001b[31m<identifier> expected\u001b[0m",
      "",
      "\u001b[1m\u001b[30m|   \u001b[1m\u001b[30m    public static larger(x, y\u001b[0m\u001b[1m\u001b[30m\u001b[41m\u001b[0m\u001b[1m\u001b[30m) {\u001b[0m",
      "\u001b[1m\u001b[31m<identifier> expected\u001b[0m",
      ""
     ]
    }
   ],
   "source": [
    "public class LargerDemo{\n",
    "    public static larger(x, y) {\n",
    "        if (x > y){\n",
    "            return x;\n",
    "        }\n",
    "        // Otherwise, returns y\n",
    "        return y;\n",
    "    }\n",
    "    \n",
    "    public static void main(String[] args){\n",
    "        \n",
    "    }\n",
    "}"
   ]
  },
  {
   "cell_type": "markdown",
   "metadata": {},
   "source": [
    "As we execute the code above, we ran into an error. The error is basically saying:\n",
    "1. We need to define what `x` and `y` is\n",
    "2. We need to define the type of data the function `larger` returns.\n",
    "\n",
    "Thus instead of just writing the following,"
   ]
  },
  {
   "cell_type": "code",
   "execution_count": null,
   "metadata": {},
   "outputs": [],
   "source": [
    "public static larger(x, y){}"
   ]
  },
  {
   "cell_type": "markdown",
   "metadata": {},
   "source": [
    "We have to write it as the following,"
   ]
  },
  {
   "cell_type": "code",
   "execution_count": 2,
   "metadata": {},
   "outputs": [
    {
     "ename": "CompilationException",
     "evalue": "",
     "output_type": "error",
     "traceback": [
      "\u001b[1m\u001b[30m|   \u001b[1m\u001b[30mpublic static int larger(int x, int y)\u001b[0m\u001b[1m\u001b[30m\u001b[41m{}\u001b[0m\u001b[1m\u001b[30m\u001b[0m",
      "\u001b[1m\u001b[31mmissing return statement\u001b[0m",
      "",
      "\u001b[1m\u001b[30m|   \u001b[1m\u001b[30m\u001b[0m\u001b[1m\u001b[30m\u001b[41mpublic static\u001b[0m\u001b[1m\u001b[30m int larger(int x, int y){}\u001b[0m",
      "\u001b[1m\u001b[31mModifier 'static'  not permitted in top-level declarations, ignored\u001b[0m",
      ""
     ]
    }
   ],
   "source": [
    "public static int larger(int x, int y){}"
   ]
  },
  {
   "cell_type": "code",
   "execution_count": 4,
   "metadata": {},
   "outputs": [],
   "source": [
    "public class LargerDemo{\n",
    "    public static int larger(int x,int y) {\n",
    "        if (x > y){\n",
    "            return x;\n",
    "        }\n",
    "        // Otherwise, returns y\n",
    "        return y;\n",
    "    }\n",
    "    \n",
    "    public static void main(String[] args){\n",
    "        \n",
    "    }\n",
    "}"
   ]
  },
  {
   "cell_type": "markdown",
   "metadata": {},
   "source": [
    "Above is a proper program that contains the function `larger`. We'll put the call to the function within the `main` method. Below is how the whole program supposed to look."
   ]
  },
  {
   "cell_type": "code",
   "execution_count": 8,
   "metadata": {},
   "outputs": [],
   "source": [
    "public class LargerDemo{\n",
    "    public static int larger(int x,int y) {\n",
    "        if (x > y){\n",
    "            return x;\n",
    "        }\n",
    "        // Otherwise, returns y\n",
    "        return y;\n",
    "    }\n",
    "    \n",
    "    public static void main(String[] args){\n",
    "        System.out.println(larger(-5, 10));\n",
    "    }\n",
    "}"
   ]
  },
  {
   "cell_type": "markdown",
   "metadata": {},
   "source": [
    "#### Writer Notes:\n",
    "When we execute the program above, nothing will print. With IJava Kernel, we don't need to put the code in classes. However, for educational purpose, we assume that we put them in a class."
   ]
  },
  {
   "cell_type": "code",
   "execution_count": 9,
   "metadata": {},
   "outputs": [
    {
     "name": "stdout",
     "output_type": "stream",
     "text": [
      "10\n"
     ]
    }
   ],
   "source": [
    "//public class LargerDemo{\n",
    "    //public static \n",
    "        int larger(int x,int y) {\n",
    "            if (x > y){\n",
    "                return x;\n",
    "            }\n",
    "            return y;\n",
    "        } \n",
    "    \n",
    "    //public static void main(String[] args){\n",
    "        System.out.println(larger(-5, 10));\n",
    "    //}\n",
    "//}"
   ]
  },
  {
   "cell_type": "markdown",
   "metadata": {},
   "source": [
    "Some important notes:\n",
    "\n",
    "1. Functions must be declared as part of a class in Java."
   ]
  },
  {
   "cell_type": "code",
   "execution_count": 11,
   "metadata": {},
   "outputs": [],
   "source": [
    "public class LargerDemo{\n",
    "    public static int larger(int x,int y) {\n",
    "        if (x > y){\n",
    "            return x;\n",
    "        }\n",
    "        return y;\n",
    "    }\n",
    "}"
   ]
  },
  {
   "cell_type": "markdown",
   "metadata": {},
   "source": [
    "Recall in CS61A that a function that is part of a class is called a method. Thus in Java, all functions are methods. \n",
    "\n",
    "2. To define a function in Java, we use the keyword `public static`.\n",
    "    * Not always. We'll see alternate ways of defining functions later.\n",
    "    \n",
    "3. All parameters of a function must have a declare type\n",
    "    * The return value needs to have a declare type as well\n",
    "    \n",
    "If we try the following,"
   ]
  },
  {
   "cell_type": "code",
   "execution_count": 13,
   "metadata": {},
   "outputs": [
    {
     "name": "stdout",
     "output_type": "stream",
     "text": [
      "10\n"
     ]
    },
    {
     "ename": "CompilationException",
     "evalue": "",
     "output_type": "error",
     "traceback": [
      "\u001b[1m\u001b[30m|   \u001b[1m\u001b[30m        String lol = \u001b[0m\u001b[1m\u001b[30m\u001b[41mlarger(-5, 10)\u001b[0m\u001b[1m\u001b[30m;\u001b[0m",
      "\u001b[1m\u001b[31mincompatible types: int cannot be converted to java.lang.String\u001b[0m",
      ""
     ]
    }
   ],
   "source": [
    "//public class LargerDemo{\n",
    "    //public static \n",
    "        int larger(int x,int y) {\n",
    "            if (x > y){\n",
    "                return x;\n",
    "            }\n",
    "            return y;\n",
    "        } \n",
    "    \n",
    "    //public static void main(String[] args){\n",
    "        System.out.println(larger(-5, 10));\n",
    "        String lol = larger(-5, 10)\n",
    "    //}\n",
    "//}"
   ]
  },
  {
   "cell_type": "markdown",
   "metadata": {},
   "source": [
    "As we can see, we'll obtain an error since `larger` is a function that returns `int`, while `lol` is a `String` variable. "
   ]
  },
  {
   "cell_type": "markdown",
   "metadata": {},
   "source": [
    "4. Functions in Java return only one value"
   ]
  },
  {
   "cell_type": "markdown",
   "metadata": {},
   "source": [
    "# =========== Observations =============="
   ]
  },
  {
   "cell_type": "markdown",
   "metadata": {},
   "source": [
    "Here are some observations about the code we've written so far.\n",
    "\n",
    "Throughout the code, we named things in a way that makes the code self-readable. "
   ]
  },
  {
   "cell_type": "code",
   "execution_count": null,
   "metadata": {},
   "outputs": [],
   "source": [
    "public class LargerDemo{}"
   ]
  },
  {
   "cell_type": "markdown",
   "metadata": {},
   "source": [
    "Above, we can tell that `LargerDemo` is a demo of the `larger` function. "
   ]
  },
  {
   "cell_type": "code",
   "execution_count": null,
   "metadata": {},
   "outputs": [],
   "source": [
    "public static int larger(int x, int y){}"
   ]
  },
  {
   "cell_type": "markdown",
   "metadata": {},
   "source": [
    "Above, we can tell that it's a function called `larger`. We didn't name it, for example, just `f`."
   ]
  },
  {
   "cell_type": "code",
   "execution_count": null,
   "metadata": {},
   "outputs": [],
   "source": [
    "public static int f(int x, int y){}"
   ]
  },
  {
   "cell_type": "markdown",
   "metadata": {},
   "source": [
    "One of the important concepts in this class is to write code that's self-documenting, readable. We should write code that if other people read it, they can understand it. \n",
    "\n",
    "In Java, we use comments so that it's easier for us to read the code. A general rule of thumb is that when we write a function, put a little comment at the top describing what the function does. In Python, we use doctest,"
   ]
  },
  {
   "cell_type": "code",
   "execution_count": null,
   "metadata": {},
   "outputs": [],
   "source": [
    "def larger(x, y):\n",
    "    \"\"\" Return the larger of x and y \"\"\""
   ]
  },
  {
   "cell_type": "markdown",
   "metadata": {},
   "source": [
    "In Java, we do it as the following,"
   ]
  },
  {
   "cell_type": "code",
   "execution_count": null,
   "metadata": {},
   "outputs": [],
   "source": [
    "/** Return the larger of x and y */"
   ]
  },
  {
   "cell_type": "code",
   "execution_count": null,
   "metadata": {},
   "outputs": [],
   "source": [
    "public class LargerDemo{\n",
    "    /** Return the larger of x and y */\n",
    "    public static int larger(int x,int y) {\n",
    "        if (x > y){\n",
    "            return x;\n",
    "        }\n",
    "        return y;\n",
    "    }\n",
    "}"
   ]
  },
  {
   "cell_type": "markdown",
   "metadata": {},
   "source": [
    "It is also common to write a Java doc string in the beginning of the code. "
   ]
  },
  {
   "cell_type": "code",
   "execution_count": null,
   "metadata": {},
   "outputs": [],
   "source": [
    "/** Demonstrates creation of a method in Java */\n",
    "\n",
    "public class LargerDemo{\n",
    "    /** Return the larger of x and y */\n",
    "    public static int larger(int x,int y) {\n",
    "        if (x > y){\n",
    "            return x;\n",
    "        }\n",
    "        return y;\n",
    "    }\n",
    "}"
   ]
  }
 ],
 "metadata": {
  "kernelspec": {
   "display_name": "Java",
   "language": "java",
   "name": "java"
  },
  "language_info": {
   "codemirror_mode": "java",
   "file_extension": ".jshell",
   "mimetype": "text/x-java-source",
   "name": "Java",
   "pygments_lexer": "java",
   "version": "12.0.1+12"
  }
 },
 "nbformat": 4,
 "nbformat_minor": 2
}
