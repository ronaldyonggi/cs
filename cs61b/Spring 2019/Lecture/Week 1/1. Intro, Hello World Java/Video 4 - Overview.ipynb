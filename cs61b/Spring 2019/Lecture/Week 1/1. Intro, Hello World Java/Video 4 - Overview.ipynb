{
 "cells": [
  {
   "cell_type": "markdown",
   "metadata": {},
   "source": [
    "# Overview"
   ]
  },
  {
   "cell_type": "markdown",
   "metadata": {},
   "source": [
    "We'll reflect on what we've learned about the Java language."
   ]
  },
  {
   "cell_type": "markdown",
   "metadata": {},
   "source": [
    "## Java and Object Orientation"
   ]
  },
  {
   "cell_type": "markdown",
   "metadata": {},
   "source": [
    "Java is an object oriented language with strict requirements on how it is written.\n",
    "\n",
    "1. Every Java file (`.java`) must contain a class declaration \n",
    "    * Later we'll see that this is not completely true\n",
    "        * We can also declare `interfaces` in .Java files that may contain code\n",
    "2. All code lives inside a class (e.g. functions, helper functions, global constants, etc.)\n",
    "    * Also later we'll see that this is not completely true\n",
    "3. To run a Java program, we typically define a `main` method\n",
    "    * This is the code that's going to run when we execute the program \n",
    "    \n",
    "Below is what a `main` method looks like,"
   ]
  },
  {
   "cell_type": "code",
   "execution_count": null,
   "metadata": {},
   "outputs": [],
   "source": [
    "public static void main(String[] args{})"
   ]
  },
  {
   "cell_type": "markdown",
   "metadata": {},
   "source": [
    "## Java and Static Typing"
   ]
  },
  {
   "cell_type": "markdown",
   "metadata": {},
   "source": [
    "Java is a statically typed language. This means:\n",
    "\n",
    "1. All variables, parameters and methods must have a declared type"
   ]
  },
  {
   "cell_type": "code",
   "execution_count": null,
   "metadata": {},
   "outputs": [],
   "source": [
    "int x = 0 // Declared int type for variable x"
   ]
  },
  {
   "cell_type": "code",
   "execution_count": null,
   "metadata": {},
   "outputs": [],
   "source": [
    "public static int larger(int x, int y) //Declared int type for function name and parameters"
   ]
  },
  {
   "cell_type": "markdown",
   "metadata": {},
   "source": [
    "2. The **declared types are permanent**. They never change throughout the execution of the program.\n",
    "\n",
    "And the most important thing about a statically typed system is:\n",
    "\n",
    "3. The compiler checks and ensures that all types in the program are compatible before the the program even runs\n",
    "    * This avoids certain type errors \n",
    "    * Unlike Python, where the type checks are performed during execution."
   ]
  },
  {
   "cell_type": "markdown",
   "metadata": {},
   "source": [
    "## Reflections on Static Typing\n",
    "\n",
    "#### Advantages\n",
    "1. Catches certain types of errors, making it easier for the programmer to debug their code\n",
    "    * This way, type errors are unlikely to occur on the end user's computer\n",
    "        * E.g. if we're writing an Android app, there should be no danger of type error in people's phones\n",
    "2. Easier to read and reason about code since everything has a type\n",
    "3. Code can run more efficiently\n",
    "    * No need for expensive runtime type checks\n",
    "    \n",
    "#### Disadvantages\n",
    "1. Code is more verbose\n",
    "2. Code is less general\n",
    "    * There is a way around this, called generics\n",
    "\n",
    "For example,"
   ]
  },
  {
   "cell_type": "code",
   "execution_count": null,
   "metadata": {},
   "outputs": [],
   "source": [
    "public static int larger(int x, int y)"
   ]
  },
  {
   "cell_type": "markdown",
   "metadata": {},
   "source": [
    "The `larger` method only works for integers. The method can't take in `float` (or in Java, they're called `double`)."
   ]
  },
  {
   "cell_type": "markdown",
   "metadata": {},
   "source": []
  }
 ],
 "metadata": {
  "kernelspec": {
   "display_name": "Python 3",
   "language": "python",
   "name": "python3"
  },
  "language_info": {
   "codemirror_mode": {
    "name": "ipython",
    "version": 3
   },
   "file_extension": ".py",
   "mimetype": "text/x-python",
   "name": "python",
   "nbconvert_exporter": "python",
   "pygments_lexer": "ipython3",
   "version": "3.7.4"
  }
 },
 "nbformat": 4,
 "nbformat_minor": 4
}
