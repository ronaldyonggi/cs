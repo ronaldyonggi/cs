{
 "cells": [
  {
   "cell_type": "markdown",
   "metadata": {},
   "source": [
    "# Heaps"
   ]
  },
  {
   "cell_type": "markdown",
   "metadata": {},
   "source": [
    "## Introducing the Heap\n",
    "\n",
    "With the previous problem, BSTs would work, but we need to keep the tree bushy and it's difficult to handle duplicates.\n",
    "\n",
    "Binary min-heap: binary tree that is **complete** and obeys **min-heap property**\n",
    "* Min-heap: every node is less than or equal to both of its children\n",
    "* Complete: \n",
    "    1. Missing items only at the bottom level (if any)\n",
    "    2. All nodes are as far left as possible\n",
    "    \n",
    "![](images/heap.png)\n",
    "\n",
    "###### Tree 1, is a binary min-heap\n",
    "This tree only has 1 element, `0`, but fulfills both `min-heap` and `complete`\n",
    "\n",
    "###### Tree 2, is a binary min-heap\n",
    "* Every node is less than to its children\n",
    "\n",
    "###### Tree 3, is a binary min-heap\n",
    "* Every node is less than to its children\n",
    "* Missing item only at the bottom level, and\n",
    "* All nodes are as far to the left as possible\n",
    "\n",
    "###### Tree 4, NOT binary min-heap\n",
    "* One of the node, `2` is to the far right\n",
    "\n",
    "##### Tree 5, NOT binary min-heap\n",
    "* `4` is smaller than `5`\n",
    "    * In binary min-heap, the child of a node is supposedly always equal or greater!"
   ]
  },
  {
   "cell_type": "markdown",
   "metadata": {},
   "source": [
    "## Heap Comprehension Test\n",
    "\n",
    "![](images/test.png)\n",
    "\n",
    "##### Tree 1, is a binary min-heap\n",
    "* One of the element is missing but at the bottom level\n",
    "* All nodes are as far to the left\n",
    "* All children are equal to their parent node\n",
    "\n",
    "##### Tree 2, NOT binary min-heap\n",
    "* The whole right side of `5` is missing, but left side height is 2\n",
    "    * Missing item not only at the bottom level\n",
    "    \n",
    "##### Tree 3, NOT binary min-heap\n",
    "* `0` and `5` are smaller than their parent node\n",
    "* `4` is less than `2` \n",
    "\n",
    "##### Tree 4, is a binary min-heap\n",
    "* Missing right side, but it counts as the bottom level\n"
   ]
  },
  {
   "cell_type": "markdown",
   "metadata": {},
   "source": [
    "## What Good Are Heaps\n",
    "\n",
    "Heaps lend themselves very naturally to implementation of a priority queue.\n",
    "\n",
    "How would we support `getSmallest()`? \n",
    "\n",
    "**Ans**: It'll always be the element at the root!\n",
    "\n",
    "![](images/smallest.png)"
   ]
  },
  {
   "cell_type": "markdown",
   "metadata": {},
   "source": [
    "## How Do We Add To A Heap?\n",
    "\n",
    "![](images/challenge.png)"
   ]
  },
  {
   "cell_type": "code",
   "execution_count": null,
   "metadata": {},
   "outputs": [],
   "source": []
  }
 ],
 "metadata": {
  "kernelspec": {
   "display_name": "Python 3",
   "language": "python",
   "name": "python3"
  },
  "language_info": {
   "codemirror_mode": {
    "name": "ipython",
    "version": 3
   },
   "file_extension": ".py",
   "mimetype": "text/x-python",
   "name": "python",
   "nbconvert_exporter": "python",
   "pygments_lexer": "ipython3",
   "version": "3.7.4"
  }
 },
 "nbformat": 4,
 "nbformat_minor": 2
}
