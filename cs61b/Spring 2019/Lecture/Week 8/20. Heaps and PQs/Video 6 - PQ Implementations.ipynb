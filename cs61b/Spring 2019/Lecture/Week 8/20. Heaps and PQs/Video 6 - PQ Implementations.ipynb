{
 "cells": [
  {
   "cell_type": "markdown",
   "metadata": {},
   "source": [
    "## Approach 3B (Book Implementation) - Leaving One Empty Spot\n",
    "Store keys in an array. Offset everything by 1 spot.\n",
    "* Same as approach 3, but leave spot `0` empty\n",
    "    * Now root is index `1`\n",
    "* Makes computation of children / parents more neat\n",
    "    * `leftChild(k)` = `k*2`\n",
    "    * `rightChild(k)` = `k*2 + 1`\n",
    "    * `parent(k)` = `k/2`\n",
    "    \n",
    "![](images/eb.png)"
   ]
  },
  {
   "cell_type": "markdown",
   "metadata": {},
   "source": [
    " ## Heap Implementation of a Priority Queue\n",
    " \n",
    " ![](images/imp.png)\n",
    " * Recall that with Bushy BST, it's hard to handle items with same priority (duplicates)\n",
    "     * Think of priority as the level in a tree. The root has the highest priority\n",
    " \n",
    " Notes:\n",
    " * Why priority queue? Can think of position in tree as its \"priority\"\n",
    " * Heap is `log N` time AMORTIZED\n",
    "     * Sometimes resize occurs, but no big deal\n",
    " * BST can have constant `getSmallest` if we keep a pointer to smallest\n",
    " * Heaps handle duplicate priorities much more naturally than BSTs\n",
    " * Array based heaps take less memory (very roughly about 1/3rd the memory of representing a tree with approach 1a)"
   ]
  },
  {
   "cell_type": "markdown",
   "metadata": {},
   "source": [
    "## Some Implementation Questions"
   ]
  },
  {
   "cell_type": "code",
   "execution_count": null,
   "metadata": {},
   "outputs": [],
   "source": [
    "/** (Min) Priority Queue: Allowing tracking and removal of the \n",
    "  * smallest item in a priority queue. *\n",
    "\n",
    "public interface MinPQ<Item> {\n",
    "    /** Adds the item to the priority queue */\n",
    "    public void add (Item x);\n",
    "     \n",
    "    /** Returns the smallest item in the priority queue */\n",
    "    public Item getSmallest();\n",
    "    \n",
    "    /** Removes the smallest item from the priority queue */\n",
    "    public Item removeSmallest();\n",
    "    \n",
    "    /** Returns the size of the priority queue */\n",
    "    public int size();\n",
    "}"
   ]
  },
  {
   "cell_type": "markdown",
   "metadata": {},
   "source": [
    "1. How does a PQ know how to determine which item in a PQ is larger?\n",
    "    * What could we change so that there's a default comparison?\n",
    "    \n",
    "We could change the interface so that instead of taking any items, it only take items that extends `Comparable`."
   ]
  },
  {
   "cell_type": "code",
   "execution_count": null,
   "metadata": {},
   "outputs": [],
   "source": [
    "public interface MinPQ<Item extends Comparable<Item>>"
   ]
  },
  {
   "cell_type": "markdown",
   "metadata": {},
   "source": [
    "2. What constructors are needed to allow for different orderings?"
   ]
  }
 ],
 "metadata": {
  "kernelspec": {
   "display_name": "Python 3",
   "language": "python",
   "name": "python3"
  },
  "language_info": {
   "codemirror_mode": {
    "name": "ipython",
    "version": 3
   },
   "file_extension": ".py",
   "mimetype": "text/x-python",
   "name": "python",
   "nbconvert_exporter": "python",
   "pygments_lexer": "ipython3",
   "version": "3.7.4"
  }
 },
 "nbformat": 4,
 "nbformat_minor": 2
}
