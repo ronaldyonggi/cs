{
 "cells": [
  {
   "cell_type": "markdown",
   "metadata": {},
   "source": [
    "## Summary and Application"
   ]
  },
  {
   "cell_type": "markdown",
   "metadata": {},
   "source": [
    "## Multi-Dimensional Data Summary\n",
    "\n",
    "Multidimensional data has interesting operations:\n",
    "* Range Finding: What are all the objects inside this (rectangular) subspace?\n",
    "* Nearest: What is the closest object to a specific point?\n",
    "    * Can be generalized to k-nearest\n",
    "    \n",
    "The most common approach is **spatial partitioning**:\n",
    "* Uniform Partitioning: Analogous to hashing\n",
    "* Quadtree: Generalized 2D BST where each node \"owns\" 4 subspaces\n",
    "* K-d Tree: Generalized k-d(imensional) BST where each node \"owns\" 2 subspaces\n",
    "    * Dimension of ownership cycles with each level of depth in tree\n",
    "    \n",
    "Spatial partitioning allows for **pruning** of the search space"
   ]
  },
  {
   "cell_type": "markdown",
   "metadata": {},
   "source": [
    "## Applicaton 1: Murmuration\n",
    "\n",
    "When birds flock fly and migrate to another place: starlings murmurate. Turns out there's an algorithm that simulates the same behavior.\n",
    "\n",
    "Efficient simulation means \"birds\" have to find their nearest neighbor efficiently"
   ]
  },
  {
   "cell_type": "markdown",
   "metadata": {},
   "source": [
    "## Application 2: NBody Simulation\n",
    "\n",
    "Our NBody simulation from Project 0 was a quadratic algorithm\n",
    "* Every object has to calculate the force from every other object\n",
    "* This is silly if the force exerted is small (e.g. individual star in the Andromeda galaxy pulling on the sun)\n",
    "\n",
    "One optimization: **Barnes-Hut**\n",
    "* Represent universe as a quadtree (or octree) of objects\n",
    "* If a node is sufficiently far away from X, then treat that node and all of its children as a single object\n",
    "    * Example: Andromeda is very far, so treat it as a single object for the purposes of force calculation on our sun\n"
   ]
  },
  {
   "cell_type": "markdown",
   "metadata": {},
   "source": []
  },
  {
   "cell_type": "code",
   "execution_count": null,
   "metadata": {},
   "outputs": [],
   "source": []
  }
 ],
 "metadata": {
  "kernelspec": {
   "display_name": "Python 3",
   "language": "python",
   "name": "python3"
  },
  "language_info": {
   "codemirror_mode": {
    "name": "ipython",
    "version": 3
   },
   "file_extension": ".py",
   "mimetype": "text/x-python",
   "name": "python",
   "nbconvert_exporter": "python",
   "pygments_lexer": "ipython3",
   "version": "3.7.4"
  }
 },
 "nbformat": 4,
 "nbformat_minor": 4
}
