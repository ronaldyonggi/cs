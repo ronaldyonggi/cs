{
 "cells": [
  {
   "cell_type": "markdown",
   "metadata": {},
   "source": [
    "# Multi-Dimensional Data"
   ]
  },
  {
   "cell_type": "markdown",
   "metadata": {},
   "source": [
    "## Yet Another Type of Map/Set\n",
    "\n",
    "We've seen 2 fairly general implementations of sets and maps:\n",
    "* Hash Table: requires that keys can be hashed\n",
    "* Search Tree: requires that keys can be compared\n",
    "\n",
    "We've also seen 2 special case implementations:\n",
    "* Data Indexed Array: requires that keys are small\n",
    "* Trie: requires that keys are strings"
   ]
  },
  {
   "cell_type": "markdown",
   "metadata": {},
   "source": [
    "## Motivation: 2D Range Finding and Nearest Neighbors\n",
    "\n",
    "Suppose we want to perform operations on a **set** of Body objects in space.\n",
    "\n",
    "![](images/2d.png)\n",
    "\n",
    "* 2D Range searching: How many objects are in the highlighted rectangle?\n",
    "* Nearest Neighbors: What is the closest object ot the space horse?\n",
    "\n",
    "Suppose the set is stored as a hash table, where the hash code of each `Body` is as the following,"
   ]
  },
  {
   "cell_type": "code",
   "execution_count": null,
   "metadata": {},
   "outputs": [],
   "source": [
    "hashCode pseudoCode:\n",
    "    return xPos.hashCode() + 31**4 + yPos.hashCode() * 31**3 + \n",
    "           xVel.hashCode() + 31**2 + yVel.hashCode() * 31 +\n",
    "           mass.hashCode()"
   ]
  },
  {
   "cell_type": "markdown",
   "metadata": {},
   "source": [
    "1. How would the `nearest` be implemented?\n",
    "    * Have to operate every single item\n",
    "    * Because the location of every object (the bucket that each object is in) is effectively random\n",
    "    * We don't know which bucket to look at\n",
    "2. What would be the runtime of nearest?\n",
    "    * $\\Theta(N)$"
   ]
  }
 ],
 "metadata": {
  "kernelspec": {
   "display_name": "Python 3",
   "language": "python",
   "name": "python3"
  },
  "language_info": {
   "codemirror_mode": {
    "name": "ipython",
    "version": 3
   },
   "file_extension": ".py",
   "mimetype": "text/x-python",
   "name": "python",
   "nbconvert_exporter": "python",
   "pygments_lexer": "ipython3",
   "version": "3.7.4"
  }
 },
 "nbformat": 4,
 "nbformat_minor": 4
}
