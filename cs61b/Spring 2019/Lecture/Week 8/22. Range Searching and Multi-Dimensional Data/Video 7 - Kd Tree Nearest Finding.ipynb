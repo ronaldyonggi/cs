{
 "cells": [
  {
   "cell_type": "markdown",
   "metadata": {},
   "source": [
    "## K-d Trees\n",
    "\n",
    "The usefulness of k-d tree came from the same idea of a quadtree where each object / node controls multiple subspaces. In quadtree, each node own 4 subspaces while in k-d tree, each node owns 2 subspaces.\n",
    "\n",
    "For example, the node D below owns 2 subspaces: top and bottom. The top subspace is infinitely large.\n",
    " \n",
    "Node A owns subspace on its left and right.\n",
    "\n",
    "![](images/subspace.png)"
   ]
  },
  {
   "cell_type": "markdown",
   "metadata": {},
   "source": [
    "## K-d Nearest Demo\n",
    "\n",
    "See [demo](https://docs.google.com/presentation/d/1DNunK22t-4OU_9c-OBgKkMAdly9aZQkWuv_tBkDg1G4/edit?usp=sharing) here!\n",
    "\n"
   ]
  },
  {
   "cell_type": "code",
   "execution_count": null,
   "metadata": {},
   "outputs": [],
   "source": [
    "nearest(0,7)\n",
    "\n",
    "//First, compare with A(2, 3)\n",
    "// Looking at the tree, we compare the x-value. 0 is less than 2,\n",
    "// so go to left branch\n",
    "\n",
    "// Second, compare with E(1, 5)\n",
    "// Looking at Node E, we compare the y-value. 7 is greater than 5,\n",
    "// so go up!\n",
    "\n",
    "// Up from node E is null! So return"
   ]
  },
  {
   "cell_type": "markdown",
   "metadata": {},
   "source": [
    "Project Note: It's incredibly important that we consider the correct child. The code will be much slower if we always use the \"left\" link before the \"right\" one.\n",
    "\n",
    "Intuition is that we want to search more promising parts of the space first, so we can prune less promising parts later.\n",
    "\n",
    "Even though that we already found the correct answer, algorithmically we also want to explore the unexplored sides. For example,"
   ]
  },
  {
   "cell_type": "code",
   "execution_count": null,
   "metadata": {},
   "outputs": [],
   "source": [
    "// We haven't checked the down region of E and the right side of A!\n",
    "\n",
    "// Could something better be on the bad side of the E (E.down)? Yes! \n",
    "// We could have a node at (0, 4.99999)\n",
    "// We check E.down, it's null. Then return"
   ]
  },
  {
   "cell_type": "markdown",
   "metadata": {},
   "source": [
    "Note 2: We can simplify code by only measuring the length of the green dashed vertical line rather than the purple diagonal hypotenuse. So in the demo, we compute,"
   ]
  },
  {
   "cell_type": "code",
   "execution_count": null,
   "metadata": {},
   "outputs": [],
   "source": [
    "goal.y - d.y"
   ]
  },
  {
   "cell_type": "markdown",
   "metadata": {},
   "source": [
    "Effectively the pruning is less aggressive, so we might sometimes look at a \"bad side\" that has no possible better points. However, the resulting answer will still be correct."
   ]
  }
 ],
 "metadata": {
  "kernelspec": {
   "display_name": "Python 3",
   "language": "python",
   "name": "python3"
  },
  "language_info": {
   "codemirror_mode": {
    "name": "ipython",
    "version": 3
   },
   "file_extension": ".py",
   "mimetype": "text/x-python",
   "name": "python",
   "nbconvert_exporter": "python",
   "pygments_lexer": "ipython3",
   "version": "3.7.4"
  }
 },
 "nbformat": 4,
 "nbformat_minor": 4
}
