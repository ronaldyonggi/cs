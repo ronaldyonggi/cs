{
 "cells": [
  {
   "cell_type": "markdown",
   "metadata": {},
   "source": [
    "## `nearest` Pseudocode"
   ]
  },
  {
   "cell_type": "code",
   "execution_count": null,
   "metadata": {},
   "outputs": [],
   "source": [
    "nearest(Node n, Point goal, Node best):\n",
    "    if n is null:\n",
    "        return best\n",
    "    \n",
    "    // if the distance from n to the goal is less than from current best to goal,\n",
    "    // ...then update best\n",
    "    if n.distance(goal) < best.distance(goal):\n",
    "        best = n\n",
    "    \n",
    "    // if the goal's coordinate is less than the current node\n",
    "    // (according to n's comparator, so it could be x or y), then the left\n",
    "    // branch is the good side and the right branch is the bad side,\n",
    "    // otherwise, it's the opposite\n",
    "    if goal < n:\n",
    "        goodSide = n.leftChild (left branch, it also applies to \"down\")\n",
    "        badSide = n.rightChild (right branch, it also applies to \"up\")\n",
    "    else: // Otherwise, assign the opposite\n",
    "        goodSide = n.rightChild\n",
    "        badSide = n.leftChild\n",
    "    // If bad side could still have something useful\n",
    "        best = nearest(badSide, goal, best)\n",
    "    return best\n",
    "    "
   ]
  }
 ],
 "metadata": {
  "kernelspec": {
   "display_name": "Python 3",
   "language": "python",
   "name": "python3"
  },
  "language_info": {
   "codemirror_mode": {
    "name": "ipython",
    "version": 3
   },
   "file_extension": ".py",
   "mimetype": "text/x-python",
   "name": "python",
   "nbconvert_exporter": "python",
   "pygments_lexer": "ipython3",
   "version": "3.7.4"
  }
 },
 "nbformat": 4,
 "nbformat_minor": 4
}
