{
 "cells": [
  {
   "cell_type": "markdown",
   "metadata": {},
   "source": [
    "# Alternate Child Tracking Strategies"
   ]
  },
  {
   "cell_type": "markdown",
   "metadata": {},
   "source": [
    "## Trie Performance in Terms of N\n",
    "\n",
    "Recall from previous video, using `DataIndexedCharMap` is very memory hungry. Every node has to store `R` links, most of which are null.\n",
    "\n",
    "![](images/hungry.png)"
   ]
  },
  {
   "cell_type": "markdown",
   "metadata": {},
   "source": [
    "## The DataIndexedCharMap Trie"
   ]
  },
  {
   "cell_type": "markdown",
   "metadata": {},
   "source": [
    "Suppose we have the following Trie,\n",
    "\n",
    "![](images/suppose.png)\n",
    "\n",
    "The visualization of accessing the trie to check for keys is as the following,\n",
    "\n",
    "![](images/check.png)\n",
    "\n",
    "* The root is obviously not a key. It has 2 links: the node `a` and the node `c`.\n",
    "    * The node `a` is not a key. It has a link: the node `d`\n",
    "        * The node `d` is a key\n",
    "    * The node `c` is a key\n",
    "    \n",
    "Notice that most of our arrays are sparse (mostly null). We could use any kind of map from character to node, e.g.\n",
    "* BST\n",
    "* Hash Table"
   ]
  },
  {
   "cell_type": "markdown",
   "metadata": {},
   "source": [
    "## Alternate Idea 1: The Hash-Table Based Trie\n",
    "\n",
    "Each letter has its own hash-table. \n",
    "\n",
    "![](images/alter1.png)"
   ]
  },
  {
   "cell_type": "markdown",
   "metadata": {},
   "source": [
    "## Alternate Idea #2: The BST-Based Trie\n",
    "\n",
    "![](images/alter2.png)"
   ]
  },
  {
   "cell_type": "markdown",
   "metadata": {},
   "source": [
    "## The 3 Trie Implementations\n",
    "\n",
    "When we implement a Trie, we have to pick a map to our children.\n",
    "* `DataIndexedCharMap`: Very fast, but memory hungry\n",
    "* Hash Table: almost as fast, uses less memoty\n",
    "* Balanced BST: A little slower than Hash Table, uses similar amount of memory?"
   ]
  },
  {
   "cell_type": "markdown",
   "metadata": {},
   "source": [
    "## Performance of the DataINdexedCharMap, BST, and Hash Table\n",
    "\n",
    "Using a BST or a Hash Table to store links to children will usually use less memory.\n",
    "* DataIndexedCharMap: 128 links per node\n",
    "* BST: `C` links per node, where `C` is the number of children\n",
    "* Hash Table: C links per node\n",
    "\n",
    "Note that cost per link is greater in BST and Hash Table\n",
    "* In HashTable, for each link, we have to store buckets\n",
    "* In BST, for each link, we need to store pointers to other links\n",
    "\n",
    "Using a BST or a Hash Table will take slightly more time.\n",
    "\n",
    "* DataIndexedCharMap is $\\Theta(1)$\n",
    "* BST is $O(log R)$, where $R$ is the size of alphabet\n",
    "* Hash Table is $O(R)$, where R is the size of alphabet\n",
    "\n",
    "Since `R` is fixed (e.g. in ASCII, it's 128), we can think of all 3 as $\\Theta(1)$"
   ]
  },
  {
   "cell_type": "markdown",
   "metadata": {},
   "source": [
    "## Trie Performance in Terms of N\n",
    "\n",
    "When our keys are strings, Tries give us slightly better performance on `contains` and `add`\n",
    "* Using BST or Hash Table is slightly slower but more memory efficient\n",
    "* We'll have to do computational experiments to see which is best for which application\n",
    "\n",
    "![](images/eff.png)\n",
    "\n",
    "Where Tries really shine is their efficiency with special string operations!"
   ]
  },
  {
   "cell_type": "code",
   "execution_count": null,
   "metadata": {},
   "outputs": [],
   "source": []
  }
 ],
 "metadata": {
  "kernelspec": {
   "display_name": "Python 3",
   "language": "python",
   "name": "python3"
  },
  "language_info": {
   "codemirror_mode": {
    "name": "ipython",
    "version": 3
   },
   "file_extension": ".py",
   "mimetype": "text/x-python",
   "name": "python",
   "nbconvert_exporter": "python",
   "pygments_lexer": "ipython3",
   "version": "3.7.4"
  }
 },
 "nbformat": 4,
 "nbformat_minor": 2
}
