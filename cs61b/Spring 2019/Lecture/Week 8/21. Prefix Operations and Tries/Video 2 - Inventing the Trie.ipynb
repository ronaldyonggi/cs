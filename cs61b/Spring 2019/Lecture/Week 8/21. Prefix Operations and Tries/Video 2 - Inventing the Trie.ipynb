{
 "cells": [
  {
   "cell_type": "markdown",
   "metadata": {},
   "source": [
    "## Tries: Each Node Stores One Character\n",
    "\n",
    "For String keys, we can use a \"Trie\". Key ideas:\n",
    "* Every node stores only one letter\n",
    "* Nodes can be shared by multiple keys\n",
    "\n",
    "![](images/sam.png)\n",
    "\n",
    "Above, we have the results of adding `\"sam\"` and `\"sad\"`. What will happen when we insert the remaining items `\"sap\"`, `\"same\"`, `\"a\"`, and `\"awls\"`?\n",
    "\n",
    "![](images/same.png)"
   ]
  },
  {
   "cell_type": "markdown",
   "metadata": {},
   "source": [
    "However, looking at this diagram, it's not clear which key actually exists. It's hard to tell that in this key we have \"sam\", \"sad\", \"sap\", \"same\", \"a\", \"awls\" but not \"aw\", \"awl\", \"sa\", etc. How do we indicate those?\n",
    "\n",
    "![](images/color.png)\n",
    "\n",
    "We can give each \"end of a key\" a color!"
   ]
  },
  {
   "cell_type": "markdown",
   "metadata": {},
   "source": [
    "## Tries: Search Hits and Misses\n",
    "Suppose we insert \"sam\", \"sad\", \"sap\", \"same\", \"a\" and \"awls\".\n",
    "\n",
    "##### `contains(\"sam\")` - hit\n",
    "Traverse through the node starting with `s`. By the time we ended up at `m`, see `m`'s color. It's blue, so it's true.\n",
    "\n",
    "##### `contains(\"sa\")` - miss\n",
    "Traverse through the node starting with `s`. By the time we ended up at `a`, the node's color is white! So it's false.\n",
    "\n",
    "##### `contains(\"a\")` - hit\n",
    "Traverse through the node starting with `a`. `a` is a blue node, so it's true.\n",
    "\n",
    "##### `contains(\"sa\")` - miss\n",
    "Traverse through the node starting with `s`. By the time we ended up at `a`, we can't find `q`. We fell off the tree, so `false`.\n",
    "\n",
    "2 ways to have a search \"miss\":\n",
    "* If the final node is white\n",
    "* If we fall off the tree"
   ]
  },
  {
   "cell_type": "markdown",
   "metadata": {},
   "source": [
    "## Trie Maps\n",
    "![](images/map.png)\n",
    "\n",
    "For every node, we store the letter AND the value associated with the key ending with that letter."
   ]
  },
  {
   "cell_type": "markdown",
   "metadata": {},
   "source": [
    "## Tries: A Digit-by-Digit Set Representation\n",
    "![](images/tries.png)"
   ]
  },
  {
   "cell_type": "markdown",
   "metadata": {},
   "source": [
    "## Tries\n",
    "* Short for Re**trie**val Tree\n",
    "* Inventor Edward Fredkin suggested it should be pronounced \"tree\", but almost everyone pronounces it \"try\""
   ]
  },
  {
   "cell_type": "code",
   "execution_count": null,
   "metadata": {},
   "outputs": [],
   "source": []
  }
 ],
 "metadata": {
  "kernelspec": {
   "display_name": "Python 3",
   "language": "python",
   "name": "python3"
  },
  "language_info": {
   "codemirror_mode": {
    "name": "ipython",
    "version": 3
   },
   "file_extension": ".py",
   "mimetype": "text/x-python",
   "name": "python",
   "nbconvert_exporter": "python",
   "pygments_lexer": "ipython3",
   "version": "3.7.4"
  }
 },
 "nbformat": 4,
 "nbformat_minor": 2
}
