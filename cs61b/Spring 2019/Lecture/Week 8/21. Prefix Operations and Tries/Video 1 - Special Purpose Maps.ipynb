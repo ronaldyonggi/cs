{
 "cells": [
  {
   "cell_type": "markdown",
   "metadata": {},
   "source": [
    "# Tries"
   ]
  },
  {
   "cell_type": "markdown",
   "metadata": {},
   "source": [
    "## Abstract Data Types vs. Specific Implementations\n",
    "\n",
    "There are many ways to implement an abstract data type.\n",
    "![](images/adt.png)"
   ]
  },
  {
   "cell_type": "markdown",
   "metadata": {},
   "source": [
    "## BST and Hash Table Set Runtimes\n",
    "\n",
    "We were successful with implementing BST and Hash Table. The runtimes were very fast.\n",
    "\n",
    "![](images/run.png)\n",
    "\n",
    "If we know that our keys all have some common property, we can sometimes get even better implementations.\n",
    "* Example: suppose we know our keys are always single ASCII characters \n",
    "    * e.g. map `'!'` to `306`\n",
    "    * map `'a'` to `192`"
   ]
  },
  {
   "cell_type": "markdown",
   "metadata": {},
   "source": [
    "## Special Case 1: Character Keyed Map\n",
    "\n",
    "Suppose we know that our keys are always ASCII characters. We can use array for implementation, simple and fast!"
   ]
  },
  {
   "cell_type": "code",
   "execution_count": null,
   "metadata": {},
   "outputs": [],
   "source": [
    "public class DataIndexedCharMap<V> { \n",
    "    private V[] items; // Store values of arbitrary type\n",
    "    \n",
    "    public DataIndexedCharMap(int R) {\n",
    "        // R is the number of possible characters (e.g. 128 for ASCII)\n",
    "        // If we want our implementation to support unicode, must pick\n",
    "        // larger number\n",
    "        items = (V[]) new Object[R];\n",
    "    }\n",
    "    \n",
    "    public void put(char c, V val) {\n",
    "        items[c] = val;\n",
    "        // Let's say we want to store '!' and 306. \n",
    "        // items['!'] = 306\n",
    "        // This works because recall in ASCII every character is a number!\n",
    "    }\n",
    "    \n",
    "    public V get(char c) {\n",
    "        return items[c];\n",
    "    }\n",
    "}"
   ]
  },
  {
   "cell_type": "markdown",
   "metadata": {},
   "source": [
    "![](images/case1.png)"
   ]
  },
  {
   "cell_type": "markdown",
   "metadata": {},
   "source": [
    "## Special Case 2: String Keyed Map\n",
    "\n",
    "Suppose we know that our keys are always strings.\n",
    "* Use a special data structure called `Trie`\n",
    "* Idea: Store each letter of the string as a node in a tree\n",
    "\n",
    "Tries will have great performance on:\n",
    "* `get`\n",
    "* `add`\n",
    "* Special string operations"
   ]
  },
  {
   "cell_type": "markdown",
   "metadata": {},
   "source": [
    "## Set of Strings\n",
    "\n",
    "Suppose we have a set containing `\"sam\"`, `\"sad\"`, `\"sap\"`, `\"same\"`, `\"a\"`, and `\"awls\"`. Here we have the BST and Hash Table representation.\n",
    "\n",
    "![](images/repr.png)"
   ]
  },
  {
   "cell_type": "code",
   "execution_count": null,
   "metadata": {},
   "outputs": [],
   "source": []
  }
 ],
 "metadata": {
  "kernelspec": {
   "display_name": "Python 3",
   "language": "python",
   "name": "python3"
  },
  "language_info": {
   "codemirror_mode": {
    "name": "ipython",
    "version": 3
   },
   "file_extension": ".py",
   "mimetype": "text/x-python",
   "name": "python",
   "nbconvert_exporter": "python",
   "pygments_lexer": "ipython3",
   "version": "3.7.4"
  }
 },
 "nbformat": 4,
 "nbformat_minor": 2
}
