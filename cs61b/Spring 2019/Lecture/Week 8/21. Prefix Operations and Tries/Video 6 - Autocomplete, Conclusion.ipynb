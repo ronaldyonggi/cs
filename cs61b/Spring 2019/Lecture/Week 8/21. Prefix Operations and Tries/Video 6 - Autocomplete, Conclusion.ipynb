{
 "cells": [
  {
   "cell_type": "markdown",
   "metadata": {},
   "source": [
    "# Autocomplete"
   ]
  },
  {
   "cell_type": "markdown",
   "metadata": {},
   "source": [
    "## The Autocomplete Problem\n",
    "Example, when we type \"how are\" into Google, we get 10 suggestions right away, \"how are you\", \"how are you in spanish\", \"how are you doing\", etc.\n",
    "\n",
    "One way to do this is to create a Trie-based map from strings to values\n",
    "* Value represents the priority - how important Google thinks that string is\n",
    "* Can store billions of strings efficiently since they share nodes\n",
    "* When a user types in a string \"hello\", we;\n",
    "    * Call `keysWithPrefix(\"hello\")`\n",
    "    * Return the 10 strings with the highest value"
   ]
  },
  {
   "cell_type": "markdown",
   "metadata": {},
   "source": [
    "## Autocomplete Example, for Top 3 Matches\n",
    "Suppose we have 6 strings with values shown below:"
   ]
  },
  {
   "cell_type": "code",
   "execution_count": null,
   "metadata": {},
   "outputs": [],
   "source": [
    "buck = 10\n",
    "sad = 12\n",
    "smog = 5\n",
    "spit = 15\n",
    "spite = 20\n",
    "spy = 7"
   ]
  },
  {
   "cell_type": "markdown",
   "metadata": {},
   "source": [
    "![](images/top.png)\n",
    "\n",
    "If the user types `s`, we:\n",
    "* Call `keysWithPrefix(\"s\")`"
   ]
  },
  {
   "cell_type": "code",
   "execution_count": null,
   "metadata": {},
   "outputs": [],
   "source": [
    "sad, smog, spit, spite, spy"
   ]
  },
  {
   "cell_type": "markdown",
   "metadata": {},
   "source": [
    "* Return the 3 keys with the greatest value"
   ]
  },
  {
   "cell_type": "code",
   "execution_count": 1,
   "metadata": {},
   "outputs": [
    {
     "ename": "NameError",
     "evalue": "name 'spit' is not defined",
     "output_type": "error",
     "traceback": [
      "\u001b[0;31m---------------------------------------------------------------------------\u001b[0m",
      "\u001b[0;31mNameError\u001b[0m                                 Traceback (most recent call last)",
      "\u001b[0;32m<ipython-input-1-7c39096bd640>\u001b[0m in \u001b[0;36m<module>\u001b[0;34m\u001b[0m\n\u001b[0;32m----> 1\u001b[0;31m \u001b[0mspit\u001b[0m\u001b[0;34m,\u001b[0m \u001b[0mspite\u001b[0m\u001b[0;34m,\u001b[0m\u001b[0msad\u001b[0m\u001b[0;34m\u001b[0m\u001b[0;34m\u001b[0m\u001b[0m\n\u001b[0m",
      "\u001b[0;31mNameError\u001b[0m: name 'spit' is not defined"
     ]
    }
   ],
   "source": [
    "spit, spite, sad"
   ]
  },
  {
   "cell_type": "markdown",
   "metadata": {},
   "source": [
    "This approach has a major flaw: if we enter a short string, the number of keys with the appropriate prefix is too many!\n",
    "* The program will collect billions of results, in the end just to keep 10. This is very inefficient!"
   ]
  },
  {
   "cell_type": "markdown",
   "metadata": {},
   "source": [
    "## A More Efficient Autocomplete\n",
    "One way to address this issue is to make each node stores:\n",
    "* Its own value, as well as,\n",
    "* The value of its best substring\n",
    "\n",
    "![](images/more.png)"
   ]
  },
  {
   "cell_type": "code",
   "execution_count": null,
   "metadata": {},
   "outputs": [],
   "source": [
    "// Example is the root node\n",
    "Value = None // indicates that this node is not a key\n",
    "best = 20 // indicates that its best substring is the key 'spite'"
   ]
  },
  {
   "cell_type": "markdown",
   "metadata": {},
   "source": [
    "The `t` node has a value of `15`, representing the string `spit`, but its best substring is `spite` as well with `20`\n",
    "\n",
    "The search will consider nodes in order of \"best\". In this case, the program will consider `sp(20)` than `sm(5)`\n",
    "* The search stops when top 3 matches are all better than the best remaining\n",
    "\n",
    "Details left as an exercise. Hint: Use a PQ! See Bear Maps gold points for more."
   ]
  },
  {
   "cell_type": "markdown",
   "metadata": {},
   "source": [
    "## Even More Efficient Autocomplete\n",
    "\n",
    "Looking at the previous Trie, the nodes b-u-c-k are redundant: there's really no need to keep them separate. The same goes for a-d, m-o-g. We can merge nodes that are redundant!\n",
    "* This version of trie is known as \"radix trie\"\n",
    "\n",
    "![](images/radix.png)"
   ]
  },
  {
   "cell_type": "markdown",
   "metadata": {},
   "source": [
    "# Trie Summary"
   ]
  },
  {
   "cell_type": "markdown",
   "metadata": {},
   "source": [
    "## Tries \n",
    "\n",
    "When the key is a string, we can use a Trie.\n",
    "* Theoretically better performance than hash table or search tree\n",
    "* Have to decide on a mapping from letter to node. 3 natural choices:\n",
    "    * `DataIndexedCharMap`\n",
    "        * e.g. an array of all possible links\n",
    "    * Bushy BST\n",
    "    * Hash Table\n",
    "\n",
    "All 3 choices are fine, though hash table is probably the most natural\n",
    "\n",
    "* Supports special string operations (e.g. `longestPrefixOf` and `keysWithPrefix`)\n",
    "    * `keysWithPrefix` is the heart of important technology like autocomplete\n",
    "    * Optimal implementation of autocomplete involves use of a priority queue"
   ]
  },
  {
   "cell_type": "markdown",
   "metadata": {},
   "source": [
    "## Domain Specific Sets and Maps\n",
    "More generally, we can sometimes take special advantage of our key type to improve sets and maps. For example:\n",
    "\n",
    "* Tries handle String keys. This allows fast string specific operations\n",
    "* Note that there are many other types of string sets / maps out there:\n",
    "    * Suffix Trees\n",
    "    * DAWG"
   ]
  },
  {
   "cell_type": "markdown",
   "metadata": {},
   "source": []
  }
 ],
 "metadata": {
  "kernelspec": {
   "display_name": "Python 3",
   "language": "python",
   "name": "python3"
  },
  "language_info": {
   "codemirror_mode": {
    "name": "ipython",
    "version": 3
   },
   "file_extension": ".py",
   "mimetype": "text/x-python",
   "name": "python",
   "nbconvert_exporter": "python",
   "pygments_lexer": "ipython3",
   "version": "3.7.4"
  }
 },
 "nbformat": 4,
 "nbformat_minor": 2
}
