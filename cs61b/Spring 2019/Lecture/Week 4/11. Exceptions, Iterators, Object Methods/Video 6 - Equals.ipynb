{
 "cells": [
  {
   "cell_type": "markdown",
   "metadata": {},
   "source": [
    "This time we'll override the `boolean equals(Object obj)` method."
   ]
  },
  {
   "cell_type": "markdown",
   "metadata": {},
   "source": [
    "## Equals vs. `==`"
   ]
  },
  {
   "cell_type": "markdown",
   "metadata": {},
   "source": [
    "As mentioned previously, `==` and `.equals()` behave differently.\n",
    "* `==` compares the bits of the operands.\n",
    "    * For references type, `==` means \"referencing the same object\" (are the memory address the same?)\n",
    "    \n",
    "\n",
    "![](images/==.png)\n",
    "\n",
    "To test equality, use:\n",
    "* `.equals` for classes\n",
    "    * Requires writing a `.equals` method for classes because default implementation of `.equals` uses `==`\n",
    "* `Arrays.equal` or `Arrays.deepEquals` for arrays"
   ]
  },
  {
   "cell_type": "markdown",
   "metadata": {},
   "source": [
    "## The Default Implementation of Equals"
   ]
  },
  {
   "cell_type": "markdown",
   "metadata": {},
   "source": [
    "If we run the following code,"
   ]
  },
  {
   "cell_type": "code",
   "execution_count": null,
   "metadata": {},
   "outputs": [],
   "source": [
    "ArraySet<Integer> aset = new ArraySet<>();\n",
    "aset.add(5);\n",
    "aset.add(23);\n",
    "aset.add(42);\n",
    "\n",
    "System.out.println(aset);\n",
    "\n",
    "ArraySet<Integer> aset2 = new ArraySet<>();\n",
    "aset2.add(5);\n",
    "aset2.add(23);\n",
    "aset2.add(42);\n",
    "\n",
    "System.out.println(aset.equals(aset2));\n",
    "\n",
    "// ==== Output ====\n",
    "False"
   ]
  },
  {
   "cell_type": "markdown",
   "metadata": {},
   "source": [
    "The code would return `False` because the default implementation of `equals` just uses `==`. Let's write our own `.equals` method!"
   ]
  },
  {
   "cell_type": "code",
   "execution_count": null,
   "metadata": {},
   "outputs": [],
   "source": [
    "@Override\n",
    "public boolean equals(ArraySet<T> other) {\n",
    "    ...\n",
    "}"
   ]
  },
  {
   "cell_type": "markdown",
   "metadata": {},
   "source": [
    "If we start with this signature however, we'll run into error (IntellIJ underlined red the `@Override`)! \n",
    "\n",
    "Recall that if we want to `@Override` a method, we have to match the signature exactly with the superclass's. The superclass's signature is `boolean equals(Object obj)`, thus we need to match this."
   ]
  },
  {
   "cell_type": "code",
   "execution_count": null,
   "metadata": {},
   "outputs": [],
   "source": [
    "@Override\n",
    "public boolean equals(Object other){\n",
    "     ...\n",
    "}"
   ]
  },
  {
   "cell_type": "markdown",
   "metadata": {},
   "source": [
    "By putting `Object`, we're allowing the possibility that our ArraySet could be equal to something else or something more generic (e.g. LinkedListSet).  \n",
    "\n",
    "First of all, cast the `other` object as an ArraySet so that it is comparable."
   ]
  },
  {
   "cell_type": "code",
   "execution_count": null,
   "metadata": {},
   "outputs": [],
   "source": [
    "ArraySet<T> o = (ArraySet<T> other);"
   ]
  },
  {
   "cell_type": "markdown",
   "metadata": {},
   "source": [
    "Then check whether their size matches. If they don't, obviously they're not equal."
   ]
  },
  {
   "cell_type": "code",
   "execution_count": null,
   "metadata": {},
   "outputs": [],
   "source": [
    "if (o.size() != this.size) {\n",
    "    return false;\n",
    "}"
   ]
  },
  {
   "cell_type": "markdown",
   "metadata": {},
   "source": [
    "Note that we don't want to compare the individual elements within the array. The elements might not be in the same order, thus we can't iterate and compare each item."
   ]
  },
  {
   "cell_type": "code",
   "execution_count": null,
   "metadata": {},
   "outputs": [],
   "source": [
    "o.item[i] == this.item[i]"
   ]
  },
  {
   "cell_type": "markdown",
   "metadata": {},
   "source": [
    "Instead, we can just check whether the item exists within the `other` ArraySet."
   ]
  },
  {
   "cell_type": "code",
   "execution_count": null,
   "metadata": {},
   "outputs": [],
   "source": [
    "for (T item: this){\n",
    "    if (!o.contains(item)) {\n",
    "        return false;\n",
    "    }\n",
    "}"
   ]
  },
  {
   "cell_type": "markdown",
   "metadata": {},
   "source": [
    "Otherwise, return true. "
   ]
  },
  {
   "cell_type": "markdown",
   "metadata": {},
   "source": [
    "## ArraySet `equals`"
   ]
  },
  {
   "cell_type": "code",
   "execution_count": null,
   "metadata": {},
   "outputs": [],
   "source": [
    "@Override\n",
    "public boolean equals(Object other){\n",
    "    ArraySet<T> o = (ArraySet<T> other);\n",
    "    if (o.size() != this.size) {return false;}\n",
    "    for (T item: this){\n",
    "        if (!o.contains(item)) {return false;}\n",
    "    }\n",
    "    return true;\n",
    "}"
   ]
  },
  {
   "cell_type": "markdown",
   "metadata": {},
   "source": [
    "This implementation is a good start, but fails if `other` is null or another class. \n",
    "\n",
    "We can't assign a null to an ArraySet!"
   ]
  },
  {
   "cell_type": "code",
   "execution_count": null,
   "metadata": {},
   "outputs": [],
   "source": [
    "ArraySet<T> o = null"
   ]
  },
  {
   "cell_type": "markdown",
   "metadata": {},
   "source": [
    "Thus, we'll need to add a case handle if the input object is a null."
   ]
  },
  {
   "cell_type": "code",
   "execution_count": null,
   "metadata": {},
   "outputs": [],
   "source": [
    "if (other == null) {return false;}"
   ]
  },
  {
   "cell_type": "markdown",
   "metadata": {},
   "source": [
    "What about the case if the class is not the same? We can use the `.getClass` method to obtain an object's class."
   ]
  },
  {
   "cell_type": "code",
   "execution_count": null,
   "metadata": {},
   "outputs": [],
   "source": [
    "if (other.getClass() != this.getClass()) {return false;}"
   ]
  },
  {
   "cell_type": "markdown",
   "metadata": {},
   "source": [
    "Now our implementation is already really good, but we're missing one thing: what if the input object is exactly the same as our ArraySet? \n",
    "\n",
    "We can create a case that if they're the same object, returns true. This way, we avoid having the need of unnecessarily iterating through the elements in the object."
   ]
  },
  {
   "cell_type": "code",
   "execution_count": null,
   "metadata": {},
   "outputs": [],
   "source": [
    "if (other == this) {return true;}"
   ]
  },
  {
   "cell_type": "markdown",
   "metadata": {},
   "source": [
    "And finally, we have the complete implementation that's very close to what a standard equals method looks like."
   ]
  },
  {
   "cell_type": "code",
   "execution_count": null,
   "metadata": {},
   "outputs": [],
   "source": [
    "@Override\n",
    "public boolean equals(Object other) {\n",
    "    if (other == null) {return false;}\n",
    "    if (this == other) {return true;}\n",
    "    if (this.getClass() != other.getClass()) {return false;}\n",
    "    \n",
    "    ArraySet<T> other = (ArraySet<T>) o;\n",
    "    if (this.size() != other.size()) {return false;}\n",
    "    for (T item: this){\n",
    "        if (!other.contains(item)) {return false;}\n",
    "    }\n",
    "}"
   ]
  }
 ],
 "metadata": {
  "kernelspec": {
   "display_name": "Python 3",
   "language": "python",
   "name": "python3"
  },
  "language_info": {
   "codemirror_mode": {
    "name": "ipython",
    "version": 3
   },
   "file_extension": ".py",
   "mimetype": "text/x-python",
   "name": "python",
   "nbconvert_exporter": "python",
   "pygments_lexer": "ipython3",
   "version": "3.7.4"
  }
 },
 "nbformat": 4,
 "nbformat_minor": 4
}
