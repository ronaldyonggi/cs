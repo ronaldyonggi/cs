{
 "cells": [
  {
   "cell_type": "code",
   "execution_count": null,
   "metadata": {},
   "outputs": [],
   "source": [
    "## `toString()`"
   ]
  },
  {
   "cell_type": "markdown",
   "metadata": {},
   "source": [
    "Currently we have the following `toString()` implementation,"
   ]
  },
  {
   "cell_type": "code",
   "execution_count": null,
   "metadata": {},
   "outputs": [],
   "source": [
    "@Override\n",
    "public String toString() {\n",
    "    StringBUilder returnSB = new StringBuilder(\"{\");\n",
    "    for (int i = 0; i < size - 1; i += 1) {\n",
    "        returnSB.append(items[i]);\n",
    "        returnSB.append(\", \");\n",
    "    }\n",
    "    returnSB.append(items[size - 1]);\n",
    "    returnSB.append(\"}\");\n",
    "    return returnSB.toString();\n",
    "}"
   ]
  },
  {
   "cell_type": "markdown",
   "metadata": {},
   "source": [
    "It might seem off because at the end we have to handle the special case of having comma `,`. We can improve our implementation by using  `String.join` method [Documentation](https://docs.oracle.com/javase/8/docs/api/java/lang/String.html)."
   ]
  },
  {
   "cell_type": "code",
   "execution_count": null,
   "metadata": {},
   "outputs": [],
   "source": [
    "@Override\n",
    "public String toString() {\n",
    "    List<String> listOfItems = new ArrayList<>();\n",
    "    // Iterate through the items\n",
    "    for (T x: this) {\n",
    "        listOfItems.add(x.toString());\n",
    "    }\n",
    "    return String.join(\", \", listOfItems);\n",
    "}\n",
    "\n",
    "// === Output ===\n",
    "5, 23, 42"
   ]
  },
  {
   "cell_type": "markdown",
   "metadata": {},
   "source": [
    "We'll obtain a clean output even without the braces `{}`!"
   ]
  },
  {
   "cell_type": "markdown",
   "metadata": {},
   "source": [
    "## `ArraySet.of()`"
   ]
  },
  {
   "cell_type": "markdown",
   "metadata": {},
   "source": [
    "Recall that there's a convenient way of creating a set using `.of` method,"
   ]
  },
  {
   "cell_type": "code",
   "execution_count": null,
   "metadata": {},
   "outputs": [],
   "source": [
    "Set <Integer> javaset = Set.of(5, 23, 42);\n",
    "Set <Integer> javaset2 = Set.of(5, 23, 42);"
   ]
  },
  {
   "cell_type": "markdown",
   "metadata": {},
   "source": [
    "Let's implement our own. This method should return an ArraySet of objects. The argument is not a `T[]`. Instead, it's something else."
   ]
  },
  {
   "cell_type": "code",
   "execution_count": null,
   "metadata": {},
   "outputs": [],
   "source": [
    "public static ArraySet<T> of (T... stuff)"
   ]
  },
  {
   "cell_type": "markdown",
   "metadata": {},
   "source": [
    "This argument `T...` is called var args, stands for a variable number of arguments.\n",
    "\n",
    "But we have a problem: since our method is static, it doesn't have access to the data type `<T>`. Instead, we make the method generic,"
   ]
  },
  {
   "cell_type": "code",
   "execution_count": null,
   "metadata": {},
   "outputs": [],
   "source": [
    "public static <Glerp> ArraySet<Glerp> of(Glerp...stuff) {\n",
    "    ArraySet<Glerp> returnSet = new ArraySet<Glerp>();\n",
    "    for (Glerp x: stuff) {\n",
    "        returnSet.add(x);\n",
    "    }\n",
    "    return returnSet; \n",
    "}"
   ]
  },
  {
   "cell_type": "markdown",
   "metadata": {},
   "source": [
    "Now if we try to run the following in the main method,"
   ]
  },
  {
   "cell_type": "code",
   "execution_count": null,
   "metadata": {},
   "outputs": [],
   "source": [
    "ArraySet<String> asetOfStrings = ArraySet.of(\"hi\", \"I'm\", \"here\");\n",
    "System.out.println(asetOfStrings);\n",
    "\n",
    "// === Output ===\n",
    "(hi, I'm, here)"
   ]
  }
 ],
 "metadata": {
  "kernelspec": {
   "display_name": "Python 3",
   "language": "python",
   "name": "python3"
  },
  "language_info": {
   "codemirror_mode": {
    "name": "ipython",
    "version": 3
   },
   "file_extension": ".py",
   "mimetype": "text/x-python",
   "name": "python",
   "nbconvert_exporter": "python",
   "pygments_lexer": "ipython3",
   "version": "3.7.4"
  }
 },
 "nbformat": 4,
 "nbformat_minor": 4
}
