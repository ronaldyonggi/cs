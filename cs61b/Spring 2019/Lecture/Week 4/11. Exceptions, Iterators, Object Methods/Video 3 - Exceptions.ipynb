{
 "cells": [
  {
   "cell_type": "code",
   "execution_count": 8,
   "metadata": {},
   "outputs": [],
   "source": [
    "// Uses generic type <T>\n",
    "public class ArraySet<T> {\n",
    "    private T[] items;\n",
    "    private int size;\n",
    "\n",
    "    public ArraySet() {\n",
    "        items = (T[]) new Object[100];\n",
    "        size = 0;\n",
    "    }\n",
    "    \n",
    "    public boolean contains(T x) {\n",
    "        // Iterate through the elements within the set\n",
    "        for(int i = 0; i < size; i += 1){\n",
    "            // If any of the element is equal to x, return True\n",
    "            if (x.equals(items[i])) {\n",
    "                return true;\n",
    "            }\n",
    "        }\n",
    "        return false;\n",
    "    }\n",
    "    \n",
    "    public void add(T x) {\n",
    "        if (contains(x)) {\n",
    "            items[size] = x;\n",
    "            size += 1;\n",
    "        }\n",
    "    }\n",
    "    \n",
    "    public int size() {\n",
    "        return size;\n",
    "    }\n",
    "\n",
    "}"
   ]
  },
  {
   "cell_type": "markdown",
   "metadata": {},
   "source": [
    "It turns out that there's a subtle bug in the `ArraySet` class. If we were to add `null` before adding actual contents in our `ArraySet`,"
   ]
  },
  {
   "cell_type": "code",
   "execution_count": null,
   "metadata": {},
   "outputs": [],
   "source": [
    "ArraySet<String> s = new ArraySet<>();\n",
    "s.add(null);\n",
    "s.add(\"horse\");\n",
    "s.add(\"fish\");"
   ]
  },
  {
   "cell_type": "markdown",
   "metadata": {},
   "source": [
    "...we'll obtain a `NullPointer Exception`. What makes it even more strange is that it happens when we added `\"horse\"`, not the `null`.\n",
    "\n",
    "If we use Java visualizer and breakpoints, we can find that the bug lies within the `contain` method, specifically the part when it checks"
   ]
  },
  {
   "cell_type": "code",
   "execution_count": null,
   "metadata": {},
   "outputs": [],
   "source": [
    "if (items[i].equals(x))"
   ]
  },
  {
   "cell_type": "markdown",
   "metadata": {},
   "source": [
    "If `null` was the first item, then Java tries to call the `.equals` method on a `null` object, which can't be done!"
   ]
  },
  {
   "cell_type": "markdown",
   "metadata": {},
   "source": [
    "# Exceptions"
   ]
  },
  {
   "cell_type": "markdown",
   "metadata": {},
   "source": [
    "* When something goes wrong, break the normal flow of control\n",
    "* So far, we've only seen implicity exception like the following,"
   ]
  },
  {
   "cell_type": "code",
   "execution_count": 7,
   "metadata": {},
   "outputs": [
    {
     "data": {
      "text/plain": [
       "false"
      ]
     },
     "execution_count": 7,
     "metadata": {},
     "output_type": "execute_result"
    }
   ],
   "source": [
    "ArraySet<String> s = new ArraySet<>();\n",
    "s.add(\"null\");\n",
    "s.add(\"horse\");\n",
    "s.add(\"fish\");\n",
    "s.contains(\"horse\");\n",
    "\n",
    "// Output\n",
    "$ java ExceptionDemo\n",
    "Exception in thread \"main\"\n",
    "java.lang.nullPointer Exception\n",
    "    at ArraySet.contains(ArraySet.java:16)\n",
    "    at ArraySet.add(ArraySet.java:26)\n",
    "    at ArraySet.main(ArraySet.java:40)"
   ]
  },
  {
   "cell_type": "markdown",
   "metadata": {},
   "source": [
    "This exception is also called\n",
    "* implicit exception\n",
    "* accidental exception\n",
    "* incidental exception\n",
    "\n",
    "It's an exception that occurs because we ran into an error in our code. With this exception, the code just crashes (stops running). For example, with the `main` method that we have above, the error occurs when Java runs,"
   ]
  },
  {
   "cell_type": "code",
   "execution_count": null,
   "metadata": {},
   "outputs": [],
   "source": [
    "s.add(\"horse\");"
   ]
  },
  {
   "cell_type": "markdown",
   "metadata": {},
   "source": [
    "...and therefore when the exception occurs, the rest of the code,"
   ]
  },
  {
   "cell_type": "code",
   "execution_count": null,
   "metadata": {},
   "outputs": [],
   "source": [
    "s.add(\"fish\");\n",
    "s.contains(\"horse\");"
   ]
  },
  {
   "cell_type": "markdown",
   "metadata": {},
   "source": [
    "...are not executed.\n",
    "\n"
   ]
  },
  {
   "cell_type": "markdown",
   "metadata": {},
   "source": [
    "## Explicit Exceptions"
   ]
  },
  {
   "cell_type": "markdown",
   "metadata": {},
   "source": [
    "Recall in Python, we can throw our own exception using the `raise` keyword. In Java, we use the `throw` keyword to throw an actual object. This way we can provide more...\n",
    "* ...informative message to a user\n",
    "* ...information to code that \"catches\" the exception\n",
    "\n",
    "Let's try implementing our own exception in the `add` method!"
   ]
  },
  {
   "cell_type": "code",
   "execution_count": null,
   "metadata": {},
   "outputs": [],
   "source": [
    "public void add(T x) {\n",
    "    if (x == null) {\n",
    "        throw new IllegalArgumentException(\"You can't add null to an ArraySet\");\n",
    "    }\n",
    "    if (contains(x)) {\n",
    "        ...\n",
    "    }\n",
    "}"
   ]
  },
  {
   "cell_type": "markdown",
   "metadata": {},
   "source": [
    "With this `add` implementation, when we run the code again we'll obtain the following Exception message,"
   ]
  },
  {
   "cell_type": "code",
   "execution_count": null,
   "metadata": {},
   "outputs": [],
   "source": [
    "// Output\n",
    "$ java Exception Demo\n",
    "Exception in thread \"main\"\n",
    "java.lang.IllegalArgumentException: Cannot add null!\n",
    "    at ArraySet.add(ArraySet.java:27)\n",
    "    at ArraySet.main(ArraySet.java:42)"
   ]
  },
  {
   "cell_type": "markdown",
   "metadata": {},
   "source": [
    "Arguably this is a bad exception,\n",
    "* Our code now crashes when we try to add `null`\n",
    "* Some potential solution:\n",
    "    * Ignore `null`\n",
    "    * Fix `contains` so that it doesn't crash if `items[i]` is null"
   ]
  },
  {
   "cell_type": "code",
   "execution_count": null,
   "metadata": {},
   "outputs": [],
   "source": [
    "public boolean contains (T x) {\n",
    "    for (int i = 0; i < size; i += 1) {\n",
    "        // if the\n",
    "        if (items[i] == null) {\n",
    "            if (x == null){\n",
    "                return true;\n",
    "            }\n",
    "        }\n",
    "        if (items[i].equals(x)){\n",
    "            ...\n",
    "        }\n",
    "    }\n",
    "}"
   ]
  },
  {
   "cell_type": "markdown",
   "metadata": {},
   "source": [
    "In the JUnit library, there's actually a method `equalsRegardingNull` that compares 2 objects but also takes into account the possibility if one of them (or both) are `null`.\n",
    "\n",
    "Side note: an actual Java Set usage looks like the following,"
   ]
  },
  {
   "cell_type": "code",
   "execution_count": null,
   "metadata": {},
   "outputs": [],
   "source": [
    "Set<String> s2 = new HashSet<>();\n",
    "s2.add(null);\n",
    "System.out.println(s2.contains(null));"
   ]
  }
 ],
 "metadata": {
  "kernelspec": {
   "display_name": "Python 3",
   "language": "python",
   "name": "python3"
  },
  "language_info": {
   "codemirror_mode": {
    "name": "ipython",
    "version": 3
   },
   "file_extension": ".py",
   "mimetype": "text/x-python",
   "name": "python",
   "nbconvert_exporter": "python",
   "pygments_lexer": "ipython3",
   "version": "3.7.4"
  }
 },
 "nbformat": 4,
 "nbformat_minor": 4
}
