{
 "cells": [
  {
   "cell_type": "markdown",
   "metadata": {},
   "source": [
    "# Summary"
   ]
  },
  {
   "cell_type": "markdown",
   "metadata": {},
   "source": [
    "We built our own Array based Set implementation. To make it more industrial strength, we:\n",
    "\n",
    "* Added an exception if a user tried to add `null` to the set\n",
    "    * There are other ways to deal with nulls. Our choice was arguably bad\n",
    "* Added support for \"ugly\" then \"nice\" iteration\n",
    "    * Ugly iteration: Creating a subclass with `next` and `hasNext` methods\n",
    "    * Nice iteration: Declaring that ArraySet implements `Iterable<T>`\n",
    "* Added a `toString()` method\n",
    "    * Beware of String concatenation\n",
    "* Added an `equals(Object)` method\n",
    "    * Make sure to deal with `null` and non-ArraySet arguments\n",
    "    * Used `getClas` to check the class of the passed object"
   ]
  }
 ],
 "metadata": {
  "kernelspec": {
   "display_name": "Python 3",
   "language": "python",
   "name": "python3"
  },
  "language_info": {
   "codemirror_mode": {
    "name": "ipython",
    "version": 3
   },
   "file_extension": ".py",
   "mimetype": "text/x-python",
   "name": "python",
   "nbconvert_exporter": "python",
   "pygments_lexer": "ipython3",
   "version": "3.7.4"
  }
 },
 "nbformat": 4,
 "nbformat_minor": 4
}
