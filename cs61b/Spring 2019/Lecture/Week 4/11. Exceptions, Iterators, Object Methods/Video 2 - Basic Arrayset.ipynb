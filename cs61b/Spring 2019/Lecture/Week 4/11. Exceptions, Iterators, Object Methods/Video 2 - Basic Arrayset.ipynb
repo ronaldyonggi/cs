{
 "cells": [
  {
   "cell_type": "markdown",
   "metadata": {},
   "source": [
    "From the provided `ArraySet.java`, we have the following template,"
   ]
  },
  {
   "cell_type": "code",
   "execution_count": null,
   "metadata": {},
   "outputs": [],
   "source": [
    "import java.util.Iterator;\n",
    "\n",
    "public class ArraySet<T> implements Iterable<T> {\n",
    "    private T[] items;\n",
    "    private int size; // the next item to be added will be at position size\n",
    "\n",
    "    public ArraySet() {\n",
    "        items = (T[]) new Object[100];\n",
    "        size = 0;\n",
    "    }\n",
    "\n",
    "    /* Returns true if this map contains a mapping for the specified key.\n",
    "     */\n",
    "    public boolean contains(T x) {\n",
    "        for (int i = 0; i < size; i += 1) {\n",
    "            if (items[i].equals(x)) {\n",
    "                return true;\n",
    "            }\n",
    "        }\n",
    "        return false;\n",
    "    }\n",
    "\n",
    "    /* Associates the specified value with the specified key in this map.\n",
    "       Throws an IllegalArgumentException if the key is null. */\n",
    "    public void add(T x) {\n",
    "        if (x == null) {\n",
    "            throw new IllegalArgumentException(\"can't add null\");\n",
    "        }\n",
    "        if (contains(x)) {\n",
    "            return;\n",
    "        }\n",
    "        items[size] = x;\n",
    "        size += 1;\n",
    "    }\n",
    "\n",
    "    /* Returns the number of key-value mappings in this map. */\n",
    "    public int size() {\n",
    "        return size;\n",
    "    }\n",
    "\n",
    "    /** returns an iterator (a.k.a. seer) into ME */\n",
    "    public Iterator<T> iterator() {\n",
    "        return new ArraySetIterator();\n",
    "    }\n",
    "\n",
    "    private class ArraySetIterator implements Iterator<T> {\n",
    "        private int wizPos;\n",
    "\n",
    "        public ArraySetIterator() {\n",
    "            wizPos = 0;\n",
    "        }\n",
    "\n",
    "        public boolean hasNext() {\n",
    "            return wizPos < size;\n",
    "        }\n",
    "\n",
    "        public T next() {\n",
    "            T returnItem = items[wizPos];\n",
    "            wizPos += 1;\n",
    "            return returnItem;\n",
    "        }\n",
    "    }\n",
    "\n",
    "    @Override\n",
    "    public String toString() {\n",
    "        StringBuilder returnSB = new StringBuilder(\"{\");\n",
    "        for (int i = 0; i < size - 1; i += 1) {\n",
    "            returnSB.append(items[i].toString());\n",
    "            returnSB.append(\", \");\n",
    "        }\n",
    "        returnSB.append(items[size - 1]);\n",
    "        returnSB.append(\"}\");\n",
    "        return returnSB.toString();\n",
    "    }\n",
    "\n",
    "    /* EXTRA VIDEO CODE\n",
    "    @Override\n",
    "    public String toString() {\n",
    "        List<String> listOfItems = new ArrayList<>();\n",
    "        for (T x : this) {\n",
    "            listOfItems.add(x.toString());\n",
    "        }\n",
    "        return \"{\" + String.join(\", \", listOfItems) + \"}\";\n",
    "    } */\n",
    "\n",
    "    /* EXTRA VIDEO CODE\n",
    "    public static <Glerp> ArraySet<Glerp> of(Glerp... stuff) {\n",
    "        ArraySet<Glerp> returnSet = new ArraySet<Glerp>();\n",
    "        for (Glerp x : stuff) {\n",
    "            returnSet.add(x);\n",
    "        }\n",
    "        return returnSet;\n",
    "    } */\n",
    "\n",
    "\n",
    "    @Override\n",
    "    public boolean equals(Object other) {\n",
    "        if (this == other) {\n",
    "            return true;\n",
    "        }\n",
    "        if (other == null) {\n",
    "            return false;\n",
    "        }\n",
    "        if (other.getClass() != this.getClass()) {\n",
    "            return false;\n",
    "        }\n",
    "        ArraySet<T> o = (ArraySet<T>) other;\n",
    "        if (o.size() != this.size()) {\n",
    "            return false;\n",
    "        }\n",
    "        for (T item : this) {\n",
    "            if (!o.contains(item)) {\n",
    "                return false;\n",
    "            }\n",
    "        }\n",
    "        return true;\n",
    "    }\n",
    "\n",
    "    public static void main(String[] args) {\n",
    "        ArraySet<Integer> aset = new ArraySet<>();\n",
    "        aset.add(5);\n",
    "        aset.add(23);\n",
    "        aset.add(42);\n",
    "\n",
    "        //iteration\n",
    "        for (int i : aset) {\n",
    "            System.out.println(i);\n",
    "        }\n",
    "\n",
    "        //toString\n",
    "        System.out.println(aset);\n",
    "\n",
    "        //equals\n",
    "        ArraySet<Integer> aset2 = new ArraySet<>();\n",
    "        aset2.add(5);\n",
    "        aset2.add(23);\n",
    "        aset2.add(42);\n",
    "\n",
    "        System.out.println(aset.equals(aset2));\n",
    "        System.out.println(aset.equals(null));\n",
    "        System.out.println(aset.equals(\"fish\"));\n",
    "        System.out.println(aset.equals(aset));\n",
    "\n",
    "        //EXTRA VIDEO CODE\n",
    "        //ArraySet<String> asetOfStrings = ArraySet.of(\"hi\", \"I'm\", \"here\");\n",
    "        //System.out.println(asetOfStrings);\n",
    "    }\n",
    "\n",
    "    /* Also to do:\n",
    "    1. Make ArraySet implement the Iterable<T> interface.\n",
    "    2. Implement a toString method.\n",
    "    3. Implement an equals() method.\n",
    "    */\n",
    "}"
   ]
  },
  {
   "cell_type": "markdown",
   "metadata": {},
   "source": [
    "We'll learn how to build this `ArraySet` implementation."
   ]
  },
  {
   "cell_type": "markdown",
   "metadata": {},
   "source": [
    "#### Private Variables"
   ]
  },
  {
   "cell_type": "markdown",
   "metadata": {},
   "source": [
    "Make sure to use generics so that it can takes any data type."
   ]
  },
  {
   "cell_type": "code",
   "execution_count": null,
   "metadata": {},
   "outputs": [],
   "source": [
    "// Uses generic type <T>\n",
    "public class ArraySet<T> {\n",
    "    private T[] items;\n",
    "    private int size;\n",
    "    ...\n",
    "}"
   ]
  },
  {
   "cell_type": "markdown",
   "metadata": {},
   "source": [
    "### Constructor"
   ]
  },
  {
   "cell_type": "markdown",
   "metadata": {},
   "source": [
    "For the constructor, remember that we can't simply create an array of objects such as the following,"
   ]
  },
  {
   "cell_type": "code",
   "execution_count": null,
   "metadata": {},
   "outputs": [],
   "source": [
    "items = new T[100];"
   ]
  },
  {
   "cell_type": "markdown",
   "metadata": {},
   "source": [
    "...instead, we'll have to use casting."
   ]
  },
  {
   "cell_type": "code",
   "execution_count": null,
   "metadata": {},
   "outputs": [],
   "source": [
    "public ArraySet() {\n",
    "    items = (T[]) new Object[100];\n",
    "    size = 0;\n",
    "}"
   ]
  },
  {
   "cell_type": "markdown",
   "metadata": {},
   "source": [
    "### `contains` - checks whether the set contains an element x"
   ]
  },
  {
   "cell_type": "markdown",
   "metadata": {},
   "source": [
    "Remember, checking equality with `==` is a bad idea!\n",
    "\n",
    "If we want to check if the string `\"cat\"` is within our set, the input `\"cat\"` string is in a different memory box from the `\"cat\"` string that's already in the set. Therefore, the `==` will return `False`. Instead, use `.equals` method!"
   ]
  },
  {
   "cell_type": "code",
   "execution_count": null,
   "metadata": {},
   "outputs": [],
   "source": [
    "public boolean contains(T x) {\n",
    "    // Iterate through the elements within the set\n",
    "    for(int i = 0; i < size; i += 1){\n",
    "        // If any of the element is equal to x, return True\n",
    "        if (x.equals(items[i])) {\n",
    "            return true;\n",
    "        }\n",
    "    }\n",
    "    return false;\n",
    "}"
   ]
  },
  {
   "cell_type": "markdown",
   "metadata": {},
   "source": [
    "### `add` - Add an element `x` t the end of the set IF x is not already within the set "
   ]
  },
  {
   "cell_type": "code",
   "execution_count": null,
   "metadata": {},
   "outputs": [],
   "source": [
    "public void add(T x) {\n",
    "    if (contains(x)) {\n",
    "        items[size] = x;\n",
    "        size += 1;\n",
    "    }\n",
    "}"
   ]
  },
  {
   "cell_type": "markdown",
   "metadata": {},
   "source": [
    "### `size` - returns the size of the set"
   ]
  },
  {
   "cell_type": "code",
   "execution_count": null,
   "metadata": {},
   "outputs": [],
   "source": [
    "public int size() {\n",
    "    return size;\n",
    "}"
   ]
  },
  {
   "cell_type": "markdown",
   "metadata": {},
   "source": [
    "#### Testing"
   ]
  },
  {
   "cell_type": "markdown",
   "metadata": {},
   "source": [
    "We can easily test our implementation by running the following `main` method and using the visualizer,"
   ]
  },
  {
   "cell_type": "code",
   "execution_count": null,
   "metadata": {},
   "outputs": [],
   "source": [
    "public static void main(String[] args){\n",
    "    ArraySet<String> s = new ArraySet<>();\n",
    "    s.add(\"horse\");\n",
    "    s.add(\"fish\");\n",
    "    s.add(\"house\");\n",
    "    s.add(\"fish\");\n",
    "    System.out.println(s.contains(\"horse\"));\n",
    "    System.out.println(s.size());\n",
    "}"
   ]
  },
  {
   "cell_type": "markdown",
   "metadata": {},
   "source": [
    "## Using An ArraySet"
   ]
  },
  {
   "cell_type": "markdown",
   "metadata": {},
   "source": [
    "Some terminology clarification,"
   ]
  },
  {
   "cell_type": "code",
   "execution_count": null,
   "metadata": {},
   "outputs": [],
   "source": [
    "public class ArraySet<T>"
   ]
  },
  {
   "cell_type": "markdown",
   "metadata": {},
   "source": [
    "`<T>` is called generic type variables. When we use the `ArraySet`,"
   ]
  },
  {
   "cell_type": "code",
   "execution_count": null,
   "metadata": {},
   "outputs": [],
   "source": [
    "ArraySet<String> S = new ArraySet<>();"
   ]
  },
  {
   "cell_type": "markdown",
   "metadata": {},
   "source": [
    "We provided `<String>`, which is the actual type argument."
   ]
  }
 ],
 "metadata": {
  "kernelspec": {
   "display_name": "Python 3",
   "language": "python",
   "name": "python3"
  },
  "language_info": {
   "codemirror_mode": {
    "name": "ipython",
    "version": 3
   },
   "file_extension": ".py",
   "mimetype": "text/x-python",
   "name": "python",
   "nbconvert_exporter": "python",
   "pygments_lexer": "ipython3",
   "version": "3.7.4"
  }
 },
 "nbformat": 4,
 "nbformat_minor": 4
}
