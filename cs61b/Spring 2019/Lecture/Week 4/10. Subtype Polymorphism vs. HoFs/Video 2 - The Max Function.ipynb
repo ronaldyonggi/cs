{
 "cells": [
  {
   "cell_type": "markdown",
   "metadata": {},
   "source": [
    "# DIY Comparison"
   ]
  },
  {
   "cell_type": "markdown",
   "metadata": {},
   "source": [
    "Suppose we want to write a function `max()` that returns the `max` of any array regardless of type.\n",
    "\n",
    "![](images/max.png)"
   ]
  },
  {
   "cell_type": "code",
   "execution_count": null,
   "metadata": {},
   "outputs": [],
   "source": [
    "// Suppose this code is within Maximizer.java\n",
    "\n",
    "public class Maximizer{\n",
    "    public static Object max(Object[] items) {\n",
    "        int maxDex = 0;\n",
    "        for (int i = 0; i < items.length; i += 1) {\n",
    "            if (Items[i] > items[maxDex]) {\n",
    "                maxDex = i;\n",
    "            }\n",
    "        }\n",
    "        return items[maxDex];\n",
    "    }\n",
    "\n",
    "    public static void main(String[] args) {\n",
    "        Dog[] dogs = {new Dog(\"Elyse\", 3), new Dog(\"Sture\", 9), new Dog(\"Benjamin\", 15)};\n",
    "        Dog maxDog = (Dog) max(dogs);\n",
    "        maxDog.bark()l\n",
    "    }\n",
    "}\n"
   ]
  },
  {
   "cell_type": "markdown",
   "metadata": {},
   "source": [
    "How many compilation errors are there in the code shown? Think about the following part:"
   ]
  },
  {
   "cell_type": "code",
   "execution_count": null,
   "metadata": {},
   "outputs": [],
   "source": [
    "max(Object[] items) // signature of Object Method\n",
    "\n",
    "(items[i] > items[maxDex]) // the if condition\n",
    "\n",
    "(Dog) max(dogs); // main method, assigning maxDog"
   ]
  },
  {
   "cell_type": "code",
   "execution_count": null,
   "metadata": {},
   "outputs": [],
   "source": [
    "max(Object[] items);\n",
    "/* This works just fine. In the main method, we see that we pass in an array of dogs to the max method\n",
    "while it expects an array of objects. It will work fine because dogs are objects."
   ]
  },
  {
   "cell_type": "code",
   "execution_count": null,
   "metadata": {},
   "outputs": [],
   "source": [
    "(items[i] > items[maxDex]);\n",
    "/* This assumes that the greater '>' operator works with arbitrary object type. It does not!\n",
    "This is the compilation error! */"
   ]
  },
  {
   "cell_type": "code",
   "execution_count": null,
   "metadata": {},
   "outputs": [],
   "source": [
    "(Dog) max(dogs);\n",
    "// This will work just fine. "
   ]
  },
  {
   "cell_type": "markdown",
   "metadata": {},
   "source": [
    "## Writing a General Max Function"
   ]
  },
  {
   "cell_type": "markdown",
   "metadata": {},
   "source": [
    "Objects can't be compared to other objects with `>`. \n",
    "* One bad way solution: Write a `max` method in the `Dog` class"
   ]
  },
  {
   "cell_type": "code",
   "execution_count": null,
   "metadata": {},
   "outputs": [],
   "source": [
    "/** Returns maximum of dogs */\n",
    "public static Dog maxDog(Dog[] dogs) {\n",
    "    if (dogs == null || dogs.length == 0) {\n",
    "        return null;\n",
    "    }\n",
    "    Dog maxDog = dogs[0];\n",
    "    for (Dog d: dogs) {\n",
    "        if (d.size > maxDog.size) {\n",
    "            maxDog = d;\n",
    "        }\n",
    "    }\n",
    "    return maxDog;\n",
    "}"
   ]
  },
  {
   "cell_type": "markdown",
   "metadata": {},
   "source": [
    "Then in the `main` method we'll do something like this,"
   ]
  },
  {
   "cell_type": "code",
   "execution_count": null,
   "metadata": {},
   "outputs": [],
   "source": [
    "Dog[] dogs = new Dog[]{d1, d2, d3};\n",
    "Dog largest = Dog.maxDog(dogs);"
   ]
  },
  {
   "cell_type": "markdown",
   "metadata": {},
   "source": [
    "However, the disadvantage of this code is that it only works for `Dogs`! What if we have an array of cats, or squids, or other things?"
   ]
  },
  {
   "cell_type": "markdown",
   "metadata": {},
   "source": [
    "## The Fundamental Problem"
   ]
  },
  {
   "cell_type": "markdown",
   "metadata": {},
   "source": [
    "Objects can't be compared to other objects using `>`\n",
    "* How could we fix the `Maximizer` class using inheritance / HoFs?"
   ]
  },
  {
   "cell_type": "code",
   "execution_count": null,
   "metadata": {},
   "outputs": [],
   "source": []
  }
 ],
 "metadata": {
  "kernelspec": {
   "display_name": "Python 3",
   "language": "python",
   "name": "python3"
  },
  "language_info": {
   "codemirror_mode": {
    "name": "ipython",
    "version": 3
   },
   "file_extension": ".py",
   "mimetype": "text/x-python",
   "name": "python",
   "nbconvert_exporter": "python",
   "pygments_lexer": "ipython3",
   "version": "3.7.4"
  }
 },
 "nbformat": 4,
 "nbformat_minor": 4
}
