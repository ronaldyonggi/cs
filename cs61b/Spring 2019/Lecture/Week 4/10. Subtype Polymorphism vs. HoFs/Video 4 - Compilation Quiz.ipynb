{
 "cells": [
  {
   "cell_type": "markdown",
   "metadata": {},
   "source": [
    "## Interfaces Quiz #1"
   ]
  },
  {
   "cell_type": "code",
   "execution_count": null,
   "metadata": {},
   "outputs": [],
   "source": [
    "public class DogLauncher {\n",
    "    public static void main(String[] args) {\n",
    "        ...\n",
    "        Dog[] dogs = new Dog[]{d1, d2, d3};\n",
    "        System.out.println(Maximizer.max(dogs));\n",
    "    }\n",
    "}"
   ]
  },
  {
   "cell_type": "code",
   "execution_count": null,
   "metadata": {},
   "outputs": [],
   "source": [
    "public class Maximizer {\n",
    "    public static OurComparable max(OurComparable[] items) {\n",
    "        ...\n",
    "        int cmp = items[i].compareTo(items[maxDex]);\n",
    "        ...\n",
    "    }\n",
    "    ...\n",
    "}"
   ]
  },
  {
   "cell_type": "code",
   "execution_count": null,
   "metadata": {},
   "outputs": [],
   "source": [
    "public class Dog implements OurComparable {\n",
    "    ...\n",
    "    public int compareTo(Object o) { // What will happen if we omit this?\n",
    "        Dog uddaDog = (Dog) o;\n",
    "        return this.size - uddaDog.size;\n",
    "    }\n",
    "}"
   ]
  },
  {
   "cell_type": "markdown",
   "metadata": {},
   "source": [
    "If we omit `compareTo()` in the `Dog` class, which file will fail to compile?\n",
    "\n",
    "* `DogLauncher.java`\n",
    "* `Dog.java`\n",
    "* `Maximizer.java`\n",
    "* `OurComparable.java`\n",
    "\n",
    "**Ans**: `Dog.java`\n",
    "\n",
    "As soon as we remove the method, the class signature,"
   ]
  },
  {
   "cell_type": "code",
   "execution_count": null,
   "metadata": {},
   "outputs": [],
   "source": [
    "public class Dog implements OurComparable{\n",
    "    \n",
    "}"
   ]
  },
  {
   "cell_type": "markdown",
   "metadata": {},
   "source": [
    "...will be underlined red. Since the `Dog` class claims that it's an `OurComparable`, the compiler checks if the `Dog` has `compareTo()` method. It doesn't have one! So it won't compile. \n",
    "\n",
    "Scientific explanation: `Dog` will fail to compile because it doesn't implement all abstract methods required by OurComparable interface."
   ]
  },
  {
   "cell_type": "markdown",
   "metadata": {},
   "source": [
    "## Interfaces Quiz #2"
   ]
  },
  {
   "cell_type": "markdown",
   "metadata": {},
   "source": [
    "This time, if we remove the `implements OurComparable` from the `Dog` class signature\n",
    "\n",
    "So from the following,"
   ]
  },
  {
   "cell_type": "code",
   "execution_count": null,
   "metadata": {},
   "outputs": [],
   "source": [
    "public class Dog implements OurComparable"
   ]
  },
  {
   "cell_type": "markdown",
   "metadata": {},
   "source": [
    "...to the following,"
   ]
  },
  {
   "cell_type": "code",
   "execution_count": null,
   "metadata": {},
   "outputs": [],
   "source": [
    "public class Dog"
   ]
  },
  {
   "cell_type": "markdown",
   "metadata": {},
   "source": [
    "...which file will fail to compile?\n",
    "\n",
    "**Ans**: `DogLauncher`. In the following line,"
   ]
  },
  {
   "cell_type": "code",
   "execution_count": null,
   "metadata": {},
   "outputs": [],
   "source": [
    "System.out.println(Maximizer.max(dogs));"
   ]
  },
  {
   "cell_type": "markdown",
   "metadata": {},
   "source": [
    "The `dogs` will be underlined red! How?\n",
    "\n",
    "If we look at the `Maximizer` class,"
   ]
  },
  {
   "cell_type": "code",
   "execution_count": null,
   "metadata": {},
   "outputs": [],
   "source": [
    "public static OurComparable max(OurComparable[] items)"
   ]
  },
  {
   "cell_type": "markdown",
   "metadata": {},
   "source": [
    "The `max` method expects an `OurComparable` array. However, in the `DogLauncher`, we provided an array of `dogs` instead. without the `implements` keyword, Java sees `Dogs` as different from `OurComparable`."
   ]
  },
  {
   "cell_type": "markdown",
   "metadata": {},
   "source": [
    " "
   ]
  }
 ],
 "metadata": {
  "kernelspec": {
   "display_name": "Python 3",
   "language": "python",
   "name": "python3"
  },
  "language_info": {
   "codemirror_mode": {
    "name": "ipython",
    "version": 3
   },
   "file_extension": ".py",
   "mimetype": "text/x-python",
   "name": "python",
   "nbconvert_exporter": "python",
   "pygments_lexer": "ipython3",
   "version": "3.7.4"
  }
 },
 "nbformat": 4,
 "nbformat_minor": 4
}
