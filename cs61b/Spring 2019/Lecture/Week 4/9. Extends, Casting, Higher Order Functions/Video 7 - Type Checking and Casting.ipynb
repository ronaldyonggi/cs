{
 "cells": [
  {
   "cell_type": "markdown",
   "metadata": {},
   "source": [
    "# Type Checking and Casting"
   ]
  },
  {
   "cell_type": "markdown",
   "metadata": {},
   "source": [
    "## Dynamic Method Selection and Type Checking Puzzle"
   ]
  },
  {
   "cell_type": "markdown",
   "metadata": {},
   "source": [
    "For each line of code, determine:\n",
    "\n",
    "* Does that line cause a compilation error?\n",
    "* Which method does dynamic method selection use?\n",
    "\n",
    "Reminder: `VengefulSLList` overrides `removeLast` and provides a new method called `printLostItems`"
   ]
  },
  {
   "cell_type": "code",
   "execution_count": null,
   "metadata": {},
   "outputs": [],
   "source": [
    "public static void main(String[] args) {\n",
    "    VengefulSLList<Integer> vsl = new VengefulSLList<Integer>(9);\n",
    "    SLList<Integer> sl = vsl;\n",
    "    \n",
    "    sl.addLast(50);\n",
    "    sl.removeLast();\n",
    "    \n",
    "    sl.printLostItems();\n",
    "    VengefulSLList<Integer> vsl2 = sl;\n",
    "}"
   ]
  },
  {
   "cell_type": "markdown",
   "metadata": {},
   "source": [
    "\n",
    "![](images/venge.png)"
   ]
  },
  {
   "cell_type": "markdown",
   "metadata": {},
   "source": [
    "## Reminder: Dynamic Method Selection"
   ]
  },
  {
   "cell_type": "markdown",
   "metadata": {},
   "source": [
    "If overridden, decide which method to call based on `run-time` (or dynamic type) type of variable."
   ]
  },
  {
   "cell_type": "code",
   "execution_count": null,
   "metadata": {},
   "outputs": [],
   "source": [
    "sl.addLast(50); // Use SLList's addLast"
   ]
  },
  {
   "cell_type": "markdown",
   "metadata": {},
   "source": [
    "`VengefulSLList` doesn't override the `addLast` method, so use `SLList`'s"
   ]
  },
  {
   "cell_type": "code",
   "execution_count": null,
   "metadata": {},
   "outputs": [],
   "source": [
    "sl.removeLast(); // Use VengefulSLList's removeLast"
   ]
  },
  {
   "cell_type": "markdown",
   "metadata": {},
   "source": [
    "`VengefulSLList` overrides the `removeLast` method, so dynamic method selection occurs. `sl`'s dynamic type is `VengefulSLList` so use `VengefulSLList`'s `removelast()` method."
   ]
  },
  {
   "cell_type": "markdown",
   "metadata": {},
   "source": [
    "## Compile-Time Type Checking"
   ]
  },
  {
   "cell_type": "markdown",
   "metadata": {},
   "source": [
    "Compiler allows method calls based on `compile-time` (or static type) type of variable.\n",
    "\n",
    "Before going dynamic method type occurs, Java checks the compile-time first. Therefore, if the compile-time type variable doesn't have the method, then we'll get compilation error!"
   ]
  },
  {
   "cell_type": "code",
   "execution_count": null,
   "metadata": {},
   "outputs": [],
   "source": [
    "sl.printLostItems(); // Compilation error!"
   ]
  },
  {
   "cell_type": "markdown",
   "metadata": {},
   "source": [
    "`SLList` doesn't have a `printLostItems()` method! Even though `sl`'s dynamic type is `VengefulSLList`, `sl` can't call `printLostItems()`. Thus we'll get a compilation error."
   ]
  },
  {
   "cell_type": "code",
   "execution_count": null,
   "metadata": {},
   "outputs": [],
   "source": [
    "VengefulSLList<Integer> vsl2 = sl1; // Also compilation error"
   ]
  },
  {
   "cell_type": "markdown",
   "metadata": {},
   "source": [
    "Compiler allows assignments based on compile-time types\n",
    "* Even thoguh `sl`'s runtime-type is `VengefulSLList`, we can't assign to `vsl2`\n",
    "* Compiler plays it safe as possible with type checking"
   ]
  },
  {
   "cell_type": "markdown",
   "metadata": {},
   "source": [
    "## Compile-Time Types and Expressions"
   ]
  },
  {
   "cell_type": "markdown",
   "metadata": {},
   "source": [
    "Expressions have compile-time types:\n",
    "* An expression using the `new` keyword has the specified compile-time type"
   ]
  },
  {
   "cell_type": "code",
   "execution_count": null,
   "metadata": {},
   "outputs": [],
   "source": [
    "SLList<Integer> sl = new VengefulSLList<Integer>();\n",
    "// Works just fine"
   ]
  },
  {
   "cell_type": "markdown",
   "metadata": {},
   "source": [
    "Above,\n",
    "* Compile-time type of RHS (right hand side) expression is `VengefulSLList`\n",
    "* A `VengefulSLList` is-an SLList, so assignment is allowed"
   ]
  },
  {
   "cell_type": "code",
   "execution_count": null,
   "metadata": {},
   "outputs": [],
   "source": [
    "VengefulSLList<Integer> vsl = new SLList<Integer>(); \n",
    "// Compilation error!"
   ]
  },
  {
   "cell_type": "markdown",
   "metadata": {},
   "source": [
    "Above,\n",
    "* Compile-time type of RHS expression is SLList\n",
    "* An SLList is not necessarily a VengefulSLList, so compilation error results"
   ]
  },
  {
   "cell_type": "markdown",
   "metadata": {},
   "source": [
    "## Compile-Time Types and Expressions - Method Calls"
   ]
  },
  {
   "cell_type": "markdown",
   "metadata": {},
   "source": [
    "Expressions have compile-time types\n",
    "* Method calls have compile-time type equal to their declared type"
   ]
  },
  {
   "cell_type": "code",
   "execution_count": null,
   "metadata": {},
   "outputs": [],
   "source": [
    "public static Dog maxDog(Dog d1, Dog d2) {\n",
    "    ...\n",
    "}"
   ]
  },
  {
   "cell_type": "markdown",
   "metadata": {},
   "source": [
    "Above, any call to `maxDog` will have compile-time type `Dog`\n",
    "\n",
    "For example,"
   ]
  },
  {
   "cell_type": "code",
   "execution_count": null,
   "metadata": {},
   "outputs": [],
   "source": [
    "Poodle frank = new Poodle(\"Frank\", 5);\n",
    "Poodle frankJr = new Poodle(\"Frank Jr.\", 15);\n",
    "\n",
    "Dog largerDog = maxDog(frank, frankJr);"
   ]
  },
  {
   "cell_type": "markdown",
   "metadata": {},
   "source": [
    "Above, everything works fine. However, "
   ]
  },
  {
   "cell_type": "code",
   "execution_count": null,
   "metadata": {},
   "outputs": [],
   "source": [
    "Poodle largerPoodle = maxDog(frank, frankJr); //Compilation error"
   ]
  },
  {
   "cell_type": "markdown",
   "metadata": {},
   "source": [
    "Above, we'll obtain compilation error since the RHS has a compile-time type `Dog`."
   ]
  },
  {
   "cell_type": "markdown",
   "metadata": {},
   "source": [
    "## Casting"
   ]
  },
  {
   "cell_type": "markdown",
   "metadata": {},
   "source": [
    "Java has a special syntax for **forcing** the compile-time type of any expression:\n",
    "* **Put desired type in parenthesis before the expression**\n",
    "\n",
    "For example:"
   ]
  },
  {
   "cell_type": "code",
   "execution_count": null,
   "metadata": {},
   "outputs": [],
   "source": [
    "(Poodle) maxDog(frank, frankJr);\n",
    "//Compile-time type will be Poodle"
   ]
  },
  {
   "cell_type": "markdown",
   "metadata": {},
   "source": [
    "This way, if we do the following,"
   ]
  },
  {
   "cell_type": "code",
   "execution_count": null,
   "metadata": {},
   "outputs": [],
   "source": [
    "Poodle largerPoodle = (Poodle) maxDog(frank, frankJr)\n",
    "// This will work fine since RHS has compile-time type Poodle"
   ]
  },
  {
   "cell_type": "markdown",
   "metadata": {},
   "source": [
    "Casting is a powerful but dangerous tool\n",
    "* Tells Java to treat an expression as having a different compile-time type\n",
    "* Effectively tells the compiler to ignore its type checking duties\n",
    "\n",
    "Here is an example of how casting can go wrong:"
   ]
  },
  {
   "cell_type": "code",
   "execution_count": null,
   "metadata": {},
   "outputs": [],
   "source": [
    "Poodle frank = new Poodle(\"Frank\", 5);\n",
    "Malamute frankSr = new Malamute(\"Frank Sr.\", 100);\n",
    "\n",
    "Poodle largerPoodle = (Poodle) maxDog(frank, frankSr);"
   ]
  },
  {
   "cell_type": "markdown",
   "metadata": {},
   "source": [
    "Both `Poodle` and `Malamute` are dogs, so we can pass them to `maxDog` method. The `maxDog` method by default returns a `Dog` type. But if we do the following,"
   ]
  },
  {
   "cell_type": "code",
   "execution_count": null,
   "metadata": {},
   "outputs": [],
   "source": [
    "Poodle largerPoodle = (Poodle) maxDog(frank, frankSr);"
   ]
  },
  {
   "cell_type": "markdown",
   "metadata": {},
   "source": [
    "On the RHS, the `maxDog` returns `frankSr`, a `Malamute`! In the line above, we are trying to cast a `Malamute` as a `Poodle`, which we'll get a runtime `ClassCastException` error.\n",
    "\n",
    "Earlier in the course, we stated that Java is a great language because it does type checking; this is no longer true if we do casting."
   ]
  },
  {
   "cell_type": "code",
   "execution_count": null,
   "metadata": {},
   "outputs": [],
   "source": []
  }
 ],
 "metadata": {
  "kernelspec": {
   "display_name": "Python 3",
   "language": "python",
   "name": "python3"
  },
  "language_info": {
   "codemirror_mode": {
    "name": "ipython",
    "version": 3
   },
   "file_extension": ".py",
   "mimetype": "text/x-python",
   "name": "python",
   "nbconvert_exporter": "python",
   "pygments_lexer": "ipython3",
   "version": "3.7.4"
  }
 },
 "nbformat": 4,
 "nbformat_minor": 4
}
