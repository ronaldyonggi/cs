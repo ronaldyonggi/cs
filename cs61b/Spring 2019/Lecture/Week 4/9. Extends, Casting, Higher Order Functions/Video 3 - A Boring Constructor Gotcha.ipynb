{
 "cells": [
  {
   "cell_type": "markdown",
   "metadata": {},
   "source": [
    "## Constructor Behavior is Slightly Weird"
   ]
  },
  {
   "cell_type": "markdown",
   "metadata": {},
   "source": [
    "Constructors are not inherited. However, the rules of Java say that:\n",
    "* **All constructors must start with a call to one of the super class's constructors**\n",
    "\n",
    "* Idea: If every VengefulSLList is-an SLList,\n",
    "    * Every VengefulSLList must be set up like an SLList\n",
    "    * If we didn't call SLList constructor, sentinel would be null. We don't want that!\n",
    "* We can explicitly call the constructor with the `super` keyword\n",
    "* If we don't explicitly call the constructor, Java will automatically do it. See example below:"
   ]
  },
  {
   "cell_type": "code",
   "execution_count": null,
   "metadata": {},
   "outputs": [],
   "source": [
    "public VengefulSLList() {\n",
    "    deletedItems = new SLList<Item>();\n",
    "}"
   ]
  },
  {
   "cell_type": "markdown",
   "metadata": {},
   "source": [
    "...is equivalent to"
   ]
  },
  {
   "cell_type": "code",
   "execution_count": null,
   "metadata": {},
   "outputs": [],
   "source": [
    "public VengefulSLList() {\n",
    "    super(); // Calls the super's constructor\n",
    "    deletedItems = new SLList<Item>();\n",
    "}"
   ]
  },
  {
   "cell_type": "markdown",
   "metadata": {},
   "source": [
    "## Calling Other Constructors"
   ]
  },
  {
   "cell_type": "markdown",
   "metadata": {},
   "source": [
    "If we want to use a `super` constructor other than the no-argument constructor, we need to give parameters to `super`"
   ]
  },
  {
   "cell_type": "code",
   "execution_count": null,
   "metadata": {},
   "outputs": [],
   "source": [
    "// 1-argument constructor\n",
    "public VengefulSLList(Item x) {\n",
    "    super(x); // We need to do this!\n",
    "    deletedItems = new SLList<Item>();\n",
    "}"
   ]
  },
  {
   "cell_type": "markdown",
   "metadata": {},
   "source": [
    "If we don't state `super(x)`, Java will call the no-argument constructor instead! "
   ]
  }
 ],
 "metadata": {
  "kernelspec": {
   "display_name": "Python 3",
   "language": "python",
   "name": "python3"
  },
  "language_info": {
   "codemirror_mode": {
    "name": "ipython",
    "version": 3
   },
   "file_extension": ".py",
   "mimetype": "text/x-python",
   "name": "python",
   "nbconvert_exporter": "python",
   "pygments_lexer": "ipython3",
   "version": "3.7.5"
  }
 },
 "nbformat": 4,
 "nbformat_minor": 4
}
