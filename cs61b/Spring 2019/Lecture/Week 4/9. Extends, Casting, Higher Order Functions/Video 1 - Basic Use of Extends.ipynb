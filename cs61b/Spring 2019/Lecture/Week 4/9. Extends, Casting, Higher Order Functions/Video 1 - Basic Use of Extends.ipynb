{
 "cells": [
  {
   "cell_type": "markdown",
   "metadata": {},
   "source": [
    "# Implementation Inheritance - Extends"
   ]
  },
  {
   "cell_type": "markdown",
   "metadata": {},
   "source": [
    "## The Extends Keyword"
   ]
  },
  {
   "cell_type": "markdown",
   "metadata": {},
   "source": [
    "When a class is a hyponym of an interface, we used `implements` keyword. For example:"
   ]
  },
  {
   "cell_type": "code",
   "execution_count": null,
   "metadata": {},
   "outputs": [],
   "source": [
    "SLList<Blorp> implements List61B<Blorp>"
   ]
  },
  {
   "cell_type": "markdown",
   "metadata": {},
   "source": [
    "If we want one class to be a hyponym of another `class`, we use `extends`.\n",
    "\n",
    "Suppose we want to write `RotatingSLList` that can perform any `SLList` operation as well as an additional method:\n",
    "* `rotateRight()`: Moves the last item to the front"
   ]
  },
  {
   "cell_type": "code",
   "execution_count": null,
   "metadata": {},
   "outputs": [],
   "source": [
    "rotateRight[5, 9, 15, 22]\n",
    "// Result is [22, 5, 9, 15]"
   ]
  },
  {
   "cell_type": "code",
   "execution_count": null,
   "metadata": {},
   "outputs": [],
   "source": [
    "public class RotatingSLList<Item> extends SLList<Item> {\n",
    "    public void rotateRight() {\n",
    "        Item x = removeLast();\n",
    "        addFirst(x);\n",
    "    }\n",
    "}"
   ]
  },
  {
   "cell_type": "markdown",
   "metadata": {},
   "source": [
    "Because of `extends` keyword, `RotatingSLList` inherits all members of `SLList`:\n",
    "* All instance and static variables\n",
    "* All methods\n",
    "* All nested classes\n",
    "\n",
    "But for all the 3 above, members may be `private` and thus inaccessible. Note that constructors are not inherited"
   ]
  }
 ],
 "metadata": {
  "kernelspec": {
   "display_name": "Python 3",
   "language": "python",
   "name": "python3"
  },
  "language_info": {
   "codemirror_mode": {
    "name": "ipython",
    "version": 3
   },
   "file_extension": ".py",
   "mimetype": "text/x-python",
   "name": "python",
   "nbconvert_exporter": "python",
   "pygments_lexer": "ipython3",
   "version": "3.7.5"
  }
 },
 "nbformat": 4,
 "nbformat_minor": 4
}
