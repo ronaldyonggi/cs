{
 "cells": [
  {
   "cell_type": "markdown",
   "metadata": {},
   "source": [
    "## The Object Class"
   ]
  },
  {
   "cell_type": "markdown",
   "metadata": {},
   "source": [
    "Recall that type in Java is a descendant of the Object class.\n",
    "\n",
    "* VengefulSLList extends SLList\n",
    "* SLList extends Object (implicitly)\n",
    "    * Whether we explicitly state it or not, it doesn't make any difference\n",
    "\n",
    "![](images/object.png)\n",
    "\n",
    "And remember that `interfaces` don't extend the `Object` class."
   ]
  },
  {
   "cell_type": "markdown",
   "metadata": {},
   "source": [
    "## Is-a vs. Has-A"
   ]
  },
  {
   "cell_type": "markdown",
   "metadata": {},
   "source": [
    "`extends` should only be used for `is-a` (hypernymic) relationships!\n",
    "* Common mistake is to use it for `has-a` (meronymic) relationships\n",
    "\n",
    "![](images/abomination.png)"
   ]
  },
  {
   "cell_type": "code",
   "execution_count": null,
   "metadata": {},
   "outputs": [],
   "source": []
  }
 ],
 "metadata": {
  "kernelspec": {
   "display_name": "Python 3",
   "language": "python",
   "name": "python3"
  },
  "language_info": {
   "codemirror_mode": {
    "name": "ipython",
    "version": 3
   },
   "file_extension": ".py",
   "mimetype": "text/x-python",
   "name": "python",
   "nbconvert_exporter": "python",
   "pygments_lexer": "ipython3",
   "version": "3.7.4"
  }
 },
 "nbformat": 4,
 "nbformat_minor": 4
}
