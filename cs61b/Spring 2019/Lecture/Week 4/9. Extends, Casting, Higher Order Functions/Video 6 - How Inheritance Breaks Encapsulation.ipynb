{
 "cells": [
  {
   "cell_type": "markdown",
   "metadata": {},
   "source": [
    "# Implementation Inheritance Breaks Encapsulation"
   ]
  },
  {
   "cell_type": "markdown",
   "metadata": {},
   "source": [
    "Suppose we have a `Dog` class with the 2 methods as following,\n",
    "\n",
    "![](images/Dog.png)"
   ]
  },
  {
   "cell_type": "code",
   "execution_count": null,
   "metadata": {},
   "outputs": [],
   "source": [
    "public class Dog {\n",
    "    public void bark() {\n",
    "        System.out.println(\"bark\");\n",
    "    }\n",
    "    \n",
    "    public void barkMany(int N) {\n",
    "        for (int i = 0; i < N; i += 1) {\n",
    "            bark();\n",
    "        }\n",
    "    }\n",
    "}"
   ]
  },
  {
   "cell_type": "markdown",
   "metadata": {},
   "source": [
    "We could implement it in a different way like the following:"
   ]
  },
  {
   "cell_type": "code",
   "execution_count": null,
   "metadata": {},
   "outputs": [],
   "source": [
    "public void bark() {\n",
    "    barkMany(1);\n",
    "}\n",
    "\n",
    "public void barkMany(int N) {\n",
    "    for(int i = 0; i < N; i += 1) {\n",
    "        System.out.println(\"bark\");\n",
    "    }\n",
    "}"
   ]
  },
  {
   "cell_type": "markdown",
   "metadata": {},
   "source": [
    "From the outside, the functionality is exactly the same. It's just a matter of aesthetics."
   ]
  },
  {
   "cell_type": "markdown",
   "metadata": {},
   "source": [
    "#### Question"
   ]
  },
  {
   "cell_type": "markdown",
   "metadata": {},
   "source": [
    "Let's say `VerboseDog` extends from `Dog`. \n",
    "\n",
    "![](images/verbose.png)"
   ]
  },
  {
   "cell_type": "code",
   "execution_count": null,
   "metadata": {},
   "outputs": [],
   "source": [
    "public class Dog {\n",
    "    public void bark() {\n",
    "        System.out.println(\"bark\");\n",
    "    }\n",
    "    \n",
    "    public void barkMany(int N) {\n",
    "        for (int i = 0; i < N; i += 1) {\n",
    "            bark();\n",
    "        }\n",
    "    }\n",
    "}"
   ]
  },
  {
   "cell_type": "markdown",
   "metadata": {},
   "source": [
    "The `VerboseDog` overrides `barkMany` method, but inherits `bark()` method from `Dog`."
   ]
  },
  {
   "cell_type": "code",
   "execution_count": null,
   "metadata": {},
   "outputs": [],
   "source": [
    "@Override\n",
    "public void barkMany(int N){\n",
    "    System.out.println(\"As a dog, I say: \");\n",
    "    for (int i = 0; i < N; i += 1) {\n",
    "        bark()\n",
    "    }\n",
    "}"
   ]
  },
  {
   "cell_type": "markdown",
   "metadata": {},
   "source": [
    "Now assuming `vd` is a Verbose Dog, what would `vd.barkMany(3)` output?\n",
    "\n",
    "1. \"As a dog, I say: bark bark bark\"\n",
    "2. \"bark bark bark\"\n",
    "3. Something else\n",
    "\n",
    "**Ans**: #1. Dynamic method selection occurs, so Java runs `VerboseDog`'s `barkMany` method."
   ]
  },
  {
   "cell_type": "markdown",
   "metadata": {},
   "source": [
    "#### Question 2"
   ]
  },
  {
   "cell_type": "markdown",
   "metadata": {},
   "source": [
    "Now if the `Dog` class methods were written as the following,"
   ]
  },
  {
   "cell_type": "code",
   "execution_count": null,
   "metadata": {},
   "outputs": [],
   "source": [
    "public void bark() {\n",
    "    barkMany(1);\n",
    "}\n",
    "\n",
    "public void barkMany(int N) {\n",
    "    for(int i = 0; i < N; i += 1) {\n",
    "        System.out.println(\"bark\");\n",
    "    }\n",
    "}"
   ]
  },
  {
   "cell_type": "markdown",
   "metadata": {},
   "source": [
    "What would `vd.barkMany(3)` output?\n",
    "\n",
    "**Ans**: Something else!"
   ]
  },
  {
   "cell_type": "markdown",
   "metadata": {},
   "source": [
    "We'll get caugh in an infinite loop because:\n",
    "\n",
    "1. At first, dynamic method selection occurs. Java calls `VerboseDog`'s `barkMany` method.\n",
    "    * This `barkMany` method calls the `bark` method\n",
    "    * `VerboseDog` doesn't have a `bark` method, Java turns to the superclass\n",
    "2. The superclass `Dog`'s `bark` method calls **THE DYNAMIC TYPE** as well, thus it calls `VerboseDog`'s `barkMany` method.\n",
    "3. The `VerboseDog`'s `barkMany` method calls the superclass's `bark` method\n",
    "4. ...and so forth\n",
    "\n",
    "By allowing implementation inheritance, we now have a way to peek inside the encapsulation. This doesn't happen often in practicality, but it happens. \n",
    "\n",
    "The key takeaway point is that there are benefits to implementation inheritance, but there are also tradeoffs: risk of breaking encapsulation."
   ]
  }
 ],
 "metadata": {
  "kernelspec": {
   "display_name": "Python 3",
   "language": "python",
   "name": "python3"
  },
  "language_info": {
   "codemirror_mode": {
    "name": "ipython",
    "version": 3
   },
   "file_extension": ".py",
   "mimetype": "text/x-python",
   "name": "python",
   "nbconvert_exporter": "python",
   "pygments_lexer": "ipython3",
   "version": "3.7.4"
  }
 },
 "nbformat": 4,
 "nbformat_minor": 4
}
