{
 "cells": [
  {
   "cell_type": "markdown",
   "metadata": {},
   "source": [
    "## Techniques for Measuring Computational Cost `[dup2]`"
   ]
  },
  {
   "cell_type": "markdown",
   "metadata": {},
   "source": [
    "Try to come up with rough estimates for the symbolic and exact counts for at least one of the operations\n",
    "\n",
    "Don't worry about being off by one. Just try to predict the rough magnitudes of each."
   ]
  },
  {
   "cell_type": "code",
   "execution_count": null,
   "metadata": {},
   "outputs": [],
   "source": [
    "for (int i = 0; i < A.length - 1; i += 1) {\n",
    "    if (A[i] == A[i+1]) {\n",
    "        return true;\n",
    "    }\n",
    "}\n",
    "return false;"
   ]
  },
  {
   "cell_type": "markdown",
   "metadata": {},
   "source": [
    "| operation | symbolic count| count, N = 10000 |\n",
    "| --- | --- | --- |\n",
    "| `i = 0` | 1 | 1 |\n",
    "| less than (`<`) | 0 to $N$ | 0 to 10,000|\n",
    "| increment (`+=1`) | 0 to $N - 1$| 0 to 9,999 |\n",
    "| equals (`==`) | 1 to $N - 1$ | 1 to 9,999 |\n",
    "| array accesses| 2 to $2N - 2$ | 2 to 19,998 |\n",
    "\n",
    "Notice that we didn't count everything (e.g. `-1` and `+1` operations). We'll see later why this omission is not a problem."
   ]
  }
 ],
 "metadata": {
  "kernelspec": {
   "display_name": "Python 3",
   "language": "python",
   "name": "python3"
  },
  "language_info": {
   "codemirror_mode": {
    "name": "ipython",
    "version": 3
   },
   "file_extension": ".py",
   "mimetype": "text/x-python",
   "name": "python",
   "nbconvert_exporter": "python",
   "pygments_lexer": "ipython3",
   "version": "3.7.4"
  }
 },
 "nbformat": 4,
 "nbformat_minor": 4
}
