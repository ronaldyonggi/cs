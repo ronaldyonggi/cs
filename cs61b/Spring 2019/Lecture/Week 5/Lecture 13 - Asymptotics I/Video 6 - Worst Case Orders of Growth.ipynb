{
 "cells": [
  {
   "cell_type": "markdown",
   "metadata": {},
   "source": [
    "Previously, we could rule out that `dup1` is \"like a parabola\" and `dup2` is \"like a line\".\n",
    "\n",
    "In this video, we're going to be more careful about what we mean when we say a function is \"like\" a parabola and \"like\" a line."
   ]
  },
  {
   "cell_type": "markdown",
   "metadata": {},
   "source": [
    "## Intuitive Simplification 1 - Consider Only the Worst Case"
   ]
  },
  {
   "cell_type": "markdown",
   "metadata": {},
   "source": [
    "**Justification**: When comparing algorithms, we often care only about the worst case. We're effectively focusing on the case where there are no duplicates, because this is where there's a performance difference."
   ]
  },
  {
   "cell_type": "markdown",
   "metadata": {},
   "source": [
    "## Intuitive Order of Growth Identification"
   ]
  },
  {
   "cell_type": "markdown",
   "metadata": {},
   "source": [
    "Consider the algorithm below. What do we expect will be the order of growth of the runtime for the algorithm?\n",
    "\n",
    "1. $N$ (linear)\n",
    "2. $N^2$ (quadratic)\n",
    "3. $N^3$ (cubic)\n",
    "4. $N^6$ (sextic)\n",
    "\n",
    "| operation | count |\n",
    "| --- | --- |\n",
    "| less than (`<`) | 100$N^2$ + 3$N$ |\n",
    "| greater than (`>`) | 2$N^3$ + 1 |\n",
    "| and (`&&`) | 5,000 |\n",
    "\n",
    "In other words, if we plotted total runtime vs. $N$, what shape would we expect?\n",
    "\n",
    "**Ans**: 3. Cubic. Why?\n",
    "\n",
    "Suppose:\n",
    "* `<` takes $\\alpha$ nanoseconds\n",
    "* `>` takes $\\beta$ nanoseconds\n",
    "* `&&` takes $\\gamma$ nanoseconds\n",
    "\n",
    "Then the total runtime will be :\n",
    "$$ \\alpha (100N^2 + 3N) + \\beta(2N^3 + 1) + 5000 \\gamma$$\n",
    "\n",
    "For very large $N$, the $2 \\beta N^3$ term is much larger than the others.\n",
    "\n",
    "Mathematically, imagine the total runtime divided by $N^3$ as $N$ goes to infinity; the only term that survives would be the $2 \\beta$ term. "
   ]
  },
  {
   "cell_type": "markdown",
   "metadata": {},
   "source": [
    "## Intuitive Simplification 2: Restrict Attention to One Operation"
   ]
  },
  {
   "cell_type": "markdown",
   "metadata": {},
   "source": [
    "Pick some representative operation to act as a proxy for the overall runtime.\n",
    "\n",
    "If we look at the `dup1`,"
   ]
  },
  {
   "cell_type": "code",
   "execution_count": null,
   "metadata": {},
   "outputs": [],
   "source": [
    "for (int i = 0; i < A.length; i += 1) {\n",
    "    for (int j = i + 1; j < A.length; j += 1) {\n",
    "        if (A[i] == a[j]) {\n",
    "            return true;\n",
    "        }\n",
    "    }\n",
    "}\n",
    "return false;"
   ]
  },
  {
   "cell_type": "markdown",
   "metadata": {},
   "source": [
    "| operation | symbolic count|\n",
    "| --- | --- |\n",
    "| `i = 0` | 1 |\n",
    "| `j = i + 1` | 1 to N|\n",
    "| less than (`<`) | 2 to $\\frac{N^2 + 3N + 2}{2}$|\n",
    "| increment (`+=1`) | 0 to $\\frac{N^2 + N}{2}$|\n",
    "| equals (`==`) | 1 to $\\frac{N^2 - N}{2}$ |\n",
    "| array accesses| 2 to $N^2 - N$ |"
   ]
  },
  {
   "cell_type": "markdown",
   "metadata": {},
   "source": [
    "A good choice would be to pick the increment (`+=1`) as the representative operations since it has the parabolic term since our goal is to show that the runtime is \"like\" quadratic. \n",
    "\n",
    "**The choice of representative operation is sometimes called the `cost model`.**\n",
    "\n",
    "A bad choice would be to pick `j= i + 1` or `i = 0`.\n",
    "\n",
    "![](images/cost.png)"
   ]
  },
  {
   "cell_type": "markdown",
   "metadata": {},
   "source": [
    "## Intuitive Simplification 3 - Eliminate Low Order Terms"
   ]
  },
  {
   "cell_type": "markdown",
   "metadata": {},
   "source": [
    "Simply ignore lower order terms.\n",
    "\n",
    "![](images/ignore.png)"
   ]
  },
  {
   "cell_type": "markdown",
   "metadata": {},
   "source": [
    "## Intuitive Simplification 4 - Eliminate Multiplicative Constants"
   ]
  },
  {
   "cell_type": "markdown",
   "metadata": {},
   "source": [
    "Why? It has no real meaning. We already threw away information when we chose a single proxy operation.\n",
    "\n",
    "![](images/multi.png)"
   ]
  },
  {
   "cell_type": "markdown",
   "metadata": {},
   "source": [
    "## Simplification Summary"
   ]
  },
  {
   "cell_type": "markdown",
   "metadata": {},
   "source": [
    "![](images/simple.png)"
   ]
  },
  {
   "cell_type": "markdown",
   "metadata": {},
   "source": [
    "## Repeating the Process for `dup2`"
   ]
  },
  {
   "cell_type": "markdown",
   "metadata": {},
   "source": [
    "Now try to do the same thing for `dup2`. \n",
    "\n",
    "![](images/dup2.png)"
   ]
  },
  {
   "cell_type": "markdown",
   "metadata": {},
   "source": [
    "## Summary of Our Analysis Process"
   ]
  },
  {
   "cell_type": "markdown",
   "metadata": {},
   "source": [
    "Our process:\n",
    "\n",
    "* Construct a table of exact counts of all possible operations\n",
    "* Convert table into a worst case order of growth using 4 simplifications\n",
    "\n",
    "![](images/summary.png)\n",
    "\n",
    "By using simplification from the outset, we can avoid building the table at all!"
   ]
  },
  {
   "cell_type": "code",
   "execution_count": null,
   "metadata": {},
   "outputs": [],
   "source": []
  }
 ],
 "metadata": {
  "kernelspec": {
   "display_name": "Python 3",
   "language": "python",
   "name": "python3"
  },
  "language_info": {
   "codemirror_mode": {
    "name": "ipython",
    "version": 3
   },
   "file_extension": ".py",
   "mimetype": "text/x-python",
   "name": "python",
   "nbconvert_exporter": "python",
   "pygments_lexer": "ipython3",
   "version": "3.7.5"
  }
 },
 "nbformat": 4,
 "nbformat_minor": 4
}
