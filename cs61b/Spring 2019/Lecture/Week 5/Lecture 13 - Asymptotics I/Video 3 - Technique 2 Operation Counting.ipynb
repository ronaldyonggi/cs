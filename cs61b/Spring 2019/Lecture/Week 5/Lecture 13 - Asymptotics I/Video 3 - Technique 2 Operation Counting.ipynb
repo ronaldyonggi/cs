{
 "cells": [
  {
   "cell_type": "markdown",
   "metadata": {},
   "source": [
    "# Techniques for Measuring Computational Cost"
   ]
  },
  {
   "cell_type": "markdown",
   "metadata": {},
   "source": [
    "In technique 1 (previous video), we used simulation to characterize the runtime of the duplicate method. In the next technique, there's no simulation involved at all! Instead, we'll build a model. \n",
    "* We'll manually look at the code at observe the important parts. \n",
    "    * What parts of the code that affects the runtime?"
   ]
  },
  {
   "cell_type": "markdown",
   "metadata": {},
   "source": [
    "### Technique 2A: Count possible operations for an array of size `N = 10,000`"
   ]
  },
  {
   "cell_type": "markdown",
   "metadata": {},
   "source": [
    "We'll count the number of times each of the different operation occurs. For example, how many times...\n",
    "* `i=0` occur?\n",
    "* `j = i + 1` occur?\n",
    "* less than (`<`) occur?\n",
    "* etc.\n",
    "\n",
    "Let's start with analyzing `dup1`,"
   ]
  },
  {
   "cell_type": "code",
   "execution_count": null,
   "metadata": {},
   "outputs": [],
   "source": [
    "for (int i = 0; i < A.length; i += 1) {\n",
    "    for (int j = i + 1; j < A.length; j += 1) {\n",
    "        if (A[i] == a[j]) {\n",
    "            return true;\n",
    "        }\n",
    "    }\n",
    "}\n",
    "return false;"
   ]
  },
  {
   "cell_type": "markdown",
   "metadata": {},
   "source": [
    "#### How many times `i = 0` occur?"
   ]
  },
  {
   "cell_type": "markdown",
   "metadata": {},
   "source": [
    "Once!"
   ]
  },
  {
   "cell_type": "markdown",
   "metadata": {},
   "source": [
    "####  How many times `j = i + 1` occur?"
   ]
  },
  {
   "cell_type": "markdown",
   "metadata": {},
   "source": [
    "**Best case**: The duplicate is at the front\n",
    "* `i=0` happens\n",
    "* `j = 0 + 1` = `1`\n",
    "* immediately returns true\n",
    "* Thus in this best case, `j = i + 1` only happens once\n",
    "\n",
    "**Worst case**: \n",
    "* `i=0` happens\n",
    "    * `j = 1`\n",
    "* `i = 1` happens\n",
    "    * `j = 2`\n",
    "* So on until `i` = 9999\n",
    "* Thus in the worst case, `j = i + 1` can happen 10,000 times."
   ]
  },
  {
   "cell_type": "markdown",
   "metadata": {},
   "source": [
    "#### How many times less than (`<`) occur?"
   ]
  },
  {
   "cell_type": "markdown",
   "metadata": {},
   "source": [
    "**Best case**: The duplicate is at the front\n",
    "* `i=0`, checks `i < A.length`\n",
    "* `j=1`, checks `j < A.length`\n",
    "* Thus in this best case, `<` only occur twice\n",
    "\n",
    "**Worst case**: (not shown) 50,015,001 times"
   ]
  },
  {
   "cell_type": "markdown",
   "metadata": {},
   "source": [
    "| operation | count, N = 10000|\n",
    "| --- | --- |\n",
    "| `i = 0` | 1 |\n",
    "| `j = i + 1` | 1 to 10,000|\n",
    "| less than (`<`) | 2 to 50,015,001 |\n",
    "| increment (`+=1`) | 0 to 50,005,000|\n",
    "| equals (`==`) | 1 to 49,995,000 |\n",
    "| array accesses| 2 to 99,990,000 |"
   ]
  },
  {
   "cell_type": "markdown",
   "metadata": {},
   "source": [
    "With this approach:\n",
    "\n",
    "* Advantage:\n",
    "    * Machine independent\n",
    "        * Doesn't matter what computer we use\n",
    "        * This is actually not 100% true. Modern computers can do \"branch prediction\" where the resulting numbers can be slightly off. However, it's acceptable because this is just a model. \n",
    "    * Input dependence captured in model\n",
    "* Disadvantage:\n",
    "    * Tedious to compute\n",
    "        * We didn't even go through how we got the large numbers 50,005,000 because if we did, it will take a long step and a long time\n",
    "    * Array size was arbitrary\n",
    "    * Doesn't tell the actual time\n",
    "    \n",
    "The N = 10,000 was a totally made up number. We can do better by measuring in terms of `N`."
   ]
  },
  {
   "cell_type": "markdown",
   "metadata": {},
   "source": [
    "### Technique 2B: Count possible operations in terms of input array size `N`."
   ]
  },
  {
   "cell_type": "markdown",
   "metadata": {},
   "source": [
    "| operation | symbolic count|\n",
    "| --- | --- |\n",
    "| `i = 0` | 1 |\n",
    "| `j = i + 1` | 1 to N|\n",
    "| less than (`<`) | 2 to $\\frac{N^2 + 3N + 2}{2}$|\n",
    "| increment (`+=1`) | 0 to $\\frac{N^2 + N}{2}$|\n",
    "| equals (`==`) | 1 to $\\frac{N^2 - N}{2}$ |\n",
    "| array accesses| 2 to $N^2 - N$ |"
   ]
  },
  {
   "cell_type": "markdown",
   "metadata": {},
   "source": [
    "* Advantage:\n",
    "    * Machine independent \n",
    "    * Input dependence captured in model\n",
    "    * Tells us how algorithm scales\n",
    "* Disadvantage:\n",
    "    * Even more tedious to compute\n",
    "    * Doesn't tell us actual time"
   ]
  }
 ],
 "metadata": {
  "kernelspec": {
   "display_name": "Python 3",
   "language": "python",
   "name": "python3"
  },
  "language_info": {
   "codemirror_mode": {
    "name": "ipython",
    "version": 3
   },
   "file_extension": ".py",
   "mimetype": "text/x-python",
   "name": "python",
   "nbconvert_exporter": "python",
   "pygments_lexer": "ipython3",
   "version": "3.7.4"
  }
 },
 "nbformat": 4,
 "nbformat_minor": 4
}
