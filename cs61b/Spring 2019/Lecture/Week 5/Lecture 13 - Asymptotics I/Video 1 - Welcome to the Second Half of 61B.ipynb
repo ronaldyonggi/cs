{
 "cells": [
  {
   "cell_type": "markdown",
   "metadata": {},
   "source": [
    "## 61B: Writing Efficient Programs"
   ]
  },
  {
   "cell_type": "markdown",
   "metadata": {},
   "source": [
    "An engineer will do for a dime what any fool will do for a dollar.\n",
    "\n",
    "Efficiency comes with 2 flavors:\n",
    "\n",
    "1. Programming cost\n",
    "    * How long does it take to develop our programs?\n",
    "    * How easy is it to read, modify, and maintain your code?\n",
    "        * More important than we might think!\n",
    "        * Majority of cost is in maintenance, not development\n",
    "2. Execution cost\n",
    "    * How much time does the program take to execute?\n",
    "    * How much memory does the program require?"
   ]
  },
  {
   "cell_type": "markdown",
   "metadata": {},
   "source": [
    "## Example of Algorithm Cost"
   ]
  },
  {
   "cell_type": "markdown",
   "metadata": {},
   "source": [
    "Determine if a sorted array contains any duplicates.\n",
    "* Given sorted array `A`, are there indices `i` and `j` where `A[i] = A[j]`?\n",
    "\n",
    "```\n",
    "[-3, -1, 2, 4, 4, 8, 10, 12]\n",
    "```\n",
    "\n",
    "A bad, inefficient algorithm: consider every pair, return true if found any match.\n",
    "* Are `-3` and `-1` the same? are `-3` and `2` the same? etc.\n",
    "\n",
    "A better algorithm:\n",
    "* For each element `A[i]`\n",
    "    * Look for `A[i+1]` and return `true` the first time we see a match\n",
    "    * If we run out of items, return `false`"
   ]
  },
  {
   "cell_type": "code",
   "execution_count": null,
   "metadata": {},
   "outputs": [],
   "source": []
  }
 ],
 "metadata": {
  "kernelspec": {
   "display_name": "Python 3",
   "language": "python",
   "name": "python3"
  },
  "language_info": {
   "codemirror_mode": {
    "name": "ipython",
    "version": 3
   },
   "file_extension": ".py",
   "mimetype": "text/x-python",
   "name": "python",
   "nbconvert_exporter": "python",
   "pygments_lexer": "ipython3",
   "version": "3.7.4"
  }
 },
 "nbformat": 4,
 "nbformat_minor": 4
}
