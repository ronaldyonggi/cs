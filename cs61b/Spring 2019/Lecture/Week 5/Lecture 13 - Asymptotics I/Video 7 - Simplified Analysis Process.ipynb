{
 "cells": [
  {
   "cell_type": "markdown",
   "metadata": {},
   "source": [
    "## Simplified Analysis Process"
   ]
  },
  {
   "cell_type": "markdown",
   "metadata": {},
   "source": [
    "Rather than building the entire table, we can instead:\n",
    "* Choose a representative operation to count (a.k.a. cost model)\n",
    "* Figure out the order of growth for the count of the representative operation by either:\n",
    "    * Making an exact count, then discarding the unnecessary pieces\n",
    "    * Using intuition and inspection to determine order of growth (only possible with lots of practice)\n",
    "    \n",
    "Let's do our analysis of `dup1` with this new process. This time, we'll show all our work."
   ]
  },
  {
   "cell_type": "markdown",
   "metadata": {},
   "source": [
    "## Analysis of Nested For Loops (Based on Exact Count)"
   ]
  },
  {
   "cell_type": "code",
   "execution_count": null,
   "metadata": {},
   "outputs": [],
   "source": [
    "int N = A.length;\n",
    "for (int i = 0; i < N; i += 1)\n",
    "    for (int j = i + 1; j < N; j += 1)\n",
    "        if (A[i] == A[j])\n",
    "            return true;\n",
    "return false;"
   ]
  },
  {
   "cell_type": "markdown",
   "metadata": {},
   "source": [
    "Find the order of growth of the worst case runtime of `dup1`.\n",
    "\n",
    "For the sake of lecture, we chose `==` as the representative operation.\n",
    "\n",
    "![](images/==.png)"
   ]
  },
  {
   "cell_type": "markdown",
   "metadata": {},
   "source": [
    "The picture above is very useful for understanding. It shows for which `i` and `j` pairs `==` occurs. For example:\n",
    "\n",
    "* For the top row, we can interpret that element when `i=0` and `j` = 1 all the way to 5 were compared\n",
    "* Next row, `i=1` and `j` starting 2 all the way to 5 were compared.\n",
    "* and so on\n",
    "\n",
    "In worst case, all these `==` in blue boxes occur. In this case, the operation occurs 15 times. But in general terms,\n",
    "\n",
    "$$ Count = 1 + 2 + 3 + ... + (N-3) + (N-2) + (N-1) $$\n",
    "\n",
    "Can we simplify this equation? Certainly! Notice that we can re-write the equation backwards,\n",
    "\n",
    "$$ Count = (N-1) + (N-2) + (N-3) + ... + 3 + 2 + 1 $$\n",
    "\n",
    "...and if we sum up the 2 equations above, we'll get,\n",
    "\n",
    "$$ 2 \\cdot Count = N + N + ... + N$$\n",
    "\n",
    "We'll have a $N-1$ number of the $N$ summation, there for we can simplify it even further.\n",
    "\n",
    "$$ 2 \\cdot Count = N (N-1)$$\n",
    "\n",
    "and finally, we can simplify it again,\n",
    "\n",
    "$$ Count = \\frac{N(N-1)}{2} $$\n",
    "\n",
    "From here we can rule out that the worst order of growth is $N^2$. We can throw away the lower order term and the multiplication constant.\n",
    "\n",
    "This works, but we need to know the exact count!"
   ]
  },
  {
   "cell_type": "markdown",
   "metadata": {},
   "source": [
    "## Analysis of Nested For Loops (Simpler Geometric Argument)"
   ]
  },
  {
   "cell_type": "markdown",
   "metadata": {},
   "source": [
    "In this approach, rather than counting the exact count, if we look at the box diagram, \n",
    "\n",
    "![](images/==.png)\n",
    "\n",
    "...notice that the blue box area grows exactly like the area of a side triangle of side length $N-1$. Even without knowing the formula of the area of triangle, we can tell that it grows like half of the area of a square.\n",
    "\n",
    "The order of growth of the area as a function of $N$ is $N^2$. "
   ]
  },
  {
   "cell_type": "code",
   "execution_count": null,
   "metadata": {},
   "outputs": [],
   "source": []
  }
 ],
 "metadata": {
  "kernelspec": {
   "display_name": "Python 3",
   "language": "python",
   "name": "python3"
  },
  "language_info": {
   "codemirror_mode": {
    "name": "ipython",
    "version": 3
   },
   "file_extension": ".py",
   "mimetype": "text/x-python",
   "name": "python",
   "nbconvert_exporter": "python",
   "pygments_lexer": "ipython3",
   "version": "3.7.5"
  }
 },
 "nbformat": 4,
 "nbformat_minor": 4
}
