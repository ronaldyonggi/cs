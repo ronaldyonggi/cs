{
 "cells": [
  {
   "cell_type": "markdown",
   "metadata": {},
   "source": [
    "## Comparing Algorithms"
   ]
  },
  {
   "cell_type": "markdown",
   "metadata": {},
   "source": [
    "Which algorithm is better? Why?"
   ]
  },
  {
   "cell_type": "markdown",
   "metadata": {},
   "source": [
    "### `dup1`\n",
    "\n",
    "| operation | symbolic count| count, N = 10,000|\n",
    "| --- | --- |--- |\n",
    "| `i = 0` | 1 | 1 |\n",
    "| `j = i + 1` | 1 to N| 1 to 10.000|\n",
    "| less than (`<`) | 2 to $\\frac{N^2 + 3N + 2}{2}$| 2 to 50,015,001 |\n",
    "| increment (`+=1`) | 0 to $\\frac{N^2 + N}{2}$| 0 to 50,005,000 |\n",
    "| equals (`==`) | 1 to $\\frac{N^2 - N}{2}$ |1 to 49,995,000 |\n",
    "| array accesses| 2 to $N^2 - N$ | 2 to 99,990,000|\n",
    "\n",
    "### `dup2`\n",
    "\n",
    "| operation | symbolic count| count, N = 10000 |\n",
    "| --- | --- | --- |\n",
    "| `i = 0` | 1 | 1 |\n",
    "| less than (`<`) | 0 to $N$ | 0 to 10,000|\n",
    "| increment (`+=1`) | 0 to $N - 1$| 0 to 9,999 |\n",
    "| equals (`==`) | 1 to $N - 1$ | 1 to 9,999 |\n",
    "| array accesses| 2 to $2N - 2$ | 2 to 19,998 |"
   ]
  },
  {
   "cell_type": "markdown",
   "metadata": {},
   "source": [
    "* Good answer: Fewer operations to do the same work (e.g. 50,015,001 vs. 10,000 operations)\n",
    "* Better answer: Algorithm **scales better** in the worst case \n",
    "    * $\\frac{N^2 + 3N + 2}{2}$ vs. N\n",
    "* Evem better answer: Parabolas ($N^2$) grow faster than lines ($N$)"
   ]
  },
  {
   "cell_type": "markdown",
   "metadata": {},
   "source": [
    "## Asymptotic Behavior"
   ]
  },
  {
   "cell_type": "markdown",
   "metadata": {},
   "source": [
    "In most cases, we only care about **asymptotic behavior**\n",
    "* e.g. what happens when $N$ is very large. Some real-life examples:\n",
    "    * Simulation of billions of interacting particles\n",
    "    * Social network with billion of users\n",
    "    * Logging of billions of transactions\n",
    "    * Encoding of billion of bytes of video data\n",
    "    \n",
    "Algorithms which scale well (e.g. look like lines) have better asymptotic runtime behavior than algorithms that scale relatively poorly (e.g. look like parabolas)"
   ]
  },
  {
   "cell_type": "markdown",
   "metadata": {},
   "source": [
    "## Parabolas vs. Lines"
   ]
  },
  {
   "cell_type": "markdown",
   "metadata": {},
   "source": [
    "Suppose we have 2 algorithms that zerpify a collection of N items.\n",
    "* `zerp1` takes $2N^2$ operations\n",
    "* `zerp2` takes $500N$ operations\n",
    "\n",
    "![](images/zerp.png)\n",
    "\n",
    "* For small `N`, `zerp1` might be faster\n",
    "* as the dataset size grows, the parabolic algorithm is going to fall further behind (takes more time to complete)"
   ]
  },
  {
   "cell_type": "markdown",
   "metadata": {},
   "source": [
    "## Scaling Across Many Domains"
   ]
  },
  {
   "cell_type": "markdown",
   "metadata": {},
   "source": [
    "We'll refer the shape of a runtime function as its `order of growth`\n",
    "* Effect is dramatic! This often tells us whether a problem can be solved at all\n",
    "\n",
    "![](images/table.png)\n",
    "\n",
    "* For `n = 10`, the shape of the algorithm might doesn't  really matter\n",
    "* But once `n = 100,000`, the shape matters. A linear time algorithm takes less than a second, while a quadratic / parabolic algorithm takes 3 hours. "
   ]
  },
  {
   "cell_type": "markdown",
   "metadata": {},
   "source": [
    "## Duplicate Finding"
   ]
  },
  {
   "cell_type": "markdown",
   "metadata": {},
   "source": [
    "Our goal is to somehow **characterize the runtimes** of the `dup` functions. Our characterization so far is simple and mathematically rigorous.\n",
    "\n",
    "### `dup1` - parabolic a.k.a. quadratic\n",
    "\n",
    "| operation | symbolic count| count, N = 10,000|\n",
    "| --- | --- |--- |\n",
    "| `i = 0` | 1 | 1 |\n",
    "| `j = i + 1` | 1 to N| 1 to 10.000|\n",
    "| less than (`<`) | 2 to $\\frac{N^2 + 3N + 2}{2}$| 2 to 50,015,001 |\n",
    "| increment (`+=1`) | 0 to $\\frac{N^2 + N}{2}$| 0 to 50,005,000 |\n",
    "| equals (`==`) | 1 to $\\frac{N^2 - N}{2}$ |1 to 49,995,000 |\n",
    "| array accesses| 2 to $N^2 - N$ | 2 to 99,990,000|\n",
    "\n",
    "### `dup2` - linear\n",
    "\n",
    "| operation | symbolic count| count, N = 10000 |\n",
    "| --- | --- | --- |\n",
    "| `i = 0` | 1 | 1 |\n",
    "| less than (`<`) | 0 to $N$ | 0 to 10,000|\n",
    "| increment (`+=1`) | 0 to $N - 1$| 0 to 9,999 |\n",
    "| equals (`==`) | 1 to $N - 1$ | 1 to 9,999 |\n",
    "| array accesses| 2 to $2N - 2$ | 2 to 19,998 |"
   ]
  },
  {
   "cell_type": "markdown",
   "metadata": {},
   "source": [
    "However, what we want is a characterization that demonstrates the superiority of `dup2` over `dup1`."
   ]
  }
 ],
 "metadata": {
  "kernelspec": {
   "display_name": "Python 3",
   "language": "python",
   "name": "python3"
  },
  "language_info": {
   "codemirror_mode": {
    "name": "ipython",
    "version": 3
   },
   "file_extension": ".py",
   "mimetype": "text/x-python",
   "name": "python",
   "nbconvert_exporter": "python",
   "pygments_lexer": "ipython3",
   "version": "3.7.4"
  }
 },
 "nbformat": 4,
 "nbformat_minor": 4
}
