{
 "cells": [
  {
   "cell_type": "markdown",
   "metadata": {},
   "source": [
    "# Big O Notation"
   ]
  },
  {
   "cell_type": "markdown",
   "metadata": {},
   "source": [
    "## Big Theta"
   ]
  },
  {
   "cell_type": "markdown",
   "metadata": {},
   "source": [
    "We used Big Theta to describe the order of growth of a function.\n",
    "\n",
    "| function | order of growth | Big-Theta|\n",
    "| --- | --- |---|\n",
    "| $N^3 + 3N^4$| $N^4$ | $\\Theta(N^4)$|\n",
    "| $\\frac{1}{N} + N^3$| $N^3$ | $\\Theta(N^3)$|\n",
    "| $\\frac{1}{N} + 5$ | 1 (constant) | $\\Theta(1)$|\n",
    "| $Ne^N + N$ | $Ne^N$ |$\\Theta(Ne^N)$|\n",
    "| $40 sin(N) + 4N^2$ | $N^2$ |$\\Theta(N^2)$|\n",
    "\n",
    "We also used Big Theta to describe the rate of growth of the runtime of a piece of code."
   ]
  },
  {
   "cell_type": "markdown",
   "metadata": {},
   "source": [
    "## Big O"
   ]
  },
  {
   "cell_type": "markdown",
   "metadata": {},
   "source": [
    "Whereas Big Theta can informally be thought of as \"equals\", Big O can be thought of as \"less than or equal\".\n",
    "\n",
    "For example, the following are all true:\n",
    "* $N^3 + 3N^4 \\in \\Theta(N^4)$\n",
    "* $N^3 + 3N^4 \\in O(N^4)$\n",
    "* $N^3 + 3N^4 \\in O(N^6)$\n",
    "* $N^3 + 3N^4 \\in O(N!)$\n",
    "* $N^3 + 3N^4 \\in O(N^{N!})$"
   ]
  },
  {
   "cell_type": "markdown",
   "metadata": {},
   "source": [
    "## Big O - Formal Definition"
   ]
  },
  {
   "cell_type": "markdown",
   "metadata": {},
   "source": [
    "$$R(N) \\in O(f(N))$$\n",
    "...means there exists positive constants $k_2$ such that,\n",
    "$$R(N) \\le k_2 \\cdot f(N)$$\n",
    "for all values of $N$ greater than some $N_0$ (very large $N$)\n",
    "\n",
    "See visualization [here](http://sp19.datastructur.es/materials/demos/asymptotics.html?rN=4*N%5E2+40*sin(N)&fN=N%5E4&k1=0&k2=5&maxN=15&maxY=1000)"
   ]
  },
  {
   "cell_type": "markdown",
   "metadata": {},
   "source": [
    "## Big Theta vs. Big O"
   ]
  },
  {
   "cell_type": "markdown",
   "metadata": {},
   "source": [
    "| Symbol | Informal Meaning | Family | Family Members\n",
    "| --- | --- | --- | --- |\n",
    "| Big Theta <br> $\\Theta(f(N))$ | Order of growth is $f(N)$ | $\\Theta(N^2)$ | $\\frac{N^2}{2}$ <br> $2N^2$ <br> $N^2 + 38N + N$ |\n",
    "| Big O <br> $O(f(N))$ | Order of growth is less than or equal to $f(N)$ | $O(N^2)$ | $\\frac{N^2}{2}$ <br> $2N^2$ <br> log(N) |\n",
    "\n",
    "It might seem like Big O is a weaker concept, but we'll see how it's practically useful in the next lecture."
   ]
  },
  {
   "cell_type": "markdown",
   "metadata": {},
   "source": [
    "## Summary"
   ]
  },
  {
   "cell_type": "markdown",
   "metadata": {},
   "source": [
    "Given a code snippet, we can express its runtime as a function $R(N)$, where $N$ is some property of the input of the function (often the size of the input, e.g. size of the input list).\n",
    "\n",
    "Rather than finding $R(N)$ exactly (generally impossible because it requires a very powerful, detailed computer), we instead usually only care about the order of growth of $R(N)$.\n",
    "\n",
    "One approach (not universal):\n",
    "* Choose a representative operation (a.k.a. cost model)\n",
    "    * Then let $C(N)$ be the count of how many times that operation occurs as a function of $N$\n",
    "* Determine order of growth $f(N)$ for $C(N)$\n",
    "    * e.g. $C(N) \\in \\Theta(f(N))$\n",
    "    * Often (but not always) we consider the worst case count\n",
    "* If operation takes constant time, then $R(N) \\in \\Theta(f(N))$\n",
    "* Can use $O$ as an alternative for $\\Theta$\n",
    "    * $O$ is used for upper bounds"
   ]
  },
  {
   "cell_type": "code",
   "execution_count": null,
   "metadata": {},
   "outputs": [],
   "source": []
  }
 ],
 "metadata": {
  "kernelspec": {
   "display_name": "Python 3",
   "language": "python",
   "name": "python3"
  },
  "language_info": {
   "codemirror_mode": {
    "name": "ipython",
    "version": 3
   },
   "file_extension": ".py",
   "mimetype": "text/x-python",
   "name": "python",
   "nbconvert_exporter": "python",
   "pygments_lexer": "ipython3",
   "version": "3.7.5"
  }
 },
 "nbformat": 4,
 "nbformat_minor": 4
}
