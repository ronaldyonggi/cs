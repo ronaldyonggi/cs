{
 "cells": [
  {
   "cell_type": "markdown",
   "metadata": {},
   "source": [
    "# Insertion of 7 Through 1\n",
    "\n",
    "To get an intuitive understanding of why all this works, try inserting  `7` through `1` in decreasing order into an initially empty LLRB. We should end up with a perfectly balanced BST.\n",
    "\n",
    "Rules:\n",
    "* Right red link -> `rotateLeft`\n",
    "* 2 consecutive left links -> `rotateRight`\n",
    "* Red left and red right -> color `flip`\n",
    "\n",
    "(See [here](https://docs.google.com/presentation/d/1jgOgvx8tyu_LQ5Y21k4wYLffwp84putW8iD7_EerQmI/edit?usp=sharing) for complete walkthrough)\n",
    "\n",
    "For more exercise, this time try inserting `1` to `7` in increasing order."
   ]
  },
  {
   "cell_type": "code",
   "execution_count": null,
   "metadata": {},
   "outputs": [],
   "source": []
  }
 ],
 "metadata": {
  "kernelspec": {
   "display_name": "Python 3",
   "language": "python",
   "name": "python3"
  },
  "language_info": {
   "codemirror_mode": {
    "name": "ipython",
    "version": 3
   },
   "file_extension": ".py",
   "mimetype": "text/x-python",
   "name": "python",
   "nbconvert_exporter": "python",
   "pygments_lexer": "ipython3",
   "version": "3.7.4"
  }
 },
 "nbformat": 4,
 "nbformat_minor": 2
}
