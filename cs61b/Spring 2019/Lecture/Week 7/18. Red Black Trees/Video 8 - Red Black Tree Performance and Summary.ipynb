{
 "cells": [
  {
   "cell_type": "markdown",
   "metadata": {},
   "source": [
    "# LLRB Runtime and Implementation"
   ]
  },
  {
   "cell_type": "markdown",
   "metadata": {},
   "source": [
    "## LLRB Runtime\n",
    "\n",
    "The runtime analysis for LLRBs is simple if we trust the `2-3 tree` runtime\n",
    "\n",
    "* LLRB tree has height $O(log N)$\n",
    "* `Contains` is trivially $O(log N)$\n",
    "    * Simply `search` the tree like we usually would\n",
    "* `Insert` is $O(log N)$\n",
    "    * $O(log N)$ to add the new node\n",
    "    * $O(log N)$ rotation and color flip operations per insert\n",
    "    \n",
    "We won't discuss LLRB `delete`.\n",
    "\n",
    "* Unlike the regular BST, we have logarithmic performance\n",
    "* Unlike the `2-3 tree`, it's much easier to implement"
   ]
  },
  {
   "cell_type": "markdown",
   "metadata": {},
   "source": [
    "## LLRB Implementation\n",
    "\n",
    "Turning a BST into an LLRB requires only 3 clever lines of code!"
   ]
  },
  {
   "cell_type": "code",
   "execution_count": null,
   "metadata": {},
   "outputs": [],
   "source": [
    "private Node put(Node h, Key key, Value val) {\n",
    "    if (h == null) return new Node(key, val, RED);\n",
    "    \n",
    "    int cmp = key.compareTo(h.key);\n",
    "    if (cmp < 0) h.left = put(h.left, key, val);\n",
    "    else if (cmp > 0) h.right = put(h.right, key, val);\n",
    "    else h.val = val;\n",
    "    \n",
    "    // JUST NEED THESE 3 LINES TO BALANCE\n",
    "    if (isRed(h.right) && !isRed(h.left)) h = rotateLeft(h);\n",
    "    if (isRed(h.left) && isRed(h.left.left)) h = rotateRight(h);\n",
    "    if (isRed(h.left) && isRed(h.right)) flipColors(h);\n",
    "    \n",
    "    return h;\n",
    "}"
   ]
  },
  {
   "cell_type": "markdown",
   "metadata": {},
   "source": [
    "# Search Tree Summary"
   ]
  },
  {
   "cell_type": "markdown",
   "metadata": {},
   "source": [
    "## Search Trees\n",
    "\n",
    "In the last 3 lectures, we talked about using search trees to implement sets / maps\n",
    "\n",
    "* **Binary search trees** are simple, but they are subject to imbalance\n",
    "* **2-3 Trees (B Trees)** are balanced, but hard to implement and relatively slow\n",
    "* **LLRB** insertion is simple to implement\n",
    "    * `delete` operations is hard\n",
    "    * Works by maintaining mathematical bijection with a 2-3 trees\n",
    "\n",
    "\n",
    "Java's [TreeMap](https://github.com/AdoptOpenJDK/openjdk-jdk11/blob/999dbd4192d0f819cb5224f26e9e7fa75ca6f289/src/java.base/share/classes/java/util/TreeMap.java) is a red-black tree (not left leaning)\n",
    "* Maintains correspondence with `2-3-4 tree`\n",
    "    * It's not a `1-1` correspondence\n",
    "* Allows glue links on either side\n",
    "* More complex implementation, but significantly faster"
   ]
  },
  {
   "cell_type": "markdown",
   "metadata": {},
   "source": [
    "## ...and Beyond\n",
    "\n",
    "There are many other types of search trees out there.\n",
    "* Other self-balancing trees: AVL trees, splay trees, treaps, etc.\n",
    "* There are at least hundreds of different such trees\n",
    "\n",
    "And there are other sufficient ways to implement sets and maps entirely\n",
    "* Other linked structures: `skip lists` are linked lists with express lanes\n",
    "* Other ideas entirely: Hashing is the most common alternative"
   ]
  },
  {
   "cell_type": "code",
   "execution_count": null,
   "metadata": {},
   "outputs": [],
   "source": []
  }
 ],
 "metadata": {
  "kernelspec": {
   "display_name": "Python 3",
   "language": "python",
   "name": "python3"
  },
  "language_info": {
   "codemirror_mode": {
    "name": "ipython",
    "version": 3
   },
   "file_extension": ".py",
   "mimetype": "text/x-python",
   "name": "python",
   "nbconvert_exporter": "python",
   "pygments_lexer": "ipython3",
   "version": "3.7.4"
  }
 },
 "nbformat": 4,
 "nbformat_minor": 2
}
