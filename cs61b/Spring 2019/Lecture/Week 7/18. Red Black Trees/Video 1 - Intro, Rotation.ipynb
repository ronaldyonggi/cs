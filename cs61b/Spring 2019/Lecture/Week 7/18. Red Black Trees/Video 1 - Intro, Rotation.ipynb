{
 "cells": [
  {
   "cell_type": "markdown",
   "metadata": {},
   "source": [
    "## The Bad News\n",
    "\n",
    "`2-3 trees` (and `2-3-4 trees`) are a real pain to implement and suffer from performance problems. Issues include:\n",
    "* Maintaining different node types\n",
    "* Interconversion of nodes between 2-nodes and 3-nodes\n",
    "* Walking up the tree to split nodes\n",
    "\n",
    "Here is an example of a fantasy `2-3` code implementation,"
   ]
  },
  {
   "cell_type": "code",
   "execution_count": null,
   "metadata": {},
   "outputs": [],
   "source": [
    "public void put(Key, key, Value val) {\n",
    "    Node x = root;\n",
    "    while (x.getTheCorrectChildKey(key) != null) {\n",
    "        x = x.getTheCorrectChildKey();\n",
    "        if (x.is4Node()) x.split();\n",
    "    }\n",
    "    if (x.is2Node()) x.make3Node(key, val);\n",
    "    if (x.is3Node()) x.make4Node(key, val);\n",
    "}"
   ]
  },
  {
   "cell_type": "markdown",
   "metadata": {},
   "source": [
    "In this lecture, we'll explore a different approach that's inspired by the `2-3 tree`, but simpler and faster."
   ]
  },
  {
   "cell_type": "markdown",
   "metadata": {},
   "source": [
    "# BST Structure and Tree Rotation"
   ]
  },
  {
   "cell_type": "markdown",
   "metadata": {},
   "source": [
    "## BSTs\n",
    "\n",
    "Suppose we have a BST with the numbers `1, 2, 3`. There are 5 possible BSTs.\n",
    "\n",
    "![](images/5.png)\n",
    "\n",
    "* The specific BST that we get is based on the insertion order\n",
    "* More generally, for $N$ items, there are `Catalan(N)` different BSTs\n",
    "\n",
    "Given any BST, it is possible to move from one configuration to a different configuration using `rotation`.\n",
    "* In general, we can move to any configuration in `2n - 6` rotations"
   ]
  },
  {
   "cell_type": "markdown",
   "metadata": {},
   "source": [
    "## Tree Rotation Definition"
   ]
  },
  {
   "cell_type": "code",
   "execution_count": null,
   "metadata": {},
   "outputs": [],
   "source": [
    "rotateLeft(G);"
   ]
  },
  {
   "cell_type": "markdown",
   "metadata": {},
   "source": [
    "Let `x` be the right child of `G`. Make `G` the **new left child** of `x`.\n",
    "* Preserves search tree property. No change to semantics of tree.\n",
    "\n",
    "![](images/rotate.png)\n",
    "\n",
    "For this example, `rotateLeft(G)` increased the height of tree!"
   ]
  },
  {
   "cell_type": "code",
   "execution_count": null,
   "metadata": {},
   "outputs": [],
   "source": [
    "rotateRight(G);"
   ]
  },
  {
   "cell_type": "markdown",
   "metadata": {},
   "source": [
    "Let `x` be the left child of `P`. Make `P` the **new right child** of `x`.\n",
    "\n",
    "* Can think of as temporarily merging `G` and `P`, then sending `P` down and **right**\n",
    "* `k` was `G`'s right child. Now it's `P`'s left child\n",
    "\n",
    "![](images/rotateright.png)"
   ]
  },
  {
   "cell_type": "code",
   "execution_count": null,
   "metadata": {},
   "outputs": [],
   "source": []
  }
 ],
 "metadata": {
  "kernelspec": {
   "display_name": "Python 3",
   "language": "python",
   "name": "python3"
  },
  "language_info": {
   "codemirror_mode": {
    "name": "ipython",
    "version": 3
   },
   "file_extension": ".py",
   "mimetype": "text/x-python",
   "name": "python",
   "nbconvert_exporter": "python",
   "pygments_lexer": "ipython3",
   "version": "3.7.4"
  }
 },
 "nbformat": 4,
 "nbformat_minor": 2
}
