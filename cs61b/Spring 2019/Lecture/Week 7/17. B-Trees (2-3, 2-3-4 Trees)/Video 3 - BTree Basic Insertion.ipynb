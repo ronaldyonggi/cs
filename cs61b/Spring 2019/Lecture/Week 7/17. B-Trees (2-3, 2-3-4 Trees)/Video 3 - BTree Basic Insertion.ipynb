{
 "cells": [
  {
   "cell_type": "markdown",
   "metadata": {},
   "source": [
    "# B-trees / 2-3 trees / 2-3-4 trees"
   ]
  },
  {
   "cell_type": "markdown",
   "metadata": {},
   "source": [
    "## Avoiding Imbalance\n",
    "\n",
    "Let's say we have the following tree:\n",
    "\n",
    "![](images/13.png)\n",
    "\n",
    "And we want to add `17, 18, 19`. How do we add these elements?\n",
    "\n",
    "Idea: never add new leaves at the bottom. This way, tree can never get imbalanced."
   ]
  },
  {
   "cell_type": "markdown",
   "metadata": {},
   "source": [
    "## Avoiding Imbalance through Overstuffing\n",
    "    \n",
    "![](images/overstuff.png)\n",
    "\n",
    "Overstuffed trees are a logically consistent but very strange data structure. Let's say we want to do `contains(18)`"
   ]
  },
  {
   "cell_type": "code",
   "execution_count": null,
   "metadata": {},
   "outputs": [],
   "source": [
    "contains(18);\n",
    "// is 18 > 13? Yes, go right\n",
    "// is 18 > 15? Yes, go right\n",
    "// is 16 = 18? No\n",
    "// is 17 = 18? No\n",
    "// is 18 = 18? Yes! Found it"
   ]
  },
  {
   "cell_type": "markdown",
   "metadata": {},
   "source": [
    "The problem with this idea is that we could end up with a leaf node that has excessive elements (became too juicy). At this point, the leaf has degenerated to be a long linked list.\n",
    "\n",
    "![](images/degenerate.png)"
   ]
  },
  {
   "cell_type": "markdown",
   "metadata": {},
   "source": [
    "## Revising Our Overstuffed Tree Approach: Moving Items up\n",
    "\n",
    "The height of the tree is balanced, but now we have a new problem: the leaf nodes can get too juicy (too many elements)! What do we do?\n",
    "\n",
    "Potential solution:\n",
    "* Set a limit `L` on the number of items.\n",
    "    * e.g. `L = 3`\n",
    "* If any node has more than `L` items, move any arbitrary item to parent.\n",
    "\n",
    "![](images/before.png)\n",
    "\n",
    "In this case, let's say we move 17 up.\n",
    "\n",
    "![](images/right.png)\n",
    "\n",
    "The problem is now 16 is to the right of 17! How can we tweak this idea to make it work?"
   ]
  },
  {
   "cell_type": "markdown",
   "metadata": {},
   "source": [
    "## Revising Our Overstuffed Tree Approach: Node Splitting\n",
    "\n",
    "When we pull an item out of full node, split it into left and right.\n",
    "* Parent node now has 3 children!\n",
    "* Notice that now 16 is between 15 and 17!\n",
    "    * 14 is to the left of 15\n",
    "    * 18 and 19 is to the right of 17\n",
    "\n",
    "This is neat!\n",
    "\n",
    "![](images/split.png)\n",
    "\n",
    "This is a logically consistent and not-so-strange data structure. This time, if we do `contains(18)`,"
   ]
  },
  {
   "cell_type": "code",
   "execution_count": null,
   "metadata": {},
   "outputs": [],
   "source": [
    "contains(18);\n",
    "// 18 > 13, so go right\n",
    "// 18 > 15, so compare with 17\n",
    "// 18 > 17, so go right"
   ]
  },
  {
   "cell_type": "markdown",
   "metadata": {},
   "source": [
    "The only downside is that examining a node costs $O(L)$ runtime (where there's up to `L` values in each node), but it's acceptable since `L` is constant.\n",
    "\n",
    "What if a non-leaf node gets too full? Can we split that?"
   ]
  },
  {
   "cell_type": "markdown",
   "metadata": {},
   "source": [
    "## `add` Understanding Check\n",
    "\n",
    "Suppose we're adding `20` and `21`,\n",
    "\n",
    "![](images/understanding.png)\n",
    "\n",
    "If our cap is at most `L = 3` items per node, what would the tree look like after splitting?\n",
    "\n",
    "A possible choice would be to move 19 up!\n",
    "\n",
    "![](images/19.png)"
   ]
  },
  {
   "cell_type": "markdown",
   "metadata": {},
   "source": []
  }
 ],
 "metadata": {
  "kernelspec": {
   "display_name": "Python 3",
   "language": "python",
   "name": "python3"
  },
  "language_info": {
   "codemirror_mode": {
    "name": "ipython",
    "version": 3
   },
   "file_extension": ".py",
   "mimetype": "text/x-python",
   "name": "python",
   "nbconvert_exporter": "python",
   "pygments_lexer": "ipython3",
   "version": "3.7.4"
  }
 },
 "nbformat": 4,
 "nbformat_minor": 4
}
