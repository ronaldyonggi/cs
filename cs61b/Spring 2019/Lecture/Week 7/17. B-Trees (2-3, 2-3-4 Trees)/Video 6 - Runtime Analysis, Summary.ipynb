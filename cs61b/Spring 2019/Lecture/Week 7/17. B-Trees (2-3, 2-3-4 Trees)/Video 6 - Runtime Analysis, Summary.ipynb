{
 "cells": [
  {
   "cell_type": "markdown",
   "metadata": {},
   "source": [
    "# B-Tree Runtime Analysis"
   ]
  },
  {
   "cell_type": "markdown",
   "metadata": {},
   "source": [
    "## Height of a B-Tree with Limit L"
   ]
  },
  {
   "cell_type": "markdown",
   "metadata": {},
   "source": [
    "`L`: max number of items per node\n",
    "\n",
    "\n",
    "* Largest possible height (near worst case) is all non-leaf nodes have 1 item. See below,\n",
    "\n",
    "![](images/worst.png)\n",
    "\n",
    "* Smallest possible height (best case) is all nodes have `L` items.\n",
    "    * With more items, we get more branches\n",
    "    * With more branches, we can fit more stuff for the same height\n",
    "\n",
    "![](images/best.png)\n",
    "\n",
    "As a comparison, it's 26 items vs. 8 items, with the same height!\n",
    "\n",
    "\n",
    "Comparing the worst case and the best case, the height of B-Tree with limit `L` varies between ~$log_{L+1}(N)$ and ~$log_2(N)$. Since both are logarithmic, we can drop the base and state that **the overal height is $\\Theta(log N)$**"
   ]
  },
  {
   "cell_type": "markdown",
   "metadata": {},
   "source": [
    "## `contains` Runtime\n",
    "\n",
    "* Worst case number of nodes to inspect: `H + 1`\n",
    "* Worst case number of items to inspect per node: `L`\n",
    "\n",
    "Thus, the overall runtime is:\n",
    "$$O(HL)$$\n",
    "\n",
    "...but since $H = \\Theta(log N)$, we can substitute $H$ and overall runtime becomes:\n",
    "$$O(L log N)$$\n",
    "\n",
    "...since `L` is a constant, runtime becomes,\n",
    "$$O(log N)$$"
   ]
  },
  {
   "cell_type": "markdown",
   "metadata": {},
   "source": [
    "## `add` Runtime\n",
    "\n",
    "* Worst case number of nodes to inspect: `H + 1`\n",
    "* Worst case number of items to inspect per node: `L`\n",
    "* Worst case number of split operations: `H + 1`\n",
    "\n",
    "Overall runtime is same as `contains`, $O(logN)$"
   ]
  },
  {
   "cell_type": "markdown",
   "metadata": {},
   "source": [
    "## Summary\n",
    "\n",
    "BSTs have height:\n",
    "* Best case $\\Theta(log N)$\n",
    "* Worst case $\\Theta(N)$\n",
    "\n",
    "Big O is not the same as worst case!\n",
    "\n",
    "B-trees are a modification of the binary search tree that avoids $\\Theta(N)$ worst case.\n",
    "* Nodes may contain between 1 to `L` items\n",
    "* `contains` works almost exactly like a normal BST\n",
    "* `add` works by adding items to existing leaf nodes\n",
    "    * If nodes are too full, split\n",
    "* Resulting tree has perfect balance\n",
    "    * Runtime for operations is $O(log N)$\n"
   ]
  }
 ],
 "metadata": {
  "kernelspec": {
   "display_name": "Python 3",
   "language": "python",
   "name": "python3"
  },
  "language_info": {
   "codemirror_mode": {
    "name": "ipython",
    "version": 3
   },
   "file_extension": ".py",
   "mimetype": "text/x-python",
   "name": "python",
   "nbconvert_exporter": "python",
   "pygments_lexer": "ipython3",
   "version": "3.7.4"
  }
 },
 "nbformat": 4,
 "nbformat_minor": 2
}
