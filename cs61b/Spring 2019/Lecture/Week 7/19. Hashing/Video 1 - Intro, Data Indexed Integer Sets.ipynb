{
 "cells": [
  {
   "cell_type": "markdown",
   "metadata": {},
   "source": [
    "# Data Indexed Arrays"
   ]
  },
  {
   "cell_type": "markdown",
   "metadata": {},
   "source": [
    "## Sets\n",
    "\n",
    "We've now seen several implementations of the Set (or Map) ADT.\n",
    "\n",
    "![](images/implement.png)\n",
    "\n",
    "| Implementation | Worst Case Runtime <br> `contains(x)` | Worst Case Runtime <br> `add(x)` | Notes |\n",
    "| --- | --- | --- | --- |\n",
    "| `ArraySet` | $\\Theta(N)$ | $\\Theta(N)$ | |\n",
    "| BST | $\\Theta(N)$ | $\\Theta(N)$ | Randomly generated trees runtime are $\\Theta(log N)$ but not safe to assume that our tree is random|\n",
    "| `2-3 Tree` | $\\Theta(log N)$ | $\\Theta(log N)$ | Very good idea, very hard to implement|\n",
    "| LLRB | $\\Theta(log N)$ | $\\Theta(log N)$ | Maintains bijection (`1-1 mapping` with `2-3 tree`. Hard to implement|"
   ]
  },
  {
   "cell_type": "markdown",
   "metadata": {},
   "source": [
    "## Limits of Search Tree Based Sets\n",
    "\n",
    "Our search-tree-based sets require items to be comparable\n",
    "* Need to ask \"is `X < Y`?\". Not true for all types\n",
    "    * Some types in Java don't implement comparable interface\n",
    "* Could we somehow avoid the need for objects to be comparable?\n",
    "\n",
    "Our search tree sets have excellent performance, but could it be better?\n",
    "* $\\Theta(log N)$ is amazing.\n",
    "    * 1 billion items results in roughly only height of 30\n",
    "* Could we somehow do better than this?"
   ]
  },
  {
   "cell_type": "markdown",
   "metadata": {},
   "source": [
    "## Using Data as an Index\n",
    "\n",
    "Create an array of booleans indexed by data!\n",
    "* Initially, set all values to be `false`\n",
    "* When an item is added, set appropriate index to true\n"
   ]
  },
  {
   "cell_type": "code",
   "execution_count": null,
   "metadata": {},
   "outputs": [],
   "source": [
    "DataIndexedIntegerSet diis;\n",
    "diis = new DataIndexedIntegerSet();"
   ]
  },
  {
   "cell_type": "markdown",
   "metadata": {},
   "source": [
    "![](images/false.png)"
   ]
  },
  {
   "cell_type": "code",
   "execution_count": null,
   "metadata": {},
   "outputs": [],
   "source": [
    "diis.add(0);\n",
    "diis.add(5);\n",
    "diis.add(10);\n",
    "diis.add(11);"
   ]
  },
  {
   "cell_type": "markdown",
   "metadata": {},
   "source": [
    "![](images/11.png)"
   ]
  },
  {
   "cell_type": "markdown",
   "metadata": {},
   "source": [
    "## DataIndexedIntegerSet Implementation"
   ]
  },
  {
   "cell_type": "code",
   "execution_count": null,
   "metadata": {},
   "outputs": [],
   "source": [
    "public class DataIndexedIntegerSet{\n",
    "    private boolean[] present;\n",
    "    \n",
    "    // Creatre a huge array of boolean\n",
    "    public DataIndexedIntegerSet() {\n",
    "        present = new boolean[20000000];\n",
    "    }\n",
    "    \n",
    "    // When we add an element, set that element index to true\n",
    "    public add(int i) {\n",
    "        present[i] = true;\n",
    "    }\n",
    "    \n",
    "    // Simply present whether input index is true or false\n",
    "    public contains(int i) {\n",
    "        return present[i];\n",
    "    }\n",
    "}"
   ]
  },
  {
   "cell_type": "markdown",
   "metadata": {},
   "source": [
    "For `contains(x)` and `add(x)`, the runtime is constant $\\Theta(1)$!"
   ]
  },
  {
   "cell_type": "markdown",
   "metadata": {},
   "source": [
    "## Downside of This Approach\n",
    "\n",
    "* Extremely wasteful of memory\n",
    "    * To support checking presence of all positive integers, we need > 2 billion booleans\n",
    "* Need a way to generalize data type (not limited to integer)"
   ]
  },
  {
   "cell_type": "code",
   "execution_count": null,
   "metadata": {},
   "outputs": [],
   "source": []
  }
 ],
 "metadata": {
  "kernelspec": {
   "display_name": "Python 3",
   "language": "python",
   "name": "python3"
  },
  "language_info": {
   "codemirror_mode": {
    "name": "ipython",
    "version": 3
   },
   "file_extension": ".py",
   "mimetype": "text/x-python",
   "name": "python",
   "nbconvert_exporter": "python",
   "pygments_lexer": "ipython3",
   "version": "3.7.4"
  }
 },
 "nbformat": 4,
 "nbformat_minor": 2
}
