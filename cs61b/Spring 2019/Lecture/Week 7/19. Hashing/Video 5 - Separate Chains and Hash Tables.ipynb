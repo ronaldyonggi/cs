{
 "cells": [
  {
   "cell_type": "markdown",
   "metadata": {},
   "source": [
    "# Hash Tables - Handling Collisions"
   ]
  },
  {
   "cell_type": "markdown",
   "metadata": {},
   "source": [
    "## Resolving Ambiguity\n",
    "\n",
    "Pigeonhole principle states that collisions are inevitable due to integer overflow.\n",
    "\n",
    "Example: hash code for `\"moo\"` and `\"Nep\"` might both be 718.\n",
    "\n",
    "Suppose `N` items have the same numerical representation `h`. Instead of storing `true/false` in position `h`, store a \"bucket\" of these `N` items at position `h`.\n",
    "\n",
    "![](images/nep.png)\n",
    "\n",
    "How do we implement \"bucket\"?\n",
    "* Conceptually the simplest way: LinkedList\n",
    "* We can also use ArrayLists or ArraySet\n",
    "* We'll see that it doesn't matter what implementation we use"
   ]
  },
  {
   "cell_type": "markdown",
   "metadata": {},
   "source": [
    "## The Separate Chaining Data Indexed Array\n",
    "\n",
    "Each bucket in our array is initially empty. When an item `x` is added at index `h`, if the bucket `h`...\n",
    "* ...is empty, create a new list containing `x` and store it at index `h`\n",
    "* ...is already a list and `x` is not in there, add `x` to this list\n",
    "\n",
    "We might call this a \"separate chaining data indexed array\"\n",
    "* Bucket `'#h` is a \"separate chain\" of all items that have the same hash code `h`\n",
    "\n",
    "Initially, all buckets are empty.\n",
    "\n",
    "![](images/empty.png)"
   ]
  },
  {
   "cell_type": "code",
   "execution_count": null,
   "metadata": {},
   "outputs": [],
   "source": [
    "add(\"a\");"
   ]
  },
  {
   "cell_type": "markdown",
   "metadata": {},
   "source": [
    "![](images/length.png)"
   ]
  },
  {
   "cell_type": "code",
   "execution_count": null,
   "metadata": {},
   "outputs": [],
   "source": [
    "add(\"abomamora\");"
   ]
  },
  {
   "cell_type": "markdown",
   "metadata": {},
   "source": [
    "![](images/abomamora.png)"
   ]
  },
  {
   "cell_type": "code",
   "execution_count": null,
   "metadata": {},
   "outputs": [],
   "source": [
    "add(\"adevilish\";)"
   ]
  },
  {
   "cell_type": "markdown",
   "metadata": {},
   "source": [
    "![](images/adevilish.png)"
   ]
  },
  {
   "cell_type": "code",
   "execution_count": null,
   "metadata": {},
   "outputs": [],
   "source": [
    "contains(\"adevilish\");\n",
    "// Java will look at all items in bucket 111239443 to see \n",
    "// \"adevilish\" is present"
   ]
  },
  {
   "cell_type": "markdown",
   "metadata": {},
   "source": [
    "## Separate Chaining Performance\n",
    "\n",
    "| Worst Case Runtime | `contains(x)` | `add(x)` | \n",
    "| --- | --- | --- |\n",
    "| Bushy BSTs | $\\Theta(log N)$ | $\\Theta(log N)$ |\n",
    "| DataIndexedArray | $\\Theta(1)$ | $\\Theta(1)$|\n",
    "| Separate Chaining Data Indexed Array | $\\Theta(Q)$ | $\\Theta(Q)$ |\n",
    "\n",
    "`Q` = length of longest list\n",
    "* If the list has a length of $Q$, we'll have to spend $Q$ time finding an item\n",
    "\n",
    "Observation: worst case runtime will be proportional to the length of longest list\n",
    "\n",
    "Note that `add` is $\\Theta(Q)$ instead of $\\Theta(1)$! Isn't it constant since we only need to add the element?\n",
    "* No. We still need to check if the element is already within the list."
   ]
  },
  {
   "cell_type": "markdown",
   "metadata": {},
   "source": [
    "## Saving Memory Using Separate Chaining\n",
    "\n",
    "We don't need billions of buckets.\n",
    "\n",
    "![](images/go.png)\n"
   ]
  },
  {
   "cell_type": "markdown",
   "metadata": {},
   "source": [
    "## Saving Memory Using Separate Chaining and Modulus\n",
    "\n",
    "We can use modulus `%` of hashcode to reduce bucket count.\n",
    "* Put in bucket `hashCode % 10`\n",
    "\n",
    "![](images/hash.png)\n",
    "\n",
    "Downside of this approach: the list of each bucket can potentially get long."
   ]
  },
  {
   "cell_type": "markdown",
   "metadata": {},
   "source": [
    "## The Hash Table"
   ]
  },
  {
   "cell_type": "markdown",
   "metadata": {},
   "source": [
    "What we've just created is called a **hash table**.\n",
    "* Data is converted by a **hash function** into an integer representation called a **hash code**\n",
    "* The **hash code** is then **reduced** to a valid **index**\n",
    "    * Usually using the modulus `%` operator\n",
    "        * e.g. `23487628 % 10 = 8`\n",
    "        \n",
    "![](images/caveat.png)"
   ]
  },
  {
   "cell_type": "markdown",
   "metadata": {},
   "source": []
  }
 ],
 "metadata": {
  "kernelspec": {
   "display_name": "Python 3",
   "language": "python",
   "name": "python3"
  },
  "language_info": {
   "codemirror_mode": {
    "name": "ipython",
    "version": 3
   },
   "file_extension": ".py",
   "mimetype": "text/x-python",
   "name": "python",
   "nbconvert_exporter": "python",
   "pygments_lexer": "ipython3",
   "version": "3.7.4"
  }
 },
 "nbformat": 4,
 "nbformat_minor": 2
}
