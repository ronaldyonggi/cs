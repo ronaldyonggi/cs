{
 "cells": [
  {
   "cell_type": "markdown",
   "metadata": {},
   "source": [
    "## DataIndexedStringSet\n",
    "\n",
    "Using only lowercase English characters is too restrictive!\n",
    "* What if we want to store `\"2pac\"` or `\"eGg!\"`"
   ]
  },
  {
   "cell_type": "markdown",
   "metadata": {},
   "source": [
    "## ASCII Characters\n",
    "\n",
    "The most basic character set used by most compiters is ASCII format\n",
    "* Each possible character is assigned a value between 0 to 127\n",
    "* Characters 33 to 126 are `printable`\n",
    "* For example, `char c = 'D'` is equivalent to `char c = 68`\n",
    "\n",
    "![](images/126.png)\n",
    "\n",
    "Maximum possible value for english-only text including punctuation is 126, so let's use that to ensure unique values for all possible strings!\n",
    "\n",
    "![](images/ascii.png)"
   ]
  },
  {
   "cell_type": "markdown",
   "metadata": {},
   "source": [
    "## Implementing `asciiToInt`"
   ]
  },
  {
   "cell_type": "markdown",
   "metadata": {},
   "source": [
    "Each character has a raw value. We can utilize that for implementation!"
   ]
  },
  {
   "cell_type": "code",
   "execution_count": null,
   "metadata": {},
   "outputs": [],
   "source": [
    "public static int asciiToInt(String s) {\n",
    "    int intRep = 0;\n",
    "    for (int i = 0; i < s.length(); i += 1) {\n",
    "        intRep = intRep * 126;\n",
    "        intRep = intRep + s.charAt(i);\n",
    "    }\n",
    "    return intrep;\n",
    "}"
   ]
  },
  {
   "cell_type": "markdown",
   "metadata": {},
   "source": [
    "## Going Beyond ASCII\n",
    "\n",
    "`char`s in Java also support character sets for other languages (e.g. Chinese). This encoding us known as Unicode."
   ]
  },
  {
   "cell_type": "markdown",
   "metadata": {},
   "source": [
    "## Example: Computing Unique Representations of Chinese\n",
    "\n",
    "The largest possible value for chinese characters is $40,959$, so we'd need to use this as our base if we want to have a unique representation for all possible strings of Chinese characters.\n",
    "\n",
    "![](images/chines.png)\n",
    "\n",
    "![](images/chin.png)"
   ]
  },
  {
   "cell_type": "code",
   "execution_count": null,
   "metadata": {},
   "outputs": [],
   "source": []
  }
 ],
 "metadata": {
  "kernelspec": {
   "display_name": "Python 3",
   "language": "python",
   "name": "python3"
  },
  "language_info": {
   "codemirror_mode": {
    "name": "ipython",
    "version": 3
   },
   "file_extension": ".py",
   "mimetype": "text/x-python",
   "name": "python",
   "nbconvert_exporter": "python",
   "pygments_lexer": "ipython3",
   "version": "3.7.4"
  }
 },
 "nbformat": 4,
 "nbformat_minor": 2
}
