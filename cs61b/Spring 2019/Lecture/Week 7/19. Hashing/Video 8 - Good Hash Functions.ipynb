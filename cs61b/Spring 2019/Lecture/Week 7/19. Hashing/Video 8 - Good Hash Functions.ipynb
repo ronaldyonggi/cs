{
 "cells": [
  {
   "cell_type": "markdown",
   "metadata": {},
   "source": [
    "# Good HashCodes"
   ]
  },
  {
   "cell_type": "markdown",
   "metadata": {},
   "source": [
    "## What Makes a good `.hashCode()`?\n",
    "\n",
    "![](images/good.png)\n",
    "\n",
    "We want hash tables that look like the one on the right, able to spread things out nicely on real data.\n",
    "* Example 1: `return 0` is a bad hashCode function\n",
    "    * All items will end up in bucket 0\n",
    "* Example 2: just returning the hashCode of the first character of a word (e.g. `\"cat\"` -> 3 was also a bad hash function)\n",
    "    * Collides with all items that have the same first letter\n",
    "* Example 3: Adding chars together is bad.\n",
    "    * `\"ab\"` collides with `\"ba\"`\n",
    "* Example 4: Returning string treated as base `B` number can be good"
   ]
  },
  {
   "cell_type": "markdown",
   "metadata": {},
   "source": [
    "## Hashbrowns and HashCodes\n",
    "\n",
    "How do we make hashbrowns? Chopping a potato into nice **predictable** segments? no!\n",
    "* Similarly, simply adding up characters is not \"random\" enough\n",
    "\n",
    "If we multiply our data by powers of some base, it ensures that all data gets scrambled together into a seemingly random integer"
   ]
  },
  {
   "cell_type": "markdown",
   "metadata": {},
   "source": [
    "## Example `hashCode` function\n",
    "\n",
    "The Java 8 hash code for strings. 2 major differences from our hash codes:\n",
    "* Represents strings as a base `31`\n",
    "    * Why such a small base? Real hash codes don't care about uniqueness\n",
    "* Stores (caches) calculated hash code so future `hashCode` calls are faster"
   ]
  },
  {
   "cell_type": "code",
   "execution_count": null,
   "metadata": {},
   "outputs": [],
   "source": [
    "@Override\n",
    "public int hashCode() {\n",
    "    int h = cachedHashValue;\n",
    "    if (h == 0 && this.length() > 0) {\n",
    "        for (int i = 0; i < this.length(); i ++) {\n",
    "            h = 31 * h + this.charAt(i);\n",
    "        }\n",
    "        cachedHashValue = h;\n",
    "    }\n",
    "    return h;\n",
    "}"
   ]
  },
  {
   "cell_type": "markdown",
   "metadata": {},
   "source": [
    "## Example: Choosing a Base\n",
    "\n",
    "Java's `hashCode()` function for Strings:\n",
    "\n",
    "$$h(s) = s_0 \\times 31^{n-1} + s_1 \\times 31^{n-2} + ... + s_{n-1}$$\n",
    "\n",
    "Our `asciiToInt` function for Strings:\n",
    "\n",
    "$$h(s) = s_0 \\times 126^{n-1} + s_1 \\times 126^{n-2} + ... + s_{n-1}$$\n",
    "\n",
    "Which is better?\n",
    "* It might seem that 126 is better\n",
    "    * If we ignore overflow, this ensures a unique numerical representation for all ASCII strings\n",
    "* But **overflow** is a particularly bad problem for base 126"
   ]
  },
  {
   "cell_type": "markdown",
   "metadata": {},
   "source": [
    "## Example: Base 126\n",
    "\n",
    "Major collision problem:\n",
    "* `\"geocronite is the best thing on the earth.\"`\n",
    "    * `.hashCode()` yields 634199182\n",
    "* `\"flan is the best thing on the earth.\"`\n",
    "    * `.hashCode()` yields 634199182\n",
    "* `\"treachery is the best thing on the earth.\"`\n",
    "    * `.hashCode()` yields 634199182\n",
    "* `\"Brazil is the best thing on the earth.\"`\n",
    "    * `.hashCode()` yields 634199182\n",
    "    \n",
    "Any string that ends in the same last 32 characters has the same hash code.\n",
    "* Why? Because over flow\n",
    "* Basic issue is that $126^{32} = 126^{33} = 126^{34}$ (any positive power greater than 31) will be 0\n",
    "    * Upper characters are all multiplied by zero"
   ]
  },
  {
   "cell_type": "markdown",
   "metadata": {},
   "source": [
    "## Typical Base\n",
    "\n",
    "A typical hash code base is a small prime. Why prime?\n",
    "* Never even number\n",
    "    * Avoids the overflow isse\n",
    "* Lower chance of resuling `hashCode` having a bad relationship with the number of buckets\n",
    "    * e.g. if the `hashCode` is a multiple of the number of buckets, most items would go to bucket `0`\n",
    "\n",
    "Why small?\n",
    "* Lower cost to compute\n",
    "\n",
    "Using a prime base yields better \"randomness\" than using something like bas 126"
   ]
  },
  {
   "cell_type": "markdown",
   "metadata": {},
   "source": [
    "## Example: Hashing a Collection\n",
    "\n",
    "Lists are similar strings: Collection of items each with its own hashCode.\n",
    "\n",
    "Suppose we have a collection of items with its own hashCode (e.g. list of items).\n",
    "\n",
    "To compute the hashCode of the entire collection, \n",
    "* Iterate through each object in the collection\n",
    "* Take the existing `hashCode` and multiply it by `31` \n",
    "* Then add the new item's `hashCode`."
   ]
  },
  {
   "cell_type": "code",
   "execution_count": null,
   "metadata": {},
   "outputs": [],
   "source": [
    "@Override\n",
    "public int hashCode() {\n",
    "    int hashCode = 1;\n",
    "    for (Object o : this) {\n",
    "        // Elevate / smear the current hash code\n",
    "        hashCode = hashCode * 31;\n",
    "        // Add new item's hash code\n",
    "        hashCode = hashCode + o.hashCode();\n",
    "    }\n",
    "    return hashCode;\n",
    "}"
   ]
  },
  {
   "cell_type": "markdown",
   "metadata": {},
   "source": [
    "To save time hashing, look at only first few items\n",
    "* Higher chance of collisions but things will still work"
   ]
  },
  {
   "cell_type": "markdown",
   "metadata": {},
   "source": [
    "## Example: Hashing a Recursive Data Structure\n",
    "\n",
    "Computation of the hashCode of a recursive data structure involves recursive computation.\n",
    "* For example, binary tree `hashCode` (assuming this is a sentinel leaf). Pseudocode looks like the following"
   ]
  },
  {
   "cell_type": "code",
   "execution_count": null,
   "metadata": {},
   "outputs": [],
   "source": [
    "@Override\n",
    "public int hashCode() {\n",
    "    if (this.value == null) {\n",
    "        return 0;\n",
    "    }\n",
    "    return this.value.hashCode() + \n",
    "    31 * this.left.hashCode() + // Left tree hashCode\n",
    "    31 * 31 * this.right.hashCode(); // Right tree hashCode\n",
    "}"
   ]
  },
  {
   "cell_type": "markdown",
   "metadata": {},
   "source": [
    "# Summary"
   ]
  },
  {
   "cell_type": "markdown",
   "metadata": {},
   "source": [
    "## Hash Tables in Java\n",
    "\n",
    "* Data is converted into a hash code\n",
    "* The **hash code** is then **reduced** to a valid `index`\n",
    "* Data is then stored in a bucket corresponding to that `index`\n",
    "* Resize when load factor $N/M$ exceeds some constant\n",
    "* If items are spread out nicely, we can get $\\Theta(1)$ average runtime\n",
    "\n",
    "![](images/summary.png)"
   ]
  },
  {
   "cell_type": "code",
   "execution_count": null,
   "metadata": {},
   "outputs": [],
   "source": []
  }
 ],
 "metadata": {
  "kernelspec": {
   "display_name": "Python 3",
   "language": "python",
   "name": "python3"
  },
  "language_info": {
   "codemirror_mode": {
    "name": "ipython",
    "version": 3
   },
   "file_extension": ".py",
   "mimetype": "text/x-python",
   "name": "python",
   "nbconvert_exporter": "python",
   "pygments_lexer": "ipython3",
   "version": "3.7.4"
  }
 },
 "nbformat": 4,
 "nbformat_minor": 2
}
