{
 "cells": [
  {
   "cell_type": "markdown",
   "metadata": {},
   "source": [
    "# Integer Overflow and Hash Codes"
   ]
  },
  {
   "cell_type": "markdown",
   "metadata": {},
   "source": [
    "## Major Problem: Integer Overflow\n",
    "\n",
    "In Java, the largest possible integer is $2,147,483,647$\n",
    "* If we go over this limit, an overflow occurs, starting back over at the smallest integer, $-2,147,483,648$\n",
    "* In other words, the next number after `2,147,483,647` is `-2,147,483,648`"
   ]
  },
  {
   "cell_type": "code",
   "execution_count": null,
   "metadata": {},
   "outputs": [],
   "source": [
    "int x = 2147483647;\n",
    "System.out.println(x);\n",
    "System.out.println(x+1);\n",
    "\n",
    "// Output will be as the following\n",
    ">> 2147483647\n",
    ">> -2147483647"
   ]
  },
  {
   "cell_type": "markdown",
   "metadata": {},
   "source": [
    "## Consequence of Overflow: Collisions\n",
    "\n",
    "With base 126, we will run into overflow even for short strings.\n",
    "\n",
    "* For example, $omens_{126} = 28,196,917,171$\n",
    "* `asciiToInt('omens')` = -1,867,853,901\n",
    "\n",
    "Overflow can result in **collisions**,"
   ]
  },
  {
   "cell_type": "code",
   "execution_count": null,
   "metadata": {},
   "outputs": [],
   "source": [
    "public void moo(){\n",
    "    DataIndexedStringSet disi = new DataIndexedStringSet();\n",
    "    disi.add(\"melt banana\");\n",
    "    disi.contains(\"subterrestrial anticosmetic\"); // Returns True!\n",
    "    // asciiToInt for both the strings above is 839099397\n",
    "}"
   ]
  },
  {
   "cell_type": "markdown",
   "metadata": {},
   "source": [
    " "
   ]
  },
  {
   "cell_type": "markdown",
   "metadata": {},
   "source": [
    "## Hash Codes and the Pigeonhole Principle\n",
    "\n",
    "The official term for the number we're computing is called `hash code`\n",
    "* Wolfram Alpha definition: a hash code \"projects a value \n",
    "    * From a set with many (or even an infinite number of) members \n",
    "    * To a value from a set with a fixed number of (fewer) members\n",
    "* In our case, our target set is the set of Java integers, which is of the size 4294967296\n",
    "\n",
    "`Pigeonhole principle` tells us that if there are more than 4294967296 possible items, multiple items will share the same hash code.\n",
    "* There are more than 4294967296 planets\n",
    "    * Each has `mass`, `xPos`, `yPos`, `xVel`, `yVel`, `imgName`\n",
    "* There are more than 4294967296 strings\n",
    "    * \"one, \"two\", ..., \"nineteen quadrillion\"..\n",
    "    \n",
    "**Bottom line: Collisions are inevitable**"
   ]
  },
  {
   "cell_type": "markdown",
   "metadata": {},
   "source": [
    "## 2 Fundamental Challenges\n",
    "\n",
    "How do we resolve hashCode collisions (\"melt banana\" vs. \"subterranean anticosmetic\")?\n",
    "* We call this **collision handling**.\n",
    "\n",
    "How do we compute a hash code for arbitrary objects?\n",
    "* We'll call this **computing a hashCode**\n",
    "    * Example: our hashCode for \"melt banana\" was 839099497\n",
    "* For Strings, this was relatively straightforward (treat as a base 27 or base 126 or base 40959 number)."
   ]
  }
 ],
 "metadata": {
  "kernelspec": {
   "display_name": "Python 3",
   "language": "python",
   "name": "python3"
  },
  "language_info": {
   "codemirror_mode": {
    "name": "ipython",
    "version": 3
   },
   "file_extension": ".py",
   "mimetype": "text/x-python",
   "name": "python",
   "nbconvert_exporter": "python",
   "pygments_lexer": "ipython3",
   "version": "3.7.4"
  }
 },
 "nbformat": 4,
 "nbformat_minor": 2
}
