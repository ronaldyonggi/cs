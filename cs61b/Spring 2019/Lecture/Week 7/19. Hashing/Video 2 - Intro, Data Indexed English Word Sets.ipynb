{
 "cells": [
  {
   "cell_type": "markdown",
   "metadata": {},
   "source": [
    "# DataIndexedEnglishWordSet"
   ]
  },
  {
   "cell_type": "markdown",
   "metadata": {},
   "source": [
    "## Generalizing the DataIndexedIntegerSet Idea\n",
    "\n",
    "Ideally, we want a data indexed set that can store any types. For starters, let's start with storing Strings.\n",
    "\n",
    "Suppose we want to add `cat`. The key questions:\n",
    "* What's the `cat`th element of a list?\n",
    "* An idea: use the first letter of the word as an index\n",
    "    * `a` = 1, `b` = 2, `c` = 3, ..., `z` = 26\n",
    "    \n",
    "The problem with this approach:\n",
    "* There are other words that start with the same letters\n",
    "    * `cat` and `chupacabra` collides each other\n",
    "* Can't store string that starts with symbols\n",
    "    * e.g. can't store `\"=98yaesfsad\"`"
   ]
  },
  {
   "cell_type": "markdown",
   "metadata": {},
   "source": [
    "## Avoiding Collisions"
   ]
  },
  {
   "cell_type": "markdown",
   "metadata": {},
   "source": [
    "Use all digits by multiplying each by a power of 27.\n",
    "* `a=1`, `b=2`, `c=3`, ..., `z=26`\n",
    "* Thus the index for `\"cat\"` is:\n",
    "    * `c = 3`\n",
    "    * `a = 1`\n",
    "    * `t = 20`\n",
    "\n",
    "$$ (3 \\times 27^2) + (1 \\times 27^1) + (20 \\times 27^0)  = 2234$$\n",
    "\n",
    "![](images/cat.png)\n",
    "\n",
    "Notice the strange pattern of powers (2, 1, 0). Why this specific pattern?"
   ]
  },
  {
   "cell_type": "markdown",
   "metadata": {},
   "source": [
    "## The Decimal Number System vs. Our System for Strings\n",
    "\n",
    "In the decimal number system, we have 10 digits: `0, 1, 2, 3, 4, 5, 6, 7, 8, 9`. If want numbers larger than 9, we use a sequence of digits. For example, `7091` in base `10`:\n",
    "\n",
    "$$ 7091_{10} = (7 \\times 10^3) + (0 \\times 10^2) + (9 \\times 10^1) + (1 \\times 10^0) $$\n",
    "\n",
    "Our technique of converting strings to numbers is similar to this approach."
   ]
  },
  {
   "cell_type": "markdown",
   "metadata": {},
   "source": [
    "## Test Understanding\n",
    "\n",
    "If we convert the word `bee` into a number using the `powers of 27` technique (recall `b = 2` and `e = 5`),\n",
    "\n",
    "$$ (2 \\times 27^2) + ( 5 \\times 27^1) + ( 5 \\times 27^0) = 1598_{10} $$"
   ]
  },
  {
   "cell_type": "markdown",
   "metadata": {},
   "source": [
    "## Uniqueness\n",
    "\n",
    "As long as we pick a base $\\ge$ 26, this algorithm is guaranteed to give each lowercase English word a unique number. For example with `bee` with a base of `27`, no other words will get the number 1598. \n",
    "\n",
    "In other words, it's guaranteed that we'll never have a collision."
   ]
  },
  {
   "cell_type": "markdown",
   "metadata": {},
   "source": []
  }
 ],
 "metadata": {
  "kernelspec": {
   "display_name": "Python 3",
   "language": "python",
   "name": "python3"
  },
  "language_info": {
   "codemirror_mode": {
    "name": "ipython",
    "version": 3
   },
   "file_extension": ".py",
   "mimetype": "text/x-python",
   "name": "python",
   "nbconvert_exporter": "python",
   "pygments_lexer": "ipython3",
   "version": "3.7.4"
  }
 },
 "nbformat": 4,
 "nbformat_minor": 2
}
