{
 "cells": [
  {
   "cell_type": "markdown",
   "metadata": {},
   "source": [
    "# Hash Tables in Java"
   ]
  },
  {
   "cell_type": "markdown",
   "metadata": {},
   "source": [
    "## The Ubiquity of Hash Tables\n",
    "\n",
    "Has tables are the most popular implementation for sets and maps\n",
    "* Great performance in practice\n",
    "* Don't require items to be comparable\n",
    "* Implementations often relatively simple\n",
    "    * e.g. in comparison to red black trees\n",
    "* Python dictionaries are just hash tables in disguise\n",
    "\n",
    "In Java, hash tables are implemented as `java.util.HashMap` and `java.util.HashSet`\n",
    "* How does a `HashMap` know how to compute each object's hash code\n",
    "    * Good news: It's not `implements Hashable`\n",
    "    * Instead, all objects in Java must implement a `.hashCode()` method"
   ]
  },
  {
   "cell_type": "markdown",
   "metadata": {},
   "source": [
    "## Objects\n",
    "\n",
    "Recall in Java that all classes are hyponyms of `Object`.\n",
    "\n",
    "![](images/objects.png)\n",
    "\n",
    "The default `hashCode()` method simply returns the memory address of the object!"
   ]
  },
  {
   "cell_type": "markdown",
   "metadata": {},
   "source": [
    "## Examples of Real Java HashCodes\n",
    "\n",
    "Strings in Java override hashCode, doing something like what we've done previously.\n",
    "\n",
    "![](images/real.png)"
   ]
  },
  {
   "cell_type": "markdown",
   "metadata": {},
   "source": [
    "## Using Negative Hash Codes in Java\n",
    "\n",
    "![](images/apple.png)\n",
    "\n",
    "If we try to use modulus `%` to determine which bucket to put this apple,\n",
    "* `-1 % 4 = -1`. This index is invalid!\n",
    "* Instead, we use `Math.floorMod`\n",
    "    * Gives out the natural modulus"
   ]
  },
  {
   "cell_type": "code",
   "execution_count": null,
   "metadata": {},
   "outputs": [],
   "source": [
    "public class ModTest {\n",
    "    public static void main(String[] args) {\n",
    "        System.out.println(-1 % 4);\n",
    "        System.out.println(Math.floorMod(-1, 4));\n",
    "    }\n",
    "}\n",
    "\n",
    "// Outputs\n",
    "-1\n",
    "3"
   ]
  },
  {
   "cell_type": "markdown",
   "metadata": {},
   "source": [
    "## Hash Tables in Java\n",
    "\n",
    "Data is converted by the **hasCode** method an integer representation called a **hashcode**.\n",
    "\n",
    "The **hash code** is then reduced to a valid index using some `floorMod` function (e.g. `Math.floorMod`).\n",
    "\n",
    "![](images/reduce.png)"
   ]
  },
  {
   "cell_type": "markdown",
   "metadata": {},
   "source": [
    "## 2 Important Warnings When Using HashMaps / HashSets\n",
    "\n",
    "Warning #1: Never store objects that can change state in a `HashSet` or `HashMap` (e.g. a set of list)\n",
    "* If an object's variables changes, then its hashCode changes\n",
    "    * May result in items getting lost\n",
    "    \n",
    "Warning #2: Never override `equals` without also overriding `hashCode`\n",
    "* Can also lead to items getting lost and weird behaviors\n",
    "* `HashMaps` and `HashSets` use `equals` to determine if an item exists in a particular bucket\n"
   ]
  },
  {
   "cell_type": "code",
   "execution_count": null,
   "metadata": {},
   "outputs": [],
   "source": []
  }
 ],
 "metadata": {
  "kernelspec": {
   "display_name": "Python 3",
   "language": "python",
   "name": "python3"
  },
  "language_info": {
   "codemirror_mode": {
    "name": "ipython",
    "version": 3
   },
   "file_extension": ".py",
   "mimetype": "text/x-python",
   "name": "python",
   "nbconvert_exporter": "python",
   "pygments_lexer": "ipython3",
   "version": "3.7.4"
  }
 },
 "nbformat": 4,
 "nbformat_minor": 2
}
