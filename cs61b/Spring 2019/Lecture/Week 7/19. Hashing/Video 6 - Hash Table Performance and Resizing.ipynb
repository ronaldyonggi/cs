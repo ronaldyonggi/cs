{
 "cells": [
  {
   "cell_type": "markdown",
   "metadata": {},
   "source": [
    "# Hash Table Performance"
   ]
  },
  {
   "cell_type": "markdown",
   "metadata": {},
   "source": [
    "## Hash Table Runtime\n",
    "\n",
    "| Worst Case Runtime | `contains(x)` | `add(x)` | \n",
    "| --- | --- | --- |\n",
    "| Bushy BSTs | $\\Theta(log N)$ | $\\Theta(log N)$ |\n",
    "| DataIndexedArray | $\\Theta(1)$ | $\\Theta(1)$|\n",
    "| Separate Chaining Data Indexed Array | $\\Theta(Q)$ | $\\Theta(Q)$ |\n",
    "\n",
    "`Q` = length of longest list\n",
    "\n",
    "Good news: We use way less memory and can now handle arbitrary data\n",
    "\n",
    "Bad news: Worst case runtime is now $\\Theta(Q)$, where $Q$ is the length of the longest list\n",
    "\n",
    "![](images/bad.png)\n",
    "\n",
    "For the hash table above with 5 buckets, what's the order of growth of $Q$ with respect to $N$?\n",
    "\n",
    "1. $\\Theta(1)$\n",
    "2. $\\Theta(log N)$\n",
    "3. $\\Theta(N)$\n",
    "4. $\\Theta(N log N)$\n",
    "5. $\\Theta(N^2)$\n",
    "\n",
    "**Ans**: 3. $\\Theta(N)$\n",
    "\n",
    "In the best case (all items are evenly distributed), the longest list will be $\\frac{N}{5}$\n",
    "\n",
    "In the worst case (all items in the same list), the longest list will be $N$\n",
    "\n",
    "In both cases, $Q(N)$ is $\\Theta(N)$"
   ]
  },
  {
   "cell_type": "markdown",
   "metadata": {},
   "source": [
    "## Improving the Hash Table\n",
    "\n",
    "Suppose we have:\n",
    "* A fixed number of buckets `M`\n",
    "* An increasing numbers of items `N`\n",
    "\n",
    "Major problem: even if items are spread out evenly, lists are of length $Q = \\frac{N}{M}$\n",
    "* For `M = 5`, this means $Q = \\Theta(N)$\n",
    "    * Linear time operations\n",
    "* How can we improve our design to guarantee that $\\frac{N}{M}$ is $\\Theta(1)$\n",
    "\n",
    "##### Potential Solution: An increasing number of buckets `M`\n",
    "\n",
    "As long as $M = \\Theta(N)$, then $O(\\frac{N}{M}) = O(1)$\n",
    "\n",
    "Example strategy: when $\\frac{N}{M} \\ge 1.5$, double `M`\n",
    "* We often call this process `resizing`\n",
    "* $\\frac{N}{M}$ is often called the `load factor`. It represents how full the hash table is"
   ]
  },
  {
   "cell_type": "markdown",
   "metadata": {},
   "source": [
    "## Hash Table Resizing Example\n",
    "\n",
    "When $\\frac{N}{M} \\ge 1.5$, double `M`\n",
    "\n",
    "We start with,\n",
    "\n",
    "![](images/ex1.png)\n",
    "\n",
    "Then we add an apple with `hashCode = 7`. \n",
    "* `7 % 4 = 3`\n",
    "\n",
    "![](images/ex2.png)\n",
    "\n",
    "Then we add an axe with `hasCode 16`\n",
    "* `16 % 4 = 0`\n",
    "\n",
    "![](images/ex3.png)\n",
    "\n",
    "Then we add a few more stuff until `N/M` is too large!\n",
    "\n",
    "![](images/ex4.png)\n",
    "\n",
    "It's time to double `M`. When doubling, we take the modulus `%` of every item and reassign them to new buckets corresponding to the modulus result.\n",
    "\n",
    "![](images/new.png)"
   ]
  },
  {
   "cell_type": "markdown",
   "metadata": {},
   "source": [
    "## Resizing Hash Table Runtime\n",
    "\n",
    "As long as we ensure that the number of buckets `M` grow linearly (as long as `M` = $\\Theta(N)$, $O(N/M) = O(1)$.\n",
    "\n",
    "Assuming items are evenly distributed, lists will be approximately N/M items long, resulting in $\\Theta(N/M)$ runtimes.\n",
    "* The doubling strategy ensures that $N/M = O(1)$\n",
    "* Thus, worst case runtime for all operations is $\\Theta(N/M) = \\Theta(1)$\n",
    "    * unless that operation causes a **resize**\n",
    "    \n",
    "One important thing to consider is the cost of the **resize** operation.\n",
    "* Resizing takes $\\Theta(N)$ time. We have to redistribute all items!\n",
    "* Most `add` operations will be $\\Theta(1)$\n",
    "    * Some will be $\\Theta(N)$ time (to resize)\n",
    "    * Similar to `ALists`, as long as we resize by a multiplicative factor, the average runtime will still be $\\Theta(1)$."
   ]
  },
  {
   "cell_type": "markdown",
   "metadata": {},
   "source": [
    "## Hash Table Runtime\n",
    "\n",
    "![](images/summ.png)\n",
    "\n",
    "**Note**: This is assuming items are evenly distributed.\n",
    "* Suppose all the items ended up in the same bucket, the runtime would be different\n",
    "* We denote `\"* on average\"` since some of them can cause a resize"
   ]
  },
  {
   "cell_type": "markdown",
   "metadata": {},
   "source": [
    "## Regarding Even Distribution\n",
    "\n",
    "Even distribution of item is critical for good hash table performance.\n",
    "\n",
    "![](images/even.png)\n",
    "\n",
    "Both tables above have a load factor of `N/M = 1`, but the left table is much worse!\n",
    "* `contains(x)` for the left table is $\\Theta(N)$"
   ]
  },
  {
   "cell_type": "markdown",
   "metadata": {},
   "source": []
  }
 ],
 "metadata": {
  "kernelspec": {
   "display_name": "Python 3",
   "language": "python",
   "name": "python3"
  },
  "language_info": {
   "codemirror_mode": {
    "name": "ipython",
    "version": 3
   },
   "file_extension": ".py",
   "mimetype": "text/x-python",
   "name": "python",
   "nbconvert_exporter": "python",
   "pygments_lexer": "ipython3",
   "version": "3.7.4"
  }
 },
 "nbformat": 4,
 "nbformat_minor": 2
}
