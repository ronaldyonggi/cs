{
 "cells": [
  {
   "cell_type": "markdown",
   "metadata": {},
   "source": [
    "# Binary Search Trees"
   ]
  },
  {
   "cell_type": "markdown",
   "metadata": {},
   "source": [
    "## Analysis of an `OrderedLinkedListSet<Character>`"
   ]
  },
  {
   "cell_type": "markdown",
   "metadata": {},
   "source": [
    "In an earlier lecture, we implemented a set based on unordered arrays. For the ordered linked list set implementation below, name an operation that takes worst case linear time (e.g. $\\Theta(N)$)\n",
    "\n",
    "![](images/ordered)\n",
    "\n",
    "**Ans**: `contains` and `add`"
   ]
  },
  {
   "cell_type": "markdown",
   "metadata": {},
   "source": [
    "## Optimization: Extra Links"
   ]
  },
  {
   "cell_type": "markdown",
   "metadata": {},
   "source": [
    "Fundamental Problem: slow search even though the elements are in order. Possible solutions:\n",
    "* Add random express lanes\n",
    "    * This is called `skip list` (won't be discussed in 61B)\n",
    "\n",
    "For example, we can have A to have an extra link/pointer to D, B to G, \n",
    "\n",
    "![](images/skip.png)"
   ]
  },
  {
   "cell_type": "markdown",
   "metadata": {},
   "source": [
    "## Optimization: Change the Entry Point, Flip Links"
   ]
  },
  {
   "cell_type": "markdown",
   "metadata": {},
   "source": [
    "Move pointer to the middle element and flip the links that are left to that element. This will half the search time!\n",
    "\n",
    "![](images/mid.png)\n",
    "\n",
    "For example, if we are looking for G,\n",
    "* We start with the middle element\n",
    "* Then we know right away that we look to the right, not to the left\n",
    "\n",
    "This is a good start, but can we do better?"
   ]
  },
  {
   "cell_type": "markdown",
   "metadata": {},
   "source": [
    "## Optimization: Change Entry Point, Flip Links, Allow Big Jumps"
   ]
  },
  {
   "cell_type": "markdown",
   "metadata": {},
   "source": [
    "From the middle element, we can have the pointer point to the middle of the left and the right!"
   ]
  },
  {
   "cell_type": "markdown",
   "metadata": {},
   "source": [
    "![](images/jump.png)"
   ]
  },
  {
   "cell_type": "markdown",
   "metadata": {},
   "source": [
    "This optimization is actually the Binary Search Tree!\n",
    "\n",
    "![](images/bst.png)"
   ]
  },
  {
   "cell_type": "code",
   "execution_count": null,
   "metadata": {},
   "outputs": [],
   "source": []
  }
 ],
 "metadata": {
  "kernelspec": {
   "display_name": "Python 3",
   "language": "python",
   "name": "python3"
  },
  "language_info": {
   "codemirror_mode": {
    "name": "ipython",
    "version": 3
   },
   "file_extension": ".py",
   "mimetype": "text/x-python",
   "name": "python",
   "nbconvert_exporter": "python",
   "pygments_lexer": "ipython3",
   "version": "3.7.5"
  }
 },
 "nbformat": 4,
 "nbformat_minor": 4
}
