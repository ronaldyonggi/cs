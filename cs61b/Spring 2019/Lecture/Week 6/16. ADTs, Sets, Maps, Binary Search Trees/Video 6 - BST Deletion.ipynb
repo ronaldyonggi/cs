{
 "cells": [
  {
   "cell_type": "markdown",
   "metadata": {},
   "source": [
    "# BST Operations: Delete"
   ]
  },
  {
   "cell_type": "markdown",
   "metadata": {},
   "source": [
    "## Deleting from BST\n",
    "\n",
    "3 Cases: The deletion key (the key we want to delete) has...\n",
    "* ...no children\n",
    "* ...one child\n",
    "* ...two children"
   ]
  },
  {
   "cell_type": "markdown",
   "metadata": {},
   "source": [
    "## Case 1: Deleting from a BST: Key with no Children\n",
    "\n",
    "![](images/elf.png)\n",
    "\n",
    "Let's say we want to delete `\"glut\"`.\n",
    "\n",
    "* Simply sever the parent's link\n",
    "* The the `\"glut\"` will be collected by the gargabe collector\n",
    "\n",
    "![](images/glut)"
   ]
  },
  {
   "cell_type": "markdown",
   "metadata": {},
   "source": [
    "## Case 2: Deleting from a BST: Key with one Child\n",
    "\n",
    "For example, we want to delete `\"flat\"`.\n",
    "\n",
    "While doing the deletion operations, we still want to maintain the BST property (left child is smaller, right child is greater than parent).\n",
    "* `\"flat\"`'s child, `\"elf\"` is definitely larger than `\"dog\"`\n",
    "    * So it's safe to just move `\"elf\"`'s spot into `\"flat\"`'s spot\n",
    "* Thus, move `\"flat\"`'s parent's pointer to `\"elf\"`\n",
    "    * `\"flat\"` will be garbage collected along with its instance variables (e.g. where it's pointing at).\n",
    "\n",
    "![](images/flat.png)"
   ]
  },
  {
   "cell_type": "markdown",
   "metadata": {},
   "source": [
    "## Case 3: Deleting from a BST - Deletion with 2 Children (Hibbard deletion)\n",
    "\n",
    "What if we want to delete `\"dog\"`?\n",
    "\n",
    "We need to replace `\"dog\"`, that is, we want to find a new root node.\n",
    "* Must be `>` than everything in the left subtree\n",
    "* Must be `<` than everything in the right subtree\n",
    "\n",
    "Would `\"bag\"` work? Would it be able to replace `\"dog\"`\n",
    "* No, because `\"cat\"` has nowhere to go!\n",
    "    * `\"cat\"` is greater than `\"bag\"`, but so is `\"flat\"` \n",
    "\n",
    "Choose either predecessor (`\"cat\"`) or successor (`\"elf\"`) \n",
    "* If we choose `\"cat\"`, then,\n",
    "    * Everything on the left is smaller than `\"cat\"`\n",
    "    * Everything on the right is greater than `\"cat\"`\n",
    "* Same goes for `\"elf\"`\n",
    "* Simply delete `\"dog\"` and replace it with either one\n",
    "\n",
    "Predecessor and successor can never have 2 children. It's either case 1 (no child) or 2 (one child).\n",
    "\n",
    "This strategy is sometimes known as `Hibbard deletion`.\n",
    "\n",
    "![](images/delete.png)"
   ]
  },
  {
   "cell_type": "markdown",
   "metadata": {},
   "source": [
    "## Challenge"
   ]
  },
  {
   "cell_type": "markdown",
   "metadata": {},
   "source": [
    "Try to delete `k`.\n",
    "\n",
    "![](images/k.png)\n",
    "\n",
    "Solutions: replace with either `g` or `m`.\n",
    "\n",
    "![](images/k2.png)"
   ]
  },
  {
   "cell_type": "code",
   "execution_count": null,
   "metadata": {},
   "outputs": [],
   "source": []
  }
 ],
 "metadata": {
  "kernelspec": {
   "display_name": "Python 3",
   "language": "python",
   "name": "python3"
  },
  "language_info": {
   "codemirror_mode": {
    "name": "ipython",
    "version": 3
   },
   "file_extension": ".py",
   "mimetype": "text/x-python",
   "name": "python",
   "nbconvert_exporter": "python",
   "pygments_lexer": "ipython3",
   "version": "3.7.5"
  }
 },
 "nbformat": 4,
 "nbformat_minor": 4
}
