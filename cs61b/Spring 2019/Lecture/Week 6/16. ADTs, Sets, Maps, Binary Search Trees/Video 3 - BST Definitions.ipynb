{
 "cells": [
  {
   "cell_type": "markdown",
   "metadata": {},
   "source": [
    "# BST Definitions"
   ]
  },
  {
   "cell_type": "markdown",
   "metadata": {},
   "source": [
    "## Tree"
   ]
  },
  {
   "cell_type": "markdown",
   "metadata": {},
   "source": [
    "A tree consists of:\n",
    "* A set of nodes\n",
    "* A set of edges that connect those nodes\n",
    "    * There has to be EXACTLY one path between any 2 nodes.\n",
    "    \n",
    "![](images/tree.png)"
   ]
  },
  {
   "cell_type": "markdown",
   "metadata": {},
   "source": [
    "## Rooted Trees and Rooted Binary Trees"
   ]
  },
  {
   "cell_type": "markdown",
   "metadata": {},
   "source": [
    "In a rooted tree, we call the top most node the `root`.\n",
    "\n",
    "* Every node has exactly one parent\n",
    "* The root is depicted at the top of the tree, opposite to real trees\n",
    "* A node without any child is called a leaf\n",
    "* In a rooted binary tree, every node has either 0, 1, or 2 children (subtrees)\n",
    "\n",
    "![](images/root.png)"
   ]
  },
  {
   "cell_type": "markdown",
   "metadata": {},
   "source": [
    "## Binary Search Trees"
   ]
  },
  {
   "cell_type": "markdown",
   "metadata": {},
   "source": [
    "A binary search tree is a rooted binary tree with the BST property. The BST property is as the following:\n",
    "\n",
    "For every node `x` in the tree,\n",
    "* Every key in the **left** subtree is **less** than `x`'s key\n",
    "* Every key in the **right** subtree is **greater** than `x`'s key\n",
    "\n",
    "![](images/dog.png)\n",
    "\n",
    "Ordering must be complete, transitive, and antisymmetric. Given keys `p` and `q`,\n",
    "* Exactly one of $p < q$ and $q < p$ are true\n",
    "    * It can't be the case that both are true, or neither are true\n",
    "* $p < q$ and $q < r$ imply $p < r$\n",
    "\n",
    "One consequence of these rules: **No duplicate keys allowed!**\n",
    "* Keep things simple. Most real world implementations follow this rule"
   ]
  },
  {
   "cell_type": "code",
   "execution_count": null,
   "metadata": {},
   "outputs": [],
   "source": []
  }
 ],
 "metadata": {
  "kernelspec": {
   "display_name": "Python 3",
   "language": "python",
   "name": "python3"
  },
  "language_info": {
   "codemirror_mode": {
    "name": "ipython",
    "version": 3
   },
   "file_extension": ".py",
   "mimetype": "text/x-python",
   "name": "python",
   "nbconvert_exporter": "python",
   "pygments_lexer": "ipython3",
   "version": "3.7.5"
  }
 },
 "nbformat": 4,
 "nbformat_minor": 4
}
