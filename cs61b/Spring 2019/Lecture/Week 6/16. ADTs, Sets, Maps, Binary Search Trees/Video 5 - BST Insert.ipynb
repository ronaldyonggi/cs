{
 "cells": [
  {
   "cell_type": "markdown",
   "metadata": {},
   "source": [
    "# BST Operations: Insert"
   ]
  },
  {
   "cell_type": "markdown",
   "metadata": {},
   "source": [
    "## Inserting a New Key Into a BST\n",
    "\n",
    "Search for key.\n",
    "* If found, do nothing\n",
    "* If not found:\n",
    "    * Create a new node\n",
    "    * Set appropriate link\n",
    "    \n",
    "For example, \n",
    "\n",
    "![](images/elf.png)\n",
    "\n",
    "If we want to insert `\"eyes\"`,\n",
    "* We look at `dog`. `eyes` is greater than `dog`, so go to the right\n",
    "* We look at `flat`. `eyes` is less than `flat`, so go to the left\n",
    "* We look at `elf`. `eyes` is greater than `elf`, but `elf` is a leaf.\n",
    "    * Insert `eyes` to the right of `elf`.\n",
    "    \n",
    "![](images/eyes)"
   ]
  },
  {
   "cell_type": "markdown",
   "metadata": {},
   "source": [
    "The pseudocode looks like the following,"
   ]
  },
  {
   "cell_type": "code",
   "execution_count": null,
   "metadata": {},
   "outputs": [],
   "source": [
    "static BST insert(BST T, Key ik) { // ik is insertion key\n",
    "    // If the tree is null, then we create a new BST \n",
    "    if (T == null) return new BST(ik);\n",
    "    if (ik < T.key) T.left = insert(T.left, ik)\n",
    "    else if (ik > T.key) T.right = insert(T.right, ik);\n",
    "    return T; // If the ik equals to T, then return that T\n",
    "}"
   ]
  },
  {
   "cell_type": "markdown",
   "metadata": {},
   "source": [
    "Note that we might be tempted to implement it as the following,"
   ]
  },
  {
   "cell_type": "code",
   "execution_count": null,
   "metadata": {},
   "outputs": [],
   "source": [
    "if (T.left == null) T.left = new BST(ik);\n",
    "else if (T.right == null) T.right = new BST(ik);"
   ]
  },
  {
   "cell_type": "markdown",
   "metadata": {},
   "source": [
    "However, the implementation above doesn't look as clean and creates complicated cases. This implementation is also called `arms length recursion`. \n",
    "* We're not trusting the recursion to do its job\n",
    "* This is a bad habit! Try to avoid this implementation!"
   ]
  }
 ],
 "metadata": {
  "kernelspec": {
   "display_name": "Python 3",
   "language": "python",
   "name": "python3"
  },
  "language_info": {
   "codemirror_mode": {
    "name": "ipython",
    "version": 3
   },
   "file_extension": ".py",
   "mimetype": "text/x-python",
   "name": "python",
   "nbconvert_exporter": "python",
   "pygments_lexer": "ipython3",
   "version": "3.7.5"
  }
 },
 "nbformat": 4,
 "nbformat_minor": 4
}
