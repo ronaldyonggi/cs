{
 "cells": [
  {
   "cell_type": "markdown",
   "metadata": {},
   "source": [
    "## Binary Search (Exact Count)"
   ]
  },
  {
   "cell_type": "markdown",
   "metadata": {},
   "source": [
    "The intuitive approach from the previous video is sufficient, but this time we'll try to solve by counting the exact count.\n",
    "\n",
    "Goal: Find worst case runtime in terms of `N` = `hi` - `lo` + 1 [e.g. # of items]\n",
    "\n",
    "Cost model: Number of `binarySearch` calls\n",
    "\n",
    "For $N = 6$, how many `binarySearch` calls will be called, `C(6)`?\n",
    "\n",
    "**Answer**: 3.\n",
    "\n",
    "![](images/exact.png)\n",
    "\n",
    "If we analyze how the cost model increases for increasing `N`, \n",
    "\n",
    "![](images/analyze1.png)\n",
    "\n",
    "![](images/analyze2.png)\n",
    "\n",
    "![](images/analyze3.png)\n",
    "\n",
    "![](images/analyze4.png)\n",
    "\n",
    "As `N` increases by the power of 2, we increase the work by 1 (e.g. `N` = 1, 2, 4, 8)\n",
    "\n",
    "We can simplify our analysis and call it $log N$, but by careful inspection of the pattern the exact count of `binarySearch` calls as a function of `N` is actually \n",
    "$$ C(N) = \\lfloor log_2 N \\rfloor +1 $$\n",
    "\n",
    "### What's the overall runtime?\n",
    "\n",
    "Since each `binarySearch` call takes a constant time, the overall runtime is the same as the overall number of `binarySearch` calls, $\\Theta(\\lfloor log_2 N \\rfloor)$. We don't need the $+1$ term since it will be insignificant for larget number of `N`.\n",
    "\n",
    "This function looks complicated! Let's simplify it."
   ]
  },
  {
   "cell_type": "markdown",
   "metadata": {},
   "source": [
    "## Handy Big Theta Properties"
   ]
  },
  {
   "cell_type": "markdown",
   "metadata": {},
   "source": [
    "Goal: Simplifly $\\Theta(\\lfloor log_2 N \\rfloor)$\n",
    "\n",
    "3 handy properties to help us simplify:\n",
    "* $\\lfloor f(N) \\rfloor = \\Theta(f(N))$\n",
    "    * The floor of `f` has same order of growth as `f`\n",
    "* $\\lceil f(N) \\rceil = \\Theta(f(N))$\n",
    "    * The ceiling of `f` has same order of growth as `f`\n",
    "* $log_P N = \\Theta(log_Q N)$\n",
    "    * Logarithm base doesn't affect order of growth\n",
    "\n",
    "Thus we have,\n",
    "\n",
    "$$\\lfloor log_2 N \\rfloor = \\Theta(log N)$$\n",
    "\n",
    "Since base is irrelevant, we can omit it from the big theta expression.\n",
    "\n",
    "Thus we have,\n",
    "\n",
    "$$ C(N) = \\lfloor log_2 N \\rfloor +1 = \\Theta(log N)$$\n",
    "\n",
    "and for (R)untime,\n",
    "\n",
    "$$ R(N) = \\Theta(log N) $$"
   ]
  },
  {
   "cell_type": "markdown",
   "metadata": {},
   "source": [
    "## Binary Search (using Recurrence Relations)"
   ]
  },
  {
   "cell_type": "markdown",
   "metadata": {},
   "source": [
    "We also have the recurrence relations approach! We measure the number of string comparisons for `N` = `hi` - `lo` + 1.\n",
    "\n",
    "* $C(0) = 0$\n",
    "* $C(1) = 1$\n",
    "* $C(N) = 1 + C(\\frac{N-1}{2})$\n",
    "\n",
    "We can show that $C(N) = \\Theta(log N)$. However, this is beyond the scope of 61B."
   ]
  },
  {
   "cell_type": "markdown",
   "metadata": {},
   "source": [
    "## $log$ Time is Incredibly Fast"
   ]
  },
  {
   "cell_type": "markdown",
   "metadata": {},
   "source": [
    "In practice, logarithmic time algorithms have almost constant runtimes. Even for incredibly huge datasets, logarithmic time algorithms are practically equivalent to constant time.\n",
    "\n",
    "| `N` | $log_2 N$ | Typical Runtime (seconds)|\n",
    "| --- | --- | --- |\n",
    "| 100 | 6.6 | 1 nanosecond|\n",
    "| 100,000 | 16.6 | 2.5 nanoseconds|\n",
    "| 100,000,000 | 26.5 | 4 nanoseconds |\n",
    "| 100,000,000,000 | 36.5 | 5.5 nanoseconds |\n",
    "| 100,000,000,000,000 | 46.5 | 7 nanoseconds |"
   ]
  },
  {
   "cell_type": "code",
   "execution_count": null,
   "metadata": {},
   "outputs": [],
   "source": []
  }
 ],
 "metadata": {
  "kernelspec": {
   "display_name": "Python 3",
   "language": "python",
   "name": "python3"
  },
  "language_info": {
   "codemirror_mode": {
    "name": "ipython",
    "version": 3
   },
   "file_extension": ".py",
   "mimetype": "text/x-python",
   "name": "python",
   "nbconvert_exporter": "python",
   "pygments_lexer": "ipython3",
   "version": "3.7.4"
  }
 },
 "nbformat": 4,
 "nbformat_minor": 2
}
