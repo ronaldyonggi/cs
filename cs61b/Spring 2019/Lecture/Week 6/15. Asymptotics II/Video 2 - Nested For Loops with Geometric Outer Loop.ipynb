{
 "cells": [
  {
   "cell_type": "markdown",
   "metadata": {},
   "source": [
    "## Loops Example 2"
   ]
  },
  {
   "cell_type": "markdown",
   "metadata": {},
   "source": [
    "Find a simple `f(N)` such that the runtime $R(N) \\in \\Theta(f(N))$. By simple, we mean there should be no unnecessary multiplicative constants or additive terms.\n",
    "\n",
    "Note that there's only one case for this code, therefore there's no distinction between \"worst case\" and otherwise."
   ]
  },
  {
   "cell_type": "code",
   "execution_count": null,
   "metadata": {},
   "outputs": [],
   "source": [
    "public static void printParty(int N) {\n",
    "    for (int i = 1; i <= N; i = i * 2) {\n",
    "        for (int j = 0; j < i; j += 1) {\n",
    "            System.out.println(\"hello\");\n",
    "            int ZUG = 1 + 1;\n",
    "        }\n",
    "    }\n",
    "}"
   ]
  },
  {
   "cell_type": "markdown",
   "metadata": {},
   "source": [
    "To answer this question, we'll do 2 diagrams: the 2D grids and the Cost Model $C(N)$ grid. The cost model grid shows how many times in total \"hello\" was printed.\n",
    "![](images/hellogrid.png)\n",
    "\n",
    "![](images/cost1.png)"
   ]
  },
  {
   "cell_type": "markdown",
   "metadata": {},
   "source": [
    "When `N=1`, `i = 1`, `j` can only be 0, and we only get a single print statement.\n",
    "\n",
    "![](images/hellogrid1.png)\n",
    "\n",
    "![](images/cost2.png)"
   ]
  },
  {
   "cell_type": "markdown",
   "metadata": {},
   "source": [
    "When `N=2`, `i` can go up to 2 and `j` can go up to 1. This iteration prints \"hello\" twice. Adding this round's print statement with the previous round, we have a total of 3 print statements.\n",
    "\n",
    "![](images/hellogrid2.png)\n",
    "\n",
    "![](images/cost3.png)"
   ]
  },
  {
   "cell_type": "markdown",
   "metadata": {},
   "source": [
    "When `N=3` however, `i` can only go up to `2`, and thus there are no iterations done! The total number of print statements stays the same.\n",
    "\n",
    "![](images/cost4.png)"
   ]
  },
  {
   "cell_type": "markdown",
   "metadata": {},
   "source": [
    "When `N=4`, that's when the iteration is done again! `i` can go up to 4, and `j` can go up to 3. This iteration prints \"hello\" 4 times, and thus the total becomes 7.\n",
    "\n",
    "![](images/hellogrid3.png)\n",
    "\n",
    "![](images/cost5.png)"
   ]
  },
  {
   "cell_type": "markdown",
   "metadata": {},
   "source": [
    "Since `i` increments multiplicatively by 2, the next value of N where iteration is going be run again is when `N=8`. Thus, for `N` of 5 up to 7, no iteration is done.\n",
    "\n",
    "![](images/cost6.png)"
   ]
  },
  {
   "cell_type": "markdown",
   "metadata": {},
   "source": [
    "Repeating the same analysis for the upcoming values of `N`,\n",
    "\n",
    "![](images/cost7.png)"
   ]
  },
  {
   "cell_type": "markdown",
   "metadata": {},
   "source": [
    "Notice that the number of print statements we have is:\n",
    "$$C(N) = 1 + 2 + 4 + ... + N$$\n",
    "\n",
    "... if $N$ is a power of 2."
   ]
  },
  {
   "cell_type": "markdown",
   "metadata": {},
   "source": [
    "## Loops Example 2: Hint"
   ]
  },
  {
   "cell_type": "markdown",
   "metadata": {},
   "source": [
    "Previously, we have cost model table that shows the count for N up to 8. If we expand it and compare it with the counts when the $N$ is halved and doubled,\n",
    "\n",
    "|N|$C(N)$ | $0.5N, C(N)$ | $2N, C(N)$ |\n",
    "| --- | --- | --- | --- |\n",
    "| 4 | $ 1 + 2 + 4 = 7$| 2 | 14 |\n",
    "| 7 | $1 + 2 + 4 = 7$ | 3.5 | 14 |\n",
    "| 8 | $1 + 2 + 4 + 8 = 15$ | 4 | 16 |\n",
    "| 27 | $1 + 2 + 4 + 8 + 16 = 31$ | 13.5 | 54|\n",
    "|185 | $... + 64 + 128 = 255 $ | 92.5 | 370 |\n",
    "| 715 | $... + 256 + 512 = 1023$ | 357.5 | 1430|\n",
    "\n",
    "Notice that for $N$, the number of counts are always in between $0.5N$ and $2N$."
   ]
  },
  {
   "cell_type": "markdown",
   "metadata": {},
   "source": [
    "## Answer"
   ]
  },
  {
   "cell_type": "markdown",
   "metadata": {},
   "source": [
    "If we make a plot of the counts,\n",
    "\n",
    "![](images/plot.png)"
   ]
  },
  {
   "cell_type": "markdown",
   "metadata": {},
   "source": [
    "Notice that the counts (in red) are bounded by 2N (above) and 0.5 N (below).\n",
    "\n",
    "We can also try to compute exactly the solution. We can derive mathematicall that,\n",
    "\n",
    "$$ 1 + 2 + 4 + ... + N = 2N - 1$$\n",
    "\n",
    "For example, if `N = 8`, then\n",
    "* LHS: $ 1 + 2 + 4 + 8 = 15$\n",
    "* RHS: $ 2 \\times 8 - 1 = 15$"
   ]
  },
  {
   "cell_type": "code",
   "execution_count": null,
   "metadata": {},
   "outputs": [],
   "source": []
  }
 ],
 "metadata": {
  "kernelspec": {
   "display_name": "Python 3",
   "language": "python",
   "name": "python3"
  },
  "language_info": {
   "codemirror_mode": {
    "name": "ipython",
    "version": 3
   },
   "file_extension": ".py",
   "mimetype": "text/x-python",
   "name": "python",
   "nbconvert_exporter": "python",
   "pygments_lexer": "ipython3",
   "version": "3.7.4"
  }
 },
 "nbformat": 4,
 "nbformat_minor": 4
}
