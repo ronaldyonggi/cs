{
 "cells": [
  {
   "cell_type": "markdown",
   "metadata": {},
   "source": [
    "## Binary Search"
   ]
  },
  {
   "cell_type": "markdown",
   "metadata": {},
   "source": [
    "Finding a key in a **sorted** array. Compare key against the middle entry.\n",
    "* If too small, go left\n",
    "* If too big, go right\n",
    "* If it's equal, we find the element!"
   ]
  },
  {
   "cell_type": "markdown",
   "metadata": {},
   "source": [
    "### Demo 1 - Successful search for 33"
   ]
  },
  {
   "cell_type": "markdown",
   "metadata": {},
   "source": [
    "Imagine we're looking for `33` in the following array,\n",
    "\n",
    "![](images/33.png)\n",
    "\n",
    "First, figure out how many elements we want to include in the search (`N`). The formula for `N` is:\n",
    "$$ N = hi - lo + 1$$\n",
    "\n",
    "In this case,\n",
    "* `hi` = 14\n",
    "* `lo` = 0\n",
    "* `N` = 14 + 0 + 1 = 15\n",
    "\n",
    "The middle element is the index of half of `hi`, which is index `7`.\n",
    "\n",
    "![](images/search1.png)\n",
    "\n",
    "`33` is greater than the `mid`! Therefore we know that we don't need to look for the elements from index `mid` to the rest of the elements; we just need to look at the left of that.\n",
    "\n",
    "This time, we start with:\n",
    "* `hi` = 6\n",
    "* `lo` = 0\n",
    "* `mid` = 3\n",
    "* `N` = 6 + 0 + 1 = 7\n",
    "\n",
    "The `mid` this time, 25, is less than 33! Then we look to the right of 25.\n",
    "\n",
    "![](images/search2.png)\n",
    "\n",
    "* `hi` = 6\n",
    "* `lo` = 4\n",
    "* `N` = 6 - 4 + 1 = 3\n",
    "\n",
    "In the case `lo` is not index 0, it might be tricky to find the midpoint. In this case it's easy since we only have 3 elements. The `mid` is index `5`, 43, which is greater than 33.\n",
    "\n",
    "![](images/search3.png)\n",
    "\n",
    "This time, `lo` / `hi` / `mid` are referring to the same element since we only have one element left, 33! That's the element we're looking for!"
   ]
  },
  {
   "cell_type": "markdown",
   "metadata": {},
   "source": [
    "### Demo 2 - Unsuccessful search for 49"
   ]
  },
  {
   "cell_type": "markdown",
   "metadata": {},
   "source": [
    "This time, we are looking for 49 in the following array,\n",
    "\n",
    "![](images/badsearch.png)\n",
    "\n",
    "Notice that we have an odd number of `N`, 10. This means we don't have a `mid` element (the `mid` element supposedly on index `4.5`, which doesn't exist!). In this case, the `mid` would be the rounded down index, thus we pick index 4.\n",
    "\n",
    "49 is less than the mid! Therefore we pick the left side of the array.\n",
    "\n",
    "![](images/badsearch1.png)\n",
    "\n",
    "Once again, we don't have a valid `mid`. We round down `mid` so that `mid` is at index `1`, 20. 20 is greater than 49, so we pick the right side.\n",
    "\n",
    "![](images/badsearch2.png)\n",
    "\n",
    "This time we only have 2 elements left. We're rounding down, so we pick the left side as the `mid`: 30. 30 is still less than 49.\n",
    "\n",
    "![](images/badsearch3.png)\n",
    "\n",
    "Our only element left is not 49, thus we concluded that the element is not in the array!"
   ]
  },
  {
   "cell_type": "markdown",
   "metadata": {},
   "source": [
    "## Binary Search"
   ]
  },
  {
   "cell_type": "markdown",
   "metadata": {},
   "source": [
    "Below is the older version of Java implementation of binary search."
   ]
  },
  {
   "cell_type": "code",
   "execution_count": null,
   "metadata": {},
   "outputs": [],
   "source": [
    "static int binarySearch(String[] sorts, String x, int lo, int hi) {\n",
    "    if (lo > hi) return -1;\n",
    "    int m = (lo + hi) / 2;\n",
    "    int cmp = x.compareTo(sorted(m));\n",
    "    if (cmp < 0) return binarySearch(sorted, x, lo, m - 1);\n",
    "    else if (cmp > 0) return binarySearch(sorted, x, m+1, hi);\n",
    "    else return m;\n",
    "}"
   ]
  },
  {
   "cell_type": "markdown",
   "metadata": {},
   "source": [
    "The bug in this `binarySearch` implementation was discovered in 2006."
   ]
  },
  {
   "cell_type": "markdown",
   "metadata": {},
   "source": [
    "## Binary Search (Intuitive)"
   ]
  },
  {
   "cell_type": "markdown",
   "metadata": {},
   "source": [
    "Goal: find runtime in terms of `N` = `hi` - `lo` + 1\n",
    "\n",
    "Intuitively, what is the order of growth of the worst case runtime?\n",
    "\n",
    "1. $1$\n",
    "2. $log_2 N$\n",
    "3. $N$\n",
    "4. $N log_2 N$\n",
    "5. $2^N$\n",
    "\n",
    "**Ans**: $log_2 N$\n",
    "\n",
    "We are halving the problem size over and over until one element left.\n",
    "\n",
    "![](images/half.png)\n",
    "\n",
    "If `C` is the number of calls to `binarySearch`, we are solving for `C` in the following equation,\n",
    "\n",
    "$$ 1 = \\frac{N}{2^C}$$\n",
    "\n",
    "Using some algebra, we can solve for `C`,\n",
    "\n",
    "$$C = log_2 N$$"
   ]
  },
  {
   "cell_type": "code",
   "execution_count": null,
   "metadata": {},
   "outputs": [],
   "source": []
  },
  {
   "cell_type": "code",
   "execution_count": null,
   "metadata": {},
   "outputs": [],
   "source": []
  }
 ],
 "metadata": {
  "kernelspec": {
   "display_name": "Python 3",
   "language": "python",
   "name": "python3"
  },
  "language_info": {
   "codemirror_mode": {
    "name": "ipython",
    "version": 3
   },
   "file_extension": ".py",
   "mimetype": "text/x-python",
   "name": "python",
   "nbconvert_exporter": "python",
   "pygments_lexer": "ipython3",
   "version": "3.7.4"
  }
 },
 "nbformat": 4,
 "nbformat_minor": 2
}
