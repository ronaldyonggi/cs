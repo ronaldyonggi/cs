{
 "cells": [
  {
   "cell_type": "markdown",
   "metadata": {},
   "source": [
    "## Recursion (Intuitive)"
   ]
  },
  {
   "cell_type": "markdown",
   "metadata": {},
   "source": [
    "Find a simple $f(N)$ such that the runtime $R(N) \\in \\Theta(f(N))$."
   ]
  },
  {
   "cell_type": "code",
   "execution_count": null,
   "metadata": {},
   "outputs": [],
   "source": [
    "public static int f3(int n) {\n",
    "    if (n <= 1) {\n",
    "        return 1;\n",
    "    }\n",
    "    return f3(n-1) + f3(n-1);\n",
    "}"
   ]
  },
  {
   "cell_type": "markdown",
   "metadata": {},
   "source": [
    "Using our intuition, what is the order of growth of the runtime of this code as a function of $N$?\n",
    "\n",
    "1. 1\n",
    "2. $log N$\n",
    "3. $N$\n",
    "4. $N^2$\n",
    "5. $2^N$"
   ]
  },
  {
   "cell_type": "markdown",
   "metadata": {},
   "source": [
    "if we put in `n = 4`, this method will make a call on `3` twice, where each will call `2` twice, and so on. This forms a tree call. \n",
    "\n",
    "![](images/tree.png)"
   ]
  },
  {
   "cell_type": "markdown",
   "metadata": {},
   "source": [
    "Notice that if we increase $N$ by 1, we double the work!\n",
    "\n",
    "![](images/tree.png)\n",
    "\n",
    "Thus, the overall runtime is $2^N$!\n",
    "\n",
    "This is the intuitive approach. This time we'll do exact counting!"
   ]
  },
  {
   "cell_type": "markdown",
   "metadata": {},
   "source": [
    "## Recursion and Exact Counting"
   ]
  },
  {
   "cell_type": "markdown",
   "metadata": {},
   "source": [
    "Count the total number of calls to `f3`, given by $C(N)$\n",
    "* $C(1) = 1$\n",
    "* $C(2) = 1 + 2$\n",
    "* $C(3) = 1 + 2 + 4 $\n",
    "* $C(4) = 1 + 2 + 4 + 8 $\n",
    "* $C(N) = 1 + 2 + 4 + ... + ?$\n",
    "\n",
    "What is the final term of the sum?\n",
    "\n",
    "1. $N$\n",
    "2. $2^N$\n",
    "3. $2^N - 1$\n",
    "4. $2^{N-1}$\n",
    "5. $2^{N-1} - 1$\n",
    "\n",
    "Answer: $2 ^ {N-1}$\n",
    "\n",
    "Now that we have an expression, can we make a simple expression out of it?\n",
    "\n",
    "By looking at the results of $C(1)$, $C(2)$, $C(3)$, etc. we can obtain that $C(N)$ = $2^N - 1$"
   ]
  },
  {
   "cell_type": "markdown",
   "metadata": {},
   "source": [
    "## Recursion and Exact Counting, Solving for $C(N)$"
   ]
  },
  {
   "cell_type": "markdown",
   "metadata": {},
   "source": [
    "$C(N) = 1 + 2 + 4 + 8 + ... + 2^{N-1}$"
   ]
  },
  {
   "cell_type": "markdown",
   "metadata": {},
   "source": [
    "We know that the **Sum of the First Powers of 2** from before, e.g. as long as $Q$ is a power of 2, then:\n",
    "\n",
    "\n",
    "$$ 1 + 2 + 4 + 8 + ... + Q = 2Q-1$$\n",
    "\n",
    "Since $Q = 2^{N-1}$, we have:\n",
    "$$C(N) = 2Q - 1 = 2(2^{N-1}) - 1 = 2^N - 1 $$"
   ]
  },
  {
   "cell_type": "markdown",
   "metadata": {},
   "source": [
    "## Recursion and Exact Counting "
   ]
  },
  {
   "cell_type": "markdown",
   "metadata": {},
   "source": [
    "Since work duing each call is constant, the runtime is $\\Theta(2^N)$.\n",
    "\n",
    "Last but not least, there's the \"recurrence relation\" approach."
   ]
  },
  {
   "cell_type": "markdown",
   "metadata": {},
   "source": [
    "## Recursion and Recurrence Relations"
   ]
  },
  {
   "cell_type": "markdown",
   "metadata": {},
   "source": [
    "Count the number of calls to `f3` given by a \"recurrence relation\" for $C(N)$.\n",
    "\n",
    "* $C(1) = 1$\n",
    "* $C(2) = 1 + 2$\n",
    "\n",
    "This means $C(N)$ will be 2 $\\times$ lower level of $C$, plus one. In other words, \n",
    "\n",
    "$$C(N) = 2C(N-1) + 1 $$\n",
    "\n",
    "However, this is more technical to solve. We won't do this in our course."
   ]
  },
  {
   "cell_type": "code",
   "execution_count": null,
   "metadata": {},
   "outputs": [],
   "source": []
  }
 ],
 "metadata": {
  "kernelspec": {
   "display_name": "Python 3",
   "language": "python",
   "name": "python3"
  },
  "language_info": {
   "codemirror_mode": {
    "name": "ipython",
    "version": 3
   },
   "file_extension": ".py",
   "mimetype": "text/x-python",
   "name": "python",
   "nbconvert_exporter": "python",
   "pygments_lexer": "ipython3",
   "version": "3.7.4"
  }
 },
 "nbformat": 4,
 "nbformat_minor": 4
}
