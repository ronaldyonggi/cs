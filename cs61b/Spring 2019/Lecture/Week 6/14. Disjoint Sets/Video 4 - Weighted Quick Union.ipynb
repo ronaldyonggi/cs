{
 "cells": [
  {
   "cell_type": "markdown",
   "metadata": {},
   "source": [
    "## A Choice of 2 Roots"
   ]
  },
  {
   "cell_type": "markdown",
   "metadata": {},
   "source": [
    "Suppose we are trying to `connect(2, 5)`. We have 2 choices:\n",
    "\n",
    "![](images/choice.png)\n",
    "\n",
    "**Ans**: The first choice, because it results with a tree where the maximum height is 2\n",
    "* The other choice results with a tree where the maximum height is 3\n",
    "\n",
    "![](images/better.png)\n",
    "\n",
    "This problem inspires what we'll call **Weighted `QuickUnion`**"
   ]
  },
  {
   "cell_type": "markdown",
   "metadata": {},
   "source": [
    "## Weighted `QuickUnion`"
   ]
  },
  {
   "cell_type": "markdown",
   "metadata": {},
   "source": [
    "Weighted `QuickUnion` is a modified version of `QuickUnion` to avoid tall trees. \n",
    "\n",
    "* Track tree size (number of elements)\n",
    "* Always link root of **smaller** tree to **larger** tree\n",
    "\n",
    "If we call `connect(3, 8)`, which entry (or entries) of `parent[]` changes?\n",
    "\n",
    "![](images/weight.png)\n",
    "\n",
    "**Ans**: `parent[6]`\n",
    "\n",
    "We made this decision based on weight, not height."
   ]
  },
  {
   "cell_type": "markdown",
   "metadata": {},
   "source": [
    "## Implementing `WeightedQuickUnion`"
   ]
  },
  {
   "cell_type": "markdown",
   "metadata": {},
   "source": [
    "* Use `parent[]` array as before\n",
    "* `isConnected(int p, int q)` requires no changes\n",
    "* `connect(int p, int q)` needs to somehow keep track of sizes. 2 common approaches:\n",
    "\n",
    "##### Use values other than `-1` in `parent` array for root nodes to track size\n",
    "\n",
    "![](images/parentweight.png)\n",
    "\n",
    "##### Create a separate `size` array\n",
    "![](images/sizeweight.png)\n",
    "\n",
    "See the Disjoint Sets lab for the full details"
   ]
  },
  {
   "cell_type": "markdown",
   "metadata": {},
   "source": [
    "## Weighted Quick Union Performance"
   ]
  },
  {
   "cell_type": "markdown",
   "metadata": {},
   "source": [
    "Let's consider the worst case where the tree height grows as fast as possible. \n",
    "\n",
    "![](images/0)\n",
    "![](images/1)\n",
    "![](images/4)\n",
    "![](images/8)\n",
    "![](images/worst.png)"
   ]
  },
  {
   "cell_type": "markdown",
   "metadata": {},
   "source": [
    "## Performance Summary"
   ]
  },
  {
   "cell_type": "markdown",
   "metadata": {},
   "source": [
    "| Implementation | Constructor | `connect` | `isConnected`|\n",
    "| --- | --- | --- | --- |\n",
    "|`ListOfSetsDs` | $\\Theta(N)$ | $O(N)$ | $O(N)$|\n",
    "| `QuickFindDs` | $\\Theta(N)$ | $\\Theta(N)$ | $\\Theta(1)$|\n",
    "|`QuickUnionDS` | $\\Theta(N)$ | $O(N)$ | $O(N)$ |\n",
    "| `WeightedQuickUnionDS` | $\\Theta(N)$ | $O(log N)$ | $O(log N)$ |\n",
    "\n",
    "We know that the worst case tree height has a `find` operation of $\\Theta(log N)$. This means the `connect` operation will not be slower than $log N$. \n",
    "\n",
    "By tweaking `QuickUnionDs`, we've achieved logarithmic time performance. This is fast enough for all practical problems. "
   ]
  },
  {
   "cell_type": "markdown",
   "metadata": {},
   "source": [
    "## Why Weights Intead of Heights?"
   ]
  },
  {
   "cell_type": "markdown",
   "metadata": {},
   "source": [
    "We used the number of items in a tree to decide upon the root. Why not use the height of the tree?\n",
    "* Worst case performance for `HeightedQuickUnionDS` is asymptotically the same\n",
    "    * Both are $\\Theta(log N)$\n",
    "* But the resulting code is more complicated\n",
    "\n",
    "More complicated code with no performance gain? Might as well stick with weights."
   ]
  }
 ],
 "metadata": {
  "kernelspec": {
   "display_name": "Python 3",
   "language": "python",
   "name": "python3"
  },
  "language_info": {
   "codemirror_mode": {
    "name": "ipython",
    "version": 3
   },
   "file_extension": ".py",
   "mimetype": "text/x-python",
   "name": "python",
   "nbconvert_exporter": "python",
   "pygments_lexer": "ipython3",
   "version": "3.7.5"
  }
 },
 "nbformat": 4,
 "nbformat_minor": 4
}
