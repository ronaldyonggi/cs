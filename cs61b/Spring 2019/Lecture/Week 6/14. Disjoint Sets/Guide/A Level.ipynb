{
 "cells": [
  {
   "cell_type": "markdown",
   "metadata": {},
   "source": [
    "## 1.\n",
    "In weighted quick-union, suppose that we set `id[find(p)]` to `q` instead of `id[find(q)]`. Would the resulting algorithm be correct?\n",
    "\n",
    "#### Answer\n",
    "No, the algorithm would be wrong. We would be connecting the root of `p` to `q` instead of connecting it to the root of `q`."
   ]
  },
  {
   "cell_type": "markdown",
   "metadata": {},
   "source": [
    "## 2.\n",
    "If we’re concerned about tree height, why don’t we use height for deciding tree size instead of weight? What is the worst-case tree height for weighted-quick-union vs. heighted-quick-union? What is the average tree height?\n",
    "\n",
    "#### Answer\n",
    "[here](https://stackoverflow.com/questions/30957644/why-does-the-weighted-quick-union-algorithm-consider-the-sizes-of-the-tree-inste)\n"
   ]
  },
  {
   "cell_type": "code",
   "execution_count": null,
   "metadata": {},
   "outputs": [],
   "source": []
  }
 ],
 "metadata": {
  "kernelspec": {
   "display_name": "Java",
   "language": "java",
   "name": "java"
  },
  "language_info": {
   "codemirror_mode": "java",
   "file_extension": ".jshell",
   "mimetype": "text/x-java-source",
   "name": "Java",
   "pygments_lexer": "java",
   "version": "12.0.2+10"
  }
 },
 "nbformat": 4,
 "nbformat_minor": 4
}
