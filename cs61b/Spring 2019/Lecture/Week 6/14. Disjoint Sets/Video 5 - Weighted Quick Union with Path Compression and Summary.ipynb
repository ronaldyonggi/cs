{
 "cells": [
  {
   "cell_type": "markdown",
   "metadata": {},
   "source": [
    "# Path Compression (CS170 Spoiler)"
   ]
  },
  {
   "cell_type": "markdown",
   "metadata": {},
   "source": [
    "## What We've Achieved"
   ]
  },
  {
   "cell_type": "markdown",
   "metadata": {},
   "source": [
    "| Implementation | Constructor | `connect` | `isConnected`|\n",
    "| --- | --- | --- | --- |\n",
    "|`ListOfSetsDs` | $\\Theta(N)$ | $O(N)$ | $O(N)$|\n",
    "| `QuickFindDs` | $\\Theta(N)$ | $\\Theta(N)$ | $\\Theta(1)$|\n",
    "|`QuickUnionDS` | $\\Theta(N)$ | $O(N)$ | $O(N)$ |\n",
    "| `WeightedQuickUnionDS` | $\\Theta(N)$ | $O(log N)$ | $O(log N)$ |\n",
    "\n",
    "Suppose we're about to do $M$ operations on a `DisjointSet` objects with $N$ elements.\n",
    "* For our naive implementation, runtime is $O(MN)$\n",
    "* For our best implementation, runtime is $O(N + M log N)$\n",
    "\n",
    "If $N = 10^9$ and $M = 10^9$, the difference is 30 years vs. 6 seconds!\n",
    "* Key point: good data structure unlocks solutions to problems that could otherwise not be solved.\n",
    "\n",
    "What we have currently is good enough for all practical uses, but could we theoretically do better?"
   ]
  },
  {
   "cell_type": "markdown",
   "metadata": {},
   "source": [
    "## CS170 Spoiler - Path Compression, A Clever Idea"
   ]
  },
  {
   "cell_type": "markdown",
   "metadata": {},
   "source": [
    "Below is the topology of the worst case if we use `WeightedQuickUnion`. \n",
    "\n",
    "![](images/example.png)\n",
    "\n",
    "Suppose we do `isConnected(15, 10)`. First we start with 15.\n",
    "* Check 15's parent: 11\n",
    "* Check 11's parent: 5\n",
    "* Check 5's parent: 1\n",
    "* Check 1's parent: 0\n",
    "* Check 0's parent: None\n",
    "\n",
    "We climbed the tree and spent some computation time. We'll have to do the same thing from 10 all the way to 0. "
   ]
  },
  {
   "cell_type": "markdown",
   "metadata": {},
   "source": [
    "## Clever Idea"
   ]
  },
  {
   "cell_type": "markdown",
   "metadata": {},
   "source": [
    "When we did `isConnected(15, 10)`, we've found the root of 15, 11, 5 and 1, which is 0. We can now tie all these values to the root. \n",
    "\n",
    "![](images/tie.png)\n",
    "\n",
    "**Very important**: This changes nothing about which set each item belongs to. \n",
    "* 15, 11, 5, and 1 are all still part of the set owned by 0. \n",
    "\n",
    "Recall the idea of memoization or caching. Here we're setting aside the information that 15, 11, 5, 1, 10, and 3 are all part of the set where 0 is the root.\n",
    "\n",
    "![](images/root.png)\n",
    "\n",
    "The additional cost of this improvement is insignificant (same order of growth), but with this implementation, future queries are faster."
   ]
  },
  {
   "cell_type": "markdown",
   "metadata": {},
   "source": [
    "## Path Compression - Another Clever Idea"
   ]
  },
  {
   "cell_type": "markdown",
   "metadata": {},
   "source": [
    "Draw the tree after we call `isConnected(14, 13)`. \n",
    "\n",
    "![](images/draw.png)"
   ]
  },
  {
   "cell_type": "markdown",
   "metadata": {},
   "source": [
    "#### Answer"
   ]
  },
  {
   "cell_type": "markdown",
   "metadata": {},
   "source": [
    "![](images/draw2.png)"
   ]
  },
  {
   "cell_type": "markdown",
   "metadata": {},
   "source": [
    "## CS170 Spoiler - Path Compression, A Clever Idea"
   ]
  },
  {
   "cell_type": "markdown",
   "metadata": {},
   "source": [
    "Path compression results in a union/connected operations that are very close to amortized (on average) constant time.\n",
    "* `M` operations on `N` nodes is $O(N + M lg^* N)$\n",
    "    * $lg*$ is a function known as the iterated logarithm \n",
    "    * This means for a $lg^* N$ value, it corresponds to the $N$ of 2 to the power of the previous $N$\n",
    "        * For example, $lg^* N$ of 5 corresponds to $N$ of  $2^{65536}$, where 65536 is the previous $N$\n",
    "    * We'll see this in CS170\n",
    "* $lg^*$ is less than 5 for any realistic input.\n",
    "\n",
    "| $N$ | $lg* N$ |\n",
    "| --- | --- |\n",
    "| 1 | 0 |\n",
    "| 2 | 1 |\n",
    "| 4 | 2 |\n",
    "| 16 | 3 |\n",
    "| 65535 ($2^{16}$) | 4 |\n",
    "| $2^{65536}$|5|\n",
    "\n",
    "Turns out this is actually a somewhat pessimistic analysis. There's actually another analysis that states that the runtime won't be worse than $M lg^* N$. With a litte more cleverness, we can show that the bound is tighter."
   ]
  },
  {
   "cell_type": "markdown",
   "metadata": {},
   "source": [
    "## Path Compression - Theoretical Performance"
   ]
  },
  {
   "cell_type": "markdown",
   "metadata": {},
   "source": [
    "A tighter bound: \n",
    "$$O(N + M \\alpha(N))$$\n",
    "...where $\\alpha$ is the inverse Ackermann function.\n",
    "\n",
    "The inverse ackermann function is less than 5 for all practical inputs\n",
    "* See \"Efficiency of a Good But Not Linear Set Union Algorithm\"\n",
    "* Written by Bob Tarjan while at UC Berkeley in 1975"
   ]
  },
  {
   "cell_type": "markdown",
   "metadata": {},
   "source": [
    "## A Summary of Our Iterative Design Process"
   ]
  },
  {
   "cell_type": "markdown",
   "metadata": {},
   "source": [
    "The end result of our iterative design process is the standard way disjoint sets are implemented today - quick union and path compression.\n",
    "\n",
    "The ideas that made our implementation efficient:\n",
    "\n",
    "* Represent sets as connected components (don't track individual connections)\n",
    "    * `ListOfSetsDs` - store connected components as a List of Sets (slow, complicated)\n",
    "    * `QuickFindDS` - store connected components as set ids\n",
    "    * `QuickUnionDs` - store connected components as parent ids\n",
    "        * `WeightedQuickUnionDS` - track the size of each set, and use `size` to decide on new tree root\n",
    "            * `WeightedQuickUnionWithPathCompressionDS` - On calls to `connect` and `isConnected`, set parent `id` to the root for all items seen"
   ]
  },
  {
   "cell_type": "markdown",
   "metadata": {},
   "source": [
    "## Performance Summary"
   ]
  },
  {
   "cell_type": "markdown",
   "metadata": {},
   "source": [
    "| Implementation | Constructor |\n",
    "| --- | --- |\n",
    "|`ListOfSetsDs` | $O(NM)$ |\n",
    "| `QuickFindDs` | $\\Theta(NM)$ |\n",
    "|`QuickUnionDS` | $O(NM)$ | \n",
    "| `WeightedQuickUnionDS` | $O(N + M log N)$ |\n",
    "| `WeightedQuickUnionDSWithPathCompression` | $O(N + M \\alpha(N))$|\n",
    "\n",
    "We can think of $\\alpha$ (ackermann function) as a constant since they grow very slowly.\n",
    "\n",
    "These runtimes are given assuming:\n",
    "* We have a `DisjointSets` object of size `N`\n",
    "* We perform `M` operations, where an operation is defined as either a call to `connected` or `isConnected`."
   ]
  },
  {
   "cell_type": "code",
   "execution_count": null,
   "metadata": {},
   "outputs": [],
   "source": []
  }
 ],
 "metadata": {
  "kernelspec": {
   "display_name": "Python 3",
   "language": "python",
   "name": "python3"
  },
  "language_info": {
   "codemirror_mode": {
    "name": "ipython",
    "version": 3
   },
   "file_extension": ".py",
   "mimetype": "text/x-python",
   "name": "python",
   "nbconvert_exporter": "python",
   "pygments_lexer": "ipython3",
   "version": "3.7.5"
  }
 },
 "nbformat": 4,
 "nbformat_minor": 4
}
