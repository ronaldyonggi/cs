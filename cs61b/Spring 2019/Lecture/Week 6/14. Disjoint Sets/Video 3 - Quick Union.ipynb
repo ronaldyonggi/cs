{
 "cells": [
  {
   "cell_type": "markdown",
   "metadata": {},
   "source": [
    "# Quick Union"
   ]
  },
  {
   "cell_type": "markdown",
   "metadata": {},
   "source": [
    "## Improving the `Connect` Operation"
   ]
  },
  {
   "cell_type": "markdown",
   "metadata": {},
   "source": [
    "Let's have a summary of what we have so far.\n",
    "\n",
    "#### Approach Zero\n",
    "Represent everything as boxes and lines. Overly complicated.\n",
    "\n",
    "![](images/zero.png)\n",
    "\n",
    "#### `ListOfSets`\n",
    "Represent everything as connected componenets\n",
    "* Represented connected components as list of sets of integers\n",
    "\n",
    "![](images/int.png)\n",
    "\n",
    "#### `QuickFind`\n",
    "Represent everything as connected components\n",
    "* Represented connected components as a list of integers where `value = id`\n",
    "* Bad feature: connecting 2 sets is slow\n",
    "\n",
    "![](images/ds.png)\n",
    "\n",
    "#### Next approach - `QuickUnion`\n",
    "* Still represent everything as connected components\n",
    "* Still represent connected components as a list of integers\n",
    "* However, values will be chosen so that `connect` is fast"
   ]
  },
  {
   "cell_type": "markdown",
   "metadata": {},
   "source": [
    "## Hard Question"
   ]
  },
  {
   "cell_type": "markdown",
   "metadata": {},
   "source": [
    "How could we change our set representation so that combining 2 sets into their union requires changing **one** value?\n",
    "\n",
    "![](images/hard.png)"
   ]
  },
  {
   "cell_type": "markdown",
   "metadata": {},
   "source": [
    "## Assign Parent"
   ]
  },
  {
   "cell_type": "markdown",
   "metadata": {},
   "source": [
    "Idea: Assign each item a parent (instead of an id). \n",
    "\n",
    "![](images/parent.png)\n",
    "\n",
    "This results in a tree-like shape. How to read this:\n",
    "* In the tree, `2` is below `1`\n",
    "    * We say \"2 belongs to item 1\"\n",
    "    * Looking at the boxes, see that the item at `id=2` is 1. This means 2 belongs to item 1\n",
    "* In the tree, `1` is below `0`\n",
    "    * 1 belongs to item 1\n",
    "    * see that the item at `id=1` is 0\n",
    "* `0` is the root of a set\n",
    "    * Roots are indicated by a negative number\n",
    "    \n",
    "This approach might seem innocuous, but this is the foundation of state-of-the-art disjoint operations. This approach unlocks a gigantic area of CS and math theory that we won't discuss. "
   ]
  },
  {
   "cell_type": "markdown",
   "metadata": {},
   "source": [
    "## Quiz  - `connect(5, 2)`"
   ]
  },
  {
   "cell_type": "markdown",
   "metadata": {},
   "source": [
    "![](images/quiz.png)\n",
    "\n",
    "If we call `connect(5, 2)`, how should we change the parent list to handle this `connect` operation?\n",
    "\n",
    "#### Possible Answer: connect 3 to 2\n",
    "\n",
    "![](images/32.png)\n",
    "\n",
    "A possible answer is to connect 3 to 2. However, the tree will become unnecessarily tall!\n",
    "\n",
    "#### Preferred Answer: connect 3 to 0\n",
    "\n",
    "* Find `root(5)` -> 3\n",
    "* Find `root(2)` -> 0\n",
    "Set `root(5)`'s value equal to `root(2)`.\n",
    "\n",
    "![](images/30.png)\n",
    "\n",
    "However, even this approach has potential performance issues. \n",
    "* The tree can get too tall\n",
    "    * The operation `root(x)` becomes expensive"
   ]
  },
  {
   "cell_type": "markdown",
   "metadata": {},
   "source": [
    "## The Worst Case"
   ]
  },
  {
   "cell_type": "markdown",
   "metadata": {},
   "source": [
    "If we always connect the first item's tree below the second item's tree, we can end up with a tree of height `M` after `M` operations.\n",
    "* `connect(4, 3)`\n",
    "* `connect(3, 2)`\n",
    "* `connect(2, 1)`\n",
    "* `connect(1, 0)`\n",
    "\n",
    "![](images/tall.png)\n",
    "\n",
    "For `N` items, what's the worst case runtime for..\n",
    "* `connect(p, q)`? $\\Theta(N)$\n",
    "* `isConnected(p, q)`? $\\Theta(N)$\n",
    "\n",
    "Let's say, we want to find out if `4` and `3` is connected. We have to:\n",
    "* Find the root of `4`, which can take as bad as `N`\n",
    "* Find the root of `3`, which can take `N-1`"
   ]
  },
  {
   "cell_type": "markdown",
   "metadata": {},
   "source": [
    "## `QuickUnionDs`"
   ]
  },
  {
   "cell_type": "markdown",
   "metadata": {},
   "source": [
    "This is what the implementation look like, "
   ]
  },
  {
   "cell_type": "code",
   "execution_count": 1,
   "metadata": {},
   "outputs": [
    {
     "ename": "SyntaxError",
     "evalue": "invalid syntax (<ipython-input-1-4c524ca65d43>, line 1)",
     "output_type": "error",
     "traceback": [
      "\u001b[1;36m  File \u001b[1;32m\"<ipython-input-1-4c524ca65d43>\"\u001b[1;36m, line \u001b[1;32m1\u001b[0m\n\u001b[1;33m    public class QuickUnionDS implements DisjointSets {\u001b[0m\n\u001b[1;37m               ^\u001b[0m\n\u001b[1;31mSyntaxError\u001b[0m\u001b[1;31m:\u001b[0m invalid syntax\n"
     ]
    }
   ],
   "source": [
    "public class QuickUnionDS implements DisjointSets {\n",
    "    private int[] parent;\n",
    "    public QuickUnionDS (int N) {\n",
    "        parent = new int[N];\n",
    "        for (int i = 0; i < N; i++) {\n",
    "            /** Initially no elements are connected thus each element is a root */ \n",
    "            parent[i] = -1;\n",
    "        }\n",
    "    }\n",
    "    \n",
    "    private int find(int p) {\n",
    "        int r = p;\n",
    "        while (parent[r] >= 0) {\n",
    "            r = parent[r];\n",
    "        }\n",
    "        return r;\n",
    "    }\n",
    "}"
   ]
  },
  {
   "cell_type": "markdown",
   "metadata": {},
   "source": [
    "The `find` method is the `root(x)` method. We name it `find` so that it matches the textbook version.\n",
    "\n",
    "For `N` items, the worst runtime for `find` method is $\\Theta(N)$. Both `isConnected` and `Connect` rely on the `find` method and therefore, both methods have worst case runtime of $\\Theta(N)$."
   ]
  },
  {
   "cell_type": "markdown",
   "metadata": {},
   "source": [
    "## Performance Summary"
   ]
  },
  {
   "cell_type": "markdown",
   "metadata": {},
   "source": [
    "| Implementation | Constructor | `connect` | `isConnected`|\n",
    "| --- | --- | --- | --- |\n",
    "|`ListOfSetsDs` | $\\Theta(N)$ | $O(N)$ | $O(N)$|\n",
    "| `QuickFindDs` | $\\Theta(N)$ | $\\Theta(N)$ | $\\Theta(1)$|\n",
    "|`QuickUnionDS` | $\\Theta(N)$ | $O(N)$ | $O(N)$ |"
   ]
  },
  {
   "cell_type": "markdown",
   "metadata": {},
   "source": [
    "The bad thing about `QuickUnion` is that the trees can get very tall. The performance is potentially even worse than `QuickFind` if the tree is imbalanced.\n",
    "\n",
    "Observation: things would be fine if we just kept our tree balanced. "
   ]
  }
 ],
 "metadata": {
  "kernelspec": {
   "display_name": "Java",
   "language": "java",
   "name": "java"
  },
  "language_info": {
   "codemirror_mode": "java",
   "file_extension": ".jshell",
   "mimetype": "text/x-java-source",
   "name": "Java",
   "pygments_lexer": "java",
   "version": "12.0.2+10"
  }
 },
 "nbformat": 4,
 "nbformat_minor": 4
}
