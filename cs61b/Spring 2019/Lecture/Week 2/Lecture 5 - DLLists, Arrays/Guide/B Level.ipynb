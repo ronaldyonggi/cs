{
 "cells": [
  {
   "cell_type": "markdown",
   "metadata": {},
   "source": [
    "### 1.\n",
    "At each step follow the instructions,"
   ]
  },
  {
   "cell_type": "code",
   "execution_count": 1,
   "metadata": {},
   "outputs": [],
   "source": [
    "public class Deck {\n",
    "    public static int[] cards;\n",
    "    public Deck() {\n",
    "        cards = new int[]{1, 3, 4, 10};\n",
    "    }\n",
    "}"
   ]
  },
  {
   "cell_type": "markdown",
   "metadata": {},
   "source": [
    "Write down the contents of dingie's array cards."
   ]
  },
  {
   "cell_type": "code",
   "execution_count": 2,
   "metadata": {},
   "outputs": [
    {
     "data": {
      "text/plain": [
       "3"
      ]
     },
     "execution_count": 2,
     "metadata": {},
     "output_type": "execute_result"
    }
   ],
   "source": [
    "Deck dingie = new Deck();\n",
    "dingie.cards[3] = 3;\n",
    "\n",
    "// NOTICE THAT cards IS A STATIC VARIABLE! This means doesn't matter if it's dingie or pilates, we are changing the same Deck class's cards!\n",
    "\n",
    "// cards is now [1, 3, 4, 3]"
   ]
  },
  {
   "cell_type": "markdown",
   "metadata": {},
   "source": [
    "Write the contents of pilates's array and dingie's array."
   ]
  },
  {
   "cell_type": "code",
   "execution_count": 3,
   "metadata": {},
   "outputs": [
    {
     "data": {
      "text/plain": [
       "2"
      ]
     },
     "execution_count": 3,
     "metadata": {},
     "output_type": "execute_result"
    }
   ],
   "source": [
    "Deck pilates = new Deck();\n",
    "pilates.cards[1] = 2;\n",
    "\n",
    "// cards is now [1, 2, 4, 3]"
   ]
  },
  {
   "cell_type": "markdown",
   "metadata": {},
   "source": [
    "Write the contents of pilates's array and dingie's array."
   ]
  },
  {
   "cell_type": "code",
   "execution_count": 4,
   "metadata": {},
   "outputs": [],
   "source": [
    "int[] newArrWhoDis = new int[]{2, 2, 4, 1, 3};\n",
    "\n",
    "// This doesn't change anything since both dingie.cards and pilates.cards are referring to Deck's cards\n",
    "dingie.cards = pilates.cards;\n",
    "\n",
    "// Deck's cards is now [2, 2, 4, 1, 3]\n",
    "pilates.cards = newArrWhoDis;\n",
    "\n",
    "// newArrWhoDis is now null, but cards is still pointing at [2, 2, 4, 1, 3]\n",
    "newArrWhoDis = null;"
   ]
  },
  {
   "cell_type": "markdown",
   "metadata": {},
   "source": []
  }
 ],
 "metadata": {
  "kernelspec": {
   "display_name": "Java",
   "language": "java",
   "name": "java"
  },
  "language_info": {
   "codemirror_mode": "java",
   "file_extension": ".jshell",
   "mimetype": "text/x-java-source",
   "name": "Java",
   "pygments_lexer": "java",
   "version": "12.0.2+10"
  }
 },
 "nbformat": 4,
 "nbformat_minor": 4
}
