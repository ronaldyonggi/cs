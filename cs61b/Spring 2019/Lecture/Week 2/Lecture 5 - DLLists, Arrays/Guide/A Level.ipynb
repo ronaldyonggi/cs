{
 "cells": [
  {
   "cell_type": "markdown",
   "metadata": {},
   "source": [
    "### 1. \n",
    "Complete problem 10 from practice midterm 1 in [Kartik's textbook](http://www.kartikkapur.com/documents/mt1.pdf#page=10)\n",
    "\n",
    "#### a.\n",
    "For the first part of this problem, make a `Piece` class that store longitude and latitude."
   ]
  },
  {
   "cell_type": "code",
   "execution_count": null,
   "metadata": {},
   "outputs": [],
   "source": [
    "//a. For the first part of this problem, make a Piece class that store longitude and latitude\n",
    "public class Piece{\n",
    "    public int longitude;\n",
    "    public int latitude;\n",
    "    \n",
    "    public Piece(int x, int y){\n",
    "        longitude = x;\n",
    "        latitude = y;\n",
    "    }\n",
    "}"
   ]
  },
  {
   "cell_type": "markdown",
   "metadata": {},
   "source": [
    "#### b.\n",
    "The next part of this problem is take the Pieces in the given 1D `Piece` array, where Pieces are in no particular order, and put it into a 2D array where each row filled with Pieces that have the same latitude.\n",
    "\n",
    "#### Note\n",
    "There is a revision for this problem. Instead of,"
   ]
  },
  {
   "cell_type": "code",
   "execution_count": null,
   "metadata": {},
   "outputs": [],
   "source": [
    "for (counter = 0; ... < p.length - 1; counter ++;){\n",
    "    \n",
    "}"
   ]
  },
  {
   "cell_type": "markdown",
   "metadata": {},
   "source": [
    "it should be,"
   ]
  },
  {
   "cell_type": "code",
   "execution_count": null,
   "metadata": {},
   "outputs": [],
   "source": [
    "for (counter = 0; ... < width; counter ++;)"
   ]
  },
  {
   "cell_type": "code",
   "execution_count": null,
   "metadata": {},
   "outputs": [],
   "source": [
    "public Piece[][] groupByLat(Piece[] p) {\n",
    "    /** From previous problem, notice that for a Piece of length N, the dimension of the 2D pieces is sqrt(N) x sqrt(N) */\n",
    "    int width = (int) Math.sqrt(p.length);\n",
    "    Piece[][] latGroup = new Piece[width][width];\n",
    "    /** i iterates through all elements in p, while j iterates through columns of the 2D pieces */\n",
    "    \n",
    "    for (int i = 0; i < p.length; i++) {\n",
    "        for (int j = 0; j < width; j++) {\n",
    "            \n",
    "            /** Initially, if latGroup is empty, then just take the first element of p as latGroup[0][0]. Thus in the\n",
    "            first for loop, latGroup[j][0] = p[i]. This means we assign the first element of p[i] as the starting of a column */\n",
    "            if (latGroup[j][0] == null){\n",
    "                latGroup[j][0] = p[i];\n",
    "                break;\n",
    "            }\n",
    "            /** Otherwise if p[i]'s latitude is the same as column j's latitude (just pick column j's top most element), \n",
    "            then assign p[i] to any available spot in column j */\n",
    "            else if (latGroup[j][0].latitude = p[i].latitude ) {\n",
    "                \n",
    "                /** counter goes through the rows in a column and checks if there's any empty spot. When an empty spot is found,\n",
    "                assign the matching p[i] to that spot */\n",
    "                int counter;\n",
    "                for (counter = 0; counter < width; counter++) {\n",
    "                    if (latGroup[j][counter] == null) {\n",
    "                        break;\n",
    "                    }\n",
    "                }\n",
    "                latGroup[j][counter] = p[i];\n",
    "                break;\n",
    "            }\n",
    "        }\n",
    "    }\n",
    "    return latGroup;\n",
    "}"
   ]
  },
  {
   "cell_type": "code",
   "execution_count": null,
   "metadata": {},
   "outputs": [],
   "source": []
  },
  {
   "cell_type": "code",
   "execution_count": null,
   "metadata": {},
   "outputs": [],
   "source": []
  }
 ],
 "metadata": {
  "kernelspec": {
   "display_name": "Java",
   "language": "java",
   "name": "java"
  },
  "language_info": {
   "codemirror_mode": "java",
   "file_extension": ".jshell",
   "mimetype": "text/x-java-source",
   "name": "Java",
   "pygments_lexer": "java",
   "version": "12.0.2+10"
  }
 },
 "nbformat": 4,
 "nbformat_minor": 4
}
