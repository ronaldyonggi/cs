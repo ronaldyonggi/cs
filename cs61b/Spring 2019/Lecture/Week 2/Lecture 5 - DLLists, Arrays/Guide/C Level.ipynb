{
 "cells": [
  {
   "cell_type": "markdown",
   "metadata": {},
   "source": [
    "## 1.\n",
    "Complete the exercises from the online textbook [here](https://joshhug.gitbooks.io/hug61b/content/chap2/chap23.html) and [here](https://joshhug.gitbooks.io/hug61b/content/chap2/chap24.html)\n",
    "\n",
    "#### Exercise 2.3.1\n",
    "\n",
    "Consider the box and pointer diagram representing the `SLList` implementation above, which includes the last pointer.\n",
    "![](https://joshhug.gitbooks.io/hug61b/content/chap2/fig23/sllist_last_pointer.png)\n",
    "\n",
    "Suppose that we'd like to support `addLast`, `getLast`, and `removeLast` operations. Will the structure shown support rapid `addLast`, `getLast`, and `removeLast` operations? If not, which operations are slow?\n",
    "\n",
    "#### Answer to 2.3.1\n",
    "\n",
    "The structure shown will support fast `addLast` and `getLast` but not `removeLast` because if we remove the last element, we would need to find the \"2nd from last\" element to be assigned as the new last.\n",
    "\n",
    "#### Exercise 2.3.2\n",
    "\n",
    "Try to devise a scheme for speeding up `removeLast` operations so that it always runs in constant time, no matter how long the list. Don't worry about coding up a solution, we'll leave that to project 1. Just come up with an idea about how you'd modify the structure of the list (e.g. the instance variables).\n",
    "\n",
    "#### Answer to 2.3.2\n",
    "Use a doubly linked list, where each pointer has a pointer that points to the opposite direction. This way, the last element has a pointer that points to the \"2nd-from-last\" element.\n",
    "\n",
    "#### Exercise 2.4.1 - Already done in Video 7"
   ]
  },
  {
   "cell_type": "markdown",
   "metadata": {},
   "source": [
    "## 2.\n",
    "Can we create a 2D array with a different types? For example, one sub array would be composed of all `Strings` and another sub array would be made of only ints.\n",
    "\n",
    "#### Answer\n",
    "Technically no. One possible implementation that is the closest to achieving this is to use a 2-D `String` array."
   ]
  },
  {
   "cell_type": "code",
   "execution_count": null,
   "metadata": {},
   "outputs": [],
   "source": [
    "String[][] words = new String[][];"
   ]
  },
  {
   "cell_type": "markdown",
   "metadata": {},
   "source": [
    "Then have the first column contains all the `String` data, while the second column contains numeric data in form of `String`."
   ]
  },
  {
   "cell_type": "code",
   "execution_count": null,
   "metadata": {},
   "outputs": [],
   "source": [
    "words[index][index] = Integer.toString(1);"
   ]
  },
  {
   "cell_type": "code",
   "execution_count": null,
   "metadata": {},
   "outputs": [],
   "source": []
  }
 ],
 "metadata": {
  "kernelspec": {
   "display_name": "Java",
   "language": "java",
   "name": "java"
  },
  "language_info": {
   "codemirror_mode": "java",
   "file_extension": ".jshell",
   "mimetype": "text/x-java-source",
   "name": "Java",
   "pygments_lexer": "java",
   "version": "12.0.2+10"
  }
 },
 "nbformat": 4,
 "nbformat_minor": 4
}
