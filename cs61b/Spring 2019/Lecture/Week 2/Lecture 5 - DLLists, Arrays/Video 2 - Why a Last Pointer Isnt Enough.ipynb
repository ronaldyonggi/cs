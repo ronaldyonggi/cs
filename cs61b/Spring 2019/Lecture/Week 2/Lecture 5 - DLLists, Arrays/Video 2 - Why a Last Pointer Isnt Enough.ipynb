{
 "cells": [
  {
   "cell_type": "markdown",
   "metadata": {},
   "source": [
    "## `.last` is Not Enough!"
   ]
  },
  {
   "cell_type": "markdown",
   "metadata": {},
   "source": [
    "Suppose we want to support `add`, `get`, and `remove` operations. Will having a `last` pointer results for fast operations on long lists? `NO`!\n",
    "\n",
    "The `remove` operation would be slow. For example, with the following list,\n",
    "\n",
    "![](images/9.png)"
   ]
  },
  {
   "cell_type": "markdown",
   "metadata": {},
   "source": [
    "We have to:\n",
    "1. Remove the node containing 50\n",
    "2. Set the node containing 9's `next` to null\n",
    "3. Set `last` point to the node containing `9`\n",
    "\n",
    "But to do step #2 and #3, we would need to find the node containing `9`, which requires going through the entire list until we get to 1 element before the last element!"
   ]
  },
  {
   "cell_type": "markdown",
   "metadata": {},
   "source": [
    "## Improvement #7: `.last` and ??? | Goal: Fast operations on `last`"
   ]
  },
  {
   "cell_type": "markdown",
   "metadata": {},
   "source": [
    "We have implemented `.last`. What other changes could we make so that `.remove` is also fast?"
   ]
  },
  {
   "cell_type": "code",
   "execution_count": null,
   "metadata": {},
   "outputs": [],
   "source": []
  }
 ],
 "metadata": {
  "kernelspec": {
   "display_name": "Python 3",
   "language": "python",
   "name": "python3"
  },
  "language_info": {
   "codemirror_mode": {
    "name": "ipython",
    "version": 3
   },
   "file_extension": ".py",
   "mimetype": "text/x-python",
   "name": "python",
   "nbconvert_exporter": "python",
   "pygments_lexer": "ipython3",
   "version": "3.7.4"
  }
 },
 "nbformat": 4,
 "nbformat_minor": 4
}
