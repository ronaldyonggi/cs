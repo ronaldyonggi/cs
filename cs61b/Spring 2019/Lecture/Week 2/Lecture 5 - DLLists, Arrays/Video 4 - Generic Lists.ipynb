{
 "cells": [
  {
   "cell_type": "markdown",
   "metadata": {},
   "source": [
    "# Generic Lists"
   ]
  },
  {
   "cell_type": "markdown",
   "metadata": {},
   "source": [
    "Here we'll discuss limitations of SLLists. Look at the following class that uses `SLList`,"
   ]
  },
  {
   "cell_type": "code",
   "execution_count": null,
   "metadata": {},
   "outputs": [],
   "source": [
    "public class SLListLauncher {\n",
    "    public static void main(String[] args) {\n",
    "        SLList s1 = new SLList(5);\n",
    "        s1.addFirst(10);\n",
    "    }\n",
    "}"
   ]
  },
  {
   "cell_type": "markdown",
   "metadata": {},
   "source": [
    "The cell above will execute just fine. But what if we want to create a list of **strings**? It won't work!"
   ]
  },
  {
   "cell_type": "code",
   "execution_count": null,
   "metadata": {},
   "outputs": [],
   "source": [
    "// WILL OUTPUT ERROR!\n",
    "public class SLListLauncher {\n",
    "    public static void main(String[] args) {\n",
    "        SLList s1 = new SLList(\"bone\");\n",
    "        s1.addFirst(\"thugs\");\n",
    "    }\n",
    "}\n",
    "\n",
    "// Error message would be \"string can't be converted to int\""
   ]
  },
  {
   "cell_type": "markdown",
   "metadata": {},
   "source": [
    "# Integer Only Lists"
   ]
  },
  {
   "cell_type": "markdown",
   "metadata": {},
   "source": [
    "One issue with our list classes: **they only support integers!**"
   ]
  },
  {
   "cell_type": "code",
   "execution_count": null,
   "metadata": {},
   "outputs": [],
   "source": [
    "public class SLList {\n",
    "    private IntNode sentinel;\n",
    "    private int size;\n",
    "    \n",
    "    public class IntNode{\n",
    "        public int item; // Only support integers!\n",
    "        public IntNode next;\n",
    "        ...\n",
    "    }\n",
    "    ...\n",
    "}"
   ]
  },
  {
   "cell_type": "markdown",
   "metadata": {},
   "source": [
    "One possible solution is to make an entirely new SLList class that uses `string` by replacing all `int` by `string`; this is a terrible, tedious idea! \n",
    "\n",
    "Instead, we can parameterize the type that SLList will take. This can be done by using an additional `<>` containing a name. For example, `<LochNess>`. `<LochNess>` acts as a placeholder for a type that hasn't been decided yet by the time SLList was created. \n",
    "\n",
    "We will also need to change all `int` type with `LochNess` type. Note that since we don't use integers anymore, we also change `IntNode` to `StuffNode` (this is unnecessary, but just to make conceptually more sense)."
   ]
  },
  {
   "cell_type": "code",
   "execution_count": 11,
   "metadata": {},
   "outputs": [],
   "source": [
    "public class SLList<LochNess> {\n",
    "    private class StuffNode {\n",
    "        public LochNess item;\n",
    "        public StuffNode next;\n",
    "        \n",
    "        public StuffNode(LochNess i, StuffNode n) {\n",
    "            item = i;\n",
    "            next = n;\n",
    "        }\n",
    "    }\n",
    "    \n",
    "    private StuffNode first;\n",
    "    private int size;\n",
    "    \n",
    "    public SLList (LochNess x) {\n",
    "        first = new StuffNode(x, null);\n",
    "        size = 1;\n",
    "    }\n",
    "    \n",
    "    public void addFirst(LochNess x) {\n",
    "        first = new StuffNode(x, first);\n",
    "        size += 1;\n",
    "    }\n",
    "    \n",
    "    public LochNess getFirst() {\n",
    "        return first.item;\n",
    "    }\n",
    "    \n",
    "    public void addLast(LochNess x){\n",
    "        size += 1;\n",
    "        StuffNode pointer = first;\n",
    "        while (pointer.next != null) {pointer = pointer.next;}\n",
    "        pointer.next = new StuffNode(x, null);\n",
    "    }\n",
    "    \n",
    "    public int size() {\n",
    "        return size;\n",
    "    }\n",
    "}"
   ]
  },
  {
   "cell_type": "markdown",
   "metadata": {},
   "source": [
    "Now if we want to make an SLList, we will need to specify a type using the `<>`. For example, if we want to make a `String` type,"
   ]
  },
  {
   "cell_type": "code",
   "execution_count": 13,
   "metadata": {},
   "outputs": [
    {
     "data": {
      "text/plain": [
       "thugs"
      ]
     },
     "execution_count": 13,
     "metadata": {},
     "output_type": "execute_result"
    }
   ],
   "source": [
    "// Again, in practice, the code below should be within the main method \n",
    "SLList<String> s1 = new SLList<String>(\"bone\");\n",
    "s1.addFirst(\"thugs\");\n",
    "s1.getFirst();"
   ]
  },
  {
   "cell_type": "markdown",
   "metadata": {},
   "source": [
    "...whenever we instantiate an SLList, the `<String>` is substituted for `<LochNess>`. \n",
    "\n",
    "In an even more modern Java, it's no longer necessary to specify the type on instatiation. Thus, instead of the following,"
   ]
  },
  {
   "cell_type": "code",
   "execution_count": 14,
   "metadata": {},
   "outputs": [],
   "source": [
    "SLList<String> s1 = new SLList<String>(\"bone\");"
   ]
  },
  {
   "cell_type": "markdown",
   "metadata": {},
   "source": [
    "We can omit of the second `<String>`,"
   ]
  },
  {
   "cell_type": "code",
   "execution_count": 15,
   "metadata": {},
   "outputs": [],
   "source": [
    "SLList<String> s1 = new SLList<>(\"bone\");"
   ]
  },
  {
   "cell_type": "markdown",
   "metadata": {},
   "source": [
    "## SLists"
   ]
  },
  {
   "cell_type": "markdown",
   "metadata": {},
   "source": [
    "Java allows us to defer type selection until declaration. To do this, we pick any arbitrary string and put it in the `<>` right after the name of the class,"
   ]
  },
  {
   "cell_type": "code",
   "execution_count": null,
   "metadata": {},
   "outputs": [],
   "source": [
    "public class SLList<arbitray> {\n",
    "    ...\n",
    "}"
   ]
  },
  {
   "cell_type": "markdown",
   "metadata": {},
   "source": [
    "And when we want to use it, make sure to specify the type that we want to use via `<type>` on the left hand side,"
   ]
  },
  {
   "cell_type": "code",
   "execution_count": 16,
   "metadata": {},
   "outputs": [],
   "source": [
    "SLList<Integer> s1 = new SLList<>(5);\n",
    "s1.addFirst(10);"
   ]
  },
  {
   "cell_type": "code",
   "execution_count": 17,
   "metadata": {},
   "outputs": [],
   "source": [
    "SLList<String> s2 = new SLList<>(\"hi\");\n",
    "s2.addFirst(\"apple\");"
   ]
  },
  {
   "cell_type": "markdown",
   "metadata": {},
   "source": [
    "## Generics "
   ]
  },
  {
   "cell_type": "markdown",
   "metadata": {},
   "source": [
    "We'll spend a lot more time with generics later, but here are the rules of thumb needed for Project 1:\n",
    "* In the `.java` file **implementing** the data structure, specify the \"generic type\" **only once** at the very top of the file\n",
    "* In `.java` file that **use** the data structure, specify desired type **once**:\n",
    "    * Write out desired type during `declaration`\n",
    "    * Use the `<>` operator during `instantiation`\n",
    "* When declaring or instantiating the data structure, use the reference type (first letter capitalized). \n",
    "    * `int`: `<Integer>\n",
    "    * `double`: `<Double>`\n",
    "    * `char`: `<Character>`\n",
    "    * `boolean`: `<Boolean>`\n",
    "    * `long`: `<Long>`"
   ]
  },
  {
   "cell_type": "code",
   "execution_count": null,
   "metadata": {},
   "outputs": [],
   "source": [
    "DLList<Double> s1 = new DLList<>(5.3);\n",
    "\n",
    "double x  = 9.3 + 15.2;\n",
    "s1.insertFront(x);"
   ]
  }
 ],
 "metadata": {
  "kernelspec": {
   "display_name": "Python 3",
   "language": "python",
   "name": "python3"
  },
  "language_info": {
   "codemirror_mode": {
    "name": "ipython",
    "version": 3
   },
   "file_extension": ".py",
   "mimetype": "text/x-python",
   "name": "python",
   "nbconvert_exporter": "python",
   "pygments_lexer": "ipython3",
   "version": "3.7.4"
  }
 },
 "nbformat": 4,
 "nbformat_minor": 4
}
