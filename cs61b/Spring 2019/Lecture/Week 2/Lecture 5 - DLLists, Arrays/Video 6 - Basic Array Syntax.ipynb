{
 "cells": [
  {
   "cell_type": "markdown",
   "metadata": {},
   "source": [
    "## Arrays"
   ]
  },
  {
   "cell_type": "markdown",
   "metadata": {},
   "source": [
    "Like classes, arrays are (almost always) instantiated with the keyword `new`. 3 valid notations:"
   ]
  },
  {
   "cell_type": "code",
   "execution_count": 3,
   "metadata": {},
   "outputs": [
    {
     "ename": "CompilationException",
     "evalue": "",
     "output_type": "error",
     "traceback": [
      "\u001b[1m\u001b[30m|   \u001b[1m\u001b[30m\u001b[0m\u001b[1m\u001b[30m\u001b[41my\u001b[0m\u001b[1m\u001b[30m = new int[3]; // Creates array containing 3 int boxes (32 * 3 = 96 bits total)\u001b[0m",
      "\u001b[1m\u001b[31mcannot find symbol\u001b[0m",
      "\u001b[1m\u001b[31m  symbol:   variable y\u001b[0m",
      ""
     ]
    }
   ],
   "source": [
    "y = new int[3]; // Creates array containing 3 int boxes (32 * 3 = 96 bits total)\n",
    "// Each container gets a default value"
   ]
  },
  {
   "cell_type": "code",
   "execution_count": 4,
   "metadata": {},
   "outputs": [
    {
     "ename": "CompilationException",
     "evalue": "",
     "output_type": "error",
     "traceback": [
      "\u001b[1m\u001b[30m|   \u001b[1m\u001b[30m\u001b[0m\u001b[1m\u001b[30m\u001b[41mx\u001b[0m\u001b[1m\u001b[30m = new int[]{1, 2, 3, 4, 5};\u001b[0m",
      "\u001b[1m\u001b[31mcannot find symbol\u001b[0m",
      "\u001b[1m\u001b[31m  symbol:   variable x\u001b[0m",
      ""
     ]
    }
   ],
   "source": [
    "x = new int[] {1, 2, 3, 4, 5}; // We don't explicitly state the size of the array, but Java figures it out"
   ]
  },
  {
   "cell_type": "code",
   "execution_count": 1,
   "metadata": {},
   "outputs": [],
   "source": [
    "int[] w = {9, 10, 11, 12, 13}; // We can omit the 'new' keyword if we are also declaring a variable\n",
    "// Note that we can't use this notation with a variable that already existed or declared"
   ]
  },
  {
   "cell_type": "markdown",
   "metadata": {},
   "source": [
    "All the 3 notations above creates an array, which consists of:\n",
    "1. A `length` field\n",
    "2. A sequence of `N` boxes, where `N` = `length`"
   ]
  },
  {
   "cell_type": "markdown",
   "metadata": {},
   "source": [
    "## Array Basics"
   ]
  },
  {
   "cell_type": "markdown",
   "metadata": {},
   "source": [
    "Let's work through an [example](https://cscircles.cemc.uwaterloo.ca/java_visualize/#)! "
   ]
  },
  {
   "cell_type": "code",
   "execution_count": null,
   "metadata": {},
   "outputs": [],
   "source": [
    "int[] z = null; // Creates a box of 64 bits, containing a reference (address) to an int array\n",
    "int[] x, y; // Creates boxes of 64 bits each\n",
    "\n",
    "x = new int[]{1, 2, 3, 4, 5}; // Set x as pointing to the address of an array of {1, 2, 3, 4, 5}\n",
    "y = x; // Copy the bits of x to y. \n",
    "// In this case, we copied the pointer pointing the address of {1, 2, 3, 4, 5} to y\n",
    "\n",
    "x = new int[]{-1, 2, 5, 4, 99}; // Reassign x as pointing to the address of an array {-1, 2, 5, 4, 99};\n",
    "// At this point, y is still pointing at {1, 2, 3, 4, 5}\n",
    "\n",
    "y = new int[3]; // Reassign y to point at an address of an array of size 3 {0, 0, 0}. \n",
    "// At this point, {1, 2, 3, 4, 5} is destroyed by the garbage collector\n",
    "\n",
    "z = new int[0]; // Set z to point at the address of an array of size 0\n",
    "int xL = x.length;"
   ]
  },
  {
   "cell_type": "markdown",
   "metadata": {},
   "source": [
    "At this point, the box-and-pointer diagram shows the following,\n",
    "\n",
    "![](images/visual.png)"
   ]
  },
  {
   "cell_type": "code",
   "execution_count": null,
   "metadata": {},
   "outputs": [],
   "source": [
    "String[] s = new String[6]; // Set s to point to an address of an array of size 6, 64 bit each.\n",
    "// Each box holds STRING REFERENCES, not the string itself, and the default values is null\n"
   ]
  },
  {
   "cell_type": "markdown",
   "metadata": {},
   "source": [
    "![](images/s.png)"
   ]
  },
  {
   "cell_type": "code",
   "execution_count": 3,
   "metadata": {},
   "outputs": [
    {
     "ename": "CompilationException",
     "evalue": "",
     "output_type": "error",
     "traceback": [
      "\u001b[1m\u001b[30m|   \u001b[1m\u001b[30m\u001b[0m\u001b[1m\u001b[30m\u001b[41ms\u001b[0m\u001b[1m\u001b[30m[4] = \"ketchup\";\u001b[0m",
      "\u001b[1m\u001b[31mcannot find symbol\u001b[0m",
      "\u001b[1m\u001b[31m  symbol:   variable s\u001b[0m",
      ""
     ]
    }
   ],
   "source": [
    "s[4] = \"ketchup\"; // Set s[4] to a pointer pointing to the string \"ketchup\"\n",
    "s[x[3] - x[1]] = \"muffins\"; // Set s[4 - 2] to a pointer pointing to the string \"muffins\""
   ]
  },
  {
   "cell_type": "markdown",
   "metadata": {},
   "source": [
    "![](images/muffins.png)"
   ]
  },
  {
   "cell_type": "code",
   "execution_count": null,
   "metadata": {},
   "outputs": [],
   "source": [
    "int[] b = {9, 10, 11};\n",
    "System.arraycopy(b, 0, x, 3, 2);\n",
    "// Copies from array b to array x\n",
    "// Starts copying from position 0 of b, 2 elements\n",
    "// Starts copying to position 3 of array x\n",
    "\n",
    "//Initially b is [9, 10, 11]\n",
    "// and x is [-1, 2, 5, 4, 99]\n",
    "\n",
    "//After the copy, x is [-1, 2, 5, 9, 10]"
   ]
  },
  {
   "cell_type": "markdown",
   "metadata": {},
   "source": [
    "## Arraycopy"
   ]
  },
  {
   "cell_type": "markdown",
   "metadata": {},
   "source": [
    "2 ways to copy arrays:\n",
    "\n",
    "1. Item by item using a loop\n",
    "2. Using `arraycopy`. This takes 5 parameters:\n",
    "    * Source array\n",
    "    * Start position in source\n",
    "    * Target array\n",
    "    * Start position in target\n",
    "    * Number to copy\n",
    "   \n",
    "`arraycopy` is (likely to be) faster, especially for large arrays. The code is more compact. However, the code might be harder to read for some people."
   ]
  },
  {
   "cell_type": "code",
   "execution_count": null,
   "metadata": {},
   "outputs": [],
   "source": [
    "System.arraycopy(b, 0, x, 3, 2)\n",
    "//This is similar to Python code of the following:\n",
    "x[3:5] = b[0:2]"
   ]
  },
  {
   "cell_type": "markdown",
   "metadata": {},
   "source": []
  }
 ],
 "metadata": {
  "kernelspec": {
   "display_name": "Python 3",
   "language": "python",
   "name": "python3"
  },
  "language_info": {
   "codemirror_mode": {
    "name": "ipython",
    "version": 3
   },
   "file_extension": ".py",
   "mimetype": "text/x-python",
   "name": "python",
   "nbconvert_exporter": "python",
   "pygments_lexer": "ipython3",
   "version": "3.7.5"
  }
 },
 "nbformat": 4,
 "nbformat_minor": 4
}
