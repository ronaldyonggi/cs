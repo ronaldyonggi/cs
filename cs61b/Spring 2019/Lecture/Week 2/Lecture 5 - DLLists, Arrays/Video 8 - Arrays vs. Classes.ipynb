{
 "cells": [
  {
   "cell_type": "markdown",
   "metadata": {},
   "source": [
    "# Arrays vs. Classes"
   ]
  },
  {
   "cell_type": "markdown",
   "metadata": {},
   "source": [
    "Arrays and Classes can both be used to organize a bunch of memory boxes. \n",
    "\n",
    "* Both have a fixed number of boxes."
   ]
  },
  {
   "cell_type": "markdown",
   "metadata": {},
   "source": [
    "#### Classes\n",
    "Class boxes...\n",
    "* ...are accessed using dot `.` notation\n",
    "* ...may be of different types"
   ]
  },
  {
   "cell_type": "code",
   "execution_count": null,
   "metadata": {},
   "outputs": [],
   "source": [
    "public class Planet {\n",
    "    public double mass;\n",
    "    public String name;\n",
    "}\n",
    "\n",
    "Planet p = new Planet(6e24, \"earth\");"
   ]
  },
  {
   "cell_type": "markdown",
   "metadata": {},
   "source": [
    "#### Arrays\n",
    "Arrays boxes...\n",
    "* ...are accessed using `[]` notation\n",
    "* ...must all be of the same type"
   ]
  },
  {
   "cell_type": "code",
   "execution_count": null,
   "metadata": {},
   "outputs": [],
   "source": [
    "int[] x = new int[]{100, 101, 102, 103};"
   ]
  },
  {
   "cell_type": "markdown",
   "metadata": {},
   "source": [
    "Array indices can be computed at runtime.\n",
    "\n",
    "![](images/runtime.png)"
   ]
  },
  {
   "cell_type": "markdown",
   "metadata": {},
   "source": [
    "Meanwhile, Class member variable names **CANNOT** be computed and used at runtime.\n",
    "\n",
    "![](images/class.png)\n",
    "\n",
    "Dot `.` notation doesn't work either.\n",
    "\n",
    "![](images/dot.png)"
   ]
  },
  {
   "cell_type": "markdown",
   "metadata": {},
   "source": [
    "## Another View"
   ]
  },
  {
   "cell_type": "markdown",
   "metadata": {},
   "source": [
    "The only (easy) way to access a member of a class is with hard-coded dot `.` notation."
   ]
  },
  {
   "cell_type": "code",
   "execution_count": null,
   "metadata": {},
   "outputs": [],
   "source": [
    "int k = x[indexOfInterest]; // Accessing an array, this works fine\n",
    "\n",
    "double m = p.fieldOfInterest; // This won't work\n",
    "\n",
    "// double z = p[fieldOfInterest]; // This won't work either\n",
    "\n",
    "//The only way is to type out the instance variable directly\n",
    "double w = p.mass; // This works fine"
   ]
  },
  {
   "cell_type": "markdown",
   "metadata": {},
   "source": [
    "The Java compiler doesn't treat text on either side of a dot `.` as an expression, and thus it's not evaluated."
   ]
  }
 ],
 "metadata": {
  "kernelspec": {
   "display_name": "Python 3",
   "language": "python",
   "name": "python3"
  },
  "language_info": {
   "codemirror_mode": {
    "name": "ipython",
    "version": 3
   },
   "file_extension": ".py",
   "mimetype": "text/x-python",
   "name": "python",
   "nbconvert_exporter": "python",
   "pygments_lexer": "ipython3",
   "version": "3.7.4"
  }
 },
 "nbformat": 4,
 "nbformat_minor": 4
}
