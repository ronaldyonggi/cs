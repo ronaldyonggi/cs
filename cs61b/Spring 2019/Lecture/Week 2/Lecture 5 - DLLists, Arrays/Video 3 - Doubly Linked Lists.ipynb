{
 "cells": [
  {
   "cell_type": "markdown",
   "metadata": {},
   "source": [
    "## Improvement #7: `.last` and `.prev`"
   ]
  },
  {
   "cell_type": "markdown",
   "metadata": {},
   "source": [
    "Add backwards links from every node. This yields a `doubly linked list` or `DLList`, as opposed to the previously `singly linked list` or `SLList`\n",
    "\n",
    "\n",
    "![](images/prev.png)"
   ]
  },
  {
   "cell_type": "markdown",
   "metadata": {},
   "source": [
    "## Doubly Linked Lists (Naive)"
   ]
  },
  {
   "cell_type": "markdown",
   "metadata": {},
   "source": [
    "Reverse pointers allow all operations on both ends (e.g. `add`, `get`, `remove`) to be fast. However, this implementation has an annoying special case: `last` sometimes points at the `sentinel`, and sometimes points at a 'real' node.\n",
    "\n",
    "![](images/annoying.png)"
   ]
  },
  {
   "cell_type": "markdown",
   "metadata": {},
   "source": [
    "## Doubly Linked Lists (Double Sentinel)"
   ]
  },
  {
   "cell_type": "markdown",
   "metadata": {},
   "source": [
    "One solution: have 2 sentinels\n",
    "\n",
    "![](images/2sent.png)"
   ]
  },
  {
   "cell_type": "markdown",
   "metadata": {},
   "source": [
    "## Doubly Linked Lists (Circular Sentinel)"
   ]
  },
  {
   "cell_type": "markdown",
   "metadata": {},
   "source": [
    "Even a potentially better solution:\n",
    "\n",
    "![](images/circle.png)"
   ]
  },
  {
   "cell_type": "markdown",
   "metadata": {},
   "source": [
    "## Improvement #8: Fancier Sentinel Node(s)"
   ]
  },
  {
   "cell_type": "markdown",
   "metadata": {},
   "source": [
    "While fast, adding `.last` and `.prev` introduces lots of special cases (e.g. `last` sometimes points at the sentinel, and sometimes points at a 'real' node).\n",
    "\n",
    "To avoid these, either:\n",
    "1. Add an additional `sentBack` sentinel at the end of the list\n",
    "2. Make the linked list circular (highly recommended for Project 1), with a single sentinel in the middle "
   ]
  },
  {
   "cell_type": "markdown",
   "metadata": {},
   "source": [
    "## DLList Summary"
   ]
  },
  {
   "cell_type": "markdown",
   "metadata": {},
   "source": [
    "![](images/dllistsum.png)"
   ]
  },
  {
   "cell_type": "markdown",
   "metadata": {},
   "source": [
    "Our implementation still has a long way to go before reaching an industrial strength data structure  ."
   ]
  }
 ],
 "metadata": {
  "kernelspec": {
   "display_name": "Python 3",
   "language": "python",
   "name": "python3"
  },
  "language_info": {
   "codemirror_mode": {
    "name": "ipython",
    "version": 3
   },
   "file_extension": ".py",
   "mimetype": "text/x-python",
   "name": "python",
   "nbconvert_exporter": "python",
   "pygments_lexer": "ipython3",
   "version": "3.7.4"
  }
 },
 "nbformat": 4,
 "nbformat_minor": 4
}
