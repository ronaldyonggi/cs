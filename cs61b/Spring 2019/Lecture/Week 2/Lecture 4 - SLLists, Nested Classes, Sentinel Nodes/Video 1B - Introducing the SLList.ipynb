{
 "cells": [
  {
   "cell_type": "markdown",
   "metadata": {},
   "source": [
    "## What We Currently Have"
   ]
  },
  {
   "cell_type": "code",
   "execution_count": null,
   "metadata": {},
   "outputs": [],
   "source": [
    "public class IntNode{\n",
    "    public int item; //Rename first to item\n",
    "    public IntNode next; //Rename rest to next\n",
    "    \n",
    "    public IntNode(int i, IntNode n) {\n",
    "        item = i;\n",
    "        next = n;\n",
    "    }\n",
    "}"
   ]
  },
  {
   "cell_type": "markdown",
   "metadata": {},
   "source": [
    "## Improvement #2: Bureaucracy"
   ]
  },
  {
   "cell_type": "markdown",
   "metadata": {},
   "source": [
    "We'll create a `SLList` class, which might seem pointless at first. "
   ]
  },
  {
   "cell_type": "code",
   "execution_count": null,
   "metadata": {},
   "outputs": [],
   "source": [
    "/** An SLList is a list of integers that hides the truth of the nakedness within */\n",
    "public class SLList {\n",
    "    public IntNode first;\n",
    "    \n",
    "    // SLList constructor\n",
    "    public SLList(int x) {\n",
    "        first = new IntNode(x, null);\n",
    "    }\n",
    "    \n",
    "    // Main method\n",
    "    public static void main(String[] args) {\n",
    "        // Creates a list of one integer, 10\n",
    "        SLList L = new SLList(10);\n",
    "    }\n",
    "}"
   ]
  },
  {
   "cell_type": "markdown",
   "metadata": {},
   "source": [
    "Above, if we look at the `main` method,"
   ]
  },
  {
   "cell_type": "code",
   "execution_count": null,
   "metadata": {},
   "outputs": [],
   "source": [
    "SLList L = new SLList(10); // No need to specify null"
   ]
  },
  {
   "cell_type": "markdown",
   "metadata": {},
   "source": [
    "Notice that we don't need to provide `null` as the argument, unlike if we construct an `IntNode` manually,"
   ]
  },
  {
   "cell_type": "code",
   "execution_count": null,
   "metadata": {},
   "outputs": [],
   "source": [
    "IntNode L = new IntNode(10, null); // Need to specify null"
   ]
  },
  {
   "cell_type": "markdown",
   "metadata": {},
   "source": [
    "`SLList` is simpler to instantiate since we don't need to specify `null`!"
   ]
  },
  {
   "cell_type": "code",
   "execution_count": null,
   "metadata": {},
   "outputs": [],
   "source": []
  }
 ],
 "metadata": {
  "kernelspec": {
   "display_name": "Python 3",
   "language": "python",
   "name": "python3"
  },
  "language_info": {
   "codemirror_mode": {
    "name": "ipython",
    "version": 3
   },
   "file_extension": ".py",
   "mimetype": "text/x-python",
   "name": "python",
   "nbconvert_exporter": "python",
   "pygments_lexer": "ipython3",
   "version": "3.7.5"
  }
 },
 "nbformat": 4,
 "nbformat_minor": 4
}
