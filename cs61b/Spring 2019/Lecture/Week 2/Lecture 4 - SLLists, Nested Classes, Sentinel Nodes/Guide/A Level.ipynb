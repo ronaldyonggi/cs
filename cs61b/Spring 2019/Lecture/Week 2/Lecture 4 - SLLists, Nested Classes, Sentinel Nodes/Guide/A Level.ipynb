{
 "cells": [
  {
   "cell_type": "markdown",
   "metadata": {},
   "source": [
    "### 1. Osmosis"
   ]
  },
  {
   "cell_type": "code",
   "execution_count": 1,
   "metadata": {},
   "outputs": [],
   "source": [
    "public class IntList {\n",
    "    public int first;\n",
    "    public IntList rest;\n",
    "    \n",
    "    public IntList(int f, IntList r){\n",
    "        first = f;\n",
    "        rest = r;\n",
    "    }\n",
    "    \n",
    "    /** We would need to create 2 different pointers:\n",
    "    1 for this\n",
    "    1 for summing the elements that are the same */\n",
    "    public void addAdjacent() {\n",
    "        IntList pointer = this;\n",
    "        /** If the rest is null, can't advance any further */\n",
    "        if (pointer.rest == null) {\n",
    "            return;\n",
    "        }\n",
    "        \n",
    "        /** elementPointer is a pointer that is used for shifting and combining each element in\n",
    "        the IntList*/\n",
    "        IntList elementPointer = pointer;\n",
    "        \n",
    "        while (elementPointer.rest != null){\n",
    "            if (elementPointer.first = elementPointer.rest.first) {\n",
    "                elementPointer.first = elementPointer.first * 2;\n",
    "                /** Shift the rest */\n",
    "                elementPointer.rest = elementPointer.rest.rest;\n",
    "                /** Reset the elementPointer back to the beginning */\n",
    "                elementPointer = pointer;\n",
    "            } else {\n",
    "                /** Skip the current element and check the next */\n",
    "                elementPointer = elementPointer.rest;\n",
    "            }\n",
    "        }\n",
    "    }\n",
    "}"
   ]
  },
  {
   "cell_type": "markdown",
   "metadata": {},
   "source": [
    "### 2.\n"
   ]
  },
  {
   "cell_type": "code",
   "execution_count": null,
   "metadata": {},
   "outputs": [],
   "source": [
    "public class IntList {\n",
    "\tpublic int first;\n",
    "\tpublic IntList rest;\n",
    "\n",
    "\tpublic IntList(int f, IntList r) {\n",
    "\t\tfirst = f;\n",
    "\t\trest = r;\n",
    "\t}\n",
    "\n",
    "\t/** Return the size of the list using... recursion! */\n",
    "\tpublic int size() {\n",
    "\t\tif (rest == null) {\n",
    "\t\t\treturn 1;\n",
    "\t\t}\n",
    "\t\treturn 1 + this.rest.size();\n",
    "\t}\n",
    "\n",
    "\t/** Return the size of the list using no recursion! */\n",
    "\tpublic int iterativeSize() {\n",
    "\t\tIntList p = this;\n",
    "\t\tint totalSize = 0;\n",
    "\t\twhile (p != null) {\n",
    "\t\t\ttotalSize += 1;\n",
    "\t\t\tp = p.rest;\n",
    "\t\t}\n",
    "\t\treturn totalSize;\n",
    "\t}\n",
    "\n",
    "\t/** Returns the ith item of this IntList. */\n",
    "\tpublic int get(int i) {\n",
    "\t\tif (i == 0) {\n",
    "\t\t\treturn first;\n",
    "\t\t}\n",
    "\t\treturn rest.get(i - 1);\n",
    "\t}\n",
    "\n",
    "\tpublic static void main(String[] args) {\n",
    "\t\tIntList L = new IntList(15, null);\n",
    "\t\tL = new IntList(10, L);\n",
    "\t\tL = new IntList(5, L);\n",
    "\n",
    "\t\tSystem.out.println(L.get(100));\n",
    "\t}\n",
    "} "
   ]
  }
 ],
 "metadata": {
  "kernelspec": {
   "display_name": "Java",
   "language": "java",
   "name": "java"
  },
  "language_info": {
   "codemirror_mode": "java",
   "file_extension": ".jshell",
   "mimetype": "text/x-java-source",
   "name": "Java",
   "pygments_lexer": "java",
   "version": "12.0.2+10"
  }
 },
 "nbformat": 4,
 "nbformat_minor": 4
}
