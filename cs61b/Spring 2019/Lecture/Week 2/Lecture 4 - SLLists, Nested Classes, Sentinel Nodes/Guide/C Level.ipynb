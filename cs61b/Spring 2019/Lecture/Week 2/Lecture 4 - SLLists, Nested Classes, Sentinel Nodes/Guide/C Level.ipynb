{
 "cells": [
  {
   "cell_type": "markdown",
   "metadata": {},
   "source": [
    "### 1.\n",
    "Complete the exercises from the online textbook.\n",
    "\n",
    "#### Exercise 2.2.1\n",
    "The curious reader might object and say that the `IntList` would be just as easy to use if we simply wrote an `addFirst` method. Try to write an `addFirst` method to the `IntList` class. We'll find that the resulting method is tricky as well as inefficient."
   ]
  },
  {
   "cell_type": "code",
   "execution_count": 27,
   "metadata": {},
   "outputs": [],
   "source": [
    "public class IntList {\n",
    "    public int first;\n",
    "    public IntList rest;\n",
    "    \n",
    "    public IntList (int f, IntList r) {\n",
    "        first = f;\n",
    "        rest = r;\n",
    "    }\n",
    "    \n",
    "    public void addFirst(int x){\n",
    "        this.helper(addFirstHelper(x));\n",
    "    }\n",
    "    \n",
    "    public void helper(IntList L){\n",
    "        this.rest = L.rest;\n",
    "        this.first = L.first;\n",
    "        \n",
    "    }\n",
    "    \n",
    "    public IntList addFirstHelper(int x) {\n",
    "        return new IntList(x, this);\n",
    "    }\n",
    "}"
   ]
  },
  {
   "cell_type": "markdown",
   "metadata": {},
   "source": [
    "#### The Main Problem\n",
    "The main problem with implementing `addFirst` method to `IntList` is that we can't assign to `this`."
   ]
  },
  {
   "cell_type": "code",
   "execution_count": null,
   "metadata": {},
   "outputs": [],
   "source": [
    "public void addFirst(int x){\n",
    "    // This will result in an error \"Cannot assign to 'this'\"\n",
    "    this = new IntList(x, this); \n",
    "}"
   ]
  },
  {
   "cell_type": "markdown",
   "metadata": {},
   "source": [
    "Even if we try to use a helper method, changing `this.first` and `this.rest` doesn't work either because we can't change the reference of the original `IntList`."
   ]
  },
  {
   "cell_type": "code",
   "execution_count": 32,
   "metadata": {},
   "outputs": [
    {
     "data": {
      "text/plain": [
       "4"
      ]
     },
     "execution_count": 32,
     "metadata": {},
     "output_type": "execute_result"
    }
   ],
   "source": [
    "IntList L = new IntList(3, null);\n",
    "IntList Q = L.addFirstHelper(4);\n",
    "L.helper(Q);\n",
    "L.first;"
   ]
  },
  {
   "cell_type": "code",
   "execution_count": 33,
   "metadata": {},
   "outputs": [
    {
     "data": {
      "text/plain": [
       "4"
      ]
     },
     "execution_count": 33,
     "metadata": {},
     "output_type": "execute_result"
    }
   ],
   "source": [
    "L.rest.first;"
   ]
  },
  {
   "cell_type": "markdown",
   "metadata": {},
   "source": [
    "#### Exercise 2.2.2\n",
    "Delete the word `static` as few times as possible so that the following program compiles. "
   ]
  },
  {
   "cell_type": "code",
   "execution_count": 35,
   "metadata": {},
   "outputs": [],
   "source": [
    "/** A rather contrived exercise to test your understanding of when\n",
    "    nested classes may be made static. This is NOT an example of good\n",
    "    class design, even after you fix the bug.\n",
    "\n",
    "    The challenge with this file is to delete the keyword static the\n",
    "    minimum number of times so that the code compiles.\n",
    "\n",
    "    Guess before TRYING to compile, otherwise the compiler will spoil\n",
    "    the problem.*/\n",
    "\n",
    "public class Government {\n",
    "    private int treasury = 5;\n",
    "\n",
    "    private void spend() {\n",
    "\t\ttreasury -= 1;\n",
    "\t}\n",
    "\n",
    "\tprivate void tax() {\n",
    "\t\ttreasury += 1;\n",
    "\t}\n",
    "\n",
    "\tpublic void report() {\n",
    "\t\tSystem.out.println(treasury);\n",
    "\t}\n",
    "\n",
    "\tpublic static Government greaterTreasury(Government a, Government b) {\n",
    "\t\tif (a.treasury > b.treasury) {\n",
    "\t\t\treturn a;\n",
    "\t\t}\n",
    "\t\treturn b;\n",
    "\t}\n",
    "\n",
    "\tpublic static class Peasant {\n",
    "\t\tpublic void doStuff() {\n",
    "\t\t\tSystem.out.println(\"hello\");\t\t\t\n",
    "\t\t}\n",
    "\t}\n",
    "\n",
    "    /** Remove the static from King class */\n",
    "\tpublic class King { \n",
    "\t\tpublic void doStuff() {\n",
    "\t\t\tspend();\t\t\t\n",
    "\t\t}\n",
    "\t}\n",
    "    \n",
    "    /** Remove static from Mayor class */\n",
    "\tpublic class Mayor {\n",
    "\t\tpublic void doStuff() {\n",
    "\t\t\ttax();\t\t\t\n",
    "\t\t}\n",
    "\t}\n",
    "\n",
    "    \n",
    "    /** Remove static from Accountant class */\n",
    "\tpublic class Accountant {\n",
    "\t\tpublic void doStuff() {\n",
    "\t\t\treport();\t\t\t\n",
    "\t\t}\n",
    "\t}\n",
    "\n",
    "    /** remove static from Thief class */\n",
    "\tpublic class Thief {\n",
    "\t\tpublic void doStuff() {\n",
    "\t\t\ttreasury = 0;\t\t\t\n",
    "\t\t}\n",
    "\t}\n",
    "\n",
    "\tpublic static class Explorer {\n",
    "\t\tpublic void doStuff(Government a, Government b) {\n",
    "\t\t\tGovernment favorite = Government.greaterTreasury(a, b);\n",
    "\t\t\tSystem.out.println(\"The best government has treasury \" + favorite.treasury);\t\t\t\n",
    "\t\t}\n",
    "\t}\n",
    "}"
   ]
  },
  {
   "cell_type": "markdown",
   "metadata": {},
   "source": [
    "`treasury`, `spend`, `tax`, and `report` are all non-static class members, thus can't be accessed from static context."
   ]
  },
  {
   "cell_type": "markdown",
   "metadata": {},
   "source": [
    "### 2.\n",
    "Reexplain what the sentinel node is and why it's important. Ask yourself if the code would error if the sentinel is removed. Is the sentinel a necessary component of the `IntList`?\n",
    "\n",
    "#### Answer\n",
    "Sentinel node is a node that is always present in any linked list, but isn't part of accessible linked list elements. Having a sentinel node avoids the need of implementing a special case for null linked lists.\n",
    "\n",
    "### 3.\n",
    "What is the downside of not having a size variable and rather just calculate the size each time?\n",
    "\n",
    "#### Answer\n",
    "Slow! If we calculate size each time, we would have to iterate through the whole linked list. The longer the linked list, the longer it takes to compute the size."
   ]
  },
  {
   "cell_type": "code",
   "execution_count": null,
   "metadata": {},
   "outputs": [],
   "source": []
  }
 ],
 "metadata": {
  "kernelspec": {
   "display_name": "Java",
   "language": "java",
   "name": "java"
  },
  "language_info": {
   "codemirror_mode": "java",
   "file_extension": ".jshell",
   "mimetype": "text/x-java-source",
   "name": "Java",
   "pygments_lexer": "java",
   "version": "12.0.2+10"
  }
 },
 "nbformat": 4,
 "nbformat_minor": 4
}
