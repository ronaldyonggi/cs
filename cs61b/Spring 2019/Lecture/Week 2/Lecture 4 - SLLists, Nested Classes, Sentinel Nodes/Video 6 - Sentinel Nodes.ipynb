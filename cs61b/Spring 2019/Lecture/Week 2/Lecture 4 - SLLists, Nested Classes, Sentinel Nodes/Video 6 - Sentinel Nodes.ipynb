{
 "cells": [
  {
   "cell_type": "markdown",
   "metadata": {},
   "source": [
    "## Tip For Being a Good Programmer: Keep Code Simple"
   ]
  },
  {
   "cell_type": "markdown",
   "metadata": {},
   "source": [
    "As a human programmer, we only have so much working memory.\n",
    "* We want to restrict the amount of complexity\n",
    "* Simple code is usually good code\n",
    "    * Special cases are not simple"
   ]
  },
  {
   "cell_type": "markdown",
   "metadata": {},
   "source": [
    "## `addLast`'s Fundamental Problem"
   ]
  },
  {
   "cell_type": "markdown",
   "metadata": {},
   "source": [
    "The fundamental problem is that the empty list has a `null` `first`. We can't access `first.next`!\n",
    "\n",
    "Our fix is ugly:\n",
    "1. Requires a special case\n",
    "2. More complex data structures will have many more special cases"
   ]
  },
  {
   "cell_type": "code",
   "execution_count": null,
   "metadata": {},
   "outputs": [],
   "source": [
    "public void addLast(int x){\n",
    "    size += 1;\n",
    "    if (first == null) this.addFirst(x); // Special case\n",
    "    ...\n",
    "}"
   ]
  },
  {
   "cell_type": "markdown",
   "metadata": {},
   "source": [
    "We can avoid special cases by making all `SLLists` the same."
   ]
  },
  {
   "cell_type": "markdown",
   "metadata": {},
   "source": [
    "## Improvement #6b: Representing the Empty List Using a Sentinel"
   ]
  },
  {
   "cell_type": "markdown",
   "metadata": {},
   "source": [
    "We can create a special node that's always present, called \"sentinel node\"."
   ]
  },
  {
   "cell_type": "markdown",
   "metadata": {},
   "source": [
    "![](images/sentinel.png)"
   ]
  },
  {
   "cell_type": "markdown",
   "metadata": {},
   "source": [
    "Previously in our SLList implementation, we have the following private variables,"
   ]
  },
  {
   "cell_type": "code",
   "execution_count": null,
   "metadata": {},
   "outputs": [],
   "source": [
    "private IntNode first;\n",
    "private int size;"
   ]
  },
  {
   "cell_type": "markdown",
   "metadata": {},
   "source": [
    "This time, we change the `first` to `sentinel`."
   ]
  },
  {
   "cell_type": "code",
   "execution_count": null,
   "metadata": {},
   "outputs": [],
   "source": [
    "// The first item (if it exists) is at sentinel.next\n",
    "private IntNode sentinel;"
   ]
  },
  {
   "cell_type": "markdown",
   "metadata": {},
   "source": [
    "In this case, we need to update the empty SLList constructor,"
   ]
  },
  {
   "cell_type": "code",
   "execution_count": null,
   "metadata": {},
   "outputs": [],
   "source": [
    "// Creates an empty SLList\n",
    "public SLList() {\n",
    "    sentinel = new IntNode(??, null); // What integer do we put for the sentinel??\n",
    "    size = 0;\n",
    "}"
   ]
  },
  {
   "cell_type": "markdown",
   "metadata": {},
   "source": [
    "What number do we put for the sentinel? Anything! We can put any number that we want, it doesn't matter since it's a sentinel anyway."
   ]
  },
  {
   "cell_type": "code",
   "execution_count": null,
   "metadata": {},
   "outputs": [],
   "source": [
    "// Update empty SLList constructor\n",
    "public SLList(){\n",
    "    sentinel = new IntNode(912418248124, null);\n",
    "    size = 0;\n",
    "}"
   ]
  },
  {
   "cell_type": "markdown",
   "metadata": {},
   "source": [
    "And we would need to update the 1-element SLList constructor as well!"
   ]
  },
  {
   "cell_type": "code",
   "execution_count": null,
   "metadata": {},
   "outputs": [],
   "source": [
    "// Update 1-element SLList constructor\n",
    "public SLList(int x) {\n",
    "    sentinel = new IntNode(91240129849102, null); // Start with the sentinel\n",
    "    sentinel.next = new IntNode(x, null); // Now set the node after sentinel with x\n",
    "    size = 1;\n",
    "}"
   ]
  },
  {
   "cell_type": "markdown",
   "metadata": {},
   "source": [
    "And obviously, we need to update `addFirst` since we don't want to add an element before the sentinel."
   ]
  },
  {
   "cell_type": "code",
   "execution_count": null,
   "metadata": {},
   "outputs": [],
   "source": [
    "// Update addFirst\n",
    "public void addFirst(int x) {\n",
    "    sentinel.next = new IntNode(x, sentinel.next);\n",
    "    size += 1;\n",
    "}"
   ]
  },
  {
   "cell_type": "markdown",
   "metadata": {},
   "source": [
    "And update `getFirst`, since the first element is no longer the most forefront element,"
   ]
  },
  {
   "cell_type": "code",
   "execution_count": null,
   "metadata": {},
   "outputs": [],
   "source": [
    "//Update getFirst()\n",
    "public int getFirst() {\n",
    "    return sentinel.next.item;\n",
    "}"
   ]
  },
  {
   "cell_type": "markdown",
   "metadata": {},
   "source": [
    "And finally with `addLast`, we don't need the special case anymore since the list will never be empty (`null`)."
   ]
  },
  {
   "cell_type": "code",
   "execution_count": null,
   "metadata": {},
   "outputs": [],
   "source": [
    "// Update addLast\n",
    "public void addLast(int x){\n",
    "    size += 1;\n",
    "    // if (first == null) this.addFirst(x);\n",
    "    // We don't need the special case anymore!\n",
    "    IntNode pointer = sentinel; // Change the pointer from first to sentinel\n",
    "    while (pointer.next != null) pointer = pointer.next;\n",
    "    pointer.next = new IntNode(x, null);\n",
    "}"
   ]
  },
  {
   "cell_type": "markdown",
   "metadata": {},
   "source": [
    "At first, it might seem that this implementation is more tedious since we had to update many methods. However, we will see that this implementation is more useful in larger systems.\n",
    "\n",
    "Thus, now we have the following SLList,"
   ]
  },
  {
   "cell_type": "code",
   "execution_count": 5,
   "metadata": {},
   "outputs": [],
   "source": [
    "public class SLList {\n",
    "    // Nested private class IntNode, static since it doesn't use anything outside the class\n",
    "    private static class IntNode{\n",
    "        public int item;\n",
    "        public IntNode next;\n",
    "        \n",
    "        public IntNode (int i, IntNode n) {\n",
    "            item = i;\n",
    "            next = n;\n",
    "        }\n",
    "    }\n",
    "    \n",
    "    // Private variables, can't be modified directly, has to be changed via provided methods\n",
    "    private IntNode sentinel;\n",
    "    private int size;\n",
    "    \n",
    "    // Empty list constructor\n",
    "    public SLList() {\n",
    "        sentinel = new IntNode(-23, null);\n",
    "        size = 0;\n",
    "    }       \n",
    "    \n",
    "    // 1-element SLList constructor\n",
    "    public SLList(int x) {\n",
    "        sentinel = new IntNode(-23, null); // Start with the sentinel\n",
    "        sentinel.next = new IntNode(x, null); // Now set the node after sentinel with x\n",
    "        size = 1;\n",
    "    }\n",
    "    \n",
    "    // Add x to the front of the list\n",
    "    public void addFirst(int x) {\n",
    "        sentinel.next = new IntNode(x, sentinel.next);\n",
    "        size += 1;\n",
    "    }\n",
    "    \n",
    "    // Get the first element of the list\n",
    "    public int getFirst() {\n",
    "        return sentinel.next.item;\n",
    "    }\n",
    "    \n",
    "    // Add x to the end of the list\n",
    "    public void addLast(int x){\n",
    "        size += 1;\n",
    "        IntNode pointer = sentinel; // Change the pointer from first to sentinel\n",
    "        while (pointer.next != null) pointer = pointer.next;\n",
    "        pointer.next = new IntNode(x, null);\n",
    "    }\n",
    "    \n",
    "    // Returns the size of the list\n",
    "    public int size() {return size;}\n",
    "}"
   ]
  },
  {
   "cell_type": "code",
   "execution_count": 7,
   "metadata": {},
   "outputs": [
    {
     "data": {
      "text/plain": [
       "1"
      ]
     },
     "execution_count": 7,
     "metadata": {},
     "output_type": "execute_result"
    }
   ],
   "source": [
    "SLList L = new SLList();\n",
    "L.addLast(20);\n",
    "L.size();"
   ]
  },
  {
   "cell_type": "markdown",
   "metadata": {},
   "source": [
    "## Sentinel Node"
   ]
  },
  {
   "cell_type": "markdown",
   "metadata": {},
   "source": [
    "The sentinel node is always present.\n",
    "1. Rename `first` to `sentinel`\n",
    "2. `sentinel` is never null, always point to `sentinel` node\n",
    "3. `sentinel` node's `item` needs to be some integer, but doesn't matter what value it contains\n",
    "4. Had to update constructors and methods to be compatible with sentinel nodes"
   ]
  },
  {
   "cell_type": "markdown",
   "metadata": {},
   "source": [
    "## `addLast` (with Sentinel Node)"
   ]
  },
  {
   "cell_type": "markdown",
   "metadata": {},
   "source": [
    "Bottom line: Having a sentinel simplifies the `addLast` method. No need for a special case to check if the list is `null` (since it will never be null because the `sentinel` is always present)\n",
    "\n",
    "![](images/special.png)"
   ]
  },
  {
   "cell_type": "code",
   "execution_count": null,
   "metadata": {},
   "outputs": [],
   "source": []
  }
 ],
 "metadata": {
  "kernelspec": {
   "display_name": "Python 3",
   "language": "python",
   "name": "python3"
  },
  "language_info": {
   "codemirror_mode": {
    "name": "ipython",
    "version": 3
   },
   "file_extension": ".py",
   "mimetype": "text/x-python",
   "name": "python",
   "nbconvert_exporter": "python",
   "pygments_lexer": "ipython3",
   "version": "3.7.5"
  }
 },
 "nbformat": 4,
 "nbformat_minor": 4
}
