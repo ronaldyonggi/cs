{
 "cells": [
  {
   "cell_type": "markdown",
   "metadata": {},
   "source": [
    "## What We Have So Far"
   ]
  },
  {
   "cell_type": "code",
   "execution_count": 1,
   "metadata": {},
   "outputs": [
    {
     "ename": "SyntaxError",
     "evalue": "invalid syntax (<ipython-input-1-a16482faf939>, line 1)",
     "output_type": "error",
     "traceback": [
      "\u001b[0;36m  File \u001b[0;32m\"<ipython-input-1-a16482faf939>\"\u001b[0;36m, line \u001b[0;32m1\u001b[0m\n\u001b[0;31m    public class IntNode{\u001b[0m\n\u001b[0m               ^\u001b[0m\n\u001b[0;31mSyntaxError\u001b[0m\u001b[0;31m:\u001b[0m invalid syntax\n"
     ]
    }
   ],
   "source": [
    "public class IntNode{\n",
    "    public int item; //Rename first to item\n",
    "    public IntNode next; //Rename rest to next\n",
    "    \n",
    "    public IntNode(int i, IntNode n) {\n",
    "        item = i;\n",
    "        next = n;\n",
    "    }\n",
    "}"
   ]
  },
  {
   "cell_type": "code",
   "execution_count": 2,
   "metadata": {},
   "outputs": [],
   "source": [
    "// An SLList is a list of integers that hides the truth of the nakedness within\n",
    "public class SLList {\n",
    "    public IntNode first;\n",
    "    \n",
    "    // SLList constructor\n",
    "    public SLList(int x) {\n",
    "        first = new IntNode(x, null);\n",
    "    }\n",
    "    \n",
    "    // Main method\n",
    "    public static void main(String[] args) {\n",
    "        // Creates a list of one integer, 10\n",
    "        SLList L = new SLList(10);\n",
    "    }\n",
    "}"
   ]
  },
  {
   "cell_type": "markdown",
   "metadata": {},
   "source": [
    "# The Basic SLList and Helper IntNode Class"
   ]
  },
  {
   "cell_type": "markdown",
   "metadata": {},
   "source": [
    "## `addFirst`"
   ]
  },
  {
   "cell_type": "markdown",
   "metadata": {},
   "source": [
    "For `addFirst` method, redeclare `first` by creating a new instance of `IntNode(x, first)`. This way, the first element of the SLList is now `x`, while the current `first` is shifted to the back."
   ]
  },
  {
   "cell_type": "code",
   "execution_count": 3,
   "metadata": {},
   "outputs": [],
   "source": [
    "// Place this method inside the SLList class!\n",
    "\n",
    "// Adds x to the front of the list\n",
    "public void addFirst(int x) {\n",
    "    first = new IntNode(x, first); // \n",
    "}"
   ]
  },
  {
   "cell_type": "markdown",
   "metadata": {},
   "source": [
    "## `getFirst`"
   ]
  },
  {
   "cell_type": "markdown",
   "metadata": {},
   "source": [
    "Recall `IntNode` class has instance variables `item` and `next`, while `SLList` class has instance variable `first`. Since `first` is an `IntNode` object, we simply access `first`'s `item`."
   ]
  },
  {
   "cell_type": "code",
   "execution_count": null,
   "metadata": {},
   "outputs": [],
   "source": [
    "// Place this method inside the SLList class!\n",
    "\n",
    "// Returns the first item in the list\n",
    "public int getFirst() {\n",
    "    return first.item;\n",
    "}"
   ]
  },
  {
   "cell_type": "markdown",
   "metadata": {},
   "source": [
    "Thus, now we have the following for `SLList`,"
   ]
  },
  {
   "cell_type": "code",
   "execution_count": 4,
   "metadata": {},
   "outputs": [],
   "source": [
    "// An SLList is a list of integers that hides the truth of the nakedness within\n",
    "public class SLList {\n",
    "    public IntNode first;\n",
    "    \n",
    "    // SLList constructor\n",
    "    public SLList(int x) {\n",
    "        first = new IntNode(x, null);\n",
    "    }\n",
    "    \n",
    "    // Adds x to the front of the list\n",
    "    public void addFirst(int x) {\n",
    "        first = new IntNode(x, first);\n",
    "    }\n",
    "    \n",
    "    // Returns the first item in the list\n",
    "    public int getFirst() {\n",
    "        return first.item;\n",
    "    }\n",
    "}"
   ]
  },
  {
   "cell_type": "markdown",
   "metadata": {},
   "source": [
    "Let's test the implementation!"
   ]
  },
  {
   "cell_type": "code",
   "execution_count": 6,
   "metadata": {},
   "outputs": [
    {
     "name": "stdout",
     "output_type": "stream",
     "text": [
      "5\n"
     ]
    }
   ],
   "source": [
    "// Test the implementation!\n",
    "SLList L = new SLList(15);\n",
    "L.addFirst(10);\n",
    "L.addFirst(5);\n",
    "System.out.println(L.getFirst()); // Should print out 5"
   ]
  },
  {
   "cell_type": "markdown",
   "metadata": {},
   "source": [
    "## SLLists vs. IntLists"
   ]
  },
  {
   "cell_type": "markdown",
   "metadata": {},
   "source": [
    "If we compare the usage of `SLList` and `IntList`,"
   ]
  },
  {
   "cell_type": "code",
   "execution_count": null,
   "metadata": {},
   "outputs": [],
   "source": [
    "// SLList usage\n",
    "SLList L = new SLList(15);\n",
    "L.addFirst(10);\n",
    "L.addFirst(5);\n",
    "int x = L.getFirst();\n",
    "\n",
    "// IntList usage - naked recursive data structure\n",
    "IntList L = new IntList(15, null);\n",
    "L = new IntList(L, 10);\n",
    "L = new IntList(L, 5);\n",
    "int x = L.first;"
   ]
  },
  {
   "cell_type": "markdown",
   "metadata": {},
   "source": [
    "While functional, \"naked\" linked lists (e.g. `IntList` class) are harder to use.\n",
    "* Users of `IntLit` need to know Java references well and be able to think recursively\n",
    "* In the eyes of novice programmers, `SLList` is simpler to use:\n",
    "    * Simply use the provided methods\n",
    "* Why not we just add `addFirst` method to the `IntList` class?\n",
    "    * There is no efficient way to do this."
   ]
  },
  {
   "cell_type": "markdown",
   "metadata": {},
   "source": [
    "## Visualization: Naked Linked Lists (`IntList`) vs. `SLList`"
   ]
  },
  {
   "cell_type": "markdown",
   "metadata": {},
   "source": [
    "In box and pointer diagram, a naked linked list (naked recursion) can be represented as the following,\n",
    "\n",
    "![](images/naked.png)"
   ]
  },
  {
   "cell_type": "markdown",
   "metadata": {},
   "source": [
    "Above, we see that the variables `L1` and `L2` are directly pointing to the middle of the `IntList`, which is the naked data structure. This requires the user to understand recursion. Meanwhile, for SLList,\n",
    "\n",
    "![](images/SLList.png)"
   ]
  },
  {
   "cell_type": "markdown",
   "metadata": {},
   "source": [
    "There is a \"middleman\" between the user and raw data structure, which is `first`!"
   ]
  }
 ],
 "metadata": {
  "kernelspec": {
   "display_name": "Python 3",
   "language": "python",
   "name": "python3"
  },
  "language_info": {
   "codemirror_mode": {
    "name": "ipython",
    "version": 3
   },
   "file_extension": ".py",
   "mimetype": "text/x-python",
   "name": "python",
   "nbconvert_exporter": "python",
   "pygments_lexer": "ipython3",
   "version": "3.7.5"
  }
 },
 "nbformat": 4,
 "nbformat_minor": 4
}
