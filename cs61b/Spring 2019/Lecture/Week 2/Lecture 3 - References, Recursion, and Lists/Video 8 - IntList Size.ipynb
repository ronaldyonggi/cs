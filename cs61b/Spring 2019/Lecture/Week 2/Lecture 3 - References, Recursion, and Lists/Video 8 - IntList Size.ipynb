{
 "cells": [
  {
   "cell_type": "code",
   "execution_count": 1,
   "metadata": {},
   "outputs": [],
   "source": [
    "public class IntList {\n",
    "    public int first;\n",
    "    public IntList rest;\n",
    "    \n",
    "    public IntList(int f, IntList r){\n",
    "        first = f;\n",
    "        rest = r;\n",
    "    }\n",
    "}"
   ]
  },
  {
   "cell_type": "markdown",
   "metadata": {},
   "source": [
    "# IntList Size"
   ]
  },
  {
   "cell_type": "markdown",
   "metadata": {},
   "source": [
    "The `IntList` class that we have built so far technically is enough. However, it might feel somewhat awkward to use. "
   ]
  },
  {
   "cell_type": "code",
   "execution_count": null,
   "metadata": {},
   "outputs": [],
   "source": [
    "IntList L = new IntList(15, null);\n",
    "L = new IntList(10, L);\n",
    "L = new IntList(5, L);"
   ]
  },
  {
   "cell_type": "markdown",
   "metadata": {},
   "source": [
    "With this `IntList` implementation, getting the `ith` element of the list or getting the size of the list would be difficult. For this purpose, we'll implement a `size()` method that returns the size of an `IntList` using recursive calls. We could technically use a loop for the `size()` method, but a loop is considered inefficient!  \n",
    "\n",
    "The `size()` method works like the built-in `len()` function in Python."
   ]
  },
  {
   "cell_type": "code",
   "execution_count": 2,
   "metadata": {},
   "outputs": [
    {
     "name": "stdout",
     "output_type": "stream",
     "text": [
      "3\n"
     ]
    }
   ],
   "source": [
    "x = [1, 2, 3]\n",
    "print(len(x))"
   ]
  },
  {
   "cell_type": "markdown",
   "metadata": {},
   "source": [
    "This `size()` method should be written inside the `IntList` class. "
   ]
  },
  {
   "cell_type": "code",
   "execution_count": null,
   "metadata": {},
   "outputs": [],
   "source": [
    "public int size() {\n",
    "    if (rest == null) { // If we reach a list where the rest is null, then we've reached the end\n",
    "        return 1;\n",
    "    } else {\n",
    "        return 1 + this.rest.size(); // 'this' refers to the current IntList instance\n",
    "    }\n",
    "}"
   ]
  },
  {
   "cell_type": "markdown",
   "metadata": {},
   "source": [
    "Therefore, our `IntList` implementation would look like the following,"
   ]
  },
  {
   "cell_type": "code",
   "execution_count": 2,
   "metadata": {},
   "outputs": [],
   "source": [
    "public class IntList {\n",
    "    public int first;\n",
    "    public IntList rest;\n",
    "    \n",
    "    //IntList Constructor\n",
    "    public IntList(int f, IntList r){\n",
    "        first = f;\n",
    "        rest = r;\n",
    "    }\n",
    "    \n",
    "    //IntList size() method, returns the size of an IntList using recursion\n",
    "    public int size() {\n",
    "        if (rest == null) { // If we reach a list where the rest is null, then we've reached the end\n",
    "            return 1;\n",
    "        } else {\n",
    "            return 1 + this.rest.size(); // 'this' refers to the current IntList instance\n",
    "        }\n",
    "    }\n",
    "}"
   ]
  },
  {
   "cell_type": "markdown",
   "metadata": {},
   "source": [
    "Let's test the implementation above and see if the method is working properly!"
   ]
  },
  {
   "cell_type": "code",
   "execution_count": 3,
   "metadata": {},
   "outputs": [
    {
     "name": "stdout",
     "output_type": "stream",
     "text": [
      "3\n"
     ]
    }
   ],
   "source": [
    "IntList L = new IntList(15, null);\n",
    "L = new IntList(10, L);\n",
    "L = new IntList(5, L);\n",
    "System.out.println(L.size());"
   ]
  },
  {
   "cell_type": "markdown",
   "metadata": {},
   "source": [
    "It works! "
   ]
  }
 ],
 "metadata": {
  "kernelspec": {
   "display_name": "Python 3",
   "language": "python",
   "name": "python3"
  },
  "language_info": {
   "codemirror_mode": {
    "name": "ipython",
    "version": 3
   },
   "file_extension": ".py",
   "mimetype": "text/x-python",
   "name": "python",
   "nbconvert_exporter": "python",
   "pygments_lexer": "ipython3",
   "version": "3.7.5"
  }
 },
 "nbformat": 4,
 "nbformat_minor": 4
}
