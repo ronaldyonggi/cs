{
 "cells": [
  {
   "cell_type": "markdown",
   "metadata": {},
   "source": [
    "# Exercises\n",
    "\n",
    "## C Level\n",
    "\n",
    "### 1.\n",
    "Complete the exercises from the [online textbook](https://joshhug.gitbooks.io/hug61b/content/chap2/chap21.html)\n",
    "\n",
    "**Exercise 2.1.1 done in Video 5 notebook**\n",
    "\n",
    "#### `size` method"
   ]
  },
  {
   "cell_type": "code",
   "execution_count": null,
   "metadata": {},
   "outputs": [],
   "source": [
    "/** Returns the size of a list using... recursion! */\n",
    "public int size() {\n",
    "    if (rest == null) {\n",
    "        return 1;\n",
    "    }\n",
    "    return 1 + this.rest.size();\n",
    "}\n"
   ]
  },
  {
   "cell_type": "markdown",
   "metadata": {},
   "source": [
    "We might wonder why we don't do something like,"
   ]
  },
  {
   "cell_type": "code",
   "execution_count": null,
   "metadata": {},
   "outputs": [],
   "source": [
    "if (this == null) {\n",
    "    return 0;\n",
    "}"
   ]
  },
  {
   "cell_type": "markdown",
   "metadata": {},
   "source": [
    "Why wouldn't this work?\n",
    "\n",
    "**Ans**: We are calling the the `size` method on a object, e.g. `L.size()`. If `L` was null, we're calling `null.size()`, which wouldn't work and thus results in an error!\n",
    "\n",
    "#### `get(int i)`\n",
    "Write a method `get(int i)` that returns the ith item of the list. For example,"
   ]
  },
  {
   "cell_type": "code",
   "execution_count": null,
   "metadata": {},
   "outputs": [],
   "source": [
    "// If L is 5 -> 10 -> 15, then\n",
    "L.get(0) // returns 5\n",
    "L.get(1) // returns 10\n",
    "L.get(2) // returns 15"
   ]
  },
  {
   "cell_type": "code",
   "execution_count": null,
   "metadata": {},
   "outputs": [],
   "source": [
    "// Using a pointer and while loop\n",
    "public int get(int i){\n",
    "    IntList pointer = L\n",
    "    while (i > 0) {\n",
    "        pointer = pointer.rest;\n",
    "        i = i - 1;\n",
    "    }\n",
    "    return pointer.first\n",
    "}\n",
    "\n",
    "// Using recursion\n",
    "public int get(int i){\n",
    "    if (i == 0){\n",
    "        return first;\n",
    "    }\n",
    "    return rest.get(i - 1);\n",
    "}"
   ]
  },
  {
   "cell_type": "markdown",
   "metadata": {},
   "source": [
    "### 2.\n",
    "If doubles are more versatile than ints, why don't we always use them? Are there any disadvantages to doing this?\n",
    "\n",
    "**Ans**:\n",
    "`int` takes less memory than `double`. `ints` are 32 bit primitives, while `doubles` are 64 bit primitives.\n",
    "\n",
    "### 3.\n",
    "How much does the memory cost differ between the storing of an address of a 32 entry `int` array and a 300 entry `int` array?\n",
    "\n",
    "**Ans**. None. Storing an address costs 64 bits, and either one costs the same, 64 bits."
   ]
  },
  {
   "cell_type": "markdown",
   "metadata": {},
   "source": [
    "## B Level\n",
    "\n",
    "### 1.\n",
    "Rewrite the `size`, `iterativeSize`, and `get` methods from lecture by using the following starter code."
   ]
  },
  {
   "cell_type": "code",
   "execution_count": 2,
   "metadata": {},
   "outputs": [],
   "source": [
    "public class IntList {\n",
    "    public int first;\n",
    "    public IntList rest;\n",
    "    \n",
    "    public IntList(int f, IntList r) {\n",
    "        first = f;\n",
    "        rest = r;\n",
    "    }\n",
    "    \n",
    "    /** Returns the size of the list using recursion */\n",
    "    public int size() {\n",
    "        if (rest == null){\n",
    "            return 1;\n",
    "        }\n",
    "        return 1 + rest.size();\n",
    "    }\n",
    "    \n",
    "    /** Returns the size of the list using no recursion */\n",
    "    public int iterativeSize() {\n",
    "        IntList pointer = this;\n",
    "        int size = 1; // Assume that the list contains at least one element\n",
    "        while (pointer.rest != null) {\n",
    "            pointer = pointer.rest;\n",
    "            size += 1;\n",
    "        }\n",
    "        return size;\n",
    "    }\n",
    "    \n",
    "    /** Returns the ith value in this list */\n",
    "    public int get(int i) {\n",
    "        if (i == 0) {\n",
    "            return first;\n",
    "        }\n",
    "        return rest.get(i - 1);\n",
    "    }\n",
    "}"
   ]
  },
  {
   "cell_type": "code",
   "execution_count": 6,
   "metadata": {},
   "outputs": [
    {
     "data": {
      "text/plain": [
       "15"
      ]
     },
     "execution_count": 6,
     "metadata": {},
     "output_type": "execute_result"
    }
   ],
   "source": [
    "IntList L = new IntList(15, null);\n",
    "L = new IntList(10, L);\n",
    "L.get(1);"
   ]
  },
  {
   "cell_type": "markdown",
   "metadata": {},
   "source": [
    "## 2\n",
    "Write methods `incrList` and `dincrList`!\n",
    "\n",
    "**Done in Video 10 Notebook**"
   ]
  },
  {
   "cell_type": "code",
   "execution_count": null,
   "metadata": {},
   "outputs": [],
   "source": []
  }
 ],
 "metadata": {
  "kernelspec": {
   "display_name": "Java",
   "language": "java",
   "name": "java"
  },
  "language_info": {
   "codemirror_mode": "java",
   "file_extension": ".jshell",
   "mimetype": "text/x-java-source",
   "name": "Java",
   "pygments_lexer": "java",
   "version": "12.0.2+10"
  }
 },
 "nbformat": 4,
 "nbformat_minor": 4
}
