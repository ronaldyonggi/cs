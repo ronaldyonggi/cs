{
 "cells": [
  {
   "cell_type": "markdown",
   "metadata": {},
   "source": [
    "# Parameter Passing"
   ]
  },
  {
   "cell_type": "markdown",
   "metadata": {},
   "source": [
    "Now we'll go over what happens when we pass parameters to methods."
   ]
  },
  {
   "cell_type": "markdown",
   "metadata": {},
   "source": [
    "## The Golden Rule of Equals (and Parameter Passing)"
   ]
  },
  {
   "cell_type": "markdown",
   "metadata": {},
   "source": [
    "Recall the Golden Rule of Equals:\n",
    "\n",
    "\"Given variables `a` and `b`, the statement `b = a` **COPIES** all the bits from `a` into `b`. \n",
    "\n",
    "Passing parameters obeys the same rule: simply *COPY THE BITS** to the new scope.\n",
    "\n",
    "For example, we have the following method called `average`, which calculates the average of 2 doubles."
   ]
  },
  {
   "cell_type": "code",
   "execution_count": null,
   "metadata": {},
   "outputs": [],
   "source": [
    "public static double average(double a, double b) {\n",
    "    return (a + b) / 2;\n",
    "}"
   ]
  },
  {
   "cell_type": "markdown",
   "metadata": {},
   "source": [
    "And as the `void main` method, if we have the following,"
   ]
  },
  {
   "cell_type": "code",
   "execution_count": null,
   "metadata": {},
   "outputs": [],
   "source": [
    "double x = 5.5;\n",
    "double y = 10.5;\n",
    "double avg = average(x, y);"
   ]
  },
  {
   "cell_type": "markdown",
   "metadata": {},
   "source": [
    "For the first 2 lines of the execution above, Java creates the 64 bits boxes for both `x` and `y`,\n",
    "\n",
    "![](images/main.png)"
   ]
  },
  {
   "cell_type": "markdown",
   "metadata": {},
   "source": [
    "When Java calls the `avg` method, Java copies the bits in `x` and `y` to the variables `a` and `b` in the local scope of the `average` method.\n",
    "\n",
    "![](images/average.png)"
   ]
  },
  {
   "cell_type": "markdown",
   "metadata": {},
   "source": [
    "This **copy the bits** method is also called **pass by value**. In Java, we always **pass by value**, which means **copy the bits**. "
   ]
  },
  {
   "cell_type": "markdown",
   "metadata": {},
   "source": [
    "## The Golden Rule: Summary"
   ]
  },
  {
   "cell_type": "markdown",
   "metadata": {},
   "source": [
    "There are 9 types of variables in Java:\n",
    "* 8 primitive types: `byte`, `short`, `int`, `long`, `float`, `double`, `boolean`, `char`\n",
    "* References to Objects (e.g. `Walrus`, `Planet`, `Dog`).\n",
    "    * Can think of references as arrows.\n",
    "    * References may also be null\n",
    "    \n",
    "In box-and-pointer notation, each variable is drawn as a labeled box and values are shown in the box. Addresses are represented by arrows to object instances.\n",
    "\n",
    "![](images/review.png)"
   ]
  },
  {
   "cell_type": "markdown",
   "metadata": {},
   "source": [
    "The golden rule:\n",
    "* `b = a` copies the bits from `a` to `b`\n",
    "* Passing parameters copies te bits"
   ]
  }
 ],
 "metadata": {
  "kernelspec": {
   "display_name": "Python 3",
   "language": "python",
   "name": "python3"
  },
  "language_info": {
   "codemirror_mode": {
    "name": "ipython",
    "version": 3
   },
   "file_extension": ".py",
   "mimetype": "text/x-python",
   "name": "python",
   "nbconvert_exporter": "python",
   "pygments_lexer": "ipython3",
   "version": "3.7.4"
  }
 },
 "nbformat": 4,
 "nbformat_minor": 4
}
