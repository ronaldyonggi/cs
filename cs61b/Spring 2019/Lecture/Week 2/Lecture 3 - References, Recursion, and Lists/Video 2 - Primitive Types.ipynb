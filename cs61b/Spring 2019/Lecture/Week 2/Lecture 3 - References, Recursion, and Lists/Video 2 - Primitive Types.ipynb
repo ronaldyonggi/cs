{
 "cells": [
  {
   "cell_type": "markdown",
   "metadata": {},
   "source": [
    "# Primitive Types"
   ]
  },
  {
   "cell_type": "markdown",
   "metadata": {},
   "source": [
    "## Bits"
   ]
  },
  {
   "cell_type": "markdown",
   "metadata": {},
   "source": [
    "Computers store information in `memory` as a sequence of `0` and `1`. Some examples:\n",
    "* `72` is stored as `01001000`\n",
    "* `205.75` is stored as `01000011 01001101 11000000 00000000`\n",
    "* The letter `H` is stored as `01001000` (same as the number `72`)\n",
    "* `True` is stored as `00000001`\n",
    "\n",
    "Each Java type has a different way to interpret bits:\n",
    "* 8 primitive types in Java: `byte`, `short`, `int`, `long`, `float`, `double`, `boolean`, `char`\n",
    "* Precise representations will be covered in more details in CS61C\n",
    "* Note: Precies representations may vary from machine to machine"
   ]
  },
  {
   "cell_type": "markdown",
   "metadata": {},
   "source": [
    "## Declaring a Variable (Simplified)"
   ]
  },
  {
   "cell_type": "markdown",
   "metadata": {},
   "source": [
    "When we declare a variable of a certain type in Java (e.g. `int x;`, `double y;`):\n",
    "* The computer sets aside exactly enough bits to hold a thing of that type. Some examples, declaring...\n",
    "    * ...an `int` sets aside a \"box\" of 32 bits\n",
    "    * ...a `double` sets aside a box of 64 bits\n",
    "* Java then creates an internal table that maps each variable name to a location\n",
    "    * But Java has not written anything into these boxes\n",
    "    * For safety, Java won't let \n",
    "\n",
    "For visualization purpose:\n",
    "\n",
    "When we declare `int x` and `double y`, Java sets aside a box of 32 bits for the `int` and a box of 64 bits for the `double`. \n",
    "\n",
    "![](images/boxes.png)\n"
   ]
  },
  {
   "cell_type": "markdown",
   "metadata": {},
   "source": [
    "Then when we assign `x` and `y` as the following,"
   ]
  },
  {
   "cell_type": "code",
   "execution_count": null,
   "metadata": {},
   "outputs": [],
   "source": [
    "x = -1431195969;\n",
    "y = 567213.112;"
   ]
  },
  {
   "cell_type": "markdown",
   "metadata": {},
   "source": [
    "Java fills the box `x` with a 32 bits equivalent to the number `-1431195969` and the box `y` with a 64 bits equivalent to the assigned number.\n",
    "\n",
    "![](images/filled.png)"
   ]
  },
  {
   "cell_type": "markdown",
   "metadata": {},
   "source": [
    "## Simplified Box Notation"
   ]
  },
  {
   "cell_type": "markdown",
   "metadata": {},
   "source": [
    "In this class, we'll use **simplified box notation**. Instead of writing memory box contents in binary, we write them in human readable symbols.\n",
    "\n",
    "![](images/simplified.png)"
   ]
  },
  {
   "cell_type": "markdown",
   "metadata": {},
   "source": [
    "## The Golden Rule of Equals (GRoE)"
   ]
  },
  {
   "cell_type": "markdown",
   "metadata": {},
   "source": [
    "The **golden rule of equals** is that an equal `=` statement assigns something with bits.\n",
    "\n",
    "Given variables `y` and `x`, the statement `y = x` means **COPY ALL THE BITS** from `x` into `y`\n",
    "\n",
    "![](images/x.png)\n",
    "\n",
    "The contents of the box `x` is copied to `y`, but they are not the same contents!"
   ]
  },
  {
   "cell_type": "code",
   "execution_count": null,
   "metadata": {},
   "outputs": [],
   "source": []
  }
 ],
 "metadata": {
  "kernelspec": {
   "display_name": "Python 3",
   "language": "python",
   "name": "python3"
  },
  "language_info": {
   "codemirror_mode": {
    "name": "ipython",
    "version": 3
   },
   "file_extension": ".py",
   "mimetype": "text/x-python",
   "name": "python",
   "nbconvert_exporter": "python",
   "pygments_lexer": "ipython3",
   "version": "3.7.5"
  }
 },
 "nbformat": 4,
 "nbformat_minor": 4
}
