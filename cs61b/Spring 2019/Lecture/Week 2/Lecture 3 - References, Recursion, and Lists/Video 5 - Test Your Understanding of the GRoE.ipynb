{
 "cells": [
  {
   "cell_type": "code",
   "execution_count": 1,
   "metadata": {},
   "outputs": [],
   "source": [
    "public class Walrus{\n",
    "    public int weight;\n",
    "    public double tuskSize;\n",
    "    \n",
    "    public Walrus(int W, double ts){\n",
    "        weight = W;\n",
    "        tuskSize = ts;\n",
    "    }\n",
    "    \n",
    "    public String toString(){\n",
    "        return String.format(\"weight: %d, tusk size = %.2f\", weight, tuskSize);\n",
    "    }\n",
    "}"
   ]
  },
  {
   "cell_type": "markdown",
   "metadata": {},
   "source": [
    "# Test Your Understanding of the GRoE"
   ]
  },
  {
   "cell_type": "code",
   "execution_count": 2,
   "metadata": {},
   "outputs": [],
   "source": [
    "public static void doStuff(Walrus W, int x) {\n",
    "    W.weight = W.weight - 100;\n",
    "    x = x - 5;\n",
    "}"
   ]
  },
  {
   "cell_type": "code",
   "execution_count": null,
   "metadata": {},
   "outputs": [],
   "source": [
    "// Assume the code below are inside the main method\n",
    "Walrus walrus = new Walrus(3500, 10.5);\n",
    "int x = 9;\n",
    "doStuff(walrus, x);\n",
    "System.out.println(walrus);\n",
    "System.out.println(x);"
   ]
  },
  {
   "cell_type": "markdown",
   "metadata": {},
   "source": [
    "Does the call to `doStuff(walrus, x)` have an effect on `walrus` and/or main's`x`?\n",
    "\n",
    "Choose 1 correct statement of the following:\n",
    "1. Neither will change\n",
    "2. `walrus` will lose 100 lbs, but main's `x` will not change\n",
    "3. `walrus` will not change, but main's `x` will decrease by 5\n",
    "4. Both will decrease\n",
    "\n",
    "Answer: `B`\n",
    "\n",
    "Recall from the previous video regarding passing parameters.\n",
    "1. With a reference type (e.g. `walrus`) the address is copied\n",
    "    * This is why changes within the `doStuff` scope affects the `walrus`\n",
    "2. With a primitive type (e.g. `x`), the bits is copied\n",
    "    * The `x` in `doStuff` scope is different from `x` in the `main` method. "
   ]
  },
  {
   "cell_type": "code",
   "execution_count": null,
   "metadata": {},
   "outputs": [],
   "source": []
  }
 ],
 "metadata": {
  "kernelspec": {
   "display_name": "Python 3",
   "language": "python",
   "name": "python3"
  },
  "language_info": {
   "codemirror_mode": {
    "name": "ipython",
    "version": 3
   },
   "file_extension": ".py",
   "mimetype": "text/x-python",
   "name": "python",
   "nbconvert_exporter": "python",
   "pygments_lexer": "ipython3",
   "version": "3.7.5"
  }
 },
 "nbformat": 4,
 "nbformat_minor": 4
}
