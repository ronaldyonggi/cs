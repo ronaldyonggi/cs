{
 "cells": [
  {
   "cell_type": "markdown",
   "metadata": {},
   "source": [
    "# Instantiation of Arrays"
   ]
  },
  {
   "cell_type": "markdown",
   "metadata": {},
   "source": [
    "Instantiating arrays is similar to instantiating any other object."
   ]
  },
  {
   "cell_type": "markdown",
   "metadata": {},
   "source": [
    "## Declaration and Instantiation of Arrays"
   ]
  },
  {
   "cell_type": "markdown",
   "metadata": {},
   "source": [
    "**Arrays are also Objects**. As we've seen, objects are (usually) instantiated using the `new` keyword."
   ]
  },
  {
   "cell_type": "code",
   "execution_count": null,
   "metadata": {},
   "outputs": [],
   "source": [
    "Planet p = new Planet(0, 0, 0, 0, 0, \"blah.png\");\n",
    "int[] x = new int[]{0, 1, 2, 95, 4}"
   ]
  },
  {
   "cell_type": "markdown",
   "metadata": {},
   "source": [
    "When we state the following,"
   ]
  },
  {
   "cell_type": "code",
   "execution_count": null,
   "metadata": {},
   "outputs": [],
   "source": [
    "int[] a; // Declaration"
   ]
  },
  {
   "cell_type": "markdown",
   "metadata": {},
   "source": [
    "Above is a `declaration`, which creates a 64 bit box intended only for storing a reference / address to an `int` array. At this point, nothing has been instantiated yet.\n",
    "\n",
    "![](images/a.png)"
   ]
  },
  {
   "cell_type": "code",
   "execution_count": null,
   "metadata": {},
   "outputs": [],
   "source": [
    "new int[]{0, 1, 2, 95, 4}; // Instantiation"
   ]
  },
  {
   "cell_type": "markdown",
   "metadata": {},
   "source": [
    "Above, Java `instantiates` a new Object (in this case, an `int` array), which consists of 5 boxes, each of 32 bits. The `new` keyword returns the address of this object.\n",
    "\n",
    "![](images/array.png)"
   ]
  },
  {
   "cell_type": "markdown",
   "metadata": {},
   "source": [
    "## Assignment of Arrays"
   ]
  },
  {
   "cell_type": "markdown",
   "metadata": {},
   "source": [
    "Below is a declaration, instantiation, and assignment in a single step,"
   ]
  },
  {
   "cell_type": "code",
   "execution_count": null,
   "metadata": {},
   "outputs": [],
   "source": [
    "int[] a = new int[]{0, 1, 2, 95, 4};"
   ]
  },
  {
   "cell_type": "markdown",
   "metadata": {},
   "source": [
    "The above cell:\n",
    "1. Creates a 64 bit bit box for storing an `int` array address named `a` (declaration)\n",
    "2. Creates a new Object, in this case an `int` array (instantiation)\n",
    "3. Assign the address of the newly created Object into the 64 bit box named `a` (assignment)\n",
    "\n",
    "NOTE: Instantiated objects can be lost!\n",
    "\n",
    "If we were to reassign `a` to something else, we'd never be able to get the previous Object back!\n",
    "\n",
    "![](images/lost.png)"
   ]
  },
  {
   "cell_type": "code",
   "execution_count": null,
   "metadata": {},
   "outputs": [],
   "source": []
  }
 ],
 "metadata": {
  "kernelspec": {
   "display_name": "Python 3",
   "language": "python",
   "name": "python3"
  },
  "language_info": {
   "codemirror_mode": {
    "name": "ipython",
    "version": 3
   },
   "file_extension": ".py",
   "mimetype": "text/x-python",
   "name": "python",
   "nbconvert_exporter": "python",
   "pygments_lexer": "ipython3",
   "version": "3.7.4"
  }
 },
 "nbformat": 4,
 "nbformat_minor": 4
}
