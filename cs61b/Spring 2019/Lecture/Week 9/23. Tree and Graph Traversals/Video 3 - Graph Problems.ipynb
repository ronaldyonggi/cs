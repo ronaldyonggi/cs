{
 "cells": [
  {
   "cell_type": "markdown",
   "metadata": {},
   "source": [
    "# Graph Problems"
   ]
  },
  {
   "cell_type": "markdown",
   "metadata": {},
   "source": [
    "## Graph Queries\n",
    "\n",
    "There are many interesting questions we can ask about a graph.\n",
    "\n",
    "![](images/paris.png)\n",
    "\n",
    "* What's the shortest route from S to T? What's the longest without cycles? \n",
    "* Are there cycles?\n",
    "* Is there a tour we can take that only uses each node exactly once?\n",
    "* Is there a tour that uses each edge exactly once?"
   ]
  },
  {
   "cell_type": "markdown",
   "metadata": {},
   "source": [
    "## Graph Queries More Theoretically\n",
    "\n",
    "Some well-known graph problems and their common names:\n",
    "* **s-t Path**. Is there a path between vertices `s` and `t`?\n",
    "* **Connectivity**. Is the graph connected (e.g. is there a path between all the vertices?)\n",
    "* **Biconnectivity**. Is there a vertex whose removal disconnects the graph? (e.g. a critical, center vertex)\n",
    "* **Shortest s-t path**. What is the shortest path between vertices `s` and `t`?\n",
    "* **Cycle Detection**. Does the graph contain any cycles?\n",
    "* **Euler Tour**. Is there a cycle that uses every edge exactly once?\n",
    "* **Hamilton Tour**. Is there a cycle that uses every vertex exactly once?\n",
    "* **Planarity**. Can we draw the graph on paper without crossing edges?\n",
    "* **Isomorphism**. Are 2 graphs isomorphic (the same graph in disguise)?"
   ]
  },
  {
   "cell_type": "code",
   "execution_count": null,
   "metadata": {},
   "outputs": [],
   "source": []
  }
 ],
 "metadata": {
  "kernelspec": {
   "display_name": "Python 3",
   "language": "python",
   "name": "python3"
  },
  "language_info": {
   "codemirror_mode": {
    "name": "ipython",
    "version": 3
   },
   "file_extension": ".py",
   "mimetype": "text/x-python",
   "name": "python",
   "nbconvert_exporter": "python",
   "pygments_lexer": "ipython3",
   "version": "3.7.4"
  }
 },
 "nbformat": 4,
 "nbformat_minor": 4
}
