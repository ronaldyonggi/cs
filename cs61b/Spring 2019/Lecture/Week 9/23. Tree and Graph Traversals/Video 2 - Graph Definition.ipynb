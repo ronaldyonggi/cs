{
 "cells": [
  {
   "cell_type": "markdown",
   "metadata": {},
   "source": [
    "# Graphs"
   ]
  },
  {
   "cell_type": "markdown",
   "metadata": {},
   "source": [
    "## Trees and Hierarchical Relationships\n",
    "\n",
    "Trees are fantastic for representing strict hiearchical relationships. But not every relationship is hierarchical.\n",
    "\n",
    "For example: NYC subway map.\n",
    "\n",
    "NYC subway map is not a tree. It contains cycles!\n",
    "* More than one way to get from A to B."
   ]
  },
  {
   "cell_type": "markdown",
   "metadata": {},
   "source": [
    "## Graph Definition\n",
    "\n",
    "A graph consists of:\n",
    "* A set of nodes\n",
    "* A set of 0 or more edges (lines), each of which connects 2 nodes\n",
    "\n",
    "![](images/graph.png)\n",
    "\n",
    "A simple graph is a graph with:\n",
    "\n",
    "* No edges that connect a vertex to itself (e.g. no loops)\n",
    "* No 2 edges that connect the same vertices (e.g. no \"parallel edges\")\n",
    "\n",
    "![](images/simple.png)\n",
    "\n",
    "In 61B, **unless explicitly stated otherwise**, all graphs will be simple\n",
    "* In other words, when we say \"graph\", we mean \"simple graph\""
   ]
  },
  {
   "cell_type": "markdown",
   "metadata": {},
   "source": [
    "## Graph Types\n",
    "\n",
    "![](images/types.png)"
   ]
  },
  {
   "cell_type": "markdown",
   "metadata": {},
   "source": [
    "## Graph Terminology\n",
    "\n",
    "![](images/term.png)\n",
    "\n",
    "* Set of **vertices** a.k.a. **nodes**\n",
    "* Set of **edges**: pairs of vertices\n",
    "* Vertices with an edge between are **adjacent**\n",
    "* Optional: vertices or edges may have **labels** (or **weights**\n",
    "\n",
    "* A **path** is a sequence of vertices connected by edges\n",
    "* A **cycle** is a path whose first and last vertices are the smae\n",
    "    * A graph with a cycle is a 'cyclic'\n",
    "* 2 vertices are **connected** if there's a path between them\n",
    "    * If all vertices are connected, we say the graph is connected"
   ]
  },
  {
   "cell_type": "markdown",
   "metadata": {},
   "source": [
    "## Graph Example: Paris Metro\n",
    "\n",
    "![](images/paris.png)\n",
    "\n",
    "This schematic is a graph that is,\n",
    "* undirected\n",
    "* connected\n",
    "* cyclic (not a tree)\n",
    "* vertex-labeled (colors!)"
   ]
  },
  {
   "cell_type": "markdown",
   "metadata": {},
   "source": [
    "## Directed Graph Example\n",
    "\n",
    "![](images/directed.png)\n",
    "\n",
    "A graph of all nouns in the english language showing hyponyms relationships."
   ]
  },
  {
   "cell_type": "code",
   "execution_count": null,
   "metadata": {},
   "outputs": [],
   "source": []
  }
 ],
 "metadata": {
  "kernelspec": {
   "display_name": "Python 3",
   "language": "python",
   "name": "python3"
  },
  "language_info": {
   "codemirror_mode": {
    "name": "ipython",
    "version": 3
   },
   "file_extension": ".py",
   "mimetype": "text/x-python",
   "name": "python",
   "nbconvert_exporter": "python",
   "pygments_lexer": "ipython3",
   "version": "3.7.4"
  }
 },
 "nbformat": 4,
 "nbformat_minor": 4
}
