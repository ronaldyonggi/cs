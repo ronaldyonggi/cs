{
 "cells": [
  {
   "cell_type": "markdown",
   "metadata": {},
   "source": [
    "## Shortest Path Challenge\n",
    "\n",
    "![](images/shortest.png)\n",
    "\n",
    "Find the shortest path from `s` to all other vertices. Just give a general algorithm."
   ]
  },
  {
   "cell_type": "code",
   "execution_count": null,
   "metadata": {},
   "outputs": [],
   "source": [
    "Hint 1: visit vertices in BFS order\n",
    "Hint 2: Use some kind of data structure\n",
    "Hint 3: Don't use recursion"
   ]
  },
  {
   "cell_type": "markdown",
   "metadata": {},
   "source": [
    "## BFS (Breadth First Search) Answer\n",
    "\n",
    "## [Demo](https://docs.google.com/presentation/d/1JoYCelH4YE6IkSMq_LfTJMzJ00WxDj7rEa49gYmAtc4/edit?usp=sharing)!!\n",
    "\n",
    "Initialize a queue with a starting vertex `s`, and mark that vertex.\n",
    "* A queue is a list that has 2 operations:\n",
    "    * `enqueue` (a.k.a. `addLast`)\n",
    "    * `dequeue` (a.k.a. `removeFirst`)\n",
    "* A `queue` is the opposite of a `stack`. Stack has `push` (`addFirst`) and `pop` (`removeFirst`).\n",
    "* Let's call this queue our **fringe**\n",
    "\n",
    "Repeat until queue is empty.\n",
    "* Remove vertex `v` from the front of the queue\n",
    "* For each unmarked neighbor `n` of `v`,\n",
    "    * Mark `n`\n",
    "    * Set `edgeTo[n] = v` '\n",
    "        * (and/or `distTo[n] = distTo[v] + 1`), do this if we want to track distance value\n",
    "    * Add `n` to the end of queue"
   ]
  },
  {
   "cell_type": "code",
   "execution_count": null,
   "metadata": {},
   "outputs": [],
   "source": [
    "Think of the fringe queue as to-do list. Once we remove a\n",
    "vertex v from the fringe,\n",
    "1. Explore each neighbor of that vertex v and add them to the fringe\n",
    "2. set edgeTo[neighbor] = v\n",
    "3. set distTo[neighbor] = distTo[v] + 1"
   ]
  },
  {
   "cell_type": "markdown",
   "metadata": {},
   "source": [
    "## BreadthFirstSearch for Google Maps\n",
    "\n",
    "Would breadth first search be a good algorithm for a navigation tool (e.g. Google Maps)\n",
    "* Assume vertices are intersection and edges are roads connecting intersections\n",
    "\n",
    "##### My own answer\n",
    "Yes. By exploring the each edges (roads), the algorithm can compute possible shortest paths and alternative shortest paths.\n",
    "\n",
    "##### Lecture answer\n",
    "No! Some roads are longer and different than others (e.g. alleyway, highway, etc.)\n",
    "\n",
    "Will discuss how to deal with this in the next lecture\n",
    "* First, we should talk about how graphs are implemented in a programming language"
   ]
  },
  {
   "cell_type": "markdown",
   "metadata": {},
   "source": [
    "## Graph API\n",
    "\n",
    "To implement our graph algorithms like `BreadthFirstPaths` and `DepthFirstPaths`,  we need:\n",
    "* An API (Application Programming Interface) for graphs\n",
    "    * For our purposes, these are our Graph methods, including their signatures and behaviors\n",
    "    * Defines how Graph client programmers must think\n",
    "* An underlying data structure to represent our graphs\n",
    "\n",
    "Our choices can have profound implications on:\n",
    "* Runtime\n",
    "* Memory Usage\n",
    "* Difficulty of implementing various graph algorithms"
   ]
  },
  {
   "cell_type": "markdown",
   "metadata": {},
   "source": [
    "## Graph API Decision 1: Integer Vertices\n",
    "\n",
    "Common convention: Number of nodes irrespective of \"label\", and use number throughout the graph implementation.\n",
    "* To lookup a vertex by label, we'd need to use,"
   ]
  },
  {
   "cell_type": "code",
   "execution_count": null,
   "metadata": {},
   "outputs": [],
   "source": [
    "Map<Label, Integer>"
   ]
  },
  {
   "cell_type": "markdown",
   "metadata": {},
   "source": [
    "![](images/decision.png)"
   ]
  },
  {
   "cell_type": "markdown",
   "metadata": {},
   "source": [
    "## Graph API\n",
    "\n",
    "The Graph API from the optional textbook,"
   ]
  },
  {
   "cell_type": "code",
   "execution_count": null,
   "metadata": {},
   "outputs": [],
   "source": [
    "public class Graph {\n",
    "    public Graph(int V) // Create empty graph with v vertices\n",
    "    public void addEdge(int v, int w) // Add an edge v-w\n",
    "    Iterable<Integer> adj(int v) // Vertices adjacent to v\n",
    "    int V() // number of vertices\n",
    "    int E() // number of edges\n",
    "    ...\n",
    "}"
   ]
  },
  {
   "cell_type": "markdown",
   "metadata": {},
   "source": [
    "Some features:\n",
    "* Number of vertices must be specified in advance \n",
    "    * Once created, we can't add vertices!\n",
    "* Does not support weights (labels) on nodes or edges\n",
    "* No method for getting the number of edges a vertex has (also called its `degrees`)\n",
    "\n",
    "An example of a program we might write using graph is as the following,"
   ]
  },
  {
   "cell_type": "code",
   "execution_count": null,
   "metadata": {},
   "outputs": [],
   "source": [
    "/** degree of vertex v in graph G.\n",
    "degree = # of edges */\n",
    "public static int degree(Graph G, int v) {\n",
    "    int degree = 0;\n",
    "    for (int w : G.adj(v)) {\n",
    "        degree += 1;\n",
    "    }\n",
    "    return degree;\n",
    "}"
   ]
  },
  {
   "cell_type": "markdown",
   "metadata": {},
   "source": [
    "Let's say we have the following `Graph G`\n",
    "\n",
    "![](images/example.png)\n",
    "\n",
    "The vertex `2` has 2 edges, thus the outcome of `degree(G, 2)` is 2.\n",
    "\n",
    "## Challenge\n",
    "\n",
    "Try to write a client method called `print` that prints out a graph."
   ]
  },
  {
   "cell_type": "code",
   "execution_count": null,
   "metadata": {},
   "outputs": [],
   "source": [
    "public static void print(Graph G){\n",
    "    \n",
    "}"
   ]
  },
  {
   "cell_type": "code",
   "execution_count": null,
   "metadata": {},
   "outputs": [],
   "source": []
  }
 ],
 "metadata": {
  "kernelspec": {
   "display_name": "Python 3",
   "language": "python",
   "name": "python3"
  },
  "language_info": {
   "codemirror_mode": {
    "name": "ipython",
    "version": 3
   },
   "file_extension": ".py",
   "mimetype": "text/x-python",
   "name": "python",
   "nbconvert_exporter": "python",
   "pygments_lexer": "ipython3",
   "version": "3.7.5"
  }
 },
 "nbformat": 4,
 "nbformat_minor": 4
}
