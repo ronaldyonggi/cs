{
 "cells": [
  {
   "cell_type": "markdown",
   "metadata": {},
   "source": [
    "# 3 ... as all Trees Should Be"
   ]
  },
  {
   "cell_type": "markdown",
   "metadata": {},
   "source": [
    "Use [this](https://www.youtube.com/watch?v=bhKixY-cZHE) video to understand how insertion works, and work backwards. There are more than one way to get the same result.\n",
    "\n",
    "##### My answer\n",
    "From the current tree, subtract 8, 6, 2, 3, 5, 9, 13, 10, 12.\n",
    "\n",
    "Thus, the order we insert the numbers are the opposite: 12, 10, 13, 9, 5, 3, 2, 6, 8.\n",
    "\n",
    "## Minimum number of insertions\n",
    "From the video, we see that the earliest root split can be achieved if we keep feeding on one side (e.g. most left child or most right child). Also based on the video, the split occurs during the **6th** insertion."
   ]
  },
  {
   "cell_type": "markdown",
   "metadata": {},
   "source": [
    "## Maximum number of insertions\n",
    "From the video, at the moment we're about to add `10`, we should instead add an element that adds to the child `50` and `70`. In other words, we can stuff the root with 2 elements and the 3 children with 2 elements before we finally split the root with the next insertion. Since a 2-3 tree with 2 elements at root and 2 elements for each child has a total of 8 elements, the **maximum number of insertions possible is 8.**"
   ]
  },
  {
   "cell_type": "code",
   "execution_count": null,
   "metadata": {},
   "outputs": [],
   "source": []
  }
 ],
 "metadata": {
  "kernelspec": {
   "display_name": "Python 3",
   "language": "python",
   "name": "python3"
  },
  "language_info": {
   "codemirror_mode": {
    "name": "ipython",
    "version": 3
   },
   "file_extension": ".py",
   "mimetype": "text/x-python",
   "name": "python",
   "nbconvert_exporter": "python",
   "pygments_lexer": "ipython3",
   "version": "3.7.4"
  }
 },
 "nbformat": 4,
 "nbformat_minor": 4
}
