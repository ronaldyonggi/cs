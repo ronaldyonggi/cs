{
 "cells": [
  {
   "cell_type": "markdown",
   "metadata": {},
   "source": [
    "# 1. Space Jam 2\n",
    "\n",
    "## 1.1\n",
    "If we analyze the total calculation in `andslam`,\n",
    "\n",
    "\n",
    "$$ N + \\frac{N}{2} + \\frac{N}{4} + \\frac{N}{8} + ... + 2 + 1 $$\n",
    "\n",
    "This is equivalent to,\n",
    "\n",
    "$$ 2N - 1 \\in \\Theta(N)$$\n",
    "\n",
    "In this function, there is no alternative case that can lead to best case runtime. Thus, the only runtime is the worst case runtime, $\\Theta(N)$."
   ]
  },
  {
   "cell_type": "markdown",
   "metadata": {},
   "source": [
    "## 1.2\n",
    "In the beginning, we have the following `for` loop:"
   ]
  },
  {
   "cell_type": "code",
   "execution_count": null,
   "metadata": {},
   "outputs": [],
   "source": [
    "for (int i = low; i < high; i += 1){\n",
    "    System.out.print(\"loyal \");\n",
    "}"
   ]
  },
  {
   "cell_type": "markdown",
   "metadata": {},
   "source": [
    "From here, we know that `andwelcome` will at least do `N` amount of work.\n",
    "\n",
    "The following code:"
   ]
  },
  {
   "cell_type": "code",
   "execution_count": null,
   "metadata": {},
   "outputs": [],
   "source": [
    "double coin = Math.random();"
   ]
  },
  {
   "cell_type": "markdown",
   "metadata": {},
   "source": [
    "...decides on whether we'll have a best case runtime `(coin > 0.5)` or worst case runtime.\n",
    "* In the best case runtime, in total we'll have the following amount of work:\n",
    "\n",
    "$$ N + \\frac{N}{2} + \\frac{N}{4} + \\frac{N}{8} + ... + 2 + 1 $$\n",
    "\n",
    "...in which the runtime is $\\Theta(N)$.\n",
    "\n",
    "* In the worst case runtime, in total we'll have the following amount of work:\n",
    "\n",
    "$$ N + 2(\\frac{N}{2}) + 4(\\frac{N}{4}) + 8(\\frac{N}{8}) + ... + N$$\n",
    "\n",
    "...and thus, the amount of work done is `N` multiplied by something. We can figure out the \"something\" by noticing that the amount of work done is similar to `fib` branching.\n",
    "\n",
    "![](images/worst.png)\n",
    "\n",
    "Notice that the height of the tree above is roughly $log(N)$. Thus, the worst case runtime is `N` multiplied by $log(N)$, which is $\\Theta(N log N)$"
   ]
  },
  {
   "cell_type": "markdown",
   "metadata": {},
   "source": [
    "## 1.3\n",
    "\n",
    "The total amount of work done is roughly:\n",
    "\n",
    "$$N + 2(N-1) + 4(N-2) + 8(N-3) + ...$$\n",
    "\n",
    "If we draw a diagram of the branching, it looks like the following:\n",
    "\n",
    "![](images/tothe.png)\n",
    "\n",
    "Notice that:\n",
    "* At the first layer (at the top) the amount of work is $2^0 = 1$\n",
    "* At the second layer, the amount of work is $2^1 = 2$\n",
    "* At the 3rd layer, the amount of work is $2^2 = 4$\n",
    "\n",
    "Since the amount of work is an exponential of `2`, the runtime is $\\Theta(2^N)$.\n",
    "\n"
   ]
  },
  {
   "cell_type": "code",
   "execution_count": null,
   "metadata": {},
   "outputs": [],
   "source": []
  }
 ],
 "metadata": {
  "kernelspec": {
   "display_name": "Java",
   "language": "java",
   "name": "java"
  },
  "language_info": {
   "codemirror_mode": "java",
   "file_extension": ".jshell",
   "mimetype": "text/x-java-source",
   "name": "Java",
   "pygments_lexer": "java",
   "version": "11.0.6+10-post-Ubuntu-1ubuntu118.04.1"
  }
 },
 "nbformat": 4,
 "nbformat_minor": 2
}
