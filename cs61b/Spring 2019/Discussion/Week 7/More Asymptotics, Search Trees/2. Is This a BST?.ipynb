{
 "cells": [
  {
   "cell_type": "markdown",
   "metadata": {},
   "source": [
    "# 2. Is This a BST?\n",
    "\n",
    "The correct implementation is as the following:"
   ]
  },
  {
   "cell_type": "code",
   "execution_count": null,
   "metadata": {},
   "outputs": [],
   "source": [
    "\n",
    "public static boolean isBST(TreeNode T){\n",
    "    return isBSTHelper(root, Integer.MIN_VALUE, Integer.MAX_VALUE);\n",
    "}\n",
    "\n",
    "public static boolean isBSTHelper(TreeNode T, int min, int max){\n",
    "    if (T == null) return true;\n",
    "    else if (T.val < min || T.val > max) return false;\n",
    "    /** Recursively call isBSTHelper on left and right node by changing the\n",
    "     * min and max threshold.\n",
    "     * 1. If going through left child, change the 'max' = T.val because we don't want\n",
    "     * the left child value to be greater than its parent.\n",
    "     * 2. If going through right child, change the 'min' = T.val. We don't want the\n",
    "     * right child value to be less than its parent.\n",
    "     *\n",
    "     */\n",
    "    else return isBSTHelper(T.left, min, T.val) && isBSTHelper(T.right, T.val, max);\n",
    "}\n"
   ]
  },
  {
   "cell_type": "markdown",
   "metadata": {},
   "source": [
    "In above implementation, we check that every value (that is currently selected) are:\n",
    "1. Greater than all other numbers that are on its left side (regardless whether its parent or child node)\n",
    "2. Less than all other numbers that are on its right side (regardless whether its parent or child node)"
   ]
  },
  {
   "cell_type": "code",
   "execution_count": null,
   "metadata": {},
   "outputs": [],
   "source": []
  }
 ],
 "metadata": {
  "kernelspec": {
   "display_name": "Python 3",
   "language": "python",
   "name": "python3"
  },
  "language_info": {
   "codemirror_mode": {
    "name": "ipython",
    "version": 3
   },
   "file_extension": ".py",
   "mimetype": "text/x-python",
   "name": "python",
   "nbconvert_exporter": "python",
   "pygments_lexer": "ipython3",
   "version": "3.7.4"
  }
 },
 "nbformat": 4,
 "nbformat_minor": 4
}
