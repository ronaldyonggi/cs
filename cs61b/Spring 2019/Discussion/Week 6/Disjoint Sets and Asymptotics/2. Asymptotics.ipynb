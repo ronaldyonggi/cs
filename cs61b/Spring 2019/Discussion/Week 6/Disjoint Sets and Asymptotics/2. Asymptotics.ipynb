{
 "cells": [
  {
   "cell_type": "markdown",
   "metadata": {},
   "source": [
    "## 2.1"
   ]
  },
  {
   "cell_type": "markdown",
   "metadata": {},
   "source": [
    "Order the following big-O runtimes from smallest to largest."
   ]
  },
  {
   "cell_type": "markdown",
   "metadata": {},
   "source": [
    "1. $1$\n",
    "2. $log n$\n",
    "3. $n$\n",
    "4. $n log n$\n",
    "5. $n^2 log n$\n",
    "6. $n^3$\n",
    "7. $2^n$\n",
    "8. $n!$\n",
    "9. $n^n$\n",
    "\n",
    "Make sure to understand 6-9!"
   ]
  },
  {
   "cell_type": "markdown",
   "metadata": {},
   "source": [
    "## 2.2"
   ]
  },
  {
   "cell_type": "markdown",
   "metadata": {},
   "source": [
    "Recall that $O(\\cdot)$ means \"less than\" (better than). Since $\\Omega$ is the opposite, $\\Omega(\\cdot)$ means \"worse than\"\n",
    "\n",
    "For example,\n",
    "* $f(n) \\in O(g(n))$ means $f(n)$ is better than $g(n)$\n",
    "* $f(n) \\in \\Omega(g(n))$ means $f(n)$ is worse than $g(n)$\n",
    "\n",
    "\n",
    "1. Not exactly True. More accurate: $f(n) \\in \\Theta(g(n))$\n",
    "2. False. $n^3$ is definitely worse than $n^2$ term.\n",
    "    * Answer: $f(n) \\in O(g(n))$\n",
    "3. $2^{2n}$ is $4^n$. Since $g(n)$ has the $n^{100}$ term, it is more accurate using $\\Theta$.\n",
    "    * Answer: $f(n) \\in \\Theta(g(n))$\n",
    "4. False. $log(n^{100})$ is definitely better than $n log n$.\n",
    "    * Ans: $f(n) \\in \\Theta(g(n))$\n",
    "5. True. Looking at the greatest term,\n",
    "    * $f(n)$ has $3^n$\n",
    "    * $g(n)$ has $n^2$\n",
    "    * $n^2$ is definitely worse than $3^n$, thus $f(n)$ is better than $g(n)$.\n",
    "6. True. Both $f(n)$ and $g(n)$ have $n^2$, but the deciding term is the first term:\n",
    "    * $f(n)$ has $n log n$\n",
    "    * $g(n)$ has $log n$\n",
    "    * Therefore, $f(n)$ is worse than $g(n)$\n",
    "7. False. $n log n$ definitely worse than $(log(n))^2$\n",
    "    * $log (n)$ is always less than 1, so squaring the term makes it even smaller\n",
    "    * Ans: $f(n) \\in \\Omega(g(n))$"
   ]
  },
  {
   "cell_type": "markdown",
   "metadata": {},
   "source": [
    "## 2.3"
   ]
  },
  {
   "cell_type": "markdown",
   "metadata": {},
   "source": [
    "Give the worst case and best case runtime in terms of `M` and `N`. Assume `ping` is in $\\Theta(1)$ and returns an `int`."
   ]
  },
  {
   "cell_type": "code",
   "execution_count": 1,
   "metadata": {},
   "outputs": [
    {
     "ename": "SyntaxError",
     "evalue": "invalid syntax (<ipython-input-1-277abe47bda3>, line 1)",
     "output_type": "error",
     "traceback": [
      "\u001b[1;36m  File \u001b[1;32m\"<ipython-input-1-277abe47bda3>\"\u001b[1;36m, line \u001b[1;32m1\u001b[0m\n\u001b[1;33m    int j = 0;\u001b[0m\n\u001b[1;37m        ^\u001b[0m\n\u001b[1;31mSyntaxError\u001b[0m\u001b[1;31m:\u001b[0m invalid syntax\n"
     ]
    }
   ],
   "source": [
    "int j = 0;\n",
    "for (int i = N; i > 0; i--) {\n",
    "    for (; j <= M; j++) {\n",
    "        if (ping (i, j) > 64) {\n",
    "            break;\n",
    "        }\n",
    "    }\n",
    "}"
   ]
  },
  {
   "cell_type": "markdown",
   "metadata": {},
   "source": [
    "#### Answer"
   ]
  },
  {
   "cell_type": "markdown",
   "metadata": {},
   "source": [
    "The `i` for loop is basically the same as,"
   ]
  },
  {
   "cell_type": "code",
   "execution_count": null,
   "metadata": {},
   "outputs": [],
   "source": [
    "for (int i = 0; i < N; i++)"
   ]
  },
  {
   "cell_type": "markdown",
   "metadata": {},
   "source": [
    "`break` means breaking out of the enclosing loop, which is the `j` `for` loop. The `i` `for` loop still continues.\n",
    "\n",
    "Notice that `j` is declared outside the loop! This means when `j` is incremented, `j` stays as that number (`j` doesn't reset to 0 during the course of loop).\n",
    "\n",
    "* Best case scenario is that we `break` early, and then for the rest of the loop, we don't need to worry about `j` iteration anymore\n",
    "    * Runtime: $\\Theta(N)$\n",
    "* Worst case scenario is that the `break` doesn't occur at all\n",
    "    * Runtime: $\\Theta(M+N)$\n",
    "\n"
   ]
  },
  {
   "cell_type": "markdown",
   "metadata": {},
   "source": [
    "## 2.4"
   ]
  },
  {
   "cell_type": "markdown",
   "metadata": {},
   "source": [
    "Notice that in the beginning,"
   ]
  },
  {
   "cell_type": "code",
   "execution_count": null,
   "metadata": {},
   "outputs": [],
   "source": [
    "array = mrpoolsort(array);"
   ]
  },
  {
   "cell_type": "markdown",
   "metadata": {},
   "source": [
    "...a sorting method of runtime $\\Theta(N log N)$ is executed. This means regardless of the rest of the code, the runtime can't get any better than $\\Theta(N log N)$.\n",
    "\n",
    "Looking at the nested `for` loops, worst case is that the code goes through the whole `N` for both `i` and `j` `for` loops.\n",
    "* Worst case runtime: $O(N^2)$.\n",
    "\n",
    "Best case scenario is that the first `j` `for` loop doesn't change `x` at all, causing the code to `return false`. In this case, we only iterate `i` once (during `i` = 0). However, remember the sorting method at the beginning! The runtime can't get any better than the runtime of the sorting method.\n",
    "* Best case runtime: $\\Theta(N log N)$.\n"
   ]
  },
  {
   "cell_type": "markdown",
   "metadata": {},
   "source": [
    "## (a)\n",
    "`mystery()` checks whether every element in `array` has a duplicate. If at least one of the element is unique, `mystery()` returns `false`."
   ]
  },
  {
   "cell_type": "markdown",
   "metadata": {},
   "source": [
    "## (b)\n",
    "We can use a `map` ADT where:\n",
    "* key = the `int` itself\n",
    "* value = the number of times that `int` appears / is found\n",
    "\n",
    "In this case, the code only needs to go through the array once. Runtime for this approach is $(N)$.\n",
    "\n",
    "#### Assume that an `int` can appear at most twice\n",
    "With this assumption, we can sort the array. We can go through the array once and easily tell if an `int` appears once or twice. This approach doesn't use extra memory, but will use $(N log N)$ runtime due to sorting in the beginning.\n"
   ]
  },
  {
   "cell_type": "code",
   "execution_count": null,
   "metadata": {},
   "outputs": [],
   "source": []
  },
  {
   "cell_type": "code",
   "execution_count": null,
   "metadata": {},
   "outputs": [],
   "source": []
  }
 ],
 "metadata": {
  "kernelspec": {
   "display_name": "Java",
   "language": "java",
   "name": "java"
  },
  "language_info": {
   "codemirror_mode": "java",
   "file_extension": ".jshell",
   "mimetype": "text/x-java-source",
   "name": "Java",
   "pygments_lexer": "java",
   "version": "11.0.6+10-post-Ubuntu-1ubuntu118.04.1"
  }
 },
 "nbformat": 4,
 "nbformat_minor": 4
}
