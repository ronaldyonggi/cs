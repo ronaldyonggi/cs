{
 "cells": [
  {
   "cell_type": "markdown",
   "metadata": {},
   "source": [
    "# 3. Thank u, next"
   ]
  },
  {
   "cell_type": "markdown",
   "metadata": {},
   "source": [
    "The system puts someone on the queue twice! It seems that this happens whenever the description contains the words \"thank u.\". To combat this, we'd like to define a new iterator, `TYIterator`.\n",
    "\n",
    "If the current item's description contains the words \"thank u,\", it should skip the next item on the queue.\n",
    "\n",
    "As an example, if there were 4 `OHRequest` objects on the queue with the following descriptions:"
   ]
  },
  {
   "cell_type": "code",
   "execution_count": null,
   "metadata": {},
   "outputs": [],
   "source": [
    "[\"thank u\", \"thank u\", \"im bored\", \"help me\"]"
   ]
  },
  {
   "cell_type": "markdown",
   "metadata": {},
   "source": [
    "...calls to `next()` should return the `0th`, `2nd`, and `3rd` `OHRequest` objects on the queue.\n",
    "\n",
    "Note: to check if a description contains the words \"thank u\", we can use,"
   ]
  },
  {
   "cell_type": "code",
   "execution_count": null,
   "metadata": {},
   "outputs": [],
   "source": [
    "curr.description.contains(\"thank u\")"
   ]
  },
  {
   "cell_type": "markdown",
   "metadata": {},
   "source": [
    "#### Implementation"
   ]
  },
  {
   "cell_type": "markdown",
   "metadata": {},
   "source": [
    "Since `TYIterator`'s functionality is very similar to `OHIterator`, we can just `extends` from `OHIterator`. "
   ]
  },
  {
   "cell_type": "code",
   "execution_count": null,
   "metadata": {},
   "outputs": [],
   "source": [
    "public class TYIterator extends OHIterator{\n",
    "    ...\n",
    "}"
   ]
  },
  {
   "cell_type": "markdown",
   "metadata": {},
   "source": [
    "We can use the `superclass`'s constructor,"
   ]
  },
  {
   "cell_type": "code",
   "execution_count": null,
   "metadata": {},
   "outputs": [],
   "source": [
    "public TYIterator(OHRequest queue) {\n",
    "    super(queue); // This is how we call super's constructor with argument\n",
    "}"
   ]
  },
  {
   "cell_type": "markdown",
   "metadata": {},
   "source": [
    "...and one other thing that's different is the `next()` method with additional rule AFTER calling the normal `next`:\n",
    "\n",
    "* if `curr` is not a `null` and,\n",
    "* if the `description` of that current `null` has a \"thank u\", skip the next queue"
   ]
  },
  {
   "cell_type": "code",
   "execution_count": null,
   "metadata": {},
   "outputs": [],
   "source": [
    "@Override\n",
    "public OHRequest next() {\n",
    "    // Call the super's next() method and assign the result to a variable\n",
    "    OHRequest result = super.next();\n",
    "    // \n",
    "    if (curr != null && curr.description.contains(\"thank u\")) {\n",
    "        curr = curr.next;\n",
    "    }\n",
    "}"
   ]
  }
 ],
 "metadata": {
  "kernelspec": {
   "display_name": "Python 3",
   "language": "python",
   "name": "python3"
  },
  "language_info": {
   "codemirror_mode": {
    "name": "ipython",
    "version": 3
   },
   "file_extension": ".py",
   "mimetype": "text/x-python",
   "name": "python",
   "nbconvert_exporter": "python",
   "pygments_lexer": "ipython3",
   "version": "3.7.4"
  }
 },
 "nbformat": 4,
 "nbformat_minor": 4
}
