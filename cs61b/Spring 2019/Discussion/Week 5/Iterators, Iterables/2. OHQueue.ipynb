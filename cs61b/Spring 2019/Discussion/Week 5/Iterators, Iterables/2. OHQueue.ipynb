{
 "cells": [
  {
   "cell_type": "markdown",
   "metadata": {},
   "source": [
    "# 2. OHQueue"
   ]
  },
  {
   "cell_type": "markdown",
   "metadata": {},
   "source": [
    "THe goal is to create an iterable Office Hours Queue. The code below for `OHRequest` represents a single request. Like an `IntNode`, it has a reference to the `next` request. `description` and `name` contain the description of the bug and name of the person on the queue."
   ]
  },
  {
   "cell_type": "code",
   "execution_count": null,
   "metadata": {},
   "outputs": [],
   "source": [
    "public class OHRequest {\n",
    "    public String description;\n",
    "    public String name;\n",
    "    public OHRequest next;\n",
    "    \n",
    "    public OHRequest(String description, String name, OHRequest next) {\n",
    "        this.description = description;\n",
    "        this.name = name;\n",
    "        this.next = next;\n",
    "    }\n",
    "}"
   ]
  },
  {
   "cell_type": "markdown",
   "metadata": {},
   "source": [
    "### `OHIterator`"
   ]
  },
  {
   "cell_type": "markdown",
   "metadata": {},
   "source": [
    "First, let's define an iterator. Create a class `OHIterator` that implements an iterator over `OHRequest` objects that only returns requests with good descriptions. Our `OHIterator`'s constructor will take in an `OHRequest` object that represents the first `OHRequest` object on the queue. We've provided a function, `isGood`, that accepts a description and says if the description is good or not."
   ]
  },
  {
   "cell_type": "code",
   "execution_count": 1,
   "metadata": {},
   "outputs": [
    {
     "ename": "SyntaxError",
     "evalue": "invalid syntax (<ipython-input-1-a925928f7729>, line 2)",
     "output_type": "error",
     "traceback": [
      "\u001b[1;36m  File \u001b[1;32m\"<ipython-input-1-a925928f7729>\"\u001b[1;36m, line \u001b[1;32m2\u001b[0m\n\u001b[1;33m    public class OHIterator ___ {\u001b[0m\n\u001b[1;37m               ^\u001b[0m\n\u001b[1;31mSyntaxError\u001b[0m\u001b[1;31m:\u001b[0m invalid syntax\n"
     ]
    }
   ],
   "source": [
    "import java.util.Iterator;\n",
    "public class OHIterator ___ {\n",
    "    OHRequest curr;\n",
    "    \n",
    "    public OHIterator (OHRequest queue) {\n",
    "        \n",
    "    }\n",
    "    \n",
    "    public boolean isGood(String description) {\n",
    "        return description != null && description.length() > 5;\n",
    "    }\n",
    "}"
   ]
  },
  {
   "cell_type": "markdown",
   "metadata": {},
   "source": [
    "#### Implementation of `OHIterator` class"
   ]
  },
  {
   "cell_type": "markdown",
   "metadata": {},
   "source": [
    "First of all, the iterator iterates over `OHRequest` objects. This means the `OHIterator` class implements `Iterator<OHRequest>`."
   ]
  },
  {
   "cell_type": "code",
   "execution_count": null,
   "metadata": {},
   "outputs": [],
   "source": [
    "public class OHIterator implements Iterator<OHRequest?"
   ]
  },
  {
   "cell_type": "markdown",
   "metadata": {},
   "source": [
    "The `OHIterator` constructor simply sets the instance variable `curr`,"
   ]
  },
  {
   "cell_type": "code",
   "execution_count": null,
   "metadata": {},
   "outputs": [],
   "source": [
    "public OHIterator (OHRequest queue) {\n",
    "    curr = queue;\n",
    "}"
   ]
  },
  {
   "cell_type": "markdown",
   "metadata": {},
   "source": [
    "The big idea is that `curr` is the pointer to the **NEXT ELEMENT TO BE RETURNED**, not `curr.next`! \n",
    "\n",
    "Recall that an `Iterator` possess 2 methods: a `hasNext` and a `next`.\n",
    "\n",
    "The idea of `hasNext` is that as long as:\n",
    "* The `curr` that we have currently is not a `null`\n",
    "* The `curr` doesn't have a good description\n",
    "\n",
    "...we'll have to keep going through the queue until either `curr` is `null` or we found a `curr` that has a good description.\n",
    "\n",
    "Once we're out of the `while` loop, we determine whether `curr` is `null` to determine the result of `hasNext()`."
   ]
  },
  {
   "cell_type": "code",
   "execution_count": 1,
   "metadata": {},
   "outputs": [
    {
     "ename": "SyntaxError",
     "evalue": "invalid syntax (<ipython-input-1-a40ca60ee219>, line 1)",
     "output_type": "error",
     "traceback": [
      "\u001b[1;36m  File \u001b[1;32m\"<ipython-input-1-a40ca60ee219>\"\u001b[1;36m, line \u001b[1;32m1\u001b[0m\n\u001b[1;33m    public boolean hasNext() {}\u001b[0m\n\u001b[1;37m                 ^\u001b[0m\n\u001b[1;31mSyntaxError\u001b[0m\u001b[1;31m:\u001b[0m invalid syntax\n"
     ]
    }
   ],
   "source": [
    "@Override\n",
    "public boolean hasNext() {\n",
    "    // Keep shifting curr as long as curr is not and curr doesn't have\n",
    "    // a good description\n",
    "    while (curr != null && !isGood(curr.description)) {\n",
    "        curr = curr.next;\n",
    "    }\n",
    "    return curr !=  null;\n",
    "}"
   ]
  },
  {
   "cell_type": "markdown",
   "metadata": {},
   "source": [
    "And we make use of `hasNext()` to implement the `next` method.\n",
    "\n",
    "* If `hasNext()` returns false, then we have no more upcoming `queue`.\n",
    "    * Throw a `NoSuchElementException`, an exception that indicatest that there are no elements left in the enumeration. [Read Here](https://examples.javacodegeeks.com/java-basics/exceptions/java-util-nosuchelementexception-how-to-solve-nosuchelementexception/)\n",
    "* Otherwise, we return `curr`, but on the same time we want to advance `curr` to the next element"
   ]
  },
  {
   "cell_type": "code",
   "execution_count": null,
   "metadata": {},
   "outputs": [],
   "source": [
    "public OHRequest next() {\n",
    "    // if hasNext() is false, returns an exception\n",
    "    if (!hasNext()) {\n",
    "        // throw a NoSuchElementException()\n",
    "        throw new NoSuchElementException();\n",
    "    } else {\n",
    "        OhRequest toBeReturned = curr; // Add a temporary pointer for the current curr\n",
    "        curr = curr.next; // Advance curr to the next queue\n",
    "        return toBeReturned; // return the current curr that's stored in the temporary pointer\n",
    "    }\n",
    "}"
   ]
  },
  {
   "cell_type": "markdown",
   "metadata": {},
   "source": [
    "The complete implementation is as the following,"
   ]
  },
  {
   "cell_type": "code",
   "execution_count": null,
   "metadata": {},
   "outputs": [],
   "source": [
    "import java.util.Iterator;\n",
    "\n",
    "public class OHIterator implements Iterator<OHRequest> {\n",
    "    OHRequest curr; // curr acts as a pointer\n",
    "\n",
    "    public OHIterator(OHRequest queue) {\n",
    "        curr = queue;\n",
    "    }\n",
    "\n",
    "    public boolean isGood(String description) {\n",
    "        return description != null && description.length() > 5;\n",
    "    }\n",
    "\n",
    "    @Override\n",
    "    public boolean hasNext() {\n",
    "        while (curr != null && !isGood(curr.description)) {\n",
    "            curr = curr.next;\n",
    "        }\n",
    "        return curr != null;\n",
    "    }\n",
    "\n",
    "    @Override\n",
    "    public OHRequest next() {\n",
    "        if (!hasNext()) {\n",
    "            // throw an exception\n",
    "        } else {\n",
    "            OHRequest toBeReturned = curr;\n",
    "            curr = curr.next;\n",
    "            return toBeReturned;\n",
    "        }\n",
    "    }\n",
    "}\n"
   ]
  },
  {
   "cell_type": "markdown",
   "metadata": {},
   "source": [
    "### `OfficeHoursQueue`"
   ]
  },
  {
   "cell_type": "markdown",
   "metadata": {},
   "source": [
    "Now define a class `OfficeHoursQueue`. We want our `OfficeHoursQueue` to be iterable, so that we can process `OHRequest` objects with good descriptions. Our constructor will take in an `OHRequest` object representing the first request on the queue."
   ]
  },
  {
   "cell_type": "code",
   "execution_count": null,
   "metadata": {},
   "outputs": [],
   "source": [
    "import java.util.Iterator;\n",
    "\n",
    "public class OfficeHoursQueue ___ {\n",
    "    \n",
    "    public OfficeHoursQueue (OHRequest queue) {\n",
    "        ___\n",
    "    }\n",
    "}"
   ]
  },
  {
   "cell_type": "markdown",
   "metadata": {},
   "source": [
    "#### Implementation"
   ]
  },
  {
   "cell_type": "markdown",
   "metadata": {},
   "source": [
    "Since we want `OfficeHoursQueue` to be iterable, we want it to implement the `Iterable` interface to indicate that `OfficeHoursQueue` has an `iterator()` method."
   ]
  },
  {
   "cell_type": "code",
   "execution_count": null,
   "metadata": {},
   "outputs": [],
   "source": [
    "public class OfficeHoursQueue implements Iterable<OHRequest>{\n",
    "    ...\n",
    "}"
   ]
  },
  {
   "cell_type": "markdown",
   "metadata": {},
   "source": [
    "The `OfficeHoursQueue` is supposed to take `OHRequest` objects, where the constructor takes an `OHRequest` object representing the first on the queue.\n",
    "\n",
    "This would imply that we need an `OHRequest` instance variable, and the constructor will set a value to that instance variable."
   ]
  },
  {
   "cell_type": "code",
   "execution_count": null,
   "metadata": {},
   "outputs": [],
   "source": [
    "public class OfficeHoursQueue implements Iterable<OHRequest>{\n",
    "    OHRequest queue;\n",
    "    \n",
    "    public OfficeHoursQueue (OHRequest queue) {\n",
    "        this.queue = queue;\n",
    "    }\n",
    "}"
   ]
  },
  {
   "cell_type": "markdown",
   "metadata": {},
   "source": [
    "...and finally, the `iterator` method."
   ]
  },
  {
   "cell_type": "code",
   "execution_count": null,
   "metadata": {},
   "outputs": [],
   "source": [
    "public Iterator<OHRequest> iterator(){\n",
    "    return new OHiterator(queue);\n",
    "}"
   ]
  },
  {
   "cell_type": "markdown",
   "metadata": {},
   "source": [
    "The complete implementation is as the following,"
   ]
  },
  {
   "cell_type": "code",
   "execution_count": null,
   "metadata": {},
   "outputs": [],
   "source": [
    "public class OfficeHoursQueue implements Iterable<OHRequest>{\n",
    "    OHRequest queue;\n",
    "    \n",
    "    public OfficeHoursQueue (OHRequest queue) {\n",
    "        this.queue = queue;\n",
    "    }\n",
    "    \n",
    "    public Iterator<OHRequest> iterator(){\n",
    "        return new OHiterator(queue);\n",
    "    }\n",
    "}"
   ]
  },
  {
   "cell_type": "markdown",
   "metadata": {},
   "source": [
    "### `main` method"
   ]
  },
  {
   "cell_type": "markdown",
   "metadata": {},
   "source": [
    "Fill in the `main` method so that we make a new `OfficeHourQueue` object and print the names of people with good descriptions."
   ]
  },
  {
   "cell_type": "code",
   "execution_count": null,
   "metadata": {},
   "outputs": [],
   "source": [
    "public static void main(String[] args) {\n",
    "    OHRequest s1 = new OHRequest(\"Failing my test for get in arrayDeque, NPE\", \"Pam\", null);\n",
    "    OHRequest s2 = new OHRequest(\"conceptual: what is dynamic method selection\", \"Michael\", s1);\n",
    "    OHRequest s3 = new OHRequest(\"git: what does checkout do.\", \"Jim\", s2);\n",
    "    OHRequest s4 = new OHRequest(\"help\", \"Dwight\", s3);\n",
    "    OHRequest s5 = new OHRequest(\"debugging get(i)\", \"Creed\", s4);\n",
    "    \n",
    "    ...\n",
    "    for (___:___) {\n",
    "        ___\n",
    "    }\n",
    "}\n"
   ]
  },
  {
   "cell_type": "markdown",
   "metadata": {},
   "source": [
    "#### Implementation"
   ]
  },
  {
   "cell_type": "markdown",
   "metadata": {},
   "source": [
    "We need to create an `OfficeHourQueue` object and iterate through it.\n",
    "* `OfficeHourQueue` constructor takes an `OHRequest`\n",
    "    * From the sequence of `OHRequest` assignments in the `main` method, `s5` is in the last line. \n",
    "    * We can use this `s5` as the argument of `OHRequest` constructor."
   ]
  },
  {
   "cell_type": "code",
   "execution_count": null,
   "metadata": {},
   "outputs": [],
   "source": [
    "OfficeHourQueue queues = new OfficeHourQueue(s5)'\n",
    "for (OHRequest i: queues) {\n",
    "    System.out.println(i.name);\n",
    "}"
   ]
  },
  {
   "cell_type": "markdown",
   "metadata": {},
   "source": [
    "The complete `main` method looks like the following,"
   ]
  },
  {
   "cell_type": "code",
   "execution_count": null,
   "metadata": {},
   "outputs": [],
   "source": [
    "public static void main(String[] args) {\n",
    "    OHRequest s1 = new OHRequest(\"Failing my test for get in arrayDeque, NPE\", \"Pam\", null);\n",
    "    OHRequest s2 = new OHRequest(\"conceptual: what is dynamic method selection\", \"Michael\", s1);\n",
    "    OHRequest s3 = new OHRequest(\"git: what does checkout do.\", \"Jim\", s2);\n",
    "    OHRequest s4 = new OHRequest(\"help\", \"Dwight\", s3);\n",
    "    OHRequest s5 = new OHRequest(\"debugging get(i)\", \"Creed\", s4);\n",
    "    \n",
    "    OfficeHourQueue queues = new OfficeHourQueue(s5)'\n",
    "    for (OHRequest i: queues) {\n",
    "        System.out.println(i.name);\n",
    "    }\n",
    "}\n"
   ]
  }
 ],
 "metadata": {
  "kernelspec": {
   "display_name": "Python 3",
   "language": "python",
   "name": "python3"
  },
  "language_info": {
   "codemirror_mode": {
    "name": "ipython",
    "version": 3
   },
   "file_extension": ".py",
   "mimetype": "text/x-python",
   "name": "python",
   "nbconvert_exporter": "python",
   "pygments_lexer": "ipython3",
   "version": "3.7.4"
  }
 },
 "nbformat": 4,
 "nbformat_minor": 4
}
