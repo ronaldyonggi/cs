{
 "cells": [
  {
   "cell_type": "markdown",
   "metadata": {},
   "source": [
    "# 1. 2-3 Trees and LLRB's\n",
    "\n",
    "## 1.1\n",
    "![](images/insert.png)\n",
    "\n",
    "## 1.2\n",
    "![](images/llrb.png)\n",
    "\n",
    "## 1.3\n",
    "\n",
    "From [definition](https://docs.google.com/presentation/d/1zhQDvbcDZ9RJgJl0bmqwFFlHP8ExbDFo36Q9ZWH9EgU/edit#slide=id.g4fe50d0bd7_3_10), the **height** of a tree is the depth of its deepest leaf. In a normal BST, the [worst case](https://docs.google.com/presentation/d/1zhQDvbcDZ9RJgJl0bmqwFFlHP8ExbDFo36Q9ZWH9EgU/edit#slide=id.g4fe50d0bd7_3_59) `contains` operation requires 5 comparisons (`height +1`).\n",
    "\n",
    "With LLRB, if we look at the [following](https://docs.google.com/presentation/d/1FVENq6nVfWEHohE8j3oQC6uutxWOghacBfJixFV3KQU/edit#slide=id.g1b36faa60f_0_67) tree, we see that the deepest leaf has a height of `1` (don't count red links into height) but 4 comparisons would be done. The maximum comparisons possible can be achieved if we traverse a leaf where :\n",
    "1. The first link from root is a red link \n",
    "2. The path is interchanging between a red link and a black link\n",
    "    * Every time we traverse through a red link, a black link is found.\n",
    "\n",
    "In this case, the maximum number of comparison possible is `(2 * height) + 2`"
   ]
  },
  {
   "cell_type": "markdown",
   "metadata": {},
   "source": [
    "# 2. Hashing\n",
    "\n",
    "### 2.1"
   ]
  },
  {
   "cell_type": "code",
   "execution_count": null,
   "metadata": {},
   "outputs": [],
   "source": [
    "// Valid\n",
    "public int hashCode() {\n",
    "    return -1\n",
    "}"
   ]
  },
  {
   "cell_type": "markdown",
   "metadata": {},
   "source": [
    "Above is valid. However, it's a bad implementation since any `Integer`'s hashCode return the same hash code, which causes collision 100% of the time."
   ]
  },
  {
   "cell_type": "code",
   "execution_count": null,
   "metadata": {},
   "outputs": [],
   "source": [
    "// Valid\n",
    "public int hashCode() {\n",
    "    return intValue() * intValue()\n",
    "}"
   ]
  },
  {
   "cell_type": "markdown",
   "metadata": {},
   "source": [
    "Valid, but if the `intValue()` returns the same value as the integer, collision will occur for numbers with the same absolute value (e.g. `-5` and `5` returns the same hashCode, `25`)."
   ]
  },
  {
   "cell_type": "code",
   "execution_count": null,
   "metadata": {},
   "outputs": [],
   "source": [
    "// Invalid\n",
    "public int hashCode() {\n",
    "    return super.hashCode();\n",
    "}"
   ]
  },
  {
   "cell_type": "markdown",
   "metadata": {},
   "source": [
    "Invalid! This method returns a hashCode that depends on the integer's location in the memory. This means integers that are `equals()` to each other won't necessarily have the same hashCode."
   ]
  },
  {
   "cell_type": "markdown",
   "metadata": {},
   "source": [
    "# 3. Heaps of Fun\n",
    "\n",
    "## 3.1"
   ]
  },
  {
   "cell_type": "code",
   "execution_count": null,
   "metadata": {},
   "outputs": [],
   "source": [
    "h.insert('f')\n",
    "    \n",
    "    f"
   ]
  },
  {
   "cell_type": "code",
   "execution_count": null,
   "metadata": {},
   "outputs": [],
   "source": [
    "h.insert('h')\n",
    "    \n",
    "    f\n",
    "   /\n",
    "  h"
   ]
  },
  {
   "cell_type": "code",
   "execution_count": null,
   "metadata": {},
   "outputs": [],
   "source": [
    "h.insert('d')\n",
    "    \n",
    "    d\n",
    "   / \\\n",
    "  h   f "
   ]
  },
  {
   "cell_type": "code",
   "execution_count": null,
   "metadata": {},
   "outputs": [],
   "source": [
    "h.insert('b')\n",
    "    \n",
    "        b\n",
    "       / \\\n",
    "      d   f\n",
    "     /\n",
    "    h "
   ]
  },
  {
   "cell_type": "code",
   "execution_count": null,
   "metadata": {},
   "outputs": [],
   "source": [
    "h.insert('c')\n",
    "    \n",
    "        b\n",
    "       / \\\n",
    "      c   f\n",
    "     / \\\n",
    "    h   d"
   ]
  },
  {
   "cell_type": "code",
   "execution_count": null,
   "metadata": {},
   "outputs": [],
   "source": [
    "h.removemin()\n",
    "    \n",
    "        c\n",
    "       / \\\n",
    "      d   f\n",
    "     /\n",
    "    h   "
   ]
  },
  {
   "cell_type": "code",
   "execution_count": null,
   "metadata": {},
   "outputs": [],
   "source": [
    "h.removemin()\n",
    "    \n",
    "        d\n",
    "       / \\\n",
    "      h   f   "
   ]
  },
  {
   "cell_type": "markdown",
   "metadata": {},
   "source": [
    "## 3.2\n",
    "\n",
    "Yes. If we can still use methods from `MinHeap`, we can simply negate the integers (multiply by `-1`) while using the methods.\n",
    "\n",
    "For example, if we have 9 as the largest integer, we can have 9 to be on top of the `MinHeap` by `insert(-9)` `-9` is guaranteed to be considered the minimum integer in the `MinHeap`. If we want to take out the element from the `MinHeap`, simply use `removeMin()` and negate the integer back.\n",
    "\n",
    "Using this strategy, the order of the numbers are exactly reversed. With a reversed number, `MinHeap` works exactly like `MaxHeap`. "
   ]
  },
  {
   "cell_type": "code",
   "execution_count": null,
   "metadata": {},
   "outputs": [],
   "source": []
  }
 ],
 "metadata": {
  "kernelspec": {
   "display_name": "Java",
   "language": "java",
   "name": "java"
  },
  "language_info": {
   "codemirror_mode": "java",
   "file_extension": ".jshell",
   "mimetype": "text/x-java-source",
   "name": "Java",
   "pygments_lexer": "java",
   "version": "11.0.6+10-post-Ubuntu-1ubuntu118.04.1"
  }
 },
 "nbformat": 4,
 "nbformat_minor": 4
}
