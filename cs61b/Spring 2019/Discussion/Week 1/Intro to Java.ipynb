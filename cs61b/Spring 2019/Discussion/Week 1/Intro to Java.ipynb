{
 "cells": [
  {
   "cell_type": "markdown",
   "metadata": {},
   "source": [
    "# 1 Our First Java Program"
   ]
  },
  {
   "cell_type": "code",
   "execution_count": null,
   "metadata": {},
   "outputs": [],
   "source": [
    "int size = 27;"
   ]
  },
  {
   "cell_type": "markdown",
   "metadata": {},
   "source": [
    "The code above will allocate a memory of type `int` with the name `size`, and assigns it the value 27."
   ]
  },
  {
   "cell_type": "code",
   "execution_count": null,
   "metadata": {},
   "outputs": [],
   "source": [
    "String name = Fido;"
   ]
  },
  {
   "cell_type": "markdown",
   "metadata": {},
   "source": [
    "Declares a variable of type `String` named `name` and assigns it the value `\"Fido\"`;"
   ]
  },
  {
   "cell_type": "code",
   "execution_count": null,
   "metadata": {},
   "outputs": [],
   "source": [
    "`Dog myDog = new Dog(name, size);`"
   ]
  },
  {
   "cell_type": "markdown",
   "metadata": {},
   "source": [
    "1. Declares and initializes a new variable of type `Dog` with the name `myDog`\n",
    "2. Calls the `Dog` object constructor to create a new object / instance of type `Dog`\n",
    "3. Assign the variable `myDog` to the newly constructed object in step #2"
   ]
  },
  {
   "cell_type": "code",
   "execution_count": null,
   "metadata": {},
   "outputs": [],
   "source": [
    "`int x = size - 5`;"
   ]
  },
  {
   "cell_type": "markdown",
   "metadata": {},
   "source": [
    "Declares a variable of type `int` named `x` and assigns it the value of subtracting the variable `size` by `5`. Currently, `size` is bound to the value `27`, and thus `size - 5` is `27 - 5 = 22`."
   ]
  },
  {
   "cell_type": "code",
   "execution_count": null,
   "metadata": {},
   "outputs": [],
   "source": [
    "if (x < 15) {\n",
    "    myDog.bark(8);\n",
    "}"
   ]
  },
  {
   "cell_type": "markdown",
   "metadata": {},
   "source": [
    "If `x` is less than `15`, then call `myDog` instance's `.bark` method with an input argument `8`. Since `x` is `22`, then the `if` clause is not executed."
   ]
  },
  {
   "cell_type": "code",
   "execution_count": null,
   "metadata": {},
   "outputs": [],
   "source": [
    "while (x > 3) {\n",
    "    x -= 1;\n",
    "    myDog.play();\n",
    "}"
   ]
  },
  {
   "cell_type": "markdown",
   "metadata": {},
   "source": [
    "Keeps repeatedly do the following execution as long as `x` is greater than `3`:\n",
    "\n",
    "1. Decrement `x` by `1`\n",
    "2. call `myDog` instance's `.play` method"
   ]
  },
  {
   "cell_type": "code",
   "execution_count": null,
   "metadata": {},
   "outputs": [],
   "source": [
    "int[] numList = {2, 4, 6, 8};"
   ]
  },
  {
   "cell_type": "markdown",
   "metadata": {},
   "source": [
    "Declare an array of `int`s named `numList` and initialize it to {2, 4, 6, 8}"
   ]
  },
  {
   "cell_type": "code",
   "execution_count": null,
   "metadata": {},
   "outputs": [],
   "source": [
    "System.out.print(\"Hello \");"
   ]
  },
  {
   "cell_type": "markdown",
   "metadata": {},
   "source": [
    "Prints the String `\"Hello \"` to the standard output"
   ]
  },
  {
   "cell_type": "code",
   "execution_count": null,
   "metadata": {},
   "outputs": [],
   "source": [
    "System.out.println(\"Dog: \" + name);"
   ]
  },
  {
   "cell_type": "markdown",
   "metadata": {},
   "source": [
    "Prints the String `\"Dog: \"` followed by whatever's inside the variable `name` to the standard output, then terminates the line. Since `name` is currently the String `\"Fido\"`, then this would print: \n",
    "\n",
    "`\"Dog: Fido\"`."
   ]
  },
  {
   "cell_type": "code",
   "execution_count": null,
   "metadata": {},
   "outputs": [],
   "source": [
    "System.out.println(numList[1]);"
   ]
  },
  {
   "cell_type": "markdown",
   "metadata": {},
   "source": [
    "Prints the element that is within index `1` of the array `numList`, then terminates the line. Since `numlist[1]` is `4`, then it prints `4`."
   ]
  },
  {
   "cell_type": "code",
   "execution_count": null,
   "metadata": {},
   "outputs": [],
   "source": [
    "if (numList[3] == 8) {\n",
    "    System.out.println(\"potato\");\n",
    "}"
   ]
  },
  {
   "cell_type": "markdown",
   "metadata": {},
   "source": [
    "Checks if the element in index `3` of the array `numList` is `8`. It is! So it executes the `if` clause, which prints `\"potato\"` to the standard output then terminates the line."
   ]
  },
  {
   "cell_type": "markdown",
   "metadata": {},
   "source": [
    "# 2 Mystery"
   ]
  },
  {
   "cell_type": "code",
   "execution_count": 11,
   "metadata": {},
   "outputs": [
    {
     "data": {
      "text/plain": [
       "4"
      ]
     },
     "execution_count": 11,
     "metadata": {},
     "output_type": "execute_result"
    }
   ],
   "source": [
    "public static int mystery(int[] inputArray, int k) {\n",
    "    int x = inputArray[k];\n",
    "    int answer = k;\n",
    "    int index = k + 1;\n",
    "    while (index < inputArray.length) {\n",
    "        if (inputArray[index] < x) {\n",
    "            x = inputArray[index];\n",
    "            answer = index; \n",
    "        }\n",
    "        index = index + 1;\n",
    "    }\n",
    "    return answer;\n",
    "}\n",
    "\n",
    "int[] inputArray = {3, 0, 4, 6, 3};\n",
    "int k = 2;\n",
    "mystery(inputArray, k);"
   ]
  },
  {
   "cell_type": "markdown",
   "metadata": {},
   "source": [
    "The `mystery` method returns the index that corresponds to the minimum number in the `inputArray` after (and including) the element at index `k`.\n",
    "\n",
    "For example, with `k = 2`, `inputArray[2] = 4`. This means the function will find the minimum element starting from `4` to the rest of the elements. The minimum is found to be `3`! The element `3` correspond to the element of index `4`. Thus, the answer is `4`."
   ]
  },
  {
   "cell_type": "markdown",
   "metadata": {},
   "source": [
    "### Mystery2"
   ]
  },
  {
   "cell_type": "code",
   "execution_count": 15,
   "metadata": {},
   "outputs": [
    {
     "name": "stdout",
     "output_type": "stream",
     "text": [
      "[0, 3, 3, 4, 6]\n"
     ]
    }
   ],
   "source": [
    "public static void mystery2(int[] inputArray) {\n",
    "    int index = 0;\n",
    "    while (index < inputArray.length) {\n",
    "        int targetIndex = mystery(inputArray, index);\n",
    "        int temp = inputArray[targetIndex];\n",
    "        inputArray[targetIndex] = inputArray[index];\n",
    "        inputArray[index] = temp;\n",
    "        index = index + 1;\n",
    "    }\n",
    "}\n",
    "\n",
    "int[] inputArray = {3, 0, 4, 6, 3};\n",
    "mystery2(inputArray);\n",
    "System.out.println(java.util.Arrays.toString(inputArray));"
   ]
  },
  {
   "cell_type": "markdown",
   "metadata": {},
   "source": [
    "As we can see, the method `mystery2` sorts the input array. With the first cycle of the while loop,"
   ]
  },
  {
   "cell_type": "code",
   "execution_count": null,
   "metadata": {},
   "outputs": [],
   "source": [
    "// First cycle\n",
    "\n",
    "int targetIndex = 1\n",
    "int temp = inputArray[1] = 0\n",
    "/* In the 2 execution method below, we swap the element that we're currently pointing at\n",
    "with the smallest element in the array after inputArray[0] */\n",
    "inputArray[targetIndex] = inputArray[index] -> inputArray[1] = inputArray[0] -- > inputArray[1] = 3\n",
    "inputArray[index] = temp; --> inputArray[0] = 0\n",
    "\n",
    "//Thus after the first cycle, inputArray becomes {0, 3, 4, 6, 3};\n",
    "// then the cycle continues, starting with index = 1 and so on."
   ]
  },
  {
   "cell_type": "markdown",
   "metadata": {},
   "source": [
    "# 3 Writing Your First Program"
   ]
  },
  {
   "cell_type": "markdown",
   "metadata": {},
   "source": [
    "Implement `fib` which takes in an integer `n` and returns the `n`th Fibonaci nubmer. The Fibonacci sequence is 0, 1, 1, 2, 3, 5, 8, 13, 21, ..."
   ]
  },
  {
   "cell_type": "markdown",
   "metadata": {},
   "source": [
    "#### Iterative Implementation"
   ]
  },
  {
   "cell_type": "code",
   "execution_count": 20,
   "metadata": {},
   "outputs": [],
   "source": [
    "public static int fib(int n){\n",
    "    int current = 0;\n",
    "    int next = 1;\n",
    "    int temp = 0; // We can't directy use a single line statement (current, next = next, current + next), so we need a temp variable\n",
    "    while (n > 0) {\n",
    "        temp = next;\n",
    "        next = next + current;\n",
    "        current = temp;\n",
    "        n -= 1;\n",
    "    }\n",
    "    return current;\n",
    "}"
   ]
  },
  {
   "cell_type": "code",
   "execution_count": 21,
   "metadata": {},
   "outputs": [
    {
     "data": {
      "text/plain": [
       "8"
      ]
     },
     "execution_count": 21,
     "metadata": {},
     "output_type": "execute_result"
    }
   ],
   "source": [
    "fib(6)"
   ]
  },
  {
   "cell_type": "markdown",
   "metadata": {},
   "source": [
    "#### Recursive Implementation"
   ]
  },
  {
   "cell_type": "code",
   "execution_count": 13,
   "metadata": {},
   "outputs": [],
   "source": [
    "public static int fib(int n) {\n",
    "    if (n <= 1) return n;\n",
    "    else return fib(n-1) + fib(n-2);\n",
    "}"
   ]
  },
  {
   "cell_type": "code",
   "execution_count": 19,
   "metadata": {},
   "outputs": [
    {
     "data": {
      "text/plain": [
       "8"
      ]
     },
     "execution_count": 19,
     "metadata": {},
     "output_type": "execute_result"
    }
   ],
   "source": [
    "fib(6)"
   ]
  },
  {
   "cell_type": "markdown",
   "metadata": {},
   "source": [
    "### Extra\n",
    "Implement `fib` in 5 lines or fewer. Your answer must be efficient."
   ]
  },
  {
   "cell_type": "code",
   "execution_count": 22,
   "metadata": {},
   "outputs": [],
   "source": [
    "public static int fib2(int n, int k, int f0, int f1) {\n",
    "    if (n == k) return f0;\n",
    "    else return fib2(n, k+1, f1, f0 + f1);\n",
    "}"
   ]
  },
  {
   "cell_type": "code",
   "execution_count": null,
   "metadata": {},
   "outputs": [],
   "source": []
  }
 ],
 "metadata": {
  "kernelspec": {
   "display_name": "Java",
   "language": "java",
   "name": "java"
  },
  "language_info": {
   "codemirror_mode": {
    "name": "ipython",
    "version": 3
   },
   "file_extension": ".py",
   "mimetype": "text/x-python",
   "name": "python",
   "nbconvert_exporter": "python",
   "pygments_lexer": "ipython3",
   "version": "3.7.3"
  }
 },
 "nbformat": 4,
 "nbformat_minor": 4
}
