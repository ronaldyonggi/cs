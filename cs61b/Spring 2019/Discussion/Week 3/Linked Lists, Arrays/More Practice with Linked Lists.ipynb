{
 "cells": [
  {
   "cell_type": "markdown",
   "metadata": {},
   "source": [
    "#### Writer's Note"
   ]
  },
  {
   "cell_type": "markdown",
   "metadata": {},
   "source": [
    "The code and the test files for this exercise are available as `SLList.java` and `SLListTest.java` in `Files` directory."
   ]
  },
  {
   "cell_type": "markdown",
   "metadata": {},
   "source": [
    "## 1.1\n",
    "Implement `SLList.insert` which takes in:\n",
    "* an integer `x`\n",
    "* an integer `position`\n",
    "\n",
    "It inserts `x` at the given `position`. If `position` is after the end of the list, insert the new node at the end."
   ]
  },
  {
   "cell_type": "code",
   "execution_count": null,
   "metadata": {},
   "outputs": [],
   "source": [
    "5 -> 6 -> 2\n",
    "insert(10,1)\n",
    "5 -> 10-> 6 -> 2\n",
    "\n",
    "5 -> 6 -> 2\n",
    "insert(10, 7)\n",
    "5 -> 6 -> 2 -> 10"
   ]
  },
  {
   "cell_type": "markdown",
   "metadata": {},
   "source": [
    "Assume that `position` is a non-negative integer."
   ]
  },
  {
   "cell_type": "markdown",
   "metadata": {},
   "source": [
    "#### Implementation"
   ]
  },
  {
   "cell_type": "markdown",
   "metadata": {},
   "source": [
    "We might be tempted to use a pointer and do something like the following,"
   ]
  },
  {
   "cell_type": "code",
   "execution_count": null,
   "metadata": {},
   "outputs": [],
   "source": [
    "public void insert(int item, int position) {\n",
    "    IntNode pointer = first;\n",
    "    for (int i = 0; i < position; i++){\n",
    "        if (pointer == null) {\n",
    "            pointer = new IntNode(item, null);\n",
    "        }\n",
    "        pointer = pointer.next;\n",
    "    }\n",
    "    pointer = new IntNode(item, pointer);\n",
    "}\n"
   ]
  },
  {
   "cell_type": "markdown",
   "metadata": {},
   "source": [
    "However, this won't work because,\n",
    "\n",
    "<img src = 'visualizer.png' width = 500/>"
   ]
  },
  {
   "cell_type": "markdown",
   "metadata": {},
   "source": [
    "This is the moment after the following code:"
   ]
  },
  {
   "cell_type": "code",
   "execution_count": null,
   "metadata": {},
   "outputs": [],
   "source": [
    "pointer = new IntNode(item, pointer);"
   ]
  },
  {
   "cell_type": "markdown",
   "metadata": {},
   "source": [
    "...as we can see, even though we created a new IntNode with `pointer`, `first.next` is still pointing at the original, unchanged list.\n",
    "\n",
    "Instead, our `for` loop should start at `1`, this way we can create a new `IntNode` and assign it to `pointer.next` rather than `pointer`."
   ]
  },
  {
   "cell_type": "code",
   "execution_count": null,
   "metadata": {},
   "outputs": [],
   "source": [
    "pointer.next = new IntNode(item, pointer)"
   ]
  },
  {
   "cell_type": "markdown",
   "metadata": {},
   "source": [
    "Therefore, the implementation looks like the following,"
   ]
  },
  {
   "cell_type": "code",
   "execution_count": null,
   "metadata": {},
   "outputs": [],
   "source": [
    "public void insert(int item, int position) {\n",
    "    /**\n",
    "     * If position is 0, then we're adding item to the front\n",
    "     * of the list\n",
    "     */\n",
    "    if (position == 0) {\n",
    "        addFirst(item);\n",
    "    }\n",
    "    IntNode pointer = first;\n",
    "    /**\n",
    "     * Start with iterating from 1 because if position is 1,\n",
    "     * we simply want to update first.next\n",
    "     */\n",
    "    for (int i = 1; i < position; i++){\n",
    "        /**\n",
    "         * If position is more than the length of the list,\n",
    "         * add item at the end of the list.\n",
    "          */\n",
    "        if (pointer.next == null) {\n",
    "            pointer.next = new IntNode(item, null);\n",
    "        }\n",
    "        pointer = pointer.next;\n",
    "    }\n",
    "    pointer.next = new IntNode(item, pointer);\n",
    "}\n"
   ]
  },
  {
   "cell_type": "markdown",
   "metadata": {},
   "source": [
    "## 1.2\n",
    "Add another method to the `SLList` class that reverses the elements. Do this using the existing `IntNode` objects.\n",
    "\n",
    "See [Video1](https://www.youtube.com/watch?v=O0By4Zq0OFc&feature=youtu.be) and [Video2](https://www.youtube.com/watch?v=Ip4y7Inx7QY) to understand more about how this works!"
   ]
  },
  {
   "cell_type": "code",
   "execution_count": null,
   "metadata": {},
   "outputs": [],
   "source": [
    "// Iterative Version\n",
    "public void reverse() {\n",
    "    if (first == null || first.next == null){\n",
    "        return;\n",
    "    }\n",
    "\n",
    "    IntNode pointer = first.next;\n",
    "    first.next = null;\n",
    "    while (pointer != null) {\n",
    "        IntNode next = pointer.next;\n",
    "        pointer.next = first;\n",
    "        first = pointer;\n",
    "        pointer = next;\n",
    "    }\n",
    "}"
   ]
  },
  {
   "cell_type": "markdown",
   "metadata": {},
   "source": [
    "For recursive version, we need to implement a helper method."
   ]
  },
  {
   "cell_type": "code",
   "execution_count": null,
   "metadata": {},
   "outputs": [],
   "source": [
    "// Recursive Version\n",
    "\n",
    "public void reverseRecur() {\n",
    "    first = reverseHelper(first);\n",
    "}\n",
    "\n",
    "private IntNode reverseHelper(IntNode pointer){\n",
    "    IntNode reversedPointer = reverseHelper(pointer.next);\n",
    "    pointer.next.next = pointer;\n",
    "    pointer.next = null;\n",
    "    return reversedPointer;\n",
    "}\n"
   ]
  }
 ],
 "metadata": {
  "kernelspec": {
   "display_name": "Python 3",
   "language": "python",
   "name": "python3"
  },
  "language_info": {
   "codemirror_mode": {
    "name": "ipython",
    "version": 3
   },
   "file_extension": ".py",
   "mimetype": "text/x-python",
   "name": "python",
   "nbconvert_exporter": "python",
   "pygments_lexer": "ipython3",
   "version": "3.7.3"
  }
 },
 "nbformat": 4,
 "nbformat_minor": 4
}
