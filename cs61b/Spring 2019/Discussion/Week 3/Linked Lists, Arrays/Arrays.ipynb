{
 "cells": [
  {
   "cell_type": "markdown",
   "metadata": {},
   "source": [
    "#### Writer's Note\n",
    "The code files and test files for this discussion are available as `Array.java` and `ArrayTest.java` in `Files` directory."
   ]
  },
  {
   "cell_type": "markdown",
   "metadata": {},
   "source": [
    "## 2.1\n",
    "Consider a method that inserts an `int` item into an `int[] arr` at the given position. The method should return the resulting array. For example:"
   ]
  },
  {
   "cell_type": "code",
   "execution_count": null,
   "metadata": {},
   "outputs": [],
   "source": [
    "x = [5, 9, 14, 15]\n",
    "item = 6\n",
    "position = 2"
   ]
  },
  {
   "cell_type": "markdown",
   "metadata": {},
   "source": [
    "The method should return,"
   ]
  },
  {
   "cell_type": "code",
   "execution_count": null,
   "metadata": {},
   "outputs": [],
   "source": [
    "[5, 9, 6, 14, 15]"
   ]
  },
  {
   "cell_type": "markdown",
   "metadata": {},
   "source": [
    "If `position` is past the end of the array, insert `item` at the end of the array.\n",
    "\n",
    "Is it possible to write a version of this method that returns void and changes `arr` in place (e.g. destructively)? \n",
    "\n",
    "Hint: These arrays are filled meaning an array containing `n` elements will have length `n`."
   ]
  },
  {
   "cell_type": "markdown",
   "metadata": {},
   "source": [
    "#### Ans\n",
    "No. Array have fixed size. If we want to add an element, we need to create a new array. "
   ]
  },
  {
   "cell_type": "markdown",
   "metadata": {},
   "source": [
    "#### Extra"
   ]
  },
  {
   "cell_type": "markdown",
   "metadata": {},
   "source": [
    "Fill in the below according to the method signature."
   ]
  },
  {
   "cell_type": "markdown",
   "metadata": {},
   "source": [
    "#### Implementation"
   ]
  },
  {
   "cell_type": "markdown",
   "metadata": {},
   "source": [
    "This method returns an array, so we would need to create a new array where we will copy the contents of the old array."
   ]
  },
  {
   "cell_type": "code",
   "execution_count": null,
   "metadata": {},
   "outputs": [],
   "source": [
    "public static int[] insert(int[] arr, int item, int position) {\n",
    "    int[] a = new int[arr.length + 1];\n",
    "    // ..."
   ]
  },
  {
   "cell_type": "markdown",
   "metadata": {},
   "source": [
    "Case #1: If the `position` is 0, then we add the `item` to the beginning of the array, then copy the rest of the list after that `item`."
   ]
  },
  {
   "cell_type": "code",
   "execution_count": null,
   "metadata": {},
   "outputs": [],
   "source": [
    "if (position == 0) {\n",
    "    System.arraycopy(arr, 0, a, 1, arr.length); // Copy the contents of the old array to the new array starting from\n",
    "    // index 1 of the new array\n",
    "    a[0] = item; //Assign item to the index 0 of the array\n",
    "    return a;\n",
    "}"
   ]
  },
  {
   "cell_type": "markdown",
   "metadata": {},
   "source": [
    "Case #2: If the `position` is greater than the length of the array, then just add `item` to the end of the array. Make sure to copy the contents of the old array as well."
   ]
  },
  {
   "cell_type": "code",
   "execution_count": null,
   "metadata": {},
   "outputs": [],
   "source": [
    "else if (position > arr.length - 1) {\n",
    "    System.arraycopy(arr, 0, a, 0, arr.length); // Copy the contents of the old array to the new array\n",
    "    a[a.length - 1] = item; // Assign item to the end of the new array\n",
    "    return a;\n",
    "}"
   ]
  },
  {
   "cell_type": "markdown",
   "metadata": {},
   "source": [
    "Otherwise, the `position` is somewhere in the middle of the array. In this case we will have to copy twice: \n",
    "* The elements before index `position`\n",
    "* The elements after index `position`"
   ]
  },
  {
   "cell_type": "code",
   "execution_count": null,
   "metadata": {},
   "outputs": [],
   "source": [
    "else {\n",
    "        a[position] = item;\n",
    "        System.arraycopy(arr, 0, a, 0, position); // Copy the elements and place them before index position\n",
    "        System.arraycopy(arr, position, a, position + 1, arr.length - position); // Copy the elements and place them\n",
    "        // after index position\n",
    "        return a;\n",
    "    }"
   ]
  },
  {
   "cell_type": "markdown",
   "metadata": {},
   "source": [
    "The implementation looks like the following,"
   ]
  },
  {
   "cell_type": "code",
   "execution_count": null,
   "metadata": {},
   "outputs": [],
   "source": [
    "public static int[] insert(int[] arr, int item, int position) {\n",
    "    int[] a = new int[arr.length + 1];\n",
    "    if (position == 0) {\n",
    "        System.arraycopy(arr, 0, a, 1, arr.length);\n",
    "        a[0] = item;\n",
    "        return a;\n",
    "    } else if (position > arr.length -1) {\n",
    "        System.arraycopy(arr, 0, a, 0, arr.length);\n",
    "        a[a.length - 1] = item;\n",
    "        return a;\n",
    "    } else {\n",
    "        a[position] = item;\n",
    "        System.arraycopy(arr, 0, a, 0, position);\n",
    "        System.arraycopy(arr, position, a, position + 1, arr.length - position);\n",
    "        return a;\n",
    "    }\n",
    "}\n"
   ]
  },
  {
   "cell_type": "markdown",
   "metadata": {},
   "source": [
    "## 2.2"
   ]
  },
  {
   "cell_type": "markdown",
   "metadata": {},
   "source": [
    "Consider a method that destructively reverses the items in `arr`. For example,"
   ]
  },
  {
   "cell_type": "code",
   "execution_count": null,
   "metadata": {},
   "outputs": [],
   "source": [
    "reverse([1, 2, 3])\n",
    "// Should output [3, 2, 1]"
   ]
  },
  {
   "cell_type": "markdown",
   "metadata": {},
   "source": [
    "#### Implementation"
   ]
  },
  {
   "cell_type": "markdown",
   "metadata": {},
   "source": [
    "The idea is to iterate through the elements and swap between index`[i]` and index`[arr.length - 1 - i]`. MAKE SURE to iterate the elements only halfway through the list! If we iterate the whole list, that means we are swapping the element twice, resulting in the original list!"
   ]
  },
  {
   "cell_type": "code",
   "execution_count": null,
   "metadata": {},
   "outputs": [],
   "source": [
    "public static void reverse(int[] arr){\n",
    "    for(int i = 0; i < arr.length/2; i++) {\n",
    "       int temp = arr[i];\n",
    "       arr[i] = arr[arr.length - 1 - i];\n",
    "       arr[arr.length - 1 - i] = temp;\n",
    "    }\n",
    "}\n"
   ]
  },
  {
   "cell_type": "markdown",
   "metadata": {},
   "source": [
    "## 2.3\n",
    "Write a non-destructive method `replicate(int[] arr)` that replaces the number at index `i` with `arr[i]` copies of itself. For example,"
   ]
  },
  {
   "cell_type": "code",
   "execution_count": null,
   "metadata": {},
   "outputs": [],
   "source": [
    "replicate([3, 2, 1])\n",
    "// Returns [3, 3, 3, 2, 2, 1]"
   ]
  },
  {
   "cell_type": "markdown",
   "metadata": {},
   "source": [
    "Assume all elements of the array are positive."
   ]
  },
  {
   "cell_type": "markdown",
   "metadata": {},
   "source": [
    "#### Implementation"
   ]
  },
  {
   "cell_type": "markdown",
   "metadata": {},
   "source": [
    "First of all, we'd need to implement our own `sum` method that calculates the sum of all integers in an array of `int`s."
   ]
  },
  {
   "cell_type": "code",
   "execution_count": null,
   "metadata": {},
   "outputs": [],
   "source": [
    "/**\n",
    " * Helper public method that sums the elements in an array of integer\n",
    " * @param arr the array which elements we want to sum\n",
    " * @return the sum of the elements in the array\n",
    " */\n",
    "public static int sum(int[] arr){\n",
    "    int sum = 0;\n",
    "    for (int x:arr){\n",
    "        sum += x;\n",
    "    }\n",
    "    return sum;\n",
    "}\n"
   ]
  },
  {
   "cell_type": "markdown",
   "metadata": {},
   "source": [
    "We will need this `sum` method to create a new array for the `replicate` method since the length of the resulting method equals to the sum of the original array. Now for the actual implementation,\n",
    "\n",
    "Create a new array whose length is the sum of the all the elements in the original array,"
   ]
  },
  {
   "cell_type": "code",
   "execution_count": null,
   "metadata": {},
   "outputs": [],
   "source": [
    "int[] a = new int[sum(arr)];"
   ]
  },
  {
   "cell_type": "markdown",
   "metadata": {},
   "source": [
    "Now, the idea is to go through each element in the original array.\n",
    "* For each element, we set a for loop that starts with that element, decrementing to 0\n",
    "    * Within this nested loop, assign a[index] with the i on outer loop\n",
    "    * Then increment index"
   ]
  },
  {
   "cell_type": "code",
   "execution_count": null,
   "metadata": {},
   "outputs": [],
   "source": [
    "for (int i: arr){ // Increment each element in arr\n",
    "    for(int j = i; j > 0; j--){ // Set j equals i and decrement until 0. For example, i = 3\n",
    "        a[index] = i; // Set a[0] = 3, and so on\n",
    "        index++; // Increment index\n",
    "    }\n",
    "}\n",
    "return a; // Return a"
   ]
  },
  {
   "cell_type": "markdown",
   "metadata": {},
   "source": [
    "The implementation looks like the following,"
   ]
  },
  {
   "cell_type": "code",
   "execution_count": null,
   "metadata": {},
   "outputs": [],
   "source": [
    "public static int[] replicate(int[] arr){\n",
    "    int[] a = new int[sum(arr)]; // Create a new array that has the same length as the sum of all elements in arr\n",
    "    int index = 0; // Keep track of the index\n",
    "    for (int i: arr){\n",
    "        for (int j = i; j > 0; j--){\n",
    "            a[index] = i;\n",
    "            index ++;\n",
    "        }\n",
    "    }\n",
    "    return a;\n",
    "}"
   ]
  },
  {
   "cell_type": "markdown",
   "metadata": {},
   "source": []
  }
 ],
 "metadata": {
  "kernelspec": {
   "display_name": "Python 3",
   "language": "python",
   "name": "python3"
  },
  "language_info": {
   "codemirror_mode": {
    "name": "ipython",
    "version": 3
   },
   "file_extension": ".py",
   "mimetype": "text/x-python",
   "name": "python",
   "nbconvert_exporter": "python",
   "pygments_lexer": "ipython3",
   "version": "3.7.3"
  }
 },
 "nbformat": 4,
 "nbformat_minor": 4
}
