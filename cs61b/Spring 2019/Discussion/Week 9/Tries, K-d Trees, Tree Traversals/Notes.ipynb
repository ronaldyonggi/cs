{
 "cells": [
  {
   "cell_type": "markdown",
   "metadata": {},
   "source": [
    "# Tree Traversals\n",
    "## 1.1\n",
    "\n",
    "#### Pre-order\n",
    "10, 3, 1, 7, 12, 11, 14, 13, 15\n",
    "\n",
    "#### In-order\n",
    "1, 3, 7, 10, 11, 12, 13, 14, 15\n",
    "\n",
    "#### Post-order\n",
    "1, 7, 3, 11, 13, 15, 14, 12, 10\n",
    "\n",
    "#### Level-order\n",
    "10, 3, 12, 1, 7, 11, 14, 13, 15"
   ]
  },
  {
   "cell_type": "markdown",
   "metadata": {},
   "source": [
    "# Tries\n",
    "## 2.1\n",
    "\n",
    "#### What strings are stored in the trie below?\n",
    "Ans: INDEX, INCH, INFO\n",
    "\n",
    "#### Now insert the strings `indent`, `inches`, and `trie`.\n",
    "![](images/trie.png)"
   ]
  },
  {
   "cell_type": "code",
   "execution_count": null,
   "metadata": {},
   "outputs": [],
   "source": []
  }
 ],
 "metadata": {
  "kernelspec": {
   "display_name": "Java",
   "language": "java",
   "name": "java"
  },
  "language_info": {
   "codemirror_mode": "java",
   "file_extension": ".jshell",
   "mimetype": "text/x-java-source",
   "name": "Java",
   "pygments_lexer": "java",
   "version": "11.0.6+10-post-Ubuntu-1ubuntu118.04.1"
  }
 },
 "nbformat": 4,
 "nbformat_minor": 2
}
