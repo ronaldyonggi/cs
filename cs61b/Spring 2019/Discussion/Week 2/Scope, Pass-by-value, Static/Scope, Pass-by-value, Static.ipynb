{
 "cells": [
  {
   "cell_type": "markdown",
   "metadata": {},
   "source": [
    "# 1. Pass-by-What?"
   ]
  },
  {
   "cell_type": "code",
   "execution_count": 20,
   "metadata": {},
   "outputs": [],
   "source": [
    "public class Pokemon {\n",
    "    // Instance variables\n",
    "    public String name;\n",
    "    public int level;\n",
    "    \n",
    "    // Pokemon constructor\n",
    "    public Pokemon(String name, int level) {\n",
    "        this.name = name;\n",
    "        this.level = level;\n",
    "    }\n",
    "    \n",
    "    // Main method\n",
    "    public static void main(String[] args) {\n",
    "        Pokemon p = new Pokemon(\"Pikachu\", 17);\n",
    "        int level = 100;\n",
    "        change(p, level);\n",
    "        System.out.println(\"Name: \" + p.name + \", Level: \" + p.level);\n",
    "    }\n",
    "    \n",
    "    // Change method\n",
    "    public static void change(Pokemon poke, int level) {\n",
    "        poke.level = level;\n",
    "        level = 50;\n",
    "        poke = new Pokemon(\"Gengar\", 1);\n",
    "    }\n",
    "}"
   ]
  },
  {
   "cell_type": "markdown",
   "metadata": {},
   "source": [
    "#### Writer's note\n",
    "In the main method above, `change` is called independently (instead of called as an object's method, e.g. `p.change`). This occurrence doesn't work with IJava, but somehow works if run through the traditional method of compiling the `.java` file via `javac` then running it.\n",
    "\n",
    "To make it run in IJava, I changed the `change(p, level);` to `p.change(p, level);`."
   ]
  },
  {
   "cell_type": "code",
   "execution_count": 6,
   "metadata": {},
   "outputs": [
    {
     "name": "stdout",
     "output_type": "stream",
     "text": [
      "Name: Pikachu, Level: 100\n"
     ]
    }
   ],
   "source": [
    "Pokemon p = new Pokemon(\"Pikachu\", 17);\n",
    "int level = 100;\n",
    "p.change(p, level);\n",
    "System.out.println(\"Name: \" + p.name + \", Level: \" + p.level);"
   ]
  },
  {
   "cell_type": "markdown",
   "metadata": {},
   "source": [
    "#### (a) \n",
    "What would Java display?\n",
    "\n",
    "**Ans**:\n",
    "`Name: Pikachu, Level: 100`"
   ]
  },
  {
   "cell_type": "markdown",
   "metadata": {},
   "source": [
    "#### (b) \n",
    "Draw the box-and-pointer diagram after Java evaluates the `main` method\n",
    "\n",
    "**Ans** [here](https://cscircles.cemc.uwaterloo.ca/java_visualize/#code=public+class+Pokemon+%7B%0A++++public+String+name%3B%0A++++public+int+level%3B%0A%0A++++public+Pokemon(String+name,+int+level)+%7B%0A++++++++this.name+%3D+name%3B%0A++++++++this.level+%3D+level%3B%0A++++%7D%0A%0A++++public+static+void+main(String%5B%5D+args)+%7B%0A++++++++Pokemon+p+%3D+new+Pokemon(%22Pikachu%22,+17)%3B%0A++++++++int+level+%3D+100%3B%0A++++++++change(p,+level)%3B%0A++++++++System.out.println(%22Name%3A+%22+%2B+p.name+%2B+%22,+Level%3A+%22+%2B+p.level)%3B%0A++++%7D%0A++++%0A++++public+static+void+change(Pokemon+poke,+int+level)+%7B%0A++++++++poke.level+%3D+level%3B%0A++++++++level+%3D+50%3B%0A++++++++poke+%3D+new+Pokemon(%22Gengar%22,+1)%3B%0A++++%7D%0A%7D&mode=display&curInstr=0&showStringsAsObjects=1)\n",
    "\n",
    "<img src = 'gengar.png' width = 400/>\n",
    "\n",
    "When the new `Pokemon` object `Gengar` was created, the `poke` is referring to the local variable containing the parameter to the `change` method. This `poke` isn't saved to `p` and thus once initiated, it is destroyed by the garbage collector."
   ]
  },
  {
   "cell_type": "markdown",
   "metadata": {},
   "source": [
    "#### (c)\n",
    "On line 19, we set `level` equal to 50. What `level` do we mean? \n",
    "* An instance variable of the `Pokemon` class? \n",
    "* The local variable containing the parameter to the `change` method?\n",
    "* The local variable in the `main` method?\n",
    "* Something else?\n",
    "\n",
    "**Ans**: The local variable in the `change` method. It doesn't have any effect on the oher variables of the same name in the `Pokemon` class or the `main` method."
   ]
  },
  {
   "cell_type": "code",
   "execution_count": 6,
   "metadata": {},
   "outputs": [
    {
     "ename": "CompilationException",
     "evalue": "",
     "output_type": "error",
     "traceback": [
      "\u001b[1m\u001b[30m|   \u001b[1m\u001b[30m\u001b[0m\u001b[1m\u001b[30m\u001b[41mchange\u001b[0m\u001b[1m\u001b[30m(p, level);\u001b[0m",
      "\u001b[1m\u001b[31mcannot find symbol\u001b[0m",
      "\u001b[1m\u001b[31m  symbol:   method change(Pokemon,int)\u001b[0m",
      ""
     ]
    }
   ],
   "source": [
    "Pokemon p = new Pokemon(\"Pikachu\", 17);\n",
    "int level = 100;\n",
    "change(p, level);\n",
    "System.out.println(\"Name: \" + p.name + \", Level: \" + p.level);"
   ]
  },
  {
   "cell_type": "markdown",
   "metadata": {},
   "source": [
    "# 2. Static Methods and Variables"
   ]
  },
  {
   "cell_type": "code",
   "execution_count": 10,
   "metadata": {},
   "outputs": [],
   "source": [
    "public class Cat {\n",
    "    public String name;\n",
    "    public static String noise;\n",
    "    \n",
    "    // Cat constructor\n",
    "    public Cat(String name, String noise) {\n",
    "        this.name = name;\n",
    "        this.noise = noise;\n",
    "    }\n",
    "    \n",
    "    // play method\n",
    "    public void play() {\n",
    "        System.out.println(noise + \" I'm \" + name + \" the cat!\");\n",
    "    }\n",
    "    \n",
    "    // anger method\n",
    "    public static void anger() {\n",
    "        noise = noise.toUpperCase();\n",
    "    }\n",
    "    \n",
    "    // calm method\n",
    "    public static void calm() {\n",
    "        noise = noise.toLowerCase();\n",
    "    }\n",
    "}"
   ]
  },
  {
   "cell_type": "markdown",
   "metadata": {},
   "source": [
    "## 2.1\n",
    "Write what will happen after each call of `play()` in the following method."
   ]
  },
  {
   "cell_type": "code",
   "execution_count": 8,
   "metadata": {},
   "outputs": [],
   "source": [
    "Cat a = new Cat(\"Cream\", \"Meow!\");\n",
    "Cat b = new Cat(\"Tubbs\", \"Nyan!\");"
   ]
  },
  {
   "cell_type": "code",
   "execution_count": 12,
   "metadata": {},
   "outputs": [
    {
     "name": "stdout",
     "output_type": "stream",
     "text": [
      "Nyan! I'm Cream the cat!\n"
     ]
    }
   ],
   "source": [
    "a.play()\n",
    "// \"Nyan! I'm Cream the cat!\""
   ]
  },
  {
   "cell_type": "markdown",
   "metadata": {},
   "source": [
    "#### Explanation\n",
    "The variable `noise` was declared to be `static` variable. This means **there is only one `noise` variable for the entire `Cat` class**. In contrast with `name`, every time a `Cat` object is created, it gets its own name.\n",
    "\n",
    "One common use of static variables is for storing the total number of objects that have been created for a particular class. There only needs to be one variable per class for storing something like this!\n",
    "\n",
    "Since there's only one `noise` variable,\n",
    "* `noise` is first set to `\"Meow!\"`\n",
    "* Then it changes to `\"Nyan!\"`\n",
    "\n",
    "Then `\"Meow!\"` is forgotten forever."
   ]
  },
  {
   "cell_type": "code",
   "execution_count": null,
   "metadata": {},
   "outputs": [],
   "source": [
    "b.play()\n",
    "// \"Nyan! I'm Tubbs the cat!\""
   ]
  },
  {
   "cell_type": "code",
   "execution_count": 13,
   "metadata": {},
   "outputs": [
    {
     "name": "stdout",
     "output_type": "stream",
     "text": [
      "nyan! I'm Cream the cat!\n"
     ]
    }
   ],
   "source": [
    "Cat.anger();\n",
    "a.calm();\n",
    "a.play();\n",
    "// \"nyan! I'm Cream the cat!\""
   ]
  },
  {
   "cell_type": "markdown",
   "metadata": {},
   "source": [
    "Above, the sequence of `.anger()` and `.calm()` change our one and only `noise` to `\"nyan!\"`."
   ]
  },
  {
   "cell_type": "code",
   "execution_count": 14,
   "metadata": {},
   "outputs": [
    {
     "name": "stdout",
     "output_type": "stream",
     "text": [
      "nyan! I'm Tubbs the cat!\n"
     ]
    }
   ],
   "source": [
    "b.play();\n",
    "// \"nyan! I'm Tubbs the cat!\""
   ]
  },
  {
   "cell_type": "markdown",
   "metadata": {},
   "source": [
    "Note that `anger` and `calm` are declared static themselves. Static methods can be called using the name of the class (e.g. `Cat.anger()`) where as non-static methods can't. The golden rule for static methods is that **static methods can only modify static variables**.\n",
    "\n",
    "**Why?**\n",
    "\n",
    "If we had a static method, say, `changeNameToBob` and called `Cat.changeNameToBob()`, whose anem would we change? `Cat a`? `Cat b`? We don't know."
   ]
  },
  {
   "cell_type": "markdown",
   "metadata": {},
   "source": [
    "# 3. Practice with Linked Lists"
   ]
  },
  {
   "cell_type": "markdown",
   "metadata": {},
   "source": [
    "## 3.1\n",
    "Draw the box-and-pointer diagram that results from running the following code. A `StringList` is similar to an `IntList`. It has 2 instance variables: `first` and `rest`."
   ]
  },
  {
   "cell_type": "code",
   "execution_count": 17,
   "metadata": {},
   "outputs": [],
   "source": [
    "public class StringList{\n",
    "    public String first;\n",
    "    public StringList rest;\n",
    "    \n",
    "    public StringList(String first, StringList rest){\n",
    "        this.first = first;\n",
    "        this.rest = rest;\n",
    "    }\n",
    "}"
   ]
  },
  {
   "cell_type": "code",
   "execution_count": 18,
   "metadata": {},
   "outputs": [],
   "source": [
    "StringList L = new StringList(\"eat\", null);\n",
    "L = new StringList(\"shouldn't\", L);\n",
    "L = new StringList(\"you\", L);\n",
    "L = new StringList(\"sometimes\", L);\n",
    "StringList M = L.rest;\n",
    "StringList R = new StringList(\"many\", null);\n",
    "R = new StringList(\"potatoes\", R);\n",
    "R.rest.rest = R;\n",
    "M.rest.rest.rest = R.rest;\n",
    "L.rest.rest = L.rest.rest.rest;\n",
    "L = M.rest;"
   ]
  },
  {
   "cell_type": "markdown",
   "metadata": {},
   "source": [
    "**Ans**: [Here](http://cscircles.cemc.uwaterloo.ca/java_visualize/#code=public+class+StringList+%7B%0A+++String+head%3B%0A+++StringList+tail%3B%0A+++public+StringList(String+head,+StringList+tail)+%7B%0A++++++this.head+%3D+head%3B%0A++++++this.tail%3Dtail%3B%0A+++%7D%0A+++public+static+void+main(String%5B%5D+args)+%7B%0A+++StringList+L+%3D+new+StringList(%22eat%22,+null)%3B%0A%09L+%3D+new+StringList(%22shouldn't%22,+L)%3B%0A%09L+%3D+new+StringList(%22you%22,+L)%3B%0A%09L+%3D+new+StringList(%22sometimes%22,+L)%3B%0A%09StringList+M+%3D+L.tail%3B%0A%09StringList+R+%3D+new+StringList(%22many%22,+null)%3B%0A%09R+%3D+new+StringList(%22potatoes%22,+R)%3B%0A%09R.tail.tail+%3D+R%3B%0A%09M.tail.tail.tail+%3D+R.tail%3B%0A%09L.tail.tail+%3D+L.tail.tail.tail%3B%0A%09L+%3D+M.tail%3B%0A+++%7D%0A%7D%0A&mode=display&showStringsAsObjects=&curInstr=52)"
   ]
  },
  {
   "cell_type": "code",
   "execution_count": null,
   "metadata": {},
   "outputs": [],
   "source": [
    "StringList L = new StringList (\"eat\", null);\n",
    "L = new StringList(\"shouldn't\", L);\n",
    "// At this point L is \"shouldn't\" --> \"eat\" --> null\n",
    "L = new StringList(\"you\", L);\n",
    "// At this point L is \"you\" --> \"shouldn't\" --> \"eat\" --> null\n",
    "L = new StringList(\"sometimes\", L);\n",
    "// At this point L is \"sometimes\" --> \"you\" --> \"shouldn't\" --> \"eat\" --> null\n",
    "StringList M = L.rest;\n",
    "// M is \"you\" --> \"shouldn't\" --> \"eat\" --> null\n",
    "// Note that now M and L are the same list, but they are pointing at different starting point\n",
    "StringList R = new StringList(\"many\", null);\n",
    "// R is \"many\" -- > null\n",
    "R = new StringList(\"potatoes\", R);\n",
    "// R is \"potatoes\" --> \"many\" --> null\n",
    "R.rest.rest = R;\n",
    "// R is \"potatoes\" --> \"many\" --> \"potatoes\" --> \"many\" --> ... (infinite cycle)\n",
    "M.rest.rest.rest = R.rest;\n",
    "// M is \"you\" --> \"shouldn't\" --> \"eat\" --> \"many\" --> \"potatoes\" --> \"many\" --> ... (infinite cycle)\n",
    "L.rest.rest = L.rest.rest.rest;\n",
    "\n",
    "// Recall that L and M are the same list but different starting point.\n",
    "// M starts at \"you\", which is L.rest\n",
    "// while L starts at \"sometimes\", which is the beginning of the list.\n",
    "// Before the change, L is \"sometimes\" --> \"you\" --> \"shouldn't\" --> \"eat\" --> \"many\" --> \"potatoes\" --> \"many\" --> ... (infinite cycle)\n",
    "// After the change, L is now \"sometimes\" --> \"you\" --> \"eat\" --> \"many\" --> \"potatoes\" --> \"many\" --> ... (infinite cycle)\n",
    "\n",
    "L = M.rest\n",
    "// Again, L and M are the same list but different starting point.\n",
    "// The statement L.rest.rest = L.rest.rest.rest; affects M as well\n",
    "// M is now \"you\" --> \"eat\" --> \"many\" --> \"potatoes\" --> \"many\" --> ... (infinite cycle)\n",
    "// L is now \"eat\" --> \"many\" --> \"potatoes\" --> \"many\" --> ... (infinite cycle)"
   ]
  },
  {
   "cell_type": "markdown",
   "metadata": {},
   "source": [
    "# 4. Squaring a List `Extra`"
   ]
  },
  {
   "cell_type": "markdown",
   "metadata": {},
   "source": [
    "## 4.1\n",
    "Implement `square` and `squareDestructive`, which are static methods that both take in an `IntList L` and return an `IntList` with its integer values all squared.\n",
    "* `square` does this non-destructively with recursion by creating new `IntLists`\n",
    "* `squareDestructive` uses an iterative approach to change the instance variables of the input `IntList L`."
   ]
  },
  {
   "cell_type": "code",
   "execution_count": 1,
   "metadata": {},
   "outputs": [],
   "source": [
    "public class IntList {\n",
    "    public int first;\n",
    "    public IntList rest;\n",
    "    \n",
    "    public IntList(int f, IntList r){\n",
    "        first = f;\n",
    "        rest = r;\n",
    "    }\n",
    "    \n",
    "    public int get(int i){\n",
    "        // Using recursive\n",
    "        if (i == 0) {\n",
    "            return this.first;\n",
    "        } else {\n",
    "            return this.rest.get(i-1);\n",
    "        }\n",
    "    }\n",
    "    \n",
    "}"
   ]
  },
  {
   "cell_type": "code",
   "execution_count": 11,
   "metadata": {},
   "outputs": [],
   "source": [
    "public static IntList square(IntList L) {\n",
    "    if (L.rest == null) return new IntList(L.first * L.first, L.rest); // Exactly the same as Video 10 Lecture 3\n",
    "    IntList result = new IntList(L.first * L.first, square(L.rest));\n",
    "    return result;\n",
    "}"
   ]
  },
  {
   "cell_type": "code",
   "execution_count": 12,
   "metadata": {},
   "outputs": [],
   "source": [
    "public static IntList squareDestructive(IntList L) {\n",
    "    IntList pointer = L;\n",
    "    while (pointer != null) {\n",
    "        pointer.first = pointer.first * pointer.first;\n",
    "        pointer = pointer.rest;\n",
    "    }\n",
    "    return L;\n",
    "}"
   ]
  },
  {
   "cell_type": "markdown",
   "metadata": {},
   "source": [
    "## Extra\n",
    "Now implement `square` iteratively and `squareDestructive` recursively."
   ]
  }
 ],
 "metadata": {
  "kernelspec": {
   "display_name": "Python 3",
   "language": "python",
   "name": "python3"
  },
  "language_info": {
   "codemirror_mode": {
    "name": "ipython",
    "version": 3
   },
   "file_extension": ".py",
   "mimetype": "text/x-python",
   "name": "python",
   "nbconvert_exporter": "python",
   "pygments_lexer": "ipython3",
   "version": "3.7.4"
  }
 },
 "nbformat": 4,
 "nbformat_minor": 4
}
