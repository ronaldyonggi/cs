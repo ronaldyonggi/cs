{
 "cells": [
  {
   "cell_type": "markdown",
   "metadata": {},
   "source": [
    "## 3.1\n",
    "Assume that `Animal` and `Cat` are defined as above. What would Java print on each of the indicated lines?"
   ]
  },
  {
   "cell_type": "code",
   "execution_count": null,
   "metadata": {},
   "outputs": [],
   "source": [
    "Animal a = new Animal(\"Pluto\", 10);\n",
    "Cat c = new Cat(\"Garfield\", 6);\n",
    "Dog d = new Dog(\"Fido\", 4);"
   ]
  },
  {
   "cell_type": "code",
   "execution_count": null,
   "metadata": {},
   "outputs": [],
   "source": [
    "a.greet();\n",
    "// \"Animal Pluto says: Huh?\""
   ]
  },
  {
   "cell_type": "code",
   "execution_count": null,
   "metadata": {},
   "outputs": [],
   "source": [
    "c.greet();\n",
    "// \"Cat Garfield says: Meow!\""
   ]
  },
  {
   "cell_type": "code",
   "execution_count": null,
   "metadata": {},
   "outputs": [],
   "source": [
    "d.greet();\n",
    "// \"Dog Fido says: WOOF!\""
   ]
  },
  {
   "cell_type": "code",
   "execution_count": null,
   "metadata": {},
   "outputs": [],
   "source": [
    "a = c; // Now a is pointing at the Cat Garfield object"
   ]
  },
  {
   "cell_type": "code",
   "execution_count": null,
   "metadata": {},
   "outputs": [],
   "source": [
    "((Cat) a).greet();\n",
    "// Regardless of the compile-time type of a, dynamic method selection occurs.\n",
    "// Therefore, it executes Cat's greet() method.\n",
    "\n",
    "//\"Cat Garfield says: Meow!\""
   ]
  },
  {
   "cell_type": "code",
   "execution_count": null,
   "metadata": {},
   "outputs": [],
   "source": [
    "a.greet();\n",
    "// Same outcome as previous cell"
   ]
  },
  {
   "cell_type": "markdown",
   "metadata": {},
   "source": [
    "Consider what would happen if we added the following to the bottom of `main`,"
   ]
  },
  {
   "cell_type": "code",
   "execution_count": null,
   "metadata": {},
   "outputs": [],
   "source": [
    "a = new Dog(\"Spot\", 10);\n",
    "d = a;"
   ]
  },
  {
   "cell_type": "markdown",
   "metadata": {},
   "source": [
    "Why would this code produce a compiler error? How could we fix this error?"
   ]
  },
  {
   "cell_type": "markdown",
   "metadata": {},
   "source": [
    "### Answer"
   ]
  },
  {
   "cell_type": "markdown",
   "metadata": {},
   "source": [
    "* `d`'s compile-time type is a `Dog`\n",
    "* `a`'s compile-time type is an `Animal`\n",
    "\n",
    "With the code above, we are trying to say that an `Animal` is a `Dog`, which is necessarily true. Dog is a subclass of Animals.\n",
    "\n",
    "To fix this error, we can cast `a` as a `Dog` object"
   ]
  },
  {
   "cell_type": "code",
   "execution_count": null,
   "metadata": {},
   "outputs": [],
   "source": [
    "d = (Dog) a;"
   ]
  },
  {
   "cell_type": "markdown",
   "metadata": {},
   "source": [
    "This way, we promised the compiler that at runtime, `a` is bound to an object that is compatible with the `Dog` type."
   ]
  },
  {
   "cell_type": "code",
   "execution_count": null,
   "metadata": {},
   "outputs": [],
   "source": []
  }
 ],
 "metadata": {
  "kernelspec": {
   "display_name": "Python 3",
   "language": "python",
   "name": "python3"
  },
  "language_info": {
   "codemirror_mode": {
    "name": "ipython",
    "version": 3
   },
   "file_extension": ".py",
   "mimetype": "text/x-python",
   "name": "python",
   "nbconvert_exporter": "python",
   "pygments_lexer": "ipython3",
   "version": "3.7.3"
  }
 },
 "nbformat": 4,
 "nbformat_minor": 4
}
