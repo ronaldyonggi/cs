{
 "cells": [
  {
   "cell_type": "markdown",
   "metadata": {},
   "source": [
    "## 1.1\n",
    "What are the advantages and disadvantages of writing JUnit tests?\n",
    "\n",
    "### Ans:\n",
    "\n",
    "##### Advantages\n",
    "1. Keeps code organized\n",
    "    * Each test corresponds to building blocks of the program\n",
    "2. Allows us to test individual part of codes\n",
    "    * Easier to find where exactly the bug is\n",
    "3. Provides documentation that the program works\n",
    "4. Can reduce the amount of test code we need to write\n",
    "    * We can reuse code\n",
    "\n",
    "##### Disadvantages\n",
    "1. Writing JUnit tests takes time\n",
    "2. Builds false sense of confidence\n",
    "3. Difficult to use for higher-level testing"
   ]
  },
  {
   "cell_type": "code",
   "execution_count": null,
   "metadata": {},
   "outputs": [],
   "source": []
  }
 ],
 "metadata": {
  "kernelspec": {
   "display_name": "Python 3",
   "language": "python",
   "name": "python3"
  },
  "language_info": {
   "codemirror_mode": {
    "name": "ipython",
    "version": 3
   },
   "file_extension": ".py",
   "mimetype": "text/x-python",
   "name": "python",
   "nbconvert_exporter": "python",
   "pygments_lexer": "ipython3",
   "version": "3.7.3"
  }
 },
 "nbformat": 4,
 "nbformat_minor": 4
}
