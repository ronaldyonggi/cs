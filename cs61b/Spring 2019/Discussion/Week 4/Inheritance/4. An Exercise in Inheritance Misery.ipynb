{
 "cells": [
  {
   "cell_type": "markdown",
   "metadata": {},
   "source": [
    "Find the lines that cause compile-time errors or cascading errors (failures that occur because of an error that happened earlier in the program). What does `D.main` output after removing those lines?"
   ]
  },
  {
   "cell_type": "code",
   "execution_count": null,
   "metadata": {},
   "outputs": [],
   "source": [
    "class C extends B{\n",
    "    public void m4() {\n",
    "        // Can't do super.super\n",
    "        System.out.println(\"Cm4-> \" + super.super.x);\n",
    "    }\n",
    "}"
   ]
  },
  {
   "cell_type": "code",
   "execution_count": null,
   "metadata": {},
   "outputs": [],
   "source": [
    "B a0 = new A();\n",
    "// Compilation error because B is a subclass of A.\n",
    "\n",
    "// The following lines are cascading errors\n",
    "a0.m1();\n",
    "a0.m2(16); \n"
   ]
  },
  {
   "cell_type": "code",
   "execution_count": null,
   "metadata": {},
   "outputs": [],
   "source": [
    "A b0 = new B();\n",
    "System.out.println(b0.x); // prints \"5\"\n",
    "\n",
    "b0.m1();\n",
    "// Prints \"Am1-> 5\"\n",
    "\n",
    "b0.m2(); // Dynamic method selection occurs since the dynamic type of b0 is B. Executes B's m2()\n",
    "// Prints \"Bm2-> 5\"\n",
    "\n",
    "b0.m2(61);\n",
    "// Compilation error. The static type of b0 is A, and A doesn't have m2(int y) method"
   ]
  },
  {
   "cell_type": "code",
   "execution_count": null,
   "metadata": {},
   "outputs": [],
   "source": [
    "B b1 = new B();\n",
    "b1.m2(61);\n",
    "// Prints \"Bm2y-> 61\"\n",
    "\n",
    "b1.m3();\n",
    "// Prints \"Bm3-> called\""
   ]
  },
  {
   "cell_type": "code",
   "execution_count": null,
   "metadata": {},
   "outputs": [],
   "source": [
    "A c0 = new C();\n",
    "c0.m2();\n",
    "// Prints \"Cm2-> 5\""
   ]
  },
  {
   "cell_type": "code",
   "execution_count": null,
   "metadata": {},
   "outputs": [],
   "source": [
    "C c1 = (A) new C(); // Compilation error! C is a subtype of A"
   ]
  },
  {
   "cell_type": "code",
   "execution_count": null,
   "metadata": {},
   "outputs": [],
   "source": [
    "A a1 = (A) c0;\n",
    "C c2 = (C) a1;\n",
    "c2.m3() // C class doesn't have a .m3() method, but C extends from B. B has a .m3() method, so use B's .m3()\n",
    "// Prints \"Bm3-> called\"\n",
    "\n",
    "c2.m4(); // Compilation error! Can't do super.super\n",
    "\n",
    "c2.m5();\n",
    "// Prints \"Cm5-> 6\""
   ]
  },
  {
   "cell_type": "code",
   "execution_count": null,
   "metadata": {},
   "outputs": [],
   "source": [
    "((C) c0).m3();\n",
    "// Prints \"Bm3-> called\"\n",
    "\n",
    "(C) c0.m3(); // Error\n",
    "// Here, we are trying to cast the result of c0.m3(), which returns void. We can't cast a void object, \n",
    "// so compile-time error!"
   ]
  },
  {
   "cell_type": "code",
   "execution_count": null,
   "metadata": {},
   "outputs": [],
   "source": [
    "b0.update(); // x is now 99\n",
    "b0.m1();\n",
    "// Prints \"Am1-> 99\""
   ]
  }
 ],
 "metadata": {
  "kernelspec": {
   "display_name": "Python 3",
   "language": "python",
   "name": "python3"
  },
  "language_info": {
   "codemirror_mode": {
    "name": "ipython",
    "version": 3
   },
   "file_extension": ".py",
   "mimetype": "text/x-python",
   "name": "python",
   "nbconvert_exporter": "python",
   "pygments_lexer": "ipython3",
   "version": "3.7.3"
  }
 },
 "nbformat": 4,
 "nbformat_minor": 4
}
