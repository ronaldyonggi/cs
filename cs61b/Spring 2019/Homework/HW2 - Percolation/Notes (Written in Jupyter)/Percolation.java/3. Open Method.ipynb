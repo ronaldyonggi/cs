{
 "cells": [
  {
   "cell_type": "markdown",
   "metadata": {},
   "source": [
    "The main idea of the `open` method is simply to change the value of the boolean `openArray` from `false` to `true`. However, there are a few things that we need to take into account:\n",
    "\n",
    "1. The `open` method only works if the site that we're trying to open is closed. If it's already open in the first place, then do nothing!\n",
    "2. If we are opening a site, increment the `openSites`"
   ]
  },
  {
   "cell_type": "code",
   "execution_count": null,
   "metadata": {},
   "outputs": [],
   "source": [
    "public void open(int row, int col){\n",
    "    validate(row, col); // Validate the input row and col!\n",
    "    \n",
    "    if (!isOpen(row, col)){ // If the site is closed\n",
    "        /* Convert the input row and col to a 1D index */\n",
    "        int current = convert2Dto1D(row, col);\n",
    "        openArray[current] = true; // Change boolean to true\n",
    "        openSites += 1; // Increment openSites\n",
    "    }\n",
    "    \n",
    "    ...\n",
    "}"
   ]
  },
  {
   "cell_type": "markdown",
   "metadata": {},
   "source": [
    "We're not done yet! If we have 2 or more open sites adjacent to each other (up, down, left, right), we need to connect all of them. For every adjacent site that we check, also make sure they are still within range (e.g. if the current site is already in the top row, there can't be anything above it)."
   ]
  },
  {
   "cell_type": "code",
   "execution_count": null,
   "metadata": {},
   "outputs": [],
   "source": [
    "// ABOVE\n",
    "\n",
    "/* Checks if the site above the current site is still within the \n",
    "system range */\n",
    "if (row - 1 >= 0) {\n",
    "    int above = convert2Dto1D(row-1, col);\n",
    "    if (isOpen(row-1, col)){ // If that site is open\n",
    "        union(current, above); // Connect the current site with above\n",
    "    }\n",
    "}"
   ]
  },
  {
   "cell_type": "code",
   "execution_count": null,
   "metadata": {},
   "outputs": [],
   "source": [
    "// LEFT\n",
    "\n",
    "/* Checks if the site on the left is still within system range */\n",
    "if (col - 1 >= 0) {\n",
    "    int left = convert2Dto1D(row, col-1);\n",
    "    if (isOpen(row, col-1)){\n",
    "        union(current, left);\n",
    "    }\n",
    "}"
   ]
  },
  {
   "cell_type": "code",
   "execution_count": null,
   "metadata": {},
   "outputs": [],
   "source": [
    "// BELOW\n",
    "if(row + 1 <= length - 1) {\n",
    "    int below = convert2Dto1D(row+1, col);\n",
    "    if (isOpen(row+1, col)) {\n",
    "        union(current, below);\n",
    "    }\n",
    "}"
   ]
  },
  {
   "cell_type": "code",
   "execution_count": null,
   "metadata": {},
   "outputs": [],
   "source": [
    "// RIGHT\n",
    "if (col + 1 <= length-1) {\n",
    "    int right = convert2Dto1D(row, col + 1);\n",
    "    if (isOpen(row, col+1)) {\n",
    "        union(current, right);\n",
    "    }\n",
    "}\n"
   ]
  }
 ],
 "metadata": {
  "kernelspec": {
   "display_name": "Java",
   "language": "java",
   "name": "java"
  },
  "language_info": {
   "codemirror_mode": "java",
   "file_extension": ".jshell",
   "mimetype": "text/x-java-source",
   "name": "Java",
   "pygments_lexer": "java",
   "version": "12.0.2+10"
  }
 },
 "nbformat": 4,
 "nbformat_minor": 4
}
