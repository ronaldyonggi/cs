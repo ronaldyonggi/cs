{
 "cells": [
  {
   "cell_type": "markdown",
   "metadata": {},
   "source": [
    "Recall that our Percolation class extends from `WeightedQuickUnionUF`. Thus we can simply use the WQUF's constructor.\n",
    "\n",
    "1. Princeton's WQUF constructor already comes with a validator that checks the input N and throws IllegalArgumentException if N is invalid. See [here](https://algs4.cs.princeton.edu/code/javadoc/edu/princeton/cs/algs4/WeightedQuickUnionUF.html)\n",
    "    * Remember that WQUF is a 1D array, so when we construct the data structure, we need to specify the size to be NxN\n",
    "2. And we need to specify the size of boolean `open` array to as well.\n",
    "3. As well as the `length` of the system."
   ]
  },
  {
   "cell_type": "code",
   "execution_count": null,
   "metadata": {},
   "outputs": [],
   "source": [
    "public Percolation(int N){\n",
    "    super(N*N); // Calls the WQUF's constructor\n",
    "    openArray = new boolean[N*N]; // Specify the size of boolean open array\n",
    "    length = N; // Specify the length"
   ]
  },
  {
   "cell_type": "markdown",
   "metadata": {},
   "source": [
    "## Virtual Top Site\n",
    "In the previous implementation, to check whether a site is filled, we can:\n",
    "1. Loop through the top sites\n",
    "2. And check if they are connected to the site\n",
    "\n",
    "However, this method is tedious and slow since we'd have to loop every time we want to check if a site is filled. One improvement that we can do is to **connect all the top sites with each other**. This way, we know that if any of the sites is connected to the top site, it is filled."
   ]
  },
  {
   "cell_type": "code",
   "execution_count": null,
   "metadata": {},
   "outputs": [],
   "source": [
    "/** Connect all the top sites */\n",
    "for (int i = 1; i < length; i++){\n",
    "    // Connect all the top sites other than the 0 site, with the 0 site\n",
    "    union(0, i;)\n",
    "}"
   ]
  },
  {
   "cell_type": "markdown",
   "metadata": {},
   "source": [
    "## Virtual Bottom Site\n",
    "\n",
    "Similar concept as Virtual Top Site, if we want to check whether the system percolates, we can loop through each of the bottom site and see if any of them is connected to a site that is filled. However, this is too slow. Instead, we can connect all the bottom sites altogether."
   ]
  },
  {
   "cell_type": "code",
   "execution_count": null,
   "metadata": {},
   "outputs": [],
   "source": [
    "/** Connect all the bottom sites */\n",
    "for (int i = N*N-2; i >= N*N-N; i--) {\n",
    "    /* Connect all the bottom sites with the last 1D site */\n",
    "    unon(N*N-1, i);\n",
    "}"
   ]
  },
  {
   "cell_type": "markdown",
   "metadata": {},
   "source": []
  }
 ],
 "metadata": {
  "kernelspec": {
   "display_name": "Java",
   "language": "java",
   "name": "java"
  },
  "language_info": {
   "codemirror_mode": "java",
   "file_extension": ".jshell",
   "mimetype": "text/x-java-source",
   "name": "Java",
   "pygments_lexer": "java",
   "version": "12.0.2+10"
  }
 },
 "nbformat": 4,
 "nbformat_minor": 4
}
