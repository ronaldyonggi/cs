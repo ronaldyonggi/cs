{
 "cells": [
  {
   "cell_type": "markdown",
   "metadata": {},
   "source": [
    "The provided class has the following signature,"
   ]
  },
  {
   "cell_type": "code",
   "execution_count": null,
   "metadata": {},
   "outputs": [],
   "source": [
    "public class Percolation{\n",
    "    ...\n",
    "}"
   ]
  },
  {
   "cell_type": "markdown",
   "metadata": {},
   "source": [
    "But notice that our Percolation system consists of a `WeightedQuickUnionUF` object. In that case, we might as well make the Percolation system itself works like one using the `extends` keyword."
   ]
  },
  {
   "cell_type": "code",
   "execution_count": null,
   "metadata": {},
   "outputs": [],
   "source": [
    "public class Percolation extends WeightedQuickUnionUF{\n",
    "    ...\n",
    "}"
   ]
  },
  {
   "cell_type": "markdown",
   "metadata": {},
   "source": [
    "Our Percolation system has the following variables:\n",
    "1. A boolean array that indicates whether a site is open\n",
    "2. An `int` that stores the length of the system\n",
    "    * If our system is NxN size, then `length = N`\n",
    "3. An `int` that stores the number of open sites\n",
    "    * This is useful for `numberOfOpenSites()` method later."
   ]
  },
  {
   "cell_type": "code",
   "execution_count": null,
   "metadata": {},
   "outputs": [],
   "source": [
    "/** Boolean array that indicates whether a site is open */\n",
    "private boolean[] openArray;\n",
    "\n",
    "/** The length of the system */\n",
    "private int length;\n",
    "\n",
    "/** The number of open sites */\n",
    "private int openSites = 0;"
   ]
  },
  {
   "cell_type": "markdown",
   "metadata": {},
   "source": [
    "## Validating Input `row` and `column`\n",
    "We want to make sure the input `row` and `column` for most methods are valid. In that case, it is convenient to make a method that validates the `row` and `column` so that we can call this method within other methods."
   ]
  },
  {
   "cell_type": "code",
   "execution_count": null,
   "metadata": {},
   "outputs": [],
   "source": [
    "/* Throws an IndexOutofBoundsException if either the input\n",
    "row or column is greater than length-1 */\n",
    "private void validate(int r, int c) {\n",
    "    if (r > length-1) {\n",
    "        throw new IndexOutOfBoundsException(\"Invalid row input\");\n",
    "    } else if (c > length - 1) {\n",
    "        throw new IndexOutOfBoundsException(\"Invalid column input\");\n",
    "    }\n",
    "}"
   ]
  },
  {
   "cell_type": "markdown",
   "metadata": {},
   "source": [
    "## Convert 2D to 1D"
   ]
  },
  {
   "cell_type": "markdown",
   "metadata": {},
   "source": [
    "Our WQUF (Weighted Quick Union UF) data structure consists of a 1D array, but our percolation system thinks of it as a 2D array. In this case, we can create a `private` method that converts an input `row` and `column` to a 1D index to access the element in the WQUF.\n",
    "\n",
    "If we look at an example representation of the percolations system at slide 8 [here](https://docs.google.com/presentation/d/1AV5v-gTSIi5xUwtm-FtkReUmuTA3Mqry1eGjje7OgQo/edit#slide=id.g11dd5164a7_2_32), \n",
    "\n",
    "![](images/map.png)\n",
    "\n",
    "Each vertical index(row) is a multiple of `length` of the system. In the example above, each row is a multiple of 5 index. Therefore given a `row` and `column`, we can convert them to a 1D index by:\n",
    "1. Multiply the `row` with the `length`, and summing it with,\n",
    "2. The `column`"
   ]
  },
  {
   "cell_type": "code",
   "execution_count": null,
   "metadata": {},
   "outputs": [],
   "source": [
    "/* Converts a 2D input of row and column to a 1D index */\n",
    "private int convert2Dto1D(int row, int col) {\n",
    "    validate(row, col); // Here we can use the validate method that we just created! \n",
    "    return (row * length) + col;\n",
    "    \n",
    "}"
   ]
  },
  {
   "cell_type": "code",
   "execution_count": null,
   "metadata": {},
   "outputs": [],
   "source": []
  }
 ],
 "metadata": {
  "kernelspec": {
   "display_name": "Java",
   "language": "java",
   "name": "java"
  },
  "language_info": {
   "codemirror_mode": "java",
   "file_extension": ".jshell",
   "mimetype": "text/x-java-source",
   "name": "Java",
   "pygments_lexer": "java",
   "version": "12.0.2+10"
  }
 },
 "nbformat": 4,
 "nbformat_minor": 4
}
