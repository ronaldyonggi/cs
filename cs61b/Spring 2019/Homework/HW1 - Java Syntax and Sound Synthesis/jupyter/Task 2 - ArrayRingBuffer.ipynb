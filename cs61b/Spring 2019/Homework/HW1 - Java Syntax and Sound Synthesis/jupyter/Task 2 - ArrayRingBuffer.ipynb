{
 "cells": [
  {
   "cell_type": "markdown",
   "metadata": {},
   "source": [
    "### Class"
   ]
  },
  {
   "cell_type": "markdown",
   "metadata": {},
   "source": [
    "Make sure the class implements `BoundedQueue` interface."
   ]
  },
  {
   "cell_type": "code",
   "execution_count": null,
   "metadata": {},
   "outputs": [],
   "source": [
    "public class ArrayRingBuffer<T> implements BoundedQueue<T> {\n",
    "    ...\n",
    "}"
   ]
  },
  {
   "cell_type": "markdown",
   "metadata": {},
   "source": [
    "### `ArrayRingBuffer` constructor"
   ]
  },
  {
   "cell_type": "markdown",
   "metadata": {},
   "source": [
    "Simply initializes as explained by the comments inside the method."
   ]
  },
  {
   "cell_type": "code",
   "execution_count": null,
   "metadata": {},
   "outputs": [],
   "source": [
    "public ArrayRingBuffer(int capacity) {\n",
    "    // TODO: Create new array with capacity elements.\n",
    "    //       first, last, and fillCount should all be set to 0.\n",
    "    rb = (T[]) new Object[capacity];\n",
    "    first = 0;\n",
    "    last = 0;\n",
    "    fillCount = 0;\n",
    "}"
   ]
  },
  {
   "cell_type": "markdown",
   "metadata": {},
   "source": [
    "### int `capacity()`"
   ]
  },
  {
   "cell_type": "markdown",
   "metadata": {},
   "source": [
    "Instead of having a `size` variable, we can simply return the buffer array's length. Don't forget to override!"
   ]
  },
  {
   "cell_type": "code",
   "execution_count": null,
   "metadata": {},
   "outputs": [],
   "source": [
    "@Override\n",
    "public int capacity(){\n",
    "    return rb.length;\n",
    "}"
   ]
  },
  {
   "cell_type": "markdown",
   "metadata": {},
   "source": [
    "### int `fillCount()`"
   ]
  },
  {
   "cell_type": "markdown",
   "metadata": {},
   "source": [
    "Simply return the `fillCount` variable."
   ]
  },
  {
   "cell_type": "code",
   "execution_count": null,
   "metadata": {},
   "outputs": [],
   "source": [
    "@Override\n",
    "public int fillCount(){\n",
    "    return fillCount;\n",
    "}"
   ]
  },
  {
   "cell_type": "markdown",
   "metadata": {},
   "source": [
    "### `enqueue(T x)`"
   ]
  },
  {
   "cell_type": "markdown",
   "metadata": {},
   "source": [
    "As instructed by the doctest and the comments:\n",
    "\n",
    "1. If there is no room, then throw new RuntimeException\n",
    "2. Otherwise,\n",
    "    * Update the array of index `[last]` with `x`\n",
    "    * Increment both `last` and `fillCount`\n",
    "    * If after incrementing, `last` is greater than the last index of the array, we've reached the end of the array!\n",
    "        * Reset `last` to 0!"
   ]
  },
  {
   "cell_type": "code",
   "execution_count": null,
   "metadata": {},
   "outputs": [],
   "source": [
    "public void enqueue(T x) {\n",
    "    // TODO: Enqueue the item. Don't forget to increase fillCount and update\n",
    "    //       last.\n",
    "    if (isFull()){\n",
    "        throw new RuntimeException(\"Ring buffer overflow\");\n",
    "    } else {\n",
    "        rb[last] = x;\n",
    "        last++;\n",
    "        fillCount++;\n",
    "        if (last > capacity() - 1){\n",
    "            last = 0;\n",
    "        }\n",
    "    }\n",
    "}"
   ]
  },
  {
   "cell_type": "markdown",
   "metadata": {},
   "source": [
    "### `dequeue()`"
   ]
  },
  {
   "cell_type": "markdown",
   "metadata": {},
   "source": [
    "1. If the buffer is empty, throw new RuntimeException\n",
    "2. Otherwise,\n",
    "    * Create a temporary variable that stores the element at index `[first]`\n",
    "    * Increment `first` and decrement `fillCount`\n",
    "    * If after incrementing, `first` is greater than the last index of the array, we've reached the end of the array!\n",
    "        * Reset `first` to 0\n",
    "    * return the temporary variable\n",
    "    \n",
    "Note that we don't necessarily need to null out the object that's dequeued. The adjustment of `fillCount` already takes care of that."
   ]
  },
  {
   "cell_type": "code",
   "execution_count": null,
   "metadata": {},
   "outputs": [],
   "source": [
    "@Override\n",
    "public T dequeue() {\n",
    "    // TODO: Dequeue the first item. Don't forget to decrease fillCount and\n",
    "    //       update first.\n",
    "    if (isEmpty()){\n",
    "        throw new RuntimeException(\"Ring buffer underflow\");\n",
    "    } else {\n",
    "        T toBeReturned = rb[first];\n",
    "        first++;\n",
    "        fillCount--;\n",
    "        if (first > capacity() - 1) {\n",
    "            first = 0;\n",
    "        }\n",
    "        return toBeReturned;\n",
    "    }\n",
    "}\n"
   ]
  },
  {
   "cell_type": "markdown",
   "metadata": {},
   "source": [
    "### `peek()`"
   ]
  },
  {
   "cell_type": "markdown",
   "metadata": {},
   "source": [
    "Somewhat similar to `dequeue()`, but instead of having to assign the return value to a temporary variable, we can just return it right away. \n",
    "* And we don't need to adjust `fillCount`!"
   ]
  },
  {
   "cell_type": "code",
   "execution_count": null,
   "metadata": {},
   "outputs": [],
   "source": [
    "@Override\n",
    "public T peek() {\n",
    "    // TODO: Return the first item. None of your instance variables should\n",
    "    //       change.\n",
    "    if (isEmpty()){\n",
    "        throw new RuntimeException(\"Ring buffer underflow\");\n",
    "    } else {\n",
    "        return rb[first];\n",
    "    }\n",
    "}\n"
   ]
  }
 ],
 "metadata": {
  "kernelspec": {
   "display_name": "Python 3",
   "language": "python",
   "name": "python3"
  },
  "language_info": {
   "codemirror_mode": {
    "name": "ipython",
    "version": 3
   },
   "file_extension": ".py",
   "mimetype": "text/x-python",
   "name": "python",
   "nbconvert_exporter": "python",
   "pygments_lexer": "ipython3",
   "version": "3.7.4"
  }
 },
 "nbformat": 4,
 "nbformat_minor": 4
}
