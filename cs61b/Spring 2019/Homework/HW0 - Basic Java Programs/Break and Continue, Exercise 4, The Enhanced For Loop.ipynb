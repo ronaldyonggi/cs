{
 "cells": [
  {
   "cell_type": "markdown",
   "metadata": {},
   "source": [
    "# Break and Continue"
   ]
  },
  {
   "cell_type": "markdown",
   "metadata": {},
   "source": [
    "The `continue` statement skips the rest of the current iteration of the loop, jumping straight to the increment condition.\n",
    "\n",
    "The code blow prints each String from an array 3 times, but skips any string that contains `\"horse\"`."
   ]
  },
  {
   "cell_type": "code",
   "execution_count": 3,
   "metadata": {},
   "outputs": [
    {
     "name": "stdout",
     "output_type": "stream",
     "text": [
      "cat\n",
      "cat\n",
      "dog\n",
      "dog\n",
      "ketchup\n",
      "ketchup\n",
      "horsbe\n",
      "horsbe\n"
     ]
    }
   ],
   "source": [
    "String[] a = {\"cat\", \"dog\", \"laser horse\", \"ketchup\", \"horse\", \"horsbe\"};\n",
    "\n",
    "for (int i = 0; i < a.length; i += 1){\n",
    "    // If the currently selected element contains the string \"horse\",\n",
    "    // then skip it\n",
    "    if (a[i].contains(\"horse\")) {\n",
    "        continue;\n",
    "    }\n",
    "    for (int j = 0; j < 3; j += 1) {\n",
    "        System.out.println(a[i]);\n",
    "    }    \n",
    "    \n",
    "}"
   ]
  },
  {
   "cell_type": "markdown",
   "metadata": {},
   "source": [
    "By contrast, the `break` keyword terminates the innermost loop when it is called. For example, the code below prints each String from the array `a` 3 times except the string that contains `\"horse\"`, which is only printed once."
   ]
  },
  {
   "cell_type": "code",
   "execution_count": 4,
   "metadata": {},
   "outputs": [
    {
     "name": "stdout",
     "output_type": "stream",
     "text": [
      "cat\n",
      "cat\n",
      "cat\n",
      "dog\n",
      "dog\n",
      "dog\n",
      "laser horse\n",
      "ketchup\n",
      "ketchup\n",
      "ketchup\n",
      "horse\n",
      "horsbe\n",
      "horsbe\n",
      "horsbe\n"
     ]
    }
   ],
   "source": [
    "String[] a = {\"cat\", \"dog\", \"laser horse\", \"ketchup\", \"horse\", \"horsbe\"};\n",
    "\n",
    "for (int i = 0; i < a.length; i += 1){\n",
    "    for (int j = 0; j < 3; j += 1) {\n",
    "        System.out.println(a[i]);\n",
    "        if (a[i].contains(\"horse\")) {\n",
    "            break;\n",
    "        }\n",
    "        \n",
    "    }    \n",
    "    \n",
    "}"
   ]
  },
  {
   "cell_type": "markdown",
   "metadata": {},
   "source": [
    "`break` and `continue` also work for `while` loops and `do-while` loops."
   ]
  },
  {
   "cell_type": "markdown",
   "metadata": {},
   "source": [
    "# Exercise 4"
   ]
  },
  {
   "cell_type": "code",
   "execution_count": 3,
   "metadata": {},
   "outputs": [
    {
     "name": "stdout",
     "output_type": "stream",
     "text": [
      "[4, 8, -3, 13, 9, 4]\n"
     ]
    }
   ],
   "source": [
    "public static void windowPosSum(int[] a, int n) {\n",
    "    for (int i = 0; i < a.length; i+=1) { // Loop through each element of the list\n",
    "        if (a[i] < 0) continue; // If the element is negative, then skip\n",
    "        /* An inner loop for addition of elements */\n",
    "        for (int j = i + 1; j <= i+n; j+= 1) {\n",
    "            if (j > a.length-1) break; \n",
    "            a[i] = a[i] + a[j];\n",
    "        }\n",
    "    }\n",
    "}\n",
    "\n",
    "int[] a = {1, 2, -3, 4, 5, 4};\n",
    "int n = 3;\n",
    "windowPosSum(a, n);\n",
    "System.out.println(java.util.Arrays.toString(a));"
   ]
  },
  {
   "cell_type": "markdown",
   "metadata": {},
   "source": [
    "Above, `int i` is the index iterator that iterates through each element. It starts from `0` and ends at 1 less than the length of the input list `a`.\n",
    "\n",
    "The inner loop, `int j`, starts with `1` more than `i`. This makes sense because we want to sum the current element with the element after that during the loop. For example, if we start from index `0`, then.\n",
    "\n",
    "`a[0] = a[0] + a[1]`\n",
    "\n",
    "And the `j` loop keeps executing until `j` is `i + n`. Recall in the problem example that if `n` is `3`, then we want `a[0]` to be:\n",
    "\n",
    "`a[0] = a[0] + a[1] + a[2] + a[3]`."
   ]
  },
  {
   "cell_type": "markdown",
   "metadata": {},
   "source": [
    "# The Enhanced For Loop"
   ]
  },
  {
   "cell_type": "markdown",
   "metadata": {},
   "source": [
    "Java also supports iteration through an array using an `enhanced for loop`. In this for loop, we don't care or use index at all. We avoid creating index variable using a special syntax involving colon `:`.\n",
    "\n",
    "Below is an example of printing the strings of animals as done earlier, this time it's done using enhanced for loop."
   ]
  },
  {
   "cell_type": "code",
   "execution_count": 5,
   "metadata": {},
   "outputs": [
    {
     "name": "stdout",
     "output_type": "stream",
     "text": [
      "cat\n",
      "cat\n",
      "cat\n",
      "dog\n",
      "dog\n",
      "dog\n",
      "laser horse\n",
      "ketchup\n",
      "ketchup\n",
      "ketchup\n",
      "horse\n",
      "horbse\n",
      "horbse\n",
      "horbse\n"
     ]
    }
   ],
   "source": [
    "String[] a = {\"cat\", \"dog\", \"laser horse\", \"ketchup\", \"horse\", \"horbse\"};\n",
    "\n",
    "for (String s : a) {\n",
    "    for (int j = 0; j < 3; j += 1) {\n",
    "        System.out.println(s);\n",
    "        if (s.contains(\"horse\")) {\n",
    "            break;\n",
    "        }\n",
    "    }\n",
    "}"
   ]
  },
  {
   "cell_type": "markdown",
   "metadata": {},
   "source": [
    "In above case, we don't create any index `i`. instead, the `String s` takes on the identity of each `String` in `a` exactly once, starting from `a[0]`, all the way up to `a[a.length - 1]`. "
   ]
  },
  {
   "cell_type": "code",
   "execution_count": null,
   "metadata": {},
   "outputs": [],
   "source": []
  }
 ],
 "metadata": {
  "kernelspec": {
   "display_name": "Java",
   "language": "java",
   "name": "java"
  },
  "language_info": {
   "name": ""
  }
 },
 "nbformat": 4,
 "nbformat_minor": 4
}
