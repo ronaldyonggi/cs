{
 "cells": [
  {
   "cell_type": "code",
   "execution_count": 6,
   "metadata": {},
   "outputs": [
    {
     "name": "stdout",
     "output_type": "stream",
     "text": [
      "*****"
     ]
    }
   ],
   "source": [
    "int x \n",
    "while (x <= 5){\n",
    "    System.out.print('*');\n",
    "    x = x + 1;\n",
    "}"
   ]
  },
  {
   "cell_type": "code",
   "execution_count": 14,
   "metadata": {},
   "outputs": [
    {
     "name": "stdout",
     "output_type": "stream",
     "text": [
      "* \n",
      "** \n",
      "*** \n",
      "**** \n",
      "***** \n"
     ]
    }
   ],
   "source": [
    "int max_star = 1; //The maximum number of stars a row can have\n",
    "int row = 5; // The maximum row \n",
    "int counter = 1; // For every count, prints a star. Must be\n",
    "// less or equal to 'max_star'\n",
    "\n",
    "while (max_star <= row){\n",
    "    while (counter <= max_star){\n",
    "        System.out.print('*');\n",
    "        counter = counter + 1;\n",
    "    }\n",
    "    counter = 1;\n",
    "    System.out.println(' ');\n",
    "    max_star = max_star + 1;\n",
    "}\n"
   ]
  },
  {
   "cell_type": "code",
   "execution_count": null,
   "metadata": {},
   "outputs": [],
   "source": []
  }
 ],
 "metadata": {
  "kernelspec": {
   "display_name": "Java",
   "language": "java",
   "name": "java"
  },
  "language_info": {
   "name": ""
  }
 },
 "nbformat": 4,
 "nbformat_minor": 4
}
