{
 "cells": [
  {
   "cell_type": "markdown",
   "metadata": {},
   "source": [
    "# Conditionals"
   ]
  },
  {
   "cell_type": "markdown",
   "metadata": {},
   "source": [
    "## Basic Conditionals"
   ]
  },
  {
   "cell_type": "code",
   "execution_count": 1,
   "metadata": {},
   "outputs": [],
   "source": [
    "public class ClassNameHere {\n",
    "    public static void main(String[] args) {\n",
    "    int x = 5;\n",
    "    \n",
    "    if (x < 10)\n",
    "        x = x + 10;\n",
    "        \n",
    "    if (x < 10)\n",
    "        x = x + 10;\n",
    "    \n",
    "    System.out.println(x);\n",
    "    }\n",
    "}"
   ]
  },
  {
   "cell_type": "markdown",
   "metadata": {},
   "source": [
    "The `if` statement in Java checks the condition that are inside the parentheses (in above case, `(x < 10)`). If the result is true, it executes the next statement below (`x = x + 10`)."
   ]
  },
  {
   "cell_type": "markdown",
   "metadata": {},
   "source": [
    "## Curly Braces (and Conditionals)"
   ]
  },
  {
   "cell_type": "markdown",
   "metadata": {},
   "source": [
    "It is possible to execute multiple statements in response to a single condition. We do this by **wrapping the statements in curly braces**."
   ]
  },
  {
   "cell_type": "code",
   "execution_count": 2,
   "metadata": {},
   "outputs": [
    {
     "name": "stdout",
     "output_type": "stream",
     "text": [
      "I shall increment x by 10.\n"
     ]
    }
   ],
   "source": [
    "int x = 5;\n",
    "\n",
    "if (x < 10) {\n",
    "    System.out.println(\"I shall increment x by 10.\");\n",
    "    x = x + 10;\n",
    "}"
   ]
  },
  {
   "cell_type": "markdown",
   "metadata": {},
   "source": [
    "Unlike Python, in Java statements are grouped by braces; indentations do not matter. Below is an example of what could go wrong if we don't use braces."
   ]
  },
  {
   "cell_type": "code",
   "execution_count": 4,
   "metadata": {},
   "outputs": [
    {
     "name": "stdout",
     "output_type": "stream",
     "text": [
      "-5\n"
     ]
    }
   ],
   "source": [
    "int x = 5;\n",
    "if (x < 0)\n",
    "    System.out.println(\"I should negate X\");\n",
    "    x = -x;\n",
    "    \n",
    "System.out.println(x);   "
   ]
  },
  {
   "cell_type": "markdown",
   "metadata": {},
   "source": [
    "In Java, most whitespace including indentation does not matter with regards to the functionality of the program. In fact, we can write our program with replacing every whitespace with a single space, though this is a horrible idea."
   ]
  },
  {
   "cell_type": "markdown",
   "metadata": {},
   "source": [
    "## Curly Brace Standards"
   ]
  },
  {
   "cell_type": "markdown",
   "metadata": {},
   "source": [
    "2 common styles for curly braces:"
   ]
  },
  {
   "cell_type": "code",
   "execution_count": null,
   "metadata": {},
   "outputs": [],
   "source": [
    "if (x > 5) {\n",
    "    x = x + 5;\n",
    "}"
   ]
  },
  {
   "cell_type": "code",
   "execution_count": null,
   "metadata": {},
   "outputs": [],
   "source": [
    "if (x > 5)\n",
    "{\n",
    "    x = x + 5;\n",
    "}"
   ]
  },
  {
   "cell_type": "markdown",
   "metadata": {},
   "source": [
    "Both are fine to use in the class. There is no correct style."
   ]
  }
 ],
 "metadata": {
  "kernelspec": {
   "display_name": "Java",
   "language": "java",
   "name": "java"
  },
  "language_info": {
   "name": ""
  }
 },
 "nbformat": 4,
 "nbformat_minor": 4
}
