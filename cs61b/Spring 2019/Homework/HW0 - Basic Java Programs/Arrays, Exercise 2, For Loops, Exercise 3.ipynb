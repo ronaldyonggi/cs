{
 "cells": [
  {
   "cell_type": "markdown",
   "metadata": {},
   "source": [
    "# Arrays"
   ]
  },
  {
   "cell_type": "markdown",
   "metadata": {},
   "source": [
    "Arrays are similar to:\n",
    "* Lists in Python\n",
    "* Vectors in Scheme\n",
    "* Arrays in MATLAB\n",
    "\n",
    "The following program written in various languages declare a new array of the integers `4`, `7`, and `10` and then prints `7`."
   ]
  },
  {
   "cell_type": "markdown",
   "metadata": {},
   "source": [
    "### Python"
   ]
  },
  {
   "cell_type": "code",
   "execution_count": 1,
   "metadata": {},
   "outputs": [
    {
     "name": "stdout",
     "output_type": "stream",
     "text": [
      "7\n"
     ]
    }
   ],
   "source": [
    "numbers = [4, 7, 10]\n",
    "print(numbers[1])"
   ]
  },
  {
   "cell_type": "markdown",
   "metadata": {},
   "source": [
    "### MATLAB"
   ]
  },
  {
   "cell_type": "code",
   "execution_count": null,
   "metadata": {},
   "outputs": [],
   "source": [
    "numbers = [4 7 10]\n",
    "disp(numbers(2))"
   ]
  },
  {
   "cell_type": "markdown",
   "metadata": {},
   "source": [
    "### Scheme"
   ]
  },
  {
   "cell_type": "code",
   "execution_count": 2,
   "metadata": {},
   "outputs": [
    {
     "name": "stdout",
     "output_type": "stream",
     "text": [
      "7\n"
     ]
    }
   ],
   "source": [
    "(define numbers #(4 7 10))\n",
    "(display (vector-ref numbers 1)) (newline)"
   ]
  },
  {
   "cell_type": "markdown",
   "metadata": {},
   "source": [
    "### Java (Version 1)"
   ]
  },
  {
   "cell_type": "code",
   "execution_count": 1,
   "metadata": {},
   "outputs": [
    {
     "name": "stdout",
     "output_type": "stream",
     "text": [
      "7\n"
     ]
    }
   ],
   "source": [
    "int[] numbers = new int[3];\n",
    "numbers[0] = 4;\n",
    "numbers[1] = 7;\n",
    "numbers[2] = 10;\n",
    "System.out.println(numbers[1]);"
   ]
  },
  {
   "cell_type": "markdown",
   "metadata": {},
   "source": [
    "### Java (Shorthand)"
   ]
  },
  {
   "cell_type": "code",
   "execution_count": 2,
   "metadata": {},
   "outputs": [
    {
     "name": "stdout",
     "output_type": "stream",
     "text": [
      "7\n"
     ]
    }
   ],
   "source": [
    "int[] numbers = new int[]{4, 7, 10};\n",
    "System.out.println(numbers[1]);"
   ]
  },
  {
   "cell_type": "markdown",
   "metadata": {},
   "source": [
    "We can obtain the length of an array using `.length`. For example, the following would print `3`."
   ]
  },
  {
   "cell_type": "code",
   "execution_count": 3,
   "metadata": {},
   "outputs": [
    {
     "name": "stdout",
     "output_type": "stream",
     "text": [
      "3\n"
     ]
    }
   ],
   "source": [
    "int[] numbers = new int[]{4, 7, 10};\n",
    "System.out.println(numbers.length);"
   ]
  },
  {
   "cell_type": "markdown",
   "metadata": {},
   "source": [
    "# Exercise 2"
   ]
  },
  {
   "cell_type": "code",
   "execution_count": 1,
   "metadata": {},
   "outputs": [],
   "source": [
    "public static int max(int[] m) {\n",
    "    int current_max = 0;\n",
    "    int index = 0;\n",
    "    while (index < m.length) {\n",
    "        if (current_max < m[index]) {\n",
    "            current_max = m[index];\n",
    "        }\n",
    "        index += 1;\n",
    "    }\n",
    "    return current_max;\n",
    "}"
   ]
  },
  {
   "cell_type": "code",
   "execution_count": 2,
   "metadata": {},
   "outputs": [
    {
     "data": {
      "text/plain": [
       "22"
      ]
     },
     "execution_count": 2,
     "metadata": {},
     "output_type": "execute_result"
    }
   ],
   "source": [
    "int[] numbers = new int[]{9, 2, 15, 2, 22, 10, 6};\n",
    "max(numbers);"
   ]
  },
  {
   "cell_type": "markdown",
   "metadata": {},
   "source": [
    "# For Loops"
   ]
  },
  {
   "cell_type": "markdown",
   "metadata": {},
   "source": [
    "Consider the function below, which sums the elements of an array."
   ]
  },
  {
   "cell_type": "code",
   "execution_count": 3,
   "metadata": {},
   "outputs": [],
   "source": [
    "public static int whileSum(int[] a) {\n",
    "    int i = 0;\n",
    "    int sum = 0;\n",
    "    while (i < a.length) {\n",
    "        sum = sum + a[i];\n",
    "        i += 1;\n",
    "    }\n",
    "    return sum;\n",
    "}"
   ]
  },
  {
   "cell_type": "markdown",
   "metadata": {},
   "source": [
    "Programmers in the 1950s observed that it was very common to have code that featured:\n",
    "1. `Initialization` of a variable, followed by\n",
    "2. A loop that begins by checking for a `termination` and\n",
    "3. Ends with an `increment` operation.\n",
    "\n",
    "Thus was born the `for` loop.\n",
    "\n",
    "The `sum` function below uses a basic `for` loop to do the same job of the function above,"
   ]
  },
  {
   "cell_type": "code",
   "execution_count": 1,
   "metadata": {},
   "outputs": [],
   "source": [
    "public static int sum(int[] a) {\n",
    "    int sum = 0;\n",
    "    for (int i = 0; i < a.length; i = i + 1) {\n",
    "        sum = sum + a[1];\n",
    "    }\n",
    "    return sum;\n",
    "}"
   ]
  },
  {
   "cell_type": "markdown",
   "metadata": {},
   "source": [
    "In Java, the `for` keyword has the syntax below:"
   ]
  },
  {
   "cell_type": "code",
   "execution_count": null,
   "metadata": {},
   "outputs": [],
   "source": [
    "for (initialization; termination; increment) {\n",
    "    statement(s)\n",
    "}"
   ]
  },
  {
   "cell_type": "markdown",
   "metadata": {},
   "source": [
    "The initialization, termination, and increment must be semicolon `;` separated. Each of these 3 can feature multiple comma-separated statements, such as:"
   ]
  },
  {
   "cell_type": "code",
   "execution_count": 2,
   "metadata": {},
   "outputs": [
    {
     "name": "stdout",
     "output_type": "stream",
     "text": [
      "10\n",
      "11\n",
      "12\n",
      "13\n",
      "14\n",
      "15\n",
      "16\n",
      "17\n",
      "18\n",
      "19\n"
     ]
    }
   ],
   "source": [
    "for (int i = 0, j = 10; i < j; i += 1) {\n",
    "    System.out.println(i + j);\n",
    "}"
   ]
  },
  {
   "cell_type": "markdown",
   "metadata": {},
   "source": [
    "# Exercise 3"
   ]
  },
  {
   "cell_type": "code",
   "execution_count": null,
   "metadata": {},
   "outputs": [],
   "source": [
    "public static int max(int[] m) {\n",
    "    int current_max = 0;\n",
    "    int index = 0;\n",
    "    while (index < m.length) {\n",
    "        if (current_max < m[index]) {\n",
    "            current_max = m[index];\n",
    "        }\n",
    "        index += 1;\n",
    "    }\n",
    "    return current_max;\n",
    "}"
   ]
  },
  {
   "cell_type": "code",
   "execution_count": 5,
   "metadata": {},
   "outputs": [
    {
     "data": {
      "text/plain": [
       "22"
      ]
     },
     "execution_count": 5,
     "metadata": {},
     "output_type": "execute_result"
    }
   ],
   "source": [
    "public static int max(int[] m) {\n",
    "    int current_max = 0;\n",
    "    for (int index = 0; index < m.length; index += 1){\n",
    "        if (current_max < m[index]) {\n",
    "            current_max = m[index];\n",
    "        }\n",
    "    }\n",
    "    return current_max;\n",
    "}\n",
    "             \n",
    "int[] numbers = new int[]{9, 2, 15, 2, 22, 10, 6};\n",
    "max(numbers);"
   ]
  },
  {
   "cell_type": "code",
   "execution_count": null,
   "metadata": {},
   "outputs": [],
   "source": []
  }
 ],
 "metadata": {
  "kernelspec": {
   "display_name": "Java",
   "language": "java",
   "name": "java"
  },
  "language_info": {
   "codemirror_mode": {
    "name": "scheme"
   },
   "mimetype": "text/x-scheme",
   "name": "scheme",
   "pygments_lexer": "scheme"
  }
 },
 "nbformat": 4,
 "nbformat_minor": 4
}
