{
 "cells": [
  {
   "cell_type": "markdown",
   "metadata": {},
   "source": [
    "# Higher Order Functions"
   ]
  },
  {
   "cell_type": "markdown",
   "metadata": {},
   "source": [
    "## Question 3 - `skipper`\n",
    "Write a `make_skipper`, which takes in a number `n` and outputs a function. When this function takes in a number `x`, it prints out all the numbers between `0` and `x`, skipping every `nth` number (skips any value that is a multiple of `n`)."
   ]
  },
  {
   "cell_type": "code",
   "execution_count": 13,
   "metadata": {},
   "outputs": [],
   "source": [
    "def make_skipper(n):\n",
    "    def helper(x):\n",
    "        i = 0\n",
    "        while i <= x:\n",
    "            if i % n != 0:\n",
    "                print(i)\n",
    "            i += 1\n",
    "    return helper"
   ]
  },
  {
   "cell_type": "code",
   "execution_count": 14,
   "metadata": {},
   "outputs": [
    {
     "name": "stdout",
     "output_type": "stream",
     "text": [
      "1\n",
      "3\n",
      "5\n"
     ]
    },
    {
     "data": {
      "text/plain": [
       "5"
      ]
     },
     "execution_count": 14,
     "metadata": {},
     "output_type": "execute_result"
    }
   ],
   "source": [
    ">>> a = make_skipper(2)\n",
    ">>> a(5)\n",
    "1\n",
    "3\n",
    "5"
   ]
  },
  {
   "cell_type": "markdown",
   "metadata": {},
   "source": [
    "Another implementation is to use `for` loop with `range`. Recall how `range` works:"
   ]
  },
  {
   "cell_type": "code",
   "execution_count": 9,
   "metadata": {},
   "outputs": [
    {
     "data": {
      "text/plain": [
       "range(0, 4)"
      ]
     },
     "execution_count": 9,
     "metadata": {},
     "output_type": "execute_result"
    }
   ],
   "source": [
    "range(4)"
   ]
  },
  {
   "cell_type": "code",
   "execution_count": 10,
   "metadata": {},
   "outputs": [
    {
     "name": "stdout",
     "output_type": "stream",
     "text": [
      "0\n",
      "1\n",
      "2\n",
      "3\n"
     ]
    }
   ],
   "source": [
    "for i in range(4):\n",
    "    print (i)"
   ]
  },
  {
   "cell_type": "markdown",
   "metadata": {},
   "source": [
    "Now implement using `range`!"
   ]
  },
  {
   "cell_type": "code",
   "execution_count": 15,
   "metadata": {},
   "outputs": [],
   "source": [
    "def make_skipper(n):\n",
    "    def helper(x):\n",
    "        for i in range(x+1):\n",
    "            if i % n != 0:\n",
    "                print(i)\n",
    "            i += 1\n",
    "    return helper"
   ]
  },
  {
   "cell_type": "code",
   "execution_count": 18,
   "metadata": {},
   "outputs": [
    {
     "name": "stdout",
     "output_type": "stream",
     "text": [
      "1\n",
      "3\n"
     ]
    }
   ],
   "source": [
    "a = make_skipper(2)\n",
    "a(3)"
   ]
  },
  {
   "cell_type": "markdown",
   "metadata": {},
   "source": [
    "## Question 4 - `make_alternator`\n",
    "Write `make_alternator` which takes in 2 functions, `f` and `g`, and outputs a function. When this function takes in a number `x`, it prints out all the numbers between `1` and `x`, applying the function `f` to every odd-indexed number and `g` to every even-indexed number before printing."
   ]
  },
  {
   "cell_type": "code",
   "execution_count": null,
   "metadata": {},
   "outputs": [],
   "source": [
    ">>> a = make_alternator(lambda x: x * x, lambda x: x + 4)\n",
    ">>> a(5)\n",
    "1\n",
    "6\n",
    "9\n",
    "8\n",
    "25"
   ]
  },
  {
   "cell_type": "code",
   "execution_count": null,
   "metadata": {},
   "outputs": [],
   "source": [
    ">>> b = make_alternator(lambda x: x * 2, lambda x: x + 2)\n",
    ">>> b(4)\n",
    "2\n",
    "4\n",
    "6\n",
    "6"
   ]
  },
  {
   "cell_type": "code",
   "execution_count": 3,
   "metadata": {},
   "outputs": [],
   "source": [
    "def make_alternator(f, g):\n",
    "    def helper(x):\n",
    "        for i in range(1, x + 1):\n",
    "            if i % 2 == 0:\n",
    "                print (g(i))\n",
    "            else:\n",
    "                print(f(i))\n",
    "    return helper"
   ]
  },
  {
   "cell_type": "code",
   "execution_count": 4,
   "metadata": {},
   "outputs": [
    {
     "name": "stdout",
     "output_type": "stream",
     "text": [
      "2\n",
      "4\n",
      "6\n",
      "6\n"
     ]
    }
   ],
   "source": [
    "b = make_alternator(lambda x: x * 2, lambda x: x + 2)\n",
    "b(4)"
   ]
  },
  {
   "cell_type": "markdown",
   "metadata": {},
   "source": [
    "# Recursion"
   ]
  },
  {
   "cell_type": "markdown",
   "metadata": {},
   "source": [
    "## Question 0\n",
    "#### a) What are 3 things you find in every recursive function?\n",
    "1. One or more base case/s\n",
    "2. Problems broken down to smaller problems so that it can be solved recursively\n",
    "3. One or more recursive case/s that solve the smaller problem, then uses the solution from that to solve the original (bigger) problem\n",
    "\n",
    "#### b) When you write a Recursive function, you seem to call it before it has been fully defined. Why doesn't this break the Python interpreter? Explain in haiku if possible.\n",
    "\n",
    "When we **write** a recursive function, we haven't called the function.\n",
    "\n",
    "When we write\n",
    "a function\n",
    "it's not called"
   ]
  },
  {
   "cell_type": "markdown",
   "metadata": {},
   "source": [
    "## Question 1\n",
    "**Hint**: \n",
    "1. `Domain` is the type of data that a function takes in as argument. \n",
    "2. `Range` is the type of data that a function returns\n",
    "\n",
    "For example:\n",
    "1. The `domain` of the function `square` is numbers\n",
    "2. The `range` is numbers\n",
    "\n",
    "#### a) Here is a Python function that computes the `nth` Fibonacci number. What's it's `domain` and `range`? Identify those 3 things from Question 0a!"
   ]
  },
  {
   "cell_type": "code",
   "execution_count": 5,
   "metadata": {},
   "outputs": [],
   "source": [
    "def fib(n):\n",
    "    if n == 0:\n",
    "        return 0\n",
    "    elif n == 1:\n",
    "        return 1\n",
    "    else:\n",
    "        return fib(n-1) + fib(n-2)"
   ]
  },
  {
   "cell_type": "markdown",
   "metadata": {},
   "source": [
    "## Ans:\n",
    "1. Both `domain` and `range` are integers\n",
    "2. The base cases are:\n",
    "    * `if n == 0, return 0`\n",
    "    * `if n == 1, return 1`\n",
    "3. The recursive call is everything within the `else` clause\n",
    "4. When we call `fib(n-1)` and `fib(n-2)`, we reduce the problem."
   ]
  },
  {
   "cell_type": "markdown",
   "metadata": {},
   "source": [
    "#### Write out the recursive calls made when we do `fib(4)`"
   ]
  },
  {
   "cell_type": "markdown",
   "metadata": {},
   "source": [
    "fib(4):\n",
    "* fib(3)\n",
    "    * fib(1) = 1\n",
    "    * fib(2)\n",
    "        * fib(1) = 1\n",
    "        * fib(0) = 0\n",
    "* fib(2)\n",
    "    * fib(1) = 1\n",
    "    * fib(0) = 0"
   ]
  },
  {
   "cell_type": "markdown",
   "metadata": {},
   "source": [
    "#### b) What does the following `cascade2` do?"
   ]
  },
  {
   "cell_type": "code",
   "execution_count": 6,
   "metadata": {},
   "outputs": [],
   "source": [
    "def cascade2(n):\n",
    "    \"\"\" Print a cascade of prefixes of n \"\"\"\n",
    "    print(n)\n",
    "    if n >= 10:\n",
    "        cascade2(n // 10)\n",
    "        print(n)"
   ]
  },
  {
   "cell_type": "markdown",
   "metadata": {},
   "source": [
    "`cascade2` prints a cascade of integers in decreasing digits, then increasing digits. For example,"
   ]
  },
  {
   "cell_type": "code",
   "execution_count": 7,
   "metadata": {},
   "outputs": [
    {
     "data": {
      "text/plain": [
       "1234"
      ]
     },
     "execution_count": 7,
     "metadata": {},
     "output_type": "execute_result"
    }
   ],
   "source": [
    "1234\n",
    "123\n",
    "12\n",
    "1\n",
    "12\n",
    "123\n",
    "1234"
   ]
  },
  {
   "cell_type": "markdown",
   "metadata": {},
   "source": [
    "#### What is the  `domain` and `range` of `cascade2`? Identify the 3 things from Question 0a!\n",
    "\n",
    "`domain` and `range` are both integer.\n",
    "\n",
    "3 things from Q0a:\n",
    "1. Base case is when `if n >= 10`, which means when `n` is less than `10`\n",
    "2. Recursive case is also at `if n >= 10`, call `cascade2(n // 10)`\n",
    "3. The smaller problem is when we call `cascade2(n // 10)`\n",
    "    * We're calling the `cascade2` function again but with an argument of one digit less."
   ]
  },
  {
   "cell_type": "markdown",
   "metadata": {},
   "source": [
    "#### c) Describe what does each of the following functions `mystery` and `fooply` do."
   ]
  },
  {
   "cell_type": "code",
   "execution_count": null,
   "metadata": {},
   "outputs": [],
   "source": [
    "def mystery(n):\n",
    "    if n == 0:\n",
    "        return 0\n",
    "    else:\n",
    "        return n + mystery(n-1)"
   ]
  },
  {
   "cell_type": "markdown",
   "metadata": {},
   "source": [
    "`mystery` function above sums up integers from `1` to `n`."
   ]
  },
  {
   "cell_type": "code",
   "execution_count": 9,
   "metadata": {},
   "outputs": [],
   "source": [
    "def foo(n):\n",
    "    if n < 0:\n",
    "        return 0\n",
    "    return foo(n-2) + foo(n-1)\n",
    "\n",
    "def fooply(n):\n",
    "    if n < 0:\n",
    "        return 0\n",
    "    return foo(n) + fooply(n-1)"
   ]
  },
  {
   "cell_type": "markdown",
   "metadata": {},
   "source": [
    "Both functions above return `0` regardless of the input"
   ]
  },
  {
   "cell_type": "markdown",
   "metadata": {},
   "source": [
    "## Question 2 - Mario\n",
    "Mario needs to jump over a series of Piranha plants, represented as a list of `0`s and `1`s. Mario only moves forward and can either step (move forward one space) or jump (move forward 2 spaces) from each position. How many different ways can Mario traverse a level without stepping or jumping into a Piranha plant? Assume that every level begins with a `1` (where Mario starts) and ends with a `1` (where Mario must end up)."
   ]
  },
  {
   "cell_type": "code",
   "execution_count": null,
   "metadata": {},
   "outputs": [],
   "source": [
    ">>> mario_number(10101) #Hops each turn: (1, 2, 2)\n",
    "1\n",
    ">>> mario_number(11101) #Hops each turn: (1, 1, 1, 2), (2, 1, 2)\n",
    "2\n",
    ">>> mario_number(100101) #No way to traverse through level\n",
    "0"
   ]
  },
  {
   "cell_type": "code",
   "execution_count": 18,
   "metadata": {},
   "outputs": [],
   "source": [
    "def mario_number(level):\n",
    "    \"\"\"\n",
    "    Return the number of ways that Mario can traverse the level,\n",
    "    where Mario can either hop by one digit or two digits each turn.\n",
    "    A level is defined as being an integer with digits where a 1 is\n",
    "    something Mario can step on and 0 is something Mario cannot step\n",
    "    on.\"\"\"\n",
    "    if level == 1:\n",
    "        return 1\n",
    "    elif level % 10 == 0:\n",
    "        return 0\n",
    "    return mario_number(level // 10) + ((level // 10) // 10)"
   ]
  },
  {
   "cell_type": "markdown",
   "metadata": {},
   "source": [
    "The idea of the implementation is to see if the `level` can be broken down until it reaches `1` in the end. The recursive case calls for `mario_number` function with a digit less and 2 digits less, representing Mario stepping and jumping respectively. "
   ]
  },
  {
   "cell_type": "markdown",
   "metadata": {},
   "source": [
    "## Extra Challenge - Question 3\n",
    "Implement the `combine` function, which takes in a non-negative integer `n`, a 2-argument function `f` and a number `result`. It applies `f` to the first digit of `n` and the result of combining the rest of the digits of `n` by repeatedly applying `f` (see doctests). If `n` has no digits (because it's `0`), combine returns result. Assume `n` is non-negative."
   ]
  },
  {
   "cell_type": "code",
   "execution_count": null,
   "metadata": {},
   "outputs": [],
   "source": [
    ">>> combine (3, mul, 2) #mul (3, 2)\n",
    "6\n",
    ">>> combine (43, mul, 2) # mul (4, mul(3, 2))\n",
    "24\n",
    ">>> combine (6502, add, 3) # add (6, add(5, add(0, add(2, 3)))\n",
    "16\n",
    ">>> combine (239, pow, 0) # pow (2, pow(3, pow(9, 0)))\n",
    "8"
   ]
  },
  {
   "cell_type": "code",
   "execution_count": 20,
   "metadata": {},
   "outputs": [],
   "source": [
    "def combine(n, f, result):\n",
    "    \"\"\" Combine the digits in n using f\"\"\"\n",
    "    if n == 0:\n",
    "        return result\n",
    "    else:\n",
    "        return combine(n // 10, f, f(result, n % 10))"
   ]
  },
  {
   "cell_type": "code",
   "execution_count": 23,
   "metadata": {},
   "outputs": [
    {
     "data": {
      "text/plain": [
       "24"
      ]
     },
     "execution_count": 23,
     "metadata": {},
     "output_type": "execute_result"
    }
   ],
   "source": [
    "from operator import *\n",
    "combine(43, mul, 2)"
   ]
  },
  {
   "cell_type": "code",
   "execution_count": 24,
   "metadata": {},
   "outputs": [
    {
     "data": {
      "text/plain": [
       "16"
      ]
     },
     "execution_count": 24,
     "metadata": {},
     "output_type": "execute_result"
    }
   ],
   "source": [
    "combine(6502, add, 3)"
   ]
  },
  {
   "cell_type": "code",
   "execution_count": null,
   "metadata": {},
   "outputs": [],
   "source": []
  }
 ],
 "metadata": {
  "kernelspec": {
   "display_name": "Python 3",
   "language": "python",
   "name": "python3"
  },
  "language_info": {
   "codemirror_mode": {
    "name": "ipython",
    "version": 3
   },
   "file_extension": ".py",
   "mimetype": "text/x-python",
   "name": "python",
   "nbconvert_exporter": "python",
   "pygments_lexer": "ipython3",
   "version": "3.7.2"
  }
 },
 "nbformat": 4,
 "nbformat_minor": 2
}
