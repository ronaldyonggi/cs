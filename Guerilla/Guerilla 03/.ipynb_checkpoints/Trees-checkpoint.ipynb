{
 "cells": [
  {
   "cell_type": "markdown",
   "metadata": {},
   "source": [
    "# Trees"
   ]
  },
  {
   "cell_type": "markdown",
   "metadata": {},
   "source": [
    "## Question 0"
   ]
  },
  {
   "cell_type": "markdown",
   "metadata": {},
   "source": [
    "**a.**: Fill in this implementation of a tree:"
   ]
  },
  {
   "cell_type": "code",
   "execution_count": 1,
   "metadata": {},
   "outputs": [],
   "source": [
    "def tree(label, branches = []):\n",
    "    for b in branches:\n",
    "        assert is_tree(b), 'branches must be trees'\n",
    "    return [label] + list(branches)\n",
    "\n",
    "def is_tree(tree):\n",
    "    # If the currently selected tree is not a tree, or the length of the tree is less than \n",
    "    if type(tree) != list or len(tree) < 1:\n",
    "        return False\n",
    "    # Also check for the branches whether they're tree\n",
    "    for b in branches(tree):\n",
    "        if not is_tree(b):\n",
    "            return False\n",
    "    return True\n",
    "\n",
    "def label(tree):\n",
    "    return tree[0]\n",
    "\n",
    "def branches(tree):\n",
    "    # Remember the branches can be more than one element, so make sure to go through all of them by slicing [1:]\n",
    "    return tree[1:]\n",
    "\n",
    "def is_leaf(tree):\n",
    "    return not branches(tree) # If the branches is emtpy, not False becomes True"
   ]
  },
  {
   "cell_type": "code",
   "execution_count": 6,
   "metadata": {},
   "outputs": [
    {
     "data": {
      "text/plain": [
       "[1, [2]]"
      ]
     },
     "execution_count": 6,
     "metadata": {},
     "output_type": "execute_result"
    }
   ],
   "source": [
    "tree(1, [tree(2)])"
   ]
  },
  {
   "cell_type": "markdown",
   "metadata": {},
   "source": [
    "**b.** A `min-heap` is a tree with the special property that every node's value is less than or equal to the values of all of its children. For example, the following tree is a `min-heap`:"
   ]
  },
  {
   "cell_type": "markdown",
   "metadata": {},
   "source": [
    "<img src = 'min.jpg' width = 400/>"
   ]
  },
  {
   "cell_type": "markdown",
   "metadata": {},
   "source": [
    "However, the following tree is not a `min-heap` because the node with value `3` has a value greater than one of its children:"
   ]
  },
  {
   "cell_type": "markdown",
   "metadata": {},
   "source": [
    "<img src = 'no_min.jpg' width = 400/>"
   ]
  },
  {
   "cell_type": "markdown",
   "metadata": {},
   "source": [
    "Write a function `is_min_heap` that takes a tree and returns `True` if the tree is a `min-heap` and `False` otherwise."
   ]
  },
  {
   "cell_type": "markdown",
   "metadata": {},
   "source": [
    "### =========== Answer  ==========="
   ]
  },
  {
   "cell_type": "markdown",
   "metadata": {},
   "source": [
    "**Strategy**:\n",
    "\n",
    "1. If the label of the currently selected tree is greater than ANY of the branches, then it's not an `min_heap`.\n",
    "\n",
    "Since we only need one occurrence to state that it's `False`, can use a `for` loop right away."
   ]
  },
  {
   "cell_type": "code",
   "execution_count": null,
   "metadata": {},
   "outputs": [],
   "source": [
    "for b in branches(t):\n",
    "    if label(t) > label(b):\n",
    "        return False\n",
    "return True"
   ]
  },
  {
   "cell_type": "markdown",
   "metadata": {},
   "source": [
    "2. Apply #1 to the branches of the branches of the currently selected tree.\n",
    "\n",
    "Here, we want to apply the recursive `is_min_heap` call to the branches as well."
   ]
  },
  {
   "cell_type": "code",
   "execution_count": 9,
   "metadata": {},
   "outputs": [
    {
     "ename": "SyntaxError",
     "evalue": "'return' outside function (<ipython-input-9-c15b89b00105>, line 3)",
     "output_type": "error",
     "traceback": [
      "\u001b[1;36m  File \u001b[1;32m\"<ipython-input-9-c15b89b00105>\"\u001b[1;36m, line \u001b[1;32m3\u001b[0m\n\u001b[1;33m    return False\u001b[0m\n\u001b[1;37m    ^\u001b[0m\n\u001b[1;31mSyntaxError\u001b[0m\u001b[1;31m:\u001b[0m 'return' outside function\n"
     ]
    }
   ],
   "source": [
    "for b in branches(t):\n",
    "    if not is_min_heap(b):\n",
    "        return False"
   ]
  },
  {
   "cell_type": "markdown",
   "metadata": {},
   "source": [
    "We can combine the 2 strategies above:"
   ]
  },
  {
   "cell_type": "code",
   "execution_count": 8,
   "metadata": {},
   "outputs": [],
   "source": [
    "def is_min_heap(t):\n",
    "    for b in branches(t): # Iterate through all the branches of the currently selected tree\n",
    "        # if the label of the currently selected tree is greater than the label of any of its branches\n",
    "        if label(t) > label(b) or not is_min_heap(b): # and check for this occurences for the branches of the branches by recursive call\n",
    "            return False\n",
    "    return True # Otherwise, the tree is a min_heap"
   ]
  },
  {
   "cell_type": "markdown",
   "metadata": {},
   "source": [
    "**c.** Write a function `largest_product_path` that finds the largest product path possible. A **product path** is defined as the product of all nodes between the root and a leaf. The function takes a tree as its parameter.\n",
    "\n",
    "Assume all nodes have a non-negative value."
   ]
  },
  {
   "cell_type": "markdown",
   "metadata": {},
   "source": [
    "<img src = 'product.jpg' width = 400/>"
   ]
  },
  {
   "cell_type": "markdown",
   "metadata": {},
   "source": [
    "For example, calling `largest_product_path` on the above tree would return 42, since $3 \\times 7 \\times 2$ is the largest product path"
   ]
  },
  {
   "cell_type": "markdown",
   "metadata": {},
   "source": [
    "### =========== Answer  ==========="
   ]
  },
  {
   "cell_type": "markdown",
   "metadata": {},
   "source": [
    "1. From the doctest, we want to include the base case where if the tree is not a tree data type, return 0."
   ]
  },
  {
   "cell_type": "code",
   "execution_count": null,
   "metadata": {},
   "outputs": [],
   "source": [
    "if not is_tree(tree):\n",
    "    return 0"
   ]
  },
  {
   "cell_type": "markdown",
   "metadata": {},
   "source": [
    "And if the currently selected tree is a leaf, then return the label of that leaf"
   ]
  },
  {
   "cell_type": "code",
   "execution_count": null,
   "metadata": {},
   "outputs": [],
   "source": [
    "if is_leaf(tree):\n",
    "    return label(tree)"
   ]
  },
  {
   "cell_type": "markdown",
   "metadata": {},
   "source": [
    "Since we want the largest product path possible,\n",
    "\n",
    "1. Use list comprehension to list all the branches\n",
    "2. Apply a recursive call of the function to each of the branches\n",
    "3. `max` the list comprehension\n",
    "4. Since we want the product, incorporate a multiplication with the label of the current tree"
   ]
  },
  {
   "cell_type": "code",
   "execution_count": null,
   "metadata": {},
   "outputs": [],
   "source": [
    "return label(tree) * max([largest_product_path(b) for b in branches(tree)])"
   ]
  },
  {
   "cell_type": "markdown",
   "metadata": {},
   "source": [
    "Thus we have,"
   ]
  },
  {
   "cell_type": "code",
   "execution_count": 6,
   "metadata": {},
   "outputs": [],
   "source": [
    "def largest_product_path(tree):\n",
    "    if not is_tree(tree): # If the tree is not a tree, return 0\n",
    "        return 0\n",
    "    elif is_leaf(tree): # If we reach a leaf, return just the label\n",
    "        return label(tree)\n",
    "    # Other\n",
    "    return label(tree) * max([largest_product_path(b) for b in branches(tree)])"
   ]
  },
  {
   "cell_type": "code",
   "execution_count": 7,
   "metadata": {},
   "outputs": [
    {
     "data": {
      "text/plain": [
       "TestResults(failed=0, attempted=4)"
      ]
     },
     "execution_count": 7,
     "metadata": {},
     "output_type": "execute_result"
    }
   ],
   "source": [
    "# Doctest for largest_product_path\n",
    "\"\"\"\n",
    ">>> largest_product_path(None)\n",
    "0\n",
    ">>> largest_product_path(tree(3))\n",
    "3\n",
    ">>> t = tree(3, [tree(7, [tree(2)]), tree(8, [tree(1)]), tree(4)])\n",
    ">>> largest_product_path(t)\n",
    "42\n",
    "\"\"\"\n",
    "\n",
    "import doctest\n",
    "doctest.testmod()"
   ]
  },
  {
   "cell_type": "code",
   "execution_count": null,
   "metadata": {},
   "outputs": [],
   "source": []
  }
 ],
 "metadata": {
  "kernelspec": {
   "display_name": "Python 3",
   "language": "python",
   "name": "python3"
  },
  "language_info": {
   "codemirror_mode": {
    "name": "ipython",
    "version": 3
   },
   "file_extension": ".py",
   "mimetype": "text/x-python",
   "name": "python",
   "nbconvert_exporter": "python",
   "pygments_lexer": "ipython3",
   "version": "3.6.8"
  }
 },
 "nbformat": 4,
 "nbformat_minor": 2
}
