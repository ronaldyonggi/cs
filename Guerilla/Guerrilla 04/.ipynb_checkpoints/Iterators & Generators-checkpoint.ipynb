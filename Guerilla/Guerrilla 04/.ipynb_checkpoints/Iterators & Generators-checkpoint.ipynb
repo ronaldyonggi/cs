{
 "cells": [
  {
   "cell_type": "markdown",
   "metadata": {},
   "source": [
    "# Iterators & Generators"
   ]
  },
  {
   "cell_type": "markdown",
   "metadata": {},
   "source": [
    "## 1. Generator WWPD"
   ]
  },
  {
   "cell_type": "code",
   "execution_count": 1,
   "metadata": {},
   "outputs": [],
   "source": [
    "def g(n):\n",
    "    while n > 0:\n",
    "        if n % 2 == 0:\n",
    "            yield n\n",
    "        else:\n",
    "            print('odd')\n",
    "        n -= 1"
   ]
  },
  {
   "cell_type": "code",
   "execution_count": 2,
   "metadata": {},
   "outputs": [
    {
     "data": {
      "text/plain": [
       "<generator object g at 0x0000022EB4BE1150>"
      ]
     },
     "execution_count": 2,
     "metadata": {},
     "output_type": "execute_result"
    }
   ],
   "source": [
    "t = g(4)\n",
    "t\n",
    "#Ans: generator object"
   ]
  },
  {
   "cell_type": "markdown",
   "metadata": {},
   "source": [
    "Above, recall that `yield` yields a generator object rather, not a value!"
   ]
  },
  {
   "cell_type": "code",
   "execution_count": 3,
   "metadata": {},
   "outputs": [
    {
     "data": {
      "text/plain": [
       "4"
      ]
     },
     "execution_count": 3,
     "metadata": {},
     "output_type": "execute_result"
    }
   ],
   "source": [
    "next(t)\n",
    "# Ans: 4"
   ]
  },
  {
   "cell_type": "code",
   "execution_count": 4,
   "metadata": {},
   "outputs": [
    {
     "ename": "NameError",
     "evalue": "name 'n' is not defined",
     "output_type": "error",
     "traceback": [
      "\u001b[1;31m---------------------------------------------------------------------------\u001b[0m",
      "\u001b[1;31mNameError\u001b[0m                                 Traceback (most recent call last)",
      "\u001b[1;32m<ipython-input-4-583f33bfa66d>\u001b[0m in \u001b[0;36m<module>\u001b[1;34m\u001b[0m\n\u001b[1;32m----> 1\u001b[1;33m \u001b[0mn\u001b[0m\u001b[1;33m\u001b[0m\u001b[1;33m\u001b[0m\u001b[0m\n\u001b[0m\u001b[0;32m      2\u001b[0m \u001b[1;31m# Ans: Error! n is not defined\u001b[0m\u001b[1;33m\u001b[0m\u001b[1;33m\u001b[0m\u001b[1;33m\u001b[0m\u001b[0m\n",
      "\u001b[1;31mNameError\u001b[0m: name 'n' is not defined"
     ]
    }
   ],
   "source": [
    "n\n",
    "# Ans: Error! n is not defined"
   ]
  },
  {
   "cell_type": "code",
   "execution_count": 5,
   "metadata": {},
   "outputs": [
    {
     "name": "stdout",
     "output_type": "stream",
     "text": [
      "odd\n"
     ]
    }
   ],
   "source": [
    "t = g(next(t) + 5)\n",
    "# Ans: odd"
   ]
  },
  {
   "cell_type": "markdown",
   "metadata": {},
   "source": [
    "Above, even though we are assigning a value to a variable, the `print` statement is still executed! \n",
    "\n",
    "Note that we need to calculate the argument `next(t)` first. We know that `next(t)` was previously `4`. This means the `while` loop keeps running until `n` is 2. When `n` is 2, it fulfills the `if` requirement and thus, the value returned by `next(t)` is 2.\n",
    "\n",
    "This means `t` is now assigned to `g(2+5)` or `g(7)`."
   ]
  },
  {
   "cell_type": "code",
   "execution_count": 6,
   "metadata": {},
   "outputs": [
    {
     "name": "stdout",
     "output_type": "stream",
     "text": [
      "odd\n"
     ]
    },
    {
     "data": {
      "text/plain": [
       "6"
      ]
     },
     "execution_count": 6,
     "metadata": {},
     "output_type": "execute_result"
    }
   ],
   "source": [
    "next(t)\n",
    "# Ans:\n",
    "# odd\n",
    "# 6"
   ]
  },
  {
   "cell_type": "markdown",
   "metadata": {},
   "source": [
    "## Question 2"
   ]
  },
  {
   "cell_type": "markdown",
   "metadata": {},
   "source": [
    "Write a generator function `gen_inf` that returns a generator which yields all the numbers in the provided list one by one in an infinite loop. "
   ]
  },
  {
   "cell_type": "markdown",
   "metadata": {},
   "source": [
    "#### Strategy"
   ]
  },
  {
   "cell_type": "markdown",
   "metadata": {},
   "source": [
    "The key is to make the code run infinitely, which is possible with the `while True` statement. The implementation itsef can be done via `yield` or `yield from`."
   ]
  },
  {
   "cell_type": "code",
   "execution_count": 13,
   "metadata": {},
   "outputs": [],
   "source": [
    "# Implementation using yield\n",
    "\n",
    "def gen_inf(lst):\n",
    "    while True:\n",
    "        for i in lst:\n",
    "            yield i"
   ]
  },
  {
   "cell_type": "code",
   "execution_count": 15,
   "metadata": {},
   "outputs": [],
   "source": [
    "# Implementation using yield from\n",
    "\n",
    "def gen_inf(lst):\n",
    "    while True:\n",
    "        yield from iter(lst)"
   ]
  },
  {
   "cell_type": "code",
   "execution_count": 16,
   "metadata": {},
   "outputs": [
    {
     "data": {
      "text/plain": [
       "TestResults(failed=0, attempted=6)"
      ]
     },
     "execution_count": 16,
     "metadata": {},
     "output_type": "execute_result"
    }
   ],
   "source": [
    "\n",
    "\"\"\"\n",
    ">>> t = gen_inf([3, 4, 5])\n",
    ">>> next(t)\n",
    "3\n",
    ">>> next(t)\n",
    "4\n",
    ">>> next(t)\n",
    "5\n",
    ">>> next(t)\n",
    "3\n",
    ">>> next(t)\n",
    "4\n",
    "\"\"\"\n",
    "import doctest\n",
    "doctest.testmod()\n"
   ]
  },
  {
   "cell_type": "markdown",
   "metadata": {},
   "source": [
    "## Question 3"
   ]
  },
  {
   "cell_type": "markdown",
   "metadata": {},
   "source": [
    "Write a function `nested_gen` which, when given a nested list of iterables (including generators) `lst`, will return a generator that yields all elements nested within `lst` in order. Assume you have already implemented `is_iter`, which takes in one argument and returns `True` if the passed in value is an iterable and `False` if it is not."
   ]
  },
  {
   "cell_type": "code",
   "execution_count": 2,
   "metadata": {},
   "outputs": [],
   "source": [
    "def is_iter(arg):\n",
    "    return hasattr(arg, '__iter__')\n",
    "\n",
    "def g(lst):\n",
    "    for i in lst:\n",
    "        yield i"
   ]
  },
  {
   "cell_type": "markdown",
   "metadata": {},
   "source": [
    "#### Strategy"
   ]
  },
  {
   "cell_type": "markdown",
   "metadata": {},
   "source": [
    "We want to loop through each element in `lst`. If the element is not an iterable, then just yield from it. Otherwise, if it's an iterable then `yield from` the recursive `nested_gen` call of it."
   ]
  },
  {
   "cell_type": "code",
   "execution_count": 38,
   "metadata": {},
   "outputs": [],
   "source": [
    "def nested_gen(lst):\n",
    "    for i in lst:\n",
    "        if is_iter(i):\n",
    "            yield from nested_gen(i)\n",
    "        else:\n",
    "            yield i"
   ]
  },
  {
   "cell_type": "code",
   "execution_count": 39,
   "metadata": {},
   "outputs": [
    {
     "data": {
      "text/plain": [
       "TestResults(failed=0, attempted=5)"
      ]
     },
     "execution_count": 39,
     "metadata": {},
     "output_type": "execute_result"
    }
   ],
   "source": [
    "\n",
    "'''\n",
    ">>> a = [1, 2, 3]\n",
    ">>> b = g([10, 11, 12])\n",
    ">>> c = g([b])\n",
    ">>> lst = [a, c, [[[2]]]]\n",
    ">>> list(nested_gen(lst))\n",
    "[1, 2, 3, 10, 11, 12, 2]\n",
    "'''\n",
    "import doctest\n",
    "doctest.testmod()"
   ]
  },
  {
   "cell_type": "markdown",
   "metadata": {},
   "source": [
    "## Question 4 - CONSULTED SOLUTION MANUAL"
   ]
  },
  {
   "cell_type": "markdown",
   "metadata": {},
   "source": [
    "Write a function that, when given an iterable `lst`, returns a generator object. This generator should iterate over every element in `lst`, checking each element to see if it has been changed to a different value from when `lst` was originally passed into the generator function. If an element has been changed, the generator should yield it. "
   ]
  },
  {
   "cell_type": "code",
   "execution_count": 4,
   "metadata": {},
   "outputs": [
    {
     "name": "stdout",
     "output_type": "stream",
     "text": [
      "**********************************************************************\n",
      "File \"__main__\", line 15, in __main__\n",
      "Failed example:\n",
      "    next(gen)\n",
      "Exception raised:\n",
      "    Traceback (most recent call last):\n",
      "      File \"C:\\Users\\ronal\\Anaconda3\\lib\\doctest.py\", line 1330, in __run\n",
      "        compileflags, 1), test.globs)\n",
      "      File \"<doctest __main__[10]>\", line 1, in <module>\n",
      "        next(gen)\n",
      "    StopIteration\n",
      "**********************************************************************\n",
      "File \"__main__\", line 20, in __main__\n",
      "Failed example:\n",
      "    next(gen)\n",
      "Exception raised:\n",
      "    Traceback (most recent call last):\n",
      "      File \"C:\\Users\\ronal\\Anaconda3\\lib\\doctest.py\", line 1330, in __run\n",
      "        compileflags, 1), test.globs)\n",
      "      File \"<doctest __main__[14]>\", line 1, in <module>\n",
      "        next(gen)\n",
      "    StopIteration\n",
      "**********************************************************************\n",
      "File \"__main__\", line 24, in __main__\n",
      "Failed example:\n",
      "    lst3.pop()\n",
      "Expected nothing\n",
      "Got:\n",
      "    3\n",
      "**********************************************************************\n",
      "File \"__main__\", line 25, in __main__\n",
      "Failed example:\n",
      "    next(gen)\n",
      "Exception raised:\n",
      "    Traceback (most recent call last):\n",
      "      File \"C:\\Users\\ronal\\Anaconda3\\lib\\doctest.py\", line 1330, in __run\n",
      "        compileflags, 1), test.globs)\n",
      "      File \"<doctest __main__[18]>\", line 1, in <module>\n",
      "        next(gen)\n",
      "    StopIteration\n",
      "**********************************************************************\n",
      "File \"__main__\", line 30, in __main__\n",
      "Failed example:\n",
      "    next(gen)\n",
      "Exception raised:\n",
      "    Traceback (most recent call last):\n",
      "      File \"C:\\Users\\ronal\\Anaconda3\\lib\\doctest.py\", line 1330, in __run\n",
      "        compileflags, 1), test.globs)\n",
      "      File \"<doctest __main__[22]>\", line 1, in <module>\n",
      "        next(gen)\n",
      "    StopIteration\n",
      "**********************************************************************\n",
      "1 items had failures:\n",
      "   5 of  23 in __main__\n",
      "***Test Failed*** 5 failures.\n"
     ]
    },
    {
     "data": {
      "text/plain": [
       "TestResults(failed=5, attempted=23)"
      ]
     },
     "execution_count": 4,
     "metadata": {},
     "output_type": "execute_result"
    }
   ],
   "source": [
    "\n",
    "'''\n",
    ">>> lst = [1, 2, 3, 4, 5]\n",
    ">>> gen = mutated_gen(lst)\n",
    ">>> lst[1] = 7\n",
    ">>> next(gen)\n",
    "7\n",
    ">>> lst[0] = 5\n",
    ">>> lst[2] = 3\n",
    ">>> lst[3] = 9\n",
    ">>> lst[4] = 2\n",
    ">>> next(gen)\n",
    "9\n",
    ">>> lst.append(6)\n",
    ">>> next(gen)\n",
    "StopIteration Exception\n",
    ">>> lst2 = [1, 2, 3, 4, 5]\n",
    ">>> gen2 = mutated_gen(lst2)\n",
    ">>> lst2 = [2, 3, 4, 5, 6]\n",
    ">>> next(gen)\n",
    "StopIteration Exception #the list that the operand was evaluated\n",
    "to has not been changed.\n",
    ">>> lst3 = [1, 2, 3]\n",
    ">>> gen3 = mutated_gen(lst3)\n",
    ">>> lst3.pop()\n",
    ">>> next(gen)\n",
    "StopIteration Exception #the length of the list that was passed in was changed\n",
    ">>> lst4 = [[1], 2 , 3]\n",
    ">>> gen4 = mutated_gen(lst4)\n",
    ">>> lst4[0] = [1]\n",
    ">>> next(gen)\n",
    "StopIteration Exception\n",
    "'''\n",
    "import doctest\n",
    "doctest.testmod()"
   ]
  },
  {
   "cell_type": "code",
   "execution_count": 1,
   "metadata": {},
   "outputs": [],
   "source": [
    "def mutated_gen(lst):\n",
    "    original = list(lst)\n",
    "    def gen_maker(original, lst):\n",
    "        curr = 0\n",
    "        while curr < len(original):\n",
    "            if len(original) != len(lst):\n",
    "                break\n",
    "            else:\n",
    "                if original[curr] != lst[curr]:\n",
    "                    yield lst[curr]\n",
    "            curr += 1\n",
    "    return gen_maker(original, lst)"
   ]
  },
  {
   "cell_type": "code",
   "execution_count": null,
   "metadata": {},
   "outputs": [],
   "source": []
  }
 ],
 "metadata": {
  "kernelspec": {
   "display_name": "Python 3",
   "language": "python",
   "name": "python3"
  },
  "language_info": {
   "codemirror_mode": {
    "name": "ipython",
    "version": 3
   },
   "file_extension": ".py",
   "mimetype": "text/x-python",
   "name": "python",
   "nbconvert_exporter": "python",
   "pygments_lexer": "ipython3",
   "version": "3.6.8"
  }
 },
 "nbformat": 4,
 "nbformat_minor": 2
}
