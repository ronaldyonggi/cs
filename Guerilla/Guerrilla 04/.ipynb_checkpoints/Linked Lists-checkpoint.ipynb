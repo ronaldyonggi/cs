{
 "cells": [
  {
   "cell_type": "code",
   "execution_count": 4,
   "metadata": {},
   "outputs": [],
   "source": [
    "from lab07 import *\n",
    "from lab07_extra import *"
   ]
  },
  {
   "cell_type": "markdown",
   "metadata": {},
   "source": [
    "# Linked Lists"
   ]
  },
  {
   "cell_type": "markdown",
   "metadata": {},
   "source": [
    "**0a)** What is a linked list? Why do we consider it a naturally recursive structure?\n",
    "\n",
    "Ans: A linked list is a recursive object that stores 2 things: its `first` value and a reference to the `rest` of the list, which can be either another linked list or an empty list.\n",
    "\n",
    "We consider linked list as naturally recursive since the `rest` attribute of a single `Link` instance is another linked list. "
   ]
  },
  {
   "cell_type": "markdown",
   "metadata": {},
   "source": [
    "**0b)** Draw a box and pointer diagram for the following,"
   ]
  },
  {
   "cell_type": "code",
   "execution_count": null,
   "metadata": {},
   "outputs": [],
   "source": [
    "Link('c', Link(Link(6, Link(1, Link('a'))), Link('s')))"
   ]
  },
  {
   "cell_type": "markdown",
   "metadata": {},
   "source": [
    "## Question 1\n",
    "\n",
    "The `Link` class can represent lists with cycles. That is, a list may contain itself as a sublist."
   ]
  },
  {
   "cell_type": "code",
   "execution_count": null,
   "metadata": {},
   "outputs": [],
   "source": [
    ">>> s = Link(1, Link(2, Link(3)))\n",
    ">>> s.rest.rest.rest = s\n",
    ">>> s.rest.rest.rest.rest.rest.first\n",
    "3"
   ]
  },
  {
   "cell_type": "markdown",
   "metadata": {},
   "source": [
    "Implement `has_cycle`, that returns whether its argument, a `Link` instance, contains a cycle. There are 2 ways to do this, both iteratively, either with 2 pointers or keeping track of `Link` object we've seen already. Try to come up with both!"
   ]
  },
  {
   "cell_type": "code",
   "execution_count": null,
   "metadata": {},
   "outputs": [],
   "source": [
    "\n",
    "\"\"\"\n",
    ">>> s = Link(1, Link(2, Link(3)))\n",
    ">>> s.rest.rest.rest = s\n",
    ">>> has_cycle(s)\n",
    "True\n",
    "\"\"\"\n",
    "import doctest\n",
    "doctest.testmod()"
   ]
  },
  {
   "cell_type": "code",
   "execution_count": null,
   "metadata": {},
   "outputs": [],
   "source": [
    "def has_cycle(link):\n",
    "    have_seen = []\n",
    "    "
   ]
  },
  {
   "cell_type": "markdown",
   "metadata": {},
   "source": [
    "## Question 2\n",
    "\n",
    "Fill in the following function, which checks to see if a particular sequence of items in one linked list, `sub_link` can be found in another linked list `link` (the items have to be in order, but not necessarily consecutive)."
   ]
  },
  {
   "cell_type": "markdown",
   "metadata": {},
   "source": [
    "#### Strategy"
   ]
  },
  {
   "cell_type": "markdown",
   "metadata": {},
   "source": [
    "The idea is to go through the `.first` of both `link` and `sub_link` and compare them. \n",
    "\n",
    "If they are the same, then we move on to the next pair."
   ]
  },
  {
   "cell_type": "code",
   "execution_count": null,
   "metadata": {},
   "outputs": [],
   "source": [
    "if link.first == sub_link.first:\n",
    "    return seq_in_link(link.rest, sub_link.rest)"
   ]
  },
  {
   "cell_type": "markdown",
   "metadata": {},
   "source": [
    "Otherwise, if they are not the same, move to the next element of `link` and see if we can find a matching `first` this time."
   ]
  },
  {
   "cell_type": "code",
   "execution_count": null,
   "metadata": {},
   "outputs": [],
   "source": [
    "else:\n",
    "    return seq_in_link(link.rest, sub_link)"
   ]
  },
  {
   "cell_type": "markdown",
   "metadata": {},
   "source": [
    "There are 2 base cases:\n",
    "\n",
    "**1.** If we reached the end of `sub_link`, this means all the elements in `sub_link` are found in `link`. In this case, return `True`."
   ]
  },
  {
   "cell_type": "code",
   "execution_count": null,
   "metadata": {},
   "outputs": [],
   "source": [
    "if sub_link is Link.empty:\n",
    "    return True"
   ]
  },
  {
   "cell_type": "markdown",
   "metadata": {},
   "source": [
    "**2.** If we reached the end of `link`, this means not all the elements in sub_link are found in `link`. In this case, return `False`."
   ]
  },
  {
   "cell_type": "code",
   "execution_count": null,
   "metadata": {},
   "outputs": [],
   "source": [
    "if link is Link.empty:\n",
    "    return False"
   ]
  },
  {
   "cell_type": "markdown",
   "metadata": {},
   "source": [
    "The implementation looks like the following:"
   ]
  },
  {
   "cell_type": "code",
   "execution_count": 5,
   "metadata": {},
   "outputs": [],
   "source": [
    "def seq_in_link(link, sub_link):\n",
    "    if sub_link is Link.empty:\n",
    "        return True\n",
    "    if link is Link.empty:\n",
    "        return False\n",
    "    if link.first == sub_link.first:\n",
    "        return seq_in_link(link.rest, sub_link.rest)\n",
    "    else:\n",
    "        return seq_in_link(link.rest, sub_link)"
   ]
  },
  {
   "cell_type": "code",
   "execution_count": 6,
   "metadata": {},
   "outputs": [
    {
     "data": {
      "text/plain": [
       "TestResults(failed=0, attempted=5)"
      ]
     },
     "execution_count": 6,
     "metadata": {},
     "output_type": "execute_result"
    }
   ],
   "source": [
    "\n",
    "\"\"\"\n",
    ">>> lnk1 = Link(1, Link(2, Link(3, Link(4))))\n",
    ">>> lnk2 = Link(1, Link(3))\n",
    ">>> lnk3 = Link(4, Link(3, Link(2, Link(1))))\n",
    ">>> seq_in_link(lnk1, lnk2)\n",
    "True\n",
    ">>> seq_in_link(lnk1, lnk3)\n",
    "False\n",
    "\"\"\"\n",
    "import doctest\n",
    "doctest.testmod()"
   ]
  },
  {
   "cell_type": "markdown",
   "metadata": {},
   "source": []
  }
 ],
 "metadata": {
  "kernelspec": {
   "display_name": "Python 3",
   "language": "python",
   "name": "python3"
  },
  "language_info": {
   "codemirror_mode": {
    "name": "ipython",
    "version": 3
   },
   "file_extension": ".py",
   "mimetype": "text/x-python",
   "name": "python",
   "nbconvert_exporter": "python",
   "pygments_lexer": "ipython3",
   "version": "3.6.8"
  }
 },
 "nbformat": 4,
 "nbformat_minor": 2
}
