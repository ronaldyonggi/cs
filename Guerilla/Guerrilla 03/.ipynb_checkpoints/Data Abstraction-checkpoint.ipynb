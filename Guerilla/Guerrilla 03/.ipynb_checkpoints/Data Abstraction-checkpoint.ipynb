{
 "cells": [
  {
   "cell_type": "markdown",
   "metadata": {},
   "source": [
    "# Data Abstraction"
   ]
  },
  {
   "cell_type": "markdown",
   "metadata": {},
   "source": [
    "## Question 1"
   ]
  },
  {
   "cell_type": "markdown",
   "metadata": {},
   "source": [
    "**a.** Why are Abstract Data Types useful?\n",
    "\n",
    "**Ans**:\n",
    "1. ADT allows us to change data representation without the need to change the entire program.\n",
    "    * This prevents error propagation. We would only need to fix a function rather than fixing the entire program.\n",
    "2. It separates different parts of programs. This way, one program only need to know so much about other programs' implementation.\n",
    "    * Makes collaboration easier. Other programmers don't need to worry about the implementation details.\n",
    "    * Makes the code more readable."
   ]
  },
  {
   "cell_type": "markdown",
   "metadata": {},
   "source": [
    "**b.** What are the 2 types of functions necessary to make an Abstract Data Type? Describe what they do.\n",
    "\n",
    "1. Constructor\n",
    "    * Builds a new instance for abstract data type\n",
    "2. Selector\n",
    "    * Takes in an instance / instances of abstract data type and output relevant information"
   ]
  },
  {
   "cell_type": "markdown",
   "metadata": {},
   "source": [
    "**c.** What is a Data Abstraction Violation?\n",
    "\n",
    "This occurs when we use the actual implementation of the program directly, bypassing the constructors and selectors. "
   ]
  },
  {
   "cell_type": "markdown",
   "metadata": {},
   "source": [
    "**d.** Why is it a terrible sin to commit a Data Abstraction Violation?\n",
    "\n",
    "We can't assume we know how...\n",
    "1. ...the ADT is constructed without using constructor\n",
    "2. ...to access details of ADT without using selectors.\n",
    "\n",
    "These implementation are supposed to be abstracted away by the constructors and selectors. By violating data abstraction and accessing the details of a program directly, any small changes to the implementation would change the entire program."
   ]
  },
  {
   "cell_type": "markdown",
   "metadata": {},
   "source": [
    "## Question 2"
   ]
  },
  {
   "cell_type": "code",
   "execution_count": 1,
   "metadata": {},
   "outputs": [],
   "source": [
    "def gcd(m, n):\n",
    "    \"\"\" Return the Greatest Common Divisor that divides both m and n.\"\"\"\n",
    "    if n % m == 0:\n",
    "        return m\n",
    "    elif m < n:\n",
    "        return gcd(n, m)\n",
    "    else:\n",
    "        return gcd(m-n, n)"
   ]
  },
  {
   "cell_type": "code",
   "execution_count": 2,
   "metadata": {},
   "outputs": [],
   "source": [
    "def rational(n, d):\n",
    "    \"\"\" Constructor for a rational number applied with gcd. n is numerator, d is denominator.\"\"\"\n",
    "    return [n // gcd(n, d), d // gcd(n, d)]\n",
    "\n",
    "def numer(x):\n",
    "    \"\"\" Selector for numerator. Takes in a rational number ADT x\"\"\"\n",
    "    return x[0]\n",
    "\n",
    "def denom(x):\n",
    "    \"\"\" Selector for denominator. Takes in a rational number ADT x\"\"\"\n",
    "    return x[1]"
   ]
  },
  {
   "cell_type": "code",
   "execution_count": 3,
   "metadata": {},
   "outputs": [],
   "source": [
    "def add_rationals(x, y):\n",
    "    \"\"\" Adds 2 rational numbers together. The output is a rational number ADT. \"\"\"\n",
    "    return rational(numer(x) * denom(y) + numer(y) * denom(x), denom(x) * denom(y))\n",
    "\n",
    "def mul_rationals(x, y):\n",
    "    \"\"\" Multiply 2 rational numbers together.\"\"\"\n",
    "    return rational(numer(x) * numer(y), denom(x) * denom(y))\n",
    "\n",
    "def rationals_are_equal(x, y):\n",
    "    \"\"\" Checks if 2 rational numbers are equal by multiplying\n",
    "    the denominator of one rational number with the numerator of the other\n",
    "    and then check for equality.\"\"\"\n",
    "    return numer(x) * denom(y) == numer(y) * denom(x)"
   ]
  },
  {
   "cell_type": "markdown",
   "metadata": {},
   "source": [
    "In lecture, we discussed the rational data type, which represents fractions with the following methods:\n",
    "1. `rational(n, d)`\n",
    "    * Constructs a rational number with:\n",
    "        * Numerator `n`\n",
    "        * Denominator `d\n",
    "2. `numer(x)`:\n",
    "    * Returns the numerator of rational number `x`\n",
    "3. `denom(x)`:\n",
    "    * Returns the denominator of rational number `x`\n",
    "    \n",
    "We also presented the following methods that perform operations with rational numbers:\n",
    "1. `add_rationals(x, y)`\n",
    "2. `mul_rationals(x, y)`\n",
    "3. `rationals_are_equal(x, y)`\n",
    "\n",
    "You'll soon see that we can do a lot with just these simple methods in the exercises below."
   ]
  },
  {
   "cell_type": "markdown",
   "metadata": {},
   "source": [
    "**a.** Write a function that returns the given rational number `x` raised to positive power `e`."
   ]
  },
  {
   "cell_type": "code",
   "execution_count": 20,
   "metadata": {},
   "outputs": [
    {
     "data": {
      "text/plain": [
       "TestResults(failed=0, attempted=5)"
      ]
     },
     "execution_count": 20,
     "metadata": {},
     "output_type": "execute_result"
    }
   ],
   "source": [
    "# Doctest of rational_pow\n",
    "\"\"\"\n",
    ">>> r = rational_pow(rational(2, 3), 2)\n",
    ">>> numer(r)\n",
    "4\n",
    ">>> denom(r)\n",
    "9\n",
    ">>> r2 = rational_pow(rational(9, 72), 0)\n",
    ">>> numer(r2)\n",
    "1\n",
    "\"\"\"\n",
    "\n",
    "import doctest\n",
    "doctest.testmod()"
   ]
  },
  {
   "cell_type": "code",
   "execution_count": 12,
   "metadata": {},
   "outputs": [],
   "source": [
    "from math import pow\n",
    "\n",
    "def rational_pow(x, e):\n",
    "    return rational(numer(x) ** e, denom(x) ** e)"
   ]
  },
  {
   "cell_type": "markdown",
   "metadata": {},
   "source": [
    "Execute the cell below to run the test!"
   ]
  },
  {
   "cell_type": "code",
   "execution_count": 20,
   "metadata": {},
   "outputs": [
    {
     "data": {
      "text/plain": [
       "TestResults(failed=0, attempted=5)"
      ]
     },
     "execution_count": 20,
     "metadata": {},
     "output_type": "execute_result"
    }
   ],
   "source": [
    "# Doctest of rational_pow\n",
    "\"\"\"\n",
    ">>> r = rational_pow(rational(2, 3), 2)\n",
    ">>> numer(r)\n",
    "4\n",
    ">>> denom(r)\n",
    "9\n",
    ">>> r2 = rational_pow(rational(9, 72), 0)\n",
    ">>> numer(r2)\n",
    "1\n",
    "\"\"\"\n",
    "\n",
    "import doctest\n",
    "doctest.testmod()"
   ]
  },
  {
   "cell_type": "markdown",
   "metadata": {},
   "source": [
    "**b.** Implement the following rational number methods."
   ]
  },
  {
   "cell_type": "code",
   "execution_count": 21,
   "metadata": {},
   "outputs": [],
   "source": [
    "def inverse_rational(x):\n",
    "    \"\"\"Returns the inverse of the given non-zero rational number\"\"\"\n",
    "    return rational(denom(x), numer(x))"
   ]
  },
  {
   "cell_type": "code",
   "execution_count": 22,
   "metadata": {},
   "outputs": [
    {
     "data": {
      "text/plain": [
       "TestResults(failed=0, attempted=8)"
      ]
     },
     "execution_count": 22,
     "metadata": {},
     "output_type": "execute_result"
    }
   ],
   "source": [
    "# Doctest for inverse_rational(x):\n",
    "\"\"\" \n",
    ">>> r = rational(2, 3)\n",
    ">>> r_inv = inverse_rational(r)\n",
    ">>> numer(r_inv)\n",
    "3\n",
    ">>> denom(r_inv)\n",
    "2\n",
    ">>> r2 = rational_pow(rational(3, 4), 2)\n",
    ">>> r2_inv = inverse_rational(r2)\n",
    ">>> numer(r2_inv)\n",
    "16\n",
    ">>> denom(r2_inv)\n",
    "9\n",
    "\"\"\"\n",
    "\n",
    "import doctest\n",
    "doctest.testmod()"
   ]
  },
  {
   "cell_type": "code",
   "execution_count": 25,
   "metadata": {},
   "outputs": [],
   "source": [
    "def div_rationals(x, y):\n",
    "    \"\"\" Returns x / y for given rational x and non-zero rational y \"\"\"\n",
    "    return rational(numer(x) * denom(y), numer(y) * denom(x))"
   ]
  },
  {
   "cell_type": "code",
   "execution_count": 29,
   "metadata": {},
   "outputs": [
    {
     "name": "stdout",
     "output_type": "stream",
     "text": [
      "**********************************************************************\n",
      "File \"__main__\", line 7, in __main__\n",
      "Failed example:\n",
      "    div_rationals(r1, r1)\n",
      "Expected:\n",
      "    [6, 6]\n",
      "Got:\n",
      "    [1, 1]\n",
      "**********************************************************************\n",
      "1 items had failures:\n",
      "   1 of   4 in __main__\n",
      "***Test Failed*** 1 failures.\n"
     ]
    },
    {
     "data": {
      "text/plain": [
       "TestResults(failed=1, attempted=4)"
      ]
     },
     "execution_count": 29,
     "metadata": {},
     "output_type": "execute_result"
    }
   ],
   "source": [
    "# Doctest for div_rationals\n",
    "\"\"\" \n",
    ">>> r1 = rational(2, 3)\n",
    ">>> r2 = rational(3, 2)\n",
    ">>> div_rationals(r1, r2)\n",
    "[4, 9]\n",
    ">>> div_rationals(r1, r1)\n",
    "[6, 6]\n",
    "\"\"\"\n",
    "\n",
    "import doctest\n",
    "doctest.testmod()"
   ]
  },
  {
   "cell_type": "markdown",
   "metadata": {},
   "source": [
    "Note that the program failed the last test because the test assumes the rational number implementation isn't simplified using `gcd`. "
   ]
  },
  {
   "cell_type": "markdown",
   "metadata": {},
   "source": [
    "**c.** The irrational number $e \\approx 2.718$ can be generated from an infinite series. Let's try calculating it using our rational number data type! The mathematical formula is as follows,\n",
    "\n",
    "$$ e = \\frac{1}{0!} + \\frac{1}{1!} + \\frac{1}{2!} + \\frac{1}{3!} + \\frac{1}{4!} + ... $$\n",
    "\n",
    "Write a function `approx_e` that returns a rational number approximation of `e` to `iter` amount of iterations. Here's a factorial function to use."
   ]
  },
  {
   "cell_type": "code",
   "execution_count": 4,
   "metadata": {},
   "outputs": [],
   "source": [
    "def factorial(n):\n",
    "    if n == 0:\n",
    "        return 1\n",
    "    else:\n",
    "        return n * factorial(n-1)"
   ]
  },
  {
   "cell_type": "markdown",
   "metadata": {},
   "source": [
    "Using the iteration method,\n",
    "\n",
    "1. We would need a variable that keeps track of the current value so far.\n",
    "    * And this variable should be able to become the initial value\n",
    "        * For example, when `iter` = 0."
   ]
  },
  {
   "cell_type": "code",
   "execution_count": null,
   "metadata": {},
   "outputs": [],
   "source": [
    "total = rational(1, factorial(iter))"
   ]
  },
  {
   "cell_type": "markdown",
   "metadata": {},
   "source": [
    "For every iteration, we want to add the total with the rational number where the denominator is 1 less thatn the current total.\n",
    "\n",
    "For example, if `iter` is 4, and initially `total` is,\n",
    "\n",
    "$$total = \\frac{1}{4!}$$\n",
    "\n",
    "...then the next iteration should be:\n",
    "\n",
    "\n",
    "$$total = \\frac{1}{4!} + \\frac{1}{3!} $$\n",
    "\n",
    "Below is the implementation,"
   ]
  },
  {
   "cell_type": "code",
   "execution_count": 5,
   "metadata": {},
   "outputs": [],
   "source": [
    "def approx(iter):\n",
    "    total = rational(1, factorial(iter)) # Total keeps track of the current total\n",
    "    while iter > 0:\n",
    "        total = add_rationals(total, rational(1, factorial(iter - 1))) # Add total with the rational number of iter-1\n",
    "        iter -= 1\n",
    "    return total"
   ]
  },
  {
   "cell_type": "code",
   "execution_count": 6,
   "metadata": {},
   "outputs": [
    {
     "data": {
      "text/plain": [
       "[5, 2]"
      ]
     },
     "execution_count": 6,
     "metadata": {},
     "output_type": "execute_result"
    }
   ],
   "source": [
    "approx(2)"
   ]
  },
  {
   "cell_type": "markdown",
   "metadata": {},
   "source": [
    "## Question 3"
   ]
  },
  {
   "cell_type": "markdown",
   "metadata": {},
   "source": [
    "Assume that `rational`, `numer`, and `denom` run without error and work like the ADT defined in Question 2. Can you identify where the abstraction barrier is broken? Come up with a scenario where this code runs without error and a scenario where this code would stop working."
   ]
  },
  {
   "cell_type": "code",
   "execution_count": 9,
   "metadata": {},
   "outputs": [],
   "source": [
    "def simplify(f1):\n",
    "    g = gcd(f1[0], f1[1])\n",
    "    return rational(numer(f1) // g, denom(f1) // g)"
   ]
  },
  {
   "cell_type": "code",
   "execution_count": 10,
   "metadata": {},
   "outputs": [],
   "source": [
    "def multiply(f1, f2):\n",
    "    r = rational(numer(f1) * numer(f2), denom(f1) * denom(f2))\n",
    "    return simplify(r)"
   ]
  },
  {
   "cell_type": "code",
   "execution_count": 11,
   "metadata": {},
   "outputs": [
    {
     "data": {
      "text/plain": [
       "[1, 3]"
      ]
     },
     "execution_count": 11,
     "metadata": {},
     "output_type": "execute_result"
    }
   ],
   "source": [
    "x = rational(1, 2)\n",
    "y = rational(2, 3)\n",
    "multiply(x, y)"
   ]
  },
  {
   "cell_type": "markdown",
   "metadata": {},
   "source": [
    "**Ans**: The abstraction barrier is broken in the function definition of `simplify`, where we called on `gcd.` Here, we assume that a rational number uses a type that can be indexed through (e.g. list, tuples). \n",
    "\n",
    "1. Scenario where the code would work:\n",
    "    * The ADT of a rational number is a list of 2 elements, where the first element is the numerator and the second element is the denominator.\n",
    "    \n",
    "2. Scenario where the code would stop working:\n",
    "    * The ADT of a rational number is changed to something else (e.g. dictionary)"
   ]
  },
  {
   "cell_type": "code",
   "execution_count": null,
   "metadata": {},
   "outputs": [],
   "source": []
  }
 ],
 "metadata": {
  "kernelspec": {
   "display_name": "Python 3",
   "language": "python",
   "name": "python3"
  },
  "language_info": {
   "codemirror_mode": {
    "name": "ipython",
    "version": 3
   },
   "file_extension": ".py",
   "mimetype": "text/x-python",
   "name": "python",
   "nbconvert_exporter": "python",
   "pygments_lexer": "ipython3",
   "version": "3.6.8"
  }
 },
 "nbformat": 4,
 "nbformat_minor": 2
}
