{
 "cells": [
  {
   "cell_type": "markdown",
   "metadata": {},
   "source": [
    "#### Writer Notes\n",
    "The problems that are labeled **CONSULTED SOLUTION MANUAL** are the problems where I could not fully understand even with the solution manual."
   ]
  },
  {
   "cell_type": "code",
   "execution_count": 1,
   "metadata": {},
   "outputs": [],
   "source": [
    "def tree(label, branches = []):\n",
    "    for b in branches:\n",
    "        assert is_tree(b), 'branches must be trees'\n",
    "    return [label] + list(branches)\n",
    "\n",
    "def is_tree(tree):\n",
    "    # If the currently selected tree is not a tree, or the length of the tree is less than \n",
    "    if type(tree) != list or len(tree) < 1:\n",
    "        return False\n",
    "    # Also check for the branches whether they're tree\n",
    "    for b in branches(tree):\n",
    "        if not is_tree(b):\n",
    "            return False\n",
    "    return True\n",
    "\n",
    "def label(tree):\n",
    "    return tree[0]\n",
    "\n",
    "def branches(tree):\n",
    "    # Remember the branches can be more than one element, so make sure to go through all of them by slicing [1:]\n",
    "    return tree[1:]\n",
    "\n",
    "def is_leaf(tree):\n",
    "    return not branches(tree) # If the branches is emtpy, not False becomes True"
   ]
  },
  {
   "cell_type": "markdown",
   "metadata": {},
   "source": [
    "## Challenge Question -- CONSULTED SOLUTION MANUAL"
   ]
  },
  {
   "cell_type": "markdown",
   "metadata": {},
   "source": [
    "The `level-order traversal` of a tree is defined as visiting the nodes in each level of a tree before moving onto the nodes in the next level. For example, the level order of the following tree is,"
   ]
  },
  {
   "cell_type": "markdown",
   "metadata": {},
   "source": [
    "<img src = 'level.jpg' width = 300/>"
   ]
  },
  {
   "cell_type": "markdown",
   "metadata": {},
   "source": [
    "Level order: 3 7 8 4"
   ]
  },
  {
   "cell_type": "markdown",
   "metadata": {},
   "source": [
    "**a.** Write a function `print_level_sorted` that takes in a tree as the parameter and returns a list of the values of the nodes in level order."
   ]
  },
  {
   "cell_type": "code",
   "execution_count": 1,
   "metadata": {},
   "outputs": [],
   "source": [
    "# Iterative Implementation\n",
    "def level_order(tree):\n",
    "    if not tree:\n",
    "        return []\n",
    "    current_level, next_level = [label(tree)], [tree]\n",
    "    while next_level:\n",
    "        find_next = []\n",
    "        for b in next_level:\n",
    "            find_next.extend(branches(b))\n",
    "        next_level = find_next\n",
    "        current_level.extend([label(t) for t in next_level])\n",
    "    return current_level"
   ]
  },
  {
   "cell_type": "code",
   "execution_count": 2,
   "metadata": {},
   "outputs": [],
   "source": [
    "# Recursive Implementation\n",
    "def leveL_order(tree):\n",
    "    def find_next(current_level):\n",
    "        if current_level == []:\n",
    "            return []\n",
    "        else:\n",
    "            next_level = []\n",
    "            for b in current_level:\n",
    "                next_level.extend(branches(b))\n",
    "            return [label(t) for t in next_level] + find_next(next_level)\n",
    "    return [label(tree)] + find_next([tree])"
   ]
  }
 ],
 "metadata": {
  "kernelspec": {
   "display_name": "Python 3",
   "language": "python",
   "name": "python3"
  },
  "language_info": {
   "codemirror_mode": {
    "name": "ipython",
    "version": 3
   },
   "file_extension": ".py",
   "mimetype": "text/x-python",
   "name": "python",
   "nbconvert_exporter": "python",
   "pygments_lexer": "ipython3",
   "version": "3.6.8"
  }
 },
 "nbformat": 4,
 "nbformat_minor": 2
}
