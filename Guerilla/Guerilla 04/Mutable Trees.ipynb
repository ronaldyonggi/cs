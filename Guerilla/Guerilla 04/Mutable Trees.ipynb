{
 "cells": [
  {
   "cell_type": "markdown",
   "metadata": {},
   "source": [
    "## Question 8"
   ]
  },
  {
   "cell_type": "markdown",
   "metadata": {},
   "source": [
    "#### Writer's Note"
   ]
  },
  {
   "cell_type": "markdown",
   "metadata": {},
   "source": [
    "The following provided definition of `Tree` class is flawed,"
   ]
  },
  {
   "cell_type": "code",
   "execution_count": 4,
   "metadata": {},
   "outputs": [],
   "source": [
    "class Tree:\n",
    "    def __init__(self, label, branches = []):\n",
    "        self.label = label\n",
    "        for branch in branches:\n",
    "            assert isinstance(branch, Tree)\n",
    "            self.branches = list(branches)\n",
    "            \n",
    "def __repr__(self):\n",
    "    if self.branches:\n",
    "        branches_str = ', ' + repr(self.branches)\n",
    "    else:\n",
    "        branches_str = ''\n",
    "    return 'Tree({0}{1})'.format(self.entry, branches_str)\n",
    "\n",
    "def is_leaf(self):\n",
    "    return len(self.branches) == 0"
   ]
  },
  {
   "cell_type": "markdown",
   "metadata": {},
   "source": [
    "If we use the definition above, when we run the doctest for problem **8a**, we will run into an error because `t` is represented as an object. Instead, we'll use the definition provided from lab07."
   ]
  },
  {
   "cell_type": "code",
   "execution_count": 28,
   "metadata": {},
   "outputs": [],
   "source": [
    "from lab07 import *\n",
    "from lab07_extra import *"
   ]
  },
  {
   "cell_type": "markdown",
   "metadata": {},
   "source": [
    "## 8a\n",
    "Define `filter_tree`, which takes in a tree `t` and one argument predicate function `fn`. It should mutate the tree by removing all branches of any node where calling `fn` on its label returns `False`. In addition, if this node is not the root of the tree, it should remove that node from the tree as well."
   ]
  },
  {
   "cell_type": "code",
   "execution_count": null,
   "metadata": {},
   "outputs": [],
   "source": [
    "def filter_tree(t, fn):\n",
    "    if not fn(t.label):\n",
    "        ___\n",
    "    else:\n",
    "        for ___:\n",
    "            if ___:\n",
    "                ___\n",
    "            else:\n",
    "                ___"
   ]
  },
  {
   "cell_type": "markdown",
   "metadata": {},
   "source": [
    "#### Strategy:"
   ]
  },
  {
   "cell_type": "markdown",
   "metadata": {},
   "source": [
    "The first 2 lines serve for the part that says \"remove all branches of any node where calling `fn` on its label returns `False`. We can remove the brances by setting the branches to be an empty list."
   ]
  },
  {
   "cell_type": "code",
   "execution_count": null,
   "metadata": {},
   "outputs": [],
   "source": [
    "if not fn(t.label):\n",
    "    t.branches = []"
   ]
  },
  {
   "cell_type": "markdown",
   "metadata": {},
   "source": [
    "Now recall that the branches of a `Tree` is in form of a list. We can remove a particular element in a list by using `.remove(i)`, where `i` is the element that we want to remove."
   ]
  },
  {
   "cell_type": "code",
   "execution_count": 1,
   "metadata": {},
   "outputs": [
    {
     "data": {
      "text/plain": [
       "['a', 'c']"
      ]
     },
     "execution_count": 1,
     "metadata": {},
     "output_type": "execute_result"
    }
   ],
   "source": [
    "x = ['a', 'b', 'c']\n",
    "x.remove('b')\n",
    "x"
   ]
  },
  {
   "cell_type": "markdown",
   "metadata": {},
   "source": [
    "When we implement the `.remove` method, we initially might try the following,"
   ]
  },
  {
   "cell_type": "code",
   "execution_count": null,
   "metadata": {},
   "outputs": [],
   "source": [
    "else:\n",
    "    for branch in t.branches:\n",
    "        if not fn(branch.label):\n",
    "            t.branches.remove(branch)"
   ]
  },
  {
   "cell_type": "markdown",
   "metadata": {},
   "source": [
    "#### BE CAREFUL WITH SKIPPING ELEMENTS WITH `.remove`!!!\n",
    "The implementation above would fail! For example, suppose we have the following branches:"
   ]
  },
  {
   "cell_type": "code",
   "execution_count": 27,
   "metadata": {},
   "outputs": [
    {
     "data": {
      "text/plain": [
       "[Tree(2), Tree(3, [Tree(4)])]"
      ]
     },
     "execution_count": 27,
     "metadata": {},
     "output_type": "execute_result"
    }
   ],
   "source": [
    "[Tree(2), Tree(3, [Tree(4)])]"
   ]
  },
  {
   "cell_type": "markdown",
   "metadata": {},
   "source": [
    "Using the implementation that we have, during the `for` loop, the first element would be removed. HOWEVER, the second element would be skipped since the second element is shifted to the first element. Thus, the correct implementation is to use `for` loop on the **COPY** of the branches."
   ]
  },
  {
   "cell_type": "code",
   "execution_count": null,
   "metadata": {},
   "outputs": [],
   "source": [
    "else:\n",
    "    for branch in t.branches[:]\n",
    "    if not fn(branch.label):\n",
    "        t.branches.remove(branch)"
   ]
  },
  {
   "cell_type": "markdown",
   "metadata": {},
   "source": [
    "Last but not least, still within the `if` suite, we otherwise call a recursive `filter_tree` on each branch."
   ]
  },
  {
   "cell_type": "code",
   "execution_count": null,
   "metadata": {},
   "outputs": [],
   "source": [
    "if not fn(branch.label):\n",
    "    t.branches.remove(branch)\n",
    "else:\n",
    "    filter_tree(branch, fn)"
   ]
  },
  {
   "cell_type": "markdown",
   "metadata": {},
   "source": [
    "The implementation as a whole would look like the following,"
   ]
  },
  {
   "cell_type": "code",
   "execution_count": 32,
   "metadata": {},
   "outputs": [],
   "source": [
    "def filter_tree(t, fn):\n",
    "    if not fn(t.label):\n",
    "        t.branches = []\n",
    "    else:\n",
    "        for branch in t.branches[:]:\n",
    "            if not fn(branch.label):\n",
    "                t.branches.remove(branch)\n",
    "            else:\n",
    "                filter_tree(branch, fn)"
   ]
  },
  {
   "cell_type": "code",
   "execution_count": 33,
   "metadata": {},
   "outputs": [
    {
     "data": {
      "text/plain": [
       "TestResults(failed=0, attempted=6)"
      ]
     },
     "execution_count": 33,
     "metadata": {},
     "output_type": "execute_result"
    }
   ],
   "source": [
    "\n",
    "\"\"\"\n",
    ">>> t = Tree(1, [Tree(2), Tree(3, [Tree(4)]), Tree(6, [Tree(7)])])\n",
    ">>> filter_tree(t, lambda x: x % 2 != 0)\n",
    ">>> t\n",
    "Tree(1, [Tree(3)])\n",
    ">>> t2 = Tree(2, [Tree(3), Tree(4), Tree(5)])\n",
    ">>> filter_tree(t2, lambda x: x != 2)\n",
    ">>> t2\n",
    "Tree(2)\n",
    "\"\"\"\n",
    "import doctest\n",
    "doctest.testmod()"
   ]
  },
  {
   "cell_type": "markdown",
   "metadata": {},
   "source": [
    "## 8b"
   ]
  },
  {
   "cell_type": "markdown",
   "metadata": {},
   "source": [
    "Fill in the definition for `nth_level_tree_map`, which also takes in a function and a tree, but mutates the tree by applying the function to every `nth` level in the tree, where the root is the `0th` level."
   ]
  },
  {
   "cell_type": "markdown",
   "metadata": {},
   "source": [
    "#### Strategy:\n",
    "We would need a `helper` function that keeps track the level. "
   ]
  },
  {
   "cell_type": "code",
   "execution_count": 38,
   "metadata": {},
   "outputs": [
    {
     "name": "stdout",
     "output_type": "stream",
     "text": [
      "**********************************************************************\n",
      "File \"__main__\", line 6, in __main__\n",
      "Failed example:\n",
      "    tree\n",
      "Expected:\n",
      "    Tree(2, [Tree(7, [Tree(4), Tree(5), Tree(6)]), Tree(2, [Tree(7), Tree(5)])])\n",
      "Got:\n",
      "    Tree(1, [Tree(7, [Tree(4), Tree(5), Tree(6)]), Tree(2, [Tree(7), Tree(5)])])\n",
      "**********************************************************************\n",
      "1 items had failures:\n",
      "   1 of   3 in __main__\n",
      "***Test Failed*** 1 failures.\n"
     ]
    },
    {
     "data": {
      "text/plain": [
       "TestResults(failed=1, attempted=3)"
      ]
     },
     "execution_count": 38,
     "metadata": {},
     "output_type": "execute_result"
    }
   ],
   "source": [
    " \n",
    "\"\"\"Mutates a tree by mapping a function all the elements of a\n",
    "tree.\n",
    ">>> tree = Tree(1, [Tree(7, [Tree(3), Tree(4), Tree(5)]), Tree(2, [Tree(6), Tree(4)])])\n",
    ">>> nth_level_tree_map(lambda x: x + 1, tree, 2)\n",
    ">>> tree\n",
    "Tree(2, [Tree(7, [Tree(4), Tree(5), Tree(6)]), Tree(2, [Tree(7), Tree(5)])])\n",
    "\"\"\"\n",
    "import doctest\n",
    "doctest.testmod()"
   ]
  },
  {
   "cell_type": "code",
   "execution_count": null,
   "metadata": {},
   "outputs": [],
   "source": []
  }
 ],
 "metadata": {
  "kernelspec": {
   "display_name": "Python 3",
   "language": "python",
   "name": "python3"
  },
  "language_info": {
   "codemirror_mode": {
    "name": "ipython",
    "version": 3
   },
   "file_extension": ".py",
   "mimetype": "text/x-python",
   "name": "python",
   "nbconvert_exporter": "python",
   "pygments_lexer": "ipython3",
   "version": "3.6.8"
  }
 },
 "nbformat": 4,
 "nbformat_minor": 2
}
