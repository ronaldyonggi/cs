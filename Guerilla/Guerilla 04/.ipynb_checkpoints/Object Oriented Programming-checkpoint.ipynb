{
 "cells": [
  {
   "cell_type": "markdown",
   "metadata": {},
   "source": [
    "## Question 0"
   ]
  },
  {
   "cell_type": "markdown",
   "metadata": {},
   "source": [
    "**0a)** What is the relationship between a class and an ADT?\n",
    "\n",
    "**Ans**: A class is an ADT that's based on objects"
   ]
  },
  {
   "cell_type": "markdown",
   "metadata": {},
   "source": [
    "**0b)** Define the following:\n",
    "\n",
    "**Instance**: An object created based on the design of a class.\n",
    "\n",
    "**Class**: A blueprint / design that lists the specification of an instance / instances\n",
    "\n",
    "**Class Attribute**: A property of a class. A class attribute is shared among its instances\n",
    "\n",
    "**Instance Attribute**: A property of an instance that's unique to that instance (not shared among the instances of the same class)\n",
    "\n",
    "**Bound Method**: A function that is specific to a particular instance"
   ]
  },
  {
   "cell_type": "markdown",
   "metadata": {},
   "source": [
    "## Question 1 - What would Python Print?"
   ]
  },
  {
   "cell_type": "code",
   "execution_count": 2,
   "metadata": {},
   "outputs": [],
   "source": [
    "class Foo():\n",
    "    x = 'bam'\n",
    "    def __init__(self, x):\n",
    "        self.x = x\n",
    "    \n",
    "    def baz(self):\n",
    "        return self.x"
   ]
  },
  {
   "cell_type": "code",
   "execution_count": 3,
   "metadata": {},
   "outputs": [],
   "source": [
    "class Bar(Foo):\n",
    "    x = 'boom'\n",
    "    def __init__(self, x):\n",
    "        Foo.__init__(self, 'er' + x)\n",
    "    \n",
    "    def baz(self):\n",
    "        return Bar.x + Foo.baz(self)"
   ]
  },
  {
   "cell_type": "code",
   "execution_count": 4,
   "metadata": {},
   "outputs": [
    {
     "data": {
      "text/plain": [
       "'bam'"
      ]
     },
     "execution_count": 4,
     "metadata": {},
     "output_type": "execute_result"
    }
   ],
   "source": [
    "foo = Foo('boo')\n",
    "Foo.x\n",
    "# Ans: 'bam'"
   ]
  },
  {
   "cell_type": "code",
   "execution_count": 5,
   "metadata": {},
   "outputs": [
    {
     "data": {
      "text/plain": [
       "'boo'"
      ]
     },
     "execution_count": 5,
     "metadata": {},
     "output_type": "execute_result"
    }
   ],
   "source": [
    "foo.x\n",
    "#Ans: 'boo'"
   ]
  },
  {
   "cell_type": "code",
   "execution_count": 6,
   "metadata": {},
   "outputs": [
    {
     "data": {
      "text/plain": [
       "'boo'"
      ]
     },
     "execution_count": 6,
     "metadata": {},
     "output_type": "execute_result"
    }
   ],
   "source": [
    "foo.baz()\n",
    "#Ans: 'boo'"
   ]
  },
  {
   "cell_type": "code",
   "execution_count": 7,
   "metadata": {},
   "outputs": [
    {
     "ename": "TypeError",
     "evalue": "baz() missing 1 required positional argument: 'self'",
     "output_type": "error",
     "traceback": [
      "\u001b[1;31m---------------------------------------------------------------------------\u001b[0m",
      "\u001b[1;31mTypeError\u001b[0m                                 Traceback (most recent call last)",
      "\u001b[1;32m<ipython-input-7-7170b95ed2e0>\u001b[0m in \u001b[0;36m<module>\u001b[1;34m\u001b[0m\n\u001b[1;32m----> 1\u001b[1;33m \u001b[0mFoo\u001b[0m\u001b[1;33m.\u001b[0m\u001b[0mbaz\u001b[0m\u001b[1;33m(\u001b[0m\u001b[1;33m)\u001b[0m\u001b[1;33m\u001b[0m\u001b[1;33m\u001b[0m\u001b[0m\n\u001b[0m\u001b[0;32m      2\u001b[0m \u001b[1;31m# Ans: 'bam'\u001b[0m\u001b[1;33m\u001b[0m\u001b[1;33m\u001b[0m\u001b[1;33m\u001b[0m\u001b[0m\n",
      "\u001b[1;31mTypeError\u001b[0m: baz() missing 1 required positional argument: 'self'"
     ]
    }
   ],
   "source": [
    "Foo.baz()\n",
    "# Error"
   ]
  },
  {
   "cell_type": "markdown",
   "metadata": {},
   "source": [
    "Above, recall that if we are calling a class method, we would need to provide the instance (`self`) as an argument."
   ]
  },
  {
   "cell_type": "code",
   "execution_count": 8,
   "metadata": {},
   "outputs": [
    {
     "data": {
      "text/plain": [
       "'boo'"
      ]
     },
     "execution_count": 8,
     "metadata": {},
     "output_type": "execute_result"
    }
   ],
   "source": [
    "Foo.baz(foo)\n",
    "# Ans: 'boo'"
   ]
  },
  {
   "cell_type": "code",
   "execution_count": 9,
   "metadata": {},
   "outputs": [
    {
     "data": {
      "text/plain": [
       "'boom'"
      ]
     },
     "execution_count": 9,
     "metadata": {},
     "output_type": "execute_result"
    }
   ],
   "source": [
    "bar = Bar('ang')\n",
    "Bar.x\n",
    "# Ans: 'boom'"
   ]
  },
  {
   "cell_type": "code",
   "execution_count": 10,
   "metadata": {},
   "outputs": [
    {
     "data": {
      "text/plain": [
       "'erang'"
      ]
     },
     "execution_count": 10,
     "metadata": {},
     "output_type": "execute_result"
    }
   ],
   "source": [
    "bar.x\n",
    "# Ans: 'erang'"
   ]
  },
  {
   "cell_type": "code",
   "execution_count": 11,
   "metadata": {},
   "outputs": [
    {
     "data": {
      "text/plain": [
       "'boomerang'"
      ]
     },
     "execution_count": 11,
     "metadata": {},
     "output_type": "execute_result"
    }
   ],
   "source": [
    "bar.baz()"
   ]
  },
  {
   "cell_type": "markdown",
   "metadata": {},
   "source": [
    "Above, it returns `Bar.x` + `Foo.baz(self)`\n",
    "\n",
    "`Bar.x` returns `'boom'`.\n",
    "\n",
    "`Foo.baz(self)` returns `self.x`. At the current state, `bar.x` is `'erang'`\n",
    "\n",
    "Thus, the whole return value combine is `'boomerang'`"
   ]
  },
  {
   "cell_type": "markdown",
   "metadata": {},
   "source": [
    "## Question 2 : Attend Class"
   ]
  },
  {
   "cell_type": "code",
   "execution_count": 18,
   "metadata": {},
   "outputs": [],
   "source": [
    "class Student:\n",
    "    \n",
    "    def __init__(self, subjects):\n",
    "        self.current_units = 16\n",
    "        self.subjects_to_take = subjects\n",
    "        self.subjects_learned = {}\n",
    "        self.partner = None\n",
    "        \n",
    "    def learn(self, subject, units):\n",
    "        print(\"I just learned about \" + subject)\n",
    "        self.subjects_learned[subject] = units\n",
    "        self.current_units -= units\n",
    "        \n",
    "    def make_friends(self):\n",
    "        if len(self.subjects_to_take) > 3:\n",
    "            print(\"Whoa! I need more help!\")\n",
    "            self.partner = Student(self.subjects_to_take[1:])\n",
    "        else:\n",
    "            print(\"I'm on my own now!\")\n",
    "            self.partner = None\n",
    "            \n",
    "    def take_course(self):\n",
    "        course = self.subjects_to_take.pop()\n",
    "        self.learn(course, 4)\n",
    "        if self.partner:\n",
    "            print(\"I need to switch this up!\")\n",
    "            self.partner = self.partner.partner\n",
    "            if not self.partner:\n",
    "                print(\"I have failed to make a friend :(\")"
   ]
  },
  {
   "cell_type": "markdown",
   "metadata": {},
   "source": [
    "What would Python Print?"
   ]
  },
  {
   "cell_type": "code",
   "execution_count": 19,
   "metadata": {},
   "outputs": [
    {
     "name": "stdout",
     "output_type": "stream",
     "text": [
      "Whoa! I need more help!\n"
     ]
    }
   ],
   "source": [
    "tim = Student([\"Chem1A\", \"Bio1B\", \"CS61A\", \"CS70\", \"CogSci1\"])\n",
    "tim.make_friends()"
   ]
  },
  {
   "cell_type": "markdown",
   "metadata": {},
   "source": [
    "Above, it will print `\"Whoa! I need more help!\"` and it will create a partner that is an instance of a `Student`, excluding the first subject.`Student([\"Bio1B\", \"CS61A\", \"CS70\", \"CogSci1\"])`"
   ]
  },
  {
   "cell_type": "code",
   "execution_count": 20,
   "metadata": {},
   "outputs": [
    {
     "name": "stdout",
     "output_type": "stream",
     "text": [
      "['Chem1A', 'Bio1B', 'CS61A', 'CS70', 'CogSci1']\n"
     ]
    }
   ],
   "source": [
    "print(tim.subjects_to_take)\n",
    "# Ans: [[\"Chem1A\", \"Bio1B\", \"CS61A\", \"CS70\", \"CogSci1\"]]"
   ]
  },
  {
   "cell_type": "code",
   "execution_count": 21,
   "metadata": {},
   "outputs": [
    {
     "name": "stdout",
     "output_type": "stream",
     "text": [
      "Whoa! I need more help!\n"
     ]
    }
   ],
   "source": [
    "tim.partner.make_friends()"
   ]
  },
  {
   "cell_type": "markdown",
   "metadata": {},
   "source": [
    "Above, it will print `\"Whoa! I need more help!\"` and it will create a partner that is an instance of a `Student`, excluding the first subject of that partner.`Student([\"CS61A\", \"CS70\", \"CogSci1\"])`"
   ]
  },
  {
   "cell_type": "code",
   "execution_count": 22,
   "metadata": {},
   "outputs": [
    {
     "name": "stdout",
     "output_type": "stream",
     "text": [
      "I just learned about CogSci1\n",
      "I need to switch this up!\n"
     ]
    }
   ],
   "source": [
    "tim.take_course()"
   ]
  },
  {
   "cell_type": "markdown",
   "metadata": {},
   "source": [
    "Above, multiple things happen:\n",
    "1. `course` is assigned to `\"CogSci1\"`\n",
    "    * We also removed `\"CogSci1\"` from tim's `subjects_to_take`\n",
    "2. Executes `self.learn(course, 4)`, where `self` is `tim`, `course` is `\"CogSci1\"`.\n",
    "    * **Prints `\"I Just learned about CogSci1\"`**\n",
    "    * Create a new key-value in `tim`'s `subject_learned` dictionary\n",
    "        * `\"CogSci1\": 4`\n",
    "        * `tim`'s `current_units` is decreased from 16 to 12\n",
    "3. `tim` has partner, so **prints `\"I need to switch this up!\"`**\n",
    "4. Shift `tim`'s partner:\n",
    "    * Previously, `tim`'s partner is `Student([\"Bio1B\", \"CS61A\", ...])`\n",
    "    * Now `tim`'s partner is `Student([\"CS61A\", \"CS70\", ...])`\n",
    "4. `tim`'s partner has another partner, so we don't need to print the last line `\"I have failed to make a friend :(\"`\n",
    "    \n"
   ]
  },
  {
   "cell_type": "code",
   "execution_count": 25,
   "metadata": {},
   "outputs": [
    {
     "name": "stdout",
     "output_type": "stream",
     "text": [
      "I just learned about CogSci1\n"
     ]
    }
   ],
   "source": [
    "tim.partner.take_course()"
   ]
  },
  {
   "cell_type": "markdown",
   "metadata": {},
   "source": [
    "1. `course` is assigned to `\"CogSci1\"`\n",
    "    * We also removed `\"CogSci1\"` from `tim.partner` `subjects_to_take`\n",
    "2. Executes `self.learn(course, 4)`, where `self` is `tim.partner`, `course` is `\"CogSci1\"`.\n",
    "    * **Prints `\"I Just learned about CogSci1\"`**\n",
    "    * Create a new key-value in `tim.partner`'s `subject_learned` dictionary\n",
    "        * `\"CogSci1\": 4`\n",
    "        * `tim.partner`'s `current_units` is decreased from 16 to 12\n",
    "3. `tim.partner` doesn't have a partner.    \n"
   ]
  },
  {
   "cell_type": "code",
   "execution_count": 26,
   "metadata": {},
   "outputs": [
    {
     "name": "stdout",
     "output_type": "stream",
     "text": [
      "I just learned about CS70\n",
      "I need to switch this up!\n",
      "I have failed to make a friend :(\n"
     ]
    }
   ],
   "source": [
    "tim.take_course()"
   ]
  },
  {
   "cell_type": "markdown",
   "metadata": {},
   "source": [
    "1. `course` is assigned to `\"CS70\"`\n",
    "    * We also removed `\"CS70\"` from `tim`'s `subjects_to_take`\n",
    "2. Executes `self.learn(course, 4)`, where `self` is `tim`, `course` is `\"CS70\"`.\n",
    "    * **Prints `\"I Just learned about CS70\"`**\n",
    "    * Create a new key-value in `tim`'s `subject_learned` dictionary\n",
    "        * `\"CS70\": 4`\n",
    "        * `tim`'s `current_units` is decreased from 12 to 8\n",
    "3. `tim` has a partner, so **prints `\"I need to switch this up!\"**\n",
    "    * However, we then shift `tim.partner` to `tim.partner.partner`\n",
    "        * `tim.partner` doesn't have partner in the first place!\n",
    "    * Thus, **prints \"I have failed to make a friend :(\" **\n"
   ]
  },
  {
   "cell_type": "code",
   "execution_count": 27,
   "metadata": {},
   "outputs": [
    {
     "name": "stdout",
     "output_type": "stream",
     "text": [
      "I'm on my own now!\n"
     ]
    }
   ],
   "source": [
    "tim.make_friends()"
   ]
  },
  {
   "cell_type": "markdown",
   "metadata": {},
   "source": [
    "Above, `tim`'s `subjects_to_take` that's left is \"Chem1A\", \"Bio1B\", and \"CS61A\". This is not more than 3, so we **print `\"I'm on my own now!\"`** and assign `tim`'s partner to `None`."
   ]
  },
  {
   "cell_type": "code",
   "execution_count": null,
   "metadata": {},
   "outputs": [],
   "source": []
  }
 ],
 "metadata": {
  "kernelspec": {
   "display_name": "Python 3",
   "language": "python",
   "name": "python3"
  },
  "language_info": {
   "codemirror_mode": {
    "name": "ipython",
    "version": 3
   },
   "file_extension": ".py",
   "mimetype": "text/x-python",
   "name": "python",
   "nbconvert_exporter": "python",
   "pygments_lexer": "ipython3",
   "version": "3.6.8"
  }
 },
 "nbformat": 4,
 "nbformat_minor": 2
}
