{
 "cells": [
  {
   "cell_type": "code",
   "execution_count": 5,
   "metadata": {},
   "outputs": [],
   "source": [
    "%load_ext tutormagic"
   ]
  },
  {
   "cell_type": "markdown",
   "metadata": {},
   "source": [
    "## Question 3 - Draw an environment diagram of the following:"
   ]
  },
  {
   "cell_type": "markdown",
   "metadata": {},
   "source": [
    "### 3a"
   ]
  },
  {
   "cell_type": "code",
   "execution_count": 6,
   "metadata": {},
   "outputs": [
    {
     "data": {
      "text/html": [
       "\n",
       "        <iframe\n",
       "            width=\"100%\"\n",
       "            height=\"350\"\n",
       "            src=\"http://pythontutor.com/iframe-embed.html#code=%0Aore%20%3D%20%22settlers%22%0Adef%20sheep%28wood%29%3A%0A%20%20%20%20def%20ore%28wheat%29%3A%0A%20%20%20%20%20%20%20%20nonlocal%20ore%0A%20%20%20%20%20%20%20%20ore%20%3D%20wheat%0A%20%20%20%20ore%28wood%29%0A%20%20%20%20return%20ore%0A%0Asheep%28lambda%20wood%3A%20ore%29%28%22wheat%22%29%0A&origin=opt-frontend.js&cumulative=false&heapPrimitives=false&textReferences=false&curInstr=0&&verticalStack=false&py=3&rawInputLstJSON=%5B%5D&codeDivWidth=50%25&codeDivHeight=100%25\"\n",
       "            frameborder=\"0\"\n",
       "            allowfullscreen\n",
       "        ></iframe>\n",
       "        "
      ],
      "text/plain": [
       "<IPython.lib.display.IFrame at 0x17c8d4b4780>"
      ]
     },
     "metadata": {},
     "output_type": "display_data"
    }
   ],
   "source": [
    "%%tutor --lang Python3\n",
    "\n",
    "ore = \"settlers\"\n",
    "def sheep(wood):\n",
    "    def ore(wheat):\n",
    "        nonlocal ore\n",
    "        ore = wheat\n",
    "    ore(wood)\n",
    "    return ore\n",
    "\n",
    "sheep(lambda wood: ore)(\"wheat\")"
   ]
  },
  {
   "cell_type": "markdown",
   "metadata": {},
   "source": [
    "First of all, the lambda function `lambda wood: ore` basically returns `ore`, which is currently bound to the string `\"settlers\"`. "
   ]
  },
  {
   "cell_type": "code",
   "execution_count": null,
   "metadata": {},
   "outputs": [],
   "source": [
    "lambda wood: ore # ore is currently \"settlers\""
   ]
  },
  {
   "cell_type": "markdown",
   "metadata": {},
   "source": [
    "Then when we call `sheep(lambda wood: ore)`, we are calling the function `sheep` with the argument of a lambda function that returns `\"settlers\"`"
   ]
  },
  {
   "cell_type": "code",
   "execution_count": null,
   "metadata": {},
   "outputs": [],
   "source": [
    "def sheep(wood): # Here we call the sheep function where the argument wood is a the lambda function \"wood\" \n",
    "    # that returns the string \"settlers\""
   ]
  },
  {
   "cell_type": "markdown",
   "metadata": {},
   "source": [
    "Then we are calling the inner function `ore(wheat)` with the argument `wheat` = `\"wheat\"`"
   ]
  },
  {
   "cell_type": "code",
   "execution_count": null,
   "metadata": {},
   "outputs": [],
   "source": [
    "def ore(wheat): # We are calling the ore function with the argument 'wheat' = the string \"wheat\""
   ]
  },
  {
   "cell_type": "markdown",
   "metadata": {},
   "source": [
    "When we state `nonlocal ore` and `ore = wheat`, those refer to `ore` variable in global scope rather than the inner function `ore(wheat)`. The `ore` in global scope is currently referring to the string `\"settlers\"`, and thus we change it to `\"wheat\"`"
   ]
  },
  {
   "cell_type": "code",
   "execution_count": null,
   "metadata": {},
   "outputs": [],
   "source": [
    "nonlocal ore\n",
    "ore = wheat # ore is changed from \"settlers\" to \"wheat\""
   ]
  },
  {
   "cell_type": "markdown",
   "metadata": {},
   "source": [
    "Then we call the function `ore` once again, where the argument `wood` refers to the lambda function `wood` that returns the string `\"settlers\"`. Thus, we are basically calling `ore(\"settlers\")`."
   ]
  },
  {
   "cell_type": "code",
   "execution_count": null,
   "metadata": {},
   "outputs": [],
   "source": [
    "ore(wood)"
   ]
  },
  {
   "cell_type": "markdown",
   "metadata": {},
   "source": [
    "Here, we set `ore` to be `nonlocal` again and we set `ore` from `\"wheat\"` to `\"settlers\"`."
   ]
  },
  {
   "cell_type": "code",
   "execution_count": null,
   "metadata": {},
   "outputs": [],
   "source": [
    "def ore(wheat): #This time, the argument wheat is the lambda function wood\n",
    "    nonlocal ore\n",
    "    ore = wheat # ore is now changed to `\"settlers\""
   ]
  },
  {
   "cell_type": "markdown",
   "metadata": {},
   "source": [
    "Finally, we return `ore`, which is bound to `\"settlers\"`"
   ]
  },
  {
   "cell_type": "code",
   "execution_count": null,
   "metadata": {},
   "outputs": [],
   "source": [
    "return ore"
   ]
  },
  {
   "cell_type": "markdown",
   "metadata": {},
   "source": [
    "### 3b"
   ]
  },
  {
   "cell_type": "code",
   "execution_count": 8,
   "metadata": {},
   "outputs": [
    {
     "data": {
      "text/html": [
       "\n",
       "        <iframe\n",
       "            width=\"100%\"\n",
       "            height=\"350\"\n",
       "            src=\"http://pythontutor.com/iframe-embed.html#code=%0Aaang%20%3D%20120%0Adef%20airbend%28zuko%29%3A%0A%20%20%20%20aang%20%3D%202%0A%20%20%20%20def%20katara%28aang%29%3A%0A%20%20%20%20%20%20%20%20nonlocal%20zuko%0A%20%20%20%20%20%20%20%20zuko%20%3D%20lambda%20sokka%3A%20aang%20%2B%204%0A%20%20%20%20%20%20%20%20return%20aang%0A%20%20%20%20if%20zuko%2810%29%20%3D%3D%201%3A%0A%20%20%20%20%20%20%20%20katara%20%28aang%20%2B%209%29%0A%20%20%20%20return%20zuko%28airbend%29%0Aairbend%28lambda%20x%3A%20aang%20%2B%201%29%0A&origin=opt-frontend.js&cumulative=false&heapPrimitives=false&textReferences=false&curInstr=0&&verticalStack=false&py=3&rawInputLstJSON=%5B%5D&codeDivWidth=50%25&codeDivHeight=100%25\"\n",
       "            frameborder=\"0\"\n",
       "            allowfullscreen\n",
       "        ></iframe>\n",
       "        "
      ],
      "text/plain": [
       "<IPython.lib.display.IFrame at 0x17c8ec89be0>"
      ]
     },
     "metadata": {},
     "output_type": "display_data"
    }
   ],
   "source": [
    "%%tutor --lang Python3\n",
    "\n",
    "aang = 120\n",
    "def airbend(zuko):\n",
    "    aang = 2\n",
    "    def katara(aang):\n",
    "        nonlocal zuko\n",
    "        zuko = lambda sokka: aang + 4\n",
    "        return aang\n",
    "    if zuko(10) == 1:\n",
    "        katara (aang + 9)\n",
    "    return zuko(airbend)\n",
    "airbend(lambda x: aang + 1)"
   ]
  },
  {
   "cell_type": "markdown",
   "metadata": {},
   "source": [
    "## Question 4"
   ]
  },
  {
   "cell_type": "markdown",
   "metadata": {},
   "source": [
    "Write `make_max_finder`, which takes in no arguments but returns a function which takes in a list. The function it returns should return the maximum value it's been called so far, including the current and any previous list. You can assume that any list this function takes in will be nonempty and contain only non-negative values."
   ]
  },
  {
   "cell_type": "markdown",
   "metadata": {},
   "source": [
    "### Strategy"
   ]
  },
  {
   "cell_type": "markdown",
   "metadata": {},
   "source": [
    "The first function takes in no argument, but it returns a function that takes in a list. Chances are, this problem involves a higher-order function."
   ]
  },
  {
   "cell_type": "code",
   "execution_count": null,
   "metadata": {},
   "outputs": [],
   "source": [
    "def make_max_finder():\n",
    "    def helper(lst)"
   ]
  },
  {
   "cell_type": "markdown",
   "metadata": {},
   "source": [
    "We need a variable that keeps track of the current maximum value so far. However, if we initiate this variable as part of the helper function,"
   ]
  },
  {
   "cell_type": "code",
   "execution_count": null,
   "metadata": {},
   "outputs": [],
   "source": [
    "def helper(lst):\n",
    "    current_max = 0"
   ]
  },
  {
   "cell_type": "markdown",
   "metadata": {},
   "source": [
    "Then every time the `helper` function is called, the `current_max` would be reset to 0. Instead, we'll initiate the variable `current_max` within the `make_max_finder()` frame but outside the `helper` function frame."
   ]
  },
  {
   "cell_type": "code",
   "execution_count": null,
   "metadata": {},
   "outputs": [],
   "source": [
    "def make_max_finder():\n",
    "    current_max = 0\n",
    "    def helper(lst):"
   ]
  },
  {
   "cell_type": "markdown",
   "metadata": {},
   "source": [
    "Normally we can't modify a variable that's outside a function's environment, unless we state the variable to be nonlocal."
   ]
  },
  {
   "cell_type": "code",
   "execution_count": null,
   "metadata": {},
   "outputs": [],
   "source": [
    "def helper(lst):\n",
    "    nonlocal current_max"
   ]
  },
  {
   "cell_type": "markdown",
   "metadata": {},
   "source": [
    "From here, the implementation is straightforward:\n",
    "\n",
    "If the maximum value of the input list is greater than the current `current_max`, reassign `current_max` to be that maximum value."
   ]
  },
  {
   "cell_type": "code",
   "execution_count": null,
   "metadata": {},
   "outputs": [],
   "source": [
    "if max(lst) > current_max:\n",
    "    current_max = max(lst)"
   ]
  },
  {
   "cell_type": "markdown",
   "metadata": {},
   "source": [
    "The implementation would look like the following,"
   ]
  },
  {
   "cell_type": "code",
   "execution_count": 15,
   "metadata": {},
   "outputs": [],
   "source": [
    "def make_max_finder():\n",
    "    current_max = 0\n",
    "    def helper(lst):\n",
    "        nonlocal current_max\n",
    "        if max(lst) > current_max:\n",
    "            current_max = max(lst)\n",
    "        return current_max\n",
    "    return helper"
   ]
  },
  {
   "cell_type": "code",
   "execution_count": 16,
   "metadata": {},
   "outputs": [
    {
     "data": {
      "text/plain": [
       "TestResults(failed=0, attempted=6)"
      ]
     },
     "execution_count": 16,
     "metadata": {},
     "output_type": "execute_result"
    }
   ],
   "source": [
    "\n",
    "\"\"\"\n",
    ">>> m = make_max_finder()\n",
    ">>> m([5, 6, 7])\n",
    "7\n",
    ">>> m([1, 2, 3])\n",
    "7\n",
    ">>> m([9])\n",
    "9\n",
    ">>> m2 = make_max_finder()\n",
    ">>> m2([1])\n",
    "1\n",
    "\"\"\"\n",
    "import doctest\n",
    "doctest.testmod()"
   ]
  },
  {
   "cell_type": "code",
   "execution_count": null,
   "metadata": {},
   "outputs": [],
   "source": []
  }
 ],
 "metadata": {
  "kernelspec": {
   "display_name": "Python 3",
   "language": "python",
   "name": "python3"
  },
  "language_info": {
   "codemirror_mode": {
    "name": "ipython",
    "version": 3
   },
   "file_extension": ".py",
   "mimetype": "text/x-python",
   "name": "python",
   "nbconvert_exporter": "python",
   "pygments_lexer": "ipython3",
   "version": "3.6.8"
  }
 },
 "nbformat": 4,
 "nbformat_minor": 2
}
