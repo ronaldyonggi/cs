{
 "cells": [
  {
   "cell_type": "markdown",
   "metadata": {},
   "source": [
    "## Question 9 - Photosynthesis"
   ]
  },
  {
   "cell_type": "markdown",
   "metadata": {},
   "source": [
    "## 9a"
   ]
  },
  {
   "cell_type": "markdown",
   "metadata": {},
   "source": [
    "Fill in the methods below so that the classes interact correctly according to the documentation (make sure to keep track of all the counters!)"
   ]
  },
  {
   "cell_type": "code",
   "execution_count": 2,
   "metadata": {},
   "outputs": [],
   "source": [
    "class Plant:\n",
    "    def __init__(self):\n",
    "        \"\"\" A plant has a Leaf, a list of sugars created so\n",
    "        far, and an initial height of 1\"\"\"\n",
    "        self.height = 1\n",
    "        self.materials = []\n",
    "        \n",
    "    def absorb(self):\n",
    "        \"\"\"Calls the leaf to create sugar\"\"\"\n",
    "        Sugar.sugars_created += 1\n",
    "        \n",
    "    def grow(self):\n",
    "        \"\"\" A plant uses all of its sugar, each of which increases its\n",
    "        height by 1\"\"\"\n",
    "        for i in self.materials:\n",
    "            self.height += 1\n",
    "        self.materials = []"
   ]
  },
  {
   "cell_type": "code",
   "execution_count": null,
   "metadata": {},
   "outputs": [],
   "source": [
    "class Leaf:\n",
    "    def __init__(self, plant):\n",
    "        \"\"\" A Leaf is initially alive, and keeps track of how many\n",
    "        sugars it has created \"\"\"\n",
    "        self.alive = True\n",
    "        self.sugars_used = 0\n",
    "        self.plant = plant\n",
    "    \n",
    "    def absorb(self):\n",
    "        \"\"\" If this Leaf is alive, a Sugar is added to the plant's\n",
    "        list of sugars\"\"\"\n",
    "        if self.alive:\n",
    "            self.plant.materials.append(Sugar(self, self.plant))\n",
    "            \n",
    "            "
   ]
  },
  {
   "cell_type": "code",
   "execution_count": 3,
   "metadata": {},
   "outputs": [
    {
     "ename": "IndentationError",
     "evalue": "expected an indented block (<ipython-input-3-26a6ba186179>, line 6)",
     "output_type": "error",
     "traceback": [
      "\u001b[1;36m  File \u001b[1;32m\"<ipython-input-3-26a6ba186179>\"\u001b[1;36m, line \u001b[1;32m6\u001b[0m\n\u001b[1;33m    def activate(self):\u001b[0m\n\u001b[1;37m      ^\u001b[0m\n\u001b[1;31mIndentationError\u001b[0m\u001b[1;31m:\u001b[0m expected an indented block\n"
     ]
    }
   ],
   "source": [
    "class Sugar:\n",
    "    sugars_created = 0\n",
    "    \n",
    "    def __init__(self, leaf, plant):\n",
    "        \n",
    "    def activate(self):\n",
    "        \"\"\" A sugar is used, then removed from the Plant which contains it\"\"\"\n",
    "        \n",
    "    def __repr__(self):\n",
    "        return '|Sugar|'"
   ]
  },
  {
   "cell_type": "code",
   "execution_count": 1,
   "metadata": {},
   "outputs": [
    {
     "data": {
      "text/plain": [
       "TestResults(failed=0, attempted=0)"
      ]
     },
     "execution_count": 1,
     "metadata": {},
     "output_type": "execute_result"
    }
   ],
   "source": [
    "\"\"\"\n",
    ">>> p = Plant()\n",
    ">>> p.height\n",
    "1\n",
    ">>> p.materials\n",
    "[]\n",
    ">>> p.absorb()\n",
    ">>> p.materials\n",
    "[|Sugar|]\n",
    ">>> Sugar.sugars_created\n",
    "1\n",
    ">>> p.leaf.sugars_used\n",
    "0\n",
    ">>> p.grow()\n",
    ">>> p.materials\n",
    "[]\n",
    ">>> p.height\n",
    "2\n",
    ">>> p.leaf.sugars_used\n",
    "1\n",
    "\"\"\"\n",
    "\n",
    "import doctest\n",
    "doctest.testmod()"
   ]
  },
  {
   "cell_type": "code",
   "execution_count": null,
   "metadata": {},
   "outputs": [],
   "source": []
  }
 ],
 "metadata": {
  "kernelspec": {
   "display_name": "Python 3",
   "language": "python",
   "name": "python3"
  },
  "language_info": {
   "codemirror_mode": {
    "name": "ipython",
    "version": 3
   },
   "file_extension": ".py",
   "mimetype": "text/x-python",
   "name": "python",
   "nbconvert_exporter": "python",
   "pygments_lexer": "ipython3",
   "version": "3.6.8"
  }
 },
 "nbformat": 4,
 "nbformat_minor": 2
}
