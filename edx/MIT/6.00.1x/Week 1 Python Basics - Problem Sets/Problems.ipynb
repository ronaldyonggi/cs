{
 "cells": [
  {
   "cell_type": "markdown",
   "metadata": {},
   "source": [
    "# Problem 1\n",
    "\n",
    "Assume `s` is a string of lower case characters.\n",
    "\n",
    "Write a program that counts up the number of vowels contained in the string `s`. Valid vowels are: '`a`', '`e`', '`i`', '`o`', '`u`'. For example, if `s = 'azcbobobegghakl'`, your program should print:\n",
    "\n",
    "```\n",
    "Number of vowels: 5\n",
    "```"
   ]
  },
  {
   "cell_type": "code",
   "execution_count": 1,
   "metadata": {},
   "outputs": [
    {
     "data": {
      "text/plain": [
       "5"
      ]
     },
     "execution_count": 1,
     "metadata": {},
     "output_type": "execute_result"
    }
   ],
   "source": [
    "count = 0\n",
    "for letter in s:\n",
    "    # For lookups, use dictionary rather than list because dictionaries\n",
    "    # lookups runtime is amortized.\n",
    "    if letter in {'a':1, 'e':1, 'i': 1, 'o': 1, 'u': 1}:\n",
    "        count += 1\n",
    "        \n",
    "print('Number of vowels:', count)"
   ]
  },
  {
   "cell_type": "markdown",
   "metadata": {},
   "source": [
    "# Problem 2\n",
    "\n",
    "Assume `s` is a string of lower case characters.\n",
    "\n",
    "Write a program that prints the number of times the string `'bob'` occurs in `s`. For example, if `s = 'azcbobobegghakl'`, then your program should print\n",
    "\n",
    "```\n",
    "Number of times bob occurs is: 2\n",
    "```"
   ]
  },
  {
   "cell_type": "code",
   "execution_count": 9,
   "metadata": {},
   "outputs": [
    {
     "name": "stdout",
     "output_type": "stream",
     "text": [
      "Number of times bob occurs is: 10\n"
     ]
    }
   ],
   "source": [
    "count = 0\n",
    "# iterate up to 2 letters before the last letter since we're also checking \n",
    "# 2 characters after each letter\n",
    "for i in range(len(s)-2):\n",
    "    if s[i] + s[i+1] + s[i+2] == 'bob':\n",
    "        count += 1\n",
    "        \n",
    "print('Number of times bob occurs is:', count)"
   ]
  },
  {
   "cell_type": "markdown",
   "metadata": {},
   "source": [
    "# Problem 2\n",
    "\n",
    "Assume `s` is a string of lower case characters.\n",
    "\n",
    "Write a program that prints the longest substring of `s` in which the letters occur in alphabetical order. For example, if `s = 'azcbobobegghakl'`, then your program should print\n",
    "\n",
    "```\n",
    "Longest substring in alphabetical order is: beggh\n",
    "```\n",
    "\n",
    "In the case of ties, print the first substring. For example, if `s= 'abcbcd'`, then your program should print\n",
    "\n",
    "```\n",
    "Longest substring in alphabetical order is: abc\n",
    "```"
   ]
  },
  {
   "cell_type": "code",
   "execution_count": 14,
   "metadata": {},
   "outputs": [],
   "source": [
    "longest = ''\n",
    "current = ''\n",
    "for i in range(len(s)):\n",
    "    # if current is empty or if the iterated letter >= last letter\n",
    "    # in current, add the letter to current\n",
    "    if not current or s[i] >= current[-1]:\n",
    "        current += s[i]\n",
    "    # Otherwise, reset current starting from the iterated letter\n",
    "    else:\n",
    "        current = s[i]\n",
    "    # if current is longer than longest, current becomes longest\n",
    "    if len(current) > len(longest):\n",
    "        longest = current\n",
    "        \n",
    "print('Longest substring in alphabetical order is:',longest)"
   ]
  },
  {
   "cell_type": "code",
   "execution_count": null,
   "metadata": {},
   "outputs": [],
   "source": []
  }
 ],
 "metadata": {
  "kernelspec": {
   "display_name": "Python 3",
   "language": "python",
   "name": "python3"
  },
  "language_info": {
   "codemirror_mode": {
    "name": "ipython",
    "version": 3
   },
   "file_extension": ".py",
   "mimetype": "text/x-python",
   "name": "python",
   "nbconvert_exporter": "python",
   "pygments_lexer": "ipython3",
   "version": "3.8.5"
  }
 },
 "nbformat": 4,
 "nbformat_minor": 4
}
