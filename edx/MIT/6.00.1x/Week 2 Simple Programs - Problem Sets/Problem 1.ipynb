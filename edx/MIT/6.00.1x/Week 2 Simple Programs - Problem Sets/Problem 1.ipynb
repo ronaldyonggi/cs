{
 "cells": [
  {
   "cell_type": "markdown",
   "metadata": {},
   "source": [
    "Write a program to calculate the credit card balance after one year if a person only pays the minimum monthly payment required by the credit card company each month.\n",
    "\n",
    "The following variables contain values as described below:\n",
    "\n",
    "1. `balance` - the outstanding balance on the credit card\n",
    "2. `annualInterestRate` - annual interest rate as a decimal\n",
    "3. `monthlyPaymentRate` - minimum monthly payment rate as a decimal\n",
    "\n",
    "For each month, calculate statements on the monthly payment and remaining balance. At the end of 12 months, print out the remaining balance. Be sure to print out no more than two decimal digits of accuracy - so print\n",
    "\n",
    "```\n",
    "Remaining balance: 813.41\n",
    "```\n",
    "\n",
    "Instead of\n",
    "\n",
    "```\n",
    "Remaining balance: 813.4141998135 \n",
    "```\n",
    "\n",
    "So your program only prints out one thing: the remaining balance at the end of the year in the format:\n",
    "\n",
    "```\n",
    "Remaining balance: 4784.0\n",
    "```"
   ]
  },
  {
   "cell_type": "code",
   "execution_count": null,
   "metadata": {},
   "outputs": [],
   "source": [
    "# Start with calculating minimum monthly payment and unpaid balance\n",
    "# for month 0\n",
    "minimum = balance * monthlyPaymentRate\n",
    "unpaid = balance - minimum\n",
    "# Iterate 12 times since 1 year = 12 months. \n",
    "for i in range(12):\n",
    "    # update balance for next month\n",
    "    balance = unpaid + annualInterestRate * unpaid / 12\n",
    "    # update minimum monthly payment\n",
    "    minimum = balance * monthlyPaymentRate\n",
    "    # update unpaid balance\n",
    "    unpaid = balance - minimum\n",
    "    \n",
    "print('Remaining balance:', round(balance, 2))"
   ]
  },
  {
   "cell_type": "code",
   "execution_count": 5,
   "metadata": {},
   "outputs": [],
   "source": [
    "# Testing with functions\n",
    "\n",
    "def calc(balance, annualInterestRate, monthlyPaymentRate):\n",
    "    # Start with calculating minimum monthly payment and unpaid balance\n",
    "    minimum = balance * monthlyPaymentRate\n",
    "    unpaid = balance - minimum\n",
    "    # Iterate 12 times since 1 year = 12 months. \n",
    "    for i in range(12):\n",
    "        # update balance for next month\n",
    "        balance = unpaid + annualInterestRate * unpaid / 12\n",
    "        # update minimum monthly payment\n",
    "        minimum = balance * monthlyPaymentRate\n",
    "        # update unpaid balance\n",
    "        unpaid = balance - minimum\n",
    "\n",
    "    print('Remaining balance:', round(balance, 2))"
   ]
  },
  {
   "cell_type": "code",
   "execution_count": 7,
   "metadata": {},
   "outputs": [
    {
     "name": "stdout",
     "output_type": "stream",
     "text": [
      "Remaining balance: 361.61\n"
     ]
    }
   ],
   "source": [
    "# Testing\n",
    "calc(484, 0.2, 0.04)"
   ]
  },
  {
   "cell_type": "code",
   "execution_count": null,
   "metadata": {},
   "outputs": [],
   "source": []
  }
 ],
 "metadata": {
  "kernelspec": {
   "display_name": "Python 3",
   "language": "python",
   "name": "python3"
  },
  "language_info": {
   "codemirror_mode": {
    "name": "ipython",
    "version": 3
   },
   "file_extension": ".py",
   "mimetype": "text/x-python",
   "name": "python",
   "nbconvert_exporter": "python",
   "pygments_lexer": "ipython3",
   "version": "3.8.5"
  }
 },
 "nbformat": 4,
 "nbformat_minor": 4
}
