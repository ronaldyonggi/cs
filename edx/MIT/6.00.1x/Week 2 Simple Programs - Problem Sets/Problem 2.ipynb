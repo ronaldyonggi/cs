{
 "cells": [
  {
   "cell_type": "markdown",
   "metadata": {},
   "source": [
    "Now write a program that calculates the minimum **fixed** monthly payment needed in order pay off a credit card balance within 12 months. By a fixed monthly payment, we mean a single number which does not change each month, but instead is a constant amount that will be paid each month.\n",
    "\n",
    "In this problem, we will not be dealing with a minimum monthly payment rate.\n",
    "\n",
    "The following variables contain values as described below:\n",
    "\n",
    "1. `balance` - the outstanding balance on the credit card\n",
    "2. `annualInterestRate` - annual interest rate as a decimal\n",
    "\n",
    "The program should print out one line: the lowest monthly payment that will pay off all debt in under 1 year, for example:\n",
    "\n",
    "```\n",
    "Lowest Payment: 180\n",
    "```"
   ]
  },
  {
   "cell_type": "code",
   "execution_count": 3,
   "metadata": {},
   "outputs": [],
   "source": [
    "# Define a function that can be used to test multiple minimum payment\n",
    "# inputs\n",
    "def remaining(balance, annual, minimum):\n",
    "    monthrate = annual / 12\n",
    "    unpaid = balance - minimum\n",
    "    for i in range(12):\n",
    "        balance = unpaid * (1 + monthrate)\n",
    "        unpaid = balance - minimum\n",
    "    return balance\n",
    "\n",
    "# If the return value of this function > 0, run this function again\n",
    "# with `minimum` incremented by 10. Repeat until acquiring the\n",
    "# minimum where the remaining balance is 0 or less."
   ]
  },
  {
   "cell_type": "code",
   "execution_count": 7,
   "metadata": {},
   "outputs": [
    {
     "data": {
      "text/plain": [
       "360"
      ]
     },
     "execution_count": 7,
     "metadata": {},
     "output_type": "execute_result"
    }
   ],
   "source": [
    "# Test case 1\n",
    "x = 10\n",
    "b = 3926\n",
    "r = 0.2\n",
    "while remaining(b, r, x) > 0:\n",
    "    x += 10\n",
    "    \n",
    "x #should be 360"
   ]
  },
  {
   "cell_type": "markdown",
   "metadata": {},
   "source": [
    "# Answer"
   ]
  },
  {
   "cell_type": "code",
   "execution_count": null,
   "metadata": {},
   "outputs": [],
   "source": [
    "# Paste your code into this box\n",
    "def remaining(balance, annual, minimum):\n",
    "    monthrate = annual / 12\n",
    "    unpaid = balance - minimum\n",
    "    for i in range(12):\n",
    "        balance = unpaid * (1 + monthrate)\n",
    "        unpaid = balance - minimum\n",
    "    return balance\n",
    "    \n",
    "lowest = 10\n",
    "while remaining(balance, annualInterestRate, lowest) > 0:\n",
    "    lowest += 10\n",
    "\n",
    "print('Lowest Payment:', lowest)"
   ]
  }
 ],
 "metadata": {
  "kernelspec": {
   "display_name": "Python 3",
   "language": "python",
   "name": "python3"
  },
  "language_info": {
   "codemirror_mode": {
    "name": "ipython",
    "version": 3
   },
   "file_extension": ".py",
   "mimetype": "text/x-python",
   "name": "python",
   "nbconvert_exporter": "python",
   "pygments_lexer": "ipython3",
   "version": "3.8.5"
  }
 },
 "nbformat": 4,
 "nbformat_minor": 4
}
