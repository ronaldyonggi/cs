{
 "cells": [
  {
   "cell_type": "code",
   "execution_count": 1,
   "metadata": {},
   "outputs": [],
   "source": [
    "from datascience import *\n",
    "import numpy as np\n",
    "\n",
    "import matplotlib.pyplot as plt\n",
    "from mpl_toolkits.mplot3d import Axes3D\n",
    "plt.style.use('fivethirtyeight')\n",
    "%matplotlib inline\n",
    "\n",
    "from ipywidgets import interact, interactive, fixed, interact_manual\n",
    "import ipywidgets as widgets\n",
    "\n",
    "# Plotly plotting support\n",
    "# import plotly.plotly as py\n",
    "import plotly.plotly as py\n",
    "\n",
    "# import cufflinks as cf\n",
    "# cf.go_offline() # required to use plotly offline (no account required).\n",
    "\n",
    "import plotly.graph_objs as go\n",
    "import plotly.figure_factory as ff"
   ]
  },
  {
   "cell_type": "markdown",
   "metadata": {},
   "source": [
    "# 1. Tables\n",
    "The `cal` table describe the:\n",
    "\n",
    "1. `name` (string)\n",
    "2. `position` (string)\n",
    "3. `class` (string), and\n",
    "4. `height` (int)\n",
    "\n",
    "of Cal basketball players in the 2016-2017 season."
   ]
  },
  {
   "cell_type": "code",
   "execution_count": 2,
   "metadata": {},
   "outputs": [
    {
     "data": {
      "text/html": [
       "<table border=\"1\" class=\"dataframe\">\n",
       "    <thead>\n",
       "        <tr>\n",
       "            <th>name</th> <th>position</th> <th>class</th> <th>height</th>\n",
       "        </tr>\n",
       "    </thead>\n",
       "    <tbody>\n",
       "        <tr>\n",
       "            <td>Ivan Rabb    </td> <td>Forward </td> <td>Sophomore</td> <td>83    </td>\n",
       "        </tr>\n",
       "        <tr>\n",
       "            <td>Charlie Moore</td> <td>Guard   </td> <td>Freshman </td> <td>71    </td>\n",
       "        </tr>\n",
       "        <tr>\n",
       "            <td>A            </td> <td>Center  </td> <td>Junior   </td> <td>75    </td>\n",
       "        </tr>\n",
       "    </tbody>\n",
       "</table>\n",
       "<p>... (4 rows omitted)</p>"
      ],
      "text/plain": [
       "<IPython.core.display.HTML object>"
      ]
     },
     "metadata": {},
     "output_type": "display_data"
    }
   ],
   "source": [
    "name = make_array('Ivan Rabb', 'Charlie Moore', 'A', 'B', 'C', 'D', 'E')\n",
    "position = make_array('Forward', 'Guard', 'Center', 'Power Forward', 'Point Guard', 'Forward', 'Guard')\n",
    "Class = make_array('Sophomore', 'Freshman', 'Junior', 'Senior', 'Sophomore', 'Junior', 'Senior')\n",
    "height = make_array(83, 71, 75, 90, 81, 77, 92)\n",
    "\n",
    "cal = Table().with_column(\n",
    "    'name', name,\n",
    "    'position', position,\n",
    "    'class', Class,\n",
    "    'height', height\n",
    ")\n",
    "\n",
    "cal.show(3)"
   ]
  },
  {
   "cell_type": "markdown",
   "metadata": {},
   "source": [
    "Complete the **Python expressions** below to compute each result.\n",
    "\n",
    "**You must fit your solution into the lines and spaces provided to receive full credit**\n",
    "\n",
    "A blank can be filled  with multiple expressions, such as 2 expressions separated by commas. The last line of each answer should evaluate to the result requested; you never need to call `print`."
   ]
  },
  {
   "cell_type": "markdown",
   "metadata": {},
   "source": [
    "#### (a) The proportion of all players whose position is `Forward`"
   ]
  },
  {
   "cell_type": "code",
   "execution_count": 3,
   "metadata": {},
   "outputs": [
    {
     "data": {
      "text/plain": [
       "0.2857142857142857"
      ]
     },
     "execution_count": 3,
     "metadata": {},
     "output_type": "execute_result"
    }
   ],
   "source": [
    "cal.where('position', 'Forward').num_rows / cal.num_rows"
   ]
  },
  {
   "cell_type": "markdown",
   "metadata": {},
   "source": [
    "#### (b) The name of the shortest `Freshman`. Assume that one is shorter than the rest."
   ]
  },
  {
   "cell_type": "code",
   "execution_count": 4,
   "metadata": {},
   "outputs": [
    {
     "data": {
      "text/plain": [
       "'Charlie Moore'"
      ]
     },
     "execution_count": 4,
     "metadata": {},
     "output_type": "execute_result"
    }
   ],
   "source": [
    "cal.where('class', 'Freshman').sort('height', descending = False).row(0).item('name')"
   ]
  },
  {
   "cell_type": "markdown",
   "metadata": {},
   "source": [
    "#### (c) Whether there are at least $\\frac{3}{4}$ of players that are 80 inches tall or shorter. The result should be `True` or `False`.\n",
    "\n",
    "For this problem, we are checking whether the 75% percentile of the players are less than or equal to 80 inches tall. Thus, the whole line is a boolean value."
   ]
  },
  {
   "cell_type": "code",
   "execution_count": 5,
   "metadata": {},
   "outputs": [
    {
     "data": {
      "text/plain": [
       "False"
      ]
     },
     "execution_count": 5,
     "metadata": {},
     "output_type": "execute_result"
    }
   ],
   "source": [
    "percentile(75, cal.column('height')) <= 80"
   ]
  },
  {
   "cell_type": "markdown",
   "metadata": {},
   "source": [
    "#### (d) The number of players that are (strictly) more than one standard deviation above the mean height\n",
    "\n",
    "Note: **strictly** means either just `>` or `<`. So no `>=` or"
   ]
  },
  {
   "cell_type": "code",
   "execution_count": 6,
   "metadata": {},
   "outputs": [
    {
     "data": {
      "text/plain": [
       "2"
      ]
     },
     "execution_count": 6,
     "metadata": {},
     "output_type": "execute_result"
    }
   ],
   "source": [
    "a = cal.column('height')\n",
    "cal.where('height', are.above(np.mean(a) + np.std(a))).num_rows"
   ]
  },
  {
   "cell_type": "markdown",
   "metadata": {},
   "source": [
    "#### (e) An array of all positions, sorted in increasing order of the average height for all players in that position."
   ]
  },
  {
   "cell_type": "code",
   "execution_count": 7,
   "metadata": {},
   "outputs": [
    {
     "data": {
      "text/plain": [
       "array(['Center', 'Forward', 'Point Guard', 'Guard', 'Power Forward'],\n",
       "      dtype='<U13')"
      ]
     },
     "execution_count": 7,
     "metadata": {},
     "output_type": "execute_result"
    }
   ],
   "source": [
    "t = cal.select('position', 'height')\n",
    "t.group('position', np.mean).sort(1).column(0)"
   ]
  },
  {
   "cell_type": "markdown",
   "metadata": {},
   "source": [
    "# 2. Experiment\n",
    "The `cal` table described in the previous question has columns `name`, `position`, `class` and `height`. Read the following code used to test a hypothesis about the `cal` table. then answer the questions below to interpret it."
   ]
  },
  {
   "cell_type": "code",
   "execution_count": 9,
   "metadata": {},
   "outputs": [],
   "source": [
    "def diff_of_means(t):\n",
    "    forward_mean = t.where('position', 'Forward').column('height').mean()\n",
    "    guard_mean = t.where('position', 'Guard').column('height').mean()\n",
    "    return forward_mean - guard_mean\n",
    "\n",
    "differences = make_array()\n",
    "\n",
    "for i in np.arange(10000):\n",
    "    shuffled_heights = cal.sample(with_replacement = False).column('height')\n",
    "    shuffled = cal.select('position').with_column('height', shuffled_heights)\n",
    "    differences = np.append(differences, abs(diff_of_means(shuffled)))"
   ]
  },
  {
   "cell_type": "markdown",
   "metadata": {},
   "source": [
    "#### (a) Circle all of the following hypotheses that could potentially be tested using the `differences` array\n",
    "\n",
    "1. Among guards and forwards on this team, there is an association between height and position\n",
    "2. Whether a player is guard or a forward is like flipping a fair coin\n",
    "3. The forwards on Cal's team have historically been taller than the guards, on average\n",
    "4. The heights of guards and forwards are like random samples from the same distribution\n",
    "\n",
    "#### Answer: 1, 4"
   ]
  },
  {
   "cell_type": "markdown",
   "metadata": {},
   "source": [
    "#### (b) Circle one option among `(A)`, `(B)`, and `(C)` for each blank in this description of the hypothesis test:\n",
    "\n",
    "In this (----i----), the null hypothesis states that the heights and positions of players are (----ii----)\n",
    "\n",
    "| Options | i | ii |\n",
    "| ----- | ---- | -----|\n",
    "| (A) | permutation test | drawn at random from the same population |\n",
    "| (B) | confidence interval test | paired up at random | \n",
    "| (C) | bootstrap resampling test | normally distributed |\n",
    "\n",
    "\n",
    "#### Answer: \n",
    "1. (i) = A\n",
    "2. (ii) = B\n",
    "\n",
    "If we do a permutation test, then it involves pairing at random rather than drawing at random from the same population."
   ]
  },
  {
   "cell_type": "markdown",
   "metadata": {},
   "source": [
    "#### (c) What test statistic is being used to test the null hypothesis in (b)? Describe it in English, not code.\n",
    "\n",
    "Answer: The **absolute** difference of means between `guard` and `forward`"
   ]
  },
  {
   "cell_type": "markdown",
   "metadata": {},
   "source": [
    "#### (d) Circle the letter for the chart below that could plausibly be a histogram of the `differences` array.\n",
    "\n",
    "<img src = 'differences.jpg' width = 1200/>\n",
    "\n",
    "#### Answer: C\n",
    "\n",
    "**(A)** We are calculating **absolute** difference and thus, the values can only be greater than or equal to 0\n",
    "\n",
    "**(B)** This histogram is centered at some positive value (around 7.5). Since we randomly pair heights and positions, the absolute difference of means should be somewhat around 0. \n",
    "\n",
    "2. Difference in means by random under the null hypothesis should be somewhat near 0.\n",
    "3. The histogram should look like a ladder with a tail at the right side"
   ]
  },
  {
   "cell_type": "markdown",
   "metadata": {},
   "source": [
    "#### (e) Write a Python expression to compute a P-value for this test, using the null hypothesis you defined in part (b) and the test statistic you described in part (c)"
   ]
  },
  {
   "cell_type": "markdown",
   "metadata": {},
   "source": [
    "Recall `P-value` is the probability of seeing a value that is more extreme than the observed value, assuming null hypothesis is true. "
   ]
  },
  {
   "cell_type": "code",
   "execution_count": 11,
   "metadata": {},
   "outputs": [
    {
     "data": {
      "text/plain": [
       "0.8984"
      ]
     },
     "execution_count": 11,
     "metadata": {},
     "output_type": "execute_result"
    }
   ],
   "source": [
    "np.count_nonzero(differences >= abs(diff_of_means(cal))) / 10000"
   ]
  },
  {
   "cell_type": "markdown",
   "metadata": {},
   "source": [
    "#### (f) Using:\n",
    "1. P-value cutoff of 5% to determine significance\n",
    "2. The null hypothesis from part **(b)**\n",
    "3. The test statistic from **(c)**, and\n",
    "4. The null distribution from **(d)**\n",
    "\n",
    "What should you conclude if the observed value of the test statistic is `6`?"
   ]
  },
  {
   "cell_type": "markdown",
   "metadata": {},
   "source": [
    "# ============ Answer =============\n",
    "Looking at the graph **(C)** \n",
    "\n",
    "<img src = 'P-value.jpg' width = 500/>\n",
    "\n",
    "If the proportion of values above `6` were 5% or greater, then the bins that are greater than `6` should look like the following,"
   ]
  },
  {
   "cell_type": "markdown",
   "metadata": {},
   "source": [
    "<img src = '5.jpg' width = 500/>"
   ]
  },
  {
   "cell_type": "markdown",
   "metadata": {},
   "source": [
    "However, from the actual bin, we can see that the proportion of values that are greater than `6` are much less than 5%.\n",
    "\n",
    "This means: \n",
    "1. We reject the null since less than 5% of the values are greater than `6`\n",
    "2. There is an association between height and position among guards and forwards"
   ]
  },
  {
   "cell_type": "markdown",
   "metadata": {},
   "source": [
    "# (3) Sampling\n",
    "The histogram shows sample means from 2,500 random samples. Each sample contains 10,000 trip distances, measured in miles, drawn at random from the distances of 1.4 million trips from New York taxis in January 2016.\n",
    "\n",
    "<img src = 'sample.jpg' width = 800/>"
   ]
  },
  {
   "cell_type": "markdown",
   "metadata": {},
   "source": [
    "#### (a) What quantity is measured by the horizontal axis of this histogram?\n",
    "1. Total miles for a single randomly chosen trip\n",
    "2. Total miles for a single randomly chosen sample\n",
    "3. Average miles for 10,000 randomly chosen trips **ANSWER**\n",
    "4. Average miles for 2,500 randomly chosen samples\n",
    "5. None of the above\n",
    "\n",
    "Recall from homework problems and labs. Just by looking at the histogram, we shouldn't be able to tell the number of samples involved. "
   ]
  },
  {
   "cell_type": "markdown",
   "metadata": {},
   "source": [
    "#### (b) What quantity is measured by the vertical axis of this histogram?\n",
    "1. Percent of trips per sample\n",
    "2. Percent of trips per mile\n",
    "3. Percent of trips per sample mean\n",
    "4. Percent of sample means per trip\n",
    "5. Percent of sample means per mile **ANSWER**"
   ]
  },
  {
   "cell_type": "markdown",
   "metadata": {},
   "source": [
    "## =========== (b) Answer =============\n",
    "From part **(a)**, we know that the product of `y` axis and the `x` axis must be a percentage or proportion. If the horizontal axis is in miles, then the vertical axis must be a unit of per miles.\n",
    "\n",
    "The vertical axis is percent of sample means per mile. This is because the proportion that we observe are the proportion of sample means that has a certain average mile distance (e.g. 2.75). The proportion relates to the proportion of sample means that has a given height. \n",
    "\n",
    "<img src = 'proportion.jpg' width = 500/>\n",
    "\n",
    "## ======= End of (b) ============"
   ]
  },
  {
   "cell_type": "markdown",
   "metadata": {},
   "source": [
    "**(c)** The percent of sample means represented by the tallest bar (with height about 1400) is closest to:\n",
    "\n",
    "**(A)** 1.4 percent     \n",
    "\n",
    "**(B)** 7 percent   \n",
    "\n",
    "**(C)** 14 percent --> **ANSWER**\n",
    "\n",
    "**(D)** 28 percent    \n",
    "\n",
    "**(E)** 70 percent\n",
    "\n"
   ]
  },
  {
   "cell_type": "markdown",
   "metadata": {},
   "source": [
    "## =========== (c) Answer  =============\n",
    "Recall the percentage can be calculated by multiplying width of bar with height. The width of a bar is 0.01.\n",
    "\n",
    "## ===================================="
   ]
  },
  {
   "cell_type": "markdown",
   "metadata": {},
   "source": [
    "**(d)** How would the height of the tallest bar change if we drew 10,000 random samples instead of 2,500?\n",
    "1. Grow by about 2 times\n",
    "2. Grow by about 4 times\n",
    "3. Shrink by about 2 times\n",
    "4. Shrink by about 4 times\n",
    "5. Not much change --> **ANSWER**"
   ]
  },
  {
   "cell_type": "markdown",
   "metadata": {},
   "source": [
    "## ============= (d) Answer =================\n",
    "Reasoning: 2,500 samples of 10,000 trips is already considered large enough that the distribution of the `mean` resembles a normal distribution. At this point, increasing the amount of random samples won't make any significant difference.\n",
    "\n",
    "## =========================================="
   ]
  },
  {
   "cell_type": "markdown",
   "metadata": {},
   "source": [
    "**(e)** How would the height of the tallest bar change if the bars all had width 0.02 instead of 0.01? The new histogram would be generated by `sample_means.hist(bins = np.arange(2.65, 2.9, 0.02))`.\n",
    "\n",
    "1. Grow by about 2 times\n",
    "2. Grow by about 4 times\n",
    "3. Shrink by about 2 times\n",
    "4. Shrink by about 4 times\n",
    "5. Not much change --> **ANSWER**"
   ]
  },
  {
   "cell_type": "markdown",
   "metadata": {},
   "source": [
    "## =============== (e) Answer =================\n",
    "After the changes:\n",
    "1. The total area of the new histogram has to be the same as the histogram before the change\n",
    "2. The total area of the same bins must be the same\n",
    "\n",
    "For example, we pair the first 2 bins (marked orange),\n",
    "\n",
    "<img src = 'first_2.jpg' width = 500/>\n",
    "\n",
    "We make it so that the area of the orange bars are equal to the area of the 2 blue bars altogether.\n",
    "\n",
    "<img src = 'orange.jpg' wdith = 500/>\n",
    "\n",
    "As we estimated above, there appears to be no significant height change for the tallest bars pair.\n",
    "\n",
    "# ========== End of (e) Answer ============"
   ]
  },
  {
   "cell_type": "markdown",
   "metadata": {},
   "source": [
    "#### (f) The standard deviation of taxi trip distances in the population of 1.4 million trips is closest to:\n",
    "1. 0.01 miles\n",
    "2. 0.03 miles\n",
    "3. 0.1 miles\n",
    "4. 0.3 miles\n",
    "5. 3 miles --> **ANSWER**"
   ]
  },
  {
   "cell_type": "markdown",
   "metadata": {},
   "source": [
    "## ============= (f) Answer ================\n",
    "\n",
    "Recall the formula,\n",
    "\n",
    "$$\\text{SD of sample means} = \\frac{\\text{Population SD}}{\\sqrt{n}}$$\n",
    "\n",
    "Note that `n` is the sample size, which is `10,000` trips.\n",
    "\n",
    "We want to solve for the population SD. However, we don't know the SD of the sample means.\n",
    "\n",
    "Recall a property for a normal distribution, 1 SD away from the mean is located roughly around the point of inflection where if we imagine drawing a curve for the histogram, it would be the point where the curve stops decreasing / increasing.\n",
    "\n",
    "<img src = 'SD.jpg' width = 500/>\n",
    "\n",
    "From the histogram below, the point of inflection on the right side is roughly `2.75 + 0.03`. Thus, the SD of sample means is roughly `0.03`.\n",
    "\n",
    "Solving for population SD,"
   ]
  },
  {
   "cell_type": "code",
   "execution_count": 1,
   "metadata": {},
   "outputs": [
    {
     "data": {
      "text/plain": [
       "3.0"
      ]
     },
     "execution_count": 1,
     "metadata": {},
     "output_type": "execute_result"
    }
   ],
   "source": [
    "0.03 * (10000)**0.5"
   ]
  },
  {
   "cell_type": "markdown",
   "metadata": {},
   "source": [
    "The population SD is `3` miles!\n",
    "\n",
    "## ========================== End of (f) Answer ==========================="
   ]
  },
  {
   "cell_type": "markdown",
   "metadata": {},
   "source": [
    "**(g)** In order to construct a 95% confidence interval for the mean trip distance in the population, such that the width of the interval is 0.4 miles or less, the minimum sample size required is closest to:\n",
    "\n",
    "1. 9\n",
    "2. 90\n",
    "3. 900 --> **ANSWER**\n",
    "4. 9,000\n",
    "5. 90,000"
   ]
  },
  {
   "cell_type": "markdown",
   "metadata": {},
   "source": [
    "## ============= (g) Answer =============\n",
    "Recall that **95% confidence interval means 95% of values are within 2 SD of the mean**. This means the width of a 95% confidence interval consists of 4 SD. Then 1 SD of the interval is:\n",
    "\n",
    "$$ \\frac{0.4 \\text{ miles}}{4} = 0.1 \\text{ miles}$$\n",
    "\n",
    "Now using the following formula,\n",
    "\n",
    "$$\\text{SD of sample means} = \\frac{\\text{Population SD}}{\\sqrt{n}}$$\n",
    "\n",
    "and solving for `n`, we have,\n",
    "\n",
    "$$ n = (\\frac{\\text{Population SD}}{\\text{SD of sample means}})^2 $$\n",
    "\n",
    "Recall from problem **(f)** we solved the population SD to be 3 miles.\n",
    "\n",
    "$$ n = (\\frac{\\text{3 miles}}{\\text{0.1 miles}})^2 $$"
   ]
  },
  {
   "cell_type": "code",
   "execution_count": 5,
   "metadata": {},
   "outputs": [
    {
     "data": {
      "text/plain": [
       "900.0"
      ]
     },
     "execution_count": 5,
     "metadata": {},
     "output_type": "execute_result"
    }
   ],
   "source": [
    "(3 / 0.1)** 2"
   ]
  },
  {
   "cell_type": "markdown",
   "metadata": {},
   "source": [
    "## ========= End of (g) ============"
   ]
  },
  {
   "cell_type": "markdown",
   "metadata": {},
   "source": [
    "# 4. Linear Regression\n",
    "This scatter plot of a sample of 1,000 trips for New York taxis in January 2016 compares distance and cost. The regression line is shown. Two trips of the same length can vary in cost because of waiting times, special fees, taxes, tolls, tips, discounts, etc.\n",
    "\n",
    "<img src = 'linear_regression.jpg' width = 500/>"
   ]
  },
  {
   "cell_type": "code",
   "execution_count": null,
   "metadata": {},
   "outputs": [],
   "source": [
    "np.average(t.column('Distance')) = 3"
   ]
  },
  {
   "cell_type": "code",
   "execution_count": null,
   "metadata": {},
   "outputs": [],
   "source": [
    "np.std(t.column('Distance')) = 2"
   ]
  },
  {
   "cell_type": "code",
   "execution_count": null,
   "metadata": {},
   "outputs": [],
   "source": [
    "np.average(t.column('Cost')) = 13"
   ]
  },
  {
   "cell_type": "code",
   "execution_count": null,
   "metadata": {},
   "outputs": [],
   "source": [
    "np.std(t.column('Cost')) = 6"
   ]
  },
  {
   "cell_type": "code",
   "execution_count": null,
   "metadata": {},
   "outputs": [],
   "source": [
    "correlation(t, 'Distance', 'Cost') = 0.9"
   ]
  },
  {
   "cell_type": "markdown",
   "metadata": {},
   "source": [
    "**(a)** Convert a trip total cost of 9 dollars to standard unit"
   ]
  },
  {
   "cell_type": "markdown",
   "metadata": {},
   "source": [
    "## ========== (a) Answer ============\n",
    "Recall that to convert a value to a standard unit `z`, the formula is as the following,\n",
    "\n",
    "$$ z = \\frac{x - \\text{mean(x)}}{\\text{SD(x)}} $$"
   ]
  },
  {
   "cell_type": "code",
   "execution_count": 6,
   "metadata": {},
   "outputs": [
    {
     "data": {
      "text/plain": [
       "-0.6666666666666666"
      ]
     },
     "execution_count": 6,
     "metadata": {},
     "output_type": "execute_result"
    }
   ],
   "source": [
    "(9 - 13) / 6"
   ]
  },
  {
   "cell_type": "markdown",
   "metadata": {},
   "source": [
    "## ======= End of (a) ============"
   ]
  },
  {
   "cell_type": "markdown",
   "metadata": {},
   "source": [
    "**(b)** What is the slope of the regression line for this sample in dollars per mile?"
   ]
  },
  {
   "cell_type": "markdown",
   "metadata": {},
   "source": [
    "## ========= (b) Answer =========\n",
    "Recall the slope formula,\n",
    "\n",
    "$$ slope = r \\times \\frac{\\text{SD of y}}{\\text{SD of x}} $$"
   ]
  },
  {
   "cell_type": "code",
   "execution_count": 7,
   "metadata": {},
   "outputs": [
    {
     "data": {
      "text/plain": [
       "2.7"
      ]
     },
     "execution_count": 7,
     "metadata": {},
     "output_type": "execute_result"
    }
   ],
   "source": [
    "0.9 * 6 / 2"
   ]
  },
  {
   "cell_type": "markdown",
   "metadata": {},
   "source": [
    "## ============ End of (b) ================"
   ]
  },
  {
   "cell_type": "markdown",
   "metadata": {},
   "source": [
    "#### (c) What is the intercept of the regression line for this sample in dollars?"
   ]
  },
  {
   "cell_type": "markdown",
   "metadata": {},
   "source": [
    "## ====== (c) Answer ==========\n",
    "Recall the intercept formula,\n",
    "\n",
    "$$ intercept = mean(y) - slope \\times mean(x) $$"
   ]
  },
  {
   "cell_type": "code",
   "execution_count": 9,
   "metadata": {},
   "outputs": [
    {
     "data": {
      "text/plain": [
       "4.899999999999999"
      ]
     },
     "execution_count": 9,
     "metadata": {},
     "output_type": "execute_result"
    }
   ],
   "source": [
    "13 - (2.7) * 3"
   ]
  },
  {
   "cell_type": "markdown",
   "metadata": {},
   "source": [
    "## ======== End of (c) ==========="
   ]
  },
  {
   "cell_type": "markdown",
   "metadata": {},
   "source": [
    "**(d)** If instead we fit a regression line to estimate distance in miles from total cost in dollars, what would be the slope of that line in miles per dollar? Write **not enough info** if it's impossible to say."
   ]
  },
  {
   "cell_type": "markdown",
   "metadata": {},
   "source": [
    "## =========== (d) Answer ==============\n",
    "\n",
    "Similar to part **(b)**, but this time we flip the `y` and `x` axis since we want to solve for the distance in miles."
   ]
  },
  {
   "cell_type": "code",
   "execution_count": 10,
   "metadata": {},
   "outputs": [
    {
     "data": {
      "text/plain": [
       "0.3"
      ]
     },
     "execution_count": 10,
     "metadata": {},
     "output_type": "execute_result"
    }
   ],
   "source": [
    "0.9 * 2 / 6"
   ]
  },
  {
   "cell_type": "markdown",
   "metadata": {},
   "source": [
    "## =========== (c) Answer ==========="
   ]
  },
  {
   "cell_type": "markdown",
   "metadata": {},
   "source": [
    "#### Choose either `True`, `False`, or **Not enough info** to describe the following statement:\n",
    "\n",
    "**(e)** The total cost values in this sample are normally distributed --> **FALSE**\n",
    "\n",
    "For a normal distribution, most of the values have to be around the center and decreasing as it gets further from the center (think of normal distribution histogram). \n",
    "\n",
    "If we observe only the `y` values of the scatter plot, the majority of the points are found at low range of cost. The data points become more scarce as we move to greater cost. Rather than a normal distribution, the total cost distribution would resemble more of the following histogram:\n",
    "\n",
    "<img src = 'P-value.jpg' width = 500/>\n",
    "\n",
    "**(f)** All of the total cost values in this sample are within 3 standard deviations of the mean --> **FALSE**\n",
    "\n",
    "3 SD of the total cost is `18`. The most that the `mean` $\\pm$ 3SD would cover is 13 $\\pm$ 18. Meanwhile, there are data points that are around 35 to 40 dollars.\n",
    "\n",
    "**(g)** At least 88% of the total cost values in this sample are within 3 standard deviations of the mean --> **TRUE**\n",
    "\n",
    "Recall the Chebyshev's Inequality that regardless of the shape of the distribution, proportion of values in the range `average` $\\pm$ `SD` is at least ($ 1 - \\frac{1}{SD^2}$)%\n",
    "\n",
    "Thus, 3 SD covers:"
   ]
  },
  {
   "cell_type": "code",
   "execution_count": 2,
   "metadata": {},
   "outputs": [
    {
     "data": {
      "text/plain": [
       "0.8888888888888888"
      ]
     },
     "execution_count": 2,
     "metadata": {},
     "output_type": "execute_result"
    }
   ],
   "source": [
    "1 - (1/3**2)"
   ]
  },
  {
   "cell_type": "markdown",
   "metadata": {},
   "source": [
    "**(h)** The residual costs have a similar average magnitude for short trips (1 mile) and long trips (5+ miles) --> **FALSE**\n",
    "\n",
    "Recall that `residuals` is `actual` - `predicted`. If we look at the scatter plot, we can see that:\n",
    "\n",
    "1. For short trips, the data points are relatively close to the prediction (the regression line)\n",
    "2. For long trips, the data points are relatively far from the line.\n",
    "\n",
    "Thus, this is definitely False"
   ]
  },
  {
   "cell_type": "markdown",
   "metadata": {},
   "source": [
    "**(i)** You compute a 95% confidence interval from this sample to estimate the height (fitted value) of the population regression line at 6 miles. Which one of the following could plausibly be the result?\n",
    "\n",
    "**(A)** 5 to 7\n",
    "\n",
    "**(B)** 7 to 19\n",
    "\n",
    "**(C)** 12 to 14\n",
    "\n",
    "**(D)** 15 to 35\n",
    "\n",
    "**(E)** 24 to 26 --> **ANSWER**"
   ]
  },
  {
   "cell_type": "markdown",
   "metadata": {},
   "source": [
    "## ============= (i) Answer ==============\n",
    "If we look at the scatter plot, at 6 miles the regression lines is at 25 dollar. From here, we can rule out that option A, B, and C are definitely incorrect.\n",
    "\n",
    "Between D and E, we can see that the data points at 6 miles appear to be ranging between 15 to 35. However, we are taking 95% confidence interval, which mean we are bootstrapping multiple times, and there might be trials where 15 and 35 are not covered since they are outlier. The values that are very likely to be covered in the confidence interval is the in-between, which is 24 to 26."
   ]
  },
  {
   "cell_type": "markdown",
   "metadata": {},
   "source": [
    "# 5. Classification\n",
    "You want to predict whether a final survey response comes from a first-year student (class 1) or not (class 0) based on responses to 2 questions. The average responses from a random sample of 200 surveys are below.\n",
    "\n",
    "#### Survey Questions:\n",
    "1. What fraction of **lectures** did you attend?\n",
    "2. What fraction of the **text** did you read?\n",
    "\n",
    "| Class | Count | Lecture Average | Text Average|\n",
    "| --- | --- | --- | --- |\n",
    "| 1: First Year | 80 | 75% | 64% |\n",
    "| 0: Other | 120 | 67% | 68% |"
   ]
  },
  {
   "cell_type": "markdown",
   "metadata": {},
   "source": [
    "**(a)** A `constant` classifier is one that always guesses the same class label, regardless of the example attributes. What's the accuracy on this sample of the best constant classifier for predicting the class?\n",
    "\n",
    "**(A)** 50%\n",
    "\n",
    "**(B)** 60% --> **ANSWER**\n",
    "\n",
    "**(C)** 70%\n",
    "\n",
    "**(D)** 80%\n",
    "\n",
    "**(E)** 90%\n",
    "\n",
    "There are a total of 200 students.\n",
    "\n",
    "1. If the classifier only classifies `First Year`, this means the classifier would be correct 80/200 of the time."
   ]
  },
  {
   "cell_type": "code",
   "execution_count": 3,
   "metadata": {},
   "outputs": [
    {
     "data": {
      "text/plain": [
       "0.4"
      ]
     },
     "execution_count": 3,
     "metadata": {},
     "output_type": "execute_result"
    }
   ],
   "source": [
    "80 / 200"
   ]
  },
  {
   "cell_type": "markdown",
   "metadata": {},
   "source": [
    "2. If the classifier only classifies `Other`, this means the classifier would be correct 120/200 of the time."
   ]
  },
  {
   "cell_type": "code",
   "execution_count": 4,
   "metadata": {},
   "outputs": [
    {
     "data": {
      "text/plain": [
       "0.6"
      ]
     },
     "execution_count": 4,
     "metadata": {},
     "output_type": "execute_result"
    }
   ],
   "source": [
    "120 / 200"
   ]
  },
  {
   "cell_type": "markdown",
   "metadata": {},
   "source": [
    "The `Other` classifiers is the best since it gives us higher correct answer rate (60%) compared to that of the `First Year` classifier. Thus, the accuracy is 60%."
   ]
  },
  {
   "cell_type": "markdown",
   "metadata": {},
   "source": [
    "**(b)** Among the following, what is the best reason to expect that a nearest-neighbor classifier that uses this sample as a training set will have higher accuracy on a held-out test set than any constant classifier?\n",
    "\n",
    "1. The test set may have a different distribution of classes than this sample\n",
    "2. A nearest-neighbor classifier is designed to generalize to unseen example\n",
    "3. A nearest-neighbor classifier can predict different classes for different examples\n",
    "4. The attributes (lecture and text) are associated with each other.\n",
    "5. The attributes (lecture and text) are both associated with the class --> **ANSWER**"
   ]
  },
  {
   "cell_type": "markdown",
   "metadata": {},
   "source": [
    "## ======= (b) Answer ========\n",
    "In other words, this problem asks why it makes sense to use `lectures` and `text` for the classifier as opposed to using a constant classifier that only guesses `First Year` or `Other`. The only answer that makes sense is that the fraction of the lecture attended and the textbook read has something to do with whether a student is a `First Year` or not. Thus, the answer is `5`.\n",
    "\n",
    "## ========= End of (b) ========="
   ]
  },
  {
   "cell_type": "markdown",
   "metadata": {},
   "source": [
    "**(c)** 2 roommates always attended exactly the same lectures. One read $\\frac{1}{2}$ the textbook, and the other read $\\frac{9}{10}$. What is the distance between these 2 roommates used by a nearest-neighbor classifier that includes as attributes both the fraction of lectures attended and the fraction of text read?"
   ]
  },
  {
   "cell_type": "markdown",
   "metadata": {},
   "source": [
    "## ======== (c) Answer =========\n",
    "Recall the Euclidean distance formula for 2 points in a 2-D system:\n",
    "\n",
    "$$ \\text{Euclidean Distance} = \\sqrt{(x_1 - x_2)^2 + (y_1 - y_2)^2} $$\n",
    "\n",
    "Now take the first roommate with a subscript `1` and the second roommate with the subscript `2`.\n",
    "1. $x_1$ = $x_2$\n",
    "2. $y_1$ = 0.5\n",
    "3. $y_2$ = 0.9\n",
    "\n",
    "Solving for the Euclidean distance, we obtain 0.4."
   ]
  },
  {
   "cell_type": "code",
   "execution_count": null,
   "metadata": {},
   "outputs": [],
   "source": []
  },
  {
   "cell_type": "markdown",
   "metadata": {},
   "source": [
    "**(d)** For the small training set of 9 examples shown below, how will a `k`-nearest neighbor classifier label each of the 2 test examples `(i)` and `(ii)`? \n",
    "\n",
    "<img src = 'fraction.jpg' width = 500/>\n",
    "\n",
    "For each example and each value of `k`, write either `0` or `1`\n",
    "\n",
    "If it is impossible to determine the predicted label because of tied distances, write `impossible`.\n",
    "\n",
    "| k-nearest | Prediction for (i) | Prediction for (ii) |\n",
    "| --- | --- | --- |\n",
    "| 1-nearest | 1 | 0 |\n",
    "| 3-nearest | 0 | 1 |\n",
    "| 5 nearest | 0| 0 |"
   ]
  },
  {
   "cell_type": "markdown",
   "metadata": {},
   "source": [
    "**(e)** Your nearest-neighbor classifier is correct $\\frac{4}{5}$ of the time on the test, but it's so slow that you can only use it for $\\frac{3}{4}$ of test examples. The rest of the time you use a constant classifier that always guesses **\"1: First-year\"**, which is correct only $\\frac{2}{5}$ of the time on the test set. For a randomly chosen test example,\n",
    "\n",
    "1. What is the chance that it will be classified correctly?\n",
    "2. What is the chance that you used your nearest-neighbor classifier, given that it was classified correctly?"
   ]
  },
  {
   "cell_type": "markdown",
   "metadata": {},
   "source": [
    "## ======= (e) Answer ========\n",
    "\n",
    "### Question 1\n",
    "\n",
    "$$ \\frac{4}{5} \\times \\frac{3}{4}  + \\frac{1}{4} \\times \\frac{2}{5}$$\n",
    "\n",
    "$$ = \\frac{14}{20}$$\n",
    "\n",
    "$$ = 70\\text{%} $$"
   ]
  },
  {
   "cell_type": "markdown",
   "metadata": {},
   "source": [
    "### Question 2\n",
    "\n",
    "1. P(KNN and correct) = The probability of using K-nearest neighbor and the classification is correct\n",
    "2. P(Correct) The probability that the classification is correct, regardless of method\n",
    "\n",
    "Thus, the chance that we used the nearest neighbor classifier given it was correct is:\n",
    "\n",
    "$$ = \\frac{P(\\text{KNN and correct)}}{P(Correct)} $$\n",
    "\n",
    "$$ = \\frac{\\frac{4}{5} \\times \\frac{3}{4}}{\\frac{14}{20}}$$"
   ]
  },
  {
   "cell_type": "code",
   "execution_count": 5,
   "metadata": {},
   "outputs": [
    {
     "data": {
      "text/plain": [
       "0.8571428571428571"
      ]
     },
     "execution_count": 5,
     "metadata": {},
     "output_type": "execute_result"
    }
   ],
   "source": [
    "12 / 14"
   ]
  },
  {
   "cell_type": "code",
   "execution_count": null,
   "metadata": {},
   "outputs": [],
   "source": []
  }
 ],
 "metadata": {
  "kernelspec": {
   "display_name": "Python 3",
   "language": "python",
   "name": "python3"
  },
  "language_info": {
   "codemirror_mode": {
    "name": "ipython",
    "version": 3
   },
   "file_extension": ".py",
   "mimetype": "text/x-python",
   "name": "python",
   "nbconvert_exporter": "python",
   "pygments_lexer": "ipython3",
   "version": "3.7.3"
  }
 },
 "nbformat": 4,
 "nbformat_minor": 2
}
