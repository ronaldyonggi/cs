{
 "cells": [
  {
   "cell_type": "code",
   "execution_count": 2,
   "metadata": {},
   "outputs": [],
   "source": [
    "from datascience import *\n",
    "import numpy as np\n",
    "%matplotlib inline\n",
    "import matplotlib.pyplot as plt\n",
    "plt.style.use('fivethirtyeight')\n",
    "\n",
    "from ipywidgets import interact, interactive, fixed, interact_manual\n",
    "import ipywidgets as widgets"
   ]
  },
  {
   "cell_type": "markdown",
   "metadata": {},
   "source": [
    "# Hypothesis Testing (Recap)\n",
    "In the previous lecture we discussed about `Hypothesis Testing`, which is just a fancy term for all the processes that we have done in past lectures. In the jury examples, we did `Hypothesis Test` even though we did not go through the formal steps. We will start with discussing about the formal steps for conducting a hypothesis test. "
   ]
  },
  {
   "cell_type": "markdown",
   "metadata": {},
   "source": [
    "## Testing a Hypothesis\n",
    "\n",
    "#### Step 1: The Hypotheses\n",
    "We have 2 views of how data were generated:\n",
    "1. `Null hypothesis`: the data were obtained by random, by chance\n",
    "2. `Alternative hypothesis`: something else happened, some effect other than chance\n",
    "\n",
    "#### Step 2: The Test Statistic\n",
    "Once we defined the 2 hypotheses, we select `test statistic`, a measure of how different our sample is from the population.\n",
    "\n",
    "#### Step 3: The Sampling Distribution of the Test Statistic\n",
    "1. What the test statistic might be if the null hypothesis were true\n",
    "    * We simulate draws from the population to see the values of `test statistic`s that are likely to occur by chance. \n",
    "    * In Jury cases, we drew panel at random and ask \"what's the TVD value that is likely to occur\"?. Turns out the TVD between actual panel and the population did not look like a panel that is taken from random from population. Thus, we said that \"this panel looks suspicious\".\n",
    "\n",
    "2. Approximate the sampling distribution (theorical distribution) by an empirical distribution\n",
    "    * We can't calculate precisely the distribution of values of the test statistic\n",
    "    * But we can approximate by drawing at random from the population"
   ]
  },
  {
   "cell_type": "markdown",
   "metadata": {},
   "source": [
    "## Pick a number between 1 - 100\n",
    "The number you pick would be the weirdness level. The greater the number, the weirder you are.\n",
    "\n",
    "The instructor's number is 85. \n",
    "\n",
    "#### Is the instructor's weirdness level (85) likely to come from the classroom? \n",
    "1. The `population` is all the students in the classroom\n",
    "2. Could the instructor be one of the students in the classroom?\n",
    "\n",
    "## Testing Hypothesis\n",
    "#### Step 1: The Hypotheses\n",
    "* Null hypothesis: The instructor weirdness is randomly chosen from the population of the class\n",
    "* Alternative hypothesis: It's not.\n",
    "\n",
    "#### Step 2: The Test Statistic\n",
    "\n",
    "`Test statistic`: Weirdness(higher number means more weird)\n",
    "\n",
    "#### Step 3: The Sampling Distribution of the Test Statistic\n",
    "* Look at the classroom\n",
    "* Ask the students one by one each of their weirdness level\n",
    "\n",
    "Let's say there are 50 students in the classroom. 3 of them picked 85 or above.\n",
    "\n",
    "The chance we pick a student and obtain 85 is 3/50, or 6%, which is relatively low. From here, we can deduce whether the number 85 is likely to be obtained from the classroom. "
   ]
  },
  {
   "cell_type": "markdown",
   "metadata": {},
   "source": [
    "# Example: The 2 Hypotheses\n",
    "**Gregor Mendel (1822-1884)** was an Austrian monk and founder of the modern field of genetics. Among many experiments, he tested the hypothesis that **pea plants will bear purple or white flowers at random, in the ratio purple to white 3 : 1**.\n",
    "\n",
    "#### Was his model correct?\n",
    "\n",
    "`Null hypothesis`: Mendel's model describes the world. In other words, the model is correct.\n",
    "* If we grow pea plants at random, we'll get a ratio of 3:1 purple to white. \n",
    "* The distribution of the observed plant is different from the distribution in the model due to chance variation\n",
    "\n",
    "`Alternative Hypothesis`: Mendel's model doesn't describe the world. Something else is on effect.\n",
    "\n",
    "Mendel grew a bunch of pea plants and observed that about 75% of the plants were purple. Let's say he actually found 77% purple, then we can ask, \"is that close enough to 75% that we can state that the ration is 3:1?\" This is the question that we are trying to solve with the hypothesis test."
   ]
  },
  {
   "cell_type": "markdown",
   "metadata": {},
   "source": [
    "## Demo\n",
    "The `null hypothesis` is that we drew plants in 3:1 ratio purple to white. "
   ]
  },
  {
   "cell_type": "code",
   "execution_count": 3,
   "metadata": {},
   "outputs": [
    {
     "data": {
      "text/plain": [
       "array(['Purple', 'Purple', 'Purple', 'White'], dtype='<U6')"
      ]
     },
     "execution_count": 3,
     "metadata": {},
     "output_type": "execute_result"
    }
   ],
   "source": [
    "null = make_array('Purple', 'Purple', 'Purple', 'White')\n",
    "null"
   ]
  },
  {
   "cell_type": "markdown",
   "metadata": {},
   "source": [
    "Now let's try taking a sample of 10 from above."
   ]
  },
  {
   "cell_type": "code",
   "execution_count": 6,
   "metadata": {},
   "outputs": [
    {
     "data": {
      "text/plain": [
       "array(['Purple', 'Purple', 'White', 'White', 'Purple', 'Purple', 'Purple',\n",
       "       'Purple', 'Purple', 'Purple'], dtype='<U6')"
      ]
     },
     "execution_count": 6,
     "metadata": {},
     "output_type": "execute_result"
    }
   ],
   "source": [
    "sample = np.random.choice(null, 10)\n",
    "sample"
   ]
  },
  {
   "cell_type": "markdown",
   "metadata": {},
   "source": [
    "We would expect the sample above to have 7-8 purple. Let's convert the array above to `True and False` and count how many `True`s there are."
   ]
  },
  {
   "cell_type": "code",
   "execution_count": 7,
   "metadata": {},
   "outputs": [
    {
     "data": {
      "text/plain": [
       "8"
      ]
     },
     "execution_count": 7,
     "metadata": {},
     "output_type": "execute_result"
    }
   ],
   "source": [
    "np.count_nonzero(sample == 'Purple')"
   ]
  },
  {
   "cell_type": "markdown",
   "metadata": {},
   "source": [
    "Now divide the number above with the total number of sample we took. This way we obtain a proportion."
   ]
  },
  {
   "cell_type": "code",
   "execution_count": 8,
   "metadata": {},
   "outputs": [
    {
     "data": {
      "text/plain": [
       "0.8"
      ]
     },
     "execution_count": 8,
     "metadata": {},
     "output_type": "execute_result"
    }
   ],
   "source": [
    "np.count_nonzero(sample == 'Purple') / 10"
   ]
  },
  {
   "cell_type": "markdown",
   "metadata": {},
   "source": [
    "Mendel proposed that the number above should be 0.75. What if we did not obtain 0.75? We need to **measure how different the value that we obtain from 0.75** (This is our `test statistic`). "
   ]
  },
  {
   "cell_type": "code",
   "execution_count": 9,
   "metadata": {},
   "outputs": [
    {
     "data": {
      "text/plain": [
       "0.050000000000000044"
      ]
     },
     "execution_count": 9,
     "metadata": {},
     "output_type": "execute_result"
    }
   ],
   "source": [
    "np.count_nonzero(sample == 'Purple') / 10 - 0.75"
   ]
  },
  {
   "cell_type": "markdown",
   "metadata": {},
   "source": [
    "Above is our `test statistic`. If we try another sample,"
   ]
  },
  {
   "cell_type": "code",
   "execution_count": 20,
   "metadata": {},
   "outputs": [
    {
     "name": "stdout",
     "output_type": "stream",
     "text": [
      "['Purple' 'Purple' 'Purple' 'Purple' 'White' 'White' 'White' 'Purple'\n",
      " 'Purple' 'Purple']\n",
      "We have 7 Purple this time.\n",
      "The difference is -0.050000000000000044\n"
     ]
    }
   ],
   "source": [
    "sample = np.random.choice(null, 10)\n",
    "print(sample)\n",
    "print('We have', np.count_nonzero(sample == 'Purple'), 'Purple this time.')\n",
    "difference = np.count_nonzero(sample == 'Purple') / 10 - 0.75\n",
    "print('The difference is', difference)"
   ]
  },
  {
   "cell_type": "markdown",
   "metadata": {},
   "source": [
    "We are trying to measure the difference. We are trying to see if the model, 0.75, is correct or not. If the model was correct, we expect most of the result should appear around 0.75.\n",
    "\n",
    "If the model was not correct, we can expect result that are significantly higher or lower than 0.75. (e.g. all purple, no purple at all)\n",
    "\n",
    "When we compute the difference (`test statistic`, we can obtain a positive or negative `test statistic`. However, if we take the absolute value of the difference, we can only obtain a positive `test statistic` value. "
   ]
  },
  {
   "cell_type": "code",
   "execution_count": 21,
   "metadata": {},
   "outputs": [
    {
     "data": {
      "text/plain": [
       "0.050000000000000044"
      ]
     },
     "execution_count": 21,
     "metadata": {},
     "output_type": "execute_result"
    }
   ],
   "source": [
    "difference = abs(np.count_nonzero(sample == 'Purple') / 10 - 0.75)\n",
    "difference"
   ]
  },
  {
   "cell_type": "markdown",
   "metadata": {},
   "source": [
    "1. If we took a sample and obtained no purple at all, that means we obtained a `test statistic` value of 0.75, since we are 0.75 away from the `theoretical test statistic`.\n",
    "2. If we took a sample and obtained all purple, that means we obtained a `test statistic` value of 0.25, since we are 0.25 away from the `theoretical test statistic`.\n",
    "\n",
    "The greater the `test statistic` value that we obtained, the more different result that we obtained from what Mendel proposed.\n",
    "\n",
    "Below is a function that computes the `test statistic`."
   ]
  },
  {
   "cell_type": "code",
   "execution_count": 22,
   "metadata": {},
   "outputs": [],
   "source": [
    "def test_stat(sample):\n",
    "    # Recall we took absolute value of the number of purple divided by 10 and subtract it by 0.75. However this time\n",
    "    # instead of dividing it by 10, we divide it by the length of the sample.\n",
    "    result = abs(np.count_nonzero(sample == 'Purple') \n",
    "                      / len(sample) \n",
    "                      - 0.75)\n",
    "    return result"
   ]
  },
  {
   "cell_type": "markdown",
   "metadata": {},
   "source": [
    "If we call the function above with an array of just purple, the return value would be 0.25. All purple means that the proportion of purple is 100%. And thus, when we calculate the `test statistic`, `abs(100% - 75%) = 25%`."
   ]
  },
  {
   "cell_type": "code",
   "execution_count": 23,
   "metadata": {},
   "outputs": [
    {
     "data": {
      "text/plain": [
       "0.25"
      ]
     },
     "execution_count": 23,
     "metadata": {},
     "output_type": "execute_result"
    }
   ],
   "source": [
    "test_stat(make_array('Purple'))"
   ]
  },
  {
   "cell_type": "markdown",
   "metadata": {},
   "source": [
    "For the opposite, with an array of just white, the return value would be 0.75. All white means that the proportion of white is 0%. Thus, when we calculate the `test statistic`, `abs(0% - 75%) = 75%`.\n",
    "\n",
    "1. We have stated our null and alternative hypothesis\n",
    "2. We have chosen the `test statistic` - the measure of difference\n",
    "3. All that is left is to take draws from the population and see what we will obtain.\n",
    "\n",
    "Mendel's actual result (observation) was 705 purple plants out of 929 total. "
   ]
  },
  {
   "cell_type": "code",
   "execution_count": 25,
   "metadata": {},
   "outputs": [
    {
     "data": {
      "text/plain": [
       "0.7588805166846071"
      ]
     },
     "execution_count": 25,
     "metadata": {},
     "output_type": "execute_result"
    }
   ],
   "source": [
    "observed = 705 / 929\n",
    "observed"
   ]
  },
  {
   "cell_type": "markdown",
   "metadata": {},
   "source": [
    "This means Mendel's `test statistic` is,"
   ]
  },
  {
   "cell_type": "code",
   "execution_count": 26,
   "metadata": {},
   "outputs": [
    {
     "data": {
      "text/plain": [
       "0.008880516684607098"
      ]
     },
     "execution_count": 26,
     "metadata": {},
     "output_type": "execute_result"
    }
   ],
   "source": [
    "observed_statistic = abs(observed - 0.75)\n",
    "observed_statistic"
   ]
  },
  {
   "cell_type": "markdown",
   "metadata": {},
   "source": [
    "The `observed_statistic` is relatively low. However, how do we define `low`? We can find out by taking random draws from the population and to take a look at the result. Note that he planted 929 plants, and thus 929 would be our sample size."
   ]
  },
  {
   "cell_type": "code",
   "execution_count": 27,
   "metadata": {},
   "outputs": [],
   "source": [
    "total_plants = 929"
   ]
  },
  {
   "cell_type": "markdown",
   "metadata": {},
   "source": [
    "We can simulate taking a sample of 929 plants,"
   ]
  },
  {
   "cell_type": "code",
   "execution_count": 28,
   "metadata": {},
   "outputs": [
    {
     "data": {
      "text/plain": [
       "array(['Purple', 'White', 'White', 'Purple', 'White', 'Purple', 'White',\n",
       "       'White', 'Purple', 'Purple', 'Purple', 'Purple', 'Purple',\n",
       "       'Purple', 'Purple', 'Purple', 'White', 'Purple', 'Purple',\n",
       "       'Purple', 'Purple', 'Purple', 'Purple', 'Purple', 'Purple',\n",
       "       'Purple', 'Purple', 'White', 'White', 'Purple', 'Purple', 'Purple',\n",
       "       'Purple', 'Purple', 'Purple', 'Purple', 'White', 'White', 'Purple',\n",
       "       'Purple', 'Purple', 'Purple', 'Purple', 'Purple', 'Purple',\n",
       "       'Purple', 'Purple', 'Purple', 'White', 'Purple', 'Purple',\n",
       "       'Purple', 'White', 'Purple', 'White', 'Purple', 'Purple', 'Purple',\n",
       "       'Purple', 'Purple', 'White', 'Purple', 'Purple', 'Purple',\n",
       "       'Purple', 'White', 'Purple', 'Purple', 'Purple', 'Purple',\n",
       "       'Purple', 'Purple', 'White', 'Purple', 'Purple', 'White', 'Purple',\n",
       "       'White', 'Purple', 'White', 'Purple', 'White', 'Purple', 'White',\n",
       "       'Purple', 'Purple', 'Purple', 'White', 'White', 'Purple', 'White',\n",
       "       'Purple', 'White', 'Purple', 'White', 'White', 'White', 'Purple',\n",
       "       'Purple', 'Purple', 'Purple', 'Purple', 'Purple', 'Purple',\n",
       "       'White', 'White', 'Purple', 'White', 'Purple', 'Purple', 'White',\n",
       "       'White', 'Purple', 'Purple', 'White', 'White', 'Purple', 'Purple',\n",
       "       'White', 'Purple', 'Purple', 'Purple', 'Purple', 'Purple',\n",
       "       'Purple', 'Purple', 'White', 'Purple', 'Purple', 'Purple',\n",
       "       'Purple', 'Purple', 'Purple', 'White', 'Purple', 'Purple',\n",
       "       'Purple', 'White', 'White', 'White', 'Purple', 'Purple', 'Purple',\n",
       "       'White', 'White', 'Purple', 'Purple', 'Purple', 'Purple', 'White',\n",
       "       'White', 'White', 'Purple', 'White', 'Purple', 'Purple', 'Purple',\n",
       "       'White', 'White', 'Purple', 'Purple', 'White', 'Purple', 'Purple',\n",
       "       'Purple', 'White', 'Purple', 'Purple', 'Purple', 'Purple',\n",
       "       'Purple', 'Purple', 'White', 'Purple', 'White', 'White', 'Purple',\n",
       "       'Purple', 'Purple', 'Purple', 'Purple', 'Purple', 'White',\n",
       "       'Purple', 'White', 'Purple', 'White', 'Purple', 'Purple', 'Purple',\n",
       "       'White', 'White', 'White', 'Purple', 'Purple', 'Purple', 'White',\n",
       "       'White', 'Purple', 'White', 'Purple', 'Purple', 'Purple', 'White',\n",
       "       'Purple', 'Purple', 'Purple', 'Purple', 'Purple', 'White',\n",
       "       'Purple', 'Purple', 'Purple', 'Purple', 'Purple', 'White', 'White',\n",
       "       'White', 'White', 'White', 'Purple', 'White', 'Purple', 'Purple',\n",
       "       'White', 'Purple', 'Purple', 'Purple', 'Purple', 'Purple',\n",
       "       'Purple', 'Purple', 'Purple', 'Purple', 'Purple', 'Purple',\n",
       "       'White', 'Purple', 'Purple', 'Purple', 'Purple', 'Purple',\n",
       "       'Purple', 'White', 'Purple', 'Purple', 'Purple', 'Purple', 'White',\n",
       "       'Purple', 'Purple', 'Purple', 'Purple', 'White', 'White', 'Purple',\n",
       "       'Purple', 'Purple', 'Purple', 'Purple', 'White', 'Purple',\n",
       "       'Purple', 'Purple', 'Purple', 'Purple', 'Purple', 'Purple',\n",
       "       'Purple', 'Purple', 'Purple', 'White', 'Purple', 'Purple',\n",
       "       'Purple', 'Purple', 'Purple', 'White', 'Purple', 'White', 'Purple',\n",
       "       'White', 'Purple', 'White', 'Purple', 'Purple', 'Purple', 'Purple',\n",
       "       'Purple', 'Purple', 'White', 'Purple', 'Purple', 'Purple',\n",
       "       'Purple', 'Purple', 'White', 'Purple', 'Purple', 'Purple', 'White',\n",
       "       'White', 'Purple', 'Purple', 'Purple', 'Purple', 'Purple', 'White',\n",
       "       'White', 'Purple', 'Purple', 'White', 'White', 'Purple', 'Purple',\n",
       "       'Purple', 'White', 'White', 'Purple', 'Purple', 'Purple', 'Purple',\n",
       "       'Purple', 'Purple', 'Purple', 'White', 'Purple', 'Purple',\n",
       "       'Purple', 'Purple', 'Purple', 'Purple', 'White', 'White', 'Purple',\n",
       "       'Purple', 'White', 'Purple', 'Purple', 'White', 'Purple', 'Purple',\n",
       "       'Purple', 'Purple', 'Purple', 'Purple', 'Purple', 'Purple',\n",
       "       'White', 'Purple', 'Purple', 'White', 'Purple', 'White', 'White',\n",
       "       'Purple', 'Purple', 'White', 'Purple', 'Purple', 'Purple',\n",
       "       'Purple', 'Purple', 'Purple', 'White', 'Purple', 'Purple',\n",
       "       'Purple', 'White', 'Purple', 'Purple', 'White', 'Purple', 'Purple',\n",
       "       'White', 'Purple', 'Purple', 'White', 'Purple', 'Purple', 'White',\n",
       "       'Purple', 'Purple', 'Purple', 'Purple', 'White', 'Purple',\n",
       "       'Purple', 'White', 'Purple', 'Purple', 'Purple', 'Purple',\n",
       "       'Purple', 'Purple', 'White', 'White', 'Purple', 'Purple', 'Purple',\n",
       "       'White', 'Purple', 'Purple', 'Purple', 'Purple', 'Purple',\n",
       "       'Purple', 'Purple', 'Purple', 'White', 'Purple', 'White', 'Purple',\n",
       "       'White', 'Purple', 'White', 'Purple', 'Purple', 'Purple', 'Purple',\n",
       "       'Purple', 'Purple', 'Purple', 'Purple', 'Purple', 'Purple',\n",
       "       'White', 'Purple', 'Purple', 'Purple', 'Purple', 'Purple',\n",
       "       'Purple', 'Purple', 'White', 'Purple', 'Purple', 'Purple',\n",
       "       'Purple', 'Purple', 'Purple', 'White', 'Purple', 'Purple', 'White',\n",
       "       'Purple', 'White', 'White', 'Purple', 'Purple', 'White', 'White',\n",
       "       'Purple', 'Purple', 'White', 'Purple', 'Purple', 'Purple',\n",
       "       'Purple', 'Purple', 'Purple', 'White', 'Purple', 'Purple',\n",
       "       'Purple', 'Purple', 'Purple', 'White', 'Purple', 'Purple', 'White',\n",
       "       'Purple', 'Purple', 'Purple', 'Purple', 'Purple', 'Purple',\n",
       "       'Purple', 'White', 'White', 'Purple', 'Purple', 'Purple', 'White',\n",
       "       'Purple', 'White', 'Purple', 'White', 'Purple', 'Purple', 'White',\n",
       "       'Purple', 'Purple', 'Purple', 'Purple', 'White', 'Purple',\n",
       "       'Purple', 'Purple', 'White', 'White', 'Purple', 'Purple', 'Purple',\n",
       "       'Purple', 'Purple', 'Purple', 'White', 'Purple', 'Purple', 'White',\n",
       "       'White', 'Purple', 'Purple', 'White', 'White', 'Purple', 'White',\n",
       "       'Purple', 'Purple', 'Purple', 'Purple', 'Purple', 'Purple',\n",
       "       'Purple', 'Purple', 'Purple', 'White', 'Purple', 'Purple',\n",
       "       'Purple', 'White', 'Purple', 'Purple', 'Purple', 'Purple',\n",
       "       'Purple', 'White', 'Purple', 'Purple', 'Purple', 'Purple',\n",
       "       'Purple', 'Purple', 'Purple', 'Purple', 'Purple', 'White',\n",
       "       'Purple', 'Purple', 'Purple', 'Purple', 'White', 'Purple',\n",
       "       'Purple', 'Purple', 'White', 'Purple', 'Purple', 'Purple',\n",
       "       'Purple', 'Purple', 'Purple', 'Purple', 'White', 'Purple',\n",
       "       'Purple', 'Purple', 'Purple', 'Purple', 'Purple', 'White',\n",
       "       'Purple', 'Purple', 'Purple', 'White', 'Purple', 'Purple', 'White',\n",
       "       'Purple', 'White', 'Purple', 'Purple', 'White', 'White', 'Purple',\n",
       "       'White', 'White', 'White', 'Purple', 'Purple', 'Purple', 'White',\n",
       "       'Purple', 'White', 'White', 'Purple', 'Purple', 'Purple', 'Purple',\n",
       "       'Purple', 'White', 'White', 'White', 'Purple', 'Purple', 'Purple',\n",
       "       'Purple', 'Purple', 'Purple', 'Purple', 'Purple', 'Purple',\n",
       "       'Purple', 'White', 'Purple', 'Purple', 'Purple', 'Purple',\n",
       "       'Purple', 'Purple', 'Purple', 'Purple', 'White', 'Purple', 'White',\n",
       "       'White', 'Purple', 'Purple', 'Purple', 'Purple', 'White', 'Purple',\n",
       "       'White', 'Purple', 'Purple', 'Purple', 'Purple', 'White', 'White',\n",
       "       'Purple', 'White', 'Purple', 'White', 'Purple', 'Purple', 'White',\n",
       "       'Purple', 'White', 'Purple', 'Purple', 'Purple', 'Purple',\n",
       "       'Purple', 'Purple', 'Purple', 'White', 'Purple', 'White', 'Purple',\n",
       "       'Purple', 'Purple', 'Purple', 'Purple', 'Purple', 'Purple',\n",
       "       'Purple', 'Purple', 'Purple', 'White', 'Purple', 'White', 'Purple',\n",
       "       'Purple', 'Purple', 'Purple', 'Purple', 'White', 'Purple',\n",
       "       'Purple', 'Purple', 'White', 'Purple', 'Purple', 'White', 'White',\n",
       "       'Purple', 'Purple', 'Purple', 'Purple', 'Purple', 'Purple',\n",
       "       'Purple', 'White', 'White', 'Purple', 'Purple', 'Purple', 'Purple',\n",
       "       'Purple', 'Purple', 'Purple', 'White', 'Purple', 'Purple',\n",
       "       'Purple', 'Purple', 'Purple', 'White', 'White', 'White', 'White',\n",
       "       'White', 'Purple', 'Purple', 'Purple', 'Purple', 'Purple',\n",
       "       'Purple', 'Purple', 'White', 'White', 'White', 'Purple', 'Purple',\n",
       "       'White', 'Purple', 'White', 'Purple', 'Purple', 'Purple', 'Purple',\n",
       "       'Purple', 'Purple', 'Purple', 'Purple', 'Purple', 'Purple',\n",
       "       'Purple', 'Purple', 'White', 'Purple', 'Purple', 'Purple',\n",
       "       'Purple', 'Purple', 'White', 'Purple', 'White', 'Purple', 'Purple',\n",
       "       'Purple', 'Purple', 'Purple', 'White', 'Purple', 'Purple',\n",
       "       'Purple', 'Purple', 'Purple', 'Purple', 'White', 'Purple',\n",
       "       'Purple', 'Purple', 'Purple', 'Purple', 'Purple', 'Purple',\n",
       "       'White', 'White', 'Purple', 'White', 'Purple', 'White', 'White',\n",
       "       'Purple', 'White', 'Purple', 'White', 'Purple', 'Purple', 'Purple',\n",
       "       'White', 'Purple', 'Purple', 'Purple', 'Purple', 'Purple',\n",
       "       'Purple', 'Purple', 'Purple', 'White', 'White', 'Purple', 'Purple',\n",
       "       'White', 'White', 'Purple', 'Purple', 'White', 'Purple', 'Purple',\n",
       "       'Purple', 'Purple', 'Purple', 'Purple', 'Purple', 'Purple',\n",
       "       'White', 'Purple', 'Purple', 'Purple', 'Purple', 'Purple',\n",
       "       'Purple', 'Purple', 'White', 'Purple', 'White', 'Purple', 'Purple',\n",
       "       'White', 'Purple', 'White', 'Purple', 'Purple', 'White', 'Purple',\n",
       "       'Purple', 'Purple', 'Purple', 'Purple', 'Purple', 'Purple',\n",
       "       'White', 'White', 'Purple', 'Purple', 'Purple', 'Purple', 'Purple',\n",
       "       'Purple', 'White', 'White', 'Purple', 'Purple', 'Purple', 'Purple',\n",
       "       'White', 'Purple', 'Purple', 'Purple', 'Purple', 'Purple',\n",
       "       'Purple', 'Purple', 'Purple', 'Purple', 'White', 'White', 'Purple',\n",
       "       'White', 'Purple', 'White', 'White', 'Purple', 'White', 'White',\n",
       "       'Purple', 'Purple', 'Purple', 'Purple', 'Purple', 'White',\n",
       "       'Purple', 'Purple', 'Purple', 'Purple', 'Purple', 'White',\n",
       "       'Purple', 'White', 'Purple', 'White', 'Purple', 'Purple', 'White',\n",
       "       'Purple', 'Purple', 'Purple', 'Purple', 'Purple', 'White',\n",
       "       'Purple', 'Purple', 'White', 'White', 'Purple', 'White', 'Purple',\n",
       "       'White', 'White', 'Purple', 'Purple', 'Purple', 'White', 'White',\n",
       "       'Purple', 'White', 'Purple', 'Purple', 'Purple', 'White', 'Purple',\n",
       "       'Purple', 'White', 'Purple', 'White', 'Purple', 'Purple', 'White',\n",
       "       'White', 'Purple', 'White', 'White', 'Purple', 'Purple', 'White'],\n",
       "      dtype='<U6')"
      ]
     },
     "execution_count": 28,
     "metadata": {},
     "output_type": "execute_result"
    }
   ],
   "source": [
    "np.random.choice(null, total_plants)"
   ]
  },
  {
   "cell_type": "markdown",
   "metadata": {},
   "source": [
    "we defined a function that computed the `test statistic` and thus, we can use that function to compute the `test statistic` of the sample above. Run the cell below multiple times to see varying `test statistic`s!"
   ]
  },
  {
   "cell_type": "code",
   "execution_count": 33,
   "metadata": {},
   "outputs": [
    {
     "data": {
      "text/plain": [
       "0.0169537136706136"
      ]
     },
     "execution_count": 33,
     "metadata": {},
     "output_type": "execute_result"
    }
   ],
   "source": [
    "test_stat(np.random.choice(null, total_plants))"
   ]
  },
  {
   "cell_type": "markdown",
   "metadata": {},
   "source": [
    "Since we want to repeat the \"take sample and calculate `test statistic`\" multiple times, we can write a `for` loop,"
   ]
  },
  {
   "cell_type": "code",
   "execution_count": 36,
   "metadata": {},
   "outputs": [
    {
     "data": {
      "text/plain": [
       "array([0.01587729, 0.00780409, 0.01049516, ..., 0.03848224, 0.02018299,\n",
       "       0.01049516])"
      ]
     },
     "execution_count": 36,
     "metadata": {},
     "output_type": "execute_result"
    }
   ],
   "source": [
    "repetitions = 5000 # 5000 samples of 929 plants! \n",
    "sample_stats = make_array() # An array that will contain the resulting test statistics\n",
    "\n",
    "for i in np.arange(repetitions):\n",
    "    # Compute the test statistic and store in variable called \"test_statistic\"\n",
    "    test_statistic = test_stat(np.random.choice(null, total_plants))\n",
    "    # Append the \"test_statistic\" above to the array \"sample_stats\"\n",
    "    sample_stats = np.append(sample_stats, test_statistic)\n",
    "    \n",
    "sample_stats"
   ]
  },
  {
   "cell_type": "markdown",
   "metadata": {},
   "source": [
    "Above, we have the array `sample_stats` that contains multiple `test statistics` from our multiple samples. We can create our null distribution witht the array above!"
   ]
  },
  {
   "cell_type": "code",
   "execution_count": 37,
   "metadata": {},
   "outputs": [
    {
     "data": {
      "text/html": [
       "<table border=\"1\" class=\"dataframe\">\n",
       "    <thead>\n",
       "        <tr>\n",
       "            <th>Null distribution</th>\n",
       "        </tr>\n",
       "    </thead>\n",
       "    <tbody>\n",
       "        <tr>\n",
       "            <td>0.0158773        </td>\n",
       "        </tr>\n",
       "        <tr>\n",
       "            <td>0.00780409       </td>\n",
       "        </tr>\n",
       "        <tr>\n",
       "            <td>0.0104952        </td>\n",
       "        </tr>\n",
       "        <tr>\n",
       "            <td>0.00296017       </td>\n",
       "        </tr>\n",
       "        <tr>\n",
       "            <td>0.000269107      </td>\n",
       "        </tr>\n",
       "        <tr>\n",
       "            <td>0.0158773        </td>\n",
       "        </tr>\n",
       "        <tr>\n",
       "            <td>0.0158773        </td>\n",
       "        </tr>\n",
       "        <tr>\n",
       "            <td>0.00134553       </td>\n",
       "        </tr>\n",
       "        <tr>\n",
       "            <td>0.00511302       </td>\n",
       "        </tr>\n",
       "        <tr>\n",
       "            <td>0.0158773        </td>\n",
       "        </tr>\n",
       "    </tbody>\n",
       "</table>\n",
       "<p>... (4990 rows omitted)</p>"
      ],
      "text/plain": [
       "Null distribution\n",
       "0.0158773\n",
       "0.00780409\n",
       "0.0104952\n",
       "0.00296017\n",
       "0.000269107\n",
       "0.0158773\n",
       "0.0158773\n",
       "0.00134553\n",
       "0.00511302\n",
       "0.0158773\n",
       "... (4990 rows omitted)"
      ]
     },
     "execution_count": 37,
     "metadata": {},
     "output_type": "execute_result"
    }
   ],
   "source": [
    "null_dist = Table().with_column('Null distribution', sample_stats)\n",
    "null_dist"
   ]
  },
  {
   "cell_type": "code",
   "execution_count": 38,
   "metadata": {},
   "outputs": [
    {
     "data": {
      "image/png": "[encoded data removed]",
      "text/plain": [
       "<Figure size 432x288 with 1 Axes>"
      ]
     },
     "metadata": {},
     "output_type": "display_data"
    }
   ],
   "source": [
    "null_dist.hist()\n",
    "_ = plt.plot([observed_statistic, observed_statistic], [0, 60])"
   ]
  },
  {
   "cell_type": "markdown",
   "metadata": {},
   "source": [
    "Above is the histogram of our `test statistic`s. It seems that the typical `test statistic` value that we can get if we draw a random sample plant from Mendel's model is between 0 to 0.03. \n",
    "\n",
    "Mendel's `observed test statistic` is represented with the blue verical line. Mendel's `observed test statistic` is within the range of \"likely to occur\" test statistic values. In this case, we have an evidence in favor to Mendel's result.\n",
    "\n",
    "Recall earlier we took the \"weirdness level\". The instructor's level was 85. We compared the instructor's 85 with the students' weirdness level in the class, and compute the probability of obtaining 85. \n",
    "\n",
    "We can calculate the probability of Mendel getting the `blue line` result or a weirder result. Just like in weirdness level example, we can compute the probability of obtaining 85 or greater."
   ]
  },
  {
   "cell_type": "markdown",
   "metadata": {},
   "source": [
    "#### What is a \"good enough\" result?\n",
    "What if the vertical blue line is slightly more to the right? Does that mean Mendel's model is incorrect?\n",
    "\n",
    "Let's say we tried to take a sample and we got a `test statistic` of 0.03."
   ]
  },
  {
   "cell_type": "code",
   "execution_count": 39,
   "metadata": {},
   "outputs": [],
   "source": [
    "tried_again = 0.03"
   ]
  },
  {
   "cell_type": "code",
   "execution_count": 40,
   "metadata": {},
   "outputs": [
    {
     "data": {
      "image/png": "[encoded data removed]",
      "text/plain": [
       "<Figure size 432x288 with 1 Axes>"
      ]
     },
     "metadata": {},
     "output_type": "display_data"
    }
   ],
   "source": [
    "null_dist.hist()\n",
    "_ = plt.plot([tried_again, tried_again], [0, 60])"
   ]
  },
  {
   "cell_type": "markdown",
   "metadata": {},
   "source": [
    "If we obtained the result above result, do we accept or reject Mendel's model?\n",
    "\n",
    "The further the vertical line goes the right, the less area covered by the right side of the line. Recall when we discussed about defining the `test statistic`: \"The greater the `test statistic`, the weirder our result, or the more deviation we obtained from the proposed model\".\n",
    "\n",
    "We want to find the area of the following,\n",
    "<img src = 'area.jpg' width = 400\\>\n",
    "and that will tell us the probability of obtaining our result if the null hypothesis were true.\n",
    "\n",
    "This is similar to when we tried to analyze the weirdness level. We looked at students who picked weirdness level of 85 and above, and that tells us the probability of obtaining at least 85.\n",
    "\n",
    "To calculate the area, we can use the **law of histogram**, which says that the area to the right of the blue line is the proportional values that are above the line.\n",
    "\n",
    "If we look at the `sample_stats` once again from the simulation,"
   ]
  },
  {
   "cell_type": "code",
   "execution_count": 41,
   "metadata": {},
   "outputs": [
    {
     "data": {
      "text/plain": [
       "array([0.01587729, 0.00780409, 0.01049516, ..., 0.03848224, 0.02018299,\n",
       "       0.01049516])"
      ]
     },
     "execution_count": 41,
     "metadata": {},
     "output_type": "execute_result"
    }
   ],
   "source": [
    "sample_stats"
   ]
  },
  {
   "cell_type": "markdown",
   "metadata": {},
   "source": [
    "We can find out the number of `test statistics` that are equal and above Mendel's `observed_statistic`,"
   ]
  },
  {
   "cell_type": "code",
   "execution_count": 42,
   "metadata": {},
   "outputs": [
    {
     "data": {
      "text/plain": [
       "0.008880516684607098"
      ]
     },
     "execution_count": 42,
     "metadata": {},
     "output_type": "execute_result"
    }
   ],
   "source": [
    "observed_statistic"
   ]
  },
  {
   "cell_type": "code",
   "execution_count": 43,
   "metadata": {},
   "outputs": [
    {
     "data": {
      "text/plain": [
       "array([ True, False,  True, ...,  True,  True,  True])"
      ]
     },
     "execution_count": 43,
     "metadata": {},
     "output_type": "execute_result"
    }
   ],
   "source": [
    "sample_stats >= observed_statistic"
   ]
  },
  {
   "cell_type": "markdown",
   "metadata": {},
   "source": [
    "Once again, to calculate proportion,  we use `np.count_nonzero` and divide the result with the number of times we took sample."
   ]
  },
  {
   "cell_type": "code",
   "execution_count": 44,
   "metadata": {},
   "outputs": [
    {
     "data": {
      "text/plain": [
       "0.5498"
      ]
     },
     "execution_count": 44,
     "metadata": {},
     "output_type": "execute_result"
    }
   ],
   "source": [
    "np.count_nonzero(sample_stats >= observed_statistic) / len(sample_stats)"
   ]
  },
  {
   "cell_type": "markdown",
   "metadata": {},
   "source": [
    "This means the probability we can obtain the same result as Mendel's observation is the number above.\n",
    "\n",
    "On the other hand, if we tried the same calculation with our own trial,"
   ]
  },
  {
   "cell_type": "code",
   "execution_count": 45,
   "metadata": {},
   "outputs": [],
   "source": [
    "tried_again = 0.03"
   ]
  },
  {
   "cell_type": "code",
   "execution_count": 46,
   "metadata": {},
   "outputs": [
    {
     "data": {
      "text/plain": [
       "0.0348"
      ]
     },
     "execution_count": 46,
     "metadata": {},
     "output_type": "execute_result"
    }
   ],
   "source": [
    "np.count_nonzero(sample_stats >= tried_again) / len(sample_stats)"
   ]
  },
  {
   "cell_type": "markdown",
   "metadata": {},
   "source": [
    "The probability of getting our result if the null hypothesis were true is relatively small!\n",
    "\n",
    "Note that all this time, what we calculated had been the estimated probabilities. These estimated probabilities are called the `p-value`."
   ]
  },
  {
   "cell_type": "markdown",
   "metadata": {},
   "source": [
    "# P-values\n",
    "\n",
    "## Conclusion of a Test\n",
    "We have 2 hypothesese: `null` and `alternative`. How do we choose between the 2?\n",
    "\n",
    "1. Compare the `observed test statistic` to its empirical distribution under the null hypothesis\n",
    "    * Take the `observed test statistic` and see if it is likely to occur by chance if the null hypothesis were true\n"
   ]
  },
  {
   "cell_type": "code",
   "execution_count": null,
   "metadata": {},
   "outputs": [],
   "source": []
  }
 ],
 "metadata": {
  "kernelspec": {
   "display_name": "Python 3",
   "language": "python",
   "name": "python3"
  },
  "language_info": {
   "codemirror_mode": {
    "name": "ipython",
    "version": 3
   },
   "file_extension": ".py",
   "mimetype": "text/x-python",
   "name": "python",
   "nbconvert_exporter": "python",
   "pygments_lexer": "ipython3",
   "version": "3.7.2"
  }
 },
 "nbformat": 4,
 "nbformat_minor": 1
}
