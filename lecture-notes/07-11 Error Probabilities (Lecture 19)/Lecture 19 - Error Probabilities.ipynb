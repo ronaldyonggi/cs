{
 "cells": [
  {
   "cell_type": "code",
   "execution_count": 1,
   "metadata": {},
   "outputs": [],
   "source": [
    "from datascience import *\n",
    "import numpy as np\n",
    "%matplotlib inline\n",
    "import matplotlib.pyplot as plt\n",
    "plt.style.use('fivethirtyeight')\n",
    "\n",
    "from ipywidgets import interact, interactive, fixed, interact_manual\n",
    "import ipywidgets as widgets"
   ]
  },
  {
   "cell_type": "markdown",
   "metadata": {},
   "source": [
    "# Hypothesis Testing (Recap)\n",
    "In the previous lecture we discussed about `Hypothesis Testing`, which is just a fancy term for all the processes that we have done in past lectures. In the jury examples, we did `Hypothesis Test` even though we did not go through the formal steps. We will start with discussing about the formal steps for conducting a hypothesis test. "
   ]
  },
  {
   "cell_type": "markdown",
   "metadata": {},
   "source": [
    "## Testing a Hypothesis\n",
    "\n",
    "#### Step 1: The Hypotheses\n",
    "We have 2 views of how data were generated:\n",
    "1. `Null hypothesis`: the data were obtained by random, by chance\n",
    "2. `Alternative hypothesis`: something else happened, some effect other than chance\n",
    "\n",
    "#### Step 2: The Test Statistic\n",
    "Once we defined the 2 hypotheses, we select `test statistic`, a measure of how different our sample is from the population.\n",
    "\n",
    "#### Step 3: The Sampling Distribution of the Test Statistic\n",
    "1. What the test statistic might be if the null hypothesis were true\n",
    "    * We simulate draws from the population to see the values of `test statistic`s that are likely to occur by chance. \n",
    "    * In Jury cases, we drew panel at random and ask \"what's the TVD value that is likely to occur\"?. Turns out the TVD between actual panel and the population did not look like a panel that is taken from random from population. Thus, we said that \"this panel looks suspicious\".\n",
    "\n",
    "2. Approximate the sampling distribution (theorical distribution) by an empirical distribution\n",
    "    * We can't calculate precisely the distribution of values of the test statistic\n",
    "    * But we can approximate by drawing at random from the population"
   ]
  },
  {
   "cell_type": "markdown",
   "metadata": {},
   "source": [
    "## Pick a number between 1 - 100\n",
    "The number you pick would be the weirdness level. The greater the number, the weirder you are.\n",
    "\n",
    "The instructor's number is 85. \n",
    "\n",
    "#### Is the instructor's weirdness level (85) likely to come from the classroom? \n",
    "1. The `population` is all the students in the classroom\n",
    "2. Could the instructor be one of the students in the classroom?\n",
    "\n",
    "## Testing Hypothesis\n",
    "#### Step 1: The Hypotheses\n",
    "* Null hypothesis: The instructor weirdness is randomly chosen from the population of the class\n",
    "* Alternative hypothesis: It's not.\n",
    "\n",
    "#### Step 2: The Test Statistic\n",
    "\n",
    "`Test statistic`: Weirdness(higher number means more weird)\n",
    "\n",
    "#### Step 3: The Sampling Distribution of the Test Statistic\n",
    "* Look at the classroom\n",
    "* Ask the students one by one each of their weirdness level\n",
    "\n",
    "Let's say there are 50 students in the classroom. 3 of them picked 85 or above.\n",
    "\n",
    "The chance we pick a student and obtain 85 is 3/50, or 6%, which is relatively low. From here, we can deduce whether the number 85 is likely to be obtained from the classroom. "
   ]
  },
  {
   "cell_type": "markdown",
   "metadata": {},
   "source": [
    "# Example: The 2 Hypotheses\n",
    "**Gregor Mendel (1822-1884)** was an Austrian monk and founder of the modern field of genetics. Among many experiments, he tested the hypothesis that **pea plants will bear purple or white flowers at random, in the ratio purple to white 3 : 1**.\n",
    "\n",
    "#### Was his model correct?\n",
    "\n",
    "`Null hypothesis`: Mendel's model describes the world. In other words, the model is correct.\n",
    "* If we grow pea plants at random, we'll get a ratio of 3:1 purple to white. \n",
    "* The distribution of the observed plant is different from the distribution in the model due to chance variation\n",
    "\n",
    "`Alternative Hypothesis`: Mendel's model doesn't describe the world. Something else is on effect.\n",
    "\n",
    "Mendel grew a bunch of pea plants and observed that about 75% of the plants were purple. Let's say he actually found 77% purple, then we can ask, \"is that close enough to 75% that we can state that the ration is 3:1?\" This is the question that we are trying to solve with the hypothesis test."
   ]
  },
  {
   "cell_type": "markdown",
   "metadata": {},
   "source": [
    "## Demo\n",
    "The `null hypothesis` is that we drew plants in 3:1 ratio purple to white. "
   ]
  },
  {
   "cell_type": "code",
   "execution_count": 2,
   "metadata": {},
   "outputs": [
    {
     "data": {
      "text/plain": [
       "array(['Purple', 'Purple', 'Purple', 'White'], dtype='<U6')"
      ]
     },
     "execution_count": 2,
     "metadata": {},
     "output_type": "execute_result"
    }
   ],
   "source": [
    "null = make_array('Purple', 'Purple', 'Purple', 'White')\n",
    "null"
   ]
  },
  {
   "cell_type": "markdown",
   "metadata": {},
   "source": [
    "Now let's try taking a sample of 10 from above."
   ]
  },
  {
   "cell_type": "code",
   "execution_count": 3,
   "metadata": {},
   "outputs": [
    {
     "data": {
      "text/plain": [
       "array(['Purple', 'Purple', 'Purple', 'Purple', 'Purple', 'Purple',\n",
       "       'Purple', 'White', 'Purple', 'Purple'], dtype='<U6')"
      ]
     },
     "execution_count": 3,
     "metadata": {},
     "output_type": "execute_result"
    }
   ],
   "source": [
    "sample = np.random.choice(null, 10)\n",
    "sample"
   ]
  },
  {
   "cell_type": "markdown",
   "metadata": {},
   "source": [
    "We would expect the sample above to have 7-8 purple. Let's convert the array above to `True and False` and count how many `True`s there are."
   ]
  },
  {
   "cell_type": "code",
   "execution_count": 4,
   "metadata": {},
   "outputs": [
    {
     "data": {
      "text/plain": [
       "9"
      ]
     },
     "execution_count": 4,
     "metadata": {},
     "output_type": "execute_result"
    }
   ],
   "source": [
    "np.count_nonzero(sample == 'Purple')"
   ]
  },
  {
   "cell_type": "markdown",
   "metadata": {},
   "source": [
    "Now divide the number above with the total number of sample we took. This way we obtain a proportion."
   ]
  },
  {
   "cell_type": "code",
   "execution_count": 5,
   "metadata": {},
   "outputs": [
    {
     "data": {
      "text/plain": [
       "0.9"
      ]
     },
     "execution_count": 5,
     "metadata": {},
     "output_type": "execute_result"
    }
   ],
   "source": [
    "np.count_nonzero(sample == 'Purple') / 10"
   ]
  },
  {
   "cell_type": "markdown",
   "metadata": {},
   "source": [
    "Mendel proposed that the number above should be 0.75. What if we did not obtain 0.75? We need to **measure how different the value that we obtain from 0.75** (This is our `test statistic`). "
   ]
  },
  {
   "cell_type": "code",
   "execution_count": 6,
   "metadata": {},
   "outputs": [
    {
     "data": {
      "text/plain": [
       "0.15000000000000002"
      ]
     },
     "execution_count": 6,
     "metadata": {},
     "output_type": "execute_result"
    }
   ],
   "source": [
    "np.count_nonzero(sample == 'Purple') / 10 - 0.75"
   ]
  },
  {
   "cell_type": "markdown",
   "metadata": {},
   "source": [
    "Above is our `test statistic`. If we try another sample,"
   ]
  },
  {
   "cell_type": "code",
   "execution_count": 7,
   "metadata": {},
   "outputs": [
    {
     "name": "stdout",
     "output_type": "stream",
     "text": [
      "['Purple' 'Purple' 'Purple' 'White' 'Purple' 'Purple' 'Purple' 'Purple'\n",
      " 'Purple' 'Purple']\n",
      "We have 9 Purple this time.\n",
      "The difference is 0.15000000000000002\n"
     ]
    }
   ],
   "source": [
    "sample = np.random.choice(null, 10)\n",
    "print(sample)\n",
    "print('We have', np.count_nonzero(sample == 'Purple'), 'Purple this time.')\n",
    "difference = np.count_nonzero(sample == 'Purple') / 10 - 0.75\n",
    "print('The difference is', difference)"
   ]
  },
  {
   "cell_type": "markdown",
   "metadata": {},
   "source": [
    "We are trying to measure the difference. We are trying to see if the model, 0.75, is correct or not. If the model was correct, we expect most of the result should appear around 0.75.\n",
    "\n",
    "If the model was not correct, we can expect result that are significantly higher or lower than 0.75. (e.g. all purple, no purple at all)\n",
    "\n",
    "When we compute the difference (`test statistic`, we can obtain a positive or negative `test statistic`. However, if we take the absolute value of the difference, we can only obtain a positive `test statistic` value. "
   ]
  },
  {
   "cell_type": "code",
   "execution_count": 8,
   "metadata": {},
   "outputs": [
    {
     "data": {
      "text/plain": [
       "0.15000000000000002"
      ]
     },
     "execution_count": 8,
     "metadata": {},
     "output_type": "execute_result"
    }
   ],
   "source": [
    "difference = abs(np.count_nonzero(sample == 'Purple') / 10 - 0.75)\n",
    "difference"
   ]
  },
  {
   "cell_type": "markdown",
   "metadata": {},
   "source": [
    "1. If we took a sample and obtained no purple at all, that means we obtained a `test statistic` value of 0.75, since we are 0.75 away from the `theoretical test statistic`.\n",
    "2. If we took a sample and obtained all purple, that means we obtained a `test statistic` value of 0.25, since we are 0.25 away from the `theoretical test statistic`.\n",
    "\n",
    "The greater the `test statistic` value that we obtained, the more different result that we obtained from what Mendel proposed.\n",
    "\n",
    "Below is a function that computes the `test statistic`."
   ]
  },
  {
   "cell_type": "code",
   "execution_count": 9,
   "metadata": {},
   "outputs": [],
   "source": [
    "def test_stat(sample):\n",
    "    # Recall we took absolute value of the number of purple divided by 10 and subtract it by 0.75. However this time\n",
    "    # instead of dividing it by 10, we divide it by the length of the sample.\n",
    "    result = abs(np.count_nonzero(sample == 'Purple') \n",
    "                      / len(sample) \n",
    "                      - 0.75)\n",
    "    return result"
   ]
  },
  {
   "cell_type": "markdown",
   "metadata": {},
   "source": [
    "If we call the function above with an array of just purple, the return value would be 0.25. All purple means that the proportion of purple is 100%. And thus, when we calculate the `test statistic`, `abs(100% - 75%) = 25%`."
   ]
  },
  {
   "cell_type": "code",
   "execution_count": 10,
   "metadata": {},
   "outputs": [
    {
     "data": {
      "text/plain": [
       "0.25"
      ]
     },
     "execution_count": 10,
     "metadata": {},
     "output_type": "execute_result"
    }
   ],
   "source": [
    "test_stat(make_array('Purple'))"
   ]
  },
  {
   "cell_type": "markdown",
   "metadata": {},
   "source": [
    "For the opposite, with an array of just white, the return value would be 0.75. All white means that the proportion of white is 0%. Thus, when we calculate the `test statistic`, `abs(0% - 75%) = 75%`.\n",
    "\n",
    "1. We have stated our null and alternative hypothesis\n",
    "2. We have chosen the `test statistic` - the measure of difference\n",
    "3. All that is left is to take draws from the population and see what we will obtain.\n",
    "\n",
    "Mendel's actual result (observation) was 705 purple plants out of 929 total. "
   ]
  },
  {
   "cell_type": "code",
   "execution_count": 11,
   "metadata": {},
   "outputs": [
    {
     "data": {
      "text/plain": [
       "0.7588805166846071"
      ]
     },
     "execution_count": 11,
     "metadata": {},
     "output_type": "execute_result"
    }
   ],
   "source": [
    "observed = 705 / 929\n",
    "observed"
   ]
  },
  {
   "cell_type": "markdown",
   "metadata": {},
   "source": [
    "This means Mendel's `test statistic` is,"
   ]
  },
  {
   "cell_type": "code",
   "execution_count": 12,
   "metadata": {},
   "outputs": [
    {
     "data": {
      "text/plain": [
       "0.008880516684607098"
      ]
     },
     "execution_count": 12,
     "metadata": {},
     "output_type": "execute_result"
    }
   ],
   "source": [
    "observed_statistic = abs(observed - 0.75)\n",
    "observed_statistic"
   ]
  },
  {
   "cell_type": "markdown",
   "metadata": {},
   "source": [
    "The `observed_statistic` is relatively low. However, how do we define `low`? We can find out by taking random draws from the population and to take a look at the result. Note that he planted 929 plants, and thus 929 would be our sample size."
   ]
  },
  {
   "cell_type": "code",
   "execution_count": 13,
   "metadata": {},
   "outputs": [],
   "source": [
    "total_plants = 929"
   ]
  },
  {
   "cell_type": "markdown",
   "metadata": {},
   "source": [
    "We can simulate taking a sample of 929 plants,"
   ]
  },
  {
   "cell_type": "code",
   "execution_count": 14,
   "metadata": {},
   "outputs": [
    {
     "data": {
      "text/plain": [
       "array(['White', 'Purple', 'White', 'Purple', 'Purple', 'White', 'Purple',\n",
       "       'Purple', 'Purple', 'White', 'Purple', 'Purple', 'White', 'Purple',\n",
       "       'Purple', 'Purple', 'Purple', 'Purple', 'Purple', 'Purple',\n",
       "       'White', 'Purple', 'Purple', 'Purple', 'Purple', 'Purple',\n",
       "       'Purple', 'Purple', 'Purple', 'Purple', 'White', 'Purple',\n",
       "       'Purple', 'White', 'Purple', 'Purple', 'White', 'Purple', 'White',\n",
       "       'Purple', 'White', 'Purple', 'White', 'White', 'Purple', 'Purple',\n",
       "       'Purple', 'Purple', 'Purple', 'Purple', 'Purple', 'White',\n",
       "       'Purple', 'White', 'Purple', 'White', 'Purple', 'Purple', 'Purple',\n",
       "       'Purple', 'Purple', 'Purple', 'White', 'Purple', 'White', 'White',\n",
       "       'Purple', 'Purple', 'Purple', 'White', 'White', 'Purple', 'Purple',\n",
       "       'Purple', 'Purple', 'White', 'Purple', 'White', 'Purple', 'Purple',\n",
       "       'Purple', 'Purple', 'Purple', 'Purple', 'Purple', 'Purple',\n",
       "       'Purple', 'White', 'Purple', 'Purple', 'Purple', 'Purple',\n",
       "       'Purple', 'Purple', 'Purple', 'Purple', 'Purple', 'White', 'White',\n",
       "       'Purple', 'White', 'Purple', 'Purple', 'Purple', 'White', 'White',\n",
       "       'Purple', 'Purple', 'Purple', 'Purple', 'Purple', 'Purple',\n",
       "       'Purple', 'Purple', 'White', 'Purple', 'Purple', 'Purple',\n",
       "       'Purple', 'Purple', 'Purple', 'Purple', 'Purple', 'Purple',\n",
       "       'Purple', 'Purple', 'Purple', 'Purple', 'White', 'Purple',\n",
       "       'Purple', 'Purple', 'Purple', 'Purple', 'Purple', 'White',\n",
       "       'Purple', 'Purple', 'Purple', 'Purple', 'Purple', 'Purple',\n",
       "       'Purple', 'White', 'Purple', 'Purple', 'Purple', 'Purple',\n",
       "       'Purple', 'Purple', 'Purple', 'Purple', 'White', 'White', 'Purple',\n",
       "       'Purple', 'Purple', 'White', 'White', 'White', 'Purple', 'Purple',\n",
       "       'Purple', 'Purple', 'Purple', 'White', 'Purple', 'Purple',\n",
       "       'Purple', 'Purple', 'Purple', 'White', 'Purple', 'Purple', 'White',\n",
       "       'Purple', 'Purple', 'White', 'Purple', 'Purple', 'Purple',\n",
       "       'Purple', 'Purple', 'White', 'Purple', 'Purple', 'Purple',\n",
       "       'Purple', 'Purple', 'Purple', 'Purple', 'Purple', 'Purple',\n",
       "       'Purple', 'White', 'Purple', 'Purple', 'White', 'White', 'Purple',\n",
       "       'Purple', 'Purple', 'Purple', 'White', 'White', 'Purple', 'White',\n",
       "       'Purple', 'Purple', 'Purple', 'Purple', 'White', 'Purple',\n",
       "       'Purple', 'Purple', 'Purple', 'Purple', 'Purple', 'Purple',\n",
       "       'Purple', 'White', 'Purple', 'Purple', 'Purple', 'Purple', 'White',\n",
       "       'Purple', 'Purple', 'Purple', 'Purple', 'Purple', 'Purple',\n",
       "       'Purple', 'Purple', 'Purple', 'Purple', 'Purple', 'Purple',\n",
       "       'Purple', 'Purple', 'Purple', 'Purple', 'White', 'Purple',\n",
       "       'Purple', 'White', 'Purple', 'Purple', 'Purple', 'Purple',\n",
       "       'Purple', 'White', 'Purple', 'Purple', 'White', 'Purple', 'Purple',\n",
       "       'Purple', 'Purple', 'Purple', 'Purple', 'White', 'White', 'Purple',\n",
       "       'White', 'Purple', 'Purple', 'Purple', 'Purple', 'Purple',\n",
       "       'Purple', 'Purple', 'Purple', 'White', 'Purple', 'White', 'Purple',\n",
       "       'Purple', 'White', 'Purple', 'White', 'Purple', 'Purple', 'White',\n",
       "       'Purple', 'White', 'Purple', 'Purple', 'Purple', 'Purple', 'White',\n",
       "       'Purple', 'White', 'White', 'Purple', 'Purple', 'White', 'Purple',\n",
       "       'Purple', 'Purple', 'Purple', 'Purple', 'Purple', 'White',\n",
       "       'Purple', 'Purple', 'Purple', 'Purple', 'White', 'Purple',\n",
       "       'Purple', 'Purple', 'Purple', 'White', 'Purple', 'Purple', 'White',\n",
       "       'Purple', 'White', 'White', 'Purple', 'White', 'Purple', 'Purple',\n",
       "       'Purple', 'Purple', 'Purple', 'Purple', 'White', 'Purple',\n",
       "       'Purple', 'White', 'Purple', 'Purple', 'Purple', 'Purple',\n",
       "       'Purple', 'Purple', 'White', 'White', 'Purple', 'Purple', 'Purple',\n",
       "       'Purple', 'White', 'Purple', 'Purple', 'Purple', 'White', 'Purple',\n",
       "       'White', 'Purple', 'Purple', 'Purple', 'White', 'Purple', 'Purple',\n",
       "       'Purple', 'White', 'Purple', 'Purple', 'White', 'Purple', 'Purple',\n",
       "       'White', 'White', 'Purple', 'Purple', 'White', 'Purple', 'Purple',\n",
       "       'Purple', 'White', 'Purple', 'White', 'Purple', 'Purple', 'White',\n",
       "       'Purple', 'Purple', 'Purple', 'Purple', 'Purple', 'Purple',\n",
       "       'Purple', 'Purple', 'Purple', 'White', 'Purple', 'White', 'Purple',\n",
       "       'Purple', 'White', 'Purple', 'White', 'Purple', 'Purple', 'Purple',\n",
       "       'White', 'Purple', 'Purple', 'Purple', 'Purple', 'Purple', 'White',\n",
       "       'Purple', 'Purple', 'Purple', 'Purple', 'Purple', 'Purple',\n",
       "       'White', 'Purple', 'White', 'White', 'Purple', 'White', 'White',\n",
       "       'Purple', 'Purple', 'Purple', 'Purple', 'Purple', 'Purple',\n",
       "       'Purple', 'Purple', 'White', 'White', 'White', 'White', 'Purple',\n",
       "       'Purple', 'Purple', 'Purple', 'Purple', 'Purple', 'Purple',\n",
       "       'Purple', 'Purple', 'Purple', 'Purple', 'Purple', 'Purple',\n",
       "       'Purple', 'Purple', 'Purple', 'Purple', 'White', 'White', 'White',\n",
       "       'Purple', 'Purple', 'Purple', 'White', 'Purple', 'White', 'Purple',\n",
       "       'White', 'Purple', 'White', 'Purple', 'Purple', 'White', 'Purple',\n",
       "       'Purple', 'Purple', 'Purple', 'Purple', 'White', 'White', 'White',\n",
       "       'Purple', 'White', 'White', 'Purple', 'Purple', 'Purple', 'White',\n",
       "       'White', 'White', 'Purple', 'Purple', 'White', 'White', 'Purple',\n",
       "       'Purple', 'Purple', 'Purple', 'White', 'Purple', 'White', 'Purple',\n",
       "       'White', 'Purple', 'White', 'Purple', 'Purple', 'Purple', 'Purple',\n",
       "       'Purple', 'White', 'White', 'Purple', 'Purple', 'Purple', 'Purple',\n",
       "       'Purple', 'White', 'Purple', 'White', 'Purple', 'Purple', 'Purple',\n",
       "       'Purple', 'Purple', 'White', 'White', 'Purple', 'Purple', 'White',\n",
       "       'Purple', 'Purple', 'Purple', 'Purple', 'Purple', 'White',\n",
       "       'Purple', 'White', 'Purple', 'Purple', 'Purple', 'Purple',\n",
       "       'Purple', 'Purple', 'White', 'Purple', 'Purple', 'Purple',\n",
       "       'Purple', 'Purple', 'Purple', 'White', 'Purple', 'Purple',\n",
       "       'Purple', 'Purple', 'White', 'Purple', 'Purple', 'Purple',\n",
       "       'Purple', 'Purple', 'Purple', 'Purple', 'Purple', 'Purple',\n",
       "       'Purple', 'Purple', 'White', 'Purple', 'Purple', 'Purple',\n",
       "       'Purple', 'Purple', 'Purple', 'Purple', 'Purple', 'White',\n",
       "       'Purple', 'White', 'Purple', 'Purple', 'Purple', 'White', 'Purple',\n",
       "       'Purple', 'Purple', 'Purple', 'Purple', 'Purple', 'White',\n",
       "       'Purple', 'White', 'Purple', 'Purple', 'Purple', 'Purple',\n",
       "       'Purple', 'Purple', 'Purple', 'Purple', 'White', 'Purple',\n",
       "       'Purple', 'Purple', 'Purple', 'White', 'Purple', 'Purple', 'White',\n",
       "       'White', 'Purple', 'White', 'White', 'Purple', 'Purple', 'Purple',\n",
       "       'Purple', 'Purple', 'Purple', 'Purple', 'Purple', 'Purple',\n",
       "       'Purple', 'Purple', 'Purple', 'Purple', 'White', 'Purple',\n",
       "       'Purple', 'White', 'White', 'Purple', 'Purple', 'Purple', 'White',\n",
       "       'Purple', 'Purple', 'Purple', 'Purple', 'Purple', 'Purple',\n",
       "       'Purple', 'Purple', 'White', 'Purple', 'Purple', 'Purple',\n",
       "       'Purple', 'Purple', 'Purple', 'Purple', 'Purple', 'White', 'White',\n",
       "       'White', 'Purple', 'Purple', 'Purple', 'White', 'Purple', 'Purple',\n",
       "       'White', 'Purple', 'Purple', 'Purple', 'Purple', 'Purple',\n",
       "       'Purple', 'Purple', 'White', 'Purple', 'Purple', 'Purple', 'White',\n",
       "       'White', 'Purple', 'White', 'Purple', 'White', 'White', 'Purple',\n",
       "       'White', 'White', 'Purple', 'Purple', 'White', 'Purple', 'White',\n",
       "       'White', 'Purple', 'Purple', 'Purple', 'White', 'Purple', 'Purple',\n",
       "       'White', 'Purple', 'Purple', 'Purple', 'Purple', 'Purple', 'White',\n",
       "       'Purple', 'White', 'Purple', 'Purple', 'Purple', 'White', 'Purple',\n",
       "       'White', 'Purple', 'White', 'Purple', 'Purple', 'Purple', 'Purple',\n",
       "       'Purple', 'White', 'Purple', 'White', 'Purple', 'Purple', 'Purple',\n",
       "       'Purple', 'White', 'Purple', 'Purple', 'Purple', 'White', 'Purple',\n",
       "       'White', 'Purple', 'White', 'Purple', 'Purple', 'Purple', 'White',\n",
       "       'Purple', 'Purple', 'Purple', 'Purple', 'White', 'Purple',\n",
       "       'Purple', 'White', 'Purple', 'Purple', 'Purple', 'Purple',\n",
       "       'Purple', 'Purple', 'Purple', 'Purple', 'White', 'Purple',\n",
       "       'Purple', 'White', 'Purple', 'Purple', 'Purple', 'Purple',\n",
       "       'Purple', 'Purple', 'Purple', 'Purple', 'Purple', 'White',\n",
       "       'Purple', 'Purple', 'Purple', 'Purple', 'Purple', 'White', 'White',\n",
       "       'White', 'Purple', 'Purple', 'Purple', 'White', 'White', 'White',\n",
       "       'Purple', 'Purple', 'Purple', 'Purple', 'Purple', 'Purple',\n",
       "       'Purple', 'Purple', 'Purple', 'Purple', 'Purple', 'Purple',\n",
       "       'Purple', 'Purple', 'White', 'Purple', 'White', 'Purple', 'Purple',\n",
       "       'Purple', 'Purple', 'Purple', 'Purple', 'Purple', 'Purple',\n",
       "       'Purple', 'Purple', 'White', 'White', 'Purple', 'Purple', 'Purple',\n",
       "       'Purple', 'Purple', 'White', 'White', 'Purple', 'White', 'White',\n",
       "       'Purple', 'Purple', 'White', 'Purple', 'White', 'Purple', 'Purple',\n",
       "       'White', 'Purple', 'Purple', 'Purple', 'White', 'Purple', 'White',\n",
       "       'Purple', 'Purple', 'Purple', 'Purple', 'White', 'White', 'Purple',\n",
       "       'Purple', 'Purple', 'Purple', 'White', 'Purple', 'Purple',\n",
       "       'Purple', 'Purple', 'Purple', 'Purple', 'Purple', 'White',\n",
       "       'Purple', 'White', 'Purple', 'Purple', 'White', 'White', 'Purple',\n",
       "       'Purple', 'Purple', 'Purple', 'Purple', 'White', 'White', 'Purple',\n",
       "       'Purple', 'Purple', 'Purple', 'Purple', 'Purple', 'White',\n",
       "       'Purple', 'Purple', 'Purple', 'Purple', 'White', 'Purple',\n",
       "       'Purple', 'White', 'White', 'Purple', 'Purple', 'Purple', 'Purple',\n",
       "       'Purple', 'Purple', 'Purple', 'Purple', 'White', 'Purple',\n",
       "       'Purple', 'Purple', 'Purple', 'Purple', 'Purple', 'Purple',\n",
       "       'Purple', 'Purple', 'White', 'Purple', 'Purple', 'Purple',\n",
       "       'Purple', 'Purple', 'Purple', 'Purple', 'White', 'Purple',\n",
       "       'Purple', 'Purple', 'White', 'Purple', 'Purple', 'Purple',\n",
       "       'Purple', 'Purple', 'White', 'Purple', 'White', 'Purple', 'Purple',\n",
       "       'White', 'Purple', 'Purple', 'White', 'Purple', 'Purple', 'Purple',\n",
       "       'Purple', 'Purple', 'Purple', 'Purple', 'White', 'Purple',\n",
       "       'Purple', 'Purple'], dtype='<U6')"
      ]
     },
     "execution_count": 14,
     "metadata": {},
     "output_type": "execute_result"
    }
   ],
   "source": [
    "np.random.choice(null, total_plants)"
   ]
  },
  {
   "cell_type": "markdown",
   "metadata": {},
   "source": [
    "we defined a function that computed the `test statistic` and thus, we can use that function to compute the `test statistic` of the sample above. Run the cell below multiple times to see varying `test statistic`s!"
   ]
  },
  {
   "cell_type": "code",
   "execution_count": 15,
   "metadata": {},
   "outputs": [
    {
     "data": {
      "text/plain": [
       "0.0072658772874057975"
      ]
     },
     "execution_count": 15,
     "metadata": {},
     "output_type": "execute_result"
    }
   ],
   "source": [
    "test_stat(np.random.choice(null, total_plants))"
   ]
  },
  {
   "cell_type": "markdown",
   "metadata": {},
   "source": [
    "Since we want to repeat the \"take sample and calculate `test statistic`\" multiple times, we can write a `for` loop,"
   ]
  },
  {
   "cell_type": "code",
   "execution_count": 16,
   "metadata": {},
   "outputs": [
    {
     "data": {
      "text/plain": [
       "array([0.0040366 , 0.00134553, 0.04440258, ..., 0.00618945, 0.01264801,\n",
       "       0.00995694])"
      ]
     },
     "execution_count": 16,
     "metadata": {},
     "output_type": "execute_result"
    }
   ],
   "source": [
    "repetitions = 5000 # 5000 samples of 929 plants! \n",
    "sample_stats = make_array() # An array that will contain the resulting test statistics\n",
    "\n",
    "for i in np.arange(repetitions):\n",
    "    # Compute the test statistic and store in variable called \"test_statistic\"\n",
    "    test_statistic = test_stat(np.random.choice(null, total_plants))\n",
    "    # Append the \"test_statistic\" above to the array \"sample_stats\"\n",
    "    sample_stats = np.append(sample_stats, test_statistic)\n",
    "    \n",
    "sample_stats"
   ]
  },
  {
   "cell_type": "markdown",
   "metadata": {},
   "source": [
    "Above, we have the array `sample_stats` that contains multiple `test statistics` from our multiple samples. We can create our null distribution witht the array above!"
   ]
  },
  {
   "cell_type": "code",
   "execution_count": 17,
   "metadata": {},
   "outputs": [
    {
     "data": {
      "text/html": [
       "<table border=\"1\" class=\"dataframe\">\n",
       "    <thead>\n",
       "        <tr>\n",
       "            <th>Null distribution</th>\n",
       "        </tr>\n",
       "    </thead>\n",
       "    <tbody>\n",
       "        <tr>\n",
       "            <td>0.0040366        </td>\n",
       "        </tr>\n",
       "        <tr>\n",
       "            <td>0.00134553       </td>\n",
       "        </tr>\n",
       "        <tr>\n",
       "            <td>0.0444026        </td>\n",
       "        </tr>\n",
       "        <tr>\n",
       "            <td>0.030409         </td>\n",
       "        </tr>\n",
       "        <tr>\n",
       "            <td>0.00672766       </td>\n",
       "        </tr>\n",
       "        <tr>\n",
       "            <td>0.00134553       </td>\n",
       "        </tr>\n",
       "        <tr>\n",
       "            <td>0.00565124       </td>\n",
       "        </tr>\n",
       "        <tr>\n",
       "            <td>0.00780409       </td>\n",
       "        </tr>\n",
       "        <tr>\n",
       "            <td>0.0121098        </td>\n",
       "        </tr>\n",
       "        <tr>\n",
       "            <td>0.0083423        </td>\n",
       "        </tr>\n",
       "    </tbody>\n",
       "</table>\n",
       "<p>... (4990 rows omitted)</p>"
      ],
      "text/plain": [
       "Null distribution\n",
       "0.0040366\n",
       "0.00134553\n",
       "0.0444026\n",
       "0.030409\n",
       "0.00672766\n",
       "0.00134553\n",
       "0.00565124\n",
       "0.00780409\n",
       "0.0121098\n",
       "0.0083423\n",
       "... (4990 rows omitted)"
      ]
     },
     "execution_count": 17,
     "metadata": {},
     "output_type": "execute_result"
    }
   ],
   "source": [
    "null_dist = Table().with_column('Null distribution', sample_stats)\n",
    "null_dist"
   ]
  },
  {
   "cell_type": "code",
   "execution_count": 18,
   "metadata": {},
   "outputs": [
    {
     "data": {
      "image/png": "[encoded data removed]",
      "text/plain": [
       "<Figure size 432x288 with 1 Axes>"
      ]
     },
     "metadata": {},
     "output_type": "display_data"
    }
   ],
   "source": [
    "null_dist.hist()\n",
    "_ = plt.plot([observed_statistic, observed_statistic], [0, 60])"
   ]
  },
  {
   "cell_type": "markdown",
   "metadata": {},
   "source": [
    "Above is the histogram of our `test statistic`s. It seems that the typical `test statistic` value that we can get if we draw a random sample plant from Mendel's model is between 0 to 0.03. \n",
    "\n",
    "Mendel's `observed test statistic` is represented with the blue verical line. Mendel's `observed test statistic` is within the range of \"likely to occur\" test statistic values. In this case, we have an evidence in favor to Mendel's result.\n",
    "\n",
    "Recall earlier we took the \"weirdness level\". The instructor's level was 85. We compared the instructor's 85 with the students' weirdness level in the class, and compute the probability of obtaining 85. \n",
    "\n",
    "We can calculate the probability of Mendel getting the `blue line` result or a weirder result. Just like in weirdness level example, we can compute the probability of obtaining 85 or greater."
   ]
  },
  {
   "cell_type": "markdown",
   "metadata": {},
   "source": [
    "#### What is a \"good enough\" result?\n",
    "What if the vertical blue line is slightly more to the right? Does that mean Mendel's model is incorrect?\n",
    "\n",
    "Let's say we tried to take a sample and we got a `test statistic` of 0.03."
   ]
  },
  {
   "cell_type": "code",
   "execution_count": 19,
   "metadata": {},
   "outputs": [],
   "source": [
    "tried_again = 0.03"
   ]
  },
  {
   "cell_type": "code",
   "execution_count": 20,
   "metadata": {},
   "outputs": [
    {
     "data": {
      "image/png": "[encoded data removed]",
      "text/plain": [
       "<Figure size 432x288 with 1 Axes>"
      ]
     },
     "metadata": {},
     "output_type": "display_data"
    }
   ],
   "source": [
    "null_dist.hist()\n",
    "_ = plt.plot([tried_again, tried_again], [0, 60])"
   ]
  },
  {
   "cell_type": "markdown",
   "metadata": {},
   "source": [
    "If we obtained the result above result, do we accept or reject Mendel's model?\n",
    "\n",
    "The further the vertical line goes the right, the less area covered by the right side of the line. Recall when we discussed about defining the `test statistic`: \"The greater the `test statistic`, the weirder our result, or the more deviation we obtained from the proposed model\".\n",
    "\n",
    "We want to find the area of the following,\n",
    "<img src = 'area.jpg' width = 400\\>\n",
    "and that will tell us the probability of obtaining our result if the null hypothesis were true.\n",
    "\n",
    "This is similar to when we tried to analyze the weirdness level. We looked at students who picked weirdness level of 85 and above, and that tells us the probability of obtaining at least 85.\n",
    "\n",
    "To calculate the area, we can use the **law of histogram**, which says that the area to the right of the blue line is the proportional values that are above the line.\n",
    "\n",
    "If we look at the `sample_stats` once again from the simulation,"
   ]
  },
  {
   "cell_type": "code",
   "execution_count": 21,
   "metadata": {},
   "outputs": [
    {
     "data": {
      "text/plain": [
       "array([0.0040366 , 0.00134553, 0.04440258, ..., 0.00618945, 0.01264801,\n",
       "       0.00995694])"
      ]
     },
     "execution_count": 21,
     "metadata": {},
     "output_type": "execute_result"
    }
   ],
   "source": [
    "sample_stats"
   ]
  },
  {
   "cell_type": "markdown",
   "metadata": {},
   "source": [
    "We can find out the number of `test statistics` that are equal and above Mendel's `observed_statistic`,"
   ]
  },
  {
   "cell_type": "code",
   "execution_count": 22,
   "metadata": {},
   "outputs": [
    {
     "data": {
      "text/plain": [
       "0.008880516684607098"
      ]
     },
     "execution_count": 22,
     "metadata": {},
     "output_type": "execute_result"
    }
   ],
   "source": [
    "observed_statistic"
   ]
  },
  {
   "cell_type": "code",
   "execution_count": 23,
   "metadata": {},
   "outputs": [
    {
     "data": {
      "text/plain": [
       "array([False, False,  True, ..., False,  True,  True])"
      ]
     },
     "execution_count": 23,
     "metadata": {},
     "output_type": "execute_result"
    }
   ],
   "source": [
    "sample_stats >= observed_statistic"
   ]
  },
  {
   "cell_type": "markdown",
   "metadata": {},
   "source": [
    "Once again, to calculate proportion,  we use `np.count_nonzero` and divide the result with the number of times we took sample."
   ]
  },
  {
   "cell_type": "code",
   "execution_count": 24,
   "metadata": {},
   "outputs": [
    {
     "data": {
      "text/plain": [
       "0.5548"
      ]
     },
     "execution_count": 24,
     "metadata": {},
     "output_type": "execute_result"
    }
   ],
   "source": [
    "np.count_nonzero(sample_stats >= observed_statistic) / len(sample_stats)"
   ]
  },
  {
   "cell_type": "markdown",
   "metadata": {},
   "source": [
    "This means the probability we can obtain the same result as Mendel's observation is the number above.\n",
    "\n",
    "On the other hand, if we tried the same calculation with our own trial,"
   ]
  },
  {
   "cell_type": "code",
   "execution_count": 25,
   "metadata": {},
   "outputs": [],
   "source": [
    "tried_again = 0.03"
   ]
  },
  {
   "cell_type": "code",
   "execution_count": 26,
   "metadata": {},
   "outputs": [
    {
     "data": {
      "text/plain": [
       "0.0348"
      ]
     },
     "execution_count": 26,
     "metadata": {},
     "output_type": "execute_result"
    }
   ],
   "source": [
    "np.count_nonzero(sample_stats >= tried_again) / len(sample_stats)"
   ]
  },
  {
   "cell_type": "markdown",
   "metadata": {},
   "source": [
    "The probability of getting our result if the null hypothesis were true is relatively small!\n",
    "\n",
    "Note that all this time, what we calculated had been the estimated probabilities. These estimated probabilities are called the `p-value`."
   ]
  },
  {
   "cell_type": "markdown",
   "metadata": {},
   "source": [
    "# P-values\n",
    "\n",
    "## Conclusion of a Test\n",
    "We have 2 hypothesese: `null` and `alternative`. How do we choose between the 2?\n",
    "\n",
    "1. Compare the `observed test statistic` to its empirical distribution under the null hypothesis\n",
    "    * Take the `observed test statistic` and see if it is likely to occur by chance if the null hypothesis were true\n",
    "\n",
    "2. If the observed value is **inconsistent**, then we can **reject the null hypothesis**, leaving only the alternative\n",
    "    * If the `observed test statistic` doesn't look like something that is likely to occur by chance, then reject the null hypothesis \n",
    "    \n",
    "3. If the observed value is **consistent**, with the distribution, then the test does not support the `alternative` hypothesis\n",
    "    * If the `observed test statistic` indeed looks like something that is likely to occur if the null hypothesis is true, then it does not support `alternative`\n",
    "    * We can't conclude right away that the `null` hypothesis is true.\n",
    "    \n",
    "How do we determine to reject or \"fail to reject\" the `null` hypothesis?\n",
    "1. Sometimes looking at the visualization is sufficient\n",
    "2. At some other times, it is not easy to tell with just visualization alone. In this case, we use the \"observance significance level\", or `P-value`\n",
    "    * The term **observance significance level** is just a fancy term that says: \"What is the probability of obtaining our result if the `null` hypothesis were true. \n",
    "        * In the pea plant example, if the probability of purple to white is 3:1, then the probability of Mendel obtaining his result was 55%, while the probability of obtaining our result (recall `test statistic`: 0.03) is around 3%."
   ]
  },
  {
   "cell_type": "markdown",
   "metadata": {},
   "source": [
    "## Definition of P-value\n",
    "The P-value is the `probability`,\n",
    "1. under the `null hypothesis`,\n",
    "2. That the `test statistic` is equal to the value that was observed in the data or is even further in the direction of the alternative"
   ]
  },
  {
   "cell_type": "markdown",
   "metadata": {},
   "source": [
    "#### What if when we calculated the `test statistic`, we did not take the absolute value? How will our analysis change?"
   ]
  },
  {
   "cell_type": "code",
   "execution_count": 29,
   "metadata": {},
   "outputs": [],
   "source": [
    "def test_stat(sample):\n",
    "    # This time, we don't use the \"abs\"\n",
    "    result = (np.count_nonzero(sample == 'Purple') \n",
    "                    / len(sample) \n",
    "                    - 0.75)\n",
    "    return result"
   ]
  },
  {
   "cell_type": "code",
   "execution_count": 30,
   "metadata": {},
   "outputs": [
    {
     "data": {
      "text/plain": [
       "array([-0.01695371,  0.01318622,  0.00457481, ..., -0.0040366 ,\n",
       "       -0.01049516, -0.00080732])"
      ]
     },
     "execution_count": 30,
     "metadata": {},
     "output_type": "execute_result"
    }
   ],
   "source": [
    "repetitions = 5000 # 5000 samples of 929 plants! \n",
    "sample_stats = make_array() # An array that will contain the resulting test statistics\n",
    "\n",
    "for i in np.arange(repetitions):\n",
    "    # Compute the test statistic and store in variable called \"test_statistic\"\n",
    "    test_statistic = test_stat(np.random.choice(null, total_plants))\n",
    "    # Append the \"test_statistic\" above to the array \"sample_stats\"\n",
    "    sample_stats = np.append(sample_stats, test_statistic)\n",
    "    \n",
    "sample_stats"
   ]
  },
  {
   "cell_type": "code",
   "execution_count": 31,
   "metadata": {},
   "outputs": [
    {
     "data": {
      "text/html": [
       "<table border=\"1\" class=\"dataframe\">\n",
       "    <thead>\n",
       "        <tr>\n",
       "            <th>Null distribution</th>\n",
       "        </tr>\n",
       "    </thead>\n",
       "    <tbody>\n",
       "        <tr>\n",
       "            <td>-0.0169537       </td>\n",
       "        </tr>\n",
       "        <tr>\n",
       "            <td>0.0131862        </td>\n",
       "        </tr>\n",
       "        <tr>\n",
       "            <td>0.00457481       </td>\n",
       "        </tr>\n",
       "        <tr>\n",
       "            <td>-0.00188375      </td>\n",
       "        </tr>\n",
       "        <tr>\n",
       "            <td>-0.00941873      </td>\n",
       "        </tr>\n",
       "        <tr>\n",
       "            <td>0.0153391        </td>\n",
       "        </tr>\n",
       "        <tr>\n",
       "            <td>0.00780409       </td>\n",
       "        </tr>\n",
       "        <tr>\n",
       "            <td>0.00672766       </td>\n",
       "        </tr>\n",
       "        <tr>\n",
       "            <td>-0.0083423       </td>\n",
       "        </tr>\n",
       "        <tr>\n",
       "            <td>-0.0320237       </td>\n",
       "        </tr>\n",
       "    </tbody>\n",
       "</table>\n",
       "<p>... (4990 rows omitted)</p>"
      ],
      "text/plain": [
       "Null distribution\n",
       "-0.0169537\n",
       "0.0131862\n",
       "0.00457481\n",
       "-0.00188375\n",
       "-0.00941873\n",
       "0.0153391\n",
       "0.00780409\n",
       "0.00672766\n",
       "-0.0083423\n",
       "-0.0320237\n",
       "... (4990 rows omitted)"
      ]
     },
     "execution_count": 31,
     "metadata": {},
     "output_type": "execute_result"
    }
   ],
   "source": [
    "null_dist = Table().with_column('Null distribution', sample_stats)\n",
    "null_dist"
   ]
  },
  {
   "cell_type": "code",
   "execution_count": 32,
   "metadata": {},
   "outputs": [
    {
     "data": {
      "image/png": "[encoded data removed]",
      "text/plain": [
       "<Figure size 432x288 with 1 Axes>"
      ]
     },
     "metadata": {},
     "output_type": "display_data"
    }
   ],
   "source": [
    "null_dist.hist()\n",
    "_ = plt.plot([observed_statistic, observed_statistic], [0, 60])"
   ]
  },
  {
   "cell_type": "markdown",
   "metadata": {},
   "source": [
    "Instead of resembling a stairs, the histogram this time resembles a bell curve! But what does this mean? How does this affect the `P-value`?"
   ]
  },
  {
   "cell_type": "code",
   "execution_count": 33,
   "metadata": {},
   "outputs": [
    {
     "data": {
      "text/plain": [
       "0.2746"
      ]
     },
     "execution_count": 33,
     "metadata": {},
     "output_type": "execute_result"
    }
   ],
   "source": [
    "np.count_nonzero(sample_stats >= observed_statistic) / len(sample_stats)"
   ]
  },
  {
   "cell_type": "markdown",
   "metadata": {},
   "source": [
    "Above, the probability of obtaining Mendel's `observed test statistic` changes from around 55% to around 28%. What does this mean? Discuss on your own!"
   ]
  },
  {
   "cell_type": "markdown",
   "metadata": {},
   "source": [
    "# Conventions of Consistency\n",
    "We discussed about `P-value` and the probability that our result occur. But where is the exact cutoff between rejecting the null and \"failing to reject\" the null?\n",
    "\n",
    "We define `inconsistent` to be when the `test statistic` is in the tail of the `null` distribution.\n",
    "\n",
    "`In the tail`, first convention:\n",
    "1. When the area in the tail is less than 5%, we can say that it is `inconsistent`\n",
    "2. We say the result is `statistically significant`, or \"the chance of obtaining the result is very low\" given the null is true\n",
    "\n",
    "`In the tail`, second convention:\n",
    "1. To the more extreme, we define `inconsistent` as when the area of the tail is less than 1%\n",
    "2. Here we say the result is `highly statistically significant`\n",
    "\n",
    "Generally speaking, we choose our cutoff before running the experiment. \n",
    "\n",
    "Where do these conventions originated from?"
   ]
  },
  {
   "cell_type": "markdown",
   "metadata": {},
   "source": [
    "## Sir Ronald Fisher, 1890 - 1962\n",
    "<img src = 'ronald_fisher.jpg' width = 500\\>"
   ]
  },
  {
   "cell_type": "markdown",
   "metadata": {},
   "source": [
    "## Sir Ronald Fisher, 1925\n",
    "<img src = \"1925.jpg\" width = 500\\>\n",
    "As we can see, there are no mathematical or statistical reason of choosing 5%. However, turns out 5% became the common cutoff for most academic journals and papers. In some fields (e.g. medicine), the cutoff is lower (e.g. 1%) since it involves high risk. In some others, (e.g. psychology), the cutoff is higher.\n",
    "\n",
    "Usually 5% is the cutoff for `P-values`. Thus, if our `P-value` is below 5%, then we can say, \"our data is too inconsistent from the null hypothesis\", and thus we reject the null. On the other hand, if the `P-value` is greater than 5%, then we can say that the data is \"not weird enough\" that we fail to reject the null"
   ]
  },
  {
   "cell_type": "markdown",
   "metadata": {},
   "source": [
    "## Sir Ronald Fisher, 1926\n",
    "<img src = \"1926.jpg\" width = 500\\>"
   ]
  },
  {
   "cell_type": "markdown",
   "metadata": {},
   "source": [
    "# Error Probability\n",
    "There is an alternative method of looking at the `P-value`. One way is to look at it as the **probability of obtaining our result given that the null hypothesis is true\".\n",
    "\n",
    "Another way to look at `P-value` is `Error Probability`. "
   ]
  },
  {
   "cell_type": "markdown",
   "metadata": {},
   "source": [
    "## Can the Conclusion be Wrong?\n",
    "Sometimes, our conclusion can be wrong. Here are the possibilities of wrongness,\n",
    "<img src = 'wrong.jpg' width = 500\\>\n",
    "\n",
    "Back to the \"weirdness level\" example. We want to know if the instructor's level 85 was drawn from the classroom. \n",
    "\n",
    "Possible mistakes:\n",
    "\n",
    "1. The null is true, the instructor was drawn from the class\n",
    "    * But then we run hypothesis test and the test rejects the null (e.g. the probability of getting 85 is too low)\n",
    "    * This is a wrong conclusion\n",
    "    \n",
    "2. The `alternative` is true, the instructor was not drawn from the class\n",
    "    * But when we run hypothesis test, the test doesn't reject the null, which suggest that the instructor was drawn from the class\n",
    "    \n",
    "The `P-value` measures mistake #1. If the `P-value` is 5%, that means there is a 5% chance that the **Null is true** but **the test rejects the null anyway**. \n",
    "* The lower the `P-value`, the better. This way, it gives us lower probability to have this kind of mistake"
   ]
  },
  {
   "cell_type": "markdown",
   "metadata": {},
   "source": [
    "## An Error Probability\n",
    "The cutoff for the P-value is an error probability\n",
    "\n",
    "If:\n",
    "1. Our cutoff is 5%\n",
    "2. And the **null hypothesis happens to be true** (but we don't know this)\n",
    "\n",
    "then there is about a 5% chance that **the test will reject the null hypothesis anyway**\n",
    "\n",
    "This means if we run 20 experiments, there is 1/20 chance that the experiment will give a wrong conclusion."
   ]
  },
  {
   "cell_type": "code",
   "execution_count": null,
   "metadata": {},
   "outputs": [],
   "source": []
  }
 ],
 "metadata": {
  "kernelspec": {
   "display_name": "Python 3",
   "language": "python",
   "name": "python3"
  },
  "language_info": {
   "codemirror_mode": {
    "name": "ipython",
    "version": 3
   },
   "file_extension": ".py",
   "mimetype": "text/x-python",
   "name": "python",
   "nbconvert_exporter": "python",
   "pygments_lexer": "ipython3",
   "version": "3.7.2"
  }
 },
 "nbformat": 4,
 "nbformat_minor": 1
}
