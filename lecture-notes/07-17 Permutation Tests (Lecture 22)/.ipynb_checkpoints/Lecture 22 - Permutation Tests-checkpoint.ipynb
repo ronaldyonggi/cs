{
 "cells": [
  {
   "cell_type": "code",
   "execution_count": 1,
   "metadata": {},
   "outputs": [],
   "source": [
    "from datascience import *\n",
    "import numpy as np\n",
    "%matplotlib inline\n",
    "import matplotlib.pyplot as plt\n",
    "plt.style.use('fivethirtyeight')\n",
    "\n",
    "from ipywidgets import interact, interactive, fixed, interact_manual\n",
    "import ipywidgets as widgets"
   ]
  },
  {
   "cell_type": "markdown",
   "metadata": {},
   "source": [
    "# Deflategate\n",
    "Deflategate was a huge scandal in American NFL. In 2015, The Patriots and The Colts were against each other in NFL semifinals. Each team has its own football and they are responsible for maintaining the pressure of each football. Footballs need to be ensured that they have the right pressure because flatter football is easier to catch. The NFL requirement for football pressure is 12.5 to 13.5 psi. \n",
    "\n",
    "During the second quarter, one of the Colts intercepted the Patriots' football. The player that intercepted the football felt the ball was flat. Thus, the Patriots' was suspected to purposely make their footballs flatter than they should be. During the halftime, the footballs' pressures were investigated. The NFL hired an external law firm to investigate whether the footballs were deflated and whether The Patriots' were cheating. \n",
    "\n",
    "In this case, the question is, \"Did the Patriots' deflate their football?\"\n",
    "\n",
    "Let's examine the football and see if they were indeed deflated. Below is the data obtained from the law firm that investigated the case. There were 2 officials that investigated the footballs: Blakeman and Prioleau. They only managed to measure 4 of the Colts' footballs before the half-time were over. The footballs' pressure data are in psi."
   ]
  },
  {
   "cell_type": "code",
   "execution_count": 2,
   "metadata": {},
   "outputs": [
    {
     "data": {
      "text/html": [
       "<table border=\"1\" class=\"dataframe\">\n",
       "    <thead>\n",
       "        <tr>\n",
       "            <th>Team</th> <th>Blakeman</th> <th>Prioleau</th>\n",
       "        </tr>\n",
       "    </thead>\n",
       "    <tbody>\n",
       "        <tr>\n",
       "            <td>Patriots</td> <td>11.5    </td> <td>11.8    </td>\n",
       "        </tr>\n",
       "        <tr>\n",
       "            <td>Patriots</td> <td>10.85   </td> <td>11.2    </td>\n",
       "        </tr>\n",
       "        <tr>\n",
       "            <td>Patriots</td> <td>11.15   </td> <td>11.5    </td>\n",
       "        </tr>\n",
       "        <tr>\n",
       "            <td>Patriots</td> <td>10.7    </td> <td>11      </td>\n",
       "        </tr>\n",
       "        <tr>\n",
       "            <td>Patriots</td> <td>11.1    </td> <td>11.45   </td>\n",
       "        </tr>\n",
       "        <tr>\n",
       "            <td>Patriots</td> <td>11.6    </td> <td>11.95   </td>\n",
       "        </tr>\n",
       "        <tr>\n",
       "            <td>Patriots</td> <td>11.85   </td> <td>12.3    </td>\n",
       "        </tr>\n",
       "        <tr>\n",
       "            <td>Patriots</td> <td>11.1    </td> <td>11.55   </td>\n",
       "        </tr>\n",
       "        <tr>\n",
       "            <td>Patriots</td> <td>10.95   </td> <td>11.35   </td>\n",
       "        </tr>\n",
       "        <tr>\n",
       "            <td>Patriots</td> <td>10.5    </td> <td>10.9    </td>\n",
       "        </tr>\n",
       "        <tr>\n",
       "            <td>Patriots</td> <td>10.9    </td> <td>11.35   </td>\n",
       "        </tr>\n",
       "        <tr>\n",
       "            <td>Colts   </td> <td>12.7    </td> <td>12.35   </td>\n",
       "        </tr>\n",
       "        <tr>\n",
       "            <td>Colts   </td> <td>12.75   </td> <td>12.3    </td>\n",
       "        </tr>\n",
       "        <tr>\n",
       "            <td>Colts   </td> <td>12.5    </td> <td>12.95   </td>\n",
       "        </tr>\n",
       "        <tr>\n",
       "            <td>Colts   </td> <td>12.55   </td> <td>12.15   </td>\n",
       "        </tr>\n",
       "    </tbody>\n",
       "</table>"
      ],
      "text/plain": [
       "<IPython.core.display.HTML object>"
      ]
     },
     "metadata": {},
     "output_type": "display_data"
    }
   ],
   "source": [
    "football = Table.read_table('deflategate.csv')\n",
    "football.show()"
   ]
  },
  {
   "cell_type": "markdown",
   "metadata": {},
   "source": [
    "What other information do we need to know to do analysis with this data? Or what else do we want to know?\n",
    "\n",
    "The reason these questions are important is because in real life, there will be no guide or steps on what we need to do. We only have the dataset. It is up to us to figure out what information we can get from the data and what else we need to know.\n",
    "\n",
    "The main question here: \"Were the Patriots' footballs more deflated than the Colts'?\"\n",
    "\n",
    "At the beginning of the game, both teams had their footballs' pressure checked by the officials. We can assume that at the beginning of the game, both teams' footballs were within the standard range. The dataset that we have are the footballs' pressure during half-time.\n",
    "\n",
    "When we have a dataset, the first few steps are:\n",
    "1. Look at the data\n",
    "2. Ask more questions\n",
    "3. Do small / initial data manipulations and analysis that will give us measures or values that will help us answering the questions\n",
    "\n",
    "Since we have 2 different measurements, we can take the average of the 2. Below is the resulting array when taking the average,"
   ]
  },
  {
   "cell_type": "code",
   "execution_count": 3,
   "metadata": {},
   "outputs": [],
   "source": [
    "averages = (football.column('Blakeman') + football.column('Prioleau')) / 2"
   ]
  },
  {
   "cell_type": "markdown",
   "metadata": {},
   "source": [
    "Now we can add array above as a new column in the original table. We name the data below `temp` since this is going to be a temporary analysis."
   ]
  },
  {
   "cell_type": "code",
   "execution_count": 4,
   "metadata": {},
   "outputs": [
    {
     "data": {
      "text/html": [
       "<table border=\"1\" class=\"dataframe\">\n",
       "    <thead>\n",
       "        <tr>\n",
       "            <th>Team</th> <th>Blakeman</th> <th>Prioleau</th> <th>Average at halftime</th>\n",
       "        </tr>\n",
       "    </thead>\n",
       "    <tbody>\n",
       "        <tr>\n",
       "            <td>Patriots</td> <td>11.5    </td> <td>11.8    </td> <td>11.65              </td>\n",
       "        </tr>\n",
       "        <tr>\n",
       "            <td>Patriots</td> <td>10.85   </td> <td>11.2    </td> <td>11.025             </td>\n",
       "        </tr>\n",
       "        <tr>\n",
       "            <td>Patriots</td> <td>11.15   </td> <td>11.5    </td> <td>11.325             </td>\n",
       "        </tr>\n",
       "        <tr>\n",
       "            <td>Patriots</td> <td>10.7    </td> <td>11      </td> <td>10.85              </td>\n",
       "        </tr>\n",
       "        <tr>\n",
       "            <td>Patriots</td> <td>11.1    </td> <td>11.45   </td> <td>11.275             </td>\n",
       "        </tr>\n",
       "        <tr>\n",
       "            <td>Patriots</td> <td>11.6    </td> <td>11.95   </td> <td>11.775             </td>\n",
       "        </tr>\n",
       "        <tr>\n",
       "            <td>Patriots</td> <td>11.85   </td> <td>12.3    </td> <td>12.075             </td>\n",
       "        </tr>\n",
       "        <tr>\n",
       "            <td>Patriots</td> <td>11.1    </td> <td>11.55   </td> <td>11.325             </td>\n",
       "        </tr>\n",
       "        <tr>\n",
       "            <td>Patriots</td> <td>10.95   </td> <td>11.35   </td> <td>11.15              </td>\n",
       "        </tr>\n",
       "        <tr>\n",
       "            <td>Patriots</td> <td>10.5    </td> <td>10.9    </td> <td>10.7               </td>\n",
       "        </tr>\n",
       "    </tbody>\n",
       "</table>\n",
       "<p>... (5 rows omitted)</p>"
      ],
      "text/plain": [
       "Team     | Blakeman | Prioleau | Average at halftime\n",
       "Patriots | 11.5     | 11.8     | 11.65\n",
       "Patriots | 10.85    | 11.2     | 11.025\n",
       "Patriots | 11.15    | 11.5     | 11.325\n",
       "Patriots | 10.7     | 11       | 10.85\n",
       "Patriots | 11.1     | 11.45    | 11.275\n",
       "Patriots | 11.6     | 11.95    | 11.775\n",
       "Patriots | 11.85    | 12.3     | 12.075\n",
       "Patriots | 11.1     | 11.55    | 11.325\n",
       "Patriots | 10.95    | 11.35    | 11.15\n",
       "Patriots | 10.5     | 10.9     | 10.7\n",
       "... (5 rows omitted)"
      ]
     },
     "execution_count": 4,
     "metadata": {},
     "output_type": "execute_result"
    }
   ],
   "source": [
    "temp = football.with_column('Average at halftime', averages)\n",
    "temp"
   ]
  },
  {
   "cell_type": "markdown",
   "metadata": {},
   "source": [
    "Recall that the NFL football standard is 12.5 to 13.5 psi **at the beginning of the game**. It is normal for footballs to deflate along the game. It turns out that at the beginning of the game, the Patriots' football pressure were at the minimum standard (around 12.5 psi) while the Colts' football pressures were higher (around 13 psi).\n",
    "\n",
    "If both teams footballs' starting pressure were different, we can't just measure the end pressures at halftime and take conclusion. It could be just the case that since the Colts' footballs were more deflated at the beginning, the pressures seemed even lower at halftime.\n",
    "\n",
    "What we can do is to measure the footballs' **pressure drop** between the pressure at the start of the game and at halftime.\n",
    "\n",
    "At first, we need a collection of initial pressures for both teams. From the original `football` table, there are 11 Patriots' rows and 4 Colts' rows in order. Assume that the Patriots' footballs started at 12.5 psi, while the Colts' footballs started at 13. Thus, we need 11 of 12.5 psis and 4 of 13 psis. The function `np.ones` comes in handy in this case."
   ]
  },
  {
   "cell_type": "code",
   "execution_count": 5,
   "metadata": {},
   "outputs": [],
   "source": [
    "np.ones?"
   ]
  },
  {
   "cell_type": "markdown",
   "metadata": {},
   "source": [
    "If we give an input `3`, `np.ones` will give us an array of 1 with the length of 3 elements."
   ]
  },
  {
   "cell_type": "code",
   "execution_count": 6,
   "metadata": {},
   "outputs": [
    {
     "data": {
      "text/plain": [
       "array([1., 1., 1.])"
      ]
     },
     "execution_count": 6,
     "metadata": {},
     "output_type": "execute_result"
    }
   ],
   "source": [
    "np.ones(3)"
   ]
  },
  {
   "cell_type": "markdown",
   "metadata": {},
   "source": [
    "We can use this to generate initial pressure array. Below is the initial pressure array for the Patriots,"
   ]
  },
  {
   "cell_type": "code",
   "execution_count": 7,
   "metadata": {},
   "outputs": [
    {
     "data": {
      "text/plain": [
       "array([12.5, 12.5, 12.5, 12.5, 12.5, 12.5, 12.5, 12.5, 12.5, 12.5, 12.5])"
      ]
     },
     "execution_count": 7,
     "metadata": {},
     "output_type": "execute_result"
    }
   ],
   "source": [
    "np.ones(11) * 12.5"
   ]
  },
  {
   "cell_type": "markdown",
   "metadata": {},
   "source": [
    "While below is the the initial pressure array for the Colts,"
   ]
  },
  {
   "cell_type": "code",
   "execution_count": 8,
   "metadata": {},
   "outputs": [
    {
     "data": {
      "text/plain": [
       "array([13., 13., 13., 13.])"
      ]
     },
     "execution_count": 8,
     "metadata": {},
     "output_type": "execute_result"
    }
   ],
   "source": [
    "np.ones(4) * 13"
   ]
  },
  {
   "cell_type": "markdown",
   "metadata": {},
   "source": [
    "Using `np.append`, we combine the 2 arrays above into one."
   ]
  },
  {
   "cell_type": "code",
   "execution_count": 9,
   "metadata": {},
   "outputs": [
    {
     "data": {
      "text/plain": [
       "array([12.5, 12.5, 12.5, 12.5, 12.5, 12.5, 12.5, 12.5, 12.5, 12.5, 12.5,\n",
       "       13. , 13. , 13. , 13. ])"
      ]
     },
     "execution_count": 9,
     "metadata": {},
     "output_type": "execute_result"
    }
   ],
   "source": [
    "initials = np.append(np.ones(11) * 12.5, np.ones(4) * 13)\n",
    "initials"
   ]
  },
  {
   "cell_type": "markdown",
   "metadata": {},
   "source": [
    "And now we can add the `initials` above to the `temp` table,"
   ]
  },
  {
   "cell_type": "code",
   "execution_count": 10,
   "metadata": {},
   "outputs": [
    {
     "data": {
      "text/html": [
       "<table border=\"1\" class=\"dataframe\">\n",
       "    <thead>\n",
       "        <tr>\n",
       "            <th>Team</th> <th>Blakeman</th> <th>Prioleau</th> <th>Average at halftime</th> <th>Estimate at start</th>\n",
       "        </tr>\n",
       "    </thead>\n",
       "    <tbody>\n",
       "        <tr>\n",
       "            <td>Patriots</td> <td>11.5    </td> <td>11.8    </td> <td>11.65              </td> <td>12.5             </td>\n",
       "        </tr>\n",
       "        <tr>\n",
       "            <td>Patriots</td> <td>10.85   </td> <td>11.2    </td> <td>11.025             </td> <td>12.5             </td>\n",
       "        </tr>\n",
       "        <tr>\n",
       "            <td>Patriots</td> <td>11.15   </td> <td>11.5    </td> <td>11.325             </td> <td>12.5             </td>\n",
       "        </tr>\n",
       "        <tr>\n",
       "            <td>Patriots</td> <td>10.7    </td> <td>11      </td> <td>10.85              </td> <td>12.5             </td>\n",
       "        </tr>\n",
       "        <tr>\n",
       "            <td>Patriots</td> <td>11.1    </td> <td>11.45   </td> <td>11.275             </td> <td>12.5             </td>\n",
       "        </tr>\n",
       "        <tr>\n",
       "            <td>Patriots</td> <td>11.6    </td> <td>11.95   </td> <td>11.775             </td> <td>12.5             </td>\n",
       "        </tr>\n",
       "        <tr>\n",
       "            <td>Patriots</td> <td>11.85   </td> <td>12.3    </td> <td>12.075             </td> <td>12.5             </td>\n",
       "        </tr>\n",
       "        <tr>\n",
       "            <td>Patriots</td> <td>11.1    </td> <td>11.55   </td> <td>11.325             </td> <td>12.5             </td>\n",
       "        </tr>\n",
       "        <tr>\n",
       "            <td>Patriots</td> <td>10.95   </td> <td>11.35   </td> <td>11.15              </td> <td>12.5             </td>\n",
       "        </tr>\n",
       "        <tr>\n",
       "            <td>Patriots</td> <td>10.5    </td> <td>10.9    </td> <td>10.7               </td> <td>12.5             </td>\n",
       "        </tr>\n",
       "        <tr>\n",
       "            <td>Patriots</td> <td>10.9    </td> <td>11.35   </td> <td>11.125             </td> <td>12.5             </td>\n",
       "        </tr>\n",
       "        <tr>\n",
       "            <td>Colts   </td> <td>12.7    </td> <td>12.35   </td> <td>12.525             </td> <td>13               </td>\n",
       "        </tr>\n",
       "        <tr>\n",
       "            <td>Colts   </td> <td>12.75   </td> <td>12.3    </td> <td>12.525             </td> <td>13               </td>\n",
       "        </tr>\n",
       "        <tr>\n",
       "            <td>Colts   </td> <td>12.5    </td> <td>12.95   </td> <td>12.725             </td> <td>13               </td>\n",
       "        </tr>\n",
       "        <tr>\n",
       "            <td>Colts   </td> <td>12.55   </td> <td>12.15   </td> <td>12.35              </td> <td>13               </td>\n",
       "        </tr>\n",
       "    </tbody>\n",
       "</table>"
      ],
      "text/plain": [
       "<IPython.core.display.HTML object>"
      ]
     },
     "metadata": {},
     "output_type": "display_data"
    }
   ],
   "source": [
    "temp = temp.with_column('Estimate at start', initials)\n",
    "temp.show()"
   ]
  },
  {
   "cell_type": "markdown",
   "metadata": {},
   "source": [
    "With the table above, we can calculate the pressure drop by subtracting the `Estimate at start` with `Average at halftime`."
   ]
  },
  {
   "cell_type": "code",
   "execution_count": 11,
   "metadata": {},
   "outputs": [
    {
     "data": {
      "text/html": [
       "<table border=\"1\" class=\"dataframe\">\n",
       "    <thead>\n",
       "        <tr>\n",
       "            <th>Team</th> <th>Blakeman</th> <th>Prioleau</th> <th>Average at halftime</th> <th>Estimate at start</th> <th>Drop</th>\n",
       "        </tr>\n",
       "    </thead>\n",
       "    <tbody>\n",
       "        <tr>\n",
       "            <td>Patriots</td> <td>11.5    </td> <td>11.8    </td> <td>11.65              </td> <td>12.5             </td> <td>0.85 </td>\n",
       "        </tr>\n",
       "        <tr>\n",
       "            <td>Patriots</td> <td>10.85   </td> <td>11.2    </td> <td>11.025             </td> <td>12.5             </td> <td>1.475</td>\n",
       "        </tr>\n",
       "        <tr>\n",
       "            <td>Patriots</td> <td>11.15   </td> <td>11.5    </td> <td>11.325             </td> <td>12.5             </td> <td>1.175</td>\n",
       "        </tr>\n",
       "        <tr>\n",
       "            <td>Patriots</td> <td>10.7    </td> <td>11      </td> <td>10.85              </td> <td>12.5             </td> <td>1.65 </td>\n",
       "        </tr>\n",
       "        <tr>\n",
       "            <td>Patriots</td> <td>11.1    </td> <td>11.45   </td> <td>11.275             </td> <td>12.5             </td> <td>1.225</td>\n",
       "        </tr>\n",
       "        <tr>\n",
       "            <td>Patriots</td> <td>11.6    </td> <td>11.95   </td> <td>11.775             </td> <td>12.5             </td> <td>0.725</td>\n",
       "        </tr>\n",
       "        <tr>\n",
       "            <td>Patriots</td> <td>11.85   </td> <td>12.3    </td> <td>12.075             </td> <td>12.5             </td> <td>0.425</td>\n",
       "        </tr>\n",
       "        <tr>\n",
       "            <td>Patriots</td> <td>11.1    </td> <td>11.55   </td> <td>11.325             </td> <td>12.5             </td> <td>1.175</td>\n",
       "        </tr>\n",
       "        <tr>\n",
       "            <td>Patriots</td> <td>10.95   </td> <td>11.35   </td> <td>11.15              </td> <td>12.5             </td> <td>1.35 </td>\n",
       "        </tr>\n",
       "        <tr>\n",
       "            <td>Patriots</td> <td>10.5    </td> <td>10.9    </td> <td>10.7               </td> <td>12.5             </td> <td>1.8  </td>\n",
       "        </tr>\n",
       "    </tbody>\n",
       "</table>\n",
       "<p>... (5 rows omitted)</p>"
      ],
      "text/plain": [
       "Team     | Blakeman | Prioleau | Average at halftime | Estimate at start | Drop\n",
       "Patriots | 11.5     | 11.8     | 11.65               | 12.5              | 0.85\n",
       "Patriots | 10.85    | 11.2     | 11.025              | 12.5              | 1.475\n",
       "Patriots | 11.15    | 11.5     | 11.325              | 12.5              | 1.175\n",
       "Patriots | 10.7     | 11       | 10.85               | 12.5              | 1.65\n",
       "Patriots | 11.1     | 11.45    | 11.275              | 12.5              | 1.225\n",
       "Patriots | 11.6     | 11.95    | 11.775              | 12.5              | 0.725\n",
       "Patriots | 11.85    | 12.3     | 12.075              | 12.5              | 0.425\n",
       "Patriots | 11.1     | 11.55    | 11.325              | 12.5              | 1.175\n",
       "Patriots | 10.95    | 11.35    | 11.15               | 12.5              | 1.35\n",
       "Patriots | 10.5     | 10.9     | 10.7                | 12.5              | 1.8\n",
       "... (5 rows omitted)"
      ]
     },
     "execution_count": 11,
     "metadata": {},
     "output_type": "execute_result"
    }
   ],
   "source": [
    "temp = temp.with_column('Drop', temp.column('Estimate at start') - temp.column('Average at halftime'))\n",
    "temp"
   ]
  },
  {
   "cell_type": "markdown",
   "metadata": {},
   "source": [
    "Now we can create a separate table that only contains the necessary information,"
   ]
  },
  {
   "cell_type": "code",
   "execution_count": 12,
   "metadata": {},
   "outputs": [
    {
     "data": {
      "text/html": [
       "<table border=\"1\" class=\"dataframe\">\n",
       "    <thead>\n",
       "        <tr>\n",
       "            <th>Team</th> <th>Drop</th>\n",
       "        </tr>\n",
       "    </thead>\n",
       "    <tbody>\n",
       "        <tr>\n",
       "            <td>Patriots</td> <td>0.85 </td>\n",
       "        </tr>\n",
       "        <tr>\n",
       "            <td>Patriots</td> <td>1.475</td>\n",
       "        </tr>\n",
       "        <tr>\n",
       "            <td>Patriots</td> <td>1.175</td>\n",
       "        </tr>\n",
       "        <tr>\n",
       "            <td>Patriots</td> <td>1.65 </td>\n",
       "        </tr>\n",
       "        <tr>\n",
       "            <td>Patriots</td> <td>1.225</td>\n",
       "        </tr>\n",
       "        <tr>\n",
       "            <td>Patriots</td> <td>0.725</td>\n",
       "        </tr>\n",
       "        <tr>\n",
       "            <td>Patriots</td> <td>0.425</td>\n",
       "        </tr>\n",
       "        <tr>\n",
       "            <td>Patriots</td> <td>1.175</td>\n",
       "        </tr>\n",
       "        <tr>\n",
       "            <td>Patriots</td> <td>1.35 </td>\n",
       "        </tr>\n",
       "        <tr>\n",
       "            <td>Patriots</td> <td>1.8  </td>\n",
       "        </tr>\n",
       "    </tbody>\n",
       "</table>\n",
       "<p>... (5 rows omitted)</p>"
      ],
      "text/plain": [
       "Team     | Drop\n",
       "Patriots | 0.85\n",
       "Patriots | 1.475\n",
       "Patriots | 1.175\n",
       "Patriots | 1.65\n",
       "Patriots | 1.225\n",
       "Patriots | 0.725\n",
       "Patriots | 0.425\n",
       "Patriots | 1.175\n",
       "Patriots | 1.35\n",
       "Patriots | 1.8\n",
       "... (5 rows omitted)"
      ]
     },
     "execution_count": 12,
     "metadata": {},
     "output_type": "execute_result"
    }
   ],
   "source": [
    "drops = temp.select('Team', 'Drop')\n",
    "drops"
   ]
  },
  {
   "cell_type": "markdown",
   "metadata": {},
   "source": [
    "Typically, when we reached the point where we have a data that we think is comparable, the next step is to create a visualization. What visualization is the best to visualize the difference between the Patriots' drops and the Colts' drops?\n",
    "\n",
    "When we have numerical data, usually we want to use histogram to see the distribution. Ideally, we want to create an overlay histogram, one color for the Patriots' distibution, another color for Colts'. Unfortunately, we can't do that since overlay histogram requires 2 columns of numerical data with the same length. We have 11 rows for Patriots but only 4 rows for Colts. \n",
    "\n",
    "Instead, we can visualize the 2 histogram separately while making sure the x-axis matches."
   ]
  },
  {
   "cell_type": "code",
   "execution_count": 13,
   "metadata": {},
   "outputs": [
    {
     "data": {
      "text/plain": [
       "(0.25, 1.9)"
      ]
     },
     "execution_count": 13,
     "metadata": {},
     "output_type": "execute_result"
    },
    {
     "data": {
      "image/png": "[encoded data removed]",
      "text/plain": [
       "<Figure size 432x288 with 1 Axes>"
      ]
     },
     "metadata": {},
     "output_type": "display_data"
    }
   ],
   "source": [
    "drops.where('Team', 'Patriots').hist('Drop')\n",
    "plt.xlim(0.25, 1.9)"
   ]
  },
  {
   "cell_type": "code",
   "execution_count": 14,
   "metadata": {},
   "outputs": [
    {
     "data": {
      "text/plain": [
       "(0.25, 1.9)"
      ]
     },
     "execution_count": 14,
     "metadata": {},
     "output_type": "execute_result"
    },
    {
     "data": {
      "image/png": "[encoded data removed]",
      "text/plain": [
       "<Figure size 432x288 with 1 Axes>"
      ]
     },
     "metadata": {},
     "output_type": "display_data"
    }
   ],
   "source": [
    "drops.where('Team', 'Colts').hist('Drop')\n",
    "plt.xlim(0.25, 1.9)"
   ]
  },
  {
   "cell_type": "markdown",
   "metadata": {},
   "source": [
    "It does seem that the 2 histograms above are different. Is the difference significant? Is it likely to occur by chance if the 2 teams' footballs had the same pressure drop overall? This is when we do hypothesis test on the data.\n",
    "\n",
    "`Null hypothesis`: The Patriots and the Colts pressure drops came from the same distribution.\n",
    "\n",
    "If the `null` is true, this means there is no foul play, it just happened to be that the Patriots' footballs started in different pressures.\n",
    "\n",
    "`Alternative hypothesis`: No, they don't came from the same distribution. Something else was in effect.\n",
    "\n",
    "Once we decided the hypotheses, the next step is to choose the `test statistic` to measure how far we are from the `null`. What's a good `test statistic` for this case?\n",
    "\n",
    "### Idea: average of the pressure drop of each team."
   ]
  },
  {
   "cell_type": "code",
   "execution_count": 15,
   "metadata": {},
   "outputs": [
    {
     "data": {
      "text/html": [
       "<table border=\"1\" class=\"dataframe\">\n",
       "    <thead>\n",
       "        <tr>\n",
       "            <th>Team</th> <th>Drop average</th>\n",
       "        </tr>\n",
       "    </thead>\n",
       "    <tbody>\n",
       "        <tr>\n",
       "            <td>Colts   </td> <td>0.46875     </td>\n",
       "        </tr>\n",
       "        <tr>\n",
       "            <td>Patriots</td> <td>1.20227     </td>\n",
       "        </tr>\n",
       "    </tbody>\n",
       "</table>"
      ],
      "text/plain": [
       "Team     | Drop average\n",
       "Colts    | 0.46875\n",
       "Patriots | 1.20227"
      ]
     },
     "execution_count": 15,
     "metadata": {},
     "output_type": "execute_result"
    }
   ],
   "source": [
    "drops.group('Team', np.average)"
   ]
  },
  {
   "cell_type": "markdown",
   "metadata": {},
   "source": [
    "Indeed, it seems that the Patriots' average drop is greater than that of Colts. We can try computing the average pressure drop difference."
   ]
  },
  {
   "cell_type": "code",
   "execution_count": 16,
   "metadata": {},
   "outputs": [
    {
     "data": {
      "text/plain": [
       "-0.733522727272728"
      ]
     },
     "execution_count": 16,
     "metadata": {},
     "output_type": "execute_result"
    }
   ],
   "source": [
    "averages = drops.group('Team', np.average).column(1)\n",
    "averages.item(0) - averages.item(1)"
   ]
  },
  {
   "cell_type": "markdown",
   "metadata": {},
   "source": [
    "Recall that the `alternative` hypothesis was that the 2 teams' pressure drop did not came from the same distribution. Either team could have the greater drop, but we are trying to measure whether the 2 teams' drops distributions are equal. It does not matter who had the greater drop, all we want to know is that there is a difference.In this case, we take the absolute value. "
   ]
  },
  {
   "cell_type": "code",
   "execution_count": 17,
   "metadata": {},
   "outputs": [
    {
     "data": {
      "text/plain": [
       "0.733522727272728"
      ]
     },
     "execution_count": 17,
     "metadata": {},
     "output_type": "execute_result"
    }
   ],
   "source": [
    "abs(averages.item(0) - averages.item(1))"
   ]
  },
  {
   "cell_type": "markdown",
   "metadata": {},
   "source": [
    "We can create a function for the steps above. The function `difference_in_average_drop` takes a table that contains 2 columns:\n",
    "1. Team names (there can only be 2 different team names in the table. No more, no less)\n",
    "2. Pressure drops\n",
    "\n",
    "And the function returns the absolute value of the difference of the average pressure drop between the 2 teams."
   ]
  },
  {
   "cell_type": "code",
   "execution_count": 18,
   "metadata": {},
   "outputs": [
    {
     "data": {
      "text/plain": [
       "0.733522727272728"
      ]
     },
     "execution_count": 18,
     "metadata": {},
     "output_type": "execute_result"
    }
   ],
   "source": [
    "def difference_in_average_drop(t):\n",
    "    averages = t.group('Team', np.average).column(1)\n",
    "    return abs(averages.item(0) - averages.item(1))\n",
    "\n",
    "difference_in_average_drop(drops)"
   ]
  },
  {
   "cell_type": "markdown",
   "metadata": {},
   "source": [
    "Above is our `observed test statistic`.\n",
    "\n",
    "Now that we have chosen a `test statistic`, the next step is simulation. \n",
    "\n",
    "1. Assume the `null` is true\n",
    "2. Simulate taking multiple samples\n",
    "3. Calculate the `test statistic` (absolute difference in average pressure drops)\n",
    "4. Create a visualization of the distribution of the `test statistic`\n",
    "5. See if the `observed test statistic` is likely to come from the `null` distribution\n",
    "\n",
    "Now the big question is, **how do we draw samples?**"
   ]
  },
  {
   "cell_type": "code",
   "execution_count": 19,
   "metadata": {},
   "outputs": [
    {
     "data": {
      "text/html": [
       "<table border=\"1\" class=\"dataframe\">\n",
       "    <thead>\n",
       "        <tr>\n",
       "            <th>Team</th> <th>Drop</th>\n",
       "        </tr>\n",
       "    </thead>\n",
       "    <tbody>\n",
       "        <tr>\n",
       "            <td>Patriots</td> <td>0.85 </td>\n",
       "        </tr>\n",
       "        <tr>\n",
       "            <td>Patriots</td> <td>1.475</td>\n",
       "        </tr>\n",
       "        <tr>\n",
       "            <td>Patriots</td> <td>1.175</td>\n",
       "        </tr>\n",
       "        <tr>\n",
       "            <td>Patriots</td> <td>1.65 </td>\n",
       "        </tr>\n",
       "        <tr>\n",
       "            <td>Patriots</td> <td>1.225</td>\n",
       "        </tr>\n",
       "        <tr>\n",
       "            <td>Patriots</td> <td>0.725</td>\n",
       "        </tr>\n",
       "        <tr>\n",
       "            <td>Patriots</td> <td>0.425</td>\n",
       "        </tr>\n",
       "        <tr>\n",
       "            <td>Patriots</td> <td>1.175</td>\n",
       "        </tr>\n",
       "        <tr>\n",
       "            <td>Patriots</td> <td>1.35 </td>\n",
       "        </tr>\n",
       "        <tr>\n",
       "            <td>Patriots</td> <td>1.8  </td>\n",
       "        </tr>\n",
       "        <tr>\n",
       "            <td>Patriots</td> <td>1.375</td>\n",
       "        </tr>\n",
       "        <tr>\n",
       "            <td>Colts   </td> <td>0.475</td>\n",
       "        </tr>\n",
       "        <tr>\n",
       "            <td>Colts   </td> <td>0.475</td>\n",
       "        </tr>\n",
       "        <tr>\n",
       "            <td>Colts   </td> <td>0.275</td>\n",
       "        </tr>\n",
       "        <tr>\n",
       "            <td>Colts   </td> <td>0.65 </td>\n",
       "        </tr>\n",
       "    </tbody>\n",
       "</table>"
      ],
      "text/plain": [
       "<IPython.core.display.HTML object>"
      ]
     },
     "metadata": {},
     "output_type": "display_data"
    }
   ],
   "source": [
    "drops.show()"
   ]
  },
  {
   "cell_type": "markdown",
   "metadata": {},
   "source": [
    "Taking sample in this case is not as easy as before. Previously in the coin example, we can just simulate coin flipping. In this case, the `null` says that the drops between the 2 teams are about the same, but we don't know the exact number of the drops. "
   ]
  },
  {
   "cell_type": "markdown",
   "metadata": {},
   "source": [
    "# Comparing 2 Samples\n",
    "When we have 2 samples, we need to have a method of comparing the 2 samples. In our case, we want to know if our 2 samples are different. The trick is **`permutation test`**."
   ]
  },
  {
   "cell_type": "markdown",
   "metadata": {},
   "source": [
    "## Permutation Test\n",
    "The idea is that we are testing whether 2 samples are drawn randomly from the same distribution. Attribute distributions (e.g. pressure drops) are the same for both classes (samples).\n",
    "\n",
    "If the `null` is true, all rearrangements of the attribute values among the 2 classes / samples are equally likely.\n",
    "\n",
    "So how the analysis work is as the following,\n",
    "1. Compute `observed test statistic`\n",
    "2. Shuffle the attribute values\n",
    "3. Recompute `test statistic`\n",
    "4. Repeat step 2 and 3, and create **the distribution of `test statistic` under null hypothesis**\n",
    "5. Compare distribution with `observed test statistic`.\n",
    "\n",
    "\n",
    "\n",
    "If the Colts' and Patriots' pressure drops came from the same distribution (e.g. roughly the same drops, average, variation), \n",
    "<img src = 'permutation.jpg' width = 500/>\n",
    "(The Patriot's drops represented in blue box, Colts' represented in orange box)\n",
    "\n",
    "Then shuffling the pressure drops values for both teams should not affect the outcome.\n",
    "\n",
    "Below we have the original table,"
   ]
  },
  {
   "cell_type": "code",
   "execution_count": 20,
   "metadata": {},
   "outputs": [
    {
     "data": {
      "text/html": [
       "<table border=\"1\" class=\"dataframe\">\n",
       "    <thead>\n",
       "        <tr>\n",
       "            <th>Team</th> <th>Drop</th>\n",
       "        </tr>\n",
       "    </thead>\n",
       "    <tbody>\n",
       "        <tr>\n",
       "            <td>Patriots</td> <td>0.85 </td>\n",
       "        </tr>\n",
       "        <tr>\n",
       "            <td>Patriots</td> <td>1.475</td>\n",
       "        </tr>\n",
       "        <tr>\n",
       "            <td>Patriots</td> <td>1.175</td>\n",
       "        </tr>\n",
       "        <tr>\n",
       "            <td>Patriots</td> <td>1.65 </td>\n",
       "        </tr>\n",
       "        <tr>\n",
       "            <td>Patriots</td> <td>1.225</td>\n",
       "        </tr>\n",
       "        <tr>\n",
       "            <td>Patriots</td> <td>0.725</td>\n",
       "        </tr>\n",
       "        <tr>\n",
       "            <td>Patriots</td> <td>0.425</td>\n",
       "        </tr>\n",
       "        <tr>\n",
       "            <td>Patriots</td> <td>1.175</td>\n",
       "        </tr>\n",
       "        <tr>\n",
       "            <td>Patriots</td> <td>1.35 </td>\n",
       "        </tr>\n",
       "        <tr>\n",
       "            <td>Patriots</td> <td>1.8  </td>\n",
       "        </tr>\n",
       "    </tbody>\n",
       "</table>\n",
       "<p>... (5 rows omitted)</p>"
      ],
      "text/plain": [
       "Team     | Drop\n",
       "Patriots | 0.85\n",
       "Patriots | 1.475\n",
       "Patriots | 1.175\n",
       "Patriots | 1.65\n",
       "Patriots | 1.225\n",
       "Patriots | 0.725\n",
       "Patriots | 0.425\n",
       "Patriots | 1.175\n",
       "Patriots | 1.35\n",
       "Patriots | 1.8\n",
       "... (5 rows omitted)"
      ]
     },
     "execution_count": 20,
     "metadata": {},
     "output_type": "execute_result"
    }
   ],
   "source": [
    "drops"
   ]
  },
  {
   "cell_type": "markdown",
   "metadata": {},
   "source": [
    "Again, we will need to use the `sample` method. If we didn't specify the number of samples we want, by default `sample` will sample all the rows in the table. Make sure that sample without replacement since we don't want duplicate values!"
   ]
  },
  {
   "cell_type": "code",
   "execution_count": 21,
   "metadata": {},
   "outputs": [
    {
     "data": {
      "text/html": [
       "<table border=\"1\" class=\"dataframe\">\n",
       "    <thead>\n",
       "        <tr>\n",
       "            <th>Team</th> <th>Drop</th>\n",
       "        </tr>\n",
       "    </thead>\n",
       "    <tbody>\n",
       "        <tr>\n",
       "            <td>Patriots</td> <td>1.175</td>\n",
       "        </tr>\n",
       "        <tr>\n",
       "            <td>Colts   </td> <td>0.275</td>\n",
       "        </tr>\n",
       "        <tr>\n",
       "            <td>Patriots</td> <td>1.475</td>\n",
       "        </tr>\n",
       "        <tr>\n",
       "            <td>Colts   </td> <td>0.65 </td>\n",
       "        </tr>\n",
       "        <tr>\n",
       "            <td>Patriots</td> <td>1.65 </td>\n",
       "        </tr>\n",
       "        <tr>\n",
       "            <td>Patriots</td> <td>0.85 </td>\n",
       "        </tr>\n",
       "        <tr>\n",
       "            <td>Patriots</td> <td>0.425</td>\n",
       "        </tr>\n",
       "        <tr>\n",
       "            <td>Colts   </td> <td>0.475</td>\n",
       "        </tr>\n",
       "        <tr>\n",
       "            <td>Colts   </td> <td>0.475</td>\n",
       "        </tr>\n",
       "        <tr>\n",
       "            <td>Patriots</td> <td>1.375</td>\n",
       "        </tr>\n",
       "    </tbody>\n",
       "</table>\n",
       "<p>... (5 rows omitted)</p>"
      ],
      "text/plain": [
       "Team     | Drop\n",
       "Patriots | 1.175\n",
       "Colts    | 0.275\n",
       "Patriots | 1.475\n",
       "Colts    | 0.65\n",
       "Patriots | 1.65\n",
       "Patriots | 0.85\n",
       "Patriots | 0.425\n",
       "Colts    | 0.475\n",
       "Colts    | 0.475\n",
       "Patriots | 1.375\n",
       "... (5 rows omitted)"
      ]
     },
     "execution_count": 21,
     "metadata": {},
     "output_type": "execute_result"
    }
   ],
   "source": [
    "drops.sample(with_replacement = False)"
   ]
  },
  {
   "cell_type": "markdown",
   "metadata": {},
   "source": [
    "The problem with the sample above is that the assignment of the team is still the same as the original table, thus the above table is basically the original table. If we compute the `test statistic` with the table above, the result would be the same as the `observed test statistic`.\n",
    "\n",
    "Instead, we can take only the `Drop` values and shuffle it."
   ]
  },
  {
   "cell_type": "code",
   "execution_count": 22,
   "metadata": {},
   "outputs": [
    {
     "data": {
      "text/html": [
       "<table border=\"1\" class=\"dataframe\">\n",
       "    <thead>\n",
       "        <tr>\n",
       "            <th>Drop</th>\n",
       "        </tr>\n",
       "    </thead>\n",
       "    <tbody>\n",
       "        <tr>\n",
       "            <td>0.65 </td>\n",
       "        </tr>\n",
       "        <tr>\n",
       "            <td>1.65 </td>\n",
       "        </tr>\n",
       "        <tr>\n",
       "            <td>1.175</td>\n",
       "        </tr>\n",
       "        <tr>\n",
       "            <td>0.475</td>\n",
       "        </tr>\n",
       "        <tr>\n",
       "            <td>0.85 </td>\n",
       "        </tr>\n",
       "        <tr>\n",
       "            <td>0.425</td>\n",
       "        </tr>\n",
       "        <tr>\n",
       "            <td>1.475</td>\n",
       "        </tr>\n",
       "        <tr>\n",
       "            <td>0.275</td>\n",
       "        </tr>\n",
       "        <tr>\n",
       "            <td>1.8  </td>\n",
       "        </tr>\n",
       "        <tr>\n",
       "            <td>1.175</td>\n",
       "        </tr>\n",
       "    </tbody>\n",
       "</table>\n",
       "<p>... (5 rows omitted)</p>"
      ],
      "text/plain": [
       "Drop\n",
       "0.65\n",
       "1.65\n",
       "1.175\n",
       "0.475\n",
       "0.85\n",
       "0.425\n",
       "1.475\n",
       "0.275\n",
       "1.8\n",
       "1.175\n",
       "... (5 rows omitted)"
      ]
     },
     "execution_count": 22,
     "metadata": {},
     "output_type": "execute_result"
    }
   ],
   "source": [
    "shuffled = drops.select('Drop').sample(with_replacement = False)\n",
    "shuffled"
   ]
  },
  {
   "cell_type": "markdown",
   "metadata": {},
   "source": [
    "Now we can replace the `Drop` in the original table with the data above."
   ]
  },
  {
   "cell_type": "code",
   "execution_count": 23,
   "metadata": {},
   "outputs": [
    {
     "data": {
      "text/html": [
       "<table border=\"1\" class=\"dataframe\">\n",
       "    <thead>\n",
       "        <tr>\n",
       "            <th>Team</th> <th>Drop</th>\n",
       "        </tr>\n",
       "    </thead>\n",
       "    <tbody>\n",
       "        <tr>\n",
       "            <td>Patriots</td> <td>0.65 </td>\n",
       "        </tr>\n",
       "        <tr>\n",
       "            <td>Patriots</td> <td>1.65 </td>\n",
       "        </tr>\n",
       "        <tr>\n",
       "            <td>Patriots</td> <td>1.175</td>\n",
       "        </tr>\n",
       "        <tr>\n",
       "            <td>Patriots</td> <td>0.475</td>\n",
       "        </tr>\n",
       "        <tr>\n",
       "            <td>Patriots</td> <td>0.85 </td>\n",
       "        </tr>\n",
       "        <tr>\n",
       "            <td>Patriots</td> <td>0.425</td>\n",
       "        </tr>\n",
       "        <tr>\n",
       "            <td>Patriots</td> <td>1.475</td>\n",
       "        </tr>\n",
       "        <tr>\n",
       "            <td>Patriots</td> <td>0.275</td>\n",
       "        </tr>\n",
       "        <tr>\n",
       "            <td>Patriots</td> <td>1.8  </td>\n",
       "        </tr>\n",
       "        <tr>\n",
       "            <td>Patriots</td> <td>1.175</td>\n",
       "        </tr>\n",
       "    </tbody>\n",
       "</table>\n",
       "<p>... (5 rows omitted)</p>"
      ],
      "text/plain": [
       "Team     | Drop\n",
       "Patriots | 0.65\n",
       "Patriots | 1.65\n",
       "Patriots | 1.175\n",
       "Patriots | 0.475\n",
       "Patriots | 0.85\n",
       "Patriots | 0.425\n",
       "Patriots | 1.475\n",
       "Patriots | 0.275\n",
       "Patriots | 1.8\n",
       "Patriots | 1.175\n",
       "... (5 rows omitted)"
      ]
     },
     "execution_count": 23,
     "metadata": {},
     "output_type": "execute_result"
    }
   ],
   "source": [
    "sample = drops.select('Team').with_column('Drop', shuffled.column(0))\n",
    "sample"
   ]
  },
  {
   "cell_type": "markdown",
   "metadata": {},
   "source": [
    "We can visualize our sample to see if the drops are indeed shuffled,"
   ]
  },
  {
   "cell_type": "code",
   "execution_count": 24,
   "metadata": {},
   "outputs": [
    {
     "data": {
      "text/plain": [
       "(0.25, 1.9)"
      ]
     },
     "execution_count": 24,
     "metadata": {},
     "output_type": "execute_result"
    },
    {
     "data": {
      "image/png": "[encoded data removed]",
      "text/plain": [
       "<Figure size 432x288 with 1 Axes>"
      ]
     },
     "metadata": {},
     "output_type": "display_data"
    }
   ],
   "source": [
    "sample.where('Team', 'Patriots').hist('Drop')\n",
    "plt.xlim(0.25, 1.9)"
   ]
  },
  {
   "cell_type": "code",
   "execution_count": 25,
   "metadata": {},
   "outputs": [
    {
     "data": {
      "text/plain": [
       "(0.25, 1.9)"
      ]
     },
     "execution_count": 25,
     "metadata": {},
     "output_type": "execute_result"
    },
    {
     "data": {
      "image/png": "[encoded data removed]",
      "text/plain": [
       "<Figure size 432x288 with 1 Axes>"
      ]
     },
     "metadata": {},
     "output_type": "display_data"
    }
   ],
   "source": [
    "sample.where('Team', 'Colts').hist('Drop')\n",
    "plt.xlim(0.25, 1.9)"
   ]
  },
  {
   "cell_type": "markdown",
   "metadata": {},
   "source": [
    "And we can calculate the `test statistic` of this sample,"
   ]
  },
  {
   "cell_type": "code",
   "execution_count": 26,
   "metadata": {},
   "outputs": [
    {
     "data": {
      "text/plain": [
       "0.08579545454545334"
      ]
     },
     "execution_count": 26,
     "metadata": {},
     "output_type": "execute_result"
    }
   ],
   "source": [
    "difference_in_average_drop(sample)"
   ]
  },
  {
   "cell_type": "markdown",
   "metadata": {},
   "source": [
    "If we want do repeat the steps above multiple times, we can start with gathering the necessary codes:"
   ]
  },
  {
   "cell_type": "code",
   "execution_count": 27,
   "metadata": {},
   "outputs": [
    {
     "data": {
      "text/plain": [
       "0.26477272727272805"
      ]
     },
     "execution_count": 27,
     "metadata": {},
     "output_type": "execute_result"
    }
   ],
   "source": [
    "shuffled = drops.select('Drop').sample(with_replacement = False)\n",
    "sample = drops.select('Team').with_column('Drop', shuffled.column(0))\n",
    "difference_in_average_drop(sample)"
   ]
  },
  {
   "cell_type": "markdown",
   "metadata": {},
   "source": [
    "And indeed, if we run the cell above multiple times, we obtain different results! Now we can create a `for` loop out of the code above."
   ]
  },
  {
   "cell_type": "code",
   "execution_count": 28,
   "metadata": {},
   "outputs": [
    {
     "data": {
      "text/plain": [
       "array([0.23806818, 0.09431818, 0.68125   , ..., 0.11875   , 0.2125    ,\n",
       "       0.13693182])"
      ]
     },
     "execution_count": 28,
     "metadata": {},
     "output_type": "execute_result"
    }
   ],
   "source": [
    "repetitions = 10000\n",
    "test_stats = make_array()\n",
    "\n",
    "for i in np.arange(repetitions):\n",
    "    shuffled = drops.select('Drop').sample(with_replacement = False)\n",
    "    sample = drops.select('Team').with_column('Drop', shuffled.column(0))\n",
    "    test_stats = np.append(test_stats, difference_in_average_drop(sample))\n",
    "    \n",
    "test_stats"
   ]
  },
  {
   "cell_type": "markdown",
   "metadata": {},
   "source": [
    "Now we can create a table out of the array above and make a histogram,"
   ]
  },
  {
   "cell_type": "code",
   "execution_count": 29,
   "metadata": {},
   "outputs": [
    {
     "data": {
      "text/html": [
       "<table border=\"1\" class=\"dataframe\">\n",
       "    <thead>\n",
       "        <tr>\n",
       "            <th>Test Statistics Distribution</th>\n",
       "        </tr>\n",
       "    </thead>\n",
       "    <tbody>\n",
       "        <tr>\n",
       "            <td>0.238068                    </td>\n",
       "        </tr>\n",
       "        <tr>\n",
       "            <td>0.0943182                   </td>\n",
       "        </tr>\n",
       "        <tr>\n",
       "            <td>0.68125                     </td>\n",
       "        </tr>\n",
       "        <tr>\n",
       "            <td>0.324432                    </td>\n",
       "        </tr>\n",
       "        <tr>\n",
       "            <td>0.000568182                 </td>\n",
       "        </tr>\n",
       "        <tr>\n",
       "            <td>0.230682                    </td>\n",
       "        </tr>\n",
       "        <tr>\n",
       "            <td>0.0676136                   </td>\n",
       "        </tr>\n",
       "        <tr>\n",
       "            <td>0.435227                    </td>\n",
       "        </tr>\n",
       "        <tr>\n",
       "            <td>0.221023                    </td>\n",
       "        </tr>\n",
       "        <tr>\n",
       "            <td>0.188068                    </td>\n",
       "        </tr>\n",
       "    </tbody>\n",
       "</table>\n",
       "<p>... (9990 rows omitted)</p>"
      ],
      "text/plain": [
       "Test Statistics Distribution\n",
       "0.238068\n",
       "0.0943182\n",
       "0.68125\n",
       "0.324432\n",
       "0.000568182\n",
       "0.230682\n",
       "0.0676136\n",
       "0.435227\n",
       "0.221023\n",
       "0.188068\n",
       "... (9990 rows omitted)"
      ]
     },
     "execution_count": 29,
     "metadata": {},
     "output_type": "execute_result"
    }
   ],
   "source": [
    "null = Table().with_column('Test Statistics Distribution', test_stats)\n",
    "null"
   ]
  },
  {
   "cell_type": "code",
   "execution_count": 30,
   "metadata": {},
   "outputs": [
    {
     "data": {
      "image/png": "[encoded data removed]",
      "text/plain": [
       "<Figure size 432x288 with 1 Axes>"
      ]
     },
     "metadata": {},
     "output_type": "display_data"
    }
   ],
   "source": [
    "null.hist()"
   ]
  },
  {
   "cell_type": "markdown",
   "metadata": {},
   "source": [
    "As we can see, most of the values are close to 0, which makes sense because:\n",
    "\n",
    "1. The `null` hypothesis is that the 2 teams' pressure drops came from the same distribution\n",
    "2. The `test statistic` is the absolute difference of the average pressure drops of the 2 teams\n",
    "3. If they came from the same distribution, if we shuffle the data and calculate the `test statistic`, chances are the result should be close to 0\n",
    "\n",
    "Now recall the `observed test statistic`,"
   ]
  },
  {
   "cell_type": "code",
   "execution_count": 31,
   "metadata": {},
   "outputs": [
    {
     "data": {
      "text/plain": [
       "0.733522727272728"
      ]
     },
     "execution_count": 31,
     "metadata": {},
     "output_type": "execute_result"
    }
   ],
   "source": [
    "observed = difference_in_average_drop(drops)\n",
    "observed"
   ]
  },
  {
   "cell_type": "markdown",
   "metadata": {},
   "source": [
    "Below we have visualization of the `observed test statistic` and the distribution of the `test statistic` assuming the `null` is true, with varying number of samples."
   ]
  },
  {
   "cell_type": "code",
   "execution_count": 32,
   "metadata": {},
   "outputs": [
    {
     "data": {
      "application/vnd.jupyter.widget-view+json": {
       "model_id": "50136a79871348fb9c15549a173bdd60",
       "version_major": 2,
       "version_minor": 0
      },
      "text/plain": [
       "interactive(children=(IntSlider(value=1, description='n', max=10001, min=1, step=200), Output()), _dom_classes…"
      ]
     },
     "metadata": {},
     "output_type": "display_data"
    }
   ],
   "source": [
    "def plot_null_n_samples(n=1):\n",
    "    (Table().with_column('Null distribution', test_stats[:n])\n",
    "     .hist(bins=np.arange(0, 0.9, 0.05)))\n",
    "    plt.plot([observed, observed], [0, 3])\n",
    "    plt.ylim(0, 3)\n",
    "    plt.show()\n",
    "\n",
    "_ = interact(plot_null_n_samples, n=(1, 10001, 200))"
   ]
  },
  {
   "cell_type": "markdown",
   "metadata": {},
   "source": [
    "All that is left is to compute the `P-value`. Recall the `test_stats` array that contains all our test statistics from the `for` loop."
   ]
  },
  {
   "cell_type": "code",
   "execution_count": 33,
   "metadata": {},
   "outputs": [
    {
     "data": {
      "text/plain": [
       "array([0.23806818, 0.09431818, 0.68125   , ..., 0.11875   , 0.2125    ,\n",
       "       0.13693182])"
      ]
     },
     "execution_count": 33,
     "metadata": {},
     "output_type": "execute_result"
    }
   ],
   "source": [
    "test_stats"
   ]
  },
  {
   "cell_type": "markdown",
   "metadata": {},
   "source": [
    "First we find the `test statistic` that are greater than or equal to the `observed test statistic`,"
   ]
  },
  {
   "cell_type": "code",
   "execution_count": 34,
   "metadata": {},
   "outputs": [
    {
     "data": {
      "text/plain": [
       "array([False, False, False, ..., False, False, False])"
      ]
     },
     "execution_count": 34,
     "metadata": {},
     "output_type": "execute_result"
    }
   ],
   "source": [
    "test_stats >= observed"
   ]
  },
  {
   "cell_type": "markdown",
   "metadata": {},
   "source": [
    "Then we can calculate the number of `True`s and divide it with the length of the array to obtain the `P-value`"
   ]
  },
  {
   "cell_type": "code",
   "execution_count": 35,
   "metadata": {},
   "outputs": [
    {
     "data": {
      "text/plain": [
       "0.0049"
      ]
     },
     "execution_count": 35,
     "metadata": {},
     "output_type": "execute_result"
    }
   ],
   "source": [
    "np.count_nonzero(test_stats >= observed) / len(test_stats)"
   ]
  },
  {
   "cell_type": "markdown",
   "metadata": {},
   "source": [
    "Above, the `P-value` is less than 1%, which means that the result is highly statistically significant. We can conclude that there is indeed significant difference between the 2 teams' football pressure drops."
   ]
  },
  {
   "cell_type": "markdown",
   "metadata": {},
   "source": [
    "## Official Analysis\n",
    "Indeed, the official found this to be suspicious as well.\n",
    "\n",
    "\"[T]he average pressure drop of the Patriots game balls exceeded the average pressure drop of the Colt balls by 0.45 to 1.02 psi, depending on various possible assumptions regarding the gauges used, and assuming an initial pressure of 12.5 psi for the Patriots' balls and 13.0 for the Colts balls.\" -- *Investigative report commissioned by the NFL regarding the AFC Championship game on January 18, 2015*\n",
    "\n",
    "Notice in the report above, the range of average pressure drop was calculated as well (0.45 to 1.02). This will be discussed in future lectures.\n",
    "\n",
    "Our test is limited in terms of reaching to a conclusion due to the way we constructed the `null` and `alternative` hypothesis.  We can only conclude that there were some differences between the 2 teams' football drops. We can't say how great the difference were, nor whether Patriots' or the Colts' football pressure dropped more. \n",
    "\n",
    "On the other hand, the official investigation used statistical analysis along with text messages among the players and other factors. "
   ]
  },
  {
   "cell_type": "markdown",
   "metadata": {},
   "source": [
    "## Recap\n",
    "\n",
    "All this time, we had been going over examples with one sample (e.g. one sample of warplanes serial numbers, one set of dice rolls). \n",
    "\n",
    "In this lecture, we went over an example with 2 samples. We compared both and see if there are any difference between the 2. In real world practice, it is often desirable and more often to have 2 samples. For example, in medicine research, we want to see whether our treatment is better than our control, or whether something else is in effect.\n",
    "\n",
    "The typical `null` hypothesis with 2 samples is that the 2 samples came from the same distribution. In this case, we use the **permutation test** to obtain new samples instead of just going back and taking more samples. From there, we calculate the `P-value`."
   ]
  },
  {
   "cell_type": "code",
   "execution_count": null,
   "metadata": {},
   "outputs": [],
   "source": []
  }
 ],
 "metadata": {
  "kernelspec": {
   "display_name": "Python 3",
   "language": "python",
   "name": "python3"
  },
  "language_info": {
   "codemirror_mode": {
    "name": "ipython",
    "version": 3
   },
   "file_extension": ".py",
   "mimetype": "text/x-python",
   "name": "python",
   "nbconvert_exporter": "python",
   "pygments_lexer": "ipython3",
   "version": "3.7.2"
  }
 },
 "nbformat": 4,
 "nbformat_minor": 1
}
