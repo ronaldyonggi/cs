{
 "cells": [
  {
   "cell_type": "code",
   "execution_count": 1,
   "metadata": {},
   "outputs": [],
   "source": [
    "from datascience import *\n",
    "import numpy as np\n",
    "\n",
    "%matplotlib inline\n",
    "import matplotlib.pyplot as plots\n",
    "plots.style.use('fivethirtyeight')\n",
    "\n",
    "from ipywidgets import interact, interactive, fixed, interact_manual\n",
    "import ipywidgets as widgets"
   ]
  },
  {
   "cell_type": "markdown",
   "metadata": {},
   "source": [
    "## Conditional Statements"
   ]
  },
  {
   "cell_type": "code",
   "execution_count": 2,
   "metadata": {},
   "outputs": [
    {
     "name": "stdout",
     "output_type": "stream",
     "text": [
      "3 is positive\n",
      "-3 is negative\n",
      "0 is zero\n"
     ]
    }
   ],
   "source": [
    "def sign(x):\n",
    "    print(x, 'is', end = ' ')\n",
    "    if x > 0:\n",
    "        print('positive')\n",
    "    if x < 0:\n",
    "        print('negative')\n",
    "    if x == 0:\n",
    "        print('zero')\n",
    "\n",
    "sign(3)\n",
    "sign(-3)\n",
    "sign(0)"
   ]
  },
  {
   "cell_type": "markdown",
   "metadata": {},
   "source": [
    "## For Statements"
   ]
  },
  {
   "cell_type": "code",
   "execution_count": 3,
   "metadata": {},
   "outputs": [
    {
     "data": {
      "text/plain": [
       "array([1, 2, 3, 4])"
      ]
     },
     "execution_count": 3,
     "metadata": {},
     "output_type": "execute_result"
    }
   ],
   "source": [
    "np.append(make_array(1, 2, 3), 4)"
   ]
  },
  {
   "cell_type": "code",
   "execution_count": 4,
   "metadata": {},
   "outputs": [
    {
     "data": {
      "text/plain": [
       "array([1, 2, 3, 4, 5, 6])"
      ]
     },
     "execution_count": 4,
     "metadata": {},
     "output_type": "execute_result"
    }
   ],
   "source": [
    "np.append(make_array(1, 2, 3), make_array(4, 5, 6))"
   ]
  },
  {
   "cell_type": "code",
   "execution_count": 5,
   "metadata": {},
   "outputs": [
    {
     "data": {
      "text/plain": [
       "array([0, 1, 2, 3])"
      ]
     },
     "execution_count": 5,
     "metadata": {},
     "output_type": "execute_result"
    }
   ],
   "source": [
    "np.arange(4)"
   ]
  },
  {
   "cell_type": "code",
   "execution_count": 9,
   "metadata": {},
   "outputs": [
    {
     "name": "stdout",
     "output_type": "stream",
     "text": [
      "Iteration: 0\n",
      "Iteration: 1\n",
      "Iteration: 2\n",
      "Iteration: 3\n"
     ]
    }
   ],
   "source": [
    "for i in np.arange(4):\n",
    "    print('Iteration:', i )"
   ]
  },
  {
   "cell_type": "markdown",
   "metadata": {},
   "source": [
    "# Simulation (Inferential Thinking & Lecture Video)"
   ]
  },
  {
   "cell_type": "markdown",
   "metadata": {},
   "source": [
    "Simulation is the **process of using a computer to mimic a physical experiment**. In this class, those experiments will almost invariably involve chance.\n",
    "\n",
    "Previously, we simulated the results of coin tosses. The steps in that simulation were examples of the steps that will constitute every simulation we do in this course. In this section we will set out those steps and follow them in examples.\n",
    "\n",
    "### Step 1: What to Simulate\n",
    "Specify the quantity you want to simulate. For example, you might decide that you want to simulate the outcomes of coin tosses.\n",
    "\n",
    "### Step 2: Simulating One Value\n",
    "Figure out how to simulate 1 value of the quantity you specified in Step 1. In our example, you have to figure out how to simulate the outcome of a coin toss. If your quantity is complicated, you might need several lines of code to come up with one simulated value.\n",
    "\n",
    "### Step 3: Number of Repetition\n",
    "Decide how many times you want to simulate the quantity. You will have to repeat Step 2 that many times. In previos examples we simulated the outcomes of 1000 tosses of a coin, and so we needed 1000 repetitions of generating the outcome of a single toss.\n",
    "\n",
    "### Step 4: Coding the Simulation\n",
    "* Create an empty array to collect all the simulated values\n",
    "    * Call this the `collection array`\n",
    "* Create a “repetitions sequence\" \n",
    "    * A sequence whose length is the number of repetitions you specified in Step 3\n",
    "    * For n repetitions we will almost always use the sequence `np.arange(n)`\n",
    "* Create a `for` loop. For each element of the repetitions sequence:\n",
    "    * Simulate one value based on the code you developed in Step 2.\n",
    "    * Augment the collection array with this simulated value.\n",
    "\n",
    "Once you have carried out the steps above, your simulation is done. The collection array contains all the simulated values.\n",
    "\n",
    "At this point you can use the collection array as you would any other array. You can visualize the distribution of the simulated values, count how many simulated values fall into a particular category, and so on.\n",
    "\n",
    "### Number of 'Heads' in 100 Tosses\n",
    "It is natural to expect that in 100 tosses of a coin, there will be 50 heads, give or take a few.\n",
    "\n",
    "But how many is “a few”? What’s the chance of getting exactly 50 heads? Questions like these matter in data science not only because they are about interesting aspects of randomness, but also because they can be used in analyzing experiments where assignments to treatment and control groups are decided by the toss of a coin.\n",
    "\n",
    "In this example we will **simulate the number of heads in 100 tosses of a coin**. The histogram of our results will give us some insight into how many heads are likely.\n",
    "\n",
    "Let’s get started on the simulation, following the steps above.\n",
    "\n",
    "### Step 1: What to Simulate\n",
    "The quantity we are going to simulate is **the number of heads in 100 coin tosses**.\n",
    "\n",
    "### Step 2: Simulating One Value\n",
    "We have to figure out how to make one set of 100 tosses and count the number of heads. Let’s start by creating a coin."
   ]
  },
  {
   "cell_type": "code",
   "execution_count": 28,
   "metadata": {},
   "outputs": [
    {
     "data": {
      "text/plain": [
       "array(['Heads', 'Tails'], dtype='<U5')"
      ]
     },
     "execution_count": 28,
     "metadata": {},
     "output_type": "execute_result"
    }
   ],
   "source": [
    "# Create a 'coin', which is an array that containts 'heads' and 'tails'\n",
    "coin = make_array('Heads', 'Tails')\n",
    "coin"
   ]
  },
  {
   "cell_type": "markdown",
   "metadata": {},
   "source": [
    "We used `np.random.choice` and a `for` loop to generate multiple tosses. But sets of coin tosses are needed so often in data science that np.random.choice simulates them for us if we include a second argument that is the number of times to toss.\n",
    "\n",
    "Here are the results of 10 tosses."
   ]
  },
  {
   "cell_type": "code",
   "execution_count": 15,
   "metadata": {},
   "outputs": [
    {
     "data": {
      "text/plain": [
       "array(['tails', 'heads', 'heads', 'heads', 'heads', 'heads', 'tails',\n",
       "       'tails', 'tails', 'tails'], dtype='<U5')"
      ]
     },
     "execution_count": 15,
     "metadata": {},
     "output_type": "execute_result"
    }
   ],
   "source": [
    "# Toss coin 10 times\n",
    "np.random.choice(coin, 10)"
   ]
  },
  {
   "cell_type": "code",
   "execution_count": 29,
   "metadata": {},
   "outputs": [
    {
     "data": {
      "text/plain": [
       "5"
      ]
     },
     "execution_count": 29,
     "metadata": {},
     "output_type": "execute_result"
    }
   ],
   "source": [
    "# Toss coin 10 times and counts how many 'heads' Python get\n",
    "np.count_nonzero(np.random.choice(coin, 10) == 'Heads')"
   ]
  },
  {
   "cell_type": "markdown",
   "metadata": {},
   "source": [
    "Our goal is to simulate the number of heads in 100 tosses, not 10. To do that we can just repeat the same code, replacing 10 by 100."
   ]
  },
  {
   "cell_type": "code",
   "execution_count": 30,
   "metadata": {},
   "outputs": [
    {
     "data": {
      "text/plain": [
       "48"
      ]
     },
     "execution_count": 30,
     "metadata": {},
     "output_type": "execute_result"
    }
   ],
   "source": [
    "outcomes = np.random.choice(coin, 100)\n",
    "num_heads = np.count_nonzero(outcomes == 'Heads')\n",
    "num_heads"
   ]
  },
  {
   "cell_type": "markdown",
   "metadata": {},
   "source": [
    "### Step 3: Number of Repetitions\n",
    "How many repetitions we want is up to us. The more we use, the more reliable our simulations will be, but the longer it will take to run the code. Let’s go for 10,000 repetitions. That means we are going to do the following 20 times:\n",
    "\n",
    "Toss a coin 100 times and count the number of heads.\n",
    "\n",
    "### Step 4: Coding the Simulation"
   ]
  },
  {
   "cell_type": "code",
   "execution_count": 38,
   "metadata": {},
   "outputs": [
    {
     "data": {
      "text/plain": [
       "array([56., 49., 42., ..., 48., 45., 54.])"
      ]
     },
     "execution_count": 38,
     "metadata": {},
     "output_type": "execute_result"
    }
   ],
   "source": [
    "# Create an empty array that will contain the simulated values\n",
    "heads = make_array()\n",
    "\n",
    "# Create the repetitions sequence\n",
    "num_repetitions = 10000\n",
    "repetitions_sequence = np.arange(num_repetitions)\n",
    "\n",
    "# for loop\n",
    "for i in repetitions_sequence:\n",
    "    \n",
    "    # simulate one round of 100 coin tosses\n",
    "    outcomes = np.random.choice(coin, 100)\n",
    "    num_heads = np.count_nonzero(outcomes == 'Heads')\n",
    "    \n",
    "    # Add the result of the 100 coin tosses round to the array 'heads'\n",
    "    heads = np.append(heads, num_heads)  \n",
    "heads\n",
    "# That's it! The simulation is done."
   ]
  },
  {
   "cell_type": "markdown",
   "metadata": {},
   "source": [
    "Check that the array heads contains 10,000 entries, one for each repetition of the experiment."
   ]
  },
  {
   "cell_type": "code",
   "execution_count": 34,
   "metadata": {},
   "outputs": [
    {
     "data": {
      "text/plain": [
       "10000"
      ]
     },
     "execution_count": 34,
     "metadata": {},
     "output_type": "execute_result"
    }
   ],
   "source": [
    "len(heads)"
   ]
  },
  {
   "cell_type": "markdown",
   "metadata": {},
   "source": [
    "To get a sense of the variability in the number of heads in 100 tosses, we can collect the results in a table and draw a histogram."
   ]
  },
  {
   "cell_type": "code",
   "execution_count": 41,
   "metadata": {},
   "outputs": [
    {
     "data": {
      "text/html": [
       "<table border=\"1\" class=\"dataframe\">\n",
       "    <thead>\n",
       "        <tr>\n",
       "            <th>Repetition</th> <th>Number of Heads</th>\n",
       "        </tr>\n",
       "    </thead>\n",
       "    <tbody>\n",
       "        <tr>\n",
       "            <td>1         </td> <td>56             </td>\n",
       "        </tr>\n",
       "        <tr>\n",
       "            <td>2         </td> <td>49             </td>\n",
       "        </tr>\n",
       "        <tr>\n",
       "            <td>3         </td> <td>42             </td>\n",
       "        </tr>\n",
       "        <tr>\n",
       "            <td>4         </td> <td>49             </td>\n",
       "        </tr>\n",
       "        <tr>\n",
       "            <td>5         </td> <td>45             </td>\n",
       "        </tr>\n",
       "        <tr>\n",
       "            <td>6         </td> <td>50             </td>\n",
       "        </tr>\n",
       "        <tr>\n",
       "            <td>7         </td> <td>53             </td>\n",
       "        </tr>\n",
       "        <tr>\n",
       "            <td>8         </td> <td>50             </td>\n",
       "        </tr>\n",
       "        <tr>\n",
       "            <td>9         </td> <td>47             </td>\n",
       "        </tr>\n",
       "        <tr>\n",
       "            <td>10        </td> <td>49             </td>\n",
       "        </tr>\n",
       "    </tbody>\n",
       "</table>\n",
       "<p>... (9990 rows omitted)</p>"
      ],
      "text/plain": [
       "Repetition | Number of Heads\n",
       "1          | 56\n",
       "2          | 49\n",
       "3          | 42\n",
       "4          | 49\n",
       "5          | 45\n",
       "6          | 50\n",
       "7          | 53\n",
       "8          | 50\n",
       "9          | 47\n",
       "10         | 49\n",
       "... (9990 rows omitted)"
      ]
     },
     "execution_count": 41,
     "metadata": {},
     "output_type": "execute_result"
    }
   ],
   "source": [
    "simulation_results = Table().with_column(\n",
    "    'Repetition', np.arange(1, num_repetitions + 1),\n",
    "    'Number of Heads', heads\n",
    ")\n",
    "simulation_results"
   ]
  },
  {
   "cell_type": "code",
   "execution_count": 42,
   "metadata": {},
   "outputs": [
    {
     "data": {
      "image/png": "[encoded data removed]",
      "text/plain": [
       "<Figure size 432x288 with 1 Axes>"
      ]
     },
     "metadata": {},
     "output_type": "display_data"
    }
   ],
   "source": [
    "simulation_results.hist('Number of Heads', bins = np.arange(30.5, 69.6, 1))"
   ]
  },
  {
   "cell_type": "markdown",
   "metadata": {},
   "source": [
    "Each bins has width 1 and is centered at each value of the number of heads.\n",
    "\n",
    "Not surprisingly, the histogram looks roughly symmetric around 50 heads. The height of the bar at 50 is about 8% per unit. Since each bin is 1 unit wide, this is the same as saying that about 8% of the repetitions produced exactly 50 heads. That’s not a huge percent, but it’s the largest compared to the percent at every other number of heads.\n",
    "\n",
    "The histogram also shows that in almost all of the repetitions, the number of heads in 100 tosses was somewhere between 35 and 65. Indeed, the bulk of the repetitions produced numbers of heads in the range 45 to 55.\n",
    "\n",
    "While in theory it is possible that the number of heads can be anywhere between 0 and 100, the simulation shows that the range of probable values is much smaller.\n",
    "\n",
    "This is an instance of a more general phenomenon about the variability in coin tossing, as we will see later in the course.\n",
    "\n",
    "### A More Compact Code\n",
    "We wrote the code for the simulation to show each of the steps in detail. Here are the same steps written in a more compact form. You can see that the code starts out the same way as before, but then some steps are combined."
   ]
  },
  {
   "cell_type": "code",
   "execution_count": 45,
   "metadata": {},
   "outputs": [
    {
     "data": {
      "text/plain": [
       "array([51., 53., 50., ..., 55., 50., 47.])"
      ]
     },
     "execution_count": 45,
     "metadata": {},
     "output_type": "execute_result"
    }
   ],
   "source": [
    "heads = make_array()\n",
    "\n",
    "num_repetitions = 10000\n",
    "\n",
    "for i in np.arange(num_repetitions):\n",
    "    outcomes = np.random.choice(coin, 100)\n",
    "    heads = np.append(heads, np.count_nonzero(outcomes == 'Heads'))\n",
    "    \n",
    "heads"
   ]
  },
  {
   "cell_type": "markdown",
   "metadata": {},
   "source": [
    "### Moves in Monopoly\n",
    "Each move in the game Monopoly is determined by the result of 2 rolls of a die. If you play Monopoly, what should you expect to get when you roll the die two times?\n",
    "\n",
    "We can explore this by simulating the sum of 2 rolls of a die. We will run the simulation 10,000 times as we did in the previous example. Notice that is this paragraph we have completed Steps 1 and 3 of our simulation process.\n",
    "\n",
    "Step 2 is the one in which we simulate one pair of rolls and add up the number of spots."
   ]
  },
  {
   "cell_type": "code",
   "execution_count": 49,
   "metadata": {},
   "outputs": [
    {
     "data": {
      "text/plain": [
       "6"
      ]
     },
     "execution_count": 49,
     "metadata": {},
     "output_type": "execute_result"
    }
   ],
   "source": [
    "# 'die' is an array containing all possible scores you can get from a die (1-6)\n",
    "die = np.arange(1, 7)\n",
    "# Below: sum the result of rolling 2 die\n",
    "sum(np.random.choice(die, 2))"
   ]
  },
  {
   "cell_type": "markdown",
   "metadata": {},
   "source": [
    "That simulates a value of the sum of 2 rolls. We are now all set to run the simulation according to the steps that are now familiar."
   ]
  },
  {
   "cell_type": "code",
   "execution_count": 51,
   "metadata": {},
   "outputs": [],
   "source": [
    "# 'moves' is an array where each element contains the result of rolling 2 die\n",
    "moves = make_array()\n",
    "\n",
    "num_repetitions = 10000\n",
    "\n",
    "for i in np.arange(num_repetitions):\n",
    "    one_move = sum(np.random.choice(die, 2))\n",
    "    moves = np.append(moves, one_move)"
   ]
  },
  {
   "cell_type": "code",
   "execution_count": 52,
   "metadata": {},
   "outputs": [
    {
     "data": {
      "image/png": "[encoded data removed]",
      "text/plain": [
       "<Figure size 432x288 with 1 Axes>"
      ]
     },
     "metadata": {},
     "output_type": "display_data"
    }
   ],
   "source": [
    "results = Table().with_column(\n",
    "    'Repetition', np.arange(1, num_repetitions + 1),\n",
    "    'Sum of Two Rolls', moves\n",
    ")\n",
    "\n",
    "results.hist('Sum of Two Rolls', bins = np.arange(1.5, 12.6, 1))"
   ]
  },
  {
   "cell_type": "markdown",
   "metadata": {},
   "source": [
    "7 is the most common value, with the frequencies falling off symmetrically on either side."
   ]
  },
  {
   "cell_type": "markdown",
   "metadata": {},
   "source": [
    "## Control Statements\n",
    "These statements control the sequence of computations that are performed in a program.\n",
    "* The keywords `if` and `for` begin control statements\n",
    "* The purpose of `if` is to define functions that choose different behavior based on their arguments\n",
    "* The purpose of `for` is to perform a computation for every element in a list or array"
   ]
  },
  {
   "cell_type": "markdown",
   "metadata": {},
   "source": [
    "## The [Monty Hall](https://en.wikipedia.org/wiki/Monty_Hall_problem) Problem\n",
    "The setting is derived from a television game show called “Let’s Make a Deal”. Monty Hall hosted this show in the 1960’s, and it has since led to a number of spin-offs. An exciting part of the show was that while the contestants had the chance to win great prizes, they might instead end up with “zonks” that were less desirable. This is the basis for what is now known as the Monty Hall problem.\n",
    "\n",
    "The setting is a game show in which the contestant is faced with three closed doors. Behind one of the doors is a fancy car, and behind each of the other two there is a goat. The contestant doesn’t know where the car is, and has to attempt to find it under the following rules.\n",
    "\n",
    "* The contestant makes an initial choice, but that door isn’t opened.\n",
    "* At least one of the other 2 doors must have a goat behind it. Monty opens one of these doors to reveal a goat.\n",
    "<img src = 'monty.png'/>\n",
    "* There are 2 doors left, one of which was the contestant’s original choice\n",
    "    * One of the doors has the car behind it, and the other one has a goat\n",
    "    * The contestant now gets to choose which of the two doors to open\n",
    "    \n",
    "The contestant has a decision to make. Which door should he/she choose to open, if he/she wants the car? Should he/she stick with his/her initial choice, or switch to the other door? That is the Monty Hall problem."
   ]
  },
  {
   "cell_type": "markdown",
   "metadata": {},
   "source": [
    "## Video Lecture Version\n",
    "Write down the steps of what we need to do:\n",
    "1. Put prizes behind doors randomly\n",
    "2. Pick a door\n",
    "3. Monty opens a door\n",
    "4. Reveal what was behind each door"
   ]
  },
  {
   "cell_type": "code",
   "execution_count": 3,
   "metadata": {},
   "outputs": [
    {
     "data": {
      "text/plain": [
       "array([1, 2, 3])"
      ]
     },
     "execution_count": 3,
     "metadata": {},
     "output_type": "execute_result"
    }
   ],
   "source": [
    "# Create an array of doors and label them '1, 2, 3'\n",
    "doors = make_array(1, 2, 3)\n",
    "doors"
   ]
  },
  {
   "cell_type": "code",
   "execution_count": 26,
   "metadata": {},
   "outputs": [
    {
     "data": {
      "text/plain": [
       "array(['car', 'first goat', 'second goat'], dtype='<U11')"
      ]
     },
     "execution_count": 26,
     "metadata": {},
     "output_type": "execute_result"
    }
   ],
   "source": [
    "# Create an array of the prizes\n",
    "prizes = make_array('car', 'first goat', 'second goat')\n",
    "prizes"
   ]
  },
  {
   "cell_type": "code",
   "execution_count": 5,
   "metadata": {},
   "outputs": [
    {
     "data": {
      "text/plain": [
       "array(['first goat', 'car', 'second goat'], dtype='<U11')"
      ]
     },
     "execution_count": 5,
     "metadata": {},
     "output_type": "execute_result"
    }
   ],
   "source": [
    "# Choose a prize randomly\n",
    "np.random.choice(prizes, 3, replace = False)\n",
    "# By default. np.random.choice takes a random draw with replacement.\n",
    "# This means it's possible to get 2 cars (i.e. ['car', 'first goat', 'car']).\n",
    "\n",
    "# with replace = False, this can be avoided"
   ]
  },
  {
   "cell_type": "code",
   "execution_count": 21,
   "metadata": {},
   "outputs": [
    {
     "data": {
      "text/html": [
       "<table border=\"1\" class=\"dataframe\">\n",
       "    <thead>\n",
       "        <tr>\n",
       "            <th>Door</th> <th>Prize</th>\n",
       "        </tr>\n",
       "    </thead>\n",
       "    <tbody>\n",
       "        <tr>\n",
       "            <td>1   </td> <td>first goat </td>\n",
       "        </tr>\n",
       "        <tr>\n",
       "            <td>2   </td> <td>car        </td>\n",
       "        </tr>\n",
       "        <tr>\n",
       "            <td>3   </td> <td>second goat</td>\n",
       "        </tr>\n",
       "    </tbody>\n",
       "</table>"
      ],
      "text/plain": [
       "Door | Prize\n",
       "1    | first goat\n",
       "2    | car\n",
       "3    | second goat"
      ]
     },
     "execution_count": 21,
     "metadata": {},
     "output_type": "execute_result"
    }
   ],
   "source": [
    "def setup():\n",
    "    \"\"\" Return a random game of Let's Make a Deal \"\"\"\n",
    "    return Table().with_columns(\n",
    "    'Door', doors,\n",
    "    'Prize', np.random.choice(prizes, 3, replace = False)\n",
    "    )\n",
    "\n",
    "a_game = setup()\n",
    "a_game"
   ]
  },
  {
   "cell_type": "markdown",
   "metadata": {},
   "source": [
    "**How would you define a function `behind` that takes in a game and a door number and returns the prize behind the door (e.g. `first goat`)?**"
   ]
  },
  {
   "cell_type": "code",
   "execution_count": 25,
   "metadata": {},
   "outputs": [
    {
     "name": "stdout",
     "output_type": "stream",
     "text": [
      "Behind door number 1 is the first goat\n",
      "Behind door number 2 is the car\n",
      "Behind door number 3 is the second goat\n"
     ]
    }
   ],
   "source": [
    "def behind(game, door):\n",
    "    \"\"\"Return the prize behind a door\n",
    "    For example: behind(a_game, 2)\"\"\"\n",
    "    return game.where('Door',door).column(1).item(0)\n",
    "#Notice that the 'setup' function returns a table.\n",
    "# When we do where('Door', door), we're filtering the table by the door number\n",
    "# we put as the argument. The outcome of this filter is a table of just one row, which contains\n",
    "# the door we want\n",
    "\n",
    "for door in doors:\n",
    "    print('Behind door number', door, 'is the', behind(a_game, door))"
   ]
  },
  {
   "cell_type": "markdown",
   "metadata": {},
   "source": [
    "**How would you define a function that does the opposite? (Takes in a game and a prize and return the door that hides the prize)**"
   ]
  },
  {
   "cell_type": "code",
   "execution_count": 27,
   "metadata": {},
   "outputs": [
    {
     "name": "stdout",
     "output_type": "stream",
     "text": [
      "The car is behind door number 2\n",
      "The first goat is behind door number 1\n",
      "The second goat is behind door number 3\n"
     ]
    }
   ],
   "source": [
    "def location(game, prize):\n",
    "    \"\"\" Return the door that hides a prize\"\"\"\n",
    "    return game.where('Prize', prize).column(0).item(0)\n",
    "\n",
    "for prize in prizes:\n",
    "    print('The', prize,'is behind door number', location(a_game, prize))"
   ]
  },
  {
   "cell_type": "markdown",
   "metadata": {},
   "source": [
    "**How would you write a function `expose` that takes in a game and a guessed door number and shows which door Monty Hall would open to expose a goat?**"
   ]
  },
  {
   "cell_type": "code",
   "execution_count": 61,
   "metadata": {},
   "outputs": [],
   "source": [
    "def expose(game, guess):\n",
    "    \"\"\" Return the door that Monty Hall will open to expose a goat\"\"\"\n",
    "    return np.random.choice(a_game.where('Door', are.not_equal_to(guess)).where('Prize', are.not_equal_to('car')).column('Door'))"
   ]
  },
  {
   "cell_type": "markdown",
   "metadata": {},
   "source": [
    "## Solution (Inferential Thinking)\n",
    "In any problem involving chances, the assumptions about randomness are important. It’s reasonable to assume that there is a $\\frac{1}{3}$ chance that the contestant’s initial choice is the door that has the car behind it.\n",
    "\n",
    "The solution to the problem is quite straightforward under this assumption, though the straightforward solution doesn’t convince everyone.\n",
    "\n",
    "* The chance that the car is behind the previously chosen door is $\\frac{1}{3}$\n",
    "* The car is behind either the originally chosen door or the door that remains. It can’t be anywhere else.\n",
    "* Therefore, the chance that the car is behind the door that remains is $\\frac{2}{3}$.\n",
    "* Therefore, the contestant should switch.\n",
    "Let's simulate the game and see how the results turn out"
   ]
  },
  {
   "cell_type": "markdown",
   "metadata": {},
   "source": [
    "### Step 1: What to Simulate\n",
    "For each play we will simulate what’s behind all 3 doors:\n",
    "\n",
    "* The one the contestant first picks\n",
    "* The one that Monty throws out\n",
    "* The remaining door So we will be keeping track of 3 quantities\n",
    "\n",
    "### Step 2: Simulating One Play\n",
    "The bulk of our work consists of simulating one play of the game. This involves several pieces.\n",
    "\n",
    "#### The Doors\n",
    "We start by setting up 2 useful arrays – doors and goats – that will allow us to distinguish the 3 doors and the 2 goats."
   ]
  },
  {
   "cell_type": "code",
   "execution_count": 2,
   "metadata": {},
   "outputs": [],
   "source": [
    "doors = make_array('Car', 'Goat 1', 'Goat 2')\n",
    "goats = make_array('Goat 1', 'Goat 2')"
   ]
  },
  {
   "cell_type": "markdown",
   "metadata": {},
   "source": [
    "#### Identifying Goats\n",
    "We are going to have to recognize whether a door has a goat behind it or not. We can just label each door with what’s behind it; the contestant can’t see what we are doing!\n",
    "\n",
    "The function `is_goat` takes a door label and returns a Boolean signifying whether or not it is a goat."
   ]
  },
  {
   "cell_type": "code",
   "execution_count": 55,
   "metadata": {},
   "outputs": [],
   "source": [
    "def is_goat(door_name):\n",
    "\n",
    "    if door_name == \"Goat 1\":\n",
    "        return True\n",
    "    elif door_name == \"Goat 2\":\n",
    "        return True\n",
    "    else:\n",
    "        return False"
   ]
  },
  {
   "cell_type": "code",
   "execution_count": 59,
   "metadata": {},
   "outputs": [
    {
     "data": {
      "text/plain": [
       "True"
      ]
     },
     "execution_count": 59,
     "metadata": {},
     "output_type": "execute_result"
    }
   ],
   "source": [
    "is_goat('Goat 1')"
   ]
  },
  {
   "cell_type": "code",
   "execution_count": 57,
   "metadata": {},
   "outputs": [
    {
     "data": {
      "text/plain": [
       "True"
      ]
     },
     "execution_count": 57,
     "metadata": {},
     "output_type": "execute_result"
    }
   ],
   "source": [
    "is_goat('Goat 2')"
   ]
  },
  {
   "cell_type": "code",
   "execution_count": 60,
   "metadata": {},
   "outputs": [
    {
     "data": {
      "text/plain": [
       "False"
      ]
     },
     "execution_count": 60,
     "metadata": {},
     "output_type": "execute_result"
    }
   ],
   "source": [
    "is_goat('Car')"
   ]
  },
  {
   "cell_type": "markdown",
   "metadata": {},
   "source": [
    "#### One Play\n",
    "* If the contestant’s original choice is a door with a goat, Monty must throw out the other goat, and what will remain is the car. \n",
    "* If the original choice is the door with a car, Monty must throw out one of the two goats, and what will remain is the other goat.\n",
    "\n",
    "The function `other_one` will be useful. It takes a string and a two-element array; if the string is equal to one of the elements, it returns the other one."
   ]
  },
  {
   "cell_type": "code",
   "execution_count": 61,
   "metadata": {},
   "outputs": [],
   "source": [
    "def other_one(x, a_b):\n",
    "    if x == a_b.item(0):\n",
    "        return a_b.item(1)\n",
    "    elif x == a_b.item(1):\n",
    "        return a_b.item(0)\n",
    "    else:\n",
    "        return 'Input Not Valid'"
   ]
  },
  {
   "cell_type": "markdown",
   "metadata": {},
   "source": [
    "If the contestant’s original choice is a goat, then the outcome of the game could be one of the following 2:"
   ]
  },
  {
   "cell_type": "code",
   "execution_count": 62,
   "metadata": {},
   "outputs": [
    {
     "data": {
      "text/plain": [
       "array(['Goat 1', 'Goat 2', 'Car'], dtype='<U6')"
      ]
     },
     "execution_count": 62,
     "metadata": {},
     "output_type": "execute_result"
    }
   ],
   "source": [
    "original = 'Goat 1'\n",
    "make_array(original, other_one(original, goats), 'Car')"
   ]
  },
  {
   "cell_type": "code",
   "execution_count": 63,
   "metadata": {},
   "outputs": [
    {
     "data": {
      "text/plain": [
       "array(['Goat 2', 'Goat 1', 'Car'], dtype='<U6')"
      ]
     },
     "execution_count": 63,
     "metadata": {},
     "output_type": "execute_result"
    }
   ],
   "source": [
    "original = 'Goat 2'\n",
    "make_array(original, other_one(original, goats), 'Car')"
   ]
  },
  {
   "cell_type": "markdown",
   "metadata": {},
   "source": [
    "**If the original choice happens to be the car**, then let’s assume Monty throws out one of the 2 goats at random, and the other goat is behind the remaining door."
   ]
  },
  {
   "cell_type": "code",
   "execution_count": 64,
   "metadata": {},
   "outputs": [
    {
     "data": {
      "text/plain": [
       "array(['Car', 'Goat 2', 'Goat 1'], dtype='<U6')"
      ]
     },
     "execution_count": 64,
     "metadata": {},
     "output_type": "execute_result"
    }
   ],
   "source": [
    "original = 'Car'\n",
    "throw_out = np.random.choice(goats)\n",
    "make_array(original, throw_out, other_one(throw_out, goats))"
   ]
  },
  {
   "cell_type": "markdown",
   "metadata": {},
   "source": [
    "#### A Function to Simulate One Play\n",
    "Now we define a function `monty_hall` that simulates the game and returns an array of three strings in this order:\n",
    "\n",
    "* What is behind the contestant’s original choice of door\n",
    "* What Monty throws out\n",
    "* What is behind the remaining door\n",
    "\n",
    "We can now put all this code together into a single function `monty_hall` to simulate the result of one game. The function takes no arguments.\n",
    "\n",
    "The contestant’s original choice will be a door chosen at random from among the 3 doors."
   ]
  },
  {
   "cell_type": "code",
   "execution_count": 66,
   "metadata": {},
   "outputs": [],
   "source": [
    "def monty_hall():\n",
    "    \"\"\" Play the Monty Hall game once\n",
    "    and return an array of three strings:\n",
    "    \n",
    "    original choice, what Monty throws out, what remains\n",
    "    \"\"\"\n",
    "    # Choose one of the 3 elements in 'doors' and assign it to 'original'\n",
    "    original = np.random.choice(doors)\n",
    "    \n",
    "    # If 'original' is a goat\n",
    "    if is_goat(original):\n",
    "        return make_array(original, other_one(original, goats), 'Car')\n",
    "    # If 'original' turns out to be the car\n",
    "    else:\n",
    "        throw_out = np.random.choice(goats)\n",
    "        return make_array(original, throw_out, other_one(throw_out, goats))"
   ]
  },
  {
   "cell_type": "markdown",
   "metadata": {},
   "source": [
    "Let’s play the game a few times! Here is one outcome. You should run the cell several times to see how the outcome changes."
   ]
  },
  {
   "cell_type": "code",
   "execution_count": 70,
   "metadata": {},
   "outputs": [
    {
     "data": {
      "text/plain": [
       "array(['Goat 2', 'Goat 1', 'Car'], dtype='<U6')"
      ]
     },
     "execution_count": 70,
     "metadata": {},
     "output_type": "execute_result"
    }
   ],
   "source": [
    "monty_hall()"
   ]
  },
  {
   "cell_type": "markdown",
   "metadata": {},
   "source": [
    "### Step 3: Number of Repetitions\n",
    "To gauge the frequency with which the different outcomes occur, we have to play the games many times and collect the results. Let’s run 10,000 repetitions.\n",
    "\n",
    "### Step 4: Coding the Simulation\n",
    "It’s time to run the simulation. We will start by defining 3 empty arrays, one each for the original choice, what Monty throws out, and what remains."
   ]
  },
  {
   "cell_type": "code",
   "execution_count": 71,
   "metadata": {},
   "outputs": [],
   "source": [
    "original = make_array()     # original choice\n",
    "throw_out = make_array()    # what Monty throws out\n",
    "remains = make_array()      # what remains\n",
    "\n",
    "num_repetitions = 10000\n",
    "\n",
    "for i in np.arange(num_repetitions): \n",
    "    result = monty_hall()    # the result of one game\n",
    "    \n",
    "    # Collect the results in the appropriate arrays\n",
    "    original = np.append(original, result.item(0))\n",
    "    throw_out = np.append(throw_out, result.item(1))\n",
    "    remains = np.append(remains, result.item(2))"
   ]
  },
  {
   "cell_type": "markdown",
   "metadata": {},
   "source": [
    "## Visualization\n",
    "We can now put all the results into one table for ease of visualization."
   ]
  },
  {
   "cell_type": "code",
   "execution_count": 90,
   "metadata": {},
   "outputs": [
    {
     "data": {
      "text/html": [
       "<table border=\"1\" class=\"dataframe\">\n",
       "    <thead>\n",
       "        <tr>\n",
       "            <th>Original Door Choice</th> <th>Monty Throws Out</th> <th>Remaining Door</th>\n",
       "        </tr>\n",
       "    </thead>\n",
       "    <tbody>\n",
       "        <tr>\n",
       "            <td>Car                 </td> <td>Goat 1          </td> <td>Goat 2        </td>\n",
       "        </tr>\n",
       "        <tr>\n",
       "            <td>Goat 2              </td> <td>Goat 1          </td> <td>Car           </td>\n",
       "        </tr>\n",
       "        <tr>\n",
       "            <td>Car                 </td> <td>Goat 1          </td> <td>Goat 2        </td>\n",
       "        </tr>\n",
       "        <tr>\n",
       "            <td>Car                 </td> <td>Goat 1          </td> <td>Goat 2        </td>\n",
       "        </tr>\n",
       "        <tr>\n",
       "            <td>Goat 1              </td> <td>Goat 2          </td> <td>Car           </td>\n",
       "        </tr>\n",
       "        <tr>\n",
       "            <td>Goat 1              </td> <td>Goat 2          </td> <td>Car           </td>\n",
       "        </tr>\n",
       "        <tr>\n",
       "            <td>Goat 2              </td> <td>Goat 1          </td> <td>Car           </td>\n",
       "        </tr>\n",
       "        <tr>\n",
       "            <td>Goat 2              </td> <td>Goat 1          </td> <td>Car           </td>\n",
       "        </tr>\n",
       "        <tr>\n",
       "            <td>Goat 1              </td> <td>Goat 2          </td> <td>Car           </td>\n",
       "        </tr>\n",
       "        <tr>\n",
       "            <td>Goat 2              </td> <td>Goat 1          </td> <td>Car           </td>\n",
       "        </tr>\n",
       "    </tbody>\n",
       "</table>\n",
       "<p>... (9990 rows omitted)</p>"
      ],
      "text/plain": [
       "Original Door Choice | Monty Throws Out | Remaining Door\n",
       "Car                  | Goat 1           | Goat 2\n",
       "Goat 2               | Goat 1           | Car\n",
       "Car                  | Goat 1           | Goat 2\n",
       "Car                  | Goat 1           | Goat 2\n",
       "Goat 1               | Goat 2           | Car\n",
       "Goat 1               | Goat 2           | Car\n",
       "Goat 2               | Goat 1           | Car\n",
       "Goat 2               | Goat 1           | Car\n",
       "Goat 1               | Goat 2           | Car\n",
       "Goat 2               | Goat 1           | Car\n",
       "... (9990 rows omitted)"
      ]
     },
     "execution_count": 90,
     "metadata": {},
     "output_type": "execute_result"
    }
   ],
   "source": [
    "results = Table().with_columns(\n",
    "    'Original Door Choice', original,\n",
    "    'Monty Throws Out', throw_out,\n",
    "    'Remaining Door', remains\n",
    ")\n",
    "results"
   ]
  },
  {
   "cell_type": "markdown",
   "metadata": {},
   "source": [
    "To see whether the contestant should stick with the original choice or switch, let’s see how frequently the car is behind each of the 2 options."
   ]
  },
  {
   "cell_type": "code",
   "execution_count": 91,
   "metadata": {},
   "outputs": [
    {
     "data": {
      "text/html": [
       "<table border=\"1\" class=\"dataframe\">\n",
       "    <thead>\n",
       "        <tr>\n",
       "            <th>Original Door Choice</th> <th>count</th>\n",
       "        </tr>\n",
       "    </thead>\n",
       "    <tbody>\n",
       "        <tr>\n",
       "            <td>Car                 </td> <td>3262 </td>\n",
       "        </tr>\n",
       "        <tr>\n",
       "            <td>Goat 1              </td> <td>3294 </td>\n",
       "        </tr>\n",
       "        <tr>\n",
       "            <td>Goat 2              </td> <td>3444 </td>\n",
       "        </tr>\n",
       "    </tbody>\n",
       "</table>"
      ],
      "text/plain": [
       "Original Door Choice | count\n",
       "Car                  | 3262\n",
       "Goat 1               | 3294\n",
       "Goat 2               | 3444"
      ]
     },
     "execution_count": 91,
     "metadata": {},
     "output_type": "execute_result"
    }
   ],
   "source": [
    "results.group('Original Door Choice')"
   ]
  },
  {
   "cell_type": "code",
   "execution_count": 92,
   "metadata": {},
   "outputs": [
    {
     "data": {
      "text/html": [
       "<table border=\"1\" class=\"dataframe\">\n",
       "    <thead>\n",
       "        <tr>\n",
       "            <th>Remaining Door</th> <th>count</th>\n",
       "        </tr>\n",
       "    </thead>\n",
       "    <tbody>\n",
       "        <tr>\n",
       "            <td>Car           </td> <td>6738 </td>\n",
       "        </tr>\n",
       "        <tr>\n",
       "            <td>Goat 1        </td> <td>1618 </td>\n",
       "        </tr>\n",
       "        <tr>\n",
       "            <td>Goat 2        </td> <td>1644 </td>\n",
       "        </tr>\n",
       "    </tbody>\n",
       "</table>"
      ],
      "text/plain": [
       "Remaining Door | count\n",
       "Car            | 6738\n",
       "Goat 1         | 1618\n",
       "Goat 2         | 1644"
      ]
     },
     "execution_count": 92,
     "metadata": {},
     "output_type": "execute_result"
    }
   ],
   "source": [
    "results.group('Remaining Door')"
   ]
  },
  {
   "cell_type": "markdown",
   "metadata": {},
   "source": [
    "As our solution said, the car is behind the remaining door two-thirds of the time, to a pretty good approximation. The contestant is twice as likely to get the car if she switches than if she sticks with her original choice.\n",
    "\n",
    "To see this graphically, we can join the two tables above and draw overlaid bar charts."
   ]
  },
  {
   "cell_type": "code",
   "execution_count": 93,
   "metadata": {},
   "outputs": [
    {
     "data": {
      "text/html": [
       "<table border=\"1\" class=\"dataframe\">\n",
       "    <thead>\n",
       "        <tr>\n",
       "            <th>Item</th> <th>Original Door</th> <th>Remaining Door</th>\n",
       "        </tr>\n",
       "    </thead>\n",
       "    <tbody>\n",
       "        <tr>\n",
       "            <td>Car   </td> <td>3262         </td> <td>6738          </td>\n",
       "        </tr>\n",
       "        <tr>\n",
       "            <td>Goat 1</td> <td>3294         </td> <td>1618          </td>\n",
       "        </tr>\n",
       "        <tr>\n",
       "            <td>Goat 2</td> <td>3444         </td> <td>1644          </td>\n",
       "        </tr>\n",
       "    </tbody>\n",
       "</table>"
      ],
      "text/plain": [
       "Item   | Original Door | Remaining Door\n",
       "Car    | 3262          | 6738\n",
       "Goat 1 | 3294          | 1618\n",
       "Goat 2 | 3444          | 1644"
      ]
     },
     "execution_count": 93,
     "metadata": {},
     "output_type": "execute_result"
    }
   ],
   "source": [
    "results_o = results.group('Original Door Choice')\n",
    "results_r = results.group('Remaining Door')\n",
    "joined = results_o.join('Original Door Choice', results_r, 'Remaining Door')\n",
    "combined = joined.relabeled(0, 'Item').relabeled(1, 'Original Door').relabeled(2, 'Remaining Door')\n",
    "combined"
   ]
  },
  {
   "cell_type": "code",
   "execution_count": 94,
   "metadata": {},
   "outputs": [
    {
     "data": {
      "image/png": "[encoded data removed]",
      "text/plain": [
       "<Figure size 432x288 with 1 Axes>"
      ]
     },
     "metadata": {},
     "output_type": "display_data"
    }
   ],
   "source": [
    "combined.barh(0)"
   ]
  },
  {
   "cell_type": "markdown",
   "metadata": {},
   "source": [
    "Notice how the 3 blue bars are almost equal – the original choice is equally likely to be any of the 3 available items. But the gold bar corresponding to **Car** is about twice as long!\n",
    "\n",
    "The simulation shows that the contestant is twice as likely to win if he/she switches."
   ]
  },
  {
   "cell_type": "code",
   "execution_count": null,
   "metadata": {},
   "outputs": [],
   "source": []
  }
 ],
 "metadata": {
  "kernelspec": {
   "display_name": "Python 3",
   "language": "python",
   "name": "python3"
  },
  "language_info": {
   "codemirror_mode": {
    "name": "ipython",
    "version": 3
   },
   "file_extension": ".py",
   "mimetype": "text/x-python",
   "name": "python",
   "nbconvert_exporter": "python",
   "pygments_lexer": "ipython3",
   "version": "3.7.0"
  }
 },
 "nbformat": 4,
 "nbformat_minor": 1
}
