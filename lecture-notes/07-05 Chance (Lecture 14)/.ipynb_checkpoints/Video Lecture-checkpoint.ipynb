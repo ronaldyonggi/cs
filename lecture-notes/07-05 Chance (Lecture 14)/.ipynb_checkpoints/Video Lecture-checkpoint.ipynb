{
 "cells": [
  {
   "cell_type": "code",
   "execution_count": 1,
   "metadata": {},
   "outputs": [],
   "source": [
    "from datascience import *\n",
    "import numpy as np\n",
    "\n",
    "%matplotlib inline\n",
    "import matplotlib.pyplot as plots\n",
    "plots.style.use('fivethirtyeight')\n",
    "\n",
    "from ipywidgets import interact, interactive, fixed, interact_manual\n",
    "import ipywidgets as widgets"
   ]
  },
  {
   "cell_type": "markdown",
   "metadata": {},
   "source": [
    "# Review : Control Statement \n",
    "In the previous **video lecture**, we defined the following function,"
   ]
  },
  {
   "cell_type": "code",
   "execution_count": 2,
   "metadata": {},
   "outputs": [
    {
     "name": "stdout",
     "output_type": "stream",
     "text": [
      "3 is positive\n",
      "-3 is negative\n",
      "0 is zero\n"
     ]
    }
   ],
   "source": [
    "def sign(x):\n",
    "    print(x, 'is', end = ' ')\n",
    "    if x > 0:\n",
    "        print('positive')\n",
    "    if x < 0:\n",
    "        print('negative')\n",
    "    if x == 0:\n",
    "        print('zero')\n",
    "\n",
    "sign(3)\n",
    "sign(-3)\n",
    "sign(0)"
   ]
  },
  {
   "cell_type": "markdown",
   "metadata": {},
   "source": [
    "Depending on what `x` is, it will run different lines of code.\n",
    "\n",
    "Also from last lecture, we also did the following,"
   ]
  },
  {
   "cell_type": "code",
   "execution_count": 3,
   "metadata": {},
   "outputs": [
    {
     "name": "stdout",
     "output_type": "stream",
     "text": [
      "0 is zero\n"
     ]
    }
   ],
   "source": [
    "def sign(x):\n",
    "    print(x, 'is', end = ' ')\n",
    "    if x > 0:\n",
    "        print('positive')\n",
    "    if x < 0:\n",
    "        print('negative')\n",
    "    else:\n",
    "        print('zero')\n",
    "\n",
    "# sign(3)\n",
    "# sign(-3)\n",
    "sign(0)"
   ]
  },
  {
   "cell_type": "markdown",
   "metadata": {},
   "source": [
    "And if we run the above code with `-3`,"
   ]
  },
  {
   "cell_type": "code",
   "execution_count": 4,
   "metadata": {},
   "outputs": [
    {
     "name": "stdout",
     "output_type": "stream",
     "text": [
      "-3 is negative\n"
     ]
    }
   ],
   "source": [
    "sign(-3)"
   ]
  },
  {
   "cell_type": "markdown",
   "metadata": {},
   "source": [
    "Above, Python checked if -3 is greater than 0. It was not the case, so Python chekced if x was smaller than 0. It is `True`! Thus, Python ran the line that prints 'negative'.\n",
    "\n",
    "However, if we run `3`,"
   ]
  },
  {
   "cell_type": "code",
   "execution_count": 5,
   "metadata": {},
   "outputs": [
    {
     "name": "stdout",
     "output_type": "stream",
     "text": [
      "3 is positive\n",
      "zero\n"
     ]
    }
   ],
   "source": [
    "sign(3)"
   ]
  },
  {
   "cell_type": "markdown",
   "metadata": {},
   "source": [
    "Why Python also prints 'zero'? This is because after the 'positive' check was done, Python also ran the 'negative' check."
   ]
  },
  {
   "cell_type": "code",
   "execution_count": 6,
   "metadata": {},
   "outputs": [],
   "source": [
    "def sign(x):\n",
    "    print(x, 'is', end = ' ')\n",
    "    if x > 0:\n",
    "        print('positive')\n",
    "    # Even if the 'positive' condition is fulfilled, Python still runs the code below.\n",
    "    if x < 0:\n",
    "        print('negative')\n",
    "    else:\n",
    "        print('zero')"
   ]
  },
  {
   "cell_type": "markdown",
   "metadata": {},
   "source": [
    "If we want the condition checking to be only done once, we need to use `elif`, which stands for `else if`, on the `negative` check,"
   ]
  },
  {
   "cell_type": "code",
   "execution_count": 7,
   "metadata": {},
   "outputs": [],
   "source": [
    "def sign(x):\n",
    "    print(x, 'is', end = ' ')\n",
    "    if x > 0:\n",
    "        print('positive')\n",
    "\n",
    "    elif x < 0:\n",
    "        print('negative')\n",
    "    else:\n",
    "        print('zero')"
   ]
  },
  {
   "cell_type": "markdown",
   "metadata": {},
   "source": [
    "This way, Python will only run one of the 3 checks!\n",
    "\n",
    "`If` statement is one type of **Control statements**. We can put additional lines in the `if` statement:"
   ]
  },
  {
   "cell_type": "code",
   "execution_count": 8,
   "metadata": {},
   "outputs": [],
   "source": [
    "def sign(x):\n",
    "    print(x, 'is', end = ' ')\n",
    "    if x > 0:\n",
    "        1 + 1\n",
    "        x + 5\n",
    "        print('positive')\n",
    "\n",
    "        \n",
    "        \n",
    "    elif x < 0:\n",
    "        print('negative')\n",
    "    else:\n",
    "        print('zero')"
   ]
  },
  {
   "cell_type": "markdown",
   "metadata": {},
   "source": [
    "At the first check (`x` > 0) of the code, Python will run the lines in order.\n",
    "1. Runs 1 + 1\n",
    "2. Runs `x` + 5\n",
    "3. Runs `print('positive')\n",
    "\n",
    "Python recognizes the lines that are part of the (`x` > 0) check from the lines' indentation. "
   ]
  },
  {
   "cell_type": "markdown",
   "metadata": {},
   "source": [
    "# `np.append`\n",
    "Before we talk about `for` statement, we will cover the `np.append` method.\n",
    "\n",
    "If we have the following array,"
   ]
  },
  {
   "cell_type": "code",
   "execution_count": 9,
   "metadata": {},
   "outputs": [
    {
     "data": {
      "text/plain": [
       "array([1, 2, 3])"
      ]
     },
     "execution_count": 9,
     "metadata": {},
     "output_type": "execute_result"
    }
   ],
   "source": [
    "make_array(1, 2, 3)"
   ]
  },
  {
   "cell_type": "markdown",
   "metadata": {},
   "source": [
    "We can add an element to the array above using the method `np.append`."
   ]
  },
  {
   "cell_type": "code",
   "execution_count": 10,
   "metadata": {},
   "outputs": [
    {
     "data": {
      "text/plain": [
       "array([1, 2, 3, 4])"
      ]
     },
     "execution_count": 10,
     "metadata": {},
     "output_type": "execute_result"
    }
   ],
   "source": [
    "np.append(make_array(1, 2, 3), 4)"
   ]
  },
  {
   "cell_type": "markdown",
   "metadata": {},
   "source": [
    "`np.append` can also be used to add an array with another array,"
   ]
  },
  {
   "cell_type": "code",
   "execution_count": 11,
   "metadata": {},
   "outputs": [
    {
     "data": {
      "text/plain": [
       "array([1, 2, 3, 4, 5, 6])"
      ]
     },
     "execution_count": 11,
     "metadata": {},
     "output_type": "execute_result"
    }
   ],
   "source": [
    "np.append(make_array(1, 2, 3), make_array(4, 5, 6))"
   ]
  },
  {
   "cell_type": "markdown",
   "metadata": {},
   "source": [
    "## For Statement\n",
    "Now we're going to cover the `for` statement.\n",
    "\n",
    "Suppose we want to repeat code or operate the same activity multiple times. In this situation, `for` statement would be a good choice. We use arrays in `for` statements, so we will use `np.arange` a lot."
   ]
  },
  {
   "cell_type": "code",
   "execution_count": 12,
   "metadata": {},
   "outputs": [
    {
     "data": {
      "text/plain": [
       "array([0, 1, 2, 3])"
      ]
     },
     "execution_count": 12,
     "metadata": {},
     "output_type": "execute_result"
    }
   ],
   "source": [
    "np.arange(4)"
   ]
  },
  {
   "cell_type": "markdown",
   "metadata": {},
   "source": [
    "The syntax of `for` statements look like the following:"
   ]
  },
  {
   "cell_type": "code",
   "execution_count": 13,
   "metadata": {},
   "outputs": [
    {
     "ename": "NameError",
     "evalue": "name '____' is not defined",
     "output_type": "error",
     "traceback": [
      "\u001b[1;31m--------------------------------------------------------------------\u001b[0m",
      "\u001b[1;31mNameError\u001b[0m                          Traceback (most recent call last)",
      "\u001b[1;32m<ipython-input-13-894deff9eaa3>\u001b[0m in \u001b[0;36m<module>\u001b[1;34m\u001b[0m\n\u001b[1;32m----> 1\u001b[1;33m \u001b[1;32mfor\u001b[0m \u001b[0m____\u001b[0m \u001b[1;32min\u001b[0m \u001b[0m____\u001b[0m\u001b[1;33m:\u001b[0m\u001b[1;33m\u001b[0m\u001b[1;33m\u001b[0m\u001b[0m\n\u001b[0m\u001b[0;32m      2\u001b[0m     \u001b[1;33m...\u001b[0m \u001b[1;31m# a line of code\u001b[0m\u001b[1;33m\u001b[0m\u001b[1;33m\u001b[0m\u001b[0m\n",
      "\u001b[1;31mNameError\u001b[0m: name '____' is not defined"
     ]
    }
   ],
   "source": [
    "for ____ in ____:\n",
    "    ... # a line of code"
   ]
  },
  {
   "cell_type": "markdown",
   "metadata": {},
   "source": [
    "Below is an example,"
   ]
  },
  {
   "cell_type": "code",
   "execution_count": null,
   "metadata": {},
   "outputs": [],
   "source": [
    "for i in np.arange(4):\n",
    "    print('Iteration:', i )"
   ]
  },
  {
   "cell_type": "markdown",
   "metadata": {},
   "source": [
    "Every time the code inside the `for` statement is run, the variable `i` is incremented by 1. Then, the whole code runs again. The code above is similar to doing the following,"
   ]
  },
  {
   "cell_type": "code",
   "execution_count": null,
   "metadata": {},
   "outputs": [],
   "source": [
    "i = 0\n",
    "print('Iteration:', i)\n",
    "i = 1\n",
    "print('Iteration:', i)\n",
    "i = 2\n",
    "print('Iteration:', i)"
   ]
  },
  {
   "cell_type": "markdown",
   "metadata": {},
   "source": [
    "### Coin\n",
    "Let's say we have a coin with 2 sides, `heads` and `tails`."
   ]
  },
  {
   "cell_type": "code",
   "execution_count": null,
   "metadata": {},
   "outputs": [],
   "source": [
    "coin = make_array('heads', 'tails')\n",
    "coin"
   ]
  },
  {
   "cell_type": "markdown",
   "metadata": {},
   "source": [
    "Recall `np.random.choice` method:\n",
    "1. 1st argument: the array in which the method is going to choose an element randomly from\n",
    "2. 2nd argument: how many times do we want the choosing to happen\n",
    "\n",
    "Below is an example of using the method on the `coin` 5 times. Run the cell multiple times to see how the result varies every time the cell is executed."
   ]
  },
  {
   "cell_type": "code",
   "execution_count": null,
   "metadata": {},
   "outputs": [],
   "source": [
    "np.random.choice(coin, 5)"
   ]
  },
  {
   "cell_type": "markdown",
   "metadata": {},
   "source": [
    "Let's say we want to flip the coins 100 times. How many heads will we get? Will we get 50? or 49? or 40? One way to find out is to do the flipping simulation."
   ]
  },
  {
   "cell_type": "code",
   "execution_count": null,
   "metadata": {},
   "outputs": [],
   "source": [
    "np.random.choice(coin, 100)"
   ]
  },
  {
   "cell_type": "markdown",
   "metadata": {},
   "source": [
    "And we can calculate the number of times we get `heads` using `np.count_nonzero`. Run the cell multiple times to run the simulation and count the `heads` on the same time!"
   ]
  },
  {
   "cell_type": "code",
   "execution_count": null,
   "metadata": {},
   "outputs": [],
   "source": [
    "np.count_nonzero(np.random.choice(coin, 100) == 'heads')"
   ]
  },
  {
   "cell_type": "markdown",
   "metadata": {},
   "source": [
    "What if we want to know the number of `heads` that are likely? Rather than running the above cell multiples times and recording the result each time, we can use a `for` loop."
   ]
  },
  {
   "cell_type": "code",
   "execution_count": null,
   "metadata": {},
   "outputs": [],
   "source": [
    "for i in np.arange(30):\n",
    "    print('Num heads:', np.count_nonzero(np.random.choice(coin, 100) == 'heads'))"
   ]
  },
  {
   "cell_type": "markdown",
   "metadata": {},
   "source": [
    "Above we simulated 100 coin flips 30 times. What if we want to save this result and make a histogram to see the distribution?\n",
    "\n",
    "One way of doing this is to create an empty array, and store the result of each 100 coin flips to that array. Be careful, we might be tempted to do this,"
   ]
  },
  {
   "cell_type": "code",
   "execution_count": null,
   "metadata": {},
   "outputs": [],
   "source": [
    "num_heads = make_array()\n",
    "for i in np.arange(30):\n",
    "    np.append(num_heads, np.count_nonzero(np.random.choice(coin, 100) == 'heads'))\n",
    "\n",
    "num_heads"
   ]
  },
  {
   "cell_type": "markdown",
   "metadata": {},
   "source": [
    "If we run the code above, see that `num_heads` is an empty array! How is this happening?\n",
    "\n",
    "First of all, let's create the array `num_heads`,"
   ]
  },
  {
   "cell_type": "code",
   "execution_count": null,
   "metadata": {},
   "outputs": [],
   "source": [
    "num_heads = make_array()"
   ]
  },
  {
   "cell_type": "markdown",
   "metadata": {},
   "source": [
    "Now try the `np.append` line."
   ]
  },
  {
   "cell_type": "code",
   "execution_count": null,
   "metadata": {},
   "outputs": [],
   "source": [
    "np.append(num_heads, np.count_nonzero(np.random.choice(coin, 100) == 'heads'))"
   ]
  },
  {
   "cell_type": "markdown",
   "metadata": {},
   "source": [
    "Now try to see the value of `num_heads`"
   ]
  },
  {
   "cell_type": "code",
   "execution_count": null,
   "metadata": {},
   "outputs": [],
   "source": [
    "num_heads"
   ]
  },
  {
   "cell_type": "markdown",
   "metadata": {},
   "source": [
    "As we can see, `np.append` adds an element to an array **ONLY DURING THAT MOMENT**. Just like most `table` methods, we need to reassign the array like below,"
   ]
  },
  {
   "cell_type": "code",
   "execution_count": null,
   "metadata": {},
   "outputs": [],
   "source": [
    "num_heads = np.append(num_heads, np.count_nonzero(np.random.choice(coin, 100) == 'heads'))"
   ]
  },
  {
   "cell_type": "code",
   "execution_count": null,
   "metadata": {},
   "outputs": [],
   "source": [
    "num_heads"
   ]
  },
  {
   "cell_type": "markdown",
   "metadata": {},
   "source": [
    "This time, `num_heads` contains something! Now we will fix our `for` loop so that `np.append` works. In addition, this time we will do 10,000 simulation of 100 coin flips!"
   ]
  },
  {
   "cell_type": "code",
   "execution_count": null,
   "metadata": {},
   "outputs": [],
   "source": [
    "num_heads = make_array()\n",
    "for i in np.arange(10000):\n",
    "    num_heads = np.append(num_heads, np.count_nonzero(np.random.choice(coin, 100) == 'heads'))\n",
    "\n",
    "num_heads"
   ]
  },
  {
   "cell_type": "markdown",
   "metadata": {},
   "source": [
    "Now we will create a table and histogram from the resulting `num_heads` above,"
   ]
  },
  {
   "cell_type": "code",
   "execution_count": null,
   "metadata": {},
   "outputs": [],
   "source": [
    "t = Table().with_column('Heads in 100 coin flips', num_heads)\n",
    "t.hist(bins = np.arange(30, 70, 1))"
   ]
  },
  {
   "cell_type": "markdown",
   "metadata": {},
   "source": [
    "From the histogram above:\n",
    "1. It is very likely that when we flip a coin 100 times, we will get 50 heads\n",
    "2. It is unlikely that when we flip a coin 100 times, we get either below 35 or more than 65 heads."
   ]
  },
  {
   "cell_type": "markdown",
   "metadata": {},
   "source": [
    "## Recap: Control Statements\n",
    "Control statements are statements that let us run code multiple times and choose which lines to be executed. In other words, These statements **control** the sequence of computations that are performed in a program.\n",
    "\n",
    "1. The keywords `if` and `for` initiate control statements\n",
    "2. `if` defines functions that choose different behavior based on their arguments\n",
    "    * Whenever we want to choose which line to run depending on some conditions, use `if`\n",
    "3. `for` performs a computation for every element in a list or array\n",
    "    * Whenever we want to repeat code multiple times, use `for`"
   ]
  },
  {
   "cell_type": "markdown",
   "metadata": {},
   "source": [
    "# Demo: The Monty Hall Problem\n",
    "This problem is derived from a TV show called \"Let's Make a Deal\". The game show host, Monty Hall, gives the contestant 3 closed doors, in which behinds those doors, 2 of them are goats, while one of them is a brand new car.\n",
    "\n",
    "The game show goes as the following:\n",
    "\n",
    "1. The contestant initially chooses a door. However, that door won't be opened\n",
    "2. Monty then opens one of the 2 doors that the contestant didn't choose to reveals a goat\n",
    "3. The contestant is then given a choice of either to stick with the original choice, or switch to the remaining, unopened door.\n",
    "\n",
    "<img src = 'monty.png' width = 400\\>\n",
    "\n",
    "### Is it better to switch door or to stick with original choice?\n",
    "Unintuitively, it is actually better to switch door! Imagine 3 scenarios below, where the 1st letter is the prize behind door 1, 2nd letter is the prize behind door 2, etc. C stands for Car, G stands for Goat.\n",
    "\n",
    "1. CGG\n",
    "2. GCG\n",
    "3. GCG\n",
    "\n",
    "Let's say the contestant chooses door 1, \n",
    "\n",
    "1. `C`GG\n",
    "2. `G`CG\n",
    "3. `G`CG\n",
    "\n",
    "Then Monty will reveal the goat in the remaining door (marked **bold**).\n",
    "\n",
    "1. `C`G**G**\n",
    "2. `G`C**G**\n",
    "3. `G`C**G**\n",
    "\n",
    "As we can see above, there are 2 scenarios, #2 and #3, where we would get the car if we switch doors.\n",
    "\n",
    "We can simulate this game in Python! In order to do this, we will follow the following steps:\n",
    "\n",
    "1. Put prizes behind doors randomly\n",
    "2. Pick a door\n",
    "3. Monty opens a door to reveal a goat\n",
    "4. Finally, reveal all doors and see if we win a car or a goat\n",
    "\n",
    "We start with creating 2 arrays, the `doors` and the `prizes`,"
   ]
  },
  {
   "cell_type": "code",
   "execution_count": 16,
   "metadata": {},
   "outputs": [
    {
     "data": {
      "text/plain": [
       "array([1, 2, 3])"
      ]
     },
     "execution_count": 16,
     "metadata": {},
     "output_type": "execute_result"
    }
   ],
   "source": [
    "doors = make_array(1, 2, 3)\n",
    "doors"
   ]
  },
  {
   "cell_type": "code",
   "execution_count": 17,
   "metadata": {},
   "outputs": [
    {
     "data": {
      "text/plain": [
       "array(['car', 'first goat', 'second goat'], dtype='<U11')"
      ]
     },
     "execution_count": 17,
     "metadata": {},
     "output_type": "execute_result"
    }
   ],
   "source": [
    "prizes = make_array('car', 'first goat', 'second goat')\n",
    "prizes"
   ]
  },
  {
   "cell_type": "markdown",
   "metadata": {},
   "source": [
    "\"Why we have to distinguish between 1st goat and 2nd goat? Why don't we just write goat?\". Distinguishing the goats will help later on with the simulation of the game.\n",
    "\n",
    "We will use `np.random.choice` to randomize the order of the prizes. Be careful! We will need to add an argument `replace = False`. By default, `np.random.choice` chooses at random with replacement, which means one or some of the elements outcome could be a duplicate of an element."
   ]
  },
  {
   "cell_type": "code",
   "execution_count": 18,
   "metadata": {},
   "outputs": [
    {
     "data": {
      "text/plain": [
       "array(['second goat', 'first goat', 'car'], dtype='<U11')"
      ]
     },
     "execution_count": 18,
     "metadata": {},
     "output_type": "execute_result"
    }
   ],
   "source": [
    "np.random.choice(prizes, 3, replace = False)"
   ]
  },
  {
   "cell_type": "markdown",
   "metadata": {},
   "source": [
    "The order of the prizes above would become the prizes behind each door. Now let's make the set-up above into the function `setup()`!"
   ]
  },
  {
   "cell_type": "code",
   "execution_count": 22,
   "metadata": {},
   "outputs": [],
   "source": [
    "def setup():\n",
    "    \"\"\" Return a table of Let's Make a Deal\"\"\"\n",
    "    return Table().with_columns(\n",
    "        'Door', doors,\n",
    "        'Prize', np.random.choice(prizes, 3, replace = False)\n",
    "    )"
   ]
  },
  {
   "cell_type": "markdown",
   "metadata": {},
   "source": [
    "We can run the function above and see the result. Run the cell below multiple times to see different results!"
   ]
  },
  {
   "cell_type": "code",
   "execution_count": 26,
   "metadata": {},
   "outputs": [
    {
     "data": {
      "text/html": [
       "<table border=\"1\" class=\"dataframe\">\n",
       "    <thead>\n",
       "        <tr>\n",
       "            <th>Door</th> <th>Prize</th>\n",
       "        </tr>\n",
       "    </thead>\n",
       "    <tbody>\n",
       "        <tr>\n",
       "            <td>1   </td> <td>second goat</td>\n",
       "        </tr>\n",
       "        <tr>\n",
       "            <td>2   </td> <td>first goat </td>\n",
       "        </tr>\n",
       "        <tr>\n",
       "            <td>3   </td> <td>car        </td>\n",
       "        </tr>\n",
       "    </tbody>\n",
       "</table>"
      ],
      "text/plain": [
       "Door | Prize\n",
       "1    | second goat\n",
       "2    | first goat\n",
       "3    | car"
      ]
     },
     "execution_count": 26,
     "metadata": {},
     "output_type": "execute_result"
    }
   ],
   "source": [
    "a_game = setup()\n",
    "a_game"
   ]
  },
  {
   "cell_type": "markdown",
   "metadata": {},
   "source": [
    "The table above represents a game.\n",
    "\n",
    "#### Now how do we define a function `behind` that takes in **a game** (a table like above) and **a door number**, and returns the prize behind the door? (e.g. `first goat`)\n",
    "In this case, it is a good practice to write down the steps in high level (i.e. in actual words) before writing the code."
   ]
  },
  {
   "cell_type": "code",
   "execution_count": 28,
   "metadata": {},
   "outputs": [],
   "source": [
    "# 1. Use the door number and filter the row so it only contains the row with the same door number\n",
    "# This can be done using Table.where('Door', door)\n",
    "# 2. Take the prize using column('Prize').item(0)\n",
    "\n",
    "def behind(game, door):\n",
    "    \"\"\" Return the prize behind the door \"\"\"\n",
    "    return game.where('Door', door).column('Prize').item(0)"
   ]
  },
  {
   "cell_type": "markdown",
   "metadata": {},
   "source": [
    "Now we can test if the function above is correct by running the cell below,"
   ]
  },
  {
   "cell_type": "code",
   "execution_count": 29,
   "metadata": {},
   "outputs": [
    {
     "name": "stdout",
     "output_type": "stream",
     "text": [
      "Behind door number 1 is the second goat\n",
      "Behind door number 2 is the first goat\n",
      "Behind door number 3 is the car\n"
     ]
    }
   ],
   "source": [
    "for door in doors:\n",
    "    print('Behind door number', door, 'is the', behind(a_game, door))"
   ]
  },
  {
   "cell_type": "markdown",
   "metadata": {},
   "source": [
    "Below is a function that does the opposite of `behind`. The function `location` takes a game and a prize and tells us which door the prize is."
   ]
  },
  {
   "cell_type": "code",
   "execution_count": 30,
   "metadata": {},
   "outputs": [
    {
     "name": "stdout",
     "output_type": "stream",
     "text": [
      "The car is behind door number 3\n",
      "The first goat is behind door number 2\n",
      "The second goat is behind door number 1\n"
     ]
    }
   ],
   "source": [
    "def location(game, prize):\n",
    "    \"\"\" Returns the door that hides a prize\"\"\"\n",
    "    return game.where('Prize', prize).column('Door').item(0)\n",
    "\n",
    "for prize in prizes:\n",
    "    print('The', prize, 'is behind door number', location(a_game, prize))"
   ]
  },
  {
   "cell_type": "markdown",
   "metadata": {},
   "source": [
    "#### How would you write a function `expose` that takes in a game and the door that the contestant guesses and shows which door Monty Hall would open to expose a goat?**\n",
    "For example, we have a game with the following door arrangements:\n",
    "\n",
    "1. second goat\n",
    "2. first goat\n",
    "3. car\n",
    "\n",
    "If we call `expose(game, 1)`, then the function will output `2`. If we call `expose(game, 3)`, then the output would be the door that contains `first goat`, which is `2`"
   ]
  },
  {
   "cell_type": "code",
   "execution_count": 32,
   "metadata": {},
   "outputs": [],
   "source": [
    "def expose(game, guess):\n",
    "    \"\"\" Return the door that Monty Hall opens to expose a goat.\"\"\"\n",
    "    # If the guess is the door that contains a car, get rid of that row, take the 'Door' column and np.random.choice either one\n",
    "    if behind(game, guess) == 'first goat':\n",
    "        reveal = 'second goat'\n",
    "    elif behind(game, guess) == 'second goat':\n",
    "        reveal = 'first goat'\n",
    "    else:\n",
    "        reveal = 'first goat'\n",
    "    return location(game, reveal)"
   ]
  },
  {
   "cell_type": "markdown",
   "metadata": {},
   "source": [
    "Let's try to use `expose`!"
   ]
  },
  {
   "cell_type": "code",
   "execution_count": 34,
   "metadata": {},
   "outputs": [
    {
     "data": {
      "text/plain": [
       "2"
      ]
     },
     "execution_count": 34,
     "metadata": {},
     "output_type": "execute_result"
    }
   ],
   "source": [
    "expose(a_game, 1)"
   ]
  },
  {
   "cell_type": "code",
   "execution_count": 35,
   "metadata": {},
   "outputs": [
    {
     "data": {
      "text/plain": [
       "1"
      ]
     },
     "execution_count": 35,
     "metadata": {},
     "output_type": "execute_result"
    }
   ],
   "source": [
    "expose(a_game, 2)"
   ]
  },
  {
   "cell_type": "code",
   "execution_count": 36,
   "metadata": {},
   "outputs": [
    {
     "name": "stdout",
     "output_type": "stream",
     "text": [
      "The contestant picked door 3 which hides the car\n",
      "Monty Hall opens door 2 to expose the first goat\n"
     ]
    }
   ],
   "source": [
    "a_guess = 3\n",
    "an_exposed_door = expose(a_game, a_guess)\n",
    "print('The contestant picked door', a_guess, 'which hides the', behind(a_game, a_guess))\n",
    "print('Monty Hall opens door', an_exposed_door, 'to expose the', behind(a_game, an_exposed_door))"
   ]
  },
  {
   "cell_type": "code",
   "execution_count": null,
   "metadata": {},
   "outputs": [],
   "source": []
  }
 ],
 "metadata": {
  "kernelspec": {
   "display_name": "Python 3",
   "language": "python",
   "name": "python3"
  },
  "language_info": {
   "codemirror_mode": {
    "name": "ipython",
    "version": 3
   },
   "file_extension": ".py",
   "mimetype": "text/x-python",
   "name": "python",
   "nbconvert_exporter": "python",
   "pygments_lexer": "ipython3",
   "version": "3.7.2"
  }
 },
 "nbformat": 4,
 "nbformat_minor": 1
}
