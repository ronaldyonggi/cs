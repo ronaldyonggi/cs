{
 "cells": [
  {
   "cell_type": "code",
   "execution_count": 1,
   "metadata": {},
   "outputs": [],
   "source": [
    "from datascience import *\n",
    "import numpy as np\n",
    "%matplotlib inline\n",
    "import matplotlib.pyplot as plt\n",
    "plt.style.use('fivethirtyeight')\n",
    "\n",
    "from ipywidgets import interact, interactive, fixed, interact_manual\n",
    "import ipywidgets as widgets"
   ]
  },
  {
   "cell_type": "markdown",
   "metadata": {},
   "source": [
    "## [A/B Testing](https://www.inferentialthinking.com/chapters/12/1/AB_Testing) (Inferential Thinking - 12.1)\n",
    "In modern analytics, **deciding whether 2 numerical examples come from the same underlying distribution** is called **A/B Testing**. The name refers to the labels of the 2 sample, A and B.\n",
    "\n",
    "### Hypothesis (Video Lecture)\n",
    "1. **Null**: The 2 samples are drawn from the same underlying population distribution\n",
    "    * They look like 2 random draws from the same set\n",
    "    \n",
    "    \n",
    "2. **Alternative**: The samples are drawn from different distributions\n",
    "    * They don't look like random draws from the same set\n",
    "\n",
    "### Permutation Test (Video Lecture)\n",
    "**Null** : The 2 samples are drawn randomly from the same underlying distribution.\n",
    "* If the *null** is true, all rearrangements of the variable values among the 2 samples are equally likely. Thus:\n",
    "    * Compute the observed test statistic\n",
    "    * Shuffle the attribute values and recompute the statistic\n",
    "    * **Repeat**\n",
    "    * Compare with the observed statistic\n",
    "    \n",
    "### Test Statistic\n",
    "* If the samples are categorical, then a natural test statistic is the TVD (total variation distance). It measures the difference between the distributions in the 2 samples\n",
    "    * Example: Do people who work out have bigger shirt sizes? \n",
    "        * Take people who do work out and people who don't, and look at their shirt size distributions (S, M, L are not numerical!)\n",
    "* If the samples are numerical, often a simpler statistic is just fine, such as **the absolute difference between the 2 sample means**\n",
    "    * Example: Football pressure drop\n",
    "We're going back to the baby example from previous lecture."
   ]
  },
  {
   "cell_type": "code",
   "execution_count": 2,
   "metadata": {},
   "outputs": [
    {
     "data": {
      "text/html": [
       "<table border=\"1\" class=\"dataframe\">\n",
       "    <thead>\n",
       "        <tr>\n",
       "            <th>Birth Weight</th> <th>Gestational Days</th> <th>Maternal Age</th> <th>Maternal Height</th> <th>Maternal Pregnancy Weight</th> <th>Maternal Smoker</th>\n",
       "        </tr>\n",
       "    </thead>\n",
       "    <tbody>\n",
       "        <tr>\n",
       "            <td>120         </td> <td>284             </td> <td>27          </td> <td>62             </td> <td>100                      </td> <td>False          </td>\n",
       "        </tr>\n",
       "        <tr>\n",
       "            <td>113         </td> <td>282             </td> <td>33          </td> <td>64             </td> <td>135                      </td> <td>False          </td>\n",
       "        </tr>\n",
       "        <tr>\n",
       "            <td>128         </td> <td>279             </td> <td>28          </td> <td>64             </td> <td>115                      </td> <td>True           </td>\n",
       "        </tr>\n",
       "        <tr>\n",
       "            <td>108         </td> <td>282             </td> <td>23          </td> <td>67             </td> <td>125                      </td> <td>True           </td>\n",
       "        </tr>\n",
       "        <tr>\n",
       "            <td>136         </td> <td>286             </td> <td>25          </td> <td>62             </td> <td>93                       </td> <td>False          </td>\n",
       "        </tr>\n",
       "        <tr>\n",
       "            <td>138         </td> <td>244             </td> <td>33          </td> <td>62             </td> <td>178                      </td> <td>False          </td>\n",
       "        </tr>\n",
       "        <tr>\n",
       "            <td>132         </td> <td>245             </td> <td>23          </td> <td>65             </td> <td>140                      </td> <td>False          </td>\n",
       "        </tr>\n",
       "        <tr>\n",
       "            <td>120         </td> <td>289             </td> <td>25          </td> <td>62             </td> <td>125                      </td> <td>False          </td>\n",
       "        </tr>\n",
       "        <tr>\n",
       "            <td>143         </td> <td>299             </td> <td>30          </td> <td>66             </td> <td>136                      </td> <td>True           </td>\n",
       "        </tr>\n",
       "        <tr>\n",
       "            <td>140         </td> <td>351             </td> <td>27          </td> <td>68             </td> <td>120                      </td> <td>False          </td>\n",
       "        </tr>\n",
       "    </tbody>\n",
       "</table>\n",
       "<p>... (1164 rows omitted)</p>"
      ],
      "text/plain": [
       "Birth Weight | Gestational Days | Maternal Age | Maternal Height | Maternal Pregnancy Weight | Maternal Smoker\n",
       "120          | 284              | 27           | 62              | 100                       | False\n",
       "113          | 282              | 33           | 64              | 135                       | False\n",
       "128          | 279              | 28           | 64              | 115                       | True\n",
       "108          | 282              | 23           | 67              | 125                       | True\n",
       "136          | 286              | 25           | 62              | 93                        | False\n",
       "138          | 244              | 33           | 62              | 178                       | False\n",
       "132          | 245              | 23           | 65              | 140                       | False\n",
       "120          | 289              | 25           | 62              | 125                       | False\n",
       "143          | 299              | 30           | 66              | 136                       | True\n",
       "140          | 351              | 27           | 68              | 120                       | False\n",
       "... (1164 rows omitted)"
      ]
     },
     "execution_count": 2,
     "metadata": {},
     "output_type": "execute_result"
    }
   ],
   "source": [
    "baby = Table.read_table('baby.csv')\n",
    "baby"
   ]
  },
  {
   "cell_type": "markdown",
   "metadata": {},
   "source": [
    "One of the goals of the study was **to see whether maternal smoking was associated with birth weight**. We'll start by selecting the 2 columns, **Birth Weight** and **Maternal Smoker**. There are 715 non-smokers among the women in the sample, and 459 smokers."
   ]
  },
  {
   "cell_type": "code",
   "execution_count": 3,
   "metadata": {},
   "outputs": [
    {
     "data": {
      "text/html": [
       "<table border=\"1\" class=\"dataframe\">\n",
       "    <thead>\n",
       "        <tr>\n",
       "            <th>Maternal Smoker</th> <th>Birth Weight</th>\n",
       "        </tr>\n",
       "    </thead>\n",
       "    <tbody>\n",
       "        <tr>\n",
       "            <td>False          </td> <td>120         </td>\n",
       "        </tr>\n",
       "        <tr>\n",
       "            <td>False          </td> <td>113         </td>\n",
       "        </tr>\n",
       "        <tr>\n",
       "            <td>True           </td> <td>128         </td>\n",
       "        </tr>\n",
       "        <tr>\n",
       "            <td>True           </td> <td>108         </td>\n",
       "        </tr>\n",
       "        <tr>\n",
       "            <td>False          </td> <td>136         </td>\n",
       "        </tr>\n",
       "        <tr>\n",
       "            <td>False          </td> <td>138         </td>\n",
       "        </tr>\n",
       "        <tr>\n",
       "            <td>False          </td> <td>132         </td>\n",
       "        </tr>\n",
       "        <tr>\n",
       "            <td>False          </td> <td>120         </td>\n",
       "        </tr>\n",
       "        <tr>\n",
       "            <td>True           </td> <td>143         </td>\n",
       "        </tr>\n",
       "        <tr>\n",
       "            <td>False          </td> <td>140         </td>\n",
       "        </tr>\n",
       "    </tbody>\n",
       "</table>\n",
       "<p>... (1164 rows omitted)</p>"
      ],
      "text/plain": [
       "Maternal Smoker | Birth Weight\n",
       "False           | 120\n",
       "False           | 113\n",
       "True            | 128\n",
       "True            | 108\n",
       "False           | 136\n",
       "False           | 138\n",
       "False           | 132\n",
       "False           | 120\n",
       "True            | 143\n",
       "False           | 140\n",
       "... (1164 rows omitted)"
      ]
     },
     "execution_count": 3,
     "metadata": {},
     "output_type": "execute_result"
    }
   ],
   "source": [
    "smoke_and_birthweight = baby.select('Maternal Smoker', 'Birth Weight')\n",
    "smoke_and_birthweight"
   ]
  },
  {
   "cell_type": "code",
   "execution_count": 4,
   "metadata": {},
   "outputs": [
    {
     "data": {
      "text/html": [
       "<table border=\"1\" class=\"dataframe\">\n",
       "    <thead>\n",
       "        <tr>\n",
       "            <th>Maternal Smoker</th> <th>count</th>\n",
       "        </tr>\n",
       "    </thead>\n",
       "    <tbody>\n",
       "        <tr>\n",
       "            <td>False          </td> <td>715  </td>\n",
       "        </tr>\n",
       "        <tr>\n",
       "            <td>True           </td> <td>459  </td>\n",
       "        </tr>\n",
       "    </tbody>\n",
       "</table>"
      ],
      "text/plain": [
       "Maternal Smoker | count\n",
       "False           | 715\n",
       "True            | 459"
      ]
     },
     "execution_count": 4,
     "metadata": {},
     "output_type": "execute_result"
    }
   ],
   "source": [
    "smoke_and_birthweight.group('Maternal Smoker')"
   ]
  },
  {
   "cell_type": "markdown",
   "metadata": {},
   "source": [
    "We're going to look at the distribution of the birth weights of the babies of non-smoking mothers compared to those of the smoking mothers. To generate 2 overlaid histograms, we'll use **hist** with the optional **group** argument which is a column label or index. The rows of the table are first grouped by this column and then a histogram is drawn for each one."
   ]
  },
  {
   "cell_type": "code",
   "execution_count": 5,
   "metadata": {},
   "outputs": [
    {
     "data": {
      "image/png": "[encoded data removed]",
      "text/plain": [
       "<Figure size 432x288 with 1 Axes>"
      ]
     },
     "metadata": {},
     "output_type": "display_data"
    }
   ],
   "source": [
    "smoke_and_birthweight.hist('Birth Weight', group = 'Maternal Smoker')"
   ]
  },
  {
   "cell_type": "markdown",
   "metadata": {},
   "source": [
    "From above, the weights of the babies of the mothers who are smoker appears to be less than that who do not smoke. This raises the question of **whether the difference reflects just chance variation or a difference in distributions in the larger population**."
   ]
  },
  {
   "cell_type": "markdown",
   "metadata": {},
   "source": [
    "### The Hypotheses\n",
    "The chance model that we will test is that **there is no underlying difference; the distributions in the samples are different just due to chance**. Formally, this is the null hypothesis.\n",
    "\n",
    "* **Null**: In the population, the distribution of birth weights of babies is the same for mothers who don't smoke as for mothers who do. The difference in the sample is due to chance.\n",
    "* **Alternative**: In the population, the babies of the mothers who smoke has lower birth weight, on average, compared to the babies of non-smokers."
   ]
  },
  {
   "cell_type": "markdown",
   "metadata": {},
   "source": [
    "### The Statistic\n",
    "The alternative hypothesis compares the average birth weights of the 2 groups and states that the average from smokers are lower. Thus, it is reasonable to use **the difference between the 2 group means** as the statistic. In this case, we'll calculate the difference as **smoker - non-smoker**."
   ]
  },
  {
   "cell_type": "code",
   "execution_count": 6,
   "metadata": {},
   "outputs": [
    {
     "data": {
      "text/html": [
       "<table border=\"1\" class=\"dataframe\">\n",
       "    <thead>\n",
       "        <tr>\n",
       "            <th>Maternal Smoker</th> <th>Birth Weight average</th>\n",
       "        </tr>\n",
       "    </thead>\n",
       "    <tbody>\n",
       "        <tr>\n",
       "            <td>False          </td> <td>123.085             </td>\n",
       "        </tr>\n",
       "        <tr>\n",
       "            <td>True           </td> <td>113.819             </td>\n",
       "        </tr>\n",
       "    </tbody>\n",
       "</table>"
      ],
      "text/plain": [
       "Maternal Smoker | Birth Weight average\n",
       "False           | 123.085\n",
       "True            | 113.819"
      ]
     },
     "execution_count": 6,
     "metadata": {},
     "output_type": "execute_result"
    }
   ],
   "source": [
    "means_table = smoke_and_birthweight.group('Maternal Smoker', np.average)\n",
    "means_table"
   ]
  },
  {
   "cell_type": "code",
   "execution_count": 7,
   "metadata": {},
   "outputs": [
    {
     "data": {
      "text/plain": [
       "-9.266142572024918"
      ]
     },
     "execution_count": 7,
     "metadata": {},
     "output_type": "execute_result"
    }
   ],
   "source": [
    "means_array = means_table.column(1)\n",
    "observed_difference = means_array.item(1) - means_array.item(0)\n",
    "observed_difference"
   ]
  },
  {
   "cell_type": "markdown",
   "metadata": {},
   "source": [
    "### Predicting the Statistic Under the Null Hypothesis\n",
    "To see **how the statistic should vary under the null hypothesis**, we need to **simulate the statististic under that hypothesis**. Here, we can use **random permutations**.\n",
    "\n",
    "If there were no difference between the 2 distributions in the underlying population, then **whether a birth weight has label `True` or `False` with respect to maternal smoking should make no difference to the average**. Thus, if we shuffle all the birth weights randomly among the mothers, there should be no difference. This concept is called **random permutations**.\n",
    "\n",
    "Take the difference of the 2 new group means:\n",
    "* The mean of the shuffled weights assigned to the smokers\n",
    "* The mean of the shuffled weights assigned to the non-smokers\n",
    "\n",
    "The difference above would be a simulated value of the test statistic under the null hypothesis."
   ]
  },
  {
   "cell_type": "code",
   "execution_count": 8,
   "metadata": {},
   "outputs": [
    {
     "data": {
      "text/html": [
       "<table border=\"1\" class=\"dataframe\">\n",
       "    <thead>\n",
       "        <tr>\n",
       "            <th>Maternal Smoker</th> <th>Birth Weight</th>\n",
       "        </tr>\n",
       "    </thead>\n",
       "    <tbody>\n",
       "        <tr>\n",
       "            <td>False          </td> <td>120         </td>\n",
       "        </tr>\n",
       "        <tr>\n",
       "            <td>False          </td> <td>113         </td>\n",
       "        </tr>\n",
       "        <tr>\n",
       "            <td>True           </td> <td>128         </td>\n",
       "        </tr>\n",
       "        <tr>\n",
       "            <td>True           </td> <td>108         </td>\n",
       "        </tr>\n",
       "        <tr>\n",
       "            <td>False          </td> <td>136         </td>\n",
       "        </tr>\n",
       "        <tr>\n",
       "            <td>False          </td> <td>138         </td>\n",
       "        </tr>\n",
       "        <tr>\n",
       "            <td>False          </td> <td>132         </td>\n",
       "        </tr>\n",
       "        <tr>\n",
       "            <td>False          </td> <td>120         </td>\n",
       "        </tr>\n",
       "        <tr>\n",
       "            <td>True           </td> <td>143         </td>\n",
       "        </tr>\n",
       "        <tr>\n",
       "            <td>False          </td> <td>140         </td>\n",
       "        </tr>\n",
       "    </tbody>\n",
       "</table>\n",
       "<p>... (1164 rows omitted)</p>"
      ],
      "text/plain": [
       "Maternal Smoker | Birth Weight\n",
       "False           | 120\n",
       "False           | 113\n",
       "True            | 128\n",
       "True            | 108\n",
       "False           | 136\n",
       "False           | 138\n",
       "False           | 132\n",
       "False           | 120\n",
       "True            | 143\n",
       "False           | 140\n",
       "... (1164 rows omitted)"
      ]
     },
     "execution_count": 8,
     "metadata": {},
     "output_type": "execute_result"
    }
   ],
   "source": [
    "smoke_and_birthweight"
   ]
  },
  {
   "cell_type": "markdown",
   "metadata": {},
   "source": [
    "There are 1,174 rows in the table. To shuffle all the birthweights, we draw a random sample of 1,174 rows without replacement. The sample will include all the rows of the table, in random order.\n",
    "\n",
    "We can use the Table method `sample` with the optional `with_replacement = False` argument. We don't have to specify a sample size since by default, `sample` draws as many times as there are rows in the table."
   ]
  },
  {
   "cell_type": "code",
   "execution_count": 9,
   "metadata": {},
   "outputs": [
    {
     "data": {
      "text/plain": [
       "array([156, 116, 111, ..., 119, 109, 110])"
      ]
     },
     "execution_count": 9,
     "metadata": {},
     "output_type": "execute_result"
    }
   ],
   "source": [
    "shuffled_weights = smoke_and_birthweight.sample(with_replacement = False).column(1)\n",
    "shuffled_weights"
   ]
  },
  {
   "cell_type": "code",
   "execution_count": 10,
   "metadata": {},
   "outputs": [
    {
     "data": {
      "text/html": [
       "<table border=\"1\" class=\"dataframe\">\n",
       "    <thead>\n",
       "        <tr>\n",
       "            <th>Maternal Smoker</th> <th>Birth Weight</th> <th>Shuffled Birth Weight</th>\n",
       "        </tr>\n",
       "    </thead>\n",
       "    <tbody>\n",
       "        <tr>\n",
       "            <td>False          </td> <td>120         </td> <td>156                  </td>\n",
       "        </tr>\n",
       "        <tr>\n",
       "            <td>False          </td> <td>113         </td> <td>116                  </td>\n",
       "        </tr>\n",
       "        <tr>\n",
       "            <td>True           </td> <td>128         </td> <td>111                  </td>\n",
       "        </tr>\n",
       "        <tr>\n",
       "            <td>True           </td> <td>108         </td> <td>128                  </td>\n",
       "        </tr>\n",
       "        <tr>\n",
       "            <td>False          </td> <td>136         </td> <td>117                  </td>\n",
       "        </tr>\n",
       "        <tr>\n",
       "            <td>False          </td> <td>138         </td> <td>100                  </td>\n",
       "        </tr>\n",
       "        <tr>\n",
       "            <td>False          </td> <td>132         </td> <td>105                  </td>\n",
       "        </tr>\n",
       "        <tr>\n",
       "            <td>False          </td> <td>120         </td> <td>133                  </td>\n",
       "        </tr>\n",
       "        <tr>\n",
       "            <td>True           </td> <td>143         </td> <td>111                  </td>\n",
       "        </tr>\n",
       "        <tr>\n",
       "            <td>False          </td> <td>140         </td> <td>143                  </td>\n",
       "        </tr>\n",
       "    </tbody>\n",
       "</table>\n",
       "<p>... (1164 rows omitted)</p>"
      ],
      "text/plain": [
       "Maternal Smoker | Birth Weight | Shuffled Birth Weight\n",
       "False           | 120          | 156\n",
       "False           | 113          | 116\n",
       "True            | 128          | 111\n",
       "True            | 108          | 128\n",
       "False           | 136          | 117\n",
       "False           | 138          | 100\n",
       "False           | 132          | 105\n",
       "False           | 120          | 133\n",
       "True            | 143          | 111\n",
       "False           | 140          | 143\n",
       "... (1164 rows omitted)"
      ]
     },
     "execution_count": 10,
     "metadata": {},
     "output_type": "execute_result"
    }
   ],
   "source": [
    "original_and_shuffled = smoke_and_birthweight.with_column('Shuffled Birth Weight', shuffled_weights)\n",
    "original_and_shuffled"
   ]
  },
  {
   "cell_type": "markdown",
   "metadata": {},
   "source": [
    "Each mother now has a random birth weight assigned to her. If the null hypothesis is true, all these random arrangements should be equally likely."
   ]
  },
  {
   "cell_type": "code",
   "execution_count": 11,
   "metadata": {},
   "outputs": [
    {
     "data": {
      "text/html": [
       "<table border=\"1\" class=\"dataframe\">\n",
       "    <thead>\n",
       "        <tr>\n",
       "            <th>Maternal Smoker</th> <th>Birth Weight average</th> <th>Shuffled Birth Weight average</th>\n",
       "        </tr>\n",
       "    </thead>\n",
       "    <tbody>\n",
       "        <tr>\n",
       "            <td>False          </td> <td>123.085             </td> <td>119.566                      </td>\n",
       "        </tr>\n",
       "        <tr>\n",
       "            <td>True           </td> <td>113.819             </td> <td>119.301                      </td>\n",
       "        </tr>\n",
       "    </tbody>\n",
       "</table>"
      ],
      "text/plain": [
       "Maternal Smoker | Birth Weight average | Shuffled Birth Weight average\n",
       "False           | 123.085              | 119.566\n",
       "True            | 113.819              | 119.301"
      ]
     },
     "execution_count": 11,
     "metadata": {},
     "output_type": "execute_result"
    }
   ],
   "source": [
    "grouped_by_average = original_and_shuffled.group('Maternal Smoker', np.average)\n",
    "grouped_by_average"
   ]
  },
  {
   "cell_type": "code",
   "execution_count": 12,
   "metadata": {},
   "outputs": [
    {
     "data": {
      "text/plain": [
       "-0.2657799716623117"
      ]
     },
     "execution_count": 12,
     "metadata": {},
     "output_type": "execute_result"
    }
   ],
   "source": [
    "shuffled_means_array = grouped_by_average.column(2)\n",
    "difference = shuffled_means_array.item(1) - shuffled_means_array.item(0)\n",
    "difference"
   ]
  },
  {
   "cell_type": "markdown",
   "metadata": {},
   "source": [
    "Could a different shuffle have resulted in a larger difference between the group averages? To get a sense of the variability, we need to simulate the difference multiple times."
   ]
  },
  {
   "cell_type": "markdown",
   "metadata": {},
   "source": [
    "## Permutation Tests\n",
    "Tests based on random permutations of the data are called **permutation tests**. In the cell below, we will simulate the test statistic, **the difference between the average of the 2 groups**, multiple times and collect the differences in an array. "
   ]
  },
  {
   "cell_type": "code",
   "execution_count": 13,
   "metadata": {},
   "outputs": [],
   "source": [
    "# 'differences' collects all the simulated test statistics\n",
    "differences = make_array()\n",
    "\n",
    "repetitions = 5000\n",
    "for i in np.arange(repetitions):\n",
    "    \n",
    "    #Shuffle the original table, pick just the 'Birth Weight' column and\n",
    "    # convert it to an array\n",
    "    shuffled_weights = smoke_and_birthweight.sample(with_replacement = False).column(1)\n",
    "    # Take the original table and add the 'shuffled birth weight' column\n",
    "    original_and_shuffled = smoke_and_birthweight.with_column('Shuffled', shuffled_weights)\n",
    "    # Group the table based on the 'True or False' of smokers, with additional argument average\n",
    "    grouped_by_average = original_and_shuffled.group('Maternal Smoker', np.average)\n",
    "    # Take the array of the shuffled mean\n",
    "    shuffled_mean_array = grouped_by_average.column(2)\n",
    "    # Calculate the difference\n",
    "    difference = shuffled_mean_array.item(1) - shuffled_mean_array.item(0)\n",
    "    # Append to the array \"differences\"\n",
    "    differences = np.append(differences, difference)\n"
   ]
  },
  {
   "cell_type": "markdown",
   "metadata": {},
   "source": [
    "The array `differences` contains 5,000 simulated values of our test statistic."
   ]
  },
  {
   "cell_type": "markdown",
   "metadata": {},
   "source": [
    "## Conclusion of the Test\n",
    "The histogram below shows the distribution of these 5,000 values. It is the empirical distribution of the test statistic under the null hypothesis. "
   ]
  },
  {
   "cell_type": "code",
   "execution_count": 14,
   "metadata": {},
   "outputs": [
    {
     "data": {
      "text/plain": [
       "<matplotlib.collections.PathCollection at 0x11eea730>"
      ]
     },
     "execution_count": 14,
     "metadata": {},
     "output_type": "execute_result"
    },
    {
     "data": {
      "image/png": "[encoded data removed]",
      "text/plain": [
       "<Figure size 432x288 with 1 Axes>"
      ]
     },
     "metadata": {},
     "output_type": "display_data"
    }
   ],
   "source": [
    "Table().with_column('Difference Between Group Averages', differences).hist()\n",
    "plt.title('Prediction Under the Null Hypothesis')\n",
    "plt.scatter(observed_difference, 0, color = 'red', s = 30)"
   ]
  },
  {
   "cell_type": "markdown",
   "metadata": {},
   "source": [
    "Notice how the distribution is centered around 0, which makes sense because under the null hypothesis the 2 groups should have roughly the same average. However, the observed difference from the original sample is `-9.27`, which is far from the distribution. The observed value of the statistic and the predicted behavior of the statistic under the null hypothesis are inconsistent. Thus, **we can reach a conclusion that the data support the alternative more than they support the null**. The average birth weight of smokers' babies is less than that of non-smokers. \n",
    "\n",
    "### P-Value\n",
    "When computing an empirical P-value, remember that low values of the statistic favors the the alternative hypothesis."
   ]
  },
  {
   "cell_type": "code",
   "execution_count": 15,
   "metadata": {},
   "outputs": [
    {
     "data": {
      "text/plain": [
       "0.0"
      ]
     },
     "execution_count": 15,
     "metadata": {},
     "output_type": "execute_result"
    }
   ],
   "source": [
    "empirical_P = np.count_nonzero(differences <= observed_difference) / repetitions\n",
    "empirical_P"
   ]
  },
  {
   "cell_type": "markdown",
   "metadata": {},
   "source": [
    "The empirical P-value is 0, meaning that none of the 5,000 observed samples resulted in a difference of -9.27 or lower. This is an approximation; the exact chance of getting a difference in that range is not 0 but it is extremely small."
   ]
  },
  {
   "cell_type": "markdown",
   "metadata": {},
   "source": [
    "### A Function to Simulate the Differences Under the Null Hypothesis\n",
    "We want to perform permutation tests for the difference between averages in other contexts as well. Let's define a function that generates the array of simulated differences, based on the code that we wrote above.\n",
    "\n",
    "The function `generate_simulated_diff` takes 4 arguments:\n",
    "1. The name of the data table (e.g. `baby`)\n",
    "2. The label of the column containing the variable whose average is of interest (e.g. **Birth Weight**)\n",
    "3. The label of the column of group labels (e.g. **Maternal Smoker**)\n",
    "4. The number of repetitions\n",
    "\n",
    "This function will return an array of simulated differences in group means, each computed by first randomly permuting the data and assigning random values to each group. The length of the array is equal to the number of repetitions."
   ]
  },
  {
   "cell_type": "code",
   "execution_count": 16,
   "metadata": {},
   "outputs": [],
   "source": [
    "def generate_simulated_diff(table, label_interest, label_group, repetitions):\n",
    "    # Select just 2 columns from the original table and separate it on a new table.\n",
    "    \n",
    "    separate = table.select(label_group, label_interest)\n",
    "    # Create an array that stores all the differences\n",
    "    differences = make_array()\n",
    "    \n",
    "    #For loop \n",
    "    for i in np.arange(repetitions):\n",
    "        # When taking 2 columns from the original table, make sure `label_interest` is the\n",
    "        # 2nd argument. This is because we are going to select column(1)\n",
    "        shuffled_interest = separate.sample(with_replacement = False).column(1)\n",
    "        # Add the shuffled column to the original table\n",
    "        original_and_shuffled = separate.with_column('Shuffled', shuffled_interest)\n",
    "        # Group the table and calculate the mean\n",
    "        means = original_and_shuffled.group(label_group, np.average).column(2)\n",
    "        # Calculate the difference between the 2 groups in `label_group`\n",
    "        difference = means.item(1) - means.item(0)\n",
    "        # Append to the array `differences`\n",
    "        differences = np.append(differences, difference)\n",
    "\n",
    "    return differences"
   ]
  },
  {
   "cell_type": "markdown",
   "metadata": {},
   "source": [
    "As an example of the use of this function, we'll test whether there were any difference in the ages of smokers and non-smokers. "
   ]
  },
  {
   "cell_type": "code",
   "execution_count": 17,
   "metadata": {},
   "outputs": [
    {
     "data": {
      "image/png": "[encoded data removed]",
      "text/plain": [
       "<Figure size 432x288 with 1 Axes>"
      ]
     },
     "metadata": {},
     "output_type": "display_data"
    }
   ],
   "source": [
    "smoke_and_age = baby.select('Maternal Smoker', 'Maternal Age')\n",
    "smoke_and_age.hist('Maternal Age', group = 'Maternal Smoker')"
   ]
  },
  {
   "cell_type": "code",
   "execution_count": 18,
   "metadata": {},
   "outputs": [
    {
     "data": {
      "text/html": [
       "<table border=\"1\" class=\"dataframe\">\n",
       "    <thead>\n",
       "        <tr>\n",
       "            <th>Maternal Smoker</th> <th>Maternal Age average</th>\n",
       "        </tr>\n",
       "    </thead>\n",
       "    <tbody>\n",
       "        <tr>\n",
       "            <td>False          </td> <td>27.5441             </td>\n",
       "        </tr>\n",
       "        <tr>\n",
       "            <td>True           </td> <td>26.7364             </td>\n",
       "        </tr>\n",
       "    </tbody>\n",
       "</table>"
      ],
      "text/plain": [
       "Maternal Smoker | Maternal Age average\n",
       "False           | 27.5441\n",
       "True            | 26.7364"
      ]
     },
     "execution_count": 18,
     "metadata": {},
     "output_type": "execute_result"
    }
   ],
   "source": [
    "age_means_table = smoke_and_age.group('Maternal Smoker', np.average)\n",
    "age_means_table"
   ]
  },
  {
   "cell_type": "code",
   "execution_count": 19,
   "metadata": {},
   "outputs": [
    {
     "data": {
      "text/plain": [
       "-0.8076725017901509"
      ]
     },
     "execution_count": 19,
     "metadata": {},
     "output_type": "execute_result"
    }
   ],
   "source": [
    "age_means = age_means_table.column(1)\n",
    "observed_diff = age_means.item(1)-age_means.item(0)\n",
    "observed_diff"
   ]
  },
  {
   "cell_type": "markdown",
   "metadata": {},
   "source": [
    "Above is the **observed difference**. Now we'll look at the **differences based on permuted sample**."
   ]
  },
  {
   "cell_type": "code",
   "execution_count": 20,
   "metadata": {},
   "outputs": [
    {
     "data": {
      "text/plain": [
       "Text(0.5, 1.0, 'Prediction Under the Null Hypothesis')"
      ]
     },
     "execution_count": 20,
     "metadata": {},
     "output_type": "execute_result"
    },
    {
     "data": {
      "image/png": "[encoded data removed]",
      "text/plain": [
       "<Figure size 432x288 with 1 Axes>"
      ]
     },
     "metadata": {},
     "output_type": "display_data"
    }
   ],
   "source": [
    "diff_permuted = generate_simulated_diff(baby, 'Maternal Age', 'Maternal Smoker', 5000)\n",
    "Table().with_column('Difference Between Group Averages', diff_permuted).hist()\n",
    "plt.scatter(observed_diff, 0, color = 'red', s = 30)\n",
    "plt.title('Prediction Under the Null Hypothesis')"
   ]
  },
  {
   "cell_type": "markdown",
   "metadata": {},
   "source": [
    "Above, we see that the observed difference is in the tail of the empirical distribution of the differences simulated under the null hypothesis.\n",
    "\n",
    "## P-Value"
   ]
  },
  {
   "cell_type": "code",
   "execution_count": 21,
   "metadata": {},
   "outputs": [
    {
     "data": {
      "text/plain": [
       "0.0104"
      ]
     },
     "execution_count": 21,
     "metadata": {},
     "output_type": "execute_result"
    }
   ],
   "source": [
    "empirical_P = np.count_nonzero(diff_permuted <= observed_diff) / 5000\n",
    "empirical_P"
   ]
  },
  {
   "cell_type": "markdown",
   "metadata": {},
   "source": [
    "The empirical P-value of the test is the proportion of simulated differences that were equal to or less than the observed difference. Recall that low values of the difference favor the alternative hypothesis that smokers are younger on average.\n",
    "\n",
    "The empirical P-value was calculated to be slightly over 1%, which is less than 5%. Thus, the test supports the hypothesis that the smokers were younger on average."
   ]
  },
  {
   "cell_type": "markdown",
   "metadata": {},
   "source": [
    "## How Big is The Difference\n",
    "If we think that the 2 underlying population means might be different, we would want to know how different they are.\n",
    "\n",
    "Instead of running a \"same/different\" test, don't make any hypotheses. Just estimate the difference between the 2 population means. We can do this by boostrapping the sample and constructing a confidence interval for the parameter: **difference between the population means**.\n",
    "\n",
    "Below is a function that processes the bootstrap confidence interval."
   ]
  },
  {
   "cell_type": "code",
   "execution_count": 22,
   "metadata": {},
   "outputs": [],
   "source": [
    "def bootstrap_ci_mean(table, variable, classes, repetition, unit = None):\n",
    "    \"\"\" Bootstrap approximate 95% confidence interval\n",
    "    for the difference between the means of the 2 classes in the population\"\"\"\n",
    "    # Create a separate table that consist of 2 columns from the original table\n",
    "    t = table.select(classes, variable)\n",
    "    # `stats` is the array containing the test statistics\n",
    "    stats = make_array()\n",
    "    \n",
    "    for i in np.arange(repetition):\n",
    "        # Take samples with replacement (THIS IS NOT PERMUTATION METHOD)\n",
    "        bootstrap_sample = t.sample()\n",
    "        # Group the boostrap_sample table and take the average\n",
    "        means_table = bootstrap_sample.group(0, np.mean)\n",
    "        # Get the array of mean values out of the means_table\n",
    "        means_array = means_table.column(1)\n",
    "        # Calculate the difference in means\n",
    "        difference_mean = means_array.item(0) - means_array.item(1)\n",
    "        # Append into the `stats` array\n",
    "        stats = np.append(stats, difference_mean)\n",
    "        \n",
    "    # Create the left end of the 95% percentile\n",
    "    left = percentile(2.5, stats)\n",
    "    # Create the right end of the 95% percentile\n",
    "    right = percentile(97.5, stats)\n",
    "    \n",
    "    Table().with_column('Difference Between Means', stats).hist(unit = unit)\n",
    "    plt.plot(make_array(left, right), make_array(0, 0), color = 'yellow', lw = 8)\n",
    "    print('Approximate 95% CI for the mean differences:')\n",
    "    print(left, 'to', right)"
   ]
  },
  {
   "cell_type": "code",
   "execution_count": 23,
   "metadata": {},
   "outputs": [
    {
     "name": "stdout",
     "output_type": "stream",
     "text": [
      "Approximate 95% CI for the mean differences:\n",
      "7.182521855269556 to 11.206806186776134\n"
     ]
    },
    {
     "data": {
      "image/png": "[encoded data removed]",
      "text/plain": [
       "<Figure size 432x288 with 1 Axes>"
      ]
     },
     "metadata": {},
     "output_type": "display_data"
    }
   ],
   "source": [
    "bootstrap_ci_mean(baby, 'Birth Weight', 'Maternal Smoker', 1000, 'ounce')"
   ]
  },
  {
   "cell_type": "markdown",
   "metadata": {},
   "source": [
    "Above, the function:\n",
    "1. Take a sample\n",
    "2. Resample it\n",
    "3. Calculate the mean difference\n",
    "4. Resample again and repeat\n",
    "5. Plot all the mean difference above\n",
    "\n",
    "Note that difference are **babies of non-smokers** - **babies of smokers**. From the procedure above, we can deduce that the mean difference between the weight of babies of non-smokers and smokers can vary between 7 to 11 ounces.\n",
    "\n",
    "Previously, we showed that smokers are younger than non-smokers. Using the same method as above, we can calculate the range of age differences."
   ]
  },
  {
   "cell_type": "code",
   "execution_count": 24,
   "metadata": {},
   "outputs": [
    {
     "name": "stdout",
     "output_type": "stream",
     "text": [
      "Approximate 95% CI for the mean differences:\n",
      "0.16014639800665265 to 1.4379938291385521\n"
     ]
    },
    {
     "data": {
      "image/png": "[encoded data removed]",
      "text/plain": [
       "<Figure size 432x288 with 1 Axes>"
      ]
     },
     "metadata": {},
     "output_type": "display_data"
    }
   ],
   "source": [
    "bootstrap_ci_mean(baby, 'Maternal Age', 'Maternal Smoker', 1000)"
   ]
  },
  {
   "cell_type": "markdown",
   "metadata": {},
   "source": [
    "From above, we can see that the mean age difference vary between 0.12 to 1.46.\n",
    "\n",
    "Now we will try to see the mean height difference between smokers and non-smokers."
   ]
  },
  {
   "cell_type": "code",
   "execution_count": 25,
   "metadata": {},
   "outputs": [
    {
     "name": "stdout",
     "output_type": "stream",
     "text": [
      "Approximate 95% CI for the mean differences:\n",
      "-0.3865818794898104 to 0.20103968137614459\n"
     ]
    },
    {
     "data": {
      "image/png": "[encoded data removed]",
      "text/plain": [
       "<Figure size 432x288 with 1 Axes>"
      ]
     },
     "metadata": {},
     "output_type": "display_data"
    }
   ],
   "source": [
    "bootstrap_ci_mean(baby, 'Maternal Height', 'Maternal Smoker', 1000)"
   ]
  },
  {
   "cell_type": "markdown",
   "metadata": {},
   "source": [
    "The range of mean difference can vary between negative to positive values, but they are relatively close to 0! This means there could be no difference at all. "
   ]
  },
  {
   "cell_type": "markdown",
   "metadata": {},
   "source": [
    "## Randomized Control Experiment\n",
    "Recall John Snow's hypothesis about the water in London causing cholera. \n",
    "* He went around the town, asked the population:\n",
    "    * Whether they drank from the Broad Street pump\n",
    "    * How many deaths there were in that building\n",
    "* He drew a map and found that most deaths were clustered around the Broad Street pump\n",
    "* He suggested to remove the Broad Street pump handle to prevent people from drinking from that pump. Eventually, the cholera epidemic decreased\n",
    "\n",
    "However, he wasn't able to establish a causation that **the water causes cholera**. It just happened that the deaths were clustered around the Broad Street pump and and when pump handle was removed, people stopped getting sick. \n",
    "\n",
    "For this, he had to investigate further. He looked at the map of the 2 water companies in London and analyzed the area covered by both companies. He made a crucial assumption that if somebody lived in the area, one has to pick one of the 2 water companies.\n",
    "\n",
    "\"The group receiving water from one company had no difference whatsoever form the group receiving water from the other company.  It is not the case that, let's say, rich people receive water from one company and poor people receive water from the other company.\"\n",
    "\n",
    "## [Randomization](https://www.inferentialthinking.com/chapters/02/4/randomization) (Inferential Thinking - 2.4)\n",
    "An excellent way to avoid confounding is to assign individuals to the treatment and control group at **random**, and then administer the treatment to those who were assigned to the treatment group. Randomization keeps the 2 groups similar apart from the treatment.\n",
    "\n",
    "If we are able to randomize individuals into the treatment and control groups, we are running a **randomized control experiment**, also known as **randomized control trial (RCT)**.\n",
    "\n",
    "Sometimes, people's response in an experiment are influenced by their knowing which group they are in. Thus, we might want to run a **blind experiment** in which individuals do not know whether they are in the treatment group or the control group. To make this work, we can give the control group a **placebo**, which is something that looks exactly like the treatment but in fact has no effect.\n",
    "\n",
    "Randomized controlled experiments have long been a gold standard in the medical field, for example in establishing whether a new drug works. They are also becoming more commonly used in other fields such as economics.\n",
    "\n",
    "#### Example: Welfare Subsidies in Mexico\n",
    "In Mexican villages in the 1990’s, children in poor families were often not enrolled in school. One of the reasons was that the older children could go to work and thus help support the family. Santiago Levy , a minister in Mexican Ministry of Finance, set out to investigate whether welfare programs could be used to increase school enrollment and improve health conditions. He conducted an RCT on a set of villages, selecting some of them at random to receive a new welfare program called PROGRESA. The program gave money to poor families if their children went to school regularly and the family used preventive health care. More money was given if the children were in secondary school than in primary school, to compensate for the children’s lost wages, and more money was given for girls attending school than for boys. The remaining villages did not get this treatment, and formed the control group. Because of the randomization, there were no confounding factors and it was possible to establish that PROGRESA increased school enrollment. For boys, the enrollment increased from 73% in the control group to 77% in the PROGRESA group. For girls, the increase was even greater, from 67% in the control group to almost 75% in the PROGRESA group. Due to the success of this experiment, the Mexican government supported the program under the new name OPORTUNIDADES, as an investment in a healthy and well educated population.\n",
    "\n",
    "In some situations it might not be possible to carry out a randomized controlled experiment, even when the aim is to investigate causality. For example, suppose you want to study the effects of alcohol consumption during pregnancy, and you randomly assign some pregnant women to your “alcohol” group. You should not expect cooperation from them if you present them with a drink. In such situations you will almost invariably be conducting an observational study, not an experiment. Be alert for confounding factors.\n",
    "\n",
    "\n",
    "## Causality (Video Lecture)\n",
    "* Sample A: control group\n",
    "* Sample B: treatment group\n",
    "\n",
    "\n",
    "1. If the treatment and control groups are selected at random, then you can make causal conclusions.\n",
    "2. Any difference in outcomes between the 2 groups could be due to:\n",
    "    * Chance\n",
    "    * Treatment\n",
    "\n",
    "## [Causality](https://www.inferentialthinking.com/chapters/12/3/Causality) (Inferential Thinking - 12.3)\n",
    "Our methods for comparing 2 samples have a powerful use in the analysis of **randomized controlled experiments**. Since the treatment and control groups are assigned randomly in such experiments, differences in their outcomes can be compared to what would happen just due to chance if the treatment had no effect at all. **If the observed differences are more marked than what we would predict as purely due to chance, we will have evidence of causation**. Because of the unbiased assignment of individuals to the treatment and control groups, differences in the outcomes of the 2 groups can be ascribed to the treatment.\n",
    "\n",
    "The key to the analysis of **randomized control experiments** is understanding how chance is involved. This helps setting up clear null and alternative hypotheses. Once that's done, we can use methods from the previous sections to complete the analysis.\n",
    "\n",
    "### Treating Chronic Back Pain - A Randomized Controlled Trial\n",
    "Low-back pain in adults can be very persistent and hard to treat. A [randomized controlled trial (RCT)](https://www.ncbi.nlm.nih.gov/pubmed/11376175) examined the effect of using Botulinum Toxin A as a treatment.\n",
    "\n",
    "* Botulinum toxin is a neurotoxic protein that causes the disease botulism\n",
    "* [Wikipedia](https://en.wikipedia.org/wiki/Botulinum_toxin) states that botulinum \"is the most acutely lethal toxin known\".\n",
    "* There are 7 types of botulinum toxin\n",
    "    * Botulinum Toxin A is one of the types that can cause disease in humans, but it is also used in medicine to treat diseases involving muscles.\n",
    "    * The RCT analyzed by Foster, Clapp, and Jabari in 2001 examined it as a treatment for low back pain\n",
    "\n",
    "31 patients with low-back pain were randomized into 15 in the treatment group and 16 in control group. The control group was given normal saline. The trials were run double-blind so that neither doctors nor patients knew which group they were in.\n",
    "\n",
    "8 weeks after the start of the study, 9 of the 15 in the treatment group and 2 of the 16 in the control group had pain relief (according to a precise definition used by the researchers). These data are available in the table `bta` and appear to show that the treatment has a clear benefit."
   ]
  },
  {
   "cell_type": "code",
   "execution_count": 26,
   "metadata": {},
   "outputs": [
    {
     "data": {
      "text/html": [
       "<table border=\"1\" class=\"dataframe\">\n",
       "    <thead>\n",
       "        <tr>\n",
       "            <th>Group</th> <th>Result</th>\n",
       "        </tr>\n",
       "    </thead>\n",
       "    <tbody>\n",
       "        <tr>\n",
       "            <td>Control</td> <td>1     </td>\n",
       "        </tr>\n",
       "        <tr>\n",
       "            <td>Control</td> <td>1     </td>\n",
       "        </tr>\n",
       "        <tr>\n",
       "            <td>Control</td> <td>0     </td>\n",
       "        </tr>\n",
       "        <tr>\n",
       "            <td>Control</td> <td>0     </td>\n",
       "        </tr>\n",
       "        <tr>\n",
       "            <td>Control</td> <td>0     </td>\n",
       "        </tr>\n",
       "        <tr>\n",
       "            <td>Control</td> <td>0     </td>\n",
       "        </tr>\n",
       "        <tr>\n",
       "            <td>Control</td> <td>0     </td>\n",
       "        </tr>\n",
       "        <tr>\n",
       "            <td>Control</td> <td>0     </td>\n",
       "        </tr>\n",
       "        <tr>\n",
       "            <td>Control</td> <td>0     </td>\n",
       "        </tr>\n",
       "        <tr>\n",
       "            <td>Control</td> <td>0     </td>\n",
       "        </tr>\n",
       "    </tbody>\n",
       "</table>\n",
       "<p>... (21 rows omitted)</p>"
      ],
      "text/plain": [
       "Group   | Result\n",
       "Control | 1\n",
       "Control | 1\n",
       "Control | 0\n",
       "Control | 0\n",
       "Control | 0\n",
       "Control | 0\n",
       "Control | 0\n",
       "Control | 0\n",
       "Control | 0\n",
       "Control | 0\n",
       "... (21 rows omitted)"
      ]
     },
     "execution_count": 26,
     "metadata": {},
     "output_type": "execute_result"
    }
   ],
   "source": [
    "bta = Table.read_table('bta.csv')\n",
    "bta"
   ]
  },
  {
   "cell_type": "markdown",
   "metadata": {},
   "source": [
    "The number `1` indicates patient who received pain relief. Thus, the **average** of the number of 1's is the proportion of a certain group patients who had pain relief."
   ]
  },
  {
   "cell_type": "code",
   "execution_count": 27,
   "metadata": {},
   "outputs": [
    {
     "data": {
      "text/html": [
       "<table border=\"1\" class=\"dataframe\">\n",
       "    <thead>\n",
       "        <tr>\n",
       "            <th>Group</th> <th>Result mean</th>\n",
       "        </tr>\n",
       "    </thead>\n",
       "    <tbody>\n",
       "        <tr>\n",
       "            <td>Control  </td> <td>0.125      </td>\n",
       "        </tr>\n",
       "        <tr>\n",
       "            <td>Treatment</td> <td>0.6        </td>\n",
       "        </tr>\n",
       "    </tbody>\n",
       "</table>"
      ],
      "text/plain": [
       "Group     | Result mean\n",
       "Control   | 0.125\n",
       "Treatment | 0.6"
      ]
     },
     "execution_count": 27,
     "metadata": {},
     "output_type": "execute_result"
    }
   ],
   "source": [
    "bta.group('Group', np.mean)"
   ]
  },
  {
   "cell_type": "markdown",
   "metadata": {},
   "source": [
    "Above, 60% of the patients in the treatment group had pain relief, compared to only 12.5% in the control group. None of the patients suffered side effects.\n",
    "\n",
    "The hypothesis is that botulinum toxin A did better than saline; however, we can't reach a conclusion yet. The patients were assigned at random into the 2 groups, so perhaps the difference could just be due to chance?\n",
    "\n",
    "We have to consider the possibility that among the 31 people in the study, some were able to recover better than others, even without any help from the treatment. What if an unusually large proportion of them got assigned to the treatment group by chance? In this case, even if the treatment did nothing more than the saline in the control group, the results of the treatment group might look better than those of the control group.\n",
    "\n",
    "To take into account this possibility, let's start by setting up the chance model."
   ]
  },
  {
   "cell_type": "markdown",
   "metadata": {},
   "source": [
    "## Potential Outcomes\n",
    "Before the patients are randomized into the 2 groups, our minds instinctively imagine 2 possible outcomes for each patient:\n",
    "1. The outcome that the patient would have if assigned to the treatment group\n",
    "2. The outcome that the same patient would have if assigned to the control group\n",
    "\n",
    "These are called **the 2 potential outcomes** of the patient. Thus there are 31 potential treatment outcomes and 31 potential control outcomes. The question is about the distribution of these 2 sets of 31 outcomes each, are they the same or not?\n",
    "\n",
    "We can't answer this yet because we don't get to see all 31 values in each group. Currently we only have a randomly selected 16 of the potential control outcomes and the treatment outcomes of the remaining 15 patients.\n",
    "\n",
    "Here's a visualization of the setting. Each patient has a 2-sided ticket.\n",
    "<img src = 'ticket.jpg' width = 450/>\n",
    "After the randomization, we get to see the right half of a randomly selected set of tickets, and the left half of the remaining group.\n",
    "<img src = 'data.jpg' width = 450/>"
   ]
  },
  {
   "cell_type": "markdown",
   "metadata": {},
   "source": [
    "The table `observed_outcomes` collects the information about every patient's potential outcomes, leaving the unobserved half of each \"ticket\" blank. (It's another way of thinking about the `bta` table, carrying the same information)"
   ]
  },
  {
   "cell_type": "code",
   "execution_count": 28,
   "metadata": {},
   "outputs": [
    {
     "data": {
      "text/html": [
       "<table border=\"1\" class=\"dataframe\">\n",
       "    <thead>\n",
       "        <tr>\n",
       "            <th>Group</th> <th>Outcome if assigned treatment</th> <th>Outcome if assigned control</th>\n",
       "        </tr>\n",
       "    </thead>\n",
       "    <tbody>\n",
       "        <tr>\n",
       "            <td>Control  </td> <td>Unknown                      </td> <td>1                          </td>\n",
       "        </tr>\n",
       "        <tr>\n",
       "            <td>Control  </td> <td>Unknown                      </td> <td>1                          </td>\n",
       "        </tr>\n",
       "        <tr>\n",
       "            <td>Control  </td> <td>Unknown                      </td> <td>0                          </td>\n",
       "        </tr>\n",
       "        <tr>\n",
       "            <td>Control  </td> <td>Unknown                      </td> <td>0                          </td>\n",
       "        </tr>\n",
       "        <tr>\n",
       "            <td>Control  </td> <td>Unknown                      </td> <td>0                          </td>\n",
       "        </tr>\n",
       "        <tr>\n",
       "            <td>Control  </td> <td>Unknown                      </td> <td>0                          </td>\n",
       "        </tr>\n",
       "        <tr>\n",
       "            <td>Control  </td> <td>Unknown                      </td> <td>0                          </td>\n",
       "        </tr>\n",
       "        <tr>\n",
       "            <td>Control  </td> <td>Unknown                      </td> <td>0                          </td>\n",
       "        </tr>\n",
       "        <tr>\n",
       "            <td>Control  </td> <td>Unknown                      </td> <td>0                          </td>\n",
       "        </tr>\n",
       "        <tr>\n",
       "            <td>Control  </td> <td>Unknown                      </td> <td>0                          </td>\n",
       "        </tr>\n",
       "        <tr>\n",
       "            <td>Control  </td> <td>Unknown                      </td> <td>0                          </td>\n",
       "        </tr>\n",
       "        <tr>\n",
       "            <td>Control  </td> <td>Unknown                      </td> <td>0                          </td>\n",
       "        </tr>\n",
       "        <tr>\n",
       "            <td>Control  </td> <td>Unknown                      </td> <td>0                          </td>\n",
       "        </tr>\n",
       "        <tr>\n",
       "            <td>Control  </td> <td>Unknown                      </td> <td>0                          </td>\n",
       "        </tr>\n",
       "        <tr>\n",
       "            <td>Control  </td> <td>Unknown                      </td> <td>0                          </td>\n",
       "        </tr>\n",
       "        <tr>\n",
       "            <td>Control  </td> <td>Unknown                      </td> <td>0                          </td>\n",
       "        </tr>\n",
       "        <tr>\n",
       "            <td>Treatment</td> <td>1                            </td> <td>Unknown                    </td>\n",
       "        </tr>\n",
       "        <tr>\n",
       "            <td>Treatment</td> <td>1                            </td> <td>Unknown                    </td>\n",
       "        </tr>\n",
       "        <tr>\n",
       "            <td>Treatment</td> <td>1                            </td> <td>Unknown                    </td>\n",
       "        </tr>\n",
       "        <tr>\n",
       "            <td>Treatment</td> <td>1                            </td> <td>Unknown                    </td>\n",
       "        </tr>\n",
       "        <tr>\n",
       "            <td>Treatment</td> <td>1                            </td> <td>Unknown                    </td>\n",
       "        </tr>\n",
       "        <tr>\n",
       "            <td>Treatment</td> <td>1                            </td> <td>Unknown                    </td>\n",
       "        </tr>\n",
       "        <tr>\n",
       "            <td>Treatment</td> <td>1                            </td> <td>Unknown                    </td>\n",
       "        </tr>\n",
       "        <tr>\n",
       "            <td>Treatment</td> <td>1                            </td> <td>Unknown                    </td>\n",
       "        </tr>\n",
       "        <tr>\n",
       "            <td>Treatment</td> <td>1                            </td> <td>Unknown                    </td>\n",
       "        </tr>\n",
       "        <tr>\n",
       "            <td>Treatment</td> <td>0                            </td> <td>Unknown                    </td>\n",
       "        </tr>\n",
       "        <tr>\n",
       "            <td>Treatment</td> <td>0                            </td> <td>Unknown                    </td>\n",
       "        </tr>\n",
       "        <tr>\n",
       "            <td>Treatment</td> <td>0                            </td> <td>Unknown                    </td>\n",
       "        </tr>\n",
       "        <tr>\n",
       "            <td>Treatment</td> <td>0                            </td> <td>Unknown                    </td>\n",
       "        </tr>\n",
       "        <tr>\n",
       "            <td>Treatment</td> <td>0                            </td> <td>Unknown                    </td>\n",
       "        </tr>\n",
       "        <tr>\n",
       "            <td>Treatment</td> <td>0                            </td> <td>Unknown                    </td>\n",
       "        </tr>\n",
       "    </tbody>\n",
       "</table>"
      ],
      "text/plain": [
       "<IPython.core.display.HTML object>"
      ]
     },
     "metadata": {},
     "output_type": "display_data"
    }
   ],
   "source": [
    "observed_outcomes = Table.read_table('observed_outcomes.csv')\n",
    "observed_outcomes.show()"
   ]
  },
  {
   "cell_type": "markdown",
   "metadata": {},
   "source": [
    "## The Hypothesis\n",
    "The question is whether the treatment does anything. In terms of the table `observed_outcomes`, the question is whether the distribution of the 31 **treatment** values in Column 1 (including the unknown ones) is different from the distribution of the 31 **control** values in Column 2 (also including the unknown ones).\n",
    "\n",
    "### Null Hypothesis\n",
    "The distribution of all 31 potential **treatment** outcomes is the same as that of all 31 potential **control** outcomes. Botulinum toxin A does nothing different from saline; the difference in the 2 samples is just due to chance.\n",
    "\n",
    "### Alternative\n",
    "The distribution of 31 potential **treatment** outcomes is different from that of the 31 control outcomes. The treatment does something different from the control.\n",
    "\n",
    "There are 31 observed outcomes jointly in the 2 groups. If the null hypothesis were true, it wouldn't matter which of those 31 outcomes were labeled \"treatment\" and \"control\".\n",
    "\n",
    "We can simulate this by:\n",
    "1. Randomly permute the 31 values\n",
    "2. Split them into 2 groups of 16 and 15\n",
    "3. See how different the distributions in the 2 groups are\n",
    "\n",
    "Since the data are `0` and `1`, we can calculate how different the 2 proportions are.\n",
    "\n",
    "Above is exactly what we have done for A/B testing in the previous section. Sample A is now the control group and Sample B is the treatment group. We will carry out the test below showing the details of all the steps. "
   ]
  },
  {
   "cell_type": "markdown",
   "metadata": {},
   "source": [
    "## The Test Statistic\n",
    "If the 2 groups are very different from each other, we will lean towards the alternative hypothesis that the 2 underlying distributions are different. Thus, the test statistic would be **the distance between the 2 groups proportions**, that is, **the absolute value of the difference between them**.\n",
    "\n",
    "Large value of test statistic will favor the alternative hypothesis over the null."
   ]
  },
  {
   "cell_type": "code",
   "execution_count": 29,
   "metadata": {},
   "outputs": [
    {
     "data": {
      "text/html": [
       "<table border=\"1\" class=\"dataframe\">\n",
       "    <thead>\n",
       "        <tr>\n",
       "            <th>Group</th> <th>Result mean</th>\n",
       "        </tr>\n",
       "    </thead>\n",
       "    <tbody>\n",
       "        <tr>\n",
       "            <td>Control  </td> <td>0.125      </td>\n",
       "        </tr>\n",
       "        <tr>\n",
       "            <td>Treatment</td> <td>0.6        </td>\n",
       "        </tr>\n",
       "    </tbody>\n",
       "</table>"
      ],
      "text/plain": [
       "Group     | Result mean\n",
       "Control   | 0.125\n",
       "Treatment | 0.6"
      ]
     },
     "execution_count": 29,
     "metadata": {},
     "output_type": "execute_result"
    }
   ],
   "source": [
    "bta.group('Group', np.mean)"
   ]
  },
  {
   "cell_type": "code",
   "execution_count": 30,
   "metadata": {},
   "outputs": [
    {
     "data": {
      "text/plain": [
       "0.475"
      ]
     },
     "execution_count": 30,
     "metadata": {},
     "output_type": "execute_result"
    }
   ],
   "source": [
    "observed_proportions = bta.group('Group', np.mean).column(1)\n",
    "observed_distance = abs(observed_proportions.item(0) - observed_proportions.item(1))\n",
    "observed_distance"
   ]
  },
  {
   "cell_type": "markdown",
   "metadata": {},
   "source": [
    "### Predicting the Statistic Under the Null Hypothesis\n",
    "We will **simulate results under the null hypothesis** to see how our test statistic would result if the null hypothesis is true.\n",
    "\n",
    "#### Generating One Value of The Statistic\n",
    "The simulation follows the same process we used previously. Start by randomly permutting the `results` column and assigning \"control\" and \"treatment\" labels to the permutted result."
   ]
  },
  {
   "cell_type": "code",
   "execution_count": 31,
   "metadata": {},
   "outputs": [
    {
     "data": {
      "text/html": [
       "<table border=\"1\" class=\"dataframe\">\n",
       "    <thead>\n",
       "        <tr>\n",
       "            <th>Group</th> <th>Result</th> <th>Shuffled</th>\n",
       "        </tr>\n",
       "    </thead>\n",
       "    <tbody>\n",
       "        <tr>\n",
       "            <td>Control</td> <td>1     </td> <td>0       </td>\n",
       "        </tr>\n",
       "        <tr>\n",
       "            <td>Control</td> <td>1     </td> <td>0       </td>\n",
       "        </tr>\n",
       "        <tr>\n",
       "            <td>Control</td> <td>0     </td> <td>1       </td>\n",
       "        </tr>\n",
       "        <tr>\n",
       "            <td>Control</td> <td>0     </td> <td>0       </td>\n",
       "        </tr>\n",
       "        <tr>\n",
       "            <td>Control</td> <td>0     </td> <td>0       </td>\n",
       "        </tr>\n",
       "        <tr>\n",
       "            <td>Control</td> <td>0     </td> <td>1       </td>\n",
       "        </tr>\n",
       "        <tr>\n",
       "            <td>Control</td> <td>0     </td> <td>1       </td>\n",
       "        </tr>\n",
       "        <tr>\n",
       "            <td>Control</td> <td>0     </td> <td>1       </td>\n",
       "        </tr>\n",
       "        <tr>\n",
       "            <td>Control</td> <td>0     </td> <td>0       </td>\n",
       "        </tr>\n",
       "        <tr>\n",
       "            <td>Control</td> <td>0     </td> <td>1       </td>\n",
       "        </tr>\n",
       "    </tbody>\n",
       "</table>\n",
       "<p>... (21 rows omitted)</p>"
      ],
      "text/plain": [
       "Group   | Result | Shuffled\n",
       "Control | 1      | 0\n",
       "Control | 1      | 0\n",
       "Control | 0      | 1\n",
       "Control | 0      | 0\n",
       "Control | 0      | 0\n",
       "Control | 0      | 1\n",
       "Control | 0      | 1\n",
       "Control | 0      | 1\n",
       "Control | 0      | 0\n",
       "Control | 0      | 1\n",
       "... (21 rows omitted)"
      ]
     },
     "execution_count": 31,
     "metadata": {},
     "output_type": "execute_result"
    }
   ],
   "source": [
    "permutted_array = bta.sample(with_replacement = False).column(1)\n",
    "original_and_shuffled = bta.with_column('Shuffled', permutted_array)\n",
    "original_and_shuffled"
   ]
  },
  {
   "cell_type": "code",
   "execution_count": 32,
   "metadata": {},
   "outputs": [
    {
     "data": {
      "text/html": [
       "<table border=\"1\" class=\"dataframe\">\n",
       "    <thead>\n",
       "        <tr>\n",
       "            <th>Group</th> <th>Result mean</th> <th>Shuffled mean</th>\n",
       "        </tr>\n",
       "    </thead>\n",
       "    <tbody>\n",
       "        <tr>\n",
       "            <td>Control  </td> <td>0.125      </td> <td>0.5          </td>\n",
       "        </tr>\n",
       "        <tr>\n",
       "            <td>Treatment</td> <td>0.6        </td> <td>0.2          </td>\n",
       "        </tr>\n",
       "    </tbody>\n",
       "</table>"
      ],
      "text/plain": [
       "Group     | Result mean | Shuffled mean\n",
       "Control   | 0.125       | 0.5\n",
       "Treatment | 0.6         | 0.2"
      ]
     },
     "execution_count": 32,
     "metadata": {},
     "output_type": "execute_result"
    }
   ],
   "source": [
    "# Group based on the mean, once again\n",
    "grouped_simulation = original_and_shuffled.group('Group', np.mean)\n",
    "grouped_simulation"
   ]
  },
  {
   "cell_type": "code",
   "execution_count": 33,
   "metadata": {},
   "outputs": [
    {
     "data": {
      "text/plain": [
       "0.3"
      ]
     },
     "execution_count": 33,
     "metadata": {},
     "output_type": "execute_result"
    }
   ],
   "source": [
    "# Calculate the distance between the permutted means\n",
    "permutted_distance = abs(grouped_simulation.column(2).item(0) - grouped_simulation.column(2).item(1))\n",
    "permutted_distance"
   ]
  },
  {
   "cell_type": "markdown",
   "metadata": {},
   "source": [
    "### Permutation Test\n",
    "Now that we have done one simulation, we can write a function to carry out multiple simulations."
   ]
  },
  {
   "cell_type": "code",
   "execution_count": 34,
   "metadata": {},
   "outputs": [],
   "source": [
    "def permutation_simulation(table, value_of_interest, group_column, repetitions):\n",
    "    \n",
    "    test_statistics = make_array()\n",
    "    tbl_of_interest = table.select(group_column, value_of_interest)\n",
    "    \n",
    "    for i in np.arange(repetitions):\n",
    "        shuffled_array = tbl_of_interest.sample(with_replacement = False).column(1)\n",
    "        original_and_shuffled = tbl_of_interest.with_column('Shuffled', shuffled_array)\n",
    "        grouped_table = original_and_shuffled.group(group_column, np.mean)\n",
    "        test_statistic = abs(grouped_table.column(2).item(0) - grouped_table.column(2).item(1))\n",
    "        test_statistics = np.append(test_statistics, test_statistic)\n",
    "    return test_statistics"
   ]
  },
  {
   "cell_type": "code",
   "execution_count": 35,
   "metadata": {},
   "outputs": [],
   "source": [
    "# Do 20,000 repetitions!\n",
    "distances = permutation_simulation(bta, 'Result', 'Group', 20000)"
   ]
  },
  {
   "cell_type": "markdown",
   "metadata": {},
   "source": [
    "## Conclusion of the Test\n",
    "The array `distances` contains 20,000 values of test statistic simulated under the null hypothesis.\n",
    "\n",
    "Recall that large values of test statistic favor the alternative hypothesis. This implies that the empirical P-value is the proportion of simulated statistics that were larger or equal to the observed statistic."
   ]
  },
  {
   "cell_type": "code",
   "execution_count": 36,
   "metadata": {},
   "outputs": [
    {
     "data": {
      "text/plain": [
       "0.0097"
      ]
     },
     "execution_count": 36,
     "metadata": {},
     "output_type": "execute_result"
    }
   ],
   "source": [
    "empirical_Pvalue = np.count_nonzero(distances >= observed_distance)/20000\n",
    "empirical_Pvalue"
   ]
  },
  {
   "cell_type": "markdown",
   "metadata": {},
   "source": [
    "Above is a relatively small P-value. "
   ]
  },
  {
   "cell_type": "code",
   "execution_count": 37,
   "metadata": {},
   "outputs": [
    {
     "name": "stdout",
     "output_type": "stream",
     "text": [
      "Observed Distance: 0.475\n",
      "Empirical P-value: 0.97 %\n"
     ]
    },
    {
     "data": {
      "image/png": "[encoded data removed]",
      "text/plain": [
       "<Figure size 432x288 with 1 Axes>"
      ]
     },
     "metadata": {},
     "output_type": "display_data"
    }
   ],
   "source": [
    "Table().with_column('Distance under Null Hypothesis', distances).hist(bins = np.arange(0, 0.7, 0.1))\n",
    "plt.scatter(observed_distance, 0, color = 'red', s = 30)\n",
    "plt.title('Prediction Under the Null Hypothesis')\n",
    "print('Observed Distance:', observed_distance )\n",
    "print('Empirical P-value:', round(empirical_Pvalue, 4) *100, '%')"
   ]
  },
  {
   "cell_type": "markdown",
   "metadata": {},
   "source": [
    "The observed statistic (shown as red dot) is in the tail of the empirical histogram of the test statistic generated under the null hypothesis. This implies that the test favors the alternative hypothesis more than the null. The evidence supports the hypothesis that the treatment does something!"
   ]
  },
  {
   "cell_type": "markdown",
   "metadata": {},
   "source": [
    "## Causality\n",
    "Because the trials were randomized, the test is evidence that the treatment **causes** the difference. The random assignment of patients to the 2 groups ensures that there is no confounding variable that could affect the conclusion of causality.\n",
    "\n",
    "If the treatment had not been randomly assigned, the test would still point toward an **association** between the treatment and back pain outcomes among the 31 patients. **However**, without randomization, the association would not imply that the treatment caused a change in back pain outcomes.\n",
    "\n",
    "For example, if the patients themselves had chosen whether to administer the treatment, perhaps the patients experiencing more pain would be more likely to choose the treatment and more likely to experience some reduction in pain even without medication. Pre-existing pain would then be a **confounding factor** in the analysis."
   ]
  },
  {
   "cell_type": "markdown",
   "metadata": {},
   "source": [
    "## A Meta-Analysis\n",
    "While the RCT does provide evidence that the botulinum Toxin A treatment helped patients, a study of 31 patients is not enough to establish the effectiveness of a medical treatment. This is **not just because of the small sample size**. The results in this section are valid for the 31 patients in the study, but we are interested in the population of **all possible patients**. If the 31 patients were a random sample from a larger population, our confidence interval would be valid for that population. But they were not a random sample.\n",
    "\n",
    "In 2011, a group of researchers performed a [meta-analysis](https://www.ncbi.nlm.nih.gov/pubmed/21249702) of the studies on the treatment. That is, they identified all the available studies of such treatments for low-back pain and summarized the collated results.\n",
    "\n",
    "There were several studies but not many could be included in a scientifically sound manner: “We excluded evidence from nineteen studies due to non-randomisation, incomplete or unpublished data.” Only three randomized controlled trials remained, one of which is the one we have studied in this section. The meta-analysis gave it the highest assessment among all the studies (LBP stands for low-back pain): “We identified three studies that investigated the merits of BoNT for LBP, but only one had a low risk of bias and evaluated patients with non-specific LBP (N = 31).”\n",
    "\n",
    "Putting it all together, the meta-analysis concluded, “There is low quality evidence that BoNT injections improved pain, function, or both better than saline injections and very low quality evidence that they were better than acupuncture or steroid injections. … Further research is very likely to have an important impact on the estimate of effect and our confidence in it. Future trials should standardize patient populations, treatment protocols and comparison groups, enlist more participants and include long-term outcomes, cost-benefit analysis and clinical relevance of findings.”\n",
    "\n",
    "It takes a lot of careful work to establish that a medical treatment has a beneficial effect. Knowing how to analyze randomized controlled trials is a crucial part of this work."
   ]
  },
  {
   "cell_type": "code",
   "execution_count": null,
   "metadata": {},
   "outputs": [],
   "source": []
  }
 ],
 "metadata": {
  "kernelspec": {
   "display_name": "Python 3",
   "language": "python",
   "name": "python3"
  },
  "language_info": {
   "codemirror_mode": {
    "name": "ipython",
    "version": 3
   },
   "file_extension": ".py",
   "mimetype": "text/x-python",
   "name": "python",
   "nbconvert_exporter": "python",
   "pygments_lexer": "ipython3",
   "version": "3.7.1"
  }
 },
 "nbformat": 4,
 "nbformat_minor": 1
}
