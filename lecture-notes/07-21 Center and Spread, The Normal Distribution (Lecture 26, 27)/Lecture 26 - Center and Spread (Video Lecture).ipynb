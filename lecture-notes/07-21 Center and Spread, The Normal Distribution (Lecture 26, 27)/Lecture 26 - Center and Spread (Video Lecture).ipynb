{
 "cells": [
  {
   "cell_type": "code",
   "execution_count": 1,
   "metadata": {},
   "outputs": [],
   "source": [
    "from datascience import *\n",
    "import numpy as np\n",
    "%matplotlib inline\n",
    "import matplotlib.pyplot as plt\n",
    "plt.style.use('fivethirtyeight')\n",
    "\n",
    "from ipywidgets import interact, interactive, fixed, interact_manual\n",
    "import ipywidgets as widgets"
   ]
  },
  {
   "cell_type": "markdown",
   "metadata": {},
   "source": [
    "# Confidence Interval Tests (Review)\n",
    "Let's start the lecture with review about confidence interval tests and some clarifications about using confidence interval."
   ]
  },
  {
   "cell_type": "markdown",
   "metadata": {},
   "source": [
    "## 95% Confidence Interval\n",
    "Recall we used confidence interval to create an interval of **estimates of a parameter** in the population that we are interested in. \n",
    "1. It's based on random sampling\n",
    "2. 95% is called the **confidence level**\n",
    "    * The % could be anything between 0 to 100\n",
    "    * The higher %, the wider interval we will obtain. On the same time, wider interval means less accurate.\n",
    "3. The **confidence is in the process** that generated the interval\n",
    "    * Meaning: If we go from population to sample to resample, the entire process will generate a **good interval** about 95% of the time.\n",
    "    * Note: **\"Entire process\" includes going back to population and taking more sample**, which in real life case is often not possible since we don't have access to the population"
   ]
  },
  {
   "cell_type": "markdown",
   "metadata": {},
   "source": [
    "## Demo\n",
    "In the last few lectures, we have been using real datasets. This time, we will use a made-up dataset. Below we have the functions `bootstrap_mean` and `bootstrap_ci_mean` from **Lecture 24 - Confidence Interval**"
   ]
  },
  {
   "cell_type": "code",
   "execution_count": 2,
   "metadata": {},
   "outputs": [],
   "source": [
    "def bootstrap_mean(sample_from_population, label, repetitions):\n",
    "    \"\"\" Returns a list of resampled mean.\n",
    "    sample_from_population: An original sample taken from the population\n",
    "    label: the label within the sample table that we want to bootstrap\n",
    "    repetitions: the number of repetition\n",
    "    \n",
    "    \"\"\"\n",
    "    resampled_mean = []\n",
    "    for i in np.arange(repetitions):\n",
    "        resample = sample_from_population.sample()\n",
    "        # Below we use np.mean\n",
    "        resampled_mean.append(np.mean(resample.column(label)))\n",
    "    return resampled_mean"
   ]
  },
  {
   "cell_type": "code",
   "execution_count": 3,
   "metadata": {},
   "outputs": [],
   "source": [
    "def bootstrap_ci_mean(sample_from_population, label, repetitions):\n",
    "    # Use the `bootstrap_mean` method and store the values in the list \"resampled_means\"\n",
    "    resampled_means = bootstrap_mean(sample_from_population, label, repetitions)\n",
    "    \n",
    "    # Compute the left 2.5% and right 2.5% cutoffs\n",
    "    interval_95 = make_array(\n",
    "        percentile(2.5, resampled_means),\n",
    "        percentile(97.5, resampled_means)\n",
    "    )\n",
    "    \n",
    "    #Construct the histogram and the 95% Confidence Interval horizontal line\n",
    "    Table().with_column('Resampled mean', resampled_means).hist('Resampled mean')\n",
    "    plt.plot(interval_95, [0, 0], color = 'gold', lw = 8)\n",
    "    print('Approximate 95% Bootstrap Confidence Interval for the Population Mean:')\n",
    "    print(np.round(interval_95, 3))"
   ]
  },
  {
   "cell_type": "markdown",
   "metadata": {},
   "source": [
    "And below we have a fake dataset called **`flips`**, which is a dataset of results of flipping an **unfair** coin. `1` represents heads, `0` represents tails. "
   ]
  },
  {
   "cell_type": "code",
   "execution_count": 4,
   "metadata": {},
   "outputs": [
    {
     "data": {
      "text/html": [
       "<table border=\"1\" class=\"dataframe\">\n",
       "    <thead>\n",
       "        <tr>\n",
       "            <th>Heads</th>\n",
       "        </tr>\n",
       "    </thead>\n",
       "    <tbody>\n",
       "        <tr>\n",
       "            <td>1    </td>\n",
       "        </tr>\n",
       "        <tr>\n",
       "            <td>0    </td>\n",
       "        </tr>\n",
       "        <tr>\n",
       "            <td>0    </td>\n",
       "        </tr>\n",
       "    </tbody>\n",
       "</table>\n",
       "<p>... (172 rows omitted)</p>"
      ],
      "text/plain": [
       "<IPython.core.display.HTML object>"
      ]
     },
     "metadata": {},
     "output_type": "display_data"
    }
   ],
   "source": [
    "# Heads is 1, Tails is 0\n",
    "flips = Table.read_table('unfair_flips.csv')\n",
    "flips.show(3)"
   ]
  },
  {
   "cell_type": "markdown",
   "metadata": {},
   "source": [
    "This problem is based on the Google interview question, \n",
    "\n",
    "\"We think we have an unfair coin. We think the coin has either 0.6 or 0.9 chances to get head. How do we decide between the 2?\"\n",
    "\n",
    "What they're looking for is not us making hypothesis test on either one. If the coin is biased, either 0.6 or 0.9 seem equally likely to be good as the `null` hypothesis. Instead, they're looking for us to estimate a range of values the coin is possibly biased towards.\n",
    "\n",
    "Let's group the `flips` by the flipping result,"
   ]
  },
  {
   "cell_type": "code",
   "execution_count": 5,
   "metadata": {},
   "outputs": [
    {
     "data": {
      "text/html": [
       "<table border=\"1\" class=\"dataframe\">\n",
       "    <thead>\n",
       "        <tr>\n",
       "            <th>Heads</th> <th>count</th>\n",
       "        </tr>\n",
       "    </thead>\n",
       "    <tbody>\n",
       "        <tr>\n",
       "            <td>0    </td> <td>42   </td>\n",
       "        </tr>\n",
       "        <tr>\n",
       "            <td>1    </td> <td>133  </td>\n",
       "        </tr>\n",
       "    </tbody>\n",
       "</table>"
      ],
      "text/plain": [
       "Heads | count\n",
       "0     | 42\n",
       "1     | 133"
      ]
     },
     "execution_count": 5,
     "metadata": {},
     "output_type": "execute_result"
    }
   ],
   "source": [
    "# Group the flip result!\n",
    "flips.group('Heads')"
   ]
  },
  {
   "cell_type": "markdown",
   "metadata": {},
   "source": [
    "### How unfair can this coin be?\n",
    "Before proceeding to the lecture, we haven't covered the idea of using the `mean` as taking the proportions of some value."
   ]
  },
  {
   "cell_type": "markdown",
   "metadata": {},
   "source": [
    "### Aside: Taking the Mean for Computing the Proportion of a Value\n",
    "Suppose we have an array of `0`s and `1`s, "
   ]
  },
  {
   "cell_type": "code",
   "execution_count": 6,
   "metadata": {},
   "outputs": [
    {
     "data": {
      "text/plain": [
       "array([0, 0, 1, 1])"
      ]
     },
     "execution_count": 6,
     "metadata": {},
     "output_type": "execute_result"
    }
   ],
   "source": [
    "make_array(0, 0, 1, 1)"
   ]
  },
  {
   "cell_type": "markdown",
   "metadata": {},
   "source": [
    "If we take the mean of an array containing only zeroes and ones, it will give us the proportion of ones."
   ]
  },
  {
   "cell_type": "code",
   "execution_count": 7,
   "metadata": {},
   "outputs": [
    {
     "data": {
      "text/plain": [
       "0.5"
      ]
     },
     "execution_count": 7,
     "metadata": {},
     "output_type": "execute_result"
    }
   ],
   "source": [
    "np.mean(make_array(0, 0, 1, 1))"
   ]
  },
  {
   "cell_type": "markdown",
   "metadata": {},
   "source": [
    "How did that work?\n",
    "\n",
    "1. We sum all the values. We obtain `2`.\n",
    "2. Divide it by the total element in the array, which is `4`\n",
    "3. We obtain 2/4, or 0.5.\n",
    "\n",
    "If we remove a `1`, we'll obtain `1/3`."
   ]
  },
  {
   "cell_type": "code",
   "execution_count": 8,
   "metadata": {},
   "outputs": [
    {
     "data": {
      "text/plain": [
       "0.3333333333333333"
      ]
     },
     "execution_count": 8,
     "metadata": {},
     "output_type": "execute_result"
    }
   ],
   "source": [
    "np.mean(make_array(0, 0, 1))"
   ]
  },
  {
   "cell_type": "markdown",
   "metadata": {},
   "source": [
    "Conveniently enough, this way if a data only contains `0` and `1`, we can compute the `mean` to obtain proportion.\n",
    "\n",
    "Now back to our `flips` dataset, we can take the `mean` of the data,"
   ]
  },
  {
   "cell_type": "code",
   "execution_count": 9,
   "metadata": {},
   "outputs": [
    {
     "data": {
      "text/plain": [
       "0.76"
      ]
     },
     "execution_count": 9,
     "metadata": {},
     "output_type": "execute_result"
    }
   ],
   "source": [
    "np.mean(flips.column('Heads'))"
   ]
  },
  {
   "cell_type": "markdown",
   "metadata": {},
   "source": [
    "As we can see above, there're about 76% heads in the `flips` dataset. \n",
    "\n",
    "As usual, we can use the `boostrap_ci_mean` function on the `flips` data,"
   ]
  },
  {
   "cell_type": "code",
   "execution_count": 10,
   "metadata": {},
   "outputs": [
    {
     "name": "stdout",
     "output_type": "stream",
     "text": [
      "Approximate 95% Bootstrap Confidence Interval for the Population Mean:\n",
      "[0.697 0.823]\n"
     ]
    },
    {
     "data": {
      "image/png": "[encoded data removed]",
      "text/plain": [
       "<Figure size 432x288 with 1 Axes>"
      ]
     },
     "metadata": {},
     "output_type": "display_data"
    }
   ],
   "source": [
    "bootstrap_ci_mean(flips, 'Heads', 5000)"
   ]
  },
  {
   "cell_type": "markdown",
   "metadata": {},
   "source": [
    "From the result above, we can infer that the coin is probably biased towards the heads with a chance of between 0.7 to 0.9 of obtaining heads.\n",
    "\n",
    "Recall from past lecture, we looked at a confidence interval and see if the value 0 is within the interval and how that ties back to our `P-value` and A/B Testing hypothesis test. \n",
    "\n",
    "In this case, turns out we can use the confidence interval to conduct a hypothesis test. If the `null` hypothesis is that the coin is fair, then the chance of getting heads should be 0.5. Thus we can just check whether 0.5 is within the confidence interval. If it doesn't contain 0.5, then we can infer that the coin is not fair. \n",
    "\n",
    "Suppose we conduct the normal steps of hypothesis test. \n",
    "1. We set up `null` and `alternative` hypotheses\n",
    "    * `null`: the coin is far\n",
    "    * `alternative`: the coin is not fair\n",
    "2. Choose `test statistic`: the proportion of heads in 175 flips\n",
    "3. Do simulation of 175 flips under the null hypothesis (pretend that the coin is fair)\n",
    "4. Compute the proportion of heads\n",
    "5. Repeat step 3 and 4 multiple times and collect the `test statistic`s\n",
    "6. Construct a distribution of the `test statistic`, which is the distribution of the proportion of heads\n",
    "    * The distribution should look like a bell curve centered at 0.5 since the simulation is conducted under the null hypothesis\n",
    "    \n",
    "Recall that when we conduct the bootstrap, we pretend that the sample is the population. Notice that in our `flips` sample,"
   ]
  },
  {
   "cell_type": "code",
   "execution_count": 11,
   "metadata": {},
   "outputs": [
    {
     "data": {
      "text/html": [
       "<table border=\"1\" class=\"dataframe\">\n",
       "    <thead>\n",
       "        <tr>\n",
       "            <th>Heads</th> <th>count</th>\n",
       "        </tr>\n",
       "    </thead>\n",
       "    <tbody>\n",
       "        <tr>\n",
       "            <td>0    </td> <td>42   </td>\n",
       "        </tr>\n",
       "        <tr>\n",
       "            <td>1    </td> <td>133  </td>\n",
       "        </tr>\n",
       "    </tbody>\n",
       "</table>"
      ],
      "text/plain": [
       "Heads | count\n",
       "0     | 42\n",
       "1     | 133"
      ]
     },
     "execution_count": 11,
     "metadata": {},
     "output_type": "execute_result"
    }
   ],
   "source": [
    "# Group the flip result!\n",
    "flips.group('Heads')"
   ]
  },
  {
   "cell_type": "markdown",
   "metadata": {},
   "source": [
    "There're 133 heads and 42 tails. Every time we resample from the `flips` sample, it's 3 times more likely to obtain `heads` compared to obtaining `tails`. \n",
    "\n",
    "When we do the normal hypothesis test, our distribution is centered at 0.5 because we did the test assuming the null hypothesis is true (that the coin is fair, that the coin has 0.5 chance of obtaining heads).\n",
    "\n",
    "In the boostrap case, the distribution is going to be centered at the sample `mean`, which is,"
   ]
  },
  {
   "cell_type": "code",
   "execution_count": 12,
   "metadata": {},
   "outputs": [
    {
     "data": {
      "text/plain": [
       "0.76"
      ]
     },
     "execution_count": 12,
     "metadata": {},
     "output_type": "execute_result"
    }
   ],
   "source": [
    "np.mean(flips.column('Heads'))"
   ]
  },
  {
   "cell_type": "markdown",
   "metadata": {},
   "source": [
    "However, the variability of the distribution is the same as if we did the normal hypothesis test because for both cases, the sample size is the same: 175. This way, in both cases we will have the same bell curve shape distribution."
   ]
  },
  {
   "cell_type": "markdown",
   "metadata": {},
   "source": [
    "## Using a CI for Testing\n",
    "We can use a hypothesis test to conduct the hypothesis test.\n",
    "\n",
    "1. `Null hypothesis`: the population `mean` is some value `x`\n",
    "2. `Alternative`: the population `mean` is not `x`\n",
    "3. When we choose the cutoff for the `P-value`, we construct a confidence interval of (100-p)% for the population average. \n",
    "    * If we say that our `P-value` cutoff is 5%, then we want a 95% confidence interval.\n",
    "4. Check if `x` is within the interval. If not, then reject the null"
   ]
  },
  {
   "cell_type": "markdown",
   "metadata": {},
   "source": [
    "# Average\n",
    "All this time, we have been studying inference, which is taking a sample and drawing conclusion about the population. Now we are going to study **prediction**. Given some data or sample, can we make some prediction? To do that, we need building blocks, in which one of them is **average**.\n",
    "\n",
    "We calculate the average of some numbers by taking the sum of the numbers and dividing it with the amount of numbers.\n",
    "So if `Data : 2, 3, 3, 9`, then `Average = (2 + 3 + 3 + 9) / 4 = 4.25`.\n",
    "\n",
    "1. The `average` is not necessarily a value in the collection. \n",
    "    * Recall when we studied percentile, percentiles refer to a value in a collection. For example, the 49th percentile is a number from our data. In this case, the `average` is not necessarily a value in the data.\n",
    "    \n",
    "\n",
    "2. Even if the data are integers, the `average` is not necessarily an integer. \n",
    "3. The `average` is somewhere between the `min` and `max` of the data, but not necessarily halfway in between\n",
    "4. The `average` has the same units as the data (e.g. Celsius, km, grams, eggs)\n",
    "\n",
    "We can think of the `average` as the **smoothing operator**. For example, with the data that we have, `9` is a spike that is higher than other numbers. The `average` \"lowers\" the 9, but it is going to be higher than the small values (`2`, `3`). This is convenient for temperature readings. If we take temperature readings, sometimes the thermometer would spike up or down. If we take the average of, let's say, 3 readings, we can obtain the average reading that is more smooth. This way, we can see the temperature readings over the course of the day more easily. "
   ]
  },
  {
   "cell_type": "markdown",
   "metadata": {},
   "source": [
    "## Discussion Question\n",
    "Suppose we have the following data on NBA players' heights. \n",
    "<img src = 'NBA.jpg' width = 700\\>\n",
    "\n",
    "From the data above, which one is greater: `mean` or `median`?\n",
    "\n",
    "#### Answer:\n",
    "If our data were symmetrical, the `mean` and `median` would be roughly in the same position. On the other hand, the data above has a tail on the left side, which affects the `mean` because this means we have more extreme low values that drags down the `mean`. Thus, the `median` is more likely to be grater."
   ]
  },
  {
   "cell_type": "markdown",
   "metadata": {},
   "source": [
    "## Properties of the Mean\n",
    "1. We can think of the `mean` as the balance point of the histogram.\n",
    "2. `mean` is not the halfway point of the data. That's `median`\n",
    "3. If the distribution is symmetric about a point, then that point is both `mean` and `median`\n",
    "4. If the distribution is symmetric about a point, then that point is both the average and the median\n",
    "5. If the histogram is skewed (the tail is longer in one direction than the other), then the `mean`  is pulled away from the median to the direction of the tail"
   ]
  },
  {
   "cell_type": "markdown",
   "metadata": {},
   "source": [
    "## Demo: Means\n",
    "Let's say we have the following values. These values are the same data as discussed before. The `mean` is not affected by the order in which the numbers appear."
   ]
  },
  {
   "cell_type": "code",
   "execution_count": 13,
   "metadata": {},
   "outputs": [],
   "source": [
    "values = [3, 2, 9, 3]"
   ]
  },
  {
   "cell_type": "markdown",
   "metadata": {},
   "source": [
    "The `mean` can be calculated in many ways:"
   ]
  },
  {
   "cell_type": "code",
   "execution_count": 14,
   "metadata": {},
   "outputs": [
    {
     "data": {
      "text/plain": [
       "4.25"
      ]
     },
     "execution_count": 14,
     "metadata": {},
     "output_type": "execute_result"
    }
   ],
   "source": [
    "np.average(values)"
   ]
  },
  {
   "cell_type": "code",
   "execution_count": 15,
   "metadata": {},
   "outputs": [
    {
     "data": {
      "text/plain": [
       "4.25"
      ]
     },
     "execution_count": 15,
     "metadata": {},
     "output_type": "execute_result"
    }
   ],
   "source": [
    "np.mean(values)"
   ]
  },
  {
   "cell_type": "code",
   "execution_count": 16,
   "metadata": {},
   "outputs": [
    {
     "data": {
      "text/plain": [
       "4.25"
      ]
     },
     "execution_count": 16,
     "metadata": {},
     "output_type": "execute_result"
    }
   ],
   "source": [
    "sum(values) / len(values)"
   ]
  },
  {
   "cell_type": "markdown",
   "metadata": {},
   "source": [
    "Another way to think of the `mean` is as a **weighted average of the number of times each element appear**. For example, in `values` we have the following:\n",
    "* 3 appears twice\n",
    "* 2 and 9 appear once\n",
    "\n",
    "Thus in this case, we can take the proportion of times each number appear, multiply it with the number of times it appear, and sum all of them. "
   ]
  },
  {
   "cell_type": "code",
   "execution_count": 17,
   "metadata": {},
   "outputs": [
    {
     "data": {
      "text/plain": [
       "4.25"
      ]
     },
     "execution_count": 17,
     "metadata": {},
     "output_type": "execute_result"
    }
   ],
   "source": [
    "(2/4) * 3 + (1/4) * 2 + (1/4) * 9"
   ]
  },
  {
   "cell_type": "markdown",
   "metadata": {},
   "source": [
    "# Standard Deviation\n",
    "Suppose we have 2 distributions (e.g. one is wider (more spread out), one is narrow) that are both perfectly symmetrical (the `mean` and `median` are the same), and they are centered at the same point. In this case, we can't use `median` nor `mean` to distinguish between the 2 distributions. We need to use a different measurement. In this case, we use **Standard Deviation**. The **standard deviation** measures the variability of a value in a distribution (e.g. how wide the values can be).\n",
    "\n",
    "## Defining Variability\n",
    "\n",
    "1. Method #1: Take the difference between biggest value and the smallest value\n",
    "    * But this method doesn't provide information about the shape of the distribution\n",
    "    * Suppose we have a distribution that is greatly wide and another distribution that is greatly narrow, if the narrow distribution has 2 values that are really far apart, we still won't be able to distinguish between the 2 distributions \n",
    "  \n",
    "        \n",
    "2. Method #2: Measure the variability around the `mean`\n",
    "    * Suppose we notice that in our spread out data, we have more values that are far from the `mean` \n",
    "    \n",
    "## Demo\n",
    "Back to our `values`, "
   ]
  },
  {
   "cell_type": "code",
   "execution_count": 18,
   "metadata": {},
   "outputs": [
    {
     "data": {
      "text/plain": [
       "array([3, 2, 9, 3])"
      ]
     },
     "execution_count": 18,
     "metadata": {},
     "output_type": "execute_result"
    }
   ],
   "source": [
    "values = make_array(3, 2, 9 ,3)\n",
    "values"
   ]
  },
  {
   "cell_type": "markdown",
   "metadata": {},
   "source": [
    "### 1. Average or `Mean`"
   ]
  },
  {
   "cell_type": "code",
   "execution_count": 19,
   "metadata": {},
   "outputs": [
    {
     "data": {
      "text/plain": [
       "4.25"
      ]
     },
     "execution_count": 19,
     "metadata": {},
     "output_type": "execute_result"
    }
   ],
   "source": [
    "average = np.average(values)\n",
    "average"
   ]
  },
  {
   "cell_type": "markdown",
   "metadata": {},
   "source": [
    "### 2. `Deviations`\n",
    "We want to know how far each value in `values` from the average. The more spread out the values are, the further they are from the average value. We can do this by computing the `deviations`, which is each value subtracted by the average."
   ]
  },
  {
   "cell_type": "code",
   "execution_count": 20,
   "metadata": {},
   "outputs": [
    {
     "data": {
      "text/plain": [
       "array([-1.25, -2.25,  4.75, -1.25])"
      ]
     },
     "execution_count": 20,
     "metadata": {},
     "output_type": "execute_result"
    }
   ],
   "source": [
    "deviations = values - average\n",
    "deviations"
   ]
  },
  {
   "cell_type": "markdown",
   "metadata": {},
   "source": [
    "Let's make a table out of the result above!"
   ]
  },
  {
   "cell_type": "code",
   "execution_count": 21,
   "metadata": {},
   "outputs": [
    {
     "data": {
      "text/html": [
       "<table border=\"1\" class=\"dataframe\">\n",
       "    <thead>\n",
       "        <tr>\n",
       "            <th>Value</th> <th>Deviation from Average</th>\n",
       "        </tr>\n",
       "    </thead>\n",
       "    <tbody>\n",
       "        <tr>\n",
       "            <td>3    </td> <td>-1.25                 </td>\n",
       "        </tr>\n",
       "        <tr>\n",
       "            <td>2    </td> <td>-2.25                 </td>\n",
       "        </tr>\n",
       "        <tr>\n",
       "            <td>9    </td> <td>4.75                  </td>\n",
       "        </tr>\n",
       "        <tr>\n",
       "            <td>3    </td> <td>-1.25                 </td>\n",
       "        </tr>\n",
       "    </tbody>\n",
       "</table>"
      ],
      "text/plain": [
       "Value | Deviation from Average\n",
       "3     | -1.25\n",
       "2     | -2.25\n",
       "9     | 4.75\n",
       "3     | -1.25"
      ]
     },
     "execution_count": 21,
     "metadata": {},
     "output_type": "execute_result"
    }
   ],
   "source": [
    "t = Table().with_column(\n",
    "'Value', values,\n",
    "'Deviation from Average', deviations)\n",
    "t"
   ]
  },
  {
   "cell_type": "markdown",
   "metadata": {},
   "source": [
    "### 3. `Squared` Deviation\n",
    "\n",
    "We might think that by taking the sum of the deviations, we can obtain some measure of how spread out the distribution is. However, it turns out that the `sum` is 0! "
   ]
  },
  {
   "cell_type": "code",
   "execution_count": 22,
   "metadata": {},
   "outputs": [
    {
     "data": {
      "text/plain": [
       "0.0"
      ]
     },
     "execution_count": 22,
     "metadata": {},
     "output_type": "execute_result"
    }
   ],
   "source": [
    "t.column('Deviation from Average').sum()"
   ]
  },
  {
   "cell_type": "markdown",
   "metadata": {},
   "source": [
    "In fact, if we do this to any dataset (subtracting each data with the average), the sum of the deviation will be 0! This is because some deviations are negative and some deviations are positive, and all of them cancel out when we take the `sum`. We can't measure the deviation this way, so what should we do then?\n",
    "\n",
    "We can square each deviation to make them positive, and then take the sum. "
   ]
  },
  {
   "cell_type": "code",
   "execution_count": 23,
   "metadata": {},
   "outputs": [
    {
     "data": {
      "text/plain": [
       "array([ 1.5625,  5.0625, 22.5625,  1.5625])"
      ]
     },
     "execution_count": 23,
     "metadata": {},
     "output_type": "execute_result"
    }
   ],
   "source": [
    "deviations ** 2"
   ]
  },
  {
   "cell_type": "markdown",
   "metadata": {},
   "source": [
    "Now we can add the array above as a new column for our original table,"
   ]
  },
  {
   "cell_type": "code",
   "execution_count": 24,
   "metadata": {},
   "outputs": [
    {
     "data": {
      "text/html": [
       "<table border=\"1\" class=\"dataframe\">\n",
       "    <thead>\n",
       "        <tr>\n",
       "            <th>Value</th> <th>Deviation from Average</th> <th>Squared Deviations</th>\n",
       "        </tr>\n",
       "    </thead>\n",
       "    <tbody>\n",
       "        <tr>\n",
       "            <td>3    </td> <td>-1.25                 </td> <td>1.5625            </td>\n",
       "        </tr>\n",
       "        <tr>\n",
       "            <td>2    </td> <td>-2.25                 </td> <td>5.0625            </td>\n",
       "        </tr>\n",
       "        <tr>\n",
       "            <td>9    </td> <td>4.75                  </td> <td>22.5625           </td>\n",
       "        </tr>\n",
       "        <tr>\n",
       "            <td>3    </td> <td>-1.25                 </td> <td>1.5625            </td>\n",
       "        </tr>\n",
       "    </tbody>\n",
       "</table>"
      ],
      "text/plain": [
       "Value | Deviation from Average | Squared Deviations\n",
       "3     | -1.25                  | 1.5625\n",
       "2     | -2.25                  | 5.0625\n",
       "9     | 4.75                   | 22.5625\n",
       "3     | -1.25                  | 1.5625"
      ]
     },
     "execution_count": 24,
     "metadata": {},
     "output_type": "execute_result"
    }
   ],
   "source": [
    "t.with_column('Squared Deviations', deviations ** 2)"
   ]
  },
  {
   "cell_type": "markdown",
   "metadata": {},
   "source": [
    "Now we have `Squared Deviations`, in which all of them are positive. Why **squared?** Why not any other operators?\n",
    "\n",
    "There is some important mathematical properties that we can obtain from **squaring** a number. These properties are useful for us to use. However, this class will not go into details on how it works. All in all, it is for mathematical convenience. \n",
    "\n",
    "### 4. Variance\n",
    "\n",
    "The next step to do is to take the `mean` of the `Squared Deviations`. This is what we call **`variance`**. "
   ]
  },
  {
   "cell_type": "code",
   "execution_count": 25,
   "metadata": {},
   "outputs": [
    {
     "data": {
      "text/plain": [
       "7.6875"
      ]
     },
     "execution_count": 25,
     "metadata": {},
     "output_type": "execute_result"
    }
   ],
   "source": [
    "variance = np.mean(deviations ** 2)\n",
    "variance"
   ]
  },
  {
   "cell_type": "markdown",
   "metadata": {},
   "source": [
    "### 5. Standard Deviation\n",
    "Last but not least, we can take the **square root of `variance`** to obtain the **`Standard Deviation`**,"
   ]
  },
  {
   "cell_type": "code",
   "execution_count": 26,
   "metadata": {},
   "outputs": [
    {
     "data": {
      "text/plain": [
       "2.7726341266023544"
      ]
     },
     "execution_count": 26,
     "metadata": {},
     "output_type": "execute_result"
    }
   ],
   "source": [
    "standard_dev = np.sqrt(variance)\n",
    "standard_dev"
   ]
  },
  {
   "cell_type": "markdown",
   "metadata": {},
   "source": [
    "For now, the number above doesn't mean anything. However, notice the number `9` in our data. If that `9` is replaced with `109`, the standard deviation would become very high. \n",
    "\n",
    "If our data are close together, the standard deviation would be small. On the other hand, if our data are far apart, the standard deviation would be greater. Thus, standard deviation gives a measure of how spread out the data are.\n",
    "\n",
    "Standard deviation takes into account all data in the distribution. Even in the case of spread out data or narrow data that has 2 far points in the far left and far right, we can measure the difference with standard deviation. "
   ]
  },
  {
   "cell_type": "markdown",
   "metadata": {},
   "source": [
    "# How Far from the Average?\n",
    "Standard deviation (SD) measures roughly how far the data are from the average. \n",
    "1. We used \"how far the data are from the average\" to obtain a measure of how spread out the data distribution is.\n",
    "2. The SD is defined as the **root mean square of deviations from average**\n",
    "    * This might sound complex, but if we read it backwards, this is what we did earlier:\n",
    "        * Calculate the `mean` or average\n",
    "        * Calculate the `deviation` from the average\n",
    "        * `Square` the `deviation`\n",
    "        * Calculate the `mean` of the `squared deviation` to obtain `variance`\n",
    "        * Take the square root of the `variance` to finally obtain the **`Standard Deviation`**\n",
    "    <img src = 'SD.jpg' width = 500/>\n",
    "\n",
    "If we don't want to do the whole long steps above, there's a `numPy` method `np.std` which calculates the `standard deviation` right away. `np.std` takes in an array of numbers."
   ]
  },
  {
   "cell_type": "code",
   "execution_count": 28,
   "metadata": {},
   "outputs": [
    {
     "data": {
      "text/plain": [
       "array([3, 2, 9, 3])"
      ]
     },
     "execution_count": 28,
     "metadata": {},
     "output_type": "execute_result"
    }
   ],
   "source": [
    "values"
   ]
  },
  {
   "cell_type": "code",
   "execution_count": 29,
   "metadata": {},
   "outputs": [
    {
     "data": {
      "text/plain": [
       "2.7726341266023544"
      ]
     },
     "execution_count": 29,
     "metadata": {},
     "output_type": "execute_result"
    }
   ],
   "source": [
    "np.std(values)"
   ]
  },
  {
   "cell_type": "markdown",
   "metadata": {},
   "source": [
    "But remember that if we forgot how `standard deviation` works, we can always look at the long steps.\n",
    "\n",
    "The reason we took the **square root** at the end is so that the `SD` has the same unit as the data. If we left it as a `variance`, the unit would be the square of the data's unit. Suppose we have a data of temperature: 3 Fahrenheit on Monday, 2  on Tuesday, 9  on Wednesday, 3 on Thursday. If we do calculation on this temperature data but we leave it as `variance`, the `variance` would have a unit of `F`$^2$ .\n",
    "\n",
    "Now suppose we took the square root of the `variance` and obtained 2.77 as the `SD`. By having `SD`, we can say that the average temperature is 4.25 $\\pm$ 2.7 `F` (\"Average plus or minus a few `SD`s)"
   ]
  },
  {
   "cell_type": "code",
   "execution_count": null,
   "metadata": {},
   "outputs": [],
   "source": []
  }
 ],
 "metadata": {
  "kernelspec": {
   "display_name": "Python 3",
   "language": "python",
   "name": "python3"
  },
  "language_info": {
   "codemirror_mode": {
    "name": "ipython",
    "version": 3
   },
   "file_extension": ".py",
   "mimetype": "text/x-python",
   "name": "python",
   "nbconvert_exporter": "python",
   "pygments_lexer": "ipython3",
   "version": "3.7.2"
  }
 },
 "nbformat": 4,
 "nbformat_minor": 1
}
