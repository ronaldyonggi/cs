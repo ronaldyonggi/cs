{
 "cells": [
  {
   "cell_type": "markdown",
   "metadata": {},
   "source": [
    "# Writer Notes:\n",
    "\n",
    "Since this lecture mainly consists of discussion questions, I did the questions on my own in this file before going through the video lectures. "
   ]
  },
  {
   "cell_type": "code",
   "execution_count": 1,
   "metadata": {},
   "outputs": [],
   "source": [
    "from datascience import *\n",
    "import numpy as np\n",
    "%matplotlib inline\n",
    "import matplotlib.pyplot as plt\n",
    "plt.style.use('fivethirtyeight')"
   ]
  },
  {
   "cell_type": "markdown",
   "metadata": {},
   "source": [
    "## Discussion Question 1\n",
    "1. Population: Income with `mean` 10K and `SD` 20k\n",
    "2. Sample: `100` chosen uniformly at random with replacement\n",
    "\n",
    "### What's the chance that the sample `mean` is above 14k?\n",
    "\n",
    "### My Answer:\n",
    "\\begin{equation*}\n",
    "sample`mean`SD = \\frac{population`SD}{\\sqrt{sample`size}}\n",
    "\\end{equation*}\n",
    "\n",
    "From the formula above, we can calculate the sample mean `SD` by the following,\n",
    "\\begin{equation*}\n",
    "sample`mean`SD = \\frac{20,000}{\\sqrt{100}} = \\frac{20,000}{10} = 2,000\n",
    "\\end{equation*}\n",
    "\n",
    "The calculated sample mean `SD` is 2,000. From lecture 28, assuming the sample mean probability distribution is roughly normal, the center of the sample mean is the population mean, 10k. \n",
    "\n",
    "This means `1``SD` away from the sample mean center is 8k on the left side and 12k on the right side. `2` `SD` away from the sample mean center is 6k on the left side and 14k on the right side.\n",
    "\n",
    "Now recall the following table,\n",
    "\n",
    "| Percent in Range | All Distributions | Normal Distribution |\n",
    "| --- | ---- | ----|\n",
    "| Average $\\pm$ 1 SDs | at least 0% | about 68%|\n",
    "| Average $\\pm$ 2 SDs | at least 75% | about 95%|\n",
    "| Average $\\pm$ 3 SDs | at least 88.888...%| about 99.73%|\n",
    "\n",
    "Assuming **Normal Distribution**, an average with 2 `SD`s away would cover about 95% of the data. The rest 5% of the data are divided into 2 parts (assuming normal distribution, the distribution is symmetrically shaped): 2.5% left tail and 2.5% right tail. The 2.5% right tail is the area where the sample income are greater than 14k.\n",
    "\n",
    "Thus, **the chance that the sample mean is above 14k is 2.5%!**"
   ]
  },
  {
   "cell_type": "markdown",
   "metadata": {},
   "source": [
    "## Discussion Question 2\n",
    "1. Population: A perfect bell shape. `Mean` = 10, `SD` = 20\n",
    "2. Sample: `100` chosen uniformly at random with replacement\n",
    "\n",
    "### What's the chance that every single value in the sample is below 50?\n",
    "\n",
    "### Answer:\n",
    "Since it is mentioned that the population distribution is **a perfect bell shape**, the distribution is **normal**. This means the center of the sample mean distribution should be also `10`.\n",
    "\n",
    "Since it asks for every single value in the sample, we can break down the problem to small parts. Start with find the chance that `1` value is below `50`. This is the same as taking a sample with sample size `1`. With sample size `1`, the `SD` of the sample mean is the same as the `SD` of the population, `20`.\n",
    "\n",
    "`50` is `40` above the center of the both population and sample mean, `10`. `40` is a multipler of `20` twice. This means `50` is 2 `SD` away from the `mean`.\n",
    "\n",
    "With a normal distribution, an interval of 2 `SD` covers about 95% of the data, with 2.5% on the right side (above `50`) and 2.5% on the left side (below `-30`). Since we only care about whether the sample is below `50`, the chance is `95%` + `2.5`% from the left side of the distribution. Thus, chance of 1 value below `50` is `95`% + `2.5`% = `97.5`%.\n",
    "\n",
    "Now since the sample size is `100`, we want to know the chance of all `100` obtaining a value below `50` each. This can be calculated using the **multiplication rule**. The chance of all `100` below `50` is:\n",
    "\n",
    "\\begin{equation*}\n",
    "0.975 ^ {100}\n",
    "\\end{equation*}"
   ]
  },
  {
   "cell_type": "markdown",
   "metadata": {},
   "source": [
    "## Discussion Question 3\n",
    "We want to estimate the height of the tallest person on campus. We sample `100` people at random and compute a 99.9999% confidence interval using the bootstrap. Its upper bound is `6'4\"`.\n",
    "\n",
    "A `6'5\"` person walks by!  What might have gone wrong?\n",
    "\n",
    "### Answer:\n",
    "Recall the list of situations when NOT to use bootstrap. One of them is for **estimating very high or very low percentile**. In this case, we are estimating the height of the **tallest** person on campus, which falls in the very high percentile of the distribution. \n",
    "\n",
    "Using a bootstrap in this situation will not give us a good estimate because when we take samples from the population, there's a high chance that the parameter that we are trying to estimate is not within the sample. This is because the parameter is so rare.\n",
    "\n",
    "Another problem is that `100` people is too few for a 99.9999% confidence interval. 99.999% confidence interval almost covers the entire population, which is very unlikely for a sample of only `100` people."
   ]
  },
  {
   "cell_type": "markdown",
   "metadata": {},
   "source": [
    "## Discussion Question 4\n",
    "We want to estimate the average compensation for SF public workers. How many people should we sample at random in order to obtain a 95% confidence interval with a width of 10k or less?"
   ]
  },
  {
   "cell_type": "code",
   "execution_count": 2,
   "metadata": {},
   "outputs": [
    {
     "data": {
      "text/html": [
       "<table border=\"1\" class=\"dataframe\">\n",
       "    <thead>\n",
       "        <tr>\n",
       "            <th>Organization Group</th> <th>Job</th> <th>Total Compensation</th>\n",
       "        </tr>\n",
       "    </thead>\n",
       "    <tbody>\n",
       "        <tr>\n",
       "            <td>Public Works, Transportation & Commerce</td> <td>Water Qualitytech I/II     </td> <td>117,767           </td>\n",
       "        </tr>\n",
       "        <tr>\n",
       "            <td>Public Works, Transportation & Commerce</td> <td>Soft Floor Coverer         </td> <td>41,210            </td>\n",
       "        </tr>\n",
       "        <tr>\n",
       "            <td>Community Health                       </td> <td>Health Care Billing Clerk 2</td> <td>110,561           </td>\n",
       "        </tr>\n",
       "    </tbody>\n",
       "</table>\n",
       "<p>... (38214 rows omitted)</p>"
      ],
      "text/plain": [
       "<IPython.core.display.HTML object>"
      ]
     },
     "metadata": {},
     "output_type": "display_data"
    }
   ],
   "source": [
    "sf = Table.read_table('san_francisco_2015.csv').select(3, 11, 21)\n",
    "sf.set_format(2, NumberFormatter(0))\n",
    "sf = sf.where(2, are.above(10000))\n",
    "sf.show(3)"
   ]
  },
  {
   "cell_type": "code",
   "execution_count": 3,
   "metadata": {},
   "outputs": [
    {
     "data": {
      "text/plain": [
       "110380.46365727295"
      ]
     },
     "execution_count": 3,
     "metadata": {},
     "output_type": "execute_result"
    }
   ],
   "source": [
    "np.mean(sf.column('Total Compensation'))"
   ]
  },
  {
   "cell_type": "markdown",
   "metadata": {},
   "source": [
    "Below is the functions necessary for taking `bootstrap_ci_mean`."
   ]
  },
  {
   "cell_type": "code",
   "execution_count": 16,
   "metadata": {},
   "outputs": [],
   "source": [
    "def bootstrap_mean(sample_from_population, label, repetitions):\n",
    "    \"\"\" Returns a list of resampled mean.\n",
    "    sample_from_population: An original sample taken from the population\n",
    "    label: the label within the sample table that we want to bootstrap\n",
    "    repetitions: the number of repetition\n",
    "    \n",
    "    \"\"\"\n",
    "    resampled_mean = []\n",
    "    for i in np.arange(repetitions):\n",
    "        resample = sample_from_population.sample()\n",
    "        # Below we use np.mean\n",
    "        resampled_mean.append(np.mean(resample.column(label)))\n",
    "    return resampled_mean"
   ]
  },
  {
   "cell_type": "code",
   "execution_count": 17,
   "metadata": {},
   "outputs": [],
   "source": [
    "def bootstrap_ci_mean(sample_from_population, label, repetitions):\n",
    "    # Use the `bootstrap_mean` method and store the values in the list \"resampled_means\"\n",
    "    resampled_means = bootstrap_mean(sample_from_population, label, repetitions)\n",
    "    \n",
    "    # Compute the left 2.5% and right 2.5% cutoffs\n",
    "    interval_95 = make_array(\n",
    "        percentile(2.5, resampled_means),\n",
    "        percentile(97.5, resampled_means)\n",
    "    )\n",
    "    \n",
    "    #Construct the histogram and the 95% Confidence Interval horizontal line\n",
    "    Table().with_column('Resampled mean', resampled_means).hist('Resampled mean')\n",
    "    plt.plot(interval_95, [0, 0], color = 'gold', lw = 8)\n",
    "    print('Approximate 95% Bootstrap Confidence Interval for the Population Mean:')\n",
    "    print(np.round(interval_95, 3))\n",
    "    print('The width of the interval is:')\n",
    "    print(percentile(97.5, resampled_means) - percentile(2.5, resampled_means))"
   ]
  },
  {
   "cell_type": "markdown",
   "metadata": {},
   "source": [
    "Recall that to use the function above, the first function `bootstrap_mean` takes in a `sample_from_population`, which is a sample of certain size from the population. Let's try a sample of `200` with `1,000` repetitions."
   ]
  },
  {
   "cell_type": "code",
   "execution_count": 18,
   "metadata": {},
   "outputs": [],
   "source": [
    "sample = sf.sample(200)"
   ]
  },
  {
   "cell_type": "code",
   "execution_count": 20,
   "metadata": {},
   "outputs": [
    {
     "name": "stdout",
     "output_type": "stream",
     "text": [
      "Approximate 95% Bootstrap Confidence Interval for the Population Mean:\n",
      "[100503.079 116203.336]\n",
      "The width of the interval is:\n",
      "15700.25724999998\n"
     ]
    },
    {
     "data": {
      "image/png": "[encoded data removed]",
      "text/plain": [
       "<Figure size 432x288 with 1 Axes>"
      ]
     },
     "metadata": {},
     "output_type": "display_data"
    }
   ],
   "source": [
    "bootstrap_ci_mean(sample, 'Total Compensation', 1000)"
   ]
  },
  {
   "cell_type": "markdown",
   "metadata": {},
   "source": [
    "Based on the formula,\n",
    "\\begin{equation*}\n",
    "sample`mean`SD = \\frac{population`SD}{\\sqrt{sample`size}}\n",
    "\\end{equation*}"
   ]
  },
  {
   "cell_type": "code",
   "execution_count": null,
   "metadata": {},
   "outputs": [],
   "source": [
    "sample mean is sampl"
   ]
  }
 ],
 "metadata": {
  "kernelspec": {
   "display_name": "Python 3",
   "language": "python",
   "name": "python3"
  },
  "language_info": {
   "codemirror_mode": {
    "name": "ipython",
    "version": 3
   },
   "file_extension": ".py",
   "mimetype": "text/x-python",
   "name": "python",
   "nbconvert_exporter": "python",
   "pygments_lexer": "ipython3",
   "version": "3.7.2"
  }
 },
 "nbformat": 4,
 "nbformat_minor": 1
}
