{
 "cells": [
  {
   "cell_type": "code",
   "execution_count": 1,
   "metadata": {},
   "outputs": [],
   "source": [
    "from datascience import *\n",
    "import numpy as np\n",
    "%matplotlib inline\n",
    "import matplotlib.pyplot as plt\n",
    "plt.style.use('fivethirtyeight')\n",
    "\n",
    "from ipywidgets import interact, interactive, fixed, interact_manual\n",
    "import ipywidgets as widgets"
   ]
  },
  {
   "cell_type": "markdown",
   "metadata": {},
   "source": [
    "# Tables Review\n",
    "We will start with reviewing tabless.\n",
    "\n",
    "## Tables Structure\n",
    "A Table is a sequence of labeled columns.\n",
    "* The column labels are in `string`\n",
    "* A column consist of an array of data. In a table, all columns need to have the same length.\n",
    "\n",
    "<img src = 'table_example.jpg' width = 500\\>"
   ]
  },
  {
   "cell_type": "markdown",
   "metadata": {},
   "source": [
    "## Table Methods\n",
    "1. For creating tables\n",
    "    * Use `Table().with_columns` for creating a table from scracth\n",
    "    * Use `Table.read_table` for creating a table out of a source file (e.g. csv file)\n",
    "2. Finding size:\n",
    "    * `num_rows` for number of rows\n",
    "    * `num_columns` for number of columns\n",
    "3. Referring to columns\n",
    "    * `labels` are the column's name\n",
    "    * Use `relabeled` for changing a column's label\n",
    "    * Column indices starts at 0\n",
    "4. Accessing data in column\n",
    "    * `column` method takes a column label or index and returns an `array`\n",
    "5. We can use array methods to work with data in columns since the data is an `array`\n",
    "    * e.g. use `item`, `sum`, `min`, `max`, etc.\n",
    "6. Create a new table containing columns from another table:\n",
    "    * Use `select` to select columns from a table\n",
    "    * Use `drop` to remove columns from a table"
   ]
  },
  {
   "cell_type": "markdown",
   "metadata": {},
   "source": [
    "## Quick Check\n",
    "A table called `students` has columns `Name`, `ID`, and `Score`. Write one line of code that evaluates to\n",
    "1. A table consisting of only the column labeled `Name`\n",
    "2. The largest `Score`."
   ]
  },
  {
   "cell_type": "code",
   "execution_count": 2,
   "metadata": {},
   "outputs": [],
   "source": [
    "students = Table().with_columns(\n",
    "    'Name', make_array('John', 'Jane'),\n",
    "    'ID', make_array(56452, 21245),\n",
    "    'Score', make_array(72, 84)\n",
    ")"
   ]
  },
  {
   "cell_type": "markdown",
   "metadata": {},
   "source": [
    "For the first question, below are some ways of doing it"
   ]
  },
  {
   "cell_type": "code",
   "execution_count": 3,
   "metadata": {},
   "outputs": [
    {
     "data": {
      "text/html": [
       "<table border=\"1\" class=\"dataframe\">\n",
       "    <thead>\n",
       "        <tr>\n",
       "            <th>Name</th>\n",
       "        </tr>\n",
       "    </thead>\n",
       "    <tbody>\n",
       "        <tr>\n",
       "            <td>John</td>\n",
       "        </tr>\n",
       "        <tr>\n",
       "            <td>Jane</td>\n",
       "        </tr>\n",
       "    </tbody>\n",
       "</table>"
      ],
      "text/plain": [
       "Name\n",
       "John\n",
       "Jane"
      ]
     },
     "execution_count": 3,
     "metadata": {},
     "output_type": "execute_result"
    }
   ],
   "source": [
    "students.select('Name')"
   ]
  },
  {
   "cell_type": "code",
   "execution_count": 4,
   "metadata": {},
   "outputs": [
    {
     "data": {
      "text/html": [
       "<table border=\"1\" class=\"dataframe\">\n",
       "    <thead>\n",
       "        <tr>\n",
       "            <th>Name</th>\n",
       "        </tr>\n",
       "    </thead>\n",
       "    <tbody>\n",
       "        <tr>\n",
       "            <td>John</td>\n",
       "        </tr>\n",
       "        <tr>\n",
       "            <td>Jane</td>\n",
       "        </tr>\n",
       "    </tbody>\n",
       "</table>"
      ],
      "text/plain": [
       "Name\n",
       "John\n",
       "Jane"
      ]
     },
     "execution_count": 4,
     "metadata": {},
     "output_type": "execute_result"
    }
   ],
   "source": [
    "students.drop('ID', 'Score')"
   ]
  },
  {
   "cell_type": "code",
   "execution_count": 5,
   "metadata": {},
   "outputs": [
    {
     "data": {
      "text/html": [
       "<table border=\"1\" class=\"dataframe\">\n",
       "    <thead>\n",
       "        <tr>\n",
       "            <th>Name</th>\n",
       "        </tr>\n",
       "    </thead>\n",
       "    <tbody>\n",
       "        <tr>\n",
       "            <td>John</td>\n",
       "        </tr>\n",
       "        <tr>\n",
       "            <td>Jane</td>\n",
       "        </tr>\n",
       "    </tbody>\n",
       "</table>"
      ],
      "text/plain": [
       "Name\n",
       "John\n",
       "Jane"
      ]
     },
     "execution_count": 5,
     "metadata": {},
     "output_type": "execute_result"
    }
   ],
   "source": [
    "students.select(0)"
   ]
  },
  {
   "cell_type": "markdown",
   "metadata": {},
   "source": [
    "For the second question, below are some ways of doing it,"
   ]
  },
  {
   "cell_type": "code",
   "execution_count": 6,
   "metadata": {},
   "outputs": [
    {
     "data": {
      "text/plain": [
       "84"
      ]
     },
     "execution_count": 6,
     "metadata": {},
     "output_type": "execute_result"
    }
   ],
   "source": [
    "max(students.column('Score'))"
   ]
  },
  {
   "cell_type": "code",
   "execution_count": 7,
   "metadata": {},
   "outputs": [
    {
     "data": {
      "text/plain": [
       "84"
      ]
     },
     "execution_count": 7,
     "metadata": {},
     "output_type": "execute_result"
    }
   ],
   "source": [
    "students.column('Score').max()"
   ]
  },
  {
   "cell_type": "markdown",
   "metadata": {},
   "source": [
    "# Sort\n",
    "Now we will discuss about a different perspective in seeing a table. \n",
    "\n",
    "## Sorting Tables\n",
    "Previously, we see Tables as sequence of columns. Now, we see Tables as ordered collections of rows.\n",
    "\n",
    "1. The `sort` method creates a new table with the same rows but with different order (again, the original table is unchanged. We need to reassign the original table to change it)\n",
    "2. The `show` method display a certain number of rows of a table.\n",
    "\n",
    "## Demo\n",
    "Below we have the `nba` table that contains NBA players, their positions, teams and salaries on 2015-2016 in million US dollars."
   ]
  },
  {
   "cell_type": "code",
   "execution_count": 8,
   "metadata": {},
   "outputs": [
    {
     "data": {
      "text/html": [
       "<table border=\"1\" class=\"dataframe\">\n",
       "    <thead>\n",
       "        <tr>\n",
       "            <th>PLAYER</th> <th>POSITION</th> <th>TEAM</th> <th>2015-2016 SALARY</th>\n",
       "        </tr>\n",
       "    </thead>\n",
       "    <tbody>\n",
       "        <tr>\n",
       "            <td>Paul Millsap    </td> <td>PF      </td> <td>Atlanta Hawks</td> <td>18.6717         </td>\n",
       "        </tr>\n",
       "        <tr>\n",
       "            <td>Al Horford      </td> <td>C       </td> <td>Atlanta Hawks</td> <td>12              </td>\n",
       "        </tr>\n",
       "        <tr>\n",
       "            <td>Tiago Splitter  </td> <td>C       </td> <td>Atlanta Hawks</td> <td>9.75625         </td>\n",
       "        </tr>\n",
       "        <tr>\n",
       "            <td>Jeff Teague     </td> <td>PG      </td> <td>Atlanta Hawks</td> <td>8               </td>\n",
       "        </tr>\n",
       "        <tr>\n",
       "            <td>Kyle Korver     </td> <td>SG      </td> <td>Atlanta Hawks</td> <td>5.74648         </td>\n",
       "        </tr>\n",
       "        <tr>\n",
       "            <td>Thabo Sefolosha </td> <td>SF      </td> <td>Atlanta Hawks</td> <td>4               </td>\n",
       "        </tr>\n",
       "        <tr>\n",
       "            <td>Mike Scott      </td> <td>PF      </td> <td>Atlanta Hawks</td> <td>3.33333         </td>\n",
       "        </tr>\n",
       "        <tr>\n",
       "            <td>Kent Bazemore   </td> <td>SF      </td> <td>Atlanta Hawks</td> <td>2               </td>\n",
       "        </tr>\n",
       "        <tr>\n",
       "            <td>Dennis Schroder </td> <td>PG      </td> <td>Atlanta Hawks</td> <td>1.7634          </td>\n",
       "        </tr>\n",
       "        <tr>\n",
       "            <td>Tim Hardaway Jr.</td> <td>SG      </td> <td>Atlanta Hawks</td> <td>1.30452         </td>\n",
       "        </tr>\n",
       "    </tbody>\n",
       "</table>\n",
       "<p>... (407 rows omitted)</p>"
      ],
      "text/plain": [
       "PLAYER           | POSITION | TEAM          | 2015-2016 SALARY\n",
       "Paul Millsap     | PF       | Atlanta Hawks | 18.6717\n",
       "Al Horford       | C        | Atlanta Hawks | 12\n",
       "Tiago Splitter   | C        | Atlanta Hawks | 9.75625\n",
       "Jeff Teague      | PG       | Atlanta Hawks | 8\n",
       "Kyle Korver      | SG       | Atlanta Hawks | 5.74648\n",
       "Thabo Sefolosha  | SF       | Atlanta Hawks | 4\n",
       "Mike Scott       | PF       | Atlanta Hawks | 3.33333\n",
       "Kent Bazemore    | SF       | Atlanta Hawks | 2\n",
       "Dennis Schroder  | PG       | Atlanta Hawks | 1.7634\n",
       "Tim Hardaway Jr. | SG       | Atlanta Hawks | 1.30452\n",
       "... (407 rows omitted)"
      ]
     },
     "execution_count": 8,
     "metadata": {},
     "output_type": "execute_result"
    }
   ],
   "source": [
    "nba = Table.read_table('nba_salaries.csv')\n",
    "nba"
   ]
  },
  {
   "cell_type": "markdown",
   "metadata": {},
   "source": [
    "Above is a table with a total of 417 rows! Since this is a long table, we can use the `show` method to show only 3 rows of the table."
   ]
  },
  {
   "cell_type": "code",
   "execution_count": 9,
   "metadata": {},
   "outputs": [
    {
     "data": {
      "text/html": [
       "<table border=\"1\" class=\"dataframe\">\n",
       "    <thead>\n",
       "        <tr>\n",
       "            <th>PLAYER</th> <th>POSITION</th> <th>TEAM</th> <th>2015-2016 SALARY</th>\n",
       "        </tr>\n",
       "    </thead>\n",
       "    <tbody>\n",
       "        <tr>\n",
       "            <td>Paul Millsap  </td> <td>PF      </td> <td>Atlanta Hawks</td> <td>18.6717         </td>\n",
       "        </tr>\n",
       "        <tr>\n",
       "            <td>Al Horford    </td> <td>C       </td> <td>Atlanta Hawks</td> <td>12              </td>\n",
       "        </tr>\n",
       "        <tr>\n",
       "            <td>Tiago Splitter</td> <td>C       </td> <td>Atlanta Hawks</td> <td>9.75625         </td>\n",
       "        </tr>\n",
       "    </tbody>\n",
       "</table>\n",
       "<p>... (414 rows omitted)</p>"
      ],
      "text/plain": [
       "<IPython.core.display.HTML object>"
      ]
     },
     "metadata": {},
     "output_type": "display_data"
    }
   ],
   "source": [
    "nba.show(3)"
   ]
  },
  {
   "cell_type": "markdown",
   "metadata": {},
   "source": [
    "We can compute the total amount of money paid to the NBA players using the `sum` method."
   ]
  },
  {
   "cell_type": "code",
   "execution_count": 10,
   "metadata": {},
   "outputs": [
    {
     "data": {
      "text/plain": [
       "2116.1976390000013"
      ]
     },
     "execution_count": 10,
     "metadata": {},
     "output_type": "execute_result"
    }
   ],
   "source": [
    "sum(nba.column('2015-2016 SALARY'))"
   ]
  },
  {
   "cell_type": "markdown",
   "metadata": {},
   "source": [
    "We can also find the maximum salary an NBA player would receive using the `max` method."
   ]
  },
  {
   "cell_type": "code",
   "execution_count": 11,
   "metadata": {},
   "outputs": [
    {
     "data": {
      "text/plain": [
       "25.0"
      ]
     },
     "execution_count": 11,
     "metadata": {},
     "output_type": "execute_result"
    }
   ],
   "source": [
    "max(nba.column('2015-2016 SALARY'))"
   ]
  },
  {
   "cell_type": "markdown",
   "metadata": {},
   "source": [
    "It seems that there is one lucky player who got paid 25 million dollars! If we want to find who that lucky player is, one way of doing that is to `sort` the table according to salaries."
   ]
  },
  {
   "cell_type": "code",
   "execution_count": 12,
   "metadata": {},
   "outputs": [
    {
     "data": {
      "text/html": [
       "<table border=\"1\" class=\"dataframe\">\n",
       "    <thead>\n",
       "        <tr>\n",
       "            <th>PLAYER</th> <th>POSITION</th> <th>TEAM</th> <th>2015-2016 SALARY</th>\n",
       "        </tr>\n",
       "    </thead>\n",
       "    <tbody>\n",
       "        <tr>\n",
       "            <td>Thanasis Antetokounmpo</td> <td>SF      </td> <td>New York Knicks  </td> <td>0.030888        </td>\n",
       "        </tr>\n",
       "        <tr>\n",
       "            <td>Jordan McRae          </td> <td>SG      </td> <td>Phoenix Suns     </td> <td>0.049709        </td>\n",
       "        </tr>\n",
       "        <tr>\n",
       "            <td>Cory Jefferson        </td> <td>PF      </td> <td>Phoenix Suns     </td> <td>0.049709        </td>\n",
       "        </tr>\n",
       "        <tr>\n",
       "            <td>Elliot Williams       </td> <td>SG      </td> <td>Memphis Grizzlies</td> <td>0.055722        </td>\n",
       "        </tr>\n",
       "        <tr>\n",
       "            <td>Orlando Johnson       </td> <td>SG      </td> <td>Phoenix Suns     </td> <td>0.055722        </td>\n",
       "        </tr>\n",
       "    </tbody>\n",
       "</table>\n",
       "<p>... (412 rows omitted)</p>"
      ],
      "text/plain": [
       "<IPython.core.display.HTML object>"
      ]
     },
     "metadata": {},
     "output_type": "display_data"
    }
   ],
   "source": [
    "nba.sort(\"2015-2016 SALARY\").show(5)"
   ]
  },
  {
   "cell_type": "markdown",
   "metadata": {},
   "source": [
    "However, turns out that the `sort` method sorts the table in increasing order! By default, `sort` method sorts the table in increasing order. If we want to sort the table in decreasing order, we can do so using the `sort` method but with an additional argument `descending = True`."
   ]
  },
  {
   "cell_type": "code",
   "execution_count": 13,
   "metadata": {},
   "outputs": [
    {
     "data": {
      "text/html": [
       "<table border=\"1\" class=\"dataframe\">\n",
       "    <thead>\n",
       "        <tr>\n",
       "            <th>PLAYER</th> <th>POSITION</th> <th>TEAM</th> <th>2015-2016 SALARY</th>\n",
       "        </tr>\n",
       "    </thead>\n",
       "    <tbody>\n",
       "        <tr>\n",
       "            <td>Kobe Bryant    </td> <td>SF      </td> <td>Los Angeles Lakers </td> <td>25              </td>\n",
       "        </tr>\n",
       "        <tr>\n",
       "            <td>Joe Johnson    </td> <td>SF      </td> <td>Brooklyn Nets      </td> <td>24.8949         </td>\n",
       "        </tr>\n",
       "        <tr>\n",
       "            <td>LeBron James   </td> <td>SF      </td> <td>Cleveland Cavaliers</td> <td>22.9705         </td>\n",
       "        </tr>\n",
       "        <tr>\n",
       "            <td>Carmelo Anthony</td> <td>SF      </td> <td>New York Knicks    </td> <td>22.875          </td>\n",
       "        </tr>\n",
       "        <tr>\n",
       "            <td>Dwight Howard  </td> <td>C       </td> <td>Houston Rockets    </td> <td>22.3594         </td>\n",
       "        </tr>\n",
       "    </tbody>\n",
       "</table>\n",
       "<p>... (412 rows omitted)</p>"
      ],
      "text/plain": [
       "<IPython.core.display.HTML object>"
      ]
     },
     "metadata": {},
     "output_type": "display_data"
    }
   ],
   "source": [
    "nba.sort(\"2015-2016 SALARY\", descending=True).show(5)"
   ]
  },
  {
   "cell_type": "markdown",
   "metadata": {},
   "source": [
    "Seems like typing `\"2015-2016 SALARY\"` over and over is a hassle! We can put this string into a variable and use it to make our job easier!"
   ]
  },
  {
   "cell_type": "code",
   "execution_count": 14,
   "metadata": {},
   "outputs": [
    {
     "data": {
      "text/html": [
       "<table border=\"1\" class=\"dataframe\">\n",
       "    <thead>\n",
       "        <tr>\n",
       "            <th>PLAYER</th> <th>POSITION</th> <th>TEAM</th> <th>2015-2016 SALARY</th>\n",
       "        </tr>\n",
       "    </thead>\n",
       "    <tbody>\n",
       "        <tr>\n",
       "            <td>Kobe Bryant    </td> <td>SF      </td> <td>Los Angeles Lakers </td> <td>25              </td>\n",
       "        </tr>\n",
       "        <tr>\n",
       "            <td>Joe Johnson    </td> <td>SF      </td> <td>Brooklyn Nets      </td> <td>24.8949         </td>\n",
       "        </tr>\n",
       "        <tr>\n",
       "            <td>LeBron James   </td> <td>SF      </td> <td>Cleveland Cavaliers</td> <td>22.9705         </td>\n",
       "        </tr>\n",
       "        <tr>\n",
       "            <td>Carmelo Anthony</td> <td>SF      </td> <td>New York Knicks    </td> <td>22.875          </td>\n",
       "        </tr>\n",
       "        <tr>\n",
       "            <td>Dwight Howard  </td> <td>C       </td> <td>Houston Rockets    </td> <td>22.3594         </td>\n",
       "        </tr>\n",
       "    </tbody>\n",
       "</table>\n",
       "<p>... (412 rows omitted)</p>"
      ],
      "text/plain": [
       "<IPython.core.display.HTML object>"
      ]
     },
     "metadata": {},
     "output_type": "display_data"
    }
   ],
   "source": [
    "salary = \"2015-2016 SALARY\"\n",
    "nba.sort(salary, descending=True).show(5)"
   ]
  },
  {
   "cell_type": "markdown",
   "metadata": {},
   "source": [
    "The argument `descending = True` is called a **named argument**. We don't actually need to write `descending` and just use the `True` as the following,"
   ]
  },
  {
   "cell_type": "code",
   "execution_count": 15,
   "metadata": {},
   "outputs": [
    {
     "data": {
      "text/html": [
       "<table border=\"1\" class=\"dataframe\">\n",
       "    <thead>\n",
       "        <tr>\n",
       "            <th>PLAYER</th> <th>POSITION</th> <th>TEAM</th> <th>2015-2016 SALARY</th>\n",
       "        </tr>\n",
       "    </thead>\n",
       "    <tbody>\n",
       "        <tr>\n",
       "            <td>Kobe Bryant    </td> <td>SF      </td> <td>Los Angeles Lakers </td> <td>25              </td>\n",
       "        </tr>\n",
       "        <tr>\n",
       "            <td>Joe Johnson    </td> <td>SF      </td> <td>Brooklyn Nets      </td> <td>24.8949         </td>\n",
       "        </tr>\n",
       "        <tr>\n",
       "            <td>LeBron James   </td> <td>SF      </td> <td>Cleveland Cavaliers</td> <td>22.9705         </td>\n",
       "        </tr>\n",
       "        <tr>\n",
       "            <td>Carmelo Anthony</td> <td>SF      </td> <td>New York Knicks    </td> <td>22.875          </td>\n",
       "        </tr>\n",
       "        <tr>\n",
       "            <td>Dwight Howard  </td> <td>C       </td> <td>Houston Rockets    </td> <td>22.3594         </td>\n",
       "        </tr>\n",
       "    </tbody>\n",
       "</table>\n",
       "<p>... (412 rows omitted)</p>"
      ],
      "text/plain": [
       "<IPython.core.display.HTML object>"
      ]
     },
     "metadata": {},
     "output_type": "display_data"
    }
   ],
   "source": [
    "nba.sort(salary,True).show(5)"
   ]
  },
  {
   "cell_type": "markdown",
   "metadata": {},
   "source": [
    "However, it is a good practice to write the named argument so that whoever reads the code understands what the arguments are for. Recall that if we forgot what `sort` does, we can use the `?` question mark."
   ]
  },
  {
   "cell_type": "code",
   "execution_count": 16,
   "metadata": {},
   "outputs": [],
   "source": [
    "nba.sort?"
   ]
  },
  {
   "cell_type": "markdown",
   "metadata": {},
   "source": [
    "If we want to find the Center that gets paid the most, we can do the following,"
   ]
  },
  {
   "cell_type": "code",
   "execution_count": 17,
   "metadata": {},
   "outputs": [
    {
     "data": {
      "text/html": [
       "<table border=\"1\" class=\"dataframe\">\n",
       "    <thead>\n",
       "        <tr>\n",
       "            <th>PLAYER</th> <th>POSITION</th> <th>TEAM</th> <th>2015-2016 SALARY</th>\n",
       "        </tr>\n",
       "    </thead>\n",
       "    <tbody>\n",
       "        <tr>\n",
       "            <td>Dwight Howard   </td> <td>C       </td> <td>Houston Rockets      </td> <td>22.3594         </td>\n",
       "        </tr>\n",
       "        <tr>\n",
       "            <td>Marc Gasol      </td> <td>C       </td> <td>Memphis Grizzlies    </td> <td>19.688          </td>\n",
       "        </tr>\n",
       "        <tr>\n",
       "            <td>Enes Kanter     </td> <td>C       </td> <td>Oklahoma City Thunder</td> <td>16.4075         </td>\n",
       "        </tr>\n",
       "        <tr>\n",
       "            <td>DeMarcus Cousins</td> <td>C       </td> <td>Sacramento Kings     </td> <td>15.852          </td>\n",
       "        </tr>\n",
       "        <tr>\n",
       "            <td>Roy Hibbert     </td> <td>C       </td> <td>Los Angeles Lakers   </td> <td>15.5922         </td>\n",
       "        </tr>\n",
       "        <tr>\n",
       "            <td>Tristan Thompson</td> <td>C       </td> <td>Cleveland Cavaliers  </td> <td>14.2609         </td>\n",
       "        </tr>\n",
       "        <tr>\n",
       "            <td>Andrew Bogut    </td> <td>C       </td> <td>Golden State Warriors</td> <td>13.8            </td>\n",
       "        </tr>\n",
       "        <tr>\n",
       "            <td>Al Jefferson    </td> <td>C       </td> <td>Charlotte Hornets    </td> <td>13.5            </td>\n",
       "        </tr>\n",
       "        <tr>\n",
       "            <td>Joakim Noah     </td> <td>C       </td> <td>Chicago Bulls        </td> <td>13.4            </td>\n",
       "        </tr>\n",
       "        <tr>\n",
       "            <td>Nene Hilario    </td> <td>C       </td> <td>Washington Wizards   </td> <td>13              </td>\n",
       "        </tr>\n",
       "    </tbody>\n",
       "</table>\n",
       "<p>... (407 rows omitted)</p>"
      ],
      "text/plain": [
       "PLAYER           | POSITION | TEAM                  | 2015-2016 SALARY\n",
       "Dwight Howard    | C        | Houston Rockets       | 22.3594\n",
       "Marc Gasol       | C        | Memphis Grizzlies     | 19.688\n",
       "Enes Kanter      | C        | Oklahoma City Thunder | 16.4075\n",
       "DeMarcus Cousins | C        | Sacramento Kings      | 15.852\n",
       "Roy Hibbert      | C        | Los Angeles Lakers    | 15.5922\n",
       "Tristan Thompson | C        | Cleveland Cavaliers   | 14.2609\n",
       "Andrew Bogut     | C        | Golden State Warriors | 13.8\n",
       "Al Jefferson     | C        | Charlotte Hornets     | 13.5\n",
       "Joakim Noah      | C        | Chicago Bulls         | 13.4\n",
       "Nene Hilario     | C        | Washington Wizards    | 13\n",
       "... (407 rows omitted)"
      ]
     },
     "execution_count": 17,
     "metadata": {},
     "output_type": "execute_result"
    }
   ],
   "source": [
    "nba.sort(salary, descending=True).sort(1)"
   ]
  },
  {
   "cell_type": "markdown",
   "metadata": {},
   "source": [
    "Above, \n",
    "1. First we sort the table based on the salary in descending order\n",
    "2. Then we sort the table based on `POSITION`. Since the data in `POSITION` are in `string`, it sorts the table in alphabetical order. Between C, SF, PG, PF and SG, C comes first.\n",
    "\n",
    "What if we want to find the most paid player for each position?"
   ]
  },
  {
   "cell_type": "code",
   "execution_count": 18,
   "metadata": {},
   "outputs": [
    {
     "data": {
      "text/html": [
       "<table border=\"1\" class=\"dataframe\">\n",
       "    <thead>\n",
       "        <tr>\n",
       "            <th>PLAYER</th> <th>POSITION</th> <th>TEAM</th> <th>2015-2016 SALARY</th>\n",
       "        </tr>\n",
       "    </thead>\n",
       "    <tbody>\n",
       "        <tr>\n",
       "            <td>Dwight Howard</td> <td>C       </td> <td>Houston Rockets     </td> <td>22.3594         </td>\n",
       "        </tr>\n",
       "        <tr>\n",
       "            <td>Chris Bosh   </td> <td>PF      </td> <td>Miami Heat          </td> <td>22.1927         </td>\n",
       "        </tr>\n",
       "        <tr>\n",
       "            <td>Chris Paul   </td> <td>PG      </td> <td>Los Angeles Clippers</td> <td>21.4687         </td>\n",
       "        </tr>\n",
       "        <tr>\n",
       "            <td>Kobe Bryant  </td> <td>SF      </td> <td>Los Angeles Lakers  </td> <td>25              </td>\n",
       "        </tr>\n",
       "        <tr>\n",
       "            <td>Dwyane Wade  </td> <td>SG      </td> <td>Miami Heat          </td> <td>20              </td>\n",
       "        </tr>\n",
       "    </tbody>\n",
       "</table>"
      ],
      "text/plain": [
       "PLAYER        | POSITION | TEAM                 | 2015-2016 SALARY\n",
       "Dwight Howard | C        | Houston Rockets      | 22.3594\n",
       "Chris Bosh    | PF       | Miami Heat           | 22.1927\n",
       "Chris Paul    | PG       | Los Angeles Clippers | 21.4687\n",
       "Kobe Bryant   | SF       | Los Angeles Lakers   | 25\n",
       "Dwyane Wade   | SG       | Miami Heat           | 20"
      ]
     },
     "execution_count": 18,
     "metadata": {},
     "output_type": "execute_result"
    }
   ],
   "source": [
    "nba.sort(salary, descending=True).sort('POSITION', distinct=True)"
   ]
  },
  {
   "cell_type": "markdown",
   "metadata": {},
   "source": [
    "The `distinct` argument in `sort` method means of all the available values within the column, take the first unique value.\n",
    "\n",
    "What's important here is not the syntax or what the arguments can do. Instead, it is more about what we can do and why it's useful. \n",
    "\n",
    "For example: Why we want to sort the table? To find who makes the most money and who makes the least money.\n",
    "\n",
    "We can always look up how methods work and what they do, but we won't be able to look up, \"how to find the player who makes the most salary\". Knowing what we can do will allow us to look up what we need to solve a problem.\n",
    "\n",
    "#### Code is too long\n",
    "If our code is too long, we can encapsulate the code in a parentheses so that Python will treat it as one entity. Once we encapsulate the code, we can break it down to separate lines. Below is an example,"
   ]
  },
  {
   "cell_type": "code",
   "execution_count": 19,
   "metadata": {},
   "outputs": [
    {
     "data": {
      "text/html": [
       "<table border=\"1\" class=\"dataframe\">\n",
       "    <thead>\n",
       "        <tr>\n",
       "            <th>PLAYER</th>\n",
       "        </tr>\n",
       "    </thead>\n",
       "    <tbody>\n",
       "        <tr>\n",
       "            <td>Zoran Dragic       </td>\n",
       "        </tr>\n",
       "        <tr>\n",
       "            <td>Zaza Pachulia      </td>\n",
       "        </tr>\n",
       "        <tr>\n",
       "            <td>Zach Randolph      </td>\n",
       "        </tr>\n",
       "        <tr>\n",
       "            <td>Zach LaVine        </td>\n",
       "        </tr>\n",
       "        <tr>\n",
       "            <td>Wilson Chandler    </td>\n",
       "        </tr>\n",
       "        <tr>\n",
       "            <td>Willie Cauley-Stein</td>\n",
       "        </tr>\n",
       "        <tr>\n",
       "            <td>Will Barton        </td>\n",
       "        </tr>\n",
       "        <tr>\n",
       "            <td>Wesley Johnson     </td>\n",
       "        </tr>\n",
       "        <tr>\n",
       "            <td>Wayne Ellington    </td>\n",
       "        </tr>\n",
       "        <tr>\n",
       "            <td>Walter Tavares     </td>\n",
       "        </tr>\n",
       "    </tbody>\n",
       "</table>\n",
       "<p>... (407 rows omitted)</p>"
      ],
      "text/plain": [
       "PLAYER\n",
       "Zoran Dragic\n",
       "Zaza Pachulia\n",
       "Zach Randolph\n",
       "Zach LaVine\n",
       "Wilson Chandler\n",
       "Willie Cauley-Stein\n",
       "Will Barton\n",
       "Wesley Johnson\n",
       "Wayne Ellington\n",
       "Walter Tavares\n",
       "... (407 rows omitted)"
      ]
     },
     "execution_count": 19,
     "metadata": {},
     "output_type": "execute_result"
    }
   ],
   "source": [
    "(nba.sort(salary, descending=True)\n",
    " .select(\"PLAYER\")\n",
    " .sort(\"PLAYER\", descending=True))"
   ]
  },
  {
   "cell_type": "markdown",
   "metadata": {},
   "source": [
    "# Lists\n",
    "As previously mentioned, arrays can only hold one type of data (e.g. strings only, integers only). `Lists`, on the other hand, do not have this limitation. A `list` can contain anything.\n",
    "\n",
    "## Lists are Generic Sequences\n",
    "A list is a sequence of values (similar to array), but the values can all have different types. Below is an example of a `list`,"
   ]
  },
  {
   "cell_type": "code",
   "execution_count": 20,
   "metadata": {},
   "outputs": [
    {
     "data": {
      "text/plain": [
       "[5, 'four', K\n",
       " 3\n",
       " 4]"
      ]
     },
     "execution_count": 20,
     "metadata": {},
     "output_type": "execute_result"
    }
   ],
   "source": [
    "[2 + 3, 'four', Table().with_column('K', [3, 4])]"
   ]
  },
  {
   "cell_type": "markdown",
   "metadata": {},
   "source": [
    "If we try to make an array consisting of integers and floats, all the elements will be converted to floats."
   ]
  },
  {
   "cell_type": "code",
   "execution_count": 21,
   "metadata": {},
   "outputs": [
    {
     "data": {
      "text/plain": [
       "array([2. , 5. , 6.4, 6.2])"
      ]
     },
     "execution_count": 21,
     "metadata": {},
     "output_type": "execute_result"
    }
   ],
   "source": [
    "make_array(2, 5, 6.4, 6.2)"
   ]
  },
  {
   "cell_type": "markdown",
   "metadata": {},
   "source": [
    "And if we try to make an array consisting of anything and strings, all the elements will be converted to strings."
   ]
  },
  {
   "cell_type": "code",
   "execution_count": 22,
   "metadata": {},
   "outputs": [
    {
     "data": {
      "text/plain": [
       "array(['3', '7.2', 'three', 'True'], dtype='<U32')"
      ]
     },
     "execution_count": 22,
     "metadata": {},
     "output_type": "execute_result"
    }
   ],
   "source": [
    "make_array(3, 7.2, 'three', True)"
   ]
  },
  {
   "cell_type": "markdown",
   "metadata": {},
   "source": [
    "We can always double check the type of data we are working with."
   ]
  },
  {
   "cell_type": "code",
   "execution_count": 23,
   "metadata": {},
   "outputs": [
    {
     "data": {
      "text/plain": [
       "list"
      ]
     },
     "execution_count": 23,
     "metadata": {},
     "output_type": "execute_result"
    }
   ],
   "source": [
    "type([2, 'three'])"
   ]
  },
  {
   "cell_type": "markdown",
   "metadata": {},
   "source": [
    "#### Adding a row to a table\n",
    "We can use `list` to add a row into a table."
   ]
  },
  {
   "cell_type": "code",
   "execution_count": 24,
   "metadata": {},
   "outputs": [
    {
     "data": {
      "text/html": [
       "<table border=\"1\" class=\"dataframe\">\n",
       "    <thead>\n",
       "        <tr>\n",
       "            <th>PLAYER</th> <th>POSITION</th> <th>TEAM</th> <th>2015-2016 SALARY</th>\n",
       "        </tr>\n",
       "    </thead>\n",
       "    <tbody>\n",
       "        <tr>\n",
       "            <td>Sam Lau               </td> <td>PG      </td> <td>Berkeley Data Scientists</td> <td>0               </td>\n",
       "        </tr>\n",
       "        <tr>\n",
       "            <td>Thanasis Antetokounmpo</td> <td>SF      </td> <td>New York Knicks         </td> <td>0.030888        </td>\n",
       "        </tr>\n",
       "        <tr>\n",
       "            <td>Jordan McRae          </td> <td>SG      </td> <td>Phoenix Suns            </td> <td>0.049709        </td>\n",
       "        </tr>\n",
       "        <tr>\n",
       "            <td>Cory Jefferson        </td> <td>PF      </td> <td>Phoenix Suns            </td> <td>0.049709        </td>\n",
       "        </tr>\n",
       "        <tr>\n",
       "            <td>Elliot Williams       </td> <td>SG      </td> <td>Memphis Grizzlies       </td> <td>0.055722        </td>\n",
       "        </tr>\n",
       "        <tr>\n",
       "            <td>Orlando Johnson       </td> <td>SG      </td> <td>Phoenix Suns            </td> <td>0.055722        </td>\n",
       "        </tr>\n",
       "        <tr>\n",
       "            <td>Phil Pressey          </td> <td>PG      </td> <td>Phoenix Suns            </td> <td>0.055722        </td>\n",
       "        </tr>\n",
       "        <tr>\n",
       "            <td>Keith Appling         </td> <td>PG      </td> <td>Orlando Magic           </td> <td>0.061776        </td>\n",
       "        </tr>\n",
       "        <tr>\n",
       "            <td>Sean Kilpatrick       </td> <td>SG      </td> <td>Denver Nuggets          </td> <td>0.099418        </td>\n",
       "        </tr>\n",
       "        <tr>\n",
       "            <td>Erick Green           </td> <td>PG      </td> <td>Utah Jazz               </td> <td>0.099418        </td>\n",
       "        </tr>\n",
       "    </tbody>\n",
       "</table>\n",
       "<p>... (408 rows omitted)</p>"
      ],
      "text/plain": [
       "PLAYER                 | POSITION | TEAM                     | 2015-2016 SALARY\n",
       "Sam Lau                | PG       | Berkeley Data Scientists | 0\n",
       "Thanasis Antetokounmpo | SF       | New York Knicks          | 0.030888\n",
       "Jordan McRae           | SG       | Phoenix Suns             | 0.049709\n",
       "Cory Jefferson         | PF       | Phoenix Suns             | 0.049709\n",
       "Elliot Williams        | SG       | Memphis Grizzlies        | 0.055722\n",
       "Orlando Johnson        | SG       | Phoenix Suns             | 0.055722\n",
       "Phil Pressey           | PG       | Phoenix Suns             | 0.055722\n",
       "Keith Appling          | PG       | Orlando Magic            | 0.061776\n",
       "Sean Kilpatrick        | SG       | Denver Nuggets           | 0.099418\n",
       "Erick Green            | PG       | Utah Jazz                | 0.099418\n",
       "... (408 rows omitted)"
      ]
     },
     "execution_count": 24,
     "metadata": {},
     "output_type": "execute_result"
    }
   ],
   "source": [
    "row = ['Sam Lau', 'PG', 'Berkeley Data Scientists', 0.0]\n",
    "nba.with_row(row).sort(salary) #Again, this does not change the table!"
   ]
  },
  {
   "cell_type": "markdown",
   "metadata": {},
   "source": [
    "If we create a table column from a list, it will be automatically converted to an array."
   ]
  },
  {
   "cell_type": "code",
   "execution_count": 25,
   "metadata": {},
   "outputs": [
    {
     "data": {
      "text/html": [
       "<table border=\"1\" class=\"dataframe\">\n",
       "    <thead>\n",
       "        <tr>\n",
       "            <th>List</th>\n",
       "        </tr>\n",
       "    </thead>\n",
       "    <tbody>\n",
       "        <tr>\n",
       "            <td>Sam Lau                 </td>\n",
       "        </tr>\n",
       "        <tr>\n",
       "            <td>PG                      </td>\n",
       "        </tr>\n",
       "        <tr>\n",
       "            <td>Berkeley Data Scientists</td>\n",
       "        </tr>\n",
       "        <tr>\n",
       "            <td>0.0                     </td>\n",
       "        </tr>\n",
       "    </tbody>\n",
       "</table>"
      ],
      "text/plain": [
       "List\n",
       "Sam Lau\n",
       "PG\n",
       "Berkeley Data Scientists\n",
       "0.0"
      ]
     },
     "execution_count": 25,
     "metadata": {},
     "output_type": "execute_result"
    }
   ],
   "source": [
    "Table().with_column('List', row)"
   ]
  },
  {
   "cell_type": "markdown",
   "metadata": {},
   "source": [
    "# Take\n",
    "This section will cover about taking `rows` from a table.\n",
    "\n",
    "## Take Rows, Select Columns\n",
    "Recall the `select` method returns a table with only some columns. Similar to that, the `take` method returns a table with only some rows.\n",
    "\n",
    "Rows have indices, starting at 0. Taking a single number returns a single row,"
   ]
  },
  {
   "cell_type": "code",
   "execution_count": 26,
   "metadata": {},
   "outputs": [
    {
     "data": {
      "text/html": [
       "<table border=\"1\" class=\"dataframe\">\n",
       "    <thead>\n",
       "        <tr>\n",
       "            <th>PLAYER</th> <th>POSITION</th> <th>TEAM</th> <th>2015-2016 SALARY</th>\n",
       "        </tr>\n",
       "    </thead>\n",
       "    <tbody>\n",
       "        <tr>\n",
       "            <td>Paul Millsap  </td> <td>PF      </td> <td>Atlanta Hawks</td> <td>18.6717         </td>\n",
       "        </tr>\n",
       "        <tr>\n",
       "            <td>Al Horford    </td> <td>C       </td> <td>Atlanta Hawks</td> <td>12              </td>\n",
       "        </tr>\n",
       "        <tr>\n",
       "            <td>Tiago Splitter</td> <td>C       </td> <td>Atlanta Hawks</td> <td>9.75625         </td>\n",
       "        </tr>\n",
       "    </tbody>\n",
       "</table>\n",
       "<p>... (414 rows omitted)</p>"
      ],
      "text/plain": [
       "<IPython.core.display.HTML object>"
      ]
     },
     "metadata": {},
     "output_type": "display_data"
    }
   ],
   "source": [
    "# Here we will display the nba table again\n",
    "nba.show(3)"
   ]
  },
  {
   "cell_type": "code",
   "execution_count": 27,
   "metadata": {},
   "outputs": [
    {
     "data": {
      "text/html": [
       "<table border=\"1\" class=\"dataframe\">\n",
       "    <thead>\n",
       "        <tr>\n",
       "            <th>PLAYER</th> <th>POSITION</th> <th>TEAM</th> <th>2015-2016 SALARY</th>\n",
       "        </tr>\n",
       "    </thead>\n",
       "    <tbody>\n",
       "        <tr>\n",
       "            <td>Paul Millsap</td> <td>PF      </td> <td>Atlanta Hawks</td> <td>18.6717         </td>\n",
       "        </tr>\n",
       "    </tbody>\n",
       "</table>"
      ],
      "text/plain": [
       "PLAYER       | POSITION | TEAM          | 2015-2016 SALARY\n",
       "Paul Millsap | PF       | Atlanta Hawks | 18.6717"
      ]
     },
     "execution_count": 27,
     "metadata": {},
     "output_type": "execute_result"
    }
   ],
   "source": [
    "# We will take the first row within the nba table\n",
    "nba.take(0)"
   ]
  },
  {
   "cell_type": "markdown",
   "metadata": {},
   "source": [
    "Taking a list of numbers returns a table,"
   ]
  },
  {
   "cell_type": "code",
   "execution_count": 28,
   "metadata": {},
   "outputs": [
    {
     "data": {
      "text/html": [
       "<table border=\"1\" class=\"dataframe\">\n",
       "    <thead>\n",
       "        <tr>\n",
       "            <th>PLAYER</th> <th>POSITION</th> <th>TEAM</th> <th>2015-2016 SALARY</th>\n",
       "        </tr>\n",
       "    </thead>\n",
       "    <tbody>\n",
       "        <tr>\n",
       "            <td>Paul Millsap  </td> <td>PF      </td> <td>Atlanta Hawks</td> <td>18.6717         </td>\n",
       "        </tr>\n",
       "        <tr>\n",
       "            <td>Al Horford    </td> <td>C       </td> <td>Atlanta Hawks</td> <td>12              </td>\n",
       "        </tr>\n",
       "        <tr>\n",
       "            <td>Tiago Splitter</td> <td>C       </td> <td>Atlanta Hawks</td> <td>9.75625         </td>\n",
       "        </tr>\n",
       "    </tbody>\n",
       "</table>"
      ],
      "text/plain": [
       "PLAYER         | POSITION | TEAM          | 2015-2016 SALARY\n",
       "Paul Millsap   | PF       | Atlanta Hawks | 18.6717\n",
       "Al Horford     | C        | Atlanta Hawks | 12\n",
       "Tiago Splitter | C        | Atlanta Hawks | 9.75625"
      ]
     },
     "execution_count": 28,
     "metadata": {},
     "output_type": "execute_result"
    }
   ],
   "source": [
    "nba.take(make_array(0, 1, 2))"
   ]
  },
  {
   "cell_type": "code",
   "execution_count": 30,
   "metadata": {},
   "outputs": [
    {
     "data": {
      "text/html": [
       "<table border=\"1\" class=\"dataframe\">\n",
       "    <thead>\n",
       "        <tr>\n",
       "            <th>PLAYER</th> <th>POSITION</th> <th>TEAM</th> <th>2015-2016 SALARY</th>\n",
       "        </tr>\n",
       "    </thead>\n",
       "    <tbody>\n",
       "        <tr>\n",
       "            <td>Paul Millsap  </td> <td>PF      </td> <td>Atlanta Hawks</td> <td>18.6717         </td>\n",
       "        </tr>\n",
       "        <tr>\n",
       "            <td>Al Horford    </td> <td>C       </td> <td>Atlanta Hawks</td> <td>12              </td>\n",
       "        </tr>\n",
       "        <tr>\n",
       "            <td>Tiago Splitter</td> <td>C       </td> <td>Atlanta Hawks</td> <td>9.75625         </td>\n",
       "        </tr>\n",
       "    </tbody>\n",
       "</table>"
      ],
      "text/plain": [
       "PLAYER         | POSITION | TEAM          | 2015-2016 SALARY\n",
       "Paul Millsap   | PF       | Atlanta Hawks | 18.6717\n",
       "Al Horford     | C        | Atlanta Hawks | 12\n",
       "Tiago Splitter | C        | Atlanta Hawks | 9.75625"
      ]
     },
     "execution_count": 30,
     "metadata": {},
     "output_type": "execute_result"
    }
   ],
   "source": [
    "# We can do the same as above using np.arange\n",
    "nba.take(np.arange(3))"
   ]
  },
  {
   "cell_type": "markdown",
   "metadata": {},
   "source": [
    "Taking rows using `np.arange` helps intuitively. We can think of the above as \"take the first 3 rows\". \n",
    "\n",
    "Below is an example of taking the 3 most paid NBA players,"
   ]
  },
  {
   "cell_type": "code",
   "execution_count": 31,
   "metadata": {},
   "outputs": [
    {
     "data": {
      "text/html": [
       "<table border=\"1\" class=\"dataframe\">\n",
       "    <thead>\n",
       "        <tr>\n",
       "            <th>PLAYER</th> <th>POSITION</th> <th>TEAM</th> <th>2015-2016 SALARY</th>\n",
       "        </tr>\n",
       "    </thead>\n",
       "    <tbody>\n",
       "        <tr>\n",
       "            <td>Kobe Bryant </td> <td>SF      </td> <td>Los Angeles Lakers </td> <td>25              </td>\n",
       "        </tr>\n",
       "        <tr>\n",
       "            <td>Joe Johnson </td> <td>SF      </td> <td>Brooklyn Nets      </td> <td>24.8949         </td>\n",
       "        </tr>\n",
       "        <tr>\n",
       "            <td>LeBron James</td> <td>SF      </td> <td>Cleveland Cavaliers</td> <td>22.9705         </td>\n",
       "        </tr>\n",
       "    </tbody>\n",
       "</table>"
      ],
      "text/plain": [
       "PLAYER       | POSITION | TEAM                | 2015-2016 SALARY\n",
       "Kobe Bryant  | SF       | Los Angeles Lakers  | 25\n",
       "Joe Johnson  | SF       | Brooklyn Nets       | 24.8949\n",
       "LeBron James | SF       | Cleveland Cavaliers | 22.9705"
      ]
     },
     "execution_count": 31,
     "metadata": {},
     "output_type": "execute_result"
    }
   ],
   "source": [
    "rich = nba.sort(salary, descending=True).take(np.arange(3))\n",
    "rich"
   ]
  },
  {
   "cell_type": "markdown",
   "metadata": {},
   "source": [
    "While below is an example of taking the 10th up to 20th most paid NBA players,"
   ]
  },
  {
   "cell_type": "code",
   "execution_count": 32,
   "metadata": {},
   "outputs": [
    {
     "data": {
      "text/html": [
       "<table border=\"1\" class=\"dataframe\">\n",
       "    <thead>\n",
       "        <tr>\n",
       "            <th>PLAYER</th> <th>POSITION</th> <th>TEAM</th> <th>2015-2016 SALARY</th>\n",
       "        </tr>\n",
       "    </thead>\n",
       "    <tbody>\n",
       "        <tr>\n",
       "            <td>LaMarcus Aldridge</td> <td>PF      </td> <td>San Antonio Spurs    </td> <td>19.689          </td>\n",
       "        </tr>\n",
       "        <tr>\n",
       "            <td>Kevin Love       </td> <td>PF      </td> <td>Cleveland Cavaliers  </td> <td>19.689          </td>\n",
       "        </tr>\n",
       "        <tr>\n",
       "            <td>Marc Gasol       </td> <td>C       </td> <td>Memphis Grizzlies    </td> <td>19.688          </td>\n",
       "        </tr>\n",
       "        <tr>\n",
       "            <td>Blake Griffin    </td> <td>PF      </td> <td>Los Angeles Clippers </td> <td>18.9077         </td>\n",
       "        </tr>\n",
       "        <tr>\n",
       "            <td>Paul Millsap     </td> <td>PF      </td> <td>Atlanta Hawks        </td> <td>18.6717         </td>\n",
       "        </tr>\n",
       "        <tr>\n",
       "            <td>Paul George      </td> <td>SF      </td> <td>Indiana Pacers       </td> <td>17.1201         </td>\n",
       "        </tr>\n",
       "        <tr>\n",
       "            <td>Russell Westbrook</td> <td>PG      </td> <td>Oklahoma City Thunder</td> <td>16.7442         </td>\n",
       "        </tr>\n",
       "        <tr>\n",
       "            <td>Kyrie Irving     </td> <td>PG      </td> <td>Cleveland Cavaliers  </td> <td>16.4075         </td>\n",
       "        </tr>\n",
       "        <tr>\n",
       "            <td>Kawhi Leonard    </td> <td>SF      </td> <td>San Antonio Spurs    </td> <td>16.4075         </td>\n",
       "        </tr>\n",
       "        <tr>\n",
       "            <td>Enes Kanter      </td> <td>C       </td> <td>Oklahoma City Thunder</td> <td>16.4075         </td>\n",
       "        </tr>\n",
       "    </tbody>\n",
       "</table>"
      ],
      "text/plain": [
       "PLAYER            | POSITION | TEAM                  | 2015-2016 SALARY\n",
       "LaMarcus Aldridge | PF       | San Antonio Spurs     | 19.689\n",
       "Kevin Love        | PF       | Cleveland Cavaliers   | 19.689\n",
       "Marc Gasol        | C        | Memphis Grizzlies     | 19.688\n",
       "Blake Griffin     | PF       | Los Angeles Clippers  | 18.9077\n",
       "Paul Millsap      | PF       | Atlanta Hawks         | 18.6717\n",
       "Paul George       | SF       | Indiana Pacers        | 17.1201\n",
       "Russell Westbrook | PG       | Oklahoma City Thunder | 16.7442\n",
       "Kyrie Irving      | PG       | Cleveland Cavaliers   | 16.4075\n",
       "Kawhi Leonard     | SF       | San Antonio Spurs     | 16.4075\n",
       "Enes Kanter       | C        | Oklahoma City Thunder | 16.4075"
      ]
     },
     "execution_count": 32,
     "metadata": {},
     "output_type": "execute_result"
    }
   ],
   "source": [
    "nba.sort(salary, descending=True).take(np.arange(10, 20))"
   ]
  },
  {
   "cell_type": "markdown",
   "metadata": {},
   "source": [
    "# Where\n",
    "`where` is another method that is used to take rows from a table. \n",
    "\n",
    "## The `Where` Method\n",
    "The `where` method takes in a column and a condition, and returns a new table containing the rows that satisfy the condition. Below is an example of taking all the NBA players that were paid more than 10 million dollars."
   ]
  },
  {
   "cell_type": "code",
   "execution_count": 33,
   "metadata": {},
   "outputs": [
    {
     "data": {
      "text/html": [
       "<table border=\"1\" class=\"dataframe\">\n",
       "    <thead>\n",
       "        <tr>\n",
       "            <th>PLAYER</th> <th>POSITION</th> <th>TEAM</th> <th>2015-2016 SALARY</th>\n",
       "        </tr>\n",
       "    </thead>\n",
       "    <tbody>\n",
       "        <tr>\n",
       "            <td>Paul Millsap  </td> <td>PF      </td> <td>Atlanta Hawks    </td> <td>18.6717         </td>\n",
       "        </tr>\n",
       "        <tr>\n",
       "            <td>Al Horford    </td> <td>C       </td> <td>Atlanta Hawks    </td> <td>12              </td>\n",
       "        </tr>\n",
       "        <tr>\n",
       "            <td>Joe Johnson   </td> <td>SF      </td> <td>Brooklyn Nets    </td> <td>24.8949         </td>\n",
       "        </tr>\n",
       "        <tr>\n",
       "            <td>Thaddeus Young</td> <td>PF      </td> <td>Brooklyn Nets    </td> <td>11.236          </td>\n",
       "        </tr>\n",
       "        <tr>\n",
       "            <td>Al Jefferson  </td> <td>C       </td> <td>Charlotte Hornets</td> <td>13.5            </td>\n",
       "        </tr>\n",
       "        <tr>\n",
       "            <td>Nicolas Batum </td> <td>SG      </td> <td>Charlotte Hornets</td> <td>13.1253         </td>\n",
       "        </tr>\n",
       "        <tr>\n",
       "            <td>Kemba Walker  </td> <td>PG      </td> <td>Charlotte Hornets</td> <td>12              </td>\n",
       "        </tr>\n",
       "        <tr>\n",
       "            <td>Derrick Rose  </td> <td>PG      </td> <td>Chicago Bulls    </td> <td>20.0931         </td>\n",
       "        </tr>\n",
       "        <tr>\n",
       "            <td>Jimmy Butler  </td> <td>SG      </td> <td>Chicago Bulls    </td> <td>16.4075         </td>\n",
       "        </tr>\n",
       "        <tr>\n",
       "            <td>Joakim Noah   </td> <td>C       </td> <td>Chicago Bulls    </td> <td>13.4            </td>\n",
       "        </tr>\n",
       "    </tbody>\n",
       "</table>\n",
       "<p>... (59 rows omitted)</p>"
      ],
      "text/plain": [
       "PLAYER         | POSITION | TEAM              | 2015-2016 SALARY\n",
       "Paul Millsap   | PF       | Atlanta Hawks     | 18.6717\n",
       "Al Horford     | C        | Atlanta Hawks     | 12\n",
       "Joe Johnson    | SF       | Brooklyn Nets     | 24.8949\n",
       "Thaddeus Young | PF       | Brooklyn Nets     | 11.236\n",
       "Al Jefferson   | C        | Charlotte Hornets | 13.5\n",
       "Nicolas Batum  | SG       | Charlotte Hornets | 13.1253\n",
       "Kemba Walker   | PG       | Charlotte Hornets | 12\n",
       "Derrick Rose   | PG       | Chicago Bulls     | 20.0931\n",
       "Jimmy Butler   | SG       | Chicago Bulls     | 16.4075\n",
       "Joakim Noah    | C        | Chicago Bulls     | 13.4\n",
       "... (59 rows omitted)"
      ]
     },
     "execution_count": 33,
     "metadata": {},
     "output_type": "execute_result"
    }
   ],
   "source": [
    "nba.where(salary, are.above(10))"
   ]
  },
  {
   "cell_type": "markdown",
   "metadata": {},
   "source": [
    "Above, the first argument is the column to fulfill the condition, while the second argument is the condition itself (e.g. above 10). `are` is a package within `datascience`, while `above` is a method within the package `are`.\n",
    "\n",
    "Below is the same thing as above, sorted in increasing order."
   ]
  },
  {
   "cell_type": "code",
   "execution_count": 34,
   "metadata": {},
   "outputs": [
    {
     "data": {
      "text/html": [
       "<table border=\"1\" class=\"dataframe\">\n",
       "    <thead>\n",
       "        <tr>\n",
       "            <th>PLAYER</th> <th>POSITION</th> <th>TEAM</th> <th>2015-2016 SALARY</th>\n",
       "        </tr>\n",
       "    </thead>\n",
       "    <tbody>\n",
       "        <tr>\n",
       "            <td>DeMar DeRozan  </td> <td>SG      </td> <td>Toronto Raptors     </td> <td>10.05           </td>\n",
       "        </tr>\n",
       "        <tr>\n",
       "            <td>Gerald Wallace </td> <td>SF      </td> <td>Philadelphia 76ers  </td> <td>10.1059         </td>\n",
       "        </tr>\n",
       "        <tr>\n",
       "            <td>Luol Deng      </td> <td>SF      </td> <td>Miami Heat          </td> <td>10.1516         </td>\n",
       "        </tr>\n",
       "        <tr>\n",
       "            <td>Monta Ellis    </td> <td>SG      </td> <td>Indiana Pacers      </td> <td>10.3            </td>\n",
       "        </tr>\n",
       "        <tr>\n",
       "            <td>Wilson Chandler</td> <td>SF      </td> <td>Denver Nuggets      </td> <td>10.4494         </td>\n",
       "        </tr>\n",
       "        <tr>\n",
       "            <td>Brendan Haywood</td> <td>C       </td> <td>Cleveland Cavaliers </td> <td>10.5225         </td>\n",
       "        </tr>\n",
       "        <tr>\n",
       "            <td>Jrue Holiday   </td> <td>PG      </td> <td>New Orleans Pelicans</td> <td>10.5955         </td>\n",
       "        </tr>\n",
       "        <tr>\n",
       "            <td>Tyreke Evans   </td> <td>SG      </td> <td>New Orleans Pelicans</td> <td>10.7346         </td>\n",
       "        </tr>\n",
       "        <tr>\n",
       "            <td>Marcin Gortat  </td> <td>C       </td> <td>Washington Wizards  </td> <td>11.2174         </td>\n",
       "        </tr>\n",
       "        <tr>\n",
       "            <td>Thaddeus Young </td> <td>PF      </td> <td>Brooklyn Nets       </td> <td>11.236          </td>\n",
       "        </tr>\n",
       "    </tbody>\n",
       "</table>\n",
       "<p>... (59 rows omitted)</p>"
      ],
      "text/plain": [
       "PLAYER          | POSITION | TEAM                 | 2015-2016 SALARY\n",
       "DeMar DeRozan   | SG       | Toronto Raptors      | 10.05\n",
       "Gerald Wallace  | SF       | Philadelphia 76ers   | 10.1059\n",
       "Luol Deng       | SF       | Miami Heat           | 10.1516\n",
       "Monta Ellis     | SG       | Indiana Pacers       | 10.3\n",
       "Wilson Chandler | SF       | Denver Nuggets       | 10.4494\n",
       "Brendan Haywood | C        | Cleveland Cavaliers  | 10.5225\n",
       "Jrue Holiday    | PG       | New Orleans Pelicans | 10.5955\n",
       "Tyreke Evans    | SG       | New Orleans Pelicans | 10.7346\n",
       "Marcin Gortat   | C        | Washington Wizards   | 11.2174\n",
       "Thaddeus Young  | PF       | Brooklyn Nets        | 11.236\n",
       "... (59 rows omitted)"
      ]
     },
     "execution_count": 34,
     "metadata": {},
     "output_type": "execute_result"
    }
   ],
   "source": [
    "nba.where(salary, are.above(10)).sort(salary)"
   ]
  },
  {
   "cell_type": "markdown",
   "metadata": {},
   "source": [
    "Below is an example of taking the NBA players that are in the **Golden State Warriors** team."
   ]
  },
  {
   "cell_type": "code",
   "execution_count": 35,
   "metadata": {},
   "outputs": [
    {
     "data": {
      "text/html": [
       "<table border=\"1\" class=\"dataframe\">\n",
       "    <thead>\n",
       "        <tr>\n",
       "            <th>PLAYER</th> <th>POSITION</th> <th>TEAM</th> <th>2015-2016 SALARY</th>\n",
       "        </tr>\n",
       "    </thead>\n",
       "    <tbody>\n",
       "        <tr>\n",
       "            <td>Klay Thompson    </td> <td>SG      </td> <td>Golden State Warriors</td> <td>15.501          </td>\n",
       "        </tr>\n",
       "        <tr>\n",
       "            <td>Draymond Green   </td> <td>PF      </td> <td>Golden State Warriors</td> <td>14.2609         </td>\n",
       "        </tr>\n",
       "        <tr>\n",
       "            <td>Andrew Bogut     </td> <td>C       </td> <td>Golden State Warriors</td> <td>13.8            </td>\n",
       "        </tr>\n",
       "        <tr>\n",
       "            <td>Andre Iguodala   </td> <td>SF      </td> <td>Golden State Warriors</td> <td>11.7105         </td>\n",
       "        </tr>\n",
       "        <tr>\n",
       "            <td>Stephen Curry    </td> <td>PG      </td> <td>Golden State Warriors</td> <td>11.3708         </td>\n",
       "        </tr>\n",
       "        <tr>\n",
       "            <td>Jason Thompson   </td> <td>PF      </td> <td>Golden State Warriors</td> <td>7.00847         </td>\n",
       "        </tr>\n",
       "        <tr>\n",
       "            <td>Shaun Livingston </td> <td>PG      </td> <td>Golden State Warriors</td> <td>5.54373         </td>\n",
       "        </tr>\n",
       "        <tr>\n",
       "            <td>Harrison Barnes  </td> <td>SF      </td> <td>Golden State Warriors</td> <td>3.8734          </td>\n",
       "        </tr>\n",
       "        <tr>\n",
       "            <td>Marreese Speights</td> <td>C       </td> <td>Golden State Warriors</td> <td>3.815           </td>\n",
       "        </tr>\n",
       "        <tr>\n",
       "            <td>Leandro Barbosa  </td> <td>SG      </td> <td>Golden State Warriors</td> <td>2.5             </td>\n",
       "        </tr>\n",
       "    </tbody>\n",
       "</table>\n",
       "<p>... (4 rows omitted)</p>"
      ],
      "text/plain": [
       "PLAYER            | POSITION | TEAM                  | 2015-2016 SALARY\n",
       "Klay Thompson     | SG       | Golden State Warriors | 15.501\n",
       "Draymond Green    | PF       | Golden State Warriors | 14.2609\n",
       "Andrew Bogut      | C        | Golden State Warriors | 13.8\n",
       "Andre Iguodala    | SF       | Golden State Warriors | 11.7105\n",
       "Stephen Curry     | PG       | Golden State Warriors | 11.3708\n",
       "Jason Thompson    | PF       | Golden State Warriors | 7.00847\n",
       "Shaun Livingston  | PG       | Golden State Warriors | 5.54373\n",
       "Harrison Barnes   | SF       | Golden State Warriors | 3.8734\n",
       "Marreese Speights | C        | Golden State Warriors | 3.815\n",
       "Leandro Barbosa   | SG       | Golden State Warriors | 2.5\n",
       "... (4 rows omitted)"
      ]
     },
     "execution_count": 35,
     "metadata": {},
     "output_type": "execute_result"
    }
   ],
   "source": [
    "nba.where(\"TEAM\", are.equal_to('Golden State Warriors'))"
   ]
  },
  {
   "cell_type": "markdown",
   "metadata": {},
   "source": [
    "While below is an example of taking the NBA players where the `TEAM` column contains the string \"Warriors\""
   ]
  },
  {
   "cell_type": "code",
   "execution_count": 36,
   "metadata": {},
   "outputs": [
    {
     "data": {
      "text/html": [
       "<table border=\"1\" class=\"dataframe\">\n",
       "    <thead>\n",
       "        <tr>\n",
       "            <th>PLAYER</th> <th>POSITION</th> <th>TEAM</th> <th>2015-2016 SALARY</th>\n",
       "        </tr>\n",
       "    </thead>\n",
       "    <tbody>\n",
       "        <tr>\n",
       "            <td>Klay Thompson    </td> <td>SG      </td> <td>Golden State Warriors</td> <td>15.501          </td>\n",
       "        </tr>\n",
       "        <tr>\n",
       "            <td>Draymond Green   </td> <td>PF      </td> <td>Golden State Warriors</td> <td>14.2609         </td>\n",
       "        </tr>\n",
       "        <tr>\n",
       "            <td>Andrew Bogut     </td> <td>C       </td> <td>Golden State Warriors</td> <td>13.8            </td>\n",
       "        </tr>\n",
       "        <tr>\n",
       "            <td>Andre Iguodala   </td> <td>SF      </td> <td>Golden State Warriors</td> <td>11.7105         </td>\n",
       "        </tr>\n",
       "        <tr>\n",
       "            <td>Stephen Curry    </td> <td>PG      </td> <td>Golden State Warriors</td> <td>11.3708         </td>\n",
       "        </tr>\n",
       "        <tr>\n",
       "            <td>Jason Thompson   </td> <td>PF      </td> <td>Golden State Warriors</td> <td>7.00847         </td>\n",
       "        </tr>\n",
       "        <tr>\n",
       "            <td>Shaun Livingston </td> <td>PG      </td> <td>Golden State Warriors</td> <td>5.54373         </td>\n",
       "        </tr>\n",
       "        <tr>\n",
       "            <td>Harrison Barnes  </td> <td>SF      </td> <td>Golden State Warriors</td> <td>3.8734          </td>\n",
       "        </tr>\n",
       "        <tr>\n",
       "            <td>Marreese Speights</td> <td>C       </td> <td>Golden State Warriors</td> <td>3.815           </td>\n",
       "        </tr>\n",
       "        <tr>\n",
       "            <td>Leandro Barbosa  </td> <td>SG      </td> <td>Golden State Warriors</td> <td>2.5             </td>\n",
       "        </tr>\n",
       "    </tbody>\n",
       "</table>\n",
       "<p>... (4 rows omitted)</p>"
      ],
      "text/plain": [
       "PLAYER            | POSITION | TEAM                  | 2015-2016 SALARY\n",
       "Klay Thompson     | SG       | Golden State Warriors | 15.501\n",
       "Draymond Green    | PF       | Golden State Warriors | 14.2609\n",
       "Andrew Bogut      | C        | Golden State Warriors | 13.8\n",
       "Andre Iguodala    | SF       | Golden State Warriors | 11.7105\n",
       "Stephen Curry     | PG       | Golden State Warriors | 11.3708\n",
       "Jason Thompson    | PF       | Golden State Warriors | 7.00847\n",
       "Shaun Livingston  | PG       | Golden State Warriors | 5.54373\n",
       "Harrison Barnes   | SF       | Golden State Warriors | 3.8734\n",
       "Marreese Speights | C        | Golden State Warriors | 3.815\n",
       "Leandro Barbosa   | SG       | Golden State Warriors | 2.5\n",
       "... (4 rows omitted)"
      ]
     },
     "execution_count": 36,
     "metadata": {},
     "output_type": "execute_result"
    }
   ],
   "source": [
    "nba.where(\"TEAM\", are.containing('Warriors'))"
   ]
  },
  {
   "cell_type": "markdown",
   "metadata": {},
   "source": [
    "If we want to know what other methods are within the `are` package, recall we can press `tab` key after the `.` dot,"
   ]
  },
  {
   "cell_type": "code",
   "execution_count": null,
   "metadata": {},
   "outputs": [],
   "source": [
    "# Press \"tab\" after the dot!\n",
    "nba.where(\"TEAM\", are."
   ]
  },
  {
   "cell_type": "markdown",
   "metadata": {},
   "source": [
    "Below is an example of taking the NBA players where the salary is between 11 to (but not including) 12 million dollars,"
   ]
  },
  {
   "cell_type": "code",
   "execution_count": 37,
   "metadata": {},
   "outputs": [
    {
     "data": {
      "text/html": [
       "<table border=\"1\" class=\"dataframe\">\n",
       "    <thead>\n",
       "        <tr>\n",
       "            <th>PLAYER</th> <th>POSITION</th> <th>TEAM</th> <th>2015-2016 SALARY</th>\n",
       "        </tr>\n",
       "    </thead>\n",
       "    <tbody>\n",
       "        <tr>\n",
       "            <td>Thaddeus Young</td> <td>PF      </td> <td>Brooklyn Nets        </td> <td>11.236          </td>\n",
       "        </tr>\n",
       "        <tr>\n",
       "            <td>Kenneth Faried</td> <td>PF      </td> <td>Denver Nuggets       </td> <td>11.236          </td>\n",
       "        </tr>\n",
       "        <tr>\n",
       "            <td>Andre Iguodala</td> <td>SF      </td> <td>Golden State Warriors</td> <td>11.7105         </td>\n",
       "        </tr>\n",
       "        <tr>\n",
       "            <td>Stephen Curry </td> <td>PG      </td> <td>Golden State Warriors</td> <td>11.3708         </td>\n",
       "        </tr>\n",
       "        <tr>\n",
       "            <td>Nikola Vucevic</td> <td>C       </td> <td>Orlando Magic        </td> <td>11.25           </td>\n",
       "        </tr>\n",
       "        <tr>\n",
       "            <td>Marcin Gortat </td> <td>C       </td> <td>Washington Wizards   </td> <td>11.2174         </td>\n",
       "        </tr>\n",
       "    </tbody>\n",
       "</table>"
      ],
      "text/plain": [
       "PLAYER         | POSITION | TEAM                  | 2015-2016 SALARY\n",
       "Thaddeus Young | PF       | Brooklyn Nets         | 11.236\n",
       "Kenneth Faried | PF       | Denver Nuggets        | 11.236\n",
       "Andre Iguodala | SF       | Golden State Warriors | 11.7105\n",
       "Stephen Curry  | PG       | Golden State Warriors | 11.3708\n",
       "Nikola Vucevic | C        | Orlando Magic         | 11.25\n",
       "Marcin Gortat  | C        | Washington Wizards    | 11.2174"
      ]
     },
     "execution_count": 37,
     "metadata": {},
     "output_type": "execute_result"
    }
   ],
   "source": [
    "nba.where(salary, are.between(11, 12))"
   ]
  },
  {
   "cell_type": "markdown",
   "metadata": {},
   "source": [
    "While below is an example of taking the NBA players whose name contain the string \"Curry\","
   ]
  },
  {
   "cell_type": "code",
   "execution_count": 38,
   "metadata": {},
   "outputs": [
    {
     "data": {
      "text/html": [
       "<table border=\"1\" class=\"dataframe\">\n",
       "    <thead>\n",
       "        <tr>\n",
       "            <th>PLAYER</th> <th>POSITION</th> <th>TEAM</th> <th>2015-2016 SALARY</th>\n",
       "        </tr>\n",
       "    </thead>\n",
       "    <tbody>\n",
       "        <tr>\n",
       "            <td>Stephen Curry</td> <td>PG      </td> <td>Golden State Warriors</td> <td>11.3708         </td>\n",
       "        </tr>\n",
       "    </tbody>\n",
       "</table>"
      ],
      "text/plain": [
       "PLAYER        | POSITION | TEAM                  | 2015-2016 SALARY\n",
       "Stephen Curry | PG       | Golden State Warriors | 11.3708"
      ]
     },
     "execution_count": 38,
     "metadata": {},
     "output_type": "execute_result"
    }
   ],
   "source": [
    "nba.where('PLAYER', are.containing('Curry'))"
   ]
  },
  {
   "cell_type": "markdown",
   "metadata": {},
   "source": [
    "## Recap - Manipulating Rows\n",
    "1. `t.sort(column)` sorts the rows in increasing order\n",
    "2. `t.take(row_numbers)` keeps the numbered rows\n",
    "    * Each row has an index starting at 0\n",
    "3. `t.where(column, are.condition)` keeps all rows for which a column's value satisfies a condition\n",
    "4. `t.where(column, value)` keeps all rows containing a certain value in a column"
   ]
  },
  {
   "cell_type": "code",
   "execution_count": 41,
   "metadata": {},
   "outputs": [
    {
     "data": {
      "text/html": [
       "<table border=\"1\" class=\"dataframe\">\n",
       "    <thead>\n",
       "        <tr>\n",
       "            <th>PLAYER</th> <th>POSITION</th> <th>TEAM</th> <th>2015-2016 SALARY</th>\n",
       "        </tr>\n",
       "    </thead>\n",
       "    <tbody>\n",
       "        <tr>\n",
       "            <td>Nikola Vucevic</td> <td>C       </td> <td>Orlando Magic</td> <td>11.25           </td>\n",
       "        </tr>\n",
       "    </tbody>\n",
       "</table>"
      ],
      "text/plain": [
       "PLAYER         | POSITION | TEAM          | 2015-2016 SALARY\n",
       "Nikola Vucevic | C        | Orlando Magic | 11.25"
      ]
     },
     "execution_count": 41,
     "metadata": {},
     "output_type": "execute_result"
    }
   ],
   "source": [
    "nba.where(salary, 11.25)"
   ]
  },
  {
   "cell_type": "code",
   "execution_count": 43,
   "metadata": {},
   "outputs": [
    {
     "data": {
      "text/html": [
       "<table border=\"1\" class=\"dataframe\">\n",
       "    <thead>\n",
       "        <tr>\n",
       "            <th>PLAYER</th> <th>POSITION</th> <th>TEAM</th> <th>2015-2016 SALARY</th>\n",
       "        </tr>\n",
       "    </thead>\n",
       "    <tbody>\n",
       "        <tr>\n",
       "            <td>Jeff Teague    </td> <td>PG      </td> <td>Atlanta Hawks    </td> <td>8               </td>\n",
       "        </tr>\n",
       "        <tr>\n",
       "            <td>Dennis Schroder</td> <td>PG      </td> <td>Atlanta Hawks    </td> <td>1.7634          </td>\n",
       "        </tr>\n",
       "        <tr>\n",
       "            <td>Avery Bradley  </td> <td>PG      </td> <td>Boston Celtics   </td> <td>7.73034         </td>\n",
       "        </tr>\n",
       "        <tr>\n",
       "            <td>Isaiah Thomas  </td> <td>PG      </td> <td>Boston Celtics   </td> <td>6.91287         </td>\n",
       "        </tr>\n",
       "        <tr>\n",
       "            <td>Marcus Smart   </td> <td>PG      </td> <td>Boston Celtics   </td> <td>3.43104         </td>\n",
       "        </tr>\n",
       "        <tr>\n",
       "            <td>Terry Rozier   </td> <td>PG      </td> <td>Boston Celtics   </td> <td>1.82436         </td>\n",
       "        </tr>\n",
       "        <tr>\n",
       "            <td>Jarrett Jack   </td> <td>PG      </td> <td>Brooklyn Nets    </td> <td>6.3             </td>\n",
       "        </tr>\n",
       "        <tr>\n",
       "            <td>Shane Larkin   </td> <td>PG      </td> <td>Brooklyn Nets    </td> <td>1.5             </td>\n",
       "        </tr>\n",
       "        <tr>\n",
       "            <td>Kemba Walker   </td> <td>PG      </td> <td>Charlotte Hornets</td> <td>12              </td>\n",
       "        </tr>\n",
       "        <tr>\n",
       "            <td>Brian Roberts  </td> <td>PG      </td> <td>Charlotte Hornets</td> <td>2.85494         </td>\n",
       "        </tr>\n",
       "    </tbody>\n",
       "</table>\n",
       "<p>... (75 rows omitted)</p>"
      ],
      "text/plain": [
       "PLAYER          | POSITION | TEAM              | 2015-2016 SALARY\n",
       "Jeff Teague     | PG       | Atlanta Hawks     | 8\n",
       "Dennis Schroder | PG       | Atlanta Hawks     | 1.7634\n",
       "Avery Bradley   | PG       | Boston Celtics    | 7.73034\n",
       "Isaiah Thomas   | PG       | Boston Celtics    | 6.91287\n",
       "Marcus Smart    | PG       | Boston Celtics    | 3.43104\n",
       "Terry Rozier    | PG       | Boston Celtics    | 1.82436\n",
       "Jarrett Jack    | PG       | Brooklyn Nets     | 6.3\n",
       "Shane Larkin    | PG       | Brooklyn Nets     | 1.5\n",
       "Kemba Walker    | PG       | Charlotte Hornets | 12\n",
       "Brian Roberts   | PG       | Charlotte Hornets | 2.85494\n",
       "... (75 rows omitted)"
      ]
     },
     "execution_count": 43,
     "metadata": {},
     "output_type": "execute_result"
    }
   ],
   "source": [
    "nba.where('POSITION', 'PG')"
   ]
  },
  {
   "cell_type": "markdown",
   "metadata": {},
   "source": [
    "Note that the method above doesn't work like `are.containing`. It works like `are.equal_to`."
   ]
  },
  {
   "cell_type": "code",
   "execution_count": 44,
   "metadata": {},
   "outputs": [
    {
     "data": {
      "text/html": [
       "<table border=\"1\" class=\"dataframe\">\n",
       "    <thead>\n",
       "        <tr>\n",
       "            <th>PLAYER</th> <th>POSITION</th> <th>TEAM</th> <th>2015-2016 SALARY</th>\n",
       "        </tr>\n",
       "    </thead>\n",
       "    <tbody>\n",
       "    </tbody>\n",
       "</table>"
      ],
      "text/plain": [
       "PLAYER | POSITION | TEAM | 2015-2016 SALARY"
      ]
     },
     "execution_count": 44,
     "metadata": {},
     "output_type": "execute_result"
    }
   ],
   "source": [
    "nba.where('PLAYER', 'Atlanta')"
   ]
  },
  {
   "cell_type": "code",
   "execution_count": null,
   "metadata": {},
   "outputs": [],
   "source": []
  }
 ],
 "metadata": {
  "kernelspec": {
   "display_name": "Python 3",
   "language": "python",
   "name": "python3"
  },
  "language_info": {
   "codemirror_mode": {
    "name": "ipython",
    "version": 3
   },
   "file_extension": ".py",
   "mimetype": "text/x-python",
   "name": "python",
   "nbconvert_exporter": "python",
   "pygments_lexer": "ipython3",
   "version": "3.7.2"
  }
 },
 "nbformat": 4,
 "nbformat_minor": 1
}
