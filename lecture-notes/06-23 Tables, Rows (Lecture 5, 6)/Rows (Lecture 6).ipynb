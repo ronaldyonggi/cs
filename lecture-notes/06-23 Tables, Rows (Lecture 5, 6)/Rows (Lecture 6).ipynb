{
 "cells": [
  {
   "cell_type": "markdown",
   "metadata": {},
   "source": [
    "# Tables Review\n",
    "* Create and extend tables\n",
    "    * **Table().with_columns** and **Table.read_table**\n",
    "* Finding size of tables\n",
    "    * **num_rows** and **num_columns**\n",
    "* Referring to columns - labels, relabeling, and indices\n",
    "    * **labels** and **relabeled**\n",
    "    * Column indices start at 0\n",
    "* Accessing data in a column\n",
    "    * **Column** takes a label or index and returns an array\n",
    "* Using array methods to work with data in columns\n",
    "    * **item, sum, min, max**, etc.\n",
    "* Create new tables containing some of the original columns\n",
    "    * **select, drop**\n",
    "\n",
    "## Review Quiz\n",
    "\n",
    "The table **students** has columns **Name**, **ID**, and **Score**. Write one line of code that evaluates to:\n",
    "* A table consisting of only the column labeled **Name**\n",
    "* The largest score"
   ]
  },
  {
   "cell_type": "code",
   "execution_count": 1,
   "metadata": {},
   "outputs": [
    {
     "data": {
      "text/html": [
       "<table border=\"1\" class=\"dataframe\">\n",
       "    <thead>\n",
       "        <tr>\n",
       "            <th>Name</th> <th>ID</th> <th>Score</th>\n",
       "        </tr>\n",
       "    </thead>\n",
       "    <tbody>\n",
       "        <tr>\n",
       "            <td>John</td> <td>24663</td> <td>65   </td>\n",
       "        </tr>\n",
       "        <tr>\n",
       "            <td>Amy </td> <td>57447</td> <td>94   </td>\n",
       "        </tr>\n",
       "    </tbody>\n",
       "</table>"
      ],
      "text/plain": [
       "Name | ID    | Score\n",
       "John | 24663 | 65\n",
       "Amy  | 57447 | 94"
      ]
     },
     "execution_count": 1,
     "metadata": {},
     "output_type": "execute_result"
    }
   ],
   "source": [
    "from datascience import *\n",
    "students = Table().with_columns(\n",
    "    'Name', make_array('John', 'Amy'), \n",
    "    'ID', make_array(24663, 57447),\n",
    "    'Score', make_array(65, 94))\n",
    "students"
   ]
  },
  {
   "cell_type": "code",
   "execution_count": 2,
   "metadata": {},
   "outputs": [
    {
     "data": {
      "text/html": [
       "<table border=\"1\" class=\"dataframe\">\n",
       "    <thead>\n",
       "        <tr>\n",
       "            <th>Name</th>\n",
       "        </tr>\n",
       "    </thead>\n",
       "    <tbody>\n",
       "        <tr>\n",
       "            <td>John</td>\n",
       "        </tr>\n",
       "        <tr>\n",
       "            <td>Amy </td>\n",
       "        </tr>\n",
       "    </tbody>\n",
       "</table>"
      ],
      "text/plain": [
       "Name\n",
       "John\n",
       "Amy"
      ]
     },
     "execution_count": 2,
     "metadata": {},
     "output_type": "execute_result"
    }
   ],
   "source": [
    "# A table consisting of only the column labeled **Name**\n",
    "students.select('Name')"
   ]
  },
  {
   "cell_type": "code",
   "execution_count": 3,
   "metadata": {},
   "outputs": [
    {
     "data": {
      "text/html": [
       "<table border=\"1\" class=\"dataframe\">\n",
       "    <thead>\n",
       "        <tr>\n",
       "            <th>Name</th>\n",
       "        </tr>\n",
       "    </thead>\n",
       "    <tbody>\n",
       "        <tr>\n",
       "            <td>John</td>\n",
       "        </tr>\n",
       "        <tr>\n",
       "            <td>Amy </td>\n",
       "        </tr>\n",
       "    </tbody>\n",
       "</table>"
      ],
      "text/plain": [
       "Name\n",
       "John\n",
       "Amy"
      ]
     },
     "execution_count": 3,
     "metadata": {},
     "output_type": "execute_result"
    }
   ],
   "source": [
    "# Other way of choosing the column labeled **Name**\n",
    "students.select(0)"
   ]
  },
  {
   "cell_type": "code",
   "execution_count": 4,
   "metadata": {},
   "outputs": [
    {
     "data": {
      "text/plain": [
       "94"
      ]
     },
     "execution_count": 4,
     "metadata": {},
     "output_type": "execute_result"
    }
   ],
   "source": [
    "#Choosing the largest score\n",
    "max(students.column('Score'))"
   ]
  },
  {
   "cell_type": "markdown",
   "metadata": {},
   "source": [
    "# Sorting Tables\n",
    "* Tables are also ordered collection of rows\n",
    "* The **sort** method creates a new table with the same rows in a different order (the original table is unaffected)\n",
    "* The **show** method displays the first rows of a table"
   ]
  },
  {
   "cell_type": "markdown",
   "metadata": {},
   "source": [
    "Here we're going to read and create a table from the data of salaries of all NBA players in 2015-2016. \n",
    "The code for the player position is as the following:\n",
    "* PG = Point Guard\n",
    "* SG = Shooting Guard\n",
    "* PF = Power Forward\n",
    "* SF = Small Forward\n",
    "* C = Center"
   ]
  },
  {
   "cell_type": "code",
   "execution_count": 5,
   "metadata": {},
   "outputs": [
    {
     "data": {
      "text/html": [
       "<table border=\"1\" class=\"dataframe\">\n",
       "    <thead>\n",
       "        <tr>\n",
       "            <th>PLAYER</th> <th>POSITION</th> <th>TEAM</th> <th>2015-2016 SALARY</th>\n",
       "        </tr>\n",
       "    </thead>\n",
       "    <tbody>\n",
       "        <tr>\n",
       "            <td>Paul Millsap    </td> <td>PF      </td> <td>Atlanta Hawks</td> <td>18.6717         </td>\n",
       "        </tr>\n",
       "        <tr>\n",
       "            <td>Al Horford      </td> <td>C       </td> <td>Atlanta Hawks</td> <td>12              </td>\n",
       "        </tr>\n",
       "        <tr>\n",
       "            <td>Tiago Splitter  </td> <td>C       </td> <td>Atlanta Hawks</td> <td>9.75625         </td>\n",
       "        </tr>\n",
       "        <tr>\n",
       "            <td>Jeff Teague     </td> <td>PG      </td> <td>Atlanta Hawks</td> <td>8               </td>\n",
       "        </tr>\n",
       "        <tr>\n",
       "            <td>Kyle Korver     </td> <td>SG      </td> <td>Atlanta Hawks</td> <td>5.74648         </td>\n",
       "        </tr>\n",
       "        <tr>\n",
       "            <td>Thabo Sefolosha </td> <td>SF      </td> <td>Atlanta Hawks</td> <td>4               </td>\n",
       "        </tr>\n",
       "        <tr>\n",
       "            <td>Mike Scott      </td> <td>PF      </td> <td>Atlanta Hawks</td> <td>3.33333         </td>\n",
       "        </tr>\n",
       "        <tr>\n",
       "            <td>Kent Bazemore   </td> <td>SF      </td> <td>Atlanta Hawks</td> <td>2               </td>\n",
       "        </tr>\n",
       "        <tr>\n",
       "            <td>Dennis Schroder </td> <td>PG      </td> <td>Atlanta Hawks</td> <td>1.7634          </td>\n",
       "        </tr>\n",
       "        <tr>\n",
       "            <td>Tim Hardaway Jr.</td> <td>SG      </td> <td>Atlanta Hawks</td> <td>1.30452         </td>\n",
       "        </tr>\n",
       "    </tbody>\n",
       "</table>\n",
       "<p>... (407 rows omitted)</p>"
      ],
      "text/plain": [
       "PLAYER           | POSITION | TEAM          | 2015-2016 SALARY\n",
       "Paul Millsap     | PF       | Atlanta Hawks | 18.6717\n",
       "Al Horford       | C        | Atlanta Hawks | 12\n",
       "Tiago Splitter   | C        | Atlanta Hawks | 9.75625\n",
       "Jeff Teague      | PG       | Atlanta Hawks | 8\n",
       "Kyle Korver      | SG       | Atlanta Hawks | 5.74648\n",
       "Thabo Sefolosha  | SF       | Atlanta Hawks | 4\n",
       "Mike Scott       | PF       | Atlanta Hawks | 3.33333\n",
       "Kent Bazemore    | SF       | Atlanta Hawks | 2\n",
       "Dennis Schroder  | PG       | Atlanta Hawks | 1.7634\n",
       "Tim Hardaway Jr. | SG       | Atlanta Hawks | 1.30452\n",
       "... (407 rows omitted)"
      ]
     },
     "execution_count": 5,
     "metadata": {},
     "output_type": "execute_result"
    }
   ],
   "source": [
    "nba_salaries = Table.read_table('nba_salaries.csv')\n",
    "nba_salaries"
   ]
  },
  {
   "cell_type": "markdown",
   "metadata": {},
   "source": [
    "We can use **show** method to determine how many rows we want to show in a table (without any argument, the default value is 10)."
   ]
  },
  {
   "cell_type": "code",
   "execution_count": 6,
   "metadata": {},
   "outputs": [
    {
     "data": {
      "text/html": [
       "<table border=\"1\" class=\"dataframe\">\n",
       "    <thead>\n",
       "        <tr>\n",
       "            <th>PLAYER</th> <th>POSITION</th> <th>TEAM</th> <th>2015-2016 SALARY</th>\n",
       "        </tr>\n",
       "    </thead>\n",
       "    <tbody>\n",
       "        <tr>\n",
       "            <td>Paul Millsap  </td> <td>PF      </td> <td>Atlanta Hawks</td> <td>18.6717         </td>\n",
       "        </tr>\n",
       "        <tr>\n",
       "            <td>Al Horford    </td> <td>C       </td> <td>Atlanta Hawks</td> <td>12              </td>\n",
       "        </tr>\n",
       "        <tr>\n",
       "            <td>Tiago Splitter</td> <td>C       </td> <td>Atlanta Hawks</td> <td>9.75625         </td>\n",
       "        </tr>\n",
       "    </tbody>\n",
       "</table>\n",
       "<p>... (414 rows omitted)</p>"
      ],
      "text/plain": [
       "<IPython.core.display.HTML object>"
      ]
     },
     "metadata": {},
     "output_type": "display_data"
    }
   ],
   "source": [
    "nba_salaries.show(3)"
   ]
  },
  {
   "cell_type": "markdown",
   "metadata": {},
   "source": [
    "Below we sort the table based on salary using **sort** method"
   ]
  },
  {
   "cell_type": "code",
   "execution_count": 7,
   "metadata": {},
   "outputs": [
    {
     "data": {
      "text/html": [
       "<table border=\"1\" class=\"dataframe\">\n",
       "    <thead>\n",
       "        <tr>\n",
       "            <th>PLAYER</th> <th>POSITION</th> <th>TEAM</th> <th>2015-2016 SALARY</th>\n",
       "        </tr>\n",
       "    </thead>\n",
       "    <tbody>\n",
       "        <tr>\n",
       "            <td>Thanasis Antetokounmpo</td> <td>SF      </td> <td>New York Knicks  </td> <td>0.030888        </td>\n",
       "        </tr>\n",
       "        <tr>\n",
       "            <td>Jordan McRae          </td> <td>SG      </td> <td>Phoenix Suns     </td> <td>0.049709        </td>\n",
       "        </tr>\n",
       "        <tr>\n",
       "            <td>Cory Jefferson        </td> <td>PF      </td> <td>Phoenix Suns     </td> <td>0.049709        </td>\n",
       "        </tr>\n",
       "        <tr>\n",
       "            <td>Elliot Williams       </td> <td>SG      </td> <td>Memphis Grizzlies</td> <td>0.055722        </td>\n",
       "        </tr>\n",
       "        <tr>\n",
       "            <td>Orlando Johnson       </td> <td>SG      </td> <td>Phoenix Suns     </td> <td>0.055722        </td>\n",
       "        </tr>\n",
       "    </tbody>\n",
       "</table>\n",
       "<p>... (412 rows omitted)</p>"
      ],
      "text/plain": [
       "<IPython.core.display.HTML object>"
      ]
     },
     "metadata": {},
     "output_type": "display_data"
    }
   ],
   "source": [
    "nba_salaries.sort('2015-2016 SALARY').show(5)"
   ]
  },
  {
   "cell_type": "markdown",
   "metadata": {},
   "source": [
    "Notice above that the table is sorted in ascending order! If we want to sort the table in descending order, we need to add an additional argument to the **sort** method."
   ]
  },
  {
   "cell_type": "code",
   "execution_count": 8,
   "metadata": {},
   "outputs": [
    {
     "data": {
      "text/html": [
       "<table border=\"1\" class=\"dataframe\">\n",
       "    <thead>\n",
       "        <tr>\n",
       "            <th>PLAYER</th> <th>POSITION</th> <th>TEAM</th> <th>2015-2016 SALARY</th>\n",
       "        </tr>\n",
       "    </thead>\n",
       "    <tbody>\n",
       "        <tr>\n",
       "            <td>Kobe Bryant    </td> <td>SF      </td> <td>Los Angeles Lakers </td> <td>25              </td>\n",
       "        </tr>\n",
       "        <tr>\n",
       "            <td>Joe Johnson    </td> <td>SF      </td> <td>Brooklyn Nets      </td> <td>24.8949         </td>\n",
       "        </tr>\n",
       "        <tr>\n",
       "            <td>LeBron James   </td> <td>SF      </td> <td>Cleveland Cavaliers</td> <td>22.9705         </td>\n",
       "        </tr>\n",
       "        <tr>\n",
       "            <td>Carmelo Anthony</td> <td>SF      </td> <td>New York Knicks    </td> <td>22.875          </td>\n",
       "        </tr>\n",
       "        <tr>\n",
       "            <td>Dwight Howard  </td> <td>C       </td> <td>Houston Rockets    </td> <td>22.3594         </td>\n",
       "        </tr>\n",
       "    </tbody>\n",
       "</table>\n",
       "<p>... (412 rows omitted)</p>"
      ],
      "text/plain": [
       "<IPython.core.display.HTML object>"
      ]
     },
     "metadata": {},
     "output_type": "display_data"
    }
   ],
   "source": [
    "nba_salaries.sort('2015-2016 SALARY', descending = True).show(5)"
   ]
  },
  {
   "cell_type": "markdown",
   "metadata": {},
   "source": [
    "We can also stack different **sort**s! Below is an example of a table of NBA players sorted by salary and position.\n",
    "**Note**: the later **sort** is processed last. In the example below, the salary is sorted first, then position."
   ]
  },
  {
   "cell_type": "code",
   "execution_count": 9,
   "metadata": {},
   "outputs": [
    {
     "data": {
      "text/html": [
       "<table border=\"1\" class=\"dataframe\">\n",
       "    <thead>\n",
       "        <tr>\n",
       "            <th>PLAYER</th> <th>POSITION</th> <th>TEAM</th> <th>2015-2016 SALARY</th>\n",
       "        </tr>\n",
       "    </thead>\n",
       "    <tbody>\n",
       "        <tr>\n",
       "            <td>Dwight Howard   </td> <td>C       </td> <td>Houston Rockets      </td> <td>22.3594         </td>\n",
       "        </tr>\n",
       "        <tr>\n",
       "            <td>Marc Gasol      </td> <td>C       </td> <td>Memphis Grizzlies    </td> <td>19.688          </td>\n",
       "        </tr>\n",
       "        <tr>\n",
       "            <td>Enes Kanter     </td> <td>C       </td> <td>Oklahoma City Thunder</td> <td>16.4075         </td>\n",
       "        </tr>\n",
       "        <tr>\n",
       "            <td>DeMarcus Cousins</td> <td>C       </td> <td>Sacramento Kings     </td> <td>15.852          </td>\n",
       "        </tr>\n",
       "        <tr>\n",
       "            <td>Roy Hibbert     </td> <td>C       </td> <td>Los Angeles Lakers   </td> <td>15.5922         </td>\n",
       "        </tr>\n",
       "        <tr>\n",
       "            <td>Tristan Thompson</td> <td>C       </td> <td>Cleveland Cavaliers  </td> <td>14.2609         </td>\n",
       "        </tr>\n",
       "        <tr>\n",
       "            <td>Andrew Bogut    </td> <td>C       </td> <td>Golden State Warriors</td> <td>13.8            </td>\n",
       "        </tr>\n",
       "        <tr>\n",
       "            <td>Al Jefferson    </td> <td>C       </td> <td>Charlotte Hornets    </td> <td>13.5            </td>\n",
       "        </tr>\n",
       "        <tr>\n",
       "            <td>Joakim Noah     </td> <td>C       </td> <td>Chicago Bulls        </td> <td>13.4            </td>\n",
       "        </tr>\n",
       "        <tr>\n",
       "            <td>Nene Hilario    </td> <td>C       </td> <td>Washington Wizards   </td> <td>13              </td>\n",
       "        </tr>\n",
       "    </tbody>\n",
       "</table>\n",
       "<p>... (407 rows omitted)</p>"
      ],
      "text/plain": [
       "PLAYER           | POSITION | TEAM                  | 2015-2016 SALARY\n",
       "Dwight Howard    | C        | Houston Rockets       | 22.3594\n",
       "Marc Gasol       | C        | Memphis Grizzlies     | 19.688\n",
       "Enes Kanter      | C        | Oklahoma City Thunder | 16.4075\n",
       "DeMarcus Cousins | C        | Sacramento Kings      | 15.852\n",
       "Roy Hibbert      | C        | Los Angeles Lakers    | 15.5922\n",
       "Tristan Thompson | C        | Cleveland Cavaliers   | 14.2609\n",
       "Andrew Bogut     | C        | Golden State Warriors | 13.8\n",
       "Al Jefferson     | C        | Charlotte Hornets     | 13.5\n",
       "Joakim Noah      | C        | Chicago Bulls         | 13.4\n",
       "Nene Hilario     | C        | Washington Wizards    | 13\n",
       "... (407 rows omitted)"
      ]
     },
     "execution_count": 9,
     "metadata": {},
     "output_type": "execute_result"
    }
   ],
   "source": [
    "nba_salaries.sort('2015-2016 SALARY', descending = True).sort(1)"
   ]
  },
  {
   "cell_type": "code",
   "execution_count": 10,
   "metadata": {},
   "outputs": [],
   "source": [
    "# If you're curious of what else the **sort** method is capable of, you can look at the documentation\n",
    "nba_salaries.sort?"
   ]
  },
  {
   "cell_type": "markdown",
   "metadata": {},
   "source": [
    "In the documentation, notice that there's an optional argument **distinct**. This means sort the table with unique values for the selected column. Below is an example of getting the data of players' salaries based on certain positions."
   ]
  },
  {
   "cell_type": "code",
   "execution_count": 11,
   "metadata": {},
   "outputs": [
    {
     "data": {
      "text/html": [
       "<table border=\"1\" class=\"dataframe\">\n",
       "    <thead>\n",
       "        <tr>\n",
       "            <th>PLAYER</th> <th>POSITION</th> <th>TEAM</th> <th>2015-2016 SALARY</th>\n",
       "        </tr>\n",
       "    </thead>\n",
       "    <tbody>\n",
       "        <tr>\n",
       "            <td>Dwight Howard</td> <td>C       </td> <td>Houston Rockets     </td> <td>22.3594         </td>\n",
       "        </tr>\n",
       "        <tr>\n",
       "            <td>Chris Bosh   </td> <td>PF      </td> <td>Miami Heat          </td> <td>22.1927         </td>\n",
       "        </tr>\n",
       "        <tr>\n",
       "            <td>Chris Paul   </td> <td>PG      </td> <td>Los Angeles Clippers</td> <td>21.4687         </td>\n",
       "        </tr>\n",
       "        <tr>\n",
       "            <td>Kobe Bryant  </td> <td>SF      </td> <td>Los Angeles Lakers  </td> <td>25              </td>\n",
       "        </tr>\n",
       "        <tr>\n",
       "            <td>Dwyane Wade  </td> <td>SG      </td> <td>Miami Heat          </td> <td>20              </td>\n",
       "        </tr>\n",
       "    </tbody>\n",
       "</table>"
      ],
      "text/plain": [
       "PLAYER        | POSITION | TEAM                 | 2015-2016 SALARY\n",
       "Dwight Howard | C        | Houston Rockets      | 22.3594\n",
       "Chris Bosh    | PF       | Miami Heat           | 22.1927\n",
       "Chris Paul    | PG       | Los Angeles Clippers | 21.4687\n",
       "Kobe Bryant   | SF       | Los Angeles Lakers   | 25\n",
       "Dwyane Wade   | SG       | Miami Heat           | 20"
      ]
     },
     "execution_count": 11,
     "metadata": {},
     "output_type": "execute_result"
    }
   ],
   "source": [
    "nba_salaries.sort('2015-2016 SALARY', descending = True).sort('POSITION', distinct = True)"
   ]
  },
  {
   "cell_type": "markdown",
   "metadata": {},
   "source": [
    "# List\n",
    "\n",
    "## List are Generic Sequences\n",
    "A list is a sequence of values (similar to array), but the values can be of different types.\n",
    "If you create a table column from a list, it will be converted to an array automatically."
   ]
  },
  {
   "cell_type": "code",
   "execution_count": 12,
   "metadata": {},
   "outputs": [
    {
     "data": {
      "text/plain": [
       "[2, 'three']"
      ]
     },
     "execution_count": 12,
     "metadata": {},
     "output_type": "execute_result"
    }
   ],
   "source": [
    "[2, 'three']"
   ]
  },
  {
   "cell_type": "code",
   "execution_count": 13,
   "metadata": {},
   "outputs": [
    {
     "data": {
      "text/plain": [
       "list"
      ]
     },
     "execution_count": 13,
     "metadata": {},
     "output_type": "execute_result"
    }
   ],
   "source": [
    "x = [2, 'three']\n",
    "type(x)"
   ]
  },
  {
   "cell_type": "markdown",
   "metadata": {},
   "source": [
    "Some useful application of list is adding a row of entry into a table. Here's an example of adding an entry to the **nba_salaries** table."
   ]
  },
  {
   "cell_type": "code",
   "execution_count": 14,
   "metadata": {},
   "outputs": [
    {
     "data": {
      "text/html": [
       "<table border=\"1\" class=\"dataframe\">\n",
       "    <thead>\n",
       "        <tr>\n",
       "            <th>PLAYER</th> <th>POSITION</th> <th>TEAM</th> <th>2015-2016 SALARY</th>\n",
       "        </tr>\n",
       "    </thead>\n",
       "    <tbody>\n",
       "        <tr>\n",
       "            <td>Snoop Dogg     </td> <td>PG      </td> <td>NBA All Stars      </td> <td>999             </td>\n",
       "        </tr>\n",
       "        <tr>\n",
       "            <td>Kobe Bryant    </td> <td>SF      </td> <td>Los Angeles Lakers </td> <td>25              </td>\n",
       "        </tr>\n",
       "        <tr>\n",
       "            <td>Joe Johnson    </td> <td>SF      </td> <td>Brooklyn Nets      </td> <td>24.8949         </td>\n",
       "        </tr>\n",
       "        <tr>\n",
       "            <td>LeBron James   </td> <td>SF      </td> <td>Cleveland Cavaliers</td> <td>22.9705         </td>\n",
       "        </tr>\n",
       "        <tr>\n",
       "            <td>Carmelo Anthony</td> <td>SF      </td> <td>New York Knicks    </td> <td>22.875          </td>\n",
       "        </tr>\n",
       "    </tbody>\n",
       "</table>\n",
       "<p>... (413 rows omitted)</p>"
      ],
      "text/plain": [
       "<IPython.core.display.HTML object>"
      ]
     },
     "metadata": {},
     "output_type": "display_data"
    }
   ],
   "source": [
    "row = ['Snoop Dogg', 'PG', 'NBA All Stars', 999]\n",
    "nba_salaries.with_row(row).sort('2015-2016 SALARY', descending=True).show(5)"
   ]
  },
  {
   "cell_type": "markdown",
   "metadata": {},
   "source": [
    "## Take Rows, Select Columns\n",
    "* **select** returns a table with only some columns\n",
    "* ** take** method returns a table with only some rows\n",
    "    * Rows are numbered, starting at 0\n",
    "    * Taking a single number returns a one-row table\n",
    "    * Taking a list of numbers returns a table as well"
   ]
  },
  {
   "cell_type": "code",
   "execution_count": 15,
   "metadata": {},
   "outputs": [
    {
     "data": {
      "text/html": [
       "<table border=\"1\" class=\"dataframe\">\n",
       "    <thead>\n",
       "        <tr>\n",
       "            <th>PLAYER</th> <th>POSITION</th> <th>TEAM</th> <th>2015-2016 SALARY</th>\n",
       "        </tr>\n",
       "    </thead>\n",
       "    <tbody>\n",
       "        <tr>\n",
       "            <td>Paul Millsap</td> <td>PF      </td> <td>Atlanta Hawks</td> <td>18.6717         </td>\n",
       "        </tr>\n",
       "    </tbody>\n",
       "</table>"
      ],
      "text/plain": [
       "PLAYER       | POSITION | TEAM          | 2015-2016 SALARY\n",
       "Paul Millsap | PF       | Atlanta Hawks | 18.6717"
      ]
     },
     "execution_count": 15,
     "metadata": {},
     "output_type": "execute_result"
    }
   ],
   "source": [
    "nba_salaries.take(0)"
   ]
  },
  {
   "cell_type": "code",
   "execution_count": 16,
   "metadata": {},
   "outputs": [
    {
     "data": {
      "text/html": [
       "<table border=\"1\" class=\"dataframe\">\n",
       "    <thead>\n",
       "        <tr>\n",
       "            <th>PLAYER</th> <th>POSITION</th> <th>TEAM</th> <th>2015-2016 SALARY</th>\n",
       "        </tr>\n",
       "    </thead>\n",
       "    <tbody>\n",
       "        <tr>\n",
       "            <td>Al Horford</td> <td>C       </td> <td>Atlanta Hawks</td> <td>12              </td>\n",
       "        </tr>\n",
       "    </tbody>\n",
       "</table>"
      ],
      "text/plain": [
       "PLAYER     | POSITION | TEAM          | 2015-2016 SALARY\n",
       "Al Horford | C        | Atlanta Hawks | 12"
      ]
     },
     "execution_count": 16,
     "metadata": {},
     "output_type": "execute_result"
    }
   ],
   "source": [
    "nba_salaries.take(1)"
   ]
  },
  {
   "cell_type": "code",
   "execution_count": 17,
   "metadata": {},
   "outputs": [
    {
     "data": {
      "text/html": [
       "<table border=\"1\" class=\"dataframe\">\n",
       "    <thead>\n",
       "        <tr>\n",
       "            <th>PLAYER</th> <th>POSITION</th> <th>TEAM</th> <th>2015-2016 SALARY</th>\n",
       "        </tr>\n",
       "    </thead>\n",
       "    <tbody>\n",
       "        <tr>\n",
       "            <td>Paul Millsap  </td> <td>PF      </td> <td>Atlanta Hawks</td> <td>18.6717         </td>\n",
       "        </tr>\n",
       "        <tr>\n",
       "            <td>Al Horford    </td> <td>C       </td> <td>Atlanta Hawks</td> <td>12              </td>\n",
       "        </tr>\n",
       "        <tr>\n",
       "            <td>Tiago Splitter</td> <td>C       </td> <td>Atlanta Hawks</td> <td>9.75625         </td>\n",
       "        </tr>\n",
       "    </tbody>\n",
       "</table>"
      ],
      "text/plain": [
       "PLAYER         | POSITION | TEAM          | 2015-2016 SALARY\n",
       "Paul Millsap   | PF       | Atlanta Hawks | 18.6717\n",
       "Al Horford     | C        | Atlanta Hawks | 12\n",
       "Tiago Splitter | C        | Atlanta Hawks | 9.75625"
      ]
     },
     "execution_count": 17,
     "metadata": {},
     "output_type": "execute_result"
    }
   ],
   "source": [
    "nba_salaries.take(make_array(0, 1, 2))"
   ]
  },
  {
   "cell_type": "code",
   "execution_count": 20,
   "metadata": {},
   "outputs": [
    {
     "data": {
      "text/html": [
       "<table border=\"1\" class=\"dataframe\">\n",
       "    <thead>\n",
       "        <tr>\n",
       "            <th>PLAYER</th> <th>POSITION</th> <th>TEAM</th> <th>2015-2016 SALARY</th>\n",
       "        </tr>\n",
       "    </thead>\n",
       "    <tbody>\n",
       "        <tr>\n",
       "            <td>Kobe Bryant </td> <td>SF      </td> <td>Los Angeles Lakers </td> <td>25              </td>\n",
       "        </tr>\n",
       "        <tr>\n",
       "            <td>Joe Johnson </td> <td>SF      </td> <td>Brooklyn Nets      </td> <td>24.8949         </td>\n",
       "        </tr>\n",
       "        <tr>\n",
       "            <td>LeBron James</td> <td>SF      </td> <td>Cleveland Cavaliers</td> <td>22.9705         </td>\n",
       "        </tr>\n",
       "    </tbody>\n",
       "</table>"
      ],
      "text/plain": [
       "PLAYER       | POSITION | TEAM                | 2015-2016 SALARY\n",
       "Kobe Bryant  | SF       | Los Angeles Lakers  | 25\n",
       "Joe Johnson  | SF       | Brooklyn Nets       | 24.8949\n",
       "LeBron James | SF       | Cleveland Cavaliers | 22.9705"
      ]
     },
     "execution_count": 20,
     "metadata": {},
     "output_type": "execute_result"
    }
   ],
   "source": [
    "import numpy as np\n",
    "# Assign 'nba_salaries' to the variable 'nba' so it's shorter\n",
    "nba = nba_salaries\n",
    "# Assign the '2015-2016 SALARY' string to the variable 'salary' so it's also shorter\n",
    "salary = \"2015-2016 SALARY\"\n",
    "# Sort the table by salary then take 3 of them. Then assign it to 'rich'\n",
    "rich = nba.sort(salary, descending = True).take(np.arange(3))\n",
    "rich"
   ]
  },
  {
   "cell_type": "code",
   "execution_count": 21,
   "metadata": {},
   "outputs": [
    {
     "data": {
      "text/html": [
       "<table border=\"1\" class=\"dataframe\">\n",
       "    <thead>\n",
       "        <tr>\n",
       "            <th>PLAYER</th> <th>POSITION</th> <th>TEAM</th> <th>2015-2016 SALARY</th>\n",
       "        </tr>\n",
       "    </thead>\n",
       "    <tbody>\n",
       "        <tr>\n",
       "            <td>LaMarcus Aldridge</td> <td>PF      </td> <td>San Antonio Spurs    </td> <td>19.689          </td>\n",
       "        </tr>\n",
       "        <tr>\n",
       "            <td>Kevin Love       </td> <td>PF      </td> <td>Cleveland Cavaliers  </td> <td>19.689          </td>\n",
       "        </tr>\n",
       "        <tr>\n",
       "            <td>Marc Gasol       </td> <td>C       </td> <td>Memphis Grizzlies    </td> <td>19.688          </td>\n",
       "        </tr>\n",
       "        <tr>\n",
       "            <td>Blake Griffin    </td> <td>PF      </td> <td>Los Angeles Clippers </td> <td>18.9077         </td>\n",
       "        </tr>\n",
       "        <tr>\n",
       "            <td>Paul Millsap     </td> <td>PF      </td> <td>Atlanta Hawks        </td> <td>18.6717         </td>\n",
       "        </tr>\n",
       "        <tr>\n",
       "            <td>Paul George      </td> <td>SF      </td> <td>Indiana Pacers       </td> <td>17.1201         </td>\n",
       "        </tr>\n",
       "        <tr>\n",
       "            <td>Russell Westbrook</td> <td>PG      </td> <td>Oklahoma City Thunder</td> <td>16.7442         </td>\n",
       "        </tr>\n",
       "        <tr>\n",
       "            <td>Kyrie Irving     </td> <td>PG      </td> <td>Cleveland Cavaliers  </td> <td>16.4075         </td>\n",
       "        </tr>\n",
       "        <tr>\n",
       "            <td>Kawhi Leonard    </td> <td>SF      </td> <td>San Antonio Spurs    </td> <td>16.4075         </td>\n",
       "        </tr>\n",
       "        <tr>\n",
       "            <td>Enes Kanter      </td> <td>C       </td> <td>Oklahoma City Thunder</td> <td>16.4075         </td>\n",
       "        </tr>\n",
       "    </tbody>\n",
       "</table>"
      ],
      "text/plain": [
       "PLAYER            | POSITION | TEAM                  | 2015-2016 SALARY\n",
       "LaMarcus Aldridge | PF       | San Antonio Spurs     | 19.689\n",
       "Kevin Love        | PF       | Cleveland Cavaliers   | 19.689\n",
       "Marc Gasol        | C        | Memphis Grizzlies     | 19.688\n",
       "Blake Griffin     | PF       | Los Angeles Clippers  | 18.9077\n",
       "Paul Millsap      | PF       | Atlanta Hawks         | 18.6717\n",
       "Paul George       | SF       | Indiana Pacers        | 17.1201\n",
       "Russell Westbrook | PG       | Oklahoma City Thunder | 16.7442\n",
       "Kyrie Irving      | PG       | Cleveland Cavaliers   | 16.4075\n",
       "Kawhi Leonard     | SF       | San Antonio Spurs     | 16.4075\n",
       "Enes Kanter       | C        | Oklahoma City Thunder | 16.4075"
      ]
     },
     "execution_count": 21,
     "metadata": {},
     "output_type": "execute_result"
    }
   ],
   "source": [
    "# Take the 10th to 19th richest player\n",
    "nba.sort(salary, descending = True).take(np.arange(10, 20))"
   ]
  },
  {
   "cell_type": "markdown",
   "metadata": {},
   "source": [
    "## Where Method\n",
    "* **where** method specifies a column and a condition\n",
    "* Returns a new table with all rows satisfying the condition"
   ]
  },
  {
   "cell_type": "code",
   "execution_count": 23,
   "metadata": {},
   "outputs": [
    {
     "data": {
      "text/html": [
       "<table border=\"1\" class=\"dataframe\">\n",
       "    <thead>\n",
       "        <tr>\n",
       "            <th>PLAYER</th> <th>POSITION</th> <th>TEAM</th> <th>2015-2016 SALARY</th>\n",
       "        </tr>\n",
       "    </thead>\n",
       "    <tbody>\n",
       "        <tr>\n",
       "            <td>Paul Millsap  </td> <td>PF      </td> <td>Atlanta Hawks    </td> <td>18.6717         </td>\n",
       "        </tr>\n",
       "        <tr>\n",
       "            <td>Al Horford    </td> <td>C       </td> <td>Atlanta Hawks    </td> <td>12              </td>\n",
       "        </tr>\n",
       "        <tr>\n",
       "            <td>Joe Johnson   </td> <td>SF      </td> <td>Brooklyn Nets    </td> <td>24.8949         </td>\n",
       "        </tr>\n",
       "        <tr>\n",
       "            <td>Thaddeus Young</td> <td>PF      </td> <td>Brooklyn Nets    </td> <td>11.236          </td>\n",
       "        </tr>\n",
       "        <tr>\n",
       "            <td>Al Jefferson  </td> <td>C       </td> <td>Charlotte Hornets</td> <td>13.5            </td>\n",
       "        </tr>\n",
       "        <tr>\n",
       "            <td>Nicolas Batum </td> <td>SG      </td> <td>Charlotte Hornets</td> <td>13.1253         </td>\n",
       "        </tr>\n",
       "        <tr>\n",
       "            <td>Kemba Walker  </td> <td>PG      </td> <td>Charlotte Hornets</td> <td>12              </td>\n",
       "        </tr>\n",
       "        <tr>\n",
       "            <td>Derrick Rose  </td> <td>PG      </td> <td>Chicago Bulls    </td> <td>20.0931         </td>\n",
       "        </tr>\n",
       "        <tr>\n",
       "            <td>Jimmy Butler  </td> <td>SG      </td> <td>Chicago Bulls    </td> <td>16.4075         </td>\n",
       "        </tr>\n",
       "        <tr>\n",
       "            <td>Joakim Noah   </td> <td>C       </td> <td>Chicago Bulls    </td> <td>13.4            </td>\n",
       "        </tr>\n",
       "    </tbody>\n",
       "</table>\n",
       "<p>... (59 rows omitted)</p>"
      ],
      "text/plain": [
       "PLAYER         | POSITION | TEAM              | 2015-2016 SALARY\n",
       "Paul Millsap   | PF       | Atlanta Hawks     | 18.6717\n",
       "Al Horford     | C        | Atlanta Hawks     | 12\n",
       "Joe Johnson    | SF       | Brooklyn Nets     | 24.8949\n",
       "Thaddeus Young | PF       | Brooklyn Nets     | 11.236\n",
       "Al Jefferson   | C        | Charlotte Hornets | 13.5\n",
       "Nicolas Batum  | SG       | Charlotte Hornets | 13.1253\n",
       "Kemba Walker   | PG       | Charlotte Hornets | 12\n",
       "Derrick Rose   | PG       | Chicago Bulls     | 20.0931\n",
       "Jimmy Butler   | SG       | Chicago Bulls     | 16.4075\n",
       "Joakim Noah    | C        | Chicago Bulls     | 13.4\n",
       "... (59 rows omitted)"
      ]
     },
     "execution_count": 23,
     "metadata": {},
     "output_type": "execute_result"
    }
   ],
   "source": [
    "# List all players whose salary are above 10\n",
    "above_10 = nba.where(salary, are.above(10))\n",
    "above_10"
   ]
  },
  {
   "cell_type": "code",
   "execution_count": 24,
   "metadata": {},
   "outputs": [
    {
     "data": {
      "text/html": [
       "<table border=\"1\" class=\"dataframe\">\n",
       "    <thead>\n",
       "        <tr>\n",
       "            <th>PLAYER</th> <th>POSITION</th> <th>TEAM</th> <th>2015-2016 SALARY</th>\n",
       "        </tr>\n",
       "    </thead>\n",
       "    <tbody>\n",
       "        <tr>\n",
       "            <td>DeMar DeRozan  </td> <td>SG      </td> <td>Toronto Raptors     </td> <td>10.05           </td>\n",
       "        </tr>\n",
       "        <tr>\n",
       "            <td>Gerald Wallace </td> <td>SF      </td> <td>Philadelphia 76ers  </td> <td>10.1059         </td>\n",
       "        </tr>\n",
       "        <tr>\n",
       "            <td>Luol Deng      </td> <td>SF      </td> <td>Miami Heat          </td> <td>10.1516         </td>\n",
       "        </tr>\n",
       "        <tr>\n",
       "            <td>Monta Ellis    </td> <td>SG      </td> <td>Indiana Pacers      </td> <td>10.3            </td>\n",
       "        </tr>\n",
       "        <tr>\n",
       "            <td>Wilson Chandler</td> <td>SF      </td> <td>Denver Nuggets      </td> <td>10.4494         </td>\n",
       "        </tr>\n",
       "        <tr>\n",
       "            <td>Brendan Haywood</td> <td>C       </td> <td>Cleveland Cavaliers </td> <td>10.5225         </td>\n",
       "        </tr>\n",
       "        <tr>\n",
       "            <td>Jrue Holiday   </td> <td>PG      </td> <td>New Orleans Pelicans</td> <td>10.5955         </td>\n",
       "        </tr>\n",
       "        <tr>\n",
       "            <td>Tyreke Evans   </td> <td>SG      </td> <td>New Orleans Pelicans</td> <td>10.7346         </td>\n",
       "        </tr>\n",
       "        <tr>\n",
       "            <td>Marcin Gortat  </td> <td>C       </td> <td>Washington Wizards  </td> <td>11.2174         </td>\n",
       "        </tr>\n",
       "        <tr>\n",
       "            <td>Thaddeus Young </td> <td>PF      </td> <td>Brooklyn Nets       </td> <td>11.236          </td>\n",
       "        </tr>\n",
       "    </tbody>\n",
       "</table>\n",
       "<p>... (59 rows omitted)</p>"
      ],
      "text/plain": [
       "PLAYER          | POSITION | TEAM                 | 2015-2016 SALARY\n",
       "DeMar DeRozan   | SG       | Toronto Raptors      | 10.05\n",
       "Gerald Wallace  | SF       | Philadelphia 76ers   | 10.1059\n",
       "Luol Deng       | SF       | Miami Heat           | 10.1516\n",
       "Monta Ellis     | SG       | Indiana Pacers       | 10.3\n",
       "Wilson Chandler | SF       | Denver Nuggets       | 10.4494\n",
       "Brendan Haywood | C        | Cleveland Cavaliers  | 10.5225\n",
       "Jrue Holiday    | PG       | New Orleans Pelicans | 10.5955\n",
       "Tyreke Evans    | SG       | New Orleans Pelicans | 10.7346\n",
       "Marcin Gortat   | C        | Washington Wizards   | 11.2174\n",
       "Thaddeus Young  | PF       | Brooklyn Nets        | 11.236\n",
       "... (59 rows omitted)"
      ]
     },
     "execution_count": 24,
     "metadata": {},
     "output_type": "execute_result"
    }
   ],
   "source": [
    "above_10.sort(salary)"
   ]
  },
  {
   "cell_type": "code",
   "execution_count": 25,
   "metadata": {},
   "outputs": [
    {
     "data": {
      "text/html": [
       "<table border=\"1\" class=\"dataframe\">\n",
       "    <thead>\n",
       "        <tr>\n",
       "            <th>PLAYER</th> <th>POSITION</th> <th>TEAM</th> <th>2015-2016 SALARY</th>\n",
       "        </tr>\n",
       "    </thead>\n",
       "    <tbody>\n",
       "        <tr>\n",
       "            <td>Klay Thompson    </td> <td>SG      </td> <td>Golden State Warriors</td> <td>15.501          </td>\n",
       "        </tr>\n",
       "        <tr>\n",
       "            <td>Draymond Green   </td> <td>PF      </td> <td>Golden State Warriors</td> <td>14.2609         </td>\n",
       "        </tr>\n",
       "        <tr>\n",
       "            <td>Andrew Bogut     </td> <td>C       </td> <td>Golden State Warriors</td> <td>13.8            </td>\n",
       "        </tr>\n",
       "        <tr>\n",
       "            <td>Andre Iguodala   </td> <td>SF      </td> <td>Golden State Warriors</td> <td>11.7105         </td>\n",
       "        </tr>\n",
       "        <tr>\n",
       "            <td>Stephen Curry    </td> <td>PG      </td> <td>Golden State Warriors</td> <td>11.3708         </td>\n",
       "        </tr>\n",
       "        <tr>\n",
       "            <td>Jason Thompson   </td> <td>PF      </td> <td>Golden State Warriors</td> <td>7.00847         </td>\n",
       "        </tr>\n",
       "        <tr>\n",
       "            <td>Shaun Livingston </td> <td>PG      </td> <td>Golden State Warriors</td> <td>5.54373         </td>\n",
       "        </tr>\n",
       "        <tr>\n",
       "            <td>Harrison Barnes  </td> <td>SF      </td> <td>Golden State Warriors</td> <td>3.8734          </td>\n",
       "        </tr>\n",
       "        <tr>\n",
       "            <td>Marreese Speights</td> <td>C       </td> <td>Golden State Warriors</td> <td>3.815           </td>\n",
       "        </tr>\n",
       "        <tr>\n",
       "            <td>Leandro Barbosa  </td> <td>SG      </td> <td>Golden State Warriors</td> <td>2.5             </td>\n",
       "        </tr>\n",
       "    </tbody>\n",
       "</table>\n",
       "<p>... (4 rows omitted)</p>"
      ],
      "text/plain": [
       "PLAYER            | POSITION | TEAM                  | 2015-2016 SALARY\n",
       "Klay Thompson     | SG       | Golden State Warriors | 15.501\n",
       "Draymond Green    | PF       | Golden State Warriors | 14.2609\n",
       "Andrew Bogut      | C        | Golden State Warriors | 13.8\n",
       "Andre Iguodala    | SF       | Golden State Warriors | 11.7105\n",
       "Stephen Curry     | PG       | Golden State Warriors | 11.3708\n",
       "Jason Thompson    | PF       | Golden State Warriors | 7.00847\n",
       "Shaun Livingston  | PG       | Golden State Warriors | 5.54373\n",
       "Harrison Barnes   | SF       | Golden State Warriors | 3.8734\n",
       "Marreese Speights | C        | Golden State Warriors | 3.815\n",
       "Leandro Barbosa   | SG       | Golden State Warriors | 2.5\n",
       "... (4 rows omitted)"
      ]
     },
     "execution_count": 25,
     "metadata": {},
     "output_type": "execute_result"
    }
   ],
   "source": [
    "# Pick all the players based on a certain team\n",
    "team = \"TEAM\"\n",
    "choice = \"Golden State Warriors\"\n",
    "nba.where(team, are.equal_to(choice))"
   ]
  },
  {
   "cell_type": "code",
   "execution_count": 26,
   "metadata": {},
   "outputs": [
    {
     "data": {
      "text/html": [
       "<table border=\"1\" class=\"dataframe\">\n",
       "    <thead>\n",
       "        <tr>\n",
       "            <th>PLAYER</th> <th>POSITION</th> <th>TEAM</th> <th>2015-2016 SALARY</th>\n",
       "        </tr>\n",
       "    </thead>\n",
       "    <tbody>\n",
       "        <tr>\n",
       "            <td>Stephen Curry</td> <td>PG      </td> <td>Golden State Warriors</td> <td>11.3708         </td>\n",
       "        </tr>\n",
       "    </tbody>\n",
       "</table>"
      ],
      "text/plain": [
       "PLAYER        | POSITION | TEAM                  | 2015-2016 SALARY\n",
       "Stephen Curry | PG       | Golden State Warriors | 11.3708"
      ]
     },
     "execution_count": 26,
     "metadata": {},
     "output_type": "execute_result"
    }
   ],
   "source": [
    "# Find a player whose name contains the word 'Curry'\n",
    "contain = \"Curry\"\n",
    "nba.where(\"PLAYER\", are.containing(contain))"
   ]
  },
  {
   "cell_type": "code",
   "execution_count": 27,
   "metadata": {},
   "outputs": [
    {
     "data": {
      "text/html": [
       "<table border=\"1\" class=\"dataframe\">\n",
       "    <thead>\n",
       "        <tr>\n",
       "            <th>PLAYER</th> <th>POSITION</th> <th>TEAM</th> <th>2015-2016 SALARY</th>\n",
       "        </tr>\n",
       "    </thead>\n",
       "    <tbody>\n",
       "        <tr>\n",
       "            <td>Thaddeus Young</td> <td>PF      </td> <td>Brooklyn Nets        </td> <td>11.236          </td>\n",
       "        </tr>\n",
       "        <tr>\n",
       "            <td>Kenneth Faried</td> <td>PF      </td> <td>Denver Nuggets       </td> <td>11.236          </td>\n",
       "        </tr>\n",
       "        <tr>\n",
       "            <td>Andre Iguodala</td> <td>SF      </td> <td>Golden State Warriors</td> <td>11.7105         </td>\n",
       "        </tr>\n",
       "        <tr>\n",
       "            <td>Stephen Curry </td> <td>PG      </td> <td>Golden State Warriors</td> <td>11.3708         </td>\n",
       "        </tr>\n",
       "        <tr>\n",
       "            <td>Nikola Vucevic</td> <td>C       </td> <td>Orlando Magic        </td> <td>11.25           </td>\n",
       "        </tr>\n",
       "        <tr>\n",
       "            <td>Marcin Gortat </td> <td>C       </td> <td>Washington Wizards   </td> <td>11.2174         </td>\n",
       "        </tr>\n",
       "    </tbody>\n",
       "</table>"
      ],
      "text/plain": [
       "PLAYER         | POSITION | TEAM                  | 2015-2016 SALARY\n",
       "Thaddeus Young | PF       | Brooklyn Nets         | 11.236\n",
       "Kenneth Faried | PF       | Denver Nuggets        | 11.236\n",
       "Andre Iguodala | SF       | Golden State Warriors | 11.7105\n",
       "Stephen Curry  | PG       | Golden State Warriors | 11.3708\n",
       "Nikola Vucevic | C        | Orlando Magic         | 11.25\n",
       "Marcin Gortat  | C        | Washington Wizards    | 11.2174"
      ]
     },
     "execution_count": 27,
     "metadata": {},
     "output_type": "execute_result"
    }
   ],
   "source": [
    "# Find a player whose salary between 11 to 12\n",
    "nba.where(salary, are.between(11,12))"
   ]
  },
  {
   "cell_type": "markdown",
   "metadata": {},
   "source": [
    "See [documentation](https://www.inferentialthinking.com/chapters/06/2/Selecting_Rows) for more methods within **are**."
   ]
  },
  {
   "cell_type": "markdown",
   "metadata": {},
   "source": [
    "## Recap: Manipulating Rows\n",
    "* **t.sort(column)** sorts the rows in increasing order\n",
    "* **t.take(row_numbers)** keeps the numbered rows\n",
    "    * Each **row** has an index, starting at 0\n",
    "* **t.where(column, are.condition)** keeps all rows for which a column's value satisfies a condition\n",
    "* **t.where(column, value)** keeps all rows containing a certain value in a column"
   ]
  }
 ],
 "metadata": {
  "kernelspec": {
   "display_name": "Python 3",
   "language": "python",
   "name": "python3"
  },
  "language_info": {
   "codemirror_mode": {
    "name": "ipython",
    "version": 3
   },
   "file_extension": ".py",
   "mimetype": "text/x-python",
   "name": "python",
   "nbconvert_exporter": "python",
   "pygments_lexer": "ipython3",
   "version": "3.7.0"
  }
 },
 "nbformat": 4,
 "nbformat_minor": 1
}
