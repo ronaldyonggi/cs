{
 "cells": [
  {
   "cell_type": "code",
   "execution_count": 1,
   "metadata": {},
   "outputs": [],
   "source": [
    "from datascience import *\n",
    "import numpy as np\n",
    "\n",
    "%matplotlib inline\n",
    "import matplotlib.pyplot as plots\n",
    "plots.style.use('fivethirtyeight')\n",
    "\n",
    "from ipywidgets import interact, interactive, fixed, interact_manual\n",
    "import ipywidgets as widgets"
   ]
  },
  {
   "cell_type": "markdown",
   "metadata": {},
   "source": [
    "**Reader Notes: Due to flawed video lecture, this lecture is based on powerpoint slides and the associated readings**"
   ]
  },
  {
   "cell_type": "markdown",
   "metadata": {},
   "source": [
    "# Randomness\n",
    "Data scientists need to understand randomness. For example, they have to be able to assign individuals to treatment and control groups at random, and then try to say whether any observed differences in the outcomes of the two groups are simply due to the random assignment or genuinely due to the treatment.\n",
    "\n",
    "In this chapter, we begin our analysis of randomness. To start off, we will use Python to make choices at random. In `numpy` there is a sub-module called `random` that contains many functions that involve random selection. One of these functions is called `choice`. It picks one item at random from an array, and it is equally likely to pick any of the items. The function call is `np.random.choice(array_name)`, where `array_name` is the name of the array from which to make the choice.\n",
    "\n",
    "Thus the following code evaluates to treatment with chance 50%, and control with chance 50% (If you run the code repeatedly, it will eventually give the other output)"
   ]
  },
  {
   "cell_type": "code",
   "execution_count": 5,
   "metadata": {},
   "outputs": [
    {
     "data": {
      "text/plain": [
       "'treatment'"
      ]
     },
     "execution_count": 5,
     "metadata": {},
     "output_type": "execute_result"
    }
   ],
   "source": [
    "two_groups = make_array('treatment', 'control')\n",
    "np.random.choice(two_groups)"
   ]
  },
  {
   "cell_type": "markdown",
   "metadata": {},
   "source": [
    "The big difference between the code above and all the other code we have run thus far is that the code above doesn’t always return the same value. It can return either **treatment** or **control**, and we don’t know ahead of time which one it will pick. We can repeat the process by providing a second argument, the number of times to repeat the process."
   ]
  },
  {
   "cell_type": "code",
   "execution_count": 6,
   "metadata": {},
   "outputs": [
    {
     "data": {
      "text/plain": [
       "array(['treatment', 'treatment', 'control', 'control', 'treatment',\n",
       "       'control', 'treatment', 'control', 'treatment', 'control'],\n",
       "      dtype='<U9')"
      ]
     },
     "execution_count": 6,
     "metadata": {},
     "output_type": "execute_result"
    }
   ],
   "source": [
    "np.random.choice(two_groups, 10)"
   ]
  },
  {
   "cell_type": "markdown",
   "metadata": {},
   "source": [
    "## Random Selection \n",
    "`np.random.choice`\n",
    "* Selects at random\n",
    "* With replacement\n",
    "* From an array\n",
    "* A specified number of times\n",
    "\n",
    "`np.random.choice(some_array, sample_size)`"
   ]
  },
  {
   "cell_type": "markdown",
   "metadata": {},
   "source": [
    "A fundamental question about random events is whether or not they occur. For example:\n",
    "\n",
    "* Did an individual get assigned to the treatment group?\n",
    "* Is a gambler going to win money?\n",
    "* Has a poll made an accurate prediction?\n",
    "\n",
    "Once the event has occurred, you can answer “yes” or “no” to all these questions. In programming, it is conventional to do this by labeling statements as `True` or `False`. For example:\n",
    "* If an individual did get assigned to the treatment group, then the statement, “The individual was assigned to the treatment group” would be `True`. \n",
    "* If not, it would be `False`."
   ]
  },
  {
   "cell_type": "markdown",
   "metadata": {},
   "source": [
    "## Discussion Question"
   ]
  },
  {
   "cell_type": "code",
   "execution_count": 3,
   "metadata": {},
   "outputs": [],
   "source": [
    "d = np.arange(6) + 1"
   ]
  },
  {
   "cell_type": "markdown",
   "metadata": {},
   "source": [
    "What are the results from evaluating the following 2 expressions? Are they the same? Do they describe the same process?"
   ]
  },
  {
   "cell_type": "code",
   "execution_count": 4,
   "metadata": {},
   "outputs": [
    {
     "data": {
      "text/plain": [
       "array([ 3,  2,  6,  8,  6,  8,  3,  5,  8,  4,  8,  4,  6,  7,  5,  9,  8,\n",
       "        7,  8,  3,  8,  6, 10,  3,  9,  7,  8,  7,  6,  7, 10, 11,  3, 10,\n",
       "        6,  7,  6,  7,  8, 10,  5,  3,  9,  8,  8,  8,  8,  5,  3, 12, 11,\n",
       "        8,  5,  3,  7,  4,  8,  9, 10, 11,  7,  8, 10,  9,  4, 12,  6,  9,\n",
       "       11,  8,  7,  9,  6,  9, 11,  5,  7, 11, 11,  7,  7,  9,  6,  5,  2,\n",
       "        7,  7,  4,  7,  7,  2, 11,  5,  4,  6, 10,  6,  7,  5,  6, 10,  6,\n",
       "        7, 12,  4,  4,  7,  2,  9,  7,  9,  8,  6,  6,  6,  4,  7,  7,  9,\n",
       "        6,  7,  6,  6,  4,  8,  2,  6,  6,  7,  8,  3, 12,  9,  3,  5,  4,\n",
       "       10,  7,  7,  4,  7,  5,  8,  7,  7,  5, 11,  6,  8,  6,  3,  6,  6,\n",
       "        4,  5,  7,  9,  9,  3, 10,  6,  2,  5,  3,  4,  5,  7,  9,  7,  6,\n",
       "        7,  7,  6, 10,  7,  8,  8,  5,  5,  5,  2,  9,  8,  8, 11,  7,  9,\n",
       "        5,  6,  8,  9,  8,  4, 11,  8, 11,  5,  7,  8, 10, 10,  9,  7,  3,\n",
       "        4, 10,  7, 10,  8,  8,  5,  7, 12,  7,  5, 11,  5, 10, 11,  4,  4,\n",
       "        4,  7,  4, 12,  7,  5,  8,  8,  4,  6,  3,  7,  6,  5,  3,  5,  8,\n",
       "        8,  6,  6,  9, 10,  4,  3,  7,  5,  6,  4,  8,  4,  6,  6,  5,  8,\n",
       "        6,  7,  7,  6,  8,  8,  8,  3,  5,  8,  8,  5,  5,  6, 10,  8,  9,\n",
       "        8,  4,  7,  9,  5,  4,  5,  6,  3,  8,  8,  8,  9,  7,  8, 11,  6,\n",
       "        7,  7,  7,  8,  5,  3,  6,  5,  8,  5, 10,  5,  9,  3, 10,  3, 12,\n",
       "        5,  7,  6, 12,  8,  4,  7,  8,  9,  5,  8,  5,  8,  2,  7,  5,  8,\n",
       "        7,  2,  8, 11, 10,  8,  5,  8,  8,  6, 12,  9,  2,  7,  6,  9,  8,\n",
       "        8,  7,  3,  3,  8,  3, 10,  5,  4, 11,  8,  5,  5,  2,  9,  5,  3,\n",
       "        4,  9,  5,  4, 11,  9,  8,  5,  8,  8, 10,  6,  7,  8,  4,  9,  5,\n",
       "        4,  8,  7,  6,  5,  8,  9,  4,  3,  7,  8,  9,  8,  8,  6, 11,  5,\n",
       "        5,  5,  7, 10,  4,  4,  8, 12,  6, 10,  8,  6,  7,  8,  6, 10,  4,\n",
       "        4,  7,  7,  3,  7,  3,  9,  9,  9,  9,  9,  2,  8,  5,  9, 10, 12,\n",
       "        4,  5,  8,  8,  8, 11,  8,  5,  7,  6,  8,  7,  8,  8,  7, 10,  7,\n",
       "        5,  4,  4,  8,  7,  6,  8,  4,  7, 11,  6,  8,  9,  9, 11,  5,  5,\n",
       "        9,  8, 10,  9,  9,  6,  4, 11,  7,  9,  4, 12, 10,  4,  7,  7,  4,\n",
       "       10, 11,  9,  9,  8,  7,  7,  5,  5,  6,  9,  7,  2,  5,  7,  8,  8,\n",
       "        6, 11,  8, 10,  6,  8, 11,  3,  8,  5,  8,  7,  7,  2,  4,  8,  6,\n",
       "        5,  8,  7,  7,  7,  6, 11,  7,  3,  7,  5,  8,  5,  7,  9,  9, 12,\n",
       "        7,  6,  9,  6,  8,  9,  6,  9,  8,  3,  9,  9,  8,  8, 11,  8,  5,\n",
       "        6, 12, 11,  6,  8,  4,  6,  5,  8, 11,  8,  9,  9,  4,  8,  7,  6,\n",
       "       12,  5,  9,  5,  8,  8,  6,  2, 10, 10,  5,  5,  7,  6, 11,  5,  7,\n",
       "       10,  7,  9,  8,  9,  5,  7, 10,  8,  4, 10,  9,  8,  5,  9,  4,  8,\n",
       "        9,  9, 10,  9,  6, 10, 12,  2,  2,  8,  8, 10, 11,  5,  5,  4, 10,\n",
       "        5, 11,  5,  6,  8,  7,  8,  3, 10,  8, 12,  6,  4,  7, 11,  9, 10,\n",
       "        5,  5,  8,  5,  4,  6, 12,  7,  9,  6,  5,  6,  8,  3,  8,  8, 10,\n",
       "        2, 10,  7,  8,  5,  7,  8,  8,  9,  6,  5, 11, 10, 10,  8,  3, 11,\n",
       "        6,  9,  6,  4, 10,  8, 10,  6,  3,  4,  5,  9,  4,  3,  8,  9,  6,\n",
       "       10,  3,  6, 10,  5,  7,  6,  8,  5,  6, 10,  3,  8,  8,  7,  3,  8,\n",
       "        6,  7,  7,  9, 11,  5,  2,  8,  4,  6,  6,  9,  3,  8,  7,  4,  6,\n",
       "       11,  4,  7,  4, 10,  4,  9,  7,  3,  5,  8,  8,  7,  8, 11, 11,  5,\n",
       "        6,  8,  4,  8,  4,  9,  6,  7,  3,  8,  7,  9,  6,  6,  5, 10, 10,\n",
       "        4,  5,  8,  8,  9,  5,  6, 10, 11,  7,  7,  4, 10,  2,  2, 10, 11,\n",
       "        8, 11,  7, 10,  9,  3,  9, 10,  7,  8, 11, 12,  7,  3,  5,  9, 10,\n",
       "        9,  6,  5,  7,  7,  8, 10, 10,  6,  5, 12,  4,  5,  7,  8,  8,  7,\n",
       "        7,  4,  8,  4,  8,  4,  8, 12,  9,  5,  5,  3,  9,  9,  5,  7, 10,\n",
       "        9, 11,  7, 11,  8,  9,  7,  6,  8,  7,  6, 12,  6,  2, 12,  8,  8,\n",
       "        3,  7,  9,  9, 12,  5,  4,  3,  8,  5,  7,  7,  9,  5,  4,  3,  4,\n",
       "        9,  7,  5, 11,  5,  7,  9,  7,  8,  4,  3, 12,  6,  5,  7,  9, 11,\n",
       "        2,  7, 11,  7,  7,  7,  5,  7,  6,  6,  8,  8,  6,  7,  8,  7,  2,\n",
       "       11,  8,  5, 10,  6,  6,  5,  7,  6,  3,  6,  3,  8,  6,  6,  7,  6,\n",
       "        5,  7, 12,  2, 10,  3,  8,  5,  7,  6,  9,  5, 11,  5,  7, 10,  5,\n",
       "        8,  8,  8,  7,  9,  5,  4,  6,  7,  7,  2,  8, 10,  7,  9,  4,  7,\n",
       "        7,  5,  3,  6,  5,  6,  6,  8,  6,  3,  7,  5, 11,  6,  7,  7, 10,\n",
       "        8,  6,  9,  5,  8, 10,  9,  4,  4,  7,  4,  5, 11,  7, 11,  7, 10,\n",
       "        8,  9,  5,  3,  7,  5, 11,  7,  6,  4,  4, 10,  6,  7, 10,  5,  9,\n",
       "        9,  9,  2,  6,  9,  5,  7,  8,  6,  6, 11,  2,  7,  5])"
      ]
     },
     "execution_count": 4,
     "metadata": {},
     "output_type": "execute_result"
    }
   ],
   "source": [
    "#1st expression\n",
    "np.random.choice(d, 1000) + np.random.choice(d, 1000)"
   ]
  },
  {
   "cell_type": "code",
   "execution_count": 5,
   "metadata": {},
   "outputs": [
    {
     "data": {
      "text/plain": [
       "array([ 6,  6,  2,  2, 10,  2,  6,  4,  2,  8, 12, 12, 12,  2,  8,  8, 10,\n",
       "        4,  6,  4,  4,  6,  6, 10,  8,  4,  2,  6,  6,  4,  6,  2, 10, 10,\n",
       "       12, 10, 10, 12,  8,  6, 10,  8,  8, 12,  6,  4, 12, 10,  8, 10,  2,\n",
       "       10, 10, 10,  6,  6,  6,  6, 12, 12, 10,  4,  8,  2,  8, 12, 12,  2,\n",
       "        4, 10,  6,  8, 12, 12,  4,  8, 12,  6, 12, 10,  6,  8,  4,  8,  4,\n",
       "        6, 10,  2,  4, 12, 12,  6,  6,  6,  8, 12,  2,  4,  8,  8,  2,  2,\n",
       "        2, 12, 12,  2,  4,  8,  2,  2,  8,  8, 12, 10,  2,  6,  2, 12,  2,\n",
       "       12, 12,  2,  6,  4,  4,  4,  8,  6,  8, 12,  2, 10,  4,  8,  4, 10,\n",
       "        8,  2, 10,  8,  4, 12, 10,  4,  4, 12,  2,  6,  2,  4, 12,  4,  8,\n",
       "        8, 10,  6,  2,  4,  2,  6, 10,  8,  8,  6,  4,  2,  8,  6, 12, 10,\n",
       "        8,  2, 10, 10, 10,  6, 10, 10,  4,  6,  4, 10, 10,  6, 12,  8,  2,\n",
       "       10,  8, 12,  2,  2,  2, 12,  6,  4, 12,  4,  4,  6,  4, 12, 10, 12,\n",
       "       12, 12,  6,  2,  6, 10, 12,  4,  8, 10,  4, 12,  8, 12,  4,  4,  2,\n",
       "        2,  6, 12,  8,  4,  4,  8, 12,  2,  8,  4,  8,  4,  4, 10, 12,  4,\n",
       "       10,  2,  2, 10,  2,  8, 10,  8,  2, 10,  2,  6,  6,  4,  8,  4,  8,\n",
       "        8,  8,  2,  4,  2,  6,  8, 10, 12,  8,  4,  2,  2, 12, 10,  6,  6,\n",
       "        4,  6,  8,  6, 12,  2,  4,  2,  6,  6,  6,  4, 12,  8,  2, 12, 12,\n",
       "        2,  2,  4,  6, 12, 12, 12,  6, 10,  4,  2,  8, 10,  6, 10, 12,  4,\n",
       "       10,  4, 12,  2,  2,  8,  2,  2,  4,  8,  8,  4,  6,  8,  6,  8,  2,\n",
       "        4,  4,  6,  2,  8, 10,  8, 12, 12, 12,  6,  8, 10,  8,  4, 10, 10,\n",
       "       12,  8, 10, 12,  2,  8,  2, 12, 10, 10,  4,  2, 10,  4,  8,  4, 10,\n",
       "        4,  2, 12, 10,  8,  8,  2,  6,  8,  6,  2,  2,  4,  8,  4,  2,  2,\n",
       "        6,  4, 10,  8,  2, 10,  8,  8, 10,  6, 10,  6, 10, 10,  2,  2, 10,\n",
       "        6,  2,  8,  2,  6,  4,  6,  4,  4, 12,  4,  6,  4, 10,  4,  6,  2,\n",
       "       12,  2, 10,  4,  4, 12, 10,  8, 10,  4,  6,  2,  4,  6, 10,  2, 10,\n",
       "        4, 12,  8,  8,  8, 12,  8,  8,  2,  4,  6, 12,  4,  2,  2, 12,  4,\n",
       "        2,  6, 10, 10,  6,  6,  8, 12,  6,  2,  6, 10, 12,  8, 12, 12,  4,\n",
       "       12,  2,  8,  4, 10,  4,  6,  8,  2, 12,  8,  8,  8,  6,  8,  8, 10,\n",
       "       10,  2,  8,  6,  4,  8,  8,  2,  4,  6,  4, 10,  2,  2, 12, 10, 10,\n",
       "        4,  6, 10,  8, 12,  4,  6,  2, 10,  8, 12,  6,  4,  4, 12,  2,  6,\n",
       "       12, 10,  8,  2, 12, 12, 12, 12,  6, 12,  8, 12, 10,  2,  2, 10, 10,\n",
       "        4,  8, 10,  2,  2,  8,  2,  2,  4,  8,  2,  4, 12,  4,  4,  8,  8,\n",
       "        8,  2, 12, 10,  2,  2,  8, 12, 10,  6,  8,  4,  4,  8, 10,  6,  2,\n",
       "        2,  6, 12,  8,  4,  2,  8,  2,  2,  8, 12,  4,  4, 12,  8,  4, 10,\n",
       "        4,  8, 12,  8, 12,  4,  6, 12,  8,  6, 10,  2,  2,  2,  6,  4, 10,\n",
       "        4,  2,  2,  4,  8,  6,  8, 10, 12,  2,  8,  2,  8,  8,  8,  2, 12,\n",
       "       10, 10, 10, 10, 12, 12,  2,  2,  2, 10,  6, 12, 12, 12,  4,  2,  6,\n",
       "       12,  2,  8,  4,  8,  8,  8, 10,  4,  4,  2, 12, 12,  4,  6,  2, 10,\n",
       "        2, 10,  8, 10,  6, 10, 12, 12,  4,  8,  6,  2,  2,  4,  2, 12,  2,\n",
       "        4, 12,  8,  4,  2,  8,  4,  6,  2, 10,  8,  8, 12,  8,  4,  8, 12,\n",
       "       12,  6,  4, 12, 12, 10,  4, 12, 12,  4, 10, 12, 10,  2,  8,  4, 10,\n",
       "        8, 12, 12,  4,  8,  2,  2,  2,  2,  2,  4, 10, 12, 10,  4,  2,  6,\n",
       "        8,  8,  6,  4, 10,  8, 12,  6,  6,  8,  8,  6, 12, 10,  2, 12,  4,\n",
       "       12,  4, 12,  2,  2,  2,  2,  8,  6,  8, 10,  2, 12, 10, 12,  6,  8,\n",
       "       12,  8,  6,  4, 10,  6,  2,  4,  8,  8, 10, 10,  2, 12, 12, 10, 10,\n",
       "        4,  8,  8,  8, 10, 12,  4,  4,  8,  2,  4, 12, 12, 12, 10,  2, 12,\n",
       "        4,  2, 12,  6, 10,  2,  6,  6, 12,  6,  2,  2, 12, 10, 10, 10, 12,\n",
       "        2,  4,  8,  2,  2, 12, 10, 12,  2,  8, 10,  6, 10,  2,  6,  8,  2,\n",
       "        4,  2,  6,  8,  2,  6, 10,  4,  6, 12,  4, 10,  2,  4,  2,  2, 12,\n",
       "        4, 12,  2, 10,  4,  8,  4,  4,  2,  4,  8,  4,  2,  6,  4,  6,  8,\n",
       "       10,  6,  6,  8,  6,  2, 12,  4,  4, 12, 12,  8,  6, 10, 10, 10, 10,\n",
       "        4,  2, 12,  8, 10, 10,  6, 12, 12,  4,  2,  4, 10,  4, 10,  6,  4,\n",
       "        4, 12, 10,  4,  8, 10,  4, 10,  2, 10, 12,  4,  6,  2, 10,  8,  8,\n",
       "       10,  4,  8,  4, 12,  2, 12,  6, 12,  8,  6,  4,  4,  6, 10,  8,  2,\n",
       "        4, 10, 12,  6,  2,  8, 10, 12, 10, 10,  4,  2, 10, 10, 12, 12,  6,\n",
       "       12,  6,  2,  2, 10,  6, 12,  6,  4,  2, 12, 10,  4, 12, 10,  8,  4,\n",
       "        4, 10,  4, 10, 10,  6, 12,  6,  6, 12, 12, 10, 12,  6, 10,  2,  2,\n",
       "       12,  2, 10, 10,  4, 12, 12, 12, 12, 10,  8,  6,  8,  6,  6,  4,  2,\n",
       "       10, 12,  4,  6, 12,  2,  8,  6,  2,  6,  8,  8, 12, 12])"
      ]
     },
     "execution_count": 5,
     "metadata": {},
     "output_type": "execute_result"
    }
   ],
   "source": [
    "#2nd expression\n",
    "2*np.random.choice(d, 1000)"
   ]
  },
  {
   "cell_type": "markdown",
   "metadata": {},
   "source": [
    "## Boolean and Comparison\n",
    "**The result of a comparison expression is a bool value**\n",
    "<img src = 'comparison.jpg' width = 500/>\n",
    "\n",
    "In Python, Boolean values, named for the logician George Boole, represent truth and take only two possible values: `True` and `False`. Whether problems involve randomness or not, Boolean values most often arise from comparison operators. Python includes a variety of operators that compare values. For example, `3` is larger than `1 + 1`."
   ]
  },
  {
   "cell_type": "code",
   "execution_count": null,
   "metadata": {},
   "outputs": [],
   "source": [
    "3 > 1 + 1"
   ]
  },
  {
   "cell_type": "markdown",
   "metadata": {},
   "source": [
    "The value `True` indicates that the comparison is correct. The full set of common comparison operators are listed below.\n",
    "\n",
    "| Comparison | Operator | True Example | False Example |\n",
    "| --- | --- | --- | ---|\n",
    "| Less than | < | 2 < 3 | 2 < 2|\n",
    "| Greater than | > | 3 > 2 | 3 > 3|\n",
    "| Less than or equal | <= | 2 <= 2 | 3 <= 2 |\n",
    "| Equal | == | 3 == 3 | 2 == 3 |\n",
    "| Not Equal | != | 3 != 3 | 2 != 3 |"
   ]
  },
  {
   "cell_type": "markdown",
   "metadata": {},
   "source": [
    "Notice the two equal signs `==` in the comparison to determine **equality**. Python already uses `=` to mean assignment to a name; it can’t use the same symbol for a different purpose. Thus if you want to check whether `5` is equal to the `10/2`, then you have to be careful: `5 = 10/2` returns an error message because Python assumes you are trying to assign the value of the expression 10/2 to a name that is the numeral 5. Instead, you must use `5 == 10/2`, which evaluates to `True`."
   ]
  },
  {
   "cell_type": "code",
   "execution_count": 7,
   "metadata": {},
   "outputs": [
    {
     "ename": "SyntaxError",
     "evalue": "can't assign to literal (<ipython-input-7-e8c755f5e450>, line 1)",
     "output_type": "error",
     "traceback": [
      "\u001b[1;36m  File \u001b[1;32m\"<ipython-input-7-e8c755f5e450>\"\u001b[1;36m, line \u001b[1;32m1\u001b[0m\n\u001b[1;33m    5 = 10/2\u001b[0m\n\u001b[1;37m            ^\u001b[0m\n\u001b[1;31mSyntaxError\u001b[0m\u001b[1;31m:\u001b[0m can't assign to literal\n"
     ]
    }
   ],
   "source": [
    "5 = 10/2"
   ]
  },
  {
   "cell_type": "code",
   "execution_count": 8,
   "metadata": {},
   "outputs": [
    {
     "data": {
      "text/plain": [
       "True"
      ]
     },
     "execution_count": 8,
     "metadata": {},
     "output_type": "execute_result"
    }
   ],
   "source": [
    "5 == 10/2"
   ]
  },
  {
   "cell_type": "markdown",
   "metadata": {},
   "source": [
    "An expression can contain multiple comparisons, and they all must hold in order for the whole expression to be True. For example, we can express that 1+1 is between 1 and 3 using the following expression."
   ]
  },
  {
   "cell_type": "code",
   "execution_count": 9,
   "metadata": {},
   "outputs": [
    {
     "data": {
      "text/plain": [
       "True"
      ]
     },
     "execution_count": 9,
     "metadata": {},
     "output_type": "execute_result"
    }
   ],
   "source": [
    "1 < 1 + 1 < 3"
   ]
  },
  {
   "cell_type": "markdown",
   "metadata": {},
   "source": [
    "The average of two numbers is always between the smaller number and the larger number. We express this relationship for the numbers `x` and `y` below. You can try different values of `x` and `y` to confirm this relationship."
   ]
  },
  {
   "cell_type": "code",
   "execution_count": 10,
   "metadata": {},
   "outputs": [
    {
     "data": {
      "text/plain": [
       "True"
      ]
     },
     "execution_count": 10,
     "metadata": {},
     "output_type": "execute_result"
    }
   ],
   "source": [
    "x = 12\n",
    "y = 5\n",
    "min(x, y) <= (x+y)/2 <= max(x, y)"
   ]
  },
  {
   "cell_type": "markdown",
   "metadata": {},
   "source": [
    "### String Comparison\n",
    "Strings can also be compared, and their order is alphabetical."
   ]
  },
  {
   "cell_type": "code",
   "execution_count": 11,
   "metadata": {},
   "outputs": [
    {
     "data": {
      "text/plain": [
       "True"
      ]
     },
     "execution_count": 11,
     "metadata": {},
     "output_type": "execute_result"
    }
   ],
   "source": [
    "'Dog' > 'Catastrophe'"
   ]
  },
  {
   "cell_type": "markdown",
   "metadata": {},
   "source": [
    "A shorter string is less than a longer string that begins with the shorter string."
   ]
  },
  {
   "cell_type": "code",
   "execution_count": 12,
   "metadata": {},
   "outputs": [
    {
     "data": {
      "text/plain": [
       "True"
      ]
     },
     "execution_count": 12,
     "metadata": {},
     "output_type": "execute_result"
    }
   ],
   "source": [
    "'Catastrophe' > 'Cat'"
   ]
  },
  {
   "cell_type": "markdown",
   "metadata": {},
   "source": [
    "Let’s return to random selection. Recall the array `two_groups` which consists of just two elements, `treatment` and `control`. To see whether a randomly assigned individual went to the treatment group, you can use a comparison:"
   ]
  },
  {
   "cell_type": "code",
   "execution_count": 13,
   "metadata": {},
   "outputs": [
    {
     "data": {
      "text/plain": [
       "False"
      ]
     },
     "execution_count": 13,
     "metadata": {},
     "output_type": "execute_result"
    }
   ],
   "source": [
    "np.random.choice(two_groups) == 'treatment'"
   ]
  },
  {
   "cell_type": "markdown",
   "metadata": {},
   "source": [
    "The random choice will not always be the same, so the result of the comparison won’t always be the same either. It will depend on whether treatment or control was chosen. With any cell that involves random selection, it is a good idea to run the cell several times to get a sense of the variability in the result."
   ]
  },
  {
   "cell_type": "markdown",
   "metadata": {},
   "source": [
    "### Comparing an Array and a Value\n",
    "Recall that we can perform arithmetic operations on many numbers in an array at once. For example, `make_array(0, 5, 2)*2` is equivalent to `make_array(0, 10, 4)`. In similar fashion, if we compare an array and one value, each element of the array is compared to that value, and the comparison evaluates to **an array of Booleans**."
   ]
  },
  {
   "cell_type": "code",
   "execution_count": 14,
   "metadata": {},
   "outputs": [
    {
     "data": {
      "text/plain": [
       "array([False,  True, False,  True,  True])"
      ]
     },
     "execution_count": 14,
     "metadata": {},
     "output_type": "execute_result"
    }
   ],
   "source": [
    "tosses = make_array('Tails', 'Heads', 'Tails', 'Heads', 'Heads')\n",
    "tosses == 'Heads'"
   ]
  },
  {
   "cell_type": "markdown",
   "metadata": {},
   "source": [
    "The numpy method `count_nonzero` evaluates to the number of non-zero (that is, `True`) elements of the array."
   ]
  },
  {
   "cell_type": "code",
   "execution_count": 15,
   "metadata": {},
   "outputs": [
    {
     "data": {
      "text/plain": [
       "3"
      ]
     },
     "execution_count": 15,
     "metadata": {},
     "output_type": "execute_result"
    }
   ],
   "source": [
    "np.count_nonzero(tosses == 'Heads')"
   ]
  },
  {
   "cell_type": "markdown",
   "metadata": {},
   "source": [
    "## Combining Comparisons\n",
    "Boolean operators can be applied to **bool** values\n",
    "<img src = 'combining.jpg' width = 450/>\n",
    "\n",
    "### Predicates Make Comparisons \n",
    "The result of calling a predicate function (i.e. `are.above(3)`) is a function that performs a comparison."
   ]
  },
  {
   "cell_type": "markdown",
   "metadata": {},
   "source": [
    "## Control Statements\n",
    "These statements **control** the sequence of computations that are performed in a program.\n",
    "* The keywords `if` and `for` begin control statements\n",
    "* The purpose of `if` is to define functions that choose different behavior based on their arguments\n",
    "* The purpose of `for` is to perform a computation for every element in a list or array\n",
    "\n",
    "### Iteration\n",
    "In programming – especially when dealing with randomness – we often want to repeat a process multiple times. For example, we might want to assign each person in a study to the treatment group or to control by a coin toss. We can do this without actually tossing a coin for each person; we can use `np.random.choice` instead.\n",
    "\n",
    "Here is a reminder of how `np.random.choice` works. Run the cell a few times to see how the output changes."
   ]
  },
  {
   "cell_type": "code",
   "execution_count": 7,
   "metadata": {},
   "outputs": [
    {
     "data": {
      "text/plain": [
       "'Tails'"
      ]
     },
     "execution_count": 7,
     "metadata": {},
     "output_type": "execute_result"
    }
   ],
   "source": [
    "np.random.choice(make_array('Heads', 'Tails'))"
   ]
  },
  {
   "cell_type": "markdown",
   "metadata": {},
   "source": [
    "A more automated solution is to use a `for` statement to loop over the contents of a sequence. This is called **iteration**. A `for` statement begins with the word `for`, followed by a name we want to give each item in the sequence, followed by the word `in`, and ending with an expression that evaluates to a sequence. The indented body of the for statement is executed once for each item in that sequence."
   ]
  },
  {
   "cell_type": "code",
   "execution_count": 8,
   "metadata": {},
   "outputs": [
    {
     "name": "stdout",
     "output_type": "stream",
     "text": [
      "0\n",
      "1\n",
      "2\n"
     ]
    }
   ],
   "source": [
    "for i in np.arange(3):\n",
    "    print(i)"
   ]
  },
  {
   "cell_type": "markdown",
   "metadata": {},
   "source": [
    "It is instructive to imagine code that exactly replicates a `for` statement without the `for` statement. This is called **unrolling the loop**.\n",
    "\n",
    "A `for` statement replicates the code inside it, but before each iteration, it assigns a new value from the given sequence to the name we chose. For example, here is an unrolled version of the loop above:"
   ]
  },
  {
   "cell_type": "code",
   "execution_count": 9,
   "metadata": {},
   "outputs": [
    {
     "name": "stdout",
     "output_type": "stream",
     "text": [
      "0\n",
      "1\n",
      "2\n"
     ]
    }
   ],
   "source": [
    "i = np.arange(3).item(0)\n",
    "print(i)\n",
    "i = np.arange(3).item(1)\n",
    "print(i)\n",
    "i = np.arange(3).item(2)\n",
    "print(i)"
   ]
  },
  {
   "cell_type": "markdown",
   "metadata": {},
   "source": [
    "The name `i` is arbitrary, just like any name we assign with `=`.\n",
    "\n",
    "Here we use a `for` statement in a more realistic way: we print 5 random choices from coin, thus simulating the results five tosses of a coin."
   ]
  },
  {
   "cell_type": "code",
   "execution_count": 10,
   "metadata": {},
   "outputs": [
    {
     "name": "stdout",
     "output_type": "stream",
     "text": [
      "Heads\n",
      "Heads\n",
      "Heads\n",
      "Heads\n",
      "Heads\n"
     ]
    }
   ],
   "source": [
    "coin = make_array('Heads', 'Tails')\n",
    "\n",
    "for i in np.arange(5):\n",
    "    print(np.random.choice(coin))"
   ]
  },
  {
   "cell_type": "markdown",
   "metadata": {},
   "source": [
    "## Augmenting Arrays\n",
    "While the `for` statement above does simulate the results of 5 tosses of a coin, the results are simply printed. A typical use of a `for` statement is to create an array of results, by augmenting it each time.\n",
    "\n",
    "The append method in numpy helps us do this. The call `np.append(array_name, value)` evaluates to a new array that is `array_name` augmented by value. When you use append, keep in mind that all the entries of an array must have the same type."
   ]
  },
  {
   "cell_type": "code",
   "execution_count": 13,
   "metadata": {},
   "outputs": [
    {
     "data": {
      "text/plain": [
       "array(['Cat', 'Dog', 'Another Pet'], dtype='<U11')"
      ]
     },
     "execution_count": 13,
     "metadata": {},
     "output_type": "execute_result"
    }
   ],
   "source": [
    "pets = make_array('Cat', 'Dog')\n",
    "np.append(pets, 'Another Pet')"
   ]
  },
  {
   "cell_type": "markdown",
   "metadata": {},
   "source": [
    "Notice that the array `pets` is unchanged."
   ]
  },
  {
   "cell_type": "code",
   "execution_count": 14,
   "metadata": {},
   "outputs": [
    {
     "data": {
      "text/plain": [
       "array(['Cat', 'Dog'], dtype='<U3')"
      ]
     },
     "execution_count": 14,
     "metadata": {},
     "output_type": "execute_result"
    }
   ],
   "source": [
    "pets"
   ]
  },
  {
   "cell_type": "markdown",
   "metadata": {},
   "source": [
    "But often while using for loops it will be convenient to mutate an array – that is, change it – when augmenting it. This is done by assigning the augmented array to the same name as the original."
   ]
  },
  {
   "cell_type": "code",
   "execution_count": 15,
   "metadata": {},
   "outputs": [
    {
     "data": {
      "text/plain": [
       "array(['Cat', 'Dog', 'Another Pet'], dtype='<U11')"
      ]
     },
     "execution_count": 15,
     "metadata": {},
     "output_type": "execute_result"
    }
   ],
   "source": [
    "pets = np.append(pets, 'Another Pet')\n",
    "pets"
   ]
  },
  {
   "cell_type": "markdown",
   "metadata": {},
   "source": [
    "### Example: Counting the Number of Heads\n",
    "We can now simulate 5 tosses of a coin and place the results into an array. We will start by creating an empty array and then appending the outcome of each toss. Notice that the body of the for loop contains 2 statements. Both statements are executed for each value in the given sequence `np.arange(5)`."
   ]
  },
  {
   "cell_type": "code",
   "execution_count": 2,
   "metadata": {},
   "outputs": [
    {
     "data": {
      "text/plain": [
       "array(['Tails', 'Heads', 'Tails', 'Heads', 'Tails'], dtype='<U32')"
      ]
     },
     "execution_count": 2,
     "metadata": {},
     "output_type": "execute_result"
    }
   ],
   "source": [
    "coin = make_array('Heads', 'Tails')\n",
    "\n",
    "outcomes = make_array()\n",
    "\n",
    "for i in np.arange(5):\n",
    "    outcome_of_toss = np.random.choice(coin)\n",
    "    outcomes = np.append(outcomes, outcome_of_toss)\n",
    "    \n",
    "outcomes"
   ]
  },
  {
   "cell_type": "markdown",
   "metadata": {},
   "source": [
    "The **unrolled** version of the code above would be:"
   ]
  },
  {
   "cell_type": "code",
   "execution_count": 3,
   "metadata": {},
   "outputs": [
    {
     "data": {
      "text/plain": [
       "array(['Heads', 'Tails', 'Tails', 'Heads', 'Heads'], dtype='<U32')"
      ]
     },
     "execution_count": 3,
     "metadata": {},
     "output_type": "execute_result"
    }
   ],
   "source": [
    "coin = make_array('Heads', 'Tails')\n",
    "\n",
    "outcomes = make_array()\n",
    "\n",
    "i = np.arange(5).item(0)\n",
    "outcome_of_toss = np.random.choice(coin)\n",
    "outcomes = np.append(outcomes, outcome_of_toss)\n",
    "\n",
    "i = np.arange(5).item(1)\n",
    "outcome_of_toss = np.random.choice(coin)\n",
    "outcomes = np.append(outcomes, outcome_of_toss)\n",
    "\n",
    "i = np.arange(5).item(2)\n",
    "outcome_of_toss = np.random.choice(coin)\n",
    "outcomes = np.append(outcomes, outcome_of_toss)\n",
    "\n",
    "i = np.arange(5).item(3)\n",
    "outcome_of_toss = np.random.choice(coin)\n",
    "outcomes = np.append(outcomes, outcome_of_toss)\n",
    "\n",
    "i = np.arange(5).item(4)\n",
    "outcome_of_toss = np.random.choice(coin)\n",
    "outcomes = np.append(outcomes, outcome_of_toss)\n",
    "\n",
    "outcomes"
   ]
  },
  {
   "cell_type": "markdown",
   "metadata": {},
   "source": [
    "By capturing the results in an array we have given ourselves the ability to use array methods to do computations. For example, we can use `np.count_nonzero` to count the number of heads in the five tosses."
   ]
  },
  {
   "cell_type": "code",
   "execution_count": 4,
   "metadata": {},
   "outputs": [
    {
     "data": {
      "text/plain": [
       "3"
      ]
     },
     "execution_count": 4,
     "metadata": {},
     "output_type": "execute_result"
    }
   ],
   "source": [
    "np.count_nonzero(outcomes == 'Heads')"
   ]
  },
  {
   "cell_type": "markdown",
   "metadata": {},
   "source": [
    "We have used the `for` loop to simulate a random experiment, and therefore if you run the cell again, the array outcomes is likely to be different. In upcoming sections of the course we will study how different the outcomes could be.\n",
    "\n",
    "Iteration is a powerful technique. For example, by running exactly the same code for 1000 tosses instead of 5, we can count the number of heads in 1000 tosses."
   ]
  },
  {
   "cell_type": "code",
   "execution_count": null,
   "metadata": {},
   "outputs": [],
   "source": [
    "outcomes = make_array()\n",
    "\n",
    "for i in np.arange(1000):\n",
    "    outcome_of_toss = np.random.choice(coin)\n",
    "    outcomes = np.append(outcomes, outcome_of_toss)\n",
    "\n",
    "np.count_nonzero(outcomes == 'Heads')"
   ]
  }
 ],
 "metadata": {
  "kernelspec": {
   "display_name": "Python 3",
   "language": "python",
   "name": "python3"
  },
  "language_info": {
   "codemirror_mode": {
    "name": "ipython",
    "version": 3
   },
   "file_extension": ".py",
   "mimetype": "text/x-python",
   "name": "python",
   "nbconvert_exporter": "python",
   "pygments_lexer": "ipython3",
   "version": "3.7.0"
  }
 },
 "nbformat": 4,
 "nbformat_minor": 1
}
