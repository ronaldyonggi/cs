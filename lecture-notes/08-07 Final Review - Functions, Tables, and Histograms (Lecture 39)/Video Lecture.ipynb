{
 "cells": [
  {
   "cell_type": "code",
   "execution_count": 1,
   "metadata": {},
   "outputs": [],
   "source": [
    "from datascience import *\n",
    "import numpy as np\n",
    "\n",
    "%matplotlib inline\n",
    "import matplotlib.pyplot as plt\n",
    "plt.style.use('fivethirtyeight')\n",
    "\n",
    "from ipywidgets import interact, interactive, fixed, interact_manual\n",
    "import ipywidgets as widgets\n",
    "\n",
    "from toolz import memoize"
   ]
  },
  {
   "cell_type": "markdown",
   "metadata": {},
   "source": [
    "# Final Review: Programming, Tables, Histograms"
   ]
  },
  {
   "cell_type": "markdown",
   "metadata": {},
   "source": [
    "# Functions\n",
    "Functions encapsulates code so that we (or a higher-order function like `apply`) can use it over and over again without rewriting it.\n",
    "\n",
    "Structure of a function definition:"
   ]
  },
  {
   "cell_type": "code",
   "execution_count": 5,
   "metadata": {},
   "outputs": [
    {
     "ename": "SyntaxError",
     "evalue": "invalid syntax (<ipython-input-5-922ef6a79e62>, line 1)",
     "output_type": "error",
     "traceback": [
      "\u001b[1;36m  File \u001b[1;32m\"<ipython-input-5-922ef6a79e62>\"\u001b[1;36m, line \u001b[1;32m1\u001b[0m\n\u001b[1;33m    def <function name> (<zero or more arguments>):\u001b[0m\n\u001b[1;37m        ^\u001b[0m\n\u001b[1;31mSyntaxError\u001b[0m\u001b[1;31m:\u001b[0m invalid syntax\n"
     ]
    }
   ],
   "source": [
    "def <function name> (<zero or more arguments>):\n",
    "    <body>\n",
    "    return <some value> # optional"
   ]
  },
  {
   "cell_type": "markdown",
   "metadata": {},
   "source": [
    "Above, the body of the function can be reused over and over again whenever we call the function by the function name. "
   ]
  },
  {
   "cell_type": "markdown",
   "metadata": {},
   "source": [
    "## Functions and Return Values\n",
    "All functions have return values, including the ones provided for us to use with `Tables` and `Arrays`. \n",
    "* We can write a function without a return value, but that's usually not the case.\n",
    "\n",
    "Suppose we have the following `population` table,"
   ]
  },
  {
   "cell_type": "code",
   "execution_count": null,
   "metadata": {},
   "outputs": [],
   "source": [
    "year = np.arange(1999, 2003, 1)\n",
    "total_pop = [500, 638, 752, 806]\n",
    "population = Table().with_columns(\n",
    "    'year', year,\n",
    "    'total_pop', total_pop\n",
    ")\n",
    "population"
   ]
  },
  {
   "cell_type": "markdown",
   "metadata": {},
   "source": [
    "`.where` returns a Table, so we can call `scatter` after."
   ]
  },
  {
   "cell_type": "code",
   "execution_count": 6,
   "metadata": {},
   "outputs": [
    {
     "ename": "NameError",
     "evalue": "name 'population' is not defined",
     "output_type": "error",
     "traceback": [
      "\u001b[1;31m---------------------------------------------------------------------------\u001b[0m",
      "\u001b[1;31mNameError\u001b[0m                                 Traceback (most recent call last)",
      "\u001b[1;32m<ipython-input-6-b947c0152d48>\u001b[0m in \u001b[0;36m<module>\u001b[1;34m\u001b[0m\n\u001b[1;32m----> 1\u001b[1;33m \u001b[0mpopulation\u001b[0m\u001b[1;33m.\u001b[0m\u001b[0mwhere\u001b[0m\u001b[1;33m(\u001b[0m\u001b[1;34m'year'\u001b[0m\u001b[1;33m,\u001b[0m \u001b[0mare\u001b[0m\u001b[1;33m.\u001b[0m\u001b[0mabove\u001b[0m\u001b[1;33m(\u001b[0m\u001b[1;36m1999\u001b[0m\u001b[1;33m)\u001b[0m\u001b[1;33m)\u001b[0m\u001b[1;33m.\u001b[0m\u001b[0mscatter\u001b[0m\u001b[1;33m(\u001b[0m\u001b[1;34m'year'\u001b[0m\u001b[1;33m)\u001b[0m\u001b[1;33m\u001b[0m\u001b[1;33m\u001b[0m\u001b[0m\n\u001b[0m",
      "\u001b[1;31mNameError\u001b[0m: name 'population' is not defined"
     ]
    }
   ],
   "source": [
    "population.where('year', are.above(1999)).scatter('year')"
   ]
  },
  {
   "cell_type": "markdown",
   "metadata": {},
   "source": [
    "However, if we call `.scatter` first, `scatter` returns `None`. Thus, we can't call `where` after,"
   ]
  },
  {
   "cell_type": "code",
   "execution_count": null,
   "metadata": {},
   "outputs": [],
   "source": [
    "population.scatter('year').where('year', are.above(1999))"
   ]
  },
  {
   "cell_type": "markdown",
   "metadata": {},
   "source": [
    "We can see that there's a certain order for calling functions when working with arrays and tables. "
   ]
  },
  {
   "cell_type": "markdown",
   "metadata": {},
   "source": [
    "## Try Writing a Function\n",
    "Write a function `hungry_adder` that does the following,\n",
    "\n",
    "1. Takes 2 numbers as arguments\n",
    "2. Adds them together and returns the value\n",
    "3. Prints the string \"Thanks for feeding me those tasty number!\""
   ]
  },
  {
   "cell_type": "code",
   "execution_count": null,
   "metadata": {},
   "outputs": [],
   "source": [
    "def hungry_adder(a, b):\n",
    "    print(\"Thanks for feeding me those tasty number!\")\n",
    "    return a + b"
   ]
  },
  {
   "cell_type": "code",
   "execution_count": null,
   "metadata": {},
   "outputs": [],
   "source": [
    "hungry_adder(2, 4)"
   ]
  },
  {
   "cell_type": "markdown",
   "metadata": {},
   "source": [
    "Make sure to write the `print` statement before the `return` statement. Once we get to the `return` statement, the function ends. If we write the `print` statement after the `return` statement,"
   ]
  },
  {
   "cell_type": "code",
   "execution_count": null,
   "metadata": {},
   "outputs": [],
   "source": [
    "def hungry_adder(a, b):\n",
    "    return a + b\n",
    "    print(\"Thanks for feeding me those tasty numbers!\")"
   ]
  },
  {
   "cell_type": "code",
   "execution_count": null,
   "metadata": {},
   "outputs": [],
   "source": [
    "hungry_adder(2, 4)"
   ]
  },
  {
   "cell_type": "markdown",
   "metadata": {},
   "source": [
    "Then the `print` statement is never reached!"
   ]
  },
  {
   "cell_type": "markdown",
   "metadata": {},
   "source": [
    "# Arrays and Tables"
   ]
  },
  {
   "cell_type": "markdown",
   "metadata": {},
   "source": [
    "## Arrays\n",
    "Arrays contain values. They are useful because we can work with multiple values at once. \n",
    "\n",
    "To make an array, use `make_array` and put elements in it. "
   ]
  },
  {
   "cell_type": "code",
   "execution_count": null,
   "metadata": {},
   "outputs": [],
   "source": [
    "make_array(1, 2, 3)"
   ]
  },
  {
   "cell_type": "markdown",
   "metadata": {},
   "source": [
    "Below are some element-wise array operations,"
   ]
  },
  {
   "cell_type": "code",
   "execution_count": null,
   "metadata": {},
   "outputs": [],
   "source": [
    "2 * make_array(1, 2, 3)"
   ]
  },
  {
   "cell_type": "code",
   "execution_count": null,
   "metadata": {},
   "outputs": [],
   "source": [
    "make_array(2, 3, 5) + make_array(7, 8, 9) # Arrays must be the same length"
   ]
  },
  {
   "cell_type": "markdown",
   "metadata": {},
   "source": [
    "## Tables\n",
    "Table is a sequence of labeled columns.\n",
    "* Labels are `strings`\n",
    "* Columns are `arrays`\n",
    "\n",
    "1. `table.column('<label of column>')`\n",
    "    * Gives back the column of the table as an array\n",
    "2. `table.select('<label of column>')`\n",
    "    * Returns a new table with just that one column\n",
    "\n",
    "In tables, all data in a column need to be the same type. \n",
    "\n",
    "<img src = 'table.jpg' width = 500/>\n",
    "\n",
    "Recall that we can also view table as a collection of rows. "
   ]
  },
  {
   "cell_type": "markdown",
   "metadata": {},
   "source": [
    "## Where"
   ]
  },
  {
   "cell_type": "code",
   "execution_count": 7,
   "metadata": {},
   "outputs": [
    {
     "ename": "NameError",
     "evalue": "name 'tbl' is not defined",
     "output_type": "error",
     "traceback": [
      "\u001b[1;31m---------------------------------------------------------------------------\u001b[0m",
      "\u001b[1;31mNameError\u001b[0m                                 Traceback (most recent call last)",
      "\u001b[1;32m<ipython-input-7-6b6238665a21>\u001b[0m in \u001b[0;36m<module>\u001b[1;34m\u001b[0m\n\u001b[1;32m----> 1\u001b[1;33m \u001b[0mtbl\u001b[0m\u001b[1;33m.\u001b[0m\u001b[0mwhere\u001b[0m\u001b[1;33m(\u001b[0m\u001b[0mcolumn\u001b[0m\u001b[1;33m,\u001b[0m \u001b[0mpredicate\u001b[0m\u001b[1;33m)\u001b[0m\u001b[1;33m\u001b[0m\u001b[1;33m\u001b[0m\u001b[0m\n\u001b[0m",
      "\u001b[1;31mNameError\u001b[0m: name 'tbl' is not defined"
     ]
    }
   ],
   "source": [
    "tbl.where(column, predicate)"
   ]
  },
  {
   "cell_type": "markdown",
   "metadata": {},
   "source": [
    "`.where` returns a table of the rows for which the column satisfies some predicate\n",
    "* \"Filter\" out rows by a condition\n",
    "* Returns a table\n",
    "\n",
    "List of `where` predicates: [Here](https://www.inferentialthinking.com/chapters/06/2/Selecting_Rows.html)\n"
   ]
  },
  {
   "cell_type": "markdown",
   "metadata": {},
   "source": [
    "## Join\n",
    "The `join` method combines 2 tables. It takes 3 arguments:\n",
    "1. Column to join on from the first table\n",
    "2. Second table\n",
    "3. Column to join on from the second table"
   ]
  },
  {
   "cell_type": "markdown",
   "metadata": {},
   "source": [
    "## Join Example\n",
    "Let's say we have the following tables,`sp16` and `prof`,"
   ]
  },
  {
   "cell_type": "code",
   "execution_count": 9,
   "metadata": {},
   "outputs": [
    {
     "data": {
      "text/html": [
       "<table border=\"1\" class=\"dataframe\">\n",
       "    <thead>\n",
       "        <tr>\n",
       "            <th>Student ID</th> <th>Class</th> <th>GPA</th>\n",
       "        </tr>\n",
       "    </thead>\n",
       "    <tbody>\n",
       "        <tr>\n",
       "            <td>1234      </td> <td>CS 61A</td> <td>3.3 </td>\n",
       "        </tr>\n",
       "        <tr>\n",
       "            <td>5678      </td> <td>CS 61A</td> <td>3   </td>\n",
       "        </tr>\n",
       "        <tr>\n",
       "            <td>5678      </td> <td>DATA 8</td> <td>4   </td>\n",
       "        </tr>\n",
       "    </tbody>\n",
       "</table>"
      ],
      "text/plain": [
       "Student ID | Class  | GPA\n",
       "1234       | CS 61A | 3.3\n",
       "5678       | CS 61A | 3\n",
       "5678       | DATA 8 | 4"
      ]
     },
     "execution_count": 9,
     "metadata": {},
     "output_type": "execute_result"
    }
   ],
   "source": [
    "SID = make_array(1234, 5678, 5678)\n",
    "Class = make_array('CS 61A', 'CS 61A', 'DATA 8')\n",
    "GPA = make_array(3.3, 3.0, 4.0)\n",
    "sp16 = Table().with_column(\n",
    "    'Student ID', SID,\n",
    "    'Class', Class,\n",
    "    'GPA', GPA\n",
    ")\n",
    "sp16"
   ]
  },
  {
   "cell_type": "code",
   "execution_count": 10,
   "metadata": {},
   "outputs": [
    {
     "data": {
      "text/html": [
       "<table border=\"1\" class=\"dataframe\">\n",
       "    <thead>\n",
       "        <tr>\n",
       "            <th>Course</th> <th>Professor</th>\n",
       "        </tr>\n",
       "    </thead>\n",
       "    <tbody>\n",
       "        <tr>\n",
       "            <td>CS 61A</td> <td>Hilfinger</td>\n",
       "        </tr>\n",
       "        <tr>\n",
       "            <td>DATA 8</td> <td>DeNero   </td>\n",
       "        </tr>\n",
       "    </tbody>\n",
       "</table>"
      ],
      "text/plain": [
       "Course | Professor\n",
       "CS 61A | Hilfinger\n",
       "DATA 8 | DeNero"
      ]
     },
     "execution_count": 10,
     "metadata": {},
     "output_type": "execute_result"
    }
   ],
   "source": [
    "Course = make_array('CS 61A', 'DATA 8')\n",
    "Professor = make_array('Hilfinger', 'DeNero')\n",
    "prof = Table().with_column(\n",
    "    'Course', Course,\n",
    "    'Professor', Professor\n",
    ")\n",
    "prof"
   ]
  },
  {
   "cell_type": "markdown",
   "metadata": {},
   "source": [
    "Above, we see that the `Class` column from `sp16` table and the `Course` column from `prof` table looks similar. We can join these columns! However, beware that the order we join the tables is important!"
   ]
  },
  {
   "cell_type": "markdown",
   "metadata": {},
   "source": [
    "## Does Order Matter?"
   ]
  },
  {
   "cell_type": "code",
   "execution_count": 11,
   "metadata": {},
   "outputs": [
    {
     "data": {
      "text/html": [
       "<table border=\"1\" class=\"dataframe\">\n",
       "    <thead>\n",
       "        <tr>\n",
       "            <th>Course</th> <th>Professor</th> <th>Student ID</th> <th>GPA</th>\n",
       "        </tr>\n",
       "    </thead>\n",
       "    <tbody>\n",
       "        <tr>\n",
       "            <td>CS 61A</td> <td>Hilfinger</td> <td>1234      </td> <td>3.3 </td>\n",
       "        </tr>\n",
       "        <tr>\n",
       "            <td>CS 61A</td> <td>Hilfinger</td> <td>5678      </td> <td>3   </td>\n",
       "        </tr>\n",
       "        <tr>\n",
       "            <td>DATA 8</td> <td>DeNero   </td> <td>5678      </td> <td>4   </td>\n",
       "        </tr>\n",
       "    </tbody>\n",
       "</table>"
      ],
      "text/plain": [
       "Course | Professor | Student ID | GPA\n",
       "CS 61A | Hilfinger | 1234       | 3.3\n",
       "CS 61A | Hilfinger | 5678       | 3\n",
       "DATA 8 | DeNero    | 5678       | 4"
      ]
     },
     "execution_count": 11,
     "metadata": {},
     "output_type": "execute_result"
    }
   ],
   "source": [
    "prof.join('Course', sp16, 'Class')"
   ]
  },
  {
   "cell_type": "code",
   "execution_count": 12,
   "metadata": {},
   "outputs": [
    {
     "data": {
      "text/html": [
       "<table border=\"1\" class=\"dataframe\">\n",
       "    <thead>\n",
       "        <tr>\n",
       "            <th>Class</th> <th>Student ID</th> <th>GPA</th> <th>Professor</th>\n",
       "        </tr>\n",
       "    </thead>\n",
       "    <tbody>\n",
       "        <tr>\n",
       "            <td>CS 61A</td> <td>1234      </td> <td>3.3 </td> <td>Hilfinger</td>\n",
       "        </tr>\n",
       "        <tr>\n",
       "            <td>CS 61A</td> <td>5678      </td> <td>3   </td> <td>Hilfinger</td>\n",
       "        </tr>\n",
       "        <tr>\n",
       "            <td>DATA 8</td> <td>5678      </td> <td>4   </td> <td>DeNero   </td>\n",
       "        </tr>\n",
       "    </tbody>\n",
       "</table>"
      ],
      "text/plain": [
       "Class  | Student ID | GPA  | Professor\n",
       "CS 61A | 1234       | 3.3  | Hilfinger\n",
       "CS 61A | 5678       | 3    | Hilfinger\n",
       "DATA 8 | 5678       | 4    | DeNero"
      ]
     },
     "execution_count": 12,
     "metadata": {},
     "output_type": "execute_result"
    }
   ],
   "source": [
    "sp16.join('Class', prof, 'Course')"
   ]
  },
  {
   "cell_type": "markdown",
   "metadata": {},
   "source": [
    "See that if we change the order, the output table is different! This is because the `.join` method:\n",
    "1. Takes the 1st table\n",
    "2. Goes through every single value in the column that has matching rows\n",
    "3. Finds the matching row from the other table to join on "
   ]
  },
  {
   "cell_type": "markdown",
   "metadata": {},
   "source": [
    "## Group\n",
    "If we found ourselves doing `.where` multiple times on the same column, chances are we want to do `group` instead. `.group` takes a column, grabs all the unique values in the column and groups them together according to the function that we defined. "
   ]
  },
  {
   "cell_type": "code",
   "execution_count": 13,
   "metadata": {},
   "outputs": [
    {
     "ename": "NameError",
     "evalue": "name 'table' is not defined",
     "output_type": "error",
     "traceback": [
      "\u001b[1;31m---------------------------------------------------------------------------\u001b[0m",
      "\u001b[1;31mNameError\u001b[0m                                 Traceback (most recent call last)",
      "\u001b[1;32m<ipython-input-13-0bde6652bf5d>\u001b[0m in \u001b[0;36m<module>\u001b[1;34m\u001b[0m\n\u001b[1;32m----> 1\u001b[1;33m \u001b[0mtable\u001b[0m\u001b[1;33m.\u001b[0m\u001b[0mgroup\u001b[0m\u001b[1;33m(\u001b[0m\u001b[1;34m\"Column name\"\u001b[0m\u001b[1;33m,\u001b[0m \u001b[0mfunction\u001b[0m\u001b[1;33m)\u001b[0m\u001b[1;33m\u001b[0m\u001b[1;33m\u001b[0m\u001b[0m\n\u001b[0m",
      "\u001b[1;31mNameError\u001b[0m: name 'table' is not defined"
     ]
    }
   ],
   "source": [
    "table.group(\"Column name\", function)"
   ]
  },
  {
   "cell_type": "markdown",
   "metadata": {},
   "source": [
    "`.group` group table by categories. It takes 2 arguments:\n",
    "1. Column we want to group by\n",
    "    * Split column into unique values\n",
    "\n",
    "2. (Optional) aggregate function\n",
    "    * If we don't provide any argument here, then `.group` just generates a new table with one extra column `counts` that counts how many times each unique values appear "
   ]
  },
  {
   "cell_type": "markdown",
   "metadata": {},
   "source": [
    "## Group -- Function Argument\n",
    "We should know the the type of the item we passed in to the function. The function needs to be able to take an array. \n",
    "\n",
    "1. No argument: only `count` column\n",
    "    * Calculates the number of rows for each category\n",
    "\n",
    "\n",
    "2. Argument: \"ColName FunctionName\" column\n",
    "    * Applies function to values in \"ColName\" for each category\n",
    "    * `sum`, `mean`, `min`, `max`, `count`, `list`, `abs`, or we can make our own functions and pass them in. "
   ]
  },
  {
   "cell_type": "markdown",
   "metadata": {},
   "source": [
    "## Group Example - `sp16` table\n",
    "We have the following "
   ]
  },
  {
   "cell_type": "code",
   "execution_count": 14,
   "metadata": {},
   "outputs": [
    {
     "data": {
      "text/html": [
       "<table border=\"1\" class=\"dataframe\">\n",
       "    <thead>\n",
       "        <tr>\n",
       "            <th>Student ID</th> <th>Class</th> <th>GPA</th>\n",
       "        </tr>\n",
       "    </thead>\n",
       "    <tbody>\n",
       "        <tr>\n",
       "            <td>1234      </td> <td>CS 61A</td> <td>3.3 </td>\n",
       "        </tr>\n",
       "        <tr>\n",
       "            <td>5678      </td> <td>CS 61A</td> <td>3   </td>\n",
       "        </tr>\n",
       "        <tr>\n",
       "            <td>5678      </td> <td>DATA 8</td> <td>4   </td>\n",
       "        </tr>\n",
       "    </tbody>\n",
       "</table>"
      ],
      "text/plain": [
       "Student ID | Class  | GPA\n",
       "1234       | CS 61A | 3.3\n",
       "5678       | CS 61A | 3\n",
       "5678       | DATA 8 | 4"
      ]
     },
     "execution_count": 14,
     "metadata": {},
     "output_type": "execute_result"
    }
   ],
   "source": [
    "sp16"
   ]
  },
  {
   "cell_type": "markdown",
   "metadata": {},
   "source": [
    "What would happen if we run the following,"
   ]
  },
  {
   "cell_type": "code",
   "execution_count": 17,
   "metadata": {},
   "outputs": [
    {
     "data": {
      "text/html": [
       "<table border=\"1\" class=\"dataframe\">\n",
       "    <thead>\n",
       "        <tr>\n",
       "            <th>Student ID</th> <th>GPA mean</th>\n",
       "        </tr>\n",
       "    </thead>\n",
       "    <tbody>\n",
       "        <tr>\n",
       "            <td>1234      </td> <td>3.3     </td>\n",
       "        </tr>\n",
       "        <tr>\n",
       "            <td>5678      </td> <td>3.5     </td>\n",
       "        </tr>\n",
       "    </tbody>\n",
       "</table>"
      ],
      "text/plain": [
       "Student ID | GPA mean\n",
       "1234       | 3.3\n",
       "5678       | 3.5"
      ]
     },
     "execution_count": 17,
     "metadata": {},
     "output_type": "execute_result"
    }
   ],
   "source": [
    "sp16.drop('Class').group('Student ID', np.mean)"
   ]
  },
  {
   "cell_type": "markdown",
   "metadata": {},
   "source": [
    "The cell does the following,\n",
    "\n",
    "1. Drops the `Class` column\n",
    "2. `group` by unique `Student ID` and call `np.mean` on the values in each group"
   ]
  },
  {
   "cell_type": "markdown",
   "metadata": {},
   "source": [
    "## Group with Multiple Columns\n",
    "Group table by multiple levels of categories\n",
    "* When we group by 1 column, we look for the unique value in that one particular column. On the other hand, when we group by multiple columns, we look at unique pairs of values in 2 columns or unique triplets of values in 3 columns, and so on.\n",
    "    \n",
    "`group` by multiple columns takes 2 arguments:\n",
    "1. Array of column names\n",
    "2. A function\n",
    "\n",
    "If we group by `Column 1` and `Column 2`, we'll get all the unique pairs in both columns and create a group out of each.\n",
    "\n",
    "Example syntax:"
   ]
  },
  {
   "cell_type": "code",
   "execution_count": 18,
   "metadata": {},
   "outputs": [
    {
     "ename": "NameError",
     "evalue": "name 'table' is not defined",
     "output_type": "error",
     "traceback": [
      "\u001b[1;31m---------------------------------------------------------------------------\u001b[0m",
      "\u001b[1;31mNameError\u001b[0m                                 Traceback (most recent call last)",
      "\u001b[1;32m<ipython-input-18-bd85dd46fceb>\u001b[0m in \u001b[0;36m<module>\u001b[1;34m\u001b[0m\n\u001b[1;32m----> 1\u001b[1;33m \u001b[0mtable\u001b[0m\u001b[1;33m.\u001b[0m\u001b[0mgroup\u001b[0m\u001b[1;33m(\u001b[0m\u001b[0mmake_array\u001b[0m\u001b[1;33m(\u001b[0m\u001b[1;34m'ColName1'\u001b[0m\u001b[1;33m,\u001b[0m \u001b[1;34m'ColName2'\u001b[0m\u001b[1;33m)\u001b[0m\u001b[1;33m,\u001b[0m \u001b[0mfunc\u001b[0m\u001b[1;33m)\u001b[0m\u001b[1;33m\u001b[0m\u001b[1;33m\u001b[0m\u001b[0m\n\u001b[0m",
      "\u001b[1;31mNameError\u001b[0m: name 'table' is not defined"
     ]
    }
   ],
   "source": [
    "table.group(make_array('ColName1', 'ColName2'), func)"
   ]
  },
  {
   "cell_type": "markdown",
   "metadata": {},
   "source": [
    "## Pivot\n",
    "If we want to use `group` with multiple columns, but we want the format of the table to look different, chances are we want to use `pivot`. \n",
    "\n",
    "Pivot redesigns table structure based on chosen categories. The arguments are as the following (it takes 2-4 arguments):\n",
    "1. Category unique on the columns\n",
    "2. Category unique on the rows\n",
    "    * Note: If we don't provide 3rd and 4th arguments, the default values are counts\n",
    "3. Values to aggregate\n",
    "4. Aggregate function"
   ]
  },
  {
   "cell_type": "markdown",
   "metadata": {},
   "source": [
    "## Pivot Example\n",
    "Again, we have the table `sp16`,"
   ]
  },
  {
   "cell_type": "code",
   "execution_count": 3,
   "metadata": {},
   "outputs": [
    {
     "ename": "NameError",
     "evalue": "name 'sp16' is not defined",
     "output_type": "error",
     "traceback": [
      "\u001b[1;31m---------------------------------------------------------------------------\u001b[0m",
      "\u001b[1;31mNameError\u001b[0m                                 Traceback (most recent call last)",
      "\u001b[1;32m<ipython-input-3-ab1013e30409>\u001b[0m in \u001b[0;36m<module>\u001b[1;34m\u001b[0m\n\u001b[1;32m----> 1\u001b[1;33m \u001b[0msp16\u001b[0m\u001b[1;33m\u001b[0m\u001b[1;33m\u001b[0m\u001b[0m\n\u001b[0m",
      "\u001b[1;31mNameError\u001b[0m: name 'sp16' is not defined"
     ]
    }
   ],
   "source": [
    "sp16"
   ]
  },
  {
   "cell_type": "markdown",
   "metadata": {},
   "source": [
    "If we pivot `Student ID` and `Class`,"
   ]
  },
  {
   "cell_type": "code",
   "execution_count": null,
   "metadata": {},
   "outputs": [],
   "source": [
    "sp16.pivot('Student ID', 'Class')"
   ]
  },
  {
   "cell_type": "markdown",
   "metadata": {},
   "source": [
    "By default, `pivot` counts each occurrence of unique combination of the 2 columns `Student ID` and `Class`. As we can see above, there is no row in `sp16` where the `Student ID` is `1234` and `Class` is `DATA 8` on the same time.\n",
    "\n",
    "If we call the following,"
   ]
  },
  {
   "cell_type": "code",
   "execution_count": null,
   "metadata": {},
   "outputs": [],
   "source": [
    "sp16.pivot('Student ID', 'Class', 'GPA', np.mean)"
   ]
  },
  {
   "cell_type": "markdown",
   "metadata": {},
   "source": [
    "Then we count the `GPA` of the unique combination of the 2 columns `Student ID` and `Class`. `pivot` didn't calculate `mean` at all since all the combinations are unique and thus, the `mean` of a value is the value itself."
   ]
  },
  {
   "cell_type": "markdown",
   "metadata": {},
   "source": [
    "## Practice Problem 1\n",
    "We have a table `exports` containing the export amounts (in millions of dollars) of various agricultural products from California in the year 2014. The first column is labeled `Product`, while the second is labeled `amount`.\n",
    "\n",
    "1. Write a line of code that computes the average of the **amount** column\n",
    "2. Write a line of code that returns a table with only the products that are above average.\n",
    "3. Write a line of code that returns `True` if any exports are less than 1 million dollars\n",
    "4. Write a line of code that returns the proportion of exports that are between 50 and 100 million dollars\n",
    "\n",
    "### Ans:\n",
    "Assume `exports` is as the following,"
   ]
  },
  {
   "cell_type": "code",
   "execution_count": 4,
   "metadata": {},
   "outputs": [
    {
     "data": {
      "text/html": [
       "<table border=\"1\" class=\"dataframe\">\n",
       "    <thead>\n",
       "        <tr>\n",
       "            <th>Products</th> <th>amount</th>\n",
       "        </tr>\n",
       "    </thead>\n",
       "    <tbody>\n",
       "        <tr>\n",
       "            <td>Wool      </td> <td>73    </td>\n",
       "        </tr>\n",
       "        <tr>\n",
       "            <td>Cotton    </td> <td>0.3   </td>\n",
       "        </tr>\n",
       "        <tr>\n",
       "            <td>Kryptonite</td> <td>4     </td>\n",
       "        </tr>\n",
       "    </tbody>\n",
       "</table>"
      ],
      "text/plain": [
       "Products   | amount\n",
       "Wool       | 73\n",
       "Cotton     | 0.3\n",
       "Kryptonite | 4"
      ]
     },
     "execution_count": 4,
     "metadata": {},
     "output_type": "execute_result"
    }
   ],
   "source": [
    "Products = make_array('Wool', 'Cotton', 'Kryptonite')\n",
    "amount = make_array(73, 0.3, 4)\n",
    "exports = Table().with_columns(\n",
    "    'Products', Products,\n",
    "    'amount', amount\n",
    ")\n",
    "exports"
   ]
  },
  {
   "cell_type": "markdown",
   "metadata": {},
   "source": [
    "For the first problem, "
   ]
  },
  {
   "cell_type": "code",
   "execution_count": 5,
   "metadata": {},
   "outputs": [
    {
     "data": {
      "text/plain": [
       "25.766666666666666"
      ]
     },
     "execution_count": 5,
     "metadata": {},
     "output_type": "execute_result"
    }
   ],
   "source": [
    "avg = np.average(exports.column('amount'))\n",
    "avg"
   ]
  },
  {
   "cell_type": "markdown",
   "metadata": {},
   "source": [
    "For the 2nd problem,"
   ]
  },
  {
   "cell_type": "code",
   "execution_count": 6,
   "metadata": {},
   "outputs": [
    {
     "data": {
      "text/html": [
       "<table border=\"1\" class=\"dataframe\">\n",
       "    <thead>\n",
       "        <tr>\n",
       "            <th>Products</th> <th>amount</th>\n",
       "        </tr>\n",
       "    </thead>\n",
       "    <tbody>\n",
       "        <tr>\n",
       "            <td>Wool    </td> <td>73    </td>\n",
       "        </tr>\n",
       "    </tbody>\n",
       "</table>"
      ],
      "text/plain": [
       "Products | amount\n",
       "Wool     | 73"
      ]
     },
     "execution_count": 6,
     "metadata": {},
     "output_type": "execute_result"
    }
   ],
   "source": [
    "exports.where('amount', are.above(avg))"
   ]
  },
  {
   "cell_type": "markdown",
   "metadata": {},
   "source": [
    "3rd problem is tricky. Since it asks for a value that's less than a certain value, we can sort the table based on increasing `amount`, and check if the first row `amount` is less than `1`"
   ]
  },
  {
   "cell_type": "code",
   "execution_count": 7,
   "metadata": {},
   "outputs": [
    {
     "data": {
      "text/plain": [
       "True"
      ]
     },
     "execution_count": 7,
     "metadata": {},
     "output_type": "execute_result"
    }
   ],
   "source": [
    "exports.sort('amount', descending = False).column('amount').item(0) < 1"
   ]
  },
  {
   "cell_type": "markdown",
   "metadata": {},
   "source": [
    "For the 4th problem,"
   ]
  },
  {
   "cell_type": "code",
   "execution_count": 8,
   "metadata": {},
   "outputs": [
    {
     "data": {
      "text/plain": [
       "0.3333333333333333"
      ]
     },
     "execution_count": 8,
     "metadata": {},
     "output_type": "execute_result"
    }
   ],
   "source": [
    "exports.where('amount', are.between(50, 100)).num_rows / exports.num_rows"
   ]
  },
  {
   "cell_type": "markdown",
   "metadata": {},
   "source": [
    "## Practice Problem 2\n",
    "Alice wants to pick a new TV show to watch, and decides to use some data she found online about various TV shows to make a decision. The table of TV shows she is using is called `tv_shows`, and each row corresponds to a unique show. The first 6 rows of the table are shown above.\n",
    "\n",
    "### #1\n",
    "There are initially too many options to choose from, so Alice decides to filter the table to only include shows that satisfy both of the following conditions:\n",
    "1. Has at least `8.0` rating\n",
    "2. Has at least `6` seasons\n",
    "\n",
    "Write an expression that will filter `tv_shows` such that only the rows satisfying both of the above conditions will be included. Below is the `tv_shows` table,"
   ]
  },
  {
   "cell_type": "code",
   "execution_count": 9,
   "metadata": {},
   "outputs": [
    {
     "data": {
      "text/html": [
       "<table border=\"1\" class=\"dataframe\">\n",
       "    <thead>\n",
       "        <tr>\n",
       "            <th>Name</th> <th>Rating</th> <th># of Seasons</th> <th>Genre</th> <th>Premiere Year</th>\n",
       "        </tr>\n",
       "    </thead>\n",
       "    <tbody>\n",
       "        <tr>\n",
       "            <td>Grey's Anatomy       </td> <td>7.7   </td> <td>12          </td> <td>medical drama  </td> <td>2005         </td>\n",
       "        </tr>\n",
       "        <tr>\n",
       "            <td>Suits                </td> <td>8.7   </td> <td>5           </td> <td>legal drama    </td> <td>2011         </td>\n",
       "        </tr>\n",
       "        <tr>\n",
       "            <td>House of Cards       </td> <td>9     </td> <td>4           </td> <td>political drama</td> <td>2013         </td>\n",
       "        </tr>\n",
       "        <tr>\n",
       "            <td>Scrubs               </td> <td>8.4   </td> <td>8           </td> <td>sitcom         </td> <td>2001         </td>\n",
       "        </tr>\n",
       "        <tr>\n",
       "            <td>Scandal              </td> <td>7.9   </td> <td>5           </td> <td>political drama</td> <td>2012         </td>\n",
       "        </tr>\n",
       "        <tr>\n",
       "            <td>How I Met Your Mother</td> <td>8.4   </td> <td>9           </td> <td>sitcom         </td> <td>2005         </td>\n",
       "        </tr>\n",
       "    </tbody>\n",
       "</table>"
      ],
      "text/plain": [
       "Name                  | Rating | # of Seasons | Genre           | Premiere Year\n",
       "Grey's Anatomy        | 7.7    | 12           | medical drama   | 2005\n",
       "Suits                 | 8.7    | 5            | legal drama     | 2011\n",
       "House of Cards        | 9      | 4            | political drama | 2013\n",
       "Scrubs                | 8.4    | 8            | sitcom          | 2001\n",
       "Scandal               | 7.9    | 5            | political drama | 2012\n",
       "How I Met Your Mother | 8.4    | 9            | sitcom          | 2005"
      ]
     },
     "execution_count": 9,
     "metadata": {},
     "output_type": "execute_result"
    }
   ],
   "source": [
    "name = make_array(\"Grey's Anatomy\", \"Suits\", \"House of Cards\", \"Scrubs\", \"Scandal\", \"How I Met Your Mother\")\n",
    "rating = make_array(7.7, 8.7, 9, 8.4, 7.9, 8.4)\n",
    "season = make_array(12, 5, 4, 8, 5, 9)\n",
    "genre = make_array(\"medical drama\", \"legal drama\", \"political drama\", \"sitcom\", \"political drama\", \"sitcom\")\n",
    "premiere = make_array(2005, 2011, 2013, 2001, 2012, 2005)\n",
    "\n",
    "tv_shows = Table().with_columns(\n",
    "    'Name', name,\n",
    "    'Rating', rating,\n",
    "    '# of Seasons', season,\n",
    "    'Genre', genre,\n",
    "    'Premiere Year', premiere\n",
    ")\n",
    "tv_shows"
   ]
  },
  {
   "cell_type": "code",
   "execution_count": 10,
   "metadata": {},
   "outputs": [
    {
     "data": {
      "text/html": [
       "<table border=\"1\" class=\"dataframe\">\n",
       "    <thead>\n",
       "        <tr>\n",
       "            <th>Name</th> <th>Rating</th> <th># of Seasons</th> <th>Genre</th> <th>Premiere Year</th>\n",
       "        </tr>\n",
       "    </thead>\n",
       "    <tbody>\n",
       "        <tr>\n",
       "            <td>Scrubs               </td> <td>8.4   </td> <td>8           </td> <td>sitcom</td> <td>2001         </td>\n",
       "        </tr>\n",
       "        <tr>\n",
       "            <td>How I Met Your Mother</td> <td>8.4   </td> <td>9           </td> <td>sitcom</td> <td>2005         </td>\n",
       "        </tr>\n",
       "    </tbody>\n",
       "</table>"
      ],
      "text/plain": [
       "Name                  | Rating | # of Seasons | Genre  | Premiere Year\n",
       "Scrubs                | 8.4    | 8            | sitcom | 2001\n",
       "How I Met Your Mother | 8.4    | 9            | sitcom | 2005"
      ]
     },
     "execution_count": 10,
     "metadata": {},
     "output_type": "execute_result"
    }
   ],
   "source": [
    "(tv_shows\n",
    " # Has at least 8.0 rating\n",
    " .where('Rating', are.above_or_equal_to(8.0))\n",
    " # Has at least 6 seasons\n",
    " .where('# of Seasons', are.above_or_equal_to(6))\n",
    ")"
   ]
  },
  {
   "cell_type": "markdown",
   "metadata": {},
   "source": [
    "## #2\n",
    "Alice realizes that she doesn't even know what type of show she wants to watch, so she decides to look at what genres people seem to like best.\n",
    "\n",
    "First, write an expression that will create a **table with the average rating for each `Genre`** and assign it to the variable `shows_grouped_by_genre`\n",
    "\n",
    "Then, use this table to **find the Genre with the highest average rating** and assign it to the variable `highest_rated_genre`"
   ]
  },
  {
   "cell_type": "code",
   "execution_count": 11,
   "metadata": {},
   "outputs": [
    {
     "data": {
      "text/html": [
       "<table border=\"1\" class=\"dataframe\">\n",
       "    <thead>\n",
       "        <tr>\n",
       "            <th>Genre</th> <th>Rating mean</th>\n",
       "        </tr>\n",
       "    </thead>\n",
       "    <tbody>\n",
       "        <tr>\n",
       "            <td>legal drama    </td> <td>8.7        </td>\n",
       "        </tr>\n",
       "        <tr>\n",
       "            <td>medical drama  </td> <td>7.7        </td>\n",
       "        </tr>\n",
       "        <tr>\n",
       "            <td>political drama</td> <td>8.45       </td>\n",
       "        </tr>\n",
       "        <tr>\n",
       "            <td>sitcom         </td> <td>8.4        </td>\n",
       "        </tr>\n",
       "    </tbody>\n",
       "</table>"
      ],
      "text/plain": [
       "Genre           | Rating mean\n",
       "legal drama     | 8.7\n",
       "medical drama   | 7.7\n",
       "political drama | 8.45\n",
       "sitcom          | 8.4"
      ]
     },
     "execution_count": 11,
     "metadata": {},
     "output_type": "execute_result"
    }
   ],
   "source": [
    "avg_rating = tv_shows.select('Genre', 'Rating').group('Genre', np.mean)\n",
    "avg_rating"
   ]
  },
  {
   "cell_type": "code",
   "execution_count": 12,
   "metadata": {},
   "outputs": [
    {
     "data": {
      "text/plain": [
       "'legal drama'"
      ]
     },
     "execution_count": 12,
     "metadata": {},
     "output_type": "execute_result"
    }
   ],
   "source": [
    "highest_rated_genre = avg_rating.sort('Rating mean', descending = True).column('Genre').item(0)\n",
    "highest_rated_genre"
   ]
  },
  {
   "cell_type": "markdown",
   "metadata": {},
   "source": [
    "## #3\n",
    "In addition to looking at the ratings of TV shows classified by genre, Alice also cares about how old the show is, since she doesn't want to watch a show where she doesn't recognize any of the actors / actresses.\n",
    "\n",
    "Write an expression to help Alice create a `pivot` table where:\n",
    "1. The rows correspond to whether or not the show premiered after 2008\n",
    "2. The columns correspond to the genre of the show\n",
    "3. The values in the table are the average rating of shows corresponding to each row / column pair"
   ]
  },
  {
   "cell_type": "code",
   "execution_count": 16,
   "metadata": {},
   "outputs": [
    {
     "data": {
      "text/html": [
       "<table border=\"1\" class=\"dataframe\">\n",
       "    <thead>\n",
       "        <tr>\n",
       "            <th>After 2008</th> <th>legal drama</th> <th>medical drama</th> <th>political drama</th> <th>sitcom</th>\n",
       "        </tr>\n",
       "    </thead>\n",
       "    <tbody>\n",
       "        <tr>\n",
       "            <td>False     </td> <td>0          </td> <td>7.7          </td> <td>0              </td> <td>8.4   </td>\n",
       "        </tr>\n",
       "        <tr>\n",
       "            <td>True      </td> <td>8.7        </td> <td>0            </td> <td>8.45           </td> <td>0     </td>\n",
       "        </tr>\n",
       "    </tbody>\n",
       "</table>"
      ],
      "text/plain": [
       "After 2008 | legal drama | medical drama | political drama | sitcom\n",
       "False      | 0           | 7.7           | 0               | 8.4\n",
       "True       | 8.7         | 0             | 8.45            | 0"
      ]
     },
     "execution_count": 16,
     "metadata": {},
     "output_type": "execute_result"
    }
   ],
   "source": [
    "tv_shows.with_column(\n",
    "    'After 2008', tv_shows.column('Premiere Year') > 2008 \n",
    ").pivot('Genre', 'After 2008', 'Rating', np.mean)"
   ]
  },
  {
   "cell_type": "code",
   "execution_count": null,
   "metadata": {},
   "outputs": [],
   "source": []
  }
 ],
 "metadata": {
  "kernelspec": {
   "display_name": "Python 3",
   "language": "python",
   "name": "python3"
  },
  "language_info": {
   "codemirror_mode": {
    "name": "ipython",
    "version": 3
   },
   "file_extension": ".py",
   "mimetype": "text/x-python",
   "name": "python",
   "nbconvert_exporter": "python",
   "pygments_lexer": "ipython3",
   "version": "3.7.2"
  }
 },
 "nbformat": 4,
 "nbformat_minor": 1
}
