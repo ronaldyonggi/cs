{
 "cells": [
  {
   "cell_type": "code",
   "execution_count": 1,
   "metadata": {},
   "outputs": [],
   "source": [
    "from datascience import *\n",
    "import numpy as np\n",
    "%matplotlib inline\n",
    "import matplotlib.pyplot as plt\n",
    "plt.style.use('fivethirtyeight')\n",
    "\n",
    "from ipywidgets import interact, interactive, fixed, interact_manual\n",
    "import ipywidgets as widgets"
   ]
  },
  {
   "cell_type": "markdown",
   "metadata": {},
   "source": [
    "# Tables Review\n",
    "Recall from last lecture, we talked about manipulating rows.\n",
    "\n",
    "## Manipulating Rows\n",
    "1. `t.sort(column)` sorts the rows by a particular column in increasing order\n",
    "2. `t.take(row_numbers)` takes rows out of a table based on their indices\n",
    "    * Each `row` has an index, starting at 0\n",
    "3. `t.where(column, are.condition)` filters rows based on a column and the certain condition that needs to be fulfilled\n",
    "4. `t.where(column, value)` is  a shortcut to `t.where(column, are.equal_to)`."
   ]
  },
  {
   "cell_type": "markdown",
   "metadata": {},
   "source": [
    "## Discussion Question"
   ]
  },
  {
   "cell_type": "code",
   "execution_count": 2,
   "metadata": {},
   "outputs": [],
   "source": [
    "nba = Table.read_table('nba_salaries.csv')"
   ]
  },
  {
   "cell_type": "markdown",
   "metadata": {},
   "source": [
    "The table `nba` has columns `NAME`, `POSITION`, and `SALARY`.\n",
    "\n",
    "1. Create an array containing the names of all point guards (PG) who make more than 15 million dollars per year."
   ]
  },
  {
   "cell_type": "code",
   "execution_count": 3,
   "metadata": {},
   "outputs": [],
   "source": [
    "# Relabel the label '2015-2016 SALARY' to 'SALARY' and 'PLAYER' to 'NAME'\n",
    "nba = nba.relabeled('2015-2016 SALARY', 'SALARY').relabeled('PLAYER', 'NAME')"
   ]
  },
  {
   "cell_type": "code",
   "execution_count": 4,
   "metadata": {},
   "outputs": [
    {
     "data": {
      "text/html": [
       "<table border=\"1\" class=\"dataframe\">\n",
       "    <thead>\n",
       "        <tr>\n",
       "            <th>NAME</th> <th>POSITION</th> <th>SALARY</th>\n",
       "        </tr>\n",
       "    </thead>\n",
       "    <tbody>\n",
       "        <tr>\n",
       "            <td>Paul Millsap    </td> <td>PF      </td> <td>18.6717</td>\n",
       "        </tr>\n",
       "        <tr>\n",
       "            <td>Al Horford      </td> <td>C       </td> <td>12     </td>\n",
       "        </tr>\n",
       "        <tr>\n",
       "            <td>Tiago Splitter  </td> <td>C       </td> <td>9.75625</td>\n",
       "        </tr>\n",
       "        <tr>\n",
       "            <td>Jeff Teague     </td> <td>PG      </td> <td>8      </td>\n",
       "        </tr>\n",
       "        <tr>\n",
       "            <td>Kyle Korver     </td> <td>SG      </td> <td>5.74648</td>\n",
       "        </tr>\n",
       "        <tr>\n",
       "            <td>Thabo Sefolosha </td> <td>SF      </td> <td>4      </td>\n",
       "        </tr>\n",
       "        <tr>\n",
       "            <td>Mike Scott      </td> <td>PF      </td> <td>3.33333</td>\n",
       "        </tr>\n",
       "        <tr>\n",
       "            <td>Kent Bazemore   </td> <td>SF      </td> <td>2      </td>\n",
       "        </tr>\n",
       "        <tr>\n",
       "            <td>Dennis Schroder </td> <td>PG      </td> <td>1.7634 </td>\n",
       "        </tr>\n",
       "        <tr>\n",
       "            <td>Tim Hardaway Jr.</td> <td>SG      </td> <td>1.30452</td>\n",
       "        </tr>\n",
       "    </tbody>\n",
       "</table>\n",
       "<p>... (407 rows omitted)</p>"
      ],
      "text/plain": [
       "NAME             | POSITION | SALARY\n",
       "Paul Millsap     | PF       | 18.6717\n",
       "Al Horford       | C        | 12\n",
       "Tiago Splitter   | C        | 9.75625\n",
       "Jeff Teague      | PG       | 8\n",
       "Kyle Korver      | SG       | 5.74648\n",
       "Thabo Sefolosha  | SF       | 4\n",
       "Mike Scott       | PF       | 3.33333\n",
       "Kent Bazemore    | SF       | 2\n",
       "Dennis Schroder  | PG       | 1.7634\n",
       "Tim Hardaway Jr. | SG       | 1.30452\n",
       "... (407 rows omitted)"
      ]
     },
     "execution_count": 4,
     "metadata": {},
     "output_type": "execute_result"
    }
   ],
   "source": [
    "nba = nba.drop('TEAM')\n",
    "nba"
   ]
  },
  {
   "cell_type": "code",
   "execution_count": 5,
   "metadata": {},
   "outputs": [
    {
     "data": {
      "text/plain": [
       "array(['Derrick Rose', 'Kyrie Irving', 'Chris Paul', 'Russell Westbrook',\n",
       "       'John Wall'], dtype='<U24')"
      ]
     },
     "execution_count": 5,
     "metadata": {},
     "output_type": "execute_result"
    }
   ],
   "source": [
    "nba.where('POSITION', 'PG').where('SALARY', are.above(15)).column('NAME')"
   ]
  },
  {
   "cell_type": "markdown",
   "metadata": {},
   "source": [
    "2. After evaluating the expressions below, what would be the outcome?"
   ]
  },
  {
   "cell_type": "code",
   "execution_count": 6,
   "metadata": {},
   "outputs": [
    {
     "data": {
      "text/html": [
       "<table border=\"1\" class=\"dataframe\">\n",
       "    <thead>\n",
       "        <tr>\n",
       "            <th>NAME</th> <th>POSITION</th> <th>SALARY</th>\n",
       "        </tr>\n",
       "    </thead>\n",
       "    <tbody>\n",
       "        <tr>\n",
       "            <td>Joffrey Lauvergne</td> <td>C       </td> <td>1.70972</td>\n",
       "        </tr>\n",
       "    </tbody>\n",
       "</table>"
      ],
      "text/plain": [
       "NAME              | POSITION | SALARY\n",
       "Joffrey Lauvergne | C        | 1.70972"
      ]
     },
     "execution_count": 6,
     "metadata": {},
     "output_type": "execute_result"
    }
   ],
   "source": [
    "nba.with_row(['Sam Lau', 'Mascot', 100])\n",
    "nba.where('NAME', are.containing('Lau'))"
   ]
  },
  {
   "cell_type": "markdown",
   "metadata": {},
   "source": [
    "Notice that we didn't get the entry that we insert using `with_row`! Recall that we need to reassign the `nba` table to actually make changes."
   ]
  },
  {
   "cell_type": "markdown",
   "metadata": {},
   "source": [
    "# Census Data\n",
    "\n",
    "## The Decennial Census\n",
    "* Every 10 years, the Census Bureau counts how many people there are in the U.S. \n",
    "    * However, the Bureau does not know exactly how many people are there each year\n",
    "    * So the Bureau uses estimation to estimate the population each year\n",
    "    \n",
    "Article 1, Section 2 of the Constitution states: \"Representative and direct Taxes shall be apportioned among the several States ... according to their Respective Numbers ...\". \n",
    "\n",
    "Thus, the Bureau need the number of population in the U.S. to adjust taxes and State Representatives."
   ]
  },
  {
   "cell_type": "markdown",
   "metadata": {},
   "source": [
    "## Analyzing Census Data\n",
    "Analyzing a population data leads to the discovery of interesting features and trends in the population.\n",
    "We will load up the census `csv` data into the name `full_census_table`."
   ]
  },
  {
   "cell_type": "code",
   "execution_count": 7,
   "metadata": {},
   "outputs": [
    {
     "data": {
      "text/html": [
       "<table border=\"1\" class=\"dataframe\">\n",
       "    <thead>\n",
       "        <tr>\n",
       "            <th>SEX</th> <th>AGE</th> <th>CENSUS2010POP</th> <th>ESTIMATESBASE2010</th> <th>POPESTIMATE2010</th> <th>POPESTIMATE2011</th> <th>POPESTIMATE2012</th> <th>POPESTIMATE2013</th> <th>POPESTIMATE2014</th> <th>POPESTIMATE2015</th>\n",
       "        </tr>\n",
       "    </thead>\n",
       "    <tbody>\n",
       "        <tr>\n",
       "            <td>0   </td> <td>0   </td> <td>3944153      </td> <td>3944160          </td> <td>3951330        </td> <td>3963087        </td> <td>3926540        </td> <td>3931141        </td> <td>3949775        </td> <td>3978038        </td>\n",
       "        </tr>\n",
       "        <tr>\n",
       "            <td>0   </td> <td>1   </td> <td>3978070      </td> <td>3978090          </td> <td>3957888        </td> <td>3966551        </td> <td>3977939        </td> <td>3942872        </td> <td>3949776        </td> <td>3968564        </td>\n",
       "        </tr>\n",
       "        <tr>\n",
       "            <td>0   </td> <td>2   </td> <td>4096929      </td> <td>4096939          </td> <td>4090862        </td> <td>3971565        </td> <td>3980095        </td> <td>3992720        </td> <td>3959664        </td> <td>3966583        </td>\n",
       "        </tr>\n",
       "        <tr>\n",
       "            <td>0   </td> <td>3   </td> <td>4119040      </td> <td>4119051          </td> <td>4111920        </td> <td>4102470        </td> <td>3983157        </td> <td>3992734        </td> <td>4007079        </td> <td>3974061        </td>\n",
       "        </tr>\n",
       "        <tr>\n",
       "            <td>0   </td> <td>4   </td> <td>4063170      </td> <td>4063186          </td> <td>4077551        </td> <td>4122294        </td> <td>4112849        </td> <td>3994449        </td> <td>4005716        </td> <td>4020035        </td>\n",
       "        </tr>\n",
       "        <tr>\n",
       "            <td>0   </td> <td>5   </td> <td>4056858      </td> <td>4056872          </td> <td>4064653        </td> <td>4087709        </td> <td>4132242        </td> <td>4123626        </td> <td>4006900        </td> <td>4018158        </td>\n",
       "        </tr>\n",
       "        <tr>\n",
       "            <td>0   </td> <td>6   </td> <td>4066381      </td> <td>4066412          </td> <td>4073013        </td> <td>4074993        </td> <td>4097605        </td> <td>4142916        </td> <td>4135930        </td> <td>4019207        </td>\n",
       "        </tr>\n",
       "        <tr>\n",
       "            <td>0   </td> <td>7   </td> <td>4030579      </td> <td>4030594          </td> <td>4043046        </td> <td>4083225        </td> <td>4084913        </td> <td>4108349        </td> <td>4155326        </td> <td>4148360        </td>\n",
       "        </tr>\n",
       "        <tr>\n",
       "            <td>0   </td> <td>8   </td> <td>4046486      </td> <td>4046497          </td> <td>4025604        </td> <td>4053203        </td> <td>4093177        </td> <td>4095711        </td> <td>4120903        </td> <td>4167887        </td>\n",
       "        </tr>\n",
       "        <tr>\n",
       "            <td>0   </td> <td>9   </td> <td>4148353      </td> <td>4148369          </td> <td>4125415        </td> <td>4035710        </td> <td>4063152        </td> <td>4104072        </td> <td>4108349        </td> <td>4133564        </td>\n",
       "        </tr>\n",
       "    </tbody>\n",
       "</table>\n",
       "<p>... (296 rows omitted)</p>"
      ],
      "text/plain": [
       "SEX  | AGE  | CENSUS2010POP | ESTIMATESBASE2010 | POPESTIMATE2010 | POPESTIMATE2011 | POPESTIMATE2012 | POPESTIMATE2013 | POPESTIMATE2014 | POPESTIMATE2015\n",
       "0    | 0    | 3944153       | 3944160           | 3951330         | 3963087         | 3926540         | 3931141         | 3949775         | 3978038\n",
       "0    | 1    | 3978070       | 3978090           | 3957888         | 3966551         | 3977939         | 3942872         | 3949776         | 3968564\n",
       "0    | 2    | 4096929       | 4096939           | 4090862         | 3971565         | 3980095         | 3992720         | 3959664         | 3966583\n",
       "0    | 3    | 4119040       | 4119051           | 4111920         | 4102470         | 3983157         | 3992734         | 4007079         | 3974061\n",
       "0    | 4    | 4063170       | 4063186           | 4077551         | 4122294         | 4112849         | 3994449         | 4005716         | 4020035\n",
       "0    | 5    | 4056858       | 4056872           | 4064653         | 4087709         | 4132242         | 4123626         | 4006900         | 4018158\n",
       "0    | 6    | 4066381       | 4066412           | 4073013         | 4074993         | 4097605         | 4142916         | 4135930         | 4019207\n",
       "0    | 7    | 4030579       | 4030594           | 4043046         | 4083225         | 4084913         | 4108349         | 4155326         | 4148360\n",
       "0    | 8    | 4046486       | 4046497           | 4025604         | 4053203         | 4093177         | 4095711         | 4120903         | 4167887\n",
       "0    | 9    | 4148353       | 4148369           | 4125415         | 4035710         | 4063152         | 4104072         | 4108349         | 4133564\n",
       "... (296 rows omitted)"
      ]
     },
     "execution_count": 7,
     "metadata": {},
     "output_type": "execute_result"
    }
   ],
   "source": [
    "full_census_table = Table.read_table('census.csv')\n",
    "full_census_table"
   ]
  },
  {
   "cell_type": "markdown",
   "metadata": {},
   "source": [
    "Above, the column labels don't seem too descriptive. We can look at the [PDF](https://www2.census.gov/programs-surveys/popest/datasets/2010-2015/national/asrh/nc-est2015-agesex-res.pdf) from Census's website to see the explanation of each label."
   ]
  },
  {
   "cell_type": "markdown",
   "metadata": {},
   "source": [
    "## Census Table Description\n",
    "\n",
    "Values have column-dependent interpretations\n",
    "* The `SEX` column: `1` = Male, `2` = Female\n",
    "* `POPESTIMATE2010` column: estimation on 07/01/2010\n",
    "\n",
    "In this table, some rows are sums of other rows\n",
    "* The `SEX` column: 0 = total of Male and Female\n",
    "* The `AGE` column: 999 is total of all ages\n",
    "    \n",
    "Why use numeric code such as `1` and `2` rather than using the string `Male` and `Female`?\n",
    "* Numeric codes are often used for storage efficiency\n",
    "* Numbers use less text, which means more efficient\n",
    "\n",
    "Be careful! Within a column, two or more values have the same type, but they are not necessarily comparable.\n",
    "* e.g. comparing AGE 12 vs. AGE 999 won't give you a reasonable result because age 999 is not an actual age"
   ]
  },
  {
   "cell_type": "markdown",
   "metadata": {},
   "source": [
    "We want to compare 2 population estimate: 2010 and 2015. The table `partial` below represents that."
   ]
  },
  {
   "cell_type": "code",
   "execution_count": 8,
   "metadata": {},
   "outputs": [
    {
     "data": {
      "text/html": [
       "<table border=\"1\" class=\"dataframe\">\n",
       "    <thead>\n",
       "        <tr>\n",
       "            <th>SEX</th> <th>AGE</th> <th>POPESTIMATE2010</th> <th>POPESTIMATE2015</th>\n",
       "        </tr>\n",
       "    </thead>\n",
       "    <tbody>\n",
       "        <tr>\n",
       "            <td>0   </td> <td>0   </td> <td>3951330        </td> <td>3978038        </td>\n",
       "        </tr>\n",
       "        <tr>\n",
       "            <td>0   </td> <td>1   </td> <td>3957888        </td> <td>3968564        </td>\n",
       "        </tr>\n",
       "        <tr>\n",
       "            <td>0   </td> <td>2   </td> <td>4090862        </td> <td>3966583        </td>\n",
       "        </tr>\n",
       "        <tr>\n",
       "            <td>0   </td> <td>3   </td> <td>4111920        </td> <td>3974061        </td>\n",
       "        </tr>\n",
       "        <tr>\n",
       "            <td>0   </td> <td>4   </td> <td>4077551        </td> <td>4020035        </td>\n",
       "        </tr>\n",
       "        <tr>\n",
       "            <td>0   </td> <td>5   </td> <td>4064653        </td> <td>4018158        </td>\n",
       "        </tr>\n",
       "        <tr>\n",
       "            <td>0   </td> <td>6   </td> <td>4073013        </td> <td>4019207        </td>\n",
       "        </tr>\n",
       "        <tr>\n",
       "            <td>0   </td> <td>7   </td> <td>4043046        </td> <td>4148360        </td>\n",
       "        </tr>\n",
       "        <tr>\n",
       "            <td>0   </td> <td>8   </td> <td>4025604        </td> <td>4167887        </td>\n",
       "        </tr>\n",
       "        <tr>\n",
       "            <td>0   </td> <td>9   </td> <td>4125415        </td> <td>4133564        </td>\n",
       "        </tr>\n",
       "    </tbody>\n",
       "</table>\n",
       "<p>... (296 rows omitted)</p>"
      ],
      "text/plain": [
       "SEX  | AGE  | POPESTIMATE2010 | POPESTIMATE2015\n",
       "0    | 0    | 3951330         | 3978038\n",
       "0    | 1    | 3957888         | 3968564\n",
       "0    | 2    | 4090862         | 3966583\n",
       "0    | 3    | 4111920         | 3974061\n",
       "0    | 4    | 4077551         | 4020035\n",
       "0    | 5    | 4064653         | 4018158\n",
       "0    | 6    | 4073013         | 4019207\n",
       "0    | 7    | 4043046         | 4148360\n",
       "0    | 8    | 4025604         | 4167887\n",
       "0    | 9    | 4125415         | 4133564\n",
       "... (296 rows omitted)"
      ]
     },
     "execution_count": 8,
     "metadata": {},
     "output_type": "execute_result"
    }
   ],
   "source": [
    "partial = full_census_table.select('SEX', 'AGE', 'POPESTIMATE2010', 'POPESTIMATE2015')\n",
    "partial"
   ]
  },
  {
   "cell_type": "markdown",
   "metadata": {},
   "source": [
    "And we're going to relabel `POPESTIMATE2010` and `POPESTIMATE2015` in the table `us_pop` below."
   ]
  },
  {
   "cell_type": "code",
   "execution_count": 9,
   "metadata": {},
   "outputs": [
    {
     "data": {
      "text/html": [
       "<table border=\"1\" class=\"dataframe\">\n",
       "    <thead>\n",
       "        <tr>\n",
       "            <th>SEX</th> <th>AGE</th> <th>2010</th> <th>2015</th>\n",
       "        </tr>\n",
       "    </thead>\n",
       "    <tbody>\n",
       "        <tr>\n",
       "            <td>0   </td> <td>0   </td> <td>3951330</td> <td>3978038</td>\n",
       "        </tr>\n",
       "        <tr>\n",
       "            <td>0   </td> <td>1   </td> <td>3957888</td> <td>3968564</td>\n",
       "        </tr>\n",
       "        <tr>\n",
       "            <td>0   </td> <td>2   </td> <td>4090862</td> <td>3966583</td>\n",
       "        </tr>\n",
       "        <tr>\n",
       "            <td>0   </td> <td>3   </td> <td>4111920</td> <td>3974061</td>\n",
       "        </tr>\n",
       "        <tr>\n",
       "            <td>0   </td> <td>4   </td> <td>4077551</td> <td>4020035</td>\n",
       "        </tr>\n",
       "        <tr>\n",
       "            <td>0   </td> <td>5   </td> <td>4064653</td> <td>4018158</td>\n",
       "        </tr>\n",
       "        <tr>\n",
       "            <td>0   </td> <td>6   </td> <td>4073013</td> <td>4019207</td>\n",
       "        </tr>\n",
       "        <tr>\n",
       "            <td>0   </td> <td>7   </td> <td>4043046</td> <td>4148360</td>\n",
       "        </tr>\n",
       "        <tr>\n",
       "            <td>0   </td> <td>8   </td> <td>4025604</td> <td>4167887</td>\n",
       "        </tr>\n",
       "        <tr>\n",
       "            <td>0   </td> <td>9   </td> <td>4125415</td> <td>4133564</td>\n",
       "        </tr>\n",
       "    </tbody>\n",
       "</table>\n",
       "<p>... (296 rows omitted)</p>"
      ],
      "text/plain": [
       "SEX  | AGE  | 2010    | 2015\n",
       "0    | 0    | 3951330 | 3978038\n",
       "0    | 1    | 3957888 | 3968564\n",
       "0    | 2    | 4090862 | 3966583\n",
       "0    | 3    | 4111920 | 3974061\n",
       "0    | 4    | 4077551 | 4020035\n",
       "0    | 5    | 4064653 | 4018158\n",
       "0    | 6    | 4073013 | 4019207\n",
       "0    | 7    | 4043046 | 4148360\n",
       "0    | 8    | 4025604 | 4167887\n",
       "0    | 9    | 4125415 | 4133564\n",
       "... (296 rows omitted)"
      ]
     },
     "execution_count": 9,
     "metadata": {},
     "output_type": "execute_result"
    }
   ],
   "source": [
    "us_pop = partial.relabeled('POPESTIMATE2010', '2010').relabeled('POPESTIMATE2015', '2015')\n",
    "us_pop"
   ]
  },
  {
   "cell_type": "markdown",
   "metadata": {},
   "source": [
    "Below we're going to calculate the estimate difference between year 2015 and 2010."
   ]
  },
  {
   "cell_type": "code",
   "execution_count": 10,
   "metadata": {},
   "outputs": [
    {
     "data": {
      "text/plain": [
       "array([   26708,    10676,  -124279,  -137859,   -57516,   -46495,\n",
       "         -53806,   105314,   142283,     8149,   -65773,    14817,\n",
       "         -12258,   -35360,    39772,    18740,  -128956,  -182081,\n",
       "        -273010,  -308827,  -205077,    68834,   242467,   435038,\n",
       "         493743,   440136,   383610,   202740,   117128,   172853,\n",
       "         112970,   235717,   376012,   408173,   472649,   431069,\n",
       "         278576,   131637,   -93087,  -453601,  -397641,  -298250,\n",
       "        -158454,     6864,   156657,   -49214,  -369143,  -461788,\n",
       "        -456974,  -446546,  -245943,   -19310,    -6240,    24091,\n",
       "         228080,   294415,   305984,   424727,   518075,   469416,\n",
       "         509071,   434492,   306876,     -774,   830101,   771518,\n",
       "         722799,   610480,  1076541,   364917,   429913,   467584,\n",
       "         585785,   395748,   267716,   207945,   240361,   189912,\n",
       "          98631,    67159,    31471,   -11559,    -9403,     1122,\n",
       "          28568,    42010,    24532,    53443,    53098,    50654,\n",
       "          74710,    95876,    71818,    74742,    62343,    42934,\n",
       "          25726,    23484,    14954,    11463,    22564, 12071957,\n",
       "          16714,     8963,   -62081,   -70628,   -28388,   -25725,\n",
       "         -28747,    53979,    74363,     4641,   -38224,     1945,\n",
       "         -12869,   -22245,    13306,     2547,   -75761,  -107664,\n",
       "        -149692,  -150514,   -91472,    48923,   143497,   236774,\n",
       "         256590,   230384,   208652,   119425,    79757,   109247,\n",
       "          63968,   126326,   195016,   211986,   239986,   224634,\n",
       "         145889,    75926,   -44236,  -222140,  -200303,  -154838,\n",
       "         -89471,     1380,    72631,   -19421,  -173876,  -218338,\n",
       "        -220223,  -209586,  -117860,    -7055,    -2073,    15525,\n",
       "         114944,   153299,   158833,   214554,   253548,   229525,\n",
       "         244788,   202256,   136854,   -12389,   387254,   365250,\n",
       "         343545,   292815,   518230,   181244,   208599,   219844,\n",
       "         278122,   188995,   127262,   103996,   121207,    97682,\n",
       "          57079,    44202,    29024,    11918,    14822,    19176,\n",
       "          30948,    36721,    28122,    33762,    32656,    27624,\n",
       "          34080,    38579,    30372,    28478,    24308,    16279,\n",
       "          10563,     8317,     5214,     3473,     5736,  6141254,\n",
       "           9994,     1713,   -62198,   -67231,   -29128,   -20770,\n",
       "         -25059,    51335,    67920,     3508,   -27549,    12872,\n",
       "            611,   -13115,    26466,    16193,   -53195,   -74417,\n",
       "        -123318,  -158313,  -113605,    19911,    98970,   198264,\n",
       "         237153,   209752,   174958,    83315,    37371,    63606,\n",
       "          49002,   109391,   180996,   196187,   232663,   206435,\n",
       "         132687,    55711,   -48851,  -231461,  -197338,  -143412,\n",
       "         -68983,     5484,    84026,   -29793,  -195267,  -243450,\n",
       "        -236751,  -236960,  -128083,   -12255,    -4167,     8566,\n",
       "         113136,   141116,   147151,   210173,   264527,   239891,\n",
       "         264283,   232236,   170022,    11615,   442847,   406268,\n",
       "         379254,   317665,   558311,   183673,   221314,   247740,\n",
       "         307663,   206753,   140454,   103949,   119154,    92230,\n",
       "          41552,    22957,     2447,   -23477,   -24225,   -18054,\n",
       "          -2380,     5289,    -3590,    19681,    20442,    23030,\n",
       "          40630,    57297,    41446,    46264,    38035,    26655,\n",
       "          15163,    15167,     9740,     7990,    16828,  5930703])"
      ]
     },
     "execution_count": 10,
     "metadata": {},
     "output_type": "execute_result"
    }
   ],
   "source": [
    "us_pop.column('2015') - us_pop.column('2010')"
   ]
  },
  {
   "cell_type": "markdown",
   "metadata": {},
   "source": [
    "However, it is difficult to observe the difference in form of array like above. To make observation easier, we can put the array into the table in a different column."
   ]
  },
  {
   "cell_type": "code",
   "execution_count": 11,
   "metadata": {},
   "outputs": [
    {
     "data": {
      "text/html": [
       "<table border=\"1\" class=\"dataframe\">\n",
       "    <thead>\n",
       "        <tr>\n",
       "            <th>SEX</th> <th>AGE</th> <th>2010</th> <th>2015</th> <th>Change</th>\n",
       "        </tr>\n",
       "    </thead>\n",
       "    <tbody>\n",
       "        <tr>\n",
       "            <td>0   </td> <td>0   </td> <td>3951330</td> <td>3978038</td> <td>26708  </td>\n",
       "        </tr>\n",
       "        <tr>\n",
       "            <td>0   </td> <td>1   </td> <td>3957888</td> <td>3968564</td> <td>10676  </td>\n",
       "        </tr>\n",
       "        <tr>\n",
       "            <td>0   </td> <td>2   </td> <td>4090862</td> <td>3966583</td> <td>-124279</td>\n",
       "        </tr>\n",
       "        <tr>\n",
       "            <td>0   </td> <td>3   </td> <td>4111920</td> <td>3974061</td> <td>-137859</td>\n",
       "        </tr>\n",
       "        <tr>\n",
       "            <td>0   </td> <td>4   </td> <td>4077551</td> <td>4020035</td> <td>-57516 </td>\n",
       "        </tr>\n",
       "        <tr>\n",
       "            <td>0   </td> <td>5   </td> <td>4064653</td> <td>4018158</td> <td>-46495 </td>\n",
       "        </tr>\n",
       "        <tr>\n",
       "            <td>0   </td> <td>6   </td> <td>4073013</td> <td>4019207</td> <td>-53806 </td>\n",
       "        </tr>\n",
       "        <tr>\n",
       "            <td>0   </td> <td>7   </td> <td>4043046</td> <td>4148360</td> <td>105314 </td>\n",
       "        </tr>\n",
       "        <tr>\n",
       "            <td>0   </td> <td>8   </td> <td>4025604</td> <td>4167887</td> <td>142283 </td>\n",
       "        </tr>\n",
       "        <tr>\n",
       "            <td>0   </td> <td>9   </td> <td>4125415</td> <td>4133564</td> <td>8149   </td>\n",
       "        </tr>\n",
       "    </tbody>\n",
       "</table>\n",
       "<p>... (296 rows omitted)</p>"
      ],
      "text/plain": [
       "SEX  | AGE  | 2010    | 2015    | Change\n",
       "0    | 0    | 3951330 | 3978038 | 26708\n",
       "0    | 1    | 3957888 | 3968564 | 10676\n",
       "0    | 2    | 4090862 | 3966583 | -124279\n",
       "0    | 3    | 4111920 | 3974061 | -137859\n",
       "0    | 4    | 4077551 | 4020035 | -57516\n",
       "0    | 5    | 4064653 | 4018158 | -46495\n",
       "0    | 6    | 4073013 | 4019207 | -53806\n",
       "0    | 7    | 4043046 | 4148360 | 105314\n",
       "0    | 8    | 4025604 | 4167887 | 142283\n",
       "0    | 9    | 4125415 | 4133564 | 8149\n",
       "... (296 rows omitted)"
      ]
     },
     "execution_count": 11,
     "metadata": {},
     "output_type": "execute_result"
    }
   ],
   "source": [
    "change = us_pop.column('2015') - us_pop.column('2010')\n",
    "census = us_pop.with_columns(\n",
    "    'Change', change\n",
    ")\n",
    "census"
   ]
  },
  {
   "cell_type": "markdown",
   "metadata": {},
   "source": [
    "We are also interested in the proportion of change in percentage. So we can add that into the table as well."
   ]
  },
  {
   "cell_type": "code",
   "execution_count": 12,
   "metadata": {},
   "outputs": [
    {
     "data": {
      "text/html": [
       "<table border=\"1\" class=\"dataframe\">\n",
       "    <thead>\n",
       "        <tr>\n",
       "            <th>SEX</th> <th>AGE</th> <th>2010</th> <th>2015</th> <th>Change</th> <th>Percent Change</th>\n",
       "        </tr>\n",
       "    </thead>\n",
       "    <tbody>\n",
       "        <tr>\n",
       "            <td>0   </td> <td>0   </td> <td>3951330</td> <td>3978038</td> <td>26708  </td> <td>0.68%         </td>\n",
       "        </tr>\n",
       "        <tr>\n",
       "            <td>0   </td> <td>1   </td> <td>3957888</td> <td>3968564</td> <td>10676  </td> <td>0.27%         </td>\n",
       "        </tr>\n",
       "        <tr>\n",
       "            <td>0   </td> <td>2   </td> <td>4090862</td> <td>3966583</td> <td>-124279</td> <td>-3.04%        </td>\n",
       "        </tr>\n",
       "        <tr>\n",
       "            <td>0   </td> <td>3   </td> <td>4111920</td> <td>3974061</td> <td>-137859</td> <td>-3.35%        </td>\n",
       "        </tr>\n",
       "        <tr>\n",
       "            <td>0   </td> <td>4   </td> <td>4077551</td> <td>4020035</td> <td>-57516 </td> <td>-1.41%        </td>\n",
       "        </tr>\n",
       "        <tr>\n",
       "            <td>0   </td> <td>5   </td> <td>4064653</td> <td>4018158</td> <td>-46495 </td> <td>-1.14%        </td>\n",
       "        </tr>\n",
       "        <tr>\n",
       "            <td>0   </td> <td>6   </td> <td>4073013</td> <td>4019207</td> <td>-53806 </td> <td>-1.32%        </td>\n",
       "        </tr>\n",
       "        <tr>\n",
       "            <td>0   </td> <td>7   </td> <td>4043046</td> <td>4148360</td> <td>105314 </td> <td>2.60%         </td>\n",
       "        </tr>\n",
       "        <tr>\n",
       "            <td>0   </td> <td>8   </td> <td>4025604</td> <td>4167887</td> <td>142283 </td> <td>3.53%         </td>\n",
       "        </tr>\n",
       "        <tr>\n",
       "            <td>0   </td> <td>9   </td> <td>4125415</td> <td>4133564</td> <td>8149   </td> <td>0.20%         </td>\n",
       "        </tr>\n",
       "    </tbody>\n",
       "</table>\n",
       "<p>... (296 rows omitted)</p>"
      ],
      "text/plain": [
       "SEX  | AGE  | 2010    | 2015    | Change  | Percent Change\n",
       "0    | 0    | 3951330 | 3978038 | 26708   | 0.68%\n",
       "0    | 1    | 3957888 | 3968564 | 10676   | 0.27%\n",
       "0    | 2    | 4090862 | 3966583 | -124279 | -3.04%\n",
       "0    | 3    | 4111920 | 3974061 | -137859 | -3.35%\n",
       "0    | 4    | 4077551 | 4020035 | -57516  | -1.41%\n",
       "0    | 5    | 4064653 | 4018158 | -46495  | -1.14%\n",
       "0    | 6    | 4073013 | 4019207 | -53806  | -1.32%\n",
       "0    | 7    | 4043046 | 4148360 | 105314  | 2.60%\n",
       "0    | 8    | 4025604 | 4167887 | 142283  | 3.53%\n",
       "0    | 9    | 4125415 | 4133564 | 8149    | 0.20%\n",
       "... (296 rows omitted)"
      ]
     },
     "execution_count": 12,
     "metadata": {},
     "output_type": "execute_result"
    }
   ],
   "source": [
    "change = us_pop.column('2015') - us_pop.column('2010')\n",
    "census = us_pop.with_columns(\n",
    "    'Change', change,\n",
    "    # Percent change with respect to estimate population in 2010\n",
    "    'Percent Change', change / us_pop.column('2010'),\n",
    ")\n",
    "census.set_format('Percent Change', PercentFormatter) #Changes the format of the column \"Percent Change\""
   ]
  },
  {
   "cell_type": "markdown",
   "metadata": {},
   "source": [
    "If we want to look up the age population that has the greatest change, we can `sort` the table!"
   ]
  },
  {
   "cell_type": "code",
   "execution_count": 13,
   "metadata": {},
   "outputs": [
    {
     "data": {
      "text/html": [
       "<table border=\"1\" class=\"dataframe\">\n",
       "    <thead>\n",
       "        <tr>\n",
       "            <th>SEX</th> <th>AGE</th> <th>2010</th> <th>2015</th> <th>Change</th> <th>Percent Change</th>\n",
       "        </tr>\n",
       "    </thead>\n",
       "    <tbody>\n",
       "        <tr>\n",
       "            <td>0   </td> <td>999 </td> <td>309346863</td> <td>321418820</td> <td>12071957</td> <td>3.90%         </td>\n",
       "        </tr>\n",
       "        <tr>\n",
       "            <td>1   </td> <td>999 </td> <td>152088043</td> <td>158229297</td> <td>6141254 </td> <td>4.04%         </td>\n",
       "        </tr>\n",
       "        <tr>\n",
       "            <td>2   </td> <td>999 </td> <td>157258820</td> <td>163189523</td> <td>5930703 </td> <td>3.77%         </td>\n",
       "        </tr>\n",
       "        <tr>\n",
       "            <td>0   </td> <td>68  </td> <td>2359816  </td> <td>3436357  </td> <td>1076541 </td> <td>45.62%        </td>\n",
       "        </tr>\n",
       "        <tr>\n",
       "            <td>0   </td> <td>64  </td> <td>2706055  </td> <td>3536156  </td> <td>830101  </td> <td>30.68%        </td>\n",
       "        </tr>\n",
       "        <tr>\n",
       "            <td>0   </td> <td>65  </td> <td>2678525  </td> <td>3450043  </td> <td>771518  </td> <td>28.80%        </td>\n",
       "        </tr>\n",
       "        <tr>\n",
       "            <td>0   </td> <td>66  </td> <td>2621335  </td> <td>3344134  </td> <td>722799  </td> <td>27.57%        </td>\n",
       "        </tr>\n",
       "        <tr>\n",
       "            <td>0   </td> <td>67  </td> <td>2693707  </td> <td>3304187  </td> <td>610480  </td> <td>22.66%        </td>\n",
       "        </tr>\n",
       "        <tr>\n",
       "            <td>0   </td> <td>72  </td> <td>1883820  </td> <td>2469605  </td> <td>585785  </td> <td>31.10%        </td>\n",
       "        </tr>\n",
       "        <tr>\n",
       "            <td>2   </td> <td>68  </td> <td>1254117  </td> <td>1812428  </td> <td>558311  </td> <td>44.52%        </td>\n",
       "        </tr>\n",
       "    </tbody>\n",
       "</table>\n",
       "<p>... (296 rows omitted)</p>"
      ],
      "text/plain": [
       "SEX  | AGE  | 2010      | 2015      | Change   | Percent Change\n",
       "0    | 999  | 309346863 | 321418820 | 12071957 | 3.90%\n",
       "1    | 999  | 152088043 | 158229297 | 6141254  | 4.04%\n",
       "2    | 999  | 157258820 | 163189523 | 5930703  | 3.77%\n",
       "0    | 68   | 2359816   | 3436357   | 1076541  | 45.62%\n",
       "0    | 64   | 2706055   | 3536156   | 830101   | 30.68%\n",
       "0    | 65   | 2678525   | 3450043   | 771518   | 28.80%\n",
       "0    | 66   | 2621335   | 3344134   | 722799   | 27.57%\n",
       "0    | 67   | 2693707   | 3304187   | 610480   | 22.66%\n",
       "0    | 72   | 1883820   | 2469605   | 585785   | 31.10%\n",
       "2    | 68   | 1254117   | 1812428   | 558311   | 44.52%\n",
       "... (296 rows omitted)"
      ]
     },
     "execution_count": 13,
     "metadata": {},
     "output_type": "execute_result"
    }
   ],
   "source": [
    "census.sort('Change', descending=True)"
   ]
  },
  {
   "cell_type": "markdown",
   "metadata": {},
   "source": [
    "Be careful! The rows with age 999 refer to the total population of all ages!\n",
    "1. The row with `SEX` 0 and `AGE` 999 is the total population of both genders and all ages\n",
    "2. The row with `SEX` 1 and `AGE` 999 is the total male population of all ages\n",
    "3. The row with `SEX` 2 and `AGE` 999 is the total female population of all ages"
   ]
  },
  {
   "cell_type": "markdown",
   "metadata": {},
   "source": [
    "Recall from Lecture 3 - Expressions, the growth rate `g` in **exponential growth** can be calculated by the following,\n",
    "\\begin{align}\n",
    "g = (\\frac {after}{before})^ {{\\frac {1}{t}} - {1}}\n",
    "\\end{align}\n",
    "\n",
    "Where `t` is the time.\n",
    "\n",
    "What if the growth rate of the total population each year if we assume exponential growth?"
   ]
  },
  {
   "cell_type": "code",
   "execution_count": 14,
   "metadata": {},
   "outputs": [
    {
     "data": {
      "text/plain": [
       "0.007685750230353783"
      ]
     },
     "execution_count": 14,
     "metadata": {},
     "output_type": "execute_result"
    }
   ],
   "source": [
    "after = census.sort('Change', descending=True).column('2015').item(0)\n",
    "before = census.sort('Change', descending=True).column('2010').item(0)\n",
    "g = (after/before) ** (1/5) - 1\n",
    "g"
   ]
  },
  {
   "cell_type": "markdown",
   "metadata": {},
   "source": [
    "This means every year, the total population grew about 0.7 to 0.8%.\n",
    "\n",
    "Another way of doing the computation above, other than using the `column` method, is by using the `row` method. The `row` method returns a data type that can be treated as an `array`, but is not exactly an `array`."
   ]
  },
  {
   "cell_type": "code",
   "execution_count": 15,
   "metadata": {},
   "outputs": [
    {
     "data": {
      "text/plain": [
       "Row(SEX=0, AGE=999, 2010=309346863, 2015=321418820, Change=12071957, Percent Change=0.039024016222204264)"
      ]
     },
     "execution_count": 15,
     "metadata": {},
     "output_type": "execute_result"
    }
   ],
   "source": [
    "first_row = census.sort('Change', descending = True).row(0)\n",
    "first_row"
   ]
  },
  {
   "cell_type": "code",
   "execution_count": 16,
   "metadata": {},
   "outputs": [
    {
     "data": {
      "text/plain": [
       "321418820"
      ]
     },
     "execution_count": 16,
     "metadata": {},
     "output_type": "execute_result"
    }
   ],
   "source": [
    "after = first_row.item('2015') #Or we can use item(3)\n",
    "after"
   ]
  },
  {
   "cell_type": "code",
   "execution_count": 17,
   "metadata": {},
   "outputs": [
    {
     "data": {
      "text/plain": [
       "0.007685750230353783"
      ]
     },
     "execution_count": 17,
     "metadata": {},
     "output_type": "execute_result"
    }
   ],
   "source": [
    "before = first_row.item('2010')\n",
    "g = (after/before) ** (1/5) - 1\n",
    "g"
   ]
  },
  {
   "cell_type": "markdown",
   "metadata": {},
   "source": [
    "If we look at the table again with the sorted change,"
   ]
  },
  {
   "cell_type": "code",
   "execution_count": 18,
   "metadata": {},
   "outputs": [
    {
     "data": {
      "text/html": [
       "<table border=\"1\" class=\"dataframe\">\n",
       "    <thead>\n",
       "        <tr>\n",
       "            <th>SEX</th> <th>AGE</th> <th>2010</th> <th>2015</th> <th>Change</th> <th>Percent Change</th>\n",
       "        </tr>\n",
       "    </thead>\n",
       "    <tbody>\n",
       "        <tr>\n",
       "            <td>0   </td> <td>999 </td> <td>309346863</td> <td>321418820</td> <td>12071957</td> <td>3.90%         </td>\n",
       "        </tr>\n",
       "        <tr>\n",
       "            <td>1   </td> <td>999 </td> <td>152088043</td> <td>158229297</td> <td>6141254 </td> <td>4.04%         </td>\n",
       "        </tr>\n",
       "        <tr>\n",
       "            <td>2   </td> <td>999 </td> <td>157258820</td> <td>163189523</td> <td>5930703 </td> <td>3.77%         </td>\n",
       "        </tr>\n",
       "        <tr>\n",
       "            <td>0   </td> <td>68  </td> <td>2359816  </td> <td>3436357  </td> <td>1076541 </td> <td>45.62%        </td>\n",
       "        </tr>\n",
       "        <tr>\n",
       "            <td>0   </td> <td>64  </td> <td>2706055  </td> <td>3536156  </td> <td>830101  </td> <td>30.68%        </td>\n",
       "        </tr>\n",
       "        <tr>\n",
       "            <td>0   </td> <td>65  </td> <td>2678525  </td> <td>3450043  </td> <td>771518  </td> <td>28.80%        </td>\n",
       "        </tr>\n",
       "        <tr>\n",
       "            <td>0   </td> <td>66  </td> <td>2621335  </td> <td>3344134  </td> <td>722799  </td> <td>27.57%        </td>\n",
       "        </tr>\n",
       "        <tr>\n",
       "            <td>0   </td> <td>67  </td> <td>2693707  </td> <td>3304187  </td> <td>610480  </td> <td>22.66%        </td>\n",
       "        </tr>\n",
       "        <tr>\n",
       "            <td>0   </td> <td>72  </td> <td>1883820  </td> <td>2469605  </td> <td>585785  </td> <td>31.10%        </td>\n",
       "        </tr>\n",
       "        <tr>\n",
       "            <td>2   </td> <td>68  </td> <td>1254117  </td> <td>1812428  </td> <td>558311  </td> <td>44.52%        </td>\n",
       "        </tr>\n",
       "    </tbody>\n",
       "</table>\n",
       "<p>... (296 rows omitted)</p>"
      ],
      "text/plain": [
       "SEX  | AGE  | 2010      | 2015      | Change   | Percent Change\n",
       "0    | 999  | 309346863 | 321418820 | 12071957 | 3.90%\n",
       "1    | 999  | 152088043 | 158229297 | 6141254  | 4.04%\n",
       "2    | 999  | 157258820 | 163189523 | 5930703  | 3.77%\n",
       "0    | 68   | 2359816   | 3436357   | 1076541  | 45.62%\n",
       "0    | 64   | 2706055   | 3536156   | 830101   | 30.68%\n",
       "0    | 65   | 2678525   | 3450043   | 771518   | 28.80%\n",
       "0    | 66   | 2621335   | 3344134   | 722799   | 27.57%\n",
       "0    | 67   | 2693707   | 3304187   | 610480   | 22.66%\n",
       "0    | 72   | 1883820   | 2469605   | 585785   | 31.10%\n",
       "2    | 68   | 1254117   | 1812428   | 558311   | 44.52%\n",
       "... (296 rows omitted)"
      ]
     },
     "execution_count": 18,
     "metadata": {},
     "output_type": "execute_result"
    }
   ],
   "source": [
    "census.sort('Change', descending=True)"
   ]
  },
  {
   "cell_type": "markdown",
   "metadata": {},
   "source": [
    "It seems that the most change occured for people of 68 years old! Why is that?"
   ]
  },
  {
   "cell_type": "code",
   "execution_count": 19,
   "metadata": {},
   "outputs": [
    {
     "data": {
      "text/plain": [
       "1942"
      ]
     },
     "execution_count": 19,
     "metadata": {},
     "output_type": "execute_result"
    }
   ],
   "source": [
    "2010 - 68"
   ]
  },
  {
   "cell_type": "markdown",
   "metadata": {},
   "source": [
    "It appears that if somebody was 68 years old on 2010, that person was born on 1942, which is the year after the World War 2. Pearl Harbour bombing happened on 1941. During this time, not that many babies were born."
   ]
  },
  {
   "cell_type": "code",
   "execution_count": 20,
   "metadata": {},
   "outputs": [
    {
     "data": {
      "text/plain": [
       "1947"
      ]
     },
     "execution_count": 20,
     "metadata": {},
     "output_type": "execute_result"
    }
   ],
   "source": [
    "2015 - 68"
   ]
  },
  {
   "cell_type": "markdown",
   "metadata": {},
   "source": [
    "And if somebody was 68 years old on 2015, that person was born on 1947. 1947 was the year after the Nagasaki bombing (roughly in 1945-1946), and where soldiers came home to U.S. During this time, the number of babies born skyrocketed! This generation is called the baby boomers. And World War 2 was known as the incident that affected the U.S. population the most in the U.S. history since there was a huge change from the year where the least babies were born to the year where the most babies were born.\n",
    "\n",
    "Now we'll look at the population of age above 97 years old.\n",
    "\n",
    "**Note**: Be careful with the `table` method `show()`, as it displays all rows in a table. If we have a table with millions or trillions of rows and we used the method `show()` any argument, Python will try to display all the millions of rows!"
   ]
  },
  {
   "cell_type": "code",
   "execution_count": 21,
   "metadata": {},
   "outputs": [
    {
     "data": {
      "text/html": [
       "<table border=\"1\" class=\"dataframe\">\n",
       "    <thead>\n",
       "        <tr>\n",
       "            <th>SEX</th> <th>AGE</th> <th>2010</th> <th>2015</th>\n",
       "        </tr>\n",
       "    </thead>\n",
       "    <tbody>\n",
       "        <tr>\n",
       "            <td>0   </td> <td>98  </td> <td>47037    </td> <td>61991    </td>\n",
       "        </tr>\n",
       "        <tr>\n",
       "            <td>0   </td> <td>99  </td> <td>32178    </td> <td>43641    </td>\n",
       "        </tr>\n",
       "        <tr>\n",
       "            <td>0   </td> <td>100 </td> <td>54410    </td> <td>76974    </td>\n",
       "        </tr>\n",
       "        <tr>\n",
       "            <td>0   </td> <td>999 </td> <td>309346863</td> <td>321418820</td>\n",
       "        </tr>\n",
       "        <tr>\n",
       "            <td>1   </td> <td>98  </td> <td>9505     </td> <td>14719    </td>\n",
       "        </tr>\n",
       "        <tr>\n",
       "            <td>1   </td> <td>99  </td> <td>6104     </td> <td>9577     </td>\n",
       "        </tr>\n",
       "        <tr>\n",
       "            <td>1   </td> <td>100 </td> <td>9352     </td> <td>15088    </td>\n",
       "        </tr>\n",
       "        <tr>\n",
       "            <td>1   </td> <td>999 </td> <td>152088043</td> <td>158229297</td>\n",
       "        </tr>\n",
       "        <tr>\n",
       "            <td>2   </td> <td>98  </td> <td>37532    </td> <td>47272    </td>\n",
       "        </tr>\n",
       "        <tr>\n",
       "            <td>2   </td> <td>99  </td> <td>26074    </td> <td>34064    </td>\n",
       "        </tr>\n",
       "        <tr>\n",
       "            <td>2   </td> <td>100 </td> <td>45058    </td> <td>61886    </td>\n",
       "        </tr>\n",
       "        <tr>\n",
       "            <td>2   </td> <td>999 </td> <td>157258820</td> <td>163189523</td>\n",
       "        </tr>\n",
       "    </tbody>\n",
       "</table>"
      ],
      "text/plain": [
       "<IPython.core.display.HTML object>"
      ]
     },
     "metadata": {},
     "output_type": "display_data"
    }
   ],
   "source": [
    "us_pop.where('AGE', are.above(97)).show()"
   ]
  },
  {
   "cell_type": "markdown",
   "metadata": {},
   "source": [
    "If we look at the first 3 rows from above,"
   ]
  },
  {
   "cell_type": "code",
   "execution_count": 22,
   "metadata": {},
   "outputs": [
    {
     "data": {
      "text/html": [
       "<table border=\"1\" class=\"dataframe\">\n",
       "    <thead>\n",
       "        <tr>\n",
       "            <th>SEX</th> <th>AGE</th> <th>2010</th> <th>2015</th>\n",
       "        </tr>\n",
       "    </thead>\n",
       "    <tbody>\n",
       "        <tr>\n",
       "            <td>0   </td> <td>98  </td> <td>47037</td> <td>61991</td>\n",
       "        </tr>\n",
       "        <tr>\n",
       "            <td>0   </td> <td>99  </td> <td>32178</td> <td>43641</td>\n",
       "        </tr>\n",
       "        <tr>\n",
       "            <td>0   </td> <td>100 </td> <td>54410</td> <td>76974</td>\n",
       "        </tr>\n",
       "    </tbody>\n",
       "</table>\n",
       "<p>... (9 rows omitted)</p>"
      ],
      "text/plain": [
       "<IPython.core.display.HTML object>"
      ]
     },
     "metadata": {},
     "output_type": "display_data"
    }
   ],
   "source": [
    "us_pop.where('AGE', are.above(97)).show(3)"
   ]
  },
  {
   "cell_type": "markdown",
   "metadata": {},
   "source": [
    "There are more people aged 98 than 99, which makes sense because people might pass away before getting to 99 years old. Strangely, there are a lot more people aged 100 than others! What happened?\n",
    "\n",
    "It turns out that the `AGE` 100 takes into account people whose age are 100 and above (recall the data specification in the [PDF](https://www2.census.gov/programs-surveys/popest/datasets/2010-2015/national/asrh/nc-est2015-agesex-res.pdf)). \n",
    "\n",
    "This time, we will analyze the estimated population of all ages on 2015."
   ]
  },
  {
   "cell_type": "code",
   "execution_count": 23,
   "metadata": {},
   "outputs": [
    {
     "data": {
      "text/html": [
       "<table border=\"1\" class=\"dataframe\">\n",
       "    <thead>\n",
       "        <tr>\n",
       "            <th>SEX</th> <th>AGE</th> <th>2015</th>\n",
       "        </tr>\n",
       "    </thead>\n",
       "    <tbody>\n",
       "        <tr>\n",
       "            <td>0   </td> <td>999 </td> <td>321418820</td>\n",
       "        </tr>\n",
       "        <tr>\n",
       "            <td>1   </td> <td>999 </td> <td>158229297</td>\n",
       "        </tr>\n",
       "        <tr>\n",
       "            <td>2   </td> <td>999 </td> <td>163189523</td>\n",
       "        </tr>\n",
       "    </tbody>\n",
       "</table>"
      ],
      "text/plain": [
       "SEX  | AGE  | 2015\n",
       "0    | 999  | 321418820\n",
       "1    | 999  | 158229297\n",
       "2    | 999  | 163189523"
      ]
     },
     "execution_count": 23,
     "metadata": {},
     "output_type": "execute_result"
    }
   ],
   "source": [
    "us_pop_2015 = us_pop.drop('2010')\n",
    "all_ages = us_pop_2015.where('AGE', 999)\n",
    "all_ages"
   ]
  },
  {
   "cell_type": "markdown",
   "metadata": {},
   "source": [
    "Again, sometimes we are interested in proportions rather than just numbers. The proportion can be computed by dividing the population of a certain gender with the population of both genders."
   ]
  },
  {
   "cell_type": "code",
   "execution_count": 24,
   "metadata": {},
   "outputs": [
    {
     "data": {
      "text/html": [
       "<table border=\"1\" class=\"dataframe\">\n",
       "    <thead>\n",
       "        <tr>\n",
       "            <th>SEX</th> <th>AGE</th> <th>2015</th> <th>Proportion</th>\n",
       "        </tr>\n",
       "    </thead>\n",
       "    <tbody>\n",
       "        <tr>\n",
       "            <td>0   </td> <td>999 </td> <td>321418820</td> <td>100.00%   </td>\n",
       "        </tr>\n",
       "        <tr>\n",
       "            <td>1   </td> <td>999 </td> <td>158229297</td> <td>49.23%    </td>\n",
       "        </tr>\n",
       "        <tr>\n",
       "            <td>2   </td> <td>999 </td> <td>163189523</td> <td>50.77%    </td>\n",
       "        </tr>\n",
       "    </tbody>\n",
       "</table>"
      ],
      "text/plain": [
       "SEX  | AGE  | 2015      | Proportion\n",
       "0    | 999  | 321418820 | 100.00%\n",
       "1    | 999  | 158229297 | 49.23%\n",
       "2    | 999  | 163189523 | 50.77%"
      ]
     },
     "execution_count": 24,
     "metadata": {},
     "output_type": "execute_result"
    }
   ],
   "source": [
    "total = all_ages.column('2015').item(0)\n",
    "all_ages.with_column(\n",
    "    'Proportion', all_ages.column('2015') / total,\n",
    ").set_format('Proportion', PercentFormatter)"
   ]
  },
  {
   "cell_type": "markdown",
   "metadata": {},
   "source": [
    "It appears that in 2015, it was estimated that there were more females than males! However, if we look at the population of freshly born babies,"
   ]
  },
  {
   "cell_type": "code",
   "execution_count": 25,
   "metadata": {},
   "outputs": [
    {
     "data": {
      "text/html": [
       "<table border=\"1\" class=\"dataframe\">\n",
       "    <thead>\n",
       "        <tr>\n",
       "            <th>SEX</th> <th>AGE</th> <th>2015</th>\n",
       "        </tr>\n",
       "    </thead>\n",
       "    <tbody>\n",
       "        <tr>\n",
       "            <td>0   </td> <td>0   </td> <td>3978038</td>\n",
       "        </tr>\n",
       "        <tr>\n",
       "            <td>1   </td> <td>0   </td> <td>2035134</td>\n",
       "        </tr>\n",
       "        <tr>\n",
       "            <td>2   </td> <td>0   </td> <td>1942904</td>\n",
       "        </tr>\n",
       "    </tbody>\n",
       "</table>"
      ],
      "text/plain": [
       "SEX  | AGE  | 2015\n",
       "0    | 0    | 3978038\n",
       "1    | 0    | 2035134\n",
       "2    | 0    | 1942904"
      ]
     },
     "execution_count": 25,
     "metadata": {},
     "output_type": "execute_result"
    }
   ],
   "source": [
    "infants = us_pop_2015.where('AGE', 0)\n",
    "infants"
   ]
  },
  {
   "cell_type": "code",
   "execution_count": 26,
   "metadata": {},
   "outputs": [
    {
     "data": {
      "text/html": [
       "<table border=\"1\" class=\"dataframe\">\n",
       "    <thead>\n",
       "        <tr>\n",
       "            <th>SEX</th> <th>AGE</th> <th>2015</th> <th>Proportion</th>\n",
       "        </tr>\n",
       "    </thead>\n",
       "    <tbody>\n",
       "        <tr>\n",
       "            <td>0   </td> <td>0   </td> <td>3978038</td> <td>100.00%   </td>\n",
       "        </tr>\n",
       "        <tr>\n",
       "            <td>1   </td> <td>0   </td> <td>2035134</td> <td>51.16%    </td>\n",
       "        </tr>\n",
       "        <tr>\n",
       "            <td>2   </td> <td>0   </td> <td>1942904</td> <td>48.84%    </td>\n",
       "        </tr>\n",
       "    </tbody>\n",
       "</table>"
      ],
      "text/plain": [
       "SEX  | AGE  | 2015    | Proportion\n",
       "0    | 0    | 3978038 | 100.00%\n",
       "1    | 0    | 2035134 | 51.16%\n",
       "2    | 0    | 1942904 | 48.84%"
      ]
     },
     "execution_count": 26,
     "metadata": {},
     "output_type": "execute_result"
    }
   ],
   "source": [
    "infants.with_column(\n",
    "    'Proportion', infants.column('2015') / infants.column('2015').item(0),\n",
    ").set_format('Proportion', PercentFormatter)"
   ]
  },
  {
   "cell_type": "markdown",
   "metadata": {},
   "source": [
    "It seems that there were more male babies born than the female babies born! Then why in the total population there are more females? (See next lecture)"
   ]
  }
 ],
 "metadata": {
  "kernelspec": {
   "display_name": "Python 3",
   "language": "python",
   "name": "python3"
  },
  "language_info": {
   "codemirror_mode": {
    "name": "ipython",
    "version": 3
   },
   "file_extension": ".py",
   "mimetype": "text/x-python",
   "name": "python",
   "nbconvert_exporter": "python",
   "pygments_lexer": "ipython3",
   "version": "3.7.2"
  }
 },
 "nbformat": 4,
 "nbformat_minor": 1
}
