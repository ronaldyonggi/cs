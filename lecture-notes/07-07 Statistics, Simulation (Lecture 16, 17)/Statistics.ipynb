{
 "cells": [
  {
   "cell_type": "code",
   "execution_count": 1,
   "metadata": {},
   "outputs": [],
   "source": [
    "from datascience import *\n",
    "import numpy as np\n",
    "%matplotlib inline\n",
    "import matplotlib.pyplot as plots\n",
    "plots.style.use('fivethirtyeight')\n",
    "\n",
    "from ipywidgets import interact, interactive, fixed, interact_manual\n",
    "import ipywidgets as widgets"
   ]
  },
  {
   "cell_type": "markdown",
   "metadata": {},
   "source": [
    "# Probability & Simulation (Review) - Sampling From a Population\n",
    "The law of averages apply when random sample is drawn from individuals in a large population.\n",
    "\n",
    "Here we'll study a population of flight delay times. The table `united` contains data for United Airlines domestic flights departing from San Francisco in the summer of 2015. Data were acquired from [Bureau of Transportation Statistics](http://www.transtats.bts.gov/Fields.asp?Table_ID=293)\n",
    "\n",
    "Departure delay times are in minutes. Some delay times are negative: those flights left early."
   ]
  },
  {
   "cell_type": "code",
   "execution_count": 2,
   "metadata": {},
   "outputs": [
    {
     "data": {
      "text/html": [
       "<table border=\"1\" class=\"dataframe\">\n",
       "    <thead>\n",
       "        <tr>\n",
       "            <th>Date</th> <th>Flight Number</th> <th>Destination</th> <th>Delay</th>\n",
       "        </tr>\n",
       "    </thead>\n",
       "    <tbody>\n",
       "        <tr>\n",
       "            <td>6/1/15</td> <td>73           </td> <td>HNL        </td> <td>257  </td>\n",
       "        </tr>\n",
       "        <tr>\n",
       "            <td>6/1/15</td> <td>217          </td> <td>EWR        </td> <td>28   </td>\n",
       "        </tr>\n",
       "        <tr>\n",
       "            <td>6/1/15</td> <td>237          </td> <td>STL        </td> <td>-3   </td>\n",
       "        </tr>\n",
       "        <tr>\n",
       "            <td>6/1/15</td> <td>250          </td> <td>SAN        </td> <td>0    </td>\n",
       "        </tr>\n",
       "        <tr>\n",
       "            <td>6/1/15</td> <td>267          </td> <td>PHL        </td> <td>64   </td>\n",
       "        </tr>\n",
       "        <tr>\n",
       "            <td>6/1/15</td> <td>273          </td> <td>SEA        </td> <td>-6   </td>\n",
       "        </tr>\n",
       "        <tr>\n",
       "            <td>6/1/15</td> <td>278          </td> <td>SEA        </td> <td>-8   </td>\n",
       "        </tr>\n",
       "        <tr>\n",
       "            <td>6/1/15</td> <td>292          </td> <td>EWR        </td> <td>12   </td>\n",
       "        </tr>\n",
       "        <tr>\n",
       "            <td>6/1/15</td> <td>300          </td> <td>HNL        </td> <td>20   </td>\n",
       "        </tr>\n",
       "        <tr>\n",
       "            <td>6/1/15</td> <td>317          </td> <td>IND        </td> <td>-10  </td>\n",
       "        </tr>\n",
       "    </tbody>\n",
       "</table>\n",
       "<p>... (13815 rows omitted)</p>"
      ],
      "text/plain": [
       "Date   | Flight Number | Destination | Delay\n",
       "6/1/15 | 73            | HNL         | 257\n",
       "6/1/15 | 217           | EWR         | 28\n",
       "6/1/15 | 237           | STL         | -3\n",
       "6/1/15 | 250           | SAN         | 0\n",
       "6/1/15 | 267           | PHL         | 64\n",
       "6/1/15 | 273           | SEA         | -6\n",
       "6/1/15 | 278           | SEA         | -8\n",
       "6/1/15 | 292           | EWR         | 12\n",
       "6/1/15 | 300           | HNL         | 20\n",
       "6/1/15 | 317           | IND         | -10\n",
       "... (13815 rows omitted)"
      ]
     },
     "execution_count": 2,
     "metadata": {},
     "output_type": "execute_result"
    }
   ],
   "source": [
    "united = Table.read_table('united_summer2015.csv')\n",
    "united"
   ]
  },
  {
   "cell_type": "code",
   "execution_count": 3,
   "metadata": {},
   "outputs": [
    {
     "data": {
      "text/plain": [
       "-16"
      ]
     },
     "execution_count": 3,
     "metadata": {},
     "output_type": "execute_result"
    }
   ],
   "source": [
    "# Here is the minimum delay in mins\n",
    "united.column('Delay').min()"
   ]
  },
  {
   "cell_type": "code",
   "execution_count": 4,
   "metadata": {},
   "outputs": [
    {
     "data": {
      "text/plain": [
       "580"
      ]
     },
     "execution_count": 4,
     "metadata": {},
     "output_type": "execute_result"
    }
   ],
   "source": [
    "# Here's the maximum delay in mins\n",
    "united.column('Delay').max()"
   ]
  },
  {
   "cell_type": "code",
   "execution_count": 5,
   "metadata": {},
   "outputs": [
    {
     "data": {
      "image/png": "[encoded data removed]",
      "text/plain": [
       "<Figure size 432x288 with 1 Axes>"
      ]
     },
     "metadata": {},
     "output_type": "display_data"
    }
   ],
   "source": [
    "# Make histogram out of the 'united' using the 'Delay'\n",
    "united.hist('Delay')"
   ]
  },
  {
   "cell_type": "markdown",
   "metadata": {},
   "source": [
    "For the sake of visual convenience, we will zoom in on the bulk of the data and ignore the 0.8% of flights that had delays of more than 200 minutes."
   ]
  },
  {
   "cell_type": "code",
   "execution_count": 6,
   "metadata": {},
   "outputs": [
    {
     "data": {
      "image/png": "[encoded data removed]",
      "text/plain": [
       "<Figure size 432x288 with 1 Axes>"
      ]
     },
     "metadata": {},
     "output_type": "display_data"
    }
   ],
   "source": [
    "united.hist('Delay', bins = np.arange(-20, 301, 10), unit='minute')"
   ]
  },
  {
   "cell_type": "markdown",
   "metadata": {},
   "source": [
    "**From the histogram above, what proportion of flights were between 10 and 20 mins late?**"
   ]
  },
  {
   "cell_type": "code",
   "execution_count": 7,
   "metadata": {},
   "outputs": [
    {
     "data": {
      "text/html": [
       "<table border=\"1\" class=\"dataframe\">\n",
       "    <thead>\n",
       "        <tr>\n",
       "            <th>Date</th> <th>Flight Number</th> <th>Destination</th> <th>Delay</th>\n",
       "        </tr>\n",
       "    </thead>\n",
       "    <tbody>\n",
       "        <tr>\n",
       "            <td>6/1/15</td> <td>292          </td> <td>EWR        </td> <td>12   </td>\n",
       "        </tr>\n",
       "        <tr>\n",
       "            <td>6/1/15</td> <td>408          </td> <td>IAD        </td> <td>14   </td>\n",
       "        </tr>\n",
       "        <tr>\n",
       "            <td>6/1/15</td> <td>433          </td> <td>LAX        </td> <td>10   </td>\n",
       "        </tr>\n",
       "        <tr>\n",
       "            <td>6/1/15</td> <td>477          </td> <td>ORD        </td> <td>10   </td>\n",
       "        </tr>\n",
       "        <tr>\n",
       "            <td>6/1/15</td> <td>624          </td> <td>ORD        </td> <td>10   </td>\n",
       "        </tr>\n",
       "        <tr>\n",
       "            <td>6/1/15</td> <td>794          </td> <td>LIH        </td> <td>17   </td>\n",
       "        </tr>\n",
       "        <tr>\n",
       "            <td>6/1/15</td> <td>1029         </td> <td>LAS        </td> <td>16   </td>\n",
       "        </tr>\n",
       "        <tr>\n",
       "            <td>6/1/15</td> <td>1132         </td> <td>DFW        </td> <td>10   </td>\n",
       "        </tr>\n",
       "        <tr>\n",
       "            <td>6/1/15</td> <td>1138         </td> <td>MSY        </td> <td>10   </td>\n",
       "        </tr>\n",
       "        <tr>\n",
       "            <td>6/1/15</td> <td>1149         </td> <td>EWR        </td> <td>15   </td>\n",
       "        </tr>\n",
       "    </tbody>\n",
       "</table>\n",
       "<p>... (1435 rows omitted)</p>"
      ],
      "text/plain": [
       "Date   | Flight Number | Destination | Delay\n",
       "6/1/15 | 292           | EWR         | 12\n",
       "6/1/15 | 408           | IAD         | 14\n",
       "6/1/15 | 433           | LAX         | 10\n",
       "6/1/15 | 477           | ORD         | 10\n",
       "6/1/15 | 624           | ORD         | 10\n",
       "6/1/15 | 794           | LIH         | 17\n",
       "6/1/15 | 1029          | LAS         | 16\n",
       "6/1/15 | 1132          | DFW         | 10\n",
       "6/1/15 | 1138          | MSY         | 10\n",
       "6/1/15 | 1149          | EWR         | 15\n",
       "... (1435 rows omitted)"
      ]
     },
     "execution_count": 7,
     "metadata": {},
     "output_type": "execute_result"
    }
   ],
   "source": [
    "# Here is a table of flights which delays are between 10 to 20 mins\n",
    "united.where('Delay', are.between(10, 20))"
   ]
  },
  {
   "cell_type": "markdown",
   "metadata": {},
   "source": [
    "If you take the number of planes in the table above and divide it with the total number of flights overall, you can get the proportion that you're looking for."
   ]
  },
  {
   "cell_type": "code",
   "execution_count": 8,
   "metadata": {},
   "outputs": [
    {
     "data": {
      "text/plain": [
       "0.10452079566003616"
      ]
     },
     "execution_count": 8,
     "metadata": {},
     "output_type": "execute_result"
    }
   ],
   "source": [
    "united.where('Delay', are.between(10, 20)).num_rows / united.num_rows"
   ]
  },
  {
   "cell_type": "markdown",
   "metadata": {},
   "source": [
    "**What proportion of flights were between 0 to 10 mins late?**\n",
    "\n",
    "Based on the histogram, we can see that the bar from 0 to 10 mins is slightly under 3%. Multiplying it with the width of the bar, the proportion should be slightly below 30%. We can confirm this by the following calculation:"
   ]
  },
  {
   "cell_type": "code",
   "execution_count": 9,
   "metadata": {},
   "outputs": [
    {
     "data": {
      "text/plain": [
       "0.2935985533453888"
      ]
     },
     "execution_count": 9,
     "metadata": {},
     "output_type": "execute_result"
    }
   ],
   "source": [
    "united.where('Delay', are.between(0, 10)).num_rows/united.num_rows"
   ]
  },
  {
   "cell_type": "markdown",
   "metadata": {},
   "source": [
    "## Empirical Distribution of the Sample\n",
    "If we take a sample of 10 and create a histogram out of it, the following would be the result:"
   ]
  },
  {
   "cell_type": "code",
   "execution_count": 10,
   "metadata": {},
   "outputs": [
    {
     "data": {
      "image/png": "[encoded data removed]",
      "text/plain": [
       "<Figure size 432x288 with 1 Axes>"
      ]
     },
     "metadata": {},
     "output_type": "display_data"
    }
   ],
   "source": [
    "united.sample(10).hist('Delay', bins = np.arange(-20, 301, 10), unit='minute')"
   ]
  },
  {
   "cell_type": "markdown",
   "metadata": {},
   "source": [
    "Again, as the sample size increases, the empirical histogram of the sample gets more similar to the histogram of the population (`united`)."
   ]
  },
  {
   "cell_type": "code",
   "execution_count": 11,
   "metadata": {},
   "outputs": [
    {
     "data": {
      "image/png": "[encoded data removed]",
      "text/plain": [
       "<Figure size 432x288 with 1 Axes>"
      ]
     },
     "metadata": {},
     "output_type": "display_data"
    }
   ],
   "source": [
    "united.sample(30).hist('Delay', bins = np.arange(-20, 301, 10), unit='minute')"
   ]
  },
  {
   "cell_type": "markdown",
   "metadata": {},
   "source": [
    "Since we're creating these histograms repeatedly, it would be more convenient to define the function `empirical_hist_delay` that takes sample size as its argument and returns an empirical histogram of the result."
   ]
  },
  {
   "cell_type": "code",
   "execution_count": 12,
   "metadata": {},
   "outputs": [],
   "source": [
    "def empirical_hist_delay(n):\n",
    "    delay_bins = np.arange(-20, 301, 10)\n",
    "    united.sample(n).select('Delay').hist(bins = delay_bins, unit = 'minute')"
   ]
  },
  {
   "cell_type": "code",
   "execution_count": 13,
   "metadata": {},
   "outputs": [
    {
     "data": {
      "image/png": "[encoded data removed]",
      "text/plain": [
       "<Figure size 432x288 with 1 Axes>"
      ]
     },
     "metadata": {},
     "output_type": "display_data"
    }
   ],
   "source": [
    "empirical_hist_delay(100)"
   ]
  },
  {
   "cell_type": "code",
   "execution_count": 14,
   "metadata": {},
   "outputs": [
    {
     "data": {
      "image/png": "[encoded data removed]",
      "text/plain": [
       "<Figure size 432x288 with 1 Axes>"
      ]
     },
     "metadata": {},
     "output_type": "display_data"
    }
   ],
   "source": [
    "empirical_hist_delay(100000)"
   ]
  },
  {
   "cell_type": "markdown",
   "metadata": {},
   "source": [
    "Note above that we can sample 100,000 times even though the actual data only has around 13800 rows! This is possible because the `sample` method replaces the data points. If we disable `with_replacement`, then it'll give an error!"
   ]
  },
  {
   "cell_type": "code",
   "execution_count": 15,
   "metadata": {},
   "outputs": [
    {
     "ename": "ValueError",
     "evalue": "Cannot take a larger sample than population when 'replace=False'",
     "output_type": "error",
     "traceback": [
      "\u001b[1;31m--------------------------------------------------------------------\u001b[0m",
      "\u001b[1;31mValueError\u001b[0m                         Traceback (most recent call last)",
      "\u001b[1;32m<ipython-input-15-01cd98c68c3c>\u001b[0m in \u001b[0;36m<module>\u001b[1;34m\u001b[0m\n\u001b[1;32m----> 1\u001b[1;33m \u001b[0munited\u001b[0m\u001b[1;33m.\u001b[0m\u001b[0msample\u001b[0m\u001b[1;33m(\u001b[0m\u001b[1;36m100000\u001b[0m\u001b[1;33m,\u001b[0m \u001b[0mwith_replacement\u001b[0m \u001b[1;33m=\u001b[0m \u001b[1;32mFalse\u001b[0m\u001b[1;33m)\u001b[0m\u001b[1;33m.\u001b[0m\u001b[0mselect\u001b[0m\u001b[1;33m(\u001b[0m\u001b[1;34m'Delay'\u001b[0m\u001b[1;33m)\u001b[0m\u001b[1;33m.\u001b[0m\u001b[0mhist\u001b[0m\u001b[1;33m(\u001b[0m\u001b[0mbins\u001b[0m \u001b[1;33m=\u001b[0m \u001b[0mdelay_bins\u001b[0m\u001b[1;33m,\u001b[0m \u001b[0munit\u001b[0m \u001b[1;33m=\u001b[0m \u001b[1;34m'minute'\u001b[0m\u001b[1;33m)\u001b[0m\u001b[1;33m\u001b[0m\u001b[1;33m\u001b[0m\u001b[0m\n\u001b[0m",
      "\u001b[1;32mc:\\users\\ronald yonggi\\appdata\\local\\programs\\python\\python37-32\\lib\\site-packages\\datascience\\tables.py\u001b[0m in \u001b[0;36msample\u001b[1;34m(self, k, with_replacement, weights)\u001b[0m\n\u001b[0;32m   1423\u001b[0m         \u001b[1;32mif\u001b[0m \u001b[0mk\u001b[0m \u001b[1;32mis\u001b[0m \u001b[1;32mNone\u001b[0m\u001b[1;33m:\u001b[0m\u001b[1;33m\u001b[0m\u001b[1;33m\u001b[0m\u001b[0m\n\u001b[0;32m   1424\u001b[0m             \u001b[0mk\u001b[0m \u001b[1;33m=\u001b[0m \u001b[0mn\u001b[0m\u001b[1;33m\u001b[0m\u001b[1;33m\u001b[0m\u001b[0m\n\u001b[1;32m-> 1425\u001b[1;33m         \u001b[0mindex\u001b[0m \u001b[1;33m=\u001b[0m \u001b[0mnp\u001b[0m\u001b[1;33m.\u001b[0m\u001b[0mrandom\u001b[0m\u001b[1;33m.\u001b[0m\u001b[0mchoice\u001b[0m\u001b[1;33m(\u001b[0m\u001b[0mn\u001b[0m\u001b[1;33m,\u001b[0m \u001b[0mk\u001b[0m\u001b[1;33m,\u001b[0m \u001b[0mreplace\u001b[0m\u001b[1;33m=\u001b[0m\u001b[0mwith_replacement\u001b[0m\u001b[1;33m,\u001b[0m \u001b[0mp\u001b[0m\u001b[1;33m=\u001b[0m\u001b[0mweights\u001b[0m\u001b[1;33m)\u001b[0m\u001b[1;33m\u001b[0m\u001b[1;33m\u001b[0m\u001b[0m\n\u001b[0m\u001b[0;32m   1426\u001b[0m         \u001b[0mcolumns\u001b[0m \u001b[1;33m=\u001b[0m \u001b[1;33m[\u001b[0m\u001b[1;33m[\u001b[0m\u001b[0mc\u001b[0m\u001b[1;33m[\u001b[0m\u001b[0mi\u001b[0m\u001b[1;33m]\u001b[0m \u001b[1;32mfor\u001b[0m \u001b[0mi\u001b[0m \u001b[1;32min\u001b[0m \u001b[0mindex\u001b[0m\u001b[1;33m]\u001b[0m \u001b[1;32mfor\u001b[0m \u001b[0mc\u001b[0m \u001b[1;32min\u001b[0m \u001b[0mself\u001b[0m\u001b[1;33m.\u001b[0m\u001b[0mcolumns\u001b[0m\u001b[1;33m]\u001b[0m\u001b[1;33m\u001b[0m\u001b[1;33m\u001b[0m\u001b[0m\n\u001b[0;32m   1427\u001b[0m         \u001b[0msample\u001b[0m \u001b[1;33m=\u001b[0m \u001b[0mself\u001b[0m\u001b[1;33m.\u001b[0m\u001b[0m_with_columns\u001b[0m\u001b[1;33m(\u001b[0m\u001b[0mcolumns\u001b[0m\u001b[1;33m)\u001b[0m\u001b[1;33m\u001b[0m\u001b[1;33m\u001b[0m\u001b[0m\n",
      "\u001b[1;32mmtrand.pyx\u001b[0m in \u001b[0;36mmtrand.RandomState.choice\u001b[1;34m()\u001b[0m\n",
      "\u001b[1;31mValueError\u001b[0m: Cannot take a larger sample than population when 'replace=False'"
     ]
    }
   ],
   "source": [
    "united.sample(100000, with_replacement = False).select('Delay').hist(bins = delay_bins, unit = 'minute')"
   ]
  },
  {
   "cell_type": "markdown",
   "metadata": {},
   "source": [
    "You can make an interactive version of the `empirical_hist_delay` function with `interact`"
   ]
  },
  {
   "cell_type": "code",
   "execution_count": null,
   "metadata": {},
   "outputs": [],
   "source": [
    "_ = interact(empirical_hist_delay, n = 10000)"
   ]
  },
  {
   "cell_type": "markdown",
   "metadata": {},
   "source": [
    "Instead of an interactive slider, you can make a drop-down menu version!"
   ]
  },
  {
   "cell_type": "code",
   "execution_count": null,
   "metadata": {},
   "outputs": [],
   "source": [
    "_ = interact(empirical_hist_delay, n = make_array(100, 1000, 100000))"
   ]
  },
  {
   "cell_type": "markdown",
   "metadata": {},
   "source": [
    "### Convergence of the Empirical Histogram of the Sample\n",
    "For a large random sample, the empirical histogram of the sample resembles the histogram of the population, with high probability\n",
    "\n",
    "This justifies the use of large random samples in statistical inference. The idea is that since a large random sample is likely to resemble the population from which it is drawn, quantities computed from the values in the sample are likely to be close to the corresponding quantities in the population."
   ]
  },
  {
   "cell_type": "markdown",
   "metadata": {},
   "source": [
    "# Empirical Distribution of a Statistic (Inferential Thinking)\n",
    "The **Law of Averages** implies that with high probability, the empirical distribution of a large random sample will resemble the distribution of the population from which the sample was drawn.\n",
    "The resemblance is visible in 2 histograms: the **empirical histogram** of a large random sample is likely to resemble the **histogram of the population**.\n",
    "\n",
    "Recall the histogram of the delays of flights in the table `united`, and an empirical histogram of the delays of a random sample of 1,000 of these flights."
   ]
  },
  {
   "cell_type": "code",
   "execution_count": null,
   "metadata": {},
   "outputs": [],
   "source": [
    "delay_bins = np.arange(-20, 201, 10)\n",
    "united.select('Delay').hist(bins = delay_bins, unit = 'minute')\n",
    "plots.title('Population');"
   ]
  },
  {
   "cell_type": "code",
   "execution_count": null,
   "metadata": {},
   "outputs": [],
   "source": [
    "sample_1000 = united.sample(1000)\n",
    "sample_1000.select('Delay').hist(bins = delay_bins, unit = 'minute')\n",
    "plots.title('Sample of Size 1000');"
   ]
  },
  {
   "cell_type": "markdown",
   "metadata": {},
   "source": [
    "The 2 histograms resemble each other, even though they don't look identical."
   ]
  },
  {
   "cell_type": "markdown",
   "metadata": {},
   "source": [
    "## Parameter: numerical quantities associated with a population\n",
    "Often, we are interested in numerical quantities associated with a population.\n",
    "* In a population of voters, what % will vote for Candidate A?\n",
    "* In a population of Facebook users, what's the largest number of Facebook friends that the users have?\n",
    "* In a population of United flights, what's the median departure delay?\n",
    "\n",
    "**Parameter: numerical quantities associated with a population**.\n",
    "\n",
    "For the population of flights in `united`, we know the value of the parameter **median delay**."
   ]
  },
  {
   "cell_type": "code",
   "execution_count": null,
   "metadata": {},
   "outputs": [],
   "source": [
    "np.median(united.column('Delay'))"
   ]
  },
  {
   "cell_type": "markdown",
   "metadata": {},
   "source": [
    "The `NumPy` function `median` returns the median of an array. From above, it seems that the median delay was 2 minutes. This implies that about 50% of flights in the population had delays of 2 or fewer minutes."
   ]
  },
  {
   "cell_type": "code",
   "execution_count": null,
   "metadata": {},
   "outputs": [],
   "source": [
    "united.where('Delay', are.below_or_equal_to(2)).num_rows/united.num_rows"
   ]
  },
  {
   "cell_type": "markdown",
   "metadata": {},
   "source": [
    "**Note:** The percentage isn't exactly 50% because of \"ties\" (flights that had delays exactly 2 minutes). There were 480 such flights. Ties are common in datasets, and we won't worry about them in this course."
   ]
  },
  {
   "cell_type": "code",
   "execution_count": null,
   "metadata": {},
   "outputs": [],
   "source": [
    "united.where('Delay', are.equal_to(2)).num_rows"
   ]
  },
  {
   "cell_type": "markdown",
   "metadata": {},
   "source": [
    "## Statistics (Inferential Thinking) : any number computed using the data in a sample\n",
    "Often, we also want to solve the value of an unknown parameter. For this, we will rely on data from a large random sample from the population.\n",
    "\n",
    "**Statistic: any number computed using the data in a sample.** The sample median is a statistic.\n",
    "\n",
    "Recall `sample_1000` contains **a random sample of 1000 flights** from `united`. The observed value of the sample median is:"
   ]
  },
  {
   "cell_type": "code",
   "execution_count": null,
   "metadata": {},
   "outputs": [],
   "source": [
    "np.median(sample_1000.column('Delay'))"
   ]
  },
  {
   "cell_type": "markdown",
   "metadata": {},
   "source": [
    "### The Statistic Could Have Been Different\n",
    "When using any statistic based on random sample, keep in mind that **the sample could have come out differently**, and therefore the statistic could have come out differently too."
   ]
  },
  {
   "cell_type": "code",
   "execution_count": null,
   "metadata": {},
   "outputs": [],
   "source": [
    "# Run this cell multiple times to see how the outcome varies!\n",
    "np.median(united.sample(1000).column('Delay'))"
   ]
  },
  {
   "cell_type": "markdown",
   "metadata": {},
   "source": [
    "### How different can the statistic be?\n",
    "One way to answer this is to simulate the statistic multiple times and note the values. A histogram of those values will tell us the distribution of the statistic. Recall the main steps in a simulation.\n",
    "\n",
    "#### Simulating a Statistic\n",
    "We'll simulate the sample median using the steps we set up in an earlier chapter when we started studying simulation. You can replace the sample size of 1000 by any other sample size, and the sample median by any other statistic.\n",
    "\n",
    "### Step 1: Decide which statistic to simulate\n",
    "In this case, we simulate the **median of a random sample of size 1,000** drawn from the population of flight delays\n",
    "\n",
    "### Step 2: Write the code to generate one value of the statistic\n",
    "Draw a random sample of size 1,000 and compute the median. "
   ]
  },
  {
   "cell_type": "code",
   "execution_count": null,
   "metadata": {},
   "outputs": [],
   "source": [
    "np.median(united.sample(1000).column('Delay'))"
   ]
  },
  {
   "cell_type": "markdown",
   "metadata": {},
   "source": [
    "### Step 3: Decide how many simulated values to generate\n",
    "Let's do 5,000 repetitions\n",
    "\n",
    "### Step 4: Write the code to generate an array of simulated values\n",
    "As in all simulations, we start by creating an empty array that collects our result. Then we set up a `for` loop to generate all simulated values. The body of the loop contains **generating one simulated value of the sample median and appending it to our collection array**."
   ]
  },
  {
   "cell_type": "code",
   "execution_count": 17,
   "metadata": {},
   "outputs": [],
   "source": [
    "medians = make_array()\n",
    "\n",
    "for i in np.arange(5000):\n",
    "    new_median = np.median(united.sample(1000).column('Delay'))\n",
    "    medians = np.append(medians, new_median)"
   ]
  },
  {
   "cell_type": "markdown",
   "metadata": {},
   "source": [
    "After running the code above, all 5,000 simulated sample medians have been collected in the aray `medians`. Next step is to visualize the results."
   ]
  },
  {
   "cell_type": "markdown",
   "metadata": {},
   "source": [
    "### Visualization\n",
    "Here are the simulated values displayed in the table `simulated_medians`."
   ]
  },
  {
   "cell_type": "code",
   "execution_count": 18,
   "metadata": {},
   "outputs": [
    {
     "data": {
      "text/html": [
       "<table border=\"1\" class=\"dataframe\">\n",
       "    <thead>\n",
       "        <tr>\n",
       "            <th>Sample Median</th>\n",
       "        </tr>\n",
       "    </thead>\n",
       "    <tbody>\n",
       "        <tr>\n",
       "            <td>3            </td>\n",
       "        </tr>\n",
       "        <tr>\n",
       "            <td>2            </td>\n",
       "        </tr>\n",
       "        <tr>\n",
       "            <td>3            </td>\n",
       "        </tr>\n",
       "        <tr>\n",
       "            <td>3            </td>\n",
       "        </tr>\n",
       "        <tr>\n",
       "            <td>3            </td>\n",
       "        </tr>\n",
       "        <tr>\n",
       "            <td>3            </td>\n",
       "        </tr>\n",
       "        <tr>\n",
       "            <td>4            </td>\n",
       "        </tr>\n",
       "        <tr>\n",
       "            <td>2            </td>\n",
       "        </tr>\n",
       "        <tr>\n",
       "            <td>2            </td>\n",
       "        </tr>\n",
       "        <tr>\n",
       "            <td>3            </td>\n",
       "        </tr>\n",
       "    </tbody>\n",
       "</table>\n",
       "<p>... (4990 rows omitted)</p>"
      ],
      "text/plain": [
       "Sample Median\n",
       "3\n",
       "2\n",
       "3\n",
       "3\n",
       "3\n",
       "3\n",
       "4\n",
       "2\n",
       "2\n",
       "3\n",
       "... (4990 rows omitted)"
      ]
     },
     "execution_count": 18,
     "metadata": {},
     "output_type": "execute_result"
    }
   ],
   "source": [
    "simulated_medians = Table().with_column('Sample Median', medians)\n",
    "simulated_medians"
   ]
  },
  {
   "cell_type": "markdown",
   "metadata": {},
   "source": [
    "We can visualize the simulated data using a histogram. The histogram is called an **empirical histogram of the statistic**. It displays the **empirical distribution** of the statistic. Recall that **empirical** means **observed**."
   ]
  },
  {
   "cell_type": "code",
   "execution_count": 19,
   "metadata": {},
   "outputs": [
    {
     "data": {
      "image/png": "[encoded data removed]",
      "text/plain": [
       "<Figure size 432x288 with 1 Axes>"
      ]
     },
     "metadata": {},
     "output_type": "display_data"
    }
   ],
   "source": [
    "simulated_medians.hist(bins=np.arange(0.5, 5, 1))"
   ]
  },
  {
   "cell_type": "markdown",
   "metadata": {},
   "source": [
    "We can see that the sample median is very likely to be close to 2, which was the value of the population median. Since samples of 1000 flight delays are likely to resemble the population of delays, it is not surprising that the median delays of those samples should be close to the median delay in the population. This is an example of how a statistic can provide a good estimate of a parameter."
   ]
  },
  {
   "cell_type": "markdown",
   "metadata": {},
   "source": [
    "## The Power of Simulation\n",
    "If we can generate all possible random samples of size 1000, we can figure out all possible values of the statistic (sample median) and the probabilities of all those values. We can also visualize all the values and the probabilities in the probability histogram of the statistic.\n",
    "\n",
    "But in many situations, the number of all possible samples is so large that they exceed the capacity of the computer. \n",
    "\n",
    "This is where **empirical histograms** comes in.\n",
    "\n",
    "By the **Law of Averages**, if the sample size is large and if you repeat the sampling process numerous times, the empirical histogram of the statistic would resemble the probability histogram of the statistic.\n",
    "\n",
    "This means **simulating random processes repeatedly is a way of approximating probability distributions** without **figuring out the probabilities mathematically or generating all possible random samples**. Thus computer simulations become a powerful tool in data science. They can help data scientists understand the properties of random quantities that would be complicated to analyze in other ways."
   ]
  },
  {
   "cell_type": "markdown",
   "metadata": {},
   "source": [
    "### At Least One 6\n",
    "**Roll a die 4 times. What's P(at least one 6)?**\n",
    "\n",
    "The probability of getting anything but 6 in a roll of die is:\n",
    "\\begin{equation*}\n",
    "P(1) + P(2) + P(3) + P(4) + P(5) = \\frac{5}{6}\n",
    "\\end{equation*}\n",
    "\n",
    "And thus, the probability of getting at least one 6 in a roll of die is:\n",
    "\\begin{equation*}\n",
    "P(no6)= 1 - \\frac{5}{6}\n",
    "\\end{equation*}\n",
    "\n",
    "If we roll a die twice, the probability of getting at least one 6 is:\n",
    "\\begin{equation*}\n",
    "P(no6)= 1 - (\\frac{5}{6})^2\n",
    "\\end{equation*}\n",
    "\n",
    "And thus, with rolling 4 times:\n",
    "\\begin{equation*}\n",
    "P(no6)= 1 - (\\frac{5}{6})^4\n",
    "\\end{equation*}"
   ]
  },
  {
   "cell_type": "code",
   "execution_count": null,
   "metadata": {},
   "outputs": [],
   "source": [
    "1 - ((5/6) * (5/6) * (5/6) * (5/6))"
   ]
  },
  {
   "cell_type": "markdown",
   "metadata": {},
   "source": [
    "Or you can write it the following way for convenience:"
   ]
  },
  {
   "cell_type": "code",
   "execution_count": null,
   "metadata": {},
   "outputs": [],
   "source": [
    "rolls = 4\n",
    "1 - (5/6)**rolls"
   ]
  },
  {
   "cell_type": "markdown",
   "metadata": {},
   "source": [
    "We can make a table out of above with varying number of rolls:"
   ]
  },
  {
   "cell_type": "code",
   "execution_count": null,
   "metadata": {},
   "outputs": [],
   "source": [
    "rolls = np.arange(1, 51, 1)\n",
    "\n",
    "probabilityOf6 = Table().with_columns(\n",
    "'Rolls', rolls,\n",
    "'Chance of at least one 6', 1 - (5/6)**rolls)\n",
    "\n",
    "probabilityOf6"
   ]
  },
  {
   "cell_type": "markdown",
   "metadata": {},
   "source": [
    "And if we make a scatter diagram out of the table above:"
   ]
  },
  {
   "cell_type": "code",
   "execution_count": null,
   "metadata": {},
   "outputs": [],
   "source": [
    "probabilityOf6.scatter('Rolls')"
   ]
  },
  {
   "cell_type": "markdown",
   "metadata": {},
   "source": [
    "From the plot above, we can see that as the number of rolls increase, the probability of getting at least one 6 becomes closer to 1. By 20 rolls, the probability of getting at least one 6 is almost close to 1!"
   ]
  },
  {
   "cell_type": "code",
   "execution_count": null,
   "metadata": {},
   "outputs": [],
   "source": [
    "probabilityOf6.where('Rolls', 20)"
   ]
  },
  {
   "cell_type": "markdown",
   "metadata": {},
   "source": [
    "Indeed, 97% of getting at least one 6 is relatively high!\n",
    "\n",
    "We can make a simulation of this by the following below:"
   ]
  },
  {
   "cell_type": "code",
   "execution_count": null,
   "metadata": {},
   "outputs": [],
   "source": [
    "# Roll a die 20 times and store the result of each roll in 'outcome'\n",
    "die = np.arange(1, 7)\n",
    "outcome = np.random.choice(die, 20)\n",
    "outcome"
   ]
  },
  {
   "cell_type": "code",
   "execution_count": null,
   "metadata": {},
   "outputs": [],
   "source": [
    "# Checks for every element in outcome whether the value is 6. For every True value, return 1\n",
    "np.count_nonzero(outcome ==6)"
   ]
  },
  {
   "cell_type": "code",
   "execution_count": null,
   "metadata": {},
   "outputs": [],
   "source": [
    "# Simulate how many times you successfully get at least one 6\n",
    "trials = 1000\n",
    "success = 0\n",
    "\n",
    "for i in np.arange(trials):\n",
    "    outcome = np.random.choice(die, 20)\n",
    "    # If within a trial, you get at least one 6, then increment success by 1 \n",
    "    if np.count_nonzero(outcome ==6) >= 1:\n",
    "        success = success + 1\n",
    "        \n",
    "success / trials"
   ]
  },
  {
   "cell_type": "markdown",
   "metadata": {},
   "source": [
    "# Statistics\n",
    "\n",
    "## Why Sample?\n",
    "\n",
    "`Probability` = given some assumptions about the world or something, you state that \"this is how the world should behave\".\n",
    "Example: assuming a die is fair, you make a theoretical prediction of the probability of getting at least one 6 in 50 rolls\n",
    "\n",
    "`Statistics` = Based on available data or observations or experiments that are already done, you make a judgment and prediction on how the world behaves\n",
    "\n",
    "In `probability`, theory and reality is connected by taking samples. In `statistics`, you use samples out of a population.\n",
    "\n",
    "## Estimation\n",
    "<img src = 'estimation.jpg' width = 500\\>\n",
    "\n",
    "## Terminology\n",
    "* **Parameter**: A number associated with the population\n",
    "* **Statistic**: A number calculated from the sample\n",
    "\n",
    "A statistic can be used as an **estimate** of a parameter"
   ]
  },
  {
   "cell_type": "markdown",
   "metadata": {},
   "source": [
    "Going back to our simulation example of at least getting one 6 from rolling a die:"
   ]
  },
  {
   "cell_type": "code",
   "execution_count": null,
   "metadata": {},
   "outputs": [],
   "source": [
    "# Simulate how many times you successfully get at least one 6\n",
    "trials = 1000\n",
    "success = 0\n",
    "\n",
    "for i in np.arange(trials):\n",
    "    outcome = np.random.choice(die, 20)\n",
    "    # If within a trial, you get at least one 6, then increment success by 1 \n",
    "    if np.count_nonzero(outcome ==6) >= 1:\n",
    "        success = success + 1\n",
    "        \n",
    "success / trials"
   ]
  },
  {
   "cell_type": "markdown",
   "metadata": {},
   "source": [
    "If we run the cell above multiple times, we would get varying results! We'll make this a function."
   ]
  },
  {
   "cell_type": "code",
   "execution_count": null,
   "metadata": {},
   "outputs": [],
   "source": [
    "def roll_20(trials):\n",
    "    # Simulate how many times you successfully get at least one 6\n",
    "    success = 0\n",
    "\n",
    "    for i in np.arange(trials):\n",
    "        outcome = np.random.choice(die, 20)\n",
    "        # If within a trial, you get at least one 6, then increment success by 1 \n",
    "        if np.count_nonzero(outcome ==6) >= 1:\n",
    "            success = success + 1\n",
    "\n",
    "    return success / trials\n",
    "\n",
    "roll_20(1000)"
   ]
  },
  {
   "cell_type": "markdown",
   "metadata": {},
   "source": [
    "We can make a table out of the results of executing the above function multiple times!"
   ]
  },
  {
   "cell_type": "code",
   "execution_count": null,
   "metadata": {},
   "outputs": [],
   "source": [
    "estimates = Table(['estimate'])\n",
    "for i in np.arange(200):\n",
    "    estimates.append([roll_20(1000)])\n",
    "estimates"
   ]
  },
  {
   "cell_type": "code",
   "execution_count": null,
   "metadata": {},
   "outputs": [],
   "source": [
    "# Create a bar chart out of the table above!\n",
    "estimates.group(0).barh(0)"
   ]
  },
  {
   "cell_type": "code",
   "execution_count": null,
   "metadata": {},
   "outputs": [],
   "source": [
    "estimates.hist(0)"
   ]
  },
  {
   "cell_type": "markdown",
   "metadata": {},
   "source": [
    "## How many enemy planes?\n",
    "In WW2, the allied forces tried to calculate how many airplanes the Germans had in total.\n",
    "\n",
    "### Assumptions\n",
    "* Planes have serial numbers (i.e. 1, 2, 3, ... N)\n",
    "* However, we don't know N\n",
    "\n",
    "We want to estimate N based on the serial numbers of the planes that we see.\n",
    "\n",
    "#### Main Assumptions\n",
    "The serial numbers of the planes that we see are a uniform random sample drawn with replacement from 1, 2, 3, ..., N\n",
    "\n",
    "#### Discussion Question\n",
    "If you saw these serial numbers, what would be your estimate of N?\n",
    "\\begin{equation*}\n",
    "170, 271, 285, 290, 48, 235, 24, 90, 291, 19\n",
    "\\end{equation*}\n",
    "\n",
    "**One idea**: 291. Take the largest one.\n",
    "\n",
    "#### The Largest Number Observed\n",
    "* Is it likely to be close to N?\n",
    "    * How likely?\n",
    "    * How close?\n",
    "    \n",
    "A few options:\n",
    "1. Try to calculate the probabilites and draw a probability histogram\n",
    "2. Simulate and draw an empirical histogram"
   ]
  },
  {
   "cell_type": "code",
   "execution_count": null,
   "metadata": {},
   "outputs": [],
   "source": [
    "N = 300\n",
    "serial = Table().with_column('Serial Number', np.arange(N))\n",
    "serial"
   ]
  },
  {
   "cell_type": "markdown",
   "metadata": {},
   "source": [
    "Above is a table containing the possible serial numbers of planes that you can see. Now let's say we take a sample of 30 from this table."
   ]
  },
  {
   "cell_type": "code",
   "execution_count": null,
   "metadata": {},
   "outputs": [],
   "source": [
    "serial.sample(30)"
   ]
  },
  {
   "cell_type": "markdown",
   "metadata": {},
   "source": [
    "We can grab the maximum number within the sample using `max`."
   ]
  },
  {
   "cell_type": "code",
   "execution_count": null,
   "metadata": {},
   "outputs": [],
   "source": [
    "serial.sample(30).column(0).max()"
   ]
  },
  {
   "cell_type": "markdown",
   "metadata": {},
   "source": [
    "Let's try to make a distribution out of it."
   ]
  },
  {
   "cell_type": "code",
   "execution_count": null,
   "metadata": {},
   "outputs": [],
   "source": [
    "sample_size = 30\n",
    "repetitions = 1000\n",
    "\n",
    "# 'maxes' is an array that collects all the maximums you get from running the for loop \n",
    "maxes = make_array()\n",
    "# The size of maxes should be the number of repetitions you do\n",
    "\n",
    "for i in np.arange(repetitions):\n",
    "    # Run a sample and store the result in the name 'sampleResult'\n",
    "    sampleResult = serial.sample(sample_size).column(0).max()\n",
    "    # add sampleResult to the 'maxes' array\n",
    "    maxes = np.append(maxes, sampleResult)\n",
    "    \n",
    "maxes"
   ]
  },
  {
   "cell_type": "markdown",
   "metadata": {},
   "source": [
    "We can make a table out fo the array above."
   ]
  },
  {
   "cell_type": "code",
   "execution_count": null,
   "metadata": {},
   "outputs": [],
   "source": [
    "estimates = Table().with_columns('Max serial number', maxes)\n",
    "estimates"
   ]
  },
  {
   "cell_type": "code",
   "execution_count": null,
   "metadata": {},
   "outputs": [],
   "source": [
    "#And again, we can make a histogram out of it!\n",
    "estimates.hist(0, bins = np.arange(1, 400, 10))"
   ]
  },
  {
   "cell_type": "markdown",
   "metadata": {},
   "source": [
    "## Verdict on the Estimate\n",
    "* The largest serial number observed is likely to be close to N\n",
    "* But it is also likely to underestimate N\n",
    "\n",
    "#### Another idea for an estimate\n",
    "Average of the serial numbers observed is roughly N/2. Thus,\n",
    "\\begin{equation*}\n",
    "N = Average \\times 2\n",
    "\\end{equation*}"
   ]
  },
  {
   "cell_type": "code",
   "execution_count": null,
   "metadata": {},
   "outputs": [],
   "source": [
    "sample_size = 30\n",
    "repetitions = 1000\n",
    " \n",
    "maxes = make_array()\n",
    "doubles = make_array()\n",
    "\n",
    "for i in np.arange(repetitions):\n",
    "    sample = serial.sample(sample_size).column(0) #'sample' contains all 30 numbers within a repetition\n",
    "    maxes = np.append(maxes, np.max(sample)) # Add the max of a sample to 'maxes'\n",
    "    doubles = np.append(doubles, np.average(sample) * 2)\n",
    "\n",
    "# Make a table that list the result of getting the max element vs the double of the average\n",
    "estimates = Table().with_columns(\n",
    "'Max serial number', maxes,\n",
    "'Average * 2', doubles)\n",
    "estimates"
   ]
  },
  {
   "cell_type": "code",
   "execution_count": null,
   "metadata": {},
   "outputs": [],
   "source": [
    "estimates.hist(bins = np.arange(1, 400, 10))"
   ]
  },
  {
   "cell_type": "code",
   "execution_count": null,
   "metadata": {},
   "outputs": [],
   "source": []
  }
 ],
 "metadata": {
  "kernelspec": {
   "display_name": "Python 3",
   "language": "python",
   "name": "python3"
  },
  "language_info": {
   "codemirror_mode": {
    "name": "ipython",
    "version": 3
   },
   "file_extension": ".py",
   "mimetype": "text/x-python",
   "name": "python",
   "nbconvert_exporter": "python",
   "pygments_lexer": "ipython3",
   "version": "3.7.1"
  }
 },
 "nbformat": 4,
 "nbformat_minor": 1
}
