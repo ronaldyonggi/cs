{
 "cells": [
  {
   "cell_type": "code",
   "execution_count": 1,
   "metadata": {},
   "outputs": [],
   "source": [
    "from datascience import *\n",
    "import numpy as np\n",
    "%matplotlib inline\n",
    "import matplotlib.pyplot as plots\n",
    "plots.style.use('fivethirtyeight')\n",
    "\n",
    "from ipywidgets import interact, interactive, fixed, interact_manual\n",
    "import ipywidgets as widgets"
   ]
  },
  {
   "cell_type": "markdown",
   "metadata": {},
   "source": [
    "# Recap: How Many Enemy Planes?\n",
    "Recall from previous lecture that we were trying to estimate the number of enemy warplanes from the observed serial numbers.\n",
    "\n",
    "## Assumptions\n",
    "1. Planes have serial numbers 1, 2, 3, ..., N\n",
    "2. We don't know N\n",
    "3. We want to estimate N based on the serial numbers of planes that we see\n",
    "\n",
    "**Main assumption**: The serial numbers that we see are a uniform random sample drawn with replacement from 1, 2, 3, ..., N"
   ]
  },
  {
   "cell_type": "markdown",
   "metadata": {},
   "source": [
    "## Demo\n",
    "We have the code below. Assume we don't know N, and we want to know what N is."
   ]
  },
  {
   "cell_type": "code",
   "execution_count": 2,
   "metadata": {},
   "outputs": [],
   "source": [
    "# N is the number of the letter Z's in all of Shakespeare's plays. But assume that we don't know N is 1020.\n",
    "N = 1020 \n",
    "sample_size = 30\n",
    "population = Table().with_column('Serial number', np.arange(N)+1)\n",
    "observation = population.sample(sample_size).column(0)"
   ]
  },
  {
   "cell_type": "markdown",
   "metadata": {},
   "source": [
    "And when we take a sample, the numbers that we see is the following,"
   ]
  },
  {
   "cell_type": "code",
   "execution_count": 3,
   "metadata": {},
   "outputs": [
    {
     "data": {
      "text/plain": [
       "array([ 331,  801,  981,  865,  374,   21,  463,  592,  884,  604,   58,\n",
       "        471,  317,  438,  390,  597,  355,  594,  493, 1005,  124,  852,\n",
       "        962, 1019,  897,  272,   94,   68,  388,  613])"
      ]
     },
     "execution_count": 3,
     "metadata": {},
     "output_type": "execute_result"
    }
   ],
   "source": [
    "observation"
   ]
  },
  {
   "cell_type": "markdown",
   "metadata": {},
   "source": [
    "#### From the observation above, what is N?\n",
    "\n",
    "Some hints: the `max` is as the following,"
   ]
  },
  {
   "cell_type": "code",
   "execution_count": 4,
   "metadata": {},
   "outputs": [
    {
     "data": {
      "text/plain": [
       "1019"
      ]
     },
     "execution_count": 4,
     "metadata": {},
     "output_type": "execute_result"
    }
   ],
   "source": [
    "observation.max()"
   ]
  },
  {
   "cell_type": "markdown",
   "metadata": {},
   "source": [
    "Another hint: the `average` is as the following,"
   ]
  },
  {
   "cell_type": "code",
   "execution_count": 5,
   "metadata": {},
   "outputs": [
    {
     "data": {
      "text/plain": [
       "530.7666666666667"
      ]
     },
     "execution_count": 5,
     "metadata": {},
     "output_type": "execute_result"
    }
   ],
   "source": [
    "np.average(observation)"
   ]
  },
  {
   "cell_type": "markdown",
   "metadata": {},
   "source": [
    "From previous lecture, we have 2 approaches:  **Maxes** and **Twice the average**"
   ]
  },
  {
   "cell_type": "code",
   "execution_count": 6,
   "metadata": {},
   "outputs": [
    {
     "data": {
      "text/html": [
       "<table border=\"1\" class=\"dataframe\">\n",
       "    <thead>\n",
       "        <tr>\n",
       "            <th>Max</th> <th>Twice the average</th>\n",
       "        </tr>\n",
       "    </thead>\n",
       "    <tbody>\n",
       "        <tr>\n",
       "            <td>1004</td> <td>1048.07          </td>\n",
       "        </tr>\n",
       "        <tr>\n",
       "            <td>960 </td> <td>1063.47          </td>\n",
       "        </tr>\n",
       "        <tr>\n",
       "            <td>1015</td> <td>1146.27          </td>\n",
       "        </tr>\n",
       "        <tr>\n",
       "            <td>959 </td> <td>902.867          </td>\n",
       "        </tr>\n",
       "        <tr>\n",
       "            <td>1011</td> <td>863.8            </td>\n",
       "        </tr>\n",
       "        <tr>\n",
       "            <td>1006</td> <td>953.933          </td>\n",
       "        </tr>\n",
       "        <tr>\n",
       "            <td>975 </td> <td>1024.53          </td>\n",
       "        </tr>\n",
       "        <tr>\n",
       "            <td>1006</td> <td>1016.8           </td>\n",
       "        </tr>\n",
       "        <tr>\n",
       "            <td>1010</td> <td>1246.6           </td>\n",
       "        </tr>\n",
       "        <tr>\n",
       "            <td>984 </td> <td>927.667          </td>\n",
       "        </tr>\n",
       "    </tbody>\n",
       "</table>\n",
       "<p>... (990 rows omitted)</p>"
      ],
      "text/plain": [
       "Max  | Twice the average\n",
       "1004 | 1048.07\n",
       "960  | 1063.47\n",
       "1015 | 1146.27\n",
       "959  | 902.867\n",
       "1011 | 863.8\n",
       "1006 | 953.933\n",
       "975  | 1024.53\n",
       "1006 | 1016.8\n",
       "1010 | 1246.6\n",
       "984  | 927.667\n",
       "... (990 rows omitted)"
      ]
     },
     "execution_count": 6,
     "metadata": {},
     "output_type": "execute_result"
    }
   ],
   "source": [
    "maxes = make_array()   # max(observations)\n",
    "doubles = make_array() # 2 * np.average(observations)\n",
    "\n",
    "for i in np.arange(1000):\n",
    "    observation = population.sample(sample_size).column(0)\n",
    "    maxes = np.append(maxes, max(observation))\n",
    "    doubles = np.append(doubles, 2 * np.average(observation))\n",
    "\n",
    "estimates = Table().with_columns(\n",
    "    'Max', maxes,\n",
    "    'Twice the average', doubles\n",
    ")\n",
    "\n",
    "estimates"
   ]
  },
  {
   "cell_type": "markdown",
   "metadata": {},
   "source": [
    "If we create a histogram based on the table above, it would look like the following,"
   ]
  },
  {
   "cell_type": "code",
   "execution_count": 7,
   "metadata": {},
   "outputs": [
    {
     "data": {
      "image/png": "[encoded data removed]",
      "text/plain": [
       "<Figure size 432x288 with 1 Axes>"
      ]
     },
     "metadata": {},
     "output_type": "display_data"
    }
   ],
   "source": [
    "every_ten = np.arange(1, N+300, 10)\n",
    "estimates.hist(bins=every_ten)"
   ]
  },
  {
   "cell_type": "markdown",
   "metadata": {},
   "source": [
    "From above, we can say that\n",
    "1. The `max` estimator resulted in around 1000 (or slightly more than 1000)\n",
    "2. The `Twice the average` estimator resulted in a more spread out distribution, centered around 1000\n",
    "\n",
    "This observation can be related to the idea of **bias and variance**"
   ]
  },
  {
   "cell_type": "markdown",
   "metadata": {},
   "source": [
    "# Bias & Variance\n",
    "\n",
    "## Bias\n",
    "* **Biased estimate**: On average across all possible samples, the estimate is either too high or too low\n",
    "* Bias creates a systematic error in one direction\n",
    "    * Example: `max` estimator gives an estimate that's, on average, slightly less than N \n",
    "* Good estimates typically have low bias"
   ]
  },
  {
   "cell_type": "markdown",
   "metadata": {},
   "source": [
    "## Variability\n",
    "In this case, variability refers to how spread out our estimation is\n",
    "\n",
    "* The degree to which the value of an estimate **varies** from one sample to another\n",
    "    * How spread out the estimate is\n",
    "* High variability makes it hard to estimate accurately\n",
    "    * Example: `Twice the average` estimates are more spread out, so we're less certain that the estimate would be an estimate that is close to N.\n",
    "* Good estimates typically have low variability\n",
    "\n",
    "**Unfortunately**, bias and variability complement each other.\n",
    "<img src = 'bias.jpg' width = 600\\>"
   ]
  },
  {
   "cell_type": "markdown",
   "metadata": {},
   "source": [
    "## Bias-Variance Trade-off\n",
    "* The `max` estimate has low variability, but it is biased\n",
    "* `Twice the average` estimate has little bias, but highly variable\n",
    "\n",
    "### Is there an estimator that's both low in bias and variability?\n",
    "\n",
    "### An Idea: `Twice the Median` Estimator"
   ]
  },
  {
   "cell_type": "code",
   "execution_count": 8,
   "metadata": {},
   "outputs": [
    {
     "data": {
      "text/html": [
       "<table border=\"1\" class=\"dataframe\">\n",
       "    <thead>\n",
       "        <tr>\n",
       "            <th>Max</th> <th>2 * average</th> <th>2 * median</th>\n",
       "        </tr>\n",
       "    </thead>\n",
       "    <tbody>\n",
       "        <tr>\n",
       "            <td>1008</td> <td>1056.13    </td> <td>1147      </td>\n",
       "        </tr>\n",
       "        <tr>\n",
       "            <td>1008</td> <td>1069       </td> <td>985       </td>\n",
       "        </tr>\n",
       "        <tr>\n",
       "            <td>991 </td> <td>897.867    </td> <td>737       </td>\n",
       "        </tr>\n",
       "        <tr>\n",
       "            <td>1008</td> <td>932.667    </td> <td>746       </td>\n",
       "        </tr>\n",
       "        <tr>\n",
       "            <td>1008</td> <td>1053.87    </td> <td>1030      </td>\n",
       "        </tr>\n",
       "        <tr>\n",
       "            <td>1012</td> <td>1105.8     </td> <td>1001      </td>\n",
       "        </tr>\n",
       "        <tr>\n",
       "            <td>942 </td> <td>1094.73    </td> <td>1104      </td>\n",
       "        </tr>\n",
       "        <tr>\n",
       "            <td>1011</td> <td>1120.87    </td> <td>1028      </td>\n",
       "        </tr>\n",
       "        <tr>\n",
       "            <td>967 </td> <td>933.2      </td> <td>1026      </td>\n",
       "        </tr>\n",
       "        <tr>\n",
       "            <td>1016</td> <td>1045.93    </td> <td>1115      </td>\n",
       "        </tr>\n",
       "    </tbody>\n",
       "</table>\n",
       "<p>... (990 rows omitted)</p>"
      ],
      "text/plain": [
       "Max  | 2 * average | 2 * median\n",
       "1008 | 1056.13     | 1147\n",
       "1008 | 1069        | 985\n",
       "991  | 897.867     | 737\n",
       "1008 | 932.667     | 746\n",
       "1008 | 1053.87     | 1030\n",
       "1012 | 1105.8      | 1001\n",
       "942  | 1094.73     | 1104\n",
       "1011 | 1120.87     | 1028\n",
       "967  | 933.2       | 1026\n",
       "1016 | 1045.93     | 1115\n",
       "... (990 rows omitted)"
      ]
     },
     "execution_count": 8,
     "metadata": {},
     "output_type": "execute_result"
    }
   ],
   "source": [
    "maxes = make_array()   # max(observations)\n",
    "doubles = make_array() # 2 * np.average(observations)\n",
    "double_median = make_array() # 2 * np.median(observations)\n",
    "\n",
    "for i in np.arange(1000):\n",
    "    observation = population.sample(sample_size).column(0)\n",
    "    maxes = np.append(maxes, max(observation))\n",
    "    doubles = np.append(doubles, 2 * np.average(observation))\n",
    "    double_median = np.append(double_median, 2 * np.median(observation))\n",
    "\n",
    "estimates = Table().with_columns(\n",
    "    'Max', maxes,\n",
    "    '2 * average', doubles,\n",
    "    '2 * median', double_median,\n",
    ")\n",
    "\n",
    "estimates"
   ]
  },
  {
   "cell_type": "code",
   "execution_count": 9,
   "metadata": {},
   "outputs": [
    {
     "data": {
      "image/png": "[encoded data removed]",
      "text/plain": [
       "<Figure size 432x288 with 1 Axes>"
      ]
     },
     "metadata": {},
     "output_type": "display_data"
    }
   ],
   "source": [
    "estimates.hist(bins=every_ten)"
   ]
  },
  {
   "cell_type": "markdown",
   "metadata": {},
   "source": [
    "Turns out the `Twice the median` estimator is more spread out than the `Twice the average` estimator! \n",
    "\n",
    "So what's a good estimator then?\n",
    "\n",
    "Notice that the `max` estimator is just a little off from the actual N, but biased towards negative. What about taking the `max` distribution and shift it a little to the right? This can be done by adding the `max` number with the `min` number!\n",
    "\n",
    "### Max + Min Estimator\n",
    "Instead of just taking the `max` number, we take the `max` and `min`, then add them together. If the planes serial number are numbered 1 to 100 and we take a sample of 3 planes, chances are we can get serial numbers of 25, 50, and 75. From these 3, if we add the `min`, 25, with the `max`, 75, we get back 100! \n",
    "\n",
    "Below is the code from `max` estimator and `Twice the average` estimator, but with additional `max_plus_min` estimator."
   ]
  },
  {
   "cell_type": "code",
   "execution_count": 13,
   "metadata": {},
   "outputs": [
    {
     "data": {
      "text/html": [
       "<table border=\"1\" class=\"dataframe\">\n",
       "    <thead>\n",
       "        <tr>\n",
       "            <th>Max</th> <th>Twice the average</th> <th>Max + min</th>\n",
       "        </tr>\n",
       "    </thead>\n",
       "    <tbody>\n",
       "        <tr>\n",
       "            <td>983 </td> <td>986.467          </td> <td>985      </td>\n",
       "        </tr>\n",
       "        <tr>\n",
       "            <td>960 </td> <td>1089.4           </td> <td>981      </td>\n",
       "        </tr>\n",
       "        <tr>\n",
       "            <td>965 </td> <td>1119.13          </td> <td>1022     </td>\n",
       "        </tr>\n",
       "        <tr>\n",
       "            <td>1003</td> <td>1022.93          </td> <td>1006     </td>\n",
       "        </tr>\n",
       "        <tr>\n",
       "            <td>987 </td> <td>938.8            </td> <td>995      </td>\n",
       "        </tr>\n",
       "        <tr>\n",
       "            <td>1009</td> <td>1193.27          </td> <td>1033     </td>\n",
       "        </tr>\n",
       "        <tr>\n",
       "            <td>1014</td> <td>1041.4           </td> <td>1076     </td>\n",
       "        </tr>\n",
       "        <tr>\n",
       "            <td>1019</td> <td>1095.47          </td> <td>1055     </td>\n",
       "        </tr>\n",
       "        <tr>\n",
       "            <td>992 </td> <td>1072.27          </td> <td>1019     </td>\n",
       "        </tr>\n",
       "        <tr>\n",
       "            <td>1018</td> <td>1016.27          </td> <td>1034     </td>\n",
       "        </tr>\n",
       "    </tbody>\n",
       "</table>\n",
       "<p>... (990 rows omitted)</p>"
      ],
      "text/plain": [
       "Max  | Twice the average | Max + min\n",
       "983  | 986.467           | 985\n",
       "960  | 1089.4            | 981\n",
       "965  | 1119.13           | 1022\n",
       "1003 | 1022.93           | 1006\n",
       "987  | 938.8             | 995\n",
       "1009 | 1193.27           | 1033\n",
       "1014 | 1041.4            | 1076\n",
       "1019 | 1095.47           | 1055\n",
       "992  | 1072.27           | 1019\n",
       "1018 | 1016.27           | 1034\n",
       "... (990 rows omitted)"
      ]
     },
     "execution_count": 13,
     "metadata": {},
     "output_type": "execute_result"
    }
   ],
   "source": [
    "maxes = make_array()    # max(observations)\n",
    "doubles = make_array()  # 2 * np.average(observations)\n",
    "max_plus_min = make_array() # clever(observation)\n",
    "\n",
    "for i in np.arange(1000):\n",
    "    observation = population.sample(sample_size).column(0)\n",
    "    maxes = np.append(maxes, max(observation))\n",
    "    doubles = np.append(doubles, 2 * np.average(observation))\n",
    "    max_plus_min = np.append(max_plus_min,\n",
    "                             np.max(observation) + np.min(observation))\n",
    "\n",
    "estimates = Table().with_columns(\n",
    "    'Max', maxes,\n",
    "    'Twice the average', doubles,\n",
    "    'Max + min', max_plus_min,\n",
    ")\n",
    "\n",
    "estimates"
   ]
  },
  {
   "cell_type": "markdown",
   "metadata": {},
   "source": [
    "Let's create the distribution from the table above!"
   ]
  },
  {
   "cell_type": "code",
   "execution_count": 14,
   "metadata": {},
   "outputs": [
    {
     "data": {
      "image/png": "[encoded data removed]",
      "text/plain": [
       "<Figure size 432x288 with 1 Axes>"
      ]
     },
     "metadata": {},
     "output_type": "display_data"
    }
   ],
   "source": [
    "estimates.hist(bins=every_ten)"
   ]
  },
  {
   "cell_type": "markdown",
   "metadata": {},
   "source": [
    "It appears that the `Max + min` estimator is centered around 1020 and more narrow than the `Twice the average` estimator! It appears that the `Max + min` estimator is indeed the better estimator compared to the 2 others.\n",
    "\n",
    "#### How do we measure variability?\n",
    "On average, how far are our observed estimate from the average estimate?\n",
    "\n",
    "We can calculate the variability by:\n",
    "1. Take the average of the estimates\n",
    "2. Take the absolute difference between each estimates and the average of estimates\n",
    "3. Take the average of the differences\n",
    "\n",
    "Below is an example of how we measure the `Max` estimator's variablity,"
   ]
  },
  {
   "cell_type": "code",
   "execution_count": 15,
   "metadata": {},
   "outputs": [
    {
     "data": {
      "text/html": [
       "<table border=\"1\" class=\"dataframe\">\n",
       "    <thead>\n",
       "        <tr>\n",
       "            <th>Max</th> <th>Twice the average</th> <th>Max + min</th>\n",
       "        </tr>\n",
       "    </thead>\n",
       "    <tbody>\n",
       "        <tr>\n",
       "            <td>983 </td> <td>986.467          </td> <td>985      </td>\n",
       "        </tr>\n",
       "        <tr>\n",
       "            <td>960 </td> <td>1089.4           </td> <td>981      </td>\n",
       "        </tr>\n",
       "        <tr>\n",
       "            <td>965 </td> <td>1119.13          </td> <td>1022     </td>\n",
       "        </tr>\n",
       "        <tr>\n",
       "            <td>1003</td> <td>1022.93          </td> <td>1006     </td>\n",
       "        </tr>\n",
       "        <tr>\n",
       "            <td>987 </td> <td>938.8            </td> <td>995      </td>\n",
       "        </tr>\n",
       "        <tr>\n",
       "            <td>1009</td> <td>1193.27          </td> <td>1033     </td>\n",
       "        </tr>\n",
       "        <tr>\n",
       "            <td>1014</td> <td>1041.4           </td> <td>1076     </td>\n",
       "        </tr>\n",
       "        <tr>\n",
       "            <td>1019</td> <td>1095.47          </td> <td>1055     </td>\n",
       "        </tr>\n",
       "        <tr>\n",
       "            <td>992 </td> <td>1072.27          </td> <td>1019     </td>\n",
       "        </tr>\n",
       "        <tr>\n",
       "            <td>1018</td> <td>1016.27          </td> <td>1034     </td>\n",
       "        </tr>\n",
       "    </tbody>\n",
       "</table>\n",
       "<p>... (990 rows omitted)</p>"
      ],
      "text/plain": [
       "Max  | Twice the average | Max + min\n",
       "983  | 986.467           | 985\n",
       "960  | 1089.4            | 981\n",
       "965  | 1119.13           | 1022\n",
       "1003 | 1022.93           | 1006\n",
       "987  | 938.8             | 995\n",
       "1009 | 1193.27           | 1033\n",
       "1014 | 1041.4            | 1076\n",
       "1019 | 1095.47           | 1055\n",
       "992  | 1072.27           | 1019\n",
       "1018 | 1016.27           | 1034\n",
       "... (990 rows omitted)"
      ]
     },
     "execution_count": 15,
     "metadata": {},
     "output_type": "execute_result"
    }
   ],
   "source": [
    "estimates"
   ]
  },
  {
   "cell_type": "markdown",
   "metadata": {},
   "source": [
    "Let's take the average of the `max` estimates."
   ]
  },
  {
   "cell_type": "code",
   "execution_count": 16,
   "metadata": {},
   "outputs": [
    {
     "data": {
      "text/plain": [
       "988.085"
      ]
     },
     "execution_count": 16,
     "metadata": {},
     "output_type": "execute_result"
    }
   ],
   "source": [
    "estimates.column(0).mean()"
   ]
  },
  {
   "cell_type": "markdown",
   "metadata": {},
   "source": [
    "Now we can subtract each value in the `Max` column with the average that we calculated above and take the absolute value."
   ]
  },
  {
   "cell_type": "code",
   "execution_count": 18,
   "metadata": {},
   "outputs": [
    {
     "data": {
      "text/plain": [
       "array([5.08500e+00, 2.80850e+01, 2.30850e+01, 1.49150e+01, 1.08500e+00,\n",
       "       2.09150e+01, 2.59150e+01, 3.09150e+01, 3.91500e+00, 2.99150e+01,\n",
       "       8.91500e+00, 9.08500e+00, 3.19150e+01, 2.99150e+01, 2.29150e+01,\n",
       "       2.69150e+01, 3.40850e+01, 2.99150e+01, 2.89150e+01, 2.39150e+01,\n",
       "       1.10850e+01, 1.39150e+01, 4.60850e+01, 1.29150e+01, 2.19150e+01,\n",
       "       2.09150e+01, 2.89150e+01, 2.69150e+01, 8.20850e+01, 6.08500e+00,\n",
       "       1.09150e+01, 9.90850e+01, 2.90850e+01, 2.69150e+01, 3.09150e+01,\n",
       "       2.09150e+01, 6.08500e+00, 1.69150e+01, 1.49150e+01, 2.59150e+01,\n",
       "       1.89150e+01, 2.10850e+01, 2.10850e+01, 1.19150e+01, 2.08500e+00,\n",
       "       4.50850e+01, 4.08500e+00, 2.08500e+00, 2.89150e+01, 1.20850e+01,\n",
       "       1.37085e+02, 2.89150e+01, 1.19150e+01, 1.89150e+01, 2.99150e+01,\n",
       "       3.00850e+01, 7.91500e+00, 2.79150e+01, 2.69150e+01, 4.00850e+01,\n",
       "       6.00850e+01, 1.29150e+01, 3.19150e+01, 1.89150e+01, 3.19150e+01,\n",
       "       1.69150e+01, 1.59150e+01, 7.91500e+00, 2.10850e+01, 4.00850e+01,\n",
       "       1.30850e+01, 1.09150e+01, 2.59150e+01, 1.69150e+01, 2.59150e+01,\n",
       "       2.90850e+01, 8.50000e-02, 1.89150e+01, 1.91500e+00, 1.00850e+01,\n",
       "       1.70850e+01, 3.08500e+00, 3.91500e+00, 1.59150e+01, 3.08500e+00,\n",
       "       2.49150e+01, 1.10850e+01, 7.50850e+01, 1.19150e+01, 6.91500e+00,\n",
       "       3.09150e+01, 2.09150e+01, 2.99150e+01, 9.15000e-01, 5.20850e+01,\n",
       "       1.49150e+01, 6.10850e+01, 1.09150e+01, 5.00850e+01, 4.10850e+01,\n",
       "       5.91500e+00, 8.50000e-02, 2.99150e+01, 2.59150e+01, 3.09150e+01,\n",
       "       2.89150e+01, 9.80850e+01, 1.39150e+01, 1.61085e+02, 3.10850e+01,\n",
       "       3.08500e+00, 4.50850e+01, 2.09150e+01, 9.91500e+00, 1.10850e+01,\n",
       "       2.99150e+01, 2.39150e+01, 2.39150e+01, 1.79150e+01, 1.70850e+01,\n",
       "       1.60850e+01, 1.89150e+01, 3.09150e+01, 1.99150e+01, 1.30850e+01,\n",
       "       8.08500e+00, 1.89150e+01, 2.79150e+01, 1.69150e+01, 8.08500e+00,\n",
       "       8.91500e+00, 2.79150e+01, 3.19150e+01, 2.79150e+01, 2.49150e+01,\n",
       "       2.49150e+01, 2.30850e+01, 6.91500e+00, 7.30850e+01, 4.08500e+00,\n",
       "       1.91500e+00, 4.60850e+01, 2.99150e+01, 1.49150e+01, 2.59150e+01,\n",
       "       3.80850e+01, 1.09150e+01, 1.50850e+01, 2.39150e+01, 2.40850e+01,\n",
       "       2.99150e+01, 1.00850e+01, 8.80850e+01, 2.19150e+01, 1.60850e+01,\n",
       "       5.30850e+01, 2.99150e+01, 5.08500e+00, 6.60850e+01, 2.89150e+01,\n",
       "       2.79150e+01, 1.20850e+01, 2.79150e+01, 3.09150e+01, 3.19150e+01,\n",
       "       2.79150e+01, 1.19150e+01, 1.19150e+01, 8.91500e+00, 2.19150e+01,\n",
       "       6.91500e+00, 3.30850e+01, 1.99150e+01, 4.00850e+01, 1.69150e+01,\n",
       "       3.50850e+01, 3.19150e+01, 6.91500e+00, 8.91500e+00, 2.59150e+01,\n",
       "       8.08500e+00, 1.91500e+00, 2.79150e+01, 2.09150e+01, 3.91500e+00,\n",
       "       1.20850e+01, 3.91500e+00, 3.70850e+01, 1.10850e+01, 1.99150e+01,\n",
       "       3.09150e+01, 1.69150e+01, 2.80850e+01, 2.19150e+01, 1.59150e+01,\n",
       "       3.70850e+01, 1.49150e+01, 2.38085e+02, 5.08500e+00, 6.91500e+00,\n",
       "       2.89150e+01, 3.70850e+01, 8.10850e+01, 1.59150e+01, 1.00850e+01,\n",
       "       6.91500e+00, 1.08500e+00, 1.59150e+01, 5.10850e+01, 2.79150e+01,\n",
       "       2.49150e+01, 9.91500e+00, 3.80850e+01, 1.08500e+00, 4.80850e+01,\n",
       "       3.19150e+01, 2.08500e+00, 1.09150e+01, 1.69150e+01, 1.69150e+01,\n",
       "       8.91500e+00, 2.39150e+01, 2.30850e+01, 2.79150e+01, 8.50000e-02,\n",
       "       1.19150e+01, 3.91500e+00, 2.79150e+01, 1.80850e+01, 2.29150e+01,\n",
       "       6.40850e+01, 3.80850e+01, 3.00850e+01, 2.29150e+01, 1.19150e+01,\n",
       "       2.59150e+01, 1.19150e+01, 7.00850e+01, 2.39150e+01, 9.08500e+00,\n",
       "       5.91500e+00, 5.90850e+01, 8.08500e+00, 2.79150e+01, 2.79150e+01,\n",
       "       8.50000e-02, 2.59150e+01, 2.59150e+01, 1.79150e+01, 2.09150e+01,\n",
       "       1.79150e+01, 5.91500e+00, 2.59150e+01, 2.91500e+00, 1.39150e+01,\n",
       "       3.19150e+01, 3.09150e+01, 3.09150e+01, 2.79150e+01, 1.80850e+01,\n",
       "       7.91500e+00, 8.91500e+00, 2.29150e+01, 2.49150e+01, 1.02085e+02,\n",
       "       4.50850e+01, 1.19150e+01, 2.91500e+00, 3.09150e+01, 3.30850e+01,\n",
       "       2.19150e+01, 2.49150e+01, 3.40850e+01, 1.91500e+00, 1.99150e+01,\n",
       "       2.59150e+01, 2.49150e+01, 5.40850e+01, 2.79150e+01, 8.08500e+00,\n",
       "       2.69150e+01, 4.91500e+00, 1.19150e+01, 8.50000e-02, 6.91500e+00,\n",
       "       2.40850e+01, 9.08500e+00, 3.19150e+01, 4.91500e+00, 2.29150e+01,\n",
       "       1.80850e+01, 3.19150e+01, 5.50850e+01, 1.80850e+01, 1.49150e+01,\n",
       "       2.89150e+01, 2.29150e+01, 3.91500e+00, 2.89150e+01, 2.80850e+01,\n",
       "       2.89150e+01, 2.19150e+01, 3.00850e+01, 2.69150e+01, 7.91500e+00,\n",
       "       4.20850e+01, 8.08500e+00, 3.19150e+01, 4.91500e+00, 1.79150e+01,\n",
       "       2.79150e+01, 7.91500e+00, 1.10850e+01, 7.91500e+00, 1.89150e+01,\n",
       "       3.60850e+01, 2.49150e+01, 2.50850e+01, 3.19150e+01, 1.39150e+01,\n",
       "       2.49150e+01, 6.08500e+00, 2.89150e+01, 2.69150e+01, 1.49150e+01,\n",
       "       2.59150e+01, 1.39150e+01, 1.19150e+01, 1.79150e+01, 9.91500e+00,\n",
       "       2.09150e+01, 2.69150e+01, 7.91500e+00, 7.08500e+00, 2.49150e+01,\n",
       "       2.08500e+00, 3.90850e+01, 1.70850e+01, 2.19150e+01, 2.49150e+01,\n",
       "       2.91500e+00, 9.15000e-01, 2.59150e+01, 1.49150e+01, 2.10850e+01,\n",
       "       2.79150e+01, 1.69150e+01, 3.19150e+01, 4.20850e+01, 1.14085e+02,\n",
       "       2.29150e+01, 8.50000e-02, 7.08500e+00, 1.09150e+01, 3.20850e+01,\n",
       "       1.09085e+02, 8.08500e+00, 2.08500e+00, 1.09150e+01, 2.09150e+01,\n",
       "       3.10850e+01, 7.60850e+01, 6.91500e+00, 2.29150e+01, 1.49150e+01,\n",
       "       1.29150e+01, 6.90850e+01, 3.19150e+01, 1.91500e+00, 4.08500e+00,\n",
       "       7.91500e+00, 1.19150e+01, 4.60850e+01, 4.08500e+00, 2.69150e+01,\n",
       "       6.91500e+00, 1.69150e+01, 1.49150e+01, 9.08500e+00, 2.20850e+01,\n",
       "       8.91500e+00, 6.90850e+01, 8.08500e+00, 1.39150e+01, 2.59150e+01,\n",
       "       2.60850e+01, 6.80850e+01, 6.08500e+00, 2.89150e+01, 8.91500e+00,\n",
       "       1.70850e+01, 4.08500e+00, 2.70850e+01, 2.50850e+01, 2.39150e+01,\n",
       "       6.20850e+01, 1.50850e+01, 1.80850e+01, 1.70850e+01, 3.40850e+01,\n",
       "       4.20850e+01, 3.09150e+01, 9.15000e-01, 6.90850e+01, 1.29150e+01,\n",
       "       1.05085e+02, 6.91500e+00, 1.69150e+01, 2.99150e+01, 9.15000e-01,\n",
       "       1.91500e+00, 2.19150e+01, 2.08500e+00, 1.09150e+01, 1.79150e+01,\n",
       "       1.20850e+01, 1.49150e+01, 2.69150e+01, 3.09150e+01, 1.99150e+01,\n",
       "       2.08500e+00, 9.91500e+00, 8.50000e-02, 5.00850e+01, 1.08500e+00,\n",
       "       2.20850e+01, 1.79150e+01, 9.91500e+00, 9.60850e+01, 1.70850e+01,\n",
       "       1.19150e+01, 9.91500e+00, 2.80850e+01, 1.10850e+01, 1.59150e+01,\n",
       "       6.08500e+00, 7.08500e+00, 6.40850e+01, 2.59150e+01, 3.60850e+01,\n",
       "       2.39150e+01, 2.59150e+01, 2.09150e+01, 2.69150e+01, 2.99150e+01,\n",
       "       2.29150e+01, 2.09150e+01, 1.08500e+00, 9.50850e+01, 2.90850e+01,\n",
       "       3.20850e+01, 5.91500e+00, 3.19150e+01, 2.59150e+01, 2.89150e+01,\n",
       "       2.99150e+01, 2.29150e+01, 9.15000e-01, 2.59150e+01, 2.39150e+01,\n",
       "       4.91500e+00, 9.15000e-01, 1.40850e+01, 2.91500e+00, 1.49150e+01,\n",
       "       1.89150e+01, 2.29150e+01, 1.08500e+00, 4.40850e+01, 2.49150e+01,\n",
       "       1.40850e+01, 2.09150e+01, 4.00850e+01, 1.20850e+01, 2.29150e+01,\n",
       "       3.09150e+01, 9.50850e+01, 1.08500e+00, 2.99150e+01, 8.08500e+00,\n",
       "       2.89150e+01, 1.30850e+01, 1.30850e+01, 2.59150e+01, 8.91500e+00,\n",
       "       1.60850e+01, 2.89150e+01, 1.89150e+01, 2.89150e+01, 2.59150e+01,\n",
       "       1.30850e+01, 9.00850e+01, 2.59150e+01, 5.08500e+00, 3.19150e+01,\n",
       "       2.79150e+01, 1.70850e+01, 6.10850e+01, 4.20850e+01, 6.70850e+01,\n",
       "       2.91500e+00, 3.19150e+01, 1.40850e+01, 7.08500e+00, 1.99150e+01,\n",
       "       6.91500e+00, 2.49150e+01, 1.99150e+01, 1.99150e+01, 4.40850e+01,\n",
       "       1.40850e+01, 3.09150e+01, 1.09150e+01, 1.19150e+01, 1.29150e+01,\n",
       "       1.90850e+01, 2.20850e+01, 6.08500e+00, 2.09150e+01, 3.08500e+00,\n",
       "       4.80850e+01, 1.59150e+01, 7.50850e+01, 2.00850e+01, 9.08500e+00,\n",
       "       2.49150e+01, 3.60850e+01, 1.99150e+01, 2.30850e+01, 9.08500e+00,\n",
       "       2.89150e+01, 3.08500e+00, 2.89150e+01, 2.89150e+01, 5.08500e+00,\n",
       "       2.80850e+01, 2.59150e+01, 3.08500e+00, 5.70850e+01, 2.09150e+01,\n",
       "       1.08500e+00, 1.09150e+01, 2.09150e+01, 2.00850e+01, 1.69150e+01,\n",
       "       7.08500e+00, 1.09150e+01, 3.91500e+00, 1.79150e+01, 1.30850e+01,\n",
       "       1.70850e+01, 2.80850e+01, 2.09150e+01, 3.00850e+01, 4.20850e+01,\n",
       "       1.50850e+01, 2.59150e+01, 3.19150e+01, 3.19150e+01, 1.89150e+01,\n",
       "       2.49150e+01, 2.70850e+01, 1.19150e+01, 4.20850e+01, 1.19150e+01,\n",
       "       2.99150e+01, 1.39150e+01, 1.00850e+01, 2.99150e+01, 1.49150e+01,\n",
       "       2.59150e+01, 1.00850e+01, 4.10850e+01, 6.91500e+00, 4.30850e+01,\n",
       "       1.60850e+01, 1.40850e+01, 3.91500e+00, 2.29150e+01, 3.19150e+01,\n",
       "       8.91500e+00, 2.89150e+01, 2.59150e+01, 2.09150e+01, 1.29150e+01,\n",
       "       9.91500e+00, 2.59150e+01, 3.91500e+00, 2.79150e+01, 7.91500e+00,\n",
       "       2.90850e+01, 8.10850e+01, 1.99150e+01, 1.99150e+01, 1.29150e+01,\n",
       "       1.08500e+00, 2.29150e+01, 1.79150e+01, 1.29150e+01, 2.89150e+01,\n",
       "       1.10850e+01, 2.59150e+01, 1.59150e+01, 9.15000e-01, 2.59150e+01,\n",
       "       2.99150e+01, 7.91500e+00, 2.69150e+01, 7.91500e+00, 8.50850e+01,\n",
       "       4.50850e+01, 2.49150e+01, 3.60850e+01, 2.80850e+01, 2.19150e+01,\n",
       "       4.91500e+00, 2.89150e+01, 2.79150e+01, 2.79150e+01, 4.91500e+00,\n",
       "       3.08500e+00, 3.09150e+01, 1.29150e+01, 2.79150e+01, 3.00850e+01,\n",
       "       2.50850e+01, 4.40850e+01, 8.91500e+00, 1.80850e+01, 3.19150e+01,\n",
       "       1.39150e+01, 2.10850e+01, 4.91500e+00, 3.10850e+01, 1.19150e+01,\n",
       "       6.08500e+00, 4.20850e+01, 2.19150e+01, 2.29150e+01, 8.91500e+00,\n",
       "       1.79150e+01, 1.00850e+01, 1.69150e+01, 8.10850e+01, 1.89150e+01,\n",
       "       4.80850e+01, 4.08500e+00, 2.79150e+01, 2.19150e+01, 1.69150e+01,\n",
       "       1.20850e+01, 1.91500e+00, 3.09150e+01, 9.91500e+00, 1.59150e+01,\n",
       "       2.39150e+01, 2.49150e+01, 5.60850e+01, 6.08500e+00, 4.91500e+00,\n",
       "       1.49150e+01, 7.30850e+01, 1.09150e+01, 1.69150e+01, 1.19150e+01,\n",
       "       1.80850e+01, 3.90850e+01, 2.29150e+01, 1.69150e+01, 1.91500e+00,\n",
       "       2.49150e+01, 2.19150e+01, 1.39150e+01, 3.09150e+01, 2.79150e+01,\n",
       "       2.89150e+01, 9.91500e+00, 1.30850e+01, 5.70850e+01, 8.50000e-02,\n",
       "       3.91500e+00, 2.59150e+01, 2.79150e+01, 9.15000e-01, 2.19150e+01,\n",
       "       9.08500e+00, 1.00850e+01, 5.91500e+00, 2.49150e+01, 2.39150e+01,\n",
       "       8.60850e+01, 3.91500e+00, 3.19150e+01, 2.70850e+01, 1.49150e+01,\n",
       "       1.39150e+01, 1.69150e+01, 4.08500e+00, 1.70850e+01, 1.99150e+01,\n",
       "       2.79150e+01, 6.60850e+01, 2.39150e+01, 2.90850e+01, 2.29150e+01,\n",
       "       8.50000e-02, 9.91500e+00, 1.07085e+02, 1.99150e+01, 2.59150e+01,\n",
       "       1.59150e+01, 1.89150e+01, 1.40085e+02, 2.91500e+00, 7.10850e+01,\n",
       "       1.90850e+01, 1.60850e+01, 3.09150e+01, 3.09150e+01, 2.40850e+01,\n",
       "       2.89150e+01, 4.91500e+00, 8.08500e+00, 2.59150e+01, 1.19150e+01,\n",
       "       2.59150e+01, 1.60850e+01, 2.89150e+01, 1.49150e+01, 2.89150e+01,\n",
       "       1.38085e+02, 1.99150e+01, 6.91500e+00, 2.89150e+01, 2.70850e+01,\n",
       "       6.91500e+00, 3.19150e+01, 9.91500e+00, 9.08500e+00, 8.50000e-02,\n",
       "       2.69150e+01, 2.89150e+01, 1.59150e+01, 2.00850e+01, 2.99150e+01,\n",
       "       1.99150e+01, 1.29150e+01, 2.08500e+00, 2.91500e+00, 1.79150e+01,\n",
       "       3.70850e+01, 2.79150e+01, 1.19150e+01, 2.49150e+01, 1.79150e+01,\n",
       "       1.89150e+01, 9.91500e+00, 2.49150e+01, 2.59150e+01, 2.08500e+00,\n",
       "       2.59150e+01, 8.50000e-02, 4.08500e+00, 1.19150e+01, 9.10850e+01,\n",
       "       2.39150e+01, 3.91500e+00, 5.70850e+01, 1.60850e+01, 7.90850e+01,\n",
       "       1.61085e+02, 3.91500e+00, 1.08500e+00, 7.08500e+00, 1.91500e+00,\n",
       "       2.49150e+01, 3.09150e+01, 9.08500e+00, 2.59150e+01, 3.00850e+01,\n",
       "       1.79150e+01, 6.91500e+00, 1.89150e+01, 2.99150e+01, 1.79150e+01,\n",
       "       7.91500e+00, 1.29150e+01, 1.49150e+01, 9.15000e-01, 2.49150e+01,\n",
       "       2.39150e+01, 9.50850e+01, 7.40850e+01, 1.89150e+01, 2.79150e+01,\n",
       "       1.49150e+01, 1.89150e+01, 2.69150e+01, 5.10850e+01, 8.08500e+00,\n",
       "       1.79150e+01, 1.19150e+01, 3.09150e+01, 2.69150e+01, 4.08500e+00,\n",
       "       2.09150e+01, 1.39150e+01, 2.09150e+01, 2.19150e+01, 1.09150e+01,\n",
       "       5.08500e+00, 4.08500e+00, 3.19150e+01, 1.10850e+01, 1.99150e+01,\n",
       "       3.19150e+01, 1.19150e+01, 1.91500e+00, 3.40850e+01, 2.10850e+01,\n",
       "       1.39150e+01, 2.91500e+00, 6.08500e+00, 2.08500e+00, 6.00850e+01,\n",
       "       6.91500e+00, 3.19150e+01, 9.15000e-01, 1.80850e+01, 1.30850e+01,\n",
       "       4.08500e+00, 1.00850e+01, 2.09150e+01, 2.90850e+01, 4.08500e+00,\n",
       "       4.70850e+01, 6.08500e+00, 2.08500e+00, 2.91500e+00, 4.08500e+00,\n",
       "       6.40850e+01, 7.80850e+01, 5.90850e+01, 1.59150e+01, 9.08500e+00,\n",
       "       7.08500e+00, 2.89150e+01, 6.91500e+00, 1.09150e+01, 1.29150e+01,\n",
       "       1.69150e+01, 2.40850e+01, 5.91500e+00, 3.19150e+01, 2.70850e+01,\n",
       "       3.09150e+01, 2.00850e+01, 9.08500e+00, 3.19150e+01, 5.20850e+01,\n",
       "       4.40850e+01, 2.99150e+01, 1.40850e+01, 1.10850e+01, 1.59150e+01,\n",
       "       1.79150e+01, 7.08500e+00, 1.29150e+01, 1.20850e+01, 4.91500e+00,\n",
       "       3.10850e+01, 1.39150e+01, 3.09150e+01, 2.29150e+01, 1.49150e+01,\n",
       "       1.08500e+00, 2.59150e+01, 9.15000e-01, 2.39150e+01, 4.91500e+00,\n",
       "       3.08500e+00, 2.69150e+01, 2.39150e+01, 2.69150e+01, 1.19150e+01,\n",
       "       2.29150e+01, 2.99150e+01, 1.89150e+01, 2.49150e+01, 2.19150e+01,\n",
       "       2.99150e+01, 1.29150e+01, 1.49150e+01, 1.59150e+01, 2.89150e+01,\n",
       "       4.60850e+01, 9.15000e-01, 2.29150e+01, 3.09150e+01, 1.29150e+01,\n",
       "       1.09150e+01, 2.79150e+01, 9.60850e+01, 3.20850e+01, 1.89150e+01,\n",
       "       4.90850e+01, 8.50000e-02, 2.99150e+01, 2.79150e+01, 2.29150e+01,\n",
       "       2.69150e+01, 2.59150e+01, 1.00850e+01, 2.59150e+01, 1.99150e+01,\n",
       "       2.89150e+01, 4.91500e+00, 3.00850e+01, 9.91500e+00, 1.30850e+01,\n",
       "       3.09150e+01, 8.20850e+01, 3.91500e+00, 2.70850e+01, 1.89150e+01,\n",
       "       6.91500e+00, 2.00850e+01, 2.69150e+01, 1.69150e+01, 3.00850e+01,\n",
       "       9.91500e+00, 3.91500e+00, 1.20850e+01, 9.15000e-01, 6.91500e+00,\n",
       "       2.49150e+01, 1.69150e+01, 6.90850e+01, 2.08500e+00, 8.08500e+00,\n",
       "       6.91500e+00, 1.10850e+01, 1.59150e+01, 1.19150e+01, 9.91500e+00,\n",
       "       2.50850e+01, 1.29150e+01, 1.70850e+01, 2.19150e+01, 2.89150e+01,\n",
       "       1.59150e+01, 4.08500e+00, 1.20850e+01, 1.20850e+01, 6.91500e+00,\n",
       "       4.10850e+01, 2.59150e+01, 4.00850e+01, 1.80850e+01, 2.29150e+01,\n",
       "       5.20850e+01, 2.91500e+00, 2.29150e+01, 1.22085e+02, 2.60850e+01,\n",
       "       1.09150e+01, 1.80850e+01, 1.09150e+01, 3.00850e+01, 1.80850e+01,\n",
       "       6.70850e+01, 2.39150e+01, 2.49150e+01, 2.09150e+01, 9.08500e+00,\n",
       "       1.79150e+01, 2.99150e+01, 2.00850e+01, 2.39150e+01, 2.99150e+01,\n",
       "       4.80850e+01, 3.90850e+01, 2.19150e+01, 7.91500e+00, 1.08500e+00,\n",
       "       8.91500e+00, 1.69150e+01, 2.39150e+01, 4.08500e+00, 4.60850e+01,\n",
       "       3.19150e+01, 1.59150e+01, 8.20850e+01, 3.08500e+00, 7.80850e+01,\n",
       "       2.49150e+01, 7.30850e+01, 4.00850e+01, 1.59150e+01, 6.20850e+01])"
      ]
     },
     "execution_count": 18,
     "metadata": {},
     "output_type": "execute_result"
    }
   ],
   "source": [
    "np.abs(estimates.column(0) - estimates.column(0).mean())"
   ]
  },
  {
   "cell_type": "markdown",
   "metadata": {},
   "source": [
    "Now let's take the average of the result above,"
   ]
  },
  {
   "cell_type": "code",
   "execution_count": 19,
   "metadata": {},
   "outputs": [
    {
     "data": {
      "text/plain": [
       "23.52493999999999"
      ]
     },
     "execution_count": 19,
     "metadata": {},
     "output_type": "execute_result"
    }
   ],
   "source": [
    "np.abs(estimates.column(0) - estimates.column(0).mean()).mean()"
   ]
  },
  {
   "cell_type": "markdown",
   "metadata": {},
   "source": [
    "Above is the variablity of the `Max` estimator! We can do the same thing to the `Twice the average` and `Max + min` estimator."
   ]
  },
  {
   "cell_type": "code",
   "execution_count": 22,
   "metadata": {},
   "outputs": [
    {
     "data": {
      "text/plain": [
       "84.10276053333334"
      ]
     },
     "execution_count": 22,
     "metadata": {},
     "output_type": "execute_result"
    }
   ],
   "source": [
    "# Variability of twice the average estimator\n",
    "np.abs(estimates.column(1) - estimates.column(1).mean()).mean()"
   ]
  },
  {
   "cell_type": "code",
   "execution_count": 21,
   "metadata": {},
   "outputs": [
    {
     "data": {
      "text/plain": [
       "32.562354"
      ]
     },
     "execution_count": 21,
     "metadata": {},
     "output_type": "execute_result"
    }
   ],
   "source": [
    "# Variability of Max + min estimator\n",
    "np.abs(estimates.column(2) - estimates.column(2).mean()).mean()"
   ]
  },
  {
   "cell_type": "markdown",
   "metadata": {},
   "source": [
    "# Comparing Samples to Distributions\n",
    "We discussed about whether we can take a sample and use it to estimate some number about the population (parameter). We took a sample of planes to estimate how many planes in total there are. \n",
    "\n",
    "**Another way of using sample**: Take a sample, take a look at what we think the population is, and see if the sample look like it came from the population. "
   ]
  },
  {
   "cell_type": "markdown",
   "metadata": {},
   "source": [
    "## Jury Panels\n",
    "The way jury panels are selected:\n",
    "<img src = 'jury.jpg' width = 700\\>\n",
    "1. We have **eligible jurors in a county**: anybody who live in a county, over 18 years old, registered to vote\n",
    "2. Select some of the eligible jurors as **list of eligible residents**\n",
    "3. Select some from the list of eligible residents as **jury panel**\n",
    "4. Select some jury panels as **jury**\n",
    "\n",
    "We want to know whether the jury is fair (whether it was chosen at random from the population). The jury should reflect the community of the county, based on:\n",
    "<img src = 'sect197.jpg' width = 700\\>\n",
    "and the following:\n",
    "<img src = 'sixth.jpg' width = 700\\>\n",
    "\n",
    "Unfortunately, the world is not always fair."
   ]
  },
  {
   "cell_type": "markdown",
   "metadata": {},
   "source": [
    "## Robert Swain v. Alabama\n",
    "In 1965, there was a Supreme Court case regarding jury election.\n",
    "\n",
    "Robert Swain was a black male convicted of raping a white woman. In the county where Robert lives in, Talladega, Allabama, 26% of the residents were black. In his jury panel, only 8 of 100 panelists were black. Even then, all of those 8 were taken out from jury by the prosecution (through peremptory challenges). The final jury ended up without any black at all. \n",
    "\n",
    "Swain tried to appeal to the Supreme Court regarding the jury panel issue, however, the Supreme Court ruled out that:\n",
    "<img src = 'ruling.jpg' width = 700\\>\n",
    "In the end, Swain was convicted and received a death sentence.\n",
    "\n",
    "Is it possible to get only 8 out of 100 panelists when the original population is 26%? A random selection was supposed to happen between the 26% population and the 8 out of 100."
   ]
  },
  {
   "cell_type": "markdown",
   "metadata": {},
   "source": [
    "## Is the Actual Jury Panel Likely?\n",
    "Below we have a table `swain` that contains the ethnicities of people in Alabama county."
   ]
  },
  {
   "cell_type": "code",
   "execution_count": 2,
   "metadata": {},
   "outputs": [
    {
     "data": {
      "text/html": [
       "<table border=\"1\" class=\"dataframe\">\n",
       "    <thead>\n",
       "        <tr>\n",
       "            <th>Ethnicity</th> <th>Eligible</th> <th>Panel</th>\n",
       "        </tr>\n",
       "    </thead>\n",
       "    <tbody>\n",
       "        <tr>\n",
       "            <td>Black    </td> <td>26%     </td> <td>8%   </td>\n",
       "        </tr>\n",
       "        <tr>\n",
       "            <td>Other    </td> <td>74%     </td> <td>92%  </td>\n",
       "        </tr>\n",
       "    </tbody>\n",
       "</table>"
      ],
      "text/plain": [
       "Ethnicity | Eligible | Panel\n",
       "Black     | 26%      | 8%\n",
       "Other     | 74%      | 92%"
      ]
     },
     "execution_count": 2,
     "metadata": {},
     "output_type": "execute_result"
    }
   ],
   "source": [
    "swain = Table().with_columns(\n",
    "    'Ethnicity', make_array('Black', 'Other'),\n",
    "    'Eligible', make_array(0.26, 0.74),\n",
    "    'Panel', make_array(0.08, 0.92)\n",
    ")\n",
    "\n",
    "swain.set_format([1, 2], PercentFormatter(0))"
   ]
  },
  {
   "cell_type": "markdown",
   "metadata": {},
   "source": [
    "###  The Big Question: What's the probability of getting 8 out of 100 blacks in a panel?\n",
    "If the probability was very low, we can say that the jury was unfairly selected. Otherwise, we can say that the jury is fair.\n",
    "\n",
    "Steps:\n",
    "\n",
    "1. Start with distributions of `eligible panel` and the `actual panel`\n",
    "\n",
    "We can't compute the probability. Thus, we will simulate the panel choosing and determine the probability empirically.\n",
    "\n",
    "2. Draw panels at random from population\n",
    "3. Estimate the probability\n",
    "4. See if panel is likely\n",
    "\n",
    "Previously, we tried to use the sample to estimate a number about the population. In this case, we take a sample from the panel (8% black, 92% others) and see if it came from the population (26% black, 74% others). \n",
    "\n",
    "### Step 1: Distribution of eligible panel and actual panel"
   ]
  },
  {
   "cell_type": "markdown",
   "metadata": {},
   "source": [
    "We have done step 1 already, which is the `swain` database."
   ]
  },
  {
   "cell_type": "code",
   "execution_count": 3,
   "metadata": {},
   "outputs": [
    {
     "data": {
      "text/html": [
       "<table border=\"1\" class=\"dataframe\">\n",
       "    <thead>\n",
       "        <tr>\n",
       "            <th>Ethnicity</th> <th>Eligible</th> <th>Panel</th>\n",
       "        </tr>\n",
       "    </thead>\n",
       "    <tbody>\n",
       "        <tr>\n",
       "            <td>Black    </td> <td>26%     </td> <td>8%   </td>\n",
       "        </tr>\n",
       "        <tr>\n",
       "            <td>Other    </td> <td>74%     </td> <td>92%  </td>\n",
       "        </tr>\n",
       "    </tbody>\n",
       "</table>"
      ],
      "text/plain": [
       "Ethnicity | Eligible | Panel\n",
       "Black     | 26%      | 8%\n",
       "Other     | 74%      | 92%"
      ]
     },
     "execution_count": 3,
     "metadata": {},
     "output_type": "execute_result"
    }
   ],
   "source": [
    "swain.set_format([1, 2], PercentFormatter(0))"
   ]
  },
  {
   "cell_type": "markdown",
   "metadata": {},
   "source": [
    "We can visualize the distribution above with a bar chart,"
   ]
  },
  {
   "cell_type": "code",
   "execution_count": 4,
   "metadata": {},
   "outputs": [
    {
     "data": {
      "image/png": "[encoded data removed]",
      "text/plain": [
       "<Figure size 432x288 with 1 Axes>"
      ]
     },
     "metadata": {},
     "output_type": "display_data"
    }
   ],
   "source": [
    "swain.barh(0)"
   ]
  },
  {
   "cell_type": "markdown",
   "metadata": {},
   "source": [
    "#### Aside: How do we measure differences between distributions\n",
    "Recall the warplanes problem. Let's say:\n",
    "1. We took a sample of 20 warplanes, take the `max` of those 20 and found that the `max` is 290.\n",
    "2. The actual N is 300\n",
    "\n",
    "To find the difference between the estimate and the actual N, compute the difference between 300 and 290. The result is 10! We can say that the estimate is 10 off. \n",
    "\n",
    "Calculating the difference between distributions is more complicated. We can't just subtract 26 with 8 or 74 with 92. Thus, we use **TVD (total variation distance)**."
   ]
  },
  {
   "cell_type": "markdown",
   "metadata": {},
   "source": [
    "## Total Variation Distance\n",
    "If we are comparing between numbers, we can just compute the difference and take the absolute value. We can't exactly do the same thing with distributions, but we can do something similar. \n",
    "\n",
    "We can take each column and subtract it with the other column. Below we have the `swain` dataset,"
   ]
  },
  {
   "cell_type": "code",
   "execution_count": 5,
   "metadata": {},
   "outputs": [
    {
     "data": {
      "text/html": [
       "<table border=\"1\" class=\"dataframe\">\n",
       "    <thead>\n",
       "        <tr>\n",
       "            <th>Ethnicity</th> <th>Eligible</th> <th>Panel</th>\n",
       "        </tr>\n",
       "    </thead>\n",
       "    <tbody>\n",
       "        <tr>\n",
       "            <td>Black    </td> <td>26%     </td> <td>8%   </td>\n",
       "        </tr>\n",
       "        <tr>\n",
       "            <td>Other    </td> <td>74%     </td> <td>92%  </td>\n",
       "        </tr>\n",
       "    </tbody>\n",
       "</table>"
      ],
      "text/plain": [
       "Ethnicity | Eligible | Panel\n",
       "Black     | 26%      | 8%\n",
       "Other     | 74%      | 92%"
      ]
     },
     "execution_count": 5,
     "metadata": {},
     "output_type": "execute_result"
    }
   ],
   "source": [
    "swain"
   ]
  },
  {
   "cell_type": "markdown",
   "metadata": {},
   "source": [
    "If we take the `Eligible` column and subtract it with the `Panel` column, we will get the following,"
   ]
  },
  {
   "cell_type": "code",
   "execution_count": 6,
   "metadata": {},
   "outputs": [
    {
     "data": {
      "text/plain": [
       "array([ 0.18, -0.18])"
      ]
     },
     "execution_count": 6,
     "metadata": {},
     "output_type": "execute_result"
    }
   ],
   "source": [
    "swain.column('Eligible') - swain.column('Panel')"
   ]
  },
  {
   "cell_type": "markdown",
   "metadata": {},
   "source": [
    "We might be tempted to add up the differences above,"
   ]
  },
  {
   "cell_type": "code",
   "execution_count": 7,
   "metadata": {},
   "outputs": [
    {
     "data": {
      "text/plain": [
       "-5.551115123125783e-17"
      ]
     },
     "execution_count": 7,
     "metadata": {},
     "output_type": "execute_result"
    }
   ],
   "source": [
    "np.sum(swain.column('Eligible') - swain.column('Panel'))"
   ]
  },
  {
   "cell_type": "markdown",
   "metadata": {},
   "source": [
    "But the result above is a number that is very close to 0, which is definitely not right! Instead of just taking the sum of the differences, we want to sum the **absolute differences**."
   ]
  },
  {
   "cell_type": "code",
   "execution_count": 8,
   "metadata": {},
   "outputs": [
    {
     "data": {
      "text/plain": [
       "0.36000000000000004"
      ]
     },
     "execution_count": 8,
     "metadata": {},
     "output_type": "execute_result"
    }
   ],
   "source": [
    "sum(abs(swain.column('Eligible') - swain.column('Panel')))"
   ]
  },
  {
   "cell_type": "markdown",
   "metadata": {},
   "source": [
    "Summed up, seems like we have 36% difference. However, notice that:\n",
    "\n",
    "1. The difference in row 1 is 26 - 8 = 18%\n",
    "2. The difference in row 2 is abs(74-92) = 18%\n",
    "\n",
    "We doubled the 18%! The actual total variation distance `tvd` is the number that we obtain above, divided by 2."
   ]
  },
  {
   "cell_type": "code",
   "execution_count": 9,
   "metadata": {},
   "outputs": [
    {
     "data": {
      "text/plain": [
       "0.18000000000000002"
      ]
     },
     "execution_count": 9,
     "metadata": {},
     "output_type": "execute_result"
    }
   ],
   "source": [
    "tvd = sum(abs(swain.column(1) - swain.column(2)))/2\n",
    "tvd"
   ]
  },
  {
   "cell_type": "markdown",
   "metadata": {},
   "source": [
    "Steps to compute `tvd`:\n",
    "1. Find the absolute difference between each column\n",
    "2. Sum the absolute differences\n",
    "3. Divide by the number of rows involved\n",
    "\n",
    "The closer the distributions are to each other, the lower the TVD. \n",
    "* High value of TVD = more different\n",
    "* Low value of TVD = more similar\n",
    "\n",
    "See that this is alike to the warplane example, where we compute how far our estimate from the actual N by taking the difference.\n",
    "\n",
    "The next step is to make a simulation. But before that, we will use the `tvd` value multiple times, so having a function would help. The `total_variation_distance` function takes 2 distribution and calculates the between the 2 distributions,"
   ]
  },
  {
   "cell_type": "code",
   "execution_count": 10,
   "metadata": {},
   "outputs": [],
   "source": [
    "def total_variation_distance(dist1, dist2):\n",
    "    return sum(abs(dist1 - dist2)) / 2"
   ]
  },
  {
   "cell_type": "markdown",
   "metadata": {},
   "source": [
    "Use the function `total_variation_distance` and see if the function works correctly,"
   ]
  },
  {
   "cell_type": "code",
   "execution_count": 11,
   "metadata": {},
   "outputs": [
    {
     "data": {
      "text/plain": [
       "0.18000000000000002"
      ]
     },
     "execution_count": 11,
     "metadata": {},
     "output_type": "execute_result"
    }
   ],
   "source": [
    "total_variation_distance(swain.column('Eligible'), swain.column('Panel'))"
   ]
  },
  {
   "cell_type": "markdown",
   "metadata": {},
   "source": [
    "It appears that the function works fine!"
   ]
  },
  {
   "cell_type": "markdown",
   "metadata": {},
   "source": [
    "### Step 2: Sample panels from population\n",
    "Now let's take a sample out of the population. At first, we might be tempted to simply use the `sample` method like below,"
   ]
  },
  {
   "cell_type": "code",
   "execution_count": 12,
   "metadata": {},
   "outputs": [
    {
     "data": {
      "text/html": [
       "<table border=\"1\" class=\"dataframe\">\n",
       "    <thead>\n",
       "        <tr>\n",
       "            <th>Ethnicity</th> <th>Eligible</th> <th>Panel</th>\n",
       "        </tr>\n",
       "    </thead>\n",
       "    <tbody>\n",
       "        <tr>\n",
       "            <td>Black    </td> <td>26%     </td> <td>8%   </td>\n",
       "        </tr>\n",
       "        <tr>\n",
       "            <td>Other    </td> <td>74%     </td> <td>92%  </td>\n",
       "        </tr>\n",
       "        <tr>\n",
       "            <td>Other    </td> <td>74%     </td> <td>92%  </td>\n",
       "        </tr>\n",
       "        <tr>\n",
       "            <td>Black    </td> <td>26%     </td> <td>8%   </td>\n",
       "        </tr>\n",
       "        <tr>\n",
       "            <td>Black    </td> <td>26%     </td> <td>8%   </td>\n",
       "        </tr>\n",
       "        <tr>\n",
       "            <td>Other    </td> <td>74%     </td> <td>92%  </td>\n",
       "        </tr>\n",
       "        <tr>\n",
       "            <td>Other    </td> <td>74%     </td> <td>92%  </td>\n",
       "        </tr>\n",
       "        <tr>\n",
       "            <td>Black    </td> <td>26%     </td> <td>8%   </td>\n",
       "        </tr>\n",
       "        <tr>\n",
       "            <td>Black    </td> <td>26%     </td> <td>8%   </td>\n",
       "        </tr>\n",
       "        <tr>\n",
       "            <td>Other    </td> <td>74%     </td> <td>92%  </td>\n",
       "        </tr>\n",
       "    </tbody>\n",
       "</table>"
      ],
      "text/plain": [
       "Ethnicity | Eligible | Panel\n",
       "Black     | 26%      | 8%\n",
       "Other     | 74%      | 92%\n",
       "Other     | 74%      | 92%\n",
       "Black     | 26%      | 8%\n",
       "Black     | 26%      | 8%\n",
       "Other     | 74%      | 92%\n",
       "Other     | 74%      | 92%\n",
       "Black     | 26%      | 8%\n",
       "Black     | 26%      | 8%\n",
       "Other     | 74%      | 92%"
      ]
     },
     "execution_count": 12,
     "metadata": {},
     "output_type": "execute_result"
    }
   ],
   "source": [
    "swain.sample(10)"
   ]
  },
  {
   "cell_type": "markdown",
   "metadata": {},
   "source": [
    "Above, we just took rows out of the original `swain` table. This is not what we want. We can't use this for anything. \n",
    "\n",
    "Recall step 2: **draw panels at random from population**, meaning draw 100 people randomly from the population, then look at the proportions of black vs. non-black. This is what we want.\n",
    "\n",
    "In our population, we have 26% black and 74% others. We want to draw 100 people at random from there. Instead of using `sample` method, we need to do more. Below we have a table of possible etnicities,"
   ]
  },
  {
   "cell_type": "code",
   "execution_count": 13,
   "metadata": {},
   "outputs": [
    {
     "data": {
      "text/html": [
       "<table border=\"1\" class=\"dataframe\">\n",
       "    <thead>\n",
       "        <tr>\n",
       "            <th>Ethnicity</th>\n",
       "        </tr>\n",
       "    </thead>\n",
       "    <tbody>\n",
       "        <tr>\n",
       "            <td>Black    </td>\n",
       "        </tr>\n",
       "        <tr>\n",
       "            <td>Other    </td>\n",
       "        </tr>\n",
       "    </tbody>\n",
       "</table>"
      ],
      "text/plain": [
       "Ethnicity\n",
       "Black\n",
       "Other"
      ]
     },
     "execution_count": 13,
     "metadata": {},
     "output_type": "execute_result"
    }
   ],
   "source": [
    "ethnicities = swain.select(0)\n",
    "ethnicities"
   ]
  },
  {
   "cell_type": "markdown",
   "metadata": {},
   "source": [
    "Above, we have a table of just 2 possible ethnicities."
   ]
  },
  {
   "cell_type": "code",
   "execution_count": 14,
   "metadata": {},
   "outputs": [
    {
     "data": {
      "text/html": [
       "<table border=\"1\" class=\"dataframe\">\n",
       "    <thead>\n",
       "        <tr>\n",
       "            <th>Ethnicity</th>\n",
       "        </tr>\n",
       "    </thead>\n",
       "    <tbody>\n",
       "        <tr>\n",
       "            <td>Other    </td>\n",
       "        </tr>\n",
       "        <tr>\n",
       "            <td>Other    </td>\n",
       "        </tr>\n",
       "        <tr>\n",
       "            <td>Other    </td>\n",
       "        </tr>\n",
       "        <tr>\n",
       "            <td>Other    </td>\n",
       "        </tr>\n",
       "        <tr>\n",
       "            <td>Black    </td>\n",
       "        </tr>\n",
       "        <tr>\n",
       "            <td>Other    </td>\n",
       "        </tr>\n",
       "        <tr>\n",
       "            <td>Black    </td>\n",
       "        </tr>\n",
       "        <tr>\n",
       "            <td>Other    </td>\n",
       "        </tr>\n",
       "        <tr>\n",
       "            <td>Black    </td>\n",
       "        </tr>\n",
       "        <tr>\n",
       "            <td>Other    </td>\n",
       "        </tr>\n",
       "    </tbody>\n",
       "</table>"
      ],
      "text/plain": [
       "Ethnicity\n",
       "Other\n",
       "Other\n",
       "Other\n",
       "Other\n",
       "Black\n",
       "Other\n",
       "Black\n",
       "Other\n",
       "Black\n",
       "Other"
      ]
     },
     "execution_count": 14,
     "metadata": {},
     "output_type": "execute_result"
    }
   ],
   "source": [
    "ethnicities.sample(10)"
   ]
  },
  {
   "cell_type": "markdown",
   "metadata": {},
   "source": [
    "Above, we take a sample of 10 people from possible ethnicities. However, this is still not quite right since the probability of getting black and others are the same.\n",
    "\n",
    "We want to take a sample from the actual population (recall 26% black, 74% others), so in the sample we should see less black and more others.\n",
    "\n",
    "We can take `sample` with different weights. "
   ]
  },
  {
   "cell_type": "code",
   "execution_count": 15,
   "metadata": {},
   "outputs": [
    {
     "data": {
      "text/html": [
       "<table border=\"1\" class=\"dataframe\">\n",
       "    <thead>\n",
       "        <tr>\n",
       "            <th>Ethnicity</th> <th>Eligible</th> <th>Panel</th>\n",
       "        </tr>\n",
       "    </thead>\n",
       "    <tbody>\n",
       "        <tr>\n",
       "            <td>Black    </td> <td>26%     </td> <td>8%   </td>\n",
       "        </tr>\n",
       "        <tr>\n",
       "            <td>Other    </td> <td>74%     </td> <td>92%  </td>\n",
       "        </tr>\n",
       "    </tbody>\n",
       "</table>"
      ],
      "text/plain": [
       "Ethnicity | Eligible | Panel\n",
       "Black     | 26%      | 8%\n",
       "Other     | 74%      | 92%"
      ]
     },
     "execution_count": 15,
     "metadata": {},
     "output_type": "execute_result"
    }
   ],
   "source": [
    "swain"
   ]
  },
  {
   "cell_type": "markdown",
   "metadata": {},
   "source": [
    "From above table, if we take the values in `Eligible` column, we can use those values with the `sample` method so that the method will take a sample with specific proportion. Below we take the values in `Eligible` column and name it `pop_dist`, which stands for **population distribution**."
   ]
  },
  {
   "cell_type": "code",
   "execution_count": 16,
   "metadata": {},
   "outputs": [
    {
     "data": {
      "text/plain": [
       "array([0.26, 0.74])"
      ]
     },
     "execution_count": 16,
     "metadata": {},
     "output_type": "execute_result"
    }
   ],
   "source": [
    "pop_dist = swain.column('Eligible')\n",
    "pop_dist"
   ]
  },
  {
   "cell_type": "markdown",
   "metadata": {},
   "source": [
    "Now when we use the `sample` method, we can add an additional argument `weights`."
   ]
  },
  {
   "cell_type": "code",
   "execution_count": 17,
   "metadata": {},
   "outputs": [
    {
     "data": {
      "text/html": [
       "<table border=\"1\" class=\"dataframe\">\n",
       "    <thead>\n",
       "        <tr>\n",
       "            <th>Ethnicity</th>\n",
       "        </tr>\n",
       "    </thead>\n",
       "    <tbody>\n",
       "        <tr>\n",
       "            <td>Other    </td>\n",
       "        </tr>\n",
       "        <tr>\n",
       "            <td>Black    </td>\n",
       "        </tr>\n",
       "        <tr>\n",
       "            <td>Black    </td>\n",
       "        </tr>\n",
       "        <tr>\n",
       "            <td>Other    </td>\n",
       "        </tr>\n",
       "        <tr>\n",
       "            <td>Other    </td>\n",
       "        </tr>\n",
       "        <tr>\n",
       "            <td>Other    </td>\n",
       "        </tr>\n",
       "        <tr>\n",
       "            <td>Other    </td>\n",
       "        </tr>\n",
       "        <tr>\n",
       "            <td>Other    </td>\n",
       "        </tr>\n",
       "        <tr>\n",
       "            <td>Other    </td>\n",
       "        </tr>\n",
       "        <tr>\n",
       "            <td>Other    </td>\n",
       "        </tr>\n",
       "    </tbody>\n",
       "</table>"
      ],
      "text/plain": [
       "Ethnicity\n",
       "Other\n",
       "Black\n",
       "Black\n",
       "Other\n",
       "Other\n",
       "Other\n",
       "Other\n",
       "Other\n",
       "Other\n",
       "Other"
      ]
     },
     "execution_count": 17,
     "metadata": {},
     "output_type": "execute_result"
    }
   ],
   "source": [
    "ethnicities.sample(10, weights = pop_dist)"
   ]
  },
  {
   "cell_type": "markdown",
   "metadata": {},
   "source": [
    "The sample above looks correct since we have plenty more `others` and less `black`. We just sampled according to population distribution.\n",
    "\n",
    "We took a sample of 10 people. Now we want to take a sample of 100 people."
   ]
  },
  {
   "cell_type": "code",
   "execution_count": 18,
   "metadata": {},
   "outputs": [
    {
     "data": {
      "text/html": [
       "<table border=\"1\" class=\"dataframe\">\n",
       "    <thead>\n",
       "        <tr>\n",
       "            <th>Ethnicity</th>\n",
       "        </tr>\n",
       "    </thead>\n",
       "    <tbody>\n",
       "        <tr>\n",
       "            <td>Other    </td>\n",
       "        </tr>\n",
       "        <tr>\n",
       "            <td>Other    </td>\n",
       "        </tr>\n",
       "        <tr>\n",
       "            <td>Other    </td>\n",
       "        </tr>\n",
       "        <tr>\n",
       "            <td>Other    </td>\n",
       "        </tr>\n",
       "        <tr>\n",
       "            <td>Black    </td>\n",
       "        </tr>\n",
       "        <tr>\n",
       "            <td>Other    </td>\n",
       "        </tr>\n",
       "        <tr>\n",
       "            <td>Other    </td>\n",
       "        </tr>\n",
       "        <tr>\n",
       "            <td>Other    </td>\n",
       "        </tr>\n",
       "        <tr>\n",
       "            <td>Other    </td>\n",
       "        </tr>\n",
       "        <tr>\n",
       "            <td>Black    </td>\n",
       "        </tr>\n",
       "    </tbody>\n",
       "</table>\n",
       "<p>... (90 rows omitted)</p>"
      ],
      "text/plain": [
       "Ethnicity\n",
       "Other\n",
       "Other\n",
       "Other\n",
       "Other\n",
       "Black\n",
       "Other\n",
       "Other\n",
       "Other\n",
       "Other\n",
       "Black\n",
       "... (90 rows omitted)"
      ]
     },
     "execution_count": 18,
     "metadata": {},
     "output_type": "execute_result"
    }
   ],
   "source": [
    "ethnicities.sample(100, weights = pop_dist)"
   ]
  },
  {
   "cell_type": "markdown",
   "metadata": {},
   "source": [
    "Above data simulates as if we went to the county and took 100 people at random. On average, 26% of the people would be black. This is what we define as **one panel** (of 100 people).\n",
    "\n",
    "Now we can calculate the proportion of blacks in one panel. "
   ]
  },
  {
   "cell_type": "code",
   "execution_count": 19,
   "metadata": {},
   "outputs": [
    {
     "data": {
      "text/html": [
       "<table border=\"1\" class=\"dataframe\">\n",
       "    <thead>\n",
       "        <tr>\n",
       "            <th>Ethnicity</th> <th>count</th>\n",
       "        </tr>\n",
       "    </thead>\n",
       "    <tbody>\n",
       "        <tr>\n",
       "            <td>Black    </td> <td>34   </td>\n",
       "        </tr>\n",
       "        <tr>\n",
       "            <td>Other    </td> <td>66   </td>\n",
       "        </tr>\n",
       "    </tbody>\n",
       "</table>"
      ],
      "text/plain": [
       "Ethnicity | count\n",
       "Black     | 34\n",
       "Other     | 66"
      ]
     },
     "execution_count": 19,
     "metadata": {},
     "output_type": "execute_result"
    }
   ],
   "source": [
    "sample_panel = ethnicities.sample(100, weights= pop_dist).group('Ethnicity')\n",
    "sample_panel"
   ]
  },
  {
   "cell_type": "markdown",
   "metadata": {},
   "source": [
    "Let's take the `count` column into an array,"
   ]
  },
  {
   "cell_type": "code",
   "execution_count": 20,
   "metadata": {},
   "outputs": [
    {
     "data": {
      "text/plain": [
       "array([34, 66])"
      ]
     },
     "execution_count": 20,
     "metadata": {},
     "output_type": "execute_result"
    }
   ],
   "source": [
    "counts = sample_panel.column('count')\n",
    "counts"
   ]
  },
  {
   "cell_type": "markdown",
   "metadata": {},
   "source": [
    "Proportions can be computed by dividing each of the counts by 100."
   ]
  },
  {
   "cell_type": "code",
   "execution_count": 21,
   "metadata": {},
   "outputs": [
    {
     "data": {
      "text/plain": [
       "array([0.34, 0.66])"
      ]
     },
     "execution_count": 21,
     "metadata": {},
     "output_type": "execute_result"
    }
   ],
   "source": [
    "proportions = counts / 100\n",
    "proportions"
   ]
  },
  {
   "cell_type": "markdown",
   "metadata": {},
   "source": [
    "Now take the proportion above and add it to our original `swain` column as another column."
   ]
  },
  {
   "cell_type": "code",
   "execution_count": 22,
   "metadata": {},
   "outputs": [
    {
     "data": {
      "text/html": [
       "<table border=\"1\" class=\"dataframe\">\n",
       "    <thead>\n",
       "        <tr>\n",
       "            <th>Ethnicity</th> <th>Eligible</th> <th>Panel</th> <th>Random</th>\n",
       "        </tr>\n",
       "    </thead>\n",
       "    <tbody>\n",
       "        <tr>\n",
       "            <td>Black    </td> <td>26%     </td> <td>8%   </td> <td>34%   </td>\n",
       "        </tr>\n",
       "        <tr>\n",
       "            <td>Other    </td> <td>74%     </td> <td>92%  </td> <td>66%   </td>\n",
       "        </tr>\n",
       "    </tbody>\n",
       "</table>"
      ],
      "text/plain": [
       "Ethnicity | Eligible | Panel | Random\n",
       "Black     | 26%      | 8%    | 34%\n",
       "Other     | 74%      | 92%   | 66%"
      ]
     },
     "execution_count": 22,
     "metadata": {},
     "output_type": "execute_result"
    }
   ],
   "source": [
    "# 'with_random' will be the swain table with the additional 'Random'\n",
    "with_random = swain.with_column('Random', proportions)\n",
    "with_random.set_format([1, 2, 3], PercentFormatter(0))"
   ]
  },
  {
   "cell_type": "markdown",
   "metadata": {},
   "source": [
    "Now we will draw multiple panels and see if the 8% blacks panel is likely to appear by random chance. This means we have to do the steps above multiple times. To make our job easier, we can create a function to do the steps above."
   ]
  },
  {
   "cell_type": "code",
   "execution_count": 23,
   "metadata": {},
   "outputs": [
    {
     "data": {
      "text/html": [
       "<table border=\"1\" class=\"dataframe\">\n",
       "    <thead>\n",
       "        <tr>\n",
       "            <th>Ethnicity</th> <th>Eligible</th> <th>Panel</th> <th>Random</th>\n",
       "        </tr>\n",
       "    </thead>\n",
       "    <tbody>\n",
       "        <tr>\n",
       "            <td>Black    </td> <td>26%     </td> <td>8%   </td> <td>17%   </td>\n",
       "        </tr>\n",
       "        <tr>\n",
       "            <td>Other    </td> <td>74%     </td> <td>92%  </td> <td>83%   </td>\n",
       "        </tr>\n",
       "    </tbody>\n",
       "</table>"
      ],
      "text/plain": [
       "Ethnicity | Eligible | Panel | Random\n",
       "Black     | 26%      | 8%    | 17%\n",
       "Other     | 74%      | 92%   | 83%"
      ]
     },
     "execution_count": 23,
     "metadata": {},
     "output_type": "execute_result"
    }
   ],
   "source": [
    "def random_jury_panel():\n",
    "    # Take a sample panel (a sample of 100) and save it as \"sample_panel\"\n",
    "    sample_panel = ethnicities.sample(100, weights= pop_dist).group('Ethnicity')\n",
    "    # Count the proportions\n",
    "    counts = sample_panel.column('count')\n",
    "    proportions = counts / 100\n",
    "    # Create a table of the original 'swain' table with an additional column\n",
    "    with_random = swain.with_column('Random', proportions)\n",
    "    with_random.set_format([1, 2, 3], PercentFormatter(0))\n",
    "    return with_random\n",
    "\n",
    "random_jury_panel()"
   ]
  },
  {
   "cell_type": "markdown",
   "metadata": {},
   "source": [
    "We can see that the values in the `Random` column varies every time we call the function!\n",
    "\n",
    "The next steps are:\n",
    "1. Run the simulation above multiple times\n",
    "2. Take the TVD between the multiple `Random` panels and the `Eligible` panel\n",
    "3. Then compare the TVD from `Random` vs. `Eligible` with `Panel` vs. `Eligible`. See if the TVD from `Panel` vs. `Eligible` would be within the range of `Random` vs. `Eligible`.\n",
    "\n",
    "Below we use `for` loops for 1000 repetitions of TVDs of `Random` vs. `Eligible`"
   ]
  },
  {
   "cell_type": "code",
   "execution_count": 24,
   "metadata": {},
   "outputs": [
    {
     "data": {
      "text/plain": [
       "array([0.05, 0.  , 0.04, 0.04, 0.02, 0.06, 0.01, 0.03, 0.03, 0.04, 0.08,\n",
       "       0.04, 0.02, 0.03, 0.01, 0.1 , 0.01, 0.05, 0.02, 0.01, 0.02, 0.03,\n",
       "       0.06, 0.05, 0.03, 0.05, 0.02, 0.02, 0.  , 0.  , 0.01, 0.05, 0.03,\n",
       "       0.01, 0.02, 0.  , 0.01, 0.04, 0.05, 0.07, 0.05, 0.06, 0.05, 0.05,\n",
       "       0.02, 0.01, 0.04, 0.02, 0.03, 0.09, 0.04, 0.  , 0.03, 0.03, 0.01,\n",
       "       0.04, 0.02, 0.07, 0.05, 0.03, 0.1 , 0.06, 0.07, 0.03, 0.07, 0.03,\n",
       "       0.07, 0.09, 0.03, 0.04, 0.02, 0.  , 0.03, 0.05, 0.02, 0.06, 0.05,\n",
       "       0.06, 0.08, 0.  , 0.01, 0.03, 0.05, 0.06, 0.05, 0.06, 0.03, 0.02,\n",
       "       0.03, 0.04, 0.04, 0.02, 0.05, 0.01, 0.01, 0.07, 0.02, 0.08, 0.04,\n",
       "       0.02, 0.01, 0.01, 0.1 , 0.06, 0.04, 0.  , 0.02, 0.01, 0.03, 0.04,\n",
       "       0.01, 0.  , 0.  , 0.05, 0.09, 0.06, 0.02, 0.04, 0.02, 0.04, 0.  ,\n",
       "       0.01, 0.05, 0.02, 0.  , 0.03, 0.01, 0.01, 0.  , 0.03, 0.01, 0.  ,\n",
       "       0.04, 0.  , 0.  , 0.01, 0.  , 0.  , 0.  , 0.01, 0.01, 0.01, 0.04,\n",
       "       0.06, 0.04, 0.11, 0.01, 0.03, 0.01, 0.05, 0.01, 0.01, 0.02, 0.03,\n",
       "       0.05, 0.01, 0.02, 0.01, 0.  , 0.03, 0.04, 0.1 , 0.03, 0.04, 0.  ,\n",
       "       0.03, 0.03, 0.02, 0.  , 0.01, 0.07, 0.01, 0.12, 0.02, 0.06, 0.03,\n",
       "       0.07, 0.05, 0.01, 0.06, 0.04, 0.02, 0.04, 0.04, 0.  , 0.03, 0.08,\n",
       "       0.03, 0.02, 0.01, 0.02, 0.02, 0.05, 0.03, 0.07, 0.02, 0.03, 0.09,\n",
       "       0.  , 0.  , 0.07, 0.05, 0.03, 0.04, 0.04, 0.01, 0.01, 0.01, 0.02,\n",
       "       0.04, 0.03, 0.13, 0.01, 0.03, 0.06, 0.03, 0.02, 0.02, 0.04, 0.01,\n",
       "       0.04, 0.  , 0.  , 0.03, 0.02, 0.06, 0.03, 0.05, 0.05, 0.01, 0.02,\n",
       "       0.09, 0.  , 0.  , 0.03, 0.01, 0.01, 0.03, 0.02, 0.02, 0.03, 0.01,\n",
       "       0.04, 0.06, 0.09, 0.04, 0.06, 0.03, 0.07, 0.07, 0.02, 0.01, 0.01,\n",
       "       0.06, 0.04, 0.02, 0.02, 0.01, 0.09, 0.01, 0.03, 0.09, 0.02, 0.03,\n",
       "       0.05, 0.06, 0.03, 0.07, 0.05, 0.03, 0.06, 0.05, 0.07, 0.03, 0.03,\n",
       "       0.03, 0.08, 0.02, 0.01, 0.05, 0.01, 0.03, 0.03, 0.05, 0.01, 0.  ,\n",
       "       0.06, 0.01, 0.  , 0.04, 0.05, 0.01, 0.03, 0.01, 0.04, 0.01, 0.04,\n",
       "       0.06, 0.03, 0.03, 0.03, 0.03, 0.13, 0.03, 0.04, 0.05, 0.01, 0.03,\n",
       "       0.01, 0.01, 0.01, 0.01, 0.01, 0.01, 0.04, 0.03, 0.04, 0.02, 0.03,\n",
       "       0.01, 0.01, 0.04, 0.03, 0.03, 0.01, 0.01, 0.06, 0.06, 0.02, 0.02,\n",
       "       0.05, 0.02, 0.02, 0.05, 0.01, 0.03, 0.03, 0.04, 0.04, 0.02, 0.09,\n",
       "       0.01, 0.01, 0.05, 0.05, 0.04, 0.04, 0.04, 0.04, 0.  , 0.04, 0.02,\n",
       "       0.07, 0.01, 0.02, 0.02, 0.04, 0.  , 0.02, 0.04, 0.01, 0.01, 0.06,\n",
       "       0.04, 0.02, 0.01, 0.  , 0.03, 0.04, 0.06, 0.04, 0.02, 0.02, 0.06,\n",
       "       0.06, 0.02, 0.01, 0.03, 0.07, 0.01, 0.01, 0.02, 0.08, 0.08, 0.02,\n",
       "       0.01, 0.03, 0.04, 0.03, 0.1 , 0.01, 0.  , 0.  , 0.01, 0.04, 0.02,\n",
       "       0.03, 0.03, 0.09, 0.  , 0.05, 0.  , 0.06, 0.04, 0.02, 0.01, 0.09,\n",
       "       0.  , 0.04, 0.01, 0.02, 0.08, 0.03, 0.03, 0.01, 0.  , 0.06, 0.03,\n",
       "       0.06, 0.05, 0.04, 0.01, 0.03, 0.08, 0.02, 0.06, 0.03, 0.02, 0.  ,\n",
       "       0.01, 0.01, 0.05, 0.03, 0.  , 0.01, 0.03, 0.08, 0.03, 0.02, 0.01,\n",
       "       0.06, 0.03, 0.01, 0.04, 0.  , 0.02, 0.11, 0.05, 0.05, 0.02, 0.1 ,\n",
       "       0.06, 0.06, 0.06, 0.05, 0.02, 0.05, 0.03, 0.03, 0.05, 0.04, 0.  ,\n",
       "       0.01, 0.01, 0.  , 0.03, 0.01, 0.04, 0.08, 0.04, 0.06, 0.11, 0.07,\n",
       "       0.  , 0.05, 0.01, 0.08, 0.02, 0.  , 0.02, 0.02, 0.08, 0.03, 0.06,\n",
       "       0.01, 0.02, 0.03, 0.01, 0.12, 0.04, 0.13, 0.01, 0.05, 0.  , 0.03,\n",
       "       0.07, 0.05, 0.04, 0.01, 0.08, 0.09, 0.02, 0.04, 0.  , 0.03, 0.03,\n",
       "       0.05, 0.03, 0.05, 0.  , 0.02, 0.04, 0.02, 0.02, 0.01, 0.02, 0.07,\n",
       "       0.02, 0.09, 0.02, 0.06, 0.02, 0.03, 0.02, 0.05, 0.05, 0.02, 0.07,\n",
       "       0.03, 0.06, 0.01, 0.06, 0.03, 0.04, 0.04, 0.01, 0.02, 0.  , 0.01,\n",
       "       0.09, 0.01, 0.01, 0.04, 0.05, 0.04, 0.05, 0.08, 0.02, 0.02, 0.02,\n",
       "       0.01, 0.09, 0.04, 0.04, 0.06, 0.03, 0.05, 0.02, 0.02, 0.  , 0.  ,\n",
       "       0.03, 0.03, 0.03, 0.04, 0.01, 0.02, 0.04, 0.02, 0.07, 0.  , 0.06,\n",
       "       0.06, 0.14, 0.  , 0.01, 0.01, 0.03, 0.02, 0.05, 0.  , 0.04, 0.01,\n",
       "       0.01, 0.01, 0.07, 0.1 , 0.05, 0.01, 0.02, 0.01, 0.03, 0.04, 0.03,\n",
       "       0.04, 0.05, 0.04, 0.  , 0.03, 0.  , 0.  , 0.06, 0.02, 0.11, 0.02,\n",
       "       0.04, 0.02, 0.01, 0.06, 0.02, 0.05, 0.04, 0.03, 0.03, 0.05, 0.05,\n",
       "       0.01, 0.01, 0.01, 0.01, 0.01, 0.09, 0.02, 0.05, 0.01, 0.03, 0.02,\n",
       "       0.03, 0.03, 0.03, 0.03, 0.03, 0.01, 0.01, 0.03, 0.05, 0.06, 0.06,\n",
       "       0.04, 0.07, 0.08, 0.06, 0.06, 0.04, 0.04, 0.03, 0.04, 0.02, 0.05,\n",
       "       0.02, 0.01, 0.05, 0.05, 0.05, 0.02, 0.01, 0.02, 0.04, 0.05, 0.02,\n",
       "       0.02, 0.02, 0.12, 0.04, 0.12, 0.13, 0.05, 0.03, 0.01, 0.01, 0.05,\n",
       "       0.04, 0.04, 0.07, 0.06, 0.05, 0.01, 0.06, 0.06, 0.07, 0.03, 0.01,\n",
       "       0.06, 0.05, 0.01, 0.02, 0.05, 0.02, 0.05, 0.02, 0.01, 0.04, 0.  ,\n",
       "       0.  , 0.01, 0.02, 0.01, 0.01, 0.05, 0.  , 0.02, 0.02, 0.05, 0.01,\n",
       "       0.04, 0.01, 0.09, 0.02, 0.07, 0.02, 0.03, 0.02, 0.1 , 0.03, 0.01,\n",
       "       0.01, 0.04, 0.04, 0.  , 0.04, 0.  , 0.01, 0.01, 0.05, 0.01, 0.01,\n",
       "       0.02, 0.01, 0.01, 0.  , 0.  , 0.02, 0.01, 0.02, 0.  , 0.01, 0.03,\n",
       "       0.02, 0.02, 0.01, 0.13, 0.07, 0.06, 0.01, 0.07, 0.02, 0.03, 0.01,\n",
       "       0.06, 0.07, 0.04, 0.02, 0.01, 0.01, 0.04, 0.03, 0.16, 0.02, 0.01,\n",
       "       0.  , 0.01, 0.  , 0.05, 0.03, 0.02, 0.13, 0.06, 0.02, 0.01, 0.  ,\n",
       "       0.03, 0.01, 0.03, 0.06, 0.  , 0.02, 0.03, 0.03, 0.03, 0.02, 0.02,\n",
       "       0.01, 0.06, 0.05, 0.09, 0.02, 0.05, 0.02, 0.03, 0.08, 0.01, 0.04,\n",
       "       0.04, 0.03, 0.03, 0.03, 0.  , 0.  , 0.02, 0.03, 0.03, 0.09, 0.06,\n",
       "       0.06, 0.07, 0.01, 0.04, 0.02, 0.1 , 0.05, 0.03, 0.  , 0.03, 0.04,\n",
       "       0.04, 0.02, 0.06, 0.  , 0.05, 0.  , 0.02, 0.04, 0.01, 0.07, 0.12,\n",
       "       0.06, 0.08, 0.03, 0.02, 0.02, 0.08, 0.01, 0.05, 0.  , 0.02, 0.05,\n",
       "       0.07, 0.11, 0.01, 0.  , 0.07, 0.02, 0.01, 0.01, 0.06, 0.07, 0.04,\n",
       "       0.09, 0.04, 0.09, 0.07, 0.02, 0.01, 0.1 , 0.06, 0.06, 0.01, 0.01,\n",
       "       0.01, 0.02, 0.04, 0.02, 0.02, 0.  , 0.01, 0.04, 0.04, 0.01, 0.03,\n",
       "       0.06, 0.08, 0.  , 0.02, 0.06, 0.1 , 0.05, 0.06, 0.01, 0.02, 0.08,\n",
       "       0.06, 0.04, 0.02, 0.03, 0.02, 0.01, 0.01, 0.04, 0.02, 0.03, 0.03,\n",
       "       0.07, 0.02, 0.02, 0.01, 0.01, 0.01, 0.04, 0.02, 0.02, 0.01, 0.01,\n",
       "       0.01, 0.01, 0.05, 0.06, 0.06, 0.02, 0.06, 0.07, 0.03, 0.03, 0.02,\n",
       "       0.09, 0.04, 0.03, 0.05, 0.08, 0.06, 0.07, 0.01, 0.08, 0.01, 0.01,\n",
       "       0.03, 0.06, 0.02, 0.  , 0.07, 0.09, 0.05, 0.05, 0.04, 0.05, 0.  ,\n",
       "       0.06, 0.04, 0.02, 0.06, 0.08, 0.08, 0.06, 0.01, 0.04, 0.04, 0.07,\n",
       "       0.07, 0.02, 0.03, 0.03, 0.04, 0.04, 0.08, 0.05, 0.06, 0.03, 0.02,\n",
       "       0.02, 0.03, 0.04, 0.03, 0.  , 0.05, 0.03, 0.03, 0.  , 0.01, 0.04,\n",
       "       0.08, 0.04, 0.01, 0.03, 0.02, 0.06, 0.02, 0.02, 0.05, 0.03, 0.04,\n",
       "       0.05, 0.02, 0.08, 0.  , 0.02, 0.  , 0.03, 0.08, 0.02, 0.13, 0.04,\n",
       "       0.02, 0.1 , 0.01, 0.01, 0.03, 0.04, 0.02, 0.12, 0.05, 0.04])"
      ]
     },
     "execution_count": 24,
     "metadata": {},
     "output_type": "execute_result"
    }
   ],
   "source": [
    "repetitions = 1000\n",
    "tvds = make_array() #An array that keeps all the resulting tvd.\n",
    "\n",
    "for i in np.arange(repetitions):\n",
    "    # Call the \"random_jury_panel\" function and store it in \"new_sample\"\n",
    "    new_sample = random_jury_panel()\n",
    "    # Append tvds array with the outcome obtained from calling the \"total_variation_distace\" function on new_sample\n",
    "    tvds = np.append(tvds, total_variation_distance(new_sample.column('Eligible'), new_sample.column('Random')))\n",
    "    \n",
    "tvds    "
   ]
  },
  {
   "cell_type": "markdown",
   "metadata": {},
   "source": [
    "Above, we obtain a bunch of TVDs. For each element in `tvd`, this means that we took a random panel and found that the random panel was `that element` away from the population. \n",
    "\n",
    "The next step is to construct a histogram out of the TVDs! In order to do this, we need to put the long result above into a table."
   ]
  },
  {
   "cell_type": "code",
   "execution_count": 25,
   "metadata": {},
   "outputs": [
    {
     "data": {
      "text/html": [
       "<table border=\"1\" class=\"dataframe\">\n",
       "    <thead>\n",
       "        <tr>\n",
       "            <th>TVD between population and a random sample</th>\n",
       "        </tr>\n",
       "    </thead>\n",
       "    <tbody>\n",
       "        <tr>\n",
       "            <td>0.01                                      </td>\n",
       "        </tr>\n",
       "        <tr>\n",
       "            <td>0.01                                      </td>\n",
       "        </tr>\n",
       "        <tr>\n",
       "            <td>0.03                                      </td>\n",
       "        </tr>\n",
       "        <tr>\n",
       "            <td>0.01                                      </td>\n",
       "        </tr>\n",
       "        <tr>\n",
       "            <td>0.03                                      </td>\n",
       "        </tr>\n",
       "        <tr>\n",
       "            <td>0.04                                      </td>\n",
       "        </tr>\n",
       "        <tr>\n",
       "            <td>0.03                                      </td>\n",
       "        </tr>\n",
       "        <tr>\n",
       "            <td>0.02                                      </td>\n",
       "        </tr>\n",
       "        <tr>\n",
       "            <td>0.06                                      </td>\n",
       "        </tr>\n",
       "        <tr>\n",
       "            <td>0.07                                      </td>\n",
       "        </tr>\n",
       "    </tbody>\n",
       "</table>\n",
       "<p>... (990 rows omitted)</p>"
      ],
      "text/plain": [
       "TVD between population and a random sample\n",
       "0.01\n",
       "0.01\n",
       "0.03\n",
       "0.01\n",
       "0.03\n",
       "0.04\n",
       "0.03\n",
       "0.02\n",
       "0.06\n",
       "0.07\n",
       "... (990 rows omitted)"
      ]
     },
     "execution_count": 25,
     "metadata": {},
     "output_type": "execute_result"
    }
   ],
   "source": [
    "repetitions = 1000\n",
    "tvds = make_array() #An array that keeps all the resulting tvd.\n",
    "\n",
    "for i in np.arange(repetitions):\n",
    "    # Call the \"random_jury_panel\" function and store it in \"new_sample\"\n",
    "    new_sample = random_jury_panel()\n",
    "    # Append tvds array with the outcome obtained from calling the \"total_variation_distace\" function on new_sample\n",
    "    tvds = np.append(tvds, total_variation_distance(new_sample.column('Eligible'), new_sample.column('Random')))\n",
    "    \n",
    "results = Table().with_column(\n",
    "    'TVD between population and a random sample',\n",
    "    tvds\n",
    ")\n",
    "\n",
    "results"
   ]
  },
  {
   "cell_type": "markdown",
   "metadata": {},
   "source": [
    "Above, we have a table of TVDs between the population and a bunch of random samples. We can create a histogram out of the table above,"
   ]
  },
  {
   "cell_type": "code",
   "execution_count": 26,
   "metadata": {},
   "outputs": [
    {
     "data": {
      "image/png": "[encoded data removed]",
      "text/plain": [
       "<Figure size 432x288 with 1 Axes>"
      ]
     },
     "metadata": {},
     "output_type": "display_data"
    }
   ],
   "source": [
    "results.hist()"
   ]
  },
  {
   "cell_type": "markdown",
   "metadata": {},
   "source": [
    "Above, we can see that most of the TVDs are somewhere between 0 to 0.075. Now recall the tvd that we obtained between `Eligible` vs. `Panel`, saved as `tvd`."
   ]
  },
  {
   "cell_type": "code",
   "execution_count": 27,
   "metadata": {},
   "outputs": [
    {
     "data": {
      "text/plain": [
       "0.18000000000000002"
      ]
     },
     "execution_count": 27,
     "metadata": {},
     "output_type": "execute_result"
    }
   ],
   "source": [
    "tvd"
   ]
  },
  {
   "cell_type": "markdown",
   "metadata": {},
   "source": [
    "Is this actual panel likely to occur by chance? If this panel likely if we drew a random panel from the population?"
   ]
  }
 ],
 "metadata": {
  "kernelspec": {
   "display_name": "Python 3",
   "language": "python",
   "name": "python3"
  },
  "language_info": {
   "codemirror_mode": {
    "name": "ipython",
    "version": 3
   },
   "file_extension": ".py",
   "mimetype": "text/x-python",
   "name": "python",
   "nbconvert_exporter": "python",
   "pygments_lexer": "ipython3",
   "version": "3.7.2"
  }
 },
 "nbformat": 4,
 "nbformat_minor": 1
}
