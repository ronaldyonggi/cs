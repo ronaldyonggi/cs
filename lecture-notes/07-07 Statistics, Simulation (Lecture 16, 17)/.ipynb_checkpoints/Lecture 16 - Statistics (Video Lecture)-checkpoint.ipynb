{
 "cells": [
  {
   "cell_type": "code",
   "execution_count": 2,
   "metadata": {},
   "outputs": [],
   "source": [
    "from datascience import *\n",
    "import numpy as np\n",
    "%matplotlib inline\n",
    "import matplotlib.pyplot as plots\n",
    "plots.style.use('fivethirtyeight')\n",
    "\n",
    "from ipywidgets import interact, interactive, fixed, interact_manual\n",
    "import ipywidgets as widgets"
   ]
  },
  {
   "cell_type": "markdown",
   "metadata": {},
   "source": [
    "# Probability & Simulation (Review)\n",
    "In the previous lecture, we talked about probability, pulling cards example, simulation, and Monty Hall problem.\n",
    "\n",
    "## Demo\n",
    "Recall that we also discussed about dice. We stated that the probability of getting each face in a dice is 1/6. We also used simulation to analyze this probability. As we raised the sample size, the empirical histogram looked more like to the probability histogram. In other words, as the sample size is increased, the reality starts to match the theory.\n",
    "\n",
    "Here we'll study a population of flight delay times. The table `united` contains data for United Airlines domestic flights departing from San Francisco in the summer of 2015. Data were acquired from [Bureau of Transportation Statistics](http://www.transtats.bts.gov/Fields.asp?Table_ID=293)\n",
    "\n",
    "Departure delay times are in minutes. Some delay times are negative: those flights left early."
   ]
  },
  {
   "cell_type": "code",
   "execution_count": 2,
   "metadata": {},
   "outputs": [
    {
     "data": {
      "text/html": [
       "<table border=\"1\" class=\"dataframe\">\n",
       "    <thead>\n",
       "        <tr>\n",
       "            <th>Date</th> <th>Flight Number</th> <th>Destination</th> <th>Delay</th>\n",
       "        </tr>\n",
       "    </thead>\n",
       "    <tbody>\n",
       "        <tr>\n",
       "            <td>6/1/15</td> <td>73           </td> <td>HNL        </td> <td>257  </td>\n",
       "        </tr>\n",
       "        <tr>\n",
       "            <td>6/1/15</td> <td>217          </td> <td>EWR        </td> <td>28   </td>\n",
       "        </tr>\n",
       "        <tr>\n",
       "            <td>6/1/15</td> <td>237          </td> <td>STL        </td> <td>-3   </td>\n",
       "        </tr>\n",
       "        <tr>\n",
       "            <td>6/1/15</td> <td>250          </td> <td>SAN        </td> <td>0    </td>\n",
       "        </tr>\n",
       "        <tr>\n",
       "            <td>6/1/15</td> <td>267          </td> <td>PHL        </td> <td>64   </td>\n",
       "        </tr>\n",
       "        <tr>\n",
       "            <td>6/1/15</td> <td>273          </td> <td>SEA        </td> <td>-6   </td>\n",
       "        </tr>\n",
       "        <tr>\n",
       "            <td>6/1/15</td> <td>278          </td> <td>SEA        </td> <td>-8   </td>\n",
       "        </tr>\n",
       "        <tr>\n",
       "            <td>6/1/15</td> <td>292          </td> <td>EWR        </td> <td>12   </td>\n",
       "        </tr>\n",
       "        <tr>\n",
       "            <td>6/1/15</td> <td>300          </td> <td>HNL        </td> <td>20   </td>\n",
       "        </tr>\n",
       "        <tr>\n",
       "            <td>6/1/15</td> <td>317          </td> <td>IND        </td> <td>-10  </td>\n",
       "        </tr>\n",
       "    </tbody>\n",
       "</table>\n",
       "<p>... (13815 rows omitted)</p>"
      ],
      "text/plain": [
       "Date   | Flight Number | Destination | Delay\n",
       "6/1/15 | 73            | HNL         | 257\n",
       "6/1/15 | 217           | EWR         | 28\n",
       "6/1/15 | 237           | STL         | -3\n",
       "6/1/15 | 250           | SAN         | 0\n",
       "6/1/15 | 267           | PHL         | 64\n",
       "6/1/15 | 273           | SEA         | -6\n",
       "6/1/15 | 278           | SEA         | -8\n",
       "6/1/15 | 292           | EWR         | 12\n",
       "6/1/15 | 300           | HNL         | 20\n",
       "6/1/15 | 317           | IND         | -10\n",
       "... (13815 rows omitted)"
      ]
     },
     "execution_count": 2,
     "metadata": {},
     "output_type": "execute_result"
    }
   ],
   "source": [
    "united = Table.read_table('united_summer2015.csv')\n",
    "united"
   ]
  },
  {
   "cell_type": "markdown",
   "metadata": {},
   "source": [
    "If we look at the distribution of the delay,"
   ]
  },
  {
   "cell_type": "code",
   "execution_count": 3,
   "metadata": {},
   "outputs": [
    {
     "data": {
      "image/png": "[encoded data removed]",
      "text/plain": [
       "<Figure size 432x288 with 1 Axes>"
      ]
     },
     "metadata": {},
     "output_type": "display_data"
    }
   ],
   "source": [
    "united.hist('Delay')"
   ]
  },
  {
   "cell_type": "markdown",
   "metadata": {},
   "source": [
    "The histogram above is not a good representation of the delay times, possibly due to the presence of an outlier data point (i.e. a flight had delay around 500-600 mins). In this case, we specify the bins so that the histogram focuses more on the area with the majority of the data."
   ]
  },
  {
   "cell_type": "code",
   "execution_count": 4,
   "metadata": {},
   "outputs": [
    {
     "data": {
      "image/png": "[encoded data removed]",
      "text/plain": [
       "<Figure size 432x288 with 1 Axes>"
      ]
     },
     "metadata": {},
     "output_type": "display_data"
    }
   ],
   "source": [
    "united.hist('Delay', bins = np.arange(-20, 251, 10), unit = 'minute')"
   ]
  },
  {
   "cell_type": "markdown",
   "metadata": {},
   "source": [
    "From the histogram above, it appears that most flights were either on time or even early! \n",
    "\n",
    "#### What is the proportion of delay that are between 10-20 minutes late?\n",
    "Recall in a histogram, if we want to calculate the proportion in-between a bin, calculate the area of the bar. \n",
    "\n",
    "The width of each bar is 10 mins. The height of the bar between 10-20 is roughly 1.1 % per minute. Thus, the area is approximately 10 $\\times$ 1.1 = 11%.\n",
    "\n",
    "We can verify the calculation by filtering the table so that it only shows data with delays between 10-20 mins,"
   ]
  },
  {
   "cell_type": "code",
   "execution_count": 5,
   "metadata": {},
   "outputs": [
    {
     "data": {
      "text/html": [
       "<table border=\"1\" class=\"dataframe\">\n",
       "    <thead>\n",
       "        <tr>\n",
       "            <th>Date</th> <th>Flight Number</th> <th>Destination</th> <th>Delay</th>\n",
       "        </tr>\n",
       "    </thead>\n",
       "    <tbody>\n",
       "        <tr>\n",
       "            <td>6/1/15</td> <td>292          </td> <td>EWR        </td> <td>12   </td>\n",
       "        </tr>\n",
       "        <tr>\n",
       "            <td>6/1/15</td> <td>408          </td> <td>IAD        </td> <td>14   </td>\n",
       "        </tr>\n",
       "        <tr>\n",
       "            <td>6/1/15</td> <td>433          </td> <td>LAX        </td> <td>10   </td>\n",
       "        </tr>\n",
       "        <tr>\n",
       "            <td>6/1/15</td> <td>477          </td> <td>ORD        </td> <td>10   </td>\n",
       "        </tr>\n",
       "        <tr>\n",
       "            <td>6/1/15</td> <td>624          </td> <td>ORD        </td> <td>10   </td>\n",
       "        </tr>\n",
       "        <tr>\n",
       "            <td>6/1/15</td> <td>794          </td> <td>LIH        </td> <td>17   </td>\n",
       "        </tr>\n",
       "        <tr>\n",
       "            <td>6/1/15</td> <td>1029         </td> <td>LAS        </td> <td>16   </td>\n",
       "        </tr>\n",
       "        <tr>\n",
       "            <td>6/1/15</td> <td>1132         </td> <td>DFW        </td> <td>10   </td>\n",
       "        </tr>\n",
       "        <tr>\n",
       "            <td>6/1/15</td> <td>1138         </td> <td>MSY        </td> <td>10   </td>\n",
       "        </tr>\n",
       "        <tr>\n",
       "            <td>6/1/15</td> <td>1149         </td> <td>EWR        </td> <td>15   </td>\n",
       "        </tr>\n",
       "    </tbody>\n",
       "</table>\n",
       "<p>... (1435 rows omitted)</p>"
      ],
      "text/plain": [
       "Date   | Flight Number | Destination | Delay\n",
       "6/1/15 | 292           | EWR         | 12\n",
       "6/1/15 | 408           | IAD         | 14\n",
       "6/1/15 | 433           | LAX         | 10\n",
       "6/1/15 | 477           | ORD         | 10\n",
       "6/1/15 | 624           | ORD         | 10\n",
       "6/1/15 | 794           | LIH         | 17\n",
       "6/1/15 | 1029          | LAS         | 16\n",
       "6/1/15 | 1132          | DFW         | 10\n",
       "6/1/15 | 1138          | MSY         | 10\n",
       "6/1/15 | 1149          | EWR         | 15\n",
       "... (1435 rows omitted)"
      ]
     },
     "execution_count": 5,
     "metadata": {},
     "output_type": "execute_result"
    }
   ],
   "source": [
    "united.where('Delay', are.between(10, 20))"
   ]
  },
  {
   "cell_type": "markdown",
   "metadata": {},
   "source": [
    "Now, if we take the number of rows in the table above and divide with the number of rows in the original table, we will get the proportion of flights with delay between 10-20 minutes!"
   ]
  },
  {
   "cell_type": "code",
   "execution_count": 6,
   "metadata": {},
   "outputs": [
    {
     "data": {
      "text/plain": [
       "0.10452079566003616"
      ]
     },
     "execution_count": 6,
     "metadata": {},
     "output_type": "execute_result"
    }
   ],
   "source": [
    "united.where('Delay', are.between(10, 20)).num_rows / united.num_rows"
   ]
  },
  {
   "cell_type": "markdown",
   "metadata": {},
   "source": [
    "It turns out the proportion is about 10.45%! \n",
    "\n",
    "Now back to our original table, notice that we have so many rows, almost 14,000! In real life, it is often the case that we only have access to some of them, or we just want to work with a sample from the original population. \n",
    "\n",
    "We can take a sample from the original population (table) using, once again, the `sample` method. Recall that the `sample` method by default takes sample with replacement, which means there might be duplicates."
   ]
  },
  {
   "cell_type": "code",
   "execution_count": 7,
   "metadata": {},
   "outputs": [
    {
     "data": {
      "image/png": "[encoded data removed]",
      "text/plain": [
       "<Figure size 432x288 with 1 Axes>"
      ]
     },
     "metadata": {},
     "output_type": "display_data"
    }
   ],
   "source": [
    "united.sample(100).hist('Delay', bins = np.arange(-20, 251, 10), unit = 'minute')"
   ]
  },
  {
   "cell_type": "markdown",
   "metadata": {},
   "source": [
    "The histogram above seemed to look a little similar with the population histogram, where the peaks are around 0 or negative minutes. The rest of the delays looks jumbled up, but it is understandable since 100 is a relatively small sample size compared to 14,000.\n",
    "\n",
    "There is no limit of how many samples we can take. In fact, we can take more samples than the original population!"
   ]
  },
  {
   "cell_type": "code",
   "execution_count": 8,
   "metadata": {},
   "outputs": [
    {
     "data": {
      "image/png": "[encoded data removed]",
      "text/plain": [
       "<Figure size 432x288 with 1 Axes>"
      ]
     },
     "metadata": {},
     "output_type": "display_data"
    }
   ],
   "source": [
    "united.sample(100000).hist('Delay', bins = np.arange(-20, 251, 10), unit = 'minute')"
   ]
  },
  {
   "cell_type": "markdown",
   "metadata": {},
   "source": [
    "However, if we take samples **without replacement**, we can't take more samples than the original population."
   ]
  },
  {
   "cell_type": "code",
   "execution_count": 9,
   "metadata": {},
   "outputs": [
    {
     "ename": "ValueError",
     "evalue": "Cannot take a larger sample than population when 'replace=False'",
     "output_type": "error",
     "traceback": [
      "\u001b[1;31m--------------------------------------------------------------------\u001b[0m",
      "\u001b[1;31mValueError\u001b[0m                         Traceback (most recent call last)",
      "\u001b[1;32m<ipython-input-9-0b5a49dcddb3>\u001b[0m in \u001b[0;36m<module>\u001b[1;34m\u001b[0m\n\u001b[1;32m----> 1\u001b[1;33m \u001b[0munited\u001b[0m\u001b[1;33m.\u001b[0m\u001b[0msample\u001b[0m\u001b[1;33m(\u001b[0m\u001b[1;36m100000\u001b[0m\u001b[1;33m,\u001b[0m \u001b[0mwith_replacement\u001b[0m \u001b[1;33m=\u001b[0m \u001b[1;32mFalse\u001b[0m\u001b[1;33m)\u001b[0m\u001b[1;33m.\u001b[0m\u001b[0mhist\u001b[0m\u001b[1;33m(\u001b[0m\u001b[1;34m'Delay'\u001b[0m\u001b[1;33m,\u001b[0m \u001b[0mbins\u001b[0m \u001b[1;33m=\u001b[0m \u001b[0mnp\u001b[0m\u001b[1;33m.\u001b[0m\u001b[0marange\u001b[0m\u001b[1;33m(\u001b[0m\u001b[1;33m-\u001b[0m\u001b[1;36m20\u001b[0m\u001b[1;33m,\u001b[0m \u001b[1;36m251\u001b[0m\u001b[1;33m,\u001b[0m \u001b[1;36m10\u001b[0m\u001b[1;33m)\u001b[0m\u001b[1;33m,\u001b[0m \u001b[0munit\u001b[0m \u001b[1;33m=\u001b[0m \u001b[1;34m'minute'\u001b[0m\u001b[1;33m)\u001b[0m\u001b[1;33m\u001b[0m\u001b[1;33m\u001b[0m\u001b[0m\n\u001b[0m",
      "\u001b[1;32mc:\\users\\ronald yonggi\\appdata\\local\\programs\\python\\python37-32\\lib\\site-packages\\datascience\\tables.py\u001b[0m in \u001b[0;36msample\u001b[1;34m(self, k, with_replacement, weights)\u001b[0m\n\u001b[0;32m   1423\u001b[0m         \u001b[1;32mif\u001b[0m \u001b[0mk\u001b[0m \u001b[1;32mis\u001b[0m \u001b[1;32mNone\u001b[0m\u001b[1;33m:\u001b[0m\u001b[1;33m\u001b[0m\u001b[1;33m\u001b[0m\u001b[0m\n\u001b[0;32m   1424\u001b[0m             \u001b[0mk\u001b[0m \u001b[1;33m=\u001b[0m \u001b[0mn\u001b[0m\u001b[1;33m\u001b[0m\u001b[1;33m\u001b[0m\u001b[0m\n\u001b[1;32m-> 1425\u001b[1;33m         \u001b[0mindex\u001b[0m \u001b[1;33m=\u001b[0m \u001b[0mnp\u001b[0m\u001b[1;33m.\u001b[0m\u001b[0mrandom\u001b[0m\u001b[1;33m.\u001b[0m\u001b[0mchoice\u001b[0m\u001b[1;33m(\u001b[0m\u001b[0mn\u001b[0m\u001b[1;33m,\u001b[0m \u001b[0mk\u001b[0m\u001b[1;33m,\u001b[0m \u001b[0mreplace\u001b[0m\u001b[1;33m=\u001b[0m\u001b[0mwith_replacement\u001b[0m\u001b[1;33m,\u001b[0m \u001b[0mp\u001b[0m\u001b[1;33m=\u001b[0m\u001b[0mweights\u001b[0m\u001b[1;33m)\u001b[0m\u001b[1;33m\u001b[0m\u001b[1;33m\u001b[0m\u001b[0m\n\u001b[0m\u001b[0;32m   1426\u001b[0m         \u001b[0mcolumns\u001b[0m \u001b[1;33m=\u001b[0m \u001b[1;33m[\u001b[0m\u001b[1;33m[\u001b[0m\u001b[0mc\u001b[0m\u001b[1;33m[\u001b[0m\u001b[0mi\u001b[0m\u001b[1;33m]\u001b[0m \u001b[1;32mfor\u001b[0m \u001b[0mi\u001b[0m \u001b[1;32min\u001b[0m \u001b[0mindex\u001b[0m\u001b[1;33m]\u001b[0m \u001b[1;32mfor\u001b[0m \u001b[0mc\u001b[0m \u001b[1;32min\u001b[0m \u001b[0mself\u001b[0m\u001b[1;33m.\u001b[0m\u001b[0mcolumns\u001b[0m\u001b[1;33m]\u001b[0m\u001b[1;33m\u001b[0m\u001b[1;33m\u001b[0m\u001b[0m\n\u001b[0;32m   1427\u001b[0m         \u001b[0msample\u001b[0m \u001b[1;33m=\u001b[0m \u001b[0mself\u001b[0m\u001b[1;33m.\u001b[0m\u001b[0m_with_columns\u001b[0m\u001b[1;33m(\u001b[0m\u001b[0mcolumns\u001b[0m\u001b[1;33m)\u001b[0m\u001b[1;33m\u001b[0m\u001b[1;33m\u001b[0m\u001b[0m\n",
      "\u001b[1;32mmtrand.pyx\u001b[0m in \u001b[0;36mmtrand.RandomState.choice\u001b[1;34m()\u001b[0m\n",
      "\u001b[1;31mValueError\u001b[0m: Cannot take a larger sample than population when 'replace=False'"
     ]
    }
   ],
   "source": [
    "united.sample(100000, with_replacement = False).hist('Delay', bins = np.arange(-20, 251, 10), unit = 'minute')"
   ]
  },
  {
   "cell_type": "markdown",
   "metadata": {},
   "source": [
    "Once again, the law of averages also apply in this case. The greater the sample size that we take, the more the empirical histogram resembles the population histogram."
   ]
  },
  {
   "cell_type": "code",
   "execution_count": null,
   "metadata": {},
   "outputs": [],
   "source": [
    "united.sample(10).hist('Delay', bins = np.arange(-20, 251, 10), unit = 'minute')"
   ]
  },
  {
   "cell_type": "code",
   "execution_count": null,
   "metadata": {},
   "outputs": [],
   "source": [
    "united.sample(100).hist('Delay', bins = np.arange(-20, 251, 10), unit = 'minute')"
   ]
  },
  {
   "cell_type": "code",
   "execution_count": null,
   "metadata": {},
   "outputs": [],
   "source": [
    "united.sample(1000).hist('Delay', bins = np.arange(-20, 251, 10), unit = 'minute')"
   ]
  },
  {
   "cell_type": "code",
   "execution_count": null,
   "metadata": {},
   "outputs": [],
   "source": [
    "united.sample(10000).hist('Delay', bins = np.arange(-20, 251, 10), unit = 'minute')"
   ]
  },
  {
   "cell_type": "markdown",
   "metadata": {},
   "source": [
    "To make the job easier, we can define a function that constructs above histograms, with our own sample size input:"
   ]
  },
  {
   "cell_type": "code",
   "execution_count": null,
   "metadata": {},
   "outputs": [],
   "source": [
    "def united_sample_and_hist(n):\n",
    "    \"\"\" n is the input sample size\"\"\"\n",
    "    united.sample(n).hist('Delay', bins = np.arange(-20, 301, 10), unit = 'minute')"
   ]
  },
  {
   "cell_type": "code",
   "execution_count": null,
   "metadata": {},
   "outputs": [],
   "source": [
    "united_sample_and_hist(200)"
   ]
  },
  {
   "cell_type": "markdown",
   "metadata": {},
   "source": [
    "We can also incorporate `interact` function with the function that we defined!"
   ]
  },
  {
   "cell_type": "code",
   "execution_count": null,
   "metadata": {},
   "outputs": [],
   "source": [
    "_ = interact(united_sample_and_hist, n = 1000)"
   ]
  },
  {
   "cell_type": "markdown",
   "metadata": {},
   "source": [
    "This is a little trick: If we have a variable that changes a lot, we can make a function for it and make it interactive!\n",
    "\n",
    "By default, the `interactive` function attaches an interactive slider. We can change the slider into a drop-down menu by having an array as the second argument!"
   ]
  },
  {
   "cell_type": "code",
   "execution_count": null,
   "metadata": {},
   "outputs": [],
   "source": [
    "_ = interact(united_sample_and_hist, n = make_array(10, 100, 1000, 10000, 100000))"
   ]
  },
  {
   "cell_type": "markdown",
   "metadata": {},
   "source": [
    "## At Least One 6\n",
    "If we roll a die 4 times, What is P(at least one 6)? In other words, what is the probability of getting at least one 6?\n",
    "\n",
    "Once again, it is easier to calculate the probability of getting no 6 at all, then to calculate 1 - that.\n",
    "\n",
    "1. The probability of not getting 6 in a roll is $\\frac{5}{6}$\n",
    "2. The probability of not getting 6 at all in 4 rolls is ${\\frac{5}{6}}^4$\n",
    "3. The probability of above not to happen is the probability of at least getting one 6 in 4 rolls, which is $1 - {\\frac{5}{6}}^4$"
   ]
  },
  {
   "cell_type": "code",
   "execution_count": 2,
   "metadata": {},
   "outputs": [
    {
     "data": {
      "text/plain": [
       "0.5177469135802468"
      ]
     },
     "execution_count": 2,
     "metadata": {},
     "output_type": "execute_result"
    }
   ],
   "source": [
    "1 - (5/6) ** 4"
   ]
  },
  {
   "cell_type": "markdown",
   "metadata": {},
   "source": [
    "What if we change it to 6 rolls? or 10 rolls? We can set a variable to the number of rolls and then include it in the mathematical operation."
   ]
  },
  {
   "cell_type": "code",
   "execution_count": 3,
   "metadata": {},
   "outputs": [
    {
     "data": {
      "text/plain": [
       "0.6651020233196159"
      ]
     },
     "execution_count": 3,
     "metadata": {},
     "output_type": "execute_result"
    }
   ],
   "source": [
    "rolls = 6\n",
    "1 - (5/6) ** rolls"
   ]
  },
  {
   "cell_type": "markdown",
   "metadata": {},
   "source": [
    "As we increase the number of rolls, we should see that the probability of getting at least one 6 gets closer to 1. We can assign the `rolls` above with an array of numbers to see how the probability changes with varying number of rolls on the same time."
   ]
  },
  {
   "cell_type": "code",
   "execution_count": 4,
   "metadata": {},
   "outputs": [
    {
     "data": {
      "text/plain": [
       "array([0.16666667, 0.30555556, 0.4212963 , 0.51774691, 0.59812243,\n",
       "       0.66510202, 0.72091835, 0.76743196, 0.8061933 , 0.83849442,\n",
       "       0.86541201, 0.88784335, 0.90653612, 0.92211343, 0.93509453,\n",
       "       0.94591211, 0.95492676, 0.96243896, 0.96869914, 0.97391595,\n",
       "       0.97826329, 0.98188607, 0.98490506, 0.98742088, 0.9895174 ,\n",
       "       0.9912645 , 0.99272042, 0.99393368, 0.99494474, 0.99578728,\n",
       "       0.9964894 , 0.9970745 , 0.99756208, 0.9979684 , 0.998307  ,\n",
       "       0.99858917, 0.99882431, 0.99902026, 0.99918355, 0.99931962,\n",
       "       0.99943302, 0.99952752, 0.99960626, 0.99967189, 0.99972657,\n",
       "       0.99977214, 0.99981012, 0.99984177, 0.99986814, 0.99989012])"
      ]
     },
     "execution_count": 4,
     "metadata": {},
     "output_type": "execute_result"
    }
   ],
   "source": [
    "rolls = np.arange(1, 51)\n",
    "1 - (5/6) ** rolls"
   ]
  },
  {
   "cell_type": "markdown",
   "metadata": {},
   "source": [
    "It is difficult to see the result with just an array of numbers. Thus, we can make a table out of the results above."
   ]
  },
  {
   "cell_type": "code",
   "execution_count": 5,
   "metadata": {},
   "outputs": [
    {
     "data": {
      "text/html": [
       "<table border=\"1\" class=\"dataframe\">\n",
       "    <thead>\n",
       "        <tr>\n",
       "            <th>Roll</th> <th>Chance of getting at least one 6</th>\n",
       "        </tr>\n",
       "    </thead>\n",
       "    <tbody>\n",
       "        <tr>\n",
       "            <td>1   </td> <td>0.166667                        </td>\n",
       "        </tr>\n",
       "        <tr>\n",
       "            <td>2   </td> <td>0.305556                        </td>\n",
       "        </tr>\n",
       "        <tr>\n",
       "            <td>3   </td> <td>0.421296                        </td>\n",
       "        </tr>\n",
       "        <tr>\n",
       "            <td>4   </td> <td>0.517747                        </td>\n",
       "        </tr>\n",
       "        <tr>\n",
       "            <td>5   </td> <td>0.598122                        </td>\n",
       "        </tr>\n",
       "        <tr>\n",
       "            <td>6   </td> <td>0.665102                        </td>\n",
       "        </tr>\n",
       "        <tr>\n",
       "            <td>7   </td> <td>0.720918                        </td>\n",
       "        </tr>\n",
       "        <tr>\n",
       "            <td>8   </td> <td>0.767432                        </td>\n",
       "        </tr>\n",
       "        <tr>\n",
       "            <td>9   </td> <td>0.806193                        </td>\n",
       "        </tr>\n",
       "        <tr>\n",
       "            <td>10  </td> <td>0.838494                        </td>\n",
       "        </tr>\n",
       "    </tbody>\n",
       "</table>\n",
       "<p>... (40 rows omitted)</p>"
      ],
      "text/plain": [
       "Roll | Chance of getting at least one 6\n",
       "1    | 0.166667\n",
       "2    | 0.305556\n",
       "3    | 0.421296\n",
       "4    | 0.517747\n",
       "5    | 0.598122\n",
       "6    | 0.665102\n",
       "7    | 0.720918\n",
       "8    | 0.767432\n",
       "9    | 0.806193\n",
       "10   | 0.838494\n",
       "... (40 rows omitted)"
      ]
     },
     "execution_count": 5,
     "metadata": {},
     "output_type": "execute_result"
    }
   ],
   "source": [
    "rolls = np.arange(1, 51)\n",
    "at_least_one = Table().with_columns(\n",
    "    'Roll', rolls,\n",
    "    'Chance of getting at least one 6', 1 - (5/6) ** rolls\n",
    ")\n",
    "at_least_one"
   ]
  },
  {
   "cell_type": "markdown",
   "metadata": {},
   "source": [
    "We can see clearly above that as the number of rolls increase, the chance gets closer to 1. We can visualize the table above with a scatter plot."
   ]
  },
  {
   "cell_type": "code",
   "execution_count": 6,
   "metadata": {},
   "outputs": [
    {
     "data": {
      "image/png": "[encoded data removed]",
      "text/plain": [
       "<Figure size 360x360 with 1 Axes>"
      ]
     },
     "metadata": {},
     "output_type": "display_data"
    }
   ],
   "source": [
    "at_least_one.scatter('Roll')"
   ]
  },
  {
   "cell_type": "markdown",
   "metadata": {},
   "source": [
    "Let's say we want to know the probability at a specific roll: 20. We can use the `where` method:"
   ]
  },
  {
   "cell_type": "code",
   "execution_count": 7,
   "metadata": {},
   "outputs": [
    {
     "data": {
      "text/html": [
       "<table border=\"1\" class=\"dataframe\">\n",
       "    <thead>\n",
       "        <tr>\n",
       "            <th>Roll</th> <th>Chance of getting at least one 6</th>\n",
       "        </tr>\n",
       "    </thead>\n",
       "    <tbody>\n",
       "        <tr>\n",
       "            <td>20  </td> <td>0.973916                        </td>\n",
       "        </tr>\n",
       "    </tbody>\n",
       "</table>"
      ],
      "text/plain": [
       "Roll | Chance of getting at least one 6\n",
       "20   | 0.973916"
      ]
     },
     "execution_count": 7,
     "metadata": {},
     "output_type": "execute_result"
    }
   ],
   "source": [
    "at_least_one.where('Roll', 20)"
   ]
  },
  {
   "cell_type": "markdown",
   "metadata": {},
   "source": [
    "All that we have covered above is the **theoretical probability**, computed with math, assuming that the die is fair.\n",
    "\n",
    "#### If we don't know anything about math and rules of probability, how do we find the probability of getting at least one 6?\n",
    "We can roll a die multiple times and record the results. But even easier, we can use a computer simulation. \n",
    "\n",
    "Below we create a die called 'faces' with 6 faces."
   ]
  },
  {
   "cell_type": "code",
   "execution_count": 8,
   "metadata": {},
   "outputs": [
    {
     "data": {
      "text/plain": [
       "array([1, 2, 3, 4, 5, 6])"
      ]
     },
     "execution_count": 8,
     "metadata": {},
     "output_type": "execute_result"
    }
   ],
   "source": [
    "faces = np.arange(1, 7)\n",
    "faces"
   ]
  },
  {
   "cell_type": "markdown",
   "metadata": {},
   "source": [
    "We can use `np.random.choice` to simulate a random die roll."
   ]
  },
  {
   "cell_type": "code",
   "execution_count": 9,
   "metadata": {},
   "outputs": [
    {
     "data": {
      "text/plain": [
       "3"
      ]
     },
     "execution_count": 9,
     "metadata": {},
     "output_type": "execute_result"
    }
   ],
   "source": [
    "np.random.choice(faces)"
   ]
  },
  {
   "cell_type": "markdown",
   "metadata": {},
   "source": [
    "If we want to simulate the roll multiple times, we can add a second argument to the `np.random.choice`."
   ]
  },
  {
   "cell_type": "code",
   "execution_count": 10,
   "metadata": {},
   "outputs": [
    {
     "data": {
      "text/plain": [
       "array([1, 2, 3, 6, 2, 3, 4, 1, 5, 6, 3, 2, 6, 6, 6, 3, 6, 2, 5, 4])"
      ]
     },
     "execution_count": 10,
     "metadata": {},
     "output_type": "execute_result"
    }
   ],
   "source": [
    "np.random.choice(faces, 20)"
   ]
  },
  {
   "cell_type": "markdown",
   "metadata": {},
   "source": [
    "From our simulation, do we get at least one 6? If we do, how many 6 do we get?\n",
    "\n",
    "First, we check each of the result and see if we get any 6."
   ]
  },
  {
   "cell_type": "code",
   "execution_count": 11,
   "metadata": {},
   "outputs": [
    {
     "data": {
      "text/plain": [
       "array([False, False, False, False,  True, False,  True, False, False,\n",
       "       False, False, False, False,  True,  True, False, False, False,\n",
       "       False, False])"
      ]
     },
     "execution_count": 11,
     "metadata": {},
     "output_type": "execute_result"
    }
   ],
   "source": [
    "outcomes = np.random.choice(faces, 20)\n",
    "outcomes == 6"
   ]
  },
  {
   "cell_type": "markdown",
   "metadata": {},
   "source": [
    "With `outcomes == 6`, we get an array of `True`s and `False`s. A `True` means one 6. We can calculate how many `True`s we obtained using `np.count_nonzero`."
   ]
  },
  {
   "cell_type": "code",
   "execution_count": 12,
   "metadata": {},
   "outputs": [
    {
     "data": {
      "text/plain": [
       "4"
      ]
     },
     "execution_count": 12,
     "metadata": {},
     "output_type": "execute_result"
    }
   ],
   "source": [
    "np.count_nonzero(outcomes == 6)"
   ]
  },
  {
   "cell_type": "markdown",
   "metadata": {},
   "source": [
    "We can run the cells above many times, but that would be too much work. Once again, we can write a `for` loop to simulate the rolls!"
   ]
  },
  {
   "cell_type": "code",
   "execution_count": 13,
   "metadata": {},
   "outputs": [
    {
     "data": {
      "text/plain": [
       "0.968"
      ]
     },
     "execution_count": 13,
     "metadata": {},
     "output_type": "execute_result"
    }
   ],
   "source": [
    "trials = 1000 # the number of trials we want, or how many times the for loop will reloop\n",
    "success = 0 # every time a trial got at least one 6, success increases by 1.\n",
    "\n",
    "for i in np.arange(trials):\n",
    "    outcomes = np.random.choice(faces, 20) # every for loop, do a simulation of 20 rolls\n",
    "    if np.count_nonzero(outcomes == 6) > 0: # if there is at least one 6\n",
    "        success += 1 # then success increases by 1\n",
    "        \n",
    "# The probability can be computed by dividing the success with the number of trials\n",
    "success / trials"
   ]
  },
  {
   "cell_type": "markdown",
   "metadata": {},
   "source": [
    "Compare the result above with the theoretical probability,"
   ]
  },
  {
   "cell_type": "code",
   "execution_count": 14,
   "metadata": {},
   "outputs": [
    {
     "data": {
      "text/html": [
       "<table border=\"1\" class=\"dataframe\">\n",
       "    <thead>\n",
       "        <tr>\n",
       "            <th>Roll</th> <th>Chance of getting at least one 6</th>\n",
       "        </tr>\n",
       "    </thead>\n",
       "    <tbody>\n",
       "        <tr>\n",
       "            <td>20  </td> <td>0.973916                        </td>\n",
       "        </tr>\n",
       "    </tbody>\n",
       "</table>"
      ],
      "text/plain": [
       "Roll | Chance of getting at least one 6\n",
       "20   | 0.973916"
      ]
     },
     "execution_count": 14,
     "metadata": {},
     "output_type": "execute_result"
    }
   ],
   "source": [
    "at_least_one.where('Roll', 20)"
   ]
  },
  {
   "cell_type": "markdown",
   "metadata": {},
   "source": [
    "If we increase the number of `trials` in the for loop, the result will get closer to the theoretical probability above."
   ]
  },
  {
   "cell_type": "code",
   "execution_count": 15,
   "metadata": {},
   "outputs": [
    {
     "data": {
      "text/plain": [
       "0.97368"
      ]
     },
     "execution_count": 15,
     "metadata": {},
     "output_type": "execute_result"
    }
   ],
   "source": [
    "trials = 100000 # the number of trials we want, or how many times the for loop will reloop\n",
    "success = 0 # every time a trial got at least one 6, success increases by 1.\n",
    "\n",
    "for i in np.arange(trials):\n",
    "    outcomes = np.random.choice(faces, 20) # every for loop, do a simulation of 20 rolls\n",
    "    if np.count_nonzero(outcomes == 6) > 0: # if there is at least one 6\n",
    "        success += 1 # then success increases by 1\n",
    "        \n",
    "# The probability can be computed by dividing the success with the number of trials\n",
    "success / trials"
   ]
  },
  {
   "cell_type": "markdown",
   "metadata": {},
   "source": [
    "We might think that doing the simulation is pointless since we could calculate the probability in the first place. However, there are complicated cases where we won't be able to calculate the theoretical probability at all (or it would be too difficult to calculate it). For example, in the Monty Hall problem, we proved that switching door is better than sticking to the original choice, using a simulation."
   ]
  },
  {
   "cell_type": "markdown",
   "metadata": {},
   "source": [
    "# Statistics\n",
    "This is one of the core themes in the class. The way statistic had been taught for a long time was about taking samples and use it to infer about a population. Back then, students were given simple datasets (e.g. without involving strings), because students didn't have access to computers that can process complicated datasets. They only had calculators that can process numbers!\n",
    "\n",
    "Now that we have computers, we have the ability to process actual, complicated, huge datasets."
   ]
  },
  {
   "cell_type": "markdown",
   "metadata": {},
   "source": [
    "## Why sample?\n",
    "1. We have the rule of **Probability**:\n",
    "\n",
    "\"Suppose we know everything about the world. Given assumptions, we can use the rule of probability to state that if we roll a dice 10,000 times, we can expect 1,600 of the outcome to be 3. Here we assumed that the die is fair.\"\n",
    "\n",
    "\"We have an underlying mechanism, then that's how the world should behave.\"\n",
    "\n",
    "2. Statistics, on the other hand, is the opposite of rule of probability.\n",
    "\n",
    "\"We don't know much about the world, but we rolled a die a million times and we observed that 1/6 of the outcomes were 3.\n",
    "\n",
    "\"We have the real world, let's figure out the mechanism from there.\"\n",
    "\n",
    "#### The 2 concepts above are connected by `Sampling`.\n",
    "In probability, we go from theory to real world by sampling (e.g. roll die multiple times and see if the result matches the theory).\n",
    "\n",
    "In statistics, we take a sample and state that the sample might came from a population in a real world. \n",
    "\n",
    "The next few lectures will heavily focus on statistics as it is more applicable to the real world. "
   ]
  },
  {
   "cell_type": "markdown",
   "metadata": {},
   "source": [
    "## Estimation\n",
    "At the heart of statistics is **Statistical Inference**: Making conclusions based on data in random samples, even though it is not the entire population.\n",
    "<img src = 'estimation.jpg' width = 400\\>\n",
    "Example: the % of flights that are were 20 mins late or more.\n",
    "\n",
    "We create an estimate of something that we want to find out. We make an assumption that the unknown number is **fixed**. For example, we are trying to estimate the probability of getting one 6 in a dice roll. We assume that the probability is fixed, it does not change between dice rolls.\n",
    "\n",
    "Our estimate depends on the random sample. Let'say we do 1000 sets of 20 dice rolls. Out of those 1000 sets, 10 do not have 6 at all. This is the random sample, and we can use it to estimate the actual probability."
   ]
  },
  {
   "cell_type": "markdown",
   "metadata": {},
   "source": [
    "## Terminology\n",
    "Random quantities usually have some terms involved. \n",
    "\n",
    "1. `Parameter`: a number associated with the population. \n",
    "\n",
    "    * Given an entire population, the `parameter` is the value that we want to find out\n",
    "    * (e.g. the number of people that like fancy socks)\n",
    "    \n",
    "\n",
    "2. `Statistic`: A number calculated from the sample\n",
    "    * In the real world, we may see some people that like and wear fancy socks\n",
    "        * But we don't get to know how many people in total do that. We only see 100 of them with our own eyes\n",
    "    * The sample is that 100 people\n",
    "    \n",
    "A `statistic` can be used as an `estimate` of a `parameter`.\n",
    "    "
   ]
  },
  {
   "cell_type": "markdown",
   "metadata": {},
   "source": [
    "## Demo\n",
    "Going back to our dice roll case, if we look at the simulation of 20 rolls multiple times,"
   ]
  },
  {
   "cell_type": "code",
   "execution_count": 16,
   "metadata": {},
   "outputs": [
    {
     "data": {
      "text/plain": [
       "0.97"
      ]
     },
     "execution_count": 16,
     "metadata": {},
     "output_type": "execute_result"
    }
   ],
   "source": [
    "trials = 1000 # the number of trials we want, or how many times the for loop will reloop\n",
    "success = 0 # every time a trial got at least one 6, success increases by 1.\n",
    "\n",
    "for i in np.arange(trials):\n",
    "    outcomes = np.random.choice(faces, 20) # every for loop, do a simulation of 20 rolls\n",
    "    if np.count_nonzero(outcomes == 6) > 0: # if there is at least one 6\n",
    "        success += 1 # then success increases by 1\n",
    "        \n",
    "# The probability can be computed by dividing the success with the number of trials\n",
    "success / trials"
   ]
  },
  {
   "cell_type": "markdown",
   "metadata": {},
   "source": [
    "And compare it to the theoretical probability,"
   ]
  },
  {
   "cell_type": "code",
   "execution_count": 17,
   "metadata": {},
   "outputs": [
    {
     "data": {
      "text/html": [
       "<table border=\"1\" class=\"dataframe\">\n",
       "    <thead>\n",
       "        <tr>\n",
       "            <th>Roll</th> <th>Chance of getting at least one 6</th>\n",
       "        </tr>\n",
       "    </thead>\n",
       "    <tbody>\n",
       "        <tr>\n",
       "            <td>20  </td> <td>0.973916                        </td>\n",
       "        </tr>\n",
       "    </tbody>\n",
       "</table>"
      ],
      "text/plain": [
       "Roll | Chance of getting at least one 6\n",
       "20   | 0.973916"
      ]
     },
     "execution_count": 17,
     "metadata": {},
     "output_type": "execute_result"
    }
   ],
   "source": [
    "at_least_one.where('Roll', 20)"
   ]
  },
  {
   "cell_type": "markdown",
   "metadata": {},
   "source": [
    "We see that the simulation is not always accurate. The result of the simulation can be above or below the theoretical probability. How big of a variance can the result of the simulation be?\n",
    "\n",
    "One way of finding out is to run the simulation multiple times, collect the result and construct a distribution out of the collected results. \n",
    "\n",
    "First of all, we can create a function `roll_20` for the simulation."
   ]
  },
  {
   "cell_type": "code",
   "execution_count": 18,
   "metadata": {},
   "outputs": [],
   "source": [
    "def roll_20(trials):\n",
    "    success = 0\n",
    "    for i in np.arange(trials):\n",
    "        outcomes = np.random.choice(faces, 20)\n",
    "        if np.count_nonzero(outcomes == 6) > 0: \n",
    "            success += 1 \n",
    "            \n",
    "    return success / trials"
   ]
  },
  {
   "cell_type": "code",
   "execution_count": 21,
   "metadata": {},
   "outputs": [
    {
     "data": {
      "text/plain": [
       "0.975"
      ]
     },
     "execution_count": 21,
     "metadata": {},
     "output_type": "execute_result"
    }
   ],
   "source": [
    "roll_20(1000)"
   ]
  },
  {
   "cell_type": "markdown",
   "metadata": {},
   "source": [
    "And since we want to call `roll_20` multiple times, we should create a `for` loop! Notice that instead of an empty array, made `estimates` as an empty table. This is because it is easier to visualize the data from a table."
   ]
  },
  {
   "cell_type": "code",
   "execution_count": 19,
   "metadata": {},
   "outputs": [
    {
     "data": {
      "text/html": [
       "<table border=\"1\" class=\"dataframe\">\n",
       "    <thead>\n",
       "        <tr>\n",
       "            <th>estimate</th>\n",
       "        </tr>\n",
       "    </thead>\n",
       "    <tbody>\n",
       "        <tr>\n",
       "            <td>0.976   </td>\n",
       "        </tr>\n",
       "        <tr>\n",
       "            <td>0.973   </td>\n",
       "        </tr>\n",
       "        <tr>\n",
       "            <td>0.977   </td>\n",
       "        </tr>\n",
       "        <tr>\n",
       "            <td>0.978   </td>\n",
       "        </tr>\n",
       "        <tr>\n",
       "            <td>0.984   </td>\n",
       "        </tr>\n",
       "        <tr>\n",
       "            <td>0.962   </td>\n",
       "        </tr>\n",
       "        <tr>\n",
       "            <td>0.975   </td>\n",
       "        </tr>\n",
       "        <tr>\n",
       "            <td>0.978   </td>\n",
       "        </tr>\n",
       "        <tr>\n",
       "            <td>0.977   </td>\n",
       "        </tr>\n",
       "        <tr>\n",
       "            <td>0.987   </td>\n",
       "        </tr>\n",
       "    </tbody>\n",
       "</table>\n",
       "<p>... (990 rows omitted)</p>"
      ],
      "text/plain": [
       "estimate\n",
       "0.976\n",
       "0.973\n",
       "0.977\n",
       "0.978\n",
       "0.984\n",
       "0.962\n",
       "0.975\n",
       "0.978\n",
       "0.977\n",
       "0.987\n",
       "... (990 rows omitted)"
      ]
     },
     "execution_count": 19,
     "metadata": {},
     "output_type": "execute_result"
    }
   ],
   "source": [
    "estimates = Table(['estimate'])\n",
    "for i in np.arange(1000): # Do 1000 times of 1000 sets of 20 rolls\n",
    "    estimates.append([roll_20(1000)])\n",
    "estimates"
   ]
  },
  {
   "cell_type": "markdown",
   "metadata": {},
   "source": [
    "The result above are our estimates of the probability of getting at least one 6. We can visualize the distribution using a bar chart,"
   ]
  },
  {
   "cell_type": "code",
   "execution_count": 23,
   "metadata": {},
   "outputs": [
    {
     "data": {
      "image/png": "[encoded data removed]",
      "text/plain": [
       "<Figure size 432x1080 with 1 Axes>"
      ]
     },
     "metadata": {},
     "output_type": "display_data"
    }
   ],
   "source": [
    "estimates.group('estimate').barh('estimate')"
   ]
  },
  {
   "cell_type": "markdown",
   "metadata": {},
   "source": [
    "Looking at the distribution above, it seems that the peak is centered around the theoretical probability, 0.9739.\n",
    "\n",
    "We can also visualize the distribution using a histogram."
   ]
  },
  {
   "cell_type": "code",
   "execution_count": 25,
   "metadata": {},
   "outputs": [
    {
     "data": {
      "image/png": "[encoded data removed]",
      "text/plain": [
       "<Figure size 432x288 with 1 Axes>"
      ]
     },
     "metadata": {},
     "output_type": "display_data"
    }
   ],
   "source": [
    "estimates.hist()"
   ]
  },
  {
   "cell_type": "markdown",
   "metadata": {},
   "source": [
    "As we can see, the distribution histogram also shows that the peak is close to the theoretical probability, which is 0.974."
   ]
  },
  {
   "cell_type": "markdown",
   "metadata": {},
   "source": [
    "# Warplanes\n",
    "\n",
    "In World War 2, the Allied Forces tried to estimate the total number of warplanes Germany had. The Allied Forces took pictures of the warplanes and take notes of the serial number written on the planes.\n",
    "<img src = 'warplanes.jpg' width = 600\\>"
   ]
  },
  {
   "cell_type": "markdown",
   "metadata": {},
   "source": [
    "## Assumptions\n",
    "1. The warplanes have serial numbers: 1, 2, 3, ..., N\n",
    "2. We don't know N\n",
    "3. We want to estimate N based on the serial numbers of the planes that we see\n",
    "\n",
    "The **main assumption**: The serial numbers of the planes that we see are a uniform random sample drawn with replacement from 1, 2, 3, ..., N\n",
    "\n",
    "The assumption is important. With the assumption, we can say that it is equally likely to see each serial number."
   ]
  },
  {
   "cell_type": "markdown",
   "metadata": {},
   "source": [
    "## Discussion Question\n",
    "If we saw these serial numbers, what would be the estimate of N?\n",
    "<img src = 'serial_numbers.jpg' width = 500\\>\n",
    "\n",
    "A safe guess is to **go with the largest number**: `291`. We know that N can't be less than 291."
   ]
  },
  {
   "cell_type": "markdown",
   "metadata": {},
   "source": [
    "## The Largest Number Observed\n",
    "If we guess the largest number, `291`, to be N, how likely is `291` to actually be N? How close our guess is to N?\n",
    "\n",
    "We have a few options to do:\n",
    "\n",
    "1. Try to calculate the probabilities and draw a probability histogram\n",
    "\n",
    "    * Using the rules of probability, find the probability of getting the sample and try to infer the actual N\n",
    "\n",
    "\n",
    "2. Simulate and draw an empirical histogram"
   ]
  },
  {
   "cell_type": "markdown",
   "metadata": {},
   "source": [
    "## Demo\n",
    "Below we have a table containing the plane serial numbers."
   ]
  },
  {
   "cell_type": "code",
   "execution_count": 3,
   "metadata": {},
   "outputs": [
    {
     "data": {
      "text/html": [
       "<table border=\"1\" class=\"dataframe\">\n",
       "    <thead>\n",
       "        <tr>\n",
       "            <th>Serial number</th>\n",
       "        </tr>\n",
       "    </thead>\n",
       "    <tbody>\n",
       "        <tr>\n",
       "            <td>1            </td>\n",
       "        </tr>\n",
       "        <tr>\n",
       "            <td>2            </td>\n",
       "        </tr>\n",
       "        <tr>\n",
       "            <td>3            </td>\n",
       "        </tr>\n",
       "        <tr>\n",
       "            <td>4            </td>\n",
       "        </tr>\n",
       "        <tr>\n",
       "            <td>5            </td>\n",
       "        </tr>\n",
       "        <tr>\n",
       "            <td>6            </td>\n",
       "        </tr>\n",
       "        <tr>\n",
       "            <td>7            </td>\n",
       "        </tr>\n",
       "        <tr>\n",
       "            <td>8            </td>\n",
       "        </tr>\n",
       "        <tr>\n",
       "            <td>9            </td>\n",
       "        </tr>\n",
       "        <tr>\n",
       "            <td>10           </td>\n",
       "        </tr>\n",
       "    </tbody>\n",
       "</table>\n",
       "<p>... (290 rows omitted)</p>"
      ],
      "text/plain": [
       "Serial number\n",
       "1\n",
       "2\n",
       "3\n",
       "4\n",
       "5\n",
       "6\n",
       "7\n",
       "8\n",
       "9\n",
       "10\n",
       "... (290 rows omitted)"
      ]
     },
     "execution_count": 3,
     "metadata": {},
     "output_type": "execute_result"
    }
   ],
   "source": [
    "N = 300\n",
    "serialno = Table().with_column('Serial number', np.arange(N)+1)\n",
    "serialno"
   ]
  },
  {
   "cell_type": "markdown",
   "metadata": {},
   "source": [
    "The numbers above are the serial numbers that we could possibly see. Assume that we don't know that N is 300. Now let's say we take 30 sample and treat that 30 as \"the numbers that we happened to see\"."
   ]
  },
  {
   "cell_type": "code",
   "execution_count": 4,
   "metadata": {},
   "outputs": [
    {
     "data": {
      "text/html": [
       "<table border=\"1\" class=\"dataframe\">\n",
       "    <thead>\n",
       "        <tr>\n",
       "            <th>Serial number</th>\n",
       "        </tr>\n",
       "    </thead>\n",
       "    <tbody>\n",
       "        <tr>\n",
       "            <td>119          </td>\n",
       "        </tr>\n",
       "        <tr>\n",
       "            <td>255          </td>\n",
       "        </tr>\n",
       "        <tr>\n",
       "            <td>300          </td>\n",
       "        </tr>\n",
       "        <tr>\n",
       "            <td>114          </td>\n",
       "        </tr>\n",
       "        <tr>\n",
       "            <td>254          </td>\n",
       "        </tr>\n",
       "        <tr>\n",
       "            <td>41           </td>\n",
       "        </tr>\n",
       "        <tr>\n",
       "            <td>39           </td>\n",
       "        </tr>\n",
       "        <tr>\n",
       "            <td>269          </td>\n",
       "        </tr>\n",
       "        <tr>\n",
       "            <td>52           </td>\n",
       "        </tr>\n",
       "        <tr>\n",
       "            <td>104          </td>\n",
       "        </tr>\n",
       "    </tbody>\n",
       "</table>\n",
       "<p>... (20 rows omitted)</p>"
      ],
      "text/plain": [
       "Serial number\n",
       "119\n",
       "255\n",
       "300\n",
       "114\n",
       "254\n",
       "41\n",
       "39\n",
       "269\n",
       "52\n",
       "104\n",
       "... (20 rows omitted)"
      ]
     },
     "execution_count": 4,
     "metadata": {},
     "output_type": "execute_result"
    }
   ],
   "source": [
    "serialno.sample(30)"
   ]
  },
  {
   "cell_type": "markdown",
   "metadata": {},
   "source": [
    "We can take the `max` of the serial numbers above,"
   ]
  },
  {
   "cell_type": "code",
   "execution_count": 5,
   "metadata": {},
   "outputs": [
    {
     "data": {
      "text/plain": [
       "295"
      ]
     },
     "execution_count": 5,
     "metadata": {},
     "output_type": "execute_result"
    }
   ],
   "source": [
    "serialno.sample(30).column(0).max()"
   ]
  },
  {
   "cell_type": "markdown",
   "metadata": {},
   "source": [
    "If we run the cell above multiple times, we can see the taking the `max` value gets us close to the actual N, but how close?\n",
    "We can solve this by looking at the distribution. Note that with the code below, instead of just using numbers as input, we made variables such as `repetitions` and `sample_size`. This helps keep track of the numbers involved in the code."
   ]
  },
  {
   "cell_type": "code",
   "execution_count": 6,
   "metadata": {},
   "outputs": [
    {
     "data": {
      "text/html": [
       "<table border=\"1\" class=\"dataframe\">\n",
       "    <thead>\n",
       "        <tr>\n",
       "            <th>Max serial number</th>\n",
       "        </tr>\n",
       "    </thead>\n",
       "    <tbody>\n",
       "        <tr>\n",
       "            <td>300              </td>\n",
       "        </tr>\n",
       "        <tr>\n",
       "            <td>297              </td>\n",
       "        </tr>\n",
       "        <tr>\n",
       "            <td>300              </td>\n",
       "        </tr>\n",
       "        <tr>\n",
       "            <td>290              </td>\n",
       "        </tr>\n",
       "        <tr>\n",
       "            <td>296              </td>\n",
       "        </tr>\n",
       "        <tr>\n",
       "            <td>299              </td>\n",
       "        </tr>\n",
       "        <tr>\n",
       "            <td>248              </td>\n",
       "        </tr>\n",
       "        <tr>\n",
       "            <td>292              </td>\n",
       "        </tr>\n",
       "        <tr>\n",
       "            <td>293              </td>\n",
       "        </tr>\n",
       "        <tr>\n",
       "            <td>294              </td>\n",
       "        </tr>\n",
       "    </tbody>\n",
       "</table>\n",
       "<p>... (990 rows omitted)</p>"
      ],
      "text/plain": [
       "Max serial number\n",
       "300\n",
       "297\n",
       "300\n",
       "290\n",
       "296\n",
       "299\n",
       "248\n",
       "292\n",
       "293\n",
       "294\n",
       "... (990 rows omitted)"
      ]
     },
     "execution_count": 6,
     "metadata": {},
     "output_type": "execute_result"
    }
   ],
   "source": [
    "sample_size = 30\n",
    "repetitions = 1000\n",
    "\n",
    "maxes = make_array() # This empty array holds the maximums\n",
    "\n",
    "for i in np.arange(repetitions):\n",
    "    # sampled_N holds the maximum for one particular loop\n",
    "    sampled_N = serialno.sample(sample_size).column(0).max()\n",
    "    # Note that maxes is an array, not a table. We can't use maxes.append\n",
    "    maxes = np.append(maxes, sampled_N)\n",
    "    \n",
    "# Create a table out of maxes\n",
    "estimates = Table().with_columns(\n",
    "    'Max serial number', maxes\n",
    ")\n",
    "estimates"
   ]
  },
  {
   "cell_type": "markdown",
   "metadata": {},
   "source": [
    "Above we see our maxes. We can create a histogram out of the table above."
   ]
  },
  {
   "cell_type": "code",
   "execution_count": 7,
   "metadata": {},
   "outputs": [
    {
     "data": {
      "image/png": "[encoded data removed]",
      "text/plain": [
       "<Figure size 432x288 with 1 Axes>"
      ]
     },
     "metadata": {},
     "output_type": "display_data"
    }
   ],
   "source": [
    "estimates.hist(0)"
   ]
  },
  {
   "cell_type": "markdown",
   "metadata": {},
   "source": [
    "Below is a histogram that is more spread out,"
   ]
  },
  {
   "cell_type": "code",
   "execution_count": 8,
   "metadata": {},
   "outputs": [
    {
     "data": {
      "image/png": "[encoded data removed]",
      "text/plain": [
       "<Figure size 432x288 with 1 Axes>"
      ]
     },
     "metadata": {},
     "output_type": "display_data"
    }
   ],
   "source": [
    "estimates.hist(0, bins = np.arange(1, 400, 10))"
   ]
  },
  {
   "cell_type": "markdown",
   "metadata": {},
   "source": [
    "From the histogram above, we can see that the method of taking the `max` number does pretty well as most of the numbers are close to the actual N.\n",
    "\n",
    "Now, if we go back to the discussion question,\n",
    "<img src = 'serial_numbers.jpg' width = 500\\>\n",
    "In the simulation, we could take as many samples as we want. However, if we only have the sample above and took the `max`, the histogram shows that there is a high chance that the `max` is close to N. "
   ]
  },
  {
   "cell_type": "markdown",
   "metadata": {},
   "source": [
    "## Verdict on The Estimate\n",
    "1. The largest serial number (`max`) is likely to be close to N\n",
    "    * But also it will be likely to be lower than N\n",
    "\n",
    "Another idea:\n",
    "2. Take the average of the serial numbers, then multiply by 2\n",
    "    * Reasoning: Let's say the serial numbers are between 1 to 100. If we take a sample, it is likely that the average of the numbers in the sample would be around 50\n",
    "        * If we multiply this average, 50 $\\times$ 2, then we get 100"
   ]
  },
  {
   "cell_type": "markdown",
   "metadata": {},
   "source": [
    "We will use the simulation code that we have written and add more codes into it,"
   ]
  },
  {
   "cell_type": "code",
   "execution_count": 10,
   "metadata": {},
   "outputs": [
    {
     "data": {
      "text/html": [
       "<table border=\"1\" class=\"dataframe\">\n",
       "    <thead>\n",
       "        <tr>\n",
       "            <th>Max serial number</th> <th>Twice the average</th>\n",
       "        </tr>\n",
       "    </thead>\n",
       "    <tbody>\n",
       "        <tr>\n",
       "            <td>296              </td> <td>304.867          </td>\n",
       "        </tr>\n",
       "        <tr>\n",
       "            <td>296              </td> <td>317.2            </td>\n",
       "        </tr>\n",
       "        <tr>\n",
       "            <td>298              </td> <td>328.133          </td>\n",
       "        </tr>\n",
       "        <tr>\n",
       "            <td>231              </td> <td>233.333          </td>\n",
       "        </tr>\n",
       "        <tr>\n",
       "            <td>288              </td> <td>335.8            </td>\n",
       "        </tr>\n",
       "        <tr>\n",
       "            <td>295              </td> <td>288.933          </td>\n",
       "        </tr>\n",
       "        <tr>\n",
       "            <td>293              </td> <td>318.667          </td>\n",
       "        </tr>\n",
       "        <tr>\n",
       "            <td>271              </td> <td>272.333          </td>\n",
       "        </tr>\n",
       "        <tr>\n",
       "            <td>296              </td> <td>340.6            </td>\n",
       "        </tr>\n",
       "        <tr>\n",
       "            <td>289              </td> <td>307.867          </td>\n",
       "        </tr>\n",
       "    </tbody>\n",
       "</table>\n",
       "<p>... (990 rows omitted)</p>"
      ],
      "text/plain": [
       "Max serial number | Twice the average\n",
       "296               | 304.867\n",
       "296               | 317.2\n",
       "298               | 328.133\n",
       "231               | 233.333\n",
       "288               | 335.8\n",
       "295               | 288.933\n",
       "293               | 318.667\n",
       "271               | 272.333\n",
       "296               | 340.6\n",
       "289               | 307.867\n",
       "... (990 rows omitted)"
      ]
     },
     "execution_count": 10,
     "metadata": {},
     "output_type": "execute_result"
    }
   ],
   "source": [
    "sample_size = 30\n",
    "repetitions = 1000\n",
    "\n",
    "maxes = make_array() # This empty array holds the maximums\n",
    "doubles = make_array() # This empty arrays holds the \"twice the averages\"\n",
    "\n",
    "for i in np.arange(repetitions):\n",
    "    # sample holds a bunch of serial numbers\n",
    "    sample = serialno.sample(sample_size).column(0)\n",
    "\n",
    "    # Previously on 2nd argument we used sampled_N. This time we use np.average(sample)\n",
    "    maxes = np.append(maxes, np.max(sample))\n",
    "    \n",
    "    # update the doubles\n",
    "    doubles = np.append(doubles, np.average(sample) * 2)\n",
    "    \n",
    "# Create a table out of maxes\n",
    "estimates = Table().with_columns(\n",
    "    'Max serial number', maxes,\n",
    "    'Twice the average', doubles\n",
    ")\n",
    "estimates"
   ]
  },
  {
   "cell_type": "markdown",
   "metadata": {},
   "source": [
    "If we visualize the distribution,"
   ]
  },
  {
   "cell_type": "code",
   "execution_count": 11,
   "metadata": {},
   "outputs": [
    {
     "data": {
      "image/png": "[encoded data removed]",
      "text/plain": [
       "<Figure size 432x288 with 1 Axes>"
      ]
     },
     "metadata": {},
     "output_type": "display_data"
    }
   ],
   "source": [
    "estimates.hist()"
   ]
  },
  {
   "cell_type": "markdown",
   "metadata": {},
   "source": [
    "We see that the distribution of the `max` method seems to be narrow, while the distribution of the `twice the average` method appears spread out, with the center around 300."
   ]
  }
 ],
 "metadata": {
  "kernelspec": {
   "display_name": "Python 3",
   "language": "python",
   "name": "python3"
  },
  "language_info": {
   "codemirror_mode": {
    "name": "ipython",
    "version": 3
   },
   "file_extension": ".py",
   "mimetype": "text/x-python",
   "name": "python",
   "nbconvert_exporter": "python",
   "pygments_lexer": "ipython3",
   "version": "3.7.2"
  }
 },
 "nbformat": 4,
 "nbformat_minor": 1
}
