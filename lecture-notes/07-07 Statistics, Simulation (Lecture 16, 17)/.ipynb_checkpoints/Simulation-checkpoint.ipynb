{
 "cells": [
  {
   "cell_type": "code",
   "execution_count": 1,
   "metadata": {},
   "outputs": [],
   "source": [
    "from datascience import *\n",
    "import numpy as np\n",
    "%matplotlib inline\n",
    "import matplotlib.pyplot as plots\n",
    "plots.style.use('fivethirtyeight')\n",
    "\n",
    "from ipywidgets import interact, interactive, fixed, interact_manual\n",
    "import ipywidgets as widgets"
   ]
  },
  {
   "cell_type": "markdown",
   "metadata": {},
   "source": [
    "Let's say we have the code below and we want to know what N is"
   ]
  },
  {
   "cell_type": "code",
   "execution_count": 2,
   "metadata": {},
   "outputs": [],
   "source": [
    "# N is supposed to be the number of Z's in all of Shakespeare's plays. But let's assume that we don't\n",
    "# this 1020.\n",
    "N = 1020 \n",
    "sample_size = 30\n",
    "population = Table().with_column('Serial number', np.arange(N)+1)\n",
    "observation = population.sample(sample_size).column(0)"
   ]
  },
  {
   "cell_type": "markdown",
   "metadata": {},
   "source": [
    "We know the following information:"
   ]
  },
  {
   "cell_type": "code",
   "execution_count": 3,
   "metadata": {},
   "outputs": [
    {
     "data": {
      "text/plain": [
       "array([ 865,   18,  196,  434,  554,  970, 1008,  567,   33,  853,  359,\n",
       "        427,  369,  831,  441,  759,   65,   60,  750,  846,  706,  885,\n",
       "        553,  659,  739,  860,  876,  264,  335,  728])"
      ]
     },
     "execution_count": 3,
     "metadata": {},
     "output_type": "execute_result"
    }
   ],
   "source": [
    "observation"
   ]
  },
  {
   "cell_type": "code",
   "execution_count": 4,
   "metadata": {},
   "outputs": [
    {
     "data": {
      "text/plain": [
       "1008"
      ]
     },
     "execution_count": 4,
     "metadata": {},
     "output_type": "execute_result"
    }
   ],
   "source": [
    "observation.max()"
   ]
  },
  {
   "cell_type": "code",
   "execution_count": 5,
   "metadata": {},
   "outputs": [
    {
     "data": {
      "text/plain": [
       "567.0"
      ]
     },
     "execution_count": 5,
     "metadata": {},
     "output_type": "execute_result"
    }
   ],
   "source": [
    "np.average(observation)"
   ]
  },
  {
   "cell_type": "markdown",
   "metadata": {},
   "source": [
    "We know 2 approaches:  **Maxes** and **Twice the average**"
   ]
  },
  {
   "cell_type": "code",
   "execution_count": 6,
   "metadata": {},
   "outputs": [
    {
     "data": {
      "text/html": [
       "<table border=\"1\" class=\"dataframe\">\n",
       "    <thead>\n",
       "        <tr>\n",
       "            <th>Max</th> <th>2 * average</th>\n",
       "        </tr>\n",
       "    </thead>\n",
       "    <tbody>\n",
       "        <tr>\n",
       "            <td>954 </td> <td>1022.13    </td>\n",
       "        </tr>\n",
       "        <tr>\n",
       "            <td>1015</td> <td>1054.6     </td>\n",
       "        </tr>\n",
       "        <tr>\n",
       "            <td>1009</td> <td>850.733    </td>\n",
       "        </tr>\n",
       "        <tr>\n",
       "            <td>1018</td> <td>1061.33    </td>\n",
       "        </tr>\n",
       "        <tr>\n",
       "            <td>1011</td> <td>1286.8     </td>\n",
       "        </tr>\n",
       "        <tr>\n",
       "            <td>1011</td> <td>963.6      </td>\n",
       "        </tr>\n",
       "        <tr>\n",
       "            <td>966 </td> <td>1037.07    </td>\n",
       "        </tr>\n",
       "        <tr>\n",
       "            <td>1007</td> <td>834.933    </td>\n",
       "        </tr>\n",
       "        <tr>\n",
       "            <td>1013</td> <td>1015.73    </td>\n",
       "        </tr>\n",
       "        <tr>\n",
       "            <td>956 </td> <td>924.267    </td>\n",
       "        </tr>\n",
       "    </tbody>\n",
       "</table>\n",
       "<p>... (990 rows omitted)</p>"
      ],
      "text/plain": [
       "Max  | 2 * average\n",
       "954  | 1022.13\n",
       "1015 | 1054.6\n",
       "1009 | 850.733\n",
       "1018 | 1061.33\n",
       "1011 | 1286.8\n",
       "1011 | 963.6\n",
       "966  | 1037.07\n",
       "1007 | 834.933\n",
       "1013 | 1015.73\n",
       "956  | 924.267\n",
       "... (990 rows omitted)"
      ]
     },
     "execution_count": 6,
     "metadata": {},
     "output_type": "execute_result"
    }
   ],
   "source": [
    "maxes = make_array()   # max(observations)\n",
    "doubles = make_array() # 2 * np.average(observations)\n",
    "\n",
    "for i in np.arange(1000):\n",
    "    observation = population.sample(sample_size).column(0)\n",
    "    maxes = np.append(maxes, max(observation))\n",
    "    doubles = np.append(doubles, 2 * np.average(observation))\n",
    "\n",
    "estimates = Table().with_columns(\n",
    "    'Max', maxes,\n",
    "    '2 * average', doubles\n",
    ")\n",
    "\n",
    "estimates"
   ]
  },
  {
   "cell_type": "markdown",
   "metadata": {},
   "source": [
    "If we make a histogram comparing **Max** and **2 x Average**, it would look like the following,"
   ]
  },
  {
   "cell_type": "code",
   "execution_count": 7,
   "metadata": {},
   "outputs": [
    {
     "data": {
      "image/png": "[encoded data removed]",
      "text/plain": [
       "<Figure size 432x288 with 1 Axes>"
      ]
     },
     "metadata": {},
     "output_type": "display_data"
    }
   ],
   "source": [
    "every_ten = np.arange(1, N+300, 10)\n",
    "estimates.hist(bins=every_ten)"
   ]
  },
  {
   "cell_type": "markdown",
   "metadata": {},
   "source": [
    "From above, we notice that:\n",
    "* The **Max** estimator gives around 1,000\n",
    "* The **2 x average** estimator is more spread out"
   ]
  },
  {
   "cell_type": "markdown",
   "metadata": {},
   "source": [
    "# Bias & Variance\n",
    "\n",
    "## Bias\n",
    "* **Biased estimate**: On average across all possible samples, the estimate is either too high or too low\n",
    "* Bias creates a systematic error in one direction\n",
    "* Good estimates typically have low bias\n",
    "\n",
    "## Variability\n",
    "* The degree to which the value of an estimate **varies** from one sample to another\n",
    "    * How spread out the estimate is\n",
    "* High variability makes it hard to estimate accurately\n",
    "* Good estimates typically have low variability\n",
    "<img src = 'bias.jpg' width = 600\\>"
   ]
  },
  {
   "cell_type": "markdown",
   "metadata": {},
   "source": [
    "## Bias-variance trade-off\n",
    "* The **max** has low variability, but it is biased\n",
    "* **2 x average** has little bias, but highly variable\n",
    "\n",
    "**Is there an estimator that's both low in bias and variability?**\n",
    "\n",
    "### Twice the Median Estimator\n",
    "\n",
    "One new idea: **Twice the Median**."
   ]
  },
  {
   "cell_type": "code",
   "execution_count": 8,
   "metadata": {},
   "outputs": [
    {
     "data": {
      "text/html": [
       "<table border=\"1\" class=\"dataframe\">\n",
       "    <thead>\n",
       "        <tr>\n",
       "            <th>Max</th> <th>2 * average</th> <th>2 * median</th>\n",
       "        </tr>\n",
       "    </thead>\n",
       "    <tbody>\n",
       "        <tr>\n",
       "            <td>924 </td> <td>1024.73    </td> <td>1047      </td>\n",
       "        </tr>\n",
       "        <tr>\n",
       "            <td>993 </td> <td>1040       </td> <td>1089      </td>\n",
       "        </tr>\n",
       "        <tr>\n",
       "            <td>989 </td> <td>961.6      </td> <td>1091      </td>\n",
       "        </tr>\n",
       "        <tr>\n",
       "            <td>959 </td> <td>1038.07    </td> <td>1057      </td>\n",
       "        </tr>\n",
       "        <tr>\n",
       "            <td>945 </td> <td>1078.8     </td> <td>1148      </td>\n",
       "        </tr>\n",
       "        <tr>\n",
       "            <td>997 </td> <td>1130.87    </td> <td>1126      </td>\n",
       "        </tr>\n",
       "        <tr>\n",
       "            <td>944 </td> <td>1112.93    </td> <td>1180      </td>\n",
       "        </tr>\n",
       "        <tr>\n",
       "            <td>984 </td> <td>993.267    </td> <td>1033      </td>\n",
       "        </tr>\n",
       "        <tr>\n",
       "            <td>1011</td> <td>1065.6     </td> <td>1104      </td>\n",
       "        </tr>\n",
       "        <tr>\n",
       "            <td>1016</td> <td>1059.4     </td> <td>1028      </td>\n",
       "        </tr>\n",
       "    </tbody>\n",
       "</table>\n",
       "<p>... (990 rows omitted)</p>"
      ],
      "text/plain": [
       "Max  | 2 * average | 2 * median\n",
       "924  | 1024.73     | 1047\n",
       "993  | 1040        | 1089\n",
       "989  | 961.6       | 1091\n",
       "959  | 1038.07     | 1057\n",
       "945  | 1078.8      | 1148\n",
       "997  | 1130.87     | 1126\n",
       "944  | 1112.93     | 1180\n",
       "984  | 993.267     | 1033\n",
       "1011 | 1065.6      | 1104\n",
       "1016 | 1059.4      | 1028\n",
       "... (990 rows omitted)"
      ]
     },
     "execution_count": 8,
     "metadata": {},
     "output_type": "execute_result"
    }
   ],
   "source": [
    "maxes = make_array()   # max(observations)\n",
    "doubles = make_array() # 2 * np.average(observations)\n",
    "double_median = make_array() # 2 * np.median(observations)\n",
    "\n",
    "for i in np.arange(1000):\n",
    "    observation = population.sample(sample_size).column(0)\n",
    "    maxes = np.append(maxes, max(observation))\n",
    "    doubles = np.append(doubles, 2 * np.average(observation))\n",
    "    double_median = np.append(double_median, 2 * np.median(observation))\n",
    "\n",
    "estimates = Table().with_columns(\n",
    "    'Max', maxes,\n",
    "    '2 * average', doubles,\n",
    "    '2 * median', double_median,\n",
    ")\n",
    "\n",
    "estimates"
   ]
  },
  {
   "cell_type": "code",
   "execution_count": 9,
   "metadata": {},
   "outputs": [
    {
     "data": {
      "image/png": "[encoded data removed]",
      "text/plain": [
       "<Figure size 432x288 with 1 Axes>"
      ]
     },
     "metadata": {},
     "output_type": "display_data"
    }
   ],
   "source": [
    "estimates.hist(bins=every_ten)"
   ]
  },
  {
   "cell_type": "markdown",
   "metadata": {},
   "source": [
    "Turns out the **twice the median** estimator is more spread out than the **twice the average** estimator! \n",
    "\n",
    "### Max + Min Estimator\n",
    "Another idea is to add up the **Max** and **Min**"
   ]
  },
  {
   "cell_type": "code",
   "execution_count": 10,
   "metadata": {},
   "outputs": [
    {
     "data": {
      "text/html": [
       "<table border=\"1\" class=\"dataframe\">\n",
       "    <thead>\n",
       "        <tr>\n",
       "            <th>Max</th> <th>2 * average</th> <th>Max + min</th>\n",
       "        </tr>\n",
       "    </thead>\n",
       "    <tbody>\n",
       "        <tr>\n",
       "            <td>1015</td> <td>935.6      </td> <td>1025     </td>\n",
       "        </tr>\n",
       "        <tr>\n",
       "            <td>950 </td> <td>1070.4     </td> <td>1030     </td>\n",
       "        </tr>\n",
       "        <tr>\n",
       "            <td>981 </td> <td>1045.67    </td> <td>984      </td>\n",
       "        </tr>\n",
       "        <tr>\n",
       "            <td>997 </td> <td>954.467    </td> <td>1033     </td>\n",
       "        </tr>\n",
       "        <tr>\n",
       "            <td>998 </td> <td>997.6      </td> <td>1002     </td>\n",
       "        </tr>\n",
       "        <tr>\n",
       "            <td>972 </td> <td>1082.87    </td> <td>1022     </td>\n",
       "        </tr>\n",
       "        <tr>\n",
       "            <td>977 </td> <td>868.733    </td> <td>1011     </td>\n",
       "        </tr>\n",
       "        <tr>\n",
       "            <td>1003</td> <td>953.2      </td> <td>1056     </td>\n",
       "        </tr>\n",
       "        <tr>\n",
       "            <td>1006</td> <td>1046.93    </td> <td>1086     </td>\n",
       "        </tr>\n",
       "        <tr>\n",
       "            <td>999 </td> <td>931.267    </td> <td>1004     </td>\n",
       "        </tr>\n",
       "    </tbody>\n",
       "</table>\n",
       "<p>... (990 rows omitted)</p>"
      ],
      "text/plain": [
       "Max  | 2 * average | Max + min\n",
       "1015 | 935.6       | 1025\n",
       "950  | 1070.4      | 1030\n",
       "981  | 1045.67     | 984\n",
       "997  | 954.467     | 1033\n",
       "998  | 997.6       | 1002\n",
       "972  | 1082.87     | 1022\n",
       "977  | 868.733     | 1011\n",
       "1003 | 953.2       | 1056\n",
       "1006 | 1046.93     | 1086\n",
       "999  | 931.267     | 1004\n",
       "... (990 rows omitted)"
      ]
     },
     "execution_count": 10,
     "metadata": {},
     "output_type": "execute_result"
    }
   ],
   "source": [
    "maxes = make_array()    # max(observations)\n",
    "doubles = make_array()  # 2 * np.average(observations)\n",
    "max_plus_min = make_array() # clever(observation)\n",
    "\n",
    "for i in np.arange(1000):\n",
    "    observation = population.sample(sample_size).column(0)\n",
    "    maxes = np.append(maxes, max(observation))\n",
    "    doubles = np.append(doubles, 2 * np.average(observation))\n",
    "    max_plus_min = np.append(max_plus_min,\n",
    "                             np.max(observation) + np.min(observation))\n",
    "\n",
    "estimates = Table().with_columns(\n",
    "    'Max', maxes,\n",
    "    '2 * average', doubles,\n",
    "    'Max + min', max_plus_min,\n",
    ")\n",
    "\n",
    "estimates"
   ]
  },
  {
   "cell_type": "code",
   "execution_count": 11,
   "metadata": {},
   "outputs": [
    {
     "data": {
      "image/png": "[encoded data removed]",
      "text/plain": [
       "<Figure size 432x288 with 1 Axes>"
      ]
     },
     "metadata": {},
     "output_type": "display_data"
    }
   ],
   "source": [
    "estimates.hist(bins=every_ten)"
   ]
  },
  {
   "cell_type": "markdown",
   "metadata": {},
   "source": [
    "We can calculate the variability of each estimator above by:\n",
    "1. Calculate the difference between each value and the average of the values\n",
    "2. Take the average of those differences."
   ]
  },
  {
   "cell_type": "code",
   "execution_count": 12,
   "metadata": {},
   "outputs": [
    {
     "data": {
      "text/plain": [
       "24.353119999999993"
      ]
     },
     "execution_count": 12,
     "metadata": {},
     "output_type": "execute_result"
    }
   ],
   "source": [
    "# Varability of the 'Max' Estimator\n",
    "np.abs(estimates.column(0) -\n",
    "       estimates.column(0).mean()).mean()"
   ]
  },
  {
   "cell_type": "code",
   "execution_count": 13,
   "metadata": {},
   "outputs": [
    {
     "data": {
      "text/plain": [
       "83.96917706666666"
      ]
     },
     "execution_count": 13,
     "metadata": {},
     "output_type": "execute_result"
    }
   ],
   "source": [
    "# Variability of the 'Twice the average' estimator\n",
    "np.abs(estimates.column(1) -\n",
    "       estimates.column(1).mean()).mean()"
   ]
  },
  {
   "cell_type": "code",
   "execution_count": 14,
   "metadata": {},
   "outputs": [
    {
     "data": {
      "text/plain": [
       "31.776938"
      ]
     },
     "execution_count": 14,
     "metadata": {},
     "output_type": "execute_result"
    }
   ],
   "source": [
    "# Variability of the 'Max + Min' estimator\n",
    "np.abs(estimates.column(2) -\n",
    "       estimates.column(2).mean()).mean()"
   ]
  },
  {
   "cell_type": "markdown",
   "metadata": {},
   "source": [
    "# Testing Hypotheses\n",
    "Data scientists are often faced with yes/no questions about the world. For example:\n",
    "* is chocolate good for you?\n",
    "* Did water from the Broad Street pump cause cholera?\n",
    "* Have the demographics in California changed over the past decade?\n",
    "\n",
    "Whether we can answer theses questions or not depends on the data we have. \n",
    "* Census data about California can settle questions about demographics with least uncertainty about the answer.\n",
    "* We know that Broad Street pump water was contaminated by waste from cholera victims, so we can make a good guess of whether it caused cholera.\n",
    "\n",
    "Whether chocolate or any other treatment is good for you is the kind of question that have to be answered by medical experts. However, the initial step consists of using data science to analyze data from studies and randomized experiments.\n",
    "\n",
    "In this chapter, we'll try to answer such questions, basing our conclusions from random samples and empirical distributions.\n",
    "\n",
    "# Assessing Models\n",
    "In data science, a **model** is a set of assumptions about data. Often, models include assumptions about chance processes used to generate data.\n",
    "\n",
    "Sometimes, data scientists have to decide whether or not their models are good. In this section we will discuss 2 examples of making such decisions. In later sections we will use the methods developed here as the building blocks of a general framework for testing hypotheses.\n",
    "\n",
    "## Comparing Samples to Distributions\n",
    "Previously, we've been working on figuring out whether we can take a sample and use it to estimate some number about the population. In the planes problem, we take sample of planes and try to estimate how many total planes there are. Another way we can use a sample is by taking a sample, make a guess of the population, and see whether the sample looked like it came from the population.\n",
    "\n",
    "## Jury Panels\n",
    "How jury panels are selected:\n",
    "1. There are **eligible jurors** in a county, which is everyone in a country that is over 18 years old and registered to vote\n",
    "2. From the **eligible jurors**, we filter them so only the **eligible residents** are selected\n",
    "3. From **eligible residents**, filter them so only **jury panels** are selected\n",
    "4. and finally, filter again to finally have the **jury**, a.k.a. the final people that can make decision\n",
    "\n",
    "**We want to know whether the jury selection is fair**\n",
    "\n",
    "**Section 197 of California's Code of Civil Procedure**: All persons selected for jury service shall be selected at random, from a source or sources inclusive of a representative cross section of the population of the area served by the court.\n",
    "\n",
    "**Sixth Amendment to the US Constitution**: ...the accused shall enjoy the right to a speedy and public trial, by an impartial jury of the state and district wherein the crime shall have been committed."
   ]
  },
  {
   "cell_type": "markdown",
   "metadata": {},
   "source": [
    "## U.S. Supreme Court, 1965: Swain vs. Alabama\n",
    "In the early 1960’s, in Talladega County in Alabama, a black man called Robert Swain was convicted of raping a white woman and was sentenced to death. He appealed his sentence, citing among other factors the all-white jury. At the time, only men aged 21 or older were allowed to serve on juries in Talladega County. In the county, 26% of the eligible jurors were black, but there were only 8 black men among the 100 selected for the jury panel in Swain’s trial. No black man was selected for the trial jury.\n",
    "\n",
    "In 1965, the Supreme Court of the United States denied Swain’s appeal. In its ruling, the Court wrote **“… the overall percentage disparity has been small and reflects no studied attempt to include or exclude a specified number of Negroes.”**\n",
    "\n",
    "Jury panels are supposed to be selected at random from the eligible population. Because 26% of the eligible population was black, 8 black men on a panel of 100 might seem low.\n",
    "\n",
    "One model (or assumption) of the data is that the panel was selected at random and ended up with a small number of black men, which agrees with the Supreme Court ruling. The model specifies that the data are a random sample from a population in which 26% of it are black. This is a good opportunity to assess the model because:\n",
    "* We can simulate data based on the model\n",
    "    * We can simulate drawing at random from a population of whom 26% are black.\n",
    "* Our simulation will show what the panel **should look like** if it is selected at random\n",
    "* We can then compare the results of the simulation with the composition of Robert Swain's panel\n",
    "* If the results of our simulation are not consistent with the composition of Swain's panel, that will become an evidence against the model\n",
    "\n",
    "### The Statistic\n",
    "First, we need to choose a **statistic** to simulate. The statistic has to be able to help us decide between the model and alternative views about the data.\n",
    "* Model: Panel was drawn at random\n",
    "* Alternative viewpoint suggested by Robert Swain's appeal: the panel was not drawn at random because the black men is too few\n",
    "\n",
    "A natural statistic would be the number of black in our simulated sample of 100 people representing the panel. Small values of the statistic will favor the alternative viewpoint.\n",
    "\n",
    "### Predicting the Statistic Under the Model\n",
    "If the model were true, how big would the statistic typically be? To answer that, we have to start by working out the details of the simulation.\n",
    "\n",
    "#### Generating one value of the statistic\n",
    "First we figure out how to simulate one value of the statistic. For this, we have to **sample 100 times at random from the population of eligible jurors and count the number of black men we get**.\n",
    "\n",
    "One way is to set up a table representing the **eligible population** and use `sample` as we've done in previous chapter. However, there's a quicker way: \n",
    "use `datascience` function tailored for sampling at random from categorical distributions. \n",
    "\n",
    "The `sample_proportions` function in the `datascience` library takes 2 arguments:\n",
    "* Sample size\n",
    "* The distribution of the categories in the population, as a list or array of proportions that add up to 1\n",
    "\n",
    "`sample_proportions` returns an array containing the distribution of the categories in a random sample of the given size. This is an array consisting of the sample proportions in all the different categories.\n",
    "\n",
    "According to our model, the panel is selected at random from a population where 26% were black. The **distribution of the 2 categories** can be represented as the list `[0.26, 0.74]`, which we have assigned to the name `eligible_population`. \n",
    "\n",
    "Now let's sample at random 100 times from this distribution and see what proportions of the 2 categories we get in our sample."
   ]
  },
  {
   "cell_type": "code",
   "execution_count": 15,
   "metadata": {},
   "outputs": [
    {
     "data": {
      "text/plain": [
       "array([0.27, 0.73])"
      ]
     },
     "execution_count": 15,
     "metadata": {},
     "output_type": "execute_result"
    }
   ],
   "source": [
    "# Every time you run it, the output array is different!\n",
    "\n",
    "eligible_population = [0.26, 0.74]\n",
    "sample_proportions(100, eligible_population)"
   ]
  },
  {
   "cell_type": "markdown",
   "metadata": {},
   "source": [
    "The proportion of black in the random sample is `item(0)` of the output array above!\n",
    "\n",
    "Since there are 100 people in the sample, the number of people in each category is 100 times the proportion. We can simulate counts instead of proportions and access the count of black only."
   ]
  },
  {
   "cell_type": "code",
   "execution_count": 16,
   "metadata": {},
   "outputs": [
    {
     "data": {
      "text/plain": [
       "31.0"
      ]
     },
     "execution_count": 16,
     "metadata": {},
     "output_type": "execute_result"
    }
   ],
   "source": [
    "# count of black people in a simulated panel\n",
    "\n",
    "(100 * sample_proportions(100, eligible_population)).item(0)"
   ]
  },
  {
   "cell_type": "markdown",
   "metadata": {},
   "source": [
    "### Running the Simulation\n",
    "To get a sense of the variability without having to run the cell multiple times, let's generate 10,000 simulated values of the count. "
   ]
  },
  {
   "cell_type": "code",
   "execution_count": 17,
   "metadata": {},
   "outputs": [],
   "source": [
    "counts = make_array()\n",
    "\n",
    "repetitions = 10000\n",
    "for i in np.arange(repetitions):\n",
    "    simulated_count = (100 * sample_proportions(100, eligible_population)).item(0)\n",
    "    counts = np.append(counts, simulated_count)"
   ]
  },
  {
   "cell_type": "markdown",
   "metadata": {},
   "source": [
    "### The Prediction\n",
    "To interpret the results of our simulation, we start as usual by visualizing the results by an empirical histogram."
   ]
  },
  {
   "cell_type": "code",
   "execution_count": 18,
   "metadata": {},
   "outputs": [
    {
     "data": {
      "image/png": "[encoded data removed]",
      "text/plain": [
       "<Figure size 432x288 with 1 Axes>"
      ]
     },
     "metadata": {},
     "output_type": "display_data"
    }
   ],
   "source": [
    "Table().with_column(\n",
    "    'Count in a Random Sample', counts\n",
    ").hist(bins = np.arange(5.5, 46.6, 1))"
   ]
  },
  {
   "cell_type": "markdown",
   "metadata": {},
   "source": [
    "The histogram above tells us what the model of random selection predicts about our statistic, the count of the black people in the sample.\n",
    "\n",
    "To generate each simulated count, we drew at 100 times at random from a population in which 26% were black. Thus, most of the simulated counts are around 26. They are not exactly 26 - there is some variation. The counts range between 10 and 45.\n",
    "\n",
    "### Comparing the Prediction and the Data\n",
    "Though the simulated counts are quite varied, very few of them came out to be 8 or less. The value of 8 is far out in the left side of the histogram.  "
   ]
  },
  {
   "cell_type": "code",
   "execution_count": 19,
   "metadata": {},
   "outputs": [
    {
     "data": {
      "image/png": "[encoded data removed]",
      "text/plain": [
       "<Figure size 432x288 with 1 Axes>"
      ]
     },
     "metadata": {},
     "output_type": "display_data"
    }
   ],
   "source": [
    "Table().with_column(\n",
    "    'Count in a Random Sample', counts\n",
    ").hist(bins = np.arange(5.5, 46.6, 1))\n",
    "plots.scatter(8, 0, color='red', s=30);"
   ]
  },
  {
   "cell_type": "markdown",
   "metadata": {},
   "source": [
    "The simulation shows that if we select a panel of 100 jurors at random from the eligible population, it is very unlikely to get as low black people as 8 that were in Swain's jury panel. This is an evidence that the model of random selection of the jurors in the panel is not consistent with the data from the panel.\n",
    "\n",
    "When the data and a model are inconsistent, the model is hard to justify. \n",
    "* The data are real\n",
    "* Model is just a set of assumptions\n",
    "\n",
    "When assumptions are at odds with reality, the assumptions are questionable.\n",
    "\n",
    "While it is possible that the panel could have been generated by chance, our simulation shows that it is very unlikely. Our assessment is that the model of random draws is not supported by the evidence. "
   ]
  },
  {
   "cell_type": "markdown",
   "metadata": {},
   "source": [
    "## Is the Actual Jury Panel Likely? (Video Lecture)\n",
    "Below we have a table `swain` that contains the ethnicities of people in Alabama county."
   ]
  },
  {
   "cell_type": "code",
   "execution_count": 20,
   "metadata": {},
   "outputs": [
    {
     "data": {
      "text/html": [
       "<table border=\"1\" class=\"dataframe\">\n",
       "    <thead>\n",
       "        <tr>\n",
       "            <th>Ethnicity</th> <th>Eligible</th> <th>Panel</th>\n",
       "        </tr>\n",
       "    </thead>\n",
       "    <tbody>\n",
       "        <tr>\n",
       "            <td>Black    </td> <td>26%     </td> <td>8%   </td>\n",
       "        </tr>\n",
       "        <tr>\n",
       "            <td>Other    </td> <td>74%     </td> <td>92%  </td>\n",
       "        </tr>\n",
       "    </tbody>\n",
       "</table>"
      ],
      "text/plain": [
       "Ethnicity | Eligible | Panel\n",
       "Black     | 26%      | 8%\n",
       "Other     | 74%      | 92%"
      ]
     },
     "execution_count": 20,
     "metadata": {},
     "output_type": "execute_result"
    }
   ],
   "source": [
    "swain = Table().with_columns(\n",
    "    'Ethnicity', make_array('Black', 'Other'),\n",
    "    'Eligible', make_array(0.26, 0.74),\n",
    "    'Panel', make_array(0.08, 0.92)\n",
    ")\n",
    "\n",
    "swain.set_format([1, 2], PercentFormatter(0))"
   ]
  },
  {
   "cell_type": "markdown",
   "metadata": {},
   "source": [
    "###  The Big Question: What's the probability of getting 8/100 blacks in a panel?\n",
    "1. Start with distributions of eligible panel and the actual panel\n",
    "2. Draw panels at random from my population\n",
    "3. Estimate the probability. See if actual panel is likely.\n",
    "\n",
    "### Step 1: Distribution of eligible panel and actual panel"
   ]
  },
  {
   "cell_type": "code",
   "execution_count": 21,
   "metadata": {},
   "outputs": [
    {
     "data": {
      "image/png": "[encoded data removed]",
      "text/plain": [
       "<Figure size 432x288 with 1 Axes>"
      ]
     },
     "metadata": {},
     "output_type": "display_data"
    }
   ],
   "source": [
    "swain.barh(0)"
   ]
  },
  {
   "cell_type": "markdown",
   "metadata": {},
   "source": [
    "Above we can see the distribution comparison between the eligible panel and the actual panel.\n",
    "\n",
    "Recall the warplanes problem. If we want to find the difference between the estimate value and the actual value, we can just calculate the difference. For example:\n",
    "* We took a sample of 20 warplanes and found that the `max` is 290\n",
    "* The actual N is 300\n",
    "* Thus, the difference is 10. So we're 10 off.\n",
    "\n",
    "Distributions are more tricky. We can't just subtract 26 with 8 or 74 with 92. Thus, we use **total variation distance**\n",
    "\n",
    "## Total Variation Distance"
   ]
  },
  {
   "cell_type": "code",
   "execution_count": 22,
   "metadata": {},
   "outputs": [
    {
     "data": {
      "text/html": [
       "<table border=\"1\" class=\"dataframe\">\n",
       "    <thead>\n",
       "        <tr>\n",
       "            <th>Ethnicity</th> <th>Eligible</th> <th>Panel</th>\n",
       "        </tr>\n",
       "    </thead>\n",
       "    <tbody>\n",
       "        <tr>\n",
       "            <td>Black    </td> <td>26%     </td> <td>8%   </td>\n",
       "        </tr>\n",
       "        <tr>\n",
       "            <td>Other    </td> <td>74%     </td> <td>92%  </td>\n",
       "        </tr>\n",
       "    </tbody>\n",
       "</table>"
      ],
      "text/plain": [
       "Ethnicity | Eligible | Panel\n",
       "Black     | 26%      | 8%\n",
       "Other     | 74%      | 92%"
      ]
     },
     "execution_count": 22,
     "metadata": {},
     "output_type": "execute_result"
    }
   ],
   "source": [
    "swain"
   ]
  },
  {
   "cell_type": "code",
   "execution_count": 23,
   "metadata": {},
   "outputs": [
    {
     "data": {
      "text/plain": [
       "0.18000000000000002"
      ]
     },
     "execution_count": 23,
     "metadata": {},
     "output_type": "execute_result"
    }
   ],
   "source": [
    "tvd = sum(abs(swain.column(1) - swain.column(2)))/2\n",
    "tvd"
   ]
  },
  {
   "cell_type": "markdown",
   "metadata": {},
   "source": [
    "How we take **total variation distance** above:\n",
    "1. Find the absolute difference between each column\n",
    "2. Sum them\n",
    "3. Divide by the number of rows involved\n",
    "\n",
    "The closer the distributions are to each other, the lower the TVD. \n",
    "* High TVD = bigger difference\n",
    "* Low TVD = less difference\n",
    "\n",
    "For convenience, let's make a TVD function."
   ]
  },
  {
   "cell_type": "code",
   "execution_count": 24,
   "metadata": {},
   "outputs": [
    {
     "data": {
      "text/plain": [
       "0.18000000000000002"
      ]
     },
     "execution_count": 24,
     "metadata": {},
     "output_type": "execute_result"
    }
   ],
   "source": [
    "def TVD(dist1, dist2):\n",
    "    return sum(abs(dist1-dist2)) / 2\n",
    "\n",
    "TVD(swain.column(1), swain.column(2))"
   ]
  },
  {
   "cell_type": "markdown",
   "metadata": {},
   "source": [
    "### Step 2: Sample panels from population"
   ]
  },
  {
   "cell_type": "code",
   "execution_count": 25,
   "metadata": {},
   "outputs": [
    {
     "data": {
      "text/html": [
       "<table border=\"1\" class=\"dataframe\">\n",
       "    <thead>\n",
       "        <tr>\n",
       "            <th>Ethnicity</th> <th>Eligible</th> <th>Panel</th>\n",
       "        </tr>\n",
       "    </thead>\n",
       "    <tbody>\n",
       "        <tr>\n",
       "            <td>Black    </td> <td>26%     </td> <td>8%   </td>\n",
       "        </tr>\n",
       "        <tr>\n",
       "            <td>Other    </td> <td>74%     </td> <td>92%  </td>\n",
       "        </tr>\n",
       "        <tr>\n",
       "            <td>Other    </td> <td>74%     </td> <td>92%  </td>\n",
       "        </tr>\n",
       "        <tr>\n",
       "            <td>Black    </td> <td>26%     </td> <td>8%   </td>\n",
       "        </tr>\n",
       "        <tr>\n",
       "            <td>Other    </td> <td>74%     </td> <td>92%  </td>\n",
       "        </tr>\n",
       "        <tr>\n",
       "            <td>Black    </td> <td>26%     </td> <td>8%   </td>\n",
       "        </tr>\n",
       "        <tr>\n",
       "            <td>Black    </td> <td>26%     </td> <td>8%   </td>\n",
       "        </tr>\n",
       "        <tr>\n",
       "            <td>Other    </td> <td>74%     </td> <td>92%  </td>\n",
       "        </tr>\n",
       "        <tr>\n",
       "            <td>Black    </td> <td>26%     </td> <td>8%   </td>\n",
       "        </tr>\n",
       "        <tr>\n",
       "            <td>Other    </td> <td>74%     </td> <td>92%  </td>\n",
       "        </tr>\n",
       "    </tbody>\n",
       "</table>"
      ],
      "text/plain": [
       "Ethnicity | Eligible | Panel\n",
       "Black     | 26%      | 8%\n",
       "Other     | 74%      | 92%\n",
       "Other     | 74%      | 92%\n",
       "Black     | 26%      | 8%\n",
       "Other     | 74%      | 92%\n",
       "Black     | 26%      | 8%\n",
       "Black     | 26%      | 8%\n",
       "Other     | 74%      | 92%\n",
       "Black     | 26%      | 8%\n",
       "Other     | 74%      | 92%"
      ]
     },
     "execution_count": 25,
     "metadata": {},
     "output_type": "execute_result"
    }
   ],
   "source": [
    "swain.sample(10)"
   ]
  },
  {
   "cell_type": "markdown",
   "metadata": {},
   "source": [
    "Above, we took a sample of 10, but this is not what we want! Here we just picked rows out of our original table!\n",
    "\n",
    "What we want is, pick 100 people from the population and look at the proportions of black vs non-black."
   ]
  },
  {
   "cell_type": "code",
   "execution_count": 26,
   "metadata": {},
   "outputs": [
    {
     "data": {
      "text/html": [
       "<table border=\"1\" class=\"dataframe\">\n",
       "    <thead>\n",
       "        <tr>\n",
       "            <th>Ethnicity</th>\n",
       "        </tr>\n",
       "    </thead>\n",
       "    <tbody>\n",
       "        <tr>\n",
       "            <td>Black    </td>\n",
       "        </tr>\n",
       "        <tr>\n",
       "            <td>Other    </td>\n",
       "        </tr>\n",
       "    </tbody>\n",
       "</table>"
      ],
      "text/plain": [
       "Ethnicity\n",
       "Black\n",
       "Other"
      ]
     },
     "execution_count": 26,
     "metadata": {},
     "output_type": "execute_result"
    }
   ],
   "source": [
    "ethnicities = swain.select(0)\n",
    "ethnicities"
   ]
  },
  {
   "cell_type": "code",
   "execution_count": 27,
   "metadata": {},
   "outputs": [
    {
     "data": {
      "text/html": [
       "<table border=\"1\" class=\"dataframe\">\n",
       "    <thead>\n",
       "        <tr>\n",
       "            <th>Ethnicity</th>\n",
       "        </tr>\n",
       "    </thead>\n",
       "    <tbody>\n",
       "        <tr>\n",
       "            <td>Other    </td>\n",
       "        </tr>\n",
       "        <tr>\n",
       "            <td>Other    </td>\n",
       "        </tr>\n",
       "        <tr>\n",
       "            <td>Other    </td>\n",
       "        </tr>\n",
       "        <tr>\n",
       "            <td>Other    </td>\n",
       "        </tr>\n",
       "        <tr>\n",
       "            <td>Black    </td>\n",
       "        </tr>\n",
       "        <tr>\n",
       "            <td>Other    </td>\n",
       "        </tr>\n",
       "        <tr>\n",
       "            <td>Other    </td>\n",
       "        </tr>\n",
       "        <tr>\n",
       "            <td>Other    </td>\n",
       "        </tr>\n",
       "        <tr>\n",
       "            <td>Other    </td>\n",
       "        </tr>\n",
       "        <tr>\n",
       "            <td>Other    </td>\n",
       "        </tr>\n",
       "    </tbody>\n",
       "</table>"
      ],
      "text/plain": [
       "Ethnicity\n",
       "Other\n",
       "Other\n",
       "Other\n",
       "Other\n",
       "Black\n",
       "Other\n",
       "Other\n",
       "Other\n",
       "Other\n",
       "Other"
      ]
     },
     "execution_count": 27,
     "metadata": {},
     "output_type": "execute_result"
    }
   ],
   "source": [
    "ethnicities.sample(10)"
   ]
  },
  {
   "cell_type": "markdown",
   "metadata": {},
   "source": [
    "Above, we take a sample of 10 people from the \"supposedly population\". However, this is still not right, because in the sample, we have equal chance of picking black and non-black. Recall the population has 26% black, so in the sample we should see less black."
   ]
  },
  {
   "cell_type": "code",
   "execution_count": 28,
   "metadata": {},
   "outputs": [
    {
     "data": {
      "text/plain": [
       "array([0.26, 0.74])"
      ]
     },
     "execution_count": 28,
     "metadata": {},
     "output_type": "execute_result"
    }
   ],
   "source": [
    "pop_distribution = swain.column('Eligible')\n",
    "pop_distribution"
   ]
  },
  {
   "cell_type": "markdown",
   "metadata": {},
   "source": [
    "We can use the number above to take sample at specific proportions!"
   ]
  },
  {
   "cell_type": "code",
   "execution_count": 29,
   "metadata": {},
   "outputs": [
    {
     "data": {
      "text/html": [
       "<table border=\"1\" class=\"dataframe\">\n",
       "    <thead>\n",
       "        <tr>\n",
       "            <th>Ethnicity</th>\n",
       "        </tr>\n",
       "    </thead>\n",
       "    <tbody>\n",
       "        <tr>\n",
       "            <td>Black    </td>\n",
       "        </tr>\n",
       "        <tr>\n",
       "            <td>Black    </td>\n",
       "        </tr>\n",
       "        <tr>\n",
       "            <td>Other    </td>\n",
       "        </tr>\n",
       "        <tr>\n",
       "            <td>Black    </td>\n",
       "        </tr>\n",
       "        <tr>\n",
       "            <td>Other    </td>\n",
       "        </tr>\n",
       "        <tr>\n",
       "            <td>Black    </td>\n",
       "        </tr>\n",
       "        <tr>\n",
       "            <td>Black    </td>\n",
       "        </tr>\n",
       "        <tr>\n",
       "            <td>Other    </td>\n",
       "        </tr>\n",
       "        <tr>\n",
       "            <td>Other    </td>\n",
       "        </tr>\n",
       "        <tr>\n",
       "            <td>Black    </td>\n",
       "        </tr>\n",
       "    </tbody>\n",
       "</table>"
      ],
      "text/plain": [
       "Ethnicity\n",
       "Black\n",
       "Black\n",
       "Other\n",
       "Black\n",
       "Other\n",
       "Black\n",
       "Black\n",
       "Other\n",
       "Other\n",
       "Black"
      ]
     },
     "execution_count": 29,
     "metadata": {},
     "output_type": "execute_result"
    }
   ],
   "source": [
    "ethnicities.sample(10, weights = pop_distribution)"
   ]
  },
  {
   "cell_type": "markdown",
   "metadata": {},
   "source": [
    "Now we'll take 100 sample and group them by ethnicity."
   ]
  },
  {
   "cell_type": "code",
   "execution_count": 30,
   "metadata": {},
   "outputs": [
    {
     "data": {
      "text/html": [
       "<table border=\"1\" class=\"dataframe\">\n",
       "    <thead>\n",
       "        <tr>\n",
       "            <th>Ethnicity</th> <th>count</th>\n",
       "        </tr>\n",
       "    </thead>\n",
       "    <tbody>\n",
       "        <tr>\n",
       "            <td>Black    </td> <td>24   </td>\n",
       "        </tr>\n",
       "        <tr>\n",
       "            <td>Other    </td> <td>76   </td>\n",
       "        </tr>\n",
       "    </tbody>\n",
       "</table>"
      ],
      "text/plain": [
       "Ethnicity | count\n",
       "Black     | 24\n",
       "Other     | 76"
      ]
     },
     "execution_count": 30,
     "metadata": {},
     "output_type": "execute_result"
    }
   ],
   "source": [
    "samplePanel = ethnicities.sample(100, weights= pop_distribution).group('Ethnicity')\n",
    "samplePanel"
   ]
  },
  {
   "cell_type": "code",
   "execution_count": 31,
   "metadata": {},
   "outputs": [
    {
     "data": {
      "text/plain": [
       "array([24, 76])"
      ]
     },
     "execution_count": 31,
     "metadata": {},
     "output_type": "execute_result"
    }
   ],
   "source": [
    "counts = samplePanel.column('count')\n",
    "counts"
   ]
  },
  {
   "cell_type": "code",
   "execution_count": 32,
   "metadata": {},
   "outputs": [
    {
     "data": {
      "text/plain": [
       "array([0.24, 0.76])"
      ]
     },
     "execution_count": 32,
     "metadata": {},
     "output_type": "execute_result"
    }
   ],
   "source": [
    "proportions = counts / 100\n",
    "proportions"
   ]
  },
  {
   "cell_type": "code",
   "execution_count": 33,
   "metadata": {},
   "outputs": [
    {
     "data": {
      "text/html": [
       "<table border=\"1\" class=\"dataframe\">\n",
       "    <thead>\n",
       "        <tr>\n",
       "            <th>Ethnicity</th> <th>Eligible</th> <th>Panel</th> <th>Random</th>\n",
       "        </tr>\n",
       "    </thead>\n",
       "    <tbody>\n",
       "        <tr>\n",
       "            <td>Black    </td> <td>26%     </td> <td>8%   </td> <td>24%   </td>\n",
       "        </tr>\n",
       "        <tr>\n",
       "            <td>Other    </td> <td>74%     </td> <td>92%  </td> <td>76%   </td>\n",
       "        </tr>\n",
       "    </tbody>\n",
       "</table>"
      ],
      "text/plain": [
       "Ethnicity | Eligible | Panel | Random\n",
       "Black     | 26%      | 8%    | 24%\n",
       "Other     | 74%      | 92%   | 76%"
      ]
     },
     "execution_count": 33,
     "metadata": {},
     "output_type": "execute_result"
    }
   ],
   "source": [
    "# 'with_random' will be the swain table with the additional 'Random'\n",
    "with_random = swain.with_column('Random', proportions)\n",
    "with_random.set_format([1, 2, 3], PercentFormatter(0))"
   ]
  },
  {
   "cell_type": "markdown",
   "metadata": {},
   "source": [
    "Now we're going to draw multiple panels and see if the 8% panel is likely to appear by random chance. This means we have to run the following function multiple times:"
   ]
  },
  {
   "cell_type": "code",
   "execution_count": 34,
   "metadata": {},
   "outputs": [
    {
     "data": {
      "text/html": [
       "<table border=\"1\" class=\"dataframe\">\n",
       "    <thead>\n",
       "        <tr>\n",
       "            <th>Ethnicity</th> <th>Eligible</th> <th>Panel</th> <th>Random</th>\n",
       "        </tr>\n",
       "    </thead>\n",
       "    <tbody>\n",
       "        <tr>\n",
       "            <td>Black    </td> <td>26%     </td> <td>8%   </td> <td>24%   </td>\n",
       "        </tr>\n",
       "        <tr>\n",
       "            <td>Other    </td> <td>74%     </td> <td>92%  </td> <td>76%   </td>\n",
       "        </tr>\n",
       "    </tbody>\n",
       "</table>"
      ],
      "text/plain": [
       "Ethnicity | Eligible | Panel | Random\n",
       "Black     | 26%      | 8%    | 24%\n",
       "Other     | 74%      | 92%   | 76%"
      ]
     },
     "execution_count": 34,
     "metadata": {},
     "output_type": "execute_result"
    }
   ],
   "source": [
    "def random_jury_panel():\n",
    "    samplePanel = ethnicities.sample(100, weights= pop_distribution).group('Ethnicity')\n",
    "    with_random = swain.with_column('Random', proportions)\n",
    "    with_random.set_format([1, 2, 3], PercentFormatter(0))\n",
    "    return with_random\n",
    "\n",
    "random_jury_panel()"
   ]
  },
  {
   "cell_type": "code",
   "execution_count": null,
   "metadata": {},
   "outputs": [],
   "source": []
  }
 ],
 "metadata": {
  "kernelspec": {
   "display_name": "Python 3",
   "language": "python",
   "name": "python3"
  },
  "language_info": {
   "codemirror_mode": {
    "name": "ipython",
    "version": 3
   },
   "file_extension": ".py",
   "mimetype": "text/x-python",
   "name": "python",
   "nbconvert_exporter": "python",
   "pygments_lexer": "ipython3",
   "version": "3.7.1"
  }
 },
 "nbformat": 4,
 "nbformat_minor": 1
}
