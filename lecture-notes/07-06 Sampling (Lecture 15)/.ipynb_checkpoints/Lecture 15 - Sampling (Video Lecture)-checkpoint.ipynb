{
 "cells": [
  {
   "cell_type": "code",
   "execution_count": 1,
   "metadata": {},
   "outputs": [],
   "source": [
    "from datascience import *\n",
    "import numpy as np\n",
    "%matplotlib inline\n",
    "import matplotlib.pyplot as plots\n",
    "plots.style.use('fivethirtyeight')\n",
    "\n",
    "from ipywidgets import interact, interactive, fixed, interact_manual\n",
    "import ipywidgets as widgets"
   ]
  },
  {
   "cell_type": "markdown",
   "metadata": {},
   "source": [
    "# Review: Monty Hall Problem\n",
    "In the previous lecture, we discussed about the Monty Hall problem. The contestant pick a door, Monty opens one of the other door that contains a goat, then the contestant has to decide to stick with the original choice or to switch. \n",
    "\n",
    "The previous lecture might be intense in terms of codes. However, the important point is to understand the bigger picture. We want to simulate the game and see if simulating the game 1000 times would result in winning a car half of the time or it would result in winning the car more than half of the time. \n",
    "\n",
    "Recall the high-level steps that we need to do to carry out the whole game:\n",
    "1. Put prizes behind doors randomly\n",
    "2. Pick a door\n",
    "3. Monty opens one of the 2 remaining doors to reveal a goat\n",
    "4. Reveal all doors and see if we win a car or not\n",
    "\n",
    "### Step 1: Set Up Game\n",
    "In step 1, we constructed the game in a form of a table."
   ]
  },
  {
   "cell_type": "code",
   "execution_count": 2,
   "metadata": {},
   "outputs": [
    {
     "data": {
      "text/plain": [
       "array([1, 2, 3])"
      ]
     },
     "execution_count": 2,
     "metadata": {},
     "output_type": "execute_result"
    }
   ],
   "source": [
    "# Create doors labeled 1, 2, 3\n",
    "doors = make_array(1, 2, 3)\n",
    "doors"
   ]
  },
  {
   "cell_type": "code",
   "execution_count": 3,
   "metadata": {},
   "outputs": [
    {
     "data": {
      "text/plain": [
       "array(['car', 'first goat', 'second goat'], dtype='<U11')"
      ]
     },
     "execution_count": 3,
     "metadata": {},
     "output_type": "execute_result"
    }
   ],
   "source": [
    "# Create an array of prizes\n",
    "prizes = make_array('car', 'first goat', 'second goat')\n",
    "prizes"
   ]
  },
  {
   "cell_type": "code",
   "execution_count": 4,
   "metadata": {},
   "outputs": [
    {
     "data": {
      "text/html": [
       "<table border=\"1\" class=\"dataframe\">\n",
       "    <thead>\n",
       "        <tr>\n",
       "            <th>Door</th> <th>Prize</th>\n",
       "        </tr>\n",
       "    </thead>\n",
       "    <tbody>\n",
       "        <tr>\n",
       "            <td>1   </td> <td>first goat </td>\n",
       "        </tr>\n",
       "        <tr>\n",
       "            <td>2   </td> <td>second goat</td>\n",
       "        </tr>\n",
       "        <tr>\n",
       "            <td>3   </td> <td>car        </td>\n",
       "        </tr>\n",
       "    </tbody>\n",
       "</table>"
      ],
      "text/plain": [
       "Door | Prize\n",
       "1    | first goat\n",
       "2    | second goat\n",
       "3    | car"
      ]
     },
     "execution_count": 4,
     "metadata": {},
     "output_type": "execute_result"
    }
   ],
   "source": [
    "def setup():\n",
    "    \"\"\" Return a random game of Let's Make a Deal \"\"\"\n",
    "    return Table().with_columns(\n",
    "    'Door', doors,\n",
    "    'Prize', np.random.choice(prizes, 3, replace = False)\n",
    "        # Recall 'replace = False' makes sure that a value that has been used can't be used anymore!\n",
    "        # If this is not the case, np.random.choice could pick 'car' twice or multiple times\n",
    "    )\n",
    "\n",
    "a_game = setup()\n",
    "a_game"
   ]
  },
  {
   "cell_type": "markdown",
   "metadata": {},
   "source": [
    "### Step 2: Pick a Door\n",
    "Choose a door randomly,"
   ]
  },
  {
   "cell_type": "code",
   "execution_count": 5,
   "metadata": {},
   "outputs": [
    {
     "data": {
      "text/plain": [
       "3"
      ]
     },
     "execution_count": 5,
     "metadata": {},
     "output_type": "execute_result"
    }
   ],
   "source": [
    "a_guess = np.random.choice(doors)\n",
    "a_guess"
   ]
  },
  {
   "cell_type": "markdown",
   "metadata": {},
   "source": [
    "### Step 3: Monty Opens a Door\n",
    "Monty opens one of the 2 doors that the contestant did not choose, and that door has to contain a goat."
   ]
  },
  {
   "cell_type": "code",
   "execution_count": 6,
   "metadata": {},
   "outputs": [
    {
     "name": "stdout",
     "output_type": "stream",
     "text": [
      "Behind door number 1 is the first goat\n",
      "Behind door number 2 is the second goat\n",
      "Behind door number 3 is the car\n"
     ]
    }
   ],
   "source": [
    "def behind(game, door):\n",
    "    \"\"\" Return the prize behind the door \"\"\"\n",
    "    return game.where('Door', door).column('Prize').item(0)\n",
    "\n",
    "for door in doors:\n",
    "    print('Behind door number', door, 'is the', behind(a_game, door))"
   ]
  },
  {
   "cell_type": "code",
   "execution_count": 7,
   "metadata": {},
   "outputs": [
    {
     "name": "stdout",
     "output_type": "stream",
     "text": [
      "The car is behind door number 3\n",
      "The first goat is behind door number 1\n",
      "The second goat is behind door number 2\n"
     ]
    }
   ],
   "source": [
    "def location(game, prize):\n",
    "    \"\"\" Return the door that hides a prize \"\"\"\n",
    "    return game.where('Prize', prize).column('Door').item(0)\n",
    "\n",
    "for prize in prizes:\n",
    "    print('The', prize, 'is behind door number', location(a_game, prize))"
   ]
  },
  {
   "cell_type": "code",
   "execution_count": 8,
   "metadata": {},
   "outputs": [
    {
     "name": "stdout",
     "output_type": "stream",
     "text": [
      "The contestant picked door 3 which hides the car\n",
      "Monty Hall opens door 1 to expose the first goat\n"
     ]
    }
   ],
   "source": [
    "def expose(game, guess):\n",
    "    \"\"\"Return the door that Monty Hall opens to expose a goat.\"\"\"\n",
    "    guessed_prize = behind(game, guess)\n",
    "    if guessed_prize == 'first goat':\n",
    "        reveal = 'second goat'\n",
    "    elif guessed_prize == 'second goat':\n",
    "        reveal = 'first goat'\n",
    "    else:\n",
    "        reveal = np.random.choice(['first goat', 'second goat'])\n",
    "    return location(game, reveal)\n",
    "\n",
    "an_exposed_door = expose(a_game, a_guess)\n",
    "print('The contestant picked door', a_guess, 'which hides the', behind(a_game, a_guess))\n",
    "print('Monty Hall opens door', an_exposed_door, 'to expose the', behind(a_game, an_exposed_door))"
   ]
  },
  {
   "cell_type": "markdown",
   "metadata": {},
   "source": [
    "Finally, still have the last remaining door that has not been opened. The trick here is to subtract 6 with the total of the door numbers that have been opened."
   ]
  },
  {
   "cell_type": "code",
   "execution_count": 9,
   "metadata": {},
   "outputs": [
    {
     "name": "stdout",
     "output_type": "stream",
     "text": [
      "The remaining door 2 hides the second goat\n"
     ]
    }
   ],
   "source": [
    "def other(game, guess, exposed):\n",
    "    \"\"\"Return the door that is not the guess or the exposed.\"\"\"\n",
    "    return (1 + 2 + 3) - guess - exposed\n",
    "\n",
    "the_remaining_door = other(a_game, a_guess, an_exposed_door)\n",
    "print('The remaining door', the_remaining_door, 'hides the', behind(a_game, the_remaining_door))"
   ]
  },
  {
   "cell_type": "markdown",
   "metadata": {},
   "source": [
    "### Step 4: Reveal All Doors, Repeat\n",
    "All that's left is to do a simulation. Let's simulate one game of the Monty Hall Problem. First we create a `game`."
   ]
  },
  {
   "cell_type": "code",
   "execution_count": 10,
   "metadata": {},
   "outputs": [
    {
     "data": {
      "text/html": [
       "<table border=\"1\" class=\"dataframe\">\n",
       "    <thead>\n",
       "        <tr>\n",
       "            <th>Door</th> <th>Prize</th>\n",
       "        </tr>\n",
       "    </thead>\n",
       "    <tbody>\n",
       "        <tr>\n",
       "            <td>1   </td> <td>second goat</td>\n",
       "        </tr>\n",
       "        <tr>\n",
       "            <td>2   </td> <td>first goat </td>\n",
       "        </tr>\n",
       "        <tr>\n",
       "            <td>3   </td> <td>car        </td>\n",
       "        </tr>\n",
       "    </tbody>\n",
       "</table>"
      ],
      "text/plain": [
       "Door | Prize\n",
       "1    | second goat\n",
       "2    | first goat\n",
       "3    | car"
      ]
     },
     "execution_count": 10,
     "metadata": {},
     "output_type": "execute_result"
    }
   ],
   "source": [
    "game = setup()\n",
    "game"
   ]
  },
  {
   "cell_type": "markdown",
   "metadata": {},
   "source": [
    "Then make the door `guess`,"
   ]
  },
  {
   "cell_type": "code",
   "execution_count": 11,
   "metadata": {},
   "outputs": [
    {
     "data": {
      "text/plain": [
       "1"
      ]
     },
     "execution_count": 11,
     "metadata": {},
     "output_type": "execute_result"
    }
   ],
   "source": [
    "guess = np.random.choice(doors)\n",
    "guess"
   ]
  },
  {
   "cell_type": "markdown",
   "metadata": {},
   "source": [
    "Now Monty opens a door,"
   ]
  },
  {
   "cell_type": "code",
   "execution_count": 12,
   "metadata": {},
   "outputs": [
    {
     "data": {
      "text/plain": [
       "2"
      ]
     },
     "execution_count": 12,
     "metadata": {},
     "output_type": "execute_result"
    }
   ],
   "source": [
    "exposed = expose(game, guess)\n",
    "exposed"
   ]
  },
  {
   "cell_type": "markdown",
   "metadata": {},
   "source": [
    "Monty opens door 2, which contains the `first goat`. Now we have the remaining unopened door,"
   ]
  },
  {
   "cell_type": "code",
   "execution_count": 13,
   "metadata": {},
   "outputs": [
    {
     "data": {
      "text/plain": [
       "3"
      ]
     },
     "execution_count": 13,
     "metadata": {},
     "output_type": "execute_result"
    }
   ],
   "source": [
    "remaining = other(game, guess, exposed)\n",
    "remaining"
   ]
  },
  {
   "cell_type": "markdown",
   "metadata": {},
   "source": [
    "And we can put the `guess`, `exposed`, and `remaining` all in an array."
   ]
  },
  {
   "cell_type": "code",
   "execution_count": 14,
   "metadata": {},
   "outputs": [
    {
     "data": {
      "text/plain": [
       "[1, 2, 3]"
      ]
     },
     "execution_count": 14,
     "metadata": {},
     "output_type": "execute_result"
    }
   ],
   "source": [
    "[guess, exposed, remaining]"
   ]
  },
  {
   "cell_type": "markdown",
   "metadata": {},
   "source": [
    "We can put the steps above in a single cell so that we can simulate the game multiple times. Run the cell below multiple times to see varying result."
   ]
  },
  {
   "cell_type": "code",
   "execution_count": 15,
   "metadata": {},
   "outputs": [
    {
     "data": {
      "text/plain": [
       "[1, 2, 3]"
      ]
     },
     "execution_count": 15,
     "metadata": {},
     "output_type": "execute_result"
    }
   ],
   "source": [
    "game = setup()\n",
    "guess = np.random.choice(doors)\n",
    "exposed = expose(game, guess)\n",
    "remaining = other(game, guess, exposed)\n",
    "[guess, exposed, remaining]"
   ]
  },
  {
   "cell_type": "markdown",
   "metadata": {},
   "source": [
    "The final output above is an array of door numbers. We want the prize instead of door numbers. For this reason, we use the method `behind`."
   ]
  },
  {
   "cell_type": "code",
   "execution_count": 16,
   "metadata": {},
   "outputs": [
    {
     "data": {
      "text/plain": [
       "['first goat', 'second goat', 'car']"
      ]
     },
     "execution_count": 16,
     "metadata": {},
     "output_type": "execute_result"
    }
   ],
   "source": [
    "game = setup()\n",
    "guess = np.random.choice(doors)\n",
    "exposed = expose(game, guess)\n",
    "remaining = other(game, guess, exposed)\n",
    "[behind(game, guess), behind(game, exposed), behind(game, remaining)]"
   ]
  },
  {
   "cell_type": "markdown",
   "metadata": {},
   "source": [
    "What if we want to simulate this game 10,000 times? Use a `for` loop!"
   ]
  },
  {
   "cell_type": "code",
   "execution_count": 17,
   "metadata": {},
   "outputs": [],
   "source": [
    "for i in np.arange(10000):\n",
    "    game = setup()\n",
    "    guess = np.random.choice(doors)\n",
    "    exposed = expose(game, guess)\n",
    "    remaining = other(game, guess, exposed)\n",
    "    [behind(game, guess), behind(game, exposed), behind(game, remaining)]"
   ]
  },
  {
   "cell_type": "markdown",
   "metadata": {},
   "source": [
    "However, if we run the code above, it will not return anything! Why is that?\n",
    "\n",
    "Recall the coin flips example, where we had an array that stores the the number of heads for every 100 coin flip simulation. Similar to that, here we need a `table` that stores the result of every simulation.\n",
    "\n",
    "Let's say we have a table `trials`. This `trials` table can be initially constructed with just a row of labels."
   ]
  },
  {
   "cell_type": "code",
   "execution_count": 18,
   "metadata": {},
   "outputs": [
    {
     "data": {
      "text/html": [
       "<table border=\"1\" class=\"dataframe\">\n",
       "    <thead>\n",
       "        <tr>\n",
       "            <th>Trials</th> <th>Guess</th> <th>Exposed</th> <th>Remaining</th>\n",
       "        </tr>\n",
       "    </thead>\n",
       "    <tbody>\n",
       "    </tbody>\n",
       "</table>"
      ],
      "text/plain": [
       "Trials | Guess | Exposed | Remaining"
      ]
     },
     "execution_count": 18,
     "metadata": {},
     "output_type": "execute_result"
    }
   ],
   "source": [
    "trials = Table(['Trials', 'Guess', 'Exposed', 'Remaining'])\n",
    "trials"
   ]
  },
  {
   "cell_type": "markdown",
   "metadata": {},
   "source": [
    "Above, we have a table with only labels! We can add rows to `trials` with the `append` method."
   ]
  },
  {
   "cell_type": "code",
   "execution_count": 19,
   "metadata": {},
   "outputs": [
    {
     "data": {
      "text/html": [
       "<table border=\"1\" class=\"dataframe\">\n",
       "    <thead>\n",
       "        <tr>\n",
       "            <th>Trials</th> <th>Guess</th> <th>Exposed</th> <th>Remaining</th>\n",
       "        </tr>\n",
       "    </thead>\n",
       "    <tbody>\n",
       "        <tr>\n",
       "            <td>1     </td> <td>car  </td> <td>first goat</td> <td>second goat</td>\n",
       "        </tr>\n",
       "    </tbody>\n",
       "</table>"
      ],
      "text/plain": [
       "Trials | Guess | Exposed    | Remaining\n",
       "1      | car   | first goat | second goat"
      ]
     },
     "execution_count": 19,
     "metadata": {},
     "output_type": "execute_result"
    }
   ],
   "source": [
    "trials.append([1, 'car', 'first goat', 'second goat'])"
   ]
  },
  {
   "cell_type": "code",
   "execution_count": 20,
   "metadata": {},
   "outputs": [
    {
     "data": {
      "text/html": [
       "<table border=\"1\" class=\"dataframe\">\n",
       "    <thead>\n",
       "        <tr>\n",
       "            <th>Trials</th> <th>Guess</th> <th>Exposed</th> <th>Remaining</th>\n",
       "        </tr>\n",
       "    </thead>\n",
       "    <tbody>\n",
       "        <tr>\n",
       "            <td>1     </td> <td>car  </td> <td>first goat</td> <td>second goat</td>\n",
       "        </tr>\n",
       "    </tbody>\n",
       "</table>"
      ],
      "text/plain": [
       "Trials | Guess | Exposed    | Remaining\n",
       "1      | car   | first goat | second goat"
      ]
     },
     "execution_count": 20,
     "metadata": {},
     "output_type": "execute_result"
    }
   ],
   "source": [
    "trials"
   ]
  },
  {
   "cell_type": "markdown",
   "metadata": {},
   "source": [
    "The table now has a row! Now we can go back to our `for` loop and apply this methodology."
   ]
  },
  {
   "cell_type": "code",
   "execution_count": 21,
   "metadata": {},
   "outputs": [],
   "source": [
    "trials = Table(['Trials', 'Guess', 'Exposed', 'Remaining'])\n",
    "for i in np.arange(10000):\n",
    "    game = setup()\n",
    "    guess = np.random.choice(doors)\n",
    "    exposed = expose(game, guess)\n",
    "    remaining = other(game, guess, exposed)\n",
    "    trials.append([i, behind(game, guess), behind(game, exposed), behind(game, remaining)])"
   ]
  },
  {
   "cell_type": "code",
   "execution_count": 22,
   "metadata": {},
   "outputs": [
    {
     "data": {
      "text/html": [
       "<table border=\"1\" class=\"dataframe\">\n",
       "    <thead>\n",
       "        <tr>\n",
       "            <th>Trials</th> <th>Guess</th> <th>Exposed</th> <th>Remaining</th>\n",
       "        </tr>\n",
       "    </thead>\n",
       "    <tbody>\n",
       "        <tr>\n",
       "            <td>0     </td> <td>car        </td> <td>second goat</td> <td>first goat </td>\n",
       "        </tr>\n",
       "        <tr>\n",
       "            <td>1     </td> <td>second goat</td> <td>first goat </td> <td>car        </td>\n",
       "        </tr>\n",
       "        <tr>\n",
       "            <td>2     </td> <td>second goat</td> <td>first goat </td> <td>car        </td>\n",
       "        </tr>\n",
       "        <tr>\n",
       "            <td>3     </td> <td>car        </td> <td>first goat </td> <td>second goat</td>\n",
       "        </tr>\n",
       "        <tr>\n",
       "            <td>4     </td> <td>second goat</td> <td>first goat </td> <td>car        </td>\n",
       "        </tr>\n",
       "        <tr>\n",
       "            <td>5     </td> <td>car        </td> <td>second goat</td> <td>first goat </td>\n",
       "        </tr>\n",
       "        <tr>\n",
       "            <td>6     </td> <td>first goat </td> <td>second goat</td> <td>car        </td>\n",
       "        </tr>\n",
       "        <tr>\n",
       "            <td>7     </td> <td>first goat </td> <td>second goat</td> <td>car        </td>\n",
       "        </tr>\n",
       "        <tr>\n",
       "            <td>8     </td> <td>first goat </td> <td>second goat</td> <td>car        </td>\n",
       "        </tr>\n",
       "        <tr>\n",
       "            <td>9     </td> <td>second goat</td> <td>first goat </td> <td>car        </td>\n",
       "        </tr>\n",
       "    </tbody>\n",
       "</table>\n",
       "<p>... (9990 rows omitted)</p>"
      ],
      "text/plain": [
       "Trials | Guess       | Exposed     | Remaining\n",
       "0      | car         | second goat | first goat\n",
       "1      | second goat | first goat  | car\n",
       "2      | second goat | first goat  | car\n",
       "3      | car         | first goat  | second goat\n",
       "4      | second goat | first goat  | car\n",
       "5      | car         | second goat | first goat\n",
       "6      | first goat  | second goat | car\n",
       "7      | first goat  | second goat | car\n",
       "8      | first goat  | second goat | car\n",
       "9      | second goat | first goat  | car\n",
       "... (9990 rows omitted)"
      ]
     },
     "execution_count": 22,
     "metadata": {},
     "output_type": "execute_result"
    }
   ],
   "source": [
    "trials"
   ]
  },
  {
   "cell_type": "markdown",
   "metadata": {},
   "source": [
    "How do we find out if it is more likely to win a car if we switch door?\n",
    "\n",
    "1. Use `group` method and see how many times we will get a car\n",
    "2. Visualize using a bar chart"
   ]
  },
  {
   "cell_type": "code",
   "execution_count": 23,
   "metadata": {},
   "outputs": [
    {
     "data": {
      "text/html": [
       "<table border=\"1\" class=\"dataframe\">\n",
       "    <thead>\n",
       "        <tr>\n",
       "            <th>Guess</th> <th>count</th>\n",
       "        </tr>\n",
       "    </thead>\n",
       "    <tbody>\n",
       "        <tr>\n",
       "            <td>car        </td> <td>3395 </td>\n",
       "        </tr>\n",
       "        <tr>\n",
       "            <td>first goat </td> <td>3317 </td>\n",
       "        </tr>\n",
       "        <tr>\n",
       "            <td>second goat</td> <td>3288 </td>\n",
       "        </tr>\n",
       "    </tbody>\n",
       "</table>"
      ],
      "text/plain": [
       "Guess       | count\n",
       "car         | 3395\n",
       "first goat  | 3317\n",
       "second goat | 3288"
      ]
     },
     "execution_count": 23,
     "metadata": {},
     "output_type": "execute_result"
    }
   ],
   "source": [
    "trials.group('Guess')"
   ]
  },
  {
   "cell_type": "code",
   "execution_count": 24,
   "metadata": {},
   "outputs": [
    {
     "data": {
      "text/plain": [
       "(0, 7000)"
      ]
     },
     "execution_count": 24,
     "metadata": {},
     "output_type": "execute_result"
    },
    {
     "data": {
      "image/png": "[encoded data removed]",
      "text/plain": [
       "<Figure size 432x288 with 1 Axes>"
      ]
     },
     "metadata": {},
     "output_type": "display_data"
    }
   ],
   "source": [
    "guess_count = trials.group('Guess').barh('Guess')\n",
    "guess_count\n",
    "plots.xlim(0, 7000) # Changes the x-axis limits"
   ]
  },
  {
   "cell_type": "markdown",
   "metadata": {},
   "source": [
    "See that if the contestant stick to the first door choice, the chance to win a car is about 1/3."
   ]
  },
  {
   "cell_type": "code",
   "execution_count": 25,
   "metadata": {},
   "outputs": [
    {
     "data": {
      "text/html": [
       "<table border=\"1\" class=\"dataframe\">\n",
       "    <thead>\n",
       "        <tr>\n",
       "            <th>Remaining</th> <th>count</th>\n",
       "        </tr>\n",
       "    </thead>\n",
       "    <tbody>\n",
       "        <tr>\n",
       "            <td>car        </td> <td>6605 </td>\n",
       "        </tr>\n",
       "        <tr>\n",
       "            <td>first goat </td> <td>1667 </td>\n",
       "        </tr>\n",
       "        <tr>\n",
       "            <td>second goat</td> <td>1728 </td>\n",
       "        </tr>\n",
       "    </tbody>\n",
       "</table>"
      ],
      "text/plain": [
       "Remaining   | count\n",
       "car         | 6605\n",
       "first goat  | 1667\n",
       "second goat | 1728"
      ]
     },
     "execution_count": 25,
     "metadata": {},
     "output_type": "execute_result"
    }
   ],
   "source": [
    "trials.group('Remaining')"
   ]
  },
  {
   "cell_type": "code",
   "execution_count": 26,
   "metadata": {},
   "outputs": [
    {
     "data": {
      "text/plain": [
       "(0, 7000)"
      ]
     },
     "execution_count": 26,
     "metadata": {},
     "output_type": "execute_result"
    },
    {
     "data": {
      "image/png": "[encoded data removed]",
      "text/plain": [
       "<Figure size 432x288 with 1 Axes>"
      ]
     },
     "metadata": {},
     "output_type": "display_data"
    }
   ],
   "source": [
    "remaining_count = trials.group('Remaining').barh('Remaining')\n",
    "remaining_count\n",
    "plots.xlim(0, 7000) # Changes the x-axis limits"
   ]
  },
  {
   "cell_type": "markdown",
   "metadata": {},
   "source": [
    "While if the contestant switch doors, the chance to win a car is almost doubled!\n",
    "\n",
    "See that we do not need to do complicated math. We only need to use Python to do simulations to show that switching door gives a higher chance to win a car. However, oftentimes we need to use math, or both, to understand how things work. "
   ]
  },
  {
   "cell_type": "markdown",
   "metadata": {},
   "source": [
    "# Probability\n",
    "The rules of probability govern how random events happen. If we have a coin and flip it, there's a 0% chance that the coin will become a dollar bill. \n",
    "\n",
    "* The lowest chance possible is 0, meaning that this event will never happen.\n",
    "\n",
    "On the other hand, if we flip a coin, there's a 100% chance that it will stay as a coin.\n",
    "\n",
    "* The greatest chance possible is 1 (or 100%), meaning that this event will always happen.\n",
    "\n",
    "Probabilities sum up to 1. If we flip a coin and the coin gives `heads` 50% of the time, the other 50% would be on `tails`.If an event has a chance of 70% to happen, then the chance that it doesn't happen is:\n",
    "\n",
    "1. 100% - 70% = 30%\n",
    "2. or, 1 - 0.7 = 0.3"
   ]
  },
  {
   "cell_type": "markdown",
   "metadata": {},
   "source": [
    "## Equally Likely Outcomes\n",
    "One rule of probability: If some event has an outcome, and all the outcomes are equally likely, the chance that event happen is the number of ways to make it happen / total amount of outcomes.\n",
    "\n",
    "In other words, the chance of an event **A** is happening assuming all outcomes are equally likely:\n",
    "<img src = 'outcomes.jpg' width =500\\>\n",
    "\n",
    "## Demo\n",
    "Imagine you have a 3 cards: green, red and blue. Put it behind your back and and shuffle it. Pull out a card. \n",
    "\n",
    "* It comes out green!\n",
    "\n",
    "Now you have 2 cards left behind your back: red and blue. Pull out another one.\n",
    "\n",
    "* Second card comes out red!\n",
    "\n",
    "What are the chances that the consecutive event of pulling green, then red card happening?\n",
    "\n",
    "One way of solving this is to list out the possibilities.\n",
    "\n",
    "We have 6 possibilities of how the card drawing would happen: (`G`reen, `R`ed, `B`lue. The first letter means the 1st card drawn. The second letter means the 2nd card drawn)\n",
    "\n",
    "1. GR\n",
    "2. GB\n",
    "3. RG\n",
    "4. RB\n",
    "5. BG\n",
    "6. BR\n",
    "\n",
    "All the 6 outcomes above are equally likely. This means the probabilty of drawing GR is 1/6.\n",
    "\n",
    "Another way of computing this event is by multiplying probabilities together. \n",
    "\n",
    "1. During the first draw, we have 1/3 chance of getting the green card.\n",
    "2. After we draw the green card, there are 2 cards left. Thus, we have 1/2 chance of getting the red card.\n",
    "\n",
    "Multiply the probabilities above,"
   ]
  },
  {
   "cell_type": "code",
   "execution_count": 27,
   "metadata": {},
   "outputs": [
    {
     "data": {
      "text/plain": [
       "0.16666666666666666"
      ]
     },
     "execution_count": 27,
     "metadata": {},
     "output_type": "execute_result"
    }
   ],
   "source": [
    "1/3 * 1/2"
   ]
  },
  {
   "cell_type": "markdown",
   "metadata": {},
   "source": [
    "## Fraction of a Fraction: When 2 Events Must Both Happen\n",
    "This is one way of thinking about the multiplication rule.\n",
    "<img src='fraction.jpg' width = 400/>\n",
    "\n",
    "Imagine we give a set of 3 cards to each student in the class. Tell the students to draw a card, and say \"those who didn't get the green card, leave the classroom.\n",
    "\n",
    "* About 2/3 of the students will leave the classroom, while 1/3 remaining.\n",
    "\n",
    "Now from the remaining 1/3, tell them to draw another card, and say \"those who didn't get the red card, leave the classroom\"\n",
    "\n",
    "* 1/2 of that 1/3 students will remain, while the other 1/2 leaves.\n",
    "\n",
    "And thus, the remaining students in class is:\n",
    "\\begin{equation*}\n",
    "\\frac{1}{3} \\times \\frac{1}{2} = \\frac{1}{6}\n",
    "\\end{equation*}"
   ]
  },
  {
   "cell_type": "markdown",
   "metadata": {},
   "source": [
    "## Multiplication Rule\n",
    "The probability of both events A and B happening is the probability of A happening multiplied by the probability that B happens give that A has happened. In other words,\n",
    "\n",
    "Probability of both = P(A happens) $\\times$ P(B happens given that A has happened)\n",
    "\n",
    "The analogy with the card drawing events is as the following,\n",
    "\n",
    "1. The probability of both events A and B happening: probability of getting green, then red card\n",
    "2. P(A happens) : Probability of getting a green card out of the 3 cards\n",
    "3. P(B happens given that A has happened): Probability of getting a red card after getting the green card out of the 3 cards\n",
    "\n",
    "If we have multiple events that need to happen consecutively, the probability of that to happen is always **less than or equal to** the chances of those individual events happening individually. The more conditions we need to satisfy, the less likely we are able to satisfy them all."
   ]
  },
  {
   "cell_type": "markdown",
   "metadata": {},
   "source": [
    "## What is the probability of getting a red and a green?\n",
    "This is different from the previous question: the probability of green first then red.\n",
    "\n",
    "If we look back to the list of possible events:\n",
    "\n",
    "1. GR\n",
    "2. GB\n",
    "3. RG\n",
    "4. RB\n",
    "5. BG\n",
    "6. BR\n",
    "\n",
    "Both GR and RG satisfy this condition. Thus, the chance of this happening is the chance of GR + the chance of RG, which is 1/6 + 1/6 = 1/3. This is an example of the **addition rule**."
   ]
  },
  {
   "cell_type": "markdown",
   "metadata": {},
   "source": [
    "## Addition Rule\n",
    "If we have an event A, in which in this case, drawing a red card and a green card in 2 draws, and that event can happen in exactly 1 of 2 ways, then the probability of the event A happening is:\n",
    "\n",
    "#### P(A) = P(first way) + P(second way)\n",
    "\n",
    "1. P(first way) can be drawing red first, then green\n",
    "2. P(second way) can be drawing green first, then red\n",
    "\n",
    "With the addition rule, the probability of an event A to happen is always **greater or equal to** the chance of each individual way."
   ]
  },
  {
   "cell_type": "markdown",
   "metadata": {},
   "source": [
    "## Example: At Least One Head\n",
    "With a coin, what is the probability of getting at least one head in 3 tosses?\n",
    "\n",
    "One easy way is to calculate the probability of getting all tails in 3 tosses, P(TTT), then calculate 1 - P(TTT).\n",
    "\n",
    "1. The probability of getting all tails, P(TTT), is: 1/2 $\\times$ 1/2 $\\times$ 1/2, or ${\\frac{1}{2}}^3$ = $\\frac{1}{8}$\n",
    "2. P(at least one head) = 1 - P(TTT) = 1 - $\\frac{1}{8}$  = $\\frac{7}{8}$\n",
    "\n",
    "If we do 10 tosses,\n",
    "\n",
    "1. The probability of getting all tails, P(10T) = ${\\frac{1}{2}} ^ {10}$\n",
    "2. Thus, the P(at least 1 head) = 1 - P(10T) = 1 - ${\\frac{1}{2}} ^ {10}$, which is close to 99.9%"
   ]
  },
  {
   "cell_type": "markdown",
   "metadata": {},
   "source": [
    "# Sampling\n",
    "Sampling is often done in statistics. Oftentimes, we have a large group of people or population, and we just want to take a smaller portion of that because we don't have access to the whole population.\n",
    "\n",
    "In sampling, we take a subgroup out of some groups. Some ways of getting a subgroup:\n",
    "\n",
    "1. Deterministic Sample\n",
    "    * Sampling scheme does not involve chance\n",
    "    * Example: we decide to choose everyone whose name starting with letter A\n",
    "    \n",
    "2. Probability Sample\n",
    "    * Before the sample is drawn, we need to know the probability of selecting every group of people in the population.\n",
    "    * Not all individuals have to have equal chance of being selected\n",
    "    \n",
    "## Demo\n",
    "Recall our table of 200 top-grossing movies,"
   ]
  },
  {
   "cell_type": "code",
   "execution_count": 28,
   "metadata": {},
   "outputs": [
    {
     "data": {
      "text/html": [
       "<table border=\"1\" class=\"dataframe\">\n",
       "    <thead>\n",
       "        <tr>\n",
       "            <th>Row Index</th> <th>Title</th> <th>Studio</th> <th>Gross</th> <th>Gross (Adjusted)</th> <th>Year</th>\n",
       "        </tr>\n",
       "    </thead>\n",
       "    <tbody>\n",
       "        <tr>\n",
       "            <td>0        </td> <td>Star Wars: The Force Awakens             </td> <td>Buena Vista (Disney)</td> <td>906723418</td> <td>906723400       </td> <td>2015</td>\n",
       "        </tr>\n",
       "        <tr>\n",
       "            <td>1        </td> <td>Avatar                                   </td> <td>Fox                 </td> <td>760507625</td> <td>846120800       </td> <td>2009</td>\n",
       "        </tr>\n",
       "        <tr>\n",
       "            <td>2        </td> <td>Titanic                                  </td> <td>Paramount           </td> <td>658672302</td> <td>1178627900      </td> <td>1997</td>\n",
       "        </tr>\n",
       "        <tr>\n",
       "            <td>3        </td> <td>Jurassic World                           </td> <td>Universal           </td> <td>652270625</td> <td>687728000       </td> <td>2015</td>\n",
       "        </tr>\n",
       "        <tr>\n",
       "            <td>4        </td> <td>Marvel's The Avengers                    </td> <td>Buena Vista (Disney)</td> <td>623357910</td> <td>668866600       </td> <td>2012</td>\n",
       "        </tr>\n",
       "        <tr>\n",
       "            <td>5        </td> <td>The Dark Knight                          </td> <td>Warner Bros.        </td> <td>534858444</td> <td>647761600       </td> <td>2008</td>\n",
       "        </tr>\n",
       "        <tr>\n",
       "            <td>6        </td> <td>Star Wars: Episode I - The Phantom Menace</td> <td>Fox                 </td> <td>474544677</td> <td>785715000       </td> <td>1999</td>\n",
       "        </tr>\n",
       "        <tr>\n",
       "            <td>7        </td> <td>Star Wars                                </td> <td>Fox                 </td> <td>460998007</td> <td>1549640500      </td> <td>1977</td>\n",
       "        </tr>\n",
       "        <tr>\n",
       "            <td>8        </td> <td>Avengers: Age of Ultron                  </td> <td>Buena Vista (Disney)</td> <td>459005868</td> <td>465684200       </td> <td>2015</td>\n",
       "        </tr>\n",
       "        <tr>\n",
       "            <td>9        </td> <td>The Dark Knight Rises                    </td> <td>Warner Bros.        </td> <td>448139099</td> <td>500961700       </td> <td>2012</td>\n",
       "        </tr>\n",
       "    </tbody>\n",
       "</table>\n",
       "<p>... (190 rows omitted)</p>"
      ],
      "text/plain": [
       "Row Index | Title                                     | Studio               | Gross     | Gross (Adjusted) | Year\n",
       "0         | Star Wars: The Force Awakens              | Buena Vista (Disney) | 906723418 | 906723400        | 2015\n",
       "1         | Avatar                                    | Fox                  | 760507625 | 846120800        | 2009\n",
       "2         | Titanic                                   | Paramount            | 658672302 | 1178627900       | 1997\n",
       "3         | Jurassic World                            | Universal            | 652270625 | 687728000        | 2015\n",
       "4         | Marvel's The Avengers                     | Buena Vista (Disney) | 623357910 | 668866600        | 2012\n",
       "5         | The Dark Knight                           | Warner Bros.         | 534858444 | 647761600        | 2008\n",
       "6         | Star Wars: Episode I - The Phantom Menace | Fox                  | 474544677 | 785715000        | 1999\n",
       "7         | Star Wars                                 | Fox                  | 460998007 | 1549640500       | 1977\n",
       "8         | Avengers: Age of Ultron                   | Buena Vista (Disney) | 459005868 | 465684200        | 2015\n",
       "9         | The Dark Knight Rises                     | Warner Bros.         | 448139099 | 500961700        | 2012\n",
       "... (190 rows omitted)"
      ]
     },
     "execution_count": 28,
     "metadata": {},
     "output_type": "execute_result"
    }
   ],
   "source": [
    "top = Table.read_table('top_movies.csv')\n",
    "# Adds a column that keeps track of the row numbers, then put that column at the left end\n",
    "top = top.with_column('Row Index', np.arange(top.num_rows)).move_to_start('Row Index')\n",
    "top"
   ]
  },
  {
   "cell_type": "markdown",
   "metadata": {},
   "source": [
    "A `deterministic sample` is when we just take some data points without any chance involved. Below is an example where we just decided to take data from row 3, 5, and 8."
   ]
  },
  {
   "cell_type": "code",
   "execution_count": 29,
   "metadata": {},
   "outputs": [
    {
     "data": {
      "text/html": [
       "<table border=\"1\" class=\"dataframe\">\n",
       "    <thead>\n",
       "        <tr>\n",
       "            <th>Row Index</th> <th>Title</th> <th>Studio</th> <th>Gross</th> <th>Gross (Adjusted)</th> <th>Year</th>\n",
       "        </tr>\n",
       "    </thead>\n",
       "    <tbody>\n",
       "        <tr>\n",
       "            <td>3        </td> <td>Jurassic World         </td> <td>Universal           </td> <td>652270625</td> <td>687728000       </td> <td>2015</td>\n",
       "        </tr>\n",
       "        <tr>\n",
       "            <td>5        </td> <td>The Dark Knight        </td> <td>Warner Bros.        </td> <td>534858444</td> <td>647761600       </td> <td>2008</td>\n",
       "        </tr>\n",
       "        <tr>\n",
       "            <td>8        </td> <td>Avengers: Age of Ultron</td> <td>Buena Vista (Disney)</td> <td>459005868</td> <td>465684200       </td> <td>2015</td>\n",
       "        </tr>\n",
       "    </tbody>\n",
       "</table>"
      ],
      "text/plain": [
       "Row Index | Title                   | Studio               | Gross     | Gross (Adjusted) | Year\n",
       "3         | Jurassic World          | Universal            | 652270625 | 687728000        | 2015\n",
       "5         | The Dark Knight         | Warner Bros.         | 534858444 | 647761600        | 2008\n",
       "8         | Avengers: Age of Ultron | Buena Vista (Disney) | 459005868 | 465684200        | 2015"
      ]
     },
     "execution_count": 29,
     "metadata": {},
     "output_type": "execute_result"
    }
   ],
   "source": [
    "top.take(make_array(3, 5, 8))"
   ]
  },
  {
   "cell_type": "markdown",
   "metadata": {},
   "source": [
    "Below is another example where we decided to take the movies where the title includes the string `and the`,"
   ]
  },
  {
   "cell_type": "code",
   "execution_count": 30,
   "metadata": {},
   "outputs": [
    {
     "data": {
      "text/html": [
       "<table border=\"1\" class=\"dataframe\">\n",
       "    <thead>\n",
       "        <tr>\n",
       "            <th>Row Index</th> <th>Title</th> <th>Studio</th> <th>Gross</th> <th>Gross (Adjusted)</th> <th>Year</th>\n",
       "        </tr>\n",
       "    </thead>\n",
       "    <tbody>\n",
       "        <tr>\n",
       "            <td>22       </td> <td>Harry Potter and the Deathly Hallows Part 2                 </td> <td>Warner Bros.        </td> <td>381011219</td> <td>417512200       </td> <td>2011</td>\n",
       "        </tr>\n",
       "        <tr>\n",
       "            <td>43       </td> <td>Harry Potter and the Sorcerer's Stone                       </td> <td>Warner Bros.        </td> <td>317575550</td> <td>486442900       </td> <td>2001</td>\n",
       "        </tr>\n",
       "        <tr>\n",
       "            <td>44       </td> <td>Indiana Jones and the Kingdom of the Crystal Skull          </td> <td>Paramount           </td> <td>317101119</td> <td>384231200       </td> <td>2008</td>\n",
       "        </tr>\n",
       "        <tr>\n",
       "            <td>54       </td> <td>Harry Potter and the Half-Blood Prince                      </td> <td>Warner Bros.        </td> <td>301959197</td> <td>352098800       </td> <td>2009</td>\n",
       "        </tr>\n",
       "        <tr>\n",
       "            <td>59       </td> <td>Harry Potter and the Order of the Phoenix                   </td> <td>Warner Bros.        </td> <td>292004738</td> <td>369250200       </td> <td>2007</td>\n",
       "        </tr>\n",
       "        <tr>\n",
       "            <td>60       </td> <td>The Chronicles of Narnia: The Lion, the Witch and the Wa ...</td> <td>Buena Vista (Disney)</td> <td>291710957</td> <td>393033100       </td> <td>2005</td>\n",
       "        </tr>\n",
       "        <tr>\n",
       "            <td>62       </td> <td>Harry Potter and the Goblet of Fire                         </td> <td>Warner Bros.        </td> <td>290013036</td> <td>393024800       </td> <td>2005</td>\n",
       "        </tr>\n",
       "        <tr>\n",
       "            <td>69       </td> <td>Harry Potter and the Chamber of Secrets                     </td> <td>Warner Bros.        </td> <td>261988482</td> <td>390768100       </td> <td>2002</td>\n",
       "        </tr>\n",
       "        <tr>\n",
       "            <td>76       </td> <td>Harry Potter and the Prisoner of Azkaban                    </td> <td>Warner Bros.        </td> <td>249541069</td> <td>349598600       </td> <td>2004</td>\n",
       "        </tr>\n",
       "        <tr>\n",
       "            <td>91       </td> <td>Beauty and the Beast                                        </td> <td>Buena Vista (Disney)</td> <td>218967620</td> <td>394664300       </td> <td>1991</td>\n",
       "        </tr>\n",
       "    </tbody>\n",
       "</table>\n",
       "<p>... (6 rows omitted)</p>"
      ],
      "text/plain": [
       "Row Index | Title                                                        | Studio               | Gross     | Gross (Adjusted) | Year\n",
       "22        | Harry Potter and the Deathly Hallows Part 2                  | Warner Bros.         | 381011219 | 417512200        | 2011\n",
       "43        | Harry Potter and the Sorcerer's Stone                        | Warner Bros.         | 317575550 | 486442900        | 2001\n",
       "44        | Indiana Jones and the Kingdom of the Crystal Skull           | Paramount            | 317101119 | 384231200        | 2008\n",
       "54        | Harry Potter and the Half-Blood Prince                       | Warner Bros.         | 301959197 | 352098800        | 2009\n",
       "59        | Harry Potter and the Order of the Phoenix                    | Warner Bros.         | 292004738 | 369250200        | 2007\n",
       "60        | The Chronicles of Narnia: The Lion, the Witch and the Wa ... | Buena Vista (Disney) | 291710957 | 393033100        | 2005\n",
       "62        | Harry Potter and the Goblet of Fire                          | Warner Bros.         | 290013036 | 393024800        | 2005\n",
       "69        | Harry Potter and the Chamber of Secrets                      | Warner Bros.         | 261988482 | 390768100        | 2002\n",
       "76        | Harry Potter and the Prisoner of Azkaban                     | Warner Bros.         | 249541069 | 349598600        | 2004\n",
       "91        | Beauty and the Beast                                         | Buena Vista (Disney) | 218967620 | 394664300        | 1991\n",
       "... (6 rows omitted)"
      ]
     },
     "execution_count": 30,
     "metadata": {},
     "output_type": "execute_result"
    }
   ],
   "source": [
    "top.where('Title', are.containing('and the'))"
   ]
  },
  {
   "cell_type": "markdown",
   "metadata": {},
   "source": [
    "Now if we decided to choose a random number between 0 to 9,"
   ]
  },
  {
   "cell_type": "code",
   "execution_count": 31,
   "metadata": {},
   "outputs": [],
   "source": [
    "start = np.random.choice(np.arange(10))"
   ]
  },
  {
   "cell_type": "markdown",
   "metadata": {},
   "source": [
    "and use `start` as the starting number to take rows out of `top`, with an increment of 10,"
   ]
  },
  {
   "cell_type": "code",
   "execution_count": 32,
   "metadata": {},
   "outputs": [
    {
     "data": {
      "text/html": [
       "<table border=\"1\" class=\"dataframe\">\n",
       "    <thead>\n",
       "        <tr>\n",
       "            <th>Row Index</th> <th>Title</th> <th>Studio</th> <th>Gross</th> <th>Gross (Adjusted)</th> <th>Year</th>\n",
       "        </tr>\n",
       "    </thead>\n",
       "    <tbody>\n",
       "        <tr>\n",
       "            <td>4        </td> <td>Marvel's The Avengers                             </td> <td>Buena Vista (Disney)</td> <td>623357910</td> <td>668866600       </td> <td>2012</td>\n",
       "        </tr>\n",
       "        <tr>\n",
       "            <td>14       </td> <td>The Lion King                                     </td> <td>Buena Vista (Disney)</td> <td>422783777</td> <td>775573900       </td> <td>1994</td>\n",
       "        </tr>\n",
       "        <tr>\n",
       "            <td>24       </td> <td>Star Wars: Episode III - Revenge of the Sith      </td> <td>Fox                 </td> <td>380270577</td> <td>516123900       </td> <td>2005</td>\n",
       "        </tr>\n",
       "        <tr>\n",
       "            <td>34       </td> <td>The Hunger Games: Mockingjay - Part 1             </td> <td>Lionsgate           </td> <td>337135885</td> <td>354324000       </td> <td>2014</td>\n",
       "        </tr>\n",
       "        <tr>\n",
       "            <td>44       </td> <td>Indiana Jones and the Kingdom of the Crystal Skull</td> <td>Paramount           </td> <td>317101119</td> <td>384231200       </td> <td>2008</td>\n",
       "        </tr>\n",
       "        <tr>\n",
       "            <td>54       </td> <td>Harry Potter and the Half-Blood Prince            </td> <td>Warner Bros.        </td> <td>301959197</td> <td>352098800       </td> <td>2009</td>\n",
       "        </tr>\n",
       "        <tr>\n",
       "            <td>64       </td> <td>Home Alone                                        </td> <td>Fox                 </td> <td>285761243</td> <td>589287500       </td> <td>1990</td>\n",
       "        </tr>\n",
       "        <tr>\n",
       "            <td>74       </td> <td>Night at the Museum                               </td> <td>Fox                 </td> <td>250863268</td> <td>322261900       </td> <td>2006</td>\n",
       "        </tr>\n",
       "        <tr>\n",
       "            <td>84       </td> <td>Beverly Hills Cop                                 </td> <td>Paramount           </td> <td>234760478</td> <td>584205200       </td> <td>1984</td>\n",
       "        </tr>\n",
       "        <tr>\n",
       "            <td>94       </td> <td>Saving Private Ryan                               </td> <td>Dreamworks          </td> <td>216540909</td> <td>397999500       </td> <td>1998</td>\n",
       "        </tr>\n",
       "    </tbody>\n",
       "</table>\n",
       "<p>... (10 rows omitted)</p>"
      ],
      "text/plain": [
       "Row Index | Title                                              | Studio               | Gross     | Gross (Adjusted) | Year\n",
       "4         | Marvel's The Avengers                              | Buena Vista (Disney) | 623357910 | 668866600        | 2012\n",
       "14        | The Lion King                                      | Buena Vista (Disney) | 422783777 | 775573900        | 1994\n",
       "24        | Star Wars: Episode III - Revenge of the Sith       | Fox                  | 380270577 | 516123900        | 2005\n",
       "34        | The Hunger Games: Mockingjay - Part 1              | Lionsgate            | 337135885 | 354324000        | 2014\n",
       "44        | Indiana Jones and the Kingdom of the Crystal Skull | Paramount            | 317101119 | 384231200        | 2008\n",
       "54        | Harry Potter and the Half-Blood Prince             | Warner Bros.         | 301959197 | 352098800        | 2009\n",
       "64        | Home Alone                                         | Fox                  | 285761243 | 589287500        | 1990\n",
       "74        | Night at the Museum                                | Fox                  | 250863268 | 322261900        | 2006\n",
       "84        | Beverly Hills Cop                                  | Paramount            | 234760478 | 584205200        | 1984\n",
       "94        | Saving Private Ryan                                | Dreamworks           | 216540909 | 397999500        | 1998\n",
       "... (10 rows omitted)"
      ]
     },
     "execution_count": 32,
     "metadata": {},
     "output_type": "execute_result"
    }
   ],
   "source": [
    "top.take(np.arange(start, 200, 10))"
   ]
  },
  {
   "cell_type": "markdown",
   "metadata": {},
   "source": [
    "**Are the data above deterministic or probability sample?**\n",
    "\n",
    "This is a `probability` sample! This is because we can calculate the probability of getting each row in the sample. For example, the chance of getting any row greater than 9 is 1/10 since the probability of getting that row depends on the starting number that we get.\n",
    "\n",
    "This is also called `systematic sample`, which is a special type of probability sample where we initially take a randomized step and then systematically takes sample from there.\n",
    "\n",
    "#### What if we want to just take samples at random? Use `.sample`.\n",
    "The first argument of `.sample` is the number of data points or rows we want to take. By default, `.sample` takes samples with replacement, which means that it could take duplicates. If we want to take samples without replacement, we need to add an argument `(with_replacement = False)`."
   ]
  },
  {
   "cell_type": "code",
   "execution_count": 33,
   "metadata": {},
   "outputs": [
    {
     "data": {
      "text/html": [
       "<table border=\"1\" class=\"dataframe\">\n",
       "    <thead>\n",
       "        <tr>\n",
       "            <th>Row Index</th> <th>Title</th> <th>Studio</th> <th>Gross</th> <th>Gross (Adjusted)</th> <th>Year</th>\n",
       "        </tr>\n",
       "    </thead>\n",
       "    <tbody>\n",
       "        <tr>\n",
       "            <td>46       </td> <td>Iron Man 2                               </td> <td>Paramount           </td> <td>312433331</td> <td>341908200       </td> <td>2010</td>\n",
       "        </tr>\n",
       "        <tr>\n",
       "            <td>197      </td> <td>Duel in the Sun                          </td> <td>Selz.               </td> <td>20408163 </td> <td>443877500       </td> <td>1946</td>\n",
       "        </tr>\n",
       "        <tr>\n",
       "            <td>133      </td> <td>The Jungle Book                          </td> <td>Disney              </td> <td>141843612</td> <td>641015300       </td> <td>1967</td>\n",
       "        </tr>\n",
       "        <tr>\n",
       "            <td>59       </td> <td>Harry Potter and the Order of the Phoenix</td> <td>Warner Bros.        </td> <td>292004738</td> <td>369250200       </td> <td>2007</td>\n",
       "        </tr>\n",
       "        <tr>\n",
       "            <td>50       </td> <td>Independence Day                         </td> <td>Fox                 </td> <td>306169268</td> <td>602639200       </td> <td>1996</td>\n",
       "        </tr>\n",
       "        <tr>\n",
       "            <td>83       </td> <td>My Big Fat Greek Wedding                 </td> <td>IFC                 </td> <td>241438208</td> <td>360349500       </td> <td>2002</td>\n",
       "        </tr>\n",
       "        <tr>\n",
       "            <td>70       </td> <td>The Incredibles                          </td> <td>Buena Vista (Disney)</td> <td>261441092</td> <td>365660600       </td> <td>2004</td>\n",
       "        </tr>\n",
       "        <tr>\n",
       "            <td>14       </td> <td>The Lion King                            </td> <td>Buena Vista (Disney)</td> <td>422783777</td> <td>775573900       </td> <td>1994</td>\n",
       "        </tr>\n",
       "        <tr>\n",
       "            <td>113      </td> <td>Tootsie                                  </td> <td>Columbia            </td> <td>177200000</td> <td>495064300       </td> <td>1982</td>\n",
       "        </tr>\n",
       "        <tr>\n",
       "            <td>153      </td> <td>The Graduate                             </td> <td>AVCO                </td> <td>104945305</td> <td>744517700       </td> <td>1967</td>\n",
       "        </tr>\n",
       "    </tbody>\n",
       "</table>"
      ],
      "text/plain": [
       "Row Index | Title                                     | Studio               | Gross     | Gross (Adjusted) | Year\n",
       "46        | Iron Man 2                                | Paramount            | 312433331 | 341908200        | 2010\n",
       "197       | Duel in the Sun                           | Selz.                | 20408163  | 443877500        | 1946\n",
       "133       | The Jungle Book                           | Disney               | 141843612 | 641015300        | 1967\n",
       "59        | Harry Potter and the Order of the Phoenix | Warner Bros.         | 292004738 | 369250200        | 2007\n",
       "50        | Independence Day                          | Fox                  | 306169268 | 602639200        | 1996\n",
       "83        | My Big Fat Greek Wedding                  | IFC                  | 241438208 | 360349500        | 2002\n",
       "70        | The Incredibles                           | Buena Vista (Disney) | 261441092 | 365660600        | 2004\n",
       "14        | The Lion King                             | Buena Vista (Disney) | 422783777 | 775573900        | 1994\n",
       "113       | Tootsie                                   | Columbia             | 177200000 | 495064300        | 1982\n",
       "153       | The Graduate                              | AVCO                 | 104945305 | 744517700        | 1967"
      ]
     },
     "execution_count": 33,
     "metadata": {},
     "output_type": "execute_result"
    }
   ],
   "source": [
    "top.sample(10)"
   ]
  },
  {
   "cell_type": "markdown",
   "metadata": {},
   "source": [
    "By default, `.sample` takes samples **with replacement**, which means that it could take duplicates. If we want to take samples **without replacement**, we need to add a second argument `with_replacement = False`."
   ]
  },
  {
   "cell_type": "code",
   "execution_count": 34,
   "metadata": {},
   "outputs": [
    {
     "data": {
      "text/html": [
       "<table border=\"1\" class=\"dataframe\">\n",
       "    <thead>\n",
       "        <tr>\n",
       "            <th>Row Index</th> <th>Title</th> <th>Studio</th> <th>Gross</th> <th>Gross (Adjusted)</th> <th>Year</th>\n",
       "        </tr>\n",
       "    </thead>\n",
       "    <tbody>\n",
       "        <tr>\n",
       "            <td>143      </td> <td>Rocky                                </td> <td>UA          </td> <td>117235147</td> <td>478847800       </td> <td>1976</td>\n",
       "        </tr>\n",
       "        <tr>\n",
       "            <td>181      </td> <td>Sleeping Beauty                      </td> <td>Disney      </td> <td>51600000 </td> <td>632281700       </td> <td>1959</td>\n",
       "        </tr>\n",
       "        <tr>\n",
       "            <td>17       </td> <td>The Hunger Games                     </td> <td>Lionsgate   </td> <td>408010692</td> <td>442510400       </td> <td>2012</td>\n",
       "        </tr>\n",
       "        <tr>\n",
       "            <td>33       </td> <td>The Lord of the Rings: The Two Towers</td> <td>New Line    </td> <td>342551365</td> <td>502210000       </td> <td>2002</td>\n",
       "        </tr>\n",
       "        <tr>\n",
       "            <td>77       </td> <td>Raiders of the Lost Ark              </td> <td>Paramount   </td> <td>248159971</td> <td>770183000       </td> <td>1981</td>\n",
       "        </tr>\n",
       "        <tr>\n",
       "            <td>117      </td> <td>Home Alone 2: Lost in New York       </td> <td>Fox         </td> <td>173585516</td> <td>364091400       </td> <td>1992</td>\n",
       "        </tr>\n",
       "        <tr>\n",
       "            <td>190      </td> <td>The Greatest Show on Earth           </td> <td>Paramount   </td> <td>36000000 </td> <td>522000000       </td> <td>1952</td>\n",
       "        </tr>\n",
       "        <tr>\n",
       "            <td>154      </td> <td>9 to 5                               </td> <td>Fox         </td> <td>103290500</td> <td>334062200       </td> <td>1980</td>\n",
       "        </tr>\n",
       "        <tr>\n",
       "            <td>32       </td> <td>American Sniper                      </td> <td>Warner Bros.</td> <td>350126372</td> <td>374796000       </td> <td>2014</td>\n",
       "        </tr>\n",
       "        <tr>\n",
       "            <td>146      </td> <td>The Rocky Horror Picture Show        </td> <td>Fox         </td> <td>112892319</td> <td>479104000       </td> <td>1975</td>\n",
       "        </tr>\n",
       "    </tbody>\n",
       "</table>"
      ],
      "text/plain": [
       "Row Index | Title                                 | Studio       | Gross     | Gross (Adjusted) | Year\n",
       "143       | Rocky                                 | UA           | 117235147 | 478847800        | 1976\n",
       "181       | Sleeping Beauty                       | Disney       | 51600000  | 632281700        | 1959\n",
       "17        | The Hunger Games                      | Lionsgate    | 408010692 | 442510400        | 2012\n",
       "33        | The Lord of the Rings: The Two Towers | New Line     | 342551365 | 502210000        | 2002\n",
       "77        | Raiders of the Lost Ark               | Paramount    | 248159971 | 770183000        | 1981\n",
       "117       | Home Alone 2: Lost in New York        | Fox          | 173585516 | 364091400        | 1992\n",
       "190       | The Greatest Show on Earth            | Paramount    | 36000000  | 522000000        | 1952\n",
       "154       | 9 to 5                                | Fox          | 103290500 | 334062200        | 1980\n",
       "32        | American Sniper                       | Warner Bros. | 350126372 | 374796000        | 2014\n",
       "146       | The Rocky Horror Picture Show         | Fox          | 112892319 | 479104000        | 1975"
      ]
     },
     "execution_count": 34,
     "metadata": {},
     "output_type": "execute_result"
    }
   ],
   "source": [
    "top.sample(10, with_replacement = False)"
   ]
  },
  {
   "cell_type": "markdown",
   "metadata": {},
   "source": [
    "## Sample of Convenience\n",
    "This is another type of sample that we don't really want as a sample. This is more of a haphazard sample. For example, we take samples of whoever walks by.\n",
    "\n",
    "1. This is not a probability sample. Just because we think we're sampling at random, doesn't mean we are.\n",
    "2. This is because we could not figure out ahead of time,\n",
    "    * What the population of the sample is\n",
    "    * The chance of obtaining any individual or subgroup within the sample\n",
    "    \n",
    "For example, if we just pick random movies out of nowhere (outside the `top` table), we can't compute the chance of getting individual movies. This way, we can't use the sample to infer anything about the population. \n"
   ]
  },
  {
   "cell_type": "markdown",
   "metadata": {},
   "source": [
    "# Distributions\n",
    "An example of a distribution is when we calculated the number of movies each studio released.\n",
    "## Probability Distribution\n",
    "Let's say we have a random quantity with various possible values. One good example of this would be a 6-sided dice.\n",
    "\n",
    "The Probability Distribution: \n",
    "1. Looking at all the possible values of the quantity (e.g. what score would we get after rolling a die) and\n",
    "2. Looking at the probability of each of those values\n",
    "\n",
    "In some cases, the probability distribution can be worked out mathematically without having to generate (or simulate) the random quantity.\n",
    "\n",
    "## Demo\n",
    "We have a 6-sided die,"
   ]
  },
  {
   "cell_type": "code",
   "execution_count": 35,
   "metadata": {},
   "outputs": [
    {
     "data": {
      "text/html": [
       "<table border=\"1\" class=\"dataframe\">\n",
       "    <thead>\n",
       "        <tr>\n",
       "            <th>face</th>\n",
       "        </tr>\n",
       "    </thead>\n",
       "    <tbody>\n",
       "        <tr>\n",
       "            <td>1   </td>\n",
       "        </tr>\n",
       "        <tr>\n",
       "            <td>2   </td>\n",
       "        </tr>\n",
       "        <tr>\n",
       "            <td>3   </td>\n",
       "        </tr>\n",
       "        <tr>\n",
       "            <td>4   </td>\n",
       "        </tr>\n",
       "        <tr>\n",
       "            <td>5   </td>\n",
       "        </tr>\n",
       "        <tr>\n",
       "            <td>6   </td>\n",
       "        </tr>\n",
       "    </tbody>\n",
       "</table>"
      ],
      "text/plain": [
       "face\n",
       "1\n",
       "2\n",
       "3\n",
       "4\n",
       "5\n",
       "6"
      ]
     },
     "execution_count": 35,
     "metadata": {},
     "output_type": "execute_result"
    }
   ],
   "source": [
    "die = Table().with_column('face', np.arange(1, 7))\n",
    "die"
   ]
  },
  {
   "cell_type": "markdown",
   "metadata": {},
   "source": [
    "One way of simulating a die roll in Python is through the `sample` method,"
   ]
  },
  {
   "cell_type": "code",
   "execution_count": 36,
   "metadata": {},
   "outputs": [
    {
     "data": {
      "text/html": [
       "<table border=\"1\" class=\"dataframe\">\n",
       "    <thead>\n",
       "        <tr>\n",
       "            <th>face</th>\n",
       "        </tr>\n",
       "    </thead>\n",
       "    <tbody>\n",
       "        <tr>\n",
       "            <td>2   </td>\n",
       "        </tr>\n",
       "        <tr>\n",
       "            <td>1   </td>\n",
       "        </tr>\n",
       "        <tr>\n",
       "            <td>6   </td>\n",
       "        </tr>\n",
       "        <tr>\n",
       "            <td>2   </td>\n",
       "        </tr>\n",
       "        <tr>\n",
       "            <td>1   </td>\n",
       "        </tr>\n",
       "        <tr>\n",
       "            <td>4   </td>\n",
       "        </tr>\n",
       "    </tbody>\n",
       "</table>"
      ],
      "text/plain": [
       "face\n",
       "2\n",
       "1\n",
       "6\n",
       "2\n",
       "1\n",
       "4"
      ]
     },
     "execution_count": 36,
     "metadata": {},
     "output_type": "execute_result"
    }
   ],
   "source": [
    "die.sample()"
   ]
  },
  {
   "cell_type": "markdown",
   "metadata": {},
   "source": [
    "We know that the probability of getting each value in a die is 1/6. We can create a histogram to represent this,"
   ]
  },
  {
   "cell_type": "code",
   "execution_count": 39,
   "metadata": {},
   "outputs": [
    {
     "data": {
      "image/png": "[encoded data removed]",
      "text/plain": [
       "<Figure size 432x288 with 1 Axes>"
      ]
     },
     "metadata": {},
     "output_type": "display_data"
    }
   ],
   "source": [
    "die.hist('face', bins = np.arange(0.5, 7, 1))"
   ]
  },
  {
   "cell_type": "markdown",
   "metadata": {},
   "source": [
    "Above, we have 6 bars that correspond to each face. The height of each bars are the same, meaning the chance of getting any of the faces from rolling the die is equally likely. **This is what a probability histogram looks like**: it represents a distribution of probability for each particular event."
   ]
  },
  {
   "cell_type": "markdown",
   "metadata": {},
   "source": [
    "## Empirical Distribution\n",
    "\"What is the distribution of the results based on just random chance?\"\n",
    "\n",
    "For example, if we roll the dice multiple times and looked at how many times we get each face, we can make a histogram out of the results. This histogram is what is called an **empirical distribution**.\n",
    "\n",
    "1. Empirical distribution is a distribution that is **based on observation**\n",
    "\n",
    "\n",
    "2. Usually the observations are repetitions from an experiment\n",
    "\n",
    "    * e.g. roll a die multiple times and construct a histogram from the outcomes\n",
    "    \n",
    "    \n",
    "3. What to be observed:\n",
    "\n",
    "    * All observed values\n",
    "    * The proportion of counts of each value\n"
   ]
  },
  {
   "cell_type": "markdown",
   "metadata": {},
   "source": [
    "## Demo\n",
    "Let's take a simulation of rolling the die 10 times,"
   ]
  },
  {
   "cell_type": "code",
   "execution_count": 40,
   "metadata": {},
   "outputs": [
    {
     "data": {
      "text/html": [
       "<table border=\"1\" class=\"dataframe\">\n",
       "    <thead>\n",
       "        <tr>\n",
       "            <th>face</th>\n",
       "        </tr>\n",
       "    </thead>\n",
       "    <tbody>\n",
       "        <tr>\n",
       "            <td>4   </td>\n",
       "        </tr>\n",
       "        <tr>\n",
       "            <td>4   </td>\n",
       "        </tr>\n",
       "        <tr>\n",
       "            <td>5   </td>\n",
       "        </tr>\n",
       "        <tr>\n",
       "            <td>2   </td>\n",
       "        </tr>\n",
       "        <tr>\n",
       "            <td>4   </td>\n",
       "        </tr>\n",
       "        <tr>\n",
       "            <td>6   </td>\n",
       "        </tr>\n",
       "        <tr>\n",
       "            <td>4   </td>\n",
       "        </tr>\n",
       "        <tr>\n",
       "            <td>4   </td>\n",
       "        </tr>\n",
       "        <tr>\n",
       "            <td>2   </td>\n",
       "        </tr>\n",
       "        <tr>\n",
       "            <td>4   </td>\n",
       "        </tr>\n",
       "    </tbody>\n",
       "</table>"
      ],
      "text/plain": [
       "face\n",
       "4\n",
       "4\n",
       "5\n",
       "2\n",
       "4\n",
       "6\n",
       "4\n",
       "4\n",
       "2\n",
       "4"
      ]
     },
     "execution_count": 40,
     "metadata": {},
     "output_type": "execute_result"
    }
   ],
   "source": [
    "die.sample(10)"
   ]
  },
  {
   "cell_type": "markdown",
   "metadata": {},
   "source": [
    "We can use the result of the simulation to create an empirical histogram,"
   ]
  },
  {
   "cell_type": "code",
   "execution_count": 44,
   "metadata": {},
   "outputs": [
    {
     "data": {
      "image/png": "[encoded data removed]",
      "text/plain": [
       "<Figure size 432x288 with 1 Axes>"
      ]
     },
     "metadata": {},
     "output_type": "display_data"
    }
   ],
   "source": [
    "die.sample(10).hist('face', bins = np.arange(0.5, 7, 1))"
   ]
  },
  {
   "cell_type": "markdown",
   "metadata": {},
   "source": [
    "It looks like the empirical histogram doesn't look like the probability histogram. This is because we used a small sample size (10 rolls). The greater the sample size, the more the empirical histogram would resemble the probability histogram."
   ]
  },
  {
   "cell_type": "code",
   "execution_count": 45,
   "metadata": {},
   "outputs": [
    {
     "data": {
      "image/png": "[encoded data removed]",
      "text/plain": [
       "<Figure size 432x288 with 1 Axes>"
      ]
     },
     "metadata": {},
     "output_type": "display_data"
    }
   ],
   "source": [
    "die.sample(100).hist('face', bins = np.arange(0.5, 7, 1))"
   ]
  },
  {
   "cell_type": "code",
   "execution_count": 46,
   "metadata": {},
   "outputs": [
    {
     "data": {
      "image/png": "[encoded data removed]",
      "text/plain": [
       "<Figure size 432x288 with 1 Axes>"
      ]
     },
     "metadata": {},
     "output_type": "display_data"
    }
   ],
   "source": [
    "die.sample(1000).hist('face', bins = np.arange(0.5, 7, 1))"
   ]
  },
  {
   "cell_type": "code",
   "execution_count": 47,
   "metadata": {},
   "outputs": [
    {
     "data": {
      "image/png": "[encoded data removed]",
      "text/plain": [
       "<Figure size 432x288 with 1 Axes>"
      ]
     },
     "metadata": {},
     "output_type": "display_data"
    }
   ],
   "source": [
    "die.sample(10000).hist('face', bins = np.arange(0.5, 7, 1))"
   ]
  },
  {
   "cell_type": "code",
   "execution_count": 48,
   "metadata": {},
   "outputs": [
    {
     "data": {
      "image/png": "[encoded data removed]",
      "text/plain": [
       "<Figure size 432x288 with 1 Axes>"
      ]
     },
     "metadata": {},
     "output_type": "display_data"
    }
   ],
   "source": [
    "die.sample(100000).hist('face', bins = np.arange(0.5, 7, 1))"
   ]
  },
  {
   "cell_type": "markdown",
   "metadata": {},
   "source": [
    "The analogy: if we keep rolling the die multiple times (even millions of times), we will see each of the 6 values in an equal rate."
   ]
  },
  {
   "cell_type": "markdown",
   "metadata": {},
   "source": [
    "# Large Random Samples\n",
    "An important thing about sampling is that when we have a large random sample, the **Law of Averages** applies.\n",
    "\n",
    "## Law of Averages\n",
    "The law of averages states:\n",
    "\n",
    "**\"If a chance experiment is repeated many times, independently and under the same conditions (e.g. nothing changes in-between dice rolls, no outside influence), then the proportion or probability of times that event occurs gets closer to the theoretical probability of the event. \"**\n",
    "\n",
    "In other words, as we increase the number of die rolls, the proportion or probability of times we get 5 is getting closer to 1/6.\n",
    "\n",
    "Another way of stating it:\n",
    "\" If the sample size is large, then the empirical distribution of a uniform random sample resembles the distribution of the population with high probability.\" \n",
    "\n",
    "It won't always exactly match the probability distribution. If we roll a die 1000 times, we could in theory get 1000 times of 1. However, with high probability, it is way more likely that we will get the distribution of faces that resembles the original probability distribution. This is important because in some situation, we don't know what the original probability (population) distribution looks like."
   ]
  },
  {
   "cell_type": "code",
   "execution_count": null,
   "metadata": {},
   "outputs": [],
   "source": []
  }
 ],
 "metadata": {
  "kernelspec": {
   "display_name": "Python 3",
   "language": "python",
   "name": "python3"
  },
  "language_info": {
   "codemirror_mode": {
    "name": "ipython",
    "version": 3
   },
   "file_extension": ".py",
   "mimetype": "text/x-python",
   "name": "python",
   "nbconvert_exporter": "python",
   "pygments_lexer": "ipython3",
   "version": "3.7.2"
  }
 },
 "nbformat": 4,
 "nbformat_minor": 1
}
