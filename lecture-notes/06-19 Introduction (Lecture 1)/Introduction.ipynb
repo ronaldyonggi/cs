{
 "cells": [
  {
   "cell_type": "markdown",
   "metadata": {},
   "source": [
    "# Data Science\n",
    "\n",
    "## What is Data Science?\n",
    "\n",
    "Definition: the discipline of drawing conclusions from data using computation.\n",
    "There are 3 core aspects of effective data analysis:\n",
    "* Exploration\n",
    "    * Identifying patterns in information\n",
    "    * Uses visualization\n",
    "* Inference\n",
    "    * Quantifying degree of certainty\n",
    "        * Are those patterns reliable?\n",
    "        * Will those patterns we found would appear in new observations?\n",
    "* Prediction\n",
    "    * Using the information we have to make informed guess about values or information we want to know\n",
    "    * Uses machine learning"
   ]
  },
  {
   "cell_type": "markdown",
   "metadata": {},
   "source": [
    "## Little Women\n",
    "\n",
    "In this example, we're going to explore statistics of the classic novel *Little Women* by Louisa May Alcott. The code below might look intimidating but for now, don't worry about it."
   ]
  },
  {
   "cell_type": "code",
   "execution_count": 2,
   "metadata": {},
   "outputs": [],
   "source": [
    "# Stuff that will appear at the top of notebooks;\n",
    "# You don't have to do anything about it.\n",
    "\n",
    "from datascience import *\n",
    "import numpy as np\n",
    "%matplotlib inline\n",
    "import matplotlib.pyplot as plots\n",
    "plots.style.use('fivethirtyeight')\n",
    "import warnings\n",
    "warnings.simplefilter(action=\"ignore\", category=FutureWarning)\n",
    "\n",
    "from ipywidgets import *\n",
    "\n",
    "from urllib.request import urlopen \n",
    "import re\n",
    "def read_url(url): \n",
    "    return re.sub('\\\\s+', ' ', urlopen(url).read().decode())\n",
    "\n",
    "#Assign the whole text to variable 'little_women_url'\n",
    "little_women_url = 'https://www.inferentialthinking.com/data/little_women.txt'\n",
    "#Read into the url and assign it to variable 'little_women_text'\n",
    "little_women_text = read_url(little_women_url)\n",
    "little_women_chapters = little_women_text.split('CHAPTER ')[1:]"
   ]
  },
  {
   "cell_type": "markdown",
   "metadata": {},
   "source": [
    "## Literary Characters\n",
    "\n",
    "If we open [Little Women](https://www.inferentialthinking.com/data/little_women.txt), which is available online, you can see the entire text of *Little Women*."
   ]
  },
  {
   "cell_type": "code",
   "execution_count": 8,
   "metadata": {},
   "outputs": [
    {
     "data": {
      "text/html": [
       "<table border=\"1\" class=\"dataframe\">\n",
       "    <thead>\n",
       "        <tr>\n",
       "            <th>Text</th>\n",
       "        </tr>\n",
       "    </thead>\n",
       "    <tbody>\n",
       "        <tr>\n",
       "            <td>ONE PLAYING PILGRIMS \"Christmas won't be Christmas witho ...</td>\n",
       "        </tr>\n",
       "        <tr>\n",
       "            <td>TWO A MERRY CHRISTMAS Jo was the first to wake in the gr ...</td>\n",
       "        </tr>\n",
       "        <tr>\n",
       "            <td>THREE THE LAURENCE BOY \"Jo! Jo! Where are you?\" cried Me ...</td>\n",
       "        </tr>\n",
       "        <tr>\n",
       "            <td>FOUR BURDENS \"Oh, dear, how hard it does seem to take up ...</td>\n",
       "        </tr>\n",
       "        <tr>\n",
       "            <td>FIVE BEING NEIGHBORLY \"What in the world are you going t ...</td>\n",
       "        </tr>\n",
       "        <tr>\n",
       "            <td>SIX BETH FINDS THE PALACE BEAUTIFUL The big house did pr ...</td>\n",
       "        </tr>\n",
       "        <tr>\n",
       "            <td>SEVEN AMY'S VALLEY OF HUMILIATION \"That boy is a perfect ...</td>\n",
       "        </tr>\n",
       "        <tr>\n",
       "            <td>EIGHT JO MEETS APOLLYON \"Girls, where are you going?\" as ...</td>\n",
       "        </tr>\n",
       "        <tr>\n",
       "            <td>NINE MEG GOES TO VANITY FAIR \"I do think it was the most ...</td>\n",
       "        </tr>\n",
       "        <tr>\n",
       "            <td>TEN THE P.C. AND P.O. As spring came on, a new set of am ...</td>\n",
       "        </tr>\n",
       "    </tbody>\n",
       "</table>\n",
       "<p>... (37 rows omitted)</p>"
      ],
      "text/plain": [
       "Text\n",
       "ONE PLAYING PILGRIMS \"Christmas won't be Christmas witho ...\n",
       "TWO A MERRY CHRISTMAS Jo was the first to wake in the gr ...\n",
       "THREE THE LAURENCE BOY \"Jo! Jo! Where are you?\" cried Me ...\n",
       "FOUR BURDENS \"Oh, dear, how hard it does seem to take up ...\n",
       "FIVE BEING NEIGHBORLY \"What in the world are you going t ...\n",
       "SIX BETH FINDS THE PALACE BEAUTIFUL The big house did pr ...\n",
       "SEVEN AMY'S VALLEY OF HUMILIATION \"That boy is a perfect ...\n",
       "EIGHT JO MEETS APOLLYON \"Girls, where are you going?\" as ...\n",
       "NINE MEG GOES TO VANITY FAIR \"I do think it was the most ...\n",
       "TEN THE P.C. AND P.O. As spring came on, a new set of am ...\n",
       "... (37 rows omitted)"
      ]
     },
     "execution_count": 8,
     "metadata": {},
     "output_type": "execute_result"
    }
   ],
   "source": [
    "Table().with_columns('Text', little_women_chapters)"
   ]
  },
  {
   "cell_type": "markdown",
   "metadata": {},
   "source": [
    "**Above**, we read the text of both books into list of chapters, called `little_women_chapters`.\n",
    "\n",
    "While a computer can't understand the text of a book, it can provide us with some insight into the structure of the text. The name `little_women_chapters` is currently bound to a list of all chapters in the book.\n",
    "\n",
    "We can see that each chapter begins with a literal number **(e.g. ONE, TWO)** followed by the first sentence of the chapter."
   ]
  },
  {
   "cell_type": "code",
   "execution_count": 9,
   "metadata": {},
   "outputs": [
    {
     "data": {
      "text/plain": [
       "array([8, 9, 1, 1, 1, 0, 0, 0, 0, 0, 0, 0, 0, 0, 0, 0, 0, 0, 0, 0, 0, 8,\n",
       "       0, 0, 0, 0, 0, 0, 0, 0, 0, 0, 2, 0, 0, 0, 6, 0, 0, 0, 1, 0, 0, 0,\n",
       "       0, 0, 0])"
      ]
     },
     "execution_count": 9,
     "metadata": {},
     "output_type": "execute_result"
    }
   ],
   "source": [
    "np.char.count(little_women_chapters, 'Christmas')"
   ]
  },
  {
   "cell_type": "markdown",
   "metadata": {},
   "source": [
    "**Above**, we see an array of the number of times the word **Christmas** appear in each chapter. The result can be interpreted as the following:\n",
    "* In chapter 1, the word *Christmas* appears 8 times\n",
    "* In chapter 2, the word *Christmas* appears 9 times\n",
    "* In chapter 3, the word *Christmas* appears 1 times\n",
    "... and so on."
   ]
  },
  {
   "cell_type": "code",
   "execution_count": 12,
   "metadata": {},
   "outputs": [
    {
     "data": {
      "text/html": [
       "<table border=\"1\" class=\"dataframe\">\n",
       "    <thead>\n",
       "        <tr>\n",
       "            <th>Jo</th> <th>Meg</th> <th>Amy</th> <th>Beth</th> <th>Christmas</th>\n",
       "        </tr>\n",
       "    </thead>\n",
       "    <tbody>\n",
       "        <tr>\n",
       "            <td>44  </td> <td>26  </td> <td>23  </td> <td>26  </td> <td>8        </td>\n",
       "        </tr>\n",
       "        <tr>\n",
       "            <td>21  </td> <td>20  </td> <td>13  </td> <td>12  </td> <td>9        </td>\n",
       "        </tr>\n",
       "        <tr>\n",
       "            <td>62  </td> <td>36  </td> <td>2   </td> <td>2   </td> <td>1        </td>\n",
       "        </tr>\n",
       "        <tr>\n",
       "            <td>34  </td> <td>17  </td> <td>14  </td> <td>18  </td> <td>1        </td>\n",
       "        </tr>\n",
       "        <tr>\n",
       "            <td>55  </td> <td>13  </td> <td>6   </td> <td>14  </td> <td>1        </td>\n",
       "        </tr>\n",
       "        <tr>\n",
       "            <td>13  </td> <td>5   </td> <td>6   </td> <td>28  </td> <td>0        </td>\n",
       "        </tr>\n",
       "        <tr>\n",
       "            <td>9   </td> <td>5   </td> <td>27  </td> <td>5   </td> <td>0        </td>\n",
       "        </tr>\n",
       "        <tr>\n",
       "            <td>71  </td> <td>16  </td> <td>48  </td> <td>9   </td> <td>0        </td>\n",
       "        </tr>\n",
       "        <tr>\n",
       "            <td>21  </td> <td>71  </td> <td>3   </td> <td>5   </td> <td>0        </td>\n",
       "        </tr>\n",
       "        <tr>\n",
       "            <td>12  </td> <td>4   </td> <td>5   </td> <td>5   </td> <td>0        </td>\n",
       "        </tr>\n",
       "    </tbody>\n",
       "</table>\n",
       "<p>... (37 rows omitted)</p>"
      ],
      "text/plain": [
       "Jo   | Meg  | Amy  | Beth | Christmas\n",
       "44   | 26   | 23   | 26   | 8\n",
       "21   | 20   | 13   | 12   | 9\n",
       "62   | 36   | 2    | 2    | 1\n",
       "34   | 17   | 14   | 18   | 1\n",
       "55   | 13   | 6    | 14   | 1\n",
       "13   | 5    | 6    | 28   | 0\n",
       "9    | 5    | 27   | 5    | 0\n",
       "71   | 16   | 48   | 9    | 0\n",
       "21   | 71   | 3    | 5    | 0\n",
       "12   | 4    | 5    | 5    | 0\n",
       "... (37 rows omitted)"
      ]
     },
     "execution_count": 12,
     "metadata": {},
     "output_type": "execute_result"
    }
   ],
   "source": [
    "Table().with_columns([\n",
    "    'Jo', np.char.count(little_women_chapters, 'Jo'),\n",
    "    'Meg', np.char.count(little_women_chapters, 'Meg'),\n",
    "    'Amy', np.char.count(little_women_chapters, 'Amy'),\n",
    "    'Beth', np.char.count(little_women_chapters, 'Beth'),\n",
    "    'Christmas', np.char.count(little_women_chapters, 'Christmas'),\n",
    "])"
   ]
  },
  {
   "cell_type": "markdown",
   "metadata": {},
   "source": [
    "**Above**, we see a table that displays the number of times a certain word appearsin each chapter. Each row represent a different chapter, with the second row representing the first chapter.\n",
    "\n",
    "We can also visualize this table! See below for implementation."
   ]
  },
  {
   "cell_type": "code",
   "execution_count": 13,
   "metadata": {},
   "outputs": [
    {
     "data": {
      "image/png": "[encoded data removed]",
      "text/plain": [
       "<Figure size 432x288 with 1 Axes>"
      ]
     },
     "metadata": {},
     "output_type": "display_data"
    }
   ],
   "source": [
    "Table().with_columns([\n",
    "    'Jo', np.char.count(little_women_chapters, 'Jo'),\n",
    "    'Meg', np.char.count(little_women_chapters, 'Meg'),\n",
    "    'Amy', np.char.count(little_women_chapters, 'Amy'),\n",
    "    'Beth', np.char.count(little_women_chapters, 'Beth'),\n",
    "    'Christmas', np.char.count(little_women_chapters, 'Christmas'),\n",
    "]).cumsum().plot(overlay=True)"
   ]
  },
  {
   "cell_type": "markdown",
   "metadata": {},
   "source": [
    "**Above**, We can deduce the following information:\n",
    "* By chapter 10, the word *Meg* has appeared in total roughly 250 times\n",
    "* By chapter 20, the word *Amy* has appeared in total roughly 250 times\n",
    "* By chapter 70, the word *Jo* has appeared in total roughly close to 750 times\n",
    "* In the whole book, the name *Jo* is mentioned the most\n",
    "\n",
    "Now we're going to add a feature to the plot so that you can input any word or character and see how many times that word/character appear in the text."
   ]
  },
  {
   "cell_type": "code",
   "execution_count": 16,
   "metadata": {},
   "outputs": [
    {
     "data": {
      "application/vnd.jupyter.widget-view+json": {
       "model_id": "12b3e0662e314ecabf0bbf060fd7b535",
       "version_major": 2,
       "version_minor": 0
      },
      "text/plain": [
       "interactive(children=(Text(value='Obama', description='name'), Button(description='Run Interact', style=Button…"
      ]
     },
     "metadata": {},
     "output_type": "display_data"
    }
   ],
   "source": [
    "def plot_custom(name):\n",
    "    Table().with_columns([\n",
    "        'Jo', np.char.count(little_women_chapters, 'Jo'),\n",
    "        'Meg', np.char.count(little_women_chapters, 'Meg'),\n",
    "        'Amy', np.char.count(little_women_chapters, 'Amy'),\n",
    "        'Beth', np.char.count(little_women_chapters, 'Beth'),\n",
    "        'Christmas', np.char.count(little_women_chapters, 'Christmas'),\n",
    "        name, np.char.count(little_women_chapters, name)\n",
    "    ]).cumsum().plot(overlay=True)\n",
    "    plots.show()\n",
    "    \n",
    "_ = interact_manual(plot_custom, name = 'Obama')"
   ]
  },
  {
   "cell_type": "markdown",
   "metadata": {},
   "source": [
    "## Another Kind of Character\n",
    "\n",
    "Now, we're going to compare the number of characters with the number of periods in each chapter."
   ]
  },
  {
   "cell_type": "code",
   "execution_count": 18,
   "metadata": {},
   "outputs": [
    {
     "data": {
      "text/html": [
       "<table border=\"1\" class=\"dataframe\">\n",
       "    <thead>\n",
       "        <tr>\n",
       "            <th>Characters</th> <th>Periods</th>\n",
       "        </tr>\n",
       "    </thead>\n",
       "    <tbody>\n",
       "        <tr>\n",
       "            <td>21759     </td> <td>189    </td>\n",
       "        </tr>\n",
       "        <tr>\n",
       "            <td>22148     </td> <td>188    </td>\n",
       "        </tr>\n",
       "        <tr>\n",
       "            <td>20558     </td> <td>231    </td>\n",
       "        </tr>\n",
       "        <tr>\n",
       "            <td>25526     </td> <td>195    </td>\n",
       "        </tr>\n",
       "        <tr>\n",
       "            <td>23395     </td> <td>255    </td>\n",
       "        </tr>\n",
       "        <tr>\n",
       "            <td>14622     </td> <td>140    </td>\n",
       "        </tr>\n",
       "        <tr>\n",
       "            <td>14431     </td> <td>131    </td>\n",
       "        </tr>\n",
       "        <tr>\n",
       "            <td>22476     </td> <td>214    </td>\n",
       "        </tr>\n",
       "        <tr>\n",
       "            <td>33767     </td> <td>337    </td>\n",
       "        </tr>\n",
       "        <tr>\n",
       "            <td>18508     </td> <td>185    </td>\n",
       "        </tr>\n",
       "    </tbody>\n",
       "</table>\n",
       "<p>... (37 rows omitted)</p>"
      ],
      "text/plain": [
       "Characters | Periods\n",
       "21759      | 189\n",
       "22148      | 188\n",
       "20558      | 231\n",
       "25526      | 195\n",
       "23395      | 255\n",
       "14622      | 140\n",
       "14431      | 131\n",
       "22476      | 214\n",
       "33767      | 337\n",
       "18508      | 185\n",
       "... (37 rows omitted)"
      ]
     },
     "execution_count": 18,
     "metadata": {},
     "output_type": "execute_result"
    }
   ],
   "source": [
    "Table().with_columns([\n",
    "    'Characters', [len(c) for c in little_women_chapters],\n",
    "    'Periods', np.char.count(little_women_chapters, '.')\n",
    "])"
   ]
  },
  {
   "cell_type": "markdown",
   "metadata": {},
   "source": [
    "If we plot the data from above,"
   ]
  },
  {
   "cell_type": "code",
   "execution_count": 4,
   "metadata": {},
   "outputs": [
    {
     "data": {
      "image/png": "[encoded data removed]",
      "text/plain": [
       "<Figure size 360x360 with 1 Axes>"
      ]
     },
     "metadata": {},
     "output_type": "display_data"
    }
   ],
   "source": [
    "Table().with_columns([\n",
    "    'Characters', [len(c) for c in little_women_chapters],\n",
    "    'Periods', np.char.count(little_women_chapters, '.')\n",
    "]).scatter('Periods')"
   ]
  }
 ],
 "metadata": {
  "kernelspec": {
   "display_name": "Python 3",
   "language": "python",
   "name": "python3"
  },
  "language_info": {
   "codemirror_mode": {
    "name": "ipython",
    "version": 3
   },
   "file_extension": ".py",
   "mimetype": "text/x-python",
   "name": "python",
   "nbconvert_exporter": "python",
   "pygments_lexer": "ipython3",
   "version": "3.7.0"
  }
 },
 "nbformat": 4,
 "nbformat_minor": 1
}
