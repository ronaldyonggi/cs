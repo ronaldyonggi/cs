{
 "cells": [
  {
   "cell_type": "code",
   "execution_count": 1,
   "metadata": {},
   "outputs": [],
   "source": [
    "from datascience import *\n",
    "import numpy as np\n",
    "%matplotlib inline\n",
    "import matplotlib.pyplot as plt\n",
    "plt.style.use('fivethirtyeight')\n",
    "\n",
    "from ipywidgets import interact, interactive, fixed, interact_manual\n",
    "import ipywidgets as widgets"
   ]
  },
  {
   "cell_type": "markdown",
   "metadata": {},
   "source": [
    "# Review: Cause and Effect\n",
    "\n",
    "## Comparison\n",
    "When we're trying to compare or to when we're trying to establish cause and effect, we have individuals that are subject to something.\n",
    "* We group by some **treatment** and measure the **outcome** of that treament\n",
    "* Yesterday we covered the simplest case or setting: where we have a `treatment group` (that's the group that are subject to a treatment) and a `control group` (the group that are NOT subject to the treatment)\n",
    "* Simplest setting: a **treatment** group and a **control** group\n",
    "* If the **outcome** differs between the 2 groups, then there's an `association` (or `relation`). \n",
    "    * E.g. the top-tier chocolate eaters died of heart disease at a lower rate (12%) than chocolate abstainers (17%)\n",
    "    * Because the % of people died of heart disease differ between the 2 groups, there was an `association`\n",
    "    * However, `association` is not the same as something that causes the outcome to happen\n",
    "        * `association` is not `causality`!\n",
    "* To establish `causality`, we need an additional constrain on the 2 groups\n",
    "    * The 2 groups need to be similar in allways except the `treatment`\n",
    "        * When this is fulfilled, then we can say that the `treatment`, not anything else, causes the outcome\n",
    "        \n",
    "This **something else** that might causes an outcome is called the `confounding variable`."
   ]
  },
  {
   "cell_type": "markdown",
   "metadata": {},
   "source": [
    "## Confounding\n",
    "If the 2 groups have differences and we have not minimized the differences, we can't say for certain whether it's the treatment or one of those differences that causes the outcome.\n",
    "    * If the treatment and the control groups have **systematic difference other than the treatment itself**, it is difficult to identify a causal link.\n",
    "\n",
    "These differences are called `confounding factors`. Such differences are often present in observational studies.\n",
    "\n",
    "Yesterday we talked about `observational study` and `RCE`. To be clear:\n",
    "\n",
    "In both cases we have a treatment group and a control group. The difference is whether we have the chance to split the individual to 2 groups and whether we have the chance to administer the treatment.\n",
    "1. In observational study, we don't have control over individuals\n",
    "    * The individuals themselves separate themselves into 2 groups and something happens to them, but we don't do anything to them\n",
    "    * Example: Does wearing grey shirt make you look better? In the classroom, we can look at the people wearing grey shirts and see how good they look. This is an observational study since we did not choose who to wear grey shirt.\n",
    "2. In RCE, we design a procedure for selecting the treatment and control groups\n",
    "    * In grey shirt example, we split the classroom and ask the other half of the class to wear grey shirt"
   ]
  },
  {
   "cell_type": "markdown",
   "metadata": {},
   "source": [
    "## Randomize!\n",
    "In observational study, the reason 2 groups have differences in the first place is that we don't get to randomize the individuals into the groups. Randomization allows us to minimize the differences between the 2 groups\n",
    "* If we randomly assign individuals to groups, chances are the 2 groups would look similar\n",
    "\n",
    "If we do randomization properly, we can account mathematically for the differences between the 2 groups.\n",
    "* This allows us to decide if our conclusion is valid\n",
    "\n",
    "Because of this, nowadays RCE is the most reliable way to establish causal relations.\n",
    "* RCE is the standard practice in medicine and other fields\n",
    "* We can say with more certainty that the treatment causes the outcome"
   ]
  },
  {
   "cell_type": "markdown",
   "metadata": {},
   "source": [
    "# Expressions\n",
    "In this section, we're going to talk about programming in Python. Expressions are the building blocks of Python.\n",
    "\n",
    "## Programming Languages\n",
    "We use Python in this class because Python is popular for both data science and general software development industry. \n",
    "\n",
    "1. Mastering the language fundamentals is critical\n",
    "2. It's definitely better to learn through practice, not by reading or listening"
   ]
  },
  {
   "cell_type": "markdown",
   "metadata": {},
   "source": [
    "## Demo"
   ]
  },
  {
   "cell_type": "code",
   "execution_count": 2,
   "metadata": {},
   "outputs": [
    {
     "data": {
      "text/plain": [
       "5"
      ]
     },
     "execution_count": 2,
     "metadata": {},
     "output_type": "execute_result"
    }
   ],
   "source": [
    "# Addition\n",
    "2 + 3"
   ]
  },
  {
   "cell_type": "code",
   "execution_count": 3,
   "metadata": {},
   "outputs": [
    {
     "data": {
      "text/plain": [
       "6"
      ]
     },
     "execution_count": 3,
     "metadata": {},
     "output_type": "execute_result"
    }
   ],
   "source": [
    "# Multiplication\n",
    "2 * 3"
   ]
  },
  {
   "cell_type": "markdown",
   "metadata": {},
   "source": [
    "Python is very picky about how we write expressions. If we write the following,"
   ]
  },
  {
   "cell_type": "code",
   "execution_count": 4,
   "metadata": {},
   "outputs": [
    {
     "ename": "SyntaxError",
     "evalue": "invalid syntax (<ipython-input-4-0f343c0fc354>, line 1)",
     "output_type": "error",
     "traceback": [
      "\u001b[1;36m  File \u001b[1;32m\"<ipython-input-4-0f343c0fc354>\"\u001b[1;36m, line \u001b[1;32m1\u001b[0m\n\u001b[1;33m    2 * * 3\u001b[0m\n\u001b[1;37m        ^\u001b[0m\n\u001b[1;31mSyntaxError\u001b[0m\u001b[1;31m:\u001b[0m invalid syntax\n"
     ]
    }
   ],
   "source": [
    "2 * * 3"
   ]
  },
  {
   "cell_type": "markdown",
   "metadata": {},
   "source": [
    "It gave us a `SyntaxError`, which means we wrote our code in an invalid way. We can't have multiple multiplication signs with spaces in between. However, exponentiation is different story."
   ]
  },
  {
   "cell_type": "code",
   "execution_count": null,
   "metadata": {},
   "outputs": [],
   "source": [
    "# Exponentiation\n",
    "2 ** 3"
   ]
  },
  {
   "cell_type": "code",
   "execution_count": null,
   "metadata": {},
   "outputs": [],
   "source": [
    "# Division\n",
    "2 / 3"
   ]
  },
  {
   "cell_type": "markdown",
   "metadata": {},
   "source": [
    "Notice that with division, the outcome is a number with decimal places. \n",
    "\n",
    "If we divide a number with 0, we'll get an `ZeroDivisionError`! This is different from the `SyntaxError`. "
   ]
  },
  {
   "cell_type": "code",
   "execution_count": null,
   "metadata": {},
   "outputs": [],
   "source": [
    "2 / 0"
   ]
  },
  {
   "cell_type": "markdown",
   "metadata": {},
   "source": [
    "Similar to graphic calculator, Python follows the **order of operations** rule. If we do the following,"
   ]
  },
  {
   "cell_type": "code",
   "execution_count": null,
   "metadata": {},
   "outputs": [],
   "source": [
    "1 + 2 * 3 * 4 * 5 / 6 ** 3 + 7 + 8 - 9 + 10"
   ]
  },
  {
   "cell_type": "markdown",
   "metadata": {},
   "source": [
    "1. The exponentiation `6 ** 3` was computed first\n",
    "2. Then the multiplication `2 * 3 * 4 * 5` was computed next\n",
    "3. Then division, then addition and subtraction, and so on\n",
    "\n",
    "If we want to force Python so that a specific computation is computed first, we can add a parentheses (),"
   ]
  },
  {
   "cell_type": "code",
   "execution_count": null,
   "metadata": {},
   "outputs": [],
   "source": [
    "1 + 2 * (3 * 4 * 5 / 6) ** 3 + 7 + 8 - 9 + 10"
   ]
  },
  {
   "cell_type": "markdown",
   "metadata": {},
   "source": [
    "Note that the parentheses need to be complete! If there is a missing parentheses, Python will give out an error!"
   ]
  },
  {
   "cell_type": "code",
   "execution_count": null,
   "metadata": {},
   "outputs": [],
   "source": [
    "1 + 2 * (3 * 4 * 5 / 6 ** 3 + 7 + 8 - 9 + 10"
   ]
  },
  {
   "cell_type": "markdown",
   "metadata": {},
   "source": [
    "## Arithmetic Operators\n",
    "These are the basic arithmetic operators that Python has:\n",
    "\n",
    "| Operation | Operator | Example | Value |\n",
    "| --- | --- | --- | --- |\n",
    "| Addition | + | 2 + 3 | 5 |\n",
    "| Subtraction | - | 2 - 3 | -1 |\n",
    "| Multiplication | * | 2 * 3 | 6 |\n",
    "| Division | / | 7 / 3 | 2.66667 |\n",
    "| Remainder | % | 7 % 3 | 1 |\n",
    "| Exponentiation | ** | 2 ** 0.5 | 1.41421 |"
   ]
  },
  {
   "cell_type": "markdown",
   "metadata": {},
   "source": [
    "## Example: Slopes\n",
    "Below is a visualization of doctor's income vs. other professionals. Whoever made this visualization might deliberately want to show that doctors made more than any other occupation. This is an example of what NOT to do when making visualization.\n",
    "<img src = 'income.jpg' width = 500\\>\n",
    "\n",
    "1. The doctor figures and human figures are unnecessary.\n",
    "2. The years in x-axis are not evenly spaced.\n",
    "\n",
    "A good graph would look like the following.\n",
    "<img src = 'graph.jpg' width = 600\\>\n",
    "Even though the graph might look boring, we can clearly see the trend. \n",
    "\n",
    "If we look at the doctors' graph, it appears as if there are 2 different regions of the graph: the region before 1965 and the region after 1965. Around 1965, it seemed something occured that doctors' income skyrocketed.\n",
    "\n",
    "Here we will try to calculate the slope for doctor's income before 1965 and after 1965. We are going to use the simplest method: $\\frac{\\Delta Y-axis} {\\Delta X-axis}$"
   ]
  },
  {
   "cell_type": "code",
   "execution_count": null,
   "metadata": {},
   "outputs": [],
   "source": [
    "# Income at 1963 - Income at 1939, divided by the time difference\n",
    "(25050 - 3262) / (1963 - 1939)"
   ]
  },
  {
   "cell_type": "markdown",
   "metadata": {},
   "source": [
    "The calculation above implies that roughly before 1963, doctors' income increased with a rate of 907 dollar/year."
   ]
  },
  {
   "cell_type": "code",
   "execution_count": null,
   "metadata": {},
   "outputs": [],
   "source": [
    "# Income at 1976 - Income at 1963, divided by time difference\n",
    "(62799 - 25050) / (1976 - 1963)"
   ]
  },
  {
   "cell_type": "markdown",
   "metadata": {},
   "source": [
    "After 1963, the rate of increase skyrocketed to 2,903 dollar/year!"
   ]
  },
  {
   "cell_type": "markdown",
   "metadata": {},
   "source": [
    "# Numbers\n",
    "We might have noticed from previous demo that some numbers contain decimal places and some don't. For example:\n",
    "1. 2 + 3 = 5\n",
    "2. 2 * 3 = 6\n",
    "3. 2 / 3 = 0.6666666...\n",
    "4. 1 + 2 * (3 * 4 * 5 / 6) ** 3 + 7 + 8 - 9 + 10 = 2017.0\n",
    "\n",
    "There are 2 types of numbers in Python:\n",
    "1. `int` or `integer`\n",
    "2. `float`, a decimal point number\n",
    "\n",
    "If we just type `2` here,"
   ]
  },
  {
   "cell_type": "code",
   "execution_count": null,
   "metadata": {},
   "outputs": [],
   "source": [
    "2"
   ]
  },
  {
   "cell_type": "markdown",
   "metadata": {},
   "source": [
    "We just get the integer 2. But if we type `2.0`,"
   ]
  },
  {
   "cell_type": "code",
   "execution_count": null,
   "metadata": {},
   "outputs": [],
   "source": [
    "2.0"
   ]
  },
  {
   "cell_type": "markdown",
   "metadata": {},
   "source": [
    "We'll get the float `2.0`! We can also get the float `2.0` by just writing `2.`"
   ]
  },
  {
   "cell_type": "code",
   "execution_count": null,
   "metadata": {},
   "outputs": [],
   "source": [
    "2. "
   ]
  },
  {
   "cell_type": "markdown",
   "metadata": {},
   "source": [
    "If we use the division operator, the outcome will always be a float regardless of the numbers we use."
   ]
  },
  {
   "cell_type": "code",
   "execution_count": null,
   "metadata": {},
   "outputs": [],
   "source": [
    "2/1"
   ]
  },
  {
   "cell_type": "code",
   "execution_count": null,
   "metadata": {},
   "outputs": [],
   "source": [
    "5 / 7000"
   ]
  },
  {
   "cell_type": "markdown",
   "metadata": {},
   "source": [
    "When the outcome is small enough, Python converts the outcome to scientific notation."
   ]
  },
  {
   "cell_type": "code",
   "execution_count": null,
   "metadata": {},
   "outputs": [],
   "source": [
    "5/ 70000"
   ]
  },
  {
   "cell_type": "markdown",
   "metadata": {},
   "source": [
    "If we try to type the number manually, Python still converts it to scientific notation."
   ]
  },
  {
   "cell_type": "code",
   "execution_count": null,
   "metadata": {},
   "outputs": [],
   "source": [
    "0.00007142857142857143"
   ]
  },
  {
   "cell_type": "markdown",
   "metadata": {},
   "source": [
    "We can also write numbers in scientific notation!"
   ]
  },
  {
   "cell_type": "code",
   "execution_count": null,
   "metadata": {},
   "outputs": [],
   "source": [
    "7.14e-6"
   ]
  },
  {
   "cell_type": "markdown",
   "metadata": {},
   "source": [
    "If a number becomes too small in value, Python will display it as `0.0`"
   ]
  },
  {
   "cell_type": "code",
   "execution_count": null,
   "metadata": {},
   "outputs": [],
   "source": [
    "0.000000000000000000000000000000000000000000000123456"
   ]
  },
  {
   "cell_type": "code",
   "execution_count": null,
   "metadata": {},
   "outputs": [],
   "source": [
    "0.000000000000000000000000000000000000000000000123456 ** 30"
   ]
  },
  {
   "cell_type": "markdown",
   "metadata": {},
   "source": [
    "What if the numbers get too big?\n",
    "\n",
    "For integers, nothing special would happen,"
   ]
  },
  {
   "cell_type": "code",
   "execution_count": null,
   "metadata": {},
   "outputs": [],
   "source": [
    "1000000000000000000000000000000000000000000000000000000000000000000000000000000000000000000000000000000000000000000000000000000000000000000"
   ]
  },
  {
   "cell_type": "markdown",
   "metadata": {},
   "source": [
    "But for float, at first it will be converted to scientific notation. At some point, it will give out an error!"
   ]
  },
  {
   "cell_type": "code",
   "execution_count": null,
   "metadata": {},
   "outputs": [],
   "source": [
    "1000000000000000000000000000000000000000000000000000000000000000000000000000000000000000000000000000000000000000.0"
   ]
  },
  {
   "cell_type": "code",
   "execution_count": null,
   "metadata": {},
   "outputs": [],
   "source": [
    "1000000000000000000000000000000000000000000000000000000000000000000000000000000000000000000000000000000000000000000000000000000000000000000000000000000000.0 ** 2.3"
   ]
  },
  {
   "cell_type": "markdown",
   "metadata": {},
   "source": [
    "Similar to a calculator, Python has a limited capability in representing decimal numbers."
   ]
  },
  {
   "cell_type": "code",
   "execution_count": null,
   "metadata": {},
   "outputs": [],
   "source": [
    "0.6666666666666666666666666612435125"
   ]
  },
  {
   "cell_type": "markdown",
   "metadata": {},
   "source": [
    "This is a fundamental limitation of how computers are made of. There is a limit to how precise a computation can be. "
   ]
  },
  {
   "cell_type": "code",
   "execution_count": null,
   "metadata": {},
   "outputs": [],
   "source": [
    "0.6666666666666666666666666612435125 - 0.66666666666666666666666666"
   ]
  },
  {
   "cell_type": "markdown",
   "metadata": {},
   "source": [
    "Again, Python has a limited numerical precision, as shown with the computation above.\n",
    "\n",
    "Now let's try taking the square root of 2."
   ]
  },
  {
   "cell_type": "code",
   "execution_count": null,
   "metadata": {},
   "outputs": [],
   "source": [
    "2 ** 0.5"
   ]
  },
  {
   "cell_type": "markdown",
   "metadata": {},
   "source": [
    "Now if we do the following,"
   ]
  },
  {
   "cell_type": "code",
   "execution_count": null,
   "metadata": {},
   "outputs": [],
   "source": [
    "(2 ** 0.5) * (2 ** 0.5)"
   ]
  },
  {
   "cell_type": "markdown",
   "metadata": {},
   "source": [
    "The result is not exactly 2! And if we try to subtract this result with 2,"
   ]
  },
  {
   "cell_type": "code",
   "execution_count": null,
   "metadata": {},
   "outputs": [],
   "source": [
    "(2 ** 0.5) * (2 ** 0.5) - 2"
   ]
  },
  {
   "cell_type": "markdown",
   "metadata": {},
   "source": [
    "The outcome is a very small number that we can take it as 0. Just remember that this is just due to Python's limited precision capability.\n",
    "\n",
    "Also, if we do any operation that involves a float, the outcome will be a float."
   ]
  },
  {
   "cell_type": "code",
   "execution_count": null,
   "metadata": {},
   "outputs": [],
   "source": [
    "2 + 3.0"
   ]
  },
  {
   "cell_type": "code",
   "execution_count": null,
   "metadata": {},
   "outputs": [],
   "source": [
    "2 * 3.0"
   ]
  },
  {
   "cell_type": "markdown",
   "metadata": {},
   "source": [
    "# Recap: Ints and Floats\n",
    "Python has 2 real number types:\n",
    "1. `int`: an integer of any size\n",
    "2. `float`: a number with an optional fractional part\n",
    "\n",
    "* An `int` never has a decimal point. A `float` always does.\n",
    "* A `float` might be printed using scientific notation\n",
    "\n",
    "3 limitations of float values:\n",
    "1. They have limited size (but the limit is huge)\n",
    "2. They have limited precision of 15-16 decimal places\n",
    "3. After arithmetic, the final few decimal places can be wrong"
   ]
  },
  {
   "cell_type": "markdown",
   "metadata": {},
   "source": [
    "## Discussion Question\n",
    "Rank the following expressions in order from least to greatest:\n",
    "\n",
    "1. 3 * 10  ** 10\n",
    "2. 10 * 3 ** 10\n",
    "3. (10 * 3) ** 10\n",
    "4. 10 / 3 / 10\n",
    "5. 10 / (3 / 10)\n",
    "\n"
   ]
  },
  {
   "cell_type": "code",
   "execution_count": null,
   "metadata": {},
   "outputs": [],
   "source": [
    "# Rank 4\n",
    "3 * 10 ** 10"
   ]
  },
  {
   "cell_type": "code",
   "execution_count": null,
   "metadata": {},
   "outputs": [],
   "source": [
    "# Rank 3\n",
    "10 * 3 ** 10"
   ]
  },
  {
   "cell_type": "code",
   "execution_count": null,
   "metadata": {},
   "outputs": [],
   "source": [
    "# Rank 5 greatest\n",
    "(10 * 3) ** 10"
   ]
  },
  {
   "cell_type": "code",
   "execution_count": null,
   "metadata": {},
   "outputs": [],
   "source": [
    "# Rank 1 smallest\n",
    "10 / 3 / 10"
   ]
  },
  {
   "cell_type": "code",
   "execution_count": null,
   "metadata": {},
   "outputs": [],
   "source": [
    "# Rank 2\n",
    "10 / (3 / 10)"
   ]
  },
  {
   "cell_type": "markdown",
   "metadata": {},
   "source": [
    "# Names (also known as variables)\n",
    "Sometimes we want to be able to save some computation results so that we don't need to type them all over again.\n",
    "\n",
    "## Assignment Statements\n",
    "Consider the following,"
   ]
  },
  {
   "cell_type": "code",
   "execution_count": 6,
   "metadata": {},
   "outputs": [],
   "source": [
    "more_than_1 = 2 + 3"
   ]
  },
  {
   "cell_type": "markdown",
   "metadata": {},
   "source": [
    "`more_than_1` is the name of the variable, or the label that we are giving to the result. The `2 + 3` is the expression that computes the result that we want to save.\n",
    "\n",
    "Notice when we run the cell above, nothing comes out. This is because **statements don't have a value**. They only perform an action.\n",
    "\n",
    "An assignment statement changes the meaning of the name to the left of the `=` symbol. As a result, the name is now bound to a value. This is NOT an equation that checks the equality between `more_than_1` and `2 + 3`."
   ]
  },
  {
   "cell_type": "code",
   "execution_count": 7,
   "metadata": {},
   "outputs": [
    {
     "data": {
      "text/plain": [
       "5"
      ]
     },
     "execution_count": 7,
     "metadata": {},
     "output_type": "execute_result"
    }
   ],
   "source": [
    "more_than_1"
   ]
  },
  {
   "cell_type": "markdown",
   "metadata": {},
   "source": [
    "We can see that `more_than_1` is now bound to the value 5. We can do computations using the name!"
   ]
  },
  {
   "cell_type": "code",
   "execution_count": 8,
   "metadata": {},
   "outputs": [
    {
     "data": {
      "text/plain": [
       "10"
      ]
     },
     "execution_count": 8,
     "metadata": {},
     "output_type": "execute_result"
    }
   ],
   "source": [
    "more_than_1 * 2"
   ]
  },
  {
   "cell_type": "markdown",
   "metadata": {},
   "source": [
    "You can actually put more than one line in a cell. Even though all the lines are run, only the outcome of the last line will be printed."
   ]
  },
  {
   "cell_type": "code",
   "execution_count": 9,
   "metadata": {},
   "outputs": [
    {
     "data": {
      "text/plain": [
       "6"
      ]
     },
     "execution_count": 9,
     "metadata": {},
     "output_type": "execute_result"
    }
   ],
   "source": [
    "1 + 1\n",
    "2 + 2\n",
    "3 + 3"
   ]
  },
  {
   "cell_type": "markdown",
   "metadata": {},
   "source": [
    "However, this means we can do assignment and result printing on the same cell!"
   ]
  },
  {
   "cell_type": "code",
   "execution_count": 10,
   "metadata": {},
   "outputs": [
    {
     "data": {
      "text/plain": [
       "6"
      ]
     },
     "execution_count": 10,
     "metadata": {},
     "output_type": "execute_result"
    }
   ],
   "source": [
    "more_than_1 = 2 + 4\n",
    "more_than_1"
   ]
  },
  {
   "cell_type": "markdown",
   "metadata": {},
   "source": [
    "Be careful with names!"
   ]
  },
  {
   "cell_type": "code",
   "execution_count": 11,
   "metadata": {},
   "outputs": [
    {
     "data": {
      "text/plain": [
       "5"
      ]
     },
     "execution_count": 11,
     "metadata": {},
     "output_type": "execute_result"
    }
   ],
   "source": [
    "x = 4\n",
    "y = x + 1\n",
    "y"
   ]
  },
  {
   "cell_type": "code",
   "execution_count": 12,
   "metadata": {},
   "outputs": [
    {
     "data": {
      "text/plain": [
       "5"
      ]
     },
     "execution_count": 12,
     "metadata": {},
     "output_type": "execute_result"
    }
   ],
   "source": [
    "x = 3\n",
    "y"
   ]
  },
  {
   "cell_type": "markdown",
   "metadata": {},
   "source": [
    "Above, even if we have changed `x`, `y` does not change. You will have to reassign `y` to change it."
   ]
  },
  {
   "cell_type": "code",
   "execution_count": 13,
   "metadata": {},
   "outputs": [
    {
     "data": {
      "text/plain": [
       "4"
      ]
     },
     "execution_count": 13,
     "metadata": {},
     "output_type": "execute_result"
    }
   ],
   "source": [
    "y = x + 1\n",
    "y"
   ]
  },
  {
   "cell_type": "markdown",
   "metadata": {},
   "source": [
    "# Exponential Growth\n",
    "When we discuss about exponential growth, we also use the term `growth rate`. \n",
    "\n",
    "## Growth Rate\n",
    "Growth rate is defined by **the rate of increase per unit time**. \n",
    "* e.g. water consumption increases by 100% per day\n",
    "    \n",
    "After one time unit, a quantity `x` growing at rate `g` will be: \n",
    "\\begin{align}\n",
    "x \\times ( 1 + g)\n",
    "\\end{align}\n",
    "* For example, we consumed 1 dollar worth of water yesterday\n",
    "* Today we consumed 1.5 dollar worth of water\n",
    "    * `x` is the original quantity, the 1 dollar worth of water\n",
    "    * `g` in this case is 0.5, since the water consumption is increased by 50%\n",
    "    * The calculation would be $ 1 \\times ( 1 + 0.5)$\n",
    "    \n",
    "After `t` time units, a quantity `x` growing at a rate `g` will be: \n",
    "\\begin{align}\n",
    "x \\times ( 1 + g) ^ {t}\n",
    "\\end{align}\n",
    "\n",
    "* Let's say you have 100 dollars in bank. `x` is 100\n",
    "* There's 5% interest every year\n",
    "* In 7 years, `x` will become:\n",
    "\\begin{align}\n",
    "100 \\times ( 1 + 0.05) ^ {7}\n",
    "\\end{align}\n",
    "\n",
    "If `after` and `before` are measurements of the same quantity taken `t` time units apart, then the growth rate `g` is,\n",
    "\\begin{align}\n",
    "g = (\\frac {after}{before})^ {\\frac {1}{t}} - 1\n",
    "\\end{align}"
   ]
  },
  {
   "cell_type": "markdown",
   "metadata": {},
   "source": [
    "## Ebola Epidemic, Sept. 2014\n",
    "In Sept 2014, people were frightened of Ebola outbreak. \n",
    "* President Obama said: \"It's spreading and growing `exponentially`\"\n",
    "* Dr. David Nabarro, Special Adviser for the U.N.'s Secretary-General said: \"This is a disease outbreak that is advancing in an `exponential` fashion\"\n",
    "<img src = 'ebola.jpg' width = 500\\>\n",
    "\n",
    "The solid brown line was the current rate of ebola spread at that time. It was projected that the infection would rise exponentially, following the upward curve. In reality, the infection did not rise in exponential rate, instead it rose in linear rate (the blurry dotted line).  "
   ]
  },
  {
   "cell_type": "markdown",
   "metadata": {},
   "source": [
    "## Demo: Federal Budget\n",
    "In 2002, the federal budget was 2,370,000,000,000 dollars. In 2012, it grew to 3,380,000,000,000 dollars. "
   ]
  },
  {
   "cell_type": "code",
   "execution_count": 14,
   "metadata": {},
   "outputs": [
    {
     "data": {
      "text/plain": [
       "1.4261603375527425"
      ]
     },
     "execution_count": 14,
     "metadata": {},
     "output_type": "execute_result"
    }
   ],
   "source": [
    "fed_budget_2002 = 2370000000000\n",
    "fed_budget_2012 = 3380000000000\n",
    "fed_budget_2012 / fed_budget_2002"
   ]
  },
  {
   "cell_type": "markdown",
   "metadata": {},
   "source": [
    "From above, we can see that over the course of 10 years, the federal budget has a surplus of 42%. We can try calculating the growth for every year."
   ]
  },
  {
   "cell_type": "code",
   "execution_count": 15,
   "metadata": {},
   "outputs": [
    {
     "data": {
      "text/plain": [
       "0.03613617208346853"
      ]
     },
     "execution_count": 15,
     "metadata": {},
     "output_type": "execute_result"
    }
   ],
   "source": [
    "fed_budget_2002 = 2.37\n",
    "fed_budget_2012 = 3.38\n",
    "g = (fed_budget_2012/ fed_budget_2002) ** (1/10) - 1\n",
    "g"
   ]
  },
  {
   "cell_type": "markdown",
   "metadata": {},
   "source": [
    "The federal budget increased 3.6% per year!"
   ]
  }
 ],
 "metadata": {
  "kernelspec": {
   "display_name": "Python 3",
   "language": "python",
   "name": "python3"
  },
  "language_info": {
   "codemirror_mode": {
    "name": "ipython",
    "version": 3
   },
   "file_extension": ".py",
   "mimetype": "text/x-python",
   "name": "python",
   "nbconvert_exporter": "python",
   "pygments_lexer": "ipython3",
   "version": "3.7.2"
  }
 },
 "nbformat": 4,
 "nbformat_minor": 1
}
