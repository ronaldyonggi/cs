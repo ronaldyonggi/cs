{
 "cells": [
  {
   "cell_type": "markdown",
   "metadata": {},
   "source": [
    "## Where We Left Off\n",
    "\n",
    "* US Census Population Data 2010-2015\n",
    "* Compared differences in population from 2010-2015\n",
    "    * Lots more 68 y.o. possibly because of WW2\n",
    "* Now analyzing gender ratios in 2015\n",
    "    * More male infants, but more female overall"
   ]
  },
  {
   "cell_type": "code",
   "execution_count": 1,
   "metadata": {},
   "outputs": [
    {
     "data": {
      "text/html": [
       "<table border=\"1\" class=\"dataframe\">\n",
       "    <thead>\n",
       "        <tr>\n",
       "            <th>SEX</th> <th>AGE</th> <th>2015</th>\n",
       "        </tr>\n",
       "    </thead>\n",
       "    <tbody>\n",
       "        <tr>\n",
       "            <td>0   </td> <td>0   </td> <td>3978038</td>\n",
       "        </tr>\n",
       "        <tr>\n",
       "            <td>0   </td> <td>1   </td> <td>3968564</td>\n",
       "        </tr>\n",
       "        <tr>\n",
       "            <td>0   </td> <td>2   </td> <td>3966583</td>\n",
       "        </tr>\n",
       "        <tr>\n",
       "            <td>0   </td> <td>3   </td> <td>3974061</td>\n",
       "        </tr>\n",
       "        <tr>\n",
       "            <td>0   </td> <td>4   </td> <td>4020035</td>\n",
       "        </tr>\n",
       "        <tr>\n",
       "            <td>0   </td> <td>5   </td> <td>4018158</td>\n",
       "        </tr>\n",
       "        <tr>\n",
       "            <td>0   </td> <td>6   </td> <td>4019207</td>\n",
       "        </tr>\n",
       "        <tr>\n",
       "            <td>0   </td> <td>7   </td> <td>4148360</td>\n",
       "        </tr>\n",
       "        <tr>\n",
       "            <td>0   </td> <td>8   </td> <td>4167887</td>\n",
       "        </tr>\n",
       "        <tr>\n",
       "            <td>0   </td> <td>9   </td> <td>4133564</td>\n",
       "        </tr>\n",
       "    </tbody>\n",
       "</table>\n",
       "<p>... (296 rows omitted)</p>"
      ],
      "text/plain": [
       "SEX  | AGE  | 2015\n",
       "0    | 0    | 3978038\n",
       "0    | 1    | 3968564\n",
       "0    | 2    | 3966583\n",
       "0    | 3    | 3974061\n",
       "0    | 4    | 4020035\n",
       "0    | 5    | 4018158\n",
       "0    | 6    | 4019207\n",
       "0    | 7    | 4148360\n",
       "0    | 8    | 4167887\n",
       "0    | 9    | 4133564\n",
       "... (296 rows omitted)"
      ]
     },
     "execution_count": 1,
     "metadata": {},
     "output_type": "execute_result"
    }
   ],
   "source": [
    "%matplotlib inline\n",
    "import matplotlib\n",
    "import matplotlib.pyplot as plt\n",
    "\n",
    "from datascience import *\n",
    "census = Table.read_table('census.csv')\n",
    "only_2015 = census.select('SEX', 'AGE', 'POPESTIMATE2015').relabel('POPESTIMATE2015', '2015')\n",
    "only_2015"
   ]
  },
  {
   "cell_type": "code",
   "execution_count": 2,
   "metadata": {},
   "outputs": [],
   "source": [
    "# Get an array of all the females in 2015\n",
    "females = only_2015.where('SEX', 2).column('2015')\n",
    "\n",
    "# Get an array of all the males in 2015\n",
    "males = only_2015.where('SEX', 1).column('2015')\n",
    "# Calculate female to male ratio\n",
    "fm_ratio = females/males\n",
    "# If use .size, we'll see that 'females', 'males' and 'fm_ratio' are all arrays of size 102"
   ]
  },
  {
   "cell_type": "code",
   "execution_count": 3,
   "metadata": {},
   "outputs": [],
   "source": [
    "# Now create a table where it's only females' age, and take the array of that\n",
    "only_f_table = only_2015.where('SEX', 2)\n",
    "female_ages = only_f_table.column('AGE')\n",
    "# If we also use .size, we'll also see that female_ages is also an array of size 102!"
   ]
  },
  {
   "cell_type": "code",
   "execution_count": 4,
   "metadata": {},
   "outputs": [
    {
     "data": {
      "text/html": [
       "<table border=\"1\" class=\"dataframe\">\n",
       "    <thead>\n",
       "        <tr>\n",
       "            <th>Age</th> <th>Ratio</th>\n",
       "        </tr>\n",
       "    </thead>\n",
       "    <tbody>\n",
       "        <tr>\n",
       "            <td>0   </td> <td>0.954681</td>\n",
       "        </tr>\n",
       "        <tr>\n",
       "            <td>1   </td> <td>0.955637</td>\n",
       "        </tr>\n",
       "        <tr>\n",
       "            <td>2   </td> <td>0.957256</td>\n",
       "        </tr>\n",
       "        <tr>\n",
       "            <td>3   </td> <td>0.957045</td>\n",
       "        </tr>\n",
       "        <tr>\n",
       "            <td>4   </td> <td>0.955342</td>\n",
       "        </tr>\n",
       "        <tr>\n",
       "            <td>5   </td> <td>0.959267</td>\n",
       "        </tr>\n",
       "        <tr>\n",
       "            <td>6   </td> <td>0.959955</td>\n",
       "        </tr>\n",
       "        <tr>\n",
       "            <td>7   </td> <td>0.959437</td>\n",
       "        </tr>\n",
       "        <tr>\n",
       "            <td>8   </td> <td>0.957834</td>\n",
       "        </tr>\n",
       "        <tr>\n",
       "            <td>9   </td> <td>0.957478</td>\n",
       "        </tr>\n",
       "    </tbody>\n",
       "</table>\n",
       "<p>... (91 rows omitted)</p>"
      ],
      "text/plain": [
       "Age  | Ratio\n",
       "0    | 0.954681\n",
       "1    | 0.955637\n",
       "2    | 0.957256\n",
       "3    | 0.957045\n",
       "4    | 0.955342\n",
       "5    | 0.959267\n",
       "6    | 0.959955\n",
       "7    | 0.959437\n",
       "8    | 0.957834\n",
       "9    | 0.957478\n",
       "... (91 rows omitted)"
      ]
     },
     "execution_count": 4,
     "metadata": {},
     "output_type": "execute_result"
    }
   ],
   "source": [
    "# Now we can create a table of age vs. F:M ration\n",
    "ratio_table = Table().with_columns(\n",
    "'Age',female_ages,\n",
    "'Ratio', fm_ratio)\n",
    "ratio_table # Note that this table still include age 999.\n",
    "ratios = ratio_table.where('Age', are.not_equal_to(999))\n",
    "ratios"
   ]
  },
  {
   "cell_type": "markdown",
   "metadata": {},
   "source": [
    "From the table above, we see that for early age, the ratio is less than 1. This implies that there were more male infants! Why there are more females in total population overall then?"
   ]
  },
  {
   "cell_type": "code",
   "execution_count": 5,
   "metadata": {},
   "outputs": [
    {
     "data": {
      "image/png": "[encoded data removed]",
      "text/plain": [
       "<Figure size 432x288 with 1 Axes>"
      ]
     },
     "metadata": {
      "needs_background": "light"
     },
     "output_type": "display_data"
    }
   ],
   "source": [
    "ratios.plot('Age')"
   ]
  },
  {
   "cell_type": "markdown",
   "metadata": {},
   "source": [
    "From plot above, we see that at early age, there are more male than female. However, as the age range gets older, there are significantly more females than males!"
   ]
  },
  {
   "cell_type": "markdown",
   "metadata": {},
   "source": [
    "## Data Visualization\n",
    "\n",
    "<img src= 'smartphone.JPG' width = 350/>"
   ]
  },
  {
   "cell_type": "markdown",
   "metadata": {},
   "source": [
    "Which of the following questions can be answered with this chart?\n",
    "Among survey responders...\n",
    "* What proportion did **not** use their phone for **online banking**?\n",
    "    * Ans: Yes. Just calculate 100 - % of people who do online banking\n",
    "* What proportion either used their phone for **online banking** or to **look up real estate listings**?\n",
    "    * Ans: Can't be answered. We don't know the percentage of people who do both.\n",
    "    * There is possibility that people who do online banking also do real estate, or vice versa\n",
    "* Did everyone use their phone for at least one of these activities?\n",
    "    * Ans: Can't be answered\n",
    "* Did anyone use their phone for both **online banking** and **real estate**?\n",
    "    * Ans: Can't be answered\n"
   ]
  },
  {
   "cell_type": "markdown",
   "metadata": {},
   "source": [
    "## Area Principle\n",
    "\n",
    "Areas should be proportional to the values they represent\n",
    "<img src = 'area.jpg'/>\n",
    "If you look at the size of the car that represents male vs. the size of the car that represents female, it seems as if the male car is twice as big as the size of female car. This plot is misleading because it makes it seem that the are twice as much accidents caused by male driver."
   ]
  },
  {
   "cell_type": "markdown",
   "metadata": {},
   "source": [
    "# Visualization\n",
    "\n",
    "A picture is worth a thousand numbers.\n",
    "Tables are a powerful way of organizing and visualizing data. However, large tables of numbers can be difficult to interpret. Sometimes it is much easier to interpret graphs than numbers.\n",
    "\n",
    "Here, the table **actors** contain data on Holywood actors, both male and female.\n",
    "\n",
    "| Column | Definition |\n",
    "| ------ | -------- |\n",
    "| Actor  | Name of Actor |\n",
    "| Total Gross  | Total gross domestic box office receipt, in millions of dollars, of all of the actor's movies |\n",
    "| Number of Movies  | The number of movies the actor has been in |\n",
    "| Average per Movie  | Total gross divided by number of movies |\n",
    "| #1 Movie  | The highest grossing movie the actor has been in |\n",
    "| Gross  | Gross domestic box office receipt, in millions of dollars, of the actor's #1 Movie |"
   ]
  },
  {
   "cell_type": "code",
   "execution_count": 6,
   "metadata": {},
   "outputs": [
    {
     "data": {
      "text/html": [
       "<table border=\"1\" class=\"dataframe\">\n",
       "    <thead>\n",
       "        <tr>\n",
       "            <th>Actor</th> <th>Total Gross</th> <th>Number of Movies</th> <th>Average per Movie</th> <th>#1 Movie</th> <th>Gross</th>\n",
       "        </tr>\n",
       "    </thead>\n",
       "    <tbody>\n",
       "        <tr>\n",
       "            <td>Harrison Ford     </td> <td>4871.7     </td> <td>41              </td> <td>118.8            </td> <td>Star Wars: The Force Awakens</td> <td>936.7</td>\n",
       "        </tr>\n",
       "        <tr>\n",
       "            <td>Samuel L. Jackson </td> <td>4772.8     </td> <td>69              </td> <td>69.2             </td> <td>The Avengers                </td> <td>623.4</td>\n",
       "        </tr>\n",
       "        <tr>\n",
       "            <td>Morgan Freeman    </td> <td>4468.3     </td> <td>61              </td> <td>73.3             </td> <td>The Dark Knight             </td> <td>534.9</td>\n",
       "        </tr>\n",
       "        <tr>\n",
       "            <td>Tom Hanks         </td> <td>4340.8     </td> <td>44              </td> <td>98.7             </td> <td>Toy Story 3                 </td> <td>415  </td>\n",
       "        </tr>\n",
       "        <tr>\n",
       "            <td>Robert Downey, Jr.</td> <td>3947.3     </td> <td>53              </td> <td>74.5             </td> <td>The Avengers                </td> <td>623.4</td>\n",
       "        </tr>\n",
       "        <tr>\n",
       "            <td>Eddie Murphy      </td> <td>3810.4     </td> <td>38              </td> <td>100.3            </td> <td>Shrek 2                     </td> <td>441.2</td>\n",
       "        </tr>\n",
       "        <tr>\n",
       "            <td>Tom Cruise        </td> <td>3587.2     </td> <td>36              </td> <td>99.6             </td> <td>War of the Worlds           </td> <td>234.3</td>\n",
       "        </tr>\n",
       "        <tr>\n",
       "            <td>Johnny Depp       </td> <td>3368.6     </td> <td>45              </td> <td>74.9             </td> <td>Dead Man's Chest            </td> <td>423.3</td>\n",
       "        </tr>\n",
       "        <tr>\n",
       "            <td>Michael Caine     </td> <td>3351.5     </td> <td>58              </td> <td>57.8             </td> <td>The Dark Knight             </td> <td>534.9</td>\n",
       "        </tr>\n",
       "        <tr>\n",
       "            <td>Scarlett Johansson</td> <td>3341.2     </td> <td>37              </td> <td>90.3             </td> <td>The Avengers                </td> <td>623.4</td>\n",
       "        </tr>\n",
       "    </tbody>\n",
       "</table>\n",
       "<p>... (40 rows omitted)</p>"
      ],
      "text/plain": [
       "Actor              | Total Gross | Number of Movies | Average per Movie | #1 Movie                     | Gross\n",
       "Harrison Ford      | 4871.7      | 41               | 118.8             | Star Wars: The Force Awakens | 936.7\n",
       "Samuel L. Jackson  | 4772.8      | 69               | 69.2              | The Avengers                 | 623.4\n",
       "Morgan Freeman     | 4468.3      | 61               | 73.3              | The Dark Knight              | 534.9\n",
       "Tom Hanks          | 4340.8      | 44               | 98.7              | Toy Story 3                  | 415\n",
       "Robert Downey, Jr. | 3947.3      | 53               | 74.5              | The Avengers                 | 623.4\n",
       "Eddie Murphy       | 3810.4      | 38               | 100.3             | Shrek 2                      | 441.2\n",
       "Tom Cruise         | 3587.2      | 36               | 99.6              | War of the Worlds            | 234.3\n",
       "Johnny Depp        | 3368.6      | 45               | 74.9              | Dead Man's Chest             | 423.3\n",
       "Michael Caine      | 3351.5      | 58               | 57.8              | The Dark Knight              | 534.9\n",
       "Scarlett Johansson | 3341.2      | 37               | 90.3              | The Avengers                 | 623.4\n",
       "... (40 rows omitted)"
      ]
     },
     "execution_count": 6,
     "metadata": {},
     "output_type": "execute_result"
    }
   ],
   "source": [
    "actors = Table.read_table('actors.csv')\n",
    "actors"
   ]
  },
  {
   "cell_type": "markdown",
   "metadata": {},
   "source": [
    "### Scatter Plots\n",
    "A scatter plot displays the relation between two numerical variables. We saw an early example of a scatter plot when analyzing the number of periods and characters in 'Little Women'.\n",
    "\n",
    "The Table method scatter draws a scatter plot consisting of **one point for each row of the table**.\n",
    "* 1st argument: Label on the horizontal axis (x-axis)\n",
    "* 2nd argument: Label on the vertical axis (y-axis)"
   ]
  },
  {
   "cell_type": "code",
   "execution_count": 7,
   "metadata": {},
   "outputs": [
    {
     "data": {
      "image/png": "[encoded data removed]",
      "text/plain": [
       "<Figure size 360x360 with 1 Axes>"
      ]
     },
     "metadata": {
      "needs_background": "light"
     },
     "output_type": "display_data"
    }
   ],
   "source": [
    "actors.scatter('Number of Movies', 'Total Gross')"
   ]
  },
  {
   "cell_type": "markdown",
   "metadata": {},
   "source": [
    "The plot contains 50 points, one point for each actor in the table. \n",
    "We can see the following trend **IN GENERAL**:\n",
    "* The slope is upwards\n",
    "* The more movies an actor has been in, the more the total gross of all of the movies\n",
    "You can see that it slopes upwards, in general. The more movies an actor has been in, the more the total gross of all of those movies – in general.\n",
    "\n",
    "Of course there are variabilities.\n",
    "* Some actors have high numbers of movies but middling total gross receipts. \n",
    "* Others have middling numbers of movies but high receipts. \n",
    "\"The association is positive\" is simply a statement about the broad general trend.\n",
    "\n",
    "Now let's turn our attention to how **Number of Movies** is related to **Average gross receipt per movie**."
   ]
  },
  {
   "cell_type": "code",
   "execution_count": 8,
   "metadata": {},
   "outputs": [
    {
     "data": {
      "image/png": "[encoded data removed]",
      "text/plain": [
       "<Figure size 360x360 with 1 Axes>"
      ]
     },
     "metadata": {
      "needs_background": "light"
     },
     "output_type": "display_data"
    }
   ],
   "source": [
    "actors.scatter('Number of Movies', 'Average per Movie')"
   ]
  },
  {
   "cell_type": "markdown",
   "metadata": {},
   "source": [
    "The plot above shows a **negative** association. In general, the more movies an actor has been in, the less the average receipt per movie.\n",
    "\n",
    "Notice one of the points is high and off to the left of the plot. It corresponds to one actor who has a low number of movies but high average per movie. This point is an **outlier**: it lies outside the general range of the data. \n",
    "\n",
    "For now, we'll examine the negative association further by zooming in the main body of the plot."
   ]
  },
  {
   "cell_type": "code",
   "execution_count": 10,
   "metadata": {},
   "outputs": [
    {
     "data": {
      "image/png": "[encoded data removed]",
      "text/plain": [
       "<Figure size 360x360 with 1 Axes>"
      ]
     },
     "metadata": {
      "needs_background": "light"
     },
     "output_type": "display_data"
    }
   ],
   "source": [
    "no_outlier = actors.where('Number of Movies', are.above(10))\n",
    "no_outlier.scatter('Number of Movies', 'Average per Movie')"
   ]
  },
  {
   "cell_type": "markdown",
   "metadata": {},
   "source": [
    "We still see that the negative association (trend) is still visible\n",
    "Now let's analyze the actors that are at the right hand side spectrum of the plot."
   ]
  },
  {
   "cell_type": "code",
   "execution_count": 11,
   "metadata": {},
   "outputs": [
    {
     "data": {
      "text/html": [
       "<table border=\"1\" class=\"dataframe\">\n",
       "    <thead>\n",
       "        <tr>\n",
       "            <th>Actor</th> <th>Total Gross</th> <th>Number of Movies</th> <th>Average per Movie</th> <th>#1 Movie</th> <th>Gross</th>\n",
       "        </tr>\n",
       "    </thead>\n",
       "    <tbody>\n",
       "        <tr>\n",
       "            <td>Samuel L. Jackson</td> <td>4772.8     </td> <td>69              </td> <td>69.2             </td> <td>The Avengers      </td> <td>623.4</td>\n",
       "        </tr>\n",
       "        <tr>\n",
       "            <td>Morgan Freeman   </td> <td>4468.3     </td> <td>61              </td> <td>73.3             </td> <td>The Dark Knight   </td> <td>534.9</td>\n",
       "        </tr>\n",
       "        <tr>\n",
       "            <td>Robert DeNiro    </td> <td>3081.3     </td> <td>79              </td> <td>39               </td> <td>Meet the Fockers  </td> <td>279.3</td>\n",
       "        </tr>\n",
       "        <tr>\n",
       "            <td>Liam Neeson      </td> <td>2942.7     </td> <td>63              </td> <td>46.7             </td> <td>The Phantom Menace</td> <td>474.5</td>\n",
       "        </tr>\n",
       "    </tbody>\n",
       "</table>"
      ],
      "text/plain": [
       "Actor             | Total Gross | Number of Movies | Average per Movie | #1 Movie           | Gross\n",
       "Samuel L. Jackson | 4772.8      | 69               | 69.2              | The Avengers       | 623.4\n",
       "Morgan Freeman    | 4468.3      | 61               | 73.3              | The Dark Knight    | 534.9\n",
       "Robert DeNiro     | 3081.3      | 79               | 39                | Meet the Fockers   | 279.3\n",
       "Liam Neeson       | 2942.7      | 63               | 46.7              | The Phantom Menace | 474.5"
      ]
     },
     "execution_count": 11,
     "metadata": {},
     "output_type": "execute_result"
    }
   ],
   "source": [
    "actors.where('Number of Movies', are.above(60))"
   ]
  },
  {
   "cell_type": "markdown",
   "metadata": {},
   "source": [
    "Robert DeNiro has the highest **Number of Movies** and the lowest **Average per Movie**. Other fine actors are not that far off either.\n",
    "\n",
    "To understand the negative association, note that the more movies an actor is in, the more variable those movies might be, in terms of style, genre, and box office draw. For example, an actor might be in some high-grossing action movies or comedies (such as Meet the Fockers), but also in many smaller films that may be excellent but don’t draw large crowds. Thus the actor’s value of average receipts per movie might be relatively low.\n",
    "\n",
    "Now we're going to analyze the outlier."
   ]
  },
  {
   "cell_type": "code",
   "execution_count": 12,
   "metadata": {},
   "outputs": [
    {
     "data": {
      "text/html": [
       "<table border=\"1\" class=\"dataframe\">\n",
       "    <thead>\n",
       "        <tr>\n",
       "            <th>Actor</th> <th>Total Gross</th> <th>Number of Movies</th> <th>Average per Movie</th> <th>#1 Movie</th> <th>Gross</th>\n",
       "        </tr>\n",
       "    </thead>\n",
       "    <tbody>\n",
       "        <tr>\n",
       "            <td>Anthony Daniels</td> <td>3162.9     </td> <td>7               </td> <td>451.8            </td> <td>Star Wars: The Force Awakens</td> <td>936.7</td>\n",
       "        </tr>\n",
       "    </tbody>\n",
       "</table>"
      ],
      "text/plain": [
       "Actor           | Total Gross | Number of Movies | Average per Movie | #1 Movie                     | Gross\n",
       "Anthony Daniels | 3162.9      | 7                | 451.8             | Star Wars: The Force Awakens | 936.7"
      ]
     },
     "execution_count": 12,
     "metadata": {},
     "output_type": "execute_result"
    }
   ],
   "source": [
    "actors.where('Number of Movies', are.below(10))"
   ]
  },
  {
   "cell_type": "markdown",
   "metadata": {},
   "source": [
    "Anthony Daniels might not be as famous as Robert DeNiro, but his 7 movies had an astonishingly high average receipt of nearly $452 million per movie\n",
    "<img src = 'C_3PO.png'/>\n",
    "This is Anthony Daniels playing the metallic character C-3PO. His entire filmography consists of movies in the high-grossing Star Wars franchise. This explains his low number of movies but high average receipt.\n",
    "\n",
    "Variables such as **genre** and **production** budget have an effect on the association between the **number of movies** and the **average receipt per movie**. This example is a reminder that studying the association between two variables often involves understanding other related variables as well."
   ]
  },
  {
   "cell_type": "markdown",
   "metadata": {},
   "source": [
    "### Line Graphs\n",
    "Line graphs are among the most common visualizations and are often used to study chronological trends and patterns.\n",
    "\n",
    "The following table **movies_by_year** contains data on movies produced by U.S. studios in each of the years 1980 through 2015.\n",
    "\n",
    "| Column | Definition |\n",
    "| ------ | -------- |\n",
    "| Total Gross  | Total gross domestic box office receipt, in millions of dollars, of all of the movies released |\n",
    "| Number of Movies  | Number of movies released |\n",
    "| #1 Movie  | Highest grossing movie |"
   ]
  },
  {
   "cell_type": "code",
   "execution_count": 16,
   "metadata": {},
   "outputs": [
    {
     "data": {
      "text/html": [
       "<table border=\"1\" class=\"dataframe\">\n",
       "    <thead>\n",
       "        <tr>\n",
       "            <th>Year</th> <th>Total Gross</th> <th>Number of Movies</th> <th>#1 Movie</th>\n",
       "        </tr>\n",
       "    </thead>\n",
       "    <tbody>\n",
       "        <tr>\n",
       "            <td>2015</td> <td>11128.5    </td> <td>702             </td> <td>Star Wars: The Force Awakens       </td>\n",
       "        </tr>\n",
       "        <tr>\n",
       "            <td>2014</td> <td>10360.8    </td> <td>702             </td> <td>American Sniper                    </td>\n",
       "        </tr>\n",
       "        <tr>\n",
       "            <td>2013</td> <td>10923.6    </td> <td>688             </td> <td>Catching Fire                      </td>\n",
       "        </tr>\n",
       "        <tr>\n",
       "            <td>2012</td> <td>10837.4    </td> <td>667             </td> <td>The Avengers                       </td>\n",
       "        </tr>\n",
       "        <tr>\n",
       "            <td>2011</td> <td>10174.3    </td> <td>602             </td> <td>Harry Potter / Deathly Hallows (P2)</td>\n",
       "        </tr>\n",
       "        <tr>\n",
       "            <td>2010</td> <td>10565.6    </td> <td>536             </td> <td>Toy Story 3                        </td>\n",
       "        </tr>\n",
       "        <tr>\n",
       "            <td>2009</td> <td>10595.5    </td> <td>521             </td> <td>Avatar                             </td>\n",
       "        </tr>\n",
       "        <tr>\n",
       "            <td>2008</td> <td>9630.7     </td> <td>608             </td> <td>The Dark Knight                    </td>\n",
       "        </tr>\n",
       "        <tr>\n",
       "            <td>2007</td> <td>9663.8     </td> <td>631             </td> <td>Spider-Man 3                       </td>\n",
       "        </tr>\n",
       "        <tr>\n",
       "            <td>2006</td> <td>9209.5     </td> <td>608             </td> <td>Dead Man's Chest                   </td>\n",
       "        </tr>\n",
       "    </tbody>\n",
       "</table>\n",
       "<p>... (26 rows omitted)</p>"
      ],
      "text/plain": [
       "Year | Total Gross | Number of Movies | #1 Movie\n",
       "2015 | 11128.5     | 702              | Star Wars: The Force Awakens\n",
       "2014 | 10360.8     | 702              | American Sniper\n",
       "2013 | 10923.6     | 688              | Catching Fire\n",
       "2012 | 10837.4     | 667              | The Avengers\n",
       "2011 | 10174.3     | 602              | Harry Potter / Deathly Hallows (P2)\n",
       "2010 | 10565.6     | 536              | Toy Story 3\n",
       "2009 | 10595.5     | 521              | Avatar\n",
       "2008 | 9630.7      | 608              | The Dark Knight\n",
       "2007 | 9663.8      | 631              | Spider-Man 3\n",
       "2006 | 9209.5      | 608              | Dead Man's Chest\n",
       "... (26 rows omitted)"
      ]
     },
     "execution_count": 16,
     "metadata": {},
     "output_type": "execute_result"
    }
   ],
   "source": [
    "movies_by_year = Table.read_table('movies_by_year.csv')\n",
    "movies_by_year"
   ]
  },
  {
   "cell_type": "markdown",
   "metadata": {},
   "source": [
    "The Table method plot produces a line graph. Its two arguments are the same as those for **scatter**. Here is a line graph of the number of movies released each year over the years 1980 through 2015."
   ]
  },
  {
   "cell_type": "code",
   "execution_count": null,
   "metadata": {},
   "outputs": [],
   "source": []
  }
 ],
 "metadata": {
  "kernelspec": {
   "display_name": "Python 3",
   "language": "python",
   "name": "python3"
  },
  "language_info": {
   "codemirror_mode": {
    "name": "ipython",
    "version": 3
   },
   "file_extension": ".py",
   "mimetype": "text/x-python",
   "name": "python",
   "nbconvert_exporter": "python",
   "pygments_lexer": "ipython3",
   "version": "3.7.0"
  }
 },
 "nbformat": 4,
 "nbformat_minor": 1
}
