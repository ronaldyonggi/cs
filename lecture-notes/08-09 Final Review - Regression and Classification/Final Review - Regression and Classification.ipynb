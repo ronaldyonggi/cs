{
 "cells": [
  {
   "cell_type": "code",
   "execution_count": 1,
   "metadata": {},
   "outputs": [
    {
     "ename": "ModuleNotFoundError",
     "evalue": "No module named 'toolz'",
     "output_type": "error",
     "traceback": [
      "\u001b[1;31m---------------------------------------------------------------------------\u001b[0m",
      "\u001b[1;31mModuleNotFoundError\u001b[0m                       Traceback (most recent call last)",
      "\u001b[1;32m<ipython-input-1-f5c758627193>\u001b[0m in \u001b[0;36m<module>\u001b[1;34m\u001b[0m\n\u001b[0;32m      9\u001b[0m \u001b[1;32mimport\u001b[0m \u001b[0mipywidgets\u001b[0m \u001b[1;32mas\u001b[0m \u001b[0mwidgets\u001b[0m\u001b[1;33m\u001b[0m\u001b[1;33m\u001b[0m\u001b[0m\n\u001b[0;32m     10\u001b[0m \u001b[1;33m\u001b[0m\u001b[0m\n\u001b[1;32m---> 11\u001b[1;33m \u001b[1;32mfrom\u001b[0m \u001b[0mtoolz\u001b[0m \u001b[1;32mimport\u001b[0m \u001b[0mmemoize\u001b[0m\u001b[1;33m\u001b[0m\u001b[1;33m\u001b[0m\u001b[0m\n\u001b[0m",
      "\u001b[1;31mModuleNotFoundError\u001b[0m: No module named 'toolz'"
     ]
    }
   ],
   "source": [
    "from datascience import *\n",
    "import numpy as np\n",
    "\n",
    "%matplotlib inline\n",
    "import matplotlib.pyplot as plt\n",
    "plt.style.use('fivethirtyeight')\n",
    "\n",
    "from ipywidgets import interact, interactive, fixed, interact_manual\n",
    "import ipywidgets as widgets\n",
    "\n",
    "from toolz import memoize"
   ]
  },
  {
   "cell_type": "markdown",
   "metadata": {},
   "source": [
    "# Classification Review"
   ]
  },
  {
   "cell_type": "markdown",
   "metadata": {},
   "source": [
    "## Classification\n",
    "\n",
    "* Making predictions using past data / observations\n",
    "* Observations have **attributes**, or different features about them that may or may not be important\n",
    "* Past observations also have **labels** (**categories** that we are trying to classify)"
   ]
  },
  {
   "cell_type": "markdown",
   "metadata": {},
   "source": [
    "## Setup for Classification\n",
    "\n",
    "* Divide up observations into `training` and `test` set\n",
    "* Select features\n",
    "    * Should distinguish between the 2 categories\n",
    "    * Should be a numerical value that can be measured\n",
    "        * Example: frequency of word \"money\" in detecting spam emails\n",
    "* Using the `training` set, calculate the closest `k` neighbors\n",
    "    * From those `k` data points, take the majority\n",
    "    * `k` must be an odd number!\n",
    "        * If `k` is an even number, it could be the case that both categories have the same number that we can't pick a majority.\n",
    "    "
   ]
  },
  {
   "cell_type": "markdown",
   "metadata": {},
   "source": [
    "## Decision Boundary\n",
    "\n",
    "Decision boundary is the border(s) that divides the classification into the different categories.\n",
    "\n",
    "<img src = 'decision.jpg' width = 500/>"
   ]
  },
  {
   "cell_type": "markdown",
   "metadata": {},
   "source": [
    "## Common Mistakes\n",
    "\n",
    "1. Interpreting distance visually when graph axes are of different scales\n",
    "2. `k` is too large, which causes every point to be classified into one category\n",
    "    * Example: If the training set had only 4 `Yes` labels and 10 `No` labels, using a `9`-nearest neighbor would be a bad idea because regardless of the nearest neighbors, the outcome would still be a `No`."
   ]
  },
  {
   "cell_type": "markdown",
   "metadata": {},
   "source": [
    "## Fall 2016 Final\n",
    "\n",
    "Each individual in a population belongs to one of 2 classes:\n",
    "* a triangle, or\n",
    "* a square\n",
    "\n",
    "2 attributes are going to be used to classify new individuals. The training set, consisting of 12 of points i shown below.\n",
    "\n",
    "<img src = '2_attributes_problem.jpg' width = 500/>\n",
    "\n",
    "Both of the attributes have been measured in standard units so that distances are comparable on the 2 axes.\n",
    "\n",
    "**(a)**. On the graph, mark **one** new point (not in the training set) that a 3-nearest neighbor classifier using this training set would classify as a triangle. Reasoning is not needed.\n",
    "\n",
    "<img src = '2_attributes.jpg' width = 500/>"
   ]
  },
  {
   "cell_type": "markdown",
   "metadata": {},
   "source": [
    "**(b)**. Circle the 3 nearest neighbors (in the training set) of the star, and classify it using 2 different classifiers:\n",
    "1. 1-nearest neighbor\n",
    "2. 3-nearest neighbor\n",
    "\n",
    "Reasoning is not needed\n",
    "\n",
    "<img src = 'star.jpg' width = 500/>"
   ]
  },
  {
   "cell_type": "markdown",
   "metadata": {},
   "source": [
    "#### Answer to (b)\n",
    "1. 1-nearest neighbor: triangle\n",
    "2. 3-nearest neighbors: square\n",
    "\n",
    "<img src = 'star_answer.jpg' width = 500/>"
   ]
  },
  {
   "cell_type": "markdown",
   "metadata": {},
   "source": [
    "**(c)**: Suppose a new point is below average in both attributes. In which class would it be placed by the 3-nearest neighbor classifier? Explain briefly.\n",
    "\n",
    "#### Answer: Square.\n",
    "We can visually guess by observing the following:\n",
    "\n",
    "1. If we look at the x-axis, there appear to be more data points on the left side of the `0` vertical line. We can approximate that the new point is likely to be anywhere between `-2` and `0`\n",
    "2. If we look at the y-axis, it appears that there are more data points below the `0` horizontal line, but the data points that are above the `0` horizontal line have greater values. We can approximate that the new point is roughly around `0`.\n",
    "\n",
    "Taking into account the 2 observations above, the new point is estimated to be around `[-1, 0]`. On that coordinate, the 3-nearest neighbors are all squares and thus, the classifier would classify the new point as a square."
   ]
  },
  {
   "cell_type": "markdown",
   "metadata": {},
   "source": []
  }
 ],
 "metadata": {
  "kernelspec": {
   "display_name": "Python 3",
   "language": "python",
   "name": "python3"
  },
  "language_info": {
   "codemirror_mode": {
    "name": "ipython",
    "version": 3
   },
   "file_extension": ".py",
   "mimetype": "text/x-python",
   "name": "python",
   "nbconvert_exporter": "python",
   "pygments_lexer": "ipython3",
   "version": "3.7.2"
  }
 },
 "nbformat": 4,
 "nbformat_minor": 2
}
