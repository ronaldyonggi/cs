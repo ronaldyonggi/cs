{
 "cells": [
  {
   "cell_type": "code",
   "execution_count": 1,
   "metadata": {},
   "outputs": [],
   "source": [
    "!pip install plotly\n",
    "\n",
    "from datascience import *\n",
    "import numpy as np\n",
    "\n",
    "import matplotlib.pyplot as plt\n",
    "from mpl_toolkits.mplot3d import Axes3D\n",
    "plt.style.use('fivethirtyeight')\n",
    "%matplotlib inline\n",
    "\n",
    "from ipywidgets import interact, interactive, fixed, interact_manual\n",
    "import ipywidgets as widgets\n",
    "\n",
    "# Plotly plotting support\n",
    "# import plotly.plotly as py\n",
    "import plotly.plotly as py\n",
    "\n",
    "# import cufflinks as cf\n",
    "# cf.go_offline() # required to use plotly offline (no account required).\n",
    "\n",
    "import plotly.graph_objs as go\n",
    "import plotly.figure_factory as ff"
   ]
  },
  {
   "cell_type": "markdown",
   "metadata": {},
   "source": [
    "# Classifiers\n",
    "Classifier is a program that looks at some input (usually represented as a bunch of numbers) and tries to guess an attribute that we want to know. "
   ]
  },
  {
   "cell_type": "markdown",
   "metadata": {},
   "source": [
    "## Training a Classifier\n",
    "<img src = 'classifier.jpg' width = 400/>\n",
    "On previous lecture, we ended with the picture above. The picture says, \"For each example, we want to classify it (which means to predict the label of the example)\". For example, we want to label whether an email is a spam or useful email. \n",
    "\n",
    "The classifier consists of logic and data. The data are examples of labeled values that we have collected from the world. The behavior of the classifer doesn't depend only on the code that we write, but also on the training examples that we give to the classifier to learn from.\n",
    "\n",
    "<img src = 'population.jpg' width = 100/>\n",
    "\n",
    "To build this classifer, we need to select some data to use as a training set. This training set starts with, \"what problem are we trying to solve?\" Are we trying to categorize emails as \"marketing, friends, spam\"? In this case, the labels would be \"Marketing, Friends, Spam\", while the population would be the set of all emails that we would get.\n",
    "<img src = 'sample.jpg' width = 300/>\n",
    "\n",
    "Typically, we won't get to see the whole population. Instead, we'll only see a sample.\n",
    "\n",
    "<img src = 'labels.jpg' width = 300/>\n",
    "\n",
    "To build a classifer, we not only need the sample of inputs that we're going to apply to, but also labels for each of the samples. Imagine a table of dataset consisting of rows, and each row is an example (e.g. an email), with a label corresponding to each row. \n",
    "\n",
    "<img src = 'sets.jpg' width = 400/>\n",
    "\n",
    "We take all of the labeled samples and split them to 2 sets:\n",
    "1. `Training` set: we'll use this to train the classifier\n",
    "    * Create a model that associates each attribute with a label\n",
    "    \n",
    "    \n",
    "2. `Test` set: we'll just keep this until the classifier is trained. Then we'll use this set to figure out whether the classifier that we created works well.\n",
    "    * If we apply this classifier to other elements in the population, how accurate will it be? How often it will predict the right label?\n",
    "    \n",
    "Regardless of the type of classifier and the technique we use to for modelling the association between attributes and labels, we will always do the set up of splitting between training and test."
   ]
  },
  {
   "cell_type": "markdown",
   "metadata": {},
   "source": [
    "## Nearest Neighbor Classifier\n",
    "The Nearest Neigbor Classifier is a technique for modelling the relationship or the association between what we see in the attributes of an example and what we see as its label. It uses the idea:\n",
    "\n",
    "\"When we see an example from the population (in other words, something from the test set), find the most similar thing that we've seen in the training set. Since the example is similar in attributes, we'll hope that it's also similar in its label as well. This way, we can give the example the label of the most similar thing that was seen in the training set.\"\n",
    "\n",
    "How the procedure works:\n",
    "\n",
    "<img src = 'email_1.jpg' width = 400/>\n",
    "\n",
    "1. Take some rows from the population\n",
    "    * E.g. some examples of some email \n",
    "2. Look in the `training set` for the most similar email where you know the label \n",
    "\n",
    "<img src = 'email_2.jpg' width = 100/>\n",
    "\n",
    "3. Once we find the most similar example (e.g. email) where we know the label in `training set`, we assume that the label of the example that we took from population is the same as the label of most similar example we found in `training set`.\n",
    "\n",
    "Note that this method is not always 100% correct. \n",
    "\n",
    "What if we have an example where we can't find a similar example in the training set? In that case, there's nothing much that we can do, we're screwed. We should get more data and get a bigger training set."
   ]
  },
  {
   "cell_type": "markdown",
   "metadata": {},
   "source": [
    "## The Google Science Fair\n",
    "The Google Science Fair is a Google-sponsored worldwide science fair where people showcase their projects. The winner in `2012` was a 17 years old high school student named Brittany Wenger. As her science fair project, Brittany built a breast cancer classifier where the classifier analyzed images of cells and predicted whether the image was taken from a malignant tumor or from a benign tumor. This functionality allows us to go from just an image that only a doctor can understand, to a label that ordinary people can understand, of whether a person has a malignant tumor or not. \n",
    "\n",
    "<img src = 'breast_cancer.jpg' width = 400/>\n",
    "\n",
    "Above is an image of a slice of tumor that was added with a dye. We can see the distinguishing feature between the 2 different types of tumors, labeled with `benign` and `malignant`. \n",
    "\n",
    "There's a step that Britney didn't do, which is to turn the images into a list of numbers. In modern medicine practice, a lab technician or a doctor describes the properties of the images (e.g. how big the cells are, do they have similar or different sizes, shape) and from there, we can categorize the images with numbers. We'll say,\n",
    "* `benign` is `0`\n",
    "* `malignant` is `1`\n",
    "\n",
    "Below we have the breast cancer patients data."
   ]
  },
  {
   "cell_type": "code",
   "execution_count": 2,
   "metadata": {},
   "outputs": [
    {
     "data": {
      "text/html": [
       "<table border=\"1\" class=\"dataframe\">\n",
       "    <thead>\n",
       "        <tr>\n",
       "            <th>Clump Thickness</th> <th>Uniformity of Cell Size</th> <th>Uniformity of Cell Shape</th> <th>Marginal Adhesion</th> <th>Single Epithelial Cell Size</th> <th>Bare Nuclei</th> <th>Bland Chromatin</th> <th>Normal Nucleoli</th> <th>Mitoses</th> <th>Class</th>\n",
       "        </tr>\n",
       "    </thead>\n",
       "    <tbody>\n",
       "        <tr>\n",
       "            <td>5              </td> <td>1                      </td> <td>1                       </td> <td>1                </td> <td>2                          </td> <td>1          </td> <td>3              </td> <td>1              </td> <td>1      </td> <td>0    </td>\n",
       "        </tr>\n",
       "        <tr>\n",
       "            <td>5              </td> <td>4                      </td> <td>4                       </td> <td>5                </td> <td>7                          </td> <td>10         </td> <td>3              </td> <td>2              </td> <td>1      </td> <td>0    </td>\n",
       "        </tr>\n",
       "        <tr>\n",
       "            <td>3              </td> <td>1                      </td> <td>1                       </td> <td>1                </td> <td>2                          </td> <td>2          </td> <td>3              </td> <td>1              </td> <td>1      </td> <td>0    </td>\n",
       "        </tr>\n",
       "        <tr>\n",
       "            <td>6              </td> <td>8                      </td> <td>8                       </td> <td>1                </td> <td>3                          </td> <td>4          </td> <td>3              </td> <td>7              </td> <td>1      </td> <td>0    </td>\n",
       "        </tr>\n",
       "        <tr>\n",
       "            <td>4              </td> <td>1                      </td> <td>1                       </td> <td>3                </td> <td>2                          </td> <td>1          </td> <td>3              </td> <td>1              </td> <td>1      </td> <td>0    </td>\n",
       "        </tr>\n",
       "        <tr>\n",
       "            <td>8              </td> <td>10                     </td> <td>10                      </td> <td>8                </td> <td>7                          </td> <td>10         </td> <td>9              </td> <td>7              </td> <td>1      </td> <td>1    </td>\n",
       "        </tr>\n",
       "        <tr>\n",
       "            <td>1              </td> <td>1                      </td> <td>1                       </td> <td>1                </td> <td>2                          </td> <td>10         </td> <td>3              </td> <td>1              </td> <td>1      </td> <td>0    </td>\n",
       "        </tr>\n",
       "        <tr>\n",
       "            <td>2              </td> <td>1                      </td> <td>2                       </td> <td>1                </td> <td>2                          </td> <td>1          </td> <td>3              </td> <td>1              </td> <td>1      </td> <td>0    </td>\n",
       "        </tr>\n",
       "        <tr>\n",
       "            <td>2              </td> <td>1                      </td> <td>1                       </td> <td>1                </td> <td>2                          </td> <td>1          </td> <td>1              </td> <td>1              </td> <td>5      </td> <td>0    </td>\n",
       "        </tr>\n",
       "        <tr>\n",
       "            <td>4              </td> <td>2                      </td> <td>1                       </td> <td>1                </td> <td>2                          </td> <td>1          </td> <td>2              </td> <td>1              </td> <td>1      </td> <td>0    </td>\n",
       "        </tr>\n",
       "    </tbody>\n",
       "</table>\n",
       "<p>... (673 rows omitted)</p>"
      ],
      "text/plain": [
       "Clump Thickness | Uniformity of Cell Size | Uniformity of Cell Shape | Marginal Adhesion | Single Epithelial Cell Size | Bare Nuclei | Bland Chromatin | Normal Nucleoli | Mitoses | Class\n",
       "5               | 1                       | 1                        | 1                 | 2                           | 1           | 3               | 1               | 1       | 0\n",
       "5               | 4                       | 4                        | 5                 | 7                           | 10          | 3               | 2               | 1       | 0\n",
       "3               | 1                       | 1                        | 1                 | 2                           | 2           | 3               | 1               | 1       | 0\n",
       "6               | 8                       | 8                        | 1                 | 3                           | 4           | 3               | 7               | 1       | 0\n",
       "4               | 1                       | 1                        | 3                 | 2                           | 1           | 3               | 1               | 1       | 0\n",
       "8               | 10                      | 10                       | 8                 | 7                           | 10          | 9               | 7               | 1       | 1\n",
       "1               | 1                       | 1                        | 1                 | 2                           | 10          | 3               | 1               | 1       | 0\n",
       "2               | 1                       | 2                        | 1                 | 2                           | 1           | 3               | 1               | 1       | 0\n",
       "2               | 1                       | 1                        | 1                 | 2                           | 1           | 1               | 1               | 5       | 0\n",
       "4               | 2                       | 1                        | 1                 | 2                           | 1           | 2               | 1               | 1       | 0\n",
       "... (673 rows omitted)"
      ]
     },
     "execution_count": 2,
     "metadata": {},
     "output_type": "execute_result"
    }
   ],
   "source": [
    "patients = Table.read_table('breast-cancer.csv').drop('ID')\n",
    "patients"
   ]
  },
  {
   "cell_type": "markdown",
   "metadata": {},
   "source": [
    "Each row describes a different image. The values in the dataset is ranged from `1` to `10` given by a human observation. For example, in `Uniformity of Cell Size`, `1` means all uniform, `10` means there are huge cells and there are tiny cells. \n",
    "\n",
    "Below we look the distribution of `Clump Thickness` of all the patients,"
   ]
  },
  {
   "cell_type": "code",
   "execution_count": 3,
   "metadata": {},
   "outputs": [
    {
     "data": {
      "image/png": "[encoded data removed]",
      "text/plain": [
       "<Figure size 432x288 with 1 Axes>"
      ]
     },
     "metadata": {
      "needs_background": "light"
     },
     "output_type": "display_data"
    }
   ],
   "source": [
    "patients.hist('Clump Thickness')"
   ]
  },
  {
   "cell_type": "markdown",
   "metadata": {},
   "source": [
    "If we call `hist` without any argument, Python will create a histogram for each column,"
   ]
  },
  {
   "cell_type": "code",
   "execution_count": 4,
   "metadata": {},
   "outputs": [
    {
     "data": {
      "image/png": "[encoded data removed]",
      "text/plain": [
       "<Figure size 432x2880 with 10 Axes>"
      ]
     },
     "metadata": {
      "needs_background": "light"
     },
     "output_type": "display_data"
    }
   ],
   "source": [
    "patients.drop('ID').hist(overlay = False)"
   ]
  },
  {
   "cell_type": "markdown",
   "metadata": {},
   "source": [
    "If we look at the `Class` histogram, we can see that about `2/3` are `benign`, and `1/3` are `malignant`.\n",
    "\n",
    "If we want to model the association between the attributes and the labels (or classes), the histogram is not the best representation. How about we do a scatter plot?\n",
    "\n",
    "Since classes are either always `0` or always `1`, if we do a scatter plot between an arbitrary attribute and the `Class`,"
   ]
  },
  {
   "cell_type": "code",
   "execution_count": 5,
   "metadata": {},
   "outputs": [
    {
     "data": {
      "image/png": "[encoded data removed]",
      "text/plain": [
       "<Figure size 360x360 with 1 Axes>"
      ]
     },
     "metadata": {
      "needs_background": "light"
     },
     "output_type": "display_data"
    }
   ],
   "source": [
    "patients.scatter('Bland Chromatin', 'Class')"
   ]
  },
  {
   "cell_type": "markdown",
   "metadata": {},
   "source": [
    "The plot above doesn't tell us much about what's going on! Instead, we can plot 2 attributes with the `Classes` as the distinguishing colors,"
   ]
  },
  {
   "cell_type": "code",
   "execution_count": 6,
   "metadata": {},
   "outputs": [
    {
     "data": {
      "image/png": "[encoded data removed]",
      "text/plain": [
       "<Figure size 360x360 with 1 Axes>"
      ]
     },
     "metadata": {
      "needs_background": "light"
     },
     "output_type": "display_data"
    }
   ],
   "source": [
    "patients.scatter('Bare Nuclei', 'Single Epithelial Cell Size', colors = 'Class')"
   ]
  },
  {
   "cell_type": "markdown",
   "metadata": {},
   "source": [
    "The data points around lower left seemed to be mostly class `0`, while the stuff around the upper right seemed to be mostly class `1`. Can we classify the 2 classes using the attributes above?\n",
    "\n",
    "Based on the plot above, we might try to describe a classifier as the following,\n",
    "1. If the `Bare Nuclei` and `Single Epithelial Cell Size` are both low, then assign class `0`\n",
    "2. If both high, then assign class `1`\n",
    "\n",
    "However, notice that there are also spots where both classes overlap! Since all attributes are rated from `0` to `10`, it's difficult to see how many data points are in each spot (i.e. if `x` is `Bare Nuclei` and `y` is `Single Epithelial Cell Size`, and we indicate each spot as `[x, y]`, we can't tell how many data points are in `[4, 7]` or `[5, 1]`).\n",
    "\n",
    "Below is a function that moves each data point to slightly outside their original spot so that none of them overlap to each other. The function `randomize_column` takes in an array `a` and adds each element of the array with a number resulted from the `np.random.normal`, which generates a sample of numbers drawn from the normal (Gaussian) distribution.\n",
    "\n",
    "<img src = 'syntax.jpg' width = 400/>\n",
    "\n",
    "The `np.random.normal` function takes in 3 arguments:\n",
    "1. `loc`, controls the mean of the function. This parameter defaults to `0`.\n",
    "\n",
    "<img src = 'loc.jpg' width = 250/>\n",
    "\n",
    "2. `scale`, controls the `SD` of the normal distribution. By default, the `scale` is set to `1`.\n",
    "\n",
    "<img src = 'scale.jpg' width = 300/>\n",
    "\n",
    "3. `size`, controls the size and shape of the output array\n",
    "    * If we provide a single integer `x`, `np.random.normal` will provide `x` random normal values in a 1-dimensional NumPy array\n",
    "    * If we specify `size = (2, 3)`, `np.random.normal` will produce numpy array with 2 rows and 3 columns, in which the array will be filled with numbers drawn from a random normal distribution\n",
    "    \n",
    "In the function below, we use `size = len(a)` since we want to generate `len(a)` random normal values, where `a` is a column from the `patients` table."
   ]
  },
  {
   "cell_type": "code",
   "execution_count": 7,
   "metadata": {},
   "outputs": [
    {
     "data": {
      "text/plain": [
       "683"
      ]
     },
     "execution_count": 7,
     "metadata": {},
     "output_type": "execute_result"
    }
   ],
   "source": [
    "len(patients.column('Bland Chromatin'))"
   ]
  },
  {
   "cell_type": "code",
   "execution_count": 8,
   "metadata": {},
   "outputs": [],
   "source": [
    "def randomize_column(a):\n",
    "    return a + np.random.normal(0.0, 0.09, size=len(a))"
   ]
  },
  {
   "cell_type": "code",
   "execution_count": 9,
   "metadata": {},
   "outputs": [
    {
     "data": {
      "text/plain": [
       "array([ 2.98169185,  3.25011072,  3.11619825,  3.13874082,  2.91038465,\n",
       "        8.86853521,  2.95038802,  3.00104785,  1.10397236,  2.18190839,\n",
       "        3.05617079,  2.00585137,  3.99491402,  2.84108638,  5.0246843 ,\n",
       "        4.16044747,  2.05446035,  2.91453115,  4.04349284,  2.85787418,\n",
       "        5.18284555,  7.10524372,  1.99757348,  3.16124054,  3.03125398,\n",
       "        2.13647265,  2.06567476,  1.93096174,  1.02205065,  2.07762813,\n",
       "        2.82797452,  6.9143838 ,  3.01057668,  2.05655023,  1.99265772,\n",
       "        7.91358897,  7.17589023,  4.93821973,  7.07648833,  5.94826245,\n",
       "        6.97838013,  2.92255978,  8.00212129,  1.92404067,  3.9550985 ,\n",
       "        2.13500886,  3.08920332,  2.79839974,  1.91174302,  3.08289793,\n",
       "        3.97679694,  6.98365768,  7.05021533,  2.95261388,  3.12186682,\n",
       "        4.83711859,  4.8981305 ,  5.17637618,  4.06649757,  2.0792433 ,\n",
       "        3.14363129,  3.04712948,  1.90385614,  4.12361939,  3.03714805,\n",
       "        4.00857439,  8.02438266,  3.06363253,  1.98850574,  7.01357075,\n",
       "        7.08268524,  3.89847335,  3.0132537 ,  3.95135096,  2.07781305,\n",
       "        1.90471799,  2.99804167,  1.92991529,  7.0429235 ,  1.85822231,\n",
       "        2.98419261,  6.90055322,  7.03115695,  3.91804748,  4.02361148,\n",
       "        5.82681158,  3.02791884,  2.10797306,  2.88143794,  0.94865649,\n",
       "        3.08253342,  1.98590548,  2.94688457,  2.95144198,  0.93748429,\n",
       "        3.1926865 ,  1.87518133,  6.89164373,  3.11363425,  2.12001811,\n",
       "        3.00359371,  7.12515063,  8.00537645,  2.81722839,  3.94944253,\n",
       "        5.00574082,  2.07261988,  6.91245896,  4.9811839 ,  2.991486  ,\n",
       "        6.99547887,  8.08805171,  3.12308124,  1.0140034 ,  2.89557723,\n",
       "        6.94007909,  1.06801649,  2.88365692,  3.03474169,  2.87090428,\n",
       "        4.91069525,  5.16499226,  7.98222219,  2.03944928,  7.10015823,\n",
       "        3.03525022,  0.99217469,  1.20454124,  1.9495024 ,  3.11907261,\n",
       "        3.10024543,  2.03152753,  2.00332612,  2.84202575,  1.90500571,\n",
       "        1.07412562,  2.11185109,  0.99599913,  1.05853701,  4.12040202,\n",
       "        0.89886829,  2.01258075,  4.03940286,  2.04257956,  5.18486821,\n",
       "        6.86224813,  3.03218231,  4.92491893,  8.03826793,  1.10833541,\n",
       "        0.9374095 ,  2.86072833,  1.85306211,  3.00205595,  6.96796996,\n",
       "        5.16830842,  3.02859641,  2.96642197,  0.88191464,  3.16100657,\n",
       "        3.04505359,  3.11751647,  2.87123148,  0.90630065,  1.01007517,\n",
       "        3.08966556,  1.98463111, 10.03913155,  6.01046614,  5.01937772,\n",
       "        3.00070796,  4.9606509 ,  3.12606234,  2.91594133,  2.92323037,\n",
       "        0.93491651,  2.93578132,  6.92586478,  5.0738565 ,  2.98689524,\n",
       "        7.07916278,  6.90450176,  8.83797286,  3.06100328,  6.94494415,\n",
       "        4.04770286,  1.93247356,  2.92444295,  3.10741176,  2.85123413,\n",
       "        6.93277871,  3.00664249,  1.08039622,  1.76924967,  7.03605248,\n",
       "        8.08606257,  3.02441386,  3.04903476,  3.00350894,  6.87171796,\n",
       "        3.09920979,  3.11915473,  3.1011578 ,  3.03904523,  7.92776468,\n",
       "        7.06838678,  3.03021115,  6.97818736, 10.23551691,  4.95192586,\n",
       "        2.08095693,  2.9686292 ,  7.9635639 ,  2.93109237,  2.94864384,\n",
       "        8.93020964,  2.07794165,  6.8047564 ,  7.07691185,  2.11962666,\n",
       "        8.01260894,  7.06404435,  2.87445021,  9.00061022,  7.0447681 ,\n",
       "        8.17757843,  4.03305432,  3.93549142,  2.96347371,  3.9325525 ,\n",
       "        3.89443957,  3.03189071,  5.01894108,  1.93376047,  3.0533775 ,\n",
       "        3.03833126,  5.00384612,  3.01990451,  2.93489324,  6.92659724,\n",
       "        3.05245035,  3.05564092,  0.80629476,  5.0031273 ,  3.01680022,\n",
       "        6.92887603,  3.04977712,  2.82978249,  1.1699769 ,  2.09189574,\n",
       "        3.09408506,  2.91587934,  4.90320109, 10.00816573,  7.10356301,\n",
       "        4.8922426 ,  5.00728719,  3.05396469,  3.85787357,  7.06301766,\n",
       "        8.08314173,  3.03627084,  3.11016048,  3.14546501,  6.99313579,\n",
       "        3.07755188,  2.98080782,  2.17793437,  2.10561976,  2.82615098,\n",
       "        2.96928551,  3.06108366,  2.96105092,  5.02245095,  5.07736952,\n",
       "        3.064196  , 10.04326318,  3.9864358 ,  2.03205083,  4.97639566,\n",
       "        4.02788462,  0.95895511,  2.86068005,  2.01610183,  7.0001395 ,\n",
       "        4.05777586,  1.0083301 ,  7.06835274,  7.26031851,  2.87186107,\n",
       "        7.07471587,  2.93912474,  3.09818595,  3.11584805,  2.81627942,\n",
       "        3.16935071,  8.09495878,  5.11185088,  1.92557026,  1.18469632,\n",
       "        3.02363068,  1.16373061,  1.99404192,  4.02059021,  7.98732014,\n",
       "        3.04150544,  6.86406849,  7.02308045,  3.05118901,  4.03232849,\n",
       "        3.00156905,  2.03656868,  4.8628969 ,  2.05650351,  3.0525836 ,\n",
       "        7.03901291,  6.12527233,  3.09768812,  2.0684616 ,  4.04385774,\n",
       "        2.93985904,  0.89941103,  3.07599528,  2.93901579,  1.91140085,\n",
       "        3.94978909,  6.93072563,  2.98660771,  0.892328  ,  1.11835528,\n",
       "        8.96723719,  1.0703195 ,  1.02745277,  1.07584364,  2.92593083,\n",
       "        6.99818853,  1.00420845,  2.90158817,  4.14985468,  4.13580537,\n",
       "        2.12903394,  2.00669719,  2.98188182,  7.04568925,  4.05298676,\n",
       "        2.86298802,  7.84086128,  4.81810729,  1.94198553,  2.03226832,\n",
       "        2.99394902,  2.15100014,  6.93610956,  8.06186844,  0.9178908 ,\n",
       "        1.84004451,  2.11015805,  1.06175575,  1.92378386,  1.97952576,\n",
       "        1.98778306,  0.93538601,  2.03446032,  1.96657177,  2.02150689,\n",
       "        2.97907949,  0.94016248,  7.01151185,  2.95133402,  1.00016654,\n",
       "        0.9828962 ,  0.86038372,  6.90175501,  3.07614729,  1.86758914,\n",
       "        1.84080097,  1.78729752,  6.81579115,  2.03087225,  0.90290182,\n",
       "        1.87957477,  1.94607385,  2.99807526,  1.07934167,  2.02782186,\n",
       "        0.91179475,  9.06989426,  1.05477917,  2.09368954,  1.1715342 ,\n",
       "        1.00348428,  1.90005614,  1.9892358 ,  2.06933487,  3.07697663,\n",
       "        2.03830961,  1.90484357,  8.01471331,  2.97237617,  6.05987888,\n",
       "        2.64711132,  6.92525576,  1.99726796,  2.98616439,  0.98480255,\n",
       "        3.00767455,  8.05228694,  2.95396487,  1.86862743,  1.04561495,\n",
       "       10.0063595 ,  0.93431297,  5.07295564,  2.07339046,  2.05711089,\n",
       "        1.98927259,  3.05635338,  1.93008377,  0.84642903,  3.85899279,\n",
       "        5.09159094,  2.04121957,  0.89255715,  0.93350656,  1.02057992,\n",
       "       10.22687754,  1.02727212,  1.03411209,  0.97660437,  1.97488894,\n",
       "        1.12850148,  0.852287  ,  0.87274865,  1.00006809,  8.03805847,\n",
       "        2.0271896 ,  0.93209918,  1.05207557,  9.99052224,  0.77318751,\n",
       "        0.98263176,  7.93523476,  9.88779956,  0.8761335 ,  0.99319823,\n",
       "        0.93703657,  1.07903301,  0.99030121,  1.01091346,  1.10212637,\n",
       "        7.04216554,  8.96143627,  6.92367288,  1.09704235,  2.09455964,\n",
       "        1.94239193,  0.88962034,  0.92231153,  1.0258918 ,  0.75176879,\n",
       "        1.00697734,  0.87919564,  0.95361596,  0.87486374,  7.05564272,\n",
       "        0.90001544,  0.9147623 , 10.07113189,  8.77919682,  1.01063601,\n",
       "        0.92761317,  1.99348805,  7.90776197,  3.0657636 ,  3.97993977,\n",
       "        1.09504868,  7.05116743,  1.92575127,  6.06170447,  1.91620051,\n",
       "        2.03447399,  1.03474067,  1.20880569,  1.94099187,  1.84950056,\n",
       "        2.96433628,  1.97481532,  1.96558083,  3.06690166,  1.20366935,\n",
       "        1.04009815,  3.92122828,  0.93895179,  0.86595429,  0.8401877 ,\n",
       "        0.90939019,  2.013104  ,  1.12205341,  2.09083124,  7.88080548,\n",
       "        9.14498364,  0.97237731,  1.88713646,  1.02297701,  9.09672382,\n",
       "        0.92850095,  1.16222619,  6.95463761,  5.11789693,  1.93737421,\n",
       "        1.0310761 ,  1.02931859,  2.9486262 ,  1.00992971,  2.15643727,\n",
       "        6.01972992,  1.9994194 ,  3.06149033,  1.91539686,  1.76510578,\n",
       "        3.05057493,  2.87639678,  2.93973895,  2.02643339,  2.03529183,\n",
       "        2.11145301,  1.11446919,  1.01561655,  1.98222508,  1.97040521,\n",
       "        1.89308073,  6.94037413,  1.02593158,  0.83479736,  7.06105727,\n",
       "        1.82708769,  2.90442554,  4.10158797,  1.90551084,  0.95387527,\n",
       "        4.04817118,  2.19822619,  0.94082289,  2.10482756,  2.09238902,\n",
       "        3.0211937 ,  3.00631614,  3.07953328,  1.99179346,  3.0048478 ,\n",
       "       10.14284291,  3.11123971,  1.85179035,  2.09744344, 10.03986515,\n",
       "        8.01622656,  9.06175852,  2.09857704,  1.91909264,  6.90461618,\n",
       "        3.07913669,  2.12022735,  1.86568184,  2.02332361,  2.997278  ,\n",
       "        1.9697913 ,  6.96582251,  5.94495793,  1.04564082,  1.01445385,\n",
       "        1.11670448, 10.0041673 ,  2.03213004,  4.11858626,  0.92707457,\n",
       "        9.98157922,  6.86566332,  3.80237459,  1.08539948,  7.1285476 ,\n",
       "        1.9218531 ,  2.10518328,  2.92676046,  1.93896683,  1.08820291,\n",
       "        1.85266165,  2.00775022,  2.0835068 ,  7.93695377,  7.92726451,\n",
       "        6.9353274 ,  1.03740337,  0.99775007, 10.1885313 ,  1.07414383,\n",
       "        7.07011119,  8.03581471,  9.98123638,  2.0385794 ,  2.14445447,\n",
       "        2.04347914,  1.97517343,  2.20630578,  1.99409912,  1.98542351,\n",
       "        5.96591609,  1.93666493,  1.16567409,  1.9304054 ,  0.88531188,\n",
       "        7.08798221,  0.83819061,  1.00700822,  0.92694825,  0.98316687,\n",
       "        1.95687733,  1.12033064,  4.90710268,  1.07179713,  0.89997194,\n",
       "        9.97865896,  1.92526775,  1.17727674,  1.05413417,  0.86437854,\n",
       "        1.93090761,  2.05347993,  1.09329392,  0.9880545 ,  1.99535194,\n",
       "        1.02426399,  1.0470717 ,  9.90709582,  2.03217074,  1.0293118 ,\n",
       "        1.94974022,  2.00054489,  1.97539583,  3.08884182,  2.06659849,\n",
       "        2.03348255,  2.94822795,  6.71163695,  0.89441612,  1.90481048,\n",
       "        2.97614741,  1.85750846,  1.95592214,  1.92536595,  0.86118073,\n",
       "        1.12103066,  2.99031367,  7.0020943 ,  6.85580315,  7.12605614,\n",
       "        2.89091161,  2.89332115,  1.04182623,  2.0627733 ,  1.03274945,\n",
       "        2.02787932,  1.17715023,  1.11429311,  1.04645334, 10.06484592,\n",
       "        4.97271807,  3.12812621,  1.00030376,  0.99539326,  1.06223359,\n",
       "        1.2317415 ,  2.03111042,  0.85662438,  1.03317204,  1.04215866,\n",
       "        3.94766359,  0.9464919 ,  1.81901289,  0.92890078,  0.97760527,\n",
       "        7.94319794, 10.10732854,  9.7797657 ])"
      ]
     },
     "execution_count": 9,
     "metadata": {},
     "output_type": "execute_result"
    }
   ],
   "source": [
    "randomize_column(patients.column('Bland Chromatin'))"
   ]
  },
  {
   "cell_type": "markdown",
   "metadata": {},
   "source": [
    "We can use `randomize_column` to the `Bland Chromatin` and `Single Epithelial Cell Size` column, and create a table that contains the result,"
   ]
  },
  {
   "cell_type": "code",
   "execution_count": 10,
   "metadata": {},
   "outputs": [],
   "source": [
    "jittered = Table().with_columns([\n",
    "        'Bland Chromatin (jittered)', \n",
    "        randomize_column(patients.column('Bland Chromatin')),\n",
    "        'Single Epithelial Cell Size (jittered)', \n",
    "        randomize_column(patients.column('Single Epithelial Cell Size')),\n",
    "        'Class',\n",
    "        patients.column('Class')\n",
    "    ])"
   ]
  },
  {
   "cell_type": "code",
   "execution_count": 11,
   "metadata": {},
   "outputs": [
    {
     "data": {
      "text/plain": [
       "683"
      ]
     },
     "execution_count": 11,
     "metadata": {},
     "output_type": "execute_result"
    }
   ],
   "source": [
    "len(patients.column('Bland Chromatin'))"
   ]
  },
  {
   "cell_type": "code",
   "execution_count": 12,
   "metadata": {},
   "outputs": [
    {
     "data": {
      "text/html": [
       "<table border=\"1\" class=\"dataframe\">\n",
       "    <thead>\n",
       "        <tr>\n",
       "            <th>Bland Chromatin (jittered)</th> <th>Single Epithelial Cell Size (jittered)</th> <th>Class</th>\n",
       "        </tr>\n",
       "    </thead>\n",
       "    <tbody>\n",
       "        <tr>\n",
       "            <td>2.91899                   </td> <td>1.96                                  </td> <td>0    </td>\n",
       "        </tr>\n",
       "        <tr>\n",
       "            <td>2.83956                   </td> <td>6.85038                               </td> <td>0    </td>\n",
       "        </tr>\n",
       "        <tr>\n",
       "            <td>3.03538                   </td> <td>2.16415                               </td> <td>0    </td>\n",
       "        </tr>\n",
       "        <tr>\n",
       "            <td>2.84351                   </td> <td>2.95536                               </td> <td>0    </td>\n",
       "        </tr>\n",
       "        <tr>\n",
       "            <td>3.08158                   </td> <td>2.17105                               </td> <td>0    </td>\n",
       "        </tr>\n",
       "        <tr>\n",
       "            <td>9.08464                   </td> <td>6.77595                               </td> <td>1    </td>\n",
       "        </tr>\n",
       "        <tr>\n",
       "            <td>3.0531                    </td> <td>2.16454                               </td> <td>0    </td>\n",
       "        </tr>\n",
       "        <tr>\n",
       "            <td>3.02779                   </td> <td>1.87189                               </td> <td>0    </td>\n",
       "        </tr>\n",
       "        <tr>\n",
       "            <td>0.974222                  </td> <td>1.80732                               </td> <td>0    </td>\n",
       "        </tr>\n",
       "        <tr>\n",
       "            <td>2.06941                   </td> <td>1.92164                               </td> <td>0    </td>\n",
       "        </tr>\n",
       "    </tbody>\n",
       "</table>\n",
       "<p>... (673 rows omitted)</p>"
      ],
      "text/plain": [
       "Bland Chromatin (jittered) | Single Epithelial Cell Size (jittered) | Class\n",
       "2.91899                    | 1.96                                   | 0\n",
       "2.83956                    | 6.85038                                | 0\n",
       "3.03538                    | 2.16415                                | 0\n",
       "2.84351                    | 2.95536                                | 0\n",
       "3.08158                    | 2.17105                                | 0\n",
       "9.08464                    | 6.77595                                | 1\n",
       "3.0531                     | 2.16454                                | 0\n",
       "3.02779                    | 1.87189                                | 0\n",
       "0.974222                   | 1.80732                                | 0\n",
       "2.06941                    | 1.92164                                | 0\n",
       "... (673 rows omitted)"
      ]
     },
     "execution_count": 12,
     "metadata": {},
     "output_type": "execute_result"
    }
   ],
   "source": [
    "jittered"
   ]
  },
  {
   "cell_type": "code",
   "execution_count": 13,
   "metadata": {},
   "outputs": [
    {
     "data": {
      "image/png": "[encoded data removed]",
      "text/plain": [
       "<Figure size 360x360 with 1 Axes>"
      ]
     },
     "metadata": {
      "needs_background": "light"
     },
     "output_type": "display_data"
    }
   ],
   "source": [
    "jittered.scatter(0, 1, colors='Class')"
   ]
  },
  {
   "cell_type": "markdown",
   "metadata": {},
   "source": [
    "From the plot above, we can see roughly how many data points are in each region. Notice that there are spots where the yellow data points and blue data points are in the same region. Due to this, making a clear classification would be difficult. \n",
    "\n",
    "Then, how do we solve this?\n",
    "\n",
    "We can measure the distance between 2 examples using the Pythagoras theorem."
   ]
  },
  {
   "cell_type": "markdown",
   "metadata": {},
   "source": [
    "# Distance"
   ]
  },
  {
   "cell_type": "markdown",
   "metadata": {},
   "source": [
    "## Distance Between 2 Points\n",
    "When we plot 2 attributes `x` and `y`, we can measure the distance of `data point 0` and `data point 1` by the following,\n",
    "\n",
    "$$\n",
    "Distance = \\sqrt{(x_0 - x_1)^2 + (y_0 - y_1)^2}\n",
    "$$\n",
    "\n",
    "For 3 attributes,\n",
    "\n",
    "$$\n",
    "Distance = \\sqrt{(x_0 - x_1)^2 + (y_0 - y_1)^2 + (z_0 - z_1)^2}\n",
    "$$\n",
    "\n",
    "We have to use this concept to rows within a table. Each row in a table is an example."
   ]
  },
  {
   "cell_type": "markdown",
   "metadata": {},
   "source": [
    "## Rows of Tables\n",
    "Each row contains all the data for an individual example (a data point).\n",
    "\n",
    "1. `t.row(i)` evaluates to `i`th row of table `t`\n",
    "    * If we want the whole row, then take a table, specify which row we want using the `i`\n",
    "    * `t.row(i)` gives us the whole row\n",
    "\n",
    "2. `t.row(i).item(j)` is the value of column `j` in row `i`\n",
    "    * Use this if we want a specific attribute (specific value) in a row\n",
    "\n",
    "3. If all values are numbers, then `np.array(t.row(i))` returns an array of all the numbers in the row\n",
    "\n",
    "4. If we want to go through each row in a table, use the `for` loop"
   ]
  },
  {
   "cell_type": "code",
   "execution_count": 14,
   "metadata": {},
   "outputs": [
    {
     "ename": "NameError",
     "evalue": "name 't' is not defined",
     "output_type": "error",
     "traceback": [
      "\u001b[1;31m---------------------------------------------------------------------------\u001b[0m",
      "\u001b[1;31mNameError\u001b[0m                                 Traceback (most recent call last)",
      "\u001b[1;32m<ipython-input-14-ebcbc58d4c06>\u001b[0m in \u001b[0;36m<module>\u001b[1;34m\u001b[0m\n\u001b[1;32m----> 1\u001b[1;33m \u001b[1;32mfor\u001b[0m \u001b[0mrow\u001b[0m \u001b[1;32min\u001b[0m \u001b[0mt\u001b[0m\u001b[1;33m.\u001b[0m\u001b[0mrows\u001b[0m\u001b[1;33m:\u001b[0m\u001b[1;33m\u001b[0m\u001b[1;33m\u001b[0m\u001b[0m\n\u001b[0m\u001b[0;32m      2\u001b[0m     \u001b[1;33m...\u001b[0m\u001b[1;33m\u001b[0m\u001b[1;33m\u001b[0m\u001b[0m\n",
      "\u001b[1;31mNameError\u001b[0m: name 't' is not defined"
     ]
    }
   ],
   "source": [
    "for row in t.rows:\n",
    "    ..."
   ]
  },
  {
   "cell_type": "markdown",
   "metadata": {},
   "source": [
    "Below we have the function `distance` that calculates the distance between 2 data points. Both `pt1` and `pt2` input need to be arrays!"
   ]
  },
  {
   "cell_type": "code",
   "execution_count": 15,
   "metadata": {},
   "outputs": [],
   "source": [
    "def distance(pt1, pt2):\n",
    "    \"\"\" The distance between 2 points, represented as arrays\"\"\"\n",
    "    return np.sqrt(sum((pt1 - pt2) ** 2))"
   ]
  },
  {
   "cell_type": "markdown",
   "metadata": {},
   "source": [
    "And below, we have the function `row_distance` that does the following,\n",
    "1. Converts `row1` and `row2` to arrays\n",
    "2. Call the `distance` function to both arrays\n",
    "\n",
    "The input, `row1` and `row2` are lists."
   ]
  },
  {
   "cell_type": "code",
   "execution_count": 16,
   "metadata": {},
   "outputs": [],
   "source": [
    "def row_distance(row1, row2):\n",
    "    \"\"\" The distance between 2 rows of a table\"\"\"\n",
    "    return distance(np.array(row1), np.array(row2))"
   ]
  },
  {
   "cell_type": "markdown",
   "metadata": {},
   "source": [
    "For example, we can calculate the distance of the points `[0, 0]` and `[3, 4]`,"
   ]
  },
  {
   "cell_type": "code",
   "execution_count": 17,
   "metadata": {},
   "outputs": [
    {
     "data": {
      "text/plain": [
       "5.0"
      ]
     },
     "execution_count": 17,
     "metadata": {},
     "output_type": "execute_result"
    }
   ],
   "source": [
    "row_distance([0, 0], [3, 4])"
   ]
  },
  {
   "cell_type": "markdown",
   "metadata": {},
   "source": [
    "And if we shift both points by `10` the result would be the same!"
   ]
  },
  {
   "cell_type": "code",
   "execution_count": 18,
   "metadata": {},
   "outputs": [
    {
     "data": {
      "text/plain": [
       "5.0"
      ]
     },
     "execution_count": 18,
     "metadata": {},
     "output_type": "execute_result"
    }
   ],
   "source": [
    "row_distance([10, 10], [13, 14])"
   ]
  },
  {
   "cell_type": "markdown",
   "metadata": {},
   "source": [
    "What if we have 3 attributes? No problem!"
   ]
  },
  {
   "cell_type": "code",
   "execution_count": 19,
   "metadata": {},
   "outputs": [
    {
     "data": {
      "text/plain": [
       "13.0"
      ]
     },
     "execution_count": 19,
     "metadata": {},
     "output_type": "execute_result"
    }
   ],
   "source": [
    "row_distance([0, 0, 0], [3, 4, 12])"
   ]
  },
  {
   "cell_type": "markdown",
   "metadata": {},
   "source": [
    "The function extends to multiple dimensions or attributes. Even if we have 8 attributes, we can still compute the distance.\n",
    "\n",
    "The next steps are as the following:\n",
    "1. Take a new example\n",
    "2. Compute its distance with every single example in the `training test` where we know the label\n",
    "3. Find the closest example from the `training test`"
   ]
  },
  {
   "cell_type": "markdown",
   "metadata": {},
   "source": [
    "# Nearest Neighbors"
   ]
  },
  {
   "cell_type": "markdown",
   "metadata": {},
   "source": [
    "## Finding the `k` Nearest Neighbors\n",
    "To find the `k` nearest neighbors of an example:\n",
    "1. Find the distance between the example and each example in the training set\n",
    "2. Augment the training data table with a column containing the distances calculated in the step above\n",
    "3. Sort the augmented table in increasing order of the distances\n",
    "4. Take the top `k` rows of the sorted table\n",
    "\n",
    "If we translate this to a code,"
   ]
  },
  {
   "cell_type": "markdown",
   "metadata": {},
   "source": [
    "## Classification Procedure\n",
    "Below we have a function that calculates the distances between each row in the `training set` and an example. "
   ]
  },
  {
   "cell_type": "code",
   "execution_count": 20,
   "metadata": {},
   "outputs": [],
   "source": [
    "def distances(training, example):\n",
    "    \"\"\" Compute the distance between an example and each row in training set\"\"\"\n",
    "    dists = [] # This list contains all the calculated distances\n",
    "    \n",
    "    # Below we take the training set and drop the labels. At this point we don't care about\n",
    "    # the labels. We only care about the attributes.\n",
    "    attributes = training.drop('Class')\n",
    "    # For every row in 'attributes', compute the distance between the row and the example\n",
    "    # then append the computed distance to the 'dists' list\n",
    "    for row in attributes.rows:\n",
    "        dists.append(row_distance(row, example))\n",
    "    \n",
    "    # Return the training table with an additional column : the computed distances\n",
    "    return training.with_column('Distance', dists)"
   ]
  },
  {
   "cell_type": "markdown",
   "metadata": {},
   "source": [
    "And below is the function `closest` that takes in 3 arguments:\n",
    "1. The `training set`\n",
    "2. The `example`\n",
    "3. An integer `k`, the closest neighbors to example\n",
    "\n",
    "and returns a table of the closest `k` neighbors from the example,"
   ]
  },
  {
   "cell_type": "code",
   "execution_count": 21,
   "metadata": {},
   "outputs": [],
   "source": [
    "def closest(training, example, k):\n",
    "    \"\"\" Return a table of the k closest neighbors to example.\"\"\"\n",
    "    # Sort by 'Distance', then take 'k' neighbors\n",
    "    return distances(training, example).sort('Distance').take(np.arange(k))"
   ]
  },
  {
   "cell_type": "markdown",
   "metadata": {},
   "source": [
    "Now we are going to take row index `12` from the `patients` dataset,"
   ]
  },
  {
   "cell_type": "code",
   "execution_count": 22,
   "metadata": {},
   "outputs": [
    {
     "data": {
      "text/html": [
       "<table border=\"1\" class=\"dataframe\">\n",
       "    <thead>\n",
       "        <tr>\n",
       "            <th>Clump Thickness</th> <th>Uniformity of Cell Size</th> <th>Uniformity of Cell Shape</th> <th>Marginal Adhesion</th> <th>Single Epithelial Cell Size</th> <th>Bare Nuclei</th> <th>Bland Chromatin</th> <th>Normal Nucleoli</th> <th>Mitoses</th> <th>Class</th>\n",
       "        </tr>\n",
       "    </thead>\n",
       "    <tbody>\n",
       "        <tr>\n",
       "            <td>5              </td> <td>3                      </td> <td>3                       </td> <td>3                </td> <td>2                          </td> <td>3          </td> <td>4              </td> <td>4              </td> <td>1      </td> <td>1    </td>\n",
       "        </tr>\n",
       "    </tbody>\n",
       "</table>"
      ],
      "text/plain": [
       "Clump Thickness | Uniformity of Cell Size | Uniformity of Cell Shape | Marginal Adhesion | Single Epithelial Cell Size | Bare Nuclei | Bland Chromatin | Normal Nucleoli | Mitoses | Class\n",
       "5               | 3                       | 3                        | 3                 | 2                           | 3           | 4               | 4               | 1       | 1"
      ]
     },
     "execution_count": 22,
     "metadata": {},
     "output_type": "execute_result"
    }
   ],
   "source": [
    "patients.take(12)"
   ]
  },
  {
   "cell_type": "markdown",
   "metadata": {},
   "source": [
    "Let's take the row above as an example, and pretend that we don't know its `Class`"
   ]
  },
  {
   "cell_type": "code",
   "execution_count": 23,
   "metadata": {},
   "outputs": [
    {
     "data": {
      "text/plain": [
       "Row(Clump Thickness=5, Uniformity of Cell Size=3, Uniformity of Cell Shape=3, Marginal Adhesion=3, Single Epithelial Cell Size=2, Bare Nuclei=3, Bland Chromatin=4, Normal Nucleoli=4, Mitoses=1)"
      ]
     },
     "execution_count": 23,
     "metadata": {},
     "output_type": "execute_result"
    }
   ],
   "source": [
    "example = patients.drop('Class').row(12)\n",
    "example"
   ]
  },
  {
   "cell_type": "markdown",
   "metadata": {},
   "source": [
    "Now let's say the `training test` is the `patients` dataset excluding patient `12`, and the example is patient `12`. If we try to find 3 nearest neighbors,"
   ]
  },
  {
   "cell_type": "code",
   "execution_count": 24,
   "metadata": {},
   "outputs": [
    {
     "data": {
      "text/html": [
       "<table border=\"1\" class=\"dataframe\">\n",
       "    <thead>\n",
       "        <tr>\n",
       "            <th>Clump Thickness</th> <th>Uniformity of Cell Size</th> <th>Uniformity of Cell Shape</th> <th>Marginal Adhesion</th> <th>Single Epithelial Cell Size</th> <th>Bare Nuclei</th> <th>Bland Chromatin</th> <th>Normal Nucleoli</th> <th>Mitoses</th> <th>Class</th> <th>Distance</th>\n",
       "        </tr>\n",
       "    </thead>\n",
       "    <tbody>\n",
       "        <tr>\n",
       "            <td>5              </td> <td>3                      </td> <td>3                       </td> <td>4                </td> <td>2                          </td> <td>4          </td> <td>3              </td> <td>4              </td> <td>1      </td> <td>1    </td> <td>1.73205 </td>\n",
       "        </tr>\n",
       "        <tr>\n",
       "            <td>5              </td> <td>1                      </td> <td>3                       </td> <td>3                </td> <td>2                          </td> <td>2          </td> <td>2              </td> <td>3              </td> <td>1      </td> <td>0    </td> <td>3.16228 </td>\n",
       "        </tr>\n",
       "        <tr>\n",
       "            <td>5              </td> <td>2                      </td> <td>2                       </td> <td>2                </td> <td>2                          </td> <td>2          </td> <td>3              </td> <td>2              </td> <td>2      </td> <td>0    </td> <td>3.16228 </td>\n",
       "        </tr>\n",
       "    </tbody>\n",
       "</table>"
      ],
      "text/plain": [
       "Clump Thickness | Uniformity of Cell Size | Uniformity of Cell Shape | Marginal Adhesion | Single Epithelial Cell Size | Bare Nuclei | Bland Chromatin | Normal Nucleoli | Mitoses | Class | Distance\n",
       "5               | 3                       | 3                        | 4                 | 2                           | 4           | 3               | 4               | 1       | 1     | 1.73205\n",
       "5               | 1                       | 3                        | 3                 | 2                           | 2           | 2               | 3               | 1       | 0     | 3.16228\n",
       "5               | 2                       | 2                        | 2                 | 2                           | 2           | 3               | 2               | 2       | 0     | 3.16228"
      ]
     },
     "execution_count": 24,
     "metadata": {},
     "output_type": "execute_result"
    }
   ],
   "source": [
    "closest(patients.exclude(12), example, 3)"
   ]
  },
  {
   "cell_type": "markdown",
   "metadata": {},
   "source": [
    "Now what do we do with these 3 nearest neighbors?\n",
    "\n",
    "We could just look at the nearest neigbor and determine that the class of the example is the same as that of the closest neighbor. Another way is to look at the 3 nearest neighbors and see which class appear more.\n",
    "\n",
    "Turns out in many situations, the `k` neighbors method works better than just one nearest neighbor. As a rule of thumb, it is easier to use odd numbers for the `k`, just to prevent ties."
   ]
  },
  {
   "cell_type": "markdown",
   "metadata": {},
   "source": [
    "## The Classifier\n",
    "To classify a point:\n",
    "1. Find its `k` nearest neighbors\n",
    "2. Take a majority vote of the `k` nearest neighbors to see which of the 2 classes appears more often\n",
    "3. Assign the example (the data point) the class that wins the majority vote\n",
    "\n",
    "Below we have the function `majority_class` that returns the class (`0` or `1`) with the highest count,"
   ]
  },
  {
   "cell_type": "code",
   "execution_count": 25,
   "metadata": {},
   "outputs": [],
   "source": [
    "def majority_class(top_k):\n",
    "    \"\"\" Return the class with the highest count. \"\"\"\n",
    "    # Group the table by class, then sort in descending order (the most appear at the top),\n",
    "    # then pick the top item\n",
    "    return top_k.group('Class').sort('count', descending = True).column(0).item(0)"
   ]
  },
  {
   "cell_type": "markdown",
   "metadata": {},
   "source": [
    "And below is the `classify` function that takes in a `training set`, an `example` and a `k` for determining the number of nearest neighbors. This function makes use of the function `majority_class`."
   ]
  },
  {
   "cell_type": "code",
   "execution_count": 26,
   "metadata": {},
   "outputs": [],
   "source": [
    "def classify(training, example, k):\n",
    "    \"\"\" Return the majority class among k nearest neighbors\"\"\"\n",
    "    return majority_class(closest(training, example, k))"
   ]
  },
  {
   "cell_type": "markdown",
   "metadata": {},
   "source": [
    "If we use `k` = `1`,"
   ]
  },
  {
   "cell_type": "code",
   "execution_count": 27,
   "metadata": {},
   "outputs": [
    {
     "data": {
      "text/plain": [
       "1"
      ]
     },
     "execution_count": 27,
     "metadata": {},
     "output_type": "execute_result"
    }
   ],
   "source": [
    "classify(patients.exclude(12), example, 1)"
   ]
  },
  {
   "cell_type": "markdown",
   "metadata": {},
   "source": [
    "The resulting class is `1`! If we recall the class of the patient row `12`,"
   ]
  },
  {
   "cell_type": "code",
   "execution_count": 28,
   "metadata": {},
   "outputs": [
    {
     "data": {
      "text/plain": [
       "Row(Clump Thickness=5, Uniformity of Cell Size=3, Uniformity of Cell Shape=3, Marginal Adhesion=3, Single Epithelial Cell Size=2, Bare Nuclei=3, Bland Chromatin=4, Normal Nucleoli=4, Mitoses=1, Class=1)"
      ]
     },
     "execution_count": 28,
     "metadata": {},
     "output_type": "execute_result"
    }
   ],
   "source": [
    "patients.row(12)"
   ]
  },
  {
   "cell_type": "markdown",
   "metadata": {},
   "source": [
    "The `Class` is indeed `1`! Thus the classifier is correct!\n",
    "\n",
    "How about if we use `k` = `3`?"
   ]
  },
  {
   "cell_type": "code",
   "execution_count": 29,
   "metadata": {},
   "outputs": [
    {
     "data": {
      "text/plain": [
       "0"
      ]
     },
     "execution_count": 29,
     "metadata": {},
     "output_type": "execute_result"
    }
   ],
   "source": [
    "classify(patients.exclude(12), example, 3)"
   ]
  },
  {
   "cell_type": "markdown",
   "metadata": {},
   "source": [
    "Then the resulting class is `3`! Does this mean `3` nearest neighbor is no good? Is `k` = `1` better than `k` = `3`?\n",
    "\n",
    "One way to evaluate which one is better is to try it over and over again and see on average how often we obtain the correct result. \n",
    "\n",
    "When we define a classifier, we need to pick numbers for the argument (in this case, `k`). How do we pick a good `k`? We need to have a data that's an example of the behavior / characteristics we get if we try the classifier out there in the wild on new examples from the population (This is what `test set` is for). From here, we can pick the `k` that behaves the best."
   ]
  },
  {
   "cell_type": "markdown",
   "metadata": {},
   "source": [
    "# Evaluation"
   ]
  },
  {
   "cell_type": "markdown",
   "metadata": {},
   "source": [
    "## Accuracy of a Classifier\n",
    "The accuracy of a classifier on a labeled data set is **the proportion of examples that are labeled correctly**. To assess accuracy of a classifier, we need to compare classifier predictions to true labels.\n",
    "\n",
    "If the labeled data set is sampled at random from a population, then we can make inference about what the accuracy of the classifier would be on that population. \n",
    "\n",
    "We are going to take the dataset and split it to `training set` and `test set`. We'll use this to guess labels and see whether our guesses are correct.\n",
    "\n",
    "The first step is to **shuffle the dataset**,"
   ]
  },
  {
   "cell_type": "code",
   "execution_count": 30,
   "metadata": {},
   "outputs": [
    {
     "data": {
      "text/html": [
       "<table border=\"1\" class=\"dataframe\">\n",
       "    <thead>\n",
       "        <tr>\n",
       "            <th>Clump Thickness</th> <th>Uniformity of Cell Size</th> <th>Uniformity of Cell Shape</th> <th>Marginal Adhesion</th> <th>Single Epithelial Cell Size</th> <th>Bare Nuclei</th> <th>Bland Chromatin</th> <th>Normal Nucleoli</th> <th>Mitoses</th> <th>Class</th>\n",
       "        </tr>\n",
       "    </thead>\n",
       "    <tbody>\n",
       "        <tr>\n",
       "            <td>4              </td> <td>1                      </td> <td>1                       </td> <td>1                </td> <td>2                          </td> <td>1          </td> <td>1              </td> <td>1              </td> <td>1      </td> <td>0    </td>\n",
       "        </tr>\n",
       "        <tr>\n",
       "            <td>1              </td> <td>2                      </td> <td>1                       </td> <td>3                </td> <td>2                          </td> <td>1          </td> <td>2              </td> <td>1              </td> <td>1      </td> <td>0    </td>\n",
       "        </tr>\n",
       "        <tr>\n",
       "            <td>10             </td> <td>7                      </td> <td>7                       </td> <td>4                </td> <td>5                          </td> <td>10         </td> <td>5              </td> <td>7              </td> <td>2      </td> <td>1    </td>\n",
       "        </tr>\n",
       "    </tbody>\n",
       "</table>\n",
       "<p>... (680 rows omitted)</p>"
      ],
      "text/plain": [
       "<IPython.core.display.HTML object>"
      ]
     },
     "metadata": {},
     "output_type": "display_data"
    }
   ],
   "source": [
    "shuffled = patients.sample(with_replacement = False)\n",
    "shuffled.show(3)"
   ]
  },
  {
   "cell_type": "markdown",
   "metadata": {},
   "source": [
    "Then we'll split the `shuffled` above to 2 names: `trainset` and `testset`,"
   ]
  },
  {
   "cell_type": "code",
   "execution_count": 31,
   "metadata": {},
   "outputs": [
    {
     "data": {
      "text/html": [
       "<table border=\"1\" class=\"dataframe\">\n",
       "    <thead>\n",
       "        <tr>\n",
       "            <th>Clump Thickness</th> <th>Uniformity of Cell Size</th> <th>Uniformity of Cell Shape</th> <th>Marginal Adhesion</th> <th>Single Epithelial Cell Size</th> <th>Bare Nuclei</th> <th>Bland Chromatin</th> <th>Normal Nucleoli</th> <th>Mitoses</th> <th>Class</th>\n",
       "        </tr>\n",
       "    </thead>\n",
       "    <tbody>\n",
       "        <tr>\n",
       "            <td>4              </td> <td>1                      </td> <td>1                       </td> <td>1                </td> <td>2                          </td> <td>1          </td> <td>1              </td> <td>1              </td> <td>1      </td> <td>0    </td>\n",
       "        </tr>\n",
       "        <tr>\n",
       "            <td>1              </td> <td>2                      </td> <td>1                       </td> <td>3                </td> <td>2                          </td> <td>1          </td> <td>2              </td> <td>1              </td> <td>1      </td> <td>0    </td>\n",
       "        </tr>\n",
       "        <tr>\n",
       "            <td>10             </td> <td>7                      </td> <td>7                       </td> <td>4                </td> <td>5                          </td> <td>10         </td> <td>5              </td> <td>7              </td> <td>2      </td> <td>1    </td>\n",
       "        </tr>\n",
       "    </tbody>\n",
       "</table>\n",
       "<p>... (339 rows omitted)</p>"
      ],
      "text/plain": [
       "<IPython.core.display.HTML object>"
      ]
     },
     "metadata": {},
     "output_type": "display_data"
    }
   ],
   "source": [
    "trainset = shuffled.take(range(342))\n",
    "trainset.show(3)"
   ]
  },
  {
   "cell_type": "code",
   "execution_count": 32,
   "metadata": {},
   "outputs": [
    {
     "data": {
      "text/html": [
       "<table border=\"1\" class=\"dataframe\">\n",
       "    <thead>\n",
       "        <tr>\n",
       "            <th>Clump Thickness</th> <th>Uniformity of Cell Size</th> <th>Uniformity of Cell Shape</th> <th>Marginal Adhesion</th> <th>Single Epithelial Cell Size</th> <th>Bare Nuclei</th> <th>Bland Chromatin</th> <th>Normal Nucleoli</th> <th>Mitoses</th> <th>Class</th>\n",
       "        </tr>\n",
       "    </thead>\n",
       "    <tbody>\n",
       "        <tr>\n",
       "            <td>1              </td> <td>1                      </td> <td>1                       </td> <td>1                </td> <td>2                          </td> <td>1          </td> <td>2              </td> <td>1              </td> <td>1      </td> <td>0    </td>\n",
       "        </tr>\n",
       "        <tr>\n",
       "            <td>1              </td> <td>1                      </td> <td>2                       </td> <td>1                </td> <td>2                          </td> <td>1          </td> <td>2              </td> <td>1              </td> <td>1      </td> <td>0    </td>\n",
       "        </tr>\n",
       "        <tr>\n",
       "            <td>3              </td> <td>1                      </td> <td>1                       </td> <td>1                </td> <td>2                          </td> <td>1          </td> <td>3              </td> <td>1              </td> <td>1      </td> <td>0    </td>\n",
       "        </tr>\n",
       "    </tbody>\n",
       "</table>\n",
       "<p>... (338 rows omitted)</p>"
      ],
      "text/plain": [
       "<IPython.core.display.HTML object>"
      ]
     },
     "metadata": {},
     "output_type": "display_data"
    }
   ],
   "source": [
    "testset = shuffled.take(range(342, 683))\n",
    "testset.show(3)"
   ]
  },
  {
   "cell_type": "markdown",
   "metadata": {},
   "source": [
    "Now we can evaluate the classifier's accuracy.\n",
    "\n",
    "The function `evaluate_accuracy` takes in:\n",
    "1. `training set`\n",
    "2. `test set`\n",
    "3. `k`\n",
    "\n",
    "and it returns the proportion of the correct label guesses."
   ]
  },
  {
   "cell_type": "code",
   "execution_count": 33,
   "metadata": {},
   "outputs": [],
   "source": [
    "def evaluate_accuracy(training, test, k):\n",
    "    # take the test set and drop the `Class` attribute, assign it to 'test_attributes'\n",
    "    test_attributes = test.drop('Class')\n",
    "    numcorrect = 0 # Keeps track of how many 'corrects' we get\n",
    "    for i in range(test.num_rows): #go thorugh each patients in test set\n",
    "        # Run the classifier on each i (each patient)\n",
    "        c = classify(training, test_attributes.row(i), k)\n",
    "        # Check if the classifier's correct\n",
    "        if c == test.column('Class').item(i):\n",
    "            numcorrect = numcorrect + 1 \n",
    "    return numcorrect / test.num_rows"
   ]
  },
  {
   "cell_type": "markdown",
   "metadata": {},
   "source": [
    "Let's try the function with the `training set` and the `test set`!"
   ]
  },
  {
   "cell_type": "code",
   "execution_count": 34,
   "metadata": {},
   "outputs": [
    {
     "data": {
      "text/plain": [
       "0.9560117302052786"
      ]
     },
     "execution_count": 34,
     "metadata": {},
     "output_type": "execute_result"
    }
   ],
   "source": [
    "evaluate_accuracy(trainset, testset, 1)"
   ]
  },
  {
   "cell_type": "markdown",
   "metadata": {},
   "source": [
    "Above is the ratio of the correct to the total number of rows in the test set. What if we increase `k`?"
   ]
  },
  {
   "cell_type": "code",
   "execution_count": 35,
   "metadata": {},
   "outputs": [
    {
     "data": {
      "text/plain": [
       "0.9706744868035191"
      ]
     },
     "execution_count": 35,
     "metadata": {},
     "output_type": "execute_result"
    }
   ],
   "source": [
    "evaluate_accuracy(trainset, testset, 3)"
   ]
  },
  {
   "cell_type": "code",
   "execution_count": 36,
   "metadata": {},
   "outputs": [
    {
     "data": {
      "text/plain": [
       "0.9736070381231672"
      ]
     },
     "execution_count": 36,
     "metadata": {},
     "output_type": "execute_result"
    }
   ],
   "source": [
    "evaluate_accuracy(trainset, testset, 5)"
   ]
  },
  {
   "cell_type": "markdown",
   "metadata": {},
   "source": [
    "Here, we attempted to estimate the accuracy of the classifier by applying it to every element in the test set and computing some average statistic. However, this doesn't tell us how well the classifier would perform on the actual population. "
   ]
  }
 ],
 "metadata": {
  "kernelspec": {
   "display_name": "Python 3",
   "language": "python",
   "name": "python3"
  },
  "language_info": {
   "codemirror_mode": {
    "name": "ipython",
    "version": 3
   },
   "file_extension": ".py",
   "mimetype": "text/x-python",
   "name": "python",
   "nbconvert_exporter": "python",
   "pygments_lexer": "ipython3",
   "version": "3.7.2"
  }
 },
 "nbformat": 4,
 "nbformat_minor": 1
}
