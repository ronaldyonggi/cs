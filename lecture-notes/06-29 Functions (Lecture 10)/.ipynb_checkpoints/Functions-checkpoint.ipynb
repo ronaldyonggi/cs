{
 "cells": [
  {
   "cell_type": "markdown",
   "metadata": {},
   "source": [
    "## Discussion Question\n",
    "This histogram describes a **year** of daily temperatures.\n",
    "<img src = 'temperature.jpg' width = 600 />\n",
    "* What proportion of days had a high temp in the range 60-69?\n",
    "    * Within range 60-70 of the high (yellow bars), the height of the bar is about 4.8. Thus, the area is (70-60) * 4.8 = 48%\n",
    "* What proportion had a low of 45 or more?\n",
    "    * We first find the area of the bars that corresponds to low of less than 45\n",
    "        * (0.1 * 5) + (0.6 * 5) + (2 * 5) = 13.5 %\n",
    "    * Then we calculate 100% - 13.5 % = 86.5%\n",
    "* How many days had a difference of more than 20 degrees between their high & low temperatures?\n",
    "    * This histogram can't answer that question because it only shows that the lows and highs are around certain temperature range and the frequency in a year"
   ]
  },
  {
   "cell_type": "code",
   "execution_count": 15,
   "metadata": {},
   "outputs": [],
   "source": [
    "from datascience import *\n",
    "import numpy as np\n",
    "\n",
    "%matplotlib inline\n",
    "import matplotlib.pyplot as plots\n",
    "plots.style.use('fivethirtyeight')\n",
    "\n",
    "from ipywidgets import interact, interactive, fixed, interact_manual\n",
    "import ipywidgets as widgets"
   ]
  },
  {
   "cell_type": "markdown",
   "metadata": {},
   "source": [
    "# Defining Functions\n",
    "We are building up a useful inventory of techniques for identifying patterns and themes in a data set by using functions already available in Python. We will now explore a core feature of the Python programming language: **function definition**.\n",
    "\n",
    "We have used functions extensively already, but we **never defined a function of our own**. The purpose of defining a function is to give a name to a computational process that may be applied multiple times. There are many situations in computing that require repeated computation. For example, it is often the case that we want to perform the same manipulation on every value in a column of a table."
   ]
  },
  {
   "cell_type": "markdown",
   "metadata": {},
   "source": [
    "## Def Statements\n",
    "User defined functions give names to blocks of code\n",
    "<img src = 'function.jpg'/>"
   ]
  },
  {
   "cell_type": "code",
   "execution_count": 19,
   "metadata": {},
   "outputs": [],
   "source": [
    "# The function 'fahrenheit' takes in a celsius temperature and converts it to fahrenheit\n",
    "def fahrenheit(x):\n",
    "    return x * (9/5) + 32"
   ]
  },
  {
   "cell_type": "markdown",
   "metadata": {},
   "source": [
    "When we run the cell above, no particular number is converted to fahrenheit, and the code inside the body of **fahrenheit** is not yet evaluated. This is similar to a recipe: each time we follow the instructions in a recipe, we need to start with ingredients. Each time we want to use our function to convert a number to fahrenheit, we need to specify a number.\n",
    "\n",
    "We can call **fahrenheit** in the same way we have called other functions. Each time we do that, the code in the body is executed, with the value of the argument given the name x."
   ]
  },
  {
   "cell_type": "code",
   "execution_count": 3,
   "metadata": {},
   "outputs": [
    {
     "data": {
      "text/plain": [
       "212.0"
      ]
     },
     "execution_count": 3,
     "metadata": {},
     "output_type": "execute_result"
    }
   ],
   "source": [
    "fahrenheit(100)"
   ]
  },
  {
   "cell_type": "code",
   "execution_count": 4,
   "metadata": {},
   "outputs": [
    {
     "data": {
      "text/plain": [
       "56.0"
      ]
     },
     "execution_count": 4,
     "metadata": {},
     "output_type": "execute_result"
    }
   ],
   "source": [
    "fahrenheit(400/30)"
   ]
  },
  {
   "cell_type": "markdown",
   "metadata": {},
   "source": [
    "The two expressions above are both call expressions. In the second one, the value of the expression 400/30 is computed and then passed as the argument named x to the **fahrenheit** function. Each call expresson results in the body of **fahrenheit** being executed, but with a different value of x.\n",
    "\n",
    "The body of **fahrenheit** has only a single line:\n",
    "\n",
    "return x * (9/5) + 32\n",
    "\n",
    "Executing this return statement completes execution of the **fahrenheit** function’s body and computes the value of the call expression.\n",
    "\n",
    "The argument to **fahrenheit** can be any expression, as long as its value is a number. For example, it can be a name. The **fahrenheit** function does not know or care how its argument is computed or stored; its only job is to execute its own body using the values of the arguments passed to it."
   ]
  },
  {
   "cell_type": "code",
   "execution_count": 5,
   "metadata": {},
   "outputs": [
    {
     "data": {
      "text/plain": [
       "107.60000000000001"
      ]
     },
     "execution_count": 5,
     "metadata": {},
     "output_type": "execute_result"
    }
   ],
   "source": [
    "anything = 42\n",
    "fahrenheit(anything)"
   ]
  },
  {
   "cell_type": "markdown",
   "metadata": {},
   "source": [
    "The argument can also be any value that can be converted to fahrenheit. For example, a whole array of numbers can be passed as an argument to **fahrenheit**, and the result will be another array."
   ]
  },
  {
   "cell_type": "code",
   "execution_count": 6,
   "metadata": {},
   "outputs": [
    {
     "data": {
      "text/plain": [
       "array([ 86.,  50., 140.])"
      ]
     },
     "execution_count": 6,
     "metadata": {},
     "output_type": "execute_result"
    }
   ],
   "source": [
    "fahrenheit(make_array(30, 10, 60))"
   ]
  },
  {
   "cell_type": "markdown",
   "metadata": {},
   "source": [
    "However, names that are defined inside a function, including arguments like **fahrenheit**’s x, have only a fleeting existence. They are defined only while the function is being called, and they are only accessible inside the body of the function. We can’t refer to x outside the body of **fahrenheit**. The technical terminology is that **x has local scope**.\n",
    "\n",
    "Therefore the name x isn’t recognized outside the body of the function, even though we have called fahrenheit in the cells above."
   ]
  },
  {
   "cell_type": "code",
   "execution_count": 7,
   "metadata": {},
   "outputs": [
    {
     "ename": "NameError",
     "evalue": "name 'x' is not defined",
     "output_type": "error",
     "traceback": [
      "\u001b[1;31m---------------------------------------------------------------------------\u001b[0m",
      "\u001b[1;31mNameError\u001b[0m                                 Traceback (most recent call last)",
      "\u001b[1;32m<ipython-input-7-6fcf9dfbd479>\u001b[0m in \u001b[0;36m<module>\u001b[1;34m()\u001b[0m\n\u001b[1;32m----> 1\u001b[1;33m \u001b[0mx\u001b[0m\u001b[1;33m\u001b[0m\u001b[0m\n\u001b[0m",
      "\u001b[1;31mNameError\u001b[0m: name 'x' is not defined"
     ]
    }
   ],
   "source": [
    "x"
   ]
  },
  {
   "cell_type": "markdown",
   "metadata": {},
   "source": [
    "However, if we define 'x' in a global scope:"
   ]
  },
  {
   "cell_type": "code",
   "execution_count": null,
   "metadata": {},
   "outputs": [],
   "source": [
    "x = 25\n",
    "fahrenheit(x)"
   ]
  },
  {
   "cell_type": "markdown",
   "metadata": {},
   "source": [
    "Then **fahrenheit** would work just fine!"
   ]
  },
  {
   "cell_type": "markdown",
   "metadata": {},
   "source": [
    "## Discussion Question\n",
    "1. What does this function do?\n",
    "2. What kind of input does it take?\n",
    "3. What output will it give?\n",
    "4. What's a reasonable name?"
   ]
  },
  {
   "cell_type": "code",
   "execution_count": null,
   "metadata": {},
   "outputs": [],
   "source": [
    "def f(s):\n",
    "    return np.round(s / sum(s) * 100, 2)"
   ]
  },
  {
   "cell_type": "markdown",
   "metadata": {},
   "source": [
    "1. It will take an array of numbers and convert each element of the array to a percentage or proportion with respect so the sum of all the numbers in the array.\n",
    "2. It takes an array of numbers\n",
    "3. It gives out an array of numbers (more specifically, in percentage)\n",
    "4. Proportionator, or Percent, or Percentage. Since this function computes the percent of each number in the array."
   ]
  },
  {
   "cell_type": "markdown",
   "metadata": {},
   "source": [
    "## Docstring\n",
    "In reality, many functions perform complicated tasks and are difficult to use without explanation. Therefore, a well-composed function has a name that evokes its behavior, as well as a documentation. In Python, this is called a **docstring** — a description of its behavior and expectations about its arguments. A docstring can also show example calls to the function, where the call is preceded by >>>.\n",
    "\n",
    "A docstring can be any string, as long as it is the first thing in a function’s body. Docstrings are typically defined using triple quotation marks at the start and end, which allows a string to span multiple lines. The first line is conventionally a complete but short description of the function, while following lines provide further guidance to future users of the function.\n",
    "\n",
    "Here is a definition of a function called percent that takes an argument: an array of numbers. The definition includes a docstring."
   ]
  },
  {
   "cell_type": "code",
   "execution_count": 5,
   "metadata": {},
   "outputs": [],
   "source": [
    "def percents(counts):\n",
    "    \"\"\" Converts counts to percents out of the total.\"\"\"\n",
    "    total = counts.sum()\n",
    "    return np.round(counts/total * 100, 2) # Recall 2 here means 2 decimal places"
   ]
  },
  {
   "cell_type": "code",
   "execution_count": 6,
   "metadata": {},
   "outputs": [
    {
     "data": {
      "text/plain": [
       "array([16.67, 33.33, 50.  ])"
      ]
     },
     "execution_count": 6,
     "metadata": {},
     "output_type": "execute_result"
    }
   ],
   "source": [
    "percents(make_array(2, 4, 6))"
   ]
  },
  {
   "cell_type": "markdown",
   "metadata": {},
   "source": [
    "Let's say we want to change the decimal places. It would be a hassle if we go back to the **percents** function and change the second argument in **np.round**. \n",
    "\n",
    "## Multiple Arguments\n",
    "There can be multiple ways to generalize an expression or block of code, and so a function can take multiple arguments that each determine different aspects of the result. For example, the percents function we defined previously rounded to two decimal places every time. The following two-argument definition allows different calls to round the decimal places to different amounts.\n"
   ]
  },
  {
   "cell_type": "code",
   "execution_count": 7,
   "metadata": {},
   "outputs": [],
   "source": [
    "def percents_decimal(counts, decimal_places):\n",
    "    \"\"\" Converts counts to percents out of the total\"\"\"\n",
    "    total = counts.sum()\n",
    "    return np.round(counts/total * 100, decimal_places)"
   ]
  },
  {
   "cell_type": "code",
   "execution_count": 8,
   "metadata": {},
   "outputs": [
    {
     "data": {
      "text/plain": [
       "array([16.667, 33.333, 50.   ])"
      ]
     },
     "execution_count": 8,
     "metadata": {},
     "output_type": "execute_result"
    }
   ],
   "source": [
    "percents_decimal(make_array(2, 4, 6), 3)"
   ]
  },
  {
   "cell_type": "markdown",
   "metadata": {},
   "source": [
    "The flexibility of this new definition comes at a small price: **each time the function is called, the number of decimal places must be specified**. Default argument values allow a function to be called with a variable number of arguments; any argument that isn’t specified in the call expression is given its default value, which is stated in the first line of the def statement. For example, in this final definition of percents, the optional argument decimal_places is given a default value of 2."
   ]
  },
  {
   "cell_type": "code",
   "execution_count": 12,
   "metadata": {},
   "outputs": [],
   "source": [
    "def percents_decimal(counts, decimal_places = 2):\n",
    "    \"\"\" Converts counts to percents out of the total\"\"\"\n",
    "    total = counts.sum()\n",
    "    return np.round(counts/total * 100, decimal_places)"
   ]
  },
  {
   "cell_type": "code",
   "execution_count": 13,
   "metadata": {},
   "outputs": [
    {
     "data": {
      "text/plain": [
       "array([16.67, 33.33, 50.  ])"
      ]
     },
     "execution_count": 13,
     "metadata": {},
     "output_type": "execute_result"
    }
   ],
   "source": [
    "percents_decimal(make_array(2, 4, 6))"
   ]
  },
  {
   "cell_type": "code",
   "execution_count": 14,
   "metadata": {},
   "outputs": [
    {
     "data": {
      "text/plain": [
       "array([16.6667, 33.3333, 50.    ])"
      ]
     },
     "execution_count": 14,
     "metadata": {},
     "output_type": "execute_result"
    }
   ],
   "source": [
    "percents_decimal(make_array(2, 4, 6), 4)"
   ]
  },
  {
   "cell_type": "markdown",
   "metadata": {},
   "source": [
    "## Interact Function\n",
    "\n",
    "Earlier, we had to call a function different times if we want to see the output from different inputs. For example:"
   ]
  },
  {
   "cell_type": "code",
   "execution_count": 16,
   "metadata": {},
   "outputs": [
    {
     "data": {
      "text/plain": [
       "array([16.67, 33.33, 50.  ])"
      ]
     },
     "execution_count": 16,
     "metadata": {},
     "output_type": "execute_result"
    }
   ],
   "source": [
    "percents_decimal(make_array(2, 4, 6))"
   ]
  },
  {
   "cell_type": "code",
   "execution_count": 17,
   "metadata": {},
   "outputs": [
    {
     "data": {
      "text/plain": [
       "array([ 7.14, 21.43, 71.43])"
      ]
     },
     "execution_count": 17,
     "metadata": {},
     "output_type": "execute_result"
    }
   ],
   "source": [
    "percents_decimal(make_array(1, 3, 10))"
   ]
  },
  {
   "cell_type": "markdown",
   "metadata": {},
   "source": [
    "The **interact** function calls your functions interactively. We can make an **interactive** function by passing a function into it. Note we need to import from **ipywidgets** to be able to use **interact**. The second argument is the default value."
   ]
  },
  {
   "cell_type": "code",
   "execution_count": 20,
   "metadata": {},
   "outputs": [
    {
     "data": {
      "application/vnd.jupyter.widget-view+json": {
       "model_id": "83fea66be2f04fbe95279de217d63285",
       "version_major": 2,
       "version_minor": 0
      },
      "text/plain": [
       "interactive(children=(IntSlider(value=40, description='x', max=120, min=-40), Output()), _dom_classes=('widget…"
      ]
     },
     "metadata": {},
     "output_type": "display_data"
    }
   ],
   "source": [
    "_ = interact(fahrenheit, x=40)"
   ]
  },
  {
   "cell_type": "markdown",
   "metadata": {},
   "source": [
    "## Applying Functions to a Column\n",
    "We have seen many examples of creating new columns of tables by applying functions to existing columns or to other arrays. All of those functions took arrays as their arguments. But frequently we will want to convert the entries in a column by a function that doesn’t take an array as its argument. For example, it might take just one number as its argument, as in the function **cut_off_at_100** defined below."
   ]
  },
  {
   "cell_type": "code",
   "execution_count": 22,
   "metadata": {},
   "outputs": [],
   "source": [
    "def cut_off_at_100(x):\n",
    "    \"\"\"The smaller of x and 100\"\"\"\n",
    "    return min(x, 100)"
   ]
  },
  {
   "cell_type": "code",
   "execution_count": 23,
   "metadata": {},
   "outputs": [
    {
     "data": {
      "text/plain": [
       "23"
      ]
     },
     "execution_count": 23,
     "metadata": {},
     "output_type": "execute_result"
    }
   ],
   "source": [
    "cut_off_at_100(23)"
   ]
  },
  {
   "cell_type": "code",
   "execution_count": 24,
   "metadata": {},
   "outputs": [
    {
     "data": {
      "text/plain": [
       "100"
      ]
     },
     "execution_count": 24,
     "metadata": {},
     "output_type": "execute_result"
    }
   ],
   "source": [
    "cut_off_at_100(532)"
   ]
  },
  {
   "cell_type": "code",
   "execution_count": 25,
   "metadata": {},
   "outputs": [
    {
     "data": {
      "text/plain": [
       "100"
      ]
     },
     "execution_count": 25,
     "metadata": {},
     "output_type": "execute_result"
    }
   ],
   "source": [
    "cut_off_at_100(100)"
   ]
  },
  {
   "cell_type": "markdown",
   "metadata": {},
   "source": [
    "The function **cut_off_at_100** simply returns the argument if the argument is less than or equal to 100. But if the argument is greater than 100, it returns 100.\n",
    "\n",
    "In our earlier examples using Census data, we saw that the variable AGE had a value 100 that meant “100 years old or older”. Cutting off ages at 100 in this manner is exactly what **cut_off_at_100 does**.\n",
    "\n",
    "To use this function on many ages at once, we will have to be able to refer to the function itself, without actually calling it. Analogously, we might show a cake recipe to a chef and ask her to use it to bake 6 cakes. In that scenario, we are not using the recipe to bake any cakes ourselves; our role is merely to refer the chef to the recipe. Similarly, we can ask a table to call cut_off_at_100 on 6 different numbers in a column.\n",
    "\n",
    "First, we create the table ages with a column for people and one for their ages. For example, person C is 52 years old."
   ]
  },
  {
   "cell_type": "code",
   "execution_count": 26,
   "metadata": {},
   "outputs": [
    {
     "data": {
      "text/html": [
       "<table border=\"1\" class=\"dataframe\">\n",
       "    <thead>\n",
       "        <tr>\n",
       "            <th>Person</th> <th>Age</th>\n",
       "        </tr>\n",
       "    </thead>\n",
       "    <tbody>\n",
       "        <tr>\n",
       "            <td>A     </td> <td>17  </td>\n",
       "        </tr>\n",
       "        <tr>\n",
       "            <td>B     </td> <td>117 </td>\n",
       "        </tr>\n",
       "        <tr>\n",
       "            <td>C     </td> <td>52  </td>\n",
       "        </tr>\n",
       "        <tr>\n",
       "            <td>D     </td> <td>100 </td>\n",
       "        </tr>\n",
       "        <tr>\n",
       "            <td>E     </td> <td>6   </td>\n",
       "        </tr>\n",
       "        <tr>\n",
       "            <td>F     </td> <td>101 </td>\n",
       "        </tr>\n",
       "    </tbody>\n",
       "</table>"
      ],
      "text/plain": [
       "Person | Age\n",
       "A      | 17\n",
       "B      | 117\n",
       "C      | 52\n",
       "D      | 100\n",
       "E      | 6\n",
       "F      | 101"
      ]
     },
     "execution_count": 26,
     "metadata": {},
     "output_type": "execute_result"
    }
   ],
   "source": [
    "ages = Table().with_columns(\n",
    "    'Person', make_array('A', 'B', 'C', 'D', 'E', 'F'),\n",
    "    'Age', make_array(17, 117, 52, 100, 6, 101)\n",
    ")\n",
    "ages"
   ]
  },
  {
   "cell_type": "markdown",
   "metadata": {},
   "source": [
    "## Apply\n",
    "The **apply** method creates an array by calling a function on every element in input column.\n",
    "* 1st argument: Function to apply\n",
    "* 2nd argument: The input column(s)\n",
    "\n",
    "The call looks like the following:"
   ]
  },
  {
   "cell_type": "code",
   "execution_count": null,
   "metadata": {},
   "outputs": [],
   "source": [
    "table_name.apply(function_name, 'column_label')"
   ]
  },
  {
   "cell_type": "markdown",
   "metadata": {},
   "source": [
    "To cut off each of the ages at 100, we will use the **apply**. The apply method calls a function on each element of a column, forming a new array of return values. To indicate which function to call, just name it (without quotation marks or parentheses). The name of the column of input values is a string that must still appear within quotation marks."
   ]
  },
  {
   "cell_type": "code",
   "execution_count": 27,
   "metadata": {},
   "outputs": [
    {
     "data": {
      "text/plain": [
       "array([ 17, 100,  52, 100,   6, 100])"
      ]
     },
     "execution_count": 27,
     "metadata": {},
     "output_type": "execute_result"
    }
   ],
   "source": [
    "ages.apply(cut_off_at_100, 'Age')"
   ]
  },
  {
   "cell_type": "markdown",
   "metadata": {},
   "source": [
    "What we have done here is apply the function **cut_off_at_100** to each value in the Age column of the table ages. The output is the array of corresponding return values of the function. For example, 17 stayed 17, 117 became 100, 52 stayed 52, and so on.\n",
    "\n",
    "This array, which has the same length as the original Age column of the ages table, can be used as the values in a new column called **Cut Off Age** alongside **Person** and **Age** columns."
   ]
  },
  {
   "cell_type": "code",
   "execution_count": 28,
   "metadata": {},
   "outputs": [
    {
     "data": {
      "text/html": [
       "<table border=\"1\" class=\"dataframe\">\n",
       "    <thead>\n",
       "        <tr>\n",
       "            <th>Person</th> <th>Age</th> <th>Cut Off Age</th>\n",
       "        </tr>\n",
       "    </thead>\n",
       "    <tbody>\n",
       "        <tr>\n",
       "            <td>A     </td> <td>17  </td> <td>17         </td>\n",
       "        </tr>\n",
       "        <tr>\n",
       "            <td>B     </td> <td>117 </td> <td>100        </td>\n",
       "        </tr>\n",
       "        <tr>\n",
       "            <td>C     </td> <td>52  </td> <td>52         </td>\n",
       "        </tr>\n",
       "        <tr>\n",
       "            <td>D     </td> <td>100 </td> <td>100        </td>\n",
       "        </tr>\n",
       "        <tr>\n",
       "            <td>E     </td> <td>6   </td> <td>6          </td>\n",
       "        </tr>\n",
       "        <tr>\n",
       "            <td>F     </td> <td>101 </td> <td>100        </td>\n",
       "        </tr>\n",
       "    </tbody>\n",
       "</table>"
      ],
      "text/plain": [
       "Person | Age  | Cut Off Age\n",
       "A      | 17   | 17\n",
       "B      | 117  | 100\n",
       "C      | 52   | 52\n",
       "D      | 100  | 100\n",
       "E      | 6    | 6\n",
       "F      | 101  | 100"
      ]
     },
     "execution_count": 28,
     "metadata": {},
     "output_type": "execute_result"
    }
   ],
   "source": [
    "ages.with_column(\n",
    "    'Cut Off Age', ages.apply(cut_off_at_100, 'Age')\n",
    ")"
   ]
  },
  {
   "cell_type": "markdown",
   "metadata": {},
   "source": [
    "### Function as Values\n",
    "We’ve seen that Python has many kinds of values.\n",
    "* 6 is a number value\n",
    "* \"cake\" is a text value\n",
    "* Table() is an empty table\n",
    "* ages is a name for a table value (since we defined it above).\n",
    "\n",
    "In Python, every function, including **cut_off_at_100**, is also a value. It helps to think about recipes again. A recipe for cake is a real thing, distinct from cakes or ingredients, and you can give it a name like “Ani’s cake recipe.” When we defined cut_off_at_100 with a def statement, we actually did two separate things: \n",
    "1. We created a function that cuts off numbers at 100\n",
    "2. We gave it the name **cut_off_at_100**\n",
    "\n",
    "We can refer to any function by writing its name, without the parentheses or arguments necessary to actually call it. We did this when we called **apply above**. When we write a function’s name by itself as the last line in a cell, Python produces a text representation of the function, just like it would print out a number or a string value."
   ]
  },
  {
   "cell_type": "code",
   "execution_count": 29,
   "metadata": {},
   "outputs": [
    {
     "data": {
      "text/plain": [
       "<function __main__.cut_off_at_100(x)>"
      ]
     },
     "execution_count": 29,
     "metadata": {},
     "output_type": "execute_result"
    }
   ],
   "source": [
    "cut_off_at_100"
   ]
  },
  {
   "cell_type": "markdown",
   "metadata": {},
   "source": [
    "Notice that we did not write \"cut_off_at_100\" with quotes (which is just a piece of text), or cut_off_at_100() (which is a function call, and an invalid one at that). We simply wrote cut_off_at_100 to refer to the function.\n",
    "\n",
    "Just like we can define new names for other values, we can define new names for functions. For example, suppose we want to refer to our function as **cut_off** instead of **cut_off_at_100**. We can just write this:"
   ]
  },
  {
   "cell_type": "code",
   "execution_count": 30,
   "metadata": {},
   "outputs": [],
   "source": [
    "cut_off = cut_off_at_100"
   ]
  },
  {
   "cell_type": "markdown",
   "metadata": {},
   "source": [
    "Now cut_off is a name for a function. It’s the same function as cut_off_at_100, so the printed value is exactly the same."
   ]
  },
  {
   "cell_type": "code",
   "execution_count": 31,
   "metadata": {},
   "outputs": [
    {
     "data": {
      "text/plain": [
       "<function __main__.cut_off_at_100(x)>"
      ]
     },
     "execution_count": 31,
     "metadata": {},
     "output_type": "execute_result"
    }
   ],
   "source": [
    "cut_off"
   ]
  },
  {
   "cell_type": "markdown",
   "metadata": {},
   "source": [
    "## Example: Prediction\n",
    "Data Science is often used to make predictions about the future. If we are trying to predict an outcome for a particular individual – for example, how she will respond to a treatment, or whether he will buy a product – it is natural to base the prediction on the outcomes of other similar individuals.\n",
    "\n",
    "Charles Darwin’s cousin Sir Francis Galton was a pioneer in using this idea to make predictions based on numerical data. He studied how physical characteristics are passed down from one generation to the next.\n",
    "\n",
    "The data below are Galton’s carefully collected measurements on the **heights of parents and their adult children**. \n",
    "* Each row corresponds to one adult child\n",
    "* The variables are: \n",
    "    * A numerical code for the family\n",
    "    * The heights (in inches) of the father and mother\n",
    "    * A “midparent height” which is a weighted average [1] of the height of the two parents\n",
    "    * The number of children in the family\n",
    "    * The child’s birth rank (1 = oldest), gender, and height."
   ]
  },
  {
   "cell_type": "code",
   "execution_count": 32,
   "metadata": {},
   "outputs": [
    {
     "data": {
      "text/html": [
       "<table border=\"1\" class=\"dataframe\">\n",
       "    <thead>\n",
       "        <tr>\n",
       "            <th>family</th> <th>father</th> <th>mother</th> <th>midparentHeight</th> <th>children</th> <th>childNum</th> <th>gender</th> <th>childHeight</th>\n",
       "        </tr>\n",
       "    </thead>\n",
       "    <tbody>\n",
       "        <tr>\n",
       "            <td>1     </td> <td>78.5  </td> <td>67    </td> <td>75.43          </td> <td>4       </td> <td>1       </td> <td>male  </td> <td>73.2       </td>\n",
       "        </tr>\n",
       "        <tr>\n",
       "            <td>1     </td> <td>78.5  </td> <td>67    </td> <td>75.43          </td> <td>4       </td> <td>2       </td> <td>female</td> <td>69.2       </td>\n",
       "        </tr>\n",
       "        <tr>\n",
       "            <td>1     </td> <td>78.5  </td> <td>67    </td> <td>75.43          </td> <td>4       </td> <td>3       </td> <td>female</td> <td>69         </td>\n",
       "        </tr>\n",
       "        <tr>\n",
       "            <td>1     </td> <td>78.5  </td> <td>67    </td> <td>75.43          </td> <td>4       </td> <td>4       </td> <td>female</td> <td>69         </td>\n",
       "        </tr>\n",
       "        <tr>\n",
       "            <td>2     </td> <td>75.5  </td> <td>66.5  </td> <td>73.66          </td> <td>4       </td> <td>1       </td> <td>male  </td> <td>73.5       </td>\n",
       "        </tr>\n",
       "        <tr>\n",
       "            <td>2     </td> <td>75.5  </td> <td>66.5  </td> <td>73.66          </td> <td>4       </td> <td>2       </td> <td>male  </td> <td>72.5       </td>\n",
       "        </tr>\n",
       "        <tr>\n",
       "            <td>2     </td> <td>75.5  </td> <td>66.5  </td> <td>73.66          </td> <td>4       </td> <td>3       </td> <td>female</td> <td>65.5       </td>\n",
       "        </tr>\n",
       "        <tr>\n",
       "            <td>2     </td> <td>75.5  </td> <td>66.5  </td> <td>73.66          </td> <td>4       </td> <td>4       </td> <td>female</td> <td>65.5       </td>\n",
       "        </tr>\n",
       "        <tr>\n",
       "            <td>3     </td> <td>75    </td> <td>64    </td> <td>72.06          </td> <td>2       </td> <td>1       </td> <td>male  </td> <td>71         </td>\n",
       "        </tr>\n",
       "        <tr>\n",
       "            <td>3     </td> <td>75    </td> <td>64    </td> <td>72.06          </td> <td>2       </td> <td>2       </td> <td>female</td> <td>68         </td>\n",
       "        </tr>\n",
       "    </tbody>\n",
       "</table>\n",
       "<p>... (924 rows omitted)</p>"
      ],
      "text/plain": [
       "family | father | mother | midparentHeight | children | childNum | gender | childHeight\n",
       "1      | 78.5   | 67     | 75.43           | 4        | 1        | male   | 73.2\n",
       "1      | 78.5   | 67     | 75.43           | 4        | 2        | female | 69.2\n",
       "1      | 78.5   | 67     | 75.43           | 4        | 3        | female | 69\n",
       "1      | 78.5   | 67     | 75.43           | 4        | 4        | female | 69\n",
       "2      | 75.5   | 66.5   | 73.66           | 4        | 1        | male   | 73.5\n",
       "2      | 75.5   | 66.5   | 73.66           | 4        | 2        | male   | 72.5\n",
       "2      | 75.5   | 66.5   | 73.66           | 4        | 3        | female | 65.5\n",
       "2      | 75.5   | 66.5   | 73.66           | 4        | 4        | female | 65.5\n",
       "3      | 75     | 64     | 72.06           | 2        | 1        | male   | 71\n",
       "3      | 75     | 64     | 72.06           | 2        | 2        | female | 68\n",
       "... (924 rows omitted)"
      ]
     },
     "execution_count": 32,
     "metadata": {},
     "output_type": "execute_result"
    }
   ],
   "source": [
    "galton = Table.read_table('galton.csv')\n",
    "galton"
   ]
  },
  {
   "cell_type": "markdown",
   "metadata": {},
   "source": [
    "A primary reason for collecting the data was to be able to predict the adult height of a child born to parents similar to those in the dataset. Let us try to do this, using **midparentHeight** as the variable on which to base our prediction. Thus midparentHeight is our predictor variable.\n",
    "\n",
    "The table **heights** below consists of just the midparent heights and child’s heights. The scatter plot of the two variables shows a positive association, as we would expect for these variables."
   ]
  },
  {
   "cell_type": "code",
   "execution_count": 39,
   "metadata": {},
   "outputs": [
    {
     "data": {
      "text/html": [
       "<table border=\"1\" class=\"dataframe\">\n",
       "    <thead>\n",
       "        <tr>\n",
       "            <th>MidParent</th> <th>Child</th>\n",
       "        </tr>\n",
       "    </thead>\n",
       "    <tbody>\n",
       "        <tr>\n",
       "            <td>75.43    </td> <td>73.2 </td>\n",
       "        </tr>\n",
       "        <tr>\n",
       "            <td>75.43    </td> <td>69.2 </td>\n",
       "        </tr>\n",
       "        <tr>\n",
       "            <td>75.43    </td> <td>69   </td>\n",
       "        </tr>\n",
       "        <tr>\n",
       "            <td>75.43    </td> <td>69   </td>\n",
       "        </tr>\n",
       "        <tr>\n",
       "            <td>73.66    </td> <td>73.5 </td>\n",
       "        </tr>\n",
       "        <tr>\n",
       "            <td>73.66    </td> <td>72.5 </td>\n",
       "        </tr>\n",
       "        <tr>\n",
       "            <td>73.66    </td> <td>65.5 </td>\n",
       "        </tr>\n",
       "        <tr>\n",
       "            <td>73.66    </td> <td>65.5 </td>\n",
       "        </tr>\n",
       "        <tr>\n",
       "            <td>72.06    </td> <td>71   </td>\n",
       "        </tr>\n",
       "        <tr>\n",
       "            <td>72.06    </td> <td>68   </td>\n",
       "        </tr>\n",
       "    </tbody>\n",
       "</table>\n",
       "<p>... (924 rows omitted)</p>"
      ],
      "text/plain": [
       "MidParent | Child\n",
       "75.43     | 73.2\n",
       "75.43     | 69.2\n",
       "75.43     | 69\n",
       "75.43     | 69\n",
       "73.66     | 73.5\n",
       "73.66     | 72.5\n",
       "73.66     | 65.5\n",
       "73.66     | 65.5\n",
       "72.06     | 71\n",
       "72.06     | 68\n",
       "... (924 rows omitted)"
      ]
     },
     "execution_count": 39,
     "metadata": {},
     "output_type": "execute_result"
    }
   ],
   "source": [
    "heights = galton.select(3, 7).relabel(0, 'MidParent').relabel(1, 'Child')\n",
    "heights"
   ]
  },
  {
   "cell_type": "code",
   "execution_count": 37,
   "metadata": {},
   "outputs": [
    {
     "data": {
      "image/png": "[encoded data removed]",
      "text/plain": [
       "<Figure size 360x360 with 1 Axes>"
      ]
     },
     "metadata": {},
     "output_type": "display_data"
    }
   ],
   "source": [
    "heights.scatter(0) # The first argument of scatter is the x-axis"
   ]
  },
  {
   "cell_type": "markdown",
   "metadata": {},
   "source": [
    "The scatter plot of the 2 variables shows a positive association, as we would expect for these variables.\n",
    "\n",
    "Now suppose Galton encountered a new couple, similar to those in his dataset, and wondered how tall their child would be. What would be a good way for him to go about predicting the child’s height, given that the midparent height was, say, 68 inches?\n",
    "\n",
    "One reasonable approach would be to base the prediction on all the points that correspond to a midparent height of around 68 inches. The prediction equals the average child’s height calculated from those points alone.\n",
    "\n",
    "For now we will just make a reasonable definition of what “around 68 inches” means, and work with that. Later in the course we will examine the consequences of such choices.\n",
    "\n",
    "We will define \"close\" as “within half an inch”. The figure below shows all the points corresponding to a midparent height between 67.5 inches and 68.5 inches. These are all the points in the strip between the red lines. Each of these points corresponds to one child; our prediction of the height of the new couple’s child is the average height of all the children in the strip. That’s represented by the gold dot.\n",
    "\n",
    "Ignore the code, and just focus on understanding the mental process of arriving at that gold dot."
   ]
  },
  {
   "cell_type": "code",
   "execution_count": 40,
   "metadata": {},
   "outputs": [
    {
     "data": {
      "image/png": "[encoded data removed]",
      "text/plain": [
       "<Figure size 360x360 with 1 Axes>"
      ]
     },
     "metadata": {},
     "output_type": "display_data"
    }
   ],
   "source": [
    "heights.scatter('MidParent')\n",
    "_ = plots.plot([67.5, 67.5], [50, 85], color='red', lw=2)\n",
    "_ = plots.plot([68.5, 68.5], [50, 85], color='red', lw=2)\n",
    "_ = plots.scatter(68, 66.24, color='gold', s=40)"
   ]
  },
  {
   "cell_type": "markdown",
   "metadata": {},
   "source": [
    "In order to calculate exactly where the gold dot should be, we first need to indentify all the points in the strip. These correspond to the rows where MidParent is between 67.5 inches and 68.5 inches."
   ]
  },
  {
   "cell_type": "code",
   "execution_count": 41,
   "metadata": {},
   "outputs": [
    {
     "data": {
      "text/html": [
       "<table border=\"1\" class=\"dataframe\">\n",
       "    <thead>\n",
       "        <tr>\n",
       "            <th>MidParent</th> <th>Child</th>\n",
       "        </tr>\n",
       "    </thead>\n",
       "    <tbody>\n",
       "        <tr>\n",
       "            <td>68.44    </td> <td>62   </td>\n",
       "        </tr>\n",
       "        <tr>\n",
       "            <td>67.94    </td> <td>71.2 </td>\n",
       "        </tr>\n",
       "        <tr>\n",
       "            <td>67.94    </td> <td>67   </td>\n",
       "        </tr>\n",
       "        <tr>\n",
       "            <td>68.33    </td> <td>62.5 </td>\n",
       "        </tr>\n",
       "        <tr>\n",
       "            <td>68.23    </td> <td>73   </td>\n",
       "        </tr>\n",
       "        <tr>\n",
       "            <td>68.23    </td> <td>72   </td>\n",
       "        </tr>\n",
       "        <tr>\n",
       "            <td>68.23    </td> <td>69   </td>\n",
       "        </tr>\n",
       "        <tr>\n",
       "            <td>67.98    </td> <td>73   </td>\n",
       "        </tr>\n",
       "        <tr>\n",
       "            <td>67.98    </td> <td>71   </td>\n",
       "        </tr>\n",
       "        <tr>\n",
       "            <td>67.98    </td> <td>71   </td>\n",
       "        </tr>\n",
       "    </tbody>\n",
       "</table>\n",
       "<p>... (121 rows omitted)</p>"
      ],
      "text/plain": [
       "MidParent | Child\n",
       "68.44     | 62\n",
       "67.94     | 71.2\n",
       "67.94     | 67\n",
       "68.33     | 62.5\n",
       "68.23     | 73\n",
       "68.23     | 72\n",
       "68.23     | 69\n",
       "67.98     | 73\n",
       "67.98     | 71\n",
       "67.98     | 71\n",
       "... (121 rows omitted)"
      ]
     },
     "execution_count": 41,
     "metadata": {},
     "output_type": "execute_result"
    }
   ],
   "source": [
    "close_to_68 = heights.where('MidParent', are.between(67.5, 68.5))\n",
    "close_to_68"
   ]
  },
  {
   "cell_type": "markdown",
   "metadata": {},
   "source": [
    "The predicted height of a child who has a midparent height of 68 inches is the average height of the children in these rows."
   ]
  },
  {
   "cell_type": "code",
   "execution_count": 42,
   "metadata": {},
   "outputs": [
    {
     "data": {
      "text/plain": [
       "66.24045801526718"
      ]
     },
     "execution_count": 42,
     "metadata": {},
     "output_type": "execute_result"
    }
   ],
   "source": [
    "close_to_68.column('Child').mean()"
   ]
  },
  {
   "cell_type": "markdown",
   "metadata": {},
   "source": [
    "That's 66.24 inches.\n",
    "\n",
    "We now have a way to predict the height of a child given any value of the midparent height near those in our dataset. We can define a function **predict_child** that does this. The body of the function consists of the code in the two cells above, apart from choices of names."
   ]
  },
  {
   "cell_type": "code",
   "execution_count": 44,
   "metadata": {},
   "outputs": [],
   "source": [
    "def predict_child(mpht):\n",
    "    \"\"\"Predict the height of a child whose parents have a midparent height of mpht.\n",
    "    \n",
    "    The prediction is the average height of the children whose midparent height is\n",
    "    in the range mpht + or - 0.5.\n",
    "    \"\"\"\n",
    "    \n",
    "    close_points = heights.where('MidParent', are.between(mpht-0.5, mpht + 0.5))\n",
    "    return close_points.column('Child').mean()                       "
   ]
  },
  {
   "cell_type": "markdown",
   "metadata": {},
   "source": [
    "Given a midparent height of 68 inches, the function predict_child returns the same prediction (66.24 inches) as we got earlier. The advantage of defining the function is that we can easily change the value of the predictor and get a new prediction."
   ]
  },
  {
   "cell_type": "code",
   "execution_count": 45,
   "metadata": {},
   "outputs": [
    {
     "data": {
      "text/plain": [
       "66.24045801526718"
      ]
     },
     "execution_count": 45,
     "metadata": {},
     "output_type": "execute_result"
    }
   ],
   "source": [
    "predict_child(68)"
   ]
  },
  {
   "cell_type": "code",
   "execution_count": 46,
   "metadata": {},
   "outputs": [
    {
     "data": {
      "text/plain": [
       "70.41578947368421"
      ]
     },
     "execution_count": 46,
     "metadata": {},
     "output_type": "execute_result"
    }
   ],
   "source": [
    "predict_child(74)"
   ]
  },
  {
   "cell_type": "markdown",
   "metadata": {},
   "source": [
    "How good are these predictions? We can get a sense of this by comparing the predictions with the data that we already have. To do this, we first apply the function predict_child to the column of Midparent heights, and collect the results in a new column called Prediction."
   ]
  },
  {
   "cell_type": "code",
   "execution_count": 48,
   "metadata": {},
   "outputs": [
    {
     "data": {
      "text/html": [
       "<table border=\"1\" class=\"dataframe\">\n",
       "    <thead>\n",
       "        <tr>\n",
       "            <th>MidParent</th> <th>Child</th> <th>Prediction</th>\n",
       "        </tr>\n",
       "    </thead>\n",
       "    <tbody>\n",
       "        <tr>\n",
       "            <td>75.43    </td> <td>73.2 </td> <td>70.1      </td>\n",
       "        </tr>\n",
       "        <tr>\n",
       "            <td>75.43    </td> <td>69.2 </td> <td>70.1      </td>\n",
       "        </tr>\n",
       "        <tr>\n",
       "            <td>75.43    </td> <td>69   </td> <td>70.1      </td>\n",
       "        </tr>\n",
       "        <tr>\n",
       "            <td>75.43    </td> <td>69   </td> <td>70.1      </td>\n",
       "        </tr>\n",
       "        <tr>\n",
       "            <td>73.66    </td> <td>73.5 </td> <td>70.4158   </td>\n",
       "        </tr>\n",
       "        <tr>\n",
       "            <td>73.66    </td> <td>72.5 </td> <td>70.4158   </td>\n",
       "        </tr>\n",
       "        <tr>\n",
       "            <td>73.66    </td> <td>65.5 </td> <td>70.4158   </td>\n",
       "        </tr>\n",
       "        <tr>\n",
       "            <td>73.66    </td> <td>65.5 </td> <td>70.4158   </td>\n",
       "        </tr>\n",
       "        <tr>\n",
       "            <td>72.06    </td> <td>71   </td> <td>68.5025   </td>\n",
       "        </tr>\n",
       "        <tr>\n",
       "            <td>72.06    </td> <td>68   </td> <td>68.5025   </td>\n",
       "        </tr>\n",
       "    </tbody>\n",
       "</table>\n",
       "<p>... (924 rows omitted)</p>"
      ],
      "text/plain": [
       "MidParent | Child | Prediction\n",
       "75.43     | 73.2  | 70.1\n",
       "75.43     | 69.2  | 70.1\n",
       "75.43     | 69    | 70.1\n",
       "75.43     | 69    | 70.1\n",
       "73.66     | 73.5  | 70.4158\n",
       "73.66     | 72.5  | 70.4158\n",
       "73.66     | 65.5  | 70.4158\n",
       "73.66     | 65.5  | 70.4158\n",
       "72.06     | 71    | 68.5025\n",
       "72.06     | 68    | 68.5025\n",
       "... (924 rows omitted)"
      ]
     },
     "execution_count": 48,
     "metadata": {},
     "output_type": "execute_result"
    }
   ],
   "source": [
    "# Apply predict_child to all the midparent heights\n",
    "\n",
    "heights_with_predictions = heights.with_column(\n",
    "    'Prediction', heights.apply(predict_child, 'MidParent')\n",
    ")\n",
    "heights_with_predictions"
   ]
  },
  {
   "cell_type": "markdown",
   "metadata": {},
   "source": [
    "To see where the predictions lie relative to the observed data, we can draw overlaid scatter plots with MidParent as the common horizontal axis."
   ]
  },
  {
   "cell_type": "code",
   "execution_count": 49,
   "metadata": {},
   "outputs": [
    {
     "data": {
      "image/png": "[encoded data removed]",
      "text/plain": [
       "<Figure size 360x360 with 1 Axes>"
      ]
     },
     "metadata": {},
     "output_type": "display_data"
    }
   ],
   "source": [
    "heights_with_predictions.scatter('MidParent')"
   ]
  },
  {
   "cell_type": "markdown",
   "metadata": {},
   "source": [
    "The graph of gold dots is called a graph of averages, because each gold dot is the center of a vertical strip like the one we drew earlier. Each one provides a prediction of a child’s height given the midparent height. For example, the scatter shows that for a midparent height of 72 inches, the predicted height of the child would be somewhere between 68 inches and 69 inches, and indeed predict_child(72) returns 68.5.\n",
    "\n",
    "Galton’s calculations and visualizations were very similar to ours, except that he didn’t have Python. He drew the graph of averages through the scatter diagram and noticed that it roughly followed a straight line. This straight line is now called the **regression line** and is one of the most common methods of making predictions. Galton’s friend, the mathematician Karl Pearson, used these analyses to formalize the notion of correlation.\n",
    "\n",
    "This example, like the one about John Snow’s analysis of cholera deaths, shows how some of the fundamental concepts of modern data science have roots going back more than a century. Galton’s methods such as the one we have used here are precursors to nearest neighbor prediction methods that now have powerful applications in diverse settings. The modern field of machine learning includes the automation of such methods to make predictions based on vast and rapidly evolving datasets."
   ]
  }
 ],
 "metadata": {
  "kernelspec": {
   "display_name": "Python 3",
   "language": "python",
   "name": "python3"
  },
  "language_info": {
   "codemirror_mode": {
    "name": "ipython",
    "version": 3
   },
   "file_extension": ".py",
   "mimetype": "text/x-python",
   "name": "python",
   "nbconvert_exporter": "python",
   "pygments_lexer": "ipython3",
   "version": "3.7.0"
  }
 },
 "nbformat": 4,
 "nbformat_minor": 1
}
