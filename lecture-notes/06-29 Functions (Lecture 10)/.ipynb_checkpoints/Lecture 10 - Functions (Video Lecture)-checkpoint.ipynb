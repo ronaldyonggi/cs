{
 "cells": [
  {
   "cell_type": "code",
   "execution_count": 1,
   "metadata": {},
   "outputs": [],
   "source": [
    "from datascience import *\n",
    "import numpy as np\n",
    "%matplotlib inline\n",
    "import matplotlib.pyplot as plt\n",
    "plt.style.use('fivethirtyeight')\n",
    "\n",
    "from ipywidgets import interact, interactive, fixed, interact_manual\n",
    "import ipywidgets as widgets"
   ]
  },
  {
   "cell_type": "markdown",
   "metadata": {},
   "source": [
    "## Discussion Question\n",
    "This histogram describes a **year** of daily temperatures.\n",
    "<img src = 'temperature.jpg' width = 600 />\n",
    "\n",
    "Try to answer these questions:\n",
    "1. What proportion of days had a high temp in the range 60-69?\n",
    "\n",
    "    * On range 60-70 of the high (yellow bars), the height of the bar is about 4.8. Thus, the area is (70-60) * 4.8 = 48%\n",
    "    \n",
    "    \n",
    "2. What proportion had a low of 45 or more?\n",
    "\n",
    "    * Notice that we can easily calculate this calculating the area of the bars on 45 and below, then subtract 100% with the computed area\n",
    "        * Compute the area of the bars that corresponds to blue bars that are 45 and less\n",
    "            * (0.1 * 5) + (0.6 * 5) + (2 * 5) = 13.5 %\n",
    "        * 100% - 13.5 % = 86.5%\n",
    "    \n",
    "    \n",
    "3. How many days had a difference of more than 20 degrees between their high & low temperatures?\n",
    "    * This histogram can't answer that question. The histogram only shows that the lows and highs are around certain temperature range and the frequency in a year"
   ]
  },
  {
   "cell_type": "markdown",
   "metadata": {},
   "source": [
    "# Defining Functions\n",
    "In this class, we have used so many functions (e.g. `max`, `min`, `abs`). These are built-in functions that are readily available for us to use. However, it would be convenient if we can make our own function. Indeed we can!\n",
    "\n",
    "For recap, below are examples of Python built-in functions,"
   ]
  },
  {
   "cell_type": "code",
   "execution_count": 2,
   "metadata": {},
   "outputs": [
    {
     "data": {
      "text/plain": [
       "2"
      ]
     },
     "execution_count": 2,
     "metadata": {},
     "output_type": "execute_result"
    }
   ],
   "source": [
    "abs(-2)"
   ]
  },
  {
   "cell_type": "code",
   "execution_count": 3,
   "metadata": {},
   "outputs": [
    {
     "data": {
      "text/plain": [
       "3"
      ]
     },
     "execution_count": 3,
     "metadata": {},
     "output_type": "execute_result"
    }
   ],
   "source": [
    "max(1, 2, 3)"
   ]
  },
  {
   "cell_type": "markdown",
   "metadata": {},
   "source": [
    "Now let's say we want to convert numbers from Celsius to Fahrenheit. Below we convert the boiling point of water, 100 Celsius, to Fahrenheit."
   ]
  },
  {
   "cell_type": "code",
   "execution_count": 4,
   "metadata": {},
   "outputs": [
    {
     "data": {
      "text/plain": [
       "212.0"
      ]
     },
     "execution_count": 4,
     "metadata": {},
     "output_type": "execute_result"
    }
   ],
   "source": [
    "100 * (9/5) + 32"
   ]
  },
  {
   "cell_type": "markdown",
   "metadata": {},
   "source": [
    "And below we convert the freezing point of water, 0 Celsius, to Fahrenheit."
   ]
  },
  {
   "cell_type": "code",
   "execution_count": 5,
   "metadata": {},
   "outputs": [
    {
     "data": {
      "text/plain": [
       "32.0"
      ]
     },
     "execution_count": 5,
     "metadata": {},
     "output_type": "execute_result"
    }
   ],
   "source": [
    "0 * (9/5) + 32"
   ]
  },
  {
   "cell_type": "markdown",
   "metadata": {},
   "source": [
    "However, if we want to convert a bunch of other temperatures, it would become repetitive! This is where defining our own function becomes useful: to avoid repetition and make our job faster! Below we define our own function for converting Celsius to Fahrenheit."
   ]
  },
  {
   "cell_type": "code",
   "execution_count": 6,
   "metadata": {},
   "outputs": [],
   "source": [
    "def fahrenheit(x):\n",
    "    return x * (9/5) + 32"
   ]
  },
  {
   "cell_type": "markdown",
   "metadata": {},
   "source": [
    "Below we will try the function on some values."
   ]
  },
  {
   "cell_type": "code",
   "execution_count": 7,
   "metadata": {},
   "outputs": [
    {
     "data": {
      "text/plain": [
       "212.0"
      ]
     },
     "execution_count": 7,
     "metadata": {},
     "output_type": "execute_result"
    }
   ],
   "source": [
    "fahrenheit(100)"
   ]
  },
  {
   "cell_type": "code",
   "execution_count": 8,
   "metadata": {},
   "outputs": [
    {
     "data": {
      "text/plain": [
       "89.6"
      ]
     },
     "execution_count": 8,
     "metadata": {},
     "output_type": "execute_result"
    }
   ],
   "source": [
    "fahrenheit(32)"
   ]
  },
  {
   "cell_type": "markdown",
   "metadata": {},
   "source": [
    "## Def Statements\n",
    "User defined functions give names to blocks of code. Below is the anatomy of a function.\n",
    "<img src = 'function.jpg' width = 500/>\n",
    "This function `spread` takes in an input `values` and returns the `return expression`."
   ]
  },
  {
   "cell_type": "markdown",
   "metadata": {},
   "source": [
    "We can create a variable and use a function to process that variable,"
   ]
  },
  {
   "cell_type": "code",
   "execution_count": 9,
   "metadata": {},
   "outputs": [
    {
     "data": {
      "text/plain": [
       "77.0"
      ]
     },
     "execution_count": 9,
     "metadata": {},
     "output_type": "execute_result"
    }
   ],
   "source": [
    "y = 100\n",
    "fahrenheit(y/4)"
   ]
  },
  {
   "cell_type": "markdown",
   "metadata": {},
   "source": [
    "If we try to see the value of `x`, we will come across an error!"
   ]
  },
  {
   "cell_type": "code",
   "execution_count": 10,
   "metadata": {},
   "outputs": [
    {
     "ename": "NameError",
     "evalue": "name 'x' is not defined",
     "output_type": "error",
     "traceback": [
      "\u001b[1;31m--------------------------------------------------------------------\u001b[0m",
      "\u001b[1;31mNameError\u001b[0m                          Traceback (most recent call last)",
      "\u001b[1;32m<ipython-input-10-6fcf9dfbd479>\u001b[0m in \u001b[0;36m<module>\u001b[1;34m\u001b[0m\n\u001b[1;32m----> 1\u001b[1;33m \u001b[0mx\u001b[0m\u001b[1;33m\u001b[0m\u001b[1;33m\u001b[0m\u001b[0m\n\u001b[0m",
      "\u001b[1;31mNameError\u001b[0m: name 'x' is not defined"
     ]
    }
   ],
   "source": [
    "x"
   ]
  },
  {
   "cell_type": "markdown",
   "metadata": {},
   "source": [
    "But we used `x` just fine in the `Fahrenheit` function! What happened?\n",
    "\n",
    "When we defined `x` in the function, the `x` is only defined **inside the function**. `x` is not defined **outside the function**.\n",
    "\n",
    "However, if we do the following,"
   ]
  },
  {
   "cell_type": "code",
   "execution_count": null,
   "metadata": {},
   "outputs": [],
   "source": [
    "x = 25\n",
    "fahrenheit(x)"
   ]
  },
  {
   "cell_type": "code",
   "execution_count": null,
   "metadata": {},
   "outputs": [],
   "source": [
    "x"
   ]
  },
  {
   "cell_type": "markdown",
   "metadata": {},
   "source": [
    "Above, we defined `x` outside the function.\n",
    "\n",
    "Now what if we change the definition of the function so it would become the following?"
   ]
  },
  {
   "cell_type": "code",
   "execution_count": null,
   "metadata": {},
   "outputs": [],
   "source": [
    "def fahrenheit(x):\n",
    "    x = 10\n",
    "    return x * (9/5) + 32"
   ]
  },
  {
   "cell_type": "code",
   "execution_count": null,
   "metadata": {},
   "outputs": [],
   "source": [
    "fahrenheit(x)"
   ]
  },
  {
   "cell_type": "code",
   "execution_count": null,
   "metadata": {},
   "outputs": [],
   "source": [
    "fahrenheit(100)"
   ]
  },
  {
   "cell_type": "code",
   "execution_count": null,
   "metadata": {},
   "outputs": [],
   "source": [
    "fahrenheit(3)"
   ]
  },
  {
   "cell_type": "markdown",
   "metadata": {},
   "source": [
    "Why is the output the same?\n",
    "\n",
    "This is because in the `Fahrenheit` function, we redefined `x` to be 10. This means regardless of the input, the `x` value used in the computation will be 10. This does not change the definition of `x` outside the function."
   ]
  },
  {
   "cell_type": "markdown",
   "metadata": {},
   "source": [
    "## Discussion Question\n",
    "1. What does this function do?\n",
    "2. What kind of input does it take?\n",
    "3. What output will it give?\n",
    "4. What's a reasonable name for the function?\n",
    "<img src = 'what_function.jpg' width = 600/>\n",
    "\n",
    "#### Answer:\n",
    "1. It converts an array of numbers into percentage from the sum of the numbers in the array\n",
    "2. It takes an array of numbers\n",
    "3. It outputs an array of numbers\n",
    "4. Percents"
   ]
  },
  {
   "cell_type": "markdown",
   "metadata": {},
   "source": [
    "Rule of thumb in coding is, know when to write functions. If we know that we are repeating the same activity multiple times, then chances are it would be a good idea to write a function. However, if we only do something once or twice, we don't need to write a function for that.\n",
    "\n",
    "Let's say we have an array `counts`,"
   ]
  },
  {
   "cell_type": "code",
   "execution_count": null,
   "metadata": {},
   "outputs": [],
   "source": [
    "counts = make_array(1, 2, 3)"
   ]
  },
  {
   "cell_type": "markdown",
   "metadata": {},
   "source": [
    "If we want to know, from each number in `counts` how much % they are from the total,"
   ]
  },
  {
   "cell_type": "code",
   "execution_count": null,
   "metadata": {},
   "outputs": [],
   "source": [
    "total = counts.sum()\n",
    "total"
   ]
  },
  {
   "cell_type": "markdown",
   "metadata": {},
   "source": [
    "We can calculate the proportion by dividing the array with the total,"
   ]
  },
  {
   "cell_type": "code",
   "execution_count": null,
   "metadata": {},
   "outputs": [],
   "source": [
    "counts / total"
   ]
  },
  {
   "cell_type": "markdown",
   "metadata": {},
   "source": [
    "We can round the result to 2 decimal places!"
   ]
  },
  {
   "cell_type": "code",
   "execution_count": null,
   "metadata": {
    "scrolled": true
   },
   "outputs": [],
   "source": [
    "np.round(counts / total, 2)"
   ]
  },
  {
   "cell_type": "markdown",
   "metadata": {},
   "source": [
    "We can make a function out of the steps above,"
   ]
  },
  {
   "cell_type": "code",
   "execution_count": null,
   "metadata": {},
   "outputs": [],
   "source": [
    "def percents(counts):\n",
    "    \"\"\" Converts counts to percents out of the total. \"\"\"\n",
    "    total = counts.sum()\n",
    "    return np.round(counts / total * 100, 2)"
   ]
  },
  {
   "cell_type": "code",
   "execution_count": null,
   "metadata": {},
   "outputs": [],
   "source": [
    "percents(make_array(2, 4, 6))"
   ]
  },
  {
   "cell_type": "markdown",
   "metadata": {},
   "source": [
    "Notice the line with 3 single quotes in read, this is a `docstring` (documentation string). `docstring` works like a comment, so it is not part of the code. It is useful to describe what a function does.\n",
    "\n",
    "In the function above, we defined the function so that the output would be in 2 decimal places. If we want to define our own decimal places, we can set the decimal place as another argument."
   ]
  },
  {
   "cell_type": "code",
   "execution_count": null,
   "metadata": {},
   "outputs": [],
   "source": [
    "def percents(counts, decimal_places):\n",
    "    \"\"\" Converts counts to percents out of the total. \"\"\"\n",
    "    total = counts.sum()\n",
    "    return np.round(counts / total * 100, decimal_places)"
   ]
  },
  {
   "cell_type": "code",
   "execution_count": null,
   "metadata": {},
   "outputs": [],
   "source": [
    "percents(make_array(2, 4, 6), 1)"
   ]
  },
  {
   "cell_type": "markdown",
   "metadata": {},
   "source": [
    "Now, if we try to call the `percent` function the previous way,"
   ]
  },
  {
   "cell_type": "code",
   "execution_count": null,
   "metadata": {},
   "outputs": [],
   "source": [
    "percents(make_array(2, 4, 6))"
   ]
  },
  {
   "cell_type": "markdown",
   "metadata": {},
   "source": [
    "We got an error message! We are missing a required argument `decimal_places`!\n",
    "\n",
    "We can give a default argument `2` to the argument `decimal_places` so that if we don't use the second argument when calling the function `percents`, Python will use the default argument."
   ]
  },
  {
   "cell_type": "code",
   "execution_count": null,
   "metadata": {},
   "outputs": [],
   "source": [
    "def percents(counts, decimal_places = 2):\n",
    "    \"\"\" Converts counts to percents out of the total. \"\"\"\n",
    "    total = counts.sum()\n",
    "    return np.round(counts / total * 100, decimal_places)"
   ]
  },
  {
   "cell_type": "markdown",
   "metadata": {},
   "source": [
    "This is similar to when we used the function `sort`,"
   ]
  },
  {
   "cell_type": "code",
   "execution_count": null,
   "metadata": {},
   "outputs": [],
   "source": [
    "Table().sort(descending = True)"
   ]
  },
  {
   "cell_type": "markdown",
   "metadata": {},
   "source": [
    "The `descending = True` part is called the default argument."
   ]
  },
  {
   "cell_type": "markdown",
   "metadata": {},
   "source": [
    "## Brief Aside: `interact`\n",
    "\n",
    "We can use the `interact` function to use a function interactively. The function `interact` takes in a function and a default value. In the example, we will use the `fahrenheit` function interactively,"
   ]
  },
  {
   "cell_type": "code",
   "execution_count": null,
   "metadata": {},
   "outputs": [],
   "source": [
    "def fahrenheit(x):\n",
    "    return x * (9/5) + 32"
   ]
  },
  {
   "cell_type": "code",
   "execution_count": null,
   "metadata": {},
   "outputs": [],
   "source": [
    "_ = interact(fahrenheit, x = 50)"
   ]
  },
  {
   "cell_type": "markdown",
   "metadata": {},
   "source": [
    "Note that the `interact` function doesn't work on all functions. "
   ]
  },
  {
   "cell_type": "markdown",
   "metadata": {},
   "source": [
    "# Apply\n",
    "Let's say we have a table with columns. If we want to call a function to all the values in a column (e.g. we have a column of temperatures in Celsius and we want to convert all the temperatures to Fahrenheit), we can use the `apply` method.\n",
    "\n",
    "The `apply` method creates an array by calling a function on every element in input column(s). The first argument of `apply` is the function we want to use, while the other argument is the input column(s).\n",
    "\n",
    "## Demo\n",
    "The function `cut_off_at_a_billion` takes in a value and return the smaller between that value and 1 billion."
   ]
  },
  {
   "cell_type": "code",
   "execution_count": 14,
   "metadata": {},
   "outputs": [],
   "source": [
    "def cut_off_at_a_billion(x):\n",
    "    \"\"\" The smaller of x and 1,000,000,000 \"\"\"\n",
    "    return min(x, 1e9)"
   ]
  },
  {
   "cell_type": "code",
   "execution_count": null,
   "metadata": {},
   "outputs": [],
   "source": [
    "cut_off_at_a_billion(123)"
   ]
  },
  {
   "cell_type": "code",
   "execution_count": null,
   "metadata": {},
   "outputs": [],
   "source": [
    "cut_off_at_a_billion(1230000000000000)"
   ]
  },
  {
   "cell_type": "markdown",
   "metadata": {},
   "source": [
    "Now we'll go back to the `top` grossing movies table. This time, we filter the table so that we will only see the movies released by Fox studio."
   ]
  },
  {
   "cell_type": "code",
   "execution_count": 12,
   "metadata": {},
   "outputs": [
    {
     "data": {
      "text/html": [
       "<table border=\"1\" class=\"dataframe\">\n",
       "    <thead>\n",
       "        <tr>\n",
       "            <th>Title</th> <th>Studio</th> <th>Gross</th> <th>Gross (Adjusted)</th> <th>Year</th>\n",
       "        </tr>\n",
       "    </thead>\n",
       "    <tbody>\n",
       "        <tr>\n",
       "            <td>Avatar                                      </td> <td>Fox   </td> <td>760507625</td> <td>846120800       </td> <td>2009</td>\n",
       "        </tr>\n",
       "        <tr>\n",
       "            <td>Star Wars: Episode I - The Phantom Menace   </td> <td>Fox   </td> <td>474544677</td> <td>785715000       </td> <td>1999</td>\n",
       "        </tr>\n",
       "        <tr>\n",
       "            <td>Star Wars                                   </td> <td>Fox   </td> <td>460998007</td> <td>1549640500      </td> <td>1977</td>\n",
       "        </tr>\n",
       "        <tr>\n",
       "            <td>Star Wars: Episode III - Revenge of the Sith</td> <td>Fox   </td> <td>380270577</td> <td>516123900       </td> <td>2005</td>\n",
       "        </tr>\n",
       "        <tr>\n",
       "            <td>Star Wars: Episode II - Attack of the Clones</td> <td>Fox   </td> <td>310676740</td> <td>465175700       </td> <td>2002</td>\n",
       "        </tr>\n",
       "        <tr>\n",
       "            <td>Return of the Jedi                          </td> <td>Fox   </td> <td>309306177</td> <td>818316900       </td> <td>1983</td>\n",
       "        </tr>\n",
       "        <tr>\n",
       "            <td>Independence Day                            </td> <td>Fox   </td> <td>306169268</td> <td>602639200       </td> <td>1996</td>\n",
       "        </tr>\n",
       "        <tr>\n",
       "            <td>The Empire Strikes Back                     </td> <td>Fox   </td> <td>290475067</td> <td>854171500       </td> <td>1980</td>\n",
       "        </tr>\n",
       "        <tr>\n",
       "            <td>Home Alone                                  </td> <td>Fox   </td> <td>285761243</td> <td>589287500       </td> <td>1990</td>\n",
       "        </tr>\n",
       "        <tr>\n",
       "            <td>Night at the Museum                         </td> <td>Fox   </td> <td>250863268</td> <td>322261900       </td> <td>2006</td>\n",
       "        </tr>\n",
       "    </tbody>\n",
       "</table>\n",
       "<p>... (16 rows omitted)</p>"
      ],
      "text/plain": [
       "Title                                        | Studio | Gross     | Gross (Adjusted) | Year\n",
       "Avatar                                       | Fox    | 760507625 | 846120800        | 2009\n",
       "Star Wars: Episode I - The Phantom Menace    | Fox    | 474544677 | 785715000        | 1999\n",
       "Star Wars                                    | Fox    | 460998007 | 1549640500       | 1977\n",
       "Star Wars: Episode III - Revenge of the Sith | Fox    | 380270577 | 516123900        | 2005\n",
       "Star Wars: Episode II - Attack of the Clones | Fox    | 310676740 | 465175700        | 2002\n",
       "Return of the Jedi                           | Fox    | 309306177 | 818316900        | 1983\n",
       "Independence Day                             | Fox    | 306169268 | 602639200        | 1996\n",
       "The Empire Strikes Back                      | Fox    | 290475067 | 854171500        | 1980\n",
       "Home Alone                                   | Fox    | 285761243 | 589287500        | 1990\n",
       "Night at the Museum                          | Fox    | 250863268 | 322261900        | 2006\n",
       "... (16 rows omitted)"
      ]
     },
     "execution_count": 12,
     "metadata": {},
     "output_type": "execute_result"
    }
   ],
   "source": [
    "top = Table.read_table('top_movies.csv').where('Studio', 'Fox')\n",
    "top"
   ]
  },
  {
   "cell_type": "markdown",
   "metadata": {},
   "source": [
    "If we want to try to use the function on adjusted gross, we might think of calling the function `cut_off_at_a_billion` and use the whole column as the input argument,"
   ]
  },
  {
   "cell_type": "code",
   "execution_count": null,
   "metadata": {},
   "outputs": [],
   "source": [
    "cut_off_at_a_billion(top.column(3))"
   ]
  },
  {
   "cell_type": "markdown",
   "metadata": {},
   "source": [
    "However, this won't work because the data type expected by the function doesn't match the data type we give as the argument. The function expects an integer, but we give an array instead! \n",
    "\n",
    "The way we do this is to use the `apply` function,"
   ]
  },
  {
   "cell_type": "code",
   "execution_count": 15,
   "metadata": {},
   "outputs": [
    {
     "data": {
      "text/plain": [
       "array([8.461208e+08, 7.857150e+08, 1.000000e+09, 5.161239e+08,\n",
       "       4.651757e+08, 8.183169e+08, 6.026392e+08, 8.541715e+08,\n",
       "       5.892875e+08, 3.222619e+08, 3.644795e+08, 4.583541e+08,\n",
       "       3.260640e+08, 3.640914e+08, 1.000000e+09, 5.339683e+08,\n",
       "       4.791040e+08, 3.281829e+08, 3.340622e+08, 6.138533e+08,\n",
       "       3.971312e+08, 4.776471e+08, 4.670526e+08, 3.465955e+08,\n",
       "       5.844961e+08, 5.694545e+08])"
      ]
     },
     "execution_count": 15,
     "metadata": {},
     "output_type": "execute_result"
    }
   ],
   "source": [
    "top.apply(cut_off_at_a_billion, 'Gross (Adjusted)')"
   ]
  },
  {
   "cell_type": "markdown",
   "metadata": {},
   "source": [
    "We get back an array of the return values! Now we can add a column to the original table with this array!"
   ]
  },
  {
   "cell_type": "code",
   "execution_count": 16,
   "metadata": {},
   "outputs": [
    {
     "data": {
      "text/html": [
       "<table border=\"1\" class=\"dataframe\">\n",
       "    <thead>\n",
       "        <tr>\n",
       "            <th>Title</th> <th>Studio</th> <th>Gross</th> <th>Gross (Adjusted)</th> <th>Year</th> <th>Cut Off</th>\n",
       "        </tr>\n",
       "    </thead>\n",
       "    <tbody>\n",
       "        <tr>\n",
       "            <td>Avatar                                      </td> <td>Fox   </td> <td>760507625</td> <td>846120800       </td> <td>2009</td> <td>8.46121e+08</td>\n",
       "        </tr>\n",
       "        <tr>\n",
       "            <td>Star Wars: Episode I - The Phantom Menace   </td> <td>Fox   </td> <td>474544677</td> <td>785715000       </td> <td>1999</td> <td>7.85715e+08</td>\n",
       "        </tr>\n",
       "        <tr>\n",
       "            <td>Star Wars                                   </td> <td>Fox   </td> <td>460998007</td> <td>1549640500      </td> <td>1977</td> <td>1e+09      </td>\n",
       "        </tr>\n",
       "        <tr>\n",
       "            <td>Star Wars: Episode III - Revenge of the Sith</td> <td>Fox   </td> <td>380270577</td> <td>516123900       </td> <td>2005</td> <td>5.16124e+08</td>\n",
       "        </tr>\n",
       "        <tr>\n",
       "            <td>Star Wars: Episode II - Attack of the Clones</td> <td>Fox   </td> <td>310676740</td> <td>465175700       </td> <td>2002</td> <td>4.65176e+08</td>\n",
       "        </tr>\n",
       "        <tr>\n",
       "            <td>Return of the Jedi                          </td> <td>Fox   </td> <td>309306177</td> <td>818316900       </td> <td>1983</td> <td>8.18317e+08</td>\n",
       "        </tr>\n",
       "        <tr>\n",
       "            <td>Independence Day                            </td> <td>Fox   </td> <td>306169268</td> <td>602639200       </td> <td>1996</td> <td>6.02639e+08</td>\n",
       "        </tr>\n",
       "        <tr>\n",
       "            <td>The Empire Strikes Back                     </td> <td>Fox   </td> <td>290475067</td> <td>854171500       </td> <td>1980</td> <td>8.54172e+08</td>\n",
       "        </tr>\n",
       "        <tr>\n",
       "            <td>Home Alone                                  </td> <td>Fox   </td> <td>285761243</td> <td>589287500       </td> <td>1990</td> <td>5.89288e+08</td>\n",
       "        </tr>\n",
       "        <tr>\n",
       "            <td>Night at the Museum                         </td> <td>Fox   </td> <td>250863268</td> <td>322261900       </td> <td>2006</td> <td>3.22262e+08</td>\n",
       "        </tr>\n",
       "    </tbody>\n",
       "</table>\n",
       "<p>... (16 rows omitted)</p>"
      ],
      "text/plain": [
       "Title                                        | Studio | Gross     | Gross (Adjusted) | Year | Cut Off\n",
       "Avatar                                       | Fox    | 760507625 | 846120800        | 2009 | 8.46121e+08\n",
       "Star Wars: Episode I - The Phantom Menace    | Fox    | 474544677 | 785715000        | 1999 | 7.85715e+08\n",
       "Star Wars                                    | Fox    | 460998007 | 1549640500       | 1977 | 1e+09\n",
       "Star Wars: Episode III - Revenge of the Sith | Fox    | 380270577 | 516123900        | 2005 | 5.16124e+08\n",
       "Star Wars: Episode II - Attack of the Clones | Fox    | 310676740 | 465175700        | 2002 | 4.65176e+08\n",
       "Return of the Jedi                           | Fox    | 309306177 | 818316900        | 1983 | 8.18317e+08\n",
       "Independence Day                             | Fox    | 306169268 | 602639200        | 1996 | 6.02639e+08\n",
       "The Empire Strikes Back                      | Fox    | 290475067 | 854171500        | 1980 | 8.54172e+08\n",
       "Home Alone                                   | Fox    | 285761243 | 589287500        | 1990 | 5.89288e+08\n",
       "Night at the Museum                          | Fox    | 250863268 | 322261900        | 2006 | 3.22262e+08\n",
       "... (16 rows omitted)"
      ]
     },
     "execution_count": 16,
     "metadata": {},
     "output_type": "execute_result"
    }
   ],
   "source": [
    "cut_off = top.apply(cut_off_at_a_billion, 'Gross (Adjusted)')\n",
    "top.with_column('Cut Off', cut_off)"
   ]
  },
  {
   "cell_type": "markdown",
   "metadata": {},
   "source": [
    "Notice that when we used the function normally, we pass in an argument. However, when we use the `apply` method, we don't pass in arguments at all; we only pass in the name of the function."
   ]
  },
  {
   "cell_type": "code",
   "execution_count": 17,
   "metadata": {},
   "outputs": [
    {
     "data": {
      "text/plain": [
       "<function __main__.cut_off_at_a_billion(x)>"
      ]
     },
     "execution_count": 17,
     "metadata": {},
     "output_type": "execute_result"
    }
   ],
   "source": [
    "cut_off_at_a_billion"
   ]
  },
  {
   "cell_type": "markdown",
   "metadata": {},
   "source": [
    "# Example: Prediction\n",
    "We are going to do our first example of prediction.\n",
    "<img src = 'galton.jpg' width = 300\\>\n",
    "Sir Francis Galton is an English scientist from the year 1822-1911 (knighted in 1909). He was the pioneer of making predictions, which is using the data that were available to make predictions about what would happen in the future. He was particularly interested in heredity. He was also Charles Darwin's half cousin.\n",
    "\n",
    "Below we have Galton's data about the height of children in various families.\n",
    "\n",
    "1. In the `family` column, each number corresponds to the same family. This means the 4 rows of `family` 1 belongs to the same family."
   ]
  },
  {
   "cell_type": "code",
   "execution_count": 18,
   "metadata": {},
   "outputs": [
    {
     "data": {
      "text/html": [
       "<table border=\"1\" class=\"dataframe\">\n",
       "    <thead>\n",
       "        <tr>\n",
       "            <th>family</th> <th>father</th> <th>mother</th> <th>midparentHeight</th> <th>children</th> <th>childNum</th> <th>gender</th> <th>childHeight</th>\n",
       "        </tr>\n",
       "    </thead>\n",
       "    <tbody>\n",
       "        <tr>\n",
       "            <td>1     </td> <td>78.5  </td> <td>67    </td> <td>75.43          </td> <td>4       </td> <td>1       </td> <td>male  </td> <td>73.2       </td>\n",
       "        </tr>\n",
       "        <tr>\n",
       "            <td>1     </td> <td>78.5  </td> <td>67    </td> <td>75.43          </td> <td>4       </td> <td>2       </td> <td>female</td> <td>69.2       </td>\n",
       "        </tr>\n",
       "        <tr>\n",
       "            <td>1     </td> <td>78.5  </td> <td>67    </td> <td>75.43          </td> <td>4       </td> <td>3       </td> <td>female</td> <td>69         </td>\n",
       "        </tr>\n",
       "        <tr>\n",
       "            <td>1     </td> <td>78.5  </td> <td>67    </td> <td>75.43          </td> <td>4       </td> <td>4       </td> <td>female</td> <td>69         </td>\n",
       "        </tr>\n",
       "        <tr>\n",
       "            <td>2     </td> <td>75.5  </td> <td>66.5  </td> <td>73.66          </td> <td>4       </td> <td>1       </td> <td>male  </td> <td>73.5       </td>\n",
       "        </tr>\n",
       "        <tr>\n",
       "            <td>2     </td> <td>75.5  </td> <td>66.5  </td> <td>73.66          </td> <td>4       </td> <td>2       </td> <td>male  </td> <td>72.5       </td>\n",
       "        </tr>\n",
       "        <tr>\n",
       "            <td>2     </td> <td>75.5  </td> <td>66.5  </td> <td>73.66          </td> <td>4       </td> <td>3       </td> <td>female</td> <td>65.5       </td>\n",
       "        </tr>\n",
       "        <tr>\n",
       "            <td>2     </td> <td>75.5  </td> <td>66.5  </td> <td>73.66          </td> <td>4       </td> <td>4       </td> <td>female</td> <td>65.5       </td>\n",
       "        </tr>\n",
       "        <tr>\n",
       "            <td>3     </td> <td>75    </td> <td>64    </td> <td>72.06          </td> <td>2       </td> <td>1       </td> <td>male  </td> <td>71         </td>\n",
       "        </tr>\n",
       "        <tr>\n",
       "            <td>3     </td> <td>75    </td> <td>64    </td> <td>72.06          </td> <td>2       </td> <td>2       </td> <td>female</td> <td>68         </td>\n",
       "        </tr>\n",
       "    </tbody>\n",
       "</table>\n",
       "<p>... (924 rows omitted)</p>"
      ],
      "text/plain": [
       "family | father | mother | midparentHeight | children | childNum | gender | childHeight\n",
       "1      | 78.5   | 67     | 75.43           | 4        | 1        | male   | 73.2\n",
       "1      | 78.5   | 67     | 75.43           | 4        | 2        | female | 69.2\n",
       "1      | 78.5   | 67     | 75.43           | 4        | 3        | female | 69\n",
       "1      | 78.5   | 67     | 75.43           | 4        | 4        | female | 69\n",
       "2      | 75.5   | 66.5   | 73.66           | 4        | 1        | male   | 73.5\n",
       "2      | 75.5   | 66.5   | 73.66           | 4        | 2        | male   | 72.5\n",
       "2      | 75.5   | 66.5   | 73.66           | 4        | 3        | female | 65.5\n",
       "2      | 75.5   | 66.5   | 73.66           | 4        | 4        | female | 65.5\n",
       "3      | 75     | 64     | 72.06           | 2        | 1        | male   | 71\n",
       "3      | 75     | 64     | 72.06           | 2        | 2        | female | 68\n",
       "... (924 rows omitted)"
      ]
     },
     "execution_count": 18,
     "metadata": {},
     "output_type": "execute_result"
    }
   ],
   "source": [
    "galton = Table.read_table('galton.csv')\n",
    "galton"
   ]
  },
  {
   "cell_type": "markdown",
   "metadata": {},
   "source": [
    "We can compare the parents' height and the children's height using an overlay histogram,"
   ]
  },
  {
   "cell_type": "code",
   "execution_count": 20,
   "metadata": {},
   "outputs": [
    {
     "data": {
      "image/png": "[encoded data removed]",
      "text/plain": [
       "<Figure size 432x288 with 1 Axes>"
      ]
     },
     "metadata": {},
     "output_type": "display_data"
    }
   ],
   "source": [
    "galton.hist('father', 'mother', 'childHeight')"
   ]
  },
  {
   "cell_type": "markdown",
   "metadata": {},
   "source": [
    "Notice that there were father's bars and mother's bars that are significantly higher than the children's bars. Why is that?\n",
    "\n",
    "If we look at `galton` table once again, we will see multiple height duplicates of `father` and `mother` because they are in the same family. This explains a large density of fathers and mothers' height on certain values. \n",
    "\n",
    "The `midparentHeight` is the height average between the 2 parents. Below we are comparing the `midparentHeight` and `childHeight`."
   ]
  },
  {
   "cell_type": "code",
   "execution_count": 23,
   "metadata": {},
   "outputs": [
    {
     "data": {
      "text/html": [
       "<table border=\"1\" class=\"dataframe\">\n",
       "    <thead>\n",
       "        <tr>\n",
       "            <th>MidParent</th> <th>Child</th>\n",
       "        </tr>\n",
       "    </thead>\n",
       "    <tbody>\n",
       "        <tr>\n",
       "            <td>75.43    </td> <td>73.2 </td>\n",
       "        </tr>\n",
       "        <tr>\n",
       "            <td>75.43    </td> <td>69.2 </td>\n",
       "        </tr>\n",
       "        <tr>\n",
       "            <td>75.43    </td> <td>69   </td>\n",
       "        </tr>\n",
       "        <tr>\n",
       "            <td>75.43    </td> <td>69   </td>\n",
       "        </tr>\n",
       "        <tr>\n",
       "            <td>73.66    </td> <td>73.5 </td>\n",
       "        </tr>\n",
       "        <tr>\n",
       "            <td>73.66    </td> <td>72.5 </td>\n",
       "        </tr>\n",
       "        <tr>\n",
       "            <td>73.66    </td> <td>65.5 </td>\n",
       "        </tr>\n",
       "        <tr>\n",
       "            <td>73.66    </td> <td>65.5 </td>\n",
       "        </tr>\n",
       "        <tr>\n",
       "            <td>72.06    </td> <td>71   </td>\n",
       "        </tr>\n",
       "        <tr>\n",
       "            <td>72.06    </td> <td>68   </td>\n",
       "        </tr>\n",
       "    </tbody>\n",
       "</table>\n",
       "<p>... (924 rows omitted)</p>"
      ],
      "text/plain": [
       "MidParent | Child\n",
       "75.43     | 73.2\n",
       "75.43     | 69.2\n",
       "75.43     | 69\n",
       "75.43     | 69\n",
       "73.66     | 73.5\n",
       "73.66     | 72.5\n",
       "73.66     | 65.5\n",
       "73.66     | 65.5\n",
       "72.06     | 71\n",
       "72.06     | 68\n",
       "... (924 rows omitted)"
      ]
     },
     "execution_count": 23,
     "metadata": {},
     "output_type": "execute_result"
    }
   ],
   "source": [
    "heights = galton.select('midparentHeight', 'childHeight').relabeled('midparentHeight', 'MidParent').relabeled('childHeight', 'Child')\n",
    "heights"
   ]
  },
  {
   "cell_type": "markdown",
   "metadata": {},
   "source": [
    "And we can make a scatter plot to visualize the data,"
   ]
  },
  {
   "cell_type": "code",
   "execution_count": 24,
   "metadata": {},
   "outputs": [
    {
     "data": {
      "image/png": "[encoded data removed]",
      "text/plain": [
       "<Figure size 360x360 with 1 Axes>"
      ]
     },
     "metadata": {},
     "output_type": "display_data"
    }
   ],
   "source": [
    "heights.scatter('MidParent')"
   ]
  },
  {
   "cell_type": "markdown",
   "metadata": {},
   "source": [
    "It appears that there is a linear correlation betwwen the `Child` height and the `MidParent` height: As the `MidParent` height increases, the `Child` height increases. How do we make predictions out of this visualization?\n",
    "\n",
    "Generally we would use regression line, but in this case we will use another method. Let's say we want to predict the height of `Child` when the height of `MidParent` is 68. We can take a slice of the data around 68 and find the average `Child` height around that area.\n",
    "\n",
    "First we will take a part of the desired data and name it `close_to_68`,"
   ]
  },
  {
   "cell_type": "code",
   "execution_count": 27,
   "metadata": {},
   "outputs": [
    {
     "data": {
      "text/html": [
       "<table border=\"1\" class=\"dataframe\">\n",
       "    <thead>\n",
       "        <tr>\n",
       "            <th>MidParent</th> <th>Child</th>\n",
       "        </tr>\n",
       "    </thead>\n",
       "    <tbody>\n",
       "        <tr>\n",
       "            <td>68.44    </td> <td>62   </td>\n",
       "        </tr>\n",
       "        <tr>\n",
       "            <td>67.94    </td> <td>71.2 </td>\n",
       "        </tr>\n",
       "        <tr>\n",
       "            <td>67.94    </td> <td>67   </td>\n",
       "        </tr>\n",
       "        <tr>\n",
       "            <td>68.33    </td> <td>62.5 </td>\n",
       "        </tr>\n",
       "        <tr>\n",
       "            <td>68.23    </td> <td>73   </td>\n",
       "        </tr>\n",
       "        <tr>\n",
       "            <td>68.23    </td> <td>72   </td>\n",
       "        </tr>\n",
       "        <tr>\n",
       "            <td>68.23    </td> <td>69   </td>\n",
       "        </tr>\n",
       "        <tr>\n",
       "            <td>67.98    </td> <td>73   </td>\n",
       "        </tr>\n",
       "        <tr>\n",
       "            <td>67.98    </td> <td>71   </td>\n",
       "        </tr>\n",
       "        <tr>\n",
       "            <td>67.98    </td> <td>71   </td>\n",
       "        </tr>\n",
       "    </tbody>\n",
       "</table>\n",
       "<p>... (121 rows omitted)</p>"
      ],
      "text/plain": [
       "MidParent | Child\n",
       "68.44     | 62\n",
       "67.94     | 71.2\n",
       "67.94     | 67\n",
       "68.33     | 62.5\n",
       "68.23     | 73\n",
       "68.23     | 72\n",
       "68.23     | 69\n",
       "67.98     | 73\n",
       "67.98     | 71\n",
       "67.98     | 71\n",
       "... (121 rows omitted)"
      ]
     },
     "execution_count": 27,
     "metadata": {},
     "output_type": "execute_result"
    }
   ],
   "source": [
    "close_to_68 = heights.where('MidParent', are.between(67.5, 68.5))\n",
    "close_to_68"
   ]
  },
  {
   "cell_type": "markdown",
   "metadata": {},
   "source": [
    "Then we can take the average of the `Child` height from the data above,"
   ]
  },
  {
   "cell_type": "code",
   "execution_count": 29,
   "metadata": {},
   "outputs": [
    {
     "data": {
      "text/plain": [
       "66.24045801526718"
      ]
     },
     "execution_count": 29,
     "metadata": {},
     "output_type": "execute_result"
    }
   ],
   "source": [
    "close_to_68.column('Child').mean()"
   ]
  },
  {
   "cell_type": "code",
   "execution_count": 33,
   "metadata": {},
   "outputs": [
    {
     "data": {
      "image/png": "[encoded data removed]",
      "text/plain": [
       "<Figure size 360x360 with 1 Axes>"
      ]
     },
     "metadata": {},
     "output_type": "display_data"
    }
   ],
   "source": [
    "heights.scatter('MidParent')\n",
    "_ = plt.plot([67.5, 67.5], [50, 85], color='red', lw=2) # The [50,85] is the range of the line in y-axis\n",
    "_ = plt.plot([68.5, 68.5], [50, 85], color='red', lw=2) # 'lw' stands for line width\n",
    "_ = plt.scatter(68, 66.24, color='gold', s=40) # 68 is the x-axis, 66.24 is the y-axis"
   ]
  },
  {
   "cell_type": "markdown",
   "metadata": {},
   "source": [
    "Above is a representation of what we did. We took the average of the `Child` height within the area enclosed by the red line, resulting with the gold dot, which is our prediction.\n",
    "\n",
    "Now what if we want to make a prediction for every single value of `MidParent`? We can repeat the above method multiple times, but using a function will be much more efficient!"
   ]
  },
  {
   "cell_type": "code",
   "execution_count": 34,
   "metadata": {},
   "outputs": [],
   "source": [
    "def predict_child(mp): # mp stands for MidParent\n",
    "    close = heights.where('MidParent', are.between(mp - 0.5, mp + 0.5))\n",
    "    return close.column('Child').mean()"
   ]
  },
  {
   "cell_type": "markdown",
   "metadata": {},
   "source": [
    "We can test the correctness of the function by calling the function on the same `MidParent` height as what we did the first time."
   ]
  },
  {
   "cell_type": "code",
   "execution_count": 35,
   "metadata": {},
   "outputs": [
    {
     "data": {
      "text/plain": [
       "66.24045801526718"
      ]
     },
     "execution_count": 35,
     "metadata": {},
     "output_type": "execute_result"
    }
   ],
   "source": [
    "predict_child(68)"
   ]
  },
  {
   "cell_type": "markdown",
   "metadata": {},
   "source": [
    "Now that we know the function works, we can use `apply` to make a prediction for all the `MidParent` values!"
   ]
  },
  {
   "cell_type": "code",
   "execution_count": 37,
   "metadata": {},
   "outputs": [
    {
     "data": {
      "text/plain": [
       "array([70.1       , 70.1       , 70.1       , 70.1       , 70.41578947,\n",
       "       70.41578947, 70.41578947, 70.41578947, 68.5025    , 68.5025    ,\n",
       "       68.5025    , 68.5025    , 68.5025    , 68.5025    , 68.5025    ,\n",
       "       66.43149606, 66.43149606, 66.43149606, 66.43149606, 66.43149606,\n",
       "       66.43149606, 70.41578947, 70.41578947, 70.41578947, 70.41578947,\n",
       "       70.41578947, 70.41578947, 70.41578947, 69.18571429, 69.18571429,\n",
       "       69.18571429, 69.18571429, 68.66052632, 67.63423913, 67.63423913,\n",
       "       67.63423913, 67.63423913, 67.63423913, 67.63423913, 67.63423913,\n",
       "       67.63423913, 67.37410714, 68.77428571, 68.77428571, 68.77428571,\n",
       "       68.77428571, 68.59230769, 68.59230769, 68.59230769, 68.07323944,\n",
       "       68.07323944, 68.07323944, 68.07323944, 68.07323944, 68.07323944,\n",
       "       68.07323944, 68.07323944, 68.07323944, 68.05465116, 68.05465116,\n",
       "       68.05465116, 68.05465116, 68.05465116, 68.05465116, 67.56276596,\n",
       "       67.56276596, 67.56276596, 67.71678832, 70.41578947, 70.41578947,\n",
       "       70.41578947, 70.41578947, 70.41578947, 70.41578947, 70.41578947,\n",
       "       70.41578947, 68.628125  , 68.628125  , 68.628125  , 68.54193548,\n",
       "       68.54193548, 68.54193548, 67.66941176, 67.66941176, 67.66941176,\n",
       "       67.66941176, 67.66941176, 67.66941176, 67.66941176, 68.05357143,\n",
       "       67.63352941, 67.63352941, 67.36355556, 67.36355556, 67.36355556,\n",
       "       67.36355556, 67.36355556, 67.36355556, 67.36355556, 67.36355556,\n",
       "       67.36355556, 67.36355556, 67.36355556, 67.36355556, 67.36355556,\n",
       "       67.36355556, 67.63352941, 67.63352941, 67.63352941, 66.75884956,\n",
       "       67.11255061, 67.11255061, 67.11255061, 67.11255061, 67.11255061,\n",
       "       67.11255061, 66.75884956, 66.75884956, 66.75884956, 66.75884956,\n",
       "       66.75884956, 66.75884956, 66.75884956, 66.75884956, 66.75884956,\n",
       "       66.75884956, 66.23647541, 68.628125  , 68.628125  , 68.628125  ,\n",
       "       68.628125  , 68.628125  , 67.97333333, 67.97333333, 67.97333333,\n",
       "       67.97333333, 67.85      , 67.85      , 67.85      , 67.85      ,\n",
       "       67.85      , 67.85      , 67.85      , 67.85      , 67.85      ,\n",
       "       67.85      , 67.85      , 67.85      , 67.85      , 67.85      ,\n",
       "       67.85      , 67.85      , 67.85      , 67.97294118, 67.8661157 ,\n",
       "       67.8661157 , 67.8661157 , 67.8661157 , 67.8661157 , 67.8661157 ,\n",
       "       67.79340659, 67.79340659, 67.75384615, 67.75384615, 67.67204969,\n",
       "       67.67204969, 67.67204969, 67.38465116, 67.38465116, 67.38465116,\n",
       "       67.38465116, 67.38465116, 67.38465116, 67.38465116, 67.38465116,\n",
       "       67.78319328, 67.78319328, 67.78319328, 67.78319328, 67.38465116,\n",
       "       67.38465116, 67.38465116, 67.62469136, 67.62469136, 67.62469136,\n",
       "       67.62469136, 67.62469136, 67.62469136, 67.62469136, 67.53815029,\n",
       "       67.53815029, 66.89330544, 66.89330544, 67.11359649, 67.11359649,\n",
       "       67.11359649, 67.11359649, 67.11359649, 66.74257426, 66.74257426,\n",
       "       66.74257426, 66.74257426, 66.74257426, 66.74257426, 66.74257426,\n",
       "       66.74257426, 66.74257426, 66.74257426, 66.74257426, 66.74257426,\n",
       "       66.74257426, 66.25390947, 66.25390947, 66.25390947, 66.25390947,\n",
       "       66.25390947, 66.25390947, 66.25390947, 66.25390947, 66.25390947,\n",
       "       66.25390947, 66.45882353, 66.45882353, 66.45882353, 66.45882353,\n",
       "       66.45882353, 66.25390947, 66.25390947, 66.25390947, 66.25390947,\n",
       "       66.25390947, 66.25390947, 66.25390947, 66.08640777, 65.31573034,\n",
       "       65.31573034, 68.03333333, 68.03333333, 68.03333333, 68.03333333,\n",
       "       68.03333333, 68.03333333, 68.03333333, 68.03333333, 68.03333333,\n",
       "       68.03333333, 68.41190476, 67.90697674, 67.90697674, 67.90697674,\n",
       "       67.90697674, 67.90697674, 67.90697674, 67.80695652, 67.80695652,\n",
       "       67.80695652, 67.80695652, 67.80695652, 67.80695652, 67.80695652,\n",
       "       67.80695652, 67.80695652, 67.80695652, 67.80695652, 67.53815029,\n",
       "       67.53815029, 67.53815029, 67.53815029, 67.53815029, 67.53815029,\n",
       "       67.53815029, 67.53815029, 67.53815029, 67.4388601 , 67.4388601 ,\n",
       "       67.4388601 , 67.4388601 , 67.4388601 , 67.4388601 , 67.4388601 ,\n",
       "       67.4388601 , 67.4388601 , 67.4388601 , 67.4388601 , 67.4388601 ,\n",
       "       67.4388601 , 67.4388601 , 67.4388601 , 67.4388601 , 67.4388601 ,\n",
       "       67.4388601 , 67.4388601 , 67.4388601 , 67.4388601 , 67.4388601 ,\n",
       "       67.4388601 , 67.4388601 , 67.4388601 , 67.4388601 , 67.4388601 ,\n",
       "       67.4388601 , 67.4388601 , 67.4388601 , 67.4388601 , 67.37410714,\n",
       "       67.37410714, 67.37410714, 67.37410714, 67.37410714, 67.37410714,\n",
       "       67.37410714, 66.86923077, 66.86923077, 66.86923077, 66.86923077,\n",
       "       66.86923077, 66.86923077, 66.86923077, 66.86923077, 66.86923077,\n",
       "       66.86923077, 66.86923077, 66.97462121, 66.97462121, 66.97462121,\n",
       "       66.97462121, 66.97462121, 67.10892857, 67.10892857, 67.10892857,\n",
       "       67.10892857, 67.10892857, 67.10892857, 67.10892857, 67.10892857,\n",
       "       67.34093264, 66.86923077, 66.86923077, 66.86923077, 66.86923077,\n",
       "       66.86923077, 66.86923077, 66.86923077, 66.86923077, 66.86923077,\n",
       "       66.86923077, 66.86923077, 66.86923077, 66.86923077, 66.74109589,\n",
       "       66.74109589, 66.74109589, 66.74109589, 66.74109589, 66.74109589,\n",
       "       66.74109589, 66.74109589, 66.45882353, 66.45882353, 66.45882353,\n",
       "       66.45882353, 66.45882353, 66.45882353, 66.45882353, 66.45882353,\n",
       "       66.45882353, 66.45882353, 66.45882353, 66.45882353, 66.45882353,\n",
       "       66.38858268, 66.38858268, 66.38858268, 66.38858268, 66.38858268,\n",
       "       66.38858268, 66.38858268, 66.38858268, 66.17280702, 66.17280702,\n",
       "       66.17280702, 66.17280702, 66.17280702, 66.17280702, 66.17280702,\n",
       "       66.17280702, 66.38858268, 66.38858268, 66.38858268, 66.38858268,\n",
       "       66.38858268, 66.38858268, 66.38858268, 66.17280702, 66.17280702,\n",
       "       66.17280702, 66.1618705 , 66.1618705 , 65.7423913 , 65.7423913 ,\n",
       "       65.7423913 , 65.7423913 , 65.7423913 , 65.7423913 , 65.20649351,\n",
       "       65.20649351, 65.20649351, 64.915     , 64.915     , 64.915     ,\n",
       "       64.915     , 64.915     , 67.9880597 , 67.9880597 , 67.9880597 ,\n",
       "       67.9880597 , 67.9880597 , 67.9880597 , 67.9880597 , 67.9880597 ,\n",
       "       67.9880597 , 67.9880597 , 67.78319328, 67.47553191, 67.47553191,\n",
       "       67.47553191, 67.47553191, 67.47553191, 67.47553191, 67.47553191,\n",
       "       67.47553191, 67.47553191, 67.47553191, 67.47553191, 67.63423913,\n",
       "       67.63423913, 67.63423913, 67.63423913, 67.47553191, 67.47553191,\n",
       "       67.47553191, 67.47553191, 67.47553191, 67.47553191, 67.59834254,\n",
       "       67.59834254, 67.59834254, 67.59834254, 67.59834254, 67.59834254,\n",
       "       67.59834254, 67.79461538, 67.79461538, 67.79461538, 67.79461538,\n",
       "       67.59834254, 67.59834254, 67.59834254, 67.59834254, 67.59834254,\n",
       "       67.59834254, 67.59834254, 67.59834254, 67.59834254, 67.59834254,\n",
       "       67.59834254, 67.59834254, 67.59834254, 67.47553191, 67.47553191,\n",
       "       67.47553191, 67.47553191, 67.47553191, 67.47553191, 67.47553191,\n",
       "       67.47553191, 67.47553191, 66.84719626, 66.84719626, 66.84719626,\n",
       "       66.84719626, 66.84719626, 66.84719626, 66.84719626, 66.87579909,\n",
       "       66.87579909, 66.87579909, 66.87579909, 66.87579909, 66.87579909,\n",
       "       66.87579909, 66.48518519, 66.48518519, 66.48518519, 66.48518519,\n",
       "       66.22488889, 66.03545455, 66.03545455, 66.03545455, 66.03545455,\n",
       "       66.03545455, 66.03545455, 66.03545455, 66.03545455, 66.03545455,\n",
       "       66.03545455, 66.22488889, 66.22488889, 66.22488889, 66.22488889,\n",
       "       66.22488889, 66.22488889, 66.22488889, 66.22488889, 66.22488889,\n",
       "       66.22488889, 66.22328042, 66.2819209 , 66.2819209 , 66.2819209 ,\n",
       "       66.24045802, 66.24045802, 66.24045802, 66.24045802, 66.24045802,\n",
       "       66.2819209 , 66.2819209 , 66.2819209 , 66.2819209 , 66.2819209 ,\n",
       "       66.2819209 , 66.2819209 , 66.2819209 , 66.2819209 , 66.2819209 ,\n",
       "       66.2819209 , 66.36648936, 66.36648936, 66.36648936, 66.36648936,\n",
       "       66.36648936, 66.36648936, 66.36648936, 66.36648936, 66.24045802,\n",
       "       66.24045802, 66.24045802, 66.24045802, 66.13076923, 66.13076923,\n",
       "       66.13076923, 66.13076923, 66.13076923, 65.76588235, 65.76588235,\n",
       "       65.76588235, 65.76588235, 65.76588235, 65.76588235, 65.76588235,\n",
       "       65.76588235, 65.76588235, 65.25119048, 65.25119048, 65.25119048,\n",
       "       65.25119048, 65.25119048, 65.25119048, 65.25119048, 65.64936709,\n",
       "       68.56190476, 68.56190476, 67.6125    , 67.6125    , 67.6125    ,\n",
       "       67.47553191, 67.47553191, 67.47553191, 67.47553191, 67.47553191,\n",
       "       67.47553191, 67.47553191, 67.47553191, 67.47553191, 67.47553191,\n",
       "       67.47553191, 66.43149606, 66.43149606, 66.71052632, 66.71052632,\n",
       "       66.71052632, 66.71052632, 66.71052632, 66.71052632, 66.71052632,\n",
       "       66.71052632, 66.71052632, 66.43149606, 66.43149606, 66.43149606,\n",
       "       66.43149606, 66.60041841, 66.60041841, 66.60041841, 66.60041841,\n",
       "       66.60041841, 66.60041841, 66.60041841, 66.60041841, 66.60041841,\n",
       "       66.60041841, 66.60041841, 66.60041841, 66.60041841, 66.60041841,\n",
       "       66.60041841, 66.60041841, 66.0175    , 66.0175    , 66.0175    ,\n",
       "       66.0175    , 66.0175    , 66.0175    , 66.0175    , 66.0175    ,\n",
       "       66.0175    , 66.0175    , 66.0175    , 66.0175    , 66.0175    ,\n",
       "       66.0175    , 66.0175    , 66.0175    , 66.0175    , 66.0175    ,\n",
       "       66.0175    , 66.24497817, 66.0175    , 66.0175    , 66.0175    ,\n",
       "       66.0175    , 66.0175    , 66.0175    , 66.0175    , 66.0175    ,\n",
       "       66.0175    , 66.0175    , 66.24045802, 66.24045802, 66.24045802,\n",
       "       66.24045802, 66.24045802, 66.24045802, 66.24045802, 66.24045802,\n",
       "       66.0175    , 66.0175    , 66.0175    , 66.0175    , 66.24045802,\n",
       "       66.24045802, 66.24045802, 66.24045802, 66.24045802, 66.24045802,\n",
       "       66.24045802, 66.24045802, 66.24045802, 66.24045802, 66.24045802,\n",
       "       66.24045802, 66.24045802, 66.24045802, 66.24045802, 66.24045802,\n",
       "       66.24045802, 66.24045802, 66.24045802, 66.0175    , 66.24045802,\n",
       "       66.08640777, 66.08640777, 66.08640777, 66.08640777, 66.08640777,\n",
       "       66.07539683, 66.16904762, 66.16904762, 66.07539683, 65.66582278,\n",
       "       65.66582278, 65.66582278, 65.66582278, 65.66582278, 65.21690141,\n",
       "       65.26346154, 65.26346154, 65.26346154, 65.26346154, 65.26346154,\n",
       "       65.26346154, 65.26346154, 65.26346154, 65.26346154, 65.26346154,\n",
       "       65.26346154, 64.82545455, 65.368     , 65.368     , 65.368     ,\n",
       "       65.368     , 65.368     , 65.368     , 65.368     , 65.368     ,\n",
       "       65.368     , 65.368     , 66.45882353, 66.45882353, 66.45882353,\n",
       "       66.45882353, 66.45882353, 66.74109589, 66.45629921, 66.45629921,\n",
       "       66.45629921, 66.45629921, 66.45629921, 66.45629921, 66.45629921,\n",
       "       66.45629921, 65.98267327, 65.98267327, 65.98267327, 65.98267327,\n",
       "       65.98267327, 65.98267327, 66.31355932, 66.31355932, 66.31355932,\n",
       "       66.31355932, 66.31355932, 66.31355932, 66.31355932, 66.31355932,\n",
       "       66.31355932, 65.98267327, 65.98267327, 65.98267327, 66.26140351,\n",
       "       66.26140351, 66.26140351, 66.26140351, 66.26140351, 66.26140351,\n",
       "       66.26140351, 66.26140351, 66.26140351, 66.26140351, 66.26140351,\n",
       "       66.44195804, 66.44195804, 66.44195804, 66.44195804, 66.1234375 ,\n",
       "       66.1234375 , 66.1234375 , 66.1234375 , 66.1234375 , 66.1234375 ,\n",
       "       66.1234375 , 66.1234375 , 66.2952381 , 66.2952381 , 66.2952381 ,\n",
       "       65.71190476, 65.71190476, 65.71190476, 65.71190476, 65.71190476,\n",
       "       65.28644068, 66.45846774, 66.45846774, 66.45846774, 66.45846774,\n",
       "       66.45846774, 66.45846774, 66.45846774, 66.45846774, 66.45846774,\n",
       "       66.45846774, 66.45846774, 66.45846774, 66.45846774, 66.45846774,\n",
       "       66.45846774, 66.45846774, 66.45846774, 66.05769231, 66.05769231,\n",
       "       66.05769231, 66.05769231, 66.05769231, 66.05769231, 66.05769231,\n",
       "       66.05769231, 66.05769231, 66.05769231, 66.05769231, 66.21702128,\n",
       "       66.21702128, 66.21702128, 66.21702128, 66.21702128, 66.21702128,\n",
       "       66.21702128, 66.21702128, 66.1120603 , 66.1120603 , 66.1120603 ,\n",
       "       66.1120603 , 66.1120603 , 65.52209302, 65.61341463, 65.61341463,\n",
       "       65.75348837, 65.75348837, 65.75348837, 65.75348837, 65.75348837,\n",
       "       65.75348837, 65.53563218, 65.53563218, 65.53563218, 65.53563218,\n",
       "       65.53563218, 65.53563218, 65.53563218, 64.69655172, 64.75833333,\n",
       "       64.75833333, 64.75833333, 64.75833333, 64.75833333, 63.96666667,\n",
       "       63.96666667, 63.96666667, 63.96666667, 63.96666667, 63.96666667,\n",
       "       63.96666667, 63.96666667, 63.96666667, 63.96666667, 63.96666667,\n",
       "       63.96666667, 63.96666667, 63.96666667, 63.96666667, 66.26966825,\n",
       "       66.26966825, 66.26966825, 66.26966825, 66.26966825, 66.35481928,\n",
       "       66.35481928, 66.35481928, 66.35481928, 66.35481928, 66.35481928,\n",
       "       66.35481928, 66.35481928, 66.35481928, 66.36513761, 66.36513761,\n",
       "       66.36513761, 66.36513761, 66.36513761, 66.36513761, 66.36513761,\n",
       "       66.36513761, 66.36513761, 65.99259259, 65.99259259, 66.36513761,\n",
       "       66.36513761, 66.36513761, 66.36513761, 66.36513761, 66.36513761,\n",
       "       65.55833333, 65.55833333, 65.55833333, 65.55833333, 65.55833333,\n",
       "       65.55833333, 65.21690141, 65.21690141, 65.21690141, 65.21690141,\n",
       "       65.21690141, 65.36296296, 65.36296296, 65.36296296, 65.36296296,\n",
       "       64.22962963, 64.22962963, 64.22962963, 64.22962963, 64.22962963,\n",
       "       65.2943662 , 65.2943662 , 65.2943662 , 65.2943662 , 65.2943662 ,\n",
       "       65.2943662 , 65.2943662 , 65.2943662 , 65.2943662 , 65.2943662 ,\n",
       "       65.2943662 , 65.2943662 , 65.2943662 , 65.2943662 , 64.42121212,\n",
       "       63.51176471, 63.51176471, 65.11      , 65.11      , 65.15657895,\n",
       "       65.15657895, 65.15657895, 64.22962963, 64.22962963])"
      ]
     },
     "execution_count": 37,
     "metadata": {},
     "output_type": "execute_result"
    }
   ],
   "source": [
    "heights.apply(predict_child, 'MidParent')"
   ]
  },
  {
   "cell_type": "markdown",
   "metadata": {},
   "source": [
    "And make it a table!"
   ]
  },
  {
   "cell_type": "code",
   "execution_count": 38,
   "metadata": {},
   "outputs": [
    {
     "data": {
      "text/html": [
       "<table border=\"1\" class=\"dataframe\">\n",
       "    <thead>\n",
       "        <tr>\n",
       "            <th>MidParent</th> <th>Child</th> <th>Prediction</th>\n",
       "        </tr>\n",
       "    </thead>\n",
       "    <tbody>\n",
       "        <tr>\n",
       "            <td>75.43    </td> <td>73.2 </td> <td>70.1      </td>\n",
       "        </tr>\n",
       "        <tr>\n",
       "            <td>75.43    </td> <td>69.2 </td> <td>70.1      </td>\n",
       "        </tr>\n",
       "        <tr>\n",
       "            <td>75.43    </td> <td>69   </td> <td>70.1      </td>\n",
       "        </tr>\n",
       "        <tr>\n",
       "            <td>75.43    </td> <td>69   </td> <td>70.1      </td>\n",
       "        </tr>\n",
       "        <tr>\n",
       "            <td>73.66    </td> <td>73.5 </td> <td>70.4158   </td>\n",
       "        </tr>\n",
       "        <tr>\n",
       "            <td>73.66    </td> <td>72.5 </td> <td>70.4158   </td>\n",
       "        </tr>\n",
       "        <tr>\n",
       "            <td>73.66    </td> <td>65.5 </td> <td>70.4158   </td>\n",
       "        </tr>\n",
       "        <tr>\n",
       "            <td>73.66    </td> <td>65.5 </td> <td>70.4158   </td>\n",
       "        </tr>\n",
       "        <tr>\n",
       "            <td>72.06    </td> <td>71   </td> <td>68.5025   </td>\n",
       "        </tr>\n",
       "        <tr>\n",
       "            <td>72.06    </td> <td>68   </td> <td>68.5025   </td>\n",
       "        </tr>\n",
       "    </tbody>\n",
       "</table>\n",
       "<p>... (924 rows omitted)</p>"
      ],
      "text/plain": [
       "MidParent | Child | Prediction\n",
       "75.43     | 73.2  | 70.1\n",
       "75.43     | 69.2  | 70.1\n",
       "75.43     | 69    | 70.1\n",
       "75.43     | 69    | 70.1\n",
       "73.66     | 73.5  | 70.4158\n",
       "73.66     | 72.5  | 70.4158\n",
       "73.66     | 65.5  | 70.4158\n",
       "73.66     | 65.5  | 70.4158\n",
       "72.06     | 71    | 68.5025\n",
       "72.06     | 68    | 68.5025\n",
       "... (924 rows omitted)"
      ]
     },
     "execution_count": 38,
     "metadata": {},
     "output_type": "execute_result"
    }
   ],
   "source": [
    "heights_with_predictions = heights.with_columns(\n",
    "    'Prediction', heights.apply(predict_child, 'MidParent')\n",
    ")\n",
    "heights_with_predictions"
   ]
  },
  {
   "cell_type": "markdown",
   "metadata": {},
   "source": [
    "Now we can recreate our `scatter` plot to see where our prediction lies in the plot."
   ]
  },
  {
   "cell_type": "code",
   "execution_count": 39,
   "metadata": {},
   "outputs": [
    {
     "data": {
      "image/png": "[encoded data removed]",
      "text/plain": [
       "<Figure size 360x360 with 1 Axes>"
      ]
     },
     "metadata": {},
     "output_type": "display_data"
    }
   ],
   "source": [
    "heights_with_predictions.scatter('MidParent')"
   ]
  },
  {
   "cell_type": "markdown",
   "metadata": {},
   "source": [
    "It does indeed look like a linear correlation!"
   ]
  }
 ],
 "metadata": {
  "kernelspec": {
   "display_name": "Python 3",
   "language": "python",
   "name": "python3"
  },
  "language_info": {
   "codemirror_mode": {
    "name": "ipython",
    "version": 3
   },
   "file_extension": ".py",
   "mimetype": "text/x-python",
   "name": "python",
   "nbconvert_exporter": "python",
   "pygments_lexer": "ipython3",
   "version": "3.7.2"
  }
 },
 "nbformat": 4,
 "nbformat_minor": 1
}
