{
 "cells": [
  {
   "cell_type": "code",
   "execution_count": 1,
   "metadata": {},
   "outputs": [],
   "source": [
    "from datascience import *\n",
    "import numpy as np\n",
    "%matplotlib inline\n",
    "import matplotlib.pyplot as plt\n",
    "plt.style.use('fivethirtyeight')\n",
    "\n",
    "from ipywidgets import interact, interactive, fixed, interact_manual\n",
    "import ipywidgets as widgets"
   ]
  },
  {
   "cell_type": "markdown",
   "metadata": {},
   "source": [
    "# Tables\n",
    "Tables are:\n",
    "1. A collection of **columns**. Each column is an array containing values. Methods for working with columns are:\n",
    "    * `.with_columns(...)` adds a new column\n",
    "    * `.column(..)` grabs a column and convert it to an array\n",
    "    * `.select(...)` pick out a column/columns for a new table\n",
    "    \n",
    "2. A collection of **rows**. Each row is an entry or an entity in the dataset. Methods for working with rows are:\n",
    "    * `.where(...)` selects only rows that fulfill a condition\n",
    "    * `.take(...)` takes in certain rows (by index)\n",
    "    * `.sort(...)` sorts rows\n",
    "    \n",
    "## Table Pro-tips\n",
    "1. When to use `.group(...)`?\n",
    "    * If you need to use multiple `.where(...)`, chances are you're trying to group together parts of columns, in which `.group(...)` comes in handy\n",
    "    \n",
    "    \n",
    "2. When to use `.join(...)`?\n",
    "    * Do you need to combine 2 tables?\n",
    "    \n",
    "3. When to use `.pivot(...)`?\n",
    "    * If you need to use `.group(...)` to group by 2 columns on the same time\n",
    "    * You want the table to look different from before"
   ]
  },
  {
   "cell_type": "markdown",
   "metadata": {},
   "source": [
    "## Voters\n",
    "<img src = 'voters.jpg' width = 250/>\n",
    "Let's say we have the table `voters`. How do we find:\n",
    "\n",
    "1. The candidate than won? One way of doing it:\n",
    "    * Group them\n",
    "    * Sort by count starting from the most count\n",
    "    * Take the first row of the count column\n",
    "    * `voters.group('Choice')`\n",
    "2. The distribution of votes for California ('CA')?\n",
    "    * Use `.where(...`) to choose only California voters\n",
    "    * Group them\n",
    "    * `voters.where('State', 'CA').group('Choice')`"
   ]
  },
  {
   "cell_type": "markdown",
   "metadata": {},
   "source": [
    "# Sampling\n",
    "* Random samples let us approximate probability distributions\n",
    "    * The larger the sample, the more the distribution would look like the population distribution\n",
    "* When we have one sample, we can take that and for an estimate of a parameter\n",
    "    * Example: Warplanes\n",
    "    * If we take a sample of 20 planes and take the `max`, it'll give us one estimate of how many planes there are overall. \n",
    "* Multiple samples lets us estimate the probability distribution of a statistic\n",
    "    * If we want to find the distribution of that statistic, we need multiple samples of 20 planes."
   ]
  },
  {
   "cell_type": "markdown",
   "metadata": {},
   "source": [
    "# Gambling\n",
    "If you roll a fair die, and:\n",
    "* If 1 or 6, pay $1\n",
    "* If 2 or 5, get $1\n",
    "* The rest, get nothing\n",
    "\n",
    "Which would resemble the empirical histogram of the net winning?\n",
    "<img src = 'gambling.jpg' width = 500/>\n",
    "**Ans**: Histogram (ii). If the die is fair, the distribution of winning and losing cancels out, and chances are you'll get close to zero wins"
   ]
  },
  {
   "cell_type": "markdown",
   "metadata": {},
   "source": [
    "# Hypothesis Test Recipe\n",
    "* State null and alternative hypotheses!\n",
    "    * These always depend on the context (depending on the question you're asking)\n",
    "* Examine your alternative hypothesis and **pick a test statistic**\n",
    "* Assume the null is true and **simulate the statistic** by taking random draws\n",
    "* Mark your observed test statistic (real-life data) on the empirical distribution\n",
    "* Compute P-value, which is the area equal to the observed test statistic or more extreme in the direction of your alternative hypothesis\n",
    "\n",
    "## Picking a Test Statistic\n",
    "\n"
   ]
  }
 ],
 "metadata": {
  "kernelspec": {
   "display_name": "Python 3",
   "language": "python",
   "name": "python3"
  },
  "language_info": {
   "codemirror_mode": {
    "name": "ipython",
    "version": 3
   },
   "file_extension": ".py",
   "mimetype": "text/x-python",
   "name": "python",
   "nbconvert_exporter": "python",
   "pygments_lexer": "ipython3",
   "version": "3.7.1"
  }
 },
 "nbformat": 4,
 "nbformat_minor": 1
}
