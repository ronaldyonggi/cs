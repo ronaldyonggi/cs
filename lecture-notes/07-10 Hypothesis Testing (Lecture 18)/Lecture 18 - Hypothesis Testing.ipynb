{
 "cells": [
  {
   "cell_type": "code",
   "execution_count": 23,
   "metadata": {},
   "outputs": [],
   "source": [
    "from datascience import *\n",
    "import numpy as np\n",
    "%matplotlib inline\n",
    "import matplotlib.pyplot as plt\n",
    "plt.style.use('fivethirtyeight')\n",
    "\n",
    "from ipywidgets import interact, interactive, fixed, interact_manual\n",
    "import ipywidgets as widgets"
   ]
  },
  {
   "cell_type": "markdown",
   "metadata": {},
   "source": [
    "# Jury Panels (Review)\n",
    "We are going to pick up from the previous lecture,\n",
    "<img src = 'jury.jpg' width = 700\\>\n",
    "We had the diagram above that explains that\n",
    "\n",
    "1. We start with having eligible jurors in a County\n",
    "2. Then the county selects a list of eligible residents. Some of the requirements might be:\n",
    "    * Able to speak English\n",
    "    * Be a resident of that county\n",
    "    * Not having a felony\n",
    "3. From the eligible residents, they **supposedly pick at random** people be in the jury panel\n",
    "4. and finally, the final jury.\n",
    "\n",
    "The goal is to create panels that are representative of the people of that county. \n",
    "\n",
    "In the case of Swain v. Alabama, the population of the county had 26% black, while the panel that Swain had in his court case had only 8 black out of 100 people. \n",
    "\n",
    "## Is The Actual Jury Panel Likely?\n",
    "We can use the methods that we learn in class to see if the panel of 8 black out of 100 people was likely to occur if we drew at random the population of eligible jurors.\n",
    "\n",
    "Don't worry too much about the codes. Focus on the high level steps of what we are trying to do.\n",
    "\n",
    "What's the probability of getting the actual panel with 8/100 black jurors?\n",
    "\n",
    "High-level Steps:\n",
    "1. Start with the distributions of eligible jurors and the actual panel\n",
    "    * Eligible jurors: 26% black\n",
    "2. Draw panels at random from the eligible jurors (population)\n",
    "    * Draw 100 people, see what it looks like. Draw another 100, see what it looks like, and so on.\n",
    "3. See if actual panel is likely to occur if we drew at random from the population\n",
    "    * If we draw panels at random from population and none of them have 8 or less blacks, then we can say that the actual panel is unlikely to occur by chance"
   ]
  },
  {
   "cell_type": "markdown",
   "metadata": {},
   "source": [
    "### Step 1: Distributions of population and sample"
   ]
  },
  {
   "cell_type": "code",
   "execution_count": 24,
   "metadata": {},
   "outputs": [
    {
     "data": {
      "text/html": [
       "<table border=\"1\" class=\"dataframe\">\n",
       "    <thead>\n",
       "        <tr>\n",
       "            <th>Ethnicity</th> <th>Eligible</th> <th>Panel</th>\n",
       "        </tr>\n",
       "    </thead>\n",
       "    <tbody>\n",
       "        <tr>\n",
       "            <td>Black    </td> <td>26%     </td> <td>8%   </td>\n",
       "        </tr>\n",
       "        <tr>\n",
       "            <td>Other    </td> <td>74%     </td> <td>92%  </td>\n",
       "        </tr>\n",
       "    </tbody>\n",
       "</table>"
      ],
      "text/plain": [
       "Ethnicity | Eligible | Panel\n",
       "Black     | 26%      | 8%\n",
       "Other     | 74%      | 92%"
      ]
     },
     "execution_count": 24,
     "metadata": {},
     "output_type": "execute_result"
    }
   ],
   "source": [
    "swain = Table().with_columns(\n",
    "    'Ethnicity', make_array('Black', 'Other'),\n",
    "    'Eligible', make_array(0.26, 0.74),\n",
    "    'Panel', make_array(0.08, 0.92)\n",
    ")\n",
    "\n",
    "swain.set_format([1, 2], PercentFormatter(0))"
   ]
  },
  {
   "cell_type": "markdown",
   "metadata": {},
   "source": [
    "### Step 2: Draw panels at random from population\n",
    "Calling the function `random_jury_panel` gives us the original `swain` table with an additional `Random` column"
   ]
  },
  {
   "cell_type": "code",
   "execution_count": 25,
   "metadata": {},
   "outputs": [
    {
     "data": {
      "text/html": [
       "<table border=\"1\" class=\"dataframe\">\n",
       "    <thead>\n",
       "        <tr>\n",
       "            <th>Ethnicity</th> <th>Eligible</th> <th>Panel</th> <th>Random</th>\n",
       "        </tr>\n",
       "    </thead>\n",
       "    <tbody>\n",
       "        <tr>\n",
       "            <td>Black    </td> <td>26%     </td> <td>8%   </td> <td>25%   </td>\n",
       "        </tr>\n",
       "        <tr>\n",
       "            <td>Other    </td> <td>74%     </td> <td>92%  </td> <td>75%   </td>\n",
       "        </tr>\n",
       "    </tbody>\n",
       "</table>"
      ],
      "text/plain": [
       "Ethnicity | Eligible | Panel | Random\n",
       "Black     | 26%      | 8%    | 25%\n",
       "Other     | 74%      | 92%   | 75%"
      ]
     },
     "execution_count": 25,
     "metadata": {},
     "output_type": "execute_result"
    }
   ],
   "source": [
    "population_distribution = swain.column('Eligible')\n",
    "panel_size = 100\n",
    "\n",
    "def random_jury_panel():\n",
    "    panel = swain.select(0).sample(panel_size, weights=swain.column('Eligible'))\n",
    "    counts = panel.group(0)\n",
    "    sample_proportions = counts.select(0).with_column('Random', counts.column(1) / panel_size)\n",
    "    sample_proportions.set_format(1, PercentFormatter(0))\n",
    "    return swain.join('Ethnicity', sample_proportions)\n",
    "\n",
    "random_jury_panel()"
   ]
  },
  {
   "cell_type": "markdown",
   "metadata": {},
   "source": [
    "A quicker method is to use `sample_proportions` method."
   ]
  },
  {
   "cell_type": "code",
   "execution_count": 26,
   "metadata": {},
   "outputs": [
    {
     "data": {
      "text/html": [
       "<table border=\"1\" class=\"dataframe\">\n",
       "    <thead>\n",
       "        <tr>\n",
       "            <th>Ethnicity</th> <th>Eligible</th> <th>Panel</th> <th>Random</th>\n",
       "        </tr>\n",
       "    </thead>\n",
       "    <tbody>\n",
       "        <tr>\n",
       "            <td>Black    </td> <td>26%     </td> <td>8%   </td> <td>25%   </td>\n",
       "        </tr>\n",
       "        <tr>\n",
       "            <td>Other    </td> <td>74%     </td> <td>92%  </td> <td>75%   </td>\n",
       "        </tr>\n",
       "    </tbody>\n",
       "</table>"
      ],
      "text/plain": [
       "Ethnicity | Eligible | Panel | Random\n",
       "Black     | 26%      | 8%    | 25%\n",
       "Other     | 74%      | 92%   | 75%"
      ]
     },
     "execution_count": 26,
     "metadata": {},
     "output_type": "execute_result"
    }
   ],
   "source": [
    "population_distribution = swain.column('Eligible')\n",
    "panel_size = 100\n",
    "\n",
    "def randomPanelQuicker():  \n",
    "    return swain.with_column(\n",
    "    'Random', \n",
    "    sample_proportions(100, population_distribution)).set_format(\n",
    "        'Random', PercentFormatter(0))\n",
    "\n",
    "randomPanelQuicker()"
   ]
  },
  {
   "cell_type": "markdown",
   "metadata": {},
   "source": [
    "### Step 3: See if sample panel is unlikely\n",
    "Simulate calling the function above multiple times, calculate the TVD of each `Random` vs. `Eligible`, and compare with TVD of `Panel` vs. `Eligible`.\n",
    "\n",
    "Recall **Total Variation Distance** is a measure of how different 2 distributions are. The greater the TVD value, the more difference."
   ]
  },
  {
   "cell_type": "code",
   "execution_count": 27,
   "metadata": {},
   "outputs": [
    {
     "data": {
      "text/plain": [
       "0.18000000000000002"
      ]
     },
     "execution_count": 27,
     "metadata": {},
     "output_type": "execute_result"
    }
   ],
   "source": [
    "def total_variation_distance(distribution_1, distribution_2):\n",
    "    \"\"\"Each distribution is an array of proportions that sums to 1.\"\"\"\n",
    "    return np.abs(distribution_1 - distribution_2).sum()/2\n",
    "\n",
    "def table_tvd(table, label_1, label_2):\n",
    "    return total_variation_distance(table.column(label_1), table.column(label_2))\n",
    "\n",
    "table_tvd(swain, 'Eligible', 'Panel')"
   ]
  },
  {
   "cell_type": "markdown",
   "metadata": {},
   "source": [
    "Above, our original TVD of `Panel` vs. `Eligible` is 0.18.\n",
    "\n",
    "Below, we draw 1000 panels, each panel contains 100 people. We compute the TVD of each sample panel against the `Eligible`."
   ]
  },
  {
   "cell_type": "code",
   "execution_count": 28,
   "metadata": {},
   "outputs": [
    {
     "data": {
      "text/html": [
       "<table border=\"1\" class=\"dataframe\">\n",
       "    <thead>\n",
       "        <tr>\n",
       "            <th>TVD between the population & random samples</th>\n",
       "        </tr>\n",
       "    </thead>\n",
       "    <tbody>\n",
       "        <tr>\n",
       "            <td>0.06                                       </td>\n",
       "        </tr>\n",
       "        <tr>\n",
       "            <td>0.05                                       </td>\n",
       "        </tr>\n",
       "        <tr>\n",
       "            <td>0.03                                       </td>\n",
       "        </tr>\n",
       "        <tr>\n",
       "            <td>0.01                                       </td>\n",
       "        </tr>\n",
       "        <tr>\n",
       "            <td>0.07                                       </td>\n",
       "        </tr>\n",
       "        <tr>\n",
       "            <td>0.01                                       </td>\n",
       "        </tr>\n",
       "        <tr>\n",
       "            <td>0.01                                       </td>\n",
       "        </tr>\n",
       "        <tr>\n",
       "            <td>0.02                                       </td>\n",
       "        </tr>\n",
       "        <tr>\n",
       "            <td>0.05                                       </td>\n",
       "        </tr>\n",
       "        <tr>\n",
       "            <td>0                                          </td>\n",
       "        </tr>\n",
       "    </tbody>\n",
       "</table>\n",
       "<p>... (990 rows omitted)</p>"
      ],
      "text/plain": [
       "TVD between the population & random samples\n",
       "0.06\n",
       "0.05\n",
       "0.03\n",
       "0.01\n",
       "0.07\n",
       "0.01\n",
       "0.01\n",
       "0.02\n",
       "0.05\n",
       "0\n",
       "... (990 rows omitted)"
      ]
     },
     "execution_count": 28,
     "metadata": {},
     "output_type": "execute_result"
    }
   ],
   "source": [
    "# Compute the empirical distribution of TVDs\n",
    "\n",
    "tvds = make_array()\n",
    "\n",
    "for i in np.arange(1000): # Repetitions\n",
    "    new_sample = randomPanelQuicker()\n",
    "    tvds = np.append(tvds, table_tvd(new_sample, 'Eligible', 'Random'))\n",
    "\n",
    "results = Table().with_column('TVD between the population & random samples', tvds)\n",
    "results"
   ]
  },
  {
   "cell_type": "markdown",
   "metadata": {},
   "source": [
    "And we construct a histogram out of the data above,"
   ]
  },
  {
   "cell_type": "code",
   "execution_count": 29,
   "metadata": {},
   "outputs": [
    {
     "data": {
      "image/png": "[encoded data removed]",
      "text/plain": [
       "<Figure size 432x288 with 1 Axes>"
      ]
     },
     "metadata": {},
     "output_type": "display_data"
    }
   ],
   "source": [
    "results.hist(bins=np.arange(0, 0.2, 0.01))"
   ]
  },
  {
   "cell_type": "markdown",
   "metadata": {},
   "source": [
    "The histogram above shows the TVD values that are likely to occur if we draw random panels from the population. It seems that the most often occuring TVD are within the range 0 to 0.075. The furthest TVD (and slightly unlikely) is around 0.13. \n",
    "\n",
    "Compare the histogram above with the TVD that we obtained from `Panel` vs. `Eligible` (0.18), marked below with the red dot."
   ]
  },
  {
   "cell_type": "code",
   "execution_count": 30,
   "metadata": {},
   "outputs": [
    {
     "data": {
      "image/png": "[encoded data removed]",
      "text/plain": [
       "<Figure size 432x288 with 1 Axes>"
      ]
     },
     "metadata": {},
     "output_type": "display_data"
    }
   ],
   "source": [
    "results.hist(bins=np.arange(0, 0.2, 0.01))\n",
    "plt.scatter(0.18, 0, color='red', s=30);"
   ]
  },
  {
   "cell_type": "markdown",
   "metadata": {},
   "source": [
    "We can see that 0.18 is far on the right side, which shows that the actual panel is unlikely to be drawn at random from eligible jurors. \n",
    "\n",
    "Unfortunately for Swain, in 1962 the Supreme Court ruled that the jury panel were fair. In 1980, parts of the ruling were overturned and the laws were adjusted to become more fair.\n",
    "\n",
    "That was on 1962. How about nowadays?"
   ]
  },
  {
   "cell_type": "markdown",
   "metadata": {},
   "source": [
    "# Alameda County Juries\n",
    "In 2010, the ACLU releases a report of ethnic disparity in Alameda County. They analyzed the jury panels in Alameda County. The following is the report, "
   ]
  },
  {
   "cell_type": "code",
   "execution_count": 31,
   "metadata": {},
   "outputs": [
    {
     "data": {
      "text/html": [
       "<table border=\"1\" class=\"dataframe\">\n",
       "    <thead>\n",
       "        <tr>\n",
       "            <th>Ethnicity</th> <th>Eligible</th> <th>Panels</th>\n",
       "        </tr>\n",
       "    </thead>\n",
       "    <tbody>\n",
       "        <tr>\n",
       "            <td>Asian    </td> <td>15%     </td> <td>26%   </td>\n",
       "        </tr>\n",
       "        <tr>\n",
       "            <td>Black    </td> <td>18%     </td> <td>8%    </td>\n",
       "        </tr>\n",
       "        <tr>\n",
       "            <td>Latino   </td> <td>12%     </td> <td>8%    </td>\n",
       "        </tr>\n",
       "        <tr>\n",
       "            <td>White    </td> <td>54%     </td> <td>54%   </td>\n",
       "        </tr>\n",
       "        <tr>\n",
       "            <td>Other    </td> <td>1%      </td> <td>4%    </td>\n",
       "        </tr>\n",
       "    </tbody>\n",
       "</table>"
      ],
      "text/plain": [
       "Ethnicity | Eligible | Panels\n",
       "Asian     | 15%      | 26%\n",
       "Black     | 18%      | 8%\n",
       "Latino    | 12%      | 8%\n",
       "White     | 54%      | 54%\n",
       "Other     | 1%       | 4%"
      ]
     },
     "execution_count": 31,
     "metadata": {},
     "output_type": "execute_result"
    }
   ],
   "source": [
    "panels = Table().with_columns(\n",
    "    'Ethnicity', make_array('Asian', 'Black', 'Latino', 'White', 'Other'),\n",
    "    'Eligible', make_array(0.15, 0.18, 0.12, 0.54, 0.01),\n",
    "    'Panels', make_array(0.26, 0.08, 0.08, 0.54, 0.04)\n",
    ")\n",
    "\n",
    "panels.set_format([1, 2], PercentFormatter(0))"
   ]
  },
  {
   "cell_type": "markdown",
   "metadata": {},
   "source": [
    "ACLU analyzed 11 panels of felony trials. They interviewed each panelist individually and took note of their ethnicities. Above is the distribution that they found from the panels. We can visualize the data above with a bar chart."
   ]
  },
  {
   "cell_type": "code",
   "execution_count": 32,
   "metadata": {},
   "outputs": [
    {
     "data": {
      "image/png": "[encoded data removed]",
      "text/plain": [
       "<Figure size 432x288 with 1 Axes>"
      ]
     },
     "metadata": {},
     "output_type": "display_data"
    }
   ],
   "source": [
    "panels.barh('Ethnicity')"
   ]
  },
  {
   "cell_type": "markdown",
   "metadata": {},
   "source": [
    "From the bar chart above, we see that the panels have more asians, less black and latino, about the same number of white, and slightly more others compared to the eligible population. We can ask the same question from the Swain case. It's not exactly the same as asking whether the panels were fair, but we can still ask:\n",
    "\n",
    "### Were these panels likely to be drawn at random from the population?\n",
    "The steps are similar to the Swain's case, which is:"
   ]
  },
  {
   "cell_type": "markdown",
   "metadata": {},
   "source": [
    "## Step 1: Distributions of Population and Sample"
   ]
  },
  {
   "cell_type": "code",
   "execution_count": 33,
   "metadata": {},
   "outputs": [
    {
     "data": {
      "text/html": [
       "<table border=\"1\" class=\"dataframe\">\n",
       "    <thead>\n",
       "        <tr>\n",
       "            <th>Ethnicity</th> <th>Eligible</th> <th>Panels</th>\n",
       "        </tr>\n",
       "    </thead>\n",
       "    <tbody>\n",
       "        <tr>\n",
       "            <td>Asian    </td> <td>15%     </td> <td>26%   </td>\n",
       "        </tr>\n",
       "        <tr>\n",
       "            <td>Black    </td> <td>18%     </td> <td>8%    </td>\n",
       "        </tr>\n",
       "        <tr>\n",
       "            <td>Latino   </td> <td>12%     </td> <td>8%    </td>\n",
       "        </tr>\n",
       "        <tr>\n",
       "            <td>White    </td> <td>54%     </td> <td>54%   </td>\n",
       "        </tr>\n",
       "        <tr>\n",
       "            <td>Other    </td> <td>1%      </td> <td>4%    </td>\n",
       "        </tr>\n",
       "    </tbody>\n",
       "</table>"
      ],
      "text/plain": [
       "Ethnicity | Eligible | Panels\n",
       "Asian     | 15%      | 26%\n",
       "Black     | 18%      | 8%\n",
       "Latino    | 12%      | 8%\n",
       "White     | 54%      | 54%\n",
       "Other     | 1%       | 4%"
      ]
     },
     "execution_count": 33,
     "metadata": {},
     "output_type": "execute_result"
    }
   ],
   "source": [
    "panels = Table().with_columns(\n",
    "    'Ethnicity', make_array('Asian', 'Black', 'Latino', 'White', 'Other'),\n",
    "    'Eligible', make_array(0.15, 0.18, 0.12, 0.54, 0.01),\n",
    "    'Panels', make_array(0.26, 0.08, 0.08, 0.54, 0.04)\n",
    ")\n",
    "\n",
    "panels.set_format([1, 2], PercentFormatter(0))"
   ]
  },
  {
   "cell_type": "markdown",
   "metadata": {},
   "source": [
    "## Step 2: Draw panels at random from the population"
   ]
  },
  {
   "cell_type": "markdown",
   "metadata": {},
   "source": [
    "Start with the `panels` table,"
   ]
  },
  {
   "cell_type": "code",
   "execution_count": 45,
   "metadata": {},
   "outputs": [
    {
     "data": {
      "text/html": [
       "<table border=\"1\" class=\"dataframe\">\n",
       "    <thead>\n",
       "        <tr>\n",
       "            <th>Ethnicity</th> <th>Eligible</th> <th>Panels</th>\n",
       "        </tr>\n",
       "    </thead>\n",
       "    <tbody>\n",
       "        <tr>\n",
       "            <td>Asian    </td> <td>15%     </td> <td>26%   </td>\n",
       "        </tr>\n",
       "        <tr>\n",
       "            <td>Black    </td> <td>18%     </td> <td>8%    </td>\n",
       "        </tr>\n",
       "        <tr>\n",
       "            <td>Latino   </td> <td>12%     </td> <td>8%    </td>\n",
       "        </tr>\n",
       "        <tr>\n",
       "            <td>White    </td> <td>54%     </td> <td>54%   </td>\n",
       "        </tr>\n",
       "        <tr>\n",
       "            <td>Other    </td> <td>1%      </td> <td>4%    </td>\n",
       "        </tr>\n",
       "    </tbody>\n",
       "</table>"
      ],
      "text/plain": [
       "Ethnicity | Eligible | Panels\n",
       "Asian     | 15%      | 26%\n",
       "Black     | 18%      | 8%\n",
       "Latino    | 12%      | 8%\n",
       "White     | 54%      | 54%\n",
       "Other     | 1%       | 4%"
      ]
     },
     "execution_count": 45,
     "metadata": {},
     "output_type": "execute_result"
    }
   ],
   "source": [
    "panels"
   ]
  },
  {
   "cell_type": "markdown",
   "metadata": {},
   "source": [
    "We want to draw panels at random from the `Eligible`.\n",
    "\n",
    "The panel size from the `Panels` column are actually 1453 since they consist of 11 trials in which each trial consist of 150 panelist. \n",
    "\n",
    "As done before, select the `Ethnicity` column,"
   ]
  },
  {
   "cell_type": "code",
   "execution_count": 35,
   "metadata": {},
   "outputs": [
    {
     "data": {
      "text/html": [
       "<table border=\"1\" class=\"dataframe\">\n",
       "    <thead>\n",
       "        <tr>\n",
       "            <th>Ethnicity</th>\n",
       "        </tr>\n",
       "    </thead>\n",
       "    <tbody>\n",
       "        <tr>\n",
       "            <td>Asian    </td>\n",
       "        </tr>\n",
       "        <tr>\n",
       "            <td>Black    </td>\n",
       "        </tr>\n",
       "        <tr>\n",
       "            <td>Latino   </td>\n",
       "        </tr>\n",
       "        <tr>\n",
       "            <td>White    </td>\n",
       "        </tr>\n",
       "        <tr>\n",
       "            <td>Other    </td>\n",
       "        </tr>\n",
       "    </tbody>\n",
       "</table>"
      ],
      "text/plain": [
       "Ethnicity\n",
       "Asian\n",
       "Black\n",
       "Latino\n",
       "White\n",
       "Other"
      ]
     },
     "execution_count": 35,
     "metadata": {},
     "output_type": "execute_result"
    }
   ],
   "source": [
    "panels.select('Ethnicity')"
   ]
  },
  {
   "cell_type": "markdown",
   "metadata": {},
   "source": [
    "And once again, we can take a `sample` of people out of the `Ethnicity` above."
   ]
  },
  {
   "cell_type": "code",
   "execution_count": 36,
   "metadata": {},
   "outputs": [
    {
     "data": {
      "text/html": [
       "<table border=\"1\" class=\"dataframe\">\n",
       "    <thead>\n",
       "        <tr>\n",
       "            <th>Ethnicity</th>\n",
       "        </tr>\n",
       "    </thead>\n",
       "    <tbody>\n",
       "        <tr>\n",
       "            <td>Black    </td>\n",
       "        </tr>\n",
       "        <tr>\n",
       "            <td>Other    </td>\n",
       "        </tr>\n",
       "        <tr>\n",
       "            <td>Latino   </td>\n",
       "        </tr>\n",
       "        <tr>\n",
       "            <td>Asian    </td>\n",
       "        </tr>\n",
       "        <tr>\n",
       "            <td>Asian    </td>\n",
       "        </tr>\n",
       "        <tr>\n",
       "            <td>Latino   </td>\n",
       "        </tr>\n",
       "        <tr>\n",
       "            <td>Other    </td>\n",
       "        </tr>\n",
       "        <tr>\n",
       "            <td>White    </td>\n",
       "        </tr>\n",
       "        <tr>\n",
       "            <td>Latino   </td>\n",
       "        </tr>\n",
       "        <tr>\n",
       "            <td>White    </td>\n",
       "        </tr>\n",
       "    </tbody>\n",
       "</table>\n",
       "<p>... (9990 rows omitted)</p>"
      ],
      "text/plain": [
       "Ethnicity\n",
       "Black\n",
       "Other\n",
       "Latino\n",
       "Asian\n",
       "Asian\n",
       "Latino\n",
       "Other\n",
       "White\n",
       "Latino\n",
       "White\n",
       "... (9990 rows omitted)"
      ]
     },
     "execution_count": 36,
     "metadata": {},
     "output_type": "execute_result"
    }
   ],
   "source": [
    "panels.select('Ethnicity').sample(10000)"
   ]
  },
  {
   "cell_type": "markdown",
   "metadata": {},
   "source": [
    "However, again the probability of getting all 5 ethnicities are equal. If we count the number of times each `Ethnicity` appear,"
   ]
  },
  {
   "cell_type": "code",
   "execution_count": 37,
   "metadata": {},
   "outputs": [
    {
     "data": {
      "text/html": [
       "<table border=\"1\" class=\"dataframe\">\n",
       "    <thead>\n",
       "        <tr>\n",
       "            <th>Ethnicity</th> <th>count</th>\n",
       "        </tr>\n",
       "    </thead>\n",
       "    <tbody>\n",
       "        <tr>\n",
       "            <td>Asian    </td> <td>1996 </td>\n",
       "        </tr>\n",
       "        <tr>\n",
       "            <td>Black    </td> <td>2023 </td>\n",
       "        </tr>\n",
       "        <tr>\n",
       "            <td>Latino   </td> <td>2019 </td>\n",
       "        </tr>\n",
       "        <tr>\n",
       "            <td>Other    </td> <td>1986 </td>\n",
       "        </tr>\n",
       "        <tr>\n",
       "            <td>White    </td> <td>1976 </td>\n",
       "        </tr>\n",
       "    </tbody>\n",
       "</table>"
      ],
      "text/plain": [
       "Ethnicity | count\n",
       "Asian     | 1996\n",
       "Black     | 2023\n",
       "Latino    | 2019\n",
       "Other     | 1986\n",
       "White     | 1976"
      ]
     },
     "execution_count": 37,
     "metadata": {},
     "output_type": "execute_result"
    }
   ],
   "source": [
    "panels.select('Ethnicity').sample(10000).group('Ethnicity')"
   ]
  },
  {
   "cell_type": "markdown",
   "metadata": {},
   "source": [
    "We will see that the amount of people drawn from each ethnicity is about the same. This is not a representation of a panel drawn from the population. We want to adjust the likelyhood of each ethnicity appearing so that the panel would reflect a panel drawn at random from population.\n",
    "\n",
    "We start by taking the values from `Eligible` column,"
   ]
  },
  {
   "cell_type": "code",
   "execution_count": 38,
   "metadata": {},
   "outputs": [
    {
     "data": {
      "text/plain": [
       "array([0.15, 0.18, 0.12, 0.54, 0.01])"
      ]
     },
     "execution_count": 38,
     "metadata": {},
     "output_type": "execute_result"
    }
   ],
   "source": [
    "panels.column('Eligible')"
   ]
  },
  {
   "cell_type": "markdown",
   "metadata": {},
   "source": [
    "Then take a `sample` with the weights as specified above."
   ]
  },
  {
   "cell_type": "code",
   "execution_count": 39,
   "metadata": {},
   "outputs": [
    {
     "data": {
      "text/html": [
       "<table border=\"1\" class=\"dataframe\">\n",
       "    <thead>\n",
       "        <tr>\n",
       "            <th>Ethnicity</th> <th>count</th>\n",
       "        </tr>\n",
       "    </thead>\n",
       "    <tbody>\n",
       "        <tr>\n",
       "            <td>Asian    </td> <td>1510 </td>\n",
       "        </tr>\n",
       "        <tr>\n",
       "            <td>Black    </td> <td>1723 </td>\n",
       "        </tr>\n",
       "        <tr>\n",
       "            <td>Latino   </td> <td>1255 </td>\n",
       "        </tr>\n",
       "        <tr>\n",
       "            <td>Other    </td> <td>96   </td>\n",
       "        </tr>\n",
       "        <tr>\n",
       "            <td>White    </td> <td>5416 </td>\n",
       "        </tr>\n",
       "    </tbody>\n",
       "</table>"
      ],
      "text/plain": [
       "Ethnicity | count\n",
       "Asian     | 1510\n",
       "Black     | 1723\n",
       "Latino    | 1255\n",
       "Other     | 96\n",
       "White     | 5416"
      ]
     },
     "execution_count": 39,
     "metadata": {},
     "output_type": "execute_result"
    }
   ],
   "source": [
    "panels.select('Ethnicity').sample(10000, weights = panels.column('Eligible')).group('Ethnicity')"
   ]
  },
  {
   "cell_type": "markdown",
   "metadata": {},
   "source": [
    "Above, we get about the correct proportion of each ethnicity. Note that the `group` method automatically sorts the `Ethnicity`. In the original `panels` table, `Other` was at the bottom. In the table above, `White` is at the bottom. \n",
    "\n",
    "Now that we know the proportion is correct, we can draw a panel with the size 1453!"
   ]
  },
  {
   "cell_type": "code",
   "execution_count": 40,
   "metadata": {},
   "outputs": [
    {
     "data": {
      "text/html": [
       "<table border=\"1\" class=\"dataframe\">\n",
       "    <thead>\n",
       "        <tr>\n",
       "            <th>Ethnicity</th> <th>count</th>\n",
       "        </tr>\n",
       "    </thead>\n",
       "    <tbody>\n",
       "        <tr>\n",
       "            <td>Asian    </td> <td>218  </td>\n",
       "        </tr>\n",
       "        <tr>\n",
       "            <td>Black    </td> <td>274  </td>\n",
       "        </tr>\n",
       "        <tr>\n",
       "            <td>Latino   </td> <td>179  </td>\n",
       "        </tr>\n",
       "        <tr>\n",
       "            <td>Other    </td> <td>11   </td>\n",
       "        </tr>\n",
       "        <tr>\n",
       "            <td>White    </td> <td>771  </td>\n",
       "        </tr>\n",
       "    </tbody>\n",
       "</table>"
      ],
      "text/plain": [
       "Ethnicity | count\n",
       "Asian     | 218\n",
       "Black     | 274\n",
       "Latino    | 179\n",
       "Other     | 11\n",
       "White     | 771"
      ]
     },
     "execution_count": 40,
     "metadata": {},
     "output_type": "execute_result"
    }
   ],
   "source": [
    "panels.select('Ethnicity').sample(1453, weights = panels.column('Eligible')).group('Ethnicity')"
   ]
  },
  {
   "cell_type": "markdown",
   "metadata": {},
   "source": [
    "And we can convert the table above into proportions and put the proportion as a new column in the original table.\n",
    "\n",
    "There is a short way of doing the steps above: the function `proportions_from_distribution`."
   ]
  },
  {
   "cell_type": "code",
   "execution_count": 41,
   "metadata": {},
   "outputs": [],
   "source": [
    "proportions_from_distribution?"
   ]
  },
  {
   "cell_type": "markdown",
   "metadata": {},
   "source": [
    "#### Pro Tip: If we want to use a function but we happened to forgot what we should put as the arguments, hold `Shift` and press `Tab` inside the parentheses `()`. Press `Tab` one more time to expand the explanation box."
   ]
  },
  {
   "cell_type": "code",
   "execution_count": 42,
   "metadata": {},
   "outputs": [
    {
     "ename": "TypeError",
     "evalue": "proportions_from_distribution() missing 3 required positional arguments: 'table', 'label', and 'sample_size'",
     "output_type": "error",
     "traceback": [
      "\u001b[1;31m--------------------------------------------------------------------\u001b[0m",
      "\u001b[1;31mTypeError\u001b[0m                          Traceback (most recent call last)",
      "\u001b[1;32m<ipython-input-42-095aadefb405>\u001b[0m in \u001b[0;36m<module>\u001b[1;34m\u001b[0m\n\u001b[1;32m----> 1\u001b[1;33m \u001b[0mproportions_from_distribution\u001b[0m\u001b[1;33m(\u001b[0m\u001b[1;33m)\u001b[0m\u001b[1;33m\u001b[0m\u001b[1;33m\u001b[0m\u001b[0m\n\u001b[0m",
      "\u001b[1;31mTypeError\u001b[0m: proportions_from_distribution() missing 3 required positional arguments: 'table', 'label', and 'sample_size'"
     ]
    }
   ],
   "source": [
    "proportions_from_distribution()"
   ]
  },
  {
   "cell_type": "markdown",
   "metadata": {},
   "source": [
    "As we can see from the function documentation, the function `proportions_from_distribution` takes a table, the column label that contains the value of proportions, and the sample size."
   ]
  },
  {
   "cell_type": "code",
   "execution_count": 67,
   "metadata": {},
   "outputs": [
    {
     "data": {
      "text/html": [
       "<table border=\"1\" class=\"dataframe\">\n",
       "    <thead>\n",
       "        <tr>\n",
       "            <th>Ethnicity</th> <th>Eligible</th> <th>Panels</th> <th>Random Sample</th>\n",
       "        </tr>\n",
       "    </thead>\n",
       "    <tbody>\n",
       "        <tr>\n",
       "            <td>Asian    </td> <td>15%     </td> <td>26%   </td> <td>0.15554      </td>\n",
       "        </tr>\n",
       "        <tr>\n",
       "            <td>Black    </td> <td>18%     </td> <td>8%    </td> <td>0.163111     </td>\n",
       "        </tr>\n",
       "        <tr>\n",
       "            <td>Latino   </td> <td>12%     </td> <td>8%    </td> <td>0.138334     </td>\n",
       "        </tr>\n",
       "        <tr>\n",
       "            <td>White    </td> <td>54%     </td> <td>54%   </td> <td>0.528562     </td>\n",
       "        </tr>\n",
       "        <tr>\n",
       "            <td>Other    </td> <td>1%      </td> <td>4%    </td> <td>0.0144529    </td>\n",
       "        </tr>\n",
       "    </tbody>\n",
       "</table>"
      ],
      "text/plain": [
       "Ethnicity | Eligible | Panels | Random Sample\n",
       "Asian     | 15%      | 26%    | 0.15554\n",
       "Black     | 18%      | 8%     | 0.163111\n",
       "Latino    | 12%      | 8%     | 0.138334\n",
       "White     | 54%      | 54%    | 0.528562\n",
       "Other     | 1%       | 4%     | 0.0144529"
      ]
     },
     "execution_count": 67,
     "metadata": {},
     "output_type": "execute_result"
    }
   ],
   "source": [
    "panel_size = 1453\n",
    "proportions_from_distribution(panels, 'Eligible', panel_size)"
   ]
  },
  {
   "cell_type": "markdown",
   "metadata": {},
   "source": [
    "As can be seen above, the function draws a random sample with the assigned proportion and adds the value as a column to the original table.\n",
    "\n",
    "We can change the format from decimals to percentage to make the table look better."
   ]
  },
  {
   "cell_type": "code",
   "execution_count": 68,
   "metadata": {},
   "outputs": [
    {
     "data": {
      "text/html": [
       "<table border=\"1\" class=\"dataframe\">\n",
       "    <thead>\n",
       "        <tr>\n",
       "            <th>Ethnicity</th> <th>Eligible</th> <th>Panels</th> <th>Random Sample</th>\n",
       "        </tr>\n",
       "    </thead>\n",
       "    <tbody>\n",
       "        <tr>\n",
       "            <td>Asian    </td> <td>15%     </td> <td>26%   </td> <td>14%          </td>\n",
       "        </tr>\n",
       "        <tr>\n",
       "            <td>Black    </td> <td>18%     </td> <td>8%    </td> <td>18%          </td>\n",
       "        </tr>\n",
       "        <tr>\n",
       "            <td>Latino   </td> <td>12%     </td> <td>8%    </td> <td>13%          </td>\n",
       "        </tr>\n",
       "        <tr>\n",
       "            <td>White    </td> <td>54%     </td> <td>54%   </td> <td>54%          </td>\n",
       "        </tr>\n",
       "        <tr>\n",
       "            <td>Other    </td> <td>1%      </td> <td>4%    </td> <td>1%           </td>\n",
       "        </tr>\n",
       "    </tbody>\n",
       "</table>"
      ],
      "text/plain": [
       "Ethnicity | Eligible | Panels | Random Sample\n",
       "Asian     | 15%      | 26%    | 14%\n",
       "Black     | 18%      | 8%     | 18%\n",
       "Latino    | 12%      | 8%     | 13%\n",
       "White     | 54%      | 54%    | 54%\n",
       "Other     | 1%       | 4%     | 1%"
      ]
     },
     "execution_count": 68,
     "metadata": {},
     "output_type": "execute_result"
    }
   ],
   "source": [
    "sample_1 = proportions_from_distribution(panels, 'Eligible', panel_size)\n",
    "sample_1.set_format([1, 2, 3], PercentFormatter(0))"
   ]
  },
  {
   "cell_type": "markdown",
   "metadata": {},
   "source": [
    "Now that we have created the table above, we can create a visualization to compare each distribution."
   ]
  },
  {
   "cell_type": "code",
   "execution_count": 48,
   "metadata": {},
   "outputs": [
    {
     "data": {
      "image/png": "[encoded data removed]",
      "text/plain": [
       "<Figure size 432x288 with 1 Axes>"
      ]
     },
     "metadata": {},
     "output_type": "display_data"
    }
   ],
   "source": [
    "sample_1.barh('Ethnicity')"
   ]
  },
  {
   "cell_type": "markdown",
   "metadata": {},
   "source": [
    "Above, we can see that the length of the `Random Sample` bars are similar to those of `Eligible`. This means most of the time, we should get a random sample that resembles the population. "
   ]
  },
  {
   "cell_type": "markdown",
   "metadata": {},
   "source": [
    "# Empirical Distribution\n",
    "Recall in the past lecture, we discussed 2 types of distribution: **probability** distribution and **empirical** distribution. We used the \"roll-a-die\" as representation.\n",
    "\n",
    "\"Roll a die 6,000 times and we should see about 1,000 of those to be 6. The probability of each face to occur is equally likely, which is 1/6.\" - This is the mathematical probability distribution of each face to occur.\n",
    "\n",
    "\"Roll a die 6,000 times. Count each number of times 6 appears. Based on that result, we can make an estimate of how likely 6 is going to show up.\" - This is empirical distribution"
   ]
  },
  {
   "cell_type": "markdown",
   "metadata": {},
   "source": [
    "## Distribution of a Statistic\n",
    "We are going to go over some terms about the distribution of a statistic.\n",
    "\n",
    "1. `Statistic`: A quantity for a particular sample. \n",
    "    * When we roll a die 6,000 times,\n",
    "        * The sample is 6,000 die rolls\n",
    "        * The `statistic` is the number of 6s that we get\n",
    "    \n",
    "2. `Distribution`: The chance of each outcome of sampling\n",
    "\n",
    "This not the same as the chance of getting each face in a die roll. The chance of getting each face in a die roll is 1/6. What we want to know is the chance of getting 6s in 6,000 rolls. \n",
    "* We could get no 6s at all. We could get all 6s for every single roll. The probability of any of these happening is not 0, but extremely small. \n",
    "\n",
    "\n",
    "* Between 0 to 6,000, there can be any number of 6 that can show up. We can get 100 6s, or 2,000 6s.\n",
    "    * Each of these outcome of sampling has a chance or `distribution`\n",
    "    * If we calculate the chance precisely using the laws of probability, we can get the `sampling distribution`\n",
    "\n",
    "3. `Sampling Distribution`: Chance of each value of a statistic (computed for all possible samples)\n",
    "    * For a particular sample, what is the probability of obtaining the result of our statistic?\n",
    "        * If we roll a die 6,000 times, what is the probability of getting 1,000 6s? What is the probability of getting 2,000 6s? or no 6s at all?\n",
    "    * This is also known as **the probability distribution of the statistic**\n",
    "    \n",
    "4. `Empirical Distribution`: Observations of a statistic (computed from some samples drawn at random)\n",
    "    * Roll a die 6,000 times and count how many 6s appear. Repeat this multiple times\n",
    "        * Turns out we find 1000 6s pretty often among the repetitions.\n",
    "        * We found 999 6s and 1001 6s quite often too\n",
    "        * Not as many as 700 6s and 1300 6s\n",
    "    * As we roll the die and obtain more samples, we can get closer to the `sampling distribution` using the **law of large numbers**\n",
    "    \n",
    "For clarification regarding distributions:\n",
    "1. `Probability distribution` of each face of a die\n",
    "    * Each face of a die has 1/6 chance of appearing\n",
    "\n",
    "2. `Probability distribution of the statistic`: What's the probability of a certain number of times 6s appear in 6,000 rolls?\n",
    "\n",
    "Both of the distributions above can be approximated through sampling:\n",
    "* Roll a die\n",
    "* See how likely each face to occur\n",
    "\n",
    "For `Empirical Distribution`:\n",
    "* Roll a die 6,000 times\n",
    "* Count how many 6s\n",
    "* Repeat multiple times \n",
    "\n",
    "Make sure to know which distribution that is currently worked on.\n",
    "\n",
    "In Alamada Jury Panel case, it is very difficult to compute the precise probability distribution. For cases like this, it is much easier to draw samples and see what happens. "
   ]
  },
  {
   "cell_type": "markdown",
   "metadata": {},
   "source": [
    "## Alameda County Jury Panels\n",
    "\n",
    "1. `Statistic`: the TVD between a sample and the population distribution\n",
    "2. `Distribution` : the chance of each possible TVD\n",
    "3. `Sampling Distribution`: the exact probability of each TVD\n",
    "    * It is possible to draw a panel that looks exactly like the population. In that case, the TVD will be 0\n",
    "    * `Sampling distribution` and `probability distribution` are terms that can be used interchangibly \n",
    "\n",
    "4. `Empirical Distribution`: Probability of each TVD using simulated panels from the population\n",
    "\n",
    "Back to our sample of panels"
   ]
  },
  {
   "cell_type": "code",
   "execution_count": 69,
   "metadata": {},
   "outputs": [
    {
     "data": {
      "text/html": [
       "<table border=\"1\" class=\"dataframe\">\n",
       "    <thead>\n",
       "        <tr>\n",
       "            <th>Ethnicity</th> <th>Eligible</th> <th>Panels</th> <th>Random Sample</th>\n",
       "        </tr>\n",
       "    </thead>\n",
       "    <tbody>\n",
       "        <tr>\n",
       "            <td>Asian    </td> <td>15%     </td> <td>26%   </td> <td>14%          </td>\n",
       "        </tr>\n",
       "        <tr>\n",
       "            <td>Black    </td> <td>18%     </td> <td>8%    </td> <td>18%          </td>\n",
       "        </tr>\n",
       "        <tr>\n",
       "            <td>Latino   </td> <td>12%     </td> <td>8%    </td> <td>13%          </td>\n",
       "        </tr>\n",
       "        <tr>\n",
       "            <td>White    </td> <td>54%     </td> <td>54%   </td> <td>54%          </td>\n",
       "        </tr>\n",
       "        <tr>\n",
       "            <td>Other    </td> <td>1%      </td> <td>4%    </td> <td>1%           </td>\n",
       "        </tr>\n",
       "    </tbody>\n",
       "</table>"
      ],
      "text/plain": [
       "Ethnicity | Eligible | Panels | Random Sample\n",
       "Asian     | 15%      | 26%    | 14%\n",
       "Black     | 18%      | 8%     | 18%\n",
       "Latino    | 12%      | 8%     | 13%\n",
       "White     | 54%      | 54%    | 54%\n",
       "Other     | 1%       | 4%     | 1%"
      ]
     },
     "execution_count": 69,
     "metadata": {},
     "output_type": "execute_result"
    }
   ],
   "source": [
    "sample_1"
   ]
  },
  {
   "cell_type": "code",
   "execution_count": 70,
   "metadata": {},
   "outputs": [
    {
     "data": {
      "image/png": "[encoded data removed]",
      "text/plain": [
       "<Figure size 432x288 with 1 Axes>"
      ]
     },
     "metadata": {},
     "output_type": "display_data"
    }
   ],
   "source": [
    "sample_1.barh(0)"
   ]
  },
  {
   "cell_type": "markdown",
   "metadata": {},
   "source": [
    "Above we have a sample. We can compute and see if the TVD between this sample and the population is likely."
   ]
  },
  {
   "cell_type": "markdown",
   "metadata": {},
   "source": [
    "## Step 3: See if sample panel is likely"
   ]
  },
  {
   "cell_type": "code",
   "execution_count": 57,
   "metadata": {},
   "outputs": [
    {
     "data": {
      "text/plain": [
       "0.05000000000000001"
      ]
     },
     "execution_count": 57,
     "metadata": {},
     "output_type": "execute_result"
    }
   ],
   "source": [
    "table_tvd(sample_1, 'Eligible','Random Sample')"
   ]
  },
  {
   "cell_type": "markdown",
   "metadata": {},
   "source": [
    "Above is a TVD of one sample. We want the TVD of multiple samples, thus we need simulate taking the random sample multiple times. We will do 1,000 repetitions."
   ]
  },
  {
   "cell_type": "code",
   "execution_count": 71,
   "metadata": {},
   "outputs": [
    {
     "data": {
      "text/plain": [
       "array([0.0227254 , 0.01561597, 0.0178596 , 0.01824501, 0.00889883,\n",
       "       0.02507226, 0.00460427, 0.01480385, 0.00836201, 0.02604267,\n",
       "       0.01818995, 0.02676531, 0.01893324, 0.01333792, 0.02410186,\n",
       "       0.01434962, 0.02075017, 0.00836201, 0.02269787, 0.01725396,\n",
       "       0.01658637, 0.01203716, 0.03095664, 0.03818995, 0.01656573,\n",
       "       0.02069511, 0.01377839, 0.0233861 , 0.02126635, 0.01728149,\n",
       "       0.02213352, 0.01094288, 0.03511356, 0.00916036, 0.0248245 ,\n",
       "       0.02779078, 0.02195458, 0.02278734, 0.0213214 , 0.01641432,\n",
       "       0.01002753, 0.00952512, 0.01515485, 0.0237371 , 0.01584308,\n",
       "       0.01796284, 0.02300757, 0.02511356, 0.0113627 , 0.02123193,\n",
       "       0.0135031 , 0.0136958 , 0.02269787, 0.00698555, 0.02415692,\n",
       "       0.01683414, 0.01203716, 0.0151755 , 0.02567791, 0.01687543,\n",
       "       0.01958706, 0.00790778, 0.01094288, 0.02192017, 0.0106607 ,\n",
       "       0.01656573, 0.0215967 , 0.01479009, 0.01960771, 0.009298  ,\n",
       "       0.02209222, 0.01342739, 0.00956641, 0.01136958, 0.02264281,\n",
       "       0.02328975, 0.01931865, 0.0083276 , 0.00883689, 0.02788713,\n",
       "       0.01217481, 0.02869236, 0.02134893, 0.00830695, 0.01163111,\n",
       "       0.01847901, 0.02329663, 0.02144529, 0.01217481, 0.01681349,\n",
       "       0.01411562, 0.00930489, 0.01851342, 0.02958018, 0.02553338,\n",
       "       0.01593944, 0.02933242, 0.01653131, 0.03403992, 0.01709566,\n",
       "       0.02784584, 0.01337233, 0.02889195, 0.02038541, 0.01108741,\n",
       "       0.01384033, 0.0173159 , 0.01174811, 0.01173434, 0.01233999,\n",
       "       0.0157192 , 0.01199587, 0.01278045, 0.01543703, 0.00836201,\n",
       "       0.02644873, 0.02059876, 0.02375774, 0.01694425, 0.02673778,\n",
       "       0.02484515, 0.01304198, 0.01033723, 0.01205093, 0.02344804,\n",
       "       0.02443909, 0.03759119, 0.00822436, 0.0173159 , 0.01549209,\n",
       "       0.01728149, 0.01302822, 0.02925671, 0.01919477, 0.00411562,\n",
       "       0.02710255, 0.0267722 , 0.01035788, 0.01618032, 0.00680661,\n",
       "       0.0063042 , 0.02043359, 0.0271989 , 0.02763937, 0.01719202,\n",
       "       0.0206607 , 0.02379215, 0.0262629 , 0.01581555, 0.00893324,\n",
       "       0.01549209, 0.02260151, 0.01825189, 0.02063317, 0.01343427,\n",
       "       0.0182863 , 0.00974535, 0.03313833, 0.01168617, 0.01524432,\n",
       "       0.00998624, 0.01231934, 0.01479009, 0.01371645, 0.0224501 ,\n",
       "       0.03604955, 0.02068135, 0.01446662, 0.010585  , 0.02053682,\n",
       "       0.01260151, 0.02249828, 0.0067722 , 0.02269787, 0.01800413,\n",
       "       0.01925671, 0.00916036, 0.01419133, 0.02236063, 0.01212663,\n",
       "       0.01228493, 0.00618032, 0.01235375, 0.0167309 , 0.02306263,\n",
       "       0.02948383, 0.0187956 , 0.01969718, 0.01856848, 0.01640743,\n",
       "       0.01741913, 0.02282175, 0.01851342, 0.03314522, 0.01694425,\n",
       "       0.02126635, 0.0305437 , 0.00624226, 0.01622161, 0.02419821,\n",
       "       0.01937371, 0.02498968, 0.01905712, 0.02484515, 0.02723331,\n",
       "       0.01556779, 0.01260151, 0.03580179, 0.02556779, 0.02897454,\n",
       "       0.01836889, 0.01796284, 0.0187956 , 0.0135031 , 0.01725396,\n",
       "       0.02098417, 0.02466621, 0.01897454, 0.01384033, 0.02556779,\n",
       "       0.0206607 , 0.01847213, 0.01231934, 0.01925671, 0.01437715,\n",
       "       0.02746043, 0.01273916, 0.01721955, 0.00746731, 0.01515485,\n",
       "       0.01644184, 0.02880248, 0.0113627 , 0.0152512 , 0.02751549,\n",
       "       0.02006882, 0.02685478, 0.00786648, 0.0323331 , 0.00815554,\n",
       "       0.01165175, 0.02212663, 0.02811425, 0.00930489, 0.01609085,\n",
       "       0.01273916, 0.02810736, 0.01383345, 0.01916036, 0.02705437,\n",
       "       0.03342739, 0.01191328, 0.02690984, 0.01616655, 0.01974535,\n",
       "       0.02832072, 0.01759807, 0.00267722, 0.01312457, 0.0123744 ,\n",
       "       0.01690984, 0.00970406, 0.02328975, 0.04122505, 0.01002753,\n",
       "       0.0057192 , 0.01916724, 0.01406056, 0.01273916, 0.0247075 ,\n",
       "       0.00788713, 0.0172746 , 0.02897454, 0.02756366, 0.00746043,\n",
       "       0.01655196, 0.01245699, 0.00818307, 0.01512732, 0.02172746,\n",
       "       0.03759119, 0.02413627, 0.0157605 , 0.01604267, 0.01905712,\n",
       "       0.02487956, 0.00996559, 0.01937371, 0.02292498, 0.01937371,\n",
       "       0.00796284, 0.01260151, 0.0187956 , 0.01386786, 0.0062629 ,\n",
       "       0.02763937, 0.04415003, 0.00717825, 0.02536132, 0.0343978 ,\n",
       "       0.01891948, 0.00905712, 0.00662078, 0.01796972, 0.01406056,\n",
       "       0.02333104, 0.03067447, 0.03086717, 0.02535444, 0.02274604,\n",
       "       0.00781831, 0.0103097 , 0.01312457, 0.01994494, 0.0267722 ,\n",
       "       0.01616655, 0.0248245 , 0.01521679, 0.03039229, 0.01205093,\n",
       "       0.01108052, 0.02556779, 0.02038541, 0.02000688, 0.01212663,\n",
       "       0.0032278 , 0.0236958 , 0.02851342, 0.01507226, 0.01033723,\n",
       "       0.01547832, 0.01782519, 0.01656573, 0.0072746 , 0.01371645,\n",
       "       0.02122505, 0.00952512, 0.01547832, 0.01300069, 0.02094288,\n",
       "       0.0192223 , 0.00916036, 0.01768066, 0.01551273, 0.03824501,\n",
       "       0.01956641, 0.00689608, 0.00901583, 0.01033723, 0.00952512,\n",
       "       0.02000688, 0.01090158, 0.01318651, 0.0208947 , 0.01966277,\n",
       "       0.00645561, 0.01584308, 0.0168479 , 0.01415692, 0.01685478,\n",
       "       0.01108052, 0.01836889, 0.02236063, 0.01937371, 0.01434962,\n",
       "       0.01962147, 0.0233861 , 0.01246387, 0.02163111, 0.01593255,\n",
       "       0.01509291, 0.01212663, 0.01246387, 0.01079835, 0.02094288,\n",
       "       0.02900895, 0.01094288, 0.01895389, 0.00750172, 0.02346869,\n",
       "       0.01753613, 0.02581555, 0.01406056, 0.02200964, 0.009649  ,\n",
       "       0.00681349, 0.02101858, 0.01644184, 0.01249828, 0.00640743,\n",
       "       0.00958706, 0.00551961, 0.02608396, 0.00827254, 0.01713696,\n",
       "       0.01231934, 0.01938059, 0.01245699, 0.0248245 , 0.01201652,\n",
       "       0.03746043, 0.0168479 , 0.01441844, 0.0163042 , 0.0148245 ,\n",
       "       0.01553338, 0.01655196, 0.03090158, 0.00999312, 0.01650379,\n",
       "       0.01079835, 0.0262629 , 0.02122505, 0.02123193, 0.01549209,\n",
       "       0.01168617, 0.01750172, 0.02278045, 0.02823125, 0.0126841 ,\n",
       "       0.01920165, 0.01790778, 0.0127254 , 0.0236958 , 0.02448039,\n",
       "       0.00827254, 0.02126635, 0.01136958, 0.01181005, 0.02933242,\n",
       "       0.01025465, 0.02057811, 0.00962147, 0.03061941, 0.01540262,\n",
       "       0.01509291, 0.01479009, 0.0323331 , 0.02310392, 0.01681349,\n",
       "       0.01108741, 0.01415692, 0.02763248, 0.01966277, 0.00768066,\n",
       "       0.01641432, 0.03401927, 0.00796284, 0.02572608, 0.02430145,\n",
       "       0.02025465, 0.02479009, 0.02379215, 0.00308328, 0.01375086,\n",
       "       0.02556779, 0.00995182, 0.02604267, 0.01021335, 0.02717825,\n",
       "       0.010585  , 0.0267722 , 0.01825189, 0.00515485, 0.03483827,\n",
       "       0.02163111, 0.01235375, 0.02407433, 0.03139711, 0.02069511,\n",
       "       0.01992429, 0.01053682, 0.02099794, 0.01847213, 0.01728149,\n",
       "       0.02053682, 0.03107364, 0.04516173, 0.01011012, 0.04774948,\n",
       "       0.01584308, 0.01677908, 0.01002753, 0.02239504, 0.01163111,\n",
       "       0.01779078, 0.01413627, 0.01443909, 0.01515485, 0.0152512 ,\n",
       "       0.01328975, 0.009883  , 0.02375086, 0.02536132, 0.01859601,\n",
       "       0.02860977, 0.03580179, 0.01788025, 0.01233999, 0.03488644,\n",
       "       0.03236063, 0.01847901, 0.0077839 , 0.009649  , 0.01278045,\n",
       "       0.03118376, 0.02103923, 0.01688919, 0.00695114, 0.01240193,\n",
       "       0.0168479 , 0.0104267 , 0.01962147, 0.0252512 , 0.02379215,\n",
       "       0.01507226, 0.00905024, 0.01174811, 0.01228493, 0.02122505,\n",
       "       0.03239504, 0.01994494, 0.020351  , 0.02375086, 0.01889883,\n",
       "       0.0142395 , 0.01974535, 0.01549209, 0.02382657, 0.01650379,\n",
       "       0.02746043, 0.00790778, 0.01540262, 0.00282863, 0.01893324,\n",
       "       0.01069511, 0.0182863 , 0.0083276 , 0.00714384, 0.01593944,\n",
       "       0.01759807, 0.01699243, 0.01140399, 0.01561597, 0.02057811,\n",
       "       0.00814866, 0.02063317, 0.01650379, 0.01545767, 0.04139711,\n",
       "       0.02685478, 0.00755678, 0.0168479 , 0.01518926, 0.029298  ,\n",
       "       0.01658637, 0.02401927, 0.01618032, 0.02551273, 0.01099794,\n",
       "       0.01934618, 0.01064006, 0.00695114, 0.02172746, 0.02043359,\n",
       "       0.02438403, 0.01274604, 0.01900895, 0.0163042 , 0.01868548,\n",
       "       0.01199587, 0.0177839 , 0.00790778, 0.00905712, 0.02038541,\n",
       "       0.01788025, 0.02138334, 0.02379215, 0.00587749, 0.0235031 ,\n",
       "       0.02304886, 0.01937371, 0.0126841 , 0.01572608, 0.01938059,\n",
       "       0.01868548, 0.01340674, 0.01800413, 0.02682725, 0.01745354,\n",
       "       0.01375086, 0.01612526, 0.01105988, 0.01328975, 0.01538885,\n",
       "       0.00896077, 0.00746731, 0.01792842, 0.02205781, 0.02484515,\n",
       "       0.01379904, 0.01753613, 0.01653131, 0.02177564, 0.01685478,\n",
       "       0.01304198, 0.01209222, 0.00589814, 0.01217481, 0.02398486,\n",
       "       0.01561597, 0.01549209, 0.02795595, 0.01593944, 0.00658637,\n",
       "       0.02401927, 0.02625602, 0.01125946, 0.02820372, 0.03176875,\n",
       "       0.02059876, 0.02949071, 0.02057811, 0.02864418, 0.02375774,\n",
       "       0.01887818, 0.0216724 , 0.01434962, 0.01572608, 0.02097729,\n",
       "       0.01810736, 0.02212663, 0.01300069, 0.01822436, 0.01622161,\n",
       "       0.02487956, 0.01535444, 0.03843772, 0.02763248, 0.02387474,\n",
       "       0.01021335, 0.01640743, 0.01725396, 0.01948383, 0.0216724 ,\n",
       "       0.01545767, 0.00974535, 0.0161872 , 0.0093393 , 0.01383345,\n",
       "       0.02895389, 0.02438403, 0.02746043, 0.01492774, 0.01578114,\n",
       "       0.02306263, 0.02203716, 0.01640743, 0.01365451, 0.01796284,\n",
       "       0.01033723, 0.01212663, 0.01371645, 0.00799725, 0.01658637,\n",
       "       0.01071576, 0.01545767, 0.03531315, 0.0236958 , 0.00928424,\n",
       "       0.01002753, 0.01093599, 0.02745354, 0.01166552, 0.01201652,\n",
       "       0.01314522, 0.03589126, 0.0157605 , 0.02644873, 0.01099794,\n",
       "       0.02264281, 0.0117137 , 0.02269787, 0.02719202, 0.02017206,\n",
       "       0.01480385, 0.01507226, 0.01099794, 0.01900895, 0.01800413,\n",
       "       0.00620785, 0.02536132, 0.00970406, 0.02207158, 0.01410186,\n",
       "       0.01069511, 0.01296628, 0.02547832, 0.02269787, 0.0106607 ,\n",
       "       0.01676531, 0.01699243, 0.01847213, 0.01685478, 0.00824501,\n",
       "       0.02484515, 0.01694425, 0.0267309 , 0.02346869, 0.00749484,\n",
       "       0.01341363, 0.00503097, 0.01260151, 0.01377839, 0.00883689,\n",
       "       0.02970406, 0.01260151, 0.03075705, 0.03516862, 0.02710255,\n",
       "       0.02509291, 0.02883689, 0.02134893, 0.0345148 , 0.01071576,\n",
       "       0.01387474, 0.02430145, 0.00968341, 0.02094288, 0.02002753,\n",
       "       0.01300757, 0.01687543, 0.01815554, 0.01387474, 0.01856848,\n",
       "       0.02172746, 0.02536132, 0.01782519, 0.02122505, 0.03419821,\n",
       "       0.02195458, 0.00608396, 0.01641432, 0.01440468, 0.01893324,\n",
       "       0.00836201, 0.01061941, 0.00448039, 0.01662767, 0.01988988,\n",
       "       0.01551273, 0.01209222, 0.01887818, 0.01951824, 0.020351  ,\n",
       "       0.01408121, 0.01584308, 0.01503097, 0.01274604, 0.01512732,\n",
       "       0.02649002, 0.02123193, 0.0187956 , 0.01438403, 0.02292498,\n",
       "       0.01402615, 0.01296628, 0.0226084 , 0.01191328, 0.00993118,\n",
       "       0.01286304, 0.00998624, 0.01099794, 0.00649002, 0.01796284,\n",
       "       0.00614591, 0.01245699, 0.01174811, 0.01343427, 0.02238128,\n",
       "       0.01887818, 0.02172746, 0.02094288, 0.0077839 , 0.00580179,\n",
       "       0.00582244, 0.02604267, 0.03792154, 0.02792154, 0.01644873,\n",
       "       0.01452856, 0.01799725, 0.01779078, 0.01604267, 0.00686855,\n",
       "       0.0226084 , 0.0167309 , 0.00304886, 0.0206607 , 0.02788025,\n",
       "       0.00746043, 0.01584308, 0.01328975, 0.01471438, 0.01140399,\n",
       "       0.00689608, 0.01090847, 0.00996559, 0.02361321, 0.01328975,\n",
       "       0.01515485, 0.02126635, 0.01355127, 0.01478321, 0.00905024,\n",
       "       0.02126635, 0.00764625, 0.03086029, 0.02479009, 0.01309016,\n",
       "       0.01233999, 0.00763937, 0.01375086, 0.02419133, 0.01572608,\n",
       "       0.01479009, 0.02200964, 0.01851342, 0.02512732, 0.02212663,\n",
       "       0.03063317, 0.02043359, 0.01547832, 0.00893324, 0.02855471,\n",
       "       0.03241569, 0.01105988, 0.03811425, 0.0113627 , 0.0173159 ,\n",
       "       0.02099794, 0.0103097 , 0.00680661, 0.02745354, 0.01043359,\n",
       "       0.00612526, 0.01618032, 0.01217481, 0.02650379, 0.01039229,\n",
       "       0.01203716, 0.02003441, 0.02864418, 0.00899518, 0.0077839 ,\n",
       "       0.02057811, 0.01309016, 0.01593944, 0.01205781, 0.03090158,\n",
       "       0.01300757, 0.01934618, 0.01788025, 0.02063317, 0.02434962,\n",
       "       0.01337233, 0.02212663, 0.01173434, 0.01212663, 0.01344804,\n",
       "       0.02306951, 0.00860977, 0.01768066, 0.02282175, 0.01810736,\n",
       "       0.00723331, 0.02006194, 0.00827254, 0.02192017, 0.02203716,\n",
       "       0.01750172, 0.01375086, 0.02361321, 0.01863042, 0.02063317,\n",
       "       0.02557467, 0.00615967, 0.02717825, 0.01476944, 0.0147488 ,\n",
       "       0.03637302, 0.02549897, 0.02759807, 0.02172746, 0.00434274,\n",
       "       0.02002753, 0.01412251, 0.02022023, 0.02300757, 0.03057811,\n",
       "       0.0126841 , 0.02140399, 0.01851342, 0.01768066, 0.02572608,\n",
       "       0.01371645, 0.02938059, 0.01653131, 0.00333792, 0.02059876,\n",
       "       0.01730902, 0.01754301, 0.00974535, 0.00658637, 0.01094288,\n",
       "       0.02387474, 0.01402615, 0.02585685, 0.00689608, 0.01366139,\n",
       "       0.01832072, 0.01897454, 0.01341363, 0.01782519, 0.01962147,\n",
       "       0.00721955, 0.01397798, 0.01402615, 0.01274604, 0.02134893,\n",
       "       0.00790089, 0.009532  , 0.00460427, 0.01487956, 0.0117137 ,\n",
       "       0.00801101, 0.01604267, 0.01296628, 0.03170681, 0.03224363,\n",
       "       0.01406056, 0.01180317, 0.03621473, 0.00698555, 0.01916036,\n",
       "       0.01677908, 0.01273916, 0.02071576, 0.0205437 , 0.01487956,\n",
       "       0.02580179, 0.00930489, 0.01641432, 0.02487956, 0.02306951,\n",
       "       0.02549897, 0.01450103, 0.00790089, 0.01593944, 0.01755678,\n",
       "       0.00698555, 0.00586373, 0.02192017, 0.04108052, 0.01916724,\n",
       "       0.02405368, 0.0136958 , 0.02604955, 0.02854783, 0.0233861 ,\n",
       "       0.00860977, 0.01593255, 0.020351  , 0.01916036, 0.01090158,\n",
       "       0.00999312, 0.03621473, 0.01960771, 0.03026841, 0.00958706,\n",
       "       0.01558156, 0.01209222, 0.01709566, 0.02191328, 0.00699243,\n",
       "       0.00818995, 0.0257605 , 0.00796284, 0.0227254 , 0.03883689,\n",
       "       0.01728149, 0.01342739, 0.01868548, 0.02481074, 0.01934618,\n",
       "       0.01240193, 0.02419821, 0.0161872 , 0.01768066, 0.01640743])"
      ]
     },
     "execution_count": 71,
     "metadata": {},
     "output_type": "execute_result"
    }
   ],
   "source": [
    "repetitions = 1000 # Also the number of panels we will get\n",
    "tvds = make_array()\n",
    "\n",
    "for i in np.arange(repetitions):\n",
    "    # 'sample' is a table obtained from calling the 'proportions_from_distribution'\n",
    "    sample = proportions_from_distribution(panels, 'Eligible', panel_size)\n",
    "    tvds = np.append(tvds, table_tvd(sample, 'Eligible', 'Random Sample'))\n",
    "\n",
    "tvds"
   ]
  },
  {
   "cell_type": "markdown",
   "metadata": {},
   "source": [
    "Once again, for visualization purpose, we can put the resulting array above into a table."
   ]
  },
  {
   "cell_type": "code",
   "execution_count": 72,
   "metadata": {},
   "outputs": [
    {
     "data": {
      "text/html": [
       "<table border=\"1\" class=\"dataframe\">\n",
       "    <thead>\n",
       "        <tr>\n",
       "            <th>TVD between population and random sample</th>\n",
       "        </tr>\n",
       "    </thead>\n",
       "    <tbody>\n",
       "        <tr>\n",
       "            <td>0.00406056                              </td>\n",
       "        </tr>\n",
       "        <tr>\n",
       "            <td>0.0238747                               </td>\n",
       "        </tr>\n",
       "        <tr>\n",
       "            <td>0.0118032                               </td>\n",
       "        </tr>\n",
       "        <tr>\n",
       "            <td>0.0152512                               </td>\n",
       "        </tr>\n",
       "        <tr>\n",
       "            <td>0.018596                                </td>\n",
       "        </tr>\n",
       "        <tr>\n",
       "            <td>0.0151273                               </td>\n",
       "        </tr>\n",
       "        <tr>\n",
       "            <td>0.0269098                               </td>\n",
       "        </tr>\n",
       "        <tr>\n",
       "            <td>0.0147832                               </td>\n",
       "        </tr>\n",
       "        <tr>\n",
       "            <td>0.0224501                               </td>\n",
       "        </tr>\n",
       "        <tr>\n",
       "            <td>0.0161803                               </td>\n",
       "        </tr>\n",
       "    </tbody>\n",
       "</table>\n",
       "<p>... (990 rows omitted)</p>"
      ],
      "text/plain": [
       "TVD between population and random sample\n",
       "0.00406056\n",
       "0.0238747\n",
       "0.0118032\n",
       "0.0152512\n",
       "0.018596\n",
       "0.0151273\n",
       "0.0269098\n",
       "0.0147832\n",
       "0.0224501\n",
       "0.0161803\n",
       "... (990 rows omitted)"
      ]
     },
     "execution_count": 72,
     "metadata": {},
     "output_type": "execute_result"
    }
   ],
   "source": [
    "repetitions = 1000 # Also the number of panels we will get\n",
    "tvds = make_array()\n",
    "\n",
    "for i in np.arange(repetitions):\n",
    "    # 'sample' is a table obtained from calling the 'proportions_from_distribution'\n",
    "    sample = proportions_from_distribution(panels, 'Eligible', panel_size)\n",
    "    tvds = np.append(tvds, table_tvd(sample, 'Eligible', 'Random Sample'))\n",
    "\n",
    "results = Table().with_columns('TVD between population and random sample', tvds)\n",
    "results"
   ]
  },
  {
   "cell_type": "code",
   "execution_count": 74,
   "metadata": {},
   "outputs": [
    {
     "data": {
      "image/png": "[encoded data removed]",
      "text/plain": [
       "<Figure size 432x288 with 1 Axes>"
      ]
     },
     "metadata": {},
     "output_type": "display_data"
    }
   ],
   "source": [
    "results.hist()"
   ]
  },
  {
   "cell_type": "markdown",
   "metadata": {},
   "source": [
    "Above is the empirical distribution of the TVDs. We drew panels at random, took the TVD of each panel vs. the population. From the histogram, we can see which TVD is likely.\n",
    "\n",
    "Below we have a function that illustrates what the empirical distribution would look like if we change the number of samples to take."
   ]
  },
  {
   "cell_type": "code",
   "execution_count": 75,
   "metadata": {},
   "outputs": [],
   "source": [
    "def hist_n_samples(tbl, n, bins = None):\n",
    "    tbl.take(np.arange(n)).hist(bins = bins)\n",
    "    plt.ylim(0, 50)\n",
    "    plt.show()"
   ]
  },
  {
   "cell_type": "code",
   "execution_count": 82,
   "metadata": {},
   "outputs": [
    {
     "data": {
      "application/vnd.jupyter.widget-view+json": {
       "model_id": "ec97f094455b47b6a59f57eab983c159",
       "version_major": 2,
       "version_minor": 0
      },
      "text/plain": [
       "interactive(children=(Dropdown(description='n', options=(1, 10, 100, 500, 1000), value=1), Output()), _dom_cla…"
      ]
     },
     "metadata": {},
     "output_type": "display_data"
    }
   ],
   "source": [
    "_ = interact(hist_n_samples, tbl=fixed(results), n=[1, 10, 100, 500, 1000], bins=fixed(np.arange(0, 0.2, 0.01)))"
   ]
  },
  {
   "cell_type": "markdown",
   "metadata": {},
   "source": [
    "Above, as we increase `n`, the number of samples, the histogram resembles more of the population distribution.\n",
    "\n",
    "Now, if we look back to the original panel,"
   ]
  },
  {
   "cell_type": "code",
   "execution_count": 83,
   "metadata": {},
   "outputs": [
    {
     "data": {
      "text/html": [
       "<table border=\"1\" class=\"dataframe\">\n",
       "    <thead>\n",
       "        <tr>\n",
       "            <th>Ethnicity</th> <th>Eligible</th> <th>Panels</th>\n",
       "        </tr>\n",
       "    </thead>\n",
       "    <tbody>\n",
       "        <tr>\n",
       "            <td>Asian    </td> <td>15%     </td> <td>26%   </td>\n",
       "        </tr>\n",
       "        <tr>\n",
       "            <td>Black    </td> <td>18%     </td> <td>8%    </td>\n",
       "        </tr>\n",
       "        <tr>\n",
       "            <td>Latino   </td> <td>12%     </td> <td>8%    </td>\n",
       "        </tr>\n",
       "        <tr>\n",
       "            <td>White    </td> <td>54%     </td> <td>54%   </td>\n",
       "        </tr>\n",
       "        <tr>\n",
       "            <td>Other    </td> <td>1%      </td> <td>4%    </td>\n",
       "        </tr>\n",
       "    </tbody>\n",
       "</table>"
      ],
      "text/plain": [
       "Ethnicity | Eligible | Panels\n",
       "Asian     | 15%      | 26%\n",
       "Black     | 18%      | 8%\n",
       "Latino    | 12%      | 8%\n",
       "White     | 54%      | 54%\n",
       "Other     | 1%       | 4%"
      ]
     },
     "execution_count": 83,
     "metadata": {},
     "output_type": "execute_result"
    }
   ],
   "source": [
    "panels"
   ]
  },
  {
   "cell_type": "markdown",
   "metadata": {},
   "source": [
    "We can calculate the TVD of our `Actual Panel` vs. `Eligible`,"
   ]
  },
  {
   "cell_type": "code",
   "execution_count": 84,
   "metadata": {},
   "outputs": [
    {
     "data": {
      "text/plain": [
       "0.14"
      ]
     },
     "execution_count": 84,
     "metadata": {},
     "output_type": "execute_result"
    }
   ],
   "source": [
    "table_tvd(panels, 'Eligible', 'Panels')"
   ]
  },
  {
   "cell_type": "markdown",
   "metadata": {},
   "source": [
    "Above, our TVD between actual panel and the population is 0.14, which is outside the range of the histogram! This implies that it is unlikely that these actual panels were taken at random from the eligible population. \n",
    "\n",
    "This analysis is enough to give us suspicion, but not enough to say that the jury was unfairly selected.\n",
    "\n",
    "If we stick with the initial assumption that,"
   ]
  },
  {
   "cell_type": "code",
   "execution_count": 85,
   "metadata": {},
   "outputs": [
    {
     "data": {
      "text/html": [
       "<table border=\"1\" class=\"dataframe\">\n",
       "    <thead>\n",
       "        <tr>\n",
       "            <th>Ethnicity</th> <th>Eligible</th> <th>Panels</th>\n",
       "        </tr>\n",
       "    </thead>\n",
       "    <tbody>\n",
       "        <tr>\n",
       "            <td>Asian    </td> <td>15%     </td> <td>26%   </td>\n",
       "        </tr>\n",
       "        <tr>\n",
       "            <td>Black    </td> <td>18%     </td> <td>8%    </td>\n",
       "        </tr>\n",
       "        <tr>\n",
       "            <td>Latino   </td> <td>12%     </td> <td>8%    </td>\n",
       "        </tr>\n",
       "        <tr>\n",
       "            <td>White    </td> <td>54%     </td> <td>54%   </td>\n",
       "        </tr>\n",
       "        <tr>\n",
       "            <td>Other    </td> <td>1%      </td> <td>4%    </td>\n",
       "        </tr>\n",
       "    </tbody>\n",
       "</table>"
      ],
      "text/plain": [
       "Ethnicity | Eligible | Panels\n",
       "Asian     | 15%      | 26%\n",
       "Black     | 18%      | 8%\n",
       "Latino    | 12%      | 8%\n",
       "White     | 54%      | 54%\n",
       "Other     | 1%       | 4%"
      ]
     },
     "execution_count": 85,
     "metadata": {},
     "output_type": "execute_result"
    }
   ],
   "source": [
    "panels"
   ]
  },
  {
   "cell_type": "markdown",
   "metadata": {},
   "source": [
    "Assumption: We selected at random panels from the `Eligible`\n",
    "\n",
    "Then the `Panels` is unlikely to occur by chance.\n",
    "\n",
    "Now recall that our panel size is 1453."
   ]
  },
  {
   "cell_type": "code",
   "execution_count": 86,
   "metadata": {},
   "outputs": [
    {
     "data": {
      "text/plain": [
       "1453"
      ]
     },
     "execution_count": 86,
     "metadata": {},
     "output_type": "execute_result"
    }
   ],
   "source": [
    "panel_size"
   ]
  },
  {
   "cell_type": "markdown",
   "metadata": {},
   "source": [
    "## Discussion Question: How do you think our analysis would change if the jury panels only had 50 people?"
   ]
  },
  {
   "cell_type": "code",
   "execution_count": 87,
   "metadata": {},
   "outputs": [],
   "source": [
    "panel_size = 50"
   ]
  },
  {
   "cell_type": "markdown",
   "metadata": {},
   "source": [
    "We can do the simulation once again and find out,"
   ]
  },
  {
   "cell_type": "code",
   "execution_count": 91,
   "metadata": {},
   "outputs": [
    {
     "data": {
      "text/html": [
       "<table border=\"1\" class=\"dataframe\">\n",
       "    <thead>\n",
       "        <tr>\n",
       "            <th>TVD between population and random sample</th>\n",
       "        </tr>\n",
       "    </thead>\n",
       "    <tbody>\n",
       "        <tr>\n",
       "            <td>0.11                                    </td>\n",
       "        </tr>\n",
       "        <tr>\n",
       "            <td>0.07                                    </td>\n",
       "        </tr>\n",
       "        <tr>\n",
       "            <td>0.07                                    </td>\n",
       "        </tr>\n",
       "        <tr>\n",
       "            <td>0.05                                    </td>\n",
       "        </tr>\n",
       "        <tr>\n",
       "            <td>0.04                                    </td>\n",
       "        </tr>\n",
       "        <tr>\n",
       "            <td>0.05                                    </td>\n",
       "        </tr>\n",
       "        <tr>\n",
       "            <td>0.06                                    </td>\n",
       "        </tr>\n",
       "        <tr>\n",
       "            <td>0.07                                    </td>\n",
       "        </tr>\n",
       "        <tr>\n",
       "            <td>0.15                                    </td>\n",
       "        </tr>\n",
       "        <tr>\n",
       "            <td>0.06                                    </td>\n",
       "        </tr>\n",
       "    </tbody>\n",
       "</table>\n",
       "<p>... (990 rows omitted)</p>"
      ],
      "text/plain": [
       "TVD between population and random sample\n",
       "0.11\n",
       "0.07\n",
       "0.07\n",
       "0.05\n",
       "0.04\n",
       "0.05\n",
       "0.06\n",
       "0.07\n",
       "0.15\n",
       "0.06\n",
       "... (990 rows omitted)"
      ]
     },
     "execution_count": 91,
     "metadata": {},
     "output_type": "execute_result"
    }
   ],
   "source": [
    "repetitions = 1000 # Also the number of panels we will get\n",
    "tvds = make_array()\n",
    "\n",
    "for i in np.arange(repetitions):\n",
    "    # 'sample' is a table obtained from calling the 'proportions_from_distribution'\n",
    "    sample = proportions_from_distribution(panels, 'Eligible', panel_size)\n",
    "    tvds = np.append(tvds, table_tvd(sample, 'Eligible', 'Random Sample'))\n",
    "\n",
    "results_50 = Table().with_columns('TVD between population and random sample', tvds)\n",
    "results_50"
   ]
  },
  {
   "cell_type": "code",
   "execution_count": 92,
   "metadata": {},
   "outputs": [
    {
     "data": {
      "image/png": "[encoded data removed]",
      "text/plain": [
       "<Figure size 432x288 with 1 Axes>"
      ]
     },
     "metadata": {},
     "output_type": "display_data"
    }
   ],
   "source": [
    "results_50.hist()"
   ]
  },
  {
   "cell_type": "markdown",
   "metadata": {},
   "source": [
    "And we can make an interactive version of the histogram above to see how the histogram changes with varying number of panels taken."
   ]
  },
  {
   "cell_type": "code",
   "execution_count": 95,
   "metadata": {},
   "outputs": [
    {
     "data": {
      "application/vnd.jupyter.widget-view+json": {
       "model_id": "3338ca8d60994ed5b435cc9831966d65",
       "version_major": 2,
       "version_minor": 0
      },
      "text/plain": [
       "interactive(children=(Dropdown(description='n', options=(1, 10, 100, 200, 500, 1000), value=1), Output()), _do…"
      ]
     },
     "metadata": {},
     "output_type": "display_data"
    }
   ],
   "source": [
    "_ = interact(hist_n_samples, tbl=fixed(results_50), n=[1, 10, 100, 200, 500, 1000], bins=fixed(np.arange(0, 0.2, 0.01)))"
   ]
  },
  {
   "cell_type": "markdown",
   "metadata": {},
   "source": [
    "The histogram becomes more spread out! Why?\n",
    "\n",
    "1. **As our sample size become smaller, it is more likely to obtain a sample that looks different from the population and thus, the TVD will become greater.**\n",
    "\n",
    "2. As the sample size increases, it is more likely to obtain a sample that resembles the population and thus, the TVD will become smaller. "
   ]
  },
  {
   "cell_type": "markdown",
   "metadata": {},
   "source": [
    "## Addendum: Alameda County Race & Ethnicity Distribution\n",
    "When the ACLU released the report, they used Census data from 2000. Now that the 2010 Census data is available, we can use it to analyze the ethinicity breakdown."
   ]
  },
  {
   "cell_type": "code",
   "execution_count": 96,
   "metadata": {},
   "outputs": [
    {
     "data": {
      "text/html": [
       "<table border=\"1\" class=\"dataframe\">\n",
       "    <thead>\n",
       "        <tr>\n",
       "            <th>Race</th> <th>Population</th>\n",
       "        </tr>\n",
       "    </thead>\n",
       "    <tbody>\n",
       "        <tr>\n",
       "            <td>White            </td> <td>42.98%    </td>\n",
       "        </tr>\n",
       "        <tr>\n",
       "            <td>African American </td> <td>12.61%    </td>\n",
       "        </tr>\n",
       "        <tr>\n",
       "            <td>Asian            </td> <td>26.13%    </td>\n",
       "        </tr>\n",
       "        <tr>\n",
       "            <td>AIAN             </td> <td>0.65%     </td>\n",
       "        </tr>\n",
       "        <tr>\n",
       "            <td>NHPI             </td> <td>0.85%     </td>\n",
       "        </tr>\n",
       "        <tr>\n",
       "            <td>Some Other Race  </td> <td>10.76%    </td>\n",
       "        </tr>\n",
       "        <tr>\n",
       "            <td>Two or more Races</td> <td>6.03%     </td>\n",
       "        </tr>\n",
       "    </tbody>\n",
       "</table>"
      ],
      "text/plain": [
       "<IPython.core.display.HTML object>"
      ]
     },
     "metadata": {},
     "output_type": "display_data"
    },
    {
     "data": {
      "text/html": [
       "<table border=\"1\" class=\"dataframe\">\n",
       "    <thead>\n",
       "        <tr>\n",
       "            <th>Ethnicity</th> <th>Population</th>\n",
       "        </tr>\n",
       "    </thead>\n",
       "    <tbody>\n",
       "        <tr>\n",
       "            <td>Hispanic or Latino    </td> <td>22.51%    </td>\n",
       "        </tr>\n",
       "        <tr>\n",
       "            <td>Not Hispanic or Latino</td> <td>77.49%    </td>\n",
       "        </tr>\n",
       "    </tbody>\n",
       "</table>"
      ],
      "text/plain": [
       "<IPython.core.display.HTML object>"
      ]
     },
     "metadata": {},
     "output_type": "display_data"
    }
   ],
   "source": [
    "# According to the 2010 Census, https://www.census.gov/2010census/popmap/\n",
    "\n",
    "alameda_race = Table(['Race', 'Population']).with_rows([\n",
    "    ['White', 649122],\n",
    "    ['African American', 190451],\n",
    "    ['Asian', 394560],\n",
    "    ['AIAN', 9799],\n",
    "    ['NHPI', 12802],\n",
    "    ['Some Other Race', 162540],\n",
    "    ['Two or more Races', 90997],\n",
    "])\n",
    "\n",
    "alameda_race.set_format(1, DistributionFormatter).show()\n",
    "\n",
    "alameda_ethnicity = Table(['Ethnicity', 'Population']).with_rows([\n",
    "    ['Hispanic or Latino', 339889],\n",
    "    ['Not Hispanic or Latino', 1170382],\n",
    "])\n",
    "\n",
    "alameda_ethnicity.set_format(1, DistributionFormatter).show()"
   ]
  },
  {
   "cell_type": "markdown",
   "metadata": {},
   "source": [
    "Compared to the original table,"
   ]
  },
  {
   "cell_type": "code",
   "execution_count": 97,
   "metadata": {},
   "outputs": [
    {
     "data": {
      "text/html": [
       "<table border=\"1\" class=\"dataframe\">\n",
       "    <thead>\n",
       "        <tr>\n",
       "            <th>Ethnicity</th> <th>Eligible</th> <th>Panels</th>\n",
       "        </tr>\n",
       "    </thead>\n",
       "    <tbody>\n",
       "        <tr>\n",
       "            <td>Asian    </td> <td>15%     </td> <td>26%   </td>\n",
       "        </tr>\n",
       "        <tr>\n",
       "            <td>Black    </td> <td>18%     </td> <td>8%    </td>\n",
       "        </tr>\n",
       "        <tr>\n",
       "            <td>Latino   </td> <td>12%     </td> <td>8%    </td>\n",
       "        </tr>\n",
       "        <tr>\n",
       "            <td>White    </td> <td>54%     </td> <td>54%   </td>\n",
       "        </tr>\n",
       "        <tr>\n",
       "            <td>Other    </td> <td>1%      </td> <td>4%    </td>\n",
       "        </tr>\n",
       "    </tbody>\n",
       "</table>"
      ],
      "text/plain": [
       "Ethnicity | Eligible | Panels\n",
       "Asian     | 15%      | 26%\n",
       "Black     | 18%      | 8%\n",
       "Latino    | 12%      | 8%\n",
       "White     | 54%      | 54%\n",
       "Other     | 1%       | 4%"
      ]
     },
     "execution_count": 97,
     "metadata": {},
     "output_type": "execute_result"
    }
   ],
   "source": [
    "panels"
   ]
  },
  {
   "cell_type": "markdown",
   "metadata": {},
   "source": [
    "Our analysis used an assumption that the population looked like the `Eligible` column in the data above. If it turned out the population didn't look like the data above, our analysis would be questionable.\n",
    "\n",
    "What we have done so far is called **Hypothesis Testing**."
   ]
  },
  {
   "cell_type": "markdown",
   "metadata": {},
   "source": [
    "# Hypothesis Testing"
   ]
  },
  {
   "cell_type": "markdown",
   "metadata": {},
   "source": [
    "## Testing a Hypothesis\n",
    "In testing a hypothesis, the most often asked question is, \"Does our sample look like the population?\"\n",
    "\n",
    "These are the official steps that we need to do when we test a hypothesis (e.g. whether the jury panel is fair, whether or coin or die is fair)\n",
    "\n",
    "#### Step 1: The Hypothesis\n",
    "1. A test chooses between 2 views of how data were generated\n",
    "2. `Null hypothesis` proposes that data were generated at random. For example, `null hypothesis` says:\n",
    "    * We drew our panel at random from the population\n",
    "    * Our coin is fair to begin with\n",
    "3. `Alternative hypothesis` proposes some effect other than chance. For example, `Alternative hypothesis` says:\n",
    "    * The jury panel looks different from the population. This was not due to random chance. This was due to some random factor that we did not take into account.\n",
    "    \n",
    "#### Step 2: Choose the `Test Statistic` or `The measure of difference between the samples` - a value that can be computed for the data and for samples\n",
    "1. In Alameda Panel case, it was the TVD\n",
    "\n",
    "#### Step 3: The Sampling Distribution of the Test Statistic\n",
    "1. What the test statistic might be if the null hypothesis were true\n",
    "    * Draw samples at random and look at the distribution of the statistic\n",
    "        * In Alameda case, we looked the distribution of TVDs and see if the actual result is likely to happen\n",
    "    * Approximate the sampling distribution by an empirical distribution"
   ]
  },
  {
   "cell_type": "markdown",
   "metadata": {},
   "source": [
    "## Recap: Alameda County Hypothesis Testing\n",
    "We analyzed if the jury panel looks like a panel selected at random from the population.\n",
    "\n",
    "#### Step 1: The Hypothesis\n",
    "1. `Null hypothesis`: The panels of juror was selected at random from the eligible juror population\n",
    "    * Any differences between the ethnicity distributions of panel and population are due to change\n",
    "2. `Alternative hypothesis`: The panel was not selected at random\n",
    "\n",
    "#### Step 2: The Test Statistic\n",
    "\n",
    "`Test statistic`: the TVD between a sample panel and the population distribution\n",
    "\n",
    "#### Step 3: The Sampling Distribution of the Test Statistic\n",
    "1. Simulate drawing sample panels from the population\n",
    "2. See if the actual panel TVD is likely"
   ]
  },
  {
   "cell_type": "code",
   "execution_count": null,
   "metadata": {},
   "outputs": [],
   "source": []
  }
 ],
 "metadata": {
  "kernelspec": {
   "display_name": "Python 3",
   "language": "python",
   "name": "python3"
  },
  "language_info": {
   "codemirror_mode": {
    "name": "ipython",
    "version": 3
   },
   "file_extension": ".py",
   "mimetype": "text/x-python",
   "name": "python",
   "nbconvert_exporter": "python",
   "pygments_lexer": "ipython3",
   "version": "3.7.2"
  }
 },
 "nbformat": 4,
 "nbformat_minor": 1
}
