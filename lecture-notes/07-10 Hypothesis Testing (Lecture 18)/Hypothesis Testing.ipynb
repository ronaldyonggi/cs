{
 "cells": [
  {
   "cell_type": "code",
   "execution_count": 1,
   "metadata": {},
   "outputs": [],
   "source": [
    "from datascience import *\n",
    "import numpy as np\n",
    "%matplotlib inline\n",
    "import matplotlib.pyplot as plt\n",
    "plt.style.use('fivethirtyeight')\n",
    "\n",
    "from ipywidgets import interact, interactive, fixed, interact_manual\n",
    "import ipywidgets as widgets"
   ]
  },
  {
   "cell_type": "markdown",
   "metadata": {},
   "source": [
    "# Review: Swain v Alabama\n",
    "What's the probability of getting the actual panel with 8/100 black jurors?\n",
    "\n",
    "Steps:\n",
    "1. Start with the distributions of eligible jurors and the actual panel\n",
    "2. Draw panels at random from the eligible jurors\n",
    "3. See if actual panel is likely\n",
    "\n",
    "### Step 1: Distributions of population and sample"
   ]
  },
  {
   "cell_type": "code",
   "execution_count": 2,
   "metadata": {},
   "outputs": [
    {
     "data": {
      "text/html": [
       "<table border=\"1\" class=\"dataframe\">\n",
       "    <thead>\n",
       "        <tr>\n",
       "            <th>Ethnicity</th> <th>Eligible</th> <th>Panel</th>\n",
       "        </tr>\n",
       "    </thead>\n",
       "    <tbody>\n",
       "        <tr>\n",
       "            <td>Black    </td> <td>26%     </td> <td>8%   </td>\n",
       "        </tr>\n",
       "        <tr>\n",
       "            <td>Other    </td> <td>74%     </td> <td>92%  </td>\n",
       "        </tr>\n",
       "    </tbody>\n",
       "</table>"
      ],
      "text/plain": [
       "Ethnicity | Eligible | Panel\n",
       "Black     | 26%      | 8%\n",
       "Other     | 74%      | 92%"
      ]
     },
     "execution_count": 2,
     "metadata": {},
     "output_type": "execute_result"
    }
   ],
   "source": [
    "swain = Table().with_columns(\n",
    "    'Ethnicity', make_array('Black', 'Other'),\n",
    "    'Eligible', make_array(0.26, 0.74),\n",
    "    'Panel', make_array(0.08, 0.92)\n",
    ")\n",
    "\n",
    "swain.set_format([1, 2], PercentFormatter(0))"
   ]
  },
  {
   "cell_type": "markdown",
   "metadata": {},
   "source": [
    "### Step 2: Draw panels at random from population"
   ]
  },
  {
   "cell_type": "code",
   "execution_count": 3,
   "metadata": {},
   "outputs": [
    {
     "data": {
      "text/html": [
       "<table border=\"1\" class=\"dataframe\">\n",
       "    <thead>\n",
       "        <tr>\n",
       "            <th>Ethnicity</th> <th>Eligible</th> <th>Panel</th> <th>Random</th>\n",
       "        </tr>\n",
       "    </thead>\n",
       "    <tbody>\n",
       "        <tr>\n",
       "            <td>Black    </td> <td>26%     </td> <td>8%   </td> <td>21%   </td>\n",
       "        </tr>\n",
       "        <tr>\n",
       "            <td>Other    </td> <td>74%     </td> <td>92%  </td> <td>79%   </td>\n",
       "        </tr>\n",
       "    </tbody>\n",
       "</table>"
      ],
      "text/plain": [
       "Ethnicity | Eligible | Panel | Random\n",
       "Black     | 26%      | 8%    | 21%\n",
       "Other     | 74%      | 92%   | 79%"
      ]
     },
     "execution_count": 3,
     "metadata": {},
     "output_type": "execute_result"
    }
   ],
   "source": [
    "population_distribution = swain.column('Eligible')\n",
    "panel_size = 100\n",
    "\n",
    "def random_jury_panel():\n",
    "    panel = swain.select(0).sample(panel_size, weights=swain.column('Eligible'))\n",
    "    counts = panel.group(0)\n",
    "    sample_proportions = counts.select(0).with_column('Random', counts.column(1) / panel_size)\n",
    "    sample_proportions.set_format(1, PercentFormatter(0))\n",
    "    return swain.join('Ethnicity', sample_proportions)\n",
    "\n",
    "random_jury_panel()"
   ]
  },
  {
   "cell_type": "markdown",
   "metadata": {},
   "source": [
    "A quicker way of doing this is to use `sample_proportions` function:"
   ]
  },
  {
   "cell_type": "code",
   "execution_count": 4,
   "metadata": {},
   "outputs": [
    {
     "data": {
      "text/html": [
       "<table border=\"1\" class=\"dataframe\">\n",
       "    <thead>\n",
       "        <tr>\n",
       "            <th>Ethnicity</th> <th>Eligible</th> <th>Panel</th> <th>Random</th>\n",
       "        </tr>\n",
       "    </thead>\n",
       "    <tbody>\n",
       "        <tr>\n",
       "            <td>Black    </td> <td>26%     </td> <td>8%   </td> <td>22%   </td>\n",
       "        </tr>\n",
       "        <tr>\n",
       "            <td>Other    </td> <td>74%     </td> <td>92%  </td> <td>78%   </td>\n",
       "        </tr>\n",
       "    </tbody>\n",
       "</table>"
      ],
      "text/plain": [
       "Ethnicity | Eligible | Panel | Random\n",
       "Black     | 26%      | 8%    | 22%\n",
       "Other     | 74%      | 92%   | 78%"
      ]
     },
     "execution_count": 4,
     "metadata": {},
     "output_type": "execute_result"
    }
   ],
   "source": [
    "population_distribution = swain.column('Eligible')\n",
    "panel_size = 100\n",
    "\n",
    "def randomPanelQuicker():  \n",
    "    return swain.with_column(\n",
    "    'Random', \n",
    "    sample_proportions(100, population_distribution)).set_format(\n",
    "        'Random', PercentFormatter(0))\n",
    "\n",
    "randomPanelQuicker()"
   ]
  },
  {
   "cell_type": "markdown",
   "metadata": {},
   "source": [
    "### Step 3: See if sample panel is unlikely"
   ]
  },
  {
   "cell_type": "code",
   "execution_count": 5,
   "metadata": {},
   "outputs": [
    {
     "data": {
      "text/plain": [
       "0.18000000000000002"
      ]
     },
     "execution_count": 5,
     "metadata": {},
     "output_type": "execute_result"
    }
   ],
   "source": [
    "def total_variation_distance(distribution_1, distribution_2):\n",
    "    \"\"\"Each distribution is an array of proportions that sums to 1.\"\"\"\n",
    "    return np.abs(distribution_1 - distribution_2).sum()/2\n",
    "\n",
    "def table_tvd(table, label_1, label_2):\n",
    "    return total_variation_distance(table.column(label_1), table.column(label_2))\n",
    "\n",
    "table_tvd(swain, 'Eligible', 'Panel')"
   ]
  },
  {
   "cell_type": "code",
   "execution_count": 6,
   "metadata": {},
   "outputs": [
    {
     "data": {
      "text/html": [
       "<table border=\"1\" class=\"dataframe\">\n",
       "    <thead>\n",
       "        <tr>\n",
       "            <th>TVD between the population & random samples</th>\n",
       "        </tr>\n",
       "    </thead>\n",
       "    <tbody>\n",
       "        <tr>\n",
       "            <td>0.01                                       </td>\n",
       "        </tr>\n",
       "        <tr>\n",
       "            <td>0.03                                       </td>\n",
       "        </tr>\n",
       "        <tr>\n",
       "            <td>0.01                                       </td>\n",
       "        </tr>\n",
       "        <tr>\n",
       "            <td>0.01                                       </td>\n",
       "        </tr>\n",
       "        <tr>\n",
       "            <td>0.04                                       </td>\n",
       "        </tr>\n",
       "        <tr>\n",
       "            <td>0.05                                       </td>\n",
       "        </tr>\n",
       "        <tr>\n",
       "            <td>0.04                                       </td>\n",
       "        </tr>\n",
       "        <tr>\n",
       "            <td>0.02                                       </td>\n",
       "        </tr>\n",
       "        <tr>\n",
       "            <td>0.05                                       </td>\n",
       "        </tr>\n",
       "        <tr>\n",
       "            <td>0.09                                       </td>\n",
       "        </tr>\n",
       "    </tbody>\n",
       "</table>\n",
       "<p>... (990 rows omitted)</p>"
      ],
      "text/plain": [
       "TVD between the population & random samples\n",
       "0.01\n",
       "0.03\n",
       "0.01\n",
       "0.01\n",
       "0.04\n",
       "0.05\n",
       "0.04\n",
       "0.02\n",
       "0.05\n",
       "0.09\n",
       "... (990 rows omitted)"
      ]
     },
     "execution_count": 6,
     "metadata": {},
     "output_type": "execute_result"
    }
   ],
   "source": [
    "# Compute the empirical distribution of TVDs\n",
    "\n",
    "tvds = make_array()\n",
    "\n",
    "for i in np.arange(1000): # Repetitions\n",
    "    new_sample = randomPanelQuicker()\n",
    "    tvds = np.append(tvds, table_tvd(new_sample, 'Eligible', 'Random'))\n",
    "\n",
    "results = Table().with_column('TVD between the population & random samples', tvds)\n",
    "results"
   ]
  },
  {
   "cell_type": "code",
   "execution_count": 7,
   "metadata": {},
   "outputs": [
    {
     "data": {
      "image/png": "[encoded data removed]",
      "text/plain": [
       "<Figure size 432x288 with 1 Axes>"
      ]
     },
     "metadata": {},
     "output_type": "display_data"
    }
   ],
   "source": [
    "results.hist(bins=np.arange(0, 0.2, 0.01))"
   ]
  },
  {
   "cell_type": "markdown",
   "metadata": {},
   "source": [
    "Compare the histogram above with the TVD that we obtained from between the eligible population and actual panel (0.18), marked below with the red dot."
   ]
  },
  {
   "cell_type": "code",
   "execution_count": 8,
   "metadata": {},
   "outputs": [
    {
     "ename": "NameError",
     "evalue": "name 'plots' is not defined",
     "output_type": "error",
     "traceback": [
      "\u001b[1;31m--------------------------------------------------------------------\u001b[0m",
      "\u001b[1;31mNameError\u001b[0m                          Traceback (most recent call last)",
      "\u001b[1;32m<ipython-input-8-7f046e471837>\u001b[0m in \u001b[0;36m<module>\u001b[1;34m\u001b[0m\n\u001b[0;32m      1\u001b[0m \u001b[0mresults\u001b[0m\u001b[1;33m.\u001b[0m\u001b[0mhist\u001b[0m\u001b[1;33m(\u001b[0m\u001b[0mbins\u001b[0m\u001b[1;33m=\u001b[0m\u001b[0mnp\u001b[0m\u001b[1;33m.\u001b[0m\u001b[0marange\u001b[0m\u001b[1;33m(\u001b[0m\u001b[1;36m0\u001b[0m\u001b[1;33m,\u001b[0m \u001b[1;36m0.2\u001b[0m\u001b[1;33m,\u001b[0m \u001b[1;36m0.01\u001b[0m\u001b[1;33m)\u001b[0m\u001b[1;33m)\u001b[0m\u001b[1;33m\u001b[0m\u001b[1;33m\u001b[0m\u001b[0m\n\u001b[1;32m----> 2\u001b[1;33m \u001b[0mplots\u001b[0m\u001b[1;33m.\u001b[0m\u001b[0mscatter\u001b[0m\u001b[1;33m(\u001b[0m\u001b[1;36m0.18\u001b[0m\u001b[1;33m,\u001b[0m \u001b[1;36m0\u001b[0m\u001b[1;33m,\u001b[0m \u001b[0mcolor\u001b[0m\u001b[1;33m=\u001b[0m\u001b[1;34m'red'\u001b[0m\u001b[1;33m,\u001b[0m \u001b[0ms\u001b[0m\u001b[1;33m=\u001b[0m\u001b[1;36m30\u001b[0m\u001b[1;33m)\u001b[0m\u001b[1;33m;\u001b[0m\u001b[1;33m\u001b[0m\u001b[1;33m\u001b[0m\u001b[0m\n\u001b[0m",
      "\u001b[1;31mNameError\u001b[0m: name 'plots' is not defined"
     ]
    },
    {
     "data": {
      "image/png": "[encoded data removed]",
      "text/plain": [
       "<Figure size 432x288 with 1 Axes>"
      ]
     },
     "metadata": {},
     "output_type": "display_data"
    }
   ],
   "source": [
    "results.hist(bins=np.arange(0, 0.2, 0.01))\n",
    "plots.scatter(0.18, 0, color='red', s=30);"
   ]
  },
  {
   "cell_type": "markdown",
   "metadata": {},
   "source": [
    "We can see that 0.18 is far on the right side, which shows that the actual panel is unlikely to be drawn at random from eligible jurors. "
   ]
  },
  {
   "cell_type": "markdown",
   "metadata": {},
   "source": [
    "# Empirical Distribution\n",
    "\n",
    "## Distribution of a Statistic\n",
    "* **Statistic**: a quantity computed for a particular sample\n",
    "* **Distribution**: The chance of each outcome of sampling\n",
    "* **Sampling distribution**: Chance of each value of a statistic (computed from all possible samples)\n",
    "    * Also know as **probability distribution of the statistic**\n",
    "* **Empirical distribution**: Observations of a statistic (computed from some samples drawn at random)"
   ]
  },
  {
   "cell_type": "markdown",
   "metadata": {},
   "source": [
    "## Alameda County Jury Panels\n",
    "* **Statistic**: TVD between a sample and the population distribution\n",
    "* **Distribution**: The chance of each possible TVD\n",
    "* **Sampling distribution**: Exact probability of each TVD\n",
    "* **Empirical distribution**: Probability of each TVD using simulated panels from the population"
   ]
  },
  {
   "cell_type": "markdown",
   "metadata": {},
   "source": [
    "# Multiple Categories\n",
    "We have developed a way of assessing models about chance processes that generate data in 2 categories. We can actually extend this method to models involving data in multiple categories. The process of assessment is the same as before, the difference is that **we need to come up with a new statistic to simulate**."
   ]
  },
  {
   "cell_type": "markdown",
   "metadata": {},
   "source": [
    "## Jury Selection in Alameda County\n",
    "In 2010, ACLU (American Civil Liberties Union) of Northern California presented a [report](https://www.aclunc.org/sites/default/files/racial_and_ethnic_disparities_in_alameda_county_jury_pools.pdf) regarding jury selection in Alameda County, California. The report concluded that certain ethnic groups are underrepresented among jury panelist in Alameda County, and suggested some reforms of the process by which eligible jurors are assigned to panels. In this section, we'll perform our own analysis of the data and examine some questions that arise as a result.\n",
    "\n",
    "## Jury Panels\n",
    "A jury panel is **a group of people chosen to be prospective jurors**. The final trial jury is selected from among them. Jury panels can consist of a few dozen people or several thousand, depending on the trial. By law, a jury panel is supposed to be representative of the community in which the trial is taking place. \n",
    "\n",
    "Section 197 of California’s Code of Civil Procedure says, “All persons selected for jury service shall be selected at random, from a source or sources inclusive of a representative cross section of the population of the area served by the court.”\n",
    "\n",
    "The final jury is selected from the panel by deliberate inclusion or exclusion. \n",
    "* The law allows potential jurors to be excused for medical reasons\n",
    "* Lawyers on both sides may strike a certain number of potential jurors from the list in \"peremptory challenges\"\n",
    "* The trial judge might make a selection based on questionnaires filled out by the panel\n",
    "\n",
    "However, the initial panel is supposed to resemble a random sample of the population of eligible jurors.\n",
    "\n",
    "## Composition of Panels in Alameda County\n",
    "Focus of the study: the ethnic composition of jury panels in Alameda County.\n",
    "The ACLU compiled data on the ethnic composition of the jury panels in 11 felony trials in Alameda County in the years 2009 and 2010. In those panels, the total number of people who reported for jury service was 1,453. The ACLU gathered demographic data on all of these prospective jurors and compared those data with the composition of all eligible jurors in the county.\n",
    "\n",
    "The data are compiled in the table `jury` below. "
   ]
  },
  {
   "cell_type": "code",
   "execution_count": null,
   "metadata": {},
   "outputs": [],
   "source": [
    "jury = Table().with_columns(\n",
    "    'Ethnicity', make_array('Asian', 'Black', 'Latino', 'White', 'Other'),\n",
    "    'Eligible', make_array(0.15, 0.18, 0.12, 0.54, 0.01),\n",
    "    'Panels', make_array(0.26, 0.08, 0.08, 0.54, 0.04)\n",
    ")\n",
    "\n",
    "jury"
   ]
  },
  {
   "cell_type": "markdown",
   "metadata": {},
   "source": [
    "A bar chart is helpful for visualizing the differences."
   ]
  },
  {
   "cell_type": "code",
   "execution_count": null,
   "metadata": {},
   "outputs": [],
   "source": [
    "jury.barh('Ethnicity')"
   ]
  },
  {
   "cell_type": "markdown",
   "metadata": {},
   "source": [
    "### Comparison with Panels Selected at Random\n",
    "What if we select a random sample of 1,453 people from the population of eligible jurors? Will the distribution of the ethnicities look like the distribution of the panels above?\n",
    "\n",
    "We can solve this using `sample_proportions` method and augmenting the `jury` table with a column of the proportions in our sample.\n",
    "\n",
    "**NOTE:** Random sample of prospective jurors are selected **without replacement**. However, when the size of a sample is small relative to the size of the population, sampling without replacement resembles sampling with replacement (the proportions in the population won't change much with each sample draw). The population of eligible jurors in Alameda County is over a million; compared to that, a sample size of 1,500 is small. Thus, we will sample with replacement!\n",
    "\n",
    "In the cell below, we sample at random 1,453 times from the distribution of eligible jurors and display the distribution of the random sample along with the distributions of the eligible jurors and the panel in the data."
   ]
  },
  {
   "cell_type": "code",
   "execution_count": null,
   "metadata": {},
   "outputs": [],
   "source": [
    "eligible_population = jury.column('Eligible')\n",
    "sample_distribution = sample_proportions(1453, eligible_population)\n",
    "panels_and_sample = jury.with_column('Random Sample', sample_distribution)\n",
    "panels_and_sample"
   ]
  },
  {
   "cell_type": "markdown",
   "metadata": {},
   "source": [
    "The distribution of the random sample is close to the distribution of the eligible population, but not to the distribution of the panels."
   ]
  },
  {
   "cell_type": "code",
   "execution_count": null,
   "metadata": {},
   "outputs": [],
   "source": [
    "panels_and_sample.barh('Ethnicity')"
   ]
  },
  {
   "cell_type": "markdown",
   "metadata": {},
   "source": [
    "To assess whether this observation is particular to one random sample or more general, we can simulate multiple panels under the model of random selection and see what the simulations predict. But we won’t be able to look at thousands of bar charts like the one above. We need a statistic that will help us assess whether or not the model or random selection is supported by the data."
   ]
  },
  {
   "cell_type": "markdown",
   "metadata": {},
   "source": [
    "## New Statistic: The Distance between 2 Distribution\n",
    "The differences between 2 numbers `x` and `y` is `| x - y |`. However, in this case we need to quantify the distance between 2 distributions: the blue and gold distribution below."
   ]
  },
  {
   "cell_type": "code",
   "execution_count": null,
   "metadata": {},
   "outputs": [],
   "source": [
    "jury.barh('Ethnicity')"
   ]
  },
  {
   "cell_type": "markdown",
   "metadata": {},
   "source": [
    "For this, we'll compute a quantity called the **total variation distance** between 2 distributions. The calculation is an extension to the calculation of distance between 2 numbers.\n",
    "\n",
    "We first take the difference between the 2 proportions in each category."
   ]
  },
  {
   "cell_type": "code",
   "execution_count": null,
   "metadata": {},
   "outputs": [],
   "source": [
    "# Augment the table with a column of differences between proportions\n",
    "\n",
    "jury_with_diffs = jury.with_column(\n",
    "    'Difference', jury.column('Panels') - jury.column('Eligible')\n",
    ")\n",
    "jury_with_diffs"
   ]
  },
  {
   "cell_type": "markdown",
   "metadata": {},
   "source": [
    "Notice that on the **Difference** column, the sum is 0. The positive entries cancel out the negative entries. This is numerical evidence that in the bar chart, the gold bars exceeds the blue bars by exactly as much as the blue bars exceed the gold. The proportions in each of the 2 columns **Panels** and **Eligible** add up to 1, and so the give-and-take between their entries must add up to 0.\n",
    "\n",
    "To avoid cancellation, we take the absolute values and then sum all the entries; however, this would give us twice the total of the positive entries. Therefore, divide the sum by 2."
   ]
  },
  {
   "cell_type": "code",
   "execution_count": null,
   "metadata": {},
   "outputs": [],
   "source": [
    "jury_with_diffs = jury_with_diffs.with_column(\n",
    "    'Absolute Difference', np.abs(jury_with_diffs.column('Difference'))\n",
    ")\n",
    "\n",
    "jury_with_diffs"
   ]
  },
  {
   "cell_type": "code",
   "execution_count": null,
   "metadata": {},
   "outputs": [],
   "source": [
    "jury_with_diffs.column('Absolute Difference').sum()/2"
   ]
  },
  {
   "cell_type": "markdown",
   "metadata": {},
   "source": [
    "The `0.14` above is the total variation distance (TVD) between the distribution of ethnicities in the eligible juror population and the distribution in the panels."
   ]
  },
  {
   "cell_type": "markdown",
   "metadata": {},
   "source": [
    "## Simulating One Value of the Statistic\n",
    "We can use TVD between distributions as the statistic to simulate. This **helps determining whether the model of random selection is good**, because large values of the distance will be evidence against the model.\n",
    "\n",
    "Since we're going to compute TVD repeatedly, we'll write a function to compute it.\n",
    "\n",
    "The function total_variation_distance returns the TVD between distributions in two arrays."
   ]
  },
  {
   "cell_type": "code",
   "execution_count": null,
   "metadata": {},
   "outputs": [],
   "source": [
    "def total_variation_distance(distribution_1, distribution_2):\n",
    "    return sum(np.abs(distribution_1 - distribution_2)) / 2"
   ]
  },
  {
   "cell_type": "markdown",
   "metadata": {},
   "source": [
    "`total_variation_distance` helps calculate the statistic in each repetition of the simulation."
   ]
  },
  {
   "cell_type": "code",
   "execution_count": null,
   "metadata": {},
   "outputs": [],
   "source": [
    "total_variation_distance(jury.column('Panels'), jury.column('Eligible'))"
   ]
  },
  {
   "cell_type": "markdown",
   "metadata": {},
   "source": [
    "Now we use `total_variation_distance` to calculate the TVD between the distributions of eligible jurors and one random sample. The code below simulates one value of our statistic. Recall that `eligible_population` is an array containing the distribution of our eligible jurors."
   ]
  },
  {
   "cell_type": "code",
   "execution_count": null,
   "metadata": {},
   "outputs": [],
   "source": [
    "sample_distribution = sample_proportions(1453, eligible_population)\n",
    "total_variation_distance(sample_distribution, eligible_population)"
   ]
  },
  {
   "cell_type": "markdown",
   "metadata": {},
   "source": [
    "Notice above that the distance is smaller than 0.14! "
   ]
  },
  {
   "cell_type": "markdown",
   "metadata": {},
   "source": [
    "## Predicting the Statistic Under the Model of Random Selection\n",
    "The **TVD between the distributions of the random sample and the eligible jurors** is the statistic that we use to measure the distance between the 2 distributions. By repeating the process of sampling, we can see how much the statistic varies with different random samples.\n",
    "\n",
    "The code below simulates the statistic based on multiple replications of the random sampling process."
   ]
  },
  {
   "cell_type": "code",
   "execution_count": null,
   "metadata": {},
   "outputs": [],
   "source": [
    "# Simulate TVD between\n",
    "# distribution of random samples\n",
    "# and distribution of eligible population\n",
    "\n",
    "eligible_population = jury.column('Eligible')\n",
    "panel_size = 1453\n",
    "\n",
    "tvds = make_array()\n",
    "\n",
    "repetitions = 5000\n",
    "for i in np.arange(repetitions):\n",
    "    sample_distribution = sample_proportions(panel_size, eligible_population)\n",
    "    new_tvd = total_variation_distance(sample_distribution, eligible_population)\n",
    "    tvds = np.append(tvds, new_tvd)\n",
    "\n",
    "# Create a table out of the sampling procedure above\n",
    "results = Table().with_columns('TVD between population and random sample', tvds)\n",
    "results"
   ]
  },
  {
   "cell_type": "code",
   "execution_count": null,
   "metadata": {},
   "outputs": [],
   "source": [
    "results.hist(bins=np.arange(0, 0.1, 0.01))\n",
    "plots.scatter(0.14, 0, color='red', s=30);"
   ]
  },
  {
   "cell_type": "markdown",
   "metadata": {},
   "source": [
    "From the empirical histogram above, we see that drawing 1,453 jurors at random from the pool of eligible candidates gives out a distribution that deviates from the eligible jurors' distribution by less than 0.05. The TVD of 0.14 is far right of the histogram!\n",
    "\n",
    "As a side note, we can simulate what the histogram looks like if we vary the amount of TVDs we take."
   ]
  },
  {
   "cell_type": "code",
   "execution_count": null,
   "metadata": {},
   "outputs": [],
   "source": [
    "def hist_n_samples(tbl, n, bins=None):\n",
    "    '''Draws histogram of first n rows of first column in tbl.'''\n",
    "    tbl.take(np.arange(n)).hist(bins=bins)\n",
    "    plt.ylim(0, 50)\n",
    "    plt.show()"
   ]
  },
  {
   "cell_type": "code",
   "execution_count": null,
   "metadata": {},
   "outputs": [],
   "source": [
    "_ = interact(hist_n_samples, tbl=fixed(results), n=(1, 1000, 10), bins=fixed(np.arange(0, 0.2, 0.01)))"
   ]
  },
  {
   "cell_type": "markdown",
   "metadata": {},
   "source": [
    "Above, as we increase `n` (the TVDs), the histogram resembles more of that of the TVD between the eligible population and the sample population."
   ]
  },
  {
   "cell_type": "markdown",
   "metadata": {},
   "source": [
    "### Assess the Model of Random Selection\n",
    "The panels in the study, however, were not quite so similiar to the eligible population. The TVD between the panels and the population was 0.14, which is far out of the histogram above.\n",
    "\n",
    "The data in the panels is not consistent with the predicted values of the statistic based on the model of random selection. Therefore, our analysis supports ACLU's calculation that the panels were not representative of the distribution provided for the eligible jurors.\n",
    "\n",
    "### Possible Explanations for Differences\n",
    "Our analysis does not say **why** the distributions are different or what the difference might imply.\n",
    "\n",
    "The ACLU report discusses several possible reasons for the discrepancies. For example, **some minority groups were underrepresented on the records of voter registration and of the DMV, the 2 main sources from which jurors are selected**. At the time of the study, the county didn't have an effective process for following up on prospective jurors who had been called but had failed to appear. ACLU listed several other reasons as well. But regardless the reasons, the composition of the jury panels was different from what we would have expected in a random sample from the distribution in the `Eligible` column.\n",
    "\n",
    "### Questions about Data\n",
    "We have developed a powerful technique that helps decide whether a distribution looks like a random sample from another. However, data science is more than just the techniques; it involves thoughtful examination of how the data were gathered.\n",
    "\n",
    "#### Eligible Jurors\n",
    "**Not everyone is eligible to serve on jury**. On the [website](http://www.alameda.courts.ca.gov/pages.aspx/jury-duty-overview), the Superior Court of Alameda County says that one may be called to serve if:\n",
    "* At least 18 years old\n",
    "* U.S. Citizen and a resident of the county or district where summoned\n",
    "* Able to understand English\n",
    "* Physically and mentally capable of serving\n",
    "* Must not have served as any kind of juror in the past 12 months\n",
    "* Not have been convicted of a felony\n",
    "\n",
    "The census doesn't maintain records of the population in all these categories. The ACLU had to obtain the demographics of eligible jurors in some other way. Here's the description of the process they followed and the flaws that it might contain:\n",
    "\n",
    "“For the purpose of determining the demographics of Alameda County’s jury eligible population, we used a declaration that was prepared for the Alameda County trial of People v. Stuart Alexander in 2002. In the declaration, Professor Weeks, a demographer at San Diego State University, estimated the jury eligible population for Alameda County, using the 2000 Census data. To arrive at this estimate, Professor Weeks took into account the number of people who are not eligible for jury services because they do not speak English, are not citizens, are under 18, or have a felony conviction. Thus, his estimate should be an accurate assessment of who is actually eligible for jury service in Alameda County, much more so than simply reviewing the Census report of the race and ethnicity of all people living in Alameda County. It should be noted, however, that the Census data on which Professor Weeks relied is now ten years old and the demographics of the county may have changed by 2 or 3 percent in some categories.”\n",
    "\n",
    "From above, the distribution of ethnicities of eligible jurors used in the analysis is itself an estimate and might be somewhat out of date.\n",
    "\n",
    "#### Panels\n",
    "In addition, panels aren't selected from the entire eligible population. The Superior Court of Alameda County says, “The objective of the court is to provide an accurate cross-section of the county’s population. The names of jurors are selected at random from everyone who is **a registered voter and/or has a driver’s license or identification card issued by the Department of Motor Vehicles**.”\n",
    "\n",
    "All these raises question about how to accurately estimate the ethnic composition of eligible jurors in Alameda Country\n",
    "\n",
    "* It isn't clear how the 1453 panelists were classified into the different ethnic categories (the ACLU report says that “attorneys … cooperated in collecting jury pool data”). \n",
    "    * There are serious social, cultural, and political factors that affect who gets classified or self-classifies into each ethnic category. \n",
    "* We also don’t know whether the definitions of those categories in the panels are the same as those used by Professor Weeks who in turn used Census categories in his estimation process. \n",
    "* There are also questions about the correlation between the 2 distributions being compared.\n",
    "\n",
    "Thus, while we have a clear conclusion about the data in our table – the panels do not look like a random sample from the distribution provided for eligible jurors – questions about the nature of the data prevent us from concluding anything broader."
   ]
  },
  {
   "cell_type": "markdown",
   "metadata": {},
   "source": [
    "### Discussion: How does the analysis change if the jury panels had only 50 people instead of 1453?"
   ]
  },
  {
   "cell_type": "code",
   "execution_count": null,
   "metadata": {},
   "outputs": [],
   "source": [
    "panel_size = 50\n",
    "repetitions = 1000\n",
    "tvds = make_array()\n",
    "\n",
    "for i in np.arange(repetitions):\n",
    "    sample_distribution = sample_proportions(panel_size, eligible_population)\n",
    "    new_tvd = total_variation_distance(sample_distribution, eligible_population)\n",
    "    tvds = np.append(tvds, new_tvd)\n",
    "\n",
    "results_50 = Table().with_columns('TVD between population and random sample', tvds)\n",
    "results_50"
   ]
  },
  {
   "cell_type": "code",
   "execution_count": null,
   "metadata": {},
   "outputs": [],
   "source": [
    "_ = interact(hist_n_samples, tbl=fixed(results_50), n=(1, 1000, 10), bins=fixed(np.arange(0, 0.2, 0.01)))"
   ]
  },
  {
   "cell_type": "markdown",
   "metadata": {},
   "source": [
    "Above, the histogram look more distributed than the histogram with 1453 panels. **As sample size gets smaller, the more the chances that you'll get a sample that looks different than the original population**.\n",
    "\n",
    "* The more the sample resembles the population, the lower the TVD\n",
    "* and vice versa."
   ]
  },
  {
   "cell_type": "markdown",
   "metadata": {},
   "source": [
    "# Decisions and Uncertainty\n",
    "We've seen some examples of assessing models that involve chance, by comparing observed data to the predictions made by the model. In those examples, it is clear about whether the data were consistent with the model's predictions The data were either far away from the predictions, or very close to them.\n",
    "\n",
    "However, the result are not always clear.\n",
    "* How far is \"far\"?\n",
    "* How close is \"close\"?\n",
    "\n",
    "While these questions don’t have universal answers, there are guidelines and conventions that you can follow. In this section we will describe some of them.\n",
    "\n",
    "But first let's develop a general framework of decision making, into which all our examples will fit.\n",
    "\n",
    "What we've developed while assessing models are some of the fundamental concepts of **statistical tests of hypotheses**. Using statistical tests as a way of making decision is standard in many fields and has a standard terminology. Here are the steps for statistical tests:\n",
    "\n",
    "### Step 1: Hypotheses\n",
    "All statistical tests attempts to choose between 2 views of the world. Specifically, the choice is between 2 views about how the data were generated. These 2 views are **hypotheses**.\n",
    "\n",
    "#### The Null Hypothesis\n",
    "This hypothesis says that data were generated at random under clearly specified assumptions about the randomness. The word **null** reinforces the idea that if the data look different from what the null hypothesis predicts, the difference is due to **nothing but chance**.\n",
    "\n",
    "From a practical perspective, the null hypothesis is **a hypothesis under which you can simulate data**.\n",
    "\n",
    "#### The Alternative Hypothesis\n",
    "This hypothesis says that some reason other than chance made the data differ from the predictions of the model in the null hypothesis.\n",
    "\n",
    "### Step 2: The Test Statistic\n",
    "To decide between the 2 hypothesis, we need to choose a statistic that we can use to make the decision. This statistic is called the **test statistic**.\n",
    "\n",
    "To see how to make the choice in general, analyze the alternative hypothesis. What values of the statistic will make you think that the alternative hypothesis is a better choice than the null?\n",
    "* If the answer is either \"big values\" or \"small values\", you might have a good choice of statistic\n",
    "* If the answer is \"both big values and small values\", you should look again at your statistic and see if taking an absolute value can change the answer to just \"big values\"\n",
    "\n",
    "The **observed value of the statistic** is the value of the statistic you get from the data in the study, not a simulated value.\n",
    "\n",
    "### Step 3: The Distribution of the Test Statistic, Under the Null Hypothesis\n",
    "The main computational aspect of a test of hypothesis is figuring out **what the values of the test statistic might be if the null hypothesis were true**.\n",
    "\n",
    "The test statistic is simulated based on the assumptions of the model in the null hypothesis. The model involves chance, so the statistic comes out differently when simulated multiple times.\n",
    "\n",
    "By simulating the statistic repeatedly, we get a good sense of its possible values and which ones are more likely than others. In other words, we get good approximation to the probability distribution of the statistic, as predicted by the model in the null hypothesis.\n",
    "\n",
    "As with all distributions, it is very useful to visualize the distribution using histogram.\n",
    "\n",
    "### Step 4: The Conclusion of the Test\n",
    "The choice between the null and alternative hypotheses depends on the comparison between what you computed in Steps 2 and 3: **the observed value of the test statistic and its distribution as predicted by the null hypothesis**.\n",
    "\n",
    "If the 2 are consistent with each other, then the observed test statistic is in line with what the null hypothesis predicts. In other words, the test doesn't point towards the alternative hypothesis; the null hypothesis is better supported by the data. \n",
    "\n",
    "But if the 2 are not consistent with each other (as in the case with Alameda County jury panels), then the data don't support the null hypothesis. That's why we concluded that the jury panels were not selected at random. Something other than chance affected the composition. \n",
    "\n",
    "If the data don't support the null hypothesis, we say that **the test rejects the null hypothesis**.\n",
    "\n",
    "#### The Meaning of \"Consistent\"\n",
    "In the Alameda County juries example, it is clear that the observed test statistic was far from what was predicted by the null hypothesis. \n",
    "\n",
    "\n"
   ]
  },
  {
   "cell_type": "markdown",
   "metadata": {},
   "source": [
    "# Hypothesis Testing (Video Lectures)\n",
    "### Step 1: The Hypotheses\n",
    "* A test chooses between 2 views of how data were generated\n",
    "* **Null hypothesis** proposes that data were generated at random\n",
    "* **Alternative hypothesis** proposes some cause other than chance\n",
    "\n",
    "### Step 2: The Test Statistic\n",
    "* A value that can be computed for the data and for samples\n",
    "\n",
    "### Step 3: The Sampling Distribution of the Test Statistic\n",
    "* What the test statistic might be if the null hypothesis were true\n",
    "* Approximate the sampling distribution by an empirical distribution\n",
    "\n",
    "# Alameda County Hypothesis Test\n",
    "### Step 1: The Hypotheses\n",
    "* **Null hypothesis**: The panel of jurors was selected at random from the eligible juror population. Any differences between the ethnicity distributions of panel and population are due to change.\n",
    "* **Alternative hypothesis**: The panel was not selected at random\n",
    "\n",
    "### Step 2: The Test Statistic : TVD between a panel and the population distribution\n",
    "\n",
    "### Step 3: The Sampling Distribution of the Test Statistic\n",
    "Simulate drawing panels from population. See if actual panel TVD is likely\n"
   ]
  }
 ],
 "metadata": {
  "kernelspec": {
   "display_name": "Python 3",
   "language": "python",
   "name": "python3"
  },
  "language_info": {
   "codemirror_mode": {
    "name": "ipython",
    "version": 3
   },
   "file_extension": ".py",
   "mimetype": "text/x-python",
   "name": "python",
   "nbconvert_exporter": "python",
   "pygments_lexer": "ipython3",
   "version": "3.7.1"
  }
 },
 "nbformat": 4,
 "nbformat_minor": 1
}
