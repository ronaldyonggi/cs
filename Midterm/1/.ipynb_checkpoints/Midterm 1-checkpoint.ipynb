{
 "cells": [
  {
   "cell_type": "markdown",
   "metadata": {},
   "source": [
    "# 1. What Would Python Display\n",
    "\n",
    "For each of the expressions in the table below, write the output displayed by the interactive Python interpreter when the expression is evaluated. The output may have multiple lines. \n",
    "1. If an error occurs, write `Error` but include all output displayed before the error. \n",
    "2. If evaluation would run forever, write `Forever`.\n",
    "3. To display a function value, write `Function`\n",
    "\n",
    "The first 2 rows have been provided as examples.\n",
    "\n",
    "The interactive interpreter displays the value of a successfully evaluated expression, unless it is `None`.\n",
    "\n",
    "Assume that you have started `python3` and executed the following statements:"
   ]
  },
  {
   "cell_type": "code",
   "execution_count": 2,
   "metadata": {},
   "outputs": [],
   "source": [
    "identity = lambda x: x\n",
    "increment = lambda x: x + 1\n",
    "\n",
    "def fif(c, t, f, x):\n",
    "    if c(x):\n",
    "        return t(x)\n",
    "    else:\n",
    "        return f(x)\n",
    "    \n",
    "def bounce(x, y):\n",
    "    while x < y:\n",
    "        if x <= (y and x):\n",
    "            print('a')\n",
    "        if x > 0:\n",
    "            print('b')\n",
    "        elif x > -5:\n",
    "            print('c')\n",
    "        x, y = -y, increment(x - y)\n",
    "        print(y)\n",
    "        \n",
    "crazy = lambda rich: 100 * rich\n",
    "crazy = lambda rich: crazy(crazy(rich))\n",
    "\n",
    "def ok(py):\n",
    "    def h(w):\n",
    "        print(py // 10)\n",
    "        return ok(py)\n",
    "    return lambda h: h(py)"
   ]
  },
  {
   "cell_type": "code",
   "execution_count": 3,
   "metadata": {},
   "outputs": [],
   "source": [
    "from operator import *"
   ]
  },
  {
   "cell_type": "code",
   "execution_count": 4,
   "metadata": {},
   "outputs": [
    {
     "name": "stdout",
     "output_type": "stream",
     "text": [
      "1 2\n",
      "None None\n"
     ]
    }
   ],
   "source": [
    "print(None, print(1, 2))\n",
    "# 1 2\n",
    "# None None"
   ]
  },
  {
   "cell_type": "code",
   "execution_count": 6,
   "metadata": {},
   "outputs": [
    {
     "name": "stdout",
     "output_type": "stream",
     "text": [
      "-2\n"
     ]
    }
   ],
   "source": [
    "fif(abs, print, print, -2)\n",
    "# -2"
   ]
  },
  {
   "cell_type": "code",
   "execution_count": null,
   "metadata": {},
   "outputs": [],
   "source": [
    "%load_ext tutormagic"
   ]
  },
  {
   "cell_type": "code",
   "execution_count": 13,
   "metadata": {},
   "outputs": [
    {
     "name": "stdout",
     "output_type": "stream",
     "text": [
      "a\n",
      "b\n",
      "0\n",
      "a\n",
      "c\n",
      "-1\n"
     ]
    }
   ],
   "source": [
    "bounce(1, 2)\n",
    "# a\n",
    "# b\n",
    "# 0\n",
    "# a\n",
    "# c\n",
    "# -1"
   ]
  },
  {
   "cell_type": "markdown",
   "metadata": {},
   "source": [
    "# 2. Factorial\n",
    "Implement `factorial`, which computes the factorial of a positive integer `n`. You may use any of the functions defined in problem #1. **You may not write `if`, `else`, `and`, `or`, or `lambda` in your solution**."
   ]
  },
  {
   "cell_type": "code",
   "execution_count": null,
   "metadata": {},
   "outputs": [],
   "source": [
    ">>> factorial(4) # 4 * 3 * 2 * 1\n",
    "24\n",
    ">>> factorial(1)\n",
    "1"
   ]
  },
  {
   "cell_type": "code",
   "execution_count": null,
   "metadata": {},
   "outputs": [],
   "source": [
    "def factorial(n):\n",
    "    return n * fif(identity, factorial, increment, n-1)"
   ]
  },
  {
   "cell_type": "markdown",
   "metadata": {},
   "source": [
    "The function above is very tricky. Let's consider the base case: `factorial(1)`"
   ]
  },
  {
   "cell_type": "code",
   "execution_count": null,
   "metadata": {},
   "outputs": [],
   "source": [
    "return 1 * fif(identity, factorial, increment, 0)\n",
    "\n",
    "if identity(0): # This evaluates to 0, which is False\n",
    "    return factorial(0) # This won't be executed at all\n",
    "else:\n",
    "    return increment(0) # This will be executed, and evaluates to 1"
   ]
  },
  {
   "cell_type": "markdown",
   "metadata": {},
   "source": [
    "# 3. Also Some Meal\n",
    "Fill in the environment diagram that results from executing the code on the right until:\n",
    "1. The entire program is finished,\n",
    "2. An error occurs,\n",
    "3. Or all frames are filled.\n",
    "\n",
    "You may not need to use all of the spaces or frames. \n",
    "\n",
    "A complete answer will:\n",
    "1. Add all missing names and parent annotations to all local frames\n",
    "2. Add all missing values created or referenced during execution\n",
    "3. Show the return value for each local frame"
   ]
  },
  {
   "cell_type": "code",
   "execution_count": null,
   "metadata": {},
   "outputs": [],
   "source": [
    "def al(so):\n",
    "    me = 1\n",
    "    def al(to):\n",
    "        return so + me\n",
    "    so = 2\n",
    "    return al\n",
    "\n",
    "def me(al):\n",
    "    me = 3\n",
    "    return al(lambda: 4) + so\n",
    "\n",
    "so = 5\n",
    "so = me(al(6)) + so"
   ]
  },
  {
   "cell_type": "markdown",
   "metadata": {},
   "source": [
    "# 4. Getting Rect\n",
    "Implement `rect`, which takes 2 positive integer arguments, `perimeter` and `area`. It returns the `integer` length of the longest side of a rectangle with integer side lengths `l` and `h` which has the given parameter and area. If no such rectangle exists, it returns `False`.\n",
    "\n",
    "The perimeter of a rectangle with sides `l` and `h` is `2l + 2h`. The area is `l` $\\times$ `h`\n",
    "\n",
    "**Hint**: The built-in function `round` takes a number as its argument and returns the nearest integer. For example, `round(2.0)` evaluates to `2`, and `round(2.5)` evaluates to `3`."
   ]
  },
  {
   "cell_type": "code",
   "execution_count": null,
   "metadata": {},
   "outputs": [],
   "source": [
    "# Return the longest side of a rectangle with area and perimeter that has integer sides\n",
    ">>> rect(10, 14) # A 2 x 5 rectangle\n",
    "5\n",
    ">>> rect(5, 12) # A 1 x 5 rectangle\n",
    "5\n",
    ">>> rect(25, 20) # A 5 x 5 rectangle\n",
    "5\n",
    ">>> rect(25, 25) # A 2.5 x 10 rectangle doesn't count because sides are not integers\n",
    "False\n",
    ">>> rect(25, 29) # A 2 x 12.5 rectangle doesn't count because sides are not integers\n",
    "False\n",
    ">>> rect(100, 50) # A 5 x 20 rectangle\n",
    "20"
   ]
  },
  {
   "cell_type": "code",
   "execution_count": 4,
   "metadata": {},
   "outputs": [],
   "source": [
    "def rect(area, perimeter):\n",
    "    side = 1 # This is the smaller side, starting from 1 incrementing up\n",
    "    while side * side <= area:\n",
    "        # other is the side that is going to be returned from the rect function\n",
    "        other = round((perimeter / 2) - side) \n",
    "        if side * other == area and 2 * (side + other) == perimeter:\n",
    "            return other\n",
    "        side = side + 1\n",
    "    return False"
   ]
  },
  {
   "cell_type": "code",
   "execution_count": 5,
   "metadata": {},
   "outputs": [
    {
     "data": {
      "text/plain": [
       "5"
      ]
     },
     "execution_count": 5,
     "metadata": {},
     "output_type": "execute_result"
    }
   ],
   "source": [
    "rect(5, 12)"
   ]
  },
  {
   "cell_type": "code",
   "execution_count": 6,
   "metadata": {},
   "outputs": [
    {
     "data": {
      "text/plain": [
       "False"
      ]
     },
     "execution_count": 6,
     "metadata": {},
     "output_type": "execute_result"
    }
   ],
   "source": [
    "rect(25, 25)"
   ]
  },
  {
   "cell_type": "markdown",
   "metadata": {},
   "source": [
    "In the above problem, `side` is the smaller side, while `other` is the longer side that is going to be returned. The `while` condition `side * side` makes sense since we start with the smallest `side` possible, `1`, and incrementing up."
   ]
  },
  {
   "cell_type": "markdown",
   "metadata": {},
   "source": [
    "# 5. Dig It\n",
    "Implement `sequence`, which takes a positive integer `n` and a function `term`. It returns an integer whose digits show the `n` elements of the sequence `term(1)`, `term(2)`, `...`, `term(n)` in order. Assume the `term` function takes a positive integer argument and returns a positive integer.\n",
    "\n",
    "**Important**: You may not use `pow`, `**`, `log`, `str`, or `len` in your solution."
   ]
  },
  {
   "cell_type": "code",
   "execution_count": null,
   "metadata": {},
   "outputs": [],
   "source": [
    "# Return the first n terms of a sequence as an integer\n",
    ">>> sequence(6, abs) # Terms are 1, 2, 3, 4, 5, 6\n",
    "123456\n",
    ">>> sequence(5, lambda k: k + 8) # Terms are 9, 10, 11, 12, 13\n",
    "910111213\n",
    ">>> sequence(4, lambda k: pow(10, k)) # Terms are 10, 100, 1000\n",
    "10100100010000"
   ]
  },
  {
   "cell_type": "code",
   "execution_count": null,
   "metadata": {},
   "outputs": [],
   "source": [
    "def sequence(n, term):\n",
    "    # From here, we can tell that t is the total that is going to be returned, while\n",
    "    # k is an iterator that keeps going until it reaches n\n",
    "    t, k = 0, 1\n",
    "    while k <= n:\n",
    "        m = 1\n",
    "        x = term(k)\n",
    "        while m <= x:\n",
    "            m = m * 10\n",
    "        t = t * m + x\n",
    "        k = k + 1\n",
    "    return t"
   ]
  },
  {
   "cell_type": "markdown",
   "metadata": {},
   "source": [
    "The problem above is difficult to the point I had to look up the solution manual."
   ]
  },
  {
   "cell_type": "markdown",
   "metadata": {},
   "source": [
    "# 6. This Again?\n",
    "A `repeatable integer` function takes an integer argument and returns a repeatable integer function.\n",
    "\n",
    "(a) Implement `repeat`, which is a repeatable integer function that detects repeated arguments. As a side effect of repeated calls, it prints each argument that has been used before in a sequence of repeated calls. Therefore, if an argument appears `n` times, it is printed `n-1` times in total, each time other than the first. The `detector` function is part of the implementation of `repeat`; you must determine how it is used.\n",
    "\n",
    "**Important**: You may **not** use a `list`, `set`, or any other data type not covered yet in the course."
   ]
  },
  {
   "cell_type": "code",
   "execution_count": null,
   "metadata": {},
   "outputs": [],
   "source": [
    "# When called repeatedly, print each repeated argument\n",
    ">>> f = repeat(1)(7)(7)(3)(4)(2)(5)(1)(6)(5)(1)\n",
    "7\n",
    "1\n",
    "5\n",
    "1"
   ]
  },
  {
   "cell_type": "code",
   "execution_count": 1,
   "metadata": {},
   "outputs": [],
   "source": [
    "def repeat(k):\n",
    "    return detector(lambda n: False)(k)\n",
    "\n",
    "def detector(f):\n",
    "    def g(i):\n",
    "        if f(i):\n",
    "            print(i)\n",
    "        return detector(lambda n: n == i or f(n))\n",
    "    return g"
   ]
  },
  {
   "cell_type": "markdown",
   "metadata": {},
   "source": [
    "(b) Implement `repeat_digits`, which takes a non-negative integer `n`. For the digits of `n` from right to left, it prints each digit that also appears somewhere to its right. Assume `repeat` is implemented correctly."
   ]
  },
  {
   "cell_type": "code",
   "execution_count": 8,
   "metadata": {},
   "outputs": [
    {
     "data": {
      "text/plain": [
       "8"
      ]
     },
     "execution_count": 8,
     "metadata": {},
     "output_type": "execute_result"
    }
   ],
   "source": [
    "# Print the repeated digits of non-negative integer n\n",
    ">>> repeat_digits(581002821)\n",
    "2\n",
    "0\n",
    "1\n",
    "8"
   ]
  },
  {
   "cell_type": "code",
   "execution_count": 10,
   "metadata": {},
   "outputs": [],
   "source": [
    "def repeat_digits(n):\n",
    "    f = repeat\n",
    "    while n:\n",
    "        f, n = f(n % 10), n // 10"
   ]
  },
  {
   "cell_type": "code",
   "execution_count": 11,
   "metadata": {},
   "outputs": [
    {
     "name": "stdout",
     "output_type": "stream",
     "text": [
      "2\n",
      "0\n",
      "1\n",
      "8\n"
     ]
    }
   ],
   "source": [
    "repeat_digits(581002821)"
   ]
  },
  {
   "cell_type": "markdown",
   "metadata": {},
   "source": [
    "Super difficult, had to look up solution manual"
   ]
  }
 ],
 "metadata": {
  "kernelspec": {
   "display_name": "Python 3",
   "language": "python",
   "name": "python3"
  },
  "language_info": {
   "codemirror_mode": {
    "name": "ipython",
    "version": 3
   },
   "file_extension": ".py",
   "mimetype": "text/x-python",
   "name": "python",
   "nbconvert_exporter": "python",
   "pygments_lexer": "ipython3",
   "version": "3.7.2"
  }
 },
 "nbformat": 4,
 "nbformat_minor": 2
}
