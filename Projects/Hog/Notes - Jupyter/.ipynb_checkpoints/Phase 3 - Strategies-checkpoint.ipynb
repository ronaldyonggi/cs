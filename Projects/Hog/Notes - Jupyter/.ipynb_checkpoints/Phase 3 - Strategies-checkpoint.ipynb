{
 "cells": [
  {
   "cell_type": "markdown",
   "metadata": {},
   "source": [
    "# Phase 3 - Strategies"
   ]
  },
  {
   "cell_type": "markdown",
   "metadata": {},
   "source": [
    "## Problem 8 - (2 pt)"
   ]
  },
  {
   "cell_type": "markdown",
   "metadata": {},
   "source": [
    "#### `python ok -q -8 -u` quiz"
   ]
  },
  {
   "cell_type": "markdown",
   "metadata": {},
   "source": [
    "Q: What makes `make_averaged` a higher order function?\n",
    "Choose the number of the correct choice:\n",
    "\n",
    "0. It uses the `*args` keyword\n",
    "1. It takes in a function as an argument\n",
    "2. It returns a function\n",
    "3. It both takes in a function as an argument and returns a function\n",
    "\n",
    "**Ans**: 3"
   ]
  },
  {
   "cell_type": "markdown",
   "metadata": {},
   "source": [
    "Q: How many arguments does the function passed into `make_averaged` take?\n",
    "Choose the number of the correct choice:\n",
    "0. An arbitrary amount, which is why we need to use `*args` to call it\n",
    "1. Two\n",
    "2. None\n",
    "\n",
    "**Ans**: 0"
   ]
  },
  {
   "cell_type": "code",
   "execution_count": null,
   "metadata": {},
   "outputs": [],
   "source": [
    ">>> from hog import *\n",
    ">>> dice = make_test_dice(3, 1, 5, 6)\n",
    ">>> averaged_dice = make_averaged(dice, 1000)\n",
    ">>> # Average of calling dice 1000 times\n",
    ">>> averaged_dice()\n",
    "3.75"
   ]
  },
  {
   "cell_type": "markdown",
   "metadata": {},
   "source": [
    "For the quiz above, the argument provided to `make_averaged` are:\n",
    "\n",
    "1. `fn` = dice\n",
    "2. `num_samples` = 1000\n",
    "\n",
    "The calculation works as the following:\n",
    "\n",
    "Call `dice` 1,000 times. \n",
    "* Every 4 times cycle, we get a total of 15 points\n",
    "* $ \\frac{1000}{4} = 250$\n",
    "* Average = $\\frac{250 \\times 15}{1000}$ = 3.75\n",
    "\n",
    "Here we didn't provied any arguments when calling `averaged_dice` because we are simply calling `dice()`, which doesn't require any argument.\n",
    "\n"
   ]
  },
  {
   "cell_type": "code",
   "execution_count": null,
   "metadata": {},
   "outputs": [],
   "source": [
    ">>> from hog import *\n",
    ">>> dice = make_test_dice(3, 1, 5, 6)\n",
    ">>> averaged_roll_dice = make_averaged(roll_dice, 1000)\n",
    ">>> # Average of calling roll_dice 1000 times\n",
    ">>> # Enter a float (e.g. 1.0) instead of an integer\n",
    ">>> averaged_roll_dice(2, dice)\n",
    "6.0"
   ]
  },
  {
   "cell_type": "markdown",
   "metadata": {},
   "source": [
    "For the quiz above, for every turn we roll 2 dice instead of one.\n",
    "* Half of the time (500 times), we roll `3` and `1`. The total outcome is `1` because of `Pig Out`\n",
    "    * Total points = $500 \\times 1 = 500 $\n",
    "* Half of the time (500 times), we roll `5` and `6`. The total outcome is $ 5 + 6 = 11$\n",
    "    * Total points = $11 \\times 500 = 5500$\n",
    "\n",
    "The average is simply $\\frac{5500 + 500}{1000}$ = 6\n",
    "\n",
    "Here, when calling the function `averaged_roll_dice`, the arguments `2, dice` were provided. This is because the function `fn` used was the `roll_dice` function which takes 2 arguments: `num_rolls` and `dice`."
   ]
  },
  {
   "cell_type": "markdown",
   "metadata": {},
   "source": [
    "#### Implementation of Problem 8"
   ]
  },
  {
   "cell_type": "markdown",
   "metadata": {},
   "source": [
    "The `make_averaged` function returns a function that calls `fn` `num_samples` of times and returns the **average of the results**. \n",
    "\n",
    "Based on the hints from `ok` quiz, `make_averaged` should return a function that can take flexible amount of arguments (recall `averaged_dice()` and `averaged_roll_dice(2, dice)` from the `ok` test). This is a hint that the `helper` function takes arbitrary amount of arguments `(*args)`."
   ]
  },
  {
   "cell_type": "code",
   "execution_count": null,
   "metadata": {},
   "outputs": [],
   "source": [
    "def helper(*args):\n",
    "    ..."
   ]
  },
  {
   "cell_type": "markdown",
   "metadata": {},
   "source": [
    "Inside the `helper` function, call the function `fn` `num_samples` number of times.\n",
    "* Every time the function `fn` is called, store the result\n",
    "    * Example: based on the `ok` quiz, `fn` is a dice roll. We want to keep track of the total scores obtained from the rolls so far.\n",
    "* The `fn` function can either take arguments (`roll_dice`) or none at all (`dice()`). We set this by calling `fn(*args)`"
   ]
  },
  {
   "cell_type": "code",
   "execution_count": 9,
   "metadata": {},
   "outputs": [
    {
     "ename": "NameError",
     "evalue": "name 'num_samples' is not defined",
     "output_type": "error",
     "traceback": [
      "\u001b[0;31m---------------------------------------------------------------------------\u001b[0m",
      "\u001b[0;31mNameError\u001b[0m                                 Traceback (most recent call last)",
      "\u001b[0;32m<ipython-input-9-bccbf4c4763e>\u001b[0m in \u001b[0;36m<module>\u001b[0;34m\u001b[0m\n\u001b[1;32m      1\u001b[0m \u001b[0mtotal\u001b[0m \u001b[0;34m=\u001b[0m \u001b[0;36m0\u001b[0m \u001b[0;31m# keep track of the total scores so far\u001b[0m\u001b[0;34m\u001b[0m\u001b[0;34m\u001b[0m\u001b[0m\n\u001b[0;32m----> 2\u001b[0;31m \u001b[0;32mfor\u001b[0m \u001b[0mi\u001b[0m \u001b[0;32min\u001b[0m \u001b[0mrange\u001b[0m\u001b[0;34m(\u001b[0m\u001b[0mnum_samples\u001b[0m\u001b[0;34m)\u001b[0m\u001b[0;34m:\u001b[0m \u001b[0;31m# Iterate through num_rolls\u001b[0m\u001b[0;34m\u001b[0m\u001b[0;34m\u001b[0m\u001b[0m\n\u001b[0m\u001b[1;32m      3\u001b[0m     \u001b[0mtotal\u001b[0m \u001b[0;34m+=\u001b[0m \u001b[0mfn\u001b[0m\u001b[0;34m(\u001b[0m\u001b[0;34m*\u001b[0m\u001b[0margs\u001b[0m\u001b[0;34m)\u001b[0m\u001b[0;34m\u001b[0m\u001b[0;34m\u001b[0m\u001b[0m\n\u001b[1;32m      4\u001b[0m \u001b[0;34m\u001b[0m\u001b[0m\n\u001b[1;32m      5\u001b[0m \u001b[0;32mreturn\u001b[0m \u001b[0mtotal\u001b[0m \u001b[0;34m/\u001b[0m \u001b[0mnum_rolls\u001b[0m\u001b[0;34m\u001b[0m\u001b[0;34m\u001b[0m\u001b[0m\n",
      "\u001b[0;31mNameError\u001b[0m: name 'num_samples' is not defined"
     ]
    }
   ],
   "source": [
    "total = 0 # keep track of the total scores so far\n",
    "for i in range(num_samples): # Iterate through num_samples\n",
    "    total += fn(*args)\n",
    "\n",
    "return total / num_samples"
   ]
  },
  {
   "cell_type": "markdown",
   "metadata": {},
   "source": [
    "The implementation looks as the following,"
   ]
  },
  {
   "cell_type": "code",
   "execution_count": null,
   "metadata": {},
   "outputs": [],
   "source": [
    "def helper(*args):\n",
    "    total = 0\n",
    "    for (i = 1; i <= num_samples; i++): # Iterate through num_rolls\n",
    "    total += fn(*args)\n",
    "\n",
    "return total / num_samples"
   ]
  }
 ],
 "metadata": {
  "file_extension": ".py",
  "kernelspec": {
   "display_name": "Python 3",
   "language": "python",
   "name": "python3"
  },
  "language_info": {
   "codemirror_mode": {
    "name": "ipython",
    "version": 3
   },
   "file_extension": ".py",
   "mimetype": "text/x-python",
   "name": "python",
   "nbconvert_exporter": "python",
   "pygments_lexer": "ipython3",
   "version": "3.7.3"
  },
  "mimetype": "text/x-python",
  "name": "python",
  "npconvert_exporter": "python",
  "pygments_lexer": "ipython3",
  "version": 3
 },
 "nbformat": 4,
 "nbformat_minor": 4
}
