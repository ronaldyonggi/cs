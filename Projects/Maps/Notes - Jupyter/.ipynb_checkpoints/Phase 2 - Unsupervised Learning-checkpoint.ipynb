{
 "cells": [
  {
   "cell_type": "markdown",
   "metadata": {},
   "source": [
    "## Problem 3 (1pt)"
   ]
  },
  {
   "cell_type": "markdown",
   "metadata": {},
   "source": [
    "Implement `find_closest` which takes:\n",
    "\n",
    "1. A `location`\n",
    "2. A sequence of `centroids` (locations)\n",
    "\n",
    "...and returns the element of `centroids` closest to `location`.\n",
    "\n",
    "Use the `distance` function from `utils.py` to measure distance between locations. The `distance` function calculates the Euclidean distance between 2 locations."
   ]
  },
  {
   "cell_type": "markdown",
   "metadata": {},
   "source": [
    "### `python3 ok -q 03 -u` quiz"
   ]
  },
  {
   "cell_type": "markdown",
   "metadata": {},
   "source": [
    "Q: Which of the following types of values can be passed as\n",
    "an argument to distance?\n",
    "Choose the number of the correct choice:\n",
    "\n",
    "0. pair; e.g. `[1, 1]`\n",
    "1. restaurant; e.g. `make_restaurant('A', [1, 1], ['Food'], 1, [])`\n",
    "2. number; e.g. 1\n",
    "3. string of a pair; e.g. `'[1, 1]'`\n",
    "\n",
    "**Answer**: 0. This can be seen from the `distance` function doctest in `utils.py`."
   ]
  },
  {
   "cell_type": "markdown",
   "metadata": {},
   "source": [
    "Q: Consider the list l = `[[4, 1], [-3, 2], [5, 0]]`. Which of\n",
    "the choices below for fn would make `min(l, key=fn)` evaluate\n",
    "to `[4, 1]`?\n",
    "Choose the number of the correct choice:\n",
    "\n",
    "0. `lambda x, y: abs(x - y)`\n",
    "1. `sum`\n",
    "2. `lambda x, y: pow(-x, y)`\n",
    "3. `lambda x: abs(x[0] - x[1])`\n",
    "\n",
    "**Answer**: 3"
   ]
  },
  {
   "cell_type": "code",
   "execution_count": null,
   "metadata": {},
   "outputs": [],
   "source": [
    ">>> import tests.test_functions as test\n",
    ">>> from recommend import *\n",
    ">>> distance([0, 0], [3, 4]) # should be a decimal\n",
    "5.0"
   ]
  },
  {
   "cell_type": "code",
   "execution_count": null,
   "metadata": {},
   "outputs": [],
   "source": [
    ">>> distance([6, 1], [6, 1]) # should be a decimal\n",
    "0.0"
   ]
  },
  {
   "cell_type": "code",
   "execution_count": null,
   "metadata": {},
   "outputs": [],
   "source": [
    ">>> distance([-2, 7], [-3.5, 9]) # should be a decimal\n",
    "2.5"
   ]
  },
  {
   "cell_type": "code",
   "execution_count": 4,
   "metadata": {},
   "outputs": [
    {
     "data": {
      "text/plain": [
       "2.5"
      ]
     },
     "execution_count": 4,
     "metadata": {},
     "output_type": "execute_result"
    }
   ],
   "source": [
    ">>> import tests.test_functions as test\n",
    ">>> from recommend import *\n",
    ">>> find_closest([6, 1],\n",
    "...              [[1, 5], [3, 3]])\n",
    "[3, 3]"
   ]
  },
  {
   "cell_type": "code",
   "execution_count": null,
   "metadata": {},
   "outputs": [],
   "source": [
    ">>> find_closest([1, 6],\n",
    "...              [[1, 5], [3, 3]])\n",
    "[1, 5]"
   ]
  },
  {
   "cell_type": "code",
   "execution_count": null,
   "metadata": {},
   "outputs": [],
   "source": [
    ">>> find_closest([0, 0],\n",
    "...              [[-2, 0], [2, 0]])\n",
    "[-2, 0]"
   ]
  },
  {
   "cell_type": "code",
   "execution_count": null,
   "metadata": {},
   "outputs": [],
   "source": [
    ">>> find_closest([0, 0],\n",
    "...              [[1000, 1000]])\n",
    "[1000, 1000]"
   ]
  },
  {
   "cell_type": "code",
   "execution_count": null,
   "metadata": {},
   "outputs": [],
   "source": [
    ">>> import tests.test_functions as test\n",
    ">>> from recommend import *\n",
    ">>> # Be sure to use the distance function!\n",
    ">>> find_closest([0, 0],\n",
    "...              [[2, 2], [0, 3]])\n",
    "[2, 2]"
   ]
  },
  {
   "cell_type": "code",
   "execution_count": null,
   "metadata": {},
   "outputs": [],
   "source": [
    ">>> find_closest([0, 0],\n",
    "...              [[5, 5], [2, 7]])\n",
    "[5, 5]"
   ]
  },
  {
   "cell_type": "markdown",
   "metadata": {},
   "source": [
    "### Implementation of Problem 3"
   ]
  },
  {
   "cell_type": "markdown",
   "metadata": {},
   "source": [
    "Looking at the `ok` quiz, the `centroids` consists of a list of lists of x, y coordinates. We want to find the `centroid` that's the closest to the `location`. This can be done nicely with one line `min` statement using an additional `key` statement."
   ]
  },
  {
   "cell_type": "code",
   "execution_count": null,
   "metadata": {},
   "outputs": [],
   "source": [
    "def find_closest(location, centroids):\n",
    "    return min(centroids, key = lambda centroid: distance(location, centroid)"
   ]
  },
  {
   "cell_type": "markdown",
   "metadata": {},
   "source": [
    "With the implementation above, \n",
    "* For every `centroid` in `centroids`, Python calculates the distance between the `location` and the `centroid`\n",
    "* In the end, Python returns the centroid that results in the least distance"
   ]
  },
  {
   "cell_type": "markdown",
   "metadata": {},
   "source": [
    "## Problem 4"
   ]
  },
  {
   "cell_type": "markdown",
   "metadata": {},
   "source": [
    "The function `group_by_centroid` takes in:\n",
    "* A sequence of `restaurants`\n",
    "    * Not only the location, but all attributes of a restaurant (e.g. name, reviews,etc.)\n",
    "* A sequence of `centroids` (locations)\n",
    "\n",
    "...and returns a list of `clusters`. Each cluster is a list of restaurants that are closer to a specific centroid. \n",
    "\n",
    "If a restaurant is equally close to 2 centroids, associate it with the centroid that appears first in the sequence of `centroids`"
   ]
  },
  {
   "cell_type": "markdown",
   "metadata": {},
   "source": [
    "### `python ok -q 04 -u` quiz"
   ]
  },
  {
   "cell_type": "markdown",
   "metadata": {},
   "source": [
    "Q: If centroids is [[-1, 1], [5, -1], [1, 10], [-1, -10]],\n",
    "to which centroid will [6, 0] be associated?\n",
    "Choose the number of the correct choice:\n",
    "\n",
    "0. [-1, 1]\n",
    "1. [5, -1]\n",
    "2. [1, 10]\n",
    "3. [-1, -10]\n",
    "\n",
    "**Ans**: 1"
   ]
  },
  {
   "cell_type": "markdown",
   "metadata": {},
   "source": [
    "Q: If centroids is [[1, 1], [1, -1], [-1, 1], [-1, -1]],\n",
    "to which centroid will [0, 0] be associated?\n",
    "Choose the number of the correct choice:\n",
    "\n",
    "0. [1, -1]\n",
    "1. [-1, 1]\n",
    "2. [-1, -1]\n",
    "3. [1, 1]\n",
    "\n",
    "**Ans**: 3"
   ]
  },
  {
   "cell_type": "markdown",
   "metadata": {},
   "source": [
    "### Implementation of Problem 4"
   ]
  },
  {
   "cell_type": "markdown",
   "metadata": {},
   "source": [
    "The hint instructs to use the provided `group_by_first` function to group together all values for the same key in a list of `[key, value]` pairs."
   ]
  },
  {
   "cell_type": "code",
   "execution_count": null,
   "metadata": {},
   "outputs": [],
   "source": [
    "def group_by_first(pairs):\n",
    "    \"\"\"Return a list of pairs that relates each unique key in the [key, value]\n",
    "    pairs to a list of all values that appear paired with that key.\n",
    "\n",
    "    Arguments:\n",
    "    pairs -- a sequence of pairs\n",
    "\n",
    "    >>> example = [ [1, 2], [3, 2], [2, 4], [1, 3], [3, 1], [1, 2] ]\n",
    "    >>> group_by_first(example)\n",
    "    [[2, 3, 2], [2, 1], [4]]\n",
    "    \"\"\"\n",
    "    keys = []\n",
    "    for key, _ in pairs:\n",
    "        if key not in keys:\n",
    "            keys.append(key)\n",
    "    return [[y for x, y in pairs if x == key] for key in keys]"
   ]
  },
  {
   "cell_type": "markdown",
   "metadata": {},
   "source": [
    "In the doctest below, The first pair in the `example` sequence if `[1, 2]`. This function then groups all the pairs whose key is `1` (`[1, 3]`, `[1, 2]`) in orderly fashion. From this grouping, we obtain `[2, 3, 2]`.\n",
    "\n",
    "The next pair to group is `[3, 2]`. All other pairs whose key is `3` is `[3, 1]`. Hence the output `[2, 1]`.\n",
    "\n",
    "There are no other pairs with key `2` for the pair `[2, 4]`. Thus, the output is simply `[4]`.\n",
    "\n",
    "Pseudocode:\n",
    "\n",
    "1. For each restaurant, find the closest `centroid` via `find_closest` function\n",
    "2. Using `zip` function, pair each restaurant with its closest centroid\n",
    "3. Group the result of step #2 using `group_by_first`."
   ]
  },
  {
   "cell_type": "code",
   "execution_count": null,
   "metadata": {},
   "outputs": [],
   "source": [
    "# With the restaurant_location selector, obtain each restaurant's location and put in a list\n",
    "restaurant_locations = [restaurant_location(restaurant) for restaurant in restaurants]\n",
    "# Calculate the closest centroid for each restaurant location\n",
    "closest_centroid = [find_closest(location, centroids) for location in restaurant_locations]\n",
    "# Zip each closest_centroid with restaurants\n",
    "zipped_pair = zip(closest_centroid, restaurants)\n",
    "# Then group the zipped_pair using group_by_first\n",
    "return group_by_first(zipped_pair)"
   ]
  },
  {
   "cell_type": "markdown",
   "metadata": {},
   "source": [
    "## Problem 5"
   ]
  },
  {
   "cell_type": "markdown",
   "metadata": {},
   "source": [
    "The `find_centroid` function takes in a `cluster` (a list of restaurants) and returns a `centroid`, a coordinate based on the `mean` of the latitude (first number) and the `mean` of the longitude (second number)."
   ]
  },
  {
   "cell_type": "markdown",
   "metadata": {},
   "source": [
    "### `python ok -q 05 -u` quiz"
   ]
  },
  {
   "cell_type": "code",
   "execution_count": null,
   "metadata": {},
   "outputs": [],
   "source": [
    ">>> from recommend import *\n",
    ">>> cluster1 = [\n",
    "...     make_restaurant('A', [-3, -4], [], 3, [make_review('A', 2)]),\n",
    "...     make_restaurant('B', [1, -1],  [], 1, [make_review('B', 1)]),\n",
    "...     make_restaurant('C', [2, -4],  [], 1, [make_review('C', 5)]),\n",
    "... ]\n",
    ">>> find_centroid(cluster1) # should be a pair of decimals\n",
    "[0.0, -3.0]"
   ]
  },
  {
   "cell_type": "markdown",
   "metadata": {},
   "source": [
    "### Implementation of Problem 5"
   ]
  },
  {
   "cell_type": "markdown",
   "metadata": {},
   "source": [
    "Pseudocode:\n",
    "\n",
    "1. Access each restaurant's location using the `restaurant_location` selector\n",
    "2. For each `location`, calculate the `mean` of the latitude and longitude separately\n",
    "3. Return the result in a list of `[mean of latitude, mean of longitude]`"
   ]
  },
  {
   "cell_type": "code",
   "execution_count": null,
   "metadata": {},
   "outputs": [],
   "source": [
    "# Obtain the location of each restaurant using the restaurant_location selector\n",
    "locations = [restaurant_location(restaurant) for restaurant in cluster]\n",
    "# Obtain the latitudes from locations, indicated by index 0 of each location\n",
    "latitudes = [location[0] for location in locations]\n",
    "# Obtain the longitude, indicated by index 1 of each location\n",
    "longitudes = [location[1] for location in locations]\n",
    "# Simply calculate the mean of latitudes and longitudes separately then return them in a form of list\n",
    "return [mean(latitudes), mean(longitudes)]"
   ]
  },
  {
   "cell_type": "markdown",
   "metadata": {},
   "source": [
    "## Problem 6"
   ]
  },
  {
   "cell_type": "markdown",
   "metadata": {},
   "source": [
    "Q: What are we using the k-means algorithm to achieve?\n",
    "Choose the number of the correct choice:\n",
    "\n",
    "0. Predicting the ratings for k restaurants.\n",
    "1. Grouping the restaurants into k clusters by location.\n",
    "2. Finding the mean rating of restaurants for k categories.\n",
    "\n",
    "**Ans**: 1"
   ]
  },
  {
   "cell_type": "markdown",
   "metadata": {},
   "source": [
    "Q: What is the first step of the k-means algorithm?\n",
    "Choose the number of the correct choice:\n",
    "\n",
    "0. Create a cluster for each centroid consisting of all elements closest to\n",
    "   that centroid.\n",
    "1. Find the centroid (average position) of each cluster.\n",
    "2. Randomly initialize k centroids.\n",
    "\n",
    "**Ans**: 2"
   ]
  },
  {
   "cell_type": "markdown",
   "metadata": {},
   "source": [
    "Q: After we randomly initialize k centroids, what is the first step\n",
    "of the iterative portion of the k-means algorithm?\n",
    "Choose the number of the correct choice:\n",
    "\n",
    "0. Create a cluster for each centroid consisting of all elements closest to\n",
    "   that centroid.\n",
    "1. Group restaurants by latitude.\n",
    "2. Find the centroid (average position) of each cluster.\n",
    "3. Randomly reassign centroids.\n",
    "\n",
    "**Ans**: 0"
   ]
  },
  {
   "cell_type": "markdown",
   "metadata": {},
   "source": [
    "Q: What is the second step of the iterative portion of the k-means\n",
    "algorithm?\n",
    "Choose the number of the correct choice:\n",
    "\n",
    "0. Find the centroid (average position) of each cluster.\n",
    "1. Randomly reassign centroids.\n",
    "2. Group restaurants by latitude.\n",
    "3. Create a cluster for each centroid consisting of all elements closest to\n",
    "   that centroid.\n",
    "\n",
    "**Ans**: 0"
   ]
  },
  {
   "cell_type": "markdown",
   "metadata": {},
   "source": [
    "### Implementation of Problem 6"
   ]
  },
  {
   "cell_type": "markdown",
   "metadata": {},
   "source": [
    "The function `k_means` came with the following lines:"
   ]
  },
  {
   "cell_type": "code",
   "execution_count": null,
   "metadata": {},
   "outputs": [],
   "source": [
    "assert len(restaurants) >= k, 'Not enough restaurants to cluster'\n",
    "old_centroids, n = [], 0\n",
    "# Select initial centroids randomly by choosing k different restaurants\n",
    "centroids = [restaurant_location(r) for r in sample(restaurants, k)]\n",
    "\n",
    "while old_centroids != centroids and n < max_updates:\n",
    "    old_centroids = centroids \n",
    "    # BEGIN Question 6\n",
    "    \n",
    "    \n",
    "    # END Question 6\n",
    "    n += 1\n",
    "    # The cycle stops once the centroids don't change anymore\n",
    "return centroids"
   ]
  },
  {
   "cell_type": "markdown",
   "metadata": {},
   "source": [
    "From the provided code above, we get the following information:\n",
    "\n",
    "1. `n` is the number of iteration for `while` loop. It stops when it reaches `max_updates`\n",
    "2. The `centroids` is a list of lists (e.g. `[[1, 3], [5, -2]]`)\n",
    "\n",
    "Pseudocode:\n",
    "\n",
    "1. Group `restaurants` into clusters where each cluster contains all restaurants closest to the same centroid. This can be done via calling `group_by_centroid(restaurants, centroids)`\n",
    "2. Find the centroid of each cluster using `find_centroid`.\n",
    "3. Return the centroids from step #2 in a single list and bind it to the variable `centroids`"
   ]
  },
  {
   "cell_type": "code",
   "execution_count": null,
   "metadata": {},
   "outputs": [],
   "source": [
    "# Group restaurants into clusters\n",
    "clusters = group_by_centroid(restaurants, centroids)\n",
    "# Find the centroid for each cluster, and bind to to the variable centroids\n",
    "centroids = [find_centroid(cluster) for cluster in clusters]"
   ]
  },
  {
   "cell_type": "code",
   "execution_count": null,
   "metadata": {},
   "outputs": [],
   "source": [
    "    "
   ]
  }
 ],
 "metadata": {
  "file_extension": ".py",
  "kernelspec": {
   "display_name": "Python 3",
   "language": "python",
   "name": "python3"
  },
  "language_info": {
   "codemirror_mode": {
    "name": "ipython",
    "version": 3
   },
   "file_extension": ".py",
   "mimetype": "text/x-python",
   "name": "python",
   "nbconvert_exporter": "python",
   "pygments_lexer": "ipython3",
   "version": "3.7.3"
  },
  "mimetype": "text/x-python",
  "name": "python",
  "npconvert_exporter": "python",
  "pygments_lexer": "ipython3",
  "version": 3
 },
 "nbformat": 4,
 "nbformat_minor": 4
}
