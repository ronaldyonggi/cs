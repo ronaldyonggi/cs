{
 "cells": [
  {
   "cell_type": "code",
   "execution_count": 2,
   "metadata": {},
   "outputs": [],
   "source": [
    "%load_ext tutormagic"
   ]
  },
  {
   "cell_type": "markdown",
   "metadata": {},
   "source": [
    "## Problem 13\n",
    "#### WWSD"
   ]
  },
  {
   "cell_type": "code",
   "execution_count": null,
   "metadata": {},
   "outputs": [],
   "source": [
    "scm> (and)\n",
    "Choose the number of the correct choice:\n",
    "0) #t\n",
    "1) SchemeError\n",
    "2) #f\n",
    "\n",
    "Ans: 0"
   ]
  },
  {
   "cell_type": "code",
   "execution_count": null,
   "metadata": {},
   "outputs": [],
   "source": [
    "scm> (and 1 #f)\n",
    "Choose the number of the correct choice:\n",
    "0) #f\n",
    "1) #t\n",
    "2) 1\n",
    "\n",
    "Ans: 0"
   ]
  },
  {
   "cell_type": "code",
   "execution_count": null,
   "metadata": {},
   "outputs": [],
   "source": [
    "scm> (and (+ 1 1) 1)\n",
    "1\n",
    "scm> (and #f 5)\n",
    "#f\n",
    "scm> (and 4 5 (+ 3 3))\n",
    "6\n",
    "scm> (not (and #t #f 42 (/ 1 0)))\n",
    "#t\n",
    "scm> (or)\n",
    "#f\n",
    "scm> (or (+ 1 1))\n",
    "2\n",
    "scm> (not (or #f))\n",
    "#t\n",
    "scm> (define (zero) 0)\n",
    "zero\n",
    "scm> (or (zero) 3)\n",
    "0\n",
    "scm> (or 4 #t (/ 1 0))\n",
    "4"
   ]
  },
  {
   "cell_type": "markdown",
   "metadata": {},
   "source": [
    "#### Strategy - `do_and_form`"
   ]
  },
  {
   "cell_type": "markdown",
   "metadata": {},
   "source": [
    "One helpful thing to do is to print out the `expressions` and see what it looks like:"
   ]
  },
  {
   "cell_type": "code",
   "execution_count": null,
   "metadata": {},
   "outputs": [],
   "source": [
    "def do_and_form(expressions, env):\n",
    "    print(expressions)\n",
    "    \n",
    "scm> (and)\n",
    "()\n",
    "\n",
    "# Error: expected\n",
    "#     #t\n",
    "# but got\n",
    "#     ()"
   ]
  },
  {
   "cell_type": "markdown",
   "metadata": {},
   "source": [
    "It seems that the first test is nothing! This first test actually helps with setting a base case that if `expressions` is empty, we evaluate to `#t`. This time, we'll be able to see what kind of non-empty `expressions` we're dealing with."
   ]
  },
  {
   "cell_type": "code",
   "execution_count": null,
   "metadata": {},
   "outputs": [],
   "source": [
    "def do_and_form(expressions, env):\n",
    "    if expressions is nil:\n",
    "        return scheme_truep(nil)\n",
    "    return expressions\n",
    "\n",
    "scm> (and)\n",
    "#t\n",
    "scm> (and 1 #f)\n",
    "(1 #f)\n",
    "\n",
    "# Error: expected\n",
    "#     #f\n",
    "# but got\n",
    "#     (1 #f)"
   ]
  },
  {
   "cell_type": "markdown",
   "metadata": {},
   "source": [
    "As we can see, we see a Scheme list representation `(1 #f)`. Recall that a Scheme list representation is constructed by the `Pair` class and so we can access their elements by `expressions.first` and `expressions.second.first`."
   ]
  },
  {
   "cell_type": "code",
   "execution_count": null,
   "metadata": {},
   "outputs": [],
   "source": [
    "def do_and_form(expressions, env):\n",
    "    if expressions is nil:\n",
    "        return scheme_truep(nil)\n",
    "    return expressions.first\n",
    "\n",
    "scm> (and)\n",
    "#t\n",
    "scm> (and 1 #f)\n",
    "1\n",
    "      \n",
    "def do_and_form(expressions, env):\n",
    "    if expressions is nil:\n",
    "        return scheme_truep(nil)\n",
    "    return expressions.second.first\n",
    "      \n",
    "scm> (and)\n",
    "#t\n",
    "scm> (and 1 #f)\n",
    "#f"
   ]
  },
  {
   "cell_type": "markdown",
   "metadata": {},
   "source": [
    "Now with `and`, we want return `#f` for the first false value that we come across. To use the `true` and `false` value in this interpreter, we use the Python functions `scheme_truep` and `scheme_falsep`."
   ]
  },
  {
   "cell_type": "code",
   "execution_count": 1,
   "metadata": {},
   "outputs": [],
   "source": [
    "def scheme_truep(val):\n",
    "    \"\"\"All values in Scheme are true except False.\"\"\"\n",
    "    return val is not False\n",
    "\n",
    "def scheme_falsep(val):\n",
    "    \"\"\"Only False is false in Scheme.\"\"\"\n",
    "    return val is False"
   ]
  },
  {
   "cell_type": "markdown",
   "metadata": {},
   "source": [
    "Based on the function definition above, `val` can be anything."
   ]
  },
  {
   "cell_type": "code",
   "execution_count": 3,
   "metadata": {},
   "outputs": [
    {
     "data": {
      "text/plain": [
       "True"
      ]
     },
     "execution_count": 3,
     "metadata": {},
     "output_type": "execute_result"
    }
   ],
   "source": [
    "scheme_truep(0)"
   ]
  },
  {
   "cell_type": "markdown",
   "metadata": {},
   "source": [
    "Now we can implement with the following logic:\n",
    "\n",
    "**Base case**: If `expressions` is `nil`, then we don't have any sub-expression to process. Just return `#t`.\n",
    "\n",
    "Meanwhile, use a `while` loop to get through the elements in the list.\n",
    "1. Assign a variable to the currently selected element\n",
    "2. Check if that currently selected element evaluates to **#f**. Is yes, return it right away\n",
    "3. Otherwise, shift to the next element\n",
    "\n",
    "If no `#f` value is found, then the variable should be bound to the last element in the list by the time Python exits the `while` loop. In this case, just return that last element."
   ]
  },
  {
   "cell_type": "code",
   "execution_count": null,
   "metadata": {},
   "outputs": [],
   "source": [
    "def do_and_form(expressions, env):\n",
    "    # If the expression is empty to begin with, then return true\n",
    "    if expressions is nil:\n",
    "        return scheme_truep(0)\n",
    "    # If the expression is not empty, then use while loop to go through each\n",
    "    # element in the expression\n",
    "    while not expressions is nil:\n",
    "        # assign a variable to the currently selected element\n",
    "        current = expressions.first\n",
    "        # The first 'false' value found should be returned\n",
    "        if current is scheme_falsep(0):\n",
    "            return current\n",
    "        # Otherwise, move on to the next element\n",
    "        expressions = expressions.second\n",
    "    # If no false value is found, then at the end, return the 'current', \n",
    "    # which should be bound to the last element in expressions\n",
    "    return current\n",
    "\n",
    "scm> (and)\n",
    "#t\n",
    "scm> (and 1 #f)\n",
    "#f\n",
    "scm> (and (+ 1 1) 1)\n",
    "1\n",
    "scm> (and #f 5)\n",
    "#f\n",
    "scm> (and 4 5 (+ 3 3))\n",
    "(+ 3 3)\n",
    "\n",
    "# Error: expected\n",
    "#     6\n",
    "# but got\n",
    "#     (+ 3 3)"
   ]
  },
  {
   "cell_type": "markdown",
   "metadata": {},
   "source": [
    "However, as we can see above, the `ok` test fails when it encountered the expression `(+ 3 3)`. It turns out that for each element that we select, we need to evaluate it. We can evaluate an element using `scheme_eval`."
   ]
  },
  {
   "cell_type": "code",
   "execution_count": null,
   "metadata": {},
   "outputs": [],
   "source": [
    "def do_and_form(expressions, env):\n",
    "    if expressions is nil:\n",
    "        return scheme_truep(0)\n",
    "    while not expressions is nil:\n",
    "        # Evaluate the currently selected element then assign it to 'current'\n",
    "        current = scheme_eval(expressions.first, env)\n",
    "        if current is scheme_falsep(0):\n",
    "            return current\n",
    "        expressions = expressions.second\n",
    "    return current"
   ]
  },
  {
   "cell_type": "markdown",
   "metadata": {},
   "source": [
    "#### Strategy - `do_or_form`"
   ]
  },
  {
   "cell_type": "markdown",
   "metadata": {},
   "source": [
    "Similar to `do_and_form`, but the differences are as the following:\n",
    "\n",
    "1. If the `expressions` is `nil` in the first place, then return `#f`\n",
    "2. When going through the elements, if any of the element evaluate to non `#f`, then return that element.\n",
    "3. Otherwise, return the last element in the list after exiting the `while` loop."
   ]
  },
  {
   "cell_type": "code",
   "execution_count": null,
   "metadata": {},
   "outputs": [],
   "source": [
    "def do_or_form(expressions, env):\n",
    "    # If the expression is nil in the first place, return #f\n",
    "    if expressions is nil:\n",
    "        return scheme_falsep(0)\n",
    "    # Otherwise, go through the elements in expressions\n",
    "    while not expressions is nil:\n",
    "        # Assign the result of evaluating the currently selected element\n",
    "        # to 'current'\n",
    "        current = scheme_eval(expressions.first, env)\n",
    "        # if the 'current' does not evaluate to #f, return it\n",
    "        if not current is scheme_falsep(0):\n",
    "            return current\n",
    "        # Otherwise, move on to the next element\n",
    "        expressions = expressions.second\n",
    "    # If Python has gone through all the elements in expressions, exit the\n",
    "    # while loop and return the last element\n",
    "    return current\n",
    "        \n",
    "        \n",
    "        "
   ]
  },
  {
   "cell_type": "markdown",
   "metadata": {},
   "source": [
    "## Problem 14\n",
    "#### WWSD"
   ]
  },
  {
   "cell_type": "code",
   "execution_count": null,
   "metadata": {},
   "outputs": [],
   "source": [
    "scm> (cond ((> 2 3) 5)\n",
    "....       ((> 2 4) 6)\n",
    "....       ((< 2 5) 7)\n",
    "....       (else 8))\n",
    "7"
   ]
  },
  {
   "cell_type": "code",
   "execution_count": null,
   "metadata": {},
   "outputs": [],
   "source": [
    "scm> (cond ((> 2 3) 5)\n",
    "....       ((> 2 4) 6)\n",
    "....       (else 8))\n",
    "8"
   ]
  },
  {
   "cell_type": "markdown",
   "metadata": {},
   "source": [
    "#### Strategy"
   ]
  },
  {
   "cell_type": "markdown",
   "metadata": {},
   "source": [
    "The implementation is as the following:\n",
    "\n",
    "If there's no expression available, such as:"
   ]
  },
  {
   "cell_type": "code",
   "execution_count": null,
   "metadata": {},
   "outputs": [],
   "source": [
    "((> 2 3))"
   ]
  },
  {
   "cell_type": "markdown",
   "metadata": {},
   "source": [
    "Then just return the value of evaluating the truth checking. Otherwise, evaluate the expression. \n",
    "\n",
    "However, if there are multiple expressions, we evaluate them all and return the value of the last expression. This can be done using the `eval_all` function. \n",
    "\n",
    "Note that the `eval_all` function also works even though if we only have one expression, just like normal `cond` statement."
   ]
  },
  {
   "cell_type": "code",
   "execution_count": null,
   "metadata": {},
   "outputs": [],
   "source": [
    "# If there is no expression valuable, just return the result of evaluating\n",
    "# the test\n",
    "if clause.second is nil:\n",
    "    return test\n",
    "# Otherwise, return the result of 'eval_all' on the rest of the expressions.\n",
    "else:\n",
    "    return eval_all(clause.second, env)"
   ]
  },
  {
   "cell_type": "markdown",
   "metadata": {},
   "source": [
    "## Problem 15\n",
    "#### WWSD"
   ]
  },
  {
   "cell_type": "code",
   "execution_count": null,
   "metadata": {},
   "outputs": [],
   "source": [
    "scm> (define x 1)\n",
    "1\n",
    "scm> (let ((x 5))\n",
    "....    (+ x 3))\n",
    "8\n",
    "scm> x\n",
    "1"
   ]
  },
  {
   "cell_type": "code",
   "execution_count": null,
   "metadata": {},
   "outputs": [],
   "source": [
    "scm> (let ((a 1) (b a)) b)\n",
    "Choose the number of the correct choice:\n",
    "0) SchemeError\n",
    "1) 1\n",
    "2) x\n",
    "3) y\n",
    "\n",
    "Ans: 0\n",
    "\n",
    "# This returns an error because bindings in let statements is not done in a\n",
    "# series. Thus, Python doesn't know what a is."
   ]
  },
  {
   "cell_type": "code",
   "execution_count": null,
   "metadata": {},
   "outputs": [],
   "source": [
    "scm> (let ((x 5))\n",
    "....    (let ((x 2)\n",
    "....          (y x))\n",
    "....        (+ y (* x 2))))\n",
    "9\n",
    "\n",
    "# In this case, when we set y to be x, Python uses the value of x in\n",
    "# global frame, 5, rather than the value of x in the local frame, 2."
   ]
  },
  {
   "cell_type": "markdown",
   "metadata": {},
   "source": [
    "#### Strategy"
   ]
  },
  {
   "cell_type": "markdown",
   "metadata": {},
   "source": [
    "For starters, let's see what `bindings` look like, and how we access the elements in `bindings`."
   ]
  },
  {
   "cell_type": "code",
   "execution_count": null,
   "metadata": {},
   "outputs": [],
   "source": [
    "print(bindings)\n",
    "print(bindings.first)\n",
    "print(bindings.second)\n",
    "print(bindings.first.first)\n",
    "print(bindings.first.second.first)\n",
    "\n",
    "scm> (define x 1)\n",
    "x\n",
    "scm> (let ((x 5))\n",
    "....    (+ x 3))\n",
    "((x 5))\n",
    "(x 5)\n",
    "()\n",
    "x\n",
    "5"
   ]
  },
  {
   "cell_type": "markdown",
   "metadata": {},
   "source": [
    "From the first `ok` test, we know that, "
   ]
  },
  {
   "cell_type": "code",
   "execution_count": null,
   "metadata": {},
   "outputs": [],
   "source": [
    "bindings = ((x 5))\n",
    "bindings.first = (x 5)\n",
    "bindings.second = ()\n",
    "bindings.first.first = x\n",
    "bindings.first.second.first = 5"
   ]
  },
  {
   "cell_type": "markdown",
   "metadata": {},
   "source": [
    "The goal is to return a child frame of `env` that binds the symbols in each element in `bindings` to corresponding values (or results of evaluating expressions). This means we have to extract `bindings` to:\n",
    "\n",
    "**1**. Create a `Pair` containing all the symbols from the `bindings`. We'll call this `formals`\n",
    "\n",
    "**2**. Create a `Pair` containing all the values (or result of evaluating expressions) from the `bindings`. We'll call this `vals`. \n",
    "\n",
    "Now let's go through `bindings`! Using a `while` loop, we can go through the `bindings` as long as it's not `nil`."
   ]
  },
  {
   "cell_type": "code",
   "execution_count": null,
   "metadata": {},
   "outputs": [],
   "source": [
    "while bindings != nil:"
   ]
  },
  {
   "cell_type": "markdown",
   "metadata": {},
   "source": [
    "Each element in `bindings` (e.g. `(x 5)`)should contain a symbol and a value. Thus, we check the form that `bindings.first` to make sure that it is a proper list with a length of 2."
   ]
  },
  {
   "cell_type": "code",
   "execution_count": null,
   "metadata": {},
   "outputs": [],
   "source": [
    "    check_form(bindings.first, 2, 2)"
   ]
  },
  {
   "cell_type": "markdown",
   "metadata": {},
   "source": [
    "Now, the tricky part is binding `formals` and `vals` to `Pair`s that keeps updating for every cycle of `while` loop."
   ]
  },
  {
   "cell_type": "code",
   "execution_count": null,
   "metadata": {},
   "outputs": [],
   "source": [
    "    formals = Pair(bindings.first.first, nil)\n",
    "    vals = Pair(scheme_eval(bindings.first.second.first, env), nil)\n",
    "    bindings = bindings.second"
   ]
  },
  {
   "cell_type": "markdown",
   "metadata": {},
   "source": [
    "If we implemented the cell above, then for every `while` loop, `formals` and `vals` would change, discarding the previous bindings! \n",
    "\n",
    "Solution: analyze the following cell,"
   ]
  },
  {
   "cell_type": "code",
   "execution_count": 10,
   "metadata": {},
   "outputs": [
    {
     "data": {
      "text/html": [
       "\n",
       "        <iframe\n",
       "            width=\"100%\"\n",
       "            height=\"600\"\n",
       "            src=\"http://pythontutor.com/iframe-embed.html#code=%0Aclass%20Pair%28object%29%3A%0A%20%20%20%20def%20__init__%28self%2C%20first%2C%20second%29%3A%0A%20%20%20%20%20%20%20%20self.first%20%3D%20first%0A%20%20%20%20%20%20%20%20self.second%20%3D%20second%0A%20%20%20%20%20%20%20%20%0Aclass%20nil%28object%29%3A%0A%20%20%20%20def%20__repr__%28self%29%3A%0A%20%20%20%20%20%20%20%20return%20%27nil%27%0A%20%20%20%20%20%20%20%20%0Anil%20%3D%20nil%28%29%0A%0Aformals%20%3D%20nil%0Abindings%20%3D%20Pair%282%2C%20Pair%286%2C%20Pair%2810%2C%20nil%29%29%29%0A%0Awhile%20bindings%20%21%3D%20nil%3A%0A%20%20%20%20formals%20%3D%20Pair%28bindings.first%2C%20formals%29%0A%20%20%20%20bindings%20%3D%20bindings.second%0A%20%20%20%20%0Aformals%0A&origin=opt-frontend.js&cumulative=false&heapPrimitives=false&textReferences=false&curInstr=0&&verticalStack=false&py=3&rawInputLstJSON=%5B%5D&codeDivWidth=50%25&codeDivHeight=100%25\"\n",
       "            frameborder=\"0\"\n",
       "            allowfullscreen\n",
       "        ></iframe>\n",
       "        "
      ],
      "text/plain": [
       "<IPython.lib.display.IFrame at 0x7f48a02111d0>"
      ]
     },
     "metadata": {},
     "output_type": "display_data"
    }
   ],
   "source": [
    "%%tutor --lang python3 -h 600\n",
    "\n",
    "class Pair(object):\n",
    "    def __init__(self, first, second):\n",
    "        self.first = first\n",
    "        self.second = second\n",
    "        \n",
    "class nil(object):\n",
    "    def __repr__(self):\n",
    "        return 'nil'\n",
    "        \n",
    "nil = nil()\n",
    "\n",
    "formals = nil\n",
    "bindings = Pair(2, Pair(6, Pair(10, nil)))\n",
    "\n",
    "while bindings != nil:\n",
    "    formals = Pair(bindings.first, formals)\n",
    "    bindings = bindings.second\n",
    "    \n",
    "formals"
   ]
  },
  {
   "cell_type": "markdown",
   "metadata": {},
   "source": [
    "As we can see above, by declaring the following,"
   ]
  },
  {
   "cell_type": "code",
   "execution_count": null,
   "metadata": {},
   "outputs": [],
   "source": [
    "formals = Pair(bindings.first.first, formals)"
   ]
  },
  {
   "cell_type": "markdown",
   "metadata": {},
   "source": [
    "Then for every cycle of `while` loop, the previous element would be shifted, while the last element in `bindings` would be at the most front of the `Pair`. \n",
    "\n",
    "In order for this to work, we need to initiate `formals` as `nil`. This way, when we update `formals` for the first time in the `while` loop, the `Pair` class ends with `nil`. As we update `formals` throughout the `while` loop, the end of the `Pair` class is unchanged.\n",
    "\n",
    "With this, the order of the elements in `bindings` would be reversed in both `formals` and `vals`. This works since we don't care about the order of the elements (we only have to make sure that the elements in `formals` and `vals` match."
   ]
  },
  {
   "cell_type": "code",
   "execution_count": null,
   "metadata": {},
   "outputs": [],
   "source": [
    "formals, vals = nil, nil\n",
    "while bindings != nil:    \n",
    "    formals = Pair(bindings.first.first, formals)\n",
    "    vals = Pair(scheme_eval(bindings.first.second.first, env), vals)\n",
    "    bindings = bindings.second"
   ]
  },
  {
   "cell_type": "markdown",
   "metadata": {},
   "source": [
    "However, with the implementation above,"
   ]
  },
  {
   "cell_type": "code",
   "execution_count": null,
   "metadata": {},
   "outputs": [],
   "source": [
    "scm> (let ((a 1 1)) a)\n",
    "1\n",
    "\n",
    "# Error: expected\n",
    "#     SchemeError\n",
    "# but got\n",
    "#     1"
   ]
  },
  {
   "cell_type": "markdown",
   "metadata": {},
   "source": [
    "We haven't taken into account if any of the structures in `bindings` is improper! This can be done via `check_form` and `check_formals`."
   ]
  },
  {
   "cell_type": "code",
   "execution_count": null,
   "metadata": {},
   "outputs": [],
   "source": [
    "formals, vals = nil, nil\n",
    "while bindings != nil:\n",
    "    # Check if bindings.first have the proper form: a list with a length of 2\n",
    "    check_form(bindings.first, 2, 2)\n",
    "    formals = Pair(bindings.first.first, formals)\n",
    "    vals = Pair(scheme_eval(bindings.first.second.first, env), vals)\n",
    "    bindings = bindings.second\n",
    "# Check if the resulting formals has a proper form: a Scheme list of symbols\n",
    "# where each symbol is distinct\n",
    "check_formals(formals)\n"
   ]
  },
  {
   "cell_type": "markdown",
   "metadata": {},
   "source": [
    "And finally, we return a child frame using the generated `formals` and `vals`."
   ]
  },
  {
   "cell_type": "code",
   "execution_count": null,
   "metadata": {},
   "outputs": [],
   "source": [
    "return env.make_child_frame(formals, vals)"
   ]
  },
  {
   "cell_type": "markdown",
   "metadata": {},
   "source": [
    "## Problem 16\n",
    "#### WWSD"
   ]
  },
  {
   "cell_type": "code",
   "execution_count": null,
   "metadata": {},
   "outputs": [],
   "source": [
    "scm> (define y 1)\n",
    "y\n",
    "scm> (define f (mu (x) (+ x y)))\n",
    "f\n",
    "scm> (define g (lambda (x y) (f (+ x x))))\n",
    "g\n",
    "scm> (g 3 7)\n",
    "13"
   ]
  },
  {
   "cell_type": "markdown",
   "metadata": {},
   "source": [
    "#### Strategy - `do_mu_form`"
   ]
  },
  {
   "cell_type": "markdown",
   "metadata": {},
   "source": [
    "At the beginning, it might be helpful to print out what `expressions` and their `.first` and `.second` look like,"
   ]
  },
  {
   "cell_type": "code",
   "execution_count": null,
   "metadata": {},
   "outputs": [],
   "source": [
    "def do_mu_form(expressions, env):\n",
    "    \"\"\"Evaluate a mu form.\"\"\"\n",
    "    check_form(expressions, 2)\n",
    "    formals = expressions.first\n",
    "    check_formals(formals)\n",
    "    \n",
    "    print(expressions)\n",
    "    print(formals)\n",
    "    print(expressions.second)\n",
    "    \n",
    "scm> (define y 1)\n",
    "y\n",
    "scm> (define f (mu (x) (+ x y)))\n",
    "((x) (+ x y))\n",
    "(x)\n",
    "((+ x y))\n",
    "f\n",
    "\n",
    "# Error: expected\n",
    "#     f\n",
    "# but got\n",
    "#     ((x) (+ x y))\n",
    "#     (x)\n",
    "#     ((+ x y))"
   ]
  },
  {
   "cell_type": "markdown",
   "metadata": {},
   "source": [
    "Thus from the trial and error above, we know that,"
   ]
  },
  {
   "cell_type": "code",
   "execution_count": null,
   "metadata": {},
   "outputs": [],
   "source": [
    "expressions = ((x) (+ x y))\n",
    "expressions.first = (x)\n",
    "expressions.second = ((+ x y))"
   ]
  },
  {
   "cell_type": "markdown",
   "metadata": {},
   "source": []
  },
  {
   "cell_type": "code",
   "execution_count": null,
   "metadata": {},
   "outputs": [],
   "source": []
  },
  {
   "cell_type": "code",
   "execution_count": null,
   "metadata": {},
   "outputs": [],
   "source": []
  }
 ],
 "metadata": {
  "kernelspec": {
   "display_name": "Python 3",
   "language": "python",
   "name": "python3"
  },
  "language_info": {
   "codemirror_mode": {
    "name": "ipython",
    "version": 3
   },
   "file_extension": ".py",
   "mimetype": "text/x-python",
   "name": "python",
   "nbconvert_exporter": "python",
   "pygments_lexer": "ipython3",
   "version": "3.7.3"
  }
 },
 "nbformat": 4,
 "nbformat_minor": 2
}
