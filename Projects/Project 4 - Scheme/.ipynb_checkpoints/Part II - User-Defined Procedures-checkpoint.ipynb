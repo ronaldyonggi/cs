{
 "cells": [
  {
   "cell_type": "markdown",
   "metadata": {},
   "source": [
    "## Problem 8\n",
    "#### WWSD"
   ]
  },
  {
   "cell_type": "code",
   "execution_count": null,
   "metadata": {},
   "outputs": [],
   "source": [
    ">>> from scheme import *\n",
    ">>> env = create_global_frame()\n",
    ">>> eval_all(Pair(2, nil), env)\n",
    "Choose the number of the correct choice:\n",
    "0) SchemeError\n",
    "1) 2\n",
    "\n",
    "Ans: 1"
   ]
  },
  {
   "cell_type": "code",
   "execution_count": null,
   "metadata": {},
   "outputs": [],
   "source": [
    ">>> eval_all(Pair(4, Pair(5, nil)), env)\n",
    "Choose the number of the correct choice:\n",
    "0) (4 5)\n",
    "1) SchemeError\n",
    "2) 4\n",
    "3) 5\n",
    "\n",
    "Ans: 3"
   ]
  },
  {
   "cell_type": "code",
   "execution_count": null,
   "metadata": {},
   "outputs": [],
   "source": [
    ">>> from scheme import *\n",
    ">>> env = create_global_frame()\n",
    ">>> lst = Pair(1, Pair(2, Pair(3, nil)))\n",
    ">>> eval_all(lst, env)\n",
    "3\n",
    ">>> lst     # The list should not be mutated!\n",
    "Pair(1, Pair(2, Pair(3, nil)))"
   ]
  },
  {
   "cell_type": "code",
   "execution_count": null,
   "metadata": {},
   "outputs": [],
   "source": [
    "scm> (begin (+ 2 3) (+ 5 6))\n",
    "11\n",
    "scm> (begin (define x 3) x)\n",
    "3"
   ]
  },
  {
   "cell_type": "code",
   "execution_count": null,
   "metadata": {},
   "outputs": [],
   "source": [
    "scm> (begin 30 '(+ 2 2))\n",
    "Choose the number of the correct choice:\n",
    "0) '(+ 2 2)\n",
    "1) 30\n",
    "2) (+ 2 2)\n",
    "3) 4\n",
    "\n",
    "Ans: 2"
   ]
  },
  {
   "cell_type": "code",
   "execution_count": null,
   "metadata": {},
   "outputs": [],
   "source": [
    "scm> (define x 0)\n",
    "x\n",
    "scm> (begin (define x (+ x 1)) 42 (define y (+ x 1)))\n",
    "y\n",
    "scm> x\n",
    "1\n",
    "scm> y\n",
    "2"
   ]
  },
  {
   "cell_type": "markdown",
   "metadata": {},
   "source": [
    "#### Strategy"
   ]
  },
  {
   "cell_type": "markdown",
   "metadata": {},
   "source": [
    "Through trial and error of the ok test, we know the following information,\n",
    "\n",
    "If we leave the code as it was:"
   ]
  },
  {
   "cell_type": "code",
   "execution_count": null,
   "metadata": {},
   "outputs": [],
   "source": [
    "def eval_all(expressions, env):\n",
    "    return scheme_eval(expressions.first, env)\n",
    "\n",
    ">>> from scheme import *\n",
    ">>> env = create_global_frame()\n",
    ">>> eval_all(Pair(2, nil), env)\n",
    "2\n",
    ">>> eval_all(Pair(4, Pair(5, nil)), env)\n",
    "4\n",
    "\n",
    "# Error: expected\n",
    "#     5\n",
    "# but got\n",
    "#     4"
   ]
  },
  {
   "cell_type": "markdown",
   "metadata": {},
   "source": [
    "The code passes the first test, but not the second test. On the second test, we need to return the last expression, which is `5`.\n",
    "\n",
    "We can access the expression after `expressions.first` using `expressions.second`."
   ]
  },
  {
   "cell_type": "code",
   "execution_count": null,
   "metadata": {},
   "outputs": [],
   "source": [
    "def eval_all(expressions, env):\n",
    "    return expressions.second\n",
    "\n",
    ">>> from scheme import *\n",
    ">>> env = create_global_frame()\n",
    ">>> eval_all(Pair(2, nil), env)\n",
    "nil\n",
    "\n",
    "# Error: expected\n",
    "#     2\n",
    "# but got\n",
    "#     nil"
   ]
  },
  {
   "cell_type": "markdown",
   "metadata": {},
   "source": [
    "As can be seen above, with `expressions.second`, we can access the `nil`!\n",
    "\n",
    "The tests above tell us that we might need to use an `if` statement:\n",
    "\n",
    "1. If the `expressions.second` is a `nil` object, then we return the result of evaluating the `.first` of the expression we are currently selecting\n",
    "2. Otherwise, we evaluate the `.first` expression, then move on to recursive call `eval_all` on the `expression.second`."
   ]
  },
  {
   "cell_type": "code",
   "execution_count": null,
   "metadata": {},
   "outputs": [],
   "source": [
    "if expressions.second is nil:\n",
    "    return scheme_eval(expressions.first, env)\n",
    "else:\n",
    "    scheme_eval(expressions.first, env)\n",
    "    return eval_all(expressions.second, env)\n",
    "\n",
    "\n",
    ">>> from scheme import *\n",
    ">>> env = create_global_frame()\n",
    ">>> eval_all(Pair(2, nil), env)\n",
    "2\n",
    ">>> eval_all(Pair(4, Pair(5, nil)), env)\n",
    "5\n",
    ">>> eval_all(nil, env) # return None (meaning undefined)\n",
    "Traceback (most recent call last):\n",
    "  File \"/home/ronald/Documents/cs61a/Projects/Project 4 - Scheme/scheme.py\", line 62, in eval_all\n",
    "    if expressions.second is nil:\n",
    "AttributeError: 'nil' object has no attribute 'second'"
   ]
  },
  {
   "cell_type": "markdown",
   "metadata": {},
   "source": [
    "We are close! Turns out we need a base case in case the expression is initially a `nil` by itself! If the `expressions` is `nil`, then we just return `None`.\n",
    "\n",
    "The final implementation looks like the following,"
   ]
  },
  {
   "cell_type": "code",
   "execution_count": null,
   "metadata": {},
   "outputs": [],
   "source": [
    "def eval_all(expressions, env):\n",
    "    if expressions is nil:\n",
    "        return None\n",
    "    elif expressions.second is nil:\n",
    "        return scheme_eval(expressions.first, env)\n",
    "    else:\n",
    "        scheme_eval(expressions.first, env)\n",
    "        return eval_all(expressions.second, env)"
   ]
  },
  {
   "cell_type": "markdown",
   "metadata": {},
   "source": [
    "## Problem 9\n",
    "#### WWSD"
   ]
  },
  {
   "cell_type": "code",
   "execution_count": null,
   "metadata": {},
   "outputs": [],
   "source": [
    "scm> (lambda (x y) (+ x y))\n",
    "(lambda (x y) (+ x y))"
   ]
  },
  {
   "cell_type": "markdown",
   "metadata": {},
   "source": [
    "#### Strategy"
   ]
  },
  {
   "cell_type": "markdown",
   "metadata": {},
   "source": [
    "If we return `expressions.first`, or `formal`, we'll obtain the following,"
   ]
  },
  {
   "cell_type": "code",
   "execution_count": null,
   "metadata": {},
   "outputs": [],
   "source": [
    "(x y)"
   ]
  },
  {
   "cell_type": "markdown",
   "metadata": {},
   "source": [
    "And if we return `expressions.second`, we'll obtain,"
   ]
  },
  {
   "cell_type": "code",
   "execution_count": null,
   "metadata": {},
   "outputs": [],
   "source": [
    "(+ x y)"
   ]
  },
  {
   "cell_type": "markdown",
   "metadata": {},
   "source": [
    "The problem description describes that the `LambdaProcedure` takes:\n",
    "\n",
    "1. A list of `formals` (parameter names)\n",
    "2. a `body` of expressions to evaluate.\n",
    "\n",
    "Now if we look at the `LambdaProcedure` class:"
   ]
  },
  {
   "cell_type": "code",
   "execution_count": null,
   "metadata": {},
   "outputs": [],
   "source": [
    "class LambdaProcedure(Procedure):\n",
    "    \n",
    "    def__init__(self, formals, body, env):\n",
    "        self.formals = formals\n",
    "        self.body = body\n",
    "        self.env = env"
   ]
  },
  {
   "cell_type": "markdown",
   "metadata": {},
   "source": [
    "We can see that the code perfectly fits! `.formals` is the `expressions.first`, while `.body` is `expressions.second`."
   ]
  },
  {
   "cell_type": "code",
   "execution_count": null,
   "metadata": {},
   "outputs": [],
   "source": [
    "def do_lambda_form(expressions, env):\n",
    "    check_form(expressions, 2)\n",
    "    formals = expressions.first\n",
    "    check_formals(formals)\n",
    "    return LambdaProcedure(formals, expressions.second, env)"
   ]
  },
  {
   "cell_type": "markdown",
   "metadata": {},
   "source": [
    "## Problem 10\n",
    "#### WWSD"
   ]
  },
  {
   "cell_type": "code",
   "execution_count": null,
   "metadata": {},
   "outputs": [],
   "source": [
    "scm> (define (f x y) (+ x y))\n",
    "f\n",
    "scm> f\n",
    "Choose the number of the correct choice:\n",
    "0) (lambda (f x y) (+ x y))\n",
    "1) (define f (lambda (x y) (+ x y)))\n",
    "2) (f (x y) (+ x y))\n",
    "3) (lambda (x y) (+ x y))\n",
    "\n",
    "Ans: 3"
   ]
  },
  {
   "cell_type": "markdown",
   "metadata": {},
   "source": [
    "#### Strategy"
   ]
  },
  {
   "cell_type": "markdown",
   "metadata": {},
   "source": [
    "Based on the `ok` test and the `WWSD` above, we want to bind `f` to a `LambdaProcedure`,"
   ]
  },
  {
   "cell_type": "code",
   "execution_count": null,
   "metadata": {},
   "outputs": [],
   "source": [
    "(lambda (x y) (+ x y))"
   ]
  },
  {
   "cell_type": "markdown",
   "metadata": {},
   "source": [
    "We can obtain the symbol `f` by returning the `target.first`."
   ]
  },
  {
   "cell_type": "code",
   "execution_count": null,
   "metadata": {},
   "outputs": [],
   "source": [
    "def do_define_form(expressions, env):\n",
    "    ...\n",
    "    ...\n",
    "    elif isinstance(target, Pair) and scheme_symbolp(target.first):\n",
    "        return target.first\n",
    "    \n",
    "scm> (define (f x y) (+ x y))\n",
    "f\n",
    "scm> f\n",
    "# Error: unknown identifier: f"
   ]
  },
  {
   "cell_type": "markdown",
   "metadata": {},
   "source": [
    "As we can see above, we pass the first test that defining a user-defined procedure should return the name that is bound to the procedure.\n",
    "\n",
    "Recall that to bind a `name` to a value or expression, we can use the `define` method of a `Frame` class. "
   ]
  },
  {
   "cell_type": "code",
   "execution_count": null,
   "metadata": {},
   "outputs": [],
   "source": [
    "env.define(target.first, ..., env)"
   ]
  },
  {
   "cell_type": "markdown",
   "metadata": {},
   "source": [
    "Where the first argument is the name that we want to bind the expression to. However, if we look at the expression,"
   ]
  },
  {
   "cell_type": "code",
   "execution_count": null,
   "metadata": {},
   "outputs": [],
   "source": [
    "elif isinstance(target, Pair) and scheme_symbolp(target.first):\n",
    "    return expressions\n",
    "\n",
    "scm> (define (f x y) (+ x y))\n",
    "((f x y) (+ x y))"
   ]
  },
  {
   "cell_type": "markdown",
   "metadata": {},
   "source": [
    "The `expressions` consists of the following,"
   ]
  },
  {
   "cell_type": "code",
   "execution_count": null,
   "metadata": {},
   "outputs": [],
   "source": [
    "((f x y) (+ x y))"
   ]
  },
  {
   "cell_type": "markdown",
   "metadata": {},
   "source": [
    "Since `f` is within the `expressions`, we can't assign `f` to a `do_lambda_form`. `do_lambda_form` can be used if the `expressions` is,"
   ]
  },
  {
   "cell_type": "code",
   "execution_count": null,
   "metadata": {},
   "outputs": [],
   "source": [
    "((x y) (+ x y))"
   ]
  },
  {
   "cell_type": "markdown",
   "metadata": {},
   "source": [
    "Instead, we use a `LambdaProcedure`, where the first argument is the parameters `(x y)`, the second argument is the body of the expression to evaluate `(+ x y)`, and the last argument is the parent frame `env`. The parameters `(x y)` can be obtained by `target.second`, while the body `((+ x y))` can be obtained by `expressions.second`."
   ]
  },
  {
   "cell_type": "code",
   "execution_count": null,
   "metadata": {},
   "outputs": [],
   "source": [
    "elif isinstance(target, Pair) and scheme_symbolp(target.first):\n",
    "    print(target.second)\n",
    "    print(expressions.second)\n",
    "    \n",
    "scm> (define (f x y) (+ x y))\n",
    "(x y)\n",
    "((+ x y))\n",
    "\n",
    "# Error: expected\n",
    "#     f\n",
    "# but got\n",
    "#     (x y)\n",
    "#     ((+ x y))"
   ]
  },
  {
   "cell_type": "markdown",
   "metadata": {},
   "source": [
    "Thus, the implementation would be as the following,"
   ]
  },
  {
   "cell_type": "code",
   "execution_count": null,
   "metadata": {},
   "outputs": [],
   "source": [
    "elif isinstance(target, Pair) and scheme_symbolp(target.first):\n",
    "    env.define(target.first, LambdaProcedure(target.second, expressions.second, env))\n",
    "    return target.first"
   ]
  },
  {
   "cell_type": "markdown",
   "metadata": {},
   "source": [
    "## Problem 11"
   ]
  },
  {
   "cell_type": "markdown",
   "metadata": {},
   "source": [
    "#### WWSD"
   ]
  },
  {
   "cell_type": "code",
   "execution_count": null,
   "metadata": {},
   "outputs": [],
   "source": [
    ">>> from scheme import *\n",
    ">>> global_frame = create_global_frame()\n",
    ">>> formals = Pair('a', Pair('b', Pair('c', nil)))\n",
    ">>> vals = Pair(1, Pair(2, Pair(3, nil)))\n",
    ">>> frame = global_frame.make_child_frame(formals, vals)\n",
    ">>> global_frame.lookup('a') # Type SchemeError if you think this errors\n",
    "SchemeError\n",
    ">>> frame.lookup('a')        # Type SchemeError if you think this errors\n",
    "1\n",
    ">>> frame.lookup('b')        # Type SchemeError if you think this errors\n",
    "2\n",
    ">>> frame.lookup('c')        # Type SchemeError if you think this errors\n",
    "3"
   ]
  },
  {
   "cell_type": "code",
   "execution_count": null,
   "metadata": {},
   "outputs": [],
   "source": [
    ">>> from scheme import *\n",
    ">>> global_frame = create_global_frame()\n",
    ">>> frame = global_frame.make_child_frame(nil, nil)\n",
    ">>> frame.parent is global_frame\n",
    "True"
   ]
  },
  {
   "cell_type": "markdown",
   "metadata": {},
   "source": [
    "#### Strategy"
   ]
  },
  {
   "cell_type": "markdown",
   "metadata": {},
   "source": [
    "The first step is to create a new `Frame` object with `self` as the `parent`. This can be easily done by the following,"
   ]
  },
  {
   "cell_type": "code",
   "execution_count": null,
   "metadata": {},
   "outputs": [],
   "source": [
    "new = Frame(self)"
   ]
  },
  {
   "cell_type": "markdown",
   "metadata": {},
   "source": [
    "The next step is to bind each `formals` parameter to its corresponding argument `value` in the newly created frame. However, if the number of `formals` and `values` do not match, we raise a `SchemeError`.\n",
    "\n",
    "From the `ok` test, if we try to see what `formals` and `vals` look like, "
   ]
  },
  {
   "cell_type": "code",
   "execution_count": null,
   "metadata": {},
   "outputs": [],
   "source": [
    "def make_child_frame(self, formals, vals):\n",
    "    print(formals)\n",
    "    print(vals)\n",
    "    \n",
    ">>> from scheme import *\n",
    ">>> global_frame = create_global_frame()\n",
    ">>> formals = Pair('a', Pair('b', Pair('c', nil)))\n",
    ">>> vals = Pair(1, Pair(2, Pair(3, nil)))\n",
    ">>> frame = global_frame.make_child_frame(formals, vals)\n",
    "(a b c)\n",
    "(1 2 3)\n",
    "\n",
    "# Error: expected\n",
    "\n",
    "# but got\n",
    "#     (a b c)\n",
    "#     (1 2 3)"
   ]
  },
  {
   "cell_type": "markdown",
   "metadata": {},
   "source": [
    "As we can see, `formals` and `vals` are constructed through the `Pair` class, but represented as a Scheme list. If we look at the definition of `Pair` class in `scheme_reader.py` file, "
   ]
  },
  {
   "cell_type": "code",
   "execution_count": null,
   "metadata": {},
   "outputs": [],
   "source": [
    "class Pair(object):\n",
    "    ...\n",
    "    ...\n",
    "    def __len__(self):\n",
    "    n, second = 1, self.second\n",
    "    while isinstance(second, Pair):\n",
    "        n += 1\n",
    "        second = second.second\n",
    "    if second is not nil:\n",
    "        raise TypeError('length attempted on improper list')\n",
    "    return n"
   ]
  },
  {
   "cell_type": "markdown",
   "metadata": {},
   "source": [
    "The `Pair` class has a `__len__` method, which computes the length of a `Pair` class! We can use this method as the following,"
   ]
  },
  {
   "cell_type": "code",
   "execution_count": null,
   "metadata": {},
   "outputs": [],
   "source": [
    "def make_child_frame(self, formals, vals):\n",
    "        print(formals.__len__())\n",
    "        print(vals.__len__())\n",
    "\n",
    ">>> from scheme import *\n",
    ">>> global_frame = create_global_frame()\n",
    ">>> formals = Pair('a', Pair('b', Pair('c', nil)))\n",
    ">>> vals = Pair(1, Pair(2, Pair(3, nil)))\n",
    ">>> frame = global_frame.make_child_frame(formals, vals)\n",
    "3\n",
    "3\n",
    "\n",
    "# Error: expected\n",
    "\n",
    "# but got\n",
    "#     3\n",
    "#     3"
   ]
  },
  {
   "cell_type": "markdown",
   "metadata": {},
   "source": [
    "Now that we know how to obtain the length of `formals` and `vals`, we set a condition that if the length of `formals` and `vals` are not the same, we raise a `SchemeError`."
   ]
  },
  {
   "cell_type": "code",
   "execution_count": null,
   "metadata": {},
   "outputs": [],
   "source": [
    "if formals.__len__() != vals.__len__():\n",
    "    raise SchemeError"
   ]
  },
  {
   "cell_type": "markdown",
   "metadata": {},
   "source": [
    "Otherwise, we use the `define` method on the newly created `new` frame by assigning the parameter `formals.first` to the value `vals.first`, then we shift both `formals` and `vals` until we reach `nil`."
   ]
  },
  {
   "cell_type": "code",
   "execution_count": null,
   "metadata": {},
   "outputs": [],
   "source": [
    "while formals is not nil:\n",
    "    new.define(formals.first, vals.first)\n",
    "    formals, vals = formals.second, vals.second"
   ]
  },
  {
   "cell_type": "markdown",
   "metadata": {},
   "source": [
    "Then we return that new frame. The implementation looks like the following,"
   ]
  },
  {
   "cell_type": "code",
   "execution_count": null,
   "metadata": {},
   "outputs": [],
   "source": [
    "def make_child_frame(self, formals, vals):\n",
    "    new = Frame(self)\n",
    "    if formals.__len__() != vals.__len__():\n",
    "        raise SchemeError\n",
    "    while formals is not nil:\n",
    "        new.define(formals.first, vals.first)\n",
    "        formals, vals = formals.second, vals.second\n",
    "    return new"
   ]
  },
  {
   "cell_type": "markdown",
   "metadata": {},
   "source": [
    "## Problem 12\n",
    "#### WWSD"
   ]
  },
  {
   "cell_type": "code",
   "execution_count": null,
   "metadata": {},
   "outputs": [],
   "source": [
    "scm> (define (outer x y)\n",
    "....   (define (inner z x)\n",
    "....     (+ x (* y 2) (* z 3)))\n",
    "....   (inner x 10))\n",
    "outer\n",
    "scm> (outer 1 2)\n",
    "17"
   ]
  },
  {
   "cell_type": "markdown",
   "metadata": {},
   "source": [
    "Above is similar to the following,"
   ]
  },
  {
   "cell_type": "code",
   "execution_count": null,
   "metadata": {},
   "outputs": [],
   "source": [
    "(define (outer x y)\n",
    " (define (inner a b)\n",
    "  (+ b (* y 2) (* a 3))\n",
    " (inner x 10)"
   ]
  },
  {
   "cell_type": "markdown",
   "metadata": {},
   "source": [
    "As we can see, we set `10` to be the value for `b`, while we set `a` to be the argument `x`. This is how it works with the previous cell, where we have `x` in inner scope and `x` in outer scope. "
   ]
  },
  {
   "cell_type": "code",
   "execution_count": null,
   "metadata": {},
   "outputs": [],
   "source": [
    "scm> (define (outer-func x y)\n",
    "....   (define (inner z x)\n",
    "....     (+ x (* y 2) (* z 3)))\n",
    "....   inner)\n",
    "outer-func\n",
    "scm> ((outer-func 1 2) 1 10)\n",
    "17"
   ]
  },
  {
   "cell_type": "markdown",
   "metadata": {},
   "source": [
    "#### Strategy"
   ]
  },
  {
   "cell_type": "markdown",
   "metadata": {},
   "source": [
    "Following the description given by the problem statement, BEWARE that the given `env` is not the frame in which the procedure is **defined**, but instead the frame in which the procedure is **called**.\n",
    "\n",
    "A common mistake is that we implement the `make_call_frame` as the following,"
   ]
  },
  {
   "cell_type": "code",
   "execution_count": null,
   "metadata": {},
   "outputs": [],
   "source": [
    "def make_call_frame(self, args, env):\n",
    "    return env.make_child_frame(self.formals, args)"
   ]
  },
  {
   "cell_type": "markdown",
   "metadata": {},
   "source": [
    "In the implementation above, we are calling the `make_child_frame` method on the environment in which the procedure is called! Instead, we want to call the method on the environment in which the procedure is defined, which is `self.env`."
   ]
  },
  {
   "cell_type": "code",
   "execution_count": null,
   "metadata": {},
   "outputs": [],
   "source": [
    "def make_call_frame(self, args, env):\n",
    "    return self.env.make_child_frame(self.formals, args)"
   ]
  }
 ],
 "metadata": {
  "kernelspec": {
   "display_name": "Python 3",
   "language": "python",
   "name": "python3"
  },
  "language_info": {
   "codemirror_mode": {
    "name": "ipython",
    "version": 3
   },
   "file_extension": ".py",
   "mimetype": "text/x-python",
   "name": "python",
   "nbconvert_exporter": "python",
   "pygments_lexer": "ipython3",
   "version": "3.7.3"
  }
 },
 "nbformat": 4,
 "nbformat_minor": 2
}
