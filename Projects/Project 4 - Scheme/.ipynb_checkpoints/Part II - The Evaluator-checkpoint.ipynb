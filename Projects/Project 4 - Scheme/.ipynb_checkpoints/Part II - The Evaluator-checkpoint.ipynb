{
 "cells": [
  {
   "cell_type": "markdown",
   "metadata": {},
   "source": [
    "# Part 2 - The Evaluator"
   ]
  },
  {
   "cell_type": "code",
   "execution_count": null,
   "metadata": {},
   "outputs": [],
   "source": [
    "Q: A Scheme expression can be either...\n",
    "Choose the number of the correct choice:\n",
    "\n",
    "0. A primitive expression or a combination\n",
    "1. A primitive expression or a special form\n",
    "2. A special form or a call expression\n",
    "3. A pair or a list\n",
    "\n",
    "Ans: 0"
   ]
  },
  {
   "cell_type": "code",
   "execution_count": null,
   "metadata": {},
   "outputs": [],
   "source": [
    "Q: What expression in the body of scheme_eval finds the value of a name?\n",
    "Choose the number of the correct choice:\n",
    "\n",
    "0. env.lookup(expr)\n",
    "1. scheme_symbolp(expr)\n",
    "2. env.find(name)\n",
    "3. SPECIAL_FORMS[first](rest, env)\n",
    "\n",
    "# Ans: 0"
   ]
  },
  {
   "cell_type": "code",
   "execution_count": null,
   "metadata": {},
   "outputs": [],
   "source": [
    "Q: How do we know if a given combination is a special form?\n",
    "Choose the number of the correct choice:\n",
    "\n",
    "0. Check if the expression is in the dictionary SPECIAL_FORMS\n",
    "1. Check if the first element in the list is a symbol and that the\n",
    "   symbol is in the dictionary SPECIAL_FORMS\n",
    "2. Check if the first element in the list is a symbol\n",
    "\n",
    "Ans: 1"
   ]
  },
  {
   "cell_type": "code",
   "execution_count": null,
   "metadata": {},
   "outputs": [],
   "source": [
    "Q: When and how do we create new Frames?\n",
    "Choose the number of the correct choice:\n",
    "\n",
    "0. Whenever a user-defined procedure is called; we use the `make_call_frame` method of `LambdaProcedure`\n",
    "\n",
    "1. Whenever a primitive or user-defined procedure is called; we use the `make_call_frame` method of `LambdaProcedure`\n",
    "\n",
    "2. Whenever a new procedure is defined; we use the `make_child_frame` method in `Frame`\n",
    "\n",
    "3. Whenever a primitive or user-defined procedure is called; we use the `apply` method in subclasses of `Procedure`\n",
    "\n",
    "Ans: 0"
   ]
  },
  {
   "cell_type": "code",
   "execution_count": null,
   "metadata": {},
   "outputs": [],
   "source": [
    "Q: What is the difference between applying builtins and applying user-defined procedures? (Choose all that apply)\n",
    "\n",
    "I.   User-defined procedures open a new frame; builtins do not\n",
    "\n",
    "II.  Builtins simply execute a predefined function; user-defined procedures must evaluate additional expressions in the body\n",
    "\n",
    "III. Builtins have a fixed number of arguments; user-defined procedures do not\n",
    "\n",
    "---\n",
    "Choose the number of the correct choice:\n",
    "0. I and II\n",
    "1. I only\n",
    "2. II only\n",
    "3. I, II and III\n",
    "4. III only\n",
    "5. I and III\n",
    "6. II and III"
   ]
  },
  {
   "cell_type": "markdown",
   "metadata": {},
   "source": [
    "# Some Core Functionality\n",
    "\n",
    "## Problem 3"
   ]
  },
  {
   "cell_type": "markdown",
   "metadata": {},
   "source": [
    "#### WWSD"
   ]
  },
  {
   "cell_type": "code",
   "execution_count": null,
   "metadata": {},
   "outputs": [],
   "source": [
    ">>> from scheme import *\n",
    ">>> global_frame = create_global_frame()\n",
    ">>> global_frame.define(\"x\", 3)\n",
    ">>> global_frame.parent is None\n",
    "True\n",
    ">>> global_frame.lookup(\"x\")\n",
    "3\n",
    ">>> global_frame.define(\"x\", 2)\n",
    ">>> global_frame.lookup(\"x\")\n",
    "2\n",
    ">>> global_frame.lookup(\"foo\")\n",
    "Choose the number of the correct choice:\n",
    "0) None\n",
    "1) 3\n",
    "2) SchemeError\n",
    "# Ans: 2\n",
    "\n"
   ]
  },
  {
   "cell_type": "code",
   "execution_count": null,
   "metadata": {},
   "outputs": [],
   "source": [
    ">>> from scheme import *\n",
    ">>> first_frame = create_global_frame()\n",
    ">>> first_frame.define(\"x\", 3)\n",
    ">>> second_frame = Frame(first_frame)\n",
    ">>> second_frame.parent == first_frame\n",
    "True\n",
    ">>> second_frame.lookup(\"x\")\n",
    "3"
   ]
  },
  {
   "cell_type": "markdown",
   "metadata": {},
   "source": [
    "#### Strategy"
   ]
  },
  {
   "cell_type": "markdown",
   "metadata": {},
   "source": [
    "The `Frame` class has 2 attributes: `bindings` and `parent`."
   ]
  },
  {
   "cell_type": "code",
   "execution_count": null,
   "metadata": {},
   "outputs": [],
   "source": [
    "class Frame(object):\n",
    "    def __init__(self, parent):\n",
    "        self.bindings = {}\n",
    "        self.parent = parent"
   ]
  },
  {
   "cell_type": "markdown",
   "metadata": {},
   "source": [
    "Where `bindings` is a dictionary that maps Scheme symbols to scheme values, and `parent ` is the parent frame of the current frame. The parent of the `Global` frame is `None`.\n",
    "\n",
    "Implementing `define` function is straightforward: just make a new entry (a key-value pair) in the `self.bindings` dictionary."
   ]
  },
  {
   "cell_type": "code",
   "execution_count": null,
   "metadata": {},
   "outputs": [],
   "source": [
    "def define(self, symbol, value):\n",
    "    self.bindings[symbol] = value"
   ]
  },
  {
   "cell_type": "markdown",
   "metadata": {},
   "source": [
    "For implementing the `lookup` function,\n",
    "\n",
    "The base case is that if we have reached the Global frame (indicated as `None` for the `parent`) and the symbol is still not found in that frame's bindings, then we raise the `SchemeError`."
   ]
  },
  {
   "cell_type": "code",
   "execution_count": null,
   "metadata": {},
   "outputs": [],
   "source": [
    "if not self.parent and symbol not in self.bindings:\n",
    "    raise SchemeError('unknown identifier: {0}'.format(symbol))"
   ]
  },
  {
   "cell_type": "markdown",
   "metadata": {},
   "source": [
    "Then if the `symbol` is found in the currnet frame's bindings, then return the value."
   ]
  },
  {
   "cell_type": "code",
   "execution_count": null,
   "metadata": {},
   "outputs": [],
   "source": [
    "elif symbol in self.bindings:\n",
    "    return self.bindings[symbol]"
   ]
  },
  {
   "cell_type": "markdown",
   "metadata": {},
   "source": [
    "Otherwise, we recursively call the `self.parent`'s `lookup` method,"
   ]
  },
  {
   "cell_type": "code",
   "execution_count": null,
   "metadata": {},
   "outputs": [],
   "source": [
    "else:\n",
    "    return self.parent.lookup(symbol)"
   ]
  },
  {
   "cell_type": "markdown",
   "metadata": {},
   "source": [
    "## Problem 4\n",
    "#### WWSD"
   ]
  },
  {
   "cell_type": "code",
   "execution_count": null,
   "metadata": {},
   "outputs": [],
   "source": [
    ">>> from scheme import *\n",
    ">>> env = create_global_frame()\n",
    ">>> twos = Pair(2, Pair(2, nil))\n",
    ">>> plus = BuiltinProcedure(scheme_add) # + procedure\n",
    ">>> scheme_apply(plus, twos, env) # Type SchemeError if you think this errors\n",
    "4"
   ]
  },
  {
   "cell_type": "code",
   "execution_count": null,
   "metadata": {},
   "outputs": [],
   "source": [
    ">>> from scheme import *\n",
    ">>> env = create_global_frame()\n",
    ">>> twos = Pair(2, Pair(2, nil))\n",
    ">>> oddp = BuiltinProcedure(scheme_oddp) # odd? procedure\n",
    ">>> scheme_apply(oddp, twos, env) # Type SchemeError if you think this errors\n",
    "SchemeError"
   ]
  },
  {
   "cell_type": "markdown",
   "metadata": {},
   "source": [
    "#### Strategy"
   ]
  },
  {
   "cell_type": "markdown",
   "metadata": {},
   "source": [
    "The instruction is quite straightforward with a slightly tricky part.\n",
    "\n",
    "\"If `self.use_env` is `True`, add the current environment `env` as the last argument to this Python list.\"\n",
    "\n",
    "If `self.use_env` is `True`, then we append `env` to the list `python_args`."
   ]
  },
  {
   "cell_type": "code",
   "execution_count": null,
   "metadata": {},
   "outputs": [],
   "source": [
    "if self.use_env:\n",
    "    python_args.append(env)"
   ]
  },
  {
   "cell_type": "markdown",
   "metadata": {},
   "source": [
    "Then we `try` to call `self.fn` on all `python_args` (can be done using the `*` notation)."
   ]
  },
  {
   "cell_type": "code",
   "execution_count": null,
   "metadata": {},
   "outputs": [],
   "source": [
    "try:\n",
    "    return self.fn(*python_args)"
   ]
  },
  {
   "cell_type": "markdown",
   "metadata": {},
   "source": [
    "if `TypeError` is obtained, handle it with exception and rasie `SchemeError`."
   ]
  },
  {
   "cell_type": "code",
   "execution_count": null,
   "metadata": {},
   "outputs": [],
   "source": [
    "except TypeError:\n",
    "    raise SchemeError"
   ]
  },
  {
   "cell_type": "markdown",
   "metadata": {},
   "source": [
    "The implementation is as the following,"
   ]
  },
  {
   "cell_type": "code",
   "execution_count": null,
   "metadata": {},
   "outputs": [],
   "source": [
    "if self.use_env:\n",
    "    python_args.append(env)\n",
    "try:\n",
    "    return self.fn(*python_args)\n",
    "except TypeError:\n",
    "    raise SchemeError"
   ]
  },
  {
   "cell_type": "markdown",
   "metadata": {},
   "source": [
    "## Problem 5\n",
    "#### WWSD"
   ]
  },
  {
   "cell_type": "code",
   "execution_count": null,
   "metadata": {},
   "outputs": [],
   "source": [
    ">>> from scheme_reader import *\n",
    ">>> from scheme import *\n",
    ">>> expr = read_line('(+ 2 2)')\n",
    ">>> scheme_eval(expr, create_global_frame()) # Type SchemeError if you think this errors\n",
    "4"
   ]
  },
  {
   "cell_type": "code",
   "execution_count": null,
   "metadata": {},
   "outputs": [],
   "source": [
    ">>> expr = read_line('(+ (+ 2 2) (+ 1 3) (* 1 4))')\n",
    ">>> scheme_eval(expr, create_global_frame()) # Type SchemeError if you think this errors\n",
    "12"
   ]
  },
  {
   "cell_type": "code",
   "execution_count": null,
   "metadata": {},
   "outputs": [],
   "source": [
    ">>> expr = read_line('(yolo)')\n",
    ">>> scheme_eval(expr, create_global_frame()) # Type SchemeError if you think this errors\n",
    "SchemeError"
   ]
  },
  {
   "cell_type": "code",
   "execution_count": null,
   "metadata": {},
   "outputs": [],
   "source": [
    "scm> (+ 2 3) ; Type SchemeError if you think this errors\n",
    "5\n",
    "scm> (* (+ 3 2) (+ 1 7)) ; Type SchemeError if you think this errors\n",
    "40\n",
    "scm> (1 2) ; Type SchemeError if you think this errors\n",
    "SchemeError\n",
    "scm> (1 (print 0)) ; check_procedure should be called before operands are evaluated\n",
    "SchemeError"
   ]
  },
  {
   "cell_type": "markdown",
   "metadata": {},
   "source": [
    "#### Strategy -- Check Operator using `scheme_eval`"
   ]
  },
  {
   "cell_type": "markdown",
   "metadata": {},
   "source": [
    "Looking at the code, notice that the `scheme_eval` involves `first` and `rest`. If we test the code just by returning `first`,"
   ]
  },
  {
   "cell_type": "code",
   "execution_count": null,
   "metadata": {},
   "outputs": [],
   "source": [
    "else:\n",
    "    return first"
   ]
  },
  {
   "cell_type": "markdown",
   "metadata": {},
   "source": [
    "We would obtain the following operator,"
   ]
  },
  {
   "cell_type": "code",
   "execution_count": null,
   "metadata": {},
   "outputs": [],
   "source": [
    ">>> '+'"
   ]
  },
  {
   "cell_type": "markdown",
   "metadata": {},
   "source": [
    "Looking at above, we might think that we don't need to do anything else since `first` is an operator. This is wrong! We need to evaluate that operator using `scheme_eval`! If we try to `return` the result of calling `scheme_eval` on `first`,"
   ]
  },
  {
   "cell_type": "code",
   "execution_count": null,
   "metadata": {},
   "outputs": [],
   "source": [
    "else:\n",
    "    return scheme_eval(first, env)"
   ]
  },
  {
   "cell_type": "markdown",
   "metadata": {},
   "source": [
    "The output would be the following,"
   ]
  },
  {
   "cell_type": "code",
   "execution_count": null,
   "metadata": {},
   "outputs": [],
   "source": [
    "<scheme.BuiltinProcedure object at 0x7fd60e3202e8>"
   ]
  },
  {
   "cell_type": "markdown",
   "metadata": {},
   "source": [
    "Above is what we're looking for, that the operator has to evaluate to an instance of `Procedure`. \n",
    "\n",
    "Thus, below is how we check if the operator is an instance of `Procedure` class:"
   ]
  },
  {
   "cell_type": "code",
   "execution_count": null,
   "metadata": {},
   "outputs": [],
   "source": [
    "check_procedure(scheme_eval(first, env))"
   ]
  },
  {
   "cell_type": "markdown",
   "metadata": {},
   "source": [
    "#### Strategy -- `Map` for evaluating operands"
   ]
  },
  {
   "cell_type": "markdown",
   "metadata": {},
   "source": [
    "Now if we try to output what the `rest` looks like,"
   ]
  },
  {
   "cell_type": "code",
   "execution_count": null,
   "metadata": {},
   "outputs": [],
   "source": [
    "else:\n",
    "    return rest"
   ]
  },
  {
   "cell_type": "markdown",
   "metadata": {},
   "source": [
    "The output is as the following,"
   ]
  },
  {
   "cell_type": "code",
   "execution_count": null,
   "metadata": {},
   "outputs": [],
   "source": [
    "Pair(2, Pair(2, nil))"
   ]
  },
  {
   "cell_type": "markdown",
   "metadata": {},
   "source": [
    "`rest` is a Scheme list! This is perfect, since the next step is to evaluate all the operands. To evaluate the operands, we need to use the `map` procedure, which applies a one-argument function to every item in Scheme list. Since we want to **evaluate operands**, we want to use the `scheme_eval` function. However,"
   ]
  },
  {
   "cell_type": "code",
   "execution_count": null,
   "metadata": {},
   "outputs": [],
   "source": [
    "def scheme_eval(expr, env, _ = None)"
   ]
  },
  {
   "cell_type": "markdown",
   "metadata": {},
   "source": [
    "The `scheme_eval` function can take up to 3 arguments! How do we integrate this with `map`?\n",
    "\n",
    "Lambda function!"
   ]
  },
  {
   "cell_type": "code",
   "execution_count": null,
   "metadata": {},
   "outputs": [],
   "source": [
    "lambda x: scheme_eval(x, env)"
   ]
  },
  {
   "cell_type": "markdown",
   "metadata": {},
   "source": [
    "Now `rest` is a `Pair` object. Thus we call `rest`'s `map` method. The result would be used as the `args` argument for `scheme_apply`"
   ]
  },
  {
   "cell_type": "code",
   "execution_count": null,
   "metadata": {},
   "outputs": [],
   "source": [
    "rest.map(lambda x: scheme_eval(x, env))"
   ]
  },
  {
   "cell_type": "markdown",
   "metadata": {},
   "source": [
    "#### Strategy - Apply procedure to the evaluated operands"
   ]
  },
  {
   "cell_type": "markdown",
   "metadata": {},
   "source": [
    "Now that we have the evaluated operator and the evaluated operands, all that's left is to `apply` the evaluated operator to the evaluated operands using `scheme_apply` function."
   ]
  },
  {
   "cell_type": "code",
   "execution_count": null,
   "metadata": {},
   "outputs": [],
   "source": [
    "return scheme_apply(scheme_eval(first, env), rest.map(lambda x: scheme_eval(x, env)), env)"
   ]
  },
  {
   "cell_type": "markdown",
   "metadata": {},
   "source": [
    "We can refactor the code so that it looks neat by assigning variables:"
   ]
  },
  {
   "cell_type": "code",
   "execution_count": null,
   "metadata": {},
   "outputs": [],
   "source": [
    "evaluated_operator = scheme_eval(first, env)\n",
    "check_procedure(scheme_eval(first, env))\n",
    "evaluated_operands = rest.map(lambda x: scheme_eval(x, env))\n",
    "return scheme_apply(evaluated_operator, evaluated_operands, env)"
   ]
  },
  {
   "cell_type": "markdown",
   "metadata": {},
   "source": [
    "## Problem 6\n",
    "#### WWSD"
   ]
  },
  {
   "cell_type": "code",
   "execution_count": 1,
   "metadata": {},
   "outputs": [
    {
     "ename": "SyntaxError",
     "evalue": "invalid syntax (<ipython-input-1-eceab384d1ee>, line 2)",
     "output_type": "error",
     "traceback": [
      "\u001b[0;36m  File \u001b[0;32m\"<ipython-input-1-eceab384d1ee>\"\u001b[0;36m, line \u001b[0;32m2\u001b[0m\n\u001b[0;31m    Choose the number of the correct choice:\u001b[0m\n\u001b[0m             ^\u001b[0m\n\u001b[0;31mSyntaxError\u001b[0m\u001b[0;31m:\u001b[0m invalid syntax\n"
     ]
    }
   ],
   "source": [
    "Q: What is the structure of the expressions argument to do_define_form?\n",
    "Choose the number of the correct choice:\n",
    "0) Pair(A, B), where:\n",
    "       A is the symbol being bound,\n",
    "       B is the value that should be bound to A\n",
    "1) Pair(A, Pair(B, nil)), where:\n",
    "       A is the symbol being bound,\n",
    "       B is an expression whose value should be bound to A\n",
    "2) Pair(A, Pair(B, nil)), where:\n",
    "       A is the symbol being bound,\n",
    "       B is the value that should be bound to A\n",
    "3) Pair(A, B), where:\n",
    "       A is the symbol being bound,\n",
    "       B is an expression whose value should be bound to A\n",
    "4) Pair('define', Pair(A, Pair(B, nil))), where:\n",
    "       A is the symbol being bound,\n",
    "       B is an expression whose value should be bound to A\n",
    "    \n",
    "Ans: 1"
   ]
  },
  {
   "cell_type": "code",
   "execution_count": null,
   "metadata": {},
   "outputs": [],
   "source": [
    "Q: What method of a Frame instance will bind\n",
    "a value to a symbol in that frame?\n",
    "Choose the number of the correct choice:\n",
    "0) bindings\n",
    "1) define\n",
    "2) make_child_frame\n",
    "3) lookup\n",
    "\n",
    "Ans: 1"
   ]
  },
  {
   "cell_type": "code",
   "execution_count": null,
   "metadata": {},
   "outputs": [],
   "source": [
    "scm> (define size 2)\n",
    "size\n",
    "scm> size\n",
    "2"
   ]
  },
  {
   "cell_type": "code",
   "execution_count": null,
   "metadata": {},
   "outputs": [],
   "source": [
    "scm> (define x (+ 2 3))\n",
    "x\n",
    "scm> x\n",
    "5"
   ]
  },
  {
   "cell_type": "code",
   "execution_count": null,
   "metadata": {},
   "outputs": [],
   "source": [
    "scm> (define x (+ 2 7))\n",
    "x\n",
    "scm> x\n",
    "9"
   ]
  },
  {
   "cell_type": "code",
   "execution_count": null,
   "metadata": {},
   "outputs": [],
   "source": [
    "scm> (eval (define tau 6.28))\n",
    "6.28"
   ]
  },
  {
   "cell_type": "markdown",
   "metadata": {},
   "source": [
    "#### Strategy"
   ]
  },
  {
   "cell_type": "markdown",
   "metadata": {},
   "source": [
    "Recall in Problem 3, we defined the `define` method of the `Frame` class."
   ]
  },
  {
   "cell_type": "code",
   "execution_count": null,
   "metadata": {},
   "outputs": [],
   "source": [
    "class Frame(object):\n",
    "    def __init__(self, parent):\n",
    "        self.bindings = {}\n",
    "        self.parent = parent\n",
    "        \n",
    "    def define(self, symbol, value):\n",
    "        self.bindings[symbol] = value"
   ]
  },
  {
   "cell_type": "markdown",
   "metadata": {},
   "source": [
    "Thus, all we need is to define the `symbol` to the `value` in that particular `env`.\n",
    "\n",
    "How do we obtain the `symbol` and the `value`? If we do trial and error and return the `target`,"
   ]
  },
  {
   "cell_type": "code",
   "execution_count": null,
   "metadata": {},
   "outputs": [],
   "source": [
    "def do_define_form(expressions, env):\n",
    "    return target"
   ]
  },
  {
   "cell_type": "markdown",
   "metadata": {},
   "source": [
    "The output would be as the following,"
   ]
  },
  {
   "cell_type": "code",
   "execution_count": null,
   "metadata": {},
   "outputs": [],
   "source": [
    "scm> (define size 2)\n",
    "size\n",
    "scm> size\n",
    "# Error: unknown identifier: size"
   ]
  },
  {
   "cell_type": "markdown",
   "metadata": {},
   "source": [
    "As we can see above, it passes the first test, where defining a symbol should return that symbol. \n",
    "\n",
    "Now how do we obtain the value? If we look at the code, the `target` is `expressions.first`. What is `expressions`?"
   ]
  },
  {
   "cell_type": "code",
   "execution_count": null,
   "metadata": {},
   "outputs": [],
   "source": [
    "def do_define_form(expressions, env):\n",
    "    return target\n",
    "\n",
    "scm> (define size 2)\n",
    "(size 2)"
   ]
  },
  {
   "cell_type": "markdown",
   "metadata": {},
   "source": [
    "From above, `expressions` is `(size 2)`. `expressions.first` is `size`. This means we can obtain the value `2` with `expressions.second.first`. Recall that we don't use `.rest`, but rather `.second` (see `Pair` classin `scheme_reader.py`)."
   ]
  },
  {
   "cell_type": "code",
   "execution_count": null,
   "metadata": {},
   "outputs": [],
   "source": [
    "def do_define_form(expressions, env):\n",
    "    return expressions.second.first\n",
    "\n",
    "scm> (define size 2)\n",
    "2"
   ]
  },
  {
   "cell_type": "markdown",
   "metadata": {},
   "source": [
    "It didn't pass the test but we acquired the value!\n",
    "\n",
    "Now that we know how to obtain the `symbol` and the `value`, the implementation is to bind the `symbol` to the `value` in the current `env` (using the `define` method), then to return the `symbol`,"
   ]
  },
  {
   "cell_type": "code",
   "execution_count": null,
   "metadata": {},
   "outputs": [],
   "source": [
    "def do_define_form(expressions, env):\n",
    "    env.define(target, expressions.second.first)\n",
    "    return target\n",
    "\n",
    "scm> (define x (+ 2 3))\n",
    "x\n",
    "scm> x\n",
    "(+ 2 3)"
   ]
  },
  {
   "cell_type": "markdown",
   "metadata": {},
   "source": [
    "It still fails the test! It turns out the implementation above didn't take into account if the `symbol` is bound to an expression. In this case, we would need to evaluate the the expression using `scheme_eval`."
   ]
  },
  {
   "cell_type": "code",
   "execution_count": null,
   "metadata": {},
   "outputs": [],
   "source": [
    "def do_define_form(expressions, env):\n",
    "    env.define(target, scheme_eval(expressions.second.first, env))\n",
    "    return target"
   ]
  },
  {
   "cell_type": "markdown",
   "metadata": {},
   "source": [
    "## Problem 7\n",
    "#### WWSD"
   ]
  },
  {
   "cell_type": "code",
   "execution_count": null,
   "metadata": {},
   "outputs": [],
   "source": [
    "Q: What is the structure of the expressions argument to do_quote_form?\n",
    "Choose the number of the correct choice:\n",
    "0) [A], where:\n",
    "       A is the quoted expression\n",
    "1) Pair('quote', Pair(A, nil)), where:\n",
    "       A is the quoted expression\n",
    "2) Pair(A, nil), where:\n",
    "       A is the quoted expression\n",
    "3) A, where:\n",
    "       A is the quoted expression\n",
    "        \n",
    "Ans: 2"
   ]
  },
  {
   "cell_type": "code",
   "execution_count": null,
   "metadata": {},
   "outputs": [],
   "source": [
    "scm> ''hello\n",
    "Choose the number of the correct choice:\n",
    "0) (quote (quote (hello)))\n",
    "1) (quote hello)\n",
    "2) (hello)\n",
    "3) hello\n",
    "\n",
    "Ans: 1"
   ]
  },
  {
   "cell_type": "code",
   "execution_count": null,
   "metadata": {},
   "outputs": [],
   "source": [
    "scm> (quote (1 . 2))\n",
    "(1 . 2)\n",
    "scm> '(1 . (2))\n",
    "(1 2)\n",
    "scm> (car '(1 2 3))\n",
    "1\n",
    "scm> (cdr '(1 2))\n",
    "(2)\n",
    "scm> (eval (cons 'car '('(4 2))))\n",
    "4                    "
   ]
  },
  {
   "cell_type": "code",
   "execution_count": null,
   "metadata": {},
   "outputs": [],
   "source": [
    ">>> from scheme_reader import *\n",
    ">>> read_line(\" 'x \")\n",
    "Choose the number of the correct choice:\n",
    "0) Pair('quote', 'x')\n",
    "1) Pair('quote', Pair('x', nil))\n",
    "2) Pair('x', nil)\n",
    "3) 'x'\n",
    "\n",
    "Ans: 1"
   ]
  },
  {
   "cell_type": "code",
   "execution_count": null,
   "metadata": {},
   "outputs": [],
   "source": [
    ">>> read_line(\" '(a b) \")\n",
    "Choose the number of the correct choice:\n",
    "0) Pair('quote', Pair('a', Pair('b', nil)))\n",
    "1) Pair('a', Pair('b', nil))\n",
    "2) Pair('quote', Pair('a', 'b'))\n",
    "3) Pair('quote', Pair(Pair('a', Pair('b', nil)), nil))\n",
    "\n",
    "Ans: 3\n"
   ]
  },
  {
   "cell_type": "code",
   "execution_count": null,
   "metadata": {},
   "outputs": [],
   "source": [
    ">>> read_line(\" `(,b) \")\n",
    "Choose the number of the correct choice:\n",
    "0) Pair('quasiquote', Pair(Pair(Pair('unquote', Pair('b', nil)), nil), nil))\n",
    "1) Pair('quasiquote', Pair('unquote', Pair('b', nil)))\n",
    "2) Pair('quasiquote', Pair(Pair('unquote', Pair('b', nil)), nil))\n",
    "3) Pair('unquote', Pair('b', nil))\n",
    "\n",
    "0"
   ]
  },
  {
   "cell_type": "markdown",
   "metadata": {},
   "source": [
    "#### Strategy - Update `scheme_read`"
   ]
  },
  {
   "cell_type": "markdown",
   "metadata": {},
   "source": [
    "Based on the problem statement,\n",
    "\n",
    "`'<expr>` translates to `(quote <expr>)`\n",
    "\n",
    "`,<expr>` translates to `(unquote <expr>)` \n",
    "\n",
    "and `'bagel` is represented as,"
   ]
  },
  {
   "cell_type": "code",
   "execution_count": null,
   "metadata": {},
   "outputs": [],
   "source": [
    "Pair('quote', Pair('bagel', nil))"
   ]
  },
  {
   "cell_type": "markdown",
   "metadata": {},
   "source": [
    "From the hint above, we know that regardless of the input, our program should return,"
   ]
  },
  {
   "cell_type": "code",
   "execution_count": null,
   "metadata": {},
   "outputs": [],
   "source": [
    "Pair([some kind of quotation string], ...)"
   ]
  },
  {
   "cell_type": "markdown",
   "metadata": {},
   "source": [
    "The `[some kind of quotation string]` depends on the quotation used. If we look at the lines above the `scheme_read` definition in `scheme_reader.py`, there is dictionary `quotes` that contain different kind of quotes as the key and the strings as the values. In our implementation, we access this dictionary to obtain the correct string representation of the quotation symbol."
   ]
  },
  {
   "cell_type": "code",
   "execution_count": null,
   "metadata": {},
   "outputs": [],
   "source": [
    "Pair(quotes[val], ...)"
   ]
  },
  {
   "cell_type": "markdown",
   "metadata": {},
   "source": [
    "Now the `...`is the rest of the expression after the quotation token, which we can simply continue to process via `scheme_read`. However, from the `bagel` example, keep in mind that we need to maintain the `Pair` form."
   ]
  },
  {
   "cell_type": "code",
   "execution_count": null,
   "metadata": {},
   "outputs": [],
   "source": [
    "Pair(quotes[val], Pair(scheme-read(src), nil))"
   ]
  },
  {
   "cell_type": "markdown",
   "metadata": {},
   "source": [
    "Thus, the implementation looks like the following,"
   ]
  },
  {
   "cell_type": "code",
   "execution_count": null,
   "metadata": {},
   "outputs": [],
   "source": [
    "elif val in quotes:\n",
    "    return Pair(quotes[val], Pair(scheme_read(src), nil)"
   ]
  },
  {
   "cell_type": "markdown",
   "metadata": {},
   "source": [
    "#### Strategy - `do_quote_form`"
   ]
  },
  {
   "cell_type": "markdown",
   "metadata": {},
   "source": [
    "If we do trial and error and try to just return the `expressions`,"
   ]
  },
  {
   "cell_type": "code",
   "execution_count": null,
   "metadata": {},
   "outputs": [],
   "source": [
    "def do_quote_form(expressions, env):\n",
    "    return expressions"
   ]
  },
  {
   "cell_type": "code",
   "execution_count": null,
   "metadata": {},
   "outputs": [],
   "source": [
    "scm> ''hello\n",
    "((quote hello))\n",
    "\n",
    "# Error: expected\n",
    "#     (quote hello)\n",
    "# but got\n",
    "#     ((quote hello))"
   ]
  },
  {
   "cell_type": "markdown",
   "metadata": {},
   "source": [
    "From the ok test, we see that the desired output is `(quote hello)` but instead what we obtain is `((quote hello))`. We need to somehow access the expression inside one parenthesis. This can be done by accessing the `.first` attribute of the `expressions`."
   ]
  },
  {
   "cell_type": "code",
   "execution_count": null,
   "metadata": {},
   "outputs": [],
   "source": [
    "def do_quote_form(expressions, env):\n",
    "    return expressions.first"
   ]
  }
 ],
 "metadata": {
  "kernelspec": {
   "display_name": "Python 3",
   "language": "python",
   "name": "python3"
  },
  "language_info": {
   "codemirror_mode": {
    "name": "ipython",
    "version": 3
   },
   "file_extension": ".py",
   "mimetype": "text/x-python",
   "name": "python",
   "nbconvert_exporter": "python",
   "pygments_lexer": "ipython3",
   "version": "3.7.3"
  }
 },
 "nbformat": 4,
 "nbformat_minor": 2
}
