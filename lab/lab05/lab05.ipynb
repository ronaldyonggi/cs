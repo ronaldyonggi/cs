{
 "cells": [
  {
   "cell_type": "markdown",
   "metadata": {},
   "source": [
    "## Statistics and Hypothesis Testing\n",
    "\n",
    "Welcome to lab 5!  This lab covers the use of computer simulation, in combination with data, to answer questions about the world.  You'll answer two questions:\n",
    "1. Suppose we estimate a parameter using a statistic computed from a sample of data.  That statistic could have turned out different if the random sample had turned out different.  What is the probability distribution of values of that statistic?\n",
    "1. Was a panel of jurors selected at random from the population of eligible jurors?\n",
    "\n",
    "As usual, if you are curious or confused about something, please ask a neighbor or a TA for help.  Remember to run the tests and the submission cell at the end of the lab."
   ]
  },
  {
   "cell_type": "code",
   "execution_count": 2,
   "metadata": {},
   "outputs": [
    {
     "ename": "ModuleNotFoundError",
     "evalue": "No module named 'client'",
     "output_type": "error",
     "traceback": [
      "\u001b[1;31m--------------------------------------------------------------------\u001b[0m",
      "\u001b[1;31mModuleNotFoundError\u001b[0m                Traceback (most recent call last)",
      "\u001b[1;32m<ipython-input-2-9ec7968f4243>\u001b[0m in \u001b[0;36m<module>\u001b[1;34m\u001b[0m\n\u001b[0;32m     14\u001b[0m \u001b[1;33m\u001b[0m\u001b[0m\n\u001b[0;32m     15\u001b[0m \u001b[1;31m# These lines load the tests.\u001b[0m\u001b[1;33m\u001b[0m\u001b[1;33m\u001b[0m\u001b[1;33m\u001b[0m\u001b[0m\n\u001b[1;32m---> 16\u001b[1;33m \u001b[1;32mfrom\u001b[0m \u001b[0mclient\u001b[0m\u001b[1;33m.\u001b[0m\u001b[0mapi\u001b[0m\u001b[1;33m.\u001b[0m\u001b[0massignment\u001b[0m \u001b[1;32mimport\u001b[0m \u001b[0mload_assignment\u001b[0m\u001b[1;33m\u001b[0m\u001b[1;33m\u001b[0m\u001b[0m\n\u001b[0m\u001b[0;32m     17\u001b[0m \u001b[0mtests\u001b[0m \u001b[1;33m=\u001b[0m \u001b[0mload_assignment\u001b[0m\u001b[1;33m(\u001b[0m\u001b[1;34m'lab05.ok'\u001b[0m\u001b[1;33m)\u001b[0m\u001b[1;33m\u001b[0m\u001b[1;33m\u001b[0m\u001b[0m\n",
      "\u001b[1;31mModuleNotFoundError\u001b[0m: No module named 'client'"
     ]
    }
   ],
   "source": [
    "# Run this cell to set up the notebook, but please don't change it.\n",
    "\n",
    "# These lines import the Numpy and Datascience modules.\n",
    "import numpy as np\n",
    "from datascience import *\n",
    "\n",
    "# These lines do some fancy plotting magic.\n",
    "import matplotlib\n",
    "%matplotlib inline\n",
    "import matplotlib.pyplot as plt\n",
    "plt.style.use('fivethirtyeight')\n",
    "import warnings\n",
    "warnings.simplefilter('ignore', FutureWarning)\n",
    "\n",
    "# These lines load the tests.\n",
    "from client.api.assignment import load_assignment \n",
    "tests = load_assignment('lab05.ok')"
   ]
  },
  {
   "cell_type": "markdown",
   "metadata": {},
   "source": [
    "## 1. Dungeons and Dragons and Sampling\n",
    "In the game Dungeons & Dragons, each player plays the role of a fantasy character.\n",
    "\n",
    "A player performs actions by rolling a 20-sided die, adding a \"modifier\" number to the roll, and comparing the total to a threshold for success.  The modifier depends on her character's competence in performing the action.\n",
    "\n",
    "For example, suppose Alice's character, a barbarian warrior named Roga, is trying to knock down a heavy door.  She rolls a 20-sided die, adds a modifier of 11 to the result (because her character is good at knocking down doors), and succeeds if the total is greater than 15.\n",
    "\n",
    "### Question 1 ###\n",
    "Write code that simulates that procedure.  Compute three values: the result of Alice's roll (`roll_result`), the result of her roll plus Roga's modifier (`modified_result`), and a boolean value indicating whether the action succeeded (`action_succeeded`).  **Do not fill in any of the results manually**; the entire simulation should happen in code.\n",
    "\n",
    "*Hint:* A roll of a 20-sided die is a number chosen uniformly from the array `make_array(1, 2, 3, 4, ..., 20)`.  So a roll of a 20-sided die *plus 11* is a number chosen uniformly from that array, plus 11."
   ]
  },
  {
   "cell_type": "code",
   "execution_count": 8,
   "metadata": {
    "for_assignment_type": "student"
   },
   "outputs": [
    {
     "name": "stdout",
     "output_type": "stream",
     "text": [
      "On a modified roll of 31, Alice's action succeeded.\n"
     ]
    }
   ],
   "source": [
    "die = np.arange(21)\n",
    "\n",
    "roll_result = np.random.choice(die)\n",
    "modified_result = roll_result + 11\n",
    "action_succeeded = modified_result > 15\n",
    "\n",
    "# The next line just prints out your results in a nice way\n",
    "# once you're done.  You can delete it if you want.\n",
    "print(\"On a modified roll of {:d}, Alice's action {}.\".format(modified_result, \"succeeded\" if action_succeeded else \"failed\"))"
   ]
  },
  {
   "cell_type": "code",
   "execution_count": null,
   "metadata": {},
   "outputs": [],
   "source": [
    "_ = tests.grade('q1_1')"
   ]
  },
  {
   "cell_type": "markdown",
   "metadata": {},
   "source": [
    "### Question 2 ###\n",
    "Run your cell 7 times to manually estimate the chance that Alice succeeds at this action.  (Don't use math or an extended simulation.). Your answer should be a fraction. "
   ]
  },
  {
   "cell_type": "code",
   "execution_count": 3,
   "metadata": {},
   "outputs": [],
   "source": [
    "rough_success_chance = 5/7"
   ]
  },
  {
   "cell_type": "code",
   "execution_count": null,
   "metadata": {},
   "outputs": [],
   "source": [
    "_ = tests.grade('q1_2')"
   ]
  },
  {
   "cell_type": "markdown",
   "metadata": {},
   "source": [
    "Suppose we don't know that Roga has a modifier of 11 for this action.  Instead, we observe the modified roll (that is, the die roll plus the modifier of 11) from each of 7 of her attempts to knock down doors.  We would like to estimate her modifier from these 7 numbers.\n",
    "\n",
    "### Question 3 ###\n",
    "Write a Python function called `simulate_observations`.  It should take no arguments, and it should return an array of 7 numbers.  Each of the numbers should be the modified roll from one simulation.  **Then**, call your function once to compute an array of 7 simulated modified rolls.  Name that array `observations`."
   ]
  },
  {
   "cell_type": "code",
   "execution_count": 22,
   "metadata": {
    "for_assignment_type": "student"
   },
   "outputs": [],
   "source": [
    "modifier = 11\n",
    "num_observations = 7\n",
    "\n",
    "def simulate_observations():\n",
    "    return np.random.choice(np.arange(21), num_observations) + 11\n",
    "\n",
    "observations = simulate_observations()"
   ]
  },
  {
   "cell_type": "code",
   "execution_count": null,
   "metadata": {},
   "outputs": [],
   "source": [
    "_ = tests.grade('q1_3')"
   ]
  },
  {
   "cell_type": "markdown",
   "metadata": {},
   "source": [
    "### Question 4 ###\n",
    "Draw a histogram to display the *probability distribution* of the modified rolls we might see.  Check with a neighbor or a TA to make sure you have the right histogram."
   ]
  },
  {
   "cell_type": "code",
   "execution_count": 5,
   "metadata": {},
   "outputs": [
    {
     "data": {
      "image/png": "[encoded data removed]",
      "text/plain": [
       "<Figure size 432x288 with 1 Axes>"
      ]
     },
     "metadata": {},
     "output_type": "display_data"
    }
   ],
   "source": [
    "# We suggest using these bins.\n",
    "roll_bins = np.arange(1, 20+modifier+2, 1)\n",
    "\n",
    "# Recall that histogram requires a table!\n",
    "# We have a 20-sided die with possible outcomes 1 to 20.\n",
    "# With a modifier, the possible outcomes would be between 1+modifier to 20 + modifier\n",
    "# Step 1: Create a table with a column containing the possible outcomes from rolling a 20-sided die\n",
    "outcomeTable = Table().with_column(\"Possible Outcome\", np.arange(1+modifier, 20+modifier+1))\n",
    "# Step 2: Make histogram out of the table created on previous step\n",
    "outcomeTable.hist(bins=roll_bins)"
   ]
  },
  {
   "cell_type": "markdown",
   "metadata": {},
   "source": [
    "Now let's imagine we don't know the modifier and try to estimate it from `observations`.\n",
    "\n",
    "One straightforward (but clearly suboptimal) way to do that is to find the *smallest* total roll, since the smallest roll on a 20-sided die is 1, which is roughly 0.\n",
    "\n",
    "### Question 5 ###\n",
    "Using that method, estimate `modifier` from `observations`.  Name your estimate `min_estimate`."
   ]
  },
  {
   "cell_type": "code",
   "execution_count": 15,
   "metadata": {},
   "outputs": [
    {
     "data": {
      "text/plain": [
       "11"
      ]
     },
     "execution_count": 15,
     "metadata": {},
     "output_type": "execute_result"
    }
   ],
   "source": [
    "min_estimate = min(observations)\n",
    "min_estimate"
   ]
  },
  {
   "cell_type": "code",
   "execution_count": null,
   "metadata": {},
   "outputs": [],
   "source": [
    "_ = tests.grade('q1_5')"
   ]
  },
  {
   "cell_type": "markdown",
   "metadata": {},
   "source": [
    "Another way to estimate the modifier involves the mean of `observations`.\n",
    "\n",
    "### Question 6 ###\n",
    "Figure out a good estimate based on that quantity.  **Then**, write a function named `mean_based_estimator` that computes your estimate.  It should take an array of modified rolls (like the array `observations`) as its argument and return an estimate of `modifier` based on those numbers."
   ]
  },
  {
   "cell_type": "code",
   "execution_count": 27,
   "metadata": {},
   "outputs": [
    {
     "data": {
      "text/plain": [
       "10"
      ]
     },
     "execution_count": 27,
     "metadata": {},
     "output_type": "execute_result"
    }
   ],
   "source": [
    "# Based on the `observations`, a good estimate of the modifier would be 10\n",
    "\n",
    "def mean_based_estimator(nums):\n",
    "    \"\"\"Estimate the roll modifier based on observed modified rolls in the array nums.\"\"\"\n",
    "    return np.mean(nums) - 10\n",
    "\n",
    "# Here is an example call to your function.  It computes an estimate\n",
    "# of the modifier from our 7 observations.\n",
    "mean_based_estimate = int(mean_based_estimator(observations))\n",
    "mean_based_estimate"
   ]
  },
  {
   "cell_type": "code",
   "execution_count": null,
   "metadata": {},
   "outputs": [],
   "source": [
    "_ = tests.grade('q1_6')"
   ]
  },
  {
   "cell_type": "markdown",
   "metadata": {},
   "source": [
    "### Question 7 ###\n",
    "Recall the warplanes estimation problem from lecture.  There, it made sense to multiply the mean by 2 to estimate the largest serial number.  That doesn't make sense for this estimation problem.  Why not?"
   ]
  },
  {
   "cell_type": "markdown",
   "metadata": {
    "for_assignment_type": "student"
   },
   "source": [
    "#### Answer\n",
    "We are estimating 2 different values. \n",
    "* In the warplanes problem, we had an \"observation\" of airplane serial numbers and we tried to estimate the total number of the warplanes, which was directly related to the observation values\n",
    "* In this Dungeons and Dragons problem, we have an observation of output of die rolls and we are trying to estimate the modifier value, which is not directly related to observation values."
   ]
  },
  {
   "cell_type": "markdown",
   "metadata": {},
   "source": [
    "Now we want to know how well our two estimators work.  To do that, we'll imagine what *could have happened* when we got our observations.  Concretely, that means we'll generate new sets of observations 1000 times (that is, 1000 times, we'll simulate 7 modified rolls).  Each time, we'll use both estimators to compute estimates of the modifier for each simulated observation set.  Then, we'll display the distribution of those estimates.  That will show us how often each estimator does how well.\n",
    "\n",
    "### Question 8 ###\n",
    "Write code to compute a table called `estimates`.  It should have 1000 rows and 2 columns.  Each row should correspond to a different sample of 7 simulated modified rolls.  The first column, `\"min estimate\"`, should contain estimates using the `min` of each sample.  The second column, `\"mean-based estimate\"`, should contain estimates using your `mean_based_estimator` function on each sample."
   ]
  },
  {
   "cell_type": "code",
   "execution_count": 28,
   "metadata": {},
   "outputs": [
    {
     "data": {
      "text/html": [
       "<table border=\"1\" class=\"dataframe\">\n",
       "    <thead>\n",
       "        <tr>\n",
       "            <th>min estimate</th> <th>mean-based-estimate</th>\n",
       "        </tr>\n",
       "    </thead>\n",
       "    <tbody>\n",
       "        <tr>\n",
       "            <td>14          </td> <td>12                 </td>\n",
       "        </tr>\n",
       "        <tr>\n",
       "            <td>11          </td> <td>10                 </td>\n",
       "        </tr>\n",
       "        <tr>\n",
       "            <td>12          </td> <td>7                  </td>\n",
       "        </tr>\n",
       "        <tr>\n",
       "            <td>11          </td> <td>7                  </td>\n",
       "        </tr>\n",
       "        <tr>\n",
       "            <td>12          </td> <td>9                  </td>\n",
       "        </tr>\n",
       "        <tr>\n",
       "            <td>12          </td> <td>14                 </td>\n",
       "        </tr>\n",
       "        <tr>\n",
       "            <td>11          </td> <td>11                 </td>\n",
       "        </tr>\n",
       "        <tr>\n",
       "            <td>11          </td> <td>8                  </td>\n",
       "        </tr>\n",
       "        <tr>\n",
       "            <td>13          </td> <td>11                 </td>\n",
       "        </tr>\n",
       "        <tr>\n",
       "            <td>12          </td> <td>10                 </td>\n",
       "        </tr>\n",
       "    </tbody>\n",
       "</table>\n",
       "<p>... (990 rows omitted)</p>"
      ],
      "text/plain": [
       "min estimate | mean-based-estimate\n",
       "14           | 12\n",
       "11           | 10\n",
       "12           | 7\n",
       "11           | 7\n",
       "12           | 9\n",
       "12           | 14\n",
       "11           | 11\n",
       "11           | 8\n",
       "13           | 11\n",
       "12           | 10\n",
       "... (990 rows omitted)"
      ]
     },
     "execution_count": 28,
     "metadata": {},
     "output_type": "execute_result"
    }
   ],
   "source": [
    "min_estimates = make_array()\n",
    "mean_based_estimates = make_array()\n",
    "for _ in range(1000):\n",
    "    new_observations = simulate_observations()\n",
    "    new_min_estimate = min(new_observations)\n",
    "    new_mean_based_estimate = int(mean_based_estimator(new_observations))\n",
    "    min_estimates = np.append(min_estimates, new_min_estimate)\n",
    "    mean_based_estimates = np.append(mean_based_estimates, new_mean_based_estimate)\n",
    "\n",
    "estimates = Table().with_column(\n",
    "'min estimate', min_estimates,\n",
    "'mean-based-estimate', mean_based_estimates)\n",
    "estimates"
   ]
  },
  {
   "cell_type": "code",
   "execution_count": null,
   "metadata": {},
   "outputs": [],
   "source": [
    "_ = tests.grade('q1_8')"
   ]
  },
  {
   "cell_type": "markdown",
   "metadata": {},
   "source": [
    "### Question 9 ###\n",
    "Make a plot of the empirical distributions of both statistics.  (You should make a *single plot* containing two histograms.  Calling the `hist` method of a table that has 2 numerical columns will do this.)"
   ]
  },
  {
   "cell_type": "code",
   "execution_count": 29,
   "metadata": {
    "for_assignment_type": "student"
   },
   "outputs": [
    {
     "data": {
      "image/png": "[encoded data removed]",
      "text/plain": [
       "<Figure size 432x288 with 1 Axes>"
      ]
     },
     "metadata": {},
     "output_type": "display_data"
    }
   ],
   "source": [
    "#Make your histogram here\n",
    "estimates.hist()"
   ]
  },
  {
   "cell_type": "markdown",
   "metadata": {},
   "source": [
    "### Question 10 ###\n",
    "Why do the `min`-based estimates bottom out at 12, while some of the `mean`-based estimates are smaller than that?d."
   ]
  },
  {
   "cell_type": "markdown",
   "metadata": {},
   "source": [
    "#### Answer\n",
    "\n",
    "* The `min`-based estimate takes the minimum value out of a simulation. Assuming we know that the modifier is 11 and taking into account that the minimum output possible from a die roll is 1, the minimum output of a simulation would be 11 + 1 = 12\n",
    "* The `mean`-based estimate involves subtracting the mean with a certain estimated value. I came up with an estimate of 10.\n",
    "    * If the simulation returns an average of less than 22, then if the value is subtracted by 10, the final estimate would be lower than the result that can be obtained from `min`-based estimate\n",
    "    * For example, if the simulation returns an average of 21, then the final estimate would be 11"
   ]
  },
  {
   "cell_type": "markdown",
   "metadata": {},
   "source": [
    "## 2. *Swain v. Alabama*\n",
    "In lecture, we tested the hypothesis that a jury panel in Alameda County was a random sample from the population of Alameda.  Let's go through a similar example in another context.\n",
    "\n",
    "##### Background\n",
    "Swain v. Alabama was a US Supreme Court case decided in 1965.  A black man, Swain, was accused of raping a white woman, and had been convicted by an all-white jury.  The jury was selected from a panel of 100 people that contained only 8 black people and 92 people of other ethnicities.  That panel was supposed to be a random sample from the eligible population of Talladega County, which was 26% black and 74% other ethnicities (and, by law, all male).  We will assume there were 16,000 people in all of Talladega County eligible to serve on the jury.\n",
    "\n",
    "Swain's lawyers argued that this reflected a bias in the jury panel selection process.  A five-justice majority of the Supreme Court disagreed, asserting that,\n",
    "\n",
    "> \"The overall percentage disparity has been small and reflects no studied attempt to include or exclude a specified number of Negros.\"\n",
    "\n",
    "Is 8 enough smaller than 26 to indicate that the jury panel wasn't just a random sample from the eligible population?\n",
    "\n",
    "It *could* have happened by chance, so this may seem like a judgement call.  Indeed, five Supreme Court justices apparently thought it was a matter of judgement.\n",
    "\n",
    "In fact, with a computer simulation, we can answer that is is very unlikely to see a panel of 8 randomly selected from this population.  (Note that the scarcity of computers at the time was no excuse.  Any statistician could have done this calculation by hand in 1965.)\n",
    "\n",
    "Here are the data:"
   ]
  },
  {
   "cell_type": "code",
   "execution_count": 4,
   "metadata": {},
   "outputs": [
    {
     "data": {
      "text/html": [
       "<table border=\"1\" class=\"dataframe\">\n",
       "    <thead>\n",
       "        <tr>\n",
       "            <th>Ethnicity</th> <th>Number eligible</th> <th>Number in panel</th>\n",
       "        </tr>\n",
       "    </thead>\n",
       "    <tbody>\n",
       "        <tr>\n",
       "            <td>Black    </td> <td>4160           </td> <td>8              </td>\n",
       "        </tr>\n",
       "        <tr>\n",
       "            <td>Other    </td> <td>11840          </td> <td>92             </td>\n",
       "        </tr>\n",
       "    </tbody>\n",
       "</table>"
      ],
      "text/plain": [
       "Ethnicity | Number eligible | Number in panel\n",
       "Black     | 4160            | 8\n",
       "Other     | 11840           | 92"
      ]
     },
     "execution_count": 4,
     "metadata": {},
     "output_type": "execute_result"
    },
    {
     "data": {
      "image/png": "[encoded data removed]",
      "text/plain": [
       "<Figure size 432x288 with 1 Axes>"
      ]
     },
     "metadata": {},
     "output_type": "display_data"
    },
    {
     "data": {
      "image/png": "[encoded data removed]",
      "text/plain": [
       "<Figure size 432x288 with 1 Axes>"
      ]
     },
     "metadata": {},
     "output_type": "display_data"
    }
   ],
   "source": [
    "jury = Table.read_table(\"jury.csv\")\n",
    "jury.barh('Ethnicity', \"Number eligible\")\n",
    "jury.barh('Ethnicity', \"Number in panel\")\n",
    "jury"
   ]
  },
  {
   "cell_type": "markdown",
   "metadata": {},
   "source": [
    "#### Question 1\n",
    "It's helpful to draw both bars in one plot to really see the visual distinction.  Why would this not be a good idea with the data that we have so far? Think about what the bar graphs would look like if we plotted them all onto the same chart. "
   ]
  },
  {
   "cell_type": "markdown",
   "metadata": {},
   "source": [
    "#### Answer\n",
    "The number of eligible jury vs. panel jury differ in magnitudes.\n",
    "* The number of eligible jury are in thousands\n",
    "* The number of panel jury are at most 2 digits"
   ]
  },
  {
   "cell_type": "markdown",
   "metadata": {},
   "source": [
    "#### Question 2\n",
    "Fix the problem by making one bar chart displaying the *proportions* of ethnicities among the eligible population and the panel.  **Before you make the chart**, create a table called `with_proportions` that's a copy of `jury` with columns containing these proportions.  (The column names are filled in for you.)"
   ]
  },
  {
   "cell_type": "code",
   "execution_count": 5,
   "metadata": {
    "for_assignment_type": "student"
   },
   "outputs": [
    {
     "data": {
      "image/png": "[encoded data removed]",
      "text/plain": [
       "<Figure size 432x288 with 1 Axes>"
      ]
     },
     "metadata": {},
     "output_type": "display_data"
    }
   ],
   "source": [
    "with_proportions = jury.with_columns(\n",
    "        \"Proportion eligible\", jury.column(1) / sum(jury.column(1)),\n",
    "        \"Proportion in panel\", jury.column(2) / sum(jury.column(2)))\n",
    "with_proportions.drop('Number eligible').drop('Number in panel').barh('Ethnicity')"
   ]
  },
  {
   "cell_type": "markdown",
   "metadata": {},
   "source": [
    "To test the hypothesis that the actual panel was a random sample from the eligible population, we first write down a *null hypothesis*.  We will imagine (via computer simulation) what the data would typically look like if this hypothesis were true.  If the actual data don't look like that, we'll reject the null hypothesis.\n",
    "\n",
    "Our null hypothesis is straightforward:\n",
    "\n",
    "> **Null hypothesis:** \"The actual panel in Swain's trial was a random sample from the eligible population in Talladega County.\"\n",
    "\n",
    "Now, imagine drawing a random sample from the population of eligible jurors in Talladega.  There is a 26% chance that any sampled individual is black.  We can simulate drawing just 1 person in this way by calling this function:"
   ]
  },
  {
   "cell_type": "code",
   "execution_count": 6,
   "metadata": {},
   "outputs": [
    {
     "data": {
      "text/html": [
       "<table border=\"1\" class=\"dataframe\">\n",
       "    <thead>\n",
       "        <tr>\n",
       "            <th>Ethnicity</th> <th>Number eligible</th> <th>Number in panel</th> <th>Proportion eligible</th> <th>Proportion in panel</th> <th>Proportion in random sample</th>\n",
       "        </tr>\n",
       "    </thead>\n",
       "    <tbody>\n",
       "        <tr>\n",
       "            <td>Black    </td> <td>4160           </td> <td>8              </td> <td>0.26               </td> <td>0.08               </td> <td>0                          </td>\n",
       "        </tr>\n",
       "        <tr>\n",
       "            <td>Other    </td> <td>11840          </td> <td>92             </td> <td>0.74               </td> <td>0.92               </td> <td>1                          </td>\n",
       "        </tr>\n",
       "    </tbody>\n",
       "</table>"
      ],
      "text/plain": [
       "Ethnicity | Number eligible | Number in panel | Proportion eligible | Proportion in panel | Proportion in random sample\n",
       "Black     | 4160            | 8               | 0.26                | 0.08                | 0\n",
       "Other     | 11840           | 92              | 0.74                | 0.92                | 1"
      ]
     },
     "execution_count": 6,
     "metadata": {},
     "output_type": "execute_result"
    }
   ],
   "source": [
    "def proportions_from_distribution(table, proportions_column_label, sample_size):\n",
    "    \"\"\"Produces a random sample with replacement, using proportions from the\n",
    "    column named proportions_column_label in the given table.  The size of the\n",
    "    sample is sample_size.\n",
    "    \n",
    "    Each row in the given table should represent one kind of thing.\n",
    "    Each kind of thing has a proportion, which is the chance that each\n",
    "    member of the sample is that kind.\n",
    "    \n",
    "    Returns a copy of table with an extra column called \"Proportion in random\n",
    "    sample\".  This column contains the number of elements of each kind that\n",
    "    ended up in the random sample.\"\"\"\n",
    "    proportions = np.random.multinomial(sample_size, table.column(proportions_column_label))/sample_size\n",
    "    return table.with_column(\"Proportion in random sample\", proportions)\n",
    "\n",
    "# Sampling 1 person:\n",
    "one_random_sample = proportions_from_distribution(with_proportions, \"Proportion eligible\", 1)\n",
    "one_random_sample"
   ]
  },
  {
   "cell_type": "markdown",
   "metadata": {},
   "source": [
    "This table is the same as `with_proportions`, but the last column in this table contains the numbers of Black and Other people in a random sample of 1 person.  The ethnicity of the person was decided randomly: there was a 26% chance of selecting a black person\n",
    "\n",
    "If we repeated this many times, about 26% of the time we'd get a black person.  Let's try that out.\n",
    "\n",
    "#### Question 3\n",
    "Write a function called `simulate_single_samples`.  It should take no arguments and return no value.  It should simulate 10000 single draws and produce a *histogram* of the numbers of black people in each of those draws."
   ]
  },
  {
   "cell_type": "code",
   "execution_count": 7,
   "metadata": {},
   "outputs": [
    {
     "data": {
      "image/png": "[encoded data removed]",
      "text/plain": [
       "<Figure size 432x288 with 1 Axes>"
      ]
     },
     "metadata": {},
     "output_type": "display_data"
    }
   ],
   "source": [
    "def simulate_single_samples():\n",
    "    samples = make_array()\n",
    "    for _ in np.arange(10000):\n",
    "        samples = np.append(\n",
    "            samples, proportions_from_distribution(\n",
    "                with_proportions, \"Proportion eligible\", 1).column(\n",
    "            \"Proportion in random sample\").item(0))\n",
    "    \n",
    "    Table().with_column(\"Number of black people in each draw\", samples).hist()\n",
    "\n",
    "simulate_single_samples()"
   ]
  },
  {
   "cell_type": "markdown",
   "metadata": {},
   "source": [
    "Let's see what happens when we sample 100 people instead of just 1.  Remember, this is simulating how jury panels were *supposed* to be selected, according to the law.\n",
    "\n",
    "#### Question 4\n",
    "Call `proportions_from_distribution` to create a table called `one_sample_of_100` that represents one sample of 100 people from among the eligible jurors.  This is one panel we could see *if the null hypothesis were true*.  **Then,** make a single bar chart displaying the proportions of ethnicities in this sample, in the eligible population, and in the actual panel in Swain's case."
   ]
  },
  {
   "cell_type": "code",
   "execution_count": 9,
   "metadata": {},
   "outputs": [
    {
     "data": {
      "image/png": "[encoded data removed]",
      "text/plain": [
       "<Figure size 432x288 with 1 Axes>"
      ]
     },
     "metadata": {},
     "output_type": "display_data"
    }
   ],
   "source": [
    "one_sample_of_100 = proportions_from_distribution(with_proportions, \"Proportion eligible\", 100)\n",
    "one_sample_of_100.drop('Number in panel').drop('Number eligible').barh('Ethnicity')"
   ]
  },
  {
   "cell_type": "markdown",
   "metadata": {},
   "source": [
    "Does the panel look like it could have come from this process?\n",
    "\n",
    "To answer that question, we'll need to sample many times, not just once.  And we'll need to summarize each sample with a number (a \"test statistic\").  We want the number to generally look one way if the null hypothesis is true, and some other way if it's not.\n",
    "\n",
    "A useful test statistic in cases like this is the *total variation distance* (TVD) between the distribution of ethnicities in the sample and the distribution of ethnicities in the eligible population.  Intuitively, this distance should be typically small if the null hypothesis is true, because many samples will have similar proportions of ethnicities as the population from which they're taken.\n",
    "\n",
    "To compute the TVD visually, make a bar chart of the two distributions, like the one you made above (ignoring the bars displaying the proportions in the panel).  Then for each category (\"Black\" and \"Other\"), find the absolute difference between the lengths of the bars.  Add up those absolute differences, and divide by 2.\n",
    "\n",
    "#### Question 5\n",
    "Look at the bar chart you made above.  Without using any code, estimate the TVD between the distribution of ethnicities in the sample and the distribution of ethnicities in the eligible population.  Then estimate the TVD between the distribution of ethnicities in the *actual panel* and the distribution of ethnicities in the eligible population.  Note which one is bigger.  Check with a neighbor or a TA to verify your answer."
   ]
  },
  {
   "cell_type": "code",
   "execution_count": 12,
   "metadata": {},
   "outputs": [
    {
     "data": {
      "text/html": [
       "<table border=\"1\" class=\"dataframe\">\n",
       "    <thead>\n",
       "        <tr>\n",
       "            <th>Ethnicity</th> <th>Number eligible</th> <th>Number in panel</th> <th>Proportion eligible</th> <th>Proportion in panel</th> <th>Proportion in random sample</th>\n",
       "        </tr>\n",
       "    </thead>\n",
       "    <tbody>\n",
       "        <tr>\n",
       "            <td>Black    </td> <td>4160           </td> <td>8              </td> <td>0.26               </td> <td>0.08               </td> <td>0.23                       </td>\n",
       "        </tr>\n",
       "        <tr>\n",
       "            <td>Other    </td> <td>11840          </td> <td>92             </td> <td>0.74               </td> <td>0.92               </td> <td>0.77                       </td>\n",
       "        </tr>\n",
       "    </tbody>\n",
       "</table>"
      ],
      "text/plain": [
       "Ethnicity | Number eligible | Number in panel | Proportion eligible | Proportion in panel | Proportion in random sample\n",
       "Black     | 4160            | 8               | 0.26                | 0.08                | 0.23\n",
       "Other     | 11840           | 92              | 0.74                | 0.92                | 0.77"
      ]
     },
     "execution_count": 12,
     "metadata": {},
     "output_type": "execute_result"
    }
   ],
   "source": [
    "one_sample_of_100"
   ]
  },
  {
   "cell_type": "code",
   "execution_count": 14,
   "metadata": {},
   "outputs": [],
   "source": [
    "sample_values = one_sample_of_100.column('Proportion in random sample')\n",
    "population_values = one_sample_of_100.column('Proportion eligible')\n",
    "panel_values = one_sample_of_100.column('Proportion in panel')\n",
    "\n",
    "rough_tvd_between_sample_and_population = sum(abs(sample_values - population_values))\n",
    "rough_tvd_between_panel_and_population = sum(abs(panel_values - population_values))"
   ]
  },
  {
   "cell_type": "markdown",
   "metadata": {},
   "source": [
    "#### Question 6\n",
    "Write a function called `tvd_from_eligible_population`.  It should take 1 argument: an array of proportions of ethnicities.  The first element in the array is the proportion of black people, and the second element in the array is the proportion of others.  The function should return the TVD between that distribution of ethnicities and the distribution in the eligible population."
   ]
  },
  {
   "cell_type": "code",
   "execution_count": 15,
   "metadata": {},
   "outputs": [
    {
     "name": "stdout",
     "output_type": "stream",
     "text": [
      "TVD between eligible population and a random sample: 0.060000000000000026\n",
      "TVD between eligible population and the actual panel: 0.36000000000000004\n"
     ]
    }
   ],
   "source": [
    "def tvd_from_eligible_population(proportions):\n",
    "    return sum(abs(population_values - proportions))\n",
    "\n",
    "# An example call to your function.  This computes the\n",
    "# TVD you estimated in question 5.\n",
    "print(\"TVD between eligible population and a random sample:\", tvd_from_eligible_population(one_sample_of_100.column(\"Proportion in random sample\")))\n",
    "# ...and this computes the other TVD you estimated.\n",
    "print(\"TVD between eligible population and the actual panel:\", tvd_from_eligible_population(with_proportions.column(\"Proportion in panel\")))"
   ]
  },
  {
   "cell_type": "code",
   "execution_count": null,
   "metadata": {},
   "outputs": [],
   "source": [
    "_ = tests.grade('q2_6')"
   ]
  },
  {
   "cell_type": "markdown",
   "metadata": {},
   "source": [
    "Now you have all the ingredients for running an hypothesis test:\n",
    "\n",
    "1. You can generate data you would see if the null hypothesis were true.  You did that once in question 4.\n",
    "2. You can compute a test statistic on each simulated dataset by calling `tvd_from_eligible_population`.\n",
    "\n",
    "#### Question 7\n",
    "Write a function called `simulate_tvds_under_null`.  It should take no arguments and return no value.  It should run **20,000** simulations under the null hypothesis, compute the test statistic for each one, and produce a histogram of those **20,000** test statistics."
   ]
  },
  {
   "cell_type": "code",
   "execution_count": 19,
   "metadata": {
    "for_assignment_type": "student"
   },
   "outputs": [],
   "source": [
    "def simulate_tvds_under_null():\n",
    "    test_stats = make_array()\n",
    "    for i in np.arange(20000):\n",
    "        # Run a simulation of 100 people\n",
    "        sample_of_100 = proportions_from_distribution(with_proportions, \"Proportion eligible\", 100)\n",
    "        # From the simulation result, calculate the tvd\n",
    "        simulated_test_stat = tvd_from_eligible_population(sample_of_100.column(\"Proportion in random sample\"))\n",
    "        test_stats = np.append(test_stats, simulated_test_stat)\n",
    "    Table().with_column('Test Statistics', test_stats).hist()"
   ]
  },
  {
   "cell_type": "markdown",
   "metadata": {},
   "source": [
    "Run the cell below to see the results of your simulation augmented with a red line that shows the TVD between the actual panel and the eligible population (which you estimated in question 5)."
   ]
  },
  {
   "cell_type": "code",
   "execution_count": 21,
   "metadata": {},
   "outputs": [
    {
     "data": {
      "image/png": "[encoded data removed]",
      "text/plain": [
       "<Figure size 432x288 with 1 Axes>"
      ]
     },
     "metadata": {},
     "output_type": "display_data"
    }
   ],
   "source": [
    "# You don't need to read this function unless you're interested.\n",
    "def draw_red_line(spot, height, description):\n",
    "    \"\"\"Draw a vertical red line at a spot in a graph.\"\"\"\n",
    "    plt.plot([spot, spot], [0, height], color=\"red\", label=description)\n",
    "    # Draw a legend off to the right to explain the red line.\n",
    "    plt.legend(loc=\"center left\", bbox_to_anchor=[1, .5])\n",
    "\n",
    "# Now we'll redraw our histogram and draw a line at the observed TVD.\n",
    "simulate_tvds_under_null()\n",
    "draw_red_line(tvd_from_eligible_population(with_proportions.column(\"Proportion in panel\")), 20, \"TVD between Swain's\\nactual jury panel and\\nthe eligible population\")"
   ]
  },
  {
   "cell_type": "markdown",
   "metadata": {},
   "source": [
    "#### Question 8\n",
    "Do we have evidence for or against the null hypothesis, or not much evidence either way?  Discuss with a neighbor or a TA."
   ]
  },
  {
   "cell_type": "markdown",
   "metadata": {},
   "source": [
    "#### Answer:\n",
    "Yes we do. From the histogram above, we can see that the TVD between the actual panel and the eligible population (indicated by the red vertical line) looks relatively far from the distribution of TVD between the simulated sample and the eligible population. This is an evidence against the null hypothesis because it shows that it is unlikely for the panel to be taken at random from the eligible population"
   ]
  },
  {
   "cell_type": "code",
   "execution_count": 22,
   "metadata": {},
   "outputs": [
    {
     "ename": "NameError",
     "evalue": "name 'tests' is not defined",
     "output_type": "error",
     "traceback": [
      "\u001b[1;31m--------------------------------------------------------------------\u001b[0m",
      "\u001b[1;31mNameError\u001b[0m                          Traceback (most recent call last)",
      "\u001b[1;32m<ipython-input-22-7c843cccd000>\u001b[0m in \u001b[0;36m<module>\u001b[1;34m\u001b[0m\n\u001b[0;32m      1\u001b[0m \u001b[1;31m# For your convenience, you can run this cell to run all the tests at once!\u001b[0m\u001b[1;33m\u001b[0m\u001b[1;33m\u001b[0m\u001b[1;33m\u001b[0m\u001b[0m\n\u001b[0;32m      2\u001b[0m \u001b[1;32mimport\u001b[0m \u001b[0mos\u001b[0m\u001b[1;33m\u001b[0m\u001b[1;33m\u001b[0m\u001b[0m\n\u001b[1;32m----> 3\u001b[1;33m \u001b[0m_\u001b[0m \u001b[1;33m=\u001b[0m \u001b[1;33m[\u001b[0m\u001b[0mtests\u001b[0m\u001b[1;33m.\u001b[0m\u001b[0mgrade\u001b[0m\u001b[1;33m(\u001b[0m\u001b[0mq\u001b[0m\u001b[1;33m[\u001b[0m\u001b[1;33m:\u001b[0m\u001b[1;33m-\u001b[0m\u001b[1;36m3\u001b[0m\u001b[1;33m]\u001b[0m\u001b[1;33m)\u001b[0m \u001b[1;32mfor\u001b[0m \u001b[0mq\u001b[0m \u001b[1;32min\u001b[0m \u001b[0mos\u001b[0m\u001b[1;33m.\u001b[0m\u001b[0mlistdir\u001b[0m\u001b[1;33m(\u001b[0m\u001b[1;34m\"tests\"\u001b[0m\u001b[1;33m)\u001b[0m \u001b[1;32mif\u001b[0m \u001b[0mq\u001b[0m\u001b[1;33m.\u001b[0m\u001b[0mstartswith\u001b[0m\u001b[1;33m(\u001b[0m\u001b[1;34m'q'\u001b[0m\u001b[1;33m)\u001b[0m\u001b[1;33m]\u001b[0m\u001b[1;33m\u001b[0m\u001b[1;33m\u001b[0m\u001b[0m\n\u001b[0m",
      "\u001b[1;32m<ipython-input-22-7c843cccd000>\u001b[0m in \u001b[0;36m<listcomp>\u001b[1;34m(.0)\u001b[0m\n\u001b[0;32m      1\u001b[0m \u001b[1;31m# For your convenience, you can run this cell to run all the tests at once!\u001b[0m\u001b[1;33m\u001b[0m\u001b[1;33m\u001b[0m\u001b[1;33m\u001b[0m\u001b[0m\n\u001b[0;32m      2\u001b[0m \u001b[1;32mimport\u001b[0m \u001b[0mos\u001b[0m\u001b[1;33m\u001b[0m\u001b[1;33m\u001b[0m\u001b[0m\n\u001b[1;32m----> 3\u001b[1;33m \u001b[0m_\u001b[0m \u001b[1;33m=\u001b[0m \u001b[1;33m[\u001b[0m\u001b[0mtests\u001b[0m\u001b[1;33m.\u001b[0m\u001b[0mgrade\u001b[0m\u001b[1;33m(\u001b[0m\u001b[0mq\u001b[0m\u001b[1;33m[\u001b[0m\u001b[1;33m:\u001b[0m\u001b[1;33m-\u001b[0m\u001b[1;36m3\u001b[0m\u001b[1;33m]\u001b[0m\u001b[1;33m)\u001b[0m \u001b[1;32mfor\u001b[0m \u001b[0mq\u001b[0m \u001b[1;32min\u001b[0m \u001b[0mos\u001b[0m\u001b[1;33m.\u001b[0m\u001b[0mlistdir\u001b[0m\u001b[1;33m(\u001b[0m\u001b[1;34m\"tests\"\u001b[0m\u001b[1;33m)\u001b[0m \u001b[1;32mif\u001b[0m \u001b[0mq\u001b[0m\u001b[1;33m.\u001b[0m\u001b[0mstartswith\u001b[0m\u001b[1;33m(\u001b[0m\u001b[1;34m'q'\u001b[0m\u001b[1;33m)\u001b[0m\u001b[1;33m]\u001b[0m\u001b[1;33m\u001b[0m\u001b[1;33m\u001b[0m\u001b[0m\n\u001b[0m",
      "\u001b[1;31mNameError\u001b[0m: name 'tests' is not defined"
     ]
    }
   ],
   "source": [
    "# For your convenience, you can run this cell to run all the tests at once!\n",
    "import os\n",
    "_ = [tests.grade(q[:-3]) for q in os.listdir(\"tests\") if q.startswith('q')]"
   ]
  },
  {
   "cell_type": "code",
   "execution_count": 23,
   "metadata": {},
   "outputs": [
    {
     "name": "stdout",
     "output_type": "stream",
     "text": [
      "Submitted Successfully!\n"
     ]
    },
    {
     "name": "stderr",
     "output_type": "stream",
     "text": [
      "'TZ' is not recognized as an internal or external command,\n",
      "operable program or batch file.\n"
     ]
    }
   ],
   "source": [
    "# Run this cell to submit your work *after* you have passed all of the test cells.\n",
    "# It's ok to run this cell multiple times. Only your final submission will be scored.\n",
    "\n",
    "!TZ=America/Los_Angeles ipython nbconvert --output=\".lab05_$(date +%m%d_%H%M)_submission.html\" lab05.ipynb\n",
    "print('Submitted Successfully!')"
   ]
  },
  {
   "cell_type": "code",
   "execution_count": null,
   "metadata": {},
   "outputs": [],
   "source": []
  }
 ],
 "metadata": {
  "anaconda-cloud": {},
  "kernelspec": {
   "display_name": "Python 3",
   "language": "python",
   "name": "python3"
  },
  "language_info": {
   "codemirror_mode": {
    "name": "ipython",
    "version": 3
   },
   "file_extension": ".py",
   "mimetype": "text/x-python",
   "name": "python",
   "nbconvert_exporter": "python",
   "pygments_lexer": "ipython3",
   "version": "3.7.2"
  }
 },
 "nbformat": 4,
 "nbformat_minor": 1
}
