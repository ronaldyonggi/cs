{
 "cells": [
  {
   "cell_type": "markdown",
   "metadata": {},
   "source": [
    "#### (a)\n",
    "What is the value of element $c_{23}$ of Matrix $C$ where $C = A \\times B$?\n",
    "\n",
    "#### Answer\n",
    "$$ -5(-1) + 4(-1) + 1(4)$$ \n",
    "$$= 5 - 4 + 4 = 5 $$"
   ]
  },
  {
   "cell_type": "markdown",
   "metadata": {},
   "source": [
    "#### (b)\n",
    "What is the value of element $c_{23}$ of Matrix $C$ where $C = B \\times A$?\n",
    "\n",
    "#### Answer\n",
    "$$ 3(2) + 2(1) + (-1)(-8)$$\n",
    "$$ = 6 + 2 + 8 = 16 $$"
   ]
  },
  {
   "cell_type": "code",
   "execution_count": null,
   "metadata": {},
   "outputs": [],
   "source": []
  }
 ],
 "metadata": {
  "kernelspec": {
   "display_name": "Python 3",
   "language": "python",
   "name": "python3"
  },
  "language_info": {
   "codemirror_mode": {
    "name": "ipython",
    "version": 3
   },
   "file_extension": ".py",
   "mimetype": "text/x-python",
   "name": "python",
   "nbconvert_exporter": "python",
   "pygments_lexer": "ipython3",
   "version": "3.8.3"
  }
 },
 "nbformat": 4,
 "nbformat_minor": 4
}
