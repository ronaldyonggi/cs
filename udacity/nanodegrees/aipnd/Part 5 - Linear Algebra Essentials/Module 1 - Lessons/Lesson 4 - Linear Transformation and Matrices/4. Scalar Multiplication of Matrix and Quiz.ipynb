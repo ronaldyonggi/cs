{
 "cells": [
  {
   "cell_type": "markdown",
   "metadata": {},
   "source": [
    "What is the value of the $ij$th element of Matrix $D$ if:\n",
    "\n",
    "$$ D = 0.2A + (-5)B - 2 C$$\n",
    "\n",
    "a. $i=1$, $j=1$\n",
    "\n",
    "b. $i=2$, $j=4$"
   ]
  },
  {
   "cell_type": "markdown",
   "metadata": {},
   "source": [
    "## Answer\n",
    "\n",
    "#### (a)\n",
    "$$ 0.2(3) + (-5)(3) - 2(0) = -14.4$$\n",
    "\n",
    "#### (b)\n",
    "$$ 0.2(8.6) + (-5)(9) - 2(0.07) = -43.14$$"
   ]
  },
  {
   "cell_type": "code",
   "execution_count": null,
   "metadata": {},
   "outputs": [],
   "source": []
  }
 ],
 "metadata": {
  "kernelspec": {
   "display_name": "Python 3",
   "language": "python",
   "name": "python3"
  },
  "language_info": {
   "codemirror_mode": {
    "name": "ipython",
    "version": 3
   },
   "file_extension": ".py",
   "mimetype": "text/x-python",
   "name": "python",
   "nbconvert_exporter": "python",
   "pygments_lexer": "ipython3",
   "version": "3.8.3"
  }
 },
 "nbformat": 4,
 "nbformat_minor": 4
}
