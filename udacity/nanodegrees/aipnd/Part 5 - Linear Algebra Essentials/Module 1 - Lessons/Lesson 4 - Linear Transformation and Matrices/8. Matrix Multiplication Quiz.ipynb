{
 "cells": [
  {
   "cell_type": "markdown",
   "metadata": {},
   "source": [
    "If $C = A \\times B$\n",
    "\n",
    "(a) How many rows will $C$ have?\n",
    "\n",
    "**Ans**: 1\n",
    "\n",
    "(b) How many columns will $C$ have?\n",
    "\n",
    "**Ans**: 3\n",
    "\n",
    "(c) What will be the value of $c_{13}$?\n",
    "\n",
    "**Ans**: \n",
    "\n",
    "$$ 0.6(-4) + (-15)(0) + 2(44) + 5(4) + 98(5) = 595.6$$\n",
    "\n",
    "(d) If $C = B \\times A$, what will be the value of $c_{13}$?\n",
    "\n",
    "**Ans**:\n",
    "\n",
    "$B\\times A$ cannot be done since the column of $B$ and the row of $A$ are not equal!"
   ]
  },
  {
   "cell_type": "code",
   "execution_count": null,
   "metadata": {},
   "outputs": [],
   "source": []
  }
 ],
 "metadata": {
  "kernelspec": {
   "display_name": "Python 3",
   "language": "python",
   "name": "python3"
  },
  "language_info": {
   "codemirror_mode": {
    "name": "ipython",
    "version": 3
   },
   "file_extension": ".py",
   "mimetype": "text/x-python",
   "name": "python",
   "nbconvert_exporter": "python",
   "pygments_lexer": "ipython3",
   "version": "3.8.3"
  }
 },
 "nbformat": 4,
 "nbformat_minor": 4
}
