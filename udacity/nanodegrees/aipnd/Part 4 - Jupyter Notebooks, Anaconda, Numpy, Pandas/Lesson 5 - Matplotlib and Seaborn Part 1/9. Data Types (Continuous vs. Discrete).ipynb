{
 "cells": [
  {
   "cell_type": "markdown",
   "metadata": {},
   "source": [
    "# Discrete vs. Continuous\n",
    "\n",
    "This quiz will assure you have a clear understanding of the differences between quantitative continuous vs. discrete variables. All the variables below are quantitative. Your task is select the **check** box next to each variable that is **continuous**; do not check the discrete variables."
   ]
  },
  {
   "cell_type": "code",
   "execution_count": null,
   "metadata": {},
   "outputs": [],
   "source": [
    "# Answer\n",
    "\n",
    "    -Travel Distance from Home to Work\n",
    "    -Amount of Rain in a Year\n",
    "    -Time to Run a Mile\n",
    "    -Amount of Water Consumed in a Day"
   ]
  }
 ],
 "metadata": {
  "kernelspec": {
   "display_name": "Python 3",
   "language": "python",
   "name": "python3"
  },
  "language_info": {
   "codemirror_mode": {
    "name": "ipython",
    "version": 3
   },
   "file_extension": ".py",
   "mimetype": "text/x-python",
   "name": "python",
   "nbconvert_exporter": "python",
   "pygments_lexer": "ipython3",
   "version": "3.8.3"
  }
 },
 "nbformat": 4,
 "nbformat_minor": 4
}
