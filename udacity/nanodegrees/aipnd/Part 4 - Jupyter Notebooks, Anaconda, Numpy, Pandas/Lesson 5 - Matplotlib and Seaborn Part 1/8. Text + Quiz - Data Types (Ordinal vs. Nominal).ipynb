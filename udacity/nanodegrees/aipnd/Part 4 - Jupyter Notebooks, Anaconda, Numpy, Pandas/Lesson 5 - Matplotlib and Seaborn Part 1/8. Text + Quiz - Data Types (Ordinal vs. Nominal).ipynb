{
 "cells": [
  {
   "cell_type": "markdown",
   "metadata": {},
   "source": [
    "# Nominal vs. Ordinal\n",
    "This quiz will assure you have a clear understanding of the differences between categorical nominal vs. categorical ordinal variables. All fo the variables below are categorical. Your task is to select the **check** box next to each variable that is **nominal**; do not check the ordinal categorical variables."
   ]
  },
  {
   "cell_type": "code",
   "execution_count": null,
   "metadata": {},
   "outputs": [],
   "source": [
    "Answer:\n",
    "    \n",
    "    -Types of Fruit (Apple, Banana, etc.)\n",
    "    -Types of Dog Breeds (German Shepherd, Collie, etc.)\n",
    "    -Genres of Movies (Horror, Comedy, etc.)\n",
    "    -Gender\n",
    "    -Nationality"
   ]
  }
 ],
 "metadata": {
  "kernelspec": {
   "display_name": "Python 3",
   "language": "python",
   "name": "python3"
  },
  "language_info": {
   "codemirror_mode": {
    "name": "ipython",
    "version": 3
   },
   "file_extension": ".py",
   "mimetype": "text/x-python",
   "name": "python",
   "nbconvert_exporter": "python",
   "pygments_lexer": "ipython3",
   "version": "3.8.3"
  }
 },
 "nbformat": 4,
 "nbformat_minor": 4
}
