{
 "cells": [
  {
   "cell_type": "markdown",
   "metadata": {},
   "source": [
    "For each variable below, identify each as either **quantitative** or **categorical**."
   ]
  },
  {
   "cell_type": "markdown",
   "metadata": {},
   "source": [
    "| Variable | Data Type |\n",
    "| ---| --- |\n",
    "| Categorical | Zip Code |\n",
    "| Quantitative | Age |\n",
    "| Categorical | Marital Status (Single, Married, Divorced, etc.) |\n",
    "| Quantitative | Income |\n",
    "| Quantitative | Height |"
   ]
  },
  {
   "cell_type": "markdown",
   "metadata": {},
   "source": [
    "For each variable below, identify each as either **quantitative** or **categorical**."
   ]
  },
  {
   "cell_type": "markdown",
   "metadata": {},
   "source": [
    "| Variable | Data Type |\n",
    "| ---| --- |\n",
    "| Quantitative | Travel Distance to Work |\n",
    "| Quantitative | Temperature |\n",
    "| Categorical | Letter Grades (A+, A, A-, B+, B, B-, ...) |\n",
    "| Categorical | Ratings on a Survey (Poor, Ok, Great) |\n",
    "| Quantitative | Average Speed |"
   ]
  },
  {
   "cell_type": "code",
   "execution_count": null,
   "metadata": {},
   "outputs": [],
   "source": []
  }
 ],
 "metadata": {
  "kernelspec": {
   "display_name": "Python 3",
   "language": "python",
   "name": "python3"
  },
  "language_info": {
   "codemirror_mode": {
    "name": "ipython",
    "version": 3
   },
   "file_extension": ".py",
   "mimetype": "text/x-python",
   "name": "python",
   "nbconvert_exporter": "python",
   "pygments_lexer": "ipython3",
   "version": "3.8.3"
  }
 },
 "nbformat": 4,
 "nbformat_minor": 4
}
