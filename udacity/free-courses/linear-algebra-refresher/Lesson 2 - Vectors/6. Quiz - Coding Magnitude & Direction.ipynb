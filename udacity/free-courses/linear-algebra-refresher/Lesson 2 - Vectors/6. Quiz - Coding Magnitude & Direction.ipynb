{
 "cells": [
  {
   "cell_type": "code",
   "execution_count": 7,
   "metadata": {},
   "outputs": [],
   "source": [
    "class Vector(object):\n",
    "    def __init__(self, coordinates):\n",
    "        try:\n",
    "            if not coordinates:\n",
    "                raise ValueError\n",
    "            self.coordinates = tuple(coordinates)\n",
    "            self.dimension = len(coordinates)\n",
    "\n",
    "        except ValueError:\n",
    "            raise ValueError('The coordinates must be nonempty')\n",
    "\n",
    "        except TypeError:\n",
    "            raise TypeError('The coordinates must be an iterable')\n",
    "\n",
    "\n",
    "    def __str__(self):\n",
    "        return 'Vector: {}'.format(self.coordinates)\n",
    "\n",
    "\n",
    "    def __eq__(self, v):\n",
    "        return self.coordinates == v.coordinates\n",
    "    \n",
    "    # Magnitude function\n",
    "    def magnitude(self):\n",
    "        # Square each coordinate in list comprehension, sum them,\n",
    "        # then square root the result\n",
    "        return sum([x**2 for x in self.coordinates])** 0.5\n",
    "    \n",
    "    # Direction function\n",
    "    def direction(self):\n",
    "        # Divide each coordinate by magnitude\n",
    "        mg = self.magnitude()\n",
    "        return Vector([x / mg for x in self.coordinates])"
   ]
  },
  {
   "cell_type": "code",
   "execution_count": 4,
   "metadata": {},
   "outputs": [
    {
     "name": "stdout",
     "output_type": "stream",
     "text": [
      "7.440282924728065\n"
     ]
    }
   ],
   "source": [
    "# Test Magnitude function\n",
    "x = Vector([-0.221, 7.437])\n",
    "print(x.magnitude())\n",
    "# Answer should be 7.44028"
   ]
  },
  {
   "cell_type": "code",
   "execution_count": 5,
   "metadata": {},
   "outputs": [
    {
     "name": "stdout",
     "output_type": "stream",
     "text": [
      "10.884187567292289\n"
     ]
    }
   ],
   "source": [
    "# Test Magnitude 2\n",
    "y = Vector([8.813, -1.331, -6.247])\n",
    "print(y.magnitude())\n",
    "# Answer should be 10.884"
   ]
  },
  {
   "cell_type": "code",
   "execution_count": 8,
   "metadata": {
    "scrolled": true
   },
   "outputs": [
    {
     "name": "stdout",
     "output_type": "stream",
     "text": [
      "Vector: (0.9339352140866403, -0.35744232526233)\n"
     ]
    }
   ],
   "source": [
    "# Test Direction function\n",
    "x = Vector([5.581, -2.136])\n",
    "print(x.direction())\n",
    "# Answer should be [0.9339, -0.3574]"
   ]
  },
  {
   "cell_type": "code",
   "execution_count": 9,
   "metadata": {},
   "outputs": [
    {
     "name": "stdout",
     "output_type": "stream",
     "text": [
      "Vector: (0.3404012959433014, 0.5300437012984873, -0.7766470449528028)\n"
     ]
    }
   ],
   "source": [
    "# Test Direction 2\n",
    "y = Vector([1.996, 3.108, -4.554])\n",
    "print(y.direction())\n",
    "# Answer should be [0.3404, 0.53, -0.7766]"
   ]
  },
  {
   "cell_type": "code",
   "execution_count": null,
   "metadata": {},
   "outputs": [],
   "source": [
    "# NOTE: For normalize vector, also consider\n",
    "# the case if the magnitude is 0.\n",
    "\n",
    "def direction(self):\n",
    "        try:\n",
    "            mg = self.magnitude()\n",
    "            return Vector([x / mg for x in self.coordinates])\n",
    "        except ZeroDivisionError:\n",
    "            raise Exception('Cannot normalize zero vecotr')"
   ]
  }
 ],
 "metadata": {
  "kernelspec": {
   "display_name": "Python 3",
   "language": "python",
   "name": "python3"
  },
  "language_info": {
   "codemirror_mode": {
    "name": "ipython",
    "version": 3
   },
   "file_extension": ".py",
   "mimetype": "text/x-python",
   "name": "python",
   "nbconvert_exporter": "python",
   "pygments_lexer": "ipython3",
   "version": "3.8.3"
  }
 },
 "nbformat": 4,
 "nbformat_minor": 4
}
