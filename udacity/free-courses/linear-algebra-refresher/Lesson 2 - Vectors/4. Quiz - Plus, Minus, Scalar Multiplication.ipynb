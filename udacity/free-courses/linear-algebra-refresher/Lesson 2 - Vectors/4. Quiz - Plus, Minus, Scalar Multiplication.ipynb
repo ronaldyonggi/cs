{
 "cells": [
  {
   "cell_type": "code",
   "execution_count": 2,
   "metadata": {},
   "outputs": [],
   "source": [
    "class Vector(object):\n",
    "    def __init__(self, coordinates):\n",
    "        try:\n",
    "            if not coordinates:\n",
    "                raise ValueError\n",
    "            self.coordinates = tuple(coordinates)\n",
    "            self.dimension = len(coordinates)\n",
    "\n",
    "        except ValueError:\n",
    "            raise ValueError('The coordinates must be nonempty')\n",
    "\n",
    "        except TypeError:\n",
    "            raise TypeError('The coordinates must be an iterable')\n",
    "\n",
    "\n",
    "    def __str__(self):\n",
    "        return 'Vector: {}'.format(self.coordinates)\n",
    "\n",
    "\n",
    "    def __eq__(self, v):\n",
    "        return self.coordinates == v.coordinates\n",
    "    \n",
    "    # Plus function. v is the other Vector\n",
    "    # to be added.\n",
    "    def plus(self, v):\n",
    "        # Iterate through each element in coordinates of both\n",
    "        # vectors and add them together.\n",
    "        return Vector([a + b for a, b in zip(self.coordinates, v.coordinates)])\n",
    "            \n",
    "    # Minus function\n",
    "    def minus(self, v):\n",
    "        return Vector([a - b for a, b in zip(self.coordinates, v.coordinates)])\n",
    "    \n",
    "    # Scalar multiplication function\n",
    "    def scalar(self, s):\n",
    "        return Vector([s*i for i in self.coordinates])"
   ]
  },
  {
   "cell_type": "code",
   "execution_count": 4,
   "metadata": {},
   "outputs": [
    {
     "name": "stdout",
     "output_type": "stream",
     "text": [
      "Vector: (7.089, -7.229999999999999)\n"
     ]
    }
   ],
   "source": [
    "# Test plus function\n",
    "x = Vector([8.218, -9.341])\n",
    "y = Vector([-1.129, 2.111])\n",
    "print(x.plus(y))\n",
    "# Answer should be [7.089, -7.230]"
   ]
  },
  {
   "cell_type": "code",
   "execution_count": 5,
   "metadata": {},
   "outputs": [
    {
     "name": "stdout",
     "output_type": "stream",
     "text": [
      "Vector: (15.342, 7.337)\n"
     ]
    }
   ],
   "source": [
    "# Test minus function\n",
    "x = Vector([7.119, 8.215])\n",
    "y = Vector([-8.223, 0.878])\n",
    "print(x.minus(y))\n",
    "# Answer should be [15.342, 7.337]"
   ]
  },
  {
   "cell_type": "code",
   "execution_count": 6,
   "metadata": {},
   "outputs": [
    {
     "name": "stdout",
     "output_type": "stream",
     "text": [
      "Vector: (12.38211, -7.49892, -2.35638)\n"
     ]
    }
   ],
   "source": [
    "# Test scalar multiplication function\n",
    "x = Vector([1.671, -1.012, -0.318])\n",
    "print(x.scalar(7.41))\n",
    "# Answer should be [12.382, -7.499, -2.356]"
   ]
  },
  {
   "cell_type": "code",
   "execution_count": null,
   "metadata": {},
   "outputs": [],
   "source": []
  }
 ],
 "metadata": {
  "kernelspec": {
   "display_name": "Python 3",
   "language": "python",
   "name": "python3"
  },
  "language_info": {
   "codemirror_mode": {
    "name": "ipython",
    "version": 3
   },
   "file_extension": ".py",
   "mimetype": "text/x-python",
   "name": "python",
   "nbconvert_exporter": "python",
   "pygments_lexer": "ipython3",
   "version": "3.8.3"
  }
 },
 "nbformat": 4,
 "nbformat_minor": 4
}
