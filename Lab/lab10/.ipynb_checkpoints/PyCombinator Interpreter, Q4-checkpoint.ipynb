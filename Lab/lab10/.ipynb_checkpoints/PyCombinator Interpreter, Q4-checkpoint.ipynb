{
 "cells": [
  {
   "cell_type": "code",
   "execution_count": 11,
   "metadata": {},
   "outputs": [],
   "source": [
    "import buffer, expr, reader, repl, utils"
   ]
  },
  {
   "cell_type": "markdown",
   "metadata": {},
   "source": [
    "# PyCombinator Interpreter"
   ]
  },
  {
   "cell_type": "markdown",
   "metadata": {},
   "source": [
    "We'll build PyCombinator, our own basic Python Interpreter. By the end of the lab, we'll be able to use primitives such as `add`, `mul`, `sub`, and we'll be able to create and call lambda functions.\n",
    "\n",
    "We'll implement some of the key parts that will allow us to evaluate the following commands and more:"
   ]
  },
  {
   "cell_type": "code",
   "execution_count": 2,
   "metadata": {},
   "outputs": [],
   "source": [
    "from operator import *"
   ]
  },
  {
   "cell_type": "code",
   "execution_count": 3,
   "metadata": {},
   "outputs": [
    {
     "data": {
      "text/plain": [
       "7"
      ]
     },
     "execution_count": 3,
     "metadata": {},
     "output_type": "execute_result"
    }
   ],
   "source": [
    "add(3, 4)"
   ]
  },
  {
   "cell_type": "code",
   "execution_count": 4,
   "metadata": {},
   "outputs": [
    {
     "data": {
      "text/plain": [
       "20"
      ]
     },
     "execution_count": 4,
     "metadata": {},
     "output_type": "execute_result"
    }
   ],
   "source": [
    "mul(4, 5)"
   ]
  },
  {
   "cell_type": "code",
   "execution_count": 5,
   "metadata": {},
   "outputs": [
    {
     "data": {
      "text/plain": [
       "-1"
      ]
     },
     "execution_count": 5,
     "metadata": {},
     "output_type": "execute_result"
    }
   ],
   "source": [
    "sub(2, 3)"
   ]
  },
  {
   "cell_type": "code",
   "execution_count": 6,
   "metadata": {},
   "outputs": [
    {
     "data": {
      "text/plain": [
       "4"
      ]
     },
     "execution_count": 6,
     "metadata": {},
     "output_type": "execute_result"
    }
   ],
   "source": [
    "(lambda: 4)()"
   ]
  },
  {
   "cell_type": "code",
   "execution_count": 7,
   "metadata": {},
   "outputs": [
    {
     "data": {
      "text/plain": [
       "8"
      ]
     },
     "execution_count": 7,
     "metadata": {},
     "output_type": "execute_result"
    }
   ],
   "source": [
    "(lambda x, y: add(y, x))(3, 5)"
   ]
  },
  {
   "cell_type": "code",
   "execution_count": 8,
   "metadata": {},
   "outputs": [
    {
     "data": {
      "text/plain": [
       "12"
      ]
     },
     "execution_count": 8,
     "metadata": {},
     "output_type": "execute_result"
    }
   ],
   "source": [
    "(lambda x: lambda y: mul(x, y))(3)(4)"
   ]
  },
  {
   "cell_type": "code",
   "execution_count": 9,
   "metadata": {},
   "outputs": [
    {
     "data": {
      "text/plain": [
       "1"
      ]
     },
     "execution_count": 9,
     "metadata": {},
     "output_type": "execute_result"
    }
   ],
   "source": [
    "(lambda f: f(0))(lambda x: pow(2, x))"
   ]
  },
  {
   "cell_type": "markdown",
   "metadata": {},
   "source": [
    "We can find the **Read-Eval-Print Loop** code for our interpreter in `repl.py`. Here is an overview of eachof the REPL components:\n",
    "\n",
    "\n",
    "**1.** **Read**: The function `read` in `reader.py` calls the following 2 functions to parse user input.\n",
    "* The **lexer** is the function **tokenize** in **reader.py** which splits the user input string into tokens\n",
    "* The **parser** is the function **read_expr** in **reader.py** which parses the tokens and turns expressions into instances of subclasses of the class **Expr** in **expr.py** (e.g. **CallExpr**)\n",
    "\n",
    "**2.** **Eval**: Expressions (represented as `Expr` objects) are evaluated to obtain values (represented as `Value` objects, also in `expr.py`)\n",
    "* Eval: Each type of expression has its own **eval** method which is called to evaluate it\n",
    "* Apply: Call expressions are evaluated by calling the operator's **apply** method on the arguments. For lambda procedures, **apply** calls **eval** to evaluate the body of the function.\n",
    "* Print: The `__str__` representation of the obtained value is printed."
   ]
  },
  {
   "cell_type": "markdown",
   "metadata": {},
   "source": [
    "In this lab, we'll only be implementing the `Eval` and `Apply` steps in `expr.py`. We can start the PyCombinator interpreter by running the following command:"
   ]
  },
  {
   "cell_type": "code",
   "execution_count": null,
   "metadata": {},
   "outputs": [],
   "source": [
    "# Assume this is a terminal\n",
    "$ python3 repl.py"
   ]
  },
  {
   "cell_type": "markdown",
   "metadata": {},
   "source": [
    "Right now, any names (e.g. `add`) and call expressions (e.g. `add(2, 3)`) will output `None`. It's our job to implement `Name.eval` and `CallExpr.eval` so that we can look up names and call functions in our interpreter!"
   ]
  },
  {
   "cell_type": "code",
   "execution_count": null,
   "metadata": {},
   "outputs": [],
   "source": [
    ">>> add\n",
    "None\n",
    ">>> add(2, 3)\n",
    "None"
   ]
  },
  {
   "cell_type": "markdown",
   "metadata": {},
   "source": [
    "We don't have to understand how the `read` component of our interpreter is implemented, but if we want a better idea of how user input is read and transformed into Python code, we can use the `--read` flag when running the interpreter."
   ]
  },
  {
   "cell_type": "code",
   "execution_count": null,
   "metadata": {},
   "outputs": [],
   "source": [
    "# Assume this is a terminal\n",
    "$ python3 repl.py --read\n",
    ">>> add\n",
    "Name('add')\n",
    ">>> 3\n",
    "Literal(3)\n",
    ">>> lambda x: mul(x, x)\n",
    "LambdaExpr(['x'], CallExpr(Name('mul'), [Name('x'), Name('x')]))\n",
    ">>> add(2, 3)\n",
    "CallExpr(Name('add'), [Literal(2), Literal(3)])"
   ]
  },
  {
   "cell_type": "markdown",
   "metadata": {},
   "source": [
    "## Q4: Prologue\n",
    "Here is the breakdown of our implementations:\n",
    "\n",
    "**1.** `repl.py` contains the logic for the REPL loop, which repeatedly reads expressions as user input, evaluates them, and prints out their values (we don't have to completely understand all the code in this file)\n",
    "\n",
    "**2.** `reader.py` contains our interpreter's reader. The function `read` calls the function `tokenize` and `read_expr` to turn an expression string into an `Expr` object (we don't have to completely understand all the code in this file).\n",
    "\n",
    "**3.** `expr.py` contains our interpreter's representation of expressions and values. The subclasses of `Expr` and `Value` encapsulate all the types of expressions and values in the PyCombinator language. The global environment, a dictionary containing the bindings for primitive functions, is also defined at the bottom of this file.\n",
    "\n"
   ]
  },
  {
   "cell_type": "code",
   "execution_count": null,
   "metadata": {},
   "outputs": [],
   "source": [
    "$ python3 ok -q prologue_reader -u"
   ]
  },
  {
   "cell_type": "markdown",
   "metadata": {},
   "source": [
    "Q: What does REPL stand for?\n",
    "\n",
    "0. Really-Enormous-Purple-Llamas\n",
    "1. Read-Eval-Parse-Lex\n",
    "2. Read-Eval-Print-Loop\n",
    "\n",
    "Ans: 2"
   ]
  },
  {
   "cell_type": "markdown",
   "metadata": {},
   "source": [
    "Q: What does the `read` component of the REPL loop do?\n",
    "\n",
    "0. Evaluates call expressions\n",
    "1. Turns input into a useful data structure\n",
    "2. Turns input into tokens\n",
    "3. Ensures a function has been defined before it is called\n",
    "\n",
    "Ans: 1"
   ]
  },
  {
   "cell_type": "markdown",
   "metadata": {},
   "source": [
    "What does the tokenize function in `reader.py` return?\n",
    "\n",
    "0. Input expression represented as a list of tokens\n",
    "1. Input expression represented as an instance of a subclass of `Expr`\n",
    "2. Input expression with corrected number of parentheses\n",
    "3. Result of evaluating the input expression\n",
    "\n",
    "Ans: 0"
   ]
  },
  {
   "cell_type": "markdown",
   "metadata": {},
   "source": [
    "What will tokenize('add(3, 4)') output?\n",
    "\n",
    "0. `['add', '(', 3, ',', 4, ')']`\n",
    "1. `['a', 'd', 'd', '(', 3, ',', 4, ')']`\n",
    "2. `['add', '(', '3', ',', '4', ')']`\n",
    "3. `['a', 'd', 'd', '(', '3', ',', '4', ')']`\n",
    "\n",
    "Ans: 0"
   ]
  },
  {
   "cell_type": "markdown",
   "metadata": {},
   "source": [
    "What will `tokenize('(lambda: 4)()')` output?\n",
    "\n",
    "0. `['(', LambdaExpr, 4, ')', '(', ')']`\n",
    "1. `['(', LambdaExpr, ':', 4, ')', '(', ')']`\n",
    "2. `['lambda', 4, '(', ')']`\n",
    "3. `['(', 'lambda', ':', 4, ')', '(', ')']`\n",
    "\n",
    "Ans: 3"
   ]
  },
  {
   "cell_type": "markdown",
   "metadata": {},
   "source": [
    "What does the `read_expr` function in `reader.py` accept as input and return?  (looking at the read function may help answer this question)\n",
    "\n",
    "0. List of tokens and an instance of a subclass of `Expr`\n",
    "1. Input expression and list of tokens\n",
    "2. List of tokens and number of parentheses\n",
    "3. Input expression and an instance of a subclass of `Expr`\n",
    "\n",
    "Ans: 0"
   ]
  },
  {
   "cell_type": "markdown",
   "metadata": {},
   "source": [
    "What does the read function in reader.py return?\n",
    "\n",
    "0. Input expression with corrected number of parentheses\n",
    "1. Result of evaluating the input expression\n",
    "2. Input expression represented as an instance of a subclass of Expr\n",
    "3. Input expression represented as a list of tokens\n",
    "\n",
    "Ans: 2"
   ]
  },
  {
   "cell_type": "markdown",
   "metadata": {},
   "source": [
    "What will read('1') output?\n",
    "\n",
    "0. `Name('1')`\n",
    "1. `Name(1)`\n",
    "2. `Literal(1)`\n",
    "3. `Number(1)`\n",
    "\n",
    "Ans: 2"
   ]
  },
  {
   "cell_type": "markdown",
   "metadata": {},
   "source": [
    "What will read('x') output?\n",
    "\n",
    "\n",
    "0. `Name(x)`\n",
    "1. `Name('x')`\n",
    "2. `Literal(x)`\n",
    "3. `x`"
   ]
  },
  {
   "cell_type": "markdown",
   "metadata": {},
   "source": [
    "What will read('add(3, 4)') output?\n",
    "\n",
    "\n",
    "0. `CallExpr(Literal('add'), Literal(3), Literal(4))`\n",
    "1. `CallExpr(Name('add'), Literal(3), Literal(4))`\n",
    "2. `CallExpr(Name('add'), [Literal(3), Literal(4)])`\n",
    "3. `CallExpr('add', [Literal(3), Literal(4)])`\n",
    "\n",
    "Ans: 2"
   ]
  },
  {
   "cell_type": "code",
   "execution_count": null,
   "metadata": {},
   "outputs": [],
   "source": [
    "$ python ok -q prologue_expr -u"
   ]
  },
  {
   "cell_type": "markdown",
   "metadata": {},
   "source": [
    "What are all the types of expressions in PyCombinator?\n",
    "\n",
    "0. name, function, number, literal\n",
    "1. value, expression, function, number\n",
    "2. number, lambda function, primitive function, string\n",
    "3. literal, name, call expression, lambda expression\n",
    "\n",
    "Ans: 3"
   ]
  },
  {
   "cell_type": "markdown",
   "metadata": {},
   "source": [
    "What are all the types of values in PyCombinator?\n",
    "\n",
    "0. number, lambda expression, primitive function\n",
    "1. name, number, lambda function\n",
    "2. number, lambda function, primitive function\n",
    "3. number, string, function\n",
    "\n",
    "Ans: 2"
   ]
  },
  {
   "cell_type": "markdown",
   "metadata": {},
   "source": [
    "What does a Literal evaluate to?\n",
    "\n",
    "0. a Number\n",
    "1. a String\n",
    "2. an Expression\n",
    "3. a Function\n",
    "\n",
    "Ans: 0"
   ]
  },
  {
   "cell_type": "markdown",
   "metadata": {},
   "source": [
    "Q: What is the difference between a lambda expression and a lambda function?\n",
    "\n",
    "0. They are the same thing\n",
    "1. A lambda function is the result of evaluating a lambda expression\n",
    "2. A lambda expression is a call to a lambda function\n",
    "3. A lambda expression is the result of evaluating a lambda function\n",
    "\n",
    "Ans: 1"
   ]
  },
  {
   "cell_type": "markdown",
   "metadata": {},
   "source": [
    "Which of the following describes the eval method?\n",
    "\n",
    "0. A method of LambdaExpression objects that evaluates a function call\n",
    "1. A method of Expr objects that evaluates the Expr and returns a Value\n",
    "2. A method of Expr objects that evaluates a call expression and returns a Number\n",
    "3. A method of Literal objects that returns a Name\n",
    "\n",
    "Ans: 1"
   ]
  },
  {
   "cell_type": "markdown",
   "metadata": {},
   "source": [
    "How are environments represented in our interpreter?\n",
    "\n",
    "0. As sequences of Frame objects\n",
    "1. As dictionaries that map variable names (strings) to Value objects\n",
    "2. As dictionaries that map Name objects to Value objects\n",
    "3. As linked lists containing dictionaries\n",
    "\n",
    "Ans: 1"
   ]
  }
 ],
 "metadata": {
  "kernelspec": {
   "display_name": "Python 3",
   "language": "python",
   "name": "python3"
  },
  "language_info": {
   "codemirror_mode": {
    "name": "ipython",
    "version": 3
   },
   "file_extension": ".py",
   "mimetype": "text/x-python",
   "name": "python",
   "nbconvert_exporter": "python",
   "pygments_lexer": "ipython3",
   "version": "3.6.8"
  }
 },
 "nbformat": 4,
 "nbformat_minor": 2
}
