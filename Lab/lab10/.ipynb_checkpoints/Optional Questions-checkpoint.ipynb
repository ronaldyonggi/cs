{
 "cells": [
  {
   "cell_type": "markdown",
   "metadata": {},
   "source": [
    "## Q7: Applying Lambda Functions"
   ]
  },
  {
   "cell_type": "markdown",
   "metadata": {},
   "source": [
    "If we look at the `LambdaFunction` class, the `__init__` method is defined as the following,"
   ]
  },
  {
   "cell_type": "code",
   "execution_count": null,
   "metadata": {},
   "outputs": [],
   "source": [
    "class LambdaFunction(Value):\n",
    "    \"\"\"A lambda function. Lambda functions are created in the LambdaExpr.eval\n",
    "    method. A lambda function is a lambda expression that knows the\n",
    "    environment in which it was evaluated in.\n",
    "\n",
    "    The `parameters` attribute is a list of variable names (a list of strings).\n",
    "    The `body` attribute is an instance of `Expr`, the body of the function.\n",
    "    The `parent` attribute is an environment, a dictionary with variable names\n",
    "        (strings) as keys and instances of the class Value as values.\n",
    "    \"\"\"\n",
    "    def __init__(self, parameters, body, parent):\n",
    "        Value.__init__(self, parameters, body, parent)\n",
    "        self.parameters = parameters\n",
    "        self.body = body\n",
    "        self.parent = parent"
   ]
  },
  {
   "cell_type": "markdown",
   "metadata": {},
   "source": [
    "As we can see, the `LambdaFunction`'s `parent` environment is accessible as the instance's `parent` attribute. We can create a copy by the following,"
   ]
  },
  {
   "cell_type": "code",
   "execution_count": null,
   "metadata": {},
   "outputs": [],
   "source": [
    "copied = self.parent.copy()"
   ]
  },
  {
   "cell_type": "markdown",
   "metadata": {},
   "source": [
    "If we try to debug by printing out the `self.parameters` like the following,"
   ]
  }
 ],
 "metadata": {
  "kernelspec": {
   "display_name": "Python 3",
   "language": "python",
   "name": "python3"
  },
  "language_info": {
   "codemirror_mode": {
    "name": "ipython",
    "version": 3
   },
   "file_extension": ".py",
   "mimetype": "text/x-python",
   "name": "python",
   "nbconvert_exporter": "python",
   "pygments_lexer": "ipython3",
   "version": "3.6.8"
  }
 },
 "nbformat": 4,
 "nbformat_minor": 2
}
