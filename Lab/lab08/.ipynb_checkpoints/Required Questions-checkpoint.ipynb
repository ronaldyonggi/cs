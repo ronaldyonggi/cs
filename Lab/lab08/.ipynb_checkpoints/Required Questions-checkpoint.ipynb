{
 "cells": [
  {
   "cell_type": "code",
   "execution_count": 1,
   "metadata": {},
   "outputs": [],
   "source": [
    "from lab08 import *"
   ]
  },
  {
   "cell_type": "markdown",
   "metadata": {},
   "source": [
    "## Q1: Deep Linked List Length"
   ]
  },
  {
   "cell_type": "markdown",
   "metadata": {},
   "source": [
    "#### Strategy\n",
    "Since we want a return value of a sum or a total number of something, chances are we would need to `return 1 + something`. In this case, the base case is that by the time we reach the end of the linked list, return `0`."
   ]
  },
  {
   "cell_type": "code",
   "execution_count": null,
   "metadata": {},
   "outputs": [],
   "source": [
    "if not lnk:\n",
    "    return 0"
   ]
  },
  {
   "cell_type": "markdown",
   "metadata": {},
   "source": [
    "Now if we come across a deep linked list, this means the `.first` attribute is a linked list. HOWEVER, don't forget that this deep linked list also has a `.rest`. Take into account both of them and call recursive `deep_len` on both!"
   ]
  },
  {
   "cell_type": "code",
   "execution_count": null,
   "metadata": {},
   "outputs": [],
   "source": [
    "if isinstance(lnk.first, Link):\n",
    "    return deep_len(lnk.first) + deep_len(lnk.rest)"
   ]
  },
  {
   "cell_type": "markdown",
   "metadata": {},
   "source": [
    "Otherwise, we are coming across a regular linked list, in which we would return 1 and the result of calling recursive `deep_len` on the `link.rest`."
   ]
  },
  {
   "cell_type": "code",
   "execution_count": null,
   "metadata": {},
   "outputs": [],
   "source": [
    "return 1 + deep_len(lnk.rest)"
   ]
  },
  {
   "cell_type": "markdown",
   "metadata": {},
   "source": [
    "The implementation would be as the following,"
   ]
  },
  {
   "cell_type": "code",
   "execution_count": 2,
   "metadata": {},
   "outputs": [],
   "source": [
    "def deep_len(lnk):\n",
    "    if not lnk:\n",
    "        return 0\n",
    "    if isinstance(lnk.first, link):\n",
    "        return deep_len(lnk.first) + deep_len(lnk.rest)\n",
    "    return 1 + deep_len(lnk.rest)"
   ]
  },
  {
   "cell_type": "markdown",
   "metadata": {},
   "source": [
    "# Orders of Growth"
   ]
  },
  {
   "cell_type": "markdown",
   "metadata": {},
   "source": [
    "## Q2: Finding Orders of Growth"
   ]
  },
  {
   "cell_type": "markdown",
   "metadata": {},
   "source": [
    "What is the order of growth of the following in terms of `n`?"
   ]
  },
  {
   "cell_type": "code",
   "execution_count": null,
   "metadata": {},
   "outputs": [],
   "source": [
    "def is_prime(n):\n",
    "    for i in range(2, n):\n",
    "        if n % i == 0:\n",
    "            return False\n",
    "    return True"
   ]
  },
  {
   "cell_type": "markdown",
   "metadata": {},
   "source": [
    "**Ans**: If not prime: $\\Theta(1)$. If prime: $\\Theta(n)$.\n",
    "\n",
    "#### Explanation:\n",
    "If a number is not a prime number, it is likely that it is divisible by a number between 2 to 9 and thus, `False` would be returned in a short time. On the other hand, if a number is a prime number, that number is not divisible by itself and thus, Python would return `True` only after the iteration reaches the number itself, `n`."
   ]
  },
  {
   "cell_type": "markdown",
   "metadata": {},
   "source": [
    "What is the order of growth of `bar` in terms of `n`?"
   ]
  },
  {
   "cell_type": "code",
   "execution_count": 3,
   "metadata": {},
   "outputs": [],
   "source": [
    "def bar(n):\n",
    "    i, sum = 1, 0\n",
    "    while i <= n:\n",
    "        sum += biz(n)\n",
    "        i += 1\n",
    "    return sum\n",
    "\n",
    "def biz(n):\n",
    "    i, sum = 1, 0\n",
    "    while i <= n:\n",
    "        sum += i ** 3\n",
    "        i += 1\n",
    "    return sum"
   ]
  },
  {
   "cell_type": "markdown",
   "metadata": {},
   "source": [
    "**Ans**: $\\Theta(n^2)$.\n",
    "\n",
    "The `bar` function iterates `n` times. For each iteration, `biz(n)` is called. \n",
    "\n",
    "Beware with the `biz` function. The `i ** 3` term might fool us, since it might seem that it boosts the iteration, while in actuality it only affects the `sum`. The iteration itself is still executed for the whole range from `i` to `n`, with each iteration taking constant time. Thus, the total time `biz(n)` takes is $n \\times \\Theta(1)$, or $\\Theta(n)$.\n",
    "\n",
    "Since we're iterating `bar` `n` times, the total runtime of bar is $n \\times \\Theta(n)$, or $\\Theta(n^2)$."
   ]
  },
  {
   "cell_type": "markdown",
   "metadata": {},
   "source": [
    "What is the order of growth of `foo` in terms of `n`, where `n` is the length of `lst`? Assume that slicing a list and calling `len` on a list can be done in constant time."
   ]
  },
  {
   "cell_type": "code",
   "execution_count": null,
   "metadata": {},
   "outputs": [],
   "source": [
    "def foo(lst, i):\n",
    "    mid = len(lst) // 2\n",
    "    if mid == 0:\n",
    "        return lst\n",
    "    elif i > 0:\n",
    "        return foo(lst[mid:], -1)\n",
    "    else:\n",
    "        return foo(lst[:mid], 1)"
   ]
  },
  {
   "cell_type": "markdown",
   "metadata": {},
   "source": [
    "**Ans**: $\\Theta(log(n))$\n",
    "\n",
    "For every `foo` call, the recursive call is called on half of the list until there's at most 1 element left. In other words, we are cutting the list by half until 1 element is left, which means there are $log(n)$ calls. For each call, constant work is done if we ignore the recursive call and thus, the total runtime is $log(n) \\times \\Theta(1)$.\n",
    "\n",
    "Note that we simplified the problem by assuming that slicing takes a constant time. In reality, the slicing operation is more nuanced and may take linear time."
   ]
  },
  {
   "cell_type": "markdown",
   "metadata": {},
   "source": [
    "# Recursion & Tree Recursion"
   ]
  },
  {
   "cell_type": "markdown",
   "metadata": {},
   "source": [
    "## Q3: Subsequences"
   ]
  },
  {
   "cell_type": "markdown",
   "metadata": {},
   "source": [
    "#### `insert_into_all`"
   ]
  },
  {
   "cell_type": "markdown",
   "metadata": {},
   "source": [
    "One way of implementing this is to iterate through all the items in the nested list and use the `insert` method to each item."
   ]
  },
  {
   "cell_type": "code",
   "execution_count": 4,
   "metadata": {},
   "outputs": [],
   "source": [
    "def insert_into_all(item, nested_list):\n",
    "    for lst in nested_list:\n",
    "        lst.insert(0, item)\n",
    "    return nested_list"
   ]
  },
  {
   "cell_type": "markdown",
   "metadata": {},
   "source": [
    "Even a shorter solution is to add the item in form of a list (enclosed in square brackets) with each of the list in the nested list"
   ]
  },
  {
   "cell_type": "code",
   "execution_count": null,
   "metadata": {},
   "outputs": [],
   "source": [
    "[item] + list"
   ]
  },
  {
   "cell_type": "markdown",
   "metadata": {},
   "source": [
    "And apply the logic above to each of `nested_list` using list comprehension. The implementation would look like the following,"
   ]
  },
  {
   "cell_type": "code",
   "execution_count": 1,
   "metadata": {},
   "outputs": [],
   "source": [
    "def insert_into_all(item, nested_list):\n",
    "    return [[item] + lst for lst in nested_list]"
   ]
  },
  {
   "cell_type": "code",
   "execution_count": 2,
   "metadata": {},
   "outputs": [
    {
     "data": {
      "text/plain": [
       "TestResults(failed=0, attempted=2)"
      ]
     },
     "execution_count": 2,
     "metadata": {},
     "output_type": "execute_result"
    }
   ],
   "source": [
    "\n",
    "\"\"\"Assuming that nested_list is a list of lists, return a new list\n",
    "    consisting of all the lists in nested_list, but with item added to\n",
    "    the front of each.\n",
    "\n",
    "    >>> nl = [[], [1, 2], [3]]\n",
    "    >>> insert_into_all(0, nl)\n",
    "    [[0], [0, 1, 2], [0, 3]]\n",
    "    \"\"\"\n",
    "import doctest\n",
    "doctest.testmod()"
   ]
  },
  {
   "cell_type": "code",
   "execution_count": null,
   "metadata": {},
   "outputs": [],
   "source": [
    "def subseqs(s):\n",
    "    if not s:\n",
    "        return [[]]\n",
    "    else:\n",
    "        return insert_into_all(s[0], subseqs(s[1:])) + subseqs(s[1:])"
   ]
  }
 ],
 "metadata": {
  "kernelspec": {
   "display_name": "Python 3",
   "language": "python",
   "name": "python3"
  },
  "language_info": {
   "codemirror_mode": {
    "name": "ipython",
    "version": 3
   },
   "file_extension": ".py",
   "mimetype": "text/x-python",
   "name": "python",
   "nbconvert_exporter": "python",
   "pygments_lexer": "ipython3",
   "version": "3.6.8"
  }
 },
 "nbformat": 4,
 "nbformat_minor": 2
}
