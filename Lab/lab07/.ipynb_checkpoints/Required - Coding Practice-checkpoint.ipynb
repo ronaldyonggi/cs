{
 "cells": [
  {
   "cell_type": "code",
   "execution_count": null,
   "metadata": {},
   "outputs": [],
   "source": [
    "from lab07 import *"
   ]
  },
  {
   "cell_type": "markdown",
   "metadata": {},
   "source": [
    "## Q4: Link to List"
   ]
  },
  {
   "cell_type": "markdown",
   "metadata": {},
   "source": [
    "Write a function `link_to_list` that takes in a linked list and returns the sequence as a Python list. You may assume that the input list is shallow (none of the elements is another linked list, or in other words, no nested linked list)."
   ]
  },
  {
   "cell_type": "markdown",
   "metadata": {},
   "source": [
    "#### Strategy"
   ]
  },
  {
   "cell_type": "markdown",
   "metadata": {},
   "source": [
    "The base case is that if the currently selected linked list is empty, then just return an emtpy list."
   ]
  },
  {
   "cell_type": "code",
   "execution_count": null,
   "metadata": {},
   "outputs": [],
   "source": [
    "if not link:\n",
    "    return []"
   ]
  },
  {
   "cell_type": "markdown",
   "metadata": {},
   "source": [
    "Otherwise, we `return` the current `first` within a list bracket, added by the recursive `link_to_list` to the `link.rest`."
   ]
  },
  {
   "cell_type": "code",
   "execution_count": null,
   "metadata": {},
   "outputs": [],
   "source": [
    "return [link.first] + link_to_list(link.rest)"
   ]
  },
  {
   "cell_type": "markdown",
   "metadata": {},
   "source": [
    "The implementation would look like the following,"
   ]
  },
  {
   "cell_type": "code",
   "execution_count": 11,
   "metadata": {},
   "outputs": [],
   "source": [
    "def link_to_list(link):\n",
    "    if not link:\n",
    "        return []\n",
    "    return [link.first] + link_to_list(link.rest)"
   ]
  },
  {
   "cell_type": "code",
   "execution_count": 12,
   "metadata": {},
   "outputs": [
    {
     "data": {
      "text/plain": [
       "TestResults(failed=0, attempted=3)"
      ]
     },
     "execution_count": 12,
     "metadata": {},
     "output_type": "execute_result"
    }
   ],
   "source": [
    "\n",
    "\"\"\"Takes a linked list and returns a Python list with the same elements.\n",
    "\n",
    "    >>> link = Link(1, Link(2, Link(3, Link(4))))\n",
    "    >>> link_to_list(link)\n",
    "    [1, 2, 3, 4]\n",
    "    >>> link_to_list(Link.empty)\n",
    "    []\n",
    "    \"\"\"\n",
    "import doctest\n",
    "doctest.testmod()"
   ]
  },
  {
   "cell_type": "markdown",
   "metadata": {},
   "source": [
    "## Q5: Store Digits"
   ]
  },
  {
   "cell_type": "markdown",
   "metadata": {},
   "source": [
    "Write a function `store_digits` that takes in an integer `n` and returns a linked list where each element of the list is a digit of `n`."
   ]
  },
  {
   "cell_type": "markdown",
   "metadata": {},
   "source": [
    "#### Strategy"
   ]
  },
  {
   "cell_type": "markdown",
   "metadata": {},
   "source": [
    "The key idea is to know that if we have a linked list, we can always add an element to the head of the linked list."
   ]
  },
  {
   "cell_type": "code",
   "execution_count": null,
   "metadata": {},
   "outputs": [],
   "source": [
    "x = Link(3, Link(4))\n",
    "x = Link(2, x)\n",
    "x"
   ]
  },
  {
   "cell_type": "code",
   "execution_count": 4,
   "metadata": {},
   "outputs": [
    {
     "data": {
      "text/plain": [
       "Link(1, Link(2, Link(3, Link(4))))"
      ]
     },
     "execution_count": 4,
     "metadata": {},
     "output_type": "execute_result"
    }
   ],
   "source": [
    "x = Link(1, x)\n",
    "x"
   ]
  },
  {
   "cell_type": "markdown",
   "metadata": {},
   "source": [
    "In this case, we want to start adding from an empty linked list."
   ]
  },
  {
   "cell_type": "code",
   "execution_count": 5,
   "metadata": {},
   "outputs": [],
   "source": [
    "linked = Link.empty"
   ]
  },
  {
   "cell_type": "markdown",
   "metadata": {},
   "source": [
    "And while `n` is greater than 0, we'll keep adding to the head of the linked list by the last digit of `n`. Once the addition is over (end of the `while` loop), then we return the linked list."
   ]
  },
  {
   "cell_type": "code",
   "execution_count": null,
   "metadata": {},
   "outputs": [],
   "source": [
    "while n > 0:\n",
    "    linked = Link(n % 10, linked)\n",
    "    n = n // 10\n",
    "return linked"
   ]
  },
  {
   "cell_type": "markdown",
   "metadata": {},
   "source": [
    "The implementation would look like the following,"
   ]
  },
  {
   "cell_type": "code",
   "execution_count": 8,
   "metadata": {},
   "outputs": [],
   "source": [
    "def store_digits(n):\n",
    "    linked = Link.empty\n",
    "    while n > 0:\n",
    "        linked = Link(n % 10, linked)\n",
    "        n = n // 10\n",
    "    return linked"
   ]
  },
  {
   "cell_type": "code",
   "execution_count": null,
   "metadata": {},
   "outputs": [],
   "source": [
    "\n",
    "\"\"\"Stores the digits of a positive number n in a linked list.\n",
    "\n",
    "    >>> s = store_digits(1)\n",
    "    >>> s\n",
    "    Link(1)\n",
    "    >>> store_digits(2345)\n",
    "    Link(2, Link(3, Link(4, Link(5))))\n",
    "    >>> store_digits(876)\n",
    "    Link(8, Link(7, Link(6)))\n",
    "    \"\"\"\n",
    "import doctest\n",
    "doctest.testmod()"
   ]
  },
  {
   "cell_type": "code",
   "execution_count": null,
   "metadata": {},
   "outputs": [],
   "source": [
    "def store_digits(n):\n",
    "    Link(n%10, store_digits(n // 10))"
   ]
  }
 ],
 "metadata": {
  "kernelspec": {
   "display_name": "Python 3",
   "language": "python",
   "name": "python3"
  },
  "language_info": {
   "codemirror_mode": {
    "name": "ipython",
    "version": 3
   },
   "file_extension": ".py",
   "mimetype": "text/x-python",
   "name": "python",
   "nbconvert_exporter": "python",
   "pygments_lexer": "ipython3",
   "version": "3.6.8"
  }
 },
 "nbformat": 4,
 "nbformat_minor": 2
}
