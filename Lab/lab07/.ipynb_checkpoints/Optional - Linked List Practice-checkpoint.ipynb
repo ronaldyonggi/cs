{
 "cells": [
  {
   "cell_type": "code",
   "execution_count": 1,
   "metadata": {},
   "outputs": [],
   "source": [
    "from lab07 import *\n",
    "from lab07_extra import *"
   ]
  },
  {
   "cell_type": "markdown",
   "metadata": {},
   "source": [
    "# Linked List Practice"
   ]
  },
  {
   "cell_type": "markdown",
   "metadata": {},
   "source": [
    "## Q9: Remove All"
   ]
  },
  {
   "cell_type": "markdown",
   "metadata": {},
   "source": [
    "Implement a function `remove_all` that takes a `Link`, and a `value`, and remove any linked list node containing that value. You can assume the list already has at least one node containing `value` and the first element is never removed. Notice that you are not returning anything, so you should mutate the list."
   ]
  },
  {
   "cell_type": "markdown",
   "metadata": {},
   "source": [
    "#### Strategy"
   ]
  },
  {
   "cell_type": "markdown",
   "metadata": {},
   "source": [
    "The implementation is straightfoward: If we run across a `.first` that is the same as `value`, then we shift the linked list. However, what makes the problem tricky is what we can do and what we can't do.\n",
    "\n",
    "At first, we might think of the following implementation:\n",
    "\n",
    "1. Base case: if the linked list is empty, returns nothing"
   ]
  },
  {
   "cell_type": "code",
   "execution_count": null,
   "metadata": {},
   "outputs": [],
   "source": [
    "if not link:\n",
    "    return"
   ]
  },
  {
   "cell_type": "markdown",
   "metadata": {},
   "source": [
    "2. If `link.first` is equal to the `value`, then shift the link"
   ]
  },
  {
   "cell_type": "code",
   "execution_count": null,
   "metadata": {},
   "outputs": [],
   "source": [
    "if link.first == value:\n",
    "    link = link.rest"
   ]
  },
  {
   "cell_type": "markdown",
   "metadata": {},
   "source": [
    "However, there's a flaw with this implementation: \n",
    "\n",
    "#### `link` is not mutated at all! \n",
    "For example, see the following,"
   ]
  },
  {
   "cell_type": "code",
   "execution_count": 24,
   "metadata": {},
   "outputs": [
    {
     "data": {
      "text/plain": [
       "Link(1, Link(3, Link(4, Link(5, Link(6, Link(7))))))"
      ]
     },
     "execution_count": 24,
     "metadata": {},
     "output_type": "execute_result"
    }
   ],
   "source": [
    "a = Link(2, Link(1, Link(3, Link(4, Link(5, Link(6, Link(7)))))))\n",
    "\n",
    "def demo(link):\n",
    "    if link.first == 2:\n",
    "        link = link.rest\n",
    "    return link\n",
    "\n",
    "demo(a)"
   ]
  },
  {
   "cell_type": "markdown",
   "metadata": {},
   "source": [
    "As we can see, the resultof calling `demo` on `a` is the result of the change. However, is `a` actually mutated?"
   ]
  },
  {
   "cell_type": "code",
   "execution_count": 25,
   "metadata": {},
   "outputs": [
    {
     "data": {
      "text/plain": [
       "Link(2, Link(1, Link(3, Link(4, Link(5, Link(6, Link(7)))))))"
      ]
     },
     "execution_count": 25,
     "metadata": {},
     "output_type": "execute_result"
    }
   ],
   "source": [
    "a"
   ]
  },
  {
   "cell_type": "markdown",
   "metadata": {},
   "source": [
    "We can't mutate a linked list by assigning `link = link.rest`. To mutate a linked list, we need to shift the `link.rest` or its derivatives (`link.rest.rest`, `link.rest.rest.rest`, etc.) instead."
   ]
  },
  {
   "cell_type": "code",
   "execution_count": 27,
   "metadata": {},
   "outputs": [
    {
     "data": {
      "text/plain": [
       "Link(2, Link(3, Link(4, Link(5, Link(6, Link(7))))))"
      ]
     },
     "execution_count": 27,
     "metadata": {},
     "output_type": "execute_result"
    }
   ],
   "source": [
    "a = Link(2, Link(1, Link(3, Link(4, Link(5, Link(6, Link(7)))))))\n",
    "\n",
    "def demo(link):\n",
    "    if link.first == 2:\n",
    "        link.rest = link.rest.rest\n",
    "    return link\n",
    "\n",
    "demo(a)"
   ]
  },
  {
   "cell_type": "code",
   "execution_count": 28,
   "metadata": {},
   "outputs": [
    {
     "data": {
      "text/plain": [
       "Link(2, Link(3, Link(4, Link(5, Link(6, Link(7))))))"
      ]
     },
     "execution_count": 28,
     "metadata": {},
     "output_type": "execute_result"
    }
   ],
   "source": [
    "a"
   ]
  },
  {
   "cell_type": "markdown",
   "metadata": {},
   "source": [
    "As we can see above, the linked list `a` is mutated!\n",
    "\n",
    "Using the same idea but slightly modified:\n",
    "\n",
    "**1.** If `link.rest` is empty, then returns nothing"
   ]
  },
  {
   "cell_type": "code",
   "execution_count": null,
   "metadata": {},
   "outputs": [],
   "source": [
    "if not link.rest:\n",
    "    return"
   ]
  },
  {
   "cell_type": "markdown",
   "metadata": {},
   "source": [
    "**2.** If `link.second` is equal to value, then shift `link.rest`. Then call recursive `remove_all` on `link`."
   ]
  },
  {
   "cell_type": "code",
   "execution_count": null,
   "metadata": {},
   "outputs": [],
   "source": [
    "elif link.second == value:\n",
    "    link.rest = link.rest.rest\n",
    "    remove_all(link, value)"
   ]
  },
  {
   "cell_type": "markdown",
   "metadata": {},
   "source": [
    "**3.** Otherwise, skip the linked list that we're currently looking at and move on to the next linked list, calling `remove_all` on it."
   ]
  },
  {
   "cell_type": "code",
   "execution_count": null,
   "metadata": {},
   "outputs": [],
   "source": [
    "remove_all(link.rest, value)"
   ]
  },
  {
   "cell_type": "markdown",
   "metadata": {},
   "source": [
    "The implementation would look like the following:"
   ]
  },
  {
   "cell_type": "code",
   "execution_count": 29,
   "metadata": {},
   "outputs": [],
   "source": [
    "def remove_all(link, value):\n",
    "    if not link.rest:\n",
    "        return\n",
    "    elif link.second == value:\n",
    "        link.rest = link.rest.rest\n",
    "        remove_all(link, value)\n",
    "    else:\n",
    "        remove_all(link.rest, value)"
   ]
  },
  {
   "cell_type": "code",
   "execution_count": 32,
   "metadata": {},
   "outputs": [
    {
     "data": {
      "text/plain": [
       "TestResults(failed=0, attempted=6)"
      ]
     },
     "execution_count": 32,
     "metadata": {},
     "output_type": "execute_result"
    }
   ],
   "source": [
    "\n",
    "\"\"\"Remove all the nodes containing value. Assume there exists some\n",
    "    nodes to be removed and the first element is never removed.\n",
    "\n",
    "    >>> l1 = Link(0, Link(2, Link(2, Link(3, Link(1, Link(2, Link(3)))))))\n",
    "    >>> print(l1)\n",
    "    <0 2 2 3 1 2 3>\n",
    "    >>> remove_all(l1, 2)\n",
    "    >>> print(l1)\n",
    "    <0 3 1 3>\n",
    "    >>> remove_all(l1, 3)\n",
    "    >>> print(l1)\n",
    "    <0 1>\n",
    "    \"\"\"\n",
    "import doctest\n",
    "doctest.testmod()"
   ]
  },
  {
   "cell_type": "markdown",
   "metadata": {},
   "source": [
    "A shorter implementation as the following:"
   ]
  },
  {
   "cell_type": "code",
   "execution_count": 31,
   "metadata": {},
   "outputs": [],
   "source": [
    "def remove_all(link, value):\n",
    "    if link.rest:\n",
    "        remove_all(link.rest, value)\n",
    "        if link.second == value:\n",
    "            link.rest = link.rest.rest"
   ]
  },
  {
   "cell_type": "markdown",
   "metadata": {},
   "source": [
    "## Q10: Mutable Mapping"
   ]
  },
  {
   "cell_type": "markdown",
   "metadata": {},
   "source": [
    "Implement `deep_map_mut(fn, link)`, which applies a function `fn` onto all elements in the given linked list `link`. If an element is itself a linked list, apply `fn` to each of its elements, and so on.\n",
    "\n",
    "The implementation should mutate the original linked list. Do not create any new linked list.\n",
    "\n",
    "**Hint**: The built-in isinstance function may be useful."
   ]
  },
  {
   "cell_type": "code",
   "execution_count": 2,
   "metadata": {},
   "outputs": [
    {
     "data": {
      "text/plain": [
       "True"
      ]
     },
     "execution_count": 2,
     "metadata": {},
     "output_type": "execute_result"
    }
   ],
   "source": [
    "s = Link(1, Link(2, Link(3, Link(4))))\n",
    "isinstance(s, Link)"
   ]
  },
  {
   "cell_type": "code",
   "execution_count": 4,
   "metadata": {},
   "outputs": [
    {
     "data": {
      "text/plain": [
       "False"
      ]
     },
     "execution_count": 4,
     "metadata": {},
     "output_type": "execute_result"
    }
   ],
   "source": [
    "isinstance(s, int)"
   ]
  },
  {
   "cell_type": "markdown",
   "metadata": {},
   "source": [
    "#### Strategy"
   ]
  },
  {
   "cell_type": "markdown",
   "metadata": {},
   "source": [
    "The implementation is straightforward.\n",
    "\n",
    "**1.** Base case: if the linked list is empty, then return nothing"
   ]
  },
  {
   "cell_type": "code",
   "execution_count": null,
   "metadata": {},
   "outputs": [],
   "source": [
    "if not link:\n",
    "    return"
   ]
  },
  {
   "cell_type": "markdown",
   "metadata": {},
   "source": [
    "**2.** If we come across a nested linked list (the value of `link.first` is another linked list), then recursive call `deep_map_mut` on that `link.first`."
   ]
  },
  {
   "cell_type": "code",
   "execution_count": null,
   "metadata": {},
   "outputs": [],
   "source": [
    "if isinstance(link.first, Link):\n",
    "    deep_map_mut(fn, link.first)\n"
   ]
  },
  {
   "cell_type": "markdown",
   "metadata": {},
   "source": [
    "**3.** Otherwise, apply `fn` to the value in `link.first`, then at the end of the function definition, recursive call `deep_map_mut` on `link.rest`"
   ]
  },
  {
   "cell_type": "code",
   "execution_count": null,
   "metadata": {},
   "outputs": [],
   "source": [
    "else:\n",
    "    link.first = fn(link.first)\n",
    "deep_map_mut(fn, link.rest)"
   ]
  },
  {
   "cell_type": "markdown",
   "metadata": {},
   "source": [
    "The implementation would look like the following:"
   ]
  },
  {
   "cell_type": "code",
   "execution_count": 7,
   "metadata": {},
   "outputs": [],
   "source": [
    "def deep_map_mut(fn, link):\n",
    "    if not link:\n",
    "        return\n",
    "    if isinstance(link.first, Link):\n",
    "        deep_map_mut(fn, link.first)\n",
    "    else:\n",
    "        link.first = fn(link.first)    \n",
    "    deep_map_mut(fn, link.rest)"
   ]
  },
  {
   "cell_type": "code",
   "execution_count": 8,
   "metadata": {},
   "outputs": [
    {
     "data": {
      "text/plain": [
       "TestResults(failed=0, attempted=3)"
      ]
     },
     "execution_count": 8,
     "metadata": {},
     "output_type": "execute_result"
    }
   ],
   "source": [
    "\n",
    "\n",
    "\"\"\"Mutates a deep link by replacing each item found with the\n",
    "    result of calling fn on the item.  Does NOT create new Links (so\n",
    "    no use of Link's constructor)\n",
    "\n",
    "    Does not return the modified Link object.\n",
    "\n",
    "    >>> link1 = Link(3, Link(Link(4), Link(5, Link(6))))\n",
    "    >>> deep_map_mut(lambda x: x * x, link1)\n",
    "    >>> print(link1)\n",
    "    <9 <16> 25 36>\n",
    "    \"\"\"\n",
    "import doctest\n",
    "doctest.testmod()"
   ]
  },
  {
   "cell_type": "markdown",
   "metadata": {},
   "source": [
    "## Q11: Cycles"
   ]
  },
  {
   "cell_type": "markdown",
   "metadata": {},
   "source": [
    "The `Link` class can represent lists with cycles. That is, a list may contain itself as a sublist."
   ]
  },
  {
   "cell_type": "code",
   "execution_count": 9,
   "metadata": {},
   "outputs": [
    {
     "data": {
      "text/plain": [
       "3"
      ]
     },
     "execution_count": 9,
     "metadata": {},
     "output_type": "execute_result"
    }
   ],
   "source": [
    ">>> s = Link(1, Link(2, Link(3)))\n",
    ">>> s.rest.rest.rest = s\n",
    ">>> s.rest.rest.rest.rest.rest.first\n",
    "3"
   ]
  },
  {
   "cell_type": "markdown",
   "metadata": {},
   "source": [
    "Implement `has_cycle`, that returns whether a linked list contains a cycle.\n",
    "\n",
    "**Hint**: Iterate through the linked list and try keeping track of which `Link` objects you've already seen."
   ]
  },
  {
   "cell_type": "code",
   "execution_count": null,
   "metadata": {},
   "outputs": [],
   "source": [
    "\n",
    "\"\"\"Return whether link contains a cycle.\n",
    "\n",
    "    >>> s = Link(1, Link(2, Link(3)))\n",
    "    >>> s.rest.rest.rest = s\n",
    "    >>> has_cycle(s)\n",
    "    True\n",
    "    >>> t = Link(1, Link(2, Link(3)))\n",
    "    >>> has_cycle(t)\n",
    "    False\n",
    "    >>> u = Link(2, Link(2, Link(2)))\n",
    "    >>> has_cycle(u)\n",
    "    False\n",
    "    \"\"\"\n",
    "import doctest\n",
    "doctest.testmod()"
   ]
  }
 ],
 "metadata": {
  "kernelspec": {
   "display_name": "Python 3",
   "language": "python",
   "name": "python3"
  },
  "language_info": {
   "codemirror_mode": {
    "name": "ipython",
    "version": 3
   },
   "file_extension": ".py",
   "mimetype": "text/x-python",
   "name": "python",
   "nbconvert_exporter": "python",
   "pygments_lexer": "ipython3",
   "version": "3.6.8"
  }
 },
 "nbformat": 4,
 "nbformat_minor": 2
}
