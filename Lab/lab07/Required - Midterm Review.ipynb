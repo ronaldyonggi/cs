{
 "cells": [
  {
   "cell_type": "code",
   "execution_count": 1,
   "metadata": {},
   "outputs": [],
   "source": [
    "from lab07 import *"
   ]
  },
  {
   "cell_type": "markdown",
   "metadata": {},
   "source": [
    "## Q7: Is BST"
   ]
  },
  {
   "cell_type": "markdown",
   "metadata": {},
   "source": [
    "Write a function `is_bst`, which takes a Tree `t` and returns `True` if and only if `t` is a valid binary search tree. This means:\n",
    "\n",
    "1. Each node has at most 2 children (a leaf is automatically a valid binary search tree)\n",
    "2. The children are valid binary search trees\n",
    "\n",
    "For every node, the entries in that node's...\n",
    "1. ...left child are **less than or equal to** the label of the node\n",
    "2. ...right child are **greater than** the label of the node\n",
    "\n",
    "Note that if a node only has one child, that child could be considered either the left or right child. **Do not use the `BST` constructor or anything from the `BST` class**.\n",
    "\n",
    "Hint: It may be helpful to write helper functions `bst_min` and `bst_max` that returns the minimum and maximum, respectively, of a Tree if it is a valid binary search tree."
   ]
  },
  {
   "cell_type": "code",
   "execution_count": 17,
   "metadata": {},
   "outputs": [],
   "source": [
    "def bst_min(t):\n",
    "    if t.is_leaf():\n",
    "        return t.label\n",
    "    return min([bst_min(branch) for branch in t.branches])"
   ]
  },
  {
   "cell_type": "code",
   "execution_count": 18,
   "metadata": {},
   "outputs": [],
   "source": [
    "def bst_max(t):\n",
    "    if t.is_leaf():\n",
    "        return t.label\n",
    "    return max(bst_max(branch) for branch in t.branches)"
   ]
  },
  {
   "cell_type": "code",
   "execution_count": 15,
   "metadata": {},
   "outputs": [
    {
     "data": {
      "text/plain": [
       "1"
      ]
     },
     "execution_count": 15,
     "metadata": {},
     "output_type": "execute_result"
    }
   ],
   "source": [
    "t1 = Tree(6, [Tree(2, [Tree(1), Tree(4)]), Tree(7, [Tree(7), Tree(8)])])\n",
    "bst_min(t1)"
   ]
  },
  {
   "cell_type": "code",
   "execution_count": 19,
   "metadata": {},
   "outputs": [
    {
     "data": {
      "text/plain": [
       "8"
      ]
     },
     "execution_count": 19,
     "metadata": {},
     "output_type": "execute_result"
    }
   ],
   "source": [
    "bst_max(t1)"
   ]
  },
  {
   "cell_type": "code",
   "execution_count": 13,
   "metadata": {},
   "outputs": [
    {
     "name": "stdout",
     "output_type": "stream",
     "text": [
      "2\n",
      "  1\n",
      "  4\n",
      "7\n",
      "  7\n",
      "  8\n"
     ]
    }
   ],
   "source": [
    "for branch in t1.branches:\n",
    "    print(branch)"
   ]
  },
  {
   "cell_type": "code",
   "execution_count": 1,
   "metadata": {},
   "outputs": [
    {
     "ename": "NameError",
     "evalue": "name 'doctest' is not defined",
     "output_type": "error",
     "traceback": [
      "\u001b[1;31m---------------------------------------------------------------------------\u001b[0m",
      "\u001b[1;31mNameError\u001b[0m                                 Traceback (most recent call last)",
      "\u001b[1;32m<ipython-input-1-d759ba05addb>\u001b[0m in \u001b[0;36m<module>\u001b[1;34m\u001b[0m\n\u001b[0;32m     24\u001b[0m     \u001b[1;32mFalse\u001b[0m\u001b[1;33m\u001b[0m\u001b[1;33m\u001b[0m\u001b[0m\n\u001b[0;32m     25\u001b[0m     \"\"\"\n\u001b[1;32m---> 26\u001b[1;33m \u001b[0mdoctest\u001b[0m\u001b[1;33m.\u001b[0m\u001b[0mtestmod\u001b[0m\u001b[1;33m(\u001b[0m\u001b[1;33m)\u001b[0m\u001b[1;33m\u001b[0m\u001b[1;33m\u001b[0m\u001b[0m\n\u001b[0m",
      "\u001b[1;31mNameError\u001b[0m: name 'doctest' is not defined"
     ]
    }
   ],
   "source": [
    "\n",
    "\"\"\"Returns True if the Tree t has the structure of a valid BST.\n",
    "\n",
    "    >>> t1 = Tree(6, [Tree(2, [Tree(1), Tree(4)]), Tree(7, [Tree(7), Tree(8)])])\n",
    "    >>> is_bst(t1)\n",
    "    True\n",
    "    >>> t2 = Tree(8, [Tree(2, [Tree(9), Tree(1)]), Tree(3, [Tree(6)]), Tree(5)])\n",
    "    >>> is_bst(t2)\n",
    "    False\n",
    "    >>> t3 = Tree(6, [Tree(2, [Tree(4), Tree(1)]), Tree(7, [Tree(7), Tree(8)])])\n",
    "    >>> is_bst(t3)\n",
    "    False\n",
    "    >>> t4 = Tree(1, [Tree(2, [Tree(3, [Tree(4)])])])\n",
    "    >>> is_bst(t4)\n",
    "    True\n",
    "    >>> t5 = Tree(1, [Tree(0, [Tree(-1, [Tree(-2)])])])\n",
    "    >>> is_bst(t5)\n",
    "    True\n",
    "    >>> t6 = Tree(1, [Tree(4, [Tree(2, [Tree(3)])])])\n",
    "    >>> is_bst(t6)\n",
    "    True\n",
    "    >>> t7 = Tree(2, [Tree(1, [Tree(5)]), Tree(4)])\n",
    "    >>> is_bst(t7)\n",
    "    False\n",
    "    \"\"\"\n",
    "import doctest\n",
    "doctest.testmod()"
   ]
  },
  {
   "cell_type": "code",
   "execution_count": null,
   "metadata": {},
   "outputs": [],
   "source": []
  }
 ],
 "metadata": {
  "kernelspec": {
   "display_name": "Python 3",
   "language": "python",
   "name": "python3"
  },
  "language_info": {
   "codemirror_mode": {
    "name": "ipython",
    "version": 3
   },
   "file_extension": ".py",
   "mimetype": "text/x-python",
   "name": "python",
   "nbconvert_exporter": "python",
   "pygments_lexer": "ipython3",
   "version": "3.6.8"
  }
 },
 "nbformat": 4,
 "nbformat_minor": 2
}
