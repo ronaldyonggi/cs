{
 "cells": [
  {
   "cell_type": "markdown",
   "metadata": {},
   "source": [
    "# WWPD"
   ]
  },
  {
   "cell_type": "markdown",
   "metadata": {},
   "source": [
    "## Q2: Using the `Car` class"
   ]
  },
  {
   "cell_type": "markdown",
   "metadata": {},
   "source": [
    "Here is the full definition of the `Car` class:"
   ]
  },
  {
   "cell_type": "code",
   "execution_count": 1,
   "metadata": {},
   "outputs": [],
   "source": [
    "class Car(object):\n",
    "    num_wheels = 4\n",
    "    gas = 30\n",
    "    headlights = 2\n",
    "    size = 'Tiny'\n",
    "    \n",
    "    def __init__(self, make, model):\n",
    "        self.make = make\n",
    "        self.model = model\n",
    "        self.color = 'No color yet. You need to paint me.'\n",
    "        self.wheels = Car.num_wheels\n",
    "        self.gas = Car.gas\n",
    "        \n",
    "    def paint(self, color):\n",
    "        self.color = color\n",
    "        return self.make + ' ' + self.model + ' is now ' + color\n",
    "    \n",
    "    def drive(self):\n",
    "        if self.wheels < Car.num_wheels or self.gas <= 0:\n",
    "            return self.make + ' ' + self.model + ' cannot drive!'\n",
    "        self.gas -= 10\n",
    "        return self.make + ' ' + self.model + ' goes vroom!'\n",
    "    \n",
    "    def pop_tire(self):\n",
    "        if self.wheels > 0:\n",
    "            self.wheels -= 1\n",
    "            \n",
    "    def fill_gas(self):\n",
    "        self.gas += 20\n",
    "        return self.make + ' ' + self.model + ' gas level: ' + str(self.gas)"
   ]
  },
  {
   "cell_type": "code",
   "execution_count": 2,
   "metadata": {},
   "outputs": [
    {
     "data": {
      "text/plain": [
       "'No color yet. You need to paint me.'"
      ]
     },
     "execution_count": 2,
     "metadata": {},
     "output_type": "execute_result"
    }
   ],
   "source": [
    "deneros_car = Car('Tesla', 'Model S')\n",
    "deneros_car.color\n",
    "# Answer: 'No color yet. You need to paint me.'"
   ]
  },
  {
   "cell_type": "code",
   "execution_count": 3,
   "metadata": {},
   "outputs": [
    {
     "data": {
      "text/plain": [
       "'Tesla Model S is now black'"
      ]
     },
     "execution_count": 3,
     "metadata": {},
     "output_type": "execute_result"
    }
   ],
   "source": [
    "deneros_car.paint('black')\n",
    "# Answer: 'Tesla Model S is now black'"
   ]
  },
  {
   "cell_type": "code",
   "execution_count": 4,
   "metadata": {},
   "outputs": [
    {
     "data": {
      "text/plain": [
       "'black'"
      ]
     },
     "execution_count": 4,
     "metadata": {},
     "output_type": "execute_result"
    }
   ],
   "source": [
    "deneros_car.color\n",
    "# Answer: 'black'"
   ]
  },
  {
   "cell_type": "code",
   "execution_count": 5,
   "metadata": {},
   "outputs": [
    {
     "data": {
      "text/plain": [
       "'Model S'"
      ]
     },
     "execution_count": 5,
     "metadata": {},
     "output_type": "execute_result"
    }
   ],
   "source": [
    "deneros_car = Car('Tesla', 'Model S')\n",
    "deneros_car.model\n",
    "# Answer: 'Model S'"
   ]
  },
  {
   "cell_type": "code",
   "execution_count": 6,
   "metadata": {},
   "outputs": [
    {
     "data": {
      "text/plain": [
       "'Tesla Model S goes vroom!'"
      ]
     },
     "execution_count": 6,
     "metadata": {},
     "output_type": "execute_result"
    }
   ],
   "source": [
    "deneros_car.gas = 10\n",
    "deneros_car.drive()\n",
    "# Answer: Tesla Model S goes vroom!"
   ]
  },
  {
   "cell_type": "code",
   "execution_count": null,
   "metadata": {},
   "outputs": [],
   "source": [
    "deneros_car.drive()\n",
    "# Answer: 'Tesla Model S cannot drive!'"
   ]
  },
  {
   "cell_type": "code",
   "execution_count": 7,
   "metadata": {},
   "outputs": [
    {
     "data": {
      "text/plain": [
       "'Tesla Model S gas level: 20'"
      ]
     },
     "execution_count": 7,
     "metadata": {},
     "output_type": "execute_result"
    }
   ],
   "source": [
    "deneros_car.fill_gas()\n",
    "# Answer: Tesla Model S gas level: 20"
   ]
  },
  {
   "cell_type": "code",
   "execution_count": 8,
   "metadata": {},
   "outputs": [
    {
     "data": {
      "text/plain": [
       "20"
      ]
     },
     "execution_count": 8,
     "metadata": {},
     "output_type": "execute_result"
    }
   ],
   "source": [
    "deneros_car.gas\n",
    "# Answer: 20"
   ]
  },
  {
   "cell_type": "code",
   "execution_count": 9,
   "metadata": {},
   "outputs": [
    {
     "data": {
      "text/plain": [
       "30"
      ]
     },
     "execution_count": 9,
     "metadata": {},
     "output_type": "execute_result"
    }
   ],
   "source": [
    "Car.gas\n",
    "# Answer: 30"
   ]
  },
  {
   "cell_type": "code",
   "execution_count": 10,
   "metadata": {},
   "outputs": [
    {
     "data": {
      "text/plain": [
       "2"
      ]
     },
     "execution_count": 10,
     "metadata": {},
     "output_type": "execute_result"
    }
   ],
   "source": [
    "Car.headlights\n",
    "# Answer: 2"
   ]
  },
  {
   "cell_type": "code",
   "execution_count": 11,
   "metadata": {},
   "outputs": [
    {
     "data": {
      "text/plain": [
       "2"
      ]
     },
     "execution_count": 11,
     "metadata": {},
     "output_type": "execute_result"
    }
   ],
   "source": [
    "deneros_car.headlights\n",
    "# Ans: 2"
   ]
  },
  {
   "cell_type": "code",
   "execution_count": 12,
   "metadata": {},
   "outputs": [
    {
     "data": {
      "text/plain": [
       "3"
      ]
     },
     "execution_count": 12,
     "metadata": {},
     "output_type": "execute_result"
    }
   ],
   "source": [
    "Car.headlights = 3\n",
    "deneros_car.headlights\n",
    "# Ans: 3"
   ]
  },
  {
   "cell_type": "code",
   "execution_count": 13,
   "metadata": {},
   "outputs": [
    {
     "data": {
      "text/plain": [
       "3"
      ]
     },
     "execution_count": 13,
     "metadata": {},
     "output_type": "execute_result"
    }
   ],
   "source": [
    "deneros_car.headlights = 2\n",
    "Car.headlights\n",
    "# Ans: 3"
   ]
  },
  {
   "cell_type": "code",
   "execution_count": 14,
   "metadata": {},
   "outputs": [
    {
     "data": {
      "text/plain": [
       "2"
      ]
     },
     "execution_count": 14,
     "metadata": {},
     "output_type": "execute_result"
    }
   ],
   "source": [
    "deneros_car.wheels = 2\n",
    "deneros_car.wheels\n",
    "# Ans: 2"
   ]
  },
  {
   "cell_type": "code",
   "execution_count": 15,
   "metadata": {},
   "outputs": [
    {
     "data": {
      "text/plain": [
       "4"
      ]
     },
     "execution_count": 15,
     "metadata": {},
     "output_type": "execute_result"
    }
   ],
   "source": [
    "Car.num_wheels\n",
    "#Ans: 4"
   ]
  },
  {
   "cell_type": "code",
   "execution_count": 16,
   "metadata": {},
   "outputs": [
    {
     "data": {
      "text/plain": [
       "'Tesla Model S cannot drive!'"
      ]
     },
     "execution_count": 16,
     "metadata": {},
     "output_type": "execute_result"
    }
   ],
   "source": [
    "deneros_car.drive()\n",
    "# Ans: 'Tesla Model S cannot drive!'"
   ]
  },
  {
   "cell_type": "code",
   "execution_count": 17,
   "metadata": {},
   "outputs": [
    {
     "ename": "TypeError",
     "evalue": "drive() missing 1 required positional argument: 'self'",
     "output_type": "error",
     "traceback": [
      "\u001b[1;31m---------------------------------------------------------------------------\u001b[0m",
      "\u001b[1;31mTypeError\u001b[0m                                 Traceback (most recent call last)",
      "\u001b[1;32m<ipython-input-17-cfbec86faa6c>\u001b[0m in \u001b[0;36m<module>\u001b[1;34m\u001b[0m\n\u001b[1;32m----> 1\u001b[1;33m \u001b[0mCar\u001b[0m\u001b[1;33m.\u001b[0m\u001b[0mdrive\u001b[0m\u001b[1;33m(\u001b[0m\u001b[1;33m)\u001b[0m\u001b[1;33m\u001b[0m\u001b[1;33m\u001b[0m\u001b[0m\n\u001b[0m\u001b[0;32m      2\u001b[0m \u001b[1;31m# Ans: #Error\u001b[0m\u001b[1;33m\u001b[0m\u001b[1;33m\u001b[0m\u001b[1;33m\u001b[0m\u001b[0m\n",
      "\u001b[1;31mTypeError\u001b[0m: drive() missing 1 required positional argument: 'self'"
     ]
    }
   ],
   "source": [
    "Car.drive()\n",
    "# Ans: #Error"
   ]
  },
  {
   "cell_type": "code",
   "execution_count": 18,
   "metadata": {},
   "outputs": [
    {
     "data": {
      "text/plain": [
       "'Tesla Model S cannot drive!'"
      ]
     },
     "execution_count": 18,
     "metadata": {},
     "output_type": "execute_result"
    }
   ],
   "source": [
    "Car.drive(deneros_car)\n",
    "# Ans: 'Tesla Model S cannot drive!'"
   ]
  },
  {
   "cell_type": "markdown",
   "metadata": {},
   "source": [
    "For the following, we reference the `MonsterTruck` class, also in `car.py`"
   ]
  },
  {
   "cell_type": "code",
   "execution_count": 19,
   "metadata": {},
   "outputs": [],
   "source": [
    "class MonsterTruck(Car):\n",
    "    size = 'Monster'\n",
    "    \n",
    "    def rev(self):\n",
    "        print('Vroom! This Monster Truck is huge!')\n",
    "    \n",
    "    def drive(self):\n",
    "        self.rev()\n",
    "        return Car.drive(self)"
   ]
  },
  {
   "cell_type": "code",
   "execution_count": 20,
   "metadata": {},
   "outputs": [
    {
     "name": "stdout",
     "output_type": "stream",
     "text": [
      "Vroom! This Monster Truck is huge!\n"
     ]
    },
    {
     "data": {
      "text/plain": [
       "'Monster Batmobile goes vroom!'"
      ]
     },
     "execution_count": 20,
     "metadata": {},
     "output_type": "execute_result"
    }
   ],
   "source": [
    "deneros_car = MonsterTruck('Monster', 'Batmobile')\n",
    "deneros_car.drive()\n",
    "#Ans:\n",
    "# 'Vroom! This Monster Truck is huge!'\n",
    "# Monster Batmobile goes vroom!"
   ]
  },
  {
   "cell_type": "code",
   "execution_count": 21,
   "metadata": {},
   "outputs": [
    {
     "data": {
      "text/plain": [
       "'Monster Batmobile goes vroom!'"
      ]
     },
     "execution_count": 21,
     "metadata": {},
     "output_type": "execute_result"
    }
   ],
   "source": [
    "Car.drive(deneros_car)\n",
    "#Ans:\n",
    "# Monster Batmobile goes vroom!"
   ]
  },
  {
   "cell_type": "markdown",
   "metadata": {},
   "source": [
    "#### Explanation"
   ]
  },
  {
   "cell_type": "markdown",
   "metadata": {},
   "source": [
    "Above, even though `deneros_car` is a `MonsterTruck` instance, we execute `Car`'s `drive` method. Thus, we didn't use `MonsterTruck`'s `drive` method."
   ]
  },
  {
   "cell_type": "code",
   "execution_count": 22,
   "metadata": {},
   "outputs": [
    {
     "name": "stdout",
     "output_type": "stream",
     "text": [
      "Vroom! This Monster Truck is huge!\n"
     ]
    },
    {
     "data": {
      "text/plain": [
       "'Monster Batmobile goes vroom!'"
      ]
     },
     "execution_count": 22,
     "metadata": {},
     "output_type": "execute_result"
    }
   ],
   "source": [
    "MonsterTruck.drive(deneros_car)\n",
    "#Ans:\n",
    "# 'Vroom! This Monster Truck is huge!'\n",
    "# Monster Batmobile goes vroom!"
   ]
  },
  {
   "cell_type": "code",
   "execution_count": 23,
   "metadata": {},
   "outputs": [
    {
     "ename": "AttributeError",
     "evalue": "type object 'Car' has no attribute 'rev'",
     "output_type": "error",
     "traceback": [
      "\u001b[1;31m---------------------------------------------------------------------------\u001b[0m",
      "\u001b[1;31mAttributeError\u001b[0m                            Traceback (most recent call last)",
      "\u001b[1;32m<ipython-input-23-7ba8891984ed>\u001b[0m in \u001b[0;36m<module>\u001b[1;34m\u001b[0m\n\u001b[1;32m----> 1\u001b[1;33m \u001b[0mCar\u001b[0m\u001b[1;33m.\u001b[0m\u001b[0mrev\u001b[0m\u001b[1;33m(\u001b[0m\u001b[0mdeneros_car\u001b[0m\u001b[1;33m)\u001b[0m\u001b[1;33m\u001b[0m\u001b[1;33m\u001b[0m\u001b[0m\n\u001b[0m\u001b[0;32m      2\u001b[0m \u001b[1;31m# Ans: Error\u001b[0m\u001b[1;33m\u001b[0m\u001b[1;33m\u001b[0m\u001b[1;33m\u001b[0m\u001b[0m\n",
      "\u001b[1;31mAttributeError\u001b[0m: type object 'Car' has no attribute 'rev'"
     ]
    }
   ],
   "source": [
    "Car.rev(deneros_car)\n",
    "# Ans: Error"
   ]
  },
  {
   "cell_type": "markdown",
   "metadata": {},
   "source": [
    "## Magic: The Lambda-ing"
   ]
  },
  {
   "cell_type": "markdown",
   "metadata": {},
   "source": [
    "## Q3: Making Cards"
   ]
  },
  {
   "cell_type": "code",
   "execution_count": 41,
   "metadata": {},
   "outputs": [],
   "source": [
    "class Card(object):\n",
    "    cardtype = 'Staff'\n",
    "    \n",
    "    def __init__(self, name, attack, defense):\n",
    "        self.name = name\n",
    "        self.attack = attack\n",
    "        self.defense = defense\n",
    "    \n",
    "    def power(self, other_card):\n",
    "        return self.attack - (other_card.defense / 2)\n",
    "    \n",
    "    def effect(self, other_card, player, opponent):\n",
    "        \"\"\"\n",
    "        Cards have no default effect.\n",
    "        \"\"\"\n",
    "        return\n",
    "\n",
    "    def __repr__(self):\n",
    "        \"\"\"\n",
    "        Returns a string which is a readable version of\n",
    "        a card, in the form:\n",
    "        <cardname>: <cardtype>, [<attack>, <defense>]\n",
    "        \"\"\"\n",
    "        return '{}: {}, [{}, {}]'.format(self.name, self.cardtype, self.attack, self.defense)\n",
    "\n",
    "    def copy(self):\n",
    "        \"\"\"\n",
    "        Returns a copy of this card.\n",
    "        \"\"\"\n",
    "        return Card(self.name, self.attack, self.defense)"
   ]
  },
  {
   "cell_type": "code",
   "execution_count": 42,
   "metadata": {},
   "outputs": [
    {
     "data": {
      "text/plain": [
       "TestResults(failed=0, attempted=7)"
      ]
     },
     "execution_count": 42,
     "metadata": {},
     "output_type": "execute_result"
    }
   ],
   "source": [
    "\"\"\"\n",
    "        Create a Card object with a name, attack,\n",
    "        and defense.\n",
    "        >>> staff_member = Card('staff', 400, 300)\n",
    "        >>> staff_member.name\n",
    "        'staff'\n",
    "        >>> staff_member.attack\n",
    "        400\n",
    "        >>> staff_member.defense\n",
    "        300\n",
    "        >>> other_staff = Card('other', 300, 500)\n",
    "        >>> other_staff.attack\n",
    "        300\n",
    "        >>> other_staff.defense\n",
    "        500\n",
    "        \"\"\"\n",
    "import doctest\n",
    "doctest.testmod()"
   ]
  },
  {
   "cell_type": "markdown",
   "metadata": {},
   "source": [
    "Recall that the played card's power value is calculated as follows:\n",
    "\n",
    "$$ \\text{Power Value} = \\text{Player card's attack} - \\frac{\\text{Opponent card's defense}}{2}$$"
   ]
  },
  {
   "cell_type": "code",
   "execution_count": 43,
   "metadata": {},
   "outputs": [
    {
     "data": {
      "text/plain": [
       "TestResults(failed=0, attempted=7)"
      ]
     },
     "execution_count": 43,
     "metadata": {},
     "output_type": "execute_result"
    }
   ],
   "source": [
    "\"\"\"\n",
    "        Calculate power as:\n",
    "        (player card's attack) - (opponent card's defense)/2\n",
    "        where other_card is the opponent's card.\n",
    "        >>> staff_member = Card('staff', 400, 300)\n",
    "        >>> other_staff = Card('other', 300, 500)\n",
    "        >>> staff_member.power(other_staff)\n",
    "        150.0\n",
    "        >>> other_staff.power(staff_member)\n",
    "        150.0\n",
    "        >>> third_card = Card('third', 200, 400)\n",
    "        >>> staff_member.power(third_card)\n",
    "        200.0\n",
    "        >>> third_card.power(staff_member)\n",
    "        50.0\n",
    "        \"\"\"\n",
    "import doctest\n",
    "doctest.testmod()"
   ]
  },
  {
   "cell_type": "markdown",
   "metadata": {},
   "source": [
    "## Q4: Making a Player"
   ]
  },
  {
   "cell_type": "code",
   "execution_count": 44,
   "metadata": {},
   "outputs": [],
   "source": [
    "import random\n",
    "\n",
    "class Deck(object):\n",
    "    def __init__(self, cards):\n",
    "        \"\"\"\n",
    "        With a list of cards as input, create a deck.\n",
    "        This deck should keep track of the cards it contains, and\n",
    "        we should be able to draw from the deck, taking a random\n",
    "        card out of it.\n",
    "        \"\"\"\n",
    "        self.cards = cards\n",
    "\n",
    "    def draw(self):\n",
    "        \"\"\"\n",
    "        Draw a random card and remove it from the deck.\n",
    "        \"\"\"\n",
    "        assert self.cards, 'The deck is empty!'\n",
    "        rand_index = random.randrange(len(self.cards))\n",
    "        return self.cards.pop(rand_index)\n",
    "\n",
    "    def is_empty(self):\n",
    "        return len(self.cards) == 0\n",
    "\n",
    "    def copy(self):\n",
    "        \"\"\"\n",
    "        Create a copy of this deck.\n",
    "        \"\"\"\n",
    "        return Deck([card.copy() for card in self.cards])"
   ]
  },
  {
   "cell_type": "markdown",
   "metadata": {},
   "source": [
    "A `Player` instance has 3 instance attributes:\n",
    "\n",
    "1. `name`: the player's name. When we play the game, we can enter the name, which will be converted into a string to be passed to the constructor\n",
    "2. `deck`: an instance of the `Deck` class.\n",
    "    * We can draw from it using its `.draw()` method\n",
    "3. `hand`: a list of `Card` instances.\n",
    "    * Each player should start with 5 cards in their hand, drawn from their `deck`\n",
    "    * Each card in the hand can be selected by its index in the list during the game\n",
    "    * When a player draws a new card from the deck, it is added to the end of this list.\n",
    "    \n",
    "Complete the implementation of the constructor for `Player` so that `self.hand` is set to a list of 5 cards frawn from the player's `deck`.\n",
    "\n",
    "Next, implement the `draw` and `play` methods in the `Player` class.\n",
    "\n",
    "The `draw` method draws a card from the deck and adds it to the player's hand.\n",
    "\n",
    "The `play` method removes and returns a card from the player's hand at the given index.\n",
    "\n",
    "Call `deck.draw()` when implementing `Player.__init__` and `Player.draw`."
   ]
  },
  {
   "cell_type": "markdown",
   "metadata": {},
   "source": [
    "## Strategy"
   ]
  },
  {
   "cell_type": "markdown",
   "metadata": {},
   "source": [
    "#### `init`\n",
    "The `hand` is a list that contains 5 cards drawn from a particular `Player`'s `deck`. This can be done in one line via list comprehension."
   ]
  },
  {
   "cell_type": "code",
   "execution_count": null,
   "metadata": {},
   "outputs": [],
   "source": [
    "def __init__(self, deck, name):\n",
    "        self.deck = deck\n",
    "        self.name = name\n",
    "        self.hand = [self.deck.draw() for i in range(5)]"
   ]
  },
  {
   "cell_type": "markdown",
   "metadata": {},
   "source": [
    "#### `draw`\n",
    "We just append the result of `draw`ing a card from the `Player`'s `deck` to the `Player`'s `hand`."
   ]
  },
  {
   "cell_type": "code",
   "execution_count": null,
   "metadata": {},
   "outputs": [],
   "source": [
    "def draw(self):\n",
    "        assert not self.deck.is_empty(), 'Deck is empty!'\n",
    "        self.hand.append(self.deck.draw())"
   ]
  },
  {
   "cell_type": "markdown",
   "metadata": {},
   "source": [
    "#### `init`\n",
    "\n",
    "The doctest basically describes the behavior of the `pop` method."
   ]
  },
  {
   "cell_type": "code",
   "execution_count": 46,
   "metadata": {},
   "outputs": [
    {
     "data": {
      "text/plain": [
       "'c'"
      ]
     },
     "execution_count": 46,
     "metadata": {},
     "output_type": "execute_result"
    }
   ],
   "source": [
    "x = ['b', 'c', 'd']\n",
    "x.pop(1)"
   ]
  },
  {
   "cell_type": "code",
   "execution_count": 47,
   "metadata": {},
   "outputs": [
    {
     "data": {
      "text/plain": [
       "['b', 'd']"
      ]
     },
     "execution_count": 47,
     "metadata": {},
     "output_type": "execute_result"
    }
   ],
   "source": [
    "x"
   ]
  },
  {
   "cell_type": "markdown",
   "metadata": {},
   "source": [
    "Thus, our implementation of `init` would be as the following,"
   ]
  },
  {
   "cell_type": "code",
   "execution_count": 45,
   "metadata": {},
   "outputs": [],
   "source": [
    "def play(self, card_index):\n",
    "        return self.hand.pop(card_index)"
   ]
  },
  {
   "cell_type": "code",
   "execution_count": null,
   "metadata": {},
   "outputs": [],
   "source": []
  }
 ],
 "metadata": {
  "kernelspec": {
   "display_name": "Python 3",
   "language": "python",
   "name": "python3"
  },
  "language_info": {
   "codemirror_mode": {
    "name": "ipython",
    "version": 3
   },
   "file_extension": ".py",
   "mimetype": "text/x-python",
   "name": "python",
   "nbconvert_exporter": "python",
   "pygments_lexer": "ipython3",
   "version": "3.6.8"
  }
 },
 "nbformat": 4,
 "nbformat_minor": 2
}
