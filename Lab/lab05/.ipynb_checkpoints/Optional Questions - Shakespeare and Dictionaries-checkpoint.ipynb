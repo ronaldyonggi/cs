{
 "cells": [
  {
   "cell_type": "markdown",
   "metadata": {},
   "source": [
    "# Shakespeare and Dictionaries"
   ]
  },
  {
   "cell_type": "markdown",
   "metadata": {},
   "source": [
    "We will use dictionaries to approximate the entire works of Shakespeare! We're going to use a bigram language model. Here's the idea:\n",
    "\n",
    "1. We start with some word -- we'll use \"The\" as an example.\n",
    "2. We look through all the texts of Shakespeare\n",
    "    * For every instance of \"The\", we record the word that follows \"The\" and add it to a list\n",
    "        * These are known as the **successors** of \"The\"\n",
    "        \n",
    "Now suppose we've done this for every word Shakespeare has used, ever.\n",
    "\n",
    "Let's go back to \"The\". Now, we randomly choose a word from this list, say \"cat\".\n",
    "\n",
    "1. We look up the successors of \"cat\".\n",
    "2. We randomly choose a word from that list.\n",
    "3. We continue this process\n",
    "\n",
    "This eventually will terminate in a period (\".\") and we will have generated a Shakespearean sentence!\n",
    "\n",
    "The object that we'll be looking things up in is called a **successor table**, although it's just a dictionary. The keys in this dictionary are words, and the values are lists of successors to those words."
   ]
  },
  {
   "cell_type": "markdown",
   "metadata": {},
   "source": [
    "## Q4. Successor Tables"
   ]
  },
  {
   "cell_type": "markdown",
   "metadata": {},
   "source": [
    "Here's an incomplete definition of the `build_successor_table` function. The input is a list of words (corresponding to a Shakespearean text), and the output is a successors table. (By default, the first word is a successor to \".\")."
   ]
  },
  {
   "cell_type": "markdown",
   "metadata": {},
   "source": [
    "## ==== Answer ===="
   ]
  },
  {
   "cell_type": "markdown",
   "metadata": {},
   "source": [
    "Looking at the code, we initially start with `prev = '.'` Chances are, we won't get to see this occurence again, so we can tell that we are creating and updating `table[prev]` rather than `table[word]`.\n",
    "\n",
    "Looking at the doctest, when we inquire a word from the dictionary, the output is a list containing the values rather than just a value itsef. This makes sense when paired with the following statement in the code,"
   ]
  },
  {
   "cell_type": "code",
   "execution_count": null,
   "metadata": {},
   "outputs": [],
   "source": [
    "if prev not in table:"
   ]
  },
  {
   "cell_type": "markdown",
   "metadata": {},
   "source": [
    "This means rathern than assigning,"
   ]
  },
  {
   "cell_type": "code",
   "execution_count": null,
   "metadata": {},
   "outputs": [],
   "source": [
    "table[prev] = word"
   ]
  },
  {
   "cell_type": "markdown",
   "metadata": {},
   "source": [
    "We would first check if `prev` is already in the `table`. If not, we created a key `prev` with the value of an empty list."
   ]
  },
  {
   "cell_type": "code",
   "execution_count": null,
   "metadata": {},
   "outputs": [],
   "source": [
    "if prev not in table:\n",
    "    table[prev] = []"
   ]
  },
  {
   "cell_type": "markdown",
   "metadata": {},
   "source": [
    "Then in the next line, we add the `word` into the list."
   ]
  },
  {
   "cell_type": "code",
   "execution_count": null,
   "metadata": {},
   "outputs": [],
   "source": [
    "table[prev] += [word]"
   ]
  },
  {
   "cell_type": "markdown",
   "metadata": {},
   "source": [
    "Thus we have,"
   ]
  },
  {
   "cell_type": "code",
   "execution_count": 2,
   "metadata": {},
   "outputs": [],
   "source": [
    "def build_successors_table(tokens):\n",
    "    table = {}\n",
    "    prev = '.'\n",
    "    for word in tokens:\n",
    "        if prev not in table:\n",
    "            table[prev] = []\n",
    "        table[prev] += [word]\n",
    "        prev = word\n",
    "    return table"
   ]
  },
  {
   "cell_type": "code",
   "execution_count": 2,
   "metadata": {},
   "outputs": [
    {
     "data": {
      "text/plain": [
       "{'we': 'duh'}"
      ]
     },
     "execution_count": 2,
     "metadata": {},
     "output_type": "execute_result"
    }
   ],
   "source": [
    "x = {}\n",
    "x['we'] = 'duh'\n",
    "x"
   ]
  },
  {
   "cell_type": "code",
   "execution_count": 10,
   "metadata": {},
   "outputs": [
    {
     "data": {
      "text/plain": [
       "TestResults(failed=0, attempted=6)"
      ]
     },
     "execution_count": 10,
     "metadata": {},
     "output_type": "execute_result"
    }
   ],
   "source": [
    "\"\"\"Return a dictionary: keys are words; values are lists of successors.\n",
    "\n",
    "    >>> text = ['We', 'came', 'to', 'investigate', ',', 'catch', 'bad', 'guys', 'and', 'to', 'eat', 'pie', '.']\n",
    "    >>> table = build_successors_table(text)\n",
    "    >>> sorted(table)\n",
    "    [',', '.', 'We', 'and', 'bad', 'came', 'catch', 'eat', 'guys', 'investigate', 'pie', 'to']\n",
    "    >>> table['to']\n",
    "    ['investigate', 'eat']\n",
    "    >>> table['pie']\n",
    "    ['.']\n",
    "    >>> table['.']\n",
    "    ['We']\n",
    "    \"\"\"\n",
    "\n",
    "import doctest\n",
    "doctest.testmod()"
   ]
  },
  {
   "cell_type": "markdown",
   "metadata": {},
   "source": [
    "# ===================="
   ]
  },
  {
   "cell_type": "markdown",
   "metadata": {},
   "source": [
    "## Q5. Construct the Sentence"
   ]
  },
  {
   "cell_type": "markdown",
   "metadata": {},
   "source": [
    "Let's generate some sentence! Suppose we're given a starting word. We can lookup this word in our table to find its list of successors, then randomly select a word from this list to be the next word in the sentence. Then we just repeat until we reach some ending punctuation.\n",
    "\n",
    "Hint: to randomly select from a list, import the Python random library with"
   ]
  },
  {
   "cell_type": "code",
   "execution_count": 3,
   "metadata": {},
   "outputs": [],
   "source": [
    "import random"
   ]
  },
  {
   "cell_type": "markdown",
   "metadata": {},
   "source": [
    "and use the expression"
   ]
  },
  {
   "cell_type": "code",
   "execution_count": 12,
   "metadata": {},
   "outputs": [
    {
     "ename": "NameError",
     "evalue": "name 'my_list' is not defined",
     "output_type": "error",
     "traceback": [
      "\u001b[1;31m---------------------------------------------------------------------------\u001b[0m",
      "\u001b[1;31mNameError\u001b[0m                                 Traceback (most recent call last)",
      "\u001b[1;32m<ipython-input-12-404756a25aee>\u001b[0m in \u001b[0;36m<module>\u001b[1;34m\u001b[0m\n\u001b[1;32m----> 1\u001b[1;33m \u001b[0mrandom\u001b[0m\u001b[1;33m.\u001b[0m\u001b[0mchoice\u001b[0m\u001b[1;33m(\u001b[0m\u001b[0mmy_list\u001b[0m\u001b[1;33m)\u001b[0m\u001b[1;33m\u001b[0m\u001b[1;33m\u001b[0m\u001b[0m\n\u001b[0m",
      "\u001b[1;31mNameError\u001b[0m: name 'my_list' is not defined"
     ]
    }
   ],
   "source": [
    "random.choice(my_list)"
   ]
  },
  {
   "cell_type": "markdown",
   "metadata": {},
   "source": [
    "This might not be a bad time to play around with adding strings together as well. Let's fill in the `construct_sent` function!"
   ]
  },
  {
   "cell_type": "markdown",
   "metadata": {},
   "source": [
    "## ===== Answer ====="
   ]
  },
  {
   "cell_type": "markdown",
   "metadata": {},
   "source": [
    "`result` is the sentence that we have so far. This means we want to add words into `result`. \n",
    "\n",
    "In sentences, words are usually separated by whitespace `' '`, so we would need to incorporate that as well."
   ]
  },
  {
   "cell_type": "code",
   "execution_count": null,
   "metadata": {},
   "outputs": [],
   "source": [
    "result += word + ' '"
   ]
  },
  {
   "cell_type": "markdown",
   "metadata": {},
   "source": [
    "Once the word is added to the sentence so far, we want to shuffle the `word`. This `word` has to be an existing key in the dictionary so that the value can be returned."
   ]
  },
  {
   "cell_type": "code",
   "execution_count": null,
   "metadata": {},
   "outputs": [],
   "source": [
    "word = random.choice(table[word])"
   ]
  },
  {
   "cell_type": "code",
   "execution_count": 9,
   "metadata": {},
   "outputs": [],
   "source": [
    "def construct_sent(word, table):\n",
    "    import random\n",
    "    result = ''\n",
    "    while word not in ['.', '!', '?']:\n",
    "        result += word + ' '\n",
    "        word = random.choice(table[word])\n",
    "    return result.strip() + word"
   ]
  },
  {
   "cell_type": "markdown",
   "metadata": {},
   "source": []
  },
  {
   "cell_type": "code",
   "execution_count": 10,
   "metadata": {},
   "outputs": [
    {
     "data": {
      "text/plain": [
       "TestResults(failed=0, attempted=3)"
      ]
     },
     "execution_count": 10,
     "metadata": {},
     "output_type": "execute_result"
    }
   ],
   "source": [
    "\"\"\"Prints a random sentence starting with word, sampling from\n",
    "    table.\n",
    "\n",
    "    >>> table = {'Wow': ['!'], 'Sentences': ['are'], 'are': ['cool'], 'cool': ['.']}\n",
    "    >>> construct_sent('Wow', table)\n",
    "    'Wow!'\n",
    "    >>> construct_sent('Sentences', table)\n",
    "    'Sentences are cool.'\n",
    "    \"\"\"\n",
    "\n",
    "import doctest\n",
    "doctest.testmod()"
   ]
  },
  {
   "cell_type": "code",
   "execution_count": null,
   "metadata": {},
   "outputs": [],
   "source": []
  }
 ],
 "metadata": {
  "kernelspec": {
   "display_name": "Python 3",
   "language": "python",
   "name": "python3"
  },
  "language_info": {
   "codemirror_mode": {
    "name": "ipython",
    "version": 3
   },
   "file_extension": ".py",
   "mimetype": "text/x-python",
   "name": "python",
   "nbconvert_exporter": "python",
   "pygments_lexer": "ipython3",
   "version": "3.6.8"
  }
 },
 "nbformat": 4,
 "nbformat_minor": 2
}
