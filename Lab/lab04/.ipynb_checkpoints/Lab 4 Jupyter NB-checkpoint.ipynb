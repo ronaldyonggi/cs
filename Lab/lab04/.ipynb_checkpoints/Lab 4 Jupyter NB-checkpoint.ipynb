{
 "cells": [
  {
   "cell_type": "markdown",
   "metadata": {},
   "source": [
    "# Q1: List Indexing\n",
    "\n",
    "### `python ok -q indexing -u`\n",
    "\n",
    "For each of the following lists, what is the list indexing expression that evaluates to 7? For example, if `x` = `[7]`, then the answer would be `x[0]`. You can use the interpreter or Python Tutor to experiment with your answers."
   ]
  },
  {
   "cell_type": "markdown",
   "metadata": {},
   "source": [
    "List Indexing > Suite 1 > Case 1\n",
    "(cases remaining: 2)\n",
    "\n",
    "What would Python display? If you get stuck, try it out in the Python\n",
    "interpreter!"
   ]
  },
  {
   "cell_type": "code",
   "execution_count": 1,
   "metadata": {},
   "outputs": [],
   "source": [
    ">>> x = [1, 3, [5, 7], 9] # Write the expression that indexes into x to output the 7\n",
    "# Ans: x[2][1]"
   ]
  },
  {
   "cell_type": "code",
   "execution_count": null,
   "metadata": {},
   "outputs": [],
   "source": [
    ">>> x = [[7]] # Write the expression that indexes into x to output the 7\n",
    "# Ans: x[0][0]"
   ]
  },
  {
   "cell_type": "code",
   "execution_count": null,
   "metadata": {},
   "outputs": [],
   "source": [
    ">>> x = [3, 2, 1, [9, 8, 7]] # Write the expression that indexes into x to output the 7\n",
    "# Ans: x[3][2]"
   ]
  },
  {
   "cell_type": "code",
   "execution_count": null,
   "metadata": {},
   "outputs": [],
   "source": [
    ">>> x = [[3, [5, 7], 9]] # Write the expression that indexes into x to output the 7\n",
    "# Ans: x[0][1][1]"
   ]
  },
  {
   "cell_type": "markdown",
   "metadata": {},
   "source": [
    "List Indexing > Suite 2 > Case 1\n",
    "(cases remaining: 1)\n",
    "\n",
    "What would Python display? If you get stuck, try it out in the Python\n",
    "interpreter!"
   ]
  },
  {
   "cell_type": "code",
   "execution_count": null,
   "metadata": {},
   "outputs": [],
   "source": [
    ">>> lst = [3, 2, 7, [84, 83, 82]]\n",
    ">>> lst[4]\n",
    "# Ans: Error"
   ]
  },
  {
   "cell_type": "code",
   "execution_count": null,
   "metadata": {},
   "outputs": [],
   "source": [
    ">>> lst[3][0]\n",
    "# Ans: 84"
   ]
  },
  {
   "cell_type": "markdown",
   "metadata": {},
   "source": [
    "# Q2: WWPD: Lists?\n",
    "\n",
    "What would Python display? Try to figure it out before you type it into the interpreter!\n",
    "\n",
    "### `python3 ok -q lists -u`"
   ]
  },
  {
   "cell_type": "markdown",
   "metadata": {},
   "source": [
    "List Comprehension > Suite 1 > Case 1\n",
    "(cases remaining: 2)"
   ]
  },
  {
   "cell_type": "code",
   "execution_count": 3,
   "metadata": {},
   "outputs": [
    {
     "data": {
      "text/plain": [
       "[0, 1, 4, 9, 16]"
      ]
     },
     "execution_count": 3,
     "metadata": {},
     "output_type": "execute_result"
    }
   ],
   "source": [
    ">>> [x*x for x in range(5)]\n",
    "# Ans: [0, 1, 4, 9, 16]"
   ]
  },
  {
   "cell_type": "code",
   "execution_count": null,
   "metadata": {},
   "outputs": [],
   "source": [
    ">>> [n for n in range(10) if n % 2 == 0]\n",
    "# Ans: [0, 2, 4, 6, 8]"
   ]
  },
  {
   "cell_type": "code",
   "execution_count": null,
   "metadata": {},
   "outputs": [],
   "source": [
    ">>> ones = [1 for i in [\"hi\", \"bye\", \"you\"]]\n",
    ">>> ones + [str(i) for i in [6, 3, 8, 4]]\n",
    "\n",
    "# [1, 1, 1] + ['6', '3', '8', '4']\n",
    "# Ans: [1, 1, 1, '6', '3', '8', '4']"
   ]
  },
  {
   "cell_type": "code",
   "execution_count": null,
   "metadata": {},
   "outputs": [],
   "source": [
    ">>> [i+5 for i in [n for n in range(1,4)]]\n",
    "\n",
    "# [i + 5 for i in [1, 2, 3]]\n",
    "# [6, 7, 8]"
   ]
  },
  {
   "cell_type": "markdown",
   "metadata": {},
   "source": [
    "List Comprehension > Suite 2 > Case 1\n",
    "(cases remaining: 1)\n",
    "\n",
    "What would Python display? If you get stuck, try it out in the Python\n",
    "interpreter!"
   ]
  },
  {
   "cell_type": "code",
   "execution_count": null,
   "metadata": {},
   "outputs": [],
   "source": [
    ">>> [i**2 for i in range(10) if i < 3]\n",
    "# Ans: [0, 1, 4]"
   ]
  },
  {
   "cell_type": "code",
   "execution_count": 6,
   "metadata": {},
   "outputs": [
    {
     "name": "stdout",
     "output_type": "stream",
     "text": [
      "['hi', 'hi', 'hi']\n"
     ]
    }
   ],
   "source": [
    ">>> lst = ['hi' for i in [1, 2, 3]]\n",
    ">>> print(lst)\n",
    "\n",
    "# Ans: ['hi', 'hi', 'hi']"
   ]
  },
  {
   "cell_type": "code",
   "execution_count": null,
   "metadata": {},
   "outputs": [],
   "source": [
    ">>> lst + [i for i in ['1', '2', '3']]\n",
    "# Ans: ['hi', 'hi', 'hi', '1', '2', '3']"
   ]
  }
 ],
 "metadata": {
  "kernelspec": {
   "display_name": "Python 3",
   "language": "python",
   "name": "python3"
  },
  "language_info": {
   "codemirror_mode": {
    "name": "ipython",
    "version": 3
   },
   "file_extension": ".py",
   "mimetype": "text/x-python",
   "name": "python",
   "nbconvert_exporter": "python",
   "pygments_lexer": "ipython3",
   "version": "3.7.2"
  }
 },
 "nbformat": 4,
 "nbformat_minor": 2
}
