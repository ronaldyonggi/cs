{
 "cells": [
  {
   "cell_type": "code",
   "execution_count": 3,
   "metadata": {},
   "outputs": [],
   "source": [
    "(define nil ()) ; Define nil"
   ]
  },
  {
   "cell_type": "markdown",
   "metadata": {},
   "source": [
    "## Q6: Make a List"
   ]
  },
  {
   "cell_type": "code",
   "execution_count": 2,
   "metadata": {},
   "outputs": [
    {
     "data": {
      "text/plain": [
       "(1)"
      ]
     },
     "execution_count": 2,
     "metadata": {},
     "output_type": "execute_result"
    }
   ],
   "source": [
    "(cons 1 ())"
   ]
  },
  {
   "cell_type": "markdown",
   "metadata": {},
   "source": [
    "Create a list with the following box-and-pointer diagram,"
   ]
  },
  {
   "cell_type": "markdown",
   "metadata": {},
   "source": [
    "<img src = 'q6.jpg' width = 600/>"
   ]
  },
  {
   "cell_type": "markdown",
   "metadata": {},
   "source": [
    "### WWSD"
   ]
  },
  {
   "cell_type": "code",
   "execution_count": 1,
   "metadata": {},
   "outputs": [],
   "source": [
    "(define a '(1))\n",
    "; Ans: a"
   ]
  },
  {
   "cell_type": "code",
   "execution_count": 3,
   "metadata": {},
   "outputs": [
    {
     "data": {
      "text/plain": [
       "(1)"
      ]
     },
     "execution_count": 3,
     "metadata": {},
     "output_type": "execute_result"
    }
   ],
   "source": [
    "a\n",
    "; Ans: (1)"
   ]
  },
  {
   "cell_type": "code",
   "execution_count": 4,
   "metadata": {},
   "outputs": [],
   "source": [
    "(define b (cons 2 a))\n",
    "; Ans: b"
   ]
  },
  {
   "cell_type": "code",
   "execution_count": 5,
   "metadata": {},
   "outputs": [
    {
     "data": {
      "text/plain": [
       "(2 1)"
      ]
     },
     "execution_count": 5,
     "metadata": {},
     "output_type": "execute_result"
    }
   ],
   "source": [
    "b\n",
    "; Ans: (2 1)"
   ]
  },
  {
   "cell_type": "code",
   "execution_count": 6,
   "metadata": {},
   "outputs": [],
   "source": [
    "(define c (list 3 b))\n",
    "; Ans: c"
   ]
  },
  {
   "cell_type": "code",
   "execution_count": 7,
   "metadata": {},
   "outputs": [
    {
     "data": {
      "text/plain": [
       "(3 (2 1))"
      ]
     },
     "execution_count": 7,
     "metadata": {},
     "output_type": "execute_result"
    }
   ],
   "source": [
    "c\n",
    "; Ans: (3 (2 1))"
   ]
  },
  {
   "cell_type": "code",
   "execution_count": 8,
   "metadata": {},
   "outputs": [
    {
     "data": {
      "text/plain": [
       "3"
      ]
     },
     "execution_count": 8,
     "metadata": {},
     "output_type": "execute_result"
    }
   ],
   "source": [
    "(car c)\n",
    "; Ans: 3"
   ]
  },
  {
   "cell_type": "code",
   "execution_count": 10,
   "metadata": {},
   "outputs": [
    {
     "data": {
      "text/plain": [
       "((2 1))"
      ]
     },
     "execution_count": 10,
     "metadata": {},
     "output_type": "execute_result"
    }
   ],
   "source": [
    "(cdr c)\n",
    "; Ans: ((2 1))"
   ]
  },
  {
   "cell_type": "code",
   "execution_count": 11,
   "metadata": {},
   "outputs": [
    {
     "data": {
      "text/plain": [
       "2"
      ]
     },
     "execution_count": 11,
     "metadata": {},
     "output_type": "execute_result"
    }
   ],
   "source": [
    "(car (car (cdr c)))\n",
    "; Ans: 2"
   ]
  },
  {
   "cell_type": "code",
   "execution_count": 12,
   "metadata": {},
   "outputs": [
    {
     "data": {
      "text/plain": [
       "(1)"
      ]
     },
     "execution_count": 12,
     "metadata": {},
     "output_type": "execute_result"
    }
   ],
   "source": [
    "(cdr (car (cdr c)))\n",
    "; Ans: (1)"
   ]
  },
  {
   "cell_type": "markdown",
   "metadata": {},
   "source": [
    "#### Strategy"
   ]
  },
  {
   "cell_type": "markdown",
   "metadata": {},
   "source": [
    "The implementation is quite straightforward. Just make sure to recognize which one is `car`, which one is `cdr`, and which one is malformed lists"
   ]
  },
  {
   "cell_type": "code",
   "execution_count": null,
   "metadata": {},
   "outputs": [],
   "source": [
    "(define lst\n",
    "  (cons\n",
    "    (cons 1 nil) ; car\n",
    "    (cons 2 \n",
    "      (cons\n",
    "        (cons 3 4)\n",
    "        (cons 5 nil)\n",
    "      )\n",
    "    )\n",
    "  )\n",
    ")"
   ]
  },
  {
   "cell_type": "markdown",
   "metadata": {},
   "source": [
    "## Q7: Compose"
   ]
  },
  {
   "cell_type": "markdown",
   "metadata": {},
   "source": [
    "### WWSD"
   ]
  },
  {
   "cell_type": "code",
   "execution_count": null,
   "metadata": {},
   "outputs": [],
   "source": [
    "(define (add-one a) (+ a 1))\n",
    "(define (multiply-by-two a) (* a 2))\n",
    "((composed add-one add-one) 2)\n",
    "; Ans: 4"
   ]
  },
  {
   "cell_type": "code",
   "execution_count": null,
   "metadata": {},
   "outputs": [],
   "source": [
    "(define (add-one a) (+ a 1))\n",
    "(define (multiply-by-two a) (* a 2))\n",
    "((composed multiply-by-two multiply-by-two) 2)\n",
    "; Ans: 8"
   ]
  },
  {
   "cell_type": "code",
   "execution_count": null,
   "metadata": {},
   "outputs": [],
   "source": [
    "(define (add-one a) (+ a 1))\n",
    "(define (multiply-by-two a) (* a 2))\n",
    "((composed add-one multiply-by-two) 2)\n",
    "; Ans: 5"
   ]
  },
  {
   "cell_type": "code",
   "execution_count": null,
   "metadata": {},
   "outputs": [],
   "source": [
    "(define (add-one a) (+ a 1))\n",
    "(define (multiply-by-two a) (* a 2))\n",
    "((composed multiply-by-two add-one) 2)\n",
    "; Ans: 6"
   ]
  },
  {
   "cell_type": "code",
   "execution_count": null,
   "metadata": {},
   "outputs": [],
   "source": [
    "(define (add-one a) (+ a 1))\n",
    "(define (multiply-by-two a) (* a 2))\n",
    "((composed (composed add-one add-one) add-one) 2)\n",
    "; Ans: 5"
   ]
  },
  {
   "cell_type": "code",
   "execution_count": null,
   "metadata": {},
   "outputs": [],
   "source": [
    "(define (add-one a) (+ a 1))\n",
    "(define (multiply-by-two a) (* a 2))\n",
    "((composed (composed add-one add-one) multiply-by-two) 2)\n",
    "; Ans: 6"
   ]
  },
  {
   "cell_type": "code",
   "execution_count": null,
   "metadata": {},
   "outputs": [],
   "source": [
    "(define (add-one a) (+ a 1))\n",
    "(define (multiply-by-two a) (* a 2))\n",
    "((composed multiply-by-two (composed add-one add-one)) 2)"
   ]
  },
  {
   "cell_type": "markdown",
   "metadata": {},
   "source": [
    "#### Strategy"
   ]
  },
  {
   "cell_type": "markdown",
   "metadata": {},
   "source": [
    "If a procedure outputs a new procedure, it is likely that it involves `lambda` special form. The `lambda` function takes an argument `x` and outputs the result of applying `f` to the result of applying `g` to `x`."
   ]
  },
  {
   "cell_type": "code",
   "execution_count": null,
   "metadata": {},
   "outputs": [],
   "source": [
    "(define (composed f g)\n",
    "  (lambda (x) (f (g x)))\n",
    ")"
   ]
  },
  {
   "cell_type": "markdown",
   "metadata": {},
   "source": [
    "## Q8: Remove"
   ]
  },
  {
   "cell_type": "markdown",
   "metadata": {},
   "source": [
    "### WWSD"
   ]
  },
  {
   "cell_type": "code",
   "execution_count": null,
   "metadata": {},
   "outputs": [],
   "source": [
    "(remove 3 nil)\n",
    "; Ans: ()"
   ]
  },
  {
   "cell_type": "code",
   "execution_count": null,
   "metadata": {},
   "outputs": [],
   "source": [
    "(remove 2 '(1 3 2))\n",
    "; Ans: (1 3)"
   ]
  },
  {
   "cell_type": "code",
   "execution_count": 4,
   "metadata": {},
   "outputs": [
    {
     "name": "stderr",
     "output_type": "stream",
     "text": [
      "\u001b[1;31m\n",
      "Traceback (most recent call last):\n",
      "  File \"In [4]\", line 1, col 2\n",
      "RunTimeError: unbound variable 'remove'\n",
      "\n",
      "\u001b[0m"
     ]
    }
   ],
   "source": [
    "(remove 1 '(1 3 2))\n",
    "; Ans: (3 2)"
   ]
  },
  {
   "cell_type": "code",
   "execution_count": null,
   "metadata": {},
   "outputs": [],
   "source": [
    "(remove 42 '(1 3 2))\n",
    "; Ans: (1 3 2)"
   ]
  },
  {
   "cell_type": "code",
   "execution_count": null,
   "metadata": {},
   "outputs": [],
   "source": [
    "(remove 3 '(1 3 3 7))\n",
    "; Ans: (1 7)"
   ]
  },
  {
   "cell_type": "markdown",
   "metadata": {},
   "source": [
    "### Strategy"
   ]
  },
  {
   "cell_type": "markdown",
   "metadata": {},
   "source": [
    "Similar structure as **Q4: Filter **\n",
    "\n",
    "Base case: if `lst` is empty, then just return empty list."
   ]
  },
  {
   "cell_type": "code",
   "execution_count": null,
   "metadata": {},
   "outputs": [],
   "source": [
    "((null? lst) ())"
   ]
  },
  {
   "cell_type": "markdown",
   "metadata": {},
   "source": [
    "Recursive case: If `car lst` is equal to `item`, then move on by calling recursive `remove` on `cdr lst`"
   ]
  },
  {
   "cell_type": "code",
   "execution_count": null,
   "metadata": {},
   "outputs": [],
   "source": [
    "((equal? (car lst) item) (remove item (cdr lst)))"
   ]
  },
  {
   "cell_type": "markdown",
   "metadata": {},
   "source": [
    "Else: If `car lst` is not equal to `item`, then start creating a list with `car lst` as `first` and recursive call `remove` on `cdr lst` as `.rest`"
   ]
  },
  {
   "cell_type": "code",
   "execution_count": null,
   "metadata": {},
   "outputs": [],
   "source": [
    "(else (cons (car lst) (remove item (cdr lst))))"
   ]
  },
  {
   "cell_type": "markdown",
   "metadata": {},
   "source": [
    "The implementation would look like the following,"
   ]
  },
  {
   "cell_type": "code",
   "execution_count": null,
   "metadata": {},
   "outputs": [],
   "source": [
    "(define (remove item lst)\n",
    "  (cond\n",
    "  ((null? lst) ())\n",
    "  ((equal? (car lst) item) (remove item (cdr lst)))\n",
    "  (else (cons (car lst) (remove item (cdr lst))))\n",
    "  )\n",
    ")"
   ]
  },
  {
   "cell_type": "markdown",
   "metadata": {},
   "source": [
    "#### Alternative Solution"
   ]
  },
  {
   "cell_type": "markdown",
   "metadata": {},
   "source": [
    "An alternative solution is to use the `filter` procedure. The `filter` procedure takes a procedure and a list, and returns a list that contains only the elements that returns `true` if the procedure is applied to it.\n",
    "\n",
    "In this case, the procedure has to be a procedure that takes a number `x` and returns `False` if `x` is equal to `item`. "
   ]
  },
  {
   "cell_type": "code",
   "execution_count": null,
   "metadata": {},
   "outputs": [],
   "source": [
    "(lambda (x) (not(= x item)))"
   ]
  },
  {
   "cell_type": "markdown",
   "metadata": {},
   "source": [
    "Below is an example where `item` is `2` and checks if `4` is not equal to `2`."
   ]
  },
  {
   "cell_type": "code",
   "execution_count": 19,
   "metadata": {},
   "outputs": [
    {
     "data": {
      "text/plain": [
       "#t"
      ]
     },
     "execution_count": 19,
     "metadata": {},
     "output_type": "execute_result"
    }
   ],
   "source": [
    "((lambda (x) (not (= x 2))) 4 )"
   ]
  },
  {
   "cell_type": "markdown",
   "metadata": {},
   "source": [
    "Now we incorporate this `lambda` function to `remove`."
   ]
  },
  {
   "cell_type": "code",
   "execution_count": null,
   "metadata": {},
   "outputs": [],
   "source": [
    "(define (remove item lst)\n",
    "  (filter ; call the filter function\n",
    "    (lambda (x) \n",
    "      (not (= item x)))\n",
    "    lst\n",
    "  )\n",
    ")"
   ]
  },
  {
   "cell_type": "markdown",
   "metadata": {},
   "source": [
    "## Q9 - No-Repeats"
   ]
  },
  {
   "cell_type": "markdown",
   "metadata": {},
   "source": [
    "### WWSD"
   ]
  },
  {
   "cell_type": "code",
   "execution_count": null,
   "metadata": {},
   "outputs": [],
   "source": [
    "(no-repeats (list 5 4 2))\n",
    "; Ans: (5 4 2)"
   ]
  },
  {
   "cell_type": "code",
   "execution_count": null,
   "metadata": {},
   "outputs": [],
   "source": [
    "(no-repeats (list 5 4 5 4 2 2))\n",
    "; Ans: (5 4 2)"
   ]
  },
  {
   "cell_type": "code",
   "execution_count": null,
   "metadata": {},
   "outputs": [],
   "source": [
    "(no-repeats (list 5 5 5 5 5))\n",
    "; Ans: (5)"
   ]
  },
  {
   "cell_type": "code",
   "execution_count": null,
   "metadata": {},
   "outputs": [],
   "source": [
    "(no-repeats ())\n",
    "; Ans: ()"
   ]
  },
  {
   "cell_type": "markdown",
   "metadata": {},
   "source": [
    "#### Strategy"
   ]
  },
  {
   "cell_type": "markdown",
   "metadata": {},
   "source": [
    "Looking at the problem description, we are supposed to get rid of elements that have duplicates. In some sense, we can use `filter` that makes use of a procedure that checks whether a number is not the same as another number."
   ]
  },
  {
   "cell_type": "code",
   "execution_count": null,
   "metadata": {},
   "outputs": [],
   "source": [
    "(filter ; call the filter function\n",
    "    (lambda (x) \n",
    "      (not (= item x)))\n",
    "    s\n",
    "  )"
   ]
  },
  {
   "cell_type": "markdown",
   "metadata": {},
   "source": [
    "However in this case, we don't have the `item` argument. Instead, we'll compare the number `x` with the first element in the list, which is `car s`"
   ]
  },
  {
   "cell_type": "code",
   "execution_count": null,
   "metadata": {},
   "outputs": [],
   "source": [
    "(filter ; call the filter function\n",
    "    (lambda (x) \n",
    "      (not (= (car s) x)))\n",
    "    s\n",
    "  )"
   ]
  },
  {
   "cell_type": "markdown",
   "metadata": {},
   "source": [
    "With `no-repeats`, we want to do the following,\n",
    "\n",
    "Base case: If s is empty, then just return an empty list (or just return the list `s` itself)."
   ]
  },
  {
   "cell_type": "code",
   "execution_count": null,
   "metadata": {},
   "outputs": [],
   "source": [
    "(if (null? s) ()"
   ]
  },
  {
   "cell_type": "markdown",
   "metadata": {},
   "source": [
    "Otherwise, we start constructing list, where the `first` is `car s`, and the `rest` is a recursive call of `no-repeats` on the result of filtering `cdr s` with the lambda function."
   ]
  },
  {
   "cell_type": "code",
   "execution_count": 1,
   "metadata": {},
   "outputs": [
    {
     "name": "stderr",
     "output_type": "stream",
     "text": [
      "\u001b[1;31m\n",
      "Traceback (most recent call last):\n",
      "  File \"In [1]\", line 1, col 12\n",
      "RunTimeError: unbound variable 's'\n",
      "\n",
      "\u001b[0m"
     ]
    }
   ],
   "source": [
    "(cons (car s)\n",
    "      (no-repeats\n",
    "        (filter\n",
    "         (lambda (x) (not (= (car s) x)))\n",
    "         (cdr s)\n",
    "        ) ; End of filter\n",
    "       ) ; End of no-repeats\n",
    "      ) ; End of cons"
   ]
  },
  {
   "cell_type": "markdown",
   "metadata": {},
   "source": [
    "The implementation would look like the following,"
   ]
  },
  {
   "cell_type": "code",
   "execution_count": 2,
   "metadata": {},
   "outputs": [],
   "source": [
    "(define (no-repeats s)\n",
    "  (if (null? s) ()\n",
    "    (cons (car s)\n",
    "      (filter\n",
    "        (lambda (x) (not (= (car s))))\n",
    "        (cdr s)\n",
    "      ) ; End of filter\n",
    "    ) ; End of cons\n",
    "  ) ; End of if suite\n",
    ")"
   ]
  },
  {
   "cell_type": "markdown",
   "metadata": {},
   "source": [
    "## Q10: Substitute"
   ]
  },
  {
   "cell_type": "markdown",
   "metadata": {},
   "source": [
    "### WWSD"
   ]
  },
  {
   "cell_type": "code",
   "execution_count": null,
   "metadata": {},
   "outputs": [],
   "source": [
    "(substitute '(c a b) 'b 'l)\n",
    "; Ans: (c a l)"
   ]
  },
  {
   "cell_type": "code",
   "execution_count": 1,
   "metadata": {},
   "outputs": [
    {
     "name": "stderr",
     "output_type": "stream",
     "text": [
      "\u001b[1;31m\n",
      "Traceback (most recent call last):\n",
      "  File \"In [1]\", line 1, col 2\n",
      "RunTimeError: unbound variable 'substitute'\n",
      "\n",
      "\u001b[0m"
     ]
    }
   ],
   "source": [
    "(substitute '(f e a r s) 'f 'b)\n",
    "; Ans: (b e a r s)"
   ]
  },
  {
   "cell_type": "code",
   "execution_count": null,
   "metadata": {},
   "outputs": [],
   "source": [
    "(substitute '(g (o) o (o)) 'o 'r)\n",
    "; Ans: (g (r) r (r))"
   ]
  },
  {
   "cell_type": "markdown",
   "metadata": {},
   "source": [
    "### Strategy"
   ]
  },
  {
   "cell_type": "markdown",
   "metadata": {},
   "source": [
    "Classic recursive problem.\n",
    "\n",
    "Base case: if `s` is empty, then just return s"
   ]
  },
  {
   "cell_type": "code",
   "execution_count": null,
   "metadata": {},
   "outputs": [],
   "source": [
    "((null? s) s)"
   ]
  },
  {
   "cell_type": "markdown",
   "metadata": {},
   "source": [
    "If `car s` is a nested list, then construct a list where the `.first` is a recursive `substitute` call on `car s` and the `.rest` is a recursive `substitute` call on `cdr s`"
   ]
  },
  {
   "cell_type": "code",
   "execution_count": null,
   "metadata": {},
   "outputs": [],
   "source": [
    "((pair? (car s)) (cons\n",
    "                 (substitute (car s) old new)\n",
    "                 (substitute (cdr s) old new)\n",
    "                 )\n",
    ")"
   ]
  },
  {
   "cell_type": "markdown",
   "metadata": {},
   "source": [
    "If `car s` is the same as `old`, then construct a list where `.first` is `new` and the `.rest` is a recursive substitute call on `cdr s`"
   ]
  },
  {
   "cell_type": "code",
   "execution_count": null,
   "metadata": {},
   "outputs": [],
   "source": [
    "((eq? (car s) old) (cons new \n",
    "                        (substitute (cdr s) old new)\n",
    "                        )\n",
    " )"
   ]
  },
  {
   "cell_type": "markdown",
   "metadata": {},
   "source": [
    "`else`, if `car s` is neither a nested list nor containing `old`, then just construct a list pertaining that `car s`, with the `.rest` of a recursive substitute call on `cdr s`"
   ]
  },
  {
   "cell_type": "code",
   "execution_count": null,
   "metadata": {},
   "outputs": [],
   "source": [
    "(else (cons (car s)\n",
    "            (substitute (cdr s) old new)\n",
    "            )\n",
    "      )"
   ]
  },
  {
   "cell_type": "markdown",
   "metadata": {},
   "source": [
    "The implementation would look like the following,"
   ]
  },
  {
   "cell_type": "code",
   "execution_count": 1,
   "metadata": {},
   "outputs": [],
   "source": [
    "(define (substitute s old new)\n",
    "  (cond\n",
    "    ((null? s) s) ; If s is empty, then just return s\n",
    "    ; if 'car s' is a nested list, then construct a list where the first is the recursive call of substitute on car s,\n",
    "    ; while the .rest is the recursive call of substitute on cdr s\n",
    "    ((pair? (car s)) (cons\n",
    "                      (substitute (car s) old new)\n",
    "                      (substitute (cdr s) old new)\n",
    "    ))\n",
    "    ; If 'car s' is old, start constructing a list where '.first' is 'new' while '.rest' is the\n",
    "    ; recursive call of substitute on cdr s\n",
    "    ((eq? (car s) old) (cons new (substitute (cdr s) old new)))\n",
    "    ; Otherwise, if (car s) is just an element that is not 'old', construct a list where the '.first' is still 'car s',\n",
    "    ; and '.rest' is the recursive call of substitute on 'cdr s'\n",
    "    (else (cons (car s) (substitute (cdr s) old new)))\n",
    "  )\n",
    ")"
   ]
  },
  {
   "cell_type": "markdown",
   "metadata": {},
   "source": [
    "## Q11: Sub All -- CONSULTED SOLUTION MANUAL"
   ]
  },
  {
   "cell_type": "markdown",
   "metadata": {},
   "source": [
    "### WWSD"
   ]
  },
  {
   "cell_type": "code",
   "execution_count": 2,
   "metadata": {},
   "outputs": [],
   "source": [
    "(define (sub-all s olds news)\n",
    "  (if (null? olds)\n",
    "    s\n",
    "    (sub-all (substitute s (car olds) (car news))\n",
    "             (cdr olds)\n",
    "             (cdr news)))\n",
    ")"
   ]
  },
  {
   "cell_type": "markdown",
   "metadata": {},
   "source": [
    "`sub-all` is basically repeatedly calling the `substitute` procedure we defined in the previous problem. In Python, this is equivalent to iterating over list of `olds` and `news`, calling `substitute` and saving the result for the next call. The Python implementation looks like the following,"
   ]
  },
  {
   "cell_type": "code",
   "execution_count": null,
   "metadata": {},
   "outputs": [],
   "source": [
    "def sub_all(s, olds, news):\n",
    "    for old, new in zip(olds, news):\n",
    "        s = substitutes(s, old, new)\n",
    "    return s"
   ]
  },
  {
   "cell_type": "markdown",
   "metadata": {},
   "source": [
    "The tricky part is to translate the logic into Scheme. Scheme can't do iteration and thus, we can only do recursive call to `sub-all`. This means shortening the list of `olds` and `news`, and most importantly, feeding the result of `substitute` into the next call.\n",
    "\n",
    "Beware that the base case **IS NOT** checking if `s` is empty. Remember that we're passing in `s` with elements replaced into the recursive call, which means it won't become any shorter. Instead, the base case is if we have nothing to replace in `olds`, or if we used up all the `news`.\n"
   ]
  },
  {
   "cell_type": "code",
   "execution_count": 3,
   "metadata": {},
   "outputs": [
    {
     "data": {
      "text/plain": [
       "(big ((game)))"
      ]
     },
     "execution_count": 3,
     "metadata": {},
     "output_type": "execute_result"
    }
   ],
   "source": [
    "(sub-all '(go ((bears))) '(go bears) '(big game))\n",
    "; Ans: (big ((game)))"
   ]
  },
  {
   "cell_type": "code",
   "execution_count": null,
   "metadata": {},
   "outputs": [],
   "source": []
  }
 ],
 "metadata": {
  "kernelspec": {
   "display_name": "Calysto Scheme 3",
   "language": "scheme",
   "name": "calysto_scheme"
  },
  "language_info": {
   "codemirror_mode": {
    "name": "scheme"
   },
   "mimetype": "text/x-scheme",
   "name": "scheme",
   "pygments_lexer": "scheme"
  }
 },
 "nbformat": 4,
 "nbformat_minor": 2
}
