{
 "cells": [
  {
   "cell_type": "markdown",
   "metadata": {},
   "source": [
    "## Q1: `cadr` and `caddr`"
   ]
  },
  {
   "cell_type": "markdown",
   "metadata": {},
   "source": [
    "Define the procedures `cadr` and `caddr`, which return the 2nd and 3rd elements of a list, respectively."
   ]
  },
  {
   "cell_type": "markdown",
   "metadata": {},
   "source": [
    "#### WWSD"
   ]
  },
  {
   "cell_type": "code",
   "execution_count": 4,
   "metadata": {},
   "outputs": [
    {
     "data": {
      "text/plain": [
       "(3 4)"
      ]
     },
     "execution_count": 4,
     "metadata": {},
     "output_type": "execute_result"
    }
   ],
   "source": [
    "(cddr '(1 2 3 4))\n",
    "; Ans: (3 4)"
   ]
  },
  {
   "cell_type": "code",
   "execution_count": 5,
   "metadata": {},
   "outputs": [
    {
     "data": {
      "text/plain": [
       "2"
      ]
     },
     "execution_count": 5,
     "metadata": {},
     "output_type": "execute_result"
    }
   ],
   "source": [
    "(cadr '(1 2 3 4))\n",
    "; Ans: 2"
   ]
  },
  {
   "cell_type": "code",
   "execution_count": 6,
   "metadata": {},
   "outputs": [
    {
     "data": {
      "text/plain": [
       "3"
      ]
     },
     "execution_count": 6,
     "metadata": {},
     "output_type": "execute_result"
    }
   ],
   "source": [
    "(caddr '(1 2 3 4))\n",
    "; Ans: 3"
   ]
  },
  {
   "cell_type": "code",
   "execution_count": 1,
   "metadata": {},
   "outputs": [],
   "source": [
    "(define (cddr s)\n",
    "  (cdr (cdr s))\n",
    "  ) ; End of define"
   ]
  },
  {
   "cell_type": "code",
   "execution_count": 2,
   "metadata": {},
   "outputs": [
    {
     "name": "stderr",
     "output_type": "stream",
     "text": [
      "\u001b[1;31m\n",
      "Traceback (most recent call last):\n",
      "  File \"In [2]\", line 2, col 16\n",
      "ReadError: unexpected end of input\n",
      "\n",
      "\u001b[0m"
     ]
    }
   ],
   "source": [
    "(define (cadr s)\n",
    "  (car (cdr s))\n",
    "  )"
   ]
  },
  {
   "cell_type": "code",
   "execution_count": 3,
   "metadata": {},
   "outputs": [],
   "source": [
    "(define (caddr s)\n",
    "  (car (cddr s))\n",
    "  )"
   ]
  },
  {
   "cell_type": "markdown",
   "metadata": {},
   "source": [
    "## Q2 Sign"
   ]
  },
  {
   "cell_type": "markdown",
   "metadata": {},
   "source": [
    "#### WWSD"
   ]
  },
  {
   "cell_type": "code",
   "execution_count": 7,
   "metadata": {},
   "outputs": [
    {
     "data": {
      "text/plain": [
       "42"
      ]
     },
     "execution_count": 7,
     "metadata": {},
     "output_type": "execute_result"
    }
   ],
   "source": [
    "(cond ((= 1 1) 42))\n",
    "; Ans: 42"
   ]
  },
  {
   "cell_type": "code",
   "execution_count": 9,
   "metadata": {},
   "outputs": [
    {
     "data": {
      "text/plain": [
       "42"
      ]
     },
     "execution_count": 9,
     "metadata": {},
     "output_type": "execute_result"
    }
   ],
   "source": [
    "(cond ((= 1 1) 42) ((= 1 1) 24))\n",
    "; Ans: 42"
   ]
  },
  {
   "cell_type": "markdown",
   "metadata": {},
   "source": [
    "Above, the only the first value that satisfy the condition is returned."
   ]
  },
  {
   "cell_type": "code",
   "execution_count": 10,
   "metadata": {},
   "outputs": [
    {
     "data": {
      "text/plain": [
       "999"
      ]
     },
     "execution_count": 10,
     "metadata": {},
     "output_type": "execute_result"
    }
   ],
   "source": [
    "(cond ((= 1 0) 42) ((= 0 1) 24) (else 999));\n",
    "; Ans: 999"
   ]
  },
  {
   "cell_type": "code",
   "execution_count": null,
   "metadata": {},
   "outputs": [],
   "source": [
    "(sign -42)\n",
    "; Ans: -1"
   ]
  },
  {
   "cell_type": "code",
   "execution_count": null,
   "metadata": {},
   "outputs": [],
   "source": [
    "(sign 0)\n",
    "; Ans: 0"
   ]
  },
  {
   "cell_type": "code",
   "execution_count": null,
   "metadata": {},
   "outputs": [],
   "source": [
    "(sign 42)\n",
    "; Ans: 1"
   ]
  },
  {
   "cell_type": "markdown",
   "metadata": {},
   "source": [
    "Using a `cond` expression, define a procedure `sign` that takes in one parameter `x` and returns:\n",
    "\n",
    "1. -1 if `x` is negative\n",
    "2. 0 if `x` is 0\n",
    "3. 1 if `x` is positive"
   ]
  },
  {
   "cell_type": "markdown",
   "metadata": {},
   "source": [
    "This is just a basic `cond` implementation, very straightforward."
   ]
  },
  {
   "cell_type": "code",
   "execution_count": 8,
   "metadata": {},
   "outputs": [],
   "source": [
    "(define (sign x)\n",
    "  (cond\n",
    "   ((< x 0) -1)\n",
    "   ((> x 0) 1)\n",
    "   (else 0)\n",
    "   ) ; End of cond\n",
    "  ); End of define"
   ]
  },
  {
   "cell_type": "markdown",
   "metadata": {},
   "source": [
    "## Q3: Pow"
   ]
  },
  {
   "cell_type": "markdown",
   "metadata": {},
   "source": [
    "Implement a procedure `pow` for raising the number `b` to the power of a nonnegative integer `n` that runs in $\\Theta(log(n))$ time."
   ]
  },
  {
   "cell_type": "markdown",
   "metadata": {},
   "source": [
    "#### WWSD - What would Scheme Display"
   ]
  },
  {
   "cell_type": "code",
   "execution_count": 18,
   "metadata": {},
   "outputs": [
    {
     "data": {
      "text/plain": [
       "32"
      ]
     },
     "execution_count": 18,
     "metadata": {},
     "output_type": "execute_result"
    }
   ],
   "source": [
    "(pow 2 5) ; Ans: 32"
   ]
  },
  {
   "cell_type": "code",
   "execution_count": 19,
   "metadata": {},
   "outputs": [
    {
     "data": {
      "text/plain": [
       "1000"
      ]
     },
     "execution_count": 19,
     "metadata": {},
     "output_type": "execute_result"
    }
   ],
   "source": [
    "(pow 10 3) ; Ans: 1000"
   ]
  },
  {
   "cell_type": "code",
   "execution_count": 20,
   "metadata": {},
   "outputs": [
    {
     "data": {
      "text/plain": [
       "27"
      ]
     },
     "execution_count": 20,
     "metadata": {},
     "output_type": "execute_result"
    }
   ],
   "source": [
    "(pow 3 3) ; Ans: 27"
   ]
  },
  {
   "cell_type": "markdown",
   "metadata": {},
   "source": [
    "#### Strategy"
   ]
  },
  {
   "cell_type": "markdown",
   "metadata": {},
   "source": [
    "Recall that in raising a number to a power, raising a number to the power of 0 results in 1. This can be the base case, where `n` indicates the power that we're raising to."
   ]
  },
  {
   "cell_type": "code",
   "execution_count": null,
   "metadata": {},
   "outputs": [],
   "source": [
    "((= n 0) 1)"
   ]
  },
  {
   "cell_type": "markdown",
   "metadata": {},
   "source": [
    "For the recursive case of even power, notice the observation,\n",
    "\n",
    "$$ b^{2k} = (b^k)^2 $$\n",
    "\n",
    "Take the $2k$ on the left side as `n`. This means if we want to convert the expression on the left so that it becomes the expression on the right, we would have to divide `n` by `2`. In other words,\n",
    "\n",
    "$$ b^n = (b^{n/2})^2 $$\n",
    "\n",
    "Using the `square` function, the implementation of this case is as the following, "
   ]
  },
  {
   "cell_type": "code",
   "execution_count": 21,
   "metadata": {},
   "outputs": [
    {
     "name": "stderr",
     "output_type": "stream",
     "text": [
      "\u001b[1;31m\n",
      "Traceback (most recent call last):\n",
      "  File \"In [21]\", line 1, col 25\n",
      "RunTimeError: unbound variable 'b'\n",
      "\n",
      "\u001b[0m"
     ]
    }
   ],
   "source": [
    "((even? n) (square (pow b (/ n 2))))"
   ]
  },
  {
   "cell_type": "markdown",
   "metadata": {},
   "source": [
    "Otherwise, if `n` is odd, analyze the observation as well,\n",
    "\n",
    "$$ b^{2k+1} = b(b^k)^2 $$\n",
    "\n",
    "If `n` is $2k+1$, then\n",
    "\n",
    "$$ b^n = b(b^{n-1})^2 $$\n",
    "\n",
    "With the equation above, we can implement it in Scheme as the following,"
   ]
  },
  {
   "cell_type": "code",
   "execution_count": null,
   "metadata": {},
   "outputs": [],
   "source": [
    "((odd? n) (* b (square (pow b (- n 1)))))"
   ]
  },
  {
   "cell_type": "markdown",
   "metadata": {},
   "source": [
    "However, think about these 2 things:\n",
    "\n",
    "1. We have covered the base case and the case where `n` is even. Thus, we don't need to specify that this is for odd `n`. Instead, we can just say that this is the `else` suite.\n",
    "\n",
    "2. If `n` is odd, we call a recursive `pow` where `n` is decremented by 1. Once decremented, the new `n` becomes even, and it will run the case where `even` `n` is found, which is squaring it.\n",
    "\n",
    "Thus, we don't need to include the `square` and we don't need to check whether `n` is odd either."
   ]
  },
  {
   "cell_type": "code",
   "execution_count": null,
   "metadata": {},
   "outputs": [],
   "source": [
    "(else? (* b (pow b (- n 1))))"
   ]
  },
  {
   "cell_type": "markdown",
   "metadata": {},
   "source": [
    "The implementation would look like the following,"
   ]
  },
  {
   "cell_type": "code",
   "execution_count": 17,
   "metadata": {},
   "outputs": [],
   "source": [
    "(define (square x) (* x x))\n",
    "\n",
    "(define (pow b n)\n",
    "  (cond\n",
    "   ((= n 0) 1)\n",
    "   ((even? n) (square (pow b (// n 2))))\n",
    "   (else (* b (pow b (- n 1))))\n",
    "   ) ; End of cond\n",
    "  ) ; End of pow definition"
   ]
  },
  {
   "cell_type": "markdown",
   "metadata": {},
   "source": [
    "## Q4: Ordered"
   ]
  },
  {
   "cell_type": "markdown",
   "metadata": {},
   "source": [
    "#### WWSD"
   ]
  },
  {
   "cell_type": "code",
   "execution_count": null,
   "metadata": {},
   "outputs": [],
   "source": [
    "(ordered? '(1 2 3 4 5)) ; Ans: True"
   ]
  },
  {
   "cell_type": "code",
   "execution_count": null,
   "metadata": {},
   "outputs": [],
   "source": [
    "(ordered '(1 5 2 4 3)) ; Ans: False"
   ]
  },
  {
   "cell_type": "code",
   "execution_count": null,
   "metadata": {},
   "outputs": [],
   "source": [
    "(ordered? '(2 2)) ; Ans: True"
   ]
  },
  {
   "cell_type": "code",
   "execution_count": null,
   "metadata": {},
   "outputs": [],
   "source": [
    "(ordered? '(1 2 2 4 3)) ; Ans: False"
   ]
  },
  {
   "cell_type": "markdown",
   "metadata": {},
   "source": [
    "#### Strategy"
   ]
  },
  {
   "cell_type": "markdown",
   "metadata": {},
   "source": [
    "This is a recursive problem where we would check whether `car s` is less than or equal to `cadr s`, and return `False` otherwise. We can implement this using the `cond` statement,\n",
    "\n",
    "The base case is that if `s` or `cdr s` is empty, that means we have gone through all the elements of `s` without problem. In this case, returns True."
   ]
  },
  {
   "cell_type": "code",
   "execution_count": null,
   "metadata": {},
   "outputs": [],
   "source": [
    "((or (null? s) (null? (cdr s))) #t)"
   ]
  },
  {
   "cell_type": "markdown",
   "metadata": {},
   "source": [
    "Otherwise, if `car s` is greater than `cadr s`, return False."
   ]
  },
  {
   "cell_type": "code",
   "execution_count": null,
   "metadata": {},
   "outputs": [],
   "source": [
    "((> (car s) (cadr s)) #f)"
   ]
  },
  {
   "cell_type": "markdown",
   "metadata": {},
   "source": [
    "Else, as long as we still have elements, recursive call `ordered?` on `cdr s`"
   ]
  },
  {
   "cell_type": "code",
   "execution_count": null,
   "metadata": {},
   "outputs": [],
   "source": [
    "(else (ordered? (cdr s)))"
   ]
  },
  {
   "cell_type": "markdown",
   "metadata": {},
   "source": [
    "The implementation looks like the following,"
   ]
  },
  {
   "cell_type": "code",
   "execution_count": null,
   "metadata": {},
   "outputs": [],
   "source": [
    "(define (ordered? s)\n",
    "  (cond\n",
    "   ((or (null? s) (null? (cdr s))) #t)\n",
    "   ((> (car s) (null? (cdr s))) #f)\n",
    "   (else (ordered? (cdr s)))\n",
    "   ) ; End of cond\n",
    ") ; End of define"
   ]
  },
  {
   "cell_type": "markdown",
   "metadata": {},
   "source": [
    "However, a shorter implementation is to notice that we can combine the last 2 conditions in one `else` statement, which checks whether `car s` and `cadr s` are the same and on the same time calls a recursive `ordered?` on `cdr s`."
   ]
  },
  {
   "cell_type": "code",
   "execution_count": null,
   "metadata": {},
   "outputs": [],
   "source": [
    "(and\n",
    " (<= (car s) (cadr s))\n",
    " (ordered? (cdr s))\n",
    " );"
   ]
  },
  {
   "cell_type": "markdown",
   "metadata": {},
   "source": [
    "The complete implementation looks like the following,"
   ]
  },
  {
   "cell_type": "code",
   "execution_count": null,
   "metadata": {},
   "outputs": [],
   "source": [
    "(define (ordered? s)\n",
    "  (if (or (null? s) (null? (cdr s)))\n",
    "      #t\n",
    "      (and (<= (car s) (cadr s)) (ordered? (cdr s)))\n",
    "      ) ; End of if statement\n",
    "  ) ; End of define"
   ]
  },
  {
   "cell_type": "markdown",
   "metadata": {},
   "source": [
    "#### Writer's Note\n",
    "Note that the implementation will fail the `ok.py` test. This is because the autograder expects a `'True'` output, while Scheme returns `#t`."
   ]
  },
  {
   "cell_type": "code",
   "execution_count": null,
   "metadata": {},
   "outputs": [],
   "source": []
  }
 ],
 "metadata": {
  "kernelspec": {
   "display_name": "Calysto Scheme 3",
   "language": "scheme",
   "name": "calysto_scheme"
  },
  "language_info": {
   "codemirror_mode": {
    "name": "scheme"
   },
   "mimetype": "text/x-scheme",
   "name": "scheme",
   "pygments_lexer": "scheme"
  }
 },
 "nbformat": 4,
 "nbformat_minor": 2
}
