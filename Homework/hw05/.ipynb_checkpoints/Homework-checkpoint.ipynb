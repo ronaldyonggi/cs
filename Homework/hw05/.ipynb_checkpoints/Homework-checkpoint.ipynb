{
 "cells": [
  {
   "cell_type": "markdown",
   "metadata": {},
   "source": [
    "# Homework 5"
   ]
  },
  {
   "cell_type": "code",
   "execution_count": 5,
   "metadata": {},
   "outputs": [],
   "source": [
    "def tree(label, branches=[]):\n",
    "    \"\"\"Construct a tree with the given label value and a list of branches.\"\"\"\n",
    "    for branch in branches:\n",
    "        assert is_tree(branch), 'branches must be trees'\n",
    "    return [label] + list(branches)\n",
    "\n",
    "def label(tree):\n",
    "    \"\"\"Return the label value of a tree.\"\"\"\n",
    "    return tree[0]\n",
    "\n",
    "def branches(tree):\n",
    "    \"\"\"Return the list of branches of the given tree.\"\"\"\n",
    "    return tree[1:]\n",
    "\n",
    "def is_tree(tree):\n",
    "    \"\"\"Returns True if the given tree is a tree, and False otherwise.\"\"\"\n",
    "    if type(tree) != list or len(tree) < 1:\n",
    "        return False\n",
    "    for branch in branches(tree):\n",
    "        if not is_tree(branch):\n",
    "            return False\n",
    "    return True\n",
    "\n",
    "def is_leaf(tree):\n",
    "    \"\"\"Returns True if the given tree's list of branches is empty, and False\n",
    "    otherwise.\n",
    "    \"\"\"\n",
    "    return not branches(tree)\n",
    "\n",
    "def print_tree(t, indent=0):\n",
    "    \"\"\"Print a representation of this tree in which each node is\n",
    "    indented by two spaces times its depth from the root.\n",
    "\n",
    "    >>> print_tree(tree(1))\n",
    "    1\n",
    "    >>> print_tree(tree(1, [tree(2)]))\n",
    "    1\n",
    "      2\n",
    "    >>> numbers = tree(1, [tree(2), tree(3, [tree(4), tree(5)]), tree(6, [tree(7)])])\n",
    "    >>> print_tree(numbers)\n",
    "    1\n",
    "      2\n",
    "      3\n",
    "        4\n",
    "        5\n",
    "      6\n",
    "        7\n",
    "    \"\"\"\n",
    "    print('  ' * indent + str(label(t)))\n",
    "    for b in branches(t):\n",
    "        print_tree(b, indent + 1)\n",
    "\n",
    "def copy_tree(t):\n",
    "    \"\"\"Returns a copy of t. Only for testing purposes.\n",
    "\n",
    "    >>> t = tree(5)\n",
    "    >>> copy = copy_tree(t)\n",
    "    >>> t = tree(6)\n",
    "    >>> print_tree(copy)\n",
    "    5\n",
    "    \"\"\"\n",
    "    return tree(label(t), [copy_tree(b) for b in branches(t)])"
   ]
  },
  {
   "cell_type": "markdown",
   "metadata": {},
   "source": [
    "## Q1: Replace Leaf"
   ]
  },
  {
   "cell_type": "markdown",
   "metadata": {},
   "source": [
    "Define `replace_leaf`, which takes:\n",
    "1. A tree `t`,\n",
    "2. A value `old`,\n",
    "3. A value `new`\n",
    "\n",
    "`replace_leaf` returns a new tree that's the same as `t` except that every leaf value equal to `old` has been replaced by `new`"
   ]
  },
  {
   "cell_type": "markdown",
   "metadata": {},
   "source": [
    "This implementation is straightforward. Our base case is that if the current tree is a leaf and its label is `old`, then create a tree with `new` as the label."
   ]
  },
  {
   "cell_type": "code",
   "execution_count": 11,
   "metadata": {},
   "outputs": [
    {
     "ename": "SyntaxError",
     "evalue": "invalid syntax (<ipython-input-11-59e560e58a31>, line 1)",
     "output_type": "error",
     "traceback": [
      "\u001b[1;36m  File \u001b[1;32m\"<ipython-input-11-59e560e58a31>\"\u001b[1;36m, line \u001b[1;32m1\u001b[0m\n\u001b[1;33m    if is_leaf(t) and label(t) == old\u001b[0m\n\u001b[1;37m                                     ^\u001b[0m\n\u001b[1;31mSyntaxError\u001b[0m\u001b[1;31m:\u001b[0m invalid syntax\n"
     ]
    }
   ],
   "source": [
    "if is_leaf(t) and label(t) == old:\n",
    "    return tree(new)"
   ]
  },
  {
   "cell_type": "markdown",
   "metadata": {},
   "source": [
    "For the recursive case, create a tree with the same labels and **recursive `replace_leaf`** every branches as its branch."
   ]
  },
  {
   "cell_type": "code",
   "execution_count": 8,
   "metadata": {},
   "outputs": [],
   "source": [
    "def replace_leaf(t, old, new):\n",
    "    if is_leaf(t) and label(t) == old:\n",
    "        return tree(new)\n",
    "    else:\n",
    "        return tree(label(t), [replace_leaf(b, old, new) for b in branches(t)])"
   ]
  },
  {
   "cell_type": "code",
   "execution_count": 9,
   "metadata": {},
   "outputs": [],
   "source": [
    "yggdrasil = tree('odin',\n",
    "                 [tree('balder',\n",
    "                       [tree('thor'),\n",
    "                        tree('loki')]),\n",
    "                  tree('frigg',\n",
    "                       [tree('thor')]),\n",
    "                  tree('thor',\n",
    "                       [tree('sif'),\n",
    "                        tree('thor')]),\n",
    "                  tree('thor')])"
   ]
  },
  {
   "cell_type": "code",
   "execution_count": 10,
   "metadata": {},
   "outputs": [
    {
     "name": "stdout",
     "output_type": "stream",
     "text": [
      "odin\n",
      "  balder\n",
      "    freya\n",
      "    loki\n",
      "  frigg\n",
      "    freya\n",
      "  thor\n",
      "    sif\n",
      "    freya\n",
      "  freya\n"
     ]
    }
   ],
   "source": [
    "print_tree(replace_leaf(yggdrasil, 'thor', 'freya'))"
   ]
  },
  {
   "cell_type": "markdown",
   "metadata": {},
   "source": [
    "# Mobiles"
   ]
  },
  {
   "cell_type": "markdown",
   "metadata": {},
   "source": [
    "## Q2: Weights"
   ]
  },
  {
   "cell_type": "markdown",
   "metadata": {},
   "source": [
    "Implement the `weight` data abstraction by completing the `weight` constructor and the `size` selector so that a weight is represented using a 2-element list where the first element is the string `weight`."
   ]
  },
  {
   "cell_type": "markdown",
   "metadata": {},
   "source": [
    "This problem is pretty straightforward, just as described in the program description above. Some additional things that help is to see how `mobile` and `side` was constructed and how the selector worked."
   ]
  },
  {
   "cell_type": "code",
   "execution_count": null,
   "metadata": {},
   "outputs": [],
   "source": [
    "def mobile(left, right):\n",
    "    \"\"\"Construct a mobile from a left side and a right side.\"\"\"\n",
    "    assert is_side(left), \"left must be a side\"\n",
    "    assert is_side(right), \"right must be a side\"\n",
    "    return ['mobile', left, right]\n",
    "\n",
    "def is_mobile(m):\n",
    "    \"\"\"Return whether m is a mobile.\"\"\"\n",
    "    return type(m) == list and len(m) == 3 and m[0] == 'mobile'\n",
    "\n",
    "def left(m):\n",
    "    \"\"\"Select the left side of a mobile.\"\"\"\n",
    "    assert is_mobile(m), \"must call left on a mobile\"\n",
    "    return m[1]\n",
    "\n",
    "def right(m):\n",
    "    \"\"\"Select the right side of a mobile.\"\"\"\n",
    "    assert is_mobile(m), \"must call right on a mobile\"\n",
    "    return m[2]\n",
    "\n",
    "def side(length, mobile_or_weight):\n",
    "    \"\"\"Construct a side: a length of rod with a mobile or weight at the end.\"\"\"\n",
    "    assert is_mobile(mobile_or_weight) or is_weight(mobile_or_weight)\n",
    "    return ['side', length, mobile_or_weight]\n",
    "\n",
    "def is_side(s):\n",
    "    \"\"\"Return whether s is a side.\"\"\"\n",
    "    return type(s) == list and len(s) == 3 and s[0] == 'side'\n",
    "\n",
    "def length(s):\n",
    "    \"\"\"Select the length of a side.\"\"\"\n",
    "    assert is_side(s), \"must call length on a side\"\n",
    "    return s[1]\n",
    "\n",
    "def end(s):\n",
    "    \"\"\"Select the mobile or weight hanging at the end of a side.\"\"\"\n",
    "    assert is_side(s), \"must call end on a side\"\n",
    "    return s[2]"
   ]
  },
  {
   "cell_type": "markdown",
   "metadata": {},
   "source": [
    "Another thing that we can do is to look at the `is_weight` function."
   ]
  },
  {
   "cell_type": "code",
   "execution_count": null,
   "metadata": {},
   "outputs": [],
   "source": [
    "def is_weight(w):\n",
    "    \"\"\"Whether w is a weight.\"\"\"\n",
    "    return type(w) == list and len(w) == 2 and w[0] == 'weight'"
   ]
  },
  {
   "cell_type": "markdown",
   "metadata": {},
   "source": [
    "By looking at `is_weight`, we can tell that a `weight` is a list of length 2, in which the first element is the string `'weight'`"
   ]
  },
  {
   "cell_type": "code",
   "execution_count": null,
   "metadata": {},
   "outputs": [],
   "source": [
    "def weight(size):\n",
    "    \"\"\"Construct a weight of some size.\"\"\"\n",
    "    assert size > 0\n",
    "    \"*** YOUR CODE HERE ***\"\n",
    "    return ['weight', size]\n",
    "\n",
    "def size(w):\n",
    "    \"\"\"Select the size of a weight.\"\"\"\n",
    "    assert is_weight(w), 'must call size on a weight'\n",
    "    \"*** YOUR CODE HERE ***\"\n",
    "    return w[1]"
   ]
  },
  {
   "cell_type": "markdown",
   "metadata": {},
   "source": [
    "## Q3\n",
    "\n",
    "Implement the `balanced` function, which returns whether `m` is a balanced mobile. A mobile is balanced if two conditions are met:\n",
    "\n",
    "1. The torque applied by its left side is equal to that applied by its right side. \n",
    "    * Torque of the left side is the length of the left rod multiplied by the total weight hanging from that rod. Likewise for the right.\n",
    "2. Each of the mobiles hanging at the end of its sides is balanced.\n",
    "\n",
    "Hint: You may find it helpful to assume that weights themselves are balanced."
   ]
  },
  {
   "cell_type": "code",
   "execution_count": 1,
   "metadata": {},
   "outputs": [],
   "source": [
    "def examples():\n",
    "    t = mobile(side(1, weight(2)),\n",
    "               side(2, weight(1)))\n",
    "    u = mobile(side(5, weight(1)),\n",
    "               side(1, mobile(side(2, weight(3)),\n",
    "                              side(3, weight(2)))))\n",
    "    v = mobile(side(4, t), side(2, u))\n",
    "    return (t, u, v)"
   ]
  },
  {
   "cell_type": "code",
   "execution_count": null,
   "metadata": {},
   "outputs": [],
   "source": [
    ">>> t, u, v = examples()\n",
    ">>> balanced(t)\n",
    "True\n",
    ">>> balanced(v)\n",
    "True\n",
    ">>> w = mobile(side(3, t), side(2, u))\n",
    ">>> balanced(w)\n",
    "False\n",
    ">>> balanced(mobile(side(1, v), side(1, w)))\n",
    "False\n",
    ">>> balanced(mobile(side(1, w), side(1, v)))\n",
    "False\n",
    "    "
   ]
  }
 ],
 "metadata": {
  "kernelspec": {
   "display_name": "Python 3",
   "language": "python",
   "name": "python3"
  },
  "language_info": {
   "codemirror_mode": {
    "name": "ipython",
    "version": 3
   },
   "file_extension": ".py",
   "mimetype": "text/x-python",
   "name": "python",
   "nbconvert_exporter": "python",
   "pygments_lexer": "ipython3",
   "version": "3.6.8"
  }
 },
 "nbformat": 4,
 "nbformat_minor": 2
}
