{
 "cells": [
  {
   "cell_type": "markdown",
   "metadata": {},
   "source": [
    "#### Writers Note\n",
    "Below is a demonstration on what `cadr` and `caddr` do."
   ]
  },
  {
   "cell_type": "code",
   "execution_count": 13,
   "metadata": {},
   "outputs": [],
   "source": [
    "(define (cadr s) (car (cdr s)))\n",
    "(define (caddr s) (cadr (cdr s)))"
   ]
  },
  {
   "cell_type": "code",
   "execution_count": 14,
   "metadata": {},
   "outputs": [
    {
     "data": {
      "text/plain": [
       "2"
      ]
     },
     "execution_count": 14,
     "metadata": {},
     "output_type": "execute_result"
    }
   ],
   "source": [
    "(define x (list 1 2 3 4))\n",
    "(cadr x)"
   ]
  },
  {
   "cell_type": "code",
   "execution_count": 15,
   "metadata": {},
   "outputs": [
    {
     "data": {
      "text/plain": [
       "3"
      ]
     },
     "execution_count": 15,
     "metadata": {},
     "output_type": "execute_result"
    }
   ],
   "source": [
    "(caddr x)"
   ]
  },
  {
   "cell_type": "markdown",
   "metadata": {},
   "source": [
    "# Differentiation"
   ]
  },
  {
   "cell_type": "markdown",
   "metadata": {},
   "source": [
    "The following problems develop a system for [symbolic differentiation](https://en.wikipedia.org/wiki/Differentiation_rules#Elementary_rules_of_differentiation) of algebraic expressions. The `derive` Scheme procedure takes an algebraic expression and a variable and returns the derivative of the expression with respect to the variable. Symbolic differentiation is of special historical significance in Lisp. It was one of the motivating examples behind the development of the language. **Differentiationg is a recursive process that applies different rules to different kinds of expressions**."
   ]
  },
  {
   "cell_type": "code",
   "execution_count": 2,
   "metadata": {},
   "outputs": [],
   "source": [
    "; Returns the derivative of 'expr' with respect to 'var'\n",
    "(define (derive expr var)\n",
    "  (cond\n",
    "   ((number? expr) 0 ) ; If expr is a number, then the derivative is just 0\n",
    "   ; If 'expr' is a variable and if it's the same as 'var' then return 1, \n",
    "   ; otherwise return 0.\n",
    "   ; For example, if `expr` is x, and we derive it with respect to x, then\n",
    "   ; the derivative is 1. Otherwise, if 'expr' is y, then the derivative is 0\n",
    "   ((variable? expr) (if (same-variable? expr var) 1 0))\n",
    "   ((sum? expr) (derive-sum expr var))\n",
    "   ((product? expr) (derive-product expr var))\n",
    "   ((exp? expr) (derive-exp expr var))\n",
    "   (else 'Error)))"
   ]
  },
  {
   "cell_type": "markdown",
   "metadata": {},
   "source": [
    "To implement the system, we will use the following data abstraction. Sums and products are lists, and they are simplified on construction."
   ]
  },
  {
   "cell_type": "code",
   "execution_count": 3,
   "metadata": {},
   "outputs": [],
   "source": [
    "; Variables are represented as symbols\n",
    "(define (variable? x) (symbol? x))\n",
    "\n",
    "; Checks if v1 is the same as v2\n",
    "(define (same-variable? v1 v2)\n",
    "  (and (variable? v1) (variable? v2) (eq? v1 v2)))"
   ]
  },
  {
   "cell_type": "code",
   "execution_count": 4,
   "metadata": {},
   "outputs": [],
   "source": [
    "; Numbers are compared with =\n",
    "(define (=number? expr num)\n",
    "  ; Checks if 'expr' is a numbe\n",
    "  (and (number? expr) (= expr num)))"
   ]
  },
  {
   "cell_type": "code",
   "execution_count": 5,
   "metadata": {},
   "outputs": [],
   "source": [
    "; Sums are represented as lists that start with +\n",
    "(define (make-sum a1 a2)\n",
    "  (cond\n",
    "   ((=number? a1 0) a2)\n",
    "   ((=number? a2 0) a1)\n",
    "   ((and (number? a1) (number? a2)) (+ a1 a2))\n",
    "   (else (list '+ a1 a2))\n",
    "   ) ; End of cond\n",
    "  ) ; End of define\n",
    "\n",
    "; Checks if x is a symbol and the first element is a '+'\n",
    "(define (sum? x)\n",
    "  (and (list? x) (eq? (car x) '+)))\n",
    "\n",
    "(define (addend s) (cadr s))\n",
    "(define (augend s) (caddr s))"
   ]
  },
  {
   "cell_type": "code",
   "execution_count": 6,
   "metadata": {},
   "outputs": [],
   "source": [
    "; Products are represented as lists that start with *\n",
    "(define (make-product m1 m2)\n",
    "  (cond\n",
    "   ; If either m1 or m2 is 0, then the product i s0\n",
    "   ((or (=number? m1 0) (=number? m2 0)) 0)\n",
    "   ((=number? m1 1) m2) ; If one of them\n",
    "   ((=number? m2 1) m1)\n",
    "   ((and (number? m1) (number? m2)) (* m1 m2))\n",
    "   (else (list '* m1 m2))))\n",
    "\n",
    "; Checks if x is a list and if the first element is a '*'\n",
    "(define (product? x)\n",
    "  (and (list? x) (eq? (car x) '*)))\n",
    "\n",
    "(define (multiplier p) (cadr p))\n",
    "(define (multiplicand p) (caddr p))"
   ]
  },
  {
   "cell_type": "markdown",
   "metadata": {},
   "source": [
    "## Q3: Derive Sum\n",
    "Implement `derive-sum`, a procedure that differentiates a sum by summing the derivatives of the `addend` and `augend`. Use data abstraction for a sum."
   ]
  },
  {
   "cell_type": "markdown",
   "metadata": {},
   "source": [
    "#### WWSD"
   ]
  },
  {
   "cell_type": "code",
   "execution_count": 7,
   "metadata": {},
   "outputs": [
    {
     "data": {
      "text/plain": [
       "4"
      ]
     },
     "execution_count": 7,
     "metadata": {},
     "output_type": "execute_result"
    }
   ],
   "source": [
    "(make-sum 1 3)\n",
    "; Ans: 4"
   ]
  },
  {
   "cell_type": "code",
   "execution_count": 8,
   "metadata": {},
   "outputs": [
    {
     "data": {
      "text/plain": [
       "x"
      ]
     },
     "execution_count": 8,
     "metadata": {},
     "output_type": "execute_result"
    }
   ],
   "source": [
    "(make-sum 'x 0)\n",
    "; Ans: x"
   ]
  },
  {
   "cell_type": "code",
   "execution_count": 9,
   "metadata": {},
   "outputs": [
    {
     "data": {
      "text/plain": [
       "x"
      ]
     },
     "execution_count": 9,
     "metadata": {},
     "output_type": "execute_result"
    }
   ],
   "source": [
    "(make-sum 0 'x)\n",
    "; Ans: x"
   ]
  },
  {
   "cell_type": "code",
   "execution_count": 10,
   "metadata": {},
   "outputs": [
    {
     "data": {
      "text/plain": [
       "(+ a x)"
      ]
     },
     "execution_count": 10,
     "metadata": {},
     "output_type": "execute_result"
    }
   ],
   "source": [
    "(make-sum 'a 'x)\n",
    "; Ans: (+ a x)"
   ]
  },
  {
   "cell_type": "code",
   "execution_count": 11,
   "metadata": {},
   "outputs": [
    {
     "data": {
      "text/plain": [
       "(+ a (+ x 1))"
      ]
     },
     "execution_count": 11,
     "metadata": {},
     "output_type": "execute_result"
    }
   ],
   "source": [
    "(make-sum 'a (make-sum 'x 1))\n",
    "; Ans: (+ a (+ x 1))"
   ]
  },
  {
   "cell_type": "code",
   "execution_count": 12,
   "metadata": {},
   "outputs": [
    {
     "name": "stderr",
     "output_type": "stream",
     "text": [
      "\u001b[1;31m\n",
      "Traceback (most recent call last):\n",
      "  File \"In [12]\", line 1, col 1, in 'derive'\n",
      "  File \"In [2]\", line 10, col 18\n",
      "RunTimeError: unbound variable 'derive-sum'\n",
      "\n",
      "\u001b[0m"
     ]
    }
   ],
   "source": [
    "(derive '(+ x 3) 'x)\n",
    "; Ans: 1"
   ]
  },
  {
   "cell_type": "markdown",
   "metadata": {},
   "source": [
    "#### Strategy"
   ]
  },
  {
   "cell_type": "markdown",
   "metadata": {},
   "source": [
    "As the description says, we just sum the derivatives of `addend` and `augend`. We can evaluate the derivatives by calling the `derive` procedure,"
   ]
  },
  {
   "cell_type": "code",
   "execution_count": null,
   "metadata": {},
   "outputs": [],
   "source": [
    "(derive (addend expr) var)\n",
    "(derive (augend expr) var)"
   ]
  },
  {
   "cell_type": "markdown",
   "metadata": {},
   "source": [
    "Then we can sum the derivatives above with the `make-sum` procedure. The implementation is as the following,"
   ]
  },
  {
   "cell_type": "code",
   "execution_count": null,
   "metadata": {},
   "outputs": [],
   "source": [
    "(define (derive-sum expr var)\n",
    "  (make-sum\n",
    "    (derive (addend expr) var)\n",
    "    (derive (augend expr) var)\n",
    "  )\n",
    ")"
   ]
  },
  {
   "cell_type": "markdown",
   "metadata": {},
   "source": [
    "## Q4: Derive Product"
   ]
  },
  {
   "cell_type": "markdown",
   "metadata": {},
   "source": [
    "Implement `derive-product`, which applies the **product rule** to differentiate products. This means taking the multiplier and multiplicand, and then summing the result of multiplying one by the derivative of the other."
   ]
  },
  {
   "cell_type": "markdown",
   "metadata": {},
   "source": [
    "#### WWSD"
   ]
  },
  {
   "cell_type": "code",
   "execution_count": null,
   "metadata": {},
   "outputs": [],
   "source": [
    "(make-product 2 3)\n",
    "; Ans: 0"
   ]
  },
  {
   "cell_type": "code",
   "execution_count": null,
   "metadata": {},
   "outputs": [],
   "source": [
    "(make-product 'x 0)\n",
    "; Ans: 0"
   ]
  },
  {
   "cell_type": "code",
   "execution_count": null,
   "metadata": {},
   "outputs": [],
   "source": [
    "(make-product 1 'x)\n",
    "; Ans: x"
   ]
  },
  {
   "cell_type": "code",
   "execution_count": null,
   "metadata": {},
   "outputs": [],
   "source": [
    "(make-product 'a 'x)\n",
    "; Ans: (* a x)"
   ]
  },
  {
   "cell_type": "markdown",
   "metadata": {},
   "source": [
    "#### Strategy"
   ]
  },
  {
   "cell_type": "markdown",
   "metadata": {},
   "source": [
    "As described by the problem description, first we'll have to take the derivative of the multiplier and multiplicand,"
   ]
  },
  {
   "cell_type": "code",
   "execution_count": null,
   "metadata": {},
   "outputs": [],
   "source": [
    "(define dmul (derive (multiplier expr) var))\n",
    "(define dcand (derive (multiplicand expr) var))"
   ]
  },
  {
   "cell_type": "markdown",
   "metadata": {},
   "source": [
    "Then we'll have 2 different terms:\n",
    "\n",
    "1. The product of multiplier derivative with the multiplicand\n",
    "2. The product of multipler with multiplicand derivative"
   ]
  },
  {
   "cell_type": "code",
   "execution_count": null,
   "metadata": {},
   "outputs": [],
   "source": [
    "(make-product dmul multiplicand)\n",
    "(make-product multiplier dcand)"
   ]
  },
  {
   "cell_type": "markdown",
   "metadata": {},
   "source": [
    "Then we sum the 2 results above,"
   ]
  },
  {
   "cell_type": "code",
   "execution_count": null,
   "metadata": {},
   "outputs": [],
   "source": [
    "(make-sum\n",
    " (make-product dmul multiplicand)\n",
    " (make-product multiplier dcand)\n",
    " )"
   ]
  },
  {
   "cell_type": "markdown",
   "metadata": {},
   "source": [
    "The implementation is as the following,"
   ]
  },
  {
   "cell_type": "code",
   "execution_count": null,
   "metadata": {},
   "outputs": [],
   "source": [
    "(define (derive-product expr var)\n",
    "  (begin\n",
    "    (define dmul (derive (multiplier expr) var))\n",
    "    (define dcand (derive (multiplicand expr) var)))\n",
    "  (make-sum\n",
    "    (make-product dmul (multiplicand expr))\n",
    "    (make-product (multiplier expr) dcand)\n",
    "  ); End of make-sum\n",
    ") ; End of define"
   ]
  },
  {
   "cell_type": "markdown",
   "metadata": {},
   "source": [
    "## Q5: Make Exp"
   ]
  },
  {
   "cell_type": "markdown",
   "metadata": {},
   "source": [
    "Implement a data abstraction for exponentiation: a `base` raised to the power of an `exponent`. The `base` can be any expression, but assume that the `exponent` is a non-negative integer. You can simplify the case when `exponent` is `0` or `1`, or when `base` is a number, by returning numbers from constructor `make-exp`. In other cases, you can represent the exp as a triple `(^ base exponent)`."
   ]
  },
  {
   "cell_type": "markdown",
   "metadata": {},
   "source": [
    "#### WWSD"
   ]
  },
  {
   "cell_type": "code",
   "execution_count": null,
   "metadata": {},
   "outputs": [],
   "source": [
    "scm> (define x^2 (make-exp 'x 2))\n",
    "scm> (define x^3 (make-exp 'x 3))\n",
    "scm> (make-exp 2 4)\n",
    "; Ans: 16"
   ]
  },
  {
   "cell_type": "code",
   "execution_count": null,
   "metadata": {},
   "outputs": [],
   "source": [
    "scm> (make-exp 'x 1)\n",
    "; Ans: x"
   ]
  },
  {
   "cell_type": "code",
   "execution_count": null,
   "metadata": {},
   "outputs": [],
   "source": [
    "scm> (make-exp 'x 0)\n",
    "; Ans: 1"
   ]
  },
  {
   "cell_type": "code",
   "execution_count": null,
   "metadata": {},
   "outputs": [],
   "source": [
    "scm> x^2\n",
    "; Ans: (^ x 2)"
   ]
  },
  {
   "cell_type": "code",
   "execution_count": null,
   "metadata": {},
   "outputs": [],
   "source": [
    "scm> (base x^2)\n",
    "; Ans: 2"
   ]
  },
  {
   "cell_type": "code",
   "execution_count": null,
   "metadata": {},
   "outputs": [],
   "source": [
    "scm> (exponent x^2)\n",
    "; Ans: 2"
   ]
  },
  {
   "cell_type": "code",
   "execution_count": null,
   "metadata": {},
   "outputs": [],
   "source": [
    "(exp? x^2) ; True or False\n",
    "; Ans: True"
   ]
  },
  {
   "cell_type": "code",
   "execution_count": null,
   "metadata": {},
   "outputs": [],
   "source": [
    "scm> (exp? 1)\n",
    "; False"
   ]
  },
  {
   "cell_type": "code",
   "execution_count": null,
   "metadata": {},
   "outputs": [],
   "source": [
    "scm> (exp? 'x)\n",
    "; False"
   ]
  },
  {
   "cell_type": "markdown",
   "metadata": {},
   "source": [
    "#### Strategy - `make-exp`"
   ]
  },
  {
   "cell_type": "markdown",
   "metadata": {},
   "source": [
    "We know that `x^2` can be represented as `(^ x 2)` from the problem description and WWSD. This way, we can tell that the `exp` argument can be represented as `(^ base exponent)`. The ADT for `base` and `exponent` then can be defined as the second element and the third element of the list `(^ base exponent)`, respectively."
   ]
  },
  {
   "cell_type": "markdown",
   "metadata": {},
   "source": [
    "To define the `make-exp` procedure, we have the following 3 simple base cases:\n",
    "\n",
    "1. If the `exponent` is `0`, then we just return 1\n",
    "2. If the `exponent` is `1`, then we return the base\n",
    "3. If the `base` is a number, then we return the base raised to the power of the `exponent`"
   ]
  },
  {
   "cell_type": "code",
   "execution_count": null,
   "metadata": {},
   "outputs": [],
   "source": [
    "(cond\n",
    " ((= exponent 0) 1)\n",
    " ((= exponent 1) base)\n",
    " ((number? base) (expt base exponent))"
   ]
  },
  {
   "cell_type": "markdown",
   "metadata": {},
   "source": [
    "Otherwise, the expression has to be a symbol and a exponential, which can be represented by `(^ base exponent)`."
   ]
  },
  {
   "cell_type": "code",
   "execution_count": null,
   "metadata": {},
   "outputs": [],
   "source": [
    "(else (list '^ base exponent))"
   ]
  },
  {
   "cell_type": "markdown",
   "metadata": {},
   "source": [
    "The implementation looks like the following,"
   ]
  },
  {
   "cell_type": "code",
   "execution_count": 17,
   "metadata": {},
   "outputs": [
    {
     "name": "stderr",
     "output_type": "stream",
     "text": [
      "\u001b[1;31m\n",
      "Traceback (most recent call last):\n",
      "  File \"In [17]\", line 6, col 97\n",
      "ReadError: unexpected end of input\n",
      "\n",
      "\u001b[0m"
     ]
    }
   ],
   "source": [
    "(define (make-exp base exponent)\n",
    "  (cond\n",
    "   ((= exponent 0) 1) ; If the exponent is 0, then just return 1\n",
    "   ((= exponent 1) base) ; If the exponent is 1, then return the base\n",
    "   ((number? base) (expt base exponent)) ; If the base is a number, then evaluate the base raised by the power of the exponent\n",
    "   (else (list '^ base exponent)) ; Otherwise, create a list representation of (^ base exponent)\n",
    "   ) ; End of cond\n",
    "  ) ; End of define"
   ]
  },
  {
   "cell_type": "markdown",
   "metadata": {},
   "source": [
    "#### Strategy - `base` and `exponent`"
   ]
  },
  {
   "cell_type": "markdown",
   "metadata": {},
   "source": [
    "Based on the definition of an exponential expression above, the `base` and the `exponent` are the 2nd and 3rd element of the list, respectively."
   ]
  },
  {
   "cell_type": "code",
   "execution_count": null,
   "metadata": {},
   "outputs": [],
   "source": [
    "(^ base exponent)"
   ]
  },
  {
   "cell_type": "markdown",
   "metadata": {},
   "source": [
    "Thus, the ADT for both of them are simply the `cadr` and `caddr` of the list."
   ]
  },
  {
   "cell_type": "code",
   "execution_count": null,
   "metadata": {},
   "outputs": [],
   "source": [
    "(define (base exp) (cadr exp))\n",
    "(define (exponent exp) (caddr exp))"
   ]
  },
  {
   "cell_type": "markdown",
   "metadata": {},
   "source": [
    "#### Strategy - 'exp?`"
   ]
  },
  {
   "cell_type": "markdown",
   "metadata": {},
   "source": [
    "To check whether an expression is an exponential expression, we simply check for 2 things:\n",
    "\n",
    "1. Whether the `exp` is a list\n",
    "2. Whether the first element, `car`, of the `exp` is a `^` symbol."
   ]
  },
  {
   "cell_type": "code",
   "execution_count": 1,
   "metadata": {},
   "outputs": [],
   "source": [
    "(define (exp? exp) (and\n",
    "                    (list? exp)\n",
    "                    (eq? (car exp) '^)\n",
    "                    ) ; End of and\n",
    "  ); End of define"
   ]
  },
  {
   "cell_type": "markdown",
   "metadata": {},
   "source": [
    "## Q6: Derive Exp"
   ]
  },
  {
   "cell_type": "markdown",
   "metadata": {},
   "source": [
    "Implement `derive-exp`, which uses the [power rule](https://en.wikipedia.org/wiki/Power_rule) to derive exponents. Reduce the power of the exponent by one, and multiply the entire expression by the original exponent."
   ]
  },
  {
   "cell_type": "markdown",
   "metadata": {},
   "source": [
    "#### WWSD"
   ]
  },
  {
   "cell_type": "code",
   "execution_count": null,
   "metadata": {},
   "outputs": [],
   "source": [
    "scm> (define x^2 (make-exp 'x 2))\n",
    "scm> (define x^3 (make-exp 'x 3))\n",
    "scm> (derive x^2 'x) ; Remember products have the form (* a b)\n",
    "; Ans: (* 2 x)"
   ]
  },
  {
   "cell_type": "code",
   "execution_count": 1,
   "metadata": {},
   "outputs": [
    {
     "name": "stderr",
     "output_type": "stream",
     "text": [
      "\u001b[1;31m\n",
      "Traceback (most recent call last):\n",
      "  File \"In [1]\", line 1, col 1\n",
      "RunTimeError: unbound variable 'scm>'\n",
      "\n",
      "\u001b[0m"
     ]
    }
   ],
   "source": [
    "scm> (derive x^3 'x)\n",
    "; Ans: (* 3 (^ x 2))"
   ]
  },
  {
   "cell_type": "markdown",
   "metadata": {},
   "source": [
    "#### Strategy\n",
    "T"
   ]
  },
  {
   "cell_type": "markdown",
   "metadata": {},
   "source": [
    "For the derivation, the base case is that if the `exponent` is 2, then the outcome is simply a product rule. Remember to use the data abstraction, the `make-product` procedure."
   ]
  },
  {
   "cell_type": "code",
   "execution_count": null,
   "metadata": {},
   "outputs": [],
   "source": [
    "(if (= 2 (exponent exp))\n",
    "    (make-product (exponent exp) (base exp))"
   ]
  },
  {
   "cell_type": "markdown",
   "metadata": {},
   "source": [
    "Otherwise, we have to combine product rule with the exponentiation form."
   ]
  },
  {
   "cell_type": "code",
   "execution_count": null,
   "metadata": {},
   "outputs": [],
   "source": [
    "(make-product (exponent exp) (make-exp (base exp) (- (exponent exp) 1)))"
   ]
  }
 ],
 "metadata": {
  "kernelspec": {
   "display_name": "Calysto Scheme 3",
   "language": "scheme",
   "name": "calysto_scheme"
  },
  "language_info": {
   "codemirror_mode": {
    "name": "scheme"
   },
   "mimetype": "text/x-scheme",
   "name": "scheme",
   "pygments_lexer": "scheme"
  }
 },
 "nbformat": 4,
 "nbformat_minor": 2
}
