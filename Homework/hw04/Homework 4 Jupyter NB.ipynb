{
 "cells": [
  {
   "cell_type": "markdown",
   "metadata": {},
   "source": [
    "# Q1: Taxicab Distance"
   ]
  },
  {
   "cell_type": "code",
   "execution_count": 1,
   "metadata": {},
   "outputs": [],
   "source": [
    "def intersection(st, ave):\n",
    "    \"\"\"Represent an intersection using the Cantor pairing function.\"\"\"\n",
    "    return (st+ave)*(st+ave+1)//2 + ave\n",
    "\n",
    "def street(inter):\n",
    "    return w(inter) - avenue(inter)\n",
    "\n",
    "def avenue(inter):\n",
    "    return inter - (w(inter) ** 2 + w(inter)) // 2\n",
    "\n",
    "w = lambda z: int(((8*z+1)**0.5-1)/2)"
   ]
  },
  {
   "cell_type": "code",
   "execution_count": 15,
   "metadata": {},
   "outputs": [],
   "source": [
    "times_square = intersection(46, 7)\n",
    "ess_a_bagel = intersection(51, 3)"
   ]
  },
  {
   "cell_type": "markdown",
   "metadata": {},
   "source": [
    "Above, notice that we have the functions `street` and `avenue`, which both takes an intersection as an argument. If we try to use those functions on both `times_square` and `ess_a_bagel`,"
   ]
  },
  {
   "cell_type": "code",
   "execution_count": 16,
   "metadata": {},
   "outputs": [
    {
     "data": {
      "text/plain": [
       "46"
      ]
     },
     "execution_count": 16,
     "metadata": {},
     "output_type": "execute_result"
    }
   ],
   "source": [
    "street(times_square)"
   ]
  },
  {
   "cell_type": "code",
   "execution_count": 17,
   "metadata": {},
   "outputs": [
    {
     "data": {
      "text/plain": [
       "51"
      ]
     },
     "execution_count": 17,
     "metadata": {},
     "output_type": "execute_result"
    }
   ],
   "source": [
    "street(ess_a_bagel)"
   ]
  },
  {
   "cell_type": "code",
   "execution_count": 18,
   "metadata": {},
   "outputs": [
    {
     "data": {
      "text/plain": [
       "7"
      ]
     },
     "execution_count": 18,
     "metadata": {},
     "output_type": "execute_result"
    }
   ],
   "source": [
    "avenue(times_square)"
   ]
  },
  {
   "cell_type": "code",
   "execution_count": 19,
   "metadata": {},
   "outputs": [
    {
     "data": {
      "text/plain": [
       "3"
      ]
     },
     "execution_count": 19,
     "metadata": {},
     "output_type": "execute_result"
    }
   ],
   "source": [
    "avenue(ess_a_bagel)"
   ]
  },
  {
   "cell_type": "markdown",
   "metadata": {},
   "source": [
    "Then we obtain both the street and the avenue for both locations. We can find the difference of both `street` and `avenue` of the 2 places to obtain the Taxicab Distance."
   ]
  },
  {
   "cell_type": "code",
   "execution_count": 20,
   "metadata": {},
   "outputs": [
    {
     "data": {
      "text/plain": [
       "5"
      ]
     },
     "execution_count": 20,
     "metadata": {},
     "output_type": "execute_result"
    }
   ],
   "source": [
    "abs(street(times_square) - street(ess_a_bagel))"
   ]
  },
  {
   "cell_type": "code",
   "execution_count": 21,
   "metadata": {},
   "outputs": [
    {
     "data": {
      "text/plain": [
       "4"
      ]
     },
     "execution_count": 21,
     "metadata": {},
     "output_type": "execute_result"
    }
   ],
   "source": [
    "abs(avenue(times_square) - avenue(ess_a_bagel))"
   ]
  },
  {
   "cell_type": "markdown",
   "metadata": {},
   "source": [
    "Then what's left is to add both values above,"
   ]
  },
  {
   "cell_type": "code",
   "execution_count": 22,
   "metadata": {},
   "outputs": [
    {
     "data": {
      "text/plain": [
       "9"
      ]
     },
     "execution_count": 22,
     "metadata": {},
     "output_type": "execute_result"
    }
   ],
   "source": [
    "abs(street(times_square) - street(ess_a_bagel)) + abs(avenue(times_square) - avenue(ess_a_bagel))"
   ]
  },
  {
   "cell_type": "markdown",
   "metadata": {},
   "source": [
    "# Q2: Squares Only\n",
    "We can write the solution in one line using `list comprehension`. However, it is quite tricky.\n",
    "\n",
    "1. We can square root a number by powering that number with `0.5`."
   ]
  },
  {
   "cell_type": "code",
   "execution_count": 23,
   "metadata": {},
   "outputs": [
    {
     "data": {
      "text/plain": [
       "2.0"
      ]
     },
     "execution_count": 23,
     "metadata": {},
     "output_type": "execute_result"
    }
   ],
   "source": [
    "4 ** 0.5"
   ]
  },
  {
   "cell_type": "markdown",
   "metadata": {},
   "source": [
    "2. We can get rid of the decimal number using the `round` built-in function,"
   ]
  },
  {
   "cell_type": "code",
   "execution_count": 24,
   "metadata": {},
   "outputs": [
    {
     "data": {
      "text/plain": [
       "2"
      ]
     },
     "execution_count": 24,
     "metadata": {},
     "output_type": "execute_result"
    }
   ],
   "source": [
    "round(4 ** 0.5)"
   ]
  },
  {
   "cell_type": "markdown",
   "metadata": {},
   "source": [
    "However, if we try to calculate the square root of a number that doesn't have a perfect square,"
   ]
  },
  {
   "cell_type": "code",
   "execution_count": 25,
   "metadata": {},
   "outputs": [
    {
     "data": {
      "text/plain": [
       "2.8284271247461903"
      ]
     },
     "execution_count": 25,
     "metadata": {},
     "output_type": "execute_result"
    }
   ],
   "source": [
    "8 ** 0.5"
   ]
  },
  {
   "cell_type": "code",
   "execution_count": 26,
   "metadata": {},
   "outputs": [
    {
     "data": {
      "text/plain": [
       "3"
      ]
     },
     "execution_count": 26,
     "metadata": {},
     "output_type": "execute_result"
    }
   ],
   "source": [
    "round(8 ** 0.5)"
   ]
  },
  {
   "cell_type": "markdown",
   "metadata": {},
   "source": [
    "The trick is to realize that if we:\n",
    "1. Square root a number that doesn't have a perfect square\n",
    "2. Round up the result above\n",
    "3. And square back the number above\n",
    "\n",
    "Then we won't get the original number back."
   ]
  },
  {
   "cell_type": "code",
   "execution_count": 27,
   "metadata": {},
   "outputs": [
    {
     "data": {
      "text/plain": [
       "9"
      ]
     },
     "execution_count": 27,
     "metadata": {},
     "output_type": "execute_result"
    }
   ],
   "source": [
    "round(8 ** 0.5) ** 2"
   ]
  },
  {
   "cell_type": "markdown",
   "metadata": {},
   "source": [
    "See above that if we square root `8`, then round up the result, then square it back, we obtain `9` instead of `8`.\n",
    "\n",
    "With list comprehension, we can set a condition so that it only includes numbers that ultimately gets us the original number back, which only works for numbers that has perfect square root."
   ]
  },
  {
   "cell_type": "code",
   "execution_count": 29,
   "metadata": {},
   "outputs": [],
   "source": [
    "def square(s):\n",
    "    return [round(i ** 0.5) for i in s if round(i ** 0.5) ** 2 == i]"
   ]
  },
  {
   "cell_type": "markdown",
   "metadata": {},
   "source": [
    "# Q3: G Function\n",
    "The recursive implementation is straightforward. However, the iterative implementation is not as simple. Recall that the iterative implementation for Fibonacci is as the following,"
   ]
  },
  {
   "cell_type": "code",
   "execution_count": 30,
   "metadata": {},
   "outputs": [],
   "source": [
    "def fib_iter(n):\n",
    "    i = 0 # The nth Fibonacci number, starts at 0th\n",
    "    c, nx = 0, 1 # Stands for 'current' and 'next'\n",
    "    while i < n:\n",
    "        c, nx = nx, nx + c\n",
    "        i += 1\n",
    "    return c"
   ]
  },
  {
   "cell_type": "markdown",
   "metadata": {},
   "source": [
    "Notice that the implementation keeps track of 2 values: `c` and `nx`\n",
    "\n",
    "#### The iteration version is skipped since it is considered too dificult."
   ]
  },
  {
   "cell_type": "markdown",
   "metadata": {},
   "source": [
    "# Q4: Count Change\n",
    "Recall the **Counting Partitions** problem, where we count the number of partitions of a positive integer `n`, using parts up to size `m`.\n",
    "\n",
    "For example, `count_partitions(6, 4)` means how many ways of calculating `6` using parts up to `4`.\n",
    "\n",
    "<img src = 'partition.jpg' width = 800/>"
   ]
  },
  {
   "cell_type": "markdown",
   "metadata": {},
   "source": [
    "We can break down the problem to 2 groups: \n",
    "\n",
    "1. Using `4`, or `count_partitions(2, 4)`\n",
    "2. Not using `4`, or `count_partitions(6, 3)`"
   ]
  },
  {
   "cell_type": "markdown",
   "metadata": {},
   "source": [
    "<img src = 'simpler.jpg' width = 800/>"
   ]
  },
  {
   "cell_type": "markdown",
   "metadata": {},
   "source": [
    "From `count_partitions(6, 3)`, we break down the problem further to `count_partitions(3, 3` and `count_partitions(6, 2)`, and so on.\n",
    "\n",
    "The implementation of `count_partitions` looks as the following,"
   ]
  },
  {
   "cell_type": "code",
   "execution_count": null,
   "metadata": {},
   "outputs": [],
   "source": [
    "else:\n",
    "    # Count the partition of n-m using parts up to size m\n",
    "    with_m = count_partitions(n-m, m)\n",
    "    # The rest\n",
    "    without_m = count_partitions(n, m-1)\n",
    "    # Sum the 2 variables above"
   ]
  },
  {
   "cell_type": "markdown",
   "metadata": {},
   "source": [
    "<img src = 'implement.jpg' width = 800/>"
   ]
  },
  {
   "cell_type": "markdown",
   "metadata": {},
   "source": [
    "For the base case:\n",
    "1. If `n` is 0, then we can only use `0`. There's only 1 way of doing this. --> Return 1\n",
    "2. If `n` < 0, this is impossible. There's no way of doing this  --> Return 0\n",
    "3. If `m` == `0`, then we can't make anything with `0`. --> Return 0\n",
    "    * Note that we can still make `0` with this. This means the `if` statement for `m` == `0` must be placed after `n` == `0`"
   ]
  },
  {
   "cell_type": "code",
   "execution_count": null,
   "metadata": {},
   "outputs": [],
   "source": [
    "def count_partitions(n, m):\n",
    "    if n == 0:\n",
    "        return 1\n",
    "    elif n < 0:\n",
    "        return 0\n",
    "    elif m == 0:\n",
    "        return 0\n",
    "    else:\n",
    "        with_m = count_partition(n-m, m)\n",
    "        without_m = count_partitions(n, m-1)\n",
    "        return with_m + without_m"
   ]
  },
  {
   "cell_type": "markdown",
   "metadata": {},
   "source": [
    "With `count_change`, the maximum partition size `m` is not given. In this case, we can create a helper function that:\n",
    "1. Takes in 2 arguments\n",
    "2. Helps determining the max coin.\n",
    "\n",
    "Instead of starting from a certain `m` and going down, here we start from the smallest, `1`, and go up by multiplying it with `2`."
   ]
  },
  {
   "cell_type": "code",
   "execution_count": null,
   "metadata": {},
   "outputs": [],
   "source": [
    "def count_change(amount):\n",
    "    # m is the maximum partition size\n",
    "    def helper(amount, m):\n",
    "        if amount == 0:\n",
    "            return 1\n",
    "        elif m > amount:\n",
    "            return 0\n",
    "        else:\n",
    "            with_m = helper(amount-m, m)\n",
    "            # Recall that the denomination of the coin is a power of 2\n",
    "            without_m = helper(amount, m * 2)\n",
    "            return with_m + without_m\n",
    "        # We start with the smalles partition size, 1, then the \n",
    "    return helper(amount, 1)"
   ]
  }
 ],
 "metadata": {
  "kernelspec": {
   "display_name": "Python 3",
   "language": "python",
   "name": "python3"
  },
  "language_info": {
   "codemirror_mode": {
    "name": "ipython",
    "version": 3
   },
   "file_extension": ".py",
   "mimetype": "text/x-python",
   "name": "python",
   "nbconvert_exporter": "python",
   "pygments_lexer": "ipython3",
   "version": "3.7.3"
  }
 },
 "nbformat": 4,
 "nbformat_minor": 2
}
