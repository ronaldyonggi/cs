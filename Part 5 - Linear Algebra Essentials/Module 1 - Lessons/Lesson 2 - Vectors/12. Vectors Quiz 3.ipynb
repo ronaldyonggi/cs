{
 "cells": [
  {
   "cell_type": "markdown",
   "metadata": {},
   "source": [
    "The following is a 2D vector:\n",
    "\n",
    "$ \\vec{x} = \\begin{bmatrix} a\\\\ b\\\\ \\end{bmatrix}$"
   ]
  },
  {
   "cell_type": "markdown",
   "metadata": {},
   "source": [
    "## (a)\n",
    "What is the magnitude of $\\alpha \\vec{x}$?\n",
    "\n",
    "### Answer:\n",
    "$$|\\alpha \\vec{x}| = \\sqrt{(\\alpha a)^2 + (\\alpha b^2)}$$\n",
    "$$ = \\sqrt{\\alpha^2 (a^2 + b^2)}$$\n",
    "$$ = \\alpha \\sqrt{a^2 + b^2} $$"
   ]
  },
  {
   "cell_type": "markdown",
   "metadata": {},
   "source": [
    "## (b)\n",
    "\n",
    "If $\\alpha > 0$, will the direction of the resulting vector change?\n",
    "\n",
    "#### Answer:\n",
    "No"
   ]
  },
  {
   "cell_type": "markdown",
   "metadata": {},
   "source": [
    "## (c)\n",
    "If $\\alpha < 0$, by how many degrees will the direction of the resulting vector change?\n",
    "\n",
    "#### Answer:\n",
    "$180^o$"
   ]
  },
  {
   "cell_type": "markdown",
   "metadata": {},
   "source": [
    "## (d)\n",
    "If $-1 < \\alpha < 1$, will $|\\alpha \\vec{x}|$ increase or decrease?\n",
    "\n",
    "#### Answer:\n",
    "decrease"
   ]
  },
  {
   "cell_type": "code",
   "execution_count": null,
   "metadata": {},
   "outputs": [],
   "source": []
  }
 ],
 "metadata": {
  "kernelspec": {
   "display_name": "Python 3",
   "language": "python",
   "name": "python3"
  },
  "language_info": {
   "codemirror_mode": {
    "name": "ipython",
    "version": 3
   },
   "file_extension": ".py",
   "mimetype": "text/x-python",
   "name": "python",
   "nbconvert_exporter": "python",
   "pygments_lexer": "ipython3",
   "version": "3.8.3"
  }
 },
 "nbformat": 4,
 "nbformat_minor": 4
}
