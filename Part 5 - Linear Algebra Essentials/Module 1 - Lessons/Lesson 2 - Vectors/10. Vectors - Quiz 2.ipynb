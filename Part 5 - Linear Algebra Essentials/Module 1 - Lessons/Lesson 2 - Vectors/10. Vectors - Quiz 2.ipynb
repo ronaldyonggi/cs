{
 "cells": [
  {
   "cell_type": "markdown",
   "metadata": {},
   "source": [
    "What is the magnitude of $\\vec{x} + \\vec{y}$?"
   ]
  },
  {
   "cell_type": "markdown",
   "metadata": {},
   "source": [
    "#### 1.\n",
    "$\n",
    "\\begin{bmatrix} 5 \\\\ 1 \\\\\\end{bmatrix} + \\begin{bmatrix} -4 \\\\ -1 \\\\\\end{bmatrix}\n",
    "$\n",
    "\n",
    "$ = \\begin{bmatrix} 1 \\\\ 0 \\\\\\end{bmatrix} $\n",
    "\n",
    "Magnitude of $ \\begin{bmatrix} 1 \\\\ 0 \\\\\\end{bmatrix} $ is $1$"
   ]
  },
  {
   "cell_type": "markdown",
   "metadata": {},
   "source": [
    "#### 2.\n",
    "\n",
    "$\\theta =  tan^{-1} \\frac{y}{x} = tan^{-1} \\frac{0}{1} = 0^o$"
   ]
  },
  {
   "cell_type": "code",
   "execution_count": null,
   "metadata": {},
   "outputs": [],
   "source": []
  }
 ],
 "metadata": {
  "kernelspec": {
   "display_name": "Python 3",
   "language": "python",
   "name": "python3"
  },
  "language_info": {
   "codemirror_mode": {
    "name": "ipython",
    "version": 3
   },
   "file_extension": ".py",
   "mimetype": "text/x-python",
   "name": "python",
   "nbconvert_exporter": "python",
   "pygments_lexer": "ipython3",
   "version": "3.8.3"
  }
 },
 "nbformat": 4,
 "nbformat_minor": 4
}
