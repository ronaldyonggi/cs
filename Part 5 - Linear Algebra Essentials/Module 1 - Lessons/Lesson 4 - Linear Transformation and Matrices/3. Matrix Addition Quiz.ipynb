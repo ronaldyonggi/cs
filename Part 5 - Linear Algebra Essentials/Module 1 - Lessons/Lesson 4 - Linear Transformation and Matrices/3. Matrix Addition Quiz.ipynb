{
 "cells": [
  {
   "cell_type": "markdown",
   "metadata": {},
   "source": [
    "What is the value of the $ij$th element of Matrix $D$ if:\n",
    "\n",
    "$$D = A + B - C$$\n",
    "\n",
    "a. $i=2$, $j=3$\n",
    "\n",
    "b. $i=3$, $j=1$"
   ]
  },
  {
   "cell_type": "markdown",
   "metadata": {},
   "source": [
    "#### (a)\n",
    "\n",
    "$$ 0 + 1.3 - 4 = -2.7$$\n",
    "\n",
    "#### (b)\n",
    "\n",
    "$$ 7 + (-9) - (-7.7) = 5.7 $$"
   ]
  },
  {
   "cell_type": "code",
   "execution_count": null,
   "metadata": {},
   "outputs": [],
   "source": []
  }
 ],
 "metadata": {
  "kernelspec": {
   "display_name": "Python 3",
   "language": "python",
   "name": "python3"
  },
  "language_info": {
   "codemirror_mode": {
    "name": "ipython",
    "version": 3
   },
   "file_extension": ".py",
   "mimetype": "text/x-python",
   "name": "python",
   "nbconvert_exporter": "python",
   "pygments_lexer": "ipython3",
   "version": "3.8.3"
  }
 },
 "nbformat": 4,
 "nbformat_minor": 4
}
