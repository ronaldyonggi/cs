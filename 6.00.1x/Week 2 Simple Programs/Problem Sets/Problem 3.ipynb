{
 "cells": [
  {
   "cell_type": "markdown",
   "metadata": {},
   "source": [
    "You'll notice that in Problem 2, your monthly payment had to be a multiple of $\\$$10. Why did we make it that way? You can try running your code locally so that the payment can be any dollar and cent amount (in other words, the monthly payment is a multiple of $0.01). Does your code still work? It should, but you may notice that your code runs more slowly, especially in cases with very large balances and interest rates. (Note: when your code is running on our servers, there are limits on the amount of computing time each submission is allowed, so your observations from running this experiment on the grading system might be limited to an error message complaining about too much time taken.)\n",
    "\n",
    "Well then, how can we calculate a more accurate fixed monthly payment than we did in Problem 2 without running into the problem of slow code? We can make this program run faster using a technique introduced in lecture - bisection search!\n",
    "\n",
    "The following variables contain values as described below:\n",
    "\n",
    "1. `balance` - the outstanding balance on the credit card\n",
    "2. `annualInterestRate` - annual interest rate as a decimal\n",
    "\n",
    "To recap the problem: we are searching for the smallest monthly payment such that we can pay off the entire balance within a year. What is a reasonable lower bound for this payment value? $0 is the obvious anwer, but you can do better than that. If there was no interest, the debt can be paid off by monthly payments of one-twelfth of the original balance, so we must pay at least this much every month. One-twelfth of the original balance is a good lower bound.\n",
    "\n",
    "What is a good upper bound? Imagine that instead of paying monthly, we paid off the entire balance at the end of the year. What we ultimately pay must be greater than what we would've paid in monthly installments, because the interest was compounded on the balance we didn't pay off each month. So a good upper bound for the monthly payment would be one-twelfth of the balance, after having its interest compounded monthly for an entire year."
   ]
  },
  {
   "cell_type": "code",
   "execution_count": 20,
   "metadata": {},
   "outputs": [
    {
     "name": "stdout",
     "output_type": "stream",
     "text": [
      "Lowest Payment: 29157.09\n"
     ]
    }
   ],
   "source": [
    "balance = 320000\n",
    "annualInterestRate = 0.2\n",
    "monthlyRate = annualInterestRate / 12\n",
    "\n",
    "# Use this function to calculate the remaining balance\n",
    "def remaining(bal, monthly):\n",
    "    unpaid = bal - monthly\n",
    "    for i in range(12):\n",
    "        bal = unpaid * (1 + monthlyRate)\n",
    "        unpaid = bal - monthly\n",
    "    return bal\n",
    "\n",
    "# define lower, upper, and the guess (midpoint)\n",
    "lower = balance / 12\n",
    "upper = balance * (1 + monthlyRate)**12 / 12\n",
    "guess = (lower + upper) / 2\n",
    "\n",
    "# Make sure if lower bound is used to calculate remaining balance,\n",
    "# the result should be positive\n",
    "# lower_remain = remaining(balance, annualInterestRate, lower)\n",
    "\n",
    "# Make sure if upper bound is used to calculate remaining balance,\n",
    "# the result should be negative\n",
    "# upper_remain = remaining(balance, annualInterestRate, upper)\n",
    "\n",
    "# Keep using bisection search as long as remaining balance is \n",
    "# positive or if the remaining balance is negative, it's less than\n",
    "# -0.01\n",
    "remain = remaining(balance, guess)\n",
    "while remain > 0 or abs(remain) > 0.01:\n",
    "    # If the remaining balance is still positive, the guess\n",
    "    # becomes the new lower\n",
    "    if remain> 0:\n",
    "        lower = guess\n",
    "    # Otherwise if the remaining balance is still negative, guess\n",
    "    # becomes the new upper bound\n",
    "    else:\n",
    "        upper = guess\n",
    "    # update guess and remain\n",
    "    guess = (lower + upper) / 2\n",
    "    remain = remaining(balance, guess)\n",
    "    \n",
    "print('Lowest Payment:', round(guess, 2))"
   ]
  }
 ],
 "metadata": {
  "kernelspec": {
   "display_name": "Python 3",
   "language": "python",
   "name": "python3"
  },
  "language_info": {
   "codemirror_mode": {
    "name": "ipython",
    "version": 3
   },
   "file_extension": ".py",
   "mimetype": "text/x-python",
   "name": "python",
   "nbconvert_exporter": "python",
   "pygments_lexer": "ipython3",
   "version": "3.8.5"
  }
 },
 "nbformat": 4,
 "nbformat_minor": 4
}
